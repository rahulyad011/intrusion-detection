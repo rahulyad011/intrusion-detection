{
  "nbformat": 4,
  "nbformat_minor": 0,
  "metadata": {
    "colab": {
      "provenance": [],
      "include_colab_link": true
    },
    "kernelspec": {
      "name": "python3",
      "display_name": "Python 3"
    },
    "language_info": {
      "name": "python"
    }
  },
  "cells": [
    {
      "cell_type": "markdown",
      "metadata": {
        "id": "view-in-github",
        "colab_type": "text"
      },
      "source": [
        "<a href=\"https://colab.research.google.com/github/rahulyad011/intrusion-detection/blob/main/NIDS1_KDD_model_training.ipynb\" target=\"_parent\"><img src=\"https://colab.research.google.com/assets/colab-badge.svg\" alt=\"Open In Colab\"/></a>"
      ]
    },
    {
      "cell_type": "code",
      "execution_count": null,
      "metadata": {
        "id": "qXQ8rUmdwaf4"
      },
      "outputs": [],
      "source": [
        "\n",
        "from sklearn.metrics import accuracy_score # for calculating accuracy of model\n",
        "from sklearn.model_selection import train_test_split # for splitting the dataset for training and testing\n",
        "from sklearn.metrics import classification_report # for generating a classification report of model\n",
        "import pickle # saving and loading trained model\n",
        "from os import path\n",
        "import numpy as np\n",
        "import pandas as pd\n",
        "import matplotlib.pyplot as plt\n",
        "\n",
        "# importing library for support vector machine classifier\n",
        "from sklearn.svm import SVC\n",
        "\n",
        "# MLP requirements \n",
        "from keras.layers import Dense # importing dense layer\n",
        "from keras.models import Sequential #importing Sequential layer\n",
        "from keras.models import model_from_json # saving and loading trained model\n",
        "\n",
        "# LSTM requirements \n",
        "from keras.layers import LSTM\n",
        "from keras.layers import Input\n",
        "from keras.models import Model\n",
        "\n",
        "# evaluation metrices\n",
        "from sklearn.metrics import classification_report\n",
        "from sklearn.metrics import roc_auc_score\n",
        "from sklearn.metrics import roc_curve, auc\n",
        "from sklearn.metrics import precision_score\n",
        "from sklearn.metrics import recall_score\n",
        "from sklearn.metrics import f1_score\n",
        "\n",
        "# representation of model layers\n",
        "from keras.utils.vis_utils import plot_model"
      ]
    },
    {
      "cell_type": "code",
      "source": [
        "bin_data_total = pd.read_csv('/content/drive/MyDrive/Colab_Notebooks/nids_project_data/bin_data_processed.csv')\n",
        "bin_data_total.drop(bin_data_total.columns[0],axis=1,inplace=True)\n",
        "bin_data_total"
      ],
      "metadata": {
        "colab": {
          "base_uri": "https://localhost:8080/",
          "height": 488
        },
        "id": "Pepa9lW8whHh",
        "outputId": "d4af2501-3f3a-4bbf-8fea-d3b5ee38c865"
      },
      "execution_count": null,
      "outputs": [
        {
          "output_type": "execute_result",
          "data": {
            "text/plain": [
              "        protocol_type_icmp  protocol_type_tcp  protocol_type_udp  service_IRC  \\\n",
              "0                        0                  1                  0            0   \n",
              "1                        0                  0                  1            0   \n",
              "2                        0                  1                  0            0   \n",
              "3                        0                  1                  0            0   \n",
              "4                        0                  1                  0            0   \n",
              "...                    ...                ...                ...          ...   \n",
              "125968                   0                  1                  0            0   \n",
              "125969                   0                  0                  1            0   \n",
              "125970                   0                  1                  0            0   \n",
              "125971                   0                  1                  0            0   \n",
              "125972                   0                  1                  0            0   \n",
              "\n",
              "        service_X11  service_Z39_50  service_aol  service_auth  service_bgp  \\\n",
              "0                 0               0            0             0            0   \n",
              "1                 0               0            0             0            0   \n",
              "2                 0               0            0             0            0   \n",
              "3                 0               0            0             0            0   \n",
              "4                 0               0            0             0            0   \n",
              "...             ...             ...          ...           ...          ...   \n",
              "125968            0               0            0             0            0   \n",
              "125969            0               0            0             0            0   \n",
              "125970            0               0            0             0            0   \n",
              "125971            0               0            0             0            0   \n",
              "125972            0               0            0             0            0   \n",
              "\n",
              "        service_courier  ...  dst_host_srv_count  dst_host_same_srv_rate  \\\n",
              "0                     0  ...           -0.818890               -0.782367   \n",
              "1                     0  ...           -1.035688               -1.161030   \n",
              "2                     0  ...           -0.809857               -0.938287   \n",
              "3                     0  ...            1.258754                1.066401   \n",
              "4                     0  ...            1.258754                1.066401   \n",
              "...                 ...  ...                 ...                     ...   \n",
              "125968                0  ...           -0.818890               -0.938287   \n",
              "125969                0  ...            1.159389                0.977304   \n",
              "125970                0  ...           -0.773724               -0.893738   \n",
              "125971                0  ...           -0.972455               -1.094207   \n",
              "125972                0  ...           -0.349162               -0.492801   \n",
              "\n",
              "        dst_host_diff_srv_rate  dst_host_same_src_port_rate  \\\n",
              "0                    -0.280282                     0.069972   \n",
              "1                     2.736852                     2.367737   \n",
              "2                    -0.174417                    -0.480197   \n",
              "3                    -0.439078                    -0.383108   \n",
              "4                    -0.439078                    -0.480197   \n",
              "...                        ...                          ...   \n",
              "125968               -0.121485                    -0.480197   \n",
              "125969               -0.386146                    -0.447834   \n",
              "125970               -0.121485                    -0.480197   \n",
              "125971               -0.174417                    -0.480197   \n",
              "125972               -0.280282                     0.490690   \n",
              "\n",
              "        dst_host_srv_diff_host_rate  dst_host_serror_rate  \\\n",
              "0                         -0.289103             -0.639532   \n",
              "1                         -0.289103             -0.639532   \n",
              "2                         -0.289103              1.608759   \n",
              "3                          0.066252             -0.572083   \n",
              "4                         -0.289103             -0.639532   \n",
              "...                             ...                   ...   \n",
              "125968                    -0.289103              1.608759   \n",
              "125969                    -0.289103             -0.639532   \n",
              "125970                    -0.289103              0.979238   \n",
              "125971                    -0.289103              1.608759   \n",
              "125972                    -0.289103             -0.639532   \n",
              "\n",
              "        dst_host_srv_serror_rate  dst_host_rerror_rate  \\\n",
              "0                      -0.624871             -0.224532   \n",
              "1                      -0.624871             -0.387635   \n",
              "2                       1.618955             -0.387635   \n",
              "3                      -0.602433             -0.387635   \n",
              "4                      -0.624871             -0.387635   \n",
              "...                          ...                   ...   \n",
              "125968                  1.618955             -0.387635   \n",
              "125969                 -0.624871             -0.387635   \n",
              "125970                 -0.624871             -0.355014   \n",
              "125971                  1.618955             -0.387635   \n",
              "125972                 -0.624871             -0.387635   \n",
              "\n",
              "        dst_host_srv_rerror_rate  binary_label  \n",
              "0                      -0.376387             1  \n",
              "1                      -0.376387             1  \n",
              "2                      -0.376387             0  \n",
              "3                      -0.345084             1  \n",
              "4                      -0.376387             1  \n",
              "...                          ...           ...  \n",
              "125968                 -0.376387             0  \n",
              "125969                 -0.376387             1  \n",
              "125970                 -0.376387             1  \n",
              "125971                 -0.376387             0  \n",
              "125972                 -0.376387             1  \n",
              "\n",
              "[125973 rows x 123 columns]"
            ],
            "text/html": [
              "\n",
              "  <div id=\"df-bfbf856c-d67e-44b0-9d43-8e91600c0c32\">\n",
              "    <div class=\"colab-df-container\">\n",
              "      <div>\n",
              "<style scoped>\n",
              "    .dataframe tbody tr th:only-of-type {\n",
              "        vertical-align: middle;\n",
              "    }\n",
              "\n",
              "    .dataframe tbody tr th {\n",
              "        vertical-align: top;\n",
              "    }\n",
              "\n",
              "    .dataframe thead th {\n",
              "        text-align: right;\n",
              "    }\n",
              "</style>\n",
              "<table border=\"1\" class=\"dataframe\">\n",
              "  <thead>\n",
              "    <tr style=\"text-align: right;\">\n",
              "      <th></th>\n",
              "      <th>protocol_type_icmp</th>\n",
              "      <th>protocol_type_tcp</th>\n",
              "      <th>protocol_type_udp</th>\n",
              "      <th>service_IRC</th>\n",
              "      <th>service_X11</th>\n",
              "      <th>service_Z39_50</th>\n",
              "      <th>service_aol</th>\n",
              "      <th>service_auth</th>\n",
              "      <th>service_bgp</th>\n",
              "      <th>service_courier</th>\n",
              "      <th>...</th>\n",
              "      <th>dst_host_srv_count</th>\n",
              "      <th>dst_host_same_srv_rate</th>\n",
              "      <th>dst_host_diff_srv_rate</th>\n",
              "      <th>dst_host_same_src_port_rate</th>\n",
              "      <th>dst_host_srv_diff_host_rate</th>\n",
              "      <th>dst_host_serror_rate</th>\n",
              "      <th>dst_host_srv_serror_rate</th>\n",
              "      <th>dst_host_rerror_rate</th>\n",
              "      <th>dst_host_srv_rerror_rate</th>\n",
              "      <th>binary_label</th>\n",
              "    </tr>\n",
              "  </thead>\n",
              "  <tbody>\n",
              "    <tr>\n",
              "      <th>0</th>\n",
              "      <td>0</td>\n",
              "      <td>1</td>\n",
              "      <td>0</td>\n",
              "      <td>0</td>\n",
              "      <td>0</td>\n",
              "      <td>0</td>\n",
              "      <td>0</td>\n",
              "      <td>0</td>\n",
              "      <td>0</td>\n",
              "      <td>0</td>\n",
              "      <td>...</td>\n",
              "      <td>-0.818890</td>\n",
              "      <td>-0.782367</td>\n",
              "      <td>-0.280282</td>\n",
              "      <td>0.069972</td>\n",
              "      <td>-0.289103</td>\n",
              "      <td>-0.639532</td>\n",
              "      <td>-0.624871</td>\n",
              "      <td>-0.224532</td>\n",
              "      <td>-0.376387</td>\n",
              "      <td>1</td>\n",
              "    </tr>\n",
              "    <tr>\n",
              "      <th>1</th>\n",
              "      <td>0</td>\n",
              "      <td>0</td>\n",
              "      <td>1</td>\n",
              "      <td>0</td>\n",
              "      <td>0</td>\n",
              "      <td>0</td>\n",
              "      <td>0</td>\n",
              "      <td>0</td>\n",
              "      <td>0</td>\n",
              "      <td>0</td>\n",
              "      <td>...</td>\n",
              "      <td>-1.035688</td>\n",
              "      <td>-1.161030</td>\n",
              "      <td>2.736852</td>\n",
              "      <td>2.367737</td>\n",
              "      <td>-0.289103</td>\n",
              "      <td>-0.639532</td>\n",
              "      <td>-0.624871</td>\n",
              "      <td>-0.387635</td>\n",
              "      <td>-0.376387</td>\n",
              "      <td>1</td>\n",
              "    </tr>\n",
              "    <tr>\n",
              "      <th>2</th>\n",
              "      <td>0</td>\n",
              "      <td>1</td>\n",
              "      <td>0</td>\n",
              "      <td>0</td>\n",
              "      <td>0</td>\n",
              "      <td>0</td>\n",
              "      <td>0</td>\n",
              "      <td>0</td>\n",
              "      <td>0</td>\n",
              "      <td>0</td>\n",
              "      <td>...</td>\n",
              "      <td>-0.809857</td>\n",
              "      <td>-0.938287</td>\n",
              "      <td>-0.174417</td>\n",
              "      <td>-0.480197</td>\n",
              "      <td>-0.289103</td>\n",
              "      <td>1.608759</td>\n",
              "      <td>1.618955</td>\n",
              "      <td>-0.387635</td>\n",
              "      <td>-0.376387</td>\n",
              "      <td>0</td>\n",
              "    </tr>\n",
              "    <tr>\n",
              "      <th>3</th>\n",
              "      <td>0</td>\n",
              "      <td>1</td>\n",
              "      <td>0</td>\n",
              "      <td>0</td>\n",
              "      <td>0</td>\n",
              "      <td>0</td>\n",
              "      <td>0</td>\n",
              "      <td>0</td>\n",
              "      <td>0</td>\n",
              "      <td>0</td>\n",
              "      <td>...</td>\n",
              "      <td>1.258754</td>\n",
              "      <td>1.066401</td>\n",
              "      <td>-0.439078</td>\n",
              "      <td>-0.383108</td>\n",
              "      <td>0.066252</td>\n",
              "      <td>-0.572083</td>\n",
              "      <td>-0.602433</td>\n",
              "      <td>-0.387635</td>\n",
              "      <td>-0.345084</td>\n",
              "      <td>1</td>\n",
              "    </tr>\n",
              "    <tr>\n",
              "      <th>4</th>\n",
              "      <td>0</td>\n",
              "      <td>1</td>\n",
              "      <td>0</td>\n",
              "      <td>0</td>\n",
              "      <td>0</td>\n",
              "      <td>0</td>\n",
              "      <td>0</td>\n",
              "      <td>0</td>\n",
              "      <td>0</td>\n",
              "      <td>0</td>\n",
              "      <td>...</td>\n",
              "      <td>1.258754</td>\n",
              "      <td>1.066401</td>\n",
              "      <td>-0.439078</td>\n",
              "      <td>-0.480197</td>\n",
              "      <td>-0.289103</td>\n",
              "      <td>-0.639532</td>\n",
              "      <td>-0.624871</td>\n",
              "      <td>-0.387635</td>\n",
              "      <td>-0.376387</td>\n",
              "      <td>1</td>\n",
              "    </tr>\n",
              "    <tr>\n",
              "      <th>...</th>\n",
              "      <td>...</td>\n",
              "      <td>...</td>\n",
              "      <td>...</td>\n",
              "      <td>...</td>\n",
              "      <td>...</td>\n",
              "      <td>...</td>\n",
              "      <td>...</td>\n",
              "      <td>...</td>\n",
              "      <td>...</td>\n",
              "      <td>...</td>\n",
              "      <td>...</td>\n",
              "      <td>...</td>\n",
              "      <td>...</td>\n",
              "      <td>...</td>\n",
              "      <td>...</td>\n",
              "      <td>...</td>\n",
              "      <td>...</td>\n",
              "      <td>...</td>\n",
              "      <td>...</td>\n",
              "      <td>...</td>\n",
              "      <td>...</td>\n",
              "    </tr>\n",
              "    <tr>\n",
              "      <th>125968</th>\n",
              "      <td>0</td>\n",
              "      <td>1</td>\n",
              "      <td>0</td>\n",
              "      <td>0</td>\n",
              "      <td>0</td>\n",
              "      <td>0</td>\n",
              "      <td>0</td>\n",
              "      <td>0</td>\n",
              "      <td>0</td>\n",
              "      <td>0</td>\n",
              "      <td>...</td>\n",
              "      <td>-0.818890</td>\n",
              "      <td>-0.938287</td>\n",
              "      <td>-0.121485</td>\n",
              "      <td>-0.480197</td>\n",
              "      <td>-0.289103</td>\n",
              "      <td>1.608759</td>\n",
              "      <td>1.618955</td>\n",
              "      <td>-0.387635</td>\n",
              "      <td>-0.376387</td>\n",
              "      <td>0</td>\n",
              "    </tr>\n",
              "    <tr>\n",
              "      <th>125969</th>\n",
              "      <td>0</td>\n",
              "      <td>0</td>\n",
              "      <td>1</td>\n",
              "      <td>0</td>\n",
              "      <td>0</td>\n",
              "      <td>0</td>\n",
              "      <td>0</td>\n",
              "      <td>0</td>\n",
              "      <td>0</td>\n",
              "      <td>0</td>\n",
              "      <td>...</td>\n",
              "      <td>1.159389</td>\n",
              "      <td>0.977304</td>\n",
              "      <td>-0.386146</td>\n",
              "      <td>-0.447834</td>\n",
              "      <td>-0.289103</td>\n",
              "      <td>-0.639532</td>\n",
              "      <td>-0.624871</td>\n",
              "      <td>-0.387635</td>\n",
              "      <td>-0.376387</td>\n",
              "      <td>1</td>\n",
              "    </tr>\n",
              "    <tr>\n",
              "      <th>125970</th>\n",
              "      <td>0</td>\n",
              "      <td>1</td>\n",
              "      <td>0</td>\n",
              "      <td>0</td>\n",
              "      <td>0</td>\n",
              "      <td>0</td>\n",
              "      <td>0</td>\n",
              "      <td>0</td>\n",
              "      <td>0</td>\n",
              "      <td>0</td>\n",
              "      <td>...</td>\n",
              "      <td>-0.773724</td>\n",
              "      <td>-0.893738</td>\n",
              "      <td>-0.121485</td>\n",
              "      <td>-0.480197</td>\n",
              "      <td>-0.289103</td>\n",
              "      <td>0.979238</td>\n",
              "      <td>-0.624871</td>\n",
              "      <td>-0.355014</td>\n",
              "      <td>-0.376387</td>\n",
              "      <td>1</td>\n",
              "    </tr>\n",
              "    <tr>\n",
              "      <th>125971</th>\n",
              "      <td>0</td>\n",
              "      <td>1</td>\n",
              "      <td>0</td>\n",
              "      <td>0</td>\n",
              "      <td>0</td>\n",
              "      <td>0</td>\n",
              "      <td>0</td>\n",
              "      <td>0</td>\n",
              "      <td>0</td>\n",
              "      <td>0</td>\n",
              "      <td>...</td>\n",
              "      <td>-0.972455</td>\n",
              "      <td>-1.094207</td>\n",
              "      <td>-0.174417</td>\n",
              "      <td>-0.480197</td>\n",
              "      <td>-0.289103</td>\n",
              "      <td>1.608759</td>\n",
              "      <td>1.618955</td>\n",
              "      <td>-0.387635</td>\n",
              "      <td>-0.376387</td>\n",
              "      <td>0</td>\n",
              "    </tr>\n",
              "    <tr>\n",
              "      <th>125972</th>\n",
              "      <td>0</td>\n",
              "      <td>1</td>\n",
              "      <td>0</td>\n",
              "      <td>0</td>\n",
              "      <td>0</td>\n",
              "      <td>0</td>\n",
              "      <td>0</td>\n",
              "      <td>0</td>\n",
              "      <td>0</td>\n",
              "      <td>0</td>\n",
              "      <td>...</td>\n",
              "      <td>-0.349162</td>\n",
              "      <td>-0.492801</td>\n",
              "      <td>-0.280282</td>\n",
              "      <td>0.490690</td>\n",
              "      <td>-0.289103</td>\n",
              "      <td>-0.639532</td>\n",
              "      <td>-0.624871</td>\n",
              "      <td>-0.387635</td>\n",
              "      <td>-0.376387</td>\n",
              "      <td>1</td>\n",
              "    </tr>\n",
              "  </tbody>\n",
              "</table>\n",
              "<p>125973 rows × 123 columns</p>\n",
              "</div>\n",
              "      <button class=\"colab-df-convert\" onclick=\"convertToInteractive('df-bfbf856c-d67e-44b0-9d43-8e91600c0c32')\"\n",
              "              title=\"Convert this dataframe to an interactive table.\"\n",
              "              style=\"display:none;\">\n",
              "        \n",
              "  <svg xmlns=\"http://www.w3.org/2000/svg\" height=\"24px\"viewBox=\"0 0 24 24\"\n",
              "       width=\"24px\">\n",
              "    <path d=\"M0 0h24v24H0V0z\" fill=\"none\"/>\n",
              "    <path d=\"M18.56 5.44l.94 2.06.94-2.06 2.06-.94-2.06-.94-.94-2.06-.94 2.06-2.06.94zm-11 1L8.5 8.5l.94-2.06 2.06-.94-2.06-.94L8.5 2.5l-.94 2.06-2.06.94zm10 10l.94 2.06.94-2.06 2.06-.94-2.06-.94-.94-2.06-.94 2.06-2.06.94z\"/><path d=\"M17.41 7.96l-1.37-1.37c-.4-.4-.92-.59-1.43-.59-.52 0-1.04.2-1.43.59L10.3 9.45l-7.72 7.72c-.78.78-.78 2.05 0 2.83L4 21.41c.39.39.9.59 1.41.59.51 0 1.02-.2 1.41-.59l7.78-7.78 2.81-2.81c.8-.78.8-2.07 0-2.86zM5.41 20L4 18.59l7.72-7.72 1.47 1.35L5.41 20z\"/>\n",
              "  </svg>\n",
              "      </button>\n",
              "      \n",
              "  <style>\n",
              "    .colab-df-container {\n",
              "      display:flex;\n",
              "      flex-wrap:wrap;\n",
              "      gap: 12px;\n",
              "    }\n",
              "\n",
              "    .colab-df-convert {\n",
              "      background-color: #E8F0FE;\n",
              "      border: none;\n",
              "      border-radius: 50%;\n",
              "      cursor: pointer;\n",
              "      display: none;\n",
              "      fill: #1967D2;\n",
              "      height: 32px;\n",
              "      padding: 0 0 0 0;\n",
              "      width: 32px;\n",
              "    }\n",
              "\n",
              "    .colab-df-convert:hover {\n",
              "      background-color: #E2EBFA;\n",
              "      box-shadow: 0px 1px 2px rgba(60, 64, 67, 0.3), 0px 1px 3px 1px rgba(60, 64, 67, 0.15);\n",
              "      fill: #174EA6;\n",
              "    }\n",
              "\n",
              "    [theme=dark] .colab-df-convert {\n",
              "      background-color: #3B4455;\n",
              "      fill: #D2E3FC;\n",
              "    }\n",
              "\n",
              "    [theme=dark] .colab-df-convert:hover {\n",
              "      background-color: #434B5C;\n",
              "      box-shadow: 0px 1px 3px 1px rgba(0, 0, 0, 0.15);\n",
              "      filter: drop-shadow(0px 1px 2px rgba(0, 0, 0, 0.3));\n",
              "      fill: #FFFFFF;\n",
              "    }\n",
              "  </style>\n",
              "\n",
              "      <script>\n",
              "        const buttonEl =\n",
              "          document.querySelector('#df-bfbf856c-d67e-44b0-9d43-8e91600c0c32 button.colab-df-convert');\n",
              "        buttonEl.style.display =\n",
              "          google.colab.kernel.accessAllowed ? 'block' : 'none';\n",
              "\n",
              "        async function convertToInteractive(key) {\n",
              "          const element = document.querySelector('#df-bfbf856c-d67e-44b0-9d43-8e91600c0c32');\n",
              "          const dataTable =\n",
              "            await google.colab.kernel.invokeFunction('convertToInteractive',\n",
              "                                                     [key], {});\n",
              "          if (!dataTable) return;\n",
              "\n",
              "          const docLinkHtml = 'Like what you see? Visit the ' +\n",
              "            '<a target=\"_blank\" href=https://colab.research.google.com/notebooks/data_table.ipynb>data table notebook</a>'\n",
              "            + ' to learn more about interactive tables.';\n",
              "          element.innerHTML = '';\n",
              "          dataTable['output_type'] = 'display_data';\n",
              "          await google.colab.output.renderOutput(dataTable, element);\n",
              "          const docLink = document.createElement('div');\n",
              "          docLink.innerHTML = docLinkHtml;\n",
              "          element.appendChild(docLink);\n",
              "        }\n",
              "      </script>\n",
              "    </div>\n",
              "  </div>\n",
              "  "
            ]
          },
          "metadata": {},
          "execution_count": 63
        }
      ]
    },
    {
      "cell_type": "code",
      "source": [
        "# distribution of label class before sampling\n",
        "data_size = bin_data_total.shape[0]\n",
        "# data_size\n",
        "bin_data_total.binary_label.value_counts()/data_size"
      ],
      "metadata": {
        "colab": {
          "base_uri": "https://localhost:8080/"
        },
        "id": "xHCs0B3sKOa_",
        "outputId": "594e45dc-05ff-4114-8cc4-ceb34652941c"
      },
      "execution_count": null,
      "outputs": [
        {
          "output_type": "execute_result",
          "data": {
            "text/plain": [
              "1    0.534583\n",
              "0    0.465417\n",
              "Name: binary_label, dtype: float64"
            ]
          },
          "metadata": {},
          "execution_count": 64
        }
      ]
    },
    {
      "cell_type": "code",
      "source": [
        "# sampling data taking only 20% of the data\n",
        "bin_data = bin_data_total.groupby('binary_label', group_keys=False).apply(lambda x: x.sample(frac=0.2))\n",
        "bin_data"
      ],
      "metadata": {
        "colab": {
          "base_uri": "https://localhost:8080/",
          "height": 488
        },
        "id": "XSTP2AcKJgTF",
        "outputId": "a56568c1-ad7d-4a75-e298-2e5018d8031b"
      },
      "execution_count": null,
      "outputs": [
        {
          "output_type": "execute_result",
          "data": {
            "text/plain": [
              "        protocol_type_icmp  protocol_type_tcp  protocol_type_udp  service_IRC  \\\n",
              "109317                   0                  1                  0            0   \n",
              "88067                    0                  1                  0            0   \n",
              "102948                   0                  1                  0            0   \n",
              "122075                   0                  1                  0            0   \n",
              "14513                    0                  1                  0            0   \n",
              "...                    ...                ...                ...          ...   \n",
              "96997                    0                  1                  0            0   \n",
              "61154                    0                  1                  0            0   \n",
              "36674                    0                  1                  0            0   \n",
              "121097                   0                  1                  0            0   \n",
              "106565                   0                  1                  0            0   \n",
              "\n",
              "        service_X11  service_Z39_50  service_aol  service_auth  service_bgp  \\\n",
              "109317            0               0            0             0            0   \n",
              "88067             0               0            0             0            0   \n",
              "102948            0               0            0             0            0   \n",
              "122075            0               0            0             0            0   \n",
              "14513             0               0            0             0            0   \n",
              "...             ...             ...          ...           ...          ...   \n",
              "96997             0               0            0             0            0   \n",
              "61154             0               0            0             0            0   \n",
              "36674             0               0            0             0            0   \n",
              "121097            0               0            0             0            0   \n",
              "106565            0               0            0             0            0   \n",
              "\n",
              "        service_courier  ...  dst_host_srv_count  dst_host_same_srv_rate  \\\n",
              "109317                0  ...           -0.827923               -0.960561   \n",
              "88067                 0  ...           -0.945355               -1.071933   \n",
              "102948                0  ...           -0.864056               -0.982836   \n",
              "122075                0  ...           -0.990521               -1.116482   \n",
              "14513                 0  ...           -0.909222               -1.027384   \n",
              "...                 ...  ...                 ...                     ...   \n",
              "96997                 0  ...            0.942591                1.066401   \n",
              "61154                 0  ...            1.240688                1.066401   \n",
              "36674                 0  ...            1.258754                1.066401   \n",
              "121097                0  ...           -0.927289               -0.292332   \n",
              "106565                0  ...            1.258754                1.066401   \n",
              "\n",
              "        dst_host_diff_srv_rate  dst_host_same_src_port_rate  \\\n",
              "109317               -0.227350                    -0.480197   \n",
              "88067                 0.037311                    -0.480197   \n",
              "102948               -0.121485                    -0.480197   \n",
              "122075               -0.068553                    -0.480197   \n",
              "14513                -0.121485                    -0.480197   \n",
              "...                        ...                          ...   \n",
              "96997                -0.439078                     2.756092   \n",
              "61154                -0.439078                    -0.286020   \n",
              "36674                -0.439078                    -0.447834   \n",
              "121097               -0.121485                    -0.383108   \n",
              "106565               -0.439078                    -0.221294   \n",
              "\n",
              "        dst_host_srv_diff_host_rate  dst_host_serror_rate  \\\n",
              "109317                    -0.289103              1.608759   \n",
              "88067                     -0.289103              1.608759   \n",
              "102948                    -0.289103              1.608759   \n",
              "122075                    -0.289103              1.608759   \n",
              "14513                     -0.289103              1.608759   \n",
              "...                             ...                   ...   \n",
              "96997                      1.132318             -0.639532   \n",
              "61154                      1.132318             -0.639532   \n",
              "36674                     -0.200265             -0.639532   \n",
              "121097                    -0.289103             -0.639532   \n",
              "106565                    -0.111426             -0.639532   \n",
              "\n",
              "        dst_host_srv_serror_rate  dst_host_rerror_rate  \\\n",
              "109317                  1.618955             -0.387635   \n",
              "88067                   1.618955             -0.387635   \n",
              "102948                  1.618955             -0.387635   \n",
              "122075                  1.618955             -0.387635   \n",
              "14513                   1.618955             -0.387635   \n",
              "...                          ...                   ...   \n",
              "96997                  -0.624871              2.874410   \n",
              "61154                  -0.624871              2.874410   \n",
              "36674                  -0.624871             -0.387635   \n",
              "121097                 -0.624871             -0.387635   \n",
              "106565                 -0.624871             -0.387635   \n",
              "\n",
              "        dst_host_srv_rerror_rate  binary_label  \n",
              "109317                 -0.376387             0  \n",
              "88067                  -0.376387             0  \n",
              "102948                 -0.376387             0  \n",
              "122075                 -0.376387             0  \n",
              "14513                  -0.376387             0  \n",
              "...                          ...           ...  \n",
              "96997                   2.503490             1  \n",
              "61154                   2.691308             1  \n",
              "36674                  -0.376387             1  \n",
              "121097                 -0.376387             1  \n",
              "106565                 -0.376387             1  \n",
              "\n",
              "[25195 rows x 123 columns]"
            ],
            "text/html": [
              "\n",
              "  <div id=\"df-d165ea86-d6b5-485a-85a7-b2b9d8ceb404\">\n",
              "    <div class=\"colab-df-container\">\n",
              "      <div>\n",
              "<style scoped>\n",
              "    .dataframe tbody tr th:only-of-type {\n",
              "        vertical-align: middle;\n",
              "    }\n",
              "\n",
              "    .dataframe tbody tr th {\n",
              "        vertical-align: top;\n",
              "    }\n",
              "\n",
              "    .dataframe thead th {\n",
              "        text-align: right;\n",
              "    }\n",
              "</style>\n",
              "<table border=\"1\" class=\"dataframe\">\n",
              "  <thead>\n",
              "    <tr style=\"text-align: right;\">\n",
              "      <th></th>\n",
              "      <th>protocol_type_icmp</th>\n",
              "      <th>protocol_type_tcp</th>\n",
              "      <th>protocol_type_udp</th>\n",
              "      <th>service_IRC</th>\n",
              "      <th>service_X11</th>\n",
              "      <th>service_Z39_50</th>\n",
              "      <th>service_aol</th>\n",
              "      <th>service_auth</th>\n",
              "      <th>service_bgp</th>\n",
              "      <th>service_courier</th>\n",
              "      <th>...</th>\n",
              "      <th>dst_host_srv_count</th>\n",
              "      <th>dst_host_same_srv_rate</th>\n",
              "      <th>dst_host_diff_srv_rate</th>\n",
              "      <th>dst_host_same_src_port_rate</th>\n",
              "      <th>dst_host_srv_diff_host_rate</th>\n",
              "      <th>dst_host_serror_rate</th>\n",
              "      <th>dst_host_srv_serror_rate</th>\n",
              "      <th>dst_host_rerror_rate</th>\n",
              "      <th>dst_host_srv_rerror_rate</th>\n",
              "      <th>binary_label</th>\n",
              "    </tr>\n",
              "  </thead>\n",
              "  <tbody>\n",
              "    <tr>\n",
              "      <th>109317</th>\n",
              "      <td>0</td>\n",
              "      <td>1</td>\n",
              "      <td>0</td>\n",
              "      <td>0</td>\n",
              "      <td>0</td>\n",
              "      <td>0</td>\n",
              "      <td>0</td>\n",
              "      <td>0</td>\n",
              "      <td>0</td>\n",
              "      <td>0</td>\n",
              "      <td>...</td>\n",
              "      <td>-0.827923</td>\n",
              "      <td>-0.960561</td>\n",
              "      <td>-0.227350</td>\n",
              "      <td>-0.480197</td>\n",
              "      <td>-0.289103</td>\n",
              "      <td>1.608759</td>\n",
              "      <td>1.618955</td>\n",
              "      <td>-0.387635</td>\n",
              "      <td>-0.376387</td>\n",
              "      <td>0</td>\n",
              "    </tr>\n",
              "    <tr>\n",
              "      <th>88067</th>\n",
              "      <td>0</td>\n",
              "      <td>1</td>\n",
              "      <td>0</td>\n",
              "      <td>0</td>\n",
              "      <td>0</td>\n",
              "      <td>0</td>\n",
              "      <td>0</td>\n",
              "      <td>0</td>\n",
              "      <td>0</td>\n",
              "      <td>0</td>\n",
              "      <td>...</td>\n",
              "      <td>-0.945355</td>\n",
              "      <td>-1.071933</td>\n",
              "      <td>0.037311</td>\n",
              "      <td>-0.480197</td>\n",
              "      <td>-0.289103</td>\n",
              "      <td>1.608759</td>\n",
              "      <td>1.618955</td>\n",
              "      <td>-0.387635</td>\n",
              "      <td>-0.376387</td>\n",
              "      <td>0</td>\n",
              "    </tr>\n",
              "    <tr>\n",
              "      <th>102948</th>\n",
              "      <td>0</td>\n",
              "      <td>1</td>\n",
              "      <td>0</td>\n",
              "      <td>0</td>\n",
              "      <td>0</td>\n",
              "      <td>0</td>\n",
              "      <td>0</td>\n",
              "      <td>0</td>\n",
              "      <td>0</td>\n",
              "      <td>0</td>\n",
              "      <td>...</td>\n",
              "      <td>-0.864056</td>\n",
              "      <td>-0.982836</td>\n",
              "      <td>-0.121485</td>\n",
              "      <td>-0.480197</td>\n",
              "      <td>-0.289103</td>\n",
              "      <td>1.608759</td>\n",
              "      <td>1.618955</td>\n",
              "      <td>-0.387635</td>\n",
              "      <td>-0.376387</td>\n",
              "      <td>0</td>\n",
              "    </tr>\n",
              "    <tr>\n",
              "      <th>122075</th>\n",
              "      <td>0</td>\n",
              "      <td>1</td>\n",
              "      <td>0</td>\n",
              "      <td>0</td>\n",
              "      <td>0</td>\n",
              "      <td>0</td>\n",
              "      <td>0</td>\n",
              "      <td>0</td>\n",
              "      <td>0</td>\n",
              "      <td>0</td>\n",
              "      <td>...</td>\n",
              "      <td>-0.990521</td>\n",
              "      <td>-1.116482</td>\n",
              "      <td>-0.068553</td>\n",
              "      <td>-0.480197</td>\n",
              "      <td>-0.289103</td>\n",
              "      <td>1.608759</td>\n",
              "      <td>1.618955</td>\n",
              "      <td>-0.387635</td>\n",
              "      <td>-0.376387</td>\n",
              "      <td>0</td>\n",
              "    </tr>\n",
              "    <tr>\n",
              "      <th>14513</th>\n",
              "      <td>0</td>\n",
              "      <td>1</td>\n",
              "      <td>0</td>\n",
              "      <td>0</td>\n",
              "      <td>0</td>\n",
              "      <td>0</td>\n",
              "      <td>0</td>\n",
              "      <td>0</td>\n",
              "      <td>0</td>\n",
              "      <td>0</td>\n",
              "      <td>...</td>\n",
              "      <td>-0.909222</td>\n",
              "      <td>-1.027384</td>\n",
              "      <td>-0.121485</td>\n",
              "      <td>-0.480197</td>\n",
              "      <td>-0.289103</td>\n",
              "      <td>1.608759</td>\n",
              "      <td>1.618955</td>\n",
              "      <td>-0.387635</td>\n",
              "      <td>-0.376387</td>\n",
              "      <td>0</td>\n",
              "    </tr>\n",
              "    <tr>\n",
              "      <th>...</th>\n",
              "      <td>...</td>\n",
              "      <td>...</td>\n",
              "      <td>...</td>\n",
              "      <td>...</td>\n",
              "      <td>...</td>\n",
              "      <td>...</td>\n",
              "      <td>...</td>\n",
              "      <td>...</td>\n",
              "      <td>...</td>\n",
              "      <td>...</td>\n",
              "      <td>...</td>\n",
              "      <td>...</td>\n",
              "      <td>...</td>\n",
              "      <td>...</td>\n",
              "      <td>...</td>\n",
              "      <td>...</td>\n",
              "      <td>...</td>\n",
              "      <td>...</td>\n",
              "      <td>...</td>\n",
              "      <td>...</td>\n",
              "      <td>...</td>\n",
              "    </tr>\n",
              "    <tr>\n",
              "      <th>96997</th>\n",
              "      <td>0</td>\n",
              "      <td>1</td>\n",
              "      <td>0</td>\n",
              "      <td>0</td>\n",
              "      <td>0</td>\n",
              "      <td>0</td>\n",
              "      <td>0</td>\n",
              "      <td>0</td>\n",
              "      <td>0</td>\n",
              "      <td>0</td>\n",
              "      <td>...</td>\n",
              "      <td>0.942591</td>\n",
              "      <td>1.066401</td>\n",
              "      <td>-0.439078</td>\n",
              "      <td>2.756092</td>\n",
              "      <td>1.132318</td>\n",
              "      <td>-0.639532</td>\n",
              "      <td>-0.624871</td>\n",
              "      <td>2.874410</td>\n",
              "      <td>2.503490</td>\n",
              "      <td>1</td>\n",
              "    </tr>\n",
              "    <tr>\n",
              "      <th>61154</th>\n",
              "      <td>0</td>\n",
              "      <td>1</td>\n",
              "      <td>0</td>\n",
              "      <td>0</td>\n",
              "      <td>0</td>\n",
              "      <td>0</td>\n",
              "      <td>0</td>\n",
              "      <td>0</td>\n",
              "      <td>0</td>\n",
              "      <td>0</td>\n",
              "      <td>...</td>\n",
              "      <td>1.240688</td>\n",
              "      <td>1.066401</td>\n",
              "      <td>-0.439078</td>\n",
              "      <td>-0.286020</td>\n",
              "      <td>1.132318</td>\n",
              "      <td>-0.639532</td>\n",
              "      <td>-0.624871</td>\n",
              "      <td>2.874410</td>\n",
              "      <td>2.691308</td>\n",
              "      <td>1</td>\n",
              "    </tr>\n",
              "    <tr>\n",
              "      <th>36674</th>\n",
              "      <td>0</td>\n",
              "      <td>1</td>\n",
              "      <td>0</td>\n",
              "      <td>0</td>\n",
              "      <td>0</td>\n",
              "      <td>0</td>\n",
              "      <td>0</td>\n",
              "      <td>0</td>\n",
              "      <td>0</td>\n",
              "      <td>0</td>\n",
              "      <td>...</td>\n",
              "      <td>1.258754</td>\n",
              "      <td>1.066401</td>\n",
              "      <td>-0.439078</td>\n",
              "      <td>-0.447834</td>\n",
              "      <td>-0.200265</td>\n",
              "      <td>-0.639532</td>\n",
              "      <td>-0.624871</td>\n",
              "      <td>-0.387635</td>\n",
              "      <td>-0.376387</td>\n",
              "      <td>1</td>\n",
              "    </tr>\n",
              "    <tr>\n",
              "      <th>121097</th>\n",
              "      <td>0</td>\n",
              "      <td>1</td>\n",
              "      <td>0</td>\n",
              "      <td>0</td>\n",
              "      <td>0</td>\n",
              "      <td>0</td>\n",
              "      <td>0</td>\n",
              "      <td>0</td>\n",
              "      <td>0</td>\n",
              "      <td>0</td>\n",
              "      <td>...</td>\n",
              "      <td>-0.927289</td>\n",
              "      <td>-0.292332</td>\n",
              "      <td>-0.121485</td>\n",
              "      <td>-0.383108</td>\n",
              "      <td>-0.289103</td>\n",
              "      <td>-0.639532</td>\n",
              "      <td>-0.624871</td>\n",
              "      <td>-0.387635</td>\n",
              "      <td>-0.376387</td>\n",
              "      <td>1</td>\n",
              "    </tr>\n",
              "    <tr>\n",
              "      <th>106565</th>\n",
              "      <td>0</td>\n",
              "      <td>1</td>\n",
              "      <td>0</td>\n",
              "      <td>0</td>\n",
              "      <td>0</td>\n",
              "      <td>0</td>\n",
              "      <td>0</td>\n",
              "      <td>0</td>\n",
              "      <td>0</td>\n",
              "      <td>0</td>\n",
              "      <td>...</td>\n",
              "      <td>1.258754</td>\n",
              "      <td>1.066401</td>\n",
              "      <td>-0.439078</td>\n",
              "      <td>-0.221294</td>\n",
              "      <td>-0.111426</td>\n",
              "      <td>-0.639532</td>\n",
              "      <td>-0.624871</td>\n",
              "      <td>-0.387635</td>\n",
              "      <td>-0.376387</td>\n",
              "      <td>1</td>\n",
              "    </tr>\n",
              "  </tbody>\n",
              "</table>\n",
              "<p>25195 rows × 123 columns</p>\n",
              "</div>\n",
              "      <button class=\"colab-df-convert\" onclick=\"convertToInteractive('df-d165ea86-d6b5-485a-85a7-b2b9d8ceb404')\"\n",
              "              title=\"Convert this dataframe to an interactive table.\"\n",
              "              style=\"display:none;\">\n",
              "        \n",
              "  <svg xmlns=\"http://www.w3.org/2000/svg\" height=\"24px\"viewBox=\"0 0 24 24\"\n",
              "       width=\"24px\">\n",
              "    <path d=\"M0 0h24v24H0V0z\" fill=\"none\"/>\n",
              "    <path d=\"M18.56 5.44l.94 2.06.94-2.06 2.06-.94-2.06-.94-.94-2.06-.94 2.06-2.06.94zm-11 1L8.5 8.5l.94-2.06 2.06-.94-2.06-.94L8.5 2.5l-.94 2.06-2.06.94zm10 10l.94 2.06.94-2.06 2.06-.94-2.06-.94-.94-2.06-.94 2.06-2.06.94z\"/><path d=\"M17.41 7.96l-1.37-1.37c-.4-.4-.92-.59-1.43-.59-.52 0-1.04.2-1.43.59L10.3 9.45l-7.72 7.72c-.78.78-.78 2.05 0 2.83L4 21.41c.39.39.9.59 1.41.59.51 0 1.02-.2 1.41-.59l7.78-7.78 2.81-2.81c.8-.78.8-2.07 0-2.86zM5.41 20L4 18.59l7.72-7.72 1.47 1.35L5.41 20z\"/>\n",
              "  </svg>\n",
              "      </button>\n",
              "      \n",
              "  <style>\n",
              "    .colab-df-container {\n",
              "      display:flex;\n",
              "      flex-wrap:wrap;\n",
              "      gap: 12px;\n",
              "    }\n",
              "\n",
              "    .colab-df-convert {\n",
              "      background-color: #E8F0FE;\n",
              "      border: none;\n",
              "      border-radius: 50%;\n",
              "      cursor: pointer;\n",
              "      display: none;\n",
              "      fill: #1967D2;\n",
              "      height: 32px;\n",
              "      padding: 0 0 0 0;\n",
              "      width: 32px;\n",
              "    }\n",
              "\n",
              "    .colab-df-convert:hover {\n",
              "      background-color: #E2EBFA;\n",
              "      box-shadow: 0px 1px 2px rgba(60, 64, 67, 0.3), 0px 1px 3px 1px rgba(60, 64, 67, 0.15);\n",
              "      fill: #174EA6;\n",
              "    }\n",
              "\n",
              "    [theme=dark] .colab-df-convert {\n",
              "      background-color: #3B4455;\n",
              "      fill: #D2E3FC;\n",
              "    }\n",
              "\n",
              "    [theme=dark] .colab-df-convert:hover {\n",
              "      background-color: #434B5C;\n",
              "      box-shadow: 0px 1px 3px 1px rgba(0, 0, 0, 0.15);\n",
              "      filter: drop-shadow(0px 1px 2px rgba(0, 0, 0, 0.3));\n",
              "      fill: #FFFFFF;\n",
              "    }\n",
              "  </style>\n",
              "\n",
              "      <script>\n",
              "        const buttonEl =\n",
              "          document.querySelector('#df-d165ea86-d6b5-485a-85a7-b2b9d8ceb404 button.colab-df-convert');\n",
              "        buttonEl.style.display =\n",
              "          google.colab.kernel.accessAllowed ? 'block' : 'none';\n",
              "\n",
              "        async function convertToInteractive(key) {\n",
              "          const element = document.querySelector('#df-d165ea86-d6b5-485a-85a7-b2b9d8ceb404');\n",
              "          const dataTable =\n",
              "            await google.colab.kernel.invokeFunction('convertToInteractive',\n",
              "                                                     [key], {});\n",
              "          if (!dataTable) return;\n",
              "\n",
              "          const docLinkHtml = 'Like what you see? Visit the ' +\n",
              "            '<a target=\"_blank\" href=https://colab.research.google.com/notebooks/data_table.ipynb>data table notebook</a>'\n",
              "            + ' to learn more about interactive tables.';\n",
              "          element.innerHTML = '';\n",
              "          dataTable['output_type'] = 'display_data';\n",
              "          await google.colab.output.renderOutput(dataTable, element);\n",
              "          const docLink = document.createElement('div');\n",
              "          docLink.innerHTML = docLinkHtml;\n",
              "          element.appendChild(docLink);\n",
              "        }\n",
              "      </script>\n",
              "    </div>\n",
              "  </div>\n",
              "  "
            ]
          },
          "metadata": {},
          "execution_count": 65
        }
      ]
    },
    {
      "cell_type": "code",
      "source": [
        "# distribution of label class after sampling\n",
        "data_size = bin_data.shape[0]\n",
        "bin_data.binary_label.value_counts()/data_size"
      ],
      "metadata": {
        "colab": {
          "base_uri": "https://localhost:8080/"
        },
        "id": "nKX2TRG0J85J",
        "outputId": "3b197ab1-1dca-4679-d66f-77a23aca7d34"
      },
      "execution_count": null,
      "outputs": [
        {
          "output_type": "execute_result",
          "data": {
            "text/plain": [
              "1    0.53459\n",
              "0    0.46541\n",
              "Name: binary_label, dtype: float64"
            ]
          },
          "metadata": {},
          "execution_count": 66
        }
      ]
    },
    {
      "cell_type": "code",
      "source": [
        "model_selection = {\n",
        "    0 : \"ALL\",\n",
        "    1 : \"SVM\",\n",
        "    2 : \"MLP\",\n",
        "    3 : \"LSTM\",\n",
        "    4 : \"AE\"\n",
        "}\n",
        "model_flag = 0"
      ],
      "metadata": {
        "id": "L11T2MepDzax"
      },
      "execution_count": null,
      "outputs": []
    },
    {
      "cell_type": "markdown",
      "source": [
        "## **Linear Support Vector Machine Classifier (Binary Classification)**"
      ],
      "metadata": {
        "id": "ZfAbEIDgz4iY"
      }
    },
    {
      "cell_type": "code",
      "source": [
        "X = bin_data.iloc[:,0:122].to_numpy() # dataset excluding target attribute (encoded, one-hot-encoded,original)\n",
        "Y = bin_data['binary_label'] # target attribute"
      ],
      "metadata": {
        "id": "OdRAXVlsxUVW"
      },
      "execution_count": null,
      "outputs": []
    },
    {
      "cell_type": "code",
      "source": [
        "# splitting the dataset 75% for training and 25% testing\n",
        "X_train, X_test, y_train, y_test = train_test_split(X,Y, test_size=0.25, random_state=42) "
      ],
      "metadata": {
        "id": "lFdHHvRtxU5B"
      },
      "execution_count": null,
      "outputs": []
    },
    {
      "cell_type": "code",
      "source": [
        "if model_selection[model_flag]==\"ALL\" or model_selection[model_flag] == \"SVM\":\n",
        "  # using kernel as linear \n",
        "  lsvm = SVC(kernel='linear',gamma='auto') \n",
        "  lsvm.fit(X_train,y_train) # training model on training dataset"
      ],
      "metadata": {
        "id": "o8GdMBjdzFQT"
      },
      "execution_count": null,
      "outputs": []
    },
    {
      "cell_type": "code",
      "source": [
        "if model_selection[model_flag]==\"ALL\" or model_selection[model_flag] == \"SVM\":\n",
        "  pkl_filename = \"/content/drive/MyDrive/Colab_Notebooks/Models/lsvm_binary.pkl\"\n",
        "  if (not path.isfile(pkl_filename)):\n",
        "    # saving the trained model to disk\n",
        "    with open(pkl_filename, 'wb') as file:\n",
        "      pickle.dump(lsvm, file)\n",
        "    print(\"Saved model to disk\")\n",
        "    # loading the trained model from disk\n",
        "    with open(pkl_filename, 'rb') as file:\n",
        "      lsvm = pickle.load(file)\n",
        "    print(\"Loaded model from disk\") "
      ],
      "metadata": {
        "id": "NjfYZA_9zTNK"
      },
      "execution_count": null,
      "outputs": []
    },
    {
      "cell_type": "code",
      "source": [
        "if model_selection[model_flag]==\"ALL\" or model_selection[model_flag] == \"SVM\":\n",
        "  y_pred = lsvm.predict(X_test) # predicting target attribute on testing dataset\n",
        "  ac = accuracy_score(y_test, y_pred)*100 # calculating accuracy of predicted data\n",
        "  print(\"LSVM-Classifier Binary Set-Accuracy is \", ac)"
      ],
      "metadata": {
        "id": "xsnN51Juzgcf",
        "colab": {
          "base_uri": "https://localhost:8080/"
        },
        "outputId": "776ac664-20cc-424f-9dc8-c5e65a3627b7"
      },
      "execution_count": null,
      "outputs": [
        {
          "output_type": "stream",
          "name": "stdout",
          "text": [
            "LSVM-Classifier Binary Set-Accuracy is  97.98380695348467\n"
          ]
        }
      ]
    },
    {
      "cell_type": "code",
      "source": [
        "# import matplotlib.pyplot as plt\n",
        "# from sklearn.datasets import make_classification\n",
        "# from sklearn.metrics import confusion_matrix, ConfusionMatrixDisplay\n",
        "# from sklearn.model_selection import train_test_split\n",
        "# from sklearn.svm import SVC\n",
        "# X, y = make_classification(random_state=0)\n",
        "# X_train, X_test, y_train, y_test = train_test_split(X, y,\n",
        "#                                                     random_state=0)\n",
        "# cm = confusion_matrix(y_test, y_pred, labels=lsvm.classes_)\n",
        "# disp = ConfusionMatrixDisplay(confusion_matrix=cm,\n",
        "#                               display_labels=lsvm.classes_)\n",
        "# disp.plot()\n",
        "\n",
        "# plt.show()"
      ],
      "metadata": {
        "id": "qg2gbJTg8NtL"
      },
      "execution_count": null,
      "outputs": []
    },
    {
      "cell_type": "code",
      "source": [
        "if model_selection[model_flag]==\"ALL\" or model_selection[model_flag] == \"SVM\":\n",
        "  plt.figure(figsize=(20,8))\n",
        "  plt.plot(y_pred[300:500], label=\"prediction\", linewidth=2.0,color='blue')\n",
        "  plt.plot(y_test[300:500].values, label=\"real_values\", linewidth=2.0,color='lightcoral')\n",
        "  plt.legend(loc=\"best\")\n",
        "  plt.ylim((-1,2))\n",
        "  plt.title(\"Linear SVM Binary Classification\")\n",
        "  plt.savefig('/content/drive/MyDrive/Colab_Notebooks/Plots/lsvm_real_pred_bin.png')\n",
        "  plt.show()"
      ],
      "metadata": {
        "id": "9IydNlzT5kx6",
        "colab": {
          "base_uri": "https://localhost:8080/",
          "height": 499
        },
        "outputId": "9bb34995-0478-46c0-8373-e2f6b13eee4f"
      },
      "execution_count": null,
      "outputs": [
        {
          "output_type": "display_data",
          "data": {
            "text/plain": [
              "<Figure size 1440x576 with 1 Axes>"
            ],
            "image/png": "[encoded data removed]"
          },
          "metadata": {
            "needs_background": "light"
          }
        }
      ]
    },
    {
      "cell_type": "code",
      "source": [
        "if model_selection[model_flag]==\"ALL\" or model_selection[model_flag] == \"SVM\":\n",
        "  target_names = ['class 0', 'class 1']\n",
        "  print(classification_report(y_test, y_pred, target_names=target_names))"
      ],
      "metadata": {
        "id": "s9lqoveaUBvg",
        "colab": {
          "base_uri": "https://localhost:8080/"
        },
        "outputId": "e3ea4660-18f1-4965-b0f9-372152eb918d"
      },
      "execution_count": null,
      "outputs": [
        {
          "output_type": "stream",
          "name": "stdout",
          "text": [
            "              precision    recall  f1-score   support\n",
            "\n",
            "     class 0       0.98      0.98      0.98      2951\n",
            "     class 1       0.98      0.98      0.98      3348\n",
            "\n",
            "    accuracy                           0.98      6299\n",
            "   macro avg       0.98      0.98      0.98      6299\n",
            "weighted avg       0.98      0.98      0.98      6299\n",
            "\n"
          ]
        }
      ]
    },
    {
      "cell_type": "markdown",
      "source": [
        "## **Multi Layer Perceptron Classifier (Binary Classification)**"
      ],
      "metadata": {
        "id": "PUjrwY2l0_RI"
      }
    },
    {
      "cell_type": "code",
      "source": [
        "if model_selection[model_flag]==\"ALL\" or model_selection[model_flag] == \"MLP\":\n",
        "  mlp = Sequential() # creating model\n",
        "\n",
        "  # adding input layer and first layer with 50 neurons\n",
        "  mlp.add(Dense(units=50, input_dim=X_train.shape[1], activation='relu'))\n",
        "  # output layer with sigmoid activation\n",
        "  mlp.add(Dense(units=1,activation='sigmoid'))"
      ],
      "metadata": {
        "id": "u9v5Ylpa1DHY"
      },
      "execution_count": null,
      "outputs": []
    },
    {
      "cell_type": "code",
      "source": [
        "if model_selection[model_flag]==\"ALL\" or model_selection[model_flag] == \"MLP\":\n",
        "  # defining loss function, optimizer, metrics and then compiling model\n",
        "  mlp.compile(loss='binary_crossentropy', optimizer='adam', metrics=['accuracy'])"
      ],
      "metadata": {
        "id": "E-9M9d0p1p8s"
      },
      "execution_count": null,
      "outputs": []
    },
    {
      "cell_type": "code",
      "source": [
        "if model_selection[model_flag]==\"ALL\" or model_selection[model_flag] == \"MLP\":\n",
        "  # summary of model layers\n",
        "  mlp.summary()"
      ],
      "metadata": {
        "id": "NK-1_akm1vO9",
        "colab": {
          "base_uri": "https://localhost:8080/"
        },
        "outputId": "722a9e32-2a91-4167-fe9f-81c7a327289f"
      },
      "execution_count": null,
      "outputs": [
        {
          "output_type": "stream",
          "name": "stdout",
          "text": [
            "Model: \"sequential\"\n",
            "_________________________________________________________________\n",
            " Layer (type)                Output Shape              Param #   \n",
            "=================================================================\n",
            " dense_2 (Dense)             (None, 50)                6150      \n",
            "                                                                 \n",
            " dense_3 (Dense)             (None, 1)                 51        \n",
            "                                                                 \n",
            "=================================================================\n",
            "Total params: 6,201\n",
            "Trainable params: 6,201\n",
            "Non-trainable params: 0\n",
            "_________________________________________________________________\n"
          ]
        }
      ]
    },
    {
      "cell_type": "code",
      "source": [
        "if model_selection[model_flag]==\"ALL\" or model_selection[model_flag] == \"MLP\":\n",
        "  # training the model on training dataset\n",
        "  history = mlp.fit(X_train, y_train, epochs=100, batch_size=5000,validation_split=0.2)"
      ],
      "metadata": {
        "id": "UYZ4xCgp13gP",
        "colab": {
          "base_uri": "https://localhost:8080/"
        },
        "outputId": "1b11b966-f235-499e-a370-8c8e422e36d8"
      },
      "execution_count": null,
      "outputs": [
        {
          "output_type": "stream",
          "name": "stdout",
          "text": [
            "Epoch 1/100\n",
            "4/4 [==============================] - 1s 76ms/step - loss: 0.7429 - accuracy: 0.5079 - val_loss: 0.6506 - val_accuracy: 0.5421\n",
            "Epoch 2/100\n",
            "4/4 [==============================] - 0s 19ms/step - loss: 0.6400 - accuracy: 0.5740 - val_loss: 0.5616 - val_accuracy: 0.7952\n",
            "Epoch 3/100\n",
            "4/4 [==============================] - 0s 19ms/step - loss: 0.5538 - accuracy: 0.8139 - val_loss: 0.4886 - val_accuracy: 0.8812\n",
            "Epoch 4/100\n",
            "4/4 [==============================] - 0s 18ms/step - loss: 0.4831 - accuracy: 0.8789 - val_loss: 0.4287 - val_accuracy: 0.9005\n",
            "Epoch 5/100\n",
            "4/4 [==============================] - 0s 17ms/step - loss: 0.4246 - accuracy: 0.8958 - val_loss: 0.3798 - val_accuracy: 0.9116\n",
            "Epoch 6/100\n",
            "4/4 [==============================] - 0s 20ms/step - loss: 0.3769 - accuracy: 0.9123 - val_loss: 0.3400 - val_accuracy: 0.9307\n",
            "Epoch 7/100\n",
            "4/4 [==============================] - 0s 18ms/step - loss: 0.3376 - accuracy: 0.9272 - val_loss: 0.3072 - val_accuracy: 0.9320\n",
            "Epoch 8/100\n",
            "4/4 [==============================] - 0s 20ms/step - loss: 0.3051 - accuracy: 0.9307 - val_loss: 0.2799 - val_accuracy: 0.9362\n",
            "Epoch 9/100\n",
            "4/4 [==============================] - 0s 20ms/step - loss: 0.2777 - accuracy: 0.9344 - val_loss: 0.2566 - val_accuracy: 0.9407\n",
            "Epoch 10/100\n",
            "4/4 [==============================] - 0s 21ms/step - loss: 0.2545 - accuracy: 0.9397 - val_loss: 0.2367 - val_accuracy: 0.9450\n",
            "Epoch 11/100\n",
            "4/4 [==============================] - 0s 18ms/step - loss: 0.2345 - accuracy: 0.9443 - val_loss: 0.2194 - val_accuracy: 0.9495\n",
            "Epoch 12/100\n",
            "4/4 [==============================] - 0s 29ms/step - loss: 0.2172 - accuracy: 0.9473 - val_loss: 0.2045 - val_accuracy: 0.9505\n",
            "Epoch 13/100\n",
            "4/4 [==============================] - 0s 19ms/step - loss: 0.2024 - accuracy: 0.9484 - val_loss: 0.1917 - val_accuracy: 0.9516\n",
            "Epoch 14/100\n",
            "4/4 [==============================] - 0s 20ms/step - loss: 0.1897 - accuracy: 0.9496 - val_loss: 0.1809 - val_accuracy: 0.9529\n",
            "Epoch 15/100\n",
            "4/4 [==============================] - 0s 24ms/step - loss: 0.1791 - accuracy: 0.9519 - val_loss: 0.1718 - val_accuracy: 0.9561\n",
            "Epoch 16/100\n",
            "4/4 [==============================] - 0s 18ms/step - loss: 0.1701 - accuracy: 0.9556 - val_loss: 0.1640 - val_accuracy: 0.9582\n",
            "Epoch 17/100\n",
            "4/4 [==============================] - 0s 19ms/step - loss: 0.1624 - accuracy: 0.9573 - val_loss: 0.1574 - val_accuracy: 0.9582\n",
            "Epoch 18/100\n",
            "4/4 [==============================] - 0s 17ms/step - loss: 0.1557 - accuracy: 0.9580 - val_loss: 0.1516 - val_accuracy: 0.9590\n",
            "Epoch 19/100\n",
            "4/4 [==============================] - 0s 18ms/step - loss: 0.1499 - accuracy: 0.9588 - val_loss: 0.1466 - val_accuracy: 0.9590\n",
            "Epoch 20/100\n",
            "4/4 [==============================] - 0s 20ms/step - loss: 0.1449 - accuracy: 0.9593 - val_loss: 0.1422 - val_accuracy: 0.9593\n",
            "Epoch 21/100\n",
            "4/4 [==============================] - 0s 18ms/step - loss: 0.1405 - accuracy: 0.9604 - val_loss: 0.1384 - val_accuracy: 0.9601\n",
            "Epoch 22/100\n",
            "4/4 [==============================] - 0s 24ms/step - loss: 0.1366 - accuracy: 0.9621 - val_loss: 0.1349 - val_accuracy: 0.9606\n",
            "Epoch 23/100\n",
            "4/4 [==============================] - 0s 18ms/step - loss: 0.1330 - accuracy: 0.9629 - val_loss: 0.1317 - val_accuracy: 0.9614\n",
            "Epoch 24/100\n",
            "4/4 [==============================] - 0s 22ms/step - loss: 0.1297 - accuracy: 0.9639 - val_loss: 0.1287 - val_accuracy: 0.9622\n",
            "Epoch 25/100\n",
            "4/4 [==============================] - 0s 19ms/step - loss: 0.1267 - accuracy: 0.9642 - val_loss: 0.1260 - val_accuracy: 0.9627\n",
            "Epoch 26/100\n",
            "4/4 [==============================] - 0s 23ms/step - loss: 0.1239 - accuracy: 0.9651 - val_loss: 0.1235 - val_accuracy: 0.9643\n",
            "Epoch 27/100\n",
            "4/4 [==============================] - 0s 19ms/step - loss: 0.1213 - accuracy: 0.9658 - val_loss: 0.1212 - val_accuracy: 0.9646\n",
            "Epoch 28/100\n",
            "4/4 [==============================] - 0s 18ms/step - loss: 0.1190 - accuracy: 0.9667 - val_loss: 0.1190 - val_accuracy: 0.9656\n",
            "Epoch 29/100\n",
            "4/4 [==============================] - 0s 27ms/step - loss: 0.1168 - accuracy: 0.9675 - val_loss: 0.1170 - val_accuracy: 0.9661\n",
            "Epoch 30/100\n",
            "4/4 [==============================] - 0s 29ms/step - loss: 0.1149 - accuracy: 0.9679 - val_loss: 0.1153 - val_accuracy: 0.9667\n",
            "Epoch 31/100\n",
            "4/4 [==============================] - 0s 25ms/step - loss: 0.1131 - accuracy: 0.9684 - val_loss: 0.1136 - val_accuracy: 0.9675\n",
            "Epoch 32/100\n",
            "4/4 [==============================] - 0s 33ms/step - loss: 0.1114 - accuracy: 0.9688 - val_loss: 0.1119 - val_accuracy: 0.9677\n",
            "Epoch 33/100\n",
            "4/4 [==============================] - 0s 32ms/step - loss: 0.1097 - accuracy: 0.9691 - val_loss: 0.1103 - val_accuracy: 0.9677\n",
            "Epoch 34/100\n",
            "4/4 [==============================] - 0s 27ms/step - loss: 0.1081 - accuracy: 0.9692 - val_loss: 0.1088 - val_accuracy: 0.9680\n",
            "Epoch 35/100\n",
            "4/4 [==============================] - 0s 29ms/step - loss: 0.1065 - accuracy: 0.9695 - val_loss: 0.1074 - val_accuracy: 0.9677\n",
            "Epoch 36/100\n",
            "4/4 [==============================] - 0s 30ms/step - loss: 0.1050 - accuracy: 0.9700 - val_loss: 0.1061 - val_accuracy: 0.9664\n",
            "Epoch 37/100\n",
            "4/4 [==============================] - 0s 26ms/step - loss: 0.1036 - accuracy: 0.9696 - val_loss: 0.1049 - val_accuracy: 0.9667\n",
            "Epoch 38/100\n",
            "4/4 [==============================] - 0s 30ms/step - loss: 0.1023 - accuracy: 0.9699 - val_loss: 0.1036 - val_accuracy: 0.9669\n",
            "Epoch 39/100\n",
            "4/4 [==============================] - 0s 25ms/step - loss: 0.1010 - accuracy: 0.9700 - val_loss: 0.1025 - val_accuracy: 0.9667\n",
            "Epoch 40/100\n",
            "4/4 [==============================] - 0s 32ms/step - loss: 0.0997 - accuracy: 0.9701 - val_loss: 0.1013 - val_accuracy: 0.9664\n",
            "Epoch 41/100\n",
            "4/4 [==============================] - 0s 28ms/step - loss: 0.0985 - accuracy: 0.9703 - val_loss: 0.1001 - val_accuracy: 0.9677\n",
            "Epoch 42/100\n",
            "4/4 [==============================] - 0s 32ms/step - loss: 0.0974 - accuracy: 0.9705 - val_loss: 0.0990 - val_accuracy: 0.9680\n",
            "Epoch 43/100\n",
            "4/4 [==============================] - 0s 34ms/step - loss: 0.0963 - accuracy: 0.9706 - val_loss: 0.0980 - val_accuracy: 0.9688\n",
            "Epoch 44/100\n",
            "4/4 [==============================] - 0s 35ms/step - loss: 0.0953 - accuracy: 0.9706 - val_loss: 0.0970 - val_accuracy: 0.9690\n",
            "Epoch 45/100\n",
            "4/4 [==============================] - 0s 28ms/step - loss: 0.0942 - accuracy: 0.9706 - val_loss: 0.0960 - val_accuracy: 0.9698\n",
            "Epoch 46/100\n",
            "4/4 [==============================] - 0s 27ms/step - loss: 0.0933 - accuracy: 0.9708 - val_loss: 0.0950 - val_accuracy: 0.9709\n",
            "Epoch 47/100\n",
            "4/4 [==============================] - 0s 31ms/step - loss: 0.0923 - accuracy: 0.9713 - val_loss: 0.0942 - val_accuracy: 0.9712\n",
            "Epoch 48/100\n",
            "4/4 [==============================] - 0s 29ms/step - loss: 0.0915 - accuracy: 0.9723 - val_loss: 0.0934 - val_accuracy: 0.9712\n",
            "Epoch 49/100\n",
            "4/4 [==============================] - 0s 27ms/step - loss: 0.0906 - accuracy: 0.9725 - val_loss: 0.0926 - val_accuracy: 0.9717\n",
            "Epoch 50/100\n",
            "4/4 [==============================] - 0s 30ms/step - loss: 0.0897 - accuracy: 0.9725 - val_loss: 0.0918 - val_accuracy: 0.9717\n",
            "Epoch 51/100\n",
            "4/4 [==============================] - 0s 28ms/step - loss: 0.0889 - accuracy: 0.9726 - val_loss: 0.0911 - val_accuracy: 0.9720\n",
            "Epoch 52/100\n",
            "4/4 [==============================] - 0s 26ms/step - loss: 0.0880 - accuracy: 0.9728 - val_loss: 0.0903 - val_accuracy: 0.9720\n",
            "Epoch 53/100\n",
            "4/4 [==============================] - 0s 34ms/step - loss: 0.0873 - accuracy: 0.9729 - val_loss: 0.0897 - val_accuracy: 0.9728\n",
            "Epoch 54/100\n",
            "4/4 [==============================] - 0s 30ms/step - loss: 0.0867 - accuracy: 0.9731 - val_loss: 0.0892 - val_accuracy: 0.9722\n",
            "Epoch 55/100\n",
            "4/4 [==============================] - 0s 29ms/step - loss: 0.0862 - accuracy: 0.9730 - val_loss: 0.0886 - val_accuracy: 0.9722\n",
            "Epoch 56/100\n",
            "4/4 [==============================] - 0s 31ms/step - loss: 0.0856 - accuracy: 0.9731 - val_loss: 0.0880 - val_accuracy: 0.9722\n",
            "Epoch 57/100\n",
            "4/4 [==============================] - 0s 31ms/step - loss: 0.0848 - accuracy: 0.9733 - val_loss: 0.0872 - val_accuracy: 0.9722\n",
            "Epoch 58/100\n",
            "4/4 [==============================] - 0s 32ms/step - loss: 0.0841 - accuracy: 0.9735 - val_loss: 0.0865 - val_accuracy: 0.9725\n",
            "Epoch 59/100\n",
            "4/4 [==============================] - 0s 35ms/step - loss: 0.0833 - accuracy: 0.9735 - val_loss: 0.0858 - val_accuracy: 0.9735\n",
            "Epoch 60/100\n",
            "4/4 [==============================] - 0s 29ms/step - loss: 0.0824 - accuracy: 0.9739 - val_loss: 0.0852 - val_accuracy: 0.9725\n",
            "Epoch 61/100\n",
            "4/4 [==============================] - 0s 30ms/step - loss: 0.0817 - accuracy: 0.9731 - val_loss: 0.0846 - val_accuracy: 0.9717\n",
            "Epoch 62/100\n",
            "4/4 [==============================] - 0s 33ms/step - loss: 0.0810 - accuracy: 0.9733 - val_loss: 0.0842 - val_accuracy: 0.9717\n",
            "Epoch 63/100\n",
            "4/4 [==============================] - 0s 30ms/step - loss: 0.0804 - accuracy: 0.9737 - val_loss: 0.0839 - val_accuracy: 0.9720\n",
            "Epoch 64/100\n",
            "4/4 [==============================] - 0s 28ms/step - loss: 0.0799 - accuracy: 0.9737 - val_loss: 0.0834 - val_accuracy: 0.9720\n",
            "Epoch 65/100\n",
            "4/4 [==============================] - 0s 36ms/step - loss: 0.0793 - accuracy: 0.9741 - val_loss: 0.0828 - val_accuracy: 0.9725\n",
            "Epoch 66/100\n",
            "4/4 [==============================] - 0s 28ms/step - loss: 0.0787 - accuracy: 0.9742 - val_loss: 0.0822 - val_accuracy: 0.9725\n",
            "Epoch 67/100\n",
            "4/4 [==============================] - 0s 32ms/step - loss: 0.0780 - accuracy: 0.9748 - val_loss: 0.0816 - val_accuracy: 0.9725\n",
            "Epoch 68/100\n",
            "4/4 [==============================] - 0s 27ms/step - loss: 0.0774 - accuracy: 0.9752 - val_loss: 0.0811 - val_accuracy: 0.9728\n",
            "Epoch 69/100\n",
            "4/4 [==============================] - 0s 24ms/step - loss: 0.0768 - accuracy: 0.9755 - val_loss: 0.0805 - val_accuracy: 0.9722\n",
            "Epoch 70/100\n",
            "4/4 [==============================] - 0s 23ms/step - loss: 0.0761 - accuracy: 0.9755 - val_loss: 0.0799 - val_accuracy: 0.9720\n",
            "Epoch 71/100\n",
            "4/4 [==============================] - 0s 18ms/step - loss: 0.0756 - accuracy: 0.9754 - val_loss: 0.0793 - val_accuracy: 0.9725\n",
            "Epoch 72/100\n",
            "4/4 [==============================] - 0s 25ms/step - loss: 0.0750 - accuracy: 0.9758 - val_loss: 0.0789 - val_accuracy: 0.9733\n",
            "Epoch 73/100\n",
            "4/4 [==============================] - 0s 18ms/step - loss: 0.0745 - accuracy: 0.9755 - val_loss: 0.0784 - val_accuracy: 0.9738\n",
            "Epoch 74/100\n",
            "4/4 [==============================] - 0s 19ms/step - loss: 0.0739 - accuracy: 0.9765 - val_loss: 0.0779 - val_accuracy: 0.9738\n",
            "Epoch 75/100\n",
            "4/4 [==============================] - 0s 17ms/step - loss: 0.0734 - accuracy: 0.9771 - val_loss: 0.0773 - val_accuracy: 0.9738\n",
            "Epoch 76/100\n",
            "4/4 [==============================] - 0s 20ms/step - loss: 0.0728 - accuracy: 0.9772 - val_loss: 0.0766 - val_accuracy: 0.9738\n",
            "Epoch 77/100\n",
            "4/4 [==============================] - 0s 18ms/step - loss: 0.0722 - accuracy: 0.9772 - val_loss: 0.0760 - val_accuracy: 0.9738\n",
            "Epoch 78/100\n",
            "4/4 [==============================] - 0s 19ms/step - loss: 0.0716 - accuracy: 0.9772 - val_loss: 0.0754 - val_accuracy: 0.9741\n",
            "Epoch 79/100\n",
            "4/4 [==============================] - 0s 23ms/step - loss: 0.0711 - accuracy: 0.9772 - val_loss: 0.0748 - val_accuracy: 0.9741\n",
            "Epoch 80/100\n",
            "4/4 [==============================] - 0s 20ms/step - loss: 0.0705 - accuracy: 0.9771 - val_loss: 0.0742 - val_accuracy: 0.9741\n",
            "Epoch 81/100\n",
            "4/4 [==============================] - 0s 23ms/step - loss: 0.0701 - accuracy: 0.9773 - val_loss: 0.0737 - val_accuracy: 0.9741\n",
            "Epoch 82/100\n",
            "4/4 [==============================] - 0s 18ms/step - loss: 0.0696 - accuracy: 0.9772 - val_loss: 0.0732 - val_accuracy: 0.9735\n",
            "Epoch 83/100\n",
            "4/4 [==============================] - 0s 18ms/step - loss: 0.0691 - accuracy: 0.9770 - val_loss: 0.0728 - val_accuracy: 0.9738\n",
            "Epoch 84/100\n",
            "4/4 [==============================] - 0s 18ms/step - loss: 0.0686 - accuracy: 0.9772 - val_loss: 0.0724 - val_accuracy: 0.9743\n",
            "Epoch 85/100\n",
            "4/4 [==============================] - 0s 21ms/step - loss: 0.0680 - accuracy: 0.9772 - val_loss: 0.0720 - val_accuracy: 0.9741\n",
            "Epoch 86/100\n",
            "4/4 [==============================] - 0s 18ms/step - loss: 0.0676 - accuracy: 0.9774 - val_loss: 0.0716 - val_accuracy: 0.9743\n",
            "Epoch 87/100\n",
            "4/4 [==============================] - 0s 19ms/step - loss: 0.0671 - accuracy: 0.9779 - val_loss: 0.0712 - val_accuracy: 0.9751\n",
            "Epoch 88/100\n",
            "4/4 [==============================] - 0s 18ms/step - loss: 0.0666 - accuracy: 0.9781 - val_loss: 0.0708 - val_accuracy: 0.9746\n",
            "Epoch 89/100\n",
            "4/4 [==============================] - 0s 20ms/step - loss: 0.0662 - accuracy: 0.9784 - val_loss: 0.0705 - val_accuracy: 0.9757\n",
            "Epoch 90/100\n",
            "4/4 [==============================] - 0s 19ms/step - loss: 0.0657 - accuracy: 0.9788 - val_loss: 0.0700 - val_accuracy: 0.9759\n",
            "Epoch 91/100\n",
            "4/4 [==============================] - 0s 24ms/step - loss: 0.0652 - accuracy: 0.9792 - val_loss: 0.0695 - val_accuracy: 0.9762\n",
            "Epoch 92/100\n",
            "4/4 [==============================] - 0s 18ms/step - loss: 0.0648 - accuracy: 0.9797 - val_loss: 0.0690 - val_accuracy: 0.9770\n",
            "Epoch 93/100\n",
            "4/4 [==============================] - 0s 21ms/step - loss: 0.0643 - accuracy: 0.9799 - val_loss: 0.0685 - val_accuracy: 0.9765\n",
            "Epoch 94/100\n",
            "4/4 [==============================] - 0s 18ms/step - loss: 0.0638 - accuracy: 0.9796 - val_loss: 0.0680 - val_accuracy: 0.9762\n",
            "Epoch 95/100\n",
            "4/4 [==============================] - 0s 24ms/step - loss: 0.0634 - accuracy: 0.9796 - val_loss: 0.0676 - val_accuracy: 0.9762\n",
            "Epoch 96/100\n",
            "4/4 [==============================] - 0s 18ms/step - loss: 0.0629 - accuracy: 0.9796 - val_loss: 0.0672 - val_accuracy: 0.9762\n",
            "Epoch 97/100\n",
            "4/4 [==============================] - 0s 18ms/step - loss: 0.0624 - accuracy: 0.9796 - val_loss: 0.0667 - val_accuracy: 0.9762\n",
            "Epoch 98/100\n",
            "4/4 [==============================] - 0s 27ms/step - loss: 0.0619 - accuracy: 0.9795 - val_loss: 0.0662 - val_accuracy: 0.9759\n",
            "Epoch 99/100\n",
            "4/4 [==============================] - 0s 19ms/step - loss: 0.0614 - accuracy: 0.9795 - val_loss: 0.0658 - val_accuracy: 0.9765\n",
            "Epoch 100/100\n",
            "4/4 [==============================] - 0s 17ms/step - loss: 0.0610 - accuracy: 0.9799 - val_loss: 0.0656 - val_accuracy: 0.9772\n"
          ]
        }
      ]
    },
    {
      "cell_type": "code",
      "source": [
        "if model_selection[model_flag]==\"ALL\" or model_selection[model_flag] == \"MLP\":\n",
        "  filepath = '/content/drive/MyDrive/Colab_Notebooks/Models/mlp_binary.json'\n",
        "  weightspath = '/content/drive/MyDrive/Colab_Notebooks/Weights/mlp_binary.h5'\n",
        "  if (not path.isfile(filepath)):\n",
        "    # serialize model to JSON\n",
        "    mlp_json = mlp.to_json()\n",
        "    with open(filepath, \"w\") as json_file:\n",
        "      json_file.write(mlp_json)\n",
        "\n",
        "    # serialize weights to HDF5\n",
        "    mlp.save_weights(weightspath)\n",
        "    print(\"Saved model to disk\")\n",
        "\n",
        "    # load json and create model\n",
        "    json_file = open(filepath, 'r')\n",
        "    loaded_model_json = json_file.read()\n",
        "    json_file.close()\n",
        "    mlp = model_from_json(loaded_model_json)\n",
        "\n",
        "    # load weights into new model\n",
        "    mlp.load_weights(weightspath)\n",
        "    print(\"Loaded model from disk\")"
      ],
      "metadata": {
        "id": "_n_gNs3p1_M-"
      },
      "execution_count": null,
      "outputs": []
    },
    {
      "cell_type": "code",
      "source": [
        "if model_selection[model_flag]==\"ALL\" or model_selection[model_flag] == \"MLP\":\n",
        "  # defining loss function, optimizer, metrics and then compiling model\n",
        "  mlp.compile(loss='binary_crossentropy', optimizer='adam', metrics=['accuracy'])"
      ],
      "metadata": {
        "id": "G99OrVcT2JON"
      },
      "execution_count": null,
      "outputs": []
    },
    {
      "cell_type": "code",
      "source": [
        "if model_selection[model_flag]==\"ALL\" or model_selection[model_flag] == \"MLP\":\n",
        "  # predicting target attribute on testing dataset\n",
        "  test_results = mlp.evaluate(X_test, y_test, verbose=1)\n",
        "  print(f'Test results - Loss: {test_results[0]} - Accuracy: {test_results[1]*100}')"
      ],
      "metadata": {
        "id": "AXUA0T2N2OIB",
        "colab": {
          "base_uri": "https://localhost:8080/"
        },
        "outputId": "ed1bbf4f-75fb-4905-d2b7-e605107274f7"
      },
      "execution_count": null,
      "outputs": [
        {
          "output_type": "stream",
          "name": "stdout",
          "text": [
            "197/197 [==============================] - 1s 2ms/step - loss: 0.0647 - accuracy: 0.9803\n",
            "Test results - Loss: 0.06466667354106903 - Accuracy: 98.0314314365387\n"
          ]
        }
      ]
    },
    {
      "cell_type": "code",
      "source": [
        "if model_selection[model_flag]==\"ALL\" or model_selection[model_flag] == \"MLP\":  \n",
        "  # Plot of accuracy vs epoch of train and test dataset\n",
        "  plt.plot(history.history['accuracy'])\n",
        "  plt.plot(history.history['val_accuracy'])\n",
        "  plt.title(\"Plot of accuracy vs epoch for train and test dataset\")\n",
        "  plt.ylabel('accuracy')\n",
        "  plt.xlabel('epoch')\n",
        "  plt.legend(['train', 'test'], loc='best')\n",
        "  plt.savefig('/content/drive/MyDrive/Colab_Notebooks/Plots/mlp_binary_accuracy.png')\n",
        "  plt.show()"
      ],
      "metadata": {
        "id": "StFTrhE65_-q",
        "colab": {
          "base_uri": "https://localhost:8080/",
          "height": 295
        },
        "outputId": "2aedf720-f885-4875-b812-de069e94c6c6"
      },
      "execution_count": null,
      "outputs": [
        {
          "output_type": "display_data",
          "data": {
            "text/plain": [
              "<Figure size 432x288 with 1 Axes>"
            ],
            "image/png": "[encoded data removed]"
          },
          "metadata": {
            "needs_background": "light"
          }
        }
      ]
    },
    {
      "cell_type": "code",
      "source": [
        "if model_selection[model_flag]==\"ALL\" or model_selection[model_flag] == \"MLP\":\n",
        "  # Plot of loss vs epoch of train and test dataset\n",
        "  plt.plot(history.history['loss'])\n",
        "  plt.plot(history.history['val_loss'])\n",
        "  plt.title('Plot of loss vs epoch for train and test dataset')\n",
        "  plt.ylabel('loss')\n",
        "  plt.xlabel('epoch')\n",
        "  plt.legend(['train', 'test'], loc='best')\n",
        "  plt.savefig('/content/drive/MyDrive/Colab_Notebooks/Plots/mlp_binary_loss.png')\n",
        "  plt.show()"
      ],
      "metadata": {
        "id": "rZes4PzY6JUq",
        "colab": {
          "base_uri": "https://localhost:8080/",
          "height": 295
        },
        "outputId": "fc56134b-baf5-454e-bc0b-e210ba329694"
      },
      "execution_count": null,
      "outputs": [
        {
          "output_type": "display_data",
          "data": {
            "text/plain": [
              "<Figure size 432x288 with 1 Axes>"
            ],
            "image/png": "[encoded data removed]"
          },
          "metadata": {
            "needs_background": "light"
          }
        }
      ]
    },
    {
      "cell_type": "code",
      "source": [
        "if model_selection[model_flag]==\"ALL\" or model_selection[model_flag] == \"MLP\":\n",
        "  # representation of model layers\n",
        "  from keras.utils.vis_utils import plot_model\n",
        "  plot_model(mlp, to_file='/content/drive/MyDrive/Colab_Notebooks/Plots/mlp_binary.png', show_shapes=True,)"
      ],
      "metadata": {
        "id": "mC0nj-on6iRU"
      },
      "execution_count": null,
      "outputs": []
    },
    {
      "cell_type": "code",
      "source": [
        "if model_selection[model_flag]==\"ALL\" or model_selection[model_flag] == \"MLP\":\n",
        "  y_pred = mlp.predict(X_test).ravel()\n",
        "  fpr, tpr, thresholds = roc_curve(y_test, y_pred)\n",
        "  auc = auc(fpr, tpr)"
      ],
      "metadata": {
        "id": "oxHdln0c6Xi_",
        "colab": {
          "base_uri": "https://localhost:8080/"
        },
        "outputId": "581cafcd-a939-4afc-e83d-768be81c82f9"
      },
      "execution_count": null,
      "outputs": [
        {
          "output_type": "stream",
          "name": "stdout",
          "text": [
            "197/197 [==============================] - 0s 2ms/step\n"
          ]
        }
      ]
    },
    {
      "cell_type": "code",
      "source": [
        "if model_selection[model_flag]==\"ALL\" or model_selection[model_flag] == \"MLP\":\n",
        "  plt.plot([0, 1], [0, 1], 'k--')\n",
        "  plt.plot(fpr, tpr, label='Keras (area = {:.3f})'.format(auc))\n",
        "  plt.xlabel('False positive rate')\n",
        "  plt.ylabel('True positive rate')\n",
        "  plt.title('ROC curve')\n",
        "  plt.legend(loc='best')\n",
        "  plt.savefig('/content/drive/MyDrive/Colab_Notebooks/Plots/mlp_binary_roc.png')\n",
        "  plt.show()"
      ],
      "metadata": {
        "id": "Cr36q9Z-6aRU",
        "colab": {
          "base_uri": "https://localhost:8080/",
          "height": 295
        },
        "outputId": "f6862271-0d0a-446f-e8da-184c341889e4"
      },
      "execution_count": null,
      "outputs": [
        {
          "output_type": "display_data",
          "data": {
            "text/plain": [
              "<Figure size 432x288 with 1 Axes>"
            ],
            "image/png": "[encoded data removed]"
          },
          "metadata": {
            "needs_background": "light"
          }
        }
      ]
    },
    {
      "cell_type": "code",
      "source": [
        "# real_data_kdd = bin_data.copy()\n",
        "\n",
        "# # Names of the columns that are discrete\n",
        "# cat_cols = real_data_kdd.select_dtypes(['object']).columns\n",
        "# # cat_cols\n",
        "# test_data = real_data_kdd.iloc[:999]\n",
        "\n",
        "# corr= test_data.corr()\n",
        "# corr_y = abs(corr['binary_label'])\n",
        "# highest_corr = corr_y\n",
        "# highest_corr.sort_values(ascending=True)"
      ],
      "metadata": {
        "id": "U9f2bWPwFljk"
      },
      "execution_count": null,
      "outputs": []
    },
    {
      "cell_type": "code",
      "source": [
        "if model_selection[model_flag]==\"ALL\" or model_selection[model_flag] == \"MLP\":\n",
        "  y_classes = (mlp.predict(X_test)>0.5).astype('int32')"
      ],
      "metadata": {
        "colab": {
          "base_uri": "https://localhost:8080/"
        },
        "id": "8-clVdUoUPa-",
        "outputId": "b0777af5-f5cb-462d-f383-6ed530a3c2a7"
      },
      "execution_count": null,
      "outputs": [
        {
          "output_type": "stream",
          "name": "stdout",
          "text": [
            "197/197 [==============================] - 0s 1ms/step\n"
          ]
        }
      ]
    },
    {
      "cell_type": "code",
      "source": [
        "if model_selection[model_flag]==\"ALL\" or model_selection[model_flag] == \"MLP\":\n",
        "  print(\"Recall Score - \",recall_score(y_test,y_classes))\n",
        "  print(\"F1 Score - \",f1_score(y_test,y_classes))\n",
        "  print(\"Precision Score - \",precision_score(y_test,y_classes))"
      ],
      "metadata": {
        "colab": {
          "base_uri": "https://localhost:8080/"
        },
        "id": "0jcFqEqFT-uq",
        "outputId": "4101c6ae-805c-45b0-e513-093c47005290"
      },
      "execution_count": null,
      "outputs": [
        {
          "output_type": "stream",
          "name": "stdout",
          "text": [
            "Recall Score -  0.9871565113500598\n",
            "F1 Score -  0.9815859815859816\n",
            "Precision Score -  0.9760779681039575\n"
          ]
        }
      ]
    },
    {
      "cell_type": "code",
      "source": [
        "corr= bin_data.corr()\n",
        "corr_y = abs(corr['binary_label'])\n",
        "highest_corr = corr_y[corr_y >0.5]\n",
        "highest_corr.sort_values(ascending=True)"
      ],
      "metadata": {
        "colab": {
          "base_uri": "https://localhost:8080/"
        },
        "id": "TL8zt-tHLt90",
        "outputId": "7d1f83e2-b461-4784-98ab-c704bab7e29f"
      },
      "execution_count": null,
      "outputs": [
        {
          "output_type": "execute_result",
          "data": {
            "text/plain": [
              "service_http                0.564113\n",
              "count                       0.578591\n",
              "srv_serror_rate             0.649488\n",
              "serror_rate                 0.652077\n",
              "flag_S0                     0.652660\n",
              "dst_host_serror_rate        0.653263\n",
              "dst_host_srv_serror_rate    0.656161\n",
              "logged_in                   0.693016\n",
              "dst_host_same_srv_rate      0.698420\n",
              "dst_host_srv_count          0.726111\n",
              "same_srv_rate               0.754576\n",
              "flag_SF                     0.761493\n",
              "binary_label                1.000000\n",
              "Name: binary_label, dtype: float64"
            ]
          },
          "metadata": {},
          "execution_count": 91
        }
      ]
    },
    {
      "cell_type": "markdown",
      "source": [
        "## **LSTM Classifier**"
      ],
      "metadata": {
        "id": "ZHhtNjFLPj6Y"
      }
    },
    {
      "cell_type": "code",
      "source": [
        "X_train.shape  # (18896, 122)\n",
        "# y_train.shape   #(18896,)"
      ],
      "metadata": {
        "colab": {
          "base_uri": "https://localhost:8080/"
        },
        "id": "DTNPkQMNL5Eh",
        "outputId": "9b39e436-e846-46ce-8ae5-8791f6dfb8f0"
      },
      "execution_count": null,
      "outputs": [
        {
          "output_type": "execute_result",
          "data": {
            "text/plain": [
              "(18896, 122)"
            ]
          },
          "metadata": {},
          "execution_count": 92
        }
      ]
    },
    {
      "cell_type": "code",
      "source": [
        "y_train = np.array(y_train)\n",
        "type(y_train)"
      ],
      "metadata": {
        "colab": {
          "base_uri": "https://localhost:8080/"
        },
        "id": "9n-QlBDXPMl4",
        "outputId": "08858264-383f-4f41-9bde-a0405ed48af4"
      },
      "execution_count": null,
      "outputs": [
        {
          "output_type": "execute_result",
          "data": {
            "text/plain": [
              "numpy.ndarray"
            ]
          },
          "metadata": {},
          "execution_count": 93
        }
      ]
    },
    {
      "cell_type": "code",
      "source": [
        "x_train = np.reshape(X_train, (X_train.shape[0],1,X_train.shape[1]))\n",
        "x_train.shape"
      ],
      "metadata": {
        "colab": {
          "base_uri": "https://localhost:8080/"
        },
        "id": "-8Ro_ZRQPdZz",
        "outputId": "8e79ee57-1f89-4022-9be6-9d8e0091ec85"
      },
      "execution_count": null,
      "outputs": [
        {
          "output_type": "execute_result",
          "data": {
            "text/plain": [
              "(18896, 1, 122)"
            ]
          },
          "metadata": {},
          "execution_count": 94
        }
      ]
    },
    {
      "cell_type": "code",
      "source": [
        "x_test = np.reshape(X_test, (X_test.shape[0],1,X_test.shape[1]))\n",
        "x_test.shape"
      ],
      "metadata": {
        "colab": {
          "base_uri": "https://localhost:8080/"
        },
        "id": "pLIl946zQQwG",
        "outputId": "766deb25-90ad-4ddf-e8df-4f536baa2058"
      },
      "execution_count": null,
      "outputs": [
        {
          "output_type": "execute_result",
          "data": {
            "text/plain": [
              "(6299, 1, 122)"
            ]
          },
          "metadata": {},
          "execution_count": 95
        }
      ]
    },
    {
      "cell_type": "code",
      "source": [
        "if model_selection[model_flag]==\"ALL\" or model_selection[model_flag] == \"LSTM\":\n",
        "  lst = Sequential()\n",
        "  # input layer and LSTM layer with 50 neurons\n",
        "  lst.add(LSTM(50,input_dim=122))\n",
        "\n",
        "  # outpute layer with sigmoid activation\n",
        "  lst.add(Dense(1,activation='sigmoid'))"
      ],
      "metadata": {
        "id": "jWsrkPEmQcY7"
      },
      "execution_count": null,
      "outputs": []
    },
    {
      "cell_type": "code",
      "source": [
        "if model_selection[model_flag]==\"ALL\" or model_selection[model_flag] == \"LSTM\":\n",
        "  # defining loss function, optimizer, metrics and then compiling model\n",
        "  lst.compile(loss='binary_crossentropy',optimizer='adam',metrics=['accuracy'])"
      ],
      "metadata": {
        "id": "UEmba1H9Q_qj"
      },
      "execution_count": null,
      "outputs": []
    },
    {
      "cell_type": "code",
      "source": [
        "if model_selection[model_flag]==\"ALL\" or model_selection[model_flag] == \"LSTM\":\n",
        "  # summary of model layers\n",
        "  lst.summary()"
      ],
      "metadata": {
        "colab": {
          "base_uri": "https://localhost:8080/"
        },
        "id": "anR58jV2RCtz",
        "outputId": "95dbb2c1-76d7-45d9-d5f5-3473a45d93fa"
      },
      "execution_count": null,
      "outputs": [
        {
          "output_type": "stream",
          "name": "stdout",
          "text": [
            "Model: \"sequential_1\"\n",
            "_________________________________________________________________\n",
            " Layer (type)                Output Shape              Param #   \n",
            "=================================================================\n",
            " lstm (LSTM)                 (None, 50)                34600     \n",
            "                                                                 \n",
            " dense_4 (Dense)             (None, 1)                 51        \n",
            "                                                                 \n",
            "=================================================================\n",
            "Total params: 34,651\n",
            "Trainable params: 34,651\n",
            "Non-trainable params: 0\n",
            "_________________________________________________________________\n"
          ]
        }
      ]
    },
    {
      "cell_type": "code",
      "source": [
        "if model_selection[model_flag]==\"ALL\" or model_selection[model_flag] == \"LSTM\":\n",
        "  # training the model on training dataset\n",
        "  history = lst.fit(x_train, y_train, epochs=100, batch_size=5000,validation_split=0.2)"
      ],
      "metadata": {
        "colab": {
          "base_uri": "https://localhost:8080/"
        },
        "id": "_Pa4Qi12RJS_",
        "outputId": "eefbdf15-b6a2-4f1d-cfec-b6dfac92b6ec"
      },
      "execution_count": null,
      "outputs": [
        {
          "output_type": "stream",
          "name": "stdout",
          "text": [
            "Epoch 1/100\n",
            "4/4 [==============================] - 4s 345ms/step - loss: 0.6092 - accuracy: 0.8694 - val_loss: 0.5711 - val_accuracy: 0.9045\n",
            "Epoch 2/100\n",
            "4/4 [==============================] - 0s 63ms/step - loss: 0.5590 - accuracy: 0.9046 - val_loss: 0.5245 - val_accuracy: 0.9090\n",
            "Epoch 3/100\n",
            "4/4 [==============================] - 0s 76ms/step - loss: 0.5130 - accuracy: 0.9133 - val_loss: 0.4817 - val_accuracy: 0.9127\n",
            "Epoch 4/100\n",
            "4/4 [==============================] - 0s 62ms/step - loss: 0.4710 - accuracy: 0.9159 - val_loss: 0.4428 - val_accuracy: 0.9140\n",
            "Epoch 5/100\n",
            "4/4 [==============================] - 0s 73ms/step - loss: 0.4328 - accuracy: 0.9174 - val_loss: 0.4076 - val_accuracy: 0.9161\n",
            "Epoch 6/100\n",
            "4/4 [==============================] - 0s 74ms/step - loss: 0.3983 - accuracy: 0.9213 - val_loss: 0.3759 - val_accuracy: 0.9188\n",
            "Epoch 7/100\n",
            "4/4 [==============================] - 0s 80ms/step - loss: 0.3671 - accuracy: 0.9246 - val_loss: 0.3475 - val_accuracy: 0.9222\n",
            "Epoch 8/100\n",
            "4/4 [==============================] - 0s 65ms/step - loss: 0.3393 - accuracy: 0.9276 - val_loss: 0.3222 - val_accuracy: 0.9249\n",
            "Epoch 9/100\n",
            "4/4 [==============================] - 0s 42ms/step - loss: 0.3145 - accuracy: 0.9295 - val_loss: 0.2997 - val_accuracy: 0.9272\n",
            "Epoch 10/100\n",
            "4/4 [==============================] - 0s 47ms/step - loss: 0.2925 - accuracy: 0.9309 - val_loss: 0.2797 - val_accuracy: 0.9283\n",
            "Epoch 11/100\n",
            "4/4 [==============================] - 0s 38ms/step - loss: 0.2729 - accuracy: 0.9334 - val_loss: 0.2620 - val_accuracy: 0.9310\n",
            "Epoch 12/100\n",
            "4/4 [==============================] - 0s 43ms/step - loss: 0.2556 - accuracy: 0.9359 - val_loss: 0.2463 - val_accuracy: 0.9328\n",
            "Epoch 13/100\n",
            "4/4 [==============================] - 0s 45ms/step - loss: 0.2403 - accuracy: 0.9391 - val_loss: 0.2323 - val_accuracy: 0.9360\n",
            "Epoch 14/100\n",
            "4/4 [==============================] - 0s 42ms/step - loss: 0.2267 - accuracy: 0.9422 - val_loss: 0.2198 - val_accuracy: 0.9437\n",
            "Epoch 15/100\n",
            "4/4 [==============================] - 0s 44ms/step - loss: 0.2145 - accuracy: 0.9461 - val_loss: 0.2087 - val_accuracy: 0.9447\n",
            "Epoch 16/100\n",
            "4/4 [==============================] - 0s 44ms/step - loss: 0.2037 - accuracy: 0.9488 - val_loss: 0.1987 - val_accuracy: 0.9484\n",
            "Epoch 17/100\n",
            "4/4 [==============================] - 0s 41ms/step - loss: 0.1939 - accuracy: 0.9516 - val_loss: 0.1896 - val_accuracy: 0.9516\n",
            "Epoch 18/100\n",
            "4/4 [==============================] - 0s 40ms/step - loss: 0.1850 - accuracy: 0.9549 - val_loss: 0.1814 - val_accuracy: 0.9548\n",
            "Epoch 19/100\n",
            "4/4 [==============================] - 0s 42ms/step - loss: 0.1771 - accuracy: 0.9576 - val_loss: 0.1740 - val_accuracy: 0.9574\n",
            "Epoch 20/100\n",
            "4/4 [==============================] - 0s 44ms/step - loss: 0.1700 - accuracy: 0.9610 - val_loss: 0.1674 - val_accuracy: 0.9585\n",
            "Epoch 21/100\n",
            "4/4 [==============================] - 0s 39ms/step - loss: 0.1637 - accuracy: 0.9625 - val_loss: 0.1615 - val_accuracy: 0.9601\n",
            "Epoch 22/100\n",
            "4/4 [==============================] - 0s 43ms/step - loss: 0.1578 - accuracy: 0.9637 - val_loss: 0.1561 - val_accuracy: 0.9606\n",
            "Epoch 23/100\n",
            "4/4 [==============================] - 0s 41ms/step - loss: 0.1526 - accuracy: 0.9645 - val_loss: 0.1512 - val_accuracy: 0.9608\n",
            "Epoch 24/100\n",
            "4/4 [==============================] - 0s 41ms/step - loss: 0.1477 - accuracy: 0.9651 - val_loss: 0.1466 - val_accuracy: 0.9616\n",
            "Epoch 25/100\n",
            "4/4 [==============================] - 0s 42ms/step - loss: 0.1432 - accuracy: 0.9657 - val_loss: 0.1423 - val_accuracy: 0.9622\n",
            "Epoch 26/100\n",
            "4/4 [==============================] - 0s 41ms/step - loss: 0.1390 - accuracy: 0.9667 - val_loss: 0.1383 - val_accuracy: 0.9640\n",
            "Epoch 27/100\n",
            "4/4 [==============================] - 0s 43ms/step - loss: 0.1351 - accuracy: 0.9670 - val_loss: 0.1346 - val_accuracy: 0.9653\n",
            "Epoch 28/100\n",
            "4/4 [==============================] - 0s 39ms/step - loss: 0.1315 - accuracy: 0.9674 - val_loss: 0.1312 - val_accuracy: 0.9653\n",
            "Epoch 29/100\n",
            "4/4 [==============================] - 0s 45ms/step - loss: 0.1282 - accuracy: 0.9678 - val_loss: 0.1280 - val_accuracy: 0.9653\n",
            "Epoch 30/100\n",
            "4/4 [==============================] - 0s 46ms/step - loss: 0.1252 - accuracy: 0.9683 - val_loss: 0.1252 - val_accuracy: 0.9656\n",
            "Epoch 31/100\n",
            "4/4 [==============================] - 0s 41ms/step - loss: 0.1224 - accuracy: 0.9685 - val_loss: 0.1226 - val_accuracy: 0.9659\n",
            "Epoch 32/100\n",
            "4/4 [==============================] - 0s 43ms/step - loss: 0.1199 - accuracy: 0.9686 - val_loss: 0.1202 - val_accuracy: 0.9659\n",
            "Epoch 33/100\n",
            "4/4 [==============================] - 0s 44ms/step - loss: 0.1175 - accuracy: 0.9687 - val_loss: 0.1178 - val_accuracy: 0.9664\n",
            "Epoch 34/100\n",
            "4/4 [==============================] - 0s 52ms/step - loss: 0.1153 - accuracy: 0.9690 - val_loss: 0.1156 - val_accuracy: 0.9677\n",
            "Epoch 35/100\n",
            "4/4 [==============================] - 0s 74ms/step - loss: 0.1132 - accuracy: 0.9693 - val_loss: 0.1135 - val_accuracy: 0.9683\n",
            "Epoch 36/100\n",
            "4/4 [==============================] - 0s 64ms/step - loss: 0.1112 - accuracy: 0.9696 - val_loss: 0.1117 - val_accuracy: 0.9683\n",
            "Epoch 37/100\n",
            "4/4 [==============================] - 0s 76ms/step - loss: 0.1094 - accuracy: 0.9701 - val_loss: 0.1099 - val_accuracy: 0.9680\n",
            "Epoch 38/100\n",
            "4/4 [==============================] - 0s 66ms/step - loss: 0.1076 - accuracy: 0.9706 - val_loss: 0.1082 - val_accuracy: 0.9683\n",
            "Epoch 39/100\n",
            "4/4 [==============================] - 0s 63ms/step - loss: 0.1058 - accuracy: 0.9704 - val_loss: 0.1066 - val_accuracy: 0.9683\n",
            "Epoch 40/100\n",
            "4/4 [==============================] - 0s 75ms/step - loss: 0.1041 - accuracy: 0.9706 - val_loss: 0.1051 - val_accuracy: 0.9685\n",
            "Epoch 41/100\n",
            "4/4 [==============================] - 0s 62ms/step - loss: 0.1025 - accuracy: 0.9712 - val_loss: 0.1037 - val_accuracy: 0.9680\n",
            "Epoch 42/100\n",
            "4/4 [==============================] - 0s 65ms/step - loss: 0.1011 - accuracy: 0.9714 - val_loss: 0.1025 - val_accuracy: 0.9683\n",
            "Epoch 43/100\n",
            "4/4 [==============================] - 0s 76ms/step - loss: 0.0997 - accuracy: 0.9712 - val_loss: 0.1014 - val_accuracy: 0.9685\n",
            "Epoch 44/100\n",
            "4/4 [==============================] - 0s 64ms/step - loss: 0.0984 - accuracy: 0.9713 - val_loss: 0.1003 - val_accuracy: 0.9690\n",
            "Epoch 45/100\n",
            "4/4 [==============================] - 0s 58ms/step - loss: 0.0972 - accuracy: 0.9717 - val_loss: 0.0992 - val_accuracy: 0.9690\n",
            "Epoch 46/100\n",
            "4/4 [==============================] - 0s 66ms/step - loss: 0.0960 - accuracy: 0.9718 - val_loss: 0.0981 - val_accuracy: 0.9690\n",
            "Epoch 47/100\n",
            "4/4 [==============================] - 0s 75ms/step - loss: 0.0948 - accuracy: 0.9718 - val_loss: 0.0970 - val_accuracy: 0.9690\n",
            "Epoch 48/100\n",
            "4/4 [==============================] - 0s 78ms/step - loss: 0.0937 - accuracy: 0.9718 - val_loss: 0.0960 - val_accuracy: 0.9693\n",
            "Epoch 49/100\n",
            "4/4 [==============================] - 0s 67ms/step - loss: 0.0926 - accuracy: 0.9719 - val_loss: 0.0949 - val_accuracy: 0.9690\n",
            "Epoch 50/100\n",
            "4/4 [==============================] - 0s 63ms/step - loss: 0.0916 - accuracy: 0.9718 - val_loss: 0.0938 - val_accuracy: 0.9696\n",
            "Epoch 51/100\n",
            "4/4 [==============================] - 0s 70ms/step - loss: 0.0906 - accuracy: 0.9718 - val_loss: 0.0928 - val_accuracy: 0.9698\n",
            "Epoch 52/100\n",
            "4/4 [==============================] - 0s 55ms/step - loss: 0.0897 - accuracy: 0.9718 - val_loss: 0.0920 - val_accuracy: 0.9698\n",
            "Epoch 53/100\n",
            "4/4 [==============================] - 0s 39ms/step - loss: 0.0887 - accuracy: 0.9720 - val_loss: 0.0911 - val_accuracy: 0.9698\n",
            "Epoch 54/100\n",
            "4/4 [==============================] - 0s 39ms/step - loss: 0.0878 - accuracy: 0.9720 - val_loss: 0.0903 - val_accuracy: 0.9701\n",
            "Epoch 55/100\n",
            "4/4 [==============================] - 0s 45ms/step - loss: 0.0870 - accuracy: 0.9721 - val_loss: 0.0894 - val_accuracy: 0.9706\n",
            "Epoch 56/100\n",
            "4/4 [==============================] - 0s 38ms/step - loss: 0.0861 - accuracy: 0.9725 - val_loss: 0.0885 - val_accuracy: 0.9712\n",
            "Epoch 57/100\n",
            "4/4 [==============================] - 0s 62ms/step - loss: 0.0853 - accuracy: 0.9725 - val_loss: 0.0877 - val_accuracy: 0.9717\n",
            "Epoch 58/100\n",
            "4/4 [==============================] - 0s 80ms/step - loss: 0.0845 - accuracy: 0.9738 - val_loss: 0.0869 - val_accuracy: 0.9722\n",
            "Epoch 59/100\n",
            "4/4 [==============================] - 0s 72ms/step - loss: 0.0838 - accuracy: 0.9737 - val_loss: 0.0862 - val_accuracy: 0.9722\n",
            "Epoch 60/100\n",
            "4/4 [==============================] - 0s 73ms/step - loss: 0.0830 - accuracy: 0.9738 - val_loss: 0.0855 - val_accuracy: 0.9722\n",
            "Epoch 61/100\n",
            "4/4 [==============================] - 0s 61ms/step - loss: 0.0823 - accuracy: 0.9738 - val_loss: 0.0849 - val_accuracy: 0.9722\n",
            "Epoch 62/100\n",
            "4/4 [==============================] - 0s 74ms/step - loss: 0.0816 - accuracy: 0.9740 - val_loss: 0.0844 - val_accuracy: 0.9722\n",
            "Epoch 63/100\n",
            "4/4 [==============================] - 0s 62ms/step - loss: 0.0809 - accuracy: 0.9742 - val_loss: 0.0839 - val_accuracy: 0.9720\n",
            "Epoch 64/100\n",
            "4/4 [==============================] - 0s 75ms/step - loss: 0.0802 - accuracy: 0.9745 - val_loss: 0.0833 - val_accuracy: 0.9722\n",
            "Epoch 65/100\n",
            "4/4 [==============================] - 0s 66ms/step - loss: 0.0796 - accuracy: 0.9745 - val_loss: 0.0827 - val_accuracy: 0.9722\n",
            "Epoch 66/100\n",
            "4/4 [==============================] - 0s 68ms/step - loss: 0.0790 - accuracy: 0.9745 - val_loss: 0.0821 - val_accuracy: 0.9714\n",
            "Epoch 67/100\n",
            "4/4 [==============================] - 0s 79ms/step - loss: 0.0784 - accuracy: 0.9741 - val_loss: 0.0816 - val_accuracy: 0.9706\n",
            "Epoch 68/100\n",
            "4/4 [==============================] - 0s 75ms/step - loss: 0.0778 - accuracy: 0.9733 - val_loss: 0.0810 - val_accuracy: 0.9706\n",
            "Epoch 69/100\n",
            "4/4 [==============================] - 0s 76ms/step - loss: 0.0772 - accuracy: 0.9733 - val_loss: 0.0804 - val_accuracy: 0.9709\n",
            "Epoch 70/100\n",
            "4/4 [==============================] - 0s 84ms/step - loss: 0.0767 - accuracy: 0.9737 - val_loss: 0.0798 - val_accuracy: 0.9717\n",
            "Epoch 71/100\n",
            "4/4 [==============================] - 0s 62ms/step - loss: 0.0761 - accuracy: 0.9748 - val_loss: 0.0793 - val_accuracy: 0.9720\n",
            "Epoch 72/100\n",
            "4/4 [==============================] - 0s 62ms/step - loss: 0.0756 - accuracy: 0.9747 - val_loss: 0.0787 - val_accuracy: 0.9722\n",
            "Epoch 73/100\n",
            "4/4 [==============================] - 0s 58ms/step - loss: 0.0751 - accuracy: 0.9747 - val_loss: 0.0782 - val_accuracy: 0.9722\n",
            "Epoch 74/100\n",
            "4/4 [==============================] - 0s 45ms/step - loss: 0.0746 - accuracy: 0.9748 - val_loss: 0.0777 - val_accuracy: 0.9722\n",
            "Epoch 75/100\n",
            "4/4 [==============================] - 0s 46ms/step - loss: 0.0741 - accuracy: 0.9749 - val_loss: 0.0772 - val_accuracy: 0.9725\n",
            "Epoch 76/100\n",
            "4/4 [==============================] - 0s 39ms/step - loss: 0.0735 - accuracy: 0.9750 - val_loss: 0.0767 - val_accuracy: 0.9725\n",
            "Epoch 77/100\n",
            "4/4 [==============================] - 0s 40ms/step - loss: 0.0729 - accuracy: 0.9750 - val_loss: 0.0762 - val_accuracy: 0.9728\n",
            "Epoch 78/100\n",
            "4/4 [==============================] - 0s 41ms/step - loss: 0.0724 - accuracy: 0.9750 - val_loss: 0.0757 - val_accuracy: 0.9730\n",
            "Epoch 79/100\n",
            "4/4 [==============================] - 0s 43ms/step - loss: 0.0718 - accuracy: 0.9749 - val_loss: 0.0752 - val_accuracy: 0.9728\n",
            "Epoch 80/100\n",
            "4/4 [==============================] - 0s 48ms/step - loss: 0.0713 - accuracy: 0.9751 - val_loss: 0.0748 - val_accuracy: 0.9730\n",
            "Epoch 81/100\n",
            "4/4 [==============================] - 0s 47ms/step - loss: 0.0708 - accuracy: 0.9753 - val_loss: 0.0744 - val_accuracy: 0.9730\n",
            "Epoch 82/100\n",
            "4/4 [==============================] - 0s 44ms/step - loss: 0.0704 - accuracy: 0.9755 - val_loss: 0.0740 - val_accuracy: 0.9728\n",
            "Epoch 83/100\n",
            "4/4 [==============================] - 0s 43ms/step - loss: 0.0699 - accuracy: 0.9755 - val_loss: 0.0736 - val_accuracy: 0.9730\n",
            "Epoch 84/100\n",
            "4/4 [==============================] - 0s 44ms/step - loss: 0.0694 - accuracy: 0.9757 - val_loss: 0.0732 - val_accuracy: 0.9730\n",
            "Epoch 85/100\n",
            "4/4 [==============================] - 0s 41ms/step - loss: 0.0689 - accuracy: 0.9759 - val_loss: 0.0728 - val_accuracy: 0.9733\n",
            "Epoch 86/100\n",
            "4/4 [==============================] - 0s 45ms/step - loss: 0.0684 - accuracy: 0.9763 - val_loss: 0.0724 - val_accuracy: 0.9735\n",
            "Epoch 87/100\n",
            "4/4 [==============================] - 0s 47ms/step - loss: 0.0680 - accuracy: 0.9762 - val_loss: 0.0720 - val_accuracy: 0.9730\n",
            "Epoch 88/100\n",
            "4/4 [==============================] - 0s 43ms/step - loss: 0.0675 - accuracy: 0.9760 - val_loss: 0.0715 - val_accuracy: 0.9720\n",
            "Epoch 89/100\n",
            "4/4 [==============================] - 0s 41ms/step - loss: 0.0670 - accuracy: 0.9755 - val_loss: 0.0710 - val_accuracy: 0.9725\n",
            "Epoch 90/100\n",
            "4/4 [==============================] - 0s 47ms/step - loss: 0.0665 - accuracy: 0.9755 - val_loss: 0.0705 - val_accuracy: 0.9728\n",
            "Epoch 91/100\n",
            "4/4 [==============================] - 0s 45ms/step - loss: 0.0661 - accuracy: 0.9753 - val_loss: 0.0700 - val_accuracy: 0.9728\n",
            "Epoch 92/100\n",
            "4/4 [==============================] - 0s 45ms/step - loss: 0.0656 - accuracy: 0.9753 - val_loss: 0.0696 - val_accuracy: 0.9728\n",
            "Epoch 93/100\n",
            "4/4 [==============================] - 0s 42ms/step - loss: 0.0652 - accuracy: 0.9754 - val_loss: 0.0691 - val_accuracy: 0.9728\n",
            "Epoch 94/100\n",
            "4/4 [==============================] - 0s 46ms/step - loss: 0.0648 - accuracy: 0.9753 - val_loss: 0.0686 - val_accuracy: 0.9722\n",
            "Epoch 95/100\n",
            "4/4 [==============================] - 0s 43ms/step - loss: 0.0643 - accuracy: 0.9756 - val_loss: 0.0682 - val_accuracy: 0.9741\n",
            "Epoch 96/100\n",
            "4/4 [==============================] - 0s 45ms/step - loss: 0.0639 - accuracy: 0.9764 - val_loss: 0.0678 - val_accuracy: 0.9735\n",
            "Epoch 97/100\n",
            "4/4 [==============================] - 0s 45ms/step - loss: 0.0634 - accuracy: 0.9768 - val_loss: 0.0675 - val_accuracy: 0.9741\n",
            "Epoch 98/100\n",
            "4/4 [==============================] - 0s 42ms/step - loss: 0.0630 - accuracy: 0.9774 - val_loss: 0.0672 - val_accuracy: 0.9746\n",
            "Epoch 99/100\n",
            "4/4 [==============================] - 0s 45ms/step - loss: 0.0626 - accuracy: 0.9776 - val_loss: 0.0669 - val_accuracy: 0.9730\n",
            "Epoch 100/100\n",
            "4/4 [==============================] - 0s 45ms/step - loss: 0.0622 - accuracy: 0.9769 - val_loss: 0.0666 - val_accuracy: 0.9733\n"
          ]
        }
      ]
    },
    {
      "cell_type": "code",
      "source": [
        "if model_selection[model_flag]==\"ALL\" or model_selection[model_flag] == \"LSTM\":\n",
        "  filepath = '/content/drive/MyDrive/Colab_Notebooks/Models/lst_binary.json'\n",
        "  weightspath = '/content/drive/MyDrive/Colab_Notebooks/Weights/lst_binary.h5'\n",
        "  if (not path.isfile(filepath)):\n",
        "    # serialize model to JSON\n",
        "    lst_json = lst.to_json()\n",
        "    with open(filepath, \"w\") as json_file:\n",
        "      json_file.write(lst_json)\n",
        "\n",
        "    # serialize weights to HDF5\n",
        "    lst.save_weights(weightspath)\n",
        "    print(\"Saved model to disk\")\n",
        "\n",
        "    # load json and create model\n",
        "    json_file = open(filepath, 'r')\n",
        "    loaded_model_json = json_file.read()\n",
        "    json_file.close()\n",
        "    lst = model_from_json(loaded_model_json)\n",
        "\n",
        "    # load weights into new model\n",
        "    lst.load_weights(weightspath)\n",
        "    print(\"Loaded model from disk\")"
      ],
      "metadata": {
        "id": "BCQtvJcXRcNr"
      },
      "execution_count": null,
      "outputs": []
    },
    {
      "cell_type": "code",
      "source": [
        "if model_selection[model_flag]==\"ALL\" or model_selection[model_flag] == \"LSTM\":\n",
        "  # load json and create model\n",
        "  json_file = open(filepath, 'r')\n",
        "  loaded_model_json = json_file.read()\n",
        "  json_file.close()\n",
        "  lst = model_from_json(loaded_model_json)\n",
        "\n",
        "  # load weights into new model\n",
        "  lst.load_weights(weightspath)\n",
        "  print(\"Loaded model from disk\")"
      ],
      "metadata": {
        "colab": {
          "base_uri": "https://localhost:8080/"
        },
        "id": "rPaW37T-R0dG",
        "outputId": "a47801fc-851d-44be-94a6-fb4088ca92e0"
      },
      "execution_count": null,
      "outputs": [
        {
          "output_type": "stream",
          "name": "stdout",
          "text": [
            "Loaded model from disk\n"
          ]
        }
      ]
    },
    {
      "cell_type": "code",
      "source": [
        "if model_selection[model_flag]==\"ALL\" or model_selection[model_flag] == \"LSTM\":\n",
        "  # defining loss function, optimizer, metrics and then compiling model\n",
        "  lst.compile(loss='binary_crossentropy',optimizer='adam',metrics=['accuracy'])"
      ],
      "metadata": {
        "id": "ukGDdSggR3na"
      },
      "execution_count": null,
      "outputs": []
    },
    {
      "cell_type": "code",
      "source": [
        "if model_selection[model_flag]==\"ALL\" or model_selection[model_flag] == \"LSTM\":\n",
        "  # predicting target attribute on testing dataset\n",
        "  test_results = lst.evaluate(x_test, y_test, verbose=1)\n",
        "  print(f'Test results - Loss: {test_results[0]} - Accuracy: {test_results[1]*100}%')"
      ],
      "metadata": {
        "colab": {
          "base_uri": "https://localhost:8080/"
        },
        "id": "nvjY0u97R68f",
        "outputId": "fda87245-940f-4d8d-9810-ad629e3150b8"
      },
      "execution_count": null,
      "outputs": [
        {
          "output_type": "stream",
          "name": "stdout",
          "text": [
            "197/197 [==============================] - 2s 2ms/step - loss: 0.0614 - accuracy: 0.9786\n",
            "Test results - Loss: 0.06135252118110657 - Accuracy: 97.85680174827576%\n"
          ]
        }
      ]
    },
    {
      "cell_type": "code",
      "source": [
        "if model_selection[model_flag]==\"ALL\" or model_selection[model_flag] == \"LSTM\":\n",
        "  # Plot of accuracy vs epoch of train and test dataset\n",
        "  plt.plot(history.history['accuracy'])\n",
        "  plt.plot(history.history['val_accuracy'])\n",
        "  plt.title(\"Plot of accuracy vs epoch for train and test dataset\")\n",
        "  plt.ylabel('accuracy')\n",
        "  plt.xlabel('epoch')\n",
        "  plt.legend(['train', 'test'], loc='best')\n",
        "  plt.savefig('/content/drive/MyDrive/Colab_Notebooks/Plots/lstm_binary_accuracy.png')\n",
        "  plt.show()"
      ],
      "metadata": {
        "colab": {
          "base_uri": "https://localhost:8080/",
          "height": 295
        },
        "id": "f8yKMcIHR_jP",
        "outputId": "b2f007ed-3e87-4e0d-fb15-0e0476138048"
      },
      "execution_count": null,
      "outputs": [
        {
          "output_type": "display_data",
          "data": {
            "text/plain": [
              "<Figure size 432x288 with 1 Axes>"
            ],
            "image/png": "[encoded data removed]"
          },
          "metadata": {
            "needs_background": "light"
          }
        }
      ]
    },
    {
      "cell_type": "code",
      "source": [
        "if model_selection[model_flag]==\"ALL\" or model_selection[model_flag] == \"LSTM\":\n",
        "  # Plot of loss vs epoch of train and test dataset\n",
        "  plt.plot(history.history['loss'])\n",
        "  plt.plot(history.history['val_loss'])\n",
        "  plt.title(\"Plot of loss vs epoch for train and test dataset\")\n",
        "  plt.ylabel('loss')\n",
        "  plt.xlabel('epoch')\n",
        "  plt.legend(['train', 'test'], loc='best')\n",
        "  plt.savefig('/content/drive/MyDrive/Colab_Notebooks/Plots/lstm_binary_loss.png')\n",
        "  plt.show()"
      ],
      "metadata": {
        "colab": {
          "base_uri": "https://localhost:8080/",
          "height": 295
        },
        "id": "M5g1Rw_SSb5n",
        "outputId": "64ac49a5-fcc2-4f0f-ebb6-61ac5169947b"
      },
      "execution_count": null,
      "outputs": [
        {
          "output_type": "display_data",
          "data": {
            "text/plain": [
              "<Figure size 432x288 with 1 Axes>"
            ],
            "image/png": "[encoded data removed]"
          },
          "metadata": {
            "needs_background": "light"
          }
        }
      ]
    },
    {
      "cell_type": "code",
      "source": [
        "if model_selection[model_flag]==\"ALL\" or model_selection[model_flag] == \"LSTM\":\n",
        "  # representation of model layers\n",
        "  plot_model(lst, to_file='/content/drive/MyDrive/Colab_Notebooks/Plots/lstm_binary.png', show_shapes=True,)"
      ],
      "metadata": {
        "id": "osZa2OV9Se-T"
      },
      "execution_count": null,
      "outputs": []
    },
    {
      "cell_type": "code",
      "source": [
        "y_test = np.array(y_test)\n",
        "y_test.shape"
      ],
      "metadata": {
        "colab": {
          "base_uri": "https://localhost:8080/"
        },
        "id": "lw4OLD4HSpaY",
        "outputId": "d69fb6f6-edf5-428d-c8bb-b7e41573324d"
      },
      "execution_count": null,
      "outputs": [
        {
          "output_type": "execute_result",
          "data": {
            "text/plain": [
              "(6299,)"
            ]
          },
          "metadata": {},
          "execution_count": 107
        }
      ]
    },
    {
      "cell_type": "code",
      "source": [
        "type(y_test)"
      ],
      "metadata": {
        "colab": {
          "base_uri": "https://localhost:8080/"
        },
        "id": "4BvYVrKsTGr3",
        "outputId": "3b586201-3022-4019-9bf2-b4669ae78259"
      },
      "execution_count": null,
      "outputs": [
        {
          "output_type": "execute_result",
          "data": {
            "text/plain": [
              "numpy.ndarray"
            ]
          },
          "metadata": {},
          "execution_count": 108
        }
      ]
    },
    {
      "cell_type": "code",
      "source": [
        "if model_selection[model_flag]==\"ALL\" or model_selection[model_flag] == \"LSTM\":\n",
        "  y_classes = (lst.predict(x_test)>0.5).astype('int32')"
      ],
      "metadata": {
        "colab": {
          "base_uri": "https://localhost:8080/"
        },
        "id": "KBvCGl6BS0FM",
        "outputId": "02f1aa00-d07e-42b0-82cd-491c56755ade"
      },
      "execution_count": null,
      "outputs": [
        {
          "output_type": "stream",
          "name": "stdout",
          "text": [
            "197/197 [==============================] - 1s 2ms/step\n"
          ]
        }
      ]
    },
    {
      "cell_type": "code",
      "source": [
        "if model_selection[model_flag]==\"ALL\" or model_selection[model_flag] == \"LSTM\":\n",
        "  print(\"Recall Score - \",recall_score(y_test,y_classes))\n",
        "  print(\"F1 Score - \",f1_score(y_test,y_classes))\n",
        "  print(\"Precision Score - \",precision_score(y_test,y_classes))"
      ],
      "metadata": {
        "colab": {
          "base_uri": "https://localhost:8080/"
        },
        "id": "x_yVqBlLTtLW",
        "outputId": "61a86a2c-54c6-4c3d-b9d7-34ac8e54ce2e"
      },
      "execution_count": null,
      "outputs": [
        {
          "output_type": "stream",
          "name": "stdout",
          "text": [
            "Recall Score -  0.991636798088411\n",
            "F1 Score -  0.9800738007380073\n",
            "Precision Score -  0.9687773562882988\n"
          ]
        }
      ]
    },
    {
      "cell_type": "markdown",
      "source": [
        "## **Auto Encoder**"
      ],
      "metadata": {
        "id": "H_g15uXe82BY"
      }
    },
    {
      "cell_type": "code",
      "metadata": {
        "id": "VQ6pDxghmBwB"
      },
      "source": [
        "if model_selection[model_flag]==\"ALL\" or model_selection[model_flag] == \"AE\":\n",
        "  # splitting the dataset 75% for training and 25% testing\n",
        "  X_train, X_test = train_test_split(bin_data, test_size=0.25, random_state=42)"
      ],
      "execution_count": null,
      "outputs": []
    },
    {
      "cell_type": "code",
      "source": [
        "if model_selection[model_flag]==\"ALL\" or model_selection[model_flag] == \"AE\":\n",
        "  # dataset excluding target attribute (encoded, one-hot-encoded,original)\n",
        "  X_train = X_train.drop(['binary_label'],axis=1) \n",
        "\n",
        "  y_test = X_test['binary_label'] # target attribute\n",
        "\n",
        "  # dataset excluding target attribute (encoded, one-hot-encoded,original)\n",
        "  X_test = X_test.drop(['binary_label'],axis=1)\n",
        "\n",
        "  X_train = X_train.values\n",
        "  X_test = X_test.values\n",
        "  y_test = y_test.values"
      ],
      "metadata": {
        "id": "uogVT92Q_6wh"
      },
      "execution_count": null,
      "outputs": []
    },
    {
      "cell_type": "code",
      "source": [
        "if model_selection[model_flag]==\"ALL\" or model_selection[model_flag] == \"AE\":\n",
        "  input_dim = X_train.shape[1]\n",
        "  encoding_dim = 50\n",
        "\n",
        "  #input layer\n",
        "  input_layer = Input(shape=(input_dim, ))\n",
        "  #encoding layer with 50 neurons\n",
        "  encoder = Dense(encoding_dim, activation=\"relu\")(input_layer)           \n",
        "  #decoding and output layer\n",
        "  output_layer = Dense(input_dim, activation='softmax')(encoder)"
      ],
      "metadata": {
        "id": "s696BM9uKADC"
      },
      "execution_count": null,
      "outputs": []
    },
    {
      "cell_type": "code",
      "source": [
        "if model_selection[model_flag]==\"ALL\" or model_selection[model_flag] == \"AE\":\n",
        "  # creating model with input, encoding, decoding, output layers\n",
        "  autoencoder = Model(inputs=input_layer, outputs=output_layer)\n",
        "\n",
        "  # defining loss function, optimizer, metrics and then compiling model\n",
        "  autoencoder.compile(optimizer='adam', loss='mean_squared_error',metrics=['accuracy'])"
      ],
      "metadata": {
        "id": "nLn3vHBZLQtj"
      },
      "execution_count": null,
      "outputs": []
    },
    {
      "cell_type": "code",
      "source": [
        "if model_selection[model_flag]==\"ALL\" or model_selection[model_flag] == \"AE\":\n",
        "  # summary of model layers\n",
        "  autoencoder.summary()"
      ],
      "metadata": {
        "colab": {
          "base_uri": "https://localhost:8080/"
        },
        "id": "X_zk7PMVLVNm",
        "outputId": "c95606ce-203d-470e-e5e4-cb069ba1413e"
      },
      "execution_count": null,
      "outputs": [
        {
          "output_type": "stream",
          "name": "stdout",
          "text": [
            "Model: \"model_1\"\n",
            "_________________________________________________________________\n",
            " Layer (type)                Output Shape              Param #   \n",
            "=================================================================\n",
            " input_2 (InputLayer)        [(None, 122)]             0         \n",
            "                                                                 \n",
            " dense_5 (Dense)             (None, 50)                6150      \n",
            "                                                                 \n",
            " dense_6 (Dense)             (None, 122)               6222      \n",
            "                                                                 \n",
            "=================================================================\n",
            "Total params: 12,372\n",
            "Trainable params: 12,372\n",
            "Non-trainable params: 0\n",
            "_________________________________________________________________\n"
          ]
        }
      ]
    },
    {
      "cell_type": "code",
      "source": [
        "if model_selection[model_flag]==\"ALL\" or model_selection[model_flag] == \"AE\":\n",
        "  # training the model on training dataset\n",
        "  history = autoencoder.fit(X_train, X_train, epochs=100,batch_size=500,validation_data=(X_test, X_test)).history"
      ],
      "metadata": {
        "colab": {
          "base_uri": "https://localhost:8080/"
        },
        "id": "We59NbebLdkJ",
        "outputId": "f6cfa3f4-3206-430a-f409-827614320122"
      },
      "execution_count": null,
      "outputs": [
        {
          "output_type": "stream",
          "name": "stdout",
          "text": [
            "Epoch 1/100\n",
            "38/38 [==============================] - 1s 18ms/step - loss: 0.3535 - accuracy: 0.0286 - val_loss: 0.6019 - val_accuracy: 0.0733\n",
            "Epoch 2/100\n",
            "38/38 [==============================] - 0s 11ms/step - loss: 0.3436 - accuracy: 0.0684 - val_loss: 0.5877 - val_accuracy: 0.0751\n",
            "Epoch 3/100\n",
            "38/38 [==============================] - 0s 11ms/step - loss: 0.3328 - accuracy: 0.2108 - val_loss: 0.5811 - val_accuracy: 0.3562\n",
            "Epoch 4/100\n",
            "38/38 [==============================] - 0s 12ms/step - loss: 0.3279 - accuracy: 0.3523 - val_loss: 0.5778 - val_accuracy: 0.3726\n",
            "Epoch 5/100\n",
            "38/38 [==============================] - 0s 13ms/step - loss: 0.3259 - accuracy: 0.3826 - val_loss: 0.5764 - val_accuracy: 0.3991\n",
            "Epoch 6/100\n",
            "38/38 [==============================] - 0s 10ms/step - loss: 0.3245 - accuracy: 0.4313 - val_loss: 0.5752 - val_accuracy: 0.4612\n",
            "Epoch 7/100\n",
            "38/38 [==============================] - 0s 11ms/step - loss: 0.3235 - accuracy: 0.5729 - val_loss: 0.5747 - val_accuracy: 0.4886\n",
            "Epoch 8/100\n",
            "38/38 [==============================] - 0s 11ms/step - loss: 0.3232 - accuracy: 0.6094 - val_loss: 0.5745 - val_accuracy: 0.6101\n",
            "Epoch 9/100\n",
            "38/38 [==============================] - 1s 14ms/step - loss: 0.3231 - accuracy: 0.6251 - val_loss: 0.5744 - val_accuracy: 0.6369\n",
            "Epoch 10/100\n",
            "38/38 [==============================] - 0s 10ms/step - loss: 0.3230 - accuracy: 0.6421 - val_loss: 0.5743 - val_accuracy: 0.6420\n",
            "Epoch 11/100\n",
            "38/38 [==============================] - 0s 7ms/step - loss: 0.3229 - accuracy: 0.6509 - val_loss: 0.5742 - val_accuracy: 0.6633\n",
            "Epoch 12/100\n",
            "38/38 [==============================] - 0s 7ms/step - loss: 0.3228 - accuracy: 0.6560 - val_loss: 0.5742 - val_accuracy: 0.6639\n",
            "Epoch 13/100\n",
            "38/38 [==============================] - 0s 8ms/step - loss: 0.3228 - accuracy: 0.6631 - val_loss: 0.5741 - val_accuracy: 0.6930\n",
            "Epoch 14/100\n",
            "38/38 [==============================] - 0s 7ms/step - loss: 0.3227 - accuracy: 0.6794 - val_loss: 0.5741 - val_accuracy: 0.6487\n",
            "Epoch 15/100\n",
            "38/38 [==============================] - 0s 8ms/step - loss: 0.3227 - accuracy: 0.6769 - val_loss: 0.5741 - val_accuracy: 0.7136\n",
            "Epoch 16/100\n",
            "38/38 [==============================] - 0s 7ms/step - loss: 0.3227 - accuracy: 0.6988 - val_loss: 0.5741 - val_accuracy: 0.7009\n",
            "Epoch 17/100\n",
            "38/38 [==============================] - 0s 7ms/step - loss: 0.3227 - accuracy: 0.7062 - val_loss: 0.5741 - val_accuracy: 0.7423\n",
            "Epoch 18/100\n",
            "38/38 [==============================] - 0s 7ms/step - loss: 0.3227 - accuracy: 0.7154 - val_loss: 0.5740 - val_accuracy: 0.7177\n",
            "Epoch 19/100\n",
            "38/38 [==============================] - 0s 7ms/step - loss: 0.3226 - accuracy: 0.7279 - val_loss: 0.5740 - val_accuracy: 0.7393\n",
            "Epoch 20/100\n",
            "38/38 [==============================] - 0s 7ms/step - loss: 0.3226 - accuracy: 0.7345 - val_loss: 0.5740 - val_accuracy: 0.7481\n",
            "Epoch 21/100\n",
            "38/38 [==============================] - 0s 7ms/step - loss: 0.3226 - accuracy: 0.7496 - val_loss: 0.5740 - val_accuracy: 0.7576\n",
            "Epoch 22/100\n",
            "38/38 [==============================] - 0s 8ms/step - loss: 0.3226 - accuracy: 0.7589 - val_loss: 0.5740 - val_accuracy: 0.8050\n",
            "Epoch 23/100\n",
            "38/38 [==============================] - 0s 7ms/step - loss: 0.3226 - accuracy: 0.7661 - val_loss: 0.5740 - val_accuracy: 0.7833\n",
            "Epoch 24/100\n",
            "38/38 [==============================] - 0s 7ms/step - loss: 0.3226 - accuracy: 0.7748 - val_loss: 0.5740 - val_accuracy: 0.7881\n",
            "Epoch 25/100\n",
            "38/38 [==============================] - 0s 7ms/step - loss: 0.3226 - accuracy: 0.7780 - val_loss: 0.5740 - val_accuracy: 0.7781\n",
            "Epoch 26/100\n",
            "38/38 [==============================] - 0s 7ms/step - loss: 0.3226 - accuracy: 0.7842 - val_loss: 0.5740 - val_accuracy: 0.7946\n",
            "Epoch 27/100\n",
            "38/38 [==============================] - 0s 7ms/step - loss: 0.3226 - accuracy: 0.7900 - val_loss: 0.5740 - val_accuracy: 0.8230\n",
            "Epoch 28/100\n",
            "38/38 [==============================] - 0s 7ms/step - loss: 0.3226 - accuracy: 0.7978 - val_loss: 0.5740 - val_accuracy: 0.8044\n",
            "Epoch 29/100\n",
            "38/38 [==============================] - 0s 7ms/step - loss: 0.3226 - accuracy: 0.8022 - val_loss: 0.5739 - val_accuracy: 0.7742\n",
            "Epoch 30/100\n",
            "38/38 [==============================] - 0s 7ms/step - loss: 0.3225 - accuracy: 0.7981 - val_loss: 0.5739 - val_accuracy: 0.8279\n",
            "Epoch 31/100\n",
            "38/38 [==============================] - 0s 7ms/step - loss: 0.3225 - accuracy: 0.8103 - val_loss: 0.5739 - val_accuracy: 0.8125\n",
            "Epoch 32/100\n",
            "38/38 [==============================] - 0s 7ms/step - loss: 0.3225 - accuracy: 0.8091 - val_loss: 0.5739 - val_accuracy: 0.8104\n",
            "Epoch 33/100\n",
            "38/38 [==============================] - 0s 7ms/step - loss: 0.3225 - accuracy: 0.8092 - val_loss: 0.5739 - val_accuracy: 0.7935\n",
            "Epoch 34/100\n",
            "38/38 [==============================] - 0s 7ms/step - loss: 0.3225 - accuracy: 0.8081 - val_loss: 0.5739 - val_accuracy: 0.8533\n",
            "Epoch 35/100\n",
            "38/38 [==============================] - 0s 6ms/step - loss: 0.3225 - accuracy: 0.8162 - val_loss: 0.5739 - val_accuracy: 0.8222\n",
            "Epoch 36/100\n",
            "38/38 [==============================] - 0s 7ms/step - loss: 0.3225 - accuracy: 0.8171 - val_loss: 0.5739 - val_accuracy: 0.8333\n",
            "Epoch 37/100\n",
            "38/38 [==============================] - 0s 7ms/step - loss: 0.3225 - accuracy: 0.8205 - val_loss: 0.5739 - val_accuracy: 0.8508\n",
            "Epoch 38/100\n",
            "38/38 [==============================] - 0s 7ms/step - loss: 0.3225 - accuracy: 0.8244 - val_loss: 0.5739 - val_accuracy: 0.8273\n",
            "Epoch 39/100\n",
            "38/38 [==============================] - 0s 7ms/step - loss: 0.3225 - accuracy: 0.8236 - val_loss: 0.5739 - val_accuracy: 0.8406\n",
            "Epoch 40/100\n",
            "38/38 [==============================] - 0s 7ms/step - loss: 0.3225 - accuracy: 0.8249 - val_loss: 0.5739 - val_accuracy: 0.8606\n",
            "Epoch 41/100\n",
            "38/38 [==============================] - 0s 7ms/step - loss: 0.3225 - accuracy: 0.8262 - val_loss: 0.5739 - val_accuracy: 0.8243\n",
            "Epoch 42/100\n",
            "38/38 [==============================] - 0s 7ms/step - loss: 0.3225 - accuracy: 0.8264 - val_loss: 0.5739 - val_accuracy: 0.8406\n",
            "Epoch 43/100\n",
            "38/38 [==============================] - 0s 6ms/step - loss: 0.3225 - accuracy: 0.8289 - val_loss: 0.5739 - val_accuracy: 0.8335\n",
            "Epoch 44/100\n",
            "38/38 [==============================] - 0s 7ms/step - loss: 0.3225 - accuracy: 0.8308 - val_loss: 0.5739 - val_accuracy: 0.8414\n",
            "Epoch 45/100\n",
            "38/38 [==============================] - 0s 7ms/step - loss: 0.3225 - accuracy: 0.8300 - val_loss: 0.5739 - val_accuracy: 0.8471\n",
            "Epoch 46/100\n",
            "38/38 [==============================] - 0s 7ms/step - loss: 0.3225 - accuracy: 0.8317 - val_loss: 0.5739 - val_accuracy: 0.8293\n",
            "Epoch 47/100\n",
            "38/38 [==============================] - 0s 11ms/step - loss: 0.3225 - accuracy: 0.8272 - val_loss: 0.5739 - val_accuracy: 0.8454\n",
            "Epoch 48/100\n",
            "38/38 [==============================] - 0s 11ms/step - loss: 0.3224 - accuracy: 0.8355 - val_loss: 0.5739 - val_accuracy: 0.8412\n",
            "Epoch 49/100\n",
            "38/38 [==============================] - 0s 11ms/step - loss: 0.3224 - accuracy: 0.8354 - val_loss: 0.5739 - val_accuracy: 0.8381\n",
            "Epoch 50/100\n",
            "38/38 [==============================] - 0s 13ms/step - loss: 0.3224 - accuracy: 0.8357 - val_loss: 0.5739 - val_accuracy: 0.8297\n",
            "Epoch 51/100\n",
            "38/38 [==============================] - 0s 11ms/step - loss: 0.3224 - accuracy: 0.8333 - val_loss: 0.5739 - val_accuracy: 0.8538\n",
            "Epoch 52/100\n",
            "38/38 [==============================] - 0s 11ms/step - loss: 0.3224 - accuracy: 0.8348 - val_loss: 0.5739 - val_accuracy: 0.8633\n",
            "Epoch 53/100\n",
            "38/38 [==============================] - 0s 11ms/step - loss: 0.3224 - accuracy: 0.8355 - val_loss: 0.5738 - val_accuracy: 0.8325\n",
            "Epoch 54/100\n",
            "38/38 [==============================] - 0s 10ms/step - loss: 0.3224 - accuracy: 0.8428 - val_loss: 0.5738 - val_accuracy: 0.8420\n",
            "Epoch 55/100\n",
            "38/38 [==============================] - 0s 10ms/step - loss: 0.3224 - accuracy: 0.8390 - val_loss: 0.5738 - val_accuracy: 0.8443\n",
            "Epoch 56/100\n",
            "38/38 [==============================] - 0s 11ms/step - loss: 0.3224 - accuracy: 0.8385 - val_loss: 0.5738 - val_accuracy: 0.8657\n",
            "Epoch 57/100\n",
            "38/38 [==============================] - 0s 11ms/step - loss: 0.3224 - accuracy: 0.8438 - val_loss: 0.5738 - val_accuracy: 0.8408\n",
            "Epoch 58/100\n",
            "38/38 [==============================] - 0s 8ms/step - loss: 0.3224 - accuracy: 0.8441 - val_loss: 0.5738 - val_accuracy: 0.8533\n",
            "Epoch 59/100\n",
            "38/38 [==============================] - 0s 6ms/step - loss: 0.3224 - accuracy: 0.8414 - val_loss: 0.5738 - val_accuracy: 0.8643\n",
            "Epoch 60/100\n",
            "38/38 [==============================] - 0s 7ms/step - loss: 0.3224 - accuracy: 0.8423 - val_loss: 0.5738 - val_accuracy: 0.8606\n",
            "Epoch 61/100\n",
            "38/38 [==============================] - 0s 7ms/step - loss: 0.3224 - accuracy: 0.8481 - val_loss: 0.5738 - val_accuracy: 0.8649\n",
            "Epoch 62/100\n",
            "38/38 [==============================] - 0s 8ms/step - loss: 0.3224 - accuracy: 0.8450 - val_loss: 0.5738 - val_accuracy: 0.8376\n",
            "Epoch 63/100\n",
            "38/38 [==============================] - 0s 8ms/step - loss: 0.3224 - accuracy: 0.8461 - val_loss: 0.5738 - val_accuracy: 0.8543\n",
            "Epoch 64/100\n",
            "38/38 [==============================] - 0s 7ms/step - loss: 0.3224 - accuracy: 0.8466 - val_loss: 0.5738 - val_accuracy: 0.8473\n",
            "Epoch 65/100\n",
            "38/38 [==============================] - 0s 8ms/step - loss: 0.3224 - accuracy: 0.8488 - val_loss: 0.5738 - val_accuracy: 0.8725\n",
            "Epoch 66/100\n",
            "38/38 [==============================] - 0s 7ms/step - loss: 0.3224 - accuracy: 0.8479 - val_loss: 0.5738 - val_accuracy: 0.8482\n",
            "Epoch 67/100\n",
            "38/38 [==============================] - 0s 7ms/step - loss: 0.3224 - accuracy: 0.8530 - val_loss: 0.5738 - val_accuracy: 0.8079\n",
            "Epoch 68/100\n",
            "38/38 [==============================] - 0s 12ms/step - loss: 0.3224 - accuracy: 0.8449 - val_loss: 0.5738 - val_accuracy: 0.8379\n",
            "Epoch 69/100\n",
            "38/38 [==============================] - 0s 11ms/step - loss: 0.3224 - accuracy: 0.8494 - val_loss: 0.5738 - val_accuracy: 0.8344\n",
            "Epoch 70/100\n",
            "38/38 [==============================] - 0s 11ms/step - loss: 0.3224 - accuracy: 0.8468 - val_loss: 0.5738 - val_accuracy: 0.8446\n",
            "Epoch 71/100\n",
            "38/38 [==============================] - 0s 11ms/step - loss: 0.3224 - accuracy: 0.8517 - val_loss: 0.5738 - val_accuracy: 0.8528\n",
            "Epoch 72/100\n",
            "38/38 [==============================] - 0s 11ms/step - loss: 0.3224 - accuracy: 0.8496 - val_loss: 0.5738 - val_accuracy: 0.8458\n",
            "Epoch 73/100\n",
            "38/38 [==============================] - 0s 11ms/step - loss: 0.3224 - accuracy: 0.8554 - val_loss: 0.5738 - val_accuracy: 0.8739\n",
            "Epoch 74/100\n",
            "38/38 [==============================] - 0s 11ms/step - loss: 0.3224 - accuracy: 0.8500 - val_loss: 0.5738 - val_accuracy: 0.8465\n",
            "Epoch 75/100\n",
            "38/38 [==============================] - 0s 11ms/step - loss: 0.3224 - accuracy: 0.8580 - val_loss: 0.5738 - val_accuracy: 0.8528\n",
            "Epoch 76/100\n",
            "38/38 [==============================] - 0s 11ms/step - loss: 0.3224 - accuracy: 0.8530 - val_loss: 0.5738 - val_accuracy: 0.8652\n",
            "Epoch 77/100\n",
            "38/38 [==============================] - 0s 11ms/step - loss: 0.3224 - accuracy: 0.8560 - val_loss: 0.5738 - val_accuracy: 0.8730\n",
            "Epoch 78/100\n",
            "38/38 [==============================] - 0s 11ms/step - loss: 0.3224 - accuracy: 0.8563 - val_loss: 0.5738 - val_accuracy: 0.8832\n",
            "Epoch 79/100\n",
            "38/38 [==============================] - 0s 9ms/step - loss: 0.3224 - accuracy: 0.8585 - val_loss: 0.5738 - val_accuracy: 0.8566\n",
            "Epoch 80/100\n",
            "38/38 [==============================] - 0s 7ms/step - loss: 0.3224 - accuracy: 0.8583 - val_loss: 0.5738 - val_accuracy: 0.8676\n",
            "Epoch 81/100\n",
            "38/38 [==============================] - 0s 8ms/step - loss: 0.3224 - accuracy: 0.8591 - val_loss: 0.5738 - val_accuracy: 0.8552\n",
            "Epoch 82/100\n",
            "38/38 [==============================] - 0s 8ms/step - loss: 0.3224 - accuracy: 0.8617 - val_loss: 0.5738 - val_accuracy: 0.8457\n",
            "Epoch 83/100\n",
            "38/38 [==============================] - 0s 8ms/step - loss: 0.3224 - accuracy: 0.8583 - val_loss: 0.5738 - val_accuracy: 0.8655\n",
            "Epoch 84/100\n",
            "38/38 [==============================] - 0s 8ms/step - loss: 0.3224 - accuracy: 0.8644 - val_loss: 0.5738 - val_accuracy: 0.8447\n",
            "Epoch 85/100\n",
            "38/38 [==============================] - 0s 7ms/step - loss: 0.3224 - accuracy: 0.8633 - val_loss: 0.5738 - val_accuracy: 0.8482\n",
            "Epoch 86/100\n",
            "38/38 [==============================] - 0s 7ms/step - loss: 0.3224 - accuracy: 0.8666 - val_loss: 0.5738 - val_accuracy: 0.8876\n",
            "Epoch 87/100\n",
            "38/38 [==============================] - 0s 10ms/step - loss: 0.3224 - accuracy: 0.8680 - val_loss: 0.5738 - val_accuracy: 0.8859\n",
            "Epoch 88/100\n",
            "38/38 [==============================] - 0s 11ms/step - loss: 0.3224 - accuracy: 0.8666 - val_loss: 0.5738 - val_accuracy: 0.8617\n",
            "Epoch 89/100\n",
            "38/38 [==============================] - 0s 11ms/step - loss: 0.3224 - accuracy: 0.8693 - val_loss: 0.5738 - val_accuracy: 0.8605\n",
            "Epoch 90/100\n",
            "38/38 [==============================] - 0s 11ms/step - loss: 0.3224 - accuracy: 0.8672 - val_loss: 0.5738 - val_accuracy: 0.8870\n",
            "Epoch 91/100\n",
            "38/38 [==============================] - 0s 11ms/step - loss: 0.3224 - accuracy: 0.8672 - val_loss: 0.5738 - val_accuracy: 0.8747\n",
            "Epoch 92/100\n",
            "38/38 [==============================] - 1s 13ms/step - loss: 0.3224 - accuracy: 0.8712 - val_loss: 0.5738 - val_accuracy: 0.8774\n",
            "Epoch 93/100\n",
            "38/38 [==============================] - 0s 12ms/step - loss: 0.3224 - accuracy: 0.8712 - val_loss: 0.5738 - val_accuracy: 0.8687\n",
            "Epoch 94/100\n",
            "38/38 [==============================] - 1s 14ms/step - loss: 0.3224 - accuracy: 0.8674 - val_loss: 0.5738 - val_accuracy: 0.8757\n",
            "Epoch 95/100\n",
            "38/38 [==============================] - 1s 34ms/step - loss: 0.3224 - accuracy: 0.8691 - val_loss: 0.5738 - val_accuracy: 0.8893\n",
            "Epoch 96/100\n",
            "38/38 [==============================] - 0s 12ms/step - loss: 0.3224 - accuracy: 0.8689 - val_loss: 0.5738 - val_accuracy: 0.8539\n",
            "Epoch 97/100\n",
            "38/38 [==============================] - 0s 7ms/step - loss: 0.3224 - accuracy: 0.8724 - val_loss: 0.5738 - val_accuracy: 0.8525\n",
            "Epoch 98/100\n",
            "38/38 [==============================] - 0s 7ms/step - loss: 0.3224 - accuracy: 0.8717 - val_loss: 0.5738 - val_accuracy: 0.8801\n",
            "Epoch 99/100\n",
            "38/38 [==============================] - 0s 7ms/step - loss: 0.3224 - accuracy: 0.8729 - val_loss: 0.5738 - val_accuracy: 0.8797\n",
            "Epoch 100/100\n",
            "38/38 [==============================] - 0s 8ms/step - loss: 0.3224 - accuracy: 0.8742 - val_loss: 0.5738 - val_accuracy: 0.8852\n"
          ]
        }
      ]
    },
    {
      "cell_type": "code",
      "source": [
        "if model_selection[model_flag]==\"ALL\" or model_selection[model_flag] == \"AE\":\n",
        "  filepath = '/content/drive/MyDrive/Colab_Notebooks/Models/ae_binary.json'\n",
        "  weightspath = '/content/drive/MyDrive/Colab_Notebooks/Weights/ae_binary.h5'\n",
        "  if (not path.isfile(filepath)): \n",
        "    # serialize model to JSON\n",
        "    autoencoder_json = autoencoder.to_json()\n",
        "    with open(filepath, \"w\") as json_file:\n",
        "      json_file.write(autoencoder_json)\n",
        "\n",
        "    # serialize weights to HDF5\n",
        "    autoencoder.save_weights(weightspath)\n",
        "    print(\"Saved model to disk\")\n",
        "\n",
        "    # load json and create model\n",
        "    json_file = open(filepath, 'r')\n",
        "    loaded_model_json = json_file.read()\n",
        "    json_file.close()\n",
        "    autoencoder = model_from_json(loaded_model_json)\n",
        "\n",
        "    # load weights into new model\n",
        "    autoencoder.load_weights(weightspath)\n",
        "    print(\"Loaded model from disk\")"
      ],
      "metadata": {
        "id": "AdtR3-9xLliU"
      },
      "execution_count": null,
      "outputs": []
    },
    {
      "cell_type": "code",
      "source": [
        "if model_selection[model_flag]==\"ALL\" or model_selection[model_flag] == \"AE\":\n",
        "  # defining loss function, optimizer, metrics and then compiling model\n",
        "  autoencoder.compile(optimizer='adam', loss='mean_squared_error',metrics=['accuracy'])"
      ],
      "metadata": {
        "id": "Wqr6HVtMLwx9"
      },
      "execution_count": null,
      "outputs": []
    },
    {
      "cell_type": "code",
      "source": [
        "if model_selection[model_flag]==\"ALL\" or model_selection[model_flag] == \"AE\":\n",
        "  # predicting target attribute on testing dataset\n",
        "  test_results = autoencoder.evaluate(X_test, X_test, verbose=1)\n",
        "  print(f'Test results - Loss: {test_results[0]} - Accuracy: {test_results[1]}%')"
      ],
      "metadata": {
        "colab": {
          "base_uri": "https://localhost:8080/"
        },
        "id": "FQrjCk2hL09x",
        "outputId": "459e2499-aff0-4a22-f567-7b298fa7fb88"
      },
      "execution_count": null,
      "outputs": [
        {
          "output_type": "stream",
          "name": "stdout",
          "text": [
            "197/197 [==============================] - 1s 2ms/step - loss: 0.5738 - accuracy: 0.8852\n",
            "Test results - Loss: 0.5738082528114319 - Accuracy: 0.8852198719978333%\n"
          ]
        }
      ]
    },
    {
      "cell_type": "code",
      "source": [
        "if model_selection[model_flag]==\"ALL\" or model_selection[model_flag] == \"AE\":\n",
        "  # Plot of loss vs epoch of train and test dataset\n",
        "  plt.plot(history['loss'])\n",
        "  plt.plot(history['val_loss'])\n",
        "  plt.title(\"Plot of loss vs epoch for train and test dataset\")\n",
        "  plt.ylabel('loss')\n",
        "  plt.xlabel('epoch')\n",
        "  plt.legend(['train', 'test'], loc='upper right')\n",
        "  plt.savefig('/content/drive/MyDrive/Colab_Notebooks/Plots/ae_binary_loss.png')\n",
        "  plt.show()"
      ],
      "metadata": {
        "colab": {
          "base_uri": "https://localhost:8080/",
          "height": 295
        },
        "id": "VqQsjSZcL1-B",
        "outputId": "aed5a5a8-0bf9-4ddb-b34b-c05042b8200a"
      },
      "execution_count": null,
      "outputs": [
        {
          "output_type": "display_data",
          "data": {
            "text/plain": [
              "<Figure size 432x288 with 1 Axes>"
            ],
            "image/png": "[encoded data removed]"
          },
          "metadata": {
            "needs_background": "light"
          }
        }
      ]
    },
    {
      "cell_type": "code",
      "source": [
        "if model_selection[model_flag]==\"ALL\" or model_selection[model_flag] == \"AE\":\n",
        "  # Plot of accuracy vs epoch of train and test dataset\n",
        "  plt.plot(history['accuracy'])\n",
        "  plt.plot(history['val_accuracy'])\n",
        "  plt.title(\"Plot of accuracy vs epoch for train and test dataset\")\n",
        "  plt.ylabel('accuracy')\n",
        "  plt.xlabel('epoch')\n",
        "  plt.legend(['train', 'test'], loc='best')\n",
        "  plt.savefig('/content/drive/MyDrive/Colab_Notebooks/Plots/ae_binary_accuracy.png')\n",
        "  plt.show()"
      ],
      "metadata": {
        "colab": {
          "base_uri": "https://localhost:8080/",
          "height": 295
        },
        "id": "fkjD9QXKL25Z",
        "outputId": "dba5e7ff-8744-4db9-a255-4e6eac3e6f05"
      },
      "execution_count": null,
      "outputs": [
        {
          "output_type": "display_data",
          "data": {
            "text/plain": [
              "<Figure size 432x288 with 1 Axes>"
            ],
            "image/png": "[encoded data removed]"
          },
          "metadata": {
            "needs_background": "light"
          }
        }
      ]
    },
    {
      "cell_type": "code",
      "source": [
        "if model_selection[model_flag]==\"ALL\" or model_selection[model_flag] == \"AE\":\n",
        "  # representation of model layers\n",
        "  plot_model(autoencoder, to_file='/content/drive/MyDrive/Colab_Notebooks/Plots/ae_binary.png', show_shapes=True,)"
      ],
      "metadata": {
        "id": "lf9q83sBMGPD"
      },
      "execution_count": null,
      "outputs": []
    },
    {
      "cell_type": "code",
      "source": [
        "if model_selection[model_flag]==\"ALL\" or model_selection[model_flag] == \"AE\":\n",
        "  # calculating reconstruction error \n",
        "  predictions = autoencoder.predict(X_test)"
      ],
      "metadata": {
        "colab": {
          "base_uri": "https://localhost:8080/"
        },
        "id": "SFIXKGwuMLFo",
        "outputId": "5eaf7062-bb99-4a7d-c248-4712708af046"
      },
      "execution_count": null,
      "outputs": [
        {
          "output_type": "stream",
          "name": "stdout",
          "text": [
            "197/197 [==============================] - 0s 2ms/step\n"
          ]
        }
      ]
    },
    {
      "cell_type": "code",
      "source": [
        "if model_selection[model_flag]==\"ALL\" or model_selection[model_flag] == \"AE\":\n",
        "  mse = np.mean(np.power(X_test - predictions, 2), axis=1)\n",
        "  error_df = pd.DataFrame({'reconstruction_error': mse,\n",
        "                           'true_class': y_test})"
      ],
      "metadata": {
        "id": "cqKJCyZnMMEG"
      },
      "execution_count": null,
      "outputs": []
    },
    {
      "cell_type": "code",
      "source": [
        "if model_selection[model_flag]==\"ALL\" or model_selection[model_flag] == \"AE\":\n",
        "  error_df.describe()\n",
        "  print(predictions.shape)"
      ],
      "metadata": {
        "colab": {
          "base_uri": "https://localhost:8080/"
        },
        "id": "EdQJudbDMhmB",
        "outputId": "6d3ebea4-aac6-4005-fa22-abe96e804d0a"
      },
      "execution_count": null,
      "outputs": [
        {
          "output_type": "stream",
          "name": "stdout",
          "text": [
            "(6299, 122)\n"
          ]
        }
      ]
    },
    {
      "cell_type": "markdown",
      "source": [
        "## **AE Classifier**"
      ],
      "metadata": {
        "id": "PHsaAAMmNQrs"
      }
    },
    {
      "cell_type": "code",
      "source": [
        "if model_selection[model_flag]==\"ALL\" or model_selection[model_flag] == \"AE\":\n",
        "  i_dim = predictions.shape[1]\n",
        "\n",
        "  #input layer\n",
        "  i_layer = Input(shape=(i_dim, ))\n",
        "  #hidden layer with 50 neurons\n",
        "  fvector = Dense(50, activation=\"sigmoid\")(i_layer)                    \n",
        "  #doutput layer\n",
        "  o_layer = Dense(1, activation='sigmoid')(fvector)"
      ],
      "metadata": {
        "id": "1hK07LDBMoZg"
      },
      "execution_count": null,
      "outputs": []
    },
    {
      "cell_type": "code",
      "source": [
        "if model_selection[model_flag]==\"ALL\" or model_selection[model_flag] == \"AE\":\n",
        "  # creating model with input, encoding, decoding, output layers\n",
        "  ae_classifier = Model(inputs=i_layer, outputs=o_layer)\n",
        "\n",
        "  # defining loss function, optimizer, metrics and then compiling model\n",
        "  ae_classifier.compile(optimizer='adam', loss='binary_crossentropy',metrics=['accuracy'])"
      ],
      "metadata": {
        "id": "Efq77rVINXWE"
      },
      "execution_count": null,
      "outputs": []
    },
    {
      "cell_type": "code",
      "source": [
        "if model_selection[model_flag]==\"ALL\" or model_selection[model_flag] == \"AE\":\n",
        "  # summary of model layers\n",
        "  ae_classifier.summary()"
      ],
      "metadata": {
        "colab": {
          "base_uri": "https://localhost:8080/"
        },
        "id": "0Yl594VGNX1W",
        "outputId": "946be957-043e-44c6-a1de-dd523ae42490"
      },
      "execution_count": null,
      "outputs": [
        {
          "output_type": "stream",
          "name": "stdout",
          "text": [
            "Model: \"model_2\"\n",
            "_________________________________________________________________\n",
            " Layer (type)                Output Shape              Param #   \n",
            "=================================================================\n",
            " input_3 (InputLayer)        [(None, 122)]             0         \n",
            "                                                                 \n",
            " dense_7 (Dense)             (None, 50)                6150      \n",
            "                                                                 \n",
            " dense_8 (Dense)             (None, 1)                 51        \n",
            "                                                                 \n",
            "=================================================================\n",
            "Total params: 6,201\n",
            "Trainable params: 6,201\n",
            "Non-trainable params: 0\n",
            "_________________________________________________________________\n"
          ]
        }
      ]
    },
    {
      "cell_type": "code",
      "source": [
        "if model_selection[model_flag]==\"ALL\" or model_selection[model_flag] == \"AE\":\n",
        "  # training the model on training dataset\n",
        "  his = ae_classifier.fit(predictions, y_test, epochs=300,batch_size=500, validation_split=0.2).history"
      ],
      "metadata": {
        "colab": {
          "base_uri": "https://localhost:8080/"
        },
        "id": "23n8Qt0uNX8Z",
        "outputId": "0e9e6fdf-aead-4d80-cab8-61246247bc29"
      },
      "execution_count": null,
      "outputs": [
        {
          "output_type": "stream",
          "name": "stdout",
          "text": [
            "Epoch 1/300\n",
            "11/11 [==============================] - 1s 22ms/step - loss: 0.7215 - accuracy: 0.4715 - val_loss: 0.7009 - val_accuracy: 0.4563\n",
            "Epoch 2/300\n",
            "11/11 [==============================] - 0s 8ms/step - loss: 0.6883 - accuracy: 0.5543 - val_loss: 0.6764 - val_accuracy: 0.8325\n",
            "Epoch 3/300\n",
            "11/11 [==============================] - 0s 8ms/step - loss: 0.6730 - accuracy: 0.5630 - val_loss: 0.6652 - val_accuracy: 0.5437\n",
            "Epoch 4/300\n",
            "11/11 [==============================] - 0s 8ms/step - loss: 0.6652 - accuracy: 0.5285 - val_loss: 0.6565 - val_accuracy: 0.5437\n",
            "Epoch 5/300\n",
            "11/11 [==============================] - 0s 7ms/step - loss: 0.6560 - accuracy: 0.5297 - val_loss: 0.6477 - val_accuracy: 0.5603\n",
            "Epoch 6/300\n",
            "11/11 [==============================] - 0s 7ms/step - loss: 0.6466 - accuracy: 0.7406 - val_loss: 0.6391 - val_accuracy: 0.8833\n",
            "Epoch 7/300\n",
            "11/11 [==============================] - 0s 7ms/step - loss: 0.6378 - accuracy: 0.8883 - val_loss: 0.6305 - val_accuracy: 0.8992\n",
            "Epoch 8/300\n",
            "11/11 [==============================] - 0s 7ms/step - loss: 0.6287 - accuracy: 0.8932 - val_loss: 0.6211 - val_accuracy: 0.8984\n",
            "Epoch 9/300\n",
            "11/11 [==============================] - 0s 8ms/step - loss: 0.6193 - accuracy: 0.8839 - val_loss: 0.6113 - val_accuracy: 0.8905\n",
            "Epoch 10/300\n",
            "11/11 [==============================] - 0s 7ms/step - loss: 0.6102 - accuracy: 0.8815 - val_loss: 0.6019 - val_accuracy: 0.8968\n",
            "Epoch 11/300\n",
            "11/11 [==============================] - 0s 8ms/step - loss: 0.6004 - accuracy: 0.8918 - val_loss: 0.5921 - val_accuracy: 0.8984\n",
            "Epoch 12/300\n",
            "11/11 [==============================] - 0s 8ms/step - loss: 0.5905 - accuracy: 0.8928 - val_loss: 0.5819 - val_accuracy: 0.8992\n",
            "Epoch 13/300\n",
            "11/11 [==============================] - 0s 8ms/step - loss: 0.5804 - accuracy: 0.8932 - val_loss: 0.5716 - val_accuracy: 0.9016\n",
            "Epoch 14/300\n",
            "11/11 [==============================] - 0s 7ms/step - loss: 0.5698 - accuracy: 0.8966 - val_loss: 0.5610 - val_accuracy: 0.9056\n",
            "Epoch 15/300\n",
            "11/11 [==============================] - 0s 6ms/step - loss: 0.5589 - accuracy: 0.8938 - val_loss: 0.5499 - val_accuracy: 0.8992\n",
            "Epoch 16/300\n",
            "11/11 [==============================] - 0s 6ms/step - loss: 0.5477 - accuracy: 0.8901 - val_loss: 0.5388 - val_accuracy: 0.8984\n",
            "Epoch 17/300\n",
            "11/11 [==============================] - 0s 6ms/step - loss: 0.5366 - accuracy: 0.8893 - val_loss: 0.5275 - val_accuracy: 0.8984\n",
            "Epoch 18/300\n",
            "11/11 [==============================] - 0s 6ms/step - loss: 0.5245 - accuracy: 0.8903 - val_loss: 0.5149 - val_accuracy: 0.8992\n",
            "Epoch 19/300\n",
            "11/11 [==============================] - 0s 7ms/step - loss: 0.5129 - accuracy: 0.8910 - val_loss: 0.5031 - val_accuracy: 0.8984\n",
            "Epoch 20/300\n",
            "11/11 [==============================] - 0s 6ms/step - loss: 0.5010 - accuracy: 0.8899 - val_loss: 0.4912 - val_accuracy: 0.8984\n",
            "Epoch 21/300\n",
            "11/11 [==============================] - 0s 8ms/step - loss: 0.4891 - accuracy: 0.8893 - val_loss: 0.4793 - val_accuracy: 0.8976\n",
            "Epoch 22/300\n",
            "11/11 [==============================] - 0s 7ms/step - loss: 0.4773 - accuracy: 0.8895 - val_loss: 0.4674 - val_accuracy: 0.8976\n",
            "Epoch 23/300\n",
            "11/11 [==============================] - 0s 7ms/step - loss: 0.4652 - accuracy: 0.8897 - val_loss: 0.4551 - val_accuracy: 0.8976\n",
            "Epoch 24/300\n",
            "11/11 [==============================] - 0s 6ms/step - loss: 0.4533 - accuracy: 0.8893 - val_loss: 0.4431 - val_accuracy: 0.8992\n",
            "Epoch 25/300\n",
            "11/11 [==============================] - 0s 7ms/step - loss: 0.4416 - accuracy: 0.8899 - val_loss: 0.4312 - val_accuracy: 0.8984\n",
            "Epoch 26/300\n",
            "11/11 [==============================] - 0s 6ms/step - loss: 0.4300 - accuracy: 0.8897 - val_loss: 0.4197 - val_accuracy: 0.8976\n",
            "Epoch 27/300\n",
            "11/11 [==============================] - 0s 8ms/step - loss: 0.4185 - accuracy: 0.8899 - val_loss: 0.4085 - val_accuracy: 0.8984\n",
            "Epoch 28/300\n",
            "11/11 [==============================] - 0s 8ms/step - loss: 0.4076 - accuracy: 0.8910 - val_loss: 0.3976 - val_accuracy: 0.8929\n",
            "Epoch 29/300\n",
            "11/11 [==============================] - 0s 7ms/step - loss: 0.3970 - accuracy: 0.8940 - val_loss: 0.3872 - val_accuracy: 0.8976\n",
            "Epoch 30/300\n",
            "11/11 [==============================] - 0s 6ms/step - loss: 0.3870 - accuracy: 0.8920 - val_loss: 0.3774 - val_accuracy: 0.8929\n",
            "Epoch 31/300\n",
            "11/11 [==============================] - 0s 8ms/step - loss: 0.3774 - accuracy: 0.8916 - val_loss: 0.3677 - val_accuracy: 0.8929\n",
            "Epoch 32/300\n",
            "11/11 [==============================] - 0s 8ms/step - loss: 0.3681 - accuracy: 0.8922 - val_loss: 0.3586 - val_accuracy: 0.8929\n",
            "Epoch 33/300\n",
            "11/11 [==============================] - 0s 7ms/step - loss: 0.3595 - accuracy: 0.8914 - val_loss: 0.3501 - val_accuracy: 0.8937\n",
            "Epoch 34/300\n",
            "11/11 [==============================] - 0s 8ms/step - loss: 0.3513 - accuracy: 0.8928 - val_loss: 0.3421 - val_accuracy: 0.8937\n",
            "Epoch 35/300\n",
            "11/11 [==============================] - 0s 6ms/step - loss: 0.3437 - accuracy: 0.8928 - val_loss: 0.3346 - val_accuracy: 0.8944\n",
            "Epoch 36/300\n",
            "11/11 [==============================] - 0s 7ms/step - loss: 0.3366 - accuracy: 0.8920 - val_loss: 0.3276 - val_accuracy: 0.8937\n",
            "Epoch 37/300\n",
            "11/11 [==============================] - 0s 8ms/step - loss: 0.3301 - accuracy: 0.8920 - val_loss: 0.3212 - val_accuracy: 0.8929\n",
            "Epoch 38/300\n",
            "11/11 [==============================] - 0s 6ms/step - loss: 0.3240 - accuracy: 0.8916 - val_loss: 0.3154 - val_accuracy: 0.8937\n",
            "Epoch 39/300\n",
            "11/11 [==============================] - 0s 7ms/step - loss: 0.3184 - accuracy: 0.8914 - val_loss: 0.3100 - val_accuracy: 0.8937\n",
            "Epoch 40/300\n",
            "11/11 [==============================] - 0s 8ms/step - loss: 0.3131 - accuracy: 0.8914 - val_loss: 0.3046 - val_accuracy: 0.8929\n",
            "Epoch 41/300\n",
            "11/11 [==============================] - 0s 8ms/step - loss: 0.3083 - accuracy: 0.8918 - val_loss: 0.3001 - val_accuracy: 0.8929\n",
            "Epoch 42/300\n",
            "11/11 [==============================] - 0s 6ms/step - loss: 0.3038 - accuracy: 0.8916 - val_loss: 0.2957 - val_accuracy: 0.8929\n",
            "Epoch 43/300\n",
            "11/11 [==============================] - 0s 6ms/step - loss: 0.2994 - accuracy: 0.8920 - val_loss: 0.2914 - val_accuracy: 0.8929\n",
            "Epoch 44/300\n",
            "11/11 [==============================] - 0s 7ms/step - loss: 0.2955 - accuracy: 0.8918 - val_loss: 0.2875 - val_accuracy: 0.8929\n",
            "Epoch 45/300\n",
            "11/11 [==============================] - 0s 7ms/step - loss: 0.2919 - accuracy: 0.8916 - val_loss: 0.2841 - val_accuracy: 0.8929\n",
            "Epoch 46/300\n",
            "11/11 [==============================] - 0s 6ms/step - loss: 0.2886 - accuracy: 0.8916 - val_loss: 0.2807 - val_accuracy: 0.8929\n",
            "Epoch 47/300\n",
            "11/11 [==============================] - 0s 8ms/step - loss: 0.2854 - accuracy: 0.8920 - val_loss: 0.2776 - val_accuracy: 0.8929\n",
            "Epoch 48/300\n",
            "11/11 [==============================] - 0s 7ms/step - loss: 0.2824 - accuracy: 0.8920 - val_loss: 0.2746 - val_accuracy: 0.8929\n",
            "Epoch 49/300\n",
            "11/11 [==============================] - 0s 7ms/step - loss: 0.2796 - accuracy: 0.8922 - val_loss: 0.2720 - val_accuracy: 0.8929\n",
            "Epoch 50/300\n",
            "11/11 [==============================] - 0s 8ms/step - loss: 0.2773 - accuracy: 0.8930 - val_loss: 0.2698 - val_accuracy: 0.8984\n",
            "Epoch 51/300\n",
            "11/11 [==============================] - 0s 8ms/step - loss: 0.2751 - accuracy: 0.8909 - val_loss: 0.2673 - val_accuracy: 0.8944\n",
            "Epoch 52/300\n",
            "11/11 [==============================] - 0s 6ms/step - loss: 0.2727 - accuracy: 0.8916 - val_loss: 0.2652 - val_accuracy: 0.8921\n",
            "Epoch 53/300\n",
            "11/11 [==============================] - 0s 6ms/step - loss: 0.2712 - accuracy: 0.8912 - val_loss: 0.2635 - val_accuracy: 0.8921\n",
            "Epoch 54/300\n",
            "11/11 [==============================] - 0s 6ms/step - loss: 0.2691 - accuracy: 0.8910 - val_loss: 0.2611 - val_accuracy: 0.8929\n",
            "Epoch 55/300\n",
            "11/11 [==============================] - 0s 7ms/step - loss: 0.2669 - accuracy: 0.8920 - val_loss: 0.2596 - val_accuracy: 0.8944\n",
            "Epoch 56/300\n",
            "11/11 [==============================] - 0s 8ms/step - loss: 0.2654 - accuracy: 0.8932 - val_loss: 0.2579 - val_accuracy: 0.8937\n",
            "Epoch 57/300\n",
            "11/11 [==============================] - 0s 6ms/step - loss: 0.2639 - accuracy: 0.8920 - val_loss: 0.2562 - val_accuracy: 0.8929\n",
            "Epoch 58/300\n",
            "11/11 [==============================] - 0s 7ms/step - loss: 0.2624 - accuracy: 0.8920 - val_loss: 0.2547 - val_accuracy: 0.8929\n",
            "Epoch 59/300\n",
            "11/11 [==============================] - 0s 7ms/step - loss: 0.2610 - accuracy: 0.8918 - val_loss: 0.2534 - val_accuracy: 0.8929\n",
            "Epoch 60/300\n",
            "11/11 [==============================] - 0s 6ms/step - loss: 0.2598 - accuracy: 0.8920 - val_loss: 0.2522 - val_accuracy: 0.8929\n",
            "Epoch 61/300\n",
            "11/11 [==============================] - 0s 7ms/step - loss: 0.2586 - accuracy: 0.8918 - val_loss: 0.2512 - val_accuracy: 0.8937\n",
            "Epoch 62/300\n",
            "11/11 [==============================] - 0s 6ms/step - loss: 0.2575 - accuracy: 0.8918 - val_loss: 0.2501 - val_accuracy: 0.8937\n",
            "Epoch 63/300\n",
            "11/11 [==============================] - 0s 9ms/step - loss: 0.2564 - accuracy: 0.8920 - val_loss: 0.2491 - val_accuracy: 0.8937\n",
            "Epoch 64/300\n",
            "11/11 [==============================] - 0s 6ms/step - loss: 0.2554 - accuracy: 0.8916 - val_loss: 0.2482 - val_accuracy: 0.8937\n",
            "Epoch 65/300\n",
            "11/11 [==============================] - 0s 7ms/step - loss: 0.2545 - accuracy: 0.8916 - val_loss: 0.2472 - val_accuracy: 0.8937\n",
            "Epoch 66/300\n",
            "11/11 [==============================] - 0s 6ms/step - loss: 0.2535 - accuracy: 0.8918 - val_loss: 0.2463 - val_accuracy: 0.8937\n",
            "Epoch 67/300\n",
            "11/11 [==============================] - 0s 6ms/step - loss: 0.2526 - accuracy: 0.8918 - val_loss: 0.2454 - val_accuracy: 0.8937\n",
            "Epoch 68/300\n",
            "11/11 [==============================] - 0s 7ms/step - loss: 0.2518 - accuracy: 0.8920 - val_loss: 0.2446 - val_accuracy: 0.8937\n",
            "Epoch 69/300\n",
            "11/11 [==============================] - 0s 7ms/step - loss: 0.2510 - accuracy: 0.8920 - val_loss: 0.2438 - val_accuracy: 0.8929\n",
            "Epoch 70/300\n",
            "11/11 [==============================] - 0s 12ms/step - loss: 0.2505 - accuracy: 0.8916 - val_loss: 0.2431 - val_accuracy: 0.8929\n",
            "Epoch 71/300\n",
            "11/11 [==============================] - 0s 10ms/step - loss: 0.2497 - accuracy: 0.8916 - val_loss: 0.2424 - val_accuracy: 0.8929\n",
            "Epoch 72/300\n",
            "11/11 [==============================] - 0s 9ms/step - loss: 0.2491 - accuracy: 0.8916 - val_loss: 0.2418 - val_accuracy: 0.8929\n",
            "Epoch 73/300\n",
            "11/11 [==============================] - 0s 9ms/step - loss: 0.2485 - accuracy: 0.8914 - val_loss: 0.2412 - val_accuracy: 0.8937\n",
            "Epoch 74/300\n",
            "11/11 [==============================] - 0s 9ms/step - loss: 0.2478 - accuracy: 0.8916 - val_loss: 0.2406 - val_accuracy: 0.8929\n",
            "Epoch 75/300\n",
            "11/11 [==============================] - 0s 11ms/step - loss: 0.2477 - accuracy: 0.8912 - val_loss: 0.2402 - val_accuracy: 0.8921\n",
            "Epoch 76/300\n",
            "11/11 [==============================] - 0s 9ms/step - loss: 0.2469 - accuracy: 0.8910 - val_loss: 0.2395 - val_accuracy: 0.8929\n",
            "Epoch 77/300\n",
            "11/11 [==============================] - 0s 10ms/step - loss: 0.2463 - accuracy: 0.8920 - val_loss: 0.2391 - val_accuracy: 0.8944\n",
            "Epoch 78/300\n",
            "11/11 [==============================] - 0s 10ms/step - loss: 0.2461 - accuracy: 0.8916 - val_loss: 0.2390 - val_accuracy: 0.8984\n",
            "Epoch 79/300\n",
            "11/11 [==============================] - 0s 11ms/step - loss: 0.2454 - accuracy: 0.8926 - val_loss: 0.2382 - val_accuracy: 0.8937\n",
            "Epoch 80/300\n",
            "11/11 [==============================] - 0s 10ms/step - loss: 0.2450 - accuracy: 0.8916 - val_loss: 0.2378 - val_accuracy: 0.8937\n",
            "Epoch 81/300\n",
            "11/11 [==============================] - 0s 9ms/step - loss: 0.2445 - accuracy: 0.8916 - val_loss: 0.2373 - val_accuracy: 0.8937\n",
            "Epoch 82/300\n",
            "11/11 [==============================] - 0s 10ms/step - loss: 0.2441 - accuracy: 0.8916 - val_loss: 0.2368 - val_accuracy: 0.8937\n",
            "Epoch 83/300\n",
            "11/11 [==============================] - 0s 9ms/step - loss: 0.2438 - accuracy: 0.8916 - val_loss: 0.2364 - val_accuracy: 0.8937\n",
            "Epoch 84/300\n",
            "11/11 [==============================] - 0s 10ms/step - loss: 0.2434 - accuracy: 0.8922 - val_loss: 0.2361 - val_accuracy: 0.8937\n",
            "Epoch 85/300\n",
            "11/11 [==============================] - 0s 11ms/step - loss: 0.2433 - accuracy: 0.8934 - val_loss: 0.2359 - val_accuracy: 0.8944\n",
            "Epoch 86/300\n",
            "11/11 [==============================] - 0s 13ms/step - loss: 0.2428 - accuracy: 0.8920 - val_loss: 0.2353 - val_accuracy: 0.8937\n",
            "Epoch 87/300\n",
            "11/11 [==============================] - 0s 9ms/step - loss: 0.2426 - accuracy: 0.8916 - val_loss: 0.2350 - val_accuracy: 0.8937\n",
            "Epoch 88/300\n",
            "11/11 [==============================] - 0s 13ms/step - loss: 0.2421 - accuracy: 0.8918 - val_loss: 0.2347 - val_accuracy: 0.8937\n",
            "Epoch 89/300\n",
            "11/11 [==============================] - 0s 9ms/step - loss: 0.2420 - accuracy: 0.8918 - val_loss: 0.2344 - val_accuracy: 0.8937\n",
            "Epoch 90/300\n",
            "11/11 [==============================] - 0s 11ms/step - loss: 0.2418 - accuracy: 0.8924 - val_loss: 0.2344 - val_accuracy: 0.9000\n",
            "Epoch 91/300\n",
            "11/11 [==============================] - 0s 13ms/step - loss: 0.2416 - accuracy: 0.8932 - val_loss: 0.2339 - val_accuracy: 0.9000\n",
            "Epoch 92/300\n",
            "11/11 [==============================] - 0s 9ms/step - loss: 0.2415 - accuracy: 0.8918 - val_loss: 0.2335 - val_accuracy: 0.8929\n",
            "Epoch 93/300\n",
            "11/11 [==============================] - 0s 10ms/step - loss: 0.2411 - accuracy: 0.8916 - val_loss: 0.2333 - val_accuracy: 0.8952\n",
            "Epoch 94/300\n",
            "11/11 [==============================] - 0s 11ms/step - loss: 0.2408 - accuracy: 0.8938 - val_loss: 0.2331 - val_accuracy: 0.8952\n",
            "Epoch 95/300\n",
            "11/11 [==============================] - 0s 10ms/step - loss: 0.2407 - accuracy: 0.8926 - val_loss: 0.2330 - val_accuracy: 0.8937\n",
            "Epoch 96/300\n",
            "11/11 [==============================] - 0s 11ms/step - loss: 0.2406 - accuracy: 0.8916 - val_loss: 0.2327 - val_accuracy: 0.8952\n",
            "Epoch 97/300\n",
            "11/11 [==============================] - 0s 11ms/step - loss: 0.2402 - accuracy: 0.8946 - val_loss: 0.2325 - val_accuracy: 0.9000\n",
            "Epoch 98/300\n",
            "11/11 [==============================] - 0s 10ms/step - loss: 0.2401 - accuracy: 0.8930 - val_loss: 0.2326 - val_accuracy: 0.9024\n",
            "Epoch 99/300\n",
            "11/11 [==============================] - 0s 9ms/step - loss: 0.2399 - accuracy: 0.8930 - val_loss: 0.2323 - val_accuracy: 0.8968\n",
            "Epoch 100/300\n",
            "11/11 [==============================] - 0s 11ms/step - loss: 0.2396 - accuracy: 0.8956 - val_loss: 0.2320 - val_accuracy: 0.8952\n",
            "Epoch 101/300\n",
            "11/11 [==============================] - 0s 11ms/step - loss: 0.2395 - accuracy: 0.8940 - val_loss: 0.2318 - val_accuracy: 0.8952\n",
            "Epoch 102/300\n",
            "11/11 [==============================] - 0s 10ms/step - loss: 0.2394 - accuracy: 0.8934 - val_loss: 0.2315 - val_accuracy: 0.8944\n",
            "Epoch 103/300\n",
            "11/11 [==============================] - 0s 10ms/step - loss: 0.2392 - accuracy: 0.8932 - val_loss: 0.2312 - val_accuracy: 0.8952\n",
            "Epoch 104/300\n",
            "11/11 [==============================] - 0s 11ms/step - loss: 0.2390 - accuracy: 0.8940 - val_loss: 0.2312 - val_accuracy: 0.8960\n",
            "Epoch 105/300\n",
            "11/11 [==============================] - 0s 13ms/step - loss: 0.2388 - accuracy: 0.8946 - val_loss: 0.2309 - val_accuracy: 0.8960\n",
            "Epoch 106/300\n",
            "11/11 [==============================] - 0s 10ms/step - loss: 0.2388 - accuracy: 0.8956 - val_loss: 0.2310 - val_accuracy: 0.8984\n",
            "Epoch 107/300\n",
            "11/11 [==============================] - 0s 9ms/step - loss: 0.2386 - accuracy: 0.8958 - val_loss: 0.2306 - val_accuracy: 0.8960\n",
            "Epoch 108/300\n",
            "11/11 [==============================] - 0s 9ms/step - loss: 0.2383 - accuracy: 0.8944 - val_loss: 0.2302 - val_accuracy: 0.8952\n",
            "Epoch 109/300\n",
            "11/11 [==============================] - 0s 6ms/step - loss: 0.2384 - accuracy: 0.8932 - val_loss: 0.2302 - val_accuracy: 0.8952\n",
            "Epoch 110/300\n",
            "11/11 [==============================] - 0s 7ms/step - loss: 0.2384 - accuracy: 0.8930 - val_loss: 0.2300 - val_accuracy: 0.8952\n",
            "Epoch 111/300\n",
            "11/11 [==============================] - 0s 6ms/step - loss: 0.2381 - accuracy: 0.8934 - val_loss: 0.2299 - val_accuracy: 0.8960\n",
            "Epoch 112/300\n",
            "11/11 [==============================] - 0s 7ms/step - loss: 0.2379 - accuracy: 0.8944 - val_loss: 0.2299 - val_accuracy: 0.8960\n",
            "Epoch 113/300\n",
            "11/11 [==============================] - 0s 6ms/step - loss: 0.2380 - accuracy: 0.8926 - val_loss: 0.2301 - val_accuracy: 0.9032\n",
            "Epoch 114/300\n",
            "11/11 [==============================] - 0s 9ms/step - loss: 0.2377 - accuracy: 0.8944 - val_loss: 0.2297 - val_accuracy: 0.8968\n",
            "Epoch 115/300\n",
            "11/11 [==============================] - 0s 6ms/step - loss: 0.2376 - accuracy: 0.8944 - val_loss: 0.2294 - val_accuracy: 0.8960\n",
            "Epoch 116/300\n",
            "11/11 [==============================] - 0s 7ms/step - loss: 0.2375 - accuracy: 0.8958 - val_loss: 0.2295 - val_accuracy: 0.8968\n",
            "Epoch 117/300\n",
            "11/11 [==============================] - 0s 8ms/step - loss: 0.2373 - accuracy: 0.8962 - val_loss: 0.2293 - val_accuracy: 0.8960\n",
            "Epoch 118/300\n",
            "11/11 [==============================] - 0s 6ms/step - loss: 0.2375 - accuracy: 0.8938 - val_loss: 0.2293 - val_accuracy: 0.8960\n",
            "Epoch 119/300\n",
            "11/11 [==============================] - 0s 6ms/step - loss: 0.2373 - accuracy: 0.8946 - val_loss: 0.2292 - val_accuracy: 0.8968\n",
            "Epoch 120/300\n",
            "11/11 [==============================] - 0s 10ms/step - loss: 0.2371 - accuracy: 0.8964 - val_loss: 0.2291 - val_accuracy: 0.9008\n",
            "Epoch 121/300\n",
            "11/11 [==============================] - 0s 6ms/step - loss: 0.2370 - accuracy: 0.8936 - val_loss: 0.2291 - val_accuracy: 0.9032\n",
            "Epoch 122/300\n",
            "11/11 [==============================] - 0s 7ms/step - loss: 0.2371 - accuracy: 0.8982 - val_loss: 0.2295 - val_accuracy: 0.9087\n",
            "Epoch 123/300\n",
            "11/11 [==============================] - 0s 6ms/step - loss: 0.2370 - accuracy: 0.8976 - val_loss: 0.2288 - val_accuracy: 0.8968\n",
            "Epoch 124/300\n",
            "11/11 [==============================] - 0s 7ms/step - loss: 0.2367 - accuracy: 0.8962 - val_loss: 0.2287 - val_accuracy: 0.8968\n",
            "Epoch 125/300\n",
            "11/11 [==============================] - 0s 8ms/step - loss: 0.2366 - accuracy: 0.8960 - val_loss: 0.2286 - val_accuracy: 0.8984\n",
            "Epoch 126/300\n",
            "11/11 [==============================] - 0s 7ms/step - loss: 0.2369 - accuracy: 0.8994 - val_loss: 0.2288 - val_accuracy: 0.9111\n",
            "Epoch 127/300\n",
            "11/11 [==============================] - 0s 8ms/step - loss: 0.2368 - accuracy: 0.8972 - val_loss: 0.2283 - val_accuracy: 0.8960\n",
            "Epoch 128/300\n",
            "11/11 [==============================] - 0s 8ms/step - loss: 0.2364 - accuracy: 0.8944 - val_loss: 0.2282 - val_accuracy: 0.8960\n",
            "Epoch 129/300\n",
            "11/11 [==============================] - 0s 6ms/step - loss: 0.2366 - accuracy: 0.8944 - val_loss: 0.2281 - val_accuracy: 0.8944\n",
            "Epoch 130/300\n",
            "11/11 [==============================] - 0s 7ms/step - loss: 0.2363 - accuracy: 0.8940 - val_loss: 0.2281 - val_accuracy: 0.8960\n",
            "Epoch 131/300\n",
            "11/11 [==============================] - 0s 7ms/step - loss: 0.2362 - accuracy: 0.8962 - val_loss: 0.2282 - val_accuracy: 0.9032\n",
            "Epoch 132/300\n",
            "11/11 [==============================] - 0s 6ms/step - loss: 0.2361 - accuracy: 0.8968 - val_loss: 0.2280 - val_accuracy: 0.8976\n",
            "Epoch 133/300\n",
            "11/11 [==============================] - 0s 7ms/step - loss: 0.2360 - accuracy: 0.8944 - val_loss: 0.2279 - val_accuracy: 0.8960\n",
            "Epoch 134/300\n",
            "11/11 [==============================] - 0s 8ms/step - loss: 0.2360 - accuracy: 0.8942 - val_loss: 0.2277 - val_accuracy: 0.8960\n",
            "Epoch 135/300\n",
            "11/11 [==============================] - 0s 7ms/step - loss: 0.2360 - accuracy: 0.8938 - val_loss: 0.2277 - val_accuracy: 0.8960\n",
            "Epoch 136/300\n",
            "11/11 [==============================] - 0s 7ms/step - loss: 0.2358 - accuracy: 0.8958 - val_loss: 0.2279 - val_accuracy: 0.9071\n",
            "Epoch 137/300\n",
            "11/11 [==============================] - 0s 8ms/step - loss: 0.2358 - accuracy: 0.8952 - val_loss: 0.2277 - val_accuracy: 0.9048\n",
            "Epoch 138/300\n",
            "11/11 [==============================] - 0s 7ms/step - loss: 0.2358 - accuracy: 0.8948 - val_loss: 0.2279 - val_accuracy: 0.8984\n",
            "Epoch 139/300\n",
            "11/11 [==============================] - 0s 7ms/step - loss: 0.2356 - accuracy: 0.8954 - val_loss: 0.2277 - val_accuracy: 0.8960\n",
            "Epoch 140/300\n",
            "11/11 [==============================] - 0s 7ms/step - loss: 0.2355 - accuracy: 0.8946 - val_loss: 0.2277 - val_accuracy: 0.8960\n",
            "Epoch 141/300\n",
            "11/11 [==============================] - 0s 8ms/step - loss: 0.2355 - accuracy: 0.8942 - val_loss: 0.2276 - val_accuracy: 0.8960\n",
            "Epoch 142/300\n",
            "11/11 [==============================] - 0s 7ms/step - loss: 0.2354 - accuracy: 0.8934 - val_loss: 0.2274 - val_accuracy: 0.8944\n",
            "Epoch 143/300\n",
            "11/11 [==============================] - 0s 7ms/step - loss: 0.2355 - accuracy: 0.8934 - val_loss: 0.2274 - val_accuracy: 0.8952\n",
            "Epoch 144/300\n",
            "11/11 [==============================] - 0s 8ms/step - loss: 0.2353 - accuracy: 0.8940 - val_loss: 0.2274 - val_accuracy: 0.8960\n",
            "Epoch 145/300\n",
            "11/11 [==============================] - 0s 8ms/step - loss: 0.2354 - accuracy: 0.8954 - val_loss: 0.2274 - val_accuracy: 0.8976\n",
            "Epoch 146/300\n",
            "11/11 [==============================] - 0s 9ms/step - loss: 0.2352 - accuracy: 0.8952 - val_loss: 0.2272 - val_accuracy: 0.8968\n",
            "Epoch 147/300\n",
            "11/11 [==============================] - 0s 8ms/step - loss: 0.2351 - accuracy: 0.8948 - val_loss: 0.2272 - val_accuracy: 0.8960\n",
            "Epoch 148/300\n",
            "11/11 [==============================] - 0s 7ms/step - loss: 0.2351 - accuracy: 0.8942 - val_loss: 0.2271 - val_accuracy: 0.8952\n",
            "Epoch 149/300\n",
            "11/11 [==============================] - 0s 6ms/step - loss: 0.2351 - accuracy: 0.8934 - val_loss: 0.2269 - val_accuracy: 0.8960\n",
            "Epoch 150/300\n",
            "11/11 [==============================] - 0s 8ms/step - loss: 0.2350 - accuracy: 0.8946 - val_loss: 0.2271 - val_accuracy: 0.8960\n",
            "Epoch 151/300\n",
            "11/11 [==============================] - 0s 8ms/step - loss: 0.2349 - accuracy: 0.8966 - val_loss: 0.2273 - val_accuracy: 0.8968\n",
            "Epoch 152/300\n",
            "11/11 [==============================] - 0s 11ms/step - loss: 0.2348 - accuracy: 0.8960 - val_loss: 0.2269 - val_accuracy: 0.8960\n",
            "Epoch 153/300\n",
            "11/11 [==============================] - 0s 9ms/step - loss: 0.2347 - accuracy: 0.8944 - val_loss: 0.2267 - val_accuracy: 0.8968\n",
            "Epoch 154/300\n",
            "11/11 [==============================] - 0s 7ms/step - loss: 0.2347 - accuracy: 0.8964 - val_loss: 0.2268 - val_accuracy: 0.9024\n",
            "Epoch 155/300\n",
            "11/11 [==============================] - 0s 9ms/step - loss: 0.2348 - accuracy: 0.8942 - val_loss: 0.2271 - val_accuracy: 0.9056\n",
            "Epoch 156/300\n",
            "11/11 [==============================] - 0s 9ms/step - loss: 0.2347 - accuracy: 0.8942 - val_loss: 0.2268 - val_accuracy: 0.9040\n",
            "Epoch 157/300\n",
            "11/11 [==============================] - 0s 10ms/step - loss: 0.2345 - accuracy: 0.8970 - val_loss: 0.2266 - val_accuracy: 0.8968\n",
            "Epoch 158/300\n",
            "11/11 [==============================] - 0s 8ms/step - loss: 0.2345 - accuracy: 0.8974 - val_loss: 0.2268 - val_accuracy: 0.9040\n",
            "Epoch 159/300\n",
            "11/11 [==============================] - 0s 9ms/step - loss: 0.2345 - accuracy: 0.8962 - val_loss: 0.2265 - val_accuracy: 0.8960\n",
            "Epoch 160/300\n",
            "11/11 [==============================] - 0s 8ms/step - loss: 0.2344 - accuracy: 0.8950 - val_loss: 0.2263 - val_accuracy: 0.8960\n",
            "Epoch 161/300\n",
            "11/11 [==============================] - 0s 6ms/step - loss: 0.2343 - accuracy: 0.8948 - val_loss: 0.2262 - val_accuracy: 0.8960\n",
            "Epoch 162/300\n",
            "11/11 [==============================] - 0s 10ms/step - loss: 0.2343 - accuracy: 0.8948 - val_loss: 0.2261 - val_accuracy: 0.8960\n",
            "Epoch 163/300\n",
            "11/11 [==============================] - 0s 6ms/step - loss: 0.2342 - accuracy: 0.8944 - val_loss: 0.2260 - val_accuracy: 0.8952\n",
            "Epoch 164/300\n",
            "11/11 [==============================] - 0s 8ms/step - loss: 0.2344 - accuracy: 0.8936 - val_loss: 0.2259 - val_accuracy: 0.8952\n",
            "Epoch 165/300\n",
            "11/11 [==============================] - 0s 8ms/step - loss: 0.2342 - accuracy: 0.8936 - val_loss: 0.2258 - val_accuracy: 0.8952\n",
            "Epoch 166/300\n",
            "11/11 [==============================] - 0s 7ms/step - loss: 0.2340 - accuracy: 0.8944 - val_loss: 0.2259 - val_accuracy: 0.8976\n",
            "Epoch 167/300\n",
            "11/11 [==============================] - 0s 7ms/step - loss: 0.2341 - accuracy: 0.8946 - val_loss: 0.2261 - val_accuracy: 0.8984\n",
            "Epoch 168/300\n",
            "11/11 [==============================] - 0s 9ms/step - loss: 0.2343 - accuracy: 0.8976 - val_loss: 0.2263 - val_accuracy: 0.9008\n",
            "Epoch 169/300\n",
            "11/11 [==============================] - 0s 7ms/step - loss: 0.2339 - accuracy: 0.8944 - val_loss: 0.2259 - val_accuracy: 0.8976\n",
            "Epoch 170/300\n",
            "11/11 [==============================] - 0s 8ms/step - loss: 0.2339 - accuracy: 0.8942 - val_loss: 0.2260 - val_accuracy: 0.8976\n",
            "Epoch 171/300\n",
            "11/11 [==============================] - 0s 6ms/step - loss: 0.2339 - accuracy: 0.8950 - val_loss: 0.2258 - val_accuracy: 0.8968\n",
            "Epoch 172/300\n",
            "11/11 [==============================] - 0s 7ms/step - loss: 0.2340 - accuracy: 0.8940 - val_loss: 0.2259 - val_accuracy: 0.8952\n",
            "Epoch 173/300\n",
            "11/11 [==============================] - 0s 8ms/step - loss: 0.2339 - accuracy: 0.8936 - val_loss: 0.2258 - val_accuracy: 0.8968\n",
            "Epoch 174/300\n",
            "11/11 [==============================] - 0s 7ms/step - loss: 0.2339 - accuracy: 0.8936 - val_loss: 0.2258 - val_accuracy: 0.8952\n",
            "Epoch 175/300\n",
            "11/11 [==============================] - 0s 8ms/step - loss: 0.2339 - accuracy: 0.8938 - val_loss: 0.2258 - val_accuracy: 0.8952\n",
            "Epoch 176/300\n",
            "11/11 [==============================] - 0s 8ms/step - loss: 0.2336 - accuracy: 0.8940 - val_loss: 0.2258 - val_accuracy: 0.8968\n",
            "Epoch 177/300\n",
            "11/11 [==============================] - 0s 6ms/step - loss: 0.2335 - accuracy: 0.8970 - val_loss: 0.2263 - val_accuracy: 0.9024\n",
            "Epoch 178/300\n",
            "11/11 [==============================] - 0s 9ms/step - loss: 0.2336 - accuracy: 0.8956 - val_loss: 0.2256 - val_accuracy: 0.8968\n",
            "Epoch 179/300\n",
            "11/11 [==============================] - 0s 8ms/step - loss: 0.2334 - accuracy: 0.8936 - val_loss: 0.2255 - val_accuracy: 0.8960\n",
            "Epoch 180/300\n",
            "11/11 [==============================] - 0s 9ms/step - loss: 0.2335 - accuracy: 0.8956 - val_loss: 0.2261 - val_accuracy: 0.9024\n",
            "Epoch 181/300\n",
            "11/11 [==============================] - 0s 6ms/step - loss: 0.2337 - accuracy: 0.9018 - val_loss: 0.2257 - val_accuracy: 0.8976\n",
            "Epoch 182/300\n",
            "11/11 [==============================] - 0s 7ms/step - loss: 0.2334 - accuracy: 0.8958 - val_loss: 0.2251 - val_accuracy: 0.8960\n",
            "Epoch 183/300\n",
            "11/11 [==============================] - 0s 8ms/step - loss: 0.2332 - accuracy: 0.8944 - val_loss: 0.2251 - val_accuracy: 0.8960\n",
            "Epoch 184/300\n",
            "11/11 [==============================] - 0s 7ms/step - loss: 0.2332 - accuracy: 0.8946 - val_loss: 0.2251 - val_accuracy: 0.8960\n",
            "Epoch 185/300\n",
            "11/11 [==============================] - 0s 8ms/step - loss: 0.2332 - accuracy: 0.8948 - val_loss: 0.2251 - val_accuracy: 0.8960\n",
            "Epoch 186/300\n",
            "11/11 [==============================] - 0s 7ms/step - loss: 0.2331 - accuracy: 0.8940 - val_loss: 0.2249 - val_accuracy: 0.8952\n",
            "Epoch 187/300\n",
            "11/11 [==============================] - 0s 7ms/step - loss: 0.2330 - accuracy: 0.8944 - val_loss: 0.2248 - val_accuracy: 0.8960\n",
            "Epoch 188/300\n",
            "11/11 [==============================] - 0s 6ms/step - loss: 0.2330 - accuracy: 0.8938 - val_loss: 0.2248 - val_accuracy: 0.8952\n",
            "Epoch 189/300\n",
            "11/11 [==============================] - 0s 8ms/step - loss: 0.2330 - accuracy: 0.8938 - val_loss: 0.2248 - val_accuracy: 0.8952\n",
            "Epoch 190/300\n",
            "11/11 [==============================] - 0s 7ms/step - loss: 0.2328 - accuracy: 0.8942 - val_loss: 0.2248 - val_accuracy: 0.8960\n",
            "Epoch 191/300\n",
            "11/11 [==============================] - 0s 6ms/step - loss: 0.2328 - accuracy: 0.8946 - val_loss: 0.2247 - val_accuracy: 0.8952\n",
            "Epoch 192/300\n",
            "11/11 [==============================] - 0s 7ms/step - loss: 0.2328 - accuracy: 0.8938 - val_loss: 0.2246 - val_accuracy: 0.8952\n",
            "Epoch 193/300\n",
            "11/11 [==============================] - 0s 8ms/step - loss: 0.2327 - accuracy: 0.8938 - val_loss: 0.2247 - val_accuracy: 0.8952\n",
            "Epoch 194/300\n",
            "11/11 [==============================] - 0s 8ms/step - loss: 0.2327 - accuracy: 0.8946 - val_loss: 0.2249 - val_accuracy: 0.8968\n",
            "Epoch 195/300\n",
            "11/11 [==============================] - 0s 6ms/step - loss: 0.2327 - accuracy: 0.8954 - val_loss: 0.2249 - val_accuracy: 0.8976\n",
            "Epoch 196/300\n",
            "11/11 [==============================] - 0s 7ms/step - loss: 0.2327 - accuracy: 0.8950 - val_loss: 0.2247 - val_accuracy: 0.8960\n",
            "Epoch 197/300\n",
            "11/11 [==============================] - 0s 8ms/step - loss: 0.2326 - accuracy: 0.8948 - val_loss: 0.2246 - val_accuracy: 0.8960\n",
            "Epoch 198/300\n",
            "11/11 [==============================] - 0s 8ms/step - loss: 0.2324 - accuracy: 0.8946 - val_loss: 0.2243 - val_accuracy: 0.8952\n",
            "Epoch 199/300\n",
            "11/11 [==============================] - 0s 6ms/step - loss: 0.2329 - accuracy: 0.8938 - val_loss: 0.2244 - val_accuracy: 0.8952\n",
            "Epoch 200/300\n",
            "11/11 [==============================] - 0s 8ms/step - loss: 0.2325 - accuracy: 0.8940 - val_loss: 0.2243 - val_accuracy: 0.8952\n",
            "Epoch 201/300\n",
            "11/11 [==============================] - 0s 7ms/step - loss: 0.2324 - accuracy: 0.8940 - val_loss: 0.2242 - val_accuracy: 0.8952\n",
            "Epoch 202/300\n",
            "11/11 [==============================] - 0s 9ms/step - loss: 0.2323 - accuracy: 0.8942 - val_loss: 0.2243 - val_accuracy: 0.8952\n",
            "Epoch 203/300\n",
            "11/11 [==============================] - 0s 8ms/step - loss: 0.2323 - accuracy: 0.8940 - val_loss: 0.2241 - val_accuracy: 0.8952\n",
            "Epoch 204/300\n",
            "11/11 [==============================] - 0s 7ms/step - loss: 0.2322 - accuracy: 0.8936 - val_loss: 0.2241 - val_accuracy: 0.8952\n",
            "Epoch 205/300\n",
            "11/11 [==============================] - 0s 8ms/step - loss: 0.2323 - accuracy: 0.8940 - val_loss: 0.2240 - val_accuracy: 0.8952\n",
            "Epoch 206/300\n",
            "11/11 [==============================] - 0s 7ms/step - loss: 0.2321 - accuracy: 0.8940 - val_loss: 0.2239 - val_accuracy: 0.8952\n",
            "Epoch 207/300\n",
            "11/11 [==============================] - 0s 8ms/step - loss: 0.2322 - accuracy: 0.8938 - val_loss: 0.2240 - val_accuracy: 0.8952\n",
            "Epoch 208/300\n",
            "11/11 [==============================] - 0s 8ms/step - loss: 0.2322 - accuracy: 0.8934 - val_loss: 0.2239 - val_accuracy: 0.8952\n",
            "Epoch 209/300\n",
            "11/11 [==============================] - 0s 6ms/step - loss: 0.2322 - accuracy: 0.8950 - val_loss: 0.2244 - val_accuracy: 0.8976\n",
            "Epoch 210/300\n",
            "11/11 [==============================] - 0s 7ms/step - loss: 0.2321 - accuracy: 0.8944 - val_loss: 0.2238 - val_accuracy: 0.8952\n",
            "Epoch 211/300\n",
            "11/11 [==============================] - 0s 8ms/step - loss: 0.2319 - accuracy: 0.8950 - val_loss: 0.2238 - val_accuracy: 0.8960\n",
            "Epoch 212/300\n",
            "11/11 [==============================] - 0s 7ms/step - loss: 0.2321 - accuracy: 0.8956 - val_loss: 0.2240 - val_accuracy: 0.8968\n",
            "Epoch 213/300\n",
            "11/11 [==============================] - 0s 8ms/step - loss: 0.2317 - accuracy: 0.8946 - val_loss: 0.2234 - val_accuracy: 0.8952\n",
            "Epoch 214/300\n",
            "11/11 [==============================] - 0s 8ms/step - loss: 0.2318 - accuracy: 0.8932 - val_loss: 0.2232 - val_accuracy: 0.8952\n",
            "Epoch 215/300\n",
            "11/11 [==============================] - 0s 8ms/step - loss: 0.2316 - accuracy: 0.8938 - val_loss: 0.2231 - val_accuracy: 0.8952\n",
            "Epoch 216/300\n",
            "11/11 [==============================] - 0s 6ms/step - loss: 0.2319 - accuracy: 0.8948 - val_loss: 0.2234 - val_accuracy: 0.8960\n",
            "Epoch 217/300\n",
            "11/11 [==============================] - 0s 6ms/step - loss: 0.2316 - accuracy: 0.8948 - val_loss: 0.2230 - val_accuracy: 0.8952\n",
            "Epoch 218/300\n",
            "11/11 [==============================] - 0s 6ms/step - loss: 0.2315 - accuracy: 0.8940 - val_loss: 0.2230 - val_accuracy: 0.8960\n",
            "Epoch 219/300\n",
            "11/11 [==============================] - 0s 8ms/step - loss: 0.2315 - accuracy: 0.8946 - val_loss: 0.2229 - val_accuracy: 0.8960\n",
            "Epoch 220/300\n",
            "11/11 [==============================] - 0s 11ms/step - loss: 0.2313 - accuracy: 0.8944 - val_loss: 0.2228 - val_accuracy: 0.8960\n",
            "Epoch 221/300\n",
            "11/11 [==============================] - 0s 10ms/step - loss: 0.2314 - accuracy: 0.8960 - val_loss: 0.2230 - val_accuracy: 0.8968\n",
            "Epoch 222/300\n",
            "11/11 [==============================] - 0s 10ms/step - loss: 0.2313 - accuracy: 0.8964 - val_loss: 0.2227 - val_accuracy: 0.8960\n",
            "Epoch 223/300\n",
            "11/11 [==============================] - 0s 10ms/step - loss: 0.2312 - accuracy: 0.8946 - val_loss: 0.2227 - val_accuracy: 0.8960\n",
            "Epoch 224/300\n",
            "11/11 [==============================] - 0s 11ms/step - loss: 0.2312 - accuracy: 0.8944 - val_loss: 0.2228 - val_accuracy: 0.8960\n",
            "Epoch 225/300\n",
            "11/11 [==============================] - 0s 11ms/step - loss: 0.2312 - accuracy: 0.8960 - val_loss: 0.2229 - val_accuracy: 0.8968\n",
            "Epoch 226/300\n",
            "11/11 [==============================] - 0s 9ms/step - loss: 0.2310 - accuracy: 0.8960 - val_loss: 0.2227 - val_accuracy: 0.8960\n",
            "Epoch 227/300\n",
            "11/11 [==============================] - 0s 10ms/step - loss: 0.2311 - accuracy: 0.8946 - val_loss: 0.2226 - val_accuracy: 0.8952\n",
            "Epoch 228/300\n",
            "11/11 [==============================] - 0s 11ms/step - loss: 0.2311 - accuracy: 0.8938 - val_loss: 0.2225 - val_accuracy: 0.8952\n",
            "Epoch 229/300\n",
            "11/11 [==============================] - 0s 11ms/step - loss: 0.2311 - accuracy: 0.8936 - val_loss: 0.2225 - val_accuracy: 0.8952\n",
            "Epoch 230/300\n",
            "11/11 [==============================] - 0s 10ms/step - loss: 0.2309 - accuracy: 0.8938 - val_loss: 0.2225 - val_accuracy: 0.8952\n",
            "Epoch 231/300\n",
            "11/11 [==============================] - 0s 10ms/step - loss: 0.2308 - accuracy: 0.8944 - val_loss: 0.2227 - val_accuracy: 0.8960\n",
            "Epoch 232/300\n",
            "11/11 [==============================] - 0s 11ms/step - loss: 0.2308 - accuracy: 0.8958 - val_loss: 0.2224 - val_accuracy: 0.8960\n",
            "Epoch 233/300\n",
            "11/11 [==============================] - 0s 13ms/step - loss: 0.2307 - accuracy: 0.8946 - val_loss: 0.2222 - val_accuracy: 0.8960\n",
            "Epoch 234/300\n",
            "11/11 [==============================] - 0s 10ms/step - loss: 0.2312 - accuracy: 0.8934 - val_loss: 0.2224 - val_accuracy: 0.8952\n",
            "Epoch 235/300\n",
            "11/11 [==============================] - 0s 9ms/step - loss: 0.2310 - accuracy: 0.8936 - val_loss: 0.2220 - val_accuracy: 0.8952\n",
            "Epoch 236/300\n",
            "11/11 [==============================] - 0s 10ms/step - loss: 0.2306 - accuracy: 0.8940 - val_loss: 0.2220 - val_accuracy: 0.8960\n",
            "Epoch 237/300\n",
            "11/11 [==============================] - 0s 10ms/step - loss: 0.2304 - accuracy: 0.8946 - val_loss: 0.2221 - val_accuracy: 0.8960\n",
            "Epoch 238/300\n",
            "11/11 [==============================] - 0s 14ms/step - loss: 0.2305 - accuracy: 0.8964 - val_loss: 0.2222 - val_accuracy: 0.8960\n",
            "Epoch 239/300\n",
            "11/11 [==============================] - 0s 12ms/step - loss: 0.2304 - accuracy: 0.8954 - val_loss: 0.2219 - val_accuracy: 0.8960\n",
            "Epoch 240/300\n",
            "11/11 [==============================] - 0s 10ms/step - loss: 0.2305 - accuracy: 0.8940 - val_loss: 0.2217 - val_accuracy: 0.8952\n",
            "Epoch 241/300\n",
            "11/11 [==============================] - 0s 10ms/step - loss: 0.2302 - accuracy: 0.8944 - val_loss: 0.2217 - val_accuracy: 0.8960\n",
            "Epoch 242/300\n",
            "11/11 [==============================] - 0s 9ms/step - loss: 0.2302 - accuracy: 0.8950 - val_loss: 0.2219 - val_accuracy: 0.8960\n",
            "Epoch 243/300\n",
            "11/11 [==============================] - 0s 8ms/step - loss: 0.2304 - accuracy: 0.8966 - val_loss: 0.2220 - val_accuracy: 0.8960\n",
            "Epoch 244/300\n",
            "11/11 [==============================] - 0s 9ms/step - loss: 0.2301 - accuracy: 0.8946 - val_loss: 0.2216 - val_accuracy: 0.8952\n",
            "Epoch 245/300\n",
            "11/11 [==============================] - 0s 9ms/step - loss: 0.2301 - accuracy: 0.8940 - val_loss: 0.2215 - val_accuracy: 0.8960\n",
            "Epoch 246/300\n",
            "11/11 [==============================] - 0s 9ms/step - loss: 0.2300 - accuracy: 0.8950 - val_loss: 0.2215 - val_accuracy: 0.8960\n",
            "Epoch 247/300\n",
            "11/11 [==============================] - 0s 10ms/step - loss: 0.2299 - accuracy: 0.8946 - val_loss: 0.2215 - val_accuracy: 0.8960\n",
            "Epoch 248/300\n",
            "11/11 [==============================] - 0s 9ms/step - loss: 0.2300 - accuracy: 0.8950 - val_loss: 0.2217 - val_accuracy: 0.8960\n",
            "Epoch 249/300\n",
            "11/11 [==============================] - 0s 10ms/step - loss: 0.2299 - accuracy: 0.8948 - val_loss: 0.2215 - val_accuracy: 0.8960\n",
            "Epoch 250/300\n",
            "11/11 [==============================] - 0s 10ms/step - loss: 0.2298 - accuracy: 0.8952 - val_loss: 0.2215 - val_accuracy: 0.8960\n",
            "Epoch 251/300\n",
            "11/11 [==============================] - 0s 11ms/step - loss: 0.2298 - accuracy: 0.8950 - val_loss: 0.2213 - val_accuracy: 0.8952\n",
            "Epoch 252/300\n",
            "11/11 [==============================] - 0s 12ms/step - loss: 0.2299 - accuracy: 0.8942 - val_loss: 0.2212 - val_accuracy: 0.8952\n",
            "Epoch 253/300\n",
            "11/11 [==============================] - 0s 9ms/step - loss: 0.2298 - accuracy: 0.8942 - val_loss: 0.2211 - val_accuracy: 0.8960\n",
            "Epoch 254/300\n",
            "11/11 [==============================] - 0s 10ms/step - loss: 0.2297 - accuracy: 0.8966 - val_loss: 0.2210 - val_accuracy: 0.8968\n",
            "Epoch 255/300\n",
            "11/11 [==============================] - 0s 9ms/step - loss: 0.2297 - accuracy: 0.8956 - val_loss: 0.2210 - val_accuracy: 0.9040\n",
            "Epoch 256/300\n",
            "11/11 [==============================] - 0s 10ms/step - loss: 0.2298 - accuracy: 0.8954 - val_loss: 0.2207 - val_accuracy: 0.8960\n",
            "Epoch 257/300\n",
            "11/11 [==============================] - 0s 11ms/step - loss: 0.2296 - accuracy: 0.8954 - val_loss: 0.2207 - val_accuracy: 0.8968\n",
            "Epoch 258/300\n",
            "11/11 [==============================] - 0s 12ms/step - loss: 0.2294 - accuracy: 0.8960 - val_loss: 0.2209 - val_accuracy: 0.8960\n",
            "Epoch 259/300\n",
            "11/11 [==============================] - 0s 11ms/step - loss: 0.2293 - accuracy: 0.8954 - val_loss: 0.2208 - val_accuracy: 0.8960\n",
            "Epoch 260/300\n",
            "11/11 [==============================] - 0s 10ms/step - loss: 0.2293 - accuracy: 0.8952 - val_loss: 0.2207 - val_accuracy: 0.8960\n",
            "Epoch 261/300\n",
            "11/11 [==============================] - 0s 11ms/step - loss: 0.2292 - accuracy: 0.8952 - val_loss: 0.2205 - val_accuracy: 0.8960\n",
            "Epoch 262/300\n",
            "11/11 [==============================] - 0s 10ms/step - loss: 0.2292 - accuracy: 0.8952 - val_loss: 0.2205 - val_accuracy: 0.8960\n",
            "Epoch 263/300\n",
            "11/11 [==============================] - 0s 9ms/step - loss: 0.2291 - accuracy: 0.8954 - val_loss: 0.2203 - val_accuracy: 0.8960\n",
            "Epoch 264/300\n",
            "11/11 [==============================] - 0s 10ms/step - loss: 0.2291 - accuracy: 0.8946 - val_loss: 0.2201 - val_accuracy: 0.8960\n",
            "Epoch 265/300\n",
            "11/11 [==============================] - 0s 8ms/step - loss: 0.2292 - accuracy: 0.8942 - val_loss: 0.2199 - val_accuracy: 0.8960\n",
            "Epoch 266/300\n",
            "11/11 [==============================] - 0s 7ms/step - loss: 0.2290 - accuracy: 0.8964 - val_loss: 0.2199 - val_accuracy: 0.8968\n",
            "Epoch 267/300\n",
            "11/11 [==============================] - 0s 7ms/step - loss: 0.2289 - accuracy: 0.8952 - val_loss: 0.2198 - val_accuracy: 0.8952\n",
            "Epoch 268/300\n",
            "11/11 [==============================] - 0s 9ms/step - loss: 0.2291 - accuracy: 0.8938 - val_loss: 0.2197 - val_accuracy: 0.8960\n",
            "Epoch 269/300\n",
            "11/11 [==============================] - 0s 7ms/step - loss: 0.2289 - accuracy: 0.8948 - val_loss: 0.2197 - val_accuracy: 0.8960\n",
            "Epoch 270/300\n",
            "11/11 [==============================] - 0s 10ms/step - loss: 0.2287 - accuracy: 0.8954 - val_loss: 0.2198 - val_accuracy: 0.8968\n",
            "Epoch 271/300\n",
            "11/11 [==============================] - 0s 13ms/step - loss: 0.2289 - accuracy: 0.8948 - val_loss: 0.2201 - val_accuracy: 0.9056\n",
            "Epoch 272/300\n",
            "11/11 [==============================] - 0s 10ms/step - loss: 0.2291 - accuracy: 0.8960 - val_loss: 0.2202 - val_accuracy: 0.9056\n",
            "Epoch 273/300\n",
            "11/11 [==============================] - 0s 10ms/step - loss: 0.2288 - accuracy: 0.8982 - val_loss: 0.2195 - val_accuracy: 0.8960\n",
            "Epoch 274/300\n",
            "11/11 [==============================] - 0s 13ms/step - loss: 0.2287 - accuracy: 0.8944 - val_loss: 0.2195 - val_accuracy: 0.8952\n",
            "Epoch 275/300\n",
            "11/11 [==============================] - 0s 13ms/step - loss: 0.2286 - accuracy: 0.8952 - val_loss: 0.2194 - val_accuracy: 0.8960\n",
            "Epoch 276/300\n",
            "11/11 [==============================] - 0s 9ms/step - loss: 0.2284 - accuracy: 0.8948 - val_loss: 0.2194 - val_accuracy: 0.8960\n",
            "Epoch 277/300\n",
            "11/11 [==============================] - 0s 10ms/step - loss: 0.2284 - accuracy: 0.8946 - val_loss: 0.2194 - val_accuracy: 0.8960\n",
            "Epoch 278/300\n",
            "11/11 [==============================] - 0s 12ms/step - loss: 0.2284 - accuracy: 0.8942 - val_loss: 0.2193 - val_accuracy: 0.8960\n",
            "Epoch 279/300\n",
            "11/11 [==============================] - 0s 12ms/step - loss: 0.2286 - accuracy: 0.8926 - val_loss: 0.2199 - val_accuracy: 0.9024\n",
            "Epoch 280/300\n",
            "11/11 [==============================] - 0s 10ms/step - loss: 0.2287 - accuracy: 0.8950 - val_loss: 0.2199 - val_accuracy: 0.9048\n",
            "Epoch 281/300\n",
            "11/11 [==============================] - 0s 9ms/step - loss: 0.2284 - accuracy: 0.8946 - val_loss: 0.2195 - val_accuracy: 0.8968\n",
            "Epoch 282/300\n",
            "11/11 [==============================] - 0s 13ms/step - loss: 0.2280 - accuracy: 0.8954 - val_loss: 0.2193 - val_accuracy: 0.8960\n",
            "Epoch 283/300\n",
            "11/11 [==============================] - 0s 13ms/step - loss: 0.2280 - accuracy: 0.8944 - val_loss: 0.2193 - val_accuracy: 0.8960\n",
            "Epoch 284/300\n",
            "11/11 [==============================] - 0s 10ms/step - loss: 0.2281 - accuracy: 0.8952 - val_loss: 0.2195 - val_accuracy: 0.8960\n",
            "Epoch 285/300\n",
            "11/11 [==============================] - 0s 10ms/step - loss: 0.2280 - accuracy: 0.8946 - val_loss: 0.2191 - val_accuracy: 0.8952\n",
            "Epoch 286/300\n",
            "11/11 [==============================] - 0s 10ms/step - loss: 0.2279 - accuracy: 0.8940 - val_loss: 0.2190 - val_accuracy: 0.8952\n",
            "Epoch 287/300\n",
            "11/11 [==============================] - 0s 11ms/step - loss: 0.2281 - accuracy: 0.8940 - val_loss: 0.2191 - val_accuracy: 0.8952\n",
            "Epoch 288/300\n",
            "11/11 [==============================] - 0s 9ms/step - loss: 0.2280 - accuracy: 0.8948 - val_loss: 0.2189 - val_accuracy: 0.8960\n",
            "Epoch 289/300\n",
            "11/11 [==============================] - 0s 11ms/step - loss: 0.2279 - accuracy: 0.8968 - val_loss: 0.2193 - val_accuracy: 0.9016\n",
            "Epoch 290/300\n",
            "11/11 [==============================] - 0s 12ms/step - loss: 0.2279 - accuracy: 0.8942 - val_loss: 0.2187 - val_accuracy: 0.8960\n",
            "Epoch 291/300\n",
            "11/11 [==============================] - 0s 13ms/step - loss: 0.2278 - accuracy: 0.8948 - val_loss: 0.2185 - val_accuracy: 0.8952\n",
            "Epoch 292/300\n",
            "11/11 [==============================] - 0s 12ms/step - loss: 0.2279 - accuracy: 0.8940 - val_loss: 0.2186 - val_accuracy: 0.8952\n",
            "Epoch 293/300\n",
            "11/11 [==============================] - 0s 8ms/step - loss: 0.2276 - accuracy: 0.8944 - val_loss: 0.2185 - val_accuracy: 0.8960\n",
            "Epoch 294/300\n",
            "11/11 [==============================] - 0s 10ms/step - loss: 0.2278 - accuracy: 0.8950 - val_loss: 0.2188 - val_accuracy: 0.8984\n",
            "Epoch 295/300\n",
            "11/11 [==============================] - 0s 10ms/step - loss: 0.2275 - accuracy: 0.8962 - val_loss: 0.2183 - val_accuracy: 0.8960\n",
            "Epoch 296/300\n",
            "11/11 [==============================] - 0s 13ms/step - loss: 0.2274 - accuracy: 0.8950 - val_loss: 0.2183 - val_accuracy: 0.8960\n",
            "Epoch 297/300\n",
            "11/11 [==============================] - 0s 9ms/step - loss: 0.2280 - accuracy: 0.8942 - val_loss: 0.2182 - val_accuracy: 0.8952\n",
            "Epoch 298/300\n",
            "11/11 [==============================] - 0s 12ms/step - loss: 0.2275 - accuracy: 0.8940 - val_loss: 0.2181 - val_accuracy: 0.8960\n",
            "Epoch 299/300\n",
            "11/11 [==============================] - 0s 11ms/step - loss: 0.2273 - accuracy: 0.8958 - val_loss: 0.2185 - val_accuracy: 0.9016\n",
            "Epoch 300/300\n",
            "11/11 [==============================] - 0s 11ms/step - loss: 0.2273 - accuracy: 0.8970 - val_loss: 0.2183 - val_accuracy: 0.8976\n"
          ]
        }
      ]
    },
    {
      "cell_type": "code",
      "source": [
        "if model_selection[model_flag]==\"ALL\" or model_selection[model_flag] == \"AE\":\n",
        "  filepath = '/content/drive/MyDrive/Colab_Notebooks/Models/ae_classifier_binary.json'\n",
        "  weightspath = '/content/drive/MyDrive/Colab_Notebooks/Weights/ae_classifier_binary.h5'\n",
        "  if (not path.isfile(filepath)): \n",
        "    # serialize model to JSON\n",
        "    ae_classifier_json = ae_classifier.to_json()\n",
        "    with open(filepath, \"w\") as json_file:\n",
        "      json_file.write(ae_classifier_json)\n",
        "\n",
        "    # serialize weights to HDF5\n",
        "    ae_classifier.save_weights(weightspath)\n",
        "    print(\"Saved model to disk\")\n",
        "\n",
        "    # load json and create model\n",
        "    json_file = open(filepath, 'r')\n",
        "    loaded_model_json = json_file.read()\n",
        "    json_file.close()\n",
        "    ae_classifier = model_from_json(loaded_model_json)\n",
        "\n",
        "    # load weights into new model\n",
        "    ae_classifier.load_weights(weightspath)\n",
        "    print(\"Loaded model from disk\")"
      ],
      "metadata": {
        "id": "yeNS7pLUNYBz"
      },
      "execution_count": null,
      "outputs": []
    },
    {
      "cell_type": "code",
      "source": [
        "if model_selection[model_flag]==\"ALL\" or model_selection[model_flag] == \"AE\":\n",
        "  ae_classifier.compile(optimizer='adam', loss='binary_crossentropy',metrics=['accuracy'])"
      ],
      "metadata": {
        "id": "AG42bV79NYFB"
      },
      "execution_count": null,
      "outputs": []
    },
    {
      "cell_type": "code",
      "source": [
        "if model_selection[model_flag]==\"ALL\" or model_selection[model_flag] == \"AE\":\n",
        "  # predicting target attribute on testing dataset\n",
        "  test_results = ae_classifier.evaluate(X_test, y_test, verbose=1)\n",
        "  print(f'Test results - Loss: {test_results[0]} - Accuracy: {test_results[1]*100}%')"
      ],
      "metadata": {
        "colab": {
          "base_uri": "https://localhost:8080/"
        },
        "id": "13aKBGJcNYHv",
        "outputId": "2b64c1e3-75ff-41e4-fec5-61beeccd37c6"
      },
      "execution_count": null,
      "outputs": [
        {
          "output_type": "stream",
          "name": "stdout",
          "text": [
            "197/197 [==============================] - 1s 2ms/step - loss: 0.8614 - accuracy: 0.9106\n",
            "Test results - Loss: 0.8613545298576355 - Accuracy: 91.06207489967346%\n"
          ]
        }
      ]
    },
    {
      "cell_type": "code",
      "source": [
        "if model_selection[model_flag]==\"ALL\" or model_selection[model_flag] == \"AE\":\n",
        "  # representation of model layers\n",
        "  plot_model(ae_classifier, to_file='/content/drive/MyDrive/Colab_Notebooks/Plots/ae_classifier_binary.png', show_shapes=True)"
      ],
      "metadata": {
        "id": "zCWbOaSyN1dH"
      },
      "execution_count": null,
      "outputs": []
    },
    {
      "cell_type": "code",
      "source": [
        "if model_selection[model_flag]==\"ALL\" or model_selection[model_flag] == \"AE\":\n",
        "  # Plot of loss vs epoch of train and test dataset\n",
        "  plt.plot(his['loss'])\n",
        "  plt.plot(his['val_loss'])\n",
        "  plt.title(\"Plot of loss vs epoch for train and test dataset\")\n",
        "  plt.ylabel('loss')\n",
        "  plt.xlabel('epoch')\n",
        "  plt.legend(['train', 'test'], loc='upper right')\n",
        "  plt.savefig('/content/drive/MyDrive/Colab_Notebooks/Plots/ae_classifier_binary_loss.png')\n",
        "  plt.show()"
      ],
      "metadata": {
        "colab": {
          "base_uri": "https://localhost:8080/",
          "height": 295
        },
        "id": "44VaFGgVOBpU",
        "outputId": "365ca1a0-0e3a-483a-92be-4bd3a44be15a"
      },
      "execution_count": null,
      "outputs": [
        {
          "output_type": "display_data",
          "data": {
            "text/plain": [
              "<Figure size 432x288 with 1 Axes>"
            ],
            "image/png": "[encoded data removed]"
          },
          "metadata": {
            "needs_background": "light"
          }
        }
      ]
    },
    {
      "cell_type": "code",
      "source": [
        "if model_selection[model_flag]==\"ALL\" or model_selection[model_flag] == \"AE\":\n",
        "  # Plot of accuracy vs epoch of train and test dataset\n",
        "  plt.plot(his['accuracy'])\n",
        "  plt.plot(his['val_accuracy'])\n",
        "  plt.title(\"Plot of accuracy vs epoch for train and test dataset\")\n",
        "  plt.ylabel('accuracy')\n",
        "  plt.xlabel('epoch')\n",
        "  plt.legend(['train', 'test'], loc='best')\n",
        "  plt.savefig('/content/drive/MyDrive/Colab_Notebooks/Plots/ae_classifier_binary_accuracy.png')\n",
        "  plt.show()"
      ],
      "metadata": {
        "colab": {
          "base_uri": "https://localhost:8080/",
          "height": 295
        },
        "id": "Am0UB82rOIo1",
        "outputId": "4adecace-92d8-44d6-b6a6-ba99db42f0d2"
      },
      "execution_count": null,
      "outputs": [
        {
          "output_type": "display_data",
          "data": {
            "text/plain": [
              "<Figure size 432x288 with 1 Axes>"
            ],
            "image/png": "[encoded data removed]"
          },
          "metadata": {
            "needs_background": "light"
          }
        }
      ]
    },
    {
      "cell_type": "code",
      "source": [
        "if model_selection[model_flag]==\"ALL\" or model_selection[model_flag] == \"AE\":\n",
        "  y_pred = ae_classifier.predict(X_test).ravel()\n",
        "  fpr, tpr, thresholds = roc_curve(y_test, y_pred)\n",
        "  #auc = auc(fpr, tpr)"
      ],
      "metadata": {
        "colab": {
          "base_uri": "https://localhost:8080/"
        },
        "id": "f5OZTlm0OMoW",
        "outputId": "7cb928cd-0663-49e4-b13a-fa8f10d88948"
      },
      "execution_count": null,
      "outputs": [
        {
          "output_type": "stream",
          "name": "stdout",
          "text": [
            "197/197 [==============================] - 0s 2ms/step\n"
          ]
        }
      ]
    },
    {
      "cell_type": "code",
      "source": [
        "if model_selection[model_flag]==\"ALL\" or model_selection[model_flag] == \"AE\":\n",
        "  plt.plot([0, 1], [0, 1], 'k--')\n",
        "  #plt.plot(fpr, tpr, label='Keras (area = {:.3f})'.format(auc))\n",
        "  plt.plot(fpr, tpr)\n",
        "  plt.xlabel('False positive rate')\n",
        "  plt.ylabel('True positive rate')\n",
        "  plt.title('ROC curve')\n",
        "  plt.legend(loc='best')\n",
        "  plt.savefig('/content/drive/MyDrive/Colab_Notebooks/Plots/ae_binary_roc.png')\n",
        "  plt.show()"
      ],
      "metadata": {
        "colab": {
          "base_uri": "https://localhost:8080/",
          "height": 333
        },
        "id": "GbSkwfO2OTkn",
        "outputId": "3283e3e0-8d5b-4820-c95d-88dd8582b0dd"
      },
      "execution_count": null,
      "outputs": [
        {
          "output_type": "stream",
          "name": "stderr",
          "text": [
            "WARNING:matplotlib.legend:No artists with labels found to put in legend.  Note that artists whose label start with an underscore are ignored when legend() is called with no argument.\n"
          ]
        },
        {
          "output_type": "display_data",
          "data": {
            "text/plain": [
              "<Figure size 432x288 with 1 Axes>"
            ],
            "image/png": "[encoded data removed]"
          },
          "metadata": {
            "needs_background": "light"
          }
        }
      ]
    },
    {
      "cell_type": "code",
      "source": [
        "if model_selection[model_flag]==\"ALL\" or model_selection[model_flag] == \"AE\":\n",
        "  pred = ae_classifier.predict(X_test)\n",
        "  y_classes = (ae_classifier.predict(X_test)>0.5).astype('int32')"
      ],
      "metadata": {
        "colab": {
          "base_uri": "https://localhost:8080/"
        },
        "id": "n7Xl74UXOZxm",
        "outputId": "3c4b2f7b-e434-4b24-fe0c-3c9a18742d5d"
      },
      "execution_count": null,
      "outputs": [
        {
          "output_type": "stream",
          "name": "stdout",
          "text": [
            "197/197 [==============================] - 0s 1ms/step\n",
            "197/197 [==============================] - 0s 1ms/step\n"
          ]
        }
      ]
    },
    {
      "cell_type": "code",
      "source": [
        "if model_selection[model_flag]==\"ALL\" or model_selection[model_flag] == \"AE\":\n",
        "  print(\"Recall Score - \",recall_score(y_test,y_classes))\n",
        "  print(\"F1 Score - \",f1_score(y_test,y_classes))\n",
        "  print(\"Precision Score - \",precision_score(y_test,y_classes))"
      ],
      "metadata": {
        "colab": {
          "base_uri": "https://localhost:8080/"
        },
        "id": "WA_g3UlXOZ71",
        "outputId": "13025272-a950-4aef-bb27-d3032f822b11"
      },
      "execution_count": null,
      "outputs": [
        {
          "output_type": "stream",
          "name": "stdout",
          "text": [
            "Recall Score -  0.9871565113500598\n",
            "F1 Score -  0.9215112226404573\n",
            "Precision Score -  0.8640522875816994\n"
          ]
        }
      ]
    }
  ]
}