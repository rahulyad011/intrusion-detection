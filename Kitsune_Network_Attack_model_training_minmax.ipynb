{
  "cells": [
    {
      "cell_type": "markdown",
      "metadata": {
        "id": "view-in-github",
        "colab_type": "text"
      },
      "source": [
        "<a href=\"https://colab.research.google.com/github/rahulyad011/intrusion-detection/blob/main/Kitsune_Network_Attack_model_training_minmax.ipynb\" target=\"_parent\"><img src=\"https://colab.research.google.com/assets/colab-badge.svg\" alt=\"Open In Colab\"/></a>"
      ]
    },
    {
      "cell_type": "code",
      "execution_count": 115,
      "metadata": {
        "id": "qXQ8rUmdwaf4"
      },
      "outputs": [],
      "source": [
        "\n",
        "from sklearn.metrics import accuracy_score # for calculating accuracy of model\n",
        "from sklearn.model_selection import train_test_split # for splitting the dataset for training and testing\n",
        "from sklearn.metrics import classification_report # for generating a classification report of model\n",
        "import pickle # saving and loading trained model\n",
        "from os import path\n",
        "import numpy as np\n",
        "import pandas as pd\n",
        "import matplotlib.pyplot as plt\n",
        "\n",
        "# importing library for support vector machine classifier\n",
        "from sklearn.svm import SVC\n",
        "\n",
        "# MLP requirements \n",
        "from keras.layers import Dense # importing dense layer\n",
        "from keras.models import Sequential #importing Sequential layer\n",
        "from keras.models import model_from_json # saving and loading trained model\n",
        "\n",
        "# LSTM requirements \n",
        "from keras.layers import LSTM\n",
        "from keras.layers import Input\n",
        "from keras.models import Model\n",
        "\n",
        "# evaluation metrices\n",
        "from sklearn.metrics import classification_report, confusion_matrix\n",
        "from sklearn.metrics import roc_auc_score\n",
        "from sklearn.metrics import roc_curve, auc\n",
        "from sklearn.metrics import precision_score\n",
        "from sklearn.metrics import recall_score\n",
        "from sklearn.metrics import f1_score\n",
        "\n",
        "# representation of model layers\n",
        "from keras.utils.vis_utils import plot_model"
      ]
    },
    {
      "cell_type": "code",
      "source": [
        "from google.colab import drive\n",
        "drive.mount('/content/drive')"
      ],
      "metadata": {
        "colab": {
          "base_uri": "https://localhost:8080/"
        },
        "id": "DBCkPmpEjFSf",
        "outputId": "c54853a0-3712-464c-f4ce-474a81efc587"
      },
      "execution_count": 116,
      "outputs": [
        {
          "output_type": "stream",
          "name": "stdout",
          "text": [
            "Drive already mounted at /content/drive; to attempt to forcibly remount, call drive.mount(\"/content/drive\", force_remount=True).\n"
          ]
        }
      ]
    },
    {
      "cell_type": "code",
      "execution_count": 117,
      "metadata": {
        "colab": {
          "base_uri": "https://localhost:8080/",
          "height": 505
        },
        "id": "Pepa9lW8whHh",
        "outputId": "a4debb0c-749a-4ca7-e0bb-1fb42d0fbf36"
      },
      "outputs": [
        {
          "output_type": "execute_result",
          "data": {
            "text/plain": [
              "                X1           X2            X3            X4           X5  \\\n",
              "0        63.593001  1409.273115  2.877740e+04    101.582531  1407.914397   \n",
              "1        33.567444   744.413016  4.039852e+05     61.758196   735.835298   \n",
              "2        69.791455   739.279220  4.266278e+05    126.425891   738.767114   \n",
              "3       155.469819   724.428175  4.257932e+05    240.495003   726.937293   \n",
              "4        99.286193   733.178785  4.155803e+05    174.635337   730.839814   \n",
              "...            ...          ...           ...           ...          ...   \n",
              "99994  7359.674718   136.000000  5.093170e-11  12270.261123   136.000000   \n",
              "99995  7355.013260   136.000000  3.637979e-11  12265.412882   136.000000   \n",
              "99996  6528.089150   136.000000  1.818989e-11   8992.687314   136.000000   \n",
              "99997  7369.582520   136.000000  6.912160e-11  12287.328934   136.000000   \n",
              "99998  7360.571878   136.000000  6.548362e-11  12267.682639   136.000000   \n",
              "\n",
              "                 X6            X7           X8            X9            X10  \\\n",
              "0      3.257215e+04    282.890001  1404.229864  4.028884e+04    2705.734816   \n",
              "1      4.055287e+05    205.166986   726.203756  4.053561e+05    2131.564557   \n",
              "2      4.301293e+05    408.538742   736.226082  4.341408e+05    4238.143771   \n",
              "3      4.259872e+05    623.368782   728.209538  4.225050e+05    5546.056321   \n",
              "4      4.162693e+05    542.089746   725.367791  4.158204e+05    5459.958306   \n",
              "...             ...           ...          ...           ...            ...   \n",
              "99994  1.091394e-11  36474.563899   136.000000  1.418812e-10  137527.046516   \n",
              "99995  4.001777e-11  36474.413213   136.000000  1.091394e-10  137847.589699   \n",
              "99996  5.820766e-11  13159.085296   136.000000  1.091394e-10   15952.402740   \n",
              "99997  1.236913e-10  36848.957020   136.000000  2.546585e-11  190476.617565   \n",
              "99998  1.891749e-10  36805.546583   136.000000  1.709850e-10  228023.544075   \n",
              "\n",
              "       ...          X107          X108          X109         X110        X111  \\\n",
              "0      ... -1.786670e-11 -1.807032e-08  26923.369527  1401.300617  210.329481   \n",
              "1      ...  0.000000e+00  0.000000e+00   8314.185744  1450.000000    0.000094   \n",
              "2      ...  0.000000e+00  0.000000e+00  19190.900306  1450.000000    0.000193   \n",
              "3      ...  0.000000e+00  0.000000e+00  16068.857113   205.449306  261.593114   \n",
              "4      ...  0.000000e+00  0.000000e+00  16095.227971   202.608187  254.298249   \n",
              "...    ...           ...           ...           ...          ...         ...   \n",
              "99994  ...  0.000000e+00  0.000000e+00      5.857770   136.000000    0.000000   \n",
              "99995  ...  0.000000e+00  0.000000e+00      2.976221   136.000000    0.000000   \n",
              "99996  ...  0.000000e+00  0.000000e+00      1.998383   136.000000    0.000002   \n",
              "99997  ...  0.000000e+00  0.000000e+00      5.851634   136.000000    0.000003   \n",
              "99998  ...  0.000000e+00  0.000000e+00      6.692805   136.000000    0.000002   \n",
              "\n",
              "              X112          X113          X114          X115  label  \n",
              "0      1402.584550  4.423849e+04 -3.707493e-11 -3.557117e-08    0.0  \n",
              "1      1450.000000  8.847564e-09  0.000000e+00  0.000000e+00    0.0  \n",
              "2      1450.000000  3.725290e-08  0.000000e+00  0.000000e+00    0.0  \n",
              "3       205.449306  6.843096e+04  0.000000e+00  0.000000e+00    0.0  \n",
              "4       202.608187  6.466760e+04  0.000000e+00  0.000000e+00    0.0  \n",
              "...            ...           ...           ...           ...    ...  \n",
              "99994   136.000000  0.000000e+00  0.000000e+00  0.000000e+00    1.0  \n",
              "99995   136.000000  0.000000e+00  0.000000e+00  0.000000e+00    1.0  \n",
              "99996   136.000000  3.637979e-12  0.000000e+00  0.000000e+00    1.0  \n",
              "99997   136.000000  1.091394e-11  0.000000e+00  0.000000e+00    1.0  \n",
              "99998   136.000000  3.637979e-12  0.000000e+00  0.000000e+00    1.0  \n",
              "\n",
              "[99999 rows x 116 columns]"
            ],
            "text/html": [
              "\n",
              "  <div id=\"df-c806b78c-4295-4745-bf29-f202937c07d6\">\n",
              "    <div class=\"colab-df-container\">\n",
              "      <div>\n",
              "<style scoped>\n",
              "    .dataframe tbody tr th:only-of-type {\n",
              "        vertical-align: middle;\n",
              "    }\n",
              "\n",
              "    .dataframe tbody tr th {\n",
              "        vertical-align: top;\n",
              "    }\n",
              "\n",
              "    .dataframe thead th {\n",
              "        text-align: right;\n",
              "    }\n",
              "</style>\n",
              "<table border=\"1\" class=\"dataframe\">\n",
              "  <thead>\n",
              "    <tr style=\"text-align: right;\">\n",
              "      <th></th>\n",
              "      <th>X1</th>\n",
              "      <th>X2</th>\n",
              "      <th>X3</th>\n",
              "      <th>X4</th>\n",
              "      <th>X5</th>\n",
              "      <th>X6</th>\n",
              "      <th>X7</th>\n",
              "      <th>X8</th>\n",
              "      <th>X9</th>\n",
              "      <th>X10</th>\n",
              "      <th>...</th>\n",
              "      <th>X107</th>\n",
              "      <th>X108</th>\n",
              "      <th>X109</th>\n",
              "      <th>X110</th>\n",
              "      <th>X111</th>\n",
              "      <th>X112</th>\n",
              "      <th>X113</th>\n",
              "      <th>X114</th>\n",
              "      <th>X115</th>\n",
              "      <th>label</th>\n",
              "    </tr>\n",
              "  </thead>\n",
              "  <tbody>\n",
              "    <tr>\n",
              "      <th>0</th>\n",
              "      <td>63.593001</td>\n",
              "      <td>1409.273115</td>\n",
              "      <td>2.877740e+04</td>\n",
              "      <td>101.582531</td>\n",
              "      <td>1407.914397</td>\n",
              "      <td>3.257215e+04</td>\n",
              "      <td>282.890001</td>\n",
              "      <td>1404.229864</td>\n",
              "      <td>4.028884e+04</td>\n",
              "      <td>2705.734816</td>\n",
              "      <td>...</td>\n",
              "      <td>-1.786670e-11</td>\n",
              "      <td>-1.807032e-08</td>\n",
              "      <td>26923.369527</td>\n",
              "      <td>1401.300617</td>\n",
              "      <td>210.329481</td>\n",
              "      <td>1402.584550</td>\n",
              "      <td>4.423849e+04</td>\n",
              "      <td>-3.707493e-11</td>\n",
              "      <td>-3.557117e-08</td>\n",
              "      <td>0.0</td>\n",
              "    </tr>\n",
              "    <tr>\n",
              "      <th>1</th>\n",
              "      <td>33.567444</td>\n",
              "      <td>744.413016</td>\n",
              "      <td>4.039852e+05</td>\n",
              "      <td>61.758196</td>\n",
              "      <td>735.835298</td>\n",
              "      <td>4.055287e+05</td>\n",
              "      <td>205.166986</td>\n",
              "      <td>726.203756</td>\n",
              "      <td>4.053561e+05</td>\n",
              "      <td>2131.564557</td>\n",
              "      <td>...</td>\n",
              "      <td>0.000000e+00</td>\n",
              "      <td>0.000000e+00</td>\n",
              "      <td>8314.185744</td>\n",
              "      <td>1450.000000</td>\n",
              "      <td>0.000094</td>\n",
              "      <td>1450.000000</td>\n",
              "      <td>8.847564e-09</td>\n",
              "      <td>0.000000e+00</td>\n",
              "      <td>0.000000e+00</td>\n",
              "      <td>0.0</td>\n",
              "    </tr>\n",
              "    <tr>\n",
              "      <th>2</th>\n",
              "      <td>69.791455</td>\n",
              "      <td>739.279220</td>\n",
              "      <td>4.266278e+05</td>\n",
              "      <td>126.425891</td>\n",
              "      <td>738.767114</td>\n",
              "      <td>4.301293e+05</td>\n",
              "      <td>408.538742</td>\n",
              "      <td>736.226082</td>\n",
              "      <td>4.341408e+05</td>\n",
              "      <td>4238.143771</td>\n",
              "      <td>...</td>\n",
              "      <td>0.000000e+00</td>\n",
              "      <td>0.000000e+00</td>\n",
              "      <td>19190.900306</td>\n",
              "      <td>1450.000000</td>\n",
              "      <td>0.000193</td>\n",
              "      <td>1450.000000</td>\n",
              "      <td>3.725290e-08</td>\n",
              "      <td>0.000000e+00</td>\n",
              "      <td>0.000000e+00</td>\n",
              "      <td>0.0</td>\n",
              "    </tr>\n",
              "    <tr>\n",
              "      <th>3</th>\n",
              "      <td>155.469819</td>\n",
              "      <td>724.428175</td>\n",
              "      <td>4.257932e+05</td>\n",
              "      <td>240.495003</td>\n",
              "      <td>726.937293</td>\n",
              "      <td>4.259872e+05</td>\n",
              "      <td>623.368782</td>\n",
              "      <td>728.209538</td>\n",
              "      <td>4.225050e+05</td>\n",
              "      <td>5546.056321</td>\n",
              "      <td>...</td>\n",
              "      <td>0.000000e+00</td>\n",
              "      <td>0.000000e+00</td>\n",
              "      <td>16068.857113</td>\n",
              "      <td>205.449306</td>\n",
              "      <td>261.593114</td>\n",
              "      <td>205.449306</td>\n",
              "      <td>6.843096e+04</td>\n",
              "      <td>0.000000e+00</td>\n",
              "      <td>0.000000e+00</td>\n",
              "      <td>0.0</td>\n",
              "    </tr>\n",
              "    <tr>\n",
              "      <th>4</th>\n",
              "      <td>99.286193</td>\n",
              "      <td>733.178785</td>\n",
              "      <td>4.155803e+05</td>\n",
              "      <td>174.635337</td>\n",
              "      <td>730.839814</td>\n",
              "      <td>4.162693e+05</td>\n",
              "      <td>542.089746</td>\n",
              "      <td>725.367791</td>\n",
              "      <td>4.158204e+05</td>\n",
              "      <td>5459.958306</td>\n",
              "      <td>...</td>\n",
              "      <td>0.000000e+00</td>\n",
              "      <td>0.000000e+00</td>\n",
              "      <td>16095.227971</td>\n",
              "      <td>202.608187</td>\n",
              "      <td>254.298249</td>\n",
              "      <td>202.608187</td>\n",
              "      <td>6.466760e+04</td>\n",
              "      <td>0.000000e+00</td>\n",
              "      <td>0.000000e+00</td>\n",
              "      <td>0.0</td>\n",
              "    </tr>\n",
              "    <tr>\n",
              "      <th>...</th>\n",
              "      <td>...</td>\n",
              "      <td>...</td>\n",
              "      <td>...</td>\n",
              "      <td>...</td>\n",
              "      <td>...</td>\n",
              "      <td>...</td>\n",
              "      <td>...</td>\n",
              "      <td>...</td>\n",
              "      <td>...</td>\n",
              "      <td>...</td>\n",
              "      <td>...</td>\n",
              "      <td>...</td>\n",
              "      <td>...</td>\n",
              "      <td>...</td>\n",
              "      <td>...</td>\n",
              "      <td>...</td>\n",
              "      <td>...</td>\n",
              "      <td>...</td>\n",
              "      <td>...</td>\n",
              "      <td>...</td>\n",
              "      <td>...</td>\n",
              "    </tr>\n",
              "    <tr>\n",
              "      <th>99994</th>\n",
              "      <td>7359.674718</td>\n",
              "      <td>136.000000</td>\n",
              "      <td>5.093170e-11</td>\n",
              "      <td>12270.261123</td>\n",
              "      <td>136.000000</td>\n",
              "      <td>1.091394e-11</td>\n",
              "      <td>36474.563899</td>\n",
              "      <td>136.000000</td>\n",
              "      <td>1.418812e-10</td>\n",
              "      <td>137527.046516</td>\n",
              "      <td>...</td>\n",
              "      <td>0.000000e+00</td>\n",
              "      <td>0.000000e+00</td>\n",
              "      <td>5.857770</td>\n",
              "      <td>136.000000</td>\n",
              "      <td>0.000000</td>\n",
              "      <td>136.000000</td>\n",
              "      <td>0.000000e+00</td>\n",
              "      <td>0.000000e+00</td>\n",
              "      <td>0.000000e+00</td>\n",
              "      <td>1.0</td>\n",
              "    </tr>\n",
              "    <tr>\n",
              "      <th>99995</th>\n",
              "      <td>7355.013260</td>\n",
              "      <td>136.000000</td>\n",
              "      <td>3.637979e-11</td>\n",
              "      <td>12265.412882</td>\n",
              "      <td>136.000000</td>\n",
              "      <td>4.001777e-11</td>\n",
              "      <td>36474.413213</td>\n",
              "      <td>136.000000</td>\n",
              "      <td>1.091394e-10</td>\n",
              "      <td>137847.589699</td>\n",
              "      <td>...</td>\n",
              "      <td>0.000000e+00</td>\n",
              "      <td>0.000000e+00</td>\n",
              "      <td>2.976221</td>\n",
              "      <td>136.000000</td>\n",
              "      <td>0.000000</td>\n",
              "      <td>136.000000</td>\n",
              "      <td>0.000000e+00</td>\n",
              "      <td>0.000000e+00</td>\n",
              "      <td>0.000000e+00</td>\n",
              "      <td>1.0</td>\n",
              "    </tr>\n",
              "    <tr>\n",
              "      <th>99996</th>\n",
              "      <td>6528.089150</td>\n",
              "      <td>136.000000</td>\n",
              "      <td>1.818989e-11</td>\n",
              "      <td>8992.687314</td>\n",
              "      <td>136.000000</td>\n",
              "      <td>5.820766e-11</td>\n",
              "      <td>13159.085296</td>\n",
              "      <td>136.000000</td>\n",
              "      <td>1.091394e-10</td>\n",
              "      <td>15952.402740</td>\n",
              "      <td>...</td>\n",
              "      <td>0.000000e+00</td>\n",
              "      <td>0.000000e+00</td>\n",
              "      <td>1.998383</td>\n",
              "      <td>136.000000</td>\n",
              "      <td>0.000002</td>\n",
              "      <td>136.000000</td>\n",
              "      <td>3.637979e-12</td>\n",
              "      <td>0.000000e+00</td>\n",
              "      <td>0.000000e+00</td>\n",
              "      <td>1.0</td>\n",
              "    </tr>\n",
              "    <tr>\n",
              "      <th>99997</th>\n",
              "      <td>7369.582520</td>\n",
              "      <td>136.000000</td>\n",
              "      <td>6.912160e-11</td>\n",
              "      <td>12287.328934</td>\n",
              "      <td>136.000000</td>\n",
              "      <td>1.236913e-10</td>\n",
              "      <td>36848.957020</td>\n",
              "      <td>136.000000</td>\n",
              "      <td>2.546585e-11</td>\n",
              "      <td>190476.617565</td>\n",
              "      <td>...</td>\n",
              "      <td>0.000000e+00</td>\n",
              "      <td>0.000000e+00</td>\n",
              "      <td>5.851634</td>\n",
              "      <td>136.000000</td>\n",
              "      <td>0.000003</td>\n",
              "      <td>136.000000</td>\n",
              "      <td>1.091394e-11</td>\n",
              "      <td>0.000000e+00</td>\n",
              "      <td>0.000000e+00</td>\n",
              "      <td>1.0</td>\n",
              "    </tr>\n",
              "    <tr>\n",
              "      <th>99998</th>\n",
              "      <td>7360.571878</td>\n",
              "      <td>136.000000</td>\n",
              "      <td>6.548362e-11</td>\n",
              "      <td>12267.682639</td>\n",
              "      <td>136.000000</td>\n",
              "      <td>1.891749e-10</td>\n",
              "      <td>36805.546583</td>\n",
              "      <td>136.000000</td>\n",
              "      <td>1.709850e-10</td>\n",
              "      <td>228023.544075</td>\n",
              "      <td>...</td>\n",
              "      <td>0.000000e+00</td>\n",
              "      <td>0.000000e+00</td>\n",
              "      <td>6.692805</td>\n",
              "      <td>136.000000</td>\n",
              "      <td>0.000002</td>\n",
              "      <td>136.000000</td>\n",
              "      <td>3.637979e-12</td>\n",
              "      <td>0.000000e+00</td>\n",
              "      <td>0.000000e+00</td>\n",
              "      <td>1.0</td>\n",
              "    </tr>\n",
              "  </tbody>\n",
              "</table>\n",
              "<p>99999 rows × 116 columns</p>\n",
              "</div>\n",
              "      <button class=\"colab-df-convert\" onclick=\"convertToInteractive('df-c806b78c-4295-4745-bf29-f202937c07d6')\"\n",
              "              title=\"Convert this dataframe to an interactive table.\"\n",
              "              style=\"display:none;\">\n",
              "        \n",
              "  <svg xmlns=\"http://www.w3.org/2000/svg\" height=\"24px\"viewBox=\"0 0 24 24\"\n",
              "       width=\"24px\">\n",
              "    <path d=\"M0 0h24v24H0V0z\" fill=\"none\"/>\n",
              "    <path d=\"M18.56 5.44l.94 2.06.94-2.06 2.06-.94-2.06-.94-.94-2.06-.94 2.06-2.06.94zm-11 1L8.5 8.5l.94-2.06 2.06-.94-2.06-.94L8.5 2.5l-.94 2.06-2.06.94zm10 10l.94 2.06.94-2.06 2.06-.94-2.06-.94-.94-2.06-.94 2.06-2.06.94z\"/><path d=\"M17.41 7.96l-1.37-1.37c-.4-.4-.92-.59-1.43-.59-.52 0-1.04.2-1.43.59L10.3 9.45l-7.72 7.72c-.78.78-.78 2.05 0 2.83L4 21.41c.39.39.9.59 1.41.59.51 0 1.02-.2 1.41-.59l7.78-7.78 2.81-2.81c.8-.78.8-2.07 0-2.86zM5.41 20L4 18.59l7.72-7.72 1.47 1.35L5.41 20z\"/>\n",
              "  </svg>\n",
              "      </button>\n",
              "      \n",
              "  <style>\n",
              "    .colab-df-container {\n",
              "      display:flex;\n",
              "      flex-wrap:wrap;\n",
              "      gap: 12px;\n",
              "    }\n",
              "\n",
              "    .colab-df-convert {\n",
              "      background-color: #E8F0FE;\n",
              "      border: none;\n",
              "      border-radius: 50%;\n",
              "      cursor: pointer;\n",
              "      display: none;\n",
              "      fill: #1967D2;\n",
              "      height: 32px;\n",
              "      padding: 0 0 0 0;\n",
              "      width: 32px;\n",
              "    }\n",
              "\n",
              "    .colab-df-convert:hover {\n",
              "      background-color: #E2EBFA;\n",
              "      box-shadow: 0px 1px 2px rgba(60, 64, 67, 0.3), 0px 1px 3px 1px rgba(60, 64, 67, 0.15);\n",
              "      fill: #174EA6;\n",
              "    }\n",
              "\n",
              "    [theme=dark] .colab-df-convert {\n",
              "      background-color: #3B4455;\n",
              "      fill: #D2E3FC;\n",
              "    }\n",
              "\n",
              "    [theme=dark] .colab-df-convert:hover {\n",
              "      background-color: #434B5C;\n",
              "      box-shadow: 0px 1px 3px 1px rgba(0, 0, 0, 0.15);\n",
              "      filter: drop-shadow(0px 1px 2px rgba(0, 0, 0, 0.3));\n",
              "      fill: #FFFFFF;\n",
              "    }\n",
              "  </style>\n",
              "\n",
              "      <script>\n",
              "        const buttonEl =\n",
              "          document.querySelector('#df-c806b78c-4295-4745-bf29-f202937c07d6 button.colab-df-convert');\n",
              "        buttonEl.style.display =\n",
              "          google.colab.kernel.accessAllowed ? 'block' : 'none';\n",
              "\n",
              "        async function convertToInteractive(key) {\n",
              "          const element = document.querySelector('#df-c806b78c-4295-4745-bf29-f202937c07d6');\n",
              "          const dataTable =\n",
              "            await google.colab.kernel.invokeFunction('convertToInteractive',\n",
              "                                                     [key], {});\n",
              "          if (!dataTable) return;\n",
              "\n",
              "          const docLinkHtml = 'Like what you see? Visit the ' +\n",
              "            '<a target=\"_blank\" href=https://colab.research.google.com/notebooks/data_table.ipynb>data table notebook</a>'\n",
              "            + ' to learn more about interactive tables.';\n",
              "          element.innerHTML = '';\n",
              "          dataTable['output_type'] = 'display_data';\n",
              "          await google.colab.output.renderOutput(dataTable, element);\n",
              "          const docLink = document.createElement('div');\n",
              "          docLink.innerHTML = docLinkHtml;\n",
              "          element.appendChild(docLink);\n",
              "        }\n",
              "      </script>\n",
              "    </div>\n",
              "  </div>\n",
              "  "
            ]
          },
          "metadata": {},
          "execution_count": 117
        }
      ],
      "source": [
        "bin_data_total = data = pd.read_csv(\"/content/drive/MyDrive/Colab_Notebooks/Datasets/kitsume_network_attack_dataset/kitsume_network_attack_binary_data_1M.csv\")\n",
        "bin_data_total.drop(bin_data_total.columns[0],axis=1,inplace=True)\n",
        "bin_data_total"
      ]
    },
    {
      "cell_type": "code",
      "execution_count": 118,
      "metadata": {
        "colab": {
          "base_uri": "https://localhost:8080/"
        },
        "id": "xHCs0B3sKOa_",
        "outputId": "3a797349-0371-4205-f3a2-3d162473ee26"
      },
      "outputs": [
        {
          "output_type": "execute_result",
          "data": {
            "text/plain": [
              "0.0    0.626296\n",
              "1.0    0.373704\n",
              "Name: label, dtype: float64"
            ]
          },
          "metadata": {},
          "execution_count": 118
        }
      ],
      "source": [
        "# distribution of label class before sampling\n",
        "data_size = bin_data_total.shape[0]\n",
        "# data_size\n",
        "bin_data_total.label.value_counts()/data_size"
      ]
    },
    {
      "cell_type": "code",
      "source": [
        "# numeric feature normalization\n",
        "from sklearn.preprocessing import MinMaxScaler\n",
        "from sklearn.preprocessing import StandardScaler\n",
        "\n",
        "numeric_cols = bin_data_total.select_dtypes(['number']).columns\n",
        "numeric_cols = numeric_cols.drop('label')\n",
        "flag = 0\n",
        "scaler = None\n",
        "if flag:\n",
        "  # using standard scaler for normalizing\n",
        "  scaler = StandardScaler()\n",
        "else:\n",
        "  # using minmax scaler for normalizing\n",
        "  # to avoid negative values after scaling\n",
        "  scaler = MinMaxScaler()\n",
        "\n",
        "def normalization_train(df,col):\n",
        "  for i in col:\n",
        "    arr = df[i]\n",
        "    arr = np.array(arr)\n",
        "    df[i] = scaler.fit_transform(arr.reshape(len(arr),1))\n",
        "  return df\n",
        "\n",
        "def normalization_test(df,col):\n",
        "  for i in col:\n",
        "    arr = df[i]\n",
        "    arr = np.array(arr)\n",
        "    df[i] = scaler.transform(arr.reshape(len(arr),1))\n",
        "  return df\n",
        "\n",
        "# numeric_cols"
      ],
      "metadata": {
        "id": "QAUrPvEIYHoH"
      },
      "execution_count": 119,
      "outputs": []
    },
    {
      "cell_type": "code",
      "execution_count": 120,
      "metadata": {
        "colab": {
          "base_uri": "https://localhost:8080/",
          "height": 505
        },
        "id": "XSTP2AcKJgTF",
        "outputId": "258b3df2-71e1-4963-a6ef-961220324a2c"
      },
      "outputs": [
        {
          "output_type": "execute_result",
          "data": {
            "text/plain": [
              "                X1           X2            X3            X4           X5  \\\n",
              "0        63.593001  1409.273115  2.877740e+04    101.582531  1407.914397   \n",
              "1        33.567444   744.413016  4.039852e+05     61.758196   735.835298   \n",
              "2        69.791455   739.279220  4.266278e+05    126.425891   738.767114   \n",
              "3       155.469819   724.428175  4.257932e+05    240.495003   726.937293   \n",
              "4        99.286193   733.178785  4.155803e+05    174.635337   730.839814   \n",
              "...            ...          ...           ...           ...          ...   \n",
              "99994  7359.674718   136.000000  5.093170e-11  12270.261123   136.000000   \n",
              "99995  7355.013260   136.000000  3.637979e-11  12265.412882   136.000000   \n",
              "99996  6528.089150   136.000000  1.818989e-11   8992.687314   136.000000   \n",
              "99997  7369.582520   136.000000  6.912160e-11  12287.328934   136.000000   \n",
              "99998  7360.571878   136.000000  6.548362e-11  12267.682639   136.000000   \n",
              "\n",
              "                 X6            X7           X8            X9            X10  \\\n",
              "0      3.257215e+04    282.890001  1404.229864  4.028884e+04    2705.734816   \n",
              "1      4.055287e+05    205.166986   726.203756  4.053561e+05    2131.564557   \n",
              "2      4.301293e+05    408.538742   736.226082  4.341408e+05    4238.143771   \n",
              "3      4.259872e+05    623.368782   728.209538  4.225050e+05    5546.056321   \n",
              "4      4.162693e+05    542.089746   725.367791  4.158204e+05    5459.958306   \n",
              "...             ...           ...          ...           ...            ...   \n",
              "99994  1.091394e-11  36474.563899   136.000000  1.418812e-10  137527.046516   \n",
              "99995  4.001777e-11  36474.413213   136.000000  1.091394e-10  137847.589699   \n",
              "99996  5.820766e-11  13159.085296   136.000000  1.091394e-10   15952.402740   \n",
              "99997  1.236913e-10  36848.957020   136.000000  2.546585e-11  190476.617565   \n",
              "99998  1.891749e-10  36805.546583   136.000000  1.709850e-10  228023.544075   \n",
              "\n",
              "       ...          X107          X108          X109         X110        X111  \\\n",
              "0      ... -1.786670e-11 -1.807032e-08  26923.369527  1401.300617  210.329481   \n",
              "1      ...  0.000000e+00  0.000000e+00   8314.185744  1450.000000    0.000094   \n",
              "2      ...  0.000000e+00  0.000000e+00  19190.900306  1450.000000    0.000193   \n",
              "3      ...  0.000000e+00  0.000000e+00  16068.857113   205.449306  261.593114   \n",
              "4      ...  0.000000e+00  0.000000e+00  16095.227971   202.608187  254.298249   \n",
              "...    ...           ...           ...           ...          ...         ...   \n",
              "99994  ...  0.000000e+00  0.000000e+00      5.857770   136.000000    0.000000   \n",
              "99995  ...  0.000000e+00  0.000000e+00      2.976221   136.000000    0.000000   \n",
              "99996  ...  0.000000e+00  0.000000e+00      1.998383   136.000000    0.000002   \n",
              "99997  ...  0.000000e+00  0.000000e+00      5.851634   136.000000    0.000003   \n",
              "99998  ...  0.000000e+00  0.000000e+00      6.692805   136.000000    0.000002   \n",
              "\n",
              "              X112          X113          X114          X115  label  \n",
              "0      1402.584550  4.423849e+04 -3.707493e-11 -3.557117e-08    0.0  \n",
              "1      1450.000000  8.847564e-09  0.000000e+00  0.000000e+00    0.0  \n",
              "2      1450.000000  3.725290e-08  0.000000e+00  0.000000e+00    0.0  \n",
              "3       205.449306  6.843096e+04  0.000000e+00  0.000000e+00    0.0  \n",
              "4       202.608187  6.466760e+04  0.000000e+00  0.000000e+00    0.0  \n",
              "...            ...           ...           ...           ...    ...  \n",
              "99994   136.000000  0.000000e+00  0.000000e+00  0.000000e+00    1.0  \n",
              "99995   136.000000  0.000000e+00  0.000000e+00  0.000000e+00    1.0  \n",
              "99996   136.000000  3.637979e-12  0.000000e+00  0.000000e+00    1.0  \n",
              "99997   136.000000  1.091394e-11  0.000000e+00  0.000000e+00    1.0  \n",
              "99998   136.000000  3.637979e-12  0.000000e+00  0.000000e+00    1.0  \n",
              "\n",
              "[99999 rows x 116 columns]"
            ],
            "text/html": [
              "\n",
              "  <div id=\"df-31d8805f-56a9-4041-8eed-39966f39b683\">\n",
              "    <div class=\"colab-df-container\">\n",
              "      <div>\n",
              "<style scoped>\n",
              "    .dataframe tbody tr th:only-of-type {\n",
              "        vertical-align: middle;\n",
              "    }\n",
              "\n",
              "    .dataframe tbody tr th {\n",
              "        vertical-align: top;\n",
              "    }\n",
              "\n",
              "    .dataframe thead th {\n",
              "        text-align: right;\n",
              "    }\n",
              "</style>\n",
              "<table border=\"1\" class=\"dataframe\">\n",
              "  <thead>\n",
              "    <tr style=\"text-align: right;\">\n",
              "      <th></th>\n",
              "      <th>X1</th>\n",
              "      <th>X2</th>\n",
              "      <th>X3</th>\n",
              "      <th>X4</th>\n",
              "      <th>X5</th>\n",
              "      <th>X6</th>\n",
              "      <th>X7</th>\n",
              "      <th>X8</th>\n",
              "      <th>X9</th>\n",
              "      <th>X10</th>\n",
              "      <th>...</th>\n",
              "      <th>X107</th>\n",
              "      <th>X108</th>\n",
              "      <th>X109</th>\n",
              "      <th>X110</th>\n",
              "      <th>X111</th>\n",
              "      <th>X112</th>\n",
              "      <th>X113</th>\n",
              "      <th>X114</th>\n",
              "      <th>X115</th>\n",
              "      <th>label</th>\n",
              "    </tr>\n",
              "  </thead>\n",
              "  <tbody>\n",
              "    <tr>\n",
              "      <th>0</th>\n",
              "      <td>63.593001</td>\n",
              "      <td>1409.273115</td>\n",
              "      <td>2.877740e+04</td>\n",
              "      <td>101.582531</td>\n",
              "      <td>1407.914397</td>\n",
              "      <td>3.257215e+04</td>\n",
              "      <td>282.890001</td>\n",
              "      <td>1404.229864</td>\n",
              "      <td>4.028884e+04</td>\n",
              "      <td>2705.734816</td>\n",
              "      <td>...</td>\n",
              "      <td>-1.786670e-11</td>\n",
              "      <td>-1.807032e-08</td>\n",
              "      <td>26923.369527</td>\n",
              "      <td>1401.300617</td>\n",
              "      <td>210.329481</td>\n",
              "      <td>1402.584550</td>\n",
              "      <td>4.423849e+04</td>\n",
              "      <td>-3.707493e-11</td>\n",
              "      <td>-3.557117e-08</td>\n",
              "      <td>0.0</td>\n",
              "    </tr>\n",
              "    <tr>\n",
              "      <th>1</th>\n",
              "      <td>33.567444</td>\n",
              "      <td>744.413016</td>\n",
              "      <td>4.039852e+05</td>\n",
              "      <td>61.758196</td>\n",
              "      <td>735.835298</td>\n",
              "      <td>4.055287e+05</td>\n",
              "      <td>205.166986</td>\n",
              "      <td>726.203756</td>\n",
              "      <td>4.053561e+05</td>\n",
              "      <td>2131.564557</td>\n",
              "      <td>...</td>\n",
              "      <td>0.000000e+00</td>\n",
              "      <td>0.000000e+00</td>\n",
              "      <td>8314.185744</td>\n",
              "      <td>1450.000000</td>\n",
              "      <td>0.000094</td>\n",
              "      <td>1450.000000</td>\n",
              "      <td>8.847564e-09</td>\n",
              "      <td>0.000000e+00</td>\n",
              "      <td>0.000000e+00</td>\n",
              "      <td>0.0</td>\n",
              "    </tr>\n",
              "    <tr>\n",
              "      <th>2</th>\n",
              "      <td>69.791455</td>\n",
              "      <td>739.279220</td>\n",
              "      <td>4.266278e+05</td>\n",
              "      <td>126.425891</td>\n",
              "      <td>738.767114</td>\n",
              "      <td>4.301293e+05</td>\n",
              "      <td>408.538742</td>\n",
              "      <td>736.226082</td>\n",
              "      <td>4.341408e+05</td>\n",
              "      <td>4238.143771</td>\n",
              "      <td>...</td>\n",
              "      <td>0.000000e+00</td>\n",
              "      <td>0.000000e+00</td>\n",
              "      <td>19190.900306</td>\n",
              "      <td>1450.000000</td>\n",
              "      <td>0.000193</td>\n",
              "      <td>1450.000000</td>\n",
              "      <td>3.725290e-08</td>\n",
              "      <td>0.000000e+00</td>\n",
              "      <td>0.000000e+00</td>\n",
              "      <td>0.0</td>\n",
              "    </tr>\n",
              "    <tr>\n",
              "      <th>3</th>\n",
              "      <td>155.469819</td>\n",
              "      <td>724.428175</td>\n",
              "      <td>4.257932e+05</td>\n",
              "      <td>240.495003</td>\n",
              "      <td>726.937293</td>\n",
              "      <td>4.259872e+05</td>\n",
              "      <td>623.368782</td>\n",
              "      <td>728.209538</td>\n",
              "      <td>4.225050e+05</td>\n",
              "      <td>5546.056321</td>\n",
              "      <td>...</td>\n",
              "      <td>0.000000e+00</td>\n",
              "      <td>0.000000e+00</td>\n",
              "      <td>16068.857113</td>\n",
              "      <td>205.449306</td>\n",
              "      <td>261.593114</td>\n",
              "      <td>205.449306</td>\n",
              "      <td>6.843096e+04</td>\n",
              "      <td>0.000000e+00</td>\n",
              "      <td>0.000000e+00</td>\n",
              "      <td>0.0</td>\n",
              "    </tr>\n",
              "    <tr>\n",
              "      <th>4</th>\n",
              "      <td>99.286193</td>\n",
              "      <td>733.178785</td>\n",
              "      <td>4.155803e+05</td>\n",
              "      <td>174.635337</td>\n",
              "      <td>730.839814</td>\n",
              "      <td>4.162693e+05</td>\n",
              "      <td>542.089746</td>\n",
              "      <td>725.367791</td>\n",
              "      <td>4.158204e+05</td>\n",
              "      <td>5459.958306</td>\n",
              "      <td>...</td>\n",
              "      <td>0.000000e+00</td>\n",
              "      <td>0.000000e+00</td>\n",
              "      <td>16095.227971</td>\n",
              "      <td>202.608187</td>\n",
              "      <td>254.298249</td>\n",
              "      <td>202.608187</td>\n",
              "      <td>6.466760e+04</td>\n",
              "      <td>0.000000e+00</td>\n",
              "      <td>0.000000e+00</td>\n",
              "      <td>0.0</td>\n",
              "    </tr>\n",
              "    <tr>\n",
              "      <th>...</th>\n",
              "      <td>...</td>\n",
              "      <td>...</td>\n",
              "      <td>...</td>\n",
              "      <td>...</td>\n",
              "      <td>...</td>\n",
              "      <td>...</td>\n",
              "      <td>...</td>\n",
              "      <td>...</td>\n",
              "      <td>...</td>\n",
              "      <td>...</td>\n",
              "      <td>...</td>\n",
              "      <td>...</td>\n",
              "      <td>...</td>\n",
              "      <td>...</td>\n",
              "      <td>...</td>\n",
              "      <td>...</td>\n",
              "      <td>...</td>\n",
              "      <td>...</td>\n",
              "      <td>...</td>\n",
              "      <td>...</td>\n",
              "      <td>...</td>\n",
              "    </tr>\n",
              "    <tr>\n",
              "      <th>99994</th>\n",
              "      <td>7359.674718</td>\n",
              "      <td>136.000000</td>\n",
              "      <td>5.093170e-11</td>\n",
              "      <td>12270.261123</td>\n",
              "      <td>136.000000</td>\n",
              "      <td>1.091394e-11</td>\n",
              "      <td>36474.563899</td>\n",
              "      <td>136.000000</td>\n",
              "      <td>1.418812e-10</td>\n",
              "      <td>137527.046516</td>\n",
              "      <td>...</td>\n",
              "      <td>0.000000e+00</td>\n",
              "      <td>0.000000e+00</td>\n",
              "      <td>5.857770</td>\n",
              "      <td>136.000000</td>\n",
              "      <td>0.000000</td>\n",
              "      <td>136.000000</td>\n",
              "      <td>0.000000e+00</td>\n",
              "      <td>0.000000e+00</td>\n",
              "      <td>0.000000e+00</td>\n",
              "      <td>1.0</td>\n",
              "    </tr>\n",
              "    <tr>\n",
              "      <th>99995</th>\n",
              "      <td>7355.013260</td>\n",
              "      <td>136.000000</td>\n",
              "      <td>3.637979e-11</td>\n",
              "      <td>12265.412882</td>\n",
              "      <td>136.000000</td>\n",
              "      <td>4.001777e-11</td>\n",
              "      <td>36474.413213</td>\n",
              "      <td>136.000000</td>\n",
              "      <td>1.091394e-10</td>\n",
              "      <td>137847.589699</td>\n",
              "      <td>...</td>\n",
              "      <td>0.000000e+00</td>\n",
              "      <td>0.000000e+00</td>\n",
              "      <td>2.976221</td>\n",
              "      <td>136.000000</td>\n",
              "      <td>0.000000</td>\n",
              "      <td>136.000000</td>\n",
              "      <td>0.000000e+00</td>\n",
              "      <td>0.000000e+00</td>\n",
              "      <td>0.000000e+00</td>\n",
              "      <td>1.0</td>\n",
              "    </tr>\n",
              "    <tr>\n",
              "      <th>99996</th>\n",
              "      <td>6528.089150</td>\n",
              "      <td>136.000000</td>\n",
              "      <td>1.818989e-11</td>\n",
              "      <td>8992.687314</td>\n",
              "      <td>136.000000</td>\n",
              "      <td>5.820766e-11</td>\n",
              "      <td>13159.085296</td>\n",
              "      <td>136.000000</td>\n",
              "      <td>1.091394e-10</td>\n",
              "      <td>15952.402740</td>\n",
              "      <td>...</td>\n",
              "      <td>0.000000e+00</td>\n",
              "      <td>0.000000e+00</td>\n",
              "      <td>1.998383</td>\n",
              "      <td>136.000000</td>\n",
              "      <td>0.000002</td>\n",
              "      <td>136.000000</td>\n",
              "      <td>3.637979e-12</td>\n",
              "      <td>0.000000e+00</td>\n",
              "      <td>0.000000e+00</td>\n",
              "      <td>1.0</td>\n",
              "    </tr>\n",
              "    <tr>\n",
              "      <th>99997</th>\n",
              "      <td>7369.582520</td>\n",
              "      <td>136.000000</td>\n",
              "      <td>6.912160e-11</td>\n",
              "      <td>12287.328934</td>\n",
              "      <td>136.000000</td>\n",
              "      <td>1.236913e-10</td>\n",
              "      <td>36848.957020</td>\n",
              "      <td>136.000000</td>\n",
              "      <td>2.546585e-11</td>\n",
              "      <td>190476.617565</td>\n",
              "      <td>...</td>\n",
              "      <td>0.000000e+00</td>\n",
              "      <td>0.000000e+00</td>\n",
              "      <td>5.851634</td>\n",
              "      <td>136.000000</td>\n",
              "      <td>0.000003</td>\n",
              "      <td>136.000000</td>\n",
              "      <td>1.091394e-11</td>\n",
              "      <td>0.000000e+00</td>\n",
              "      <td>0.000000e+00</td>\n",
              "      <td>1.0</td>\n",
              "    </tr>\n",
              "    <tr>\n",
              "      <th>99998</th>\n",
              "      <td>7360.571878</td>\n",
              "      <td>136.000000</td>\n",
              "      <td>6.548362e-11</td>\n",
              "      <td>12267.682639</td>\n",
              "      <td>136.000000</td>\n",
              "      <td>1.891749e-10</td>\n",
              "      <td>36805.546583</td>\n",
              "      <td>136.000000</td>\n",
              "      <td>1.709850e-10</td>\n",
              "      <td>228023.544075</td>\n",
              "      <td>...</td>\n",
              "      <td>0.000000e+00</td>\n",
              "      <td>0.000000e+00</td>\n",
              "      <td>6.692805</td>\n",
              "      <td>136.000000</td>\n",
              "      <td>0.000002</td>\n",
              "      <td>136.000000</td>\n",
              "      <td>3.637979e-12</td>\n",
              "      <td>0.000000e+00</td>\n",
              "      <td>0.000000e+00</td>\n",
              "      <td>1.0</td>\n",
              "    </tr>\n",
              "  </tbody>\n",
              "</table>\n",
              "<p>99999 rows × 116 columns</p>\n",
              "</div>\n",
              "      <button class=\"colab-df-convert\" onclick=\"convertToInteractive('df-31d8805f-56a9-4041-8eed-39966f39b683')\"\n",
              "              title=\"Convert this dataframe to an interactive table.\"\n",
              "              style=\"display:none;\">\n",
              "        \n",
              "  <svg xmlns=\"http://www.w3.org/2000/svg\" height=\"24px\"viewBox=\"0 0 24 24\"\n",
              "       width=\"24px\">\n",
              "    <path d=\"M0 0h24v24H0V0z\" fill=\"none\"/>\n",
              "    <path d=\"M18.56 5.44l.94 2.06.94-2.06 2.06-.94-2.06-.94-.94-2.06-.94 2.06-2.06.94zm-11 1L8.5 8.5l.94-2.06 2.06-.94-2.06-.94L8.5 2.5l-.94 2.06-2.06.94zm10 10l.94 2.06.94-2.06 2.06-.94-2.06-.94-.94-2.06-.94 2.06-2.06.94z\"/><path d=\"M17.41 7.96l-1.37-1.37c-.4-.4-.92-.59-1.43-.59-.52 0-1.04.2-1.43.59L10.3 9.45l-7.72 7.72c-.78.78-.78 2.05 0 2.83L4 21.41c.39.39.9.59 1.41.59.51 0 1.02-.2 1.41-.59l7.78-7.78 2.81-2.81c.8-.78.8-2.07 0-2.86zM5.41 20L4 18.59l7.72-7.72 1.47 1.35L5.41 20z\"/>\n",
              "  </svg>\n",
              "      </button>\n",
              "      \n",
              "  <style>\n",
              "    .colab-df-container {\n",
              "      display:flex;\n",
              "      flex-wrap:wrap;\n",
              "      gap: 12px;\n",
              "    }\n",
              "\n",
              "    .colab-df-convert {\n",
              "      background-color: #E8F0FE;\n",
              "      border: none;\n",
              "      border-radius: 50%;\n",
              "      cursor: pointer;\n",
              "      display: none;\n",
              "      fill: #1967D2;\n",
              "      height: 32px;\n",
              "      padding: 0 0 0 0;\n",
              "      width: 32px;\n",
              "    }\n",
              "\n",
              "    .colab-df-convert:hover {\n",
              "      background-color: #E2EBFA;\n",
              "      box-shadow: 0px 1px 2px rgba(60, 64, 67, 0.3), 0px 1px 3px 1px rgba(60, 64, 67, 0.15);\n",
              "      fill: #174EA6;\n",
              "    }\n",
              "\n",
              "    [theme=dark] .colab-df-convert {\n",
              "      background-color: #3B4455;\n",
              "      fill: #D2E3FC;\n",
              "    }\n",
              "\n",
              "    [theme=dark] .colab-df-convert:hover {\n",
              "      background-color: #434B5C;\n",
              "      box-shadow: 0px 1px 3px 1px rgba(0, 0, 0, 0.15);\n",
              "      filter: drop-shadow(0px 1px 2px rgba(0, 0, 0, 0.3));\n",
              "      fill: #FFFFFF;\n",
              "    }\n",
              "  </style>\n",
              "\n",
              "      <script>\n",
              "        const buttonEl =\n",
              "          document.querySelector('#df-31d8805f-56a9-4041-8eed-39966f39b683 button.colab-df-convert');\n",
              "        buttonEl.style.display =\n",
              "          google.colab.kernel.accessAllowed ? 'block' : 'none';\n",
              "\n",
              "        async function convertToInteractive(key) {\n",
              "          const element = document.querySelector('#df-31d8805f-56a9-4041-8eed-39966f39b683');\n",
              "          const dataTable =\n",
              "            await google.colab.kernel.invokeFunction('convertToInteractive',\n",
              "                                                     [key], {});\n",
              "          if (!dataTable) return;\n",
              "\n",
              "          const docLinkHtml = 'Like what you see? Visit the ' +\n",
              "            '<a target=\"_blank\" href=https://colab.research.google.com/notebooks/data_table.ipynb>data table notebook</a>'\n",
              "            + ' to learn more about interactive tables.';\n",
              "          element.innerHTML = '';\n",
              "          dataTable['output_type'] = 'display_data';\n",
              "          await google.colab.output.renderOutput(dataTable, element);\n",
              "          const docLink = document.createElement('div');\n",
              "          docLink.innerHTML = docLinkHtml;\n",
              "          element.appendChild(docLink);\n",
              "        }\n",
              "      </script>\n",
              "    </div>\n",
              "  </div>\n",
              "  "
            ]
          },
          "metadata": {},
          "execution_count": 120
        }
      ],
      "source": [
        "# sampling data taking only 50% of the data\n",
        "# bin_data = bin_data_total.groupby('label', group_keys=False).apply(lambda x: x.sample(frac=0.5))\n",
        "bin_data = bin_data_total\n",
        "bin_data"
      ]
    },
    {
      "cell_type": "code",
      "source": [
        "number_of_cols = bin_data.shape[1]"
      ],
      "metadata": {
        "id": "N125Cc3Ukt8h"
      },
      "execution_count": 121,
      "outputs": []
    },
    {
      "cell_type": "code",
      "execution_count": 122,
      "metadata": {
        "colab": {
          "base_uri": "https://localhost:8080/"
        },
        "id": "nKX2TRG0J85J",
        "outputId": "f246af8f-88ea-4596-a9c2-e90d0c5ca400"
      },
      "outputs": [
        {
          "output_type": "execute_result",
          "data": {
            "text/plain": [
              "0.0    0.626296\n",
              "1.0    0.373704\n",
              "Name: label, dtype: float64"
            ]
          },
          "metadata": {},
          "execution_count": 122
        }
      ],
      "source": [
        "# distribution of label class after sampling\n",
        "data_size = bin_data.shape[0]\n",
        "bin_data.label.value_counts()/data_size"
      ]
    },
    {
      "cell_type": "code",
      "execution_count": 123,
      "metadata": {
        "id": "L11T2MepDzax"
      },
      "outputs": [],
      "source": [
        "model_selection = {\n",
        "    0 : \"ALL\",\n",
        "    2 : \"MLP\",\n",
        "    3 : \"LSTM\",\n",
        "    4 : \"AE\"\n",
        "}\n",
        "model_flag = 0\n",
        "svm_enable = 1"
      ]
    },
    {
      "cell_type": "code",
      "execution_count": 124,
      "metadata": {
        "id": "OdRAXVlsxUVW"
      },
      "outputs": [],
      "source": [
        "X = bin_data.iloc[:,0:number_of_cols] # dataset excluding target attribute (encoded, one-hot-encoded,original)\n",
        "Y = bin_data['label'] # target attribute"
      ]
    },
    {
      "cell_type": "code",
      "execution_count": 125,
      "metadata": {
        "id": "lFdHHvRtxU5B"
      },
      "outputs": [],
      "source": [
        "# splitting the dataset 75% for training and 25% testing\n",
        "X_train, X_test, y_train, y_test = train_test_split(X,Y, test_size=0.25, random_state=42) "
      ]
    },
    {
      "cell_type": "code",
      "source": [
        "# calling the normalization() function\n",
        "X_train = normalization_train(X_train,numeric_cols)\n",
        "X_train.head()"
      ],
      "metadata": {
        "colab": {
          "base_uri": "https://localhost:8080/",
          "height": 386
        },
        "id": "SLLlMtsaYJdK",
        "outputId": "57711a85-9544-461b-afff-eb8015ad1801"
      },
      "execution_count": 126,
      "outputs": [
        {
          "output_type": "execute_result",
          "data": {
            "text/plain": [
              "                 X1        X2            X3        X4        X5            X6  \\\n",
              "65134  8.892426e-01  0.055058  2.425533e-17  0.740503  0.055298  4.061345e-17   \n",
              "9928   1.356541e-07  0.000242  2.458986e-04  0.000002  0.005500  5.358381e-03   \n",
              "89685  9.942479e-01  0.055058  2.587235e-16  0.995183  0.055298  2.193126e-16   \n",
              "60954  8.644940e-03  0.476687  9.347206e-01  0.007630  0.478222  9.296712e-01   \n",
              "69188  9.182695e-01  0.055058  4.851065e-17  0.783560  0.055298  1.462084e-16   \n",
              "\n",
              "             X7        X8            X9       X10  ...      X107      X108  \\\n",
              "65134  0.366106  0.055783  2.453304e-16  0.070105  ...  0.463957  0.500171   \n",
              "9928   0.000061  0.155652  4.768510e-02  0.000116  ...  0.463957  0.500171   \n",
              "89685  0.982197  0.055783  7.032805e-16  0.530177  ...  0.463957  0.500171   \n",
              "60954  0.006678  0.479231  9.254017e-01  0.009315  ...  0.463957  0.500171   \n",
              "69188  0.403259  0.055783  4.988385e-16  0.079107  ...  0.463957  0.500171   \n",
              "\n",
              "           X109          X110          X111      X112          X113      X114  \\\n",
              "65134  0.000000  5.467626e-02  0.000000e+00  0.051524  0.000000e+00  0.729359   \n",
              "9928   0.000059  8.187895e-16  1.872965e-09  0.014604  4.961061e-18  0.729359   \n",
              "89685  0.000000  5.467626e-02  0.000000e+00  0.051524  0.000000e+00  0.729359   \n",
              "60954  0.475033  1.268288e-01  7.966811e-01  0.123917  6.347009e-01  0.729359   \n",
              "69188  0.000000  5.467626e-02  0.000000e+00  0.051524  0.000000e+00  0.729359   \n",
              "\n",
              "           X115  label  \n",
              "65134  0.807456    1.0  \n",
              "9928   0.807456    0.0  \n",
              "89685  0.807456    1.0  \n",
              "60954  0.807456    0.0  \n",
              "69188  0.807456    1.0  \n",
              "\n",
              "[5 rows x 116 columns]"
            ],
            "text/html": [
              "\n",
              "  <div id=\"df-607b0e98-3373-44f5-b29f-f8863c9be752\">\n",
              "    <div class=\"colab-df-container\">\n",
              "      <div>\n",
              "<style scoped>\n",
              "    .dataframe tbody tr th:only-of-type {\n",
              "        vertical-align: middle;\n",
              "    }\n",
              "\n",
              "    .dataframe tbody tr th {\n",
              "        vertical-align: top;\n",
              "    }\n",
              "\n",
              "    .dataframe thead th {\n",
              "        text-align: right;\n",
              "    }\n",
              "</style>\n",
              "<table border=\"1\" class=\"dataframe\">\n",
              "  <thead>\n",
              "    <tr style=\"text-align: right;\">\n",
              "      <th></th>\n",
              "      <th>X1</th>\n",
              "      <th>X2</th>\n",
              "      <th>X3</th>\n",
              "      <th>X4</th>\n",
              "      <th>X5</th>\n",
              "      <th>X6</th>\n",
              "      <th>X7</th>\n",
              "      <th>X8</th>\n",
              "      <th>X9</th>\n",
              "      <th>X10</th>\n",
              "      <th>...</th>\n",
              "      <th>X107</th>\n",
              "      <th>X108</th>\n",
              "      <th>X109</th>\n",
              "      <th>X110</th>\n",
              "      <th>X111</th>\n",
              "      <th>X112</th>\n",
              "      <th>X113</th>\n",
              "      <th>X114</th>\n",
              "      <th>X115</th>\n",
              "      <th>label</th>\n",
              "    </tr>\n",
              "  </thead>\n",
              "  <tbody>\n",
              "    <tr>\n",
              "      <th>65134</th>\n",
              "      <td>8.892426e-01</td>\n",
              "      <td>0.055058</td>\n",
              "      <td>2.425533e-17</td>\n",
              "      <td>0.740503</td>\n",
              "      <td>0.055298</td>\n",
              "      <td>4.061345e-17</td>\n",
              "      <td>0.366106</td>\n",
              "      <td>0.055783</td>\n",
              "      <td>2.453304e-16</td>\n",
              "      <td>0.070105</td>\n",
              "      <td>...</td>\n",
              "      <td>0.463957</td>\n",
              "      <td>0.500171</td>\n",
              "      <td>0.000000</td>\n",
              "      <td>5.467626e-02</td>\n",
              "      <td>0.000000e+00</td>\n",
              "      <td>0.051524</td>\n",
              "      <td>0.000000e+00</td>\n",
              "      <td>0.729359</td>\n",
              "      <td>0.807456</td>\n",
              "      <td>1.0</td>\n",
              "    </tr>\n",
              "    <tr>\n",
              "      <th>9928</th>\n",
              "      <td>1.356541e-07</td>\n",
              "      <td>0.000242</td>\n",
              "      <td>2.458986e-04</td>\n",
              "      <td>0.000002</td>\n",
              "      <td>0.005500</td>\n",
              "      <td>5.358381e-03</td>\n",
              "      <td>0.000061</td>\n",
              "      <td>0.155652</td>\n",
              "      <td>4.768510e-02</td>\n",
              "      <td>0.000116</td>\n",
              "      <td>...</td>\n",
              "      <td>0.463957</td>\n",
              "      <td>0.500171</td>\n",
              "      <td>0.000059</td>\n",
              "      <td>8.187895e-16</td>\n",
              "      <td>1.872965e-09</td>\n",
              "      <td>0.014604</td>\n",
              "      <td>4.961061e-18</td>\n",
              "      <td>0.729359</td>\n",
              "      <td>0.807456</td>\n",
              "      <td>0.0</td>\n",
              "    </tr>\n",
              "    <tr>\n",
              "      <th>89685</th>\n",
              "      <td>9.942479e-01</td>\n",
              "      <td>0.055058</td>\n",
              "      <td>2.587235e-16</td>\n",
              "      <td>0.995183</td>\n",
              "      <td>0.055298</td>\n",
              "      <td>2.193126e-16</td>\n",
              "      <td>0.982197</td>\n",
              "      <td>0.055783</td>\n",
              "      <td>7.032805e-16</td>\n",
              "      <td>0.530177</td>\n",
              "      <td>...</td>\n",
              "      <td>0.463957</td>\n",
              "      <td>0.500171</td>\n",
              "      <td>0.000000</td>\n",
              "      <td>5.467626e-02</td>\n",
              "      <td>0.000000e+00</td>\n",
              "      <td>0.051524</td>\n",
              "      <td>0.000000e+00</td>\n",
              "      <td>0.729359</td>\n",
              "      <td>0.807456</td>\n",
              "      <td>1.0</td>\n",
              "    </tr>\n",
              "    <tr>\n",
              "      <th>60954</th>\n",
              "      <td>8.644940e-03</td>\n",
              "      <td>0.476687</td>\n",
              "      <td>9.347206e-01</td>\n",
              "      <td>0.007630</td>\n",
              "      <td>0.478222</td>\n",
              "      <td>9.296712e-01</td>\n",
              "      <td>0.006678</td>\n",
              "      <td>0.479231</td>\n",
              "      <td>9.254017e-01</td>\n",
              "      <td>0.009315</td>\n",
              "      <td>...</td>\n",
              "      <td>0.463957</td>\n",
              "      <td>0.500171</td>\n",
              "      <td>0.475033</td>\n",
              "      <td>1.268288e-01</td>\n",
              "      <td>7.966811e-01</td>\n",
              "      <td>0.123917</td>\n",
              "      <td>6.347009e-01</td>\n",
              "      <td>0.729359</td>\n",
              "      <td>0.807456</td>\n",
              "      <td>0.0</td>\n",
              "    </tr>\n",
              "    <tr>\n",
              "      <th>69188</th>\n",
              "      <td>9.182695e-01</td>\n",
              "      <td>0.055058</td>\n",
              "      <td>4.851065e-17</td>\n",
              "      <td>0.783560</td>\n",
              "      <td>0.055298</td>\n",
              "      <td>1.462084e-16</td>\n",
              "      <td>0.403259</td>\n",
              "      <td>0.055783</td>\n",
              "      <td>4.988385e-16</td>\n",
              "      <td>0.079107</td>\n",
              "      <td>...</td>\n",
              "      <td>0.463957</td>\n",
              "      <td>0.500171</td>\n",
              "      <td>0.000000</td>\n",
              "      <td>5.467626e-02</td>\n",
              "      <td>0.000000e+00</td>\n",
              "      <td>0.051524</td>\n",
              "      <td>0.000000e+00</td>\n",
              "      <td>0.729359</td>\n",
              "      <td>0.807456</td>\n",
              "      <td>1.0</td>\n",
              "    </tr>\n",
              "  </tbody>\n",
              "</table>\n",
              "<p>5 rows × 116 columns</p>\n",
              "</div>\n",
              "      <button class=\"colab-df-convert\" onclick=\"convertToInteractive('df-607b0e98-3373-44f5-b29f-f8863c9be752')\"\n",
              "              title=\"Convert this dataframe to an interactive table.\"\n",
              "              style=\"display:none;\">\n",
              "        \n",
              "  <svg xmlns=\"http://www.w3.org/2000/svg\" height=\"24px\"viewBox=\"0 0 24 24\"\n",
              "       width=\"24px\">\n",
              "    <path d=\"M0 0h24v24H0V0z\" fill=\"none\"/>\n",
              "    <path d=\"M18.56 5.44l.94 2.06.94-2.06 2.06-.94-2.06-.94-.94-2.06-.94 2.06-2.06.94zm-11 1L8.5 8.5l.94-2.06 2.06-.94-2.06-.94L8.5 2.5l-.94 2.06-2.06.94zm10 10l.94 2.06.94-2.06 2.06-.94-2.06-.94-.94-2.06-.94 2.06-2.06.94z\"/><path d=\"M17.41 7.96l-1.37-1.37c-.4-.4-.92-.59-1.43-.59-.52 0-1.04.2-1.43.59L10.3 9.45l-7.72 7.72c-.78.78-.78 2.05 0 2.83L4 21.41c.39.39.9.59 1.41.59.51 0 1.02-.2 1.41-.59l7.78-7.78 2.81-2.81c.8-.78.8-2.07 0-2.86zM5.41 20L4 18.59l7.72-7.72 1.47 1.35L5.41 20z\"/>\n",
              "  </svg>\n",
              "      </button>\n",
              "      \n",
              "  <style>\n",
              "    .colab-df-container {\n",
              "      display:flex;\n",
              "      flex-wrap:wrap;\n",
              "      gap: 12px;\n",
              "    }\n",
              "\n",
              "    .colab-df-convert {\n",
              "      background-color: #E8F0FE;\n",
              "      border: none;\n",
              "      border-radius: 50%;\n",
              "      cursor: pointer;\n",
              "      display: none;\n",
              "      fill: #1967D2;\n",
              "      height: 32px;\n",
              "      padding: 0 0 0 0;\n",
              "      width: 32px;\n",
              "    }\n",
              "\n",
              "    .colab-df-convert:hover {\n",
              "      background-color: #E2EBFA;\n",
              "      box-shadow: 0px 1px 2px rgba(60, 64, 67, 0.3), 0px 1px 3px 1px rgba(60, 64, 67, 0.15);\n",
              "      fill: #174EA6;\n",
              "    }\n",
              "\n",
              "    [theme=dark] .colab-df-convert {\n",
              "      background-color: #3B4455;\n",
              "      fill: #D2E3FC;\n",
              "    }\n",
              "\n",
              "    [theme=dark] .colab-df-convert:hover {\n",
              "      background-color: #434B5C;\n",
              "      box-shadow: 0px 1px 3px 1px rgba(0, 0, 0, 0.15);\n",
              "      filter: drop-shadow(0px 1px 2px rgba(0, 0, 0, 0.3));\n",
              "      fill: #FFFFFF;\n",
              "    }\n",
              "  </style>\n",
              "\n",
              "      <script>\n",
              "        const buttonEl =\n",
              "          document.querySelector('#df-607b0e98-3373-44f5-b29f-f8863c9be752 button.colab-df-convert');\n",
              "        buttonEl.style.display =\n",
              "          google.colab.kernel.accessAllowed ? 'block' : 'none';\n",
              "\n",
              "        async function convertToInteractive(key) {\n",
              "          const element = document.querySelector('#df-607b0e98-3373-44f5-b29f-f8863c9be752');\n",
              "          const dataTable =\n",
              "            await google.colab.kernel.invokeFunction('convertToInteractive',\n",
              "                                                     [key], {});\n",
              "          if (!dataTable) return;\n",
              "\n",
              "          const docLinkHtml = 'Like what you see? Visit the ' +\n",
              "            '<a target=\"_blank\" href=https://colab.research.google.com/notebooks/data_table.ipynb>data table notebook</a>'\n",
              "            + ' to learn more about interactive tables.';\n",
              "          element.innerHTML = '';\n",
              "          dataTable['output_type'] = 'display_data';\n",
              "          await google.colab.output.renderOutput(dataTable, element);\n",
              "          const docLink = document.createElement('div');\n",
              "          docLink.innerHTML = docLinkHtml;\n",
              "          element.appendChild(docLink);\n",
              "        }\n",
              "      </script>\n",
              "    </div>\n",
              "  </div>\n",
              "  "
            ]
          },
          "metadata": {},
          "execution_count": 126
        }
      ]
    },
    {
      "cell_type": "code",
      "source": [
        "# calling the normalization() function\n",
        "X_test = normalization_test(X_test,numeric_cols)\n",
        "X_test.head()"
      ],
      "metadata": {
        "colab": {
          "base_uri": "https://localhost:8080/",
          "height": 300
        },
        "id": "EKmhgZCobPU3",
        "outputId": "cc4f3c25-3e78-4c1b-a009-edf0dcf59e52"
      },
      "execution_count": 127,
      "outputs": [
        {
          "output_type": "execute_result",
          "data": {
            "text/plain": [
              "                 X1            X2            X3            X4            X5  \\\n",
              "26002  5.295081e+07  1.654419e+08  1.452415e+10  9.190756e+07  1.607136e+08   \n",
              "80420  1.684686e+10  3.114160e+08  8.076888e-01  2.809656e+10  3.114160e+08   \n",
              "19864  4.780952e+07  1.373894e+08  8.074566e-01  8.336001e+07  1.373894e+08   \n",
              "81525  1.692996e+10  3.114160e+08  8.074722e-01  2.818977e+10  3.114160e+08   \n",
              "57878  1.249339e+08  3.220584e+09  7.382331e+10  1.986870e+08  3.215605e+09   \n",
              "\n",
              "                 X6            X7            X8            X9           X10  \\\n",
              "26002  1.212308e+10  2.803455e+08  1.542686e+08  8.650160e+09  2.833995e+09   \n",
              "80420  8.081136e-01  8.432902e+10  3.114160e+08  8.076805e-01  4.636051e+11   \n",
              "19864  8.074607e-01  2.747988e+08  1.373894e+08  4.401507e+01  2.902150e+09   \n",
              "81525  8.076471e-01  8.429960e+10  3.114160e+08  8.081719e-01  3.928678e+11   \n",
              "57878  7.921728e+10  5.984011e+08  3.215891e+09  8.445400e+10  6.124058e+09   \n",
              "\n",
              "       ...      X107      X108          X109          X110          X111  \\\n",
              "26002  ...  0.807442  0.793868  2.859616e+10  1.373894e+08  4.260261e+00   \n",
              "80420  ...  0.807456  0.807456  1.091227e+07  3.114160e+08  5.174947e+00   \n",
              "19864  ...  0.807445  0.796358  2.852034e+10  1.373894e+08  1.461868e+01   \n",
              "81525  ...  0.807456  0.807456  1.118715e+07  3.114160e+08  8.074555e-01   \n",
              "57878  ...  0.807468  0.818042  6.157898e+10  3.209433e+09  4.759132e+08   \n",
              "\n",
              "               X112          X113      X114      X115  label  \n",
              "26002  3.205788e+09  1.068963e+11  0.807445  0.774845    0.0  \n",
              "80420  3.114160e+08  8.074639e-01  0.807456  0.807456    1.0  \n",
              "19864  3.211082e+09  1.012635e+11  0.807369  0.739254    0.0  \n",
              "81525  3.114160e+08  8.074555e-01  0.807456  0.807456    1.0  \n",
              "57878  3.212372e+09  9.891302e+10  0.807435  0.795784    0.0  \n",
              "\n",
              "[5 rows x 116 columns]"
            ],
            "text/html": [
              "\n",
              "  <div id=\"df-d606431a-b637-439e-a5dd-a8261b482180\">\n",
              "    <div class=\"colab-df-container\">\n",
              "      <div>\n",
              "<style scoped>\n",
              "    .dataframe tbody tr th:only-of-type {\n",
              "        vertical-align: middle;\n",
              "    }\n",
              "\n",
              "    .dataframe tbody tr th {\n",
              "        vertical-align: top;\n",
              "    }\n",
              "\n",
              "    .dataframe thead th {\n",
              "        text-align: right;\n",
              "    }\n",
              "</style>\n",
              "<table border=\"1\" class=\"dataframe\">\n",
              "  <thead>\n",
              "    <tr style=\"text-align: right;\">\n",
              "      <th></th>\n",
              "      <th>X1</th>\n",
              "      <th>X2</th>\n",
              "      <th>X3</th>\n",
              "      <th>X4</th>\n",
              "      <th>X5</th>\n",
              "      <th>X6</th>\n",
              "      <th>X7</th>\n",
              "      <th>X8</th>\n",
              "      <th>X9</th>\n",
              "      <th>X10</th>\n",
              "      <th>...</th>\n",
              "      <th>X107</th>\n",
              "      <th>X108</th>\n",
              "      <th>X109</th>\n",
              "      <th>X110</th>\n",
              "      <th>X111</th>\n",
              "      <th>X112</th>\n",
              "      <th>X113</th>\n",
              "      <th>X114</th>\n",
              "      <th>X115</th>\n",
              "      <th>label</th>\n",
              "    </tr>\n",
              "  </thead>\n",
              "  <tbody>\n",
              "    <tr>\n",
              "      <th>26002</th>\n",
              "      <td>5.295081e+07</td>\n",
              "      <td>1.654419e+08</td>\n",
              "      <td>1.452415e+10</td>\n",
              "      <td>9.190756e+07</td>\n",
              "      <td>1.607136e+08</td>\n",
              "      <td>1.212308e+10</td>\n",
              "      <td>2.803455e+08</td>\n",
              "      <td>1.542686e+08</td>\n",
              "      <td>8.650160e+09</td>\n",
              "      <td>2.833995e+09</td>\n",
              "      <td>...</td>\n",
              "      <td>0.807442</td>\n",
              "      <td>0.793868</td>\n",
              "      <td>2.859616e+10</td>\n",
              "      <td>1.373894e+08</td>\n",
              "      <td>4.260261e+00</td>\n",
              "      <td>3.205788e+09</td>\n",
              "      <td>1.068963e+11</td>\n",
              "      <td>0.807445</td>\n",
              "      <td>0.774845</td>\n",
              "      <td>0.0</td>\n",
              "    </tr>\n",
              "    <tr>\n",
              "      <th>80420</th>\n",
              "      <td>1.684686e+10</td>\n",
              "      <td>3.114160e+08</td>\n",
              "      <td>8.076888e-01</td>\n",
              "      <td>2.809656e+10</td>\n",
              "      <td>3.114160e+08</td>\n",
              "      <td>8.081136e-01</td>\n",
              "      <td>8.432902e+10</td>\n",
              "      <td>3.114160e+08</td>\n",
              "      <td>8.076805e-01</td>\n",
              "      <td>4.636051e+11</td>\n",
              "      <td>...</td>\n",
              "      <td>0.807456</td>\n",
              "      <td>0.807456</td>\n",
              "      <td>1.091227e+07</td>\n",
              "      <td>3.114160e+08</td>\n",
              "      <td>5.174947e+00</td>\n",
              "      <td>3.114160e+08</td>\n",
              "      <td>8.074639e-01</td>\n",
              "      <td>0.807456</td>\n",
              "      <td>0.807456</td>\n",
              "      <td>1.0</td>\n",
              "    </tr>\n",
              "    <tr>\n",
              "      <th>19864</th>\n",
              "      <td>4.780952e+07</td>\n",
              "      <td>1.373894e+08</td>\n",
              "      <td>8.074566e-01</td>\n",
              "      <td>8.336001e+07</td>\n",
              "      <td>1.373894e+08</td>\n",
              "      <td>8.074607e-01</td>\n",
              "      <td>2.747988e+08</td>\n",
              "      <td>1.373894e+08</td>\n",
              "      <td>4.401507e+01</td>\n",
              "      <td>2.902150e+09</td>\n",
              "      <td>...</td>\n",
              "      <td>0.807445</td>\n",
              "      <td>0.796358</td>\n",
              "      <td>2.852034e+10</td>\n",
              "      <td>1.373894e+08</td>\n",
              "      <td>1.461868e+01</td>\n",
              "      <td>3.211082e+09</td>\n",
              "      <td>1.012635e+11</td>\n",
              "      <td>0.807369</td>\n",
              "      <td>0.739254</td>\n",
              "      <td>0.0</td>\n",
              "    </tr>\n",
              "    <tr>\n",
              "      <th>81525</th>\n",
              "      <td>1.692996e+10</td>\n",
              "      <td>3.114160e+08</td>\n",
              "      <td>8.074722e-01</td>\n",
              "      <td>2.818977e+10</td>\n",
              "      <td>3.114160e+08</td>\n",
              "      <td>8.076471e-01</td>\n",
              "      <td>8.429960e+10</td>\n",
              "      <td>3.114160e+08</td>\n",
              "      <td>8.081719e-01</td>\n",
              "      <td>3.928678e+11</td>\n",
              "      <td>...</td>\n",
              "      <td>0.807456</td>\n",
              "      <td>0.807456</td>\n",
              "      <td>1.118715e+07</td>\n",
              "      <td>3.114160e+08</td>\n",
              "      <td>8.074555e-01</td>\n",
              "      <td>3.114160e+08</td>\n",
              "      <td>8.074555e-01</td>\n",
              "      <td>0.807456</td>\n",
              "      <td>0.807456</td>\n",
              "      <td>1.0</td>\n",
              "    </tr>\n",
              "    <tr>\n",
              "      <th>57878</th>\n",
              "      <td>1.249339e+08</td>\n",
              "      <td>3.220584e+09</td>\n",
              "      <td>7.382331e+10</td>\n",
              "      <td>1.986870e+08</td>\n",
              "      <td>3.215605e+09</td>\n",
              "      <td>7.921728e+10</td>\n",
              "      <td>5.984011e+08</td>\n",
              "      <td>3.215891e+09</td>\n",
              "      <td>8.445400e+10</td>\n",
              "      <td>6.124058e+09</td>\n",
              "      <td>...</td>\n",
              "      <td>0.807468</td>\n",
              "      <td>0.818042</td>\n",
              "      <td>6.157898e+10</td>\n",
              "      <td>3.209433e+09</td>\n",
              "      <td>4.759132e+08</td>\n",
              "      <td>3.212372e+09</td>\n",
              "      <td>9.891302e+10</td>\n",
              "      <td>0.807435</td>\n",
              "      <td>0.795784</td>\n",
              "      <td>0.0</td>\n",
              "    </tr>\n",
              "  </tbody>\n",
              "</table>\n",
              "<p>5 rows × 116 columns</p>\n",
              "</div>\n",
              "      <button class=\"colab-df-convert\" onclick=\"convertToInteractive('df-d606431a-b637-439e-a5dd-a8261b482180')\"\n",
              "              title=\"Convert this dataframe to an interactive table.\"\n",
              "              style=\"display:none;\">\n",
              "        \n",
              "  <svg xmlns=\"http://www.w3.org/2000/svg\" height=\"24px\"viewBox=\"0 0 24 24\"\n",
              "       width=\"24px\">\n",
              "    <path d=\"M0 0h24v24H0V0z\" fill=\"none\"/>\n",
              "    <path d=\"M18.56 5.44l.94 2.06.94-2.06 2.06-.94-2.06-.94-.94-2.06-.94 2.06-2.06.94zm-11 1L8.5 8.5l.94-2.06 2.06-.94-2.06-.94L8.5 2.5l-.94 2.06-2.06.94zm10 10l.94 2.06.94-2.06 2.06-.94-2.06-.94-.94-2.06-.94 2.06-2.06.94z\"/><path d=\"M17.41 7.96l-1.37-1.37c-.4-.4-.92-.59-1.43-.59-.52 0-1.04.2-1.43.59L10.3 9.45l-7.72 7.72c-.78.78-.78 2.05 0 2.83L4 21.41c.39.39.9.59 1.41.59.51 0 1.02-.2 1.41-.59l7.78-7.78 2.81-2.81c.8-.78.8-2.07 0-2.86zM5.41 20L4 18.59l7.72-7.72 1.47 1.35L5.41 20z\"/>\n",
              "  </svg>\n",
              "      </button>\n",
              "      \n",
              "  <style>\n",
              "    .colab-df-container {\n",
              "      display:flex;\n",
              "      flex-wrap:wrap;\n",
              "      gap: 12px;\n",
              "    }\n",
              "\n",
              "    .colab-df-convert {\n",
              "      background-color: #E8F0FE;\n",
              "      border: none;\n",
              "      border-radius: 50%;\n",
              "      cursor: pointer;\n",
              "      display: none;\n",
              "      fill: #1967D2;\n",
              "      height: 32px;\n",
              "      padding: 0 0 0 0;\n",
              "      width: 32px;\n",
              "    }\n",
              "\n",
              "    .colab-df-convert:hover {\n",
              "      background-color: #E2EBFA;\n",
              "      box-shadow: 0px 1px 2px rgba(60, 64, 67, 0.3), 0px 1px 3px 1px rgba(60, 64, 67, 0.15);\n",
              "      fill: #174EA6;\n",
              "    }\n",
              "\n",
              "    [theme=dark] .colab-df-convert {\n",
              "      background-color: #3B4455;\n",
              "      fill: #D2E3FC;\n",
              "    }\n",
              "\n",
              "    [theme=dark] .colab-df-convert:hover {\n",
              "      background-color: #434B5C;\n",
              "      box-shadow: 0px 1px 3px 1px rgba(0, 0, 0, 0.15);\n",
              "      filter: drop-shadow(0px 1px 2px rgba(0, 0, 0, 0.3));\n",
              "      fill: #FFFFFF;\n",
              "    }\n",
              "  </style>\n",
              "\n",
              "      <script>\n",
              "        const buttonEl =\n",
              "          document.querySelector('#df-d606431a-b637-439e-a5dd-a8261b482180 button.colab-df-convert');\n",
              "        buttonEl.style.display =\n",
              "          google.colab.kernel.accessAllowed ? 'block' : 'none';\n",
              "\n",
              "        async function convertToInteractive(key) {\n",
              "          const element = document.querySelector('#df-d606431a-b637-439e-a5dd-a8261b482180');\n",
              "          const dataTable =\n",
              "            await google.colab.kernel.invokeFunction('convertToInteractive',\n",
              "                                                     [key], {});\n",
              "          if (!dataTable) return;\n",
              "\n",
              "          const docLinkHtml = 'Like what you see? Visit the ' +\n",
              "            '<a target=\"_blank\" href=https://colab.research.google.com/notebooks/data_table.ipynb>data table notebook</a>'\n",
              "            + ' to learn more about interactive tables.';\n",
              "          element.innerHTML = '';\n",
              "          dataTable['output_type'] = 'display_data';\n",
              "          await google.colab.output.renderOutput(dataTable, element);\n",
              "          const docLink = document.createElement('div');\n",
              "          docLink.innerHTML = docLinkHtml;\n",
              "          element.appendChild(docLink);\n",
              "        }\n",
              "      </script>\n",
              "    </div>\n",
              "  </div>\n",
              "  "
            ]
          },
          "metadata": {},
          "execution_count": 127
        }
      ]
    },
    {
      "cell_type": "markdown",
      "metadata": {
        "id": "ZfAbEIDgz4iY"
      },
      "source": [
        "## **Linear Support Vector Machine Classifier (Binary Classification) **\n",
        "to enable make the svm_enable = 1 in the above cell"
      ]
    },
    {
      "cell_type": "code",
      "execution_count": 128,
      "metadata": {
        "id": "o8GdMBjdzFQT"
      },
      "outputs": [],
      "source": [
        "if svm_enable:\n",
        "  # using kernel as linear \n",
        "  lsvm = SVC(kernel='linear',gamma='auto') \n",
        "  lsvm.fit(X_train,y_train) # training model on training dataset"
      ]
    },
    {
      "cell_type": "code",
      "execution_count": 129,
      "metadata": {
        "id": "NjfYZA_9zTNK",
        "colab": {
          "base_uri": "https://localhost:8080/"
        },
        "outputId": "71ee01c5-2c78-4f34-db8b-25584e28bd9b"
      },
      "outputs": [
        {
          "output_type": "stream",
          "name": "stdout",
          "text": [
            "Saved model to disk\n",
            "Loaded model from disk\n"
          ]
        }
      ],
      "source": [
        "if svm_enable:\n",
        "  pkl_filename = \"/content/drive/MyDrive/Colab_Notebooks/Models/lsvm_binary_unsw_nb15.pkl\"\n",
        "  if (not path.isfile(pkl_filename)):\n",
        "    # saving the trained model to disk\n",
        "    with open(pkl_filename, 'wb') as file:\n",
        "      pickle.dump(lsvm, file)\n",
        "    print(\"Saved model to disk\")\n",
        "    # loading the trained model from disk\n",
        "    with open(pkl_filename, 'rb') as file:\n",
        "      lsvm = pickle.load(file)\n",
        "    print(\"Loaded model from disk\") "
      ]
    },
    {
      "cell_type": "code",
      "execution_count": 130,
      "metadata": {
        "id": "xsnN51Juzgcf",
        "colab": {
          "base_uri": "https://localhost:8080/"
        },
        "outputId": "77b11027-1d79-48ef-d5d3-6bb5fedb635c"
      },
      "outputs": [
        {
          "output_type": "stream",
          "name": "stdout",
          "text": [
            "LSVM-Classifier Binary Set-Accuracy is  47.327999999999996\n"
          ]
        }
      ],
      "source": [
        "if svm_enable:\n",
        "  y_pred = lsvm.predict(X_test) # predicting target attribute on testing dataset\n",
        "  ac = accuracy_score(y_test, y_pred)*100 # calculating accuracy of predicted data\n",
        "  print(\"LSVM-Classifier Binary Set-Accuracy is \", ac)"
      ]
    },
    {
      "cell_type": "code",
      "execution_count": 131,
      "metadata": {
        "id": "qg2gbJTg8NtL"
      },
      "outputs": [],
      "source": [
        "# import matplotlib.pyplot as plt\n",
        "# from sklearn.datasets import make_classification\n",
        "# from sklearn.metrics import confusion_matrix, ConfusionMatrixDisplay\n",
        "# from sklearn.model_selection import train_test_split\n",
        "# from sklearn.svm import SVC\n",
        "# X, y = make_classification(random_state=0)\n",
        "# X_train, X_test, y_train, y_test = train_test_split(X, y,\n",
        "#                                                     random_state=0)\n",
        "# cm = confusion_matrix(y_test, y_pred, labels=lsvm.classes_)\n",
        "# disp = ConfusionMatrixDisplay(confusion_matrix=cm,\n",
        "#                               display_labels=lsvm.classes_)\n",
        "# disp.plot()\n",
        "\n",
        "# plt.show()"
      ]
    },
    {
      "cell_type": "code",
      "execution_count": 132,
      "metadata": {
        "id": "9IydNlzT5kx6",
        "colab": {
          "base_uri": "https://localhost:8080/",
          "height": 480
        },
        "outputId": "d2f49863-66d2-4005-eafd-1eda9197cf6e"
      },
      "outputs": [
        {
          "output_type": "display_data",
          "data": {
            "text/plain": [
              "<Figure size 2000x800 with 1 Axes>"
            ],
            "image/png": "[encoded data removed]"
          },
          "metadata": {}
        }
      ],
      "source": [
        "if svm_enable:\n",
        "  plt.figure(figsize=(20,8))\n",
        "  plt.plot(y_pred[300:500], label=\"prediction\", linewidth=2.0,color='blue')\n",
        "  plt.plot(y_test[300:500].values, label=\"real_values\", linewidth=2.0,color='lightcoral')\n",
        "  plt.legend(loc=\"best\")\n",
        "  plt.ylim((-1,2))\n",
        "  plt.title(\"Linear SVM Binary Classification\")\n",
        "  plt.savefig('/content/drive/MyDrive/Colab_Notebooks/Plots/lsvm_real_pred_bin.png')\n",
        "  plt.show()"
      ]
    },
    {
      "cell_type": "code",
      "execution_count": 133,
      "metadata": {
        "id": "s9lqoveaUBvg",
        "colab": {
          "base_uri": "https://localhost:8080/"
        },
        "outputId": "0f83e164-f63f-45f4-c209-0d526fdb62d0"
      },
      "outputs": [
        {
          "output_type": "stream",
          "name": "stdout",
          "text": [
            "              precision    recall  f1-score   support\n",
            "\n",
            "     class 0       1.00      0.16      0.28     15701\n",
            "     class 1       0.41      1.00      0.59      9299\n",
            "\n",
            "    accuracy                           0.47     25000\n",
            "   macro avg       0.71      0.58      0.43     25000\n",
            "weighted avg       0.78      0.47      0.39     25000\n",
            "\n"
          ]
        }
      ],
      "source": [
        "if svm_enable:\n",
        "  target_names = ['class 0', 'class 1']\n",
        "  print(classification_report(y_test, y_pred, target_names=target_names))"
      ]
    },
    {
      "cell_type": "code",
      "execution_count": 134,
      "metadata": {
        "id": "kWxBZhnw9t5n",
        "colab": {
          "base_uri": "https://localhost:8080/",
          "height": 449
        },
        "outputId": "0a0fb5e2-b883-4216-c64c-700f5245e45b"
      },
      "outputs": [
        {
          "output_type": "display_data",
          "data": {
            "text/plain": [
              "<Figure size 640x480 with 2 Axes>"
            ],
            "image/png": "[encoded data removed]"
          },
          "metadata": {}
        }
      ],
      "source": [
        "if svm_enable:\n",
        "  from sklearn.metrics import confusion_matrix, ConfusionMatrixDisplay\n",
        "\n",
        "  clf = lsvm\n",
        "  cm = confusion_matrix(y_test, y_pred, labels=clf.classes_)\n",
        "  disp = ConfusionMatrixDisplay(confusion_matrix=cm,\n",
        "                                display_labels=clf.classes_)\n",
        "  disp.plot()\n",
        "\n",
        "  plt.show()"
      ]
    },
    {
      "cell_type": "markdown",
      "metadata": {
        "id": "PUjrwY2l0_RI"
      },
      "source": [
        "## **Multi Layer Perceptron Classifier (Binary Classification)**"
      ]
    },
    {
      "cell_type": "code",
      "execution_count": 135,
      "metadata": {
        "id": "u9v5Ylpa1DHY"
      },
      "outputs": [],
      "source": [
        "if model_selection[model_flag]==\"ALL\" or model_selection[model_flag] == \"MLP\":\n",
        "  mlp = Sequential() # creating model\n",
        "\n",
        "  # adding input layer and first layer with 50 neurons\n",
        "  mlp.add(Dense(units=50, input_dim=X_train.shape[1], activation='relu'))\n",
        "  # output layer with sigmoid activation\n",
        "  mlp.add(Dense(units=1,activation='sigmoid'))"
      ]
    },
    {
      "cell_type": "code",
      "execution_count": 136,
      "metadata": {
        "id": "E-9M9d0p1p8s"
      },
      "outputs": [],
      "source": [
        "if model_selection[model_flag]==\"ALL\" or model_selection[model_flag] == \"MLP\":\n",
        "  # defining loss function, optimizer, metrics and then compiling model\n",
        "  mlp.compile(loss='binary_crossentropy', optimizer='adam', metrics=['accuracy'])"
      ]
    },
    {
      "cell_type": "code",
      "execution_count": 137,
      "metadata": {
        "id": "NK-1_akm1vO9",
        "colab": {
          "base_uri": "https://localhost:8080/"
        },
        "outputId": "632b4d3b-a787-4ae1-eb17-c4f2134a26e0"
      },
      "outputs": [
        {
          "output_type": "stream",
          "name": "stdout",
          "text": [
            "Model: \"sequential_4\"\n",
            "_________________________________________________________________\n",
            " Layer (type)                Output Shape              Param #   \n",
            "=================================================================\n",
            " dense_9 (Dense)             (None, 50)                5850      \n",
            "                                                                 \n",
            " dense_10 (Dense)            (None, 1)                 51        \n",
            "                                                                 \n",
            "=================================================================\n",
            "Total params: 5,901\n",
            "Trainable params: 5,901\n",
            "Non-trainable params: 0\n",
            "_________________________________________________________________\n"
          ]
        }
      ],
      "source": [
        "if model_selection[model_flag]==\"ALL\" or model_selection[model_flag] == \"MLP\":\n",
        "  # summary of model layers\n",
        "  mlp.summary()"
      ]
    },
    {
      "cell_type": "code",
      "execution_count": 138,
      "metadata": {
        "id": "UYZ4xCgp13gP",
        "colab": {
          "base_uri": "https://localhost:8080/"
        },
        "outputId": "ea0ba772-3655-4f7f-d8ab-af21ad9da745"
      },
      "outputs": [
        {
          "output_type": "stream",
          "name": "stdout",
          "text": [
            "Epoch 1/100\n",
            "12/12 [==============================] - 2s 37ms/step - loss: 0.5764 - accuracy: 0.6328 - val_loss: 0.3113 - val_accuracy: 0.9490\n",
            "Epoch 2/100\n",
            "12/12 [==============================] - 0s 8ms/step - loss: 0.2147 - accuracy: 0.9655 - val_loss: 0.1350 - val_accuracy: 0.9829\n",
            "Epoch 3/100\n",
            "12/12 [==============================] - 0s 9ms/step - loss: 0.1051 - accuracy: 0.9861 - val_loss: 0.0798 - val_accuracy: 0.9881\n",
            "Epoch 4/100\n",
            "12/12 [==============================] - 0s 8ms/step - loss: 0.0690 - accuracy: 0.9890 - val_loss: 0.0590 - val_accuracy: 0.9901\n",
            "Epoch 5/100\n",
            "12/12 [==============================] - 0s 8ms/step - loss: 0.0537 - accuracy: 0.9903 - val_loss: 0.0487 - val_accuracy: 0.9907\n",
            "Epoch 6/100\n",
            "12/12 [==============================] - 0s 8ms/step - loss: 0.0456 - accuracy: 0.9912 - val_loss: 0.0427 - val_accuracy: 0.9917\n",
            "Epoch 7/100\n",
            "12/12 [==============================] - 0s 9ms/step - loss: 0.0406 - accuracy: 0.9918 - val_loss: 0.0386 - val_accuracy: 0.9921\n",
            "Epoch 8/100\n",
            "12/12 [==============================] - 0s 9ms/step - loss: 0.0367 - accuracy: 0.9924 - val_loss: 0.0353 - val_accuracy: 0.9926\n",
            "Epoch 9/100\n",
            "12/12 [==============================] - 0s 8ms/step - loss: 0.0337 - accuracy: 0.9927 - val_loss: 0.0330 - val_accuracy: 0.9931\n",
            "Epoch 10/100\n",
            "12/12 [==============================] - 0s 8ms/step - loss: 0.0315 - accuracy: 0.9930 - val_loss: 0.0312 - val_accuracy: 0.9933\n",
            "Epoch 11/100\n",
            "12/12 [==============================] - 0s 10ms/step - loss: 0.0297 - accuracy: 0.9933 - val_loss: 0.0297 - val_accuracy: 0.9934\n",
            "Epoch 12/100\n",
            "12/12 [==============================] - 0s 10ms/step - loss: 0.0282 - accuracy: 0.9934 - val_loss: 0.0284 - val_accuracy: 0.9935\n",
            "Epoch 13/100\n",
            "12/12 [==============================] - 0s 9ms/step - loss: 0.0269 - accuracy: 0.9935 - val_loss: 0.0273 - val_accuracy: 0.9935\n",
            "Epoch 14/100\n",
            "12/12 [==============================] - 0s 9ms/step - loss: 0.0257 - accuracy: 0.9936 - val_loss: 0.0264 - val_accuracy: 0.9935\n",
            "Epoch 15/100\n",
            "12/12 [==============================] - 0s 8ms/step - loss: 0.0247 - accuracy: 0.9937 - val_loss: 0.0255 - val_accuracy: 0.9936\n",
            "Epoch 16/100\n",
            "12/12 [==============================] - 0s 9ms/step - loss: 0.0238 - accuracy: 0.9938 - val_loss: 0.0247 - val_accuracy: 0.9937\n",
            "Epoch 17/100\n",
            "12/12 [==============================] - 0s 9ms/step - loss: 0.0230 - accuracy: 0.9939 - val_loss: 0.0240 - val_accuracy: 0.9937\n",
            "Epoch 18/100\n",
            "12/12 [==============================] - 0s 8ms/step - loss: 0.0223 - accuracy: 0.9941 - val_loss: 0.0234 - val_accuracy: 0.9937\n",
            "Epoch 19/100\n",
            "12/12 [==============================] - 0s 8ms/step - loss: 0.0216 - accuracy: 0.9946 - val_loss: 0.0229 - val_accuracy: 0.9941\n",
            "Epoch 20/100\n",
            "12/12 [==============================] - 0s 9ms/step - loss: 0.0211 - accuracy: 0.9950 - val_loss: 0.0224 - val_accuracy: 0.9945\n",
            "Epoch 21/100\n",
            "12/12 [==============================] - 0s 9ms/step - loss: 0.0206 - accuracy: 0.9953 - val_loss: 0.0219 - val_accuracy: 0.9949\n",
            "Epoch 22/100\n",
            "12/12 [==============================] - 0s 9ms/step - loss: 0.0202 - accuracy: 0.9956 - val_loss: 0.0215 - val_accuracy: 0.9949\n",
            "Epoch 23/100\n",
            "12/12 [==============================] - 0s 10ms/step - loss: 0.0198 - accuracy: 0.9957 - val_loss: 0.0211 - val_accuracy: 0.9950\n",
            "Epoch 24/100\n",
            "12/12 [==============================] - 0s 9ms/step - loss: 0.0191 - accuracy: 0.9958 - val_loss: 0.0204 - val_accuracy: 0.9951\n",
            "Epoch 25/100\n",
            "12/12 [==============================] - 0s 8ms/step - loss: 0.0188 - accuracy: 0.9959 - val_loss: 0.0200 - val_accuracy: 0.9950\n",
            "Epoch 26/100\n",
            "12/12 [==============================] - 0s 9ms/step - loss: 0.0184 - accuracy: 0.9959 - val_loss: 0.0197 - val_accuracy: 0.9953\n",
            "Epoch 27/100\n",
            "12/12 [==============================] - 0s 8ms/step - loss: 0.0181 - accuracy: 0.9960 - val_loss: 0.0194 - val_accuracy: 0.9953\n",
            "Epoch 28/100\n",
            "12/12 [==============================] - 0s 10ms/step - loss: 0.0178 - accuracy: 0.9962 - val_loss: 0.0191 - val_accuracy: 0.9954\n",
            "Epoch 29/100\n",
            "12/12 [==============================] - 0s 11ms/step - loss: 0.0176 - accuracy: 0.9962 - val_loss: 0.0188 - val_accuracy: 0.9955\n",
            "Epoch 30/100\n",
            "12/12 [==============================] - 0s 8ms/step - loss: 0.0173 - accuracy: 0.9962 - val_loss: 0.0185 - val_accuracy: 0.9955\n",
            "Epoch 31/100\n",
            "12/12 [==============================] - 0s 9ms/step - loss: 0.0171 - accuracy: 0.9962 - val_loss: 0.0183 - val_accuracy: 0.9955\n",
            "Epoch 32/100\n",
            "12/12 [==============================] - 0s 10ms/step - loss: 0.0169 - accuracy: 0.9962 - val_loss: 0.0180 - val_accuracy: 0.9955\n",
            "Epoch 33/100\n",
            "12/12 [==============================] - 0s 9ms/step - loss: 0.0166 - accuracy: 0.9962 - val_loss: 0.0178 - val_accuracy: 0.9957\n",
            "Epoch 34/100\n",
            "12/12 [==============================] - 0s 8ms/step - loss: 0.0164 - accuracy: 0.9963 - val_loss: 0.0176 - val_accuracy: 0.9957\n",
            "Epoch 35/100\n",
            "12/12 [==============================] - 0s 9ms/step - loss: 0.0162 - accuracy: 0.9963 - val_loss: 0.0174 - val_accuracy: 0.9958\n",
            "Epoch 36/100\n",
            "12/12 [==============================] - 0s 8ms/step - loss: 0.0160 - accuracy: 0.9963 - val_loss: 0.0172 - val_accuracy: 0.9959\n",
            "Epoch 37/100\n",
            "12/12 [==============================] - 0s 8ms/step - loss: 0.0158 - accuracy: 0.9963 - val_loss: 0.0169 - val_accuracy: 0.9959\n",
            "Epoch 38/100\n",
            "12/12 [==============================] - 0s 10ms/step - loss: 0.0156 - accuracy: 0.9964 - val_loss: 0.0167 - val_accuracy: 0.9961\n",
            "Epoch 39/100\n",
            "12/12 [==============================] - 0s 9ms/step - loss: 0.0155 - accuracy: 0.9964 - val_loss: 0.0165 - val_accuracy: 0.9961\n",
            "Epoch 40/100\n",
            "12/12 [==============================] - 0s 9ms/step - loss: 0.0153 - accuracy: 0.9964 - val_loss: 0.0163 - val_accuracy: 0.9961\n",
            "Epoch 41/100\n",
            "12/12 [==============================] - 0s 10ms/step - loss: 0.0151 - accuracy: 0.9965 - val_loss: 0.0161 - val_accuracy: 0.9961\n",
            "Epoch 42/100\n",
            "12/12 [==============================] - 0s 9ms/step - loss: 0.0149 - accuracy: 0.9965 - val_loss: 0.0159 - val_accuracy: 0.9962\n",
            "Epoch 43/100\n",
            "12/12 [==============================] - 0s 10ms/step - loss: 0.0147 - accuracy: 0.9965 - val_loss: 0.0157 - val_accuracy: 0.9961\n",
            "Epoch 44/100\n",
            "12/12 [==============================] - 0s 9ms/step - loss: 0.0145 - accuracy: 0.9966 - val_loss: 0.0155 - val_accuracy: 0.9962\n",
            "Epoch 45/100\n",
            "12/12 [==============================] - 0s 10ms/step - loss: 0.0143 - accuracy: 0.9966 - val_loss: 0.0152 - val_accuracy: 0.9962\n",
            "Epoch 46/100\n",
            "12/12 [==============================] - 0s 11ms/step - loss: 0.0140 - accuracy: 0.9966 - val_loss: 0.0149 - val_accuracy: 0.9963\n",
            "Epoch 47/100\n",
            "12/12 [==============================] - 0s 9ms/step - loss: 0.0137 - accuracy: 0.9966 - val_loss: 0.0146 - val_accuracy: 0.9963\n",
            "Epoch 48/100\n",
            "12/12 [==============================] - 0s 10ms/step - loss: 0.0135 - accuracy: 0.9966 - val_loss: 0.0144 - val_accuracy: 0.9963\n",
            "Epoch 49/100\n",
            "12/12 [==============================] - 0s 10ms/step - loss: 0.0133 - accuracy: 0.9966 - val_loss: 0.0142 - val_accuracy: 0.9963\n",
            "Epoch 50/100\n",
            "12/12 [==============================] - 0s 9ms/step - loss: 0.0132 - accuracy: 0.9967 - val_loss: 0.0139 - val_accuracy: 0.9963\n",
            "Epoch 51/100\n",
            "12/12 [==============================] - 0s 10ms/step - loss: 0.0129 - accuracy: 0.9967 - val_loss: 0.0138 - val_accuracy: 0.9964\n",
            "Epoch 52/100\n",
            "12/12 [==============================] - 0s 9ms/step - loss: 0.0127 - accuracy: 0.9968 - val_loss: 0.0135 - val_accuracy: 0.9964\n",
            "Epoch 53/100\n",
            "12/12 [==============================] - 0s 8ms/step - loss: 0.0125 - accuracy: 0.9968 - val_loss: 0.0133 - val_accuracy: 0.9965\n",
            "Epoch 54/100\n",
            "12/12 [==============================] - 0s 9ms/step - loss: 0.0123 - accuracy: 0.9968 - val_loss: 0.0131 - val_accuracy: 0.9965\n",
            "Epoch 55/100\n",
            "12/12 [==============================] - 0s 9ms/step - loss: 0.0122 - accuracy: 0.9969 - val_loss: 0.0129 - val_accuracy: 0.9967\n",
            "Epoch 56/100\n",
            "12/12 [==============================] - 0s 9ms/step - loss: 0.0120 - accuracy: 0.9970 - val_loss: 0.0127 - val_accuracy: 0.9968\n",
            "Epoch 57/100\n",
            "12/12 [==============================] - 0s 10ms/step - loss: 0.0118 - accuracy: 0.9970 - val_loss: 0.0125 - val_accuracy: 0.9968\n",
            "Epoch 58/100\n",
            "12/12 [==============================] - 0s 8ms/step - loss: 0.0116 - accuracy: 0.9970 - val_loss: 0.0123 - val_accuracy: 0.9968\n",
            "Epoch 59/100\n",
            "12/12 [==============================] - 0s 8ms/step - loss: 0.0114 - accuracy: 0.9970 - val_loss: 0.0121 - val_accuracy: 0.9969\n",
            "Epoch 60/100\n",
            "12/12 [==============================] - 0s 9ms/step - loss: 0.0112 - accuracy: 0.9971 - val_loss: 0.0119 - val_accuracy: 0.9969\n",
            "Epoch 61/100\n",
            "12/12 [==============================] - 0s 10ms/step - loss: 0.0110 - accuracy: 0.9971 - val_loss: 0.0117 - val_accuracy: 0.9969\n",
            "Epoch 62/100\n",
            "12/12 [==============================] - 0s 8ms/step - loss: 0.0108 - accuracy: 0.9971 - val_loss: 0.0114 - val_accuracy: 0.9969\n",
            "Epoch 63/100\n",
            "12/12 [==============================] - 0s 9ms/step - loss: 0.0106 - accuracy: 0.9971 - val_loss: 0.0112 - val_accuracy: 0.9969\n",
            "Epoch 64/100\n",
            "12/12 [==============================] - 0s 9ms/step - loss: 0.0104 - accuracy: 0.9972 - val_loss: 0.0111 - val_accuracy: 0.9969\n",
            "Epoch 65/100\n",
            "12/12 [==============================] - 0s 9ms/step - loss: 0.0102 - accuracy: 0.9972 - val_loss: 0.0108 - val_accuracy: 0.9969\n",
            "Epoch 66/100\n",
            "12/12 [==============================] - 0s 9ms/step - loss: 0.0100 - accuracy: 0.9972 - val_loss: 0.0106 - val_accuracy: 0.9970\n",
            "Epoch 67/100\n",
            "12/12 [==============================] - 0s 9ms/step - loss: 0.0099 - accuracy: 0.9972 - val_loss: 0.0105 - val_accuracy: 0.9969\n",
            "Epoch 68/100\n",
            "12/12 [==============================] - 0s 9ms/step - loss: 0.0097 - accuracy: 0.9972 - val_loss: 0.0102 - val_accuracy: 0.9970\n",
            "Epoch 69/100\n",
            "12/12 [==============================] - 0s 10ms/step - loss: 0.0095 - accuracy: 0.9972 - val_loss: 0.0100 - val_accuracy: 0.9970\n",
            "Epoch 70/100\n",
            "12/12 [==============================] - 0s 8ms/step - loss: 0.0093 - accuracy: 0.9972 - val_loss: 0.0098 - val_accuracy: 0.9970\n",
            "Epoch 71/100\n",
            "12/12 [==============================] - 0s 9ms/step - loss: 0.0091 - accuracy: 0.9972 - val_loss: 0.0096 - val_accuracy: 0.9970\n",
            "Epoch 72/100\n",
            "12/12 [==============================] - 0s 9ms/step - loss: 0.0089 - accuracy: 0.9972 - val_loss: 0.0094 - val_accuracy: 0.9970\n",
            "Epoch 73/100\n",
            "12/12 [==============================] - 0s 9ms/step - loss: 0.0087 - accuracy: 0.9973 - val_loss: 0.0092 - val_accuracy: 0.9970\n",
            "Epoch 74/100\n",
            "12/12 [==============================] - 0s 9ms/step - loss: 0.0085 - accuracy: 0.9973 - val_loss: 0.0090 - val_accuracy: 0.9970\n",
            "Epoch 75/100\n",
            "12/12 [==============================] - 0s 9ms/step - loss: 0.0084 - accuracy: 0.9973 - val_loss: 0.0088 - val_accuracy: 0.9970\n",
            "Epoch 76/100\n",
            "12/12 [==============================] - 0s 8ms/step - loss: 0.0081 - accuracy: 0.9973 - val_loss: 0.0086 - val_accuracy: 0.9970\n",
            "Epoch 77/100\n",
            "12/12 [==============================] - 0s 8ms/step - loss: 0.0079 - accuracy: 0.9973 - val_loss: 0.0084 - val_accuracy: 0.9970\n",
            "Epoch 78/100\n",
            "12/12 [==============================] - 0s 10ms/step - loss: 0.0078 - accuracy: 0.9973 - val_loss: 0.0082 - val_accuracy: 0.9970\n",
            "Epoch 79/100\n",
            "12/12 [==============================] - 0s 9ms/step - loss: 0.0076 - accuracy: 0.9973 - val_loss: 0.0080 - val_accuracy: 0.9970\n",
            "Epoch 80/100\n",
            "12/12 [==============================] - 0s 9ms/step - loss: 0.0074 - accuracy: 0.9973 - val_loss: 0.0078 - val_accuracy: 0.9970\n",
            "Epoch 81/100\n",
            "12/12 [==============================] - 0s 9ms/step - loss: 0.0072 - accuracy: 0.9973 - val_loss: 0.0076 - val_accuracy: 0.9970\n",
            "Epoch 82/100\n",
            "12/12 [==============================] - 0s 9ms/step - loss: 0.0070 - accuracy: 0.9973 - val_loss: 0.0074 - val_accuracy: 0.9970\n",
            "Epoch 83/100\n",
            "12/12 [==============================] - 0s 9ms/step - loss: 0.0069 - accuracy: 0.9973 - val_loss: 0.0072 - val_accuracy: 0.9970\n",
            "Epoch 84/100\n",
            "12/12 [==============================] - 0s 10ms/step - loss: 0.0067 - accuracy: 0.9973 - val_loss: 0.0070 - val_accuracy: 0.9970\n",
            "Epoch 85/100\n",
            "12/12 [==============================] - 0s 9ms/step - loss: 0.0065 - accuracy: 0.9973 - val_loss: 0.0068 - val_accuracy: 0.9970\n",
            "Epoch 86/100\n",
            "12/12 [==============================] - 0s 9ms/step - loss: 0.0063 - accuracy: 0.9973 - val_loss: 0.0066 - val_accuracy: 0.9970\n",
            "Epoch 87/100\n",
            "12/12 [==============================] - 0s 9ms/step - loss: 0.0062 - accuracy: 0.9973 - val_loss: 0.0065 - val_accuracy: 0.9970\n",
            "Epoch 88/100\n",
            "12/12 [==============================] - 0s 10ms/step - loss: 0.0060 - accuracy: 0.9973 - val_loss: 0.0063 - val_accuracy: 0.9970\n",
            "Epoch 89/100\n",
            "12/12 [==============================] - 0s 8ms/step - loss: 0.0059 - accuracy: 0.9973 - val_loss: 0.0061 - val_accuracy: 0.9970\n",
            "Epoch 90/100\n",
            "12/12 [==============================] - 0s 12ms/step - loss: 0.0057 - accuracy: 0.9973 - val_loss: 0.0060 - val_accuracy: 0.9970\n",
            "Epoch 91/100\n",
            "12/12 [==============================] - 0s 16ms/step - loss: 0.0055 - accuracy: 0.9973 - val_loss: 0.0058 - val_accuracy: 0.9970\n",
            "Epoch 92/100\n",
            "12/12 [==============================] - 0s 11ms/step - loss: 0.0054 - accuracy: 0.9973 - val_loss: 0.0056 - val_accuracy: 0.9970\n",
            "Epoch 93/100\n",
            "12/12 [==============================] - 0s 11ms/step - loss: 0.0052 - accuracy: 0.9973 - val_loss: 0.0055 - val_accuracy: 0.9970\n",
            "Epoch 94/100\n",
            "12/12 [==============================] - 0s 12ms/step - loss: 0.0051 - accuracy: 0.9973 - val_loss: 0.0053 - val_accuracy: 0.9970\n",
            "Epoch 95/100\n",
            "12/12 [==============================] - 0s 12ms/step - loss: 0.0049 - accuracy: 0.9974 - val_loss: 0.0051 - val_accuracy: 0.9971\n",
            "Epoch 96/100\n",
            "12/12 [==============================] - 0s 12ms/step - loss: 0.0048 - accuracy: 0.9974 - val_loss: 0.0050 - val_accuracy: 0.9970\n",
            "Epoch 97/100\n",
            "12/12 [==============================] - 0s 16ms/step - loss: 0.0047 - accuracy: 0.9975 - val_loss: 0.0049 - val_accuracy: 0.9973\n",
            "Epoch 98/100\n",
            "12/12 [==============================] - 0s 13ms/step - loss: 0.0045 - accuracy: 0.9975 - val_loss: 0.0047 - val_accuracy: 0.9972\n",
            "Epoch 99/100\n",
            "12/12 [==============================] - 0s 12ms/step - loss: 0.0044 - accuracy: 0.9975 - val_loss: 0.0046 - val_accuracy: 0.9973\n",
            "Epoch 100/100\n",
            "12/12 [==============================] - 0s 12ms/step - loss: 0.0043 - accuracy: 0.9975 - val_loss: 0.0044 - val_accuracy: 0.9973\n"
          ]
        }
      ],
      "source": [
        "if model_selection[model_flag]==\"ALL\" or model_selection[model_flag] == \"MLP\":\n",
        "  # training the model on training dataset\n",
        "  history = mlp.fit(X_train, y_train, epochs=100, batch_size=5000,validation_split=0.2)"
      ]
    },
    {
      "cell_type": "code",
      "execution_count": 139,
      "metadata": {
        "id": "_n_gNs3p1_M-",
        "colab": {
          "base_uri": "https://localhost:8080/"
        },
        "outputId": "42b66faf-ff2a-48b7-b392-93e36b32e9be"
      },
      "outputs": [
        {
          "output_type": "stream",
          "name": "stdout",
          "text": [
            "Saved model to disk\n",
            "Loaded model from disk\n"
          ]
        }
      ],
      "source": [
        "if model_selection[model_flag]==\"ALL\" or model_selection[model_flag] == \"MLP\":\n",
        "  filepath = '/content/drive/MyDrive/Colab_Notebooks/Models/mlp_binary.json'\n",
        "  weightspath = '/content/drive/MyDrive/Colab_Notebooks/Weights/mlp_binary.h5'\n",
        "  if (not path.isfile(filepath)):\n",
        "    # serialize model to JSON\n",
        "    mlp_json = mlp.to_json()\n",
        "    with open(filepath, \"w\") as json_file:\n",
        "      json_file.write(mlp_json)\n",
        "\n",
        "    # serialize weights to HDF5\n",
        "    mlp.save_weights(weightspath)\n",
        "    print(\"Saved model to disk\")\n",
        "\n",
        "    # load json and create model\n",
        "    json_file = open(filepath, 'r')\n",
        "    loaded_model_json = json_file.read()\n",
        "    json_file.close()\n",
        "    mlp = model_from_json(loaded_model_json)\n",
        "\n",
        "    # load weights into new model\n",
        "    mlp.load_weights(weightspath)\n",
        "    print(\"Loaded model from disk\")"
      ]
    },
    {
      "cell_type": "code",
      "execution_count": 140,
      "metadata": {
        "id": "G99OrVcT2JON"
      },
      "outputs": [],
      "source": [
        "if model_selection[model_flag]==\"ALL\" or model_selection[model_flag] == \"MLP\":\n",
        "  # defining loss function, optimizer, metrics and then compiling model\n",
        "  mlp.compile(loss='binary_crossentropy', optimizer='adam', metrics=['accuracy'])"
      ]
    },
    {
      "cell_type": "code",
      "execution_count": 141,
      "metadata": {
        "id": "AXUA0T2N2OIB",
        "colab": {
          "base_uri": "https://localhost:8080/"
        },
        "outputId": "fecc1924-0e7e-474f-d631-124d8ae02176"
      },
      "outputs": [
        {
          "output_type": "stream",
          "name": "stdout",
          "text": [
            "782/782 [==============================] - 2s 2ms/step - loss: 594901139456.0000 - accuracy: 0.6842\n",
            "Test results - Loss: 594901139456.0 - Accuracy: 68.41599941253662\n"
          ]
        }
      ],
      "source": [
        "if model_selection[model_flag]==\"ALL\" or model_selection[model_flag] == \"MLP\":\n",
        "  # predicting target attribute on testing dataset\n",
        "  test_results = mlp.evaluate(X_test, y_test, verbose=1)\n",
        "  print(f'Test results - Loss: {test_results[0]} - Accuracy: {test_results[1]*100}')"
      ]
    },
    {
      "cell_type": "code",
      "execution_count": 142,
      "metadata": {
        "id": "StFTrhE65_-q",
        "colab": {
          "base_uri": "https://localhost:8080/",
          "height": 472
        },
        "outputId": "ca41bba3-8cbe-4a71-b132-081759e2ea80"
      },
      "outputs": [
        {
          "output_type": "display_data",
          "data": {
            "text/plain": [
              "<Figure size 640x480 with 1 Axes>"
            ],
            "image/png": "[encoded data removed]"
          },
          "metadata": {}
        }
      ],
      "source": [
        "if model_selection[model_flag]==\"ALL\" or model_selection[model_flag] == \"MLP\":  \n",
        "  # Plot of accuracy vs epoch of train and test dataset\n",
        "  plt.plot(history.history['accuracy'])\n",
        "  plt.plot(history.history['val_accuracy'])\n",
        "  plt.title(\"Plot of accuracy vs epoch for train and test dataset\")\n",
        "  plt.ylabel('accuracy')\n",
        "  plt.xlabel('epoch')\n",
        "  plt.legend(['train', 'test'], loc='best')\n",
        "  plt.savefig('/content/drive/MyDrive/Colab_Notebooks/Plots/mlp_binary_accuracy.png')\n",
        "  plt.show()"
      ]
    },
    {
      "cell_type": "code",
      "execution_count": 143,
      "metadata": {
        "id": "rZes4PzY6JUq",
        "colab": {
          "base_uri": "https://localhost:8080/",
          "height": 472
        },
        "outputId": "e07470a3-ab82-4391-fdad-02ee086652c9"
      },
      "outputs": [
        {
          "output_type": "display_data",
          "data": {
            "text/plain": [
              "<Figure size 640x480 with 1 Axes>"
            ],
            "image/png": "[encoded data removed]"
          },
          "metadata": {}
        }
      ],
      "source": [
        "if model_selection[model_flag]==\"ALL\" or model_selection[model_flag] == \"MLP\":\n",
        "  # Plot of loss vs epoch of train and test dataset\n",
        "  plt.plot(history.history['loss'])\n",
        "  plt.plot(history.history['val_loss'])\n",
        "  plt.title('Plot of loss vs epoch for train and test dataset')\n",
        "  plt.ylabel('loss')\n",
        "  plt.xlabel('epoch')\n",
        "  plt.legend(['train', 'test'], loc='best')\n",
        "  plt.savefig('/content/drive/MyDrive/Colab_Notebooks/Plots/mlp_binary_loss.png')\n",
        "  plt.show()"
      ]
    },
    {
      "cell_type": "code",
      "execution_count": 144,
      "metadata": {
        "id": "mC0nj-on6iRU"
      },
      "outputs": [],
      "source": [
        "if model_selection[model_flag]==\"ALL\" or model_selection[model_flag] == \"MLP\":\n",
        "  # representation of model layers\n",
        "  from keras.utils.vis_utils import plot_model\n",
        "  plot_model(mlp, to_file='/content/drive/MyDrive/Colab_Notebooks/Plots/mlp_binary.png', show_shapes=True,)"
      ]
    },
    {
      "cell_type": "code",
      "execution_count": 145,
      "metadata": {
        "id": "oxHdln0c6Xi_",
        "colab": {
          "base_uri": "https://localhost:8080/"
        },
        "outputId": "c806385a-0894-4a04-a10b-e684b00bbf7a"
      },
      "outputs": [
        {
          "output_type": "stream",
          "name": "stdout",
          "text": [
            "782/782 [==============================] - 2s 2ms/step\n"
          ]
        }
      ],
      "source": [
        "if model_selection[model_flag]==\"ALL\" or model_selection[model_flag] == \"MLP\":\n",
        "  y_pred = mlp.predict(X_test).ravel()\n",
        "  fpr, tpr, thresholds = roc_curve(y_test, y_pred)\n",
        "  auc = auc(fpr, tpr)"
      ]
    },
    {
      "cell_type": "code",
      "execution_count": 146,
      "metadata": {
        "id": "Cr36q9Z-6aRU",
        "colab": {
          "base_uri": "https://localhost:8080/",
          "height": 472
        },
        "outputId": "ec5d8bd9-3202-43d9-fdbb-852dee5a3652"
      },
      "outputs": [
        {
          "output_type": "display_data",
          "data": {
            "text/plain": [
              "<Figure size 640x480 with 1 Axes>"
            ],
            "image/png": "[encoded data removed]"
          },
          "metadata": {}
        }
      ],
      "source": [
        "if model_selection[model_flag]==\"ALL\" or model_selection[model_flag] == \"MLP\":\n",
        "  plt.plot([0, 1], [0, 1], 'k--')\n",
        "  plt.plot(fpr, tpr, label='Keras (area = {:.3f})'.format(auc))\n",
        "  plt.xlabel('False positive rate')\n",
        "  plt.ylabel('True positive rate')\n",
        "  plt.title('ROC curve')\n",
        "  plt.legend(loc='best')\n",
        "  plt.savefig('/content/drive/MyDrive/Colab_Notebooks/Plots/mlp_binary_roc.png')\n",
        "  plt.show()"
      ]
    },
    {
      "cell_type": "code",
      "execution_count": 147,
      "metadata": {
        "id": "U9f2bWPwFljk"
      },
      "outputs": [],
      "source": [
        "# real_data_kdd = bin_data.copy()\n",
        "\n",
        "# # Names of the columns that are discrete\n",
        "# cat_cols = real_data_kdd.select_dtypes(['object']).columns\n",
        "# # cat_cols\n",
        "# test_data = real_data_kdd.iloc[:999]\n",
        "\n",
        "# corr= test_data.corr()\n",
        "# corr_y = abs(corr['label'])\n",
        "# highest_corr = corr_y\n",
        "# highest_corr.sort_values(ascending=True)"
      ]
    },
    {
      "cell_type": "code",
      "execution_count": 148,
      "metadata": {
        "id": "8-clVdUoUPa-",
        "colab": {
          "base_uri": "https://localhost:8080/"
        },
        "outputId": "89cf5ffd-c03d-4d40-910b-42901770c41e"
      },
      "outputs": [
        {
          "output_type": "stream",
          "name": "stdout",
          "text": [
            "782/782 [==============================] - 2s 2ms/step\n"
          ]
        }
      ],
      "source": [
        "if model_selection[model_flag]==\"ALL\" or model_selection[model_flag] == \"MLP\":\n",
        "  y_classes = (mlp.predict(X_test)>0.5).astype('int32')"
      ]
    },
    {
      "cell_type": "code",
      "execution_count": 149,
      "metadata": {
        "id": "0jcFqEqFT-uq",
        "colab": {
          "base_uri": "https://localhost:8080/"
        },
        "outputId": "c06bc25b-c195-4e7d-864c-49f169345a2a"
      },
      "outputs": [
        {
          "output_type": "stream",
          "name": "stdout",
          "text": [
            "Recall Score -  0.15184428433164857\n",
            "F1 Score -  0.26343283582089555\n",
            "Precision Score -  0.9936664320900774\n"
          ]
        }
      ],
      "source": [
        "if model_selection[model_flag]==\"ALL\" or model_selection[model_flag] == \"MLP\":\n",
        "  print(\"Recall Score - \",recall_score(y_test,y_classes))\n",
        "  print(\"F1 Score - \",f1_score(y_test,y_classes))\n",
        "  print(\"Precision Score - \",precision_score(y_test,y_classes))"
      ]
    },
    {
      "cell_type": "code",
      "source": [
        "print(classification_report(y_test, y_classes, target_names=['0', '1']))\n",
        "cm = confusion_matrix(y_test, y_classes)\n",
        "disp = ConfusionMatrixDisplay(confusion_matrix=cm,\n",
        "                              display_labels=['0', '1'])\n",
        "disp.plot()\n",
        "\n",
        "plt.show()"
      ],
      "metadata": {
        "id": "3HJB6IXJsxjg",
        "colab": {
          "base_uri": "https://localhost:8080/",
          "height": 610
        },
        "outputId": "86256507-a13b-43bf-862b-45d18533ea38"
      },
      "execution_count": 150,
      "outputs": [
        {
          "output_type": "stream",
          "name": "stdout",
          "text": [
            "              precision    recall  f1-score   support\n",
            "\n",
            "           0       0.67      1.00      0.80     15701\n",
            "           1       0.99      0.15      0.26      9299\n",
            "\n",
            "    accuracy                           0.68     25000\n",
            "   macro avg       0.83      0.58      0.53     25000\n",
            "weighted avg       0.79      0.68      0.60     25000\n",
            "\n"
          ]
        },
        {
          "output_type": "display_data",
          "data": {
            "text/plain": [
              "<Figure size 640x480 with 2 Axes>"
            ],
            "image/png": "[encoded data removed]"
          },
          "metadata": {}
        }
      ]
    },
    {
      "cell_type": "markdown",
      "source": [
        "# **Correlation** Matrix of Features"
      ],
      "metadata": {
        "id": "j7BKdCwqs2RE"
      }
    },
    {
      "cell_type": "code",
      "execution_count": 151,
      "metadata": {
        "id": "TL8zt-tHLt90",
        "colab": {
          "base_uri": "https://localhost:8080/"
        },
        "outputId": "618112ba-ce9e-4e1b-e32f-d3156dd9145f"
      },
      "outputs": [
        {
          "output_type": "execute_result",
          "data": {
            "text/plain": [
              "X63      0.319690\n",
              "X85      0.479742\n",
              "X106     0.502142\n",
              "X92      0.503958\n",
              "X99      0.512200\n",
              "           ...   \n",
              "X1       0.979972\n",
              "X16      0.980124\n",
              "X66      0.980124\n",
              "X31      0.980124\n",
              "label    1.000000\n",
              "Name: label, Length: 88, dtype: float64"
            ]
          },
          "metadata": {},
          "execution_count": 151
        }
      ],
      "source": [
        "corr= bin_data.corr()\n",
        "corr_y = abs(corr['label'])\n",
        "highest_corr = corr_y[corr_y >0.3]\n",
        "highest_corr.sort_values(ascending=True)"
      ]
    },
    {
      "cell_type": "code",
      "source": [
        "plt.matshow(corr)\n",
        "plt.show()"
      ],
      "metadata": {
        "colab": {
          "base_uri": "https://localhost:8080/",
          "height": 437
        },
        "id": "q4b094WVtQQ7",
        "outputId": "4a129058-024f-40e0-e84f-47f8d764d85a"
      },
      "execution_count": 152,
      "outputs": [
        {
          "output_type": "display_data",
          "data": {
            "text/plain": [
              "<Figure size 480x480 with 1 Axes>"
            ],
            "image/png": "[encoded data removed]"
          },
          "metadata": {}
        }
      ]
    },
    {
      "cell_type": "markdown",
      "metadata": {
        "id": "ZHhtNjFLPj6Y"
      },
      "source": [
        "## **LSTM Classifier**"
      ]
    },
    {
      "cell_type": "code",
      "execution_count": 153,
      "metadata": {
        "id": "DTNPkQMNL5Eh",
        "colab": {
          "base_uri": "https://localhost:8080/"
        },
        "outputId": "74df1757-770d-48a8-8462-a0bd485084e0"
      },
      "outputs": [
        {
          "output_type": "execute_result",
          "data": {
            "text/plain": [
              "(74999, 116)"
            ]
          },
          "metadata": {},
          "execution_count": 153
        }
      ],
      "source": [
        "X_train = np.array(X_train)\n",
        "X_test = np.array(X_test)\n",
        "# y_train.shape   #(18896,)\n",
        "X_train.shape"
      ]
    },
    {
      "cell_type": "code",
      "execution_count": 154,
      "metadata": {
        "id": "9n-QlBDXPMl4",
        "colab": {
          "base_uri": "https://localhost:8080/"
        },
        "outputId": "68e55613-785e-4292-9f1b-d544a76e6114"
      },
      "outputs": [
        {
          "output_type": "execute_result",
          "data": {
            "text/plain": [
              "numpy.ndarray"
            ]
          },
          "metadata": {},
          "execution_count": 154
        }
      ],
      "source": [
        "y_train = np.array(y_train)\n",
        "type(y_train)"
      ]
    },
    {
      "cell_type": "code",
      "execution_count": 155,
      "metadata": {
        "id": "-8Ro_ZRQPdZz",
        "colab": {
          "base_uri": "https://localhost:8080/"
        },
        "outputId": "6f6a2bde-e34f-4dda-ef8b-183d9cd56ac6"
      },
      "outputs": [
        {
          "output_type": "execute_result",
          "data": {
            "text/plain": [
              "(74999, 1, 116)"
            ]
          },
          "metadata": {},
          "execution_count": 155
        }
      ],
      "source": [
        "x_train = np.reshape(X_train, (X_train.shape[0],1,X_train.shape[1]))\n",
        "x_train.shape"
      ]
    },
    {
      "cell_type": "code",
      "source": [
        "x_train.shape[2]"
      ],
      "metadata": {
        "colab": {
          "base_uri": "https://localhost:8080/"
        },
        "id": "EuvuETcGpkje",
        "outputId": "762af1a6-0484-448e-f633-b711b57d86d3"
      },
      "execution_count": 156,
      "outputs": [
        {
          "output_type": "execute_result",
          "data": {
            "text/plain": [
              "116"
            ]
          },
          "metadata": {},
          "execution_count": 156
        }
      ]
    },
    {
      "cell_type": "code",
      "execution_count": 157,
      "metadata": {
        "id": "pLIl946zQQwG",
        "colab": {
          "base_uri": "https://localhost:8080/"
        },
        "outputId": "0759722f-49ee-43b0-aadb-7f41d24a469d"
      },
      "outputs": [
        {
          "output_type": "execute_result",
          "data": {
            "text/plain": [
              "(25000, 1, 116)"
            ]
          },
          "metadata": {},
          "execution_count": 157
        }
      ],
      "source": [
        "x_test = np.reshape(X_test, (X_test.shape[0],1,X_test.shape[1]))\n",
        "x_test.shape"
      ]
    },
    {
      "cell_type": "code",
      "execution_count": 158,
      "metadata": {
        "id": "jWsrkPEmQcY7"
      },
      "outputs": [],
      "source": [
        "if model_selection[model_flag]==\"ALL\" or model_selection[model_flag] == \"LSTM\":\n",
        "  lst = Sequential()\n",
        "  # input layer and LSTM layer with 50 neurons\n",
        "  input_features = x_train.shape[2]\n",
        "  lst.add(LSTM(50,input_dim=input_features))\n",
        "\n",
        "  # outpute layer with sigmoid activation\n",
        "  lst.add(Dense(1,activation='sigmoid'))"
      ]
    },
    {
      "cell_type": "code",
      "execution_count": 159,
      "metadata": {
        "id": "UEmba1H9Q_qj"
      },
      "outputs": [],
      "source": [
        "if model_selection[model_flag]==\"ALL\" or model_selection[model_flag] == \"LSTM\":\n",
        "  # defining loss function, optimizer, metrics and then compiling model\n",
        "  lst.compile(loss='binary_crossentropy',optimizer='adam',metrics=['accuracy'])"
      ]
    },
    {
      "cell_type": "code",
      "execution_count": 160,
      "metadata": {
        "id": "anR58jV2RCtz",
        "colab": {
          "base_uri": "https://localhost:8080/"
        },
        "outputId": "50ca1e7c-6300-4da1-c51d-b5c56a38eb07"
      },
      "outputs": [
        {
          "output_type": "stream",
          "name": "stdout",
          "text": [
            "Model: \"sequential_5\"\n",
            "_________________________________________________________________\n",
            " Layer (type)                Output Shape              Param #   \n",
            "=================================================================\n",
            " lstm_3 (LSTM)               (None, 50)                33400     \n",
            "                                                                 \n",
            " dense_11 (Dense)            (None, 1)                 51        \n",
            "                                                                 \n",
            "=================================================================\n",
            "Total params: 33,451\n",
            "Trainable params: 33,451\n",
            "Non-trainable params: 0\n",
            "_________________________________________________________________\n"
          ]
        }
      ],
      "source": [
        "if model_selection[model_flag]==\"ALL\" or model_selection[model_flag] == \"LSTM\":\n",
        "  # summary of model layers\n",
        "  lst.summary()"
      ]
    },
    {
      "cell_type": "code",
      "execution_count": 161,
      "metadata": {
        "id": "_Pa4Qi12RJS_",
        "colab": {
          "base_uri": "https://localhost:8080/"
        },
        "outputId": "127fda57-7a28-4697-cfdd-6de1b15ce506"
      },
      "outputs": [
        {
          "output_type": "stream",
          "name": "stdout",
          "text": [
            "Epoch 1/100\n",
            "12/12 [==============================] - 3s 45ms/step - loss: 0.5234 - accuracy: 0.7796 - val_loss: 0.3675 - val_accuracy: 0.9520\n",
            "Epoch 2/100\n",
            "12/12 [==============================] - 0s 8ms/step - loss: 0.2818 - accuracy: 0.9709 - val_loss: 0.1958 - val_accuracy: 0.9837\n",
            "Epoch 3/100\n",
            "12/12 [==============================] - 0s 8ms/step - loss: 0.1516 - accuracy: 0.9872 - val_loss: 0.1109 - val_accuracy: 0.9893\n",
            "Epoch 4/100\n",
            "12/12 [==============================] - 0s 10ms/step - loss: 0.0920 - accuracy: 0.9900 - val_loss: 0.0749 - val_accuracy: 0.9906\n",
            "Epoch 5/100\n",
            "12/12 [==============================] - 0s 9ms/step - loss: 0.0665 - accuracy: 0.9910 - val_loss: 0.0581 - val_accuracy: 0.9914\n",
            "Epoch 6/100\n",
            "12/12 [==============================] - 0s 9ms/step - loss: 0.0540 - accuracy: 0.9915 - val_loss: 0.0493 - val_accuracy: 0.9917\n",
            "Epoch 7/100\n",
            "12/12 [==============================] - 0s 8ms/step - loss: 0.0472 - accuracy: 0.9920 - val_loss: 0.0441 - val_accuracy: 0.9921\n",
            "Epoch 8/100\n",
            "12/12 [==============================] - 0s 8ms/step - loss: 0.0428 - accuracy: 0.9923 - val_loss: 0.0406 - val_accuracy: 0.9925\n",
            "Epoch 9/100\n",
            "12/12 [==============================] - 0s 8ms/step - loss: 0.0396 - accuracy: 0.9927 - val_loss: 0.0381 - val_accuracy: 0.9931\n",
            "Epoch 10/100\n",
            "12/12 [==============================] - 0s 8ms/step - loss: 0.0372 - accuracy: 0.9930 - val_loss: 0.0360 - val_accuracy: 0.9932\n",
            "Epoch 11/100\n",
            "12/12 [==============================] - 0s 9ms/step - loss: 0.0351 - accuracy: 0.9932 - val_loss: 0.0343 - val_accuracy: 0.9934\n",
            "Epoch 12/100\n",
            "12/12 [==============================] - 0s 8ms/step - loss: 0.0334 - accuracy: 0.9933 - val_loss: 0.0328 - val_accuracy: 0.9935\n",
            "Epoch 13/100\n",
            "12/12 [==============================] - 0s 8ms/step - loss: 0.0318 - accuracy: 0.9935 - val_loss: 0.0315 - val_accuracy: 0.9935\n",
            "Epoch 14/100\n",
            "12/12 [==============================] - 0s 9ms/step - loss: 0.0304 - accuracy: 0.9936 - val_loss: 0.0303 - val_accuracy: 0.9935\n",
            "Epoch 15/100\n",
            "12/12 [==============================] - 0s 8ms/step - loss: 0.0290 - accuracy: 0.9936 - val_loss: 0.0291 - val_accuracy: 0.9936\n",
            "Epoch 16/100\n",
            "12/12 [==============================] - 0s 9ms/step - loss: 0.0278 - accuracy: 0.9937 - val_loss: 0.0281 - val_accuracy: 0.9936\n",
            "Epoch 17/100\n",
            "12/12 [==============================] - 0s 9ms/step - loss: 0.0266 - accuracy: 0.9937 - val_loss: 0.0272 - val_accuracy: 0.9936\n",
            "Epoch 18/100\n",
            "12/12 [==============================] - 0s 10ms/step - loss: 0.0256 - accuracy: 0.9937 - val_loss: 0.0263 - val_accuracy: 0.9937\n",
            "Epoch 19/100\n",
            "12/12 [==============================] - 0s 8ms/step - loss: 0.0246 - accuracy: 0.9937 - val_loss: 0.0255 - val_accuracy: 0.9936\n",
            "Epoch 20/100\n",
            "12/12 [==============================] - 0s 8ms/step - loss: 0.0238 - accuracy: 0.9938 - val_loss: 0.0248 - val_accuracy: 0.9937\n",
            "Epoch 21/100\n",
            "12/12 [==============================] - 0s 8ms/step - loss: 0.0231 - accuracy: 0.9943 - val_loss: 0.0242 - val_accuracy: 0.9939\n",
            "Epoch 22/100\n",
            "12/12 [==============================] - 0s 10ms/step - loss: 0.0225 - accuracy: 0.9949 - val_loss: 0.0237 - val_accuracy: 0.9945\n",
            "Epoch 23/100\n",
            "12/12 [==============================] - 0s 10ms/step - loss: 0.0219 - accuracy: 0.9952 - val_loss: 0.0232 - val_accuracy: 0.9947\n",
            "Epoch 24/100\n",
            "12/12 [==============================] - 0s 9ms/step - loss: 0.0215 - accuracy: 0.9954 - val_loss: 0.0228 - val_accuracy: 0.9949\n",
            "Epoch 25/100\n",
            "12/12 [==============================] - 0s 9ms/step - loss: 0.0211 - accuracy: 0.9956 - val_loss: 0.0224 - val_accuracy: 0.9948\n",
            "Epoch 26/100\n",
            "12/12 [==============================] - 0s 11ms/step - loss: 0.0207 - accuracy: 0.9958 - val_loss: 0.0220 - val_accuracy: 0.9947\n",
            "Epoch 27/100\n",
            "12/12 [==============================] - 0s 12ms/step - loss: 0.0204 - accuracy: 0.9958 - val_loss: 0.0217 - val_accuracy: 0.9948\n",
            "Epoch 28/100\n",
            "12/12 [==============================] - 0s 13ms/step - loss: 0.0200 - accuracy: 0.9957 - val_loss: 0.0214 - val_accuracy: 0.9951\n",
            "Epoch 29/100\n",
            "12/12 [==============================] - 0s 12ms/step - loss: 0.0198 - accuracy: 0.9957 - val_loss: 0.0211 - val_accuracy: 0.9951\n",
            "Epoch 30/100\n",
            "12/12 [==============================] - 0s 16ms/step - loss: 0.0195 - accuracy: 0.9957 - val_loss: 0.0208 - val_accuracy: 0.9952\n",
            "Epoch 31/100\n",
            "12/12 [==============================] - 0s 11ms/step - loss: 0.0192 - accuracy: 0.9958 - val_loss: 0.0205 - val_accuracy: 0.9953\n",
            "Epoch 32/100\n",
            "12/12 [==============================] - 0s 12ms/step - loss: 0.0189 - accuracy: 0.9958 - val_loss: 0.0202 - val_accuracy: 0.9953\n",
            "Epoch 33/100\n",
            "12/12 [==============================] - 0s 12ms/step - loss: 0.0186 - accuracy: 0.9959 - val_loss: 0.0199 - val_accuracy: 0.9953\n",
            "Epoch 34/100\n",
            "12/12 [==============================] - 0s 11ms/step - loss: 0.0184 - accuracy: 0.9959 - val_loss: 0.0195 - val_accuracy: 0.9954\n",
            "Epoch 35/100\n",
            "12/12 [==============================] - 0s 12ms/step - loss: 0.0181 - accuracy: 0.9960 - val_loss: 0.0192 - val_accuracy: 0.9954\n",
            "Epoch 36/100\n",
            "12/12 [==============================] - 0s 12ms/step - loss: 0.0178 - accuracy: 0.9960 - val_loss: 0.0189 - val_accuracy: 0.9957\n",
            "Epoch 37/100\n",
            "12/12 [==============================] - 0s 12ms/step - loss: 0.0175 - accuracy: 0.9960 - val_loss: 0.0186 - val_accuracy: 0.9957\n",
            "Epoch 38/100\n",
            "12/12 [==============================] - 0s 11ms/step - loss: 0.0172 - accuracy: 0.9961 - val_loss: 0.0183 - val_accuracy: 0.9957\n",
            "Epoch 39/100\n",
            "12/12 [==============================] - 0s 11ms/step - loss: 0.0169 - accuracy: 0.9961 - val_loss: 0.0180 - val_accuracy: 0.9959\n",
            "Epoch 40/100\n",
            "12/12 [==============================] - 0s 12ms/step - loss: 0.0167 - accuracy: 0.9961 - val_loss: 0.0177 - val_accuracy: 0.9959\n",
            "Epoch 41/100\n",
            "12/12 [==============================] - 0s 12ms/step - loss: 0.0164 - accuracy: 0.9962 - val_loss: 0.0174 - val_accuracy: 0.9959\n",
            "Epoch 42/100\n",
            "12/12 [==============================] - 0s 12ms/step - loss: 0.0161 - accuracy: 0.9962 - val_loss: 0.0171 - val_accuracy: 0.9959\n",
            "Epoch 43/100\n",
            "12/12 [==============================] - 0s 11ms/step - loss: 0.0158 - accuracy: 0.9962 - val_loss: 0.0168 - val_accuracy: 0.9961\n",
            "Epoch 44/100\n",
            "12/12 [==============================] - 0s 13ms/step - loss: 0.0155 - accuracy: 0.9963 - val_loss: 0.0164 - val_accuracy: 0.9961\n",
            "Epoch 45/100\n",
            "12/12 [==============================] - 0s 11ms/step - loss: 0.0152 - accuracy: 0.9963 - val_loss: 0.0161 - val_accuracy: 0.9962\n",
            "Epoch 46/100\n",
            "12/12 [==============================] - 0s 11ms/step - loss: 0.0149 - accuracy: 0.9964 - val_loss: 0.0158 - val_accuracy: 0.9962\n",
            "Epoch 47/100\n",
            "12/12 [==============================] - 0s 11ms/step - loss: 0.0146 - accuracy: 0.9964 - val_loss: 0.0154 - val_accuracy: 0.9963\n",
            "Epoch 48/100\n",
            "12/12 [==============================] - 0s 11ms/step - loss: 0.0143 - accuracy: 0.9965 - val_loss: 0.0151 - val_accuracy: 0.9963\n",
            "Epoch 49/100\n",
            "12/12 [==============================] - 0s 12ms/step - loss: 0.0140 - accuracy: 0.9965 - val_loss: 0.0147 - val_accuracy: 0.9963\n",
            "Epoch 50/100\n",
            "12/12 [==============================] - 0s 10ms/step - loss: 0.0136 - accuracy: 0.9965 - val_loss: 0.0144 - val_accuracy: 0.9963\n",
            "Epoch 51/100\n",
            "12/12 [==============================] - 0s 8ms/step - loss: 0.0133 - accuracy: 0.9966 - val_loss: 0.0140 - val_accuracy: 0.9963\n",
            "Epoch 52/100\n",
            "12/12 [==============================] - 0s 10ms/step - loss: 0.0129 - accuracy: 0.9966 - val_loss: 0.0136 - val_accuracy: 0.9963\n",
            "Epoch 53/100\n",
            "12/12 [==============================] - 0s 10ms/step - loss: 0.0126 - accuracy: 0.9966 - val_loss: 0.0132 - val_accuracy: 0.9963\n",
            "Epoch 54/100\n",
            "12/12 [==============================] - 0s 9ms/step - loss: 0.0122 - accuracy: 0.9967 - val_loss: 0.0129 - val_accuracy: 0.9963\n",
            "Epoch 55/100\n",
            "12/12 [==============================] - 0s 8ms/step - loss: 0.0119 - accuracy: 0.9968 - val_loss: 0.0125 - val_accuracy: 0.9964\n",
            "Epoch 56/100\n",
            "12/12 [==============================] - 0s 8ms/step - loss: 0.0115 - accuracy: 0.9968 - val_loss: 0.0121 - val_accuracy: 0.9963\n",
            "Epoch 57/100\n",
            "12/12 [==============================] - 0s 8ms/step - loss: 0.0112 - accuracy: 0.9968 - val_loss: 0.0118 - val_accuracy: 0.9964\n",
            "Epoch 58/100\n",
            "12/12 [==============================] - 0s 9ms/step - loss: 0.0108 - accuracy: 0.9969 - val_loss: 0.0114 - val_accuracy: 0.9964\n",
            "Epoch 59/100\n",
            "12/12 [==============================] - 0s 9ms/step - loss: 0.0105 - accuracy: 0.9969 - val_loss: 0.0110 - val_accuracy: 0.9965\n",
            "Epoch 60/100\n",
            "12/12 [==============================] - 0s 8ms/step - loss: 0.0101 - accuracy: 0.9969 - val_loss: 0.0106 - val_accuracy: 0.9965\n",
            "Epoch 61/100\n",
            "12/12 [==============================] - 0s 9ms/step - loss: 0.0098 - accuracy: 0.9970 - val_loss: 0.0103 - val_accuracy: 0.9966\n",
            "Epoch 62/100\n",
            "12/12 [==============================] - 0s 8ms/step - loss: 0.0094 - accuracy: 0.9970 - val_loss: 0.0099 - val_accuracy: 0.9967\n",
            "Epoch 63/100\n",
            "12/12 [==============================] - 0s 8ms/step - loss: 0.0091 - accuracy: 0.9970 - val_loss: 0.0095 - val_accuracy: 0.9967\n",
            "Epoch 64/100\n",
            "12/12 [==============================] - 0s 9ms/step - loss: 0.0087 - accuracy: 0.9971 - val_loss: 0.0091 - val_accuracy: 0.9967\n",
            "Epoch 65/100\n",
            "12/12 [==============================] - 0s 11ms/step - loss: 0.0084 - accuracy: 0.9971 - val_loss: 0.0088 - val_accuracy: 0.9967\n",
            "Epoch 66/100\n",
            "12/12 [==============================] - 0s 9ms/step - loss: 0.0080 - accuracy: 0.9971 - val_loss: 0.0084 - val_accuracy: 0.9968\n",
            "Epoch 67/100\n",
            "12/12 [==============================] - 0s 10ms/step - loss: 0.0077 - accuracy: 0.9971 - val_loss: 0.0081 - val_accuracy: 0.9968\n",
            "Epoch 68/100\n",
            "12/12 [==============================] - 0s 9ms/step - loss: 0.0074 - accuracy: 0.9972 - val_loss: 0.0077 - val_accuracy: 0.9969\n",
            "Epoch 69/100\n",
            "12/12 [==============================] - 0s 8ms/step - loss: 0.0070 - accuracy: 0.9972 - val_loss: 0.0074 - val_accuracy: 0.9969\n",
            "Epoch 70/100\n",
            "12/12 [==============================] - 0s 9ms/step - loss: 0.0067 - accuracy: 0.9972 - val_loss: 0.0070 - val_accuracy: 0.9969\n",
            "Epoch 71/100\n",
            "12/12 [==============================] - 0s 9ms/step - loss: 0.0064 - accuracy: 0.9972 - val_loss: 0.0067 - val_accuracy: 0.9969\n",
            "Epoch 72/100\n",
            "12/12 [==============================] - 0s 8ms/step - loss: 0.0061 - accuracy: 0.9972 - val_loss: 0.0064 - val_accuracy: 0.9969\n",
            "Epoch 73/100\n",
            "12/12 [==============================] - 0s 8ms/step - loss: 0.0058 - accuracy: 0.9972 - val_loss: 0.0061 - val_accuracy: 0.9969\n",
            "Epoch 74/100\n",
            "12/12 [==============================] - 0s 9ms/step - loss: 0.0055 - accuracy: 0.9972 - val_loss: 0.0058 - val_accuracy: 0.9969\n",
            "Epoch 75/100\n",
            "12/12 [==============================] - 0s 8ms/step - loss: 0.0053 - accuracy: 0.9973 - val_loss: 0.0055 - val_accuracy: 0.9970\n",
            "Epoch 76/100\n",
            "12/12 [==============================] - 0s 8ms/step - loss: 0.0050 - accuracy: 0.9973 - val_loss: 0.0052 - val_accuracy: 0.9971\n",
            "Epoch 77/100\n",
            "12/12 [==============================] - 0s 9ms/step - loss: 0.0047 - accuracy: 0.9974 - val_loss: 0.0049 - val_accuracy: 0.9971\n",
            "Epoch 78/100\n",
            "12/12 [==============================] - 0s 8ms/step - loss: 0.0045 - accuracy: 0.9975 - val_loss: 0.0047 - val_accuracy: 0.9972\n",
            "Epoch 79/100\n",
            "12/12 [==============================] - 0s 8ms/step - loss: 0.0043 - accuracy: 0.9975 - val_loss: 0.0044 - val_accuracy: 0.9973\n",
            "Epoch 80/100\n",
            "12/12 [==============================] - 0s 10ms/step - loss: 0.0041 - accuracy: 0.9976 - val_loss: 0.0042 - val_accuracy: 0.9977\n",
            "Epoch 81/100\n",
            "12/12 [==============================] - 0s 9ms/step - loss: 0.0038 - accuracy: 0.9986 - val_loss: 0.0040 - val_accuracy: 0.9977\n",
            "Epoch 82/100\n",
            "12/12 [==============================] - 0s 9ms/step - loss: 0.0037 - accuracy: 0.9987 - val_loss: 0.0038 - val_accuracy: 0.9995\n",
            "Epoch 83/100\n",
            "12/12 [==============================] - 0s 10ms/step - loss: 0.0035 - accuracy: 0.9997 - val_loss: 0.0036 - val_accuracy: 0.9999\n",
            "Epoch 84/100\n",
            "12/12 [==============================] - 0s 8ms/step - loss: 0.0033 - accuracy: 0.9998 - val_loss: 0.0034 - val_accuracy: 0.9999\n",
            "Epoch 85/100\n",
            "12/12 [==============================] - 0s 9ms/step - loss: 0.0031 - accuracy: 0.9998 - val_loss: 0.0033 - val_accuracy: 0.9999\n",
            "Epoch 86/100\n",
            "12/12 [==============================] - 0s 9ms/step - loss: 0.0030 - accuracy: 0.9999 - val_loss: 0.0031 - val_accuracy: 0.9999\n",
            "Epoch 87/100\n",
            "12/12 [==============================] - 0s 10ms/step - loss: 0.0028 - accuracy: 0.9999 - val_loss: 0.0030 - val_accuracy: 0.9999\n",
            "Epoch 88/100\n",
            "12/12 [==============================] - 0s 9ms/step - loss: 0.0027 - accuracy: 0.9999 - val_loss: 0.0028 - val_accuracy: 0.9999\n",
            "Epoch 89/100\n",
            "12/12 [==============================] - 0s 9ms/step - loss: 0.0026 - accuracy: 0.9999 - val_loss: 0.0027 - val_accuracy: 0.9999\n",
            "Epoch 90/100\n",
            "12/12 [==============================] - 0s 8ms/step - loss: 0.0025 - accuracy: 0.9999 - val_loss: 0.0026 - val_accuracy: 0.9999\n",
            "Epoch 91/100\n",
            "12/12 [==============================] - 0s 9ms/step - loss: 0.0023 - accuracy: 0.9999 - val_loss: 0.0025 - val_accuracy: 0.9999\n",
            "Epoch 92/100\n",
            "12/12 [==============================] - 0s 8ms/step - loss: 0.0022 - accuracy: 0.9999 - val_loss: 0.0024 - val_accuracy: 0.9999\n",
            "Epoch 93/100\n",
            "12/12 [==============================] - 0s 8ms/step - loss: 0.0021 - accuracy: 0.9999 - val_loss: 0.0023 - val_accuracy: 0.9999\n",
            "Epoch 94/100\n",
            "12/12 [==============================] - 0s 8ms/step - loss: 0.0021 - accuracy: 0.9999 - val_loss: 0.0022 - val_accuracy: 0.9999\n",
            "Epoch 95/100\n",
            "12/12 [==============================] - 0s 8ms/step - loss: 0.0020 - accuracy: 0.9999 - val_loss: 0.0021 - val_accuracy: 0.9999\n",
            "Epoch 96/100\n",
            "12/12 [==============================] - 0s 8ms/step - loss: 0.0019 - accuracy: 0.9999 - val_loss: 0.0020 - val_accuracy: 0.9999\n",
            "Epoch 97/100\n",
            "12/12 [==============================] - 0s 9ms/step - loss: 0.0018 - accuracy: 0.9999 - val_loss: 0.0019 - val_accuracy: 0.9999\n",
            "Epoch 98/100\n",
            "12/12 [==============================] - 0s 8ms/step - loss: 0.0017 - accuracy: 0.9999 - val_loss: 0.0018 - val_accuracy: 0.9999\n",
            "Epoch 99/100\n",
            "12/12 [==============================] - 0s 8ms/step - loss: 0.0017 - accuracy: 0.9999 - val_loss: 0.0018 - val_accuracy: 0.9999\n",
            "Epoch 100/100\n",
            "12/12 [==============================] - 0s 8ms/step - loss: 0.0016 - accuracy: 1.0000 - val_loss: 0.0017 - val_accuracy: 0.9999\n"
          ]
        }
      ],
      "source": [
        "if model_selection[model_flag]==\"ALL\" or model_selection[model_flag] == \"LSTM\":\n",
        "  # training the model on training dataset\n",
        "  history = lst.fit(x_train, y_train, epochs=100, batch_size=5000,validation_split=0.2)"
      ]
    },
    {
      "cell_type": "code",
      "execution_count": 162,
      "metadata": {
        "id": "BCQtvJcXRcNr",
        "colab": {
          "base_uri": "https://localhost:8080/"
        },
        "outputId": "3b428365-d8eb-41cc-c9f2-038b5181d2a6"
      },
      "outputs": [
        {
          "output_type": "stream",
          "name": "stdout",
          "text": [
            "Saved model to disk\n",
            "Loaded model from disk\n"
          ]
        }
      ],
      "source": [
        "if model_selection[model_flag]==\"ALL\" or model_selection[model_flag] == \"LSTM\":\n",
        "  filepath = '/content/drive/MyDrive/Colab_Notebooks/Models/lst_binary_kitsune.json'\n",
        "  weightspath = '/content/drive/MyDrive/Colab_Notebooks/Weights/lst_binary_kitsune.h5'\n",
        "  if (not path.isfile(filepath)):\n",
        "    # serialize model to JSON\n",
        "    lst_json = lst.to_json()\n",
        "    with open(filepath, \"w\") as json_file:\n",
        "      json_file.write(lst_json)\n",
        "\n",
        "    # serialize weights to HDF5\n",
        "    lst.save_weights(weightspath)\n",
        "    print(\"Saved model to disk\")\n",
        "\n",
        "    # load json and create model\n",
        "    json_file = open(filepath, 'r')\n",
        "    loaded_model_json = json_file.read()\n",
        "    json_file.close()\n",
        "    lst = model_from_json(loaded_model_json)\n",
        "\n",
        "    # load weights into new model\n",
        "    lst.load_weights(weightspath)\n",
        "    print(\"Loaded model from disk\")"
      ]
    },
    {
      "cell_type": "code",
      "execution_count": 163,
      "metadata": {
        "id": "rPaW37T-R0dG",
        "colab": {
          "base_uri": "https://localhost:8080/"
        },
        "outputId": "395a2456-7df7-469c-d813-38bb0448e53f"
      },
      "outputs": [
        {
          "output_type": "stream",
          "name": "stdout",
          "text": [
            "Loaded model from disk\n"
          ]
        }
      ],
      "source": [
        "if model_selection[model_flag]==\"ALL\" or model_selection[model_flag] == \"LSTM\":\n",
        "  # load json and create model\n",
        "  json_file = open(filepath, 'r')\n",
        "  loaded_model_json = json_file.read()\n",
        "  json_file.close()\n",
        "  lst = model_from_json(loaded_model_json)\n",
        "\n",
        "  # load weights into new model\n",
        "  lst.load_weights(weightspath)\n",
        "  print(\"Loaded model from disk\")"
      ]
    },
    {
      "cell_type": "code",
      "execution_count": 164,
      "metadata": {
        "id": "ukGDdSggR3na"
      },
      "outputs": [],
      "source": [
        "if model_selection[model_flag]==\"ALL\" or model_selection[model_flag] == \"LSTM\":\n",
        "  # defining loss function, optimizer, metrics and then compiling model\n",
        "  lst.compile(loss='binary_crossentropy',optimizer='adam',metrics=['accuracy'])"
      ]
    },
    {
      "cell_type": "code",
      "execution_count": 165,
      "metadata": {
        "id": "nvjY0u97R68f",
        "colab": {
          "base_uri": "https://localhost:8080/"
        },
        "outputId": "84976adb-e56b-491f-c556-20e628d5a73d"
      },
      "outputs": [
        {
          "output_type": "stream",
          "name": "stdout",
          "text": [
            "782/782 [==============================] - 3s 3ms/step - loss: 1.6690 - accuracy: 0.6989\n",
            "Test results - Loss: 1.6690452098846436 - Accuracy: 69.89200115203857%\n"
          ]
        }
      ],
      "source": [
        "if model_selection[model_flag]==\"ALL\" or model_selection[model_flag] == \"LSTM\":\n",
        "  # predicting target attribute on testing dataset\n",
        "  test_results = lst.evaluate(x_test, y_test, verbose=1)\n",
        "  print(f'Test results - Loss: {test_results[0]} - Accuracy: {test_results[1]*100}%')"
      ]
    },
    {
      "cell_type": "code",
      "execution_count": 166,
      "metadata": {
        "id": "f8yKMcIHR_jP",
        "colab": {
          "base_uri": "https://localhost:8080/",
          "height": 472
        },
        "outputId": "700a00b2-8419-4764-bb57-524eb99eb8dd"
      },
      "outputs": [
        {
          "output_type": "display_data",
          "data": {
            "text/plain": [
              "<Figure size 640x480 with 1 Axes>"
            ],
            "image/png": "[encoded data removed]"
          },
          "metadata": {}
        }
      ],
      "source": [
        "if model_selection[model_flag]==\"ALL\" or model_selection[model_flag] == \"LSTM\":\n",
        "  # Plot of accuracy vs epoch of train and test dataset\n",
        "  plt.plot(history.history['accuracy'])\n",
        "  plt.plot(history.history['val_accuracy'])\n",
        "  plt.title(\"Plot of accuracy vs epoch for train and test dataset\")\n",
        "  plt.ylabel('accuracy')\n",
        "  plt.xlabel('epoch')\n",
        "  plt.legend(['train', 'test'], loc='best')\n",
        "  plt.savefig('/content/drive/MyDrive/Colab_Notebooks/Plots/lstm_binary_accuracy.png')\n",
        "  plt.show()"
      ]
    },
    {
      "cell_type": "code",
      "execution_count": 167,
      "metadata": {
        "id": "M5g1Rw_SSb5n",
        "colab": {
          "base_uri": "https://localhost:8080/",
          "height": 472
        },
        "outputId": "e187ff35-5169-4bc8-d6dc-c0f648d1989c"
      },
      "outputs": [
        {
          "output_type": "display_data",
          "data": {
            "text/plain": [
              "<Figure size 640x480 with 1 Axes>"
            ],
            "image/png": "[encoded data removed]"
          },
          "metadata": {}
        }
      ],
      "source": [
        "if model_selection[model_flag]==\"ALL\" or model_selection[model_flag] == \"LSTM\":\n",
        "  # Plot of loss vs epoch of train and test dataset\n",
        "  plt.plot(history.history['loss'])\n",
        "  plt.plot(history.history['val_loss'])\n",
        "  plt.title(\"Plot of loss vs epoch for train and test dataset\")\n",
        "  plt.ylabel('loss')\n",
        "  plt.xlabel('epoch')\n",
        "  plt.legend(['train', 'test'], loc='best')\n",
        "  plt.savefig('/content/drive/MyDrive/Colab_Notebooks/Plots/lstm_binary_loss.png')\n",
        "  plt.show()"
      ]
    },
    {
      "cell_type": "code",
      "execution_count": 168,
      "metadata": {
        "id": "osZa2OV9Se-T"
      },
      "outputs": [],
      "source": [
        "if model_selection[model_flag]==\"ALL\" or model_selection[model_flag] == \"LSTM\":\n",
        "  # representation of model layers\n",
        "  plot_model(lst, to_file='/content/drive/MyDrive/Colab_Notebooks/Plots/lstm_binary.png', show_shapes=True,)"
      ]
    },
    {
      "cell_type": "code",
      "execution_count": 169,
      "metadata": {
        "id": "lw4OLD4HSpaY",
        "colab": {
          "base_uri": "https://localhost:8080/"
        },
        "outputId": "efcc3471-0f43-456a-a03f-026f0cf6bc30"
      },
      "outputs": [
        {
          "output_type": "execute_result",
          "data": {
            "text/plain": [
              "(25000,)"
            ]
          },
          "metadata": {},
          "execution_count": 169
        }
      ],
      "source": [
        "y_test = np.array(y_test)\n",
        "y_test.shape"
      ]
    },
    {
      "cell_type": "code",
      "execution_count": 170,
      "metadata": {
        "id": "4BvYVrKsTGr3",
        "colab": {
          "base_uri": "https://localhost:8080/"
        },
        "outputId": "23c89ddd-b0cd-43c9-c739-30a7c064733c"
      },
      "outputs": [
        {
          "output_type": "execute_result",
          "data": {
            "text/plain": [
              "numpy.ndarray"
            ]
          },
          "metadata": {},
          "execution_count": 170
        }
      ],
      "source": [
        "type(y_test)"
      ]
    },
    {
      "cell_type": "code",
      "execution_count": 171,
      "metadata": {
        "id": "KBvCGl6BS0FM",
        "colab": {
          "base_uri": "https://localhost:8080/"
        },
        "outputId": "5ae221e6-2314-40cd-b9e1-dbe2b76facf3"
      },
      "outputs": [
        {
          "output_type": "stream",
          "name": "stdout",
          "text": [
            "782/782 [==============================] - 2s 2ms/step\n"
          ]
        }
      ],
      "source": [
        "if model_selection[model_flag]==\"ALL\" or model_selection[model_flag] == \"LSTM\":\n",
        "  y_classes = (lst.predict(x_test)>0.5).astype('int32')"
      ]
    },
    {
      "cell_type": "code",
      "execution_count": 172,
      "metadata": {
        "id": "x_yVqBlLTtLW",
        "colab": {
          "base_uri": "https://localhost:8080/"
        },
        "outputId": "2912e8ea-7a0e-462a-eb97-460789fc234f"
      },
      "outputs": [
        {
          "output_type": "stream",
          "name": "stdout",
          "text": [
            "Recall Score -  0.19174104742445425\n",
            "F1 Score -  0.3214639862976652\n",
            "Precision Score -  0.9938684503901896\n"
          ]
        }
      ],
      "source": [
        "if model_selection[model_flag]==\"ALL\" or model_selection[model_flag] == \"LSTM\":\n",
        "  print(\"Recall Score - \",recall_score(y_test,y_classes))\n",
        "  print(\"F1 Score - \",f1_score(y_test,y_classes))\n",
        "  print(\"Precision Score - \",precision_score(y_test,y_classes))"
      ]
    },
    {
      "cell_type": "code",
      "source": [
        "print(classification_report(y_test, y_classes, target_names=['0', '1']))\n",
        "cm = confusion_matrix(y_test, y_classes)\n",
        "disp = ConfusionMatrixDisplay(confusion_matrix=cm,\n",
        "                              display_labels=['0', '1'])\n",
        "disp.plot()\n",
        "\n",
        "plt.show()"
      ],
      "metadata": {
        "colab": {
          "base_uri": "https://localhost:8080/",
          "height": 610
        },
        "id": "lHw1E32esovH",
        "outputId": "91c44f48-d5ec-4492-a669-1b4f201f52f7"
      },
      "execution_count": 173,
      "outputs": [
        {
          "output_type": "stream",
          "name": "stdout",
          "text": [
            "              precision    recall  f1-score   support\n",
            "\n",
            "           0       0.68      1.00      0.81     15701\n",
            "           1       0.99      0.19      0.32      9299\n",
            "\n",
            "    accuracy                           0.70     25000\n",
            "   macro avg       0.83      0.60      0.56     25000\n",
            "weighted avg       0.79      0.70      0.63     25000\n",
            "\n"
          ]
        },
        {
          "output_type": "display_data",
          "data": {
            "text/plain": [
              "<Figure size 640x480 with 2 Axes>"
            ],
            "image/png": "[encoded data removed]"
          },
          "metadata": {}
        }
      ]
    },
    {
      "cell_type": "markdown",
      "metadata": {
        "id": "H_g15uXe82BY"
      },
      "source": [
        "## **Auto Encoder**"
      ]
    },
    {
      "cell_type": "code",
      "execution_count": 174,
      "metadata": {
        "id": "VQ6pDxghmBwB"
      },
      "outputs": [],
      "source": [
        "if model_selection[model_flag]==\"ALL\" or model_selection[model_flag] == \"AE\":\n",
        "  # splitting the dataset 75% for training and 25% testing\n",
        "  X_train, X_test = train_test_split(bin_data, test_size=0.25, random_state=42)"
      ]
    },
    {
      "cell_type": "code",
      "execution_count": 175,
      "metadata": {
        "id": "uogVT92Q_6wh"
      },
      "outputs": [],
      "source": [
        "if model_selection[model_flag]==\"ALL\" or model_selection[model_flag] == \"AE\":\n",
        "  # dataset excluding target attribute (encoded, one-hot-encoded,original)\n",
        "  X_train = X_train.drop(['label'],axis=1) \n",
        "\n",
        "  y_test = X_test['label'] # target attribute\n",
        "\n",
        "  # dataset excluding target attribute (encoded, one-hot-encoded,original)\n",
        "  X_test = X_test.drop(['label'],axis=1)\n",
        "  # calling the normalization() function\n",
        "  X_train = normalization_train(X_train,numeric_cols)\n",
        "  X_test = normalization_test(X_test,numeric_cols)\n",
        "  X_train = X_train.values\n",
        "  X_test = X_test.values\n",
        "  y_test = y_test.values"
      ]
    },
    {
      "cell_type": "code",
      "execution_count": 176,
      "metadata": {
        "id": "s696BM9uKADC"
      },
      "outputs": [],
      "source": [
        "if model_selection[model_flag]==\"ALL\" or model_selection[model_flag] == \"AE\":\n",
        "  input_dim = X_train.shape[1]\n",
        "  encoding_dim = 50\n",
        "\n",
        "  #input layer\n",
        "  input_layer = Input(shape=(input_dim, ))\n",
        "  #encoding layer with 50 neurons\n",
        "  encoder = Dense(encoding_dim, activation=\"relu\")(input_layer)           \n",
        "  #decoding and output layer\n",
        "  output_layer = Dense(input_dim, activation='softmax')(encoder)"
      ]
    },
    {
      "cell_type": "code",
      "execution_count": 177,
      "metadata": {
        "id": "nLn3vHBZLQtj"
      },
      "outputs": [],
      "source": [
        "if model_selection[model_flag]==\"ALL\" or model_selection[model_flag] == \"AE\":\n",
        "  # creating model with input, encoding, decoding, output layers\n",
        "  autoencoder = Model(inputs=input_layer, outputs=output_layer)\n",
        "\n",
        "  # defining loss function, optimizer, metrics and then compiling model\n",
        "  autoencoder.compile(optimizer='adam', loss='mean_squared_error',metrics=['accuracy'])"
      ]
    },
    {
      "cell_type": "code",
      "execution_count": 178,
      "metadata": {
        "id": "X_zk7PMVLVNm",
        "colab": {
          "base_uri": "https://localhost:8080/"
        },
        "outputId": "2ba43173-6103-40a7-da1f-0eb838fd591b"
      },
      "outputs": [
        {
          "output_type": "stream",
          "name": "stdout",
          "text": [
            "Model: \"model_2\"\n",
            "_________________________________________________________________\n",
            " Layer (type)                Output Shape              Param #   \n",
            "=================================================================\n",
            " input_3 (InputLayer)        [(None, 115)]             0         \n",
            "                                                                 \n",
            " dense_12 (Dense)            (None, 50)                5800      \n",
            "                                                                 \n",
            " dense_13 (Dense)            (None, 115)               5865      \n",
            "                                                                 \n",
            "=================================================================\n",
            "Total params: 11,665\n",
            "Trainable params: 11,665\n",
            "Non-trainable params: 0\n",
            "_________________________________________________________________\n"
          ]
        }
      ],
      "source": [
        "if model_selection[model_flag]==\"ALL\" or model_selection[model_flag] == \"AE\":\n",
        "  # summary of model layers\n",
        "  autoencoder.summary()"
      ]
    },
    {
      "cell_type": "code",
      "execution_count": 179,
      "metadata": {
        "id": "We59NbebLdkJ",
        "colab": {
          "base_uri": "https://localhost:8080/"
        },
        "outputId": "c6237893-acf2-4ff6-e163-954259241429"
      },
      "outputs": [
        {
          "output_type": "stream",
          "name": "stdout",
          "text": [
            "Epoch 1/100\n",
            "150/150 [==============================] - 2s 7ms/step - loss: 0.2624 - accuracy: 0.0492 - val_loss: inf - val_accuracy: 0.0000e+00\n",
            "Epoch 2/100\n",
            "150/150 [==============================] - 1s 6ms/step - loss: 0.2598 - accuracy: 0.1929 - val_loss: inf - val_accuracy: 0.0000e+00\n",
            "Epoch 3/100\n",
            "150/150 [==============================] - 1s 5ms/step - loss: 0.2597 - accuracy: 0.2487 - val_loss: inf - val_accuracy: 0.0000e+00\n",
            "Epoch 4/100\n",
            "150/150 [==============================] - 1s 5ms/step - loss: 0.2596 - accuracy: 0.2295 - val_loss: inf - val_accuracy: 0.0000e+00\n",
            "Epoch 5/100\n",
            "150/150 [==============================] - 1s 4ms/step - loss: 0.2596 - accuracy: 0.2309 - val_loss: inf - val_accuracy: 0.0000e+00\n",
            "Epoch 6/100\n",
            "150/150 [==============================] - 1s 4ms/step - loss: 0.2596 - accuracy: 0.2357 - val_loss: inf - val_accuracy: 0.0000e+00\n",
            "Epoch 7/100\n",
            "150/150 [==============================] - 1s 4ms/step - loss: 0.2596 - accuracy: 0.2700 - val_loss: inf - val_accuracy: 0.0000e+00\n",
            "Epoch 8/100\n",
            "150/150 [==============================] - 1s 4ms/step - loss: 0.2596 - accuracy: 0.2869 - val_loss: inf - val_accuracy: 0.0000e+00\n",
            "Epoch 9/100\n",
            "150/150 [==============================] - 1s 4ms/step - loss: 0.2596 - accuracy: 0.2838 - val_loss: inf - val_accuracy: 0.0000e+00\n",
            "Epoch 10/100\n",
            "150/150 [==============================] - 1s 4ms/step - loss: 0.2596 - accuracy: 0.2840 - val_loss: inf - val_accuracy: 0.0000e+00\n",
            "Epoch 11/100\n",
            "150/150 [==============================] - 1s 4ms/step - loss: 0.2596 - accuracy: 0.2894 - val_loss: inf - val_accuracy: 0.0000e+00\n",
            "Epoch 12/100\n",
            "150/150 [==============================] - 1s 4ms/step - loss: 0.2595 - accuracy: 0.2853 - val_loss: inf - val_accuracy: 0.0000e+00\n",
            "Epoch 13/100\n",
            "150/150 [==============================] - 1s 4ms/step - loss: 0.2595 - accuracy: 0.2800 - val_loss: inf - val_accuracy: 0.0000e+00\n",
            "Epoch 14/100\n",
            "150/150 [==============================] - 1s 4ms/step - loss: 0.2595 - accuracy: 0.2521 - val_loss: inf - val_accuracy: 0.0000e+00\n",
            "Epoch 15/100\n",
            "150/150 [==============================] - 1s 4ms/step - loss: 0.2595 - accuracy: 0.2524 - val_loss: inf - val_accuracy: 0.0000e+00\n",
            "Epoch 16/100\n",
            "150/150 [==============================] - 1s 4ms/step - loss: 0.2595 - accuracy: 0.2390 - val_loss: inf - val_accuracy: 0.0000e+00\n",
            "Epoch 17/100\n",
            "150/150 [==============================] - 1s 4ms/step - loss: 0.2595 - accuracy: 0.2335 - val_loss: inf - val_accuracy: 0.0000e+00\n",
            "Epoch 18/100\n",
            "150/150 [==============================] - 1s 4ms/step - loss: 0.2595 - accuracy: 0.2242 - val_loss: inf - val_accuracy: 0.0000e+00\n",
            "Epoch 19/100\n",
            "150/150 [==============================] - 1s 4ms/step - loss: 0.2595 - accuracy: 0.2222 - val_loss: inf - val_accuracy: 0.0000e+00\n",
            "Epoch 20/100\n",
            "150/150 [==============================] - 1s 4ms/step - loss: 0.2595 - accuracy: 0.2203 - val_loss: inf - val_accuracy: 0.0000e+00\n",
            "Epoch 21/100\n",
            "150/150 [==============================] - 1s 5ms/step - loss: 0.2595 - accuracy: 0.2156 - val_loss: inf - val_accuracy: 0.0000e+00\n",
            "Epoch 22/100\n",
            "150/150 [==============================] - 1s 5ms/step - loss: 0.2595 - accuracy: 0.2152 - val_loss: inf - val_accuracy: 0.0000e+00\n",
            "Epoch 23/100\n",
            "150/150 [==============================] - 1s 5ms/step - loss: 0.2595 - accuracy: 0.2122 - val_loss: inf - val_accuracy: 0.0000e+00\n",
            "Epoch 24/100\n",
            "150/150 [==============================] - 1s 5ms/step - loss: 0.2595 - accuracy: 0.2167 - val_loss: inf - val_accuracy: 0.0000e+00\n",
            "Epoch 25/100\n",
            "150/150 [==============================] - 1s 5ms/step - loss: 0.2595 - accuracy: 0.2236 - val_loss: inf - val_accuracy: 0.0000e+00\n",
            "Epoch 26/100\n",
            "150/150 [==============================] - 1s 4ms/step - loss: 0.2595 - accuracy: 0.2154 - val_loss: inf - val_accuracy: 0.0000e+00\n",
            "Epoch 27/100\n",
            "150/150 [==============================] - 1s 4ms/step - loss: 0.2595 - accuracy: 0.2234 - val_loss: inf - val_accuracy: 0.0000e+00\n",
            "Epoch 28/100\n",
            "150/150 [==============================] - 1s 4ms/step - loss: 0.2595 - accuracy: 0.2276 - val_loss: inf - val_accuracy: 0.0000e+00\n",
            "Epoch 29/100\n",
            "150/150 [==============================] - 1s 4ms/step - loss: 0.2595 - accuracy: 0.2300 - val_loss: inf - val_accuracy: 0.0000e+00\n",
            "Epoch 30/100\n",
            "150/150 [==============================] - 1s 4ms/step - loss: 0.2595 - accuracy: 0.2325 - val_loss: inf - val_accuracy: 0.0000e+00\n",
            "Epoch 31/100\n",
            "150/150 [==============================] - 1s 4ms/step - loss: 0.2595 - accuracy: 0.2390 - val_loss: inf - val_accuracy: 0.0000e+00\n",
            "Epoch 32/100\n",
            "150/150 [==============================] - 1s 4ms/step - loss: 0.2595 - accuracy: 0.2516 - val_loss: inf - val_accuracy: 0.0000e+00\n",
            "Epoch 33/100\n",
            "150/150 [==============================] - 1s 4ms/step - loss: 0.2595 - accuracy: 0.3265 - val_loss: inf - val_accuracy: 0.0000e+00\n",
            "Epoch 34/100\n",
            "150/150 [==============================] - 1s 4ms/step - loss: 0.2595 - accuracy: 0.3334 - val_loss: inf - val_accuracy: 0.0000e+00\n",
            "Epoch 35/100\n",
            "150/150 [==============================] - 1s 4ms/step - loss: 0.2595 - accuracy: 0.3337 - val_loss: inf - val_accuracy: 0.0000e+00\n",
            "Epoch 36/100\n",
            "150/150 [==============================] - 1s 4ms/step - loss: 0.2595 - accuracy: 0.3417 - val_loss: inf - val_accuracy: 0.0000e+00\n",
            "Epoch 37/100\n",
            "150/150 [==============================] - 1s 4ms/step - loss: 0.2595 - accuracy: 0.3379 - val_loss: inf - val_accuracy: 0.0000e+00\n",
            "Epoch 38/100\n",
            "150/150 [==============================] - 1s 4ms/step - loss: 0.2595 - accuracy: 0.3393 - val_loss: inf - val_accuracy: 0.0000e+00\n",
            "Epoch 39/100\n",
            "150/150 [==============================] - 1s 4ms/step - loss: 0.2595 - accuracy: 0.3365 - val_loss: inf - val_accuracy: 0.0000e+00\n",
            "Epoch 40/100\n",
            "150/150 [==============================] - 1s 4ms/step - loss: 0.2595 - accuracy: 0.3424 - val_loss: inf - val_accuracy: 0.0000e+00\n",
            "Epoch 41/100\n",
            "150/150 [==============================] - 1s 4ms/step - loss: 0.2595 - accuracy: 0.3375 - val_loss: inf - val_accuracy: 0.0000e+00\n",
            "Epoch 42/100\n",
            "150/150 [==============================] - 1s 5ms/step - loss: 0.2595 - accuracy: 0.3392 - val_loss: inf - val_accuracy: 0.0000e+00\n",
            "Epoch 43/100\n",
            "150/150 [==============================] - 1s 5ms/step - loss: 0.2595 - accuracy: 0.3365 - val_loss: inf - val_accuracy: 0.0000e+00\n",
            "Epoch 44/100\n",
            "150/150 [==============================] - 1s 5ms/step - loss: 0.2595 - accuracy: 0.3385 - val_loss: inf - val_accuracy: 0.0000e+00\n",
            "Epoch 45/100\n",
            "150/150 [==============================] - 1s 5ms/step - loss: 0.2595 - accuracy: 0.3388 - val_loss: inf - val_accuracy: 0.0000e+00\n",
            "Epoch 46/100\n",
            "150/150 [==============================] - 1s 5ms/step - loss: 0.2595 - accuracy: 0.3244 - val_loss: inf - val_accuracy: 0.0000e+00\n",
            "Epoch 47/100\n",
            "150/150 [==============================] - 1s 4ms/step - loss: 0.2594 - accuracy: 0.3372 - val_loss: inf - val_accuracy: 0.0000e+00\n",
            "Epoch 48/100\n",
            "150/150 [==============================] - 1s 4ms/step - loss: 0.2594 - accuracy: 0.3250 - val_loss: inf - val_accuracy: 0.0000e+00\n",
            "Epoch 49/100\n",
            "150/150 [==============================] - 1s 4ms/step - loss: 0.2594 - accuracy: 0.3213 - val_loss: inf - val_accuracy: 0.0000e+00\n",
            "Epoch 50/100\n",
            "150/150 [==============================] - 1s 4ms/step - loss: 0.2594 - accuracy: 0.3251 - val_loss: inf - val_accuracy: 0.0000e+00\n",
            "Epoch 51/100\n",
            "150/150 [==============================] - 1s 4ms/step - loss: 0.2594 - accuracy: 0.3164 - val_loss: inf - val_accuracy: 0.0000e+00\n",
            "Epoch 52/100\n",
            "150/150 [==============================] - 1s 4ms/step - loss: 0.2594 - accuracy: 0.3196 - val_loss: inf - val_accuracy: 0.0000e+00\n",
            "Epoch 53/100\n",
            "150/150 [==============================] - 1s 5ms/step - loss: 0.2594 - accuracy: 0.3134 - val_loss: inf - val_accuracy: 0.0000e+00\n",
            "Epoch 54/100\n",
            "150/150 [==============================] - 1s 5ms/step - loss: 0.2594 - accuracy: 0.3097 - val_loss: inf - val_accuracy: 0.0000e+00\n",
            "Epoch 55/100\n",
            "150/150 [==============================] - 1s 5ms/step - loss: 0.2594 - accuracy: 0.3064 - val_loss: inf - val_accuracy: 0.0000e+00\n",
            "Epoch 56/100\n",
            "150/150 [==============================] - 1s 5ms/step - loss: 0.2594 - accuracy: 0.2992 - val_loss: inf - val_accuracy: 0.0000e+00\n",
            "Epoch 57/100\n",
            "150/150 [==============================] - 1s 5ms/step - loss: 0.2594 - accuracy: 0.2965 - val_loss: inf - val_accuracy: 0.0000e+00\n",
            "Epoch 58/100\n",
            "150/150 [==============================] - 1s 4ms/step - loss: 0.2594 - accuracy: 0.3040 - val_loss: inf - val_accuracy: 0.0000e+00\n",
            "Epoch 59/100\n",
            "150/150 [==============================] - 1s 4ms/step - loss: 0.2594 - accuracy: 0.3004 - val_loss: inf - val_accuracy: 0.0000e+00\n",
            "Epoch 60/100\n",
            "150/150 [==============================] - 1s 4ms/step - loss: 0.2594 - accuracy: 0.2996 - val_loss: inf - val_accuracy: 0.0000e+00\n",
            "Epoch 61/100\n",
            "150/150 [==============================] - 1s 4ms/step - loss: 0.2594 - accuracy: 0.3028 - val_loss: inf - val_accuracy: 0.0000e+00\n",
            "Epoch 62/100\n",
            "150/150 [==============================] - 1s 5ms/step - loss: 0.2594 - accuracy: 0.3049 - val_loss: inf - val_accuracy: 0.0000e+00\n",
            "Epoch 63/100\n",
            "150/150 [==============================] - 1s 6ms/step - loss: 0.2594 - accuracy: 0.3062 - val_loss: inf - val_accuracy: 0.0000e+00\n",
            "Epoch 64/100\n",
            "150/150 [==============================] - 1s 5ms/step - loss: 0.2594 - accuracy: 0.3105 - val_loss: inf - val_accuracy: 0.0000e+00\n",
            "Epoch 65/100\n",
            "150/150 [==============================] - 1s 5ms/step - loss: 0.2594 - accuracy: 0.3089 - val_loss: inf - val_accuracy: 0.0000e+00\n",
            "Epoch 66/100\n",
            "150/150 [==============================] - 1s 4ms/step - loss: 0.2594 - accuracy: 0.3142 - val_loss: inf - val_accuracy: 0.0000e+00\n",
            "Epoch 67/100\n",
            "150/150 [==============================] - 1s 4ms/step - loss: 0.2594 - accuracy: 0.3169 - val_loss: inf - val_accuracy: 0.0000e+00\n",
            "Epoch 68/100\n",
            "150/150 [==============================] - 1s 4ms/step - loss: 0.2594 - accuracy: 0.3154 - val_loss: inf - val_accuracy: 0.0000e+00\n",
            "Epoch 69/100\n",
            "150/150 [==============================] - 1s 4ms/step - loss: 0.2594 - accuracy: 0.3206 - val_loss: inf - val_accuracy: 0.0000e+00\n",
            "Epoch 70/100\n",
            "150/150 [==============================] - 1s 4ms/step - loss: 0.2594 - accuracy: 0.3166 - val_loss: inf - val_accuracy: 0.0000e+00\n",
            "Epoch 71/100\n",
            "150/150 [==============================] - 1s 4ms/step - loss: 0.2594 - accuracy: 0.3216 - val_loss: inf - val_accuracy: 0.0000e+00\n",
            "Epoch 72/100\n",
            "150/150 [==============================] - 1s 4ms/step - loss: 0.2594 - accuracy: 0.3167 - val_loss: inf - val_accuracy: 0.0000e+00\n",
            "Epoch 73/100\n",
            "150/150 [==============================] - 1s 4ms/step - loss: 0.2594 - accuracy: 0.3195 - val_loss: inf - val_accuracy: 0.0000e+00\n",
            "Epoch 74/100\n",
            "150/150 [==============================] - 1s 4ms/step - loss: 0.2594 - accuracy: 0.3220 - val_loss: inf - val_accuracy: 0.0000e+00\n",
            "Epoch 75/100\n",
            "150/150 [==============================] - 1s 4ms/step - loss: 0.2594 - accuracy: 0.3233 - val_loss: inf - val_accuracy: 0.0000e+00\n",
            "Epoch 76/100\n",
            "150/150 [==============================] - 1s 4ms/step - loss: 0.2594 - accuracy: 0.3207 - val_loss: inf - val_accuracy: 0.0000e+00\n",
            "Epoch 77/100\n",
            "150/150 [==============================] - 1s 4ms/step - loss: 0.2594 - accuracy: 0.3224 - val_loss: inf - val_accuracy: 0.0000e+00\n",
            "Epoch 78/100\n",
            "150/150 [==============================] - 1s 4ms/step - loss: 0.2594 - accuracy: 0.3199 - val_loss: inf - val_accuracy: 0.0000e+00\n",
            "Epoch 79/100\n",
            "150/150 [==============================] - 1s 5ms/step - loss: 0.2594 - accuracy: 0.3278 - val_loss: inf - val_accuracy: 0.0000e+00\n",
            "Epoch 80/100\n",
            "150/150 [==============================] - 1s 4ms/step - loss: 0.2594 - accuracy: 0.3198 - val_loss: inf - val_accuracy: 0.0000e+00\n",
            "Epoch 81/100\n",
            "150/150 [==============================] - 1s 4ms/step - loss: 0.2594 - accuracy: 0.3215 - val_loss: inf - val_accuracy: 0.0000e+00\n",
            "Epoch 82/100\n",
            "150/150 [==============================] - 1s 4ms/step - loss: 0.2594 - accuracy: 0.3277 - val_loss: inf - val_accuracy: 0.0000e+00\n",
            "Epoch 83/100\n",
            "150/150 [==============================] - 1s 5ms/step - loss: 0.2594 - accuracy: 0.3428 - val_loss: inf - val_accuracy: 0.0000e+00\n",
            "Epoch 84/100\n",
            "150/150 [==============================] - 1s 5ms/step - loss: 0.2594 - accuracy: 0.3402 - val_loss: inf - val_accuracy: 0.0000e+00\n",
            "Epoch 85/100\n",
            "150/150 [==============================] - 1s 5ms/step - loss: 0.2594 - accuracy: 0.3383 - val_loss: inf - val_accuracy: 0.0000e+00\n",
            "Epoch 86/100\n",
            "150/150 [==============================] - 1s 5ms/step - loss: 0.2594 - accuracy: 0.3409 - val_loss: inf - val_accuracy: 0.0000e+00\n",
            "Epoch 87/100\n",
            "150/150 [==============================] - 1s 4ms/step - loss: 0.2594 - accuracy: 0.3432 - val_loss: inf - val_accuracy: 0.0000e+00\n",
            "Epoch 88/100\n",
            "150/150 [==============================] - 1s 4ms/step - loss: 0.2594 - accuracy: 0.3376 - val_loss: inf - val_accuracy: 0.0000e+00\n",
            "Epoch 89/100\n",
            "150/150 [==============================] - 1s 4ms/step - loss: 0.2594 - accuracy: 0.3430 - val_loss: inf - val_accuracy: 0.0000e+00\n",
            "Epoch 90/100\n",
            "150/150 [==============================] - 1s 4ms/step - loss: 0.2594 - accuracy: 0.3423 - val_loss: inf - val_accuracy: 0.0000e+00\n",
            "Epoch 91/100\n",
            "150/150 [==============================] - 1s 4ms/step - loss: 0.2594 - accuracy: 0.3432 - val_loss: inf - val_accuracy: 0.0000e+00\n",
            "Epoch 92/100\n",
            "150/150 [==============================] - 1s 4ms/step - loss: 0.2594 - accuracy: 0.3436 - val_loss: inf - val_accuracy: 0.0000e+00\n",
            "Epoch 93/100\n",
            "150/150 [==============================] - 1s 4ms/step - loss: 0.2594 - accuracy: 0.3425 - val_loss: inf - val_accuracy: 0.0000e+00\n",
            "Epoch 94/100\n",
            "150/150 [==============================] - 1s 4ms/step - loss: 0.2594 - accuracy: 0.3404 - val_loss: inf - val_accuracy: 0.0000e+00\n",
            "Epoch 95/100\n",
            "150/150 [==============================] - 1s 4ms/step - loss: 0.2594 - accuracy: 0.3425 - val_loss: inf - val_accuracy: 0.0000e+00\n",
            "Epoch 96/100\n",
            "150/150 [==============================] - 1s 4ms/step - loss: 0.2594 - accuracy: 0.3427 - val_loss: inf - val_accuracy: 0.0000e+00\n",
            "Epoch 97/100\n",
            "150/150 [==============================] - 1s 4ms/step - loss: 0.2594 - accuracy: 0.3424 - val_loss: inf - val_accuracy: 0.0000e+00\n",
            "Epoch 98/100\n",
            "150/150 [==============================] - 1s 4ms/step - loss: 0.2594 - accuracy: 0.3438 - val_loss: inf - val_accuracy: 0.0000e+00\n",
            "Epoch 99/100\n",
            "150/150 [==============================] - 1s 4ms/step - loss: 0.2594 - accuracy: 0.3437 - val_loss: inf - val_accuracy: 0.0000e+00\n",
            "Epoch 100/100\n",
            "150/150 [==============================] - 1s 4ms/step - loss: 0.2594 - accuracy: 0.3472 - val_loss: inf - val_accuracy: 0.0000e+00\n"
          ]
        }
      ],
      "source": [
        "if model_selection[model_flag]==\"ALL\" or model_selection[model_flag] == \"AE\":\n",
        "  # training the model on training dataset\n",
        "  history = autoencoder.fit(X_train, X_train, epochs=100,batch_size=500,validation_data=(X_test, X_test)).history"
      ]
    },
    {
      "cell_type": "code",
      "execution_count": 180,
      "metadata": {
        "id": "AdtR3-9xLliU",
        "colab": {
          "base_uri": "https://localhost:8080/"
        },
        "outputId": "2239b9fe-3638-47bd-d9e9-fe08a7fb565c"
      },
      "outputs": [
        {
          "output_type": "stream",
          "name": "stdout",
          "text": [
            "Saved model to disk\n",
            "Loaded model from disk\n"
          ]
        }
      ],
      "source": [
        "if model_selection[model_flag]==\"ALL\" or model_selection[model_flag] == \"AE\":\n",
        "  filepath = '/content/drive/MyDrive/Colab_Notebooks/Models/ae_binary_unsw_nb15.json'\n",
        "  weightspath = '/content/drive/MyDrive/Colab_Notebooks/Weights/ae_binary_unsw_nb15.h5'\n",
        "  if (not path.isfile(filepath)): \n",
        "    # serialize model to JSON\n",
        "    autoencoder_json = autoencoder.to_json()\n",
        "    with open(filepath, \"w\") as json_file:\n",
        "      json_file.write(autoencoder_json)\n",
        "\n",
        "    # serialize weights to HDF5\n",
        "    autoencoder.save_weights(weightspath)\n",
        "    print(\"Saved model to disk\")\n",
        "\n",
        "    # load json and create model\n",
        "    json_file = open(filepath, 'r')\n",
        "    loaded_model_json = json_file.read()\n",
        "    json_file.close()\n",
        "    autoencoder = model_from_json(loaded_model_json)\n",
        "\n",
        "    # load weights into new model\n",
        "    autoencoder.load_weights(weightspath)\n",
        "    print(\"Loaded model from disk\")"
      ]
    },
    {
      "cell_type": "code",
      "execution_count": 181,
      "metadata": {
        "id": "Wqr6HVtMLwx9"
      },
      "outputs": [],
      "source": [
        "if model_selection[model_flag]==\"ALL\" or model_selection[model_flag] == \"AE\":\n",
        "  # defining loss function, optimizer, metrics and then compiling model\n",
        "  autoencoder.compile(optimizer='adam', loss='mean_squared_error',metrics=['accuracy'])"
      ]
    },
    {
      "cell_type": "code",
      "execution_count": 182,
      "metadata": {
        "id": "FQrjCk2hL09x",
        "colab": {
          "base_uri": "https://localhost:8080/"
        },
        "outputId": "b8c0982b-b200-4bb4-d2e5-ad20ee65d1a1"
      },
      "outputs": [
        {
          "output_type": "stream",
          "name": "stdout",
          "text": [
            "782/782 [==============================] - 2s 2ms/step - loss: inf - accuracy: 0.0000e+00\n",
            "Test results - Loss: inf - Accuracy: 0.0%\n"
          ]
        }
      ],
      "source": [
        "if model_selection[model_flag]==\"ALL\" or model_selection[model_flag] == \"AE\":\n",
        "  # predicting target attribute on testing dataset\n",
        "  test_results = autoencoder.evaluate(X_test, X_test, verbose=1)\n",
        "  print(f'Test results - Loss: {test_results[0]} - Accuracy: {test_results[1]}%')"
      ]
    },
    {
      "cell_type": "code",
      "execution_count": 183,
      "metadata": {
        "id": "VqQsjSZcL1-B",
        "colab": {
          "base_uri": "https://localhost:8080/",
          "height": 472
        },
        "outputId": "3e213a04-f60d-4c16-d087-912f0920f051"
      },
      "outputs": [
        {
          "output_type": "display_data",
          "data": {
            "text/plain": [
              "<Figure size 640x480 with 1 Axes>"
            ],
            "image/png": "[encoded data removed]"
          },
          "metadata": {}
        }
      ],
      "source": [
        "if model_selection[model_flag]==\"ALL\" or model_selection[model_flag] == \"AE\":\n",
        "  # Plot of loss vs epoch of train and test dataset\n",
        "  plt.plot(history['loss'])\n",
        "  plt.plot(history['val_loss'])\n",
        "  plt.title(\"Plot of loss vs epoch for train and test dataset\")\n",
        "  plt.ylabel('loss')\n",
        "  plt.xlabel('epoch')\n",
        "  plt.legend(['train', 'test'], loc='upper right')\n",
        "  plt.savefig('/content/drive/MyDrive/Colab_Notebooks/Plots/ae_binary_loss.png')\n",
        "  plt.show()"
      ]
    },
    {
      "cell_type": "code",
      "execution_count": 184,
      "metadata": {
        "id": "fkjD9QXKL25Z",
        "colab": {
          "base_uri": "https://localhost:8080/",
          "height": 472
        },
        "outputId": "7e4f41ff-b84f-4f4f-b607-48dd629411e1"
      },
      "outputs": [
        {
          "output_type": "display_data",
          "data": {
            "text/plain": [
              "<Figure size 640x480 with 1 Axes>"
            ],
            "image/png": "[encoded data removed]"
          },
          "metadata": {}
        }
      ],
      "source": [
        "if model_selection[model_flag]==\"ALL\" or model_selection[model_flag] == \"AE\":\n",
        "  # Plot of accuracy vs epoch of train and test dataset\n",
        "  plt.plot(history['accuracy'])\n",
        "  plt.plot(history['val_accuracy'])\n",
        "  plt.title(\"Plot of accuracy vs epoch for train and test dataset\")\n",
        "  plt.ylabel('accuracy')\n",
        "  plt.xlabel('epoch')\n",
        "  plt.legend(['train', 'test'], loc='best')\n",
        "  plt.savefig('/content/drive/MyDrive/Colab_Notebooks/Plots/ae_binary_accuracy.png')\n",
        "  plt.show()"
      ]
    },
    {
      "cell_type": "code",
      "execution_count": 185,
      "metadata": {
        "id": "lf9q83sBMGPD"
      },
      "outputs": [],
      "source": [
        "if model_selection[model_flag]==\"ALL\" or model_selection[model_flag] == \"AE\":\n",
        "  # representation of model layers\n",
        "  plot_model(autoencoder, to_file='/content/drive/MyDrive/Colab_Notebooks/Plots/ae_binary.png', show_shapes=True,)"
      ]
    },
    {
      "cell_type": "code",
      "execution_count": 186,
      "metadata": {
        "id": "SFIXKGwuMLFo",
        "colab": {
          "base_uri": "https://localhost:8080/"
        },
        "outputId": "4418ec54-2f70-46d8-e3ee-8227a2bcad62"
      },
      "outputs": [
        {
          "output_type": "stream",
          "name": "stdout",
          "text": [
            "782/782 [==============================] - 2s 2ms/step\n"
          ]
        }
      ],
      "source": [
        "if model_selection[model_flag]==\"ALL\" or model_selection[model_flag] == \"AE\":\n",
        "  # calculating reconstruction error \n",
        "  predictions = autoencoder.predict(X_test)"
      ]
    },
    {
      "cell_type": "code",
      "execution_count": 187,
      "metadata": {
        "id": "cqKJCyZnMMEG"
      },
      "outputs": [],
      "source": [
        "if model_selection[model_flag]==\"ALL\" or model_selection[model_flag] == \"AE\":\n",
        "  mse = np.mean(np.power(X_test - predictions, 2), axis=1)\n",
        "  error_df = pd.DataFrame({'reconstruction_error': mse,\n",
        "                           'true_class': y_test})"
      ]
    },
    {
      "cell_type": "code",
      "execution_count": 188,
      "metadata": {
        "id": "EdQJudbDMhmB",
        "colab": {
          "base_uri": "https://localhost:8080/"
        },
        "outputId": "5de3e036-3db5-4f16-caec-8e31214feb3d"
      },
      "outputs": [
        {
          "output_type": "stream",
          "name": "stdout",
          "text": [
            "(25000, 115)\n"
          ]
        }
      ],
      "source": [
        "if model_selection[model_flag]==\"ALL\" or model_selection[model_flag] == \"AE\":\n",
        "  error_df.describe()\n",
        "  print(predictions.shape)"
      ]
    },
    {
      "cell_type": "markdown",
      "metadata": {
        "id": "PHsaAAMmNQrs"
      },
      "source": [
        "## **AE Classifier**"
      ]
    },
    {
      "cell_type": "code",
      "execution_count": 189,
      "metadata": {
        "id": "1hK07LDBMoZg"
      },
      "outputs": [],
      "source": [
        "if model_selection[model_flag]==\"ALL\" or model_selection[model_flag] == \"AE\":\n",
        "  i_dim = predictions.shape[1]\n",
        "\n",
        "  #input layer\n",
        "  i_layer = Input(shape=(i_dim, ))\n",
        "  #hidden layer with 50 neurons\n",
        "  fvector = Dense(50, activation=\"sigmoid\")(i_layer)                    \n",
        "  #doutput layer\n",
        "  o_layer = Dense(1, activation='sigmoid')(fvector)"
      ]
    },
    {
      "cell_type": "code",
      "execution_count": 190,
      "metadata": {
        "id": "Efq77rVINXWE"
      },
      "outputs": [],
      "source": [
        "if model_selection[model_flag]==\"ALL\" or model_selection[model_flag] == \"AE\":\n",
        "  # creating model with input, encoding, decoding, output layers\n",
        "  ae_classifier = Model(inputs=i_layer, outputs=o_layer)\n",
        "\n",
        "  # defining loss function, optimizer, metrics and then compiling model\n",
        "  ae_classifier.compile(optimizer='adam', loss='binary_crossentropy',metrics=['accuracy'])"
      ]
    },
    {
      "cell_type": "code",
      "execution_count": 191,
      "metadata": {
        "id": "0Yl594VGNX1W",
        "colab": {
          "base_uri": "https://localhost:8080/"
        },
        "outputId": "65ea3516-0458-4059-9924-3d9169fb25d3"
      },
      "outputs": [
        {
          "output_type": "stream",
          "name": "stdout",
          "text": [
            "Model: \"model_3\"\n",
            "_________________________________________________________________\n",
            " Layer (type)                Output Shape              Param #   \n",
            "=================================================================\n",
            " input_4 (InputLayer)        [(None, 115)]             0         \n",
            "                                                                 \n",
            " dense_14 (Dense)            (None, 50)                5800      \n",
            "                                                                 \n",
            " dense_15 (Dense)            (None, 1)                 51        \n",
            "                                                                 \n",
            "=================================================================\n",
            "Total params: 5,851\n",
            "Trainable params: 5,851\n",
            "Non-trainable params: 0\n",
            "_________________________________________________________________\n"
          ]
        }
      ],
      "source": [
        "if model_selection[model_flag]==\"ALL\" or model_selection[model_flag] == \"AE\":\n",
        "  # summary of model layers\n",
        "  ae_classifier.summary()"
      ]
    },
    {
      "cell_type": "code",
      "execution_count": 192,
      "metadata": {
        "id": "23n8Qt0uNX8Z",
        "colab": {
          "base_uri": "https://localhost:8080/"
        },
        "outputId": "8c0c88a0-79f5-48a8-9284-ebad4ac52a8e"
      },
      "outputs": [
        {
          "output_type": "stream",
          "name": "stdout",
          "text": [
            "Epoch 1/300\n",
            "40/40 [==============================] - 1s 7ms/step - loss: 0.6513 - accuracy: 0.6295 - val_loss: 0.6334 - val_accuracy: 0.6224\n",
            "Epoch 2/300\n",
            "40/40 [==============================] - 0s 4ms/step - loss: 0.6094 - accuracy: 0.6295 - val_loss: 0.5900 - val_accuracy: 0.6224\n",
            "Epoch 3/300\n",
            "40/40 [==============================] - 0s 4ms/step - loss: 0.5623 - accuracy: 0.6295 - val_loss: 0.5379 - val_accuracy: 0.6224\n",
            "Epoch 4/300\n",
            "40/40 [==============================] - 0s 3ms/step - loss: 0.5055 - accuracy: 0.6537 - val_loss: 0.4754 - val_accuracy: 0.9816\n",
            "Epoch 5/300\n",
            "40/40 [==============================] - 0s 4ms/step - loss: 0.4386 - accuracy: 0.9821 - val_loss: 0.4047 - val_accuracy: 0.9816\n",
            "Epoch 6/300\n",
            "40/40 [==============================] - 0s 3ms/step - loss: 0.3672 - accuracy: 0.9821 - val_loss: 0.3334 - val_accuracy: 0.9816\n",
            "Epoch 7/300\n",
            "40/40 [==============================] - 0s 4ms/step - loss: 0.2991 - accuracy: 0.9830 - val_loss: 0.2698 - val_accuracy: 0.9832\n",
            "Epoch 8/300\n",
            "40/40 [==============================] - 0s 4ms/step - loss: 0.2409 - accuracy: 0.9832 - val_loss: 0.2175 - val_accuracy: 0.9832\n",
            "Epoch 9/300\n",
            "40/40 [==============================] - 0s 3ms/step - loss: 0.1952 - accuracy: 0.9833 - val_loss: 0.1781 - val_accuracy: 0.9832\n",
            "Epoch 10/300\n",
            "40/40 [==============================] - 0s 4ms/step - loss: 0.1611 - accuracy: 0.9833 - val_loss: 0.1491 - val_accuracy: 0.9832\n",
            "Epoch 11/300\n",
            "40/40 [==============================] - 0s 4ms/step - loss: 0.1362 - accuracy: 0.9833 - val_loss: 0.1280 - val_accuracy: 0.9832\n",
            "Epoch 12/300\n",
            "40/40 [==============================] - 0s 4ms/step - loss: 0.1181 - accuracy: 0.9833 - val_loss: 0.1127 - val_accuracy: 0.9832\n",
            "Epoch 13/300\n",
            "40/40 [==============================] - 0s 3ms/step - loss: 0.1047 - accuracy: 0.9833 - val_loss: 0.1014 - val_accuracy: 0.9832\n",
            "Epoch 14/300\n",
            "40/40 [==============================] - 0s 4ms/step - loss: 0.0949 - accuracy: 0.9833 - val_loss: 0.0929 - val_accuracy: 0.9832\n",
            "Epoch 15/300\n",
            "40/40 [==============================] - 0s 4ms/step - loss: 0.0874 - accuracy: 0.9833 - val_loss: 0.0864 - val_accuracy: 0.9832\n",
            "Epoch 16/300\n",
            "40/40 [==============================] - 0s 4ms/step - loss: 0.0817 - accuracy: 0.9833 - val_loss: 0.0814 - val_accuracy: 0.9832\n",
            "Epoch 17/300\n",
            "40/40 [==============================] - 0s 4ms/step - loss: 0.0772 - accuracy: 0.9833 - val_loss: 0.0776 - val_accuracy: 0.9832\n",
            "Epoch 18/300\n",
            "40/40 [==============================] - 0s 3ms/step - loss: 0.0737 - accuracy: 0.9833 - val_loss: 0.0744 - val_accuracy: 0.9832\n",
            "Epoch 19/300\n",
            "40/40 [==============================] - 0s 5ms/step - loss: 0.0709 - accuracy: 0.9833 - val_loss: 0.0721 - val_accuracy: 0.9832\n",
            "Epoch 20/300\n",
            "40/40 [==============================] - 0s 3ms/step - loss: 0.0687 - accuracy: 0.9833 - val_loss: 0.0701 - val_accuracy: 0.9832\n",
            "Epoch 21/300\n",
            "40/40 [==============================] - 0s 3ms/step - loss: 0.0668 - accuracy: 0.9833 - val_loss: 0.0684 - val_accuracy: 0.9832\n",
            "Epoch 22/300\n",
            "40/40 [==============================] - 0s 4ms/step - loss: 0.0653 - accuracy: 0.9833 - val_loss: 0.0671 - val_accuracy: 0.9832\n",
            "Epoch 23/300\n",
            "40/40 [==============================] - 0s 3ms/step - loss: 0.0641 - accuracy: 0.9833 - val_loss: 0.0660 - val_accuracy: 0.9832\n",
            "Epoch 24/300\n",
            "40/40 [==============================] - 0s 4ms/step - loss: 0.0630 - accuracy: 0.9833 - val_loss: 0.0650 - val_accuracy: 0.9832\n",
            "Epoch 25/300\n",
            "40/40 [==============================] - 0s 3ms/step - loss: 0.0622 - accuracy: 0.9833 - val_loss: 0.0642 - val_accuracy: 0.9832\n",
            "Epoch 26/300\n",
            "40/40 [==============================] - 0s 4ms/step - loss: 0.0614 - accuracy: 0.9833 - val_loss: 0.0637 - val_accuracy: 0.9832\n",
            "Epoch 27/300\n",
            "40/40 [==============================] - 0s 4ms/step - loss: 0.0608 - accuracy: 0.9833 - val_loss: 0.0631 - val_accuracy: 0.9832\n",
            "Epoch 28/300\n",
            "40/40 [==============================] - 0s 4ms/step - loss: 0.0602 - accuracy: 0.9833 - val_loss: 0.0625 - val_accuracy: 0.9832\n",
            "Epoch 29/300\n",
            "40/40 [==============================] - 0s 5ms/step - loss: 0.0598 - accuracy: 0.9833 - val_loss: 0.0621 - val_accuracy: 0.9832\n",
            "Epoch 30/300\n",
            "40/40 [==============================] - 0s 4ms/step - loss: 0.0594 - accuracy: 0.9833 - val_loss: 0.0619 - val_accuracy: 0.9832\n",
            "Epoch 31/300\n",
            "40/40 [==============================] - 0s 3ms/step - loss: 0.0591 - accuracy: 0.9833 - val_loss: 0.0615 - val_accuracy: 0.9832\n",
            "Epoch 32/300\n",
            "40/40 [==============================] - 0s 3ms/step - loss: 0.0589 - accuracy: 0.9833 - val_loss: 0.0615 - val_accuracy: 0.9832\n",
            "Epoch 33/300\n",
            "40/40 [==============================] - 0s 3ms/step - loss: 0.0585 - accuracy: 0.9833 - val_loss: 0.0610 - val_accuracy: 0.9832\n",
            "Epoch 34/300\n",
            "40/40 [==============================] - 0s 4ms/step - loss: 0.0582 - accuracy: 0.9833 - val_loss: 0.0608 - val_accuracy: 0.9832\n",
            "Epoch 35/300\n",
            "40/40 [==============================] - 0s 4ms/step - loss: 0.0581 - accuracy: 0.9833 - val_loss: 0.0608 - val_accuracy: 0.9832\n",
            "Epoch 36/300\n",
            "40/40 [==============================] - 0s 3ms/step - loss: 0.0579 - accuracy: 0.9833 - val_loss: 0.0606 - val_accuracy: 0.9832\n",
            "Epoch 37/300\n",
            "40/40 [==============================] - 0s 3ms/step - loss: 0.0577 - accuracy: 0.9833 - val_loss: 0.0604 - val_accuracy: 0.9832\n",
            "Epoch 38/300\n",
            "40/40 [==============================] - 0s 3ms/step - loss: 0.0576 - accuracy: 0.9833 - val_loss: 0.0603 - val_accuracy: 0.9832\n",
            "Epoch 39/300\n",
            "40/40 [==============================] - 0s 4ms/step - loss: 0.0574 - accuracy: 0.9833 - val_loss: 0.0603 - val_accuracy: 0.9832\n",
            "Epoch 40/300\n",
            "40/40 [==============================] - 0s 4ms/step - loss: 0.0573 - accuracy: 0.9833 - val_loss: 0.0601 - val_accuracy: 0.9832\n",
            "Epoch 41/300\n",
            "40/40 [==============================] - 0s 5ms/step - loss: 0.0572 - accuracy: 0.9833 - val_loss: 0.0601 - val_accuracy: 0.9832\n",
            "Epoch 42/300\n",
            "40/40 [==============================] - 0s 4ms/step - loss: 0.0571 - accuracy: 0.9833 - val_loss: 0.0600 - val_accuracy: 0.9832\n",
            "Epoch 43/300\n",
            "40/40 [==============================] - 0s 4ms/step - loss: 0.0570 - accuracy: 0.9833 - val_loss: 0.0600 - val_accuracy: 0.9832\n",
            "Epoch 44/300\n",
            "40/40 [==============================] - 0s 3ms/step - loss: 0.0570 - accuracy: 0.9833 - val_loss: 0.0599 - val_accuracy: 0.9832\n",
            "Epoch 45/300\n",
            "40/40 [==============================] - 0s 3ms/step - loss: 0.0569 - accuracy: 0.9833 - val_loss: 0.0598 - val_accuracy: 0.9832\n",
            "Epoch 46/300\n",
            "40/40 [==============================] - 0s 3ms/step - loss: 0.0569 - accuracy: 0.9833 - val_loss: 0.0599 - val_accuracy: 0.9832\n",
            "Epoch 47/300\n",
            "40/40 [==============================] - 0s 4ms/step - loss: 0.0568 - accuracy: 0.9833 - val_loss: 0.0598 - val_accuracy: 0.9832\n",
            "Epoch 48/300\n",
            "40/40 [==============================] - 0s 3ms/step - loss: 0.0567 - accuracy: 0.9833 - val_loss: 0.0598 - val_accuracy: 0.9832\n",
            "Epoch 49/300\n",
            "40/40 [==============================] - 0s 4ms/step - loss: 0.0567 - accuracy: 0.9833 - val_loss: 0.0598 - val_accuracy: 0.9832\n",
            "Epoch 50/300\n",
            "40/40 [==============================] - 0s 3ms/step - loss: 0.0567 - accuracy: 0.9833 - val_loss: 0.0597 - val_accuracy: 0.9832\n",
            "Epoch 51/300\n",
            "40/40 [==============================] - 0s 3ms/step - loss: 0.0566 - accuracy: 0.9833 - val_loss: 0.0598 - val_accuracy: 0.9832\n",
            "Epoch 52/300\n",
            "40/40 [==============================] - 0s 4ms/step - loss: 0.0566 - accuracy: 0.9833 - val_loss: 0.0597 - val_accuracy: 0.9832\n",
            "Epoch 53/300\n",
            "40/40 [==============================] - 0s 4ms/step - loss: 0.0566 - accuracy: 0.9833 - val_loss: 0.0596 - val_accuracy: 0.9832\n",
            "Epoch 54/300\n",
            "40/40 [==============================] - 0s 5ms/step - loss: 0.0565 - accuracy: 0.9833 - val_loss: 0.0597 - val_accuracy: 0.9832\n",
            "Epoch 55/300\n",
            "40/40 [==============================] - 0s 5ms/step - loss: 0.0565 - accuracy: 0.9833 - val_loss: 0.0597 - val_accuracy: 0.9832\n",
            "Epoch 56/300\n",
            "40/40 [==============================] - 0s 5ms/step - loss: 0.0565 - accuracy: 0.9833 - val_loss: 0.0597 - val_accuracy: 0.9832\n",
            "Epoch 57/300\n",
            "40/40 [==============================] - 0s 5ms/step - loss: 0.0565 - accuracy: 0.9833 - val_loss: 0.0596 - val_accuracy: 0.9832\n",
            "Epoch 58/300\n",
            "40/40 [==============================] - 0s 6ms/step - loss: 0.0564 - accuracy: 0.9833 - val_loss: 0.0596 - val_accuracy: 0.9832\n",
            "Epoch 59/300\n",
            "40/40 [==============================] - 0s 7ms/step - loss: 0.0564 - accuracy: 0.9833 - val_loss: 0.0598 - val_accuracy: 0.9832\n",
            "Epoch 60/300\n",
            "40/40 [==============================] - 0s 6ms/step - loss: 0.0564 - accuracy: 0.9833 - val_loss: 0.0596 - val_accuracy: 0.9832\n",
            "Epoch 61/300\n",
            "40/40 [==============================] - 0s 6ms/step - loss: 0.0564 - accuracy: 0.9833 - val_loss: 0.0598 - val_accuracy: 0.9832\n",
            "Epoch 62/300\n",
            "40/40 [==============================] - 0s 6ms/step - loss: 0.0564 - accuracy: 0.9833 - val_loss: 0.0596 - val_accuracy: 0.9832\n",
            "Epoch 63/300\n",
            "40/40 [==============================] - 0s 6ms/step - loss: 0.0564 - accuracy: 0.9833 - val_loss: 0.0597 - val_accuracy: 0.9832\n",
            "Epoch 64/300\n",
            "40/40 [==============================] - 0s 9ms/step - loss: 0.0563 - accuracy: 0.9833 - val_loss: 0.0596 - val_accuracy: 0.9832\n",
            "Epoch 65/300\n",
            "40/40 [==============================] - 0s 10ms/step - loss: 0.0563 - accuracy: 0.9833 - val_loss: 0.0596 - val_accuracy: 0.9832\n",
            "Epoch 66/300\n",
            "40/40 [==============================] - 1s 14ms/step - loss: 0.0563 - accuracy: 0.9833 - val_loss: 0.0597 - val_accuracy: 0.9832\n",
            "Epoch 67/300\n",
            "40/40 [==============================] - 0s 8ms/step - loss: 0.0563 - accuracy: 0.9833 - val_loss: 0.0597 - val_accuracy: 0.9832\n",
            "Epoch 68/300\n",
            "40/40 [==============================] - 0s 7ms/step - loss: 0.0563 - accuracy: 0.9833 - val_loss: 0.0596 - val_accuracy: 0.9832\n",
            "Epoch 69/300\n",
            "40/40 [==============================] - 0s 7ms/step - loss: 0.0563 - accuracy: 0.9833 - val_loss: 0.0597 - val_accuracy: 0.9832\n",
            "Epoch 70/300\n",
            "40/40 [==============================] - 0s 6ms/step - loss: 0.0563 - accuracy: 0.9833 - val_loss: 0.0596 - val_accuracy: 0.9832\n",
            "Epoch 71/300\n",
            "40/40 [==============================] - 0s 7ms/step - loss: 0.0563 - accuracy: 0.9833 - val_loss: 0.0599 - val_accuracy: 0.9832\n",
            "Epoch 72/300\n",
            "40/40 [==============================] - 0s 9ms/step - loss: 0.0563 - accuracy: 0.9833 - val_loss: 0.0598 - val_accuracy: 0.9832\n",
            "Epoch 73/300\n",
            "40/40 [==============================] - 0s 9ms/step - loss: 0.0562 - accuracy: 0.9833 - val_loss: 0.0596 - val_accuracy: 0.9832\n",
            "Epoch 74/300\n",
            "40/40 [==============================] - 0s 8ms/step - loss: 0.0562 - accuracy: 0.9833 - val_loss: 0.0596 - val_accuracy: 0.9832\n",
            "Epoch 75/300\n",
            "40/40 [==============================] - 0s 4ms/step - loss: 0.0562 - accuracy: 0.9833 - val_loss: 0.0596 - val_accuracy: 0.9832\n",
            "Epoch 76/300\n",
            "40/40 [==============================] - 0s 4ms/step - loss: 0.0562 - accuracy: 0.9833 - val_loss: 0.0597 - val_accuracy: 0.9832\n",
            "Epoch 77/300\n",
            "40/40 [==============================] - 0s 4ms/step - loss: 0.0562 - accuracy: 0.9833 - val_loss: 0.0596 - val_accuracy: 0.9832\n",
            "Epoch 78/300\n",
            "40/40 [==============================] - 0s 3ms/step - loss: 0.0562 - accuracy: 0.9833 - val_loss: 0.0597 - val_accuracy: 0.9832\n",
            "Epoch 79/300\n",
            "40/40 [==============================] - 0s 3ms/step - loss: 0.0562 - accuracy: 0.9833 - val_loss: 0.0596 - val_accuracy: 0.9832\n",
            "Epoch 80/300\n",
            "40/40 [==============================] - 0s 3ms/step - loss: 0.0562 - accuracy: 0.9833 - val_loss: 0.0597 - val_accuracy: 0.9832\n",
            "Epoch 81/300\n",
            "40/40 [==============================] - 0s 3ms/step - loss: 0.0562 - accuracy: 0.9833 - val_loss: 0.0596 - val_accuracy: 0.9832\n",
            "Epoch 82/300\n",
            "40/40 [==============================] - 0s 4ms/step - loss: 0.0562 - accuracy: 0.9833 - val_loss: 0.0597 - val_accuracy: 0.9832\n",
            "Epoch 83/300\n",
            "40/40 [==============================] - 0s 4ms/step - loss: 0.0562 - accuracy: 0.9833 - val_loss: 0.0597 - val_accuracy: 0.9832\n",
            "Epoch 84/300\n",
            "40/40 [==============================] - 0s 4ms/step - loss: 0.0562 - accuracy: 0.9833 - val_loss: 0.0597 - val_accuracy: 0.9832\n",
            "Epoch 85/300\n",
            "40/40 [==============================] - 0s 3ms/step - loss: 0.0562 - accuracy: 0.9833 - val_loss: 0.0597 - val_accuracy: 0.9832\n",
            "Epoch 86/300\n",
            "40/40 [==============================] - 0s 4ms/step - loss: 0.0563 - accuracy: 0.9833 - val_loss: 0.0596 - val_accuracy: 0.9832\n",
            "Epoch 87/300\n",
            "40/40 [==============================] - 0s 4ms/step - loss: 0.0562 - accuracy: 0.9833 - val_loss: 0.0596 - val_accuracy: 0.9832\n",
            "Epoch 88/300\n",
            "40/40 [==============================] - 0s 4ms/step - loss: 0.0562 - accuracy: 0.9833 - val_loss: 0.0598 - val_accuracy: 0.9832\n",
            "Epoch 89/300\n",
            "40/40 [==============================] - 0s 4ms/step - loss: 0.0563 - accuracy: 0.9833 - val_loss: 0.0597 - val_accuracy: 0.9832\n",
            "Epoch 90/300\n",
            "40/40 [==============================] - 0s 4ms/step - loss: 0.0561 - accuracy: 0.9833 - val_loss: 0.0598 - val_accuracy: 0.9832\n",
            "Epoch 91/300\n",
            "40/40 [==============================] - 0s 3ms/step - loss: 0.0562 - accuracy: 0.9833 - val_loss: 0.0599 - val_accuracy: 0.9832\n",
            "Epoch 92/300\n",
            "40/40 [==============================] - 0s 3ms/step - loss: 0.0561 - accuracy: 0.9833 - val_loss: 0.0598 - val_accuracy: 0.9832\n",
            "Epoch 93/300\n",
            "40/40 [==============================] - 0s 3ms/step - loss: 0.0562 - accuracy: 0.9833 - val_loss: 0.0598 - val_accuracy: 0.9832\n",
            "Epoch 94/300\n",
            "40/40 [==============================] - 0s 4ms/step - loss: 0.0561 - accuracy: 0.9833 - val_loss: 0.0597 - val_accuracy: 0.9832\n",
            "Epoch 95/300\n",
            "40/40 [==============================] - 0s 3ms/step - loss: 0.0562 - accuracy: 0.9833 - val_loss: 0.0596 - val_accuracy: 0.9832\n",
            "Epoch 96/300\n",
            "40/40 [==============================] - 0s 4ms/step - loss: 0.0562 - accuracy: 0.9833 - val_loss: 0.0598 - val_accuracy: 0.9832\n",
            "Epoch 97/300\n",
            "40/40 [==============================] - 0s 4ms/step - loss: 0.0562 - accuracy: 0.9833 - val_loss: 0.0597 - val_accuracy: 0.9832\n",
            "Epoch 98/300\n",
            "40/40 [==============================] - 0s 3ms/step - loss: 0.0561 - accuracy: 0.9833 - val_loss: 0.0597 - val_accuracy: 0.9832\n",
            "Epoch 99/300\n",
            "40/40 [==============================] - 0s 4ms/step - loss: 0.0561 - accuracy: 0.9833 - val_loss: 0.0597 - val_accuracy: 0.9832\n",
            "Epoch 100/300\n",
            "40/40 [==============================] - 0s 4ms/step - loss: 0.0561 - accuracy: 0.9833 - val_loss: 0.0597 - val_accuracy: 0.9832\n",
            "Epoch 101/300\n",
            "40/40 [==============================] - 0s 4ms/step - loss: 0.0562 - accuracy: 0.9833 - val_loss: 0.0598 - val_accuracy: 0.9832\n",
            "Epoch 102/300\n",
            "40/40 [==============================] - 0s 3ms/step - loss: 0.0561 - accuracy: 0.9833 - val_loss: 0.0596 - val_accuracy: 0.9832\n",
            "Epoch 103/300\n",
            "40/40 [==============================] - 0s 4ms/step - loss: 0.0561 - accuracy: 0.9833 - val_loss: 0.0596 - val_accuracy: 0.9832\n",
            "Epoch 104/300\n",
            "40/40 [==============================] - 0s 4ms/step - loss: 0.0561 - accuracy: 0.9833 - val_loss: 0.0597 - val_accuracy: 0.9832\n",
            "Epoch 105/300\n",
            "40/40 [==============================] - 0s 3ms/step - loss: 0.0561 - accuracy: 0.9833 - val_loss: 0.0598 - val_accuracy: 0.9832\n",
            "Epoch 106/300\n",
            "40/40 [==============================] - 0s 3ms/step - loss: 0.0562 - accuracy: 0.9833 - val_loss: 0.0596 - val_accuracy: 0.9832\n",
            "Epoch 107/300\n",
            "40/40 [==============================] - 0s 4ms/step - loss: 0.0561 - accuracy: 0.9833 - val_loss: 0.0596 - val_accuracy: 0.9832\n",
            "Epoch 108/300\n",
            "40/40 [==============================] - 0s 4ms/step - loss: 0.0561 - accuracy: 0.9833 - val_loss: 0.0596 - val_accuracy: 0.9832\n",
            "Epoch 109/300\n",
            "40/40 [==============================] - 0s 5ms/step - loss: 0.0561 - accuracy: 0.9833 - val_loss: 0.0597 - val_accuracy: 0.9832\n",
            "Epoch 110/300\n",
            "40/40 [==============================] - 0s 4ms/step - loss: 0.0561 - accuracy: 0.9833 - val_loss: 0.0596 - val_accuracy: 0.9832\n",
            "Epoch 111/300\n",
            "40/40 [==============================] - 0s 5ms/step - loss: 0.0561 - accuracy: 0.9833 - val_loss: 0.0597 - val_accuracy: 0.9832\n",
            "Epoch 112/300\n",
            "40/40 [==============================] - 0s 4ms/step - loss: 0.0561 - accuracy: 0.9833 - val_loss: 0.0599 - val_accuracy: 0.9832\n",
            "Epoch 113/300\n",
            "40/40 [==============================] - 0s 4ms/step - loss: 0.0561 - accuracy: 0.9833 - val_loss: 0.0596 - val_accuracy: 0.9832\n",
            "Epoch 114/300\n",
            "40/40 [==============================] - 0s 3ms/step - loss: 0.0562 - accuracy: 0.9833 - val_loss: 0.0597 - val_accuracy: 0.9832\n",
            "Epoch 115/300\n",
            "40/40 [==============================] - 0s 3ms/step - loss: 0.0561 - accuracy: 0.9833 - val_loss: 0.0597 - val_accuracy: 0.9832\n",
            "Epoch 116/300\n",
            "40/40 [==============================] - 0s 4ms/step - loss: 0.0562 - accuracy: 0.9833 - val_loss: 0.0598 - val_accuracy: 0.9832\n",
            "Epoch 117/300\n",
            "40/40 [==============================] - 0s 3ms/step - loss: 0.0561 - accuracy: 0.9833 - val_loss: 0.0596 - val_accuracy: 0.9832\n",
            "Epoch 118/300\n",
            "40/40 [==============================] - 0s 3ms/step - loss: 0.0562 - accuracy: 0.9833 - val_loss: 0.0597 - val_accuracy: 0.9832\n",
            "Epoch 119/300\n",
            "40/40 [==============================] - 0s 4ms/step - loss: 0.0561 - accuracy: 0.9833 - val_loss: 0.0597 - val_accuracy: 0.9832\n",
            "Epoch 120/300\n",
            "40/40 [==============================] - 0s 4ms/step - loss: 0.0561 - accuracy: 0.9833 - val_loss: 0.0598 - val_accuracy: 0.9832\n",
            "Epoch 121/300\n",
            "40/40 [==============================] - 0s 4ms/step - loss: 0.0561 - accuracy: 0.9833 - val_loss: 0.0596 - val_accuracy: 0.9832\n",
            "Epoch 122/300\n",
            "40/40 [==============================] - 0s 4ms/step - loss: 0.0561 - accuracy: 0.9833 - val_loss: 0.0597 - val_accuracy: 0.9832\n",
            "Epoch 123/300\n",
            "40/40 [==============================] - 0s 3ms/step - loss: 0.0561 - accuracy: 0.9833 - val_loss: 0.0597 - val_accuracy: 0.9832\n",
            "Epoch 124/300\n",
            "40/40 [==============================] - 0s 4ms/step - loss: 0.0561 - accuracy: 0.9833 - val_loss: 0.0596 - val_accuracy: 0.9832\n",
            "Epoch 125/300\n",
            "40/40 [==============================] - 0s 5ms/step - loss: 0.0561 - accuracy: 0.9833 - val_loss: 0.0596 - val_accuracy: 0.9832\n",
            "Epoch 126/300\n",
            "40/40 [==============================] - 0s 5ms/step - loss: 0.0561 - accuracy: 0.9833 - val_loss: 0.0597 - val_accuracy: 0.9832\n",
            "Epoch 127/300\n",
            "40/40 [==============================] - 0s 5ms/step - loss: 0.0561 - accuracy: 0.9833 - val_loss: 0.0597 - val_accuracy: 0.9832\n",
            "Epoch 128/300\n",
            "40/40 [==============================] - 0s 6ms/step - loss: 0.0561 - accuracy: 0.9833 - val_loss: 0.0597 - val_accuracy: 0.9832\n",
            "Epoch 129/300\n",
            "40/40 [==============================] - 0s 6ms/step - loss: 0.0561 - accuracy: 0.9833 - val_loss: 0.0597 - val_accuracy: 0.9832\n",
            "Epoch 130/300\n",
            "40/40 [==============================] - 0s 5ms/step - loss: 0.0560 - accuracy: 0.9833 - val_loss: 0.0596 - val_accuracy: 0.9832\n",
            "Epoch 131/300\n",
            "40/40 [==============================] - 0s 6ms/step - loss: 0.0561 - accuracy: 0.9833 - val_loss: 0.0597 - val_accuracy: 0.9832\n",
            "Epoch 132/300\n",
            "40/40 [==============================] - 0s 6ms/step - loss: 0.0561 - accuracy: 0.9833 - val_loss: 0.0596 - val_accuracy: 0.9832\n",
            "Epoch 133/300\n",
            "40/40 [==============================] - 0s 6ms/step - loss: 0.0561 - accuracy: 0.9833 - val_loss: 0.0598 - val_accuracy: 0.9832\n",
            "Epoch 134/300\n",
            "40/40 [==============================] - 0s 5ms/step - loss: 0.0561 - accuracy: 0.9833 - val_loss: 0.0595 - val_accuracy: 0.9832\n",
            "Epoch 135/300\n",
            "40/40 [==============================] - 0s 6ms/step - loss: 0.0560 - accuracy: 0.9833 - val_loss: 0.0597 - val_accuracy: 0.9832\n",
            "Epoch 136/300\n",
            "40/40 [==============================] - 0s 6ms/step - loss: 0.0561 - accuracy: 0.9833 - val_loss: 0.0596 - val_accuracy: 0.9832\n",
            "Epoch 137/300\n",
            "40/40 [==============================] - 0s 6ms/step - loss: 0.0561 - accuracy: 0.9833 - val_loss: 0.0596 - val_accuracy: 0.9832\n",
            "Epoch 138/300\n",
            "40/40 [==============================] - 0s 6ms/step - loss: 0.0560 - accuracy: 0.9833 - val_loss: 0.0597 - val_accuracy: 0.9832\n",
            "Epoch 139/300\n",
            "40/40 [==============================] - 0s 6ms/step - loss: 0.0561 - accuracy: 0.9833 - val_loss: 0.0595 - val_accuracy: 0.9832\n",
            "Epoch 140/300\n",
            "40/40 [==============================] - 0s 3ms/step - loss: 0.0561 - accuracy: 0.9833 - val_loss: 0.0597 - val_accuracy: 0.9832\n",
            "Epoch 141/300\n",
            "40/40 [==============================] - 0s 4ms/step - loss: 0.0560 - accuracy: 0.9833 - val_loss: 0.0596 - val_accuracy: 0.9832\n",
            "Epoch 142/300\n",
            "40/40 [==============================] - 0s 4ms/step - loss: 0.0561 - accuracy: 0.9833 - val_loss: 0.0596 - val_accuracy: 0.9832\n",
            "Epoch 143/300\n",
            "40/40 [==============================] - 0s 3ms/step - loss: 0.0560 - accuracy: 0.9833 - val_loss: 0.0596 - val_accuracy: 0.9832\n",
            "Epoch 144/300\n",
            "40/40 [==============================] - 0s 3ms/step - loss: 0.0560 - accuracy: 0.9833 - val_loss: 0.0596 - val_accuracy: 0.9832\n",
            "Epoch 145/300\n",
            "40/40 [==============================] - 0s 4ms/step - loss: 0.0560 - accuracy: 0.9833 - val_loss: 0.0596 - val_accuracy: 0.9832\n",
            "Epoch 146/300\n",
            "40/40 [==============================] - 0s 4ms/step - loss: 0.0561 - accuracy: 0.9833 - val_loss: 0.0595 - val_accuracy: 0.9832\n",
            "Epoch 147/300\n",
            "40/40 [==============================] - 0s 3ms/step - loss: 0.0561 - accuracy: 0.9833 - val_loss: 0.0596 - val_accuracy: 0.9832\n",
            "Epoch 148/300\n",
            "40/40 [==============================] - 0s 3ms/step - loss: 0.0561 - accuracy: 0.9833 - val_loss: 0.0595 - val_accuracy: 0.9832\n",
            "Epoch 149/300\n",
            "40/40 [==============================] - 0s 4ms/step - loss: 0.0561 - accuracy: 0.9833 - val_loss: 0.0595 - val_accuracy: 0.9832\n",
            "Epoch 150/300\n",
            "40/40 [==============================] - 0s 4ms/step - loss: 0.0561 - accuracy: 0.9833 - val_loss: 0.0595 - val_accuracy: 0.9832\n",
            "Epoch 151/300\n",
            "40/40 [==============================] - 0s 4ms/step - loss: 0.0561 - accuracy: 0.9833 - val_loss: 0.0597 - val_accuracy: 0.9832\n",
            "Epoch 152/300\n",
            "40/40 [==============================] - 0s 3ms/step - loss: 0.0560 - accuracy: 0.9833 - val_loss: 0.0595 - val_accuracy: 0.9832\n",
            "Epoch 153/300\n",
            "40/40 [==============================] - 0s 3ms/step - loss: 0.0563 - accuracy: 0.9833 - val_loss: 0.0596 - val_accuracy: 0.9832\n",
            "Epoch 154/300\n",
            "40/40 [==============================] - 0s 4ms/step - loss: 0.0560 - accuracy: 0.9833 - val_loss: 0.0596 - val_accuracy: 0.9832\n",
            "Epoch 155/300\n",
            "40/40 [==============================] - 0s 4ms/step - loss: 0.0560 - accuracy: 0.9833 - val_loss: 0.0595 - val_accuracy: 0.9832\n",
            "Epoch 156/300\n",
            "40/40 [==============================] - 0s 4ms/step - loss: 0.0561 - accuracy: 0.9833 - val_loss: 0.0594 - val_accuracy: 0.9832\n",
            "Epoch 157/300\n",
            "40/40 [==============================] - 0s 4ms/step - loss: 0.0560 - accuracy: 0.9833 - val_loss: 0.0596 - val_accuracy: 0.9832\n",
            "Epoch 158/300\n",
            "40/40 [==============================] - 0s 5ms/step - loss: 0.0560 - accuracy: 0.9833 - val_loss: 0.0596 - val_accuracy: 0.9832\n",
            "Epoch 159/300\n",
            "40/40 [==============================] - 0s 4ms/step - loss: 0.0561 - accuracy: 0.9833 - val_loss: 0.0595 - val_accuracy: 0.9832\n",
            "Epoch 160/300\n",
            "40/40 [==============================] - 0s 3ms/step - loss: 0.0560 - accuracy: 0.9833 - val_loss: 0.0599 - val_accuracy: 0.9832\n",
            "Epoch 161/300\n",
            "40/40 [==============================] - 0s 3ms/step - loss: 0.0561 - accuracy: 0.9833 - val_loss: 0.0595 - val_accuracy: 0.9832\n",
            "Epoch 162/300\n",
            "40/40 [==============================] - 0s 4ms/step - loss: 0.0561 - accuracy: 0.9833 - val_loss: 0.0595 - val_accuracy: 0.9832\n",
            "Epoch 163/300\n",
            "40/40 [==============================] - 0s 3ms/step - loss: 0.0560 - accuracy: 0.9833 - val_loss: 0.0597 - val_accuracy: 0.9832\n",
            "Epoch 164/300\n",
            "40/40 [==============================] - 0s 4ms/step - loss: 0.0561 - accuracy: 0.9833 - val_loss: 0.0595 - val_accuracy: 0.9832\n",
            "Epoch 165/300\n",
            "40/40 [==============================] - 0s 4ms/step - loss: 0.0561 - accuracy: 0.9833 - val_loss: 0.0597 - val_accuracy: 0.9832\n",
            "Epoch 166/300\n",
            "40/40 [==============================] - 0s 4ms/step - loss: 0.0560 - accuracy: 0.9833 - val_loss: 0.0595 - val_accuracy: 0.9832\n",
            "Epoch 167/300\n",
            "40/40 [==============================] - 0s 4ms/step - loss: 0.0561 - accuracy: 0.9833 - val_loss: 0.0596 - val_accuracy: 0.9832\n",
            "Epoch 168/300\n",
            "40/40 [==============================] - 0s 4ms/step - loss: 0.0560 - accuracy: 0.9833 - val_loss: 0.0595 - val_accuracy: 0.9832\n",
            "Epoch 169/300\n",
            "40/40 [==============================] - 0s 4ms/step - loss: 0.0561 - accuracy: 0.9833 - val_loss: 0.0595 - val_accuracy: 0.9832\n",
            "Epoch 170/300\n",
            "40/40 [==============================] - 0s 4ms/step - loss: 0.0560 - accuracy: 0.9833 - val_loss: 0.0595 - val_accuracy: 0.9832\n",
            "Epoch 171/300\n",
            "40/40 [==============================] - 0s 4ms/step - loss: 0.0561 - accuracy: 0.9833 - val_loss: 0.0595 - val_accuracy: 0.9832\n",
            "Epoch 172/300\n",
            "40/40 [==============================] - 0s 4ms/step - loss: 0.0560 - accuracy: 0.9833 - val_loss: 0.0596 - val_accuracy: 0.9832\n",
            "Epoch 173/300\n",
            "40/40 [==============================] - 0s 4ms/step - loss: 0.0560 - accuracy: 0.9833 - val_loss: 0.0595 - val_accuracy: 0.9832\n",
            "Epoch 174/300\n",
            "40/40 [==============================] - 0s 4ms/step - loss: 0.0560 - accuracy: 0.9833 - val_loss: 0.0596 - val_accuracy: 0.9832\n",
            "Epoch 175/300\n",
            "40/40 [==============================] - 0s 3ms/step - loss: 0.0560 - accuracy: 0.9833 - val_loss: 0.0595 - val_accuracy: 0.9832\n",
            "Epoch 176/300\n",
            "40/40 [==============================] - 0s 5ms/step - loss: 0.0560 - accuracy: 0.9833 - val_loss: 0.0595 - val_accuracy: 0.9832\n",
            "Epoch 177/300\n",
            "40/40 [==============================] - 0s 4ms/step - loss: 0.0560 - accuracy: 0.9833 - val_loss: 0.0594 - val_accuracy: 0.9832\n",
            "Epoch 178/300\n",
            "40/40 [==============================] - 0s 4ms/step - loss: 0.0560 - accuracy: 0.9833 - val_loss: 0.0595 - val_accuracy: 0.9832\n",
            "Epoch 179/300\n",
            "40/40 [==============================] - 0s 4ms/step - loss: 0.0560 - accuracy: 0.9833 - val_loss: 0.0595 - val_accuracy: 0.9832\n",
            "Epoch 180/300\n",
            "40/40 [==============================] - 0s 4ms/step - loss: 0.0560 - accuracy: 0.9833 - val_loss: 0.0595 - val_accuracy: 0.9832\n",
            "Epoch 181/300\n",
            "40/40 [==============================] - 0s 4ms/step - loss: 0.0560 - accuracy: 0.9833 - val_loss: 0.0597 - val_accuracy: 0.9832\n",
            "Epoch 182/300\n",
            "40/40 [==============================] - 0s 4ms/step - loss: 0.0561 - accuracy: 0.9833 - val_loss: 0.0596 - val_accuracy: 0.9832\n",
            "Epoch 183/300\n",
            "40/40 [==============================] - 0s 4ms/step - loss: 0.0560 - accuracy: 0.9833 - val_loss: 0.0596 - val_accuracy: 0.9832\n",
            "Epoch 184/300\n",
            "40/40 [==============================] - 0s 3ms/step - loss: 0.0560 - accuracy: 0.9833 - val_loss: 0.0596 - val_accuracy: 0.9832\n",
            "Epoch 185/300\n",
            "40/40 [==============================] - 0s 4ms/step - loss: 0.0560 - accuracy: 0.9833 - val_loss: 0.0595 - val_accuracy: 0.9832\n",
            "Epoch 186/300\n",
            "40/40 [==============================] - 0s 4ms/step - loss: 0.0560 - accuracy: 0.9833 - val_loss: 0.0594 - val_accuracy: 0.9832\n",
            "Epoch 187/300\n",
            "40/40 [==============================] - 0s 4ms/step - loss: 0.0561 - accuracy: 0.9833 - val_loss: 0.0595 - val_accuracy: 0.9832\n",
            "Epoch 188/300\n",
            "40/40 [==============================] - 0s 4ms/step - loss: 0.0560 - accuracy: 0.9833 - val_loss: 0.0595 - val_accuracy: 0.9832\n",
            "Epoch 189/300\n",
            "40/40 [==============================] - 0s 4ms/step - loss: 0.0560 - accuracy: 0.9833 - val_loss: 0.0595 - val_accuracy: 0.9832\n",
            "Epoch 190/300\n",
            "40/40 [==============================] - 0s 4ms/step - loss: 0.0561 - accuracy: 0.9833 - val_loss: 0.0595 - val_accuracy: 0.9832\n",
            "Epoch 191/300\n",
            "40/40 [==============================] - 0s 4ms/step - loss: 0.0561 - accuracy: 0.9833 - val_loss: 0.0594 - val_accuracy: 0.9832\n",
            "Epoch 192/300\n",
            "40/40 [==============================] - 0s 4ms/step - loss: 0.0561 - accuracy: 0.9833 - val_loss: 0.0595 - val_accuracy: 0.9832\n",
            "Epoch 193/300\n",
            "40/40 [==============================] - 0s 4ms/step - loss: 0.0560 - accuracy: 0.9833 - val_loss: 0.0596 - val_accuracy: 0.9832\n",
            "Epoch 194/300\n",
            "40/40 [==============================] - 0s 5ms/step - loss: 0.0560 - accuracy: 0.9833 - val_loss: 0.0595 - val_accuracy: 0.9832\n",
            "Epoch 195/300\n",
            "40/40 [==============================] - 0s 4ms/step - loss: 0.0560 - accuracy: 0.9833 - val_loss: 0.0594 - val_accuracy: 0.9832\n",
            "Epoch 196/300\n",
            "40/40 [==============================] - 0s 4ms/step - loss: 0.0560 - accuracy: 0.9833 - val_loss: 0.0597 - val_accuracy: 0.9832\n",
            "Epoch 197/300\n",
            "40/40 [==============================] - 0s 6ms/step - loss: 0.0561 - accuracy: 0.9833 - val_loss: 0.0596 - val_accuracy: 0.9832\n",
            "Epoch 198/300\n",
            "40/40 [==============================] - 0s 6ms/step - loss: 0.0560 - accuracy: 0.9833 - val_loss: 0.0594 - val_accuracy: 0.9832\n",
            "Epoch 199/300\n",
            "40/40 [==============================] - 0s 11ms/step - loss: 0.0560 - accuracy: 0.9833 - val_loss: 0.0596 - val_accuracy: 0.9832\n",
            "Epoch 200/300\n",
            "40/40 [==============================] - 1s 14ms/step - loss: 0.0560 - accuracy: 0.9833 - val_loss: 0.0594 - val_accuracy: 0.9832\n",
            "Epoch 201/300\n",
            "40/40 [==============================] - 0s 9ms/step - loss: 0.0560 - accuracy: 0.9833 - val_loss: 0.0595 - val_accuracy: 0.9832\n",
            "Epoch 202/300\n",
            "40/40 [==============================] - 0s 9ms/step - loss: 0.0560 - accuracy: 0.9833 - val_loss: 0.0595 - val_accuracy: 0.9832\n",
            "Epoch 203/300\n",
            "40/40 [==============================] - 0s 12ms/step - loss: 0.0561 - accuracy: 0.9833 - val_loss: 0.0596 - val_accuracy: 0.9832\n",
            "Epoch 204/300\n",
            "40/40 [==============================] - 0s 9ms/step - loss: 0.0560 - accuracy: 0.9833 - val_loss: 0.0594 - val_accuracy: 0.9832\n",
            "Epoch 205/300\n",
            "40/40 [==============================] - 0s 10ms/step - loss: 0.0561 - accuracy: 0.9833 - val_loss: 0.0595 - val_accuracy: 0.9832\n",
            "Epoch 206/300\n",
            "40/40 [==============================] - 0s 12ms/step - loss: 0.0560 - accuracy: 0.9833 - val_loss: 0.0596 - val_accuracy: 0.9832\n",
            "Epoch 207/300\n",
            "40/40 [==============================] - 0s 10ms/step - loss: 0.0560 - accuracy: 0.9833 - val_loss: 0.0595 - val_accuracy: 0.9832\n",
            "Epoch 208/300\n",
            "40/40 [==============================] - 0s 13ms/step - loss: 0.0560 - accuracy: 0.9833 - val_loss: 0.0596 - val_accuracy: 0.9832\n",
            "Epoch 209/300\n",
            "40/40 [==============================] - 1s 13ms/step - loss: 0.0560 - accuracy: 0.9833 - val_loss: 0.0594 - val_accuracy: 0.9832\n",
            "Epoch 210/300\n",
            "40/40 [==============================] - 0s 12ms/step - loss: 0.0560 - accuracy: 0.9833 - val_loss: 0.0594 - val_accuracy: 0.9832\n",
            "Epoch 211/300\n",
            "40/40 [==============================] - 0s 11ms/step - loss: 0.0560 - accuracy: 0.9833 - val_loss: 0.0595 - val_accuracy: 0.9832\n",
            "Epoch 212/300\n",
            "40/40 [==============================] - 1s 20ms/step - loss: 0.0560 - accuracy: 0.9833 - val_loss: 0.0594 - val_accuracy: 0.9832\n",
            "Epoch 213/300\n",
            "40/40 [==============================] - 0s 8ms/step - loss: 0.0560 - accuracy: 0.9833 - val_loss: 0.0595 - val_accuracy: 0.9832\n",
            "Epoch 214/300\n",
            "40/40 [==============================] - 0s 8ms/step - loss: 0.0560 - accuracy: 0.9833 - val_loss: 0.0594 - val_accuracy: 0.9832\n",
            "Epoch 215/300\n",
            "40/40 [==============================] - 0s 13ms/step - loss: 0.0560 - accuracy: 0.9833 - val_loss: 0.0595 - val_accuracy: 0.9832\n",
            "Epoch 216/300\n",
            "40/40 [==============================] - 0s 7ms/step - loss: 0.0560 - accuracy: 0.9833 - val_loss: 0.0594 - val_accuracy: 0.9832\n",
            "Epoch 217/300\n",
            "40/40 [==============================] - 1s 14ms/step - loss: 0.0560 - accuracy: 0.9833 - val_loss: 0.0596 - val_accuracy: 0.9832\n",
            "Epoch 218/300\n",
            "40/40 [==============================] - 0s 11ms/step - loss: 0.0561 - accuracy: 0.9833 - val_loss: 0.0598 - val_accuracy: 0.9832\n",
            "Epoch 219/300\n",
            "40/40 [==============================] - 0s 8ms/step - loss: 0.0560 - accuracy: 0.9833 - val_loss: 0.0595 - val_accuracy: 0.9832\n",
            "Epoch 220/300\n",
            "40/40 [==============================] - 0s 4ms/step - loss: 0.0561 - accuracy: 0.9833 - val_loss: 0.0594 - val_accuracy: 0.9832\n",
            "Epoch 221/300\n",
            "40/40 [==============================] - 0s 4ms/step - loss: 0.0560 - accuracy: 0.9833 - val_loss: 0.0594 - val_accuracy: 0.9832\n",
            "Epoch 222/300\n",
            "40/40 [==============================] - 0s 5ms/step - loss: 0.0560 - accuracy: 0.9833 - val_loss: 0.0595 - val_accuracy: 0.9832\n",
            "Epoch 223/300\n",
            "40/40 [==============================] - 0s 4ms/step - loss: 0.0560 - accuracy: 0.9833 - val_loss: 0.0596 - val_accuracy: 0.9832\n",
            "Epoch 224/300\n",
            "40/40 [==============================] - 0s 5ms/step - loss: 0.0560 - accuracy: 0.9833 - val_loss: 0.0595 - val_accuracy: 0.9832\n",
            "Epoch 225/300\n",
            "40/40 [==============================] - 0s 4ms/step - loss: 0.0560 - accuracy: 0.9833 - val_loss: 0.0596 - val_accuracy: 0.9832\n",
            "Epoch 226/300\n",
            "40/40 [==============================] - 0s 4ms/step - loss: 0.0560 - accuracy: 0.9833 - val_loss: 0.0594 - val_accuracy: 0.9832\n",
            "Epoch 227/300\n",
            "40/40 [==============================] - 0s 4ms/step - loss: 0.0560 - accuracy: 0.9833 - val_loss: 0.0596 - val_accuracy: 0.9832\n",
            "Epoch 228/300\n",
            "40/40 [==============================] - 0s 4ms/step - loss: 0.0561 - accuracy: 0.9833 - val_loss: 0.0595 - val_accuracy: 0.9832\n",
            "Epoch 229/300\n",
            "40/40 [==============================] - 0s 4ms/step - loss: 0.0560 - accuracy: 0.9833 - val_loss: 0.0595 - val_accuracy: 0.9832\n",
            "Epoch 230/300\n",
            "40/40 [==============================] - 0s 4ms/step - loss: 0.0560 - accuracy: 0.9833 - val_loss: 0.0596 - val_accuracy: 0.9832\n",
            "Epoch 231/300\n",
            "40/40 [==============================] - 0s 4ms/step - loss: 0.0560 - accuracy: 0.9833 - val_loss: 0.0595 - val_accuracy: 0.9832\n",
            "Epoch 232/300\n",
            "40/40 [==============================] - 0s 4ms/step - loss: 0.0560 - accuracy: 0.9833 - val_loss: 0.0595 - val_accuracy: 0.9832\n",
            "Epoch 233/300\n",
            "40/40 [==============================] - 0s 4ms/step - loss: 0.0560 - accuracy: 0.9833 - val_loss: 0.0595 - val_accuracy: 0.9832\n",
            "Epoch 234/300\n",
            "40/40 [==============================] - 0s 4ms/step - loss: 0.0560 - accuracy: 0.9833 - val_loss: 0.0595 - val_accuracy: 0.9832\n",
            "Epoch 235/300\n",
            "40/40 [==============================] - 0s 4ms/step - loss: 0.0560 - accuracy: 0.9833 - val_loss: 0.0594 - val_accuracy: 0.9832\n",
            "Epoch 236/300\n",
            "40/40 [==============================] - 0s 5ms/step - loss: 0.0560 - accuracy: 0.9833 - val_loss: 0.0595 - val_accuracy: 0.9832\n",
            "Epoch 237/300\n",
            "40/40 [==============================] - 0s 4ms/step - loss: 0.0560 - accuracy: 0.9833 - val_loss: 0.0594 - val_accuracy: 0.9832\n",
            "Epoch 238/300\n",
            "40/40 [==============================] - 0s 4ms/step - loss: 0.0560 - accuracy: 0.9833 - val_loss: 0.0595 - val_accuracy: 0.9832\n",
            "Epoch 239/300\n",
            "40/40 [==============================] - 0s 4ms/step - loss: 0.0560 - accuracy: 0.9833 - val_loss: 0.0594 - val_accuracy: 0.9832\n",
            "Epoch 240/300\n",
            "40/40 [==============================] - 0s 3ms/step - loss: 0.0560 - accuracy: 0.9833 - val_loss: 0.0596 - val_accuracy: 0.9832\n",
            "Epoch 241/300\n",
            "40/40 [==============================] - 0s 4ms/step - loss: 0.0560 - accuracy: 0.9833 - val_loss: 0.0595 - val_accuracy: 0.9832\n",
            "Epoch 242/300\n",
            "40/40 [==============================] - 0s 4ms/step - loss: 0.0561 - accuracy: 0.9833 - val_loss: 0.0597 - val_accuracy: 0.9832\n",
            "Epoch 243/300\n",
            "40/40 [==============================] - 0s 4ms/step - loss: 0.0560 - accuracy: 0.9833 - val_loss: 0.0594 - val_accuracy: 0.9832\n",
            "Epoch 244/300\n",
            "40/40 [==============================] - 0s 4ms/step - loss: 0.0560 - accuracy: 0.9833 - val_loss: 0.0595 - val_accuracy: 0.9832\n",
            "Epoch 245/300\n",
            "40/40 [==============================] - 0s 4ms/step - loss: 0.0560 - accuracy: 0.9833 - val_loss: 0.0594 - val_accuracy: 0.9832\n",
            "Epoch 246/300\n",
            "40/40 [==============================] - 0s 4ms/step - loss: 0.0560 - accuracy: 0.9833 - val_loss: 0.0595 - val_accuracy: 0.9832\n",
            "Epoch 247/300\n",
            "40/40 [==============================] - 0s 4ms/step - loss: 0.0560 - accuracy: 0.9833 - val_loss: 0.0595 - val_accuracy: 0.9832\n",
            "Epoch 248/300\n",
            "40/40 [==============================] - 0s 4ms/step - loss: 0.0560 - accuracy: 0.9833 - val_loss: 0.0596 - val_accuracy: 0.9832\n",
            "Epoch 249/300\n",
            "40/40 [==============================] - 0s 4ms/step - loss: 0.0560 - accuracy: 0.9833 - val_loss: 0.0596 - val_accuracy: 0.9832\n",
            "Epoch 250/300\n",
            "40/40 [==============================] - 0s 4ms/step - loss: 0.0560 - accuracy: 0.9833 - val_loss: 0.0594 - val_accuracy: 0.9832\n",
            "Epoch 251/300\n",
            "40/40 [==============================] - 0s 4ms/step - loss: 0.0560 - accuracy: 0.9833 - val_loss: 0.0594 - val_accuracy: 0.9832\n",
            "Epoch 252/300\n",
            "40/40 [==============================] - 0s 4ms/step - loss: 0.0560 - accuracy: 0.9833 - val_loss: 0.0596 - val_accuracy: 0.9832\n",
            "Epoch 253/300\n",
            "40/40 [==============================] - 0s 4ms/step - loss: 0.0561 - accuracy: 0.9833 - val_loss: 0.0594 - val_accuracy: 0.9832\n",
            "Epoch 254/300\n",
            "40/40 [==============================] - 0s 4ms/step - loss: 0.0560 - accuracy: 0.9833 - val_loss: 0.0595 - val_accuracy: 0.9832\n",
            "Epoch 255/300\n",
            "40/40 [==============================] - 0s 4ms/step - loss: 0.0560 - accuracy: 0.9833 - val_loss: 0.0595 - val_accuracy: 0.9832\n",
            "Epoch 256/300\n",
            "40/40 [==============================] - 0s 4ms/step - loss: 0.0560 - accuracy: 0.9833 - val_loss: 0.0595 - val_accuracy: 0.9832\n",
            "Epoch 257/300\n",
            "40/40 [==============================] - 0s 4ms/step - loss: 0.0560 - accuracy: 0.9833 - val_loss: 0.0595 - val_accuracy: 0.9832\n",
            "Epoch 258/300\n",
            "40/40 [==============================] - 0s 5ms/step - loss: 0.0560 - accuracy: 0.9833 - val_loss: 0.0594 - val_accuracy: 0.9832\n",
            "Epoch 259/300\n",
            "40/40 [==============================] - 0s 5ms/step - loss: 0.0561 - accuracy: 0.9833 - val_loss: 0.0594 - val_accuracy: 0.9832\n",
            "Epoch 260/300\n",
            "40/40 [==============================] - 0s 5ms/step - loss: 0.0560 - accuracy: 0.9833 - val_loss: 0.0595 - val_accuracy: 0.9832\n",
            "Epoch 261/300\n",
            "40/40 [==============================] - 0s 5ms/step - loss: 0.0560 - accuracy: 0.9833 - val_loss: 0.0595 - val_accuracy: 0.9832\n",
            "Epoch 262/300\n",
            "40/40 [==============================] - 0s 5ms/step - loss: 0.0561 - accuracy: 0.9833 - val_loss: 0.0595 - val_accuracy: 0.9832\n",
            "Epoch 263/300\n",
            "40/40 [==============================] - 0s 5ms/step - loss: 0.0560 - accuracy: 0.9833 - val_loss: 0.0595 - val_accuracy: 0.9832\n",
            "Epoch 264/300\n",
            "40/40 [==============================] - 0s 6ms/step - loss: 0.0560 - accuracy: 0.9833 - val_loss: 0.0595 - val_accuracy: 0.9832\n",
            "Epoch 265/300\n",
            "40/40 [==============================] - 0s 6ms/step - loss: 0.0561 - accuracy: 0.9833 - val_loss: 0.0595 - val_accuracy: 0.9832\n",
            "Epoch 266/300\n",
            "40/40 [==============================] - 0s 5ms/step - loss: 0.0560 - accuracy: 0.9833 - val_loss: 0.0594 - val_accuracy: 0.9832\n",
            "Epoch 267/300\n",
            "40/40 [==============================] - 0s 6ms/step - loss: 0.0560 - accuracy: 0.9833 - val_loss: 0.0595 - val_accuracy: 0.9832\n",
            "Epoch 268/300\n",
            "40/40 [==============================] - 0s 6ms/step - loss: 0.0560 - accuracy: 0.9833 - val_loss: 0.0595 - val_accuracy: 0.9832\n",
            "Epoch 269/300\n",
            "40/40 [==============================] - 0s 5ms/step - loss: 0.0560 - accuracy: 0.9833 - val_loss: 0.0595 - val_accuracy: 0.9832\n",
            "Epoch 270/300\n",
            "40/40 [==============================] - 0s 5ms/step - loss: 0.0560 - accuracy: 0.9833 - val_loss: 0.0595 - val_accuracy: 0.9832\n",
            "Epoch 271/300\n",
            "40/40 [==============================] - 0s 6ms/step - loss: 0.0560 - accuracy: 0.9833 - val_loss: 0.0597 - val_accuracy: 0.9832\n",
            "Epoch 272/300\n",
            "40/40 [==============================] - 0s 6ms/step - loss: 0.0560 - accuracy: 0.9833 - val_loss: 0.0594 - val_accuracy: 0.9832\n",
            "Epoch 273/300\n",
            "40/40 [==============================] - 0s 6ms/step - loss: 0.0560 - accuracy: 0.9833 - val_loss: 0.0594 - val_accuracy: 0.9832\n",
            "Epoch 274/300\n",
            "40/40 [==============================] - 0s 5ms/step - loss: 0.0560 - accuracy: 0.9833 - val_loss: 0.0594 - val_accuracy: 0.9832\n",
            "Epoch 275/300\n",
            "40/40 [==============================] - 0s 6ms/step - loss: 0.0560 - accuracy: 0.9833 - val_loss: 0.0595 - val_accuracy: 0.9832\n",
            "Epoch 276/300\n",
            "40/40 [==============================] - 0s 5ms/step - loss: 0.0560 - accuracy: 0.9833 - val_loss: 0.0594 - val_accuracy: 0.9832\n",
            "Epoch 277/300\n",
            "40/40 [==============================] - 0s 5ms/step - loss: 0.0560 - accuracy: 0.9833 - val_loss: 0.0595 - val_accuracy: 0.9832\n",
            "Epoch 278/300\n",
            "40/40 [==============================] - 0s 6ms/step - loss: 0.0560 - accuracy: 0.9833 - val_loss: 0.0595 - val_accuracy: 0.9832\n",
            "Epoch 279/300\n",
            "40/40 [==============================] - 0s 4ms/step - loss: 0.0560 - accuracy: 0.9833 - val_loss: 0.0595 - val_accuracy: 0.9832\n",
            "Epoch 280/300\n",
            "40/40 [==============================] - 0s 4ms/step - loss: 0.0560 - accuracy: 0.9833 - val_loss: 0.0594 - val_accuracy: 0.9832\n",
            "Epoch 281/300\n",
            "40/40 [==============================] - 0s 4ms/step - loss: 0.0560 - accuracy: 0.9833 - val_loss: 0.0594 - val_accuracy: 0.9832\n",
            "Epoch 282/300\n",
            "40/40 [==============================] - 0s 4ms/step - loss: 0.0561 - accuracy: 0.9833 - val_loss: 0.0594 - val_accuracy: 0.9832\n",
            "Epoch 283/300\n",
            "40/40 [==============================] - 0s 4ms/step - loss: 0.0561 - accuracy: 0.9833 - val_loss: 0.0595 - val_accuracy: 0.9832\n",
            "Epoch 284/300\n",
            "40/40 [==============================] - 0s 4ms/step - loss: 0.0560 - accuracy: 0.9833 - val_loss: 0.0597 - val_accuracy: 0.9832\n",
            "Epoch 285/300\n",
            "40/40 [==============================] - 0s 4ms/step - loss: 0.0560 - accuracy: 0.9833 - val_loss: 0.0595 - val_accuracy: 0.9832\n",
            "Epoch 286/300\n",
            "40/40 [==============================] - 0s 4ms/step - loss: 0.0560 - accuracy: 0.9833 - val_loss: 0.0594 - val_accuracy: 0.9832\n",
            "Epoch 287/300\n",
            "40/40 [==============================] - 0s 4ms/step - loss: 0.0560 - accuracy: 0.9833 - val_loss: 0.0594 - val_accuracy: 0.9832\n",
            "Epoch 288/300\n",
            "40/40 [==============================] - 0s 4ms/step - loss: 0.0560 - accuracy: 0.9833 - val_loss: 0.0594 - val_accuracy: 0.9832\n",
            "Epoch 289/300\n",
            "40/40 [==============================] - 0s 5ms/step - loss: 0.0560 - accuracy: 0.9833 - val_loss: 0.0596 - val_accuracy: 0.9832\n",
            "Epoch 290/300\n",
            "40/40 [==============================] - 0s 4ms/step - loss: 0.0560 - accuracy: 0.9833 - val_loss: 0.0595 - val_accuracy: 0.9832\n",
            "Epoch 291/300\n",
            "40/40 [==============================] - 0s 4ms/step - loss: 0.0560 - accuracy: 0.9833 - val_loss: 0.0594 - val_accuracy: 0.9832\n",
            "Epoch 292/300\n",
            "40/40 [==============================] - 0s 4ms/step - loss: 0.0561 - accuracy: 0.9833 - val_loss: 0.0594 - val_accuracy: 0.9832\n",
            "Epoch 293/300\n",
            "40/40 [==============================] - 0s 4ms/step - loss: 0.0561 - accuracy: 0.9833 - val_loss: 0.0595 - val_accuracy: 0.9832\n",
            "Epoch 294/300\n",
            "40/40 [==============================] - 0s 4ms/step - loss: 0.0560 - accuracy: 0.9833 - val_loss: 0.0595 - val_accuracy: 0.9832\n",
            "Epoch 295/300\n",
            "40/40 [==============================] - 0s 4ms/step - loss: 0.0561 - accuracy: 0.9833 - val_loss: 0.0596 - val_accuracy: 0.9832\n",
            "Epoch 296/300\n",
            "40/40 [==============================] - 0s 4ms/step - loss: 0.0560 - accuracy: 0.9833 - val_loss: 0.0594 - val_accuracy: 0.9832\n",
            "Epoch 297/300\n",
            "40/40 [==============================] - 0s 4ms/step - loss: 0.0561 - accuracy: 0.9833 - val_loss: 0.0595 - val_accuracy: 0.9832\n",
            "Epoch 298/300\n",
            "40/40 [==============================] - 0s 4ms/step - loss: 0.0560 - accuracy: 0.9833 - val_loss: 0.0595 - val_accuracy: 0.9832\n",
            "Epoch 299/300\n",
            "40/40 [==============================] - 0s 4ms/step - loss: 0.0560 - accuracy: 0.9833 - val_loss: 0.0595 - val_accuracy: 0.9832\n",
            "Epoch 300/300\n",
            "40/40 [==============================] - 0s 4ms/step - loss: 0.0560 - accuracy: 0.9833 - val_loss: 0.0596 - val_accuracy: 0.9832\n"
          ]
        }
      ],
      "source": [
        "if model_selection[model_flag]==\"ALL\" or model_selection[model_flag] == \"AE\":\n",
        "  # training the model on training dataset\n",
        "  his = ae_classifier.fit(predictions, y_test, epochs=300,batch_size=500, validation_split=0.2).history"
      ]
    },
    {
      "cell_type": "code",
      "execution_count": 193,
      "metadata": {
        "id": "yeNS7pLUNYBz",
        "colab": {
          "base_uri": "https://localhost:8080/"
        },
        "outputId": "322430c2-df9f-45c3-9356-0740dce44d7f"
      },
      "outputs": [
        {
          "output_type": "stream",
          "name": "stdout",
          "text": [
            "Saved model to disk\n",
            "Loaded model from disk\n"
          ]
        }
      ],
      "source": [
        "if model_selection[model_flag]==\"ALL\" or model_selection[model_flag] == \"AE\":\n",
        "  filepath = '/content/drive/MyDrive/Colab_Notebooks/Models/ae_classifier_binary_unsw_nb15.json'\n",
        "  weightspath = '/content/drive/MyDrive/Colab_Notebooks/Weights/ae_classifier_binary_unsw_nb15.h5'\n",
        "  if (not path.isfile(filepath)): \n",
        "    # serialize model to JSON\n",
        "    ae_classifier_json = ae_classifier.to_json()\n",
        "    with open(filepath, \"w\") as json_file:\n",
        "      json_file.write(ae_classifier_json)\n",
        "\n",
        "    # serialize weights to HDF5\n",
        "    ae_classifier.save_weights(weightspath)\n",
        "    print(\"Saved model to disk\")\n",
        "\n",
        "    # load json and create model\n",
        "    json_file = open(filepath, 'r')\n",
        "    loaded_model_json = json_file.read()\n",
        "    json_file.close()\n",
        "    ae_classifier = model_from_json(loaded_model_json)\n",
        "\n",
        "    # load weights into new model\n",
        "    ae_classifier.load_weights(weightspath)\n",
        "    print(\"Loaded model from disk\")"
      ]
    },
    {
      "cell_type": "code",
      "execution_count": 194,
      "metadata": {
        "id": "AG42bV79NYFB"
      },
      "outputs": [],
      "source": [
        "if model_selection[model_flag]==\"ALL\" or model_selection[model_flag] == \"AE\":\n",
        "  ae_classifier.compile(optimizer='adam', loss='binary_crossentropy',metrics=['accuracy'])"
      ]
    },
    {
      "cell_type": "code",
      "execution_count": 195,
      "metadata": {
        "id": "13aKBGJcNYHv",
        "colab": {
          "base_uri": "https://localhost:8080/"
        },
        "outputId": "3118eda5-1b2c-4bcb-e7c5-9a55d6eb151a"
      },
      "outputs": [
        {
          "output_type": "stream",
          "name": "stdout",
          "text": [
            "782/782 [==============================] - 2s 2ms/step - loss: 0.7981 - accuracy: 0.4718\n",
            "Test results - Loss: 0.7981157898902893 - Accuracy: 47.17999994754791%\n"
          ]
        }
      ],
      "source": [
        "if model_selection[model_flag]==\"ALL\" or model_selection[model_flag] == \"AE\":\n",
        "  # predicting target attribute on testing dataset\n",
        "  test_results = ae_classifier.evaluate(X_test, y_test, verbose=1)\n",
        "  print(f'Test results - Loss: {test_results[0]} - Accuracy: {test_results[1]*100}%')"
      ]
    },
    {
      "cell_type": "code",
      "execution_count": 196,
      "metadata": {
        "id": "zCWbOaSyN1dH"
      },
      "outputs": [],
      "source": [
        "if model_selection[model_flag]==\"ALL\" or model_selection[model_flag] == \"AE\":\n",
        "  # representation of model layers\n",
        "  plot_model(ae_classifier, to_file='/content/drive/MyDrive/Colab_Notebooks/Plots/ae_classifier_binary.png', show_shapes=True)"
      ]
    },
    {
      "cell_type": "code",
      "execution_count": 197,
      "metadata": {
        "id": "44VaFGgVOBpU",
        "colab": {
          "base_uri": "https://localhost:8080/",
          "height": 472
        },
        "outputId": "799bb1c9-d3e6-423e-f81c-6e66e067c718"
      },
      "outputs": [
        {
          "output_type": "display_data",
          "data": {
            "text/plain": [
              "<Figure size 640x480 with 1 Axes>"
            ],
            "image/png": "[encoded data removed]"
          },
          "metadata": {}
        }
      ],
      "source": [
        "if model_selection[model_flag]==\"ALL\" or model_selection[model_flag] == \"AE\":\n",
        "  # Plot of loss vs epoch of train and test dataset\n",
        "  plt.plot(his['loss'])\n",
        "  plt.plot(his['val_loss'])\n",
        "  plt.title(\"Plot of loss vs epoch for train and test dataset\")\n",
        "  plt.ylabel('loss')\n",
        "  plt.xlabel('epoch')\n",
        "  plt.legend(['train', 'test'], loc='upper right')\n",
        "  plt.savefig('/content/drive/MyDrive/Colab_Notebooks/Plots/ae_classifier_binary_loss.png')\n",
        "  plt.show()"
      ]
    },
    {
      "cell_type": "code",
      "execution_count": 198,
      "metadata": {
        "id": "Am0UB82rOIo1",
        "colab": {
          "base_uri": "https://localhost:8080/",
          "height": 472
        },
        "outputId": "ac54ff8c-f61b-4de0-d1da-ceebb5c7951f"
      },
      "outputs": [
        {
          "output_type": "display_data",
          "data": {
            "text/plain": [
              "<Figure size 640x480 with 1 Axes>"
            ],
            "image/png": "[encoded data removed]"
          },
          "metadata": {}
        }
      ],
      "source": [
        "if model_selection[model_flag]==\"ALL\" or model_selection[model_flag] == \"AE\":\n",
        "  # Plot of accuracy vs epoch of train and test dataset\n",
        "  plt.plot(his['accuracy'])\n",
        "  plt.plot(his['val_accuracy'])\n",
        "  plt.title(\"Plot of accuracy vs epoch for train and test dataset\")\n",
        "  plt.ylabel('accuracy')\n",
        "  plt.xlabel('epoch')\n",
        "  plt.legend(['train', 'test'], loc='best')\n",
        "  plt.savefig('/content/drive/MyDrive/Colab_Notebooks/Plots/ae_classifier_binary_accuracy.png')\n",
        "  plt.show()"
      ]
    },
    {
      "cell_type": "code",
      "execution_count": 199,
      "metadata": {
        "id": "f5OZTlm0OMoW",
        "colab": {
          "base_uri": "https://localhost:8080/"
        },
        "outputId": "b64e139a-9acc-40f2-e7af-f83fa3b73511"
      },
      "outputs": [
        {
          "output_type": "stream",
          "name": "stdout",
          "text": [
            "782/782 [==============================] - 1s 1ms/step\n"
          ]
        }
      ],
      "source": [
        "if model_selection[model_flag]==\"ALL\" or model_selection[model_flag] == \"AE\":\n",
        "  y_pred = ae_classifier.predict(X_test).ravel()\n",
        "  fpr, tpr, thresholds = roc_curve(y_test, y_pred)\n",
        "  #auc = auc(fpr, tpr)"
      ]
    },
    {
      "cell_type": "code",
      "execution_count": 200,
      "metadata": {
        "id": "GbSkwfO2OTkn",
        "colab": {
          "base_uri": "https://localhost:8080/",
          "height": 510
        },
        "outputId": "e0520ee3-cd81-47c0-b8fa-e9564ed76ac3"
      },
      "outputs": [
        {
          "output_type": "stream",
          "name": "stderr",
          "text": [
            "WARNING:matplotlib.legend:No artists with labels found to put in legend.  Note that artists whose label start with an underscore are ignored when legend() is called with no argument.\n"
          ]
        },
        {
          "output_type": "display_data",
          "data": {
            "text/plain": [
              "<Figure size 640x480 with 1 Axes>"
            ],
            "image/png": "[encoded data removed]"
          },
          "metadata": {}
        }
      ],
      "source": [
        "if model_selection[model_flag]==\"ALL\" or model_selection[model_flag] == \"AE\":\n",
        "  plt.plot([0, 1], [0, 1], 'k--')\n",
        "  #plt.plot(fpr, tpr, label='Keras (area = {:.3f})'.format(auc))\n",
        "  plt.plot(fpr, tpr)\n",
        "  plt.xlabel('False positive rate')\n",
        "  plt.ylabel('True positive rate')\n",
        "  plt.title('ROC curve')\n",
        "  plt.legend(loc='best')\n",
        "  plt.savefig('/content/drive/MyDrive/Colab_Notebooks/Plots/ae_binary_roc.png')\n",
        "  plt.show()"
      ]
    },
    {
      "cell_type": "code",
      "execution_count": 201,
      "metadata": {
        "id": "n7Xl74UXOZxm",
        "colab": {
          "base_uri": "https://localhost:8080/"
        },
        "outputId": "d2c592fb-7b86-465e-88b8-e944d6bb0486"
      },
      "outputs": [
        {
          "output_type": "stream",
          "name": "stdout",
          "text": [
            "782/782 [==============================] - 1s 1ms/step\n",
            "782/782 [==============================] - 1s 1ms/step\n"
          ]
        }
      ],
      "source": [
        "if model_selection[model_flag]==\"ALL\" or model_selection[model_flag] == \"AE\":\n",
        "  pred = ae_classifier.predict(X_test)\n",
        "  y_classes = (ae_classifier.predict(X_test)>0.5).astype('int32')"
      ]
    },
    {
      "cell_type": "code",
      "execution_count": 202,
      "metadata": {
        "id": "WA_g3UlXOZ71",
        "colab": {
          "base_uri": "https://localhost:8080/"
        },
        "outputId": "8266f4da-66c2-456e-ba12-9c61c3f418cb"
      },
      "outputs": [
        {
          "output_type": "stream",
          "name": "stdout",
          "text": [
            "Recall Score -  0.9969889235401657\n",
            "F1 Score -  0.5840551863168173\n",
            "Precision Score -  0.4129989308624376\n"
          ]
        }
      ],
      "source": [
        "if model_selection[model_flag]==\"ALL\" or model_selection[model_flag] == \"AE\":\n",
        "  print(\"Recall Score - \",recall_score(y_test,y_classes))\n",
        "  print(\"F1 Score - \",f1_score(y_test,y_classes))\n",
        "  print(\"Precision Score - \",precision_score(y_test,y_classes))"
      ]
    },
    {
      "cell_type": "code",
      "source": [
        "print(classification_report(y_test, y_classes, target_names=['0', '1']))\n",
        "cm = confusion_matrix(y_test, y_classes)\n",
        "disp = ConfusionMatrixDisplay(confusion_matrix=cm,\n",
        "                              display_labels=['0', '1'])\n",
        "disp.plot()\n",
        "\n",
        "plt.show()"
      ],
      "metadata": {
        "colab": {
          "base_uri": "https://localhost:8080/",
          "height": 610
        },
        "id": "UgHHdx0qoryj",
        "outputId": "ee24491f-2cac-42e7-ed34-501778991f0a"
      },
      "execution_count": 203,
      "outputs": [
        {
          "output_type": "stream",
          "name": "stdout",
          "text": [
            "              precision    recall  f1-score   support\n",
            "\n",
            "           0       0.99      0.16      0.28     15701\n",
            "           1       0.41      1.00      0.58      9299\n",
            "\n",
            "    accuracy                           0.47     25000\n",
            "   macro avg       0.70      0.58      0.43     25000\n",
            "weighted avg       0.77      0.47      0.39     25000\n",
            "\n"
          ]
        },
        {
          "output_type": "display_data",
          "data": {
            "text/plain": [
              "<Figure size 640x480 with 2 Axes>"
            ],
            "image/png": "[encoded data removed]"
          },
          "metadata": {}
        }
      ]
    }
  ],
  "metadata": {
    "colab": {
      "provenance": [],
      "include_colab_link": true
    },
    "gpuClass": "standard",
    "kernelspec": {
      "display_name": "Python 3",
      "name": "python3"
    },
    "language_info": {
      "name": "python"
    },
    "accelerator": "GPU"
  },
  "nbformat": 4,
  "nbformat_minor": 0
}