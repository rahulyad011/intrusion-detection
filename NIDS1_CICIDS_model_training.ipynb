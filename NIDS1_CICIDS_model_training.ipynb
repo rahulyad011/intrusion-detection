{
  "cells": [
    {
      "cell_type": "markdown",
      "metadata": {
        "id": "view-in-github",
        "colab_type": "text"
      },
      "source": [
        "<a href=\"https://colab.research.google.com/github/rahulyad011/intrusion-detection/blob/main/NIDS1_CICIDS_model_training.ipynb\" target=\"_parent\"><img src=\"https://colab.research.google.com/assets/colab-badge.svg\" alt=\"Open In Colab\"/></a>"
      ]
    },
    {
      "cell_type": "code",
      "execution_count": 1,
      "metadata": {
        "id": "qXQ8rUmdwaf4"
      },
      "outputs": [],
      "source": [
        "\n",
        "from sklearn.metrics import accuracy_score # for calculating accuracy of model\n",
        "from sklearn.model_selection import train_test_split # for splitting the dataset for training and testing\n",
        "from sklearn.metrics import classification_report # for generating a classification report of model\n",
        "import pickle # saving and loading trained model\n",
        "from os import path\n",
        "import numpy as np\n",
        "import pandas as pd\n",
        "import matplotlib.pyplot as plt\n",
        "\n",
        "# importing library for support vector machine classifier\n",
        "from sklearn.svm import SVC\n",
        "\n",
        "# MLP requirements \n",
        "from keras.layers import Dense # importing dense layer\n",
        "from keras.models import Sequential #importing Sequential layer\n",
        "from keras.models import model_from_json # saving and loading trained model\n",
        "\n",
        "# LSTM requirements \n",
        "from keras.layers import LSTM\n",
        "from keras.layers import Input\n",
        "from keras.models import Model\n",
        "\n",
        "# evaluation metrices\n",
        "from sklearn.metrics import classification_report, confusion_matrix\n",
        "from sklearn.metrics import roc_auc_score\n",
        "from sklearn.metrics import roc_curve, auc\n",
        "from sklearn.metrics import precision_score\n",
        "from sklearn.metrics import recall_score\n",
        "from sklearn.metrics import f1_score\n",
        "\n",
        "# representation of model layers\n",
        "from keras.utils.vis_utils import plot_model"
      ]
    },
    {
      "cell_type": "code",
      "execution_count": 2,
      "metadata": {
        "colab": {
          "base_uri": "https://localhost:8080/"
        },
        "id": "6ZJ0oFGyStIF",
        "outputId": "b3c562ef-9f8e-4167-b7b8-8d461126bebd"
      },
      "outputs": [
        {
          "output_type": "stream",
          "name": "stdout",
          "text": [
            "Mounted at /content/drive\n"
          ]
        }
      ],
      "source": [
        "from google.colab import drive\n",
        "drive.mount('/content/drive')"
      ]
    },
    {
      "cell_type": "code",
      "execution_count": 3,
      "metadata": {
        "colab": {
          "base_uri": "https://localhost:8080/",
          "height": 488
        },
        "id": "Pepa9lW8whHh",
        "outputId": "87cea144-da88-4b87-a10a-02190c4fe385"
      },
      "outputs": [
        {
          "output_type": "execute_result",
          "data": {
            "text/plain": [
              "        destination_port  flow_duration  total_fwd_packets  \\\n",
              "0                     80        3751908                  5   \n",
              "1                     80       83406801                  5   \n",
              "2                     80              2                  2   \n",
              "3                     80       97900308                  8   \n",
              "4                     22       10914142                 21   \n",
              "...                  ...            ...                ...   \n",
              "566143             49362            209                  2   \n",
              "566144                53            582                  1   \n",
              "566145                53          50488                  1   \n",
              "566146                53          90851                  4   \n",
              "566147               443         241013                 10   \n",
              "\n",
              "        total_backward_packets  total_length_of_fwd_packets  \\\n",
              "0                            0                           30   \n",
              "1                            7                          303   \n",
              "2                            0                            0   \n",
              "3                            5                           56   \n",
              "4                           32                         2008   \n",
              "...                        ...                          ...   \n",
              "566143                       0                           12   \n",
              "566144                       1                           54   \n",
              "566145                       1                           54   \n",
              "566146                       2                          140   \n",
              "566147                       7                          559   \n",
              "\n",
              "        total_length_of_bwd_packets  fwd_packet_length_max  \\\n",
              "0                                 0                      6   \n",
              "1                             11595                    291   \n",
              "2                                 0                      0   \n",
              "3                             11607                     20   \n",
              "4                              2745                    640   \n",
              "...                             ...                    ...   \n",
              "566143                            0                      6   \n",
              "566144                          119                     54   \n",
              "566145                           82                     54   \n",
              "566146                          254                     35   \n",
              "566147                         4132                    202   \n",
              "\n",
              "        fwd_packet_length_min  fwd_packet_length_mean  fwd_packet_length_std  \\\n",
              "0                           6                6.000000               0.000000   \n",
              "1                           0               60.600000             128.832449   \n",
              "2                           0                0.000000               0.000000   \n",
              "3                           0                7.000000               5.656854   \n",
              "4                           0               95.619048             140.045163   \n",
              "...                       ...                     ...                    ...   \n",
              "566143                      6                6.000000               0.000000   \n",
              "566144                     54               54.000000               0.000000   \n",
              "566145                     54               54.000000               0.000000   \n",
              "566146                     35               35.000000               0.000000   \n",
              "566147                      0               55.900000              73.025795   \n",
              "\n",
              "        ...  min_seg_size_forward  active_mean  active_std  active_max  \\\n",
              "0       ...                    20          0.0         0.0           0   \n",
              "1       ...                    20       7022.0         0.0        7022   \n",
              "2       ...                    32          0.0         0.0           0   \n",
              "3       ...                    20    4142902.0         0.0     4142902   \n",
              "4       ...                    32          0.0         0.0           0   \n",
              "...     ...                   ...          ...         ...         ...   \n",
              "566143  ...                    20          0.0         0.0           0   \n",
              "566144  ...                    20          0.0         0.0           0   \n",
              "566145  ...                    32          0.0         0.0           0   \n",
              "566146  ...                    20          0.0         0.0           0   \n",
              "566147  ...                    20          0.0         0.0           0   \n",
              "\n",
              "        active_min   idle_mean  idle_std  idle_max  idle_min  binary_label  \n",
              "0                0         0.0       0.0         0         0             0  \n",
              "1             7022  83200000.0       0.0  83200000  83200000             0  \n",
              "2                0         0.0       0.0         0         0             0  \n",
              "3          4142902  93100000.0       0.0  93100000  93100000             0  \n",
              "4                0         0.0       0.0         0         0             0  \n",
              "...            ...         ...       ...       ...       ...           ...  \n",
              "566143           0         0.0       0.0         0         0             1  \n",
              "566144           0         0.0       0.0         0         0             1  \n",
              "566145           0         0.0       0.0         0         0             1  \n",
              "566146           0         0.0       0.0         0         0             1  \n",
              "566147           0         0.0       0.0         0         0             1  \n",
              "\n",
              "[566148 rows x 79 columns]"
            ],
            "text/html": [
              "\n",
              "  <div id=\"df-ad1c98af-3bce-4ddc-96e4-999b7bacc852\">\n",
              "    <div class=\"colab-df-container\">\n",
              "      <div>\n",
              "<style scoped>\n",
              "    .dataframe tbody tr th:only-of-type {\n",
              "        vertical-align: middle;\n",
              "    }\n",
              "\n",
              "    .dataframe tbody tr th {\n",
              "        vertical-align: top;\n",
              "    }\n",
              "\n",
              "    .dataframe thead th {\n",
              "        text-align: right;\n",
              "    }\n",
              "</style>\n",
              "<table border=\"1\" class=\"dataframe\">\n",
              "  <thead>\n",
              "    <tr style=\"text-align: right;\">\n",
              "      <th></th>\n",
              "      <th>destination_port</th>\n",
              "      <th>flow_duration</th>\n",
              "      <th>total_fwd_packets</th>\n",
              "      <th>total_backward_packets</th>\n",
              "      <th>total_length_of_fwd_packets</th>\n",
              "      <th>total_length_of_bwd_packets</th>\n",
              "      <th>fwd_packet_length_max</th>\n",
              "      <th>fwd_packet_length_min</th>\n",
              "      <th>fwd_packet_length_mean</th>\n",
              "      <th>fwd_packet_length_std</th>\n",
              "      <th>...</th>\n",
              "      <th>min_seg_size_forward</th>\n",
              "      <th>active_mean</th>\n",
              "      <th>active_std</th>\n",
              "      <th>active_max</th>\n",
              "      <th>active_min</th>\n",
              "      <th>idle_mean</th>\n",
              "      <th>idle_std</th>\n",
              "      <th>idle_max</th>\n",
              "      <th>idle_min</th>\n",
              "      <th>binary_label</th>\n",
              "    </tr>\n",
              "  </thead>\n",
              "  <tbody>\n",
              "    <tr>\n",
              "      <th>0</th>\n",
              "      <td>80</td>\n",
              "      <td>3751908</td>\n",
              "      <td>5</td>\n",
              "      <td>0</td>\n",
              "      <td>30</td>\n",
              "      <td>0</td>\n",
              "      <td>6</td>\n",
              "      <td>6</td>\n",
              "      <td>6.000000</td>\n",
              "      <td>0.000000</td>\n",
              "      <td>...</td>\n",
              "      <td>20</td>\n",
              "      <td>0.0</td>\n",
              "      <td>0.0</td>\n",
              "      <td>0</td>\n",
              "      <td>0</td>\n",
              "      <td>0.0</td>\n",
              "      <td>0.0</td>\n",
              "      <td>0</td>\n",
              "      <td>0</td>\n",
              "      <td>0</td>\n",
              "    </tr>\n",
              "    <tr>\n",
              "      <th>1</th>\n",
              "      <td>80</td>\n",
              "      <td>83406801</td>\n",
              "      <td>5</td>\n",
              "      <td>7</td>\n",
              "      <td>303</td>\n",
              "      <td>11595</td>\n",
              "      <td>291</td>\n",
              "      <td>0</td>\n",
              "      <td>60.600000</td>\n",
              "      <td>128.832449</td>\n",
              "      <td>...</td>\n",
              "      <td>20</td>\n",
              "      <td>7022.0</td>\n",
              "      <td>0.0</td>\n",
              "      <td>7022</td>\n",
              "      <td>7022</td>\n",
              "      <td>83200000.0</td>\n",
              "      <td>0.0</td>\n",
              "      <td>83200000</td>\n",
              "      <td>83200000</td>\n",
              "      <td>0</td>\n",
              "    </tr>\n",
              "    <tr>\n",
              "      <th>2</th>\n",
              "      <td>80</td>\n",
              "      <td>2</td>\n",
              "      <td>2</td>\n",
              "      <td>0</td>\n",
              "      <td>0</td>\n",
              "      <td>0</td>\n",
              "      <td>0</td>\n",
              "      <td>0</td>\n",
              "      <td>0.000000</td>\n",
              "      <td>0.000000</td>\n",
              "      <td>...</td>\n",
              "      <td>32</td>\n",
              "      <td>0.0</td>\n",
              "      <td>0.0</td>\n",
              "      <td>0</td>\n",
              "      <td>0</td>\n",
              "      <td>0.0</td>\n",
              "      <td>0.0</td>\n",
              "      <td>0</td>\n",
              "      <td>0</td>\n",
              "      <td>0</td>\n",
              "    </tr>\n",
              "    <tr>\n",
              "      <th>3</th>\n",
              "      <td>80</td>\n",
              "      <td>97900308</td>\n",
              "      <td>8</td>\n",
              "      <td>5</td>\n",
              "      <td>56</td>\n",
              "      <td>11607</td>\n",
              "      <td>20</td>\n",
              "      <td>0</td>\n",
              "      <td>7.000000</td>\n",
              "      <td>5.656854</td>\n",
              "      <td>...</td>\n",
              "      <td>20</td>\n",
              "      <td>4142902.0</td>\n",
              "      <td>0.0</td>\n",
              "      <td>4142902</td>\n",
              "      <td>4142902</td>\n",
              "      <td>93100000.0</td>\n",
              "      <td>0.0</td>\n",
              "      <td>93100000</td>\n",
              "      <td>93100000</td>\n",
              "      <td>0</td>\n",
              "    </tr>\n",
              "    <tr>\n",
              "      <th>4</th>\n",
              "      <td>22</td>\n",
              "      <td>10914142</td>\n",
              "      <td>21</td>\n",
              "      <td>32</td>\n",
              "      <td>2008</td>\n",
              "      <td>2745</td>\n",
              "      <td>640</td>\n",
              "      <td>0</td>\n",
              "      <td>95.619048</td>\n",
              "      <td>140.045163</td>\n",
              "      <td>...</td>\n",
              "      <td>32</td>\n",
              "      <td>0.0</td>\n",
              "      <td>0.0</td>\n",
              "      <td>0</td>\n",
              "      <td>0</td>\n",
              "      <td>0.0</td>\n",
              "      <td>0.0</td>\n",
              "      <td>0</td>\n",
              "      <td>0</td>\n",
              "      <td>0</td>\n",
              "    </tr>\n",
              "    <tr>\n",
              "      <th>...</th>\n",
              "      <td>...</td>\n",
              "      <td>...</td>\n",
              "      <td>...</td>\n",
              "      <td>...</td>\n",
              "      <td>...</td>\n",
              "      <td>...</td>\n",
              "      <td>...</td>\n",
              "      <td>...</td>\n",
              "      <td>...</td>\n",
              "      <td>...</td>\n",
              "      <td>...</td>\n",
              "      <td>...</td>\n",
              "      <td>...</td>\n",
              "      <td>...</td>\n",
              "      <td>...</td>\n",
              "      <td>...</td>\n",
              "      <td>...</td>\n",
              "      <td>...</td>\n",
              "      <td>...</td>\n",
              "      <td>...</td>\n",
              "      <td>...</td>\n",
              "    </tr>\n",
              "    <tr>\n",
              "      <th>566143</th>\n",
              "      <td>49362</td>\n",
              "      <td>209</td>\n",
              "      <td>2</td>\n",
              "      <td>0</td>\n",
              "      <td>12</td>\n",
              "      <td>0</td>\n",
              "      <td>6</td>\n",
              "      <td>6</td>\n",
              "      <td>6.000000</td>\n",
              "      <td>0.000000</td>\n",
              "      <td>...</td>\n",
              "      <td>20</td>\n",
              "      <td>0.0</td>\n",
              "      <td>0.0</td>\n",
              "      <td>0</td>\n",
              "      <td>0</td>\n",
              "      <td>0.0</td>\n",
              "      <td>0.0</td>\n",
              "      <td>0</td>\n",
              "      <td>0</td>\n",
              "      <td>1</td>\n",
              "    </tr>\n",
              "    <tr>\n",
              "      <th>566144</th>\n",
              "      <td>53</td>\n",
              "      <td>582</td>\n",
              "      <td>1</td>\n",
              "      <td>1</td>\n",
              "      <td>54</td>\n",
              "      <td>119</td>\n",
              "      <td>54</td>\n",
              "      <td>54</td>\n",
              "      <td>54.000000</td>\n",
              "      <td>0.000000</td>\n",
              "      <td>...</td>\n",
              "      <td>20</td>\n",
              "      <td>0.0</td>\n",
              "      <td>0.0</td>\n",
              "      <td>0</td>\n",
              "      <td>0</td>\n",
              "      <td>0.0</td>\n",
              "      <td>0.0</td>\n",
              "      <td>0</td>\n",
              "      <td>0</td>\n",
              "      <td>1</td>\n",
              "    </tr>\n",
              "    <tr>\n",
              "      <th>566145</th>\n",
              "      <td>53</td>\n",
              "      <td>50488</td>\n",
              "      <td>1</td>\n",
              "      <td>1</td>\n",
              "      <td>54</td>\n",
              "      <td>82</td>\n",
              "      <td>54</td>\n",
              "      <td>54</td>\n",
              "      <td>54.000000</td>\n",
              "      <td>0.000000</td>\n",
              "      <td>...</td>\n",
              "      <td>32</td>\n",
              "      <td>0.0</td>\n",
              "      <td>0.0</td>\n",
              "      <td>0</td>\n",
              "      <td>0</td>\n",
              "      <td>0.0</td>\n",
              "      <td>0.0</td>\n",
              "      <td>0</td>\n",
              "      <td>0</td>\n",
              "      <td>1</td>\n",
              "    </tr>\n",
              "    <tr>\n",
              "      <th>566146</th>\n",
              "      <td>53</td>\n",
              "      <td>90851</td>\n",
              "      <td>4</td>\n",
              "      <td>2</td>\n",
              "      <td>140</td>\n",
              "      <td>254</td>\n",
              "      <td>35</td>\n",
              "      <td>35</td>\n",
              "      <td>35.000000</td>\n",
              "      <td>0.000000</td>\n",
              "      <td>...</td>\n",
              "      <td>20</td>\n",
              "      <td>0.0</td>\n",
              "      <td>0.0</td>\n",
              "      <td>0</td>\n",
              "      <td>0</td>\n",
              "      <td>0.0</td>\n",
              "      <td>0.0</td>\n",
              "      <td>0</td>\n",
              "      <td>0</td>\n",
              "      <td>1</td>\n",
              "    </tr>\n",
              "    <tr>\n",
              "      <th>566147</th>\n",
              "      <td>443</td>\n",
              "      <td>241013</td>\n",
              "      <td>10</td>\n",
              "      <td>7</td>\n",
              "      <td>559</td>\n",
              "      <td>4132</td>\n",
              "      <td>202</td>\n",
              "      <td>0</td>\n",
              "      <td>55.900000</td>\n",
              "      <td>73.025795</td>\n",
              "      <td>...</td>\n",
              "      <td>20</td>\n",
              "      <td>0.0</td>\n",
              "      <td>0.0</td>\n",
              "      <td>0</td>\n",
              "      <td>0</td>\n",
              "      <td>0.0</td>\n",
              "      <td>0.0</td>\n",
              "      <td>0</td>\n",
              "      <td>0</td>\n",
              "      <td>1</td>\n",
              "    </tr>\n",
              "  </tbody>\n",
              "</table>\n",
              "<p>566148 rows × 79 columns</p>\n",
              "</div>\n",
              "      <button class=\"colab-df-convert\" onclick=\"convertToInteractive('df-ad1c98af-3bce-4ddc-96e4-999b7bacc852')\"\n",
              "              title=\"Convert this dataframe to an interactive table.\"\n",
              "              style=\"display:none;\">\n",
              "        \n",
              "  <svg xmlns=\"http://www.w3.org/2000/svg\" height=\"24px\"viewBox=\"0 0 24 24\"\n",
              "       width=\"24px\">\n",
              "    <path d=\"M0 0h24v24H0V0z\" fill=\"none\"/>\n",
              "    <path d=\"M18.56 5.44l.94 2.06.94-2.06 2.06-.94-2.06-.94-.94-2.06-.94 2.06-2.06.94zm-11 1L8.5 8.5l.94-2.06 2.06-.94-2.06-.94L8.5 2.5l-.94 2.06-2.06.94zm10 10l.94 2.06.94-2.06 2.06-.94-2.06-.94-.94-2.06-.94 2.06-2.06.94z\"/><path d=\"M17.41 7.96l-1.37-1.37c-.4-.4-.92-.59-1.43-.59-.52 0-1.04.2-1.43.59L10.3 9.45l-7.72 7.72c-.78.78-.78 2.05 0 2.83L4 21.41c.39.39.9.59 1.41.59.51 0 1.02-.2 1.41-.59l7.78-7.78 2.81-2.81c.8-.78.8-2.07 0-2.86zM5.41 20L4 18.59l7.72-7.72 1.47 1.35L5.41 20z\"/>\n",
              "  </svg>\n",
              "      </button>\n",
              "      \n",
              "  <style>\n",
              "    .colab-df-container {\n",
              "      display:flex;\n",
              "      flex-wrap:wrap;\n",
              "      gap: 12px;\n",
              "    }\n",
              "\n",
              "    .colab-df-convert {\n",
              "      background-color: #E8F0FE;\n",
              "      border: none;\n",
              "      border-radius: 50%;\n",
              "      cursor: pointer;\n",
              "      display: none;\n",
              "      fill: #1967D2;\n",
              "      height: 32px;\n",
              "      padding: 0 0 0 0;\n",
              "      width: 32px;\n",
              "    }\n",
              "\n",
              "    .colab-df-convert:hover {\n",
              "      background-color: #E2EBFA;\n",
              "      box-shadow: 0px 1px 2px rgba(60, 64, 67, 0.3), 0px 1px 3px 1px rgba(60, 64, 67, 0.15);\n",
              "      fill: #174EA6;\n",
              "    }\n",
              "\n",
              "    [theme=dark] .colab-df-convert {\n",
              "      background-color: #3B4455;\n",
              "      fill: #D2E3FC;\n",
              "    }\n",
              "\n",
              "    [theme=dark] .colab-df-convert:hover {\n",
              "      background-color: #434B5C;\n",
              "      box-shadow: 0px 1px 3px 1px rgba(0, 0, 0, 0.15);\n",
              "      filter: drop-shadow(0px 1px 2px rgba(0, 0, 0, 0.3));\n",
              "      fill: #FFFFFF;\n",
              "    }\n",
              "  </style>\n",
              "\n",
              "      <script>\n",
              "        const buttonEl =\n",
              "          document.querySelector('#df-ad1c98af-3bce-4ddc-96e4-999b7bacc852 button.colab-df-convert');\n",
              "        buttonEl.style.display =\n",
              "          google.colab.kernel.accessAllowed ? 'block' : 'none';\n",
              "\n",
              "        async function convertToInteractive(key) {\n",
              "          const element = document.querySelector('#df-ad1c98af-3bce-4ddc-96e4-999b7bacc852');\n",
              "          const dataTable =\n",
              "            await google.colab.kernel.invokeFunction('convertToInteractive',\n",
              "                                                     [key], {});\n",
              "          if (!dataTable) return;\n",
              "\n",
              "          const docLinkHtml = 'Like what you see? Visit the ' +\n",
              "            '<a target=\"_blank\" href=https://colab.research.google.com/notebooks/data_table.ipynb>data table notebook</a>'\n",
              "            + ' to learn more about interactive tables.';\n",
              "          element.innerHTML = '';\n",
              "          dataTable['output_type'] = 'display_data';\n",
              "          await google.colab.output.renderOutput(dataTable, element);\n",
              "          const docLink = document.createElement('div');\n",
              "          docLink.innerHTML = docLinkHtml;\n",
              "          element.appendChild(docLink);\n",
              "        }\n",
              "      </script>\n",
              "    </div>\n",
              "  </div>\n",
              "  "
            ]
          },
          "metadata": {},
          "execution_count": 3
        }
      ],
      "source": [
        "bin_data_total = pd.read_csv(\"/content/drive/MyDrive/Colab_Notebooks/nids_project_data/cicids2017_data/bin_data_processed.csv\")\n",
        "bin_data_total.drop(bin_data_total.columns[0],axis=1,inplace=True)\n",
        "bin_data_total"
      ]
    },
    {
      "cell_type": "code",
      "execution_count": 4,
      "metadata": {
        "colab": {
          "base_uri": "https://localhost:8080/"
        },
        "id": "xHCs0B3sKOa_",
        "outputId": "5632e706-8681-4821-dbe8-a378a4ea1516"
      },
      "outputs": [
        {
          "output_type": "execute_result",
          "data": {
            "text/plain": [
              "1    0.803004\n",
              "0    0.196996\n",
              "Name: binary_label, dtype: float64"
            ]
          },
          "metadata": {},
          "execution_count": 4
        }
      ],
      "source": [
        "# distribution of label class before sampling\n",
        "data_size = bin_data_total.shape[0]\n",
        "# data_size\n",
        "bin_data_total.binary_label.value_counts()/data_size"
      ]
    },
    {
      "cell_type": "code",
      "source": [
        "# numeric feature normalization\n",
        "from sklearn.preprocessing import MinMaxScaler\n",
        "from sklearn.preprocessing import StandardScaler\n",
        "\n",
        "numeric_cols = bin_data_total.select_dtypes(['number']).columns\n",
        "numeric_cols = numeric_cols.drop('binary_label')\n",
        "flag = 0\n",
        "scaler = None\n",
        "if flag:\n",
        "  # using standard scaler for normalizing\n",
        "  scaler = StandardScaler()\n",
        "else:\n",
        "  # using minmax scaler for normalizing\n",
        "  # to avoid negative values after scaling\n",
        "  scaler = MinMaxScaler()\n",
        "\n",
        "def normalization_train(df,col):\n",
        "  for i in col:\n",
        "    arr = df[i]\n",
        "    arr = np.array(arr)\n",
        "    df[i] = scaler.fit_transform(arr.reshape(len(arr),1))\n",
        "  return df\n",
        "\n",
        "def normalization_test(df,col):\n",
        "  for i in col:\n",
        "    arr = df[i]\n",
        "    arr = np.array(arr)\n",
        "    df[i] = scaler.transform(arr.reshape(len(arr),1))\n",
        "  return df\n",
        "\n",
        "# numeric_cols"
      ],
      "metadata": {
        "id": "QAUrPvEIYHoH"
      },
      "execution_count": 5,
      "outputs": []
    },
    {
      "cell_type": "code",
      "execution_count": 6,
      "metadata": {
        "colab": {
          "base_uri": "https://localhost:8080/",
          "height": 488
        },
        "id": "XSTP2AcKJgTF",
        "outputId": "76c28c8e-8018-4d9b-c5d9-404654d5e382"
      },
      "outputs": [
        {
          "output_type": "execute_result",
          "data": {
            "text/plain": [
              "        destination_port  flow_duration  total_fwd_packets  \\\n",
              "69077               3809             47                  1   \n",
              "57887                 80       98129114                  8   \n",
              "27158                 80       11768851                  4   \n",
              "32126                 80        5593510                  5   \n",
              "38922                 80              4                  2   \n",
              "...                  ...            ...                ...   \n",
              "424620             49743          71365                  3   \n",
              "449802               443              1                  2   \n",
              "439012              1060             55                  2   \n",
              "269401             49161              3                  2   \n",
              "333399                53            200                  2   \n",
              "\n",
              "        total_backward_packets  total_length_of_fwd_packets  \\\n",
              "69077                        1                            0   \n",
              "57887                        7                          355   \n",
              "27158                        0                           24   \n",
              "32126                        0                           30   \n",
              "38922                        0                            0   \n",
              "...                        ...                          ...   \n",
              "424620                       1                           18   \n",
              "449802                       0                           12   \n",
              "439012                       2                            4   \n",
              "269401                       0                            4   \n",
              "333399                       2                           90   \n",
              "\n",
              "        total_length_of_bwd_packets  fwd_packet_length_max  \\\n",
              "69077                             6                      0   \n",
              "57887                         11595                    349   \n",
              "27158                             0                      6   \n",
              "32126                             0                      6   \n",
              "38922                             0                      0   \n",
              "...                             ...                    ...   \n",
              "424620                            6                      6   \n",
              "449802                            0                      6   \n",
              "439012                           12                      2   \n",
              "269401                            0                      2   \n",
              "333399                          122                     45   \n",
              "\n",
              "        fwd_packet_length_min  fwd_packet_length_mean  fwd_packet_length_std  \\\n",
              "69077                       0                   0.000               0.000000   \n",
              "57887                       0                  44.375             123.104993   \n",
              "27158                       6                   6.000               0.000000   \n",
              "32126                       6                   6.000               0.000000   \n",
              "38922                       0                   0.000               0.000000   \n",
              "...                       ...                     ...                    ...   \n",
              "424620                      6                   6.000               0.000000   \n",
              "449802                      6                   6.000               0.000000   \n",
              "439012                      2                   2.000               0.000000   \n",
              "269401                      2                   2.000               0.000000   \n",
              "333399                     45                  45.000               0.000000   \n",
              "\n",
              "        ...  min_seg_size_forward  active_mean  active_std  active_max  \\\n",
              "69077   ...                    40          0.0         0.0           0   \n",
              "57887   ...                    20       1007.0         0.0        1007   \n",
              "27158   ...                    20         49.0         0.0          49   \n",
              "32126   ...                    20       1966.0         0.0        1966   \n",
              "38922   ...                    32          0.0         0.0           0   \n",
              "...     ...                   ...          ...         ...         ...   \n",
              "424620  ...                    20          0.0         0.0           0   \n",
              "449802  ...                    20          0.0         0.0           0   \n",
              "439012  ...                    24          0.0         0.0           0   \n",
              "269401  ...                    24          0.0         0.0           0   \n",
              "333399  ...                    32          0.0         0.0           0   \n",
              "\n",
              "        active_min   idle_mean  idle_std  idle_max  idle_min  binary_label  \n",
              "69077            0         0.0       0.0         0         0             0  \n",
              "57887         1007  98100000.0       0.0  98100000  98100000             0  \n",
              "27158           49  11800000.0       0.0  11800000  11800000             0  \n",
              "32126         1966   5591544.0       0.0   5591544   5591544             0  \n",
              "38922            0         0.0       0.0         0         0             0  \n",
              "...            ...         ...       ...       ...       ...           ...  \n",
              "424620           0         0.0       0.0         0         0             1  \n",
              "449802           0         0.0       0.0         0         0             1  \n",
              "439012           0         0.0       0.0         0         0             1  \n",
              "269401           0         0.0       0.0         0         0             1  \n",
              "333399           0         0.0       0.0         0         0             1  \n",
              "\n",
              "[283074 rows x 79 columns]"
            ],
            "text/html": [
              "\n",
              "  <div id=\"df-5efd4151-7c3b-4d77-96e8-3bd517d1af88\">\n",
              "    <div class=\"colab-df-container\">\n",
              "      <div>\n",
              "<style scoped>\n",
              "    .dataframe tbody tr th:only-of-type {\n",
              "        vertical-align: middle;\n",
              "    }\n",
              "\n",
              "    .dataframe tbody tr th {\n",
              "        vertical-align: top;\n",
              "    }\n",
              "\n",
              "    .dataframe thead th {\n",
              "        text-align: right;\n",
              "    }\n",
              "</style>\n",
              "<table border=\"1\" class=\"dataframe\">\n",
              "  <thead>\n",
              "    <tr style=\"text-align: right;\">\n",
              "      <th></th>\n",
              "      <th>destination_port</th>\n",
              "      <th>flow_duration</th>\n",
              "      <th>total_fwd_packets</th>\n",
              "      <th>total_backward_packets</th>\n",
              "      <th>total_length_of_fwd_packets</th>\n",
              "      <th>total_length_of_bwd_packets</th>\n",
              "      <th>fwd_packet_length_max</th>\n",
              "      <th>fwd_packet_length_min</th>\n",
              "      <th>fwd_packet_length_mean</th>\n",
              "      <th>fwd_packet_length_std</th>\n",
              "      <th>...</th>\n",
              "      <th>min_seg_size_forward</th>\n",
              "      <th>active_mean</th>\n",
              "      <th>active_std</th>\n",
              "      <th>active_max</th>\n",
              "      <th>active_min</th>\n",
              "      <th>idle_mean</th>\n",
              "      <th>idle_std</th>\n",
              "      <th>idle_max</th>\n",
              "      <th>idle_min</th>\n",
              "      <th>binary_label</th>\n",
              "    </tr>\n",
              "  </thead>\n",
              "  <tbody>\n",
              "    <tr>\n",
              "      <th>69077</th>\n",
              "      <td>3809</td>\n",
              "      <td>47</td>\n",
              "      <td>1</td>\n",
              "      <td>1</td>\n",
              "      <td>0</td>\n",
              "      <td>6</td>\n",
              "      <td>0</td>\n",
              "      <td>0</td>\n",
              "      <td>0.000</td>\n",
              "      <td>0.000000</td>\n",
              "      <td>...</td>\n",
              "      <td>40</td>\n",
              "      <td>0.0</td>\n",
              "      <td>0.0</td>\n",
              "      <td>0</td>\n",
              "      <td>0</td>\n",
              "      <td>0.0</td>\n",
              "      <td>0.0</td>\n",
              "      <td>0</td>\n",
              "      <td>0</td>\n",
              "      <td>0</td>\n",
              "    </tr>\n",
              "    <tr>\n",
              "      <th>57887</th>\n",
              "      <td>80</td>\n",
              "      <td>98129114</td>\n",
              "      <td>8</td>\n",
              "      <td>7</td>\n",
              "      <td>355</td>\n",
              "      <td>11595</td>\n",
              "      <td>349</td>\n",
              "      <td>0</td>\n",
              "      <td>44.375</td>\n",
              "      <td>123.104993</td>\n",
              "      <td>...</td>\n",
              "      <td>20</td>\n",
              "      <td>1007.0</td>\n",
              "      <td>0.0</td>\n",
              "      <td>1007</td>\n",
              "      <td>1007</td>\n",
              "      <td>98100000.0</td>\n",
              "      <td>0.0</td>\n",
              "      <td>98100000</td>\n",
              "      <td>98100000</td>\n",
              "      <td>0</td>\n",
              "    </tr>\n",
              "    <tr>\n",
              "      <th>27158</th>\n",
              "      <td>80</td>\n",
              "      <td>11768851</td>\n",
              "      <td>4</td>\n",
              "      <td>0</td>\n",
              "      <td>24</td>\n",
              "      <td>0</td>\n",
              "      <td>6</td>\n",
              "      <td>6</td>\n",
              "      <td>6.000</td>\n",
              "      <td>0.000000</td>\n",
              "      <td>...</td>\n",
              "      <td>20</td>\n",
              "      <td>49.0</td>\n",
              "      <td>0.0</td>\n",
              "      <td>49</td>\n",
              "      <td>49</td>\n",
              "      <td>11800000.0</td>\n",
              "      <td>0.0</td>\n",
              "      <td>11800000</td>\n",
              "      <td>11800000</td>\n",
              "      <td>0</td>\n",
              "    </tr>\n",
              "    <tr>\n",
              "      <th>32126</th>\n",
              "      <td>80</td>\n",
              "      <td>5593510</td>\n",
              "      <td>5</td>\n",
              "      <td>0</td>\n",
              "      <td>30</td>\n",
              "      <td>0</td>\n",
              "      <td>6</td>\n",
              "      <td>6</td>\n",
              "      <td>6.000</td>\n",
              "      <td>0.000000</td>\n",
              "      <td>...</td>\n",
              "      <td>20</td>\n",
              "      <td>1966.0</td>\n",
              "      <td>0.0</td>\n",
              "      <td>1966</td>\n",
              "      <td>1966</td>\n",
              "      <td>5591544.0</td>\n",
              "      <td>0.0</td>\n",
              "      <td>5591544</td>\n",
              "      <td>5591544</td>\n",
              "      <td>0</td>\n",
              "    </tr>\n",
              "    <tr>\n",
              "      <th>38922</th>\n",
              "      <td>80</td>\n",
              "      <td>4</td>\n",
              "      <td>2</td>\n",
              "      <td>0</td>\n",
              "      <td>0</td>\n",
              "      <td>0</td>\n",
              "      <td>0</td>\n",
              "      <td>0</td>\n",
              "      <td>0.000</td>\n",
              "      <td>0.000000</td>\n",
              "      <td>...</td>\n",
              "      <td>32</td>\n",
              "      <td>0.0</td>\n",
              "      <td>0.0</td>\n",
              "      <td>0</td>\n",
              "      <td>0</td>\n",
              "      <td>0.0</td>\n",
              "      <td>0.0</td>\n",
              "      <td>0</td>\n",
              "      <td>0</td>\n",
              "      <td>0</td>\n",
              "    </tr>\n",
              "    <tr>\n",
              "      <th>...</th>\n",
              "      <td>...</td>\n",
              "      <td>...</td>\n",
              "      <td>...</td>\n",
              "      <td>...</td>\n",
              "      <td>...</td>\n",
              "      <td>...</td>\n",
              "      <td>...</td>\n",
              "      <td>...</td>\n",
              "      <td>...</td>\n",
              "      <td>...</td>\n",
              "      <td>...</td>\n",
              "      <td>...</td>\n",
              "      <td>...</td>\n",
              "      <td>...</td>\n",
              "      <td>...</td>\n",
              "      <td>...</td>\n",
              "      <td>...</td>\n",
              "      <td>...</td>\n",
              "      <td>...</td>\n",
              "      <td>...</td>\n",
              "      <td>...</td>\n",
              "    </tr>\n",
              "    <tr>\n",
              "      <th>424620</th>\n",
              "      <td>49743</td>\n",
              "      <td>71365</td>\n",
              "      <td>3</td>\n",
              "      <td>1</td>\n",
              "      <td>18</td>\n",
              "      <td>6</td>\n",
              "      <td>6</td>\n",
              "      <td>6</td>\n",
              "      <td>6.000</td>\n",
              "      <td>0.000000</td>\n",
              "      <td>...</td>\n",
              "      <td>20</td>\n",
              "      <td>0.0</td>\n",
              "      <td>0.0</td>\n",
              "      <td>0</td>\n",
              "      <td>0</td>\n",
              "      <td>0.0</td>\n",
              "      <td>0.0</td>\n",
              "      <td>0</td>\n",
              "      <td>0</td>\n",
              "      <td>1</td>\n",
              "    </tr>\n",
              "    <tr>\n",
              "      <th>449802</th>\n",
              "      <td>443</td>\n",
              "      <td>1</td>\n",
              "      <td>2</td>\n",
              "      <td>0</td>\n",
              "      <td>12</td>\n",
              "      <td>0</td>\n",
              "      <td>6</td>\n",
              "      <td>6</td>\n",
              "      <td>6.000</td>\n",
              "      <td>0.000000</td>\n",
              "      <td>...</td>\n",
              "      <td>20</td>\n",
              "      <td>0.0</td>\n",
              "      <td>0.0</td>\n",
              "      <td>0</td>\n",
              "      <td>0</td>\n",
              "      <td>0.0</td>\n",
              "      <td>0.0</td>\n",
              "      <td>0</td>\n",
              "      <td>0</td>\n",
              "      <td>1</td>\n",
              "    </tr>\n",
              "    <tr>\n",
              "      <th>439012</th>\n",
              "      <td>1060</td>\n",
              "      <td>55</td>\n",
              "      <td>2</td>\n",
              "      <td>2</td>\n",
              "      <td>4</td>\n",
              "      <td>12</td>\n",
              "      <td>2</td>\n",
              "      <td>2</td>\n",
              "      <td>2.000</td>\n",
              "      <td>0.000000</td>\n",
              "      <td>...</td>\n",
              "      <td>24</td>\n",
              "      <td>0.0</td>\n",
              "      <td>0.0</td>\n",
              "      <td>0</td>\n",
              "      <td>0</td>\n",
              "      <td>0.0</td>\n",
              "      <td>0.0</td>\n",
              "      <td>0</td>\n",
              "      <td>0</td>\n",
              "      <td>1</td>\n",
              "    </tr>\n",
              "    <tr>\n",
              "      <th>269401</th>\n",
              "      <td>49161</td>\n",
              "      <td>3</td>\n",
              "      <td>2</td>\n",
              "      <td>0</td>\n",
              "      <td>4</td>\n",
              "      <td>0</td>\n",
              "      <td>2</td>\n",
              "      <td>2</td>\n",
              "      <td>2.000</td>\n",
              "      <td>0.000000</td>\n",
              "      <td>...</td>\n",
              "      <td>24</td>\n",
              "      <td>0.0</td>\n",
              "      <td>0.0</td>\n",
              "      <td>0</td>\n",
              "      <td>0</td>\n",
              "      <td>0.0</td>\n",
              "      <td>0.0</td>\n",
              "      <td>0</td>\n",
              "      <td>0</td>\n",
              "      <td>1</td>\n",
              "    </tr>\n",
              "    <tr>\n",
              "      <th>333399</th>\n",
              "      <td>53</td>\n",
              "      <td>200</td>\n",
              "      <td>2</td>\n",
              "      <td>2</td>\n",
              "      <td>90</td>\n",
              "      <td>122</td>\n",
              "      <td>45</td>\n",
              "      <td>45</td>\n",
              "      <td>45.000</td>\n",
              "      <td>0.000000</td>\n",
              "      <td>...</td>\n",
              "      <td>32</td>\n",
              "      <td>0.0</td>\n",
              "      <td>0.0</td>\n",
              "      <td>0</td>\n",
              "      <td>0</td>\n",
              "      <td>0.0</td>\n",
              "      <td>0.0</td>\n",
              "      <td>0</td>\n",
              "      <td>0</td>\n",
              "      <td>1</td>\n",
              "    </tr>\n",
              "  </tbody>\n",
              "</table>\n",
              "<p>283074 rows × 79 columns</p>\n",
              "</div>\n",
              "      <button class=\"colab-df-convert\" onclick=\"convertToInteractive('df-5efd4151-7c3b-4d77-96e8-3bd517d1af88')\"\n",
              "              title=\"Convert this dataframe to an interactive table.\"\n",
              "              style=\"display:none;\">\n",
              "        \n",
              "  <svg xmlns=\"http://www.w3.org/2000/svg\" height=\"24px\"viewBox=\"0 0 24 24\"\n",
              "       width=\"24px\">\n",
              "    <path d=\"M0 0h24v24H0V0z\" fill=\"none\"/>\n",
              "    <path d=\"M18.56 5.44l.94 2.06.94-2.06 2.06-.94-2.06-.94-.94-2.06-.94 2.06-2.06.94zm-11 1L8.5 8.5l.94-2.06 2.06-.94-2.06-.94L8.5 2.5l-.94 2.06-2.06.94zm10 10l.94 2.06.94-2.06 2.06-.94-2.06-.94-.94-2.06-.94 2.06-2.06.94z\"/><path d=\"M17.41 7.96l-1.37-1.37c-.4-.4-.92-.59-1.43-.59-.52 0-1.04.2-1.43.59L10.3 9.45l-7.72 7.72c-.78.78-.78 2.05 0 2.83L4 21.41c.39.39.9.59 1.41.59.51 0 1.02-.2 1.41-.59l7.78-7.78 2.81-2.81c.8-.78.8-2.07 0-2.86zM5.41 20L4 18.59l7.72-7.72 1.47 1.35L5.41 20z\"/>\n",
              "  </svg>\n",
              "      </button>\n",
              "      \n",
              "  <style>\n",
              "    .colab-df-container {\n",
              "      display:flex;\n",
              "      flex-wrap:wrap;\n",
              "      gap: 12px;\n",
              "    }\n",
              "\n",
              "    .colab-df-convert {\n",
              "      background-color: #E8F0FE;\n",
              "      border: none;\n",
              "      border-radius: 50%;\n",
              "      cursor: pointer;\n",
              "      display: none;\n",
              "      fill: #1967D2;\n",
              "      height: 32px;\n",
              "      padding: 0 0 0 0;\n",
              "      width: 32px;\n",
              "    }\n",
              "\n",
              "    .colab-df-convert:hover {\n",
              "      background-color: #E2EBFA;\n",
              "      box-shadow: 0px 1px 2px rgba(60, 64, 67, 0.3), 0px 1px 3px 1px rgba(60, 64, 67, 0.15);\n",
              "      fill: #174EA6;\n",
              "    }\n",
              "\n",
              "    [theme=dark] .colab-df-convert {\n",
              "      background-color: #3B4455;\n",
              "      fill: #D2E3FC;\n",
              "    }\n",
              "\n",
              "    [theme=dark] .colab-df-convert:hover {\n",
              "      background-color: #434B5C;\n",
              "      box-shadow: 0px 1px 3px 1px rgba(0, 0, 0, 0.15);\n",
              "      filter: drop-shadow(0px 1px 2px rgba(0, 0, 0, 0.3));\n",
              "      fill: #FFFFFF;\n",
              "    }\n",
              "  </style>\n",
              "\n",
              "      <script>\n",
              "        const buttonEl =\n",
              "          document.querySelector('#df-5efd4151-7c3b-4d77-96e8-3bd517d1af88 button.colab-df-convert');\n",
              "        buttonEl.style.display =\n",
              "          google.colab.kernel.accessAllowed ? 'block' : 'none';\n",
              "\n",
              "        async function convertToInteractive(key) {\n",
              "          const element = document.querySelector('#df-5efd4151-7c3b-4d77-96e8-3bd517d1af88');\n",
              "          const dataTable =\n",
              "            await google.colab.kernel.invokeFunction('convertToInteractive',\n",
              "                                                     [key], {});\n",
              "          if (!dataTable) return;\n",
              "\n",
              "          const docLinkHtml = 'Like what you see? Visit the ' +\n",
              "            '<a target=\"_blank\" href=https://colab.research.google.com/notebooks/data_table.ipynb>data table notebook</a>'\n",
              "            + ' to learn more about interactive tables.';\n",
              "          element.innerHTML = '';\n",
              "          dataTable['output_type'] = 'display_data';\n",
              "          await google.colab.output.renderOutput(dataTable, element);\n",
              "          const docLink = document.createElement('div');\n",
              "          docLink.innerHTML = docLinkHtml;\n",
              "          element.appendChild(docLink);\n",
              "        }\n",
              "      </script>\n",
              "    </div>\n",
              "  </div>\n",
              "  "
            ]
          },
          "metadata": {},
          "execution_count": 6
        }
      ],
      "source": [
        "# sampling data taking only 20% of the data\n",
        "bin_data = bin_data_total.groupby('binary_label', group_keys=False).apply(lambda x: x.sample(frac=0.5))\n",
        "bin_data"
      ]
    },
    {
      "cell_type": "code",
      "execution_count": 7,
      "metadata": {
        "colab": {
          "base_uri": "https://localhost:8080/"
        },
        "id": "nKX2TRG0J85J",
        "outputId": "4768401e-5d46-4054-9e4b-31bc4e3a305e"
      },
      "outputs": [
        {
          "output_type": "execute_result",
          "data": {
            "text/plain": [
              "1    0.803006\n",
              "0    0.196994\n",
              "Name: binary_label, dtype: float64"
            ]
          },
          "metadata": {},
          "execution_count": 7
        }
      ],
      "source": [
        "# distribution of label class after sampling\n",
        "data_size = bin_data.shape[0]\n",
        "bin_data.binary_label.value_counts()/data_size"
      ]
    },
    {
      "cell_type": "code",
      "execution_count": 8,
      "metadata": {
        "id": "L11T2MepDzax"
      },
      "outputs": [],
      "source": [
        "model_selection = {\n",
        "    0 : \"ALL\",\n",
        "    2 : \"MLP\",\n",
        "    3 : \"LSTM\",\n",
        "    4 : \"AE\"\n",
        "}\n",
        "model_flag = 0\n",
        "svm_enable = 0"
      ]
    },
    {
      "cell_type": "code",
      "execution_count": 9,
      "metadata": {
        "id": "OdRAXVlsxUVW"
      },
      "outputs": [],
      "source": [
        "X = bin_data.iloc[:,0:78] # dataset excluding target attribute (encoded, one-hot-encoded,original)\n",
        "Y = bin_data['binary_label'] # target attribute"
      ]
    },
    {
      "cell_type": "code",
      "execution_count": 10,
      "metadata": {
        "id": "lFdHHvRtxU5B"
      },
      "outputs": [],
      "source": [
        "# splitting the dataset 75% for training and 25% testing\n",
        "X_train, X_test, y_train, y_test = train_test_split(X,Y, test_size=0.25, random_state=42) "
      ]
    },
    {
      "cell_type": "code",
      "source": [
        "# calling the normalization() function\n",
        "X_train = normalization_train(X_train,numeric_cols)\n",
        "X_train.head()"
      ],
      "metadata": {
        "colab": {
          "base_uri": "https://localhost:8080/",
          "height": 300
        },
        "id": "SLLlMtsaYJdK",
        "outputId": "fa3c2f1b-1c58-4d94-d63b-dcd1e60ab1f2"
      },
      "execution_count": 11,
      "outputs": [
        {
          "output_type": "execute_result",
          "data": {
            "text/plain": [
              "        destination_port  flow_duration  total_fwd_packets  \\\n",
              "58315           0.001221       0.001578           0.000011   \n",
              "491867          0.000809       0.000002           0.000006   \n",
              "136893          0.000809       0.001655           0.000006   \n",
              "25962           0.001221       0.821706           0.000033   \n",
              "393484          0.001221       0.050815           0.000011   \n",
              "\n",
              "        total_backward_packets  total_length_of_fwd_packets  \\\n",
              "58315                 0.000021                     0.000028   \n",
              "491867                0.000008                     0.000142   \n",
              "136893                0.000008                     0.000089   \n",
              "25962                 0.000025                     0.000437   \n",
              "393484                0.000004                     0.000000   \n",
              "\n",
              "        total_length_of_bwd_packets  fwd_packet_length_max  \\\n",
              "58315                  1.851196e-05               0.000856   \n",
              "491867                 6.156300e-07               0.002783   \n",
              "136893                 1.818182e-07               0.001755   \n",
              "25962                  1.849282e-05               0.017166   \n",
              "393484                 0.000000e+00               0.000000   \n",
              "\n",
              "        fwd_packet_length_min  fwd_packet_length_mean  fwd_packet_length_std  \\\n",
              "58315                0.000000                0.001691               0.001771   \n",
              "491867               0.031477                0.012684               0.000000   \n",
              "136893               0.019855                0.008001               0.000000   \n",
              "25962                0.000000                0.011179               0.026147   \n",
              "393484               0.000000                0.000000               0.000000   \n",
              "\n",
              "        ...  act_data_pkt_fwd  min_seg_size_forward   active_mean  active_std  \\\n",
              "58315   ...          0.000013              0.999999  0.000000e+00         0.0   \n",
              "491867  ...          0.000007              0.999999  0.000000e+00         0.0   \n",
              "136893  ...          0.000007              0.999999  0.000000e+00         0.0   \n",
              "25962   ...          0.000007              0.999999  4.424779e-08         0.0   \n",
              "393484  ...          0.000000              0.999999  0.000000e+00         0.0   \n",
              "\n",
              "          active_max    active_min  idle_mean  idle_std  idle_max  idle_min  \n",
              "58315   0.000000e+00  0.000000e+00   0.000000       0.0  0.000000  0.000000  \n",
              "491867  0.000000e+00  0.000000e+00   0.000000       0.0  0.000000  0.000000  \n",
              "136893  0.000000e+00  0.000000e+00   0.000000       0.0  0.000000  0.000000  \n",
              "25962   2.219756e-08  4.444444e-08   0.821667       0.0  0.821667  0.821667  \n",
              "393484  0.000000e+00  0.000000e+00   0.000000       0.0  0.000000  0.000000  \n",
              "\n",
              "[5 rows x 78 columns]"
            ],
            "text/html": [
              "\n",
              "  <div id=\"df-a7a90226-863e-4929-a364-d9acf42a40a3\">\n",
              "    <div class=\"colab-df-container\">\n",
              "      <div>\n",
              "<style scoped>\n",
              "    .dataframe tbody tr th:only-of-type {\n",
              "        vertical-align: middle;\n",
              "    }\n",
              "\n",
              "    .dataframe tbody tr th {\n",
              "        vertical-align: top;\n",
              "    }\n",
              "\n",
              "    .dataframe thead th {\n",
              "        text-align: right;\n",
              "    }\n",
              "</style>\n",
              "<table border=\"1\" class=\"dataframe\">\n",
              "  <thead>\n",
              "    <tr style=\"text-align: right;\">\n",
              "      <th></th>\n",
              "      <th>destination_port</th>\n",
              "      <th>flow_duration</th>\n",
              "      <th>total_fwd_packets</th>\n",
              "      <th>total_backward_packets</th>\n",
              "      <th>total_length_of_fwd_packets</th>\n",
              "      <th>total_length_of_bwd_packets</th>\n",
              "      <th>fwd_packet_length_max</th>\n",
              "      <th>fwd_packet_length_min</th>\n",
              "      <th>fwd_packet_length_mean</th>\n",
              "      <th>fwd_packet_length_std</th>\n",
              "      <th>...</th>\n",
              "      <th>act_data_pkt_fwd</th>\n",
              "      <th>min_seg_size_forward</th>\n",
              "      <th>active_mean</th>\n",
              "      <th>active_std</th>\n",
              "      <th>active_max</th>\n",
              "      <th>active_min</th>\n",
              "      <th>idle_mean</th>\n",
              "      <th>idle_std</th>\n",
              "      <th>idle_max</th>\n",
              "      <th>idle_min</th>\n",
              "    </tr>\n",
              "  </thead>\n",
              "  <tbody>\n",
              "    <tr>\n",
              "      <th>58315</th>\n",
              "      <td>0.001221</td>\n",
              "      <td>0.001578</td>\n",
              "      <td>0.000011</td>\n",
              "      <td>0.000021</td>\n",
              "      <td>0.000028</td>\n",
              "      <td>1.851196e-05</td>\n",
              "      <td>0.000856</td>\n",
              "      <td>0.000000</td>\n",
              "      <td>0.001691</td>\n",
              "      <td>0.001771</td>\n",
              "      <td>...</td>\n",
              "      <td>0.000013</td>\n",
              "      <td>0.999999</td>\n",
              "      <td>0.000000e+00</td>\n",
              "      <td>0.0</td>\n",
              "      <td>0.000000e+00</td>\n",
              "      <td>0.000000e+00</td>\n",
              "      <td>0.000000</td>\n",
              "      <td>0.0</td>\n",
              "      <td>0.000000</td>\n",
              "      <td>0.000000</td>\n",
              "    </tr>\n",
              "    <tr>\n",
              "      <th>491867</th>\n",
              "      <td>0.000809</td>\n",
              "      <td>0.000002</td>\n",
              "      <td>0.000006</td>\n",
              "      <td>0.000008</td>\n",
              "      <td>0.000142</td>\n",
              "      <td>6.156300e-07</td>\n",
              "      <td>0.002783</td>\n",
              "      <td>0.031477</td>\n",
              "      <td>0.012684</td>\n",
              "      <td>0.000000</td>\n",
              "      <td>...</td>\n",
              "      <td>0.000007</td>\n",
              "      <td>0.999999</td>\n",
              "      <td>0.000000e+00</td>\n",
              "      <td>0.0</td>\n",
              "      <td>0.000000e+00</td>\n",
              "      <td>0.000000e+00</td>\n",
              "      <td>0.000000</td>\n",
              "      <td>0.0</td>\n",
              "      <td>0.000000</td>\n",
              "      <td>0.000000</td>\n",
              "    </tr>\n",
              "    <tr>\n",
              "      <th>136893</th>\n",
              "      <td>0.000809</td>\n",
              "      <td>0.001655</td>\n",
              "      <td>0.000006</td>\n",
              "      <td>0.000008</td>\n",
              "      <td>0.000089</td>\n",
              "      <td>1.818182e-07</td>\n",
              "      <td>0.001755</td>\n",
              "      <td>0.019855</td>\n",
              "      <td>0.008001</td>\n",
              "      <td>0.000000</td>\n",
              "      <td>...</td>\n",
              "      <td>0.000007</td>\n",
              "      <td>0.999999</td>\n",
              "      <td>0.000000e+00</td>\n",
              "      <td>0.0</td>\n",
              "      <td>0.000000e+00</td>\n",
              "      <td>0.000000e+00</td>\n",
              "      <td>0.000000</td>\n",
              "      <td>0.0</td>\n",
              "      <td>0.000000</td>\n",
              "      <td>0.000000</td>\n",
              "    </tr>\n",
              "    <tr>\n",
              "      <th>25962</th>\n",
              "      <td>0.001221</td>\n",
              "      <td>0.821706</td>\n",
              "      <td>0.000033</td>\n",
              "      <td>0.000025</td>\n",
              "      <td>0.000437</td>\n",
              "      <td>1.849282e-05</td>\n",
              "      <td>0.017166</td>\n",
              "      <td>0.000000</td>\n",
              "      <td>0.011179</td>\n",
              "      <td>0.026147</td>\n",
              "      <td>...</td>\n",
              "      <td>0.000007</td>\n",
              "      <td>0.999999</td>\n",
              "      <td>4.424779e-08</td>\n",
              "      <td>0.0</td>\n",
              "      <td>2.219756e-08</td>\n",
              "      <td>4.444444e-08</td>\n",
              "      <td>0.821667</td>\n",
              "      <td>0.0</td>\n",
              "      <td>0.821667</td>\n",
              "      <td>0.821667</td>\n",
              "    </tr>\n",
              "    <tr>\n",
              "      <th>393484</th>\n",
              "      <td>0.001221</td>\n",
              "      <td>0.050815</td>\n",
              "      <td>0.000011</td>\n",
              "      <td>0.000004</td>\n",
              "      <td>0.000000</td>\n",
              "      <td>0.000000e+00</td>\n",
              "      <td>0.000000</td>\n",
              "      <td>0.000000</td>\n",
              "      <td>0.000000</td>\n",
              "      <td>0.000000</td>\n",
              "      <td>...</td>\n",
              "      <td>0.000000</td>\n",
              "      <td>0.999999</td>\n",
              "      <td>0.000000e+00</td>\n",
              "      <td>0.0</td>\n",
              "      <td>0.000000e+00</td>\n",
              "      <td>0.000000e+00</td>\n",
              "      <td>0.000000</td>\n",
              "      <td>0.0</td>\n",
              "      <td>0.000000</td>\n",
              "      <td>0.000000</td>\n",
              "    </tr>\n",
              "  </tbody>\n",
              "</table>\n",
              "<p>5 rows × 78 columns</p>\n",
              "</div>\n",
              "      <button class=\"colab-df-convert\" onclick=\"convertToInteractive('df-a7a90226-863e-4929-a364-d9acf42a40a3')\"\n",
              "              title=\"Convert this dataframe to an interactive table.\"\n",
              "              style=\"display:none;\">\n",
              "        \n",
              "  <svg xmlns=\"http://www.w3.org/2000/svg\" height=\"24px\"viewBox=\"0 0 24 24\"\n",
              "       width=\"24px\">\n",
              "    <path d=\"M0 0h24v24H0V0z\" fill=\"none\"/>\n",
              "    <path d=\"M18.56 5.44l.94 2.06.94-2.06 2.06-.94-2.06-.94-.94-2.06-.94 2.06-2.06.94zm-11 1L8.5 8.5l.94-2.06 2.06-.94-2.06-.94L8.5 2.5l-.94 2.06-2.06.94zm10 10l.94 2.06.94-2.06 2.06-.94-2.06-.94-.94-2.06-.94 2.06-2.06.94z\"/><path d=\"M17.41 7.96l-1.37-1.37c-.4-.4-.92-.59-1.43-.59-.52 0-1.04.2-1.43.59L10.3 9.45l-7.72 7.72c-.78.78-.78 2.05 0 2.83L4 21.41c.39.39.9.59 1.41.59.51 0 1.02-.2 1.41-.59l7.78-7.78 2.81-2.81c.8-.78.8-2.07 0-2.86zM5.41 20L4 18.59l7.72-7.72 1.47 1.35L5.41 20z\"/>\n",
              "  </svg>\n",
              "      </button>\n",
              "      \n",
              "  <style>\n",
              "    .colab-df-container {\n",
              "      display:flex;\n",
              "      flex-wrap:wrap;\n",
              "      gap: 12px;\n",
              "    }\n",
              "\n",
              "    .colab-df-convert {\n",
              "      background-color: #E8F0FE;\n",
              "      border: none;\n",
              "      border-radius: 50%;\n",
              "      cursor: pointer;\n",
              "      display: none;\n",
              "      fill: #1967D2;\n",
              "      height: 32px;\n",
              "      padding: 0 0 0 0;\n",
              "      width: 32px;\n",
              "    }\n",
              "\n",
              "    .colab-df-convert:hover {\n",
              "      background-color: #E2EBFA;\n",
              "      box-shadow: 0px 1px 2px rgba(60, 64, 67, 0.3), 0px 1px 3px 1px rgba(60, 64, 67, 0.15);\n",
              "      fill: #174EA6;\n",
              "    }\n",
              "\n",
              "    [theme=dark] .colab-df-convert {\n",
              "      background-color: #3B4455;\n",
              "      fill: #D2E3FC;\n",
              "    }\n",
              "\n",
              "    [theme=dark] .colab-df-convert:hover {\n",
              "      background-color: #434B5C;\n",
              "      box-shadow: 0px 1px 3px 1px rgba(0, 0, 0, 0.15);\n",
              "      filter: drop-shadow(0px 1px 2px rgba(0, 0, 0, 0.3));\n",
              "      fill: #FFFFFF;\n",
              "    }\n",
              "  </style>\n",
              "\n",
              "      <script>\n",
              "        const buttonEl =\n",
              "          document.querySelector('#df-a7a90226-863e-4929-a364-d9acf42a40a3 button.colab-df-convert');\n",
              "        buttonEl.style.display =\n",
              "          google.colab.kernel.accessAllowed ? 'block' : 'none';\n",
              "\n",
              "        async function convertToInteractive(key) {\n",
              "          const element = document.querySelector('#df-a7a90226-863e-4929-a364-d9acf42a40a3');\n",
              "          const dataTable =\n",
              "            await google.colab.kernel.invokeFunction('convertToInteractive',\n",
              "                                                     [key], {});\n",
              "          if (!dataTable) return;\n",
              "\n",
              "          const docLinkHtml = 'Like what you see? Visit the ' +\n",
              "            '<a target=\"_blank\" href=https://colab.research.google.com/notebooks/data_table.ipynb>data table notebook</a>'\n",
              "            + ' to learn more about interactive tables.';\n",
              "          element.innerHTML = '';\n",
              "          dataTable['output_type'] = 'display_data';\n",
              "          await google.colab.output.renderOutput(dataTable, element);\n",
              "          const docLink = document.createElement('div');\n",
              "          docLink.innerHTML = docLinkHtml;\n",
              "          element.appendChild(docLink);\n",
              "        }\n",
              "      </script>\n",
              "    </div>\n",
              "  </div>\n",
              "  "
            ]
          },
          "metadata": {},
          "execution_count": 11
        }
      ]
    },
    {
      "cell_type": "code",
      "source": [
        "# calling the normalization() function\n",
        "X_test = normalization_test(X_test,numeric_cols)\n",
        "X_test.head()"
      ],
      "metadata": {
        "colab": {
          "base_uri": "https://localhost:8080/",
          "height": 300
        },
        "id": "EKmhgZCobPU3",
        "outputId": "e88d6795-18ab-436d-d039-01f5c10401b5"
      },
      "execution_count": 12,
      "outputs": [
        {
          "output_type": "execute_result",
          "data": {
            "text/plain": [
              "        destination_port  flow_duration  total_fwd_packets  \\\n",
              "447447      8.658333e-06   4.083333e-07       1.666667e-08   \n",
              "464721      4.416667e-07   1.458333e-06       1.666667e-08   \n",
              "225405      4.416667e-07   1.658333e-06       1.666667e-08   \n",
              "1529        4.096417e-04   3.583333e-07       8.333333e-09   \n",
              "418789      9.575833e-05   3.333333e-08       2.500000e-08   \n",
              "\n",
              "        total_backward_packets  total_length_of_fwd_packets  \\\n",
              "447447            0.000000e+00                 3.333333e-08   \n",
              "464721            1.666667e-08                 5.333333e-07   \n",
              "225405            1.666667e-08                 5.500000e-07   \n",
              "1529              8.333333e-09                 0.000000e+00   \n",
              "418789            0.000000e+00                 2.583333e-07   \n",
              "\n",
              "        total_length_of_bwd_packets  fwd_packet_length_max  \\\n",
              "447447                 0.000000e+00           1.666667e-08   \n",
              "464721                 8.000000e-07           2.666667e-07   \n",
              "225405                 8.166667e-07           2.750000e-07   \n",
              "1529                   5.000000e-08           0.000000e+00   \n",
              "418789                 0.000000e+00           2.583333e-07   \n",
              "\n",
              "        fwd_packet_length_min  fwd_packet_length_mean  fwd_packet_length_std  \\\n",
              "447447           1.666667e-08            1.666667e-08           0.000000e+00   \n",
              "464721           2.666667e-07            2.666667e-07           0.000000e+00   \n",
              "225405           2.750000e-07            2.750000e-07           0.000000e+00   \n",
              "1529             0.000000e+00            0.000000e+00           0.000000e+00   \n",
              "418789           0.000000e+00            8.611111e-08           1.491488e-07   \n",
              "\n",
              "        ...  act_data_pkt_fwd  min_seg_size_forward  active_mean  active_std  \\\n",
              "447447  ...      8.333333e-09          2.000000e-07          0.0         0.0   \n",
              "464721  ...      8.333333e-09          2.666667e-07          0.0         0.0   \n",
              "225405  ...      8.333333e-09          1.666667e-07          0.0         0.0   \n",
              "1529    ...      0.000000e+00          3.333333e-07          0.0         0.0   \n",
              "418789  ...      8.333333e-09          1.666667e-07          0.0         0.0   \n",
              "\n",
              "        active_max  active_min  idle_mean  idle_std  idle_max  idle_min  \n",
              "447447         0.0         0.0        0.0       0.0       0.0       0.0  \n",
              "464721         0.0         0.0        0.0       0.0       0.0       0.0  \n",
              "225405         0.0         0.0        0.0       0.0       0.0       0.0  \n",
              "1529           0.0         0.0        0.0       0.0       0.0       0.0  \n",
              "418789         0.0         0.0        0.0       0.0       0.0       0.0  \n",
              "\n",
              "[5 rows x 78 columns]"
            ],
            "text/html": [
              "\n",
              "  <div id=\"df-6e598fc4-bb88-44ab-aaf7-0ed71719154d\">\n",
              "    <div class=\"colab-df-container\">\n",
              "      <div>\n",
              "<style scoped>\n",
              "    .dataframe tbody tr th:only-of-type {\n",
              "        vertical-align: middle;\n",
              "    }\n",
              "\n",
              "    .dataframe tbody tr th {\n",
              "        vertical-align: top;\n",
              "    }\n",
              "\n",
              "    .dataframe thead th {\n",
              "        text-align: right;\n",
              "    }\n",
              "</style>\n",
              "<table border=\"1\" class=\"dataframe\">\n",
              "  <thead>\n",
              "    <tr style=\"text-align: right;\">\n",
              "      <th></th>\n",
              "      <th>destination_port</th>\n",
              "      <th>flow_duration</th>\n",
              "      <th>total_fwd_packets</th>\n",
              "      <th>total_backward_packets</th>\n",
              "      <th>total_length_of_fwd_packets</th>\n",
              "      <th>total_length_of_bwd_packets</th>\n",
              "      <th>fwd_packet_length_max</th>\n",
              "      <th>fwd_packet_length_min</th>\n",
              "      <th>fwd_packet_length_mean</th>\n",
              "      <th>fwd_packet_length_std</th>\n",
              "      <th>...</th>\n",
              "      <th>act_data_pkt_fwd</th>\n",
              "      <th>min_seg_size_forward</th>\n",
              "      <th>active_mean</th>\n",
              "      <th>active_std</th>\n",
              "      <th>active_max</th>\n",
              "      <th>active_min</th>\n",
              "      <th>idle_mean</th>\n",
              "      <th>idle_std</th>\n",
              "      <th>idle_max</th>\n",
              "      <th>idle_min</th>\n",
              "    </tr>\n",
              "  </thead>\n",
              "  <tbody>\n",
              "    <tr>\n",
              "      <th>447447</th>\n",
              "      <td>8.658333e-06</td>\n",
              "      <td>4.083333e-07</td>\n",
              "      <td>1.666667e-08</td>\n",
              "      <td>0.000000e+00</td>\n",
              "      <td>3.333333e-08</td>\n",
              "      <td>0.000000e+00</td>\n",
              "      <td>1.666667e-08</td>\n",
              "      <td>1.666667e-08</td>\n",
              "      <td>1.666667e-08</td>\n",
              "      <td>0.000000e+00</td>\n",
              "      <td>...</td>\n",
              "      <td>8.333333e-09</td>\n",
              "      <td>2.000000e-07</td>\n",
              "      <td>0.0</td>\n",
              "      <td>0.0</td>\n",
              "      <td>0.0</td>\n",
              "      <td>0.0</td>\n",
              "      <td>0.0</td>\n",
              "      <td>0.0</td>\n",
              "      <td>0.0</td>\n",
              "      <td>0.0</td>\n",
              "    </tr>\n",
              "    <tr>\n",
              "      <th>464721</th>\n",
              "      <td>4.416667e-07</td>\n",
              "      <td>1.458333e-06</td>\n",
              "      <td>1.666667e-08</td>\n",
              "      <td>1.666667e-08</td>\n",
              "      <td>5.333333e-07</td>\n",
              "      <td>8.000000e-07</td>\n",
              "      <td>2.666667e-07</td>\n",
              "      <td>2.666667e-07</td>\n",
              "      <td>2.666667e-07</td>\n",
              "      <td>0.000000e+00</td>\n",
              "      <td>...</td>\n",
              "      <td>8.333333e-09</td>\n",
              "      <td>2.666667e-07</td>\n",
              "      <td>0.0</td>\n",
              "      <td>0.0</td>\n",
              "      <td>0.0</td>\n",
              "      <td>0.0</td>\n",
              "      <td>0.0</td>\n",
              "      <td>0.0</td>\n",
              "      <td>0.0</td>\n",
              "      <td>0.0</td>\n",
              "    </tr>\n",
              "    <tr>\n",
              "      <th>225405</th>\n",
              "      <td>4.416667e-07</td>\n",
              "      <td>1.658333e-06</td>\n",
              "      <td>1.666667e-08</td>\n",
              "      <td>1.666667e-08</td>\n",
              "      <td>5.500000e-07</td>\n",
              "      <td>8.166667e-07</td>\n",
              "      <td>2.750000e-07</td>\n",
              "      <td>2.750000e-07</td>\n",
              "      <td>2.750000e-07</td>\n",
              "      <td>0.000000e+00</td>\n",
              "      <td>...</td>\n",
              "      <td>8.333333e-09</td>\n",
              "      <td>1.666667e-07</td>\n",
              "      <td>0.0</td>\n",
              "      <td>0.0</td>\n",
              "      <td>0.0</td>\n",
              "      <td>0.0</td>\n",
              "      <td>0.0</td>\n",
              "      <td>0.0</td>\n",
              "      <td>0.0</td>\n",
              "      <td>0.0</td>\n",
              "    </tr>\n",
              "    <tr>\n",
              "      <th>1529</th>\n",
              "      <td>4.096417e-04</td>\n",
              "      <td>3.583333e-07</td>\n",
              "      <td>8.333333e-09</td>\n",
              "      <td>8.333333e-09</td>\n",
              "      <td>0.000000e+00</td>\n",
              "      <td>5.000000e-08</td>\n",
              "      <td>0.000000e+00</td>\n",
              "      <td>0.000000e+00</td>\n",
              "      <td>0.000000e+00</td>\n",
              "      <td>0.000000e+00</td>\n",
              "      <td>...</td>\n",
              "      <td>0.000000e+00</td>\n",
              "      <td>3.333333e-07</td>\n",
              "      <td>0.0</td>\n",
              "      <td>0.0</td>\n",
              "      <td>0.0</td>\n",
              "      <td>0.0</td>\n",
              "      <td>0.0</td>\n",
              "      <td>0.0</td>\n",
              "      <td>0.0</td>\n",
              "      <td>0.0</td>\n",
              "    </tr>\n",
              "    <tr>\n",
              "      <th>418789</th>\n",
              "      <td>9.575833e-05</td>\n",
              "      <td>3.333333e-08</td>\n",
              "      <td>2.500000e-08</td>\n",
              "      <td>0.000000e+00</td>\n",
              "      <td>2.583333e-07</td>\n",
              "      <td>0.000000e+00</td>\n",
              "      <td>2.583333e-07</td>\n",
              "      <td>0.000000e+00</td>\n",
              "      <td>8.611111e-08</td>\n",
              "      <td>1.491488e-07</td>\n",
              "      <td>...</td>\n",
              "      <td>8.333333e-09</td>\n",
              "      <td>1.666667e-07</td>\n",
              "      <td>0.0</td>\n",
              "      <td>0.0</td>\n",
              "      <td>0.0</td>\n",
              "      <td>0.0</td>\n",
              "      <td>0.0</td>\n",
              "      <td>0.0</td>\n",
              "      <td>0.0</td>\n",
              "      <td>0.0</td>\n",
              "    </tr>\n",
              "  </tbody>\n",
              "</table>\n",
              "<p>5 rows × 78 columns</p>\n",
              "</div>\n",
              "      <button class=\"colab-df-convert\" onclick=\"convertToInteractive('df-6e598fc4-bb88-44ab-aaf7-0ed71719154d')\"\n",
              "              title=\"Convert this dataframe to an interactive table.\"\n",
              "              style=\"display:none;\">\n",
              "        \n",
              "  <svg xmlns=\"http://www.w3.org/2000/svg\" height=\"24px\"viewBox=\"0 0 24 24\"\n",
              "       width=\"24px\">\n",
              "    <path d=\"M0 0h24v24H0V0z\" fill=\"none\"/>\n",
              "    <path d=\"M18.56 5.44l.94 2.06.94-2.06 2.06-.94-2.06-.94-.94-2.06-.94 2.06-2.06.94zm-11 1L8.5 8.5l.94-2.06 2.06-.94-2.06-.94L8.5 2.5l-.94 2.06-2.06.94zm10 10l.94 2.06.94-2.06 2.06-.94-2.06-.94-.94-2.06-.94 2.06-2.06.94z\"/><path d=\"M17.41 7.96l-1.37-1.37c-.4-.4-.92-.59-1.43-.59-.52 0-1.04.2-1.43.59L10.3 9.45l-7.72 7.72c-.78.78-.78 2.05 0 2.83L4 21.41c.39.39.9.59 1.41.59.51 0 1.02-.2 1.41-.59l7.78-7.78 2.81-2.81c.8-.78.8-2.07 0-2.86zM5.41 20L4 18.59l7.72-7.72 1.47 1.35L5.41 20z\"/>\n",
              "  </svg>\n",
              "      </button>\n",
              "      \n",
              "  <style>\n",
              "    .colab-df-container {\n",
              "      display:flex;\n",
              "      flex-wrap:wrap;\n",
              "      gap: 12px;\n",
              "    }\n",
              "\n",
              "    .colab-df-convert {\n",
              "      background-color: #E8F0FE;\n",
              "      border: none;\n",
              "      border-radius: 50%;\n",
              "      cursor: pointer;\n",
              "      display: none;\n",
              "      fill: #1967D2;\n",
              "      height: 32px;\n",
              "      padding: 0 0 0 0;\n",
              "      width: 32px;\n",
              "    }\n",
              "\n",
              "    .colab-df-convert:hover {\n",
              "      background-color: #E2EBFA;\n",
              "      box-shadow: 0px 1px 2px rgba(60, 64, 67, 0.3), 0px 1px 3px 1px rgba(60, 64, 67, 0.15);\n",
              "      fill: #174EA6;\n",
              "    }\n",
              "\n",
              "    [theme=dark] .colab-df-convert {\n",
              "      background-color: #3B4455;\n",
              "      fill: #D2E3FC;\n",
              "    }\n",
              "\n",
              "    [theme=dark] .colab-df-convert:hover {\n",
              "      background-color: #434B5C;\n",
              "      box-shadow: 0px 1px 3px 1px rgba(0, 0, 0, 0.15);\n",
              "      filter: drop-shadow(0px 1px 2px rgba(0, 0, 0, 0.3));\n",
              "      fill: #FFFFFF;\n",
              "    }\n",
              "  </style>\n",
              "\n",
              "      <script>\n",
              "        const buttonEl =\n",
              "          document.querySelector('#df-6e598fc4-bb88-44ab-aaf7-0ed71719154d button.colab-df-convert');\n",
              "        buttonEl.style.display =\n",
              "          google.colab.kernel.accessAllowed ? 'block' : 'none';\n",
              "\n",
              "        async function convertToInteractive(key) {\n",
              "          const element = document.querySelector('#df-6e598fc4-bb88-44ab-aaf7-0ed71719154d');\n",
              "          const dataTable =\n",
              "            await google.colab.kernel.invokeFunction('convertToInteractive',\n",
              "                                                     [key], {});\n",
              "          if (!dataTable) return;\n",
              "\n",
              "          const docLinkHtml = 'Like what you see? Visit the ' +\n",
              "            '<a target=\"_blank\" href=https://colab.research.google.com/notebooks/data_table.ipynb>data table notebook</a>'\n",
              "            + ' to learn more about interactive tables.';\n",
              "          element.innerHTML = '';\n",
              "          dataTable['output_type'] = 'display_data';\n",
              "          await google.colab.output.renderOutput(dataTable, element);\n",
              "          const docLink = document.createElement('div');\n",
              "          docLink.innerHTML = docLinkHtml;\n",
              "          element.appendChild(docLink);\n",
              "        }\n",
              "      </script>\n",
              "    </div>\n",
              "  </div>\n",
              "  "
            ]
          },
          "metadata": {},
          "execution_count": 12
        }
      ]
    },
    {
      "cell_type": "markdown",
      "metadata": {
        "id": "ZfAbEIDgz4iY"
      },
      "source": [
        "## **Linear Support Vector Machine Classifier (Binary Classification) **\n",
        "to enable make the svm_enable = 1 in the above cell"
      ]
    },
    {
      "cell_type": "code",
      "execution_count": 13,
      "metadata": {
        "id": "o8GdMBjdzFQT"
      },
      "outputs": [],
      "source": [
        "if svm_enable:\n",
        "  # using kernel as linear \n",
        "  lsvm = SVC(kernel='linear',gamma='auto') \n",
        "  lsvm.fit(X_train,y_train) # training model on training dataset"
      ]
    },
    {
      "cell_type": "code",
      "execution_count": 14,
      "metadata": {
        "id": "NjfYZA_9zTNK"
      },
      "outputs": [],
      "source": [
        "if svm_enable:\n",
        "  pkl_filename = \"/content/drive/MyDrive/Colab_Notebooks/Models/lsvm_binary_cicids2017.pkl\"\n",
        "  if (not path.isfile(pkl_filename)):\n",
        "    # saving the trained model to disk\n",
        "    with open(pkl_filename, 'wb') as file:\n",
        "      pickle.dump(lsvm, file)\n",
        "    print(\"Saved model to disk\")\n",
        "    # loading the trained model from disk\n",
        "    with open(pkl_filename, 'rb') as file:\n",
        "      lsvm = pickle.load(file)\n",
        "    print(\"Loaded model from disk\") "
      ]
    },
    {
      "cell_type": "code",
      "execution_count": 15,
      "metadata": {
        "id": "xsnN51Juzgcf"
      },
      "outputs": [],
      "source": [
        "if svm_enable:\n",
        "  y_pred = lsvm.predict(X_test) # predicting target attribute on testing dataset\n",
        "  ac = accuracy_score(y_test, y_pred)*100 # calculating accuracy of predicted data\n",
        "  print(\"LSVM-Classifier Binary Set-Accuracy is \", ac)"
      ]
    },
    {
      "cell_type": "code",
      "execution_count": 16,
      "metadata": {
        "id": "qg2gbJTg8NtL"
      },
      "outputs": [],
      "source": [
        "# import matplotlib.pyplot as plt\n",
        "# from sklearn.datasets import make_classification\n",
        "# from sklearn.metrics import confusion_matrix, ConfusionMatrixDisplay\n",
        "# from sklearn.model_selection import train_test_split\n",
        "# from sklearn.svm import SVC\n",
        "# X, y = make_classification(random_state=0)\n",
        "# X_train, X_test, y_train, y_test = train_test_split(X, y,\n",
        "#                                                     random_state=0)\n",
        "# cm = confusion_matrix(y_test, y_pred, labels=lsvm.classes_)\n",
        "# disp = ConfusionMatrixDisplay(confusion_matrix=cm,\n",
        "#                               display_labels=lsvm.classes_)\n",
        "# disp.plot()\n",
        "\n",
        "# plt.show()"
      ]
    },
    {
      "cell_type": "code",
      "execution_count": 17,
      "metadata": {
        "id": "9IydNlzT5kx6"
      },
      "outputs": [],
      "source": [
        "if svm_enable:\n",
        "  plt.figure(figsize=(20,8))\n",
        "  plt.plot(y_pred[300:500], label=\"prediction\", linewidth=2.0,color='blue')\n",
        "  plt.plot(y_test[300:500].values, label=\"real_values\", linewidth=2.0,color='lightcoral')\n",
        "  plt.legend(loc=\"best\")\n",
        "  plt.ylim((-1,2))\n",
        "  plt.title(\"Linear SVM Binary Classification\")\n",
        "  plt.savefig('/content/drive/MyDrive/Colab_Notebooks/Plots/lsvm_real_pred_bin.png')\n",
        "  plt.show()"
      ]
    },
    {
      "cell_type": "code",
      "execution_count": 18,
      "metadata": {
        "id": "s9lqoveaUBvg"
      },
      "outputs": [],
      "source": [
        "if svm_enable:\n",
        "  target_names = ['class 0', 'class 1']\n",
        "  print(classification_report(y_test, y_pred, target_names=target_names))"
      ]
    },
    {
      "cell_type": "code",
      "execution_count": 19,
      "metadata": {
        "id": "kWxBZhnw9t5n"
      },
      "outputs": [],
      "source": [
        "if svm_enable:\n",
        "  from sklearn.metrics import confusion_matrix, ConfusionMatrixDisplay\n",
        "\n",
        "  clf = lsvm\n",
        "  cm = confusion_matrix(y_test, y_pred, labels=clf.classes_)\n",
        "  disp = ConfusionMatrixDisplay(confusion_matrix=cm,\n",
        "                                display_labels=clf.classes_)\n",
        "  disp.plot()\n",
        "\n",
        "  plt.show()"
      ]
    },
    {
      "cell_type": "markdown",
      "metadata": {
        "id": "PUjrwY2l0_RI"
      },
      "source": [
        "## **Multi Layer Perceptron Classifier (Binary Classification)**"
      ]
    },
    {
      "cell_type": "code",
      "execution_count": 20,
      "metadata": {
        "id": "u9v5Ylpa1DHY"
      },
      "outputs": [],
      "source": [
        "if model_selection[model_flag]==\"ALL\" or model_selection[model_flag] == \"MLP\":\n",
        "  mlp = Sequential() # creating model\n",
        "\n",
        "  # adding input layer and first layer with 50 neurons\n",
        "  mlp.add(Dense(units=50, input_dim=X_train.shape[1], activation='relu'))\n",
        "  # output layer with sigmoid activation\n",
        "  mlp.add(Dense(units=1,activation='sigmoid'))"
      ]
    },
    {
      "cell_type": "code",
      "execution_count": 21,
      "metadata": {
        "id": "E-9M9d0p1p8s"
      },
      "outputs": [],
      "source": [
        "if model_selection[model_flag]==\"ALL\" or model_selection[model_flag] == \"MLP\":\n",
        "  # defining loss function, optimizer, metrics and then compiling model\n",
        "  mlp.compile(loss='binary_crossentropy', optimizer='adam', metrics=['accuracy'])"
      ]
    },
    {
      "cell_type": "code",
      "execution_count": 22,
      "metadata": {
        "id": "NK-1_akm1vO9",
        "colab": {
          "base_uri": "https://localhost:8080/"
        },
        "outputId": "86a598ad-a28c-482b-a3c8-ec0cf3e2c99e"
      },
      "outputs": [
        {
          "output_type": "stream",
          "name": "stdout",
          "text": [
            "Model: \"sequential\"\n",
            "_________________________________________________________________\n",
            " Layer (type)                Output Shape              Param #   \n",
            "=================================================================\n",
            " dense (Dense)               (None, 50)                3950      \n",
            "                                                                 \n",
            " dense_1 (Dense)             (None, 1)                 51        \n",
            "                                                                 \n",
            "=================================================================\n",
            "Total params: 4,001\n",
            "Trainable params: 4,001\n",
            "Non-trainable params: 0\n",
            "_________________________________________________________________\n"
          ]
        }
      ],
      "source": [
        "if model_selection[model_flag]==\"ALL\" or model_selection[model_flag] == \"MLP\":\n",
        "  # summary of model layers\n",
        "  mlp.summary()"
      ]
    },
    {
      "cell_type": "code",
      "execution_count": 23,
      "metadata": {
        "id": "UYZ4xCgp13gP",
        "colab": {
          "base_uri": "https://localhost:8080/"
        },
        "outputId": "2cb93beb-2fde-419d-c1ab-441c81a48fa3"
      },
      "outputs": [
        {
          "output_type": "stream",
          "name": "stdout",
          "text": [
            "Epoch 1/100\n",
            "34/34 [==============================] - 2s 23ms/step - loss: 0.5343 - accuracy: 0.8298 - val_loss: 0.4319 - val_accuracy: 0.8752\n",
            "Epoch 2/100\n",
            "34/34 [==============================] - 0s 15ms/step - loss: 0.3932 - accuracy: 0.8781 - val_loss: 0.3602 - val_accuracy: 0.8858\n",
            "Epoch 3/100\n",
            "34/34 [==============================] - 1s 16ms/step - loss: 0.3463 - accuracy: 0.8856 - val_loss: 0.3290 - val_accuracy: 0.8879\n",
            "Epoch 4/100\n",
            "34/34 [==============================] - 1s 17ms/step - loss: 0.3188 - accuracy: 0.8865 - val_loss: 0.3045 - val_accuracy: 0.8881\n",
            "Epoch 5/100\n",
            "34/34 [==============================] - 1s 16ms/step - loss: 0.2944 - accuracy: 0.8867 - val_loss: 0.2807 - val_accuracy: 0.8881\n",
            "Epoch 6/100\n",
            "34/34 [==============================] - 1s 16ms/step - loss: 0.2717 - accuracy: 0.8868 - val_loss: 0.2599 - val_accuracy: 0.8882\n",
            "Epoch 7/100\n",
            "34/34 [==============================] - 1s 24ms/step - loss: 0.2520 - accuracy: 0.8869 - val_loss: 0.2422 - val_accuracy: 0.8877\n",
            "Epoch 8/100\n",
            "34/34 [==============================] - 1s 24ms/step - loss: 0.2356 - accuracy: 0.8895 - val_loss: 0.2274 - val_accuracy: 0.8904\n",
            "Epoch 9/100\n",
            "34/34 [==============================] - 1s 24ms/step - loss: 0.2212 - accuracy: 0.8895 - val_loss: 0.2141 - val_accuracy: 0.8928\n",
            "Epoch 10/100\n",
            "34/34 [==============================] - 1s 21ms/step - loss: 0.2090 - accuracy: 0.8941 - val_loss: 0.2034 - val_accuracy: 0.9026\n",
            "Epoch 11/100\n",
            "34/34 [==============================] - 1s 24ms/step - loss: 0.1990 - accuracy: 0.9016 - val_loss: 0.1943 - val_accuracy: 0.9039\n",
            "Epoch 12/100\n",
            "34/34 [==============================] - 1s 20ms/step - loss: 0.1905 - accuracy: 0.9065 - val_loss: 0.1865 - val_accuracy: 0.9098\n",
            "Epoch 13/100\n",
            "34/34 [==============================] - 1s 15ms/step - loss: 0.1829 - accuracy: 0.9151 - val_loss: 0.1795 - val_accuracy: 0.9322\n",
            "Epoch 14/100\n",
            "34/34 [==============================] - 1s 16ms/step - loss: 0.1762 - accuracy: 0.9339 - val_loss: 0.1733 - val_accuracy: 0.9344\n",
            "Epoch 15/100\n",
            "34/34 [==============================] - 0s 14ms/step - loss: 0.1703 - accuracy: 0.9368 - val_loss: 0.1676 - val_accuracy: 0.9391\n",
            "Epoch 16/100\n",
            "34/34 [==============================] - 1s 15ms/step - loss: 0.1648 - accuracy: 0.9408 - val_loss: 0.1625 - val_accuracy: 0.9430\n",
            "Epoch 17/100\n",
            "34/34 [==============================] - 1s 15ms/step - loss: 0.1599 - accuracy: 0.9502 - val_loss: 0.1578 - val_accuracy: 0.9545\n",
            "Epoch 18/100\n",
            "34/34 [==============================] - 1s 15ms/step - loss: 0.1554 - accuracy: 0.9538 - val_loss: 0.1537 - val_accuracy: 0.9539\n",
            "Epoch 19/100\n",
            "34/34 [==============================] - 0s 14ms/step - loss: 0.1514 - accuracy: 0.9540 - val_loss: 0.1498 - val_accuracy: 0.9546\n",
            "Epoch 20/100\n",
            "34/34 [==============================] - 0s 14ms/step - loss: 0.1477 - accuracy: 0.9542 - val_loss: 0.1463 - val_accuracy: 0.9548\n",
            "Epoch 21/100\n",
            "34/34 [==============================] - 0s 15ms/step - loss: 0.1443 - accuracy: 0.9549 - val_loss: 0.1431 - val_accuracy: 0.9551\n",
            "Epoch 22/100\n",
            "34/34 [==============================] - 1s 15ms/step - loss: 0.1412 - accuracy: 0.9550 - val_loss: 0.1400 - val_accuracy: 0.9549\n",
            "Epoch 23/100\n",
            "34/34 [==============================] - 1s 15ms/step - loss: 0.1383 - accuracy: 0.9553 - val_loss: 0.1373 - val_accuracy: 0.9553\n",
            "Epoch 24/100\n",
            "34/34 [==============================] - 0s 14ms/step - loss: 0.1356 - accuracy: 0.9556 - val_loss: 0.1347 - val_accuracy: 0.9564\n",
            "Epoch 25/100\n",
            "34/34 [==============================] - 0s 14ms/step - loss: 0.1331 - accuracy: 0.9561 - val_loss: 0.1323 - val_accuracy: 0.9559\n",
            "Epoch 26/100\n",
            "34/34 [==============================] - 1s 15ms/step - loss: 0.1308 - accuracy: 0.9563 - val_loss: 0.1300 - val_accuracy: 0.9566\n",
            "Epoch 27/100\n",
            "34/34 [==============================] - 0s 14ms/step - loss: 0.1285 - accuracy: 0.9567 - val_loss: 0.1279 - val_accuracy: 0.9574\n",
            "Epoch 28/100\n",
            "34/34 [==============================] - 1s 16ms/step - loss: 0.1265 - accuracy: 0.9579 - val_loss: 0.1259 - val_accuracy: 0.9582\n",
            "Epoch 29/100\n",
            "34/34 [==============================] - 0s 14ms/step - loss: 0.1246 - accuracy: 0.9586 - val_loss: 0.1241 - val_accuracy: 0.9586\n",
            "Epoch 30/100\n",
            "34/34 [==============================] - 0s 14ms/step - loss: 0.1229 - accuracy: 0.9588 - val_loss: 0.1223 - val_accuracy: 0.9592\n",
            "Epoch 31/100\n",
            "34/34 [==============================] - 0s 14ms/step - loss: 0.1211 - accuracy: 0.9593 - val_loss: 0.1207 - val_accuracy: 0.9597\n",
            "Epoch 32/100\n",
            "34/34 [==============================] - 1s 18ms/step - loss: 0.1196 - accuracy: 0.9595 - val_loss: 0.1192 - val_accuracy: 0.9594\n",
            "Epoch 33/100\n",
            "34/34 [==============================] - 1s 23ms/step - loss: 0.1181 - accuracy: 0.9596 - val_loss: 0.1176 - val_accuracy: 0.9597\n",
            "Epoch 34/100\n",
            "34/34 [==============================] - 1s 23ms/step - loss: 0.1166 - accuracy: 0.9598 - val_loss: 0.1162 - val_accuracy: 0.9600\n",
            "Epoch 35/100\n",
            "34/34 [==============================] - 1s 24ms/step - loss: 0.1153 - accuracy: 0.9599 - val_loss: 0.1149 - val_accuracy: 0.9601\n",
            "Epoch 36/100\n",
            "34/34 [==============================] - 1s 23ms/step - loss: 0.1139 - accuracy: 0.9600 - val_loss: 0.1135 - val_accuracy: 0.9600\n",
            "Epoch 37/100\n",
            "34/34 [==============================] - 1s 20ms/step - loss: 0.1126 - accuracy: 0.9602 - val_loss: 0.1123 - val_accuracy: 0.9603\n",
            "Epoch 38/100\n",
            "34/34 [==============================] - 1s 20ms/step - loss: 0.1114 - accuracy: 0.9602 - val_loss: 0.1112 - val_accuracy: 0.9609\n",
            "Epoch 39/100\n",
            "34/34 [==============================] - 1s 16ms/step - loss: 0.1104 - accuracy: 0.9604 - val_loss: 0.1100 - val_accuracy: 0.9608\n",
            "Epoch 40/100\n",
            "34/34 [==============================] - 0s 14ms/step - loss: 0.1092 - accuracy: 0.9605 - val_loss: 0.1090 - val_accuracy: 0.9605\n",
            "Epoch 41/100\n",
            "34/34 [==============================] - 0s 14ms/step - loss: 0.1083 - accuracy: 0.9605 - val_loss: 0.1080 - val_accuracy: 0.9607\n",
            "Epoch 42/100\n",
            "34/34 [==============================] - 0s 14ms/step - loss: 0.1073 - accuracy: 0.9605 - val_loss: 0.1071 - val_accuracy: 0.9611\n",
            "Epoch 43/100\n",
            "34/34 [==============================] - 0s 13ms/step - loss: 0.1063 - accuracy: 0.9608 - val_loss: 0.1063 - val_accuracy: 0.9612\n",
            "Epoch 44/100\n",
            "34/34 [==============================] - 0s 14ms/step - loss: 0.1055 - accuracy: 0.9609 - val_loss: 0.1052 - val_accuracy: 0.9611\n",
            "Epoch 45/100\n",
            "34/34 [==============================] - 0s 14ms/step - loss: 0.1046 - accuracy: 0.9608 - val_loss: 0.1045 - val_accuracy: 0.9613\n",
            "Epoch 46/100\n",
            "34/34 [==============================] - 0s 14ms/step - loss: 0.1038 - accuracy: 0.9609 - val_loss: 0.1037 - val_accuracy: 0.9613\n",
            "Epoch 47/100\n",
            "34/34 [==============================] - 0s 13ms/step - loss: 0.1030 - accuracy: 0.9610 - val_loss: 0.1029 - val_accuracy: 0.9610\n",
            "Epoch 48/100\n",
            "34/34 [==============================] - 0s 14ms/step - loss: 0.1023 - accuracy: 0.9611 - val_loss: 0.1024 - val_accuracy: 0.9613\n",
            "Epoch 49/100\n",
            "34/34 [==============================] - 0s 14ms/step - loss: 0.1016 - accuracy: 0.9612 - val_loss: 0.1015 - val_accuracy: 0.9613\n",
            "Epoch 50/100\n",
            "34/34 [==============================] - 1s 15ms/step - loss: 0.1009 - accuracy: 0.9612 - val_loss: 0.1008 - val_accuracy: 0.9614\n",
            "Epoch 51/100\n",
            "34/34 [==============================] - 0s 14ms/step - loss: 0.1002 - accuracy: 0.9612 - val_loss: 0.1003 - val_accuracy: 0.9616\n",
            "Epoch 52/100\n",
            "34/34 [==============================] - 1s 15ms/step - loss: 0.0996 - accuracy: 0.9614 - val_loss: 0.0997 - val_accuracy: 0.9614\n",
            "Epoch 53/100\n",
            "34/34 [==============================] - 0s 14ms/step - loss: 0.0990 - accuracy: 0.9615 - val_loss: 0.0990 - val_accuracy: 0.9616\n",
            "Epoch 54/100\n",
            "34/34 [==============================] - 0s 14ms/step - loss: 0.0985 - accuracy: 0.9615 - val_loss: 0.0985 - val_accuracy: 0.9616\n",
            "Epoch 55/100\n",
            "34/34 [==============================] - 0s 14ms/step - loss: 0.0978 - accuracy: 0.9615 - val_loss: 0.0980 - val_accuracy: 0.9618\n",
            "Epoch 56/100\n",
            "34/34 [==============================] - 1s 15ms/step - loss: 0.0974 - accuracy: 0.9617 - val_loss: 0.0978 - val_accuracy: 0.9619\n",
            "Epoch 57/100\n",
            "34/34 [==============================] - 0s 14ms/step - loss: 0.0970 - accuracy: 0.9618 - val_loss: 0.0970 - val_accuracy: 0.9619\n",
            "Epoch 58/100\n",
            "34/34 [==============================] - 1s 15ms/step - loss: 0.0963 - accuracy: 0.9618 - val_loss: 0.0964 - val_accuracy: 0.9618\n",
            "Epoch 59/100\n",
            "34/34 [==============================] - 1s 23ms/step - loss: 0.0958 - accuracy: 0.9618 - val_loss: 0.0960 - val_accuracy: 0.9618\n",
            "Epoch 60/100\n",
            "34/34 [==============================] - 1s 24ms/step - loss: 0.0953 - accuracy: 0.9619 - val_loss: 0.0956 - val_accuracy: 0.9622\n",
            "Epoch 61/100\n",
            "34/34 [==============================] - 1s 24ms/step - loss: 0.0949 - accuracy: 0.9621 - val_loss: 0.0951 - val_accuracy: 0.9618\n",
            "Epoch 62/100\n",
            "34/34 [==============================] - 1s 23ms/step - loss: 0.0945 - accuracy: 0.9622 - val_loss: 0.0948 - val_accuracy: 0.9627\n",
            "Epoch 63/100\n",
            "34/34 [==============================] - 1s 21ms/step - loss: 0.0940 - accuracy: 0.9622 - val_loss: 0.0944 - val_accuracy: 0.9623\n",
            "Epoch 64/100\n",
            "34/34 [==============================] - 1s 24ms/step - loss: 0.0937 - accuracy: 0.9624 - val_loss: 0.0939 - val_accuracy: 0.9630\n",
            "Epoch 65/100\n",
            "34/34 [==============================] - 0s 14ms/step - loss: 0.0932 - accuracy: 0.9625 - val_loss: 0.0934 - val_accuracy: 0.9621\n",
            "Epoch 66/100\n",
            "34/34 [==============================] - 0s 14ms/step - loss: 0.0928 - accuracy: 0.9624 - val_loss: 0.0930 - val_accuracy: 0.9623\n",
            "Epoch 67/100\n",
            "34/34 [==============================] - 0s 14ms/step - loss: 0.0924 - accuracy: 0.9626 - val_loss: 0.0927 - val_accuracy: 0.9629\n",
            "Epoch 68/100\n",
            "34/34 [==============================] - 0s 14ms/step - loss: 0.0920 - accuracy: 0.9626 - val_loss: 0.0923 - val_accuracy: 0.9626\n",
            "Epoch 69/100\n",
            "34/34 [==============================] - 0s 14ms/step - loss: 0.0916 - accuracy: 0.9628 - val_loss: 0.0919 - val_accuracy: 0.9624\n",
            "Epoch 70/100\n",
            "34/34 [==============================] - 0s 14ms/step - loss: 0.0913 - accuracy: 0.9631 - val_loss: 0.0916 - val_accuracy: 0.9627\n",
            "Epoch 71/100\n",
            "34/34 [==============================] - 0s 14ms/step - loss: 0.0909 - accuracy: 0.9629 - val_loss: 0.0912 - val_accuracy: 0.9630\n",
            "Epoch 72/100\n",
            "34/34 [==============================] - 0s 14ms/step - loss: 0.0905 - accuracy: 0.9631 - val_loss: 0.0909 - val_accuracy: 0.9629\n",
            "Epoch 73/100\n",
            "34/34 [==============================] - 1s 15ms/step - loss: 0.0902 - accuracy: 0.9632 - val_loss: 0.0906 - val_accuracy: 0.9629\n",
            "Epoch 74/100\n",
            "34/34 [==============================] - 0s 15ms/step - loss: 0.0899 - accuracy: 0.9634 - val_loss: 0.0903 - val_accuracy: 0.9629\n",
            "Epoch 75/100\n",
            "34/34 [==============================] - 0s 14ms/step - loss: 0.0896 - accuracy: 0.9633 - val_loss: 0.0899 - val_accuracy: 0.9631\n",
            "Epoch 76/100\n",
            "34/34 [==============================] - 0s 14ms/step - loss: 0.0893 - accuracy: 0.9638 - val_loss: 0.0899 - val_accuracy: 0.9638\n",
            "Epoch 77/100\n",
            "34/34 [==============================] - 0s 14ms/step - loss: 0.0891 - accuracy: 0.9635 - val_loss: 0.0893 - val_accuracy: 0.9631\n",
            "Epoch 78/100\n",
            "34/34 [==============================] - 0s 14ms/step - loss: 0.0886 - accuracy: 0.9637 - val_loss: 0.0890 - val_accuracy: 0.9634\n",
            "Epoch 79/100\n",
            "34/34 [==============================] - 0s 15ms/step - loss: 0.0883 - accuracy: 0.9639 - val_loss: 0.0887 - val_accuracy: 0.9649\n",
            "Epoch 80/100\n",
            "34/34 [==============================] - 0s 14ms/step - loss: 0.0880 - accuracy: 0.9641 - val_loss: 0.0885 - val_accuracy: 0.9641\n",
            "Epoch 81/100\n",
            "34/34 [==============================] - 1s 22ms/step - loss: 0.0878 - accuracy: 0.9642 - val_loss: 0.0881 - val_accuracy: 0.9636\n",
            "Epoch 82/100\n",
            "34/34 [==============================] - 1s 26ms/step - loss: 0.0875 - accuracy: 0.9642 - val_loss: 0.0881 - val_accuracy: 0.9652\n",
            "Epoch 83/100\n",
            "34/34 [==============================] - 1s 32ms/step - loss: 0.0872 - accuracy: 0.9645 - val_loss: 0.0876 - val_accuracy: 0.9647\n",
            "Epoch 84/100\n",
            "34/34 [==============================] - 1s 28ms/step - loss: 0.0869 - accuracy: 0.9646 - val_loss: 0.0873 - val_accuracy: 0.9651\n",
            "Epoch 85/100\n",
            "34/34 [==============================] - 1s 30ms/step - loss: 0.0866 - accuracy: 0.9649 - val_loss: 0.0870 - val_accuracy: 0.9651\n",
            "Epoch 86/100\n",
            "34/34 [==============================] - 1s 33ms/step - loss: 0.0864 - accuracy: 0.9654 - val_loss: 0.0868 - val_accuracy: 0.9654\n",
            "Epoch 87/100\n",
            "34/34 [==============================] - 1s 30ms/step - loss: 0.0862 - accuracy: 0.9650 - val_loss: 0.0867 - val_accuracy: 0.9655\n",
            "Epoch 88/100\n",
            "34/34 [==============================] - 1s 32ms/step - loss: 0.0859 - accuracy: 0.9655 - val_loss: 0.0864 - val_accuracy: 0.9656\n",
            "Epoch 89/100\n",
            "34/34 [==============================] - 1s 29ms/step - loss: 0.0856 - accuracy: 0.9657 - val_loss: 0.0861 - val_accuracy: 0.9655\n",
            "Epoch 90/100\n",
            "34/34 [==============================] - 1s 26ms/step - loss: 0.0854 - accuracy: 0.9657 - val_loss: 0.0858 - val_accuracy: 0.9655\n",
            "Epoch 91/100\n",
            "34/34 [==============================] - 1s 24ms/step - loss: 0.0852 - accuracy: 0.9657 - val_loss: 0.0858 - val_accuracy: 0.9643\n",
            "Epoch 92/100\n",
            "34/34 [==============================] - 1s 26ms/step - loss: 0.0849 - accuracy: 0.9655 - val_loss: 0.0855 - val_accuracy: 0.9655\n",
            "Epoch 93/100\n",
            "34/34 [==============================] - 1s 26ms/step - loss: 0.0847 - accuracy: 0.9655 - val_loss: 0.0852 - val_accuracy: 0.9656\n",
            "Epoch 94/100\n",
            "34/34 [==============================] - 1s 24ms/step - loss: 0.0845 - accuracy: 0.9657 - val_loss: 0.0849 - val_accuracy: 0.9656\n",
            "Epoch 95/100\n",
            "34/34 [==============================] - 1s 25ms/step - loss: 0.0843 - accuracy: 0.9659 - val_loss: 0.0848 - val_accuracy: 0.9657\n",
            "Epoch 96/100\n",
            "34/34 [==============================] - 1s 24ms/step - loss: 0.0840 - accuracy: 0.9660 - val_loss: 0.0845 - val_accuracy: 0.9657\n",
            "Epoch 97/100\n",
            "34/34 [==============================] - 1s 26ms/step - loss: 0.0838 - accuracy: 0.9661 - val_loss: 0.0843 - val_accuracy: 0.9657\n",
            "Epoch 98/100\n",
            "34/34 [==============================] - 1s 31ms/step - loss: 0.0836 - accuracy: 0.9661 - val_loss: 0.0841 - val_accuracy: 0.9655\n",
            "Epoch 99/100\n",
            "34/34 [==============================] - 0s 14ms/step - loss: 0.0833 - accuracy: 0.9661 - val_loss: 0.0840 - val_accuracy: 0.9657\n",
            "Epoch 100/100\n",
            "34/34 [==============================] - 1s 18ms/step - loss: 0.0832 - accuracy: 0.9660 - val_loss: 0.0838 - val_accuracy: 0.9658\n"
          ]
        }
      ],
      "source": [
        "if model_selection[model_flag]==\"ALL\" or model_selection[model_flag] == \"MLP\":\n",
        "  # training the model on training dataset\n",
        "  history = mlp.fit(X_train, y_train, epochs=100, batch_size=5000,validation_split=0.2)"
      ]
    },
    {
      "cell_type": "code",
      "execution_count": 24,
      "metadata": {
        "id": "_n_gNs3p1_M-"
      },
      "outputs": [],
      "source": [
        "if model_selection[model_flag]==\"ALL\" or model_selection[model_flag] == \"MLP\":\n",
        "  filepath = '/content/drive/MyDrive/Colab_Notebooks/Models/mlp_binary.json'\n",
        "  weightspath = '/content/drive/MyDrive/Colab_Notebooks/Weights/mlp_binary.h5'\n",
        "  if (not path.isfile(filepath)):\n",
        "    # serialize model to JSON\n",
        "    mlp_json = mlp.to_json()\n",
        "    with open(filepath, \"w\") as json_file:\n",
        "      json_file.write(mlp_json)\n",
        "\n",
        "    # serialize weights to HDF5\n",
        "    mlp.save_weights(weightspath)\n",
        "    print(\"Saved model to disk\")\n",
        "\n",
        "    # load json and create model\n",
        "    json_file = open(filepath, 'r')\n",
        "    loaded_model_json = json_file.read()\n",
        "    json_file.close()\n",
        "    mlp = model_from_json(loaded_model_json)\n",
        "\n",
        "    # load weights into new model\n",
        "    mlp.load_weights(weightspath)\n",
        "    print(\"Loaded model from disk\")"
      ]
    },
    {
      "cell_type": "code",
      "execution_count": 25,
      "metadata": {
        "id": "G99OrVcT2JON"
      },
      "outputs": [],
      "source": [
        "if model_selection[model_flag]==\"ALL\" or model_selection[model_flag] == \"MLP\":\n",
        "  # defining loss function, optimizer, metrics and then compiling model\n",
        "  mlp.compile(loss='binary_crossentropy', optimizer='adam', metrics=['accuracy'])"
      ]
    },
    {
      "cell_type": "code",
      "execution_count": 26,
      "metadata": {
        "id": "AXUA0T2N2OIB",
        "colab": {
          "base_uri": "https://localhost:8080/"
        },
        "outputId": "2fddbfc4-fa5b-43ca-8bb1-20ebb1608ecd"
      },
      "outputs": [
        {
          "output_type": "stream",
          "name": "stdout",
          "text": [
            "2212/2212 [==============================] - 4s 2ms/step - loss: 0.5092 - accuracy: 0.8042\n",
            "Test results - Loss: 0.5092426538467407 - Accuracy: 80.4193913936615\n"
          ]
        }
      ],
      "source": [
        "if model_selection[model_flag]==\"ALL\" or model_selection[model_flag] == \"MLP\":\n",
        "  # predicting target attribute on testing dataset\n",
        "  test_results = mlp.evaluate(X_test, y_test, verbose=1)\n",
        "  print(f'Test results - Loss: {test_results[0]} - Accuracy: {test_results[1]*100}')"
      ]
    },
    {
      "cell_type": "code",
      "execution_count": 27,
      "metadata": {
        "id": "StFTrhE65_-q",
        "colab": {
          "base_uri": "https://localhost:8080/",
          "height": 295
        },
        "outputId": "6f641d4d-356d-4262-b645-61f47df31915"
      },
      "outputs": [
        {
          "output_type": "display_data",
          "data": {
            "text/plain": [
              "<Figure size 432x288 with 1 Axes>"
            ],
            "image/png": "[encoded data removed]"
          },
          "metadata": {
            "needs_background": "light"
          }
        }
      ],
      "source": [
        "if model_selection[model_flag]==\"ALL\" or model_selection[model_flag] == \"MLP\":  \n",
        "  # Plot of accuracy vs epoch of train and test dataset\n",
        "  plt.plot(history.history['accuracy'])\n",
        "  plt.plot(history.history['val_accuracy'])\n",
        "  plt.title(\"Plot of accuracy vs epoch for train and test dataset\")\n",
        "  plt.ylabel('accuracy')\n",
        "  plt.xlabel('epoch')\n",
        "  plt.legend(['train', 'test'], loc='best')\n",
        "  plt.savefig('/content/drive/MyDrive/Colab_Notebooks/Plots/mlp_binary_accuracy.png')\n",
        "  plt.show()"
      ]
    },
    {
      "cell_type": "code",
      "execution_count": 28,
      "metadata": {
        "id": "rZes4PzY6JUq",
        "colab": {
          "base_uri": "https://localhost:8080/",
          "height": 295
        },
        "outputId": "3eb3e18f-77ee-44b7-8278-3b55023b6394"
      },
      "outputs": [
        {
          "output_type": "display_data",
          "data": {
            "text/plain": [
              "<Figure size 432x288 with 1 Axes>"
            ],
            "image/png": "[encoded data removed]"
          },
          "metadata": {
            "needs_background": "light"
          }
        }
      ],
      "source": [
        "if model_selection[model_flag]==\"ALL\" or model_selection[model_flag] == \"MLP\":\n",
        "  # Plot of loss vs epoch of train and test dataset\n",
        "  plt.plot(history.history['loss'])\n",
        "  plt.plot(history.history['val_loss'])\n",
        "  plt.title('Plot of loss vs epoch for train and test dataset')\n",
        "  plt.ylabel('loss')\n",
        "  plt.xlabel('epoch')\n",
        "  plt.legend(['train', 'test'], loc='best')\n",
        "  plt.savefig('/content/drive/MyDrive/Colab_Notebooks/Plots/mlp_binary_loss.png')\n",
        "  plt.show()"
      ]
    },
    {
      "cell_type": "code",
      "execution_count": 29,
      "metadata": {
        "id": "mC0nj-on6iRU"
      },
      "outputs": [],
      "source": [
        "if model_selection[model_flag]==\"ALL\" or model_selection[model_flag] == \"MLP\":\n",
        "  # representation of model layers\n",
        "  from keras.utils.vis_utils import plot_model\n",
        "  plot_model(mlp, to_file='/content/drive/MyDrive/Colab_Notebooks/Plots/mlp_binary.png', show_shapes=True,)"
      ]
    },
    {
      "cell_type": "code",
      "execution_count": 30,
      "metadata": {
        "id": "oxHdln0c6Xi_",
        "colab": {
          "base_uri": "https://localhost:8080/"
        },
        "outputId": "a817f177-25a9-444f-b10f-7a239e9331ba"
      },
      "outputs": [
        {
          "output_type": "stream",
          "name": "stdout",
          "text": [
            "2212/2212 [==============================] - 4s 2ms/step\n"
          ]
        }
      ],
      "source": [
        "if model_selection[model_flag]==\"ALL\" or model_selection[model_flag] == \"MLP\":\n",
        "  y_pred = mlp.predict(X_test).ravel()\n",
        "  fpr, tpr, thresholds = roc_curve(y_test, y_pred)\n",
        "  auc = auc(fpr, tpr)"
      ]
    },
    {
      "cell_type": "code",
      "execution_count": 31,
      "metadata": {
        "id": "Cr36q9Z-6aRU",
        "colab": {
          "base_uri": "https://localhost:8080/",
          "height": 295
        },
        "outputId": "56f10813-1ff7-4188-a909-843ead24db2a"
      },
      "outputs": [
        {
          "output_type": "display_data",
          "data": {
            "text/plain": [
              "<Figure size 432x288 with 1 Axes>"
            ],
            "image/png": "[encoded data removed]"
          },
          "metadata": {
            "needs_background": "light"
          }
        }
      ],
      "source": [
        "if model_selection[model_flag]==\"ALL\" or model_selection[model_flag] == \"MLP\":\n",
        "  plt.plot([0, 1], [0, 1], 'k--')\n",
        "  plt.plot(fpr, tpr, label='Keras (area = {:.3f})'.format(auc))\n",
        "  plt.xlabel('False positive rate')\n",
        "  plt.ylabel('True positive rate')\n",
        "  plt.title('ROC curve')\n",
        "  plt.legend(loc='best')\n",
        "  plt.savefig('/content/drive/MyDrive/Colab_Notebooks/Plots/mlp_binary_roc.png')\n",
        "  plt.show()"
      ]
    },
    {
      "cell_type": "code",
      "execution_count": 32,
      "metadata": {
        "id": "U9f2bWPwFljk"
      },
      "outputs": [],
      "source": [
        "# real_data_kdd = bin_data.copy()\n",
        "\n",
        "# # Names of the columns that are discrete\n",
        "# cat_cols = real_data_kdd.select_dtypes(['object']).columns\n",
        "# # cat_cols\n",
        "# test_data = real_data_kdd.iloc[:999]\n",
        "\n",
        "# corr= test_data.corr()\n",
        "# corr_y = abs(corr['binary_label'])\n",
        "# highest_corr = corr_y\n",
        "# highest_corr.sort_values(ascending=True)"
      ]
    },
    {
      "cell_type": "code",
      "execution_count": 33,
      "metadata": {
        "id": "8-clVdUoUPa-",
        "colab": {
          "base_uri": "https://localhost:8080/"
        },
        "outputId": "d0be363e-7a03-4197-c04e-c13d12dab05a"
      },
      "outputs": [
        {
          "output_type": "stream",
          "name": "stdout",
          "text": [
            "2212/2212 [==============================] - 7s 3ms/step\n"
          ]
        }
      ],
      "source": [
        "if model_selection[model_flag]==\"ALL\" or model_selection[model_flag] == \"MLP\":\n",
        "  y_classes = (mlp.predict(X_test)>0.5).astype('int32')"
      ]
    },
    {
      "cell_type": "code",
      "execution_count": 34,
      "metadata": {
        "id": "0jcFqEqFT-uq",
        "colab": {
          "base_uri": "https://localhost:8080/"
        },
        "outputId": "5d83516e-d5d1-4db0-cfab-07e43e16f5fe"
      },
      "outputs": [
        {
          "output_type": "stream",
          "name": "stdout",
          "text": [
            "Recall Score -  0.984218026989461\n",
            "F1 Score -  0.8897937758973095\n",
            "Precision Score -  0.8119013062409289\n"
          ]
        }
      ],
      "source": [
        "if model_selection[model_flag]==\"ALL\" or model_selection[model_flag] == \"MLP\":\n",
        "  print(\"Recall Score - \",recall_score(y_test,y_classes))\n",
        "  print(\"F1 Score - \",f1_score(y_test,y_classes))\n",
        "  print(\"Precision Score - \",precision_score(y_test,y_classes))"
      ]
    },
    {
      "cell_type": "code",
      "source": [
        "print(classification_report(y_test, y_classes, target_names=['0', '1']))\n",
        "cm = confusion_matrix(y_test, y_classes)\n",
        "disp = ConfusionMatrixDisplay(confusion_matrix=cm,\n",
        "                              display_labels=['0', '1'])\n",
        "disp.plot()\n",
        "\n",
        "plt.show()"
      ],
      "metadata": {
        "id": "3HJB6IXJsxjg"
      },
      "execution_count": null,
      "outputs": []
    },
    {
      "cell_type": "markdown",
      "source": [
        "# **Correlation** Matrix of Features"
      ],
      "metadata": {
        "id": "j7BKdCwqs2RE"
      }
    },
    {
      "cell_type": "code",
      "execution_count": 35,
      "metadata": {
        "id": "TL8zt-tHLt90",
        "colab": {
          "base_uri": "https://localhost:8080/"
        },
        "outputId": "b923796b-ceea-4483-ecc5-5f5771f7da65"
      },
      "outputs": [
        {
          "output_type": "execute_result",
          "data": {
            "text/plain": [
              "min_packet_length         0.316346\n",
              "flow_iat_std              0.331296\n",
              "idle_min                  0.376361\n",
              "fwd_iat_max               0.384519\n",
              "flow_iat_max              0.384662\n",
              "idle_mean                 0.386310\n",
              "idle_max                  0.390092\n",
              "average_packet_size       0.415772\n",
              "packet_length_mean        0.416661\n",
              "fwd_iat_std               0.420072\n",
              "packet_length_variance    0.454557\n",
              "max_packet_length         0.455605\n",
              "packet_length_std         0.471418\n",
              "avg_bwd_segment_size      0.485488\n",
              "bwd_packet_length_mean    0.485488\n",
              "bwd_packet_length_max     0.493402\n",
              "bwd_packet_length_std     0.511428\n",
              "binary_label              1.000000\n",
              "Name: binary_label, dtype: float64"
            ]
          },
          "metadata": {},
          "execution_count": 35
        }
      ],
      "source": [
        "corr= bin_data.corr()\n",
        "corr_y = abs(corr['binary_label'])\n",
        "highest_corr = corr_y[corr_y >0.3]\n",
        "highest_corr.sort_values(ascending=True)"
      ]
    },
    {
      "cell_type": "code",
      "source": [
        "plt.matshow(corr)\n",
        "plt.show()"
      ],
      "metadata": {
        "colab": {
          "base_uri": "https://localhost:8080/",
          "height": 275
        },
        "id": "q4b094WVtQQ7",
        "outputId": "cd85f346-a182-43ee-a400-1733d538bd7a"
      },
      "execution_count": 94,
      "outputs": [
        {
          "output_type": "display_data",
          "data": {
            "text/plain": [
              "<Figure size 288x288 with 1 Axes>"
            ],
            "image/png": "[encoded data removed]"
          },
          "metadata": {
            "needs_background": "light"
          }
        }
      ]
    },
    {
      "cell_type": "markdown",
      "metadata": {
        "id": "ZHhtNjFLPj6Y"
      },
      "source": [
        "## **LSTM Classifier**"
      ]
    },
    {
      "cell_type": "code",
      "execution_count": 36,
      "metadata": {
        "id": "DTNPkQMNL5Eh",
        "colab": {
          "base_uri": "https://localhost:8080/"
        },
        "outputId": "d42a563a-5770-483d-f2e6-d8c82c900887"
      },
      "outputs": [
        {
          "output_type": "execute_result",
          "data": {
            "text/plain": [
              "(212305, 78)"
            ]
          },
          "metadata": {},
          "execution_count": 36
        }
      ],
      "source": [
        "X_train = np.array(X_train)\n",
        "X_test = np.array(X_test)\n",
        "# y_train.shape   #(18896,)\n",
        "X_train.shape"
      ]
    },
    {
      "cell_type": "code",
      "execution_count": 37,
      "metadata": {
        "id": "9n-QlBDXPMl4",
        "colab": {
          "base_uri": "https://localhost:8080/"
        },
        "outputId": "4dcde8ea-01ef-467a-b273-f652cc11f791"
      },
      "outputs": [
        {
          "output_type": "execute_result",
          "data": {
            "text/plain": [
              "numpy.ndarray"
            ]
          },
          "metadata": {},
          "execution_count": 37
        }
      ],
      "source": [
        "y_train = np.array(y_train)\n",
        "type(y_train)"
      ]
    },
    {
      "cell_type": "code",
      "execution_count": 38,
      "metadata": {
        "id": "-8Ro_ZRQPdZz",
        "colab": {
          "base_uri": "https://localhost:8080/"
        },
        "outputId": "f715f096-ff9d-46c4-8dd2-d53728982246"
      },
      "outputs": [
        {
          "output_type": "execute_result",
          "data": {
            "text/plain": [
              "(212305, 1, 78)"
            ]
          },
          "metadata": {},
          "execution_count": 38
        }
      ],
      "source": [
        "x_train = np.reshape(X_train, (X_train.shape[0],1,X_train.shape[1]))\n",
        "x_train.shape"
      ]
    },
    {
      "cell_type": "code",
      "execution_count": 39,
      "metadata": {
        "id": "pLIl946zQQwG",
        "colab": {
          "base_uri": "https://localhost:8080/"
        },
        "outputId": "def05f25-eee6-4081-dfb6-d2f34eae4a0f"
      },
      "outputs": [
        {
          "output_type": "execute_result",
          "data": {
            "text/plain": [
              "(70769, 1, 78)"
            ]
          },
          "metadata": {},
          "execution_count": 39
        }
      ],
      "source": [
        "x_test = np.reshape(X_test, (X_test.shape[0],1,X_test.shape[1]))\n",
        "x_test.shape"
      ]
    },
    {
      "cell_type": "code",
      "execution_count": 40,
      "metadata": {
        "id": "jWsrkPEmQcY7"
      },
      "outputs": [],
      "source": [
        "if model_selection[model_flag]==\"ALL\" or model_selection[model_flag] == \"LSTM\":\n",
        "  lst = Sequential()\n",
        "  # input layer and LSTM layer with 50 neurons\n",
        "  input_features = x_train.shape[2]\n",
        "  lst.add(LSTM(50,input_dim=input_features))\n",
        "\n",
        "  # outpute layer with sigmoid activation\n",
        "  lst.add(Dense(1,activation='sigmoid'))"
      ]
    },
    {
      "cell_type": "code",
      "execution_count": 41,
      "metadata": {
        "id": "UEmba1H9Q_qj"
      },
      "outputs": [],
      "source": [
        "if model_selection[model_flag]==\"ALL\" or model_selection[model_flag] == \"LSTM\":\n",
        "  # defining loss function, optimizer, metrics and then compiling model\n",
        "  lst.compile(loss='binary_crossentropy',optimizer='adam',metrics=['accuracy'])"
      ]
    },
    {
      "cell_type": "code",
      "execution_count": 42,
      "metadata": {
        "id": "anR58jV2RCtz",
        "colab": {
          "base_uri": "https://localhost:8080/"
        },
        "outputId": "ee9e75bc-d045-4321-c4c2-9af55ea94493"
      },
      "outputs": [
        {
          "output_type": "stream",
          "name": "stdout",
          "text": [
            "Model: \"sequential_1\"\n",
            "_________________________________________________________________\n",
            " Layer (type)                Output Shape              Param #   \n",
            "=================================================================\n",
            " lstm (LSTM)                 (None, 50)                25800     \n",
            "                                                                 \n",
            " dense_2 (Dense)             (None, 1)                 51        \n",
            "                                                                 \n",
            "=================================================================\n",
            "Total params: 25,851\n",
            "Trainable params: 25,851\n",
            "Non-trainable params: 0\n",
            "_________________________________________________________________\n"
          ]
        }
      ],
      "source": [
        "if model_selection[model_flag]==\"ALL\" or model_selection[model_flag] == \"LSTM\":\n",
        "  # summary of model layers\n",
        "  lst.summary()"
      ]
    },
    {
      "cell_type": "code",
      "execution_count": 43,
      "metadata": {
        "id": "_Pa4Qi12RJS_",
        "colab": {
          "base_uri": "https://localhost:8080/"
        },
        "outputId": "6f666f2b-05ac-4d9b-aebe-2bfd719a6489"
      },
      "outputs": [
        {
          "output_type": "stream",
          "name": "stdout",
          "text": [
            "Epoch 1/100\n",
            "34/34 [==============================] - 6s 78ms/step - loss: 0.5893 - accuracy: 0.8062 - val_loss: 0.5034 - val_accuracy: 0.8316\n",
            "Epoch 2/100\n",
            "34/34 [==============================] - 1s 42ms/step - loss: 0.4471 - accuracy: 0.8575 - val_loss: 0.3983 - val_accuracy: 0.8679\n",
            "Epoch 3/100\n",
            "34/34 [==============================] - 1s 42ms/step - loss: 0.3767 - accuracy: 0.8724 - val_loss: 0.3550 - val_accuracy: 0.8789\n",
            "Epoch 4/100\n",
            "34/34 [==============================] - 1s 43ms/step - loss: 0.3451 - accuracy: 0.8838 - val_loss: 0.3310 - val_accuracy: 0.8882\n",
            "Epoch 5/100\n",
            "34/34 [==============================] - 1s 42ms/step - loss: 0.3239 - accuracy: 0.8864 - val_loss: 0.3122 - val_accuracy: 0.8880\n",
            "Epoch 6/100\n",
            "34/34 [==============================] - 1s 42ms/step - loss: 0.3056 - accuracy: 0.8863 - val_loss: 0.2945 - val_accuracy: 0.8879\n",
            "Epoch 7/100\n",
            "34/34 [==============================] - 2s 58ms/step - loss: 0.2877 - accuracy: 0.8864 - val_loss: 0.2769 - val_accuracy: 0.8882\n",
            "Epoch 8/100\n",
            "34/34 [==============================] - 2s 65ms/step - loss: 0.2699 - accuracy: 0.8865 - val_loss: 0.2598 - val_accuracy: 0.8874\n",
            "Epoch 9/100\n",
            "34/34 [==============================] - 2s 56ms/step - loss: 0.2533 - accuracy: 0.8869 - val_loss: 0.2447 - val_accuracy: 0.8895\n",
            "Epoch 10/100\n",
            "34/34 [==============================] - 1s 41ms/step - loss: 0.2394 - accuracy: 0.8874 - val_loss: 0.2326 - val_accuracy: 0.8890\n",
            "Epoch 11/100\n",
            "34/34 [==============================] - 1s 43ms/step - loss: 0.2285 - accuracy: 0.8867 - val_loss: 0.2231 - val_accuracy: 0.8879\n",
            "Epoch 12/100\n",
            "34/34 [==============================] - 1s 41ms/step - loss: 0.2198 - accuracy: 0.8865 - val_loss: 0.2155 - val_accuracy: 0.8878\n",
            "Epoch 13/100\n",
            "34/34 [==============================] - 1s 44ms/step - loss: 0.2125 - accuracy: 0.8903 - val_loss: 0.2087 - val_accuracy: 0.8908\n",
            "Epoch 14/100\n",
            "34/34 [==============================] - 2s 48ms/step - loss: 0.2059 - accuracy: 0.8956 - val_loss: 0.2024 - val_accuracy: 0.8958\n",
            "Epoch 15/100\n",
            "34/34 [==============================] - 1s 43ms/step - loss: 0.1997 - accuracy: 0.9007 - val_loss: 0.1964 - val_accuracy: 0.9026\n",
            "Epoch 16/100\n",
            "34/34 [==============================] - 2s 59ms/step - loss: 0.1938 - accuracy: 0.9011 - val_loss: 0.1905 - val_accuracy: 0.9044\n",
            "Epoch 17/100\n",
            "34/34 [==============================] - 2s 67ms/step - loss: 0.1879 - accuracy: 0.9097 - val_loss: 0.1849 - val_accuracy: 0.9248\n",
            "Epoch 18/100\n",
            "34/34 [==============================] - 2s 57ms/step - loss: 0.1823 - accuracy: 0.9199 - val_loss: 0.1793 - val_accuracy: 0.9241\n",
            "Epoch 19/100\n",
            "34/34 [==============================] - 1s 43ms/step - loss: 0.1769 - accuracy: 0.9273 - val_loss: 0.1742 - val_accuracy: 0.9271\n",
            "Epoch 20/100\n",
            "34/34 [==============================] - 2s 48ms/step - loss: 0.1717 - accuracy: 0.9319 - val_loss: 0.1693 - val_accuracy: 0.9368\n",
            "Epoch 21/100\n",
            "34/34 [==============================] - 2s 48ms/step - loss: 0.1669 - accuracy: 0.9340 - val_loss: 0.1646 - val_accuracy: 0.9358\n",
            "Epoch 22/100\n",
            "34/34 [==============================] - 1s 44ms/step - loss: 0.1623 - accuracy: 0.9371 - val_loss: 0.1602 - val_accuracy: 0.9378\n",
            "Epoch 23/100\n",
            "34/34 [==============================] - 2s 60ms/step - loss: 0.1580 - accuracy: 0.9394 - val_loss: 0.1561 - val_accuracy: 0.9404\n",
            "Epoch 24/100\n",
            "34/34 [==============================] - 2s 53ms/step - loss: 0.1539 - accuracy: 0.9409 - val_loss: 0.1522 - val_accuracy: 0.9421\n",
            "Epoch 25/100\n",
            "34/34 [==============================] - 2s 69ms/step - loss: 0.1501 - accuracy: 0.9423 - val_loss: 0.1485 - val_accuracy: 0.9435\n",
            "Epoch 26/100\n",
            "34/34 [==============================] - 2s 61ms/step - loss: 0.1465 - accuracy: 0.9441 - val_loss: 0.1451 - val_accuracy: 0.9456\n",
            "Epoch 27/100\n",
            "34/34 [==============================] - 1s 43ms/step - loss: 0.1432 - accuracy: 0.9460 - val_loss: 0.1420 - val_accuracy: 0.9470\n",
            "Epoch 28/100\n",
            "34/34 [==============================] - 2s 51ms/step - loss: 0.1401 - accuracy: 0.9480 - val_loss: 0.1391 - val_accuracy: 0.9500\n",
            "Epoch 29/100\n",
            "34/34 [==============================] - 1s 43ms/step - loss: 0.1373 - accuracy: 0.9492 - val_loss: 0.1365 - val_accuracy: 0.9512\n",
            "Epoch 30/100\n",
            "34/34 [==============================] - 1s 43ms/step - loss: 0.1347 - accuracy: 0.9502 - val_loss: 0.1340 - val_accuracy: 0.9520\n",
            "Epoch 31/100\n",
            "34/34 [==============================] - 2s 47ms/step - loss: 0.1323 - accuracy: 0.9502 - val_loss: 0.1317 - val_accuracy: 0.9501\n",
            "Epoch 32/100\n",
            "34/34 [==============================] - 2s 47ms/step - loss: 0.1301 - accuracy: 0.9507 - val_loss: 0.1297 - val_accuracy: 0.9552\n",
            "Epoch 33/100\n",
            "34/34 [==============================] - 2s 62ms/step - loss: 0.1281 - accuracy: 0.9516 - val_loss: 0.1278 - val_accuracy: 0.9558\n",
            "Epoch 34/100\n",
            "34/34 [==============================] - 2s 70ms/step - loss: 0.1263 - accuracy: 0.9532 - val_loss: 0.1258 - val_accuracy: 0.9560\n",
            "Epoch 35/100\n",
            "34/34 [==============================] - 2s 50ms/step - loss: 0.1245 - accuracy: 0.9553 - val_loss: 0.1241 - val_accuracy: 0.9558\n",
            "Epoch 36/100\n",
            "34/34 [==============================] - 1s 44ms/step - loss: 0.1228 - accuracy: 0.9559 - val_loss: 0.1226 - val_accuracy: 0.9566\n",
            "Epoch 37/100\n",
            "34/34 [==============================] - 1s 43ms/step - loss: 0.1213 - accuracy: 0.9566 - val_loss: 0.1210 - val_accuracy: 0.9570\n",
            "Epoch 38/100\n",
            "34/34 [==============================] - 1s 43ms/step - loss: 0.1198 - accuracy: 0.9568 - val_loss: 0.1196 - val_accuracy: 0.9565\n",
            "Epoch 39/100\n",
            "34/34 [==============================] - 1s 43ms/step - loss: 0.1185 - accuracy: 0.9571 - val_loss: 0.1183 - val_accuracy: 0.9565\n",
            "Epoch 40/100\n",
            "34/34 [==============================] - 2s 46ms/step - loss: 0.1172 - accuracy: 0.9576 - val_loss: 0.1171 - val_accuracy: 0.9574\n",
            "Epoch 41/100\n",
            "34/34 [==============================] - 1s 43ms/step - loss: 0.1160 - accuracy: 0.9576 - val_loss: 0.1158 - val_accuracy: 0.9581\n",
            "Epoch 42/100\n",
            "34/34 [==============================] - 2s 68ms/step - loss: 0.1149 - accuracy: 0.9578 - val_loss: 0.1147 - val_accuracy: 0.9582\n",
            "Epoch 43/100\n",
            "34/34 [==============================] - 2s 69ms/step - loss: 0.1137 - accuracy: 0.9583 - val_loss: 0.1137 - val_accuracy: 0.9578\n",
            "Epoch 44/100\n",
            "34/34 [==============================] - 2s 53ms/step - loss: 0.1128 - accuracy: 0.9584 - val_loss: 0.1126 - val_accuracy: 0.9584\n",
            "Epoch 45/100\n",
            "34/34 [==============================] - 2s 48ms/step - loss: 0.1117 - accuracy: 0.9588 - val_loss: 0.1117 - val_accuracy: 0.9590\n",
            "Epoch 46/100\n",
            "34/34 [==============================] - 1s 43ms/step - loss: 0.1108 - accuracy: 0.9590 - val_loss: 0.1106 - val_accuracy: 0.9596\n",
            "Epoch 47/100\n",
            "34/34 [==============================] - 1s 43ms/step - loss: 0.1098 - accuracy: 0.9593 - val_loss: 0.1097 - val_accuracy: 0.9596\n",
            "Epoch 48/100\n",
            "34/34 [==============================] - 1s 42ms/step - loss: 0.1088 - accuracy: 0.9593 - val_loss: 0.1089 - val_accuracy: 0.9595\n",
            "Epoch 49/100\n",
            "34/34 [==============================] - 1s 44ms/step - loss: 0.1080 - accuracy: 0.9595 - val_loss: 0.1080 - val_accuracy: 0.9602\n",
            "Epoch 50/100\n",
            "34/34 [==============================] - 2s 51ms/step - loss: 0.1072 - accuracy: 0.9596 - val_loss: 0.1072 - val_accuracy: 0.9598\n",
            "Epoch 51/100\n",
            "34/34 [==============================] - 2s 68ms/step - loss: 0.1064 - accuracy: 0.9599 - val_loss: 0.1064 - val_accuracy: 0.9602\n",
            "Epoch 52/100\n",
            "34/34 [==============================] - 2s 66ms/step - loss: 0.1055 - accuracy: 0.9599 - val_loss: 0.1056 - val_accuracy: 0.9604\n",
            "Epoch 53/100\n",
            "34/34 [==============================] - 1s 42ms/step - loss: 0.1048 - accuracy: 0.9602 - val_loss: 0.1049 - val_accuracy: 0.9606\n",
            "Epoch 54/100\n",
            "34/34 [==============================] - 2s 48ms/step - loss: 0.1040 - accuracy: 0.9602 - val_loss: 0.1042 - val_accuracy: 0.9609\n",
            "Epoch 55/100\n",
            "34/34 [==============================] - 1s 43ms/step - loss: 0.1033 - accuracy: 0.9605 - val_loss: 0.1035 - val_accuracy: 0.9605\n",
            "Epoch 56/100\n",
            "34/34 [==============================] - 1s 42ms/step - loss: 0.1027 - accuracy: 0.9606 - val_loss: 0.1028 - val_accuracy: 0.9604\n",
            "Epoch 57/100\n",
            "34/34 [==============================] - 2s 47ms/step - loss: 0.1021 - accuracy: 0.9605 - val_loss: 0.1021 - val_accuracy: 0.9606\n",
            "Epoch 58/100\n",
            "34/34 [==============================] - 2s 44ms/step - loss: 0.1014 - accuracy: 0.9609 - val_loss: 0.1015 - val_accuracy: 0.9612\n",
            "Epoch 59/100\n",
            "34/34 [==============================] - 2s 56ms/step - loss: 0.1009 - accuracy: 0.9611 - val_loss: 0.1014 - val_accuracy: 0.9612\n",
            "Epoch 60/100\n",
            "34/34 [==============================] - 2s 71ms/step - loss: 0.1002 - accuracy: 0.9612 - val_loss: 0.1004 - val_accuracy: 0.9611\n",
            "Epoch 61/100\n",
            "34/34 [==============================] - 2s 57ms/step - loss: 0.0996 - accuracy: 0.9612 - val_loss: 0.0998 - val_accuracy: 0.9617\n",
            "Epoch 62/100\n",
            "34/34 [==============================] - 2s 45ms/step - loss: 0.0990 - accuracy: 0.9615 - val_loss: 0.0992 - val_accuracy: 0.9613\n",
            "Epoch 63/100\n",
            "34/34 [==============================] - 2s 51ms/step - loss: 0.0985 - accuracy: 0.9615 - val_loss: 0.0988 - val_accuracy: 0.9617\n",
            "Epoch 64/100\n",
            "34/34 [==============================] - 2s 49ms/step - loss: 0.0980 - accuracy: 0.9616 - val_loss: 0.0982 - val_accuracy: 0.9618\n",
            "Epoch 65/100\n",
            "34/34 [==============================] - 2s 48ms/step - loss: 0.0974 - accuracy: 0.9617 - val_loss: 0.0977 - val_accuracy: 0.9620\n",
            "Epoch 66/100\n",
            "34/34 [==============================] - 1s 44ms/step - loss: 0.0970 - accuracy: 0.9619 - val_loss: 0.0973 - val_accuracy: 0.9618\n",
            "Epoch 67/100\n",
            "34/34 [==============================] - 2s 46ms/step - loss: 0.0966 - accuracy: 0.9622 - val_loss: 0.0968 - val_accuracy: 0.9622\n",
            "Epoch 68/100\n",
            "34/34 [==============================] - 2s 66ms/step - loss: 0.0960 - accuracy: 0.9621 - val_loss: 0.0963 - val_accuracy: 0.9623\n",
            "Epoch 69/100\n",
            "34/34 [==============================] - 2s 69ms/step - loss: 0.0956 - accuracy: 0.9625 - val_loss: 0.0958 - val_accuracy: 0.9623\n",
            "Epoch 70/100\n",
            "34/34 [==============================] - 2s 47ms/step - loss: 0.0951 - accuracy: 0.9627 - val_loss: 0.0954 - val_accuracy: 0.9632\n",
            "Epoch 71/100\n",
            "34/34 [==============================] - 2s 46ms/step - loss: 0.0946 - accuracy: 0.9627 - val_loss: 0.0951 - val_accuracy: 0.9628\n",
            "Epoch 72/100\n",
            "34/34 [==============================] - 1s 42ms/step - loss: 0.0943 - accuracy: 0.9630 - val_loss: 0.0949 - val_accuracy: 0.9637\n",
            "Epoch 73/100\n",
            "34/34 [==============================] - 2s 48ms/step - loss: 0.0939 - accuracy: 0.9635 - val_loss: 0.0942 - val_accuracy: 0.9640\n",
            "Epoch 74/100\n",
            "34/34 [==============================] - 1s 44ms/step - loss: 0.0934 - accuracy: 0.9633 - val_loss: 0.0938 - val_accuracy: 0.9640\n",
            "Epoch 75/100\n",
            "34/34 [==============================] - 1s 43ms/step - loss: 0.0930 - accuracy: 0.9641 - val_loss: 0.0935 - val_accuracy: 0.9641\n",
            "Epoch 76/100\n",
            "34/34 [==============================] - 2s 53ms/step - loss: 0.0927 - accuracy: 0.9641 - val_loss: 0.0930 - val_accuracy: 0.9636\n",
            "Epoch 77/100\n",
            "34/34 [==============================] - 2s 68ms/step - loss: 0.0922 - accuracy: 0.9637 - val_loss: 0.0927 - val_accuracy: 0.9636\n",
            "Epoch 78/100\n",
            "34/34 [==============================] - 2s 66ms/step - loss: 0.0918 - accuracy: 0.9642 - val_loss: 0.0922 - val_accuracy: 0.9637\n",
            "Epoch 79/100\n",
            "34/34 [==============================] - 2s 47ms/step - loss: 0.0915 - accuracy: 0.9644 - val_loss: 0.0921 - val_accuracy: 0.9649\n",
            "Epoch 80/100\n",
            "34/34 [==============================] - 1s 41ms/step - loss: 0.0911 - accuracy: 0.9644 - val_loss: 0.0915 - val_accuracy: 0.9638\n",
            "Epoch 81/100\n",
            "34/34 [==============================] - 2s 49ms/step - loss: 0.0907 - accuracy: 0.9645 - val_loss: 0.0912 - val_accuracy: 0.9643\n",
            "Epoch 82/100\n",
            "34/34 [==============================] - 1s 42ms/step - loss: 0.0905 - accuracy: 0.9646 - val_loss: 0.0910 - val_accuracy: 0.9638\n",
            "Epoch 83/100\n",
            "34/34 [==============================] - 1s 40ms/step - loss: 0.0901 - accuracy: 0.9647 - val_loss: 0.0905 - val_accuracy: 0.9640\n",
            "Epoch 84/100\n",
            "34/34 [==============================] - 1s 43ms/step - loss: 0.0897 - accuracy: 0.9646 - val_loss: 0.0904 - val_accuracy: 0.9650\n",
            "Epoch 85/100\n",
            "34/34 [==============================] - 2s 56ms/step - loss: 0.0895 - accuracy: 0.9648 - val_loss: 0.0899 - val_accuracy: 0.9639\n",
            "Epoch 86/100\n",
            "34/34 [==============================] - 2s 67ms/step - loss: 0.0891 - accuracy: 0.9647 - val_loss: 0.0896 - val_accuracy: 0.9643\n",
            "Epoch 87/100\n",
            "34/34 [==============================] - 2s 62ms/step - loss: 0.0888 - accuracy: 0.9650 - val_loss: 0.0892 - val_accuracy: 0.9646\n",
            "Epoch 88/100\n",
            "34/34 [==============================] - 1s 43ms/step - loss: 0.0884 - accuracy: 0.9651 - val_loss: 0.0891 - val_accuracy: 0.9651\n",
            "Epoch 89/100\n",
            "34/34 [==============================] - 1s 42ms/step - loss: 0.0882 - accuracy: 0.9651 - val_loss: 0.0886 - val_accuracy: 0.9652\n",
            "Epoch 90/100\n",
            "34/34 [==============================] - 1s 44ms/step - loss: 0.0878 - accuracy: 0.9652 - val_loss: 0.0883 - val_accuracy: 0.9643\n",
            "Epoch 91/100\n",
            "34/34 [==============================] - 1s 42ms/step - loss: 0.0875 - accuracy: 0.9653 - val_loss: 0.0880 - val_accuracy: 0.9654\n",
            "Epoch 92/100\n",
            "34/34 [==============================] - 1s 43ms/step - loss: 0.0872 - accuracy: 0.9654 - val_loss: 0.0878 - val_accuracy: 0.9647\n",
            "Epoch 93/100\n",
            "34/34 [==============================] - 2s 45ms/step - loss: 0.0868 - accuracy: 0.9655 - val_loss: 0.0874 - val_accuracy: 0.9655\n",
            "Epoch 94/100\n",
            "34/34 [==============================] - 2s 64ms/step - loss: 0.0865 - accuracy: 0.9655 - val_loss: 0.0871 - val_accuracy: 0.9652\n",
            "Epoch 95/100\n",
            "34/34 [==============================] - 2s 71ms/step - loss: 0.0863 - accuracy: 0.9656 - val_loss: 0.0869 - val_accuracy: 0.9653\n",
            "Epoch 96/100\n",
            "34/34 [==============================] - 2s 58ms/step - loss: 0.0862 - accuracy: 0.9655 - val_loss: 0.0866 - val_accuracy: 0.9656\n",
            "Epoch 97/100\n",
            "34/34 [==============================] - 1s 43ms/step - loss: 0.0857 - accuracy: 0.9657 - val_loss: 0.0863 - val_accuracy: 0.9650\n",
            "Epoch 98/100\n",
            "34/34 [==============================] - 2s 47ms/step - loss: 0.0854 - accuracy: 0.9658 - val_loss: 0.0860 - val_accuracy: 0.9654\n",
            "Epoch 99/100\n",
            "34/34 [==============================] - 2s 45ms/step - loss: 0.0852 - accuracy: 0.9658 - val_loss: 0.0858 - val_accuracy: 0.9658\n",
            "Epoch 100/100\n",
            "34/34 [==============================] - 1s 44ms/step - loss: 0.0849 - accuracy: 0.9658 - val_loss: 0.0855 - val_accuracy: 0.9652\n"
          ]
        }
      ],
      "source": [
        "if model_selection[model_flag]==\"ALL\" or model_selection[model_flag] == \"LSTM\":\n",
        "  # training the model on training dataset\n",
        "  history = lst.fit(x_train, y_train, epochs=100, batch_size=5000,validation_split=0.2)"
      ]
    },
    {
      "cell_type": "code",
      "execution_count": 44,
      "metadata": {
        "id": "BCQtvJcXRcNr"
      },
      "outputs": [],
      "source": [
        "if model_selection[model_flag]==\"ALL\" or model_selection[model_flag] == \"LSTM\":\n",
        "  filepath = '/content/drive/MyDrive/Colab_Notebooks/Models/lst_binary_cicids.json'\n",
        "  weightspath = '/content/drive/MyDrive/Colab_Notebooks/Weights/lst_binary_cicids.h5'\n",
        "  if (not path.isfile(filepath)):\n",
        "    # serialize model to JSON\n",
        "    lst_json = lst.to_json()\n",
        "    with open(filepath, \"w\") as json_file:\n",
        "      json_file.write(lst_json)\n",
        "\n",
        "    # serialize weights to HDF5\n",
        "    lst.save_weights(weightspath)\n",
        "    print(\"Saved model to disk\")\n",
        "\n",
        "    # load json and create model\n",
        "    json_file = open(filepath, 'r')\n",
        "    loaded_model_json = json_file.read()\n",
        "    json_file.close()\n",
        "    lst = model_from_json(loaded_model_json)\n",
        "\n",
        "    # load weights into new model\n",
        "    lst.load_weights(weightspath)\n",
        "    print(\"Loaded model from disk\")"
      ]
    },
    {
      "cell_type": "code",
      "execution_count": 45,
      "metadata": {
        "id": "rPaW37T-R0dG",
        "colab": {
          "base_uri": "https://localhost:8080/"
        },
        "outputId": "2b21f928-97e2-4f55-ff4d-4dfe7aae5626"
      },
      "outputs": [
        {
          "output_type": "stream",
          "name": "stdout",
          "text": [
            "Loaded model from disk\n"
          ]
        }
      ],
      "source": [
        "if model_selection[model_flag]==\"ALL\" or model_selection[model_flag] == \"LSTM\":\n",
        "  # load json and create model\n",
        "  json_file = open(filepath, 'r')\n",
        "  loaded_model_json = json_file.read()\n",
        "  json_file.close()\n",
        "  lst = model_from_json(loaded_model_json)\n",
        "\n",
        "  # load weights into new model\n",
        "  lst.load_weights(weightspath)\n",
        "  print(\"Loaded model from disk\")"
      ]
    },
    {
      "cell_type": "code",
      "execution_count": 46,
      "metadata": {
        "id": "ukGDdSggR3na"
      },
      "outputs": [],
      "source": [
        "if model_selection[model_flag]==\"ALL\" or model_selection[model_flag] == \"LSTM\":\n",
        "  # defining loss function, optimizer, metrics and then compiling model\n",
        "  lst.compile(loss='binary_crossentropy',optimizer='adam',metrics=['accuracy'])"
      ]
    },
    {
      "cell_type": "code",
      "execution_count": 47,
      "metadata": {
        "id": "nvjY0u97R68f",
        "colab": {
          "base_uri": "https://localhost:8080/"
        },
        "outputId": "6f16b1cb-5ed1-4cbc-aee1-87a16a258f3d"
      },
      "outputs": [
        {
          "output_type": "stream",
          "name": "stdout",
          "text": [
            "2212/2212 [==============================] - 5s 2ms/step - loss: 0.4740 - accuracy: 0.8110\n",
            "Test results - Loss: 0.4740010201931 - Accuracy: 81.09765648841858%\n"
          ]
        }
      ],
      "source": [
        "if model_selection[model_flag]==\"ALL\" or model_selection[model_flag] == \"LSTM\":\n",
        "  # predicting target attribute on testing dataset\n",
        "  test_results = lst.evaluate(x_test, y_test, verbose=1)\n",
        "  print(f'Test results - Loss: {test_results[0]} - Accuracy: {test_results[1]*100}%')"
      ]
    },
    {
      "cell_type": "code",
      "execution_count": 48,
      "metadata": {
        "id": "f8yKMcIHR_jP",
        "colab": {
          "base_uri": "https://localhost:8080/",
          "height": 295
        },
        "outputId": "9128694d-b314-4c23-8279-990a28a3e7cc"
      },
      "outputs": [
        {
          "output_type": "display_data",
          "data": {
            "text/plain": [
              "<Figure size 432x288 with 1 Axes>"
            ],
            "image/png": "[encoded data removed]"
          },
          "metadata": {
            "needs_background": "light"
          }
        }
      ],
      "source": [
        "if model_selection[model_flag]==\"ALL\" or model_selection[model_flag] == \"LSTM\":\n",
        "  # Plot of accuracy vs epoch of train and test dataset\n",
        "  plt.plot(history.history['accuracy'])\n",
        "  plt.plot(history.history['val_accuracy'])\n",
        "  plt.title(\"Plot of accuracy vs epoch for train and test dataset\")\n",
        "  plt.ylabel('accuracy')\n",
        "  plt.xlabel('epoch')\n",
        "  plt.legend(['train', 'test'], loc='best')\n",
        "  plt.savefig('/content/drive/MyDrive/Colab_Notebooks/Plots/lstm_binary_accuracy.png')\n",
        "  plt.show()"
      ]
    },
    {
      "cell_type": "code",
      "execution_count": 49,
      "metadata": {
        "id": "M5g1Rw_SSb5n",
        "colab": {
          "base_uri": "https://localhost:8080/",
          "height": 295
        },
        "outputId": "cc4723a8-a5e9-4e15-9afb-120fcf57a0d1"
      },
      "outputs": [
        {
          "output_type": "display_data",
          "data": {
            "text/plain": [
              "<Figure size 432x288 with 1 Axes>"
            ],
            "image/png": "[encoded data removed]"
          },
          "metadata": {
            "needs_background": "light"
          }
        }
      ],
      "source": [
        "if model_selection[model_flag]==\"ALL\" or model_selection[model_flag] == \"LSTM\":\n",
        "  # Plot of loss vs epoch of train and test dataset\n",
        "  plt.plot(history.history['loss'])\n",
        "  plt.plot(history.history['val_loss'])\n",
        "  plt.title(\"Plot of loss vs epoch for train and test dataset\")\n",
        "  plt.ylabel('loss')\n",
        "  plt.xlabel('epoch')\n",
        "  plt.legend(['train', 'test'], loc='best')\n",
        "  plt.savefig('/content/drive/MyDrive/Colab_Notebooks/Plots/lstm_binary_loss.png')\n",
        "  plt.show()"
      ]
    },
    {
      "cell_type": "code",
      "execution_count": 50,
      "metadata": {
        "id": "osZa2OV9Se-T"
      },
      "outputs": [],
      "source": [
        "if model_selection[model_flag]==\"ALL\" or model_selection[model_flag] == \"LSTM\":\n",
        "  # representation of model layers\n",
        "  plot_model(lst, to_file='/content/drive/MyDrive/Colab_Notebooks/Plots/lstm_binary.png', show_shapes=True,)"
      ]
    },
    {
      "cell_type": "code",
      "execution_count": 51,
      "metadata": {
        "id": "lw4OLD4HSpaY",
        "colab": {
          "base_uri": "https://localhost:8080/"
        },
        "outputId": "52c1de31-43c2-4d58-b1c4-319ea7807dc2"
      },
      "outputs": [
        {
          "output_type": "execute_result",
          "data": {
            "text/plain": [
              "(70769,)"
            ]
          },
          "metadata": {},
          "execution_count": 51
        }
      ],
      "source": [
        "y_test = np.array(y_test)\n",
        "y_test.shape"
      ]
    },
    {
      "cell_type": "code",
      "execution_count": 52,
      "metadata": {
        "id": "4BvYVrKsTGr3",
        "colab": {
          "base_uri": "https://localhost:8080/"
        },
        "outputId": "09397e0f-822d-4e39-a5ab-6939cb0c9033"
      },
      "outputs": [
        {
          "output_type": "execute_result",
          "data": {
            "text/plain": [
              "numpy.ndarray"
            ]
          },
          "metadata": {},
          "execution_count": 52
        }
      ],
      "source": [
        "type(y_test)"
      ]
    },
    {
      "cell_type": "code",
      "execution_count": 53,
      "metadata": {
        "id": "KBvCGl6BS0FM",
        "colab": {
          "base_uri": "https://localhost:8080/"
        },
        "outputId": "fec2f33f-eae8-4761-d520-aad713c0f392"
      },
      "outputs": [
        {
          "output_type": "stream",
          "name": "stdout",
          "text": [
            "2212/2212 [==============================] - 5s 2ms/step\n"
          ]
        }
      ],
      "source": [
        "if model_selection[model_flag]==\"ALL\" or model_selection[model_flag] == \"LSTM\":\n",
        "  y_classes = (lst.predict(x_test)>0.5).astype('int32')"
      ]
    },
    {
      "cell_type": "code",
      "execution_count": 54,
      "metadata": {
        "id": "x_yVqBlLTtLW",
        "colab": {
          "base_uri": "https://localhost:8080/"
        },
        "outputId": "f11d30a6-44a3-4696-f310-f63a3429e2cd"
      },
      "outputs": [
        {
          "output_type": "stream",
          "name": "stdout",
          "text": [
            "Recall Score -  0.9972201206960255\n",
            "F1 Score -  0.8944490472245236\n",
            "Precision Score -  0.8108815702881341\n"
          ]
        }
      ],
      "source": [
        "if model_selection[model_flag]==\"ALL\" or model_selection[model_flag] == \"LSTM\":\n",
        "  print(\"Recall Score - \",recall_score(y_test,y_classes))\n",
        "  print(\"F1 Score - \",f1_score(y_test,y_classes))\n",
        "  print(\"Precision Score - \",precision_score(y_test,y_classes))"
      ]
    },
    {
      "cell_type": "code",
      "source": [
        "print(classification_report(y_test, y_classes, target_names=['0', '1']))\n",
        "cm = confusion_matrix(y_test, y_classes)\n",
        "disp = ConfusionMatrixDisplay(confusion_matrix=cm,\n",
        "                              display_labels=['0', '1'])\n",
        "disp.plot()\n",
        "\n",
        "plt.show()"
      ],
      "metadata": {
        "colab": {
          "base_uri": "https://localhost:8080/",
          "height": 442
        },
        "id": "lHw1E32esovH",
        "outputId": "af286533-497c-4ad8-d20c-a455a860ef9d"
      },
      "execution_count": 93,
      "outputs": [
        {
          "output_type": "stream",
          "name": "stdout",
          "text": [
            "              precision    recall  f1-score   support\n",
            "\n",
            "           0       0.45      0.37      0.41     13932\n",
            "           1       0.85      0.89      0.87     56837\n",
            "\n",
            "    accuracy                           0.79     70769\n",
            "   macro avg       0.65      0.63      0.64     70769\n",
            "weighted avg       0.77      0.79      0.78     70769\n",
            "\n"
          ]
        },
        {
          "output_type": "display_data",
          "data": {
            "text/plain": [
              "<Figure size 432x288 with 2 Axes>"
            ],
            "image/png": "[encoded data removed]"
          },
          "metadata": {
            "needs_background": "light"
          }
        }
      ]
    },
    {
      "cell_type": "markdown",
      "metadata": {
        "id": "H_g15uXe82BY"
      },
      "source": [
        "## **Auto Encoder**"
      ]
    },
    {
      "cell_type": "code",
      "execution_count": 55,
      "metadata": {
        "id": "VQ6pDxghmBwB"
      },
      "outputs": [],
      "source": [
        "if model_selection[model_flag]==\"ALL\" or model_selection[model_flag] == \"AE\":\n",
        "  # splitting the dataset 75% for training and 25% testing\n",
        "  X_train, X_test = train_test_split(bin_data, test_size=0.25, random_state=42)"
      ]
    },
    {
      "cell_type": "code",
      "execution_count": 56,
      "metadata": {
        "id": "uogVT92Q_6wh"
      },
      "outputs": [],
      "source": [
        "if model_selection[model_flag]==\"ALL\" or model_selection[model_flag] == \"AE\":\n",
        "  # dataset excluding target attribute (encoded, one-hot-encoded,original)\n",
        "  X_train = X_train.drop(['binary_label'],axis=1) \n",
        "\n",
        "  y_test = X_test['binary_label'] # target attribute\n",
        "\n",
        "  # dataset excluding target attribute (encoded, one-hot-encoded,original)\n",
        "  X_test = X_test.drop(['binary_label'],axis=1)\n",
        "  # calling the normalization() function\n",
        "  X_train = normalization_train(X_train,numeric_cols)\n",
        "  X_test = normalization_test(X_test,numeric_cols)\n",
        "  X_train = X_train.values\n",
        "  X_test = X_test.values\n",
        "  y_test = y_test.values"
      ]
    },
    {
      "cell_type": "code",
      "execution_count": 57,
      "metadata": {
        "id": "s696BM9uKADC"
      },
      "outputs": [],
      "source": [
        "if model_selection[model_flag]==\"ALL\" or model_selection[model_flag] == \"AE\":\n",
        "  input_dim = X_train.shape[1]\n",
        "  encoding_dim = 50\n",
        "\n",
        "  #input layer\n",
        "  input_layer = Input(shape=(input_dim, ))\n",
        "  #encoding layer with 50 neurons\n",
        "  encoder = Dense(encoding_dim, activation=\"relu\")(input_layer)           \n",
        "  #decoding and output layer\n",
        "  output_layer = Dense(input_dim, activation='softmax')(encoder)"
      ]
    },
    {
      "cell_type": "code",
      "execution_count": 58,
      "metadata": {
        "id": "nLn3vHBZLQtj"
      },
      "outputs": [],
      "source": [
        "if model_selection[model_flag]==\"ALL\" or model_selection[model_flag] == \"AE\":\n",
        "  # creating model with input, encoding, decoding, output layers\n",
        "  autoencoder = Model(inputs=input_layer, outputs=output_layer)\n",
        "\n",
        "  # defining loss function, optimizer, metrics and then compiling model\n",
        "  autoencoder.compile(optimizer='adam', loss='mean_squared_error',metrics=['accuracy'])"
      ]
    },
    {
      "cell_type": "code",
      "execution_count": 59,
      "metadata": {
        "id": "X_zk7PMVLVNm",
        "colab": {
          "base_uri": "https://localhost:8080/"
        },
        "outputId": "aca327f7-b560-45b9-cf09-3d7214aa6559"
      },
      "outputs": [
        {
          "output_type": "stream",
          "name": "stdout",
          "text": [
            "Model: \"model\"\n",
            "_________________________________________________________________\n",
            " Layer (type)                Output Shape              Param #   \n",
            "=================================================================\n",
            " input_1 (InputLayer)        [(None, 78)]              0         \n",
            "                                                                 \n",
            " dense_3 (Dense)             (None, 50)                3950      \n",
            "                                                                 \n",
            " dense_4 (Dense)             (None, 78)                3978      \n",
            "                                                                 \n",
            "=================================================================\n",
            "Total params: 7,928\n",
            "Trainable params: 7,928\n",
            "Non-trainable params: 0\n",
            "_________________________________________________________________\n"
          ]
        }
      ],
      "source": [
        "if model_selection[model_flag]==\"ALL\" or model_selection[model_flag] == \"AE\":\n",
        "  # summary of model layers\n",
        "  autoencoder.summary()"
      ]
    },
    {
      "cell_type": "code",
      "execution_count": 60,
      "metadata": {
        "id": "We59NbebLdkJ",
        "colab": {
          "base_uri": "https://localhost:8080/"
        },
        "outputId": "2eb3aebc-ad8d-4088-86b1-54e8d4a986d0"
      },
      "outputs": [
        {
          "output_type": "stream",
          "name": "stdout",
          "text": [
            "Epoch 1/100\n",
            "425/425 [==============================] - 4s 9ms/step - loss: 0.0556 - accuracy: 0.0606 - val_loss: 0.0083 - val_accuracy: 0.0000e+00\n",
            "Epoch 2/100\n",
            "425/425 [==============================] - 3s 7ms/step - loss: 0.0526 - accuracy: 0.3335 - val_loss: 0.0084 - val_accuracy: 0.0000e+00\n",
            "Epoch 3/100\n",
            "425/425 [==============================] - 3s 6ms/step - loss: 0.0526 - accuracy: 0.3441 - val_loss: 0.0085 - val_accuracy: 0.0000e+00\n",
            "Epoch 4/100\n",
            "425/425 [==============================] - 3s 6ms/step - loss: 0.0526 - accuracy: 0.3464 - val_loss: 0.0086 - val_accuracy: 0.0000e+00\n",
            "Epoch 5/100\n",
            "425/425 [==============================] - 3s 6ms/step - loss: 0.0526 - accuracy: 0.3510 - val_loss: 0.0087 - val_accuracy: 0.0000e+00\n",
            "Epoch 6/100\n",
            "425/425 [==============================] - 4s 9ms/step - loss: 0.0526 - accuracy: 0.3521 - val_loss: 0.0087 - val_accuracy: 0.0000e+00\n",
            "Epoch 7/100\n",
            "425/425 [==============================] - 3s 7ms/step - loss: 0.0526 - accuracy: 0.3523 - val_loss: 0.0088 - val_accuracy: 0.0000e+00\n",
            "Epoch 8/100\n",
            "425/425 [==============================] - 3s 6ms/step - loss: 0.0526 - accuracy: 0.3527 - val_loss: 0.0088 - val_accuracy: 0.0000e+00\n",
            "Epoch 9/100\n",
            "425/425 [==============================] - 3s 7ms/step - loss: 0.0526 - accuracy: 0.3530 - val_loss: 0.0088 - val_accuracy: 0.0000e+00\n",
            "Epoch 10/100\n",
            "425/425 [==============================] - 3s 6ms/step - loss: 0.0526 - accuracy: 0.3531 - val_loss: 0.0089 - val_accuracy: 0.0000e+00\n",
            "Epoch 11/100\n",
            "425/425 [==============================] - 4s 9ms/step - loss: 0.0526 - accuracy: 0.3532 - val_loss: 0.0089 - val_accuracy: 0.0000e+00\n",
            "Epoch 12/100\n",
            "425/425 [==============================] - 3s 7ms/step - loss: 0.0526 - accuracy: 0.3530 - val_loss: 0.0089 - val_accuracy: 0.0000e+00\n",
            "Epoch 13/100\n",
            "425/425 [==============================] - 3s 6ms/step - loss: 0.0526 - accuracy: 0.3528 - val_loss: 0.0090 - val_accuracy: 0.0000e+00\n",
            "Epoch 14/100\n",
            "425/425 [==============================] - 3s 6ms/step - loss: 0.0526 - accuracy: 0.3527 - val_loss: 0.0090 - val_accuracy: 0.0000e+00\n",
            "Epoch 15/100\n",
            "425/425 [==============================] - 3s 6ms/step - loss: 0.0526 - accuracy: 0.3528 - val_loss: 0.0090 - val_accuracy: 0.0000e+00\n",
            "Epoch 16/100\n",
            "425/425 [==============================] - 4s 8ms/step - loss: 0.0526 - accuracy: 0.3527 - val_loss: 0.0091 - val_accuracy: 0.0000e+00\n",
            "Epoch 17/100\n",
            "425/425 [==============================] - 3s 7ms/step - loss: 0.0526 - accuracy: 0.3528 - val_loss: 0.0091 - val_accuracy: 0.0000e+00\n",
            "Epoch 18/100\n",
            "425/425 [==============================] - 2s 5ms/step - loss: 0.0526 - accuracy: 0.3528 - val_loss: 0.0091 - val_accuracy: 0.0000e+00\n",
            "Epoch 19/100\n",
            "425/425 [==============================] - 2s 5ms/step - loss: 0.0526 - accuracy: 0.3530 - val_loss: 0.0091 - val_accuracy: 0.0000e+00\n",
            "Epoch 20/100\n",
            "425/425 [==============================] - 3s 6ms/step - loss: 0.0526 - accuracy: 0.3531 - val_loss: 0.0092 - val_accuracy: 0.0000e+00\n",
            "Epoch 21/100\n",
            "425/425 [==============================] - 3s 7ms/step - loss: 0.0526 - accuracy: 0.3501 - val_loss: 0.0092 - val_accuracy: 0.0000e+00\n",
            "Epoch 22/100\n",
            "425/425 [==============================] - 4s 8ms/step - loss: 0.0526 - accuracy: 0.3525 - val_loss: 0.0092 - val_accuracy: 0.0000e+00\n",
            "Epoch 23/100\n",
            "425/425 [==============================] - 2s 5ms/step - loss: 0.0526 - accuracy: 0.3527 - val_loss: 0.0092 - val_accuracy: 0.0000e+00\n",
            "Epoch 24/100\n",
            "425/425 [==============================] - 3s 6ms/step - loss: 0.0526 - accuracy: 0.3533 - val_loss: 0.0092 - val_accuracy: 0.0000e+00\n",
            "Epoch 25/100\n",
            "425/425 [==============================] - 2s 6ms/step - loss: 0.0526 - accuracy: 0.3530 - val_loss: 0.0092 - val_accuracy: 0.0000e+00\n",
            "Epoch 26/100\n",
            "425/425 [==============================] - 2s 6ms/step - loss: 0.0526 - accuracy: 0.3534 - val_loss: 0.0093 - val_accuracy: 0.0000e+00\n",
            "Epoch 27/100\n",
            "425/425 [==============================] - 4s 10ms/step - loss: 0.0526 - accuracy: 0.3509 - val_loss: 0.0093 - val_accuracy: 0.0000e+00\n",
            "Epoch 28/100\n",
            "425/425 [==============================] - 3s 6ms/step - loss: 0.0526 - accuracy: 0.3534 - val_loss: 0.0093 - val_accuracy: 0.0000e+00\n",
            "Epoch 29/100\n",
            "425/425 [==============================] - 3s 6ms/step - loss: 0.0526 - accuracy: 0.3527 - val_loss: 0.0093 - val_accuracy: 0.0000e+00\n",
            "Epoch 30/100\n",
            "425/425 [==============================] - 3s 6ms/step - loss: 0.0526 - accuracy: 0.3491 - val_loss: 0.0093 - val_accuracy: 0.0000e+00\n",
            "Epoch 31/100\n",
            "425/425 [==============================] - 3s 6ms/step - loss: 0.0526 - accuracy: 0.3525 - val_loss: 0.0093 - val_accuracy: 0.0000e+00\n",
            "Epoch 32/100\n",
            "425/425 [==============================] - 4s 9ms/step - loss: 0.0526 - accuracy: 0.3508 - val_loss: 0.0093 - val_accuracy: 0.0000e+00\n",
            "Epoch 33/100\n",
            "425/425 [==============================] - 3s 7ms/step - loss: 0.0526 - accuracy: 0.3535 - val_loss: 0.0093 - val_accuracy: 0.0000e+00\n",
            "Epoch 34/100\n",
            "425/425 [==============================] - 3s 7ms/step - loss: 0.0526 - accuracy: 0.3518 - val_loss: 0.0093 - val_accuracy: 0.0000e+00\n",
            "Epoch 35/100\n",
            "425/425 [==============================] - 3s 6ms/step - loss: 0.0526 - accuracy: 0.3535 - val_loss: 0.0094 - val_accuracy: 0.0000e+00\n",
            "Epoch 36/100\n",
            "425/425 [==============================] - 3s 6ms/step - loss: 0.0526 - accuracy: 0.3512 - val_loss: 0.0094 - val_accuracy: 0.0000e+00\n",
            "Epoch 37/100\n",
            "425/425 [==============================] - 4s 10ms/step - loss: 0.0526 - accuracy: 0.3535 - val_loss: 0.0094 - val_accuracy: 0.0000e+00\n",
            "Epoch 38/100\n",
            "425/425 [==============================] - 3s 6ms/step - loss: 0.0526 - accuracy: 0.3520 - val_loss: 0.0094 - val_accuracy: 0.0000e+00\n",
            "Epoch 39/100\n",
            "425/425 [==============================] - 3s 7ms/step - loss: 0.0526 - accuracy: 0.3535 - val_loss: 0.0094 - val_accuracy: 0.0000e+00\n",
            "Epoch 40/100\n",
            "425/425 [==============================] - 3s 7ms/step - loss: 0.0526 - accuracy: 0.3526 - val_loss: 0.0094 - val_accuracy: 0.0000e+00\n",
            "Epoch 41/100\n",
            "425/425 [==============================] - 3s 8ms/step - loss: 0.0526 - accuracy: 0.3535 - val_loss: 0.0094 - val_accuracy: 0.0000e+00\n",
            "Epoch 42/100\n",
            "425/425 [==============================] - 4s 10ms/step - loss: 0.0526 - accuracy: 0.3512 - val_loss: 0.0094 - val_accuracy: 0.0000e+00\n",
            "Epoch 43/100\n",
            "425/425 [==============================] - 2s 6ms/step - loss: 0.0526 - accuracy: 0.3527 - val_loss: 0.0094 - val_accuracy: 0.0000e+00\n",
            "Epoch 44/100\n",
            "425/425 [==============================] - 3s 6ms/step - loss: 0.0526 - accuracy: 0.3528 - val_loss: 0.0095 - val_accuracy: 0.0000e+00\n",
            "Epoch 45/100\n",
            "425/425 [==============================] - 3s 7ms/step - loss: 0.0526 - accuracy: 0.3487 - val_loss: 0.0095 - val_accuracy: 0.0000e+00\n",
            "Epoch 46/100\n",
            "425/425 [==============================] - 3s 8ms/step - loss: 0.0526 - accuracy: 0.3535 - val_loss: 0.0095 - val_accuracy: 0.0000e+00\n",
            "Epoch 47/100\n",
            "425/425 [==============================] - 4s 8ms/step - loss: 0.0526 - accuracy: 0.3504 - val_loss: 0.0095 - val_accuracy: 0.0000e+00\n",
            "Epoch 48/100\n",
            "425/425 [==============================] - 3s 7ms/step - loss: 0.0526 - accuracy: 0.3534 - val_loss: 0.0095 - val_accuracy: 0.0000e+00\n",
            "Epoch 49/100\n",
            "425/425 [==============================] - 3s 6ms/step - loss: 0.0526 - accuracy: 0.3525 - val_loss: 0.0095 - val_accuracy: 0.0000e+00\n",
            "Epoch 50/100\n",
            "425/425 [==============================] - 3s 7ms/step - loss: 0.0526 - accuracy: 0.3526 - val_loss: 0.0095 - val_accuracy: 0.0000e+00\n",
            "Epoch 51/100\n",
            "425/425 [==============================] - 4s 9ms/step - loss: 0.0526 - accuracy: 0.3504 - val_loss: 0.0096 - val_accuracy: 0.0000e+00\n",
            "Epoch 52/100\n",
            "425/425 [==============================] - 3s 7ms/step - loss: 0.0526 - accuracy: 0.3536 - val_loss: 0.0096 - val_accuracy: 0.0000e+00\n",
            "Epoch 53/100\n",
            "425/425 [==============================] - 3s 6ms/step - loss: 0.0526 - accuracy: 0.3527 - val_loss: 0.0096 - val_accuracy: 0.0000e+00\n",
            "Epoch 54/100\n",
            "425/425 [==============================] - 3s 6ms/step - loss: 0.0526 - accuracy: 0.3536 - val_loss: 0.0096 - val_accuracy: 0.0000e+00\n",
            "Epoch 55/100\n",
            "425/425 [==============================] - 3s 6ms/step - loss: 0.0526 - accuracy: 0.3501 - val_loss: 0.0096 - val_accuracy: 0.0000e+00\n",
            "Epoch 56/100\n",
            "425/425 [==============================] - 5s 11ms/step - loss: 0.0526 - accuracy: 0.3528 - val_loss: 0.0096 - val_accuracy: 0.0000e+00\n",
            "Epoch 57/100\n",
            "425/425 [==============================] - 3s 6ms/step - loss: 0.0526 - accuracy: 0.3527 - val_loss: 0.0097 - val_accuracy: 0.0000e+00\n",
            "Epoch 58/100\n",
            "425/425 [==============================] - 2s 6ms/step - loss: 0.0526 - accuracy: 0.3511 - val_loss: 0.0097 - val_accuracy: 0.0000e+00\n",
            "Epoch 59/100\n",
            "425/425 [==============================] - 3s 7ms/step - loss: 0.0526 - accuracy: 0.3527 - val_loss: 0.0097 - val_accuracy: 0.0000e+00\n",
            "Epoch 60/100\n",
            "425/425 [==============================] - 3s 6ms/step - loss: 0.0526 - accuracy: 0.3519 - val_loss: 0.0097 - val_accuracy: 0.0000e+00\n",
            "Epoch 61/100\n",
            "425/425 [==============================] - 4s 10ms/step - loss: 0.0526 - accuracy: 0.3536 - val_loss: 0.0097 - val_accuracy: 0.0000e+00\n",
            "Epoch 62/100\n",
            "425/425 [==============================] - 3s 7ms/step - loss: 0.0526 - accuracy: 0.3521 - val_loss: 0.0097 - val_accuracy: 0.0000e+00\n",
            "Epoch 63/100\n",
            "425/425 [==============================] - 3s 6ms/step - loss: 0.0526 - accuracy: 0.3535 - val_loss: 0.0098 - val_accuracy: 0.0000e+00\n",
            "Epoch 64/100\n",
            "425/425 [==============================] - 3s 7ms/step - loss: 0.0526 - accuracy: 0.3516 - val_loss: 0.0098 - val_accuracy: 0.0000e+00\n",
            "Epoch 65/100\n",
            "425/425 [==============================] - 3s 7ms/step - loss: 0.0526 - accuracy: 0.3519 - val_loss: 0.0098 - val_accuracy: 0.0000e+00\n",
            "Epoch 66/100\n",
            "425/425 [==============================] - 4s 10ms/step - loss: 0.0526 - accuracy: 0.3527 - val_loss: 0.0098 - val_accuracy: 0.0000e+00\n",
            "Epoch 67/100\n",
            "425/425 [==============================] - 3s 7ms/step - loss: 0.0526 - accuracy: 0.3512 - val_loss: 0.0098 - val_accuracy: 0.0000e+00\n",
            "Epoch 68/100\n",
            "425/425 [==============================] - 3s 6ms/step - loss: 0.0526 - accuracy: 0.3504 - val_loss: 0.0098 - val_accuracy: 0.0000e+00\n",
            "Epoch 69/100\n",
            "425/425 [==============================] - 3s 6ms/step - loss: 0.0526 - accuracy: 0.3521 - val_loss: 0.0098 - val_accuracy: 0.0000e+00\n",
            "Epoch 70/100\n",
            "425/425 [==============================] - 3s 8ms/step - loss: 0.0526 - accuracy: 0.3526 - val_loss: 0.0098 - val_accuracy: 0.0000e+00\n",
            "Epoch 71/100\n",
            "425/425 [==============================] - 4s 9ms/step - loss: 0.0526 - accuracy: 0.3518 - val_loss: 0.0099 - val_accuracy: 0.0000e+00\n",
            "Epoch 72/100\n",
            "425/425 [==============================] - 3s 7ms/step - loss: 0.0526 - accuracy: 0.3509 - val_loss: 0.0099 - val_accuracy: 0.0000e+00\n",
            "Epoch 73/100\n",
            "425/425 [==============================] - 3s 7ms/step - loss: 0.0526 - accuracy: 0.3525 - val_loss: 0.0099 - val_accuracy: 0.0000e+00\n",
            "Epoch 74/100\n",
            "425/425 [==============================] - 3s 7ms/step - loss: 0.0526 - accuracy: 0.3508 - val_loss: 0.0099 - val_accuracy: 0.0000e+00\n",
            "Epoch 75/100\n",
            "425/425 [==============================] - 5s 11ms/step - loss: 0.0526 - accuracy: 0.3500 - val_loss: 0.0099 - val_accuracy: 0.0000e+00\n",
            "Epoch 76/100\n",
            "425/425 [==============================] - 3s 6ms/step - loss: 0.0526 - accuracy: 0.3519 - val_loss: 0.0099 - val_accuracy: 0.0000e+00\n",
            "Epoch 77/100\n",
            "425/425 [==============================] - 3s 6ms/step - loss: 0.0526 - accuracy: 0.3526 - val_loss: 0.0099 - val_accuracy: 0.0000e+00\n",
            "Epoch 78/100\n",
            "425/425 [==============================] - 3s 7ms/step - loss: 0.0526 - accuracy: 0.3517 - val_loss: 0.0099 - val_accuracy: 0.0000e+00\n",
            "Epoch 79/100\n",
            "425/425 [==============================] - 3s 8ms/step - loss: 0.0526 - accuracy: 0.3496 - val_loss: 0.0099 - val_accuracy: 0.0000e+00\n",
            "Epoch 80/100\n",
            "425/425 [==============================] - 4s 10ms/step - loss: 0.0526 - accuracy: 0.3519 - val_loss: 0.0099 - val_accuracy: 0.0000e+00\n",
            "Epoch 81/100\n",
            "425/425 [==============================] - 3s 7ms/step - loss: 0.0526 - accuracy: 0.3509 - val_loss: 0.0099 - val_accuracy: 0.0000e+00\n",
            "Epoch 82/100\n",
            "425/425 [==============================] - 3s 7ms/step - loss: 0.0526 - accuracy: 0.3519 - val_loss: 0.0099 - val_accuracy: 0.0000e+00\n",
            "Epoch 83/100\n",
            "425/425 [==============================] - 3s 7ms/step - loss: 0.0526 - accuracy: 0.3531 - val_loss: 0.0099 - val_accuracy: 0.0000e+00\n",
            "Epoch 84/100\n",
            "425/425 [==============================] - 5s 12ms/step - loss: 0.0526 - accuracy: 0.3509 - val_loss: 0.0099 - val_accuracy: 0.0000e+00\n",
            "Epoch 85/100\n",
            "425/425 [==============================] - 3s 7ms/step - loss: 0.0526 - accuracy: 0.3520 - val_loss: 0.0099 - val_accuracy: 0.0000e+00\n",
            "Epoch 86/100\n",
            "425/425 [==============================] - 3s 6ms/step - loss: 0.0526 - accuracy: 0.3536 - val_loss: 0.0099 - val_accuracy: 0.0000e+00\n",
            "Epoch 87/100\n",
            "425/425 [==============================] - 3s 7ms/step - loss: 0.0526 - accuracy: 0.3521 - val_loss: 0.0099 - val_accuracy: 0.0000e+00\n",
            "Epoch 88/100\n",
            "425/425 [==============================] - 4s 8ms/step - loss: 0.0526 - accuracy: 0.3507 - val_loss: 0.0099 - val_accuracy: 0.0000e+00\n",
            "Epoch 89/100\n",
            "425/425 [==============================] - 4s 8ms/step - loss: 0.0526 - accuracy: 0.3523 - val_loss: 0.0099 - val_accuracy: 0.0000e+00\n",
            "Epoch 90/100\n",
            "425/425 [==============================] - 3s 7ms/step - loss: 0.0526 - accuracy: 0.3537 - val_loss: 0.0099 - val_accuracy: 0.0000e+00\n",
            "Epoch 91/100\n",
            "425/425 [==============================] - 3s 6ms/step - loss: 0.0526 - accuracy: 0.3536 - val_loss: 0.0099 - val_accuracy: 0.0000e+00\n",
            "Epoch 92/100\n",
            "425/425 [==============================] - 3s 7ms/step - loss: 0.0526 - accuracy: 0.3521 - val_loss: 0.0099 - val_accuracy: 0.0000e+00\n",
            "Epoch 93/100\n",
            "425/425 [==============================] - 4s 10ms/step - loss: 0.0526 - accuracy: 0.3520 - val_loss: 0.0099 - val_accuracy: 0.0000e+00\n",
            "Epoch 94/100\n",
            "425/425 [==============================] - 3s 7ms/step - loss: 0.0526 - accuracy: 0.3528 - val_loss: 0.0099 - val_accuracy: 0.0000e+00\n",
            "Epoch 95/100\n",
            "425/425 [==============================] - 3s 6ms/step - loss: 0.0526 - accuracy: 0.3529 - val_loss: 0.0099 - val_accuracy: 0.0000e+00\n",
            "Epoch 96/100\n",
            "425/425 [==============================] - 3s 7ms/step - loss: 0.0526 - accuracy: 0.3527 - val_loss: 0.0099 - val_accuracy: 0.0000e+00\n",
            "Epoch 97/100\n",
            "425/425 [==============================] - 3s 7ms/step - loss: 0.0526 - accuracy: 0.3529 - val_loss: 0.0099 - val_accuracy: 0.0000e+00\n",
            "Epoch 98/100\n",
            "425/425 [==============================] - 4s 10ms/step - loss: 0.0526 - accuracy: 0.3514 - val_loss: 0.0099 - val_accuracy: 0.0000e+00\n",
            "Epoch 99/100\n",
            "425/425 [==============================] - 3s 7ms/step - loss: 0.0526 - accuracy: 0.3521 - val_loss: 0.0099 - val_accuracy: 0.0000e+00\n",
            "Epoch 100/100\n",
            "425/425 [==============================] - 3s 7ms/step - loss: 0.0526 - accuracy: 0.3538 - val_loss: 0.0099 - val_accuracy: 0.0000e+00\n"
          ]
        }
      ],
      "source": [
        "if model_selection[model_flag]==\"ALL\" or model_selection[model_flag] == \"AE\":\n",
        "  # training the model on training dataset\n",
        "  history = autoencoder.fit(X_train, X_train, epochs=100,batch_size=500,validation_data=(X_test, X_test)).history"
      ]
    },
    {
      "cell_type": "code",
      "execution_count": 61,
      "metadata": {
        "id": "AdtR3-9xLliU"
      },
      "outputs": [],
      "source": [
        "if model_selection[model_flag]==\"ALL\" or model_selection[model_flag] == \"AE\":\n",
        "  filepath = '/content/drive/MyDrive/Colab_Notebooks/Models/ae_binary.json'\n",
        "  weightspath = '/content/drive/MyDrive/Colab_Notebooks/Weights/ae_binary.h5'\n",
        "  if (not path.isfile(filepath)): \n",
        "    # serialize model to JSON\n",
        "    autoencoder_json = autoencoder.to_json()\n",
        "    with open(filepath, \"w\") as json_file:\n",
        "      json_file.write(autoencoder_json)\n",
        "\n",
        "    # serialize weights to HDF5\n",
        "    autoencoder.save_weights(weightspath)\n",
        "    print(\"Saved model to disk\")\n",
        "\n",
        "    # load json and create model\n",
        "    json_file = open(filepath, 'r')\n",
        "    loaded_model_json = json_file.read()\n",
        "    json_file.close()\n",
        "    autoencoder = model_from_json(loaded_model_json)\n",
        "\n",
        "    # load weights into new model\n",
        "    autoencoder.load_weights(weightspath)\n",
        "    print(\"Loaded model from disk\")"
      ]
    },
    {
      "cell_type": "code",
      "execution_count": 62,
      "metadata": {
        "id": "Wqr6HVtMLwx9"
      },
      "outputs": [],
      "source": [
        "if model_selection[model_flag]==\"ALL\" or model_selection[model_flag] == \"AE\":\n",
        "  # defining loss function, optimizer, metrics and then compiling model\n",
        "  autoencoder.compile(optimizer='adam', loss='mean_squared_error',metrics=['accuracy'])"
      ]
    },
    {
      "cell_type": "code",
      "execution_count": 63,
      "metadata": {
        "id": "FQrjCk2hL09x",
        "colab": {
          "base_uri": "https://localhost:8080/"
        },
        "outputId": "faa41ad7-ae4e-4287-fea3-c68d987e84bd"
      },
      "outputs": [
        {
          "output_type": "stream",
          "name": "stdout",
          "text": [
            "2212/2212 [==============================] - 5s 2ms/step - loss: 0.0099 - accuracy: 0.0000e+00\n",
            "Test results - Loss: 0.009909137152135372 - Accuracy: 0.0%\n"
          ]
        }
      ],
      "source": [
        "if model_selection[model_flag]==\"ALL\" or model_selection[model_flag] == \"AE\":\n",
        "  # predicting target attribute on testing dataset\n",
        "  test_results = autoencoder.evaluate(X_test, X_test, verbose=1)\n",
        "  print(f'Test results - Loss: {test_results[0]} - Accuracy: {test_results[1]}%')"
      ]
    },
    {
      "cell_type": "code",
      "execution_count": 64,
      "metadata": {
        "id": "VqQsjSZcL1-B",
        "colab": {
          "base_uri": "https://localhost:8080/",
          "height": 295
        },
        "outputId": "b0cea832-99ee-489c-aa29-9d1f13665872"
      },
      "outputs": [
        {
          "output_type": "display_data",
          "data": {
            "text/plain": [
              "<Figure size 432x288 with 1 Axes>"
            ],
            "image/png": "[encoded data removed]"
          },
          "metadata": {
            "needs_background": "light"
          }
        }
      ],
      "source": [
        "if model_selection[model_flag]==\"ALL\" or model_selection[model_flag] == \"AE\":\n",
        "  # Plot of loss vs epoch of train and test dataset\n",
        "  plt.plot(history['loss'])\n",
        "  plt.plot(history['val_loss'])\n",
        "  plt.title(\"Plot of loss vs epoch for train and test dataset\")\n",
        "  plt.ylabel('loss')\n",
        "  plt.xlabel('epoch')\n",
        "  plt.legend(['train', 'test'], loc='upper right')\n",
        "  plt.savefig('/content/drive/MyDrive/Colab_Notebooks/Plots/ae_binary_loss.png')\n",
        "  plt.show()"
      ]
    },
    {
      "cell_type": "code",
      "execution_count": 65,
      "metadata": {
        "id": "fkjD9QXKL25Z",
        "colab": {
          "base_uri": "https://localhost:8080/",
          "height": 295
        },
        "outputId": "4755a83d-53df-49a5-b552-9231a203f782"
      },
      "outputs": [
        {
          "output_type": "display_data",
          "data": {
            "text/plain": [
              "<Figure size 432x288 with 1 Axes>"
            ],
            "image/png": "[encoded data removed]"
          },
          "metadata": {
            "needs_background": "light"
          }
        }
      ],
      "source": [
        "if model_selection[model_flag]==\"ALL\" or model_selection[model_flag] == \"AE\":\n",
        "  # Plot of accuracy vs epoch of train and test dataset\n",
        "  plt.plot(history['accuracy'])\n",
        "  plt.plot(history['val_accuracy'])\n",
        "  plt.title(\"Plot of accuracy vs epoch for train and test dataset\")\n",
        "  plt.ylabel('accuracy')\n",
        "  plt.xlabel('epoch')\n",
        "  plt.legend(['train', 'test'], loc='best')\n",
        "  plt.savefig('/content/drive/MyDrive/Colab_Notebooks/Plots/ae_binary_accuracy.png')\n",
        "  plt.show()"
      ]
    },
    {
      "cell_type": "code",
      "execution_count": 66,
      "metadata": {
        "id": "lf9q83sBMGPD"
      },
      "outputs": [],
      "source": [
        "if model_selection[model_flag]==\"ALL\" or model_selection[model_flag] == \"AE\":\n",
        "  # representation of model layers\n",
        "  plot_model(autoencoder, to_file='/content/drive/MyDrive/Colab_Notebooks/Plots/ae_binary.png', show_shapes=True,)"
      ]
    },
    {
      "cell_type": "code",
      "execution_count": 67,
      "metadata": {
        "id": "SFIXKGwuMLFo",
        "colab": {
          "base_uri": "https://localhost:8080/"
        },
        "outputId": "bdc6977d-34f5-49f3-d45a-884d551c7390"
      },
      "outputs": [
        {
          "output_type": "stream",
          "name": "stdout",
          "text": [
            "2212/2212 [==============================] - 4s 2ms/step\n"
          ]
        }
      ],
      "source": [
        "if model_selection[model_flag]==\"ALL\" or model_selection[model_flag] == \"AE\":\n",
        "  # calculating reconstruction error \n",
        "  predictions = autoencoder.predict(X_test)"
      ]
    },
    {
      "cell_type": "code",
      "execution_count": 68,
      "metadata": {
        "id": "cqKJCyZnMMEG"
      },
      "outputs": [],
      "source": [
        "if model_selection[model_flag]==\"ALL\" or model_selection[model_flag] == \"AE\":\n",
        "  mse = np.mean(np.power(X_test - predictions, 2), axis=1)\n",
        "  error_df = pd.DataFrame({'reconstruction_error': mse,\n",
        "                           'true_class': y_test})"
      ]
    },
    {
      "cell_type": "code",
      "execution_count": 69,
      "metadata": {
        "id": "EdQJudbDMhmB",
        "colab": {
          "base_uri": "https://localhost:8080/"
        },
        "outputId": "0b0b0df7-186d-44e0-a3c2-789f3e748a67"
      },
      "outputs": [
        {
          "output_type": "stream",
          "name": "stdout",
          "text": [
            "(70769, 78)\n"
          ]
        }
      ],
      "source": [
        "if model_selection[model_flag]==\"ALL\" or model_selection[model_flag] == \"AE\":\n",
        "  error_df.describe()\n",
        "  print(predictions.shape)"
      ]
    },
    {
      "cell_type": "markdown",
      "metadata": {
        "id": "PHsaAAMmNQrs"
      },
      "source": [
        "## **AE Classifier**"
      ]
    },
    {
      "cell_type": "code",
      "execution_count": 70,
      "metadata": {
        "id": "1hK07LDBMoZg"
      },
      "outputs": [],
      "source": [
        "if model_selection[model_flag]==\"ALL\" or model_selection[model_flag] == \"AE\":\n",
        "  i_dim = predictions.shape[1]\n",
        "\n",
        "  #input layer\n",
        "  i_layer = Input(shape=(i_dim, ))\n",
        "  #hidden layer with 50 neurons\n",
        "  fvector = Dense(50, activation=\"sigmoid\")(i_layer)                    \n",
        "  #doutput layer\n",
        "  o_layer = Dense(1, activation='sigmoid')(fvector)"
      ]
    },
    {
      "cell_type": "code",
      "execution_count": 71,
      "metadata": {
        "id": "Efq77rVINXWE"
      },
      "outputs": [],
      "source": [
        "if model_selection[model_flag]==\"ALL\" or model_selection[model_flag] == \"AE\":\n",
        "  # creating model with input, encoding, decoding, output layers\n",
        "  ae_classifier = Model(inputs=i_layer, outputs=o_layer)\n",
        "\n",
        "  # defining loss function, optimizer, metrics and then compiling model\n",
        "  ae_classifier.compile(optimizer='adam', loss='binary_crossentropy',metrics=['accuracy'])"
      ]
    },
    {
      "cell_type": "code",
      "execution_count": 72,
      "metadata": {
        "id": "0Yl594VGNX1W",
        "colab": {
          "base_uri": "https://localhost:8080/"
        },
        "outputId": "df1f6135-8007-4c0c-96f8-b9d1ae6e70ce"
      },
      "outputs": [
        {
          "output_type": "stream",
          "name": "stdout",
          "text": [
            "Model: \"model_1\"\n",
            "_________________________________________________________________\n",
            " Layer (type)                Output Shape              Param #   \n",
            "=================================================================\n",
            " input_2 (InputLayer)        [(None, 78)]              0         \n",
            "                                                                 \n",
            " dense_5 (Dense)             (None, 50)                3950      \n",
            "                                                                 \n",
            " dense_6 (Dense)             (None, 1)                 51        \n",
            "                                                                 \n",
            "=================================================================\n",
            "Total params: 4,001\n",
            "Trainable params: 4,001\n",
            "Non-trainable params: 0\n",
            "_________________________________________________________________\n"
          ]
        }
      ],
      "source": [
        "if model_selection[model_flag]==\"ALL\" or model_selection[model_flag] == \"AE\":\n",
        "  # summary of model layers\n",
        "  ae_classifier.summary()"
      ]
    },
    {
      "cell_type": "code",
      "execution_count": 73,
      "metadata": {
        "id": "23n8Qt0uNX8Z",
        "colab": {
          "base_uri": "https://localhost:8080/"
        },
        "outputId": "1a7c9ce1-4ebd-458a-942e-30e92d784ab2"
      },
      "outputs": [
        {
          "output_type": "stream",
          "name": "stdout",
          "text": [
            "Epoch 1/300\n",
            "114/114 [==============================] - 1s 6ms/step - loss: 0.5320 - accuracy: 0.7820 - val_loss: 0.5018 - val_accuracy: 0.7990\n",
            "Epoch 2/300\n",
            "114/114 [==============================] - 1s 5ms/step - loss: 0.4940 - accuracy: 0.8042 - val_loss: 0.5006 - val_accuracy: 0.7990\n",
            "Epoch 3/300\n",
            "114/114 [==============================] - 1s 5ms/step - loss: 0.4928 - accuracy: 0.8042 - val_loss: 0.4993 - val_accuracy: 0.7990\n",
            "Epoch 4/300\n",
            "114/114 [==============================] - 1s 5ms/step - loss: 0.4914 - accuracy: 0.8042 - val_loss: 0.4976 - val_accuracy: 0.7990\n",
            "Epoch 5/300\n",
            "114/114 [==============================] - 1s 5ms/step - loss: 0.4898 - accuracy: 0.8042 - val_loss: 0.4957 - val_accuracy: 0.7990\n",
            "Epoch 6/300\n",
            "114/114 [==============================] - 1s 5ms/step - loss: 0.4882 - accuracy: 0.8042 - val_loss: 0.4940 - val_accuracy: 0.7990\n",
            "Epoch 7/300\n",
            "114/114 [==============================] - 1s 7ms/step - loss: 0.4863 - accuracy: 0.8042 - val_loss: 0.4919 - val_accuracy: 0.7990\n",
            "Epoch 8/300\n",
            "114/114 [==============================] - 1s 7ms/step - loss: 0.4844 - accuracy: 0.8042 - val_loss: 0.4899 - val_accuracy: 0.7990\n",
            "Epoch 9/300\n",
            "114/114 [==============================] - 1s 7ms/step - loss: 0.4825 - accuracy: 0.8042 - val_loss: 0.4877 - val_accuracy: 0.7990\n",
            "Epoch 10/300\n",
            "114/114 [==============================] - 1s 7ms/step - loss: 0.4805 - accuracy: 0.8042 - val_loss: 0.4854 - val_accuracy: 0.7990\n",
            "Epoch 11/300\n",
            "114/114 [==============================] - 1s 7ms/step - loss: 0.4785 - accuracy: 0.8042 - val_loss: 0.4837 - val_accuracy: 0.7990\n",
            "Epoch 12/300\n",
            "114/114 [==============================] - 1s 7ms/step - loss: 0.4767 - accuracy: 0.8042 - val_loss: 0.4812 - val_accuracy: 0.7990\n",
            "Epoch 13/300\n",
            "114/114 [==============================] - 1s 6ms/step - loss: 0.4749 - accuracy: 0.8042 - val_loss: 0.4795 - val_accuracy: 0.7990\n",
            "Epoch 14/300\n",
            "114/114 [==============================] - 0s 4ms/step - loss: 0.4733 - accuracy: 0.8042 - val_loss: 0.4777 - val_accuracy: 0.7990\n",
            "Epoch 15/300\n",
            "114/114 [==============================] - 1s 5ms/step - loss: 0.4720 - accuracy: 0.8042 - val_loss: 0.4764 - val_accuracy: 0.7990\n",
            "Epoch 16/300\n",
            "114/114 [==============================] - 1s 5ms/step - loss: 0.4708 - accuracy: 0.8042 - val_loss: 0.4753 - val_accuracy: 0.7990\n",
            "Epoch 17/300\n",
            "114/114 [==============================] - 1s 5ms/step - loss: 0.4700 - accuracy: 0.8042 - val_loss: 0.4746 - val_accuracy: 0.7990\n",
            "Epoch 18/300\n",
            "114/114 [==============================] - 0s 4ms/step - loss: 0.4694 - accuracy: 0.8042 - val_loss: 0.4743 - val_accuracy: 0.7990\n",
            "Epoch 19/300\n",
            "114/114 [==============================] - 0s 4ms/step - loss: 0.4690 - accuracy: 0.8042 - val_loss: 0.4733 - val_accuracy: 0.7990\n",
            "Epoch 20/300\n",
            "114/114 [==============================] - 0s 4ms/step - loss: 0.4687 - accuracy: 0.8042 - val_loss: 0.4730 - val_accuracy: 0.7990\n",
            "Epoch 21/300\n",
            "114/114 [==============================] - 0s 4ms/step - loss: 0.4684 - accuracy: 0.8042 - val_loss: 0.4727 - val_accuracy: 0.7990\n",
            "Epoch 22/300\n",
            "114/114 [==============================] - 1s 5ms/step - loss: 0.4683 - accuracy: 0.8042 - val_loss: 0.4725 - val_accuracy: 0.7993\n",
            "Epoch 23/300\n",
            "114/114 [==============================] - 1s 5ms/step - loss: 0.4680 - accuracy: 0.8043 - val_loss: 0.4723 - val_accuracy: 0.7993\n",
            "Epoch 24/300\n",
            "114/114 [==============================] - 0s 4ms/step - loss: 0.4679 - accuracy: 0.8043 - val_loss: 0.4724 - val_accuracy: 0.7995\n",
            "Epoch 25/300\n",
            "114/114 [==============================] - 0s 4ms/step - loss: 0.4678 - accuracy: 0.8043 - val_loss: 0.4720 - val_accuracy: 0.7993\n",
            "Epoch 26/300\n",
            "114/114 [==============================] - 0s 4ms/step - loss: 0.4677 - accuracy: 0.8044 - val_loss: 0.4722 - val_accuracy: 0.7993\n",
            "Epoch 27/300\n",
            "114/114 [==============================] - 0s 4ms/step - loss: 0.4675 - accuracy: 0.8044 - val_loss: 0.4717 - val_accuracy: 0.7994\n",
            "Epoch 28/300\n",
            "114/114 [==============================] - 0s 4ms/step - loss: 0.4673 - accuracy: 0.8044 - val_loss: 0.4720 - val_accuracy: 0.7993\n",
            "Epoch 29/300\n",
            "114/114 [==============================] - 1s 5ms/step - loss: 0.4672 - accuracy: 0.8044 - val_loss: 0.4713 - val_accuracy: 0.7995\n",
            "Epoch 30/300\n",
            "114/114 [==============================] - 0s 4ms/step - loss: 0.4671 - accuracy: 0.8044 - val_loss: 0.4712 - val_accuracy: 0.7994\n",
            "Epoch 31/300\n",
            "114/114 [==============================] - 1s 4ms/step - loss: 0.4668 - accuracy: 0.8044 - val_loss: 0.4710 - val_accuracy: 0.7995\n",
            "Epoch 32/300\n",
            "114/114 [==============================] - 0s 4ms/step - loss: 0.4667 - accuracy: 0.8044 - val_loss: 0.4713 - val_accuracy: 0.7994\n",
            "Epoch 33/300\n",
            "114/114 [==============================] - 1s 7ms/step - loss: 0.4666 - accuracy: 0.8045 - val_loss: 0.4707 - val_accuracy: 0.7997\n",
            "Epoch 34/300\n",
            "114/114 [==============================] - 1s 7ms/step - loss: 0.4664 - accuracy: 0.8045 - val_loss: 0.4706 - val_accuracy: 0.7994\n",
            "Epoch 35/300\n",
            "114/114 [==============================] - 1s 7ms/step - loss: 0.4663 - accuracy: 0.8045 - val_loss: 0.4704 - val_accuracy: 0.7996\n",
            "Epoch 36/300\n",
            "114/114 [==============================] - 1s 8ms/step - loss: 0.4661 - accuracy: 0.8045 - val_loss: 0.4702 - val_accuracy: 0.7996\n",
            "Epoch 37/300\n",
            "114/114 [==============================] - 1s 7ms/step - loss: 0.4659 - accuracy: 0.8055 - val_loss: 0.4702 - val_accuracy: 0.7988\n",
            "Epoch 38/300\n",
            "114/114 [==============================] - 1s 8ms/step - loss: 0.4657 - accuracy: 0.8043 - val_loss: 0.4702 - val_accuracy: 0.7995\n",
            "Epoch 39/300\n",
            "114/114 [==============================] - 1s 5ms/step - loss: 0.4655 - accuracy: 0.8044 - val_loss: 0.4697 - val_accuracy: 0.7989\n",
            "Epoch 40/300\n",
            "114/114 [==============================] - 1s 5ms/step - loss: 0.4653 - accuracy: 0.8043 - val_loss: 0.4695 - val_accuracy: 0.7996\n",
            "Epoch 41/300\n",
            "114/114 [==============================] - 1s 5ms/step - loss: 0.4652 - accuracy: 0.8040 - val_loss: 0.4697 - val_accuracy: 0.7998\n",
            "Epoch 42/300\n",
            "114/114 [==============================] - 1s 5ms/step - loss: 0.4650 - accuracy: 0.8061 - val_loss: 0.4700 - val_accuracy: 0.7995\n",
            "Epoch 43/300\n",
            "114/114 [==============================] - 1s 5ms/step - loss: 0.4648 - accuracy: 0.8055 - val_loss: 0.4690 - val_accuracy: 0.7994\n",
            "Epoch 44/300\n",
            "114/114 [==============================] - 1s 5ms/step - loss: 0.4646 - accuracy: 0.8041 - val_loss: 0.4688 - val_accuracy: 0.7993\n",
            "Epoch 45/300\n",
            "114/114 [==============================] - 1s 5ms/step - loss: 0.4644 - accuracy: 0.8076 - val_loss: 0.4700 - val_accuracy: 0.7995\n",
            "Epoch 46/300\n",
            "114/114 [==============================] - 1s 5ms/step - loss: 0.4644 - accuracy: 0.8067 - val_loss: 0.4683 - val_accuracy: 0.8020\n",
            "Epoch 47/300\n",
            "114/114 [==============================] - 1s 5ms/step - loss: 0.4640 - accuracy: 0.8089 - val_loss: 0.4683 - val_accuracy: 0.7994\n",
            "Epoch 48/300\n",
            "114/114 [==============================] - 1s 5ms/step - loss: 0.4638 - accuracy: 0.8078 - val_loss: 0.4679 - val_accuracy: 0.8179\n",
            "Epoch 49/300\n",
            "114/114 [==============================] - 0s 4ms/step - loss: 0.4636 - accuracy: 0.8079 - val_loss: 0.4677 - val_accuracy: 0.8166\n",
            "Epoch 50/300\n",
            "114/114 [==============================] - 1s 5ms/step - loss: 0.4634 - accuracy: 0.8086 - val_loss: 0.4678 - val_accuracy: 0.7995\n",
            "Epoch 51/300\n",
            "114/114 [==============================] - 1s 5ms/step - loss: 0.4633 - accuracy: 0.8129 - val_loss: 0.4672 - val_accuracy: 0.8068\n",
            "Epoch 52/300\n",
            "114/114 [==============================] - 1s 5ms/step - loss: 0.4629 - accuracy: 0.8091 - val_loss: 0.4670 - val_accuracy: 0.8058\n",
            "Epoch 53/300\n",
            "114/114 [==============================] - 1s 5ms/step - loss: 0.4628 - accuracy: 0.8128 - val_loss: 0.4670 - val_accuracy: 0.7991\n",
            "Epoch 54/300\n",
            "114/114 [==============================] - 1s 4ms/step - loss: 0.4625 - accuracy: 0.8119 - val_loss: 0.4666 - val_accuracy: 0.8179\n",
            "Epoch 55/300\n",
            "114/114 [==============================] - 1s 5ms/step - loss: 0.4624 - accuracy: 0.8162 - val_loss: 0.4664 - val_accuracy: 0.8123\n",
            "Epoch 56/300\n",
            "114/114 [==============================] - 1s 6ms/step - loss: 0.4623 - accuracy: 0.8166 - val_loss: 0.4667 - val_accuracy: 0.8381\n",
            "Epoch 57/300\n",
            "114/114 [==============================] - 1s 8ms/step - loss: 0.4620 - accuracy: 0.8184 - val_loss: 0.4659 - val_accuracy: 0.8186\n",
            "Epoch 58/300\n",
            "114/114 [==============================] - 1s 8ms/step - loss: 0.4615 - accuracy: 0.8194 - val_loss: 0.4656 - val_accuracy: 0.8192\n",
            "Epoch 59/300\n",
            "114/114 [==============================] - 1s 7ms/step - loss: 0.4614 - accuracy: 0.8207 - val_loss: 0.4654 - val_accuracy: 0.8206\n",
            "Epoch 60/300\n",
            "114/114 [==============================] - 1s 8ms/step - loss: 0.4611 - accuracy: 0.8218 - val_loss: 0.4655 - val_accuracy: 0.8071\n",
            "Epoch 61/300\n",
            "114/114 [==============================] - 1s 8ms/step - loss: 0.4609 - accuracy: 0.8203 - val_loss: 0.4650 - val_accuracy: 0.8188\n",
            "Epoch 62/300\n",
            "114/114 [==============================] - 0s 4ms/step - loss: 0.4607 - accuracy: 0.8214 - val_loss: 0.4646 - val_accuracy: 0.8202\n",
            "Epoch 63/300\n",
            "114/114 [==============================] - 1s 5ms/step - loss: 0.4603 - accuracy: 0.8244 - val_loss: 0.4648 - val_accuracy: 0.8174\n",
            "Epoch 64/300\n",
            "114/114 [==============================] - 1s 5ms/step - loss: 0.4600 - accuracy: 0.8244 - val_loss: 0.4641 - val_accuracy: 0.8205\n",
            "Epoch 65/300\n",
            "114/114 [==============================] - 1s 5ms/step - loss: 0.4598 - accuracy: 0.8244 - val_loss: 0.4640 - val_accuracy: 0.8360\n",
            "Epoch 66/300\n",
            "114/114 [==============================] - 1s 5ms/step - loss: 0.4595 - accuracy: 0.8259 - val_loss: 0.4645 - val_accuracy: 0.8133\n",
            "Epoch 67/300\n",
            "114/114 [==============================] - 1s 5ms/step - loss: 0.4593 - accuracy: 0.8262 - val_loss: 0.4634 - val_accuracy: 0.8196\n",
            "Epoch 68/300\n",
            "114/114 [==============================] - 1s 5ms/step - loss: 0.4589 - accuracy: 0.8272 - val_loss: 0.4630 - val_accuracy: 0.8287\n",
            "Epoch 69/300\n",
            "114/114 [==============================] - 1s 5ms/step - loss: 0.4587 - accuracy: 0.8273 - val_loss: 0.4627 - val_accuracy: 0.8215\n",
            "Epoch 70/300\n",
            "114/114 [==============================] - 1s 5ms/step - loss: 0.4584 - accuracy: 0.8274 - val_loss: 0.4625 - val_accuracy: 0.8206\n",
            "Epoch 71/300\n",
            "114/114 [==============================] - 1s 5ms/step - loss: 0.4582 - accuracy: 0.8282 - val_loss: 0.4621 - val_accuracy: 0.8340\n",
            "Epoch 72/300\n",
            "114/114 [==============================] - 1s 5ms/step - loss: 0.4579 - accuracy: 0.8295 - val_loss: 0.4622 - val_accuracy: 0.8197\n",
            "Epoch 73/300\n",
            "114/114 [==============================] - 1s 5ms/step - loss: 0.4576 - accuracy: 0.8311 - val_loss: 0.4620 - val_accuracy: 0.8191\n",
            "Epoch 74/300\n",
            "114/114 [==============================] - 1s 5ms/step - loss: 0.4572 - accuracy: 0.8310 - val_loss: 0.4615 - val_accuracy: 0.8206\n",
            "Epoch 75/300\n",
            "114/114 [==============================] - 1s 5ms/step - loss: 0.4569 - accuracy: 0.8319 - val_loss: 0.4610 - val_accuracy: 0.8265\n",
            "Epoch 76/300\n",
            "114/114 [==============================] - 1s 5ms/step - loss: 0.4567 - accuracy: 0.8312 - val_loss: 0.4606 - val_accuracy: 0.8353\n",
            "Epoch 77/300\n",
            "114/114 [==============================] - 1s 5ms/step - loss: 0.4564 - accuracy: 0.8349 - val_loss: 0.4615 - val_accuracy: 0.8194\n",
            "Epoch 78/300\n",
            "114/114 [==============================] - 1s 5ms/step - loss: 0.4561 - accuracy: 0.8333 - val_loss: 0.4601 - val_accuracy: 0.8339\n",
            "Epoch 79/300\n",
            "114/114 [==============================] - 1s 7ms/step - loss: 0.4557 - accuracy: 0.8362 - val_loss: 0.4598 - val_accuracy: 0.8335\n",
            "Epoch 80/300\n",
            "114/114 [==============================] - 1s 7ms/step - loss: 0.4554 - accuracy: 0.8351 - val_loss: 0.4596 - val_accuracy: 0.8413\n",
            "Epoch 81/300\n",
            "114/114 [==============================] - 1s 8ms/step - loss: 0.4552 - accuracy: 0.8367 - val_loss: 0.4591 - val_accuracy: 0.8408\n",
            "Epoch 82/300\n",
            "114/114 [==============================] - 1s 8ms/step - loss: 0.4549 - accuracy: 0.8380 - val_loss: 0.4588 - val_accuracy: 0.8410\n",
            "Epoch 83/300\n",
            "114/114 [==============================] - 1s 8ms/step - loss: 0.4546 - accuracy: 0.8383 - val_loss: 0.4585 - val_accuracy: 0.8410\n",
            "Epoch 84/300\n",
            "114/114 [==============================] - 1s 6ms/step - loss: 0.4542 - accuracy: 0.8386 - val_loss: 0.4582 - val_accuracy: 0.8399\n",
            "Epoch 85/300\n",
            "114/114 [==============================] - 1s 4ms/step - loss: 0.4537 - accuracy: 0.8396 - val_loss: 0.4578 - val_accuracy: 0.8405\n",
            "Epoch 86/300\n",
            "114/114 [==============================] - 1s 5ms/step - loss: 0.4536 - accuracy: 0.8418 - val_loss: 0.4579 - val_accuracy: 0.8321\n",
            "Epoch 87/300\n",
            "114/114 [==============================] - 1s 4ms/step - loss: 0.4533 - accuracy: 0.8387 - val_loss: 0.4572 - val_accuracy: 0.8406\n",
            "Epoch 88/300\n",
            "114/114 [==============================] - 1s 5ms/step - loss: 0.4529 - accuracy: 0.8424 - val_loss: 0.4577 - val_accuracy: 0.8238\n",
            "Epoch 89/300\n",
            "114/114 [==============================] - 1s 4ms/step - loss: 0.4527 - accuracy: 0.8403 - val_loss: 0.4565 - val_accuracy: 0.8410\n",
            "Epoch 90/300\n",
            "114/114 [==============================] - 1s 5ms/step - loss: 0.4524 - accuracy: 0.8410 - val_loss: 0.4562 - val_accuracy: 0.8412\n",
            "Epoch 91/300\n",
            "114/114 [==============================] - 1s 4ms/step - loss: 0.4519 - accuracy: 0.8427 - val_loss: 0.4560 - val_accuracy: 0.8405\n",
            "Epoch 92/300\n",
            "114/114 [==============================] - 1s 5ms/step - loss: 0.4516 - accuracy: 0.8417 - val_loss: 0.4556 - val_accuracy: 0.8416\n",
            "Epoch 93/300\n",
            "114/114 [==============================] - 0s 4ms/step - loss: 0.4515 - accuracy: 0.8421 - val_loss: 0.4553 - val_accuracy: 0.8421\n",
            "Epoch 94/300\n",
            "114/114 [==============================] - 1s 5ms/step - loss: 0.4510 - accuracy: 0.8435 - val_loss: 0.4550 - val_accuracy: 0.8410\n",
            "Epoch 95/300\n",
            "114/114 [==============================] - 0s 4ms/step - loss: 0.4506 - accuracy: 0.8433 - val_loss: 0.4551 - val_accuracy: 0.8396\n",
            "Epoch 96/300\n",
            "114/114 [==============================] - 1s 5ms/step - loss: 0.4503 - accuracy: 0.8421 - val_loss: 0.4546 - val_accuracy: 0.8405\n",
            "Epoch 97/300\n",
            "114/114 [==============================] - 0s 4ms/step - loss: 0.4500 - accuracy: 0.8438 - val_loss: 0.4539 - val_accuracy: 0.8418\n",
            "Epoch 98/300\n",
            "114/114 [==============================] - 1s 5ms/step - loss: 0.4499 - accuracy: 0.8433 - val_loss: 0.4537 - val_accuracy: 0.8414\n",
            "Epoch 99/300\n",
            "114/114 [==============================] - 1s 5ms/step - loss: 0.4493 - accuracy: 0.8436 - val_loss: 0.4533 - val_accuracy: 0.8420\n",
            "Epoch 100/300\n",
            "114/114 [==============================] - 1s 5ms/step - loss: 0.4491 - accuracy: 0.8436 - val_loss: 0.4532 - val_accuracy: 0.8434\n",
            "Epoch 101/300\n",
            "114/114 [==============================] - 1s 5ms/step - loss: 0.4488 - accuracy: 0.8444 - val_loss: 0.4527 - val_accuracy: 0.8421\n",
            "Epoch 102/300\n",
            "114/114 [==============================] - 1s 5ms/step - loss: 0.4485 - accuracy: 0.8438 - val_loss: 0.4523 - val_accuracy: 0.8422\n",
            "Epoch 103/300\n",
            "114/114 [==============================] - 1s 8ms/step - loss: 0.4480 - accuracy: 0.8442 - val_loss: 0.4527 - val_accuracy: 0.8407\n",
            "Epoch 104/300\n",
            "114/114 [==============================] - 1s 7ms/step - loss: 0.4478 - accuracy: 0.8444 - val_loss: 0.4525 - val_accuracy: 0.8408\n",
            "Epoch 105/300\n",
            "114/114 [==============================] - 1s 7ms/step - loss: 0.4475 - accuracy: 0.8441 - val_loss: 0.4515 - val_accuracy: 0.8420\n",
            "Epoch 106/300\n",
            "114/114 [==============================] - 1s 7ms/step - loss: 0.4472 - accuracy: 0.8446 - val_loss: 0.4511 - val_accuracy: 0.8425\n",
            "Epoch 107/300\n",
            "114/114 [==============================] - 1s 7ms/step - loss: 0.4468 - accuracy: 0.8448 - val_loss: 0.4518 - val_accuracy: 0.8408\n",
            "Epoch 108/300\n",
            "114/114 [==============================] - 1s 6ms/step - loss: 0.4466 - accuracy: 0.8449 - val_loss: 0.4507 - val_accuracy: 0.8417\n",
            "Epoch 109/300\n",
            "114/114 [==============================] - 1s 5ms/step - loss: 0.4462 - accuracy: 0.8446 - val_loss: 0.4502 - val_accuracy: 0.8422\n",
            "Epoch 110/300\n",
            "114/114 [==============================] - 1s 4ms/step - loss: 0.4460 - accuracy: 0.8448 - val_loss: 0.4501 - val_accuracy: 0.8458\n",
            "Epoch 111/300\n",
            "114/114 [==============================] - 0s 4ms/step - loss: 0.4456 - accuracy: 0.8450 - val_loss: 0.4498 - val_accuracy: 0.8419\n",
            "Epoch 112/300\n",
            "114/114 [==============================] - 1s 5ms/step - loss: 0.4453 - accuracy: 0.8448 - val_loss: 0.4497 - val_accuracy: 0.8417\n",
            "Epoch 113/300\n",
            "114/114 [==============================] - 1s 4ms/step - loss: 0.4450 - accuracy: 0.8448 - val_loss: 0.4489 - val_accuracy: 0.8431\n",
            "Epoch 114/300\n",
            "114/114 [==============================] - 1s 5ms/step - loss: 0.4448 - accuracy: 0.8454 - val_loss: 0.4496 - val_accuracy: 0.8414\n",
            "Epoch 115/300\n",
            "114/114 [==============================] - 0s 4ms/step - loss: 0.4445 - accuracy: 0.8457 - val_loss: 0.4486 - val_accuracy: 0.8426\n",
            "Epoch 116/300\n",
            "114/114 [==============================] - 1s 4ms/step - loss: 0.4441 - accuracy: 0.8454 - val_loss: 0.4482 - val_accuracy: 0.8427\n",
            "Epoch 117/300\n",
            "114/114 [==============================] - 1s 4ms/step - loss: 0.4438 - accuracy: 0.8454 - val_loss: 0.4483 - val_accuracy: 0.8417\n",
            "Epoch 118/300\n",
            "114/114 [==============================] - 1s 5ms/step - loss: 0.4436 - accuracy: 0.8459 - val_loss: 0.4475 - val_accuracy: 0.8431\n",
            "Epoch 119/300\n",
            "114/114 [==============================] - 1s 6ms/step - loss: 0.4434 - accuracy: 0.8457 - val_loss: 0.4472 - val_accuracy: 0.8439\n",
            "Epoch 120/300\n",
            "114/114 [==============================] - 1s 5ms/step - loss: 0.4429 - accuracy: 0.8456 - val_loss: 0.4471 - val_accuracy: 0.8461\n",
            "Epoch 121/300\n",
            "114/114 [==============================] - 1s 4ms/step - loss: 0.4428 - accuracy: 0.8459 - val_loss: 0.4467 - val_accuracy: 0.8443\n",
            "Epoch 122/300\n",
            "114/114 [==============================] - 1s 4ms/step - loss: 0.4426 - accuracy: 0.8461 - val_loss: 0.4464 - val_accuracy: 0.8433\n",
            "Epoch 123/300\n",
            "114/114 [==============================] - 1s 5ms/step - loss: 0.4422 - accuracy: 0.8460 - val_loss: 0.4461 - val_accuracy: 0.8434\n",
            "Epoch 124/300\n",
            "114/114 [==============================] - 1s 4ms/step - loss: 0.4420 - accuracy: 0.8462 - val_loss: 0.4459 - val_accuracy: 0.8434\n",
            "Epoch 125/300\n",
            "114/114 [==============================] - 1s 5ms/step - loss: 0.4418 - accuracy: 0.8460 - val_loss: 0.4456 - val_accuracy: 0.8438\n",
            "Epoch 126/300\n",
            "114/114 [==============================] - 1s 5ms/step - loss: 0.4414 - accuracy: 0.8463 - val_loss: 0.4455 - val_accuracy: 0.8433\n",
            "Epoch 127/300\n",
            "114/114 [==============================] - 1s 7ms/step - loss: 0.4412 - accuracy: 0.8468 - val_loss: 0.4452 - val_accuracy: 0.8433\n",
            "Epoch 128/300\n",
            "114/114 [==============================] - 1s 7ms/step - loss: 0.4410 - accuracy: 0.8466 - val_loss: 0.4453 - val_accuracy: 0.8472\n",
            "Epoch 129/300\n",
            "114/114 [==============================] - 1s 7ms/step - loss: 0.4407 - accuracy: 0.8463 - val_loss: 0.4446 - val_accuracy: 0.8453\n",
            "Epoch 130/300\n",
            "114/114 [==============================] - 1s 8ms/step - loss: 0.4404 - accuracy: 0.8464 - val_loss: 0.4445 - val_accuracy: 0.8434\n",
            "Epoch 131/300\n",
            "114/114 [==============================] - 1s 7ms/step - loss: 0.4402 - accuracy: 0.8470 - val_loss: 0.4443 - val_accuracy: 0.8433\n",
            "Epoch 132/300\n",
            "114/114 [==============================] - 1s 7ms/step - loss: 0.4400 - accuracy: 0.8469 - val_loss: 0.4443 - val_accuracy: 0.8432\n",
            "Epoch 133/300\n",
            "114/114 [==============================] - 1s 5ms/step - loss: 0.4397 - accuracy: 0.8465 - val_loss: 0.4437 - val_accuracy: 0.8436\n",
            "Epoch 134/300\n",
            "114/114 [==============================] - 1s 5ms/step - loss: 0.4396 - accuracy: 0.8469 - val_loss: 0.4437 - val_accuracy: 0.8472\n",
            "Epoch 135/300\n",
            "114/114 [==============================] - 1s 5ms/step - loss: 0.4393 - accuracy: 0.8475 - val_loss: 0.4432 - val_accuracy: 0.8461\n",
            "Epoch 136/300\n",
            "114/114 [==============================] - 1s 5ms/step - loss: 0.4390 - accuracy: 0.8474 - val_loss: 0.4432 - val_accuracy: 0.8434\n",
            "Epoch 137/300\n",
            "114/114 [==============================] - 1s 5ms/step - loss: 0.4387 - accuracy: 0.8468 - val_loss: 0.4429 - val_accuracy: 0.8436\n",
            "Epoch 138/300\n",
            "114/114 [==============================] - 1s 5ms/step - loss: 0.4385 - accuracy: 0.8473 - val_loss: 0.4425 - val_accuracy: 0.8459\n",
            "Epoch 139/300\n",
            "114/114 [==============================] - 1s 6ms/step - loss: 0.4383 - accuracy: 0.8472 - val_loss: 0.4424 - val_accuracy: 0.8472\n",
            "Epoch 140/300\n",
            "114/114 [==============================] - 1s 5ms/step - loss: 0.4380 - accuracy: 0.8471 - val_loss: 0.4421 - val_accuracy: 0.8460\n",
            "Epoch 141/300\n",
            "114/114 [==============================] - 1s 5ms/step - loss: 0.4379 - accuracy: 0.8473 - val_loss: 0.4420 - val_accuracy: 0.8439\n",
            "Epoch 142/300\n",
            "114/114 [==============================] - 1s 5ms/step - loss: 0.4378 - accuracy: 0.8478 - val_loss: 0.4417 - val_accuracy: 0.8468\n",
            "Epoch 143/300\n",
            "114/114 [==============================] - 1s 5ms/step - loss: 0.4373 - accuracy: 0.8473 - val_loss: 0.4414 - val_accuracy: 0.8454\n",
            "Epoch 144/300\n",
            "114/114 [==============================] - 1s 4ms/step - loss: 0.4372 - accuracy: 0.8474 - val_loss: 0.4413 - val_accuracy: 0.8443\n",
            "Epoch 145/300\n",
            "114/114 [==============================] - 1s 5ms/step - loss: 0.4370 - accuracy: 0.8473 - val_loss: 0.4412 - val_accuracy: 0.8440\n",
            "Epoch 146/300\n",
            "114/114 [==============================] - 1s 5ms/step - loss: 0.4368 - accuracy: 0.8473 - val_loss: 0.4408 - val_accuracy: 0.8459\n",
            "Epoch 147/300\n",
            "114/114 [==============================] - 1s 5ms/step - loss: 0.4367 - accuracy: 0.8475 - val_loss: 0.4407 - val_accuracy: 0.8450\n",
            "Epoch 148/300\n",
            "114/114 [==============================] - 1s 5ms/step - loss: 0.4363 - accuracy: 0.8478 - val_loss: 0.4407 - val_accuracy: 0.8439\n",
            "Epoch 149/300\n",
            "114/114 [==============================] - 1s 5ms/step - loss: 0.4362 - accuracy: 0.8475 - val_loss: 0.4403 - val_accuracy: 0.8444\n",
            "Epoch 150/300\n",
            "114/114 [==============================] - 1s 7ms/step - loss: 0.4360 - accuracy: 0.8477 - val_loss: 0.4401 - val_accuracy: 0.8453\n",
            "Epoch 151/300\n",
            "114/114 [==============================] - 1s 7ms/step - loss: 0.4358 - accuracy: 0.8477 - val_loss: 0.4398 - val_accuracy: 0.8465\n",
            "Epoch 152/300\n",
            "114/114 [==============================] - 1s 8ms/step - loss: 0.4356 - accuracy: 0.8478 - val_loss: 0.4397 - val_accuracy: 0.8451\n",
            "Epoch 153/300\n",
            "114/114 [==============================] - 1s 8ms/step - loss: 0.4355 - accuracy: 0.8480 - val_loss: 0.4401 - val_accuracy: 0.8438\n",
            "Epoch 154/300\n",
            "114/114 [==============================] - 1s 8ms/step - loss: 0.4353 - accuracy: 0.8483 - val_loss: 0.4392 - val_accuracy: 0.8465\n",
            "Epoch 155/300\n",
            "114/114 [==============================] - 1s 7ms/step - loss: 0.4350 - accuracy: 0.8480 - val_loss: 0.4398 - val_accuracy: 0.8438\n",
            "Epoch 156/300\n",
            "114/114 [==============================] - 1s 5ms/step - loss: 0.4348 - accuracy: 0.8481 - val_loss: 0.4395 - val_accuracy: 0.8440\n",
            "Epoch 157/300\n",
            "114/114 [==============================] - 1s 4ms/step - loss: 0.4347 - accuracy: 0.8482 - val_loss: 0.4396 - val_accuracy: 0.8438\n",
            "Epoch 158/300\n",
            "114/114 [==============================] - 1s 5ms/step - loss: 0.4346 - accuracy: 0.8483 - val_loss: 0.4386 - val_accuracy: 0.8458\n",
            "Epoch 159/300\n",
            "114/114 [==============================] - 1s 5ms/step - loss: 0.4344 - accuracy: 0.8481 - val_loss: 0.4384 - val_accuracy: 0.8465\n",
            "Epoch 160/300\n",
            "114/114 [==============================] - 1s 5ms/step - loss: 0.4341 - accuracy: 0.8485 - val_loss: 0.4387 - val_accuracy: 0.8440\n",
            "Epoch 161/300\n",
            "114/114 [==============================] - 1s 5ms/step - loss: 0.4341 - accuracy: 0.8480 - val_loss: 0.4381 - val_accuracy: 0.8460\n",
            "Epoch 162/300\n",
            "114/114 [==============================] - 1s 5ms/step - loss: 0.4339 - accuracy: 0.8481 - val_loss: 0.4387 - val_accuracy: 0.8440\n",
            "Epoch 163/300\n",
            "114/114 [==============================] - 1s 5ms/step - loss: 0.4337 - accuracy: 0.8485 - val_loss: 0.4378 - val_accuracy: 0.8458\n",
            "Epoch 164/300\n",
            "114/114 [==============================] - 1s 5ms/step - loss: 0.4336 - accuracy: 0.8483 - val_loss: 0.4377 - val_accuracy: 0.8458\n",
            "Epoch 165/300\n",
            "114/114 [==============================] - 1s 5ms/step - loss: 0.4334 - accuracy: 0.8487 - val_loss: 0.4377 - val_accuracy: 0.8444\n",
            "Epoch 166/300\n",
            "114/114 [==============================] - 1s 5ms/step - loss: 0.4332 - accuracy: 0.8484 - val_loss: 0.4373 - val_accuracy: 0.8465\n",
            "Epoch 167/300\n",
            "114/114 [==============================] - 1s 5ms/step - loss: 0.4330 - accuracy: 0.8484 - val_loss: 0.4371 - val_accuracy: 0.8465\n",
            "Epoch 168/300\n",
            "114/114 [==============================] - 1s 5ms/step - loss: 0.4329 - accuracy: 0.8486 - val_loss: 0.4370 - val_accuracy: 0.8463\n",
            "Epoch 169/300\n",
            "114/114 [==============================] - 1s 5ms/step - loss: 0.4328 - accuracy: 0.8485 - val_loss: 0.4370 - val_accuracy: 0.8460\n",
            "Epoch 170/300\n",
            "114/114 [==============================] - 1s 6ms/step - loss: 0.4327 - accuracy: 0.8487 - val_loss: 0.4369 - val_accuracy: 0.8473\n",
            "Epoch 171/300\n",
            "114/114 [==============================] - 1s 5ms/step - loss: 0.4326 - accuracy: 0.8485 - val_loss: 0.4366 - val_accuracy: 0.8472\n",
            "Epoch 172/300\n",
            "114/114 [==============================] - 1s 5ms/step - loss: 0.4323 - accuracy: 0.8487 - val_loss: 0.4364 - val_accuracy: 0.8470\n",
            "Epoch 173/300\n",
            "114/114 [==============================] - 1s 7ms/step - loss: 0.4322 - accuracy: 0.8485 - val_loss: 0.4365 - val_accuracy: 0.8462\n",
            "Epoch 174/300\n",
            "114/114 [==============================] - 1s 8ms/step - loss: 0.4322 - accuracy: 0.8489 - val_loss: 0.4363 - val_accuracy: 0.8473\n",
            "Epoch 175/300\n",
            "114/114 [==============================] - 1s 8ms/step - loss: 0.4318 - accuracy: 0.8487 - val_loss: 0.4361 - val_accuracy: 0.8464\n",
            "Epoch 176/300\n",
            "114/114 [==============================] - 1s 8ms/step - loss: 0.4318 - accuracy: 0.8490 - val_loss: 0.4361 - val_accuracy: 0.8478\n",
            "Epoch 177/300\n",
            "114/114 [==============================] - 1s 7ms/step - loss: 0.4317 - accuracy: 0.8492 - val_loss: 0.4363 - val_accuracy: 0.8444\n",
            "Epoch 178/300\n",
            "114/114 [==============================] - 1s 6ms/step - loss: 0.4316 - accuracy: 0.8488 - val_loss: 0.4360 - val_accuracy: 0.8451\n",
            "Epoch 179/300\n",
            "114/114 [==============================] - 1s 5ms/step - loss: 0.4316 - accuracy: 0.8488 - val_loss: 0.4360 - val_accuracy: 0.8480\n",
            "Epoch 180/300\n",
            "114/114 [==============================] - 1s 5ms/step - loss: 0.4314 - accuracy: 0.8491 - val_loss: 0.4354 - val_accuracy: 0.8475\n",
            "Epoch 181/300\n",
            "114/114 [==============================] - 1s 5ms/step - loss: 0.4312 - accuracy: 0.8489 - val_loss: 0.4353 - val_accuracy: 0.8475\n",
            "Epoch 182/300\n",
            "114/114 [==============================] - 1s 5ms/step - loss: 0.4311 - accuracy: 0.8490 - val_loss: 0.4354 - val_accuracy: 0.8460\n",
            "Epoch 183/300\n",
            "114/114 [==============================] - 1s 5ms/step - loss: 0.4310 - accuracy: 0.8487 - val_loss: 0.4352 - val_accuracy: 0.8463\n",
            "Epoch 184/300\n",
            "114/114 [==============================] - 1s 5ms/step - loss: 0.4308 - accuracy: 0.8491 - val_loss: 0.4351 - val_accuracy: 0.8463\n",
            "Epoch 185/300\n",
            "114/114 [==============================] - 1s 5ms/step - loss: 0.4307 - accuracy: 0.8493 - val_loss: 0.4351 - val_accuracy: 0.8461\n",
            "Epoch 186/300\n",
            "114/114 [==============================] - 1s 5ms/step - loss: 0.4308 - accuracy: 0.8491 - val_loss: 0.4355 - val_accuracy: 0.8444\n",
            "Epoch 187/300\n",
            "114/114 [==============================] - 1s 5ms/step - loss: 0.4308 - accuracy: 0.8486 - val_loss: 0.4347 - val_accuracy: 0.8475\n",
            "Epoch 188/300\n",
            "114/114 [==============================] - 1s 5ms/step - loss: 0.4304 - accuracy: 0.8488 - val_loss: 0.4345 - val_accuracy: 0.8473\n",
            "Epoch 189/300\n",
            "114/114 [==============================] - 1s 5ms/step - loss: 0.4302 - accuracy: 0.8491 - val_loss: 0.4344 - val_accuracy: 0.8473\n",
            "Epoch 190/300\n",
            "114/114 [==============================] - 1s 5ms/step - loss: 0.4302 - accuracy: 0.8491 - val_loss: 0.4343 - val_accuracy: 0.8473\n",
            "Epoch 191/300\n",
            "114/114 [==============================] - 1s 5ms/step - loss: 0.4301 - accuracy: 0.8494 - val_loss: 0.4342 - val_accuracy: 0.8474\n",
            "Epoch 192/300\n",
            "114/114 [==============================] - 1s 5ms/step - loss: 0.4299 - accuracy: 0.8493 - val_loss: 0.4347 - val_accuracy: 0.8451\n",
            "Epoch 193/300\n",
            "114/114 [==============================] - 1s 5ms/step - loss: 0.4299 - accuracy: 0.8494 - val_loss: 0.4345 - val_accuracy: 0.8455\n",
            "Epoch 194/300\n",
            "114/114 [==============================] - 1s 5ms/step - loss: 0.4297 - accuracy: 0.8491 - val_loss: 0.4345 - val_accuracy: 0.8448\n",
            "Epoch 195/300\n",
            "114/114 [==============================] - 1s 5ms/step - loss: 0.4296 - accuracy: 0.8494 - val_loss: 0.4339 - val_accuracy: 0.8474\n",
            "Epoch 196/300\n",
            "114/114 [==============================] - 1s 8ms/step - loss: 0.4296 - accuracy: 0.8493 - val_loss: 0.4354 - val_accuracy: 0.8442\n",
            "Epoch 197/300\n",
            "114/114 [==============================] - 1s 7ms/step - loss: 0.4295 - accuracy: 0.8491 - val_loss: 0.4338 - val_accuracy: 0.8480\n",
            "Epoch 198/300\n",
            "114/114 [==============================] - 1s 8ms/step - loss: 0.4294 - accuracy: 0.8490 - val_loss: 0.4341 - val_accuracy: 0.8483\n",
            "Epoch 199/300\n",
            "114/114 [==============================] - 1s 7ms/step - loss: 0.4294 - accuracy: 0.8494 - val_loss: 0.4337 - val_accuracy: 0.8464\n",
            "Epoch 200/300\n",
            "114/114 [==============================] - 1s 8ms/step - loss: 0.4293 - accuracy: 0.8492 - val_loss: 0.4338 - val_accuracy: 0.8461\n",
            "Epoch 201/300\n",
            "114/114 [==============================] - 1s 8ms/step - loss: 0.4292 - accuracy: 0.8492 - val_loss: 0.4333 - val_accuracy: 0.8474\n",
            "Epoch 202/300\n",
            "114/114 [==============================] - 1s 5ms/step - loss: 0.4291 - accuracy: 0.8493 - val_loss: 0.4332 - val_accuracy: 0.8475\n",
            "Epoch 203/300\n",
            "114/114 [==============================] - 1s 5ms/step - loss: 0.4291 - accuracy: 0.8498 - val_loss: 0.4332 - val_accuracy: 0.8475\n",
            "Epoch 204/300\n",
            "114/114 [==============================] - 1s 6ms/step - loss: 0.4290 - accuracy: 0.8495 - val_loss: 0.4334 - val_accuracy: 0.8463\n",
            "Epoch 205/300\n",
            "114/114 [==============================] - 1s 5ms/step - loss: 0.4288 - accuracy: 0.8495 - val_loss: 0.4330 - val_accuracy: 0.8475\n",
            "Epoch 206/300\n",
            "114/114 [==============================] - 1s 5ms/step - loss: 0.4288 - accuracy: 0.8494 - val_loss: 0.4329 - val_accuracy: 0.8476\n",
            "Epoch 207/300\n",
            "114/114 [==============================] - 1s 5ms/step - loss: 0.4288 - accuracy: 0.8494 - val_loss: 0.4330 - val_accuracy: 0.8468\n",
            "Epoch 208/300\n",
            "114/114 [==============================] - 1s 5ms/step - loss: 0.4287 - accuracy: 0.8493 - val_loss: 0.4329 - val_accuracy: 0.8469\n",
            "Epoch 209/300\n",
            "114/114 [==============================] - 1s 5ms/step - loss: 0.4286 - accuracy: 0.8496 - val_loss: 0.4331 - val_accuracy: 0.8463\n",
            "Epoch 210/300\n",
            "114/114 [==============================] - 1s 5ms/step - loss: 0.4285 - accuracy: 0.8496 - val_loss: 0.4327 - val_accuracy: 0.8473\n",
            "Epoch 211/300\n",
            "114/114 [==============================] - 1s 5ms/step - loss: 0.4283 - accuracy: 0.8497 - val_loss: 0.4327 - val_accuracy: 0.8469\n",
            "Epoch 212/300\n",
            "114/114 [==============================] - 1s 5ms/step - loss: 0.4283 - accuracy: 0.8496 - val_loss: 0.4325 - val_accuracy: 0.8473\n",
            "Epoch 213/300\n",
            "114/114 [==============================] - 1s 5ms/step - loss: 0.4286 - accuracy: 0.8498 - val_loss: 0.4324 - val_accuracy: 0.8475\n",
            "Epoch 214/300\n",
            "114/114 [==============================] - 1s 5ms/step - loss: 0.4284 - accuracy: 0.8498 - val_loss: 0.4326 - val_accuracy: 0.8466\n",
            "Epoch 215/300\n",
            "114/114 [==============================] - 1s 5ms/step - loss: 0.4281 - accuracy: 0.8495 - val_loss: 0.4326 - val_accuracy: 0.8482\n",
            "Epoch 216/300\n",
            "114/114 [==============================] - 1s 5ms/step - loss: 0.4281 - accuracy: 0.8498 - val_loss: 0.4322 - val_accuracy: 0.8473\n",
            "Epoch 217/300\n",
            "114/114 [==============================] - 1s 5ms/step - loss: 0.4281 - accuracy: 0.8499 - val_loss: 0.4321 - val_accuracy: 0.8473\n",
            "Epoch 218/300\n",
            "114/114 [==============================] - 1s 5ms/step - loss: 0.4280 - accuracy: 0.8497 - val_loss: 0.4325 - val_accuracy: 0.8483\n",
            "Epoch 219/300\n",
            "114/114 [==============================] - 1s 8ms/step - loss: 0.4280 - accuracy: 0.8497 - val_loss: 0.4320 - val_accuracy: 0.8476\n",
            "Epoch 220/300\n",
            "114/114 [==============================] - 1s 7ms/step - loss: 0.4278 - accuracy: 0.8495 - val_loss: 0.4322 - val_accuracy: 0.8482\n",
            "Epoch 221/300\n",
            "114/114 [==============================] - 1s 8ms/step - loss: 0.4277 - accuracy: 0.8500 - val_loss: 0.4319 - val_accuracy: 0.8473\n",
            "Epoch 222/300\n",
            "114/114 [==============================] - 1s 8ms/step - loss: 0.4279 - accuracy: 0.8494 - val_loss: 0.4319 - val_accuracy: 0.8477\n",
            "Epoch 223/300\n",
            "114/114 [==============================] - 1s 7ms/step - loss: 0.4276 - accuracy: 0.8499 - val_loss: 0.4318 - val_accuracy: 0.8475\n",
            "Epoch 224/300\n",
            "114/114 [==============================] - 1s 7ms/step - loss: 0.4276 - accuracy: 0.8500 - val_loss: 0.4317 - val_accuracy: 0.8475\n",
            "Epoch 225/300\n",
            "114/114 [==============================] - 1s 5ms/step - loss: 0.4275 - accuracy: 0.8497 - val_loss: 0.4317 - val_accuracy: 0.8473\n",
            "Epoch 226/300\n",
            "114/114 [==============================] - 1s 5ms/step - loss: 0.4276 - accuracy: 0.8497 - val_loss: 0.4316 - val_accuracy: 0.8476\n",
            "Epoch 227/300\n",
            "114/114 [==============================] - 1s 5ms/step - loss: 0.4275 - accuracy: 0.8498 - val_loss: 0.4320 - val_accuracy: 0.8466\n",
            "Epoch 228/300\n",
            "114/114 [==============================] - 1s 5ms/step - loss: 0.4274 - accuracy: 0.8496 - val_loss: 0.4325 - val_accuracy: 0.8456\n",
            "Epoch 229/300\n",
            "114/114 [==============================] - 1s 5ms/step - loss: 0.4274 - accuracy: 0.8497 - val_loss: 0.4316 - val_accuracy: 0.8473\n",
            "Epoch 230/300\n",
            "114/114 [==============================] - 1s 5ms/step - loss: 0.4273 - accuracy: 0.8498 - val_loss: 0.4320 - val_accuracy: 0.8463\n",
            "Epoch 231/300\n",
            "114/114 [==============================] - 1s 5ms/step - loss: 0.4271 - accuracy: 0.8497 - val_loss: 0.4314 - val_accuracy: 0.8478\n",
            "Epoch 232/300\n",
            "114/114 [==============================] - 1s 6ms/step - loss: 0.4272 - accuracy: 0.8501 - val_loss: 0.4314 - val_accuracy: 0.8475\n",
            "Epoch 233/300\n",
            "114/114 [==============================] - 1s 5ms/step - loss: 0.4272 - accuracy: 0.8498 - val_loss: 0.4313 - val_accuracy: 0.8474\n",
            "Epoch 234/300\n",
            "114/114 [==============================] - 1s 5ms/step - loss: 0.4270 - accuracy: 0.8500 - val_loss: 0.4318 - val_accuracy: 0.8464\n",
            "Epoch 235/300\n",
            "114/114 [==============================] - 1s 5ms/step - loss: 0.4270 - accuracy: 0.8499 - val_loss: 0.4312 - val_accuracy: 0.8475\n",
            "Epoch 236/300\n",
            "114/114 [==============================] - 1s 5ms/step - loss: 0.4270 - accuracy: 0.8498 - val_loss: 0.4312 - val_accuracy: 0.8475\n",
            "Epoch 237/300\n",
            "114/114 [==============================] - 1s 5ms/step - loss: 0.4269 - accuracy: 0.8500 - val_loss: 0.4311 - val_accuracy: 0.8477\n",
            "Epoch 238/300\n",
            "114/114 [==============================] - 1s 5ms/step - loss: 0.4269 - accuracy: 0.8500 - val_loss: 0.4315 - val_accuracy: 0.8467\n",
            "Epoch 239/300\n",
            "114/114 [==============================] - 1s 5ms/step - loss: 0.4270 - accuracy: 0.8497 - val_loss: 0.4312 - val_accuracy: 0.8473\n",
            "Epoch 240/300\n",
            "114/114 [==============================] - 1s 5ms/step - loss: 0.4269 - accuracy: 0.8500 - val_loss: 0.4309 - val_accuracy: 0.8477\n",
            "Epoch 241/300\n",
            "114/114 [==============================] - 1s 5ms/step - loss: 0.4267 - accuracy: 0.8500 - val_loss: 0.4312 - val_accuracy: 0.8472\n",
            "Epoch 242/300\n",
            "114/114 [==============================] - 1s 8ms/step - loss: 0.4265 - accuracy: 0.8501 - val_loss: 0.4309 - val_accuracy: 0.8480\n",
            "Epoch 243/300\n",
            "114/114 [==============================] - 1s 7ms/step - loss: 0.4266 - accuracy: 0.8501 - val_loss: 0.4309 - val_accuracy: 0.8475\n",
            "Epoch 244/300\n",
            "114/114 [==============================] - 1s 7ms/step - loss: 0.4269 - accuracy: 0.8499 - val_loss: 0.4325 - val_accuracy: 0.8481\n",
            "Epoch 245/300\n",
            "114/114 [==============================] - 1s 8ms/step - loss: 0.4265 - accuracy: 0.8500 - val_loss: 0.4309 - val_accuracy: 0.8482\n",
            "Epoch 246/300\n",
            "114/114 [==============================] - 1s 7ms/step - loss: 0.4267 - accuracy: 0.8502 - val_loss: 0.4313 - val_accuracy: 0.8464\n",
            "Epoch 247/300\n",
            "114/114 [==============================] - 1s 8ms/step - loss: 0.4265 - accuracy: 0.8500 - val_loss: 0.4307 - val_accuracy: 0.8475\n",
            "Epoch 248/300\n",
            "114/114 [==============================] - 1s 5ms/step - loss: 0.4264 - accuracy: 0.8500 - val_loss: 0.4306 - val_accuracy: 0.8477\n",
            "Epoch 249/300\n",
            "114/114 [==============================] - 1s 5ms/step - loss: 0.4263 - accuracy: 0.8505 - val_loss: 0.4306 - val_accuracy: 0.8479\n",
            "Epoch 250/300\n",
            "114/114 [==============================] - 1s 5ms/step - loss: 0.4266 - accuracy: 0.8501 - val_loss: 0.4307 - val_accuracy: 0.8482\n",
            "Epoch 251/300\n",
            "114/114 [==============================] - 1s 5ms/step - loss: 0.4263 - accuracy: 0.8500 - val_loss: 0.4307 - val_accuracy: 0.8483\n",
            "Epoch 252/300\n",
            "114/114 [==============================] - 1s 5ms/step - loss: 0.4266 - accuracy: 0.8498 - val_loss: 0.4305 - val_accuracy: 0.8479\n",
            "Epoch 253/300\n",
            "114/114 [==============================] - 1s 5ms/step - loss: 0.4263 - accuracy: 0.8499 - val_loss: 0.4307 - val_accuracy: 0.8482\n",
            "Epoch 254/300\n",
            "114/114 [==============================] - 1s 5ms/step - loss: 0.4262 - accuracy: 0.8499 - val_loss: 0.4318 - val_accuracy: 0.8455\n",
            "Epoch 255/300\n",
            "114/114 [==============================] - 1s 5ms/step - loss: 0.4261 - accuracy: 0.8503 - val_loss: 0.4304 - val_accuracy: 0.8477\n",
            "Epoch 256/300\n",
            "114/114 [==============================] - 1s 5ms/step - loss: 0.4261 - accuracy: 0.8499 - val_loss: 0.4303 - val_accuracy: 0.8478\n",
            "Epoch 257/300\n",
            "114/114 [==============================] - 1s 5ms/step - loss: 0.4261 - accuracy: 0.8503 - val_loss: 0.4303 - val_accuracy: 0.8479\n",
            "Epoch 258/300\n",
            "114/114 [==============================] - 1s 6ms/step - loss: 0.4261 - accuracy: 0.8503 - val_loss: 0.4304 - val_accuracy: 0.8483\n",
            "Epoch 259/300\n",
            "114/114 [==============================] - 1s 6ms/step - loss: 0.4263 - accuracy: 0.8504 - val_loss: 0.4302 - val_accuracy: 0.8478\n",
            "Epoch 260/300\n",
            "114/114 [==============================] - 1s 5ms/step - loss: 0.4260 - accuracy: 0.8501 - val_loss: 0.4302 - val_accuracy: 0.8478\n",
            "Epoch 261/300\n",
            "114/114 [==============================] - 1s 5ms/step - loss: 0.4259 - accuracy: 0.8501 - val_loss: 0.4302 - val_accuracy: 0.8483\n",
            "Epoch 262/300\n",
            "114/114 [==============================] - 1s 5ms/step - loss: 0.4259 - accuracy: 0.8504 - val_loss: 0.4301 - val_accuracy: 0.8478\n",
            "Epoch 263/300\n",
            "114/114 [==============================] - 1s 5ms/step - loss: 0.4260 - accuracy: 0.8503 - val_loss: 0.4302 - val_accuracy: 0.8475\n",
            "Epoch 264/300\n",
            "114/114 [==============================] - 1s 7ms/step - loss: 0.4258 - accuracy: 0.8501 - val_loss: 0.4301 - val_accuracy: 0.8477\n",
            "Epoch 265/300\n",
            "114/114 [==============================] - 1s 7ms/step - loss: 0.4259 - accuracy: 0.8504 - val_loss: 0.4301 - val_accuracy: 0.8477\n",
            "Epoch 266/300\n",
            "114/114 [==============================] - 1s 8ms/step - loss: 0.4258 - accuracy: 0.8503 - val_loss: 0.4300 - val_accuracy: 0.8480\n",
            "Epoch 267/300\n",
            "114/114 [==============================] - 1s 8ms/step - loss: 0.4257 - accuracy: 0.8502 - val_loss: 0.4300 - val_accuracy: 0.8477\n",
            "Epoch 268/300\n",
            "114/114 [==============================] - 1s 7ms/step - loss: 0.4260 - accuracy: 0.8501 - val_loss: 0.4300 - val_accuracy: 0.8483\n",
            "Epoch 269/300\n",
            "114/114 [==============================] - 1s 7ms/step - loss: 0.4257 - accuracy: 0.8502 - val_loss: 0.4301 - val_accuracy: 0.8482\n",
            "Epoch 270/300\n",
            "114/114 [==============================] - 1s 6ms/step - loss: 0.4258 - accuracy: 0.8503 - val_loss: 0.4300 - val_accuracy: 0.8483\n",
            "Epoch 271/300\n",
            "114/114 [==============================] - 1s 5ms/step - loss: 0.4256 - accuracy: 0.8504 - val_loss: 0.4306 - val_accuracy: 0.8486\n",
            "Epoch 272/300\n",
            "114/114 [==============================] - 1s 5ms/step - loss: 0.4256 - accuracy: 0.8503 - val_loss: 0.4298 - val_accuracy: 0.8480\n",
            "Epoch 273/300\n",
            "114/114 [==============================] - 1s 6ms/step - loss: 0.4255 - accuracy: 0.8502 - val_loss: 0.4298 - val_accuracy: 0.8478\n",
            "Epoch 274/300\n",
            "114/114 [==============================] - 1s 5ms/step - loss: 0.4255 - accuracy: 0.8504 - val_loss: 0.4306 - val_accuracy: 0.8465\n",
            "Epoch 275/300\n",
            "114/114 [==============================] - 1s 5ms/step - loss: 0.4255 - accuracy: 0.8504 - val_loss: 0.4298 - val_accuracy: 0.8481\n",
            "Epoch 276/300\n",
            "114/114 [==============================] - 1s 5ms/step - loss: 0.4255 - accuracy: 0.8503 - val_loss: 0.4297 - val_accuracy: 0.8479\n",
            "Epoch 277/300\n",
            "114/114 [==============================] - 1s 5ms/step - loss: 0.4254 - accuracy: 0.8503 - val_loss: 0.4297 - val_accuracy: 0.8478\n",
            "Epoch 278/300\n",
            "114/114 [==============================] - 1s 6ms/step - loss: 0.4255 - accuracy: 0.8502 - val_loss: 0.4297 - val_accuracy: 0.8482\n",
            "Epoch 279/300\n",
            "114/114 [==============================] - 1s 5ms/step - loss: 0.4255 - accuracy: 0.8506 - val_loss: 0.4296 - val_accuracy: 0.8478\n",
            "Epoch 280/300\n",
            "114/114 [==============================] - 1s 6ms/step - loss: 0.4254 - accuracy: 0.8503 - val_loss: 0.4297 - val_accuracy: 0.8484\n",
            "Epoch 281/300\n",
            "114/114 [==============================] - 1s 5ms/step - loss: 0.4254 - accuracy: 0.8503 - val_loss: 0.4297 - val_accuracy: 0.8483\n",
            "Epoch 282/300\n",
            "114/114 [==============================] - 1s 5ms/step - loss: 0.4253 - accuracy: 0.8503 - val_loss: 0.4299 - val_accuracy: 0.8484\n",
            "Epoch 283/300\n",
            "114/114 [==============================] - 1s 5ms/step - loss: 0.4254 - accuracy: 0.8505 - val_loss: 0.4295 - val_accuracy: 0.8479\n",
            "Epoch 284/300\n",
            "114/114 [==============================] - 1s 5ms/step - loss: 0.4254 - accuracy: 0.8503 - val_loss: 0.4295 - val_accuracy: 0.8480\n",
            "Epoch 285/300\n",
            "114/114 [==============================] - 1s 5ms/step - loss: 0.4254 - accuracy: 0.8504 - val_loss: 0.4295 - val_accuracy: 0.8479\n",
            "Epoch 286/300\n",
            "114/114 [==============================] - 1s 5ms/step - loss: 0.4254 - accuracy: 0.8503 - val_loss: 0.4295 - val_accuracy: 0.8478\n",
            "Epoch 287/300\n",
            "114/114 [==============================] - 1s 7ms/step - loss: 0.4252 - accuracy: 0.8505 - val_loss: 0.4300 - val_accuracy: 0.8470\n",
            "Epoch 288/300\n",
            "114/114 [==============================] - 1s 7ms/step - loss: 0.4251 - accuracy: 0.8502 - val_loss: 0.4294 - val_accuracy: 0.8479\n",
            "Epoch 289/300\n",
            "114/114 [==============================] - 1s 8ms/step - loss: 0.4251 - accuracy: 0.8503 - val_loss: 0.4294 - val_accuracy: 0.8482\n",
            "Epoch 290/300\n",
            "114/114 [==============================] - 1s 7ms/step - loss: 0.4251 - accuracy: 0.8505 - val_loss: 0.4294 - val_accuracy: 0.8479\n",
            "Epoch 291/300\n",
            "114/114 [==============================] - 1s 7ms/step - loss: 0.4251 - accuracy: 0.8503 - val_loss: 0.4299 - val_accuracy: 0.8470\n",
            "Epoch 292/300\n",
            "114/114 [==============================] - 1s 8ms/step - loss: 0.4251 - accuracy: 0.8503 - val_loss: 0.4301 - val_accuracy: 0.8469\n",
            "Epoch 293/300\n",
            "114/114 [==============================] - 1s 7ms/step - loss: 0.4251 - accuracy: 0.8503 - val_loss: 0.4294 - val_accuracy: 0.8477\n",
            "Epoch 294/300\n",
            "114/114 [==============================] - 1s 6ms/step - loss: 0.4252 - accuracy: 0.8504 - val_loss: 0.4299 - val_accuracy: 0.8470\n",
            "Epoch 295/300\n",
            "114/114 [==============================] - 1s 5ms/step - loss: 0.4250 - accuracy: 0.8505 - val_loss: 0.4303 - val_accuracy: 0.8485\n",
            "Epoch 296/300\n",
            "114/114 [==============================] - 1s 6ms/step - loss: 0.4252 - accuracy: 0.8502 - val_loss: 0.4294 - val_accuracy: 0.8477\n",
            "Epoch 297/300\n",
            "114/114 [==============================] - 1s 5ms/step - loss: 0.4251 - accuracy: 0.8503 - val_loss: 0.4298 - val_accuracy: 0.8470\n",
            "Epoch 298/300\n",
            "114/114 [==============================] - 1s 6ms/step - loss: 0.4250 - accuracy: 0.8503 - val_loss: 0.4292 - val_accuracy: 0.8480\n",
            "Epoch 299/300\n",
            "114/114 [==============================] - 1s 5ms/step - loss: 0.4249 - accuracy: 0.8503 - val_loss: 0.4292 - val_accuracy: 0.8480\n",
            "Epoch 300/300\n",
            "114/114 [==============================] - 1s 5ms/step - loss: 0.4248 - accuracy: 0.8503 - val_loss: 0.4293 - val_accuracy: 0.8477\n"
          ]
        }
      ],
      "source": [
        "if model_selection[model_flag]==\"ALL\" or model_selection[model_flag] == \"AE\":\n",
        "  # training the model on training dataset\n",
        "  his = ae_classifier.fit(predictions, y_test, epochs=300,batch_size=500, validation_split=0.2).history"
      ]
    },
    {
      "cell_type": "code",
      "execution_count": 74,
      "metadata": {
        "id": "yeNS7pLUNYBz"
      },
      "outputs": [],
      "source": [
        "if model_selection[model_flag]==\"ALL\" or model_selection[model_flag] == \"AE\":\n",
        "  filepath = '/content/drive/MyDrive/Colab_Notebooks/Models/ae_classifier_binary.json'\n",
        "  weightspath = '/content/drive/MyDrive/Colab_Notebooks/Weights/ae_classifier_binary.h5'\n",
        "  if (not path.isfile(filepath)): \n",
        "    # serialize model to JSON\n",
        "    ae_classifier_json = ae_classifier.to_json()\n",
        "    with open(filepath, \"w\") as json_file:\n",
        "      json_file.write(ae_classifier_json)\n",
        "\n",
        "    # serialize weights to HDF5\n",
        "    ae_classifier.save_weights(weightspath)\n",
        "    print(\"Saved model to disk\")\n",
        "\n",
        "    # load json and create model\n",
        "    json_file = open(filepath, 'r')\n",
        "    loaded_model_json = json_file.read()\n",
        "    json_file.close()\n",
        "    ae_classifier = model_from_json(loaded_model_json)\n",
        "\n",
        "    # load weights into new model\n",
        "    ae_classifier.load_weights(weightspath)\n",
        "    print(\"Loaded model from disk\")"
      ]
    },
    {
      "cell_type": "code",
      "execution_count": 75,
      "metadata": {
        "id": "AG42bV79NYFB"
      },
      "outputs": [],
      "source": [
        "if model_selection[model_flag]==\"ALL\" or model_selection[model_flag] == \"AE\":\n",
        "  ae_classifier.compile(optimizer='adam', loss='binary_crossentropy',metrics=['accuracy'])"
      ]
    },
    {
      "cell_type": "code",
      "execution_count": 76,
      "metadata": {
        "id": "13aKBGJcNYHv",
        "colab": {
          "base_uri": "https://localhost:8080/"
        },
        "outputId": "9f2d478c-c446-4d6e-ab8c-1c3df6616287"
      },
      "outputs": [
        {
          "output_type": "stream",
          "name": "stdout",
          "text": [
            "2212/2212 [==============================] - 4s 2ms/step - loss: 1.2908 - accuracy: 0.7880\n",
            "Test results - Loss: 1.2907801866531372 - Accuracy: 78.7958025932312%\n"
          ]
        }
      ],
      "source": [
        "if model_selection[model_flag]==\"ALL\" or model_selection[model_flag] == \"AE\":\n",
        "  # predicting target attribute on testing dataset\n",
        "  test_results = ae_classifier.evaluate(X_test, y_test, verbose=1)\n",
        "  print(f'Test results - Loss: {test_results[0]} - Accuracy: {test_results[1]*100}%')"
      ]
    },
    {
      "cell_type": "code",
      "execution_count": 77,
      "metadata": {
        "id": "zCWbOaSyN1dH"
      },
      "outputs": [],
      "source": [
        "if model_selection[model_flag]==\"ALL\" or model_selection[model_flag] == \"AE\":\n",
        "  # representation of model layers\n",
        "  plot_model(ae_classifier, to_file='/content/drive/MyDrive/Colab_Notebooks/Plots/ae_classifier_binary.png', show_shapes=True)"
      ]
    },
    {
      "cell_type": "code",
      "execution_count": 78,
      "metadata": {
        "id": "44VaFGgVOBpU",
        "colab": {
          "base_uri": "https://localhost:8080/",
          "height": 295
        },
        "outputId": "75deb27f-733d-431d-b9d7-748c8f31b156"
      },
      "outputs": [
        {
          "output_type": "display_data",
          "data": {
            "text/plain": [
              "<Figure size 432x288 with 1 Axes>"
            ],
            "image/png": "[encoded data removed]"
          },
          "metadata": {
            "needs_background": "light"
          }
        }
      ],
      "source": [
        "if model_selection[model_flag]==\"ALL\" or model_selection[model_flag] == \"AE\":\n",
        "  # Plot of loss vs epoch of train and test dataset\n",
        "  plt.plot(his['loss'])\n",
        "  plt.plot(his['val_loss'])\n",
        "  plt.title(\"Plot of loss vs epoch for train and test dataset\")\n",
        "  plt.ylabel('loss')\n",
        "  plt.xlabel('epoch')\n",
        "  plt.legend(['train', 'test'], loc='upper right')\n",
        "  plt.savefig('/content/drive/MyDrive/Colab_Notebooks/Plots/ae_classifier_binary_loss.png')\n",
        "  plt.show()"
      ]
    },
    {
      "cell_type": "code",
      "execution_count": 79,
      "metadata": {
        "id": "Am0UB82rOIo1",
        "colab": {
          "base_uri": "https://localhost:8080/",
          "height": 295
        },
        "outputId": "6174bb4d-b6da-4554-9157-caf6ca9d504c"
      },
      "outputs": [
        {
          "output_type": "display_data",
          "data": {
            "text/plain": [
              "<Figure size 432x288 with 1 Axes>"
            ],
            "image/png": "[encoded data removed]"
          },
          "metadata": {
            "needs_background": "light"
          }
        }
      ],
      "source": [
        "if model_selection[model_flag]==\"ALL\" or model_selection[model_flag] == \"AE\":\n",
        "  # Plot of accuracy vs epoch of train and test dataset\n",
        "  plt.plot(his['accuracy'])\n",
        "  plt.plot(his['val_accuracy'])\n",
        "  plt.title(\"Plot of accuracy vs epoch for train and test dataset\")\n",
        "  plt.ylabel('accuracy')\n",
        "  plt.xlabel('epoch')\n",
        "  plt.legend(['train', 'test'], loc='best')\n",
        "  plt.savefig('/content/drive/MyDrive/Colab_Notebooks/Plots/ae_classifier_binary_accuracy.png')\n",
        "  plt.show()"
      ]
    },
    {
      "cell_type": "code",
      "execution_count": 80,
      "metadata": {
        "id": "f5OZTlm0OMoW",
        "colab": {
          "base_uri": "https://localhost:8080/"
        },
        "outputId": "15eed035-9557-492a-d5e7-4edf33b60c52"
      },
      "outputs": [
        {
          "output_type": "stream",
          "name": "stdout",
          "text": [
            "2212/2212 [==============================] - 5s 2ms/step\n"
          ]
        }
      ],
      "source": [
        "if model_selection[model_flag]==\"ALL\" or model_selection[model_flag] == \"AE\":\n",
        "  y_pred = ae_classifier.predict(X_test).ravel()\n",
        "  fpr, tpr, thresholds = roc_curve(y_test, y_pred)\n",
        "  #auc = auc(fpr, tpr)"
      ]
    },
    {
      "cell_type": "code",
      "execution_count": 81,
      "metadata": {
        "id": "GbSkwfO2OTkn",
        "colab": {
          "base_uri": "https://localhost:8080/",
          "height": 333
        },
        "outputId": "9bfb68dd-0b3a-43d3-e47e-da8d061d09d2"
      },
      "outputs": [
        {
          "output_type": "stream",
          "name": "stderr",
          "text": [
            "WARNING:matplotlib.legend:No artists with labels found to put in legend.  Note that artists whose label start with an underscore are ignored when legend() is called with no argument.\n"
          ]
        },
        {
          "output_type": "display_data",
          "data": {
            "text/plain": [
              "<Figure size 432x288 with 1 Axes>"
            ],
            "image/png": "[encoded data removed]"
          },
          "metadata": {
            "needs_background": "light"
          }
        }
      ],
      "source": [
        "if model_selection[model_flag]==\"ALL\" or model_selection[model_flag] == \"AE\":\n",
        "  plt.plot([0, 1], [0, 1], 'k--')\n",
        "  #plt.plot(fpr, tpr, label='Keras (area = {:.3f})'.format(auc))\n",
        "  plt.plot(fpr, tpr)\n",
        "  plt.xlabel('False positive rate')\n",
        "  plt.ylabel('True positive rate')\n",
        "  plt.title('ROC curve')\n",
        "  plt.legend(loc='best')\n",
        "  plt.savefig('/content/drive/MyDrive/Colab_Notebooks/Plots/ae_binary_roc.png')\n",
        "  plt.show()"
      ]
    },
    {
      "cell_type": "code",
      "execution_count": 82,
      "metadata": {
        "id": "n7Xl74UXOZxm",
        "colab": {
          "base_uri": "https://localhost:8080/"
        },
        "outputId": "2c8c3526-364b-4601-e0a6-c7dc14c0b72e"
      },
      "outputs": [
        {
          "output_type": "stream",
          "name": "stdout",
          "text": [
            "2212/2212 [==============================] - 4s 2ms/step\n",
            "2212/2212 [==============================] - 3s 1ms/step\n"
          ]
        }
      ],
      "source": [
        "if model_selection[model_flag]==\"ALL\" or model_selection[model_flag] == \"AE\":\n",
        "  pred = ae_classifier.predict(X_test)\n",
        "  y_classes = (ae_classifier.predict(X_test)>0.5).astype('int32')"
      ]
    },
    {
      "cell_type": "code",
      "execution_count": 83,
      "metadata": {
        "id": "WA_g3UlXOZ71",
        "colab": {
          "base_uri": "https://localhost:8080/"
        },
        "outputId": "a1ea7e05-27d5-4ec1-bf63-d26e0f5c0db4"
      },
      "outputs": [
        {
          "output_type": "stream",
          "name": "stdout",
          "text": [
            "Recall Score -  0.8894558122349878\n",
            "F1 Score -  0.8707649379058511\n",
            "Precision Score -  0.8528434299981443\n"
          ]
        }
      ],
      "source": [
        "if model_selection[model_flag]==\"ALL\" or model_selection[model_flag] == \"AE\":\n",
        "  print(\"Recall Score - \",recall_score(y_test,y_classes))\n",
        "  print(\"F1 Score - \",f1_score(y_test,y_classes))\n",
        "  print(\"Precision Score - \",precision_score(y_test,y_classes))"
      ]
    },
    {
      "cell_type": "code",
      "source": [
        "print(classification_report(y_test, y_classes, target_names=['0', '1']))\n",
        "cm = confusion_matrix(y_test, y_classes)\n",
        "disp = ConfusionMatrixDisplay(confusion_matrix=cm,\n",
        "                              display_labels=['0', '1'])\n",
        "disp.plot()\n",
        "\n",
        "plt.show()"
      ],
      "metadata": {
        "colab": {
          "base_uri": "https://localhost:8080/",
          "height": 442
        },
        "id": "UgHHdx0qoryj",
        "outputId": "153ffbba-cf2b-4e92-ead5-d0eddef67434"
      },
      "execution_count": 92,
      "outputs": [
        {
          "output_type": "stream",
          "name": "stdout",
          "text": [
            "              precision    recall  f1-score   support\n",
            "\n",
            "           0       0.45      0.37      0.41     13932\n",
            "           1       0.85      0.89      0.87     56837\n",
            "\n",
            "    accuracy                           0.79     70769\n",
            "   macro avg       0.65      0.63      0.64     70769\n",
            "weighted avg       0.77      0.79      0.78     70769\n",
            "\n"
          ]
        },
        {
          "output_type": "display_data",
          "data": {
            "text/plain": [
              "<Figure size 432x288 with 2 Axes>"
            ],
            "image/png": "[encoded data removed]"
          },
          "metadata": {
            "needs_background": "light"
          }
        }
      ]
    }
  ],
  "metadata": {
    "colab": {
      "provenance": [],
      "include_colab_link": true
    },
    "gpuClass": "standard",
    "kernelspec": {
      "display_name": "Python 3",
      "name": "python3"
    },
    "language_info": {
      "name": "python"
    }
  },
  "nbformat": 4,
  "nbformat_minor": 0
}