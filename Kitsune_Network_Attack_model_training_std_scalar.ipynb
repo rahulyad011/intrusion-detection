{
  "cells": [
    {
      "cell_type": "markdown",
      "metadata": {
        "id": "view-in-github",
        "colab_type": "text"
      },
      "source": [
        "<a href=\"https://colab.research.google.com/github/rahulyad011/intrusion-detection/blob/main/Kitsune_Network_Attack_model_training_std_scalar.ipynb\" target=\"_parent\"><img src=\"https://colab.research.google.com/assets/colab-badge.svg\" alt=\"Open In Colab\"/></a>"
      ]
    },
    {
      "cell_type": "code",
      "execution_count": 1,
      "metadata": {
        "id": "qXQ8rUmdwaf4"
      },
      "outputs": [],
      "source": [
        "\n",
        "from sklearn.metrics import accuracy_score # for calculating accuracy of model\n",
        "from sklearn.model_selection import train_test_split # for splitting the dataset for training and testing\n",
        "from sklearn.metrics import classification_report # for generating a classification report of model\n",
        "import pickle # saving and loading trained model\n",
        "from os import path\n",
        "import numpy as np\n",
        "import pandas as pd\n",
        "import matplotlib.pyplot as plt\n",
        "\n",
        "# importing library for support vector machine classifier\n",
        "from sklearn.svm import SVC\n",
        "\n",
        "# MLP requirements \n",
        "from keras.layers import Dense # importing dense layer\n",
        "from keras.models import Sequential #importing Sequential layer\n",
        "from keras.models import model_from_json # saving and loading trained model\n",
        "\n",
        "# LSTM requirements \n",
        "from keras.layers import LSTM\n",
        "from keras.layers import Input\n",
        "from keras.models import Model\n",
        "\n",
        "# evaluation metrices\n",
        "from sklearn.metrics import classification_report, confusion_matrix\n",
        "from sklearn.metrics import roc_auc_score\n",
        "from sklearn.metrics import roc_curve, auc\n",
        "from sklearn.metrics import precision_score\n",
        "from sklearn.metrics import recall_score\n",
        "from sklearn.metrics import f1_score\n",
        "\n",
        "# representation of model layers\n",
        "from keras.utils.vis_utils import plot_model"
      ]
    },
    {
      "cell_type": "code",
      "source": [
        "from google.colab import drive\n",
        "drive.mount('/content/drive')"
      ],
      "metadata": {
        "colab": {
          "base_uri": "https://localhost:8080/"
        },
        "id": "DBCkPmpEjFSf",
        "outputId": "f1dd5696-da86-452b-9a6d-d1dcf149eeec"
      },
      "execution_count": 2,
      "outputs": [
        {
          "output_type": "stream",
          "name": "stdout",
          "text": [
            "Mounted at /content/drive\n"
          ]
        }
      ]
    },
    {
      "cell_type": "code",
      "execution_count": 3,
      "metadata": {
        "colab": {
          "base_uri": "https://localhost:8080/",
          "height": 505
        },
        "id": "Pepa9lW8whHh",
        "outputId": "811d2394-66e6-435d-bc1c-47e3d0ff10cb"
      },
      "outputs": [
        {
          "output_type": "execute_result",
          "data": {
            "text/plain": [
              "                X1           X2            X3            X4           X5  \\\n",
              "0        63.593001  1409.273115  2.877740e+04    101.582531  1407.914397   \n",
              "1        33.567444   744.413016  4.039852e+05     61.758196   735.835298   \n",
              "2        69.791455   739.279220  4.266278e+05    126.425891   738.767114   \n",
              "3       155.469819   724.428175  4.257932e+05    240.495003   726.937293   \n",
              "4        99.286193   733.178785  4.155803e+05    174.635337   730.839814   \n",
              "...            ...          ...           ...           ...          ...   \n",
              "99994  7359.674718   136.000000  5.093170e-11  12270.261123   136.000000   \n",
              "99995  7355.013260   136.000000  3.637979e-11  12265.412882   136.000000   \n",
              "99996  6528.089150   136.000000  1.818989e-11   8992.687314   136.000000   \n",
              "99997  7369.582520   136.000000  6.912160e-11  12287.328934   136.000000   \n",
              "99998  7360.571878   136.000000  6.548362e-11  12267.682639   136.000000   \n",
              "\n",
              "                 X6            X7           X8            X9            X10  \\\n",
              "0      3.257215e+04    282.890001  1404.229864  4.028884e+04    2705.734816   \n",
              "1      4.055287e+05    205.166986   726.203756  4.053561e+05    2131.564557   \n",
              "2      4.301293e+05    408.538742   736.226082  4.341408e+05    4238.143771   \n",
              "3      4.259872e+05    623.368782   728.209538  4.225050e+05    5546.056321   \n",
              "4      4.162693e+05    542.089746   725.367791  4.158204e+05    5459.958306   \n",
              "...             ...           ...          ...           ...            ...   \n",
              "99994  1.091394e-11  36474.563899   136.000000  1.418812e-10  137527.046516   \n",
              "99995  4.001777e-11  36474.413213   136.000000  1.091394e-10  137847.589699   \n",
              "99996  5.820766e-11  13159.085296   136.000000  1.091394e-10   15952.402740   \n",
              "99997  1.236913e-10  36848.957020   136.000000  2.546585e-11  190476.617565   \n",
              "99998  1.891749e-10  36805.546583   136.000000  1.709850e-10  228023.544075   \n",
              "\n",
              "       ...          X107          X108          X109         X110        X111  \\\n",
              "0      ... -1.786670e-11 -1.807032e-08  26923.369527  1401.300617  210.329481   \n",
              "1      ...  0.000000e+00  0.000000e+00   8314.185744  1450.000000    0.000094   \n",
              "2      ...  0.000000e+00  0.000000e+00  19190.900306  1450.000000    0.000193   \n",
              "3      ...  0.000000e+00  0.000000e+00  16068.857113   205.449306  261.593114   \n",
              "4      ...  0.000000e+00  0.000000e+00  16095.227971   202.608187  254.298249   \n",
              "...    ...           ...           ...           ...          ...         ...   \n",
              "99994  ...  0.000000e+00  0.000000e+00      5.857770   136.000000    0.000000   \n",
              "99995  ...  0.000000e+00  0.000000e+00      2.976221   136.000000    0.000000   \n",
              "99996  ...  0.000000e+00  0.000000e+00      1.998383   136.000000    0.000002   \n",
              "99997  ...  0.000000e+00  0.000000e+00      5.851634   136.000000    0.000003   \n",
              "99998  ...  0.000000e+00  0.000000e+00      6.692805   136.000000    0.000002   \n",
              "\n",
              "              X112          X113          X114          X115  label  \n",
              "0      1402.584550  4.423849e+04 -3.707493e-11 -3.557117e-08    0.0  \n",
              "1      1450.000000  8.847564e-09  0.000000e+00  0.000000e+00    0.0  \n",
              "2      1450.000000  3.725290e-08  0.000000e+00  0.000000e+00    0.0  \n",
              "3       205.449306  6.843096e+04  0.000000e+00  0.000000e+00    0.0  \n",
              "4       202.608187  6.466760e+04  0.000000e+00  0.000000e+00    0.0  \n",
              "...            ...           ...           ...           ...    ...  \n",
              "99994   136.000000  0.000000e+00  0.000000e+00  0.000000e+00    1.0  \n",
              "99995   136.000000  0.000000e+00  0.000000e+00  0.000000e+00    1.0  \n",
              "99996   136.000000  3.637979e-12  0.000000e+00  0.000000e+00    1.0  \n",
              "99997   136.000000  1.091394e-11  0.000000e+00  0.000000e+00    1.0  \n",
              "99998   136.000000  3.637979e-12  0.000000e+00  0.000000e+00    1.0  \n",
              "\n",
              "[99999 rows x 116 columns]"
            ],
            "text/html": [
              "\n",
              "  <div id=\"df-3ee51229-91c5-4679-9236-6706b8e6c2f0\">\n",
              "    <div class=\"colab-df-container\">\n",
              "      <div>\n",
              "<style scoped>\n",
              "    .dataframe tbody tr th:only-of-type {\n",
              "        vertical-align: middle;\n",
              "    }\n",
              "\n",
              "    .dataframe tbody tr th {\n",
              "        vertical-align: top;\n",
              "    }\n",
              "\n",
              "    .dataframe thead th {\n",
              "        text-align: right;\n",
              "    }\n",
              "</style>\n",
              "<table border=\"1\" class=\"dataframe\">\n",
              "  <thead>\n",
              "    <tr style=\"text-align: right;\">\n",
              "      <th></th>\n",
              "      <th>X1</th>\n",
              "      <th>X2</th>\n",
              "      <th>X3</th>\n",
              "      <th>X4</th>\n",
              "      <th>X5</th>\n",
              "      <th>X6</th>\n",
              "      <th>X7</th>\n",
              "      <th>X8</th>\n",
              "      <th>X9</th>\n",
              "      <th>X10</th>\n",
              "      <th>...</th>\n",
              "      <th>X107</th>\n",
              "      <th>X108</th>\n",
              "      <th>X109</th>\n",
              "      <th>X110</th>\n",
              "      <th>X111</th>\n",
              "      <th>X112</th>\n",
              "      <th>X113</th>\n",
              "      <th>X114</th>\n",
              "      <th>X115</th>\n",
              "      <th>label</th>\n",
              "    </tr>\n",
              "  </thead>\n",
              "  <tbody>\n",
              "    <tr>\n",
              "      <th>0</th>\n",
              "      <td>63.593001</td>\n",
              "      <td>1409.273115</td>\n",
              "      <td>2.877740e+04</td>\n",
              "      <td>101.582531</td>\n",
              "      <td>1407.914397</td>\n",
              "      <td>3.257215e+04</td>\n",
              "      <td>282.890001</td>\n",
              "      <td>1404.229864</td>\n",
              "      <td>4.028884e+04</td>\n",
              "      <td>2705.734816</td>\n",
              "      <td>...</td>\n",
              "      <td>-1.786670e-11</td>\n",
              "      <td>-1.807032e-08</td>\n",
              "      <td>26923.369527</td>\n",
              "      <td>1401.300617</td>\n",
              "      <td>210.329481</td>\n",
              "      <td>1402.584550</td>\n",
              "      <td>4.423849e+04</td>\n",
              "      <td>-3.707493e-11</td>\n",
              "      <td>-3.557117e-08</td>\n",
              "      <td>0.0</td>\n",
              "    </tr>\n",
              "    <tr>\n",
              "      <th>1</th>\n",
              "      <td>33.567444</td>\n",
              "      <td>744.413016</td>\n",
              "      <td>4.039852e+05</td>\n",
              "      <td>61.758196</td>\n",
              "      <td>735.835298</td>\n",
              "      <td>4.055287e+05</td>\n",
              "      <td>205.166986</td>\n",
              "      <td>726.203756</td>\n",
              "      <td>4.053561e+05</td>\n",
              "      <td>2131.564557</td>\n",
              "      <td>...</td>\n",
              "      <td>0.000000e+00</td>\n",
              "      <td>0.000000e+00</td>\n",
              "      <td>8314.185744</td>\n",
              "      <td>1450.000000</td>\n",
              "      <td>0.000094</td>\n",
              "      <td>1450.000000</td>\n",
              "      <td>8.847564e-09</td>\n",
              "      <td>0.000000e+00</td>\n",
              "      <td>0.000000e+00</td>\n",
              "      <td>0.0</td>\n",
              "    </tr>\n",
              "    <tr>\n",
              "      <th>2</th>\n",
              "      <td>69.791455</td>\n",
              "      <td>739.279220</td>\n",
              "      <td>4.266278e+05</td>\n",
              "      <td>126.425891</td>\n",
              "      <td>738.767114</td>\n",
              "      <td>4.301293e+05</td>\n",
              "      <td>408.538742</td>\n",
              "      <td>736.226082</td>\n",
              "      <td>4.341408e+05</td>\n",
              "      <td>4238.143771</td>\n",
              "      <td>...</td>\n",
              "      <td>0.000000e+00</td>\n",
              "      <td>0.000000e+00</td>\n",
              "      <td>19190.900306</td>\n",
              "      <td>1450.000000</td>\n",
              "      <td>0.000193</td>\n",
              "      <td>1450.000000</td>\n",
              "      <td>3.725290e-08</td>\n",
              "      <td>0.000000e+00</td>\n",
              "      <td>0.000000e+00</td>\n",
              "      <td>0.0</td>\n",
              "    </tr>\n",
              "    <tr>\n",
              "      <th>3</th>\n",
              "      <td>155.469819</td>\n",
              "      <td>724.428175</td>\n",
              "      <td>4.257932e+05</td>\n",
              "      <td>240.495003</td>\n",
              "      <td>726.937293</td>\n",
              "      <td>4.259872e+05</td>\n",
              "      <td>623.368782</td>\n",
              "      <td>728.209538</td>\n",
              "      <td>4.225050e+05</td>\n",
              "      <td>5546.056321</td>\n",
              "      <td>...</td>\n",
              "      <td>0.000000e+00</td>\n",
              "      <td>0.000000e+00</td>\n",
              "      <td>16068.857113</td>\n",
              "      <td>205.449306</td>\n",
              "      <td>261.593114</td>\n",
              "      <td>205.449306</td>\n",
              "      <td>6.843096e+04</td>\n",
              "      <td>0.000000e+00</td>\n",
              "      <td>0.000000e+00</td>\n",
              "      <td>0.0</td>\n",
              "    </tr>\n",
              "    <tr>\n",
              "      <th>4</th>\n",
              "      <td>99.286193</td>\n",
              "      <td>733.178785</td>\n",
              "      <td>4.155803e+05</td>\n",
              "      <td>174.635337</td>\n",
              "      <td>730.839814</td>\n",
              "      <td>4.162693e+05</td>\n",
              "      <td>542.089746</td>\n",
              "      <td>725.367791</td>\n",
              "      <td>4.158204e+05</td>\n",
              "      <td>5459.958306</td>\n",
              "      <td>...</td>\n",
              "      <td>0.000000e+00</td>\n",
              "      <td>0.000000e+00</td>\n",
              "      <td>16095.227971</td>\n",
              "      <td>202.608187</td>\n",
              "      <td>254.298249</td>\n",
              "      <td>202.608187</td>\n",
              "      <td>6.466760e+04</td>\n",
              "      <td>0.000000e+00</td>\n",
              "      <td>0.000000e+00</td>\n",
              "      <td>0.0</td>\n",
              "    </tr>\n",
              "    <tr>\n",
              "      <th>...</th>\n",
              "      <td>...</td>\n",
              "      <td>...</td>\n",
              "      <td>...</td>\n",
              "      <td>...</td>\n",
              "      <td>...</td>\n",
              "      <td>...</td>\n",
              "      <td>...</td>\n",
              "      <td>...</td>\n",
              "      <td>...</td>\n",
              "      <td>...</td>\n",
              "      <td>...</td>\n",
              "      <td>...</td>\n",
              "      <td>...</td>\n",
              "      <td>...</td>\n",
              "      <td>...</td>\n",
              "      <td>...</td>\n",
              "      <td>...</td>\n",
              "      <td>...</td>\n",
              "      <td>...</td>\n",
              "      <td>...</td>\n",
              "      <td>...</td>\n",
              "    </tr>\n",
              "    <tr>\n",
              "      <th>99994</th>\n",
              "      <td>7359.674718</td>\n",
              "      <td>136.000000</td>\n",
              "      <td>5.093170e-11</td>\n",
              "      <td>12270.261123</td>\n",
              "      <td>136.000000</td>\n",
              "      <td>1.091394e-11</td>\n",
              "      <td>36474.563899</td>\n",
              "      <td>136.000000</td>\n",
              "      <td>1.418812e-10</td>\n",
              "      <td>137527.046516</td>\n",
              "      <td>...</td>\n",
              "      <td>0.000000e+00</td>\n",
              "      <td>0.000000e+00</td>\n",
              "      <td>5.857770</td>\n",
              "      <td>136.000000</td>\n",
              "      <td>0.000000</td>\n",
              "      <td>136.000000</td>\n",
              "      <td>0.000000e+00</td>\n",
              "      <td>0.000000e+00</td>\n",
              "      <td>0.000000e+00</td>\n",
              "      <td>1.0</td>\n",
              "    </tr>\n",
              "    <tr>\n",
              "      <th>99995</th>\n",
              "      <td>7355.013260</td>\n",
              "      <td>136.000000</td>\n",
              "      <td>3.637979e-11</td>\n",
              "      <td>12265.412882</td>\n",
              "      <td>136.000000</td>\n",
              "      <td>4.001777e-11</td>\n",
              "      <td>36474.413213</td>\n",
              "      <td>136.000000</td>\n",
              "      <td>1.091394e-10</td>\n",
              "      <td>137847.589699</td>\n",
              "      <td>...</td>\n",
              "      <td>0.000000e+00</td>\n",
              "      <td>0.000000e+00</td>\n",
              "      <td>2.976221</td>\n",
              "      <td>136.000000</td>\n",
              "      <td>0.000000</td>\n",
              "      <td>136.000000</td>\n",
              "      <td>0.000000e+00</td>\n",
              "      <td>0.000000e+00</td>\n",
              "      <td>0.000000e+00</td>\n",
              "      <td>1.0</td>\n",
              "    </tr>\n",
              "    <tr>\n",
              "      <th>99996</th>\n",
              "      <td>6528.089150</td>\n",
              "      <td>136.000000</td>\n",
              "      <td>1.818989e-11</td>\n",
              "      <td>8992.687314</td>\n",
              "      <td>136.000000</td>\n",
              "      <td>5.820766e-11</td>\n",
              "      <td>13159.085296</td>\n",
              "      <td>136.000000</td>\n",
              "      <td>1.091394e-10</td>\n",
              "      <td>15952.402740</td>\n",
              "      <td>...</td>\n",
              "      <td>0.000000e+00</td>\n",
              "      <td>0.000000e+00</td>\n",
              "      <td>1.998383</td>\n",
              "      <td>136.000000</td>\n",
              "      <td>0.000002</td>\n",
              "      <td>136.000000</td>\n",
              "      <td>3.637979e-12</td>\n",
              "      <td>0.000000e+00</td>\n",
              "      <td>0.000000e+00</td>\n",
              "      <td>1.0</td>\n",
              "    </tr>\n",
              "    <tr>\n",
              "      <th>99997</th>\n",
              "      <td>7369.582520</td>\n",
              "      <td>136.000000</td>\n",
              "      <td>6.912160e-11</td>\n",
              "      <td>12287.328934</td>\n",
              "      <td>136.000000</td>\n",
              "      <td>1.236913e-10</td>\n",
              "      <td>36848.957020</td>\n",
              "      <td>136.000000</td>\n",
              "      <td>2.546585e-11</td>\n",
              "      <td>190476.617565</td>\n",
              "      <td>...</td>\n",
              "      <td>0.000000e+00</td>\n",
              "      <td>0.000000e+00</td>\n",
              "      <td>5.851634</td>\n",
              "      <td>136.000000</td>\n",
              "      <td>0.000003</td>\n",
              "      <td>136.000000</td>\n",
              "      <td>1.091394e-11</td>\n",
              "      <td>0.000000e+00</td>\n",
              "      <td>0.000000e+00</td>\n",
              "      <td>1.0</td>\n",
              "    </tr>\n",
              "    <tr>\n",
              "      <th>99998</th>\n",
              "      <td>7360.571878</td>\n",
              "      <td>136.000000</td>\n",
              "      <td>6.548362e-11</td>\n",
              "      <td>12267.682639</td>\n",
              "      <td>136.000000</td>\n",
              "      <td>1.891749e-10</td>\n",
              "      <td>36805.546583</td>\n",
              "      <td>136.000000</td>\n",
              "      <td>1.709850e-10</td>\n",
              "      <td>228023.544075</td>\n",
              "      <td>...</td>\n",
              "      <td>0.000000e+00</td>\n",
              "      <td>0.000000e+00</td>\n",
              "      <td>6.692805</td>\n",
              "      <td>136.000000</td>\n",
              "      <td>0.000002</td>\n",
              "      <td>136.000000</td>\n",
              "      <td>3.637979e-12</td>\n",
              "      <td>0.000000e+00</td>\n",
              "      <td>0.000000e+00</td>\n",
              "      <td>1.0</td>\n",
              "    </tr>\n",
              "  </tbody>\n",
              "</table>\n",
              "<p>99999 rows × 116 columns</p>\n",
              "</div>\n",
              "      <button class=\"colab-df-convert\" onclick=\"convertToInteractive('df-3ee51229-91c5-4679-9236-6706b8e6c2f0')\"\n",
              "              title=\"Convert this dataframe to an interactive table.\"\n",
              "              style=\"display:none;\">\n",
              "        \n",
              "  <svg xmlns=\"http://www.w3.org/2000/svg\" height=\"24px\"viewBox=\"0 0 24 24\"\n",
              "       width=\"24px\">\n",
              "    <path d=\"M0 0h24v24H0V0z\" fill=\"none\"/>\n",
              "    <path d=\"M18.56 5.44l.94 2.06.94-2.06 2.06-.94-2.06-.94-.94-2.06-.94 2.06-2.06.94zm-11 1L8.5 8.5l.94-2.06 2.06-.94-2.06-.94L8.5 2.5l-.94 2.06-2.06.94zm10 10l.94 2.06.94-2.06 2.06-.94-2.06-.94-.94-2.06-.94 2.06-2.06.94z\"/><path d=\"M17.41 7.96l-1.37-1.37c-.4-.4-.92-.59-1.43-.59-.52 0-1.04.2-1.43.59L10.3 9.45l-7.72 7.72c-.78.78-.78 2.05 0 2.83L4 21.41c.39.39.9.59 1.41.59.51 0 1.02-.2 1.41-.59l7.78-7.78 2.81-2.81c.8-.78.8-2.07 0-2.86zM5.41 20L4 18.59l7.72-7.72 1.47 1.35L5.41 20z\"/>\n",
              "  </svg>\n",
              "      </button>\n",
              "      \n",
              "  <style>\n",
              "    .colab-df-container {\n",
              "      display:flex;\n",
              "      flex-wrap:wrap;\n",
              "      gap: 12px;\n",
              "    }\n",
              "\n",
              "    .colab-df-convert {\n",
              "      background-color: #E8F0FE;\n",
              "      border: none;\n",
              "      border-radius: 50%;\n",
              "      cursor: pointer;\n",
              "      display: none;\n",
              "      fill: #1967D2;\n",
              "      height: 32px;\n",
              "      padding: 0 0 0 0;\n",
              "      width: 32px;\n",
              "    }\n",
              "\n",
              "    .colab-df-convert:hover {\n",
              "      background-color: #E2EBFA;\n",
              "      box-shadow: 0px 1px 2px rgba(60, 64, 67, 0.3), 0px 1px 3px 1px rgba(60, 64, 67, 0.15);\n",
              "      fill: #174EA6;\n",
              "    }\n",
              "\n",
              "    [theme=dark] .colab-df-convert {\n",
              "      background-color: #3B4455;\n",
              "      fill: #D2E3FC;\n",
              "    }\n",
              "\n",
              "    [theme=dark] .colab-df-convert:hover {\n",
              "      background-color: #434B5C;\n",
              "      box-shadow: 0px 1px 3px 1px rgba(0, 0, 0, 0.15);\n",
              "      filter: drop-shadow(0px 1px 2px rgba(0, 0, 0, 0.3));\n",
              "      fill: #FFFFFF;\n",
              "    }\n",
              "  </style>\n",
              "\n",
              "      <script>\n",
              "        const buttonEl =\n",
              "          document.querySelector('#df-3ee51229-91c5-4679-9236-6706b8e6c2f0 button.colab-df-convert');\n",
              "        buttonEl.style.display =\n",
              "          google.colab.kernel.accessAllowed ? 'block' : 'none';\n",
              "\n",
              "        async function convertToInteractive(key) {\n",
              "          const element = document.querySelector('#df-3ee51229-91c5-4679-9236-6706b8e6c2f0');\n",
              "          const dataTable =\n",
              "            await google.colab.kernel.invokeFunction('convertToInteractive',\n",
              "                                                     [key], {});\n",
              "          if (!dataTable) return;\n",
              "\n",
              "          const docLinkHtml = 'Like what you see? Visit the ' +\n",
              "            '<a target=\"_blank\" href=https://colab.research.google.com/notebooks/data_table.ipynb>data table notebook</a>'\n",
              "            + ' to learn more about interactive tables.';\n",
              "          element.innerHTML = '';\n",
              "          dataTable['output_type'] = 'display_data';\n",
              "          await google.colab.output.renderOutput(dataTable, element);\n",
              "          const docLink = document.createElement('div');\n",
              "          docLink.innerHTML = docLinkHtml;\n",
              "          element.appendChild(docLink);\n",
              "        }\n",
              "      </script>\n",
              "    </div>\n",
              "  </div>\n",
              "  "
            ]
          },
          "metadata": {},
          "execution_count": 3
        }
      ],
      "source": [
        "bin_data_total = data = pd.read_csv(\"/content/drive/MyDrive/Colab_Notebooks/Datasets/kitsume_network_attack_dataset/kitsume_network_attack_binary_data_1M.csv\")\n",
        "bin_data_total.drop(bin_data_total.columns[0],axis=1,inplace=True)\n",
        "bin_data_total"
      ]
    },
    {
      "cell_type": "code",
      "execution_count": 4,
      "metadata": {
        "colab": {
          "base_uri": "https://localhost:8080/"
        },
        "id": "xHCs0B3sKOa_",
        "outputId": "7f57149a-03b2-446c-a63f-531ef0950cb3"
      },
      "outputs": [
        {
          "output_type": "execute_result",
          "data": {
            "text/plain": [
              "0.0    0.626296\n",
              "1.0    0.373704\n",
              "Name: label, dtype: float64"
            ]
          },
          "metadata": {},
          "execution_count": 4
        }
      ],
      "source": [
        "# distribution of label class before sampling\n",
        "data_size = bin_data_total.shape[0]\n",
        "# data_size\n",
        "bin_data_total.label.value_counts()/data_size"
      ]
    },
    {
      "cell_type": "code",
      "source": [
        "# numeric feature normalization\n",
        "from sklearn.preprocessing import MinMaxScaler\n",
        "from sklearn.preprocessing import StandardScaler\n",
        "\n",
        "numeric_cols = bin_data_total.select_dtypes(['number']).columns\n",
        "numeric_cols = numeric_cols.drop('label')\n",
        "flag = 1\n",
        "scaler = None\n",
        "if flag:\n",
        "  # using standard scaler for normalizing\n",
        "  scaler = StandardScaler()\n",
        "else:\n",
        "  # using minmax scaler for normalizing\n",
        "  # to avoid negative values after scaling\n",
        "  scaler = MinMaxScaler()\n",
        "\n",
        "def normalization_train(df,col):\n",
        "  for i in col:\n",
        "    arr = df[i]\n",
        "    arr = np.array(arr)\n",
        "    df[i] = scaler.fit_transform(arr.reshape(len(arr),1))\n",
        "  return df\n",
        "\n",
        "def normalization_test(df,col):\n",
        "  for i in col:\n",
        "    arr = df[i]\n",
        "    arr = np.array(arr)\n",
        "    df[i] = scaler.transform(arr.reshape(len(arr),1))\n",
        "  return df\n",
        "\n",
        "# numeric_cols"
      ],
      "metadata": {
        "id": "QAUrPvEIYHoH"
      },
      "execution_count": 5,
      "outputs": []
    },
    {
      "cell_type": "code",
      "execution_count": 6,
      "metadata": {
        "colab": {
          "base_uri": "https://localhost:8080/",
          "height": 505
        },
        "id": "XSTP2AcKJgTF",
        "outputId": "27a6bb81-e383-43bf-f63a-551d3470d307"
      },
      "outputs": [
        {
          "output_type": "execute_result",
          "data": {
            "text/plain": [
              "                X1           X2            X3            X4           X5  \\\n",
              "0        63.593001  1409.273115  2.877740e+04    101.582531  1407.914397   \n",
              "1        33.567444   744.413016  4.039852e+05     61.758196   735.835298   \n",
              "2        69.791455   739.279220  4.266278e+05    126.425891   738.767114   \n",
              "3       155.469819   724.428175  4.257932e+05    240.495003   726.937293   \n",
              "4        99.286193   733.178785  4.155803e+05    174.635337   730.839814   \n",
              "...            ...          ...           ...           ...          ...   \n",
              "99994  7359.674718   136.000000  5.093170e-11  12270.261123   136.000000   \n",
              "99995  7355.013260   136.000000  3.637979e-11  12265.412882   136.000000   \n",
              "99996  6528.089150   136.000000  1.818989e-11   8992.687314   136.000000   \n",
              "99997  7369.582520   136.000000  6.912160e-11  12287.328934   136.000000   \n",
              "99998  7360.571878   136.000000  6.548362e-11  12267.682639   136.000000   \n",
              "\n",
              "                 X6            X7           X8            X9            X10  \\\n",
              "0      3.257215e+04    282.890001  1404.229864  4.028884e+04    2705.734816   \n",
              "1      4.055287e+05    205.166986   726.203756  4.053561e+05    2131.564557   \n",
              "2      4.301293e+05    408.538742   736.226082  4.341408e+05    4238.143771   \n",
              "3      4.259872e+05    623.368782   728.209538  4.225050e+05    5546.056321   \n",
              "4      4.162693e+05    542.089746   725.367791  4.158204e+05    5459.958306   \n",
              "...             ...           ...          ...           ...            ...   \n",
              "99994  1.091394e-11  36474.563899   136.000000  1.418812e-10  137527.046516   \n",
              "99995  4.001777e-11  36474.413213   136.000000  1.091394e-10  137847.589699   \n",
              "99996  5.820766e-11  13159.085296   136.000000  1.091394e-10   15952.402740   \n",
              "99997  1.236913e-10  36848.957020   136.000000  2.546585e-11  190476.617565   \n",
              "99998  1.891749e-10  36805.546583   136.000000  1.709850e-10  228023.544075   \n",
              "\n",
              "       ...          X107          X108          X109         X110        X111  \\\n",
              "0      ... -1.786670e-11 -1.807032e-08  26923.369527  1401.300617  210.329481   \n",
              "1      ...  0.000000e+00  0.000000e+00   8314.185744  1450.000000    0.000094   \n",
              "2      ...  0.000000e+00  0.000000e+00  19190.900306  1450.000000    0.000193   \n",
              "3      ...  0.000000e+00  0.000000e+00  16068.857113   205.449306  261.593114   \n",
              "4      ...  0.000000e+00  0.000000e+00  16095.227971   202.608187  254.298249   \n",
              "...    ...           ...           ...           ...          ...         ...   \n",
              "99994  ...  0.000000e+00  0.000000e+00      5.857770   136.000000    0.000000   \n",
              "99995  ...  0.000000e+00  0.000000e+00      2.976221   136.000000    0.000000   \n",
              "99996  ...  0.000000e+00  0.000000e+00      1.998383   136.000000    0.000002   \n",
              "99997  ...  0.000000e+00  0.000000e+00      5.851634   136.000000    0.000003   \n",
              "99998  ...  0.000000e+00  0.000000e+00      6.692805   136.000000    0.000002   \n",
              "\n",
              "              X112          X113          X114          X115  label  \n",
              "0      1402.584550  4.423849e+04 -3.707493e-11 -3.557117e-08    0.0  \n",
              "1      1450.000000  8.847564e-09  0.000000e+00  0.000000e+00    0.0  \n",
              "2      1450.000000  3.725290e-08  0.000000e+00  0.000000e+00    0.0  \n",
              "3       205.449306  6.843096e+04  0.000000e+00  0.000000e+00    0.0  \n",
              "4       202.608187  6.466760e+04  0.000000e+00  0.000000e+00    0.0  \n",
              "...            ...           ...           ...           ...    ...  \n",
              "99994   136.000000  0.000000e+00  0.000000e+00  0.000000e+00    1.0  \n",
              "99995   136.000000  0.000000e+00  0.000000e+00  0.000000e+00    1.0  \n",
              "99996   136.000000  3.637979e-12  0.000000e+00  0.000000e+00    1.0  \n",
              "99997   136.000000  1.091394e-11  0.000000e+00  0.000000e+00    1.0  \n",
              "99998   136.000000  3.637979e-12  0.000000e+00  0.000000e+00    1.0  \n",
              "\n",
              "[99999 rows x 116 columns]"
            ],
            "text/html": [
              "\n",
              "  <div id=\"df-1de1d4d8-001e-441a-a9ad-b11f8a52ce0e\">\n",
              "    <div class=\"colab-df-container\">\n",
              "      <div>\n",
              "<style scoped>\n",
              "    .dataframe tbody tr th:only-of-type {\n",
              "        vertical-align: middle;\n",
              "    }\n",
              "\n",
              "    .dataframe tbody tr th {\n",
              "        vertical-align: top;\n",
              "    }\n",
              "\n",
              "    .dataframe thead th {\n",
              "        text-align: right;\n",
              "    }\n",
              "</style>\n",
              "<table border=\"1\" class=\"dataframe\">\n",
              "  <thead>\n",
              "    <tr style=\"text-align: right;\">\n",
              "      <th></th>\n",
              "      <th>X1</th>\n",
              "      <th>X2</th>\n",
              "      <th>X3</th>\n",
              "      <th>X4</th>\n",
              "      <th>X5</th>\n",
              "      <th>X6</th>\n",
              "      <th>X7</th>\n",
              "      <th>X8</th>\n",
              "      <th>X9</th>\n",
              "      <th>X10</th>\n",
              "      <th>...</th>\n",
              "      <th>X107</th>\n",
              "      <th>X108</th>\n",
              "      <th>X109</th>\n",
              "      <th>X110</th>\n",
              "      <th>X111</th>\n",
              "      <th>X112</th>\n",
              "      <th>X113</th>\n",
              "      <th>X114</th>\n",
              "      <th>X115</th>\n",
              "      <th>label</th>\n",
              "    </tr>\n",
              "  </thead>\n",
              "  <tbody>\n",
              "    <tr>\n",
              "      <th>0</th>\n",
              "      <td>63.593001</td>\n",
              "      <td>1409.273115</td>\n",
              "      <td>2.877740e+04</td>\n",
              "      <td>101.582531</td>\n",
              "      <td>1407.914397</td>\n",
              "      <td>3.257215e+04</td>\n",
              "      <td>282.890001</td>\n",
              "      <td>1404.229864</td>\n",
              "      <td>4.028884e+04</td>\n",
              "      <td>2705.734816</td>\n",
              "      <td>...</td>\n",
              "      <td>-1.786670e-11</td>\n",
              "      <td>-1.807032e-08</td>\n",
              "      <td>26923.369527</td>\n",
              "      <td>1401.300617</td>\n",
              "      <td>210.329481</td>\n",
              "      <td>1402.584550</td>\n",
              "      <td>4.423849e+04</td>\n",
              "      <td>-3.707493e-11</td>\n",
              "      <td>-3.557117e-08</td>\n",
              "      <td>0.0</td>\n",
              "    </tr>\n",
              "    <tr>\n",
              "      <th>1</th>\n",
              "      <td>33.567444</td>\n",
              "      <td>744.413016</td>\n",
              "      <td>4.039852e+05</td>\n",
              "      <td>61.758196</td>\n",
              "      <td>735.835298</td>\n",
              "      <td>4.055287e+05</td>\n",
              "      <td>205.166986</td>\n",
              "      <td>726.203756</td>\n",
              "      <td>4.053561e+05</td>\n",
              "      <td>2131.564557</td>\n",
              "      <td>...</td>\n",
              "      <td>0.000000e+00</td>\n",
              "      <td>0.000000e+00</td>\n",
              "      <td>8314.185744</td>\n",
              "      <td>1450.000000</td>\n",
              "      <td>0.000094</td>\n",
              "      <td>1450.000000</td>\n",
              "      <td>8.847564e-09</td>\n",
              "      <td>0.000000e+00</td>\n",
              "      <td>0.000000e+00</td>\n",
              "      <td>0.0</td>\n",
              "    </tr>\n",
              "    <tr>\n",
              "      <th>2</th>\n",
              "      <td>69.791455</td>\n",
              "      <td>739.279220</td>\n",
              "      <td>4.266278e+05</td>\n",
              "      <td>126.425891</td>\n",
              "      <td>738.767114</td>\n",
              "      <td>4.301293e+05</td>\n",
              "      <td>408.538742</td>\n",
              "      <td>736.226082</td>\n",
              "      <td>4.341408e+05</td>\n",
              "      <td>4238.143771</td>\n",
              "      <td>...</td>\n",
              "      <td>0.000000e+00</td>\n",
              "      <td>0.000000e+00</td>\n",
              "      <td>19190.900306</td>\n",
              "      <td>1450.000000</td>\n",
              "      <td>0.000193</td>\n",
              "      <td>1450.000000</td>\n",
              "      <td>3.725290e-08</td>\n",
              "      <td>0.000000e+00</td>\n",
              "      <td>0.000000e+00</td>\n",
              "      <td>0.0</td>\n",
              "    </tr>\n",
              "    <tr>\n",
              "      <th>3</th>\n",
              "      <td>155.469819</td>\n",
              "      <td>724.428175</td>\n",
              "      <td>4.257932e+05</td>\n",
              "      <td>240.495003</td>\n",
              "      <td>726.937293</td>\n",
              "      <td>4.259872e+05</td>\n",
              "      <td>623.368782</td>\n",
              "      <td>728.209538</td>\n",
              "      <td>4.225050e+05</td>\n",
              "      <td>5546.056321</td>\n",
              "      <td>...</td>\n",
              "      <td>0.000000e+00</td>\n",
              "      <td>0.000000e+00</td>\n",
              "      <td>16068.857113</td>\n",
              "      <td>205.449306</td>\n",
              "      <td>261.593114</td>\n",
              "      <td>205.449306</td>\n",
              "      <td>6.843096e+04</td>\n",
              "      <td>0.000000e+00</td>\n",
              "      <td>0.000000e+00</td>\n",
              "      <td>0.0</td>\n",
              "    </tr>\n",
              "    <tr>\n",
              "      <th>4</th>\n",
              "      <td>99.286193</td>\n",
              "      <td>733.178785</td>\n",
              "      <td>4.155803e+05</td>\n",
              "      <td>174.635337</td>\n",
              "      <td>730.839814</td>\n",
              "      <td>4.162693e+05</td>\n",
              "      <td>542.089746</td>\n",
              "      <td>725.367791</td>\n",
              "      <td>4.158204e+05</td>\n",
              "      <td>5459.958306</td>\n",
              "      <td>...</td>\n",
              "      <td>0.000000e+00</td>\n",
              "      <td>0.000000e+00</td>\n",
              "      <td>16095.227971</td>\n",
              "      <td>202.608187</td>\n",
              "      <td>254.298249</td>\n",
              "      <td>202.608187</td>\n",
              "      <td>6.466760e+04</td>\n",
              "      <td>0.000000e+00</td>\n",
              "      <td>0.000000e+00</td>\n",
              "      <td>0.0</td>\n",
              "    </tr>\n",
              "    <tr>\n",
              "      <th>...</th>\n",
              "      <td>...</td>\n",
              "      <td>...</td>\n",
              "      <td>...</td>\n",
              "      <td>...</td>\n",
              "      <td>...</td>\n",
              "      <td>...</td>\n",
              "      <td>...</td>\n",
              "      <td>...</td>\n",
              "      <td>...</td>\n",
              "      <td>...</td>\n",
              "      <td>...</td>\n",
              "      <td>...</td>\n",
              "      <td>...</td>\n",
              "      <td>...</td>\n",
              "      <td>...</td>\n",
              "      <td>...</td>\n",
              "      <td>...</td>\n",
              "      <td>...</td>\n",
              "      <td>...</td>\n",
              "      <td>...</td>\n",
              "      <td>...</td>\n",
              "    </tr>\n",
              "    <tr>\n",
              "      <th>99994</th>\n",
              "      <td>7359.674718</td>\n",
              "      <td>136.000000</td>\n",
              "      <td>5.093170e-11</td>\n",
              "      <td>12270.261123</td>\n",
              "      <td>136.000000</td>\n",
              "      <td>1.091394e-11</td>\n",
              "      <td>36474.563899</td>\n",
              "      <td>136.000000</td>\n",
              "      <td>1.418812e-10</td>\n",
              "      <td>137527.046516</td>\n",
              "      <td>...</td>\n",
              "      <td>0.000000e+00</td>\n",
              "      <td>0.000000e+00</td>\n",
              "      <td>5.857770</td>\n",
              "      <td>136.000000</td>\n",
              "      <td>0.000000</td>\n",
              "      <td>136.000000</td>\n",
              "      <td>0.000000e+00</td>\n",
              "      <td>0.000000e+00</td>\n",
              "      <td>0.000000e+00</td>\n",
              "      <td>1.0</td>\n",
              "    </tr>\n",
              "    <tr>\n",
              "      <th>99995</th>\n",
              "      <td>7355.013260</td>\n",
              "      <td>136.000000</td>\n",
              "      <td>3.637979e-11</td>\n",
              "      <td>12265.412882</td>\n",
              "      <td>136.000000</td>\n",
              "      <td>4.001777e-11</td>\n",
              "      <td>36474.413213</td>\n",
              "      <td>136.000000</td>\n",
              "      <td>1.091394e-10</td>\n",
              "      <td>137847.589699</td>\n",
              "      <td>...</td>\n",
              "      <td>0.000000e+00</td>\n",
              "      <td>0.000000e+00</td>\n",
              "      <td>2.976221</td>\n",
              "      <td>136.000000</td>\n",
              "      <td>0.000000</td>\n",
              "      <td>136.000000</td>\n",
              "      <td>0.000000e+00</td>\n",
              "      <td>0.000000e+00</td>\n",
              "      <td>0.000000e+00</td>\n",
              "      <td>1.0</td>\n",
              "    </tr>\n",
              "    <tr>\n",
              "      <th>99996</th>\n",
              "      <td>6528.089150</td>\n",
              "      <td>136.000000</td>\n",
              "      <td>1.818989e-11</td>\n",
              "      <td>8992.687314</td>\n",
              "      <td>136.000000</td>\n",
              "      <td>5.820766e-11</td>\n",
              "      <td>13159.085296</td>\n",
              "      <td>136.000000</td>\n",
              "      <td>1.091394e-10</td>\n",
              "      <td>15952.402740</td>\n",
              "      <td>...</td>\n",
              "      <td>0.000000e+00</td>\n",
              "      <td>0.000000e+00</td>\n",
              "      <td>1.998383</td>\n",
              "      <td>136.000000</td>\n",
              "      <td>0.000002</td>\n",
              "      <td>136.000000</td>\n",
              "      <td>3.637979e-12</td>\n",
              "      <td>0.000000e+00</td>\n",
              "      <td>0.000000e+00</td>\n",
              "      <td>1.0</td>\n",
              "    </tr>\n",
              "    <tr>\n",
              "      <th>99997</th>\n",
              "      <td>7369.582520</td>\n",
              "      <td>136.000000</td>\n",
              "      <td>6.912160e-11</td>\n",
              "      <td>12287.328934</td>\n",
              "      <td>136.000000</td>\n",
              "      <td>1.236913e-10</td>\n",
              "      <td>36848.957020</td>\n",
              "      <td>136.000000</td>\n",
              "      <td>2.546585e-11</td>\n",
              "      <td>190476.617565</td>\n",
              "      <td>...</td>\n",
              "      <td>0.000000e+00</td>\n",
              "      <td>0.000000e+00</td>\n",
              "      <td>5.851634</td>\n",
              "      <td>136.000000</td>\n",
              "      <td>0.000003</td>\n",
              "      <td>136.000000</td>\n",
              "      <td>1.091394e-11</td>\n",
              "      <td>0.000000e+00</td>\n",
              "      <td>0.000000e+00</td>\n",
              "      <td>1.0</td>\n",
              "    </tr>\n",
              "    <tr>\n",
              "      <th>99998</th>\n",
              "      <td>7360.571878</td>\n",
              "      <td>136.000000</td>\n",
              "      <td>6.548362e-11</td>\n",
              "      <td>12267.682639</td>\n",
              "      <td>136.000000</td>\n",
              "      <td>1.891749e-10</td>\n",
              "      <td>36805.546583</td>\n",
              "      <td>136.000000</td>\n",
              "      <td>1.709850e-10</td>\n",
              "      <td>228023.544075</td>\n",
              "      <td>...</td>\n",
              "      <td>0.000000e+00</td>\n",
              "      <td>0.000000e+00</td>\n",
              "      <td>6.692805</td>\n",
              "      <td>136.000000</td>\n",
              "      <td>0.000002</td>\n",
              "      <td>136.000000</td>\n",
              "      <td>3.637979e-12</td>\n",
              "      <td>0.000000e+00</td>\n",
              "      <td>0.000000e+00</td>\n",
              "      <td>1.0</td>\n",
              "    </tr>\n",
              "  </tbody>\n",
              "</table>\n",
              "<p>99999 rows × 116 columns</p>\n",
              "</div>\n",
              "      <button class=\"colab-df-convert\" onclick=\"convertToInteractive('df-1de1d4d8-001e-441a-a9ad-b11f8a52ce0e')\"\n",
              "              title=\"Convert this dataframe to an interactive table.\"\n",
              "              style=\"display:none;\">\n",
              "        \n",
              "  <svg xmlns=\"http://www.w3.org/2000/svg\" height=\"24px\"viewBox=\"0 0 24 24\"\n",
              "       width=\"24px\">\n",
              "    <path d=\"M0 0h24v24H0V0z\" fill=\"none\"/>\n",
              "    <path d=\"M18.56 5.44l.94 2.06.94-2.06 2.06-.94-2.06-.94-.94-2.06-.94 2.06-2.06.94zm-11 1L8.5 8.5l.94-2.06 2.06-.94-2.06-.94L8.5 2.5l-.94 2.06-2.06.94zm10 10l.94 2.06.94-2.06 2.06-.94-2.06-.94-.94-2.06-.94 2.06-2.06.94z\"/><path d=\"M17.41 7.96l-1.37-1.37c-.4-.4-.92-.59-1.43-.59-.52 0-1.04.2-1.43.59L10.3 9.45l-7.72 7.72c-.78.78-.78 2.05 0 2.83L4 21.41c.39.39.9.59 1.41.59.51 0 1.02-.2 1.41-.59l7.78-7.78 2.81-2.81c.8-.78.8-2.07 0-2.86zM5.41 20L4 18.59l7.72-7.72 1.47 1.35L5.41 20z\"/>\n",
              "  </svg>\n",
              "      </button>\n",
              "      \n",
              "  <style>\n",
              "    .colab-df-container {\n",
              "      display:flex;\n",
              "      flex-wrap:wrap;\n",
              "      gap: 12px;\n",
              "    }\n",
              "\n",
              "    .colab-df-convert {\n",
              "      background-color: #E8F0FE;\n",
              "      border: none;\n",
              "      border-radius: 50%;\n",
              "      cursor: pointer;\n",
              "      display: none;\n",
              "      fill: #1967D2;\n",
              "      height: 32px;\n",
              "      padding: 0 0 0 0;\n",
              "      width: 32px;\n",
              "    }\n",
              "\n",
              "    .colab-df-convert:hover {\n",
              "      background-color: #E2EBFA;\n",
              "      box-shadow: 0px 1px 2px rgba(60, 64, 67, 0.3), 0px 1px 3px 1px rgba(60, 64, 67, 0.15);\n",
              "      fill: #174EA6;\n",
              "    }\n",
              "\n",
              "    [theme=dark] .colab-df-convert {\n",
              "      background-color: #3B4455;\n",
              "      fill: #D2E3FC;\n",
              "    }\n",
              "\n",
              "    [theme=dark] .colab-df-convert:hover {\n",
              "      background-color: #434B5C;\n",
              "      box-shadow: 0px 1px 3px 1px rgba(0, 0, 0, 0.15);\n",
              "      filter: drop-shadow(0px 1px 2px rgba(0, 0, 0, 0.3));\n",
              "      fill: #FFFFFF;\n",
              "    }\n",
              "  </style>\n",
              "\n",
              "      <script>\n",
              "        const buttonEl =\n",
              "          document.querySelector('#df-1de1d4d8-001e-441a-a9ad-b11f8a52ce0e button.colab-df-convert');\n",
              "        buttonEl.style.display =\n",
              "          google.colab.kernel.accessAllowed ? 'block' : 'none';\n",
              "\n",
              "        async function convertToInteractive(key) {\n",
              "          const element = document.querySelector('#df-1de1d4d8-001e-441a-a9ad-b11f8a52ce0e');\n",
              "          const dataTable =\n",
              "            await google.colab.kernel.invokeFunction('convertToInteractive',\n",
              "                                                     [key], {});\n",
              "          if (!dataTable) return;\n",
              "\n",
              "          const docLinkHtml = 'Like what you see? Visit the ' +\n",
              "            '<a target=\"_blank\" href=https://colab.research.google.com/notebooks/data_table.ipynb>data table notebook</a>'\n",
              "            + ' to learn more about interactive tables.';\n",
              "          element.innerHTML = '';\n",
              "          dataTable['output_type'] = 'display_data';\n",
              "          await google.colab.output.renderOutput(dataTable, element);\n",
              "          const docLink = document.createElement('div');\n",
              "          docLink.innerHTML = docLinkHtml;\n",
              "          element.appendChild(docLink);\n",
              "        }\n",
              "      </script>\n",
              "    </div>\n",
              "  </div>\n",
              "  "
            ]
          },
          "metadata": {},
          "execution_count": 6
        }
      ],
      "source": [
        "# sampling data taking only 50% of the data\n",
        "# bin_data = bin_data_total.groupby('label', group_keys=False).apply(lambda x: x.sample(frac=0.5))\n",
        "bin_data = bin_data_total\n",
        "bin_data"
      ]
    },
    {
      "cell_type": "code",
      "source": [
        "number_of_cols = bin_data.shape[1]"
      ],
      "metadata": {
        "id": "N125Cc3Ukt8h"
      },
      "execution_count": 7,
      "outputs": []
    },
    {
      "cell_type": "code",
      "execution_count": 8,
      "metadata": {
        "colab": {
          "base_uri": "https://localhost:8080/"
        },
        "id": "nKX2TRG0J85J",
        "outputId": "13fe39de-fe5d-434b-969f-2b118e9adb49"
      },
      "outputs": [
        {
          "output_type": "execute_result",
          "data": {
            "text/plain": [
              "0.0    0.626296\n",
              "1.0    0.373704\n",
              "Name: label, dtype: float64"
            ]
          },
          "metadata": {},
          "execution_count": 8
        }
      ],
      "source": [
        "# distribution of label class after sampling\n",
        "data_size = bin_data.shape[0]\n",
        "bin_data.label.value_counts()/data_size"
      ]
    },
    {
      "cell_type": "code",
      "execution_count": 9,
      "metadata": {
        "id": "L11T2MepDzax"
      },
      "outputs": [],
      "source": [
        "model_selection = {\n",
        "    0 : \"ALL\",\n",
        "    2 : \"MLP\",\n",
        "    3 : \"LSTM\",\n",
        "    4 : \"AE\"\n",
        "}\n",
        "model_flag = 0\n",
        "svm_enable = 1"
      ]
    },
    {
      "cell_type": "code",
      "execution_count": 10,
      "metadata": {
        "id": "OdRAXVlsxUVW"
      },
      "outputs": [],
      "source": [
        "X = bin_data.iloc[:,0:number_of_cols] # dataset excluding target attribute (encoded, one-hot-encoded,original)\n",
        "Y = bin_data['label'] # target attribute"
      ]
    },
    {
      "cell_type": "code",
      "execution_count": 11,
      "metadata": {
        "id": "lFdHHvRtxU5B"
      },
      "outputs": [],
      "source": [
        "# splitting the dataset 75% for training and 25% testing\n",
        "X_train, X_test, y_train, y_test = train_test_split(X,Y, test_size=0.25, random_state=42) "
      ]
    },
    {
      "cell_type": "code",
      "source": [
        "# calling the normalization() function\n",
        "X_train = normalization_train(X_train,numeric_cols)\n",
        "X_train.head()"
      ],
      "metadata": {
        "colab": {
          "base_uri": "https://localhost:8080/",
          "height": 300
        },
        "id": "SLLlMtsaYJdK",
        "outputId": "dba1a21b-3d32-4866-f7d8-1f8e25185dd6"
      },
      "execution_count": 12,
      "outputs": [
        {
          "output_type": "execute_result",
          "data": {
            "text/plain": [
              "             X1        X2        X3        X4        X5        X6        X7  \\\n",
              "65134  1.103024 -0.971367 -0.940826  0.802000 -0.972813 -0.942758  0.052880   \n",
              "9928  -0.786514 -1.150074 -0.940289 -0.782254 -1.134515 -0.931086 -0.764062   \n",
              "89685  1.326148 -0.971367 -0.940826  1.346872 -0.972813 -0.942758  1.427880   \n",
              "60954 -0.768145  0.403189  1.101320 -0.765935  0.400494  1.082266 -0.749295   \n",
              "69188  1.164703 -0.971367 -0.940826  0.894118 -0.972813 -0.942758  0.135799   \n",
              "\n",
              "             X8        X9       X10  ...      X107      X108      X109  \\\n",
              "65134 -0.974733 -0.944921 -0.480164  ... -0.024202 -0.011721 -1.151020   \n",
              "9928  -0.653157 -0.841614 -0.695199  ... -0.024202 -0.011721 -1.150866   \n",
              "89685 -0.974733 -0.944921  0.933362  ... -0.024202 -0.011721 -1.151020   \n",
              "60954  0.388762  1.059905 -0.666935  ... -0.024202 -0.011721  0.076897   \n",
              "69188 -0.974733 -0.944921 -0.452507  ... -0.024202 -0.011721 -1.151020   \n",
              "\n",
              "           X110      X111      X112      X113      X114      X115  label  \n",
              "65134 -0.698420 -0.770012 -0.800732 -0.814145  0.263325  0.226126    1.0  \n",
              "9928  -0.826403 -0.770012 -0.884371 -0.814145  0.263325  0.226126    0.0  \n",
              "89685 -0.698420 -0.770012 -0.800732 -0.814145  0.263325  0.226126    1.0  \n",
              "60954 -0.529530  1.703901 -0.636731  1.989886  0.263325  0.226126    0.0  \n",
              "69188 -0.698420 -0.770012 -0.800732 -0.814145  0.263325  0.226126    1.0  \n",
              "\n",
              "[5 rows x 116 columns]"
            ],
            "text/html": [
              "\n",
              "  <div id=\"df-25f0f5a8-778b-491d-9571-49fe21ab2c69\">\n",
              "    <div class=\"colab-df-container\">\n",
              "      <div>\n",
              "<style scoped>\n",
              "    .dataframe tbody tr th:only-of-type {\n",
              "        vertical-align: middle;\n",
              "    }\n",
              "\n",
              "    .dataframe tbody tr th {\n",
              "        vertical-align: top;\n",
              "    }\n",
              "\n",
              "    .dataframe thead th {\n",
              "        text-align: right;\n",
              "    }\n",
              "</style>\n",
              "<table border=\"1\" class=\"dataframe\">\n",
              "  <thead>\n",
              "    <tr style=\"text-align: right;\">\n",
              "      <th></th>\n",
              "      <th>X1</th>\n",
              "      <th>X2</th>\n",
              "      <th>X3</th>\n",
              "      <th>X4</th>\n",
              "      <th>X5</th>\n",
              "      <th>X6</th>\n",
              "      <th>X7</th>\n",
              "      <th>X8</th>\n",
              "      <th>X9</th>\n",
              "      <th>X10</th>\n",
              "      <th>...</th>\n",
              "      <th>X107</th>\n",
              "      <th>X108</th>\n",
              "      <th>X109</th>\n",
              "      <th>X110</th>\n",
              "      <th>X111</th>\n",
              "      <th>X112</th>\n",
              "      <th>X113</th>\n",
              "      <th>X114</th>\n",
              "      <th>X115</th>\n",
              "      <th>label</th>\n",
              "    </tr>\n",
              "  </thead>\n",
              "  <tbody>\n",
              "    <tr>\n",
              "      <th>65134</th>\n",
              "      <td>1.103024</td>\n",
              "      <td>-0.971367</td>\n",
              "      <td>-0.940826</td>\n",
              "      <td>0.802000</td>\n",
              "      <td>-0.972813</td>\n",
              "      <td>-0.942758</td>\n",
              "      <td>0.052880</td>\n",
              "      <td>-0.974733</td>\n",
              "      <td>-0.944921</td>\n",
              "      <td>-0.480164</td>\n",
              "      <td>...</td>\n",
              "      <td>-0.024202</td>\n",
              "      <td>-0.011721</td>\n",
              "      <td>-1.151020</td>\n",
              "      <td>-0.698420</td>\n",
              "      <td>-0.770012</td>\n",
              "      <td>-0.800732</td>\n",
              "      <td>-0.814145</td>\n",
              "      <td>0.263325</td>\n",
              "      <td>0.226126</td>\n",
              "      <td>1.0</td>\n",
              "    </tr>\n",
              "    <tr>\n",
              "      <th>9928</th>\n",
              "      <td>-0.786514</td>\n",
              "      <td>-1.150074</td>\n",
              "      <td>-0.940289</td>\n",
              "      <td>-0.782254</td>\n",
              "      <td>-1.134515</td>\n",
              "      <td>-0.931086</td>\n",
              "      <td>-0.764062</td>\n",
              "      <td>-0.653157</td>\n",
              "      <td>-0.841614</td>\n",
              "      <td>-0.695199</td>\n",
              "      <td>...</td>\n",
              "      <td>-0.024202</td>\n",
              "      <td>-0.011721</td>\n",
              "      <td>-1.150866</td>\n",
              "      <td>-0.826403</td>\n",
              "      <td>-0.770012</td>\n",
              "      <td>-0.884371</td>\n",
              "      <td>-0.814145</td>\n",
              "      <td>0.263325</td>\n",
              "      <td>0.226126</td>\n",
              "      <td>0.0</td>\n",
              "    </tr>\n",
              "    <tr>\n",
              "      <th>89685</th>\n",
              "      <td>1.326148</td>\n",
              "      <td>-0.971367</td>\n",
              "      <td>-0.940826</td>\n",
              "      <td>1.346872</td>\n",
              "      <td>-0.972813</td>\n",
              "      <td>-0.942758</td>\n",
              "      <td>1.427880</td>\n",
              "      <td>-0.974733</td>\n",
              "      <td>-0.944921</td>\n",
              "      <td>0.933362</td>\n",
              "      <td>...</td>\n",
              "      <td>-0.024202</td>\n",
              "      <td>-0.011721</td>\n",
              "      <td>-1.151020</td>\n",
              "      <td>-0.698420</td>\n",
              "      <td>-0.770012</td>\n",
              "      <td>-0.800732</td>\n",
              "      <td>-0.814145</td>\n",
              "      <td>0.263325</td>\n",
              "      <td>0.226126</td>\n",
              "      <td>1.0</td>\n",
              "    </tr>\n",
              "    <tr>\n",
              "      <th>60954</th>\n",
              "      <td>-0.768145</td>\n",
              "      <td>0.403189</td>\n",
              "      <td>1.101320</td>\n",
              "      <td>-0.765935</td>\n",
              "      <td>0.400494</td>\n",
              "      <td>1.082266</td>\n",
              "      <td>-0.749295</td>\n",
              "      <td>0.388762</td>\n",
              "      <td>1.059905</td>\n",
              "      <td>-0.666935</td>\n",
              "      <td>...</td>\n",
              "      <td>-0.024202</td>\n",
              "      <td>-0.011721</td>\n",
              "      <td>0.076897</td>\n",
              "      <td>-0.529530</td>\n",
              "      <td>1.703901</td>\n",
              "      <td>-0.636731</td>\n",
              "      <td>1.989886</td>\n",
              "      <td>0.263325</td>\n",
              "      <td>0.226126</td>\n",
              "      <td>0.0</td>\n",
              "    </tr>\n",
              "    <tr>\n",
              "      <th>69188</th>\n",
              "      <td>1.164703</td>\n",
              "      <td>-0.971367</td>\n",
              "      <td>-0.940826</td>\n",
              "      <td>0.894118</td>\n",
              "      <td>-0.972813</td>\n",
              "      <td>-0.942758</td>\n",
              "      <td>0.135799</td>\n",
              "      <td>-0.974733</td>\n",
              "      <td>-0.944921</td>\n",
              "      <td>-0.452507</td>\n",
              "      <td>...</td>\n",
              "      <td>-0.024202</td>\n",
              "      <td>-0.011721</td>\n",
              "      <td>-1.151020</td>\n",
              "      <td>-0.698420</td>\n",
              "      <td>-0.770012</td>\n",
              "      <td>-0.800732</td>\n",
              "      <td>-0.814145</td>\n",
              "      <td>0.263325</td>\n",
              "      <td>0.226126</td>\n",
              "      <td>1.0</td>\n",
              "    </tr>\n",
              "  </tbody>\n",
              "</table>\n",
              "<p>5 rows × 116 columns</p>\n",
              "</div>\n",
              "      <button class=\"colab-df-convert\" onclick=\"convertToInteractive('df-25f0f5a8-778b-491d-9571-49fe21ab2c69')\"\n",
              "              title=\"Convert this dataframe to an interactive table.\"\n",
              "              style=\"display:none;\">\n",
              "        \n",
              "  <svg xmlns=\"http://www.w3.org/2000/svg\" height=\"24px\"viewBox=\"0 0 24 24\"\n",
              "       width=\"24px\">\n",
              "    <path d=\"M0 0h24v24H0V0z\" fill=\"none\"/>\n",
              "    <path d=\"M18.56 5.44l.94 2.06.94-2.06 2.06-.94-2.06-.94-.94-2.06-.94 2.06-2.06.94zm-11 1L8.5 8.5l.94-2.06 2.06-.94-2.06-.94L8.5 2.5l-.94 2.06-2.06.94zm10 10l.94 2.06.94-2.06 2.06-.94-2.06-.94-.94-2.06-.94 2.06-2.06.94z\"/><path d=\"M17.41 7.96l-1.37-1.37c-.4-.4-.92-.59-1.43-.59-.52 0-1.04.2-1.43.59L10.3 9.45l-7.72 7.72c-.78.78-.78 2.05 0 2.83L4 21.41c.39.39.9.59 1.41.59.51 0 1.02-.2 1.41-.59l7.78-7.78 2.81-2.81c.8-.78.8-2.07 0-2.86zM5.41 20L4 18.59l7.72-7.72 1.47 1.35L5.41 20z\"/>\n",
              "  </svg>\n",
              "      </button>\n",
              "      \n",
              "  <style>\n",
              "    .colab-df-container {\n",
              "      display:flex;\n",
              "      flex-wrap:wrap;\n",
              "      gap: 12px;\n",
              "    }\n",
              "\n",
              "    .colab-df-convert {\n",
              "      background-color: #E8F0FE;\n",
              "      border: none;\n",
              "      border-radius: 50%;\n",
              "      cursor: pointer;\n",
              "      display: none;\n",
              "      fill: #1967D2;\n",
              "      height: 32px;\n",
              "      padding: 0 0 0 0;\n",
              "      width: 32px;\n",
              "    }\n",
              "\n",
              "    .colab-df-convert:hover {\n",
              "      background-color: #E2EBFA;\n",
              "      box-shadow: 0px 1px 2px rgba(60, 64, 67, 0.3), 0px 1px 3px 1px rgba(60, 64, 67, 0.15);\n",
              "      fill: #174EA6;\n",
              "    }\n",
              "\n",
              "    [theme=dark] .colab-df-convert {\n",
              "      background-color: #3B4455;\n",
              "      fill: #D2E3FC;\n",
              "    }\n",
              "\n",
              "    [theme=dark] .colab-df-convert:hover {\n",
              "      background-color: #434B5C;\n",
              "      box-shadow: 0px 1px 3px 1px rgba(0, 0, 0, 0.15);\n",
              "      filter: drop-shadow(0px 1px 2px rgba(0, 0, 0, 0.3));\n",
              "      fill: #FFFFFF;\n",
              "    }\n",
              "  </style>\n",
              "\n",
              "      <script>\n",
              "        const buttonEl =\n",
              "          document.querySelector('#df-25f0f5a8-778b-491d-9571-49fe21ab2c69 button.colab-df-convert');\n",
              "        buttonEl.style.display =\n",
              "          google.colab.kernel.accessAllowed ? 'block' : 'none';\n",
              "\n",
              "        async function convertToInteractive(key) {\n",
              "          const element = document.querySelector('#df-25f0f5a8-778b-491d-9571-49fe21ab2c69');\n",
              "          const dataTable =\n",
              "            await google.colab.kernel.invokeFunction('convertToInteractive',\n",
              "                                                     [key], {});\n",
              "          if (!dataTable) return;\n",
              "\n",
              "          const docLinkHtml = 'Like what you see? Visit the ' +\n",
              "            '<a target=\"_blank\" href=https://colab.research.google.com/notebooks/data_table.ipynb>data table notebook</a>'\n",
              "            + ' to learn more about interactive tables.';\n",
              "          element.innerHTML = '';\n",
              "          dataTable['output_type'] = 'display_data';\n",
              "          await google.colab.output.renderOutput(dataTable, element);\n",
              "          const docLink = document.createElement('div');\n",
              "          docLink.innerHTML = docLinkHtml;\n",
              "          element.appendChild(docLink);\n",
              "        }\n",
              "      </script>\n",
              "    </div>\n",
              "  </div>\n",
              "  "
            ]
          },
          "metadata": {},
          "execution_count": 12
        }
      ]
    },
    {
      "cell_type": "code",
      "source": [
        "# calling the normalization() function\n",
        "X_test = normalization_test(X_test,numeric_cols)\n",
        "X_test.head()"
      ],
      "metadata": {
        "colab": {
          "base_uri": "https://localhost:8080/",
          "height": 300
        },
        "id": "EKmhgZCobPU3",
        "outputId": "aa10af46-b5b5-4998-ca1a-7801b65626f3"
      },
      "execution_count": 13,
      "outputs": [
        {
          "output_type": "execute_result",
          "data": {
            "text/plain": [
              "                 X1            X2            X3            X4            X5  \\\n",
              "26002  1.515383e+09  4.734730e+09  4.156620e+11  2.630274e+09  4.599412e+09   \n",
              "80420  4.821350e+11  8.912316e+09  2.328016e-01  8.040866e+11  8.912316e+09   \n",
              "19864  1.368246e+09  3.931904e+09  2.261561e-01  2.385654e+09  3.931904e+09   \n",
              "81525  4.845133e+11  8.912316e+09  2.266031e-01  8.067542e+11  8.912316e+09   \n",
              "57878  3.575445e+09  9.216887e+10  2.112726e+12  5.686160e+09  9.202640e+10   \n",
              "\n",
              "                 X6            X7            X8            X9           X10  \\\n",
              "26002  3.469466e+11  8.023120e+09  4.414965e+09  2.475562e+11  8.110521e+10   \n",
              "80420  2.449601e-01  2.413386e+12  8.912316e+09  2.325632e-01  1.326777e+13   \n",
              "19864  2.262753e-01  7.864380e+09  3.931904e+09  1.236771e+03  8.305572e+10   \n",
              "81525  2.316096e-01  2.412544e+12  8.912316e+09  2.466290e-01  1.124336e+13   \n",
              "57878  2.267095e+12  1.712545e+10  9.203459e+10  2.416963e+12  1.752625e+11   \n",
              "\n",
              "       ...      X107      X108          X109          X110          X111  \\\n",
              "26002  ...  0.225744 -0.162717  8.183847e+11  3.931904e+09  9.904087e+01   \n",
              "80420  ...  0.226126  0.226126  3.122948e+08  8.912316e+09  1.252180e+02   \n",
              "19864  ...  0.225825 -0.091460  8.162148e+11  3.931904e+09  3.954851e+02   \n",
              "81525  ...  0.226126  0.226126  3.201615e+08  8.912316e+09  2.261263e-01   \n",
              "57878  ...  0.226469  0.529099  1.762309e+12  9.184975e+10  1.362001e+10   \n",
              "\n",
              "               X112          X113      X114      X115  label  \n",
              "26002  9.174545e+10  3.059233e+12  0.225822 -0.707140    0.0  \n",
              "80420  8.912316e+09  2.263647e-01  0.226126  0.226126    1.0  \n",
              "19864  9.189695e+10  2.898029e+12  0.223651 -1.725724    0.0  \n",
              "81525  8.912316e+09  2.261263e-01  0.226126  0.226126    1.0  \n",
              "57878  9.193387e+10  2.830761e+12  0.225536 -0.107884    0.0  \n",
              "\n",
              "[5 rows x 116 columns]"
            ],
            "text/html": [
              "\n",
              "  <div id=\"df-4feb9dc1-cb66-47d1-8a11-cfb44b5bf725\">\n",
              "    <div class=\"colab-df-container\">\n",
              "      <div>\n",
              "<style scoped>\n",
              "    .dataframe tbody tr th:only-of-type {\n",
              "        vertical-align: middle;\n",
              "    }\n",
              "\n",
              "    .dataframe tbody tr th {\n",
              "        vertical-align: top;\n",
              "    }\n",
              "\n",
              "    .dataframe thead th {\n",
              "        text-align: right;\n",
              "    }\n",
              "</style>\n",
              "<table border=\"1\" class=\"dataframe\">\n",
              "  <thead>\n",
              "    <tr style=\"text-align: right;\">\n",
              "      <th></th>\n",
              "      <th>X1</th>\n",
              "      <th>X2</th>\n",
              "      <th>X3</th>\n",
              "      <th>X4</th>\n",
              "      <th>X5</th>\n",
              "      <th>X6</th>\n",
              "      <th>X7</th>\n",
              "      <th>X8</th>\n",
              "      <th>X9</th>\n",
              "      <th>X10</th>\n",
              "      <th>...</th>\n",
              "      <th>X107</th>\n",
              "      <th>X108</th>\n",
              "      <th>X109</th>\n",
              "      <th>X110</th>\n",
              "      <th>X111</th>\n",
              "      <th>X112</th>\n",
              "      <th>X113</th>\n",
              "      <th>X114</th>\n",
              "      <th>X115</th>\n",
              "      <th>label</th>\n",
              "    </tr>\n",
              "  </thead>\n",
              "  <tbody>\n",
              "    <tr>\n",
              "      <th>26002</th>\n",
              "      <td>1.515383e+09</td>\n",
              "      <td>4.734730e+09</td>\n",
              "      <td>4.156620e+11</td>\n",
              "      <td>2.630274e+09</td>\n",
              "      <td>4.599412e+09</td>\n",
              "      <td>3.469466e+11</td>\n",
              "      <td>8.023120e+09</td>\n",
              "      <td>4.414965e+09</td>\n",
              "      <td>2.475562e+11</td>\n",
              "      <td>8.110521e+10</td>\n",
              "      <td>...</td>\n",
              "      <td>0.225744</td>\n",
              "      <td>-0.162717</td>\n",
              "      <td>8.183847e+11</td>\n",
              "      <td>3.931904e+09</td>\n",
              "      <td>9.904087e+01</td>\n",
              "      <td>9.174545e+10</td>\n",
              "      <td>3.059233e+12</td>\n",
              "      <td>0.225822</td>\n",
              "      <td>-0.707140</td>\n",
              "      <td>0.0</td>\n",
              "    </tr>\n",
              "    <tr>\n",
              "      <th>80420</th>\n",
              "      <td>4.821350e+11</td>\n",
              "      <td>8.912316e+09</td>\n",
              "      <td>2.328016e-01</td>\n",
              "      <td>8.040866e+11</td>\n",
              "      <td>8.912316e+09</td>\n",
              "      <td>2.449601e-01</td>\n",
              "      <td>2.413386e+12</td>\n",
              "      <td>8.912316e+09</td>\n",
              "      <td>2.325632e-01</td>\n",
              "      <td>1.326777e+13</td>\n",
              "      <td>...</td>\n",
              "      <td>0.226126</td>\n",
              "      <td>0.226126</td>\n",
              "      <td>3.122948e+08</td>\n",
              "      <td>8.912316e+09</td>\n",
              "      <td>1.252180e+02</td>\n",
              "      <td>8.912316e+09</td>\n",
              "      <td>2.263647e-01</td>\n",
              "      <td>0.226126</td>\n",
              "      <td>0.226126</td>\n",
              "      <td>1.0</td>\n",
              "    </tr>\n",
              "    <tr>\n",
              "      <th>19864</th>\n",
              "      <td>1.368246e+09</td>\n",
              "      <td>3.931904e+09</td>\n",
              "      <td>2.261561e-01</td>\n",
              "      <td>2.385654e+09</td>\n",
              "      <td>3.931904e+09</td>\n",
              "      <td>2.262753e-01</td>\n",
              "      <td>7.864380e+09</td>\n",
              "      <td>3.931904e+09</td>\n",
              "      <td>1.236771e+03</td>\n",
              "      <td>8.305572e+10</td>\n",
              "      <td>...</td>\n",
              "      <td>0.225825</td>\n",
              "      <td>-0.091460</td>\n",
              "      <td>8.162148e+11</td>\n",
              "      <td>3.931904e+09</td>\n",
              "      <td>3.954851e+02</td>\n",
              "      <td>9.189695e+10</td>\n",
              "      <td>2.898029e+12</td>\n",
              "      <td>0.223651</td>\n",
              "      <td>-1.725724</td>\n",
              "      <td>0.0</td>\n",
              "    </tr>\n",
              "    <tr>\n",
              "      <th>81525</th>\n",
              "      <td>4.845133e+11</td>\n",
              "      <td>8.912316e+09</td>\n",
              "      <td>2.266031e-01</td>\n",
              "      <td>8.067542e+11</td>\n",
              "      <td>8.912316e+09</td>\n",
              "      <td>2.316096e-01</td>\n",
              "      <td>2.412544e+12</td>\n",
              "      <td>8.912316e+09</td>\n",
              "      <td>2.466290e-01</td>\n",
              "      <td>1.124336e+13</td>\n",
              "      <td>...</td>\n",
              "      <td>0.226126</td>\n",
              "      <td>0.226126</td>\n",
              "      <td>3.201615e+08</td>\n",
              "      <td>8.912316e+09</td>\n",
              "      <td>2.261263e-01</td>\n",
              "      <td>8.912316e+09</td>\n",
              "      <td>2.261263e-01</td>\n",
              "      <td>0.226126</td>\n",
              "      <td>0.226126</td>\n",
              "      <td>1.0</td>\n",
              "    </tr>\n",
              "    <tr>\n",
              "      <th>57878</th>\n",
              "      <td>3.575445e+09</td>\n",
              "      <td>9.216887e+10</td>\n",
              "      <td>2.112726e+12</td>\n",
              "      <td>5.686160e+09</td>\n",
              "      <td>9.202640e+10</td>\n",
              "      <td>2.267095e+12</td>\n",
              "      <td>1.712545e+10</td>\n",
              "      <td>9.203459e+10</td>\n",
              "      <td>2.416963e+12</td>\n",
              "      <td>1.752625e+11</td>\n",
              "      <td>...</td>\n",
              "      <td>0.226469</td>\n",
              "      <td>0.529099</td>\n",
              "      <td>1.762309e+12</td>\n",
              "      <td>9.184975e+10</td>\n",
              "      <td>1.362001e+10</td>\n",
              "      <td>9.193387e+10</td>\n",
              "      <td>2.830761e+12</td>\n",
              "      <td>0.225536</td>\n",
              "      <td>-0.107884</td>\n",
              "      <td>0.0</td>\n",
              "    </tr>\n",
              "  </tbody>\n",
              "</table>\n",
              "<p>5 rows × 116 columns</p>\n",
              "</div>\n",
              "      <button class=\"colab-df-convert\" onclick=\"convertToInteractive('df-4feb9dc1-cb66-47d1-8a11-cfb44b5bf725')\"\n",
              "              title=\"Convert this dataframe to an interactive table.\"\n",
              "              style=\"display:none;\">\n",
              "        \n",
              "  <svg xmlns=\"http://www.w3.org/2000/svg\" height=\"24px\"viewBox=\"0 0 24 24\"\n",
              "       width=\"24px\">\n",
              "    <path d=\"M0 0h24v24H0V0z\" fill=\"none\"/>\n",
              "    <path d=\"M18.56 5.44l.94 2.06.94-2.06 2.06-.94-2.06-.94-.94-2.06-.94 2.06-2.06.94zm-11 1L8.5 8.5l.94-2.06 2.06-.94-2.06-.94L8.5 2.5l-.94 2.06-2.06.94zm10 10l.94 2.06.94-2.06 2.06-.94-2.06-.94-.94-2.06-.94 2.06-2.06.94z\"/><path d=\"M17.41 7.96l-1.37-1.37c-.4-.4-.92-.59-1.43-.59-.52 0-1.04.2-1.43.59L10.3 9.45l-7.72 7.72c-.78.78-.78 2.05 0 2.83L4 21.41c.39.39.9.59 1.41.59.51 0 1.02-.2 1.41-.59l7.78-7.78 2.81-2.81c.8-.78.8-2.07 0-2.86zM5.41 20L4 18.59l7.72-7.72 1.47 1.35L5.41 20z\"/>\n",
              "  </svg>\n",
              "      </button>\n",
              "      \n",
              "  <style>\n",
              "    .colab-df-container {\n",
              "      display:flex;\n",
              "      flex-wrap:wrap;\n",
              "      gap: 12px;\n",
              "    }\n",
              "\n",
              "    .colab-df-convert {\n",
              "      background-color: #E8F0FE;\n",
              "      border: none;\n",
              "      border-radius: 50%;\n",
              "      cursor: pointer;\n",
              "      display: none;\n",
              "      fill: #1967D2;\n",
              "      height: 32px;\n",
              "      padding: 0 0 0 0;\n",
              "      width: 32px;\n",
              "    }\n",
              "\n",
              "    .colab-df-convert:hover {\n",
              "      background-color: #E2EBFA;\n",
              "      box-shadow: 0px 1px 2px rgba(60, 64, 67, 0.3), 0px 1px 3px 1px rgba(60, 64, 67, 0.15);\n",
              "      fill: #174EA6;\n",
              "    }\n",
              "\n",
              "    [theme=dark] .colab-df-convert {\n",
              "      background-color: #3B4455;\n",
              "      fill: #D2E3FC;\n",
              "    }\n",
              "\n",
              "    [theme=dark] .colab-df-convert:hover {\n",
              "      background-color: #434B5C;\n",
              "      box-shadow: 0px 1px 3px 1px rgba(0, 0, 0, 0.15);\n",
              "      filter: drop-shadow(0px 1px 2px rgba(0, 0, 0, 0.3));\n",
              "      fill: #FFFFFF;\n",
              "    }\n",
              "  </style>\n",
              "\n",
              "      <script>\n",
              "        const buttonEl =\n",
              "          document.querySelector('#df-4feb9dc1-cb66-47d1-8a11-cfb44b5bf725 button.colab-df-convert');\n",
              "        buttonEl.style.display =\n",
              "          google.colab.kernel.accessAllowed ? 'block' : 'none';\n",
              "\n",
              "        async function convertToInteractive(key) {\n",
              "          const element = document.querySelector('#df-4feb9dc1-cb66-47d1-8a11-cfb44b5bf725');\n",
              "          const dataTable =\n",
              "            await google.colab.kernel.invokeFunction('convertToInteractive',\n",
              "                                                     [key], {});\n",
              "          if (!dataTable) return;\n",
              "\n",
              "          const docLinkHtml = 'Like what you see? Visit the ' +\n",
              "            '<a target=\"_blank\" href=https://colab.research.google.com/notebooks/data_table.ipynb>data table notebook</a>'\n",
              "            + ' to learn more about interactive tables.';\n",
              "          element.innerHTML = '';\n",
              "          dataTable['output_type'] = 'display_data';\n",
              "          await google.colab.output.renderOutput(dataTable, element);\n",
              "          const docLink = document.createElement('div');\n",
              "          docLink.innerHTML = docLinkHtml;\n",
              "          element.appendChild(docLink);\n",
              "        }\n",
              "      </script>\n",
              "    </div>\n",
              "  </div>\n",
              "  "
            ]
          },
          "metadata": {},
          "execution_count": 13
        }
      ]
    },
    {
      "cell_type": "markdown",
      "metadata": {
        "id": "ZfAbEIDgz4iY"
      },
      "source": [
        "## **Linear Support Vector Machine Classifier (Binary Classification) **\n",
        "to enable make the svm_enable = 1 in the above cell"
      ]
    },
    {
      "cell_type": "code",
      "execution_count": 14,
      "metadata": {
        "id": "o8GdMBjdzFQT"
      },
      "outputs": [],
      "source": [
        "if svm_enable:\n",
        "  # using kernel as linear \n",
        "  lsvm = SVC(kernel='linear',gamma='auto') \n",
        "  lsvm.fit(X_train,y_train) # training model on training dataset"
      ]
    },
    {
      "cell_type": "code",
      "execution_count": 15,
      "metadata": {
        "id": "NjfYZA_9zTNK"
      },
      "outputs": [],
      "source": [
        "if svm_enable:\n",
        "  pkl_filename = \"/content/drive/MyDrive/Colab_Notebooks/Models/lsvm_binary_unsw_nb15.pkl\"\n",
        "  if (not path.isfile(pkl_filename)):\n",
        "    # saving the trained model to disk\n",
        "    with open(pkl_filename, 'wb') as file:\n",
        "      pickle.dump(lsvm, file)\n",
        "    print(\"Saved model to disk\")\n",
        "    # loading the trained model from disk\n",
        "    with open(pkl_filename, 'rb') as file:\n",
        "      lsvm = pickle.load(file)\n",
        "    print(\"Loaded model from disk\") "
      ]
    },
    {
      "cell_type": "code",
      "execution_count": 16,
      "metadata": {
        "id": "xsnN51Juzgcf",
        "colab": {
          "base_uri": "https://localhost:8080/"
        },
        "outputId": "adb2486c-50c0-4e4d-ae0c-90e1dcb2b97f"
      },
      "outputs": [
        {
          "output_type": "stream",
          "name": "stdout",
          "text": [
            "LSVM-Classifier Binary Set-Accuracy is  72.128\n"
          ]
        }
      ],
      "source": [
        "if svm_enable:\n",
        "  y_pred = lsvm.predict(X_test) # predicting target attribute on testing dataset\n",
        "  ac = accuracy_score(y_test, y_pred)*100 # calculating accuracy of predicted data\n",
        "  print(\"LSVM-Classifier Binary Set-Accuracy is \", ac)"
      ]
    },
    {
      "cell_type": "code",
      "execution_count": 17,
      "metadata": {
        "id": "qg2gbJTg8NtL"
      },
      "outputs": [],
      "source": [
        "# import matplotlib.pyplot as plt\n",
        "# from sklearn.datasets import make_classification\n",
        "# from sklearn.metrics import confusion_matrix, ConfusionMatrixDisplay\n",
        "# from sklearn.model_selection import train_test_split\n",
        "# from sklearn.svm import SVC\n",
        "# X, y = make_classification(random_state=0)\n",
        "# X_train, X_test, y_train, y_test = train_test_split(X, y,\n",
        "#                                                     random_state=0)\n",
        "# cm = confusion_matrix(y_test, y_pred, labels=lsvm.classes_)\n",
        "# disp = ConfusionMatrixDisplay(confusion_matrix=cm,\n",
        "#                               display_labels=lsvm.classes_)\n",
        "# disp.plot()\n",
        "\n",
        "# plt.show()"
      ]
    },
    {
      "cell_type": "code",
      "execution_count": 18,
      "metadata": {
        "id": "9IydNlzT5kx6",
        "colab": {
          "base_uri": "https://localhost:8080/",
          "height": 587
        },
        "outputId": "6724e9ca-fa69-4831-b1b6-0f6ceac1689a"
      },
      "outputs": [
        {
          "output_type": "display_data",
          "data": {
            "text/plain": [
              "<Figure size 2000x800 with 1 Axes>"
            ],
            "image/png": "[encoded data removed]"
          },
          "metadata": {}
        }
      ],
      "source": [
        "if svm_enable:\n",
        "  plt.figure(figsize=(20,8))\n",
        "  plt.plot(y_pred[300:500], label=\"prediction\", linewidth=2.0,color='blue')\n",
        "  plt.plot(y_test[300:500].values, label=\"real_values\", linewidth=2.0,color='lightcoral')\n",
        "  plt.legend(loc=\"best\")\n",
        "  plt.ylim((-1,2))\n",
        "  plt.title(\"Linear SVM Binary Classification\")\n",
        "  plt.savefig('/content/drive/MyDrive/Colab_Notebooks/Plots/lsvm_real_pred_bin.png')\n",
        "  plt.show()"
      ]
    },
    {
      "cell_type": "code",
      "execution_count": 19,
      "metadata": {
        "id": "s9lqoveaUBvg",
        "colab": {
          "base_uri": "https://localhost:8080/"
        },
        "outputId": "cf49cccc-b708-49b1-fe54-73be4a598e47"
      },
      "outputs": [
        {
          "output_type": "stream",
          "name": "stdout",
          "text": [
            "              precision    recall  f1-score   support\n",
            "\n",
            "     class 0       1.00      0.56      0.71     15701\n",
            "     class 1       0.57      1.00      0.73      9299\n",
            "\n",
            "    accuracy                           0.72     25000\n",
            "   macro avg       0.79      0.78      0.72     25000\n",
            "weighted avg       0.84      0.72      0.72     25000\n",
            "\n"
          ]
        }
      ],
      "source": [
        "if svm_enable:\n",
        "  target_names = ['class 0', 'class 1']\n",
        "  print(classification_report(y_test, y_pred, target_names=target_names))"
      ]
    },
    {
      "cell_type": "code",
      "execution_count": 20,
      "metadata": {
        "id": "kWxBZhnw9t5n",
        "colab": {
          "base_uri": "https://localhost:8080/",
          "height": 449
        },
        "outputId": "e2b7326e-ebc7-4f6f-fdc1-61adb7e85f1c"
      },
      "outputs": [
        {
          "output_type": "display_data",
          "data": {
            "text/plain": [
              "<Figure size 640x480 with 2 Axes>"
            ],
            "image/png": "[encoded data removed]"
          },
          "metadata": {}
        }
      ],
      "source": [
        "if svm_enable:\n",
        "  from sklearn.metrics import confusion_matrix, ConfusionMatrixDisplay\n",
        "\n",
        "  clf = lsvm\n",
        "  cm = confusion_matrix(y_test, y_pred, labels=clf.classes_)\n",
        "  disp = ConfusionMatrixDisplay(confusion_matrix=cm,\n",
        "                                display_labels=clf.classes_)\n",
        "  disp.plot()\n",
        "\n",
        "  plt.show()"
      ]
    },
    {
      "cell_type": "markdown",
      "metadata": {
        "id": "PUjrwY2l0_RI"
      },
      "source": [
        "## **Multi Layer Perceptron Classifier (Binary Classification)**"
      ]
    },
    {
      "cell_type": "code",
      "execution_count": 21,
      "metadata": {
        "id": "u9v5Ylpa1DHY"
      },
      "outputs": [],
      "source": [
        "if model_selection[model_flag]==\"ALL\" or model_selection[model_flag] == \"MLP\":\n",
        "  mlp = Sequential() # creating model\n",
        "\n",
        "  # adding input layer and first layer with 50 neurons\n",
        "  mlp.add(Dense(units=50, input_dim=X_train.shape[1], activation='relu'))\n",
        "  # output layer with sigmoid activation\n",
        "  mlp.add(Dense(units=1,activation='sigmoid'))"
      ]
    },
    {
      "cell_type": "code",
      "execution_count": 22,
      "metadata": {
        "id": "E-9M9d0p1p8s"
      },
      "outputs": [],
      "source": [
        "if model_selection[model_flag]==\"ALL\" or model_selection[model_flag] == \"MLP\":\n",
        "  # defining loss function, optimizer, metrics and then compiling model\n",
        "  mlp.compile(loss='binary_crossentropy', optimizer='adam', metrics=['accuracy'])"
      ]
    },
    {
      "cell_type": "code",
      "execution_count": 23,
      "metadata": {
        "id": "NK-1_akm1vO9",
        "colab": {
          "base_uri": "https://localhost:8080/"
        },
        "outputId": "c4ce8479-5d77-4251-b06e-a186dd0ab17c"
      },
      "outputs": [
        {
          "output_type": "stream",
          "name": "stdout",
          "text": [
            "Model: \"sequential\"\n",
            "_________________________________________________________________\n",
            " Layer (type)                Output Shape              Param #   \n",
            "=================================================================\n",
            " dense (Dense)               (None, 50)                5850      \n",
            "                                                                 \n",
            " dense_1 (Dense)             (None, 1)                 51        \n",
            "                                                                 \n",
            "=================================================================\n",
            "Total params: 5,901\n",
            "Trainable params: 5,901\n",
            "Non-trainable params: 0\n",
            "_________________________________________________________________\n"
          ]
        }
      ],
      "source": [
        "if model_selection[model_flag]==\"ALL\" or model_selection[model_flag] == \"MLP\":\n",
        "  # summary of model layers\n",
        "  mlp.summary()"
      ]
    },
    {
      "cell_type": "code",
      "execution_count": 24,
      "metadata": {
        "id": "UYZ4xCgp13gP",
        "colab": {
          "base_uri": "https://localhost:8080/"
        },
        "outputId": "852d2063-6dff-4dbb-e067-ec7d8f898003"
      },
      "outputs": [
        {
          "output_type": "stream",
          "name": "stdout",
          "text": [
            "Epoch 1/100\n",
            "12/12 [==============================] - 5s 38ms/step - loss: 0.2133 - accuracy: 0.9720 - val_loss: 0.0760 - val_accuracy: 0.9934\n",
            "Epoch 2/100\n",
            "12/12 [==============================] - 0s 12ms/step - loss: 0.0580 - accuracy: 0.9930 - val_loss: 0.0432 - val_accuracy: 0.9934\n",
            "Epoch 3/100\n",
            "12/12 [==============================] - 0s 12ms/step - loss: 0.0402 - accuracy: 0.9931 - val_loss: 0.0350 - val_accuracy: 0.9935\n",
            "Epoch 4/100\n",
            "12/12 [==============================] - 0s 11ms/step - loss: 0.0330 - accuracy: 0.9933 - val_loss: 0.0302 - val_accuracy: 0.9937\n",
            "Epoch 5/100\n",
            "12/12 [==============================] - 0s 13ms/step - loss: 0.0280 - accuracy: 0.9939 - val_loss: 0.0271 - val_accuracy: 0.9943\n",
            "Epoch 6/100\n",
            "12/12 [==============================] - 0s 12ms/step - loss: 0.0251 - accuracy: 0.9945 - val_loss: 0.0253 - val_accuracy: 0.9949\n",
            "Epoch 7/100\n",
            "12/12 [==============================] - 0s 12ms/step - loss: 0.0235 - accuracy: 0.9951 - val_loss: 0.0241 - val_accuracy: 0.9950\n",
            "Epoch 8/100\n",
            "12/12 [==============================] - 0s 12ms/step - loss: 0.0225 - accuracy: 0.9955 - val_loss: 0.0233 - val_accuracy: 0.9953\n",
            "Epoch 9/100\n",
            "12/12 [==============================] - 0s 16ms/step - loss: 0.0218 - accuracy: 0.9955 - val_loss: 0.0228 - val_accuracy: 0.9953\n",
            "Epoch 10/100\n",
            "12/12 [==============================] - 0s 12ms/step - loss: 0.0213 - accuracy: 0.9955 - val_loss: 0.0223 - val_accuracy: 0.9953\n",
            "Epoch 11/100\n",
            "12/12 [==============================] - 0s 12ms/step - loss: 0.0209 - accuracy: 0.9955 - val_loss: 0.0219 - val_accuracy: 0.9953\n",
            "Epoch 12/100\n",
            "12/12 [==============================] - 0s 16ms/step - loss: 0.0205 - accuracy: 0.9955 - val_loss: 0.0216 - val_accuracy: 0.9953\n",
            "Epoch 13/100\n",
            "12/12 [==============================] - 0s 12ms/step - loss: 0.0202 - accuracy: 0.9955 - val_loss: 0.0213 - val_accuracy: 0.9954\n",
            "Epoch 14/100\n",
            "12/12 [==============================] - 0s 12ms/step - loss: 0.0199 - accuracy: 0.9956 - val_loss: 0.0210 - val_accuracy: 0.9954\n",
            "Epoch 15/100\n",
            "12/12 [==============================] - 0s 13ms/step - loss: 0.0197 - accuracy: 0.9957 - val_loss: 0.0208 - val_accuracy: 0.9955\n",
            "Epoch 16/100\n",
            "12/12 [==============================] - 0s 9ms/step - loss: 0.0195 - accuracy: 0.9957 - val_loss: 0.0205 - val_accuracy: 0.9955\n",
            "Epoch 17/100\n",
            "12/12 [==============================] - 0s 8ms/step - loss: 0.0192 - accuracy: 0.9959 - val_loss: 0.0203 - val_accuracy: 0.9955\n",
            "Epoch 18/100\n",
            "12/12 [==============================] - 0s 8ms/step - loss: 0.0190 - accuracy: 0.9959 - val_loss: 0.0202 - val_accuracy: 0.9956\n",
            "Epoch 19/100\n",
            "12/12 [==============================] - 0s 9ms/step - loss: 0.0189 - accuracy: 0.9959 - val_loss: 0.0200 - val_accuracy: 0.9956\n",
            "Epoch 20/100\n",
            "12/12 [==============================] - 0s 8ms/step - loss: 0.0187 - accuracy: 0.9959 - val_loss: 0.0198 - val_accuracy: 0.9957\n",
            "Epoch 21/100\n",
            "12/12 [==============================] - 0s 8ms/step - loss: 0.0185 - accuracy: 0.9959 - val_loss: 0.0196 - val_accuracy: 0.9957\n",
            "Epoch 22/100\n",
            "12/12 [==============================] - 0s 8ms/step - loss: 0.0184 - accuracy: 0.9960 - val_loss: 0.0194 - val_accuracy: 0.9957\n",
            "Epoch 23/100\n",
            "12/12 [==============================] - 0s 8ms/step - loss: 0.0182 - accuracy: 0.9960 - val_loss: 0.0193 - val_accuracy: 0.9958\n",
            "Epoch 24/100\n",
            "12/12 [==============================] - 0s 9ms/step - loss: 0.0180 - accuracy: 0.9960 - val_loss: 0.0191 - val_accuracy: 0.9958\n",
            "Epoch 25/100\n",
            "12/12 [==============================] - 0s 8ms/step - loss: 0.0179 - accuracy: 0.9960 - val_loss: 0.0190 - val_accuracy: 0.9959\n",
            "Epoch 26/100\n",
            "12/12 [==============================] - 0s 8ms/step - loss: 0.0177 - accuracy: 0.9960 - val_loss: 0.0188 - val_accuracy: 0.9959\n",
            "Epoch 27/100\n",
            "12/12 [==============================] - 0s 8ms/step - loss: 0.0176 - accuracy: 0.9961 - val_loss: 0.0187 - val_accuracy: 0.9959\n",
            "Epoch 28/100\n",
            "12/12 [==============================] - 0s 8ms/step - loss: 0.0174 - accuracy: 0.9961 - val_loss: 0.0185 - val_accuracy: 0.9961\n",
            "Epoch 29/100\n",
            "12/12 [==============================] - 0s 9ms/step - loss: 0.0173 - accuracy: 0.9961 - val_loss: 0.0184 - val_accuracy: 0.9961\n",
            "Epoch 30/100\n",
            "12/12 [==============================] - 0s 9ms/step - loss: 0.0171 - accuracy: 0.9962 - val_loss: 0.0182 - val_accuracy: 0.9963\n",
            "Epoch 31/100\n",
            "12/12 [==============================] - 0s 8ms/step - loss: 0.0170 - accuracy: 0.9962 - val_loss: 0.0181 - val_accuracy: 0.9963\n",
            "Epoch 32/100\n",
            "12/12 [==============================] - 0s 8ms/step - loss: 0.0169 - accuracy: 0.9962 - val_loss: 0.0179 - val_accuracy: 0.9964\n",
            "Epoch 33/100\n",
            "12/12 [==============================] - 0s 8ms/step - loss: 0.0167 - accuracy: 0.9963 - val_loss: 0.0178 - val_accuracy: 0.9964\n",
            "Epoch 34/100\n",
            "12/12 [==============================] - 0s 11ms/step - loss: 0.0165 - accuracy: 0.9963 - val_loss: 0.0176 - val_accuracy: 0.9964\n",
            "Epoch 35/100\n",
            "12/12 [==============================] - 0s 9ms/step - loss: 0.0164 - accuracy: 0.9963 - val_loss: 0.0175 - val_accuracy: 0.9964\n",
            "Epoch 36/100\n",
            "12/12 [==============================] - 0s 8ms/step - loss: 0.0163 - accuracy: 0.9963 - val_loss: 0.0174 - val_accuracy: 0.9964\n",
            "Epoch 37/100\n",
            "12/12 [==============================] - 0s 10ms/step - loss: 0.0161 - accuracy: 0.9964 - val_loss: 0.0172 - val_accuracy: 0.9964\n",
            "Epoch 38/100\n",
            "12/12 [==============================] - 0s 8ms/step - loss: 0.0159 - accuracy: 0.9964 - val_loss: 0.0170 - val_accuracy: 0.9964\n",
            "Epoch 39/100\n",
            "12/12 [==============================] - 0s 8ms/step - loss: 0.0158 - accuracy: 0.9964 - val_loss: 0.0169 - val_accuracy: 0.9964\n",
            "Epoch 40/100\n",
            "12/12 [==============================] - 0s 9ms/step - loss: 0.0156 - accuracy: 0.9964 - val_loss: 0.0167 - val_accuracy: 0.9964\n",
            "Epoch 41/100\n",
            "12/12 [==============================] - 0s 9ms/step - loss: 0.0155 - accuracy: 0.9965 - val_loss: 0.0166 - val_accuracy: 0.9964\n",
            "Epoch 42/100\n",
            "12/12 [==============================] - 0s 8ms/step - loss: 0.0153 - accuracy: 0.9965 - val_loss: 0.0164 - val_accuracy: 0.9964\n",
            "Epoch 43/100\n",
            "12/12 [==============================] - 0s 9ms/step - loss: 0.0151 - accuracy: 0.9965 - val_loss: 0.0162 - val_accuracy: 0.9964\n",
            "Epoch 44/100\n",
            "12/12 [==============================] - 0s 8ms/step - loss: 0.0149 - accuracy: 0.9965 - val_loss: 0.0161 - val_accuracy: 0.9965\n",
            "Epoch 45/100\n",
            "12/12 [==============================] - 0s 8ms/step - loss: 0.0148 - accuracy: 0.9966 - val_loss: 0.0159 - val_accuracy: 0.9965\n",
            "Epoch 46/100\n",
            "12/12 [==============================] - 0s 9ms/step - loss: 0.0146 - accuracy: 0.9966 - val_loss: 0.0157 - val_accuracy: 0.9965\n",
            "Epoch 47/100\n",
            "12/12 [==============================] - 0s 8ms/step - loss: 0.0144 - accuracy: 0.9966 - val_loss: 0.0156 - val_accuracy: 0.9965\n",
            "Epoch 48/100\n",
            "12/12 [==============================] - 0s 8ms/step - loss: 0.0143 - accuracy: 0.9967 - val_loss: 0.0153 - val_accuracy: 0.9965\n",
            "Epoch 49/100\n",
            "12/12 [==============================] - 0s 8ms/step - loss: 0.0141 - accuracy: 0.9966 - val_loss: 0.0151 - val_accuracy: 0.9965\n",
            "Epoch 50/100\n",
            "12/12 [==============================] - 0s 8ms/step - loss: 0.0139 - accuracy: 0.9966 - val_loss: 0.0150 - val_accuracy: 0.9965\n",
            "Epoch 51/100\n",
            "12/12 [==============================] - 0s 8ms/step - loss: 0.0137 - accuracy: 0.9967 - val_loss: 0.0147 - val_accuracy: 0.9965\n",
            "Epoch 52/100\n",
            "12/12 [==============================] - 0s 9ms/step - loss: 0.0135 - accuracy: 0.9967 - val_loss: 0.0145 - val_accuracy: 0.9965\n",
            "Epoch 53/100\n",
            "12/12 [==============================] - 0s 9ms/step - loss: 0.0133 - accuracy: 0.9968 - val_loss: 0.0143 - val_accuracy: 0.9965\n",
            "Epoch 54/100\n",
            "12/12 [==============================] - 0s 8ms/step - loss: 0.0131 - accuracy: 0.9968 - val_loss: 0.0141 - val_accuracy: 0.9965\n",
            "Epoch 55/100\n",
            "12/12 [==============================] - 0s 9ms/step - loss: 0.0129 - accuracy: 0.9969 - val_loss: 0.0139 - val_accuracy: 0.9965\n",
            "Epoch 56/100\n",
            "12/12 [==============================] - 0s 9ms/step - loss: 0.0127 - accuracy: 0.9968 - val_loss: 0.0137 - val_accuracy: 0.9966\n",
            "Epoch 57/100\n",
            "12/12 [==============================] - 0s 8ms/step - loss: 0.0125 - accuracy: 0.9969 - val_loss: 0.0134 - val_accuracy: 0.9966\n",
            "Epoch 58/100\n",
            "12/12 [==============================] - 0s 9ms/step - loss: 0.0122 - accuracy: 0.9969 - val_loss: 0.0132 - val_accuracy: 0.9966\n",
            "Epoch 59/100\n",
            "12/12 [==============================] - 0s 8ms/step - loss: 0.0120 - accuracy: 0.9970 - val_loss: 0.0129 - val_accuracy: 0.9966\n",
            "Epoch 60/100\n",
            "12/12 [==============================] - 0s 8ms/step - loss: 0.0118 - accuracy: 0.9969 - val_loss: 0.0127 - val_accuracy: 0.9966\n",
            "Epoch 61/100\n",
            "12/12 [==============================] - 0s 8ms/step - loss: 0.0115 - accuracy: 0.9970 - val_loss: 0.0124 - val_accuracy: 0.9966\n",
            "Epoch 62/100\n",
            "12/12 [==============================] - 0s 9ms/step - loss: 0.0113 - accuracy: 0.9970 - val_loss: 0.0122 - val_accuracy: 0.9966\n",
            "Epoch 63/100\n",
            "12/12 [==============================] - 0s 8ms/step - loss: 0.0111 - accuracy: 0.9970 - val_loss: 0.0119 - val_accuracy: 0.9966\n",
            "Epoch 64/100\n",
            "12/12 [==============================] - 0s 9ms/step - loss: 0.0108 - accuracy: 0.9971 - val_loss: 0.0117 - val_accuracy: 0.9967\n",
            "Epoch 65/100\n",
            "12/12 [==============================] - 0s 8ms/step - loss: 0.0105 - accuracy: 0.9971 - val_loss: 0.0113 - val_accuracy: 0.9967\n",
            "Epoch 66/100\n",
            "12/12 [==============================] - 0s 8ms/step - loss: 0.0103 - accuracy: 0.9971 - val_loss: 0.0110 - val_accuracy: 0.9968\n",
            "Epoch 67/100\n",
            "12/12 [==============================] - 0s 9ms/step - loss: 0.0100 - accuracy: 0.9971 - val_loss: 0.0107 - val_accuracy: 0.9968\n",
            "Epoch 68/100\n",
            "12/12 [==============================] - 0s 8ms/step - loss: 0.0097 - accuracy: 0.9971 - val_loss: 0.0105 - val_accuracy: 0.9968\n",
            "Epoch 69/100\n",
            "12/12 [==============================] - 0s 8ms/step - loss: 0.0094 - accuracy: 0.9972 - val_loss: 0.0101 - val_accuracy: 0.9968\n",
            "Epoch 70/100\n",
            "12/12 [==============================] - 0s 9ms/step - loss: 0.0091 - accuracy: 0.9972 - val_loss: 0.0098 - val_accuracy: 0.9968\n",
            "Epoch 71/100\n",
            "12/12 [==============================] - 0s 8ms/step - loss: 0.0088 - accuracy: 0.9972 - val_loss: 0.0095 - val_accuracy: 0.9968\n",
            "Epoch 72/100\n",
            "12/12 [==============================] - 0s 9ms/step - loss: 0.0085 - accuracy: 0.9972 - val_loss: 0.0091 - val_accuracy: 0.9968\n",
            "Epoch 73/100\n",
            "12/12 [==============================] - 0s 9ms/step - loss: 0.0082 - accuracy: 0.9972 - val_loss: 0.0088 - val_accuracy: 0.9968\n",
            "Epoch 74/100\n",
            "12/12 [==============================] - 0s 9ms/step - loss: 0.0079 - accuracy: 0.9972 - val_loss: 0.0084 - val_accuracy: 0.9968\n",
            "Epoch 75/100\n",
            "12/12 [==============================] - 0s 8ms/step - loss: 0.0076 - accuracy: 0.9972 - val_loss: 0.0080 - val_accuracy: 0.9969\n",
            "Epoch 76/100\n",
            "12/12 [==============================] - 0s 9ms/step - loss: 0.0073 - accuracy: 0.9972 - val_loss: 0.0078 - val_accuracy: 0.9969\n",
            "Epoch 77/100\n",
            "12/12 [==============================] - 0s 8ms/step - loss: 0.0070 - accuracy: 0.9972 - val_loss: 0.0074 - val_accuracy: 0.9969\n",
            "Epoch 78/100\n",
            "12/12 [==============================] - 0s 9ms/step - loss: 0.0067 - accuracy: 0.9972 - val_loss: 0.0071 - val_accuracy: 0.9969\n",
            "Epoch 79/100\n",
            "12/12 [==============================] - 0s 8ms/step - loss: 0.0064 - accuracy: 0.9972 - val_loss: 0.0068 - val_accuracy: 0.9969\n",
            "Epoch 80/100\n",
            "12/12 [==============================] - 0s 9ms/step - loss: 0.0061 - accuracy: 0.9972 - val_loss: 0.0065 - val_accuracy: 0.9969\n",
            "Epoch 81/100\n",
            "12/12 [==============================] - 0s 8ms/step - loss: 0.0058 - accuracy: 0.9973 - val_loss: 0.0062 - val_accuracy: 0.9970\n",
            "Epoch 82/100\n",
            "12/12 [==============================] - 0s 10ms/step - loss: 0.0056 - accuracy: 0.9973 - val_loss: 0.0059 - val_accuracy: 0.9970\n",
            "Epoch 83/100\n",
            "12/12 [==============================] - 0s 8ms/step - loss: 0.0053 - accuracy: 0.9973 - val_loss: 0.0057 - val_accuracy: 0.9970\n",
            "Epoch 84/100\n",
            "12/12 [==============================] - 0s 8ms/step - loss: 0.0051 - accuracy: 0.9973 - val_loss: 0.0054 - val_accuracy: 0.9970\n",
            "Epoch 85/100\n",
            "12/12 [==============================] - 0s 8ms/step - loss: 0.0048 - accuracy: 0.9975 - val_loss: 0.0052 - val_accuracy: 0.9971\n",
            "Epoch 86/100\n",
            "12/12 [==============================] - 0s 9ms/step - loss: 0.0046 - accuracy: 0.9975 - val_loss: 0.0049 - val_accuracy: 0.9971\n",
            "Epoch 87/100\n",
            "12/12 [==============================] - 0s 9ms/step - loss: 0.0044 - accuracy: 0.9976 - val_loss: 0.0047 - val_accuracy: 0.9973\n",
            "Epoch 88/100\n",
            "12/12 [==============================] - 0s 8ms/step - loss: 0.0042 - accuracy: 0.9976 - val_loss: 0.0045 - val_accuracy: 0.9976\n",
            "Epoch 89/100\n",
            "12/12 [==============================] - 0s 8ms/step - loss: 0.0040 - accuracy: 0.9984 - val_loss: 0.0043 - val_accuracy: 0.9974\n",
            "Epoch 90/100\n",
            "12/12 [==============================] - 0s 8ms/step - loss: 0.0038 - accuracy: 0.9979 - val_loss: 0.0040 - val_accuracy: 0.9981\n",
            "Epoch 91/100\n",
            "12/12 [==============================] - 0s 9ms/step - loss: 0.0036 - accuracy: 0.9989 - val_loss: 0.0039 - val_accuracy: 0.9976\n",
            "Epoch 92/100\n",
            "12/12 [==============================] - 0s 8ms/step - loss: 0.0035 - accuracy: 0.9988 - val_loss: 0.0036 - val_accuracy: 0.9990\n",
            "Epoch 93/100\n",
            "12/12 [==============================] - 0s 9ms/step - loss: 0.0033 - accuracy: 0.9993 - val_loss: 0.0035 - val_accuracy: 0.9989\n",
            "Epoch 94/100\n",
            "12/12 [==============================] - 0s 8ms/step - loss: 0.0031 - accuracy: 0.9994 - val_loss: 0.0033 - val_accuracy: 0.9991\n",
            "Epoch 95/100\n",
            "12/12 [==============================] - 0s 8ms/step - loss: 0.0030 - accuracy: 0.9997 - val_loss: 0.0032 - val_accuracy: 0.9991\n",
            "Epoch 96/100\n",
            "12/12 [==============================] - 0s 9ms/step - loss: 0.0029 - accuracy: 0.9997 - val_loss: 0.0030 - val_accuracy: 0.9999\n",
            "Epoch 97/100\n",
            "12/12 [==============================] - 0s 9ms/step - loss: 0.0027 - accuracy: 0.9998 - val_loss: 0.0029 - val_accuracy: 0.9999\n",
            "Epoch 98/100\n",
            "12/12 [==============================] - 0s 9ms/step - loss: 0.0026 - accuracy: 0.9999 - val_loss: 0.0028 - val_accuracy: 0.9999\n",
            "Epoch 99/100\n",
            "12/12 [==============================] - 0s 9ms/step - loss: 0.0025 - accuracy: 0.9999 - val_loss: 0.0026 - val_accuracy: 0.9999\n",
            "Epoch 100/100\n",
            "12/12 [==============================] - 0s 9ms/step - loss: 0.0024 - accuracy: 0.9999 - val_loss: 0.0025 - val_accuracy: 0.9999\n"
          ]
        }
      ],
      "source": [
        "if model_selection[model_flag]==\"ALL\" or model_selection[model_flag] == \"MLP\":\n",
        "  # training the model on training dataset\n",
        "  history = mlp.fit(X_train, y_train, epochs=100, batch_size=5000,validation_split=0.2)"
      ]
    },
    {
      "cell_type": "code",
      "execution_count": 25,
      "metadata": {
        "id": "_n_gNs3p1_M-"
      },
      "outputs": [],
      "source": [
        "if model_selection[model_flag]==\"ALL\" or model_selection[model_flag] == \"MLP\":\n",
        "  filepath = '/content/drive/MyDrive/Colab_Notebooks/Models/mlp_binary.json'\n",
        "  weightspath = '/content/drive/MyDrive/Colab_Notebooks/Weights/mlp_binary.h5'\n",
        "  if (not path.isfile(filepath)):\n",
        "    # serialize model to JSON\n",
        "    mlp_json = mlp.to_json()\n",
        "    with open(filepath, \"w\") as json_file:\n",
        "      json_file.write(mlp_json)\n",
        "\n",
        "    # serialize weights to HDF5\n",
        "    mlp.save_weights(weightspath)\n",
        "    print(\"Saved model to disk\")\n",
        "\n",
        "    # load json and create model\n",
        "    json_file = open(filepath, 'r')\n",
        "    loaded_model_json = json_file.read()\n",
        "    json_file.close()\n",
        "    mlp = model_from_json(loaded_model_json)\n",
        "\n",
        "    # load weights into new model\n",
        "    mlp.load_weights(weightspath)\n",
        "    print(\"Loaded model from disk\")"
      ]
    },
    {
      "cell_type": "code",
      "execution_count": 26,
      "metadata": {
        "id": "G99OrVcT2JON"
      },
      "outputs": [],
      "source": [
        "if model_selection[model_flag]==\"ALL\" or model_selection[model_flag] == \"MLP\":\n",
        "  # defining loss function, optimizer, metrics and then compiling model\n",
        "  mlp.compile(loss='binary_crossentropy', optimizer='adam', metrics=['accuracy'])"
      ]
    },
    {
      "cell_type": "code",
      "execution_count": 27,
      "metadata": {
        "id": "AXUA0T2N2OIB",
        "colab": {
          "base_uri": "https://localhost:8080/"
        },
        "outputId": "5c5ec801-a576-455f-cc15-1bac2f4a600d"
      },
      "outputs": [
        {
          "output_type": "stream",
          "name": "stdout",
          "text": [
            "782/782 [==============================] - 2s 2ms/step - loss: 20078546872677957632.0000 - accuracy: 0.4590\n",
            "Test results - Loss: 2.0078546872677958e+19 - Accuracy: 45.903998613357544\n"
          ]
        }
      ],
      "source": [
        "if model_selection[model_flag]==\"ALL\" or model_selection[model_flag] == \"MLP\":\n",
        "  # predicting target attribute on testing dataset\n",
        "  test_results = mlp.evaluate(X_test, y_test, verbose=1)\n",
        "  print(f'Test results - Loss: {test_results[0]} - Accuracy: {test_results[1]*100}')"
      ]
    },
    {
      "cell_type": "code",
      "execution_count": 28,
      "metadata": {
        "id": "StFTrhE65_-q",
        "colab": {
          "base_uri": "https://localhost:8080/",
          "height": 472
        },
        "outputId": "3552d2fc-1d37-4a42-b274-ef647220a99f"
      },
      "outputs": [
        {
          "output_type": "display_data",
          "data": {
            "text/plain": [
              "<Figure size 640x480 with 1 Axes>"
            ],
            "image/png": "[encoded data removed]"
          },
          "metadata": {}
        }
      ],
      "source": [
        "if model_selection[model_flag]==\"ALL\" or model_selection[model_flag] == \"MLP\":  \n",
        "  # Plot of accuracy vs epoch of train and test dataset\n",
        "  plt.plot(history.history['accuracy'])\n",
        "  plt.plot(history.history['val_accuracy'])\n",
        "  plt.title(\"Plot of accuracy vs epoch for train and test dataset\")\n",
        "  plt.ylabel('accuracy')\n",
        "  plt.xlabel('epoch')\n",
        "  plt.legend(['train', 'test'], loc='best')\n",
        "  plt.savefig('/content/drive/MyDrive/Colab_Notebooks/Plots/mlp_binary_accuracy.png')\n",
        "  plt.show()"
      ]
    },
    {
      "cell_type": "code",
      "execution_count": 29,
      "metadata": {
        "id": "rZes4PzY6JUq",
        "colab": {
          "base_uri": "https://localhost:8080/",
          "height": 472
        },
        "outputId": "3edc29b3-5afe-4f8c-e879-d18ecb1f4514"
      },
      "outputs": [
        {
          "output_type": "display_data",
          "data": {
            "text/plain": [
              "<Figure size 640x480 with 1 Axes>"
            ],
            "image/png": "[encoded data removed]"
          },
          "metadata": {}
        }
      ],
      "source": [
        "if model_selection[model_flag]==\"ALL\" or model_selection[model_flag] == \"MLP\":\n",
        "  # Plot of loss vs epoch of train and test dataset\n",
        "  plt.plot(history.history['loss'])\n",
        "  plt.plot(history.history['val_loss'])\n",
        "  plt.title('Plot of loss vs epoch for train and test dataset')\n",
        "  plt.ylabel('loss')\n",
        "  plt.xlabel('epoch')\n",
        "  plt.legend(['train', 'test'], loc='best')\n",
        "  plt.savefig('/content/drive/MyDrive/Colab_Notebooks/Plots/mlp_binary_loss.png')\n",
        "  plt.show()"
      ]
    },
    {
      "cell_type": "code",
      "execution_count": 30,
      "metadata": {
        "id": "mC0nj-on6iRU"
      },
      "outputs": [],
      "source": [
        "if model_selection[model_flag]==\"ALL\" or model_selection[model_flag] == \"MLP\":\n",
        "  # representation of model layers\n",
        "  from keras.utils.vis_utils import plot_model\n",
        "  plot_model(mlp, to_file='/content/drive/MyDrive/Colab_Notebooks/Plots/mlp_binary.png', show_shapes=True,)"
      ]
    },
    {
      "cell_type": "code",
      "execution_count": 31,
      "metadata": {
        "id": "oxHdln0c6Xi_",
        "colab": {
          "base_uri": "https://localhost:8080/"
        },
        "outputId": "9e0c3170-896b-485b-e2a2-42003ab01657"
      },
      "outputs": [
        {
          "output_type": "stream",
          "name": "stdout",
          "text": [
            "782/782 [==============================] - 1s 1ms/step\n"
          ]
        }
      ],
      "source": [
        "if model_selection[model_flag]==\"ALL\" or model_selection[model_flag] == \"MLP\":\n",
        "  y_pred = mlp.predict(X_test).ravel()\n",
        "  fpr, tpr, thresholds = roc_curve(y_test, y_pred)\n",
        "  auc = auc(fpr, tpr)"
      ]
    },
    {
      "cell_type": "code",
      "execution_count": 32,
      "metadata": {
        "id": "Cr36q9Z-6aRU",
        "colab": {
          "base_uri": "https://localhost:8080/",
          "height": 472
        },
        "outputId": "7348a632-0ede-45c9-de1e-c2465731c35b"
      },
      "outputs": [
        {
          "output_type": "display_data",
          "data": {
            "text/plain": [
              "<Figure size 640x480 with 1 Axes>"
            ],
            "image/png": "[encoded data removed]"
          },
          "metadata": {}
        }
      ],
      "source": [
        "if model_selection[model_flag]==\"ALL\" or model_selection[model_flag] == \"MLP\":\n",
        "  plt.plot([0, 1], [0, 1], 'k--')\n",
        "  plt.plot(fpr, tpr, label='Keras (area = {:.3f})'.format(auc))\n",
        "  plt.xlabel('False positive rate')\n",
        "  plt.ylabel('True positive rate')\n",
        "  plt.title('ROC curve')\n",
        "  plt.legend(loc='best')\n",
        "  plt.savefig('/content/drive/MyDrive/Colab_Notebooks/Plots/mlp_binary_roc.png')\n",
        "  plt.show()"
      ]
    },
    {
      "cell_type": "code",
      "execution_count": 33,
      "metadata": {
        "id": "U9f2bWPwFljk"
      },
      "outputs": [],
      "source": [
        "# real_data_kdd = bin_data.copy()\n",
        "\n",
        "# # Names of the columns that are discrete\n",
        "# cat_cols = real_data_kdd.select_dtypes(['object']).columns\n",
        "# # cat_cols\n",
        "# test_data = real_data_kdd.iloc[:999]\n",
        "\n",
        "# corr= test_data.corr()\n",
        "# corr_y = abs(corr['label'])\n",
        "# highest_corr = corr_y\n",
        "# highest_corr.sort_values(ascending=True)"
      ]
    },
    {
      "cell_type": "code",
      "execution_count": 34,
      "metadata": {
        "id": "8-clVdUoUPa-",
        "colab": {
          "base_uri": "https://localhost:8080/"
        },
        "outputId": "59a2cfca-9981-4b85-bd74-34b0cfdcbbe0"
      },
      "outputs": [
        {
          "output_type": "stream",
          "name": "stdout",
          "text": [
            "782/782 [==============================] - 2s 2ms/step\n"
          ]
        }
      ],
      "source": [
        "if model_selection[model_flag]==\"ALL\" or model_selection[model_flag] == \"MLP\":\n",
        "  y_classes = (mlp.predict(X_test)>0.5).astype('int32')"
      ]
    },
    {
      "cell_type": "code",
      "execution_count": 35,
      "metadata": {
        "id": "0jcFqEqFT-uq",
        "colab": {
          "base_uri": "https://localhost:8080/"
        },
        "outputId": "7420ba58-cd94-4780-bf0a-d2bd4d81d674"
      },
      "outputs": [
        {
          "output_type": "stream",
          "name": "stdout",
          "text": [
            "Recall Score -  0.9939778470803312\n",
            "F1 Score -  0.5775070290534208\n",
            "Precision Score -  0.406983400114482\n"
          ]
        }
      ],
      "source": [
        "if model_selection[model_flag]==\"ALL\" or model_selection[model_flag] == \"MLP\":\n",
        "  print(\"Recall Score - \",recall_score(y_test,y_classes))\n",
        "  print(\"F1 Score - \",f1_score(y_test,y_classes))\n",
        "  print(\"Precision Score - \",precision_score(y_test,y_classes))"
      ]
    },
    {
      "cell_type": "code",
      "source": [
        "print(classification_report(y_test, y_classes, target_names=['0', '1']))\n",
        "cm = confusion_matrix(y_test, y_classes)\n",
        "disp = ConfusionMatrixDisplay(confusion_matrix=cm,\n",
        "                              display_labels=['0', '1'])\n",
        "disp.plot()\n",
        "\n",
        "plt.show()"
      ],
      "metadata": {
        "id": "3HJB6IXJsxjg",
        "colab": {
          "base_uri": "https://localhost:8080/",
          "height": 610
        },
        "outputId": "8d9b1df8-0e32-4ae7-ff25-a5b758bd893d"
      },
      "execution_count": 36,
      "outputs": [
        {
          "output_type": "stream",
          "name": "stdout",
          "text": [
            "              precision    recall  f1-score   support\n",
            "\n",
            "           0       0.98      0.14      0.25     15701\n",
            "           1       0.41      0.99      0.58      9299\n",
            "\n",
            "    accuracy                           0.46     25000\n",
            "   macro avg       0.69      0.57      0.41     25000\n",
            "weighted avg       0.76      0.46      0.37     25000\n",
            "\n"
          ]
        },
        {
          "output_type": "display_data",
          "data": {
            "text/plain": [
              "<Figure size 640x480 with 2 Axes>"
            ],
            "image/png": "[encoded data removed]"
          },
          "metadata": {}
        }
      ]
    },
    {
      "cell_type": "markdown",
      "source": [
        "# **Correlation** Matrix of Features"
      ],
      "metadata": {
        "id": "j7BKdCwqs2RE"
      }
    },
    {
      "cell_type": "code",
      "execution_count": 37,
      "metadata": {
        "id": "TL8zt-tHLt90",
        "colab": {
          "base_uri": "https://localhost:8080/"
        },
        "outputId": "9d01a3b1-cf52-49af-e35d-cd250f99de24"
      },
      "outputs": [
        {
          "output_type": "execute_result",
          "data": {
            "text/plain": [
              "X63      0.319690\n",
              "X85      0.479742\n",
              "X106     0.502142\n",
              "X92      0.503958\n",
              "X99      0.512200\n",
              "           ...   \n",
              "X1       0.979972\n",
              "X16      0.980124\n",
              "X66      0.980124\n",
              "X31      0.980124\n",
              "label    1.000000\n",
              "Name: label, Length: 88, dtype: float64"
            ]
          },
          "metadata": {},
          "execution_count": 37
        }
      ],
      "source": [
        "corr= bin_data.corr()\n",
        "corr_y = abs(corr['label'])\n",
        "highest_corr = corr_y[corr_y >0.3]\n",
        "highest_corr.sort_values(ascending=True)"
      ]
    },
    {
      "cell_type": "code",
      "source": [
        "plt.matshow(corr)\n",
        "plt.show()"
      ],
      "metadata": {
        "colab": {
          "base_uri": "https://localhost:8080/",
          "height": 437
        },
        "id": "q4b094WVtQQ7",
        "outputId": "e6572d4e-4b4e-4cc5-b27c-8888243c3f99"
      },
      "execution_count": 38,
      "outputs": [
        {
          "output_type": "display_data",
          "data": {
            "text/plain": [
              "<Figure size 480x480 with 1 Axes>"
            ],
            "image/png": "[encoded data removed]"
          },
          "metadata": {}
        }
      ]
    },
    {
      "cell_type": "markdown",
      "metadata": {
        "id": "ZHhtNjFLPj6Y"
      },
      "source": [
        "## **LSTM Classifier**"
      ]
    },
    {
      "cell_type": "code",
      "execution_count": 39,
      "metadata": {
        "id": "DTNPkQMNL5Eh",
        "colab": {
          "base_uri": "https://localhost:8080/"
        },
        "outputId": "37218fd0-8229-455e-b783-35681134aa9a"
      },
      "outputs": [
        {
          "output_type": "execute_result",
          "data": {
            "text/plain": [
              "(74999, 116)"
            ]
          },
          "metadata": {},
          "execution_count": 39
        }
      ],
      "source": [
        "X_train = np.array(X_train)\n",
        "X_test = np.array(X_test)\n",
        "# y_train.shape   #(18896,)\n",
        "X_train.shape"
      ]
    },
    {
      "cell_type": "code",
      "execution_count": 40,
      "metadata": {
        "id": "9n-QlBDXPMl4",
        "colab": {
          "base_uri": "https://localhost:8080/"
        },
        "outputId": "f005b32b-420b-4862-c4e1-3000a4f6b460"
      },
      "outputs": [
        {
          "output_type": "execute_result",
          "data": {
            "text/plain": [
              "numpy.ndarray"
            ]
          },
          "metadata": {},
          "execution_count": 40
        }
      ],
      "source": [
        "y_train = np.array(y_train)\n",
        "type(y_train)"
      ]
    },
    {
      "cell_type": "code",
      "execution_count": 41,
      "metadata": {
        "id": "-8Ro_ZRQPdZz",
        "colab": {
          "base_uri": "https://localhost:8080/"
        },
        "outputId": "16fe5db2-b328-4860-dcfe-aa585b5b9f35"
      },
      "outputs": [
        {
          "output_type": "execute_result",
          "data": {
            "text/plain": [
              "(74999, 1, 116)"
            ]
          },
          "metadata": {},
          "execution_count": 41
        }
      ],
      "source": [
        "x_train = np.reshape(X_train, (X_train.shape[0],1,X_train.shape[1]))\n",
        "x_train.shape"
      ]
    },
    {
      "cell_type": "code",
      "source": [
        "x_train.shape[2]"
      ],
      "metadata": {
        "colab": {
          "base_uri": "https://localhost:8080/"
        },
        "id": "EuvuETcGpkje",
        "outputId": "bd077b72-eccb-4500-b191-d370c72aaf8a"
      },
      "execution_count": 42,
      "outputs": [
        {
          "output_type": "execute_result",
          "data": {
            "text/plain": [
              "116"
            ]
          },
          "metadata": {},
          "execution_count": 42
        }
      ]
    },
    {
      "cell_type": "code",
      "execution_count": 43,
      "metadata": {
        "id": "pLIl946zQQwG",
        "colab": {
          "base_uri": "https://localhost:8080/"
        },
        "outputId": "c351f782-c159-4340-a6e9-1b3fdfe80e2c"
      },
      "outputs": [
        {
          "output_type": "execute_result",
          "data": {
            "text/plain": [
              "(25000, 1, 116)"
            ]
          },
          "metadata": {},
          "execution_count": 43
        }
      ],
      "source": [
        "x_test = np.reshape(X_test, (X_test.shape[0],1,X_test.shape[1]))\n",
        "x_test.shape"
      ]
    },
    {
      "cell_type": "code",
      "execution_count": 44,
      "metadata": {
        "id": "jWsrkPEmQcY7"
      },
      "outputs": [],
      "source": [
        "if model_selection[model_flag]==\"ALL\" or model_selection[model_flag] == \"LSTM\":\n",
        "  lst = Sequential()\n",
        "  # input layer and LSTM layer with 50 neurons\n",
        "  input_features = x_train.shape[2]\n",
        "  lst.add(LSTM(50,input_dim=input_features))\n",
        "\n",
        "  # outpute layer with sigmoid activation\n",
        "  lst.add(Dense(1,activation='sigmoid'))"
      ]
    },
    {
      "cell_type": "code",
      "execution_count": 45,
      "metadata": {
        "id": "UEmba1H9Q_qj"
      },
      "outputs": [],
      "source": [
        "if model_selection[model_flag]==\"ALL\" or model_selection[model_flag] == \"LSTM\":\n",
        "  # defining loss function, optimizer, metrics and then compiling model\n",
        "  lst.compile(loss='binary_crossentropy',optimizer='adam',metrics=['accuracy'])"
      ]
    },
    {
      "cell_type": "code",
      "execution_count": 46,
      "metadata": {
        "id": "anR58jV2RCtz",
        "colab": {
          "base_uri": "https://localhost:8080/"
        },
        "outputId": "02fd4701-4b71-4163-c9a0-805857978aa5"
      },
      "outputs": [
        {
          "output_type": "stream",
          "name": "stdout",
          "text": [
            "Model: \"sequential_1\"\n",
            "_________________________________________________________________\n",
            " Layer (type)                Output Shape              Param #   \n",
            "=================================================================\n",
            " lstm (LSTM)                 (None, 50)                33400     \n",
            "                                                                 \n",
            " dense_2 (Dense)             (None, 1)                 51        \n",
            "                                                                 \n",
            "=================================================================\n",
            "Total params: 33,451\n",
            "Trainable params: 33,451\n",
            "Non-trainable params: 0\n",
            "_________________________________________________________________\n"
          ]
        }
      ],
      "source": [
        "if model_selection[model_flag]==\"ALL\" or model_selection[model_flag] == \"LSTM\":\n",
        "  # summary of model layers\n",
        "  lst.summary()"
      ]
    },
    {
      "cell_type": "code",
      "execution_count": 47,
      "metadata": {
        "id": "_Pa4Qi12RJS_",
        "colab": {
          "base_uri": "https://localhost:8080/"
        },
        "outputId": "2492ba77-7bf5-4482-b5b4-4dd47760b309"
      },
      "outputs": [
        {
          "output_type": "stream",
          "name": "stdout",
          "text": [
            "Epoch 1/100\n",
            "12/12 [==============================] - 3s 51ms/step - loss: 0.5271 - accuracy: 0.8273 - val_loss: 0.3112 - val_accuracy: 0.9911\n",
            "Epoch 2/100\n",
            "12/12 [==============================] - 0s 8ms/step - loss: 0.2328 - accuracy: 0.9921 - val_loss: 0.1700 - val_accuracy: 0.9931\n",
            "Epoch 3/100\n",
            "12/12 [==============================] - 0s 9ms/step - loss: 0.1408 - accuracy: 0.9929 - val_loss: 0.1147 - val_accuracy: 0.9934\n",
            "Epoch 4/100\n",
            "12/12 [==============================] - 0s 8ms/step - loss: 0.0996 - accuracy: 0.9930 - val_loss: 0.0854 - val_accuracy: 0.9934\n",
            "Epoch 5/100\n",
            "12/12 [==============================] - 0s 9ms/step - loss: 0.0765 - accuracy: 0.9930 - val_loss: 0.0681 - val_accuracy: 0.9935\n",
            "Epoch 6/100\n",
            "12/12 [==============================] - 0s 8ms/step - loss: 0.0624 - accuracy: 0.9932 - val_loss: 0.0572 - val_accuracy: 0.9935\n",
            "Epoch 7/100\n",
            "12/12 [==============================] - 0s 9ms/step - loss: 0.0531 - accuracy: 0.9933 - val_loss: 0.0498 - val_accuracy: 0.9935\n",
            "Epoch 8/100\n",
            "12/12 [==============================] - 0s 8ms/step - loss: 0.0466 - accuracy: 0.9933 - val_loss: 0.0445 - val_accuracy: 0.9935\n",
            "Epoch 9/100\n",
            "12/12 [==============================] - 0s 13ms/step - loss: 0.0419 - accuracy: 0.9933 - val_loss: 0.0406 - val_accuracy: 0.9935\n",
            "Epoch 10/100\n",
            "12/12 [==============================] - 0s 8ms/step - loss: 0.0383 - accuracy: 0.9933 - val_loss: 0.0376 - val_accuracy: 0.9935\n",
            "Epoch 11/100\n",
            "12/12 [==============================] - 0s 8ms/step - loss: 0.0355 - accuracy: 0.9933 - val_loss: 0.0352 - val_accuracy: 0.9935\n",
            "Epoch 12/100\n",
            "12/12 [==============================] - 0s 8ms/step - loss: 0.0333 - accuracy: 0.9933 - val_loss: 0.0333 - val_accuracy: 0.9935\n",
            "Epoch 13/100\n",
            "12/12 [==============================] - 0s 10ms/step - loss: 0.0315 - accuracy: 0.9934 - val_loss: 0.0318 - val_accuracy: 0.9939\n",
            "Epoch 14/100\n",
            "12/12 [==============================] - 0s 9ms/step - loss: 0.0301 - accuracy: 0.9937 - val_loss: 0.0306 - val_accuracy: 0.9941\n",
            "Epoch 15/100\n",
            "12/12 [==============================] - 0s 8ms/step - loss: 0.0289 - accuracy: 0.9940 - val_loss: 0.0295 - val_accuracy: 0.9941\n",
            "Epoch 16/100\n",
            "12/12 [==============================] - 0s 8ms/step - loss: 0.0279 - accuracy: 0.9943 - val_loss: 0.0286 - val_accuracy: 0.9945\n",
            "Epoch 17/100\n",
            "12/12 [==============================] - 0s 8ms/step - loss: 0.0271 - accuracy: 0.9947 - val_loss: 0.0279 - val_accuracy: 0.9949\n",
            "Epoch 18/100\n",
            "12/12 [==============================] - 0s 8ms/step - loss: 0.0264 - accuracy: 0.9949 - val_loss: 0.0272 - val_accuracy: 0.9950\n",
            "Epoch 19/100\n",
            "12/12 [==============================] - 0s 9ms/step - loss: 0.0257 - accuracy: 0.9951 - val_loss: 0.0267 - val_accuracy: 0.9952\n",
            "Epoch 20/100\n",
            "12/12 [==============================] - 0s 8ms/step - loss: 0.0252 - accuracy: 0.9953 - val_loss: 0.0262 - val_accuracy: 0.9953\n",
            "Epoch 21/100\n",
            "12/12 [==============================] - 0s 9ms/step - loss: 0.0247 - accuracy: 0.9955 - val_loss: 0.0257 - val_accuracy: 0.9953\n",
            "Epoch 22/100\n",
            "12/12 [==============================] - 0s 10ms/step - loss: 0.0243 - accuracy: 0.9955 - val_loss: 0.0253 - val_accuracy: 0.9953\n",
            "Epoch 23/100\n",
            "12/12 [==============================] - 0s 12ms/step - loss: 0.0239 - accuracy: 0.9955 - val_loss: 0.0250 - val_accuracy: 0.9953\n",
            "Epoch 24/100\n",
            "12/12 [==============================] - 0s 12ms/step - loss: 0.0235 - accuracy: 0.9956 - val_loss: 0.0246 - val_accuracy: 0.9954\n",
            "Epoch 25/100\n",
            "12/12 [==============================] - 0s 13ms/step - loss: 0.0232 - accuracy: 0.9957 - val_loss: 0.0243 - val_accuracy: 0.9954\n",
            "Epoch 26/100\n",
            "12/12 [==============================] - 0s 13ms/step - loss: 0.0229 - accuracy: 0.9957 - val_loss: 0.0240 - val_accuracy: 0.9954\n",
            "Epoch 27/100\n",
            "12/12 [==============================] - 0s 12ms/step - loss: 0.0226 - accuracy: 0.9957 - val_loss: 0.0238 - val_accuracy: 0.9955\n",
            "Epoch 28/100\n",
            "12/12 [==============================] - 0s 11ms/step - loss: 0.0223 - accuracy: 0.9957 - val_loss: 0.0235 - val_accuracy: 0.9955\n",
            "Epoch 29/100\n",
            "12/12 [==============================] - 0s 12ms/step - loss: 0.0221 - accuracy: 0.9957 - val_loss: 0.0233 - val_accuracy: 0.9955\n",
            "Epoch 30/100\n",
            "12/12 [==============================] - 0s 11ms/step - loss: 0.0219 - accuracy: 0.9957 - val_loss: 0.0231 - val_accuracy: 0.9955\n",
            "Epoch 31/100\n",
            "12/12 [==============================] - 0s 12ms/step - loss: 0.0217 - accuracy: 0.9958 - val_loss: 0.0229 - val_accuracy: 0.9955\n",
            "Epoch 32/100\n",
            "12/12 [==============================] - 0s 12ms/step - loss: 0.0215 - accuracy: 0.9958 - val_loss: 0.0227 - val_accuracy: 0.9955\n",
            "Epoch 33/100\n",
            "12/12 [==============================] - 0s 13ms/step - loss: 0.0213 - accuracy: 0.9958 - val_loss: 0.0225 - val_accuracy: 0.9955\n",
            "Epoch 34/100\n",
            "12/12 [==============================] - 0s 13ms/step - loss: 0.0212 - accuracy: 0.9958 - val_loss: 0.0224 - val_accuracy: 0.9955\n",
            "Epoch 35/100\n",
            "12/12 [==============================] - 0s 12ms/step - loss: 0.0210 - accuracy: 0.9958 - val_loss: 0.0222 - val_accuracy: 0.9955\n",
            "Epoch 36/100\n",
            "12/12 [==============================] - 0s 11ms/step - loss: 0.0209 - accuracy: 0.9958 - val_loss: 0.0220 - val_accuracy: 0.9955\n",
            "Epoch 37/100\n",
            "12/12 [==============================] - 0s 11ms/step - loss: 0.0207 - accuracy: 0.9958 - val_loss: 0.0218 - val_accuracy: 0.9955\n",
            "Epoch 38/100\n",
            "12/12 [==============================] - 0s 12ms/step - loss: 0.0206 - accuracy: 0.9958 - val_loss: 0.0217 - val_accuracy: 0.9955\n",
            "Epoch 39/100\n",
            "12/12 [==============================] - 0s 11ms/step - loss: 0.0204 - accuracy: 0.9958 - val_loss: 0.0215 - val_accuracy: 0.9955\n",
            "Epoch 40/100\n",
            "12/12 [==============================] - 0s 12ms/step - loss: 0.0203 - accuracy: 0.9958 - val_loss: 0.0214 - val_accuracy: 0.9955\n",
            "Epoch 41/100\n",
            "12/12 [==============================] - 0s 13ms/step - loss: 0.0202 - accuracy: 0.9958 - val_loss: 0.0213 - val_accuracy: 0.9955\n",
            "Epoch 42/100\n",
            "12/12 [==============================] - 0s 11ms/step - loss: 0.0201 - accuracy: 0.9958 - val_loss: 0.0212 - val_accuracy: 0.9955\n",
            "Epoch 43/100\n",
            "12/12 [==============================] - 0s 13ms/step - loss: 0.0200 - accuracy: 0.9958 - val_loss: 0.0211 - val_accuracy: 0.9956\n",
            "Epoch 44/100\n",
            "12/12 [==============================] - 0s 11ms/step - loss: 0.0199 - accuracy: 0.9958 - val_loss: 0.0210 - val_accuracy: 0.9956\n",
            "Epoch 45/100\n",
            "12/12 [==============================] - 0s 12ms/step - loss: 0.0198 - accuracy: 0.9959 - val_loss: 0.0208 - val_accuracy: 0.9956\n",
            "Epoch 46/100\n",
            "12/12 [==============================] - 0s 10ms/step - loss: 0.0197 - accuracy: 0.9959 - val_loss: 0.0207 - val_accuracy: 0.9957\n",
            "Epoch 47/100\n",
            "12/12 [==============================] - 0s 9ms/step - loss: 0.0196 - accuracy: 0.9959 - val_loss: 0.0206 - val_accuracy: 0.9957\n",
            "Epoch 48/100\n",
            "12/12 [==============================] - 0s 9ms/step - loss: 0.0195 - accuracy: 0.9959 - val_loss: 0.0205 - val_accuracy: 0.9957\n",
            "Epoch 49/100\n",
            "12/12 [==============================] - 0s 8ms/step - loss: 0.0194 - accuracy: 0.9959 - val_loss: 0.0204 - val_accuracy: 0.9956\n",
            "Epoch 50/100\n",
            "12/12 [==============================] - 0s 9ms/step - loss: 0.0193 - accuracy: 0.9959 - val_loss: 0.0203 - val_accuracy: 0.9957\n",
            "Epoch 51/100\n",
            "12/12 [==============================] - 0s 9ms/step - loss: 0.0192 - accuracy: 0.9959 - val_loss: 0.0202 - val_accuracy: 0.9957\n",
            "Epoch 52/100\n",
            "12/12 [==============================] - 0s 8ms/step - loss: 0.0191 - accuracy: 0.9959 - val_loss: 0.0201 - val_accuracy: 0.9957\n",
            "Epoch 53/100\n",
            "12/12 [==============================] - 0s 9ms/step - loss: 0.0190 - accuracy: 0.9959 - val_loss: 0.0200 - val_accuracy: 0.9958\n",
            "Epoch 54/100\n",
            "12/12 [==============================] - 0s 8ms/step - loss: 0.0189 - accuracy: 0.9959 - val_loss: 0.0200 - val_accuracy: 0.9959\n",
            "Epoch 55/100\n",
            "12/12 [==============================] - 0s 8ms/step - loss: 0.0188 - accuracy: 0.9959 - val_loss: 0.0198 - val_accuracy: 0.9959\n",
            "Epoch 56/100\n",
            "12/12 [==============================] - 0s 9ms/step - loss: 0.0187 - accuracy: 0.9959 - val_loss: 0.0197 - val_accuracy: 0.9959\n",
            "Epoch 57/100\n",
            "12/12 [==============================] - 0s 8ms/step - loss: 0.0186 - accuracy: 0.9959 - val_loss: 0.0196 - val_accuracy: 0.9961\n",
            "Epoch 58/100\n",
            "12/12 [==============================] - 0s 9ms/step - loss: 0.0185 - accuracy: 0.9959 - val_loss: 0.0195 - val_accuracy: 0.9961\n",
            "Epoch 59/100\n",
            "12/12 [==============================] - 0s 8ms/step - loss: 0.0184 - accuracy: 0.9960 - val_loss: 0.0194 - val_accuracy: 0.9961\n",
            "Epoch 60/100\n",
            "12/12 [==============================] - 0s 9ms/step - loss: 0.0183 - accuracy: 0.9960 - val_loss: 0.0193 - val_accuracy: 0.9961\n",
            "Epoch 61/100\n",
            "12/12 [==============================] - 0s 9ms/step - loss: 0.0182 - accuracy: 0.9960 - val_loss: 0.0192 - val_accuracy: 0.9961\n",
            "Epoch 62/100\n",
            "12/12 [==============================] - 0s 9ms/step - loss: 0.0181 - accuracy: 0.9960 - val_loss: 0.0191 - val_accuracy: 0.9961\n",
            "Epoch 63/100\n",
            "12/12 [==============================] - 0s 10ms/step - loss: 0.0180 - accuracy: 0.9960 - val_loss: 0.0190 - val_accuracy: 0.9961\n",
            "Epoch 64/100\n",
            "12/12 [==============================] - 0s 8ms/step - loss: 0.0179 - accuracy: 0.9960 - val_loss: 0.0189 - val_accuracy: 0.9961\n",
            "Epoch 65/100\n",
            "12/12 [==============================] - 0s 8ms/step - loss: 0.0178 - accuracy: 0.9960 - val_loss: 0.0188 - val_accuracy: 0.9961\n",
            "Epoch 66/100\n",
            "12/12 [==============================] - 0s 9ms/step - loss: 0.0177 - accuracy: 0.9960 - val_loss: 0.0187 - val_accuracy: 0.9961\n",
            "Epoch 67/100\n",
            "12/12 [==============================] - 0s 9ms/step - loss: 0.0175 - accuracy: 0.9960 - val_loss: 0.0185 - val_accuracy: 0.9961\n",
            "Epoch 68/100\n",
            "12/12 [==============================] - 0s 8ms/step - loss: 0.0174 - accuracy: 0.9960 - val_loss: 0.0184 - val_accuracy: 0.9961\n",
            "Epoch 69/100\n",
            "12/12 [==============================] - 0s 8ms/step - loss: 0.0173 - accuracy: 0.9960 - val_loss: 0.0182 - val_accuracy: 0.9961\n",
            "Epoch 70/100\n",
            "12/12 [==============================] - 0s 9ms/step - loss: 0.0171 - accuracy: 0.9960 - val_loss: 0.0181 - val_accuracy: 0.9961\n",
            "Epoch 71/100\n",
            "12/12 [==============================] - 0s 9ms/step - loss: 0.0170 - accuracy: 0.9960 - val_loss: 0.0180 - val_accuracy: 0.9961\n",
            "Epoch 72/100\n",
            "12/12 [==============================] - 0s 9ms/step - loss: 0.0169 - accuracy: 0.9960 - val_loss: 0.0178 - val_accuracy: 0.9961\n",
            "Epoch 73/100\n",
            "12/12 [==============================] - 0s 8ms/step - loss: 0.0167 - accuracy: 0.9961 - val_loss: 0.0177 - val_accuracy: 0.9961\n",
            "Epoch 74/100\n",
            "12/12 [==============================] - 0s 8ms/step - loss: 0.0165 - accuracy: 0.9961 - val_loss: 0.0175 - val_accuracy: 0.9961\n",
            "Epoch 75/100\n",
            "12/12 [==============================] - 0s 8ms/step - loss: 0.0164 - accuracy: 0.9961 - val_loss: 0.0173 - val_accuracy: 0.9961\n",
            "Epoch 76/100\n",
            "12/12 [==============================] - 0s 8ms/step - loss: 0.0162 - accuracy: 0.9961 - val_loss: 0.0172 - val_accuracy: 0.9961\n",
            "Epoch 77/100\n",
            "12/12 [==============================] - 0s 10ms/step - loss: 0.0161 - accuracy: 0.9961 - val_loss: 0.0170 - val_accuracy: 0.9961\n",
            "Epoch 78/100\n",
            "12/12 [==============================] - 0s 10ms/step - loss: 0.0159 - accuracy: 0.9961 - val_loss: 0.0169 - val_accuracy: 0.9961\n",
            "Epoch 79/100\n",
            "12/12 [==============================] - 0s 9ms/step - loss: 0.0158 - accuracy: 0.9961 - val_loss: 0.0167 - val_accuracy: 0.9961\n",
            "Epoch 80/100\n",
            "12/12 [==============================] - 0s 10ms/step - loss: 0.0156 - accuracy: 0.9961 - val_loss: 0.0165 - val_accuracy: 0.9961\n",
            "Epoch 81/100\n",
            "12/12 [==============================] - 0s 9ms/step - loss: 0.0155 - accuracy: 0.9961 - val_loss: 0.0164 - val_accuracy: 0.9961\n",
            "Epoch 82/100\n",
            "12/12 [==============================] - 0s 8ms/step - loss: 0.0153 - accuracy: 0.9961 - val_loss: 0.0162 - val_accuracy: 0.9961\n",
            "Epoch 83/100\n",
            "12/12 [==============================] - 0s 9ms/step - loss: 0.0151 - accuracy: 0.9961 - val_loss: 0.0160 - val_accuracy: 0.9961\n",
            "Epoch 84/100\n",
            "12/12 [==============================] - 0s 8ms/step - loss: 0.0150 - accuracy: 0.9961 - val_loss: 0.0159 - val_accuracy: 0.9961\n",
            "Epoch 85/100\n",
            "12/12 [==============================] - 0s 9ms/step - loss: 0.0148 - accuracy: 0.9961 - val_loss: 0.0157 - val_accuracy: 0.9961\n",
            "Epoch 86/100\n",
            "12/12 [==============================] - 0s 9ms/step - loss: 0.0146 - accuracy: 0.9961 - val_loss: 0.0155 - val_accuracy: 0.9963\n",
            "Epoch 87/100\n",
            "12/12 [==============================] - 0s 10ms/step - loss: 0.0144 - accuracy: 0.9961 - val_loss: 0.0153 - val_accuracy: 0.9962\n",
            "Epoch 88/100\n",
            "12/12 [==============================] - 0s 9ms/step - loss: 0.0143 - accuracy: 0.9961 - val_loss: 0.0151 - val_accuracy: 0.9963\n",
            "Epoch 89/100\n",
            "12/12 [==============================] - 0s 8ms/step - loss: 0.0141 - accuracy: 0.9961 - val_loss: 0.0150 - val_accuracy: 0.9963\n",
            "Epoch 90/100\n",
            "12/12 [==============================] - 0s 9ms/step - loss: 0.0139 - accuracy: 0.9962 - val_loss: 0.0147 - val_accuracy: 0.9963\n",
            "Epoch 91/100\n",
            "12/12 [==============================] - 0s 12ms/step - loss: 0.0137 - accuracy: 0.9964 - val_loss: 0.0145 - val_accuracy: 0.9963\n",
            "Epoch 92/100\n",
            "12/12 [==============================] - 0s 15ms/step - loss: 0.0135 - accuracy: 0.9965 - val_loss: 0.0143 - val_accuracy: 0.9963\n",
            "Epoch 93/100\n",
            "12/12 [==============================] - 0s 12ms/step - loss: 0.0133 - accuracy: 0.9964 - val_loss: 0.0141 - val_accuracy: 0.9963\n",
            "Epoch 94/100\n",
            "12/12 [==============================] - 0s 12ms/step - loss: 0.0131 - accuracy: 0.9966 - val_loss: 0.0139 - val_accuracy: 0.9963\n",
            "Epoch 95/100\n",
            "12/12 [==============================] - 0s 11ms/step - loss: 0.0129 - accuracy: 0.9964 - val_loss: 0.0137 - val_accuracy: 0.9963\n",
            "Epoch 96/100\n",
            "12/12 [==============================] - 0s 11ms/step - loss: 0.0127 - accuracy: 0.9965 - val_loss: 0.0135 - val_accuracy: 0.9963\n",
            "Epoch 97/100\n",
            "12/12 [==============================] - 0s 11ms/step - loss: 0.0125 - accuracy: 0.9965 - val_loss: 0.0133 - val_accuracy: 0.9963\n",
            "Epoch 98/100\n",
            "12/12 [==============================] - 0s 11ms/step - loss: 0.0123 - accuracy: 0.9965 - val_loss: 0.0131 - val_accuracy: 0.9963\n",
            "Epoch 99/100\n",
            "12/12 [==============================] - 0s 12ms/step - loss: 0.0121 - accuracy: 0.9966 - val_loss: 0.0129 - val_accuracy: 0.9963\n",
            "Epoch 100/100\n",
            "12/12 [==============================] - 0s 11ms/step - loss: 0.0119 - accuracy: 0.9965 - val_loss: 0.0127 - val_accuracy: 0.9963\n"
          ]
        }
      ],
      "source": [
        "if model_selection[model_flag]==\"ALL\" or model_selection[model_flag] == \"LSTM\":\n",
        "  # training the model on training dataset\n",
        "  history = lst.fit(x_train, y_train, epochs=100, batch_size=5000,validation_split=0.2)"
      ]
    },
    {
      "cell_type": "code",
      "execution_count": 48,
      "metadata": {
        "id": "BCQtvJcXRcNr"
      },
      "outputs": [],
      "source": [
        "if model_selection[model_flag]==\"ALL\" or model_selection[model_flag] == \"LSTM\":\n",
        "  filepath = '/content/drive/MyDrive/Colab_Notebooks/Models/lst_binary_kitsune.json'\n",
        "  weightspath = '/content/drive/MyDrive/Colab_Notebooks/Weights/lst_binary_kitsune.h5'\n",
        "  if (not path.isfile(filepath)):\n",
        "    # serialize model to JSON\n",
        "    lst_json = lst.to_json()\n",
        "    with open(filepath, \"w\") as json_file:\n",
        "      json_file.write(lst_json)\n",
        "\n",
        "    # serialize weights to HDF5\n",
        "    lst.save_weights(weightspath)\n",
        "    print(\"Saved model to disk\")\n",
        "\n",
        "    # load json and create model\n",
        "    json_file = open(filepath, 'r')\n",
        "    loaded_model_json = json_file.read()\n",
        "    json_file.close()\n",
        "    lst = model_from_json(loaded_model_json)\n",
        "\n",
        "    # load weights into new model\n",
        "    lst.load_weights(weightspath)\n",
        "    print(\"Loaded model from disk\")"
      ]
    },
    {
      "cell_type": "code",
      "execution_count": 49,
      "metadata": {
        "id": "rPaW37T-R0dG",
        "colab": {
          "base_uri": "https://localhost:8080/"
        },
        "outputId": "0cb768dd-2c58-4cfe-e0f7-851e563cafe4"
      },
      "outputs": [
        {
          "output_type": "stream",
          "name": "stdout",
          "text": [
            "Loaded model from disk\n"
          ]
        }
      ],
      "source": [
        "if model_selection[model_flag]==\"ALL\" or model_selection[model_flag] == \"LSTM\":\n",
        "  # load json and create model\n",
        "  json_file = open(filepath, 'r')\n",
        "  loaded_model_json = json_file.read()\n",
        "  json_file.close()\n",
        "  lst = model_from_json(loaded_model_json)\n",
        "\n",
        "  # load weights into new model\n",
        "  lst.load_weights(weightspath)\n",
        "  print(\"Loaded model from disk\")"
      ]
    },
    {
      "cell_type": "code",
      "execution_count": 50,
      "metadata": {
        "id": "ukGDdSggR3na"
      },
      "outputs": [],
      "source": [
        "if model_selection[model_flag]==\"ALL\" or model_selection[model_flag] == \"LSTM\":\n",
        "  # defining loss function, optimizer, metrics and then compiling model\n",
        "  lst.compile(loss='binary_crossentropy',optimizer='adam',metrics=['accuracy'])"
      ]
    },
    {
      "cell_type": "code",
      "execution_count": 51,
      "metadata": {
        "id": "nvjY0u97R68f",
        "colab": {
          "base_uri": "https://localhost:8080/"
        },
        "outputId": "cfefb883-467e-40f8-a69c-892b07980c1e"
      },
      "outputs": [
        {
          "output_type": "stream",
          "name": "stdout",
          "text": [
            "782/782 [==============================] - 2s 2ms/step - loss: 1.6690 - accuracy: 0.6989\n",
            "Test results - Loss: 1.6690452098846436 - Accuracy: 69.89200115203857%\n"
          ]
        }
      ],
      "source": [
        "if model_selection[model_flag]==\"ALL\" or model_selection[model_flag] == \"LSTM\":\n",
        "  # predicting target attribute on testing dataset\n",
        "  test_results = lst.evaluate(x_test, y_test, verbose=1)\n",
        "  print(f'Test results - Loss: {test_results[0]} - Accuracy: {test_results[1]*100}%')"
      ]
    },
    {
      "cell_type": "code",
      "execution_count": 52,
      "metadata": {
        "id": "f8yKMcIHR_jP",
        "colab": {
          "base_uri": "https://localhost:8080/",
          "height": 472
        },
        "outputId": "e453006c-60a6-44e0-f349-536b4f07ea4f"
      },
      "outputs": [
        {
          "output_type": "display_data",
          "data": {
            "text/plain": [
              "<Figure size 640x480 with 1 Axes>"
            ],
            "image/png": "[encoded data removed]"
          },
          "metadata": {}
        }
      ],
      "source": [
        "if model_selection[model_flag]==\"ALL\" or model_selection[model_flag] == \"LSTM\":\n",
        "  # Plot of accuracy vs epoch of train and test dataset\n",
        "  plt.plot(history.history['accuracy'])\n",
        "  plt.plot(history.history['val_accuracy'])\n",
        "  plt.title(\"Plot of accuracy vs epoch for train and test dataset\")\n",
        "  plt.ylabel('accuracy')\n",
        "  plt.xlabel('epoch')\n",
        "  plt.legend(['train', 'test'], loc='best')\n",
        "  plt.savefig('/content/drive/MyDrive/Colab_Notebooks/Plots/lstm_binary_accuracy.png')\n",
        "  plt.show()"
      ]
    },
    {
      "cell_type": "code",
      "execution_count": 53,
      "metadata": {
        "id": "M5g1Rw_SSb5n",
        "colab": {
          "base_uri": "https://localhost:8080/",
          "height": 472
        },
        "outputId": "3247c22a-d89b-4455-9bef-c879ba64eb29"
      },
      "outputs": [
        {
          "output_type": "display_data",
          "data": {
            "text/plain": [
              "<Figure size 640x480 with 1 Axes>"
            ],
            "image/png": "[encoded data removed]"
          },
          "metadata": {}
        }
      ],
      "source": [
        "if model_selection[model_flag]==\"ALL\" or model_selection[model_flag] == \"LSTM\":\n",
        "  # Plot of loss vs epoch of train and test dataset\n",
        "  plt.plot(history.history['loss'])\n",
        "  plt.plot(history.history['val_loss'])\n",
        "  plt.title(\"Plot of loss vs epoch for train and test dataset\")\n",
        "  plt.ylabel('loss')\n",
        "  plt.xlabel('epoch')\n",
        "  plt.legend(['train', 'test'], loc='best')\n",
        "  plt.savefig('/content/drive/MyDrive/Colab_Notebooks/Plots/lstm_binary_loss.png')\n",
        "  plt.show()"
      ]
    },
    {
      "cell_type": "code",
      "execution_count": 54,
      "metadata": {
        "id": "osZa2OV9Se-T"
      },
      "outputs": [],
      "source": [
        "if model_selection[model_flag]==\"ALL\" or model_selection[model_flag] == \"LSTM\":\n",
        "  # representation of model layers\n",
        "  plot_model(lst, to_file='/content/drive/MyDrive/Colab_Notebooks/Plots/lstm_binary.png', show_shapes=True,)"
      ]
    },
    {
      "cell_type": "code",
      "execution_count": 55,
      "metadata": {
        "id": "lw4OLD4HSpaY",
        "colab": {
          "base_uri": "https://localhost:8080/"
        },
        "outputId": "2085969f-eecd-454e-883b-93f9acccc431"
      },
      "outputs": [
        {
          "output_type": "execute_result",
          "data": {
            "text/plain": [
              "(25000,)"
            ]
          },
          "metadata": {},
          "execution_count": 55
        }
      ],
      "source": [
        "y_test = np.array(y_test)\n",
        "y_test.shape"
      ]
    },
    {
      "cell_type": "code",
      "execution_count": 56,
      "metadata": {
        "id": "4BvYVrKsTGr3",
        "colab": {
          "base_uri": "https://localhost:8080/"
        },
        "outputId": "bdd78f46-5128-4d2d-efd0-7e39a7aabc6f"
      },
      "outputs": [
        {
          "output_type": "execute_result",
          "data": {
            "text/plain": [
              "numpy.ndarray"
            ]
          },
          "metadata": {},
          "execution_count": 56
        }
      ],
      "source": [
        "type(y_test)"
      ]
    },
    {
      "cell_type": "code",
      "execution_count": 57,
      "metadata": {
        "id": "KBvCGl6BS0FM",
        "colab": {
          "base_uri": "https://localhost:8080/"
        },
        "outputId": "9e29d23a-2130-45ae-b0e0-b226993904bc"
      },
      "outputs": [
        {
          "output_type": "stream",
          "name": "stdout",
          "text": [
            "782/782 [==============================] - 2s 2ms/step\n"
          ]
        }
      ],
      "source": [
        "if model_selection[model_flag]==\"ALL\" or model_selection[model_flag] == \"LSTM\":\n",
        "  y_classes = (lst.predict(x_test)>0.5).astype('int32')"
      ]
    },
    {
      "cell_type": "code",
      "execution_count": 58,
      "metadata": {
        "id": "x_yVqBlLTtLW",
        "colab": {
          "base_uri": "https://localhost:8080/"
        },
        "outputId": "cc3ff3f5-7796-4883-dfc9-2f42c8549263"
      },
      "outputs": [
        {
          "output_type": "stream",
          "name": "stdout",
          "text": [
            "Recall Score -  0.19174104742445425\n",
            "F1 Score -  0.3214639862976652\n",
            "Precision Score -  0.9938684503901896\n"
          ]
        }
      ],
      "source": [
        "if model_selection[model_flag]==\"ALL\" or model_selection[model_flag] == \"LSTM\":\n",
        "  print(\"Recall Score - \",recall_score(y_test,y_classes))\n",
        "  print(\"F1 Score - \",f1_score(y_test,y_classes))\n",
        "  print(\"Precision Score - \",precision_score(y_test,y_classes))"
      ]
    },
    {
      "cell_type": "code",
      "source": [
        "print(classification_report(y_test, y_classes, target_names=['0', '1']))\n",
        "cm = confusion_matrix(y_test, y_classes)\n",
        "disp = ConfusionMatrixDisplay(confusion_matrix=cm,\n",
        "                              display_labels=['0', '1'])\n",
        "disp.plot()\n",
        "\n",
        "plt.show()"
      ],
      "metadata": {
        "colab": {
          "base_uri": "https://localhost:8080/",
          "height": 610
        },
        "id": "lHw1E32esovH",
        "outputId": "f96a6f9a-7ca7-4bd9-d89b-f6a9d6b85f1b"
      },
      "execution_count": 59,
      "outputs": [
        {
          "output_type": "stream",
          "name": "stdout",
          "text": [
            "              precision    recall  f1-score   support\n",
            "\n",
            "           0       0.68      1.00      0.81     15701\n",
            "           1       0.99      0.19      0.32      9299\n",
            "\n",
            "    accuracy                           0.70     25000\n",
            "   macro avg       0.83      0.60      0.56     25000\n",
            "weighted avg       0.79      0.70      0.63     25000\n",
            "\n"
          ]
        },
        {
          "output_type": "display_data",
          "data": {
            "text/plain": [
              "<Figure size 640x480 with 2 Axes>"
            ],
            "image/png": "[encoded data removed]"
          },
          "metadata": {}
        }
      ]
    },
    {
      "cell_type": "markdown",
      "metadata": {
        "id": "H_g15uXe82BY"
      },
      "source": [
        "## **Auto Encoder**"
      ]
    },
    {
      "cell_type": "code",
      "execution_count": 60,
      "metadata": {
        "id": "VQ6pDxghmBwB"
      },
      "outputs": [],
      "source": [
        "if model_selection[model_flag]==\"ALL\" or model_selection[model_flag] == \"AE\":\n",
        "  # splitting the dataset 75% for training and 25% testing\n",
        "  X_train, X_test = train_test_split(bin_data, test_size=0.25, random_state=42)"
      ]
    },
    {
      "cell_type": "code",
      "execution_count": 61,
      "metadata": {
        "id": "uogVT92Q_6wh"
      },
      "outputs": [],
      "source": [
        "if model_selection[model_flag]==\"ALL\" or model_selection[model_flag] == \"AE\":\n",
        "  # dataset excluding target attribute (encoded, one-hot-encoded,original)\n",
        "  X_train = X_train.drop(['label'],axis=1) \n",
        "\n",
        "  y_test = X_test['label'] # target attribute\n",
        "\n",
        "  # dataset excluding target attribute (encoded, one-hot-encoded,original)\n",
        "  X_test = X_test.drop(['label'],axis=1)\n",
        "  # calling the normalization() function\n",
        "  X_train = normalization_train(X_train,numeric_cols)\n",
        "  X_test = normalization_test(X_test,numeric_cols)\n",
        "  X_train = X_train.values\n",
        "  X_test = X_test.values\n",
        "  y_test = y_test.values"
      ]
    },
    {
      "cell_type": "code",
      "execution_count": 62,
      "metadata": {
        "id": "s696BM9uKADC"
      },
      "outputs": [],
      "source": [
        "if model_selection[model_flag]==\"ALL\" or model_selection[model_flag] == \"AE\":\n",
        "  input_dim = X_train.shape[1]\n",
        "  encoding_dim = 50\n",
        "\n",
        "  #input layer\n",
        "  input_layer = Input(shape=(input_dim, ))\n",
        "  #encoding layer with 50 neurons\n",
        "  encoder = Dense(encoding_dim, activation=\"relu\")(input_layer)           \n",
        "  #decoding and output layer\n",
        "  output_layer = Dense(input_dim, activation='softmax')(encoder)"
      ]
    },
    {
      "cell_type": "code",
      "execution_count": 63,
      "metadata": {
        "id": "nLn3vHBZLQtj"
      },
      "outputs": [],
      "source": [
        "if model_selection[model_flag]==\"ALL\" or model_selection[model_flag] == \"AE\":\n",
        "  # creating model with input, encoding, decoding, output layers\n",
        "  autoencoder = Model(inputs=input_layer, outputs=output_layer)\n",
        "\n",
        "  # defining loss function, optimizer, metrics and then compiling model\n",
        "  autoencoder.compile(optimizer='adam', loss='mean_squared_error',metrics=['accuracy'])"
      ]
    },
    {
      "cell_type": "code",
      "execution_count": 64,
      "metadata": {
        "id": "X_zk7PMVLVNm",
        "colab": {
          "base_uri": "https://localhost:8080/"
        },
        "outputId": "77bfa275-e8d1-48a6-c373-796cf7c554b6"
      },
      "outputs": [
        {
          "output_type": "stream",
          "name": "stdout",
          "text": [
            "Model: \"model\"\n",
            "_________________________________________________________________\n",
            " Layer (type)                Output Shape              Param #   \n",
            "=================================================================\n",
            " input_1 (InputLayer)        [(None, 115)]             0         \n",
            "                                                                 \n",
            " dense_3 (Dense)             (None, 50)                5800      \n",
            "                                                                 \n",
            " dense_4 (Dense)             (None, 115)               5865      \n",
            "                                                                 \n",
            "=================================================================\n",
            "Total params: 11,665\n",
            "Trainable params: 11,665\n",
            "Non-trainable params: 0\n",
            "_________________________________________________________________\n"
          ]
        }
      ],
      "source": [
        "if model_selection[model_flag]==\"ALL\" or model_selection[model_flag] == \"AE\":\n",
        "  # summary of model layers\n",
        "  autoencoder.summary()"
      ]
    },
    {
      "cell_type": "code",
      "execution_count": 65,
      "metadata": {
        "id": "We59NbebLdkJ",
        "colab": {
          "base_uri": "https://localhost:8080/"
        },
        "outputId": "a14cbe99-e01b-4715-d82c-981a125b737c"
      },
      "outputs": [
        {
          "output_type": "stream",
          "name": "stdout",
          "text": [
            "Epoch 1/100\n",
            "150/150 [==============================] - 2s 5ms/step - loss: 0.9801 - accuracy: 0.0140 - val_loss: inf - val_accuracy: 0.0185\n",
            "Epoch 2/100\n",
            "150/150 [==============================] - 1s 4ms/step - loss: 0.9737 - accuracy: 0.0721 - val_loss: inf - val_accuracy: 0.0185\n",
            "Epoch 3/100\n",
            "150/150 [==============================] - 1s 4ms/step - loss: 0.9729 - accuracy: 0.1309 - val_loss: inf - val_accuracy: 0.0185\n",
            "Epoch 4/100\n",
            "150/150 [==============================] - 1s 4ms/step - loss: 0.9725 - accuracy: 0.1416 - val_loss: inf - val_accuracy: 0.0185\n",
            "Epoch 5/100\n",
            "150/150 [==============================] - 1s 4ms/step - loss: 0.9724 - accuracy: 0.1441 - val_loss: inf - val_accuracy: 0.0185\n",
            "Epoch 6/100\n",
            "150/150 [==============================] - 1s 4ms/step - loss: 0.9724 - accuracy: 0.1467 - val_loss: inf - val_accuracy: 0.0185\n",
            "Epoch 7/100\n",
            "150/150 [==============================] - 1s 4ms/step - loss: 0.9723 - accuracy: 0.1477 - val_loss: inf - val_accuracy: 0.0185\n",
            "Epoch 8/100\n",
            "150/150 [==============================] - 1s 4ms/step - loss: 0.9723 - accuracy: 0.1585 - val_loss: inf - val_accuracy: 0.0185\n",
            "Epoch 9/100\n",
            "150/150 [==============================] - 1s 4ms/step - loss: 0.9722 - accuracy: 0.1841 - val_loss: inf - val_accuracy: 0.0185\n",
            "Epoch 10/100\n",
            "150/150 [==============================] - 1s 4ms/step - loss: 0.9721 - accuracy: 0.1711 - val_loss: inf - val_accuracy: 0.0185\n",
            "Epoch 11/100\n",
            "150/150 [==============================] - 1s 4ms/step - loss: 0.9721 - accuracy: 0.1760 - val_loss: inf - val_accuracy: 0.0185\n",
            "Epoch 12/100\n",
            "150/150 [==============================] - 1s 4ms/step - loss: 0.9721 - accuracy: 0.1799 - val_loss: inf - val_accuracy: 0.0185\n",
            "Epoch 13/100\n",
            "150/150 [==============================] - 1s 4ms/step - loss: 0.9721 - accuracy: 0.1806 - val_loss: inf - val_accuracy: 0.0185\n",
            "Epoch 14/100\n",
            "150/150 [==============================] - 1s 4ms/step - loss: 0.9720 - accuracy: 0.1765 - val_loss: inf - val_accuracy: 0.0185\n",
            "Epoch 15/100\n",
            "150/150 [==============================] - 1s 5ms/step - loss: 0.9720 - accuracy: 0.1843 - val_loss: inf - val_accuracy: 0.0185\n",
            "Epoch 16/100\n",
            "150/150 [==============================] - 1s 5ms/step - loss: 0.9720 - accuracy: 0.1833 - val_loss: inf - val_accuracy: 0.0185\n",
            "Epoch 17/100\n",
            "150/150 [==============================] - 1s 5ms/step - loss: 0.9720 - accuracy: 0.1841 - val_loss: inf - val_accuracy: 0.0185\n",
            "Epoch 18/100\n",
            "150/150 [==============================] - 1s 5ms/step - loss: 0.9720 - accuracy: 0.1828 - val_loss: inf - val_accuracy: 0.0185\n",
            "Epoch 19/100\n",
            "150/150 [==============================] - 1s 4ms/step - loss: 0.9720 - accuracy: 0.1851 - val_loss: inf - val_accuracy: 0.0185\n",
            "Epoch 20/100\n",
            "150/150 [==============================] - 1s 4ms/step - loss: 0.9720 - accuracy: 0.1848 - val_loss: inf - val_accuracy: 0.0185\n",
            "Epoch 21/100\n",
            "150/150 [==============================] - 1s 4ms/step - loss: 0.9720 - accuracy: 0.1861 - val_loss: inf - val_accuracy: 0.0185\n",
            "Epoch 22/100\n",
            "150/150 [==============================] - 1s 3ms/step - loss: 0.9720 - accuracy: 0.1872 - val_loss: inf - val_accuracy: 0.0185\n",
            "Epoch 23/100\n",
            "150/150 [==============================] - 1s 4ms/step - loss: 0.9719 - accuracy: 0.1773 - val_loss: inf - val_accuracy: 0.0185\n",
            "Epoch 24/100\n",
            "150/150 [==============================] - 1s 4ms/step - loss: 0.9719 - accuracy: 0.1859 - val_loss: inf - val_accuracy: 0.0185\n",
            "Epoch 25/100\n",
            "150/150 [==============================] - 1s 4ms/step - loss: 0.9719 - accuracy: 0.1897 - val_loss: inf - val_accuracy: 0.0185\n",
            "Epoch 26/100\n",
            "150/150 [==============================] - 1s 3ms/step - loss: 0.9719 - accuracy: 0.1910 - val_loss: inf - val_accuracy: 0.0185\n",
            "Epoch 27/100\n",
            "150/150 [==============================] - 1s 4ms/step - loss: 0.9719 - accuracy: 0.1880 - val_loss: inf - val_accuracy: 0.0185\n",
            "Epoch 28/100\n",
            "150/150 [==============================] - 1s 4ms/step - loss: 0.9719 - accuracy: 0.1896 - val_loss: inf - val_accuracy: 0.0185\n",
            "Epoch 29/100\n",
            "150/150 [==============================] - 1s 4ms/step - loss: 0.9719 - accuracy: 0.1897 - val_loss: inf - val_accuracy: 0.0185\n",
            "Epoch 30/100\n",
            "150/150 [==============================] - 1s 4ms/step - loss: 0.9719 - accuracy: 0.1905 - val_loss: inf - val_accuracy: 0.0185\n",
            "Epoch 31/100\n",
            "150/150 [==============================] - 1s 4ms/step - loss: 0.9719 - accuracy: 0.1905 - val_loss: inf - val_accuracy: 0.0185\n",
            "Epoch 32/100\n",
            "150/150 [==============================] - 1s 4ms/step - loss: 0.9719 - accuracy: 0.1898 - val_loss: inf - val_accuracy: 0.0185\n",
            "Epoch 33/100\n",
            "150/150 [==============================] - 1s 4ms/step - loss: 0.9719 - accuracy: 0.1939 - val_loss: inf - val_accuracy: 0.0185\n",
            "Epoch 34/100\n",
            "150/150 [==============================] - 1s 4ms/step - loss: 0.9719 - accuracy: 0.1903 - val_loss: inf - val_accuracy: 0.0185\n",
            "Epoch 35/100\n",
            "150/150 [==============================] - 1s 3ms/step - loss: 0.9719 - accuracy: 0.1931 - val_loss: inf - val_accuracy: 0.0185\n",
            "Epoch 36/100\n",
            "150/150 [==============================] - 1s 4ms/step - loss: 0.9719 - accuracy: 0.1944 - val_loss: inf - val_accuracy: 0.0185\n",
            "Epoch 37/100\n",
            "150/150 [==============================] - 1s 5ms/step - loss: 0.9719 - accuracy: 0.1998 - val_loss: inf - val_accuracy: 0.0185\n",
            "Epoch 38/100\n",
            "150/150 [==============================] - 1s 5ms/step - loss: 0.9719 - accuracy: 0.1959 - val_loss: inf - val_accuracy: 0.0185\n",
            "Epoch 39/100\n",
            "150/150 [==============================] - 1s 5ms/step - loss: 0.9719 - accuracy: 0.1965 - val_loss: inf - val_accuracy: 0.0185\n",
            "Epoch 40/100\n",
            "150/150 [==============================] - 1s 5ms/step - loss: 0.9719 - accuracy: 0.1987 - val_loss: inf - val_accuracy: 0.0185\n",
            "Epoch 41/100\n",
            "150/150 [==============================] - 1s 4ms/step - loss: 0.9719 - accuracy: 0.1984 - val_loss: inf - val_accuracy: 0.0185\n",
            "Epoch 42/100\n",
            "150/150 [==============================] - 1s 4ms/step - loss: 0.9719 - accuracy: 0.2029 - val_loss: inf - val_accuracy: 0.0185\n",
            "Epoch 43/100\n",
            "150/150 [==============================] - 1s 4ms/step - loss: 0.9719 - accuracy: 0.2010 - val_loss: inf - val_accuracy: 0.0185\n",
            "Epoch 44/100\n",
            "150/150 [==============================] - 1s 4ms/step - loss: 0.9719 - accuracy: 0.2011 - val_loss: inf - val_accuracy: 0.0185\n",
            "Epoch 45/100\n",
            "150/150 [==============================] - 1s 4ms/step - loss: 0.9719 - accuracy: 0.2035 - val_loss: inf - val_accuracy: 0.0185\n",
            "Epoch 46/100\n",
            "150/150 [==============================] - 1s 4ms/step - loss: 0.9719 - accuracy: 0.2054 - val_loss: inf - val_accuracy: 0.0185\n",
            "Epoch 47/100\n",
            "150/150 [==============================] - 1s 4ms/step - loss: 0.9719 - accuracy: 0.2031 - val_loss: inf - val_accuracy: 0.0185\n",
            "Epoch 48/100\n",
            "150/150 [==============================] - 1s 4ms/step - loss: 0.9719 - accuracy: 0.2017 - val_loss: inf - val_accuracy: 0.0185\n",
            "Epoch 49/100\n",
            "150/150 [==============================] - 1s 4ms/step - loss: 0.9719 - accuracy: 0.2053 - val_loss: inf - val_accuracy: 0.0185\n",
            "Epoch 50/100\n",
            "150/150 [==============================] - 1s 4ms/step - loss: 0.9719 - accuracy: 0.2057 - val_loss: inf - val_accuracy: 0.0185\n",
            "Epoch 51/100\n",
            "150/150 [==============================] - 1s 4ms/step - loss: 0.9719 - accuracy: 0.2031 - val_loss: inf - val_accuracy: 0.0185\n",
            "Epoch 52/100\n",
            "150/150 [==============================] - 1s 4ms/step - loss: 0.9719 - accuracy: 0.2064 - val_loss: inf - val_accuracy: 0.0185\n",
            "Epoch 53/100\n",
            "150/150 [==============================] - 1s 4ms/step - loss: 0.9719 - accuracy: 0.2073 - val_loss: inf - val_accuracy: 0.0185\n",
            "Epoch 54/100\n",
            "150/150 [==============================] - 1s 4ms/step - loss: 0.9719 - accuracy: 0.2094 - val_loss: inf - val_accuracy: 0.0185\n",
            "Epoch 55/100\n",
            "150/150 [==============================] - 1s 4ms/step - loss: 0.9719 - accuracy: 0.2075 - val_loss: inf - val_accuracy: 0.0185\n",
            "Epoch 56/100\n",
            "150/150 [==============================] - 1s 4ms/step - loss: 0.9719 - accuracy: 0.2045 - val_loss: inf - val_accuracy: 0.0185\n",
            "Epoch 57/100\n",
            "150/150 [==============================] - 1s 4ms/step - loss: 0.9719 - accuracy: 0.2087 - val_loss: inf - val_accuracy: 0.0185\n",
            "Epoch 58/100\n",
            "150/150 [==============================] - 1s 5ms/step - loss: 0.9719 - accuracy: 0.2111 - val_loss: inf - val_accuracy: 0.0185\n",
            "Epoch 59/100\n",
            "150/150 [==============================] - 1s 6ms/step - loss: 0.9719 - accuracy: 0.2087 - val_loss: inf - val_accuracy: 0.0185\n",
            "Epoch 60/100\n",
            "150/150 [==============================] - 1s 5ms/step - loss: 0.9719 - accuracy: 0.2120 - val_loss: inf - val_accuracy: 0.0185\n",
            "Epoch 61/100\n",
            "150/150 [==============================] - 1s 5ms/step - loss: 0.9719 - accuracy: 0.2087 - val_loss: inf - val_accuracy: 0.0185\n",
            "Epoch 62/100\n",
            "150/150 [==============================] - 1s 4ms/step - loss: 0.9719 - accuracy: 0.2088 - val_loss: inf - val_accuracy: 0.0185\n",
            "Epoch 63/100\n",
            "150/150 [==============================] - 1s 4ms/step - loss: 0.9719 - accuracy: 0.2123 - val_loss: inf - val_accuracy: 0.0185\n",
            "Epoch 64/100\n",
            "150/150 [==============================] - 1s 4ms/step - loss: 0.9719 - accuracy: 0.2114 - val_loss: inf - val_accuracy: 0.0185\n",
            "Epoch 65/100\n",
            "150/150 [==============================] - 1s 4ms/step - loss: 0.9719 - accuracy: 0.2173 - val_loss: inf - val_accuracy: 0.0185\n",
            "Epoch 66/100\n",
            "150/150 [==============================] - 1s 4ms/step - loss: 0.9718 - accuracy: 0.2314 - val_loss: inf - val_accuracy: 0.0185\n",
            "Epoch 67/100\n",
            "150/150 [==============================] - 1s 4ms/step - loss: 0.9718 - accuracy: 0.2375 - val_loss: inf - val_accuracy: 0.0185\n",
            "Epoch 68/100\n",
            "150/150 [==============================] - 1s 4ms/step - loss: 0.9718 - accuracy: 0.2427 - val_loss: inf - val_accuracy: 0.0185\n",
            "Epoch 69/100\n",
            "150/150 [==============================] - 1s 4ms/step - loss: 0.9718 - accuracy: 0.2409 - val_loss: inf - val_accuracy: 0.0185\n",
            "Epoch 70/100\n",
            "150/150 [==============================] - 1s 4ms/step - loss: 0.9718 - accuracy: 0.2468 - val_loss: inf - val_accuracy: 0.0185\n",
            "Epoch 71/100\n",
            "150/150 [==============================] - 1s 4ms/step - loss: 0.9718 - accuracy: 0.2465 - val_loss: inf - val_accuracy: 0.0185\n",
            "Epoch 72/100\n",
            "150/150 [==============================] - 1s 4ms/step - loss: 0.9718 - accuracy: 0.2412 - val_loss: inf - val_accuracy: 0.0185\n",
            "Epoch 73/100\n",
            "150/150 [==============================] - 1s 4ms/step - loss: 0.9718 - accuracy: 0.2500 - val_loss: inf - val_accuracy: 0.0185\n",
            "Epoch 74/100\n",
            "150/150 [==============================] - 1s 4ms/step - loss: 0.9718 - accuracy: 0.2465 - val_loss: inf - val_accuracy: 0.0185\n",
            "Epoch 75/100\n",
            "150/150 [==============================] - 1s 4ms/step - loss: 0.9718 - accuracy: 0.2491 - val_loss: inf - val_accuracy: 0.0185\n",
            "Epoch 76/100\n",
            "150/150 [==============================] - 1s 4ms/step - loss: 0.9718 - accuracy: 0.2474 - val_loss: inf - val_accuracy: 0.0185\n",
            "Epoch 77/100\n",
            "150/150 [==============================] - 1s 4ms/step - loss: 0.9718 - accuracy: 0.2418 - val_loss: inf - val_accuracy: 0.0185\n",
            "Epoch 78/100\n",
            "150/150 [==============================] - 1s 4ms/step - loss: 0.9718 - accuracy: 0.2464 - val_loss: inf - val_accuracy: 0.0185\n",
            "Epoch 79/100\n",
            "150/150 [==============================] - 1s 4ms/step - loss: 0.9718 - accuracy: 0.2417 - val_loss: inf - val_accuracy: 0.0185\n",
            "Epoch 80/100\n",
            "150/150 [==============================] - 1s 5ms/step - loss: 0.9718 - accuracy: 0.2369 - val_loss: inf - val_accuracy: 0.0185\n",
            "Epoch 81/100\n",
            "150/150 [==============================] - 1s 5ms/step - loss: 0.9718 - accuracy: 0.2437 - val_loss: inf - val_accuracy: 0.0185\n",
            "Epoch 82/100\n",
            "150/150 [==============================] - 1s 5ms/step - loss: 0.9718 - accuracy: 0.2468 - val_loss: inf - val_accuracy: 0.0185\n",
            "Epoch 83/100\n",
            "150/150 [==============================] - 1s 5ms/step - loss: 0.9718 - accuracy: 0.2432 - val_loss: inf - val_accuracy: 0.0185\n",
            "Epoch 84/100\n",
            "150/150 [==============================] - 1s 4ms/step - loss: 0.9718 - accuracy: 0.2380 - val_loss: inf - val_accuracy: 0.0185\n",
            "Epoch 85/100\n",
            "150/150 [==============================] - 1s 4ms/step - loss: 0.9718 - accuracy: 0.2444 - val_loss: inf - val_accuracy: 0.0185\n",
            "Epoch 86/100\n",
            "150/150 [==============================] - 1s 4ms/step - loss: 0.9718 - accuracy: 0.2419 - val_loss: inf - val_accuracy: 0.0185\n",
            "Epoch 87/100\n",
            "150/150 [==============================] - 1s 4ms/step - loss: 0.9718 - accuracy: 0.2407 - val_loss: inf - val_accuracy: 0.0185\n",
            "Epoch 88/100\n",
            "150/150 [==============================] - 1s 4ms/step - loss: 0.9718 - accuracy: 0.2430 - val_loss: inf - val_accuracy: 0.0185\n",
            "Epoch 89/100\n",
            "150/150 [==============================] - 1s 6ms/step - loss: 0.9718 - accuracy: 0.2413 - val_loss: inf - val_accuracy: 0.0185\n",
            "Epoch 90/100\n",
            "150/150 [==============================] - 1s 5ms/step - loss: 0.9718 - accuracy: 0.2440 - val_loss: inf - val_accuracy: 0.0185\n",
            "Epoch 91/100\n",
            "150/150 [==============================] - 1s 5ms/step - loss: 0.9718 - accuracy: 0.2384 - val_loss: inf - val_accuracy: 0.0185\n",
            "Epoch 92/100\n",
            "150/150 [==============================] - 1s 5ms/step - loss: 0.9718 - accuracy: 0.2345 - val_loss: inf - val_accuracy: 0.0185\n",
            "Epoch 93/100\n",
            "150/150 [==============================] - 1s 4ms/step - loss: 0.9718 - accuracy: 0.2129 - val_loss: inf - val_accuracy: 0.0185\n",
            "Epoch 94/100\n",
            "150/150 [==============================] - 1s 4ms/step - loss: 0.9717 - accuracy: 0.2188 - val_loss: inf - val_accuracy: 0.0185\n",
            "Epoch 95/100\n",
            "150/150 [==============================] - 1s 4ms/step - loss: 0.9717 - accuracy: 0.2272 - val_loss: inf - val_accuracy: 0.0185\n",
            "Epoch 96/100\n",
            "150/150 [==============================] - 1s 4ms/step - loss: 0.9717 - accuracy: 0.2381 - val_loss: inf - val_accuracy: 0.0185\n",
            "Epoch 97/100\n",
            "150/150 [==============================] - 1s 4ms/step - loss: 0.9717 - accuracy: 0.2384 - val_loss: inf - val_accuracy: 0.0185\n",
            "Epoch 98/100\n",
            "150/150 [==============================] - 1s 4ms/step - loss: 0.9717 - accuracy: 0.2413 - val_loss: inf - val_accuracy: 0.0185\n",
            "Epoch 99/100\n",
            "150/150 [==============================] - 1s 4ms/step - loss: 0.9717 - accuracy: 0.2425 - val_loss: inf - val_accuracy: 0.0185\n",
            "Epoch 100/100\n",
            "150/150 [==============================] - 1s 5ms/step - loss: 0.9717 - accuracy: 0.2431 - val_loss: inf - val_accuracy: 0.0185\n"
          ]
        }
      ],
      "source": [
        "if model_selection[model_flag]==\"ALL\" or model_selection[model_flag] == \"AE\":\n",
        "  # training the model on training dataset\n",
        "  history = autoencoder.fit(X_train, X_train, epochs=100,batch_size=500,validation_data=(X_test, X_test)).history"
      ]
    },
    {
      "cell_type": "code",
      "execution_count": 66,
      "metadata": {
        "id": "AdtR3-9xLliU"
      },
      "outputs": [],
      "source": [
        "if model_selection[model_flag]==\"ALL\" or model_selection[model_flag] == \"AE\":\n",
        "  filepath = '/content/drive/MyDrive/Colab_Notebooks/Models/ae_binary_unsw_nb15.json'\n",
        "  weightspath = '/content/drive/MyDrive/Colab_Notebooks/Weights/ae_binary_unsw_nb15.h5'\n",
        "  if (not path.isfile(filepath)): \n",
        "    # serialize model to JSON\n",
        "    autoencoder_json = autoencoder.to_json()\n",
        "    with open(filepath, \"w\") as json_file:\n",
        "      json_file.write(autoencoder_json)\n",
        "\n",
        "    # serialize weights to HDF5\n",
        "    autoencoder.save_weights(weightspath)\n",
        "    print(\"Saved model to disk\")\n",
        "\n",
        "    # load json and create model\n",
        "    json_file = open(filepath, 'r')\n",
        "    loaded_model_json = json_file.read()\n",
        "    json_file.close()\n",
        "    autoencoder = model_from_json(loaded_model_json)\n",
        "\n",
        "    # load weights into new model\n",
        "    autoencoder.load_weights(weightspath)\n",
        "    print(\"Loaded model from disk\")"
      ]
    },
    {
      "cell_type": "code",
      "execution_count": 67,
      "metadata": {
        "id": "Wqr6HVtMLwx9"
      },
      "outputs": [],
      "source": [
        "if model_selection[model_flag]==\"ALL\" or model_selection[model_flag] == \"AE\":\n",
        "  # defining loss function, optimizer, metrics and then compiling model\n",
        "  autoencoder.compile(optimizer='adam', loss='mean_squared_error',metrics=['accuracy'])"
      ]
    },
    {
      "cell_type": "code",
      "execution_count": 68,
      "metadata": {
        "id": "FQrjCk2hL09x",
        "colab": {
          "base_uri": "https://localhost:8080/"
        },
        "outputId": "31704f36-565e-4ca0-d892-2a693d410414"
      },
      "outputs": [
        {
          "output_type": "stream",
          "name": "stdout",
          "text": [
            "782/782 [==============================] - 2s 3ms/step - loss: inf - accuracy: 0.0185\n",
            "Test results - Loss: inf - Accuracy: 0.018519999459385872%\n"
          ]
        }
      ],
      "source": [
        "if model_selection[model_flag]==\"ALL\" or model_selection[model_flag] == \"AE\":\n",
        "  # predicting target attribute on testing dataset\n",
        "  test_results = autoencoder.evaluate(X_test, X_test, verbose=1)\n",
        "  print(f'Test results - Loss: {test_results[0]} - Accuracy: {test_results[1]}%')"
      ]
    },
    {
      "cell_type": "code",
      "execution_count": 69,
      "metadata": {
        "id": "VqQsjSZcL1-B",
        "colab": {
          "base_uri": "https://localhost:8080/",
          "height": 472
        },
        "outputId": "e824ef44-3c3f-4ff5-e107-9b87ee13a207"
      },
      "outputs": [
        {
          "output_type": "display_data",
          "data": {
            "text/plain": [
              "<Figure size 640x480 with 1 Axes>"
            ],
            "image/png": "[encoded data removed]"
          },
          "metadata": {}
        }
      ],
      "source": [
        "if model_selection[model_flag]==\"ALL\" or model_selection[model_flag] == \"AE\":\n",
        "  # Plot of loss vs epoch of train and test dataset\n",
        "  plt.plot(history['loss'])\n",
        "  plt.plot(history['val_loss'])\n",
        "  plt.title(\"Plot of loss vs epoch for train and test dataset\")\n",
        "  plt.ylabel('loss')\n",
        "  plt.xlabel('epoch')\n",
        "  plt.legend(['train', 'test'], loc='upper right')\n",
        "  plt.savefig('/content/drive/MyDrive/Colab_Notebooks/Plots/ae_binary_loss.png')\n",
        "  plt.show()"
      ]
    },
    {
      "cell_type": "code",
      "execution_count": 70,
      "metadata": {
        "id": "fkjD9QXKL25Z",
        "colab": {
          "base_uri": "https://localhost:8080/",
          "height": 472
        },
        "outputId": "7ae2de7b-42e4-4051-b441-e70c75147540"
      },
      "outputs": [
        {
          "output_type": "display_data",
          "data": {
            "text/plain": [
              "<Figure size 640x480 with 1 Axes>"
            ],
            "image/png": "[encoded data removed]"
          },
          "metadata": {}
        }
      ],
      "source": [
        "if model_selection[model_flag]==\"ALL\" or model_selection[model_flag] == \"AE\":\n",
        "  # Plot of accuracy vs epoch of train and test dataset\n",
        "  plt.plot(history['accuracy'])\n",
        "  plt.plot(history['val_accuracy'])\n",
        "  plt.title(\"Plot of accuracy vs epoch for train and test dataset\")\n",
        "  plt.ylabel('accuracy')\n",
        "  plt.xlabel('epoch')\n",
        "  plt.legend(['train', 'test'], loc='best')\n",
        "  plt.savefig('/content/drive/MyDrive/Colab_Notebooks/Plots/ae_binary_accuracy.png')\n",
        "  plt.show()"
      ]
    },
    {
      "cell_type": "code",
      "execution_count": 71,
      "metadata": {
        "id": "lf9q83sBMGPD"
      },
      "outputs": [],
      "source": [
        "if model_selection[model_flag]==\"ALL\" or model_selection[model_flag] == \"AE\":\n",
        "  # representation of model layers\n",
        "  plot_model(autoencoder, to_file='/content/drive/MyDrive/Colab_Notebooks/Plots/ae_binary.png', show_shapes=True,)"
      ]
    },
    {
      "cell_type": "code",
      "execution_count": 72,
      "metadata": {
        "id": "SFIXKGwuMLFo",
        "colab": {
          "base_uri": "https://localhost:8080/"
        },
        "outputId": "768cf120-4979-4272-e0af-bda0762c6aca"
      },
      "outputs": [
        {
          "output_type": "stream",
          "name": "stdout",
          "text": [
            "782/782 [==============================] - 1s 1ms/step\n"
          ]
        }
      ],
      "source": [
        "if model_selection[model_flag]==\"ALL\" or model_selection[model_flag] == \"AE\":\n",
        "  # calculating reconstruction error \n",
        "  predictions = autoencoder.predict(X_test)"
      ]
    },
    {
      "cell_type": "code",
      "execution_count": 73,
      "metadata": {
        "id": "cqKJCyZnMMEG"
      },
      "outputs": [],
      "source": [
        "if model_selection[model_flag]==\"ALL\" or model_selection[model_flag] == \"AE\":\n",
        "  mse = np.mean(np.power(X_test - predictions, 2), axis=1)\n",
        "  error_df = pd.DataFrame({'reconstruction_error': mse,\n",
        "                           'true_class': y_test})"
      ]
    },
    {
      "cell_type": "code",
      "execution_count": 74,
      "metadata": {
        "id": "EdQJudbDMhmB",
        "colab": {
          "base_uri": "https://localhost:8080/"
        },
        "outputId": "6eb89498-c4cc-41eb-e3d4-5dd55cf7019f"
      },
      "outputs": [
        {
          "output_type": "stream",
          "name": "stdout",
          "text": [
            "(25000, 115)\n"
          ]
        }
      ],
      "source": [
        "if model_selection[model_flag]==\"ALL\" or model_selection[model_flag] == \"AE\":\n",
        "  error_df.describe()\n",
        "  print(predictions.shape)"
      ]
    },
    {
      "cell_type": "markdown",
      "metadata": {
        "id": "PHsaAAMmNQrs"
      },
      "source": [
        "## **AE Classifier**"
      ]
    },
    {
      "cell_type": "code",
      "execution_count": 75,
      "metadata": {
        "id": "1hK07LDBMoZg"
      },
      "outputs": [],
      "source": [
        "if model_selection[model_flag]==\"ALL\" or model_selection[model_flag] == \"AE\":\n",
        "  i_dim = predictions.shape[1]\n",
        "\n",
        "  #input layer\n",
        "  i_layer = Input(shape=(i_dim, ))\n",
        "  #hidden layer with 50 neurons\n",
        "  fvector = Dense(50, activation=\"sigmoid\")(i_layer)                    \n",
        "  #doutput layer\n",
        "  o_layer = Dense(1, activation='sigmoid')(fvector)"
      ]
    },
    {
      "cell_type": "code",
      "execution_count": 76,
      "metadata": {
        "id": "Efq77rVINXWE"
      },
      "outputs": [],
      "source": [
        "if model_selection[model_flag]==\"ALL\" or model_selection[model_flag] == \"AE\":\n",
        "  # creating model with input, encoding, decoding, output layers\n",
        "  ae_classifier = Model(inputs=i_layer, outputs=o_layer)\n",
        "\n",
        "  # defining loss function, optimizer, metrics and then compiling model\n",
        "  ae_classifier.compile(optimizer='adam', loss='binary_crossentropy',metrics=['accuracy'])"
      ]
    },
    {
      "cell_type": "code",
      "execution_count": 77,
      "metadata": {
        "id": "0Yl594VGNX1W",
        "colab": {
          "base_uri": "https://localhost:8080/"
        },
        "outputId": "6735587a-f35f-4c38-9b62-0a25e0c7c150"
      },
      "outputs": [
        {
          "output_type": "stream",
          "name": "stdout",
          "text": [
            "Model: \"model_1\"\n",
            "_________________________________________________________________\n",
            " Layer (type)                Output Shape              Param #   \n",
            "=================================================================\n",
            " input_2 (InputLayer)        [(None, 115)]             0         \n",
            "                                                                 \n",
            " dense_5 (Dense)             (None, 50)                5800      \n",
            "                                                                 \n",
            " dense_6 (Dense)             (None, 1)                 51        \n",
            "                                                                 \n",
            "=================================================================\n",
            "Total params: 5,851\n",
            "Trainable params: 5,851\n",
            "Non-trainable params: 0\n",
            "_________________________________________________________________\n"
          ]
        }
      ],
      "source": [
        "if model_selection[model_flag]==\"ALL\" or model_selection[model_flag] == \"AE\":\n",
        "  # summary of model layers\n",
        "  ae_classifier.summary()"
      ]
    },
    {
      "cell_type": "code",
      "execution_count": 78,
      "metadata": {
        "id": "23n8Qt0uNX8Z",
        "colab": {
          "base_uri": "https://localhost:8080/"
        },
        "outputId": "b5fce355-7959-493d-ab01-8c65f24c2596"
      },
      "outputs": [
        {
          "output_type": "stream",
          "name": "stdout",
          "text": [
            "Epoch 1/300\n",
            "40/40 [==============================] - 1s 6ms/step - loss: 0.7685 - accuracy: 0.4412 - val_loss: 0.6607 - val_accuracy: 0.9382\n",
            "Epoch 2/300\n",
            "40/40 [==============================] - 0s 4ms/step - loss: 0.6270 - accuracy: 0.6374 - val_loss: 0.6084 - val_accuracy: 0.6224\n",
            "Epoch 3/300\n",
            "40/40 [==============================] - 0s 3ms/step - loss: 0.5901 - accuracy: 0.6295 - val_loss: 0.5783 - val_accuracy: 0.6224\n",
            "Epoch 4/300\n",
            "40/40 [==============================] - 0s 3ms/step - loss: 0.5593 - accuracy: 0.6295 - val_loss: 0.5465 - val_accuracy: 0.6224\n",
            "Epoch 5/300\n",
            "40/40 [==============================] - 0s 3ms/step - loss: 0.5265 - accuracy: 0.6295 - val_loss: 0.5124 - val_accuracy: 0.6224\n",
            "Epoch 6/300\n",
            "40/40 [==============================] - 0s 3ms/step - loss: 0.4910 - accuracy: 0.8677 - val_loss: 0.4756 - val_accuracy: 0.9622\n",
            "Epoch 7/300\n",
            "40/40 [==============================] - 0s 3ms/step - loss: 0.4525 - accuracy: 0.9649 - val_loss: 0.4360 - val_accuracy: 0.9622\n",
            "Epoch 8/300\n",
            "40/40 [==============================] - 0s 3ms/step - loss: 0.4120 - accuracy: 0.9649 - val_loss: 0.3948 - val_accuracy: 0.9622\n",
            "Epoch 9/300\n",
            "40/40 [==============================] - 0s 4ms/step - loss: 0.3708 - accuracy: 0.9649 - val_loss: 0.3543 - val_accuracy: 0.9622\n",
            "Epoch 10/300\n",
            "40/40 [==============================] - 0s 3ms/step - loss: 0.3310 - accuracy: 0.9649 - val_loss: 0.3162 - val_accuracy: 0.9622\n",
            "Epoch 11/300\n",
            "40/40 [==============================] - 0s 4ms/step - loss: 0.2946 - accuracy: 0.9651 - val_loss: 0.2822 - val_accuracy: 0.9628\n",
            "Epoch 12/300\n",
            "40/40 [==============================] - 0s 4ms/step - loss: 0.2630 - accuracy: 0.9653 - val_loss: 0.2537 - val_accuracy: 0.9628\n",
            "Epoch 13/300\n",
            "40/40 [==============================] - 0s 3ms/step - loss: 0.2367 - accuracy: 0.9653 - val_loss: 0.2304 - val_accuracy: 0.9628\n",
            "Epoch 14/300\n",
            "40/40 [==============================] - 0s 4ms/step - loss: 0.2156 - accuracy: 0.9653 - val_loss: 0.2120 - val_accuracy: 0.9628\n",
            "Epoch 15/300\n",
            "40/40 [==============================] - 0s 3ms/step - loss: 0.1992 - accuracy: 0.9653 - val_loss: 0.1978 - val_accuracy: 0.9628\n",
            "Epoch 16/300\n",
            "40/40 [==============================] - 0s 4ms/step - loss: 0.1864 - accuracy: 0.9653 - val_loss: 0.1870 - val_accuracy: 0.9628\n",
            "Epoch 17/300\n",
            "40/40 [==============================] - 0s 3ms/step - loss: 0.1767 - accuracy: 0.9653 - val_loss: 0.1788 - val_accuracy: 0.9628\n",
            "Epoch 18/300\n",
            "40/40 [==============================] - 0s 3ms/step - loss: 0.1693 - accuracy: 0.9653 - val_loss: 0.1724 - val_accuracy: 0.9628\n",
            "Epoch 19/300\n",
            "40/40 [==============================] - 0s 4ms/step - loss: 0.1636 - accuracy: 0.9653 - val_loss: 0.1675 - val_accuracy: 0.9628\n",
            "Epoch 20/300\n",
            "40/40 [==============================] - 0s 3ms/step - loss: 0.1593 - accuracy: 0.9653 - val_loss: 0.1639 - val_accuracy: 0.9628\n",
            "Epoch 21/300\n",
            "40/40 [==============================] - 0s 4ms/step - loss: 0.1559 - accuracy: 0.9653 - val_loss: 0.1610 - val_accuracy: 0.9628\n",
            "Epoch 22/300\n",
            "40/40 [==============================] - 0s 4ms/step - loss: 0.1533 - accuracy: 0.9653 - val_loss: 0.1587 - val_accuracy: 0.9628\n",
            "Epoch 23/300\n",
            "40/40 [==============================] - 0s 4ms/step - loss: 0.1513 - accuracy: 0.9653 - val_loss: 0.1569 - val_accuracy: 0.9628\n",
            "Epoch 24/300\n",
            "40/40 [==============================] - 0s 3ms/step - loss: 0.1496 - accuracy: 0.9653 - val_loss: 0.1555 - val_accuracy: 0.9628\n",
            "Epoch 25/300\n",
            "40/40 [==============================] - 0s 3ms/step - loss: 0.1484 - accuracy: 0.9653 - val_loss: 0.1543 - val_accuracy: 0.9628\n",
            "Epoch 26/300\n",
            "40/40 [==============================] - 0s 3ms/step - loss: 0.1473 - accuracy: 0.9653 - val_loss: 0.1533 - val_accuracy: 0.9628\n",
            "Epoch 27/300\n",
            "40/40 [==============================] - 0s 6ms/step - loss: 0.1465 - accuracy: 0.9653 - val_loss: 0.1525 - val_accuracy: 0.9628\n",
            "Epoch 28/300\n",
            "40/40 [==============================] - 0s 6ms/step - loss: 0.1458 - accuracy: 0.9653 - val_loss: 0.1521 - val_accuracy: 0.9628\n",
            "Epoch 29/300\n",
            "40/40 [==============================] - 0s 6ms/step - loss: 0.1453 - accuracy: 0.9653 - val_loss: 0.1514 - val_accuracy: 0.9628\n",
            "Epoch 30/300\n",
            "40/40 [==============================] - 0s 6ms/step - loss: 0.1449 - accuracy: 0.9653 - val_loss: 0.1512 - val_accuracy: 0.9628\n",
            "Epoch 31/300\n",
            "40/40 [==============================] - 0s 6ms/step - loss: 0.1445 - accuracy: 0.9653 - val_loss: 0.1506 - val_accuracy: 0.9628\n",
            "Epoch 32/300\n",
            "40/40 [==============================] - 0s 5ms/step - loss: 0.1441 - accuracy: 0.9653 - val_loss: 0.1504 - val_accuracy: 0.9628\n",
            "Epoch 33/300\n",
            "40/40 [==============================] - 0s 5ms/step - loss: 0.1439 - accuracy: 0.9653 - val_loss: 0.1500 - val_accuracy: 0.9628\n",
            "Epoch 34/300\n",
            "40/40 [==============================] - 0s 5ms/step - loss: 0.1437 - accuracy: 0.9653 - val_loss: 0.1498 - val_accuracy: 0.9628\n",
            "Epoch 35/300\n",
            "40/40 [==============================] - 0s 6ms/step - loss: 0.1435 - accuracy: 0.9653 - val_loss: 0.1497 - val_accuracy: 0.9628\n",
            "Epoch 36/300\n",
            "40/40 [==============================] - 0s 6ms/step - loss: 0.1434 - accuracy: 0.9653 - val_loss: 0.1494 - val_accuracy: 0.9628\n",
            "Epoch 37/300\n",
            "40/40 [==============================] - 0s 6ms/step - loss: 0.1432 - accuracy: 0.9653 - val_loss: 0.1494 - val_accuracy: 0.9628\n",
            "Epoch 38/300\n",
            "40/40 [==============================] - 0s 6ms/step - loss: 0.1431 - accuracy: 0.9653 - val_loss: 0.1492 - val_accuracy: 0.9628\n",
            "Epoch 39/300\n",
            "40/40 [==============================] - 0s 5ms/step - loss: 0.1430 - accuracy: 0.9653 - val_loss: 0.1492 - val_accuracy: 0.9628\n",
            "Epoch 40/300\n",
            "40/40 [==============================] - 0s 5ms/step - loss: 0.1429 - accuracy: 0.9653 - val_loss: 0.1489 - val_accuracy: 0.9628\n",
            "Epoch 41/300\n",
            "40/40 [==============================] - 0s 5ms/step - loss: 0.1429 - accuracy: 0.9653 - val_loss: 0.1490 - val_accuracy: 0.9628\n",
            "Epoch 42/300\n",
            "40/40 [==============================] - 0s 3ms/step - loss: 0.1428 - accuracy: 0.9653 - val_loss: 0.1488 - val_accuracy: 0.9628\n",
            "Epoch 43/300\n",
            "40/40 [==============================] - 0s 3ms/step - loss: 0.1428 - accuracy: 0.9653 - val_loss: 0.1488 - val_accuracy: 0.9628\n",
            "Epoch 44/300\n",
            "40/40 [==============================] - 0s 3ms/step - loss: 0.1427 - accuracy: 0.9653 - val_loss: 0.1487 - val_accuracy: 0.9628\n",
            "Epoch 45/300\n",
            "40/40 [==============================] - 0s 3ms/step - loss: 0.1427 - accuracy: 0.9653 - val_loss: 0.1486 - val_accuracy: 0.9628\n",
            "Epoch 46/300\n",
            "40/40 [==============================] - 0s 3ms/step - loss: 0.1427 - accuracy: 0.9653 - val_loss: 0.1487 - val_accuracy: 0.9628\n",
            "Epoch 47/300\n",
            "40/40 [==============================] - 0s 3ms/step - loss: 0.1426 - accuracy: 0.9653 - val_loss: 0.1487 - val_accuracy: 0.9628\n",
            "Epoch 48/300\n",
            "40/40 [==============================] - 0s 3ms/step - loss: 0.1426 - accuracy: 0.9653 - val_loss: 0.1486 - val_accuracy: 0.9628\n",
            "Epoch 49/300\n",
            "40/40 [==============================] - 0s 3ms/step - loss: 0.1426 - accuracy: 0.9653 - val_loss: 0.1486 - val_accuracy: 0.9628\n",
            "Epoch 50/300\n",
            "40/40 [==============================] - 0s 4ms/step - loss: 0.1426 - accuracy: 0.9653 - val_loss: 0.1485 - val_accuracy: 0.9628\n",
            "Epoch 51/300\n",
            "40/40 [==============================] - 0s 3ms/step - loss: 0.1426 - accuracy: 0.9653 - val_loss: 0.1484 - val_accuracy: 0.9628\n",
            "Epoch 52/300\n",
            "40/40 [==============================] - 0s 3ms/step - loss: 0.1426 - accuracy: 0.9653 - val_loss: 0.1485 - val_accuracy: 0.9628\n",
            "Epoch 53/300\n",
            "40/40 [==============================] - 0s 4ms/step - loss: 0.1426 - accuracy: 0.9653 - val_loss: 0.1486 - val_accuracy: 0.9628\n",
            "Epoch 54/300\n",
            "40/40 [==============================] - 0s 3ms/step - loss: 0.1425 - accuracy: 0.9653 - val_loss: 0.1484 - val_accuracy: 0.9628\n",
            "Epoch 55/300\n",
            "40/40 [==============================] - 0s 3ms/step - loss: 0.1425 - accuracy: 0.9653 - val_loss: 0.1486 - val_accuracy: 0.9628\n",
            "Epoch 56/300\n",
            "40/40 [==============================] - 0s 3ms/step - loss: 0.1425 - accuracy: 0.9653 - val_loss: 0.1485 - val_accuracy: 0.9628\n",
            "Epoch 57/300\n",
            "40/40 [==============================] - 0s 4ms/step - loss: 0.1425 - accuracy: 0.9653 - val_loss: 0.1483 - val_accuracy: 0.9628\n",
            "Epoch 58/300\n",
            "40/40 [==============================] - 0s 3ms/step - loss: 0.1425 - accuracy: 0.9653 - val_loss: 0.1484 - val_accuracy: 0.9628\n",
            "Epoch 59/300\n",
            "40/40 [==============================] - 0s 4ms/step - loss: 0.1426 - accuracy: 0.9653 - val_loss: 0.1484 - val_accuracy: 0.9628\n",
            "Epoch 60/300\n",
            "40/40 [==============================] - 0s 3ms/step - loss: 0.1425 - accuracy: 0.9653 - val_loss: 0.1483 - val_accuracy: 0.9628\n",
            "Epoch 61/300\n",
            "40/40 [==============================] - 0s 3ms/step - loss: 0.1425 - accuracy: 0.9653 - val_loss: 0.1483 - val_accuracy: 0.9628\n",
            "Epoch 62/300\n",
            "40/40 [==============================] - 0s 3ms/step - loss: 0.1425 - accuracy: 0.9653 - val_loss: 0.1485 - val_accuracy: 0.9628\n",
            "Epoch 63/300\n",
            "40/40 [==============================] - 0s 3ms/step - loss: 0.1425 - accuracy: 0.9653 - val_loss: 0.1485 - val_accuracy: 0.9628\n",
            "Epoch 64/300\n",
            "40/40 [==============================] - 0s 5ms/step - loss: 0.1425 - accuracy: 0.9653 - val_loss: 0.1483 - val_accuracy: 0.9628\n",
            "Epoch 65/300\n",
            "40/40 [==============================] - 0s 3ms/step - loss: 0.1425 - accuracy: 0.9653 - val_loss: 0.1483 - val_accuracy: 0.9628\n",
            "Epoch 66/300\n",
            "40/40 [==============================] - 0s 3ms/step - loss: 0.1425 - accuracy: 0.9653 - val_loss: 0.1483 - val_accuracy: 0.9628\n",
            "Epoch 67/300\n",
            "40/40 [==============================] - 0s 3ms/step - loss: 0.1425 - accuracy: 0.9653 - val_loss: 0.1482 - val_accuracy: 0.9628\n",
            "Epoch 68/300\n",
            "40/40 [==============================] - 0s 3ms/step - loss: 0.1425 - accuracy: 0.9653 - val_loss: 0.1483 - val_accuracy: 0.9628\n",
            "Epoch 69/300\n",
            "40/40 [==============================] - 0s 3ms/step - loss: 0.1425 - accuracy: 0.9653 - val_loss: 0.1483 - val_accuracy: 0.9628\n",
            "Epoch 70/300\n",
            "40/40 [==============================] - 0s 3ms/step - loss: 0.1425 - accuracy: 0.9653 - val_loss: 0.1483 - val_accuracy: 0.9628\n",
            "Epoch 71/300\n",
            "40/40 [==============================] - 0s 3ms/step - loss: 0.1425 - accuracy: 0.9653 - val_loss: 0.1483 - val_accuracy: 0.9628\n",
            "Epoch 72/300\n",
            "40/40 [==============================] - 0s 3ms/step - loss: 0.1425 - accuracy: 0.9653 - val_loss: 0.1482 - val_accuracy: 0.9628\n",
            "Epoch 73/300\n",
            "40/40 [==============================] - 0s 3ms/step - loss: 0.1425 - accuracy: 0.9653 - val_loss: 0.1484 - val_accuracy: 0.9628\n",
            "Epoch 74/300\n",
            "40/40 [==============================] - 0s 3ms/step - loss: 0.1425 - accuracy: 0.9653 - val_loss: 0.1481 - val_accuracy: 0.9628\n",
            "Epoch 75/300\n",
            "40/40 [==============================] - 0s 3ms/step - loss: 0.1425 - accuracy: 0.9653 - val_loss: 0.1484 - val_accuracy: 0.9628\n",
            "Epoch 76/300\n",
            "40/40 [==============================] - 0s 3ms/step - loss: 0.1425 - accuracy: 0.9653 - val_loss: 0.1485 - val_accuracy: 0.9628\n",
            "Epoch 77/300\n",
            "40/40 [==============================] - 0s 4ms/step - loss: 0.1425 - accuracy: 0.9653 - val_loss: 0.1482 - val_accuracy: 0.9628\n",
            "Epoch 78/300\n",
            "40/40 [==============================] - 0s 4ms/step - loss: 0.1425 - accuracy: 0.9653 - val_loss: 0.1485 - val_accuracy: 0.9628\n",
            "Epoch 79/300\n",
            "40/40 [==============================] - 0s 3ms/step - loss: 0.1425 - accuracy: 0.9653 - val_loss: 0.1483 - val_accuracy: 0.9628\n",
            "Epoch 80/300\n",
            "40/40 [==============================] - 0s 4ms/step - loss: 0.1425 - accuracy: 0.9653 - val_loss: 0.1482 - val_accuracy: 0.9628\n",
            "Epoch 81/300\n",
            "40/40 [==============================] - 0s 3ms/step - loss: 0.1425 - accuracy: 0.9653 - val_loss: 0.1481 - val_accuracy: 0.9628\n",
            "Epoch 82/300\n",
            "40/40 [==============================] - 0s 3ms/step - loss: 0.1425 - accuracy: 0.9653 - val_loss: 0.1482 - val_accuracy: 0.9628\n",
            "Epoch 83/300\n",
            "40/40 [==============================] - 0s 3ms/step - loss: 0.1425 - accuracy: 0.9653 - val_loss: 0.1485 - val_accuracy: 0.9628\n",
            "Epoch 84/300\n",
            "40/40 [==============================] - 0s 3ms/step - loss: 0.1425 - accuracy: 0.9653 - val_loss: 0.1483 - val_accuracy: 0.9628\n",
            "Epoch 85/300\n",
            "40/40 [==============================] - 0s 4ms/step - loss: 0.1425 - accuracy: 0.9653 - val_loss: 0.1483 - val_accuracy: 0.9628\n",
            "Epoch 86/300\n",
            "40/40 [==============================] - 0s 3ms/step - loss: 0.1426 - accuracy: 0.9653 - val_loss: 0.1481 - val_accuracy: 0.9628\n",
            "Epoch 87/300\n",
            "40/40 [==============================] - 0s 3ms/step - loss: 0.1425 - accuracy: 0.9653 - val_loss: 0.1482 - val_accuracy: 0.9628\n",
            "Epoch 88/300\n",
            "40/40 [==============================] - 0s 3ms/step - loss: 0.1425 - accuracy: 0.9653 - val_loss: 0.1485 - val_accuracy: 0.9628\n",
            "Epoch 89/300\n",
            "40/40 [==============================] - 0s 3ms/step - loss: 0.1425 - accuracy: 0.9653 - val_loss: 0.1481 - val_accuracy: 0.9628\n",
            "Epoch 90/300\n",
            "40/40 [==============================] - 0s 3ms/step - loss: 0.1425 - accuracy: 0.9653 - val_loss: 0.1482 - val_accuracy: 0.9628\n",
            "Epoch 91/300\n",
            "40/40 [==============================] - 0s 3ms/step - loss: 0.1425 - accuracy: 0.9653 - val_loss: 0.1484 - val_accuracy: 0.9628\n",
            "Epoch 92/300\n",
            "40/40 [==============================] - 0s 4ms/step - loss: 0.1425 - accuracy: 0.9653 - val_loss: 0.1481 - val_accuracy: 0.9628\n",
            "Epoch 93/300\n",
            "40/40 [==============================] - 0s 3ms/step - loss: 0.1425 - accuracy: 0.9653 - val_loss: 0.1484 - val_accuracy: 0.9628\n",
            "Epoch 94/300\n",
            "40/40 [==============================] - 0s 3ms/step - loss: 0.1425 - accuracy: 0.9653 - val_loss: 0.1481 - val_accuracy: 0.9628\n",
            "Epoch 95/300\n",
            "40/40 [==============================] - 0s 3ms/step - loss: 0.1425 - accuracy: 0.9653 - val_loss: 0.1485 - val_accuracy: 0.9628\n",
            "Epoch 96/300\n",
            "40/40 [==============================] - 0s 4ms/step - loss: 0.1425 - accuracy: 0.9653 - val_loss: 0.1480 - val_accuracy: 0.9628\n",
            "Epoch 97/300\n",
            "40/40 [==============================] - 0s 3ms/step - loss: 0.1425 - accuracy: 0.9653 - val_loss: 0.1484 - val_accuracy: 0.9628\n",
            "Epoch 98/300\n",
            "40/40 [==============================] - 0s 3ms/step - loss: 0.1425 - accuracy: 0.9653 - val_loss: 0.1481 - val_accuracy: 0.9628\n",
            "Epoch 99/300\n",
            "40/40 [==============================] - 0s 3ms/step - loss: 0.1425 - accuracy: 0.9653 - val_loss: 0.1483 - val_accuracy: 0.9628\n",
            "Epoch 100/300\n",
            "40/40 [==============================] - 0s 4ms/step - loss: 0.1425 - accuracy: 0.9653 - val_loss: 0.1483 - val_accuracy: 0.9628\n",
            "Epoch 101/300\n",
            "40/40 [==============================] - 0s 4ms/step - loss: 0.1425 - accuracy: 0.9653 - val_loss: 0.1481 - val_accuracy: 0.9628\n",
            "Epoch 102/300\n",
            "40/40 [==============================] - 0s 3ms/step - loss: 0.1425 - accuracy: 0.9653 - val_loss: 0.1484 - val_accuracy: 0.9628\n",
            "Epoch 103/300\n",
            "40/40 [==============================] - 0s 3ms/step - loss: 0.1425 - accuracy: 0.9653 - val_loss: 0.1482 - val_accuracy: 0.9628\n",
            "Epoch 104/300\n",
            "40/40 [==============================] - 0s 3ms/step - loss: 0.1425 - accuracy: 0.9653 - val_loss: 0.1484 - val_accuracy: 0.9628\n",
            "Epoch 105/300\n",
            "40/40 [==============================] - 0s 3ms/step - loss: 0.1426 - accuracy: 0.9653 - val_loss: 0.1483 - val_accuracy: 0.9628\n",
            "Epoch 106/300\n",
            "40/40 [==============================] - 0s 4ms/step - loss: 0.1425 - accuracy: 0.9653 - val_loss: 0.1484 - val_accuracy: 0.9628\n",
            "Epoch 107/300\n",
            "40/40 [==============================] - 0s 3ms/step - loss: 0.1425 - accuracy: 0.9653 - val_loss: 0.1481 - val_accuracy: 0.9628\n",
            "Epoch 108/300\n",
            "40/40 [==============================] - 0s 3ms/step - loss: 0.1425 - accuracy: 0.9653 - val_loss: 0.1491 - val_accuracy: 0.9628\n",
            "Epoch 109/300\n",
            "40/40 [==============================] - 0s 4ms/step - loss: 0.1426 - accuracy: 0.9653 - val_loss: 0.1482 - val_accuracy: 0.9628\n",
            "Epoch 110/300\n",
            "40/40 [==============================] - 0s 6ms/step - loss: 0.1425 - accuracy: 0.9653 - val_loss: 0.1483 - val_accuracy: 0.9628\n",
            "Epoch 111/300\n",
            "40/40 [==============================] - 0s 6ms/step - loss: 0.1425 - accuracy: 0.9653 - val_loss: 0.1482 - val_accuracy: 0.9628\n",
            "Epoch 112/300\n",
            "40/40 [==============================] - 0s 6ms/step - loss: 0.1425 - accuracy: 0.9653 - val_loss: 0.1483 - val_accuracy: 0.9628\n",
            "Epoch 113/300\n",
            "40/40 [==============================] - 0s 6ms/step - loss: 0.1425 - accuracy: 0.9653 - val_loss: 0.1482 - val_accuracy: 0.9628\n",
            "Epoch 114/300\n",
            "40/40 [==============================] - 0s 6ms/step - loss: 0.1425 - accuracy: 0.9653 - val_loss: 0.1483 - val_accuracy: 0.9628\n",
            "Epoch 115/300\n",
            "40/40 [==============================] - 0s 6ms/step - loss: 0.1426 - accuracy: 0.9653 - val_loss: 0.1480 - val_accuracy: 0.9628\n",
            "Epoch 116/300\n",
            "40/40 [==============================] - 0s 6ms/step - loss: 0.1425 - accuracy: 0.9653 - val_loss: 0.1485 - val_accuracy: 0.9628\n",
            "Epoch 117/300\n",
            "40/40 [==============================] - 0s 6ms/step - loss: 0.1425 - accuracy: 0.9653 - val_loss: 0.1484 - val_accuracy: 0.9628\n",
            "Epoch 118/300\n",
            "40/40 [==============================] - 0s 6ms/step - loss: 0.1425 - accuracy: 0.9653 - val_loss: 0.1482 - val_accuracy: 0.9628\n",
            "Epoch 119/300\n",
            "40/40 [==============================] - 0s 6ms/step - loss: 0.1425 - accuracy: 0.9653 - val_loss: 0.1482 - val_accuracy: 0.9628\n",
            "Epoch 120/300\n",
            "40/40 [==============================] - 0s 6ms/step - loss: 0.1425 - accuracy: 0.9653 - val_loss: 0.1483 - val_accuracy: 0.9628\n",
            "Epoch 121/300\n",
            "40/40 [==============================] - 0s 6ms/step - loss: 0.1425 - accuracy: 0.9653 - val_loss: 0.1484 - val_accuracy: 0.9628\n",
            "Epoch 122/300\n",
            "40/40 [==============================] - 0s 6ms/step - loss: 0.1426 - accuracy: 0.9653 - val_loss: 0.1483 - val_accuracy: 0.9628\n",
            "Epoch 123/300\n",
            "40/40 [==============================] - 0s 5ms/step - loss: 0.1425 - accuracy: 0.9653 - val_loss: 0.1484 - val_accuracy: 0.9628\n",
            "Epoch 124/300\n",
            "40/40 [==============================] - 0s 4ms/step - loss: 0.1425 - accuracy: 0.9653 - val_loss: 0.1484 - val_accuracy: 0.9628\n",
            "Epoch 125/300\n",
            "40/40 [==============================] - 0s 3ms/step - loss: 0.1425 - accuracy: 0.9653 - val_loss: 0.1482 - val_accuracy: 0.9628\n",
            "Epoch 126/300\n",
            "40/40 [==============================] - 0s 4ms/step - loss: 0.1425 - accuracy: 0.9653 - val_loss: 0.1486 - val_accuracy: 0.9628\n",
            "Epoch 127/300\n",
            "40/40 [==============================] - 0s 3ms/step - loss: 0.1425 - accuracy: 0.9653 - val_loss: 0.1481 - val_accuracy: 0.9628\n",
            "Epoch 128/300\n",
            "40/40 [==============================] - 0s 3ms/step - loss: 0.1425 - accuracy: 0.9653 - val_loss: 0.1482 - val_accuracy: 0.9628\n",
            "Epoch 129/300\n",
            "40/40 [==============================] - 0s 4ms/step - loss: 0.1426 - accuracy: 0.9653 - val_loss: 0.1482 - val_accuracy: 0.9628\n",
            "Epoch 130/300\n",
            "40/40 [==============================] - 0s 4ms/step - loss: 0.1425 - accuracy: 0.9653 - val_loss: 0.1483 - val_accuracy: 0.9628\n",
            "Epoch 131/300\n",
            "40/40 [==============================] - 0s 4ms/step - loss: 0.1427 - accuracy: 0.9653 - val_loss: 0.1480 - val_accuracy: 0.9628\n",
            "Epoch 132/300\n",
            "40/40 [==============================] - 0s 4ms/step - loss: 0.1425 - accuracy: 0.9653 - val_loss: 0.1484 - val_accuracy: 0.9628\n",
            "Epoch 133/300\n",
            "40/40 [==============================] - 0s 4ms/step - loss: 0.1425 - accuracy: 0.9653 - val_loss: 0.1484 - val_accuracy: 0.9628\n",
            "Epoch 134/300\n",
            "40/40 [==============================] - 0s 4ms/step - loss: 0.1426 - accuracy: 0.9653 - val_loss: 0.1485 - val_accuracy: 0.9628\n",
            "Epoch 135/300\n",
            "40/40 [==============================] - 0s 3ms/step - loss: 0.1425 - accuracy: 0.9653 - val_loss: 0.1480 - val_accuracy: 0.9628\n",
            "Epoch 136/300\n",
            "40/40 [==============================] - 0s 3ms/step - loss: 0.1425 - accuracy: 0.9653 - val_loss: 0.1485 - val_accuracy: 0.9628\n",
            "Epoch 137/300\n",
            "40/40 [==============================] - 0s 3ms/step - loss: 0.1425 - accuracy: 0.9653 - val_loss: 0.1480 - val_accuracy: 0.9628\n",
            "Epoch 138/300\n",
            "40/40 [==============================] - 0s 3ms/step - loss: 0.1425 - accuracy: 0.9653 - val_loss: 0.1481 - val_accuracy: 0.9628\n",
            "Epoch 139/300\n",
            "40/40 [==============================] - 0s 4ms/step - loss: 0.1425 - accuracy: 0.9653 - val_loss: 0.1484 - val_accuracy: 0.9628\n",
            "Epoch 140/300\n",
            "40/40 [==============================] - 0s 4ms/step - loss: 0.1425 - accuracy: 0.9653 - val_loss: 0.1482 - val_accuracy: 0.9628\n",
            "Epoch 141/300\n",
            "40/40 [==============================] - 0s 3ms/step - loss: 0.1425 - accuracy: 0.9653 - val_loss: 0.1480 - val_accuracy: 0.9628\n",
            "Epoch 142/300\n",
            "40/40 [==============================] - 0s 3ms/step - loss: 0.1426 - accuracy: 0.9653 - val_loss: 0.1487 - val_accuracy: 0.9628\n",
            "Epoch 143/300\n",
            "40/40 [==============================] - 0s 3ms/step - loss: 0.1425 - accuracy: 0.9653 - val_loss: 0.1484 - val_accuracy: 0.9628\n",
            "Epoch 144/300\n",
            "40/40 [==============================] - 0s 3ms/step - loss: 0.1425 - accuracy: 0.9653 - val_loss: 0.1484 - val_accuracy: 0.9628\n",
            "Epoch 145/300\n",
            "40/40 [==============================] - 0s 3ms/step - loss: 0.1426 - accuracy: 0.9653 - val_loss: 0.1479 - val_accuracy: 0.9628\n",
            "Epoch 146/300\n",
            "40/40 [==============================] - 0s 4ms/step - loss: 0.1426 - accuracy: 0.9653 - val_loss: 0.1481 - val_accuracy: 0.9628\n",
            "Epoch 147/300\n",
            "40/40 [==============================] - 0s 3ms/step - loss: 0.1426 - accuracy: 0.9653 - val_loss: 0.1482 - val_accuracy: 0.9628\n",
            "Epoch 148/300\n",
            "40/40 [==============================] - 0s 3ms/step - loss: 0.1425 - accuracy: 0.9653 - val_loss: 0.1485 - val_accuracy: 0.9628\n",
            "Epoch 149/300\n",
            "40/40 [==============================] - 0s 4ms/step - loss: 0.1426 - accuracy: 0.9653 - val_loss: 0.1480 - val_accuracy: 0.9628\n",
            "Epoch 150/300\n",
            "40/40 [==============================] - 0s 3ms/step - loss: 0.1425 - accuracy: 0.9653 - val_loss: 0.1481 - val_accuracy: 0.9628\n",
            "Epoch 151/300\n",
            "40/40 [==============================] - 0s 3ms/step - loss: 0.1425 - accuracy: 0.9653 - val_loss: 0.1481 - val_accuracy: 0.9628\n",
            "Epoch 152/300\n",
            "40/40 [==============================] - 0s 3ms/step - loss: 0.1426 - accuracy: 0.9653 - val_loss: 0.1479 - val_accuracy: 0.9628\n",
            "Epoch 153/300\n",
            "40/40 [==============================] - 0s 4ms/step - loss: 0.1425 - accuracy: 0.9653 - val_loss: 0.1486 - val_accuracy: 0.9628\n",
            "Epoch 154/300\n",
            "40/40 [==============================] - 0s 4ms/step - loss: 0.1425 - accuracy: 0.9653 - val_loss: 0.1482 - val_accuracy: 0.9628\n",
            "Epoch 155/300\n",
            "40/40 [==============================] - 0s 4ms/step - loss: 0.1425 - accuracy: 0.9653 - val_loss: 0.1483 - val_accuracy: 0.9628\n",
            "Epoch 156/300\n",
            "40/40 [==============================] - 0s 3ms/step - loss: 0.1425 - accuracy: 0.9653 - val_loss: 0.1481 - val_accuracy: 0.9628\n",
            "Epoch 157/300\n",
            "40/40 [==============================] - 0s 3ms/step - loss: 0.1425 - accuracy: 0.9653 - val_loss: 0.1485 - val_accuracy: 0.9628\n",
            "Epoch 158/300\n",
            "40/40 [==============================] - 0s 3ms/step - loss: 0.1425 - accuracy: 0.9653 - val_loss: 0.1488 - val_accuracy: 0.9628\n",
            "Epoch 159/300\n",
            "40/40 [==============================] - 0s 3ms/step - loss: 0.1426 - accuracy: 0.9653 - val_loss: 0.1483 - val_accuracy: 0.9628\n",
            "Epoch 160/300\n",
            "40/40 [==============================] - 0s 4ms/step - loss: 0.1425 - accuracy: 0.9653 - val_loss: 0.1485 - val_accuracy: 0.9628\n",
            "Epoch 161/300\n",
            "40/40 [==============================] - 0s 3ms/step - loss: 0.1426 - accuracy: 0.9653 - val_loss: 0.1483 - val_accuracy: 0.9628\n",
            "Epoch 162/300\n",
            "40/40 [==============================] - 0s 3ms/step - loss: 0.1425 - accuracy: 0.9653 - val_loss: 0.1482 - val_accuracy: 0.9628\n",
            "Epoch 163/300\n",
            "40/40 [==============================] - 0s 3ms/step - loss: 0.1425 - accuracy: 0.9653 - val_loss: 0.1482 - val_accuracy: 0.9628\n",
            "Epoch 164/300\n",
            "40/40 [==============================] - 0s 4ms/step - loss: 0.1425 - accuracy: 0.9653 - val_loss: 0.1484 - val_accuracy: 0.9628\n",
            "Epoch 165/300\n",
            "40/40 [==============================] - 0s 3ms/step - loss: 0.1425 - accuracy: 0.9653 - val_loss: 0.1484 - val_accuracy: 0.9628\n",
            "Epoch 166/300\n",
            "40/40 [==============================] - 0s 3ms/step - loss: 0.1426 - accuracy: 0.9653 - val_loss: 0.1482 - val_accuracy: 0.9628\n",
            "Epoch 167/300\n",
            "40/40 [==============================] - 0s 4ms/step - loss: 0.1425 - accuracy: 0.9653 - val_loss: 0.1482 - val_accuracy: 0.9628\n",
            "Epoch 168/300\n",
            "40/40 [==============================] - 0s 3ms/step - loss: 0.1425 - accuracy: 0.9653 - val_loss: 0.1484 - val_accuracy: 0.9628\n",
            "Epoch 169/300\n",
            "40/40 [==============================] - 0s 4ms/step - loss: 0.1426 - accuracy: 0.9653 - val_loss: 0.1484 - val_accuracy: 0.9628\n",
            "Epoch 170/300\n",
            "40/40 [==============================] - 0s 3ms/step - loss: 0.1426 - accuracy: 0.9653 - val_loss: 0.1483 - val_accuracy: 0.9628\n",
            "Epoch 171/300\n",
            "40/40 [==============================] - 0s 3ms/step - loss: 0.1425 - accuracy: 0.9653 - val_loss: 0.1482 - val_accuracy: 0.9628\n",
            "Epoch 172/300\n",
            "40/40 [==============================] - 0s 4ms/step - loss: 0.1425 - accuracy: 0.9653 - val_loss: 0.1483 - val_accuracy: 0.9628\n",
            "Epoch 173/300\n",
            "40/40 [==============================] - 0s 3ms/step - loss: 0.1425 - accuracy: 0.9653 - val_loss: 0.1484 - val_accuracy: 0.9628\n",
            "Epoch 174/300\n",
            "40/40 [==============================] - 0s 4ms/step - loss: 0.1425 - accuracy: 0.9653 - val_loss: 0.1481 - val_accuracy: 0.9628\n",
            "Epoch 175/300\n",
            "40/40 [==============================] - 0s 3ms/step - loss: 0.1425 - accuracy: 0.9653 - val_loss: 0.1483 - val_accuracy: 0.9628\n",
            "Epoch 176/300\n",
            "40/40 [==============================] - 0s 3ms/step - loss: 0.1425 - accuracy: 0.9653 - val_loss: 0.1481 - val_accuracy: 0.9628\n",
            "Epoch 177/300\n",
            "40/40 [==============================] - 0s 3ms/step - loss: 0.1425 - accuracy: 0.9653 - val_loss: 0.1479 - val_accuracy: 0.9628\n",
            "Epoch 178/300\n",
            "40/40 [==============================] - 0s 3ms/step - loss: 0.1425 - accuracy: 0.9653 - val_loss: 0.1481 - val_accuracy: 0.9628\n",
            "Epoch 179/300\n",
            "40/40 [==============================] - 0s 3ms/step - loss: 0.1425 - accuracy: 0.9653 - val_loss: 0.1482 - val_accuracy: 0.9628\n",
            "Epoch 180/300\n",
            "40/40 [==============================] - 0s 3ms/step - loss: 0.1425 - accuracy: 0.9653 - val_loss: 0.1485 - val_accuracy: 0.9628\n",
            "Epoch 181/300\n",
            "40/40 [==============================] - 0s 4ms/step - loss: 0.1425 - accuracy: 0.9653 - val_loss: 0.1479 - val_accuracy: 0.9628\n",
            "Epoch 182/300\n",
            "40/40 [==============================] - 0s 4ms/step - loss: 0.1425 - accuracy: 0.9653 - val_loss: 0.1482 - val_accuracy: 0.9628\n",
            "Epoch 183/300\n",
            "40/40 [==============================] - 0s 3ms/step - loss: 0.1425 - accuracy: 0.9653 - val_loss: 0.1485 - val_accuracy: 0.9628\n",
            "Epoch 184/300\n",
            "40/40 [==============================] - 0s 4ms/step - loss: 0.1426 - accuracy: 0.9653 - val_loss: 0.1485 - val_accuracy: 0.9628\n",
            "Epoch 185/300\n",
            "40/40 [==============================] - 0s 3ms/step - loss: 0.1425 - accuracy: 0.9653 - val_loss: 0.1485 - val_accuracy: 0.9628\n",
            "Epoch 186/300\n",
            "40/40 [==============================] - 0s 3ms/step - loss: 0.1425 - accuracy: 0.9653 - val_loss: 0.1480 - val_accuracy: 0.9628\n",
            "Epoch 187/300\n",
            "40/40 [==============================] - 0s 3ms/step - loss: 0.1424 - accuracy: 0.9653 - val_loss: 0.1487 - val_accuracy: 0.9628\n",
            "Epoch 188/300\n",
            "40/40 [==============================] - 0s 4ms/step - loss: 0.1425 - accuracy: 0.9653 - val_loss: 0.1480 - val_accuracy: 0.9628\n",
            "Epoch 189/300\n",
            "40/40 [==============================] - 0s 4ms/step - loss: 0.1425 - accuracy: 0.9653 - val_loss: 0.1484 - val_accuracy: 0.9628\n",
            "Epoch 190/300\n",
            "40/40 [==============================] - 0s 3ms/step - loss: 0.1425 - accuracy: 0.9653 - val_loss: 0.1481 - val_accuracy: 0.9628\n",
            "Epoch 191/300\n",
            "40/40 [==============================] - 0s 6ms/step - loss: 0.1425 - accuracy: 0.9653 - val_loss: 0.1484 - val_accuracy: 0.9628\n",
            "Epoch 192/300\n",
            "40/40 [==============================] - 0s 6ms/step - loss: 0.1425 - accuracy: 0.9653 - val_loss: 0.1484 - val_accuracy: 0.9628\n",
            "Epoch 193/300\n",
            "40/40 [==============================] - 0s 6ms/step - loss: 0.1425 - accuracy: 0.9653 - val_loss: 0.1480 - val_accuracy: 0.9628\n",
            "Epoch 194/300\n",
            "40/40 [==============================] - 0s 7ms/step - loss: 0.1425 - accuracy: 0.9653 - val_loss: 0.1485 - val_accuracy: 0.9628\n",
            "Epoch 195/300\n",
            "40/40 [==============================] - 0s 6ms/step - loss: 0.1425 - accuracy: 0.9653 - val_loss: 0.1482 - val_accuracy: 0.9628\n",
            "Epoch 196/300\n",
            "40/40 [==============================] - 0s 6ms/step - loss: 0.1425 - accuracy: 0.9653 - val_loss: 0.1483 - val_accuracy: 0.9628\n",
            "Epoch 197/300\n",
            "40/40 [==============================] - 0s 5ms/step - loss: 0.1425 - accuracy: 0.9653 - val_loss: 0.1485 - val_accuracy: 0.9628\n",
            "Epoch 198/300\n",
            "40/40 [==============================] - 0s 5ms/step - loss: 0.1425 - accuracy: 0.9653 - val_loss: 0.1481 - val_accuracy: 0.9628\n",
            "Epoch 199/300\n",
            "40/40 [==============================] - 0s 6ms/step - loss: 0.1426 - accuracy: 0.9653 - val_loss: 0.1485 - val_accuracy: 0.9628\n",
            "Epoch 200/300\n",
            "40/40 [==============================] - 0s 5ms/step - loss: 0.1425 - accuracy: 0.9653 - val_loss: 0.1479 - val_accuracy: 0.9628\n",
            "Epoch 201/300\n",
            "40/40 [==============================] - 0s 6ms/step - loss: 0.1426 - accuracy: 0.9653 - val_loss: 0.1480 - val_accuracy: 0.9628\n",
            "Epoch 202/300\n",
            "40/40 [==============================] - 0s 5ms/step - loss: 0.1425 - accuracy: 0.9653 - val_loss: 0.1479 - val_accuracy: 0.9628\n",
            "Epoch 203/300\n",
            "40/40 [==============================] - 0s 5ms/step - loss: 0.1426 - accuracy: 0.9653 - val_loss: 0.1483 - val_accuracy: 0.9628\n",
            "Epoch 204/300\n",
            "40/40 [==============================] - 0s 6ms/step - loss: 0.1425 - accuracy: 0.9653 - val_loss: 0.1484 - val_accuracy: 0.9628\n",
            "Epoch 205/300\n",
            "40/40 [==============================] - 0s 5ms/step - loss: 0.1425 - accuracy: 0.9653 - val_loss: 0.1484 - val_accuracy: 0.9628\n",
            "Epoch 206/300\n",
            "40/40 [==============================] - 0s 4ms/step - loss: 0.1425 - accuracy: 0.9653 - val_loss: 0.1483 - val_accuracy: 0.9628\n",
            "Epoch 207/300\n",
            "40/40 [==============================] - 0s 4ms/step - loss: 0.1427 - accuracy: 0.9653 - val_loss: 0.1486 - val_accuracy: 0.9628\n",
            "Epoch 208/300\n",
            "40/40 [==============================] - 0s 4ms/step - loss: 0.1425 - accuracy: 0.9653 - val_loss: 0.1484 - val_accuracy: 0.9628\n",
            "Epoch 209/300\n",
            "40/40 [==============================] - 0s 4ms/step - loss: 0.1425 - accuracy: 0.9653 - val_loss: 0.1480 - val_accuracy: 0.9628\n",
            "Epoch 210/300\n",
            "40/40 [==============================] - 0s 3ms/step - loss: 0.1425 - accuracy: 0.9653 - val_loss: 0.1481 - val_accuracy: 0.9628\n",
            "Epoch 211/300\n",
            "40/40 [==============================] - 0s 3ms/step - loss: 0.1425 - accuracy: 0.9653 - val_loss: 0.1482 - val_accuracy: 0.9628\n",
            "Epoch 212/300\n",
            "40/40 [==============================] - 0s 3ms/step - loss: 0.1425 - accuracy: 0.9653 - val_loss: 0.1483 - val_accuracy: 0.9628\n",
            "Epoch 213/300\n",
            "40/40 [==============================] - 0s 3ms/step - loss: 0.1426 - accuracy: 0.9653 - val_loss: 0.1483 - val_accuracy: 0.9628\n",
            "Epoch 214/300\n",
            "40/40 [==============================] - 0s 4ms/step - loss: 0.1426 - accuracy: 0.9653 - val_loss: 0.1486 - val_accuracy: 0.9628\n",
            "Epoch 215/300\n",
            "40/40 [==============================] - 0s 4ms/step - loss: 0.1425 - accuracy: 0.9653 - val_loss: 0.1481 - val_accuracy: 0.9628\n",
            "Epoch 216/300\n",
            "40/40 [==============================] - 0s 4ms/step - loss: 0.1426 - accuracy: 0.9653 - val_loss: 0.1478 - val_accuracy: 0.9628\n",
            "Epoch 217/300\n",
            "40/40 [==============================] - 0s 3ms/step - loss: 0.1427 - accuracy: 0.9653 - val_loss: 0.1481 - val_accuracy: 0.9628\n",
            "Epoch 218/300\n",
            "40/40 [==============================] - 0s 4ms/step - loss: 0.1425 - accuracy: 0.9653 - val_loss: 0.1482 - val_accuracy: 0.9628\n",
            "Epoch 219/300\n",
            "40/40 [==============================] - 0s 3ms/step - loss: 0.1426 - accuracy: 0.9653 - val_loss: 0.1479 - val_accuracy: 0.9628\n",
            "Epoch 220/300\n",
            "40/40 [==============================] - 0s 4ms/step - loss: 0.1425 - accuracy: 0.9653 - val_loss: 0.1486 - val_accuracy: 0.9628\n",
            "Epoch 221/300\n",
            "40/40 [==============================] - 0s 4ms/step - loss: 0.1425 - accuracy: 0.9653 - val_loss: 0.1480 - val_accuracy: 0.9628\n",
            "Epoch 222/300\n",
            "40/40 [==============================] - 0s 4ms/step - loss: 0.1425 - accuracy: 0.9653 - val_loss: 0.1485 - val_accuracy: 0.9628\n",
            "Epoch 223/300\n",
            "40/40 [==============================] - 0s 4ms/step - loss: 0.1425 - accuracy: 0.9653 - val_loss: 0.1485 - val_accuracy: 0.9628\n",
            "Epoch 224/300\n",
            "40/40 [==============================] - 0s 3ms/step - loss: 0.1425 - accuracy: 0.9653 - val_loss: 0.1485 - val_accuracy: 0.9628\n",
            "Epoch 225/300\n",
            "40/40 [==============================] - 0s 4ms/step - loss: 0.1425 - accuracy: 0.9653 - val_loss: 0.1483 - val_accuracy: 0.9628\n",
            "Epoch 226/300\n",
            "40/40 [==============================] - 0s 4ms/step - loss: 0.1425 - accuracy: 0.9653 - val_loss: 0.1481 - val_accuracy: 0.9628\n",
            "Epoch 227/300\n",
            "40/40 [==============================] - 0s 4ms/step - loss: 0.1425 - accuracy: 0.9653 - val_loss: 0.1481 - val_accuracy: 0.9628\n",
            "Epoch 228/300\n",
            "40/40 [==============================] - 0s 4ms/step - loss: 0.1425 - accuracy: 0.9653 - val_loss: 0.1482 - val_accuracy: 0.9628\n",
            "Epoch 229/300\n",
            "40/40 [==============================] - 0s 3ms/step - loss: 0.1425 - accuracy: 0.9653 - val_loss: 0.1490 - val_accuracy: 0.9628\n",
            "Epoch 230/300\n",
            "40/40 [==============================] - 0s 3ms/step - loss: 0.1427 - accuracy: 0.9653 - val_loss: 0.1479 - val_accuracy: 0.9628\n",
            "Epoch 231/300\n",
            "40/40 [==============================] - 0s 3ms/step - loss: 0.1425 - accuracy: 0.9653 - val_loss: 0.1480 - val_accuracy: 0.9628\n",
            "Epoch 232/300\n",
            "40/40 [==============================] - 0s 4ms/step - loss: 0.1427 - accuracy: 0.9653 - val_loss: 0.1479 - val_accuracy: 0.9628\n",
            "Epoch 233/300\n",
            "40/40 [==============================] - 0s 3ms/step - loss: 0.1427 - accuracy: 0.9653 - val_loss: 0.1481 - val_accuracy: 0.9628\n",
            "Epoch 234/300\n",
            "40/40 [==============================] - 0s 4ms/step - loss: 0.1426 - accuracy: 0.9653 - val_loss: 0.1480 - val_accuracy: 0.9628\n",
            "Epoch 235/300\n",
            "40/40 [==============================] - 0s 4ms/step - loss: 0.1425 - accuracy: 0.9653 - val_loss: 0.1481 - val_accuracy: 0.9628\n",
            "Epoch 236/300\n",
            "40/40 [==============================] - 0s 3ms/step - loss: 0.1425 - accuracy: 0.9653 - val_loss: 0.1486 - val_accuracy: 0.9628\n",
            "Epoch 237/300\n",
            "40/40 [==============================] - 0s 3ms/step - loss: 0.1425 - accuracy: 0.9653 - val_loss: 0.1481 - val_accuracy: 0.9628\n",
            "Epoch 238/300\n",
            "40/40 [==============================] - 0s 4ms/step - loss: 0.1425 - accuracy: 0.9653 - val_loss: 0.1484 - val_accuracy: 0.9628\n",
            "Epoch 239/300\n",
            "40/40 [==============================] - 0s 3ms/step - loss: 0.1426 - accuracy: 0.9653 - val_loss: 0.1480 - val_accuracy: 0.9628\n",
            "Epoch 240/300\n",
            "40/40 [==============================] - 0s 3ms/step - loss: 0.1425 - accuracy: 0.9653 - val_loss: 0.1483 - val_accuracy: 0.9628\n",
            "Epoch 241/300\n",
            "40/40 [==============================] - 0s 4ms/step - loss: 0.1425 - accuracy: 0.9653 - val_loss: 0.1479 - val_accuracy: 0.9628\n",
            "Epoch 242/300\n",
            "40/40 [==============================] - 0s 4ms/step - loss: 0.1426 - accuracy: 0.9653 - val_loss: 0.1482 - val_accuracy: 0.9628\n",
            "Epoch 243/300\n",
            "40/40 [==============================] - 0s 4ms/step - loss: 0.1425 - accuracy: 0.9653 - val_loss: 0.1484 - val_accuracy: 0.9628\n",
            "Epoch 244/300\n",
            "40/40 [==============================] - 0s 4ms/step - loss: 0.1425 - accuracy: 0.9653 - val_loss: 0.1484 - val_accuracy: 0.9628\n",
            "Epoch 245/300\n",
            "40/40 [==============================] - 0s 3ms/step - loss: 0.1425 - accuracy: 0.9653 - val_loss: 0.1480 - val_accuracy: 0.9628\n",
            "Epoch 246/300\n",
            "40/40 [==============================] - 0s 3ms/step - loss: 0.1425 - accuracy: 0.9653 - val_loss: 0.1487 - val_accuracy: 0.9628\n",
            "Epoch 247/300\n",
            "40/40 [==============================] - 0s 4ms/step - loss: 0.1426 - accuracy: 0.9653 - val_loss: 0.1482 - val_accuracy: 0.9628\n",
            "Epoch 248/300\n",
            "40/40 [==============================] - 0s 4ms/step - loss: 0.1425 - accuracy: 0.9653 - val_loss: 0.1484 - val_accuracy: 0.9628\n",
            "Epoch 249/300\n",
            "40/40 [==============================] - 0s 3ms/step - loss: 0.1425 - accuracy: 0.9653 - val_loss: 0.1481 - val_accuracy: 0.9628\n",
            "Epoch 250/300\n",
            "40/40 [==============================] - 0s 4ms/step - loss: 0.1425 - accuracy: 0.9653 - val_loss: 0.1487 - val_accuracy: 0.9628\n",
            "Epoch 251/300\n",
            "40/40 [==============================] - 0s 4ms/step - loss: 0.1425 - accuracy: 0.9653 - val_loss: 0.1482 - val_accuracy: 0.9628\n",
            "Epoch 252/300\n",
            "40/40 [==============================] - 0s 5ms/step - loss: 0.1426 - accuracy: 0.9653 - val_loss: 0.1484 - val_accuracy: 0.9628\n",
            "Epoch 253/300\n",
            "40/40 [==============================] - 0s 4ms/step - loss: 0.1426 - accuracy: 0.9653 - val_loss: 0.1485 - val_accuracy: 0.9628\n",
            "Epoch 254/300\n",
            "40/40 [==============================] - 0s 4ms/step - loss: 0.1425 - accuracy: 0.9653 - val_loss: 0.1483 - val_accuracy: 0.9628\n",
            "Epoch 255/300\n",
            "40/40 [==============================] - 0s 4ms/step - loss: 0.1425 - accuracy: 0.9653 - val_loss: 0.1480 - val_accuracy: 0.9628\n",
            "Epoch 256/300\n",
            "40/40 [==============================] - 0s 3ms/step - loss: 0.1425 - accuracy: 0.9653 - val_loss: 0.1484 - val_accuracy: 0.9628\n",
            "Epoch 257/300\n",
            "40/40 [==============================] - 0s 3ms/step - loss: 0.1426 - accuracy: 0.9653 - val_loss: 0.1489 - val_accuracy: 0.9628\n",
            "Epoch 258/300\n",
            "40/40 [==============================] - 0s 4ms/step - loss: 0.1425 - accuracy: 0.9653 - val_loss: 0.1481 - val_accuracy: 0.9628\n",
            "Epoch 259/300\n",
            "40/40 [==============================] - 0s 4ms/step - loss: 0.1425 - accuracy: 0.9653 - val_loss: 0.1483 - val_accuracy: 0.9628\n",
            "Epoch 260/300\n",
            "40/40 [==============================] - 0s 4ms/step - loss: 0.1426 - accuracy: 0.9653 - val_loss: 0.1482 - val_accuracy: 0.9628\n",
            "Epoch 261/300\n",
            "40/40 [==============================] - 0s 3ms/step - loss: 0.1425 - accuracy: 0.9653 - val_loss: 0.1480 - val_accuracy: 0.9628\n",
            "Epoch 262/300\n",
            "40/40 [==============================] - 0s 3ms/step - loss: 0.1425 - accuracy: 0.9653 - val_loss: 0.1484 - val_accuracy: 0.9628\n",
            "Epoch 263/300\n",
            "40/40 [==============================] - 0s 4ms/step - loss: 0.1425 - accuracy: 0.9653 - val_loss: 0.1481 - val_accuracy: 0.9628\n",
            "Epoch 264/300\n",
            "40/40 [==============================] - 0s 4ms/step - loss: 0.1426 - accuracy: 0.9653 - val_loss: 0.1487 - val_accuracy: 0.9628\n",
            "Epoch 265/300\n",
            "40/40 [==============================] - 0s 3ms/step - loss: 0.1426 - accuracy: 0.9653 - val_loss: 0.1489 - val_accuracy: 0.9628\n",
            "Epoch 266/300\n",
            "40/40 [==============================] - 0s 4ms/step - loss: 0.1426 - accuracy: 0.9653 - val_loss: 0.1479 - val_accuracy: 0.9628\n",
            "Epoch 267/300\n",
            "40/40 [==============================] - 0s 4ms/step - loss: 0.1425 - accuracy: 0.9653 - val_loss: 0.1481 - val_accuracy: 0.9628\n",
            "Epoch 268/300\n",
            "40/40 [==============================] - 0s 4ms/step - loss: 0.1426 - accuracy: 0.9653 - val_loss: 0.1483 - val_accuracy: 0.9628\n",
            "Epoch 269/300\n",
            "40/40 [==============================] - 0s 4ms/step - loss: 0.1425 - accuracy: 0.9653 - val_loss: 0.1484 - val_accuracy: 0.9628\n",
            "Epoch 270/300\n",
            "40/40 [==============================] - 0s 4ms/step - loss: 0.1426 - accuracy: 0.9653 - val_loss: 0.1487 - val_accuracy: 0.9628\n",
            "Epoch 271/300\n",
            "40/40 [==============================] - 0s 5ms/step - loss: 0.1426 - accuracy: 0.9653 - val_loss: 0.1481 - val_accuracy: 0.9628\n",
            "Epoch 272/300\n",
            "40/40 [==============================] - 0s 6ms/step - loss: 0.1426 - accuracy: 0.9653 - val_loss: 0.1479 - val_accuracy: 0.9628\n",
            "Epoch 273/300\n",
            "40/40 [==============================] - 0s 5ms/step - loss: 0.1425 - accuracy: 0.9653 - val_loss: 0.1481 - val_accuracy: 0.9628\n",
            "Epoch 274/300\n",
            "40/40 [==============================] - 0s 6ms/step - loss: 0.1426 - accuracy: 0.9653 - val_loss: 0.1483 - val_accuracy: 0.9628\n",
            "Epoch 275/300\n",
            "40/40 [==============================] - 0s 6ms/step - loss: 0.1425 - accuracy: 0.9653 - val_loss: 0.1486 - val_accuracy: 0.9628\n",
            "Epoch 276/300\n",
            "40/40 [==============================] - 0s 6ms/step - loss: 0.1426 - accuracy: 0.9653 - val_loss: 0.1481 - val_accuracy: 0.9628\n",
            "Epoch 277/300\n",
            "40/40 [==============================] - 0s 6ms/step - loss: 0.1425 - accuracy: 0.9653 - val_loss: 0.1481 - val_accuracy: 0.9628\n",
            "Epoch 278/300\n",
            "40/40 [==============================] - 0s 6ms/step - loss: 0.1425 - accuracy: 0.9653 - val_loss: 0.1480 - val_accuracy: 0.9628\n",
            "Epoch 279/300\n",
            "40/40 [==============================] - 0s 6ms/step - loss: 0.1425 - accuracy: 0.9653 - val_loss: 0.1486 - val_accuracy: 0.9628\n",
            "Epoch 280/300\n",
            "40/40 [==============================] - 0s 6ms/step - loss: 0.1425 - accuracy: 0.9653 - val_loss: 0.1484 - val_accuracy: 0.9628\n",
            "Epoch 281/300\n",
            "40/40 [==============================] - 0s 6ms/step - loss: 0.1425 - accuracy: 0.9653 - val_loss: 0.1481 - val_accuracy: 0.9628\n",
            "Epoch 282/300\n",
            "40/40 [==============================] - 0s 6ms/step - loss: 0.1425 - accuracy: 0.9653 - val_loss: 0.1482 - val_accuracy: 0.9628\n",
            "Epoch 283/300\n",
            "40/40 [==============================] - 0s 5ms/step - loss: 0.1425 - accuracy: 0.9653 - val_loss: 0.1480 - val_accuracy: 0.9628\n",
            "Epoch 284/300\n",
            "40/40 [==============================] - 0s 5ms/step - loss: 0.1425 - accuracy: 0.9653 - val_loss: 0.1485 - val_accuracy: 0.9628\n",
            "Epoch 285/300\n",
            "40/40 [==============================] - 0s 6ms/step - loss: 0.1425 - accuracy: 0.9653 - val_loss: 0.1481 - val_accuracy: 0.9628\n",
            "Epoch 286/300\n",
            "40/40 [==============================] - 0s 4ms/step - loss: 0.1425 - accuracy: 0.9653 - val_loss: 0.1480 - val_accuracy: 0.9628\n",
            "Epoch 287/300\n",
            "40/40 [==============================] - 0s 4ms/step - loss: 0.1426 - accuracy: 0.9653 - val_loss: 0.1481 - val_accuracy: 0.9628\n",
            "Epoch 288/300\n",
            "40/40 [==============================] - 0s 4ms/step - loss: 0.1425 - accuracy: 0.9653 - val_loss: 0.1483 - val_accuracy: 0.9628\n",
            "Epoch 289/300\n",
            "40/40 [==============================] - 0s 4ms/step - loss: 0.1426 - accuracy: 0.9653 - val_loss: 0.1485 - val_accuracy: 0.9628\n",
            "Epoch 290/300\n",
            "40/40 [==============================] - 0s 4ms/step - loss: 0.1425 - accuracy: 0.9653 - val_loss: 0.1483 - val_accuracy: 0.9628\n",
            "Epoch 291/300\n",
            "40/40 [==============================] - 0s 3ms/step - loss: 0.1425 - accuracy: 0.9653 - val_loss: 0.1484 - val_accuracy: 0.9628\n",
            "Epoch 292/300\n",
            "40/40 [==============================] - 0s 4ms/step - loss: 0.1425 - accuracy: 0.9653 - val_loss: 0.1481 - val_accuracy: 0.9628\n",
            "Epoch 293/300\n",
            "40/40 [==============================] - 0s 4ms/step - loss: 0.1425 - accuracy: 0.9653 - val_loss: 0.1485 - val_accuracy: 0.9628\n",
            "Epoch 294/300\n",
            "40/40 [==============================] - 0s 4ms/step - loss: 0.1425 - accuracy: 0.9653 - val_loss: 0.1485 - val_accuracy: 0.9628\n",
            "Epoch 295/300\n",
            "40/40 [==============================] - 0s 4ms/step - loss: 0.1425 - accuracy: 0.9653 - val_loss: 0.1481 - val_accuracy: 0.9628\n",
            "Epoch 296/300\n",
            "40/40 [==============================] - 0s 4ms/step - loss: 0.1425 - accuracy: 0.9653 - val_loss: 0.1485 - val_accuracy: 0.9628\n",
            "Epoch 297/300\n",
            "40/40 [==============================] - 0s 3ms/step - loss: 0.1425 - accuracy: 0.9653 - val_loss: 0.1484 - val_accuracy: 0.9628\n",
            "Epoch 298/300\n",
            "40/40 [==============================] - 0s 4ms/step - loss: 0.1425 - accuracy: 0.9653 - val_loss: 0.1481 - val_accuracy: 0.9628\n",
            "Epoch 299/300\n",
            "40/40 [==============================] - 0s 4ms/step - loss: 0.1425 - accuracy: 0.9653 - val_loss: 0.1480 - val_accuracy: 0.9628\n",
            "Epoch 300/300\n",
            "40/40 [==============================] - 0s 3ms/step - loss: 0.1425 - accuracy: 0.9653 - val_loss: 0.1483 - val_accuracy: 0.9628\n"
          ]
        }
      ],
      "source": [
        "if model_selection[model_flag]==\"ALL\" or model_selection[model_flag] == \"AE\":\n",
        "  # training the model on training dataset\n",
        "  his = ae_classifier.fit(predictions, y_test, epochs=300,batch_size=500, validation_split=0.2).history"
      ]
    },
    {
      "cell_type": "code",
      "execution_count": 79,
      "metadata": {
        "id": "yeNS7pLUNYBz"
      },
      "outputs": [],
      "source": [
        "if model_selection[model_flag]==\"ALL\" or model_selection[model_flag] == \"AE\":\n",
        "  filepath = '/content/drive/MyDrive/Colab_Notebooks/Models/ae_classifier_binary_unsw_nb15.json'\n",
        "  weightspath = '/content/drive/MyDrive/Colab_Notebooks/Weights/ae_classifier_binary_unsw_nb15.h5'\n",
        "  if (not path.isfile(filepath)): \n",
        "    # serialize model to JSON\n",
        "    ae_classifier_json = ae_classifier.to_json()\n",
        "    with open(filepath, \"w\") as json_file:\n",
        "      json_file.write(ae_classifier_json)\n",
        "\n",
        "    # serialize weights to HDF5\n",
        "    ae_classifier.save_weights(weightspath)\n",
        "    print(\"Saved model to disk\")\n",
        "\n",
        "    # load json and create model\n",
        "    json_file = open(filepath, 'r')\n",
        "    loaded_model_json = json_file.read()\n",
        "    json_file.close()\n",
        "    ae_classifier = model_from_json(loaded_model_json)\n",
        "\n",
        "    # load weights into new model\n",
        "    ae_classifier.load_weights(weightspath)\n",
        "    print(\"Loaded model from disk\")"
      ]
    },
    {
      "cell_type": "code",
      "execution_count": 80,
      "metadata": {
        "id": "AG42bV79NYFB"
      },
      "outputs": [],
      "source": [
        "if model_selection[model_flag]==\"ALL\" or model_selection[model_flag] == \"AE\":\n",
        "  ae_classifier.compile(optimizer='adam', loss='binary_crossentropy',metrics=['accuracy'])"
      ]
    },
    {
      "cell_type": "code",
      "execution_count": 81,
      "metadata": {
        "id": "13aKBGJcNYHv",
        "colab": {
          "base_uri": "https://localhost:8080/"
        },
        "outputId": "69e88808-f91c-4e4f-f97c-b8d3b285d106"
      },
      "outputs": [
        {
          "output_type": "stream",
          "name": "stdout",
          "text": [
            "782/782 [==============================] - 2s 2ms/step - loss: 1.1484 - accuracy: 0.3720\n",
            "Test results - Loss: 1.1483732461929321 - Accuracy: 37.196001410484314%\n"
          ]
        }
      ],
      "source": [
        "if model_selection[model_flag]==\"ALL\" or model_selection[model_flag] == \"AE\":\n",
        "  # predicting target attribute on testing dataset\n",
        "  test_results = ae_classifier.evaluate(X_test, y_test, verbose=1)\n",
        "  print(f'Test results - Loss: {test_results[0]} - Accuracy: {test_results[1]*100}%')"
      ]
    },
    {
      "cell_type": "code",
      "execution_count": 82,
      "metadata": {
        "id": "zCWbOaSyN1dH"
      },
      "outputs": [],
      "source": [
        "if model_selection[model_flag]==\"ALL\" or model_selection[model_flag] == \"AE\":\n",
        "  # representation of model layers\n",
        "  plot_model(ae_classifier, to_file='/content/drive/MyDrive/Colab_Notebooks/Plots/ae_classifier_binary.png', show_shapes=True)"
      ]
    },
    {
      "cell_type": "code",
      "execution_count": 83,
      "metadata": {
        "id": "44VaFGgVOBpU",
        "colab": {
          "base_uri": "https://localhost:8080/",
          "height": 472
        },
        "outputId": "d50dd5dd-8031-40c3-f2da-2ba0e5d2dadf"
      },
      "outputs": [
        {
          "output_type": "display_data",
          "data": {
            "text/plain": [
              "<Figure size 640x480 with 1 Axes>"
            ],
            "image/png": "[encoded data removed]"
          },
          "metadata": {}
        }
      ],
      "source": [
        "if model_selection[model_flag]==\"ALL\" or model_selection[model_flag] == \"AE\":\n",
        "  # Plot of loss vs epoch of train and test dataset\n",
        "  plt.plot(his['loss'])\n",
        "  plt.plot(his['val_loss'])\n",
        "  plt.title(\"Plot of loss vs epoch for train and test dataset\")\n",
        "  plt.ylabel('loss')\n",
        "  plt.xlabel('epoch')\n",
        "  plt.legend(['train', 'test'], loc='upper right')\n",
        "  plt.savefig('/content/drive/MyDrive/Colab_Notebooks/Plots/ae_classifier_binary_loss.png')\n",
        "  plt.show()"
      ]
    },
    {
      "cell_type": "code",
      "execution_count": 84,
      "metadata": {
        "id": "Am0UB82rOIo1",
        "colab": {
          "base_uri": "https://localhost:8080/",
          "height": 472
        },
        "outputId": "d6870aab-4aeb-48ac-d5b1-2877a3e1e1aa"
      },
      "outputs": [
        {
          "output_type": "display_data",
          "data": {
            "text/plain": [
              "<Figure size 640x480 with 1 Axes>"
            ],
            "image/png": "[encoded data removed]"
          },
          "metadata": {}
        }
      ],
      "source": [
        "if model_selection[model_flag]==\"ALL\" or model_selection[model_flag] == \"AE\":\n",
        "  # Plot of accuracy vs epoch of train and test dataset\n",
        "  plt.plot(his['accuracy'])\n",
        "  plt.plot(his['val_accuracy'])\n",
        "  plt.title(\"Plot of accuracy vs epoch for train and test dataset\")\n",
        "  plt.ylabel('accuracy')\n",
        "  plt.xlabel('epoch')\n",
        "  plt.legend(['train', 'test'], loc='best')\n",
        "  plt.savefig('/content/drive/MyDrive/Colab_Notebooks/Plots/ae_classifier_binary_accuracy.png')\n",
        "  plt.show()"
      ]
    },
    {
      "cell_type": "code",
      "execution_count": 85,
      "metadata": {
        "id": "f5OZTlm0OMoW",
        "colab": {
          "base_uri": "https://localhost:8080/"
        },
        "outputId": "5c885780-70ce-4d43-d9e4-d0920497f11a"
      },
      "outputs": [
        {
          "output_type": "stream",
          "name": "stdout",
          "text": [
            "782/782 [==============================] - 1s 1ms/step\n"
          ]
        }
      ],
      "source": [
        "if model_selection[model_flag]==\"ALL\" or model_selection[model_flag] == \"AE\":\n",
        "  y_pred = ae_classifier.predict(X_test).ravel()\n",
        "  fpr, tpr, thresholds = roc_curve(y_test, y_pred)\n",
        "  #auc = auc(fpr, tpr)"
      ]
    },
    {
      "cell_type": "code",
      "execution_count": 86,
      "metadata": {
        "id": "GbSkwfO2OTkn",
        "colab": {
          "base_uri": "https://localhost:8080/",
          "height": 510
        },
        "outputId": "895edbb9-ee9e-483d-c846-1bd5c4ed8b9f"
      },
      "outputs": [
        {
          "output_type": "stream",
          "name": "stderr",
          "text": [
            "WARNING:matplotlib.legend:No artists with labels found to put in legend.  Note that artists whose label start with an underscore are ignored when legend() is called with no argument.\n"
          ]
        },
        {
          "output_type": "display_data",
          "data": {
            "text/plain": [
              "<Figure size 640x480 with 1 Axes>"
            ],
            "image/png": "[encoded data removed]"
          },
          "metadata": {}
        }
      ],
      "source": [
        "if model_selection[model_flag]==\"ALL\" or model_selection[model_flag] == \"AE\":\n",
        "  plt.plot([0, 1], [0, 1], 'k--')\n",
        "  #plt.plot(fpr, tpr, label='Keras (area = {:.3f})'.format(auc))\n",
        "  plt.plot(fpr, tpr)\n",
        "  plt.xlabel('False positive rate')\n",
        "  plt.ylabel('True positive rate')\n",
        "  plt.title('ROC curve')\n",
        "  plt.legend(loc='best')\n",
        "  plt.savefig('/content/drive/MyDrive/Colab_Notebooks/Plots/ae_binary_roc.png')\n",
        "  plt.show()"
      ]
    },
    {
      "cell_type": "code",
      "execution_count": 87,
      "metadata": {
        "id": "n7Xl74UXOZxm",
        "colab": {
          "base_uri": "https://localhost:8080/"
        },
        "outputId": "3b39d1a3-00fe-4e53-b3b3-8ef19dad989d"
      },
      "outputs": [
        {
          "output_type": "stream",
          "name": "stdout",
          "text": [
            "782/782 [==============================] - 2s 2ms/step\n",
            "782/782 [==============================] - 2s 2ms/step\n"
          ]
        }
      ],
      "source": [
        "if model_selection[model_flag]==\"ALL\" or model_selection[model_flag] == \"AE\":\n",
        "  pred = ae_classifier.predict(X_test)\n",
        "  y_classes = (ae_classifier.predict(X_test)>0.5).astype('int32')"
      ]
    },
    {
      "cell_type": "code",
      "execution_count": 88,
      "metadata": {
        "id": "WA_g3UlXOZ71",
        "colab": {
          "base_uri": "https://localhost:8080/"
        },
        "outputId": "80eadd9e-b66c-433c-971b-7c1666b69664"
      },
      "outputs": [
        {
          "output_type": "stream",
          "name": "stdout",
          "text": [
            "Recall Score -  1.0\n",
            "F1 Score -  0.5422315519402898\n",
            "Precision Score -  0.37196\n"
          ]
        }
      ],
      "source": [
        "if model_selection[model_flag]==\"ALL\" or model_selection[model_flag] == \"AE\":\n",
        "  print(\"Recall Score - \",recall_score(y_test,y_classes))\n",
        "  print(\"F1 Score - \",f1_score(y_test,y_classes))\n",
        "  print(\"Precision Score - \",precision_score(y_test,y_classes))"
      ]
    },
    {
      "cell_type": "code",
      "source": [
        "print(classification_report(y_test, y_classes, target_names=['0', '1']))\n",
        "cm = confusion_matrix(y_test, y_classes)\n",
        "disp = ConfusionMatrixDisplay(confusion_matrix=cm,\n",
        "                              display_labels=['0', '1'])\n",
        "disp.plot()\n",
        "\n",
        "plt.show()"
      ],
      "metadata": {
        "colab": {
          "base_uri": "https://localhost:8080/",
          "height": 737
        },
        "id": "UgHHdx0qoryj",
        "outputId": "56bef2a5-c4ac-412a-d6cb-e20ff0e11c32"
      },
      "execution_count": 89,
      "outputs": [
        {
          "output_type": "stream",
          "name": "stdout",
          "text": [
            "              precision    recall  f1-score   support\n",
            "\n",
            "           0       0.00      0.00      0.00     15701\n",
            "           1       0.37      1.00      0.54      9299\n",
            "\n",
            "    accuracy                           0.37     25000\n",
            "   macro avg       0.19      0.50      0.27     25000\n",
            "weighted avg       0.14      0.37      0.20     25000\n",
            "\n"
          ]
        },
        {
          "output_type": "stream",
          "name": "stderr",
          "text": [
            "/usr/local/lib/python3.9/dist-packages/sklearn/metrics/_classification.py:1344: UndefinedMetricWarning: Precision and F-score are ill-defined and being set to 0.0 in labels with no predicted samples. Use `zero_division` parameter to control this behavior.\n",
            "  _warn_prf(average, modifier, msg_start, len(result))\n",
            "/usr/local/lib/python3.9/dist-packages/sklearn/metrics/_classification.py:1344: UndefinedMetricWarning: Precision and F-score are ill-defined and being set to 0.0 in labels with no predicted samples. Use `zero_division` parameter to control this behavior.\n",
            "  _warn_prf(average, modifier, msg_start, len(result))\n",
            "/usr/local/lib/python3.9/dist-packages/sklearn/metrics/_classification.py:1344: UndefinedMetricWarning: Precision and F-score are ill-defined and being set to 0.0 in labels with no predicted samples. Use `zero_division` parameter to control this behavior.\n",
            "  _warn_prf(average, modifier, msg_start, len(result))\n"
          ]
        },
        {
          "output_type": "display_data",
          "data": {
            "text/plain": [
              "<Figure size 640x480 with 2 Axes>"
            ],
            "image/png": "[encoded data removed]"
          },
          "metadata": {}
        }
      ]
    }
  ],
  "metadata": {
    "colab": {
      "provenance": [],
      "include_colab_link": true
    },
    "gpuClass": "standard",
    "kernelspec": {
      "display_name": "Python 3",
      "name": "python3"
    },
    "language_info": {
      "name": "python"
    },
    "accelerator": "GPU"
  },
  "nbformat": 4,
  "nbformat_minor": 0
}