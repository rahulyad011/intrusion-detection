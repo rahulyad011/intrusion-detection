{
  "cells": [
    {
      "cell_type": "markdown",
      "metadata": {
        "id": "view-in-github",
        "colab_type": "text"
      },
      "source": [
        "<a href=\"https://colab.research.google.com/github/rahulyad011/intrusion-detection/blob/main/NIDS1_UNSW_NB15_model_training.ipynb\" target=\"_parent\"><img src=\"https://colab.research.google.com/assets/colab-badge.svg\" alt=\"Open In Colab\"/></a>"
      ]
    },
    {
      "cell_type": "code",
      "execution_count": null,
      "metadata": {
        "id": "qXQ8rUmdwaf4"
      },
      "outputs": [],
      "source": [
        "\n",
        "from sklearn.metrics import accuracy_score # for calculating accuracy of model\n",
        "from sklearn.model_selection import train_test_split # for splitting the dataset for training and testing\n",
        "from sklearn.metrics import classification_report # for generating a classification report of model\n",
        "import pickle # saving and loading trained model\n",
        "from os import path\n",
        "import numpy as np\n",
        "import pandas as pd\n",
        "import matplotlib.pyplot as plt\n",
        "\n",
        "# importing library for support vector machine classifier\n",
        "from sklearn.svm import SVC\n",
        "\n",
        "# MLP requirements \n",
        "from keras.layers import Dense # importing dense layer\n",
        "from keras.models import Sequential #importing Sequential layer\n",
        "from keras.models import model_from_json # saving and loading trained model\n",
        "\n",
        "# LSTM requirements \n",
        "from keras.layers import LSTM\n",
        "from keras.layers import Input\n",
        "from keras.models import Model\n",
        "\n",
        "# evaluation metrices\n",
        "from sklearn.metrics import classification_report, confusion_matrix\n",
        "from sklearn.metrics import roc_auc_score\n",
        "from sklearn.metrics import roc_curve, auc\n",
        "from sklearn.metrics import precision_score\n",
        "from sklearn.metrics import recall_score\n",
        "from sklearn.metrics import f1_score\n",
        "\n",
        "# representation of model layers\n",
        "from keras.utils.vis_utils import plot_model"
      ]
    },
    {
      "cell_type": "code",
      "source": [
        "from google.colab import drive\n",
        "drive.mount('/content/drive')"
      ],
      "metadata": {
        "colab": {
          "base_uri": "https://localhost:8080/"
        },
        "id": "DBCkPmpEjFSf",
        "outputId": "075faffa-5548-4a9a-a88b-fe0f5b25f86c"
      },
      "execution_count": null,
      "outputs": [
        {
          "output_type": "stream",
          "name": "stdout",
          "text": [
            "Drive already mounted at /content/drive; to attempt to forcibly remount, call drive.mount(\"/content/drive\", force_remount=True).\n"
          ]
        }
      ]
    },
    {
      "cell_type": "code",
      "execution_count": null,
      "metadata": {
        "colab": {
          "base_uri": "https://localhost:8080/",
          "height": 505
        },
        "id": "Pepa9lW8whHh",
        "outputId": "16a28d47-95b5-457b-c7e3-10ba10723932"
      },
      "outputs": [
        {
          "output_type": "execute_result",
          "data": {
            "text/plain": [
              "        proto_-  proto_arp  proto_ospf  proto_tcp  proto_udp  proto_unas  \\\n",
              "0             0          0           0          0          1           0   \n",
              "1             0          0           0          0          1           0   \n",
              "2             0          0           0          0          1           0   \n",
              "3             0          0           0          0          1           0   \n",
              "4             0          0           0          0          1           0   \n",
              "...         ...        ...         ...        ...        ...         ...   \n",
              "257668        0          0           0          0          1           0   \n",
              "257669        0          0           0          1          0           0   \n",
              "257670        0          0           0          0          1           0   \n",
              "257671        0          0           0          0          1           0   \n",
              "257672        0          0           0          0          1           0   \n",
              "\n",
              "        service_-  service_dns  service_ftp-data  service_http  ...  \\\n",
              "0               1            0                 0             0  ...   \n",
              "1               1            0                 0             0  ...   \n",
              "2               1            0                 0             0  ...   \n",
              "3               1            0                 0             0  ...   \n",
              "4               1            0                 0             0  ...   \n",
              "...           ...          ...               ...           ...  ...   \n",
              "257668          0            1                 0             0  ...   \n",
              "257669          1            0                 0             0  ...   \n",
              "257670          0            1                 0             0  ...   \n",
              "257671          0            1                 0             0  ...   \n",
              "257672          0            1                 0             0  ...   \n",
              "\n",
              "        ct_src_dport_ltm  ct_dst_sport_ltm  ct_dst_src_ltm  is_ftp_login  \\\n",
              "0                      1                 1               2             0   \n",
              "1                      1                 1               2             0   \n",
              "2                      1                 1               3             0   \n",
              "3                      2                 1               3             0   \n",
              "4                      2                 1               3             0   \n",
              "...                  ...               ...             ...           ...   \n",
              "257668                24                13              24             0   \n",
              "257669                 1                 1               2             0   \n",
              "257670                 3                 3              13             0   \n",
              "257671                30                14              30             0   \n",
              "257672                30                16              30             0   \n",
              "\n",
              "        ct_ftp_cmd  ct_flw_http_mthd  ct_src_ltm  ct_srv_dst  is_sm_ips_ports  \\\n",
              "0                0                 0           1           2                0   \n",
              "1                0                 0           1           2                0   \n",
              "2                0                 0           1           3                0   \n",
              "3                0                 0           2           3                0   \n",
              "4                0                 0           2           3                0   \n",
              "...            ...               ...         ...         ...              ...   \n",
              "257668           0                 0          24          24                0   \n",
              "257669           0                 0           1           1                0   \n",
              "257670           0                 0           3          12                0   \n",
              "257671           0                 0          30          30                0   \n",
              "257672           0                 0          30          30                0   \n",
              "\n",
              "        label  \n",
              "0           0  \n",
              "1           0  \n",
              "2           0  \n",
              "3           0  \n",
              "4           0  \n",
              "...       ...  \n",
              "257668      1  \n",
              "257669      1  \n",
              "257670      1  \n",
              "257671      1  \n",
              "257672      1  \n",
              "\n",
              "[257673 rows x 57 columns]"
            ],
            "text/html": [
              "\n",
              "  <div id=\"df-79bbbff4-2f4f-42dd-9b0a-ee021d0fa4b1\">\n",
              "    <div class=\"colab-df-container\">\n",
              "      <div>\n",
              "<style scoped>\n",
              "    .dataframe tbody tr th:only-of-type {\n",
              "        vertical-align: middle;\n",
              "    }\n",
              "\n",
              "    .dataframe tbody tr th {\n",
              "        vertical-align: top;\n",
              "    }\n",
              "\n",
              "    .dataframe thead th {\n",
              "        text-align: right;\n",
              "    }\n",
              "</style>\n",
              "<table border=\"1\" class=\"dataframe\">\n",
              "  <thead>\n",
              "    <tr style=\"text-align: right;\">\n",
              "      <th></th>\n",
              "      <th>proto_-</th>\n",
              "      <th>proto_arp</th>\n",
              "      <th>proto_ospf</th>\n",
              "      <th>proto_tcp</th>\n",
              "      <th>proto_udp</th>\n",
              "      <th>proto_unas</th>\n",
              "      <th>service_-</th>\n",
              "      <th>service_dns</th>\n",
              "      <th>service_ftp-data</th>\n",
              "      <th>service_http</th>\n",
              "      <th>...</th>\n",
              "      <th>ct_src_dport_ltm</th>\n",
              "      <th>ct_dst_sport_ltm</th>\n",
              "      <th>ct_dst_src_ltm</th>\n",
              "      <th>is_ftp_login</th>\n",
              "      <th>ct_ftp_cmd</th>\n",
              "      <th>ct_flw_http_mthd</th>\n",
              "      <th>ct_src_ltm</th>\n",
              "      <th>ct_srv_dst</th>\n",
              "      <th>is_sm_ips_ports</th>\n",
              "      <th>label</th>\n",
              "    </tr>\n",
              "  </thead>\n",
              "  <tbody>\n",
              "    <tr>\n",
              "      <th>0</th>\n",
              "      <td>0</td>\n",
              "      <td>0</td>\n",
              "      <td>0</td>\n",
              "      <td>0</td>\n",
              "      <td>1</td>\n",
              "      <td>0</td>\n",
              "      <td>1</td>\n",
              "      <td>0</td>\n",
              "      <td>0</td>\n",
              "      <td>0</td>\n",
              "      <td>...</td>\n",
              "      <td>1</td>\n",
              "      <td>1</td>\n",
              "      <td>2</td>\n",
              "      <td>0</td>\n",
              "      <td>0</td>\n",
              "      <td>0</td>\n",
              "      <td>1</td>\n",
              "      <td>2</td>\n",
              "      <td>0</td>\n",
              "      <td>0</td>\n",
              "    </tr>\n",
              "    <tr>\n",
              "      <th>1</th>\n",
              "      <td>0</td>\n",
              "      <td>0</td>\n",
              "      <td>0</td>\n",
              "      <td>0</td>\n",
              "      <td>1</td>\n",
              "      <td>0</td>\n",
              "      <td>1</td>\n",
              "      <td>0</td>\n",
              "      <td>0</td>\n",
              "      <td>0</td>\n",
              "      <td>...</td>\n",
              "      <td>1</td>\n",
              "      <td>1</td>\n",
              "      <td>2</td>\n",
              "      <td>0</td>\n",
              "      <td>0</td>\n",
              "      <td>0</td>\n",
              "      <td>1</td>\n",
              "      <td>2</td>\n",
              "      <td>0</td>\n",
              "      <td>0</td>\n",
              "    </tr>\n",
              "    <tr>\n",
              "      <th>2</th>\n",
              "      <td>0</td>\n",
              "      <td>0</td>\n",
              "      <td>0</td>\n",
              "      <td>0</td>\n",
              "      <td>1</td>\n",
              "      <td>0</td>\n",
              "      <td>1</td>\n",
              "      <td>0</td>\n",
              "      <td>0</td>\n",
              "      <td>0</td>\n",
              "      <td>...</td>\n",
              "      <td>1</td>\n",
              "      <td>1</td>\n",
              "      <td>3</td>\n",
              "      <td>0</td>\n",
              "      <td>0</td>\n",
              "      <td>0</td>\n",
              "      <td>1</td>\n",
              "      <td>3</td>\n",
              "      <td>0</td>\n",
              "      <td>0</td>\n",
              "    </tr>\n",
              "    <tr>\n",
              "      <th>3</th>\n",
              "      <td>0</td>\n",
              "      <td>0</td>\n",
              "      <td>0</td>\n",
              "      <td>0</td>\n",
              "      <td>1</td>\n",
              "      <td>0</td>\n",
              "      <td>1</td>\n",
              "      <td>0</td>\n",
              "      <td>0</td>\n",
              "      <td>0</td>\n",
              "      <td>...</td>\n",
              "      <td>2</td>\n",
              "      <td>1</td>\n",
              "      <td>3</td>\n",
              "      <td>0</td>\n",
              "      <td>0</td>\n",
              "      <td>0</td>\n",
              "      <td>2</td>\n",
              "      <td>3</td>\n",
              "      <td>0</td>\n",
              "      <td>0</td>\n",
              "    </tr>\n",
              "    <tr>\n",
              "      <th>4</th>\n",
              "      <td>0</td>\n",
              "      <td>0</td>\n",
              "      <td>0</td>\n",
              "      <td>0</td>\n",
              "      <td>1</td>\n",
              "      <td>0</td>\n",
              "      <td>1</td>\n",
              "      <td>0</td>\n",
              "      <td>0</td>\n",
              "      <td>0</td>\n",
              "      <td>...</td>\n",
              "      <td>2</td>\n",
              "      <td>1</td>\n",
              "      <td>3</td>\n",
              "      <td>0</td>\n",
              "      <td>0</td>\n",
              "      <td>0</td>\n",
              "      <td>2</td>\n",
              "      <td>3</td>\n",
              "      <td>0</td>\n",
              "      <td>0</td>\n",
              "    </tr>\n",
              "    <tr>\n",
              "      <th>...</th>\n",
              "      <td>...</td>\n",
              "      <td>...</td>\n",
              "      <td>...</td>\n",
              "      <td>...</td>\n",
              "      <td>...</td>\n",
              "      <td>...</td>\n",
              "      <td>...</td>\n",
              "      <td>...</td>\n",
              "      <td>...</td>\n",
              "      <td>...</td>\n",
              "      <td>...</td>\n",
              "      <td>...</td>\n",
              "      <td>...</td>\n",
              "      <td>...</td>\n",
              "      <td>...</td>\n",
              "      <td>...</td>\n",
              "      <td>...</td>\n",
              "      <td>...</td>\n",
              "      <td>...</td>\n",
              "      <td>...</td>\n",
              "      <td>...</td>\n",
              "    </tr>\n",
              "    <tr>\n",
              "      <th>257668</th>\n",
              "      <td>0</td>\n",
              "      <td>0</td>\n",
              "      <td>0</td>\n",
              "      <td>0</td>\n",
              "      <td>1</td>\n",
              "      <td>0</td>\n",
              "      <td>0</td>\n",
              "      <td>1</td>\n",
              "      <td>0</td>\n",
              "      <td>0</td>\n",
              "      <td>...</td>\n",
              "      <td>24</td>\n",
              "      <td>13</td>\n",
              "      <td>24</td>\n",
              "      <td>0</td>\n",
              "      <td>0</td>\n",
              "      <td>0</td>\n",
              "      <td>24</td>\n",
              "      <td>24</td>\n",
              "      <td>0</td>\n",
              "      <td>1</td>\n",
              "    </tr>\n",
              "    <tr>\n",
              "      <th>257669</th>\n",
              "      <td>0</td>\n",
              "      <td>0</td>\n",
              "      <td>0</td>\n",
              "      <td>1</td>\n",
              "      <td>0</td>\n",
              "      <td>0</td>\n",
              "      <td>1</td>\n",
              "      <td>0</td>\n",
              "      <td>0</td>\n",
              "      <td>0</td>\n",
              "      <td>...</td>\n",
              "      <td>1</td>\n",
              "      <td>1</td>\n",
              "      <td>2</td>\n",
              "      <td>0</td>\n",
              "      <td>0</td>\n",
              "      <td>0</td>\n",
              "      <td>1</td>\n",
              "      <td>1</td>\n",
              "      <td>0</td>\n",
              "      <td>1</td>\n",
              "    </tr>\n",
              "    <tr>\n",
              "      <th>257670</th>\n",
              "      <td>0</td>\n",
              "      <td>0</td>\n",
              "      <td>0</td>\n",
              "      <td>0</td>\n",
              "      <td>1</td>\n",
              "      <td>0</td>\n",
              "      <td>0</td>\n",
              "      <td>1</td>\n",
              "      <td>0</td>\n",
              "      <td>0</td>\n",
              "      <td>...</td>\n",
              "      <td>3</td>\n",
              "      <td>3</td>\n",
              "      <td>13</td>\n",
              "      <td>0</td>\n",
              "      <td>0</td>\n",
              "      <td>0</td>\n",
              "      <td>3</td>\n",
              "      <td>12</td>\n",
              "      <td>0</td>\n",
              "      <td>1</td>\n",
              "    </tr>\n",
              "    <tr>\n",
              "      <th>257671</th>\n",
              "      <td>0</td>\n",
              "      <td>0</td>\n",
              "      <td>0</td>\n",
              "      <td>0</td>\n",
              "      <td>1</td>\n",
              "      <td>0</td>\n",
              "      <td>0</td>\n",
              "      <td>1</td>\n",
              "      <td>0</td>\n",
              "      <td>0</td>\n",
              "      <td>...</td>\n",
              "      <td>30</td>\n",
              "      <td>14</td>\n",
              "      <td>30</td>\n",
              "      <td>0</td>\n",
              "      <td>0</td>\n",
              "      <td>0</td>\n",
              "      <td>30</td>\n",
              "      <td>30</td>\n",
              "      <td>0</td>\n",
              "      <td>1</td>\n",
              "    </tr>\n",
              "    <tr>\n",
              "      <th>257672</th>\n",
              "      <td>0</td>\n",
              "      <td>0</td>\n",
              "      <td>0</td>\n",
              "      <td>0</td>\n",
              "      <td>1</td>\n",
              "      <td>0</td>\n",
              "      <td>0</td>\n",
              "      <td>1</td>\n",
              "      <td>0</td>\n",
              "      <td>0</td>\n",
              "      <td>...</td>\n",
              "      <td>30</td>\n",
              "      <td>16</td>\n",
              "      <td>30</td>\n",
              "      <td>0</td>\n",
              "      <td>0</td>\n",
              "      <td>0</td>\n",
              "      <td>30</td>\n",
              "      <td>30</td>\n",
              "      <td>0</td>\n",
              "      <td>1</td>\n",
              "    </tr>\n",
              "  </tbody>\n",
              "</table>\n",
              "<p>257673 rows × 57 columns</p>\n",
              "</div>\n",
              "      <button class=\"colab-df-convert\" onclick=\"convertToInteractive('df-79bbbff4-2f4f-42dd-9b0a-ee021d0fa4b1')\"\n",
              "              title=\"Convert this dataframe to an interactive table.\"\n",
              "              style=\"display:none;\">\n",
              "        \n",
              "  <svg xmlns=\"http://www.w3.org/2000/svg\" height=\"24px\"viewBox=\"0 0 24 24\"\n",
              "       width=\"24px\">\n",
              "    <path d=\"M0 0h24v24H0V0z\" fill=\"none\"/>\n",
              "    <path d=\"M18.56 5.44l.94 2.06.94-2.06 2.06-.94-2.06-.94-.94-2.06-.94 2.06-2.06.94zm-11 1L8.5 8.5l.94-2.06 2.06-.94-2.06-.94L8.5 2.5l-.94 2.06-2.06.94zm10 10l.94 2.06.94-2.06 2.06-.94-2.06-.94-.94-2.06-.94 2.06-2.06.94z\"/><path d=\"M17.41 7.96l-1.37-1.37c-.4-.4-.92-.59-1.43-.59-.52 0-1.04.2-1.43.59L10.3 9.45l-7.72 7.72c-.78.78-.78 2.05 0 2.83L4 21.41c.39.39.9.59 1.41.59.51 0 1.02-.2 1.41-.59l7.78-7.78 2.81-2.81c.8-.78.8-2.07 0-2.86zM5.41 20L4 18.59l7.72-7.72 1.47 1.35L5.41 20z\"/>\n",
              "  </svg>\n",
              "      </button>\n",
              "      \n",
              "  <style>\n",
              "    .colab-df-container {\n",
              "      display:flex;\n",
              "      flex-wrap:wrap;\n",
              "      gap: 12px;\n",
              "    }\n",
              "\n",
              "    .colab-df-convert {\n",
              "      background-color: #E8F0FE;\n",
              "      border: none;\n",
              "      border-radius: 50%;\n",
              "      cursor: pointer;\n",
              "      display: none;\n",
              "      fill: #1967D2;\n",
              "      height: 32px;\n",
              "      padding: 0 0 0 0;\n",
              "      width: 32px;\n",
              "    }\n",
              "\n",
              "    .colab-df-convert:hover {\n",
              "      background-color: #E2EBFA;\n",
              "      box-shadow: 0px 1px 2px rgba(60, 64, 67, 0.3), 0px 1px 3px 1px rgba(60, 64, 67, 0.15);\n",
              "      fill: #174EA6;\n",
              "    }\n",
              "\n",
              "    [theme=dark] .colab-df-convert {\n",
              "      background-color: #3B4455;\n",
              "      fill: #D2E3FC;\n",
              "    }\n",
              "\n",
              "    [theme=dark] .colab-df-convert:hover {\n",
              "      background-color: #434B5C;\n",
              "      box-shadow: 0px 1px 3px 1px rgba(0, 0, 0, 0.15);\n",
              "      filter: drop-shadow(0px 1px 2px rgba(0, 0, 0, 0.3));\n",
              "      fill: #FFFFFF;\n",
              "    }\n",
              "  </style>\n",
              "\n",
              "      <script>\n",
              "        const buttonEl =\n",
              "          document.querySelector('#df-79bbbff4-2f4f-42dd-9b0a-ee021d0fa4b1 button.colab-df-convert');\n",
              "        buttonEl.style.display =\n",
              "          google.colab.kernel.accessAllowed ? 'block' : 'none';\n",
              "\n",
              "        async function convertToInteractive(key) {\n",
              "          const element = document.querySelector('#df-79bbbff4-2f4f-42dd-9b0a-ee021d0fa4b1');\n",
              "          const dataTable =\n",
              "            await google.colab.kernel.invokeFunction('convertToInteractive',\n",
              "                                                     [key], {});\n",
              "          if (!dataTable) return;\n",
              "\n",
              "          const docLinkHtml = 'Like what you see? Visit the ' +\n",
              "            '<a target=\"_blank\" href=https://colab.research.google.com/notebooks/data_table.ipynb>data table notebook</a>'\n",
              "            + ' to learn more about interactive tables.';\n",
              "          element.innerHTML = '';\n",
              "          dataTable['output_type'] = 'display_data';\n",
              "          await google.colab.output.renderOutput(dataTable, element);\n",
              "          const docLink = document.createElement('div');\n",
              "          docLink.innerHTML = docLinkHtml;\n",
              "          element.appendChild(docLink);\n",
              "        }\n",
              "      </script>\n",
              "    </div>\n",
              "  </div>\n",
              "  "
            ]
          },
          "metadata": {},
          "execution_count": 3
        }
      ],
      "source": [
        "bin_data_total = pd.read_csv(\"/content/drive/MyDrive/Colab_Notebooks/nids_project_data/UNSW_NB15_data/bin_data_processed.csv\")\n",
        "bin_data_total.drop(bin_data_total.columns[0],axis=1,inplace=True)\n",
        "bin_data_total"
      ]
    },
    {
      "cell_type": "code",
      "execution_count": null,
      "metadata": {
        "colab": {
          "base_uri": "https://localhost:8080/"
        },
        "id": "xHCs0B3sKOa_",
        "outputId": "2784f1c6-b72c-45e6-ad88-ef755a1fafbe"
      },
      "outputs": [
        {
          "output_type": "execute_result",
          "data": {
            "text/plain": [
              "1    0.639077\n",
              "0    0.360923\n",
              "Name: label, dtype: float64"
            ]
          },
          "metadata": {},
          "execution_count": 4
        }
      ],
      "source": [
        "# distribution of label class before sampling\n",
        "data_size = bin_data_total.shape[0]\n",
        "# data_size\n",
        "bin_data_total.label.value_counts()/data_size"
      ]
    },
    {
      "cell_type": "code",
      "source": [
        "# numeric feature normalization\n",
        "from sklearn.preprocessing import MinMaxScaler\n",
        "from sklearn.preprocessing import StandardScaler\n",
        "\n",
        "numeric_cols = bin_data_total.select_dtypes(['number']).columns\n",
        "numeric_cols = numeric_cols.drop('label')\n",
        "flag = 0\n",
        "scaler = None\n",
        "if flag:\n",
        "  # using standard scaler for normalizing\n",
        "  scaler = StandardScaler()\n",
        "else:\n",
        "  # using minmax scaler for normalizing\n",
        "  # to avoid negative values after scaling\n",
        "  scaler = MinMaxScaler()\n",
        "\n",
        "def normalization_train(df,col):\n",
        "  for i in col:\n",
        "    arr = df[i]\n",
        "    arr = np.array(arr)\n",
        "    df[i] = scaler.fit_transform(arr.reshape(len(arr),1))\n",
        "  return df\n",
        "\n",
        "def normalization_test(df,col):\n",
        "  for i in col:\n",
        "    arr = df[i]\n",
        "    arr = np.array(arr)\n",
        "    df[i] = scaler.transform(arr.reshape(len(arr),1))\n",
        "  return df\n",
        "\n",
        "# numeric_cols"
      ],
      "metadata": {
        "id": "QAUrPvEIYHoH"
      },
      "execution_count": null,
      "outputs": []
    },
    {
      "cell_type": "code",
      "execution_count": null,
      "metadata": {
        "colab": {
          "base_uri": "https://localhost:8080/",
          "height": 505
        },
        "id": "XSTP2AcKJgTF",
        "outputId": "8e6e0eea-1b64-4898-f4aa-563b525e68b0"
      },
      "outputs": [
        {
          "output_type": "execute_result",
          "data": {
            "text/plain": [
              "        proto_-  proto_arp  proto_ospf  proto_tcp  proto_udp  proto_unas  \\\n",
              "0             0          0           0          0          1           0   \n",
              "1             0          0           0          0          1           0   \n",
              "2             0          0           0          0          1           0   \n",
              "3             0          0           0          0          1           0   \n",
              "4             0          0           0          0          1           0   \n",
              "...         ...        ...         ...        ...        ...         ...   \n",
              "257668        0          0           0          0          1           0   \n",
              "257669        0          0           0          1          0           0   \n",
              "257670        0          0           0          0          1           0   \n",
              "257671        0          0           0          0          1           0   \n",
              "257672        0          0           0          0          1           0   \n",
              "\n",
              "        service_-  service_dns  service_ftp-data  service_http  ...  \\\n",
              "0               1            0                 0             0  ...   \n",
              "1               1            0                 0             0  ...   \n",
              "2               1            0                 0             0  ...   \n",
              "3               1            0                 0             0  ...   \n",
              "4               1            0                 0             0  ...   \n",
              "...           ...          ...               ...           ...  ...   \n",
              "257668          0            1                 0             0  ...   \n",
              "257669          1            0                 0             0  ...   \n",
              "257670          0            1                 0             0  ...   \n",
              "257671          0            1                 0             0  ...   \n",
              "257672          0            1                 0             0  ...   \n",
              "\n",
              "        ct_src_dport_ltm  ct_dst_sport_ltm  ct_dst_src_ltm  is_ftp_login  \\\n",
              "0                      1                 1               2             0   \n",
              "1                      1                 1               2             0   \n",
              "2                      1                 1               3             0   \n",
              "3                      2                 1               3             0   \n",
              "4                      2                 1               3             0   \n",
              "...                  ...               ...             ...           ...   \n",
              "257668                24                13              24             0   \n",
              "257669                 1                 1               2             0   \n",
              "257670                 3                 3              13             0   \n",
              "257671                30                14              30             0   \n",
              "257672                30                16              30             0   \n",
              "\n",
              "        ct_ftp_cmd  ct_flw_http_mthd  ct_src_ltm  ct_srv_dst  is_sm_ips_ports  \\\n",
              "0                0                 0           1           2                0   \n",
              "1                0                 0           1           2                0   \n",
              "2                0                 0           1           3                0   \n",
              "3                0                 0           2           3                0   \n",
              "4                0                 0           2           3                0   \n",
              "...            ...               ...         ...         ...              ...   \n",
              "257668           0                 0          24          24                0   \n",
              "257669           0                 0           1           1                0   \n",
              "257670           0                 0           3          12                0   \n",
              "257671           0                 0          30          30                0   \n",
              "257672           0                 0          30          30                0   \n",
              "\n",
              "        label  \n",
              "0           0  \n",
              "1           0  \n",
              "2           0  \n",
              "3           0  \n",
              "4           0  \n",
              "...       ...  \n",
              "257668      1  \n",
              "257669      1  \n",
              "257670      1  \n",
              "257671      1  \n",
              "257672      1  \n",
              "\n",
              "[257673 rows x 57 columns]"
            ],
            "text/html": [
              "\n",
              "  <div id=\"df-1357a0d3-502d-41aa-9244-a6de6f34c1be\">\n",
              "    <div class=\"colab-df-container\">\n",
              "      <div>\n",
              "<style scoped>\n",
              "    .dataframe tbody tr th:only-of-type {\n",
              "        vertical-align: middle;\n",
              "    }\n",
              "\n",
              "    .dataframe tbody tr th {\n",
              "        vertical-align: top;\n",
              "    }\n",
              "\n",
              "    .dataframe thead th {\n",
              "        text-align: right;\n",
              "    }\n",
              "</style>\n",
              "<table border=\"1\" class=\"dataframe\">\n",
              "  <thead>\n",
              "    <tr style=\"text-align: right;\">\n",
              "      <th></th>\n",
              "      <th>proto_-</th>\n",
              "      <th>proto_arp</th>\n",
              "      <th>proto_ospf</th>\n",
              "      <th>proto_tcp</th>\n",
              "      <th>proto_udp</th>\n",
              "      <th>proto_unas</th>\n",
              "      <th>service_-</th>\n",
              "      <th>service_dns</th>\n",
              "      <th>service_ftp-data</th>\n",
              "      <th>service_http</th>\n",
              "      <th>...</th>\n",
              "      <th>ct_src_dport_ltm</th>\n",
              "      <th>ct_dst_sport_ltm</th>\n",
              "      <th>ct_dst_src_ltm</th>\n",
              "      <th>is_ftp_login</th>\n",
              "      <th>ct_ftp_cmd</th>\n",
              "      <th>ct_flw_http_mthd</th>\n",
              "      <th>ct_src_ltm</th>\n",
              "      <th>ct_srv_dst</th>\n",
              "      <th>is_sm_ips_ports</th>\n",
              "      <th>label</th>\n",
              "    </tr>\n",
              "  </thead>\n",
              "  <tbody>\n",
              "    <tr>\n",
              "      <th>0</th>\n",
              "      <td>0</td>\n",
              "      <td>0</td>\n",
              "      <td>0</td>\n",
              "      <td>0</td>\n",
              "      <td>1</td>\n",
              "      <td>0</td>\n",
              "      <td>1</td>\n",
              "      <td>0</td>\n",
              "      <td>0</td>\n",
              "      <td>0</td>\n",
              "      <td>...</td>\n",
              "      <td>1</td>\n",
              "      <td>1</td>\n",
              "      <td>2</td>\n",
              "      <td>0</td>\n",
              "      <td>0</td>\n",
              "      <td>0</td>\n",
              "      <td>1</td>\n",
              "      <td>2</td>\n",
              "      <td>0</td>\n",
              "      <td>0</td>\n",
              "    </tr>\n",
              "    <tr>\n",
              "      <th>1</th>\n",
              "      <td>0</td>\n",
              "      <td>0</td>\n",
              "      <td>0</td>\n",
              "      <td>0</td>\n",
              "      <td>1</td>\n",
              "      <td>0</td>\n",
              "      <td>1</td>\n",
              "      <td>0</td>\n",
              "      <td>0</td>\n",
              "      <td>0</td>\n",
              "      <td>...</td>\n",
              "      <td>1</td>\n",
              "      <td>1</td>\n",
              "      <td>2</td>\n",
              "      <td>0</td>\n",
              "      <td>0</td>\n",
              "      <td>0</td>\n",
              "      <td>1</td>\n",
              "      <td>2</td>\n",
              "      <td>0</td>\n",
              "      <td>0</td>\n",
              "    </tr>\n",
              "    <tr>\n",
              "      <th>2</th>\n",
              "      <td>0</td>\n",
              "      <td>0</td>\n",
              "      <td>0</td>\n",
              "      <td>0</td>\n",
              "      <td>1</td>\n",
              "      <td>0</td>\n",
              "      <td>1</td>\n",
              "      <td>0</td>\n",
              "      <td>0</td>\n",
              "      <td>0</td>\n",
              "      <td>...</td>\n",
              "      <td>1</td>\n",
              "      <td>1</td>\n",
              "      <td>3</td>\n",
              "      <td>0</td>\n",
              "      <td>0</td>\n",
              "      <td>0</td>\n",
              "      <td>1</td>\n",
              "      <td>3</td>\n",
              "      <td>0</td>\n",
              "      <td>0</td>\n",
              "    </tr>\n",
              "    <tr>\n",
              "      <th>3</th>\n",
              "      <td>0</td>\n",
              "      <td>0</td>\n",
              "      <td>0</td>\n",
              "      <td>0</td>\n",
              "      <td>1</td>\n",
              "      <td>0</td>\n",
              "      <td>1</td>\n",
              "      <td>0</td>\n",
              "      <td>0</td>\n",
              "      <td>0</td>\n",
              "      <td>...</td>\n",
              "      <td>2</td>\n",
              "      <td>1</td>\n",
              "      <td>3</td>\n",
              "      <td>0</td>\n",
              "      <td>0</td>\n",
              "      <td>0</td>\n",
              "      <td>2</td>\n",
              "      <td>3</td>\n",
              "      <td>0</td>\n",
              "      <td>0</td>\n",
              "    </tr>\n",
              "    <tr>\n",
              "      <th>4</th>\n",
              "      <td>0</td>\n",
              "      <td>0</td>\n",
              "      <td>0</td>\n",
              "      <td>0</td>\n",
              "      <td>1</td>\n",
              "      <td>0</td>\n",
              "      <td>1</td>\n",
              "      <td>0</td>\n",
              "      <td>0</td>\n",
              "      <td>0</td>\n",
              "      <td>...</td>\n",
              "      <td>2</td>\n",
              "      <td>1</td>\n",
              "      <td>3</td>\n",
              "      <td>0</td>\n",
              "      <td>0</td>\n",
              "      <td>0</td>\n",
              "      <td>2</td>\n",
              "      <td>3</td>\n",
              "      <td>0</td>\n",
              "      <td>0</td>\n",
              "    </tr>\n",
              "    <tr>\n",
              "      <th>...</th>\n",
              "      <td>...</td>\n",
              "      <td>...</td>\n",
              "      <td>...</td>\n",
              "      <td>...</td>\n",
              "      <td>...</td>\n",
              "      <td>...</td>\n",
              "      <td>...</td>\n",
              "      <td>...</td>\n",
              "      <td>...</td>\n",
              "      <td>...</td>\n",
              "      <td>...</td>\n",
              "      <td>...</td>\n",
              "      <td>...</td>\n",
              "      <td>...</td>\n",
              "      <td>...</td>\n",
              "      <td>...</td>\n",
              "      <td>...</td>\n",
              "      <td>...</td>\n",
              "      <td>...</td>\n",
              "      <td>...</td>\n",
              "      <td>...</td>\n",
              "    </tr>\n",
              "    <tr>\n",
              "      <th>257668</th>\n",
              "      <td>0</td>\n",
              "      <td>0</td>\n",
              "      <td>0</td>\n",
              "      <td>0</td>\n",
              "      <td>1</td>\n",
              "      <td>0</td>\n",
              "      <td>0</td>\n",
              "      <td>1</td>\n",
              "      <td>0</td>\n",
              "      <td>0</td>\n",
              "      <td>...</td>\n",
              "      <td>24</td>\n",
              "      <td>13</td>\n",
              "      <td>24</td>\n",
              "      <td>0</td>\n",
              "      <td>0</td>\n",
              "      <td>0</td>\n",
              "      <td>24</td>\n",
              "      <td>24</td>\n",
              "      <td>0</td>\n",
              "      <td>1</td>\n",
              "    </tr>\n",
              "    <tr>\n",
              "      <th>257669</th>\n",
              "      <td>0</td>\n",
              "      <td>0</td>\n",
              "      <td>0</td>\n",
              "      <td>1</td>\n",
              "      <td>0</td>\n",
              "      <td>0</td>\n",
              "      <td>1</td>\n",
              "      <td>0</td>\n",
              "      <td>0</td>\n",
              "      <td>0</td>\n",
              "      <td>...</td>\n",
              "      <td>1</td>\n",
              "      <td>1</td>\n",
              "      <td>2</td>\n",
              "      <td>0</td>\n",
              "      <td>0</td>\n",
              "      <td>0</td>\n",
              "      <td>1</td>\n",
              "      <td>1</td>\n",
              "      <td>0</td>\n",
              "      <td>1</td>\n",
              "    </tr>\n",
              "    <tr>\n",
              "      <th>257670</th>\n",
              "      <td>0</td>\n",
              "      <td>0</td>\n",
              "      <td>0</td>\n",
              "      <td>0</td>\n",
              "      <td>1</td>\n",
              "      <td>0</td>\n",
              "      <td>0</td>\n",
              "      <td>1</td>\n",
              "      <td>0</td>\n",
              "      <td>0</td>\n",
              "      <td>...</td>\n",
              "      <td>3</td>\n",
              "      <td>3</td>\n",
              "      <td>13</td>\n",
              "      <td>0</td>\n",
              "      <td>0</td>\n",
              "      <td>0</td>\n",
              "      <td>3</td>\n",
              "      <td>12</td>\n",
              "      <td>0</td>\n",
              "      <td>1</td>\n",
              "    </tr>\n",
              "    <tr>\n",
              "      <th>257671</th>\n",
              "      <td>0</td>\n",
              "      <td>0</td>\n",
              "      <td>0</td>\n",
              "      <td>0</td>\n",
              "      <td>1</td>\n",
              "      <td>0</td>\n",
              "      <td>0</td>\n",
              "      <td>1</td>\n",
              "      <td>0</td>\n",
              "      <td>0</td>\n",
              "      <td>...</td>\n",
              "      <td>30</td>\n",
              "      <td>14</td>\n",
              "      <td>30</td>\n",
              "      <td>0</td>\n",
              "      <td>0</td>\n",
              "      <td>0</td>\n",
              "      <td>30</td>\n",
              "      <td>30</td>\n",
              "      <td>0</td>\n",
              "      <td>1</td>\n",
              "    </tr>\n",
              "    <tr>\n",
              "      <th>257672</th>\n",
              "      <td>0</td>\n",
              "      <td>0</td>\n",
              "      <td>0</td>\n",
              "      <td>0</td>\n",
              "      <td>1</td>\n",
              "      <td>0</td>\n",
              "      <td>0</td>\n",
              "      <td>1</td>\n",
              "      <td>0</td>\n",
              "      <td>0</td>\n",
              "      <td>...</td>\n",
              "      <td>30</td>\n",
              "      <td>16</td>\n",
              "      <td>30</td>\n",
              "      <td>0</td>\n",
              "      <td>0</td>\n",
              "      <td>0</td>\n",
              "      <td>30</td>\n",
              "      <td>30</td>\n",
              "      <td>0</td>\n",
              "      <td>1</td>\n",
              "    </tr>\n",
              "  </tbody>\n",
              "</table>\n",
              "<p>257673 rows × 57 columns</p>\n",
              "</div>\n",
              "      <button class=\"colab-df-convert\" onclick=\"convertToInteractive('df-1357a0d3-502d-41aa-9244-a6de6f34c1be')\"\n",
              "              title=\"Convert this dataframe to an interactive table.\"\n",
              "              style=\"display:none;\">\n",
              "        \n",
              "  <svg xmlns=\"http://www.w3.org/2000/svg\" height=\"24px\"viewBox=\"0 0 24 24\"\n",
              "       width=\"24px\">\n",
              "    <path d=\"M0 0h24v24H0V0z\" fill=\"none\"/>\n",
              "    <path d=\"M18.56 5.44l.94 2.06.94-2.06 2.06-.94-2.06-.94-.94-2.06-.94 2.06-2.06.94zm-11 1L8.5 8.5l.94-2.06 2.06-.94-2.06-.94L8.5 2.5l-.94 2.06-2.06.94zm10 10l.94 2.06.94-2.06 2.06-.94-2.06-.94-.94-2.06-.94 2.06-2.06.94z\"/><path d=\"M17.41 7.96l-1.37-1.37c-.4-.4-.92-.59-1.43-.59-.52 0-1.04.2-1.43.59L10.3 9.45l-7.72 7.72c-.78.78-.78 2.05 0 2.83L4 21.41c.39.39.9.59 1.41.59.51 0 1.02-.2 1.41-.59l7.78-7.78 2.81-2.81c.8-.78.8-2.07 0-2.86zM5.41 20L4 18.59l7.72-7.72 1.47 1.35L5.41 20z\"/>\n",
              "  </svg>\n",
              "      </button>\n",
              "      \n",
              "  <style>\n",
              "    .colab-df-container {\n",
              "      display:flex;\n",
              "      flex-wrap:wrap;\n",
              "      gap: 12px;\n",
              "    }\n",
              "\n",
              "    .colab-df-convert {\n",
              "      background-color: #E8F0FE;\n",
              "      border: none;\n",
              "      border-radius: 50%;\n",
              "      cursor: pointer;\n",
              "      display: none;\n",
              "      fill: #1967D2;\n",
              "      height: 32px;\n",
              "      padding: 0 0 0 0;\n",
              "      width: 32px;\n",
              "    }\n",
              "\n",
              "    .colab-df-convert:hover {\n",
              "      background-color: #E2EBFA;\n",
              "      box-shadow: 0px 1px 2px rgba(60, 64, 67, 0.3), 0px 1px 3px 1px rgba(60, 64, 67, 0.15);\n",
              "      fill: #174EA6;\n",
              "    }\n",
              "\n",
              "    [theme=dark] .colab-df-convert {\n",
              "      background-color: #3B4455;\n",
              "      fill: #D2E3FC;\n",
              "    }\n",
              "\n",
              "    [theme=dark] .colab-df-convert:hover {\n",
              "      background-color: #434B5C;\n",
              "      box-shadow: 0px 1px 3px 1px rgba(0, 0, 0, 0.15);\n",
              "      filter: drop-shadow(0px 1px 2px rgba(0, 0, 0, 0.3));\n",
              "      fill: #FFFFFF;\n",
              "    }\n",
              "  </style>\n",
              "\n",
              "      <script>\n",
              "        const buttonEl =\n",
              "          document.querySelector('#df-1357a0d3-502d-41aa-9244-a6de6f34c1be button.colab-df-convert');\n",
              "        buttonEl.style.display =\n",
              "          google.colab.kernel.accessAllowed ? 'block' : 'none';\n",
              "\n",
              "        async function convertToInteractive(key) {\n",
              "          const element = document.querySelector('#df-1357a0d3-502d-41aa-9244-a6de6f34c1be');\n",
              "          const dataTable =\n",
              "            await google.colab.kernel.invokeFunction('convertToInteractive',\n",
              "                                                     [key], {});\n",
              "          if (!dataTable) return;\n",
              "\n",
              "          const docLinkHtml = 'Like what you see? Visit the ' +\n",
              "            '<a target=\"_blank\" href=https://colab.research.google.com/notebooks/data_table.ipynb>data table notebook</a>'\n",
              "            + ' to learn more about interactive tables.';\n",
              "          element.innerHTML = '';\n",
              "          dataTable['output_type'] = 'display_data';\n",
              "          await google.colab.output.renderOutput(dataTable, element);\n",
              "          const docLink = document.createElement('div');\n",
              "          docLink.innerHTML = docLinkHtml;\n",
              "          element.appendChild(docLink);\n",
              "        }\n",
              "      </script>\n",
              "    </div>\n",
              "  </div>\n",
              "  "
            ]
          },
          "metadata": {},
          "execution_count": 6
        }
      ],
      "source": [
        "# sampling data taking only 50% of the data\n",
        "# bin_data = bin_data_total.groupby('label', group_keys=False).apply(lambda x: x.sample(frac=0.5))\n",
        "bin_data = bin_data_total\n",
        "bin_data"
      ]
    },
    {
      "cell_type": "code",
      "source": [
        "number_of_cols = bin_data.shape[1]"
      ],
      "metadata": {
        "id": "N125Cc3Ukt8h"
      },
      "execution_count": null,
      "outputs": []
    },
    {
      "cell_type": "code",
      "execution_count": null,
      "metadata": {
        "colab": {
          "base_uri": "https://localhost:8080/"
        },
        "id": "nKX2TRG0J85J",
        "outputId": "be063699-d33a-4850-c56c-46c582b8c567"
      },
      "outputs": [
        {
          "output_type": "execute_result",
          "data": {
            "text/plain": [
              "1    0.639077\n",
              "0    0.360923\n",
              "Name: label, dtype: float64"
            ]
          },
          "metadata": {},
          "execution_count": 8
        }
      ],
      "source": [
        "# distribution of label class after sampling\n",
        "data_size = bin_data.shape[0]\n",
        "bin_data.label.value_counts()/data_size"
      ]
    },
    {
      "cell_type": "code",
      "execution_count": null,
      "metadata": {
        "id": "L11T2MepDzax"
      },
      "outputs": [],
      "source": [
        "model_selection = {\n",
        "    0 : \"ALL\",\n",
        "    2 : \"MLP\",\n",
        "    3 : \"LSTM\",\n",
        "    4 : \"AE\"\n",
        "}\n",
        "model_flag = 0\n",
        "svm_enable = 1"
      ]
    },
    {
      "cell_type": "code",
      "execution_count": null,
      "metadata": {
        "id": "OdRAXVlsxUVW"
      },
      "outputs": [],
      "source": [
        "X = bin_data.iloc[:,0:number_of_cols] # dataset excluding target attribute (encoded, one-hot-encoded,original)\n",
        "Y = bin_data['label'] # target attribute"
      ]
    },
    {
      "cell_type": "code",
      "execution_count": null,
      "metadata": {
        "id": "lFdHHvRtxU5B"
      },
      "outputs": [],
      "source": [
        "# splitting the dataset 75% for training and 25% testing\n",
        "X_train, X_test, y_train, y_test = train_test_split(X,Y, test_size=0.25, random_state=42) "
      ]
    },
    {
      "cell_type": "code",
      "source": [
        "# calling the normalization() function\n",
        "X_train = normalization_train(X_train,numeric_cols)\n",
        "X_train.head()"
      ],
      "metadata": {
        "colab": {
          "base_uri": "https://localhost:8080/",
          "height": 317
        },
        "id": "SLLlMtsaYJdK",
        "outputId": "06ee6cef-3f2c-4bc9-be1f-1e8a2d542481"
      },
      "execution_count": null,
      "outputs": [
        {
          "output_type": "execute_result",
          "data": {
            "text/plain": [
              "        proto_-  proto_arp  proto_ospf  proto_tcp  proto_udp  proto_unas  \\\n",
              "92000       0.0        0.0         0.0        1.0        0.0         0.0   \n",
              "192145      0.0        0.0         0.0        0.0        1.0         0.0   \n",
              "3245        0.0        0.0         0.0        1.0        0.0         0.0   \n",
              "45792       0.0        0.0         0.0        1.0        0.0         0.0   \n",
              "250330      0.0        0.0         0.0        0.0        0.0         1.0   \n",
              "\n",
              "        service_-  service_dns  service_ftp-data  service_http  ...  \\\n",
              "92000         1.0          0.0               0.0           0.0  ...   \n",
              "192145        1.0          0.0               0.0           0.0  ...   \n",
              "3245          1.0          0.0               0.0           0.0  ...   \n",
              "45792         1.0          0.0               0.0           0.0  ...   \n",
              "250330        1.0          0.0               0.0           0.0  ...   \n",
              "\n",
              "        ct_src_dport_ltm  ct_dst_sport_ltm  ct_dst_src_ltm  is_ftp_login  \\\n",
              "92000                0.0               0.0        0.032258           0.0   \n",
              "192145               0.0               0.0        0.016129           0.0   \n",
              "3245                 0.0               0.0        0.032258           0.0   \n",
              "45792                0.0               0.0        0.000000           0.0   \n",
              "250330               0.0               0.0        0.016129           0.0   \n",
              "\n",
              "        ct_ftp_cmd  ct_flw_http_mthd  ct_src_ltm  ct_srv_dst  is_sm_ips_ports  \\\n",
              "92000          0.0               0.0    0.000000    0.032787              0.0   \n",
              "192145         0.0               0.0    0.000000    0.016393              0.0   \n",
              "3245           0.0               0.0    0.016949    0.032787              0.0   \n",
              "45792          0.0               0.0    0.000000    0.000000              0.0   \n",
              "250330         0.0               0.0    0.000000    0.016393              0.0   \n",
              "\n",
              "        label  \n",
              "92000       0  \n",
              "192145      1  \n",
              "3245        1  \n",
              "45792       1  \n",
              "250330      1  \n",
              "\n",
              "[5 rows x 57 columns]"
            ],
            "text/html": [
              "\n",
              "  <div id=\"df-880619b1-b09f-439e-9e26-5d24890bdfac\">\n",
              "    <div class=\"colab-df-container\">\n",
              "      <div>\n",
              "<style scoped>\n",
              "    .dataframe tbody tr th:only-of-type {\n",
              "        vertical-align: middle;\n",
              "    }\n",
              "\n",
              "    .dataframe tbody tr th {\n",
              "        vertical-align: top;\n",
              "    }\n",
              "\n",
              "    .dataframe thead th {\n",
              "        text-align: right;\n",
              "    }\n",
              "</style>\n",
              "<table border=\"1\" class=\"dataframe\">\n",
              "  <thead>\n",
              "    <tr style=\"text-align: right;\">\n",
              "      <th></th>\n",
              "      <th>proto_-</th>\n",
              "      <th>proto_arp</th>\n",
              "      <th>proto_ospf</th>\n",
              "      <th>proto_tcp</th>\n",
              "      <th>proto_udp</th>\n",
              "      <th>proto_unas</th>\n",
              "      <th>service_-</th>\n",
              "      <th>service_dns</th>\n",
              "      <th>service_ftp-data</th>\n",
              "      <th>service_http</th>\n",
              "      <th>...</th>\n",
              "      <th>ct_src_dport_ltm</th>\n",
              "      <th>ct_dst_sport_ltm</th>\n",
              "      <th>ct_dst_src_ltm</th>\n",
              "      <th>is_ftp_login</th>\n",
              "      <th>ct_ftp_cmd</th>\n",
              "      <th>ct_flw_http_mthd</th>\n",
              "      <th>ct_src_ltm</th>\n",
              "      <th>ct_srv_dst</th>\n",
              "      <th>is_sm_ips_ports</th>\n",
              "      <th>label</th>\n",
              "    </tr>\n",
              "  </thead>\n",
              "  <tbody>\n",
              "    <tr>\n",
              "      <th>92000</th>\n",
              "      <td>0.0</td>\n",
              "      <td>0.0</td>\n",
              "      <td>0.0</td>\n",
              "      <td>1.0</td>\n",
              "      <td>0.0</td>\n",
              "      <td>0.0</td>\n",
              "      <td>1.0</td>\n",
              "      <td>0.0</td>\n",
              "      <td>0.0</td>\n",
              "      <td>0.0</td>\n",
              "      <td>...</td>\n",
              "      <td>0.0</td>\n",
              "      <td>0.0</td>\n",
              "      <td>0.032258</td>\n",
              "      <td>0.0</td>\n",
              "      <td>0.0</td>\n",
              "      <td>0.0</td>\n",
              "      <td>0.000000</td>\n",
              "      <td>0.032787</td>\n",
              "      <td>0.0</td>\n",
              "      <td>0</td>\n",
              "    </tr>\n",
              "    <tr>\n",
              "      <th>192145</th>\n",
              "      <td>0.0</td>\n",
              "      <td>0.0</td>\n",
              "      <td>0.0</td>\n",
              "      <td>0.0</td>\n",
              "      <td>1.0</td>\n",
              "      <td>0.0</td>\n",
              "      <td>1.0</td>\n",
              "      <td>0.0</td>\n",
              "      <td>0.0</td>\n",
              "      <td>0.0</td>\n",
              "      <td>...</td>\n",
              "      <td>0.0</td>\n",
              "      <td>0.0</td>\n",
              "      <td>0.016129</td>\n",
              "      <td>0.0</td>\n",
              "      <td>0.0</td>\n",
              "      <td>0.0</td>\n",
              "      <td>0.000000</td>\n",
              "      <td>0.016393</td>\n",
              "      <td>0.0</td>\n",
              "      <td>1</td>\n",
              "    </tr>\n",
              "    <tr>\n",
              "      <th>3245</th>\n",
              "      <td>0.0</td>\n",
              "      <td>0.0</td>\n",
              "      <td>0.0</td>\n",
              "      <td>1.0</td>\n",
              "      <td>0.0</td>\n",
              "      <td>0.0</td>\n",
              "      <td>1.0</td>\n",
              "      <td>0.0</td>\n",
              "      <td>0.0</td>\n",
              "      <td>0.0</td>\n",
              "      <td>...</td>\n",
              "      <td>0.0</td>\n",
              "      <td>0.0</td>\n",
              "      <td>0.032258</td>\n",
              "      <td>0.0</td>\n",
              "      <td>0.0</td>\n",
              "      <td>0.0</td>\n",
              "      <td>0.016949</td>\n",
              "      <td>0.032787</td>\n",
              "      <td>0.0</td>\n",
              "      <td>1</td>\n",
              "    </tr>\n",
              "    <tr>\n",
              "      <th>45792</th>\n",
              "      <td>0.0</td>\n",
              "      <td>0.0</td>\n",
              "      <td>0.0</td>\n",
              "      <td>1.0</td>\n",
              "      <td>0.0</td>\n",
              "      <td>0.0</td>\n",
              "      <td>1.0</td>\n",
              "      <td>0.0</td>\n",
              "      <td>0.0</td>\n",
              "      <td>0.0</td>\n",
              "      <td>...</td>\n",
              "      <td>0.0</td>\n",
              "      <td>0.0</td>\n",
              "      <td>0.000000</td>\n",
              "      <td>0.0</td>\n",
              "      <td>0.0</td>\n",
              "      <td>0.0</td>\n",
              "      <td>0.000000</td>\n",
              "      <td>0.000000</td>\n",
              "      <td>0.0</td>\n",
              "      <td>1</td>\n",
              "    </tr>\n",
              "    <tr>\n",
              "      <th>250330</th>\n",
              "      <td>0.0</td>\n",
              "      <td>0.0</td>\n",
              "      <td>0.0</td>\n",
              "      <td>0.0</td>\n",
              "      <td>0.0</td>\n",
              "      <td>1.0</td>\n",
              "      <td>1.0</td>\n",
              "      <td>0.0</td>\n",
              "      <td>0.0</td>\n",
              "      <td>0.0</td>\n",
              "      <td>...</td>\n",
              "      <td>0.0</td>\n",
              "      <td>0.0</td>\n",
              "      <td>0.016129</td>\n",
              "      <td>0.0</td>\n",
              "      <td>0.0</td>\n",
              "      <td>0.0</td>\n",
              "      <td>0.000000</td>\n",
              "      <td>0.016393</td>\n",
              "      <td>0.0</td>\n",
              "      <td>1</td>\n",
              "    </tr>\n",
              "  </tbody>\n",
              "</table>\n",
              "<p>5 rows × 57 columns</p>\n",
              "</div>\n",
              "      <button class=\"colab-df-convert\" onclick=\"convertToInteractive('df-880619b1-b09f-439e-9e26-5d24890bdfac')\"\n",
              "              title=\"Convert this dataframe to an interactive table.\"\n",
              "              style=\"display:none;\">\n",
              "        \n",
              "  <svg xmlns=\"http://www.w3.org/2000/svg\" height=\"24px\"viewBox=\"0 0 24 24\"\n",
              "       width=\"24px\">\n",
              "    <path d=\"M0 0h24v24H0V0z\" fill=\"none\"/>\n",
              "    <path d=\"M18.56 5.44l.94 2.06.94-2.06 2.06-.94-2.06-.94-.94-2.06-.94 2.06-2.06.94zm-11 1L8.5 8.5l.94-2.06 2.06-.94-2.06-.94L8.5 2.5l-.94 2.06-2.06.94zm10 10l.94 2.06.94-2.06 2.06-.94-2.06-.94-.94-2.06-.94 2.06-2.06.94z\"/><path d=\"M17.41 7.96l-1.37-1.37c-.4-.4-.92-.59-1.43-.59-.52 0-1.04.2-1.43.59L10.3 9.45l-7.72 7.72c-.78.78-.78 2.05 0 2.83L4 21.41c.39.39.9.59 1.41.59.51 0 1.02-.2 1.41-.59l7.78-7.78 2.81-2.81c.8-.78.8-2.07 0-2.86zM5.41 20L4 18.59l7.72-7.72 1.47 1.35L5.41 20z\"/>\n",
              "  </svg>\n",
              "      </button>\n",
              "      \n",
              "  <style>\n",
              "    .colab-df-container {\n",
              "      display:flex;\n",
              "      flex-wrap:wrap;\n",
              "      gap: 12px;\n",
              "    }\n",
              "\n",
              "    .colab-df-convert {\n",
              "      background-color: #E8F0FE;\n",
              "      border: none;\n",
              "      border-radius: 50%;\n",
              "      cursor: pointer;\n",
              "      display: none;\n",
              "      fill: #1967D2;\n",
              "      height: 32px;\n",
              "      padding: 0 0 0 0;\n",
              "      width: 32px;\n",
              "    }\n",
              "\n",
              "    .colab-df-convert:hover {\n",
              "      background-color: #E2EBFA;\n",
              "      box-shadow: 0px 1px 2px rgba(60, 64, 67, 0.3), 0px 1px 3px 1px rgba(60, 64, 67, 0.15);\n",
              "      fill: #174EA6;\n",
              "    }\n",
              "\n",
              "    [theme=dark] .colab-df-convert {\n",
              "      background-color: #3B4455;\n",
              "      fill: #D2E3FC;\n",
              "    }\n",
              "\n",
              "    [theme=dark] .colab-df-convert:hover {\n",
              "      background-color: #434B5C;\n",
              "      box-shadow: 0px 1px 3px 1px rgba(0, 0, 0, 0.15);\n",
              "      filter: drop-shadow(0px 1px 2px rgba(0, 0, 0, 0.3));\n",
              "      fill: #FFFFFF;\n",
              "    }\n",
              "  </style>\n",
              "\n",
              "      <script>\n",
              "        const buttonEl =\n",
              "          document.querySelector('#df-880619b1-b09f-439e-9e26-5d24890bdfac button.colab-df-convert');\n",
              "        buttonEl.style.display =\n",
              "          google.colab.kernel.accessAllowed ? 'block' : 'none';\n",
              "\n",
              "        async function convertToInteractive(key) {\n",
              "          const element = document.querySelector('#df-880619b1-b09f-439e-9e26-5d24890bdfac');\n",
              "          const dataTable =\n",
              "            await google.colab.kernel.invokeFunction('convertToInteractive',\n",
              "                                                     [key], {});\n",
              "          if (!dataTable) return;\n",
              "\n",
              "          const docLinkHtml = 'Like what you see? Visit the ' +\n",
              "            '<a target=\"_blank\" href=https://colab.research.google.com/notebooks/data_table.ipynb>data table notebook</a>'\n",
              "            + ' to learn more about interactive tables.';\n",
              "          element.innerHTML = '';\n",
              "          dataTable['output_type'] = 'display_data';\n",
              "          await google.colab.output.renderOutput(dataTable, element);\n",
              "          const docLink = document.createElement('div');\n",
              "          docLink.innerHTML = docLinkHtml;\n",
              "          element.appendChild(docLink);\n",
              "        }\n",
              "      </script>\n",
              "    </div>\n",
              "  </div>\n",
              "  "
            ]
          },
          "metadata": {},
          "execution_count": 12
        }
      ]
    },
    {
      "cell_type": "code",
      "source": [
        "# calling the normalization() function\n",
        "X_test = normalization_test(X_test,numeric_cols)\n",
        "X_test.head()"
      ],
      "metadata": {
        "colab": {
          "base_uri": "https://localhost:8080/",
          "height": 317
        },
        "id": "EKmhgZCobPU3",
        "outputId": "fab9e55b-b72f-4805-e2f2-39ec95132899"
      },
      "execution_count": null,
      "outputs": [
        {
          "output_type": "execute_result",
          "data": {
            "text/plain": [
              "        proto_-  proto_arp  proto_ospf  proto_tcp  proto_udp  proto_unas  \\\n",
              "122637      0.0        0.0         0.0        1.0        0.0         0.0   \n",
              "137118      1.0        0.0         0.0        0.0        0.0         0.0   \n",
              "245289      0.0        0.0         0.0        0.0        1.0         0.0   \n",
              "221262      0.0        0.0         0.0        0.0        1.0         0.0   \n",
              "31408       0.0        0.0         0.0        1.0        0.0         0.0   \n",
              "\n",
              "        service_-  service_dns  service_ftp-data  service_http  ...  \\\n",
              "122637        1.0          0.0               0.0           0.0  ...   \n",
              "137118        1.0          0.0               0.0           0.0  ...   \n",
              "245289        0.0          1.0               0.0           0.0  ...   \n",
              "221262        0.0          1.0               0.0           0.0  ...   \n",
              "31408         0.0          0.0               0.0           1.0  ...   \n",
              "\n",
              "        ct_src_dport_ltm  ct_dst_sport_ltm  ct_dst_src_ltm  is_ftp_login  \\\n",
              "122637               1.0               1.0             1.0           0.0   \n",
              "137118               1.0               1.0             6.0           0.0   \n",
              "245289              17.0              17.0            17.0           0.0   \n",
              "221262              32.0              14.0            36.0           0.0   \n",
              "31408                1.0               1.0             1.0           0.0   \n",
              "\n",
              "        ct_ftp_cmd  ct_flw_http_mthd  ct_src_ltm  ct_srv_dst  is_sm_ips_ports  \\\n",
              "122637         0.0               0.0         3.0         4.0              0.0   \n",
              "137118         0.0               0.0         8.0         6.0              0.0   \n",
              "245289         0.0               0.0        18.0        17.0              0.0   \n",
              "221262         0.0               0.0        32.0        36.0              0.0   \n",
              "31408          0.0               1.0         1.0         2.0              0.0   \n",
              "\n",
              "        label  \n",
              "122637      0  \n",
              "137118      1  \n",
              "245289      1  \n",
              "221262      1  \n",
              "31408       0  \n",
              "\n",
              "[5 rows x 57 columns]"
            ],
            "text/html": [
              "\n",
              "  <div id=\"df-0fe9ce15-8449-417b-af4a-59eec5d24abe\">\n",
              "    <div class=\"colab-df-container\">\n",
              "      <div>\n",
              "<style scoped>\n",
              "    .dataframe tbody tr th:only-of-type {\n",
              "        vertical-align: middle;\n",
              "    }\n",
              "\n",
              "    .dataframe tbody tr th {\n",
              "        vertical-align: top;\n",
              "    }\n",
              "\n",
              "    .dataframe thead th {\n",
              "        text-align: right;\n",
              "    }\n",
              "</style>\n",
              "<table border=\"1\" class=\"dataframe\">\n",
              "  <thead>\n",
              "    <tr style=\"text-align: right;\">\n",
              "      <th></th>\n",
              "      <th>proto_-</th>\n",
              "      <th>proto_arp</th>\n",
              "      <th>proto_ospf</th>\n",
              "      <th>proto_tcp</th>\n",
              "      <th>proto_udp</th>\n",
              "      <th>proto_unas</th>\n",
              "      <th>service_-</th>\n",
              "      <th>service_dns</th>\n",
              "      <th>service_ftp-data</th>\n",
              "      <th>service_http</th>\n",
              "      <th>...</th>\n",
              "      <th>ct_src_dport_ltm</th>\n",
              "      <th>ct_dst_sport_ltm</th>\n",
              "      <th>ct_dst_src_ltm</th>\n",
              "      <th>is_ftp_login</th>\n",
              "      <th>ct_ftp_cmd</th>\n",
              "      <th>ct_flw_http_mthd</th>\n",
              "      <th>ct_src_ltm</th>\n",
              "      <th>ct_srv_dst</th>\n",
              "      <th>is_sm_ips_ports</th>\n",
              "      <th>label</th>\n",
              "    </tr>\n",
              "  </thead>\n",
              "  <tbody>\n",
              "    <tr>\n",
              "      <th>122637</th>\n",
              "      <td>0.0</td>\n",
              "      <td>0.0</td>\n",
              "      <td>0.0</td>\n",
              "      <td>1.0</td>\n",
              "      <td>0.0</td>\n",
              "      <td>0.0</td>\n",
              "      <td>1.0</td>\n",
              "      <td>0.0</td>\n",
              "      <td>0.0</td>\n",
              "      <td>0.0</td>\n",
              "      <td>...</td>\n",
              "      <td>1.0</td>\n",
              "      <td>1.0</td>\n",
              "      <td>1.0</td>\n",
              "      <td>0.0</td>\n",
              "      <td>0.0</td>\n",
              "      <td>0.0</td>\n",
              "      <td>3.0</td>\n",
              "      <td>4.0</td>\n",
              "      <td>0.0</td>\n",
              "      <td>0</td>\n",
              "    </tr>\n",
              "    <tr>\n",
              "      <th>137118</th>\n",
              "      <td>1.0</td>\n",
              "      <td>0.0</td>\n",
              "      <td>0.0</td>\n",
              "      <td>0.0</td>\n",
              "      <td>0.0</td>\n",
              "      <td>0.0</td>\n",
              "      <td>1.0</td>\n",
              "      <td>0.0</td>\n",
              "      <td>0.0</td>\n",
              "      <td>0.0</td>\n",
              "      <td>...</td>\n",
              "      <td>1.0</td>\n",
              "      <td>1.0</td>\n",
              "      <td>6.0</td>\n",
              "      <td>0.0</td>\n",
              "      <td>0.0</td>\n",
              "      <td>0.0</td>\n",
              "      <td>8.0</td>\n",
              "      <td>6.0</td>\n",
              "      <td>0.0</td>\n",
              "      <td>1</td>\n",
              "    </tr>\n",
              "    <tr>\n",
              "      <th>245289</th>\n",
              "      <td>0.0</td>\n",
              "      <td>0.0</td>\n",
              "      <td>0.0</td>\n",
              "      <td>0.0</td>\n",
              "      <td>1.0</td>\n",
              "      <td>0.0</td>\n",
              "      <td>0.0</td>\n",
              "      <td>1.0</td>\n",
              "      <td>0.0</td>\n",
              "      <td>0.0</td>\n",
              "      <td>...</td>\n",
              "      <td>17.0</td>\n",
              "      <td>17.0</td>\n",
              "      <td>17.0</td>\n",
              "      <td>0.0</td>\n",
              "      <td>0.0</td>\n",
              "      <td>0.0</td>\n",
              "      <td>18.0</td>\n",
              "      <td>17.0</td>\n",
              "      <td>0.0</td>\n",
              "      <td>1</td>\n",
              "    </tr>\n",
              "    <tr>\n",
              "      <th>221262</th>\n",
              "      <td>0.0</td>\n",
              "      <td>0.0</td>\n",
              "      <td>0.0</td>\n",
              "      <td>0.0</td>\n",
              "      <td>1.0</td>\n",
              "      <td>0.0</td>\n",
              "      <td>0.0</td>\n",
              "      <td>1.0</td>\n",
              "      <td>0.0</td>\n",
              "      <td>0.0</td>\n",
              "      <td>...</td>\n",
              "      <td>32.0</td>\n",
              "      <td>14.0</td>\n",
              "      <td>36.0</td>\n",
              "      <td>0.0</td>\n",
              "      <td>0.0</td>\n",
              "      <td>0.0</td>\n",
              "      <td>32.0</td>\n",
              "      <td>36.0</td>\n",
              "      <td>0.0</td>\n",
              "      <td>1</td>\n",
              "    </tr>\n",
              "    <tr>\n",
              "      <th>31408</th>\n",
              "      <td>0.0</td>\n",
              "      <td>0.0</td>\n",
              "      <td>0.0</td>\n",
              "      <td>1.0</td>\n",
              "      <td>0.0</td>\n",
              "      <td>0.0</td>\n",
              "      <td>0.0</td>\n",
              "      <td>0.0</td>\n",
              "      <td>0.0</td>\n",
              "      <td>1.0</td>\n",
              "      <td>...</td>\n",
              "      <td>1.0</td>\n",
              "      <td>1.0</td>\n",
              "      <td>1.0</td>\n",
              "      <td>0.0</td>\n",
              "      <td>0.0</td>\n",
              "      <td>1.0</td>\n",
              "      <td>1.0</td>\n",
              "      <td>2.0</td>\n",
              "      <td>0.0</td>\n",
              "      <td>0</td>\n",
              "    </tr>\n",
              "  </tbody>\n",
              "</table>\n",
              "<p>5 rows × 57 columns</p>\n",
              "</div>\n",
              "      <button class=\"colab-df-convert\" onclick=\"convertToInteractive('df-0fe9ce15-8449-417b-af4a-59eec5d24abe')\"\n",
              "              title=\"Convert this dataframe to an interactive table.\"\n",
              "              style=\"display:none;\">\n",
              "        \n",
              "  <svg xmlns=\"http://www.w3.org/2000/svg\" height=\"24px\"viewBox=\"0 0 24 24\"\n",
              "       width=\"24px\">\n",
              "    <path d=\"M0 0h24v24H0V0z\" fill=\"none\"/>\n",
              "    <path d=\"M18.56 5.44l.94 2.06.94-2.06 2.06-.94-2.06-.94-.94-2.06-.94 2.06-2.06.94zm-11 1L8.5 8.5l.94-2.06 2.06-.94-2.06-.94L8.5 2.5l-.94 2.06-2.06.94zm10 10l.94 2.06.94-2.06 2.06-.94-2.06-.94-.94-2.06-.94 2.06-2.06.94z\"/><path d=\"M17.41 7.96l-1.37-1.37c-.4-.4-.92-.59-1.43-.59-.52 0-1.04.2-1.43.59L10.3 9.45l-7.72 7.72c-.78.78-.78 2.05 0 2.83L4 21.41c.39.39.9.59 1.41.59.51 0 1.02-.2 1.41-.59l7.78-7.78 2.81-2.81c.8-.78.8-2.07 0-2.86zM5.41 20L4 18.59l7.72-7.72 1.47 1.35L5.41 20z\"/>\n",
              "  </svg>\n",
              "      </button>\n",
              "      \n",
              "  <style>\n",
              "    .colab-df-container {\n",
              "      display:flex;\n",
              "      flex-wrap:wrap;\n",
              "      gap: 12px;\n",
              "    }\n",
              "\n",
              "    .colab-df-convert {\n",
              "      background-color: #E8F0FE;\n",
              "      border: none;\n",
              "      border-radius: 50%;\n",
              "      cursor: pointer;\n",
              "      display: none;\n",
              "      fill: #1967D2;\n",
              "      height: 32px;\n",
              "      padding: 0 0 0 0;\n",
              "      width: 32px;\n",
              "    }\n",
              "\n",
              "    .colab-df-convert:hover {\n",
              "      background-color: #E2EBFA;\n",
              "      box-shadow: 0px 1px 2px rgba(60, 64, 67, 0.3), 0px 1px 3px 1px rgba(60, 64, 67, 0.15);\n",
              "      fill: #174EA6;\n",
              "    }\n",
              "\n",
              "    [theme=dark] .colab-df-convert {\n",
              "      background-color: #3B4455;\n",
              "      fill: #D2E3FC;\n",
              "    }\n",
              "\n",
              "    [theme=dark] .colab-df-convert:hover {\n",
              "      background-color: #434B5C;\n",
              "      box-shadow: 0px 1px 3px 1px rgba(0, 0, 0, 0.15);\n",
              "      filter: drop-shadow(0px 1px 2px rgba(0, 0, 0, 0.3));\n",
              "      fill: #FFFFFF;\n",
              "    }\n",
              "  </style>\n",
              "\n",
              "      <script>\n",
              "        const buttonEl =\n",
              "          document.querySelector('#df-0fe9ce15-8449-417b-af4a-59eec5d24abe button.colab-df-convert');\n",
              "        buttonEl.style.display =\n",
              "          google.colab.kernel.accessAllowed ? 'block' : 'none';\n",
              "\n",
              "        async function convertToInteractive(key) {\n",
              "          const element = document.querySelector('#df-0fe9ce15-8449-417b-af4a-59eec5d24abe');\n",
              "          const dataTable =\n",
              "            await google.colab.kernel.invokeFunction('convertToInteractive',\n",
              "                                                     [key], {});\n",
              "          if (!dataTable) return;\n",
              "\n",
              "          const docLinkHtml = 'Like what you see? Visit the ' +\n",
              "            '<a target=\"_blank\" href=https://colab.research.google.com/notebooks/data_table.ipynb>data table notebook</a>'\n",
              "            + ' to learn more about interactive tables.';\n",
              "          element.innerHTML = '';\n",
              "          dataTable['output_type'] = 'display_data';\n",
              "          await google.colab.output.renderOutput(dataTable, element);\n",
              "          const docLink = document.createElement('div');\n",
              "          docLink.innerHTML = docLinkHtml;\n",
              "          element.appendChild(docLink);\n",
              "        }\n",
              "      </script>\n",
              "    </div>\n",
              "  </div>\n",
              "  "
            ]
          },
          "metadata": {},
          "execution_count": 13
        }
      ]
    },
    {
      "cell_type": "code",
      "source": [
        "model_name_suffix = \"_unsw_nb15\""
      ],
      "metadata": {
        "id": "QCFfGlmK9FR1"
      },
      "execution_count": null,
      "outputs": []
    },
    {
      "cell_type": "markdown",
      "metadata": {
        "id": "ZfAbEIDgz4iY"
      },
      "source": [
        "## **Linear Support Vector Machine Classifier (Binary Classification) **\n",
        "to enable make the svm_enable = 1 in the above cell"
      ]
    },
    {
      "cell_type": "code",
      "execution_count": null,
      "metadata": {
        "id": "o8GdMBjdzFQT"
      },
      "outputs": [],
      "source": [
        "if svm_enable:\n",
        "  # using kernel as linear \n",
        "  lsvm = SVC(kernel='linear',gamma='auto') \n",
        "  lsvm.fit(X_train,y_train) # training model on training dataset"
      ]
    },
    {
      "cell_type": "code",
      "execution_count": null,
      "metadata": {
        "id": "NjfYZA_9zTNK",
        "colab": {
          "base_uri": "https://localhost:8080/"
        },
        "outputId": "91e8f9de-c1da-4f69-8f81-01bd44264e34"
      },
      "outputs": [
        {
          "output_type": "stream",
          "name": "stdout",
          "text": [
            "Saved model to disk\n",
            "Loaded model from disk\n"
          ]
        }
      ],
      "source": [
        "if svm_enable:\n",
        "  pkl_filename = \"/content/drive/MyDrive/Colab_Notebooks/Models/lsvm_binary\"+model_name_suffix+\".pkl\"\n",
        "  if (not path.isfile(pkl_filename)):\n",
        "    # saving the trained model to disk\n",
        "    with open(pkl_filename, 'wb') as file:\n",
        "      pickle.dump(lsvm, file)\n",
        "    print(\"Saved model to disk\")\n",
        "    # loading the trained model from disk\n",
        "    with open(pkl_filename, 'rb') as file:\n",
        "      lsvm = pickle.load(file)\n",
        "    print(\"Loaded model from disk\") "
      ]
    },
    {
      "cell_type": "code",
      "execution_count": null,
      "metadata": {
        "id": "xsnN51Juzgcf",
        "colab": {
          "base_uri": "https://localhost:8080/"
        },
        "outputId": "ca9edf04-6736-4260-82cc-55bb72d3a843"
      },
      "outputs": [
        {
          "output_type": "stream",
          "name": "stdout",
          "text": [
            "LSVM-Classifier Binary Set-Accuracy is  32.56803117092783\n"
          ]
        }
      ],
      "source": [
        "if svm_enable:\n",
        "  y_pred = lsvm.predict(X_test) # predicting target attribute on testing dataset\n",
        "  ac = accuracy_score(y_test, y_pred)*100 # calculating accuracy of predicted data\n",
        "  print(\"LSVM-Classifier Binary Set-Accuracy is \", ac)"
      ]
    },
    {
      "cell_type": "code",
      "execution_count": null,
      "metadata": {
        "id": "qg2gbJTg8NtL"
      },
      "outputs": [],
      "source": [
        "# import matplotlib.pyplot as plt\n",
        "# from sklearn.datasets import make_classification\n",
        "# from sklearn.metrics import confusion_matrix, ConfusionMatrixDisplay\n",
        "# from sklearn.model_selection import train_test_split\n",
        "# from sklearn.svm import SVC\n",
        "# X, y = make_classification(random_state=0)\n",
        "# X_train, X_test, y_train, y_test = train_test_split(X, y,\n",
        "#                                                     random_state=0)\n",
        "# cm = confusion_matrix(y_test, y_pred, labels=lsvm.classes_)\n",
        "# disp = ConfusionMatrixDisplay(confusion_matrix=cm,\n",
        "#                               display_labels=lsvm.classes_)\n",
        "# disp.plot()\n",
        "\n",
        "# plt.show()"
      ]
    },
    {
      "cell_type": "code",
      "execution_count": null,
      "metadata": {
        "id": "9IydNlzT5kx6",
        "colab": {
          "base_uri": "https://localhost:8080/",
          "height": 558
        },
        "outputId": "dff157aa-350c-43d2-eeef-0b8b3379a645"
      },
      "outputs": [
        {
          "output_type": "display_data",
          "data": {
            "text/plain": [
              "<Figure size 2000x800 with 1 Axes>"
            ],
            "image/png": "[encoded data removed]"
          },
          "metadata": {}
        }
      ],
      "source": [
        "if svm_enable:\n",
        "  plt.figure(figsize=(20,8))\n",
        "  plt.plot(y_pred[300:500], label=\"prediction\", linewidth=2.0,color='blue')\n",
        "  plt.plot(y_test[300:500].values, label=\"real_values\", linewidth=2.0,color='lightcoral')\n",
        "  plt.legend(loc=\"best\")\n",
        "  plt.ylim((-1,2))\n",
        "  plt.title(\"Linear SVM Binary Classification\")\n",
        "  plt.savefig('/content/drive/MyDrive/Colab_Notebooks/Plots/lsvm_real_pred_bin.png')\n",
        "  plt.show()"
      ]
    },
    {
      "cell_type": "code",
      "execution_count": null,
      "metadata": {
        "id": "s9lqoveaUBvg",
        "colab": {
          "base_uri": "https://localhost:8080/"
        },
        "outputId": "6cd7894b-1372-4c96-a9da-49d8364c66be"
      },
      "outputs": [
        {
          "output_type": "stream",
          "name": "stdout",
          "text": [
            "              precision    recall  f1-score   support\n",
            "\n",
            "     class 0       0.27      0.52      0.36     23243\n",
            "     class 1       0.44      0.22      0.29     41176\n",
            "\n",
            "    accuracy                           0.33     64419\n",
            "   macro avg       0.36      0.37      0.32     64419\n",
            "weighted avg       0.38      0.33      0.31     64419\n",
            "\n"
          ]
        }
      ],
      "source": [
        "if svm_enable:\n",
        "  target_names = ['class 0', 'class 1']\n",
        "  print(classification_report(y_test, y_pred, target_names=target_names))"
      ]
    },
    {
      "cell_type": "code",
      "execution_count": null,
      "metadata": {
        "id": "kWxBZhnw9t5n",
        "colab": {
          "base_uri": "https://localhost:8080/",
          "height": 449
        },
        "outputId": "e766b207-995e-4fd8-da23-4fb09a8663ba"
      },
      "outputs": [
        {
          "output_type": "display_data",
          "data": {
            "text/plain": [
              "<Figure size 640x480 with 2 Axes>"
            ],
            "image/png": "[encoded data removed]"
          },
          "metadata": {}
        }
      ],
      "source": [
        "if svm_enable:\n",
        "  from sklearn.metrics import confusion_matrix, ConfusionMatrixDisplay\n",
        "\n",
        "  clf = lsvm\n",
        "  cm = confusion_matrix(y_test, y_pred, labels=clf.classes_)\n",
        "  disp = ConfusionMatrixDisplay(confusion_matrix=cm,\n",
        "                                display_labels=clf.classes_)\n",
        "  disp.plot()\n",
        "\n",
        "  plt.show()"
      ]
    },
    {
      "cell_type": "markdown",
      "metadata": {
        "id": "PUjrwY2l0_RI"
      },
      "source": [
        "## **Multi Layer Perceptron Classifier (Binary Classification)**"
      ]
    },
    {
      "cell_type": "code",
      "execution_count": null,
      "metadata": {
        "id": "u9v5Ylpa1DHY"
      },
      "outputs": [],
      "source": [
        "if model_selection[model_flag]==\"ALL\" or model_selection[model_flag] == \"MLP\":\n",
        "  mlp = Sequential() # creating model\n",
        "\n",
        "  # adding input layer and first layer with 50 neurons\n",
        "  mlp.add(Dense(units=50, input_dim=X_train.shape[1], activation='relu'))\n",
        "  # output layer with sigmoid activation\n",
        "  mlp.add(Dense(units=1,activation='sigmoid'))"
      ]
    },
    {
      "cell_type": "code",
      "execution_count": null,
      "metadata": {
        "id": "E-9M9d0p1p8s"
      },
      "outputs": [],
      "source": [
        "if model_selection[model_flag]==\"ALL\" or model_selection[model_flag] == \"MLP\":\n",
        "  # defining loss function, optimizer, metrics and then compiling model\n",
        "  mlp.compile(loss='binary_crossentropy', optimizer='adam', metrics=['accuracy'])"
      ]
    },
    {
      "cell_type": "code",
      "execution_count": null,
      "metadata": {
        "id": "NK-1_akm1vO9",
        "colab": {
          "base_uri": "https://localhost:8080/"
        },
        "outputId": "1651aad8-3138-46ae-e7eb-3ad75da5a040"
      },
      "outputs": [
        {
          "output_type": "stream",
          "name": "stdout",
          "text": [
            "Model: \"sequential\"\n",
            "_________________________________________________________________\n",
            " Layer (type)                Output Shape              Param #   \n",
            "=================================================================\n",
            " dense (Dense)               (None, 50)                2900      \n",
            "                                                                 \n",
            " dense_1 (Dense)             (None, 1)                 51        \n",
            "                                                                 \n",
            "=================================================================\n",
            "Total params: 2,951\n",
            "Trainable params: 2,951\n",
            "Non-trainable params: 0\n",
            "_________________________________________________________________\n"
          ]
        }
      ],
      "source": [
        "if model_selection[model_flag]==\"ALL\" or model_selection[model_flag] == \"MLP\":\n",
        "  # summary of model layers\n",
        "  mlp.summary()"
      ]
    },
    {
      "cell_type": "code",
      "execution_count": null,
      "metadata": {
        "id": "UYZ4xCgp13gP",
        "colab": {
          "base_uri": "https://localhost:8080/"
        },
        "outputId": "a639bdfd-e52a-42b9-e73d-674e194b32f0"
      },
      "outputs": [
        {
          "output_type": "stream",
          "name": "stdout",
          "text": [
            "Epoch 1/100\n",
            "31/31 [==============================] - 7s 25ms/step - loss: 0.6021 - accuracy: 0.6202 - val_loss: 0.4868 - val_accuracy: 0.7197\n",
            "Epoch 2/100\n",
            "31/31 [==============================] - 0s 15ms/step - loss: 0.4153 - accuracy: 0.8735 - val_loss: 0.3467 - val_accuracy: 0.9596\n",
            "Epoch 3/100\n",
            "31/31 [==============================] - 0s 9ms/step - loss: 0.2970 - accuracy: 0.9613 - val_loss: 0.2480 - val_accuracy: 0.9605\n",
            "Epoch 4/100\n",
            "31/31 [==============================] - 0s 9ms/step - loss: 0.2117 - accuracy: 0.9617 - val_loss: 0.1773 - val_accuracy: 0.9650\n",
            "Epoch 5/100\n",
            "31/31 [==============================] - 0s 10ms/step - loss: 0.1536 - accuracy: 0.9806 - val_loss: 0.1312 - val_accuracy: 0.9961\n",
            "Epoch 6/100\n",
            "31/31 [==============================] - 0s 9ms/step - loss: 0.1152 - accuracy: 0.9972 - val_loss: 0.0997 - val_accuracy: 0.9979\n",
            "Epoch 7/100\n",
            "31/31 [==============================] - 0s 10ms/step - loss: 0.0884 - accuracy: 0.9980 - val_loss: 0.0770 - val_accuracy: 0.9982\n",
            "Epoch 8/100\n",
            "31/31 [==============================] - 0s 12ms/step - loss: 0.0682 - accuracy: 0.9986 - val_loss: 0.0588 - val_accuracy: 0.9991\n",
            "Epoch 9/100\n",
            "31/31 [==============================] - 0s 13ms/step - loss: 0.0528 - accuracy: 0.9992 - val_loss: 0.0468 - val_accuracy: 0.9994\n",
            "Epoch 10/100\n",
            "31/31 [==============================] - 0s 14ms/step - loss: 0.0425 - accuracy: 0.9995 - val_loss: 0.0381 - val_accuracy: 0.9995\n",
            "Epoch 11/100\n",
            "31/31 [==============================] - 0s 12ms/step - loss: 0.0348 - accuracy: 0.9997 - val_loss: 0.0314 - val_accuracy: 0.9997\n",
            "Epoch 12/100\n",
            "31/31 [==============================] - 0s 13ms/step - loss: 0.0288 - accuracy: 0.9998 - val_loss: 0.0257 - val_accuracy: 0.9997\n",
            "Epoch 13/100\n",
            "31/31 [==============================] - 0s 13ms/step - loss: 0.0236 - accuracy: 0.9998 - val_loss: 0.0216 - val_accuracy: 0.9997\n",
            "Epoch 14/100\n",
            "31/31 [==============================] - 0s 11ms/step - loss: 0.0200 - accuracy: 0.9998 - val_loss: 0.0184 - val_accuracy: 0.9997\n",
            "Epoch 15/100\n",
            "31/31 [==============================] - 0s 11ms/step - loss: 0.0172 - accuracy: 0.9998 - val_loss: 0.0159 - val_accuracy: 0.9997\n",
            "Epoch 16/100\n",
            "31/31 [==============================] - 0s 11ms/step - loss: 0.0149 - accuracy: 0.9998 - val_loss: 0.0138 - val_accuracy: 0.9997\n",
            "Epoch 17/100\n",
            "31/31 [==============================] - 0s 9ms/step - loss: 0.0129 - accuracy: 0.9998 - val_loss: 0.0118 - val_accuracy: 0.9998\n",
            "Epoch 18/100\n",
            "31/31 [==============================] - 0s 9ms/step - loss: 0.0110 - accuracy: 0.9998 - val_loss: 0.0102 - val_accuracy: 0.9998\n",
            "Epoch 19/100\n",
            "31/31 [==============================] - 0s 10ms/step - loss: 0.0096 - accuracy: 0.9998 - val_loss: 0.0090 - val_accuracy: 0.9998\n",
            "Epoch 20/100\n",
            "31/31 [==============================] - 0s 9ms/step - loss: 0.0083 - accuracy: 0.9998 - val_loss: 0.0077 - val_accuracy: 0.9998\n",
            "Epoch 21/100\n",
            "31/31 [==============================] - 0s 9ms/step - loss: 0.0073 - accuracy: 0.9999 - val_loss: 0.0069 - val_accuracy: 0.9999\n",
            "Epoch 22/100\n",
            "31/31 [==============================] - 0s 11ms/step - loss: 0.0065 - accuracy: 1.0000 - val_loss: 0.0061 - val_accuracy: 1.0000\n",
            "Epoch 23/100\n",
            "31/31 [==============================] - 0s 10ms/step - loss: 0.0058 - accuracy: 1.0000 - val_loss: 0.0055 - val_accuracy: 1.0000\n",
            "Epoch 24/100\n",
            "31/31 [==============================] - 0s 11ms/step - loss: 0.0052 - accuracy: 1.0000 - val_loss: 0.0049 - val_accuracy: 1.0000\n",
            "Epoch 25/100\n",
            "31/31 [==============================] - 0s 9ms/step - loss: 0.0047 - accuracy: 1.0000 - val_loss: 0.0045 - val_accuracy: 1.0000\n",
            "Epoch 26/100\n",
            "31/31 [==============================] - 0s 10ms/step - loss: 0.0042 - accuracy: 1.0000 - val_loss: 0.0040 - val_accuracy: 1.0000\n",
            "Epoch 27/100\n",
            "31/31 [==============================] - 0s 16ms/step - loss: 0.0038 - accuracy: 1.0000 - val_loss: 0.0037 - val_accuracy: 1.0000\n",
            "Epoch 28/100\n",
            "31/31 [==============================] - 0s 8ms/step - loss: 0.0035 - accuracy: 1.0000 - val_loss: 0.0033 - val_accuracy: 1.0000\n",
            "Epoch 29/100\n",
            "31/31 [==============================] - 0s 9ms/step - loss: 0.0032 - accuracy: 1.0000 - val_loss: 0.0031 - val_accuracy: 1.0000\n",
            "Epoch 30/100\n",
            "31/31 [==============================] - 0s 8ms/step - loss: 0.0029 - accuracy: 1.0000 - val_loss: 0.0028 - val_accuracy: 1.0000\n",
            "Epoch 31/100\n",
            "31/31 [==============================] - 0s 9ms/step - loss: 0.0027 - accuracy: 1.0000 - val_loss: 0.0026 - val_accuracy: 1.0000\n",
            "Epoch 32/100\n",
            "31/31 [==============================] - 0s 9ms/step - loss: 0.0025 - accuracy: 1.0000 - val_loss: 0.0024 - val_accuracy: 1.0000\n",
            "Epoch 33/100\n",
            "31/31 [==============================] - 0s 8ms/step - loss: 0.0023 - accuracy: 1.0000 - val_loss: 0.0022 - val_accuracy: 1.0000\n",
            "Epoch 34/100\n",
            "31/31 [==============================] - 0s 9ms/step - loss: 0.0021 - accuracy: 1.0000 - val_loss: 0.0021 - val_accuracy: 1.0000\n",
            "Epoch 35/100\n",
            "31/31 [==============================] - 0s 8ms/step - loss: 0.0020 - accuracy: 1.0000 - val_loss: 0.0019 - val_accuracy: 1.0000\n",
            "Epoch 36/100\n",
            "31/31 [==============================] - 0s 10ms/step - loss: 0.0018 - accuracy: 1.0000 - val_loss: 0.0018 - val_accuracy: 1.0000\n",
            "Epoch 37/100\n",
            "31/31 [==============================] - 0s 9ms/step - loss: 0.0017 - accuracy: 1.0000 - val_loss: 0.0017 - val_accuracy: 1.0000\n",
            "Epoch 38/100\n",
            "31/31 [==============================] - 0s 9ms/step - loss: 0.0016 - accuracy: 1.0000 - val_loss: 0.0015 - val_accuracy: 1.0000\n",
            "Epoch 39/100\n",
            "31/31 [==============================] - 0s 7ms/step - loss: 0.0015 - accuracy: 1.0000 - val_loss: 0.0015 - val_accuracy: 1.0000\n",
            "Epoch 40/100\n",
            "31/31 [==============================] - 0s 6ms/step - loss: 0.0014 - accuracy: 1.0000 - val_loss: 0.0014 - val_accuracy: 1.0000\n",
            "Epoch 41/100\n",
            "31/31 [==============================] - 0s 6ms/step - loss: 0.0013 - accuracy: 1.0000 - val_loss: 0.0013 - val_accuracy: 1.0000\n",
            "Epoch 42/100\n",
            "31/31 [==============================] - 0s 6ms/step - loss: 0.0012 - accuracy: 1.0000 - val_loss: 0.0012 - val_accuracy: 1.0000\n",
            "Epoch 43/100\n",
            "31/31 [==============================] - 0s 6ms/step - loss: 0.0012 - accuracy: 1.0000 - val_loss: 0.0011 - val_accuracy: 1.0000\n",
            "Epoch 44/100\n",
            "31/31 [==============================] - 0s 5ms/step - loss: 0.0011 - accuracy: 1.0000 - val_loss: 0.0011 - val_accuracy: 1.0000\n",
            "Epoch 45/100\n",
            "31/31 [==============================] - 0s 7ms/step - loss: 0.0010 - accuracy: 1.0000 - val_loss: 0.0010 - val_accuracy: 1.0000\n",
            "Epoch 46/100\n",
            "31/31 [==============================] - 0s 6ms/step - loss: 9.7973e-04 - accuracy: 1.0000 - val_loss: 9.5712e-04 - val_accuracy: 1.0000\n",
            "Epoch 47/100\n",
            "31/31 [==============================] - 0s 6ms/step - loss: 9.2714e-04 - accuracy: 1.0000 - val_loss: 9.0660e-04 - val_accuracy: 1.0000\n",
            "Epoch 48/100\n",
            "31/31 [==============================] - 0s 6ms/step - loss: 8.7843e-04 - accuracy: 1.0000 - val_loss: 8.5959e-04 - val_accuracy: 1.0000\n",
            "Epoch 49/100\n",
            "31/31 [==============================] - 0s 6ms/step - loss: 8.3316e-04 - accuracy: 1.0000 - val_loss: 8.1608e-04 - val_accuracy: 1.0000\n",
            "Epoch 50/100\n",
            "31/31 [==============================] - 0s 6ms/step - loss: 7.9111e-04 - accuracy: 1.0000 - val_loss: 7.7527e-04 - val_accuracy: 1.0000\n",
            "Epoch 51/100\n",
            "31/31 [==============================] - 0s 6ms/step - loss: 7.5183e-04 - accuracy: 1.0000 - val_loss: 7.3743e-04 - val_accuracy: 1.0000\n",
            "Epoch 52/100\n",
            "31/31 [==============================] - 0s 6ms/step - loss: 7.1525e-04 - accuracy: 1.0000 - val_loss: 7.0198e-04 - val_accuracy: 1.0000\n",
            "Epoch 53/100\n",
            "31/31 [==============================] - 0s 7ms/step - loss: 6.8105e-04 - accuracy: 1.0000 - val_loss: 6.6891e-04 - val_accuracy: 1.0000\n",
            "Epoch 54/100\n",
            "31/31 [==============================] - 0s 6ms/step - loss: 6.4903e-04 - accuracy: 1.0000 - val_loss: 6.3797e-04 - val_accuracy: 1.0000\n",
            "Epoch 55/100\n",
            "31/31 [==============================] - 0s 6ms/step - loss: 6.1911e-04 - accuracy: 1.0000 - val_loss: 6.0877e-04 - val_accuracy: 1.0000\n",
            "Epoch 56/100\n",
            "31/31 [==============================] - 0s 6ms/step - loss: 5.9095e-04 - accuracy: 1.0000 - val_loss: 5.8156e-04 - val_accuracy: 1.0000\n",
            "Epoch 57/100\n",
            "31/31 [==============================] - 0s 7ms/step - loss: 5.6457e-04 - accuracy: 1.0000 - val_loss: 5.5591e-04 - val_accuracy: 1.0000\n",
            "Epoch 58/100\n",
            "31/31 [==============================] - 0s 6ms/step - loss: 5.3974e-04 - accuracy: 1.0000 - val_loss: 5.3190e-04 - val_accuracy: 1.0000\n",
            "Epoch 59/100\n",
            "31/31 [==============================] - 0s 6ms/step - loss: 5.1641e-04 - accuracy: 1.0000 - val_loss: 5.0906e-04 - val_accuracy: 1.0000\n",
            "Epoch 60/100\n",
            "31/31 [==============================] - 0s 7ms/step - loss: 4.9439e-04 - accuracy: 1.0000 - val_loss: 4.8765e-04 - val_accuracy: 1.0000\n",
            "Epoch 61/100\n",
            "31/31 [==============================] - 0s 6ms/step - loss: 4.7361e-04 - accuracy: 1.0000 - val_loss: 4.6755e-04 - val_accuracy: 1.0000\n",
            "Epoch 62/100\n",
            "31/31 [==============================] - 0s 6ms/step - loss: 4.5391e-04 - accuracy: 1.0000 - val_loss: 4.4832e-04 - val_accuracy: 1.0000\n",
            "Epoch 63/100\n",
            "31/31 [==============================] - 0s 6ms/step - loss: 4.3484e-04 - accuracy: 1.0000 - val_loss: 4.2969e-04 - val_accuracy: 1.0000\n",
            "Epoch 64/100\n",
            "31/31 [==============================] - 0s 6ms/step - loss: 4.1684e-04 - accuracy: 1.0000 - val_loss: 4.1258e-04 - val_accuracy: 1.0000\n",
            "Epoch 65/100\n",
            "31/31 [==============================] - 0s 6ms/step - loss: 4.0031e-04 - accuracy: 1.0000 - val_loss: 3.9632e-04 - val_accuracy: 1.0000\n",
            "Epoch 66/100\n",
            "31/31 [==============================] - 0s 6ms/step - loss: 3.8464e-04 - accuracy: 1.0000 - val_loss: 3.8108e-04 - val_accuracy: 1.0000\n",
            "Epoch 67/100\n",
            "31/31 [==============================] - 0s 7ms/step - loss: 3.6983e-04 - accuracy: 1.0000 - val_loss: 3.6649e-04 - val_accuracy: 1.0000\n",
            "Epoch 68/100\n",
            "31/31 [==============================] - 0s 6ms/step - loss: 3.5574e-04 - accuracy: 1.0000 - val_loss: 3.5273e-04 - val_accuracy: 1.0000\n",
            "Epoch 69/100\n",
            "31/31 [==============================] - 0s 6ms/step - loss: 3.4237e-04 - accuracy: 1.0000 - val_loss: 3.3963e-04 - val_accuracy: 1.0000\n",
            "Epoch 70/100\n",
            "31/31 [==============================] - 0s 6ms/step - loss: 3.2965e-04 - accuracy: 1.0000 - val_loss: 3.2719e-04 - val_accuracy: 1.0000\n",
            "Epoch 71/100\n",
            "31/31 [==============================] - 0s 6ms/step - loss: 3.1757e-04 - accuracy: 1.0000 - val_loss: 3.1532e-04 - val_accuracy: 1.0000\n",
            "Epoch 72/100\n",
            "31/31 [==============================] - 0s 6ms/step - loss: 3.0604e-04 - accuracy: 1.0000 - val_loss: 3.0401e-04 - val_accuracy: 1.0000\n",
            "Epoch 73/100\n",
            "31/31 [==============================] - 0s 7ms/step - loss: 2.9507e-04 - accuracy: 1.0000 - val_loss: 2.9323e-04 - val_accuracy: 1.0000\n",
            "Epoch 74/100\n",
            "31/31 [==============================] - 0s 6ms/step - loss: 2.8461e-04 - accuracy: 1.0000 - val_loss: 2.8299e-04 - val_accuracy: 1.0000\n",
            "Epoch 75/100\n",
            "31/31 [==============================] - 0s 6ms/step - loss: 2.7464e-04 - accuracy: 1.0000 - val_loss: 2.7316e-04 - val_accuracy: 1.0000\n",
            "Epoch 76/100\n",
            "31/31 [==============================] - 0s 6ms/step - loss: 2.6512e-04 - accuracy: 1.0000 - val_loss: 2.6381e-04 - val_accuracy: 1.0000\n",
            "Epoch 77/100\n",
            "31/31 [==============================] - 0s 6ms/step - loss: 2.5603e-04 - accuracy: 1.0000 - val_loss: 2.5488e-04 - val_accuracy: 1.0000\n",
            "Epoch 78/100\n",
            "31/31 [==============================] - 0s 6ms/step - loss: 2.4733e-04 - accuracy: 1.0000 - val_loss: 2.4630e-04 - val_accuracy: 1.0000\n",
            "Epoch 79/100\n",
            "31/31 [==============================] - 0s 6ms/step - loss: 2.3903e-04 - accuracy: 1.0000 - val_loss: 2.3811e-04 - val_accuracy: 1.0000\n",
            "Epoch 80/100\n",
            "31/31 [==============================] - 0s 6ms/step - loss: 2.3107e-04 - accuracy: 1.0000 - val_loss: 2.3029e-04 - val_accuracy: 1.0000\n",
            "Epoch 81/100\n",
            "31/31 [==============================] - 0s 6ms/step - loss: 2.2347e-04 - accuracy: 1.0000 - val_loss: 2.2281e-04 - val_accuracy: 1.0000\n",
            "Epoch 82/100\n",
            "31/31 [==============================] - 0s 6ms/step - loss: 2.1616e-04 - accuracy: 1.0000 - val_loss: 2.1565e-04 - val_accuracy: 1.0000\n",
            "Epoch 83/100\n",
            "31/31 [==============================] - 0s 6ms/step - loss: 2.0918e-04 - accuracy: 1.0000 - val_loss: 2.0873e-04 - val_accuracy: 1.0000\n",
            "Epoch 84/100\n",
            "31/31 [==============================] - 0s 6ms/step - loss: 2.0248e-04 - accuracy: 1.0000 - val_loss: 2.0213e-04 - val_accuracy: 1.0000\n",
            "Epoch 85/100\n",
            "31/31 [==============================] - 0s 6ms/step - loss: 1.9606e-04 - accuracy: 1.0000 - val_loss: 1.9578e-04 - val_accuracy: 1.0000\n",
            "Epoch 86/100\n",
            "31/31 [==============================] - 0s 7ms/step - loss: 1.8990e-04 - accuracy: 1.0000 - val_loss: 1.8972e-04 - val_accuracy: 1.0000\n",
            "Epoch 87/100\n",
            "31/31 [==============================] - 0s 6ms/step - loss: 1.8399e-04 - accuracy: 1.0000 - val_loss: 1.8386e-04 - val_accuracy: 1.0000\n",
            "Epoch 88/100\n",
            "31/31 [==============================] - 0s 6ms/step - loss: 1.7830e-04 - accuracy: 1.0000 - val_loss: 1.7826e-04 - val_accuracy: 1.0000\n",
            "Epoch 89/100\n",
            "31/31 [==============================] - 0s 6ms/step - loss: 1.7284e-04 - accuracy: 1.0000 - val_loss: 1.7285e-04 - val_accuracy: 1.0000\n",
            "Epoch 90/100\n",
            "31/31 [==============================] - 0s 9ms/step - loss: 1.6760e-04 - accuracy: 1.0000 - val_loss: 1.6769e-04 - val_accuracy: 1.0000\n",
            "Epoch 91/100\n",
            "31/31 [==============================] - 0s 8ms/step - loss: 1.6255e-04 - accuracy: 1.0000 - val_loss: 1.6269e-04 - val_accuracy: 1.0000\n",
            "Epoch 92/100\n",
            "31/31 [==============================] - 0s 9ms/step - loss: 1.5770e-04 - accuracy: 1.0000 - val_loss: 1.5791e-04 - val_accuracy: 1.0000\n",
            "Epoch 93/100\n",
            "31/31 [==============================] - 0s 8ms/step - loss: 1.5302e-04 - accuracy: 1.0000 - val_loss: 1.5327e-04 - val_accuracy: 1.0000\n",
            "Epoch 94/100\n",
            "31/31 [==============================] - 0s 9ms/step - loss: 1.4852e-04 - accuracy: 1.0000 - val_loss: 1.4882e-04 - val_accuracy: 1.0000\n",
            "Epoch 95/100\n",
            "31/31 [==============================] - 0s 9ms/step - loss: 1.4419e-04 - accuracy: 1.0000 - val_loss: 1.4453e-04 - val_accuracy: 1.0000\n",
            "Epoch 96/100\n",
            "31/31 [==============================] - 0s 10ms/step - loss: 1.4001e-04 - accuracy: 1.0000 - val_loss: 1.4039e-04 - val_accuracy: 1.0000\n",
            "Epoch 97/100\n",
            "31/31 [==============================] - 0s 10ms/step - loss: 1.3598e-04 - accuracy: 1.0000 - val_loss: 1.3642e-04 - val_accuracy: 1.0000\n",
            "Epoch 98/100\n",
            "31/31 [==============================] - 0s 8ms/step - loss: 1.3211e-04 - accuracy: 1.0000 - val_loss: 1.3254e-04 - val_accuracy: 1.0000\n",
            "Epoch 99/100\n",
            "31/31 [==============================] - 0s 8ms/step - loss: 1.2836e-04 - accuracy: 1.0000 - val_loss: 1.2883e-04 - val_accuracy: 1.0000\n",
            "Epoch 100/100\n",
            "31/31 [==============================] - 0s 9ms/step - loss: 1.2475e-04 - accuracy: 1.0000 - val_loss: 1.2526e-04 - val_accuracy: 1.0000\n"
          ]
        }
      ],
      "source": [
        "if model_selection[model_flag]==\"ALL\" or model_selection[model_flag] == \"MLP\":\n",
        "  # training the model on training dataset\n",
        "  history = mlp.fit(X_train, y_train, epochs=100, batch_size=5000,validation_split=0.2)"
      ]
    },
    {
      "cell_type": "code",
      "execution_count": null,
      "metadata": {
        "id": "_n_gNs3p1_M-",
        "colab": {
          "base_uri": "https://localhost:8080/"
        },
        "outputId": "2bd30e9a-da23-4acc-ad7f-5262e1468ddd"
      },
      "outputs": [
        {
          "output_type": "stream",
          "name": "stdout",
          "text": [
            "Saved model to disk\n",
            "Loaded model from disk\n"
          ]
        }
      ],
      "source": [
        "if model_selection[model_flag]==\"ALL\" or model_selection[model_flag] == \"MLP\":\n",
        "  filepath = '/content/drive/MyDrive/Colab_Notebooks/Models/mlp_binary'+model_name_suffix+'.json'\n",
        "  weightspath = '/content/drive/MyDrive/Colab_Notebooks/Weights/mlp_binary'+model_name_suffix+'.h5'\n",
        "  if (not path.isfile(filepath)):\n",
        "    # serialize model to JSON\n",
        "    mlp_json = mlp.to_json()\n",
        "    with open(filepath, \"w\") as json_file:\n",
        "      json_file.write(mlp_json)\n",
        "\n",
        "    # serialize weights to HDF5\n",
        "    mlp.save_weights(weightspath)\n",
        "    print(\"Saved model to disk\")\n",
        "\n",
        "    # load json and create model\n",
        "    json_file = open(filepath, 'r')\n",
        "    loaded_model_json = json_file.read()\n",
        "    json_file.close()\n",
        "    mlp = model_from_json(loaded_model_json)\n",
        "\n",
        "    # load weights into new model\n",
        "    mlp.load_weights(weightspath)\n",
        "    print(\"Loaded model from disk\")"
      ]
    },
    {
      "cell_type": "code",
      "execution_count": null,
      "metadata": {
        "id": "G99OrVcT2JON"
      },
      "outputs": [],
      "source": [
        "if model_selection[model_flag]==\"ALL\" or model_selection[model_flag] == \"MLP\":\n",
        "  # defining loss function, optimizer, metrics and then compiling model\n",
        "  mlp.compile(loss='binary_crossentropy', optimizer='adam', metrics=['accuracy'])"
      ]
    },
    {
      "cell_type": "code",
      "execution_count": null,
      "metadata": {
        "id": "AXUA0T2N2OIB",
        "colab": {
          "base_uri": "https://localhost:8080/"
        },
        "outputId": "73913af5-0f9b-4b0e-fda8-9c16dc9abcf6"
      },
      "outputs": [
        {
          "output_type": "stream",
          "name": "stdout",
          "text": [
            "2014/2014 [==============================] - 5s 2ms/step - loss: 113231552.0000 - accuracy: 0.7110\n",
            "Test results - Loss: 113231552.0 - Accuracy: 71.10324501991272\n"
          ]
        }
      ],
      "source": [
        "if model_selection[model_flag]==\"ALL\" or model_selection[model_flag] == \"MLP\":\n",
        "  # predicting target attribute on testing dataset\n",
        "  test_results = mlp.evaluate(X_test, y_test, verbose=1)\n",
        "  print(f'Test results - Loss: {test_results[0]} - Accuracy: {test_results[1]*100}')"
      ]
    },
    {
      "cell_type": "code",
      "execution_count": null,
      "metadata": {
        "id": "StFTrhE65_-q",
        "colab": {
          "base_uri": "https://localhost:8080/",
          "height": 472
        },
        "outputId": "cc671b38-9c5c-4dad-a54a-d819c775db59"
      },
      "outputs": [
        {
          "output_type": "display_data",
          "data": {
            "text/plain": [
              "<Figure size 640x480 with 1 Axes>"
            ],
            "image/png": "[encoded data removed]"
          },
          "metadata": {}
        }
      ],
      "source": [
        "if model_selection[model_flag]==\"ALL\" or model_selection[model_flag] == \"MLP\":  \n",
        "  # Plot of accuracy vs epoch of train and test dataset\n",
        "  plt.plot(history.history['accuracy'])\n",
        "  plt.plot(history.history['val_accuracy'])\n",
        "  plt.title(\"Plot of accuracy vs epoch for train and test dataset\")\n",
        "  plt.ylabel('accuracy')\n",
        "  plt.xlabel('epoch')\n",
        "  plt.legend(['train', 'test'], loc='best')\n",
        "  plt.savefig('/content/drive/MyDrive/Colab_Notebooks/Plots/mlp_binary_accuracy.png')\n",
        "  plt.show()"
      ]
    },
    {
      "cell_type": "code",
      "execution_count": null,
      "metadata": {
        "id": "rZes4PzY6JUq",
        "colab": {
          "base_uri": "https://localhost:8080/",
          "height": 472
        },
        "outputId": "7baf2099-1f6d-4f59-e1fb-0761a1743a8b"
      },
      "outputs": [
        {
          "output_type": "display_data",
          "data": {
            "text/plain": [
              "<Figure size 640x480 with 1 Axes>"
            ],
            "image/png": "[encoded data removed]"
          },
          "metadata": {}
        }
      ],
      "source": [
        "if model_selection[model_flag]==\"ALL\" or model_selection[model_flag] == \"MLP\":\n",
        "  # Plot of loss vs epoch of train and test dataset\n",
        "  plt.plot(history.history['loss'])\n",
        "  plt.plot(history.history['val_loss'])\n",
        "  plt.title('Plot of loss vs epoch for train and test dataset')\n",
        "  plt.ylabel('loss')\n",
        "  plt.xlabel('epoch')\n",
        "  plt.legend(['train', 'test'], loc='best')\n",
        "  plt.savefig('/content/drive/MyDrive/Colab_Notebooks/Plots/mlp_binary_loss.png')\n",
        "  plt.show()"
      ]
    },
    {
      "cell_type": "code",
      "execution_count": null,
      "metadata": {
        "id": "mC0nj-on6iRU"
      },
      "outputs": [],
      "source": [
        "if model_selection[model_flag]==\"ALL\" or model_selection[model_flag] == \"MLP\":\n",
        "  # representation of model layers\n",
        "  from keras.utils.vis_utils import plot_model\n",
        "  plot_model(mlp, to_file='/content/drive/MyDrive/Colab_Notebooks/Plots/mlp_binary.png', show_shapes=True,)"
      ]
    },
    {
      "cell_type": "code",
      "execution_count": null,
      "metadata": {
        "id": "oxHdln0c6Xi_",
        "colab": {
          "base_uri": "https://localhost:8080/"
        },
        "outputId": "502db7ff-1ca6-4a50-a9c8-645094569da3"
      },
      "outputs": [
        {
          "output_type": "stream",
          "name": "stdout",
          "text": [
            "2014/2014 [==============================] - 3s 1ms/step\n"
          ]
        }
      ],
      "source": [
        "if model_selection[model_flag]==\"ALL\" or model_selection[model_flag] == \"MLP\":\n",
        "  y_pred = mlp.predict(X_test).ravel()\n",
        "  fpr, tpr, thresholds = roc_curve(y_test, y_pred)\n",
        "  auc = auc(fpr, tpr)"
      ]
    },
    {
      "cell_type": "code",
      "execution_count": null,
      "metadata": {
        "id": "Cr36q9Z-6aRU",
        "colab": {
          "base_uri": "https://localhost:8080/",
          "height": 472
        },
        "outputId": "e75b7cc5-1b60-4c80-b582-c3a745ea2b86"
      },
      "outputs": [
        {
          "output_type": "display_data",
          "data": {
            "text/plain": [
              "<Figure size 640x480 with 1 Axes>"
            ],
            "image/png": "[encoded data removed]"
          },
          "metadata": {}
        }
      ],
      "source": [
        "if model_selection[model_flag]==\"ALL\" or model_selection[model_flag] == \"MLP\":\n",
        "  plt.plot([0, 1], [0, 1], 'k--')\n",
        "  plt.plot(fpr, tpr, label='Keras (area = {:.3f})'.format(auc))\n",
        "  plt.xlabel('False positive rate')\n",
        "  plt.ylabel('True positive rate')\n",
        "  plt.title('ROC curve')\n",
        "  plt.legend(loc='best')\n",
        "  plt.savefig('/content/drive/MyDrive/Colab_Notebooks/Plots/mlp_binary_roc.png')\n",
        "  plt.show()"
      ]
    },
    {
      "cell_type": "code",
      "execution_count": null,
      "metadata": {
        "id": "U9f2bWPwFljk"
      },
      "outputs": [],
      "source": [
        "# real_data_kdd = bin_data.copy()\n",
        "\n",
        "# # Names of the columns that are discrete\n",
        "# cat_cols = real_data_kdd.select_dtypes(['object']).columns\n",
        "# # cat_cols\n",
        "# test_data = real_data_kdd.iloc[:999]\n",
        "\n",
        "# corr= test_data.corr()\n",
        "# corr_y = abs(corr['label'])\n",
        "# highest_corr = corr_y\n",
        "# highest_corr.sort_values(ascending=True)"
      ]
    },
    {
      "cell_type": "code",
      "execution_count": null,
      "metadata": {
        "id": "8-clVdUoUPa-",
        "colab": {
          "base_uri": "https://localhost:8080/"
        },
        "outputId": "e5e25c57-af81-4dff-f4e1-322aefdaa295"
      },
      "outputs": [
        {
          "output_type": "stream",
          "name": "stdout",
          "text": [
            "2014/2014 [==============================] - 3s 2ms/step\n"
          ]
        }
      ],
      "source": [
        "if model_selection[model_flag]==\"ALL\" or model_selection[model_flag] == \"MLP\":\n",
        "  y_classes = (mlp.predict(X_test)>0.5).astype('int32')"
      ]
    },
    {
      "cell_type": "code",
      "execution_count": null,
      "metadata": {
        "id": "0jcFqEqFT-uq",
        "colab": {
          "base_uri": "https://localhost:8080/"
        },
        "outputId": "cacaa13b-8cad-4604-a34b-198177a1ff0a"
      },
      "outputs": [
        {
          "output_type": "stream",
          "name": "stdout",
          "text": [
            "Recall Score -  0.994535651836021\n",
            "F1 Score -  0.8148074455067302\n",
            "Precision Score -  0.6900962235216798\n"
          ]
        }
      ],
      "source": [
        "if model_selection[model_flag]==\"ALL\" or model_selection[model_flag] == \"MLP\":\n",
        "  print(\"Recall Score - \",recall_score(y_test,y_classes))\n",
        "  print(\"F1 Score - \",f1_score(y_test,y_classes))\n",
        "  print(\"Precision Score - \",precision_score(y_test,y_classes))"
      ]
    },
    {
      "cell_type": "code",
      "source": [
        "print(classification_report(y_test, y_classes, target_names=['0', '1']))\n",
        "cm = confusion_matrix(y_test, y_classes)\n",
        "disp = ConfusionMatrixDisplay(confusion_matrix=cm,\n",
        "                              display_labels=['0', '1'])\n",
        "disp.plot()\n",
        "\n",
        "plt.show()"
      ],
      "metadata": {
        "id": "3HJB6IXJsxjg",
        "colab": {
          "base_uri": "https://localhost:8080/",
          "height": 610
        },
        "outputId": "bf3fcea7-38c4-40bc-a514-c8095c17ca05"
      },
      "execution_count": null,
      "outputs": [
        {
          "output_type": "stream",
          "name": "stdout",
          "text": [
            "              precision    recall  f1-score   support\n",
            "\n",
            "           0       0.96      0.21      0.34     23243\n",
            "           1       0.69      0.99      0.81     41176\n",
            "\n",
            "    accuracy                           0.71     64419\n",
            "   macro avg       0.82      0.60      0.58     64419\n",
            "weighted avg       0.79      0.71      0.64     64419\n",
            "\n"
          ]
        },
        {
          "output_type": "display_data",
          "data": {
            "text/plain": [
              "<Figure size 640x480 with 2 Axes>"
            ],
            "image/png": "[encoded data removed]"
          },
          "metadata": {}
        }
      ]
    },
    {
      "cell_type": "markdown",
      "source": [
        "# **Correlation** Matrix of Features"
      ],
      "metadata": {
        "id": "j7BKdCwqs2RE"
      }
    },
    {
      "cell_type": "code",
      "execution_count": null,
      "metadata": {
        "id": "TL8zt-tHLt90",
        "colab": {
          "base_uri": "https://localhost:8080/"
        },
        "outputId": "9f1e3c44-b251-4b7c-c6ed-adfa4a86ccc8"
      },
      "outputs": [
        {
          "output_type": "execute_result",
          "data": {
            "text/plain": [
              "state_FIN           0.309305\n",
              "ct_src_dport_ltm    0.318518\n",
              "rate                0.335883\n",
              "dwin                0.339166\n",
              "state_CON           0.345195\n",
              "dload               0.352169\n",
              "swin                0.364877\n",
              "proto_tcp           0.364981\n",
              "ct_dst_sport_ltm    0.371672\n",
              "ct_state_ttl        0.476559\n",
              "state_INT           0.516735\n",
              "sttl                0.624082\n",
              "label               1.000000\n",
              "Name: label, dtype: float64"
            ]
          },
          "metadata": {},
          "execution_count": 38
        }
      ],
      "source": [
        "corr= bin_data.corr()\n",
        "corr_y = abs(corr['label'])\n",
        "highest_corr = corr_y[corr_y >0.3]\n",
        "highest_corr.sort_values(ascending=True)"
      ]
    },
    {
      "cell_type": "code",
      "source": [
        "plt.matshow(corr)\n",
        "plt.show()"
      ],
      "metadata": {
        "colab": {
          "base_uri": "https://localhost:8080/",
          "height": 437
        },
        "id": "q4b094WVtQQ7",
        "outputId": "fe8a65a1-926d-43b3-db95-2ae00fb77142"
      },
      "execution_count": null,
      "outputs": [
        {
          "output_type": "display_data",
          "data": {
            "text/plain": [
              "<Figure size 480x480 with 1 Axes>"
            ],
            "image/png": "[encoded data removed]"
          },
          "metadata": {}
        }
      ]
    },
    {
      "cell_type": "markdown",
      "metadata": {
        "id": "ZHhtNjFLPj6Y"
      },
      "source": [
        "## **LSTM Classifier**"
      ]
    },
    {
      "cell_type": "code",
      "execution_count": null,
      "metadata": {
        "id": "DTNPkQMNL5Eh",
        "colab": {
          "base_uri": "https://localhost:8080/"
        },
        "outputId": "a400d3e4-911c-4275-bf15-c5478e4996f5"
      },
      "outputs": [
        {
          "output_type": "execute_result",
          "data": {
            "text/plain": [
              "(193254, 57)"
            ]
          },
          "metadata": {},
          "execution_count": 40
        }
      ],
      "source": [
        "X_train = np.array(X_train)\n",
        "X_test = np.array(X_test)\n",
        "# y_train.shape   #(18896,)\n",
        "X_train.shape"
      ]
    },
    {
      "cell_type": "code",
      "execution_count": null,
      "metadata": {
        "id": "9n-QlBDXPMl4",
        "colab": {
          "base_uri": "https://localhost:8080/"
        },
        "outputId": "184e36bc-dfe0-4a6e-9c1d-6055fc1bcb7b"
      },
      "outputs": [
        {
          "output_type": "execute_result",
          "data": {
            "text/plain": [
              "numpy.ndarray"
            ]
          },
          "metadata": {},
          "execution_count": 41
        }
      ],
      "source": [
        "y_train = np.array(y_train)\n",
        "type(y_train)"
      ]
    },
    {
      "cell_type": "code",
      "execution_count": null,
      "metadata": {
        "id": "-8Ro_ZRQPdZz",
        "colab": {
          "base_uri": "https://localhost:8080/"
        },
        "outputId": "d77153f0-e3d1-4b93-a137-2922408eaa72"
      },
      "outputs": [
        {
          "output_type": "execute_result",
          "data": {
            "text/plain": [
              "(193254, 1, 57)"
            ]
          },
          "metadata": {},
          "execution_count": 42
        }
      ],
      "source": [
        "x_train = np.reshape(X_train, (X_train.shape[0],1,X_train.shape[1]))\n",
        "x_train.shape"
      ]
    },
    {
      "cell_type": "code",
      "source": [
        "x_train.shape[2]"
      ],
      "metadata": {
        "colab": {
          "base_uri": "https://localhost:8080/"
        },
        "id": "EuvuETcGpkje",
        "outputId": "542eca44-cb7e-433f-a937-3f2ddf7e5721"
      },
      "execution_count": null,
      "outputs": [
        {
          "output_type": "execute_result",
          "data": {
            "text/plain": [
              "57"
            ]
          },
          "metadata": {},
          "execution_count": 43
        }
      ]
    },
    {
      "cell_type": "code",
      "execution_count": null,
      "metadata": {
        "id": "pLIl946zQQwG",
        "colab": {
          "base_uri": "https://localhost:8080/"
        },
        "outputId": "4a9c251c-3e87-4cd2-e23c-fdea7665aea4"
      },
      "outputs": [
        {
          "output_type": "execute_result",
          "data": {
            "text/plain": [
              "(64419, 1, 57)"
            ]
          },
          "metadata": {},
          "execution_count": 44
        }
      ],
      "source": [
        "x_test = np.reshape(X_test, (X_test.shape[0],1,X_test.shape[1]))\n",
        "x_test.shape"
      ]
    },
    {
      "cell_type": "code",
      "execution_count": null,
      "metadata": {
        "id": "jWsrkPEmQcY7"
      },
      "outputs": [],
      "source": [
        "if model_selection[model_flag]==\"ALL\" or model_selection[model_flag] == \"LSTM\":\n",
        "  lst = Sequential()\n",
        "  # input layer and LSTM layer with 50 neurons\n",
        "  input_features = x_train.shape[2]\n",
        "  lst.add(LSTM(50,input_dim=input_features))\n",
        "\n",
        "  # outpute layer with sigmoid activation\n",
        "  lst.add(Dense(1,activation='sigmoid'))"
      ]
    },
    {
      "cell_type": "code",
      "execution_count": null,
      "metadata": {
        "id": "UEmba1H9Q_qj"
      },
      "outputs": [],
      "source": [
        "if model_selection[model_flag]==\"ALL\" or model_selection[model_flag] == \"LSTM\":\n",
        "  # defining loss function, optimizer, metrics and then compiling model\n",
        "  lst.compile(loss='binary_crossentropy',optimizer='adam',metrics=['accuracy'])"
      ]
    },
    {
      "cell_type": "code",
      "execution_count": null,
      "metadata": {
        "id": "anR58jV2RCtz",
        "colab": {
          "base_uri": "https://localhost:8080/"
        },
        "outputId": "79926488-6bde-4f29-fe9c-b6db9f0d9fc6"
      },
      "outputs": [
        {
          "output_type": "stream",
          "name": "stdout",
          "text": [
            "Model: \"sequential_1\"\n",
            "_________________________________________________________________\n",
            " Layer (type)                Output Shape              Param #   \n",
            "=================================================================\n",
            " lstm (LSTM)                 (None, 50)                21600     \n",
            "                                                                 \n",
            " dense_2 (Dense)             (None, 1)                 51        \n",
            "                                                                 \n",
            "=================================================================\n",
            "Total params: 21,651\n",
            "Trainable params: 21,651\n",
            "Non-trainable params: 0\n",
            "_________________________________________________________________\n"
          ]
        }
      ],
      "source": [
        "if model_selection[model_flag]==\"ALL\" or model_selection[model_flag] == \"LSTM\":\n",
        "  # summary of model layers\n",
        "  lst.summary()"
      ]
    },
    {
      "cell_type": "code",
      "execution_count": null,
      "metadata": {
        "id": "_Pa4Qi12RJS_",
        "colab": {
          "base_uri": "https://localhost:8080/"
        },
        "outputId": "7b735bb2-1749-41dc-cae3-c6eb150bfc95"
      },
      "outputs": [
        {
          "output_type": "stream",
          "name": "stdout",
          "text": [
            "Epoch 1/100\n",
            "31/31 [==============================] - 3s 21ms/step - loss: 0.6592 - accuracy: 0.6468 - val_loss: 0.5910 - val_accuracy: 0.8030\n",
            "Epoch 2/100\n",
            "31/31 [==============================] - 0s 7ms/step - loss: 0.5326 - accuracy: 0.8223 - val_loss: 0.4723 - val_accuracy: 0.8402\n",
            "Epoch 3/100\n",
            "31/31 [==============================] - 0s 8ms/step - loss: 0.4228 - accuracy: 0.8493 - val_loss: 0.3716 - val_accuracy: 0.8645\n",
            "Epoch 4/100\n",
            "31/31 [==============================] - 0s 7ms/step - loss: 0.3282 - accuracy: 0.9011 - val_loss: 0.2826 - val_accuracy: 0.9465\n",
            "Epoch 5/100\n",
            "31/31 [==============================] - 0s 8ms/step - loss: 0.2459 - accuracy: 0.9486 - val_loss: 0.2081 - val_accuracy: 0.9515\n",
            "Epoch 6/100\n",
            "31/31 [==============================] - 0s 9ms/step - loss: 0.1795 - accuracy: 0.9551 - val_loss: 0.1507 - val_accuracy: 0.9603\n",
            "Epoch 7/100\n",
            "31/31 [==============================] - 0s 11ms/step - loss: 0.1301 - accuracy: 0.9745 - val_loss: 0.1096 - val_accuracy: 0.9845\n",
            "Epoch 8/100\n",
            "31/31 [==============================] - 0s 10ms/step - loss: 0.0954 - accuracy: 0.9921 - val_loss: 0.0810 - val_accuracy: 0.9956\n",
            "Epoch 9/100\n",
            "31/31 [==============================] - 0s 11ms/step - loss: 0.0712 - accuracy: 0.9958 - val_loss: 0.0612 - val_accuracy: 0.9975\n",
            "Epoch 10/100\n",
            "31/31 [==============================] - 0s 10ms/step - loss: 0.0544 - accuracy: 0.9975 - val_loss: 0.0474 - val_accuracy: 0.9979\n",
            "Epoch 11/100\n",
            "31/31 [==============================] - 0s 10ms/step - loss: 0.0425 - accuracy: 0.9979 - val_loss: 0.0374 - val_accuracy: 0.9980\n",
            "Epoch 12/100\n",
            "31/31 [==============================] - 0s 11ms/step - loss: 0.0340 - accuracy: 0.9981 - val_loss: 0.0302 - val_accuracy: 0.9981\n",
            "Epoch 13/100\n",
            "31/31 [==============================] - 0s 11ms/step - loss: 0.0276 - accuracy: 0.9983 - val_loss: 0.0248 - val_accuracy: 0.9985\n",
            "Epoch 14/100\n",
            "31/31 [==============================] - 0s 10ms/step - loss: 0.0229 - accuracy: 0.9986 - val_loss: 0.0207 - val_accuracy: 0.9987\n",
            "Epoch 15/100\n",
            "31/31 [==============================] - 0s 11ms/step - loss: 0.0192 - accuracy: 0.9988 - val_loss: 0.0175 - val_accuracy: 0.9988\n",
            "Epoch 16/100\n",
            "31/31 [==============================] - 0s 11ms/step - loss: 0.0163 - accuracy: 0.9989 - val_loss: 0.0150 - val_accuracy: 0.9990\n",
            "Epoch 17/100\n",
            "31/31 [==============================] - 0s 8ms/step - loss: 0.0140 - accuracy: 0.9990 - val_loss: 0.0130 - val_accuracy: 0.9991\n",
            "Epoch 18/100\n",
            "31/31 [==============================] - 0s 7ms/step - loss: 0.0121 - accuracy: 0.9992 - val_loss: 0.0113 - val_accuracy: 0.9994\n",
            "Epoch 19/100\n",
            "31/31 [==============================] - 0s 8ms/step - loss: 0.0106 - accuracy: 0.9997 - val_loss: 0.0100 - val_accuracy: 0.9997\n",
            "Epoch 20/100\n",
            "31/31 [==============================] - 0s 7ms/step - loss: 0.0093 - accuracy: 0.9998 - val_loss: 0.0088 - val_accuracy: 0.9997\n",
            "Epoch 21/100\n",
            "31/31 [==============================] - 0s 8ms/step - loss: 0.0083 - accuracy: 0.9998 - val_loss: 0.0079 - val_accuracy: 0.9997\n",
            "Epoch 22/100\n",
            "31/31 [==============================] - 0s 7ms/step - loss: 0.0074 - accuracy: 0.9998 - val_loss: 0.0071 - val_accuracy: 0.9997\n",
            "Epoch 23/100\n",
            "31/31 [==============================] - 0s 7ms/step - loss: 0.0066 - accuracy: 0.9998 - val_loss: 0.0064 - val_accuracy: 0.9997\n",
            "Epoch 24/100\n",
            "31/31 [==============================] - 0s 7ms/step - loss: 0.0060 - accuracy: 0.9998 - val_loss: 0.0058 - val_accuracy: 0.9997\n",
            "Epoch 25/100\n",
            "31/31 [==============================] - 0s 8ms/step - loss: 0.0054 - accuracy: 0.9998 - val_loss: 0.0053 - val_accuracy: 0.9997\n",
            "Epoch 26/100\n",
            "31/31 [==============================] - 0s 6ms/step - loss: 0.0049 - accuracy: 0.9998 - val_loss: 0.0048 - val_accuracy: 0.9997\n",
            "Epoch 27/100\n",
            "31/31 [==============================] - 0s 7ms/step - loss: 0.0045 - accuracy: 0.9998 - val_loss: 0.0044 - val_accuracy: 0.9997\n",
            "Epoch 28/100\n",
            "31/31 [==============================] - 0s 6ms/step - loss: 0.0041 - accuracy: 0.9998 - val_loss: 0.0040 - val_accuracy: 0.9997\n",
            "Epoch 29/100\n",
            "31/31 [==============================] - 0s 6ms/step - loss: 0.0038 - accuracy: 0.9998 - val_loss: 0.0037 - val_accuracy: 0.9997\n",
            "Epoch 30/100\n",
            "31/31 [==============================] - 0s 7ms/step - loss: 0.0035 - accuracy: 0.9998 - val_loss: 0.0034 - val_accuracy: 0.9997\n",
            "Epoch 31/100\n",
            "31/31 [==============================] - 0s 6ms/step - loss: 0.0032 - accuracy: 0.9998 - val_loss: 0.0032 - val_accuracy: 0.9997\n",
            "Epoch 32/100\n",
            "31/31 [==============================] - 0s 7ms/step - loss: 0.0030 - accuracy: 0.9998 - val_loss: 0.0030 - val_accuracy: 0.9997\n",
            "Epoch 33/100\n",
            "31/31 [==============================] - 0s 8ms/step - loss: 0.0028 - accuracy: 0.9998 - val_loss: 0.0027 - val_accuracy: 0.9997\n",
            "Epoch 34/100\n",
            "31/31 [==============================] - 0s 7ms/step - loss: 0.0026 - accuracy: 0.9998 - val_loss: 0.0026 - val_accuracy: 0.9998\n",
            "Epoch 35/100\n",
            "31/31 [==============================] - 0s 6ms/step - loss: 0.0024 - accuracy: 0.9998 - val_loss: 0.0024 - val_accuracy: 0.9998\n",
            "Epoch 36/100\n",
            "31/31 [==============================] - 0s 6ms/step - loss: 0.0022 - accuracy: 0.9998 - val_loss: 0.0022 - val_accuracy: 0.9998\n",
            "Epoch 37/100\n",
            "31/31 [==============================] - 0s 7ms/step - loss: 0.0021 - accuracy: 0.9999 - val_loss: 0.0021 - val_accuracy: 0.9998\n",
            "Epoch 38/100\n",
            "31/31 [==============================] - 0s 6ms/step - loss: 0.0020 - accuracy: 0.9999 - val_loss: 0.0020 - val_accuracy: 0.9998\n",
            "Epoch 39/100\n",
            "31/31 [==============================] - 0s 7ms/step - loss: 0.0018 - accuracy: 0.9999 - val_loss: 0.0018 - val_accuracy: 0.9999\n",
            "Epoch 40/100\n",
            "31/31 [==============================] - 0s 6ms/step - loss: 0.0017 - accuracy: 1.0000 - val_loss: 0.0017 - val_accuracy: 1.0000\n",
            "Epoch 41/100\n",
            "31/31 [==============================] - 0s 6ms/step - loss: 0.0016 - accuracy: 1.0000 - val_loss: 0.0016 - val_accuracy: 1.0000\n",
            "Epoch 42/100\n",
            "31/31 [==============================] - 0s 7ms/step - loss: 0.0015 - accuracy: 1.0000 - val_loss: 0.0015 - val_accuracy: 1.0000\n",
            "Epoch 43/100\n",
            "31/31 [==============================] - 0s 8ms/step - loss: 0.0014 - accuracy: 1.0000 - val_loss: 0.0015 - val_accuracy: 1.0000\n",
            "Epoch 44/100\n",
            "31/31 [==============================] - 0s 8ms/step - loss: 0.0014 - accuracy: 1.0000 - val_loss: 0.0014 - val_accuracy: 1.0000\n",
            "Epoch 45/100\n",
            "31/31 [==============================] - 0s 6ms/step - loss: 0.0013 - accuracy: 1.0000 - val_loss: 0.0013 - val_accuracy: 1.0000\n",
            "Epoch 46/100\n",
            "31/31 [==============================] - 0s 7ms/step - loss: 0.0012 - accuracy: 1.0000 - val_loss: 0.0012 - val_accuracy: 1.0000\n",
            "Epoch 47/100\n",
            "31/31 [==============================] - 0s 6ms/step - loss: 0.0012 - accuracy: 1.0000 - val_loss: 0.0012 - val_accuracy: 1.0000\n",
            "Epoch 48/100\n",
            "31/31 [==============================] - 0s 8ms/step - loss: 0.0011 - accuracy: 1.0000 - val_loss: 0.0011 - val_accuracy: 1.0000\n",
            "Epoch 49/100\n",
            "31/31 [==============================] - 0s 6ms/step - loss: 0.0011 - accuracy: 1.0000 - val_loss: 0.0011 - val_accuracy: 1.0000\n",
            "Epoch 50/100\n",
            "31/31 [==============================] - 0s 7ms/step - loss: 0.0010 - accuracy: 1.0000 - val_loss: 0.0010 - val_accuracy: 1.0000\n",
            "Epoch 51/100\n",
            "31/31 [==============================] - 0s 8ms/step - loss: 9.5321e-04 - accuracy: 1.0000 - val_loss: 9.7316e-04 - val_accuracy: 1.0000\n",
            "Epoch 52/100\n",
            "31/31 [==============================] - 0s 6ms/step - loss: 9.0898e-04 - accuracy: 1.0000 - val_loss: 9.2960e-04 - val_accuracy: 1.0000\n",
            "Epoch 53/100\n",
            "31/31 [==============================] - 0s 8ms/step - loss: 8.6769e-04 - accuracy: 1.0000 - val_loss: 8.8898e-04 - val_accuracy: 1.0000\n",
            "Epoch 54/100\n",
            "31/31 [==============================] - 0s 6ms/step - loss: 8.2916e-04 - accuracy: 1.0000 - val_loss: 8.5061e-04 - val_accuracy: 1.0000\n",
            "Epoch 55/100\n",
            "31/31 [==============================] - 0s 6ms/step - loss: 7.9280e-04 - accuracy: 1.0000 - val_loss: 8.1561e-04 - val_accuracy: 1.0000\n",
            "Epoch 56/100\n",
            "31/31 [==============================] - 0s 8ms/step - loss: 7.5870e-04 - accuracy: 1.0000 - val_loss: 7.8085e-04 - val_accuracy: 1.0000\n",
            "Epoch 57/100\n",
            "31/31 [==============================] - 0s 6ms/step - loss: 7.2651e-04 - accuracy: 1.0000 - val_loss: 7.4948e-04 - val_accuracy: 1.0000\n",
            "Epoch 58/100\n",
            "31/31 [==============================] - 0s 8ms/step - loss: 6.9620e-04 - accuracy: 1.0000 - val_loss: 7.1912e-04 - val_accuracy: 1.0000\n",
            "Epoch 59/100\n",
            "31/31 [==============================] - 0s 7ms/step - loss: 6.6788e-04 - accuracy: 1.0000 - val_loss: 6.9113e-04 - val_accuracy: 1.0000\n",
            "Epoch 60/100\n",
            "31/31 [==============================] - 0s 7ms/step - loss: 6.4087e-04 - accuracy: 1.0000 - val_loss: 6.6366e-04 - val_accuracy: 1.0000\n",
            "Epoch 61/100\n",
            "31/31 [==============================] - 0s 7ms/step - loss: 6.1538e-04 - accuracy: 1.0000 - val_loss: 6.3865e-04 - val_accuracy: 1.0000\n",
            "Epoch 62/100\n",
            "31/31 [==============================] - 0s 7ms/step - loss: 5.9132e-04 - accuracy: 1.0000 - val_loss: 6.1460e-04 - val_accuracy: 1.0000\n",
            "Epoch 63/100\n",
            "31/31 [==============================] - 0s 10ms/step - loss: 5.6845e-04 - accuracy: 1.0000 - val_loss: 5.9201e-04 - val_accuracy: 1.0000\n",
            "Epoch 64/100\n",
            "31/31 [==============================] - 0s 10ms/step - loss: 5.4685e-04 - accuracy: 1.0000 - val_loss: 5.7067e-04 - val_accuracy: 1.0000\n",
            "Epoch 65/100\n",
            "31/31 [==============================] - 0s 10ms/step - loss: 5.2633e-04 - accuracy: 1.0000 - val_loss: 5.5036e-04 - val_accuracy: 1.0000\n",
            "Epoch 66/100\n",
            "31/31 [==============================] - 0s 10ms/step - loss: 5.0687e-04 - accuracy: 1.0000 - val_loss: 5.3065e-04 - val_accuracy: 1.0000\n",
            "Epoch 67/100\n",
            "31/31 [==============================] - 0s 11ms/step - loss: 4.8835e-04 - accuracy: 1.0000 - val_loss: 5.1219e-04 - val_accuracy: 1.0000\n",
            "Epoch 68/100\n",
            "31/31 [==============================] - 0s 11ms/step - loss: 4.7080e-04 - accuracy: 1.0000 - val_loss: 4.9467e-04 - val_accuracy: 1.0000\n",
            "Epoch 69/100\n",
            "31/31 [==============================] - 0s 10ms/step - loss: 4.5403e-04 - accuracy: 1.0000 - val_loss: 4.7743e-04 - val_accuracy: 1.0000\n",
            "Epoch 70/100\n",
            "31/31 [==============================] - 0s 10ms/step - loss: 4.3811e-04 - accuracy: 1.0000 - val_loss: 4.6124e-04 - val_accuracy: 1.0000\n",
            "Epoch 71/100\n",
            "31/31 [==============================] - 0s 11ms/step - loss: 4.2290e-04 - accuracy: 1.0000 - val_loss: 4.4642e-04 - val_accuracy: 1.0000\n",
            "Epoch 72/100\n",
            "31/31 [==============================] - 0s 11ms/step - loss: 4.0838e-04 - accuracy: 1.0000 - val_loss: 4.3154e-04 - val_accuracy: 1.0000\n",
            "Epoch 73/100\n",
            "31/31 [==============================] - 0s 11ms/step - loss: 3.9451e-04 - accuracy: 1.0000 - val_loss: 4.1755e-04 - val_accuracy: 1.0000\n",
            "Epoch 74/100\n",
            "31/31 [==============================] - 0s 6ms/step - loss: 3.8131e-04 - accuracy: 1.0000 - val_loss: 4.0444e-04 - val_accuracy: 1.0000\n",
            "Epoch 75/100\n",
            "31/31 [==============================] - 0s 6ms/step - loss: 3.6870e-04 - accuracy: 1.0000 - val_loss: 3.9179e-04 - val_accuracy: 1.0000\n",
            "Epoch 76/100\n",
            "31/31 [==============================] - 0s 8ms/step - loss: 3.5659e-04 - accuracy: 1.0000 - val_loss: 3.7938e-04 - val_accuracy: 1.0000\n",
            "Epoch 77/100\n",
            "31/31 [==============================] - 0s 6ms/step - loss: 3.4503e-04 - accuracy: 1.0000 - val_loss: 3.6739e-04 - val_accuracy: 1.0000\n",
            "Epoch 78/100\n",
            "31/31 [==============================] - 0s 7ms/step - loss: 3.3397e-04 - accuracy: 1.0000 - val_loss: 3.5666e-04 - val_accuracy: 1.0000\n",
            "Epoch 79/100\n",
            "31/31 [==============================] - 0s 8ms/step - loss: 3.2334e-04 - accuracy: 1.0000 - val_loss: 3.4542e-04 - val_accuracy: 1.0000\n",
            "Epoch 80/100\n",
            "31/31 [==============================] - 0s 6ms/step - loss: 3.1318e-04 - accuracy: 1.0000 - val_loss: 3.3528e-04 - val_accuracy: 1.0000\n",
            "Epoch 81/100\n",
            "31/31 [==============================] - 0s 6ms/step - loss: 3.0347e-04 - accuracy: 1.0000 - val_loss: 3.2532e-04 - val_accuracy: 1.0000\n",
            "Epoch 82/100\n",
            "31/31 [==============================] - 0s 7ms/step - loss: 2.9407e-04 - accuracy: 1.0000 - val_loss: 3.1590e-04 - val_accuracy: 1.0000\n",
            "Epoch 83/100\n",
            "31/31 [==============================] - 0s 7ms/step - loss: 2.8512e-04 - accuracy: 1.0000 - val_loss: 3.0667e-04 - val_accuracy: 1.0000\n",
            "Epoch 84/100\n",
            "31/31 [==============================] - 0s 6ms/step - loss: 2.7649e-04 - accuracy: 1.0000 - val_loss: 2.9780e-04 - val_accuracy: 1.0000\n",
            "Epoch 85/100\n",
            "31/31 [==============================] - 0s 7ms/step - loss: 2.6823e-04 - accuracy: 1.0000 - val_loss: 2.8962e-04 - val_accuracy: 1.0000\n",
            "Epoch 86/100\n",
            "31/31 [==============================] - 0s 8ms/step - loss: 2.6024e-04 - accuracy: 1.0000 - val_loss: 2.8126e-04 - val_accuracy: 1.0000\n",
            "Epoch 87/100\n",
            "31/31 [==============================] - 0s 7ms/step - loss: 2.5256e-04 - accuracy: 1.0000 - val_loss: 2.7354e-04 - val_accuracy: 1.0000\n",
            "Epoch 88/100\n",
            "31/31 [==============================] - 0s 8ms/step - loss: 2.4521e-04 - accuracy: 1.0000 - val_loss: 2.6585e-04 - val_accuracy: 1.0000\n",
            "Epoch 89/100\n",
            "31/31 [==============================] - 0s 6ms/step - loss: 2.3813e-04 - accuracy: 1.0000 - val_loss: 2.5865e-04 - val_accuracy: 1.0000\n",
            "Epoch 90/100\n",
            "31/31 [==============================] - 0s 8ms/step - loss: 2.3130e-04 - accuracy: 1.0000 - val_loss: 2.5144e-04 - val_accuracy: 1.0000\n",
            "Epoch 91/100\n",
            "31/31 [==============================] - 0s 7ms/step - loss: 2.2472e-04 - accuracy: 1.0000 - val_loss: 2.4475e-04 - val_accuracy: 1.0000\n",
            "Epoch 92/100\n",
            "31/31 [==============================] - 0s 7ms/step - loss: 2.1836e-04 - accuracy: 1.0000 - val_loss: 2.3817e-04 - val_accuracy: 1.0000\n",
            "Epoch 93/100\n",
            "31/31 [==============================] - 0s 6ms/step - loss: 2.1225e-04 - accuracy: 1.0000 - val_loss: 2.3187e-04 - val_accuracy: 1.0000\n",
            "Epoch 94/100\n",
            "31/31 [==============================] - 0s 6ms/step - loss: 2.0637e-04 - accuracy: 1.0000 - val_loss: 2.2583e-04 - val_accuracy: 1.0000\n",
            "Epoch 95/100\n",
            "31/31 [==============================] - 0s 7ms/step - loss: 2.0065e-04 - accuracy: 1.0000 - val_loss: 2.1999e-04 - val_accuracy: 1.0000\n",
            "Epoch 96/100\n",
            "31/31 [==============================] - 0s 6ms/step - loss: 1.9520e-04 - accuracy: 1.0000 - val_loss: 2.1440e-04 - val_accuracy: 1.0000\n",
            "Epoch 97/100\n",
            "31/31 [==============================] - 0s 7ms/step - loss: 1.8986e-04 - accuracy: 1.0000 - val_loss: 2.0866e-04 - val_accuracy: 1.0000\n",
            "Epoch 98/100\n",
            "31/31 [==============================] - 0s 6ms/step - loss: 1.8476e-04 - accuracy: 1.0000 - val_loss: 2.0349e-04 - val_accuracy: 1.0000\n",
            "Epoch 99/100\n",
            "31/31 [==============================] - 0s 7ms/step - loss: 1.7980e-04 - accuracy: 1.0000 - val_loss: 1.9844e-04 - val_accuracy: 1.0000\n",
            "Epoch 100/100\n",
            "31/31 [==============================] - 0s 6ms/step - loss: 1.7502e-04 - accuracy: 1.0000 - val_loss: 1.9353e-04 - val_accuracy: 1.0000\n"
          ]
        }
      ],
      "source": [
        "if model_selection[model_flag]==\"ALL\" or model_selection[model_flag] == \"LSTM\":\n",
        "  # training the model on training dataset\n",
        "  history = lst.fit(x_train, y_train, epochs=100, batch_size=5000,validation_split=0.2)"
      ]
    },
    {
      "cell_type": "code",
      "execution_count": null,
      "metadata": {
        "id": "BCQtvJcXRcNr",
        "colab": {
          "base_uri": "https://localhost:8080/"
        },
        "outputId": "86885b6c-6b3e-49f1-f7c3-dc165518d523"
      },
      "outputs": [
        {
          "output_type": "stream",
          "name": "stdout",
          "text": [
            "Saved model to disk\n",
            "Loaded model from disk\n"
          ]
        }
      ],
      "source": [
        "if model_selection[model_flag]==\"ALL\" or model_selection[model_flag] == \"LSTM\":\n",
        "  filepath = '/content/drive/MyDrive/Colab_Notebooks/Models/lst_binary'+model_name_suffix+'.json'\n",
        "  weightspath = '/content/drive/MyDrive/Colab_Notebooks/Weights/lst_binary'+model_name_suffix+'.h5'\n",
        "  if (not path.isfile(filepath)):\n",
        "    # serialize model to JSON\n",
        "    lst_json = lst.to_json()\n",
        "    with open(filepath, \"w\") as json_file:\n",
        "      json_file.write(lst_json)\n",
        "\n",
        "    # serialize weights to HDF5\n",
        "    lst.save_weights(weightspath)\n",
        "    print(\"Saved model to disk\")\n",
        "\n",
        "    # load json and create model\n",
        "    json_file = open(filepath, 'r')\n",
        "    loaded_model_json = json_file.read()\n",
        "    json_file.close()\n",
        "    lst = model_from_json(loaded_model_json)\n",
        "\n",
        "    # load weights into new model\n",
        "    lst.load_weights(weightspath)\n",
        "    print(\"Loaded model from disk\")"
      ]
    },
    {
      "cell_type": "code",
      "execution_count": null,
      "metadata": {
        "id": "rPaW37T-R0dG",
        "colab": {
          "base_uri": "https://localhost:8080/"
        },
        "outputId": "e9c654f9-0a23-4544-f2a3-9815d24b284c"
      },
      "outputs": [
        {
          "output_type": "stream",
          "name": "stdout",
          "text": [
            "Loaded model from disk\n"
          ]
        }
      ],
      "source": [
        "if model_selection[model_flag]==\"ALL\" or model_selection[model_flag] == \"LSTM\":\n",
        "  # load json and create model\n",
        "  json_file = open(filepath, 'r')\n",
        "  loaded_model_json = json_file.read()\n",
        "  json_file.close()\n",
        "  lst = model_from_json(loaded_model_json)\n",
        "\n",
        "  # load weights into new model\n",
        "  lst.load_weights(weightspath)\n",
        "  print(\"Loaded model from disk\")"
      ]
    },
    {
      "cell_type": "code",
      "execution_count": null,
      "metadata": {
        "id": "ukGDdSggR3na"
      },
      "outputs": [],
      "source": [
        "if model_selection[model_flag]==\"ALL\" or model_selection[model_flag] == \"LSTM\":\n",
        "  # defining loss function, optimizer, metrics and then compiling model\n",
        "  lst.compile(loss='binary_crossentropy',optimizer='adam',metrics=['accuracy'])"
      ]
    },
    {
      "cell_type": "code",
      "execution_count": null,
      "metadata": {
        "id": "nvjY0u97R68f",
        "colab": {
          "base_uri": "https://localhost:8080/"
        },
        "outputId": "52b8d0cf-ec46-48c0-c634-41871b6c0b4e"
      },
      "outputs": [
        {
          "output_type": "stream",
          "name": "stdout",
          "text": [
            "2014/2014 [==============================] - 7s 3ms/step - loss: 1.8274 - accuracy: 0.3815\n",
            "Test results - Loss: 1.8274213075637817 - Accuracy: 38.145577907562256%\n"
          ]
        }
      ],
      "source": [
        "if model_selection[model_flag]==\"ALL\" or model_selection[model_flag] == \"LSTM\":\n",
        "  # predicting target attribute on testing dataset\n",
        "  test_results = lst.evaluate(x_test, y_test, verbose=1)\n",
        "  print(f'Test results - Loss: {test_results[0]} - Accuracy: {test_results[1]*100}%')"
      ]
    },
    {
      "cell_type": "code",
      "execution_count": null,
      "metadata": {
        "id": "f8yKMcIHR_jP",
        "colab": {
          "base_uri": "https://localhost:8080/",
          "height": 472
        },
        "outputId": "c6407a94-4a80-4f4f-8022-90038d0ff9d8"
      },
      "outputs": [
        {
          "output_type": "display_data",
          "data": {
            "text/plain": [
              "<Figure size 640x480 with 1 Axes>"
            ],
            "image/png": "[encoded data removed]"
          },
          "metadata": {}
        }
      ],
      "source": [
        "if model_selection[model_flag]==\"ALL\" or model_selection[model_flag] == \"LSTM\":\n",
        "  # Plot of accuracy vs epoch of train and test dataset\n",
        "  plt.plot(history.history['accuracy'])\n",
        "  plt.plot(history.history['val_accuracy'])\n",
        "  plt.title(\"Plot of accuracy vs epoch for train and test dataset\")\n",
        "  plt.ylabel('accuracy')\n",
        "  plt.xlabel('epoch')\n",
        "  plt.legend(['train', 'test'], loc='best')\n",
        "  plt.savefig('/content/drive/MyDrive/Colab_Notebooks/Plots/lstm_binary_accuracy.png')\n",
        "  plt.show()"
      ]
    },
    {
      "cell_type": "code",
      "execution_count": null,
      "metadata": {
        "id": "M5g1Rw_SSb5n",
        "colab": {
          "base_uri": "https://localhost:8080/",
          "height": 472
        },
        "outputId": "7537aaae-cec3-474d-a8e2-e75fa656b42c"
      },
      "outputs": [
        {
          "output_type": "display_data",
          "data": {
            "text/plain": [
              "<Figure size 640x480 with 1 Axes>"
            ],
            "image/png": "[encoded data removed]"
          },
          "metadata": {}
        }
      ],
      "source": [
        "if model_selection[model_flag]==\"ALL\" or model_selection[model_flag] == \"LSTM\":\n",
        "  # Plot of loss vs epoch of train and test dataset\n",
        "  plt.plot(history.history['loss'])\n",
        "  plt.plot(history.history['val_loss'])\n",
        "  plt.title(\"Plot of loss vs epoch for train and test dataset\")\n",
        "  plt.ylabel('loss')\n",
        "  plt.xlabel('epoch')\n",
        "  plt.legend(['train', 'test'], loc='best')\n",
        "  plt.savefig('/content/drive/MyDrive/Colab_Notebooks/Plots/lstm_binary_loss.png')\n",
        "  plt.show()"
      ]
    },
    {
      "cell_type": "code",
      "execution_count": null,
      "metadata": {
        "id": "osZa2OV9Se-T"
      },
      "outputs": [],
      "source": [
        "if model_selection[model_flag]==\"ALL\" or model_selection[model_flag] == \"LSTM\":\n",
        "  # representation of model layers\n",
        "  plot_model(lst, to_file='/content/drive/MyDrive/Colab_Notebooks/Plots/lstm_binary.png', show_shapes=True,)"
      ]
    },
    {
      "cell_type": "code",
      "execution_count": null,
      "metadata": {
        "id": "lw4OLD4HSpaY",
        "colab": {
          "base_uri": "https://localhost:8080/"
        },
        "outputId": "51e3b20d-0453-4777-eaf0-d8e28fade04e"
      },
      "outputs": [
        {
          "output_type": "execute_result",
          "data": {
            "text/plain": [
              "(64419,)"
            ]
          },
          "metadata": {},
          "execution_count": 56
        }
      ],
      "source": [
        "y_test = np.array(y_test)\n",
        "y_test.shape"
      ]
    },
    {
      "cell_type": "code",
      "execution_count": null,
      "metadata": {
        "id": "4BvYVrKsTGr3",
        "colab": {
          "base_uri": "https://localhost:8080/"
        },
        "outputId": "9c16d4bc-c767-4586-89a3-ccabaaff3491"
      },
      "outputs": [
        {
          "output_type": "execute_result",
          "data": {
            "text/plain": [
              "numpy.ndarray"
            ]
          },
          "metadata": {},
          "execution_count": 57
        }
      ],
      "source": [
        "type(y_test)"
      ]
    },
    {
      "cell_type": "code",
      "execution_count": null,
      "metadata": {
        "id": "KBvCGl6BS0FM",
        "colab": {
          "base_uri": "https://localhost:8080/"
        },
        "outputId": "0fa0211d-0da8-4eee-b8e6-28bca9808c27"
      },
      "outputs": [
        {
          "output_type": "stream",
          "name": "stdout",
          "text": [
            "2014/2014 [==============================] - 5s 2ms/step\n"
          ]
        }
      ],
      "source": [
        "if model_selection[model_flag]==\"ALL\" or model_selection[model_flag] == \"LSTM\":\n",
        "  y_classes = (lst.predict(x_test)>0.5).astype('int32')"
      ]
    },
    {
      "cell_type": "code",
      "execution_count": null,
      "metadata": {
        "id": "x_yVqBlLTtLW",
        "colab": {
          "base_uri": "https://localhost:8080/"
        },
        "outputId": "c2646d7b-783d-463e-fd99-80b4b7d3f6a9"
      },
      "outputs": [
        {
          "output_type": "stream",
          "name": "stdout",
          "text": [
            "Recall Score -  0.14960170973382553\n",
            "F1 Score -  0.23616915232143543\n",
            "Precision Score -  0.5605095541401274\n"
          ]
        }
      ],
      "source": [
        "if model_selection[model_flag]==\"ALL\" or model_selection[model_flag] == \"LSTM\":\n",
        "  print(\"Recall Score - \",recall_score(y_test,y_classes))\n",
        "  print(\"F1 Score - \",f1_score(y_test,y_classes))\n",
        "  print(\"Precision Score - \",precision_score(y_test,y_classes))"
      ]
    },
    {
      "cell_type": "code",
      "source": [
        "print(classification_report(y_test, y_classes, target_names=['0', '1']))\n",
        "cm = confusion_matrix(y_test, y_classes)\n",
        "disp = ConfusionMatrixDisplay(confusion_matrix=cm,\n",
        "                              display_labels=['0', '1'])\n",
        "disp.plot()\n",
        "\n",
        "plt.show()"
      ],
      "metadata": {
        "colab": {
          "base_uri": "https://localhost:8080/",
          "height": 616
        },
        "id": "lHw1E32esovH",
        "outputId": "baccec33-8246-4604-bfdc-fe345693c0f2"
      },
      "execution_count": null,
      "outputs": [
        {
          "output_type": "stream",
          "name": "stdout",
          "text": [
            "              precision    recall  f1-score   support\n",
            "\n",
            "           0       0.34      0.79      0.48     23243\n",
            "           1       0.56      0.15      0.24     41176\n",
            "\n",
            "    accuracy                           0.38     64419\n",
            "   macro avg       0.45      0.47      0.36     64419\n",
            "weighted avg       0.48      0.38      0.32     64419\n",
            "\n"
          ]
        },
        {
          "output_type": "display_data",
          "data": {
            "text/plain": [
              "<Figure size 640x480 with 2 Axes>"
            ],
            "image/png": "[encoded data removed]"
          },
          "metadata": {}
        }
      ]
    },
    {
      "cell_type": "markdown",
      "metadata": {
        "id": "H_g15uXe82BY"
      },
      "source": [
        "## **Auto Encoder**"
      ]
    },
    {
      "cell_type": "code",
      "execution_count": null,
      "metadata": {
        "id": "VQ6pDxghmBwB"
      },
      "outputs": [],
      "source": [
        "if model_selection[model_flag]==\"ALL\" or model_selection[model_flag] == \"AE\":\n",
        "  # splitting the dataset 75% for training and 25% testing\n",
        "  X_train, X_test = train_test_split(bin_data, test_size=0.25, random_state=42)"
      ]
    },
    {
      "cell_type": "code",
      "execution_count": null,
      "metadata": {
        "id": "uogVT92Q_6wh"
      },
      "outputs": [],
      "source": [
        "if model_selection[model_flag]==\"ALL\" or model_selection[model_flag] == \"AE\":\n",
        "  # dataset excluding target attribute (encoded, one-hot-encoded,original)\n",
        "  X_train = X_train.drop(['label'],axis=1) \n",
        "\n",
        "  y_test = X_test['label'] # target attribute\n",
        "\n",
        "  # dataset excluding target attribute (encoded, one-hot-encoded,original)\n",
        "  X_test = X_test.drop(['label'],axis=1)\n",
        "  # calling the normalization() function\n",
        "  X_train = normalization_train(X_train,numeric_cols)\n",
        "  X_test = normalization_test(X_test,numeric_cols)\n",
        "  X_train = X_train.values\n",
        "  X_test = X_test.values\n",
        "  y_test = y_test.values"
      ]
    },
    {
      "cell_type": "code",
      "execution_count": null,
      "metadata": {
        "id": "s696BM9uKADC"
      },
      "outputs": [],
      "source": [
        "if model_selection[model_flag]==\"ALL\" or model_selection[model_flag] == \"AE\":\n",
        "  input_dim = X_train.shape[1]\n",
        "  encoding_dim = 50\n",
        "\n",
        "  #input layer\n",
        "  input_layer = Input(shape=(input_dim, ))\n",
        "  #encoding layer with 50 neurons\n",
        "  encoder = Dense(encoding_dim, activation=\"relu\")(input_layer)           \n",
        "  #decoding and output layer\n",
        "  output_layer = Dense(input_dim, activation='softmax')(encoder)"
      ]
    },
    {
      "cell_type": "code",
      "execution_count": null,
      "metadata": {
        "id": "nLn3vHBZLQtj"
      },
      "outputs": [],
      "source": [
        "if model_selection[model_flag]==\"ALL\" or model_selection[model_flag] == \"AE\":\n",
        "  # creating model with input, encoding, decoding, output layers\n",
        "  autoencoder = Model(inputs=input_layer, outputs=output_layer)\n",
        "\n",
        "  # defining loss function, optimizer, metrics and then compiling model\n",
        "  autoencoder.compile(optimizer='adam', loss='mean_squared_error',metrics=['accuracy'])"
      ]
    },
    {
      "cell_type": "code",
      "execution_count": null,
      "metadata": {
        "id": "X_zk7PMVLVNm",
        "colab": {
          "base_uri": "https://localhost:8080/"
        },
        "outputId": "0def209d-348d-4253-c36f-7d507edf2ec8"
      },
      "outputs": [
        {
          "output_type": "stream",
          "name": "stdout",
          "text": [
            "Model: \"model\"\n",
            "_________________________________________________________________\n",
            " Layer (type)                Output Shape              Param #   \n",
            "=================================================================\n",
            " input_1 (InputLayer)        [(None, 56)]              0         \n",
            "                                                                 \n",
            " dense_3 (Dense)             (None, 50)                2850      \n",
            "                                                                 \n",
            " dense_4 (Dense)             (None, 56)                2856      \n",
            "                                                                 \n",
            "=================================================================\n",
            "Total params: 5,706\n",
            "Trainable params: 5,706\n",
            "Non-trainable params: 0\n",
            "_________________________________________________________________\n"
          ]
        }
      ],
      "source": [
        "if model_selection[model_flag]==\"ALL\" or model_selection[model_flag] == \"AE\":\n",
        "  # summary of model layers\n",
        "  autoencoder.summary()"
      ]
    },
    {
      "cell_type": "code",
      "execution_count": null,
      "metadata": {
        "id": "We59NbebLdkJ",
        "colab": {
          "base_uri": "https://localhost:8080/"
        },
        "outputId": "8475f094-3c9f-48eb-deff-54d3a8a89323"
      },
      "outputs": [
        {
          "output_type": "stream",
          "name": "stdout",
          "text": [
            "Epoch 1/100\n",
            "387/387 [==============================] - 2s 4ms/step - loss: 0.0760 - accuracy: 0.2605 - val_loss: 103740657247453184.0000 - val_accuracy: 2.4837e-04\n",
            "Epoch 2/100\n",
            "387/387 [==============================] - 1s 4ms/step - loss: 0.0708 - accuracy: 0.1828 - val_loss: 103740657247453184.0000 - val_accuracy: 2.4837e-04\n",
            "Epoch 3/100\n",
            "387/387 [==============================] - 2s 5ms/step - loss: 0.0706 - accuracy: 0.1755 - val_loss: 103740657247453184.0000 - val_accuracy: 2.6390e-04\n",
            "Epoch 4/100\n",
            "387/387 [==============================] - 2s 6ms/step - loss: 0.0706 - accuracy: 0.1474 - val_loss: 103740657247453184.0000 - val_accuracy: 2.6390e-04\n",
            "Epoch 5/100\n",
            "387/387 [==============================] - 2s 5ms/step - loss: 0.0704 - accuracy: 0.1331 - val_loss: 103740657247453184.0000 - val_accuracy: 2.6390e-04\n",
            "Epoch 6/100\n",
            "387/387 [==============================] - 2s 5ms/step - loss: 0.0704 - accuracy: 0.1355 - val_loss: 103740657247453184.0000 - val_accuracy: 2.6390e-04\n",
            "Epoch 7/100\n",
            "387/387 [==============================] - 1s 4ms/step - loss: 0.0704 - accuracy: 0.1314 - val_loss: 103740657247453184.0000 - val_accuracy: 2.6390e-04\n",
            "Epoch 8/100\n",
            "387/387 [==============================] - 1s 4ms/step - loss: 0.0704 - accuracy: 0.1273 - val_loss: 103740657247453184.0000 - val_accuracy: 2.6390e-04\n",
            "Epoch 9/100\n",
            "387/387 [==============================] - 2s 4ms/step - loss: 0.0704 - accuracy: 0.1323 - val_loss: 103740657247453184.0000 - val_accuracy: 2.6390e-04\n",
            "Epoch 10/100\n",
            "387/387 [==============================] - 2s 5ms/step - loss: 0.0704 - accuracy: 0.1478 - val_loss: 103740657247453184.0000 - val_accuracy: 2.6390e-04\n",
            "Epoch 11/100\n",
            "387/387 [==============================] - 2s 5ms/step - loss: 0.0704 - accuracy: 0.1564 - val_loss: 103740657247453184.0000 - val_accuracy: 2.6390e-04\n",
            "Epoch 12/100\n",
            "387/387 [==============================] - 2s 4ms/step - loss: 0.0704 - accuracy: 0.1673 - val_loss: 103740657247453184.0000 - val_accuracy: 2.6390e-04\n",
            "Epoch 13/100\n",
            "387/387 [==============================] - 2s 4ms/step - loss: 0.0704 - accuracy: 0.1739 - val_loss: 103740657247453184.0000 - val_accuracy: 2.6390e-04\n",
            "Epoch 14/100\n",
            "387/387 [==============================] - 1s 4ms/step - loss: 0.0704 - accuracy: 0.1785 - val_loss: 103740657247453184.0000 - val_accuracy: 2.6390e-04\n",
            "Epoch 15/100\n",
            "387/387 [==============================] - 2s 4ms/step - loss: 0.0704 - accuracy: 0.1776 - val_loss: 103740657247453184.0000 - val_accuracy: 2.6390e-04\n",
            "Epoch 16/100\n",
            "387/387 [==============================] - 1s 4ms/step - loss: 0.0704 - accuracy: 0.1907 - val_loss: 103740657247453184.0000 - val_accuracy: 2.6390e-04\n",
            "Epoch 17/100\n",
            "387/387 [==============================] - 1s 4ms/step - loss: 0.0704 - accuracy: 0.1967 - val_loss: 103740657247453184.0000 - val_accuracy: 2.6390e-04\n",
            "Epoch 18/100\n",
            "387/387 [==============================] - 2s 5ms/step - loss: 0.0704 - accuracy: 0.1883 - val_loss: 103740657247453184.0000 - val_accuracy: 2.6390e-04\n",
            "Epoch 19/100\n",
            "387/387 [==============================] - 2s 5ms/step - loss: 0.0704 - accuracy: 0.1929 - val_loss: 103740657247453184.0000 - val_accuracy: 2.6390e-04\n",
            "Epoch 20/100\n",
            "387/387 [==============================] - 2s 4ms/step - loss: 0.0704 - accuracy: 0.1982 - val_loss: 103740657247453184.0000 - val_accuracy: 2.6390e-04\n",
            "Epoch 21/100\n",
            "387/387 [==============================] - 1s 4ms/step - loss: 0.0704 - accuracy: 0.1987 - val_loss: 103740657247453184.0000 - val_accuracy: 2.6390e-04\n",
            "Epoch 22/100\n",
            "387/387 [==============================] - 1s 4ms/step - loss: 0.0704 - accuracy: 0.1924 - val_loss: 103740657247453184.0000 - val_accuracy: 2.6390e-04\n",
            "Epoch 23/100\n",
            "387/387 [==============================] - 2s 4ms/step - loss: 0.0704 - accuracy: 0.2050 - val_loss: 103740657247453184.0000 - val_accuracy: 2.6390e-04\n",
            "Epoch 24/100\n",
            "387/387 [==============================] - 1s 4ms/step - loss: 0.0704 - accuracy: 0.2036 - val_loss: 103740657247453184.0000 - val_accuracy: 2.6390e-04\n",
            "Epoch 25/100\n",
            "387/387 [==============================] - 2s 4ms/step - loss: 0.0704 - accuracy: 0.1943 - val_loss: 103740657247453184.0000 - val_accuracy: 2.6390e-04\n",
            "Epoch 26/100\n",
            "387/387 [==============================] - 2s 4ms/step - loss: 0.0704 - accuracy: 0.2128 - val_loss: 103740657247453184.0000 - val_accuracy: 2.6390e-04\n",
            "Epoch 27/100\n",
            "387/387 [==============================] - 2s 5ms/step - loss: 0.0704 - accuracy: 0.2070 - val_loss: 103740657247453184.0000 - val_accuracy: 2.6390e-04\n",
            "Epoch 28/100\n",
            "387/387 [==============================] - 2s 5ms/step - loss: 0.0704 - accuracy: 0.1952 - val_loss: 103740657247453184.0000 - val_accuracy: 2.6390e-04\n",
            "Epoch 29/100\n",
            "387/387 [==============================] - 1s 4ms/step - loss: 0.0704 - accuracy: 0.2061 - val_loss: 103740657247453184.0000 - val_accuracy: 2.6390e-04\n",
            "Epoch 30/100\n",
            "387/387 [==============================] - 1s 4ms/step - loss: 0.0704 - accuracy: 0.2030 - val_loss: 103740657247453184.0000 - val_accuracy: 2.6390e-04\n",
            "Epoch 31/100\n",
            "387/387 [==============================] - 1s 4ms/step - loss: 0.0704 - accuracy: 0.2026 - val_loss: 103740657247453184.0000 - val_accuracy: 2.6390e-04\n",
            "Epoch 32/100\n",
            "387/387 [==============================] - 1s 4ms/step - loss: 0.0704 - accuracy: 0.2152 - val_loss: 103740657247453184.0000 - val_accuracy: 2.6390e-04\n",
            "Epoch 33/100\n",
            "387/387 [==============================] - 1s 4ms/step - loss: 0.0704 - accuracy: 0.2036 - val_loss: 103740657247453184.0000 - val_accuracy: 2.6390e-04\n",
            "Epoch 34/100\n",
            "387/387 [==============================] - 2s 4ms/step - loss: 0.0704 - accuracy: 0.2032 - val_loss: 103740657247453184.0000 - val_accuracy: 2.6390e-04\n",
            "Epoch 35/100\n",
            "387/387 [==============================] - 2s 5ms/step - loss: 0.0704 - accuracy: 0.2073 - val_loss: 103740657247453184.0000 - val_accuracy: 2.6390e-04\n",
            "Epoch 36/100\n",
            "387/387 [==============================] - 2s 5ms/step - loss: 0.0704 - accuracy: 0.2046 - val_loss: 103740657247453184.0000 - val_accuracy: 2.6390e-04\n",
            "Epoch 37/100\n",
            "387/387 [==============================] - 2s 4ms/step - loss: 0.0704 - accuracy: 0.2082 - val_loss: 103740657247453184.0000 - val_accuracy: 2.6390e-04\n",
            "Epoch 38/100\n",
            "387/387 [==============================] - 1s 4ms/step - loss: 0.0704 - accuracy: 0.2058 - val_loss: 103740657247453184.0000 - val_accuracy: 2.6390e-04\n",
            "Epoch 39/100\n",
            "387/387 [==============================] - 1s 4ms/step - loss: 0.0704 - accuracy: 0.2111 - val_loss: 103740657247453184.0000 - val_accuracy: 2.6390e-04\n",
            "Epoch 40/100\n",
            "387/387 [==============================] - 2s 4ms/step - loss: 0.0704 - accuracy: 0.1968 - val_loss: 103740657247453184.0000 - val_accuracy: 2.6390e-04\n",
            "Epoch 41/100\n",
            "387/387 [==============================] - 1s 4ms/step - loss: 0.0704 - accuracy: 0.2065 - val_loss: 103740657247453184.0000 - val_accuracy: 2.6390e-04\n",
            "Epoch 42/100\n",
            "387/387 [==============================] - 1s 4ms/step - loss: 0.0704 - accuracy: 0.2106 - val_loss: 103740657247453184.0000 - val_accuracy: 2.6390e-04\n",
            "Epoch 43/100\n",
            "387/387 [==============================] - 2s 4ms/step - loss: 0.0704 - accuracy: 0.2077 - val_loss: 103740657247453184.0000 - val_accuracy: 2.6390e-04\n",
            "Epoch 44/100\n",
            "387/387 [==============================] - 2s 5ms/step - loss: 0.0704 - accuracy: 0.2070 - val_loss: 103740657247453184.0000 - val_accuracy: 2.6390e-04\n",
            "Epoch 45/100\n",
            "387/387 [==============================] - 2s 5ms/step - loss: 0.0704 - accuracy: 0.2185 - val_loss: 103740657247453184.0000 - val_accuracy: 2.6390e-04\n",
            "Epoch 46/100\n",
            "387/387 [==============================] - 1s 4ms/step - loss: 0.0704 - accuracy: 0.2043 - val_loss: 103740657247453184.0000 - val_accuracy: 2.6390e-04\n",
            "Epoch 47/100\n",
            "387/387 [==============================] - 1s 4ms/step - loss: 0.0704 - accuracy: 0.2047 - val_loss: 103740657247453184.0000 - val_accuracy: 2.6390e-04\n",
            "Epoch 48/100\n",
            "387/387 [==============================] - 1s 4ms/step - loss: 0.0704 - accuracy: 0.2118 - val_loss: 103740657247453184.0000 - val_accuracy: 2.6390e-04\n",
            "Epoch 49/100\n",
            "387/387 [==============================] - 1s 4ms/step - loss: 0.0704 - accuracy: 0.2036 - val_loss: 103740657247453184.0000 - val_accuracy: 2.6390e-04\n",
            "Epoch 50/100\n",
            "387/387 [==============================] - 2s 4ms/step - loss: 0.0704 - accuracy: 0.2175 - val_loss: 103740657247453184.0000 - val_accuracy: 2.6390e-04\n",
            "Epoch 51/100\n",
            "387/387 [==============================] - 1s 4ms/step - loss: 0.0704 - accuracy: 0.2118 - val_loss: 103740657247453184.0000 - val_accuracy: 2.6390e-04\n",
            "Epoch 52/100\n",
            "387/387 [==============================] - 2s 5ms/step - loss: 0.0704 - accuracy: 0.2116 - val_loss: 103740657247453184.0000 - val_accuracy: 2.6390e-04\n",
            "Epoch 53/100\n",
            "387/387 [==============================] - 2s 5ms/step - loss: 0.0704 - accuracy: 0.1999 - val_loss: 103740657247453184.0000 - val_accuracy: 2.6390e-04\n",
            "Epoch 54/100\n",
            "387/387 [==============================] - 2s 4ms/step - loss: 0.0704 - accuracy: 0.2071 - val_loss: 103740657247453184.0000 - val_accuracy: 2.6390e-04\n",
            "Epoch 55/100\n",
            "387/387 [==============================] - 1s 4ms/step - loss: 0.0704 - accuracy: 0.2109 - val_loss: 103740657247453184.0000 - val_accuracy: 2.6390e-04\n",
            "Epoch 56/100\n",
            "387/387 [==============================] - 1s 4ms/step - loss: 0.0704 - accuracy: 0.2020 - val_loss: 103740657247453184.0000 - val_accuracy: 2.6390e-04\n",
            "Epoch 57/100\n",
            "387/387 [==============================] - 1s 4ms/step - loss: 0.0704 - accuracy: 0.2126 - val_loss: 103740657247453184.0000 - val_accuracy: 2.6390e-04\n",
            "Epoch 58/100\n",
            "387/387 [==============================] - 1s 4ms/step - loss: 0.0704 - accuracy: 0.2138 - val_loss: 103740657247453184.0000 - val_accuracy: 2.6390e-04\n",
            "Epoch 59/100\n",
            "387/387 [==============================] - 1s 4ms/step - loss: 0.0704 - accuracy: 0.2020 - val_loss: 103740657247453184.0000 - val_accuracy: 2.6390e-04\n",
            "Epoch 60/100\n",
            "387/387 [==============================] - 1s 4ms/step - loss: 0.0704 - accuracy: 0.2128 - val_loss: 103740657247453184.0000 - val_accuracy: 2.6390e-04\n",
            "Epoch 61/100\n",
            "387/387 [==============================] - 2s 6ms/step - loss: 0.0704 - accuracy: 0.2068 - val_loss: 103740657247453184.0000 - val_accuracy: 2.6390e-04\n",
            "Epoch 62/100\n",
            "387/387 [==============================] - 2s 5ms/step - loss: 0.0704 - accuracy: 0.2059 - val_loss: 103740657247453184.0000 - val_accuracy: 2.6390e-04\n",
            "Epoch 63/100\n",
            "387/387 [==============================] - 2s 4ms/step - loss: 0.0704 - accuracy: 0.2008 - val_loss: 103740657247453184.0000 - val_accuracy: 2.6390e-04\n",
            "Epoch 64/100\n",
            "387/387 [==============================] - 1s 4ms/step - loss: 0.0704 - accuracy: 0.2033 - val_loss: 103740657247453184.0000 - val_accuracy: 2.6390e-04\n",
            "Epoch 65/100\n",
            "387/387 [==============================] - 1s 4ms/step - loss: 0.0704 - accuracy: 0.2088 - val_loss: 103740657247453184.0000 - val_accuracy: 2.6390e-04\n",
            "Epoch 66/100\n",
            "387/387 [==============================] - 1s 4ms/step - loss: 0.0704 - accuracy: 0.2174 - val_loss: 103740657247453184.0000 - val_accuracy: 2.6390e-04\n",
            "Epoch 67/100\n",
            "387/387 [==============================] - 2s 4ms/step - loss: 0.0704 - accuracy: 0.2065 - val_loss: 103740657247453184.0000 - val_accuracy: 2.6390e-04\n",
            "Epoch 68/100\n",
            "387/387 [==============================] - 1s 4ms/step - loss: 0.0704 - accuracy: 0.2186 - val_loss: 103740657247453184.0000 - val_accuracy: 2.6390e-04\n",
            "Epoch 69/100\n",
            "387/387 [==============================] - 2s 5ms/step - loss: 0.0704 - accuracy: 0.2134 - val_loss: 103740657247453184.0000 - val_accuracy: 2.6390e-04\n",
            "Epoch 70/100\n",
            "387/387 [==============================] - 2s 5ms/step - loss: 0.0704 - accuracy: 0.2047 - val_loss: 103740657247453184.0000 - val_accuracy: 2.6390e-04\n",
            "Epoch 71/100\n",
            "387/387 [==============================] - 2s 4ms/step - loss: 0.0704 - accuracy: 0.2104 - val_loss: 103740657247453184.0000 - val_accuracy: 2.6390e-04\n",
            "Epoch 72/100\n",
            "387/387 [==============================] - 1s 4ms/step - loss: 0.0704 - accuracy: 0.2143 - val_loss: 103740657247453184.0000 - val_accuracy: 2.6390e-04\n",
            "Epoch 73/100\n",
            "387/387 [==============================] - 1s 4ms/step - loss: 0.0704 - accuracy: 0.2034 - val_loss: 103740657247453184.0000 - val_accuracy: 2.6390e-04\n",
            "Epoch 74/100\n",
            "387/387 [==============================] - 1s 4ms/step - loss: 0.0704 - accuracy: 0.2279 - val_loss: 103740657247453184.0000 - val_accuracy: 2.6390e-04\n",
            "Epoch 75/100\n",
            "387/387 [==============================] - 1s 4ms/step - loss: 0.0704 - accuracy: 0.2240 - val_loss: 103740657247453184.0000 - val_accuracy: 2.6390e-04\n",
            "Epoch 76/100\n",
            "387/387 [==============================] - 2s 4ms/step - loss: 0.0704 - accuracy: 0.2156 - val_loss: 103740657247453184.0000 - val_accuracy: 2.6390e-04\n",
            "Epoch 77/100\n",
            "387/387 [==============================] - 1s 4ms/step - loss: 0.0704 - accuracy: 0.2061 - val_loss: 103740657247453184.0000 - val_accuracy: 2.6390e-04\n",
            "Epoch 78/100\n",
            "387/387 [==============================] - 2s 6ms/step - loss: 0.0704 - accuracy: 0.2020 - val_loss: 103740657247453184.0000 - val_accuracy: 2.6390e-04\n",
            "Epoch 79/100\n",
            "387/387 [==============================] - 2s 5ms/step - loss: 0.0704 - accuracy: 0.2053 - val_loss: 103740657247453184.0000 - val_accuracy: 2.6390e-04\n",
            "Epoch 80/100\n",
            "387/387 [==============================] - 1s 4ms/step - loss: 0.0704 - accuracy: 0.2048 - val_loss: 103740657247453184.0000 - val_accuracy: 2.6390e-04\n",
            "Epoch 81/100\n",
            "387/387 [==============================] - 1s 4ms/step - loss: 0.0704 - accuracy: 0.1953 - val_loss: 103740657247453184.0000 - val_accuracy: 2.6390e-04\n",
            "Epoch 82/100\n",
            "387/387 [==============================] - 2s 4ms/step - loss: 0.0704 - accuracy: 0.2169 - val_loss: 103740657247453184.0000 - val_accuracy: 2.6390e-04\n",
            "Epoch 83/100\n",
            "387/387 [==============================] - 1s 4ms/step - loss: 0.0704 - accuracy: 0.2113 - val_loss: 103740657247453184.0000 - val_accuracy: 2.6390e-04\n",
            "Epoch 84/100\n",
            "387/387 [==============================] - 1s 4ms/step - loss: 0.0704 - accuracy: 0.2029 - val_loss: 103740657247453184.0000 - val_accuracy: 2.6390e-04\n",
            "Epoch 85/100\n",
            "387/387 [==============================] - 1s 4ms/step - loss: 0.0704 - accuracy: 0.2117 - val_loss: 103740657247453184.0000 - val_accuracy: 2.6390e-04\n",
            "Epoch 86/100\n",
            "387/387 [==============================] - 2s 4ms/step - loss: 0.0704 - accuracy: 0.2130 - val_loss: 103740657247453184.0000 - val_accuracy: 2.6390e-04\n",
            "Epoch 87/100\n",
            "387/387 [==============================] - 2s 5ms/step - loss: 0.0704 - accuracy: 0.1977 - val_loss: 103740657247453184.0000 - val_accuracy: 2.6390e-04\n",
            "Epoch 88/100\n",
            "387/387 [==============================] - 2s 5ms/step - loss: 0.0704 - accuracy: 0.2123 - val_loss: 103740657247453184.0000 - val_accuracy: 2.6390e-04\n",
            "Epoch 89/100\n",
            "387/387 [==============================] - 1s 4ms/step - loss: 0.0704 - accuracy: 0.2183 - val_loss: 103740657247453184.0000 - val_accuracy: 2.6390e-04\n",
            "Epoch 90/100\n",
            "387/387 [==============================] - 2s 4ms/step - loss: 0.0704 - accuracy: 0.1932 - val_loss: 103740657247453184.0000 - val_accuracy: 2.6390e-04\n",
            "Epoch 91/100\n",
            "387/387 [==============================] - 1s 4ms/step - loss: 0.0704 - accuracy: 0.2171 - val_loss: 103740657247453184.0000 - val_accuracy: 2.6390e-04\n",
            "Epoch 92/100\n",
            "387/387 [==============================] - 2s 4ms/step - loss: 0.0704 - accuracy: 0.2160 - val_loss: 103740657247453184.0000 - val_accuracy: 2.6390e-04\n",
            "Epoch 93/100\n",
            "387/387 [==============================] - 1s 4ms/step - loss: 0.0704 - accuracy: 0.2152 - val_loss: 103740657247453184.0000 - val_accuracy: 2.6390e-04\n",
            "Epoch 94/100\n",
            "387/387 [==============================] - 1s 4ms/step - loss: 0.0704 - accuracy: 0.2098 - val_loss: 103740657247453184.0000 - val_accuracy: 2.6390e-04\n",
            "Epoch 95/100\n",
            "387/387 [==============================] - 2s 5ms/step - loss: 0.0704 - accuracy: 0.2051 - val_loss: 103740657247453184.0000 - val_accuracy: 2.6390e-04\n",
            "Epoch 96/100\n",
            "387/387 [==============================] - 2s 5ms/step - loss: 0.0704 - accuracy: 0.2047 - val_loss: 103740657247453184.0000 - val_accuracy: 2.6390e-04\n",
            "Epoch 97/100\n",
            "387/387 [==============================] - 1s 4ms/step - loss: 0.0704 - accuracy: 0.2113 - val_loss: 103740657247453184.0000 - val_accuracy: 2.6390e-04\n",
            "Epoch 98/100\n",
            "387/387 [==============================] - 1s 4ms/step - loss: 0.0704 - accuracy: 0.2113 - val_loss: 103740657247453184.0000 - val_accuracy: 2.6390e-04\n",
            "Epoch 99/100\n",
            "387/387 [==============================] - 1s 4ms/step - loss: 0.0704 - accuracy: 0.2159 - val_loss: 103740657247453184.0000 - val_accuracy: 2.6390e-04\n",
            "Epoch 100/100\n",
            "387/387 [==============================] - 2s 4ms/step - loss: 0.0704 - accuracy: 0.2194 - val_loss: 103740657247453184.0000 - val_accuracy: 2.6390e-04\n"
          ]
        }
      ],
      "source": [
        "if model_selection[model_flag]==\"ALL\" or model_selection[model_flag] == \"AE\":\n",
        "  # training the model on training dataset\n",
        "  history = autoencoder.fit(X_train, X_train, epochs=100,batch_size=500,validation_data=(X_test, X_test)).history"
      ]
    },
    {
      "cell_type": "code",
      "execution_count": null,
      "metadata": {
        "id": "AdtR3-9xLliU",
        "colab": {
          "base_uri": "https://localhost:8080/"
        },
        "outputId": "b3f84747-1c2c-4e67-9bdd-212054e61947"
      },
      "outputs": [
        {
          "output_type": "stream",
          "name": "stdout",
          "text": [
            "Saved model to disk\n",
            "Loaded model from disk\n"
          ]
        }
      ],
      "source": [
        "if model_selection[model_flag]==\"ALL\" or model_selection[model_flag] == \"AE\":\n",
        "  filepath = '/content/drive/MyDrive/Colab_Notebooks/Models/ae_binary'+model_name_suffix+'.json'\n",
        "  weightspath = '/content/drive/MyDrive/Colab_Notebooks/Weights/ae_binary'+model_name_suffix+'.h5'\n",
        "  if (not path.isfile(filepath)): \n",
        "    # serialize model to JSON\n",
        "    autoencoder_json = autoencoder.to_json()\n",
        "    with open(filepath, \"w\") as json_file:\n",
        "      json_file.write(autoencoder_json)\n",
        "\n",
        "    # serialize weights to HDF5\n",
        "    autoencoder.save_weights(weightspath)\n",
        "    print(\"Saved model to disk\")\n",
        "\n",
        "    # load json and create model\n",
        "    json_file = open(filepath, 'r')\n",
        "    loaded_model_json = json_file.read()\n",
        "    json_file.close()\n",
        "    autoencoder = model_from_json(loaded_model_json)\n",
        "\n",
        "    # load weights into new model\n",
        "    autoencoder.load_weights(weightspath)\n",
        "    print(\"Loaded model from disk\")"
      ]
    },
    {
      "cell_type": "code",
      "execution_count": null,
      "metadata": {
        "id": "Wqr6HVtMLwx9"
      },
      "outputs": [],
      "source": [
        "if model_selection[model_flag]==\"ALL\" or model_selection[model_flag] == \"AE\":\n",
        "  # defining loss function, optimizer, metrics and then compiling model\n",
        "  autoencoder.compile(optimizer='adam', loss='mean_squared_error',metrics=['accuracy'])"
      ]
    },
    {
      "cell_type": "code",
      "execution_count": null,
      "metadata": {
        "id": "FQrjCk2hL09x",
        "colab": {
          "base_uri": "https://localhost:8080/"
        },
        "outputId": "2da35123-0d46-4f4d-dab3-61d80169c82f"
      },
      "outputs": [
        {
          "output_type": "stream",
          "name": "stdout",
          "text": [
            "2014/2014 [==============================] - 5s 3ms/step - loss: 103740528398434304.0000 - accuracy: 2.6390e-04\n",
            "Test results - Loss: 1.037405283984343e+17 - Accuracy: 0.00026389729464426637%\n"
          ]
        }
      ],
      "source": [
        "if model_selection[model_flag]==\"ALL\" or model_selection[model_flag] == \"AE\":\n",
        "  # predicting target attribute on testing dataset\n",
        "  test_results = autoencoder.evaluate(X_test, X_test, verbose=1)\n",
        "  print(f'Test results - Loss: {test_results[0]} - Accuracy: {test_results[1]}%')"
      ]
    },
    {
      "cell_type": "code",
      "execution_count": null,
      "metadata": {
        "id": "VqQsjSZcL1-B",
        "colab": {
          "base_uri": "https://localhost:8080/",
          "height": 472
        },
        "outputId": "da563927-93c4-44c7-9331-24e0885034d1"
      },
      "outputs": [
        {
          "output_type": "display_data",
          "data": {
            "text/plain": [
              "<Figure size 640x480 with 1 Axes>"
            ],
            "image/png": "[encoded data removed]"
          },
          "metadata": {}
        }
      ],
      "source": [
        "if model_selection[model_flag]==\"ALL\" or model_selection[model_flag] == \"AE\":\n",
        "  # Plot of loss vs epoch of train and test dataset\n",
        "  plt.plot(history['loss'])\n",
        "  plt.plot(history['val_loss'])\n",
        "  plt.title(\"Plot of loss vs epoch for train and test dataset\")\n",
        "  plt.ylabel('loss')\n",
        "  plt.xlabel('epoch')\n",
        "  plt.legend(['train', 'test'], loc='upper right')\n",
        "  plt.savefig('/content/drive/MyDrive/Colab_Notebooks/Plots/ae_binary_loss.png')\n",
        "  plt.show()"
      ]
    },
    {
      "cell_type": "code",
      "execution_count": null,
      "metadata": {
        "id": "fkjD9QXKL25Z",
        "colab": {
          "base_uri": "https://localhost:8080/",
          "height": 472
        },
        "outputId": "3563631e-bdf8-4222-d7e7-0aafb70ae694"
      },
      "outputs": [
        {
          "output_type": "display_data",
          "data": {
            "text/plain": [
              "<Figure size 640x480 with 1 Axes>"
            ],
            "image/png": "[encoded data removed]"
          },
          "metadata": {}
        }
      ],
      "source": [
        "if model_selection[model_flag]==\"ALL\" or model_selection[model_flag] == \"AE\":\n",
        "  # Plot of accuracy vs epoch of train and test dataset\n",
        "  plt.plot(history['accuracy'])\n",
        "  plt.plot(history['val_accuracy'])\n",
        "  plt.title(\"Plot of accuracy vs epoch for train and test dataset\")\n",
        "  plt.ylabel('accuracy')\n",
        "  plt.xlabel('epoch')\n",
        "  plt.legend(['train', 'test'], loc='best')\n",
        "  plt.savefig('/content/drive/MyDrive/Colab_Notebooks/Plots/ae_binary_accuracy.png')\n",
        "  plt.show()"
      ]
    },
    {
      "cell_type": "code",
      "execution_count": null,
      "metadata": {
        "id": "lf9q83sBMGPD"
      },
      "outputs": [],
      "source": [
        "if model_selection[model_flag]==\"ALL\" or model_selection[model_flag] == \"AE\":\n",
        "  # representation of model layers\n",
        "  plot_model(autoencoder, to_file='/content/drive/MyDrive/Colab_Notebooks/Plots/ae_binary.png', show_shapes=True,)"
      ]
    },
    {
      "cell_type": "code",
      "execution_count": null,
      "metadata": {
        "id": "SFIXKGwuMLFo",
        "colab": {
          "base_uri": "https://localhost:8080/"
        },
        "outputId": "c4113d3e-7173-4e50-a216-1adcfaf2a19a"
      },
      "outputs": [
        {
          "output_type": "stream",
          "name": "stdout",
          "text": [
            "2014/2014 [==============================] - 4s 2ms/step\n"
          ]
        }
      ],
      "source": [
        "if model_selection[model_flag]==\"ALL\" or model_selection[model_flag] == \"AE\":\n",
        "  # calculating reconstruction error \n",
        "  predictions = autoencoder.predict(X_test)"
      ]
    },
    {
      "cell_type": "code",
      "execution_count": null,
      "metadata": {
        "id": "cqKJCyZnMMEG"
      },
      "outputs": [],
      "source": [
        "if model_selection[model_flag]==\"ALL\" or model_selection[model_flag] == \"AE\":\n",
        "  mse = np.mean(np.power(X_test - predictions, 2), axis=1)\n",
        "  error_df = pd.DataFrame({'reconstruction_error': mse,\n",
        "                           'true_class': y_test})"
      ]
    },
    {
      "cell_type": "code",
      "execution_count": null,
      "metadata": {
        "id": "EdQJudbDMhmB",
        "colab": {
          "base_uri": "https://localhost:8080/"
        },
        "outputId": "ebc38737-32d4-42cd-8795-9eb258d7d754"
      },
      "outputs": [
        {
          "output_type": "stream",
          "name": "stdout",
          "text": [
            "(64419, 56)\n"
          ]
        }
      ],
      "source": [
        "if model_selection[model_flag]==\"ALL\" or model_selection[model_flag] == \"AE\":\n",
        "  error_df.describe()\n",
        "  print(predictions.shape)"
      ]
    },
    {
      "cell_type": "markdown",
      "metadata": {
        "id": "PHsaAAMmNQrs"
      },
      "source": [
        "## **AE Classifier**"
      ]
    },
    {
      "cell_type": "code",
      "execution_count": null,
      "metadata": {
        "id": "1hK07LDBMoZg"
      },
      "outputs": [],
      "source": [
        "if model_selection[model_flag]==\"ALL\" or model_selection[model_flag] == \"AE\":\n",
        "  i_dim = predictions.shape[1]\n",
        "\n",
        "  #input layer\n",
        "  i_layer = Input(shape=(i_dim, ))\n",
        "  #hidden layer with 50 neurons\n",
        "  fvector = Dense(50, activation=\"sigmoid\")(i_layer)                    \n",
        "  #doutput layer\n",
        "  o_layer = Dense(1, activation='sigmoid')(fvector)"
      ]
    },
    {
      "cell_type": "code",
      "execution_count": null,
      "metadata": {
        "id": "Efq77rVINXWE"
      },
      "outputs": [],
      "source": [
        "if model_selection[model_flag]==\"ALL\" or model_selection[model_flag] == \"AE\":\n",
        "  # creating model with input, encoding, decoding, output layers\n",
        "  ae_classifier = Model(inputs=i_layer, outputs=o_layer)\n",
        "\n",
        "  # defining loss function, optimizer, metrics and then compiling model\n",
        "  ae_classifier.compile(optimizer='adam', loss='binary_crossentropy',metrics=['accuracy'])"
      ]
    },
    {
      "cell_type": "code",
      "execution_count": null,
      "metadata": {
        "id": "0Yl594VGNX1W",
        "colab": {
          "base_uri": "https://localhost:8080/"
        },
        "outputId": "23fd1e37-fa5c-44a0-888a-137f94b9df87"
      },
      "outputs": [
        {
          "output_type": "stream",
          "name": "stdout",
          "text": [
            "Model: \"model_1\"\n",
            "_________________________________________________________________\n",
            " Layer (type)                Output Shape              Param #   \n",
            "=================================================================\n",
            " input_2 (InputLayer)        [(None, 56)]              0         \n",
            "                                                                 \n",
            " dense_5 (Dense)             (None, 50)                2850      \n",
            "                                                                 \n",
            " dense_6 (Dense)             (None, 1)                 51        \n",
            "                                                                 \n",
            "=================================================================\n",
            "Total params: 2,901\n",
            "Trainable params: 2,901\n",
            "Non-trainable params: 0\n",
            "_________________________________________________________________\n"
          ]
        }
      ],
      "source": [
        "if model_selection[model_flag]==\"ALL\" or model_selection[model_flag] == \"AE\":\n",
        "  # summary of model layers\n",
        "  ae_classifier.summary()"
      ]
    },
    {
      "cell_type": "code",
      "execution_count": null,
      "metadata": {
        "id": "23n8Qt0uNX8Z",
        "colab": {
          "base_uri": "https://localhost:8080/"
        },
        "outputId": "f684bfb7-0d62-4b44-f871-fd759870ef70"
      },
      "outputs": [
        {
          "output_type": "stream",
          "name": "stdout",
          "text": [
            "Epoch 1/300\n",
            "104/104 [==============================] - 1s 5ms/step - loss: 0.6813 - accuracy: 0.5663 - val_loss: 0.6316 - val_accuracy: 0.6455\n",
            "Epoch 2/300\n",
            "104/104 [==============================] - 0s 4ms/step - loss: 0.6283 - accuracy: 0.6376 - val_loss: 0.6205 - val_accuracy: 0.6455\n",
            "Epoch 3/300\n",
            "104/104 [==============================] - 0s 4ms/step - loss: 0.6197 - accuracy: 0.6674 - val_loss: 0.6159 - val_accuracy: 0.6787\n",
            "Epoch 4/300\n",
            "104/104 [==============================] - 0s 4ms/step - loss: 0.6159 - accuracy: 0.6817 - val_loss: 0.6139 - val_accuracy: 0.6787\n",
            "Epoch 5/300\n",
            "104/104 [==============================] - 0s 4ms/step - loss: 0.6146 - accuracy: 0.6817 - val_loss: 0.6135 - val_accuracy: 0.6787\n",
            "Epoch 6/300\n",
            "104/104 [==============================] - 0s 4ms/step - loss: 0.6143 - accuracy: 0.6817 - val_loss: 0.6134 - val_accuracy: 0.6787\n",
            "Epoch 7/300\n",
            "104/104 [==============================] - 0s 4ms/step - loss: 0.6142 - accuracy: 0.6817 - val_loss: 0.6134 - val_accuracy: 0.6788\n",
            "Epoch 8/300\n",
            "104/104 [==============================] - 0s 4ms/step - loss: 0.6140 - accuracy: 0.6817 - val_loss: 0.6133 - val_accuracy: 0.6788\n",
            "Epoch 9/300\n",
            "104/104 [==============================] - 0s 4ms/step - loss: 0.6139 - accuracy: 0.6817 - val_loss: 0.6133 - val_accuracy: 0.6792\n",
            "Epoch 10/300\n",
            "104/104 [==============================] - 0s 4ms/step - loss: 0.6139 - accuracy: 0.6818 - val_loss: 0.6134 - val_accuracy: 0.6792\n",
            "Epoch 11/300\n",
            "104/104 [==============================] - 0s 4ms/step - loss: 0.6139 - accuracy: 0.6818 - val_loss: 0.6134 - val_accuracy: 0.6792\n",
            "Epoch 12/300\n",
            "104/104 [==============================] - 0s 4ms/step - loss: 0.6138 - accuracy: 0.6818 - val_loss: 0.6140 - val_accuracy: 0.6792\n",
            "Epoch 13/300\n",
            "104/104 [==============================] - 0s 4ms/step - loss: 0.6138 - accuracy: 0.6818 - val_loss: 0.6135 - val_accuracy: 0.6792\n",
            "Epoch 14/300\n",
            "104/104 [==============================] - 1s 5ms/step - loss: 0.6138 - accuracy: 0.6818 - val_loss: 0.6130 - val_accuracy: 0.6792\n",
            "Epoch 15/300\n",
            "104/104 [==============================] - 1s 6ms/step - loss: 0.6138 - accuracy: 0.6818 - val_loss: 0.6130 - val_accuracy: 0.6792\n",
            "Epoch 16/300\n",
            "104/104 [==============================] - 1s 5ms/step - loss: 0.6137 - accuracy: 0.6818 - val_loss: 0.6133 - val_accuracy: 0.6792\n",
            "Epoch 17/300\n",
            "104/104 [==============================] - 1s 6ms/step - loss: 0.6138 - accuracy: 0.6818 - val_loss: 0.6132 - val_accuracy: 0.6792\n",
            "Epoch 18/300\n",
            "104/104 [==============================] - 1s 6ms/step - loss: 0.6137 - accuracy: 0.6818 - val_loss: 0.6130 - val_accuracy: 0.6792\n",
            "Epoch 19/300\n",
            "104/104 [==============================] - 1s 5ms/step - loss: 0.6137 - accuracy: 0.6818 - val_loss: 0.6129 - val_accuracy: 0.6792\n",
            "Epoch 20/300\n",
            "104/104 [==============================] - 0s 4ms/step - loss: 0.6137 - accuracy: 0.6818 - val_loss: 0.6135 - val_accuracy: 0.6792\n",
            "Epoch 21/300\n",
            "104/104 [==============================] - 0s 4ms/step - loss: 0.6136 - accuracy: 0.6818 - val_loss: 0.6129 - val_accuracy: 0.6792\n",
            "Epoch 22/300\n",
            "104/104 [==============================] - 0s 4ms/step - loss: 0.6137 - accuracy: 0.6818 - val_loss: 0.6128 - val_accuracy: 0.6792\n",
            "Epoch 23/300\n",
            "104/104 [==============================] - 0s 4ms/step - loss: 0.6137 - accuracy: 0.6818 - val_loss: 0.6128 - val_accuracy: 0.6792\n",
            "Epoch 24/300\n",
            "104/104 [==============================] - 0s 4ms/step - loss: 0.6137 - accuracy: 0.6818 - val_loss: 0.6129 - val_accuracy: 0.6792\n",
            "Epoch 25/300\n",
            "104/104 [==============================] - 0s 4ms/step - loss: 0.6137 - accuracy: 0.6818 - val_loss: 0.6129 - val_accuracy: 0.6792\n",
            "Epoch 26/300\n",
            "104/104 [==============================] - 0s 4ms/step - loss: 0.6137 - accuracy: 0.6818 - val_loss: 0.6129 - val_accuracy: 0.6792\n",
            "Epoch 27/300\n",
            "104/104 [==============================] - 0s 4ms/step - loss: 0.6136 - accuracy: 0.6818 - val_loss: 0.6129 - val_accuracy: 0.6792\n",
            "Epoch 28/300\n",
            "104/104 [==============================] - 0s 4ms/step - loss: 0.6136 - accuracy: 0.6818 - val_loss: 0.6134 - val_accuracy: 0.6792\n",
            "Epoch 29/300\n",
            "104/104 [==============================] - 0s 4ms/step - loss: 0.6136 - accuracy: 0.6818 - val_loss: 0.6136 - val_accuracy: 0.6792\n",
            "Epoch 30/300\n",
            "104/104 [==============================] - 0s 4ms/step - loss: 0.6136 - accuracy: 0.6818 - val_loss: 0.6129 - val_accuracy: 0.6792\n",
            "Epoch 31/300\n",
            "104/104 [==============================] - 0s 4ms/step - loss: 0.6136 - accuracy: 0.6818 - val_loss: 0.6129 - val_accuracy: 0.6792\n",
            "Epoch 32/300\n",
            "104/104 [==============================] - 0s 4ms/step - loss: 0.6135 - accuracy: 0.6818 - val_loss: 0.6131 - val_accuracy: 0.6792\n",
            "Epoch 33/300\n",
            "104/104 [==============================] - 0s 4ms/step - loss: 0.6136 - accuracy: 0.6818 - val_loss: 0.6128 - val_accuracy: 0.6792\n",
            "Epoch 34/300\n",
            "104/104 [==============================] - 0s 4ms/step - loss: 0.6136 - accuracy: 0.6818 - val_loss: 0.6137 - val_accuracy: 0.6792\n",
            "Epoch 35/300\n",
            "104/104 [==============================] - 0s 4ms/step - loss: 0.6136 - accuracy: 0.6818 - val_loss: 0.6129 - val_accuracy: 0.6792\n",
            "Epoch 36/300\n",
            "104/104 [==============================] - 0s 4ms/step - loss: 0.6135 - accuracy: 0.6818 - val_loss: 0.6133 - val_accuracy: 0.6792\n",
            "Epoch 37/300\n",
            "104/104 [==============================] - 0s 4ms/step - loss: 0.6137 - accuracy: 0.6818 - val_loss: 0.6128 - val_accuracy: 0.6792\n",
            "Epoch 38/300\n",
            "104/104 [==============================] - 0s 4ms/step - loss: 0.6135 - accuracy: 0.6818 - val_loss: 0.6133 - val_accuracy: 0.6792\n",
            "Epoch 39/300\n",
            "104/104 [==============================] - 0s 4ms/step - loss: 0.6136 - accuracy: 0.6818 - val_loss: 0.6143 - val_accuracy: 0.6792\n",
            "Epoch 40/300\n",
            "104/104 [==============================] - 0s 4ms/step - loss: 0.6138 - accuracy: 0.6818 - val_loss: 0.6133 - val_accuracy: 0.6792\n",
            "Epoch 41/300\n",
            "104/104 [==============================] - 0s 4ms/step - loss: 0.6137 - accuracy: 0.6818 - val_loss: 0.6133 - val_accuracy: 0.6792\n",
            "Epoch 42/300\n",
            "104/104 [==============================] - 0s 4ms/step - loss: 0.6136 - accuracy: 0.6818 - val_loss: 0.6134 - val_accuracy: 0.6792\n",
            "Epoch 43/300\n",
            "104/104 [==============================] - 0s 4ms/step - loss: 0.6136 - accuracy: 0.6818 - val_loss: 0.6129 - val_accuracy: 0.6792\n",
            "Epoch 44/300\n",
            "104/104 [==============================] - 0s 5ms/step - loss: 0.6137 - accuracy: 0.6818 - val_loss: 0.6128 - val_accuracy: 0.6792\n",
            "Epoch 45/300\n",
            "104/104 [==============================] - 1s 6ms/step - loss: 0.6138 - accuracy: 0.6818 - val_loss: 0.6134 - val_accuracy: 0.6792\n",
            "Epoch 46/300\n",
            "104/104 [==============================] - 1s 6ms/step - loss: 0.6136 - accuracy: 0.6818 - val_loss: 0.6135 - val_accuracy: 0.6792\n",
            "Epoch 47/300\n",
            "104/104 [==============================] - 1s 5ms/step - loss: 0.6136 - accuracy: 0.6818 - val_loss: 0.6130 - val_accuracy: 0.6792\n",
            "Epoch 48/300\n",
            "104/104 [==============================] - 1s 6ms/step - loss: 0.6135 - accuracy: 0.6818 - val_loss: 0.6131 - val_accuracy: 0.6792\n",
            "Epoch 49/300\n",
            "104/104 [==============================] - 1s 6ms/step - loss: 0.6136 - accuracy: 0.6818 - val_loss: 0.6129 - val_accuracy: 0.6792\n",
            "Epoch 50/300\n",
            "104/104 [==============================] - 0s 4ms/step - loss: 0.6135 - accuracy: 0.6818 - val_loss: 0.6128 - val_accuracy: 0.6792\n",
            "Epoch 51/300\n",
            "104/104 [==============================] - 0s 4ms/step - loss: 0.6135 - accuracy: 0.6818 - val_loss: 0.6132 - val_accuracy: 0.6792\n",
            "Epoch 52/300\n",
            "104/104 [==============================] - 0s 4ms/step - loss: 0.6135 - accuracy: 0.6818 - val_loss: 0.6128 - val_accuracy: 0.6791\n",
            "Epoch 53/300\n",
            "104/104 [==============================] - 0s 4ms/step - loss: 0.6136 - accuracy: 0.6818 - val_loss: 0.6131 - val_accuracy: 0.6792\n",
            "Epoch 54/300\n",
            "104/104 [==============================] - 0s 4ms/step - loss: 0.6135 - accuracy: 0.6818 - val_loss: 0.6128 - val_accuracy: 0.6791\n",
            "Epoch 55/300\n",
            "104/104 [==============================] - 0s 4ms/step - loss: 0.6136 - accuracy: 0.6818 - val_loss: 0.6128 - val_accuracy: 0.6792\n",
            "Epoch 56/300\n",
            "104/104 [==============================] - 0s 4ms/step - loss: 0.6135 - accuracy: 0.6818 - val_loss: 0.6128 - val_accuracy: 0.6792\n",
            "Epoch 57/300\n",
            "104/104 [==============================] - 0s 4ms/step - loss: 0.6137 - accuracy: 0.6818 - val_loss: 0.6130 - val_accuracy: 0.6792\n",
            "Epoch 58/300\n",
            "104/104 [==============================] - 0s 4ms/step - loss: 0.6136 - accuracy: 0.6818 - val_loss: 0.6135 - val_accuracy: 0.6792\n",
            "Epoch 59/300\n",
            "104/104 [==============================] - 0s 4ms/step - loss: 0.6137 - accuracy: 0.6818 - val_loss: 0.6128 - val_accuracy: 0.6791\n",
            "Epoch 60/300\n",
            "104/104 [==============================] - 0s 4ms/step - loss: 0.6135 - accuracy: 0.6818 - val_loss: 0.6128 - val_accuracy: 0.6792\n",
            "Epoch 61/300\n",
            "104/104 [==============================] - 0s 4ms/step - loss: 0.6137 - accuracy: 0.6818 - val_loss: 0.6129 - val_accuracy: 0.6792\n",
            "Epoch 62/300\n",
            "104/104 [==============================] - 0s 4ms/step - loss: 0.6135 - accuracy: 0.6818 - val_loss: 0.6128 - val_accuracy: 0.6792\n",
            "Epoch 63/300\n",
            "104/104 [==============================] - 0s 4ms/step - loss: 0.6136 - accuracy: 0.6818 - val_loss: 0.6143 - val_accuracy: 0.6792\n",
            "Epoch 64/300\n",
            "104/104 [==============================] - 0s 4ms/step - loss: 0.6138 - accuracy: 0.6818 - val_loss: 0.6133 - val_accuracy: 0.6792\n",
            "Epoch 65/300\n",
            "104/104 [==============================] - 0s 4ms/step - loss: 0.6136 - accuracy: 0.6818 - val_loss: 0.6128 - val_accuracy: 0.6792\n",
            "Epoch 66/300\n",
            "104/104 [==============================] - 0s 4ms/step - loss: 0.6136 - accuracy: 0.6818 - val_loss: 0.6129 - val_accuracy: 0.6791\n",
            "Epoch 67/300\n",
            "104/104 [==============================] - 0s 4ms/step - loss: 0.6136 - accuracy: 0.6818 - val_loss: 0.6131 - val_accuracy: 0.6792\n",
            "Epoch 68/300\n",
            "104/104 [==============================] - 0s 4ms/step - loss: 0.6135 - accuracy: 0.6818 - val_loss: 0.6128 - val_accuracy: 0.6791\n",
            "Epoch 69/300\n",
            "104/104 [==============================] - 0s 4ms/step - loss: 0.6135 - accuracy: 0.6818 - val_loss: 0.6130 - val_accuracy: 0.6792\n",
            "Epoch 70/300\n",
            "104/104 [==============================] - 0s 4ms/step - loss: 0.6135 - accuracy: 0.6818 - val_loss: 0.6128 - val_accuracy: 0.6792\n",
            "Epoch 71/300\n",
            "104/104 [==============================] - 0s 4ms/step - loss: 0.6136 - accuracy: 0.6818 - val_loss: 0.6129 - val_accuracy: 0.6792\n",
            "Epoch 72/300\n",
            "104/104 [==============================] - 0s 4ms/step - loss: 0.6134 - accuracy: 0.6818 - val_loss: 0.6128 - val_accuracy: 0.6792\n",
            "Epoch 73/300\n",
            "104/104 [==============================] - 0s 4ms/step - loss: 0.6138 - accuracy: 0.6818 - val_loss: 0.6133 - val_accuracy: 0.6792\n",
            "Epoch 74/300\n",
            "104/104 [==============================] - 1s 6ms/step - loss: 0.6135 - accuracy: 0.6818 - val_loss: 0.6128 - val_accuracy: 0.6792\n",
            "Epoch 75/300\n",
            "104/104 [==============================] - 1s 6ms/step - loss: 0.6136 - accuracy: 0.6818 - val_loss: 0.6129 - val_accuracy: 0.6792\n",
            "Epoch 76/300\n",
            "104/104 [==============================] - 1s 6ms/step - loss: 0.6136 - accuracy: 0.6818 - val_loss: 0.6128 - val_accuracy: 0.6792\n",
            "Epoch 77/300\n",
            "104/104 [==============================] - 1s 6ms/step - loss: 0.6136 - accuracy: 0.6818 - val_loss: 0.6128 - val_accuracy: 0.6792\n",
            "Epoch 78/300\n",
            "104/104 [==============================] - 1s 5ms/step - loss: 0.6135 - accuracy: 0.6818 - val_loss: 0.6129 - val_accuracy: 0.6792\n",
            "Epoch 79/300\n",
            "104/104 [==============================] - 1s 5ms/step - loss: 0.6136 - accuracy: 0.6818 - val_loss: 0.6132 - val_accuracy: 0.6792\n",
            "Epoch 80/300\n",
            "104/104 [==============================] - 0s 4ms/step - loss: 0.6136 - accuracy: 0.6818 - val_loss: 0.6128 - val_accuracy: 0.6792\n",
            "Epoch 81/300\n",
            "104/104 [==============================] - 0s 4ms/step - loss: 0.6136 - accuracy: 0.6818 - val_loss: 0.6127 - val_accuracy: 0.6792\n",
            "Epoch 82/300\n",
            "104/104 [==============================] - 0s 4ms/step - loss: 0.6136 - accuracy: 0.6818 - val_loss: 0.6135 - val_accuracy: 0.6792\n",
            "Epoch 83/300\n",
            "104/104 [==============================] - 0s 4ms/step - loss: 0.6136 - accuracy: 0.6818 - val_loss: 0.6130 - val_accuracy: 0.6792\n",
            "Epoch 84/300\n",
            "104/104 [==============================] - 0s 4ms/step - loss: 0.6135 - accuracy: 0.6818 - val_loss: 0.6130 - val_accuracy: 0.6792\n",
            "Epoch 85/300\n",
            "104/104 [==============================] - 0s 4ms/step - loss: 0.6135 - accuracy: 0.6818 - val_loss: 0.6128 - val_accuracy: 0.6792\n",
            "Epoch 86/300\n",
            "104/104 [==============================] - 0s 4ms/step - loss: 0.6137 - accuracy: 0.6818 - val_loss: 0.6128 - val_accuracy: 0.6792\n",
            "Epoch 87/300\n",
            "104/104 [==============================] - 0s 4ms/step - loss: 0.6136 - accuracy: 0.6818 - val_loss: 0.6129 - val_accuracy: 0.6792\n",
            "Epoch 88/300\n",
            "104/104 [==============================] - 0s 4ms/step - loss: 0.6135 - accuracy: 0.6818 - val_loss: 0.6128 - val_accuracy: 0.6792\n",
            "Epoch 89/300\n",
            "104/104 [==============================] - 0s 4ms/step - loss: 0.6135 - accuracy: 0.6818 - val_loss: 0.6129 - val_accuracy: 0.6792\n",
            "Epoch 90/300\n",
            "104/104 [==============================] - 0s 4ms/step - loss: 0.6135 - accuracy: 0.6818 - val_loss: 0.6128 - val_accuracy: 0.6792\n",
            "Epoch 91/300\n",
            "104/104 [==============================] - 0s 4ms/step - loss: 0.6138 - accuracy: 0.6818 - val_loss: 0.6136 - val_accuracy: 0.6792\n",
            "Epoch 92/300\n",
            "104/104 [==============================] - 0s 4ms/step - loss: 0.6136 - accuracy: 0.6818 - val_loss: 0.6127 - val_accuracy: 0.6792\n",
            "Epoch 93/300\n",
            "104/104 [==============================] - 0s 4ms/step - loss: 0.6136 - accuracy: 0.6818 - val_loss: 0.6128 - val_accuracy: 0.6792\n",
            "Epoch 94/300\n",
            "104/104 [==============================] - 0s 4ms/step - loss: 0.6136 - accuracy: 0.6818 - val_loss: 0.6127 - val_accuracy: 0.6792\n",
            "Epoch 95/300\n",
            "104/104 [==============================] - 0s 4ms/step - loss: 0.6136 - accuracy: 0.6818 - val_loss: 0.6127 - val_accuracy: 0.6792\n",
            "Epoch 96/300\n",
            "104/104 [==============================] - 0s 4ms/step - loss: 0.6135 - accuracy: 0.6818 - val_loss: 0.6129 - val_accuracy: 0.6792\n",
            "Epoch 97/300\n",
            "104/104 [==============================] - 0s 4ms/step - loss: 0.6134 - accuracy: 0.6818 - val_loss: 0.6130 - val_accuracy: 0.6791\n",
            "Epoch 98/300\n",
            "104/104 [==============================] - 0s 4ms/step - loss: 0.6135 - accuracy: 0.6818 - val_loss: 0.6128 - val_accuracy: 0.6792\n",
            "Epoch 99/300\n",
            "104/104 [==============================] - 0s 4ms/step - loss: 0.6135 - accuracy: 0.6818 - val_loss: 0.6128 - val_accuracy: 0.6792\n",
            "Epoch 100/300\n",
            "104/104 [==============================] - 0s 4ms/step - loss: 0.6135 - accuracy: 0.6818 - val_loss: 0.6132 - val_accuracy: 0.6792\n",
            "Epoch 101/300\n",
            "104/104 [==============================] - 0s 4ms/step - loss: 0.6135 - accuracy: 0.6818 - val_loss: 0.6129 - val_accuracy: 0.6792\n",
            "Epoch 102/300\n",
            "104/104 [==============================] - 0s 4ms/step - loss: 0.6135 - accuracy: 0.6818 - val_loss: 0.6130 - val_accuracy: 0.6792\n",
            "Epoch 103/300\n",
            "104/104 [==============================] - 0s 4ms/step - loss: 0.6135 - accuracy: 0.6818 - val_loss: 0.6128 - val_accuracy: 0.6792\n",
            "Epoch 104/300\n",
            "104/104 [==============================] - 1s 6ms/step - loss: 0.6135 - accuracy: 0.6818 - val_loss: 0.6128 - val_accuracy: 0.6792\n",
            "Epoch 105/300\n",
            "104/104 [==============================] - 1s 6ms/step - loss: 0.6138 - accuracy: 0.6818 - val_loss: 0.6131 - val_accuracy: 0.6792\n",
            "Epoch 106/300\n",
            "104/104 [==============================] - 1s 5ms/step - loss: 0.6135 - accuracy: 0.6818 - val_loss: 0.6129 - val_accuracy: 0.6792\n",
            "Epoch 107/300\n",
            "104/104 [==============================] - 1s 5ms/step - loss: 0.6136 - accuracy: 0.6818 - val_loss: 0.6128 - val_accuracy: 0.6792\n",
            "Epoch 108/300\n",
            "104/104 [==============================] - 1s 5ms/step - loss: 0.6135 - accuracy: 0.6818 - val_loss: 0.6128 - val_accuracy: 0.6792\n",
            "Epoch 109/300\n",
            "104/104 [==============================] - 1s 6ms/step - loss: 0.6136 - accuracy: 0.6818 - val_loss: 0.6130 - val_accuracy: 0.6792\n",
            "Epoch 110/300\n",
            "104/104 [==============================] - 0s 4ms/step - loss: 0.6135 - accuracy: 0.6818 - val_loss: 0.6128 - val_accuracy: 0.6792\n",
            "Epoch 111/300\n",
            "104/104 [==============================] - 0s 4ms/step - loss: 0.6136 - accuracy: 0.6818 - val_loss: 0.6131 - val_accuracy: 0.6792\n",
            "Epoch 112/300\n",
            "104/104 [==============================] - 0s 4ms/step - loss: 0.6135 - accuracy: 0.6818 - val_loss: 0.6129 - val_accuracy: 0.6792\n",
            "Epoch 113/300\n",
            "104/104 [==============================] - 0s 4ms/step - loss: 0.6136 - accuracy: 0.6818 - val_loss: 0.6131 - val_accuracy: 0.6792\n",
            "Epoch 114/300\n",
            "104/104 [==============================] - 0s 4ms/step - loss: 0.6135 - accuracy: 0.6818 - val_loss: 0.6127 - val_accuracy: 0.6792\n",
            "Epoch 115/300\n",
            "104/104 [==============================] - 0s 4ms/step - loss: 0.6136 - accuracy: 0.6818 - val_loss: 0.6128 - val_accuracy: 0.6791\n",
            "Epoch 116/300\n",
            "104/104 [==============================] - 0s 4ms/step - loss: 0.6136 - accuracy: 0.6818 - val_loss: 0.6130 - val_accuracy: 0.6792\n",
            "Epoch 117/300\n",
            "104/104 [==============================] - 0s 4ms/step - loss: 0.6136 - accuracy: 0.6818 - val_loss: 0.6130 - val_accuracy: 0.6792\n",
            "Epoch 118/300\n",
            "104/104 [==============================] - 0s 4ms/step - loss: 0.6135 - accuracy: 0.6818 - val_loss: 0.6133 - val_accuracy: 0.6792\n",
            "Epoch 119/300\n",
            "104/104 [==============================] - 0s 4ms/step - loss: 0.6137 - accuracy: 0.6818 - val_loss: 0.6128 - val_accuracy: 0.6792\n",
            "Epoch 120/300\n",
            "104/104 [==============================] - 0s 4ms/step - loss: 0.6135 - accuracy: 0.6818 - val_loss: 0.6128 - val_accuracy: 0.6792\n",
            "Epoch 121/300\n",
            "104/104 [==============================] - 0s 4ms/step - loss: 0.6136 - accuracy: 0.6818 - val_loss: 0.6135 - val_accuracy: 0.6792\n",
            "Epoch 122/300\n",
            "104/104 [==============================] - 0s 4ms/step - loss: 0.6137 - accuracy: 0.6818 - val_loss: 0.6129 - val_accuracy: 0.6792\n",
            "Epoch 123/300\n",
            "104/104 [==============================] - 0s 4ms/step - loss: 0.6136 - accuracy: 0.6818 - val_loss: 0.6128 - val_accuracy: 0.6792\n",
            "Epoch 124/300\n",
            "104/104 [==============================] - 0s 4ms/step - loss: 0.6136 - accuracy: 0.6818 - val_loss: 0.6128 - val_accuracy: 0.6792\n",
            "Epoch 125/300\n",
            "104/104 [==============================] - 0s 4ms/step - loss: 0.6136 - accuracy: 0.6818 - val_loss: 0.6129 - val_accuracy: 0.6792\n",
            "Epoch 126/300\n",
            "104/104 [==============================] - 0s 4ms/step - loss: 0.6136 - accuracy: 0.6818 - val_loss: 0.6130 - val_accuracy: 0.6792\n",
            "Epoch 127/300\n",
            "104/104 [==============================] - 0s 4ms/step - loss: 0.6135 - accuracy: 0.6818 - val_loss: 0.6131 - val_accuracy: 0.6792\n",
            "Epoch 128/300\n",
            "104/104 [==============================] - 0s 4ms/step - loss: 0.6135 - accuracy: 0.6818 - val_loss: 0.6131 - val_accuracy: 0.6792\n",
            "Epoch 129/300\n",
            "104/104 [==============================] - 0s 4ms/step - loss: 0.6136 - accuracy: 0.6818 - val_loss: 0.6131 - val_accuracy: 0.6792\n",
            "Epoch 130/300\n",
            "104/104 [==============================] - 0s 4ms/step - loss: 0.6134 - accuracy: 0.6818 - val_loss: 0.6129 - val_accuracy: 0.6792\n",
            "Epoch 131/300\n",
            "104/104 [==============================] - 0s 4ms/step - loss: 0.6136 - accuracy: 0.6818 - val_loss: 0.6128 - val_accuracy: 0.6792\n",
            "Epoch 132/300\n",
            "104/104 [==============================] - 0s 4ms/step - loss: 0.6135 - accuracy: 0.6818 - val_loss: 0.6128 - val_accuracy: 0.6792\n",
            "Epoch 133/300\n",
            "104/104 [==============================] - 0s 4ms/step - loss: 0.6136 - accuracy: 0.6818 - val_loss: 0.6128 - val_accuracy: 0.6792\n",
            "Epoch 134/300\n",
            "104/104 [==============================] - 1s 6ms/step - loss: 0.6136 - accuracy: 0.6818 - val_loss: 0.6130 - val_accuracy: 0.6792\n",
            "Epoch 135/300\n",
            "104/104 [==============================] - 1s 6ms/step - loss: 0.6135 - accuracy: 0.6818 - val_loss: 0.6128 - val_accuracy: 0.6792\n",
            "Epoch 136/300\n",
            "104/104 [==============================] - 1s 6ms/step - loss: 0.6135 - accuracy: 0.6818 - val_loss: 0.6141 - val_accuracy: 0.6792\n",
            "Epoch 137/300\n",
            "104/104 [==============================] - 1s 6ms/step - loss: 0.6137 - accuracy: 0.6818 - val_loss: 0.6128 - val_accuracy: 0.6792\n",
            "Epoch 138/300\n",
            "104/104 [==============================] - 1s 6ms/step - loss: 0.6136 - accuracy: 0.6818 - val_loss: 0.6131 - val_accuracy: 0.6792\n",
            "Epoch 139/300\n",
            "104/104 [==============================] - 1s 7ms/step - loss: 0.6135 - accuracy: 0.6818 - val_loss: 0.6128 - val_accuracy: 0.6792\n",
            "Epoch 140/300\n",
            "104/104 [==============================] - 0s 4ms/step - loss: 0.6136 - accuracy: 0.6818 - val_loss: 0.6128 - val_accuracy: 0.6792\n",
            "Epoch 141/300\n",
            "104/104 [==============================] - 0s 4ms/step - loss: 0.6136 - accuracy: 0.6818 - val_loss: 0.6127 - val_accuracy: 0.6792\n",
            "Epoch 142/300\n",
            "104/104 [==============================] - 0s 4ms/step - loss: 0.6135 - accuracy: 0.6818 - val_loss: 0.6128 - val_accuracy: 0.6791\n",
            "Epoch 143/300\n",
            "104/104 [==============================] - 0s 4ms/step - loss: 0.6135 - accuracy: 0.6818 - val_loss: 0.6128 - val_accuracy: 0.6792\n",
            "Epoch 144/300\n",
            "104/104 [==============================] - 0s 4ms/step - loss: 0.6138 - accuracy: 0.6818 - val_loss: 0.6130 - val_accuracy: 0.6792\n",
            "Epoch 145/300\n",
            "104/104 [==============================] - 0s 4ms/step - loss: 0.6135 - accuracy: 0.6818 - val_loss: 0.6131 - val_accuracy: 0.6792\n",
            "Epoch 146/300\n",
            "104/104 [==============================] - 0s 4ms/step - loss: 0.6135 - accuracy: 0.6818 - val_loss: 0.6127 - val_accuracy: 0.6792\n",
            "Epoch 147/300\n",
            "104/104 [==============================] - 0s 4ms/step - loss: 0.6135 - accuracy: 0.6818 - val_loss: 0.6127 - val_accuracy: 0.6792\n",
            "Epoch 148/300\n",
            "104/104 [==============================] - 0s 4ms/step - loss: 0.6136 - accuracy: 0.6818 - val_loss: 0.6132 - val_accuracy: 0.6791\n",
            "Epoch 149/300\n",
            "104/104 [==============================] - 0s 4ms/step - loss: 0.6136 - accuracy: 0.6818 - val_loss: 0.6128 - val_accuracy: 0.6792\n",
            "Epoch 150/300\n",
            "104/104 [==============================] - 0s 4ms/step - loss: 0.6136 - accuracy: 0.6818 - val_loss: 0.6129 - val_accuracy: 0.6792\n",
            "Epoch 151/300\n",
            "104/104 [==============================] - 0s 4ms/step - loss: 0.6136 - accuracy: 0.6818 - val_loss: 0.6130 - val_accuracy: 0.6792\n",
            "Epoch 152/300\n",
            "104/104 [==============================] - 0s 4ms/step - loss: 0.6135 - accuracy: 0.6818 - val_loss: 0.6130 - val_accuracy: 0.6792\n",
            "Epoch 153/300\n",
            "104/104 [==============================] - 0s 4ms/step - loss: 0.6136 - accuracy: 0.6818 - val_loss: 0.6128 - val_accuracy: 0.6792\n",
            "Epoch 154/300\n",
            "104/104 [==============================] - 0s 4ms/step - loss: 0.6135 - accuracy: 0.6818 - val_loss: 0.6132 - val_accuracy: 0.6792\n",
            "Epoch 155/300\n",
            "104/104 [==============================] - 0s 4ms/step - loss: 0.6135 - accuracy: 0.6818 - val_loss: 0.6128 - val_accuracy: 0.6792\n",
            "Epoch 156/300\n",
            "104/104 [==============================] - 0s 4ms/step - loss: 0.6137 - accuracy: 0.6818 - val_loss: 0.6129 - val_accuracy: 0.6791\n",
            "Epoch 157/300\n",
            "104/104 [==============================] - 0s 4ms/step - loss: 0.6136 - accuracy: 0.6818 - val_loss: 0.6132 - val_accuracy: 0.6792\n",
            "Epoch 158/300\n",
            "104/104 [==============================] - 0s 4ms/step - loss: 0.6137 - accuracy: 0.6818 - val_loss: 0.6128 - val_accuracy: 0.6792\n",
            "Epoch 159/300\n",
            "104/104 [==============================] - 0s 4ms/step - loss: 0.6135 - accuracy: 0.6818 - val_loss: 0.6132 - val_accuracy: 0.6792\n",
            "Epoch 160/300\n",
            "104/104 [==============================] - 0s 4ms/step - loss: 0.6134 - accuracy: 0.6818 - val_loss: 0.6128 - val_accuracy: 0.6792\n",
            "Epoch 161/300\n",
            "104/104 [==============================] - 0s 4ms/step - loss: 0.6136 - accuracy: 0.6818 - val_loss: 0.6141 - val_accuracy: 0.6792\n",
            "Epoch 162/300\n",
            "104/104 [==============================] - 0s 4ms/step - loss: 0.6136 - accuracy: 0.6818 - val_loss: 0.6129 - val_accuracy: 0.6792\n",
            "Epoch 163/300\n",
            "104/104 [==============================] - 1s 5ms/step - loss: 0.6134 - accuracy: 0.6818 - val_loss: 0.6129 - val_accuracy: 0.6792\n",
            "Epoch 164/300\n",
            "104/104 [==============================] - 1s 5ms/step - loss: 0.6136 - accuracy: 0.6818 - val_loss: 0.6131 - val_accuracy: 0.6792\n",
            "Epoch 165/300\n",
            "104/104 [==============================] - 1s 7ms/step - loss: 0.6135 - accuracy: 0.6818 - val_loss: 0.6128 - val_accuracy: 0.6792\n",
            "Epoch 166/300\n",
            "104/104 [==============================] - 1s 5ms/step - loss: 0.6135 - accuracy: 0.6818 - val_loss: 0.6129 - val_accuracy: 0.6792\n",
            "Epoch 167/300\n",
            "104/104 [==============================] - 1s 6ms/step - loss: 0.6134 - accuracy: 0.6818 - val_loss: 0.6128 - val_accuracy: 0.6792\n",
            "Epoch 168/300\n",
            "104/104 [==============================] - 1s 6ms/step - loss: 0.6136 - accuracy: 0.6818 - val_loss: 0.6135 - val_accuracy: 0.6792\n",
            "Epoch 169/300\n",
            "104/104 [==============================] - 0s 5ms/step - loss: 0.6135 - accuracy: 0.6818 - val_loss: 0.6128 - val_accuracy: 0.6792\n",
            "Epoch 170/300\n",
            "104/104 [==============================] - 0s 4ms/step - loss: 0.6135 - accuracy: 0.6818 - val_loss: 0.6128 - val_accuracy: 0.6792\n",
            "Epoch 171/300\n",
            "104/104 [==============================] - 0s 4ms/step - loss: 0.6134 - accuracy: 0.6818 - val_loss: 0.6132 - val_accuracy: 0.6792\n",
            "Epoch 172/300\n",
            "104/104 [==============================] - 0s 4ms/step - loss: 0.6135 - accuracy: 0.6818 - val_loss: 0.6128 - val_accuracy: 0.6792\n",
            "Epoch 173/300\n",
            "104/104 [==============================] - 0s 4ms/step - loss: 0.6135 - accuracy: 0.6818 - val_loss: 0.6140 - val_accuracy: 0.6792\n",
            "Epoch 174/300\n",
            "104/104 [==============================] - 0s 4ms/step - loss: 0.6137 - accuracy: 0.6818 - val_loss: 0.6130 - val_accuracy: 0.6791\n",
            "Epoch 175/300\n",
            "104/104 [==============================] - 0s 4ms/step - loss: 0.6136 - accuracy: 0.6818 - val_loss: 0.6130 - val_accuracy: 0.6792\n",
            "Epoch 176/300\n",
            "104/104 [==============================] - 0s 4ms/step - loss: 0.6135 - accuracy: 0.6818 - val_loss: 0.6131 - val_accuracy: 0.6792\n",
            "Epoch 177/300\n",
            "104/104 [==============================] - 0s 4ms/step - loss: 0.6135 - accuracy: 0.6818 - val_loss: 0.6128 - val_accuracy: 0.6792\n",
            "Epoch 178/300\n",
            "104/104 [==============================] - 0s 4ms/step - loss: 0.6134 - accuracy: 0.6818 - val_loss: 0.6133 - val_accuracy: 0.6792\n",
            "Epoch 179/300\n",
            "104/104 [==============================] - 0s 4ms/step - loss: 0.6135 - accuracy: 0.6818 - val_loss: 0.6132 - val_accuracy: 0.6792\n",
            "Epoch 180/300\n",
            "104/104 [==============================] - 0s 4ms/step - loss: 0.6136 - accuracy: 0.6818 - val_loss: 0.6128 - val_accuracy: 0.6792\n",
            "Epoch 181/300\n",
            "104/104 [==============================] - 0s 4ms/step - loss: 0.6136 - accuracy: 0.6818 - val_loss: 0.6134 - val_accuracy: 0.6792\n",
            "Epoch 182/300\n",
            "104/104 [==============================] - 0s 4ms/step - loss: 0.6135 - accuracy: 0.6818 - val_loss: 0.6130 - val_accuracy: 0.6792\n",
            "Epoch 183/300\n",
            "104/104 [==============================] - 0s 4ms/step - loss: 0.6135 - accuracy: 0.6818 - val_loss: 0.6129 - val_accuracy: 0.6791\n",
            "Epoch 184/300\n",
            "104/104 [==============================] - 0s 4ms/step - loss: 0.6138 - accuracy: 0.6818 - val_loss: 0.6128 - val_accuracy: 0.6792\n",
            "Epoch 185/300\n",
            "104/104 [==============================] - 0s 4ms/step - loss: 0.6135 - accuracy: 0.6818 - val_loss: 0.6127 - val_accuracy: 0.6792\n",
            "Epoch 186/300\n",
            "104/104 [==============================] - 0s 4ms/step - loss: 0.6137 - accuracy: 0.6818 - val_loss: 0.6129 - val_accuracy: 0.6792\n",
            "Epoch 187/300\n",
            "104/104 [==============================] - 0s 4ms/step - loss: 0.6135 - accuracy: 0.6818 - val_loss: 0.6130 - val_accuracy: 0.6791\n",
            "Epoch 188/300\n",
            "104/104 [==============================] - 0s 4ms/step - loss: 0.6137 - accuracy: 0.6818 - val_loss: 0.6139 - val_accuracy: 0.6792\n",
            "Epoch 189/300\n",
            "104/104 [==============================] - 0s 4ms/step - loss: 0.6137 - accuracy: 0.6818 - val_loss: 0.6128 - val_accuracy: 0.6792\n",
            "Epoch 190/300\n",
            "104/104 [==============================] - 0s 4ms/step - loss: 0.6136 - accuracy: 0.6818 - val_loss: 0.6132 - val_accuracy: 0.6792\n",
            "Epoch 191/300\n",
            "104/104 [==============================] - 0s 4ms/step - loss: 0.6136 - accuracy: 0.6818 - val_loss: 0.6129 - val_accuracy: 0.6792\n",
            "Epoch 192/300\n",
            "104/104 [==============================] - 0s 4ms/step - loss: 0.6135 - accuracy: 0.6818 - val_loss: 0.6129 - val_accuracy: 0.6792\n",
            "Epoch 193/300\n",
            "104/104 [==============================] - 1s 6ms/step - loss: 0.6135 - accuracy: 0.6818 - val_loss: 0.6132 - val_accuracy: 0.6792\n",
            "Epoch 194/300\n",
            "104/104 [==============================] - 1s 6ms/step - loss: 0.6135 - accuracy: 0.6818 - val_loss: 0.6129 - val_accuracy: 0.6792\n",
            "Epoch 195/300\n",
            "104/104 [==============================] - 1s 5ms/step - loss: 0.6135 - accuracy: 0.6818 - val_loss: 0.6129 - val_accuracy: 0.6792\n",
            "Epoch 196/300\n",
            "104/104 [==============================] - 1s 6ms/step - loss: 0.6136 - accuracy: 0.6818 - val_loss: 0.6129 - val_accuracy: 0.6792\n",
            "Epoch 197/300\n",
            "104/104 [==============================] - 1s 5ms/step - loss: 0.6135 - accuracy: 0.6818 - val_loss: 0.6129 - val_accuracy: 0.6792\n",
            "Epoch 198/300\n",
            "104/104 [==============================] - 1s 5ms/step - loss: 0.6134 - accuracy: 0.6818 - val_loss: 0.6131 - val_accuracy: 0.6792\n",
            "Epoch 199/300\n",
            "104/104 [==============================] - 0s 4ms/step - loss: 0.6134 - accuracy: 0.6818 - val_loss: 0.6128 - val_accuracy: 0.6792\n",
            "Epoch 200/300\n",
            "104/104 [==============================] - 0s 4ms/step - loss: 0.6136 - accuracy: 0.6818 - val_loss: 0.6128 - val_accuracy: 0.6791\n",
            "Epoch 201/300\n",
            "104/104 [==============================] - 0s 4ms/step - loss: 0.6136 - accuracy: 0.6818 - val_loss: 0.6130 - val_accuracy: 0.6792\n",
            "Epoch 202/300\n",
            "104/104 [==============================] - 0s 4ms/step - loss: 0.6135 - accuracy: 0.6818 - val_loss: 0.6134 - val_accuracy: 0.6792\n",
            "Epoch 203/300\n",
            "104/104 [==============================] - 0s 4ms/step - loss: 0.6135 - accuracy: 0.6818 - val_loss: 0.6128 - val_accuracy: 0.6792\n",
            "Epoch 204/300\n",
            "104/104 [==============================] - 0s 4ms/step - loss: 0.6135 - accuracy: 0.6818 - val_loss: 0.6134 - val_accuracy: 0.6792\n",
            "Epoch 205/300\n",
            "104/104 [==============================] - 0s 5ms/step - loss: 0.6135 - accuracy: 0.6818 - val_loss: 0.6138 - val_accuracy: 0.6792\n",
            "Epoch 206/300\n",
            "104/104 [==============================] - 0s 5ms/step - loss: 0.6136 - accuracy: 0.6818 - val_loss: 0.6128 - val_accuracy: 0.6792\n",
            "Epoch 207/300\n",
            "104/104 [==============================] - 0s 4ms/step - loss: 0.6135 - accuracy: 0.6818 - val_loss: 0.6128 - val_accuracy: 0.6792\n",
            "Epoch 208/300\n",
            "104/104 [==============================] - 0s 5ms/step - loss: 0.6135 - accuracy: 0.6818 - val_loss: 0.6130 - val_accuracy: 0.6792\n",
            "Epoch 209/300\n",
            "104/104 [==============================] - 0s 4ms/step - loss: 0.6136 - accuracy: 0.6818 - val_loss: 0.6133 - val_accuracy: 0.6792\n",
            "Epoch 210/300\n",
            "104/104 [==============================] - 0s 4ms/step - loss: 0.6135 - accuracy: 0.6818 - val_loss: 0.6127 - val_accuracy: 0.6792\n",
            "Epoch 211/300\n",
            "104/104 [==============================] - 0s 4ms/step - loss: 0.6136 - accuracy: 0.6818 - val_loss: 0.6129 - val_accuracy: 0.6792\n",
            "Epoch 212/300\n",
            "104/104 [==============================] - 0s 4ms/step - loss: 0.6135 - accuracy: 0.6818 - val_loss: 0.6135 - val_accuracy: 0.6792\n",
            "Epoch 213/300\n",
            "104/104 [==============================] - 0s 4ms/step - loss: 0.6137 - accuracy: 0.6818 - val_loss: 0.6127 - val_accuracy: 0.6792\n",
            "Epoch 214/300\n",
            "104/104 [==============================] - 0s 4ms/step - loss: 0.6137 - accuracy: 0.6818 - val_loss: 0.6135 - val_accuracy: 0.6792\n",
            "Epoch 215/300\n",
            "104/104 [==============================] - 0s 4ms/step - loss: 0.6136 - accuracy: 0.6818 - val_loss: 0.6128 - val_accuracy: 0.6792\n",
            "Epoch 216/300\n",
            "104/104 [==============================] - 0s 4ms/step - loss: 0.6136 - accuracy: 0.6818 - val_loss: 0.6130 - val_accuracy: 0.6791\n",
            "Epoch 217/300\n",
            "104/104 [==============================] - 1s 5ms/step - loss: 0.6135 - accuracy: 0.6818 - val_loss: 0.6152 - val_accuracy: 0.6792\n",
            "Epoch 218/300\n",
            "104/104 [==============================] - 0s 4ms/step - loss: 0.6135 - accuracy: 0.6818 - val_loss: 0.6132 - val_accuracy: 0.6792\n",
            "Epoch 219/300\n",
            "104/104 [==============================] - 0s 4ms/step - loss: 0.6135 - accuracy: 0.6818 - val_loss: 0.6128 - val_accuracy: 0.6792\n",
            "Epoch 220/300\n",
            "104/104 [==============================] - 0s 4ms/step - loss: 0.6136 - accuracy: 0.6818 - val_loss: 0.6127 - val_accuracy: 0.6792\n",
            "Epoch 221/300\n",
            "104/104 [==============================] - 0s 4ms/step - loss: 0.6136 - accuracy: 0.6818 - val_loss: 0.6128 - val_accuracy: 0.6792\n",
            "Epoch 222/300\n",
            "104/104 [==============================] - 1s 6ms/step - loss: 0.6136 - accuracy: 0.6818 - val_loss: 0.6128 - val_accuracy: 0.6792\n",
            "Epoch 223/300\n",
            "104/104 [==============================] - 1s 6ms/step - loss: 0.6136 - accuracy: 0.6818 - val_loss: 0.6128 - val_accuracy: 0.6792\n",
            "Epoch 224/300\n",
            "104/104 [==============================] - 1s 6ms/step - loss: 0.6135 - accuracy: 0.6818 - val_loss: 0.6133 - val_accuracy: 0.6792\n",
            "Epoch 225/300\n",
            "104/104 [==============================] - 1s 6ms/step - loss: 0.6136 - accuracy: 0.6818 - val_loss: 0.6130 - val_accuracy: 0.6792\n",
            "Epoch 226/300\n",
            "104/104 [==============================] - 1s 6ms/step - loss: 0.6135 - accuracy: 0.6818 - val_loss: 0.6130 - val_accuracy: 0.6792\n",
            "Epoch 227/300\n",
            "104/104 [==============================] - 1s 5ms/step - loss: 0.6137 - accuracy: 0.6818 - val_loss: 0.6129 - val_accuracy: 0.6792\n",
            "Epoch 228/300\n",
            "104/104 [==============================] - 0s 4ms/step - loss: 0.6136 - accuracy: 0.6818 - val_loss: 0.6128 - val_accuracy: 0.6792\n",
            "Epoch 229/300\n",
            "104/104 [==============================] - 0s 4ms/step - loss: 0.6136 - accuracy: 0.6818 - val_loss: 0.6127 - val_accuracy: 0.6792\n",
            "Epoch 230/300\n",
            "104/104 [==============================] - 0s 4ms/step - loss: 0.6135 - accuracy: 0.6818 - val_loss: 0.6127 - val_accuracy: 0.6792\n",
            "Epoch 231/300\n",
            "104/104 [==============================] - 0s 4ms/step - loss: 0.6135 - accuracy: 0.6818 - val_loss: 0.6132 - val_accuracy: 0.6792\n",
            "Epoch 232/300\n",
            "104/104 [==============================] - 0s 4ms/step - loss: 0.6134 - accuracy: 0.6818 - val_loss: 0.6128 - val_accuracy: 0.6792\n",
            "Epoch 233/300\n",
            "104/104 [==============================] - 0s 4ms/step - loss: 0.6137 - accuracy: 0.6818 - val_loss: 0.6129 - val_accuracy: 0.6792\n",
            "Epoch 234/300\n",
            "104/104 [==============================] - 0s 4ms/step - loss: 0.6135 - accuracy: 0.6818 - val_loss: 0.6141 - val_accuracy: 0.6792\n",
            "Epoch 235/300\n",
            "104/104 [==============================] - 0s 4ms/step - loss: 0.6135 - accuracy: 0.6818 - val_loss: 0.6128 - val_accuracy: 0.6792\n",
            "Epoch 236/300\n",
            "104/104 [==============================] - 0s 4ms/step - loss: 0.6136 - accuracy: 0.6818 - val_loss: 0.6127 - val_accuracy: 0.6792\n",
            "Epoch 237/300\n",
            "104/104 [==============================] - 0s 4ms/step - loss: 0.6137 - accuracy: 0.6818 - val_loss: 0.6127 - val_accuracy: 0.6792\n",
            "Epoch 238/300\n",
            "104/104 [==============================] - 0s 4ms/step - loss: 0.6135 - accuracy: 0.6818 - val_loss: 0.6127 - val_accuracy: 0.6792\n",
            "Epoch 239/300\n",
            "104/104 [==============================] - 0s 4ms/step - loss: 0.6135 - accuracy: 0.6818 - val_loss: 0.6134 - val_accuracy: 0.6792\n",
            "Epoch 240/300\n",
            "104/104 [==============================] - 0s 4ms/step - loss: 0.6135 - accuracy: 0.6818 - val_loss: 0.6129 - val_accuracy: 0.6792\n",
            "Epoch 241/300\n",
            "104/104 [==============================] - 0s 4ms/step - loss: 0.6135 - accuracy: 0.6818 - val_loss: 0.6128 - val_accuracy: 0.6792\n",
            "Epoch 242/300\n",
            "104/104 [==============================] - 0s 4ms/step - loss: 0.6137 - accuracy: 0.6818 - val_loss: 0.6131 - val_accuracy: 0.6792\n",
            "Epoch 243/300\n",
            "104/104 [==============================] - 0s 4ms/step - loss: 0.6137 - accuracy: 0.6818 - val_loss: 0.6128 - val_accuracy: 0.6792\n",
            "Epoch 244/300\n",
            "104/104 [==============================] - 0s 4ms/step - loss: 0.6135 - accuracy: 0.6818 - val_loss: 0.6132 - val_accuracy: 0.6792\n",
            "Epoch 245/300\n",
            "104/104 [==============================] - 0s 4ms/step - loss: 0.6135 - accuracy: 0.6818 - val_loss: 0.6129 - val_accuracy: 0.6792\n",
            "Epoch 246/300\n",
            "104/104 [==============================] - 0s 4ms/step - loss: 0.6135 - accuracy: 0.6818 - val_loss: 0.6130 - val_accuracy: 0.6792\n",
            "Epoch 247/300\n",
            "104/104 [==============================] - 0s 4ms/step - loss: 0.6135 - accuracy: 0.6818 - val_loss: 0.6135 - val_accuracy: 0.6792\n",
            "Epoch 248/300\n",
            "104/104 [==============================] - 0s 4ms/step - loss: 0.6137 - accuracy: 0.6818 - val_loss: 0.6130 - val_accuracy: 0.6792\n",
            "Epoch 249/300\n",
            "104/104 [==============================] - 0s 4ms/step - loss: 0.6135 - accuracy: 0.6818 - val_loss: 0.6135 - val_accuracy: 0.6792\n",
            "Epoch 250/300\n",
            "104/104 [==============================] - 0s 4ms/step - loss: 0.6135 - accuracy: 0.6818 - val_loss: 0.6135 - val_accuracy: 0.6792\n",
            "Epoch 251/300\n",
            "104/104 [==============================] - 1s 6ms/step - loss: 0.6135 - accuracy: 0.6818 - val_loss: 0.6130 - val_accuracy: 0.6792\n",
            "Epoch 252/300\n",
            "104/104 [==============================] - 1s 6ms/step - loss: 0.6135 - accuracy: 0.6818 - val_loss: 0.6128 - val_accuracy: 0.6792\n",
            "Epoch 253/300\n",
            "104/104 [==============================] - 1s 6ms/step - loss: 0.6135 - accuracy: 0.6818 - val_loss: 0.6129 - val_accuracy: 0.6792\n",
            "Epoch 254/300\n",
            "104/104 [==============================] - 1s 6ms/step - loss: 0.6136 - accuracy: 0.6818 - val_loss: 0.6128 - val_accuracy: 0.6792\n",
            "Epoch 255/300\n",
            "104/104 [==============================] - 1s 6ms/step - loss: 0.6135 - accuracy: 0.6818 - val_loss: 0.6128 - val_accuracy: 0.6792\n",
            "Epoch 256/300\n",
            "104/104 [==============================] - 1s 5ms/step - loss: 0.6135 - accuracy: 0.6818 - val_loss: 0.6128 - val_accuracy: 0.6792\n",
            "Epoch 257/300\n",
            "104/104 [==============================] - 0s 5ms/step - loss: 0.6135 - accuracy: 0.6818 - val_loss: 0.6127 - val_accuracy: 0.6792\n",
            "Epoch 258/300\n",
            "104/104 [==============================] - 0s 4ms/step - loss: 0.6135 - accuracy: 0.6818 - val_loss: 0.6129 - val_accuracy: 0.6792\n",
            "Epoch 259/300\n",
            "104/104 [==============================] - 0s 4ms/step - loss: 0.6135 - accuracy: 0.6818 - val_loss: 0.6131 - val_accuracy: 0.6792\n",
            "Epoch 260/300\n",
            "104/104 [==============================] - 0s 4ms/step - loss: 0.6135 - accuracy: 0.6818 - val_loss: 0.6128 - val_accuracy: 0.6792\n",
            "Epoch 261/300\n",
            "104/104 [==============================] - 0s 4ms/step - loss: 0.6135 - accuracy: 0.6818 - val_loss: 0.6127 - val_accuracy: 0.6792\n",
            "Epoch 262/300\n",
            "104/104 [==============================] - 0s 4ms/step - loss: 0.6136 - accuracy: 0.6818 - val_loss: 0.6130 - val_accuracy: 0.6792\n",
            "Epoch 263/300\n",
            "104/104 [==============================] - 0s 4ms/step - loss: 0.6137 - accuracy: 0.6818 - val_loss: 0.6128 - val_accuracy: 0.6792\n",
            "Epoch 264/300\n",
            "104/104 [==============================] - 0s 4ms/step - loss: 0.6134 - accuracy: 0.6818 - val_loss: 0.6128 - val_accuracy: 0.6792\n",
            "Epoch 265/300\n",
            "104/104 [==============================] - 0s 4ms/step - loss: 0.6135 - accuracy: 0.6818 - val_loss: 0.6135 - val_accuracy: 0.6792\n",
            "Epoch 266/300\n",
            "104/104 [==============================] - 0s 4ms/step - loss: 0.6137 - accuracy: 0.6818 - val_loss: 0.6128 - val_accuracy: 0.6792\n",
            "Epoch 267/300\n",
            "104/104 [==============================] - 0s 4ms/step - loss: 0.6135 - accuracy: 0.6818 - val_loss: 0.6129 - val_accuracy: 0.6792\n",
            "Epoch 268/300\n",
            "104/104 [==============================] - 0s 4ms/step - loss: 0.6136 - accuracy: 0.6818 - val_loss: 0.6127 - val_accuracy: 0.6792\n",
            "Epoch 269/300\n",
            "104/104 [==============================] - 0s 4ms/step - loss: 0.6136 - accuracy: 0.6818 - val_loss: 0.6128 - val_accuracy: 0.6792\n",
            "Epoch 270/300\n",
            "104/104 [==============================] - 0s 4ms/step - loss: 0.6135 - accuracy: 0.6818 - val_loss: 0.6132 - val_accuracy: 0.6792\n",
            "Epoch 271/300\n",
            "104/104 [==============================] - 0s 5ms/step - loss: 0.6135 - accuracy: 0.6818 - val_loss: 0.6127 - val_accuracy: 0.6792\n",
            "Epoch 272/300\n",
            "104/104 [==============================] - 0s 4ms/step - loss: 0.6135 - accuracy: 0.6818 - val_loss: 0.6131 - val_accuracy: 0.6792\n",
            "Epoch 273/300\n",
            "104/104 [==============================] - 0s 4ms/step - loss: 0.6137 - accuracy: 0.6818 - val_loss: 0.6145 - val_accuracy: 0.6792\n",
            "Epoch 274/300\n",
            "104/104 [==============================] - 0s 4ms/step - loss: 0.6135 - accuracy: 0.6818 - val_loss: 0.6127 - val_accuracy: 0.6792\n",
            "Epoch 275/300\n",
            "104/104 [==============================] - 0s 4ms/step - loss: 0.6136 - accuracy: 0.6818 - val_loss: 0.6131 - val_accuracy: 0.6792\n",
            "Epoch 276/300\n",
            "104/104 [==============================] - 0s 4ms/step - loss: 0.6135 - accuracy: 0.6818 - val_loss: 0.6129 - val_accuracy: 0.6792\n",
            "Epoch 277/300\n",
            "104/104 [==============================] - 0s 4ms/step - loss: 0.6135 - accuracy: 0.6818 - val_loss: 0.6127 - val_accuracy: 0.6792\n",
            "Epoch 278/300\n",
            "104/104 [==============================] - 0s 4ms/step - loss: 0.6135 - accuracy: 0.6818 - val_loss: 0.6137 - val_accuracy: 0.6792\n",
            "Epoch 279/300\n",
            "104/104 [==============================] - 1s 6ms/step - loss: 0.6137 - accuracy: 0.6818 - val_loss: 0.6128 - val_accuracy: 0.6792\n",
            "Epoch 280/300\n",
            "104/104 [==============================] - 1s 6ms/step - loss: 0.6135 - accuracy: 0.6818 - val_loss: 0.6128 - val_accuracy: 0.6792\n",
            "Epoch 281/300\n",
            "104/104 [==============================] - 1s 6ms/step - loss: 0.6137 - accuracy: 0.6818 - val_loss: 0.6128 - val_accuracy: 0.6792\n",
            "Epoch 282/300\n",
            "104/104 [==============================] - 1s 6ms/step - loss: 0.6135 - accuracy: 0.6818 - val_loss: 0.6128 - val_accuracy: 0.6792\n",
            "Epoch 283/300\n",
            "104/104 [==============================] - 1s 6ms/step - loss: 0.6136 - accuracy: 0.6818 - val_loss: 0.6128 - val_accuracy: 0.6792\n",
            "Epoch 284/300\n",
            "104/104 [==============================] - 1s 6ms/step - loss: 0.6136 - accuracy: 0.6818 - val_loss: 0.6128 - val_accuracy: 0.6792\n",
            "Epoch 285/300\n",
            "104/104 [==============================] - 1s 5ms/step - loss: 0.6137 - accuracy: 0.6818 - val_loss: 0.6128 - val_accuracy: 0.6792\n",
            "Epoch 286/300\n",
            "104/104 [==============================] - 0s 4ms/step - loss: 0.6135 - accuracy: 0.6818 - val_loss: 0.6128 - val_accuracy: 0.6792\n",
            "Epoch 287/300\n",
            "104/104 [==============================] - 0s 4ms/step - loss: 0.6135 - accuracy: 0.6818 - val_loss: 0.6129 - val_accuracy: 0.6792\n",
            "Epoch 288/300\n",
            "104/104 [==============================] - 0s 4ms/step - loss: 0.6135 - accuracy: 0.6818 - val_loss: 0.6128 - val_accuracy: 0.6792\n",
            "Epoch 289/300\n",
            "104/104 [==============================] - 0s 4ms/step - loss: 0.6136 - accuracy: 0.6818 - val_loss: 0.6128 - val_accuracy: 0.6792\n",
            "Epoch 290/300\n",
            "104/104 [==============================] - 0s 4ms/step - loss: 0.6136 - accuracy: 0.6818 - val_loss: 0.6130 - val_accuracy: 0.6792\n",
            "Epoch 291/300\n",
            "104/104 [==============================] - 0s 4ms/step - loss: 0.6136 - accuracy: 0.6818 - val_loss: 0.6127 - val_accuracy: 0.6792\n",
            "Epoch 292/300\n",
            "104/104 [==============================] - 0s 4ms/step - loss: 0.6136 - accuracy: 0.6818 - val_loss: 0.6127 - val_accuracy: 0.6792\n",
            "Epoch 293/300\n",
            "104/104 [==============================] - 0s 4ms/step - loss: 0.6135 - accuracy: 0.6818 - val_loss: 0.6128 - val_accuracy: 0.6792\n",
            "Epoch 294/300\n",
            "104/104 [==============================] - 0s 4ms/step - loss: 0.6135 - accuracy: 0.6818 - val_loss: 0.6130 - val_accuracy: 0.6792\n",
            "Epoch 295/300\n",
            "104/104 [==============================] - 0s 4ms/step - loss: 0.6137 - accuracy: 0.6818 - val_loss: 0.6128 - val_accuracy: 0.6792\n",
            "Epoch 296/300\n",
            "104/104 [==============================] - 0s 4ms/step - loss: 0.6136 - accuracy: 0.6818 - val_loss: 0.6127 - val_accuracy: 0.6792\n",
            "Epoch 297/300\n",
            "104/104 [==============================] - 0s 4ms/step - loss: 0.6135 - accuracy: 0.6818 - val_loss: 0.6128 - val_accuracy: 0.6792\n",
            "Epoch 298/300\n",
            "104/104 [==============================] - 0s 4ms/step - loss: 0.6135 - accuracy: 0.6818 - val_loss: 0.6128 - val_accuracy: 0.6792\n",
            "Epoch 299/300\n",
            "104/104 [==============================] - 0s 4ms/step - loss: 0.6135 - accuracy: 0.6818 - val_loss: 0.6131 - val_accuracy: 0.6791\n",
            "Epoch 300/300\n",
            "104/104 [==============================] - 0s 4ms/step - loss: 0.6137 - accuracy: 0.6818 - val_loss: 0.6127 - val_accuracy: 0.6792\n"
          ]
        }
      ],
      "source": [
        "if model_selection[model_flag]==\"ALL\" or model_selection[model_flag] == \"AE\":\n",
        "  # training the model on training dataset\n",
        "  his = ae_classifier.fit(predictions, y_test, epochs=300,batch_size=500, validation_split=0.2).history"
      ]
    },
    {
      "cell_type": "code",
      "execution_count": null,
      "metadata": {
        "id": "yeNS7pLUNYBz",
        "colab": {
          "base_uri": "https://localhost:8080/"
        },
        "outputId": "f955cec5-2c9a-4977-83a1-148115e092fc"
      },
      "outputs": [
        {
          "output_type": "stream",
          "name": "stdout",
          "text": [
            "Saved model to disk\n",
            "Loaded model from disk\n"
          ]
        }
      ],
      "source": [
        "if model_selection[model_flag]==\"ALL\" or model_selection[model_flag] == \"AE\":\n",
        "  filepath = '/content/drive/MyDrive/Colab_Notebooks/Models/ae_classifier_binary'+model_name_suffix+'.json'\n",
        "  weightspath = '/content/drive/MyDrive/Colab_Notebooks/Weights/ae_classifier_binary'+model_name_suffix+'.h5'\n",
        "  if (not path.isfile(filepath)): \n",
        "    # serialize model to JSON\n",
        "    ae_classifier_json = ae_classifier.to_json()\n",
        "    with open(filepath, \"w\") as json_file:\n",
        "      json_file.write(ae_classifier_json)\n",
        "\n",
        "    # serialize weights to HDF5\n",
        "    ae_classifier.save_weights(weightspath)\n",
        "    print(\"Saved model to disk\")\n",
        "\n",
        "    # load json and create model\n",
        "    json_file = open(filepath, 'r')\n",
        "    loaded_model_json = json_file.read()\n",
        "    json_file.close()\n",
        "    ae_classifier = model_from_json(loaded_model_json)\n",
        "\n",
        "    # load weights into new model\n",
        "    ae_classifier.load_weights(weightspath)\n",
        "    print(\"Loaded model from disk\")"
      ]
    },
    {
      "cell_type": "code",
      "execution_count": null,
      "metadata": {
        "id": "AG42bV79NYFB"
      },
      "outputs": [],
      "source": [
        "if model_selection[model_flag]==\"ALL\" or model_selection[model_flag] == \"AE\":\n",
        "  ae_classifier.compile(optimizer='adam', loss='binary_crossentropy',metrics=['accuracy'])"
      ]
    },
    {
      "cell_type": "code",
      "execution_count": null,
      "metadata": {
        "id": "13aKBGJcNYHv",
        "colab": {
          "base_uri": "https://localhost:8080/"
        },
        "outputId": "667093e1-f059-46d0-aa89-1683a8c9d289"
      },
      "outputs": [
        {
          "output_type": "stream",
          "name": "stdout",
          "text": [
            "2014/2014 [==============================] - 5s 3ms/step - loss: 0.6133 - accuracy: 0.6105\n",
            "Test results - Loss: 0.6133108735084534 - Accuracy: 61.048758029937744%\n"
          ]
        }
      ],
      "source": [
        "if model_selection[model_flag]==\"ALL\" or model_selection[model_flag] == \"AE\":\n",
        "  # predicting target attribute on testing dataset\n",
        "  test_results = ae_classifier.evaluate(X_test, y_test, verbose=1)\n",
        "  print(f'Test results - Loss: {test_results[0]} - Accuracy: {test_results[1]*100}%')"
      ]
    },
    {
      "cell_type": "code",
      "execution_count": null,
      "metadata": {
        "id": "zCWbOaSyN1dH"
      },
      "outputs": [],
      "source": [
        "if model_selection[model_flag]==\"ALL\" or model_selection[model_flag] == \"AE\":\n",
        "  # representation of model layers\n",
        "  plot_model(ae_classifier, to_file='/content/drive/MyDrive/Colab_Notebooks/Plots/ae_classifier_binary.png', show_shapes=True)"
      ]
    },
    {
      "cell_type": "code",
      "execution_count": null,
      "metadata": {
        "id": "44VaFGgVOBpU",
        "colab": {
          "base_uri": "https://localhost:8080/",
          "height": 472
        },
        "outputId": "8de42a5a-6b99-4cdc-86e9-54da9c4598c8"
      },
      "outputs": [
        {
          "output_type": "display_data",
          "data": {
            "text/plain": [
              "<Figure size 640x480 with 1 Axes>"
            ],
            "image/png": "[encoded data removed]"
          },
          "metadata": {}
        }
      ],
      "source": [
        "if model_selection[model_flag]==\"ALL\" or model_selection[model_flag] == \"AE\":\n",
        "  # Plot of loss vs epoch of train and test dataset\n",
        "  plt.plot(his['loss'])\n",
        "  plt.plot(his['val_loss'])\n",
        "  plt.title(\"Plot of loss vs epoch for train and test dataset\")\n",
        "  plt.ylabel('loss')\n",
        "  plt.xlabel('epoch')\n",
        "  plt.legend(['train', 'test'], loc='upper right')\n",
        "  plt.savefig('/content/drive/MyDrive/Colab_Notebooks/Plots/ae_classifier_binary_loss.png')\n",
        "  plt.show()"
      ]
    },
    {
      "cell_type": "code",
      "execution_count": null,
      "metadata": {
        "id": "Am0UB82rOIo1",
        "colab": {
          "base_uri": "https://localhost:8080/",
          "height": 472
        },
        "outputId": "9c909ee3-c643-41d0-f0fe-2e398331e52a"
      },
      "outputs": [
        {
          "output_type": "display_data",
          "data": {
            "text/plain": [
              "<Figure size 640x480 with 1 Axes>"
            ],
            "image/png": "[encoded data removed]"
          },
          "metadata": {}
        }
      ],
      "source": [
        "if model_selection[model_flag]==\"ALL\" or model_selection[model_flag] == \"AE\":\n",
        "  # Plot of accuracy vs epoch of train and test dataset\n",
        "  plt.plot(his['accuracy'])\n",
        "  plt.plot(his['val_accuracy'])\n",
        "  plt.title(\"Plot of accuracy vs epoch for train and test dataset\")\n",
        "  plt.ylabel('accuracy')\n",
        "  plt.xlabel('epoch')\n",
        "  plt.legend(['train', 'test'], loc='best')\n",
        "  plt.savefig('/content/drive/MyDrive/Colab_Notebooks/Plots/ae_classifier_binary_accuracy.png')\n",
        "  plt.show()"
      ]
    },
    {
      "cell_type": "code",
      "execution_count": null,
      "metadata": {
        "id": "f5OZTlm0OMoW",
        "colab": {
          "base_uri": "https://localhost:8080/"
        },
        "outputId": "51578b30-9ece-4dde-bc54-23f7682f1727"
      },
      "outputs": [
        {
          "output_type": "stream",
          "name": "stdout",
          "text": [
            "2014/2014 [==============================] - 3s 1ms/step\n"
          ]
        }
      ],
      "source": [
        "if model_selection[model_flag]==\"ALL\" or model_selection[model_flag] == \"AE\":\n",
        "  y_pred = ae_classifier.predict(X_test).ravel()\n",
        "  fpr, tpr, thresholds = roc_curve(y_test, y_pred)\n",
        "  #auc = auc(fpr, tpr)"
      ]
    },
    {
      "cell_type": "code",
      "execution_count": null,
      "metadata": {
        "id": "GbSkwfO2OTkn",
        "colab": {
          "base_uri": "https://localhost:8080/",
          "height": 510
        },
        "outputId": "df48e925-b76b-44cd-c480-0046c988a3b8"
      },
      "outputs": [
        {
          "output_type": "stream",
          "name": "stderr",
          "text": [
            "WARNING:matplotlib.legend:No artists with labels found to put in legend.  Note that artists whose label start with an underscore are ignored when legend() is called with no argument.\n"
          ]
        },
        {
          "output_type": "display_data",
          "data": {
            "text/plain": [
              "<Figure size 640x480 with 1 Axes>"
            ],
            "image/png": "[encoded data removed]"
          },
          "metadata": {}
        }
      ],
      "source": [
        "if model_selection[model_flag]==\"ALL\" or model_selection[model_flag] == \"AE\":\n",
        "  plt.plot([0, 1], [0, 1], 'k--')\n",
        "  #plt.plot(fpr, tpr, label='Keras (area = {:.3f})'.format(auc))\n",
        "  plt.plot(fpr, tpr)\n",
        "  plt.xlabel('False positive rate')\n",
        "  plt.ylabel('True positive rate')\n",
        "  plt.title('ROC curve')\n",
        "  plt.legend(loc='best')\n",
        "  plt.savefig('/content/drive/MyDrive/Colab_Notebooks/Plots/ae_binary_roc.png')\n",
        "  plt.show()"
      ]
    },
    {
      "cell_type": "code",
      "execution_count": null,
      "metadata": {
        "id": "n7Xl74UXOZxm",
        "colab": {
          "base_uri": "https://localhost:8080/"
        },
        "outputId": "5f9880e6-5469-497c-bc50-49757cec71b2"
      },
      "outputs": [
        {
          "output_type": "stream",
          "name": "stdout",
          "text": [
            "2014/2014 [==============================] - 4s 2ms/step\n",
            "2014/2014 [==============================] - 3s 1ms/step\n"
          ]
        }
      ],
      "source": [
        "if model_selection[model_flag]==\"ALL\" or model_selection[model_flag] == \"AE\":\n",
        "  pred = ae_classifier.predict(X_test)\n",
        "  y_classes = (ae_classifier.predict(X_test)>0.5).astype('int32')"
      ]
    },
    {
      "cell_type": "code",
      "execution_count": null,
      "metadata": {
        "id": "WA_g3UlXOZ71",
        "colab": {
          "base_uri": "https://localhost:8080/"
        },
        "outputId": "aa26df10-036f-4ec0-ac00-1c2f1241c616"
      },
      "outputs": [
        {
          "output_type": "stream",
          "name": "stdout",
          "text": [
            "Recall Score -  0.7708859529823198\n",
            "F1 Score -  0.7167178468208093\n",
            "Precision Score -  0.669662447257384\n"
          ]
        }
      ],
      "source": [
        "if model_selection[model_flag]==\"ALL\" or model_selection[model_flag] == \"AE\":\n",
        "  print(\"Recall Score - \",recall_score(y_test,y_classes))\n",
        "  print(\"F1 Score - \",f1_score(y_test,y_classes))\n",
        "  print(\"Precision Score - \",precision_score(y_test,y_classes))"
      ]
    },
    {
      "cell_type": "code",
      "source": [
        "print(classification_report(y_test, y_classes, target_names=['0', '1']))\n",
        "cm = confusion_matrix(y_test, y_classes)\n",
        "disp = ConfusionMatrixDisplay(confusion_matrix=cm,\n",
        "                              display_labels=['0', '1'])\n",
        "disp.plot()\n",
        "\n",
        "plt.show()"
      ],
      "metadata": {
        "colab": {
          "base_uri": "https://localhost:8080/",
          "height": 610
        },
        "id": "UgHHdx0qoryj",
        "outputId": "d0536dd8-c204-43cc-91f2-a47d0c071c7c"
      },
      "execution_count": null,
      "outputs": [
        {
          "output_type": "stream",
          "name": "stdout",
          "text": [
            "              precision    recall  f1-score   support\n",
            "\n",
            "           0       0.45      0.33      0.38     23243\n",
            "           1       0.67      0.77      0.72     41176\n",
            "\n",
            "    accuracy                           0.61     64419\n",
            "   macro avg       0.56      0.55      0.55     64419\n",
            "weighted avg       0.59      0.61      0.59     64419\n",
            "\n"
          ]
        },
        {
          "output_type": "display_data",
          "data": {
            "text/plain": [
              "<Figure size 640x480 with 2 Axes>"
            ],
            "image/png": "[encoded data removed]"
          },
          "metadata": {}
        }
      ]
    }
  ],
  "metadata": {
    "colab": {
      "provenance": [],
      "include_colab_link": true
    },
    "gpuClass": "standard",
    "kernelspec": {
      "display_name": "Python 3",
      "name": "python3"
    },
    "language_info": {
      "name": "python"
    },
    "accelerator": "GPU"
  },
  "nbformat": 4,
  "nbformat_minor": 0
}