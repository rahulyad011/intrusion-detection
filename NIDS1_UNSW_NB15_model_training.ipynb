{
  "cells": [
    {
      "cell_type": "markdown",
      "metadata": {
        "id": "view-in-github",
        "colab_type": "text"
      },
      "source": [
        "<a href=\"https://colab.research.google.com/github/rahulyad011/intrusion-detection/blob/main/NIDS1_UNSW_NB15_model_training.ipynb\" target=\"_parent\"><img src=\"https://colab.research.google.com/assets/colab-badge.svg\" alt=\"Open In Colab\"/></a>"
      ]
    },
    {
      "cell_type": "code",
      "execution_count": 1,
      "metadata": {
        "id": "qXQ8rUmdwaf4"
      },
      "outputs": [],
      "source": [
        "\n",
        "from sklearn.metrics import accuracy_score # for calculating accuracy of model\n",
        "from sklearn.model_selection import train_test_split # for splitting the dataset for training and testing\n",
        "from sklearn.metrics import classification_report # for generating a classification report of model\n",
        "import pickle # saving and loading trained model\n",
        "from os import path\n",
        "import numpy as np\n",
        "import pandas as pd\n",
        "import matplotlib.pyplot as plt\n",
        "\n",
        "# importing library for support vector machine classifier\n",
        "from sklearn.svm import SVC\n",
        "\n",
        "# MLP requirements \n",
        "from keras.layers import Dense # importing dense layer\n",
        "from keras.models import Sequential #importing Sequential layer\n",
        "from keras.models import model_from_json # saving and loading trained model\n",
        "\n",
        "# LSTM requirements \n",
        "from keras.layers import LSTM\n",
        "from keras.layers import Input\n",
        "from keras.models import Model\n",
        "\n",
        "# evaluation metrices\n",
        "from sklearn.metrics import classification_report, confusion_matrix\n",
        "from sklearn.metrics import roc_auc_score\n",
        "from sklearn.metrics import roc_curve, auc\n",
        "from sklearn.metrics import precision_score\n",
        "from sklearn.metrics import recall_score\n",
        "from sklearn.metrics import f1_score\n",
        "\n",
        "# representation of model layers\n",
        "from keras.utils.vis_utils import plot_model"
      ]
    },
    {
      "cell_type": "code",
      "source": [
        "from google.colab import drive\n",
        "drive.mount('/content/drive')"
      ],
      "metadata": {
        "colab": {
          "base_uri": "https://localhost:8080/"
        },
        "id": "DBCkPmpEjFSf",
        "outputId": "fd5a6ce4-747a-42c0-e922-05fa1e2484be"
      },
      "execution_count": 2,
      "outputs": [
        {
          "output_type": "stream",
          "name": "stdout",
          "text": [
            "Drive already mounted at /content/drive; to attempt to forcibly remount, call drive.mount(\"/content/drive\", force_remount=True).\n"
          ]
        }
      ]
    },
    {
      "cell_type": "code",
      "execution_count": 3,
      "metadata": {
        "colab": {
          "base_uri": "https://localhost:8080/",
          "height": 505
        },
        "id": "Pepa9lW8whHh",
        "outputId": "6c9c59f6-7882-47b8-9f86-4f4487d1c3e7"
      },
      "outputs": [
        {
          "output_type": "execute_result",
          "data": {
            "text/plain": [
              "        proto_3pc  proto_a/n  proto_aes-sp3-d  proto_any  proto_argus  \\\n",
              "0               0          0                0          0            0   \n",
              "1               0          0                0          0            0   \n",
              "2               0          0                0          0            0   \n",
              "3               0          0                0          0            0   \n",
              "4               0          0                0          0            0   \n",
              "...           ...        ...              ...        ...          ...   \n",
              "257668          0          0                0          0            0   \n",
              "257669          0          0                0          0            0   \n",
              "257670          0          0                0          0            0   \n",
              "257671          0          0                0          0            0   \n",
              "257672          0          0                0          0            0   \n",
              "\n",
              "        proto_aris  proto_arp  proto_ax.25  proto_bbn-rcc  proto_bna  ...  \\\n",
              "0                0          0            0              0          0  ...   \n",
              "1                0          0            0              0          0  ...   \n",
              "2                0          0            0              0          0  ...   \n",
              "3                0          0            0              0          0  ...   \n",
              "4                0          0            0              0          0  ...   \n",
              "...            ...        ...          ...            ...        ...  ...   \n",
              "257668           0          0            0              0          0  ...   \n",
              "257669           0          0            0              0          0  ...   \n",
              "257670           0          0            0              0          0  ...   \n",
              "257671           0          0            0              0          0  ...   \n",
              "257672           0          0            0              0          0  ...   \n",
              "\n",
              "        ct_src_dport_ltm  ct_dst_sport_ltm  ct_dst_src_ltm  is_ftp_login  \\\n",
              "0                      1                 1               2             0   \n",
              "1                      1                 1               2             0   \n",
              "2                      1                 1               3             0   \n",
              "3                      2                 1               3             0   \n",
              "4                      2                 1               3             0   \n",
              "...                  ...               ...             ...           ...   \n",
              "257668                24                13              24             0   \n",
              "257669                 1                 1               2             0   \n",
              "257670                 3                 3              13             0   \n",
              "257671                30                14              30             0   \n",
              "257672                30                16              30             0   \n",
              "\n",
              "        ct_ftp_cmd  ct_flw_http_mthd  ct_src_ltm  ct_srv_dst  is_sm_ips_ports  \\\n",
              "0                0                 0           1           2                0   \n",
              "1                0                 0           1           2                0   \n",
              "2                0                 0           1           3                0   \n",
              "3                0                 0           2           3                0   \n",
              "4                0                 0           2           3                0   \n",
              "...            ...               ...         ...         ...              ...   \n",
              "257668           0                 0          24          24                0   \n",
              "257669           0                 0           1           1                0   \n",
              "257670           0                 0           3          12                0   \n",
              "257671           0                 0          30          30                0   \n",
              "257672           0                 0          30          30                0   \n",
              "\n",
              "        label  \n",
              "0           0  \n",
              "1           0  \n",
              "2           0  \n",
              "3           0  \n",
              "4           0  \n",
              "...       ...  \n",
              "257668      1  \n",
              "257669      1  \n",
              "257670      1  \n",
              "257671      1  \n",
              "257672      1  \n",
              "\n",
              "[257673 rows x 198 columns]"
            ],
            "text/html": [
              "\n",
              "  <div id=\"df-2c2995b8-604f-4c94-8df7-cdb6e753f63a\">\n",
              "    <div class=\"colab-df-container\">\n",
              "      <div>\n",
              "<style scoped>\n",
              "    .dataframe tbody tr th:only-of-type {\n",
              "        vertical-align: middle;\n",
              "    }\n",
              "\n",
              "    .dataframe tbody tr th {\n",
              "        vertical-align: top;\n",
              "    }\n",
              "\n",
              "    .dataframe thead th {\n",
              "        text-align: right;\n",
              "    }\n",
              "</style>\n",
              "<table border=\"1\" class=\"dataframe\">\n",
              "  <thead>\n",
              "    <tr style=\"text-align: right;\">\n",
              "      <th></th>\n",
              "      <th>proto_3pc</th>\n",
              "      <th>proto_a/n</th>\n",
              "      <th>proto_aes-sp3-d</th>\n",
              "      <th>proto_any</th>\n",
              "      <th>proto_argus</th>\n",
              "      <th>proto_aris</th>\n",
              "      <th>proto_arp</th>\n",
              "      <th>proto_ax.25</th>\n",
              "      <th>proto_bbn-rcc</th>\n",
              "      <th>proto_bna</th>\n",
              "      <th>...</th>\n",
              "      <th>ct_src_dport_ltm</th>\n",
              "      <th>ct_dst_sport_ltm</th>\n",
              "      <th>ct_dst_src_ltm</th>\n",
              "      <th>is_ftp_login</th>\n",
              "      <th>ct_ftp_cmd</th>\n",
              "      <th>ct_flw_http_mthd</th>\n",
              "      <th>ct_src_ltm</th>\n",
              "      <th>ct_srv_dst</th>\n",
              "      <th>is_sm_ips_ports</th>\n",
              "      <th>label</th>\n",
              "    </tr>\n",
              "  </thead>\n",
              "  <tbody>\n",
              "    <tr>\n",
              "      <th>0</th>\n",
              "      <td>0</td>\n",
              "      <td>0</td>\n",
              "      <td>0</td>\n",
              "      <td>0</td>\n",
              "      <td>0</td>\n",
              "      <td>0</td>\n",
              "      <td>0</td>\n",
              "      <td>0</td>\n",
              "      <td>0</td>\n",
              "      <td>0</td>\n",
              "      <td>...</td>\n",
              "      <td>1</td>\n",
              "      <td>1</td>\n",
              "      <td>2</td>\n",
              "      <td>0</td>\n",
              "      <td>0</td>\n",
              "      <td>0</td>\n",
              "      <td>1</td>\n",
              "      <td>2</td>\n",
              "      <td>0</td>\n",
              "      <td>0</td>\n",
              "    </tr>\n",
              "    <tr>\n",
              "      <th>1</th>\n",
              "      <td>0</td>\n",
              "      <td>0</td>\n",
              "      <td>0</td>\n",
              "      <td>0</td>\n",
              "      <td>0</td>\n",
              "      <td>0</td>\n",
              "      <td>0</td>\n",
              "      <td>0</td>\n",
              "      <td>0</td>\n",
              "      <td>0</td>\n",
              "      <td>...</td>\n",
              "      <td>1</td>\n",
              "      <td>1</td>\n",
              "      <td>2</td>\n",
              "      <td>0</td>\n",
              "      <td>0</td>\n",
              "      <td>0</td>\n",
              "      <td>1</td>\n",
              "      <td>2</td>\n",
              "      <td>0</td>\n",
              "      <td>0</td>\n",
              "    </tr>\n",
              "    <tr>\n",
              "      <th>2</th>\n",
              "      <td>0</td>\n",
              "      <td>0</td>\n",
              "      <td>0</td>\n",
              "      <td>0</td>\n",
              "      <td>0</td>\n",
              "      <td>0</td>\n",
              "      <td>0</td>\n",
              "      <td>0</td>\n",
              "      <td>0</td>\n",
              "      <td>0</td>\n",
              "      <td>...</td>\n",
              "      <td>1</td>\n",
              "      <td>1</td>\n",
              "      <td>3</td>\n",
              "      <td>0</td>\n",
              "      <td>0</td>\n",
              "      <td>0</td>\n",
              "      <td>1</td>\n",
              "      <td>3</td>\n",
              "      <td>0</td>\n",
              "      <td>0</td>\n",
              "    </tr>\n",
              "    <tr>\n",
              "      <th>3</th>\n",
              "      <td>0</td>\n",
              "      <td>0</td>\n",
              "      <td>0</td>\n",
              "      <td>0</td>\n",
              "      <td>0</td>\n",
              "      <td>0</td>\n",
              "      <td>0</td>\n",
              "      <td>0</td>\n",
              "      <td>0</td>\n",
              "      <td>0</td>\n",
              "      <td>...</td>\n",
              "      <td>2</td>\n",
              "      <td>1</td>\n",
              "      <td>3</td>\n",
              "      <td>0</td>\n",
              "      <td>0</td>\n",
              "      <td>0</td>\n",
              "      <td>2</td>\n",
              "      <td>3</td>\n",
              "      <td>0</td>\n",
              "      <td>0</td>\n",
              "    </tr>\n",
              "    <tr>\n",
              "      <th>4</th>\n",
              "      <td>0</td>\n",
              "      <td>0</td>\n",
              "      <td>0</td>\n",
              "      <td>0</td>\n",
              "      <td>0</td>\n",
              "      <td>0</td>\n",
              "      <td>0</td>\n",
              "      <td>0</td>\n",
              "      <td>0</td>\n",
              "      <td>0</td>\n",
              "      <td>...</td>\n",
              "      <td>2</td>\n",
              "      <td>1</td>\n",
              "      <td>3</td>\n",
              "      <td>0</td>\n",
              "      <td>0</td>\n",
              "      <td>0</td>\n",
              "      <td>2</td>\n",
              "      <td>3</td>\n",
              "      <td>0</td>\n",
              "      <td>0</td>\n",
              "    </tr>\n",
              "    <tr>\n",
              "      <th>...</th>\n",
              "      <td>...</td>\n",
              "      <td>...</td>\n",
              "      <td>...</td>\n",
              "      <td>...</td>\n",
              "      <td>...</td>\n",
              "      <td>...</td>\n",
              "      <td>...</td>\n",
              "      <td>...</td>\n",
              "      <td>...</td>\n",
              "      <td>...</td>\n",
              "      <td>...</td>\n",
              "      <td>...</td>\n",
              "      <td>...</td>\n",
              "      <td>...</td>\n",
              "      <td>...</td>\n",
              "      <td>...</td>\n",
              "      <td>...</td>\n",
              "      <td>...</td>\n",
              "      <td>...</td>\n",
              "      <td>...</td>\n",
              "      <td>...</td>\n",
              "    </tr>\n",
              "    <tr>\n",
              "      <th>257668</th>\n",
              "      <td>0</td>\n",
              "      <td>0</td>\n",
              "      <td>0</td>\n",
              "      <td>0</td>\n",
              "      <td>0</td>\n",
              "      <td>0</td>\n",
              "      <td>0</td>\n",
              "      <td>0</td>\n",
              "      <td>0</td>\n",
              "      <td>0</td>\n",
              "      <td>...</td>\n",
              "      <td>24</td>\n",
              "      <td>13</td>\n",
              "      <td>24</td>\n",
              "      <td>0</td>\n",
              "      <td>0</td>\n",
              "      <td>0</td>\n",
              "      <td>24</td>\n",
              "      <td>24</td>\n",
              "      <td>0</td>\n",
              "      <td>1</td>\n",
              "    </tr>\n",
              "    <tr>\n",
              "      <th>257669</th>\n",
              "      <td>0</td>\n",
              "      <td>0</td>\n",
              "      <td>0</td>\n",
              "      <td>0</td>\n",
              "      <td>0</td>\n",
              "      <td>0</td>\n",
              "      <td>0</td>\n",
              "      <td>0</td>\n",
              "      <td>0</td>\n",
              "      <td>0</td>\n",
              "      <td>...</td>\n",
              "      <td>1</td>\n",
              "      <td>1</td>\n",
              "      <td>2</td>\n",
              "      <td>0</td>\n",
              "      <td>0</td>\n",
              "      <td>0</td>\n",
              "      <td>1</td>\n",
              "      <td>1</td>\n",
              "      <td>0</td>\n",
              "      <td>1</td>\n",
              "    </tr>\n",
              "    <tr>\n",
              "      <th>257670</th>\n",
              "      <td>0</td>\n",
              "      <td>0</td>\n",
              "      <td>0</td>\n",
              "      <td>0</td>\n",
              "      <td>0</td>\n",
              "      <td>0</td>\n",
              "      <td>0</td>\n",
              "      <td>0</td>\n",
              "      <td>0</td>\n",
              "      <td>0</td>\n",
              "      <td>...</td>\n",
              "      <td>3</td>\n",
              "      <td>3</td>\n",
              "      <td>13</td>\n",
              "      <td>0</td>\n",
              "      <td>0</td>\n",
              "      <td>0</td>\n",
              "      <td>3</td>\n",
              "      <td>12</td>\n",
              "      <td>0</td>\n",
              "      <td>1</td>\n",
              "    </tr>\n",
              "    <tr>\n",
              "      <th>257671</th>\n",
              "      <td>0</td>\n",
              "      <td>0</td>\n",
              "      <td>0</td>\n",
              "      <td>0</td>\n",
              "      <td>0</td>\n",
              "      <td>0</td>\n",
              "      <td>0</td>\n",
              "      <td>0</td>\n",
              "      <td>0</td>\n",
              "      <td>0</td>\n",
              "      <td>...</td>\n",
              "      <td>30</td>\n",
              "      <td>14</td>\n",
              "      <td>30</td>\n",
              "      <td>0</td>\n",
              "      <td>0</td>\n",
              "      <td>0</td>\n",
              "      <td>30</td>\n",
              "      <td>30</td>\n",
              "      <td>0</td>\n",
              "      <td>1</td>\n",
              "    </tr>\n",
              "    <tr>\n",
              "      <th>257672</th>\n",
              "      <td>0</td>\n",
              "      <td>0</td>\n",
              "      <td>0</td>\n",
              "      <td>0</td>\n",
              "      <td>0</td>\n",
              "      <td>0</td>\n",
              "      <td>0</td>\n",
              "      <td>0</td>\n",
              "      <td>0</td>\n",
              "      <td>0</td>\n",
              "      <td>...</td>\n",
              "      <td>30</td>\n",
              "      <td>16</td>\n",
              "      <td>30</td>\n",
              "      <td>0</td>\n",
              "      <td>0</td>\n",
              "      <td>0</td>\n",
              "      <td>30</td>\n",
              "      <td>30</td>\n",
              "      <td>0</td>\n",
              "      <td>1</td>\n",
              "    </tr>\n",
              "  </tbody>\n",
              "</table>\n",
              "<p>257673 rows × 198 columns</p>\n",
              "</div>\n",
              "      <button class=\"colab-df-convert\" onclick=\"convertToInteractive('df-2c2995b8-604f-4c94-8df7-cdb6e753f63a')\"\n",
              "              title=\"Convert this dataframe to an interactive table.\"\n",
              "              style=\"display:none;\">\n",
              "        \n",
              "  <svg xmlns=\"http://www.w3.org/2000/svg\" height=\"24px\"viewBox=\"0 0 24 24\"\n",
              "       width=\"24px\">\n",
              "    <path d=\"M0 0h24v24H0V0z\" fill=\"none\"/>\n",
              "    <path d=\"M18.56 5.44l.94 2.06.94-2.06 2.06-.94-2.06-.94-.94-2.06-.94 2.06-2.06.94zm-11 1L8.5 8.5l.94-2.06 2.06-.94-2.06-.94L8.5 2.5l-.94 2.06-2.06.94zm10 10l.94 2.06.94-2.06 2.06-.94-2.06-.94-.94-2.06-.94 2.06-2.06.94z\"/><path d=\"M17.41 7.96l-1.37-1.37c-.4-.4-.92-.59-1.43-.59-.52 0-1.04.2-1.43.59L10.3 9.45l-7.72 7.72c-.78.78-.78 2.05 0 2.83L4 21.41c.39.39.9.59 1.41.59.51 0 1.02-.2 1.41-.59l7.78-7.78 2.81-2.81c.8-.78.8-2.07 0-2.86zM5.41 20L4 18.59l7.72-7.72 1.47 1.35L5.41 20z\"/>\n",
              "  </svg>\n",
              "      </button>\n",
              "      \n",
              "  <style>\n",
              "    .colab-df-container {\n",
              "      display:flex;\n",
              "      flex-wrap:wrap;\n",
              "      gap: 12px;\n",
              "    }\n",
              "\n",
              "    .colab-df-convert {\n",
              "      background-color: #E8F0FE;\n",
              "      border: none;\n",
              "      border-radius: 50%;\n",
              "      cursor: pointer;\n",
              "      display: none;\n",
              "      fill: #1967D2;\n",
              "      height: 32px;\n",
              "      padding: 0 0 0 0;\n",
              "      width: 32px;\n",
              "    }\n",
              "\n",
              "    .colab-df-convert:hover {\n",
              "      background-color: #E2EBFA;\n",
              "      box-shadow: 0px 1px 2px rgba(60, 64, 67, 0.3), 0px 1px 3px 1px rgba(60, 64, 67, 0.15);\n",
              "      fill: #174EA6;\n",
              "    }\n",
              "\n",
              "    [theme=dark] .colab-df-convert {\n",
              "      background-color: #3B4455;\n",
              "      fill: #D2E3FC;\n",
              "    }\n",
              "\n",
              "    [theme=dark] .colab-df-convert:hover {\n",
              "      background-color: #434B5C;\n",
              "      box-shadow: 0px 1px 3px 1px rgba(0, 0, 0, 0.15);\n",
              "      filter: drop-shadow(0px 1px 2px rgba(0, 0, 0, 0.3));\n",
              "      fill: #FFFFFF;\n",
              "    }\n",
              "  </style>\n",
              "\n",
              "      <script>\n",
              "        const buttonEl =\n",
              "          document.querySelector('#df-2c2995b8-604f-4c94-8df7-cdb6e753f63a button.colab-df-convert');\n",
              "        buttonEl.style.display =\n",
              "          google.colab.kernel.accessAllowed ? 'block' : 'none';\n",
              "\n",
              "        async function convertToInteractive(key) {\n",
              "          const element = document.querySelector('#df-2c2995b8-604f-4c94-8df7-cdb6e753f63a');\n",
              "          const dataTable =\n",
              "            await google.colab.kernel.invokeFunction('convertToInteractive',\n",
              "                                                     [key], {});\n",
              "          if (!dataTable) return;\n",
              "\n",
              "          const docLinkHtml = 'Like what you see? Visit the ' +\n",
              "            '<a target=\"_blank\" href=https://colab.research.google.com/notebooks/data_table.ipynb>data table notebook</a>'\n",
              "            + ' to learn more about interactive tables.';\n",
              "          element.innerHTML = '';\n",
              "          dataTable['output_type'] = 'display_data';\n",
              "          await google.colab.output.renderOutput(dataTable, element);\n",
              "          const docLink = document.createElement('div');\n",
              "          docLink.innerHTML = docLinkHtml;\n",
              "          element.appendChild(docLink);\n",
              "        }\n",
              "      </script>\n",
              "    </div>\n",
              "  </div>\n",
              "  "
            ]
          },
          "metadata": {},
          "execution_count": 3
        }
      ],
      "source": [
        "bin_data_total = pd.read_csv(\"/content/drive/MyDrive/Colab_Notebooks/nids_project_data/UNSW_NB15_data/bin_data_processed.csv\")\n",
        "bin_data_total.drop(bin_data_total.columns[0],axis=1,inplace=True)\n",
        "bin_data_total"
      ]
    },
    {
      "cell_type": "code",
      "execution_count": 4,
      "metadata": {
        "colab": {
          "base_uri": "https://localhost:8080/"
        },
        "id": "xHCs0B3sKOa_",
        "outputId": "3c86bd35-9941-47c4-8946-1f375daabebb"
      },
      "outputs": [
        {
          "output_type": "execute_result",
          "data": {
            "text/plain": [
              "1    0.639077\n",
              "0    0.360923\n",
              "Name: label, dtype: float64"
            ]
          },
          "metadata": {},
          "execution_count": 4
        }
      ],
      "source": [
        "# distribution of label class before sampling\n",
        "data_size = bin_data_total.shape[0]\n",
        "# data_size\n",
        "bin_data_total.label.value_counts()/data_size"
      ]
    },
    {
      "cell_type": "code",
      "source": [
        "# numeric feature normalization\n",
        "from sklearn.preprocessing import MinMaxScaler\n",
        "from sklearn.preprocessing import StandardScaler\n",
        "\n",
        "numeric_cols = bin_data_total.select_dtypes(['number']).columns\n",
        "numeric_cols = numeric_cols.drop('label')\n",
        "flag = 0\n",
        "scaler = None\n",
        "if flag:\n",
        "  # using standard scaler for normalizing\n",
        "  scaler = StandardScaler()\n",
        "else:\n",
        "  # using minmax scaler for normalizing\n",
        "  # to avoid negative values after scaling\n",
        "  scaler = MinMaxScaler()\n",
        "\n",
        "def normalization_train(df,col):\n",
        "  for i in col:\n",
        "    arr = df[i]\n",
        "    arr = np.array(arr)\n",
        "    df[i] = scaler.fit_transform(arr.reshape(len(arr),1))\n",
        "  return df\n",
        "\n",
        "def normalization_test(df,col):\n",
        "  for i in col:\n",
        "    arr = df[i]\n",
        "    arr = np.array(arr)\n",
        "    df[i] = scaler.transform(arr.reshape(len(arr),1))\n",
        "  return df\n",
        "\n",
        "# numeric_cols"
      ],
      "metadata": {
        "id": "QAUrPvEIYHoH"
      },
      "execution_count": 5,
      "outputs": []
    },
    {
      "cell_type": "code",
      "execution_count": 6,
      "metadata": {
        "colab": {
          "base_uri": "https://localhost:8080/",
          "height": 505
        },
        "id": "XSTP2AcKJgTF",
        "outputId": "350d41de-f69a-4f02-b48f-5e9011243062"
      },
      "outputs": [
        {
          "output_type": "execute_result",
          "data": {
            "text/plain": [
              "        proto_3pc  proto_a/n  proto_aes-sp3-d  proto_any  proto_argus  \\\n",
              "0               0          0                0          0            0   \n",
              "1               0          0                0          0            0   \n",
              "2               0          0                0          0            0   \n",
              "3               0          0                0          0            0   \n",
              "4               0          0                0          0            0   \n",
              "...           ...        ...              ...        ...          ...   \n",
              "257668          0          0                0          0            0   \n",
              "257669          0          0                0          0            0   \n",
              "257670          0          0                0          0            0   \n",
              "257671          0          0                0          0            0   \n",
              "257672          0          0                0          0            0   \n",
              "\n",
              "        proto_aris  proto_arp  proto_ax.25  proto_bbn-rcc  proto_bna  ...  \\\n",
              "0                0          0            0              0          0  ...   \n",
              "1                0          0            0              0          0  ...   \n",
              "2                0          0            0              0          0  ...   \n",
              "3                0          0            0              0          0  ...   \n",
              "4                0          0            0              0          0  ...   \n",
              "...            ...        ...          ...            ...        ...  ...   \n",
              "257668           0          0            0              0          0  ...   \n",
              "257669           0          0            0              0          0  ...   \n",
              "257670           0          0            0              0          0  ...   \n",
              "257671           0          0            0              0          0  ...   \n",
              "257672           0          0            0              0          0  ...   \n",
              "\n",
              "        ct_src_dport_ltm  ct_dst_sport_ltm  ct_dst_src_ltm  is_ftp_login  \\\n",
              "0                      1                 1               2             0   \n",
              "1                      1                 1               2             0   \n",
              "2                      1                 1               3             0   \n",
              "3                      2                 1               3             0   \n",
              "4                      2                 1               3             0   \n",
              "...                  ...               ...             ...           ...   \n",
              "257668                24                13              24             0   \n",
              "257669                 1                 1               2             0   \n",
              "257670                 3                 3              13             0   \n",
              "257671                30                14              30             0   \n",
              "257672                30                16              30             0   \n",
              "\n",
              "        ct_ftp_cmd  ct_flw_http_mthd  ct_src_ltm  ct_srv_dst  is_sm_ips_ports  \\\n",
              "0                0                 0           1           2                0   \n",
              "1                0                 0           1           2                0   \n",
              "2                0                 0           1           3                0   \n",
              "3                0                 0           2           3                0   \n",
              "4                0                 0           2           3                0   \n",
              "...            ...               ...         ...         ...              ...   \n",
              "257668           0                 0          24          24                0   \n",
              "257669           0                 0           1           1                0   \n",
              "257670           0                 0           3          12                0   \n",
              "257671           0                 0          30          30                0   \n",
              "257672           0                 0          30          30                0   \n",
              "\n",
              "        label  \n",
              "0           0  \n",
              "1           0  \n",
              "2           0  \n",
              "3           0  \n",
              "4           0  \n",
              "...       ...  \n",
              "257668      1  \n",
              "257669      1  \n",
              "257670      1  \n",
              "257671      1  \n",
              "257672      1  \n",
              "\n",
              "[257673 rows x 198 columns]"
            ],
            "text/html": [
              "\n",
              "  <div id=\"df-b3bb5955-f2f8-4dce-abcb-17df4571c2dc\">\n",
              "    <div class=\"colab-df-container\">\n",
              "      <div>\n",
              "<style scoped>\n",
              "    .dataframe tbody tr th:only-of-type {\n",
              "        vertical-align: middle;\n",
              "    }\n",
              "\n",
              "    .dataframe tbody tr th {\n",
              "        vertical-align: top;\n",
              "    }\n",
              "\n",
              "    .dataframe thead th {\n",
              "        text-align: right;\n",
              "    }\n",
              "</style>\n",
              "<table border=\"1\" class=\"dataframe\">\n",
              "  <thead>\n",
              "    <tr style=\"text-align: right;\">\n",
              "      <th></th>\n",
              "      <th>proto_3pc</th>\n",
              "      <th>proto_a/n</th>\n",
              "      <th>proto_aes-sp3-d</th>\n",
              "      <th>proto_any</th>\n",
              "      <th>proto_argus</th>\n",
              "      <th>proto_aris</th>\n",
              "      <th>proto_arp</th>\n",
              "      <th>proto_ax.25</th>\n",
              "      <th>proto_bbn-rcc</th>\n",
              "      <th>proto_bna</th>\n",
              "      <th>...</th>\n",
              "      <th>ct_src_dport_ltm</th>\n",
              "      <th>ct_dst_sport_ltm</th>\n",
              "      <th>ct_dst_src_ltm</th>\n",
              "      <th>is_ftp_login</th>\n",
              "      <th>ct_ftp_cmd</th>\n",
              "      <th>ct_flw_http_mthd</th>\n",
              "      <th>ct_src_ltm</th>\n",
              "      <th>ct_srv_dst</th>\n",
              "      <th>is_sm_ips_ports</th>\n",
              "      <th>label</th>\n",
              "    </tr>\n",
              "  </thead>\n",
              "  <tbody>\n",
              "    <tr>\n",
              "      <th>0</th>\n",
              "      <td>0</td>\n",
              "      <td>0</td>\n",
              "      <td>0</td>\n",
              "      <td>0</td>\n",
              "      <td>0</td>\n",
              "      <td>0</td>\n",
              "      <td>0</td>\n",
              "      <td>0</td>\n",
              "      <td>0</td>\n",
              "      <td>0</td>\n",
              "      <td>...</td>\n",
              "      <td>1</td>\n",
              "      <td>1</td>\n",
              "      <td>2</td>\n",
              "      <td>0</td>\n",
              "      <td>0</td>\n",
              "      <td>0</td>\n",
              "      <td>1</td>\n",
              "      <td>2</td>\n",
              "      <td>0</td>\n",
              "      <td>0</td>\n",
              "    </tr>\n",
              "    <tr>\n",
              "      <th>1</th>\n",
              "      <td>0</td>\n",
              "      <td>0</td>\n",
              "      <td>0</td>\n",
              "      <td>0</td>\n",
              "      <td>0</td>\n",
              "      <td>0</td>\n",
              "      <td>0</td>\n",
              "      <td>0</td>\n",
              "      <td>0</td>\n",
              "      <td>0</td>\n",
              "      <td>...</td>\n",
              "      <td>1</td>\n",
              "      <td>1</td>\n",
              "      <td>2</td>\n",
              "      <td>0</td>\n",
              "      <td>0</td>\n",
              "      <td>0</td>\n",
              "      <td>1</td>\n",
              "      <td>2</td>\n",
              "      <td>0</td>\n",
              "      <td>0</td>\n",
              "    </tr>\n",
              "    <tr>\n",
              "      <th>2</th>\n",
              "      <td>0</td>\n",
              "      <td>0</td>\n",
              "      <td>0</td>\n",
              "      <td>0</td>\n",
              "      <td>0</td>\n",
              "      <td>0</td>\n",
              "      <td>0</td>\n",
              "      <td>0</td>\n",
              "      <td>0</td>\n",
              "      <td>0</td>\n",
              "      <td>...</td>\n",
              "      <td>1</td>\n",
              "      <td>1</td>\n",
              "      <td>3</td>\n",
              "      <td>0</td>\n",
              "      <td>0</td>\n",
              "      <td>0</td>\n",
              "      <td>1</td>\n",
              "      <td>3</td>\n",
              "      <td>0</td>\n",
              "      <td>0</td>\n",
              "    </tr>\n",
              "    <tr>\n",
              "      <th>3</th>\n",
              "      <td>0</td>\n",
              "      <td>0</td>\n",
              "      <td>0</td>\n",
              "      <td>0</td>\n",
              "      <td>0</td>\n",
              "      <td>0</td>\n",
              "      <td>0</td>\n",
              "      <td>0</td>\n",
              "      <td>0</td>\n",
              "      <td>0</td>\n",
              "      <td>...</td>\n",
              "      <td>2</td>\n",
              "      <td>1</td>\n",
              "      <td>3</td>\n",
              "      <td>0</td>\n",
              "      <td>0</td>\n",
              "      <td>0</td>\n",
              "      <td>2</td>\n",
              "      <td>3</td>\n",
              "      <td>0</td>\n",
              "      <td>0</td>\n",
              "    </tr>\n",
              "    <tr>\n",
              "      <th>4</th>\n",
              "      <td>0</td>\n",
              "      <td>0</td>\n",
              "      <td>0</td>\n",
              "      <td>0</td>\n",
              "      <td>0</td>\n",
              "      <td>0</td>\n",
              "      <td>0</td>\n",
              "      <td>0</td>\n",
              "      <td>0</td>\n",
              "      <td>0</td>\n",
              "      <td>...</td>\n",
              "      <td>2</td>\n",
              "      <td>1</td>\n",
              "      <td>3</td>\n",
              "      <td>0</td>\n",
              "      <td>0</td>\n",
              "      <td>0</td>\n",
              "      <td>2</td>\n",
              "      <td>3</td>\n",
              "      <td>0</td>\n",
              "      <td>0</td>\n",
              "    </tr>\n",
              "    <tr>\n",
              "      <th>...</th>\n",
              "      <td>...</td>\n",
              "      <td>...</td>\n",
              "      <td>...</td>\n",
              "      <td>...</td>\n",
              "      <td>...</td>\n",
              "      <td>...</td>\n",
              "      <td>...</td>\n",
              "      <td>...</td>\n",
              "      <td>...</td>\n",
              "      <td>...</td>\n",
              "      <td>...</td>\n",
              "      <td>...</td>\n",
              "      <td>...</td>\n",
              "      <td>...</td>\n",
              "      <td>...</td>\n",
              "      <td>...</td>\n",
              "      <td>...</td>\n",
              "      <td>...</td>\n",
              "      <td>...</td>\n",
              "      <td>...</td>\n",
              "      <td>...</td>\n",
              "    </tr>\n",
              "    <tr>\n",
              "      <th>257668</th>\n",
              "      <td>0</td>\n",
              "      <td>0</td>\n",
              "      <td>0</td>\n",
              "      <td>0</td>\n",
              "      <td>0</td>\n",
              "      <td>0</td>\n",
              "      <td>0</td>\n",
              "      <td>0</td>\n",
              "      <td>0</td>\n",
              "      <td>0</td>\n",
              "      <td>...</td>\n",
              "      <td>24</td>\n",
              "      <td>13</td>\n",
              "      <td>24</td>\n",
              "      <td>0</td>\n",
              "      <td>0</td>\n",
              "      <td>0</td>\n",
              "      <td>24</td>\n",
              "      <td>24</td>\n",
              "      <td>0</td>\n",
              "      <td>1</td>\n",
              "    </tr>\n",
              "    <tr>\n",
              "      <th>257669</th>\n",
              "      <td>0</td>\n",
              "      <td>0</td>\n",
              "      <td>0</td>\n",
              "      <td>0</td>\n",
              "      <td>0</td>\n",
              "      <td>0</td>\n",
              "      <td>0</td>\n",
              "      <td>0</td>\n",
              "      <td>0</td>\n",
              "      <td>0</td>\n",
              "      <td>...</td>\n",
              "      <td>1</td>\n",
              "      <td>1</td>\n",
              "      <td>2</td>\n",
              "      <td>0</td>\n",
              "      <td>0</td>\n",
              "      <td>0</td>\n",
              "      <td>1</td>\n",
              "      <td>1</td>\n",
              "      <td>0</td>\n",
              "      <td>1</td>\n",
              "    </tr>\n",
              "    <tr>\n",
              "      <th>257670</th>\n",
              "      <td>0</td>\n",
              "      <td>0</td>\n",
              "      <td>0</td>\n",
              "      <td>0</td>\n",
              "      <td>0</td>\n",
              "      <td>0</td>\n",
              "      <td>0</td>\n",
              "      <td>0</td>\n",
              "      <td>0</td>\n",
              "      <td>0</td>\n",
              "      <td>...</td>\n",
              "      <td>3</td>\n",
              "      <td>3</td>\n",
              "      <td>13</td>\n",
              "      <td>0</td>\n",
              "      <td>0</td>\n",
              "      <td>0</td>\n",
              "      <td>3</td>\n",
              "      <td>12</td>\n",
              "      <td>0</td>\n",
              "      <td>1</td>\n",
              "    </tr>\n",
              "    <tr>\n",
              "      <th>257671</th>\n",
              "      <td>0</td>\n",
              "      <td>0</td>\n",
              "      <td>0</td>\n",
              "      <td>0</td>\n",
              "      <td>0</td>\n",
              "      <td>0</td>\n",
              "      <td>0</td>\n",
              "      <td>0</td>\n",
              "      <td>0</td>\n",
              "      <td>0</td>\n",
              "      <td>...</td>\n",
              "      <td>30</td>\n",
              "      <td>14</td>\n",
              "      <td>30</td>\n",
              "      <td>0</td>\n",
              "      <td>0</td>\n",
              "      <td>0</td>\n",
              "      <td>30</td>\n",
              "      <td>30</td>\n",
              "      <td>0</td>\n",
              "      <td>1</td>\n",
              "    </tr>\n",
              "    <tr>\n",
              "      <th>257672</th>\n",
              "      <td>0</td>\n",
              "      <td>0</td>\n",
              "      <td>0</td>\n",
              "      <td>0</td>\n",
              "      <td>0</td>\n",
              "      <td>0</td>\n",
              "      <td>0</td>\n",
              "      <td>0</td>\n",
              "      <td>0</td>\n",
              "      <td>0</td>\n",
              "      <td>...</td>\n",
              "      <td>30</td>\n",
              "      <td>16</td>\n",
              "      <td>30</td>\n",
              "      <td>0</td>\n",
              "      <td>0</td>\n",
              "      <td>0</td>\n",
              "      <td>30</td>\n",
              "      <td>30</td>\n",
              "      <td>0</td>\n",
              "      <td>1</td>\n",
              "    </tr>\n",
              "  </tbody>\n",
              "</table>\n",
              "<p>257673 rows × 198 columns</p>\n",
              "</div>\n",
              "      <button class=\"colab-df-convert\" onclick=\"convertToInteractive('df-b3bb5955-f2f8-4dce-abcb-17df4571c2dc')\"\n",
              "              title=\"Convert this dataframe to an interactive table.\"\n",
              "              style=\"display:none;\">\n",
              "        \n",
              "  <svg xmlns=\"http://www.w3.org/2000/svg\" height=\"24px\"viewBox=\"0 0 24 24\"\n",
              "       width=\"24px\">\n",
              "    <path d=\"M0 0h24v24H0V0z\" fill=\"none\"/>\n",
              "    <path d=\"M18.56 5.44l.94 2.06.94-2.06 2.06-.94-2.06-.94-.94-2.06-.94 2.06-2.06.94zm-11 1L8.5 8.5l.94-2.06 2.06-.94-2.06-.94L8.5 2.5l-.94 2.06-2.06.94zm10 10l.94 2.06.94-2.06 2.06-.94-2.06-.94-.94-2.06-.94 2.06-2.06.94z\"/><path d=\"M17.41 7.96l-1.37-1.37c-.4-.4-.92-.59-1.43-.59-.52 0-1.04.2-1.43.59L10.3 9.45l-7.72 7.72c-.78.78-.78 2.05 0 2.83L4 21.41c.39.39.9.59 1.41.59.51 0 1.02-.2 1.41-.59l7.78-7.78 2.81-2.81c.8-.78.8-2.07 0-2.86zM5.41 20L4 18.59l7.72-7.72 1.47 1.35L5.41 20z\"/>\n",
              "  </svg>\n",
              "      </button>\n",
              "      \n",
              "  <style>\n",
              "    .colab-df-container {\n",
              "      display:flex;\n",
              "      flex-wrap:wrap;\n",
              "      gap: 12px;\n",
              "    }\n",
              "\n",
              "    .colab-df-convert {\n",
              "      background-color: #E8F0FE;\n",
              "      border: none;\n",
              "      border-radius: 50%;\n",
              "      cursor: pointer;\n",
              "      display: none;\n",
              "      fill: #1967D2;\n",
              "      height: 32px;\n",
              "      padding: 0 0 0 0;\n",
              "      width: 32px;\n",
              "    }\n",
              "\n",
              "    .colab-df-convert:hover {\n",
              "      background-color: #E2EBFA;\n",
              "      box-shadow: 0px 1px 2px rgba(60, 64, 67, 0.3), 0px 1px 3px 1px rgba(60, 64, 67, 0.15);\n",
              "      fill: #174EA6;\n",
              "    }\n",
              "\n",
              "    [theme=dark] .colab-df-convert {\n",
              "      background-color: #3B4455;\n",
              "      fill: #D2E3FC;\n",
              "    }\n",
              "\n",
              "    [theme=dark] .colab-df-convert:hover {\n",
              "      background-color: #434B5C;\n",
              "      box-shadow: 0px 1px 3px 1px rgba(0, 0, 0, 0.15);\n",
              "      filter: drop-shadow(0px 1px 2px rgba(0, 0, 0, 0.3));\n",
              "      fill: #FFFFFF;\n",
              "    }\n",
              "  </style>\n",
              "\n",
              "      <script>\n",
              "        const buttonEl =\n",
              "          document.querySelector('#df-b3bb5955-f2f8-4dce-abcb-17df4571c2dc button.colab-df-convert');\n",
              "        buttonEl.style.display =\n",
              "          google.colab.kernel.accessAllowed ? 'block' : 'none';\n",
              "\n",
              "        async function convertToInteractive(key) {\n",
              "          const element = document.querySelector('#df-b3bb5955-f2f8-4dce-abcb-17df4571c2dc');\n",
              "          const dataTable =\n",
              "            await google.colab.kernel.invokeFunction('convertToInteractive',\n",
              "                                                     [key], {});\n",
              "          if (!dataTable) return;\n",
              "\n",
              "          const docLinkHtml = 'Like what you see? Visit the ' +\n",
              "            '<a target=\"_blank\" href=https://colab.research.google.com/notebooks/data_table.ipynb>data table notebook</a>'\n",
              "            + ' to learn more about interactive tables.';\n",
              "          element.innerHTML = '';\n",
              "          dataTable['output_type'] = 'display_data';\n",
              "          await google.colab.output.renderOutput(dataTable, element);\n",
              "          const docLink = document.createElement('div');\n",
              "          docLink.innerHTML = docLinkHtml;\n",
              "          element.appendChild(docLink);\n",
              "        }\n",
              "      </script>\n",
              "    </div>\n",
              "  </div>\n",
              "  "
            ]
          },
          "metadata": {},
          "execution_count": 6
        }
      ],
      "source": [
        "# sampling data taking only 50% of the data\n",
        "# bin_data = bin_data_total.groupby('label', group_keys=False).apply(lambda x: x.sample(frac=0.5))\n",
        "bin_data = bin_data_total\n",
        "bin_data"
      ]
    },
    {
      "cell_type": "code",
      "source": [
        "number_of_cols = bin_data.shape[1]"
      ],
      "metadata": {
        "id": "N125Cc3Ukt8h"
      },
      "execution_count": 7,
      "outputs": []
    },
    {
      "cell_type": "code",
      "execution_count": 8,
      "metadata": {
        "colab": {
          "base_uri": "https://localhost:8080/"
        },
        "id": "nKX2TRG0J85J",
        "outputId": "850625ef-4788-4c7e-eb5b-6853e5aaec21"
      },
      "outputs": [
        {
          "output_type": "execute_result",
          "data": {
            "text/plain": [
              "1    0.639077\n",
              "0    0.360923\n",
              "Name: label, dtype: float64"
            ]
          },
          "metadata": {},
          "execution_count": 8
        }
      ],
      "source": [
        "# distribution of label class after sampling\n",
        "data_size = bin_data.shape[0]\n",
        "bin_data.label.value_counts()/data_size"
      ]
    },
    {
      "cell_type": "code",
      "execution_count": 9,
      "metadata": {
        "id": "L11T2MepDzax"
      },
      "outputs": [],
      "source": [
        "model_selection = {\n",
        "    0 : \"ALL\",\n",
        "    2 : \"MLP\",\n",
        "    3 : \"LSTM\",\n",
        "    4 : \"AE\"\n",
        "}\n",
        "model_flag = 0\n",
        "svm_enable = 1"
      ]
    },
    {
      "cell_type": "code",
      "execution_count": 10,
      "metadata": {
        "id": "OdRAXVlsxUVW"
      },
      "outputs": [],
      "source": [
        "X = bin_data.iloc[:,0:number_of_cols] # dataset excluding target attribute (encoded, one-hot-encoded,original)\n",
        "Y = bin_data['label'] # target attribute"
      ]
    },
    {
      "cell_type": "code",
      "execution_count": 11,
      "metadata": {
        "id": "lFdHHvRtxU5B"
      },
      "outputs": [],
      "source": [
        "# splitting the dataset 75% for training and 25% testing\n",
        "X_train, X_test, y_train, y_test = train_test_split(X,Y, test_size=0.25, random_state=42) "
      ]
    },
    {
      "cell_type": "code",
      "source": [
        "# calling the normalization() function\n",
        "X_train = normalization_train(X_train,numeric_cols)\n",
        "X_train.head()"
      ],
      "metadata": {
        "colab": {
          "base_uri": "https://localhost:8080/",
          "height": 317
        },
        "id": "SLLlMtsaYJdK",
        "outputId": "a9fd687b-537e-4012-b5e8-bd813ec3482a"
      },
      "execution_count": 12,
      "outputs": [
        {
          "output_type": "execute_result",
          "data": {
            "text/plain": [
              "        proto_3pc  proto_a/n  proto_aes-sp3-d  proto_any  proto_argus  \\\n",
              "92000         0.0        0.0              0.0        0.0          0.0   \n",
              "192145        0.0        0.0              0.0        0.0          0.0   \n",
              "3245          0.0        0.0              0.0        0.0          0.0   \n",
              "45792         0.0        0.0              0.0        0.0          0.0   \n",
              "250330        0.0        0.0              0.0        0.0          0.0   \n",
              "\n",
              "        proto_aris  proto_arp  proto_ax.25  proto_bbn-rcc  proto_bna  ...  \\\n",
              "92000          0.0        0.0          0.0            0.0        0.0  ...   \n",
              "192145         0.0        0.0          0.0            0.0        0.0  ...   \n",
              "3245           0.0        0.0          0.0            0.0        0.0  ...   \n",
              "45792          0.0        0.0          0.0            0.0        0.0  ...   \n",
              "250330         0.0        0.0          0.0            0.0        0.0  ...   \n",
              "\n",
              "        ct_src_dport_ltm  ct_dst_sport_ltm  ct_dst_src_ltm  is_ftp_login  \\\n",
              "92000                0.0               0.0        0.032258           0.0   \n",
              "192145               0.0               0.0        0.016129           0.0   \n",
              "3245                 0.0               0.0        0.032258           0.0   \n",
              "45792                0.0               0.0        0.000000           0.0   \n",
              "250330               0.0               0.0        0.016129           0.0   \n",
              "\n",
              "        ct_ftp_cmd  ct_flw_http_mthd  ct_src_ltm  ct_srv_dst  is_sm_ips_ports  \\\n",
              "92000          0.0               0.0    0.000000    0.032787              0.0   \n",
              "192145         0.0               0.0    0.000000    0.016393              0.0   \n",
              "3245           0.0               0.0    0.016949    0.032787              0.0   \n",
              "45792          0.0               0.0    0.000000    0.000000              0.0   \n",
              "250330         0.0               0.0    0.000000    0.016393              0.0   \n",
              "\n",
              "        label  \n",
              "92000       0  \n",
              "192145      1  \n",
              "3245        1  \n",
              "45792       1  \n",
              "250330      1  \n",
              "\n",
              "[5 rows x 198 columns]"
            ],
            "text/html": [
              "\n",
              "  <div id=\"df-f586ce67-02a5-47ae-a534-b7247335741a\">\n",
              "    <div class=\"colab-df-container\">\n",
              "      <div>\n",
              "<style scoped>\n",
              "    .dataframe tbody tr th:only-of-type {\n",
              "        vertical-align: middle;\n",
              "    }\n",
              "\n",
              "    .dataframe tbody tr th {\n",
              "        vertical-align: top;\n",
              "    }\n",
              "\n",
              "    .dataframe thead th {\n",
              "        text-align: right;\n",
              "    }\n",
              "</style>\n",
              "<table border=\"1\" class=\"dataframe\">\n",
              "  <thead>\n",
              "    <tr style=\"text-align: right;\">\n",
              "      <th></th>\n",
              "      <th>proto_3pc</th>\n",
              "      <th>proto_a/n</th>\n",
              "      <th>proto_aes-sp3-d</th>\n",
              "      <th>proto_any</th>\n",
              "      <th>proto_argus</th>\n",
              "      <th>proto_aris</th>\n",
              "      <th>proto_arp</th>\n",
              "      <th>proto_ax.25</th>\n",
              "      <th>proto_bbn-rcc</th>\n",
              "      <th>proto_bna</th>\n",
              "      <th>...</th>\n",
              "      <th>ct_src_dport_ltm</th>\n",
              "      <th>ct_dst_sport_ltm</th>\n",
              "      <th>ct_dst_src_ltm</th>\n",
              "      <th>is_ftp_login</th>\n",
              "      <th>ct_ftp_cmd</th>\n",
              "      <th>ct_flw_http_mthd</th>\n",
              "      <th>ct_src_ltm</th>\n",
              "      <th>ct_srv_dst</th>\n",
              "      <th>is_sm_ips_ports</th>\n",
              "      <th>label</th>\n",
              "    </tr>\n",
              "  </thead>\n",
              "  <tbody>\n",
              "    <tr>\n",
              "      <th>92000</th>\n",
              "      <td>0.0</td>\n",
              "      <td>0.0</td>\n",
              "      <td>0.0</td>\n",
              "      <td>0.0</td>\n",
              "      <td>0.0</td>\n",
              "      <td>0.0</td>\n",
              "      <td>0.0</td>\n",
              "      <td>0.0</td>\n",
              "      <td>0.0</td>\n",
              "      <td>0.0</td>\n",
              "      <td>...</td>\n",
              "      <td>0.0</td>\n",
              "      <td>0.0</td>\n",
              "      <td>0.032258</td>\n",
              "      <td>0.0</td>\n",
              "      <td>0.0</td>\n",
              "      <td>0.0</td>\n",
              "      <td>0.000000</td>\n",
              "      <td>0.032787</td>\n",
              "      <td>0.0</td>\n",
              "      <td>0</td>\n",
              "    </tr>\n",
              "    <tr>\n",
              "      <th>192145</th>\n",
              "      <td>0.0</td>\n",
              "      <td>0.0</td>\n",
              "      <td>0.0</td>\n",
              "      <td>0.0</td>\n",
              "      <td>0.0</td>\n",
              "      <td>0.0</td>\n",
              "      <td>0.0</td>\n",
              "      <td>0.0</td>\n",
              "      <td>0.0</td>\n",
              "      <td>0.0</td>\n",
              "      <td>...</td>\n",
              "      <td>0.0</td>\n",
              "      <td>0.0</td>\n",
              "      <td>0.016129</td>\n",
              "      <td>0.0</td>\n",
              "      <td>0.0</td>\n",
              "      <td>0.0</td>\n",
              "      <td>0.000000</td>\n",
              "      <td>0.016393</td>\n",
              "      <td>0.0</td>\n",
              "      <td>1</td>\n",
              "    </tr>\n",
              "    <tr>\n",
              "      <th>3245</th>\n",
              "      <td>0.0</td>\n",
              "      <td>0.0</td>\n",
              "      <td>0.0</td>\n",
              "      <td>0.0</td>\n",
              "      <td>0.0</td>\n",
              "      <td>0.0</td>\n",
              "      <td>0.0</td>\n",
              "      <td>0.0</td>\n",
              "      <td>0.0</td>\n",
              "      <td>0.0</td>\n",
              "      <td>...</td>\n",
              "      <td>0.0</td>\n",
              "      <td>0.0</td>\n",
              "      <td>0.032258</td>\n",
              "      <td>0.0</td>\n",
              "      <td>0.0</td>\n",
              "      <td>0.0</td>\n",
              "      <td>0.016949</td>\n",
              "      <td>0.032787</td>\n",
              "      <td>0.0</td>\n",
              "      <td>1</td>\n",
              "    </tr>\n",
              "    <tr>\n",
              "      <th>45792</th>\n",
              "      <td>0.0</td>\n",
              "      <td>0.0</td>\n",
              "      <td>0.0</td>\n",
              "      <td>0.0</td>\n",
              "      <td>0.0</td>\n",
              "      <td>0.0</td>\n",
              "      <td>0.0</td>\n",
              "      <td>0.0</td>\n",
              "      <td>0.0</td>\n",
              "      <td>0.0</td>\n",
              "      <td>...</td>\n",
              "      <td>0.0</td>\n",
              "      <td>0.0</td>\n",
              "      <td>0.000000</td>\n",
              "      <td>0.0</td>\n",
              "      <td>0.0</td>\n",
              "      <td>0.0</td>\n",
              "      <td>0.000000</td>\n",
              "      <td>0.000000</td>\n",
              "      <td>0.0</td>\n",
              "      <td>1</td>\n",
              "    </tr>\n",
              "    <tr>\n",
              "      <th>250330</th>\n",
              "      <td>0.0</td>\n",
              "      <td>0.0</td>\n",
              "      <td>0.0</td>\n",
              "      <td>0.0</td>\n",
              "      <td>0.0</td>\n",
              "      <td>0.0</td>\n",
              "      <td>0.0</td>\n",
              "      <td>0.0</td>\n",
              "      <td>0.0</td>\n",
              "      <td>0.0</td>\n",
              "      <td>...</td>\n",
              "      <td>0.0</td>\n",
              "      <td>0.0</td>\n",
              "      <td>0.016129</td>\n",
              "      <td>0.0</td>\n",
              "      <td>0.0</td>\n",
              "      <td>0.0</td>\n",
              "      <td>0.000000</td>\n",
              "      <td>0.016393</td>\n",
              "      <td>0.0</td>\n",
              "      <td>1</td>\n",
              "    </tr>\n",
              "  </tbody>\n",
              "</table>\n",
              "<p>5 rows × 198 columns</p>\n",
              "</div>\n",
              "      <button class=\"colab-df-convert\" onclick=\"convertToInteractive('df-f586ce67-02a5-47ae-a534-b7247335741a')\"\n",
              "              title=\"Convert this dataframe to an interactive table.\"\n",
              "              style=\"display:none;\">\n",
              "        \n",
              "  <svg xmlns=\"http://www.w3.org/2000/svg\" height=\"24px\"viewBox=\"0 0 24 24\"\n",
              "       width=\"24px\">\n",
              "    <path d=\"M0 0h24v24H0V0z\" fill=\"none\"/>\n",
              "    <path d=\"M18.56 5.44l.94 2.06.94-2.06 2.06-.94-2.06-.94-.94-2.06-.94 2.06-2.06.94zm-11 1L8.5 8.5l.94-2.06 2.06-.94-2.06-.94L8.5 2.5l-.94 2.06-2.06.94zm10 10l.94 2.06.94-2.06 2.06-.94-2.06-.94-.94-2.06-.94 2.06-2.06.94z\"/><path d=\"M17.41 7.96l-1.37-1.37c-.4-.4-.92-.59-1.43-.59-.52 0-1.04.2-1.43.59L10.3 9.45l-7.72 7.72c-.78.78-.78 2.05 0 2.83L4 21.41c.39.39.9.59 1.41.59.51 0 1.02-.2 1.41-.59l7.78-7.78 2.81-2.81c.8-.78.8-2.07 0-2.86zM5.41 20L4 18.59l7.72-7.72 1.47 1.35L5.41 20z\"/>\n",
              "  </svg>\n",
              "      </button>\n",
              "      \n",
              "  <style>\n",
              "    .colab-df-container {\n",
              "      display:flex;\n",
              "      flex-wrap:wrap;\n",
              "      gap: 12px;\n",
              "    }\n",
              "\n",
              "    .colab-df-convert {\n",
              "      background-color: #E8F0FE;\n",
              "      border: none;\n",
              "      border-radius: 50%;\n",
              "      cursor: pointer;\n",
              "      display: none;\n",
              "      fill: #1967D2;\n",
              "      height: 32px;\n",
              "      padding: 0 0 0 0;\n",
              "      width: 32px;\n",
              "    }\n",
              "\n",
              "    .colab-df-convert:hover {\n",
              "      background-color: #E2EBFA;\n",
              "      box-shadow: 0px 1px 2px rgba(60, 64, 67, 0.3), 0px 1px 3px 1px rgba(60, 64, 67, 0.15);\n",
              "      fill: #174EA6;\n",
              "    }\n",
              "\n",
              "    [theme=dark] .colab-df-convert {\n",
              "      background-color: #3B4455;\n",
              "      fill: #D2E3FC;\n",
              "    }\n",
              "\n",
              "    [theme=dark] .colab-df-convert:hover {\n",
              "      background-color: #434B5C;\n",
              "      box-shadow: 0px 1px 3px 1px rgba(0, 0, 0, 0.15);\n",
              "      filter: drop-shadow(0px 1px 2px rgba(0, 0, 0, 0.3));\n",
              "      fill: #FFFFFF;\n",
              "    }\n",
              "  </style>\n",
              "\n",
              "      <script>\n",
              "        const buttonEl =\n",
              "          document.querySelector('#df-f586ce67-02a5-47ae-a534-b7247335741a button.colab-df-convert');\n",
              "        buttonEl.style.display =\n",
              "          google.colab.kernel.accessAllowed ? 'block' : 'none';\n",
              "\n",
              "        async function convertToInteractive(key) {\n",
              "          const element = document.querySelector('#df-f586ce67-02a5-47ae-a534-b7247335741a');\n",
              "          const dataTable =\n",
              "            await google.colab.kernel.invokeFunction('convertToInteractive',\n",
              "                                                     [key], {});\n",
              "          if (!dataTable) return;\n",
              "\n",
              "          const docLinkHtml = 'Like what you see? Visit the ' +\n",
              "            '<a target=\"_blank\" href=https://colab.research.google.com/notebooks/data_table.ipynb>data table notebook</a>'\n",
              "            + ' to learn more about interactive tables.';\n",
              "          element.innerHTML = '';\n",
              "          dataTable['output_type'] = 'display_data';\n",
              "          await google.colab.output.renderOutput(dataTable, element);\n",
              "          const docLink = document.createElement('div');\n",
              "          docLink.innerHTML = docLinkHtml;\n",
              "          element.appendChild(docLink);\n",
              "        }\n",
              "      </script>\n",
              "    </div>\n",
              "  </div>\n",
              "  "
            ]
          },
          "metadata": {},
          "execution_count": 12
        }
      ]
    },
    {
      "cell_type": "code",
      "source": [
        "# calling the normalization() function\n",
        "X_test = normalization_test(X_test,numeric_cols)\n",
        "X_test.head()"
      ],
      "metadata": {
        "colab": {
          "base_uri": "https://localhost:8080/",
          "height": 317
        },
        "id": "EKmhgZCobPU3",
        "outputId": "25e1e06b-80ae-46c9-9b02-4c2882064e79"
      },
      "execution_count": 13,
      "outputs": [
        {
          "output_type": "execute_result",
          "data": {
            "text/plain": [
              "        proto_3pc  proto_a/n  proto_aes-sp3-d  proto_any  proto_argus  \\\n",
              "122637        0.0        0.0              0.0        0.0          0.0   \n",
              "137118        0.0        0.0              0.0        0.0          0.0   \n",
              "245289        0.0        0.0              0.0        0.0          0.0   \n",
              "221262        0.0        0.0              0.0        0.0          0.0   \n",
              "31408         0.0        0.0              0.0        0.0          0.0   \n",
              "\n",
              "        proto_aris  proto_arp  proto_ax.25  proto_bbn-rcc  proto_bna  ...  \\\n",
              "122637         0.0        0.0          0.0            0.0        0.0  ...   \n",
              "137118         0.0        0.0          0.0            0.0        0.0  ...   \n",
              "245289         0.0        0.0          0.0            0.0        0.0  ...   \n",
              "221262         0.0        0.0          0.0            0.0        0.0  ...   \n",
              "31408          0.0        0.0          0.0            0.0        0.0  ...   \n",
              "\n",
              "        ct_src_dport_ltm  ct_dst_sport_ltm  ct_dst_src_ltm  is_ftp_login  \\\n",
              "122637               1.0               1.0             1.0           0.0   \n",
              "137118               1.0               1.0             6.0           0.0   \n",
              "245289              17.0              17.0            17.0           0.0   \n",
              "221262              32.0              14.0            36.0           0.0   \n",
              "31408                1.0               1.0             1.0           0.0   \n",
              "\n",
              "        ct_ftp_cmd  ct_flw_http_mthd  ct_src_ltm  ct_srv_dst  is_sm_ips_ports  \\\n",
              "122637         0.0               0.0         3.0         4.0              0.0   \n",
              "137118         0.0               0.0         8.0         6.0              0.0   \n",
              "245289         0.0               0.0        18.0        17.0              0.0   \n",
              "221262         0.0               0.0        32.0        36.0              0.0   \n",
              "31408          0.0               1.0         1.0         2.0              0.0   \n",
              "\n",
              "        label  \n",
              "122637      0  \n",
              "137118      1  \n",
              "245289      1  \n",
              "221262      1  \n",
              "31408       0  \n",
              "\n",
              "[5 rows x 198 columns]"
            ],
            "text/html": [
              "\n",
              "  <div id=\"df-2d1a5ead-2e67-4660-8a5b-9709e5cf8b93\">\n",
              "    <div class=\"colab-df-container\">\n",
              "      <div>\n",
              "<style scoped>\n",
              "    .dataframe tbody tr th:only-of-type {\n",
              "        vertical-align: middle;\n",
              "    }\n",
              "\n",
              "    .dataframe tbody tr th {\n",
              "        vertical-align: top;\n",
              "    }\n",
              "\n",
              "    .dataframe thead th {\n",
              "        text-align: right;\n",
              "    }\n",
              "</style>\n",
              "<table border=\"1\" class=\"dataframe\">\n",
              "  <thead>\n",
              "    <tr style=\"text-align: right;\">\n",
              "      <th></th>\n",
              "      <th>proto_3pc</th>\n",
              "      <th>proto_a/n</th>\n",
              "      <th>proto_aes-sp3-d</th>\n",
              "      <th>proto_any</th>\n",
              "      <th>proto_argus</th>\n",
              "      <th>proto_aris</th>\n",
              "      <th>proto_arp</th>\n",
              "      <th>proto_ax.25</th>\n",
              "      <th>proto_bbn-rcc</th>\n",
              "      <th>proto_bna</th>\n",
              "      <th>...</th>\n",
              "      <th>ct_src_dport_ltm</th>\n",
              "      <th>ct_dst_sport_ltm</th>\n",
              "      <th>ct_dst_src_ltm</th>\n",
              "      <th>is_ftp_login</th>\n",
              "      <th>ct_ftp_cmd</th>\n",
              "      <th>ct_flw_http_mthd</th>\n",
              "      <th>ct_src_ltm</th>\n",
              "      <th>ct_srv_dst</th>\n",
              "      <th>is_sm_ips_ports</th>\n",
              "      <th>label</th>\n",
              "    </tr>\n",
              "  </thead>\n",
              "  <tbody>\n",
              "    <tr>\n",
              "      <th>122637</th>\n",
              "      <td>0.0</td>\n",
              "      <td>0.0</td>\n",
              "      <td>0.0</td>\n",
              "      <td>0.0</td>\n",
              "      <td>0.0</td>\n",
              "      <td>0.0</td>\n",
              "      <td>0.0</td>\n",
              "      <td>0.0</td>\n",
              "      <td>0.0</td>\n",
              "      <td>0.0</td>\n",
              "      <td>...</td>\n",
              "      <td>1.0</td>\n",
              "      <td>1.0</td>\n",
              "      <td>1.0</td>\n",
              "      <td>0.0</td>\n",
              "      <td>0.0</td>\n",
              "      <td>0.0</td>\n",
              "      <td>3.0</td>\n",
              "      <td>4.0</td>\n",
              "      <td>0.0</td>\n",
              "      <td>0</td>\n",
              "    </tr>\n",
              "    <tr>\n",
              "      <th>137118</th>\n",
              "      <td>0.0</td>\n",
              "      <td>0.0</td>\n",
              "      <td>0.0</td>\n",
              "      <td>0.0</td>\n",
              "      <td>0.0</td>\n",
              "      <td>0.0</td>\n",
              "      <td>0.0</td>\n",
              "      <td>0.0</td>\n",
              "      <td>0.0</td>\n",
              "      <td>0.0</td>\n",
              "      <td>...</td>\n",
              "      <td>1.0</td>\n",
              "      <td>1.0</td>\n",
              "      <td>6.0</td>\n",
              "      <td>0.0</td>\n",
              "      <td>0.0</td>\n",
              "      <td>0.0</td>\n",
              "      <td>8.0</td>\n",
              "      <td>6.0</td>\n",
              "      <td>0.0</td>\n",
              "      <td>1</td>\n",
              "    </tr>\n",
              "    <tr>\n",
              "      <th>245289</th>\n",
              "      <td>0.0</td>\n",
              "      <td>0.0</td>\n",
              "      <td>0.0</td>\n",
              "      <td>0.0</td>\n",
              "      <td>0.0</td>\n",
              "      <td>0.0</td>\n",
              "      <td>0.0</td>\n",
              "      <td>0.0</td>\n",
              "      <td>0.0</td>\n",
              "      <td>0.0</td>\n",
              "      <td>...</td>\n",
              "      <td>17.0</td>\n",
              "      <td>17.0</td>\n",
              "      <td>17.0</td>\n",
              "      <td>0.0</td>\n",
              "      <td>0.0</td>\n",
              "      <td>0.0</td>\n",
              "      <td>18.0</td>\n",
              "      <td>17.0</td>\n",
              "      <td>0.0</td>\n",
              "      <td>1</td>\n",
              "    </tr>\n",
              "    <tr>\n",
              "      <th>221262</th>\n",
              "      <td>0.0</td>\n",
              "      <td>0.0</td>\n",
              "      <td>0.0</td>\n",
              "      <td>0.0</td>\n",
              "      <td>0.0</td>\n",
              "      <td>0.0</td>\n",
              "      <td>0.0</td>\n",
              "      <td>0.0</td>\n",
              "      <td>0.0</td>\n",
              "      <td>0.0</td>\n",
              "      <td>...</td>\n",
              "      <td>32.0</td>\n",
              "      <td>14.0</td>\n",
              "      <td>36.0</td>\n",
              "      <td>0.0</td>\n",
              "      <td>0.0</td>\n",
              "      <td>0.0</td>\n",
              "      <td>32.0</td>\n",
              "      <td>36.0</td>\n",
              "      <td>0.0</td>\n",
              "      <td>1</td>\n",
              "    </tr>\n",
              "    <tr>\n",
              "      <th>31408</th>\n",
              "      <td>0.0</td>\n",
              "      <td>0.0</td>\n",
              "      <td>0.0</td>\n",
              "      <td>0.0</td>\n",
              "      <td>0.0</td>\n",
              "      <td>0.0</td>\n",
              "      <td>0.0</td>\n",
              "      <td>0.0</td>\n",
              "      <td>0.0</td>\n",
              "      <td>0.0</td>\n",
              "      <td>...</td>\n",
              "      <td>1.0</td>\n",
              "      <td>1.0</td>\n",
              "      <td>1.0</td>\n",
              "      <td>0.0</td>\n",
              "      <td>0.0</td>\n",
              "      <td>1.0</td>\n",
              "      <td>1.0</td>\n",
              "      <td>2.0</td>\n",
              "      <td>0.0</td>\n",
              "      <td>0</td>\n",
              "    </tr>\n",
              "  </tbody>\n",
              "</table>\n",
              "<p>5 rows × 198 columns</p>\n",
              "</div>\n",
              "      <button class=\"colab-df-convert\" onclick=\"convertToInteractive('df-2d1a5ead-2e67-4660-8a5b-9709e5cf8b93')\"\n",
              "              title=\"Convert this dataframe to an interactive table.\"\n",
              "              style=\"display:none;\">\n",
              "        \n",
              "  <svg xmlns=\"http://www.w3.org/2000/svg\" height=\"24px\"viewBox=\"0 0 24 24\"\n",
              "       width=\"24px\">\n",
              "    <path d=\"M0 0h24v24H0V0z\" fill=\"none\"/>\n",
              "    <path d=\"M18.56 5.44l.94 2.06.94-2.06 2.06-.94-2.06-.94-.94-2.06-.94 2.06-2.06.94zm-11 1L8.5 8.5l.94-2.06 2.06-.94-2.06-.94L8.5 2.5l-.94 2.06-2.06.94zm10 10l.94 2.06.94-2.06 2.06-.94-2.06-.94-.94-2.06-.94 2.06-2.06.94z\"/><path d=\"M17.41 7.96l-1.37-1.37c-.4-.4-.92-.59-1.43-.59-.52 0-1.04.2-1.43.59L10.3 9.45l-7.72 7.72c-.78.78-.78 2.05 0 2.83L4 21.41c.39.39.9.59 1.41.59.51 0 1.02-.2 1.41-.59l7.78-7.78 2.81-2.81c.8-.78.8-2.07 0-2.86zM5.41 20L4 18.59l7.72-7.72 1.47 1.35L5.41 20z\"/>\n",
              "  </svg>\n",
              "      </button>\n",
              "      \n",
              "  <style>\n",
              "    .colab-df-container {\n",
              "      display:flex;\n",
              "      flex-wrap:wrap;\n",
              "      gap: 12px;\n",
              "    }\n",
              "\n",
              "    .colab-df-convert {\n",
              "      background-color: #E8F0FE;\n",
              "      border: none;\n",
              "      border-radius: 50%;\n",
              "      cursor: pointer;\n",
              "      display: none;\n",
              "      fill: #1967D2;\n",
              "      height: 32px;\n",
              "      padding: 0 0 0 0;\n",
              "      width: 32px;\n",
              "    }\n",
              "\n",
              "    .colab-df-convert:hover {\n",
              "      background-color: #E2EBFA;\n",
              "      box-shadow: 0px 1px 2px rgba(60, 64, 67, 0.3), 0px 1px 3px 1px rgba(60, 64, 67, 0.15);\n",
              "      fill: #174EA6;\n",
              "    }\n",
              "\n",
              "    [theme=dark] .colab-df-convert {\n",
              "      background-color: #3B4455;\n",
              "      fill: #D2E3FC;\n",
              "    }\n",
              "\n",
              "    [theme=dark] .colab-df-convert:hover {\n",
              "      background-color: #434B5C;\n",
              "      box-shadow: 0px 1px 3px 1px rgba(0, 0, 0, 0.15);\n",
              "      filter: drop-shadow(0px 1px 2px rgba(0, 0, 0, 0.3));\n",
              "      fill: #FFFFFF;\n",
              "    }\n",
              "  </style>\n",
              "\n",
              "      <script>\n",
              "        const buttonEl =\n",
              "          document.querySelector('#df-2d1a5ead-2e67-4660-8a5b-9709e5cf8b93 button.colab-df-convert');\n",
              "        buttonEl.style.display =\n",
              "          google.colab.kernel.accessAllowed ? 'block' : 'none';\n",
              "\n",
              "        async function convertToInteractive(key) {\n",
              "          const element = document.querySelector('#df-2d1a5ead-2e67-4660-8a5b-9709e5cf8b93');\n",
              "          const dataTable =\n",
              "            await google.colab.kernel.invokeFunction('convertToInteractive',\n",
              "                                                     [key], {});\n",
              "          if (!dataTable) return;\n",
              "\n",
              "          const docLinkHtml = 'Like what you see? Visit the ' +\n",
              "            '<a target=\"_blank\" href=https://colab.research.google.com/notebooks/data_table.ipynb>data table notebook</a>'\n",
              "            + ' to learn more about interactive tables.';\n",
              "          element.innerHTML = '';\n",
              "          dataTable['output_type'] = 'display_data';\n",
              "          await google.colab.output.renderOutput(dataTable, element);\n",
              "          const docLink = document.createElement('div');\n",
              "          docLink.innerHTML = docLinkHtml;\n",
              "          element.appendChild(docLink);\n",
              "        }\n",
              "      </script>\n",
              "    </div>\n",
              "  </div>\n",
              "  "
            ]
          },
          "metadata": {},
          "execution_count": 13
        }
      ]
    },
    {
      "cell_type": "markdown",
      "metadata": {
        "id": "ZfAbEIDgz4iY"
      },
      "source": [
        "## **Linear Support Vector Machine Classifier (Binary Classification) **\n",
        "to enable make the svm_enable = 1 in the above cell"
      ]
    },
    {
      "cell_type": "code",
      "execution_count": 14,
      "metadata": {
        "id": "o8GdMBjdzFQT"
      },
      "outputs": [],
      "source": [
        "if svm_enable:\n",
        "  # using kernel as linear \n",
        "  lsvm = SVC(kernel='linear',gamma='auto') \n",
        "  lsvm.fit(X_train,y_train) # training model on training dataset"
      ]
    },
    {
      "cell_type": "code",
      "execution_count": 15,
      "metadata": {
        "id": "NjfYZA_9zTNK"
      },
      "outputs": [],
      "source": [
        "if svm_enable:\n",
        "  pkl_filename = \"/content/drive/MyDrive/Colab_Notebooks/Models/lsvm_binary_unsw_nb15.pkl\"\n",
        "  if (not path.isfile(pkl_filename)):\n",
        "    # saving the trained model to disk\n",
        "    with open(pkl_filename, 'wb') as file:\n",
        "      pickle.dump(lsvm, file)\n",
        "    print(\"Saved model to disk\")\n",
        "    # loading the trained model from disk\n",
        "    with open(pkl_filename, 'rb') as file:\n",
        "      lsvm = pickle.load(file)\n",
        "    print(\"Loaded model from disk\") "
      ]
    },
    {
      "cell_type": "code",
      "execution_count": 16,
      "metadata": {
        "id": "xsnN51Juzgcf",
        "colab": {
          "base_uri": "https://localhost:8080/"
        },
        "outputId": "136b181c-9012-45bf-b23d-8f9f71cda464"
      },
      "outputs": [
        {
          "output_type": "stream",
          "name": "stdout",
          "text": [
            "LSVM-Classifier Binary Set-Accuracy is  35.54851829429206\n"
          ]
        }
      ],
      "source": [
        "if svm_enable:\n",
        "  y_pred = lsvm.predict(X_test) # predicting target attribute on testing dataset\n",
        "  ac = accuracy_score(y_test, y_pred)*100 # calculating accuracy of predicted data\n",
        "  print(\"LSVM-Classifier Binary Set-Accuracy is \", ac)"
      ]
    },
    {
      "cell_type": "code",
      "execution_count": 17,
      "metadata": {
        "id": "qg2gbJTg8NtL"
      },
      "outputs": [],
      "source": [
        "# import matplotlib.pyplot as plt\n",
        "# from sklearn.datasets import make_classification\n",
        "# from sklearn.metrics import confusion_matrix, ConfusionMatrixDisplay\n",
        "# from sklearn.model_selection import train_test_split\n",
        "# from sklearn.svm import SVC\n",
        "# X, y = make_classification(random_state=0)\n",
        "# X_train, X_test, y_train, y_test = train_test_split(X, y,\n",
        "#                                                     random_state=0)\n",
        "# cm = confusion_matrix(y_test, y_pred, labels=lsvm.classes_)\n",
        "# disp = ConfusionMatrixDisplay(confusion_matrix=cm,\n",
        "#                               display_labels=lsvm.classes_)\n",
        "# disp.plot()\n",
        "\n",
        "# plt.show()"
      ]
    },
    {
      "cell_type": "code",
      "execution_count": 18,
      "metadata": {
        "id": "9IydNlzT5kx6",
        "colab": {
          "base_uri": "https://localhost:8080/",
          "height": 570
        },
        "outputId": "7b01bb1b-127b-4cd8-89af-95a8b2a28196"
      },
      "outputs": [
        {
          "output_type": "display_data",
          "data": {
            "text/plain": [
              "<Figure size 2000x800 with 1 Axes>"
            ],
            "image/png": "[encoded data removed]"
          },
          "metadata": {}
        }
      ],
      "source": [
        "if svm_enable:\n",
        "  plt.figure(figsize=(20,8))\n",
        "  plt.plot(y_pred[300:500], label=\"prediction\", linewidth=2.0,color='blue')\n",
        "  plt.plot(y_test[300:500].values, label=\"real_values\", linewidth=2.0,color='lightcoral')\n",
        "  plt.legend(loc=\"best\")\n",
        "  plt.ylim((-1,2))\n",
        "  plt.title(\"Linear SVM Binary Classification\")\n",
        "  plt.savefig('/content/drive/MyDrive/Colab_Notebooks/Plots/lsvm_real_pred_bin.png')\n",
        "  plt.show()"
      ]
    },
    {
      "cell_type": "code",
      "execution_count": 19,
      "metadata": {
        "id": "s9lqoveaUBvg",
        "colab": {
          "base_uri": "https://localhost:8080/"
        },
        "outputId": "d54b510d-7877-499f-a2a8-af82a7d7ca8b"
      },
      "outputs": [
        {
          "output_type": "stream",
          "name": "stdout",
          "text": [
            "              precision    recall  f1-score   support\n",
            "\n",
            "     class 0       0.35      0.96      0.52     23243\n",
            "     class 1       0.40      0.02      0.03     41176\n",
            "\n",
            "    accuracy                           0.36     64419\n",
            "   macro avg       0.38      0.49      0.27     64419\n",
            "weighted avg       0.38      0.36      0.21     64419\n",
            "\n"
          ]
        }
      ],
      "source": [
        "if svm_enable:\n",
        "  target_names = ['class 0', 'class 1']\n",
        "  print(classification_report(y_test, y_pred, target_names=target_names))"
      ]
    },
    {
      "cell_type": "code",
      "execution_count": 20,
      "metadata": {
        "id": "kWxBZhnw9t5n",
        "colab": {
          "base_uri": "https://localhost:8080/",
          "height": 450
        },
        "outputId": "5ef4a88f-0c10-4c34-fcac-d5982c3f63b3"
      },
      "outputs": [
        {
          "output_type": "display_data",
          "data": {
            "text/plain": [
              "<Figure size 640x480 with 2 Axes>"
            ],
            "image/png": "[encoded data removed]"
          },
          "metadata": {}
        }
      ],
      "source": [
        "if svm_enable:\n",
        "  from sklearn.metrics import confusion_matrix, ConfusionMatrixDisplay\n",
        "\n",
        "  clf = lsvm\n",
        "  cm = confusion_matrix(y_test, y_pred, labels=clf.classes_)\n",
        "  disp = ConfusionMatrixDisplay(confusion_matrix=cm,\n",
        "                                display_labels=clf.classes_)\n",
        "  disp.plot()\n",
        "\n",
        "  plt.show()"
      ]
    },
    {
      "cell_type": "markdown",
      "metadata": {
        "id": "PUjrwY2l0_RI"
      },
      "source": [
        "## **Multi Layer Perceptron Classifier (Binary Classification)**"
      ]
    },
    {
      "cell_type": "code",
      "execution_count": 21,
      "metadata": {
        "id": "u9v5Ylpa1DHY"
      },
      "outputs": [],
      "source": [
        "if model_selection[model_flag]==\"ALL\" or model_selection[model_flag] == \"MLP\":\n",
        "  mlp = Sequential() # creating model\n",
        "\n",
        "  # adding input layer and first layer with 50 neurons\n",
        "  mlp.add(Dense(units=50, input_dim=X_train.shape[1], activation='relu'))\n",
        "  # output layer with sigmoid activation\n",
        "  mlp.add(Dense(units=1,activation='sigmoid'))"
      ]
    },
    {
      "cell_type": "code",
      "execution_count": 22,
      "metadata": {
        "id": "E-9M9d0p1p8s"
      },
      "outputs": [],
      "source": [
        "if model_selection[model_flag]==\"ALL\" or model_selection[model_flag] == \"MLP\":\n",
        "  # defining loss function, optimizer, metrics and then compiling model\n",
        "  mlp.compile(loss='binary_crossentropy', optimizer='adam', metrics=['accuracy'])"
      ]
    },
    {
      "cell_type": "code",
      "execution_count": 23,
      "metadata": {
        "id": "NK-1_akm1vO9",
        "colab": {
          "base_uri": "https://localhost:8080/"
        },
        "outputId": "3cd7885e-49a9-483f-eaac-655f139eadef"
      },
      "outputs": [
        {
          "output_type": "stream",
          "name": "stdout",
          "text": [
            "Model: \"sequential\"\n",
            "_________________________________________________________________\n",
            " Layer (type)                Output Shape              Param #   \n",
            "=================================================================\n",
            " dense (Dense)               (None, 50)                9950      \n",
            "                                                                 \n",
            " dense_1 (Dense)             (None, 1)                 51        \n",
            "                                                                 \n",
            "=================================================================\n",
            "Total params: 10,001\n",
            "Trainable params: 10,001\n",
            "Non-trainable params: 0\n",
            "_________________________________________________________________\n"
          ]
        }
      ],
      "source": [
        "if model_selection[model_flag]==\"ALL\" or model_selection[model_flag] == \"MLP\":\n",
        "  # summary of model layers\n",
        "  mlp.summary()"
      ]
    },
    {
      "cell_type": "code",
      "execution_count": 24,
      "metadata": {
        "id": "UYZ4xCgp13gP",
        "colab": {
          "base_uri": "https://localhost:8080/"
        },
        "outputId": "8f8f2a43-465c-4ddc-c96a-2e3d7cb3cdfb"
      },
      "outputs": [
        {
          "output_type": "stream",
          "name": "stdout",
          "text": [
            "Epoch 1/100\n",
            "31/31 [==============================] - 3s 21ms/step - loss: 0.5883 - accuracy: 0.7583 - val_loss: 0.4869 - val_accuracy: 0.8476\n",
            "Epoch 2/100\n",
            "31/31 [==============================] - 0s 9ms/step - loss: 0.4213 - accuracy: 0.8633 - val_loss: 0.3592 - val_accuracy: 0.8839\n",
            "Epoch 3/100\n",
            "31/31 [==============================] - 0s 10ms/step - loss: 0.3114 - accuracy: 0.9272 - val_loss: 0.2628 - val_accuracy: 0.9479\n",
            "Epoch 4/100\n",
            "31/31 [==============================] - 0s 9ms/step - loss: 0.2274 - accuracy: 0.9510 - val_loss: 0.1928 - val_accuracy: 0.9535\n",
            "Epoch 5/100\n",
            "31/31 [==============================] - 0s 9ms/step - loss: 0.1663 - accuracy: 0.9629 - val_loss: 0.1402 - val_accuracy: 0.9789\n",
            "Epoch 6/100\n",
            "31/31 [==============================] - 0s 14ms/step - loss: 0.1222 - accuracy: 0.9862 - val_loss: 0.1039 - val_accuracy: 0.9936\n",
            "Epoch 7/100\n",
            "31/31 [==============================] - 0s 13ms/step - loss: 0.0912 - accuracy: 0.9952 - val_loss: 0.0788 - val_accuracy: 0.9975\n",
            "Epoch 8/100\n",
            "31/31 [==============================] - 0s 15ms/step - loss: 0.0702 - accuracy: 0.9978 - val_loss: 0.0614 - val_accuracy: 0.9984\n",
            "Epoch 9/100\n",
            "31/31 [==============================] - 0s 16ms/step - loss: 0.0551 - accuracy: 0.9986 - val_loss: 0.0487 - val_accuracy: 0.9990\n",
            "Epoch 10/100\n",
            "31/31 [==============================] - 0s 14ms/step - loss: 0.0440 - accuracy: 0.9991 - val_loss: 0.0392 - val_accuracy: 0.9995\n",
            "Epoch 11/100\n",
            "31/31 [==============================] - 0s 13ms/step - loss: 0.0356 - accuracy: 0.9994 - val_loss: 0.0318 - val_accuracy: 0.9996\n",
            "Epoch 12/100\n",
            "31/31 [==============================] - 0s 16ms/step - loss: 0.0291 - accuracy: 0.9996 - val_loss: 0.0262 - val_accuracy: 0.9997\n",
            "Epoch 13/100\n",
            "31/31 [==============================] - 0s 13ms/step - loss: 0.0241 - accuracy: 0.9997 - val_loss: 0.0219 - val_accuracy: 0.9998\n",
            "Epoch 14/100\n",
            "31/31 [==============================] - 1s 16ms/step - loss: 0.0203 - accuracy: 0.9998 - val_loss: 0.0185 - val_accuracy: 0.9999\n",
            "Epoch 15/100\n",
            "31/31 [==============================] - 0s 10ms/step - loss: 0.0172 - accuracy: 0.9999 - val_loss: 0.0158 - val_accuracy: 0.9999\n",
            "Epoch 16/100\n",
            "31/31 [==============================] - 0s 9ms/step - loss: 0.0148 - accuracy: 0.9999 - val_loss: 0.0136 - val_accuracy: 0.9999\n",
            "Epoch 17/100\n",
            "31/31 [==============================] - 0s 9ms/step - loss: 0.0128 - accuracy: 0.9999 - val_loss: 0.0118 - val_accuracy: 0.9999\n",
            "Epoch 18/100\n",
            "31/31 [==============================] - 0s 9ms/step - loss: 0.0111 - accuracy: 1.0000 - val_loss: 0.0104 - val_accuracy: 0.9999\n",
            "Epoch 19/100\n",
            "31/31 [==============================] - 0s 9ms/step - loss: 0.0098 - accuracy: 1.0000 - val_loss: 0.0091 - val_accuracy: 0.9999\n",
            "Epoch 20/100\n",
            "31/31 [==============================] - 0s 10ms/step - loss: 0.0086 - accuracy: 1.0000 - val_loss: 0.0081 - val_accuracy: 0.9999\n",
            "Epoch 21/100\n",
            "31/31 [==============================] - 0s 9ms/step - loss: 0.0077 - accuracy: 1.0000 - val_loss: 0.0072 - val_accuracy: 0.9999\n",
            "Epoch 22/100\n",
            "31/31 [==============================] - 0s 10ms/step - loss: 0.0069 - accuracy: 1.0000 - val_loss: 0.0065 - val_accuracy: 0.9999\n",
            "Epoch 23/100\n",
            "31/31 [==============================] - 0s 9ms/step - loss: 0.0062 - accuracy: 1.0000 - val_loss: 0.0059 - val_accuracy: 0.9999\n",
            "Epoch 24/100\n",
            "31/31 [==============================] - 0s 8ms/step - loss: 0.0056 - accuracy: 1.0000 - val_loss: 0.0053 - val_accuracy: 0.9999\n",
            "Epoch 25/100\n",
            "31/31 [==============================] - 0s 9ms/step - loss: 0.0050 - accuracy: 1.0000 - val_loss: 0.0048 - val_accuracy: 0.9999\n",
            "Epoch 26/100\n",
            "31/31 [==============================] - 0s 10ms/step - loss: 0.0046 - accuracy: 1.0000 - val_loss: 0.0044 - val_accuracy: 0.9999\n",
            "Epoch 27/100\n",
            "31/31 [==============================] - 0s 9ms/step - loss: 0.0042 - accuracy: 1.0000 - val_loss: 0.0040 - val_accuracy: 0.9999\n",
            "Epoch 28/100\n",
            "31/31 [==============================] - 0s 9ms/step - loss: 0.0038 - accuracy: 1.0000 - val_loss: 0.0037 - val_accuracy: 0.9999\n",
            "Epoch 29/100\n",
            "31/31 [==============================] - 0s 9ms/step - loss: 0.0035 - accuracy: 1.0000 - val_loss: 0.0034 - val_accuracy: 0.9999\n",
            "Epoch 30/100\n",
            "31/31 [==============================] - 0s 10ms/step - loss: 0.0033 - accuracy: 1.0000 - val_loss: 0.0032 - val_accuracy: 0.9999\n",
            "Epoch 31/100\n",
            "31/31 [==============================] - 0s 10ms/step - loss: 0.0030 - accuracy: 1.0000 - val_loss: 0.0029 - val_accuracy: 0.9999\n",
            "Epoch 32/100\n",
            "31/31 [==============================] - 0s 9ms/step - loss: 0.0028 - accuracy: 1.0000 - val_loss: 0.0027 - val_accuracy: 0.9999\n",
            "Epoch 33/100\n",
            "31/31 [==============================] - 0s 10ms/step - loss: 0.0026 - accuracy: 1.0000 - val_loss: 0.0025 - val_accuracy: 0.9999\n",
            "Epoch 34/100\n",
            "31/31 [==============================] - 0s 9ms/step - loss: 0.0024 - accuracy: 1.0000 - val_loss: 0.0024 - val_accuracy: 0.9999\n",
            "Epoch 35/100\n",
            "31/31 [==============================] - 0s 9ms/step - loss: 0.0023 - accuracy: 1.0000 - val_loss: 0.0022 - val_accuracy: 0.9999\n",
            "Epoch 36/100\n",
            "31/31 [==============================] - 0s 10ms/step - loss: 0.0021 - accuracy: 1.0000 - val_loss: 0.0021 - val_accuracy: 0.9999\n",
            "Epoch 37/100\n",
            "31/31 [==============================] - 0s 8ms/step - loss: 0.0020 - accuracy: 1.0000 - val_loss: 0.0019 - val_accuracy: 0.9999\n",
            "Epoch 38/100\n",
            "31/31 [==============================] - 0s 10ms/step - loss: 0.0019 - accuracy: 1.0000 - val_loss: 0.0018 - val_accuracy: 0.9999\n",
            "Epoch 39/100\n",
            "31/31 [==============================] - 0s 9ms/step - loss: 0.0017 - accuracy: 1.0000 - val_loss: 0.0017 - val_accuracy: 0.9999\n",
            "Epoch 40/100\n",
            "31/31 [==============================] - 0s 10ms/step - loss: 0.0016 - accuracy: 1.0000 - val_loss: 0.0016 - val_accuracy: 1.0000\n",
            "Epoch 41/100\n",
            "31/31 [==============================] - 0s 9ms/step - loss: 0.0015 - accuracy: 1.0000 - val_loss: 0.0015 - val_accuracy: 1.0000\n",
            "Epoch 42/100\n",
            "31/31 [==============================] - 0s 10ms/step - loss: 0.0015 - accuracy: 1.0000 - val_loss: 0.0014 - val_accuracy: 1.0000\n",
            "Epoch 43/100\n",
            "31/31 [==============================] - 0s 9ms/step - loss: 0.0014 - accuracy: 1.0000 - val_loss: 0.0014 - val_accuracy: 1.0000\n",
            "Epoch 44/100\n",
            "31/31 [==============================] - 0s 10ms/step - loss: 0.0013 - accuracy: 1.0000 - val_loss: 0.0013 - val_accuracy: 1.0000\n",
            "Epoch 45/100\n",
            "31/31 [==============================] - 0s 9ms/step - loss: 0.0012 - accuracy: 1.0000 - val_loss: 0.0012 - val_accuracy: 1.0000\n",
            "Epoch 46/100\n",
            "31/31 [==============================] - 0s 9ms/step - loss: 0.0012 - accuracy: 1.0000 - val_loss: 0.0012 - val_accuracy: 1.0000\n",
            "Epoch 47/100\n",
            "31/31 [==============================] - 0s 9ms/step - loss: 0.0011 - accuracy: 1.0000 - val_loss: 0.0011 - val_accuracy: 1.0000\n",
            "Epoch 48/100\n",
            "31/31 [==============================] - 0s 10ms/step - loss: 0.0011 - accuracy: 1.0000 - val_loss: 0.0011 - val_accuracy: 1.0000\n",
            "Epoch 49/100\n",
            "31/31 [==============================] - 0s 15ms/step - loss: 0.0010 - accuracy: 1.0000 - val_loss: 0.0010 - val_accuracy: 1.0000\n",
            "Epoch 50/100\n",
            "31/31 [==============================] - 0s 13ms/step - loss: 9.6158e-04 - accuracy: 1.0000 - val_loss: 9.6071e-04 - val_accuracy: 1.0000\n",
            "Epoch 51/100\n",
            "31/31 [==============================] - 0s 13ms/step - loss: 9.1689e-04 - accuracy: 1.0000 - val_loss: 9.1765e-04 - val_accuracy: 1.0000\n",
            "Epoch 52/100\n",
            "31/31 [==============================] - 0s 13ms/step - loss: 8.7511e-04 - accuracy: 1.0000 - val_loss: 8.7642e-04 - val_accuracy: 1.0000\n",
            "Epoch 53/100\n",
            "31/31 [==============================] - 0s 12ms/step - loss: 8.3580e-04 - accuracy: 1.0000 - val_loss: 8.3811e-04 - val_accuracy: 1.0000\n",
            "Epoch 54/100\n",
            "31/31 [==============================] - 0s 13ms/step - loss: 7.9891e-04 - accuracy: 1.0000 - val_loss: 8.0230e-04 - val_accuracy: 1.0000\n",
            "Epoch 55/100\n",
            "31/31 [==============================] - 0s 16ms/step - loss: 7.6433e-04 - accuracy: 1.0000 - val_loss: 7.6830e-04 - val_accuracy: 1.0000\n",
            "Epoch 56/100\n",
            "31/31 [==============================] - 0s 13ms/step - loss: 7.3165e-04 - accuracy: 1.0000 - val_loss: 7.3659e-04 - val_accuracy: 1.0000\n",
            "Epoch 57/100\n",
            "31/31 [==============================] - 0s 13ms/step - loss: 7.0095e-04 - accuracy: 1.0000 - val_loss: 7.0666e-04 - val_accuracy: 1.0000\n",
            "Epoch 58/100\n",
            "31/31 [==============================] - 0s 10ms/step - loss: 6.7206e-04 - accuracy: 1.0000 - val_loss: 6.7795e-04 - val_accuracy: 1.0000\n",
            "Epoch 59/100\n",
            "31/31 [==============================] - 0s 9ms/step - loss: 6.4471e-04 - accuracy: 1.0000 - val_loss: 6.5097e-04 - val_accuracy: 1.0000\n",
            "Epoch 60/100\n",
            "31/31 [==============================] - 0s 10ms/step - loss: 6.1879e-04 - accuracy: 1.0000 - val_loss: 6.2585e-04 - val_accuracy: 1.0000\n",
            "Epoch 61/100\n",
            "31/31 [==============================] - 0s 10ms/step - loss: 5.9422e-04 - accuracy: 1.0000 - val_loss: 6.0198e-04 - val_accuracy: 1.0000\n",
            "Epoch 62/100\n",
            "31/31 [==============================] - 0s 9ms/step - loss: 5.7107e-04 - accuracy: 1.0000 - val_loss: 5.7915e-04 - val_accuracy: 1.0000\n",
            "Epoch 63/100\n",
            "31/31 [==============================] - 0s 9ms/step - loss: 5.4908e-04 - accuracy: 1.0000 - val_loss: 5.5743e-04 - val_accuracy: 1.0000\n",
            "Epoch 64/100\n",
            "31/31 [==============================] - 0s 9ms/step - loss: 5.2825e-04 - accuracy: 1.0000 - val_loss: 5.3689e-04 - val_accuracy: 1.0000\n",
            "Epoch 65/100\n",
            "31/31 [==============================] - 0s 9ms/step - loss: 5.0847e-04 - accuracy: 1.0000 - val_loss: 5.1732e-04 - val_accuracy: 1.0000\n",
            "Epoch 66/100\n",
            "31/31 [==============================] - 0s 8ms/step - loss: 4.8968e-04 - accuracy: 1.0000 - val_loss: 4.9914e-04 - val_accuracy: 1.0000\n",
            "Epoch 67/100\n",
            "31/31 [==============================] - 0s 10ms/step - loss: 4.7188e-04 - accuracy: 1.0000 - val_loss: 4.8121e-04 - val_accuracy: 1.0000\n",
            "Epoch 68/100\n",
            "31/31 [==============================] - 0s 10ms/step - loss: 4.5478e-04 - accuracy: 1.0000 - val_loss: 4.6451e-04 - val_accuracy: 1.0000\n",
            "Epoch 69/100\n",
            "31/31 [==============================] - 0s 9ms/step - loss: 4.3858e-04 - accuracy: 1.0000 - val_loss: 4.4867e-04 - val_accuracy: 1.0000\n",
            "Epoch 70/100\n",
            "31/31 [==============================] - 0s 9ms/step - loss: 4.2322e-04 - accuracy: 1.0000 - val_loss: 4.3336e-04 - val_accuracy: 1.0000\n",
            "Epoch 71/100\n",
            "31/31 [==============================] - 0s 9ms/step - loss: 4.0846e-04 - accuracy: 1.0000 - val_loss: 4.1849e-04 - val_accuracy: 1.0000\n",
            "Epoch 72/100\n",
            "31/31 [==============================] - 0s 9ms/step - loss: 3.9438e-04 - accuracy: 1.0000 - val_loss: 4.0471e-04 - val_accuracy: 1.0000\n",
            "Epoch 73/100\n",
            "31/31 [==============================] - 0s 10ms/step - loss: 3.8094e-04 - accuracy: 1.0000 - val_loss: 3.9161e-04 - val_accuracy: 1.0000\n",
            "Epoch 74/100\n",
            "31/31 [==============================] - 0s 10ms/step - loss: 3.6816e-04 - accuracy: 1.0000 - val_loss: 3.7854e-04 - val_accuracy: 1.0000\n",
            "Epoch 75/100\n",
            "31/31 [==============================] - 0s 9ms/step - loss: 3.5591e-04 - accuracy: 1.0000 - val_loss: 3.6670e-04 - val_accuracy: 1.0000\n",
            "Epoch 76/100\n",
            "31/31 [==============================] - 0s 9ms/step - loss: 3.4417e-04 - accuracy: 1.0000 - val_loss: 3.5489e-04 - val_accuracy: 1.0000\n",
            "Epoch 77/100\n",
            "31/31 [==============================] - 0s 10ms/step - loss: 3.3294e-04 - accuracy: 1.0000 - val_loss: 3.4375e-04 - val_accuracy: 1.0000\n",
            "Epoch 78/100\n",
            "31/31 [==============================] - 0s 9ms/step - loss: 3.2218e-04 - accuracy: 1.0000 - val_loss: 3.3301e-04 - val_accuracy: 1.0000\n",
            "Epoch 79/100\n",
            "31/31 [==============================] - 0s 9ms/step - loss: 3.1191e-04 - accuracy: 1.0000 - val_loss: 3.2271e-04 - val_accuracy: 1.0000\n",
            "Epoch 80/100\n",
            "31/31 [==============================] - 0s 10ms/step - loss: 3.0201e-04 - accuracy: 1.0000 - val_loss: 3.1293e-04 - val_accuracy: 1.0000\n",
            "Epoch 81/100\n",
            "31/31 [==============================] - 0s 9ms/step - loss: 2.9258e-04 - accuracy: 1.0000 - val_loss: 3.0348e-04 - val_accuracy: 1.0000\n",
            "Epoch 82/100\n",
            "31/31 [==============================] - 0s 10ms/step - loss: 2.8347e-04 - accuracy: 1.0000 - val_loss: 2.9441e-04 - val_accuracy: 1.0000\n",
            "Epoch 83/100\n",
            "31/31 [==============================] - 0s 9ms/step - loss: 2.7477e-04 - accuracy: 1.0000 - val_loss: 2.8574e-04 - val_accuracy: 1.0000\n",
            "Epoch 84/100\n",
            "31/31 [==============================] - 0s 9ms/step - loss: 2.6636e-04 - accuracy: 1.0000 - val_loss: 2.7727e-04 - val_accuracy: 1.0000\n",
            "Epoch 85/100\n",
            "31/31 [==============================] - 0s 9ms/step - loss: 2.5831e-04 - accuracy: 1.0000 - val_loss: 2.6920e-04 - val_accuracy: 1.0000\n",
            "Epoch 86/100\n",
            "31/31 [==============================] - 0s 9ms/step - loss: 2.5057e-04 - accuracy: 1.0000 - val_loss: 2.6146e-04 - val_accuracy: 1.0000\n",
            "Epoch 87/100\n",
            "31/31 [==============================] - 0s 9ms/step - loss: 2.4312e-04 - accuracy: 1.0000 - val_loss: 2.5380e-04 - val_accuracy: 1.0000\n",
            "Epoch 88/100\n",
            "31/31 [==============================] - 0s 9ms/step - loss: 2.3596e-04 - accuracy: 1.0000 - val_loss: 2.4689e-04 - val_accuracy: 1.0000\n",
            "Epoch 89/100\n",
            "31/31 [==============================] - 0s 9ms/step - loss: 2.2903e-04 - accuracy: 1.0000 - val_loss: 2.4005e-04 - val_accuracy: 1.0000\n",
            "Epoch 90/100\n",
            "31/31 [==============================] - 0s 9ms/step - loss: 2.2240e-04 - accuracy: 1.0000 - val_loss: 2.3320e-04 - val_accuracy: 1.0000\n",
            "Epoch 91/100\n",
            "31/31 [==============================] - 0s 8ms/step - loss: 2.1600e-04 - accuracy: 1.0000 - val_loss: 2.2684e-04 - val_accuracy: 1.0000\n",
            "Epoch 92/100\n",
            "31/31 [==============================] - 0s 14ms/step - loss: 2.0982e-04 - accuracy: 1.0000 - val_loss: 2.2058e-04 - val_accuracy: 1.0000\n",
            "Epoch 93/100\n",
            "31/31 [==============================] - 0s 12ms/step - loss: 2.0388e-04 - accuracy: 1.0000 - val_loss: 2.1453e-04 - val_accuracy: 1.0000\n",
            "Epoch 94/100\n",
            "31/31 [==============================] - 0s 13ms/step - loss: 1.9814e-04 - accuracy: 1.0000 - val_loss: 2.0878e-04 - val_accuracy: 1.0000\n",
            "Epoch 95/100\n",
            "31/31 [==============================] - 0s 12ms/step - loss: 1.9262e-04 - accuracy: 1.0000 - val_loss: 2.0325e-04 - val_accuracy: 1.0000\n",
            "Epoch 96/100\n",
            "31/31 [==============================] - 0s 13ms/step - loss: 1.8728e-04 - accuracy: 1.0000 - val_loss: 1.9770e-04 - val_accuracy: 1.0000\n",
            "Epoch 97/100\n",
            "31/31 [==============================] - 0s 13ms/step - loss: 1.8212e-04 - accuracy: 1.0000 - val_loss: 1.9265e-04 - val_accuracy: 1.0000\n",
            "Epoch 98/100\n",
            "31/31 [==============================] - 0s 13ms/step - loss: 1.7716e-04 - accuracy: 1.0000 - val_loss: 1.8756e-04 - val_accuracy: 1.0000\n",
            "Epoch 99/100\n",
            "31/31 [==============================] - 0s 13ms/step - loss: 1.7235e-04 - accuracy: 1.0000 - val_loss: 1.8263e-04 - val_accuracy: 1.0000\n",
            "Epoch 100/100\n",
            "31/31 [==============================] - 0s 13ms/step - loss: 1.6771e-04 - accuracy: 1.0000 - val_loss: 1.7801e-04 - val_accuracy: 1.0000\n"
          ]
        }
      ],
      "source": [
        "if model_selection[model_flag]==\"ALL\" or model_selection[model_flag] == \"MLP\":\n",
        "  # training the model on training dataset\n",
        "  history = mlp.fit(X_train, y_train, epochs=100, batch_size=5000,validation_split=0.2)"
      ]
    },
    {
      "cell_type": "code",
      "execution_count": 25,
      "metadata": {
        "id": "_n_gNs3p1_M-"
      },
      "outputs": [],
      "source": [
        "if model_selection[model_flag]==\"ALL\" or model_selection[model_flag] == \"MLP\":\n",
        "  filepath = '/content/drive/MyDrive/Colab_Notebooks/Models/mlp_binary.json'\n",
        "  weightspath = '/content/drive/MyDrive/Colab_Notebooks/Weights/mlp_binary.h5'\n",
        "  if (not path.isfile(filepath)):\n",
        "    # serialize model to JSON\n",
        "    mlp_json = mlp.to_json()\n",
        "    with open(filepath, \"w\") as json_file:\n",
        "      json_file.write(mlp_json)\n",
        "\n",
        "    # serialize weights to HDF5\n",
        "    mlp.save_weights(weightspath)\n",
        "    print(\"Saved model to disk\")\n",
        "\n",
        "    # load json and create model\n",
        "    json_file = open(filepath, 'r')\n",
        "    loaded_model_json = json_file.read()\n",
        "    json_file.close()\n",
        "    mlp = model_from_json(loaded_model_json)\n",
        "\n",
        "    # load weights into new model\n",
        "    mlp.load_weights(weightspath)\n",
        "    print(\"Loaded model from disk\")"
      ]
    },
    {
      "cell_type": "code",
      "execution_count": 26,
      "metadata": {
        "id": "G99OrVcT2JON"
      },
      "outputs": [],
      "source": [
        "if model_selection[model_flag]==\"ALL\" or model_selection[model_flag] == \"MLP\":\n",
        "  # defining loss function, optimizer, metrics and then compiling model\n",
        "  mlp.compile(loss='binary_crossentropy', optimizer='adam', metrics=['accuracy'])"
      ]
    },
    {
      "cell_type": "code",
      "execution_count": 27,
      "metadata": {
        "id": "AXUA0T2N2OIB",
        "colab": {
          "base_uri": "https://localhost:8080/"
        },
        "outputId": "4893b43e-aaf9-49d5-aae0-19e26b34e30f"
      },
      "outputs": [
        {
          "output_type": "stream",
          "name": "stdout",
          "text": [
            "2014/2014 [==============================] - 6s 3ms/step - loss: 97695104.0000 - accuracy: 0.6985\n",
            "Test results - Loss: 97695104.0 - Accuracy: 69.84740495681763\n"
          ]
        }
      ],
      "source": [
        "if model_selection[model_flag]==\"ALL\" or model_selection[model_flag] == \"MLP\":\n",
        "  # predicting target attribute on testing dataset\n",
        "  test_results = mlp.evaluate(X_test, y_test, verbose=1)\n",
        "  print(f'Test results - Loss: {test_results[0]} - Accuracy: {test_results[1]*100}')"
      ]
    },
    {
      "cell_type": "code",
      "execution_count": 28,
      "metadata": {
        "id": "StFTrhE65_-q",
        "colab": {
          "base_uri": "https://localhost:8080/",
          "height": 472
        },
        "outputId": "c0fc1208-855d-42b4-b9ff-442578a8990f"
      },
      "outputs": [
        {
          "output_type": "display_data",
          "data": {
            "text/plain": [
              "<Figure size 640x480 with 1 Axes>"
            ],
            "image/png": "[encoded data removed]"
          },
          "metadata": {}
        }
      ],
      "source": [
        "if model_selection[model_flag]==\"ALL\" or model_selection[model_flag] == \"MLP\":  \n",
        "  # Plot of accuracy vs epoch of train and test dataset\n",
        "  plt.plot(history.history['accuracy'])\n",
        "  plt.plot(history.history['val_accuracy'])\n",
        "  plt.title(\"Plot of accuracy vs epoch for train and test dataset\")\n",
        "  plt.ylabel('accuracy')\n",
        "  plt.xlabel('epoch')\n",
        "  plt.legend(['train', 'test'], loc='best')\n",
        "  plt.savefig('/content/drive/MyDrive/Colab_Notebooks/Plots/mlp_binary_accuracy.png')\n",
        "  plt.show()"
      ]
    },
    {
      "cell_type": "code",
      "execution_count": 29,
      "metadata": {
        "id": "rZes4PzY6JUq",
        "colab": {
          "base_uri": "https://localhost:8080/",
          "height": 472
        },
        "outputId": "64182bf4-dcd6-404a-f731-23bdb114e9d0"
      },
      "outputs": [
        {
          "output_type": "display_data",
          "data": {
            "text/plain": [
              "<Figure size 640x480 with 1 Axes>"
            ],
            "image/png": "[encoded data removed]"
          },
          "metadata": {}
        }
      ],
      "source": [
        "if model_selection[model_flag]==\"ALL\" or model_selection[model_flag] == \"MLP\":\n",
        "  # Plot of loss vs epoch of train and test dataset\n",
        "  plt.plot(history.history['loss'])\n",
        "  plt.plot(history.history['val_loss'])\n",
        "  plt.title('Plot of loss vs epoch for train and test dataset')\n",
        "  plt.ylabel('loss')\n",
        "  plt.xlabel('epoch')\n",
        "  plt.legend(['train', 'test'], loc='best')\n",
        "  plt.savefig('/content/drive/MyDrive/Colab_Notebooks/Plots/mlp_binary_loss.png')\n",
        "  plt.show()"
      ]
    },
    {
      "cell_type": "code",
      "execution_count": 30,
      "metadata": {
        "id": "mC0nj-on6iRU"
      },
      "outputs": [],
      "source": [
        "if model_selection[model_flag]==\"ALL\" or model_selection[model_flag] == \"MLP\":\n",
        "  # representation of model layers\n",
        "  from keras.utils.vis_utils import plot_model\n",
        "  plot_model(mlp, to_file='/content/drive/MyDrive/Colab_Notebooks/Plots/mlp_binary.png', show_shapes=True,)"
      ]
    },
    {
      "cell_type": "code",
      "execution_count": 31,
      "metadata": {
        "id": "oxHdln0c6Xi_",
        "colab": {
          "base_uri": "https://localhost:8080/"
        },
        "outputId": "0da83c7f-aa85-4dbb-e22d-908895feedc1"
      },
      "outputs": [
        {
          "output_type": "stream",
          "name": "stdout",
          "text": [
            "2014/2014 [==============================] - 3s 2ms/step\n"
          ]
        }
      ],
      "source": [
        "if model_selection[model_flag]==\"ALL\" or model_selection[model_flag] == \"MLP\":\n",
        "  y_pred = mlp.predict(X_test).ravel()\n",
        "  fpr, tpr, thresholds = roc_curve(y_test, y_pred)\n",
        "  auc = auc(fpr, tpr)"
      ]
    },
    {
      "cell_type": "code",
      "execution_count": 32,
      "metadata": {
        "id": "Cr36q9Z-6aRU",
        "colab": {
          "base_uri": "https://localhost:8080/",
          "height": 472
        },
        "outputId": "69796641-3d02-4a3e-c46a-122a00b2871a"
      },
      "outputs": [
        {
          "output_type": "display_data",
          "data": {
            "text/plain": [
              "<Figure size 640x480 with 1 Axes>"
            ],
            "image/png": "[encoded data removed]"
          },
          "metadata": {}
        }
      ],
      "source": [
        "if model_selection[model_flag]==\"ALL\" or model_selection[model_flag] == \"MLP\":\n",
        "  plt.plot([0, 1], [0, 1], 'k--')\n",
        "  plt.plot(fpr, tpr, label='Keras (area = {:.3f})'.format(auc))\n",
        "  plt.xlabel('False positive rate')\n",
        "  plt.ylabel('True positive rate')\n",
        "  plt.title('ROC curve')\n",
        "  plt.legend(loc='best')\n",
        "  plt.savefig('/content/drive/MyDrive/Colab_Notebooks/Plots/mlp_binary_roc.png')\n",
        "  plt.show()"
      ]
    },
    {
      "cell_type": "code",
      "execution_count": 33,
      "metadata": {
        "id": "U9f2bWPwFljk"
      },
      "outputs": [],
      "source": [
        "# real_data_kdd = bin_data.copy()\n",
        "\n",
        "# # Names of the columns that are discrete\n",
        "# cat_cols = real_data_kdd.select_dtypes(['object']).columns\n",
        "# # cat_cols\n",
        "# test_data = real_data_kdd.iloc[:999]\n",
        "\n",
        "# corr= test_data.corr()\n",
        "# corr_y = abs(corr['label'])\n",
        "# highest_corr = corr_y\n",
        "# highest_corr.sort_values(ascending=True)"
      ]
    },
    {
      "cell_type": "code",
      "execution_count": 34,
      "metadata": {
        "id": "8-clVdUoUPa-",
        "colab": {
          "base_uri": "https://localhost:8080/"
        },
        "outputId": "1d7ad098-46d7-4455-8276-04009c44df4f"
      },
      "outputs": [
        {
          "output_type": "stream",
          "name": "stdout",
          "text": [
            "2014/2014 [==============================] - 3s 2ms/step\n"
          ]
        }
      ],
      "source": [
        "if model_selection[model_flag]==\"ALL\" or model_selection[model_flag] == \"MLP\":\n",
        "  y_classes = (mlp.predict(X_test)>0.5).astype('int32')"
      ]
    },
    {
      "cell_type": "code",
      "execution_count": 35,
      "metadata": {
        "id": "0jcFqEqFT-uq",
        "colab": {
          "base_uri": "https://localhost:8080/"
        },
        "outputId": "26e6875f-b897-4f54-a281-5e563a0d1138"
      },
      "outputs": [
        {
          "output_type": "stream",
          "name": "stdout",
          "text": [
            "Recall Score -  0.998955702350884\n",
            "F1 Score -  0.8089881010915528\n",
            "Precision Score -  0.6797270053210828\n"
          ]
        }
      ],
      "source": [
        "if model_selection[model_flag]==\"ALL\" or model_selection[model_flag] == \"MLP\":\n",
        "  print(\"Recall Score - \",recall_score(y_test,y_classes))\n",
        "  print(\"F1 Score - \",f1_score(y_test,y_classes))\n",
        "  print(\"Precision Score - \",precision_score(y_test,y_classes))"
      ]
    },
    {
      "cell_type": "code",
      "source": [
        "print(classification_report(y_test, y_classes, target_names=['0', '1']))\n",
        "cm = confusion_matrix(y_test, y_classes)\n",
        "disp = ConfusionMatrixDisplay(confusion_matrix=cm,\n",
        "                              display_labels=['0', '1'])\n",
        "disp.plot()\n",
        "\n",
        "plt.show()"
      ],
      "metadata": {
        "id": "3HJB6IXJsxjg",
        "colab": {
          "base_uri": "https://localhost:8080/",
          "height": 610
        },
        "outputId": "9d21796c-cc6a-4476-8b30-42c3b5695715"
      },
      "execution_count": 36,
      "outputs": [
        {
          "output_type": "stream",
          "name": "stdout",
          "text": [
            "              precision    recall  f1-score   support\n",
            "\n",
            "           0       0.99      0.17      0.28     23243\n",
            "           1       0.68      1.00      0.81     41176\n",
            "\n",
            "    accuracy                           0.70     64419\n",
            "   macro avg       0.83      0.58      0.55     64419\n",
            "weighted avg       0.79      0.70      0.62     64419\n",
            "\n"
          ]
        },
        {
          "output_type": "display_data",
          "data": {
            "text/plain": [
              "<Figure size 640x480 with 2 Axes>"
            ],
            "image/png": "[encoded data removed]"
          },
          "metadata": {}
        }
      ]
    },
    {
      "cell_type": "markdown",
      "source": [
        "# **Correlation** Matrix of Features"
      ],
      "metadata": {
        "id": "j7BKdCwqs2RE"
      }
    },
    {
      "cell_type": "code",
      "execution_count": 37,
      "metadata": {
        "id": "TL8zt-tHLt90",
        "colab": {
          "base_uri": "https://localhost:8080/"
        },
        "outputId": "2c9be7fa-0775-4e3c-f5be-215798f4e446"
      },
      "outputs": [
        {
          "output_type": "execute_result",
          "data": {
            "text/plain": [
              "state_FIN           0.309305\n",
              "ct_src_dport_ltm    0.318518\n",
              "rate                0.335883\n",
              "dwin                0.339166\n",
              "state_CON           0.345195\n",
              "dload               0.352169\n",
              "swin                0.364877\n",
              "proto_tcp           0.364981\n",
              "ct_dst_sport_ltm    0.371672\n",
              "ct_state_ttl        0.476559\n",
              "id                  0.490584\n",
              "state_INT           0.516735\n",
              "sttl                0.624082\n",
              "label               1.000000\n",
              "Name: label, dtype: float64"
            ]
          },
          "metadata": {},
          "execution_count": 37
        }
      ],
      "source": [
        "corr= bin_data.corr()\n",
        "corr_y = abs(corr['label'])\n",
        "highest_corr = corr_y[corr_y >0.3]\n",
        "highest_corr.sort_values(ascending=True)"
      ]
    },
    {
      "cell_type": "code",
      "source": [
        "plt.matshow(corr)\n",
        "plt.show()"
      ],
      "metadata": {
        "colab": {
          "base_uri": "https://localhost:8080/",
          "height": 437
        },
        "id": "q4b094WVtQQ7",
        "outputId": "7ba414d3-a59c-42c4-ea79-136faf5d04c9"
      },
      "execution_count": 38,
      "outputs": [
        {
          "output_type": "display_data",
          "data": {
            "text/plain": [
              "<Figure size 480x480 with 1 Axes>"
            ],
            "image/png": "[encoded data removed]"
          },
          "metadata": {}
        }
      ]
    },
    {
      "cell_type": "markdown",
      "metadata": {
        "id": "ZHhtNjFLPj6Y"
      },
      "source": [
        "## **LSTM Classifier**"
      ]
    },
    {
      "cell_type": "code",
      "execution_count": 56,
      "metadata": {
        "id": "DTNPkQMNL5Eh",
        "colab": {
          "base_uri": "https://localhost:8080/"
        },
        "outputId": "b170f3c8-3424-4f05-d115-c36dba9c1e1a"
      },
      "outputs": [
        {
          "output_type": "execute_result",
          "data": {
            "text/plain": [
              "(193254, 198)"
            ]
          },
          "metadata": {},
          "execution_count": 56
        }
      ],
      "source": [
        "X_train = np.array(X_train)\n",
        "X_test = np.array(X_test)\n",
        "# y_train.shape   #(18896,)\n",
        "X_train.shape"
      ]
    },
    {
      "cell_type": "code",
      "execution_count": 57,
      "metadata": {
        "id": "9n-QlBDXPMl4",
        "colab": {
          "base_uri": "https://localhost:8080/"
        },
        "outputId": "9f2ae401-70d2-484e-fd5a-ec24a99237cb"
      },
      "outputs": [
        {
          "output_type": "execute_result",
          "data": {
            "text/plain": [
              "numpy.ndarray"
            ]
          },
          "metadata": {},
          "execution_count": 57
        }
      ],
      "source": [
        "y_train = np.array(y_train)\n",
        "type(y_train)"
      ]
    },
    {
      "cell_type": "code",
      "execution_count": 58,
      "metadata": {
        "id": "-8Ro_ZRQPdZz",
        "colab": {
          "base_uri": "https://localhost:8080/"
        },
        "outputId": "9b530abb-0eb3-43eb-e355-f7e1d540fbcf"
      },
      "outputs": [
        {
          "output_type": "execute_result",
          "data": {
            "text/plain": [
              "(193254, 1, 198)"
            ]
          },
          "metadata": {},
          "execution_count": 58
        }
      ],
      "source": [
        "x_train = np.reshape(X_train, (X_train.shape[0],1,X_train.shape[1]))\n",
        "x_train.shape"
      ]
    },
    {
      "cell_type": "code",
      "source": [
        "x_train.shape[2]"
      ],
      "metadata": {
        "colab": {
          "base_uri": "https://localhost:8080/"
        },
        "id": "EuvuETcGpkje",
        "outputId": "7d373292-f6c3-4a76-ef48-63d468808780"
      },
      "execution_count": 59,
      "outputs": [
        {
          "output_type": "execute_result",
          "data": {
            "text/plain": [
              "198"
            ]
          },
          "metadata": {},
          "execution_count": 59
        }
      ]
    },
    {
      "cell_type": "code",
      "execution_count": 60,
      "metadata": {
        "id": "pLIl946zQQwG",
        "colab": {
          "base_uri": "https://localhost:8080/"
        },
        "outputId": "3acab653-2b24-4260-d590-d12202aec823"
      },
      "outputs": [
        {
          "output_type": "execute_result",
          "data": {
            "text/plain": [
              "(64419, 1, 198)"
            ]
          },
          "metadata": {},
          "execution_count": 60
        }
      ],
      "source": [
        "x_test = np.reshape(X_test, (X_test.shape[0],1,X_test.shape[1]))\n",
        "x_test.shape"
      ]
    },
    {
      "cell_type": "code",
      "execution_count": 61,
      "metadata": {
        "id": "jWsrkPEmQcY7"
      },
      "outputs": [],
      "source": [
        "if model_selection[model_flag]==\"ALL\" or model_selection[model_flag] == \"LSTM\":\n",
        "  lst = Sequential()\n",
        "  # input layer and LSTM layer with 50 neurons\n",
        "  input_features = x_train.shape[2]\n",
        "  lst.add(LSTM(50,input_dim=input_features))\n",
        "\n",
        "  # outpute layer with sigmoid activation\n",
        "  lst.add(Dense(1,activation='sigmoid'))"
      ]
    },
    {
      "cell_type": "code",
      "execution_count": 62,
      "metadata": {
        "id": "UEmba1H9Q_qj"
      },
      "outputs": [],
      "source": [
        "if model_selection[model_flag]==\"ALL\" or model_selection[model_flag] == \"LSTM\":\n",
        "  # defining loss function, optimizer, metrics and then compiling model\n",
        "  lst.compile(loss='binary_crossentropy',optimizer='adam',metrics=['accuracy'])"
      ]
    },
    {
      "cell_type": "code",
      "execution_count": 63,
      "metadata": {
        "id": "anR58jV2RCtz",
        "colab": {
          "base_uri": "https://localhost:8080/"
        },
        "outputId": "769e4dec-8fbc-4669-9279-9ab0987c057d"
      },
      "outputs": [
        {
          "output_type": "stream",
          "name": "stdout",
          "text": [
            "Model: \"sequential_2\"\n",
            "_________________________________________________________________\n",
            " Layer (type)                Output Shape              Param #   \n",
            "=================================================================\n",
            " lstm_1 (LSTM)               (None, 50)                49800     \n",
            "                                                                 \n",
            " dense_3 (Dense)             (None, 1)                 51        \n",
            "                                                                 \n",
            "=================================================================\n",
            "Total params: 49,851\n",
            "Trainable params: 49,851\n",
            "Non-trainable params: 0\n",
            "_________________________________________________________________\n"
          ]
        }
      ],
      "source": [
        "if model_selection[model_flag]==\"ALL\" or model_selection[model_flag] == \"LSTM\":\n",
        "  # summary of model layers\n",
        "  lst.summary()"
      ]
    },
    {
      "cell_type": "code",
      "execution_count": 64,
      "metadata": {
        "id": "_Pa4Qi12RJS_",
        "colab": {
          "base_uri": "https://localhost:8080/"
        },
        "outputId": "0315f634-8bb5-4014-a771-cc172729d3d8"
      },
      "outputs": [
        {
          "output_type": "stream",
          "name": "stdout",
          "text": [
            "Epoch 1/100\n",
            "31/31 [==============================] - 3s 25ms/step - loss: 0.6270 - accuracy: 0.7799 - val_loss: 0.5596 - val_accuracy: 0.7975\n",
            "Epoch 2/100\n",
            "31/31 [==============================] - 0s 9ms/step - loss: 0.4980 - accuracy: 0.8258 - val_loss: 0.4352 - val_accuracy: 0.8423\n",
            "Epoch 3/100\n",
            "31/31 [==============================] - 0s 8ms/step - loss: 0.3827 - accuracy: 0.8641 - val_loss: 0.3286 - val_accuracy: 0.8964\n",
            "Epoch 4/100\n",
            "31/31 [==============================] - 0s 9ms/step - loss: 0.2836 - accuracy: 0.9350 - val_loss: 0.2382 - val_accuracy: 0.9489\n",
            "Epoch 5/100\n",
            "31/31 [==============================] - 0s 8ms/step - loss: 0.2035 - accuracy: 0.9501 - val_loss: 0.1691 - val_accuracy: 0.9505\n",
            "Epoch 6/100\n",
            "31/31 [==============================] - 0s 8ms/step - loss: 0.1445 - accuracy: 0.9588 - val_loss: 0.1206 - val_accuracy: 0.9752\n",
            "Epoch 7/100\n",
            "31/31 [==============================] - 0s 9ms/step - loss: 0.1037 - accuracy: 0.9852 - val_loss: 0.0872 - val_accuracy: 0.9945\n",
            "Epoch 8/100\n",
            "31/31 [==============================] - 0s 9ms/step - loss: 0.0758 - accuracy: 0.9957 - val_loss: 0.0646 - val_accuracy: 0.9973\n",
            "Epoch 9/100\n",
            "31/31 [==============================] - 0s 10ms/step - loss: 0.0567 - accuracy: 0.9978 - val_loss: 0.0489 - val_accuracy: 0.9982\n",
            "Epoch 10/100\n",
            "31/31 [==============================] - 0s 9ms/step - loss: 0.0435 - accuracy: 0.9981 - val_loss: 0.0380 - val_accuracy: 0.9984\n",
            "Epoch 11/100\n",
            "31/31 [==============================] - 0s 9ms/step - loss: 0.0341 - accuracy: 0.9983 - val_loss: 0.0302 - val_accuracy: 0.9984\n",
            "Epoch 12/100\n",
            "31/31 [==============================] - 0s 10ms/step - loss: 0.0273 - accuracy: 0.9986 - val_loss: 0.0244 - val_accuracy: 0.9988\n",
            "Epoch 13/100\n",
            "31/31 [==============================] - 0s 9ms/step - loss: 0.0223 - accuracy: 0.9989 - val_loss: 0.0201 - val_accuracy: 0.9991\n",
            "Epoch 14/100\n",
            "31/31 [==============================] - 0s 9ms/step - loss: 0.0185 - accuracy: 0.9990 - val_loss: 0.0167 - val_accuracy: 0.9993\n",
            "Epoch 15/100\n",
            "31/31 [==============================] - 0s 9ms/step - loss: 0.0155 - accuracy: 0.9993 - val_loss: 0.0141 - val_accuracy: 0.9994\n",
            "Epoch 16/100\n",
            "31/31 [==============================] - 0s 10ms/step - loss: 0.0132 - accuracy: 0.9995 - val_loss: 0.0121 - val_accuracy: 0.9996\n",
            "Epoch 17/100\n",
            "31/31 [==============================] - 0s 9ms/step - loss: 0.0113 - accuracy: 0.9996 - val_loss: 0.0104 - val_accuracy: 0.9998\n",
            "Epoch 18/100\n",
            "31/31 [==============================] - 0s 13ms/step - loss: 0.0098 - accuracy: 0.9998 - val_loss: 0.0091 - val_accuracy: 0.9998\n",
            "Epoch 19/100\n",
            "31/31 [==============================] - 0s 13ms/step - loss: 0.0086 - accuracy: 0.9998 - val_loss: 0.0080 - val_accuracy: 0.9999\n",
            "Epoch 20/100\n",
            "31/31 [==============================] - 0s 12ms/step - loss: 0.0075 - accuracy: 0.9999 - val_loss: 0.0071 - val_accuracy: 0.9999\n",
            "Epoch 21/100\n",
            "31/31 [==============================] - 0s 13ms/step - loss: 0.0067 - accuracy: 0.9999 - val_loss: 0.0063 - val_accuracy: 0.9999\n",
            "Epoch 22/100\n",
            "31/31 [==============================] - 0s 13ms/step - loss: 0.0060 - accuracy: 0.9999 - val_loss: 0.0056 - val_accuracy: 0.9999\n",
            "Epoch 23/100\n",
            "31/31 [==============================] - 0s 12ms/step - loss: 0.0053 - accuracy: 1.0000 - val_loss: 0.0051 - val_accuracy: 0.9999\n",
            "Epoch 24/100\n",
            "31/31 [==============================] - 0s 12ms/step - loss: 0.0048 - accuracy: 1.0000 - val_loss: 0.0046 - val_accuracy: 0.9999\n",
            "Epoch 25/100\n",
            "31/31 [==============================] - 0s 12ms/step - loss: 0.0044 - accuracy: 1.0000 - val_loss: 0.0042 - val_accuracy: 0.9999\n",
            "Epoch 26/100\n",
            "31/31 [==============================] - 0s 12ms/step - loss: 0.0040 - accuracy: 1.0000 - val_loss: 0.0038 - val_accuracy: 0.9999\n",
            "Epoch 27/100\n",
            "31/31 [==============================] - 0s 13ms/step - loss: 0.0036 - accuracy: 1.0000 - val_loss: 0.0035 - val_accuracy: 0.9999\n",
            "Epoch 28/100\n",
            "31/31 [==============================] - 0s 10ms/step - loss: 0.0033 - accuracy: 1.0000 - val_loss: 0.0032 - val_accuracy: 0.9999\n",
            "Epoch 29/100\n",
            "31/31 [==============================] - 0s 8ms/step - loss: 0.0031 - accuracy: 1.0000 - val_loss: 0.0030 - val_accuracy: 0.9999\n",
            "Epoch 30/100\n",
            "31/31 [==============================] - 0s 10ms/step - loss: 0.0028 - accuracy: 1.0000 - val_loss: 0.0027 - val_accuracy: 0.9999\n",
            "Epoch 31/100\n",
            "31/31 [==============================] - 0s 9ms/step - loss: 0.0026 - accuracy: 1.0000 - val_loss: 0.0025 - val_accuracy: 0.9999\n",
            "Epoch 32/100\n",
            "31/31 [==============================] - 0s 9ms/step - loss: 0.0024 - accuracy: 1.0000 - val_loss: 0.0024 - val_accuracy: 0.9999\n",
            "Epoch 33/100\n",
            "31/31 [==============================] - 0s 9ms/step - loss: 0.0022 - accuracy: 1.0000 - val_loss: 0.0022 - val_accuracy: 0.9999\n",
            "Epoch 34/100\n",
            "31/31 [==============================] - 0s 9ms/step - loss: 0.0021 - accuracy: 1.0000 - val_loss: 0.0020 - val_accuracy: 0.9999\n",
            "Epoch 35/100\n",
            "31/31 [==============================] - 0s 9ms/step - loss: 0.0019 - accuracy: 1.0000 - val_loss: 0.0019 - val_accuracy: 0.9999\n",
            "Epoch 36/100\n",
            "31/31 [==============================] - 0s 9ms/step - loss: 0.0018 - accuracy: 1.0000 - val_loss: 0.0018 - val_accuracy: 0.9999\n",
            "Epoch 37/100\n",
            "31/31 [==============================] - 0s 9ms/step - loss: 0.0017 - accuracy: 1.0000 - val_loss: 0.0017 - val_accuracy: 0.9999\n",
            "Epoch 38/100\n",
            "31/31 [==============================] - 0s 9ms/step - loss: 0.0016 - accuracy: 1.0000 - val_loss: 0.0016 - val_accuracy: 0.9999\n",
            "Epoch 39/100\n",
            "31/31 [==============================] - 0s 9ms/step - loss: 0.0015 - accuracy: 1.0000 - val_loss: 0.0015 - val_accuracy: 0.9999\n",
            "Epoch 40/100\n",
            "31/31 [==============================] - 0s 9ms/step - loss: 0.0014 - accuracy: 1.0000 - val_loss: 0.0014 - val_accuracy: 0.9999\n",
            "Epoch 41/100\n",
            "31/31 [==============================] - 0s 8ms/step - loss: 0.0013 - accuracy: 1.0000 - val_loss: 0.0013 - val_accuracy: 0.9999\n",
            "Epoch 42/100\n",
            "31/31 [==============================] - 0s 8ms/step - loss: 0.0012 - accuracy: 1.0000 - val_loss: 0.0012 - val_accuracy: 0.9999\n",
            "Epoch 43/100\n",
            "31/31 [==============================] - 0s 9ms/step - loss: 0.0012 - accuracy: 1.0000 - val_loss: 0.0012 - val_accuracy: 0.9999\n",
            "Epoch 44/100\n",
            "31/31 [==============================] - 0s 9ms/step - loss: 0.0011 - accuracy: 1.0000 - val_loss: 0.0011 - val_accuracy: 0.9999\n",
            "Epoch 45/100\n",
            "31/31 [==============================] - 0s 9ms/step - loss: 0.0010 - accuracy: 1.0000 - val_loss: 0.0010 - val_accuracy: 0.9999\n",
            "Epoch 46/100\n",
            "31/31 [==============================] - 0s 9ms/step - loss: 9.8708e-04 - accuracy: 1.0000 - val_loss: 9.9308e-04 - val_accuracy: 1.0000\n",
            "Epoch 47/100\n",
            "31/31 [==============================] - 0s 9ms/step - loss: 9.3620e-04 - accuracy: 1.0000 - val_loss: 9.4298e-04 - val_accuracy: 1.0000\n",
            "Epoch 48/100\n",
            "31/31 [==============================] - 0s 9ms/step - loss: 8.8862e-04 - accuracy: 1.0000 - val_loss: 8.9737e-04 - val_accuracy: 1.0000\n",
            "Epoch 49/100\n",
            "31/31 [==============================] - 0s 10ms/step - loss: 8.4468e-04 - accuracy: 1.0000 - val_loss: 8.5429e-04 - val_accuracy: 1.0000\n",
            "Epoch 50/100\n",
            "31/31 [==============================] - 0s 9ms/step - loss: 8.0372e-04 - accuracy: 1.0000 - val_loss: 8.1404e-04 - val_accuracy: 1.0000\n",
            "Epoch 51/100\n",
            "31/31 [==============================] - 0s 10ms/step - loss: 7.6536e-04 - accuracy: 1.0000 - val_loss: 7.7669e-04 - val_accuracy: 1.0000\n",
            "Epoch 52/100\n",
            "31/31 [==============================] - 0s 9ms/step - loss: 7.2979e-04 - accuracy: 1.0000 - val_loss: 7.4205e-04 - val_accuracy: 1.0000\n",
            "Epoch 53/100\n",
            "31/31 [==============================] - 0s 9ms/step - loss: 6.9626e-04 - accuracy: 1.0000 - val_loss: 7.0875e-04 - val_accuracy: 1.0000\n",
            "Epoch 54/100\n",
            "31/31 [==============================] - 0s 8ms/step - loss: 6.6499e-04 - accuracy: 1.0000 - val_loss: 6.7843e-04 - val_accuracy: 1.0000\n",
            "Epoch 55/100\n",
            "31/31 [==============================] - 0s 9ms/step - loss: 6.3565e-04 - accuracy: 1.0000 - val_loss: 6.4917e-04 - val_accuracy: 1.0000\n",
            "Epoch 56/100\n",
            "31/31 [==============================] - 0s 10ms/step - loss: 6.0811e-04 - accuracy: 1.0000 - val_loss: 6.2353e-04 - val_accuracy: 1.0000\n",
            "Epoch 57/100\n",
            "31/31 [==============================] - 0s 9ms/step - loss: 5.8226e-04 - accuracy: 1.0000 - val_loss: 5.9809e-04 - val_accuracy: 1.0000\n",
            "Epoch 58/100\n",
            "31/31 [==============================] - 0s 9ms/step - loss: 5.5776e-04 - accuracy: 1.0000 - val_loss: 5.7288e-04 - val_accuracy: 1.0000\n",
            "Epoch 59/100\n",
            "31/31 [==============================] - 0s 9ms/step - loss: 5.3487e-04 - accuracy: 1.0000 - val_loss: 5.5149e-04 - val_accuracy: 1.0000\n",
            "Epoch 60/100\n",
            "31/31 [==============================] - 0s 9ms/step - loss: 5.1310e-04 - accuracy: 1.0000 - val_loss: 5.2913e-04 - val_accuracy: 1.0000\n",
            "Epoch 61/100\n",
            "31/31 [==============================] - 0s 9ms/step - loss: 4.9252e-04 - accuracy: 1.0000 - val_loss: 5.0890e-04 - val_accuracy: 1.0000\n",
            "Epoch 62/100\n",
            "31/31 [==============================] - 0s 10ms/step - loss: 4.7313e-04 - accuracy: 1.0000 - val_loss: 4.9001e-04 - val_accuracy: 1.0000\n",
            "Epoch 63/100\n",
            "31/31 [==============================] - 0s 13ms/step - loss: 4.5477e-04 - accuracy: 1.0000 - val_loss: 4.7200e-04 - val_accuracy: 1.0000\n",
            "Epoch 64/100\n",
            "31/31 [==============================] - 0s 13ms/step - loss: 4.3742e-04 - accuracy: 1.0000 - val_loss: 4.5435e-04 - val_accuracy: 1.0000\n",
            "Epoch 65/100\n",
            "31/31 [==============================] - 0s 14ms/step - loss: 4.2090e-04 - accuracy: 1.0000 - val_loss: 4.3846e-04 - val_accuracy: 1.0000\n",
            "Epoch 66/100\n",
            "31/31 [==============================] - 0s 13ms/step - loss: 4.0522e-04 - accuracy: 1.0000 - val_loss: 4.2295e-04 - val_accuracy: 1.0000\n",
            "Epoch 67/100\n",
            "31/31 [==============================] - 0s 13ms/step - loss: 3.9038e-04 - accuracy: 1.0000 - val_loss: 4.0826e-04 - val_accuracy: 1.0000\n",
            "Epoch 68/100\n",
            "31/31 [==============================] - 0s 13ms/step - loss: 3.7625e-04 - accuracy: 1.0000 - val_loss: 3.9407e-04 - val_accuracy: 1.0000\n",
            "Epoch 69/100\n",
            "31/31 [==============================] - 0s 13ms/step - loss: 3.6279e-04 - accuracy: 1.0000 - val_loss: 3.8105e-04 - val_accuracy: 1.0000\n",
            "Epoch 70/100\n",
            "31/31 [==============================] - 0s 12ms/step - loss: 3.5000e-04 - accuracy: 1.0000 - val_loss: 3.6811e-04 - val_accuracy: 1.0000\n",
            "Epoch 71/100\n",
            "31/31 [==============================] - 0s 13ms/step - loss: 3.3783e-04 - accuracy: 1.0000 - val_loss: 3.5640e-04 - val_accuracy: 1.0000\n",
            "Epoch 72/100\n",
            "31/31 [==============================] - 0s 12ms/step - loss: 3.2615e-04 - accuracy: 1.0000 - val_loss: 3.4443e-04 - val_accuracy: 1.0000\n",
            "Epoch 73/100\n",
            "31/31 [==============================] - 0s 8ms/step - loss: 3.1509e-04 - accuracy: 1.0000 - val_loss: 3.3361e-04 - val_accuracy: 1.0000\n",
            "Epoch 74/100\n",
            "31/31 [==============================] - 0s 10ms/step - loss: 3.0447e-04 - accuracy: 1.0000 - val_loss: 3.2294e-04 - val_accuracy: 1.0000\n",
            "Epoch 75/100\n",
            "31/31 [==============================] - 0s 10ms/step - loss: 2.9434e-04 - accuracy: 1.0000 - val_loss: 3.1270e-04 - val_accuracy: 1.0000\n",
            "Epoch 76/100\n",
            "31/31 [==============================] - 0s 10ms/step - loss: 2.8464e-04 - accuracy: 1.0000 - val_loss: 3.0327e-04 - val_accuracy: 1.0000\n",
            "Epoch 77/100\n",
            "31/31 [==============================] - 0s 9ms/step - loss: 2.7538e-04 - accuracy: 1.0000 - val_loss: 2.9371e-04 - val_accuracy: 1.0000\n",
            "Epoch 78/100\n",
            "31/31 [==============================] - 0s 9ms/step - loss: 2.6653e-04 - accuracy: 1.0000 - val_loss: 2.8521e-04 - val_accuracy: 1.0000\n",
            "Epoch 79/100\n",
            "31/31 [==============================] - 0s 9ms/step - loss: 2.5803e-04 - accuracy: 1.0000 - val_loss: 2.7652e-04 - val_accuracy: 1.0000\n",
            "Epoch 80/100\n",
            "31/31 [==============================] - 0s 9ms/step - loss: 2.4989e-04 - accuracy: 1.0000 - val_loss: 2.6844e-04 - val_accuracy: 1.0000\n",
            "Epoch 81/100\n",
            "31/31 [==============================] - 0s 10ms/step - loss: 2.4208e-04 - accuracy: 1.0000 - val_loss: 2.6063e-04 - val_accuracy: 1.0000\n",
            "Epoch 82/100\n",
            "31/31 [==============================] - 0s 9ms/step - loss: 2.3462e-04 - accuracy: 1.0000 - val_loss: 2.5301e-04 - val_accuracy: 1.0000\n",
            "Epoch 83/100\n",
            "31/31 [==============================] - 0s 9ms/step - loss: 2.2743e-04 - accuracy: 1.0000 - val_loss: 2.4575e-04 - val_accuracy: 1.0000\n",
            "Epoch 84/100\n",
            "31/31 [==============================] - 0s 8ms/step - loss: 2.2052e-04 - accuracy: 1.0000 - val_loss: 2.3923e-04 - val_accuracy: 1.0000\n",
            "Epoch 85/100\n",
            "31/31 [==============================] - 0s 10ms/step - loss: 2.1390e-04 - accuracy: 1.0000 - val_loss: 2.3230e-04 - val_accuracy: 1.0000\n",
            "Epoch 86/100\n",
            "31/31 [==============================] - 0s 9ms/step - loss: 2.0753e-04 - accuracy: 1.0000 - val_loss: 2.2567e-04 - val_accuracy: 1.0000\n",
            "Epoch 87/100\n",
            "31/31 [==============================] - 0s 9ms/step - loss: 2.0139e-04 - accuracy: 1.0000 - val_loss: 2.1959e-04 - val_accuracy: 1.0000\n",
            "Epoch 88/100\n",
            "31/31 [==============================] - 0s 10ms/step - loss: 1.9550e-04 - accuracy: 1.0000 - val_loss: 2.1357e-04 - val_accuracy: 1.0000\n",
            "Epoch 89/100\n",
            "31/31 [==============================] - 0s 10ms/step - loss: 1.8984e-04 - accuracy: 1.0000 - val_loss: 2.0787e-04 - val_accuracy: 1.0000\n",
            "Epoch 90/100\n",
            "31/31 [==============================] - 0s 10ms/step - loss: 1.8438e-04 - accuracy: 1.0000 - val_loss: 2.0227e-04 - val_accuracy: 1.0000\n",
            "Epoch 91/100\n",
            "31/31 [==============================] - 0s 9ms/step - loss: 1.7914e-04 - accuracy: 1.0000 - val_loss: 1.9720e-04 - val_accuracy: 1.0000\n",
            "Epoch 92/100\n",
            "31/31 [==============================] - 0s 9ms/step - loss: 1.7406e-04 - accuracy: 1.0000 - val_loss: 1.9187e-04 - val_accuracy: 1.0000\n",
            "Epoch 93/100\n",
            "31/31 [==============================] - 0s 8ms/step - loss: 1.6918e-04 - accuracy: 1.0000 - val_loss: 1.8694e-04 - val_accuracy: 1.0000\n",
            "Epoch 94/100\n",
            "31/31 [==============================] - 0s 8ms/step - loss: 1.6447e-04 - accuracy: 1.0000 - val_loss: 1.8207e-04 - val_accuracy: 1.0000\n",
            "Epoch 95/100\n",
            "31/31 [==============================] - 0s 10ms/step - loss: 1.5992e-04 - accuracy: 1.0000 - val_loss: 1.7737e-04 - val_accuracy: 1.0000\n",
            "Epoch 96/100\n",
            "31/31 [==============================] - 0s 8ms/step - loss: 1.5554e-04 - accuracy: 1.0000 - val_loss: 1.7287e-04 - val_accuracy: 1.0000\n",
            "Epoch 97/100\n",
            "31/31 [==============================] - 0s 10ms/step - loss: 1.5130e-04 - accuracy: 1.0000 - val_loss: 1.6861e-04 - val_accuracy: 1.0000\n",
            "Epoch 98/100\n",
            "31/31 [==============================] - 0s 9ms/step - loss: 1.4722e-04 - accuracy: 1.0000 - val_loss: 1.6434e-04 - val_accuracy: 1.0000\n",
            "Epoch 99/100\n",
            "31/31 [==============================] - 0s 10ms/step - loss: 1.4327e-04 - accuracy: 1.0000 - val_loss: 1.6039e-04 - val_accuracy: 1.0000\n",
            "Epoch 100/100\n",
            "31/31 [==============================] - 0s 9ms/step - loss: 1.3946e-04 - accuracy: 1.0000 - val_loss: 1.5656e-04 - val_accuracy: 1.0000\n"
          ]
        }
      ],
      "source": [
        "if model_selection[model_flag]==\"ALL\" or model_selection[model_flag] == \"LSTM\":\n",
        "  # training the model on training dataset\n",
        "  history = lst.fit(x_train, y_train, epochs=100, batch_size=5000,validation_split=0.2)"
      ]
    },
    {
      "cell_type": "code",
      "execution_count": 65,
      "metadata": {
        "id": "BCQtvJcXRcNr",
        "colab": {
          "base_uri": "https://localhost:8080/"
        },
        "outputId": "ac04c20a-2dc4-4a2d-a477-f0d52a692856"
      },
      "outputs": [
        {
          "output_type": "stream",
          "name": "stdout",
          "text": [
            "Saved model to disk\n",
            "Loaded model from disk\n"
          ]
        }
      ],
      "source": [
        "if model_selection[model_flag]==\"ALL\" or model_selection[model_flag] == \"LSTM\":\n",
        "  filepath = '/content/drive/MyDrive/Colab_Notebooks/Models/lst_binary_unsw_nb15.json'\n",
        "  weightspath = '/content/drive/MyDrive/Colab_Notebooks/Weights/lst_binary_unsw_nb15.h5'\n",
        "  if (not path.isfile(filepath)):\n",
        "    # serialize model to JSON\n",
        "    lst_json = lst.to_json()\n",
        "    with open(filepath, \"w\") as json_file:\n",
        "      json_file.write(lst_json)\n",
        "\n",
        "    # serialize weights to HDF5\n",
        "    lst.save_weights(weightspath)\n",
        "    print(\"Saved model to disk\")\n",
        "\n",
        "    # load json and create model\n",
        "    json_file = open(filepath, 'r')\n",
        "    loaded_model_json = json_file.read()\n",
        "    json_file.close()\n",
        "    lst = model_from_json(loaded_model_json)\n",
        "\n",
        "    # load weights into new model\n",
        "    lst.load_weights(weightspath)\n",
        "    print(\"Loaded model from disk\")"
      ]
    },
    {
      "cell_type": "code",
      "execution_count": 66,
      "metadata": {
        "id": "rPaW37T-R0dG",
        "colab": {
          "base_uri": "https://localhost:8080/"
        },
        "outputId": "ee122d68-9ed6-430c-cd2f-10c65f64d21d"
      },
      "outputs": [
        {
          "output_type": "stream",
          "name": "stdout",
          "text": [
            "Loaded model from disk\n"
          ]
        }
      ],
      "source": [
        "if model_selection[model_flag]==\"ALL\" or model_selection[model_flag] == \"LSTM\":\n",
        "  # load json and create model\n",
        "  json_file = open(filepath, 'r')\n",
        "  loaded_model_json = json_file.read()\n",
        "  json_file.close()\n",
        "  lst = model_from_json(loaded_model_json)\n",
        "\n",
        "  # load weights into new model\n",
        "  lst.load_weights(weightspath)\n",
        "  print(\"Loaded model from disk\")"
      ]
    },
    {
      "cell_type": "code",
      "execution_count": 67,
      "metadata": {
        "id": "ukGDdSggR3na"
      },
      "outputs": [],
      "source": [
        "if model_selection[model_flag]==\"ALL\" or model_selection[model_flag] == \"LSTM\":\n",
        "  # defining loss function, optimizer, metrics and then compiling model\n",
        "  lst.compile(loss='binary_crossentropy',optimizer='adam',metrics=['accuracy'])"
      ]
    },
    {
      "cell_type": "code",
      "execution_count": 68,
      "metadata": {
        "id": "nvjY0u97R68f",
        "colab": {
          "base_uri": "https://localhost:8080/"
        },
        "outputId": "ae90bb63-e2db-4f5b-b21e-cb121afe39df"
      },
      "outputs": [
        {
          "output_type": "stream",
          "name": "stdout",
          "text": [
            "2014/2014 [==============================] - 7s 3ms/step - loss: 1.4377 - accuracy: 0.3928\n",
            "Test results - Loss: 1.4376606941223145 - Accuracy: 39.27878439426422%\n"
          ]
        }
      ],
      "source": [
        "if model_selection[model_flag]==\"ALL\" or model_selection[model_flag] == \"LSTM\":\n",
        "  # predicting target attribute on testing dataset\n",
        "  test_results = lst.evaluate(x_test, y_test, verbose=1)\n",
        "  print(f'Test results - Loss: {test_results[0]} - Accuracy: {test_results[1]*100}%')"
      ]
    },
    {
      "cell_type": "code",
      "execution_count": 69,
      "metadata": {
        "id": "f8yKMcIHR_jP",
        "colab": {
          "base_uri": "https://localhost:8080/",
          "height": 472
        },
        "outputId": "e8443dc4-f784-42fe-f14e-0890d704b767"
      },
      "outputs": [
        {
          "output_type": "display_data",
          "data": {
            "text/plain": [
              "<Figure size 640x480 with 1 Axes>"
            ],
            "image/png": "[encoded data removed]"
          },
          "metadata": {}
        }
      ],
      "source": [
        "if model_selection[model_flag]==\"ALL\" or model_selection[model_flag] == \"LSTM\":\n",
        "  # Plot of accuracy vs epoch of train and test dataset\n",
        "  plt.plot(history.history['accuracy'])\n",
        "  plt.plot(history.history['val_accuracy'])\n",
        "  plt.title(\"Plot of accuracy vs epoch for train and test dataset\")\n",
        "  plt.ylabel('accuracy')\n",
        "  plt.xlabel('epoch')\n",
        "  plt.legend(['train', 'test'], loc='best')\n",
        "  plt.savefig('/content/drive/MyDrive/Colab_Notebooks/Plots/lstm_binary_accuracy.png')\n",
        "  plt.show()"
      ]
    },
    {
      "cell_type": "code",
      "execution_count": 70,
      "metadata": {
        "id": "M5g1Rw_SSb5n",
        "colab": {
          "base_uri": "https://localhost:8080/",
          "height": 472
        },
        "outputId": "97d4b6b3-6e2a-4803-d073-f0712ad39c3f"
      },
      "outputs": [
        {
          "output_type": "display_data",
          "data": {
            "text/plain": [
              "<Figure size 640x480 with 1 Axes>"
            ],
            "image/png": "[encoded data removed]"
          },
          "metadata": {}
        }
      ],
      "source": [
        "if model_selection[model_flag]==\"ALL\" or model_selection[model_flag] == \"LSTM\":\n",
        "  # Plot of loss vs epoch of train and test dataset\n",
        "  plt.plot(history.history['loss'])\n",
        "  plt.plot(history.history['val_loss'])\n",
        "  plt.title(\"Plot of loss vs epoch for train and test dataset\")\n",
        "  plt.ylabel('loss')\n",
        "  plt.xlabel('epoch')\n",
        "  plt.legend(['train', 'test'], loc='best')\n",
        "  plt.savefig('/content/drive/MyDrive/Colab_Notebooks/Plots/lstm_binary_loss.png')\n",
        "  plt.show()"
      ]
    },
    {
      "cell_type": "code",
      "execution_count": 71,
      "metadata": {
        "id": "osZa2OV9Se-T"
      },
      "outputs": [],
      "source": [
        "if model_selection[model_flag]==\"ALL\" or model_selection[model_flag] == \"LSTM\":\n",
        "  # representation of model layers\n",
        "  plot_model(lst, to_file='/content/drive/MyDrive/Colab_Notebooks/Plots/lstm_binary.png', show_shapes=True,)"
      ]
    },
    {
      "cell_type": "code",
      "execution_count": 72,
      "metadata": {
        "id": "lw4OLD4HSpaY",
        "colab": {
          "base_uri": "https://localhost:8080/"
        },
        "outputId": "08144b5f-ad03-45ff-b54c-fdc66bc502f9"
      },
      "outputs": [
        {
          "output_type": "execute_result",
          "data": {
            "text/plain": [
              "(64419,)"
            ]
          },
          "metadata": {},
          "execution_count": 72
        }
      ],
      "source": [
        "y_test = np.array(y_test)\n",
        "y_test.shape"
      ]
    },
    {
      "cell_type": "code",
      "execution_count": 73,
      "metadata": {
        "id": "4BvYVrKsTGr3",
        "colab": {
          "base_uri": "https://localhost:8080/"
        },
        "outputId": "0fd087ad-24c1-41d8-b124-386ad66a0720"
      },
      "outputs": [
        {
          "output_type": "execute_result",
          "data": {
            "text/plain": [
              "numpy.ndarray"
            ]
          },
          "metadata": {},
          "execution_count": 73
        }
      ],
      "source": [
        "type(y_test)"
      ]
    },
    {
      "cell_type": "code",
      "execution_count": 74,
      "metadata": {
        "id": "KBvCGl6BS0FM",
        "colab": {
          "base_uri": "https://localhost:8080/"
        },
        "outputId": "7fc85785-944c-4cd8-f314-59d373598a5f"
      },
      "outputs": [
        {
          "output_type": "stream",
          "name": "stdout",
          "text": [
            "2014/2014 [==============================] - 4s 2ms/step\n"
          ]
        }
      ],
      "source": [
        "if model_selection[model_flag]==\"ALL\" or model_selection[model_flag] == \"LSTM\":\n",
        "  y_classes = (lst.predict(x_test)>0.5).astype('int32')"
      ]
    },
    {
      "cell_type": "code",
      "execution_count": 75,
      "metadata": {
        "id": "x_yVqBlLTtLW",
        "colab": {
          "base_uri": "https://localhost:8080/"
        },
        "outputId": "b85bf86f-a374-464b-bf96-a5a528452bc5"
      },
      "outputs": [
        {
          "output_type": "stream",
          "name": "stdout",
          "text": [
            "Recall Score -  0.18641927336312414\n",
            "F1 Score -  0.28185356539619594\n",
            "Precision Score -  0.5774902196810111\n"
          ]
        }
      ],
      "source": [
        "if model_selection[model_flag]==\"ALL\" or model_selection[model_flag] == \"LSTM\":\n",
        "  print(\"Recall Score - \",recall_score(y_test,y_classes))\n",
        "  print(\"F1 Score - \",f1_score(y_test,y_classes))\n",
        "  print(\"Precision Score - \",precision_score(y_test,y_classes))"
      ]
    },
    {
      "cell_type": "code",
      "source": [
        "print(classification_report(y_test, y_classes, target_names=['0', '1']))\n",
        "cm = confusion_matrix(y_test, y_classes)\n",
        "disp = ConfusionMatrixDisplay(confusion_matrix=cm,\n",
        "                              display_labels=['0', '1'])\n",
        "disp.plot()\n",
        "\n",
        "plt.show()"
      ],
      "metadata": {
        "colab": {
          "base_uri": "https://localhost:8080/",
          "height": 610
        },
        "id": "lHw1E32esovH",
        "outputId": "d37d147d-be2f-4c2e-d7dc-257385fe1219"
      },
      "execution_count": 76,
      "outputs": [
        {
          "output_type": "stream",
          "name": "stdout",
          "text": [
            "              precision    recall  f1-score   support\n",
            "\n",
            "           0       0.34      0.76      0.47     23243\n",
            "           1       0.58      0.19      0.28     41176\n",
            "\n",
            "    accuracy                           0.39     64419\n",
            "   macro avg       0.46      0.47      0.38     64419\n",
            "weighted avg       0.49      0.39      0.35     64419\n",
            "\n"
          ]
        },
        {
          "output_type": "display_data",
          "data": {
            "text/plain": [
              "<Figure size 640x480 with 2 Axes>"
            ],
            "image/png": "[encoded data removed]"
          },
          "metadata": {}
        }
      ]
    },
    {
      "cell_type": "markdown",
      "metadata": {
        "id": "H_g15uXe82BY"
      },
      "source": [
        "## **Auto Encoder**"
      ]
    },
    {
      "cell_type": "code",
      "execution_count": 77,
      "metadata": {
        "id": "VQ6pDxghmBwB"
      },
      "outputs": [],
      "source": [
        "if model_selection[model_flag]==\"ALL\" or model_selection[model_flag] == \"AE\":\n",
        "  # splitting the dataset 75% for training and 25% testing\n",
        "  X_train, X_test = train_test_split(bin_data, test_size=0.25, random_state=42)"
      ]
    },
    {
      "cell_type": "code",
      "execution_count": 78,
      "metadata": {
        "id": "uogVT92Q_6wh"
      },
      "outputs": [],
      "source": [
        "if model_selection[model_flag]==\"ALL\" or model_selection[model_flag] == \"AE\":\n",
        "  # dataset excluding target attribute (encoded, one-hot-encoded,original)\n",
        "  X_train = X_train.drop(['label'],axis=1) \n",
        "\n",
        "  y_test = X_test['label'] # target attribute\n",
        "\n",
        "  # dataset excluding target attribute (encoded, one-hot-encoded,original)\n",
        "  X_test = X_test.drop(['label'],axis=1)\n",
        "  # calling the normalization() function\n",
        "  X_train = normalization_train(X_train,numeric_cols)\n",
        "  X_test = normalization_test(X_test,numeric_cols)\n",
        "  X_train = X_train.values\n",
        "  X_test = X_test.values\n",
        "  y_test = y_test.values"
      ]
    },
    {
      "cell_type": "code",
      "execution_count": 79,
      "metadata": {
        "id": "s696BM9uKADC"
      },
      "outputs": [],
      "source": [
        "if model_selection[model_flag]==\"ALL\" or model_selection[model_flag] == \"AE\":\n",
        "  input_dim = X_train.shape[1]\n",
        "  encoding_dim = 50\n",
        "\n",
        "  #input layer\n",
        "  input_layer = Input(shape=(input_dim, ))\n",
        "  #encoding layer with 50 neurons\n",
        "  encoder = Dense(encoding_dim, activation=\"relu\")(input_layer)           \n",
        "  #decoding and output layer\n",
        "  output_layer = Dense(input_dim, activation='softmax')(encoder)"
      ]
    },
    {
      "cell_type": "code",
      "execution_count": 80,
      "metadata": {
        "id": "nLn3vHBZLQtj"
      },
      "outputs": [],
      "source": [
        "if model_selection[model_flag]==\"ALL\" or model_selection[model_flag] == \"AE\":\n",
        "  # creating model with input, encoding, decoding, output layers\n",
        "  autoencoder = Model(inputs=input_layer, outputs=output_layer)\n",
        "\n",
        "  # defining loss function, optimizer, metrics and then compiling model\n",
        "  autoencoder.compile(optimizer='adam', loss='mean_squared_error',metrics=['accuracy'])"
      ]
    },
    {
      "cell_type": "code",
      "execution_count": 81,
      "metadata": {
        "id": "X_zk7PMVLVNm",
        "colab": {
          "base_uri": "https://localhost:8080/"
        },
        "outputId": "d40c4014-4303-4446-dfe8-4b156b45edd7"
      },
      "outputs": [
        {
          "output_type": "stream",
          "name": "stdout",
          "text": [
            "Model: \"model\"\n",
            "_________________________________________________________________\n",
            " Layer (type)                Output Shape              Param #   \n",
            "=================================================================\n",
            " input_1 (InputLayer)        [(None, 197)]             0         \n",
            "                                                                 \n",
            " dense_4 (Dense)             (None, 50)                9900      \n",
            "                                                                 \n",
            " dense_5 (Dense)             (None, 197)               10047     \n",
            "                                                                 \n",
            "=================================================================\n",
            "Total params: 19,947\n",
            "Trainable params: 19,947\n",
            "Non-trainable params: 0\n",
            "_________________________________________________________________\n"
          ]
        }
      ],
      "source": [
        "if model_selection[model_flag]==\"ALL\" or model_selection[model_flag] == \"AE\":\n",
        "  # summary of model layers\n",
        "  autoencoder.summary()"
      ]
    },
    {
      "cell_type": "code",
      "execution_count": 82,
      "metadata": {
        "id": "We59NbebLdkJ",
        "colab": {
          "base_uri": "https://localhost:8080/"
        },
        "outputId": "c313a6f6-52f0-4c68-cd9f-fcfd75073a24"
      },
      "outputs": [
        {
          "output_type": "stream",
          "name": "stdout",
          "text": [
            "Epoch 1/100\n",
            "387/387 [==============================] - 4s 6ms/step - loss: 0.0236 - accuracy: 0.3576 - val_loss: 29489732933124096.0000 - val_accuracy: 0.0000e+00\n",
            "Epoch 2/100\n",
            "387/387 [==============================] - 2s 4ms/step - loss: 0.0215 - accuracy: 0.2625 - val_loss: 29489732933124096.0000 - val_accuracy: 0.0000e+00\n",
            "Epoch 3/100\n",
            "387/387 [==============================] - 2s 4ms/step - loss: 0.0214 - accuracy: 0.1797 - val_loss: 29489732933124096.0000 - val_accuracy: 0.0000e+00\n",
            "Epoch 4/100\n",
            "387/387 [==============================] - 2s 4ms/step - loss: 0.0214 - accuracy: 0.1400 - val_loss: 29489732933124096.0000 - val_accuracy: 0.0000e+00\n",
            "Epoch 5/100\n",
            "387/387 [==============================] - 2s 4ms/step - loss: 0.0214 - accuracy: 0.1680 - val_loss: 29489732933124096.0000 - val_accuracy: 0.0000e+00\n",
            "Epoch 6/100\n",
            "387/387 [==============================] - 2s 4ms/step - loss: 0.0214 - accuracy: 0.1910 - val_loss: 29489732933124096.0000 - val_accuracy: 0.0000e+00\n",
            "Epoch 7/100\n",
            "387/387 [==============================] - 3s 7ms/step - loss: 0.0214 - accuracy: 0.2008 - val_loss: 29489732933124096.0000 - val_accuracy: 0.0000e+00\n",
            "Epoch 8/100\n",
            "387/387 [==============================] - 2s 5ms/step - loss: 0.0214 - accuracy: 0.2154 - val_loss: 29489732933124096.0000 - val_accuracy: 0.0000e+00\n",
            "Epoch 9/100\n",
            "387/387 [==============================] - 2s 4ms/step - loss: 0.0214 - accuracy: 0.2205 - val_loss: 29489732933124096.0000 - val_accuracy: 0.0000e+00\n",
            "Epoch 10/100\n",
            "387/387 [==============================] - 2s 4ms/step - loss: 0.0214 - accuracy: 0.2210 - val_loss: 29489732933124096.0000 - val_accuracy: 0.0000e+00\n",
            "Epoch 11/100\n",
            "387/387 [==============================] - 2s 4ms/step - loss: 0.0214 - accuracy: 0.2186 - val_loss: 29489732933124096.0000 - val_accuracy: 0.0000e+00\n",
            "Epoch 12/100\n",
            "387/387 [==============================] - 2s 4ms/step - loss: 0.0214 - accuracy: 0.2220 - val_loss: 29489732933124096.0000 - val_accuracy: 0.0000e+00\n",
            "Epoch 13/100\n",
            "387/387 [==============================] - 2s 4ms/step - loss: 0.0214 - accuracy: 0.2194 - val_loss: 29489732933124096.0000 - val_accuracy: 0.0000e+00\n",
            "Epoch 14/100\n",
            "387/387 [==============================] - 2s 6ms/step - loss: 0.0214 - accuracy: 0.2289 - val_loss: 29489732933124096.0000 - val_accuracy: 0.0000e+00\n",
            "Epoch 15/100\n",
            "387/387 [==============================] - 3s 7ms/step - loss: 0.0214 - accuracy: 0.2154 - val_loss: 29489732933124096.0000 - val_accuracy: 0.0000e+00\n",
            "Epoch 16/100\n",
            "387/387 [==============================] - 2s 4ms/step - loss: 0.0214 - accuracy: 0.2248 - val_loss: 29489732933124096.0000 - val_accuracy: 0.0000e+00\n",
            "Epoch 17/100\n",
            "387/387 [==============================] - 2s 4ms/step - loss: 0.0214 - accuracy: 0.2181 - val_loss: 29489732933124096.0000 - val_accuracy: 0.0000e+00\n",
            "Epoch 18/100\n",
            "387/387 [==============================] - 2s 4ms/step - loss: 0.0214 - accuracy: 0.2116 - val_loss: 29489732933124096.0000 - val_accuracy: 0.0000e+00\n",
            "Epoch 19/100\n",
            "387/387 [==============================] - 2s 4ms/step - loss: 0.0214 - accuracy: 0.2152 - val_loss: 29489732933124096.0000 - val_accuracy: 0.0000e+00\n",
            "Epoch 20/100\n",
            "387/387 [==============================] - 2s 4ms/step - loss: 0.0214 - accuracy: 0.2149 - val_loss: 29489732933124096.0000 - val_accuracy: 0.0000e+00\n",
            "Epoch 21/100\n",
            "387/387 [==============================] - 2s 5ms/step - loss: 0.0214 - accuracy: 0.2085 - val_loss: 29489732933124096.0000 - val_accuracy: 0.0000e+00\n",
            "Epoch 22/100\n",
            "387/387 [==============================] - 3s 7ms/step - loss: 0.0214 - accuracy: 0.2190 - val_loss: 29489732933124096.0000 - val_accuracy: 0.0000e+00\n",
            "Epoch 23/100\n",
            "387/387 [==============================] - 2s 5ms/step - loss: 0.0214 - accuracy: 0.2008 - val_loss: 29489732933124096.0000 - val_accuracy: 0.0000e+00\n",
            "Epoch 24/100\n",
            "387/387 [==============================] - 2s 4ms/step - loss: 0.0214 - accuracy: 0.2096 - val_loss: 29489732933124096.0000 - val_accuracy: 0.0000e+00\n",
            "Epoch 25/100\n",
            "387/387 [==============================] - 2s 4ms/step - loss: 0.0214 - accuracy: 0.2070 - val_loss: 29489732933124096.0000 - val_accuracy: 0.0000e+00\n",
            "Epoch 26/100\n",
            "387/387 [==============================] - 2s 5ms/step - loss: 0.0214 - accuracy: 0.2154 - val_loss: 29489732933124096.0000 - val_accuracy: 0.0000e+00\n",
            "Epoch 27/100\n",
            "387/387 [==============================] - 3s 7ms/step - loss: 0.0214 - accuracy: 0.1986 - val_loss: 29489732933124096.0000 - val_accuracy: 0.0000e+00\n",
            "Epoch 28/100\n",
            "387/387 [==============================] - 2s 5ms/step - loss: 0.0214 - accuracy: 0.2109 - val_loss: 29489732933124096.0000 - val_accuracy: 0.0000e+00\n",
            "Epoch 29/100\n",
            "387/387 [==============================] - 2s 6ms/step - loss: 0.0214 - accuracy: 0.2006 - val_loss: 29489732933124096.0000 - val_accuracy: 0.0000e+00\n",
            "Epoch 30/100\n",
            "387/387 [==============================] - 2s 5ms/step - loss: 0.0214 - accuracy: 0.2052 - val_loss: 29489732933124096.0000 - val_accuracy: 0.0000e+00\n",
            "Epoch 31/100\n",
            "387/387 [==============================] - 2s 4ms/step - loss: 0.0214 - accuracy: 0.2130 - val_loss: 29489732933124096.0000 - val_accuracy: 0.0000e+00\n",
            "Epoch 32/100\n",
            "387/387 [==============================] - 2s 5ms/step - loss: 0.0214 - accuracy: 0.2107 - val_loss: 29489732933124096.0000 - val_accuracy: 0.0000e+00\n",
            "Epoch 33/100\n",
            "387/387 [==============================] - 2s 4ms/step - loss: 0.0214 - accuracy: 0.2039 - val_loss: 29489732933124096.0000 - val_accuracy: 0.0000e+00\n",
            "Epoch 34/100\n",
            "387/387 [==============================] - 2s 4ms/step - loss: 0.0214 - accuracy: 0.2094 - val_loss: 29489732933124096.0000 - val_accuracy: 0.0000e+00\n",
            "Epoch 35/100\n",
            "387/387 [==============================] - 2s 4ms/step - loss: 0.0214 - accuracy: 0.2233 - val_loss: 29489732933124096.0000 - val_accuracy: 0.0000e+00\n",
            "Epoch 36/100\n",
            "387/387 [==============================] - 2s 6ms/step - loss: 0.0214 - accuracy: 0.2031 - val_loss: 29489732933124096.0000 - val_accuracy: 0.0000e+00\n",
            "Epoch 37/100\n",
            "387/387 [==============================] - 2s 6ms/step - loss: 0.0214 - accuracy: 0.2089 - val_loss: 29489732933124096.0000 - val_accuracy: 0.0000e+00\n",
            "Epoch 38/100\n",
            "387/387 [==============================] - 2s 4ms/step - loss: 0.0214 - accuracy: 0.2246 - val_loss: 29489732933124096.0000 - val_accuracy: 0.0000e+00\n",
            "Epoch 39/100\n",
            "387/387 [==============================] - 2s 4ms/step - loss: 0.0214 - accuracy: 0.2025 - val_loss: 29489732933124096.0000 - val_accuracy: 0.0000e+00\n",
            "Epoch 40/100\n",
            "387/387 [==============================] - 2s 4ms/step - loss: 0.0214 - accuracy: 0.2153 - val_loss: 29489732933124096.0000 - val_accuracy: 0.0000e+00\n",
            "Epoch 41/100\n",
            "387/387 [==============================] - 2s 4ms/step - loss: 0.0214 - accuracy: 0.2382 - val_loss: 29489732933124096.0000 - val_accuracy: 0.0000e+00\n",
            "Epoch 42/100\n",
            "387/387 [==============================] - 2s 4ms/step - loss: 0.0214 - accuracy: 0.2187 - val_loss: 29489732933124096.0000 - val_accuracy: 0.0000e+00\n",
            "Epoch 43/100\n",
            "387/387 [==============================] - 2s 5ms/step - loss: 0.0214 - accuracy: 0.2231 - val_loss: 29489732933124096.0000 - val_accuracy: 0.0000e+00\n",
            "Epoch 44/100\n",
            "387/387 [==============================] - 2s 6ms/step - loss: 0.0214 - accuracy: 0.2270 - val_loss: 29489732933124096.0000 - val_accuracy: 0.0000e+00\n",
            "Epoch 45/100\n",
            "387/387 [==============================] - 2s 5ms/step - loss: 0.0214 - accuracy: 0.2092 - val_loss: 29489732933124096.0000 - val_accuracy: 0.0000e+00\n",
            "Epoch 46/100\n",
            "387/387 [==============================] - 2s 4ms/step - loss: 0.0214 - accuracy: 0.2095 - val_loss: 29489732933124096.0000 - val_accuracy: 0.0000e+00\n",
            "Epoch 47/100\n",
            "387/387 [==============================] - 2s 5ms/step - loss: 0.0214 - accuracy: 0.2292 - val_loss: 29489732933124096.0000 - val_accuracy: 0.0000e+00\n",
            "Epoch 48/100\n",
            "387/387 [==============================] - 2s 4ms/step - loss: 0.0214 - accuracy: 0.2208 - val_loss: 29489732933124096.0000 - val_accuracy: 0.0000e+00\n",
            "Epoch 49/100\n",
            "387/387 [==============================] - 2s 4ms/step - loss: 0.0214 - accuracy: 0.2177 - val_loss: 29489732933124096.0000 - val_accuracy: 0.0000e+00\n",
            "Epoch 50/100\n",
            "387/387 [==============================] - 2s 4ms/step - loss: 0.0214 - accuracy: 0.2171 - val_loss: 29489732933124096.0000 - val_accuracy: 0.0000e+00\n",
            "Epoch 51/100\n",
            "387/387 [==============================] - 2s 6ms/step - loss: 0.0214 - accuracy: 0.2203 - val_loss: 29489732933124096.0000 - val_accuracy: 0.0000e+00\n",
            "Epoch 52/100\n",
            "387/387 [==============================] - 2s 6ms/step - loss: 0.0214 - accuracy: 0.2217 - val_loss: 29489732933124096.0000 - val_accuracy: 0.0000e+00\n",
            "Epoch 53/100\n",
            "387/387 [==============================] - 2s 4ms/step - loss: 0.0214 - accuracy: 0.2261 - val_loss: 29489732933124096.0000 - val_accuracy: 0.0000e+00\n",
            "Epoch 54/100\n",
            "387/387 [==============================] - 2s 4ms/step - loss: 0.0214 - accuracy: 0.2204 - val_loss: 29489732933124096.0000 - val_accuracy: 0.0000e+00\n",
            "Epoch 55/100\n",
            "387/387 [==============================] - 2s 4ms/step - loss: 0.0214 - accuracy: 0.2231 - val_loss: 29489732933124096.0000 - val_accuracy: 0.0000e+00\n",
            "Epoch 56/100\n",
            "387/387 [==============================] - 2s 4ms/step - loss: 0.0214 - accuracy: 0.2288 - val_loss: 29489732933124096.0000 - val_accuracy: 0.0000e+00\n",
            "Epoch 57/100\n",
            "387/387 [==============================] - 2s 4ms/step - loss: 0.0214 - accuracy: 0.2291 - val_loss: 29489732933124096.0000 - val_accuracy: 0.0000e+00\n",
            "Epoch 58/100\n",
            "387/387 [==============================] - 2s 5ms/step - loss: 0.0214 - accuracy: 0.2310 - val_loss: 29489732933124096.0000 - val_accuracy: 0.0000e+00\n",
            "Epoch 59/100\n",
            "387/387 [==============================] - 2s 6ms/step - loss: 0.0214 - accuracy: 0.2417 - val_loss: 29489732933124096.0000 - val_accuracy: 0.0000e+00\n",
            "Epoch 60/100\n",
            "387/387 [==============================] - 2s 5ms/step - loss: 0.0214 - accuracy: 0.2254 - val_loss: 29489732933124096.0000 - val_accuracy: 0.0000e+00\n",
            "Epoch 61/100\n",
            "387/387 [==============================] - 2s 4ms/step - loss: 0.0214 - accuracy: 0.2240 - val_loss: 29489732933124096.0000 - val_accuracy: 0.0000e+00\n",
            "Epoch 62/100\n",
            "387/387 [==============================] - 2s 4ms/step - loss: 0.0214 - accuracy: 0.2381 - val_loss: 29489732933124096.0000 - val_accuracy: 0.0000e+00\n",
            "Epoch 63/100\n",
            "387/387 [==============================] - 2s 4ms/step - loss: 0.0214 - accuracy: 0.2224 - val_loss: 29489732933124096.0000 - val_accuracy: 0.0000e+00\n",
            "Epoch 64/100\n",
            "387/387 [==============================] - 2s 4ms/step - loss: 0.0214 - accuracy: 0.2351 - val_loss: 29489732933124096.0000 - val_accuracy: 0.0000e+00\n",
            "Epoch 65/100\n",
            "387/387 [==============================] - 2s 4ms/step - loss: 0.0214 - accuracy: 0.2362 - val_loss: 29489732933124096.0000 - val_accuracy: 0.0000e+00\n",
            "Epoch 66/100\n",
            "387/387 [==============================] - 2s 6ms/step - loss: 0.0214 - accuracy: 0.2354 - val_loss: 29489732933124096.0000 - val_accuracy: 0.0000e+00\n",
            "Epoch 67/100\n",
            "387/387 [==============================] - 2s 6ms/step - loss: 0.0214 - accuracy: 0.2232 - val_loss: 29489732933124096.0000 - val_accuracy: 0.0000e+00\n",
            "Epoch 68/100\n",
            "387/387 [==============================] - 2s 4ms/step - loss: 0.0214 - accuracy: 0.2374 - val_loss: 29489732933124096.0000 - val_accuracy: 0.0000e+00\n",
            "Epoch 69/100\n",
            "387/387 [==============================] - 2s 4ms/step - loss: 0.0214 - accuracy: 0.2210 - val_loss: 29489732933124096.0000 - val_accuracy: 0.0000e+00\n",
            "Epoch 70/100\n",
            "387/387 [==============================] - 2s 4ms/step - loss: 0.0214 - accuracy: 0.2438 - val_loss: 29489732933124096.0000 - val_accuracy: 0.0000e+00\n",
            "Epoch 71/100\n",
            "387/387 [==============================] - 2s 4ms/step - loss: 0.0214 - accuracy: 0.2363 - val_loss: 29489732933124096.0000 - val_accuracy: 0.0000e+00\n",
            "Epoch 72/100\n",
            "387/387 [==============================] - 2s 4ms/step - loss: 0.0214 - accuracy: 0.2217 - val_loss: 29489732933124096.0000 - val_accuracy: 0.0000e+00\n",
            "Epoch 73/100\n",
            "387/387 [==============================] - 2s 5ms/step - loss: 0.0214 - accuracy: 0.2249 - val_loss: 29489732933124096.0000 - val_accuracy: 0.0000e+00\n",
            "Epoch 74/100\n",
            "387/387 [==============================] - 2s 6ms/step - loss: 0.0214 - accuracy: 0.2400 - val_loss: 29489732933124096.0000 - val_accuracy: 0.0000e+00\n",
            "Epoch 75/100\n",
            "387/387 [==============================] - 2s 5ms/step - loss: 0.0214 - accuracy: 0.2423 - val_loss: 29489732933124096.0000 - val_accuracy: 0.0000e+00\n",
            "Epoch 76/100\n",
            "387/387 [==============================] - 2s 4ms/step - loss: 0.0214 - accuracy: 0.2163 - val_loss: 29489732933124096.0000 - val_accuracy: 0.0000e+00\n",
            "Epoch 77/100\n",
            "387/387 [==============================] - 2s 4ms/step - loss: 0.0214 - accuracy: 0.2339 - val_loss: 29489732933124096.0000 - val_accuracy: 0.0000e+00\n",
            "Epoch 78/100\n",
            "387/387 [==============================] - 2s 5ms/step - loss: 0.0214 - accuracy: 0.2391 - val_loss: 29489732933124096.0000 - val_accuracy: 0.0000e+00\n",
            "Epoch 79/100\n",
            "387/387 [==============================] - 2s 4ms/step - loss: 0.0214 - accuracy: 0.2426 - val_loss: 29489732933124096.0000 - val_accuracy: 0.0000e+00\n",
            "Epoch 80/100\n",
            "387/387 [==============================] - 2s 5ms/step - loss: 0.0214 - accuracy: 0.2393 - val_loss: 29489732933124096.0000 - val_accuracy: 0.0000e+00\n",
            "Epoch 81/100\n",
            "387/387 [==============================] - 2s 6ms/step - loss: 0.0214 - accuracy: 0.2344 - val_loss: 29489732933124096.0000 - val_accuracy: 0.0000e+00\n",
            "Epoch 82/100\n",
            "387/387 [==============================] - 2s 6ms/step - loss: 0.0214 - accuracy: 0.2135 - val_loss: 29489732933124096.0000 - val_accuracy: 0.0000e+00\n",
            "Epoch 83/100\n",
            "387/387 [==============================] - 2s 4ms/step - loss: 0.0213 - accuracy: 0.1854 - val_loss: 29489732933124096.0000 - val_accuracy: 0.0000e+00\n",
            "Epoch 84/100\n",
            "387/387 [==============================] - 2s 4ms/step - loss: 0.0213 - accuracy: 0.1914 - val_loss: 29489732933124096.0000 - val_accuracy: 0.0000e+00\n",
            "Epoch 85/100\n",
            "387/387 [==============================] - 2s 4ms/step - loss: 0.0213 - accuracy: 0.2024 - val_loss: 29489732933124096.0000 - val_accuracy: 0.0000e+00\n",
            "Epoch 86/100\n",
            "387/387 [==============================] - 2s 4ms/step - loss: 0.0213 - accuracy: 0.1781 - val_loss: 29489732933124096.0000 - val_accuracy: 0.0000e+00\n",
            "Epoch 87/100\n",
            "387/387 [==============================] - 2s 4ms/step - loss: 0.0213 - accuracy: 0.2135 - val_loss: 29489732933124096.0000 - val_accuracy: 0.0000e+00\n",
            "Epoch 88/100\n",
            "387/387 [==============================] - 2s 5ms/step - loss: 0.0213 - accuracy: 0.2108 - val_loss: 29489732933124096.0000 - val_accuracy: 0.0000e+00\n",
            "Epoch 89/100\n",
            "387/387 [==============================] - 2s 6ms/step - loss: 0.0213 - accuracy: 0.2205 - val_loss: 29489732933124096.0000 - val_accuracy: 0.0000e+00\n",
            "Epoch 90/100\n",
            "387/387 [==============================] - 2s 5ms/step - loss: 0.0213 - accuracy: 0.2251 - val_loss: 29489732933124096.0000 - val_accuracy: 0.0000e+00\n",
            "Epoch 91/100\n",
            "387/387 [==============================] - 2s 4ms/step - loss: 0.0213 - accuracy: 0.2074 - val_loss: 29489732933124096.0000 - val_accuracy: 0.0000e+00\n",
            "Epoch 92/100\n",
            "387/387 [==============================] - 2s 4ms/step - loss: 0.0213 - accuracy: 0.2197 - val_loss: 29489732933124096.0000 - val_accuracy: 0.0000e+00\n",
            "Epoch 93/100\n",
            "387/387 [==============================] - 2s 4ms/step - loss: 0.0213 - accuracy: 0.2095 - val_loss: 29489732933124096.0000 - val_accuracy: 0.0000e+00\n",
            "Epoch 94/100\n",
            "387/387 [==============================] - 2s 4ms/step - loss: 0.0213 - accuracy: 0.2223 - val_loss: 29489732933124096.0000 - val_accuracy: 0.0000e+00\n",
            "Epoch 95/100\n",
            "387/387 [==============================] - 2s 4ms/step - loss: 0.0213 - accuracy: 0.2164 - val_loss: 29489732933124096.0000 - val_accuracy: 0.0000e+00\n",
            "Epoch 96/100\n",
            "387/387 [==============================] - 3s 6ms/step - loss: 0.0213 - accuracy: 0.2234 - val_loss: 29489732933124096.0000 - val_accuracy: 0.0000e+00\n",
            "Epoch 97/100\n",
            "387/387 [==============================] - 2s 5ms/step - loss: 0.0213 - accuracy: 0.2107 - val_loss: 29489732933124096.0000 - val_accuracy: 0.0000e+00\n",
            "Epoch 98/100\n",
            "387/387 [==============================] - 2s 4ms/step - loss: 0.0213 - accuracy: 0.2242 - val_loss: 29489732933124096.0000 - val_accuracy: 0.0000e+00\n",
            "Epoch 99/100\n",
            "387/387 [==============================] - 2s 4ms/step - loss: 0.0213 - accuracy: 0.2198 - val_loss: 29489732933124096.0000 - val_accuracy: 0.0000e+00\n",
            "Epoch 100/100\n",
            "387/387 [==============================] - 2s 4ms/step - loss: 0.0213 - accuracy: 0.2164 - val_loss: 29489732933124096.0000 - val_accuracy: 0.0000e+00\n"
          ]
        }
      ],
      "source": [
        "if model_selection[model_flag]==\"ALL\" or model_selection[model_flag] == \"AE\":\n",
        "  # training the model on training dataset\n",
        "  history = autoencoder.fit(X_train, X_train, epochs=100,batch_size=500,validation_data=(X_test, X_test)).history"
      ]
    },
    {
      "cell_type": "code",
      "execution_count": 83,
      "metadata": {
        "id": "AdtR3-9xLliU",
        "colab": {
          "base_uri": "https://localhost:8080/"
        },
        "outputId": "f3715901-c953-4aff-c1d1-f7c25718a5e7"
      },
      "outputs": [
        {
          "output_type": "stream",
          "name": "stdout",
          "text": [
            "Saved model to disk\n",
            "Loaded model from disk\n"
          ]
        }
      ],
      "source": [
        "if model_selection[model_flag]==\"ALL\" or model_selection[model_flag] == \"AE\":\n",
        "  filepath = '/content/drive/MyDrive/Colab_Notebooks/Models/ae_binary_unsw_nb15.json'\n",
        "  weightspath = '/content/drive/MyDrive/Colab_Notebooks/Weights/ae_binary_unsw_nb15.h5'\n",
        "  if (not path.isfile(filepath)): \n",
        "    # serialize model to JSON\n",
        "    autoencoder_json = autoencoder.to_json()\n",
        "    with open(filepath, \"w\") as json_file:\n",
        "      json_file.write(autoencoder_json)\n",
        "\n",
        "    # serialize weights to HDF5\n",
        "    autoencoder.save_weights(weightspath)\n",
        "    print(\"Saved model to disk\")\n",
        "\n",
        "    # load json and create model\n",
        "    json_file = open(filepath, 'r')\n",
        "    loaded_model_json = json_file.read()\n",
        "    json_file.close()\n",
        "    autoencoder = model_from_json(loaded_model_json)\n",
        "\n",
        "    # load weights into new model\n",
        "    autoencoder.load_weights(weightspath)\n",
        "    print(\"Loaded model from disk\")"
      ]
    },
    {
      "cell_type": "code",
      "execution_count": 84,
      "metadata": {
        "id": "Wqr6HVtMLwx9"
      },
      "outputs": [],
      "source": [
        "if model_selection[model_flag]==\"ALL\" or model_selection[model_flag] == \"AE\":\n",
        "  # defining loss function, optimizer, metrics and then compiling model\n",
        "  autoencoder.compile(optimizer='adam', loss='mean_squared_error',metrics=['accuracy'])"
      ]
    },
    {
      "cell_type": "code",
      "execution_count": 85,
      "metadata": {
        "id": "FQrjCk2hL09x",
        "colab": {
          "base_uri": "https://localhost:8080/"
        },
        "outputId": "778afc1a-d3f2-4278-8db1-ef80aa3f6d7b"
      },
      "outputs": [
        {
          "output_type": "stream",
          "name": "stdout",
          "text": [
            "2014/2014 [==============================] - 6s 3ms/step - loss: 29489728638156800.0000 - accuracy: 0.0000e+00\n",
            "Test results - Loss: 2.94897286381568e+16 - Accuracy: 0.0%\n"
          ]
        }
      ],
      "source": [
        "if model_selection[model_flag]==\"ALL\" or model_selection[model_flag] == \"AE\":\n",
        "  # predicting target attribute on testing dataset\n",
        "  test_results = autoencoder.evaluate(X_test, X_test, verbose=1)\n",
        "  print(f'Test results - Loss: {test_results[0]} - Accuracy: {test_results[1]}%')"
      ]
    },
    {
      "cell_type": "code",
      "execution_count": 86,
      "metadata": {
        "id": "VqQsjSZcL1-B",
        "colab": {
          "base_uri": "https://localhost:8080/",
          "height": 472
        },
        "outputId": "76d322ef-697d-4d75-fac5-f34f3bc1b811"
      },
      "outputs": [
        {
          "output_type": "display_data",
          "data": {
            "text/plain": [
              "<Figure size 640x480 with 1 Axes>"
            ],
            "image/png": "[encoded data removed]"
          },
          "metadata": {}
        }
      ],
      "source": [
        "if model_selection[model_flag]==\"ALL\" or model_selection[model_flag] == \"AE\":\n",
        "  # Plot of loss vs epoch of train and test dataset\n",
        "  plt.plot(history['loss'])\n",
        "  plt.plot(history['val_loss'])\n",
        "  plt.title(\"Plot of loss vs epoch for train and test dataset\")\n",
        "  plt.ylabel('loss')\n",
        "  plt.xlabel('epoch')\n",
        "  plt.legend(['train', 'test'], loc='upper right')\n",
        "  plt.savefig('/content/drive/MyDrive/Colab_Notebooks/Plots/ae_binary_loss.png')\n",
        "  plt.show()"
      ]
    },
    {
      "cell_type": "code",
      "execution_count": 87,
      "metadata": {
        "id": "fkjD9QXKL25Z",
        "colab": {
          "base_uri": "https://localhost:8080/",
          "height": 472
        },
        "outputId": "49629039-732b-42c7-81fd-41e4bc77b47d"
      },
      "outputs": [
        {
          "output_type": "display_data",
          "data": {
            "text/plain": [
              "<Figure size 640x480 with 1 Axes>"
            ],
            "image/png": "[encoded data removed]"
          },
          "metadata": {}
        }
      ],
      "source": [
        "if model_selection[model_flag]==\"ALL\" or model_selection[model_flag] == \"AE\":\n",
        "  # Plot of accuracy vs epoch of train and test dataset\n",
        "  plt.plot(history['accuracy'])\n",
        "  plt.plot(history['val_accuracy'])\n",
        "  plt.title(\"Plot of accuracy vs epoch for train and test dataset\")\n",
        "  plt.ylabel('accuracy')\n",
        "  plt.xlabel('epoch')\n",
        "  plt.legend(['train', 'test'], loc='best')\n",
        "  plt.savefig('/content/drive/MyDrive/Colab_Notebooks/Plots/ae_binary_accuracy.png')\n",
        "  plt.show()"
      ]
    },
    {
      "cell_type": "code",
      "execution_count": 88,
      "metadata": {
        "id": "lf9q83sBMGPD"
      },
      "outputs": [],
      "source": [
        "if model_selection[model_flag]==\"ALL\" or model_selection[model_flag] == \"AE\":\n",
        "  # representation of model layers\n",
        "  plot_model(autoencoder, to_file='/content/drive/MyDrive/Colab_Notebooks/Plots/ae_binary.png', show_shapes=True,)"
      ]
    },
    {
      "cell_type": "code",
      "execution_count": 89,
      "metadata": {
        "id": "SFIXKGwuMLFo",
        "colab": {
          "base_uri": "https://localhost:8080/"
        },
        "outputId": "97156c43-3f00-4697-d61f-6cbb8041e5ae"
      },
      "outputs": [
        {
          "output_type": "stream",
          "name": "stdout",
          "text": [
            "2014/2014 [==============================] - 3s 2ms/step\n"
          ]
        }
      ],
      "source": [
        "if model_selection[model_flag]==\"ALL\" or model_selection[model_flag] == \"AE\":\n",
        "  # calculating reconstruction error \n",
        "  predictions = autoencoder.predict(X_test)"
      ]
    },
    {
      "cell_type": "code",
      "execution_count": 90,
      "metadata": {
        "id": "cqKJCyZnMMEG"
      },
      "outputs": [],
      "source": [
        "if model_selection[model_flag]==\"ALL\" or model_selection[model_flag] == \"AE\":\n",
        "  mse = np.mean(np.power(X_test - predictions, 2), axis=1)\n",
        "  error_df = pd.DataFrame({'reconstruction_error': mse,\n",
        "                           'true_class': y_test})"
      ]
    },
    {
      "cell_type": "code",
      "execution_count": 91,
      "metadata": {
        "id": "EdQJudbDMhmB",
        "colab": {
          "base_uri": "https://localhost:8080/"
        },
        "outputId": "862dd7a4-c231-4abf-b46f-4633e919d865"
      },
      "outputs": [
        {
          "output_type": "stream",
          "name": "stdout",
          "text": [
            "(64419, 197)\n"
          ]
        }
      ],
      "source": [
        "if model_selection[model_flag]==\"ALL\" or model_selection[model_flag] == \"AE\":\n",
        "  error_df.describe()\n",
        "  print(predictions.shape)"
      ]
    },
    {
      "cell_type": "markdown",
      "metadata": {
        "id": "PHsaAAMmNQrs"
      },
      "source": [
        "## **AE Classifier**"
      ]
    },
    {
      "cell_type": "code",
      "execution_count": 92,
      "metadata": {
        "id": "1hK07LDBMoZg"
      },
      "outputs": [],
      "source": [
        "if model_selection[model_flag]==\"ALL\" or model_selection[model_flag] == \"AE\":\n",
        "  i_dim = predictions.shape[1]\n",
        "\n",
        "  #input layer\n",
        "  i_layer = Input(shape=(i_dim, ))\n",
        "  #hidden layer with 50 neurons\n",
        "  fvector = Dense(50, activation=\"sigmoid\")(i_layer)                    \n",
        "  #doutput layer\n",
        "  o_layer = Dense(1, activation='sigmoid')(fvector)"
      ]
    },
    {
      "cell_type": "code",
      "execution_count": 93,
      "metadata": {
        "id": "Efq77rVINXWE"
      },
      "outputs": [],
      "source": [
        "if model_selection[model_flag]==\"ALL\" or model_selection[model_flag] == \"AE\":\n",
        "  # creating model with input, encoding, decoding, output layers\n",
        "  ae_classifier = Model(inputs=i_layer, outputs=o_layer)\n",
        "\n",
        "  # defining loss function, optimizer, metrics and then compiling model\n",
        "  ae_classifier.compile(optimizer='adam', loss='binary_crossentropy',metrics=['accuracy'])"
      ]
    },
    {
      "cell_type": "code",
      "execution_count": 94,
      "metadata": {
        "id": "0Yl594VGNX1W",
        "colab": {
          "base_uri": "https://localhost:8080/"
        },
        "outputId": "e4a714fb-4f42-4e09-9e81-a358454cf416"
      },
      "outputs": [
        {
          "output_type": "stream",
          "name": "stdout",
          "text": [
            "Model: \"model_1\"\n",
            "_________________________________________________________________\n",
            " Layer (type)                Output Shape              Param #   \n",
            "=================================================================\n",
            " input_2 (InputLayer)        [(None, 197)]             0         \n",
            "                                                                 \n",
            " dense_6 (Dense)             (None, 50)                9900      \n",
            "                                                                 \n",
            " dense_7 (Dense)             (None, 1)                 51        \n",
            "                                                                 \n",
            "=================================================================\n",
            "Total params: 9,951\n",
            "Trainable params: 9,951\n",
            "Non-trainable params: 0\n",
            "_________________________________________________________________\n"
          ]
        }
      ],
      "source": [
        "if model_selection[model_flag]==\"ALL\" or model_selection[model_flag] == \"AE\":\n",
        "  # summary of model layers\n",
        "  ae_classifier.summary()"
      ]
    },
    {
      "cell_type": "code",
      "execution_count": 95,
      "metadata": {
        "id": "23n8Qt0uNX8Z",
        "colab": {
          "base_uri": "https://localhost:8080/"
        },
        "outputId": "b1fb3831-3263-4015-900a-8fa971f165ae"
      },
      "outputs": [
        {
          "output_type": "stream",
          "name": "stdout",
          "text": [
            "Epoch 1/300\n",
            "104/104 [==============================] - 3s 8ms/step - loss: 0.6459 - accuracy: 0.6376 - val_loss: 0.6254 - val_accuracy: 0.6455\n",
            "Epoch 2/300\n",
            "104/104 [==============================] - 1s 7ms/step - loss: 0.6172 - accuracy: 0.6376 - val_loss: 0.6050 - val_accuracy: 0.6455\n",
            "Epoch 3/300\n",
            "104/104 [==============================] - 0s 4ms/step - loss: 0.6019 - accuracy: 0.6376 - val_loss: 0.5971 - val_accuracy: 0.6527\n",
            "Epoch 4/300\n",
            "104/104 [==============================] - 0s 4ms/step - loss: 0.5973 - accuracy: 0.6592 - val_loss: 0.5953 - val_accuracy: 0.6565\n",
            "Epoch 5/300\n",
            "104/104 [==============================] - 0s 4ms/step - loss: 0.5963 - accuracy: 0.6645 - val_loss: 0.5952 - val_accuracy: 0.6570\n",
            "Epoch 6/300\n",
            "104/104 [==============================] - 0s 5ms/step - loss: 0.5960 - accuracy: 0.6651 - val_loss: 0.5950 - val_accuracy: 0.6570\n",
            "Epoch 7/300\n",
            "104/104 [==============================] - 0s 4ms/step - loss: 0.5958 - accuracy: 0.6651 - val_loss: 0.5948 - val_accuracy: 0.6570\n",
            "Epoch 8/300\n",
            "104/104 [==============================] - 0s 4ms/step - loss: 0.5957 - accuracy: 0.6651 - val_loss: 0.5946 - val_accuracy: 0.6570\n",
            "Epoch 9/300\n",
            "104/104 [==============================] - 0s 4ms/step - loss: 0.5956 - accuracy: 0.6651 - val_loss: 0.5944 - val_accuracy: 0.6570\n",
            "Epoch 10/300\n",
            "104/104 [==============================] - 0s 5ms/step - loss: 0.5956 - accuracy: 0.6651 - val_loss: 0.5955 - val_accuracy: 0.6570\n",
            "Epoch 11/300\n",
            "104/104 [==============================] - 1s 5ms/step - loss: 0.5956 - accuracy: 0.6651 - val_loss: 0.5943 - val_accuracy: 0.6570\n",
            "Epoch 12/300\n",
            "104/104 [==============================] - 0s 4ms/step - loss: 0.5954 - accuracy: 0.6651 - val_loss: 0.5946 - val_accuracy: 0.6570\n",
            "Epoch 13/300\n",
            "104/104 [==============================] - 0s 4ms/step - loss: 0.5955 - accuracy: 0.6651 - val_loss: 0.5941 - val_accuracy: 0.6570\n",
            "Epoch 14/300\n",
            "104/104 [==============================] - 0s 4ms/step - loss: 0.5953 - accuracy: 0.6651 - val_loss: 0.5952 - val_accuracy: 0.6570\n",
            "Epoch 15/300\n",
            "104/104 [==============================] - 0s 4ms/step - loss: 0.5952 - accuracy: 0.6651 - val_loss: 0.5948 - val_accuracy: 0.6570\n",
            "Epoch 16/300\n",
            "104/104 [==============================] - 0s 4ms/step - loss: 0.5955 - accuracy: 0.6651 - val_loss: 0.5961 - val_accuracy: 0.6570\n",
            "Epoch 17/300\n",
            "104/104 [==============================] - 0s 4ms/step - loss: 0.5953 - accuracy: 0.6651 - val_loss: 0.5940 - val_accuracy: 0.6570\n",
            "Epoch 18/300\n",
            "104/104 [==============================] - 0s 5ms/step - loss: 0.5952 - accuracy: 0.6651 - val_loss: 0.5941 - val_accuracy: 0.6570\n",
            "Epoch 19/300\n",
            "104/104 [==============================] - 0s 4ms/step - loss: 0.5951 - accuracy: 0.6651 - val_loss: 0.5945 - val_accuracy: 0.6570\n",
            "Epoch 20/300\n",
            "104/104 [==============================] - 0s 4ms/step - loss: 0.5951 - accuracy: 0.6651 - val_loss: 0.5939 - val_accuracy: 0.6570\n",
            "Epoch 21/300\n",
            "104/104 [==============================] - 0s 4ms/step - loss: 0.5954 - accuracy: 0.6651 - val_loss: 0.5939 - val_accuracy: 0.6570\n",
            "Epoch 22/300\n",
            "104/104 [==============================] - 0s 4ms/step - loss: 0.5951 - accuracy: 0.6651 - val_loss: 0.5939 - val_accuracy: 0.6570\n",
            "Epoch 23/300\n",
            "104/104 [==============================] - 0s 4ms/step - loss: 0.5952 - accuracy: 0.6651 - val_loss: 0.5939 - val_accuracy: 0.6570\n",
            "Epoch 24/300\n",
            "104/104 [==============================] - 1s 5ms/step - loss: 0.5950 - accuracy: 0.6651 - val_loss: 0.5942 - val_accuracy: 0.6570\n",
            "Epoch 25/300\n",
            "104/104 [==============================] - 1s 6ms/step - loss: 0.5952 - accuracy: 0.6651 - val_loss: 0.5945 - val_accuracy: 0.6570\n",
            "Epoch 26/300\n",
            "104/104 [==============================] - 1s 6ms/step - loss: 0.5951 - accuracy: 0.6651 - val_loss: 0.5942 - val_accuracy: 0.6570\n",
            "Epoch 27/300\n",
            "104/104 [==============================] - 1s 7ms/step - loss: 0.5950 - accuracy: 0.6651 - val_loss: 0.5940 - val_accuracy: 0.6570\n",
            "Epoch 28/300\n",
            "104/104 [==============================] - 1s 7ms/step - loss: 0.5949 - accuracy: 0.6651 - val_loss: 0.5939 - val_accuracy: 0.6570\n",
            "Epoch 29/300\n",
            "104/104 [==============================] - 1s 7ms/step - loss: 0.5952 - accuracy: 0.6651 - val_loss: 0.5955 - val_accuracy: 0.6570\n",
            "Epoch 30/300\n",
            "104/104 [==============================] - 1s 6ms/step - loss: 0.5952 - accuracy: 0.6651 - val_loss: 0.5954 - val_accuracy: 0.6570\n",
            "Epoch 31/300\n",
            "104/104 [==============================] - 0s 4ms/step - loss: 0.5950 - accuracy: 0.6651 - val_loss: 0.5945 - val_accuracy: 0.6570\n",
            "Epoch 32/300\n",
            "104/104 [==============================] - 0s 4ms/step - loss: 0.5950 - accuracy: 0.6651 - val_loss: 0.5944 - val_accuracy: 0.6570\n",
            "Epoch 33/300\n",
            "104/104 [==============================] - 0s 5ms/step - loss: 0.5950 - accuracy: 0.6651 - val_loss: 0.5940 - val_accuracy: 0.6570\n",
            "Epoch 34/300\n",
            "104/104 [==============================] - 0s 4ms/step - loss: 0.5950 - accuracy: 0.6651 - val_loss: 0.5938 - val_accuracy: 0.6570\n",
            "Epoch 35/300\n",
            "104/104 [==============================] - 0s 4ms/step - loss: 0.5950 - accuracy: 0.6651 - val_loss: 0.5939 - val_accuracy: 0.6570\n",
            "Epoch 36/300\n",
            "104/104 [==============================] - 0s 4ms/step - loss: 0.5952 - accuracy: 0.6640 - val_loss: 0.5938 - val_accuracy: 0.6570\n",
            "Epoch 37/300\n",
            "104/104 [==============================] - 0s 4ms/step - loss: 0.5950 - accuracy: 0.6651 - val_loss: 0.5941 - val_accuracy: 0.6570\n",
            "Epoch 38/300\n",
            "104/104 [==============================] - 0s 5ms/step - loss: 0.5951 - accuracy: 0.6651 - val_loss: 0.5936 - val_accuracy: 0.6570\n",
            "Epoch 39/300\n",
            "104/104 [==============================] - 0s 5ms/step - loss: 0.5950 - accuracy: 0.6651 - val_loss: 0.5936 - val_accuracy: 0.6570\n",
            "Epoch 40/300\n",
            "104/104 [==============================] - 0s 4ms/step - loss: 0.5949 - accuracy: 0.6651 - val_loss: 0.5937 - val_accuracy: 0.6570\n",
            "Epoch 41/300\n",
            "104/104 [==============================] - 0s 4ms/step - loss: 0.5949 - accuracy: 0.6651 - val_loss: 0.5943 - val_accuracy: 0.6570\n",
            "Epoch 42/300\n",
            "104/104 [==============================] - 0s 4ms/step - loss: 0.5950 - accuracy: 0.6651 - val_loss: 0.5937 - val_accuracy: 0.6570\n",
            "Epoch 43/300\n",
            "104/104 [==============================] - 0s 4ms/step - loss: 0.5949 - accuracy: 0.6651 - val_loss: 0.5939 - val_accuracy: 0.6570\n",
            "Epoch 44/300\n",
            "104/104 [==============================] - 0s 4ms/step - loss: 0.5951 - accuracy: 0.6651 - val_loss: 0.5936 - val_accuracy: 0.6570\n",
            "Epoch 45/300\n",
            "104/104 [==============================] - 0s 4ms/step - loss: 0.5951 - accuracy: 0.6651 - val_loss: 0.5935 - val_accuracy: 0.6570\n",
            "Epoch 46/300\n",
            "104/104 [==============================] - 0s 5ms/step - loss: 0.5951 - accuracy: 0.6627 - val_loss: 0.5940 - val_accuracy: 0.6570\n",
            "Epoch 47/300\n",
            "104/104 [==============================] - 0s 4ms/step - loss: 0.5951 - accuracy: 0.6651 - val_loss: 0.5936 - val_accuracy: 0.6570\n",
            "Epoch 48/300\n",
            "104/104 [==============================] - 0s 4ms/step - loss: 0.5952 - accuracy: 0.6651 - val_loss: 0.5940 - val_accuracy: 0.6570\n",
            "Epoch 49/300\n",
            "104/104 [==============================] - 0s 4ms/step - loss: 0.5950 - accuracy: 0.6651 - val_loss: 0.5937 - val_accuracy: 0.6570\n",
            "Epoch 50/300\n",
            "104/104 [==============================] - 0s 4ms/step - loss: 0.5949 - accuracy: 0.6651 - val_loss: 0.5946 - val_accuracy: 0.6570\n",
            "Epoch 51/300\n",
            "104/104 [==============================] - 0s 4ms/step - loss: 0.5949 - accuracy: 0.6651 - val_loss: 0.5937 - val_accuracy: 0.6570\n",
            "Epoch 52/300\n",
            "104/104 [==============================] - 1s 6ms/step - loss: 0.5950 - accuracy: 0.6651 - val_loss: 0.5938 - val_accuracy: 0.6570\n",
            "Epoch 53/300\n",
            "104/104 [==============================] - 1s 6ms/step - loss: 0.5950 - accuracy: 0.6651 - val_loss: 0.5937 - val_accuracy: 0.6570\n",
            "Epoch 54/300\n",
            "104/104 [==============================] - 1s 6ms/step - loss: 0.5949 - accuracy: 0.6640 - val_loss: 0.5943 - val_accuracy: 0.6570\n",
            "Epoch 55/300\n",
            "104/104 [==============================] - 1s 7ms/step - loss: 0.5949 - accuracy: 0.6651 - val_loss: 0.5936 - val_accuracy: 0.6570\n",
            "Epoch 56/300\n",
            "104/104 [==============================] - 1s 6ms/step - loss: 0.5951 - accuracy: 0.6651 - val_loss: 0.5942 - val_accuracy: 0.6570\n",
            "Epoch 57/300\n",
            "104/104 [==============================] - 1s 6ms/step - loss: 0.5950 - accuracy: 0.6651 - val_loss: 0.5937 - val_accuracy: 0.6570\n",
            "Epoch 58/300\n",
            "104/104 [==============================] - 1s 5ms/step - loss: 0.5951 - accuracy: 0.6640 - val_loss: 0.5936 - val_accuracy: 0.6570\n",
            "Epoch 59/300\n",
            "104/104 [==============================] - 0s 4ms/step - loss: 0.5950 - accuracy: 0.6651 - val_loss: 0.5935 - val_accuracy: 0.6570\n",
            "Epoch 60/300\n",
            "104/104 [==============================] - 0s 4ms/step - loss: 0.5951 - accuracy: 0.6651 - val_loss: 0.5943 - val_accuracy: 0.6570\n",
            "Epoch 61/300\n",
            "104/104 [==============================] - 0s 4ms/step - loss: 0.5949 - accuracy: 0.6651 - val_loss: 0.5936 - val_accuracy: 0.6570\n",
            "Epoch 62/300\n",
            "104/104 [==============================] - 0s 4ms/step - loss: 0.5950 - accuracy: 0.6651 - val_loss: 0.5936 - val_accuracy: 0.6570\n",
            "Epoch 63/300\n",
            "104/104 [==============================] - 0s 4ms/step - loss: 0.5950 - accuracy: 0.6651 - val_loss: 0.5935 - val_accuracy: 0.6570\n",
            "Epoch 64/300\n",
            "104/104 [==============================] - 0s 4ms/step - loss: 0.5950 - accuracy: 0.6634 - val_loss: 0.5936 - val_accuracy: 0.6570\n",
            "Epoch 65/300\n",
            "104/104 [==============================] - 0s 4ms/step - loss: 0.5950 - accuracy: 0.6651 - val_loss: 0.5938 - val_accuracy: 0.6570\n",
            "Epoch 66/300\n",
            "104/104 [==============================] - 0s 4ms/step - loss: 0.5950 - accuracy: 0.6651 - val_loss: 0.5936 - val_accuracy: 0.6570\n",
            "Epoch 67/300\n",
            "104/104 [==============================] - 0s 4ms/step - loss: 0.5949 - accuracy: 0.6651 - val_loss: 0.5941 - val_accuracy: 0.6570\n",
            "Epoch 68/300\n",
            "104/104 [==============================] - 0s 5ms/step - loss: 0.5950 - accuracy: 0.6651 - val_loss: 0.5945 - val_accuracy: 0.6570\n",
            "Epoch 69/300\n",
            "104/104 [==============================] - 0s 4ms/step - loss: 0.5949 - accuracy: 0.6651 - val_loss: 0.5939 - val_accuracy: 0.6570\n",
            "Epoch 70/300\n",
            "104/104 [==============================] - 0s 4ms/step - loss: 0.5949 - accuracy: 0.6651 - val_loss: 0.5947 - val_accuracy: 0.6570\n",
            "Epoch 71/300\n",
            "104/104 [==============================] - 0s 4ms/step - loss: 0.5950 - accuracy: 0.6651 - val_loss: 0.5939 - val_accuracy: 0.6570\n",
            "Epoch 72/300\n",
            "104/104 [==============================] - 0s 4ms/step - loss: 0.5949 - accuracy: 0.6649 - val_loss: 0.5935 - val_accuracy: 0.6570\n",
            "Epoch 73/300\n",
            "104/104 [==============================] - 0s 4ms/step - loss: 0.5949 - accuracy: 0.6651 - val_loss: 0.5941 - val_accuracy: 0.6570\n",
            "Epoch 74/300\n",
            "104/104 [==============================] - 0s 4ms/step - loss: 0.5949 - accuracy: 0.6651 - val_loss: 0.5942 - val_accuracy: 0.6570\n",
            "Epoch 75/300\n",
            "104/104 [==============================] - 0s 4ms/step - loss: 0.5949 - accuracy: 0.6651 - val_loss: 0.5939 - val_accuracy: 0.6570\n",
            "Epoch 76/300\n",
            "104/104 [==============================] - 0s 5ms/step - loss: 0.5948 - accuracy: 0.6651 - val_loss: 0.5951 - val_accuracy: 0.6570\n",
            "Epoch 77/300\n",
            "104/104 [==============================] - 0s 4ms/step - loss: 0.5950 - accuracy: 0.6651 - val_loss: 0.5937 - val_accuracy: 0.6570\n",
            "Epoch 78/300\n",
            "104/104 [==============================] - 0s 4ms/step - loss: 0.5951 - accuracy: 0.6642 - val_loss: 0.5937 - val_accuracy: 0.6570\n",
            "Epoch 79/300\n",
            "104/104 [==============================] - 0s 5ms/step - loss: 0.5951 - accuracy: 0.6633 - val_loss: 0.5943 - val_accuracy: 0.6570\n",
            "Epoch 80/300\n",
            "104/104 [==============================] - 1s 6ms/step - loss: 0.5950 - accuracy: 0.6651 - val_loss: 0.5945 - val_accuracy: 0.6570\n",
            "Epoch 81/300\n",
            "104/104 [==============================] - 1s 6ms/step - loss: 0.5950 - accuracy: 0.6651 - val_loss: 0.5939 - val_accuracy: 0.6570\n",
            "Epoch 82/300\n",
            "104/104 [==============================] - 1s 6ms/step - loss: 0.5949 - accuracy: 0.6651 - val_loss: 0.5946 - val_accuracy: 0.6570\n",
            "Epoch 83/300\n",
            "104/104 [==============================] - 1s 7ms/step - loss: 0.5949 - accuracy: 0.6651 - val_loss: 0.5942 - val_accuracy: 0.6570\n",
            "Epoch 84/300\n",
            "104/104 [==============================] - 1s 7ms/step - loss: 0.5951 - accuracy: 0.6641 - val_loss: 0.5935 - val_accuracy: 0.6570\n",
            "Epoch 85/300\n",
            "104/104 [==============================] - 1s 6ms/step - loss: 0.5949 - accuracy: 0.6651 - val_loss: 0.5936 - val_accuracy: 0.6570\n",
            "Epoch 86/300\n",
            "104/104 [==============================] - 0s 5ms/step - loss: 0.5949 - accuracy: 0.6651 - val_loss: 0.5938 - val_accuracy: 0.6570\n",
            "Epoch 87/300\n",
            "104/104 [==============================] - 0s 4ms/step - loss: 0.5949 - accuracy: 0.6651 - val_loss: 0.5937 - val_accuracy: 0.6570\n",
            "Epoch 88/300\n",
            "104/104 [==============================] - 0s 5ms/step - loss: 0.5949 - accuracy: 0.6651 - val_loss: 0.5935 - val_accuracy: 0.6570\n",
            "Epoch 89/300\n",
            "104/104 [==============================] - 0s 5ms/step - loss: 0.5951 - accuracy: 0.6651 - val_loss: 0.5937 - val_accuracy: 0.6570\n",
            "Epoch 90/300\n",
            "104/104 [==============================] - 0s 4ms/step - loss: 0.5949 - accuracy: 0.6651 - val_loss: 0.5936 - val_accuracy: 0.6570\n",
            "Epoch 91/300\n",
            "104/104 [==============================] - 0s 5ms/step - loss: 0.5949 - accuracy: 0.6651 - val_loss: 0.5943 - val_accuracy: 0.6570\n",
            "Epoch 92/300\n",
            "104/104 [==============================] - 0s 4ms/step - loss: 0.5948 - accuracy: 0.6651 - val_loss: 0.5940 - val_accuracy: 0.6570\n",
            "Epoch 93/300\n",
            "104/104 [==============================] - 0s 4ms/step - loss: 0.5949 - accuracy: 0.6651 - val_loss: 0.5944 - val_accuracy: 0.6570\n",
            "Epoch 94/300\n",
            "104/104 [==============================] - 0s 4ms/step - loss: 0.5951 - accuracy: 0.6651 - val_loss: 0.5942 - val_accuracy: 0.6570\n",
            "Epoch 95/300\n",
            "104/104 [==============================] - 0s 5ms/step - loss: 0.5950 - accuracy: 0.6651 - val_loss: 0.5935 - val_accuracy: 0.6570\n",
            "Epoch 96/300\n",
            "104/104 [==============================] - 0s 4ms/step - loss: 0.5949 - accuracy: 0.6651 - val_loss: 0.5936 - val_accuracy: 0.6570\n",
            "Epoch 97/300\n",
            "104/104 [==============================] - 0s 4ms/step - loss: 0.5949 - accuracy: 0.6651 - val_loss: 0.5940 - val_accuracy: 0.6570\n",
            "Epoch 98/300\n",
            "104/104 [==============================] - 0s 5ms/step - loss: 0.5949 - accuracy: 0.6651 - val_loss: 0.5935 - val_accuracy: 0.6570\n",
            "Epoch 99/300\n",
            "104/104 [==============================] - 0s 5ms/step - loss: 0.5949 - accuracy: 0.6651 - val_loss: 0.5952 - val_accuracy: 0.6570\n",
            "Epoch 100/300\n",
            "104/104 [==============================] - 0s 4ms/step - loss: 0.5949 - accuracy: 0.6651 - val_loss: 0.5939 - val_accuracy: 0.6570\n",
            "Epoch 101/300\n",
            "104/104 [==============================] - 0s 4ms/step - loss: 0.5950 - accuracy: 0.6651 - val_loss: 0.5938 - val_accuracy: 0.6570\n",
            "Epoch 102/300\n",
            "104/104 [==============================] - 0s 4ms/step - loss: 0.5949 - accuracy: 0.6651 - val_loss: 0.5935 - val_accuracy: 0.6570\n",
            "Epoch 103/300\n",
            "104/104 [==============================] - 0s 4ms/step - loss: 0.5950 - accuracy: 0.6651 - val_loss: 0.5940 - val_accuracy: 0.6570\n",
            "Epoch 104/300\n",
            "104/104 [==============================] - 0s 4ms/step - loss: 0.5951 - accuracy: 0.6632 - val_loss: 0.5948 - val_accuracy: 0.6570\n",
            "Epoch 105/300\n",
            "104/104 [==============================] - 0s 4ms/step - loss: 0.5951 - accuracy: 0.6651 - val_loss: 0.5938 - val_accuracy: 0.6570\n",
            "Epoch 106/300\n",
            "104/104 [==============================] - 0s 5ms/step - loss: 0.5949 - accuracy: 0.6651 - val_loss: 0.5935 - val_accuracy: 0.6570\n",
            "Epoch 107/300\n",
            "104/104 [==============================] - 1s 6ms/step - loss: 0.5950 - accuracy: 0.6651 - val_loss: 0.5946 - val_accuracy: 0.6570\n",
            "Epoch 108/300\n",
            "104/104 [==============================] - 1s 7ms/step - loss: 0.5949 - accuracy: 0.6651 - val_loss: 0.5950 - val_accuracy: 0.6570\n",
            "Epoch 109/300\n",
            "104/104 [==============================] - 1s 7ms/step - loss: 0.5950 - accuracy: 0.6651 - val_loss: 0.5941 - val_accuracy: 0.6570\n",
            "Epoch 110/300\n",
            "104/104 [==============================] - 1s 7ms/step - loss: 0.5949 - accuracy: 0.6651 - val_loss: 0.5938 - val_accuracy: 0.6570\n",
            "Epoch 111/300\n",
            "104/104 [==============================] - 1s 6ms/step - loss: 0.5951 - accuracy: 0.6651 - val_loss: 0.5936 - val_accuracy: 0.6570\n",
            "Epoch 112/300\n",
            "104/104 [==============================] - 1s 7ms/step - loss: 0.5949 - accuracy: 0.6651 - val_loss: 0.5940 - val_accuracy: 0.6570\n",
            "Epoch 113/300\n",
            "104/104 [==============================] - 1s 6ms/step - loss: 0.5949 - accuracy: 0.6649 - val_loss: 0.5937 - val_accuracy: 0.6570\n",
            "Epoch 114/300\n",
            "104/104 [==============================] - 1s 6ms/step - loss: 0.5949 - accuracy: 0.6651 - val_loss: 0.5936 - val_accuracy: 0.6570\n",
            "Epoch 115/300\n",
            "104/104 [==============================] - 1s 7ms/step - loss: 0.5950 - accuracy: 0.6651 - val_loss: 0.5945 - val_accuracy: 0.6570\n",
            "Epoch 116/300\n",
            "104/104 [==============================] - 1s 7ms/step - loss: 0.5950 - accuracy: 0.6651 - val_loss: 0.5937 - val_accuracy: 0.6570\n",
            "Epoch 117/300\n",
            "104/104 [==============================] - 1s 7ms/step - loss: 0.5949 - accuracy: 0.6651 - val_loss: 0.5936 - val_accuracy: 0.6570\n",
            "Epoch 118/300\n",
            "104/104 [==============================] - 1s 7ms/step - loss: 0.5951 - accuracy: 0.6651 - val_loss: 0.5943 - val_accuracy: 0.6570\n",
            "Epoch 119/300\n",
            "104/104 [==============================] - 0s 4ms/step - loss: 0.5948 - accuracy: 0.6651 - val_loss: 0.5939 - val_accuracy: 0.6570\n",
            "Epoch 120/300\n",
            "104/104 [==============================] - 0s 4ms/step - loss: 0.5950 - accuracy: 0.6651 - val_loss: 0.5936 - val_accuracy: 0.6570\n",
            "Epoch 121/300\n",
            "104/104 [==============================] - 0s 4ms/step - loss: 0.5949 - accuracy: 0.6651 - val_loss: 0.5941 - val_accuracy: 0.6570\n",
            "Epoch 122/300\n",
            "104/104 [==============================] - 0s 5ms/step - loss: 0.5949 - accuracy: 0.6651 - val_loss: 0.5938 - val_accuracy: 0.6570\n",
            "Epoch 123/300\n",
            "104/104 [==============================] - 0s 5ms/step - loss: 0.5948 - accuracy: 0.6651 - val_loss: 0.5938 - val_accuracy: 0.6570\n",
            "Epoch 124/300\n",
            "104/104 [==============================] - 0s 4ms/step - loss: 0.5951 - accuracy: 0.6651 - val_loss: 0.5944 - val_accuracy: 0.6570\n",
            "Epoch 125/300\n",
            "104/104 [==============================] - 0s 5ms/step - loss: 0.5948 - accuracy: 0.6651 - val_loss: 0.5948 - val_accuracy: 0.6570\n",
            "Epoch 126/300\n",
            "104/104 [==============================] - 0s 5ms/step - loss: 0.5951 - accuracy: 0.6651 - val_loss: 0.5937 - val_accuracy: 0.6570\n",
            "Epoch 127/300\n",
            "104/104 [==============================] - 0s 5ms/step - loss: 0.5949 - accuracy: 0.6651 - val_loss: 0.5936 - val_accuracy: 0.6570\n",
            "Epoch 128/300\n",
            "104/104 [==============================] - 0s 4ms/step - loss: 0.5949 - accuracy: 0.6651 - val_loss: 0.5938 - val_accuracy: 0.6570\n",
            "Epoch 129/300\n",
            "104/104 [==============================] - 0s 5ms/step - loss: 0.5949 - accuracy: 0.6651 - val_loss: 0.5942 - val_accuracy: 0.6570\n",
            "Epoch 130/300\n",
            "104/104 [==============================] - 0s 4ms/step - loss: 0.5949 - accuracy: 0.6651 - val_loss: 0.5940 - val_accuracy: 0.6570\n",
            "Epoch 131/300\n",
            "104/104 [==============================] - 0s 4ms/step - loss: 0.5950 - accuracy: 0.6651 - val_loss: 0.5937 - val_accuracy: 0.6570\n",
            "Epoch 132/300\n",
            "104/104 [==============================] - 1s 6ms/step - loss: 0.5949 - accuracy: 0.6651 - val_loss: 0.5942 - val_accuracy: 0.6570\n",
            "Epoch 133/300\n",
            "104/104 [==============================] - 1s 6ms/step - loss: 0.5951 - accuracy: 0.6651 - val_loss: 0.5937 - val_accuracy: 0.6570\n",
            "Epoch 134/300\n",
            "104/104 [==============================] - 1s 7ms/step - loss: 0.5949 - accuracy: 0.6651 - val_loss: 0.5936 - val_accuracy: 0.6570\n",
            "Epoch 135/300\n",
            "104/104 [==============================] - 1s 6ms/step - loss: 0.5949 - accuracy: 0.6651 - val_loss: 0.5941 - val_accuracy: 0.6570\n",
            "Epoch 136/300\n",
            "104/104 [==============================] - 1s 7ms/step - loss: 0.5949 - accuracy: 0.6651 - val_loss: 0.5938 - val_accuracy: 0.6570\n",
            "Epoch 137/300\n",
            "104/104 [==============================] - 1s 7ms/step - loss: 0.5950 - accuracy: 0.6651 - val_loss: 0.5936 - val_accuracy: 0.6570\n",
            "Epoch 138/300\n",
            "104/104 [==============================] - 0s 5ms/step - loss: 0.5949 - accuracy: 0.6651 - val_loss: 0.5935 - val_accuracy: 0.6570\n",
            "Epoch 139/300\n",
            "104/104 [==============================] - 0s 4ms/step - loss: 0.5950 - accuracy: 0.6634 - val_loss: 0.5939 - val_accuracy: 0.6570\n",
            "Epoch 140/300\n",
            "104/104 [==============================] - 0s 4ms/step - loss: 0.5949 - accuracy: 0.6651 - val_loss: 0.5935 - val_accuracy: 0.6570\n",
            "Epoch 141/300\n",
            "104/104 [==============================] - 0s 4ms/step - loss: 0.5950 - accuracy: 0.6651 - val_loss: 0.5936 - val_accuracy: 0.6570\n",
            "Epoch 142/300\n",
            "104/104 [==============================] - 0s 4ms/step - loss: 0.5949 - accuracy: 0.6651 - val_loss: 0.5937 - val_accuracy: 0.6570\n",
            "Epoch 143/300\n",
            "104/104 [==============================] - 0s 4ms/step - loss: 0.5950 - accuracy: 0.6651 - val_loss: 0.5935 - val_accuracy: 0.6570\n",
            "Epoch 144/300\n",
            "104/104 [==============================] - 0s 5ms/step - loss: 0.5949 - accuracy: 0.6651 - val_loss: 0.5935 - val_accuracy: 0.6570\n",
            "Epoch 145/300\n",
            "104/104 [==============================] - 0s 4ms/step - loss: 0.5950 - accuracy: 0.6651 - val_loss: 0.5939 - val_accuracy: 0.6570\n",
            "Epoch 146/300\n",
            "104/104 [==============================] - 0s 5ms/step - loss: 0.5949 - accuracy: 0.6651 - val_loss: 0.5936 - val_accuracy: 0.6570\n",
            "Epoch 147/300\n",
            "104/104 [==============================] - 0s 4ms/step - loss: 0.5949 - accuracy: 0.6651 - val_loss: 0.5945 - val_accuracy: 0.6570\n",
            "Epoch 148/300\n",
            "104/104 [==============================] - 0s 4ms/step - loss: 0.5950 - accuracy: 0.6651 - val_loss: 0.5936 - val_accuracy: 0.6570\n",
            "Epoch 149/300\n",
            "104/104 [==============================] - 0s 4ms/step - loss: 0.5949 - accuracy: 0.6634 - val_loss: 0.5943 - val_accuracy: 0.6570\n",
            "Epoch 150/300\n",
            "104/104 [==============================] - 0s 4ms/step - loss: 0.5949 - accuracy: 0.6651 - val_loss: 0.5938 - val_accuracy: 0.6570\n",
            "Epoch 151/300\n",
            "104/104 [==============================] - 0s 5ms/step - loss: 0.5949 - accuracy: 0.6651 - val_loss: 0.5936 - val_accuracy: 0.6570\n",
            "Epoch 152/300\n",
            "104/104 [==============================] - 0s 4ms/step - loss: 0.5948 - accuracy: 0.6651 - val_loss: 0.5938 - val_accuracy: 0.6570\n",
            "Epoch 153/300\n",
            "104/104 [==============================] - 0s 4ms/step - loss: 0.5950 - accuracy: 0.6651 - val_loss: 0.5937 - val_accuracy: 0.6570\n",
            "Epoch 154/300\n",
            "104/104 [==============================] - 0s 4ms/step - loss: 0.5949 - accuracy: 0.6651 - val_loss: 0.5939 - val_accuracy: 0.6497\n",
            "Epoch 155/300\n",
            "104/104 [==============================] - 0s 5ms/step - loss: 0.5951 - accuracy: 0.6624 - val_loss: 0.5936 - val_accuracy: 0.6570\n",
            "Epoch 156/300\n",
            "104/104 [==============================] - 1s 5ms/step - loss: 0.5951 - accuracy: 0.6651 - val_loss: 0.5936 - val_accuracy: 0.6570\n",
            "Epoch 157/300\n",
            "104/104 [==============================] - 0s 4ms/step - loss: 0.5949 - accuracy: 0.6651 - val_loss: 0.5938 - val_accuracy: 0.6570\n",
            "Epoch 158/300\n",
            "104/104 [==============================] - 0s 4ms/step - loss: 0.5949 - accuracy: 0.6651 - val_loss: 0.5939 - val_accuracy: 0.6570\n",
            "Epoch 159/300\n",
            "104/104 [==============================] - 1s 7ms/step - loss: 0.5950 - accuracy: 0.6651 - val_loss: 0.5936 - val_accuracy: 0.6570\n",
            "Epoch 160/300\n",
            "104/104 [==============================] - 1s 7ms/step - loss: 0.5950 - accuracy: 0.6651 - val_loss: 0.5937 - val_accuracy: 0.6570\n",
            "Epoch 161/300\n",
            "104/104 [==============================] - 1s 6ms/step - loss: 0.5949 - accuracy: 0.6651 - val_loss: 0.5938 - val_accuracy: 0.6570\n",
            "Epoch 162/300\n",
            "104/104 [==============================] - 1s 7ms/step - loss: 0.5949 - accuracy: 0.6651 - val_loss: 0.5935 - val_accuracy: 0.6570\n",
            "Epoch 163/300\n",
            "104/104 [==============================] - 1s 6ms/step - loss: 0.5949 - accuracy: 0.6651 - val_loss: 0.5937 - val_accuracy: 0.6570\n",
            "Epoch 164/300\n",
            "104/104 [==============================] - 1s 6ms/step - loss: 0.5949 - accuracy: 0.6651 - val_loss: 0.5937 - val_accuracy: 0.6570\n",
            "Epoch 165/300\n",
            "104/104 [==============================] - 1s 6ms/step - loss: 0.5950 - accuracy: 0.6651 - val_loss: 0.5950 - val_accuracy: 0.6570\n",
            "Epoch 166/300\n",
            "104/104 [==============================] - 0s 4ms/step - loss: 0.5949 - accuracy: 0.6651 - val_loss: 0.5938 - val_accuracy: 0.6570\n",
            "Epoch 167/300\n",
            "104/104 [==============================] - 0s 4ms/step - loss: 0.5949 - accuracy: 0.6651 - val_loss: 0.5938 - val_accuracy: 0.6570\n",
            "Epoch 168/300\n",
            "104/104 [==============================] - 0s 5ms/step - loss: 0.5950 - accuracy: 0.6651 - val_loss: 0.5940 - val_accuracy: 0.6570\n",
            "Epoch 169/300\n",
            "104/104 [==============================] - 0s 4ms/step - loss: 0.5949 - accuracy: 0.6651 - val_loss: 0.5940 - val_accuracy: 0.6570\n",
            "Epoch 170/300\n",
            "104/104 [==============================] - 0s 5ms/step - loss: 0.5950 - accuracy: 0.6651 - val_loss: 0.5939 - val_accuracy: 0.6570\n",
            "Epoch 171/300\n",
            "104/104 [==============================] - 0s 4ms/step - loss: 0.5949 - accuracy: 0.6651 - val_loss: 0.5936 - val_accuracy: 0.6570\n",
            "Epoch 172/300\n",
            "104/104 [==============================] - 1s 5ms/step - loss: 0.5951 - accuracy: 0.6651 - val_loss: 0.5936 - val_accuracy: 0.6570\n",
            "Epoch 173/300\n",
            "104/104 [==============================] - 0s 4ms/step - loss: 0.5949 - accuracy: 0.6651 - val_loss: 0.5936 - val_accuracy: 0.6570\n",
            "Epoch 174/300\n",
            "104/104 [==============================] - 0s 4ms/step - loss: 0.5949 - accuracy: 0.6651 - val_loss: 0.5935 - val_accuracy: 0.6570\n",
            "Epoch 175/300\n",
            "104/104 [==============================] - 0s 5ms/step - loss: 0.5949 - accuracy: 0.6651 - val_loss: 0.5939 - val_accuracy: 0.6570\n",
            "Epoch 176/300\n",
            "104/104 [==============================] - 0s 5ms/step - loss: 0.5949 - accuracy: 0.6651 - val_loss: 0.5937 - val_accuracy: 0.6570\n",
            "Epoch 177/300\n",
            "104/104 [==============================] - 0s 4ms/step - loss: 0.5949 - accuracy: 0.6651 - val_loss: 0.5938 - val_accuracy: 0.6570\n",
            "Epoch 178/300\n",
            "104/104 [==============================] - 0s 5ms/step - loss: 0.5948 - accuracy: 0.6651 - val_loss: 0.5936 - val_accuracy: 0.6570\n",
            "Epoch 179/300\n",
            "104/104 [==============================] - 0s 5ms/step - loss: 0.5949 - accuracy: 0.6651 - val_loss: 0.5939 - val_accuracy: 0.6570\n",
            "Epoch 180/300\n",
            "104/104 [==============================] - 0s 4ms/step - loss: 0.5949 - accuracy: 0.6651 - val_loss: 0.5937 - val_accuracy: 0.6570\n",
            "Epoch 181/300\n",
            "104/104 [==============================] - 1s 5ms/step - loss: 0.5949 - accuracy: 0.6651 - val_loss: 0.5938 - val_accuracy: 0.6570\n",
            "Epoch 182/300\n",
            "104/104 [==============================] - 0s 4ms/step - loss: 0.5950 - accuracy: 0.6651 - val_loss: 0.5935 - val_accuracy: 0.6570\n",
            "Epoch 183/300\n",
            "104/104 [==============================] - 0s 4ms/step - loss: 0.5953 - accuracy: 0.6623 - val_loss: 0.5936 - val_accuracy: 0.6570\n",
            "Epoch 184/300\n",
            "104/104 [==============================] - 0s 4ms/step - loss: 0.5948 - accuracy: 0.6651 - val_loss: 0.5938 - val_accuracy: 0.6570\n",
            "Epoch 185/300\n",
            "104/104 [==============================] - 0s 4ms/step - loss: 0.5950 - accuracy: 0.6651 - val_loss: 0.5937 - val_accuracy: 0.6570\n",
            "Epoch 186/300\n",
            "104/104 [==============================] - 1s 6ms/step - loss: 0.5950 - accuracy: 0.6651 - val_loss: 0.5942 - val_accuracy: 0.6570\n",
            "Epoch 187/300\n",
            "104/104 [==============================] - 1s 6ms/step - loss: 0.5949 - accuracy: 0.6651 - val_loss: 0.5937 - val_accuracy: 0.6570\n",
            "Epoch 188/300\n",
            "104/104 [==============================] - 1s 6ms/step - loss: 0.5948 - accuracy: 0.6651 - val_loss: 0.5938 - val_accuracy: 0.6570\n",
            "Epoch 189/300\n",
            "104/104 [==============================] - 1s 7ms/step - loss: 0.5949 - accuracy: 0.6651 - val_loss: 0.5938 - val_accuracy: 0.6570\n",
            "Epoch 190/300\n",
            "104/104 [==============================] - 1s 7ms/step - loss: 0.5951 - accuracy: 0.6651 - val_loss: 0.5941 - val_accuracy: 0.6570\n",
            "Epoch 191/300\n",
            "104/104 [==============================] - 1s 7ms/step - loss: 0.5948 - accuracy: 0.6651 - val_loss: 0.5942 - val_accuracy: 0.6570\n",
            "Epoch 192/300\n",
            "104/104 [==============================] - 1s 5ms/step - loss: 0.5949 - accuracy: 0.6651 - val_loss: 0.5935 - val_accuracy: 0.6570\n",
            "Epoch 193/300\n",
            "104/104 [==============================] - 0s 4ms/step - loss: 0.5949 - accuracy: 0.6651 - val_loss: 0.5935 - val_accuracy: 0.6570\n",
            "Epoch 194/300\n",
            "104/104 [==============================] - 0s 4ms/step - loss: 0.5950 - accuracy: 0.6651 - val_loss: 0.5937 - val_accuracy: 0.6570\n",
            "Epoch 195/300\n",
            "104/104 [==============================] - 0s 4ms/step - loss: 0.5949 - accuracy: 0.6651 - val_loss: 0.5937 - val_accuracy: 0.6570\n",
            "Epoch 196/300\n",
            "104/104 [==============================] - 0s 5ms/step - loss: 0.5950 - accuracy: 0.6651 - val_loss: 0.5939 - val_accuracy: 0.6570\n",
            "Epoch 197/300\n",
            "104/104 [==============================] - 0s 4ms/step - loss: 0.5948 - accuracy: 0.6651 - val_loss: 0.5942 - val_accuracy: 0.6570\n",
            "Epoch 198/300\n",
            "104/104 [==============================] - 0s 5ms/step - loss: 0.5949 - accuracy: 0.6651 - val_loss: 0.5937 - val_accuracy: 0.6570\n",
            "Epoch 199/300\n",
            "104/104 [==============================] - 0s 4ms/step - loss: 0.5949 - accuracy: 0.6651 - val_loss: 0.5938 - val_accuracy: 0.6570\n",
            "Epoch 200/300\n",
            "104/104 [==============================] - 0s 5ms/step - loss: 0.5950 - accuracy: 0.6651 - val_loss: 0.5938 - val_accuracy: 0.6570\n",
            "Epoch 201/300\n",
            "104/104 [==============================] - 0s 5ms/step - loss: 0.5949 - accuracy: 0.6651 - val_loss: 0.5936 - val_accuracy: 0.6570\n",
            "Epoch 202/300\n",
            "104/104 [==============================] - 0s 4ms/step - loss: 0.5949 - accuracy: 0.6651 - val_loss: 0.5941 - val_accuracy: 0.6570\n",
            "Epoch 203/300\n",
            "104/104 [==============================] - 0s 4ms/step - loss: 0.5950 - accuracy: 0.6651 - val_loss: 0.5941 - val_accuracy: 0.6570\n",
            "Epoch 204/300\n",
            "104/104 [==============================] - 0s 4ms/step - loss: 0.5950 - accuracy: 0.6651 - val_loss: 0.5938 - val_accuracy: 0.6570\n",
            "Epoch 205/300\n",
            "104/104 [==============================] - 0s 4ms/step - loss: 0.5948 - accuracy: 0.6651 - val_loss: 0.5940 - val_accuracy: 0.6570\n",
            "Epoch 206/300\n",
            "104/104 [==============================] - 0s 5ms/step - loss: 0.5950 - accuracy: 0.6651 - val_loss: 0.5936 - val_accuracy: 0.6570\n",
            "Epoch 207/300\n",
            "104/104 [==============================] - 0s 4ms/step - loss: 0.5950 - accuracy: 0.6651 - val_loss: 0.5936 - val_accuracy: 0.6570\n",
            "Epoch 208/300\n",
            "104/104 [==============================] - 0s 4ms/step - loss: 0.5949 - accuracy: 0.6651 - val_loss: 0.5935 - val_accuracy: 0.6570\n",
            "Epoch 209/300\n",
            "104/104 [==============================] - 0s 4ms/step - loss: 0.5950 - accuracy: 0.6651 - val_loss: 0.5940 - val_accuracy: 0.6570\n",
            "Epoch 210/300\n",
            "104/104 [==============================] - 0s 4ms/step - loss: 0.5949 - accuracy: 0.6651 - val_loss: 0.5935 - val_accuracy: 0.6570\n",
            "Epoch 211/300\n",
            "104/104 [==============================] - 0s 5ms/step - loss: 0.5950 - accuracy: 0.6651 - val_loss: 0.5936 - val_accuracy: 0.6570\n",
            "Epoch 212/300\n",
            "104/104 [==============================] - 1s 5ms/step - loss: 0.5949 - accuracy: 0.6651 - val_loss: 0.5955 - val_accuracy: 0.6570\n",
            "Epoch 213/300\n",
            "104/104 [==============================] - 1s 7ms/step - loss: 0.5949 - accuracy: 0.6641 - val_loss: 0.5935 - val_accuracy: 0.6570\n",
            "Epoch 214/300\n",
            "104/104 [==============================] - 1s 6ms/step - loss: 0.5949 - accuracy: 0.6651 - val_loss: 0.5942 - val_accuracy: 0.6570\n",
            "Epoch 215/300\n",
            "104/104 [==============================] - 1s 6ms/step - loss: 0.5951 - accuracy: 0.6651 - val_loss: 0.5941 - val_accuracy: 0.6570\n",
            "Epoch 216/300\n",
            "104/104 [==============================] - 1s 7ms/step - loss: 0.5950 - accuracy: 0.6651 - val_loss: 0.5941 - val_accuracy: 0.6570\n",
            "Epoch 217/300\n",
            "104/104 [==============================] - 1s 6ms/step - loss: 0.5949 - accuracy: 0.6651 - val_loss: 0.5937 - val_accuracy: 0.6570\n",
            "Epoch 218/300\n",
            "104/104 [==============================] - 1s 7ms/step - loss: 0.5949 - accuracy: 0.6651 - val_loss: 0.5935 - val_accuracy: 0.6570\n",
            "Epoch 219/300\n",
            "104/104 [==============================] - 0s 5ms/step - loss: 0.5949 - accuracy: 0.6651 - val_loss: 0.5939 - val_accuracy: 0.6570\n",
            "Epoch 220/300\n",
            "104/104 [==============================] - 0s 4ms/step - loss: 0.5949 - accuracy: 0.6651 - val_loss: 0.5942 - val_accuracy: 0.6570\n",
            "Epoch 221/300\n",
            "104/104 [==============================] - 0s 4ms/step - loss: 0.5948 - accuracy: 0.6651 - val_loss: 0.5954 - val_accuracy: 0.6570\n",
            "Epoch 222/300\n",
            "104/104 [==============================] - 0s 4ms/step - loss: 0.5950 - accuracy: 0.6651 - val_loss: 0.5938 - val_accuracy: 0.6570\n",
            "Epoch 223/300\n",
            "104/104 [==============================] - 0s 4ms/step - loss: 0.5949 - accuracy: 0.6651 - val_loss: 0.5939 - val_accuracy: 0.6570\n",
            "Epoch 224/300\n",
            "104/104 [==============================] - 0s 4ms/step - loss: 0.5949 - accuracy: 0.6651 - val_loss: 0.5937 - val_accuracy: 0.6570\n",
            "Epoch 225/300\n",
            "104/104 [==============================] - 1s 5ms/step - loss: 0.5950 - accuracy: 0.6651 - val_loss: 0.5944 - val_accuracy: 0.6570\n",
            "Epoch 226/300\n",
            "104/104 [==============================] - 1s 5ms/step - loss: 0.5949 - accuracy: 0.6651 - val_loss: 0.5935 - val_accuracy: 0.6570\n",
            "Epoch 227/300\n",
            "104/104 [==============================] - 0s 5ms/step - loss: 0.5952 - accuracy: 0.6636 - val_loss: 0.5943 - val_accuracy: 0.6570\n",
            "Epoch 228/300\n",
            "104/104 [==============================] - 0s 5ms/step - loss: 0.5950 - accuracy: 0.6651 - val_loss: 0.5937 - val_accuracy: 0.6570\n",
            "Epoch 229/300\n",
            "104/104 [==============================] - 0s 5ms/step - loss: 0.5950 - accuracy: 0.6651 - val_loss: 0.5936 - val_accuracy: 0.6570\n",
            "Epoch 230/300\n",
            "104/104 [==============================] - 0s 4ms/step - loss: 0.5949 - accuracy: 0.6651 - val_loss: 0.5935 - val_accuracy: 0.6570\n",
            "Epoch 231/300\n",
            "104/104 [==============================] - 0s 4ms/step - loss: 0.5949 - accuracy: 0.6651 - val_loss: 0.5937 - val_accuracy: 0.6570\n",
            "Epoch 232/300\n",
            "104/104 [==============================] - 0s 5ms/step - loss: 0.5949 - accuracy: 0.6651 - val_loss: 0.5939 - val_accuracy: 0.6570\n",
            "Epoch 233/300\n",
            "104/104 [==============================] - 0s 5ms/step - loss: 0.5949 - accuracy: 0.6651 - val_loss: 0.5944 - val_accuracy: 0.6570\n",
            "Epoch 234/300\n",
            "104/104 [==============================] - 0s 5ms/step - loss: 0.5949 - accuracy: 0.6651 - val_loss: 0.5937 - val_accuracy: 0.6570\n",
            "Epoch 235/300\n",
            "104/104 [==============================] - 0s 5ms/step - loss: 0.5950 - accuracy: 0.6651 - val_loss: 0.5935 - val_accuracy: 0.6570\n",
            "Epoch 236/300\n",
            "104/104 [==============================] - 0s 5ms/step - loss: 0.5950 - accuracy: 0.6651 - val_loss: 0.5936 - val_accuracy: 0.6570\n",
            "Epoch 237/300\n",
            "104/104 [==============================] - 0s 5ms/step - loss: 0.5949 - accuracy: 0.6651 - val_loss: 0.5936 - val_accuracy: 0.6570\n",
            "Epoch 238/300\n",
            "104/104 [==============================] - 0s 4ms/step - loss: 0.5949 - accuracy: 0.6651 - val_loss: 0.5940 - val_accuracy: 0.6570\n",
            "Epoch 239/300\n",
            "104/104 [==============================] - 1s 5ms/step - loss: 0.5948 - accuracy: 0.6651 - val_loss: 0.5937 - val_accuracy: 0.6570\n",
            "Epoch 240/300\n",
            "104/104 [==============================] - 1s 7ms/step - loss: 0.5948 - accuracy: 0.6651 - val_loss: 0.5935 - val_accuracy: 0.6570\n",
            "Epoch 241/300\n",
            "104/104 [==============================] - 1s 6ms/step - loss: 0.5950 - accuracy: 0.6647 - val_loss: 0.5944 - val_accuracy: 0.6570\n",
            "Epoch 242/300\n",
            "104/104 [==============================] - 1s 7ms/step - loss: 0.5949 - accuracy: 0.6651 - val_loss: 0.5936 - val_accuracy: 0.6570\n",
            "Epoch 243/300\n",
            "104/104 [==============================] - 1s 6ms/step - loss: 0.5949 - accuracy: 0.6651 - val_loss: 0.5936 - val_accuracy: 0.6570\n",
            "Epoch 244/300\n",
            "104/104 [==============================] - 1s 7ms/step - loss: 0.5949 - accuracy: 0.6651 - val_loss: 0.5937 - val_accuracy: 0.6570\n",
            "Epoch 245/300\n",
            "104/104 [==============================] - 1s 6ms/step - loss: 0.5949 - accuracy: 0.6651 - val_loss: 0.5942 - val_accuracy: 0.6570\n",
            "Epoch 246/300\n",
            "104/104 [==============================] - 0s 5ms/step - loss: 0.5950 - accuracy: 0.6651 - val_loss: 0.5940 - val_accuracy: 0.6570\n",
            "Epoch 247/300\n",
            "104/104 [==============================] - 0s 5ms/step - loss: 0.5948 - accuracy: 0.6651 - val_loss: 0.5939 - val_accuracy: 0.6570\n",
            "Epoch 248/300\n",
            "104/104 [==============================] - 0s 5ms/step - loss: 0.5948 - accuracy: 0.6651 - val_loss: 0.5940 - val_accuracy: 0.6570\n",
            "Epoch 249/300\n",
            "104/104 [==============================] - 0s 4ms/step - loss: 0.5949 - accuracy: 0.6651 - val_loss: 0.5936 - val_accuracy: 0.6570\n",
            "Epoch 250/300\n",
            "104/104 [==============================] - 0s 5ms/step - loss: 0.5949 - accuracy: 0.6651 - val_loss: 0.5937 - val_accuracy: 0.6570\n",
            "Epoch 251/300\n",
            "104/104 [==============================] - 0s 5ms/step - loss: 0.5949 - accuracy: 0.6651 - val_loss: 0.5939 - val_accuracy: 0.6570\n",
            "Epoch 252/300\n",
            "104/104 [==============================] - 0s 4ms/step - loss: 0.5949 - accuracy: 0.6651 - val_loss: 0.5941 - val_accuracy: 0.6570\n",
            "Epoch 253/300\n",
            "104/104 [==============================] - 0s 5ms/step - loss: 0.5950 - accuracy: 0.6651 - val_loss: 0.5936 - val_accuracy: 0.6570\n",
            "Epoch 254/300\n",
            "104/104 [==============================] - 0s 4ms/step - loss: 0.5950 - accuracy: 0.6651 - val_loss: 0.5935 - val_accuracy: 0.6570\n",
            "Epoch 255/300\n",
            "104/104 [==============================] - 0s 4ms/step - loss: 0.5949 - accuracy: 0.6651 - val_loss: 0.5936 - val_accuracy: 0.6570\n",
            "Epoch 256/300\n",
            "104/104 [==============================] - 0s 4ms/step - loss: 0.5950 - accuracy: 0.6651 - val_loss: 0.5948 - val_accuracy: 0.6570\n",
            "Epoch 257/300\n",
            "104/104 [==============================] - 0s 4ms/step - loss: 0.5948 - accuracy: 0.6651 - val_loss: 0.5948 - val_accuracy: 0.6570\n",
            "Epoch 258/300\n",
            "104/104 [==============================] - 0s 5ms/step - loss: 0.5949 - accuracy: 0.6651 - val_loss: 0.5935 - val_accuracy: 0.6570\n",
            "Epoch 259/300\n",
            "104/104 [==============================] - 0s 5ms/step - loss: 0.5949 - accuracy: 0.6651 - val_loss: 0.5937 - val_accuracy: 0.6570\n",
            "Epoch 260/300\n",
            "104/104 [==============================] - 0s 4ms/step - loss: 0.5949 - accuracy: 0.6651 - val_loss: 0.5942 - val_accuracy: 0.6570\n",
            "Epoch 261/300\n",
            "104/104 [==============================] - 0s 5ms/step - loss: 0.5949 - accuracy: 0.6651 - val_loss: 0.5939 - val_accuracy: 0.6570\n",
            "Epoch 262/300\n",
            "104/104 [==============================] - 0s 4ms/step - loss: 0.5950 - accuracy: 0.6651 - val_loss: 0.5939 - val_accuracy: 0.6570\n",
            "Epoch 263/300\n",
            "104/104 [==============================] - 0s 5ms/step - loss: 0.5949 - accuracy: 0.6651 - val_loss: 0.5936 - val_accuracy: 0.6570\n",
            "Epoch 264/300\n",
            "104/104 [==============================] - 0s 5ms/step - loss: 0.5949 - accuracy: 0.6651 - val_loss: 0.5936 - val_accuracy: 0.6570\n",
            "Epoch 265/300\n",
            "104/104 [==============================] - 0s 4ms/step - loss: 0.5949 - accuracy: 0.6651 - val_loss: 0.5937 - val_accuracy: 0.6570\n",
            "Epoch 266/300\n",
            "104/104 [==============================] - 1s 6ms/step - loss: 0.5949 - accuracy: 0.6651 - val_loss: 0.5938 - val_accuracy: 0.6570\n",
            "Epoch 267/300\n",
            "104/104 [==============================] - 1s 7ms/step - loss: 0.5949 - accuracy: 0.6651 - val_loss: 0.5940 - val_accuracy: 0.6570\n",
            "Epoch 268/300\n",
            "104/104 [==============================] - 1s 7ms/step - loss: 0.5949 - accuracy: 0.6651 - val_loss: 0.5937 - val_accuracy: 0.6570\n",
            "Epoch 269/300\n",
            "104/104 [==============================] - 1s 7ms/step - loss: 0.5950 - accuracy: 0.6651 - val_loss: 0.5941 - val_accuracy: 0.6570\n",
            "Epoch 270/300\n",
            "104/104 [==============================] - 1s 7ms/step - loss: 0.5950 - accuracy: 0.6651 - val_loss: 0.5936 - val_accuracy: 0.6570\n",
            "Epoch 271/300\n",
            "104/104 [==============================] - 1s 6ms/step - loss: 0.5950 - accuracy: 0.6651 - val_loss: 0.5938 - val_accuracy: 0.6570\n",
            "Epoch 272/300\n",
            "104/104 [==============================] - 1s 5ms/step - loss: 0.5949 - accuracy: 0.6651 - val_loss: 0.5939 - val_accuracy: 0.6570\n",
            "Epoch 273/300\n",
            "104/104 [==============================] - 0s 5ms/step - loss: 0.5950 - accuracy: 0.6651 - val_loss: 0.5944 - val_accuracy: 0.6570\n",
            "Epoch 274/300\n",
            "104/104 [==============================] - 0s 4ms/step - loss: 0.5949 - accuracy: 0.6651 - val_loss: 0.5939 - val_accuracy: 0.6570\n",
            "Epoch 275/300\n",
            "104/104 [==============================] - 0s 4ms/step - loss: 0.5949 - accuracy: 0.6651 - val_loss: 0.5954 - val_accuracy: 0.6570\n",
            "Epoch 276/300\n",
            "104/104 [==============================] - 0s 4ms/step - loss: 0.5949 - accuracy: 0.6651 - val_loss: 0.5935 - val_accuracy: 0.6570\n",
            "Epoch 277/300\n",
            "104/104 [==============================] - 0s 5ms/step - loss: 0.5948 - accuracy: 0.6651 - val_loss: 0.5940 - val_accuracy: 0.6570\n",
            "Epoch 278/300\n",
            "104/104 [==============================] - 0s 5ms/step - loss: 0.5949 - accuracy: 0.6651 - val_loss: 0.5937 - val_accuracy: 0.6570\n",
            "Epoch 279/300\n",
            "104/104 [==============================] - 0s 5ms/step - loss: 0.5949 - accuracy: 0.6651 - val_loss: 0.5936 - val_accuracy: 0.6570\n",
            "Epoch 280/300\n",
            "104/104 [==============================] - 0s 4ms/step - loss: 0.5949 - accuracy: 0.6651 - val_loss: 0.5943 - val_accuracy: 0.6570\n",
            "Epoch 281/300\n",
            "104/104 [==============================] - 0s 5ms/step - loss: 0.5950 - accuracy: 0.6651 - val_loss: 0.5943 - val_accuracy: 0.6570\n",
            "Epoch 282/300\n",
            "104/104 [==============================] - 0s 4ms/step - loss: 0.5949 - accuracy: 0.6651 - val_loss: 0.5937 - val_accuracy: 0.6570\n",
            "Epoch 283/300\n",
            "104/104 [==============================] - 0s 5ms/step - loss: 0.5949 - accuracy: 0.6651 - val_loss: 0.5936 - val_accuracy: 0.6570\n",
            "Epoch 284/300\n",
            "104/104 [==============================] - 0s 4ms/step - loss: 0.5949 - accuracy: 0.6651 - val_loss: 0.5936 - val_accuracy: 0.6570\n",
            "Epoch 285/300\n",
            "104/104 [==============================] - 0s 5ms/step - loss: 0.5951 - accuracy: 0.6630 - val_loss: 0.5936 - val_accuracy: 0.6570\n",
            "Epoch 286/300\n",
            "104/104 [==============================] - 0s 4ms/step - loss: 0.5949 - accuracy: 0.6651 - val_loss: 0.5936 - val_accuracy: 0.6570\n",
            "Epoch 287/300\n",
            "104/104 [==============================] - 0s 5ms/step - loss: 0.5949 - accuracy: 0.6651 - val_loss: 0.5940 - val_accuracy: 0.6570\n",
            "Epoch 288/300\n",
            "104/104 [==============================] - 0s 4ms/step - loss: 0.5950 - accuracy: 0.6651 - val_loss: 0.5942 - val_accuracy: 0.6570\n",
            "Epoch 289/300\n",
            "104/104 [==============================] - 0s 4ms/step - loss: 0.5949 - accuracy: 0.6651 - val_loss: 0.5937 - val_accuracy: 0.6570\n",
            "Epoch 290/300\n",
            "104/104 [==============================] - 0s 5ms/step - loss: 0.5949 - accuracy: 0.6651 - val_loss: 0.5939 - val_accuracy: 0.6570\n",
            "Epoch 291/300\n",
            "104/104 [==============================] - 1s 5ms/step - loss: 0.5949 - accuracy: 0.6651 - val_loss: 0.5943 - val_accuracy: 0.6570\n",
            "Epoch 292/300\n",
            "104/104 [==============================] - 0s 5ms/step - loss: 0.5950 - accuracy: 0.6651 - val_loss: 0.5936 - val_accuracy: 0.6570\n",
            "Epoch 293/300\n",
            "104/104 [==============================] - 1s 7ms/step - loss: 0.5949 - accuracy: 0.6651 - val_loss: 0.5935 - val_accuracy: 0.6570\n",
            "Epoch 294/300\n",
            "104/104 [==============================] - 1s 7ms/step - loss: 0.5950 - accuracy: 0.6651 - val_loss: 0.5938 - val_accuracy: 0.6570\n",
            "Epoch 295/300\n",
            "104/104 [==============================] - 1s 7ms/step - loss: 0.5949 - accuracy: 0.6651 - val_loss: 0.5952 - val_accuracy: 0.6570\n",
            "Epoch 296/300\n",
            "104/104 [==============================] - 1s 6ms/step - loss: 0.5950 - accuracy: 0.6651 - val_loss: 0.5935 - val_accuracy: 0.6570\n",
            "Epoch 297/300\n",
            "104/104 [==============================] - 1s 6ms/step - loss: 0.5950 - accuracy: 0.6651 - val_loss: 0.5935 - val_accuracy: 0.6570\n",
            "Epoch 298/300\n",
            "104/104 [==============================] - 1s 7ms/step - loss: 0.5951 - accuracy: 0.6651 - val_loss: 0.5939 - val_accuracy: 0.6570\n",
            "Epoch 299/300\n",
            "104/104 [==============================] - 0s 5ms/step - loss: 0.5949 - accuracy: 0.6651 - val_loss: 0.5936 - val_accuracy: 0.6570\n",
            "Epoch 300/300\n",
            "104/104 [==============================] - 1s 5ms/step - loss: 0.5949 - accuracy: 0.6651 - val_loss: 0.5938 - val_accuracy: 0.6570\n"
          ]
        }
      ],
      "source": [
        "if model_selection[model_flag]==\"ALL\" or model_selection[model_flag] == \"AE\":\n",
        "  # training the model on training dataset\n",
        "  his = ae_classifier.fit(predictions, y_test, epochs=300,batch_size=500, validation_split=0.2).history"
      ]
    },
    {
      "cell_type": "code",
      "execution_count": 96,
      "metadata": {
        "id": "yeNS7pLUNYBz",
        "colab": {
          "base_uri": "https://localhost:8080/"
        },
        "outputId": "14134f59-cacc-4f41-9250-4e4272d58d2c"
      },
      "outputs": [
        {
          "output_type": "stream",
          "name": "stdout",
          "text": [
            "Saved model to disk\n",
            "Loaded model from disk\n"
          ]
        }
      ],
      "source": [
        "if model_selection[model_flag]==\"ALL\" or model_selection[model_flag] == \"AE\":\n",
        "  filepath = '/content/drive/MyDrive/Colab_Notebooks/Models/ae_classifier_binary_unsw_nb15.json'\n",
        "  weightspath = '/content/drive/MyDrive/Colab_Notebooks/Weights/ae_classifier_binary_unsw_nb15.h5'\n",
        "  if (not path.isfile(filepath)): \n",
        "    # serialize model to JSON\n",
        "    ae_classifier_json = ae_classifier.to_json()\n",
        "    with open(filepath, \"w\") as json_file:\n",
        "      json_file.write(ae_classifier_json)\n",
        "\n",
        "    # serialize weights to HDF5\n",
        "    ae_classifier.save_weights(weightspath)\n",
        "    print(\"Saved model to disk\")\n",
        "\n",
        "    # load json and create model\n",
        "    json_file = open(filepath, 'r')\n",
        "    loaded_model_json = json_file.read()\n",
        "    json_file.close()\n",
        "    ae_classifier = model_from_json(loaded_model_json)\n",
        "\n",
        "    # load weights into new model\n",
        "    ae_classifier.load_weights(weightspath)\n",
        "    print(\"Loaded model from disk\")"
      ]
    },
    {
      "cell_type": "code",
      "execution_count": 97,
      "metadata": {
        "id": "AG42bV79NYFB"
      },
      "outputs": [],
      "source": [
        "if model_selection[model_flag]==\"ALL\" or model_selection[model_flag] == \"AE\":\n",
        "  ae_classifier.compile(optimizer='adam', loss='binary_crossentropy',metrics=['accuracy'])"
      ]
    },
    {
      "cell_type": "code",
      "execution_count": 98,
      "metadata": {
        "id": "13aKBGJcNYHv",
        "colab": {
          "base_uri": "https://localhost:8080/"
        },
        "outputId": "3ac48c35-8714-4caa-8fbe-f3bb54698b0c"
      },
      "outputs": [
        {
          "output_type": "stream",
          "name": "stdout",
          "text": [
            "2014/2014 [==============================] - 6s 3ms/step - loss: 0.6537 - accuracy: 0.6118\n",
            "Test results - Loss: 0.6536728739738464 - Accuracy: 61.177605390548706%\n"
          ]
        }
      ],
      "source": [
        "if model_selection[model_flag]==\"ALL\" or model_selection[model_flag] == \"AE\":\n",
        "  # predicting target attribute on testing dataset\n",
        "  test_results = ae_classifier.evaluate(X_test, y_test, verbose=1)\n",
        "  print(f'Test results - Loss: {test_results[0]} - Accuracy: {test_results[1]*100}%')"
      ]
    },
    {
      "cell_type": "code",
      "execution_count": 99,
      "metadata": {
        "id": "zCWbOaSyN1dH"
      },
      "outputs": [],
      "source": [
        "if model_selection[model_flag]==\"ALL\" or model_selection[model_flag] == \"AE\":\n",
        "  # representation of model layers\n",
        "  plot_model(ae_classifier, to_file='/content/drive/MyDrive/Colab_Notebooks/Plots/ae_classifier_binary.png', show_shapes=True)"
      ]
    },
    {
      "cell_type": "code",
      "execution_count": 100,
      "metadata": {
        "id": "44VaFGgVOBpU",
        "colab": {
          "base_uri": "https://localhost:8080/",
          "height": 472
        },
        "outputId": "56a7c606-52af-4faf-b6b4-fe2a5abe1873"
      },
      "outputs": [
        {
          "output_type": "display_data",
          "data": {
            "text/plain": [
              "<Figure size 640x480 with 1 Axes>"
            ],
            "image/png": "[encoded data removed]"
          },
          "metadata": {}
        }
      ],
      "source": [
        "if model_selection[model_flag]==\"ALL\" or model_selection[model_flag] == \"AE\":\n",
        "  # Plot of loss vs epoch of train and test dataset\n",
        "  plt.plot(his['loss'])\n",
        "  plt.plot(his['val_loss'])\n",
        "  plt.title(\"Plot of loss vs epoch for train and test dataset\")\n",
        "  plt.ylabel('loss')\n",
        "  plt.xlabel('epoch')\n",
        "  plt.legend(['train', 'test'], loc='upper right')\n",
        "  plt.savefig('/content/drive/MyDrive/Colab_Notebooks/Plots/ae_classifier_binary_loss.png')\n",
        "  plt.show()"
      ]
    },
    {
      "cell_type": "code",
      "execution_count": 101,
      "metadata": {
        "id": "Am0UB82rOIo1",
        "colab": {
          "base_uri": "https://localhost:8080/",
          "height": 472
        },
        "outputId": "31df91c8-1489-476a-90ac-59f3b5a17b0a"
      },
      "outputs": [
        {
          "output_type": "display_data",
          "data": {
            "text/plain": [
              "<Figure size 640x480 with 1 Axes>"
            ],
            "image/png": "[encoded data removed]"
          },
          "metadata": {}
        }
      ],
      "source": [
        "if model_selection[model_flag]==\"ALL\" or model_selection[model_flag] == \"AE\":\n",
        "  # Plot of accuracy vs epoch of train and test dataset\n",
        "  plt.plot(his['accuracy'])\n",
        "  plt.plot(his['val_accuracy'])\n",
        "  plt.title(\"Plot of accuracy vs epoch for train and test dataset\")\n",
        "  plt.ylabel('accuracy')\n",
        "  plt.xlabel('epoch')\n",
        "  plt.legend(['train', 'test'], loc='best')\n",
        "  plt.savefig('/content/drive/MyDrive/Colab_Notebooks/Plots/ae_classifier_binary_accuracy.png')\n",
        "  plt.show()"
      ]
    },
    {
      "cell_type": "code",
      "execution_count": 102,
      "metadata": {
        "id": "f5OZTlm0OMoW",
        "colab": {
          "base_uri": "https://localhost:8080/"
        },
        "outputId": "4b761880-601a-42b6-fdcb-c8bb0f60885a"
      },
      "outputs": [
        {
          "output_type": "stream",
          "name": "stdout",
          "text": [
            "2014/2014 [==============================] - 3s 2ms/step\n"
          ]
        }
      ],
      "source": [
        "if model_selection[model_flag]==\"ALL\" or model_selection[model_flag] == \"AE\":\n",
        "  y_pred = ae_classifier.predict(X_test).ravel()\n",
        "  fpr, tpr, thresholds = roc_curve(y_test, y_pred)\n",
        "  #auc = auc(fpr, tpr)"
      ]
    },
    {
      "cell_type": "code",
      "execution_count": 103,
      "metadata": {
        "id": "GbSkwfO2OTkn",
        "colab": {
          "base_uri": "https://localhost:8080/",
          "height": 510
        },
        "outputId": "15bd4a2f-5a71-45c2-e50d-7e5152907503"
      },
      "outputs": [
        {
          "output_type": "stream",
          "name": "stderr",
          "text": [
            "WARNING:matplotlib.legend:No artists with labels found to put in legend.  Note that artists whose label start with an underscore are ignored when legend() is called with no argument.\n"
          ]
        },
        {
          "output_type": "display_data",
          "data": {
            "text/plain": [
              "<Figure size 640x480 with 1 Axes>"
            ],
            "image/png": "[encoded data removed]"
          },
          "metadata": {}
        }
      ],
      "source": [
        "if model_selection[model_flag]==\"ALL\" or model_selection[model_flag] == \"AE\":\n",
        "  plt.plot([0, 1], [0, 1], 'k--')\n",
        "  #plt.plot(fpr, tpr, label='Keras (area = {:.3f})'.format(auc))\n",
        "  plt.plot(fpr, tpr)\n",
        "  plt.xlabel('False positive rate')\n",
        "  plt.ylabel('True positive rate')\n",
        "  plt.title('ROC curve')\n",
        "  plt.legend(loc='best')\n",
        "  plt.savefig('/content/drive/MyDrive/Colab_Notebooks/Plots/ae_binary_roc.png')\n",
        "  plt.show()"
      ]
    },
    {
      "cell_type": "code",
      "execution_count": 104,
      "metadata": {
        "id": "n7Xl74UXOZxm",
        "colab": {
          "base_uri": "https://localhost:8080/"
        },
        "outputId": "4e93ac23-dd6d-4a7f-db4c-c3730f168a76"
      },
      "outputs": [
        {
          "output_type": "stream",
          "name": "stdout",
          "text": [
            "2014/2014 [==============================] - 3s 2ms/step\n",
            "2014/2014 [==============================] - 3s 2ms/step\n"
          ]
        }
      ],
      "source": [
        "if model_selection[model_flag]==\"ALL\" or model_selection[model_flag] == \"AE\":\n",
        "  pred = ae_classifier.predict(X_test)\n",
        "  y_classes = (ae_classifier.predict(X_test)>0.5).astype('int32')"
      ]
    },
    {
      "cell_type": "code",
      "execution_count": 105,
      "metadata": {
        "id": "WA_g3UlXOZ71",
        "colab": {
          "base_uri": "https://localhost:8080/"
        },
        "outputId": "8fd10d4f-f4ef-4796-8021-cbd7c8e1e075"
      },
      "outputs": [
        {
          "output_type": "stream",
          "name": "stdout",
          "text": [
            "Recall Score -  0.8391053040606178\n",
            "F1 Score -  0.7342606071553804\n",
            "Precision Score -  0.6527061490507226\n"
          ]
        }
      ],
      "source": [
        "if model_selection[model_flag]==\"ALL\" or model_selection[model_flag] == \"AE\":\n",
        "  print(\"Recall Score - \",recall_score(y_test,y_classes))\n",
        "  print(\"F1 Score - \",f1_score(y_test,y_classes))\n",
        "  print(\"Precision Score - \",precision_score(y_test,y_classes))"
      ]
    },
    {
      "cell_type": "code",
      "source": [
        "print(classification_report(y_test, y_classes, target_names=['0', '1']))\n",
        "cm = confusion_matrix(y_test, y_classes)\n",
        "disp = ConfusionMatrixDisplay(confusion_matrix=cm,\n",
        "                              display_labels=['0', '1'])\n",
        "disp.plot()\n",
        "\n",
        "plt.show()"
      ],
      "metadata": {
        "colab": {
          "base_uri": "https://localhost:8080/",
          "height": 610
        },
        "id": "UgHHdx0qoryj",
        "outputId": "8b2bbfa5-980f-4b90-f655-8d0f50d5ca0e"
      },
      "execution_count": 106,
      "outputs": [
        {
          "output_type": "stream",
          "name": "stdout",
          "text": [
            "              precision    recall  f1-score   support\n",
            "\n",
            "           0       0.42      0.21      0.28     23243\n",
            "           1       0.65      0.84      0.73     41176\n",
            "\n",
            "    accuracy                           0.61     64419\n",
            "   macro avg       0.54      0.52      0.51     64419\n",
            "weighted avg       0.57      0.61      0.57     64419\n",
            "\n"
          ]
        },
        {
          "output_type": "display_data",
          "data": {
            "text/plain": [
              "<Figure size 640x480 with 2 Axes>"
            ],
            "image/png": "[encoded data removed]"
          },
          "metadata": {}
        }
      ]
    }
  ],
  "metadata": {
    "colab": {
      "provenance": [],
      "include_colab_link": true
    },
    "gpuClass": "standard",
    "kernelspec": {
      "display_name": "Python 3",
      "name": "python3"
    },
    "language_info": {
      "name": "python"
    },
    "accelerator": "GPU"
  },
  "nbformat": 4,
  "nbformat_minor": 0
}