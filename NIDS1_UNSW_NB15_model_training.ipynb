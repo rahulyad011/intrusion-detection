{
  "cells": [
    {
      "cell_type": "markdown",
      "metadata": {
        "id": "view-in-github",
        "colab_type": "text"
      },
      "source": [
        "<a href=\"https://colab.research.google.com/github/rahulyad011/intrusion-detection/blob/main/NIDS1_UNSW_NB15_model_training.ipynb\" target=\"_parent\"><img src=\"https://colab.research.google.com/assets/colab-badge.svg\" alt=\"Open In Colab\"/></a>"
      ]
    },
    {
      "cell_type": "code",
      "execution_count": null,
      "metadata": {
        "id": "qXQ8rUmdwaf4"
      },
      "outputs": [],
      "source": [
        "\n",
        "from sklearn.metrics import accuracy_score # for calculating accuracy of model\n",
        "from sklearn.model_selection import train_test_split # for splitting the dataset for training and testing\n",
        "from sklearn.metrics import classification_report # for generating a classification report of model\n",
        "import pickle # saving and loading trained model\n",
        "from os import path\n",
        "import numpy as np\n",
        "import pandas as pd\n",
        "import matplotlib.pyplot as plt\n",
        "\n",
        "# importing library for support vector machine classifier\n",
        "from sklearn.svm import SVC\n",
        "\n",
        "# MLP requirements \n",
        "from keras.layers import Dense # importing dense layer\n",
        "from keras.models import Sequential #importing Sequential layer\n",
        "from keras.models import model_from_json # saving and loading trained model\n",
        "\n",
        "# LSTM requirements \n",
        "from keras.layers import LSTM\n",
        "from keras.layers import Input\n",
        "from keras.models import Model\n",
        "\n",
        "# evaluation metrices\n",
        "from sklearn.metrics import classification_report, confusion_matrix\n",
        "from sklearn.metrics import roc_auc_score\n",
        "from sklearn.metrics import roc_curve, auc\n",
        "from sklearn.metrics import precision_score\n",
        "from sklearn.metrics import recall_score\n",
        "from sklearn.metrics import f1_score\n",
        "from sklearn.metrics import det_curve\n",
        "\n",
        "# representation of model layers\n",
        "from keras.utils.vis_utils import plot_model"
      ]
    },
    {
      "cell_type": "code",
      "source": [
        "from google.colab import drive\n",
        "drive.mount('/content/drive')"
      ],
      "metadata": {
        "colab": {
          "base_uri": "https://localhost:8080/"
        },
        "id": "DBCkPmpEjFSf",
        "outputId": "5405ab8d-d33c-4060-aeeb-7aff35b345bf"
      },
      "execution_count": null,
      "outputs": [
        {
          "output_type": "stream",
          "name": "stdout",
          "text": [
            "Mounted at /content/drive\n"
          ]
        }
      ]
    },
    {
      "cell_type": "code",
      "execution_count": null,
      "metadata": {
        "colab": {
          "base_uri": "https://localhost:8080/",
          "height": 505
        },
        "id": "Pepa9lW8whHh",
        "outputId": "084369ca-1faf-4ecb-ea5c-c78c1971e581"
      },
      "outputs": [
        {
          "output_type": "execute_result",
          "data": {
            "text/plain": [
              "        proto_-  proto_arp  proto_ospf  proto_tcp  proto_udp  proto_unas  \\\n",
              "0             0          0           0          0          1           0   \n",
              "1             0          0           0          0          1           0   \n",
              "2             0          0           0          0          1           0   \n",
              "3             0          0           0          0          1           0   \n",
              "4             0          0           0          0          1           0   \n",
              "...         ...        ...         ...        ...        ...         ...   \n",
              "257668        0          0           0          0          1           0   \n",
              "257669        0          0           0          1          0           0   \n",
              "257670        0          0           0          0          1           0   \n",
              "257671        0          0           0          0          1           0   \n",
              "257672        0          0           0          0          1           0   \n",
              "\n",
              "        service_-  service_dns  service_ftp-data  service_http  ...  \\\n",
              "0               1            0                 0             0  ...   \n",
              "1               1            0                 0             0  ...   \n",
              "2               1            0                 0             0  ...   \n",
              "3               1            0                 0             0  ...   \n",
              "4               1            0                 0             0  ...   \n",
              "...           ...          ...               ...           ...  ...   \n",
              "257668          0            1                 0             0  ...   \n",
              "257669          1            0                 0             0  ...   \n",
              "257670          0            1                 0             0  ...   \n",
              "257671          0            1                 0             0  ...   \n",
              "257672          0            1                 0             0  ...   \n",
              "\n",
              "        ct_src_dport_ltm  ct_dst_sport_ltm  ct_dst_src_ltm  is_ftp_login  \\\n",
              "0                      1                 1               2             0   \n",
              "1                      1                 1               2             0   \n",
              "2                      1                 1               3             0   \n",
              "3                      2                 1               3             0   \n",
              "4                      2                 1               3             0   \n",
              "...                  ...               ...             ...           ...   \n",
              "257668                24                13              24             0   \n",
              "257669                 1                 1               2             0   \n",
              "257670                 3                 3              13             0   \n",
              "257671                30                14              30             0   \n",
              "257672                30                16              30             0   \n",
              "\n",
              "        ct_ftp_cmd  ct_flw_http_mthd  ct_src_ltm  ct_srv_dst  is_sm_ips_ports  \\\n",
              "0                0                 0           1           2                0   \n",
              "1                0                 0           1           2                0   \n",
              "2                0                 0           1           3                0   \n",
              "3                0                 0           2           3                0   \n",
              "4                0                 0           2           3                0   \n",
              "...            ...               ...         ...         ...              ...   \n",
              "257668           0                 0          24          24                0   \n",
              "257669           0                 0           1           1                0   \n",
              "257670           0                 0           3          12                0   \n",
              "257671           0                 0          30          30                0   \n",
              "257672           0                 0          30          30                0   \n",
              "\n",
              "        label  \n",
              "0           0  \n",
              "1           0  \n",
              "2           0  \n",
              "3           0  \n",
              "4           0  \n",
              "...       ...  \n",
              "257668      1  \n",
              "257669      1  \n",
              "257670      1  \n",
              "257671      1  \n",
              "257672      1  \n",
              "\n",
              "[257673 rows x 57 columns]"
            ],
            "text/html": [
              "\n",
              "  <div id=\"df-02112f8f-1611-4899-bd41-04268cf4fd40\">\n",
              "    <div class=\"colab-df-container\">\n",
              "      <div>\n",
              "<style scoped>\n",
              "    .dataframe tbody tr th:only-of-type {\n",
              "        vertical-align: middle;\n",
              "    }\n",
              "\n",
              "    .dataframe tbody tr th {\n",
              "        vertical-align: top;\n",
              "    }\n",
              "\n",
              "    .dataframe thead th {\n",
              "        text-align: right;\n",
              "    }\n",
              "</style>\n",
              "<table border=\"1\" class=\"dataframe\">\n",
              "  <thead>\n",
              "    <tr style=\"text-align: right;\">\n",
              "      <th></th>\n",
              "      <th>proto_-</th>\n",
              "      <th>proto_arp</th>\n",
              "      <th>proto_ospf</th>\n",
              "      <th>proto_tcp</th>\n",
              "      <th>proto_udp</th>\n",
              "      <th>proto_unas</th>\n",
              "      <th>service_-</th>\n",
              "      <th>service_dns</th>\n",
              "      <th>service_ftp-data</th>\n",
              "      <th>service_http</th>\n",
              "      <th>...</th>\n",
              "      <th>ct_src_dport_ltm</th>\n",
              "      <th>ct_dst_sport_ltm</th>\n",
              "      <th>ct_dst_src_ltm</th>\n",
              "      <th>is_ftp_login</th>\n",
              "      <th>ct_ftp_cmd</th>\n",
              "      <th>ct_flw_http_mthd</th>\n",
              "      <th>ct_src_ltm</th>\n",
              "      <th>ct_srv_dst</th>\n",
              "      <th>is_sm_ips_ports</th>\n",
              "      <th>label</th>\n",
              "    </tr>\n",
              "  </thead>\n",
              "  <tbody>\n",
              "    <tr>\n",
              "      <th>0</th>\n",
              "      <td>0</td>\n",
              "      <td>0</td>\n",
              "      <td>0</td>\n",
              "      <td>0</td>\n",
              "      <td>1</td>\n",
              "      <td>0</td>\n",
              "      <td>1</td>\n",
              "      <td>0</td>\n",
              "      <td>0</td>\n",
              "      <td>0</td>\n",
              "      <td>...</td>\n",
              "      <td>1</td>\n",
              "      <td>1</td>\n",
              "      <td>2</td>\n",
              "      <td>0</td>\n",
              "      <td>0</td>\n",
              "      <td>0</td>\n",
              "      <td>1</td>\n",
              "      <td>2</td>\n",
              "      <td>0</td>\n",
              "      <td>0</td>\n",
              "    </tr>\n",
              "    <tr>\n",
              "      <th>1</th>\n",
              "      <td>0</td>\n",
              "      <td>0</td>\n",
              "      <td>0</td>\n",
              "      <td>0</td>\n",
              "      <td>1</td>\n",
              "      <td>0</td>\n",
              "      <td>1</td>\n",
              "      <td>0</td>\n",
              "      <td>0</td>\n",
              "      <td>0</td>\n",
              "      <td>...</td>\n",
              "      <td>1</td>\n",
              "      <td>1</td>\n",
              "      <td>2</td>\n",
              "      <td>0</td>\n",
              "      <td>0</td>\n",
              "      <td>0</td>\n",
              "      <td>1</td>\n",
              "      <td>2</td>\n",
              "      <td>0</td>\n",
              "      <td>0</td>\n",
              "    </tr>\n",
              "    <tr>\n",
              "      <th>2</th>\n",
              "      <td>0</td>\n",
              "      <td>0</td>\n",
              "      <td>0</td>\n",
              "      <td>0</td>\n",
              "      <td>1</td>\n",
              "      <td>0</td>\n",
              "      <td>1</td>\n",
              "      <td>0</td>\n",
              "      <td>0</td>\n",
              "      <td>0</td>\n",
              "      <td>...</td>\n",
              "      <td>1</td>\n",
              "      <td>1</td>\n",
              "      <td>3</td>\n",
              "      <td>0</td>\n",
              "      <td>0</td>\n",
              "      <td>0</td>\n",
              "      <td>1</td>\n",
              "      <td>3</td>\n",
              "      <td>0</td>\n",
              "      <td>0</td>\n",
              "    </tr>\n",
              "    <tr>\n",
              "      <th>3</th>\n",
              "      <td>0</td>\n",
              "      <td>0</td>\n",
              "      <td>0</td>\n",
              "      <td>0</td>\n",
              "      <td>1</td>\n",
              "      <td>0</td>\n",
              "      <td>1</td>\n",
              "      <td>0</td>\n",
              "      <td>0</td>\n",
              "      <td>0</td>\n",
              "      <td>...</td>\n",
              "      <td>2</td>\n",
              "      <td>1</td>\n",
              "      <td>3</td>\n",
              "      <td>0</td>\n",
              "      <td>0</td>\n",
              "      <td>0</td>\n",
              "      <td>2</td>\n",
              "      <td>3</td>\n",
              "      <td>0</td>\n",
              "      <td>0</td>\n",
              "    </tr>\n",
              "    <tr>\n",
              "      <th>4</th>\n",
              "      <td>0</td>\n",
              "      <td>0</td>\n",
              "      <td>0</td>\n",
              "      <td>0</td>\n",
              "      <td>1</td>\n",
              "      <td>0</td>\n",
              "      <td>1</td>\n",
              "      <td>0</td>\n",
              "      <td>0</td>\n",
              "      <td>0</td>\n",
              "      <td>...</td>\n",
              "      <td>2</td>\n",
              "      <td>1</td>\n",
              "      <td>3</td>\n",
              "      <td>0</td>\n",
              "      <td>0</td>\n",
              "      <td>0</td>\n",
              "      <td>2</td>\n",
              "      <td>3</td>\n",
              "      <td>0</td>\n",
              "      <td>0</td>\n",
              "    </tr>\n",
              "    <tr>\n",
              "      <th>...</th>\n",
              "      <td>...</td>\n",
              "      <td>...</td>\n",
              "      <td>...</td>\n",
              "      <td>...</td>\n",
              "      <td>...</td>\n",
              "      <td>...</td>\n",
              "      <td>...</td>\n",
              "      <td>...</td>\n",
              "      <td>...</td>\n",
              "      <td>...</td>\n",
              "      <td>...</td>\n",
              "      <td>...</td>\n",
              "      <td>...</td>\n",
              "      <td>...</td>\n",
              "      <td>...</td>\n",
              "      <td>...</td>\n",
              "      <td>...</td>\n",
              "      <td>...</td>\n",
              "      <td>...</td>\n",
              "      <td>...</td>\n",
              "      <td>...</td>\n",
              "    </tr>\n",
              "    <tr>\n",
              "      <th>257668</th>\n",
              "      <td>0</td>\n",
              "      <td>0</td>\n",
              "      <td>0</td>\n",
              "      <td>0</td>\n",
              "      <td>1</td>\n",
              "      <td>0</td>\n",
              "      <td>0</td>\n",
              "      <td>1</td>\n",
              "      <td>0</td>\n",
              "      <td>0</td>\n",
              "      <td>...</td>\n",
              "      <td>24</td>\n",
              "      <td>13</td>\n",
              "      <td>24</td>\n",
              "      <td>0</td>\n",
              "      <td>0</td>\n",
              "      <td>0</td>\n",
              "      <td>24</td>\n",
              "      <td>24</td>\n",
              "      <td>0</td>\n",
              "      <td>1</td>\n",
              "    </tr>\n",
              "    <tr>\n",
              "      <th>257669</th>\n",
              "      <td>0</td>\n",
              "      <td>0</td>\n",
              "      <td>0</td>\n",
              "      <td>1</td>\n",
              "      <td>0</td>\n",
              "      <td>0</td>\n",
              "      <td>1</td>\n",
              "      <td>0</td>\n",
              "      <td>0</td>\n",
              "      <td>0</td>\n",
              "      <td>...</td>\n",
              "      <td>1</td>\n",
              "      <td>1</td>\n",
              "      <td>2</td>\n",
              "      <td>0</td>\n",
              "      <td>0</td>\n",
              "      <td>0</td>\n",
              "      <td>1</td>\n",
              "      <td>1</td>\n",
              "      <td>0</td>\n",
              "      <td>1</td>\n",
              "    </tr>\n",
              "    <tr>\n",
              "      <th>257670</th>\n",
              "      <td>0</td>\n",
              "      <td>0</td>\n",
              "      <td>0</td>\n",
              "      <td>0</td>\n",
              "      <td>1</td>\n",
              "      <td>0</td>\n",
              "      <td>0</td>\n",
              "      <td>1</td>\n",
              "      <td>0</td>\n",
              "      <td>0</td>\n",
              "      <td>...</td>\n",
              "      <td>3</td>\n",
              "      <td>3</td>\n",
              "      <td>13</td>\n",
              "      <td>0</td>\n",
              "      <td>0</td>\n",
              "      <td>0</td>\n",
              "      <td>3</td>\n",
              "      <td>12</td>\n",
              "      <td>0</td>\n",
              "      <td>1</td>\n",
              "    </tr>\n",
              "    <tr>\n",
              "      <th>257671</th>\n",
              "      <td>0</td>\n",
              "      <td>0</td>\n",
              "      <td>0</td>\n",
              "      <td>0</td>\n",
              "      <td>1</td>\n",
              "      <td>0</td>\n",
              "      <td>0</td>\n",
              "      <td>1</td>\n",
              "      <td>0</td>\n",
              "      <td>0</td>\n",
              "      <td>...</td>\n",
              "      <td>30</td>\n",
              "      <td>14</td>\n",
              "      <td>30</td>\n",
              "      <td>0</td>\n",
              "      <td>0</td>\n",
              "      <td>0</td>\n",
              "      <td>30</td>\n",
              "      <td>30</td>\n",
              "      <td>0</td>\n",
              "      <td>1</td>\n",
              "    </tr>\n",
              "    <tr>\n",
              "      <th>257672</th>\n",
              "      <td>0</td>\n",
              "      <td>0</td>\n",
              "      <td>0</td>\n",
              "      <td>0</td>\n",
              "      <td>1</td>\n",
              "      <td>0</td>\n",
              "      <td>0</td>\n",
              "      <td>1</td>\n",
              "      <td>0</td>\n",
              "      <td>0</td>\n",
              "      <td>...</td>\n",
              "      <td>30</td>\n",
              "      <td>16</td>\n",
              "      <td>30</td>\n",
              "      <td>0</td>\n",
              "      <td>0</td>\n",
              "      <td>0</td>\n",
              "      <td>30</td>\n",
              "      <td>30</td>\n",
              "      <td>0</td>\n",
              "      <td>1</td>\n",
              "    </tr>\n",
              "  </tbody>\n",
              "</table>\n",
              "<p>257673 rows × 57 columns</p>\n",
              "</div>\n",
              "      <button class=\"colab-df-convert\" onclick=\"convertToInteractive('df-02112f8f-1611-4899-bd41-04268cf4fd40')\"\n",
              "              title=\"Convert this dataframe to an interactive table.\"\n",
              "              style=\"display:none;\">\n",
              "        \n",
              "  <svg xmlns=\"http://www.w3.org/2000/svg\" height=\"24px\"viewBox=\"0 0 24 24\"\n",
              "       width=\"24px\">\n",
              "    <path d=\"M0 0h24v24H0V0z\" fill=\"none\"/>\n",
              "    <path d=\"M18.56 5.44l.94 2.06.94-2.06 2.06-.94-2.06-.94-.94-2.06-.94 2.06-2.06.94zm-11 1L8.5 8.5l.94-2.06 2.06-.94-2.06-.94L8.5 2.5l-.94 2.06-2.06.94zm10 10l.94 2.06.94-2.06 2.06-.94-2.06-.94-.94-2.06-.94 2.06-2.06.94z\"/><path d=\"M17.41 7.96l-1.37-1.37c-.4-.4-.92-.59-1.43-.59-.52 0-1.04.2-1.43.59L10.3 9.45l-7.72 7.72c-.78.78-.78 2.05 0 2.83L4 21.41c.39.39.9.59 1.41.59.51 0 1.02-.2 1.41-.59l7.78-7.78 2.81-2.81c.8-.78.8-2.07 0-2.86zM5.41 20L4 18.59l7.72-7.72 1.47 1.35L5.41 20z\"/>\n",
              "  </svg>\n",
              "      </button>\n",
              "      \n",
              "  <style>\n",
              "    .colab-df-container {\n",
              "      display:flex;\n",
              "      flex-wrap:wrap;\n",
              "      gap: 12px;\n",
              "    }\n",
              "\n",
              "    .colab-df-convert {\n",
              "      background-color: #E8F0FE;\n",
              "      border: none;\n",
              "      border-radius: 50%;\n",
              "      cursor: pointer;\n",
              "      display: none;\n",
              "      fill: #1967D2;\n",
              "      height: 32px;\n",
              "      padding: 0 0 0 0;\n",
              "      width: 32px;\n",
              "    }\n",
              "\n",
              "    .colab-df-convert:hover {\n",
              "      background-color: #E2EBFA;\n",
              "      box-shadow: 0px 1px 2px rgba(60, 64, 67, 0.3), 0px 1px 3px 1px rgba(60, 64, 67, 0.15);\n",
              "      fill: #174EA6;\n",
              "    }\n",
              "\n",
              "    [theme=dark] .colab-df-convert {\n",
              "      background-color: #3B4455;\n",
              "      fill: #D2E3FC;\n",
              "    }\n",
              "\n",
              "    [theme=dark] .colab-df-convert:hover {\n",
              "      background-color: #434B5C;\n",
              "      box-shadow: 0px 1px 3px 1px rgba(0, 0, 0, 0.15);\n",
              "      filter: drop-shadow(0px 1px 2px rgba(0, 0, 0, 0.3));\n",
              "      fill: #FFFFFF;\n",
              "    }\n",
              "  </style>\n",
              "\n",
              "      <script>\n",
              "        const buttonEl =\n",
              "          document.querySelector('#df-02112f8f-1611-4899-bd41-04268cf4fd40 button.colab-df-convert');\n",
              "        buttonEl.style.display =\n",
              "          google.colab.kernel.accessAllowed ? 'block' : 'none';\n",
              "\n",
              "        async function convertToInteractive(key) {\n",
              "          const element = document.querySelector('#df-02112f8f-1611-4899-bd41-04268cf4fd40');\n",
              "          const dataTable =\n",
              "            await google.colab.kernel.invokeFunction('convertToInteractive',\n",
              "                                                     [key], {});\n",
              "          if (!dataTable) return;\n",
              "\n",
              "          const docLinkHtml = 'Like what you see? Visit the ' +\n",
              "            '<a target=\"_blank\" href=https://colab.research.google.com/notebooks/data_table.ipynb>data table notebook</a>'\n",
              "            + ' to learn more about interactive tables.';\n",
              "          element.innerHTML = '';\n",
              "          dataTable['output_type'] = 'display_data';\n",
              "          await google.colab.output.renderOutput(dataTable, element);\n",
              "          const docLink = document.createElement('div');\n",
              "          docLink.innerHTML = docLinkHtml;\n",
              "          element.appendChild(docLink);\n",
              "        }\n",
              "      </script>\n",
              "    </div>\n",
              "  </div>\n",
              "  "
            ]
          },
          "metadata": {},
          "execution_count": 3
        }
      ],
      "source": [
        "bin_data_total = pd.read_csv(\"/content/drive/MyDrive/Colab_Notebooks/nids_project_data/UNSW_NB15_data/bin_data_processed.csv\")\n",
        "bin_data_total.drop(bin_data_total.columns[0],axis=1,inplace=True)\n",
        "bin_data_total"
      ]
    },
    {
      "cell_type": "code",
      "execution_count": null,
      "metadata": {
        "colab": {
          "base_uri": "https://localhost:8080/"
        },
        "id": "xHCs0B3sKOa_",
        "outputId": "3af106b5-4dfd-4742-a345-2f94608acd9a"
      },
      "outputs": [
        {
          "output_type": "execute_result",
          "data": {
            "text/plain": [
              "1    0.639077\n",
              "0    0.360923\n",
              "Name: label, dtype: float64"
            ]
          },
          "metadata": {},
          "execution_count": 4
        }
      ],
      "source": [
        "# distribution of label class before sampling\n",
        "data_size = bin_data_total.shape[0]\n",
        "# data_size\n",
        "bin_data_total.label.value_counts()/data_size"
      ]
    },
    {
      "cell_type": "code",
      "source": [
        "# numeric feature normalization\n",
        "from sklearn.preprocessing import MinMaxScaler\n",
        "from sklearn.preprocessing import StandardScaler\n",
        "\n",
        "numeric_cols = bin_data_total.select_dtypes(['number']).columns\n",
        "numeric_cols = numeric_cols.drop('label')\n",
        "flag = 0\n",
        "scaler = None\n",
        "if flag:\n",
        "  # using standard scaler for normalizing\n",
        "  scaler = StandardScaler()\n",
        "else:\n",
        "  # using minmax scaler for normalizing\n",
        "  # to avoid negative values after scaling\n",
        "  scaler = MinMaxScaler()\n",
        "\n",
        "def normalization_train(df,col):\n",
        "  for i in col:\n",
        "    arr = df[i]\n",
        "    arr = np.array(arr)\n",
        "    df[i] = scaler.fit_transform(arr.reshape(len(arr),1))\n",
        "  return df\n",
        "\n",
        "def normalization_test(df,col):\n",
        "  for i in col:\n",
        "    arr = df[i]\n",
        "    arr = np.array(arr)\n",
        "    df[i] = scaler.transform(arr.reshape(len(arr),1))\n",
        "  return df\n",
        "\n",
        "# numeric_cols"
      ],
      "metadata": {
        "id": "QAUrPvEIYHoH"
      },
      "execution_count": null,
      "outputs": []
    },
    {
      "cell_type": "code",
      "execution_count": null,
      "metadata": {
        "colab": {
          "base_uri": "https://localhost:8080/",
          "height": 505
        },
        "id": "XSTP2AcKJgTF",
        "outputId": "e0b9fb63-30ad-4708-e6ad-334a8cbfd727"
      },
      "outputs": [
        {
          "output_type": "execute_result",
          "data": {
            "text/plain": [
              "        proto_-  proto_arp  proto_ospf  proto_tcp  proto_udp  proto_unas  \\\n",
              "0             0          0           0          0          1           0   \n",
              "1             0          0           0          0          1           0   \n",
              "2             0          0           0          0          1           0   \n",
              "3             0          0           0          0          1           0   \n",
              "4             0          0           0          0          1           0   \n",
              "...         ...        ...         ...        ...        ...         ...   \n",
              "257668        0          0           0          0          1           0   \n",
              "257669        0          0           0          1          0           0   \n",
              "257670        0          0           0          0          1           0   \n",
              "257671        0          0           0          0          1           0   \n",
              "257672        0          0           0          0          1           0   \n",
              "\n",
              "        service_-  service_dns  service_ftp-data  service_http  ...  \\\n",
              "0               1            0                 0             0  ...   \n",
              "1               1            0                 0             0  ...   \n",
              "2               1            0                 0             0  ...   \n",
              "3               1            0                 0             0  ...   \n",
              "4               1            0                 0             0  ...   \n",
              "...           ...          ...               ...           ...  ...   \n",
              "257668          0            1                 0             0  ...   \n",
              "257669          1            0                 0             0  ...   \n",
              "257670          0            1                 0             0  ...   \n",
              "257671          0            1                 0             0  ...   \n",
              "257672          0            1                 0             0  ...   \n",
              "\n",
              "        ct_src_dport_ltm  ct_dst_sport_ltm  ct_dst_src_ltm  is_ftp_login  \\\n",
              "0                      1                 1               2             0   \n",
              "1                      1                 1               2             0   \n",
              "2                      1                 1               3             0   \n",
              "3                      2                 1               3             0   \n",
              "4                      2                 1               3             0   \n",
              "...                  ...               ...             ...           ...   \n",
              "257668                24                13              24             0   \n",
              "257669                 1                 1               2             0   \n",
              "257670                 3                 3              13             0   \n",
              "257671                30                14              30             0   \n",
              "257672                30                16              30             0   \n",
              "\n",
              "        ct_ftp_cmd  ct_flw_http_mthd  ct_src_ltm  ct_srv_dst  is_sm_ips_ports  \\\n",
              "0                0                 0           1           2                0   \n",
              "1                0                 0           1           2                0   \n",
              "2                0                 0           1           3                0   \n",
              "3                0                 0           2           3                0   \n",
              "4                0                 0           2           3                0   \n",
              "...            ...               ...         ...         ...              ...   \n",
              "257668           0                 0          24          24                0   \n",
              "257669           0                 0           1           1                0   \n",
              "257670           0                 0           3          12                0   \n",
              "257671           0                 0          30          30                0   \n",
              "257672           0                 0          30          30                0   \n",
              "\n",
              "        label  \n",
              "0           0  \n",
              "1           0  \n",
              "2           0  \n",
              "3           0  \n",
              "4           0  \n",
              "...       ...  \n",
              "257668      1  \n",
              "257669      1  \n",
              "257670      1  \n",
              "257671      1  \n",
              "257672      1  \n",
              "\n",
              "[257673 rows x 57 columns]"
            ],
            "text/html": [
              "\n",
              "  <div id=\"df-68f65752-c282-49ad-bef4-14f925cc208e\">\n",
              "    <div class=\"colab-df-container\">\n",
              "      <div>\n",
              "<style scoped>\n",
              "    .dataframe tbody tr th:only-of-type {\n",
              "        vertical-align: middle;\n",
              "    }\n",
              "\n",
              "    .dataframe tbody tr th {\n",
              "        vertical-align: top;\n",
              "    }\n",
              "\n",
              "    .dataframe thead th {\n",
              "        text-align: right;\n",
              "    }\n",
              "</style>\n",
              "<table border=\"1\" class=\"dataframe\">\n",
              "  <thead>\n",
              "    <tr style=\"text-align: right;\">\n",
              "      <th></th>\n",
              "      <th>proto_-</th>\n",
              "      <th>proto_arp</th>\n",
              "      <th>proto_ospf</th>\n",
              "      <th>proto_tcp</th>\n",
              "      <th>proto_udp</th>\n",
              "      <th>proto_unas</th>\n",
              "      <th>service_-</th>\n",
              "      <th>service_dns</th>\n",
              "      <th>service_ftp-data</th>\n",
              "      <th>service_http</th>\n",
              "      <th>...</th>\n",
              "      <th>ct_src_dport_ltm</th>\n",
              "      <th>ct_dst_sport_ltm</th>\n",
              "      <th>ct_dst_src_ltm</th>\n",
              "      <th>is_ftp_login</th>\n",
              "      <th>ct_ftp_cmd</th>\n",
              "      <th>ct_flw_http_mthd</th>\n",
              "      <th>ct_src_ltm</th>\n",
              "      <th>ct_srv_dst</th>\n",
              "      <th>is_sm_ips_ports</th>\n",
              "      <th>label</th>\n",
              "    </tr>\n",
              "  </thead>\n",
              "  <tbody>\n",
              "    <tr>\n",
              "      <th>0</th>\n",
              "      <td>0</td>\n",
              "      <td>0</td>\n",
              "      <td>0</td>\n",
              "      <td>0</td>\n",
              "      <td>1</td>\n",
              "      <td>0</td>\n",
              "      <td>1</td>\n",
              "      <td>0</td>\n",
              "      <td>0</td>\n",
              "      <td>0</td>\n",
              "      <td>...</td>\n",
              "      <td>1</td>\n",
              "      <td>1</td>\n",
              "      <td>2</td>\n",
              "      <td>0</td>\n",
              "      <td>0</td>\n",
              "      <td>0</td>\n",
              "      <td>1</td>\n",
              "      <td>2</td>\n",
              "      <td>0</td>\n",
              "      <td>0</td>\n",
              "    </tr>\n",
              "    <tr>\n",
              "      <th>1</th>\n",
              "      <td>0</td>\n",
              "      <td>0</td>\n",
              "      <td>0</td>\n",
              "      <td>0</td>\n",
              "      <td>1</td>\n",
              "      <td>0</td>\n",
              "      <td>1</td>\n",
              "      <td>0</td>\n",
              "      <td>0</td>\n",
              "      <td>0</td>\n",
              "      <td>...</td>\n",
              "      <td>1</td>\n",
              "      <td>1</td>\n",
              "      <td>2</td>\n",
              "      <td>0</td>\n",
              "      <td>0</td>\n",
              "      <td>0</td>\n",
              "      <td>1</td>\n",
              "      <td>2</td>\n",
              "      <td>0</td>\n",
              "      <td>0</td>\n",
              "    </tr>\n",
              "    <tr>\n",
              "      <th>2</th>\n",
              "      <td>0</td>\n",
              "      <td>0</td>\n",
              "      <td>0</td>\n",
              "      <td>0</td>\n",
              "      <td>1</td>\n",
              "      <td>0</td>\n",
              "      <td>1</td>\n",
              "      <td>0</td>\n",
              "      <td>0</td>\n",
              "      <td>0</td>\n",
              "      <td>...</td>\n",
              "      <td>1</td>\n",
              "      <td>1</td>\n",
              "      <td>3</td>\n",
              "      <td>0</td>\n",
              "      <td>0</td>\n",
              "      <td>0</td>\n",
              "      <td>1</td>\n",
              "      <td>3</td>\n",
              "      <td>0</td>\n",
              "      <td>0</td>\n",
              "    </tr>\n",
              "    <tr>\n",
              "      <th>3</th>\n",
              "      <td>0</td>\n",
              "      <td>0</td>\n",
              "      <td>0</td>\n",
              "      <td>0</td>\n",
              "      <td>1</td>\n",
              "      <td>0</td>\n",
              "      <td>1</td>\n",
              "      <td>0</td>\n",
              "      <td>0</td>\n",
              "      <td>0</td>\n",
              "      <td>...</td>\n",
              "      <td>2</td>\n",
              "      <td>1</td>\n",
              "      <td>3</td>\n",
              "      <td>0</td>\n",
              "      <td>0</td>\n",
              "      <td>0</td>\n",
              "      <td>2</td>\n",
              "      <td>3</td>\n",
              "      <td>0</td>\n",
              "      <td>0</td>\n",
              "    </tr>\n",
              "    <tr>\n",
              "      <th>4</th>\n",
              "      <td>0</td>\n",
              "      <td>0</td>\n",
              "      <td>0</td>\n",
              "      <td>0</td>\n",
              "      <td>1</td>\n",
              "      <td>0</td>\n",
              "      <td>1</td>\n",
              "      <td>0</td>\n",
              "      <td>0</td>\n",
              "      <td>0</td>\n",
              "      <td>...</td>\n",
              "      <td>2</td>\n",
              "      <td>1</td>\n",
              "      <td>3</td>\n",
              "      <td>0</td>\n",
              "      <td>0</td>\n",
              "      <td>0</td>\n",
              "      <td>2</td>\n",
              "      <td>3</td>\n",
              "      <td>0</td>\n",
              "      <td>0</td>\n",
              "    </tr>\n",
              "    <tr>\n",
              "      <th>...</th>\n",
              "      <td>...</td>\n",
              "      <td>...</td>\n",
              "      <td>...</td>\n",
              "      <td>...</td>\n",
              "      <td>...</td>\n",
              "      <td>...</td>\n",
              "      <td>...</td>\n",
              "      <td>...</td>\n",
              "      <td>...</td>\n",
              "      <td>...</td>\n",
              "      <td>...</td>\n",
              "      <td>...</td>\n",
              "      <td>...</td>\n",
              "      <td>...</td>\n",
              "      <td>...</td>\n",
              "      <td>...</td>\n",
              "      <td>...</td>\n",
              "      <td>...</td>\n",
              "      <td>...</td>\n",
              "      <td>...</td>\n",
              "      <td>...</td>\n",
              "    </tr>\n",
              "    <tr>\n",
              "      <th>257668</th>\n",
              "      <td>0</td>\n",
              "      <td>0</td>\n",
              "      <td>0</td>\n",
              "      <td>0</td>\n",
              "      <td>1</td>\n",
              "      <td>0</td>\n",
              "      <td>0</td>\n",
              "      <td>1</td>\n",
              "      <td>0</td>\n",
              "      <td>0</td>\n",
              "      <td>...</td>\n",
              "      <td>24</td>\n",
              "      <td>13</td>\n",
              "      <td>24</td>\n",
              "      <td>0</td>\n",
              "      <td>0</td>\n",
              "      <td>0</td>\n",
              "      <td>24</td>\n",
              "      <td>24</td>\n",
              "      <td>0</td>\n",
              "      <td>1</td>\n",
              "    </tr>\n",
              "    <tr>\n",
              "      <th>257669</th>\n",
              "      <td>0</td>\n",
              "      <td>0</td>\n",
              "      <td>0</td>\n",
              "      <td>1</td>\n",
              "      <td>0</td>\n",
              "      <td>0</td>\n",
              "      <td>1</td>\n",
              "      <td>0</td>\n",
              "      <td>0</td>\n",
              "      <td>0</td>\n",
              "      <td>...</td>\n",
              "      <td>1</td>\n",
              "      <td>1</td>\n",
              "      <td>2</td>\n",
              "      <td>0</td>\n",
              "      <td>0</td>\n",
              "      <td>0</td>\n",
              "      <td>1</td>\n",
              "      <td>1</td>\n",
              "      <td>0</td>\n",
              "      <td>1</td>\n",
              "    </tr>\n",
              "    <tr>\n",
              "      <th>257670</th>\n",
              "      <td>0</td>\n",
              "      <td>0</td>\n",
              "      <td>0</td>\n",
              "      <td>0</td>\n",
              "      <td>1</td>\n",
              "      <td>0</td>\n",
              "      <td>0</td>\n",
              "      <td>1</td>\n",
              "      <td>0</td>\n",
              "      <td>0</td>\n",
              "      <td>...</td>\n",
              "      <td>3</td>\n",
              "      <td>3</td>\n",
              "      <td>13</td>\n",
              "      <td>0</td>\n",
              "      <td>0</td>\n",
              "      <td>0</td>\n",
              "      <td>3</td>\n",
              "      <td>12</td>\n",
              "      <td>0</td>\n",
              "      <td>1</td>\n",
              "    </tr>\n",
              "    <tr>\n",
              "      <th>257671</th>\n",
              "      <td>0</td>\n",
              "      <td>0</td>\n",
              "      <td>0</td>\n",
              "      <td>0</td>\n",
              "      <td>1</td>\n",
              "      <td>0</td>\n",
              "      <td>0</td>\n",
              "      <td>1</td>\n",
              "      <td>0</td>\n",
              "      <td>0</td>\n",
              "      <td>...</td>\n",
              "      <td>30</td>\n",
              "      <td>14</td>\n",
              "      <td>30</td>\n",
              "      <td>0</td>\n",
              "      <td>0</td>\n",
              "      <td>0</td>\n",
              "      <td>30</td>\n",
              "      <td>30</td>\n",
              "      <td>0</td>\n",
              "      <td>1</td>\n",
              "    </tr>\n",
              "    <tr>\n",
              "      <th>257672</th>\n",
              "      <td>0</td>\n",
              "      <td>0</td>\n",
              "      <td>0</td>\n",
              "      <td>0</td>\n",
              "      <td>1</td>\n",
              "      <td>0</td>\n",
              "      <td>0</td>\n",
              "      <td>1</td>\n",
              "      <td>0</td>\n",
              "      <td>0</td>\n",
              "      <td>...</td>\n",
              "      <td>30</td>\n",
              "      <td>16</td>\n",
              "      <td>30</td>\n",
              "      <td>0</td>\n",
              "      <td>0</td>\n",
              "      <td>0</td>\n",
              "      <td>30</td>\n",
              "      <td>30</td>\n",
              "      <td>0</td>\n",
              "      <td>1</td>\n",
              "    </tr>\n",
              "  </tbody>\n",
              "</table>\n",
              "<p>257673 rows × 57 columns</p>\n",
              "</div>\n",
              "      <button class=\"colab-df-convert\" onclick=\"convertToInteractive('df-68f65752-c282-49ad-bef4-14f925cc208e')\"\n",
              "              title=\"Convert this dataframe to an interactive table.\"\n",
              "              style=\"display:none;\">\n",
              "        \n",
              "  <svg xmlns=\"http://www.w3.org/2000/svg\" height=\"24px\"viewBox=\"0 0 24 24\"\n",
              "       width=\"24px\">\n",
              "    <path d=\"M0 0h24v24H0V0z\" fill=\"none\"/>\n",
              "    <path d=\"M18.56 5.44l.94 2.06.94-2.06 2.06-.94-2.06-.94-.94-2.06-.94 2.06-2.06.94zm-11 1L8.5 8.5l.94-2.06 2.06-.94-2.06-.94L8.5 2.5l-.94 2.06-2.06.94zm10 10l.94 2.06.94-2.06 2.06-.94-2.06-.94-.94-2.06-.94 2.06-2.06.94z\"/><path d=\"M17.41 7.96l-1.37-1.37c-.4-.4-.92-.59-1.43-.59-.52 0-1.04.2-1.43.59L10.3 9.45l-7.72 7.72c-.78.78-.78 2.05 0 2.83L4 21.41c.39.39.9.59 1.41.59.51 0 1.02-.2 1.41-.59l7.78-7.78 2.81-2.81c.8-.78.8-2.07 0-2.86zM5.41 20L4 18.59l7.72-7.72 1.47 1.35L5.41 20z\"/>\n",
              "  </svg>\n",
              "      </button>\n",
              "      \n",
              "  <style>\n",
              "    .colab-df-container {\n",
              "      display:flex;\n",
              "      flex-wrap:wrap;\n",
              "      gap: 12px;\n",
              "    }\n",
              "\n",
              "    .colab-df-convert {\n",
              "      background-color: #E8F0FE;\n",
              "      border: none;\n",
              "      border-radius: 50%;\n",
              "      cursor: pointer;\n",
              "      display: none;\n",
              "      fill: #1967D2;\n",
              "      height: 32px;\n",
              "      padding: 0 0 0 0;\n",
              "      width: 32px;\n",
              "    }\n",
              "\n",
              "    .colab-df-convert:hover {\n",
              "      background-color: #E2EBFA;\n",
              "      box-shadow: 0px 1px 2px rgba(60, 64, 67, 0.3), 0px 1px 3px 1px rgba(60, 64, 67, 0.15);\n",
              "      fill: #174EA6;\n",
              "    }\n",
              "\n",
              "    [theme=dark] .colab-df-convert {\n",
              "      background-color: #3B4455;\n",
              "      fill: #D2E3FC;\n",
              "    }\n",
              "\n",
              "    [theme=dark] .colab-df-convert:hover {\n",
              "      background-color: #434B5C;\n",
              "      box-shadow: 0px 1px 3px 1px rgba(0, 0, 0, 0.15);\n",
              "      filter: drop-shadow(0px 1px 2px rgba(0, 0, 0, 0.3));\n",
              "      fill: #FFFFFF;\n",
              "    }\n",
              "  </style>\n",
              "\n",
              "      <script>\n",
              "        const buttonEl =\n",
              "          document.querySelector('#df-68f65752-c282-49ad-bef4-14f925cc208e button.colab-df-convert');\n",
              "        buttonEl.style.display =\n",
              "          google.colab.kernel.accessAllowed ? 'block' : 'none';\n",
              "\n",
              "        async function convertToInteractive(key) {\n",
              "          const element = document.querySelector('#df-68f65752-c282-49ad-bef4-14f925cc208e');\n",
              "          const dataTable =\n",
              "            await google.colab.kernel.invokeFunction('convertToInteractive',\n",
              "                                                     [key], {});\n",
              "          if (!dataTable) return;\n",
              "\n",
              "          const docLinkHtml = 'Like what you see? Visit the ' +\n",
              "            '<a target=\"_blank\" href=https://colab.research.google.com/notebooks/data_table.ipynb>data table notebook</a>'\n",
              "            + ' to learn more about interactive tables.';\n",
              "          element.innerHTML = '';\n",
              "          dataTable['output_type'] = 'display_data';\n",
              "          await google.colab.output.renderOutput(dataTable, element);\n",
              "          const docLink = document.createElement('div');\n",
              "          docLink.innerHTML = docLinkHtml;\n",
              "          element.appendChild(docLink);\n",
              "        }\n",
              "      </script>\n",
              "    </div>\n",
              "  </div>\n",
              "  "
            ]
          },
          "metadata": {},
          "execution_count": 6
        }
      ],
      "source": [
        "# sampling data taking only 50% of the data\n",
        "# bin_data = bin_data_total.groupby('label', group_keys=False).apply(lambda x: x.sample(frac=0.5))\n",
        "bin_data = bin_data_total\n",
        "bin_data"
      ]
    },
    {
      "cell_type": "code",
      "source": [
        "number_of_cols = bin_data.shape[1]"
      ],
      "metadata": {
        "id": "N125Cc3Ukt8h"
      },
      "execution_count": null,
      "outputs": []
    },
    {
      "cell_type": "code",
      "execution_count": null,
      "metadata": {
        "colab": {
          "base_uri": "https://localhost:8080/"
        },
        "id": "nKX2TRG0J85J",
        "outputId": "8ab686d9-0f20-464a-9607-16785145073e"
      },
      "outputs": [
        {
          "output_type": "execute_result",
          "data": {
            "text/plain": [
              "1    0.639077\n",
              "0    0.360923\n",
              "Name: label, dtype: float64"
            ]
          },
          "metadata": {},
          "execution_count": 8
        }
      ],
      "source": [
        "# distribution of label class after sampling\n",
        "data_size = bin_data.shape[0]\n",
        "bin_data.label.value_counts()/data_size"
      ]
    },
    {
      "cell_type": "code",
      "execution_count": null,
      "metadata": {
        "id": "L11T2MepDzax"
      },
      "outputs": [],
      "source": [
        "model_selection = {\n",
        "    0 : \"ALL\",\n",
        "    2 : \"MLP\",\n",
        "    3 : \"LSTM\",\n",
        "    4 : \"AE\"\n",
        "}\n",
        "model_flag = 0\n",
        "svm_enable = 1"
      ]
    },
    {
      "cell_type": "code",
      "execution_count": null,
      "metadata": {
        "id": "OdRAXVlsxUVW"
      },
      "outputs": [],
      "source": [
        "X = bin_data.iloc[:,0:number_of_cols] # dataset excluding target attribute (encoded, one-hot-encoded,original)\n",
        "Y = bin_data['label'] # target attribute"
      ]
    },
    {
      "cell_type": "code",
      "execution_count": null,
      "metadata": {
        "id": "lFdHHvRtxU5B"
      },
      "outputs": [],
      "source": [
        "# splitting the dataset 75% for training and 25% testing\n",
        "X_train, X_test, y_train, y_test = train_test_split(X,Y, test_size=0.25, random_state=42) "
      ]
    },
    {
      "cell_type": "code",
      "source": [
        "# calling the normalization() function\n",
        "X_train = normalization_train(X_train,numeric_cols)\n",
        "X_train.head()"
      ],
      "metadata": {
        "colab": {
          "base_uri": "https://localhost:8080/",
          "height": 317
        },
        "id": "SLLlMtsaYJdK",
        "outputId": "33bb6832-d0e8-4e10-e24a-9ca499c0abe8"
      },
      "execution_count": null,
      "outputs": [
        {
          "output_type": "execute_result",
          "data": {
            "text/plain": [
              "        proto_-  proto_arp  proto_ospf  proto_tcp  proto_udp  proto_unas  \\\n",
              "92000       0.0        0.0         0.0        1.0        0.0         0.0   \n",
              "192145      0.0        0.0         0.0        0.0        1.0         0.0   \n",
              "3245        0.0        0.0         0.0        1.0        0.0         0.0   \n",
              "45792       0.0        0.0         0.0        1.0        0.0         0.0   \n",
              "250330      0.0        0.0         0.0        0.0        0.0         1.0   \n",
              "\n",
              "        service_-  service_dns  service_ftp-data  service_http  ...  \\\n",
              "92000         1.0          0.0               0.0           0.0  ...   \n",
              "192145        1.0          0.0               0.0           0.0  ...   \n",
              "3245          1.0          0.0               0.0           0.0  ...   \n",
              "45792         1.0          0.0               0.0           0.0  ...   \n",
              "250330        1.0          0.0               0.0           0.0  ...   \n",
              "\n",
              "        ct_src_dport_ltm  ct_dst_sport_ltm  ct_dst_src_ltm  is_ftp_login  \\\n",
              "92000                0.0               0.0        0.032258           0.0   \n",
              "192145               0.0               0.0        0.016129           0.0   \n",
              "3245                 0.0               0.0        0.032258           0.0   \n",
              "45792                0.0               0.0        0.000000           0.0   \n",
              "250330               0.0               0.0        0.016129           0.0   \n",
              "\n",
              "        ct_ftp_cmd  ct_flw_http_mthd  ct_src_ltm  ct_srv_dst  is_sm_ips_ports  \\\n",
              "92000          0.0               0.0    0.000000    0.032787              0.0   \n",
              "192145         0.0               0.0    0.000000    0.016393              0.0   \n",
              "3245           0.0               0.0    0.016949    0.032787              0.0   \n",
              "45792          0.0               0.0    0.000000    0.000000              0.0   \n",
              "250330         0.0               0.0    0.000000    0.016393              0.0   \n",
              "\n",
              "        label  \n",
              "92000       0  \n",
              "192145      1  \n",
              "3245        1  \n",
              "45792       1  \n",
              "250330      1  \n",
              "\n",
              "[5 rows x 57 columns]"
            ],
            "text/html": [
              "\n",
              "  <div id=\"df-45a64691-b0d5-48af-b6ab-4e0ddcba789f\">\n",
              "    <div class=\"colab-df-container\">\n",
              "      <div>\n",
              "<style scoped>\n",
              "    .dataframe tbody tr th:only-of-type {\n",
              "        vertical-align: middle;\n",
              "    }\n",
              "\n",
              "    .dataframe tbody tr th {\n",
              "        vertical-align: top;\n",
              "    }\n",
              "\n",
              "    .dataframe thead th {\n",
              "        text-align: right;\n",
              "    }\n",
              "</style>\n",
              "<table border=\"1\" class=\"dataframe\">\n",
              "  <thead>\n",
              "    <tr style=\"text-align: right;\">\n",
              "      <th></th>\n",
              "      <th>proto_-</th>\n",
              "      <th>proto_arp</th>\n",
              "      <th>proto_ospf</th>\n",
              "      <th>proto_tcp</th>\n",
              "      <th>proto_udp</th>\n",
              "      <th>proto_unas</th>\n",
              "      <th>service_-</th>\n",
              "      <th>service_dns</th>\n",
              "      <th>service_ftp-data</th>\n",
              "      <th>service_http</th>\n",
              "      <th>...</th>\n",
              "      <th>ct_src_dport_ltm</th>\n",
              "      <th>ct_dst_sport_ltm</th>\n",
              "      <th>ct_dst_src_ltm</th>\n",
              "      <th>is_ftp_login</th>\n",
              "      <th>ct_ftp_cmd</th>\n",
              "      <th>ct_flw_http_mthd</th>\n",
              "      <th>ct_src_ltm</th>\n",
              "      <th>ct_srv_dst</th>\n",
              "      <th>is_sm_ips_ports</th>\n",
              "      <th>label</th>\n",
              "    </tr>\n",
              "  </thead>\n",
              "  <tbody>\n",
              "    <tr>\n",
              "      <th>92000</th>\n",
              "      <td>0.0</td>\n",
              "      <td>0.0</td>\n",
              "      <td>0.0</td>\n",
              "      <td>1.0</td>\n",
              "      <td>0.0</td>\n",
              "      <td>0.0</td>\n",
              "      <td>1.0</td>\n",
              "      <td>0.0</td>\n",
              "      <td>0.0</td>\n",
              "      <td>0.0</td>\n",
              "      <td>...</td>\n",
              "      <td>0.0</td>\n",
              "      <td>0.0</td>\n",
              "      <td>0.032258</td>\n",
              "      <td>0.0</td>\n",
              "      <td>0.0</td>\n",
              "      <td>0.0</td>\n",
              "      <td>0.000000</td>\n",
              "      <td>0.032787</td>\n",
              "      <td>0.0</td>\n",
              "      <td>0</td>\n",
              "    </tr>\n",
              "    <tr>\n",
              "      <th>192145</th>\n",
              "      <td>0.0</td>\n",
              "      <td>0.0</td>\n",
              "      <td>0.0</td>\n",
              "      <td>0.0</td>\n",
              "      <td>1.0</td>\n",
              "      <td>0.0</td>\n",
              "      <td>1.0</td>\n",
              "      <td>0.0</td>\n",
              "      <td>0.0</td>\n",
              "      <td>0.0</td>\n",
              "      <td>...</td>\n",
              "      <td>0.0</td>\n",
              "      <td>0.0</td>\n",
              "      <td>0.016129</td>\n",
              "      <td>0.0</td>\n",
              "      <td>0.0</td>\n",
              "      <td>0.0</td>\n",
              "      <td>0.000000</td>\n",
              "      <td>0.016393</td>\n",
              "      <td>0.0</td>\n",
              "      <td>1</td>\n",
              "    </tr>\n",
              "    <tr>\n",
              "      <th>3245</th>\n",
              "      <td>0.0</td>\n",
              "      <td>0.0</td>\n",
              "      <td>0.0</td>\n",
              "      <td>1.0</td>\n",
              "      <td>0.0</td>\n",
              "      <td>0.0</td>\n",
              "      <td>1.0</td>\n",
              "      <td>0.0</td>\n",
              "      <td>0.0</td>\n",
              "      <td>0.0</td>\n",
              "      <td>...</td>\n",
              "      <td>0.0</td>\n",
              "      <td>0.0</td>\n",
              "      <td>0.032258</td>\n",
              "      <td>0.0</td>\n",
              "      <td>0.0</td>\n",
              "      <td>0.0</td>\n",
              "      <td>0.016949</td>\n",
              "      <td>0.032787</td>\n",
              "      <td>0.0</td>\n",
              "      <td>1</td>\n",
              "    </tr>\n",
              "    <tr>\n",
              "      <th>45792</th>\n",
              "      <td>0.0</td>\n",
              "      <td>0.0</td>\n",
              "      <td>0.0</td>\n",
              "      <td>1.0</td>\n",
              "      <td>0.0</td>\n",
              "      <td>0.0</td>\n",
              "      <td>1.0</td>\n",
              "      <td>0.0</td>\n",
              "      <td>0.0</td>\n",
              "      <td>0.0</td>\n",
              "      <td>...</td>\n",
              "      <td>0.0</td>\n",
              "      <td>0.0</td>\n",
              "      <td>0.000000</td>\n",
              "      <td>0.0</td>\n",
              "      <td>0.0</td>\n",
              "      <td>0.0</td>\n",
              "      <td>0.000000</td>\n",
              "      <td>0.000000</td>\n",
              "      <td>0.0</td>\n",
              "      <td>1</td>\n",
              "    </tr>\n",
              "    <tr>\n",
              "      <th>250330</th>\n",
              "      <td>0.0</td>\n",
              "      <td>0.0</td>\n",
              "      <td>0.0</td>\n",
              "      <td>0.0</td>\n",
              "      <td>0.0</td>\n",
              "      <td>1.0</td>\n",
              "      <td>1.0</td>\n",
              "      <td>0.0</td>\n",
              "      <td>0.0</td>\n",
              "      <td>0.0</td>\n",
              "      <td>...</td>\n",
              "      <td>0.0</td>\n",
              "      <td>0.0</td>\n",
              "      <td>0.016129</td>\n",
              "      <td>0.0</td>\n",
              "      <td>0.0</td>\n",
              "      <td>0.0</td>\n",
              "      <td>0.000000</td>\n",
              "      <td>0.016393</td>\n",
              "      <td>0.0</td>\n",
              "      <td>1</td>\n",
              "    </tr>\n",
              "  </tbody>\n",
              "</table>\n",
              "<p>5 rows × 57 columns</p>\n",
              "</div>\n",
              "      <button class=\"colab-df-convert\" onclick=\"convertToInteractive('df-45a64691-b0d5-48af-b6ab-4e0ddcba789f')\"\n",
              "              title=\"Convert this dataframe to an interactive table.\"\n",
              "              style=\"display:none;\">\n",
              "        \n",
              "  <svg xmlns=\"http://www.w3.org/2000/svg\" height=\"24px\"viewBox=\"0 0 24 24\"\n",
              "       width=\"24px\">\n",
              "    <path d=\"M0 0h24v24H0V0z\" fill=\"none\"/>\n",
              "    <path d=\"M18.56 5.44l.94 2.06.94-2.06 2.06-.94-2.06-.94-.94-2.06-.94 2.06-2.06.94zm-11 1L8.5 8.5l.94-2.06 2.06-.94-2.06-.94L8.5 2.5l-.94 2.06-2.06.94zm10 10l.94 2.06.94-2.06 2.06-.94-2.06-.94-.94-2.06-.94 2.06-2.06.94z\"/><path d=\"M17.41 7.96l-1.37-1.37c-.4-.4-.92-.59-1.43-.59-.52 0-1.04.2-1.43.59L10.3 9.45l-7.72 7.72c-.78.78-.78 2.05 0 2.83L4 21.41c.39.39.9.59 1.41.59.51 0 1.02-.2 1.41-.59l7.78-7.78 2.81-2.81c.8-.78.8-2.07 0-2.86zM5.41 20L4 18.59l7.72-7.72 1.47 1.35L5.41 20z\"/>\n",
              "  </svg>\n",
              "      </button>\n",
              "      \n",
              "  <style>\n",
              "    .colab-df-container {\n",
              "      display:flex;\n",
              "      flex-wrap:wrap;\n",
              "      gap: 12px;\n",
              "    }\n",
              "\n",
              "    .colab-df-convert {\n",
              "      background-color: #E8F0FE;\n",
              "      border: none;\n",
              "      border-radius: 50%;\n",
              "      cursor: pointer;\n",
              "      display: none;\n",
              "      fill: #1967D2;\n",
              "      height: 32px;\n",
              "      padding: 0 0 0 0;\n",
              "      width: 32px;\n",
              "    }\n",
              "\n",
              "    .colab-df-convert:hover {\n",
              "      background-color: #E2EBFA;\n",
              "      box-shadow: 0px 1px 2px rgba(60, 64, 67, 0.3), 0px 1px 3px 1px rgba(60, 64, 67, 0.15);\n",
              "      fill: #174EA6;\n",
              "    }\n",
              "\n",
              "    [theme=dark] .colab-df-convert {\n",
              "      background-color: #3B4455;\n",
              "      fill: #D2E3FC;\n",
              "    }\n",
              "\n",
              "    [theme=dark] .colab-df-convert:hover {\n",
              "      background-color: #434B5C;\n",
              "      box-shadow: 0px 1px 3px 1px rgba(0, 0, 0, 0.15);\n",
              "      filter: drop-shadow(0px 1px 2px rgba(0, 0, 0, 0.3));\n",
              "      fill: #FFFFFF;\n",
              "    }\n",
              "  </style>\n",
              "\n",
              "      <script>\n",
              "        const buttonEl =\n",
              "          document.querySelector('#df-45a64691-b0d5-48af-b6ab-4e0ddcba789f button.colab-df-convert');\n",
              "        buttonEl.style.display =\n",
              "          google.colab.kernel.accessAllowed ? 'block' : 'none';\n",
              "\n",
              "        async function convertToInteractive(key) {\n",
              "          const element = document.querySelector('#df-45a64691-b0d5-48af-b6ab-4e0ddcba789f');\n",
              "          const dataTable =\n",
              "            await google.colab.kernel.invokeFunction('convertToInteractive',\n",
              "                                                     [key], {});\n",
              "          if (!dataTable) return;\n",
              "\n",
              "          const docLinkHtml = 'Like what you see? Visit the ' +\n",
              "            '<a target=\"_blank\" href=https://colab.research.google.com/notebooks/data_table.ipynb>data table notebook</a>'\n",
              "            + ' to learn more about interactive tables.';\n",
              "          element.innerHTML = '';\n",
              "          dataTable['output_type'] = 'display_data';\n",
              "          await google.colab.output.renderOutput(dataTable, element);\n",
              "          const docLink = document.createElement('div');\n",
              "          docLink.innerHTML = docLinkHtml;\n",
              "          element.appendChild(docLink);\n",
              "        }\n",
              "      </script>\n",
              "    </div>\n",
              "  </div>\n",
              "  "
            ]
          },
          "metadata": {},
          "execution_count": 12
        }
      ]
    },
    {
      "cell_type": "code",
      "source": [
        "# calling the normalization() function\n",
        "X_test = normalization_test(X_test,numeric_cols)\n",
        "X_test.head()"
      ],
      "metadata": {
        "colab": {
          "base_uri": "https://localhost:8080/",
          "height": 317
        },
        "id": "EKmhgZCobPU3",
        "outputId": "73dd7068-1b9f-464e-f342-c0512550d336"
      },
      "execution_count": null,
      "outputs": [
        {
          "output_type": "execute_result",
          "data": {
            "text/plain": [
              "        proto_-  proto_arp  proto_ospf  proto_tcp  proto_udp  proto_unas  \\\n",
              "122637      0.0        0.0         0.0        1.0        0.0         0.0   \n",
              "137118      1.0        0.0         0.0        0.0        0.0         0.0   \n",
              "245289      0.0        0.0         0.0        0.0        1.0         0.0   \n",
              "221262      0.0        0.0         0.0        0.0        1.0         0.0   \n",
              "31408       0.0        0.0         0.0        1.0        0.0         0.0   \n",
              "\n",
              "        service_-  service_dns  service_ftp-data  service_http  ...  \\\n",
              "122637        1.0          0.0               0.0           0.0  ...   \n",
              "137118        1.0          0.0               0.0           0.0  ...   \n",
              "245289        0.0          1.0               0.0           0.0  ...   \n",
              "221262        0.0          1.0               0.0           0.0  ...   \n",
              "31408         0.0          0.0               0.0           1.0  ...   \n",
              "\n",
              "        ct_src_dport_ltm  ct_dst_sport_ltm  ct_dst_src_ltm  is_ftp_login  \\\n",
              "122637               1.0               1.0             1.0           0.0   \n",
              "137118               1.0               1.0             6.0           0.0   \n",
              "245289              17.0              17.0            17.0           0.0   \n",
              "221262              32.0              14.0            36.0           0.0   \n",
              "31408                1.0               1.0             1.0           0.0   \n",
              "\n",
              "        ct_ftp_cmd  ct_flw_http_mthd  ct_src_ltm  ct_srv_dst  is_sm_ips_ports  \\\n",
              "122637         0.0               0.0         3.0         4.0              0.0   \n",
              "137118         0.0               0.0         8.0         6.0              0.0   \n",
              "245289         0.0               0.0        18.0        17.0              0.0   \n",
              "221262         0.0               0.0        32.0        36.0              0.0   \n",
              "31408          0.0               1.0         1.0         2.0              0.0   \n",
              "\n",
              "        label  \n",
              "122637      0  \n",
              "137118      1  \n",
              "245289      1  \n",
              "221262      1  \n",
              "31408       0  \n",
              "\n",
              "[5 rows x 57 columns]"
            ],
            "text/html": [
              "\n",
              "  <div id=\"df-40af82f3-79f0-4d09-80f1-95fc82ad7850\">\n",
              "    <div class=\"colab-df-container\">\n",
              "      <div>\n",
              "<style scoped>\n",
              "    .dataframe tbody tr th:only-of-type {\n",
              "        vertical-align: middle;\n",
              "    }\n",
              "\n",
              "    .dataframe tbody tr th {\n",
              "        vertical-align: top;\n",
              "    }\n",
              "\n",
              "    .dataframe thead th {\n",
              "        text-align: right;\n",
              "    }\n",
              "</style>\n",
              "<table border=\"1\" class=\"dataframe\">\n",
              "  <thead>\n",
              "    <tr style=\"text-align: right;\">\n",
              "      <th></th>\n",
              "      <th>proto_-</th>\n",
              "      <th>proto_arp</th>\n",
              "      <th>proto_ospf</th>\n",
              "      <th>proto_tcp</th>\n",
              "      <th>proto_udp</th>\n",
              "      <th>proto_unas</th>\n",
              "      <th>service_-</th>\n",
              "      <th>service_dns</th>\n",
              "      <th>service_ftp-data</th>\n",
              "      <th>service_http</th>\n",
              "      <th>...</th>\n",
              "      <th>ct_src_dport_ltm</th>\n",
              "      <th>ct_dst_sport_ltm</th>\n",
              "      <th>ct_dst_src_ltm</th>\n",
              "      <th>is_ftp_login</th>\n",
              "      <th>ct_ftp_cmd</th>\n",
              "      <th>ct_flw_http_mthd</th>\n",
              "      <th>ct_src_ltm</th>\n",
              "      <th>ct_srv_dst</th>\n",
              "      <th>is_sm_ips_ports</th>\n",
              "      <th>label</th>\n",
              "    </tr>\n",
              "  </thead>\n",
              "  <tbody>\n",
              "    <tr>\n",
              "      <th>122637</th>\n",
              "      <td>0.0</td>\n",
              "      <td>0.0</td>\n",
              "      <td>0.0</td>\n",
              "      <td>1.0</td>\n",
              "      <td>0.0</td>\n",
              "      <td>0.0</td>\n",
              "      <td>1.0</td>\n",
              "      <td>0.0</td>\n",
              "      <td>0.0</td>\n",
              "      <td>0.0</td>\n",
              "      <td>...</td>\n",
              "      <td>1.0</td>\n",
              "      <td>1.0</td>\n",
              "      <td>1.0</td>\n",
              "      <td>0.0</td>\n",
              "      <td>0.0</td>\n",
              "      <td>0.0</td>\n",
              "      <td>3.0</td>\n",
              "      <td>4.0</td>\n",
              "      <td>0.0</td>\n",
              "      <td>0</td>\n",
              "    </tr>\n",
              "    <tr>\n",
              "      <th>137118</th>\n",
              "      <td>1.0</td>\n",
              "      <td>0.0</td>\n",
              "      <td>0.0</td>\n",
              "      <td>0.0</td>\n",
              "      <td>0.0</td>\n",
              "      <td>0.0</td>\n",
              "      <td>1.0</td>\n",
              "      <td>0.0</td>\n",
              "      <td>0.0</td>\n",
              "      <td>0.0</td>\n",
              "      <td>...</td>\n",
              "      <td>1.0</td>\n",
              "      <td>1.0</td>\n",
              "      <td>6.0</td>\n",
              "      <td>0.0</td>\n",
              "      <td>0.0</td>\n",
              "      <td>0.0</td>\n",
              "      <td>8.0</td>\n",
              "      <td>6.0</td>\n",
              "      <td>0.0</td>\n",
              "      <td>1</td>\n",
              "    </tr>\n",
              "    <tr>\n",
              "      <th>245289</th>\n",
              "      <td>0.0</td>\n",
              "      <td>0.0</td>\n",
              "      <td>0.0</td>\n",
              "      <td>0.0</td>\n",
              "      <td>1.0</td>\n",
              "      <td>0.0</td>\n",
              "      <td>0.0</td>\n",
              "      <td>1.0</td>\n",
              "      <td>0.0</td>\n",
              "      <td>0.0</td>\n",
              "      <td>...</td>\n",
              "      <td>17.0</td>\n",
              "      <td>17.0</td>\n",
              "      <td>17.0</td>\n",
              "      <td>0.0</td>\n",
              "      <td>0.0</td>\n",
              "      <td>0.0</td>\n",
              "      <td>18.0</td>\n",
              "      <td>17.0</td>\n",
              "      <td>0.0</td>\n",
              "      <td>1</td>\n",
              "    </tr>\n",
              "    <tr>\n",
              "      <th>221262</th>\n",
              "      <td>0.0</td>\n",
              "      <td>0.0</td>\n",
              "      <td>0.0</td>\n",
              "      <td>0.0</td>\n",
              "      <td>1.0</td>\n",
              "      <td>0.0</td>\n",
              "      <td>0.0</td>\n",
              "      <td>1.0</td>\n",
              "      <td>0.0</td>\n",
              "      <td>0.0</td>\n",
              "      <td>...</td>\n",
              "      <td>32.0</td>\n",
              "      <td>14.0</td>\n",
              "      <td>36.0</td>\n",
              "      <td>0.0</td>\n",
              "      <td>0.0</td>\n",
              "      <td>0.0</td>\n",
              "      <td>32.0</td>\n",
              "      <td>36.0</td>\n",
              "      <td>0.0</td>\n",
              "      <td>1</td>\n",
              "    </tr>\n",
              "    <tr>\n",
              "      <th>31408</th>\n",
              "      <td>0.0</td>\n",
              "      <td>0.0</td>\n",
              "      <td>0.0</td>\n",
              "      <td>1.0</td>\n",
              "      <td>0.0</td>\n",
              "      <td>0.0</td>\n",
              "      <td>0.0</td>\n",
              "      <td>0.0</td>\n",
              "      <td>0.0</td>\n",
              "      <td>1.0</td>\n",
              "      <td>...</td>\n",
              "      <td>1.0</td>\n",
              "      <td>1.0</td>\n",
              "      <td>1.0</td>\n",
              "      <td>0.0</td>\n",
              "      <td>0.0</td>\n",
              "      <td>1.0</td>\n",
              "      <td>1.0</td>\n",
              "      <td>2.0</td>\n",
              "      <td>0.0</td>\n",
              "      <td>0</td>\n",
              "    </tr>\n",
              "  </tbody>\n",
              "</table>\n",
              "<p>5 rows × 57 columns</p>\n",
              "</div>\n",
              "      <button class=\"colab-df-convert\" onclick=\"convertToInteractive('df-40af82f3-79f0-4d09-80f1-95fc82ad7850')\"\n",
              "              title=\"Convert this dataframe to an interactive table.\"\n",
              "              style=\"display:none;\">\n",
              "        \n",
              "  <svg xmlns=\"http://www.w3.org/2000/svg\" height=\"24px\"viewBox=\"0 0 24 24\"\n",
              "       width=\"24px\">\n",
              "    <path d=\"M0 0h24v24H0V0z\" fill=\"none\"/>\n",
              "    <path d=\"M18.56 5.44l.94 2.06.94-2.06 2.06-.94-2.06-.94-.94-2.06-.94 2.06-2.06.94zm-11 1L8.5 8.5l.94-2.06 2.06-.94-2.06-.94L8.5 2.5l-.94 2.06-2.06.94zm10 10l.94 2.06.94-2.06 2.06-.94-2.06-.94-.94-2.06-.94 2.06-2.06.94z\"/><path d=\"M17.41 7.96l-1.37-1.37c-.4-.4-.92-.59-1.43-.59-.52 0-1.04.2-1.43.59L10.3 9.45l-7.72 7.72c-.78.78-.78 2.05 0 2.83L4 21.41c.39.39.9.59 1.41.59.51 0 1.02-.2 1.41-.59l7.78-7.78 2.81-2.81c.8-.78.8-2.07 0-2.86zM5.41 20L4 18.59l7.72-7.72 1.47 1.35L5.41 20z\"/>\n",
              "  </svg>\n",
              "      </button>\n",
              "      \n",
              "  <style>\n",
              "    .colab-df-container {\n",
              "      display:flex;\n",
              "      flex-wrap:wrap;\n",
              "      gap: 12px;\n",
              "    }\n",
              "\n",
              "    .colab-df-convert {\n",
              "      background-color: #E8F0FE;\n",
              "      border: none;\n",
              "      border-radius: 50%;\n",
              "      cursor: pointer;\n",
              "      display: none;\n",
              "      fill: #1967D2;\n",
              "      height: 32px;\n",
              "      padding: 0 0 0 0;\n",
              "      width: 32px;\n",
              "    }\n",
              "\n",
              "    .colab-df-convert:hover {\n",
              "      background-color: #E2EBFA;\n",
              "      box-shadow: 0px 1px 2px rgba(60, 64, 67, 0.3), 0px 1px 3px 1px rgba(60, 64, 67, 0.15);\n",
              "      fill: #174EA6;\n",
              "    }\n",
              "\n",
              "    [theme=dark] .colab-df-convert {\n",
              "      background-color: #3B4455;\n",
              "      fill: #D2E3FC;\n",
              "    }\n",
              "\n",
              "    [theme=dark] .colab-df-convert:hover {\n",
              "      background-color: #434B5C;\n",
              "      box-shadow: 0px 1px 3px 1px rgba(0, 0, 0, 0.15);\n",
              "      filter: drop-shadow(0px 1px 2px rgba(0, 0, 0, 0.3));\n",
              "      fill: #FFFFFF;\n",
              "    }\n",
              "  </style>\n",
              "\n",
              "      <script>\n",
              "        const buttonEl =\n",
              "          document.querySelector('#df-40af82f3-79f0-4d09-80f1-95fc82ad7850 button.colab-df-convert');\n",
              "        buttonEl.style.display =\n",
              "          google.colab.kernel.accessAllowed ? 'block' : 'none';\n",
              "\n",
              "        async function convertToInteractive(key) {\n",
              "          const element = document.querySelector('#df-40af82f3-79f0-4d09-80f1-95fc82ad7850');\n",
              "          const dataTable =\n",
              "            await google.colab.kernel.invokeFunction('convertToInteractive',\n",
              "                                                     [key], {});\n",
              "          if (!dataTable) return;\n",
              "\n",
              "          const docLinkHtml = 'Like what you see? Visit the ' +\n",
              "            '<a target=\"_blank\" href=https://colab.research.google.com/notebooks/data_table.ipynb>data table notebook</a>'\n",
              "            + ' to learn more about interactive tables.';\n",
              "          element.innerHTML = '';\n",
              "          dataTable['output_type'] = 'display_data';\n",
              "          await google.colab.output.renderOutput(dataTable, element);\n",
              "          const docLink = document.createElement('div');\n",
              "          docLink.innerHTML = docLinkHtml;\n",
              "          element.appendChild(docLink);\n",
              "        }\n",
              "      </script>\n",
              "    </div>\n",
              "  </div>\n",
              "  "
            ]
          },
          "metadata": {},
          "execution_count": 13
        }
      ]
    },
    {
      "cell_type": "markdown",
      "metadata": {
        "id": "ZfAbEIDgz4iY"
      },
      "source": [
        "## **Linear Support Vector Machine Classifier (Binary Classification) **\n",
        "to enable make the svm_enable = 1 in the above cell"
      ]
    },
    {
      "cell_type": "code",
      "execution_count": null,
      "metadata": {
        "id": "o8GdMBjdzFQT"
      },
      "outputs": [],
      "source": [
        "if svm_enable:\n",
        "  # using kernel as linear \n",
        "  lsvm = SVC(kernel='linear',gamma='auto') \n",
        "  lsvm.fit(X_train,y_train) # training model on training dataset"
      ]
    },
    {
      "cell_type": "code",
      "execution_count": null,
      "metadata": {
        "id": "NjfYZA_9zTNK"
      },
      "outputs": [],
      "source": [
        "if svm_enable:\n",
        "  pkl_filename = \"/content/drive/MyDrive/Colab_Notebooks/Models/lsvm_binary_unsw_nb15.pkl\"\n",
        "  if (not path.isfile(pkl_filename)):\n",
        "    # saving the trained model to disk\n",
        "    with open(pkl_filename, 'wb') as file:\n",
        "      pickle.dump(lsvm, file)\n",
        "    print(\"Saved model to disk\")\n",
        "    # loading the trained model from disk\n",
        "    with open(pkl_filename, 'rb') as file:\n",
        "      lsvm = pickle.load(file)\n",
        "    print(\"Loaded model from disk\") "
      ]
    },
    {
      "cell_type": "code",
      "execution_count": null,
      "metadata": {
        "id": "xsnN51Juzgcf",
        "colab": {
          "base_uri": "https://localhost:8080/"
        },
        "outputId": "5763cff6-3b80-42ba-cd0a-052952706770"
      },
      "outputs": [
        {
          "output_type": "stream",
          "name": "stdout",
          "text": [
            "LSVM-Classifier Binary Set-Accuracy is  32.56803117092783\n"
          ]
        }
      ],
      "source": [
        "if svm_enable:\n",
        "  y_pred = lsvm.predict(X_test) # predicting target attribute on testing dataset\n",
        "  ac = accuracy_score(y_test, y_pred)*100 # calculating accuracy of predicted data\n",
        "  print(\"LSVM-Classifier Binary Set-Accuracy is \", ac)"
      ]
    },
    {
      "cell_type": "code",
      "execution_count": null,
      "metadata": {
        "id": "qg2gbJTg8NtL"
      },
      "outputs": [],
      "source": [
        "# import matplotlib.pyplot as plt\n",
        "# from sklearn.datasets import make_classification\n",
        "# from sklearn.metrics import confusion_matrix, ConfusionMatrixDisplay\n",
        "# from sklearn.model_selection import train_test_split\n",
        "# from sklearn.svm import SVC\n",
        "# X, y = make_classification(random_state=0)\n",
        "# X_train, X_test, y_train, y_test = train_test_split(X, y,\n",
        "#                                                     random_state=0)\n",
        "# cm = confusion_matrix(y_test, y_pred, labels=lsvm.classes_)\n",
        "# disp = ConfusionMatrixDisplay(confusion_matrix=cm,\n",
        "#                               display_labels=lsvm.classes_)\n",
        "# disp.plot()\n",
        "\n",
        "# plt.show()"
      ]
    },
    {
      "cell_type": "code",
      "execution_count": null,
      "metadata": {
        "id": "9IydNlzT5kx6",
        "colab": {
          "base_uri": "https://localhost:8080/",
          "height": 587
        },
        "outputId": "1a653c69-5d9f-4228-e8e3-b4e26954ac27"
      },
      "outputs": [
        {
          "output_type": "display_data",
          "data": {
            "text/plain": [
              "<Figure size 2000x800 with 1 Axes>"
            ],
            "image/png": "[encoded data removed]"
          },
          "metadata": {}
        }
      ],
      "source": [
        "if svm_enable:\n",
        "  plt.figure(figsize=(20,8))\n",
        "  plt.plot(y_pred[300:500], label=\"prediction\", linewidth=2.0,color='blue')\n",
        "  plt.plot(y_test[300:500].values, label=\"real_values\", linewidth=2.0,color='lightcoral')\n",
        "  plt.legend(loc=\"best\")\n",
        "  plt.ylim((-1,2))\n",
        "  plt.title(\"Linear SVM Binary Classification\")\n",
        "  plt.savefig('/content/drive/MyDrive/Colab_Notebooks/Plots/lsvm_real_pred_bin.png')\n",
        "  plt.show()"
      ]
    },
    {
      "cell_type": "code",
      "execution_count": null,
      "metadata": {
        "id": "s9lqoveaUBvg",
        "colab": {
          "base_uri": "https://localhost:8080/"
        },
        "outputId": "4dd0321f-08ce-4a48-e76d-8cd9081f0735"
      },
      "outputs": [
        {
          "output_type": "stream",
          "name": "stdout",
          "text": [
            "              precision    recall  f1-score   support\n",
            "\n",
            "     class 0       0.27      0.52      0.36     23243\n",
            "     class 1       0.44      0.22      0.29     41176\n",
            "\n",
            "    accuracy                           0.33     64419\n",
            "   macro avg       0.36      0.37      0.32     64419\n",
            "weighted avg       0.38      0.33      0.31     64419\n",
            "\n",
            "False Positive Rate -  [1.         0.47859571]\n",
            "False Negative Rate -  [0.         0.78480183]\n",
            "Thresholds -  [0 1]\n"
          ]
        }
      ],
      "source": [
        "if svm_enable:\n",
        "  target_names = ['class 0', 'class 1']\n",
        "  print(classification_report(y_test, y_pred, target_names=target_names))\n",
        "  fpr, fnr, thresholds = det_curve(y_test, y_pred)\n",
        "  print(\"False Positive Rate - \", fpr)\n",
        "  print(\"False Negative Rate - \", fnr)\n",
        "  print(\"Thresholds - \", thresholds)"
      ]
    },
    {
      "cell_type": "code",
      "execution_count": null,
      "metadata": {
        "id": "kWxBZhnw9t5n",
        "colab": {
          "base_uri": "https://localhost:8080/",
          "height": 449
        },
        "outputId": "0aaedbfa-8c8d-4eb5-bb43-6e5984d38749"
      },
      "outputs": [
        {
          "output_type": "display_data",
          "data": {
            "text/plain": [
              "<Figure size 640x480 with 2 Axes>"
            ],
            "image/png": "[encoded data removed]"
          },
          "metadata": {}
        }
      ],
      "source": [
        "if svm_enable:\n",
        "  from sklearn.metrics import confusion_matrix, ConfusionMatrixDisplay\n",
        "\n",
        "  clf = lsvm\n",
        "  cm = confusion_matrix(y_test, y_pred, labels=clf.classes_)\n",
        "  disp = ConfusionMatrixDisplay(confusion_matrix=cm,\n",
        "                                display_labels=clf.classes_)\n",
        "  disp.plot()\n",
        "\n",
        "  plt.show()"
      ]
    },
    {
      "cell_type": "markdown",
      "metadata": {
        "id": "PUjrwY2l0_RI"
      },
      "source": [
        "## **Multi Layer Perceptron Classifier (Binary Classification)**"
      ]
    },
    {
      "cell_type": "code",
      "execution_count": null,
      "metadata": {
        "id": "u9v5Ylpa1DHY"
      },
      "outputs": [],
      "source": [
        "if model_selection[model_flag]==\"ALL\" or model_selection[model_flag] == \"MLP\":\n",
        "  mlp = Sequential() # creating model\n",
        "\n",
        "  # adding input layer and first layer with 50 neurons\n",
        "  mlp.add(Dense(units=50, input_dim=X_train.shape[1], activation='relu'))\n",
        "  # output layer with sigmoid activation\n",
        "  mlp.add(Dense(units=1,activation='sigmoid'))"
      ]
    },
    {
      "cell_type": "code",
      "execution_count": null,
      "metadata": {
        "id": "E-9M9d0p1p8s"
      },
      "outputs": [],
      "source": [
        "if model_selection[model_flag]==\"ALL\" or model_selection[model_flag] == \"MLP\":\n",
        "  # defining loss function, optimizer, metrics and then compiling model\n",
        "  mlp.compile(loss='binary_crossentropy', optimizer='adam', metrics=['accuracy'])"
      ]
    },
    {
      "cell_type": "code",
      "execution_count": null,
      "metadata": {
        "id": "NK-1_akm1vO9",
        "colab": {
          "base_uri": "https://localhost:8080/"
        },
        "outputId": "0d4d3653-abb6-4536-c044-4f9d31a80e34"
      },
      "outputs": [
        {
          "output_type": "stream",
          "name": "stdout",
          "text": [
            "Model: \"sequential\"\n",
            "_________________________________________________________________\n",
            " Layer (type)                Output Shape              Param #   \n",
            "=================================================================\n",
            " dense (Dense)               (None, 50)                2900      \n",
            "                                                                 \n",
            " dense_1 (Dense)             (None, 1)                 51        \n",
            "                                                                 \n",
            "=================================================================\n",
            "Total params: 2,951\n",
            "Trainable params: 2,951\n",
            "Non-trainable params: 0\n",
            "_________________________________________________________________\n"
          ]
        }
      ],
      "source": [
        "if model_selection[model_flag]==\"ALL\" or model_selection[model_flag] == \"MLP\":\n",
        "  # summary of model layers\n",
        "  mlp.summary()"
      ]
    },
    {
      "cell_type": "code",
      "execution_count": null,
      "metadata": {
        "id": "UYZ4xCgp13gP",
        "colab": {
          "base_uri": "https://localhost:8080/"
        },
        "outputId": "b53de315-9237-40eb-ea87-0f524e94eeca"
      },
      "outputs": [
        {
          "output_type": "stream",
          "name": "stdout",
          "text": [
            "Epoch 1/100\n",
            "31/31 [==============================] - 6s 12ms/step - loss: 0.5128 - accuracy: 0.7515 - val_loss: 0.4330 - val_accuracy: 0.8407\n",
            "Epoch 2/100\n",
            "31/31 [==============================] - 0s 6ms/step - loss: 0.3777 - accuracy: 0.8909 - val_loss: 0.3229 - val_accuracy: 0.9344\n",
            "Epoch 3/100\n",
            "31/31 [==============================] - 0s 6ms/step - loss: 0.2776 - accuracy: 0.9522 - val_loss: 0.2314 - val_accuracy: 0.9666\n",
            "Epoch 4/100\n",
            "31/31 [==============================] - 0s 5ms/step - loss: 0.1943 - accuracy: 0.9712 - val_loss: 0.1605 - val_accuracy: 0.9731\n",
            "Epoch 5/100\n",
            "31/31 [==============================] - 0s 7ms/step - loss: 0.1373 - accuracy: 0.9819 - val_loss: 0.1150 - val_accuracy: 0.9896\n",
            "Epoch 6/100\n",
            "31/31 [==============================] - 0s 6ms/step - loss: 0.0994 - accuracy: 0.9965 - val_loss: 0.0843 - val_accuracy: 0.9986\n",
            "Epoch 7/100\n",
            "31/31 [==============================] - 0s 6ms/step - loss: 0.0739 - accuracy: 0.9989 - val_loss: 0.0637 - val_accuracy: 0.9990\n",
            "Epoch 8/100\n",
            "31/31 [==============================] - 0s 6ms/step - loss: 0.0566 - accuracy: 0.9993 - val_loss: 0.0494 - val_accuracy: 0.9994\n",
            "Epoch 9/100\n",
            "31/31 [==============================] - 0s 6ms/step - loss: 0.0444 - accuracy: 0.9996 - val_loss: 0.0392 - val_accuracy: 0.9996\n",
            "Epoch 10/100\n",
            "31/31 [==============================] - 0s 7ms/step - loss: 0.0355 - accuracy: 0.9998 - val_loss: 0.0317 - val_accuracy: 0.9997\n",
            "Epoch 11/100\n",
            "31/31 [==============================] - 0s 7ms/step - loss: 0.0290 - accuracy: 0.9998 - val_loss: 0.0261 - val_accuracy: 0.9997\n",
            "Epoch 12/100\n",
            "31/31 [==============================] - 0s 6ms/step - loss: 0.0239 - accuracy: 0.9998 - val_loss: 0.0217 - val_accuracy: 0.9997\n",
            "Epoch 13/100\n",
            "31/31 [==============================] - 0s 6ms/step - loss: 0.0200 - accuracy: 0.9998 - val_loss: 0.0183 - val_accuracy: 0.9997\n",
            "Epoch 14/100\n",
            "31/31 [==============================] - 0s 6ms/step - loss: 0.0170 - accuracy: 0.9998 - val_loss: 0.0156 - val_accuracy: 0.9997\n",
            "Epoch 15/100\n",
            "31/31 [==============================] - 0s 5ms/step - loss: 0.0145 - accuracy: 0.9998 - val_loss: 0.0134 - val_accuracy: 0.9997\n",
            "Epoch 16/100\n",
            "31/31 [==============================] - 0s 9ms/step - loss: 0.0125 - accuracy: 0.9998 - val_loss: 0.0116 - val_accuracy: 0.9997\n",
            "Epoch 17/100\n",
            "31/31 [==============================] - 0s 9ms/step - loss: 0.0109 - accuracy: 0.9998 - val_loss: 0.0102 - val_accuracy: 0.9997\n",
            "Epoch 18/100\n",
            "31/31 [==============================] - 0s 10ms/step - loss: 0.0095 - accuracy: 0.9998 - val_loss: 0.0089 - val_accuracy: 0.9997\n",
            "Epoch 19/100\n",
            "31/31 [==============================] - 0s 9ms/step - loss: 0.0084 - accuracy: 0.9998 - val_loss: 0.0079 - val_accuracy: 0.9997\n",
            "Epoch 20/100\n",
            "31/31 [==============================] - 0s 9ms/step - loss: 0.0075 - accuracy: 0.9998 - val_loss: 0.0070 - val_accuracy: 0.9998\n",
            "Epoch 21/100\n",
            "31/31 [==============================] - 0s 8ms/step - loss: 0.0066 - accuracy: 0.9999 - val_loss: 0.0063 - val_accuracy: 0.9998\n",
            "Epoch 22/100\n",
            "31/31 [==============================] - 0s 8ms/step - loss: 0.0059 - accuracy: 0.9999 - val_loss: 0.0056 - val_accuracy: 0.9999\n",
            "Epoch 23/100\n",
            "31/31 [==============================] - 0s 8ms/step - loss: 0.0054 - accuracy: 1.0000 - val_loss: 0.0051 - val_accuracy: 1.0000\n",
            "Epoch 24/100\n",
            "31/31 [==============================] - 0s 9ms/step - loss: 0.0048 - accuracy: 1.0000 - val_loss: 0.0046 - val_accuracy: 1.0000\n",
            "Epoch 25/100\n",
            "31/31 [==============================] - 0s 9ms/step - loss: 0.0044 - accuracy: 1.0000 - val_loss: 0.0042 - val_accuracy: 1.0000\n",
            "Epoch 26/100\n",
            "31/31 [==============================] - 0s 8ms/step - loss: 0.0040 - accuracy: 1.0000 - val_loss: 0.0038 - val_accuracy: 1.0000\n",
            "Epoch 27/100\n",
            "31/31 [==============================] - 0s 9ms/step - loss: 0.0036 - accuracy: 1.0000 - val_loss: 0.0035 - val_accuracy: 1.0000\n",
            "Epoch 28/100\n",
            "31/31 [==============================] - 0s 8ms/step - loss: 0.0033 - accuracy: 1.0000 - val_loss: 0.0032 - val_accuracy: 1.0000\n",
            "Epoch 29/100\n",
            "31/31 [==============================] - 0s 7ms/step - loss: 0.0030 - accuracy: 1.0000 - val_loss: 0.0029 - val_accuracy: 1.0000\n",
            "Epoch 30/100\n",
            "31/31 [==============================] - 0s 6ms/step - loss: 0.0027 - accuracy: 1.0000 - val_loss: 0.0026 - val_accuracy: 1.0000\n",
            "Epoch 31/100\n",
            "31/31 [==============================] - 0s 6ms/step - loss: 0.0025 - accuracy: 1.0000 - val_loss: 0.0024 - val_accuracy: 1.0000\n",
            "Epoch 32/100\n",
            "31/31 [==============================] - 0s 6ms/step - loss: 0.0023 - accuracy: 1.0000 - val_loss: 0.0022 - val_accuracy: 1.0000\n",
            "Epoch 33/100\n",
            "31/31 [==============================] - 0s 6ms/step - loss: 0.0021 - accuracy: 1.0000 - val_loss: 0.0021 - val_accuracy: 1.0000\n",
            "Epoch 34/100\n",
            "31/31 [==============================] - 0s 6ms/step - loss: 0.0020 - accuracy: 1.0000 - val_loss: 0.0019 - val_accuracy: 1.0000\n",
            "Epoch 35/100\n",
            "31/31 [==============================] - 0s 6ms/step - loss: 0.0018 - accuracy: 1.0000 - val_loss: 0.0018 - val_accuracy: 1.0000\n",
            "Epoch 36/100\n",
            "31/31 [==============================] - 0s 6ms/step - loss: 0.0017 - accuracy: 1.0000 - val_loss: 0.0017 - val_accuracy: 1.0000\n",
            "Epoch 37/100\n",
            "31/31 [==============================] - 0s 6ms/step - loss: 0.0016 - accuracy: 1.0000 - val_loss: 0.0015 - val_accuracy: 1.0000\n",
            "Epoch 38/100\n",
            "31/31 [==============================] - 0s 6ms/step - loss: 0.0015 - accuracy: 1.0000 - val_loss: 0.0014 - val_accuracy: 1.0000\n",
            "Epoch 39/100\n",
            "31/31 [==============================] - 0s 6ms/step - loss: 0.0014 - accuracy: 1.0000 - val_loss: 0.0013 - val_accuracy: 1.0000\n",
            "Epoch 40/100\n",
            "31/31 [==============================] - 0s 6ms/step - loss: 0.0013 - accuracy: 1.0000 - val_loss: 0.0013 - val_accuracy: 1.0000\n",
            "Epoch 41/100\n",
            "31/31 [==============================] - 0s 6ms/step - loss: 0.0012 - accuracy: 1.0000 - val_loss: 0.0012 - val_accuracy: 1.0000\n",
            "Epoch 42/100\n",
            "31/31 [==============================] - 0s 6ms/step - loss: 0.0011 - accuracy: 1.0000 - val_loss: 0.0011 - val_accuracy: 1.0000\n",
            "Epoch 43/100\n",
            "31/31 [==============================] - 0s 7ms/step - loss: 0.0011 - accuracy: 1.0000 - val_loss: 0.0010 - val_accuracy: 1.0000\n",
            "Epoch 44/100\n",
            "31/31 [==============================] - 0s 6ms/step - loss: 9.8480e-04 - accuracy: 1.0000 - val_loss: 9.6463e-04 - val_accuracy: 1.0000\n",
            "Epoch 45/100\n",
            "31/31 [==============================] - 0s 6ms/step - loss: 9.2478e-04 - accuracy: 1.0000 - val_loss: 9.0738e-04 - val_accuracy: 1.0000\n",
            "Epoch 46/100\n",
            "31/31 [==============================] - 0s 6ms/step - loss: 8.7041e-04 - accuracy: 1.0000 - val_loss: 8.5509e-04 - val_accuracy: 1.0000\n",
            "Epoch 47/100\n",
            "31/31 [==============================] - 0s 6ms/step - loss: 8.2072e-04 - accuracy: 1.0000 - val_loss: 8.0737e-04 - val_accuracy: 1.0000\n",
            "Epoch 48/100\n",
            "31/31 [==============================] - 0s 6ms/step - loss: 7.7506e-04 - accuracy: 1.0000 - val_loss: 7.6336e-04 - val_accuracy: 1.0000\n",
            "Epoch 49/100\n",
            "31/31 [==============================] - 0s 6ms/step - loss: 7.3309e-04 - accuracy: 1.0000 - val_loss: 7.2268e-04 - val_accuracy: 1.0000\n",
            "Epoch 50/100\n",
            "31/31 [==============================] - 0s 6ms/step - loss: 6.9427e-04 - accuracy: 1.0000 - val_loss: 6.8490e-04 - val_accuracy: 1.0000\n",
            "Epoch 51/100\n",
            "31/31 [==============================] - 0s 6ms/step - loss: 6.5823e-04 - accuracy: 1.0000 - val_loss: 6.5022e-04 - val_accuracy: 1.0000\n",
            "Epoch 52/100\n",
            "31/31 [==============================] - 0s 6ms/step - loss: 6.2487e-04 - accuracy: 1.0000 - val_loss: 6.1751e-04 - val_accuracy: 1.0000\n",
            "Epoch 53/100\n",
            "31/31 [==============================] - 0s 7ms/step - loss: 5.9369e-04 - accuracy: 1.0000 - val_loss: 5.8743e-04 - val_accuracy: 1.0000\n",
            "Epoch 54/100\n",
            "31/31 [==============================] - 0s 6ms/step - loss: 5.6462e-04 - accuracy: 1.0000 - val_loss: 5.5901e-04 - val_accuracy: 1.0000\n",
            "Epoch 55/100\n",
            "31/31 [==============================] - 0s 6ms/step - loss: 5.3748e-04 - accuracy: 1.0000 - val_loss: 5.3276e-04 - val_accuracy: 1.0000\n",
            "Epoch 56/100\n",
            "31/31 [==============================] - 0s 6ms/step - loss: 5.1213e-04 - accuracy: 1.0000 - val_loss: 5.0781e-04 - val_accuracy: 1.0000\n",
            "Epoch 57/100\n",
            "31/31 [==============================] - 0s 7ms/step - loss: 4.8827e-04 - accuracy: 1.0000 - val_loss: 4.8454e-04 - val_accuracy: 1.0000\n",
            "Epoch 58/100\n",
            "31/31 [==============================] - 0s 7ms/step - loss: 4.6596e-04 - accuracy: 1.0000 - val_loss: 4.6283e-04 - val_accuracy: 1.0000\n",
            "Epoch 59/100\n",
            "31/31 [==============================] - 0s 6ms/step - loss: 4.4499e-04 - accuracy: 1.0000 - val_loss: 4.4237e-04 - val_accuracy: 1.0000\n",
            "Epoch 60/100\n",
            "31/31 [==============================] - 0s 8ms/step - loss: 4.2530e-04 - accuracy: 1.0000 - val_loss: 4.2301e-04 - val_accuracy: 1.0000\n",
            "Epoch 61/100\n",
            "31/31 [==============================] - 0s 6ms/step - loss: 4.0670e-04 - accuracy: 1.0000 - val_loss: 4.0481e-04 - val_accuracy: 1.0000\n",
            "Epoch 62/100\n",
            "31/31 [==============================] - 0s 6ms/step - loss: 3.8921e-04 - accuracy: 1.0000 - val_loss: 3.8773e-04 - val_accuracy: 1.0000\n",
            "Epoch 63/100\n",
            "31/31 [==============================] - 0s 7ms/step - loss: 3.7271e-04 - accuracy: 1.0000 - val_loss: 3.7156e-04 - val_accuracy: 1.0000\n",
            "Epoch 64/100\n",
            "31/31 [==============================] - 0s 6ms/step - loss: 3.5714e-04 - accuracy: 1.0000 - val_loss: 3.5628e-04 - val_accuracy: 1.0000\n",
            "Epoch 65/100\n",
            "31/31 [==============================] - 0s 7ms/step - loss: 3.4242e-04 - accuracy: 1.0000 - val_loss: 3.4178e-04 - val_accuracy: 1.0000\n",
            "Epoch 66/100\n",
            "31/31 [==============================] - 0s 6ms/step - loss: 3.2851e-04 - accuracy: 1.0000 - val_loss: 3.2814e-04 - val_accuracy: 1.0000\n",
            "Epoch 67/100\n",
            "31/31 [==============================] - 0s 6ms/step - loss: 3.1532e-04 - accuracy: 1.0000 - val_loss: 3.1518e-04 - val_accuracy: 1.0000\n",
            "Epoch 68/100\n",
            "31/31 [==============================] - 0s 5ms/step - loss: 3.0283e-04 - accuracy: 1.0000 - val_loss: 3.0291e-04 - val_accuracy: 1.0000\n",
            "Epoch 69/100\n",
            "31/31 [==============================] - 0s 7ms/step - loss: 2.9101e-04 - accuracy: 1.0000 - val_loss: 2.9127e-04 - val_accuracy: 1.0000\n",
            "Epoch 70/100\n",
            "31/31 [==============================] - 0s 6ms/step - loss: 2.7976e-04 - accuracy: 1.0000 - val_loss: 2.8021e-04 - val_accuracy: 1.0000\n",
            "Epoch 71/100\n",
            "31/31 [==============================] - 0s 6ms/step - loss: 2.6908e-04 - accuracy: 1.0000 - val_loss: 2.6970e-04 - val_accuracy: 1.0000\n",
            "Epoch 72/100\n",
            "31/31 [==============================] - 0s 6ms/step - loss: 2.5894e-04 - accuracy: 1.0000 - val_loss: 2.5970e-04 - val_accuracy: 1.0000\n",
            "Epoch 73/100\n",
            "31/31 [==============================] - 0s 6ms/step - loss: 2.4929e-04 - accuracy: 1.0000 - val_loss: 2.5010e-04 - val_accuracy: 1.0000\n",
            "Epoch 74/100\n",
            "31/31 [==============================] - 0s 6ms/step - loss: 2.4012e-04 - accuracy: 1.0000 - val_loss: 2.4109e-04 - val_accuracy: 1.0000\n",
            "Epoch 75/100\n",
            "31/31 [==============================] - 0s 7ms/step - loss: 2.3138e-04 - accuracy: 1.0000 - val_loss: 2.3246e-04 - val_accuracy: 1.0000\n",
            "Epoch 76/100\n",
            "31/31 [==============================] - 0s 7ms/step - loss: 2.2305e-04 - accuracy: 1.0000 - val_loss: 2.2419e-04 - val_accuracy: 1.0000\n",
            "Epoch 77/100\n",
            "31/31 [==============================] - 0s 6ms/step - loss: 2.1510e-04 - accuracy: 1.0000 - val_loss: 2.1632e-04 - val_accuracy: 1.0000\n",
            "Epoch 78/100\n",
            "31/31 [==============================] - 0s 7ms/step - loss: 2.0751e-04 - accuracy: 1.0000 - val_loss: 2.0885e-04 - val_accuracy: 1.0000\n",
            "Epoch 79/100\n",
            "31/31 [==============================] - 0s 7ms/step - loss: 2.0028e-04 - accuracy: 1.0000 - val_loss: 2.0173e-04 - val_accuracy: 1.0000\n",
            "Epoch 80/100\n",
            "31/31 [==============================] - 0s 9ms/step - loss: 1.9338e-04 - accuracy: 1.0000 - val_loss: 1.9483e-04 - val_accuracy: 1.0000\n",
            "Epoch 81/100\n",
            "31/31 [==============================] - 0s 9ms/step - loss: 1.8674e-04 - accuracy: 1.0000 - val_loss: 1.8829e-04 - val_accuracy: 1.0000\n",
            "Epoch 82/100\n",
            "31/31 [==============================] - 0s 8ms/step - loss: 1.8043e-04 - accuracy: 1.0000 - val_loss: 1.8197e-04 - val_accuracy: 1.0000\n",
            "Epoch 83/100\n",
            "31/31 [==============================] - 0s 10ms/step - loss: 1.7437e-04 - accuracy: 1.0000 - val_loss: 1.7600e-04 - val_accuracy: 1.0000\n",
            "Epoch 84/100\n",
            "31/31 [==============================] - 0s 8ms/step - loss: 1.6858e-04 - accuracy: 1.0000 - val_loss: 1.7021e-04 - val_accuracy: 1.0000\n",
            "Epoch 85/100\n",
            "31/31 [==============================] - 0s 8ms/step - loss: 1.6303e-04 - accuracy: 1.0000 - val_loss: 1.6475e-04 - val_accuracy: 1.0000\n",
            "Epoch 86/100\n",
            "31/31 [==============================] - 0s 8ms/step - loss: 1.5772e-04 - accuracy: 1.0000 - val_loss: 1.5941e-04 - val_accuracy: 1.0000\n",
            "Epoch 87/100\n",
            "31/31 [==============================] - 0s 10ms/step - loss: 1.5261e-04 - accuracy: 1.0000 - val_loss: 1.5435e-04 - val_accuracy: 1.0000\n",
            "Epoch 88/100\n",
            "31/31 [==============================] - 0s 8ms/step - loss: 1.4772e-04 - accuracy: 1.0000 - val_loss: 1.4948e-04 - val_accuracy: 1.0000\n",
            "Epoch 89/100\n",
            "31/31 [==============================] - 0s 9ms/step - loss: 1.4303e-04 - accuracy: 1.0000 - val_loss: 1.4480e-04 - val_accuracy: 1.0000\n",
            "Epoch 90/100\n",
            "31/31 [==============================] - 0s 8ms/step - loss: 1.3852e-04 - accuracy: 1.0000 - val_loss: 1.4031e-04 - val_accuracy: 1.0000\n",
            "Epoch 91/100\n",
            "31/31 [==============================] - 0s 9ms/step - loss: 1.3420e-04 - accuracy: 1.0000 - val_loss: 1.3598e-04 - val_accuracy: 1.0000\n",
            "Epoch 92/100\n",
            "31/31 [==============================] - 0s 8ms/step - loss: 1.3004e-04 - accuracy: 1.0000 - val_loss: 1.3185e-04 - val_accuracy: 1.0000\n",
            "Epoch 93/100\n",
            "31/31 [==============================] - 0s 7ms/step - loss: 1.2604e-04 - accuracy: 1.0000 - val_loss: 1.2788e-04 - val_accuracy: 1.0000\n",
            "Epoch 94/100\n",
            "31/31 [==============================] - 0s 6ms/step - loss: 1.2220e-04 - accuracy: 1.0000 - val_loss: 1.2401e-04 - val_accuracy: 1.0000\n",
            "Epoch 95/100\n",
            "31/31 [==============================] - 0s 7ms/step - loss: 1.1850e-04 - accuracy: 1.0000 - val_loss: 1.2031e-04 - val_accuracy: 1.0000\n",
            "Epoch 96/100\n",
            "31/31 [==============================] - 0s 6ms/step - loss: 1.1494e-04 - accuracy: 1.0000 - val_loss: 1.1681e-04 - val_accuracy: 1.0000\n",
            "Epoch 97/100\n",
            "31/31 [==============================] - 0s 6ms/step - loss: 1.1152e-04 - accuracy: 1.0000 - val_loss: 1.1334e-04 - val_accuracy: 1.0000\n",
            "Epoch 98/100\n",
            "31/31 [==============================] - 0s 6ms/step - loss: 1.0821e-04 - accuracy: 1.0000 - val_loss: 1.1004e-04 - val_accuracy: 1.0000\n",
            "Epoch 99/100\n",
            "31/31 [==============================] - 0s 6ms/step - loss: 1.0504e-04 - accuracy: 1.0000 - val_loss: 1.0685e-04 - val_accuracy: 1.0000\n",
            "Epoch 100/100\n",
            "31/31 [==============================] - 0s 6ms/step - loss: 1.0197e-04 - accuracy: 1.0000 - val_loss: 1.0381e-04 - val_accuracy: 1.0000\n"
          ]
        }
      ],
      "source": [
        "if model_selection[model_flag]==\"ALL\" or model_selection[model_flag] == \"MLP\":\n",
        "  # training the model on training dataset\n",
        "  history = mlp.fit(X_train, y_train, epochs=100, batch_size=5000,validation_split=0.2)"
      ]
    },
    {
      "cell_type": "code",
      "execution_count": null,
      "metadata": {
        "id": "_n_gNs3p1_M-"
      },
      "outputs": [],
      "source": [
        "if model_selection[model_flag]==\"ALL\" or model_selection[model_flag] == \"MLP\":\n",
        "  filepath = '/content/drive/MyDrive/Colab_Notebooks/Models/mlp_binary.json'\n",
        "  weightspath = '/content/drive/MyDrive/Colab_Notebooks/Weights/mlp_binary.h5'\n",
        "  if (not path.isfile(filepath)):\n",
        "    # serialize model to JSON\n",
        "    mlp_json = mlp.to_json()\n",
        "    with open(filepath, \"w\") as json_file:\n",
        "      json_file.write(mlp_json)\n",
        "\n",
        "    # serialize weights to HDF5\n",
        "    mlp.save_weights(weightspath)\n",
        "    print(\"Saved model to disk\")\n",
        "\n",
        "    # load json and create model\n",
        "    json_file = open(filepath, 'r')\n",
        "    loaded_model_json = json_file.read()\n",
        "    json_file.close()\n",
        "    mlp = model_from_json(loaded_model_json)\n",
        "\n",
        "    # load weights into new model\n",
        "    mlp.load_weights(weightspath)\n",
        "    print(\"Loaded model from disk\")"
      ]
    },
    {
      "cell_type": "code",
      "execution_count": null,
      "metadata": {
        "id": "G99OrVcT2JON"
      },
      "outputs": [],
      "source": [
        "if model_selection[model_flag]==\"ALL\" or model_selection[model_flag] == \"MLP\":\n",
        "  # defining loss function, optimizer, metrics and then compiling model\n",
        "  mlp.compile(loss='binary_crossentropy', optimizer='adam', metrics=['accuracy'])"
      ]
    },
    {
      "cell_type": "code",
      "execution_count": null,
      "metadata": {
        "id": "AXUA0T2N2OIB",
        "colab": {
          "base_uri": "https://localhost:8080/"
        },
        "outputId": "5a44fc0c-2944-4cdf-f924-dd69581cecea"
      },
      "outputs": [
        {
          "output_type": "stream",
          "name": "stdout",
          "text": [
            "2014/2014 [==============================] - 4s 2ms/step - loss: 138119968.0000 - accuracy: 0.7121\n",
            "Test results - Loss: 138119968.0 - Accuracy: 71.20569944381714\n"
          ]
        }
      ],
      "source": [
        "if model_selection[model_flag]==\"ALL\" or model_selection[model_flag] == \"MLP\":\n",
        "  # predicting target attribute on testing dataset\n",
        "  test_results = mlp.evaluate(X_test, y_test, verbose=1)\n",
        "  print(f'Test results - Loss: {test_results[0]} - Accuracy: {test_results[1]*100}')"
      ]
    },
    {
      "cell_type": "code",
      "execution_count": null,
      "metadata": {
        "id": "StFTrhE65_-q",
        "colab": {
          "base_uri": "https://localhost:8080/",
          "height": 472
        },
        "outputId": "124477e1-f43b-4772-c3a1-fc6b89ab0e21"
      },
      "outputs": [
        {
          "output_type": "display_data",
          "data": {
            "text/plain": [
              "<Figure size 640x480 with 1 Axes>"
            ],
            "image/png": "[encoded data removed]"
          },
          "metadata": {}
        }
      ],
      "source": [
        "if model_selection[model_flag]==\"ALL\" or model_selection[model_flag] == \"MLP\":  \n",
        "  # Plot of accuracy vs epoch of train and test dataset\n",
        "  plt.plot(history.history['accuracy'])\n",
        "  plt.plot(history.history['val_accuracy'])\n",
        "  plt.title(\"Plot of accuracy vs epoch for train and test dataset\")\n",
        "  plt.ylabel('accuracy')\n",
        "  plt.xlabel('epoch')\n",
        "  plt.legend(['train', 'test'], loc='best')\n",
        "  plt.savefig('/content/drive/MyDrive/Colab_Notebooks/Plots/mlp_binary_accuracy.png')\n",
        "  plt.show()"
      ]
    },
    {
      "cell_type": "code",
      "execution_count": null,
      "metadata": {
        "id": "rZes4PzY6JUq",
        "colab": {
          "base_uri": "https://localhost:8080/",
          "height": 472
        },
        "outputId": "8965e7cb-7156-43ab-829c-89f706c6f023"
      },
      "outputs": [
        {
          "output_type": "display_data",
          "data": {
            "text/plain": [
              "<Figure size 640x480 with 1 Axes>"
            ],
            "image/png": "[encoded data removed]"
          },
          "metadata": {}
        }
      ],
      "source": [
        "if model_selection[model_flag]==\"ALL\" or model_selection[model_flag] == \"MLP\":\n",
        "  # Plot of loss vs epoch of train and test dataset\n",
        "  plt.plot(history.history['loss'])\n",
        "  plt.plot(history.history['val_loss'])\n",
        "  plt.title('Plot of loss vs epoch for train and test dataset')\n",
        "  plt.ylabel('loss')\n",
        "  plt.xlabel('epoch')\n",
        "  plt.legend(['train', 'test'], loc='best')\n",
        "  plt.savefig('/content/drive/MyDrive/Colab_Notebooks/Plots/mlp_binary_loss.png')\n",
        "  plt.show()"
      ]
    },
    {
      "cell_type": "code",
      "execution_count": null,
      "metadata": {
        "id": "mC0nj-on6iRU"
      },
      "outputs": [],
      "source": [
        "if model_selection[model_flag]==\"ALL\" or model_selection[model_flag] == \"MLP\":\n",
        "  # representation of model layers\n",
        "  from keras.utils.vis_utils import plot_model\n",
        "  plot_model(mlp, to_file='/content/drive/MyDrive/Colab_Notebooks/Plots/mlp_binary.png', show_shapes=True,)"
      ]
    },
    {
      "cell_type": "code",
      "execution_count": null,
      "metadata": {
        "id": "oxHdln0c6Xi_",
        "colab": {
          "base_uri": "https://localhost:8080/"
        },
        "outputId": "ae66f1d7-9604-43f7-c672-620712c15c01"
      },
      "outputs": [
        {
          "output_type": "stream",
          "name": "stdout",
          "text": [
            "2014/2014 [==============================] - 4s 2ms/step\n"
          ]
        }
      ],
      "source": [
        "if model_selection[model_flag]==\"ALL\" or model_selection[model_flag] == \"MLP\":\n",
        "  y_pred = mlp.predict(X_test).ravel()\n",
        "  fpr, tpr, thresholds = roc_curve(y_test, y_pred)\n",
        "  auc = auc(fpr, tpr)"
      ]
    },
    {
      "cell_type": "code",
      "execution_count": null,
      "metadata": {
        "id": "Cr36q9Z-6aRU",
        "colab": {
          "base_uri": "https://localhost:8080/",
          "height": 472
        },
        "outputId": "582097e2-ecf4-475c-935e-5ef987be286b"
      },
      "outputs": [
        {
          "output_type": "display_data",
          "data": {
            "text/plain": [
              "<Figure size 640x480 with 1 Axes>"
            ],
            "image/png": "[encoded data removed]"
          },
          "metadata": {}
        }
      ],
      "source": [
        "if model_selection[model_flag]==\"ALL\" or model_selection[model_flag] == \"MLP\":\n",
        "  plt.plot([0, 1], [0, 1], 'k--')\n",
        "  plt.plot(fpr, tpr, label='Keras (area = {:.3f})'.format(auc))\n",
        "  plt.xlabel('False positive rate')\n",
        "  plt.ylabel('True positive rate')\n",
        "  plt.title('ROC curve')\n",
        "  plt.legend(loc='best')\n",
        "  plt.savefig('/content/drive/MyDrive/Colab_Notebooks/Plots/mlp_binary_roc.png')\n",
        "  plt.show()"
      ]
    },
    {
      "cell_type": "code",
      "execution_count": null,
      "metadata": {
        "id": "U9f2bWPwFljk"
      },
      "outputs": [],
      "source": [
        "# real_data_kdd = bin_data.copy()\n",
        "\n",
        "# # Names of the columns that are discrete\n",
        "# cat_cols = real_data_kdd.select_dtypes(['object']).columns\n",
        "# # cat_cols\n",
        "# test_data = real_data_kdd.iloc[:999]\n",
        "\n",
        "# corr= test_data.corr()\n",
        "# corr_y = abs(corr['label'])\n",
        "# highest_corr = corr_y\n",
        "# highest_corr.sort_values(ascending=True)"
      ]
    },
    {
      "cell_type": "code",
      "execution_count": null,
      "metadata": {
        "id": "8-clVdUoUPa-",
        "colab": {
          "base_uri": "https://localhost:8080/"
        },
        "outputId": "95653fb3-d4c4-41f5-f995-0ec0e2fa0e17"
      },
      "outputs": [
        {
          "output_type": "stream",
          "name": "stdout",
          "text": [
            "2014/2014 [==============================] - 3s 1ms/step\n"
          ]
        }
      ],
      "source": [
        "if model_selection[model_flag]==\"ALL\" or model_selection[model_flag] == \"MLP\":\n",
        "  y_classes = (mlp.predict(X_test)>0.5).astype('int32')"
      ]
    },
    {
      "cell_type": "code",
      "execution_count": null,
      "metadata": {
        "id": "0jcFqEqFT-uq",
        "colab": {
          "base_uri": "https://localhost:8080/"
        },
        "outputId": "ce266f4a-4972-4ec6-8cf1-1a4dbe97ece2"
      },
      "outputs": [
        {
          "output_type": "stream",
          "name": "stdout",
          "text": [
            "Recall Score -  0.9930056343501069\n",
            "F1 Score -  0.8151108896087715\n",
            "Precision Score -  0.6912711964699318\n"
          ]
        }
      ],
      "source": [
        "if model_selection[model_flag]==\"ALL\" or model_selection[model_flag] == \"MLP\":\n",
        "  print(\"Recall Score - \",recall_score(y_test,y_classes))\n",
        "  print(\"F1 Score - \",f1_score(y_test,y_classes))\n",
        "  print(\"Precision Score - \",precision_score(y_test,y_classes))\n",
        "  fpr, fnr, thresholds = det_curve(y_test, y_classes)\n",
        "  print(\"False Positive Rate - \", fpr)\n",
        "  print(\"False Negative Rate - \", fnr)\n",
        "  print(\"Thresholds - \", thresholds)"
      ]
    },
    {
      "cell_type": "code",
      "source": [
        "print(classification_report(y_test, y_classes, target_names=['0', '1']))\n",
        "cm = confusion_matrix(y_test, y_classes)\n",
        "disp = ConfusionMatrixDisplay(confusion_matrix=cm,\n",
        "                              display_labels=['0', '1'])\n",
        "disp.plot()\n",
        "\n",
        "plt.show()"
      ],
      "metadata": {
        "id": "3HJB6IXJsxjg",
        "colab": {
          "base_uri": "https://localhost:8080/",
          "height": 610
        },
        "outputId": "0d1f9f3c-45d8-4c26-a1e7-4316788d1814"
      },
      "execution_count": null,
      "outputs": [
        {
          "output_type": "stream",
          "name": "stdout",
          "text": [
            "              precision    recall  f1-score   support\n",
            "\n",
            "           0       0.95      0.21      0.35     23243\n",
            "           1       0.69      0.99      0.82     41176\n",
            "\n",
            "    accuracy                           0.71     64419\n",
            "   macro avg       0.82      0.60      0.58     64419\n",
            "weighted avg       0.78      0.71      0.65     64419\n",
            "\n"
          ]
        },
        {
          "output_type": "display_data",
          "data": {
            "text/plain": [
              "<Figure size 640x480 with 2 Axes>"
            ],
            "image/png": "[encoded data removed]"
          },
          "metadata": {}
        }
      ]
    },
    {
      "cell_type": "markdown",
      "source": [
        "# **Correlation** Matrix of Features"
      ],
      "metadata": {
        "id": "j7BKdCwqs2RE"
      }
    },
    {
      "cell_type": "code",
      "execution_count": null,
      "metadata": {
        "id": "TL8zt-tHLt90",
        "colab": {
          "base_uri": "https://localhost:8080/"
        },
        "outputId": "84658ff4-7cfe-4ffa-adfc-5b5e01dedf6a"
      },
      "outputs": [
        {
          "output_type": "execute_result",
          "data": {
            "text/plain": [
              "state_FIN           0.309305\n",
              "ct_src_dport_ltm    0.318518\n",
              "rate                0.335883\n",
              "dwin                0.339166\n",
              "state_CON           0.345195\n",
              "dload               0.352169\n",
              "swin                0.364877\n",
              "proto_tcp           0.364981\n",
              "ct_dst_sport_ltm    0.371672\n",
              "ct_state_ttl        0.476559\n",
              "state_INT           0.516735\n",
              "sttl                0.624082\n",
              "label               1.000000\n",
              "Name: label, dtype: float64"
            ]
          },
          "metadata": {},
          "execution_count": 38
        }
      ],
      "source": [
        "corr= bin_data.corr()\n",
        "corr_y = abs(corr['label'])\n",
        "highest_corr = corr_y[corr_y >0.3]\n",
        "highest_corr.sort_values(ascending=True)"
      ]
    },
    {
      "cell_type": "code",
      "source": [
        "plt.matshow(corr)\n",
        "plt.show()"
      ],
      "metadata": {
        "colab": {
          "base_uri": "https://localhost:8080/",
          "height": 437
        },
        "id": "q4b094WVtQQ7",
        "outputId": "9891e96b-af37-48b3-87c4-c170f217e11a"
      },
      "execution_count": null,
      "outputs": [
        {
          "output_type": "display_data",
          "data": {
            "text/plain": [
              "<Figure size 480x480 with 1 Axes>"
            ],
            "image/png": "[encoded data removed]"
          },
          "metadata": {}
        }
      ]
    },
    {
      "cell_type": "markdown",
      "metadata": {
        "id": "ZHhtNjFLPj6Y"
      },
      "source": [
        "## **LSTM Classifier**"
      ]
    },
    {
      "cell_type": "code",
      "execution_count": null,
      "metadata": {
        "id": "DTNPkQMNL5Eh",
        "colab": {
          "base_uri": "https://localhost:8080/"
        },
        "outputId": "7a3be153-b285-489a-82e8-990313ca97c2"
      },
      "outputs": [
        {
          "output_type": "execute_result",
          "data": {
            "text/plain": [
              "(193254, 57)"
            ]
          },
          "metadata": {},
          "execution_count": 40
        }
      ],
      "source": [
        "X_train = np.array(X_train)\n",
        "X_test = np.array(X_test)\n",
        "# y_train.shape   #(18896,)\n",
        "X_train.shape"
      ]
    },
    {
      "cell_type": "code",
      "execution_count": null,
      "metadata": {
        "id": "9n-QlBDXPMl4",
        "colab": {
          "base_uri": "https://localhost:8080/"
        },
        "outputId": "4fd6dec8-83c3-4430-dbf8-43429864a361"
      },
      "outputs": [
        {
          "output_type": "execute_result",
          "data": {
            "text/plain": [
              "numpy.ndarray"
            ]
          },
          "metadata": {},
          "execution_count": 41
        }
      ],
      "source": [
        "y_train = np.array(y_train)\n",
        "type(y_train)"
      ]
    },
    {
      "cell_type": "code",
      "execution_count": null,
      "metadata": {
        "id": "-8Ro_ZRQPdZz",
        "colab": {
          "base_uri": "https://localhost:8080/"
        },
        "outputId": "069406f7-3f97-4dbd-9bfb-69fe6410bea5"
      },
      "outputs": [
        {
          "output_type": "execute_result",
          "data": {
            "text/plain": [
              "(193254, 1, 57)"
            ]
          },
          "metadata": {},
          "execution_count": 42
        }
      ],
      "source": [
        "x_train = np.reshape(X_train, (X_train.shape[0],1,X_train.shape[1]))\n",
        "x_train.shape"
      ]
    },
    {
      "cell_type": "code",
      "source": [
        "x_train.shape[2]"
      ],
      "metadata": {
        "colab": {
          "base_uri": "https://localhost:8080/"
        },
        "id": "EuvuETcGpkje",
        "outputId": "69ec78ac-ac25-489a-e026-cc2e22cdb1c0"
      },
      "execution_count": null,
      "outputs": [
        {
          "output_type": "execute_result",
          "data": {
            "text/plain": [
              "57"
            ]
          },
          "metadata": {},
          "execution_count": 43
        }
      ]
    },
    {
      "cell_type": "code",
      "execution_count": null,
      "metadata": {
        "id": "pLIl946zQQwG",
        "colab": {
          "base_uri": "https://localhost:8080/"
        },
        "outputId": "589904d9-1167-40a0-f514-29e765e91936"
      },
      "outputs": [
        {
          "output_type": "execute_result",
          "data": {
            "text/plain": [
              "(64419, 1, 57)"
            ]
          },
          "metadata": {},
          "execution_count": 44
        }
      ],
      "source": [
        "x_test = np.reshape(X_test, (X_test.shape[0],1,X_test.shape[1]))\n",
        "x_test.shape"
      ]
    },
    {
      "cell_type": "code",
      "execution_count": null,
      "metadata": {
        "id": "jWsrkPEmQcY7"
      },
      "outputs": [],
      "source": [
        "if model_selection[model_flag]==\"ALL\" or model_selection[model_flag] == \"LSTM\":\n",
        "  lst = Sequential()\n",
        "  # input layer and LSTM layer with 50 neurons\n",
        "  input_features = x_train.shape[2]\n",
        "  lst.add(LSTM(50,input_dim=input_features))\n",
        "\n",
        "  # outpute layer with sigmoid activation\n",
        "  lst.add(Dense(1,activation='sigmoid'))"
      ]
    },
    {
      "cell_type": "code",
      "execution_count": null,
      "metadata": {
        "id": "UEmba1H9Q_qj"
      },
      "outputs": [],
      "source": [
        "if model_selection[model_flag]==\"ALL\" or model_selection[model_flag] == \"LSTM\":\n",
        "  # defining loss function, optimizer, metrics and then compiling model\n",
        "  lst.compile(loss='binary_crossentropy',optimizer='adam',metrics=['accuracy'])"
      ]
    },
    {
      "cell_type": "code",
      "execution_count": null,
      "metadata": {
        "id": "anR58jV2RCtz",
        "colab": {
          "base_uri": "https://localhost:8080/"
        },
        "outputId": "70145f42-9252-4ddc-ab0e-bb1bff180541"
      },
      "outputs": [
        {
          "output_type": "stream",
          "name": "stdout",
          "text": [
            "Model: \"sequential_1\"\n",
            "_________________________________________________________________\n",
            " Layer (type)                Output Shape              Param #   \n",
            "=================================================================\n",
            " lstm (LSTM)                 (None, 50)                21600     \n",
            "                                                                 \n",
            " dense_2 (Dense)             (None, 1)                 51        \n",
            "                                                                 \n",
            "=================================================================\n",
            "Total params: 21,651\n",
            "Trainable params: 21,651\n",
            "Non-trainable params: 0\n",
            "_________________________________________________________________\n"
          ]
        }
      ],
      "source": [
        "if model_selection[model_flag]==\"ALL\" or model_selection[model_flag] == \"LSTM\":\n",
        "  # summary of model layers\n",
        "  lst.summary()"
      ]
    },
    {
      "cell_type": "code",
      "execution_count": null,
      "metadata": {
        "id": "_Pa4Qi12RJS_",
        "colab": {
          "base_uri": "https://localhost:8080/"
        },
        "outputId": "65fe4b38-2ac4-4b58-aa87-d1174752f771"
      },
      "outputs": [
        {
          "output_type": "stream",
          "name": "stdout",
          "text": [
            "Epoch 1/100\n",
            "31/31 [==============================] - 4s 32ms/step - loss: 0.6167 - accuracy: 0.7885 - val_loss: 0.5506 - val_accuracy: 0.8247\n",
            "Epoch 2/100\n",
            "31/31 [==============================] - 0s 9ms/step - loss: 0.4950 - accuracy: 0.8400 - val_loss: 0.4386 - val_accuracy: 0.8614\n",
            "Epoch 3/100\n",
            "31/31 [==============================] - 0s 9ms/step - loss: 0.3909 - accuracy: 0.8734 - val_loss: 0.3406 - val_accuracy: 0.9020\n",
            "Epoch 4/100\n",
            "31/31 [==============================] - 0s 10ms/step - loss: 0.2970 - accuracy: 0.9337 - val_loss: 0.2511 - val_accuracy: 0.9498\n",
            "Epoch 5/100\n",
            "31/31 [==============================] - 0s 9ms/step - loss: 0.2148 - accuracy: 0.9525 - val_loss: 0.1776 - val_accuracy: 0.9565\n",
            "Epoch 6/100\n",
            "31/31 [==============================] - 0s 11ms/step - loss: 0.1507 - accuracy: 0.9659 - val_loss: 0.1240 - val_accuracy: 0.9755\n",
            "Epoch 7/100\n",
            "31/31 [==============================] - 0s 10ms/step - loss: 0.1057 - accuracy: 0.9861 - val_loss: 0.0878 - val_accuracy: 0.9957\n",
            "Epoch 8/100\n",
            "31/31 [==============================] - 0s 10ms/step - loss: 0.0758 - accuracy: 0.9965 - val_loss: 0.0639 - val_accuracy: 0.9979\n",
            "Epoch 9/100\n",
            "31/31 [==============================] - 0s 7ms/step - loss: 0.0560 - accuracy: 0.9980 - val_loss: 0.0481 - val_accuracy: 0.9982\n",
            "Epoch 10/100\n",
            "31/31 [==============================] - 0s 7ms/step - loss: 0.0427 - accuracy: 0.9982 - val_loss: 0.0372 - val_accuracy: 0.9983\n",
            "Epoch 11/100\n",
            "31/31 [==============================] - 0s 6ms/step - loss: 0.0335 - accuracy: 0.9982 - val_loss: 0.0296 - val_accuracy: 0.9983\n",
            "Epoch 12/100\n",
            "31/31 [==============================] - 0s 6ms/step - loss: 0.0268 - accuracy: 0.9984 - val_loss: 0.0240 - val_accuracy: 0.9986\n",
            "Epoch 13/100\n",
            "31/31 [==============================] - 0s 7ms/step - loss: 0.0220 - accuracy: 0.9987 - val_loss: 0.0199 - val_accuracy: 0.9987\n",
            "Epoch 14/100\n",
            "31/31 [==============================] - 0s 8ms/step - loss: 0.0183 - accuracy: 0.9989 - val_loss: 0.0167 - val_accuracy: 0.9990\n",
            "Epoch 15/100\n",
            "31/31 [==============================] - 0s 7ms/step - loss: 0.0154 - accuracy: 0.9991 - val_loss: 0.0142 - val_accuracy: 0.9991\n",
            "Epoch 16/100\n",
            "31/31 [==============================] - 0s 6ms/step - loss: 0.0132 - accuracy: 0.9993 - val_loss: 0.0122 - val_accuracy: 0.9996\n",
            "Epoch 17/100\n",
            "31/31 [==============================] - 0s 6ms/step - loss: 0.0114 - accuracy: 0.9997 - val_loss: 0.0107 - val_accuracy: 0.9996\n",
            "Epoch 18/100\n",
            "31/31 [==============================] - 0s 6ms/step - loss: 0.0099 - accuracy: 0.9998 - val_loss: 0.0094 - val_accuracy: 0.9997\n",
            "Epoch 19/100\n",
            "31/31 [==============================] - 0s 6ms/step - loss: 0.0088 - accuracy: 0.9998 - val_loss: 0.0083 - val_accuracy: 0.9997\n",
            "Epoch 20/100\n",
            "31/31 [==============================] - 0s 7ms/step - loss: 0.0078 - accuracy: 0.9998 - val_loss: 0.0074 - val_accuracy: 0.9997\n",
            "Epoch 21/100\n",
            "31/31 [==============================] - 0s 8ms/step - loss: 0.0069 - accuracy: 0.9998 - val_loss: 0.0066 - val_accuracy: 0.9997\n",
            "Epoch 22/100\n",
            "31/31 [==============================] - 0s 6ms/step - loss: 0.0062 - accuracy: 0.9998 - val_loss: 0.0059 - val_accuracy: 0.9997\n",
            "Epoch 23/100\n",
            "31/31 [==============================] - 0s 6ms/step - loss: 0.0056 - accuracy: 0.9998 - val_loss: 0.0054 - val_accuracy: 0.9997\n",
            "Epoch 24/100\n",
            "31/31 [==============================] - 0s 6ms/step - loss: 0.0051 - accuracy: 0.9998 - val_loss: 0.0049 - val_accuracy: 0.9997\n",
            "Epoch 25/100\n",
            "31/31 [==============================] - 0s 6ms/step - loss: 0.0046 - accuracy: 0.9998 - val_loss: 0.0045 - val_accuracy: 0.9997\n",
            "Epoch 26/100\n",
            "31/31 [==============================] - 0s 6ms/step - loss: 0.0042 - accuracy: 0.9998 - val_loss: 0.0041 - val_accuracy: 0.9997\n",
            "Epoch 27/100\n",
            "31/31 [==============================] - 0s 6ms/step - loss: 0.0039 - accuracy: 0.9998 - val_loss: 0.0038 - val_accuracy: 0.9997\n",
            "Epoch 28/100\n",
            "31/31 [==============================] - 0s 6ms/step - loss: 0.0035 - accuracy: 0.9998 - val_loss: 0.0035 - val_accuracy: 0.9998\n",
            "Epoch 29/100\n",
            "31/31 [==============================] - 0s 6ms/step - loss: 0.0033 - accuracy: 0.9998 - val_loss: 0.0032 - val_accuracy: 0.9998\n",
            "Epoch 30/100\n",
            "31/31 [==============================] - 0s 6ms/step - loss: 0.0030 - accuracy: 0.9998 - val_loss: 0.0030 - val_accuracy: 0.9998\n",
            "Epoch 31/100\n",
            "31/31 [==============================] - 0s 7ms/step - loss: 0.0028 - accuracy: 0.9998 - val_loss: 0.0027 - val_accuracy: 0.9998\n",
            "Epoch 32/100\n",
            "31/31 [==============================] - 0s 6ms/step - loss: 0.0026 - accuracy: 0.9998 - val_loss: 0.0026 - val_accuracy: 0.9998\n",
            "Epoch 33/100\n",
            "31/31 [==============================] - 0s 6ms/step - loss: 0.0024 - accuracy: 0.9998 - val_loss: 0.0024 - val_accuracy: 0.9998\n",
            "Epoch 34/100\n",
            "31/31 [==============================] - 0s 6ms/step - loss: 0.0022 - accuracy: 0.9998 - val_loss: 0.0022 - val_accuracy: 0.9998\n",
            "Epoch 35/100\n",
            "31/31 [==============================] - 0s 7ms/step - loss: 0.0021 - accuracy: 0.9999 - val_loss: 0.0021 - val_accuracy: 0.9998\n",
            "Epoch 36/100\n",
            "31/31 [==============================] - 0s 8ms/step - loss: 0.0020 - accuracy: 0.9999 - val_loss: 0.0019 - val_accuracy: 0.9999\n",
            "Epoch 37/100\n",
            "31/31 [==============================] - 0s 8ms/step - loss: 0.0018 - accuracy: 1.0000 - val_loss: 0.0018 - val_accuracy: 0.9999\n",
            "Epoch 38/100\n",
            "31/31 [==============================] - 0s 6ms/step - loss: 0.0017 - accuracy: 1.0000 - val_loss: 0.0017 - val_accuracy: 1.0000\n",
            "Epoch 39/100\n",
            "31/31 [==============================] - 0s 6ms/step - loss: 0.0016 - accuracy: 1.0000 - val_loss: 0.0016 - val_accuracy: 1.0000\n",
            "Epoch 40/100\n",
            "31/31 [==============================] - 0s 6ms/step - loss: 0.0015 - accuracy: 1.0000 - val_loss: 0.0015 - val_accuracy: 1.0000\n",
            "Epoch 41/100\n",
            "31/31 [==============================] - 0s 6ms/step - loss: 0.0014 - accuracy: 1.0000 - val_loss: 0.0014 - val_accuracy: 1.0000\n",
            "Epoch 42/100\n",
            "31/31 [==============================] - 0s 6ms/step - loss: 0.0014 - accuracy: 1.0000 - val_loss: 0.0014 - val_accuracy: 1.0000\n",
            "Epoch 43/100\n",
            "31/31 [==============================] - 0s 6ms/step - loss: 0.0013 - accuracy: 1.0000 - val_loss: 0.0013 - val_accuracy: 1.0000\n",
            "Epoch 44/100\n",
            "31/31 [==============================] - 0s 7ms/step - loss: 0.0012 - accuracy: 1.0000 - val_loss: 0.0012 - val_accuracy: 1.0000\n",
            "Epoch 45/100\n",
            "31/31 [==============================] - 0s 7ms/step - loss: 0.0012 - accuracy: 1.0000 - val_loss: 0.0012 - val_accuracy: 1.0000\n",
            "Epoch 46/100\n",
            "31/31 [==============================] - 0s 6ms/step - loss: 0.0011 - accuracy: 1.0000 - val_loss: 0.0011 - val_accuracy: 1.0000\n",
            "Epoch 47/100\n",
            "31/31 [==============================] - 0s 6ms/step - loss: 0.0010 - accuracy: 1.0000 - val_loss: 0.0011 - val_accuracy: 1.0000\n",
            "Epoch 48/100\n",
            "31/31 [==============================] - 0s 6ms/step - loss: 9.9619e-04 - accuracy: 1.0000 - val_loss: 0.0010 - val_accuracy: 1.0000\n",
            "Epoch 49/100\n",
            "31/31 [==============================] - 0s 6ms/step - loss: 9.4879e-04 - accuracy: 1.0000 - val_loss: 9.5841e-04 - val_accuracy: 1.0000\n",
            "Epoch 50/100\n",
            "31/31 [==============================] - 0s 6ms/step - loss: 9.0476e-04 - accuracy: 1.0000 - val_loss: 9.1510e-04 - val_accuracy: 1.0000\n",
            "Epoch 51/100\n",
            "31/31 [==============================] - 0s 6ms/step - loss: 8.6359e-04 - accuracy: 1.0000 - val_loss: 8.7472e-04 - val_accuracy: 1.0000\n",
            "Epoch 52/100\n",
            "31/31 [==============================] - 0s 6ms/step - loss: 8.2495e-04 - accuracy: 1.0000 - val_loss: 8.3660e-04 - val_accuracy: 1.0000\n",
            "Epoch 53/100\n",
            "31/31 [==============================] - 0s 6ms/step - loss: 7.8869e-04 - accuracy: 1.0000 - val_loss: 8.0105e-04 - val_accuracy: 1.0000\n",
            "Epoch 54/100\n",
            "31/31 [==============================] - 0s 7ms/step - loss: 7.5470e-04 - accuracy: 1.0000 - val_loss: 7.6715e-04 - val_accuracy: 1.0000\n",
            "Epoch 55/100\n",
            "31/31 [==============================] - 0s 7ms/step - loss: 7.2267e-04 - accuracy: 1.0000 - val_loss: 7.3569e-04 - val_accuracy: 1.0000\n",
            "Epoch 56/100\n",
            "31/31 [==============================] - 0s 10ms/step - loss: 6.9255e-04 - accuracy: 1.0000 - val_loss: 7.0660e-04 - val_accuracy: 1.0000\n",
            "Epoch 57/100\n",
            "31/31 [==============================] - 0s 10ms/step - loss: 6.6405e-04 - accuracy: 1.0000 - val_loss: 6.7788e-04 - val_accuracy: 1.0000\n",
            "Epoch 58/100\n",
            "31/31 [==============================] - 0s 9ms/step - loss: 6.3727e-04 - accuracy: 1.0000 - val_loss: 6.5173e-04 - val_accuracy: 1.0000\n",
            "Epoch 59/100\n",
            "31/31 [==============================] - 0s 10ms/step - loss: 6.1186e-04 - accuracy: 1.0000 - val_loss: 6.2636e-04 - val_accuracy: 1.0000\n",
            "Epoch 60/100\n",
            "31/31 [==============================] - 0s 10ms/step - loss: 5.8794e-04 - accuracy: 1.0000 - val_loss: 6.0266e-04 - val_accuracy: 1.0000\n",
            "Epoch 61/100\n",
            "31/31 [==============================] - 0s 11ms/step - loss: 5.6518e-04 - accuracy: 1.0000 - val_loss: 5.7989e-04 - val_accuracy: 1.0000\n",
            "Epoch 62/100\n",
            "31/31 [==============================] - 0s 9ms/step - loss: 5.4368e-04 - accuracy: 1.0000 - val_loss: 5.5896e-04 - val_accuracy: 1.0000\n",
            "Epoch 63/100\n",
            "31/31 [==============================] - 0s 10ms/step - loss: 5.2328e-04 - accuracy: 1.0000 - val_loss: 5.3816e-04 - val_accuracy: 1.0000\n",
            "Epoch 64/100\n",
            "31/31 [==============================] - 0s 9ms/step - loss: 5.0384e-04 - accuracy: 1.0000 - val_loss: 5.1935e-04 - val_accuracy: 1.0000\n",
            "Epoch 65/100\n",
            "31/31 [==============================] - 0s 11ms/step - loss: 4.8551e-04 - accuracy: 1.0000 - val_loss: 5.0079e-04 - val_accuracy: 1.0000\n",
            "Epoch 66/100\n",
            "31/31 [==============================] - 0s 10ms/step - loss: 4.6802e-04 - accuracy: 1.0000 - val_loss: 4.8329e-04 - val_accuracy: 1.0000\n",
            "Epoch 67/100\n",
            "31/31 [==============================] - 0s 10ms/step - loss: 4.5130e-04 - accuracy: 1.0000 - val_loss: 4.6674e-04 - val_accuracy: 1.0000\n",
            "Epoch 68/100\n",
            "31/31 [==============================] - 0s 9ms/step - loss: 4.3543e-04 - accuracy: 1.0000 - val_loss: 4.5117e-04 - val_accuracy: 1.0000\n",
            "Epoch 69/100\n",
            "31/31 [==============================] - 0s 6ms/step - loss: 4.2037e-04 - accuracy: 1.0000 - val_loss: 4.3593e-04 - val_accuracy: 1.0000\n",
            "Epoch 70/100\n",
            "31/31 [==============================] - 0s 6ms/step - loss: 4.0594e-04 - accuracy: 1.0000 - val_loss: 4.2158e-04 - val_accuracy: 1.0000\n",
            "Epoch 71/100\n",
            "31/31 [==============================] - 0s 8ms/step - loss: 3.9218e-04 - accuracy: 1.0000 - val_loss: 4.0755e-04 - val_accuracy: 1.0000\n",
            "Epoch 72/100\n",
            "31/31 [==============================] - 0s 6ms/step - loss: 3.7899e-04 - accuracy: 1.0000 - val_loss: 3.9463e-04 - val_accuracy: 1.0000\n",
            "Epoch 73/100\n",
            "31/31 [==============================] - 0s 6ms/step - loss: 3.6645e-04 - accuracy: 1.0000 - val_loss: 3.8183e-04 - val_accuracy: 1.0000\n",
            "Epoch 74/100\n",
            "31/31 [==============================] - 0s 6ms/step - loss: 3.5443e-04 - accuracy: 1.0000 - val_loss: 3.7006e-04 - val_accuracy: 1.0000\n",
            "Epoch 75/100\n",
            "31/31 [==============================] - 0s 7ms/step - loss: 3.4296e-04 - accuracy: 1.0000 - val_loss: 3.5826e-04 - val_accuracy: 1.0000\n",
            "Epoch 76/100\n",
            "31/31 [==============================] - 0s 6ms/step - loss: 3.3194e-04 - accuracy: 1.0000 - val_loss: 3.4742e-04 - val_accuracy: 1.0000\n",
            "Epoch 77/100\n",
            "31/31 [==============================] - 0s 8ms/step - loss: 3.2143e-04 - accuracy: 1.0000 - val_loss: 3.3649e-04 - val_accuracy: 1.0000\n",
            "Epoch 78/100\n",
            "31/31 [==============================] - 0s 7ms/step - loss: 3.1132e-04 - accuracy: 1.0000 - val_loss: 3.2647e-04 - val_accuracy: 1.0000\n",
            "Epoch 79/100\n",
            "31/31 [==============================] - 0s 7ms/step - loss: 3.0162e-04 - accuracy: 1.0000 - val_loss: 3.1684e-04 - val_accuracy: 1.0000\n",
            "Epoch 80/100\n",
            "31/31 [==============================] - 0s 7ms/step - loss: 2.9234e-04 - accuracy: 1.0000 - val_loss: 3.0728e-04 - val_accuracy: 1.0000\n",
            "Epoch 81/100\n",
            "31/31 [==============================] - 0s 7ms/step - loss: 2.8343e-04 - accuracy: 1.0000 - val_loss: 2.9836e-04 - val_accuracy: 1.0000\n",
            "Epoch 82/100\n",
            "31/31 [==============================] - 0s 7ms/step - loss: 2.7484e-04 - accuracy: 1.0000 - val_loss: 2.8984e-04 - val_accuracy: 1.0000\n",
            "Epoch 83/100\n",
            "31/31 [==============================] - 0s 7ms/step - loss: 2.6662e-04 - accuracy: 1.0000 - val_loss: 2.8141e-04 - val_accuracy: 1.0000\n",
            "Epoch 84/100\n",
            "31/31 [==============================] - 0s 6ms/step - loss: 2.5871e-04 - accuracy: 1.0000 - val_loss: 2.7337e-04 - val_accuracy: 1.0000\n",
            "Epoch 85/100\n",
            "31/31 [==============================] - 0s 6ms/step - loss: 2.5109e-04 - accuracy: 1.0000 - val_loss: 2.6576e-04 - val_accuracy: 1.0000\n",
            "Epoch 86/100\n",
            "31/31 [==============================] - 0s 7ms/step - loss: 2.4377e-04 - accuracy: 1.0000 - val_loss: 2.5835e-04 - val_accuracy: 1.0000\n",
            "Epoch 87/100\n",
            "31/31 [==============================] - 0s 7ms/step - loss: 2.3672e-04 - accuracy: 1.0000 - val_loss: 2.5110e-04 - val_accuracy: 1.0000\n",
            "Epoch 88/100\n",
            "31/31 [==============================] - 0s 6ms/step - loss: 2.2995e-04 - accuracy: 1.0000 - val_loss: 2.4416e-04 - val_accuracy: 1.0000\n",
            "Epoch 89/100\n",
            "31/31 [==============================] - 0s 6ms/step - loss: 2.2341e-04 - accuracy: 1.0000 - val_loss: 2.3778e-04 - val_accuracy: 1.0000\n",
            "Epoch 90/100\n",
            "31/31 [==============================] - 0s 8ms/step - loss: 2.1709e-04 - accuracy: 1.0000 - val_loss: 2.3127e-04 - val_accuracy: 1.0000\n",
            "Epoch 91/100\n",
            "31/31 [==============================] - 0s 6ms/step - loss: 2.1104e-04 - accuracy: 1.0000 - val_loss: 2.2498e-04 - val_accuracy: 1.0000\n",
            "Epoch 92/100\n",
            "31/31 [==============================] - 0s 7ms/step - loss: 2.0517e-04 - accuracy: 1.0000 - val_loss: 2.1901e-04 - val_accuracy: 1.0000\n",
            "Epoch 93/100\n",
            "31/31 [==============================] - 0s 8ms/step - loss: 1.9953e-04 - accuracy: 1.0000 - val_loss: 2.1308e-04 - val_accuracy: 1.0000\n",
            "Epoch 94/100\n",
            "31/31 [==============================] - 0s 6ms/step - loss: 1.9406e-04 - accuracy: 1.0000 - val_loss: 2.0767e-04 - val_accuracy: 1.0000\n",
            "Epoch 95/100\n",
            "31/31 [==============================] - 0s 6ms/step - loss: 1.8880e-04 - accuracy: 1.0000 - val_loss: 2.0227e-04 - val_accuracy: 1.0000\n",
            "Epoch 96/100\n",
            "31/31 [==============================] - 0s 8ms/step - loss: 1.8371e-04 - accuracy: 1.0000 - val_loss: 1.9725e-04 - val_accuracy: 1.0000\n",
            "Epoch 97/100\n",
            "31/31 [==============================] - 0s 7ms/step - loss: 1.7881e-04 - accuracy: 1.0000 - val_loss: 1.9204e-04 - val_accuracy: 1.0000\n",
            "Epoch 98/100\n",
            "31/31 [==============================] - 0s 6ms/step - loss: 1.7405e-04 - accuracy: 1.0000 - val_loss: 1.8717e-04 - val_accuracy: 1.0000\n",
            "Epoch 99/100\n",
            "31/31 [==============================] - 0s 6ms/step - loss: 1.6948e-04 - accuracy: 1.0000 - val_loss: 1.8249e-04 - val_accuracy: 1.0000\n",
            "Epoch 100/100\n",
            "31/31 [==============================] - 0s 6ms/step - loss: 1.6504e-04 - accuracy: 1.0000 - val_loss: 1.7806e-04 - val_accuracy: 1.0000\n"
          ]
        }
      ],
      "source": [
        "if model_selection[model_flag]==\"ALL\" or model_selection[model_flag] == \"LSTM\":\n",
        "  # training the model on training dataset\n",
        "  history = lst.fit(x_train, y_train, epochs=100, batch_size=5000,validation_split=0.2)"
      ]
    },
    {
      "cell_type": "code",
      "execution_count": null,
      "metadata": {
        "id": "BCQtvJcXRcNr"
      },
      "outputs": [],
      "source": [
        "if model_selection[model_flag]==\"ALL\" or model_selection[model_flag] == \"LSTM\":\n",
        "  filepath = '/content/drive/MyDrive/Colab_Notebooks/Models/lst_binary_unsw_nb15.json'\n",
        "  weightspath = '/content/drive/MyDrive/Colab_Notebooks/Weights/lst_binary_unsw_nb15.h5'\n",
        "  if (not path.isfile(filepath)):\n",
        "    # serialize model to JSON\n",
        "    lst_json = lst.to_json()\n",
        "    with open(filepath, \"w\") as json_file:\n",
        "      json_file.write(lst_json)\n",
        "\n",
        "    # serialize weights to HDF5\n",
        "    lst.save_weights(weightspath)\n",
        "    print(\"Saved model to disk\")\n",
        "\n",
        "    # load json and create model\n",
        "    json_file = open(filepath, 'r')\n",
        "    loaded_model_json = json_file.read()\n",
        "    json_file.close()\n",
        "    lst = model_from_json(loaded_model_json)\n",
        "\n",
        "    # load weights into new model\n",
        "    lst.load_weights(weightspath)\n",
        "    print(\"Loaded model from disk\")"
      ]
    },
    {
      "cell_type": "code",
      "execution_count": null,
      "metadata": {
        "id": "rPaW37T-R0dG",
        "colab": {
          "base_uri": "https://localhost:8080/"
        },
        "outputId": "0b3e1789-f985-44bf-bf83-cf5f81e74e7a"
      },
      "outputs": [
        {
          "output_type": "stream",
          "name": "stdout",
          "text": [
            "Loaded model from disk\n"
          ]
        }
      ],
      "source": [
        "if model_selection[model_flag]==\"ALL\" or model_selection[model_flag] == \"LSTM\":\n",
        "  # load json and create model\n",
        "  json_file = open(filepath, 'r')\n",
        "  loaded_model_json = json_file.read()\n",
        "  json_file.close()\n",
        "  lst = model_from_json(loaded_model_json)\n",
        "\n",
        "  # load weights into new model\n",
        "  lst.load_weights(weightspath)\n",
        "  print(\"Loaded model from disk\")"
      ]
    },
    {
      "cell_type": "code",
      "execution_count": null,
      "metadata": {
        "id": "ukGDdSggR3na"
      },
      "outputs": [],
      "source": [
        "if model_selection[model_flag]==\"ALL\" or model_selection[model_flag] == \"LSTM\":\n",
        "  # defining loss function, optimizer, metrics and then compiling model\n",
        "  lst.compile(loss='binary_crossentropy',optimizer='adam',metrics=['accuracy'])"
      ]
    },
    {
      "cell_type": "code",
      "execution_count": null,
      "metadata": {
        "id": "nvjY0u97R68f",
        "colab": {
          "base_uri": "https://localhost:8080/"
        },
        "outputId": "2a7defd6-86a1-4969-ec5b-73d735af457e"
      },
      "outputs": [
        {
          "output_type": "stream",
          "name": "stdout",
          "text": [
            "2014/2014 [==============================] - 6s 3ms/step - loss: 1.8274 - accuracy: 0.3815\n",
            "Test results - Loss: 1.8274213075637817 - Accuracy: 38.145577907562256%\n"
          ]
        }
      ],
      "source": [
        "if model_selection[model_flag]==\"ALL\" or model_selection[model_flag] == \"LSTM\":\n",
        "  # predicting target attribute on testing dataset\n",
        "  test_results = lst.evaluate(x_test, y_test, verbose=1)\n",
        "  print(f'Test results - Loss: {test_results[0]} - Accuracy: {test_results[1]*100}%')"
      ]
    },
    {
      "cell_type": "code",
      "execution_count": null,
      "metadata": {
        "id": "f8yKMcIHR_jP",
        "colab": {
          "base_uri": "https://localhost:8080/",
          "height": 472
        },
        "outputId": "68b6e999-a6a7-4dc4-88d5-3165f8ee7768"
      },
      "outputs": [
        {
          "output_type": "display_data",
          "data": {
            "text/plain": [
              "<Figure size 640x480 with 1 Axes>"
            ],
            "image/png": "[encoded data removed]"
          },
          "metadata": {}
        }
      ],
      "source": [
        "if model_selection[model_flag]==\"ALL\" or model_selection[model_flag] == \"LSTM\":\n",
        "  # Plot of accuracy vs epoch of train and test dataset\n",
        "  plt.plot(history.history['accuracy'])\n",
        "  plt.plot(history.history['val_accuracy'])\n",
        "  plt.title(\"Plot of accuracy vs epoch for train and test dataset\")\n",
        "  plt.ylabel('accuracy')\n",
        "  plt.xlabel('epoch')\n",
        "  plt.legend(['train', 'test'], loc='best')\n",
        "  plt.savefig('/content/drive/MyDrive/Colab_Notebooks/Plots/lstm_binary_accuracy.png')\n",
        "  plt.show()"
      ]
    },
    {
      "cell_type": "code",
      "execution_count": null,
      "metadata": {
        "id": "M5g1Rw_SSb5n",
        "colab": {
          "base_uri": "https://localhost:8080/",
          "height": 472
        },
        "outputId": "5e3ccde3-7818-489c-ef43-1ed87914a6ea"
      },
      "outputs": [
        {
          "output_type": "display_data",
          "data": {
            "text/plain": [
              "<Figure size 640x480 with 1 Axes>"
            ],
            "image/png": "[encoded data removed]"
          },
          "metadata": {}
        }
      ],
      "source": [
        "if model_selection[model_flag]==\"ALL\" or model_selection[model_flag] == \"LSTM\":\n",
        "  # Plot of loss vs epoch of train and test dataset\n",
        "  plt.plot(history.history['loss'])\n",
        "  plt.plot(history.history['val_loss'])\n",
        "  plt.title(\"Plot of loss vs epoch for train and test dataset\")\n",
        "  plt.ylabel('loss')\n",
        "  plt.xlabel('epoch')\n",
        "  plt.legend(['train', 'test'], loc='best')\n",
        "  plt.savefig('/content/drive/MyDrive/Colab_Notebooks/Plots/lstm_binary_loss.png')\n",
        "  plt.show()"
      ]
    },
    {
      "cell_type": "code",
      "execution_count": null,
      "metadata": {
        "id": "osZa2OV9Se-T"
      },
      "outputs": [],
      "source": [
        "if model_selection[model_flag]==\"ALL\" or model_selection[model_flag] == \"LSTM\":\n",
        "  # representation of model layers\n",
        "  plot_model(lst, to_file='/content/drive/MyDrive/Colab_Notebooks/Plots/lstm_binary.png', show_shapes=True,)"
      ]
    },
    {
      "cell_type": "code",
      "execution_count": null,
      "metadata": {
        "id": "lw4OLD4HSpaY",
        "colab": {
          "base_uri": "https://localhost:8080/"
        },
        "outputId": "2d52041a-f4de-4b76-f6c0-c08450b28ecc"
      },
      "outputs": [
        {
          "output_type": "execute_result",
          "data": {
            "text/plain": [
              "(64419,)"
            ]
          },
          "metadata": {},
          "execution_count": 56
        }
      ],
      "source": [
        "y_test = np.array(y_test)\n",
        "y_test.shape"
      ]
    },
    {
      "cell_type": "code",
      "execution_count": null,
      "metadata": {
        "id": "4BvYVrKsTGr3",
        "colab": {
          "base_uri": "https://localhost:8080/"
        },
        "outputId": "4a2c1b04-de46-4ca3-e973-929268a54873"
      },
      "outputs": [
        {
          "output_type": "execute_result",
          "data": {
            "text/plain": [
              "numpy.ndarray"
            ]
          },
          "metadata": {},
          "execution_count": 57
        }
      ],
      "source": [
        "type(y_test)"
      ]
    },
    {
      "cell_type": "code",
      "execution_count": null,
      "metadata": {
        "id": "KBvCGl6BS0FM",
        "colab": {
          "base_uri": "https://localhost:8080/"
        },
        "outputId": "a47213f7-de37-4b5f-b444-dafc0cb6c12e"
      },
      "outputs": [
        {
          "output_type": "stream",
          "name": "stdout",
          "text": [
            "2014/2014 [==============================] - 4s 2ms/step\n"
          ]
        }
      ],
      "source": [
        "if model_selection[model_flag]==\"ALL\" or model_selection[model_flag] == \"LSTM\":\n",
        "  y_classes = (lst.predict(x_test)>0.5).astype('int32')"
      ]
    },
    {
      "cell_type": "code",
      "execution_count": null,
      "metadata": {
        "id": "x_yVqBlLTtLW",
        "colab": {
          "base_uri": "https://localhost:8080/"
        },
        "outputId": "3d3923e3-6a41-4ea2-bd09-2bebf532410f"
      },
      "outputs": [
        {
          "output_type": "stream",
          "name": "stdout",
          "text": [
            "Recall Score -  0.14960170973382553\n",
            "F1 Score -  0.23616915232143543\n",
            "Precision Score -  0.5605095541401274\n"
          ]
        }
      ],
      "source": [
        "if model_selection[model_flag]==\"ALL\" or model_selection[model_flag] == \"LSTM\":\n",
        "  print(\"Recall Score - \",recall_score(y_test,y_classes))\n",
        "  print(\"F1 Score - \",f1_score(y_test,y_classes))\n",
        "  print(\"Precision Score - \",precision_score(y_test,y_classes))\n",
        "  fpr, fnr, thresholds = det_curve(y_test, y_classes)\n",
        "  print(\"False Positive Rate - \", fpr)\n",
        "  print(\"False Negative Rate - \", fnr)\n",
        "  print(\"Thresholds - \", thresholds)"
      ]
    },
    {
      "cell_type": "code",
      "source": [
        "print(classification_report(y_test, y_classes, target_names=['0', '1']))\n",
        "cm = confusion_matrix(y_test, y_classes)\n",
        "disp = ConfusionMatrixDisplay(confusion_matrix=cm,\n",
        "                              display_labels=['0', '1'])\n",
        "disp.plot()\n",
        "\n",
        "plt.show()"
      ],
      "metadata": {
        "colab": {
          "base_uri": "https://localhost:8080/",
          "height": 616
        },
        "id": "lHw1E32esovH",
        "outputId": "79aaf379-9f96-456a-a382-18a6de2b0e90"
      },
      "execution_count": null,
      "outputs": [
        {
          "output_type": "stream",
          "name": "stdout",
          "text": [
            "              precision    recall  f1-score   support\n",
            "\n",
            "           0       0.34      0.79      0.48     23243\n",
            "           1       0.56      0.15      0.24     41176\n",
            "\n",
            "    accuracy                           0.38     64419\n",
            "   macro avg       0.45      0.47      0.36     64419\n",
            "weighted avg       0.48      0.38      0.32     64419\n",
            "\n"
          ]
        },
        {
          "output_type": "display_data",
          "data": {
            "text/plain": [
              "<Figure size 640x480 with 2 Axes>"
            ],
            "image/png": "[encoded data removed]"
          },
          "metadata": {}
        }
      ]
    },
    {
      "cell_type": "markdown",
      "metadata": {
        "id": "H_g15uXe82BY"
      },
      "source": [
        "## **Auto Encoder**"
      ]
    },
    {
      "cell_type": "code",
      "execution_count": null,
      "metadata": {
        "id": "VQ6pDxghmBwB"
      },
      "outputs": [],
      "source": [
        "if model_selection[model_flag]==\"ALL\" or model_selection[model_flag] == \"AE\":\n",
        "  # splitting the dataset 75% for training and 25% testing\n",
        "  X_train, X_test = train_test_split(bin_data, test_size=0.25, random_state=42)"
      ]
    },
    {
      "cell_type": "code",
      "execution_count": null,
      "metadata": {
        "id": "uogVT92Q_6wh"
      },
      "outputs": [],
      "source": [
        "if model_selection[model_flag]==\"ALL\" or model_selection[model_flag] == \"AE\":\n",
        "  # dataset excluding target attribute (encoded, one-hot-encoded,original)\n",
        "  X_train = X_train.drop(['label'],axis=1) \n",
        "\n",
        "  y_test = X_test['label'] # target attribute\n",
        "\n",
        "  # dataset excluding target attribute (encoded, one-hot-encoded,original)\n",
        "  X_test = X_test.drop(['label'],axis=1)\n",
        "  # calling the normalization() function\n",
        "  X_train = normalization_train(X_train,numeric_cols)\n",
        "  X_test = normalization_test(X_test,numeric_cols)\n",
        "  X_train = X_train.values\n",
        "  X_test = X_test.values\n",
        "  y_test = y_test.values"
      ]
    },
    {
      "cell_type": "code",
      "execution_count": null,
      "metadata": {
        "id": "s696BM9uKADC"
      },
      "outputs": [],
      "source": [
        "if model_selection[model_flag]==\"ALL\" or model_selection[model_flag] == \"AE\":\n",
        "  input_dim = X_train.shape[1]\n",
        "  encoding_dim = 50\n",
        "\n",
        "  #input layer\n",
        "  input_layer = Input(shape=(input_dim, ))\n",
        "  #encoding layer with 50 neurons\n",
        "  encoder = Dense(encoding_dim, activation=\"relu\")(input_layer)           \n",
        "  #decoding and output layer\n",
        "  output_layer = Dense(input_dim, activation='softmax')(encoder)"
      ]
    },
    {
      "cell_type": "code",
      "execution_count": null,
      "metadata": {
        "id": "nLn3vHBZLQtj"
      },
      "outputs": [],
      "source": [
        "if model_selection[model_flag]==\"ALL\" or model_selection[model_flag] == \"AE\":\n",
        "  # creating model with input, encoding, decoding, output layers\n",
        "  autoencoder = Model(inputs=input_layer, outputs=output_layer)\n",
        "\n",
        "  # defining loss function, optimizer, metrics and then compiling model\n",
        "  autoencoder.compile(optimizer='adam', loss='mean_squared_error',metrics=['accuracy'])"
      ]
    },
    {
      "cell_type": "code",
      "execution_count": null,
      "metadata": {
        "id": "X_zk7PMVLVNm",
        "colab": {
          "base_uri": "https://localhost:8080/"
        },
        "outputId": "288e30f1-07bf-46d1-9ce2-b8a187ad49c5"
      },
      "outputs": [
        {
          "output_type": "stream",
          "name": "stdout",
          "text": [
            "Model: \"model\"\n",
            "_________________________________________________________________\n",
            " Layer (type)                Output Shape              Param #   \n",
            "=================================================================\n",
            " input_1 (InputLayer)        [(None, 56)]              0         \n",
            "                                                                 \n",
            " dense_3 (Dense)             (None, 50)                2850      \n",
            "                                                                 \n",
            " dense_4 (Dense)             (None, 56)                2856      \n",
            "                                                                 \n",
            "=================================================================\n",
            "Total params: 5,706\n",
            "Trainable params: 5,706\n",
            "Non-trainable params: 0\n",
            "_________________________________________________________________\n"
          ]
        }
      ],
      "source": [
        "if model_selection[model_flag]==\"ALL\" or model_selection[model_flag] == \"AE\":\n",
        "  # summary of model layers\n",
        "  autoencoder.summary()"
      ]
    },
    {
      "cell_type": "code",
      "execution_count": null,
      "metadata": {
        "id": "We59NbebLdkJ",
        "colab": {
          "base_uri": "https://localhost:8080/"
        },
        "outputId": "e0a96b46-e2d4-4f71-d7b6-6995bf77051d"
      },
      "outputs": [
        {
          "output_type": "stream",
          "name": "stdout",
          "text": [
            "Epoch 1/100\n",
            "387/387 [==============================] - 2s 4ms/step - loss: 0.0764 - accuracy: 0.2021 - val_loss: 103740657247453184.0000 - val_accuracy: 2.7942e-04\n",
            "Epoch 2/100\n",
            "387/387 [==============================] - 1s 3ms/step - loss: 0.0710 - accuracy: 0.2587 - val_loss: 103740657247453184.0000 - val_accuracy: 2.6390e-04\n",
            "Epoch 3/100\n",
            "387/387 [==============================] - 1s 4ms/step - loss: 0.0708 - accuracy: 0.2159 - val_loss: 103740657247453184.0000 - val_accuracy: 2.6390e-04\n",
            "Epoch 4/100\n",
            "387/387 [==============================] - 1s 4ms/step - loss: 0.0707 - accuracy: 0.2119 - val_loss: 103740657247453184.0000 - val_accuracy: 2.6390e-04\n",
            "Epoch 5/100\n",
            "387/387 [==============================] - 1s 4ms/step - loss: 0.0706 - accuracy: 0.2126 - val_loss: 103740657247453184.0000 - val_accuracy: 2.6390e-04\n",
            "Epoch 6/100\n",
            "387/387 [==============================] - 1s 4ms/step - loss: 0.0706 - accuracy: 0.1998 - val_loss: 103740657247453184.0000 - val_accuracy: 2.6390e-04\n",
            "Epoch 7/100\n",
            "387/387 [==============================] - 2s 5ms/step - loss: 0.0706 - accuracy: 0.2029 - val_loss: 103740657247453184.0000 - val_accuracy: 2.6390e-04\n",
            "Epoch 8/100\n",
            "387/387 [==============================] - 2s 5ms/step - loss: 0.0706 - accuracy: 0.2057 - val_loss: 103740657247453184.0000 - val_accuracy: 2.6390e-04\n",
            "Epoch 9/100\n",
            "387/387 [==============================] - 1s 4ms/step - loss: 0.0704 - accuracy: 0.2036 - val_loss: 103740657247453184.0000 - val_accuracy: 2.6390e-04\n",
            "Epoch 10/100\n",
            "387/387 [==============================] - 1s 3ms/step - loss: 0.0704 - accuracy: 0.2188 - val_loss: 103740657247453184.0000 - val_accuracy: 2.6390e-04\n",
            "Epoch 11/100\n",
            "387/387 [==============================] - 2s 4ms/step - loss: 0.0704 - accuracy: 0.2164 - val_loss: 103740657247453184.0000 - val_accuracy: 2.6390e-04\n",
            "Epoch 12/100\n",
            "387/387 [==============================] - 1s 4ms/step - loss: 0.0704 - accuracy: 0.2086 - val_loss: 103740657247453184.0000 - val_accuracy: 2.6390e-04\n",
            "Epoch 13/100\n",
            "387/387 [==============================] - 1s 4ms/step - loss: 0.0704 - accuracy: 0.2094 - val_loss: 103740657247453184.0000 - val_accuracy: 2.6390e-04\n",
            "Epoch 14/100\n",
            "387/387 [==============================] - 1s 4ms/step - loss: 0.0704 - accuracy: 0.2051 - val_loss: 103740657247453184.0000 - val_accuracy: 2.6390e-04\n",
            "Epoch 15/100\n",
            "387/387 [==============================] - 2s 5ms/step - loss: 0.0704 - accuracy: 0.2115 - val_loss: 103740657247453184.0000 - val_accuracy: 2.6390e-04\n",
            "Epoch 16/100\n",
            "387/387 [==============================] - 2s 5ms/step - loss: 0.0704 - accuracy: 0.2063 - val_loss: 103740657247453184.0000 - val_accuracy: 2.6390e-04\n",
            "Epoch 17/100\n",
            "387/387 [==============================] - 2s 4ms/step - loss: 0.0704 - accuracy: 0.2167 - val_loss: 103740657247453184.0000 - val_accuracy: 2.6390e-04\n",
            "Epoch 18/100\n",
            "387/387 [==============================] - 1s 4ms/step - loss: 0.0704 - accuracy: 0.2059 - val_loss: 103740657247453184.0000 - val_accuracy: 2.6390e-04\n",
            "Epoch 19/100\n",
            "387/387 [==============================] - 1s 4ms/step - loss: 0.0704 - accuracy: 0.2179 - val_loss: 103740657247453184.0000 - val_accuracy: 2.6390e-04\n",
            "Epoch 20/100\n",
            "387/387 [==============================] - 1s 4ms/step - loss: 0.0704 - accuracy: 0.2146 - val_loss: 103740657247453184.0000 - val_accuracy: 2.6390e-04\n",
            "Epoch 21/100\n",
            "387/387 [==============================] - 1s 4ms/step - loss: 0.0704 - accuracy: 0.2150 - val_loss: 103740657247453184.0000 - val_accuracy: 2.6390e-04\n",
            "Epoch 22/100\n",
            "387/387 [==============================] - 1s 4ms/step - loss: 0.0704 - accuracy: 0.2169 - val_loss: 103740657247453184.0000 - val_accuracy: 2.6390e-04\n",
            "Epoch 23/100\n",
            "387/387 [==============================] - 1s 4ms/step - loss: 0.0704 - accuracy: 0.2110 - val_loss: 103740657247453184.0000 - val_accuracy: 2.6390e-04\n",
            "Epoch 24/100\n",
            "387/387 [==============================] - 2s 5ms/step - loss: 0.0704 - accuracy: 0.2106 - val_loss: 103740657247453184.0000 - val_accuracy: 2.6390e-04\n",
            "Epoch 25/100\n",
            "387/387 [==============================] - 2s 5ms/step - loss: 0.0704 - accuracy: 0.2120 - val_loss: 103740657247453184.0000 - val_accuracy: 2.6390e-04\n",
            "Epoch 26/100\n",
            "387/387 [==============================] - 1s 4ms/step - loss: 0.0704 - accuracy: 0.2087 - val_loss: 103740657247453184.0000 - val_accuracy: 2.6390e-04\n",
            "Epoch 27/100\n",
            "387/387 [==============================] - 1s 4ms/step - loss: 0.0704 - accuracy: 0.2150 - val_loss: 103740657247453184.0000 - val_accuracy: 2.6390e-04\n",
            "Epoch 28/100\n",
            "387/387 [==============================] - 1s 4ms/step - loss: 0.0704 - accuracy: 0.2145 - val_loss: 103740657247453184.0000 - val_accuracy: 2.6390e-04\n",
            "Epoch 29/100\n",
            "387/387 [==============================] - 1s 4ms/step - loss: 0.0704 - accuracy: 0.2180 - val_loss: 103740657247453184.0000 - val_accuracy: 2.6390e-04\n",
            "Epoch 30/100\n",
            "387/387 [==============================] - 1s 4ms/step - loss: 0.0704 - accuracy: 0.2117 - val_loss: 103740657247453184.0000 - val_accuracy: 2.6390e-04\n",
            "Epoch 31/100\n",
            "387/387 [==============================] - 1s 4ms/step - loss: 0.0704 - accuracy: 0.2183 - val_loss: 103740657247453184.0000 - val_accuracy: 2.6390e-04\n",
            "Epoch 32/100\n",
            "387/387 [==============================] - 1s 4ms/step - loss: 0.0704 - accuracy: 0.2194 - val_loss: 103740657247453184.0000 - val_accuracy: 2.6390e-04\n",
            "Epoch 33/100\n",
            "387/387 [==============================] - 2s 5ms/step - loss: 0.0704 - accuracy: 0.2261 - val_loss: 103740657247453184.0000 - val_accuracy: 2.6390e-04\n",
            "Epoch 34/100\n",
            "387/387 [==============================] - 2s 5ms/step - loss: 0.0704 - accuracy: 0.2079 - val_loss: 103740657247453184.0000 - val_accuracy: 2.6390e-04\n",
            "Epoch 35/100\n",
            "387/387 [==============================] - 1s 4ms/step - loss: 0.0704 - accuracy: 0.2127 - val_loss: 103740657247453184.0000 - val_accuracy: 2.6390e-04\n",
            "Epoch 36/100\n",
            "387/387 [==============================] - 1s 4ms/step - loss: 0.0704 - accuracy: 0.2157 - val_loss: 103740657247453184.0000 - val_accuracy: 2.6390e-04\n",
            "Epoch 37/100\n",
            "387/387 [==============================] - 1s 4ms/step - loss: 0.0704 - accuracy: 0.2243 - val_loss: 103740657247453184.0000 - val_accuracy: 2.6390e-04\n",
            "Epoch 38/100\n",
            "387/387 [==============================] - 1s 4ms/step - loss: 0.0704 - accuracy: 0.2224 - val_loss: 103740657247453184.0000 - val_accuracy: 2.6390e-04\n",
            "Epoch 39/100\n",
            "387/387 [==============================] - 1s 4ms/step - loss: 0.0704 - accuracy: 0.2129 - val_loss: 103740657247453184.0000 - val_accuracy: 2.6390e-04\n",
            "Epoch 40/100\n",
            "387/387 [==============================] - 1s 3ms/step - loss: 0.0704 - accuracy: 0.2175 - val_loss: 103740657247453184.0000 - val_accuracy: 2.6390e-04\n",
            "Epoch 41/100\n",
            "387/387 [==============================] - 1s 4ms/step - loss: 0.0704 - accuracy: 0.2095 - val_loss: 103740657247453184.0000 - val_accuracy: 2.6390e-04\n",
            "Epoch 42/100\n",
            "387/387 [==============================] - 2s 6ms/step - loss: 0.0704 - accuracy: 0.2250 - val_loss: 103740657247453184.0000 - val_accuracy: 2.6390e-04\n",
            "Epoch 43/100\n",
            "387/387 [==============================] - 2s 4ms/step - loss: 0.0704 - accuracy: 0.2166 - val_loss: 103740657247453184.0000 - val_accuracy: 2.6390e-04\n",
            "Epoch 44/100\n",
            "387/387 [==============================] - 1s 4ms/step - loss: 0.0704 - accuracy: 0.2271 - val_loss: 103740657247453184.0000 - val_accuracy: 2.6390e-04\n",
            "Epoch 45/100\n",
            "387/387 [==============================] - 1s 4ms/step - loss: 0.0704 - accuracy: 0.2153 - val_loss: 103740657247453184.0000 - val_accuracy: 2.6390e-04\n",
            "Epoch 46/100\n",
            "387/387 [==============================] - 1s 3ms/step - loss: 0.0704 - accuracy: 0.2180 - val_loss: 103740657247453184.0000 - val_accuracy: 2.6390e-04\n",
            "Epoch 47/100\n",
            "387/387 [==============================] - 1s 3ms/step - loss: 0.0704 - accuracy: 0.2239 - val_loss: 103740657247453184.0000 - val_accuracy: 2.6390e-04\n",
            "Epoch 48/100\n",
            "387/387 [==============================] - 1s 4ms/step - loss: 0.0704 - accuracy: 0.2077 - val_loss: 103740657247453184.0000 - val_accuracy: 2.6390e-04\n",
            "Epoch 49/100\n",
            "387/387 [==============================] - 1s 4ms/step - loss: 0.0704 - accuracy: 0.2391 - val_loss: 103740657247453184.0000 - val_accuracy: 2.6390e-04\n",
            "Epoch 50/100\n",
            "387/387 [==============================] - 2s 4ms/step - loss: 0.0704 - accuracy: 0.2131 - val_loss: 103740657247453184.0000 - val_accuracy: 2.6390e-04\n",
            "Epoch 51/100\n",
            "387/387 [==============================] - 2s 6ms/step - loss: 0.0704 - accuracy: 0.2152 - val_loss: 103740657247453184.0000 - val_accuracy: 2.6390e-04\n",
            "Epoch 52/100\n",
            "387/387 [==============================] - 2s 4ms/step - loss: 0.0704 - accuracy: 0.2143 - val_loss: 103740657247453184.0000 - val_accuracy: 2.6390e-04\n",
            "Epoch 53/100\n",
            "387/387 [==============================] - 1s 4ms/step - loss: 0.0704 - accuracy: 0.2003 - val_loss: 103740657247453184.0000 - val_accuracy: 2.6390e-04\n",
            "Epoch 54/100\n",
            "387/387 [==============================] - 1s 4ms/step - loss: 0.0704 - accuracy: 0.2102 - val_loss: 103740657247453184.0000 - val_accuracy: 2.6390e-04\n",
            "Epoch 55/100\n",
            "387/387 [==============================] - 1s 4ms/step - loss: 0.0704 - accuracy: 0.2251 - val_loss: 103740657247453184.0000 - val_accuracy: 2.6390e-04\n",
            "Epoch 56/100\n",
            "387/387 [==============================] - 1s 3ms/step - loss: 0.0704 - accuracy: 0.2179 - val_loss: 103740657247453184.0000 - val_accuracy: 2.6390e-04\n",
            "Epoch 57/100\n",
            "387/387 [==============================] - 1s 4ms/step - loss: 0.0704 - accuracy: 0.2111 - val_loss: 103740657247453184.0000 - val_accuracy: 2.6390e-04\n",
            "Epoch 58/100\n",
            "387/387 [==============================] - 1s 4ms/step - loss: 0.0704 - accuracy: 0.2211 - val_loss: 103740657247453184.0000 - val_accuracy: 2.6390e-04\n",
            "Epoch 59/100\n",
            "387/387 [==============================] - 2s 5ms/step - loss: 0.0704 - accuracy: 0.2163 - val_loss: 103740657247453184.0000 - val_accuracy: 2.6390e-04\n",
            "Epoch 60/100\n",
            "387/387 [==============================] - 2s 5ms/step - loss: 0.0704 - accuracy: 0.2004 - val_loss: 103740657247453184.0000 - val_accuracy: 2.6390e-04\n",
            "Epoch 61/100\n",
            "387/387 [==============================] - 1s 4ms/step - loss: 0.0704 - accuracy: 0.2107 - val_loss: 103740657247453184.0000 - val_accuracy: 2.6390e-04\n",
            "Epoch 62/100\n",
            "387/387 [==============================] - 1s 4ms/step - loss: 0.0704 - accuracy: 0.2248 - val_loss: 103740657247453184.0000 - val_accuracy: 2.6390e-04\n",
            "Epoch 63/100\n",
            "387/387 [==============================] - 1s 3ms/step - loss: 0.0704 - accuracy: 0.2295 - val_loss: 103740657247453184.0000 - val_accuracy: 2.6390e-04\n",
            "Epoch 64/100\n",
            "387/387 [==============================] - 1s 4ms/step - loss: 0.0704 - accuracy: 0.2127 - val_loss: 103740657247453184.0000 - val_accuracy: 2.6390e-04\n",
            "Epoch 65/100\n",
            "387/387 [==============================] - 1s 4ms/step - loss: 0.0704 - accuracy: 0.2149 - val_loss: 103740657247453184.0000 - val_accuracy: 2.6390e-04\n",
            "Epoch 66/100\n",
            "387/387 [==============================] - 1s 4ms/step - loss: 0.0704 - accuracy: 0.2038 - val_loss: 103740657247453184.0000 - val_accuracy: 2.6390e-04\n",
            "Epoch 67/100\n",
            "387/387 [==============================] - 1s 4ms/step - loss: 0.0704 - accuracy: 0.2129 - val_loss: 103740657247453184.0000 - val_accuracy: 2.6390e-04\n",
            "Epoch 68/100\n",
            "387/387 [==============================] - 2s 4ms/step - loss: 0.0704 - accuracy: 0.2178 - val_loss: 103740657247453184.0000 - val_accuracy: 2.6390e-04\n",
            "Epoch 69/100\n",
            "387/387 [==============================] - 2s 5ms/step - loss: 0.0704 - accuracy: 0.2230 - val_loss: 103740657247453184.0000 - val_accuracy: 2.6390e-04\n",
            "Epoch 70/100\n",
            "387/387 [==============================] - 2s 4ms/step - loss: 0.0704 - accuracy: 0.2087 - val_loss: 103740657247453184.0000 - val_accuracy: 2.6390e-04\n",
            "Epoch 71/100\n",
            "387/387 [==============================] - 1s 4ms/step - loss: 0.0704 - accuracy: 0.2179 - val_loss: 103740657247453184.0000 - val_accuracy: 2.6390e-04\n",
            "Epoch 72/100\n",
            "387/387 [==============================] - 1s 4ms/step - loss: 0.0704 - accuracy: 0.2209 - val_loss: 103740657247453184.0000 - val_accuracy: 2.6390e-04\n",
            "Epoch 73/100\n",
            "387/387 [==============================] - 1s 4ms/step - loss: 0.0704 - accuracy: 0.2235 - val_loss: 103740657247453184.0000 - val_accuracy: 2.6390e-04\n",
            "Epoch 74/100\n",
            "387/387 [==============================] - 1s 4ms/step - loss: 0.0704 - accuracy: 0.2120 - val_loss: 103740657247453184.0000 - val_accuracy: 2.6390e-04\n",
            "Epoch 75/100\n",
            "387/387 [==============================] - 1s 4ms/step - loss: 0.0704 - accuracy: 0.2114 - val_loss: 103740657247453184.0000 - val_accuracy: 2.6390e-04\n",
            "Epoch 76/100\n",
            "387/387 [==============================] - 1s 4ms/step - loss: 0.0704 - accuracy: 0.2074 - val_loss: 103740657247453184.0000 - val_accuracy: 2.6390e-04\n",
            "Epoch 77/100\n",
            "387/387 [==============================] - 2s 5ms/step - loss: 0.0704 - accuracy: 0.2204 - val_loss: 103740657247453184.0000 - val_accuracy: 2.6390e-04\n",
            "Epoch 78/100\n",
            "387/387 [==============================] - 2s 5ms/step - loss: 0.0704 - accuracy: 0.2055 - val_loss: 103740657247453184.0000 - val_accuracy: 2.6390e-04\n",
            "Epoch 79/100\n",
            "387/387 [==============================] - 1s 4ms/step - loss: 0.0704 - accuracy: 0.2184 - val_loss: 103740657247453184.0000 - val_accuracy: 2.6390e-04\n",
            "Epoch 80/100\n",
            "387/387 [==============================] - 1s 4ms/step - loss: 0.0704 - accuracy: 0.2086 - val_loss: 103740657247453184.0000 - val_accuracy: 2.6390e-04\n",
            "Epoch 81/100\n",
            "387/387 [==============================] - 1s 4ms/step - loss: 0.0704 - accuracy: 0.2174 - val_loss: 103740657247453184.0000 - val_accuracy: 2.6390e-04\n",
            "Epoch 82/100\n",
            "387/387 [==============================] - 1s 4ms/step - loss: 0.0704 - accuracy: 0.2049 - val_loss: 103740657247453184.0000 - val_accuracy: 2.6390e-04\n",
            "Epoch 83/100\n",
            "387/387 [==============================] - 1s 4ms/step - loss: 0.0704 - accuracy: 0.2151 - val_loss: 103740657247453184.0000 - val_accuracy: 2.6390e-04\n",
            "Epoch 84/100\n",
            "387/387 [==============================] - 1s 4ms/step - loss: 0.0704 - accuracy: 0.2105 - val_loss: 103740657247453184.0000 - val_accuracy: 2.6390e-04\n",
            "Epoch 85/100\n",
            "387/387 [==============================] - 1s 4ms/step - loss: 0.0704 - accuracy: 0.2147 - val_loss: 103740657247453184.0000 - val_accuracy: 2.6390e-04\n",
            "Epoch 86/100\n",
            "387/387 [==============================] - 2s 5ms/step - loss: 0.0704 - accuracy: 0.2161 - val_loss: 103740657247453184.0000 - val_accuracy: 2.6390e-04\n",
            "Epoch 87/100\n",
            "387/387 [==============================] - 2s 5ms/step - loss: 0.0704 - accuracy: 0.2126 - val_loss: 103740657247453184.0000 - val_accuracy: 2.6390e-04\n",
            "Epoch 88/100\n",
            "387/387 [==============================] - 1s 4ms/step - loss: 0.0704 - accuracy: 0.2100 - val_loss: 103740657247453184.0000 - val_accuracy: 2.6390e-04\n",
            "Epoch 89/100\n",
            "387/387 [==============================] - 1s 3ms/step - loss: 0.0704 - accuracy: 0.2134 - val_loss: 103740657247453184.0000 - val_accuracy: 2.6390e-04\n",
            "Epoch 90/100\n",
            "387/387 [==============================] - 1s 4ms/step - loss: 0.0704 - accuracy: 0.2080 - val_loss: 103740657247453184.0000 - val_accuracy: 2.6390e-04\n",
            "Epoch 91/100\n",
            "387/387 [==============================] - 1s 4ms/step - loss: 0.0704 - accuracy: 0.2083 - val_loss: 103740657247453184.0000 - val_accuracy: 2.6390e-04\n",
            "Epoch 92/100\n",
            "387/387 [==============================] - 1s 4ms/step - loss: 0.0704 - accuracy: 0.1988 - val_loss: 103740657247453184.0000 - val_accuracy: 2.6390e-04\n",
            "Epoch 93/100\n",
            "387/387 [==============================] - 1s 4ms/step - loss: 0.0704 - accuracy: 0.2150 - val_loss: 103740657247453184.0000 - val_accuracy: 2.6390e-04\n",
            "Epoch 94/100\n",
            "387/387 [==============================] - 1s 4ms/step - loss: 0.0704 - accuracy: 0.2035 - val_loss: 103740657247453184.0000 - val_accuracy: 2.6390e-04\n",
            "Epoch 95/100\n",
            "387/387 [==============================] - 2s 5ms/step - loss: 0.0704 - accuracy: 0.2067 - val_loss: 103740657247453184.0000 - val_accuracy: 2.6390e-04\n",
            "Epoch 96/100\n",
            "387/387 [==============================] - 2s 5ms/step - loss: 0.0704 - accuracy: 0.1970 - val_loss: 103740657247453184.0000 - val_accuracy: 2.6390e-04\n",
            "Epoch 97/100\n",
            "387/387 [==============================] - 1s 4ms/step - loss: 0.0704 - accuracy: 0.2069 - val_loss: 103740657247453184.0000 - val_accuracy: 2.6390e-04\n",
            "Epoch 98/100\n",
            "387/387 [==============================] - 1s 4ms/step - loss: 0.0704 - accuracy: 0.2119 - val_loss: 103740657247453184.0000 - val_accuracy: 2.6390e-04\n",
            "Epoch 99/100\n",
            "387/387 [==============================] - 1s 4ms/step - loss: 0.0704 - accuracy: 0.2118 - val_loss: 103740657247453184.0000 - val_accuracy: 2.6390e-04\n",
            "Epoch 100/100\n",
            "387/387 [==============================] - 1s 4ms/step - loss: 0.0704 - accuracy: 0.2019 - val_loss: 103740657247453184.0000 - val_accuracy: 2.6390e-04\n"
          ]
        }
      ],
      "source": [
        "if model_selection[model_flag]==\"ALL\" or model_selection[model_flag] == \"AE\":\n",
        "  # training the model on training dataset\n",
        "  history = autoencoder.fit(X_train, X_train, epochs=100,batch_size=500,validation_data=(X_test, X_test)).history"
      ]
    },
    {
      "cell_type": "code",
      "execution_count": null,
      "metadata": {
        "id": "AdtR3-9xLliU"
      },
      "outputs": [],
      "source": [
        "if model_selection[model_flag]==\"ALL\" or model_selection[model_flag] == \"AE\":\n",
        "  filepath = '/content/drive/MyDrive/Colab_Notebooks/Models/ae_binary_unsw_nb15.json'\n",
        "  weightspath = '/content/drive/MyDrive/Colab_Notebooks/Weights/ae_binary_unsw_nb15.h5'\n",
        "  if (not path.isfile(filepath)): \n",
        "    # serialize model to JSON\n",
        "    autoencoder_json = autoencoder.to_json()\n",
        "    with open(filepath, \"w\") as json_file:\n",
        "      json_file.write(autoencoder_json)\n",
        "\n",
        "    # serialize weights to HDF5\n",
        "    autoencoder.save_weights(weightspath)\n",
        "    print(\"Saved model to disk\")\n",
        "\n",
        "    # load json and create model\n",
        "    json_file = open(filepath, 'r')\n",
        "    loaded_model_json = json_file.read()\n",
        "    json_file.close()\n",
        "    autoencoder = model_from_json(loaded_model_json)\n",
        "\n",
        "    # load weights into new model\n",
        "    autoencoder.load_weights(weightspath)\n",
        "    print(\"Loaded model from disk\")"
      ]
    },
    {
      "cell_type": "code",
      "execution_count": null,
      "metadata": {
        "id": "Wqr6HVtMLwx9"
      },
      "outputs": [],
      "source": [
        "if model_selection[model_flag]==\"ALL\" or model_selection[model_flag] == \"AE\":\n",
        "  # defining loss function, optimizer, metrics and then compiling model\n",
        "  autoencoder.compile(optimizer='adam', loss='mean_squared_error',metrics=['accuracy'])"
      ]
    },
    {
      "cell_type": "code",
      "execution_count": null,
      "metadata": {
        "id": "FQrjCk2hL09x",
        "colab": {
          "base_uri": "https://localhost:8080/"
        },
        "outputId": "29213be2-2712-47c9-fac2-e818c23cf36c"
      },
      "outputs": [
        {
          "output_type": "stream",
          "name": "stdout",
          "text": [
            "2014/2014 [==============================] - 4s 2ms/step - loss: 103740528398434304.0000 - accuracy: 2.6390e-04\n",
            "Test results - Loss: 1.037405283984343e+17 - Accuracy: 0.00026389729464426637%\n"
          ]
        }
      ],
      "source": [
        "if model_selection[model_flag]==\"ALL\" or model_selection[model_flag] == \"AE\":\n",
        "  # predicting target attribute on testing dataset\n",
        "  test_results = autoencoder.evaluate(X_test, X_test, verbose=1)\n",
        "  print(f'Test results - Loss: {test_results[0]} - Accuracy: {test_results[1]}%')"
      ]
    },
    {
      "cell_type": "code",
      "execution_count": null,
      "metadata": {
        "id": "VqQsjSZcL1-B",
        "colab": {
          "base_uri": "https://localhost:8080/",
          "height": 472
        },
        "outputId": "6e53f5f7-1fac-4cf2-b17c-63e074fd5331"
      },
      "outputs": [
        {
          "output_type": "display_data",
          "data": {
            "text/plain": [
              "<Figure size 640x480 with 1 Axes>"
            ],
            "image/png": "[encoded data removed]"
          },
          "metadata": {}
        }
      ],
      "source": [
        "if model_selection[model_flag]==\"ALL\" or model_selection[model_flag] == \"AE\":\n",
        "  # Plot of loss vs epoch of train and test dataset\n",
        "  plt.plot(history['loss'])\n",
        "  plt.plot(history['val_loss'])\n",
        "  plt.title(\"Plot of loss vs epoch for train and test dataset\")\n",
        "  plt.ylabel('loss')\n",
        "  plt.xlabel('epoch')\n",
        "  plt.legend(['train', 'test'], loc='upper right')\n",
        "  plt.savefig('/content/drive/MyDrive/Colab_Notebooks/Plots/ae_binary_loss.png')\n",
        "  plt.show()"
      ]
    },
    {
      "cell_type": "code",
      "execution_count": null,
      "metadata": {
        "id": "fkjD9QXKL25Z",
        "colab": {
          "base_uri": "https://localhost:8080/",
          "height": 472
        },
        "outputId": "afdcb8b5-55b8-4753-84fd-ec65579d9e1f"
      },
      "outputs": [
        {
          "output_type": "display_data",
          "data": {
            "text/plain": [
              "<Figure size 640x480 with 1 Axes>"
            ],
            "image/png": "[encoded data removed]"
          },
          "metadata": {}
        }
      ],
      "source": [
        "if model_selection[model_flag]==\"ALL\" or model_selection[model_flag] == \"AE\":\n",
        "  # Plot of accuracy vs epoch of train and test dataset\n",
        "  plt.plot(history['accuracy'])\n",
        "  plt.plot(history['val_accuracy'])\n",
        "  plt.title(\"Plot of accuracy vs epoch for train and test dataset\")\n",
        "  plt.ylabel('accuracy')\n",
        "  plt.xlabel('epoch')\n",
        "  plt.legend(['train', 'test'], loc='best')\n",
        "  plt.savefig('/content/drive/MyDrive/Colab_Notebooks/Plots/ae_binary_accuracy.png')\n",
        "  plt.show()"
      ]
    },
    {
      "cell_type": "code",
      "execution_count": null,
      "metadata": {
        "id": "lf9q83sBMGPD"
      },
      "outputs": [],
      "source": [
        "if model_selection[model_flag]==\"ALL\" or model_selection[model_flag] == \"AE\":\n",
        "  # representation of model layers\n",
        "  plot_model(autoencoder, to_file='/content/drive/MyDrive/Colab_Notebooks/Plots/ae_binary.png', show_shapes=True,)"
      ]
    },
    {
      "cell_type": "code",
      "execution_count": null,
      "metadata": {
        "id": "SFIXKGwuMLFo",
        "colab": {
          "base_uri": "https://localhost:8080/"
        },
        "outputId": "1586ba9b-ee02-401b-e102-e9de2d0b7c8e"
      },
      "outputs": [
        {
          "output_type": "stream",
          "name": "stdout",
          "text": [
            "2014/2014 [==============================] - 3s 1ms/step\n"
          ]
        }
      ],
      "source": [
        "if model_selection[model_flag]==\"ALL\" or model_selection[model_flag] == \"AE\":\n",
        "  # calculating reconstruction error \n",
        "  predictions = autoencoder.predict(X_test)"
      ]
    },
    {
      "cell_type": "code",
      "execution_count": null,
      "metadata": {
        "id": "cqKJCyZnMMEG"
      },
      "outputs": [],
      "source": [
        "if model_selection[model_flag]==\"ALL\" or model_selection[model_flag] == \"AE\":\n",
        "  mse = np.mean(np.power(X_test - predictions, 2), axis=1)\n",
        "  error_df = pd.DataFrame({'reconstruction_error': mse,\n",
        "                           'true_class': y_test})"
      ]
    },
    {
      "cell_type": "code",
      "execution_count": null,
      "metadata": {
        "id": "EdQJudbDMhmB",
        "colab": {
          "base_uri": "https://localhost:8080/"
        },
        "outputId": "b4f0a8fd-eeb5-4cd7-b4f5-207860693ae9"
      },
      "outputs": [
        {
          "output_type": "stream",
          "name": "stdout",
          "text": [
            "(64419, 56)\n"
          ]
        }
      ],
      "source": [
        "if model_selection[model_flag]==\"ALL\" or model_selection[model_flag] == \"AE\":\n",
        "  error_df.describe()\n",
        "  print(predictions.shape)"
      ]
    },
    {
      "cell_type": "markdown",
      "metadata": {
        "id": "PHsaAAMmNQrs"
      },
      "source": [
        "## **AE Classifier**"
      ]
    },
    {
      "cell_type": "code",
      "execution_count": null,
      "metadata": {
        "id": "1hK07LDBMoZg"
      },
      "outputs": [],
      "source": [
        "if model_selection[model_flag]==\"ALL\" or model_selection[model_flag] == \"AE\":\n",
        "  i_dim = predictions.shape[1]\n",
        "\n",
        "  #input layer\n",
        "  i_layer = Input(shape=(i_dim, ))\n",
        "  #hidden layer with 50 neurons\n",
        "  fvector = Dense(50, activation=\"sigmoid\")(i_layer)                    \n",
        "  #doutput layer\n",
        "  o_layer = Dense(1, activation='sigmoid')(fvector)"
      ]
    },
    {
      "cell_type": "code",
      "execution_count": null,
      "metadata": {
        "id": "Efq77rVINXWE"
      },
      "outputs": [],
      "source": [
        "if model_selection[model_flag]==\"ALL\" or model_selection[model_flag] == \"AE\":\n",
        "  # creating model with input, encoding, decoding, output layers\n",
        "  ae_classifier = Model(inputs=i_layer, outputs=o_layer)\n",
        "\n",
        "  # defining loss function, optimizer, metrics and then compiling model\n",
        "  ae_classifier.compile(optimizer='adam', loss='binary_crossentropy',metrics=['accuracy'])"
      ]
    },
    {
      "cell_type": "code",
      "execution_count": null,
      "metadata": {
        "id": "0Yl594VGNX1W",
        "colab": {
          "base_uri": "https://localhost:8080/"
        },
        "outputId": "cf7712ba-8950-4a9b-eacc-30033716e5f2"
      },
      "outputs": [
        {
          "output_type": "stream",
          "name": "stdout",
          "text": [
            "Model: \"model_1\"\n",
            "_________________________________________________________________\n",
            " Layer (type)                Output Shape              Param #   \n",
            "=================================================================\n",
            " input_2 (InputLayer)        [(None, 56)]              0         \n",
            "                                                                 \n",
            " dense_5 (Dense)             (None, 50)                2850      \n",
            "                                                                 \n",
            " dense_6 (Dense)             (None, 1)                 51        \n",
            "                                                                 \n",
            "=================================================================\n",
            "Total params: 2,901\n",
            "Trainable params: 2,901\n",
            "Non-trainable params: 0\n",
            "_________________________________________________________________\n"
          ]
        }
      ],
      "source": [
        "if model_selection[model_flag]==\"ALL\" or model_selection[model_flag] == \"AE\":\n",
        "  # summary of model layers\n",
        "  ae_classifier.summary()"
      ]
    },
    {
      "cell_type": "code",
      "execution_count": null,
      "metadata": {
        "id": "23n8Qt0uNX8Z",
        "colab": {
          "base_uri": "https://localhost:8080/"
        },
        "outputId": "5a37c0c5-7609-47ff-e65f-e9866d81f012"
      },
      "outputs": [
        {
          "output_type": "stream",
          "name": "stdout",
          "text": [
            "Epoch 1/300\n",
            "104/104 [==============================] - 1s 5ms/step - loss: 0.6492 - accuracy: 0.5928 - val_loss: 0.6000 - val_accuracy: 0.6455\n",
            "Epoch 2/300\n",
            "104/104 [==============================] - 0s 4ms/step - loss: 0.5807 - accuracy: 0.6376 - val_loss: 0.5571 - val_accuracy: 0.6455\n",
            "Epoch 3/300\n",
            "104/104 [==============================] - 0s 4ms/step - loss: 0.5383 - accuracy: 0.7080 - val_loss: 0.5200 - val_accuracy: 0.7526\n",
            "Epoch 4/300\n",
            "104/104 [==============================] - 0s 4ms/step - loss: 0.5053 - accuracy: 0.7556 - val_loss: 0.4949 - val_accuracy: 0.7526\n",
            "Epoch 5/300\n",
            "104/104 [==============================] - 0s 4ms/step - loss: 0.4854 - accuracy: 0.7603 - val_loss: 0.4820 - val_accuracy: 0.7507\n",
            "Epoch 6/300\n",
            "104/104 [==============================] - 0s 4ms/step - loss: 0.4755 - accuracy: 0.7611 - val_loss: 0.4763 - val_accuracy: 0.7507\n",
            "Epoch 7/300\n",
            "104/104 [==============================] - 1s 6ms/step - loss: 0.4708 - accuracy: 0.7611 - val_loss: 0.4730 - val_accuracy: 0.7507\n",
            "Epoch 8/300\n",
            "104/104 [==============================] - 1s 5ms/step - loss: 0.4682 - accuracy: 0.7611 - val_loss: 0.4709 - val_accuracy: 0.7507\n",
            "Epoch 9/300\n",
            "104/104 [==============================] - 1s 6ms/step - loss: 0.4669 - accuracy: 0.7611 - val_loss: 0.4701 - val_accuracy: 0.7507\n",
            "Epoch 10/300\n",
            "104/104 [==============================] - 1s 6ms/step - loss: 0.4659 - accuracy: 0.7611 - val_loss: 0.4691 - val_accuracy: 0.7507\n",
            "Epoch 11/300\n",
            "104/104 [==============================] - 1s 6ms/step - loss: 0.4654 - accuracy: 0.7611 - val_loss: 0.4687 - val_accuracy: 0.7507\n",
            "Epoch 12/300\n",
            "104/104 [==============================] - 1s 5ms/step - loss: 0.4649 - accuracy: 0.7611 - val_loss: 0.4698 - val_accuracy: 0.7507\n",
            "Epoch 13/300\n",
            "104/104 [==============================] - 0s 4ms/step - loss: 0.4648 - accuracy: 0.7611 - val_loss: 0.4684 - val_accuracy: 0.7507\n",
            "Epoch 14/300\n",
            "104/104 [==============================] - 0s 4ms/step - loss: 0.4646 - accuracy: 0.7611 - val_loss: 0.4692 - val_accuracy: 0.7507\n",
            "Epoch 15/300\n",
            "104/104 [==============================] - 0s 4ms/step - loss: 0.4646 - accuracy: 0.7611 - val_loss: 0.4684 - val_accuracy: 0.7507\n",
            "Epoch 16/300\n",
            "104/104 [==============================] - 0s 4ms/step - loss: 0.4646 - accuracy: 0.7611 - val_loss: 0.4692 - val_accuracy: 0.7507\n",
            "Epoch 17/300\n",
            "104/104 [==============================] - 0s 4ms/step - loss: 0.4645 - accuracy: 0.7611 - val_loss: 0.4683 - val_accuracy: 0.7507\n",
            "Epoch 18/300\n",
            "104/104 [==============================] - 0s 4ms/step - loss: 0.4643 - accuracy: 0.7611 - val_loss: 0.4694 - val_accuracy: 0.7507\n",
            "Epoch 19/300\n",
            "104/104 [==============================] - 0s 4ms/step - loss: 0.4644 - accuracy: 0.7611 - val_loss: 0.4688 - val_accuracy: 0.7507\n",
            "Epoch 20/300\n",
            "104/104 [==============================] - 0s 4ms/step - loss: 0.4644 - accuracy: 0.7611 - val_loss: 0.4681 - val_accuracy: 0.7507\n",
            "Epoch 21/300\n",
            "104/104 [==============================] - 0s 4ms/step - loss: 0.4645 - accuracy: 0.7611 - val_loss: 0.4692 - val_accuracy: 0.7507\n",
            "Epoch 22/300\n",
            "104/104 [==============================] - 0s 4ms/step - loss: 0.4645 - accuracy: 0.7611 - val_loss: 0.4686 - val_accuracy: 0.7507\n",
            "Epoch 23/300\n",
            "104/104 [==============================] - 0s 4ms/step - loss: 0.4643 - accuracy: 0.7611 - val_loss: 0.4684 - val_accuracy: 0.7507\n",
            "Epoch 24/300\n",
            "104/104 [==============================] - 0s 4ms/step - loss: 0.4644 - accuracy: 0.7611 - val_loss: 0.4683 - val_accuracy: 0.7507\n",
            "Epoch 25/300\n",
            "104/104 [==============================] - 0s 4ms/step - loss: 0.4644 - accuracy: 0.7611 - val_loss: 0.4689 - val_accuracy: 0.7507\n",
            "Epoch 26/300\n",
            "104/104 [==============================] - 0s 4ms/step - loss: 0.4645 - accuracy: 0.7611 - val_loss: 0.4687 - val_accuracy: 0.7507\n",
            "Epoch 27/300\n",
            "104/104 [==============================] - 0s 4ms/step - loss: 0.4644 - accuracy: 0.7611 - val_loss: 0.4685 - val_accuracy: 0.7507\n",
            "Epoch 28/300\n",
            "104/104 [==============================] - 0s 4ms/step - loss: 0.4643 - accuracy: 0.7611 - val_loss: 0.4682 - val_accuracy: 0.7507\n",
            "Epoch 29/300\n",
            "104/104 [==============================] - 0s 4ms/step - loss: 0.4645 - accuracy: 0.7611 - val_loss: 0.4690 - val_accuracy: 0.7507\n",
            "Epoch 30/300\n",
            "104/104 [==============================] - 0s 4ms/step - loss: 0.4644 - accuracy: 0.7611 - val_loss: 0.4683 - val_accuracy: 0.7507\n",
            "Epoch 31/300\n",
            "104/104 [==============================] - 0s 4ms/step - loss: 0.4645 - accuracy: 0.7609 - val_loss: 0.4687 - val_accuracy: 0.7507\n",
            "Epoch 32/300\n",
            "104/104 [==============================] - 0s 4ms/step - loss: 0.4646 - accuracy: 0.7604 - val_loss: 0.4687 - val_accuracy: 0.7507\n",
            "Epoch 33/300\n",
            "104/104 [==============================] - 0s 4ms/step - loss: 0.4644 - accuracy: 0.7611 - val_loss: 0.4683 - val_accuracy: 0.7507\n",
            "Epoch 34/300\n",
            "104/104 [==============================] - 0s 4ms/step - loss: 0.4644 - accuracy: 0.7611 - val_loss: 0.4684 - val_accuracy: 0.7507\n",
            "Epoch 35/300\n",
            "104/104 [==============================] - 0s 4ms/step - loss: 0.4643 - accuracy: 0.7611 - val_loss: 0.4682 - val_accuracy: 0.7507\n",
            "Epoch 36/300\n",
            "104/104 [==============================] - 0s 4ms/step - loss: 0.4643 - accuracy: 0.7611 - val_loss: 0.4683 - val_accuracy: 0.7507\n",
            "Epoch 37/300\n",
            "104/104 [==============================] - 1s 6ms/step - loss: 0.4645 - accuracy: 0.7611 - val_loss: 0.4685 - val_accuracy: 0.7507\n",
            "Epoch 38/300\n",
            "104/104 [==============================] - 1s 6ms/step - loss: 0.4644 - accuracy: 0.7611 - val_loss: 0.4687 - val_accuracy: 0.7507\n",
            "Epoch 39/300\n",
            "104/104 [==============================] - 1s 6ms/step - loss: 0.4646 - accuracy: 0.7604 - val_loss: 0.4688 - val_accuracy: 0.7507\n",
            "Epoch 40/300\n",
            "104/104 [==============================] - 1s 5ms/step - loss: 0.4644 - accuracy: 0.7611 - val_loss: 0.4683 - val_accuracy: 0.7507\n",
            "Epoch 41/300\n",
            "104/104 [==============================] - 1s 6ms/step - loss: 0.4644 - accuracy: 0.7611 - val_loss: 0.4684 - val_accuracy: 0.7507\n",
            "Epoch 42/300\n",
            "104/104 [==============================] - 1s 5ms/step - loss: 0.4644 - accuracy: 0.7611 - val_loss: 0.4682 - val_accuracy: 0.7507\n",
            "Epoch 43/300\n",
            "104/104 [==============================] - 0s 4ms/step - loss: 0.4644 - accuracy: 0.7612 - val_loss: 0.4688 - val_accuracy: 0.7507\n",
            "Epoch 44/300\n",
            "104/104 [==============================] - 0s 4ms/step - loss: 0.4644 - accuracy: 0.7611 - val_loss: 0.4682 - val_accuracy: 0.7507\n",
            "Epoch 45/300\n",
            "104/104 [==============================] - 0s 4ms/step - loss: 0.4646 - accuracy: 0.7611 - val_loss: 0.4682 - val_accuracy: 0.7507\n",
            "Epoch 46/300\n",
            "104/104 [==============================] - 0s 4ms/step - loss: 0.4645 - accuracy: 0.7611 - val_loss: 0.4682 - val_accuracy: 0.7507\n",
            "Epoch 47/300\n",
            "104/104 [==============================] - 0s 4ms/step - loss: 0.4644 - accuracy: 0.7611 - val_loss: 0.4685 - val_accuracy: 0.7507\n",
            "Epoch 48/300\n",
            "104/104 [==============================] - 0s 4ms/step - loss: 0.4643 - accuracy: 0.7611 - val_loss: 0.4689 - val_accuracy: 0.7507\n",
            "Epoch 49/300\n",
            "104/104 [==============================] - 0s 4ms/step - loss: 0.4644 - accuracy: 0.7611 - val_loss: 0.4693 - val_accuracy: 0.7507\n",
            "Epoch 50/300\n",
            "104/104 [==============================] - 0s 4ms/step - loss: 0.4645 - accuracy: 0.7611 - val_loss: 0.4684 - val_accuracy: 0.7507\n",
            "Epoch 51/300\n",
            "104/104 [==============================] - 0s 4ms/step - loss: 0.4644 - accuracy: 0.7608 - val_loss: 0.4682 - val_accuracy: 0.7507\n",
            "Epoch 52/300\n",
            "104/104 [==============================] - 0s 4ms/step - loss: 0.4644 - accuracy: 0.7608 - val_loss: 0.4686 - val_accuracy: 0.7507\n",
            "Epoch 53/300\n",
            "104/104 [==============================] - 0s 4ms/step - loss: 0.4644 - accuracy: 0.7611 - val_loss: 0.4691 - val_accuracy: 0.7507\n",
            "Epoch 54/300\n",
            "104/104 [==============================] - 0s 4ms/step - loss: 0.4645 - accuracy: 0.7603 - val_loss: 0.4695 - val_accuracy: 0.7507\n",
            "Epoch 55/300\n",
            "104/104 [==============================] - 0s 4ms/step - loss: 0.4644 - accuracy: 0.7611 - val_loss: 0.4685 - val_accuracy: 0.7507\n",
            "Epoch 56/300\n",
            "104/104 [==============================] - 0s 4ms/step - loss: 0.4644 - accuracy: 0.7611 - val_loss: 0.4684 - val_accuracy: 0.7507\n",
            "Epoch 57/300\n",
            "104/104 [==============================] - 0s 4ms/step - loss: 0.4643 - accuracy: 0.7611 - val_loss: 0.4686 - val_accuracy: 0.7507\n",
            "Epoch 58/300\n",
            "104/104 [==============================] - 0s 4ms/step - loss: 0.4643 - accuracy: 0.7611 - val_loss: 0.4685 - val_accuracy: 0.7507\n",
            "Epoch 59/300\n",
            "104/104 [==============================] - 0s 4ms/step - loss: 0.4643 - accuracy: 0.7611 - val_loss: 0.4687 - val_accuracy: 0.7507\n",
            "Epoch 60/300\n",
            "104/104 [==============================] - 0s 4ms/step - loss: 0.4644 - accuracy: 0.7611 - val_loss: 0.4685 - val_accuracy: 0.7507\n",
            "Epoch 61/300\n",
            "104/104 [==============================] - 0s 4ms/step - loss: 0.4643 - accuracy: 0.7611 - val_loss: 0.4682 - val_accuracy: 0.7507\n",
            "Epoch 62/300\n",
            "104/104 [==============================] - 0s 4ms/step - loss: 0.4645 - accuracy: 0.7611 - val_loss: 0.4684 - val_accuracy: 0.7507\n",
            "Epoch 63/300\n",
            "104/104 [==============================] - 0s 4ms/step - loss: 0.4643 - accuracy: 0.7611 - val_loss: 0.4687 - val_accuracy: 0.7507\n",
            "Epoch 64/300\n",
            "104/104 [==============================] - 0s 4ms/step - loss: 0.4643 - accuracy: 0.7611 - val_loss: 0.4683 - val_accuracy: 0.7507\n",
            "Epoch 65/300\n",
            "104/104 [==============================] - 0s 4ms/step - loss: 0.4644 - accuracy: 0.7611 - val_loss: 0.4686 - val_accuracy: 0.7507\n",
            "Epoch 66/300\n",
            "104/104 [==============================] - 0s 4ms/step - loss: 0.4644 - accuracy: 0.7611 - val_loss: 0.4682 - val_accuracy: 0.7507\n",
            "Epoch 67/300\n",
            "104/104 [==============================] - 1s 5ms/step - loss: 0.4644 - accuracy: 0.7611 - val_loss: 0.4682 - val_accuracy: 0.7507\n",
            "Epoch 68/300\n",
            "104/104 [==============================] - 1s 6ms/step - loss: 0.4643 - accuracy: 0.7611 - val_loss: 0.4686 - val_accuracy: 0.7507\n",
            "Epoch 69/300\n",
            "104/104 [==============================] - 1s 5ms/step - loss: 0.4644 - accuracy: 0.7611 - val_loss: 0.4686 - val_accuracy: 0.7507\n",
            "Epoch 70/300\n",
            "104/104 [==============================] - 1s 6ms/step - loss: 0.4644 - accuracy: 0.7611 - val_loss: 0.4691 - val_accuracy: 0.7507\n",
            "Epoch 71/300\n",
            "104/104 [==============================] - 1s 6ms/step - loss: 0.4643 - accuracy: 0.7611 - val_loss: 0.4690 - val_accuracy: 0.7507\n",
            "Epoch 72/300\n",
            "104/104 [==============================] - 1s 6ms/step - loss: 0.4643 - accuracy: 0.7611 - val_loss: 0.4681 - val_accuracy: 0.7507\n",
            "Epoch 73/300\n",
            "104/104 [==============================] - 0s 4ms/step - loss: 0.4645 - accuracy: 0.7606 - val_loss: 0.4691 - val_accuracy: 0.7507\n",
            "Epoch 74/300\n",
            "104/104 [==============================] - 0s 4ms/step - loss: 0.4644 - accuracy: 0.7611 - val_loss: 0.4690 - val_accuracy: 0.7507\n",
            "Epoch 75/300\n",
            "104/104 [==============================] - 0s 4ms/step - loss: 0.4645 - accuracy: 0.7611 - val_loss: 0.4687 - val_accuracy: 0.7507\n",
            "Epoch 76/300\n",
            "104/104 [==============================] - 0s 4ms/step - loss: 0.4644 - accuracy: 0.7611 - val_loss: 0.4684 - val_accuracy: 0.7507\n",
            "Epoch 77/300\n",
            "104/104 [==============================] - 0s 4ms/step - loss: 0.4643 - accuracy: 0.7611 - val_loss: 0.4684 - val_accuracy: 0.7507\n",
            "Epoch 78/300\n",
            "104/104 [==============================] - 0s 4ms/step - loss: 0.4643 - accuracy: 0.7611 - val_loss: 0.4693 - val_accuracy: 0.7507\n",
            "Epoch 79/300\n",
            "104/104 [==============================] - 0s 4ms/step - loss: 0.4644 - accuracy: 0.7611 - val_loss: 0.4682 - val_accuracy: 0.7507\n",
            "Epoch 80/300\n",
            "104/104 [==============================] - 0s 4ms/step - loss: 0.4645 - accuracy: 0.7611 - val_loss: 0.4690 - val_accuracy: 0.7507\n",
            "Epoch 81/300\n",
            "104/104 [==============================] - 0s 4ms/step - loss: 0.4644 - accuracy: 0.7611 - val_loss: 0.4685 - val_accuracy: 0.7507\n",
            "Epoch 82/300\n",
            "104/104 [==============================] - 0s 4ms/step - loss: 0.4643 - accuracy: 0.7611 - val_loss: 0.4682 - val_accuracy: 0.7507\n",
            "Epoch 83/300\n",
            "104/104 [==============================] - 0s 4ms/step - loss: 0.4644 - accuracy: 0.7611 - val_loss: 0.4690 - val_accuracy: 0.7507\n",
            "Epoch 84/300\n",
            "104/104 [==============================] - 0s 4ms/step - loss: 0.4645 - accuracy: 0.7611 - val_loss: 0.4682 - val_accuracy: 0.7507\n",
            "Epoch 85/300\n",
            "104/104 [==============================] - 0s 4ms/step - loss: 0.4643 - accuracy: 0.7611 - val_loss: 0.4703 - val_accuracy: 0.7507\n",
            "Epoch 86/300\n",
            "104/104 [==============================] - 0s 4ms/step - loss: 0.4644 - accuracy: 0.7611 - val_loss: 0.4683 - val_accuracy: 0.7507\n",
            "Epoch 87/300\n",
            "104/104 [==============================] - 0s 4ms/step - loss: 0.4643 - accuracy: 0.7611 - val_loss: 0.4685 - val_accuracy: 0.7507\n",
            "Epoch 88/300\n",
            "104/104 [==============================] - 0s 4ms/step - loss: 0.4644 - accuracy: 0.7608 - val_loss: 0.4685 - val_accuracy: 0.7507\n",
            "Epoch 89/300\n",
            "104/104 [==============================] - 0s 4ms/step - loss: 0.4643 - accuracy: 0.7611 - val_loss: 0.4682 - val_accuracy: 0.7507\n",
            "Epoch 90/300\n",
            "104/104 [==============================] - 0s 4ms/step - loss: 0.4644 - accuracy: 0.7608 - val_loss: 0.4682 - val_accuracy: 0.7507\n",
            "Epoch 91/300\n",
            "104/104 [==============================] - 0s 4ms/step - loss: 0.4644 - accuracy: 0.7615 - val_loss: 0.4682 - val_accuracy: 0.7507\n",
            "Epoch 92/300\n",
            "104/104 [==============================] - 0s 4ms/step - loss: 0.4643 - accuracy: 0.7611 - val_loss: 0.4698 - val_accuracy: 0.7507\n",
            "Epoch 93/300\n",
            "104/104 [==============================] - 0s 4ms/step - loss: 0.4644 - accuracy: 0.7611 - val_loss: 0.4685 - val_accuracy: 0.7507\n",
            "Epoch 94/300\n",
            "104/104 [==============================] - 0s 4ms/step - loss: 0.4643 - accuracy: 0.7611 - val_loss: 0.4692 - val_accuracy: 0.7507\n",
            "Epoch 95/300\n",
            "104/104 [==============================] - 0s 4ms/step - loss: 0.4643 - accuracy: 0.7611 - val_loss: 0.4688 - val_accuracy: 0.7507\n",
            "Epoch 96/300\n",
            "104/104 [==============================] - 0s 4ms/step - loss: 0.4644 - accuracy: 0.7611 - val_loss: 0.4682 - val_accuracy: 0.7507\n",
            "Epoch 97/300\n",
            "104/104 [==============================] - 1s 5ms/step - loss: 0.4645 - accuracy: 0.7602 - val_loss: 0.4684 - val_accuracy: 0.7507\n",
            "Epoch 98/300\n",
            "104/104 [==============================] - 1s 5ms/step - loss: 0.4644 - accuracy: 0.7611 - val_loss: 0.4684 - val_accuracy: 0.7507\n",
            "Epoch 99/300\n",
            "104/104 [==============================] - 1s 6ms/step - loss: 0.4644 - accuracy: 0.7611 - val_loss: 0.4682 - val_accuracy: 0.7507\n",
            "Epoch 100/300\n",
            "104/104 [==============================] - 1s 5ms/step - loss: 0.4645 - accuracy: 0.7610 - val_loss: 0.4686 - val_accuracy: 0.7507\n",
            "Epoch 101/300\n",
            "104/104 [==============================] - 1s 6ms/step - loss: 0.4645 - accuracy: 0.7611 - val_loss: 0.4682 - val_accuracy: 0.7507\n",
            "Epoch 102/300\n",
            "104/104 [==============================] - 1s 6ms/step - loss: 0.4644 - accuracy: 0.7611 - val_loss: 0.4682 - val_accuracy: 0.7507\n",
            "Epoch 103/300\n",
            "104/104 [==============================] - 0s 4ms/step - loss: 0.4645 - accuracy: 0.7611 - val_loss: 0.4682 - val_accuracy: 0.7507\n",
            "Epoch 104/300\n",
            "104/104 [==============================] - 0s 4ms/step - loss: 0.4644 - accuracy: 0.7610 - val_loss: 0.4682 - val_accuracy: 0.7507\n",
            "Epoch 105/300\n",
            "104/104 [==============================] - 0s 4ms/step - loss: 0.4644 - accuracy: 0.7611 - val_loss: 0.4686 - val_accuracy: 0.7507\n",
            "Epoch 106/300\n",
            "104/104 [==============================] - 0s 4ms/step - loss: 0.4643 - accuracy: 0.7611 - val_loss: 0.4685 - val_accuracy: 0.7507\n",
            "Epoch 107/300\n",
            "104/104 [==============================] - 0s 4ms/step - loss: 0.4644 - accuracy: 0.7611 - val_loss: 0.4685 - val_accuracy: 0.7507\n",
            "Epoch 108/300\n",
            "104/104 [==============================] - 0s 4ms/step - loss: 0.4644 - accuracy: 0.7611 - val_loss: 0.4685 - val_accuracy: 0.7507\n",
            "Epoch 109/300\n",
            "104/104 [==============================] - 0s 4ms/step - loss: 0.4644 - accuracy: 0.7611 - val_loss: 0.4684 - val_accuracy: 0.7507\n",
            "Epoch 110/300\n",
            "104/104 [==============================] - 0s 4ms/step - loss: 0.4643 - accuracy: 0.7611 - val_loss: 0.4685 - val_accuracy: 0.7507\n",
            "Epoch 111/300\n",
            "104/104 [==============================] - 0s 4ms/step - loss: 0.4644 - accuracy: 0.7610 - val_loss: 0.4689 - val_accuracy: 0.7507\n",
            "Epoch 112/300\n",
            "104/104 [==============================] - 0s 4ms/step - loss: 0.4643 - accuracy: 0.7611 - val_loss: 0.4687 - val_accuracy: 0.7507\n",
            "Epoch 113/300\n",
            "104/104 [==============================] - 0s 4ms/step - loss: 0.4643 - accuracy: 0.7611 - val_loss: 0.4683 - val_accuracy: 0.7507\n",
            "Epoch 114/300\n",
            "104/104 [==============================] - 0s 4ms/step - loss: 0.4643 - accuracy: 0.7611 - val_loss: 0.4686 - val_accuracy: 0.7507\n",
            "Epoch 115/300\n",
            "104/104 [==============================] - 0s 4ms/step - loss: 0.4644 - accuracy: 0.7611 - val_loss: 0.4684 - val_accuracy: 0.7507\n",
            "Epoch 116/300\n",
            "104/104 [==============================] - 0s 4ms/step - loss: 0.4644 - accuracy: 0.7611 - val_loss: 0.4682 - val_accuracy: 0.7507\n",
            "Epoch 117/300\n",
            "104/104 [==============================] - 0s 4ms/step - loss: 0.4644 - accuracy: 0.7611 - val_loss: 0.4693 - val_accuracy: 0.7507\n",
            "Epoch 118/300\n",
            "104/104 [==============================] - 0s 4ms/step - loss: 0.4643 - accuracy: 0.7611 - val_loss: 0.4685 - val_accuracy: 0.7507\n",
            "Epoch 119/300\n",
            "104/104 [==============================] - 0s 4ms/step - loss: 0.4644 - accuracy: 0.7611 - val_loss: 0.4685 - val_accuracy: 0.7507\n",
            "Epoch 120/300\n",
            "104/104 [==============================] - 0s 4ms/step - loss: 0.4644 - accuracy: 0.7598 - val_loss: 0.4691 - val_accuracy: 0.7507\n",
            "Epoch 121/300\n",
            "104/104 [==============================] - 0s 4ms/step - loss: 0.4644 - accuracy: 0.7611 - val_loss: 0.4686 - val_accuracy: 0.7507\n",
            "Epoch 122/300\n",
            "104/104 [==============================] - 0s 4ms/step - loss: 0.4644 - accuracy: 0.7612 - val_loss: 0.4685 - val_accuracy: 0.7507\n",
            "Epoch 123/300\n",
            "104/104 [==============================] - 0s 4ms/step - loss: 0.4645 - accuracy: 0.7611 - val_loss: 0.4682 - val_accuracy: 0.7507\n",
            "Epoch 124/300\n",
            "104/104 [==============================] - 0s 4ms/step - loss: 0.4645 - accuracy: 0.7611 - val_loss: 0.4682 - val_accuracy: 0.7507\n",
            "Epoch 125/300\n",
            "104/104 [==============================] - 0s 4ms/step - loss: 0.4644 - accuracy: 0.7609 - val_loss: 0.4691 - val_accuracy: 0.7507\n",
            "Epoch 126/300\n",
            "104/104 [==============================] - 0s 4ms/step - loss: 0.4643 - accuracy: 0.7611 - val_loss: 0.4683 - val_accuracy: 0.7507\n",
            "Epoch 127/300\n",
            "104/104 [==============================] - 0s 4ms/step - loss: 0.4644 - accuracy: 0.7611 - val_loss: 0.4691 - val_accuracy: 0.7507\n",
            "Epoch 128/300\n",
            "104/104 [==============================] - 1s 6ms/step - loss: 0.4644 - accuracy: 0.7611 - val_loss: 0.4683 - val_accuracy: 0.7507\n",
            "Epoch 129/300\n",
            "104/104 [==============================] - 1s 5ms/step - loss: 0.4643 - accuracy: 0.7611 - val_loss: 0.4683 - val_accuracy: 0.7507\n",
            "Epoch 130/300\n",
            "104/104 [==============================] - 1s 5ms/step - loss: 0.4643 - accuracy: 0.7611 - val_loss: 0.4681 - val_accuracy: 0.7507\n",
            "Epoch 131/300\n",
            "104/104 [==============================] - 1s 6ms/step - loss: 0.4645 - accuracy: 0.7611 - val_loss: 0.4682 - val_accuracy: 0.7507\n",
            "Epoch 132/300\n",
            "104/104 [==============================] - 1s 6ms/step - loss: 0.4644 - accuracy: 0.7611 - val_loss: 0.4682 - val_accuracy: 0.7507\n",
            "Epoch 133/300\n",
            "104/104 [==============================] - 1s 6ms/step - loss: 0.4644 - accuracy: 0.7611 - val_loss: 0.4694 - val_accuracy: 0.7507\n",
            "Epoch 134/300\n",
            "104/104 [==============================] - 0s 4ms/step - loss: 0.4647 - accuracy: 0.7611 - val_loss: 0.4686 - val_accuracy: 0.7507\n",
            "Epoch 135/300\n",
            "104/104 [==============================] - 0s 4ms/step - loss: 0.4643 - accuracy: 0.7611 - val_loss: 0.4690 - val_accuracy: 0.7507\n",
            "Epoch 136/300\n",
            "104/104 [==============================] - 0s 4ms/step - loss: 0.4644 - accuracy: 0.7611 - val_loss: 0.4682 - val_accuracy: 0.7507\n",
            "Epoch 137/300\n",
            "104/104 [==============================] - 0s 4ms/step - loss: 0.4644 - accuracy: 0.7611 - val_loss: 0.4685 - val_accuracy: 0.7507\n",
            "Epoch 138/300\n",
            "104/104 [==============================] - 0s 4ms/step - loss: 0.4645 - accuracy: 0.7611 - val_loss: 0.4685 - val_accuracy: 0.7507\n",
            "Epoch 139/300\n",
            "104/104 [==============================] - 0s 4ms/step - loss: 0.4644 - accuracy: 0.7611 - val_loss: 0.4686 - val_accuracy: 0.7507\n",
            "Epoch 140/300\n",
            "104/104 [==============================] - 0s 4ms/step - loss: 0.4645 - accuracy: 0.7611 - val_loss: 0.4692 - val_accuracy: 0.7507\n",
            "Epoch 141/300\n",
            "104/104 [==============================] - 0s 4ms/step - loss: 0.4645 - accuracy: 0.7611 - val_loss: 0.4684 - val_accuracy: 0.7507\n",
            "Epoch 142/300\n",
            "104/104 [==============================] - 0s 4ms/step - loss: 0.4644 - accuracy: 0.7611 - val_loss: 0.4684 - val_accuracy: 0.7507\n",
            "Epoch 143/300\n",
            "104/104 [==============================] - 0s 4ms/step - loss: 0.4644 - accuracy: 0.7611 - val_loss: 0.4690 - val_accuracy: 0.7507\n",
            "Epoch 144/300\n",
            "104/104 [==============================] - 0s 4ms/step - loss: 0.4644 - accuracy: 0.7611 - val_loss: 0.4685 - val_accuracy: 0.7507\n",
            "Epoch 145/300\n",
            "104/104 [==============================] - 0s 4ms/step - loss: 0.4645 - accuracy: 0.7608 - val_loss: 0.4682 - val_accuracy: 0.7507\n",
            "Epoch 146/300\n",
            "104/104 [==============================] - 0s 4ms/step - loss: 0.4644 - accuracy: 0.7609 - val_loss: 0.4682 - val_accuracy: 0.7507\n",
            "Epoch 147/300\n",
            "104/104 [==============================] - 0s 4ms/step - loss: 0.4643 - accuracy: 0.7611 - val_loss: 0.4684 - val_accuracy: 0.7507\n",
            "Epoch 148/300\n",
            "104/104 [==============================] - 0s 4ms/step - loss: 0.4643 - accuracy: 0.7611 - val_loss: 0.4683 - val_accuracy: 0.7507\n",
            "Epoch 149/300\n",
            "104/104 [==============================] - 0s 4ms/step - loss: 0.4643 - accuracy: 0.7611 - val_loss: 0.4683 - val_accuracy: 0.7507\n",
            "Epoch 150/300\n",
            "104/104 [==============================] - 0s 4ms/step - loss: 0.4643 - accuracy: 0.7611 - val_loss: 0.4686 - val_accuracy: 0.7507\n",
            "Epoch 151/300\n",
            "104/104 [==============================] - 0s 4ms/step - loss: 0.4644 - accuracy: 0.7611 - val_loss: 0.4687 - val_accuracy: 0.7507\n",
            "Epoch 152/300\n",
            "104/104 [==============================] - 0s 4ms/step - loss: 0.4644 - accuracy: 0.7606 - val_loss: 0.4684 - val_accuracy: 0.7507\n",
            "Epoch 153/300\n",
            "104/104 [==============================] - 0s 4ms/step - loss: 0.4644 - accuracy: 0.7611 - val_loss: 0.4682 - val_accuracy: 0.7507\n",
            "Epoch 154/300\n",
            "104/104 [==============================] - 0s 4ms/step - loss: 0.4644 - accuracy: 0.7611 - val_loss: 0.4686 - val_accuracy: 0.7507\n",
            "Epoch 155/300\n",
            "104/104 [==============================] - 0s 4ms/step - loss: 0.4644 - accuracy: 0.7611 - val_loss: 0.4684 - val_accuracy: 0.7507\n",
            "Epoch 156/300\n",
            "104/104 [==============================] - 0s 4ms/step - loss: 0.4644 - accuracy: 0.7611 - val_loss: 0.4683 - val_accuracy: 0.7507\n",
            "Epoch 157/300\n",
            "104/104 [==============================] - 0s 4ms/step - loss: 0.4643 - accuracy: 0.7611 - val_loss: 0.4706 - val_accuracy: 0.7507\n",
            "Epoch 158/300\n",
            "104/104 [==============================] - 1s 6ms/step - loss: 0.4646 - accuracy: 0.7611 - val_loss: 0.4686 - val_accuracy: 0.7507\n",
            "Epoch 159/300\n",
            "104/104 [==============================] - 1s 5ms/step - loss: 0.4643 - accuracy: 0.7611 - val_loss: 0.4682 - val_accuracy: 0.7507\n",
            "Epoch 160/300\n",
            "104/104 [==============================] - 1s 6ms/step - loss: 0.4644 - accuracy: 0.7611 - val_loss: 0.4687 - val_accuracy: 0.7507\n",
            "Epoch 161/300\n",
            "104/104 [==============================] - 1s 6ms/step - loss: 0.4643 - accuracy: 0.7611 - val_loss: 0.4682 - val_accuracy: 0.7507\n",
            "Epoch 162/300\n",
            "104/104 [==============================] - 1s 6ms/step - loss: 0.4644 - accuracy: 0.7611 - val_loss: 0.4690 - val_accuracy: 0.7507\n",
            "Epoch 163/300\n",
            "104/104 [==============================] - 1s 6ms/step - loss: 0.4643 - accuracy: 0.7611 - val_loss: 0.4687 - val_accuracy: 0.7507\n",
            "Epoch 164/300\n",
            "104/104 [==============================] - 0s 4ms/step - loss: 0.4644 - accuracy: 0.7611 - val_loss: 0.4685 - val_accuracy: 0.7507\n",
            "Epoch 165/300\n",
            "104/104 [==============================] - 0s 4ms/step - loss: 0.4643 - accuracy: 0.7611 - val_loss: 0.4689 - val_accuracy: 0.7507\n",
            "Epoch 166/300\n",
            "104/104 [==============================] - 0s 4ms/step - loss: 0.4644 - accuracy: 0.7611 - val_loss: 0.4683 - val_accuracy: 0.7507\n",
            "Epoch 167/300\n",
            "104/104 [==============================] - 0s 4ms/step - loss: 0.4644 - accuracy: 0.7611 - val_loss: 0.4686 - val_accuracy: 0.7507\n",
            "Epoch 168/300\n",
            "104/104 [==============================] - 0s 4ms/step - loss: 0.4644 - accuracy: 0.7611 - val_loss: 0.4683 - val_accuracy: 0.7507\n",
            "Epoch 169/300\n",
            "104/104 [==============================] - 0s 4ms/step - loss: 0.4644 - accuracy: 0.7611 - val_loss: 0.4682 - val_accuracy: 0.7507\n",
            "Epoch 170/300\n",
            "104/104 [==============================] - 0s 4ms/step - loss: 0.4644 - accuracy: 0.7611 - val_loss: 0.4683 - val_accuracy: 0.7507\n",
            "Epoch 171/300\n",
            "104/104 [==============================] - 0s 4ms/step - loss: 0.4644 - accuracy: 0.7611 - val_loss: 0.4691 - val_accuracy: 0.7507\n",
            "Epoch 172/300\n",
            "104/104 [==============================] - 0s 4ms/step - loss: 0.4644 - accuracy: 0.7611 - val_loss: 0.4686 - val_accuracy: 0.7507\n",
            "Epoch 173/300\n",
            "104/104 [==============================] - 0s 4ms/step - loss: 0.4643 - accuracy: 0.7611 - val_loss: 0.4686 - val_accuracy: 0.7507\n",
            "Epoch 174/300\n",
            "104/104 [==============================] - 0s 4ms/step - loss: 0.4644 - accuracy: 0.7611 - val_loss: 0.4685 - val_accuracy: 0.7507\n",
            "Epoch 175/300\n",
            "104/104 [==============================] - 0s 4ms/step - loss: 0.4644 - accuracy: 0.7611 - val_loss: 0.4687 - val_accuracy: 0.7507\n",
            "Epoch 176/300\n",
            "104/104 [==============================] - 0s 4ms/step - loss: 0.4643 - accuracy: 0.7611 - val_loss: 0.4682 - val_accuracy: 0.7507\n",
            "Epoch 177/300\n",
            "104/104 [==============================] - 0s 4ms/step - loss: 0.4644 - accuracy: 0.7611 - val_loss: 0.4683 - val_accuracy: 0.7507\n",
            "Epoch 178/300\n",
            "104/104 [==============================] - 0s 4ms/step - loss: 0.4646 - accuracy: 0.7611 - val_loss: 0.4682 - val_accuracy: 0.7507\n",
            "Epoch 179/300\n",
            "104/104 [==============================] - 0s 4ms/step - loss: 0.4645 - accuracy: 0.7608 - val_loss: 0.4682 - val_accuracy: 0.7507\n",
            "Epoch 180/300\n",
            "104/104 [==============================] - 0s 4ms/step - loss: 0.4644 - accuracy: 0.7611 - val_loss: 0.4699 - val_accuracy: 0.7507\n",
            "Epoch 181/300\n",
            "104/104 [==============================] - 0s 4ms/step - loss: 0.4643 - accuracy: 0.7611 - val_loss: 0.4682 - val_accuracy: 0.7507\n",
            "Epoch 182/300\n",
            "104/104 [==============================] - 0s 4ms/step - loss: 0.4644 - accuracy: 0.7611 - val_loss: 0.4687 - val_accuracy: 0.7507\n",
            "Epoch 183/300\n",
            "104/104 [==============================] - 0s 4ms/step - loss: 0.4644 - accuracy: 0.7611 - val_loss: 0.4683 - val_accuracy: 0.7507\n",
            "Epoch 184/300\n",
            "104/104 [==============================] - 0s 4ms/step - loss: 0.4644 - accuracy: 0.7611 - val_loss: 0.4682 - val_accuracy: 0.7507\n",
            "Epoch 185/300\n",
            "104/104 [==============================] - 0s 4ms/step - loss: 0.4644 - accuracy: 0.7611 - val_loss: 0.4689 - val_accuracy: 0.7507\n",
            "Epoch 186/300\n",
            "104/104 [==============================] - 0s 4ms/step - loss: 0.4644 - accuracy: 0.7611 - val_loss: 0.4685 - val_accuracy: 0.7507\n",
            "Epoch 187/300\n",
            "104/104 [==============================] - 0s 4ms/step - loss: 0.4643 - accuracy: 0.7611 - val_loss: 0.4682 - val_accuracy: 0.7507\n",
            "Epoch 188/300\n",
            "104/104 [==============================] - 1s 6ms/step - loss: 0.4644 - accuracy: 0.7611 - val_loss: 0.4686 - val_accuracy: 0.7507\n",
            "Epoch 189/300\n",
            "104/104 [==============================] - 1s 6ms/step - loss: 0.4645 - accuracy: 0.7611 - val_loss: 0.4685 - val_accuracy: 0.7507\n",
            "Epoch 190/300\n",
            "104/104 [==============================] - 1s 5ms/step - loss: 0.4644 - accuracy: 0.7611 - val_loss: 0.4696 - val_accuracy: 0.7507\n",
            "Epoch 191/300\n",
            "104/104 [==============================] - 1s 6ms/step - loss: 0.4644 - accuracy: 0.7611 - val_loss: 0.4685 - val_accuracy: 0.7507\n",
            "Epoch 192/300\n",
            "104/104 [==============================] - 1s 5ms/step - loss: 0.4644 - accuracy: 0.7613 - val_loss: 0.4682 - val_accuracy: 0.7507\n",
            "Epoch 193/300\n",
            "104/104 [==============================] - 1s 5ms/step - loss: 0.4645 - accuracy: 0.7611 - val_loss: 0.4683 - val_accuracy: 0.7507\n",
            "Epoch 194/300\n",
            "104/104 [==============================] - 0s 4ms/step - loss: 0.4645 - accuracy: 0.7611 - val_loss: 0.4686 - val_accuracy: 0.7507\n",
            "Epoch 195/300\n",
            "104/104 [==============================] - 0s 4ms/step - loss: 0.4644 - accuracy: 0.7611 - val_loss: 0.4683 - val_accuracy: 0.7507\n",
            "Epoch 196/300\n",
            "104/104 [==============================] - 0s 4ms/step - loss: 0.4644 - accuracy: 0.7611 - val_loss: 0.4684 - val_accuracy: 0.7507\n",
            "Epoch 197/300\n",
            "104/104 [==============================] - 0s 4ms/step - loss: 0.4643 - accuracy: 0.7611 - val_loss: 0.4685 - val_accuracy: 0.7507\n",
            "Epoch 198/300\n",
            "104/104 [==============================] - 0s 4ms/step - loss: 0.4645 - accuracy: 0.7608 - val_loss: 0.4684 - val_accuracy: 0.7507\n",
            "Epoch 199/300\n",
            "104/104 [==============================] - 0s 4ms/step - loss: 0.4644 - accuracy: 0.7611 - val_loss: 0.4687 - val_accuracy: 0.7507\n",
            "Epoch 200/300\n",
            "104/104 [==============================] - 0s 4ms/step - loss: 0.4644 - accuracy: 0.7611 - val_loss: 0.4682 - val_accuracy: 0.7507\n",
            "Epoch 201/300\n",
            "104/104 [==============================] - 0s 4ms/step - loss: 0.4645 - accuracy: 0.7606 - val_loss: 0.4685 - val_accuracy: 0.7507\n",
            "Epoch 202/300\n",
            "104/104 [==============================] - 0s 4ms/step - loss: 0.4644 - accuracy: 0.7611 - val_loss: 0.4681 - val_accuracy: 0.7507\n",
            "Epoch 203/300\n",
            "104/104 [==============================] - 0s 4ms/step - loss: 0.4646 - accuracy: 0.7603 - val_loss: 0.4681 - val_accuracy: 0.7507\n",
            "Epoch 204/300\n",
            "104/104 [==============================] - 0s 4ms/step - loss: 0.4646 - accuracy: 0.7611 - val_loss: 0.4688 - val_accuracy: 0.7507\n",
            "Epoch 205/300\n",
            "104/104 [==============================] - 0s 4ms/step - loss: 0.4645 - accuracy: 0.7611 - val_loss: 0.4689 - val_accuracy: 0.7507\n",
            "Epoch 206/300\n",
            "104/104 [==============================] - 0s 4ms/step - loss: 0.4643 - accuracy: 0.7611 - val_loss: 0.4685 - val_accuracy: 0.7507\n",
            "Epoch 207/300\n",
            "104/104 [==============================] - 0s 4ms/step - loss: 0.4644 - accuracy: 0.7611 - val_loss: 0.4684 - val_accuracy: 0.7507\n",
            "Epoch 208/300\n",
            "104/104 [==============================] - 0s 4ms/step - loss: 0.4643 - accuracy: 0.7611 - val_loss: 0.4689 - val_accuracy: 0.7507\n",
            "Epoch 209/300\n",
            "104/104 [==============================] - 0s 4ms/step - loss: 0.4643 - accuracy: 0.7611 - val_loss: 0.4682 - val_accuracy: 0.7507\n",
            "Epoch 210/300\n",
            "104/104 [==============================] - 0s 4ms/step - loss: 0.4643 - accuracy: 0.7611 - val_loss: 0.4682 - val_accuracy: 0.7507\n",
            "Epoch 211/300\n",
            "104/104 [==============================] - 0s 4ms/step - loss: 0.4644 - accuracy: 0.7611 - val_loss: 0.4683 - val_accuracy: 0.7507\n",
            "Epoch 212/300\n",
            "104/104 [==============================] - 0s 4ms/step - loss: 0.4644 - accuracy: 0.7611 - val_loss: 0.4690 - val_accuracy: 0.7507\n",
            "Epoch 213/300\n",
            "104/104 [==============================] - 0s 4ms/step - loss: 0.4644 - accuracy: 0.7611 - val_loss: 0.4683 - val_accuracy: 0.7507\n",
            "Epoch 214/300\n",
            "104/104 [==============================] - 0s 4ms/step - loss: 0.4644 - accuracy: 0.7608 - val_loss: 0.4683 - val_accuracy: 0.7507\n",
            "Epoch 215/300\n",
            "104/104 [==============================] - 0s 4ms/step - loss: 0.4644 - accuracy: 0.7611 - val_loss: 0.4682 - val_accuracy: 0.7507\n",
            "Epoch 216/300\n",
            "104/104 [==============================] - 0s 4ms/step - loss: 0.4645 - accuracy: 0.7610 - val_loss: 0.4683 - val_accuracy: 0.7507\n",
            "Epoch 217/300\n",
            "104/104 [==============================] - 1s 5ms/step - loss: 0.4643 - accuracy: 0.7611 - val_loss: 0.4683 - val_accuracy: 0.7507\n",
            "Epoch 218/300\n",
            "104/104 [==============================] - 1s 6ms/step - loss: 0.4645 - accuracy: 0.7598 - val_loss: 0.4687 - val_accuracy: 0.7507\n",
            "Epoch 219/300\n",
            "104/104 [==============================] - 1s 6ms/step - loss: 0.4644 - accuracy: 0.7611 - val_loss: 0.4683 - val_accuracy: 0.7507\n",
            "Epoch 220/300\n",
            "104/104 [==============================] - 1s 6ms/step - loss: 0.4644 - accuracy: 0.7611 - val_loss: 0.4686 - val_accuracy: 0.7507\n",
            "Epoch 221/300\n",
            "104/104 [==============================] - 1s 5ms/step - loss: 0.4645 - accuracy: 0.7611 - val_loss: 0.4682 - val_accuracy: 0.7507\n",
            "Epoch 222/300\n",
            "104/104 [==============================] - 1s 6ms/step - loss: 0.4643 - accuracy: 0.7611 - val_loss: 0.4684 - val_accuracy: 0.7507\n",
            "Epoch 223/300\n",
            "104/104 [==============================] - 0s 4ms/step - loss: 0.4644 - accuracy: 0.7603 - val_loss: 0.4697 - val_accuracy: 0.7507\n",
            "Epoch 224/300\n",
            "104/104 [==============================] - 0s 4ms/step - loss: 0.4646 - accuracy: 0.7611 - val_loss: 0.4683 - val_accuracy: 0.7507\n",
            "Epoch 225/300\n",
            "104/104 [==============================] - 0s 4ms/step - loss: 0.4643 - accuracy: 0.7611 - val_loss: 0.4682 - val_accuracy: 0.7507\n",
            "Epoch 226/300\n",
            "104/104 [==============================] - 0s 4ms/step - loss: 0.4644 - accuracy: 0.7611 - val_loss: 0.4686 - val_accuracy: 0.7507\n",
            "Epoch 227/300\n",
            "104/104 [==============================] - 0s 4ms/step - loss: 0.4644 - accuracy: 0.7611 - val_loss: 0.4682 - val_accuracy: 0.7507\n",
            "Epoch 228/300\n",
            "104/104 [==============================] - 0s 4ms/step - loss: 0.4644 - accuracy: 0.7611 - val_loss: 0.4681 - val_accuracy: 0.7507\n",
            "Epoch 229/300\n",
            "104/104 [==============================] - 0s 4ms/step - loss: 0.4644 - accuracy: 0.7611 - val_loss: 0.4681 - val_accuracy: 0.7507\n",
            "Epoch 230/300\n",
            "104/104 [==============================] - 0s 4ms/step - loss: 0.4644 - accuracy: 0.7606 - val_loss: 0.4689 - val_accuracy: 0.7507\n",
            "Epoch 231/300\n",
            "104/104 [==============================] - 0s 4ms/step - loss: 0.4644 - accuracy: 0.7609 - val_loss: 0.4681 - val_accuracy: 0.7507\n",
            "Epoch 232/300\n",
            "104/104 [==============================] - 0s 4ms/step - loss: 0.4644 - accuracy: 0.7611 - val_loss: 0.4681 - val_accuracy: 0.7507\n",
            "Epoch 233/300\n",
            "104/104 [==============================] - 0s 4ms/step - loss: 0.4643 - accuracy: 0.7611 - val_loss: 0.4683 - val_accuracy: 0.7507\n",
            "Epoch 234/300\n",
            "104/104 [==============================] - 0s 4ms/step - loss: 0.4645 - accuracy: 0.7605 - val_loss: 0.4682 - val_accuracy: 0.7507\n",
            "Epoch 235/300\n",
            "104/104 [==============================] - 0s 4ms/step - loss: 0.4645 - accuracy: 0.7609 - val_loss: 0.4691 - val_accuracy: 0.7507\n",
            "Epoch 236/300\n",
            "104/104 [==============================] - 0s 4ms/step - loss: 0.4644 - accuracy: 0.7611 - val_loss: 0.4683 - val_accuracy: 0.7507\n",
            "Epoch 237/300\n",
            "104/104 [==============================] - 0s 4ms/step - loss: 0.4643 - accuracy: 0.7611 - val_loss: 0.4682 - val_accuracy: 0.7507\n",
            "Epoch 238/300\n",
            "104/104 [==============================] - 0s 4ms/step - loss: 0.4644 - accuracy: 0.7606 - val_loss: 0.4683 - val_accuracy: 0.7507\n",
            "Epoch 239/300\n",
            "104/104 [==============================] - 0s 4ms/step - loss: 0.4644 - accuracy: 0.7611 - val_loss: 0.4691 - val_accuracy: 0.7507\n",
            "Epoch 240/300\n",
            "104/104 [==============================] - 0s 4ms/step - loss: 0.4644 - accuracy: 0.7611 - val_loss: 0.4684 - val_accuracy: 0.7507\n",
            "Epoch 241/300\n",
            "104/104 [==============================] - 0s 4ms/step - loss: 0.4644 - accuracy: 0.7611 - val_loss: 0.4682 - val_accuracy: 0.7507\n",
            "Epoch 242/300\n",
            "104/104 [==============================] - 0s 4ms/step - loss: 0.4644 - accuracy: 0.7611 - val_loss: 0.4692 - val_accuracy: 0.7507\n",
            "Epoch 243/300\n",
            "104/104 [==============================] - 0s 4ms/step - loss: 0.4643 - accuracy: 0.7611 - val_loss: 0.4691 - val_accuracy: 0.7507\n",
            "Epoch 244/300\n",
            "104/104 [==============================] - 0s 4ms/step - loss: 0.4644 - accuracy: 0.7611 - val_loss: 0.4682 - val_accuracy: 0.7507\n",
            "Epoch 245/300\n",
            "104/104 [==============================] - 0s 4ms/step - loss: 0.4644 - accuracy: 0.7611 - val_loss: 0.4683 - val_accuracy: 0.7507\n",
            "Epoch 246/300\n",
            "104/104 [==============================] - 0s 4ms/step - loss: 0.4644 - accuracy: 0.7611 - val_loss: 0.4683 - val_accuracy: 0.7507\n",
            "Epoch 247/300\n",
            "104/104 [==============================] - 1s 5ms/step - loss: 0.4644 - accuracy: 0.7611 - val_loss: 0.4685 - val_accuracy: 0.7507\n",
            "Epoch 248/300\n",
            "104/104 [==============================] - 1s 6ms/step - loss: 0.4643 - accuracy: 0.7611 - val_loss: 0.4697 - val_accuracy: 0.7507\n",
            "Epoch 249/300\n",
            "104/104 [==============================] - 1s 6ms/step - loss: 0.4645 - accuracy: 0.7611 - val_loss: 0.4686 - val_accuracy: 0.7507\n",
            "Epoch 250/300\n",
            "104/104 [==============================] - 1s 6ms/step - loss: 0.4644 - accuracy: 0.7611 - val_loss: 0.4689 - val_accuracy: 0.7507\n",
            "Epoch 251/300\n",
            "104/104 [==============================] - 1s 6ms/step - loss: 0.4644 - accuracy: 0.7611 - val_loss: 0.4683 - val_accuracy: 0.7507\n",
            "Epoch 252/300\n",
            "104/104 [==============================] - 1s 5ms/step - loss: 0.4644 - accuracy: 0.7611 - val_loss: 0.4682 - val_accuracy: 0.7507\n",
            "Epoch 253/300\n",
            "104/104 [==============================] - 0s 5ms/step - loss: 0.4644 - accuracy: 0.7611 - val_loss: 0.4684 - val_accuracy: 0.7507\n",
            "Epoch 254/300\n",
            "104/104 [==============================] - 0s 4ms/step - loss: 0.4645 - accuracy: 0.7611 - val_loss: 0.4684 - val_accuracy: 0.7507\n",
            "Epoch 255/300\n",
            "104/104 [==============================] - 0s 4ms/step - loss: 0.4644 - accuracy: 0.7611 - val_loss: 0.4681 - val_accuracy: 0.7507\n",
            "Epoch 256/300\n",
            "104/104 [==============================] - 0s 4ms/step - loss: 0.4645 - accuracy: 0.7611 - val_loss: 0.4683 - val_accuracy: 0.7507\n",
            "Epoch 257/300\n",
            "104/104 [==============================] - 0s 4ms/step - loss: 0.4644 - accuracy: 0.7611 - val_loss: 0.4685 - val_accuracy: 0.7507\n",
            "Epoch 258/300\n",
            "104/104 [==============================] - 0s 4ms/step - loss: 0.4643 - accuracy: 0.7611 - val_loss: 0.4686 - val_accuracy: 0.7507\n",
            "Epoch 259/300\n",
            "104/104 [==============================] - 0s 4ms/step - loss: 0.4644 - accuracy: 0.7611 - val_loss: 0.4683 - val_accuracy: 0.7507\n",
            "Epoch 260/300\n",
            "104/104 [==============================] - 0s 4ms/step - loss: 0.4645 - accuracy: 0.7611 - val_loss: 0.4698 - val_accuracy: 0.7507\n",
            "Epoch 261/300\n",
            "104/104 [==============================] - 0s 4ms/step - loss: 0.4644 - accuracy: 0.7611 - val_loss: 0.4681 - val_accuracy: 0.7507\n",
            "Epoch 262/300\n",
            "104/104 [==============================] - 0s 4ms/step - loss: 0.4645 - accuracy: 0.7603 - val_loss: 0.4684 - val_accuracy: 0.7507\n",
            "Epoch 263/300\n",
            "104/104 [==============================] - 0s 4ms/step - loss: 0.4644 - accuracy: 0.7611 - val_loss: 0.4681 - val_accuracy: 0.7507\n",
            "Epoch 264/300\n",
            "104/104 [==============================] - 0s 4ms/step - loss: 0.4643 - accuracy: 0.7611 - val_loss: 0.4694 - val_accuracy: 0.7507\n",
            "Epoch 265/300\n",
            "104/104 [==============================] - 0s 4ms/step - loss: 0.4644 - accuracy: 0.7611 - val_loss: 0.4685 - val_accuracy: 0.7507\n",
            "Epoch 266/300\n",
            "104/104 [==============================] - 0s 4ms/step - loss: 0.4644 - accuracy: 0.7611 - val_loss: 0.4682 - val_accuracy: 0.7507\n",
            "Epoch 267/300\n",
            "104/104 [==============================] - 0s 4ms/step - loss: 0.4643 - accuracy: 0.7611 - val_loss: 0.4690 - val_accuracy: 0.7507\n",
            "Epoch 268/300\n",
            "104/104 [==============================] - 0s 4ms/step - loss: 0.4644 - accuracy: 0.7611 - val_loss: 0.4690 - val_accuracy: 0.7507\n",
            "Epoch 269/300\n",
            "104/104 [==============================] - 0s 4ms/step - loss: 0.4644 - accuracy: 0.7605 - val_loss: 0.4690 - val_accuracy: 0.7507\n",
            "Epoch 270/300\n",
            "104/104 [==============================] - 0s 4ms/step - loss: 0.4645 - accuracy: 0.7611 - val_loss: 0.4683 - val_accuracy: 0.7507\n",
            "Epoch 271/300\n",
            "104/104 [==============================] - 0s 4ms/step - loss: 0.4644 - accuracy: 0.7611 - val_loss: 0.4690 - val_accuracy: 0.7507\n",
            "Epoch 272/300\n",
            "104/104 [==============================] - 0s 4ms/step - loss: 0.4644 - accuracy: 0.7611 - val_loss: 0.4688 - val_accuracy: 0.7507\n",
            "Epoch 273/300\n",
            "104/104 [==============================] - 0s 4ms/step - loss: 0.4644 - accuracy: 0.7611 - val_loss: 0.4688 - val_accuracy: 0.7507\n",
            "Epoch 274/300\n",
            "104/104 [==============================] - 0s 4ms/step - loss: 0.4645 - accuracy: 0.7615 - val_loss: 0.4686 - val_accuracy: 0.7507\n",
            "Epoch 275/300\n",
            "104/104 [==============================] - 0s 4ms/step - loss: 0.4644 - accuracy: 0.7611 - val_loss: 0.4685 - val_accuracy: 0.7507\n",
            "Epoch 276/300\n",
            "104/104 [==============================] - 1s 5ms/step - loss: 0.4643 - accuracy: 0.7611 - val_loss: 0.4686 - val_accuracy: 0.7507\n",
            "Epoch 277/300\n",
            "104/104 [==============================] - 1s 5ms/step - loss: 0.4644 - accuracy: 0.7611 - val_loss: 0.4684 - val_accuracy: 0.7507\n",
            "Epoch 278/300\n",
            "104/104 [==============================] - 1s 6ms/step - loss: 0.4643 - accuracy: 0.7611 - val_loss: 0.4686 - val_accuracy: 0.7507\n",
            "Epoch 279/300\n",
            "104/104 [==============================] - 1s 6ms/step - loss: 0.4644 - accuracy: 0.7611 - val_loss: 0.4684 - val_accuracy: 0.7507\n",
            "Epoch 280/300\n",
            "104/104 [==============================] - 1s 6ms/step - loss: 0.4643 - accuracy: 0.7611 - val_loss: 0.4690 - val_accuracy: 0.7507\n",
            "Epoch 281/300\n",
            "104/104 [==============================] - 1s 5ms/step - loss: 0.4643 - accuracy: 0.7611 - val_loss: 0.4684 - val_accuracy: 0.7507\n",
            "Epoch 282/300\n",
            "104/104 [==============================] - 1s 5ms/step - loss: 0.4643 - accuracy: 0.7611 - val_loss: 0.4692 - val_accuracy: 0.7507\n",
            "Epoch 283/300\n",
            "104/104 [==============================] - 0s 4ms/step - loss: 0.4646 - accuracy: 0.7599 - val_loss: 0.4687 - val_accuracy: 0.7507\n",
            "Epoch 284/300\n",
            "104/104 [==============================] - 0s 4ms/step - loss: 0.4646 - accuracy: 0.7609 - val_loss: 0.4691 - val_accuracy: 0.7507\n",
            "Epoch 285/300\n",
            "104/104 [==============================] - 0s 4ms/step - loss: 0.4644 - accuracy: 0.7611 - val_loss: 0.4685 - val_accuracy: 0.7507\n",
            "Epoch 286/300\n",
            "104/104 [==============================] - 0s 4ms/step - loss: 0.4644 - accuracy: 0.7611 - val_loss: 0.4681 - val_accuracy: 0.7507\n",
            "Epoch 287/300\n",
            "104/104 [==============================] - 0s 4ms/step - loss: 0.4643 - accuracy: 0.7611 - val_loss: 0.4684 - val_accuracy: 0.7507\n",
            "Epoch 288/300\n",
            "104/104 [==============================] - 0s 4ms/step - loss: 0.4644 - accuracy: 0.7611 - val_loss: 0.4699 - val_accuracy: 0.7507\n",
            "Epoch 289/300\n",
            "104/104 [==============================] - 0s 4ms/step - loss: 0.4645 - accuracy: 0.7611 - val_loss: 0.4682 - val_accuracy: 0.7507\n",
            "Epoch 290/300\n",
            "104/104 [==============================] - 0s 4ms/step - loss: 0.4643 - accuracy: 0.7611 - val_loss: 0.4682 - val_accuracy: 0.7507\n",
            "Epoch 291/300\n",
            "104/104 [==============================] - 0s 4ms/step - loss: 0.4644 - accuracy: 0.7611 - val_loss: 0.4683 - val_accuracy: 0.7507\n",
            "Epoch 292/300\n",
            "104/104 [==============================] - 0s 4ms/step - loss: 0.4644 - accuracy: 0.7611 - val_loss: 0.4683 - val_accuracy: 0.7507\n",
            "Epoch 293/300\n",
            "104/104 [==============================] - 0s 4ms/step - loss: 0.4643 - accuracy: 0.7611 - val_loss: 0.4685 - val_accuracy: 0.7507\n",
            "Epoch 294/300\n",
            "104/104 [==============================] - 0s 4ms/step - loss: 0.4643 - accuracy: 0.7611 - val_loss: 0.4684 - val_accuracy: 0.7507\n",
            "Epoch 295/300\n",
            "104/104 [==============================] - 0s 4ms/step - loss: 0.4644 - accuracy: 0.7611 - val_loss: 0.4690 - val_accuracy: 0.7507\n",
            "Epoch 296/300\n",
            "104/104 [==============================] - 0s 4ms/step - loss: 0.4644 - accuracy: 0.7611 - val_loss: 0.4691 - val_accuracy: 0.7507\n",
            "Epoch 297/300\n",
            "104/104 [==============================] - 0s 4ms/step - loss: 0.4643 - accuracy: 0.7611 - val_loss: 0.4682 - val_accuracy: 0.7507\n",
            "Epoch 298/300\n",
            "104/104 [==============================] - 0s 4ms/step - loss: 0.4644 - accuracy: 0.7611 - val_loss: 0.4685 - val_accuracy: 0.7507\n",
            "Epoch 299/300\n",
            "104/104 [==============================] - 0s 4ms/step - loss: 0.4645 - accuracy: 0.7606 - val_loss: 0.4681 - val_accuracy: 0.7507\n",
            "Epoch 300/300\n",
            "104/104 [==============================] - 0s 4ms/step - loss: 0.4643 - accuracy: 0.7611 - val_loss: 0.4683 - val_accuracy: 0.7507\n"
          ]
        }
      ],
      "source": [
        "if model_selection[model_flag]==\"ALL\" or model_selection[model_flag] == \"AE\":\n",
        "  # training the model on training dataset\n",
        "  his = ae_classifier.fit(predictions, y_test, epochs=300,batch_size=500, validation_split=0.2).history"
      ]
    },
    {
      "cell_type": "code",
      "execution_count": null,
      "metadata": {
        "id": "yeNS7pLUNYBz"
      },
      "outputs": [],
      "source": [
        "if model_selection[model_flag]==\"ALL\" or model_selection[model_flag] == \"AE\":\n",
        "  filepath = '/content/drive/MyDrive/Colab_Notebooks/Models/ae_classifier_binary_unsw_nb15.json'\n",
        "  weightspath = '/content/drive/MyDrive/Colab_Notebooks/Weights/ae_classifier_binary_unsw_nb15.h5'\n",
        "  if (not path.isfile(filepath)): \n",
        "    # serialize model to JSON\n",
        "    ae_classifier_json = ae_classifier.to_json()\n",
        "    with open(filepath, \"w\") as json_file:\n",
        "      json_file.write(ae_classifier_json)\n",
        "\n",
        "    # serialize weights to HDF5\n",
        "    ae_classifier.save_weights(weightspath)\n",
        "    print(\"Saved model to disk\")\n",
        "\n",
        "    # load json and create model\n",
        "    json_file = open(filepath, 'r')\n",
        "    loaded_model_json = json_file.read()\n",
        "    json_file.close()\n",
        "    ae_classifier = model_from_json(loaded_model_json)\n",
        "\n",
        "    # load weights into new model\n",
        "    ae_classifier.load_weights(weightspath)\n",
        "    print(\"Loaded model from disk\")"
      ]
    },
    {
      "cell_type": "code",
      "execution_count": null,
      "metadata": {
        "id": "AG42bV79NYFB"
      },
      "outputs": [],
      "source": [
        "if model_selection[model_flag]==\"ALL\" or model_selection[model_flag] == \"AE\":\n",
        "  ae_classifier.compile(optimizer='adam', loss='binary_crossentropy',metrics=['accuracy'])"
      ]
    },
    {
      "cell_type": "code",
      "execution_count": null,
      "metadata": {
        "id": "13aKBGJcNYHv",
        "colab": {
          "base_uri": "https://localhost:8080/"
        },
        "outputId": "b24178d0-ee32-4f5e-f62a-13252842bbe4"
      },
      "outputs": [
        {
          "output_type": "stream",
          "name": "stdout",
          "text": [
            "2014/2014 [==============================] - 5s 2ms/step - loss: 1.0045 - accuracy: 0.3201\n",
            "Test results - Loss: 1.0044736862182617 - Accuracy: 32.00608491897583%\n"
          ]
        }
      ],
      "source": [
        "if model_selection[model_flag]==\"ALL\" or model_selection[model_flag] == \"AE\":\n",
        "  # predicting target attribute on testing dataset\n",
        "  test_results = ae_classifier.evaluate(X_test, y_test, verbose=1)\n",
        "  print(f'Test results - Loss: {test_results[0]} - Accuracy: {test_results[1]*100}%')"
      ]
    },
    {
      "cell_type": "code",
      "execution_count": null,
      "metadata": {
        "id": "zCWbOaSyN1dH"
      },
      "outputs": [],
      "source": [
        "if model_selection[model_flag]==\"ALL\" or model_selection[model_flag] == \"AE\":\n",
        "  # representation of model layers\n",
        "  plot_model(ae_classifier, to_file='/content/drive/MyDrive/Colab_Notebooks/Plots/ae_classifier_binary.png', show_shapes=True)"
      ]
    },
    {
      "cell_type": "code",
      "execution_count": null,
      "metadata": {
        "id": "44VaFGgVOBpU",
        "colab": {
          "base_uri": "https://localhost:8080/",
          "height": 472
        },
        "outputId": "b2b1263f-aaad-4462-9f1a-11fdb2b405ca"
      },
      "outputs": [
        {
          "output_type": "display_data",
          "data": {
            "text/plain": [
              "<Figure size 640x480 with 1 Axes>"
            ],
            "image/png": "[encoded data removed]"
          },
          "metadata": {}
        }
      ],
      "source": [
        "if model_selection[model_flag]==\"ALL\" or model_selection[model_flag] == \"AE\":\n",
        "  # Plot of loss vs epoch of train and test dataset\n",
        "  plt.plot(his['loss'])\n",
        "  plt.plot(his['val_loss'])\n",
        "  plt.title(\"Plot of loss vs epoch for train and test dataset\")\n",
        "  plt.ylabel('loss')\n",
        "  plt.xlabel('epoch')\n",
        "  plt.legend(['train', 'test'], loc='upper right')\n",
        "  plt.savefig('/content/drive/MyDrive/Colab_Notebooks/Plots/ae_classifier_binary_loss.png')\n",
        "  plt.show()"
      ]
    },
    {
      "cell_type": "code",
      "execution_count": null,
      "metadata": {
        "id": "Am0UB82rOIo1",
        "colab": {
          "base_uri": "https://localhost:8080/",
          "height": 472
        },
        "outputId": "db19bbba-2afa-4d77-f3f9-7be912f26524"
      },
      "outputs": [
        {
          "output_type": "display_data",
          "data": {
            "text/plain": [
              "<Figure size 640x480 with 1 Axes>"
            ],
            "image/png": "[encoded data removed]"
          },
          "metadata": {}
        }
      ],
      "source": [
        "if model_selection[model_flag]==\"ALL\" or model_selection[model_flag] == \"AE\":\n",
        "  # Plot of accuracy vs epoch of train and test dataset\n",
        "  plt.plot(his['accuracy'])\n",
        "  plt.plot(his['val_accuracy'])\n",
        "  plt.title(\"Plot of accuracy vs epoch for train and test dataset\")\n",
        "  plt.ylabel('accuracy')\n",
        "  plt.xlabel('epoch')\n",
        "  plt.legend(['train', 'test'], loc='best')\n",
        "  plt.savefig('/content/drive/MyDrive/Colab_Notebooks/Plots/ae_classifier_binary_accuracy.png')\n",
        "  plt.show()"
      ]
    },
    {
      "cell_type": "code",
      "execution_count": null,
      "metadata": {
        "id": "f5OZTlm0OMoW",
        "colab": {
          "base_uri": "https://localhost:8080/"
        },
        "outputId": "4d3864b8-38dd-428c-a225-3e0727c8cf13"
      },
      "outputs": [
        {
          "output_type": "stream",
          "name": "stdout",
          "text": [
            "2014/2014 [==============================] - 3s 2ms/step\n"
          ]
        }
      ],
      "source": [
        "if model_selection[model_flag]==\"ALL\" or model_selection[model_flag] == \"AE\":\n",
        "  y_pred = ae_classifier.predict(X_test).ravel()\n",
        "  fpr, tpr, thresholds = roc_curve(y_test, y_pred)\n",
        "  #auc = auc(fpr, tpr)"
      ]
    },
    {
      "cell_type": "code",
      "execution_count": null,
      "metadata": {
        "id": "GbSkwfO2OTkn",
        "colab": {
          "base_uri": "https://localhost:8080/",
          "height": 510
        },
        "outputId": "72cb9e38-67d2-4a9f-a9e2-1a13a3a6e623"
      },
      "outputs": [
        {
          "output_type": "stream",
          "name": "stderr",
          "text": [
            "WARNING:matplotlib.legend:No artists with labels found to put in legend.  Note that artists whose label start with an underscore are ignored when legend() is called with no argument.\n"
          ]
        },
        {
          "output_type": "display_data",
          "data": {
            "text/plain": [
              "<Figure size 640x480 with 1 Axes>"
            ],
            "image/png": "[encoded data removed]"
          },
          "metadata": {}
        }
      ],
      "source": [
        "if model_selection[model_flag]==\"ALL\" or model_selection[model_flag] == \"AE\":\n",
        "  plt.plot([0, 1], [0, 1], 'k--')\n",
        "  #plt.plot(fpr, tpr, label='Keras (area = {:.3f})'.format(auc))\n",
        "  plt.plot(fpr, tpr)\n",
        "  plt.xlabel('False positive rate')\n",
        "  plt.ylabel('True positive rate')\n",
        "  plt.title('ROC curve')\n",
        "  plt.legend(loc='best')\n",
        "  plt.savefig('/content/drive/MyDrive/Colab_Notebooks/Plots/ae_binary_roc.png')\n",
        "  plt.show()"
      ]
    },
    {
      "cell_type": "code",
      "execution_count": null,
      "metadata": {
        "id": "n7Xl74UXOZxm",
        "colab": {
          "base_uri": "https://localhost:8080/"
        },
        "outputId": "7f28725b-0b56-4adc-f297-aa3a2877117b"
      },
      "outputs": [
        {
          "output_type": "stream",
          "name": "stdout",
          "text": [
            "2014/2014 [==============================] - 3s 1ms/step\n",
            "2014/2014 [==============================] - 3s 1ms/step\n"
          ]
        }
      ],
      "source": [
        "if model_selection[model_flag]==\"ALL\" or model_selection[model_flag] == \"AE\":\n",
        "  pred = ae_classifier.predict(X_test)\n",
        "  y_classes = (ae_classifier.predict(X_test)>0.5).astype('int32')"
      ]
    },
    {
      "cell_type": "code",
      "execution_count": null,
      "metadata": {
        "id": "WA_g3UlXOZ71",
        "colab": {
          "base_uri": "https://localhost:8080/"
        },
        "outputId": "bf800d49-3235-4273-aace-ecabf080a60d"
      },
      "outputs": [
        {
          "output_type": "stream",
          "name": "stdout",
          "text": [
            "Recall Score -  0.35030114629881487\n",
            "F1 Score -  0.39708736527687927\n",
            "Precision Score -  0.45829758840911256\n"
          ]
        }
      ],
      "source": [
        "if model_selection[model_flag]==\"ALL\" or model_selection[model_flag] == \"AE\":\n",
        "  print(\"Recall Score - \",recall_score(y_test,y_classes))\n",
        "  print(\"F1 Score - \",f1_score(y_test,y_classes))\n",
        "  print(\"Precision Score - \",precision_score(y_test,y_classes))\n",
        "  fpr, fnr, thresholds = det_curve(y_test, y_classes)\n",
        "  print(\"False Positive Rate - \", fpr)\n",
        "  print(\"False Negative Rate - \", fnr)\n",
        "  print(\"Thresholds - \", thresholds)"
      ]
    },
    {
      "cell_type": "code",
      "source": [
        "print(classification_report(y_test, y_classes, target_names=['0', '1']))\n",
        "cm = confusion_matrix(y_test, y_classes)\n",
        "disp = ConfusionMatrixDisplay(confusion_matrix=cm,\n",
        "                              display_labels=['0', '1'])\n",
        "disp.plot()\n",
        "\n",
        "plt.show()"
      ],
      "metadata": {
        "colab": {
          "base_uri": "https://localhost:8080/",
          "height": 610
        },
        "id": "UgHHdx0qoryj",
        "outputId": "4e0bfdb4-7515-4539-f393-7c33fc0d03da"
      },
      "execution_count": null,
      "outputs": [
        {
          "output_type": "stream",
          "name": "stdout",
          "text": [
            "              precision    recall  f1-score   support\n",
            "\n",
            "           0       0.19      0.27      0.22     23243\n",
            "           1       0.46      0.35      0.40     41176\n",
            "\n",
            "    accuracy                           0.32     64419\n",
            "   macro avg       0.32      0.31      0.31     64419\n",
            "weighted avg       0.36      0.32      0.33     64419\n",
            "\n"
          ]
        },
        {
          "output_type": "display_data",
          "data": {
            "text/plain": [
              "<Figure size 640x480 with 2 Axes>"
            ],
            "image/png": "[encoded data removed]"
          },
          "metadata": {}
        }
      ]
    }
  ],
  "metadata": {
    "colab": {
      "provenance": [],
      "include_colab_link": true
    },
    "gpuClass": "standard",
    "kernelspec": {
      "display_name": "Python 3",
      "name": "python3"
    },
    "language_info": {
      "name": "python"
    },
    "accelerator": "GPU"
  },
  "nbformat": 4,
  "nbformat_minor": 0
}