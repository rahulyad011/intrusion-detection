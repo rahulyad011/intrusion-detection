{
  "cells": [
    {
      "cell_type": "markdown",
      "metadata": {
        "id": "view-in-github",
        "colab_type": "text"
      },
      "source": [
        "<a href=\"https://colab.research.google.com/github/rahulyad011/intrusion-detection/blob/main/NIDS1_UNSW_NB15_model_training.ipynb\" target=\"_parent\"><img src=\"https://colab.research.google.com/assets/colab-badge.svg\" alt=\"Open In Colab\"/></a>"
      ]
    },
    {
      "cell_type": "code",
      "execution_count": null,
      "metadata": {
        "id": "qXQ8rUmdwaf4"
      },
      "outputs": [],
      "source": [
        "\n",
        "from sklearn.metrics import accuracy_score # for calculating accuracy of model\n",
        "from sklearn.model_selection import train_test_split # for splitting the dataset for training and testing\n",
        "from sklearn.metrics import classification_report # for generating a classification report of model\n",
        "import pickle # saving and loading trained model\n",
        "from os import path\n",
        "import numpy as np\n",
        "import pandas as pd\n",
        "import matplotlib.pyplot as plt\n",
        "\n",
        "# importing library for support vector machine classifier\n",
        "from sklearn.svm import SVC\n",
        "\n",
        "# MLP requirements \n",
        "from keras.layers import Dense # importing dense layer\n",
        "from keras.models import Sequential #importing Sequential layer\n",
        "from keras.models import model_from_json # saving and loading trained model\n",
        "\n",
        "# LSTM requirements \n",
        "from keras.layers import LSTM\n",
        "from keras.layers import Input\n",
        "from keras.models import Model\n",
        "\n",
        "# evaluation metrices\n",
        "from sklearn.metrics import classification_report, confusion_matrix\n",
        "from sklearn.metrics import roc_auc_score\n",
        "from sklearn.metrics import roc_curve, auc\n",
        "from sklearn.metrics import precision_score\n",
        "from sklearn.metrics import recall_score\n",
        "from sklearn.metrics import f1_score\n",
        "from sklearn.metrics import det_curve\n",
        "\n",
        "# representation of model layers\n",
        "from keras.utils.vis_utils import plot_model"
      ]
    },
    {
      "cell_type": "code",
      "source": [
        "from google.colab import drive\n",
        "drive.mount('/content/drive')"
      ],
      "metadata": {
        "colab": {
          "base_uri": "https://localhost:8080/"
        },
        "id": "DBCkPmpEjFSf",
        "outputId": "4eb2ea36-03c3-4f24-8ba5-deb9de69de37"
      },
      "execution_count": null,
      "outputs": [
        {
          "output_type": "stream",
          "name": "stdout",
          "text": [
            "Drive already mounted at /content/drive; to attempt to forcibly remount, call drive.mount(\"/content/drive\", force_remount=True).\n"
          ]
        }
      ]
    },
    {
      "cell_type": "code",
      "execution_count": null,
      "metadata": {
        "colab": {
          "base_uri": "https://localhost:8080/",
          "height": 505
        },
        "id": "Pepa9lW8whHh",
        "outputId": "f1d97937-615d-47ae-82da-132debbcb8fe"
      },
      "outputs": [
        {
          "output_type": "execute_result",
          "data": {
            "text/plain": [
              "        proto_-  proto_arp  proto_ospf  proto_tcp  proto_udp  proto_unas  \\\n",
              "0             0          0           0          0          1           0   \n",
              "1             0          0           0          0          1           0   \n",
              "2             0          0           0          0          1           0   \n",
              "3             0          0           0          0          1           0   \n",
              "4             0          0           0          0          1           0   \n",
              "...         ...        ...         ...        ...        ...         ...   \n",
              "257668        0          0           0          0          1           0   \n",
              "257669        0          0           0          1          0           0   \n",
              "257670        0          0           0          0          1           0   \n",
              "257671        0          0           0          0          1           0   \n",
              "257672        0          0           0          0          1           0   \n",
              "\n",
              "        service_-  service_dns  service_ftp-data  service_http  ...  \\\n",
              "0               1            0                 0             0  ...   \n",
              "1               1            0                 0             0  ...   \n",
              "2               1            0                 0             0  ...   \n",
              "3               1            0                 0             0  ...   \n",
              "4               1            0                 0             0  ...   \n",
              "...           ...          ...               ...           ...  ...   \n",
              "257668          0            1                 0             0  ...   \n",
              "257669          1            0                 0             0  ...   \n",
              "257670          0            1                 0             0  ...   \n",
              "257671          0            1                 0             0  ...   \n",
              "257672          0            1                 0             0  ...   \n",
              "\n",
              "        ct_src_dport_ltm  ct_dst_sport_ltm  ct_dst_src_ltm  is_ftp_login  \\\n",
              "0                      1                 1               2             0   \n",
              "1                      1                 1               2             0   \n",
              "2                      1                 1               3             0   \n",
              "3                      2                 1               3             0   \n",
              "4                      2                 1               3             0   \n",
              "...                  ...               ...             ...           ...   \n",
              "257668                24                13              24             0   \n",
              "257669                 1                 1               2             0   \n",
              "257670                 3                 3              13             0   \n",
              "257671                30                14              30             0   \n",
              "257672                30                16              30             0   \n",
              "\n",
              "        ct_ftp_cmd  ct_flw_http_mthd  ct_src_ltm  ct_srv_dst  is_sm_ips_ports  \\\n",
              "0                0                 0           1           2                0   \n",
              "1                0                 0           1           2                0   \n",
              "2                0                 0           1           3                0   \n",
              "3                0                 0           2           3                0   \n",
              "4                0                 0           2           3                0   \n",
              "...            ...               ...         ...         ...              ...   \n",
              "257668           0                 0          24          24                0   \n",
              "257669           0                 0           1           1                0   \n",
              "257670           0                 0           3          12                0   \n",
              "257671           0                 0          30          30                0   \n",
              "257672           0                 0          30          30                0   \n",
              "\n",
              "        label  \n",
              "0           0  \n",
              "1           0  \n",
              "2           0  \n",
              "3           0  \n",
              "4           0  \n",
              "...       ...  \n",
              "257668      1  \n",
              "257669      1  \n",
              "257670      1  \n",
              "257671      1  \n",
              "257672      1  \n",
              "\n",
              "[257673 rows x 57 columns]"
            ],
            "text/html": [
              "\n",
              "  <div id=\"df-debc1bda-cc9e-4ae1-a991-9d6c87d0fc02\">\n",
              "    <div class=\"colab-df-container\">\n",
              "      <div>\n",
              "<style scoped>\n",
              "    .dataframe tbody tr th:only-of-type {\n",
              "        vertical-align: middle;\n",
              "    }\n",
              "\n",
              "    .dataframe tbody tr th {\n",
              "        vertical-align: top;\n",
              "    }\n",
              "\n",
              "    .dataframe thead th {\n",
              "        text-align: right;\n",
              "    }\n",
              "</style>\n",
              "<table border=\"1\" class=\"dataframe\">\n",
              "  <thead>\n",
              "    <tr style=\"text-align: right;\">\n",
              "      <th></th>\n",
              "      <th>proto_-</th>\n",
              "      <th>proto_arp</th>\n",
              "      <th>proto_ospf</th>\n",
              "      <th>proto_tcp</th>\n",
              "      <th>proto_udp</th>\n",
              "      <th>proto_unas</th>\n",
              "      <th>service_-</th>\n",
              "      <th>service_dns</th>\n",
              "      <th>service_ftp-data</th>\n",
              "      <th>service_http</th>\n",
              "      <th>...</th>\n",
              "      <th>ct_src_dport_ltm</th>\n",
              "      <th>ct_dst_sport_ltm</th>\n",
              "      <th>ct_dst_src_ltm</th>\n",
              "      <th>is_ftp_login</th>\n",
              "      <th>ct_ftp_cmd</th>\n",
              "      <th>ct_flw_http_mthd</th>\n",
              "      <th>ct_src_ltm</th>\n",
              "      <th>ct_srv_dst</th>\n",
              "      <th>is_sm_ips_ports</th>\n",
              "      <th>label</th>\n",
              "    </tr>\n",
              "  </thead>\n",
              "  <tbody>\n",
              "    <tr>\n",
              "      <th>0</th>\n",
              "      <td>0</td>\n",
              "      <td>0</td>\n",
              "      <td>0</td>\n",
              "      <td>0</td>\n",
              "      <td>1</td>\n",
              "      <td>0</td>\n",
              "      <td>1</td>\n",
              "      <td>0</td>\n",
              "      <td>0</td>\n",
              "      <td>0</td>\n",
              "      <td>...</td>\n",
              "      <td>1</td>\n",
              "      <td>1</td>\n",
              "      <td>2</td>\n",
              "      <td>0</td>\n",
              "      <td>0</td>\n",
              "      <td>0</td>\n",
              "      <td>1</td>\n",
              "      <td>2</td>\n",
              "      <td>0</td>\n",
              "      <td>0</td>\n",
              "    </tr>\n",
              "    <tr>\n",
              "      <th>1</th>\n",
              "      <td>0</td>\n",
              "      <td>0</td>\n",
              "      <td>0</td>\n",
              "      <td>0</td>\n",
              "      <td>1</td>\n",
              "      <td>0</td>\n",
              "      <td>1</td>\n",
              "      <td>0</td>\n",
              "      <td>0</td>\n",
              "      <td>0</td>\n",
              "      <td>...</td>\n",
              "      <td>1</td>\n",
              "      <td>1</td>\n",
              "      <td>2</td>\n",
              "      <td>0</td>\n",
              "      <td>0</td>\n",
              "      <td>0</td>\n",
              "      <td>1</td>\n",
              "      <td>2</td>\n",
              "      <td>0</td>\n",
              "      <td>0</td>\n",
              "    </tr>\n",
              "    <tr>\n",
              "      <th>2</th>\n",
              "      <td>0</td>\n",
              "      <td>0</td>\n",
              "      <td>0</td>\n",
              "      <td>0</td>\n",
              "      <td>1</td>\n",
              "      <td>0</td>\n",
              "      <td>1</td>\n",
              "      <td>0</td>\n",
              "      <td>0</td>\n",
              "      <td>0</td>\n",
              "      <td>...</td>\n",
              "      <td>1</td>\n",
              "      <td>1</td>\n",
              "      <td>3</td>\n",
              "      <td>0</td>\n",
              "      <td>0</td>\n",
              "      <td>0</td>\n",
              "      <td>1</td>\n",
              "      <td>3</td>\n",
              "      <td>0</td>\n",
              "      <td>0</td>\n",
              "    </tr>\n",
              "    <tr>\n",
              "      <th>3</th>\n",
              "      <td>0</td>\n",
              "      <td>0</td>\n",
              "      <td>0</td>\n",
              "      <td>0</td>\n",
              "      <td>1</td>\n",
              "      <td>0</td>\n",
              "      <td>1</td>\n",
              "      <td>0</td>\n",
              "      <td>0</td>\n",
              "      <td>0</td>\n",
              "      <td>...</td>\n",
              "      <td>2</td>\n",
              "      <td>1</td>\n",
              "      <td>3</td>\n",
              "      <td>0</td>\n",
              "      <td>0</td>\n",
              "      <td>0</td>\n",
              "      <td>2</td>\n",
              "      <td>3</td>\n",
              "      <td>0</td>\n",
              "      <td>0</td>\n",
              "    </tr>\n",
              "    <tr>\n",
              "      <th>4</th>\n",
              "      <td>0</td>\n",
              "      <td>0</td>\n",
              "      <td>0</td>\n",
              "      <td>0</td>\n",
              "      <td>1</td>\n",
              "      <td>0</td>\n",
              "      <td>1</td>\n",
              "      <td>0</td>\n",
              "      <td>0</td>\n",
              "      <td>0</td>\n",
              "      <td>...</td>\n",
              "      <td>2</td>\n",
              "      <td>1</td>\n",
              "      <td>3</td>\n",
              "      <td>0</td>\n",
              "      <td>0</td>\n",
              "      <td>0</td>\n",
              "      <td>2</td>\n",
              "      <td>3</td>\n",
              "      <td>0</td>\n",
              "      <td>0</td>\n",
              "    </tr>\n",
              "    <tr>\n",
              "      <th>...</th>\n",
              "      <td>...</td>\n",
              "      <td>...</td>\n",
              "      <td>...</td>\n",
              "      <td>...</td>\n",
              "      <td>...</td>\n",
              "      <td>...</td>\n",
              "      <td>...</td>\n",
              "      <td>...</td>\n",
              "      <td>...</td>\n",
              "      <td>...</td>\n",
              "      <td>...</td>\n",
              "      <td>...</td>\n",
              "      <td>...</td>\n",
              "      <td>...</td>\n",
              "      <td>...</td>\n",
              "      <td>...</td>\n",
              "      <td>...</td>\n",
              "      <td>...</td>\n",
              "      <td>...</td>\n",
              "      <td>...</td>\n",
              "      <td>...</td>\n",
              "    </tr>\n",
              "    <tr>\n",
              "      <th>257668</th>\n",
              "      <td>0</td>\n",
              "      <td>0</td>\n",
              "      <td>0</td>\n",
              "      <td>0</td>\n",
              "      <td>1</td>\n",
              "      <td>0</td>\n",
              "      <td>0</td>\n",
              "      <td>1</td>\n",
              "      <td>0</td>\n",
              "      <td>0</td>\n",
              "      <td>...</td>\n",
              "      <td>24</td>\n",
              "      <td>13</td>\n",
              "      <td>24</td>\n",
              "      <td>0</td>\n",
              "      <td>0</td>\n",
              "      <td>0</td>\n",
              "      <td>24</td>\n",
              "      <td>24</td>\n",
              "      <td>0</td>\n",
              "      <td>1</td>\n",
              "    </tr>\n",
              "    <tr>\n",
              "      <th>257669</th>\n",
              "      <td>0</td>\n",
              "      <td>0</td>\n",
              "      <td>0</td>\n",
              "      <td>1</td>\n",
              "      <td>0</td>\n",
              "      <td>0</td>\n",
              "      <td>1</td>\n",
              "      <td>0</td>\n",
              "      <td>0</td>\n",
              "      <td>0</td>\n",
              "      <td>...</td>\n",
              "      <td>1</td>\n",
              "      <td>1</td>\n",
              "      <td>2</td>\n",
              "      <td>0</td>\n",
              "      <td>0</td>\n",
              "      <td>0</td>\n",
              "      <td>1</td>\n",
              "      <td>1</td>\n",
              "      <td>0</td>\n",
              "      <td>1</td>\n",
              "    </tr>\n",
              "    <tr>\n",
              "      <th>257670</th>\n",
              "      <td>0</td>\n",
              "      <td>0</td>\n",
              "      <td>0</td>\n",
              "      <td>0</td>\n",
              "      <td>1</td>\n",
              "      <td>0</td>\n",
              "      <td>0</td>\n",
              "      <td>1</td>\n",
              "      <td>0</td>\n",
              "      <td>0</td>\n",
              "      <td>...</td>\n",
              "      <td>3</td>\n",
              "      <td>3</td>\n",
              "      <td>13</td>\n",
              "      <td>0</td>\n",
              "      <td>0</td>\n",
              "      <td>0</td>\n",
              "      <td>3</td>\n",
              "      <td>12</td>\n",
              "      <td>0</td>\n",
              "      <td>1</td>\n",
              "    </tr>\n",
              "    <tr>\n",
              "      <th>257671</th>\n",
              "      <td>0</td>\n",
              "      <td>0</td>\n",
              "      <td>0</td>\n",
              "      <td>0</td>\n",
              "      <td>1</td>\n",
              "      <td>0</td>\n",
              "      <td>0</td>\n",
              "      <td>1</td>\n",
              "      <td>0</td>\n",
              "      <td>0</td>\n",
              "      <td>...</td>\n",
              "      <td>30</td>\n",
              "      <td>14</td>\n",
              "      <td>30</td>\n",
              "      <td>0</td>\n",
              "      <td>0</td>\n",
              "      <td>0</td>\n",
              "      <td>30</td>\n",
              "      <td>30</td>\n",
              "      <td>0</td>\n",
              "      <td>1</td>\n",
              "    </tr>\n",
              "    <tr>\n",
              "      <th>257672</th>\n",
              "      <td>0</td>\n",
              "      <td>0</td>\n",
              "      <td>0</td>\n",
              "      <td>0</td>\n",
              "      <td>1</td>\n",
              "      <td>0</td>\n",
              "      <td>0</td>\n",
              "      <td>1</td>\n",
              "      <td>0</td>\n",
              "      <td>0</td>\n",
              "      <td>...</td>\n",
              "      <td>30</td>\n",
              "      <td>16</td>\n",
              "      <td>30</td>\n",
              "      <td>0</td>\n",
              "      <td>0</td>\n",
              "      <td>0</td>\n",
              "      <td>30</td>\n",
              "      <td>30</td>\n",
              "      <td>0</td>\n",
              "      <td>1</td>\n",
              "    </tr>\n",
              "  </tbody>\n",
              "</table>\n",
              "<p>257673 rows × 57 columns</p>\n",
              "</div>\n",
              "      <button class=\"colab-df-convert\" onclick=\"convertToInteractive('df-debc1bda-cc9e-4ae1-a991-9d6c87d0fc02')\"\n",
              "              title=\"Convert this dataframe to an interactive table.\"\n",
              "              style=\"display:none;\">\n",
              "        \n",
              "  <svg xmlns=\"http://www.w3.org/2000/svg\" height=\"24px\"viewBox=\"0 0 24 24\"\n",
              "       width=\"24px\">\n",
              "    <path d=\"M0 0h24v24H0V0z\" fill=\"none\"/>\n",
              "    <path d=\"M18.56 5.44l.94 2.06.94-2.06 2.06-.94-2.06-.94-.94-2.06-.94 2.06-2.06.94zm-11 1L8.5 8.5l.94-2.06 2.06-.94-2.06-.94L8.5 2.5l-.94 2.06-2.06.94zm10 10l.94 2.06.94-2.06 2.06-.94-2.06-.94-.94-2.06-.94 2.06-2.06.94z\"/><path d=\"M17.41 7.96l-1.37-1.37c-.4-.4-.92-.59-1.43-.59-.52 0-1.04.2-1.43.59L10.3 9.45l-7.72 7.72c-.78.78-.78 2.05 0 2.83L4 21.41c.39.39.9.59 1.41.59.51 0 1.02-.2 1.41-.59l7.78-7.78 2.81-2.81c.8-.78.8-2.07 0-2.86zM5.41 20L4 18.59l7.72-7.72 1.47 1.35L5.41 20z\"/>\n",
              "  </svg>\n",
              "      </button>\n",
              "      \n",
              "  <style>\n",
              "    .colab-df-container {\n",
              "      display:flex;\n",
              "      flex-wrap:wrap;\n",
              "      gap: 12px;\n",
              "    }\n",
              "\n",
              "    .colab-df-convert {\n",
              "      background-color: #E8F0FE;\n",
              "      border: none;\n",
              "      border-radius: 50%;\n",
              "      cursor: pointer;\n",
              "      display: none;\n",
              "      fill: #1967D2;\n",
              "      height: 32px;\n",
              "      padding: 0 0 0 0;\n",
              "      width: 32px;\n",
              "    }\n",
              "\n",
              "    .colab-df-convert:hover {\n",
              "      background-color: #E2EBFA;\n",
              "      box-shadow: 0px 1px 2px rgba(60, 64, 67, 0.3), 0px 1px 3px 1px rgba(60, 64, 67, 0.15);\n",
              "      fill: #174EA6;\n",
              "    }\n",
              "\n",
              "    [theme=dark] .colab-df-convert {\n",
              "      background-color: #3B4455;\n",
              "      fill: #D2E3FC;\n",
              "    }\n",
              "\n",
              "    [theme=dark] .colab-df-convert:hover {\n",
              "      background-color: #434B5C;\n",
              "      box-shadow: 0px 1px 3px 1px rgba(0, 0, 0, 0.15);\n",
              "      filter: drop-shadow(0px 1px 2px rgba(0, 0, 0, 0.3));\n",
              "      fill: #FFFFFF;\n",
              "    }\n",
              "  </style>\n",
              "\n",
              "      <script>\n",
              "        const buttonEl =\n",
              "          document.querySelector('#df-debc1bda-cc9e-4ae1-a991-9d6c87d0fc02 button.colab-df-convert');\n",
              "        buttonEl.style.display =\n",
              "          google.colab.kernel.accessAllowed ? 'block' : 'none';\n",
              "\n",
              "        async function convertToInteractive(key) {\n",
              "          const element = document.querySelector('#df-debc1bda-cc9e-4ae1-a991-9d6c87d0fc02');\n",
              "          const dataTable =\n",
              "            await google.colab.kernel.invokeFunction('convertToInteractive',\n",
              "                                                     [key], {});\n",
              "          if (!dataTable) return;\n",
              "\n",
              "          const docLinkHtml = 'Like what you see? Visit the ' +\n",
              "            '<a target=\"_blank\" href=https://colab.research.google.com/notebooks/data_table.ipynb>data table notebook</a>'\n",
              "            + ' to learn more about interactive tables.';\n",
              "          element.innerHTML = '';\n",
              "          dataTable['output_type'] = 'display_data';\n",
              "          await google.colab.output.renderOutput(dataTable, element);\n",
              "          const docLink = document.createElement('div');\n",
              "          docLink.innerHTML = docLinkHtml;\n",
              "          element.appendChild(docLink);\n",
              "        }\n",
              "      </script>\n",
              "    </div>\n",
              "  </div>\n",
              "  "
            ]
          },
          "metadata": {},
          "execution_count": 95
        }
      ],
      "source": [
        "bin_data_total = pd.read_csv(\"/content/drive/MyDrive/Colab_Notebooks/nids_project_data/UNSW_NB15_data/bin_data_processed.csv\")\n",
        "bin_data_total.drop(bin_data_total.columns[0],axis=1,inplace=True)\n",
        "bin_data_total"
      ]
    },
    {
      "cell_type": "code",
      "execution_count": null,
      "metadata": {
        "colab": {
          "base_uri": "https://localhost:8080/"
        },
        "id": "xHCs0B3sKOa_",
        "outputId": "87b52f8b-8d05-4a60-9655-b9f6b2396dc9"
      },
      "outputs": [
        {
          "output_type": "execute_result",
          "data": {
            "text/plain": [
              "1    0.639077\n",
              "0    0.360923\n",
              "Name: label, dtype: float64"
            ]
          },
          "metadata": {},
          "execution_count": 96
        }
      ],
      "source": [
        "# distribution of label class before sampling\n",
        "data_size = bin_data_total.shape[0]\n",
        "# data_size\n",
        "bin_data_total.label.value_counts()/data_size"
      ]
    },
    {
      "cell_type": "code",
      "source": [
        "# numeric feature normalization\n",
        "from sklearn.preprocessing import MinMaxScaler\n",
        "from sklearn.preprocessing import StandardScaler\n",
        "\n",
        "numeric_cols = bin_data_total.select_dtypes(['number']).columns\n",
        "numeric_cols = numeric_cols.drop('label')\n",
        "flag = 0\n",
        "scaler = None\n",
        "if flag:\n",
        "  # using standard scaler for normalizing\n",
        "  scaler = StandardScaler()\n",
        "else:\n",
        "  # using minmax scaler for normalizing\n",
        "  # to avoid negative values after scaling\n",
        "  scaler = MinMaxScaler()\n",
        "\n",
        "def normalization_train(df,col):\n",
        "  for i in col:\n",
        "    arr = df[i]\n",
        "    arr = np.array(arr)\n",
        "    df[i] = scaler.fit_transform(arr.reshape(len(arr),1))\n",
        "  return df\n",
        "\n",
        "def normalization_test(df,col):\n",
        "  for i in col:\n",
        "    arr = df[i]\n",
        "    arr = np.array(arr)\n",
        "    df[i] = scaler.transform(arr.reshape(len(arr),1))\n",
        "  return df\n",
        "\n",
        "# numeric_cols"
      ],
      "metadata": {
        "id": "QAUrPvEIYHoH"
      },
      "execution_count": null,
      "outputs": []
    },
    {
      "cell_type": "code",
      "execution_count": null,
      "metadata": {
        "colab": {
          "base_uri": "https://localhost:8080/",
          "height": 505
        },
        "id": "XSTP2AcKJgTF",
        "outputId": "7b9dec1f-167d-4642-c7ec-ec66d2323a49"
      },
      "outputs": [
        {
          "output_type": "execute_result",
          "data": {
            "text/plain": [
              "        proto_-  proto_arp  proto_ospf  proto_tcp  proto_udp  proto_unas  \\\n",
              "0             0          0           0          0          1           0   \n",
              "1             0          0           0          0          1           0   \n",
              "2             0          0           0          0          1           0   \n",
              "3             0          0           0          0          1           0   \n",
              "4             0          0           0          0          1           0   \n",
              "...         ...        ...         ...        ...        ...         ...   \n",
              "257668        0          0           0          0          1           0   \n",
              "257669        0          0           0          1          0           0   \n",
              "257670        0          0           0          0          1           0   \n",
              "257671        0          0           0          0          1           0   \n",
              "257672        0          0           0          0          1           0   \n",
              "\n",
              "        service_-  service_dns  service_ftp-data  service_http  ...  \\\n",
              "0               1            0                 0             0  ...   \n",
              "1               1            0                 0             0  ...   \n",
              "2               1            0                 0             0  ...   \n",
              "3               1            0                 0             0  ...   \n",
              "4               1            0                 0             0  ...   \n",
              "...           ...          ...               ...           ...  ...   \n",
              "257668          0            1                 0             0  ...   \n",
              "257669          1            0                 0             0  ...   \n",
              "257670          0            1                 0             0  ...   \n",
              "257671          0            1                 0             0  ...   \n",
              "257672          0            1                 0             0  ...   \n",
              "\n",
              "        ct_src_dport_ltm  ct_dst_sport_ltm  ct_dst_src_ltm  is_ftp_login  \\\n",
              "0                      1                 1               2             0   \n",
              "1                      1                 1               2             0   \n",
              "2                      1                 1               3             0   \n",
              "3                      2                 1               3             0   \n",
              "4                      2                 1               3             0   \n",
              "...                  ...               ...             ...           ...   \n",
              "257668                24                13              24             0   \n",
              "257669                 1                 1               2             0   \n",
              "257670                 3                 3              13             0   \n",
              "257671                30                14              30             0   \n",
              "257672                30                16              30             0   \n",
              "\n",
              "        ct_ftp_cmd  ct_flw_http_mthd  ct_src_ltm  ct_srv_dst  is_sm_ips_ports  \\\n",
              "0                0                 0           1           2                0   \n",
              "1                0                 0           1           2                0   \n",
              "2                0                 0           1           3                0   \n",
              "3                0                 0           2           3                0   \n",
              "4                0                 0           2           3                0   \n",
              "...            ...               ...         ...         ...              ...   \n",
              "257668           0                 0          24          24                0   \n",
              "257669           0                 0           1           1                0   \n",
              "257670           0                 0           3          12                0   \n",
              "257671           0                 0          30          30                0   \n",
              "257672           0                 0          30          30                0   \n",
              "\n",
              "        label  \n",
              "0           0  \n",
              "1           0  \n",
              "2           0  \n",
              "3           0  \n",
              "4           0  \n",
              "...       ...  \n",
              "257668      1  \n",
              "257669      1  \n",
              "257670      1  \n",
              "257671      1  \n",
              "257672      1  \n",
              "\n",
              "[257673 rows x 57 columns]"
            ],
            "text/html": [
              "\n",
              "  <div id=\"df-17254fa3-e64f-401e-9a3c-6806e4fc9ddb\">\n",
              "    <div class=\"colab-df-container\">\n",
              "      <div>\n",
              "<style scoped>\n",
              "    .dataframe tbody tr th:only-of-type {\n",
              "        vertical-align: middle;\n",
              "    }\n",
              "\n",
              "    .dataframe tbody tr th {\n",
              "        vertical-align: top;\n",
              "    }\n",
              "\n",
              "    .dataframe thead th {\n",
              "        text-align: right;\n",
              "    }\n",
              "</style>\n",
              "<table border=\"1\" class=\"dataframe\">\n",
              "  <thead>\n",
              "    <tr style=\"text-align: right;\">\n",
              "      <th></th>\n",
              "      <th>proto_-</th>\n",
              "      <th>proto_arp</th>\n",
              "      <th>proto_ospf</th>\n",
              "      <th>proto_tcp</th>\n",
              "      <th>proto_udp</th>\n",
              "      <th>proto_unas</th>\n",
              "      <th>service_-</th>\n",
              "      <th>service_dns</th>\n",
              "      <th>service_ftp-data</th>\n",
              "      <th>service_http</th>\n",
              "      <th>...</th>\n",
              "      <th>ct_src_dport_ltm</th>\n",
              "      <th>ct_dst_sport_ltm</th>\n",
              "      <th>ct_dst_src_ltm</th>\n",
              "      <th>is_ftp_login</th>\n",
              "      <th>ct_ftp_cmd</th>\n",
              "      <th>ct_flw_http_mthd</th>\n",
              "      <th>ct_src_ltm</th>\n",
              "      <th>ct_srv_dst</th>\n",
              "      <th>is_sm_ips_ports</th>\n",
              "      <th>label</th>\n",
              "    </tr>\n",
              "  </thead>\n",
              "  <tbody>\n",
              "    <tr>\n",
              "      <th>0</th>\n",
              "      <td>0</td>\n",
              "      <td>0</td>\n",
              "      <td>0</td>\n",
              "      <td>0</td>\n",
              "      <td>1</td>\n",
              "      <td>0</td>\n",
              "      <td>1</td>\n",
              "      <td>0</td>\n",
              "      <td>0</td>\n",
              "      <td>0</td>\n",
              "      <td>...</td>\n",
              "      <td>1</td>\n",
              "      <td>1</td>\n",
              "      <td>2</td>\n",
              "      <td>0</td>\n",
              "      <td>0</td>\n",
              "      <td>0</td>\n",
              "      <td>1</td>\n",
              "      <td>2</td>\n",
              "      <td>0</td>\n",
              "      <td>0</td>\n",
              "    </tr>\n",
              "    <tr>\n",
              "      <th>1</th>\n",
              "      <td>0</td>\n",
              "      <td>0</td>\n",
              "      <td>0</td>\n",
              "      <td>0</td>\n",
              "      <td>1</td>\n",
              "      <td>0</td>\n",
              "      <td>1</td>\n",
              "      <td>0</td>\n",
              "      <td>0</td>\n",
              "      <td>0</td>\n",
              "      <td>...</td>\n",
              "      <td>1</td>\n",
              "      <td>1</td>\n",
              "      <td>2</td>\n",
              "      <td>0</td>\n",
              "      <td>0</td>\n",
              "      <td>0</td>\n",
              "      <td>1</td>\n",
              "      <td>2</td>\n",
              "      <td>0</td>\n",
              "      <td>0</td>\n",
              "    </tr>\n",
              "    <tr>\n",
              "      <th>2</th>\n",
              "      <td>0</td>\n",
              "      <td>0</td>\n",
              "      <td>0</td>\n",
              "      <td>0</td>\n",
              "      <td>1</td>\n",
              "      <td>0</td>\n",
              "      <td>1</td>\n",
              "      <td>0</td>\n",
              "      <td>0</td>\n",
              "      <td>0</td>\n",
              "      <td>...</td>\n",
              "      <td>1</td>\n",
              "      <td>1</td>\n",
              "      <td>3</td>\n",
              "      <td>0</td>\n",
              "      <td>0</td>\n",
              "      <td>0</td>\n",
              "      <td>1</td>\n",
              "      <td>3</td>\n",
              "      <td>0</td>\n",
              "      <td>0</td>\n",
              "    </tr>\n",
              "    <tr>\n",
              "      <th>3</th>\n",
              "      <td>0</td>\n",
              "      <td>0</td>\n",
              "      <td>0</td>\n",
              "      <td>0</td>\n",
              "      <td>1</td>\n",
              "      <td>0</td>\n",
              "      <td>1</td>\n",
              "      <td>0</td>\n",
              "      <td>0</td>\n",
              "      <td>0</td>\n",
              "      <td>...</td>\n",
              "      <td>2</td>\n",
              "      <td>1</td>\n",
              "      <td>3</td>\n",
              "      <td>0</td>\n",
              "      <td>0</td>\n",
              "      <td>0</td>\n",
              "      <td>2</td>\n",
              "      <td>3</td>\n",
              "      <td>0</td>\n",
              "      <td>0</td>\n",
              "    </tr>\n",
              "    <tr>\n",
              "      <th>4</th>\n",
              "      <td>0</td>\n",
              "      <td>0</td>\n",
              "      <td>0</td>\n",
              "      <td>0</td>\n",
              "      <td>1</td>\n",
              "      <td>0</td>\n",
              "      <td>1</td>\n",
              "      <td>0</td>\n",
              "      <td>0</td>\n",
              "      <td>0</td>\n",
              "      <td>...</td>\n",
              "      <td>2</td>\n",
              "      <td>1</td>\n",
              "      <td>3</td>\n",
              "      <td>0</td>\n",
              "      <td>0</td>\n",
              "      <td>0</td>\n",
              "      <td>2</td>\n",
              "      <td>3</td>\n",
              "      <td>0</td>\n",
              "      <td>0</td>\n",
              "    </tr>\n",
              "    <tr>\n",
              "      <th>...</th>\n",
              "      <td>...</td>\n",
              "      <td>...</td>\n",
              "      <td>...</td>\n",
              "      <td>...</td>\n",
              "      <td>...</td>\n",
              "      <td>...</td>\n",
              "      <td>...</td>\n",
              "      <td>...</td>\n",
              "      <td>...</td>\n",
              "      <td>...</td>\n",
              "      <td>...</td>\n",
              "      <td>...</td>\n",
              "      <td>...</td>\n",
              "      <td>...</td>\n",
              "      <td>...</td>\n",
              "      <td>...</td>\n",
              "      <td>...</td>\n",
              "      <td>...</td>\n",
              "      <td>...</td>\n",
              "      <td>...</td>\n",
              "      <td>...</td>\n",
              "    </tr>\n",
              "    <tr>\n",
              "      <th>257668</th>\n",
              "      <td>0</td>\n",
              "      <td>0</td>\n",
              "      <td>0</td>\n",
              "      <td>0</td>\n",
              "      <td>1</td>\n",
              "      <td>0</td>\n",
              "      <td>0</td>\n",
              "      <td>1</td>\n",
              "      <td>0</td>\n",
              "      <td>0</td>\n",
              "      <td>...</td>\n",
              "      <td>24</td>\n",
              "      <td>13</td>\n",
              "      <td>24</td>\n",
              "      <td>0</td>\n",
              "      <td>0</td>\n",
              "      <td>0</td>\n",
              "      <td>24</td>\n",
              "      <td>24</td>\n",
              "      <td>0</td>\n",
              "      <td>1</td>\n",
              "    </tr>\n",
              "    <tr>\n",
              "      <th>257669</th>\n",
              "      <td>0</td>\n",
              "      <td>0</td>\n",
              "      <td>0</td>\n",
              "      <td>1</td>\n",
              "      <td>0</td>\n",
              "      <td>0</td>\n",
              "      <td>1</td>\n",
              "      <td>0</td>\n",
              "      <td>0</td>\n",
              "      <td>0</td>\n",
              "      <td>...</td>\n",
              "      <td>1</td>\n",
              "      <td>1</td>\n",
              "      <td>2</td>\n",
              "      <td>0</td>\n",
              "      <td>0</td>\n",
              "      <td>0</td>\n",
              "      <td>1</td>\n",
              "      <td>1</td>\n",
              "      <td>0</td>\n",
              "      <td>1</td>\n",
              "    </tr>\n",
              "    <tr>\n",
              "      <th>257670</th>\n",
              "      <td>0</td>\n",
              "      <td>0</td>\n",
              "      <td>0</td>\n",
              "      <td>0</td>\n",
              "      <td>1</td>\n",
              "      <td>0</td>\n",
              "      <td>0</td>\n",
              "      <td>1</td>\n",
              "      <td>0</td>\n",
              "      <td>0</td>\n",
              "      <td>...</td>\n",
              "      <td>3</td>\n",
              "      <td>3</td>\n",
              "      <td>13</td>\n",
              "      <td>0</td>\n",
              "      <td>0</td>\n",
              "      <td>0</td>\n",
              "      <td>3</td>\n",
              "      <td>12</td>\n",
              "      <td>0</td>\n",
              "      <td>1</td>\n",
              "    </tr>\n",
              "    <tr>\n",
              "      <th>257671</th>\n",
              "      <td>0</td>\n",
              "      <td>0</td>\n",
              "      <td>0</td>\n",
              "      <td>0</td>\n",
              "      <td>1</td>\n",
              "      <td>0</td>\n",
              "      <td>0</td>\n",
              "      <td>1</td>\n",
              "      <td>0</td>\n",
              "      <td>0</td>\n",
              "      <td>...</td>\n",
              "      <td>30</td>\n",
              "      <td>14</td>\n",
              "      <td>30</td>\n",
              "      <td>0</td>\n",
              "      <td>0</td>\n",
              "      <td>0</td>\n",
              "      <td>30</td>\n",
              "      <td>30</td>\n",
              "      <td>0</td>\n",
              "      <td>1</td>\n",
              "    </tr>\n",
              "    <tr>\n",
              "      <th>257672</th>\n",
              "      <td>0</td>\n",
              "      <td>0</td>\n",
              "      <td>0</td>\n",
              "      <td>0</td>\n",
              "      <td>1</td>\n",
              "      <td>0</td>\n",
              "      <td>0</td>\n",
              "      <td>1</td>\n",
              "      <td>0</td>\n",
              "      <td>0</td>\n",
              "      <td>...</td>\n",
              "      <td>30</td>\n",
              "      <td>16</td>\n",
              "      <td>30</td>\n",
              "      <td>0</td>\n",
              "      <td>0</td>\n",
              "      <td>0</td>\n",
              "      <td>30</td>\n",
              "      <td>30</td>\n",
              "      <td>0</td>\n",
              "      <td>1</td>\n",
              "    </tr>\n",
              "  </tbody>\n",
              "</table>\n",
              "<p>257673 rows × 57 columns</p>\n",
              "</div>\n",
              "      <button class=\"colab-df-convert\" onclick=\"convertToInteractive('df-17254fa3-e64f-401e-9a3c-6806e4fc9ddb')\"\n",
              "              title=\"Convert this dataframe to an interactive table.\"\n",
              "              style=\"display:none;\">\n",
              "        \n",
              "  <svg xmlns=\"http://www.w3.org/2000/svg\" height=\"24px\"viewBox=\"0 0 24 24\"\n",
              "       width=\"24px\">\n",
              "    <path d=\"M0 0h24v24H0V0z\" fill=\"none\"/>\n",
              "    <path d=\"M18.56 5.44l.94 2.06.94-2.06 2.06-.94-2.06-.94-.94-2.06-.94 2.06-2.06.94zm-11 1L8.5 8.5l.94-2.06 2.06-.94-2.06-.94L8.5 2.5l-.94 2.06-2.06.94zm10 10l.94 2.06.94-2.06 2.06-.94-2.06-.94-.94-2.06-.94 2.06-2.06.94z\"/><path d=\"M17.41 7.96l-1.37-1.37c-.4-.4-.92-.59-1.43-.59-.52 0-1.04.2-1.43.59L10.3 9.45l-7.72 7.72c-.78.78-.78 2.05 0 2.83L4 21.41c.39.39.9.59 1.41.59.51 0 1.02-.2 1.41-.59l7.78-7.78 2.81-2.81c.8-.78.8-2.07 0-2.86zM5.41 20L4 18.59l7.72-7.72 1.47 1.35L5.41 20z\"/>\n",
              "  </svg>\n",
              "      </button>\n",
              "      \n",
              "  <style>\n",
              "    .colab-df-container {\n",
              "      display:flex;\n",
              "      flex-wrap:wrap;\n",
              "      gap: 12px;\n",
              "    }\n",
              "\n",
              "    .colab-df-convert {\n",
              "      background-color: #E8F0FE;\n",
              "      border: none;\n",
              "      border-radius: 50%;\n",
              "      cursor: pointer;\n",
              "      display: none;\n",
              "      fill: #1967D2;\n",
              "      height: 32px;\n",
              "      padding: 0 0 0 0;\n",
              "      width: 32px;\n",
              "    }\n",
              "\n",
              "    .colab-df-convert:hover {\n",
              "      background-color: #E2EBFA;\n",
              "      box-shadow: 0px 1px 2px rgba(60, 64, 67, 0.3), 0px 1px 3px 1px rgba(60, 64, 67, 0.15);\n",
              "      fill: #174EA6;\n",
              "    }\n",
              "\n",
              "    [theme=dark] .colab-df-convert {\n",
              "      background-color: #3B4455;\n",
              "      fill: #D2E3FC;\n",
              "    }\n",
              "\n",
              "    [theme=dark] .colab-df-convert:hover {\n",
              "      background-color: #434B5C;\n",
              "      box-shadow: 0px 1px 3px 1px rgba(0, 0, 0, 0.15);\n",
              "      filter: drop-shadow(0px 1px 2px rgba(0, 0, 0, 0.3));\n",
              "      fill: #FFFFFF;\n",
              "    }\n",
              "  </style>\n",
              "\n",
              "      <script>\n",
              "        const buttonEl =\n",
              "          document.querySelector('#df-17254fa3-e64f-401e-9a3c-6806e4fc9ddb button.colab-df-convert');\n",
              "        buttonEl.style.display =\n",
              "          google.colab.kernel.accessAllowed ? 'block' : 'none';\n",
              "\n",
              "        async function convertToInteractive(key) {\n",
              "          const element = document.querySelector('#df-17254fa3-e64f-401e-9a3c-6806e4fc9ddb');\n",
              "          const dataTable =\n",
              "            await google.colab.kernel.invokeFunction('convertToInteractive',\n",
              "                                                     [key], {});\n",
              "          if (!dataTable) return;\n",
              "\n",
              "          const docLinkHtml = 'Like what you see? Visit the ' +\n",
              "            '<a target=\"_blank\" href=https://colab.research.google.com/notebooks/data_table.ipynb>data table notebook</a>'\n",
              "            + ' to learn more about interactive tables.';\n",
              "          element.innerHTML = '';\n",
              "          dataTable['output_type'] = 'display_data';\n",
              "          await google.colab.output.renderOutput(dataTable, element);\n",
              "          const docLink = document.createElement('div');\n",
              "          docLink.innerHTML = docLinkHtml;\n",
              "          element.appendChild(docLink);\n",
              "        }\n",
              "      </script>\n",
              "    </div>\n",
              "  </div>\n",
              "  "
            ]
          },
          "metadata": {},
          "execution_count": 98
        }
      ],
      "source": [
        "# sampling data taking only 50% of the data\n",
        "# bin_data = bin_data_total.groupby('label', group_keys=False).apply(lambda x: x.sample(frac=0.5))\n",
        "bin_data = bin_data_total\n",
        "bin_data"
      ]
    },
    {
      "cell_type": "code",
      "source": [
        "number_of_cols = bin_data.shape[1]"
      ],
      "metadata": {
        "id": "N125Cc3Ukt8h"
      },
      "execution_count": null,
      "outputs": []
    },
    {
      "cell_type": "code",
      "execution_count": null,
      "metadata": {
        "colab": {
          "base_uri": "https://localhost:8080/"
        },
        "id": "nKX2TRG0J85J",
        "outputId": "1e389733-e569-43a8-91f3-db30de5b21ea"
      },
      "outputs": [
        {
          "output_type": "execute_result",
          "data": {
            "text/plain": [
              "1    0.639077\n",
              "0    0.360923\n",
              "Name: label, dtype: float64"
            ]
          },
          "metadata": {},
          "execution_count": 100
        }
      ],
      "source": [
        "# distribution of label class after sampling\n",
        "data_size = bin_data.shape[0]\n",
        "bin_data.label.value_counts()/data_size"
      ]
    },
    {
      "cell_type": "code",
      "execution_count": null,
      "metadata": {
        "id": "L11T2MepDzax"
      },
      "outputs": [],
      "source": [
        "model_selection = {\n",
        "    0 : \"ALL\",\n",
        "    2 : \"MLP\",\n",
        "    3 : \"LSTM\",\n",
        "    4 : \"AE\"\n",
        "}\n",
        "model_flag = 0\n",
        "svm_enable = 1"
      ]
    },
    {
      "cell_type": "code",
      "execution_count": null,
      "metadata": {
        "id": "OdRAXVlsxUVW"
      },
      "outputs": [],
      "source": [
        "X = bin_data.iloc[:,0:number_of_cols] # dataset excluding target attribute (encoded, one-hot-encoded,original)\n",
        "Y = bin_data['label'] # target attribute"
      ]
    },
    {
      "cell_type": "code",
      "execution_count": null,
      "metadata": {
        "id": "lFdHHvRtxU5B"
      },
      "outputs": [],
      "source": [
        "# splitting the dataset 75% for training and 25% testing\n",
        "X_train, X_test, y_train, y_test = train_test_split(X,Y, test_size=0.25, random_state=42) "
      ]
    },
    {
      "cell_type": "code",
      "source": [
        "# calling the normalization() function\n",
        "X_train = normalization_train(X_train,numeric_cols)\n",
        "X_train.head()"
      ],
      "metadata": {
        "colab": {
          "base_uri": "https://localhost:8080/",
          "height": 317
        },
        "id": "SLLlMtsaYJdK",
        "outputId": "1b55cdd3-1e34-48e7-8f0d-985eccb3089c"
      },
      "execution_count": null,
      "outputs": [
        {
          "output_type": "execute_result",
          "data": {
            "text/plain": [
              "        proto_-  proto_arp  proto_ospf  proto_tcp  proto_udp  proto_unas  \\\n",
              "92000       0.0        0.0         0.0        1.0        0.0         0.0   \n",
              "192145      0.0        0.0         0.0        0.0        1.0         0.0   \n",
              "3245        0.0        0.0         0.0        1.0        0.0         0.0   \n",
              "45792       0.0        0.0         0.0        1.0        0.0         0.0   \n",
              "250330      0.0        0.0         0.0        0.0        0.0         1.0   \n",
              "\n",
              "        service_-  service_dns  service_ftp-data  service_http  ...  \\\n",
              "92000         1.0          0.0               0.0           0.0  ...   \n",
              "192145        1.0          0.0               0.0           0.0  ...   \n",
              "3245          1.0          0.0               0.0           0.0  ...   \n",
              "45792         1.0          0.0               0.0           0.0  ...   \n",
              "250330        1.0          0.0               0.0           0.0  ...   \n",
              "\n",
              "        ct_src_dport_ltm  ct_dst_sport_ltm  ct_dst_src_ltm  is_ftp_login  \\\n",
              "92000                0.0               0.0        0.032258           0.0   \n",
              "192145               0.0               0.0        0.016129           0.0   \n",
              "3245                 0.0               0.0        0.032258           0.0   \n",
              "45792                0.0               0.0        0.000000           0.0   \n",
              "250330               0.0               0.0        0.016129           0.0   \n",
              "\n",
              "        ct_ftp_cmd  ct_flw_http_mthd  ct_src_ltm  ct_srv_dst  is_sm_ips_ports  \\\n",
              "92000          0.0               0.0    0.000000    0.032787              0.0   \n",
              "192145         0.0               0.0    0.000000    0.016393              0.0   \n",
              "3245           0.0               0.0    0.016949    0.032787              0.0   \n",
              "45792          0.0               0.0    0.000000    0.000000              0.0   \n",
              "250330         0.0               0.0    0.000000    0.016393              0.0   \n",
              "\n",
              "        label  \n",
              "92000       0  \n",
              "192145      1  \n",
              "3245        1  \n",
              "45792       1  \n",
              "250330      1  \n",
              "\n",
              "[5 rows x 57 columns]"
            ],
            "text/html": [
              "\n",
              "  <div id=\"df-711bb213-9433-4b31-8f33-3ac696c73e1f\">\n",
              "    <div class=\"colab-df-container\">\n",
              "      <div>\n",
              "<style scoped>\n",
              "    .dataframe tbody tr th:only-of-type {\n",
              "        vertical-align: middle;\n",
              "    }\n",
              "\n",
              "    .dataframe tbody tr th {\n",
              "        vertical-align: top;\n",
              "    }\n",
              "\n",
              "    .dataframe thead th {\n",
              "        text-align: right;\n",
              "    }\n",
              "</style>\n",
              "<table border=\"1\" class=\"dataframe\">\n",
              "  <thead>\n",
              "    <tr style=\"text-align: right;\">\n",
              "      <th></th>\n",
              "      <th>proto_-</th>\n",
              "      <th>proto_arp</th>\n",
              "      <th>proto_ospf</th>\n",
              "      <th>proto_tcp</th>\n",
              "      <th>proto_udp</th>\n",
              "      <th>proto_unas</th>\n",
              "      <th>service_-</th>\n",
              "      <th>service_dns</th>\n",
              "      <th>service_ftp-data</th>\n",
              "      <th>service_http</th>\n",
              "      <th>...</th>\n",
              "      <th>ct_src_dport_ltm</th>\n",
              "      <th>ct_dst_sport_ltm</th>\n",
              "      <th>ct_dst_src_ltm</th>\n",
              "      <th>is_ftp_login</th>\n",
              "      <th>ct_ftp_cmd</th>\n",
              "      <th>ct_flw_http_mthd</th>\n",
              "      <th>ct_src_ltm</th>\n",
              "      <th>ct_srv_dst</th>\n",
              "      <th>is_sm_ips_ports</th>\n",
              "      <th>label</th>\n",
              "    </tr>\n",
              "  </thead>\n",
              "  <tbody>\n",
              "    <tr>\n",
              "      <th>92000</th>\n",
              "      <td>0.0</td>\n",
              "      <td>0.0</td>\n",
              "      <td>0.0</td>\n",
              "      <td>1.0</td>\n",
              "      <td>0.0</td>\n",
              "      <td>0.0</td>\n",
              "      <td>1.0</td>\n",
              "      <td>0.0</td>\n",
              "      <td>0.0</td>\n",
              "      <td>0.0</td>\n",
              "      <td>...</td>\n",
              "      <td>0.0</td>\n",
              "      <td>0.0</td>\n",
              "      <td>0.032258</td>\n",
              "      <td>0.0</td>\n",
              "      <td>0.0</td>\n",
              "      <td>0.0</td>\n",
              "      <td>0.000000</td>\n",
              "      <td>0.032787</td>\n",
              "      <td>0.0</td>\n",
              "      <td>0</td>\n",
              "    </tr>\n",
              "    <tr>\n",
              "      <th>192145</th>\n",
              "      <td>0.0</td>\n",
              "      <td>0.0</td>\n",
              "      <td>0.0</td>\n",
              "      <td>0.0</td>\n",
              "      <td>1.0</td>\n",
              "      <td>0.0</td>\n",
              "      <td>1.0</td>\n",
              "      <td>0.0</td>\n",
              "      <td>0.0</td>\n",
              "      <td>0.0</td>\n",
              "      <td>...</td>\n",
              "      <td>0.0</td>\n",
              "      <td>0.0</td>\n",
              "      <td>0.016129</td>\n",
              "      <td>0.0</td>\n",
              "      <td>0.0</td>\n",
              "      <td>0.0</td>\n",
              "      <td>0.000000</td>\n",
              "      <td>0.016393</td>\n",
              "      <td>0.0</td>\n",
              "      <td>1</td>\n",
              "    </tr>\n",
              "    <tr>\n",
              "      <th>3245</th>\n",
              "      <td>0.0</td>\n",
              "      <td>0.0</td>\n",
              "      <td>0.0</td>\n",
              "      <td>1.0</td>\n",
              "      <td>0.0</td>\n",
              "      <td>0.0</td>\n",
              "      <td>1.0</td>\n",
              "      <td>0.0</td>\n",
              "      <td>0.0</td>\n",
              "      <td>0.0</td>\n",
              "      <td>...</td>\n",
              "      <td>0.0</td>\n",
              "      <td>0.0</td>\n",
              "      <td>0.032258</td>\n",
              "      <td>0.0</td>\n",
              "      <td>0.0</td>\n",
              "      <td>0.0</td>\n",
              "      <td>0.016949</td>\n",
              "      <td>0.032787</td>\n",
              "      <td>0.0</td>\n",
              "      <td>1</td>\n",
              "    </tr>\n",
              "    <tr>\n",
              "      <th>45792</th>\n",
              "      <td>0.0</td>\n",
              "      <td>0.0</td>\n",
              "      <td>0.0</td>\n",
              "      <td>1.0</td>\n",
              "      <td>0.0</td>\n",
              "      <td>0.0</td>\n",
              "      <td>1.0</td>\n",
              "      <td>0.0</td>\n",
              "      <td>0.0</td>\n",
              "      <td>0.0</td>\n",
              "      <td>...</td>\n",
              "      <td>0.0</td>\n",
              "      <td>0.0</td>\n",
              "      <td>0.000000</td>\n",
              "      <td>0.0</td>\n",
              "      <td>0.0</td>\n",
              "      <td>0.0</td>\n",
              "      <td>0.000000</td>\n",
              "      <td>0.000000</td>\n",
              "      <td>0.0</td>\n",
              "      <td>1</td>\n",
              "    </tr>\n",
              "    <tr>\n",
              "      <th>250330</th>\n",
              "      <td>0.0</td>\n",
              "      <td>0.0</td>\n",
              "      <td>0.0</td>\n",
              "      <td>0.0</td>\n",
              "      <td>0.0</td>\n",
              "      <td>1.0</td>\n",
              "      <td>1.0</td>\n",
              "      <td>0.0</td>\n",
              "      <td>0.0</td>\n",
              "      <td>0.0</td>\n",
              "      <td>...</td>\n",
              "      <td>0.0</td>\n",
              "      <td>0.0</td>\n",
              "      <td>0.016129</td>\n",
              "      <td>0.0</td>\n",
              "      <td>0.0</td>\n",
              "      <td>0.0</td>\n",
              "      <td>0.000000</td>\n",
              "      <td>0.016393</td>\n",
              "      <td>0.0</td>\n",
              "      <td>1</td>\n",
              "    </tr>\n",
              "  </tbody>\n",
              "</table>\n",
              "<p>5 rows × 57 columns</p>\n",
              "</div>\n",
              "      <button class=\"colab-df-convert\" onclick=\"convertToInteractive('df-711bb213-9433-4b31-8f33-3ac696c73e1f')\"\n",
              "              title=\"Convert this dataframe to an interactive table.\"\n",
              "              style=\"display:none;\">\n",
              "        \n",
              "  <svg xmlns=\"http://www.w3.org/2000/svg\" height=\"24px\"viewBox=\"0 0 24 24\"\n",
              "       width=\"24px\">\n",
              "    <path d=\"M0 0h24v24H0V0z\" fill=\"none\"/>\n",
              "    <path d=\"M18.56 5.44l.94 2.06.94-2.06 2.06-.94-2.06-.94-.94-2.06-.94 2.06-2.06.94zm-11 1L8.5 8.5l.94-2.06 2.06-.94-2.06-.94L8.5 2.5l-.94 2.06-2.06.94zm10 10l.94 2.06.94-2.06 2.06-.94-2.06-.94-.94-2.06-.94 2.06-2.06.94z\"/><path d=\"M17.41 7.96l-1.37-1.37c-.4-.4-.92-.59-1.43-.59-.52 0-1.04.2-1.43.59L10.3 9.45l-7.72 7.72c-.78.78-.78 2.05 0 2.83L4 21.41c.39.39.9.59 1.41.59.51 0 1.02-.2 1.41-.59l7.78-7.78 2.81-2.81c.8-.78.8-2.07 0-2.86zM5.41 20L4 18.59l7.72-7.72 1.47 1.35L5.41 20z\"/>\n",
              "  </svg>\n",
              "      </button>\n",
              "      \n",
              "  <style>\n",
              "    .colab-df-container {\n",
              "      display:flex;\n",
              "      flex-wrap:wrap;\n",
              "      gap: 12px;\n",
              "    }\n",
              "\n",
              "    .colab-df-convert {\n",
              "      background-color: #E8F0FE;\n",
              "      border: none;\n",
              "      border-radius: 50%;\n",
              "      cursor: pointer;\n",
              "      display: none;\n",
              "      fill: #1967D2;\n",
              "      height: 32px;\n",
              "      padding: 0 0 0 0;\n",
              "      width: 32px;\n",
              "    }\n",
              "\n",
              "    .colab-df-convert:hover {\n",
              "      background-color: #E2EBFA;\n",
              "      box-shadow: 0px 1px 2px rgba(60, 64, 67, 0.3), 0px 1px 3px 1px rgba(60, 64, 67, 0.15);\n",
              "      fill: #174EA6;\n",
              "    }\n",
              "\n",
              "    [theme=dark] .colab-df-convert {\n",
              "      background-color: #3B4455;\n",
              "      fill: #D2E3FC;\n",
              "    }\n",
              "\n",
              "    [theme=dark] .colab-df-convert:hover {\n",
              "      background-color: #434B5C;\n",
              "      box-shadow: 0px 1px 3px 1px rgba(0, 0, 0, 0.15);\n",
              "      filter: drop-shadow(0px 1px 2px rgba(0, 0, 0, 0.3));\n",
              "      fill: #FFFFFF;\n",
              "    }\n",
              "  </style>\n",
              "\n",
              "      <script>\n",
              "        const buttonEl =\n",
              "          document.querySelector('#df-711bb213-9433-4b31-8f33-3ac696c73e1f button.colab-df-convert');\n",
              "        buttonEl.style.display =\n",
              "          google.colab.kernel.accessAllowed ? 'block' : 'none';\n",
              "\n",
              "        async function convertToInteractive(key) {\n",
              "          const element = document.querySelector('#df-711bb213-9433-4b31-8f33-3ac696c73e1f');\n",
              "          const dataTable =\n",
              "            await google.colab.kernel.invokeFunction('convertToInteractive',\n",
              "                                                     [key], {});\n",
              "          if (!dataTable) return;\n",
              "\n",
              "          const docLinkHtml = 'Like what you see? Visit the ' +\n",
              "            '<a target=\"_blank\" href=https://colab.research.google.com/notebooks/data_table.ipynb>data table notebook</a>'\n",
              "            + ' to learn more about interactive tables.';\n",
              "          element.innerHTML = '';\n",
              "          dataTable['output_type'] = 'display_data';\n",
              "          await google.colab.output.renderOutput(dataTable, element);\n",
              "          const docLink = document.createElement('div');\n",
              "          docLink.innerHTML = docLinkHtml;\n",
              "          element.appendChild(docLink);\n",
              "        }\n",
              "      </script>\n",
              "    </div>\n",
              "  </div>\n",
              "  "
            ]
          },
          "metadata": {},
          "execution_count": 104
        }
      ]
    },
    {
      "cell_type": "code",
      "source": [
        "# calling the normalization() function\n",
        "X_test = normalization_test(X_test,numeric_cols)\n",
        "X_test.head()"
      ],
      "metadata": {
        "colab": {
          "base_uri": "https://localhost:8080/",
          "height": 317
        },
        "id": "EKmhgZCobPU3",
        "outputId": "44bf25f1-217d-47b7-a460-87866209c412"
      },
      "execution_count": null,
      "outputs": [
        {
          "output_type": "execute_result",
          "data": {
            "text/plain": [
              "        proto_-  proto_arp  proto_ospf  proto_tcp  proto_udp  proto_unas  \\\n",
              "122637      0.0        0.0         0.0        1.0        0.0         0.0   \n",
              "137118      1.0        0.0         0.0        0.0        0.0         0.0   \n",
              "245289      0.0        0.0         0.0        0.0        1.0         0.0   \n",
              "221262      0.0        0.0         0.0        0.0        1.0         0.0   \n",
              "31408       0.0        0.0         0.0        1.0        0.0         0.0   \n",
              "\n",
              "        service_-  service_dns  service_ftp-data  service_http  ...  \\\n",
              "122637        1.0          0.0               0.0           0.0  ...   \n",
              "137118        1.0          0.0               0.0           0.0  ...   \n",
              "245289        0.0          1.0               0.0           0.0  ...   \n",
              "221262        0.0          1.0               0.0           0.0  ...   \n",
              "31408         0.0          0.0               0.0           1.0  ...   \n",
              "\n",
              "        ct_src_dport_ltm  ct_dst_sport_ltm  ct_dst_src_ltm  is_ftp_login  \\\n",
              "122637               1.0               1.0             1.0           0.0   \n",
              "137118               1.0               1.0             6.0           0.0   \n",
              "245289              17.0              17.0            17.0           0.0   \n",
              "221262              32.0              14.0            36.0           0.0   \n",
              "31408                1.0               1.0             1.0           0.0   \n",
              "\n",
              "        ct_ftp_cmd  ct_flw_http_mthd  ct_src_ltm  ct_srv_dst  is_sm_ips_ports  \\\n",
              "122637         0.0               0.0         3.0         4.0              0.0   \n",
              "137118         0.0               0.0         8.0         6.0              0.0   \n",
              "245289         0.0               0.0        18.0        17.0              0.0   \n",
              "221262         0.0               0.0        32.0        36.0              0.0   \n",
              "31408          0.0               1.0         1.0         2.0              0.0   \n",
              "\n",
              "        label  \n",
              "122637      0  \n",
              "137118      1  \n",
              "245289      1  \n",
              "221262      1  \n",
              "31408       0  \n",
              "\n",
              "[5 rows x 57 columns]"
            ],
            "text/html": [
              "\n",
              "  <div id=\"df-657ec55d-d8a9-44bf-88e3-d91696176207\">\n",
              "    <div class=\"colab-df-container\">\n",
              "      <div>\n",
              "<style scoped>\n",
              "    .dataframe tbody tr th:only-of-type {\n",
              "        vertical-align: middle;\n",
              "    }\n",
              "\n",
              "    .dataframe tbody tr th {\n",
              "        vertical-align: top;\n",
              "    }\n",
              "\n",
              "    .dataframe thead th {\n",
              "        text-align: right;\n",
              "    }\n",
              "</style>\n",
              "<table border=\"1\" class=\"dataframe\">\n",
              "  <thead>\n",
              "    <tr style=\"text-align: right;\">\n",
              "      <th></th>\n",
              "      <th>proto_-</th>\n",
              "      <th>proto_arp</th>\n",
              "      <th>proto_ospf</th>\n",
              "      <th>proto_tcp</th>\n",
              "      <th>proto_udp</th>\n",
              "      <th>proto_unas</th>\n",
              "      <th>service_-</th>\n",
              "      <th>service_dns</th>\n",
              "      <th>service_ftp-data</th>\n",
              "      <th>service_http</th>\n",
              "      <th>...</th>\n",
              "      <th>ct_src_dport_ltm</th>\n",
              "      <th>ct_dst_sport_ltm</th>\n",
              "      <th>ct_dst_src_ltm</th>\n",
              "      <th>is_ftp_login</th>\n",
              "      <th>ct_ftp_cmd</th>\n",
              "      <th>ct_flw_http_mthd</th>\n",
              "      <th>ct_src_ltm</th>\n",
              "      <th>ct_srv_dst</th>\n",
              "      <th>is_sm_ips_ports</th>\n",
              "      <th>label</th>\n",
              "    </tr>\n",
              "  </thead>\n",
              "  <tbody>\n",
              "    <tr>\n",
              "      <th>122637</th>\n",
              "      <td>0.0</td>\n",
              "      <td>0.0</td>\n",
              "      <td>0.0</td>\n",
              "      <td>1.0</td>\n",
              "      <td>0.0</td>\n",
              "      <td>0.0</td>\n",
              "      <td>1.0</td>\n",
              "      <td>0.0</td>\n",
              "      <td>0.0</td>\n",
              "      <td>0.0</td>\n",
              "      <td>...</td>\n",
              "      <td>1.0</td>\n",
              "      <td>1.0</td>\n",
              "      <td>1.0</td>\n",
              "      <td>0.0</td>\n",
              "      <td>0.0</td>\n",
              "      <td>0.0</td>\n",
              "      <td>3.0</td>\n",
              "      <td>4.0</td>\n",
              "      <td>0.0</td>\n",
              "      <td>0</td>\n",
              "    </tr>\n",
              "    <tr>\n",
              "      <th>137118</th>\n",
              "      <td>1.0</td>\n",
              "      <td>0.0</td>\n",
              "      <td>0.0</td>\n",
              "      <td>0.0</td>\n",
              "      <td>0.0</td>\n",
              "      <td>0.0</td>\n",
              "      <td>1.0</td>\n",
              "      <td>0.0</td>\n",
              "      <td>0.0</td>\n",
              "      <td>0.0</td>\n",
              "      <td>...</td>\n",
              "      <td>1.0</td>\n",
              "      <td>1.0</td>\n",
              "      <td>6.0</td>\n",
              "      <td>0.0</td>\n",
              "      <td>0.0</td>\n",
              "      <td>0.0</td>\n",
              "      <td>8.0</td>\n",
              "      <td>6.0</td>\n",
              "      <td>0.0</td>\n",
              "      <td>1</td>\n",
              "    </tr>\n",
              "    <tr>\n",
              "      <th>245289</th>\n",
              "      <td>0.0</td>\n",
              "      <td>0.0</td>\n",
              "      <td>0.0</td>\n",
              "      <td>0.0</td>\n",
              "      <td>1.0</td>\n",
              "      <td>0.0</td>\n",
              "      <td>0.0</td>\n",
              "      <td>1.0</td>\n",
              "      <td>0.0</td>\n",
              "      <td>0.0</td>\n",
              "      <td>...</td>\n",
              "      <td>17.0</td>\n",
              "      <td>17.0</td>\n",
              "      <td>17.0</td>\n",
              "      <td>0.0</td>\n",
              "      <td>0.0</td>\n",
              "      <td>0.0</td>\n",
              "      <td>18.0</td>\n",
              "      <td>17.0</td>\n",
              "      <td>0.0</td>\n",
              "      <td>1</td>\n",
              "    </tr>\n",
              "    <tr>\n",
              "      <th>221262</th>\n",
              "      <td>0.0</td>\n",
              "      <td>0.0</td>\n",
              "      <td>0.0</td>\n",
              "      <td>0.0</td>\n",
              "      <td>1.0</td>\n",
              "      <td>0.0</td>\n",
              "      <td>0.0</td>\n",
              "      <td>1.0</td>\n",
              "      <td>0.0</td>\n",
              "      <td>0.0</td>\n",
              "      <td>...</td>\n",
              "      <td>32.0</td>\n",
              "      <td>14.0</td>\n",
              "      <td>36.0</td>\n",
              "      <td>0.0</td>\n",
              "      <td>0.0</td>\n",
              "      <td>0.0</td>\n",
              "      <td>32.0</td>\n",
              "      <td>36.0</td>\n",
              "      <td>0.0</td>\n",
              "      <td>1</td>\n",
              "    </tr>\n",
              "    <tr>\n",
              "      <th>31408</th>\n",
              "      <td>0.0</td>\n",
              "      <td>0.0</td>\n",
              "      <td>0.0</td>\n",
              "      <td>1.0</td>\n",
              "      <td>0.0</td>\n",
              "      <td>0.0</td>\n",
              "      <td>0.0</td>\n",
              "      <td>0.0</td>\n",
              "      <td>0.0</td>\n",
              "      <td>1.0</td>\n",
              "      <td>...</td>\n",
              "      <td>1.0</td>\n",
              "      <td>1.0</td>\n",
              "      <td>1.0</td>\n",
              "      <td>0.0</td>\n",
              "      <td>0.0</td>\n",
              "      <td>1.0</td>\n",
              "      <td>1.0</td>\n",
              "      <td>2.0</td>\n",
              "      <td>0.0</td>\n",
              "      <td>0</td>\n",
              "    </tr>\n",
              "  </tbody>\n",
              "</table>\n",
              "<p>5 rows × 57 columns</p>\n",
              "</div>\n",
              "      <button class=\"colab-df-convert\" onclick=\"convertToInteractive('df-657ec55d-d8a9-44bf-88e3-d91696176207')\"\n",
              "              title=\"Convert this dataframe to an interactive table.\"\n",
              "              style=\"display:none;\">\n",
              "        \n",
              "  <svg xmlns=\"http://www.w3.org/2000/svg\" height=\"24px\"viewBox=\"0 0 24 24\"\n",
              "       width=\"24px\">\n",
              "    <path d=\"M0 0h24v24H0V0z\" fill=\"none\"/>\n",
              "    <path d=\"M18.56 5.44l.94 2.06.94-2.06 2.06-.94-2.06-.94-.94-2.06-.94 2.06-2.06.94zm-11 1L8.5 8.5l.94-2.06 2.06-.94-2.06-.94L8.5 2.5l-.94 2.06-2.06.94zm10 10l.94 2.06.94-2.06 2.06-.94-2.06-.94-.94-2.06-.94 2.06-2.06.94z\"/><path d=\"M17.41 7.96l-1.37-1.37c-.4-.4-.92-.59-1.43-.59-.52 0-1.04.2-1.43.59L10.3 9.45l-7.72 7.72c-.78.78-.78 2.05 0 2.83L4 21.41c.39.39.9.59 1.41.59.51 0 1.02-.2 1.41-.59l7.78-7.78 2.81-2.81c.8-.78.8-2.07 0-2.86zM5.41 20L4 18.59l7.72-7.72 1.47 1.35L5.41 20z\"/>\n",
              "  </svg>\n",
              "      </button>\n",
              "      \n",
              "  <style>\n",
              "    .colab-df-container {\n",
              "      display:flex;\n",
              "      flex-wrap:wrap;\n",
              "      gap: 12px;\n",
              "    }\n",
              "\n",
              "    .colab-df-convert {\n",
              "      background-color: #E8F0FE;\n",
              "      border: none;\n",
              "      border-radius: 50%;\n",
              "      cursor: pointer;\n",
              "      display: none;\n",
              "      fill: #1967D2;\n",
              "      height: 32px;\n",
              "      padding: 0 0 0 0;\n",
              "      width: 32px;\n",
              "    }\n",
              "\n",
              "    .colab-df-convert:hover {\n",
              "      background-color: #E2EBFA;\n",
              "      box-shadow: 0px 1px 2px rgba(60, 64, 67, 0.3), 0px 1px 3px 1px rgba(60, 64, 67, 0.15);\n",
              "      fill: #174EA6;\n",
              "    }\n",
              "\n",
              "    [theme=dark] .colab-df-convert {\n",
              "      background-color: #3B4455;\n",
              "      fill: #D2E3FC;\n",
              "    }\n",
              "\n",
              "    [theme=dark] .colab-df-convert:hover {\n",
              "      background-color: #434B5C;\n",
              "      box-shadow: 0px 1px 3px 1px rgba(0, 0, 0, 0.15);\n",
              "      filter: drop-shadow(0px 1px 2px rgba(0, 0, 0, 0.3));\n",
              "      fill: #FFFFFF;\n",
              "    }\n",
              "  </style>\n",
              "\n",
              "      <script>\n",
              "        const buttonEl =\n",
              "          document.querySelector('#df-657ec55d-d8a9-44bf-88e3-d91696176207 button.colab-df-convert');\n",
              "        buttonEl.style.display =\n",
              "          google.colab.kernel.accessAllowed ? 'block' : 'none';\n",
              "\n",
              "        async function convertToInteractive(key) {\n",
              "          const element = document.querySelector('#df-657ec55d-d8a9-44bf-88e3-d91696176207');\n",
              "          const dataTable =\n",
              "            await google.colab.kernel.invokeFunction('convertToInteractive',\n",
              "                                                     [key], {});\n",
              "          if (!dataTable) return;\n",
              "\n",
              "          const docLinkHtml = 'Like what you see? Visit the ' +\n",
              "            '<a target=\"_blank\" href=https://colab.research.google.com/notebooks/data_table.ipynb>data table notebook</a>'\n",
              "            + ' to learn more about interactive tables.';\n",
              "          element.innerHTML = '';\n",
              "          dataTable['output_type'] = 'display_data';\n",
              "          await google.colab.output.renderOutput(dataTable, element);\n",
              "          const docLink = document.createElement('div');\n",
              "          docLink.innerHTML = docLinkHtml;\n",
              "          element.appendChild(docLink);\n",
              "        }\n",
              "      </script>\n",
              "    </div>\n",
              "  </div>\n",
              "  "
            ]
          },
          "metadata": {},
          "execution_count": 105
        }
      ]
    },
    {
      "cell_type": "markdown",
      "metadata": {
        "id": "ZfAbEIDgz4iY"
      },
      "source": [
        "## **Linear Support Vector Machine Classifier (Binary Classification) **\n",
        "to enable make the svm_enable = 1 in the above cell"
      ]
    },
    {
      "cell_type": "code",
      "execution_count": null,
      "metadata": {
        "id": "o8GdMBjdzFQT"
      },
      "outputs": [],
      "source": [
        "if svm_enable:\n",
        "  # using kernel as linear \n",
        "  lsvm = SVC(kernel='linear',gamma='auto') \n",
        "  lsvm.fit(X_train,y_train) # training model on training dataset"
      ]
    },
    {
      "cell_type": "code",
      "execution_count": null,
      "metadata": {
        "id": "NjfYZA_9zTNK"
      },
      "outputs": [],
      "source": [
        "if svm_enable:\n",
        "  pkl_filename = \"/content/drive/MyDrive/Colab_Notebooks/Models/lsvm_binary_unsw_nb15.pkl\"\n",
        "  if (not path.isfile(pkl_filename)):\n",
        "    # saving the trained model to disk\n",
        "    with open(pkl_filename, 'wb') as file:\n",
        "      pickle.dump(lsvm, file)\n",
        "    print(\"Saved model to disk\")\n",
        "    # loading the trained model from disk\n",
        "    with open(pkl_filename, 'rb') as file:\n",
        "      lsvm = pickle.load(file)\n",
        "    print(\"Loaded model from disk\") "
      ]
    },
    {
      "cell_type": "code",
      "execution_count": null,
      "metadata": {
        "id": "xsnN51Juzgcf",
        "colab": {
          "base_uri": "https://localhost:8080/"
        },
        "outputId": "b1fd914a-e51a-4952-d8ad-a8eb607877ad"
      },
      "outputs": [
        {
          "output_type": "stream",
          "name": "stdout",
          "text": [
            "LSVM-Classifier Binary Set-Accuracy is  32.56803117092783\n"
          ]
        }
      ],
      "source": [
        "if svm_enable:\n",
        "  y_pred = lsvm.predict(X_test) # predicting target attribute on testing dataset\n",
        "  ac = accuracy_score(y_test, y_pred)*100 # calculating accuracy of predicted data\n",
        "  print(\"LSVM-Classifier Binary Set-Accuracy is \", ac)"
      ]
    },
    {
      "cell_type": "code",
      "execution_count": null,
      "metadata": {
        "id": "qg2gbJTg8NtL"
      },
      "outputs": [],
      "source": [
        "# import matplotlib.pyplot as plt\n",
        "# from sklearn.datasets import make_classification\n",
        "# from sklearn.metrics import confusion_matrix, ConfusionMatrixDisplay\n",
        "# from sklearn.model_selection import train_test_split\n",
        "# from sklearn.svm import SVC\n",
        "# X, y = make_classification(random_state=0)\n",
        "# X_train, X_test, y_train, y_test = train_test_split(X, y,\n",
        "#                                                     random_state=0)\n",
        "# cm = confusion_matrix(y_test, y_pred, labels=lsvm.classes_)\n",
        "# disp = ConfusionMatrixDisplay(confusion_matrix=cm,\n",
        "#                               display_labels=lsvm.classes_)\n",
        "# disp.plot()\n",
        "\n",
        "# plt.show()"
      ]
    },
    {
      "cell_type": "code",
      "execution_count": null,
      "metadata": {
        "id": "9IydNlzT5kx6",
        "colab": {
          "base_uri": "https://localhost:8080/",
          "height": 587
        },
        "outputId": "0a297ea1-d134-4588-d52d-206574f25a25"
      },
      "outputs": [
        {
          "output_type": "display_data",
          "data": {
            "text/plain": [
              "<Figure size 2000x800 with 1 Axes>"
            ],
            "image/png": "[encoded data removed]"
          },
          "metadata": {}
        }
      ],
      "source": [
        "if svm_enable:\n",
        "  plt.figure(figsize=(20,8))\n",
        "  plt.plot(y_pred[300:500], label=\"prediction\", linewidth=2.0,color='blue')\n",
        "  plt.plot(y_test[300:500].values, label=\"real_values\", linewidth=2.0,color='lightcoral')\n",
        "  plt.legend(loc=\"best\")\n",
        "  plt.ylim((-1,2))\n",
        "  plt.title(\"Linear SVM Binary Classification\")\n",
        "  plt.savefig('/content/drive/MyDrive/Colab_Notebooks/Plots/lsvm_real_pred_bin.png')\n",
        "  plt.show()"
      ]
    },
    {
      "cell_type": "code",
      "execution_count": null,
      "metadata": {
        "id": "s9lqoveaUBvg",
        "colab": {
          "base_uri": "https://localhost:8080/"
        },
        "outputId": "9d0fa017-598e-4c64-cca8-b8a12bb4080b"
      },
      "outputs": [
        {
          "output_type": "stream",
          "name": "stdout",
          "text": [
            "              precision    recall  f1-score   support\n",
            "\n",
            "     class 0       0.27      0.52      0.36     23243\n",
            "     class 1       0.44      0.22      0.29     41176\n",
            "\n",
            "    accuracy                           0.33     64419\n",
            "   macro avg       0.36      0.37      0.32     64419\n",
            "weighted avg       0.38      0.33      0.31     64419\n",
            "\n",
            "False Positive Rate -  [1.         0.47859571]\n",
            "False Negative Rate -  [0.         0.78480183]\n",
            "Thresholds -  [0 1]\n"
          ]
        }
      ],
      "source": [
        "if svm_enable:\n",
        "  target_names = ['class 0', 'class 1']\n",
        "  print(classification_report(y_test, y_pred, target_names=target_names))\n",
        "  fpr, fnr, thresholds = det_curve(y_test, y_pred)\n",
        "  print(\"False Positive Rate - \", fpr)\n",
        "  print(\"False Negative Rate - \", fnr)\n",
        "  print(\"Thresholds - \", thresholds)"
      ]
    },
    {
      "cell_type": "code",
      "execution_count": null,
      "metadata": {
        "id": "kWxBZhnw9t5n",
        "colab": {
          "base_uri": "https://localhost:8080/",
          "height": 449
        },
        "outputId": "0fec829e-ada4-4573-c46a-857639d197d6"
      },
      "outputs": [
        {
          "output_type": "display_data",
          "data": {
            "text/plain": [
              "<Figure size 640x480 with 2 Axes>"
            ],
            "image/png": "[encoded data removed]"
          },
          "metadata": {}
        }
      ],
      "source": [
        "if svm_enable:\n",
        "  from sklearn.metrics import confusion_matrix, ConfusionMatrixDisplay\n",
        "\n",
        "  clf = lsvm\n",
        "  cm = confusion_matrix(y_test, y_pred, labels=clf.classes_)\n",
        "  disp = ConfusionMatrixDisplay(confusion_matrix=cm,\n",
        "                                display_labels=clf.classes_)\n",
        "  disp.plot()\n",
        "\n",
        "  plt.show()"
      ]
    },
    {
      "cell_type": "markdown",
      "metadata": {
        "id": "PUjrwY2l0_RI"
      },
      "source": [
        "## **Multi Layer Perceptron Classifier (Binary Classification)**"
      ]
    },
    {
      "cell_type": "code",
      "execution_count": null,
      "metadata": {
        "id": "u9v5Ylpa1DHY"
      },
      "outputs": [],
      "source": [
        "if model_selection[model_flag]==\"ALL\" or model_selection[model_flag] == \"MLP\":\n",
        "  mlp = Sequential() # creating model\n",
        "\n",
        "  # adding input layer and first layer with 50 neurons\n",
        "  mlp.add(Dense(units=50, input_dim=X_train.shape[1], activation='relu'))\n",
        "  # output layer with sigmoid activation\n",
        "  mlp.add(Dense(units=1,activation='sigmoid'))"
      ]
    },
    {
      "cell_type": "code",
      "execution_count": null,
      "metadata": {
        "id": "E-9M9d0p1p8s"
      },
      "outputs": [],
      "source": [
        "if model_selection[model_flag]==\"ALL\" or model_selection[model_flag] == \"MLP\":\n",
        "  # defining loss function, optimizer, metrics and then compiling model\n",
        "  mlp.compile(loss='binary_crossentropy', optimizer='adam', metrics=['accuracy'])"
      ]
    },
    {
      "cell_type": "code",
      "execution_count": null,
      "metadata": {
        "id": "NK-1_akm1vO9",
        "colab": {
          "base_uri": "https://localhost:8080/"
        },
        "outputId": "1439e99c-d355-4a98-c7f2-3fd97a0f61b7"
      },
      "outputs": [
        {
          "output_type": "stream",
          "name": "stdout",
          "text": [
            "Model: \"sequential_2\"\n",
            "_________________________________________________________________\n",
            " Layer (type)                Output Shape              Param #   \n",
            "=================================================================\n",
            " dense_7 (Dense)             (None, 50)                2900      \n",
            "                                                                 \n",
            " dense_8 (Dense)             (None, 1)                 51        \n",
            "                                                                 \n",
            "=================================================================\n",
            "Total params: 2,951\n",
            "Trainable params: 2,951\n",
            "Non-trainable params: 0\n",
            "_________________________________________________________________\n"
          ]
        }
      ],
      "source": [
        "if model_selection[model_flag]==\"ALL\" or model_selection[model_flag] == \"MLP\":\n",
        "  # summary of model layers\n",
        "  mlp.summary()"
      ]
    },
    {
      "cell_type": "code",
      "execution_count": null,
      "metadata": {
        "id": "UYZ4xCgp13gP",
        "colab": {
          "base_uri": "https://localhost:8080/"
        },
        "outputId": "73357be9-3761-4d32-f15c-d7595dac184a"
      },
      "outputs": [
        {
          "output_type": "stream",
          "name": "stdout",
          "text": [
            "Epoch 1/100\n",
            "31/31 [==============================] - 1s 11ms/step - loss: 0.5348 - accuracy: 0.8302 - val_loss: 0.4454 - val_accuracy: 0.8953\n",
            "Epoch 2/100\n",
            "31/31 [==============================] - 0s 7ms/step - loss: 0.3853 - accuracy: 0.9156 - val_loss: 0.3280 - val_accuracy: 0.9289\n",
            "Epoch 3/100\n",
            "31/31 [==============================] - 0s 8ms/step - loss: 0.2855 - accuracy: 0.9403 - val_loss: 0.2441 - val_accuracy: 0.9504\n",
            "Epoch 4/100\n",
            "31/31 [==============================] - 0s 6ms/step - loss: 0.2131 - accuracy: 0.9575 - val_loss: 0.1817 - val_accuracy: 0.9635\n",
            "Epoch 5/100\n",
            "31/31 [==============================] - 0s 6ms/step - loss: 0.1592 - accuracy: 0.9712 - val_loss: 0.1366 - val_accuracy: 0.9814\n",
            "Epoch 6/100\n",
            "31/31 [==============================] - 0s 6ms/step - loss: 0.1205 - accuracy: 0.9878 - val_loss: 0.1041 - val_accuracy: 0.9958\n",
            "Epoch 7/100\n",
            "31/31 [==============================] - 0s 8ms/step - loss: 0.0924 - accuracy: 0.9960 - val_loss: 0.0804 - val_accuracy: 0.9975\n",
            "Epoch 8/100\n",
            "31/31 [==============================] - 0s 6ms/step - loss: 0.0718 - accuracy: 0.9976 - val_loss: 0.0631 - val_accuracy: 0.9984\n",
            "Epoch 9/100\n",
            "31/31 [==============================] - 0s 6ms/step - loss: 0.0569 - accuracy: 0.9984 - val_loss: 0.0504 - val_accuracy: 0.9987\n",
            "Epoch 10/100\n",
            "31/31 [==============================] - 0s 6ms/step - loss: 0.0457 - accuracy: 0.9989 - val_loss: 0.0407 - val_accuracy: 0.9993\n",
            "Epoch 11/100\n",
            "31/31 [==============================] - 0s 7ms/step - loss: 0.0371 - accuracy: 0.9995 - val_loss: 0.0334 - val_accuracy: 0.9995\n",
            "Epoch 12/100\n",
            "31/31 [==============================] - 0s 9ms/step - loss: 0.0306 - accuracy: 0.9997 - val_loss: 0.0277 - val_accuracy: 0.9996\n",
            "Epoch 13/100\n",
            "31/31 [==============================] - 0s 10ms/step - loss: 0.0256 - accuracy: 0.9998 - val_loss: 0.0233 - val_accuracy: 0.9997\n",
            "Epoch 14/100\n",
            "31/31 [==============================] - 0s 10ms/step - loss: 0.0216 - accuracy: 0.9998 - val_loss: 0.0198 - val_accuracy: 0.9997\n",
            "Epoch 15/100\n",
            "31/31 [==============================] - 0s 9ms/step - loss: 0.0183 - accuracy: 0.9998 - val_loss: 0.0168 - val_accuracy: 0.9997\n",
            "Epoch 16/100\n",
            "31/31 [==============================] - 0s 9ms/step - loss: 0.0156 - accuracy: 0.9998 - val_loss: 0.0144 - val_accuracy: 0.9997\n",
            "Epoch 17/100\n",
            "31/31 [==============================] - 0s 8ms/step - loss: 0.0134 - accuracy: 0.9998 - val_loss: 0.0124 - val_accuracy: 0.9997\n",
            "Epoch 18/100\n",
            "31/31 [==============================] - 0s 7ms/step - loss: 0.0116 - accuracy: 0.9998 - val_loss: 0.0108 - val_accuracy: 0.9997\n",
            "Epoch 19/100\n",
            "31/31 [==============================] - 0s 8ms/step - loss: 0.0101 - accuracy: 0.9998 - val_loss: 0.0094 - val_accuracy: 0.9997\n",
            "Epoch 20/100\n",
            "31/31 [==============================] - 0s 8ms/step - loss: 0.0088 - accuracy: 0.9998 - val_loss: 0.0082 - val_accuracy: 0.9997\n",
            "Epoch 21/100\n",
            "31/31 [==============================] - 0s 9ms/step - loss: 0.0077 - accuracy: 0.9998 - val_loss: 0.0073 - val_accuracy: 0.9997\n",
            "Epoch 22/100\n",
            "31/31 [==============================] - 0s 8ms/step - loss: 0.0068 - accuracy: 0.9998 - val_loss: 0.0064 - val_accuracy: 0.9997\n",
            "Epoch 23/100\n",
            "31/31 [==============================] - 0s 9ms/step - loss: 0.0060 - accuracy: 0.9998 - val_loss: 0.0057 - val_accuracy: 0.9998\n",
            "Epoch 24/100\n",
            "31/31 [==============================] - 0s 8ms/step - loss: 0.0054 - accuracy: 0.9999 - val_loss: 0.0051 - val_accuracy: 0.9999\n",
            "Epoch 25/100\n",
            "31/31 [==============================] - 0s 6ms/step - loss: 0.0048 - accuracy: 1.0000 - val_loss: 0.0046 - val_accuracy: 1.0000\n",
            "Epoch 26/100\n",
            "31/31 [==============================] - 0s 6ms/step - loss: 0.0044 - accuracy: 1.0000 - val_loss: 0.0042 - val_accuracy: 1.0000\n",
            "Epoch 27/100\n",
            "31/31 [==============================] - 0s 6ms/step - loss: 0.0039 - accuracy: 1.0000 - val_loss: 0.0038 - val_accuracy: 1.0000\n",
            "Epoch 28/100\n",
            "31/31 [==============================] - 0s 7ms/step - loss: 0.0036 - accuracy: 1.0000 - val_loss: 0.0034 - val_accuracy: 1.0000\n",
            "Epoch 29/100\n",
            "31/31 [==============================] - 0s 6ms/step - loss: 0.0033 - accuracy: 1.0000 - val_loss: 0.0031 - val_accuracy: 1.0000\n",
            "Epoch 30/100\n",
            "31/31 [==============================] - 0s 7ms/step - loss: 0.0030 - accuracy: 1.0000 - val_loss: 0.0029 - val_accuracy: 1.0000\n",
            "Epoch 31/100\n",
            "31/31 [==============================] - 0s 6ms/step - loss: 0.0027 - accuracy: 1.0000 - val_loss: 0.0026 - val_accuracy: 1.0000\n",
            "Epoch 32/100\n",
            "31/31 [==============================] - 0s 7ms/step - loss: 0.0025 - accuracy: 1.0000 - val_loss: 0.0024 - val_accuracy: 1.0000\n",
            "Epoch 33/100\n",
            "31/31 [==============================] - 0s 6ms/step - loss: 0.0023 - accuracy: 1.0000 - val_loss: 0.0023 - val_accuracy: 1.0000\n",
            "Epoch 34/100\n",
            "31/31 [==============================] - 0s 6ms/step - loss: 0.0021 - accuracy: 1.0000 - val_loss: 0.0021 - val_accuracy: 1.0000\n",
            "Epoch 35/100\n",
            "31/31 [==============================] - 0s 7ms/step - loss: 0.0020 - accuracy: 1.0000 - val_loss: 0.0019 - val_accuracy: 1.0000\n",
            "Epoch 36/100\n",
            "31/31 [==============================] - 0s 6ms/step - loss: 0.0018 - accuracy: 1.0000 - val_loss: 0.0018 - val_accuracy: 1.0000\n",
            "Epoch 37/100\n",
            "31/31 [==============================] - 0s 6ms/step - loss: 0.0017 - accuracy: 1.0000 - val_loss: 0.0017 - val_accuracy: 1.0000\n",
            "Epoch 38/100\n",
            "31/31 [==============================] - 0s 7ms/step - loss: 0.0016 - accuracy: 1.0000 - val_loss: 0.0016 - val_accuracy: 1.0000\n",
            "Epoch 39/100\n",
            "31/31 [==============================] - 0s 6ms/step - loss: 0.0015 - accuracy: 1.0000 - val_loss: 0.0015 - val_accuracy: 1.0000\n",
            "Epoch 40/100\n",
            "31/31 [==============================] - 0s 6ms/step - loss: 0.0014 - accuracy: 1.0000 - val_loss: 0.0014 - val_accuracy: 1.0000\n",
            "Epoch 41/100\n",
            "31/31 [==============================] - 0s 6ms/step - loss: 0.0013 - accuracy: 1.0000 - val_loss: 0.0013 - val_accuracy: 1.0000\n",
            "Epoch 42/100\n",
            "31/31 [==============================] - 0s 6ms/step - loss: 0.0012 - accuracy: 1.0000 - val_loss: 0.0012 - val_accuracy: 1.0000\n",
            "Epoch 43/100\n",
            "31/31 [==============================] - 0s 7ms/step - loss: 0.0011 - accuracy: 1.0000 - val_loss: 0.0011 - val_accuracy: 1.0000\n",
            "Epoch 44/100\n",
            "31/31 [==============================] - 0s 6ms/step - loss: 0.0011 - accuracy: 1.0000 - val_loss: 0.0011 - val_accuracy: 1.0000\n",
            "Epoch 45/100\n",
            "31/31 [==============================] - 0s 7ms/step - loss: 0.0010 - accuracy: 1.0000 - val_loss: 0.0010 - val_accuracy: 1.0000\n",
            "Epoch 46/100\n",
            "31/31 [==============================] - 0s 6ms/step - loss: 9.6216e-04 - accuracy: 1.0000 - val_loss: 9.5369e-04 - val_accuracy: 1.0000\n",
            "Epoch 47/100\n",
            "31/31 [==============================] - 0s 6ms/step - loss: 9.1013e-04 - accuracy: 1.0000 - val_loss: 9.0350e-04 - val_accuracy: 1.0000\n",
            "Epoch 48/100\n",
            "31/31 [==============================] - 0s 6ms/step - loss: 8.6195e-04 - accuracy: 1.0000 - val_loss: 8.5648e-04 - val_accuracy: 1.0000\n",
            "Epoch 49/100\n",
            "31/31 [==============================] - 0s 6ms/step - loss: 8.1751e-04 - accuracy: 1.0000 - val_loss: 8.1317e-04 - val_accuracy: 1.0000\n",
            "Epoch 50/100\n",
            "31/31 [==============================] - 0s 6ms/step - loss: 7.7592e-04 - accuracy: 1.0000 - val_loss: 7.7275e-04 - val_accuracy: 1.0000\n",
            "Epoch 51/100\n",
            "31/31 [==============================] - 0s 6ms/step - loss: 7.3728e-04 - accuracy: 1.0000 - val_loss: 7.3541e-04 - val_accuracy: 1.0000\n",
            "Epoch 52/100\n",
            "31/31 [==============================] - 0s 6ms/step - loss: 7.0139e-04 - accuracy: 1.0000 - val_loss: 7.0052e-04 - val_accuracy: 1.0000\n",
            "Epoch 53/100\n",
            "31/31 [==============================] - 0s 7ms/step - loss: 6.6777e-04 - accuracy: 1.0000 - val_loss: 6.6753e-04 - val_accuracy: 1.0000\n",
            "Epoch 54/100\n",
            "31/31 [==============================] - 0s 6ms/step - loss: 6.3644e-04 - accuracy: 1.0000 - val_loss: 6.3691e-04 - val_accuracy: 1.0000\n",
            "Epoch 55/100\n",
            "31/31 [==============================] - 0s 7ms/step - loss: 6.0708e-04 - accuracy: 1.0000 - val_loss: 6.0813e-04 - val_accuracy: 1.0000\n",
            "Epoch 56/100\n",
            "31/31 [==============================] - 0s 6ms/step - loss: 5.7959e-04 - accuracy: 1.0000 - val_loss: 5.8139e-04 - val_accuracy: 1.0000\n",
            "Epoch 57/100\n",
            "31/31 [==============================] - 0s 6ms/step - loss: 5.5376e-04 - accuracy: 1.0000 - val_loss: 5.5572e-04 - val_accuracy: 1.0000\n",
            "Epoch 58/100\n",
            "31/31 [==============================] - 0s 6ms/step - loss: 5.2942e-04 - accuracy: 1.0000 - val_loss: 5.3194e-04 - val_accuracy: 1.0000\n",
            "Epoch 59/100\n",
            "31/31 [==============================] - 0s 6ms/step - loss: 5.0644e-04 - accuracy: 1.0000 - val_loss: 5.0917e-04 - val_accuracy: 1.0000\n",
            "Epoch 60/100\n",
            "31/31 [==============================] - 0s 7ms/step - loss: 4.8463e-04 - accuracy: 1.0000 - val_loss: 4.8761e-04 - val_accuracy: 1.0000\n",
            "Epoch 61/100\n",
            "31/31 [==============================] - 0s 6ms/step - loss: 4.6414e-04 - accuracy: 1.0000 - val_loss: 4.6746e-04 - val_accuracy: 1.0000\n",
            "Epoch 62/100\n",
            "31/31 [==============================] - 0s 6ms/step - loss: 4.4486e-04 - accuracy: 1.0000 - val_loss: 4.4848e-04 - val_accuracy: 1.0000\n",
            "Epoch 63/100\n",
            "31/31 [==============================] - 0s 6ms/step - loss: 4.2664e-04 - accuracy: 1.0000 - val_loss: 4.3031e-04 - val_accuracy: 1.0000\n",
            "Epoch 64/100\n",
            "31/31 [==============================] - 0s 7ms/step - loss: 4.0946e-04 - accuracy: 1.0000 - val_loss: 4.1338e-04 - val_accuracy: 1.0000\n",
            "Epoch 65/100\n",
            "31/31 [==============================] - 0s 6ms/step - loss: 3.9319e-04 - accuracy: 1.0000 - val_loss: 3.9750e-04 - val_accuracy: 1.0000\n",
            "Epoch 66/100\n",
            "31/31 [==============================] - 0s 7ms/step - loss: 3.7785e-04 - accuracy: 1.0000 - val_loss: 3.8224e-04 - val_accuracy: 1.0000\n",
            "Epoch 67/100\n",
            "31/31 [==============================] - 0s 7ms/step - loss: 3.6326e-04 - accuracy: 1.0000 - val_loss: 3.6775e-04 - val_accuracy: 1.0000\n",
            "Epoch 68/100\n",
            "31/31 [==============================] - 0s 5ms/step - loss: 3.4937e-04 - accuracy: 1.0000 - val_loss: 3.5389e-04 - val_accuracy: 1.0000\n",
            "Epoch 69/100\n",
            "31/31 [==============================] - 0s 6ms/step - loss: 3.3606e-04 - accuracy: 1.0000 - val_loss: 3.4067e-04 - val_accuracy: 1.0000\n",
            "Epoch 70/100\n",
            "31/31 [==============================] - 0s 7ms/step - loss: 3.2338e-04 - accuracy: 1.0000 - val_loss: 3.2815e-04 - val_accuracy: 1.0000\n",
            "Epoch 71/100\n",
            "31/31 [==============================] - 0s 6ms/step - loss: 3.1131e-04 - accuracy: 1.0000 - val_loss: 3.1617e-04 - val_accuracy: 1.0000\n",
            "Epoch 72/100\n",
            "31/31 [==============================] - 0s 6ms/step - loss: 2.9987e-04 - accuracy: 1.0000 - val_loss: 3.0479e-04 - val_accuracy: 1.0000\n",
            "Epoch 73/100\n",
            "31/31 [==============================] - 0s 6ms/step - loss: 2.8896e-04 - accuracy: 1.0000 - val_loss: 2.9389e-04 - val_accuracy: 1.0000\n",
            "Epoch 74/100\n",
            "31/31 [==============================] - 0s 9ms/step - loss: 2.7859e-04 - accuracy: 1.0000 - val_loss: 2.8352e-04 - val_accuracy: 1.0000\n",
            "Epoch 75/100\n",
            "31/31 [==============================] - 0s 8ms/step - loss: 2.6870e-04 - accuracy: 1.0000 - val_loss: 2.7383e-04 - val_accuracy: 1.0000\n",
            "Epoch 76/100\n",
            "31/31 [==============================] - 0s 8ms/step - loss: 2.5925e-04 - accuracy: 1.0000 - val_loss: 2.6440e-04 - val_accuracy: 1.0000\n",
            "Epoch 77/100\n",
            "31/31 [==============================] - 0s 8ms/step - loss: 2.5028e-04 - accuracy: 1.0000 - val_loss: 2.5544e-04 - val_accuracy: 1.0000\n",
            "Epoch 78/100\n",
            "31/31 [==============================] - 0s 8ms/step - loss: 2.4169e-04 - accuracy: 1.0000 - val_loss: 2.4681e-04 - val_accuracy: 1.0000\n",
            "Epoch 79/100\n",
            "31/31 [==============================] - 0s 8ms/step - loss: 2.3348e-04 - accuracy: 1.0000 - val_loss: 2.3864e-04 - val_accuracy: 1.0000\n",
            "Epoch 80/100\n",
            "31/31 [==============================] - 0s 11ms/step - loss: 2.2564e-04 - accuracy: 1.0000 - val_loss: 2.3077e-04 - val_accuracy: 1.0000\n",
            "Epoch 81/100\n",
            "31/31 [==============================] - 0s 8ms/step - loss: 2.1813e-04 - accuracy: 1.0000 - val_loss: 2.2327e-04 - val_accuracy: 1.0000\n",
            "Epoch 82/100\n",
            "31/31 [==============================] - 0s 10ms/step - loss: 2.1095e-04 - accuracy: 1.0000 - val_loss: 2.1608e-04 - val_accuracy: 1.0000\n",
            "Epoch 83/100\n",
            "31/31 [==============================] - 0s 10ms/step - loss: 2.0407e-04 - accuracy: 1.0000 - val_loss: 2.0914e-04 - val_accuracy: 1.0000\n",
            "Epoch 84/100\n",
            "31/31 [==============================] - 0s 10ms/step - loss: 1.9749e-04 - accuracy: 1.0000 - val_loss: 2.0256e-04 - val_accuracy: 1.0000\n",
            "Epoch 85/100\n",
            "31/31 [==============================] - 0s 10ms/step - loss: 1.9116e-04 - accuracy: 1.0000 - val_loss: 1.9615e-04 - val_accuracy: 1.0000\n",
            "Epoch 86/100\n",
            "31/31 [==============================] - 0s 9ms/step - loss: 1.8511e-04 - accuracy: 1.0000 - val_loss: 1.9009e-04 - val_accuracy: 1.0000\n",
            "Epoch 87/100\n",
            "31/31 [==============================] - 0s 7ms/step - loss: 1.7929e-04 - accuracy: 1.0000 - val_loss: 1.8425e-04 - val_accuracy: 1.0000\n",
            "Epoch 88/100\n",
            "31/31 [==============================] - 0s 7ms/step - loss: 1.7372e-04 - accuracy: 1.0000 - val_loss: 1.7863e-04 - val_accuracy: 1.0000\n",
            "Epoch 89/100\n",
            "31/31 [==============================] - 0s 6ms/step - loss: 1.6836e-04 - accuracy: 1.0000 - val_loss: 1.7322e-04 - val_accuracy: 1.0000\n",
            "Epoch 90/100\n",
            "31/31 [==============================] - 0s 6ms/step - loss: 1.6321e-04 - accuracy: 1.0000 - val_loss: 1.6805e-04 - val_accuracy: 1.0000\n",
            "Epoch 91/100\n",
            "31/31 [==============================] - 0s 6ms/step - loss: 1.5827e-04 - accuracy: 1.0000 - val_loss: 1.6304e-04 - val_accuracy: 1.0000\n",
            "Epoch 92/100\n",
            "31/31 [==============================] - 0s 6ms/step - loss: 1.5351e-04 - accuracy: 1.0000 - val_loss: 1.5831e-04 - val_accuracy: 1.0000\n",
            "Epoch 93/100\n",
            "31/31 [==============================] - 0s 6ms/step - loss: 1.4893e-04 - accuracy: 1.0000 - val_loss: 1.5367e-04 - val_accuracy: 1.0000\n",
            "Epoch 94/100\n",
            "31/31 [==============================] - 0s 7ms/step - loss: 1.4450e-04 - accuracy: 1.0000 - val_loss: 1.4912e-04 - val_accuracy: 1.0000\n",
            "Epoch 95/100\n",
            "31/31 [==============================] - 0s 6ms/step - loss: 1.4023e-04 - accuracy: 1.0000 - val_loss: 1.4488e-04 - val_accuracy: 1.0000\n",
            "Epoch 96/100\n",
            "31/31 [==============================] - 0s 6ms/step - loss: 1.3614e-04 - accuracy: 1.0000 - val_loss: 1.4072e-04 - val_accuracy: 1.0000\n",
            "Epoch 97/100\n",
            "31/31 [==============================] - 0s 7ms/step - loss: 1.3221e-04 - accuracy: 1.0000 - val_loss: 1.3668e-04 - val_accuracy: 1.0000\n",
            "Epoch 98/100\n",
            "31/31 [==============================] - 0s 6ms/step - loss: 1.2841e-04 - accuracy: 1.0000 - val_loss: 1.3288e-04 - val_accuracy: 1.0000\n",
            "Epoch 99/100\n",
            "31/31 [==============================] - 0s 6ms/step - loss: 1.2475e-04 - accuracy: 1.0000 - val_loss: 1.2920e-04 - val_accuracy: 1.0000\n",
            "Epoch 100/100\n",
            "31/31 [==============================] - 0s 6ms/step - loss: 1.2121e-04 - accuracy: 1.0000 - val_loss: 1.2558e-04 - val_accuracy: 1.0000\n"
          ]
        }
      ],
      "source": [
        "if model_selection[model_flag]==\"ALL\" or model_selection[model_flag] == \"MLP\":\n",
        "  # training the model on training dataset\n",
        "  history = mlp.fit(X_train, y_train, epochs=100, batch_size=5000,validation_split=0.2)"
      ]
    },
    {
      "cell_type": "code",
      "execution_count": null,
      "metadata": {
        "id": "_n_gNs3p1_M-"
      },
      "outputs": [],
      "source": [
        "if model_selection[model_flag]==\"ALL\" or model_selection[model_flag] == \"MLP\":\n",
        "  filepath = '/content/drive/MyDrive/Colab_Notebooks/Models/mlp_binary.json'\n",
        "  weightspath = '/content/drive/MyDrive/Colab_Notebooks/Weights/mlp_binary.h5'\n",
        "  if (not path.isfile(filepath)):\n",
        "    # serialize model to JSON\n",
        "    mlp_json = mlp.to_json()\n",
        "    with open(filepath, \"w\") as json_file:\n",
        "      json_file.write(mlp_json)\n",
        "\n",
        "    # serialize weights to HDF5\n",
        "    mlp.save_weights(weightspath)\n",
        "    print(\"Saved model to disk\")\n",
        "\n",
        "    # load json and create model\n",
        "    json_file = open(filepath, 'r')\n",
        "    loaded_model_json = json_file.read()\n",
        "    json_file.close()\n",
        "    mlp = model_from_json(loaded_model_json)\n",
        "\n",
        "    # load weights into new model\n",
        "    mlp.load_weights(weightspath)\n",
        "    print(\"Loaded model from disk\")"
      ]
    },
    {
      "cell_type": "code",
      "execution_count": null,
      "metadata": {
        "id": "G99OrVcT2JON"
      },
      "outputs": [],
      "source": [
        "if model_selection[model_flag]==\"ALL\" or model_selection[model_flag] == \"MLP\":\n",
        "  # defining loss function, optimizer, metrics and then compiling model\n",
        "  mlp.compile(loss='binary_crossentropy', optimizer='adam', metrics=['accuracy'])"
      ]
    },
    {
      "cell_type": "code",
      "execution_count": null,
      "metadata": {
        "id": "AXUA0T2N2OIB",
        "colab": {
          "base_uri": "https://localhost:8080/"
        },
        "outputId": "b1b2779c-7f8c-4141-935a-985f19ab0ba3"
      },
      "outputs": [
        {
          "output_type": "stream",
          "name": "stdout",
          "text": [
            "2014/2014 [==============================] - 5s 3ms/step - loss: 97819016.0000 - accuracy: 0.7314\n",
            "Test results - Loss: 97819016.0 - Accuracy: 73.1430172920227\n"
          ]
        }
      ],
      "source": [
        "if model_selection[model_flag]==\"ALL\" or model_selection[model_flag] == \"MLP\":\n",
        "  # predicting target attribute on testing dataset\n",
        "  test_results = mlp.evaluate(X_test, y_test, verbose=1)\n",
        "  print(f'Test results - Loss: {test_results[0]} - Accuracy: {test_results[1]*100}')"
      ]
    },
    {
      "cell_type": "code",
      "execution_count": null,
      "metadata": {
        "id": "StFTrhE65_-q",
        "colab": {
          "base_uri": "https://localhost:8080/",
          "height": 472
        },
        "outputId": "4c30116c-2d8c-4e4e-c4eb-af929cd66020"
      },
      "outputs": [
        {
          "output_type": "display_data",
          "data": {
            "text/plain": [
              "<Figure size 640x480 with 1 Axes>"
            ],
            "image/png": "[encoded data removed]"
          },
          "metadata": {}
        }
      ],
      "source": [
        "if model_selection[model_flag]==\"ALL\" or model_selection[model_flag] == \"MLP\":  \n",
        "  # Plot of accuracy vs epoch of train and test dataset\n",
        "  plt.plot(history.history['accuracy'])\n",
        "  plt.plot(history.history['val_accuracy'])\n",
        "  plt.title(\"Plot of accuracy vs epoch for train and test dataset\")\n",
        "  plt.ylabel('accuracy')\n",
        "  plt.xlabel('epoch')\n",
        "  plt.legend(['train', 'test'], loc='best')\n",
        "  plt.savefig('/content/drive/MyDrive/Colab_Notebooks/Plots/mlp_binary_accuracy.png')\n",
        "  plt.show()"
      ]
    },
    {
      "cell_type": "code",
      "execution_count": null,
      "metadata": {
        "id": "rZes4PzY6JUq",
        "colab": {
          "base_uri": "https://localhost:8080/",
          "height": 472
        },
        "outputId": "b8bb42ea-ec4c-4f37-8d6f-4ee0b74afa32"
      },
      "outputs": [
        {
          "output_type": "display_data",
          "data": {
            "text/plain": [
              "<Figure size 640x480 with 1 Axes>"
            ],
            "image/png": "[encoded data removed]"
          },
          "metadata": {}
        }
      ],
      "source": [
        "if model_selection[model_flag]==\"ALL\" or model_selection[model_flag] == \"MLP\":\n",
        "  # Plot of loss vs epoch of train and test dataset\n",
        "  plt.plot(history.history['loss'])\n",
        "  plt.plot(history.history['val_loss'])\n",
        "  plt.title('Plot of loss vs epoch for train and test dataset')\n",
        "  plt.ylabel('loss')\n",
        "  plt.xlabel('epoch')\n",
        "  plt.legend(['train', 'test'], loc='best')\n",
        "  plt.savefig('/content/drive/MyDrive/Colab_Notebooks/Plots/mlp_binary_loss.png')\n",
        "  plt.show()"
      ]
    },
    {
      "cell_type": "code",
      "execution_count": null,
      "metadata": {
        "id": "mC0nj-on6iRU"
      },
      "outputs": [],
      "source": [
        "if model_selection[model_flag]==\"ALL\" or model_selection[model_flag] == \"MLP\":\n",
        "  # representation of model layers\n",
        "  from keras.utils.vis_utils import plot_model\n",
        "  plot_model(mlp, to_file='/content/drive/MyDrive/Colab_Notebooks/Plots/mlp_binary.png', show_shapes=True,)"
      ]
    },
    {
      "cell_type": "code",
      "execution_count": null,
      "metadata": {
        "id": "oxHdln0c6Xi_",
        "colab": {
          "base_uri": "https://localhost:8080/"
        },
        "outputId": "3cd880ac-a45b-452c-a3e5-c306e3f97f24"
      },
      "outputs": [
        {
          "output_type": "stream",
          "name": "stdout",
          "text": [
            "2014/2014 [==============================] - 3s 1ms/step\n"
          ]
        }
      ],
      "source": [
        "if model_selection[model_flag]==\"ALL\" or model_selection[model_flag] == \"MLP\":\n",
        "  y_pred = mlp.predict(X_test).ravel()\n",
        "  fpr, tpr, thresholds = roc_curve(y_test, y_pred)\n",
        "  auc = auc(fpr, tpr)"
      ]
    },
    {
      "cell_type": "code",
      "execution_count": null,
      "metadata": {
        "id": "Cr36q9Z-6aRU",
        "colab": {
          "base_uri": "https://localhost:8080/",
          "height": 472
        },
        "outputId": "b49cb38a-f0fd-4c65-b058-b7f989346c2d"
      },
      "outputs": [
        {
          "output_type": "display_data",
          "data": {
            "text/plain": [
              "<Figure size 640x480 with 1 Axes>"
            ],
            "image/png": "[encoded data removed]"
          },
          "metadata": {}
        }
      ],
      "source": [
        "if model_selection[model_flag]==\"ALL\" or model_selection[model_flag] == \"MLP\":\n",
        "  plt.plot([0, 1], [0, 1], 'k--')\n",
        "  plt.plot(fpr, tpr, label='Keras (area = {:.3f})'.format(auc))\n",
        "  plt.xlabel('False positive rate')\n",
        "  plt.ylabel('True positive rate')\n",
        "  plt.title('ROC curve')\n",
        "  plt.legend(loc='best')\n",
        "  plt.savefig('/content/drive/MyDrive/Colab_Notebooks/Plots/mlp_binary_roc.png')\n",
        "  plt.show()"
      ]
    },
    {
      "cell_type": "code",
      "execution_count": null,
      "metadata": {
        "id": "U9f2bWPwFljk"
      },
      "outputs": [],
      "source": [
        "# real_data_kdd = bin_data.copy()\n",
        "\n",
        "# # Names of the columns that are discrete\n",
        "# cat_cols = real_data_kdd.select_dtypes(['object']).columns\n",
        "# # cat_cols\n",
        "# test_data = real_data_kdd.iloc[:999]\n",
        "\n",
        "# corr= test_data.corr()\n",
        "# corr_y = abs(corr['label'])\n",
        "# highest_corr = corr_y\n",
        "# highest_corr.sort_values(ascending=True)"
      ]
    },
    {
      "cell_type": "code",
      "execution_count": null,
      "metadata": {
        "id": "8-clVdUoUPa-",
        "colab": {
          "base_uri": "https://localhost:8080/"
        },
        "outputId": "20219746-9537-4f4e-c54d-85d888cc7ca8"
      },
      "outputs": [
        {
          "output_type": "stream",
          "name": "stdout",
          "text": [
            "2014/2014 [==============================] - 3s 1ms/step\n"
          ]
        }
      ],
      "source": [
        "if model_selection[model_flag]==\"ALL\" or model_selection[model_flag] == \"MLP\":\n",
        "  y_classes = (mlp.predict(X_test)>0.5).astype('int32')"
      ]
    },
    {
      "cell_type": "code",
      "execution_count": null,
      "metadata": {
        "id": "0jcFqEqFT-uq",
        "colab": {
          "base_uri": "https://localhost:8080/"
        },
        "outputId": "39cf9a4a-6dd5-46da-eba8-b09d72d31565"
      },
      "outputs": [
        {
          "output_type": "stream",
          "name": "stdout",
          "text": [
            "Recall Score -  0.7055080629492908\n",
            "F1 Score -  0.770546809724009\n",
            "Precision Score -  0.8487947406866326\n",
            "False Positive Rate -  [1.         0.22264768]\n",
            "False Negative Rate -  [0.         0.29449194]\n",
            "Thresholds -  [0 1]\n"
          ]
        }
      ],
      "source": [
        "if model_selection[model_flag]==\"ALL\" or model_selection[model_flag] == \"MLP\":\n",
        "  print(\"Recall Score - \",recall_score(y_test,y_classes))\n",
        "  print(\"F1 Score - \",f1_score(y_test,y_classes))\n",
        "  print(\"Precision Score - \",precision_score(y_test,y_classes))\n",
        "  fpr, fnr, thresholds = det_curve(y_test, y_classes)\n",
        "  print(\"False Positive Rate - \", fpr)\n",
        "  print(\"False Negative Rate - \", fnr)\n",
        "  print(\"Thresholds - \", thresholds)"
      ]
    },
    {
      "cell_type": "code",
      "source": [
        "print(classification_report(y_test, y_classes, target_names=['0', '1']))\n",
        "cm = confusion_matrix(y_test, y_classes)\n",
        "disp = ConfusionMatrixDisplay(confusion_matrix=cm,\n",
        "                              display_labels=['0', '1'])\n",
        "disp.plot()\n",
        "\n",
        "plt.show()"
      ],
      "metadata": {
        "id": "3HJB6IXJsxjg",
        "colab": {
          "base_uri": "https://localhost:8080/",
          "height": 610
        },
        "outputId": "b58e91d8-2bcb-46e9-a1c7-66ec1a11dc8a"
      },
      "execution_count": null,
      "outputs": [
        {
          "output_type": "stream",
          "name": "stdout",
          "text": [
            "              precision    recall  f1-score   support\n",
            "\n",
            "           0       0.60      0.78      0.68     23243\n",
            "           1       0.85      0.71      0.77     41176\n",
            "\n",
            "    accuracy                           0.73     64419\n",
            "   macro avg       0.72      0.74      0.72     64419\n",
            "weighted avg       0.76      0.73      0.74     64419\n",
            "\n"
          ]
        },
        {
          "output_type": "display_data",
          "data": {
            "text/plain": [
              "<Figure size 640x480 with 2 Axes>"
            ],
            "image/png": "[encoded data removed]"
          },
          "metadata": {}
        }
      ]
    },
    {
      "cell_type": "markdown",
      "source": [
        "# **Correlation** Matrix of Features"
      ],
      "metadata": {
        "id": "j7BKdCwqs2RE"
      }
    },
    {
      "cell_type": "code",
      "execution_count": null,
      "metadata": {
        "id": "TL8zt-tHLt90",
        "colab": {
          "base_uri": "https://localhost:8080/"
        },
        "outputId": "e3232ed1-4a9b-4638-824c-6522790e3f61"
      },
      "outputs": [
        {
          "output_type": "execute_result",
          "data": {
            "text/plain": [
              "state_FIN           0.309305\n",
              "ct_src_dport_ltm    0.318518\n",
              "rate                0.335883\n",
              "dwin                0.339166\n",
              "state_CON           0.345195\n",
              "dload               0.352169\n",
              "swin                0.364877\n",
              "proto_tcp           0.364981\n",
              "ct_dst_sport_ltm    0.371672\n",
              "ct_state_ttl        0.476559\n",
              "state_INT           0.516735\n",
              "sttl                0.624082\n",
              "label               1.000000\n",
              "Name: label, dtype: float64"
            ]
          },
          "metadata": {},
          "execution_count": 129
        }
      ],
      "source": [
        "corr= bin_data.corr()\n",
        "corr_y = abs(corr['label'])\n",
        "highest_corr = corr_y[corr_y >0.3]\n",
        "highest_corr.sort_values(ascending=True)"
      ]
    },
    {
      "cell_type": "code",
      "source": [
        "plt.matshow(corr)\n",
        "plt.show()"
      ],
      "metadata": {
        "colab": {
          "base_uri": "https://localhost:8080/",
          "height": 437
        },
        "id": "q4b094WVtQQ7",
        "outputId": "e30fe7cc-7804-474b-c753-a97da114f63c"
      },
      "execution_count": null,
      "outputs": [
        {
          "output_type": "display_data",
          "data": {
            "text/plain": [
              "<Figure size 480x480 with 1 Axes>"
            ],
            "image/png": "[encoded data removed]"
          },
          "metadata": {}
        }
      ]
    },
    {
      "cell_type": "markdown",
      "metadata": {
        "id": "ZHhtNjFLPj6Y"
      },
      "source": [
        "## **LSTM Classifier**"
      ]
    },
    {
      "cell_type": "code",
      "execution_count": null,
      "metadata": {
        "id": "DTNPkQMNL5Eh",
        "colab": {
          "base_uri": "https://localhost:8080/"
        },
        "outputId": "71b5289e-e1ee-45cb-8d1b-ef0b02563328"
      },
      "outputs": [
        {
          "output_type": "execute_result",
          "data": {
            "text/plain": [
              "(193254, 57)"
            ]
          },
          "metadata": {},
          "execution_count": 131
        }
      ],
      "source": [
        "X_train = np.array(X_train)\n",
        "X_test = np.array(X_test)\n",
        "# y_train.shape   #(18896,)\n",
        "X_train.shape"
      ]
    },
    {
      "cell_type": "code",
      "execution_count": null,
      "metadata": {
        "id": "9n-QlBDXPMl4",
        "colab": {
          "base_uri": "https://localhost:8080/"
        },
        "outputId": "2ac49917-7301-4d0d-812a-5f892177573c"
      },
      "outputs": [
        {
          "output_type": "execute_result",
          "data": {
            "text/plain": [
              "numpy.ndarray"
            ]
          },
          "metadata": {},
          "execution_count": 132
        }
      ],
      "source": [
        "y_train = np.array(y_train)\n",
        "type(y_train)"
      ]
    },
    {
      "cell_type": "code",
      "execution_count": null,
      "metadata": {
        "id": "-8Ro_ZRQPdZz",
        "colab": {
          "base_uri": "https://localhost:8080/"
        },
        "outputId": "f2f1d132-8b55-406a-a7e3-ca38c7b4ddcc"
      },
      "outputs": [
        {
          "output_type": "execute_result",
          "data": {
            "text/plain": [
              "(193254, 1, 57)"
            ]
          },
          "metadata": {},
          "execution_count": 133
        }
      ],
      "source": [
        "x_train = np.reshape(X_train, (X_train.shape[0],1,X_train.shape[1]))\n",
        "x_train.shape"
      ]
    },
    {
      "cell_type": "code",
      "source": [
        "x_train.shape[2]"
      ],
      "metadata": {
        "colab": {
          "base_uri": "https://localhost:8080/"
        },
        "id": "EuvuETcGpkje",
        "outputId": "caf59f80-1b6c-43f4-cda0-c813f8da06ed"
      },
      "execution_count": null,
      "outputs": [
        {
          "output_type": "execute_result",
          "data": {
            "text/plain": [
              "57"
            ]
          },
          "metadata": {},
          "execution_count": 134
        }
      ]
    },
    {
      "cell_type": "code",
      "execution_count": null,
      "metadata": {
        "id": "pLIl946zQQwG",
        "colab": {
          "base_uri": "https://localhost:8080/"
        },
        "outputId": "6ebd5277-32db-4364-c030-6bda62fbc4aa"
      },
      "outputs": [
        {
          "output_type": "execute_result",
          "data": {
            "text/plain": [
              "(64419, 1, 57)"
            ]
          },
          "metadata": {},
          "execution_count": 135
        }
      ],
      "source": [
        "x_test = np.reshape(X_test, (X_test.shape[0],1,X_test.shape[1]))\n",
        "x_test.shape"
      ]
    },
    {
      "cell_type": "code",
      "execution_count": null,
      "metadata": {
        "id": "jWsrkPEmQcY7"
      },
      "outputs": [],
      "source": [
        "if model_selection[model_flag]==\"ALL\" or model_selection[model_flag] == \"LSTM\":\n",
        "  lst = Sequential()\n",
        "  # input layer and LSTM layer with 50 neurons\n",
        "  input_features = x_train.shape[2]\n",
        "  lst.add(LSTM(50,input_dim=input_features))\n",
        "\n",
        "  # outpute layer with sigmoid activation\n",
        "  lst.add(Dense(1,activation='sigmoid'))"
      ]
    },
    {
      "cell_type": "code",
      "execution_count": null,
      "metadata": {
        "id": "UEmba1H9Q_qj"
      },
      "outputs": [],
      "source": [
        "if model_selection[model_flag]==\"ALL\" or model_selection[model_flag] == \"LSTM\":\n",
        "  # defining loss function, optimizer, metrics and then compiling model\n",
        "  lst.compile(loss='binary_crossentropy',optimizer='adam',metrics=['accuracy'])"
      ]
    },
    {
      "cell_type": "code",
      "execution_count": null,
      "metadata": {
        "id": "anR58jV2RCtz",
        "colab": {
          "base_uri": "https://localhost:8080/"
        },
        "outputId": "c8ec4d56-c028-4b47-d275-e19701365a5e"
      },
      "outputs": [
        {
          "output_type": "stream",
          "name": "stdout",
          "text": [
            "Model: \"sequential_3\"\n",
            "_________________________________________________________________\n",
            " Layer (type)                Output Shape              Param #   \n",
            "=================================================================\n",
            " lstm_1 (LSTM)               (None, 50)                21600     \n",
            "                                                                 \n",
            " dense_9 (Dense)             (None, 1)                 51        \n",
            "                                                                 \n",
            "=================================================================\n",
            "Total params: 21,651\n",
            "Trainable params: 21,651\n",
            "Non-trainable params: 0\n",
            "_________________________________________________________________\n"
          ]
        }
      ],
      "source": [
        "if model_selection[model_flag]==\"ALL\" or model_selection[model_flag] == \"LSTM\":\n",
        "  # summary of model layers\n",
        "  lst.summary()"
      ]
    },
    {
      "cell_type": "code",
      "execution_count": null,
      "metadata": {
        "id": "_Pa4Qi12RJS_",
        "colab": {
          "base_uri": "https://localhost:8080/"
        },
        "outputId": "12d20b04-9502-4c63-c2ff-2c6a45c26bc5"
      },
      "outputs": [
        {
          "output_type": "stream",
          "name": "stdout",
          "text": [
            "Epoch 1/100\n",
            "31/31 [==============================] - 3s 20ms/step - loss: 0.6404 - accuracy: 0.6635 - val_loss: 0.5689 - val_accuracy: 0.7767\n",
            "Epoch 2/100\n",
            "31/31 [==============================] - 0s 6ms/step - loss: 0.5099 - accuracy: 0.8069 - val_loss: 0.4511 - val_accuracy: 0.8320\n",
            "Epoch 3/100\n",
            "31/31 [==============================] - 0s 6ms/step - loss: 0.4021 - accuracy: 0.8554 - val_loss: 0.3513 - val_accuracy: 0.8895\n",
            "Epoch 4/100\n",
            "31/31 [==============================] - 0s 8ms/step - loss: 0.3083 - accuracy: 0.9365 - val_loss: 0.2638 - val_accuracy: 0.9476\n",
            "Epoch 5/100\n",
            "31/31 [==============================] - 0s 6ms/step - loss: 0.2290 - accuracy: 0.9488 - val_loss: 0.1938 - val_accuracy: 0.9499\n",
            "Epoch 6/100\n",
            "31/31 [==============================] - 0s 6ms/step - loss: 0.1677 - accuracy: 0.9581 - val_loss: 0.1414 - val_accuracy: 0.9678\n",
            "Epoch 7/100\n",
            "31/31 [==============================] - 0s 7ms/step - loss: 0.1227 - accuracy: 0.9772 - val_loss: 0.1041 - val_accuracy: 0.9839\n",
            "Epoch 8/100\n",
            "31/31 [==============================] - 0s 7ms/step - loss: 0.0909 - accuracy: 0.9917 - val_loss: 0.0777 - val_accuracy: 0.9958\n",
            "Epoch 9/100\n",
            "31/31 [==============================] - 0s 6ms/step - loss: 0.0687 - accuracy: 0.9961 - val_loss: 0.0594 - val_accuracy: 0.9976\n",
            "Epoch 10/100\n",
            "31/31 [==============================] - 0s 8ms/step - loss: 0.0530 - accuracy: 0.9977 - val_loss: 0.0463 - val_accuracy: 0.9979\n",
            "Epoch 11/100\n",
            "31/31 [==============================] - 0s 7ms/step - loss: 0.0417 - accuracy: 0.9979 - val_loss: 0.0368 - val_accuracy: 0.9981\n",
            "Epoch 12/100\n",
            "31/31 [==============================] - 0s 7ms/step - loss: 0.0335 - accuracy: 0.9982 - val_loss: 0.0299 - val_accuracy: 0.9982\n",
            "Epoch 13/100\n",
            "31/31 [==============================] - 0s 6ms/step - loss: 0.0273 - accuracy: 0.9984 - val_loss: 0.0246 - val_accuracy: 0.9986\n",
            "Epoch 14/100\n",
            "31/31 [==============================] - 0s 8ms/step - loss: 0.0226 - accuracy: 0.9986 - val_loss: 0.0205 - val_accuracy: 0.9987\n",
            "Epoch 15/100\n",
            "31/31 [==============================] - 0s 8ms/step - loss: 0.0190 - accuracy: 0.9988 - val_loss: 0.0174 - val_accuracy: 0.9989\n",
            "Epoch 16/100\n",
            "31/31 [==============================] - 0s 6ms/step - loss: 0.0161 - accuracy: 0.9989 - val_loss: 0.0149 - val_accuracy: 0.9990\n",
            "Epoch 17/100\n",
            "31/31 [==============================] - 0s 8ms/step - loss: 0.0138 - accuracy: 0.9990 - val_loss: 0.0128 - val_accuracy: 0.9991\n",
            "Epoch 18/100\n",
            "31/31 [==============================] - 0s 6ms/step - loss: 0.0120 - accuracy: 0.9993 - val_loss: 0.0112 - val_accuracy: 0.9996\n",
            "Epoch 19/100\n",
            "31/31 [==============================] - 0s 6ms/step - loss: 0.0105 - accuracy: 0.9997 - val_loss: 0.0098 - val_accuracy: 0.9997\n",
            "Epoch 20/100\n",
            "31/31 [==============================] - 0s 7ms/step - loss: 0.0092 - accuracy: 0.9998 - val_loss: 0.0087 - val_accuracy: 0.9997\n",
            "Epoch 21/100\n",
            "31/31 [==============================] - 0s 7ms/step - loss: 0.0082 - accuracy: 0.9998 - val_loss: 0.0078 - val_accuracy: 0.9997\n",
            "Epoch 22/100\n",
            "31/31 [==============================] - 0s 6ms/step - loss: 0.0073 - accuracy: 0.9998 - val_loss: 0.0069 - val_accuracy: 0.9997\n",
            "Epoch 23/100\n",
            "31/31 [==============================] - 0s 6ms/step - loss: 0.0065 - accuracy: 0.9998 - val_loss: 0.0063 - val_accuracy: 0.9997\n",
            "Epoch 24/100\n",
            "31/31 [==============================] - 0s 8ms/step - loss: 0.0059 - accuracy: 0.9998 - val_loss: 0.0057 - val_accuracy: 0.9997\n",
            "Epoch 25/100\n",
            "31/31 [==============================] - 0s 6ms/step - loss: 0.0053 - accuracy: 0.9998 - val_loss: 0.0052 - val_accuracy: 0.9997\n",
            "Epoch 26/100\n",
            "31/31 [==============================] - 0s 8ms/step - loss: 0.0048 - accuracy: 0.9998 - val_loss: 0.0047 - val_accuracy: 0.9997\n",
            "Epoch 27/100\n",
            "31/31 [==============================] - 0s 6ms/step - loss: 0.0044 - accuracy: 0.9998 - val_loss: 0.0043 - val_accuracy: 0.9997\n",
            "Epoch 28/100\n",
            "31/31 [==============================] - 0s 10ms/step - loss: 0.0040 - accuracy: 0.9998 - val_loss: 0.0040 - val_accuracy: 0.9997\n",
            "Epoch 29/100\n",
            "31/31 [==============================] - 0s 10ms/step - loss: 0.0037 - accuracy: 0.9998 - val_loss: 0.0036 - val_accuracy: 0.9997\n",
            "Epoch 30/100\n",
            "31/31 [==============================] - 0s 9ms/step - loss: 0.0034 - accuracy: 0.9998 - val_loss: 0.0034 - val_accuracy: 0.9997\n",
            "Epoch 31/100\n",
            "31/31 [==============================] - 0s 10ms/step - loss: 0.0032 - accuracy: 0.9998 - val_loss: 0.0031 - val_accuracy: 0.9998\n",
            "Epoch 32/100\n",
            "31/31 [==============================] - 0s 9ms/step - loss: 0.0029 - accuracy: 0.9998 - val_loss: 0.0029 - val_accuracy: 0.9998\n",
            "Epoch 33/100\n",
            "31/31 [==============================] - 0s 10ms/step - loss: 0.0027 - accuracy: 0.9998 - val_loss: 0.0027 - val_accuracy: 0.9998\n",
            "Epoch 34/100\n",
            "31/31 [==============================] - 0s 10ms/step - loss: 0.0025 - accuracy: 0.9998 - val_loss: 0.0025 - val_accuracy: 0.9998\n",
            "Epoch 35/100\n",
            "31/31 [==============================] - 0s 9ms/step - loss: 0.0024 - accuracy: 0.9998 - val_loss: 0.0023 - val_accuracy: 0.9998\n",
            "Epoch 36/100\n",
            "31/31 [==============================] - 0s 10ms/step - loss: 0.0022 - accuracy: 0.9998 - val_loss: 0.0022 - val_accuracy: 0.9998\n",
            "Epoch 37/100\n",
            "31/31 [==============================] - 0s 10ms/step - loss: 0.0021 - accuracy: 0.9998 - val_loss: 0.0020 - val_accuracy: 0.9998\n",
            "Epoch 38/100\n",
            "31/31 [==============================] - 0s 10ms/step - loss: 0.0019 - accuracy: 0.9998 - val_loss: 0.0019 - val_accuracy: 0.9998\n",
            "Epoch 39/100\n",
            "31/31 [==============================] - 0s 8ms/step - loss: 0.0018 - accuracy: 0.9999 - val_loss: 0.0018 - val_accuracy: 0.9999\n",
            "Epoch 40/100\n",
            "31/31 [==============================] - 0s 6ms/step - loss: 0.0017 - accuracy: 0.9999 - val_loss: 0.0017 - val_accuracy: 0.9999\n",
            "Epoch 41/100\n",
            "31/31 [==============================] - 0s 7ms/step - loss: 0.0016 - accuracy: 1.0000 - val_loss: 0.0016 - val_accuracy: 1.0000\n",
            "Epoch 42/100\n",
            "31/31 [==============================] - 0s 6ms/step - loss: 0.0015 - accuracy: 1.0000 - val_loss: 0.0015 - val_accuracy: 1.0000\n",
            "Epoch 43/100\n",
            "31/31 [==============================] - 0s 8ms/step - loss: 0.0014 - accuracy: 1.0000 - val_loss: 0.0014 - val_accuracy: 1.0000\n",
            "Epoch 44/100\n",
            "31/31 [==============================] - 0s 6ms/step - loss: 0.0013 - accuracy: 1.0000 - val_loss: 0.0013 - val_accuracy: 1.0000\n",
            "Epoch 45/100\n",
            "31/31 [==============================] - 0s 6ms/step - loss: 0.0013 - accuracy: 1.0000 - val_loss: 0.0013 - val_accuracy: 1.0000\n",
            "Epoch 46/100\n",
            "31/31 [==============================] - 0s 7ms/step - loss: 0.0012 - accuracy: 1.0000 - val_loss: 0.0012 - val_accuracy: 1.0000\n",
            "Epoch 47/100\n",
            "31/31 [==============================] - 0s 8ms/step - loss: 0.0011 - accuracy: 1.0000 - val_loss: 0.0011 - val_accuracy: 1.0000\n",
            "Epoch 48/100\n",
            "31/31 [==============================] - 0s 8ms/step - loss: 0.0011 - accuracy: 1.0000 - val_loss: 0.0011 - val_accuracy: 1.0000\n",
            "Epoch 49/100\n",
            "31/31 [==============================] - 0s 6ms/step - loss: 0.0010 - accuracy: 1.0000 - val_loss: 0.0010 - val_accuracy: 1.0000\n",
            "Epoch 50/100\n",
            "31/31 [==============================] - 0s 8ms/step - loss: 9.7921e-04 - accuracy: 1.0000 - val_loss: 9.8848e-04 - val_accuracy: 1.0000\n",
            "Epoch 51/100\n",
            "31/31 [==============================] - 0s 6ms/step - loss: 9.3321e-04 - accuracy: 1.0000 - val_loss: 9.4311e-04 - val_accuracy: 1.0000\n",
            "Epoch 52/100\n",
            "31/31 [==============================] - 0s 6ms/step - loss: 8.9003e-04 - accuracy: 1.0000 - val_loss: 9.0022e-04 - val_accuracy: 1.0000\n",
            "Epoch 53/100\n",
            "31/31 [==============================] - 0s 6ms/step - loss: 8.4972e-04 - accuracy: 1.0000 - val_loss: 8.6045e-04 - val_accuracy: 1.0000\n",
            "Epoch 54/100\n",
            "31/31 [==============================] - 0s 6ms/step - loss: 8.1179e-04 - accuracy: 1.0000 - val_loss: 8.2366e-04 - val_accuracy: 1.0000\n",
            "Epoch 55/100\n",
            "31/31 [==============================] - 0s 8ms/step - loss: 7.7647e-04 - accuracy: 1.0000 - val_loss: 7.8829e-04 - val_accuracy: 1.0000\n",
            "Epoch 56/100\n",
            "31/31 [==============================] - 0s 6ms/step - loss: 7.4323e-04 - accuracy: 1.0000 - val_loss: 7.5475e-04 - val_accuracy: 1.0000\n",
            "Epoch 57/100\n",
            "31/31 [==============================] - 0s 8ms/step - loss: 7.1176e-04 - accuracy: 1.0000 - val_loss: 7.2387e-04 - val_accuracy: 1.0000\n",
            "Epoch 58/100\n",
            "31/31 [==============================] - 0s 6ms/step - loss: 6.8226e-04 - accuracy: 1.0000 - val_loss: 6.9483e-04 - val_accuracy: 1.0000\n",
            "Epoch 59/100\n",
            "31/31 [==============================] - 0s 8ms/step - loss: 6.5437e-04 - accuracy: 1.0000 - val_loss: 6.6749e-04 - val_accuracy: 1.0000\n",
            "Epoch 60/100\n",
            "31/31 [==============================] - 0s 6ms/step - loss: 6.2816e-04 - accuracy: 1.0000 - val_loss: 6.4120e-04 - val_accuracy: 1.0000\n",
            "Epoch 61/100\n",
            "31/31 [==============================] - 0s 7ms/step - loss: 6.0339e-04 - accuracy: 1.0000 - val_loss: 6.1674e-04 - val_accuracy: 1.0000\n",
            "Epoch 62/100\n",
            "31/31 [==============================] - 0s 7ms/step - loss: 5.7985e-04 - accuracy: 1.0000 - val_loss: 5.9324e-04 - val_accuracy: 1.0000\n",
            "Epoch 63/100\n",
            "31/31 [==============================] - 0s 6ms/step - loss: 5.5767e-04 - accuracy: 1.0000 - val_loss: 5.7103e-04 - val_accuracy: 1.0000\n",
            "Epoch 64/100\n",
            "31/31 [==============================] - 0s 7ms/step - loss: 5.3660e-04 - accuracy: 1.0000 - val_loss: 5.5022e-04 - val_accuracy: 1.0000\n",
            "Epoch 65/100\n",
            "31/31 [==============================] - 0s 6ms/step - loss: 5.1662e-04 - accuracy: 1.0000 - val_loss: 5.3040e-04 - val_accuracy: 1.0000\n",
            "Epoch 66/100\n",
            "31/31 [==============================] - 0s 8ms/step - loss: 4.9763e-04 - accuracy: 1.0000 - val_loss: 5.1123e-04 - val_accuracy: 1.0000\n",
            "Epoch 67/100\n",
            "31/31 [==============================] - 0s 6ms/step - loss: 4.7959e-04 - accuracy: 1.0000 - val_loss: 4.9344e-04 - val_accuracy: 1.0000\n",
            "Epoch 68/100\n",
            "31/31 [==============================] - 0s 6ms/step - loss: 4.6246e-04 - accuracy: 1.0000 - val_loss: 4.7628e-04 - val_accuracy: 1.0000\n",
            "Epoch 69/100\n",
            "31/31 [==============================] - 0s 7ms/step - loss: 4.4615e-04 - accuracy: 1.0000 - val_loss: 4.5980e-04 - val_accuracy: 1.0000\n",
            "Epoch 70/100\n",
            "31/31 [==============================] - 0s 6ms/step - loss: 4.3062e-04 - accuracy: 1.0000 - val_loss: 4.4407e-04 - val_accuracy: 1.0000\n",
            "Epoch 71/100\n",
            "31/31 [==============================] - 0s 7ms/step - loss: 4.1574e-04 - accuracy: 1.0000 - val_loss: 4.2955e-04 - val_accuracy: 1.0000\n",
            "Epoch 72/100\n",
            "31/31 [==============================] - 0s 6ms/step - loss: 4.0163e-04 - accuracy: 1.0000 - val_loss: 4.1515e-04 - val_accuracy: 1.0000\n",
            "Epoch 73/100\n",
            "31/31 [==============================] - 0s 6ms/step - loss: 3.8814e-04 - accuracy: 1.0000 - val_loss: 4.0178e-04 - val_accuracy: 1.0000\n",
            "Epoch 74/100\n",
            "31/31 [==============================] - 0s 7ms/step - loss: 3.7524e-04 - accuracy: 1.0000 - val_loss: 3.8890e-04 - val_accuracy: 1.0000\n",
            "Epoch 75/100\n",
            "31/31 [==============================] - 0s 6ms/step - loss: 3.6291e-04 - accuracy: 1.0000 - val_loss: 3.7646e-04 - val_accuracy: 1.0000\n",
            "Epoch 76/100\n",
            "31/31 [==============================] - 0s 6ms/step - loss: 3.5115e-04 - accuracy: 1.0000 - val_loss: 3.6452e-04 - val_accuracy: 1.0000\n",
            "Epoch 77/100\n",
            "31/31 [==============================] - 0s 6ms/step - loss: 3.3986e-04 - accuracy: 1.0000 - val_loss: 3.5329e-04 - val_accuracy: 1.0000\n",
            "Epoch 78/100\n",
            "31/31 [==============================] - 0s 6ms/step - loss: 3.2908e-04 - accuracy: 1.0000 - val_loss: 3.4231e-04 - val_accuracy: 1.0000\n",
            "Epoch 79/100\n",
            "31/31 [==============================] - 0s 7ms/step - loss: 3.1870e-04 - accuracy: 1.0000 - val_loss: 3.3194e-04 - val_accuracy: 1.0000\n",
            "Epoch 80/100\n",
            "31/31 [==============================] - 0s 6ms/step - loss: 3.0878e-04 - accuracy: 1.0000 - val_loss: 3.2184e-04 - val_accuracy: 1.0000\n",
            "Epoch 81/100\n",
            "31/31 [==============================] - 0s 6ms/step - loss: 2.9926e-04 - accuracy: 1.0000 - val_loss: 3.1232e-04 - val_accuracy: 1.0000\n",
            "Epoch 82/100\n",
            "31/31 [==============================] - 0s 6ms/step - loss: 2.9014e-04 - accuracy: 1.0000 - val_loss: 3.0314e-04 - val_accuracy: 1.0000\n",
            "Epoch 83/100\n",
            "31/31 [==============================] - 0s 6ms/step - loss: 2.8137e-04 - accuracy: 1.0000 - val_loss: 2.9416e-04 - val_accuracy: 1.0000\n",
            "Epoch 84/100\n",
            "31/31 [==============================] - 0s 7ms/step - loss: 2.7294e-04 - accuracy: 1.0000 - val_loss: 2.8563e-04 - val_accuracy: 1.0000\n",
            "Epoch 85/100\n",
            "31/31 [==============================] - 0s 6ms/step - loss: 2.6487e-04 - accuracy: 1.0000 - val_loss: 2.7753e-04 - val_accuracy: 1.0000\n",
            "Epoch 86/100\n",
            "31/31 [==============================] - 0s 9ms/step - loss: 2.5706e-04 - accuracy: 1.0000 - val_loss: 2.6946e-04 - val_accuracy: 1.0000\n",
            "Epoch 87/100\n",
            "31/31 [==============================] - 0s 9ms/step - loss: 2.4956e-04 - accuracy: 1.0000 - val_loss: 2.6194e-04 - val_accuracy: 1.0000\n",
            "Epoch 88/100\n",
            "31/31 [==============================] - 0s 10ms/step - loss: 2.4236e-04 - accuracy: 1.0000 - val_loss: 2.5459e-04 - val_accuracy: 1.0000\n",
            "Epoch 89/100\n",
            "31/31 [==============================] - 0s 11ms/step - loss: 2.3543e-04 - accuracy: 1.0000 - val_loss: 2.4763e-04 - val_accuracy: 1.0000\n",
            "Epoch 90/100\n",
            "31/31 [==============================] - 0s 9ms/step - loss: 2.2873e-04 - accuracy: 1.0000 - val_loss: 2.4084e-04 - val_accuracy: 1.0000\n",
            "Epoch 91/100\n",
            "31/31 [==============================] - 0s 10ms/step - loss: 2.2231e-04 - accuracy: 1.0000 - val_loss: 2.3414e-04 - val_accuracy: 1.0000\n",
            "Epoch 92/100\n",
            "31/31 [==============================] - 0s 9ms/step - loss: 2.1608e-04 - accuracy: 1.0000 - val_loss: 2.2792e-04 - val_accuracy: 1.0000\n",
            "Epoch 93/100\n",
            "31/31 [==============================] - 0s 9ms/step - loss: 2.1011e-04 - accuracy: 1.0000 - val_loss: 2.2182e-04 - val_accuracy: 1.0000\n",
            "Epoch 94/100\n",
            "31/31 [==============================] - 0s 9ms/step - loss: 2.0431e-04 - accuracy: 1.0000 - val_loss: 2.1589e-04 - val_accuracy: 1.0000\n",
            "Epoch 95/100\n",
            "31/31 [==============================] - 0s 10ms/step - loss: 1.9875e-04 - accuracy: 1.0000 - val_loss: 2.1012e-04 - val_accuracy: 1.0000\n",
            "Epoch 96/100\n",
            "31/31 [==============================] - 0s 10ms/step - loss: 1.9336e-04 - accuracy: 1.0000 - val_loss: 2.0469e-04 - val_accuracy: 1.0000\n",
            "Epoch 97/100\n",
            "31/31 [==============================] - 0s 10ms/step - loss: 1.8816e-04 - accuracy: 1.0000 - val_loss: 1.9923e-04 - val_accuracy: 1.0000\n",
            "Epoch 98/100\n",
            "31/31 [==============================] - 0s 7ms/step - loss: 1.8316e-04 - accuracy: 1.0000 - val_loss: 1.9429e-04 - val_accuracy: 1.0000\n",
            "Epoch 99/100\n",
            "31/31 [==============================] - 0s 6ms/step - loss: 1.7829e-04 - accuracy: 1.0000 - val_loss: 1.8924e-04 - val_accuracy: 1.0000\n",
            "Epoch 100/100\n",
            "31/31 [==============================] - 0s 6ms/step - loss: 1.7361e-04 - accuracy: 1.0000 - val_loss: 1.8439e-04 - val_accuracy: 1.0000\n"
          ]
        }
      ],
      "source": [
        "if model_selection[model_flag]==\"ALL\" or model_selection[model_flag] == \"LSTM\":\n",
        "  # training the model on training dataset\n",
        "  history = lst.fit(x_train, y_train, epochs=100, batch_size=5000,validation_split=0.2)"
      ]
    },
    {
      "cell_type": "code",
      "execution_count": null,
      "metadata": {
        "id": "BCQtvJcXRcNr"
      },
      "outputs": [],
      "source": [
        "if model_selection[model_flag]==\"ALL\" or model_selection[model_flag] == \"LSTM\":\n",
        "  filepath = '/content/drive/MyDrive/Colab_Notebooks/Models/lst_binary_unsw_nb15.json'\n",
        "  weightspath = '/content/drive/MyDrive/Colab_Notebooks/Weights/lst_binary_unsw_nb15.h5'\n",
        "  if (not path.isfile(filepath)):\n",
        "    # serialize model to JSON\n",
        "    lst_json = lst.to_json()\n",
        "    with open(filepath, \"w\") as json_file:\n",
        "      json_file.write(lst_json)\n",
        "\n",
        "    # serialize weights to HDF5\n",
        "    lst.save_weights(weightspath)\n",
        "    print(\"Saved model to disk\")\n",
        "\n",
        "    # load json and create model\n",
        "    json_file = open(filepath, 'r')\n",
        "    loaded_model_json = json_file.read()\n",
        "    json_file.close()\n",
        "    lst = model_from_json(loaded_model_json)\n",
        "\n",
        "    # load weights into new model\n",
        "    lst.load_weights(weightspath)\n",
        "    print(\"Loaded model from disk\")"
      ]
    },
    {
      "cell_type": "code",
      "execution_count": null,
      "metadata": {
        "id": "rPaW37T-R0dG",
        "colab": {
          "base_uri": "https://localhost:8080/"
        },
        "outputId": "5f1a4520-2baf-4e25-9947-4bdbea94bd45"
      },
      "outputs": [
        {
          "output_type": "stream",
          "name": "stdout",
          "text": [
            "Loaded model from disk\n"
          ]
        }
      ],
      "source": [
        "if model_selection[model_flag]==\"ALL\" or model_selection[model_flag] == \"LSTM\":\n",
        "  # load json and create model\n",
        "  json_file = open(filepath, 'r')\n",
        "  loaded_model_json = json_file.read()\n",
        "  json_file.close()\n",
        "  lst = model_from_json(loaded_model_json)\n",
        "\n",
        "  # load weights into new model\n",
        "  lst.load_weights(weightspath)\n",
        "  print(\"Loaded model from disk\")"
      ]
    },
    {
      "cell_type": "code",
      "execution_count": null,
      "metadata": {
        "id": "ukGDdSggR3na"
      },
      "outputs": [],
      "source": [
        "if model_selection[model_flag]==\"ALL\" or model_selection[model_flag] == \"LSTM\":\n",
        "  # defining loss function, optimizer, metrics and then compiling model\n",
        "  lst.compile(loss='binary_crossentropy',optimizer='adam',metrics=['accuracy'])"
      ]
    },
    {
      "cell_type": "code",
      "execution_count": null,
      "metadata": {
        "id": "nvjY0u97R68f",
        "colab": {
          "base_uri": "https://localhost:8080/"
        },
        "outputId": "0563d190-ab72-4d2e-f10f-ccc88cdc82d3"
      },
      "outputs": [
        {
          "output_type": "stream",
          "name": "stdout",
          "text": [
            "2014/2014 [==============================] - 6s 3ms/step - loss: 1.8274 - accuracy: 0.3815\n",
            "Test results - Loss: 1.8274213075637817 - Accuracy: 38.145577907562256%\n"
          ]
        }
      ],
      "source": [
        "if model_selection[model_flag]==\"ALL\" or model_selection[model_flag] == \"LSTM\":\n",
        "  # predicting target attribute on testing dataset\n",
        "  test_results = lst.evaluate(x_test, y_test, verbose=1)\n",
        "  print(f'Test results - Loss: {test_results[0]} - Accuracy: {test_results[1]*100}%')"
      ]
    },
    {
      "cell_type": "code",
      "execution_count": null,
      "metadata": {
        "id": "f8yKMcIHR_jP",
        "colab": {
          "base_uri": "https://localhost:8080/",
          "height": 472
        },
        "outputId": "135bade3-9948-4364-9fa4-566a55067a80"
      },
      "outputs": [
        {
          "output_type": "display_data",
          "data": {
            "text/plain": [
              "<Figure size 640x480 with 1 Axes>"
            ],
            "image/png": "[encoded data removed]"
          },
          "metadata": {}
        }
      ],
      "source": [
        "if model_selection[model_flag]==\"ALL\" or model_selection[model_flag] == \"LSTM\":\n",
        "  # Plot of accuracy vs epoch of train and test dataset\n",
        "  plt.plot(history.history['accuracy'])\n",
        "  plt.plot(history.history['val_accuracy'])\n",
        "  plt.title(\"Plot of accuracy vs epoch for train and test dataset\")\n",
        "  plt.ylabel('accuracy')\n",
        "  plt.xlabel('epoch')\n",
        "  plt.legend(['train', 'test'], loc='best')\n",
        "  plt.savefig('/content/drive/MyDrive/Colab_Notebooks/Plots/lstm_binary_accuracy.png')\n",
        "  plt.show()"
      ]
    },
    {
      "cell_type": "code",
      "execution_count": null,
      "metadata": {
        "id": "M5g1Rw_SSb5n",
        "colab": {
          "base_uri": "https://localhost:8080/",
          "height": 472
        },
        "outputId": "a3c68102-c010-46a7-d277-d9b95cbdd913"
      },
      "outputs": [
        {
          "output_type": "display_data",
          "data": {
            "text/plain": [
              "<Figure size 640x480 with 1 Axes>"
            ],
            "image/png": "[encoded data removed]"
          },
          "metadata": {}
        }
      ],
      "source": [
        "if model_selection[model_flag]==\"ALL\" or model_selection[model_flag] == \"LSTM\":\n",
        "  # Plot of loss vs epoch of train and test dataset\n",
        "  plt.plot(history.history['loss'])\n",
        "  plt.plot(history.history['val_loss'])\n",
        "  plt.title(\"Plot of loss vs epoch for train and test dataset\")\n",
        "  plt.ylabel('loss')\n",
        "  plt.xlabel('epoch')\n",
        "  plt.legend(['train', 'test'], loc='best')\n",
        "  plt.savefig('/content/drive/MyDrive/Colab_Notebooks/Plots/lstm_binary_loss.png')\n",
        "  plt.show()"
      ]
    },
    {
      "cell_type": "code",
      "execution_count": null,
      "metadata": {
        "id": "osZa2OV9Se-T"
      },
      "outputs": [],
      "source": [
        "if model_selection[model_flag]==\"ALL\" or model_selection[model_flag] == \"LSTM\":\n",
        "  # representation of model layers\n",
        "  plot_model(lst, to_file='/content/drive/MyDrive/Colab_Notebooks/Plots/lstm_binary.png', show_shapes=True,)"
      ]
    },
    {
      "cell_type": "code",
      "execution_count": null,
      "metadata": {
        "id": "lw4OLD4HSpaY",
        "colab": {
          "base_uri": "https://localhost:8080/"
        },
        "outputId": "d701d353-7804-470d-b6a0-291ffd268fb6"
      },
      "outputs": [
        {
          "output_type": "execute_result",
          "data": {
            "text/plain": [
              "(64419,)"
            ]
          },
          "metadata": {},
          "execution_count": 147
        }
      ],
      "source": [
        "y_test = np.array(y_test)\n",
        "y_test.shape"
      ]
    },
    {
      "cell_type": "code",
      "execution_count": null,
      "metadata": {
        "id": "4BvYVrKsTGr3",
        "colab": {
          "base_uri": "https://localhost:8080/"
        },
        "outputId": "b9f16c5c-df11-45b2-e63c-0bee9508efcd"
      },
      "outputs": [
        {
          "output_type": "execute_result",
          "data": {
            "text/plain": [
              "numpy.ndarray"
            ]
          },
          "metadata": {},
          "execution_count": 148
        }
      ],
      "source": [
        "type(y_test)"
      ]
    },
    {
      "cell_type": "code",
      "execution_count": null,
      "metadata": {
        "id": "KBvCGl6BS0FM",
        "colab": {
          "base_uri": "https://localhost:8080/"
        },
        "outputId": "76fc945a-da80-4255-df75-e5fe7ada777f"
      },
      "outputs": [
        {
          "output_type": "stream",
          "name": "stdout",
          "text": [
            "2014/2014 [==============================] - 5s 2ms/step\n"
          ]
        }
      ],
      "source": [
        "if model_selection[model_flag]==\"ALL\" or model_selection[model_flag] == \"LSTM\":\n",
        "  y_classes = (lst.predict(x_test)>0.5).astype('int32')"
      ]
    },
    {
      "cell_type": "code",
      "execution_count": null,
      "metadata": {
        "id": "x_yVqBlLTtLW",
        "colab": {
          "base_uri": "https://localhost:8080/"
        },
        "outputId": "89c1e4b8-f723-4bf6-f195-574ab999b4c3"
      },
      "outputs": [
        {
          "output_type": "stream",
          "name": "stdout",
          "text": [
            "Recall Score -  0.14960170973382553\n",
            "F1 Score -  0.23616915232143543\n",
            "Precision Score -  0.5605095541401274\n",
            "False Positive Rate -  [1.        0.2078045]\n",
            "False Negative Rate -  [0.         0.85039829]\n",
            "Thresholds -  [0 1]\n"
          ]
        }
      ],
      "source": [
        "if model_selection[model_flag]==\"ALL\" or model_selection[model_flag] == \"LSTM\":\n",
        "  print(\"Recall Score - \",recall_score(y_test,y_classes))\n",
        "  print(\"F1 Score - \",f1_score(y_test,y_classes))\n",
        "  print(\"Precision Score - \",precision_score(y_test,y_classes))\n",
        "  fpr, fnr, thresholds = det_curve(y_test, y_classes)\n",
        "  print(\"False Positive Rate - \", fpr)\n",
        "  print(\"False Negative Rate - \", fnr)\n",
        "  print(\"Thresholds - \", thresholds)"
      ]
    },
    {
      "cell_type": "code",
      "source": [
        "print(classification_report(y_test, y_classes, target_names=['0', '1']))\n",
        "cm = confusion_matrix(y_test, y_classes)\n",
        "disp = ConfusionMatrixDisplay(confusion_matrix=cm,\n",
        "                              display_labels=['0', '1'])\n",
        "disp.plot()\n",
        "\n",
        "plt.show()"
      ],
      "metadata": {
        "colab": {
          "base_uri": "https://localhost:8080/",
          "height": 616
        },
        "id": "lHw1E32esovH",
        "outputId": "11b20a55-6ad0-4c8b-a379-efdf3e636026"
      },
      "execution_count": null,
      "outputs": [
        {
          "output_type": "stream",
          "name": "stdout",
          "text": [
            "              precision    recall  f1-score   support\n",
            "\n",
            "           0       0.34      0.79      0.48     23243\n",
            "           1       0.56      0.15      0.24     41176\n",
            "\n",
            "    accuracy                           0.38     64419\n",
            "   macro avg       0.45      0.47      0.36     64419\n",
            "weighted avg       0.48      0.38      0.32     64419\n",
            "\n"
          ]
        },
        {
          "output_type": "display_data",
          "data": {
            "text/plain": [
              "<Figure size 640x480 with 2 Axes>"
            ],
            "image/png": "[encoded data removed]"
          },
          "metadata": {}
        }
      ]
    },
    {
      "cell_type": "markdown",
      "metadata": {
        "id": "H_g15uXe82BY"
      },
      "source": [
        "## **Auto Encoder**"
      ]
    },
    {
      "cell_type": "code",
      "execution_count": null,
      "metadata": {
        "id": "VQ6pDxghmBwB"
      },
      "outputs": [],
      "source": [
        "if model_selection[model_flag]==\"ALL\" or model_selection[model_flag] == \"AE\":\n",
        "  # splitting the dataset 75% for training and 25% testing\n",
        "  X_train, X_test = train_test_split(bin_data, test_size=0.25, random_state=42)"
      ]
    },
    {
      "cell_type": "code",
      "execution_count": null,
      "metadata": {
        "id": "uogVT92Q_6wh"
      },
      "outputs": [],
      "source": [
        "if model_selection[model_flag]==\"ALL\" or model_selection[model_flag] == \"AE\":\n",
        "  # dataset excluding target attribute (encoded, one-hot-encoded,original)\n",
        "  X_train = X_train.drop(['label'],axis=1) \n",
        "\n",
        "  y_test = X_test['label'] # target attribute\n",
        "\n",
        "  # dataset excluding target attribute (encoded, one-hot-encoded,original)\n",
        "  X_test = X_test.drop(['label'],axis=1)\n",
        "  # calling the normalization() function\n",
        "  X_train = normalization_train(X_train,numeric_cols)\n",
        "  X_test = normalization_test(X_test,numeric_cols)\n",
        "  X_train = X_train.values\n",
        "  X_test = X_test.values\n",
        "  y_test = y_test.values"
      ]
    },
    {
      "cell_type": "code",
      "execution_count": null,
      "metadata": {
        "id": "s696BM9uKADC"
      },
      "outputs": [],
      "source": [
        "if model_selection[model_flag]==\"ALL\" or model_selection[model_flag] == \"AE\":\n",
        "  input_dim = X_train.shape[1]\n",
        "  encoding_dim = 50\n",
        "\n",
        "  #input layer\n",
        "  input_layer = Input(shape=(input_dim, ))\n",
        "  #encoding layer with 50 neurons\n",
        "  encoder = Dense(encoding_dim, activation=\"relu\")(input_layer)           \n",
        "  #decoding and output layer\n",
        "  output_layer = Dense(input_dim, activation='softmax')(encoder)"
      ]
    },
    {
      "cell_type": "code",
      "execution_count": null,
      "metadata": {
        "id": "nLn3vHBZLQtj"
      },
      "outputs": [],
      "source": [
        "if model_selection[model_flag]==\"ALL\" or model_selection[model_flag] == \"AE\":\n",
        "  # creating model with input, encoding, decoding, output layers\n",
        "  autoencoder = Model(inputs=input_layer, outputs=output_layer)\n",
        "\n",
        "  # defining loss function, optimizer, metrics and then compiling model\n",
        "  autoencoder.compile(optimizer='adam', loss='mean_squared_error',metrics=['accuracy'])"
      ]
    },
    {
      "cell_type": "code",
      "execution_count": null,
      "metadata": {
        "id": "X_zk7PMVLVNm",
        "colab": {
          "base_uri": "https://localhost:8080/"
        },
        "outputId": "e02f8916-b192-4132-98e5-564ca83dfbc7"
      },
      "outputs": [
        {
          "output_type": "stream",
          "name": "stdout",
          "text": [
            "Model: \"model_2\"\n",
            "_________________________________________________________________\n",
            " Layer (type)                Output Shape              Param #   \n",
            "=================================================================\n",
            " input_3 (InputLayer)        [(None, 56)]              0         \n",
            "                                                                 \n",
            " dense_10 (Dense)            (None, 50)                2850      \n",
            "                                                                 \n",
            " dense_11 (Dense)            (None, 56)                2856      \n",
            "                                                                 \n",
            "=================================================================\n",
            "Total params: 5,706\n",
            "Trainable params: 5,706\n",
            "Non-trainable params: 0\n",
            "_________________________________________________________________\n"
          ]
        }
      ],
      "source": [
        "if model_selection[model_flag]==\"ALL\" or model_selection[model_flag] == \"AE\":\n",
        "  # summary of model layers\n",
        "  autoencoder.summary()"
      ]
    },
    {
      "cell_type": "code",
      "execution_count": null,
      "metadata": {
        "id": "We59NbebLdkJ",
        "colab": {
          "base_uri": "https://localhost:8080/"
        },
        "outputId": "3e72307c-0601-4655-9479-4abf8fe78179"
      },
      "outputs": [
        {
          "output_type": "stream",
          "name": "stdout",
          "text": [
            "Epoch 1/100\n",
            "387/387 [==============================] - 2s 4ms/step - loss: 0.0759 - accuracy: 0.2478 - val_loss: 103740657247453184.0000 - val_accuracy: 2.4837e-04\n",
            "Epoch 2/100\n",
            "387/387 [==============================] - 1s 3ms/step - loss: 0.0708 - accuracy: 0.2289 - val_loss: 103740657247453184.0000 - val_accuracy: 2.6390e-04\n",
            "Epoch 3/100\n",
            "387/387 [==============================] - 1s 4ms/step - loss: 0.0706 - accuracy: 0.1858 - val_loss: 103740657247453184.0000 - val_accuracy: 2.6390e-04\n",
            "Epoch 4/100\n",
            "387/387 [==============================] - 1s 4ms/step - loss: 0.0704 - accuracy: 0.2113 - val_loss: 103740657247453184.0000 - val_accuracy: 2.6390e-04\n",
            "Epoch 5/100\n",
            "387/387 [==============================] - 1s 4ms/step - loss: 0.0704 - accuracy: 0.2128 - val_loss: 103740657247453184.0000 - val_accuracy: 2.6390e-04\n",
            "Epoch 6/100\n",
            "387/387 [==============================] - 2s 5ms/step - loss: 0.0704 - accuracy: 0.1815 - val_loss: 103740657247453184.0000 - val_accuracy: 2.6390e-04\n",
            "Epoch 7/100\n",
            "387/387 [==============================] - 2s 5ms/step - loss: 0.0704 - accuracy: 0.1711 - val_loss: 103740657247453184.0000 - val_accuracy: 2.6390e-04\n",
            "Epoch 8/100\n",
            "387/387 [==============================] - 1s 4ms/step - loss: 0.0704 - accuracy: 0.1719 - val_loss: 103740657247453184.0000 - val_accuracy: 2.6390e-04\n",
            "Epoch 9/100\n",
            "387/387 [==============================] - 1s 3ms/step - loss: 0.0704 - accuracy: 0.1755 - val_loss: 103740657247453184.0000 - val_accuracy: 2.6390e-04\n",
            "Epoch 10/100\n",
            "387/387 [==============================] - 1s 4ms/step - loss: 0.0704 - accuracy: 0.1846 - val_loss: 103740657247453184.0000 - val_accuracy: 2.6390e-04\n",
            "Epoch 11/100\n",
            "387/387 [==============================] - 1s 4ms/step - loss: 0.0704 - accuracy: 0.1929 - val_loss: 103740657247453184.0000 - val_accuracy: 2.6390e-04\n",
            "Epoch 12/100\n",
            "387/387 [==============================] - 1s 4ms/step - loss: 0.0704 - accuracy: 0.1961 - val_loss: 103740657247453184.0000 - val_accuracy: 2.6390e-04\n",
            "Epoch 13/100\n",
            "387/387 [==============================] - 1s 3ms/step - loss: 0.0704 - accuracy: 0.1976 - val_loss: 103740657247453184.0000 - val_accuracy: 2.6390e-04\n",
            "Epoch 14/100\n",
            "387/387 [==============================] - 2s 4ms/step - loss: 0.0704 - accuracy: 0.2008 - val_loss: 103740657247453184.0000 - val_accuracy: 2.6390e-04\n",
            "Epoch 15/100\n",
            "387/387 [==============================] - 2s 6ms/step - loss: 0.0704 - accuracy: 0.1924 - val_loss: 103740657247453184.0000 - val_accuracy: 2.6390e-04\n",
            "Epoch 16/100\n",
            "387/387 [==============================] - 2s 4ms/step - loss: 0.0704 - accuracy: 0.1939 - val_loss: 103740657247453184.0000 - val_accuracy: 2.6390e-04\n",
            "Epoch 17/100\n",
            "387/387 [==============================] - 1s 4ms/step - loss: 0.0704 - accuracy: 0.1943 - val_loss: 103740657247453184.0000 - val_accuracy: 2.6390e-04\n",
            "Epoch 18/100\n",
            "387/387 [==============================] - 1s 3ms/step - loss: 0.0704 - accuracy: 0.1894 - val_loss: 103740657247453184.0000 - val_accuracy: 2.6390e-04\n",
            "Epoch 19/100\n",
            "387/387 [==============================] - 1s 4ms/step - loss: 0.0704 - accuracy: 0.1897 - val_loss: 103740657247453184.0000 - val_accuracy: 2.6390e-04\n",
            "Epoch 20/100\n",
            "387/387 [==============================] - 1s 4ms/step - loss: 0.0704 - accuracy: 0.1800 - val_loss: 103740657247453184.0000 - val_accuracy: 2.6390e-04\n",
            "Epoch 21/100\n",
            "387/387 [==============================] - 1s 4ms/step - loss: 0.0704 - accuracy: 0.1978 - val_loss: 103740657247453184.0000 - val_accuracy: 2.6390e-04\n",
            "Epoch 22/100\n",
            "387/387 [==============================] - 2s 4ms/step - loss: 0.0704 - accuracy: 0.1771 - val_loss: 103740657247453184.0000 - val_accuracy: 2.6390e-04\n",
            "Epoch 23/100\n",
            "387/387 [==============================] - 2s 5ms/step - loss: 0.0704 - accuracy: 0.1873 - val_loss: 103740657247453184.0000 - val_accuracy: 2.6390e-04\n",
            "Epoch 24/100\n",
            "387/387 [==============================] - 2s 6ms/step - loss: 0.0704 - accuracy: 0.1813 - val_loss: 103740657247453184.0000 - val_accuracy: 2.6390e-04\n",
            "Epoch 25/100\n",
            "387/387 [==============================] - 1s 4ms/step - loss: 0.0704 - accuracy: 0.1822 - val_loss: 103740657247453184.0000 - val_accuracy: 2.6390e-04\n",
            "Epoch 26/100\n",
            "387/387 [==============================] - 1s 4ms/step - loss: 0.0704 - accuracy: 0.1809 - val_loss: 103740657247453184.0000 - val_accuracy: 2.6390e-04\n",
            "Epoch 27/100\n",
            "387/387 [==============================] - 1s 4ms/step - loss: 0.0704 - accuracy: 0.1848 - val_loss: 103740657247453184.0000 - val_accuracy: 2.6390e-04\n",
            "Epoch 28/100\n",
            "387/387 [==============================] - 2s 4ms/step - loss: 0.0704 - accuracy: 0.1910 - val_loss: 103740657247453184.0000 - val_accuracy: 2.6390e-04\n",
            "Epoch 29/100\n",
            "387/387 [==============================] - 1s 4ms/step - loss: 0.0704 - accuracy: 0.1903 - val_loss: 103740657247453184.0000 - val_accuracy: 2.6390e-04\n",
            "Epoch 30/100\n",
            "387/387 [==============================] - 1s 4ms/step - loss: 0.0704 - accuracy: 0.1777 - val_loss: 103740657247453184.0000 - val_accuracy: 2.6390e-04\n",
            "Epoch 31/100\n",
            "387/387 [==============================] - 2s 4ms/step - loss: 0.0704 - accuracy: 0.1816 - val_loss: 103740657247453184.0000 - val_accuracy: 2.6390e-04\n",
            "Epoch 32/100\n",
            "387/387 [==============================] - 2s 5ms/step - loss: 0.0704 - accuracy: 0.1908 - val_loss: 103740657247453184.0000 - val_accuracy: 2.6390e-04\n",
            "Epoch 33/100\n",
            "387/387 [==============================] - 2s 4ms/step - loss: 0.0704 - accuracy: 0.1760 - val_loss: 103740657247453184.0000 - val_accuracy: 2.6390e-04\n",
            "Epoch 34/100\n",
            "387/387 [==============================] - 1s 4ms/step - loss: 0.0704 - accuracy: 0.1984 - val_loss: 103740657247453184.0000 - val_accuracy: 2.6390e-04\n",
            "Epoch 35/100\n",
            "387/387 [==============================] - 1s 4ms/step - loss: 0.0704 - accuracy: 0.1839 - val_loss: 103740657247453184.0000 - val_accuracy: 2.6390e-04\n",
            "Epoch 36/100\n",
            "387/387 [==============================] - 1s 4ms/step - loss: 0.0704 - accuracy: 0.1869 - val_loss: 103740657247453184.0000 - val_accuracy: 2.6390e-04\n",
            "Epoch 37/100\n",
            "387/387 [==============================] - 2s 4ms/step - loss: 0.0704 - accuracy: 0.1886 - val_loss: 103740657247453184.0000 - val_accuracy: 2.6390e-04\n",
            "Epoch 38/100\n",
            "387/387 [==============================] - 1s 4ms/step - loss: 0.0704 - accuracy: 0.1831 - val_loss: 103740657247453184.0000 - val_accuracy: 2.6390e-04\n",
            "Epoch 39/100\n",
            "387/387 [==============================] - 1s 4ms/step - loss: 0.0704 - accuracy: 0.1922 - val_loss: 103740657247453184.0000 - val_accuracy: 2.6390e-04\n",
            "Epoch 40/100\n",
            "387/387 [==============================] - 2s 5ms/step - loss: 0.0704 - accuracy: 0.1898 - val_loss: 103740657247453184.0000 - val_accuracy: 2.6390e-04\n",
            "Epoch 41/100\n",
            "387/387 [==============================] - 2s 6ms/step - loss: 0.0704 - accuracy: 0.2048 - val_loss: 103740657247453184.0000 - val_accuracy: 2.6390e-04\n",
            "Epoch 42/100\n",
            "387/387 [==============================] - 1s 4ms/step - loss: 0.0704 - accuracy: 0.1788 - val_loss: 103740657247453184.0000 - val_accuracy: 2.6390e-04\n",
            "Epoch 43/100\n",
            "387/387 [==============================] - 1s 4ms/step - loss: 0.0704 - accuracy: 0.1748 - val_loss: 103740657247453184.0000 - val_accuracy: 2.6390e-04\n",
            "Epoch 44/100\n",
            "387/387 [==============================] - 2s 4ms/step - loss: 0.0704 - accuracy: 0.1772 - val_loss: 103740657247453184.0000 - val_accuracy: 2.6390e-04\n",
            "Epoch 45/100\n",
            "387/387 [==============================] - 2s 4ms/step - loss: 0.0704 - accuracy: 0.1827 - val_loss: 103740657247453184.0000 - val_accuracy: 2.6390e-04\n",
            "Epoch 46/100\n",
            "387/387 [==============================] - 1s 4ms/step - loss: 0.0704 - accuracy: 0.1832 - val_loss: 103740657247453184.0000 - val_accuracy: 2.6390e-04\n",
            "Epoch 47/100\n",
            "387/387 [==============================] - 1s 4ms/step - loss: 0.0704 - accuracy: 0.1913 - val_loss: 103740657247453184.0000 - val_accuracy: 2.6390e-04\n",
            "Epoch 48/100\n",
            "387/387 [==============================] - 2s 5ms/step - loss: 0.0704 - accuracy: 0.1873 - val_loss: 103740657247453184.0000 - val_accuracy: 2.6390e-04\n",
            "Epoch 49/100\n",
            "387/387 [==============================] - 2s 5ms/step - loss: 0.0704 - accuracy: 0.1864 - val_loss: 103740657247453184.0000 - val_accuracy: 2.6390e-04\n",
            "Epoch 50/100\n",
            "387/387 [==============================] - 2s 4ms/step - loss: 0.0704 - accuracy: 0.1968 - val_loss: 103740657247453184.0000 - val_accuracy: 2.6390e-04\n",
            "Epoch 51/100\n",
            "387/387 [==============================] - 1s 4ms/step - loss: 0.0704 - accuracy: 0.1848 - val_loss: 103740657247453184.0000 - val_accuracy: 2.6390e-04\n",
            "Epoch 52/100\n",
            "387/387 [==============================] - 1s 4ms/step - loss: 0.0704 - accuracy: 0.1906 - val_loss: 103740657247453184.0000 - val_accuracy: 2.6390e-04\n",
            "Epoch 53/100\n",
            "387/387 [==============================] - 1s 4ms/step - loss: 0.0704 - accuracy: 0.1877 - val_loss: 103740657247453184.0000 - val_accuracy: 2.6390e-04\n",
            "Epoch 54/100\n",
            "387/387 [==============================] - 1s 4ms/step - loss: 0.0704 - accuracy: 0.1840 - val_loss: 103740657247453184.0000 - val_accuracy: 2.6390e-04\n",
            "Epoch 55/100\n",
            "387/387 [==============================] - 1s 4ms/step - loss: 0.0704 - accuracy: 0.2041 - val_loss: 103740657247453184.0000 - val_accuracy: 2.6390e-04\n",
            "Epoch 56/100\n",
            "387/387 [==============================] - 1s 4ms/step - loss: 0.0704 - accuracy: 0.1827 - val_loss: 103740657247453184.0000 - val_accuracy: 2.6390e-04\n",
            "Epoch 57/100\n",
            "387/387 [==============================] - 2s 5ms/step - loss: 0.0704 - accuracy: 0.1929 - val_loss: 103740657247453184.0000 - val_accuracy: 2.6390e-04\n",
            "Epoch 58/100\n",
            "387/387 [==============================] - 2s 5ms/step - loss: 0.0704 - accuracy: 0.1916 - val_loss: 103740657247453184.0000 - val_accuracy: 2.6390e-04\n",
            "Epoch 59/100\n",
            "387/387 [==============================] - 1s 4ms/step - loss: 0.0704 - accuracy: 0.1893 - val_loss: 103740657247453184.0000 - val_accuracy: 2.6390e-04\n",
            "Epoch 60/100\n",
            "387/387 [==============================] - 1s 4ms/step - loss: 0.0704 - accuracy: 0.1901 - val_loss: 103740657247453184.0000 - val_accuracy: 2.6390e-04\n",
            "Epoch 61/100\n",
            "387/387 [==============================] - 1s 4ms/step - loss: 0.0704 - accuracy: 0.1871 - val_loss: 103740657247453184.0000 - val_accuracy: 2.6390e-04\n",
            "Epoch 62/100\n",
            "387/387 [==============================] - 1s 4ms/step - loss: 0.0704 - accuracy: 0.1923 - val_loss: 103740657247453184.0000 - val_accuracy: 2.6390e-04\n",
            "Epoch 63/100\n",
            "387/387 [==============================] - 1s 4ms/step - loss: 0.0704 - accuracy: 0.2000 - val_loss: 103740657247453184.0000 - val_accuracy: 2.6390e-04\n",
            "Epoch 64/100\n",
            "387/387 [==============================] - 1s 4ms/step - loss: 0.0704 - accuracy: 0.1971 - val_loss: 103740657247453184.0000 - val_accuracy: 2.6390e-04\n",
            "Epoch 65/100\n",
            "387/387 [==============================] - 1s 4ms/step - loss: 0.0704 - accuracy: 0.1921 - val_loss: 103740657247453184.0000 - val_accuracy: 2.6390e-04\n",
            "Epoch 66/100\n",
            "387/387 [==============================] - 2s 5ms/step - loss: 0.0704 - accuracy: 0.1971 - val_loss: 103740657247453184.0000 - val_accuracy: 2.6390e-04\n",
            "Epoch 67/100\n",
            "387/387 [==============================] - 2s 5ms/step - loss: 0.0704 - accuracy: 0.1986 - val_loss: 103740657247453184.0000 - val_accuracy: 2.6390e-04\n",
            "Epoch 68/100\n",
            "387/387 [==============================] - 1s 4ms/step - loss: 0.0704 - accuracy: 0.2072 - val_loss: 103740657247453184.0000 - val_accuracy: 2.6390e-04\n",
            "Epoch 69/100\n",
            "387/387 [==============================] - 1s 4ms/step - loss: 0.0704 - accuracy: 0.1853 - val_loss: 103740657247453184.0000 - val_accuracy: 2.6390e-04\n",
            "Epoch 70/100\n",
            "387/387 [==============================] - 1s 4ms/step - loss: 0.0704 - accuracy: 0.1970 - val_loss: 103740657247453184.0000 - val_accuracy: 2.6390e-04\n",
            "Epoch 71/100\n",
            "387/387 [==============================] - 1s 4ms/step - loss: 0.0704 - accuracy: 0.2036 - val_loss: 103740657247453184.0000 - val_accuracy: 2.6390e-04\n",
            "Epoch 72/100\n",
            "387/387 [==============================] - 1s 4ms/step - loss: 0.0704 - accuracy: 0.2056 - val_loss: 103740657247453184.0000 - val_accuracy: 2.6390e-04\n",
            "Epoch 73/100\n",
            "387/387 [==============================] - 1s 4ms/step - loss: 0.0704 - accuracy: 0.1943 - val_loss: 103740657247453184.0000 - val_accuracy: 2.6390e-04\n",
            "Epoch 74/100\n",
            "387/387 [==============================] - 2s 4ms/step - loss: 0.0704 - accuracy: 0.2032 - val_loss: 103740657247453184.0000 - val_accuracy: 2.6390e-04\n",
            "Epoch 75/100\n",
            "387/387 [==============================] - 2s 5ms/step - loss: 0.0704 - accuracy: 0.1906 - val_loss: 103740657247453184.0000 - val_accuracy: 2.6390e-04\n",
            "Epoch 76/100\n",
            "387/387 [==============================] - 2s 4ms/step - loss: 0.0704 - accuracy: 0.1921 - val_loss: 103740657247453184.0000 - val_accuracy: 2.6390e-04\n",
            "Epoch 77/100\n",
            "387/387 [==============================] - 1s 4ms/step - loss: 0.0704 - accuracy: 0.2004 - val_loss: 103740657247453184.0000 - val_accuracy: 2.6390e-04\n",
            "Epoch 78/100\n",
            "387/387 [==============================] - 1s 4ms/step - loss: 0.0704 - accuracy: 0.1919 - val_loss: 103740657247453184.0000 - val_accuracy: 2.6390e-04\n",
            "Epoch 79/100\n",
            "387/387 [==============================] - 1s 4ms/step - loss: 0.0704 - accuracy: 0.1935 - val_loss: 103740657247453184.0000 - val_accuracy: 2.6390e-04\n",
            "Epoch 80/100\n",
            "387/387 [==============================] - 1s 4ms/step - loss: 0.0704 - accuracy: 0.1897 - val_loss: 103740657247453184.0000 - val_accuracy: 2.6390e-04\n",
            "Epoch 81/100\n",
            "387/387 [==============================] - 1s 4ms/step - loss: 0.0704 - accuracy: 0.1935 - val_loss: 103740657247453184.0000 - val_accuracy: 2.6390e-04\n",
            "Epoch 82/100\n",
            "387/387 [==============================] - 1s 4ms/step - loss: 0.0704 - accuracy: 0.1946 - val_loss: 103740657247453184.0000 - val_accuracy: 2.6390e-04\n",
            "Epoch 83/100\n",
            "387/387 [==============================] - 2s 5ms/step - loss: 0.0704 - accuracy: 0.2149 - val_loss: 103740657247453184.0000 - val_accuracy: 2.6390e-04\n",
            "Epoch 84/100\n",
            "387/387 [==============================] - 2s 6ms/step - loss: 0.0704 - accuracy: 0.1977 - val_loss: 103740657247453184.0000 - val_accuracy: 2.6390e-04\n",
            "Epoch 85/100\n",
            "387/387 [==============================] - 1s 4ms/step - loss: 0.0704 - accuracy: 0.1918 - val_loss: 103740657247453184.0000 - val_accuracy: 2.6390e-04\n",
            "Epoch 86/100\n",
            "387/387 [==============================] - 1s 4ms/step - loss: 0.0704 - accuracy: 0.2062 - val_loss: 103740657247453184.0000 - val_accuracy: 2.6390e-04\n",
            "Epoch 87/100\n",
            "387/387 [==============================] - 1s 4ms/step - loss: 0.0704 - accuracy: 0.1976 - val_loss: 103740657247453184.0000 - val_accuracy: 2.6390e-04\n",
            "Epoch 88/100\n",
            "387/387 [==============================] - 1s 4ms/step - loss: 0.0704 - accuracy: 0.2004 - val_loss: 103740657247453184.0000 - val_accuracy: 2.6390e-04\n",
            "Epoch 89/100\n",
            "387/387 [==============================] - 1s 4ms/step - loss: 0.0704 - accuracy: 0.1911 - val_loss: 103740657247453184.0000 - val_accuracy: 2.6390e-04\n",
            "Epoch 90/100\n",
            "387/387 [==============================] - 1s 4ms/step - loss: 0.0704 - accuracy: 0.2039 - val_loss: 103740657247453184.0000 - val_accuracy: 2.6390e-04\n",
            "Epoch 91/100\n",
            "387/387 [==============================] - 1s 4ms/step - loss: 0.0704 - accuracy: 0.2020 - val_loss: 103740657247453184.0000 - val_accuracy: 2.6390e-04\n",
            "Epoch 92/100\n",
            "387/387 [==============================] - 2s 5ms/step - loss: 0.0704 - accuracy: 0.1934 - val_loss: 103740657247453184.0000 - val_accuracy: 2.6390e-04\n",
            "Epoch 93/100\n",
            "387/387 [==============================] - 2s 5ms/step - loss: 0.0704 - accuracy: 0.1990 - val_loss: 103740657247453184.0000 - val_accuracy: 2.6390e-04\n",
            "Epoch 94/100\n",
            "387/387 [==============================] - 1s 4ms/step - loss: 0.0704 - accuracy: 0.1971 - val_loss: 103740657247453184.0000 - val_accuracy: 2.6390e-04\n",
            "Epoch 95/100\n",
            "387/387 [==============================] - 1s 4ms/step - loss: 0.0704 - accuracy: 0.1980 - val_loss: 103740657247453184.0000 - val_accuracy: 2.6390e-04\n",
            "Epoch 96/100\n",
            "387/387 [==============================] - 1s 4ms/step - loss: 0.0704 - accuracy: 0.2053 - val_loss: 103740657247453184.0000 - val_accuracy: 2.6390e-04\n",
            "Epoch 97/100\n",
            "387/387 [==============================] - 1s 4ms/step - loss: 0.0704 - accuracy: 0.1864 - val_loss: 103740657247453184.0000 - val_accuracy: 2.6390e-04\n",
            "Epoch 98/100\n",
            "387/387 [==============================] - 1s 4ms/step - loss: 0.0704 - accuracy: 0.2094 - val_loss: 103740657247453184.0000 - val_accuracy: 2.6390e-04\n",
            "Epoch 99/100\n",
            "387/387 [==============================] - 1s 4ms/step - loss: 0.0704 - accuracy: 0.1940 - val_loss: 103740657247453184.0000 - val_accuracy: 2.6390e-04\n",
            "Epoch 100/100\n",
            "387/387 [==============================] - 2s 5ms/step - loss: 0.0704 - accuracy: 0.2038 - val_loss: 103740657247453184.0000 - val_accuracy: 2.6390e-04\n"
          ]
        }
      ],
      "source": [
        "if model_selection[model_flag]==\"ALL\" or model_selection[model_flag] == \"AE\":\n",
        "  # training the model on training dataset\n",
        "  history = autoencoder.fit(X_train, X_train, epochs=100,batch_size=500,validation_data=(X_test, X_test)).history"
      ]
    },
    {
      "cell_type": "code",
      "execution_count": null,
      "metadata": {
        "id": "AdtR3-9xLliU"
      },
      "outputs": [],
      "source": [
        "if model_selection[model_flag]==\"ALL\" or model_selection[model_flag] == \"AE\":\n",
        "  filepath = '/content/drive/MyDrive/Colab_Notebooks/Models/ae_binary_unsw_nb15.json'\n",
        "  weightspath = '/content/drive/MyDrive/Colab_Notebooks/Weights/ae_binary_unsw_nb15.h5'\n",
        "  if (not path.isfile(filepath)): \n",
        "    # serialize model to JSON\n",
        "    autoencoder_json = autoencoder.to_json()\n",
        "    with open(filepath, \"w\") as json_file:\n",
        "      json_file.write(autoencoder_json)\n",
        "\n",
        "    # serialize weights to HDF5\n",
        "    autoencoder.save_weights(weightspath)\n",
        "    print(\"Saved model to disk\")\n",
        "\n",
        "    # load json and create model\n",
        "    json_file = open(filepath, 'r')\n",
        "    loaded_model_json = json_file.read()\n",
        "    json_file.close()\n",
        "    autoencoder = model_from_json(loaded_model_json)\n",
        "\n",
        "    # load weights into new model\n",
        "    autoencoder.load_weights(weightspath)\n",
        "    print(\"Loaded model from disk\")"
      ]
    },
    {
      "cell_type": "code",
      "execution_count": null,
      "metadata": {
        "id": "Wqr6HVtMLwx9"
      },
      "outputs": [],
      "source": [
        "if model_selection[model_flag]==\"ALL\" or model_selection[model_flag] == \"AE\":\n",
        "  # defining loss function, optimizer, metrics and then compiling model\n",
        "  autoencoder.compile(optimizer='adam', loss='mean_squared_error',metrics=['accuracy'])"
      ]
    },
    {
      "cell_type": "code",
      "execution_count": null,
      "metadata": {
        "id": "FQrjCk2hL09x",
        "colab": {
          "base_uri": "https://localhost:8080/"
        },
        "outputId": "d9d531c9-030d-4d1c-8dcf-04656e56ac12"
      },
      "outputs": [
        {
          "output_type": "stream",
          "name": "stdout",
          "text": [
            "2014/2014 [==============================] - 5s 2ms/step - loss: 103740528398434304.0000 - accuracy: 2.6390e-04\n",
            "Test results - Loss: 1.037405283984343e+17 - Accuracy: 0.00026389729464426637%\n"
          ]
        }
      ],
      "source": [
        "if model_selection[model_flag]==\"ALL\" or model_selection[model_flag] == \"AE\":\n",
        "  # predicting target attribute on testing dataset\n",
        "  test_results = autoencoder.evaluate(X_test, X_test, verbose=1)\n",
        "  print(f'Test results - Loss: {test_results[0]} - Accuracy: {test_results[1]}%')"
      ]
    },
    {
      "cell_type": "code",
      "execution_count": null,
      "metadata": {
        "id": "VqQsjSZcL1-B",
        "colab": {
          "base_uri": "https://localhost:8080/",
          "height": 472
        },
        "outputId": "282f1c2a-faba-4cd1-eb19-98d8cd8b43c0"
      },
      "outputs": [
        {
          "output_type": "display_data",
          "data": {
            "text/plain": [
              "<Figure size 640x480 with 1 Axes>"
            ],
            "image/png": "[encoded data removed]"
          },
          "metadata": {}
        }
      ],
      "source": [
        "if model_selection[model_flag]==\"ALL\" or model_selection[model_flag] == \"AE\":\n",
        "  # Plot of loss vs epoch of train and test dataset\n",
        "  plt.plot(history['loss'])\n",
        "  plt.plot(history['val_loss'])\n",
        "  plt.title(\"Plot of loss vs epoch for train and test dataset\")\n",
        "  plt.ylabel('loss')\n",
        "  plt.xlabel('epoch')\n",
        "  plt.legend(['train', 'test'], loc='upper right')\n",
        "  plt.savefig('/content/drive/MyDrive/Colab_Notebooks/Plots/ae_binary_loss.png')\n",
        "  plt.show()"
      ]
    },
    {
      "cell_type": "code",
      "execution_count": null,
      "metadata": {
        "id": "fkjD9QXKL25Z",
        "colab": {
          "base_uri": "https://localhost:8080/",
          "height": 472
        },
        "outputId": "ae617a0c-9c66-4779-a01f-8662aaedac41"
      },
      "outputs": [
        {
          "output_type": "display_data",
          "data": {
            "text/plain": [
              "<Figure size 640x480 with 1 Axes>"
            ],
            "image/png": "[encoded data removed]"
          },
          "metadata": {}
        }
      ],
      "source": [
        "if model_selection[model_flag]==\"ALL\" or model_selection[model_flag] == \"AE\":\n",
        "  # Plot of accuracy vs epoch of train and test dataset\n",
        "  plt.plot(history['accuracy'])\n",
        "  plt.plot(history['val_accuracy'])\n",
        "  plt.title(\"Plot of accuracy vs epoch for train and test dataset\")\n",
        "  plt.ylabel('accuracy')\n",
        "  plt.xlabel('epoch')\n",
        "  plt.legend(['train', 'test'], loc='best')\n",
        "  plt.savefig('/content/drive/MyDrive/Colab_Notebooks/Plots/ae_binary_accuracy.png')\n",
        "  plt.show()"
      ]
    },
    {
      "cell_type": "code",
      "execution_count": null,
      "metadata": {
        "id": "lf9q83sBMGPD"
      },
      "outputs": [],
      "source": [
        "if model_selection[model_flag]==\"ALL\" or model_selection[model_flag] == \"AE\":\n",
        "  # representation of model layers\n",
        "  plot_model(autoencoder, to_file='/content/drive/MyDrive/Colab_Notebooks/Plots/ae_binary.png', show_shapes=True,)"
      ]
    },
    {
      "cell_type": "code",
      "execution_count": null,
      "metadata": {
        "id": "SFIXKGwuMLFo",
        "colab": {
          "base_uri": "https://localhost:8080/"
        },
        "outputId": "9c0fe0d7-8eae-4d0f-a877-5dbf8ebb847d"
      },
      "outputs": [
        {
          "output_type": "stream",
          "name": "stdout",
          "text": [
            "2014/2014 [==============================] - 3s 1ms/step\n"
          ]
        }
      ],
      "source": [
        "if model_selection[model_flag]==\"ALL\" or model_selection[model_flag] == \"AE\":\n",
        "  # calculating reconstruction error \n",
        "  predictions = autoencoder.predict(X_test)"
      ]
    },
    {
      "cell_type": "code",
      "execution_count": null,
      "metadata": {
        "id": "cqKJCyZnMMEG"
      },
      "outputs": [],
      "source": [
        "if model_selection[model_flag]==\"ALL\" or model_selection[model_flag] == \"AE\":\n",
        "  mse = np.mean(np.power(X_test - predictions, 2), axis=1)\n",
        "  error_df = pd.DataFrame({'reconstruction_error': mse,\n",
        "                           'true_class': y_test})"
      ]
    },
    {
      "cell_type": "code",
      "execution_count": null,
      "metadata": {
        "id": "EdQJudbDMhmB",
        "colab": {
          "base_uri": "https://localhost:8080/"
        },
        "outputId": "1875a70d-24b9-430b-b9f0-20ff25cb10e3"
      },
      "outputs": [
        {
          "output_type": "stream",
          "name": "stdout",
          "text": [
            "(64419, 56)\n"
          ]
        }
      ],
      "source": [
        "if model_selection[model_flag]==\"ALL\" or model_selection[model_flag] == \"AE\":\n",
        "  error_df.describe()\n",
        "  print(predictions.shape)"
      ]
    },
    {
      "cell_type": "markdown",
      "metadata": {
        "id": "PHsaAAMmNQrs"
      },
      "source": [
        "## **AE Classifier**"
      ]
    },
    {
      "cell_type": "code",
      "execution_count": null,
      "metadata": {
        "id": "1hK07LDBMoZg"
      },
      "outputs": [],
      "source": [
        "if model_selection[model_flag]==\"ALL\" or model_selection[model_flag] == \"AE\":\n",
        "  i_dim = predictions.shape[1]\n",
        "\n",
        "  #input layer\n",
        "  i_layer = Input(shape=(i_dim, ))\n",
        "  #hidden layer with 50 neurons\n",
        "  fvector = Dense(50, activation=\"sigmoid\")(i_layer)                    \n",
        "  #doutput layer\n",
        "  o_layer = Dense(1, activation='sigmoid')(fvector)"
      ]
    },
    {
      "cell_type": "code",
      "execution_count": null,
      "metadata": {
        "id": "Efq77rVINXWE"
      },
      "outputs": [],
      "source": [
        "if model_selection[model_flag]==\"ALL\" or model_selection[model_flag] == \"AE\":\n",
        "  # creating model with input, encoding, decoding, output layers\n",
        "  ae_classifier = Model(inputs=i_layer, outputs=o_layer)\n",
        "\n",
        "  # defining loss function, optimizer, metrics and then compiling model\n",
        "  ae_classifier.compile(optimizer='adam', loss='binary_crossentropy',metrics=['accuracy'])"
      ]
    },
    {
      "cell_type": "code",
      "execution_count": null,
      "metadata": {
        "id": "0Yl594VGNX1W",
        "colab": {
          "base_uri": "https://localhost:8080/"
        },
        "outputId": "ebde42ad-c842-41ed-d66f-6b8cfc3c47d9"
      },
      "outputs": [
        {
          "output_type": "stream",
          "name": "stdout",
          "text": [
            "Model: \"model_3\"\n",
            "_________________________________________________________________\n",
            " Layer (type)                Output Shape              Param #   \n",
            "=================================================================\n",
            " input_4 (InputLayer)        [(None, 56)]              0         \n",
            "                                                                 \n",
            " dense_12 (Dense)            (None, 50)                2850      \n",
            "                                                                 \n",
            " dense_13 (Dense)            (None, 1)                 51        \n",
            "                                                                 \n",
            "=================================================================\n",
            "Total params: 2,901\n",
            "Trainable params: 2,901\n",
            "Non-trainable params: 0\n",
            "_________________________________________________________________\n"
          ]
        }
      ],
      "source": [
        "if model_selection[model_flag]==\"ALL\" or model_selection[model_flag] == \"AE\":\n",
        "  # summary of model layers\n",
        "  ae_classifier.summary()"
      ]
    },
    {
      "cell_type": "code",
      "execution_count": null,
      "metadata": {
        "id": "23n8Qt0uNX8Z",
        "colab": {
          "base_uri": "https://localhost:8080/"
        },
        "outputId": "cb35e577-0816-471a-a605-fb3c67a9996d"
      },
      "outputs": [
        {
          "output_type": "stream",
          "name": "stdout",
          "text": [
            "Epoch 1/300\n",
            "104/104 [==============================] - 1s 5ms/step - loss: 0.6827 - accuracy: 0.5609 - val_loss: 0.6209 - val_accuracy: 0.6455\n",
            "Epoch 2/300\n",
            "104/104 [==============================] - 0s 4ms/step - loss: 0.6128 - accuracy: 0.6649 - val_loss: 0.5994 - val_accuracy: 0.7481\n",
            "Epoch 3/300\n",
            "104/104 [==============================] - 0s 4ms/step - loss: 0.5927 - accuracy: 0.7454 - val_loss: 0.5819 - val_accuracy: 0.7479\n",
            "Epoch 4/300\n",
            "104/104 [==============================] - 0s 4ms/step - loss: 0.5771 - accuracy: 0.7456 - val_loss: 0.5698 - val_accuracy: 0.7483\n",
            "Epoch 5/300\n",
            "104/104 [==============================] - 0s 4ms/step - loss: 0.5664 - accuracy: 0.7458 - val_loss: 0.5616 - val_accuracy: 0.7483\n",
            "Epoch 6/300\n",
            "104/104 [==============================] - 0s 4ms/step - loss: 0.5598 - accuracy: 0.7458 - val_loss: 0.5573 - val_accuracy: 0.7483\n",
            "Epoch 7/300\n",
            "104/104 [==============================] - 0s 4ms/step - loss: 0.5561 - accuracy: 0.7458 - val_loss: 0.5548 - val_accuracy: 0.7483\n",
            "Epoch 8/300\n",
            "104/104 [==============================] - 0s 4ms/step - loss: 0.5541 - accuracy: 0.7458 - val_loss: 0.5539 - val_accuracy: 0.7483\n",
            "Epoch 9/300\n",
            "104/104 [==============================] - 0s 4ms/step - loss: 0.5531 - accuracy: 0.7458 - val_loss: 0.5533 - val_accuracy: 0.7483\n",
            "Epoch 10/300\n",
            "104/104 [==============================] - 0s 4ms/step - loss: 0.5527 - accuracy: 0.7458 - val_loss: 0.5528 - val_accuracy: 0.7483\n",
            "Epoch 11/300\n",
            "104/104 [==============================] - 0s 4ms/step - loss: 0.5523 - accuracy: 0.7458 - val_loss: 0.5529 - val_accuracy: 0.7483\n",
            "Epoch 12/300\n",
            "104/104 [==============================] - 0s 4ms/step - loss: 0.5521 - accuracy: 0.7458 - val_loss: 0.5528 - val_accuracy: 0.7483\n",
            "Epoch 13/300\n",
            "104/104 [==============================] - 1s 6ms/step - loss: 0.5520 - accuracy: 0.7458 - val_loss: 0.5526 - val_accuracy: 0.7483\n",
            "Epoch 14/300\n",
            "104/104 [==============================] - 1s 6ms/step - loss: 0.5519 - accuracy: 0.7458 - val_loss: 0.5525 - val_accuracy: 0.7483\n",
            "Epoch 15/300\n",
            "104/104 [==============================] - 1s 6ms/step - loss: 0.5518 - accuracy: 0.7458 - val_loss: 0.5526 - val_accuracy: 0.7483\n",
            "Epoch 16/300\n",
            "104/104 [==============================] - 1s 6ms/step - loss: 0.5518 - accuracy: 0.7458 - val_loss: 0.5523 - val_accuracy: 0.7483\n",
            "Epoch 17/300\n",
            "104/104 [==============================] - 1s 6ms/step - loss: 0.5517 - accuracy: 0.7458 - val_loss: 0.5534 - val_accuracy: 0.7483\n",
            "Epoch 18/300\n",
            "104/104 [==============================] - 0s 4ms/step - loss: 0.5518 - accuracy: 0.7458 - val_loss: 0.5525 - val_accuracy: 0.7483\n",
            "Epoch 19/300\n",
            "104/104 [==============================] - 0s 4ms/step - loss: 0.5516 - accuracy: 0.7458 - val_loss: 0.5523 - val_accuracy: 0.7483\n",
            "Epoch 20/300\n",
            "104/104 [==============================] - 0s 4ms/step - loss: 0.5515 - accuracy: 0.7458 - val_loss: 0.5522 - val_accuracy: 0.7483\n",
            "Epoch 21/300\n",
            "104/104 [==============================] - 0s 4ms/step - loss: 0.5517 - accuracy: 0.7458 - val_loss: 0.5523 - val_accuracy: 0.7483\n",
            "Epoch 22/300\n",
            "104/104 [==============================] - 0s 4ms/step - loss: 0.5516 - accuracy: 0.7458 - val_loss: 0.5521 - val_accuracy: 0.7483\n",
            "Epoch 23/300\n",
            "104/104 [==============================] - 0s 4ms/step - loss: 0.5516 - accuracy: 0.7458 - val_loss: 0.5521 - val_accuracy: 0.7483\n",
            "Epoch 24/300\n",
            "104/104 [==============================] - 0s 4ms/step - loss: 0.5515 - accuracy: 0.7458 - val_loss: 0.5519 - val_accuracy: 0.7483\n",
            "Epoch 25/300\n",
            "104/104 [==============================] - 0s 4ms/step - loss: 0.5514 - accuracy: 0.7458 - val_loss: 0.5519 - val_accuracy: 0.7483\n",
            "Epoch 26/300\n",
            "104/104 [==============================] - 0s 4ms/step - loss: 0.5515 - accuracy: 0.7459 - val_loss: 0.5519 - val_accuracy: 0.7485\n",
            "Epoch 27/300\n",
            "104/104 [==============================] - 0s 4ms/step - loss: 0.5514 - accuracy: 0.7460 - val_loss: 0.5522 - val_accuracy: 0.7485\n",
            "Epoch 28/300\n",
            "104/104 [==============================] - 0s 4ms/step - loss: 0.5514 - accuracy: 0.7459 - val_loss: 0.5521 - val_accuracy: 0.7485\n",
            "Epoch 29/300\n",
            "104/104 [==============================] - 0s 4ms/step - loss: 0.5514 - accuracy: 0.7460 - val_loss: 0.5521 - val_accuracy: 0.7485\n",
            "Epoch 30/300\n",
            "104/104 [==============================] - 0s 4ms/step - loss: 0.5513 - accuracy: 0.7460 - val_loss: 0.5519 - val_accuracy: 0.7485\n",
            "Epoch 31/300\n",
            "104/104 [==============================] - 0s 4ms/step - loss: 0.5512 - accuracy: 0.7460 - val_loss: 0.5520 - val_accuracy: 0.7485\n",
            "Epoch 32/300\n",
            "104/104 [==============================] - 0s 4ms/step - loss: 0.5514 - accuracy: 0.7460 - val_loss: 0.5520 - val_accuracy: 0.7485\n",
            "Epoch 33/300\n",
            "104/104 [==============================] - 0s 4ms/step - loss: 0.5513 - accuracy: 0.7460 - val_loss: 0.5520 - val_accuracy: 0.7485\n",
            "Epoch 34/300\n",
            "104/104 [==============================] - 0s 4ms/step - loss: 0.5513 - accuracy: 0.7460 - val_loss: 0.5517 - val_accuracy: 0.7485\n",
            "Epoch 35/300\n",
            "104/104 [==============================] - 0s 4ms/step - loss: 0.5513 - accuracy: 0.7460 - val_loss: 0.5520 - val_accuracy: 0.7485\n",
            "Epoch 36/300\n",
            "104/104 [==============================] - 0s 4ms/step - loss: 0.5512 - accuracy: 0.7460 - val_loss: 0.5518 - val_accuracy: 0.7485\n",
            "Epoch 37/300\n",
            "104/104 [==============================] - 0s 4ms/step - loss: 0.5515 - accuracy: 0.7460 - val_loss: 0.5519 - val_accuracy: 0.7485\n",
            "Epoch 38/300\n",
            "104/104 [==============================] - 0s 4ms/step - loss: 0.5512 - accuracy: 0.7460 - val_loss: 0.5521 - val_accuracy: 0.7485\n",
            "Epoch 39/300\n",
            "104/104 [==============================] - 0s 4ms/step - loss: 0.5513 - accuracy: 0.7460 - val_loss: 0.5516 - val_accuracy: 0.7485\n",
            "Epoch 40/300\n",
            "104/104 [==============================] - 0s 4ms/step - loss: 0.5512 - accuracy: 0.7460 - val_loss: 0.5520 - val_accuracy: 0.7485\n",
            "Epoch 41/300\n",
            "104/104 [==============================] - 0s 4ms/step - loss: 0.5513 - accuracy: 0.7460 - val_loss: 0.5516 - val_accuracy: 0.7485\n",
            "Epoch 42/300\n",
            "104/104 [==============================] - 0s 5ms/step - loss: 0.5511 - accuracy: 0.7460 - val_loss: 0.5519 - val_accuracy: 0.7485\n",
            "Epoch 43/300\n",
            "104/104 [==============================] - 1s 6ms/step - loss: 0.5511 - accuracy: 0.7460 - val_loss: 0.5516 - val_accuracy: 0.7485\n",
            "Epoch 44/300\n",
            "104/104 [==============================] - 1s 5ms/step - loss: 0.5511 - accuracy: 0.7460 - val_loss: 0.5516 - val_accuracy: 0.7485\n",
            "Epoch 45/300\n",
            "104/104 [==============================] - 1s 6ms/step - loss: 0.5513 - accuracy: 0.7460 - val_loss: 0.5515 - val_accuracy: 0.7485\n",
            "Epoch 46/300\n",
            "104/104 [==============================] - 1s 5ms/step - loss: 0.5510 - accuracy: 0.7460 - val_loss: 0.5519 - val_accuracy: 0.7485\n",
            "Epoch 47/300\n",
            "104/104 [==============================] - 1s 5ms/step - loss: 0.5511 - accuracy: 0.7460 - val_loss: 0.5516 - val_accuracy: 0.7485\n",
            "Epoch 48/300\n",
            "104/104 [==============================] - 1s 5ms/step - loss: 0.5511 - accuracy: 0.7460 - val_loss: 0.5523 - val_accuracy: 0.7485\n",
            "Epoch 49/300\n",
            "104/104 [==============================] - 0s 4ms/step - loss: 0.5510 - accuracy: 0.7460 - val_loss: 0.5526 - val_accuracy: 0.7485\n",
            "Epoch 50/300\n",
            "104/104 [==============================] - 0s 4ms/step - loss: 0.5514 - accuracy: 0.7460 - val_loss: 0.5515 - val_accuracy: 0.7485\n",
            "Epoch 51/300\n",
            "104/104 [==============================] - 0s 4ms/step - loss: 0.5510 - accuracy: 0.7460 - val_loss: 0.5515 - val_accuracy: 0.7485\n",
            "Epoch 52/300\n",
            "104/104 [==============================] - 0s 4ms/step - loss: 0.5511 - accuracy: 0.7460 - val_loss: 0.5514 - val_accuracy: 0.7485\n",
            "Epoch 53/300\n",
            "104/104 [==============================] - 0s 4ms/step - loss: 0.5510 - accuracy: 0.7460 - val_loss: 0.5514 - val_accuracy: 0.7485\n",
            "Epoch 54/300\n",
            "104/104 [==============================] - 0s 4ms/step - loss: 0.5510 - accuracy: 0.7460 - val_loss: 0.5520 - val_accuracy: 0.7485\n",
            "Epoch 55/300\n",
            "104/104 [==============================] - 0s 4ms/step - loss: 0.5510 - accuracy: 0.7460 - val_loss: 0.5516 - val_accuracy: 0.7485\n",
            "Epoch 56/300\n",
            "104/104 [==============================] - 0s 4ms/step - loss: 0.5508 - accuracy: 0.7460 - val_loss: 0.5513 - val_accuracy: 0.7485\n",
            "Epoch 57/300\n",
            "104/104 [==============================] - 0s 4ms/step - loss: 0.5510 - accuracy: 0.7460 - val_loss: 0.5513 - val_accuracy: 0.7489\n",
            "Epoch 58/300\n",
            "104/104 [==============================] - 0s 4ms/step - loss: 0.5509 - accuracy: 0.7461 - val_loss: 0.5514 - val_accuracy: 0.7489\n",
            "Epoch 59/300\n",
            "104/104 [==============================] - 0s 4ms/step - loss: 0.5510 - accuracy: 0.7461 - val_loss: 0.5516 - val_accuracy: 0.7489\n",
            "Epoch 60/300\n",
            "104/104 [==============================] - 0s 4ms/step - loss: 0.5509 - accuracy: 0.7463 - val_loss: 0.5521 - val_accuracy: 0.7485\n",
            "Epoch 61/300\n",
            "104/104 [==============================] - 0s 4ms/step - loss: 0.5511 - accuracy: 0.7461 - val_loss: 0.5513 - val_accuracy: 0.7489\n",
            "Epoch 62/300\n",
            "104/104 [==============================] - 0s 4ms/step - loss: 0.5509 - accuracy: 0.7463 - val_loss: 0.5517 - val_accuracy: 0.7489\n",
            "Epoch 63/300\n",
            "104/104 [==============================] - 0s 4ms/step - loss: 0.5510 - accuracy: 0.7463 - val_loss: 0.5514 - val_accuracy: 0.7489\n",
            "Epoch 64/300\n",
            "104/104 [==============================] - 0s 4ms/step - loss: 0.5509 - accuracy: 0.7463 - val_loss: 0.5513 - val_accuracy: 0.7489\n",
            "Epoch 65/300\n",
            "104/104 [==============================] - 0s 4ms/step - loss: 0.5510 - accuracy: 0.7463 - val_loss: 0.5514 - val_accuracy: 0.7489\n",
            "Epoch 66/300\n",
            "104/104 [==============================] - 0s 4ms/step - loss: 0.5508 - accuracy: 0.7463 - val_loss: 0.5514 - val_accuracy: 0.7489\n",
            "Epoch 67/300\n",
            "104/104 [==============================] - 0s 4ms/step - loss: 0.5510 - accuracy: 0.7463 - val_loss: 0.5522 - val_accuracy: 0.7489\n",
            "Epoch 68/300\n",
            "104/104 [==============================] - 0s 4ms/step - loss: 0.5509 - accuracy: 0.7463 - val_loss: 0.5516 - val_accuracy: 0.7489\n",
            "Epoch 69/300\n",
            "104/104 [==============================] - 0s 4ms/step - loss: 0.5509 - accuracy: 0.7463 - val_loss: 0.5514 - val_accuracy: 0.7489\n",
            "Epoch 70/300\n",
            "104/104 [==============================] - 0s 4ms/step - loss: 0.5508 - accuracy: 0.7463 - val_loss: 0.5513 - val_accuracy: 0.7489\n",
            "Epoch 71/300\n",
            "104/104 [==============================] - 0s 4ms/step - loss: 0.5510 - accuracy: 0.7463 - val_loss: 0.5513 - val_accuracy: 0.7489\n",
            "Epoch 72/300\n",
            "104/104 [==============================] - 0s 4ms/step - loss: 0.5508 - accuracy: 0.7463 - val_loss: 0.5521 - val_accuracy: 0.7489\n",
            "Epoch 73/300\n",
            "104/104 [==============================] - 1s 6ms/step - loss: 0.5509 - accuracy: 0.7464 - val_loss: 0.5513 - val_accuracy: 0.7489\n",
            "Epoch 74/300\n",
            "104/104 [==============================] - 1s 6ms/step - loss: 0.5510 - accuracy: 0.7465 - val_loss: 0.5512 - val_accuracy: 0.7491\n",
            "Epoch 75/300\n",
            "104/104 [==============================] - 1s 5ms/step - loss: 0.5507 - accuracy: 0.7464 - val_loss: 0.5511 - val_accuracy: 0.7491\n",
            "Epoch 76/300\n",
            "104/104 [==============================] - 1s 6ms/step - loss: 0.5508 - accuracy: 0.7465 - val_loss: 0.5512 - val_accuracy: 0.7491\n",
            "Epoch 77/300\n",
            "104/104 [==============================] - 1s 6ms/step - loss: 0.5508 - accuracy: 0.7465 - val_loss: 0.5511 - val_accuracy: 0.7491\n",
            "Epoch 78/300\n",
            "104/104 [==============================] - 1s 5ms/step - loss: 0.5509 - accuracy: 0.7466 - val_loss: 0.5512 - val_accuracy: 0.7491\n",
            "Epoch 79/300\n",
            "104/104 [==============================] - 0s 4ms/step - loss: 0.5508 - accuracy: 0.7466 - val_loss: 0.5519 - val_accuracy: 0.7491\n",
            "Epoch 80/300\n",
            "104/104 [==============================] - 0s 4ms/step - loss: 0.5507 - accuracy: 0.7466 - val_loss: 0.5511 - val_accuracy: 0.7491\n",
            "Epoch 81/300\n",
            "104/104 [==============================] - 0s 4ms/step - loss: 0.5507 - accuracy: 0.7466 - val_loss: 0.5519 - val_accuracy: 0.7491\n",
            "Epoch 82/300\n",
            "104/104 [==============================] - 0s 4ms/step - loss: 0.5510 - accuracy: 0.7466 - val_loss: 0.5510 - val_accuracy: 0.7491\n",
            "Epoch 83/300\n",
            "104/104 [==============================] - 0s 4ms/step - loss: 0.5509 - accuracy: 0.7466 - val_loss: 0.5517 - val_accuracy: 0.7491\n",
            "Epoch 84/300\n",
            "104/104 [==============================] - 0s 4ms/step - loss: 0.5508 - accuracy: 0.7466 - val_loss: 0.5514 - val_accuracy: 0.7491\n",
            "Epoch 85/300\n",
            "104/104 [==============================] - 0s 4ms/step - loss: 0.5508 - accuracy: 0.7466 - val_loss: 0.5510 - val_accuracy: 0.7491\n",
            "Epoch 86/300\n",
            "104/104 [==============================] - 0s 4ms/step - loss: 0.5508 - accuracy: 0.7466 - val_loss: 0.5511 - val_accuracy: 0.7491\n",
            "Epoch 87/300\n",
            "104/104 [==============================] - 0s 4ms/step - loss: 0.5507 - accuracy: 0.7466 - val_loss: 0.5511 - val_accuracy: 0.7491\n",
            "Epoch 88/300\n",
            "104/104 [==============================] - 0s 4ms/step - loss: 0.5507 - accuracy: 0.7466 - val_loss: 0.5511 - val_accuracy: 0.7491\n",
            "Epoch 89/300\n",
            "104/104 [==============================] - 0s 4ms/step - loss: 0.5506 - accuracy: 0.7466 - val_loss: 0.5510 - val_accuracy: 0.7491\n",
            "Epoch 90/300\n",
            "104/104 [==============================] - 0s 4ms/step - loss: 0.5507 - accuracy: 0.7466 - val_loss: 0.5510 - val_accuracy: 0.7491\n",
            "Epoch 91/300\n",
            "104/104 [==============================] - 0s 4ms/step - loss: 0.5507 - accuracy: 0.7466 - val_loss: 0.5516 - val_accuracy: 0.7491\n",
            "Epoch 92/300\n",
            "104/104 [==============================] - 0s 4ms/step - loss: 0.5506 - accuracy: 0.7466 - val_loss: 0.5510 - val_accuracy: 0.7491\n",
            "Epoch 93/300\n",
            "104/104 [==============================] - 0s 4ms/step - loss: 0.5507 - accuracy: 0.7466 - val_loss: 0.5518 - val_accuracy: 0.7491\n",
            "Epoch 94/300\n",
            "104/104 [==============================] - 0s 4ms/step - loss: 0.5507 - accuracy: 0.7466 - val_loss: 0.5509 - val_accuracy: 0.7491\n",
            "Epoch 95/300\n",
            "104/104 [==============================] - 0s 4ms/step - loss: 0.5507 - accuracy: 0.7466 - val_loss: 0.5511 - val_accuracy: 0.7491\n",
            "Epoch 96/300\n",
            "104/104 [==============================] - 0s 4ms/step - loss: 0.5507 - accuracy: 0.7466 - val_loss: 0.5519 - val_accuracy: 0.7491\n",
            "Epoch 97/300\n",
            "104/104 [==============================] - 0s 4ms/step - loss: 0.5507 - accuracy: 0.7466 - val_loss: 0.5509 - val_accuracy: 0.7491\n",
            "Epoch 98/300\n",
            "104/104 [==============================] - 0s 4ms/step - loss: 0.5507 - accuracy: 0.7466 - val_loss: 0.5509 - val_accuracy: 0.7491\n",
            "Epoch 99/300\n",
            "104/104 [==============================] - 0s 4ms/step - loss: 0.5507 - accuracy: 0.7466 - val_loss: 0.5515 - val_accuracy: 0.7491\n",
            "Epoch 100/300\n",
            "104/104 [==============================] - 0s 4ms/step - loss: 0.5506 - accuracy: 0.7466 - val_loss: 0.5514 - val_accuracy: 0.7491\n",
            "Epoch 101/300\n",
            "104/104 [==============================] - 0s 4ms/step - loss: 0.5507 - accuracy: 0.7466 - val_loss: 0.5509 - val_accuracy: 0.7491\n",
            "Epoch 102/300\n",
            "104/104 [==============================] - 0s 4ms/step - loss: 0.5506 - accuracy: 0.7467 - val_loss: 0.5526 - val_accuracy: 0.7491\n",
            "Epoch 103/300\n",
            "104/104 [==============================] - 1s 6ms/step - loss: 0.5508 - accuracy: 0.7466 - val_loss: 0.5510 - val_accuracy: 0.7491\n",
            "Epoch 104/300\n",
            "104/104 [==============================] - 1s 5ms/step - loss: 0.5505 - accuracy: 0.7467 - val_loss: 0.5519 - val_accuracy: 0.7491\n",
            "Epoch 105/300\n",
            "104/104 [==============================] - 1s 5ms/step - loss: 0.5507 - accuracy: 0.7467 - val_loss: 0.5514 - val_accuracy: 0.7491\n",
            "Epoch 106/300\n",
            "104/104 [==============================] - 1s 5ms/step - loss: 0.5507 - accuracy: 0.7467 - val_loss: 0.5509 - val_accuracy: 0.7491\n",
            "Epoch 107/300\n",
            "104/104 [==============================] - 1s 6ms/step - loss: 0.5506 - accuracy: 0.7467 - val_loss: 0.5517 - val_accuracy: 0.7491\n",
            "Epoch 108/300\n",
            "104/104 [==============================] - 1s 6ms/step - loss: 0.5506 - accuracy: 0.7467 - val_loss: 0.5514 - val_accuracy: 0.7491\n",
            "Epoch 109/300\n",
            "104/104 [==============================] - 0s 4ms/step - loss: 0.5507 - accuracy: 0.7467 - val_loss: 0.5509 - val_accuracy: 0.7491\n",
            "Epoch 110/300\n",
            "104/104 [==============================] - 0s 4ms/step - loss: 0.5506 - accuracy: 0.7467 - val_loss: 0.5509 - val_accuracy: 0.7491\n",
            "Epoch 111/300\n",
            "104/104 [==============================] - 0s 4ms/step - loss: 0.5506 - accuracy: 0.7467 - val_loss: 0.5508 - val_accuracy: 0.7491\n",
            "Epoch 112/300\n",
            "104/104 [==============================] - 0s 4ms/step - loss: 0.5506 - accuracy: 0.7467 - val_loss: 0.5510 - val_accuracy: 0.7491\n",
            "Epoch 113/300\n",
            "104/104 [==============================] - 0s 4ms/step - loss: 0.5506 - accuracy: 0.7467 - val_loss: 0.5511 - val_accuracy: 0.7491\n",
            "Epoch 114/300\n",
            "104/104 [==============================] - 0s 4ms/step - loss: 0.5505 - accuracy: 0.7467 - val_loss: 0.5508 - val_accuracy: 0.7494\n",
            "Epoch 115/300\n",
            "104/104 [==============================] - 0s 4ms/step - loss: 0.5506 - accuracy: 0.7467 - val_loss: 0.5508 - val_accuracy: 0.7494\n",
            "Epoch 116/300\n",
            "104/104 [==============================] - 0s 4ms/step - loss: 0.5505 - accuracy: 0.7467 - val_loss: 0.5515 - val_accuracy: 0.7491\n",
            "Epoch 117/300\n",
            "104/104 [==============================] - 0s 4ms/step - loss: 0.5507 - accuracy: 0.7467 - val_loss: 0.5508 - val_accuracy: 0.7494\n",
            "Epoch 118/300\n",
            "104/104 [==============================] - 0s 4ms/step - loss: 0.5506 - accuracy: 0.7468 - val_loss: 0.5515 - val_accuracy: 0.7491\n",
            "Epoch 119/300\n",
            "104/104 [==============================] - 0s 4ms/step - loss: 0.5506 - accuracy: 0.7468 - val_loss: 0.5510 - val_accuracy: 0.7494\n",
            "Epoch 120/300\n",
            "104/104 [==============================] - 0s 4ms/step - loss: 0.5505 - accuracy: 0.7468 - val_loss: 0.5515 - val_accuracy: 0.7491\n",
            "Epoch 121/300\n",
            "104/104 [==============================] - 0s 4ms/step - loss: 0.5506 - accuracy: 0.7467 - val_loss: 0.5511 - val_accuracy: 0.7494\n",
            "Epoch 122/300\n",
            "104/104 [==============================] - 0s 4ms/step - loss: 0.5505 - accuracy: 0.7468 - val_loss: 0.5508 - val_accuracy: 0.7494\n",
            "Epoch 123/300\n",
            "104/104 [==============================] - 0s 4ms/step - loss: 0.5505 - accuracy: 0.7468 - val_loss: 0.5508 - val_accuracy: 0.7494\n",
            "Epoch 124/300\n",
            "104/104 [==============================] - 0s 4ms/step - loss: 0.5505 - accuracy: 0.7468 - val_loss: 0.5507 - val_accuracy: 0.7494\n",
            "Epoch 125/300\n",
            "104/104 [==============================] - 0s 4ms/step - loss: 0.5505 - accuracy: 0.7468 - val_loss: 0.5509 - val_accuracy: 0.7494\n",
            "Epoch 126/300\n",
            "104/104 [==============================] - 0s 4ms/step - loss: 0.5504 - accuracy: 0.7468 - val_loss: 0.5508 - val_accuracy: 0.7494\n",
            "Epoch 127/300\n",
            "104/104 [==============================] - 0s 4ms/step - loss: 0.5506 - accuracy: 0.7468 - val_loss: 0.5509 - val_accuracy: 0.7494\n",
            "Epoch 128/300\n",
            "104/104 [==============================] - 0s 4ms/step - loss: 0.5506 - accuracy: 0.7468 - val_loss: 0.5509 - val_accuracy: 0.7494\n",
            "Epoch 129/300\n",
            "104/104 [==============================] - 0s 4ms/step - loss: 0.5505 - accuracy: 0.7468 - val_loss: 0.5509 - val_accuracy: 0.7494\n",
            "Epoch 130/300\n",
            "104/104 [==============================] - 0s 4ms/step - loss: 0.5505 - accuracy: 0.7468 - val_loss: 0.5511 - val_accuracy: 0.7494\n",
            "Epoch 131/300\n",
            "104/104 [==============================] - 0s 4ms/step - loss: 0.5505 - accuracy: 0.7468 - val_loss: 0.5509 - val_accuracy: 0.7494\n",
            "Epoch 132/300\n",
            "104/104 [==============================] - 0s 4ms/step - loss: 0.5505 - accuracy: 0.7468 - val_loss: 0.5508 - val_accuracy: 0.7494\n",
            "Epoch 133/300\n",
            "104/104 [==============================] - 1s 5ms/step - loss: 0.5504 - accuracy: 0.7468 - val_loss: 0.5508 - val_accuracy: 0.7494\n",
            "Epoch 134/300\n",
            "104/104 [==============================] - 1s 6ms/step - loss: 0.5505 - accuracy: 0.7468 - val_loss: 0.5508 - val_accuracy: 0.7494\n",
            "Epoch 135/300\n",
            "104/104 [==============================] - 1s 6ms/step - loss: 0.5505 - accuracy: 0.7468 - val_loss: 0.5510 - val_accuracy: 0.7494\n",
            "Epoch 136/300\n",
            "104/104 [==============================] - 1s 6ms/step - loss: 0.5504 - accuracy: 0.7468 - val_loss: 0.5508 - val_accuracy: 0.7494\n",
            "Epoch 137/300\n",
            "104/104 [==============================] - 1s 6ms/step - loss: 0.5505 - accuracy: 0.7468 - val_loss: 0.5509 - val_accuracy: 0.7494\n",
            "Epoch 138/300\n",
            "104/104 [==============================] - 1s 6ms/step - loss: 0.5506 - accuracy: 0.7468 - val_loss: 0.5507 - val_accuracy: 0.7494\n",
            "Epoch 139/300\n",
            "104/104 [==============================] - 0s 4ms/step - loss: 0.5505 - accuracy: 0.7468 - val_loss: 0.5507 - val_accuracy: 0.7494\n",
            "Epoch 140/300\n",
            "104/104 [==============================] - 0s 4ms/step - loss: 0.5505 - accuracy: 0.7468 - val_loss: 0.5517 - val_accuracy: 0.7494\n",
            "Epoch 141/300\n",
            "104/104 [==============================] - 0s 4ms/step - loss: 0.5504 - accuracy: 0.7468 - val_loss: 0.5507 - val_accuracy: 0.7494\n",
            "Epoch 142/300\n",
            "104/104 [==============================] - 0s 4ms/step - loss: 0.5503 - accuracy: 0.7468 - val_loss: 0.5507 - val_accuracy: 0.7494\n",
            "Epoch 143/300\n",
            "104/104 [==============================] - 0s 4ms/step - loss: 0.5505 - accuracy: 0.7468 - val_loss: 0.5506 - val_accuracy: 0.7494\n",
            "Epoch 144/300\n",
            "104/104 [==============================] - 0s 4ms/step - loss: 0.5505 - accuracy: 0.7468 - val_loss: 0.5509 - val_accuracy: 0.7494\n",
            "Epoch 145/300\n",
            "104/104 [==============================] - 0s 4ms/step - loss: 0.5506 - accuracy: 0.7468 - val_loss: 0.5517 - val_accuracy: 0.7494\n",
            "Epoch 146/300\n",
            "104/104 [==============================] - 0s 4ms/step - loss: 0.5504 - accuracy: 0.7468 - val_loss: 0.5507 - val_accuracy: 0.7494\n",
            "Epoch 147/300\n",
            "104/104 [==============================] - 0s 4ms/step - loss: 0.5504 - accuracy: 0.7468 - val_loss: 0.5508 - val_accuracy: 0.7494\n",
            "Epoch 148/300\n",
            "104/104 [==============================] - 0s 4ms/step - loss: 0.5503 - accuracy: 0.7468 - val_loss: 0.5506 - val_accuracy: 0.7494\n",
            "Epoch 149/300\n",
            "104/104 [==============================] - 0s 4ms/step - loss: 0.5504 - accuracy: 0.7468 - val_loss: 0.5517 - val_accuracy: 0.7494\n",
            "Epoch 150/300\n",
            "104/104 [==============================] - 0s 4ms/step - loss: 0.5504 - accuracy: 0.7468 - val_loss: 0.5508 - val_accuracy: 0.7494\n",
            "Epoch 151/300\n",
            "104/104 [==============================] - 0s 4ms/step - loss: 0.5506 - accuracy: 0.7468 - val_loss: 0.5507 - val_accuracy: 0.7494\n",
            "Epoch 152/300\n",
            "104/104 [==============================] - 0s 4ms/step - loss: 0.5505 - accuracy: 0.7468 - val_loss: 0.5506 - val_accuracy: 0.7494\n",
            "Epoch 153/300\n",
            "104/104 [==============================] - 0s 4ms/step - loss: 0.5504 - accuracy: 0.7468 - val_loss: 0.5510 - val_accuracy: 0.7494\n",
            "Epoch 154/300\n",
            "104/104 [==============================] - 0s 4ms/step - loss: 0.5504 - accuracy: 0.7468 - val_loss: 0.5511 - val_accuracy: 0.7494\n",
            "Epoch 155/300\n",
            "104/104 [==============================] - 0s 4ms/step - loss: 0.5504 - accuracy: 0.7468 - val_loss: 0.5507 - val_accuracy: 0.7494\n",
            "Epoch 156/300\n",
            "104/104 [==============================] - 0s 4ms/step - loss: 0.5504 - accuracy: 0.7468 - val_loss: 0.5506 - val_accuracy: 0.7494\n",
            "Epoch 157/300\n",
            "104/104 [==============================] - 0s 4ms/step - loss: 0.5504 - accuracy: 0.7468 - val_loss: 0.5507 - val_accuracy: 0.7494\n",
            "Epoch 158/300\n",
            "104/104 [==============================] - 0s 4ms/step - loss: 0.5504 - accuracy: 0.7468 - val_loss: 0.5507 - val_accuracy: 0.7494\n",
            "Epoch 159/300\n",
            "104/104 [==============================] - 0s 4ms/step - loss: 0.5505 - accuracy: 0.7468 - val_loss: 0.5507 - val_accuracy: 0.7494\n",
            "Epoch 160/300\n",
            "104/104 [==============================] - 0s 4ms/step - loss: 0.5504 - accuracy: 0.7468 - val_loss: 0.5507 - val_accuracy: 0.7494\n",
            "Epoch 161/300\n",
            "104/104 [==============================] - 0s 4ms/step - loss: 0.5503 - accuracy: 0.7468 - val_loss: 0.5506 - val_accuracy: 0.7494\n",
            "Epoch 162/300\n",
            "104/104 [==============================] - 0s 4ms/step - loss: 0.5504 - accuracy: 0.7468 - val_loss: 0.5507 - val_accuracy: 0.7494\n",
            "Epoch 163/300\n",
            "104/104 [==============================] - 1s 6ms/step - loss: 0.5506 - accuracy: 0.7468 - val_loss: 0.5509 - val_accuracy: 0.7494\n",
            "Epoch 164/300\n",
            "104/104 [==============================] - 1s 6ms/step - loss: 0.5503 - accuracy: 0.7468 - val_loss: 0.5506 - val_accuracy: 0.7494\n",
            "Epoch 165/300\n",
            "104/104 [==============================] - 1s 6ms/step - loss: 0.5505 - accuracy: 0.7468 - val_loss: 0.5506 - val_accuracy: 0.7494\n",
            "Epoch 166/300\n",
            "104/104 [==============================] - 1s 6ms/step - loss: 0.5503 - accuracy: 0.7468 - val_loss: 0.5505 - val_accuracy: 0.7494\n",
            "Epoch 167/300\n",
            "104/104 [==============================] - 1s 6ms/step - loss: 0.5504 - accuracy: 0.7468 - val_loss: 0.5510 - val_accuracy: 0.7494\n",
            "Epoch 168/300\n",
            "104/104 [==============================] - 1s 5ms/step - loss: 0.5504 - accuracy: 0.7468 - val_loss: 0.5507 - val_accuracy: 0.7494\n",
            "Epoch 169/300\n",
            "104/104 [==============================] - 0s 4ms/step - loss: 0.5504 - accuracy: 0.7468 - val_loss: 0.5507 - val_accuracy: 0.7494\n",
            "Epoch 170/300\n",
            "104/104 [==============================] - 0s 4ms/step - loss: 0.5504 - accuracy: 0.7468 - val_loss: 0.5506 - val_accuracy: 0.7494\n",
            "Epoch 171/300\n",
            "104/104 [==============================] - 0s 4ms/step - loss: 0.5503 - accuracy: 0.7468 - val_loss: 0.5506 - val_accuracy: 0.7494\n",
            "Epoch 172/300\n",
            "104/104 [==============================] - 0s 4ms/step - loss: 0.5503 - accuracy: 0.7468 - val_loss: 0.5508 - val_accuracy: 0.7494\n",
            "Epoch 173/300\n",
            "104/104 [==============================] - 0s 4ms/step - loss: 0.5504 - accuracy: 0.7468 - val_loss: 0.5506 - val_accuracy: 0.7494\n",
            "Epoch 174/300\n",
            "104/104 [==============================] - 0s 4ms/step - loss: 0.5504 - accuracy: 0.7468 - val_loss: 0.5516 - val_accuracy: 0.7494\n",
            "Epoch 175/300\n",
            "104/104 [==============================] - 0s 4ms/step - loss: 0.5504 - accuracy: 0.7468 - val_loss: 0.5507 - val_accuracy: 0.7494\n",
            "Epoch 176/300\n",
            "104/104 [==============================] - 0s 4ms/step - loss: 0.5503 - accuracy: 0.7468 - val_loss: 0.5506 - val_accuracy: 0.7494\n",
            "Epoch 177/300\n",
            "104/104 [==============================] - 0s 4ms/step - loss: 0.5504 - accuracy: 0.7468 - val_loss: 0.5524 - val_accuracy: 0.7494\n",
            "Epoch 178/300\n",
            "104/104 [==============================] - 0s 4ms/step - loss: 0.5504 - accuracy: 0.7468 - val_loss: 0.5505 - val_accuracy: 0.7494\n",
            "Epoch 179/300\n",
            "104/104 [==============================] - 0s 4ms/step - loss: 0.5503 - accuracy: 0.7468 - val_loss: 0.5507 - val_accuracy: 0.7494\n",
            "Epoch 180/300\n",
            "104/104 [==============================] - 0s 4ms/step - loss: 0.5503 - accuracy: 0.7468 - val_loss: 0.5505 - val_accuracy: 0.7494\n",
            "Epoch 181/300\n",
            "104/104 [==============================] - 0s 4ms/step - loss: 0.5503 - accuracy: 0.7468 - val_loss: 0.5505 - val_accuracy: 0.7494\n",
            "Epoch 182/300\n",
            "104/104 [==============================] - 0s 4ms/step - loss: 0.5504 - accuracy: 0.7468 - val_loss: 0.5505 - val_accuracy: 0.7494\n",
            "Epoch 183/300\n",
            "104/104 [==============================] - 0s 4ms/step - loss: 0.5503 - accuracy: 0.7468 - val_loss: 0.5509 - val_accuracy: 0.7494\n",
            "Epoch 184/300\n",
            "104/104 [==============================] - 0s 4ms/step - loss: 0.5503 - accuracy: 0.7468 - val_loss: 0.5506 - val_accuracy: 0.7494\n",
            "Epoch 185/300\n",
            "104/104 [==============================] - 0s 4ms/step - loss: 0.5503 - accuracy: 0.7468 - val_loss: 0.5506 - val_accuracy: 0.7494\n",
            "Epoch 186/300\n",
            "104/104 [==============================] - 0s 4ms/step - loss: 0.5504 - accuracy: 0.7468 - val_loss: 0.5505 - val_accuracy: 0.7494\n",
            "Epoch 187/300\n",
            "104/104 [==============================] - 0s 4ms/step - loss: 0.5502 - accuracy: 0.7468 - val_loss: 0.5511 - val_accuracy: 0.7494\n",
            "Epoch 188/300\n",
            "104/104 [==============================] - 0s 4ms/step - loss: 0.5503 - accuracy: 0.7468 - val_loss: 0.5505 - val_accuracy: 0.7494\n",
            "Epoch 189/300\n",
            "104/104 [==============================] - 0s 4ms/step - loss: 0.5503 - accuracy: 0.7468 - val_loss: 0.5505 - val_accuracy: 0.7494\n",
            "Epoch 190/300\n",
            "104/104 [==============================] - 0s 4ms/step - loss: 0.5503 - accuracy: 0.7468 - val_loss: 0.5505 - val_accuracy: 0.7494\n",
            "Epoch 191/300\n",
            "104/104 [==============================] - 0s 4ms/step - loss: 0.5503 - accuracy: 0.7468 - val_loss: 0.5505 - val_accuracy: 0.7494\n",
            "Epoch 192/300\n",
            "104/104 [==============================] - 1s 5ms/step - loss: 0.5504 - accuracy: 0.7468 - val_loss: 0.5505 - val_accuracy: 0.7494\n",
            "Epoch 193/300\n",
            "104/104 [==============================] - 1s 6ms/step - loss: 0.5503 - accuracy: 0.7468 - val_loss: 0.5505 - val_accuracy: 0.7494\n",
            "Epoch 194/300\n",
            "104/104 [==============================] - 1s 6ms/step - loss: 0.5502 - accuracy: 0.7468 - val_loss: 0.5506 - val_accuracy: 0.7494\n",
            "Epoch 195/300\n",
            "104/104 [==============================] - 1s 6ms/step - loss: 0.5502 - accuracy: 0.7468 - val_loss: 0.5507 - val_accuracy: 0.7494\n",
            "Epoch 196/300\n",
            "104/104 [==============================] - 1s 6ms/step - loss: 0.5503 - accuracy: 0.7468 - val_loss: 0.5505 - val_accuracy: 0.7494\n",
            "Epoch 197/300\n",
            "104/104 [==============================] - 1s 5ms/step - loss: 0.5503 - accuracy: 0.7468 - val_loss: 0.5513 - val_accuracy: 0.7494\n",
            "Epoch 198/300\n",
            "104/104 [==============================] - 0s 4ms/step - loss: 0.5502 - accuracy: 0.7468 - val_loss: 0.5505 - val_accuracy: 0.7494\n",
            "Epoch 199/300\n",
            "104/104 [==============================] - 0s 4ms/step - loss: 0.5503 - accuracy: 0.7468 - val_loss: 0.5512 - val_accuracy: 0.7494\n",
            "Epoch 200/300\n",
            "104/104 [==============================] - 0s 4ms/step - loss: 0.5504 - accuracy: 0.7468 - val_loss: 0.5513 - val_accuracy: 0.7494\n",
            "Epoch 201/300\n",
            "104/104 [==============================] - 0s 4ms/step - loss: 0.5503 - accuracy: 0.7468 - val_loss: 0.5509 - val_accuracy: 0.7494\n",
            "Epoch 202/300\n",
            "104/104 [==============================] - 0s 4ms/step - loss: 0.5503 - accuracy: 0.7468 - val_loss: 0.5517 - val_accuracy: 0.7494\n",
            "Epoch 203/300\n",
            "104/104 [==============================] - 0s 4ms/step - loss: 0.5503 - accuracy: 0.7468 - val_loss: 0.5519 - val_accuracy: 0.7494\n",
            "Epoch 204/300\n",
            "104/104 [==============================] - 0s 4ms/step - loss: 0.5503 - accuracy: 0.7468 - val_loss: 0.5505 - val_accuracy: 0.7494\n",
            "Epoch 205/300\n",
            "104/104 [==============================] - 0s 4ms/step - loss: 0.5504 - accuracy: 0.7468 - val_loss: 0.5506 - val_accuracy: 0.7494\n",
            "Epoch 206/300\n",
            "104/104 [==============================] - 0s 4ms/step - loss: 0.5503 - accuracy: 0.7469 - val_loss: 0.5507 - val_accuracy: 0.7494\n",
            "Epoch 207/300\n",
            "104/104 [==============================] - 0s 4ms/step - loss: 0.5502 - accuracy: 0.7468 - val_loss: 0.5505 - val_accuracy: 0.7494\n",
            "Epoch 208/300\n",
            "104/104 [==============================] - 0s 4ms/step - loss: 0.5504 - accuracy: 0.7469 - val_loss: 0.5506 - val_accuracy: 0.7494\n",
            "Epoch 209/300\n",
            "104/104 [==============================] - 0s 4ms/step - loss: 0.5503 - accuracy: 0.7469 - val_loss: 0.5504 - val_accuracy: 0.7494\n",
            "Epoch 210/300\n",
            "104/104 [==============================] - 0s 4ms/step - loss: 0.5503 - accuracy: 0.7468 - val_loss: 0.5504 - val_accuracy: 0.7494\n",
            "Epoch 211/300\n",
            "104/104 [==============================] - 0s 4ms/step - loss: 0.5504 - accuracy: 0.7469 - val_loss: 0.5508 - val_accuracy: 0.7494\n",
            "Epoch 212/300\n",
            "104/104 [==============================] - 0s 4ms/step - loss: 0.5503 - accuracy: 0.7469 - val_loss: 0.5506 - val_accuracy: 0.7494\n",
            "Epoch 213/300\n",
            "104/104 [==============================] - 0s 4ms/step - loss: 0.5503 - accuracy: 0.7469 - val_loss: 0.5510 - val_accuracy: 0.7494\n",
            "Epoch 214/300\n",
            "104/104 [==============================] - 0s 4ms/step - loss: 0.5502 - accuracy: 0.7469 - val_loss: 0.5504 - val_accuracy: 0.7494\n",
            "Epoch 215/300\n",
            "104/104 [==============================] - 0s 4ms/step - loss: 0.5503 - accuracy: 0.7469 - val_loss: 0.5505 - val_accuracy: 0.7494\n",
            "Epoch 216/300\n",
            "104/104 [==============================] - 0s 4ms/step - loss: 0.5502 - accuracy: 0.7469 - val_loss: 0.5505 - val_accuracy: 0.7494\n",
            "Epoch 217/300\n",
            "104/104 [==============================] - 0s 4ms/step - loss: 0.5502 - accuracy: 0.7469 - val_loss: 0.5513 - val_accuracy: 0.7494\n",
            "Epoch 218/300\n",
            "104/104 [==============================] - 0s 4ms/step - loss: 0.5502 - accuracy: 0.7469 - val_loss: 0.5505 - val_accuracy: 0.7494\n",
            "Epoch 219/300\n",
            "104/104 [==============================] - 0s 4ms/step - loss: 0.5503 - accuracy: 0.7469 - val_loss: 0.5505 - val_accuracy: 0.7494\n",
            "Epoch 220/300\n",
            "104/104 [==============================] - 0s 4ms/step - loss: 0.5502 - accuracy: 0.7469 - val_loss: 0.5504 - val_accuracy: 0.7494\n",
            "Epoch 221/300\n",
            "104/104 [==============================] - 0s 4ms/step - loss: 0.5502 - accuracy: 0.7469 - val_loss: 0.5511 - val_accuracy: 0.7494\n",
            "Epoch 222/300\n",
            "104/104 [==============================] - 1s 5ms/step - loss: 0.5502 - accuracy: 0.7469 - val_loss: 0.5507 - val_accuracy: 0.7494\n",
            "Epoch 223/300\n",
            "104/104 [==============================] - 1s 5ms/step - loss: 0.5502 - accuracy: 0.7469 - val_loss: 0.5524 - val_accuracy: 0.7494\n",
            "Epoch 224/300\n",
            "104/104 [==============================] - 1s 6ms/step - loss: 0.5504 - accuracy: 0.7469 - val_loss: 0.5504 - val_accuracy: 0.7494\n",
            "Epoch 225/300\n",
            "104/104 [==============================] - 1s 5ms/step - loss: 0.5502 - accuracy: 0.7469 - val_loss: 0.5504 - val_accuracy: 0.7494\n",
            "Epoch 226/300\n",
            "104/104 [==============================] - 1s 6ms/step - loss: 0.5501 - accuracy: 0.7469 - val_loss: 0.5504 - val_accuracy: 0.7494\n",
            "Epoch 227/300\n",
            "104/104 [==============================] - 1s 5ms/step - loss: 0.5503 - accuracy: 0.7469 - val_loss: 0.5506 - val_accuracy: 0.7494\n",
            "Epoch 228/300\n",
            "104/104 [==============================] - 1s 5ms/step - loss: 0.5502 - accuracy: 0.7469 - val_loss: 0.5509 - val_accuracy: 0.7494\n",
            "Epoch 229/300\n",
            "104/104 [==============================] - 0s 4ms/step - loss: 0.5503 - accuracy: 0.7469 - val_loss: 0.5505 - val_accuracy: 0.7494\n",
            "Epoch 230/300\n",
            "104/104 [==============================] - 0s 4ms/step - loss: 0.5502 - accuracy: 0.7469 - val_loss: 0.5504 - val_accuracy: 0.7494\n",
            "Epoch 231/300\n",
            "104/104 [==============================] - 0s 4ms/step - loss: 0.5503 - accuracy: 0.7469 - val_loss: 0.5504 - val_accuracy: 0.7495\n",
            "Epoch 232/300\n",
            "104/104 [==============================] - 0s 4ms/step - loss: 0.5501 - accuracy: 0.7469 - val_loss: 0.5507 - val_accuracy: 0.7494\n",
            "Epoch 233/300\n",
            "104/104 [==============================] - 0s 4ms/step - loss: 0.5502 - accuracy: 0.7469 - val_loss: 0.5506 - val_accuracy: 0.7495\n",
            "Epoch 234/300\n",
            "104/104 [==============================] - 0s 4ms/step - loss: 0.5501 - accuracy: 0.7469 - val_loss: 0.5505 - val_accuracy: 0.7494\n",
            "Epoch 235/300\n",
            "104/104 [==============================] - 0s 4ms/step - loss: 0.5502 - accuracy: 0.7469 - val_loss: 0.5506 - val_accuracy: 0.7494\n",
            "Epoch 236/300\n",
            "104/104 [==============================] - 0s 4ms/step - loss: 0.5503 - accuracy: 0.7469 - val_loss: 0.5519 - val_accuracy: 0.7494\n",
            "Epoch 237/300\n",
            "104/104 [==============================] - 0s 4ms/step - loss: 0.5502 - accuracy: 0.7469 - val_loss: 0.5504 - val_accuracy: 0.7495\n",
            "Epoch 238/300\n",
            "104/104 [==============================] - 0s 4ms/step - loss: 0.5502 - accuracy: 0.7469 - val_loss: 0.5504 - val_accuracy: 0.7495\n",
            "Epoch 239/300\n",
            "104/104 [==============================] - 0s 4ms/step - loss: 0.5502 - accuracy: 0.7469 - val_loss: 0.5504 - val_accuracy: 0.7495\n",
            "Epoch 240/300\n",
            "104/104 [==============================] - 0s 4ms/step - loss: 0.5503 - accuracy: 0.7469 - val_loss: 0.5504 - val_accuracy: 0.7495\n",
            "Epoch 241/300\n",
            "104/104 [==============================] - 0s 4ms/step - loss: 0.5502 - accuracy: 0.7469 - val_loss: 0.5505 - val_accuracy: 0.7495\n",
            "Epoch 242/300\n",
            "104/104 [==============================] - 0s 4ms/step - loss: 0.5501 - accuracy: 0.7469 - val_loss: 0.5505 - val_accuracy: 0.7495\n",
            "Epoch 243/300\n",
            "104/104 [==============================] - 0s 4ms/step - loss: 0.5502 - accuracy: 0.7469 - val_loss: 0.5504 - val_accuracy: 0.7495\n",
            "Epoch 244/300\n",
            "104/104 [==============================] - 0s 4ms/step - loss: 0.5502 - accuracy: 0.7469 - val_loss: 0.5511 - val_accuracy: 0.7495\n",
            "Epoch 245/300\n",
            "104/104 [==============================] - 0s 4ms/step - loss: 0.5503 - accuracy: 0.7469 - val_loss: 0.5504 - val_accuracy: 0.7495\n",
            "Epoch 246/300\n",
            "104/104 [==============================] - 0s 4ms/step - loss: 0.5501 - accuracy: 0.7469 - val_loss: 0.5503 - val_accuracy: 0.7495\n",
            "Epoch 247/300\n",
            "104/104 [==============================] - 0s 4ms/step - loss: 0.5501 - accuracy: 0.7469 - val_loss: 0.5503 - val_accuracy: 0.7495\n",
            "Epoch 248/300\n",
            "104/104 [==============================] - 0s 4ms/step - loss: 0.5501 - accuracy: 0.7469 - val_loss: 0.5503 - val_accuracy: 0.7495\n",
            "Epoch 249/300\n",
            "104/104 [==============================] - 0s 4ms/step - loss: 0.5501 - accuracy: 0.7469 - val_loss: 0.5504 - val_accuracy: 0.7495\n",
            "Epoch 250/300\n",
            "104/104 [==============================] - 0s 4ms/step - loss: 0.5501 - accuracy: 0.7469 - val_loss: 0.5504 - val_accuracy: 0.7495\n",
            "Epoch 251/300\n",
            "104/104 [==============================] - 0s 4ms/step - loss: 0.5502 - accuracy: 0.7469 - val_loss: 0.5503 - val_accuracy: 0.7495\n",
            "Epoch 252/300\n",
            "104/104 [==============================] - 0s 5ms/step - loss: 0.5502 - accuracy: 0.7469 - val_loss: 0.5503 - val_accuracy: 0.7495\n",
            "Epoch 253/300\n",
            "104/104 [==============================] - 1s 6ms/step - loss: 0.5502 - accuracy: 0.7469 - val_loss: 0.5503 - val_accuracy: 0.7495\n",
            "Epoch 254/300\n",
            "104/104 [==============================] - 1s 6ms/step - loss: 0.5502 - accuracy: 0.7469 - val_loss: 0.5504 - val_accuracy: 0.7495\n",
            "Epoch 255/300\n",
            "104/104 [==============================] - 1s 6ms/step - loss: 0.5503 - accuracy: 0.7469 - val_loss: 0.5508 - val_accuracy: 0.7495\n",
            "Epoch 256/300\n",
            "104/104 [==============================] - 1s 6ms/step - loss: 0.5501 - accuracy: 0.7469 - val_loss: 0.5503 - val_accuracy: 0.7495\n",
            "Epoch 257/300\n",
            "104/104 [==============================] - 1s 5ms/step - loss: 0.5503 - accuracy: 0.7469 - val_loss: 0.5504 - val_accuracy: 0.7495\n",
            "Epoch 258/300\n",
            "104/104 [==============================] - 0s 5ms/step - loss: 0.5501 - accuracy: 0.7469 - val_loss: 0.5503 - val_accuracy: 0.7495\n",
            "Epoch 259/300\n",
            "104/104 [==============================] - 0s 4ms/step - loss: 0.5502 - accuracy: 0.7469 - val_loss: 0.5504 - val_accuracy: 0.7495\n",
            "Epoch 260/300\n",
            "104/104 [==============================] - 0s 4ms/step - loss: 0.5501 - accuracy: 0.7469 - val_loss: 0.5516 - val_accuracy: 0.7495\n",
            "Epoch 261/300\n",
            "104/104 [==============================] - 0s 4ms/step - loss: 0.5502 - accuracy: 0.7469 - val_loss: 0.5506 - val_accuracy: 0.7495\n",
            "Epoch 262/300\n",
            "104/104 [==============================] - 0s 4ms/step - loss: 0.5502 - accuracy: 0.7469 - val_loss: 0.5503 - val_accuracy: 0.7495\n",
            "Epoch 263/300\n",
            "104/104 [==============================] - 0s 4ms/step - loss: 0.5502 - accuracy: 0.7469 - val_loss: 0.5513 - val_accuracy: 0.7495\n",
            "Epoch 264/300\n",
            "104/104 [==============================] - 0s 4ms/step - loss: 0.5501 - accuracy: 0.7469 - val_loss: 0.5503 - val_accuracy: 0.7495\n",
            "Epoch 265/300\n",
            "104/104 [==============================] - 0s 4ms/step - loss: 0.5502 - accuracy: 0.7469 - val_loss: 0.5508 - val_accuracy: 0.7495\n",
            "Epoch 266/300\n",
            "104/104 [==============================] - 0s 4ms/step - loss: 0.5501 - accuracy: 0.7469 - val_loss: 0.5503 - val_accuracy: 0.7495\n",
            "Epoch 267/300\n",
            "104/104 [==============================] - 0s 4ms/step - loss: 0.5501 - accuracy: 0.7469 - val_loss: 0.5507 - val_accuracy: 0.7495\n",
            "Epoch 268/300\n",
            "104/104 [==============================] - 0s 4ms/step - loss: 0.5501 - accuracy: 0.7469 - val_loss: 0.5506 - val_accuracy: 0.7495\n",
            "Epoch 269/300\n",
            "104/104 [==============================] - 0s 4ms/step - loss: 0.5501 - accuracy: 0.7469 - val_loss: 0.5516 - val_accuracy: 0.7495\n",
            "Epoch 270/300\n",
            "104/104 [==============================] - 0s 4ms/step - loss: 0.5502 - accuracy: 0.7469 - val_loss: 0.5507 - val_accuracy: 0.7495\n",
            "Epoch 271/300\n",
            "104/104 [==============================] - 0s 4ms/step - loss: 0.5502 - accuracy: 0.7469 - val_loss: 0.5503 - val_accuracy: 0.7495\n",
            "Epoch 272/300\n",
            "104/104 [==============================] - 0s 4ms/step - loss: 0.5501 - accuracy: 0.7469 - val_loss: 0.5504 - val_accuracy: 0.7495\n",
            "Epoch 273/300\n",
            "104/104 [==============================] - 0s 4ms/step - loss: 0.5501 - accuracy: 0.7469 - val_loss: 0.5504 - val_accuracy: 0.7495\n",
            "Epoch 274/300\n",
            "104/104 [==============================] - 0s 4ms/step - loss: 0.5501 - accuracy: 0.7469 - val_loss: 0.5503 - val_accuracy: 0.7495\n",
            "Epoch 275/300\n",
            "104/104 [==============================] - 0s 4ms/step - loss: 0.5500 - accuracy: 0.7469 - val_loss: 0.5503 - val_accuracy: 0.7495\n",
            "Epoch 276/300\n",
            "104/104 [==============================] - 0s 4ms/step - loss: 0.5502 - accuracy: 0.7469 - val_loss: 0.5513 - val_accuracy: 0.7495\n",
            "Epoch 277/300\n",
            "104/104 [==============================] - 0s 4ms/step - loss: 0.5503 - accuracy: 0.7469 - val_loss: 0.5505 - val_accuracy: 0.7495\n",
            "Epoch 278/300\n",
            "104/104 [==============================] - 0s 4ms/step - loss: 0.5501 - accuracy: 0.7469 - val_loss: 0.5503 - val_accuracy: 0.7495\n",
            "Epoch 279/300\n",
            "104/104 [==============================] - 0s 4ms/step - loss: 0.5502 - accuracy: 0.7469 - val_loss: 0.5504 - val_accuracy: 0.7495\n",
            "Epoch 280/300\n",
            "104/104 [==============================] - 0s 4ms/step - loss: 0.5501 - accuracy: 0.7469 - val_loss: 0.5510 - val_accuracy: 0.7495\n",
            "Epoch 281/300\n",
            "104/104 [==============================] - 0s 4ms/step - loss: 0.5500 - accuracy: 0.7469 - val_loss: 0.5503 - val_accuracy: 0.7495\n",
            "Epoch 282/300\n",
            "104/104 [==============================] - 1s 6ms/step - loss: 0.5502 - accuracy: 0.7469 - val_loss: 0.5503 - val_accuracy: 0.7495\n",
            "Epoch 283/300\n",
            "104/104 [==============================] - 1s 5ms/step - loss: 0.5500 - accuracy: 0.7469 - val_loss: 0.5503 - val_accuracy: 0.7495\n",
            "Epoch 284/300\n",
            "104/104 [==============================] - 1s 6ms/step - loss: 0.5501 - accuracy: 0.7469 - val_loss: 0.5502 - val_accuracy: 0.7495\n",
            "Epoch 285/300\n",
            "104/104 [==============================] - 1s 6ms/step - loss: 0.5501 - accuracy: 0.7469 - val_loss: 0.5503 - val_accuracy: 0.7495\n",
            "Epoch 286/300\n",
            "104/104 [==============================] - 1s 5ms/step - loss: 0.5502 - accuracy: 0.7469 - val_loss: 0.5504 - val_accuracy: 0.7495\n",
            "Epoch 287/300\n",
            "104/104 [==============================] - 1s 6ms/step - loss: 0.5500 - accuracy: 0.7469 - val_loss: 0.5503 - val_accuracy: 0.7495\n",
            "Epoch 288/300\n",
            "104/104 [==============================] - 0s 5ms/step - loss: 0.5500 - accuracy: 0.7469 - val_loss: 0.5508 - val_accuracy: 0.7495\n",
            "Epoch 289/300\n",
            "104/104 [==============================] - 0s 4ms/step - loss: 0.5503 - accuracy: 0.7469 - val_loss: 0.5504 - val_accuracy: 0.7495\n",
            "Epoch 290/300\n",
            "104/104 [==============================] - 0s 4ms/step - loss: 0.5501 - accuracy: 0.7469 - val_loss: 0.5504 - val_accuracy: 0.7495\n",
            "Epoch 291/300\n",
            "104/104 [==============================] - 0s 4ms/step - loss: 0.5501 - accuracy: 0.7469 - val_loss: 0.5502 - val_accuracy: 0.7495\n",
            "Epoch 292/300\n",
            "104/104 [==============================] - 0s 4ms/step - loss: 0.5500 - accuracy: 0.7469 - val_loss: 0.5503 - val_accuracy: 0.7495\n",
            "Epoch 293/300\n",
            "104/104 [==============================] - 0s 4ms/step - loss: 0.5502 - accuracy: 0.7469 - val_loss: 0.5503 - val_accuracy: 0.7495\n",
            "Epoch 294/300\n",
            "104/104 [==============================] - 0s 4ms/step - loss: 0.5502 - accuracy: 0.7469 - val_loss: 0.5504 - val_accuracy: 0.7495\n",
            "Epoch 295/300\n",
            "104/104 [==============================] - 0s 4ms/step - loss: 0.5501 - accuracy: 0.7469 - val_loss: 0.5502 - val_accuracy: 0.7495\n",
            "Epoch 296/300\n",
            "104/104 [==============================] - 0s 4ms/step - loss: 0.5500 - accuracy: 0.7469 - val_loss: 0.5505 - val_accuracy: 0.7495\n",
            "Epoch 297/300\n",
            "104/104 [==============================] - 0s 4ms/step - loss: 0.5500 - accuracy: 0.7469 - val_loss: 0.5506 - val_accuracy: 0.7495\n",
            "Epoch 298/300\n",
            "104/104 [==============================] - 0s 4ms/step - loss: 0.5501 - accuracy: 0.7469 - val_loss: 0.5506 - val_accuracy: 0.7495\n",
            "Epoch 299/300\n",
            "104/104 [==============================] - 0s 4ms/step - loss: 0.5500 - accuracy: 0.7469 - val_loss: 0.5503 - val_accuracy: 0.7495\n",
            "Epoch 300/300\n",
            "104/104 [==============================] - 0s 4ms/step - loss: 0.5502 - accuracy: 0.7469 - val_loss: 0.5503 - val_accuracy: 0.7495\n"
          ]
        }
      ],
      "source": [
        "if model_selection[model_flag]==\"ALL\" or model_selection[model_flag] == \"AE\":\n",
        "  # training the model on training dataset\n",
        "  his = ae_classifier.fit(predictions, y_test, epochs=300,batch_size=500, validation_split=0.2).history"
      ]
    },
    {
      "cell_type": "code",
      "execution_count": null,
      "metadata": {
        "id": "yeNS7pLUNYBz"
      },
      "outputs": [],
      "source": [
        "if model_selection[model_flag]==\"ALL\" or model_selection[model_flag] == \"AE\":\n",
        "  filepath = '/content/drive/MyDrive/Colab_Notebooks/Models/ae_classifier_binary_unsw_nb15.json'\n",
        "  weightspath = '/content/drive/MyDrive/Colab_Notebooks/Weights/ae_classifier_binary_unsw_nb15.h5'\n",
        "  if (not path.isfile(filepath)): \n",
        "    # serialize model to JSON\n",
        "    ae_classifier_json = ae_classifier.to_json()\n",
        "    with open(filepath, \"w\") as json_file:\n",
        "      json_file.write(ae_classifier_json)\n",
        "\n",
        "    # serialize weights to HDF5\n",
        "    ae_classifier.save_weights(weightspath)\n",
        "    print(\"Saved model to disk\")\n",
        "\n",
        "    # load json and create model\n",
        "    json_file = open(filepath, 'r')\n",
        "    loaded_model_json = json_file.read()\n",
        "    json_file.close()\n",
        "    ae_classifier = model_from_json(loaded_model_json)\n",
        "\n",
        "    # load weights into new model\n",
        "    ae_classifier.load_weights(weightspath)\n",
        "    print(\"Loaded model from disk\")"
      ]
    },
    {
      "cell_type": "code",
      "execution_count": null,
      "metadata": {
        "id": "AG42bV79NYFB"
      },
      "outputs": [],
      "source": [
        "if model_selection[model_flag]==\"ALL\" or model_selection[model_flag] == \"AE\":\n",
        "  ae_classifier.compile(optimizer='adam', loss='binary_crossentropy',metrics=['accuracy'])"
      ]
    },
    {
      "cell_type": "code",
      "execution_count": null,
      "metadata": {
        "id": "13aKBGJcNYHv",
        "colab": {
          "base_uri": "https://localhost:8080/"
        },
        "outputId": "20e84d01-9125-4114-f9c8-a3670bfad57c"
      },
      "outputs": [
        {
          "output_type": "stream",
          "name": "stdout",
          "text": [
            "2014/2014 [==============================] - 6s 3ms/step - loss: 0.6349 - accuracy: 0.6334\n",
            "Test results - Loss: 0.6348815560340881 - Accuracy: 63.34311366081238%\n"
          ]
        }
      ],
      "source": [
        "if model_selection[model_flag]==\"ALL\" or model_selection[model_flag] == \"AE\":\n",
        "  # predicting target attribute on testing dataset\n",
        "  test_results = ae_classifier.evaluate(X_test, y_test, verbose=1)\n",
        "  print(f'Test results - Loss: {test_results[0]} - Accuracy: {test_results[1]*100}%')"
      ]
    },
    {
      "cell_type": "code",
      "execution_count": null,
      "metadata": {
        "id": "zCWbOaSyN1dH"
      },
      "outputs": [],
      "source": [
        "if model_selection[model_flag]==\"ALL\" or model_selection[model_flag] == \"AE\":\n",
        "  # representation of model layers\n",
        "  plot_model(ae_classifier, to_file='/content/drive/MyDrive/Colab_Notebooks/Plots/ae_classifier_binary.png', show_shapes=True)"
      ]
    },
    {
      "cell_type": "code",
      "execution_count": null,
      "metadata": {
        "id": "44VaFGgVOBpU",
        "colab": {
          "base_uri": "https://localhost:8080/",
          "height": 472
        },
        "outputId": "0ca9832d-01ad-4019-d303-d2bf6925c6c0"
      },
      "outputs": [
        {
          "output_type": "display_data",
          "data": {
            "text/plain": [
              "<Figure size 640x480 with 1 Axes>"
            ],
            "image/png": "[encoded data removed]"
          },
          "metadata": {}
        }
      ],
      "source": [
        "if model_selection[model_flag]==\"ALL\" or model_selection[model_flag] == \"AE\":\n",
        "  # Plot of loss vs epoch of train and test dataset\n",
        "  plt.plot(his['loss'])\n",
        "  plt.plot(his['val_loss'])\n",
        "  plt.title(\"Plot of loss vs epoch for train and test dataset\")\n",
        "  plt.ylabel('loss')\n",
        "  plt.xlabel('epoch')\n",
        "  plt.legend(['train', 'test'], loc='upper right')\n",
        "  plt.savefig('/content/drive/MyDrive/Colab_Notebooks/Plots/ae_classifier_binary_loss.png')\n",
        "  plt.show()"
      ]
    },
    {
      "cell_type": "code",
      "execution_count": null,
      "metadata": {
        "id": "Am0UB82rOIo1",
        "colab": {
          "base_uri": "https://localhost:8080/",
          "height": 472
        },
        "outputId": "28cde52a-bf7a-45f7-cd3c-a678c954d9bd"
      },
      "outputs": [
        {
          "output_type": "display_data",
          "data": {
            "text/plain": [
              "<Figure size 640x480 with 1 Axes>"
            ],
            "image/png": "[encoded data removed]"
          },
          "metadata": {}
        }
      ],
      "source": [
        "if model_selection[model_flag]==\"ALL\" or model_selection[model_flag] == \"AE\":\n",
        "  # Plot of accuracy vs epoch of train and test dataset\n",
        "  plt.plot(his['accuracy'])\n",
        "  plt.plot(his['val_accuracy'])\n",
        "  plt.title(\"Plot of accuracy vs epoch for train and test dataset\")\n",
        "  plt.ylabel('accuracy')\n",
        "  plt.xlabel('epoch')\n",
        "  plt.legend(['train', 'test'], loc='best')\n",
        "  plt.savefig('/content/drive/MyDrive/Colab_Notebooks/Plots/ae_classifier_binary_accuracy.png')\n",
        "  plt.show()"
      ]
    },
    {
      "cell_type": "code",
      "execution_count": null,
      "metadata": {
        "id": "f5OZTlm0OMoW",
        "colab": {
          "base_uri": "https://localhost:8080/"
        },
        "outputId": "ea52f6e6-3731-4e4a-992d-210c5071129a"
      },
      "outputs": [
        {
          "output_type": "stream",
          "name": "stdout",
          "text": [
            "2014/2014 [==============================] - 3s 1ms/step\n"
          ]
        }
      ],
      "source": [
        "if model_selection[model_flag]==\"ALL\" or model_selection[model_flag] == \"AE\":\n",
        "  y_pred = ae_classifier.predict(X_test).ravel()\n",
        "  fpr, tpr, thresholds = roc_curve(y_test, y_pred)\n",
        "  #auc = auc(fpr, tpr)"
      ]
    },
    {
      "cell_type": "code",
      "execution_count": null,
      "metadata": {
        "id": "GbSkwfO2OTkn",
        "colab": {
          "base_uri": "https://localhost:8080/",
          "height": 510
        },
        "outputId": "51ffb07c-92f7-4a81-e931-b3b4b6af130a"
      },
      "outputs": [
        {
          "output_type": "stream",
          "name": "stderr",
          "text": [
            "WARNING:matplotlib.legend:No artists with labels found to put in legend.  Note that artists whose label start with an underscore are ignored when legend() is called with no argument.\n"
          ]
        },
        {
          "output_type": "display_data",
          "data": {
            "text/plain": [
              "<Figure size 640x480 with 1 Axes>"
            ],
            "image/png": "[encoded data removed]"
          },
          "metadata": {}
        }
      ],
      "source": [
        "if model_selection[model_flag]==\"ALL\" or model_selection[model_flag] == \"AE\":\n",
        "  plt.plot([0, 1], [0, 1], 'k--')\n",
        "  #plt.plot(fpr, tpr, label='Keras (area = {:.3f})'.format(auc))\n",
        "  plt.plot(fpr, tpr)\n",
        "  plt.xlabel('False positive rate')\n",
        "  plt.ylabel('True positive rate')\n",
        "  plt.title('ROC curve')\n",
        "  plt.legend(loc='best')\n",
        "  plt.savefig('/content/drive/MyDrive/Colab_Notebooks/Plots/ae_binary_roc.png')\n",
        "  plt.show()"
      ]
    },
    {
      "cell_type": "code",
      "execution_count": null,
      "metadata": {
        "id": "n7Xl74UXOZxm",
        "colab": {
          "base_uri": "https://localhost:8080/"
        },
        "outputId": "11ea8557-557d-465b-910a-eed131a1b2da"
      },
      "outputs": [
        {
          "output_type": "stream",
          "name": "stdout",
          "text": [
            "2014/2014 [==============================] - 3s 1ms/step\n",
            "2014/2014 [==============================] - 3s 1ms/step\n"
          ]
        }
      ],
      "source": [
        "if model_selection[model_flag]==\"ALL\" or model_selection[model_flag] == \"AE\":\n",
        "  pred = ae_classifier.predict(X_test)\n",
        "  y_classes = (ae_classifier.predict(X_test)>0.5).astype('int32')"
      ]
    },
    {
      "cell_type": "code",
      "execution_count": null,
      "metadata": {
        "id": "WA_g3UlXOZ71",
        "colab": {
          "base_uri": "https://localhost:8080/"
        },
        "outputId": "65614a1c-7483-4a16-cc30-01c91d1e1422"
      },
      "outputs": [
        {
          "output_type": "stream",
          "name": "stdout",
          "text": [
            "Recall Score -  0.8585098115407033\n",
            "F1 Score -  0.7496235977691541\n",
            "Precision Score -  0.6652489743686251\n",
            "False Positive Rate -  [1.         0.76530568]\n",
            "False Negative Rate -  [0.         0.14149019]\n",
            "Thresholds -  [0 1]\n"
          ]
        }
      ],
      "source": [
        "if model_selection[model_flag]==\"ALL\" or model_selection[model_flag] == \"AE\":\n",
        "  print(\"Recall Score - \",recall_score(y_test,y_classes))\n",
        "  print(\"F1 Score - \",f1_score(y_test,y_classes))\n",
        "  print(\"Precision Score - \",precision_score(y_test,y_classes))\n",
        "  fpr, fnr, thresholds = det_curve(y_test, y_classes)\n",
        "  print(\"False Positive Rate - \", fpr)\n",
        "  print(\"False Negative Rate - \", fnr)\n",
        "  print(\"Thresholds - \", thresholds)"
      ]
    },
    {
      "cell_type": "code",
      "source": [
        "print(classification_report(y_test, y_classes, target_names=['0', '1']))\n",
        "cm = confusion_matrix(y_test, y_classes)\n",
        "disp = ConfusionMatrixDisplay(confusion_matrix=cm,\n",
        "                              display_labels=['0', '1'])\n",
        "disp.plot()\n",
        "\n",
        "plt.show()"
      ],
      "metadata": {
        "colab": {
          "base_uri": "https://localhost:8080/",
          "height": 612
        },
        "id": "UgHHdx0qoryj",
        "outputId": "38bc4c33-b563-4acc-9d8b-5e083a9ea4bc"
      },
      "execution_count": null,
      "outputs": [
        {
          "output_type": "stream",
          "name": "stdout",
          "text": [
            "              precision    recall  f1-score   support\n",
            "\n",
            "           0       0.48      0.23      0.32     23243\n",
            "           1       0.67      0.86      0.75     41176\n",
            "\n",
            "    accuracy                           0.63     64419\n",
            "   macro avg       0.57      0.55      0.53     64419\n",
            "weighted avg       0.60      0.63      0.59     64419\n",
            "\n"
          ]
        },
        {
          "output_type": "display_data",
          "data": {
            "text/plain": [
              "<Figure size 640x480 with 2 Axes>"
            ],
            "image/png": "[encoded data removed]"
          },
          "metadata": {}
        }
      ]
    }
  ],
  "metadata": {
    "colab": {
      "provenance": [],
      "include_colab_link": true
    },
    "gpuClass": "standard",
    "kernelspec": {
      "display_name": "Python 3",
      "name": "python3"
    },
    "language_info": {
      "name": "python"
    },
    "accelerator": "GPU"
  },
  "nbformat": 4,
  "nbformat_minor": 0
}