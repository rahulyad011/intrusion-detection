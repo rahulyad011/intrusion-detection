{
  "cells": [
    {
      "cell_type": "markdown",
      "metadata": {
        "id": "view-in-github",
        "colab_type": "text"
      },
      "source": [
        "<a href=\"https://colab.research.google.com/github/rahulyad011/intrusion-detection/blob/main/SSL_Renegotiation_Kitsune_Network_Attack_model_training.ipynb\" target=\"_parent\"><img src=\"https://colab.research.google.com/assets/colab-badge.svg\" alt=\"Open In Colab\"/></a>"
      ]
    },
    {
      "cell_type": "code",
      "execution_count": 1,
      "metadata": {
        "id": "qXQ8rUmdwaf4"
      },
      "outputs": [],
      "source": [
        "\n",
        "from sklearn.metrics import accuracy_score # for calculating accuracy of model\n",
        "from sklearn.model_selection import train_test_split # for splitting the dataset for training and testing\n",
        "from sklearn.metrics import classification_report # for generating a classification report of model\n",
        "import pickle # saving and loading trained model\n",
        "from os import path\n",
        "import numpy as np\n",
        "import pandas as pd\n",
        "import matplotlib.pyplot as plt\n",
        "\n",
        "# importing library for support vector machine classifier\n",
        "from sklearn.svm import SVC\n",
        "\n",
        "# MLP requirements \n",
        "from keras.layers import Dense # importing dense layer\n",
        "from keras.models import Sequential #importing Sequential layer\n",
        "from keras.models import model_from_json # saving and loading trained model\n",
        "\n",
        "# LSTM requirements \n",
        "from keras.layers import LSTM\n",
        "from keras.layers import Input\n",
        "from keras.models import Model\n",
        "\n",
        "# evaluation metrices\n",
        "from sklearn.metrics import classification_report, confusion_matrix\n",
        "from sklearn.metrics import roc_auc_score\n",
        "from sklearn.metrics import roc_curve, auc\n",
        "from sklearn.metrics import precision_score\n",
        "from sklearn.metrics import recall_score\n",
        "from sklearn.metrics import f1_score\n",
        "from sklearn.metrics import det_curve\n",
        "\n",
        "# representation of model layers\n",
        "from keras.utils.vis_utils import plot_model"
      ]
    },
    {
      "cell_type": "code",
      "source": [
        "from google.colab import drive\n",
        "drive.mount('/content/drive')"
      ],
      "metadata": {
        "id": "DBCkPmpEjFSf",
        "colab": {
          "base_uri": "https://localhost:8080/"
        },
        "outputId": "2e839225-293b-42d5-8a41-b0d9b42df39d"
      },
      "execution_count": 2,
      "outputs": [
        {
          "output_type": "stream",
          "name": "stdout",
          "text": [
            "Mounted at /content/drive\n"
          ]
        }
      ]
    },
    {
      "cell_type": "code",
      "execution_count": 3,
      "metadata": {
        "id": "Pepa9lW8whHh",
        "colab": {
          "base_uri": "https://localhost:8080/",
          "height": 592
        },
        "outputId": "3104d324-eed6-4064-88c2-34a8deff17ba"
      },
      "outputs": [
        {
          "output_type": "execute_result",
          "data": {
            "text/plain": [
              "               X1           X2             X3          X4           X5  \\\n",
              "0      207.984758   758.226572  447496.232601  266.055290   754.491104   \n",
              "1      197.209612   758.045542  446542.028261  255.226027   753.885048   \n",
              "2      164.028232   752.353902  444783.736704  235.678932   748.224424   \n",
              "3       28.282915    61.777406     938.863567   45.442113    63.158650   \n",
              "4      202.679878   741.376516  435540.144741  343.213591   743.329936   \n",
              "...           ...          ...            ...         ...          ...   \n",
              "22071   42.333150  1425.002930   14654.248265   75.907653  1419.685022   \n",
              "22072   63.046327  1424.507960   21693.741026   99.309160  1415.277498   \n",
              "22073   53.527687  1390.435715   52526.539912   90.342996  1396.125179   \n",
              "22074   63.687001  1409.011212   41030.873921  100.927456  1405.694690   \n",
              "22075   60.372135  1400.510028   37292.566292   94.814252  1401.441488   \n",
              "\n",
              "                  X6           X7           X8             X9           X10  \\\n",
              "0      444150.700311   598.440977   748.736890  440526.641698   5251.742622   \n",
              "1      443085.283757   584.138940   747.404327  438855.070205   5173.514392   \n",
              "2      442576.854099   558.677886   743.643349  439057.648497   1475.811935   \n",
              "3        1663.852208   131.510377    64.652811    2429.187237    576.839015   \n",
              "4      436006.036314  1034.792378   744.494456  435952.987784  10341.505114   \n",
              "...              ...          ...          ...            ...           ...   \n",
              "22071   22048.113094   251.417900  1412.775190   30722.554834   2583.663254   \n",
              "22072   31086.702773   265.830219  1402.045127   44822.878533   2012.714825   \n",
              "22073   48221.608148   270.955442  1398.141786   48552.721049   2204.489313   \n",
              "22074   42200.649421   280.908235  1400.823004   45157.903720   2565.800226   \n",
              "22075   36114.854982   272.243558  1406.044784   33350.270113   2532.527576   \n",
              "\n",
              "       ...          X108          X109         X110        X111         X112  \\\n",
              "0      ...  0.000000e+00  13715.152419  1450.000000    0.000171  1450.000000   \n",
              "1      ...  0.000000e+00  22704.087738  1450.000000    0.000103  1450.000000   \n",
              "2      ...  0.000000e+00    771.145869  1450.000000    0.000022  1450.000000   \n",
              "3      ...  1.566165e-08    733.203812    60.000000    0.000004  1409.238350   \n",
              "4      ...  0.000000e+00  23644.067768   150.346864  178.505412   150.346864   \n",
              "...    ...           ...           ...          ...         ...          ...   \n",
              "22071  ...  5.635901e-03   9345.612463  1406.803308  190.651625  1408.086280   \n",
              "22072  ...  1.940545e-02   4304.011010  1390.358807  244.966273  1391.664709   \n",
              "22073  ...  8.135443e-03   8954.424331  1388.283609  252.112930  1389.583878   \n",
              "22074  ...  8.165952e-03   8320.077481  1406.137193  192.682310  1407.421573   \n",
              "22075  ...  4.436235e-03   7919.273664  1402.222237  206.448907  1403.506673   \n",
              "\n",
              "               X113          X114          X115  Unnamed: 0  label  \n",
              "0      2.933666e-08  0.000000e+00  0.000000e+00      170891    0.0  \n",
              "1      1.071021e-08  0.000000e+00  0.000000e+00     1846583    0.0  \n",
              "2      4.656613e-10  0.000000e+00  0.000000e+00        6198    0.0  \n",
              "3      4.008216e+04 -1.196681e-11 -1.675092e-08       11675    0.0  \n",
              "4      3.186418e+04  0.000000e+00  0.000000e+00      358397    0.0  \n",
              "...             ...           ...           ...         ...    ...  \n",
              "22071  3.634805e+04 -3.083220e+01 -3.967224e-02     2097523    1.0  \n",
              "22072  6.000849e+04 -4.395202e+01 -2.591355e-02     1460869    1.0  \n",
              "22073  6.356093e+04  1.612235e+01  1.532443e-02     1495676    1.0  \n",
              "22074  3.712648e+04 -4.256561e+01 -4.953509e-02     2089162    1.0  \n",
              "22075  4.262115e+04 -9.350930e+00 -1.929547e-02     1614367    1.0  \n",
              "\n",
              "[22076 rows x 117 columns]"
            ],
            "text/html": [
              "\n",
              "  <div id=\"df-11303708-cb5d-429d-9bf2-9c8c56c44a4e\">\n",
              "    <div class=\"colab-df-container\">\n",
              "      <div>\n",
              "<style scoped>\n",
              "    .dataframe tbody tr th:only-of-type {\n",
              "        vertical-align: middle;\n",
              "    }\n",
              "\n",
              "    .dataframe tbody tr th {\n",
              "        vertical-align: top;\n",
              "    }\n",
              "\n",
              "    .dataframe thead th {\n",
              "        text-align: right;\n",
              "    }\n",
              "</style>\n",
              "<table border=\"1\" class=\"dataframe\">\n",
              "  <thead>\n",
              "    <tr style=\"text-align: right;\">\n",
              "      <th></th>\n",
              "      <th>X1</th>\n",
              "      <th>X2</th>\n",
              "      <th>X3</th>\n",
              "      <th>X4</th>\n",
              "      <th>X5</th>\n",
              "      <th>X6</th>\n",
              "      <th>X7</th>\n",
              "      <th>X8</th>\n",
              "      <th>X9</th>\n",
              "      <th>X10</th>\n",
              "      <th>...</th>\n",
              "      <th>X108</th>\n",
              "      <th>X109</th>\n",
              "      <th>X110</th>\n",
              "      <th>X111</th>\n",
              "      <th>X112</th>\n",
              "      <th>X113</th>\n",
              "      <th>X114</th>\n",
              "      <th>X115</th>\n",
              "      <th>Unnamed: 0</th>\n",
              "      <th>label</th>\n",
              "    </tr>\n",
              "  </thead>\n",
              "  <tbody>\n",
              "    <tr>\n",
              "      <th>0</th>\n",
              "      <td>207.984758</td>\n",
              "      <td>758.226572</td>\n",
              "      <td>447496.232601</td>\n",
              "      <td>266.055290</td>\n",
              "      <td>754.491104</td>\n",
              "      <td>444150.700311</td>\n",
              "      <td>598.440977</td>\n",
              "      <td>748.736890</td>\n",
              "      <td>440526.641698</td>\n",
              "      <td>5251.742622</td>\n",
              "      <td>...</td>\n",
              "      <td>0.000000e+00</td>\n",
              "      <td>13715.152419</td>\n",
              "      <td>1450.000000</td>\n",
              "      <td>0.000171</td>\n",
              "      <td>1450.000000</td>\n",
              "      <td>2.933666e-08</td>\n",
              "      <td>0.000000e+00</td>\n",
              "      <td>0.000000e+00</td>\n",
              "      <td>170891</td>\n",
              "      <td>0.0</td>\n",
              "    </tr>\n",
              "    <tr>\n",
              "      <th>1</th>\n",
              "      <td>197.209612</td>\n",
              "      <td>758.045542</td>\n",
              "      <td>446542.028261</td>\n",
              "      <td>255.226027</td>\n",
              "      <td>753.885048</td>\n",
              "      <td>443085.283757</td>\n",
              "      <td>584.138940</td>\n",
              "      <td>747.404327</td>\n",
              "      <td>438855.070205</td>\n",
              "      <td>5173.514392</td>\n",
              "      <td>...</td>\n",
              "      <td>0.000000e+00</td>\n",
              "      <td>22704.087738</td>\n",
              "      <td>1450.000000</td>\n",
              "      <td>0.000103</td>\n",
              "      <td>1450.000000</td>\n",
              "      <td>1.071021e-08</td>\n",
              "      <td>0.000000e+00</td>\n",
              "      <td>0.000000e+00</td>\n",
              "      <td>1846583</td>\n",
              "      <td>0.0</td>\n",
              "    </tr>\n",
              "    <tr>\n",
              "      <th>2</th>\n",
              "      <td>164.028232</td>\n",
              "      <td>752.353902</td>\n",
              "      <td>444783.736704</td>\n",
              "      <td>235.678932</td>\n",
              "      <td>748.224424</td>\n",
              "      <td>442576.854099</td>\n",
              "      <td>558.677886</td>\n",
              "      <td>743.643349</td>\n",
              "      <td>439057.648497</td>\n",
              "      <td>1475.811935</td>\n",
              "      <td>...</td>\n",
              "      <td>0.000000e+00</td>\n",
              "      <td>771.145869</td>\n",
              "      <td>1450.000000</td>\n",
              "      <td>0.000022</td>\n",
              "      <td>1450.000000</td>\n",
              "      <td>4.656613e-10</td>\n",
              "      <td>0.000000e+00</td>\n",
              "      <td>0.000000e+00</td>\n",
              "      <td>6198</td>\n",
              "      <td>0.0</td>\n",
              "    </tr>\n",
              "    <tr>\n",
              "      <th>3</th>\n",
              "      <td>28.282915</td>\n",
              "      <td>61.777406</td>\n",
              "      <td>938.863567</td>\n",
              "      <td>45.442113</td>\n",
              "      <td>63.158650</td>\n",
              "      <td>1663.852208</td>\n",
              "      <td>131.510377</td>\n",
              "      <td>64.652811</td>\n",
              "      <td>2429.187237</td>\n",
              "      <td>576.839015</td>\n",
              "      <td>...</td>\n",
              "      <td>1.566165e-08</td>\n",
              "      <td>733.203812</td>\n",
              "      <td>60.000000</td>\n",
              "      <td>0.000004</td>\n",
              "      <td>1409.238350</td>\n",
              "      <td>4.008216e+04</td>\n",
              "      <td>-1.196681e-11</td>\n",
              "      <td>-1.675092e-08</td>\n",
              "      <td>11675</td>\n",
              "      <td>0.0</td>\n",
              "    </tr>\n",
              "    <tr>\n",
              "      <th>4</th>\n",
              "      <td>202.679878</td>\n",
              "      <td>741.376516</td>\n",
              "      <td>435540.144741</td>\n",
              "      <td>343.213591</td>\n",
              "      <td>743.329936</td>\n",
              "      <td>436006.036314</td>\n",
              "      <td>1034.792378</td>\n",
              "      <td>744.494456</td>\n",
              "      <td>435952.987784</td>\n",
              "      <td>10341.505114</td>\n",
              "      <td>...</td>\n",
              "      <td>0.000000e+00</td>\n",
              "      <td>23644.067768</td>\n",
              "      <td>150.346864</td>\n",
              "      <td>178.505412</td>\n",
              "      <td>150.346864</td>\n",
              "      <td>3.186418e+04</td>\n",
              "      <td>0.000000e+00</td>\n",
              "      <td>0.000000e+00</td>\n",
              "      <td>358397</td>\n",
              "      <td>0.0</td>\n",
              "    </tr>\n",
              "    <tr>\n",
              "      <th>...</th>\n",
              "      <td>...</td>\n",
              "      <td>...</td>\n",
              "      <td>...</td>\n",
              "      <td>...</td>\n",
              "      <td>...</td>\n",
              "      <td>...</td>\n",
              "      <td>...</td>\n",
              "      <td>...</td>\n",
              "      <td>...</td>\n",
              "      <td>...</td>\n",
              "      <td>...</td>\n",
              "      <td>...</td>\n",
              "      <td>...</td>\n",
              "      <td>...</td>\n",
              "      <td>...</td>\n",
              "      <td>...</td>\n",
              "      <td>...</td>\n",
              "      <td>...</td>\n",
              "      <td>...</td>\n",
              "      <td>...</td>\n",
              "      <td>...</td>\n",
              "    </tr>\n",
              "    <tr>\n",
              "      <th>22071</th>\n",
              "      <td>42.333150</td>\n",
              "      <td>1425.002930</td>\n",
              "      <td>14654.248265</td>\n",
              "      <td>75.907653</td>\n",
              "      <td>1419.685022</td>\n",
              "      <td>22048.113094</td>\n",
              "      <td>251.417900</td>\n",
              "      <td>1412.775190</td>\n",
              "      <td>30722.554834</td>\n",
              "      <td>2583.663254</td>\n",
              "      <td>...</td>\n",
              "      <td>5.635901e-03</td>\n",
              "      <td>9345.612463</td>\n",
              "      <td>1406.803308</td>\n",
              "      <td>190.651625</td>\n",
              "      <td>1408.086280</td>\n",
              "      <td>3.634805e+04</td>\n",
              "      <td>-3.083220e+01</td>\n",
              "      <td>-3.967224e-02</td>\n",
              "      <td>2097523</td>\n",
              "      <td>1.0</td>\n",
              "    </tr>\n",
              "    <tr>\n",
              "      <th>22072</th>\n",
              "      <td>63.046327</td>\n",
              "      <td>1424.507960</td>\n",
              "      <td>21693.741026</td>\n",
              "      <td>99.309160</td>\n",
              "      <td>1415.277498</td>\n",
              "      <td>31086.702773</td>\n",
              "      <td>265.830219</td>\n",
              "      <td>1402.045127</td>\n",
              "      <td>44822.878533</td>\n",
              "      <td>2012.714825</td>\n",
              "      <td>...</td>\n",
              "      <td>1.940545e-02</td>\n",
              "      <td>4304.011010</td>\n",
              "      <td>1390.358807</td>\n",
              "      <td>244.966273</td>\n",
              "      <td>1391.664709</td>\n",
              "      <td>6.000849e+04</td>\n",
              "      <td>-4.395202e+01</td>\n",
              "      <td>-2.591355e-02</td>\n",
              "      <td>1460869</td>\n",
              "      <td>1.0</td>\n",
              "    </tr>\n",
              "    <tr>\n",
              "      <th>22073</th>\n",
              "      <td>53.527687</td>\n",
              "      <td>1390.435715</td>\n",
              "      <td>52526.539912</td>\n",
              "      <td>90.342996</td>\n",
              "      <td>1396.125179</td>\n",
              "      <td>48221.608148</td>\n",
              "      <td>270.955442</td>\n",
              "      <td>1398.141786</td>\n",
              "      <td>48552.721049</td>\n",
              "      <td>2204.489313</td>\n",
              "      <td>...</td>\n",
              "      <td>8.135443e-03</td>\n",
              "      <td>8954.424331</td>\n",
              "      <td>1388.283609</td>\n",
              "      <td>252.112930</td>\n",
              "      <td>1389.583878</td>\n",
              "      <td>6.356093e+04</td>\n",
              "      <td>1.612235e+01</td>\n",
              "      <td>1.532443e-02</td>\n",
              "      <td>1495676</td>\n",
              "      <td>1.0</td>\n",
              "    </tr>\n",
              "    <tr>\n",
              "      <th>22074</th>\n",
              "      <td>63.687001</td>\n",
              "      <td>1409.011212</td>\n",
              "      <td>41030.873921</td>\n",
              "      <td>100.927456</td>\n",
              "      <td>1405.694690</td>\n",
              "      <td>42200.649421</td>\n",
              "      <td>280.908235</td>\n",
              "      <td>1400.823004</td>\n",
              "      <td>45157.903720</td>\n",
              "      <td>2565.800226</td>\n",
              "      <td>...</td>\n",
              "      <td>8.165952e-03</td>\n",
              "      <td>8320.077481</td>\n",
              "      <td>1406.137193</td>\n",
              "      <td>192.682310</td>\n",
              "      <td>1407.421573</td>\n",
              "      <td>3.712648e+04</td>\n",
              "      <td>-4.256561e+01</td>\n",
              "      <td>-4.953509e-02</td>\n",
              "      <td>2089162</td>\n",
              "      <td>1.0</td>\n",
              "    </tr>\n",
              "    <tr>\n",
              "      <th>22075</th>\n",
              "      <td>60.372135</td>\n",
              "      <td>1400.510028</td>\n",
              "      <td>37292.566292</td>\n",
              "      <td>94.814252</td>\n",
              "      <td>1401.441488</td>\n",
              "      <td>36114.854982</td>\n",
              "      <td>272.243558</td>\n",
              "      <td>1406.044784</td>\n",
              "      <td>33350.270113</td>\n",
              "      <td>2532.527576</td>\n",
              "      <td>...</td>\n",
              "      <td>4.436235e-03</td>\n",
              "      <td>7919.273664</td>\n",
              "      <td>1402.222237</td>\n",
              "      <td>206.448907</td>\n",
              "      <td>1403.506673</td>\n",
              "      <td>4.262115e+04</td>\n",
              "      <td>-9.350930e+00</td>\n",
              "      <td>-1.929547e-02</td>\n",
              "      <td>1614367</td>\n",
              "      <td>1.0</td>\n",
              "    </tr>\n",
              "  </tbody>\n",
              "</table>\n",
              "<p>22076 rows × 117 columns</p>\n",
              "</div>\n",
              "      <button class=\"colab-df-convert\" onclick=\"convertToInteractive('df-11303708-cb5d-429d-9bf2-9c8c56c44a4e')\"\n",
              "              title=\"Convert this dataframe to an interactive table.\"\n",
              "              style=\"display:none;\">\n",
              "        \n",
              "  <svg xmlns=\"http://www.w3.org/2000/svg\" height=\"24px\"viewBox=\"0 0 24 24\"\n",
              "       width=\"24px\">\n",
              "    <path d=\"M0 0h24v24H0V0z\" fill=\"none\"/>\n",
              "    <path d=\"M18.56 5.44l.94 2.06.94-2.06 2.06-.94-2.06-.94-.94-2.06-.94 2.06-2.06.94zm-11 1L8.5 8.5l.94-2.06 2.06-.94-2.06-.94L8.5 2.5l-.94 2.06-2.06.94zm10 10l.94 2.06.94-2.06 2.06-.94-2.06-.94-.94-2.06-.94 2.06-2.06.94z\"/><path d=\"M17.41 7.96l-1.37-1.37c-.4-.4-.92-.59-1.43-.59-.52 0-1.04.2-1.43.59L10.3 9.45l-7.72 7.72c-.78.78-.78 2.05 0 2.83L4 21.41c.39.39.9.59 1.41.59.51 0 1.02-.2 1.41-.59l7.78-7.78 2.81-2.81c.8-.78.8-2.07 0-2.86zM5.41 20L4 18.59l7.72-7.72 1.47 1.35L5.41 20z\"/>\n",
              "  </svg>\n",
              "      </button>\n",
              "      \n",
              "  <style>\n",
              "    .colab-df-container {\n",
              "      display:flex;\n",
              "      flex-wrap:wrap;\n",
              "      gap: 12px;\n",
              "    }\n",
              "\n",
              "    .colab-df-convert {\n",
              "      background-color: #E8F0FE;\n",
              "      border: none;\n",
              "      border-radius: 50%;\n",
              "      cursor: pointer;\n",
              "      display: none;\n",
              "      fill: #1967D2;\n",
              "      height: 32px;\n",
              "      padding: 0 0 0 0;\n",
              "      width: 32px;\n",
              "    }\n",
              "\n",
              "    .colab-df-convert:hover {\n",
              "      background-color: #E2EBFA;\n",
              "      box-shadow: 0px 1px 2px rgba(60, 64, 67, 0.3), 0px 1px 3px 1px rgba(60, 64, 67, 0.15);\n",
              "      fill: #174EA6;\n",
              "    }\n",
              "\n",
              "    [theme=dark] .colab-df-convert {\n",
              "      background-color: #3B4455;\n",
              "      fill: #D2E3FC;\n",
              "    }\n",
              "\n",
              "    [theme=dark] .colab-df-convert:hover {\n",
              "      background-color: #434B5C;\n",
              "      box-shadow: 0px 1px 3px 1px rgba(0, 0, 0, 0.15);\n",
              "      filter: drop-shadow(0px 1px 2px rgba(0, 0, 0, 0.3));\n",
              "      fill: #FFFFFF;\n",
              "    }\n",
              "  </style>\n",
              "\n",
              "      <script>\n",
              "        const buttonEl =\n",
              "          document.querySelector('#df-11303708-cb5d-429d-9bf2-9c8c56c44a4e button.colab-df-convert');\n",
              "        buttonEl.style.display =\n",
              "          google.colab.kernel.accessAllowed ? 'block' : 'none';\n",
              "\n",
              "        async function convertToInteractive(key) {\n",
              "          const element = document.querySelector('#df-11303708-cb5d-429d-9bf2-9c8c56c44a4e');\n",
              "          const dataTable =\n",
              "            await google.colab.kernel.invokeFunction('convertToInteractive',\n",
              "                                                     [key], {});\n",
              "          if (!dataTable) return;\n",
              "\n",
              "          const docLinkHtml = 'Like what you see? Visit the ' +\n",
              "            '<a target=\"_blank\" href=https://colab.research.google.com/notebooks/data_table.ipynb>data table notebook</a>'\n",
              "            + ' to learn more about interactive tables.';\n",
              "          element.innerHTML = '';\n",
              "          dataTable['output_type'] = 'display_data';\n",
              "          await google.colab.output.renderOutput(dataTable, element);\n",
              "          const docLink = document.createElement('div');\n",
              "          docLink.innerHTML = docLinkHtml;\n",
              "          element.appendChild(docLink);\n",
              "        }\n",
              "      </script>\n",
              "    </div>\n",
              "  </div>\n",
              "  "
            ]
          },
          "metadata": {},
          "execution_count": 3
        }
      ],
      "source": [
        "bin_data_total = data = pd.read_csv(\"/content/drive/MyDrive/Colab_Notebooks/Datasets/kitsume_network_attack_dataset/SSL_Renegotiation_dataset_kitsune_binary_data_1M.csv\")\n",
        "bin_data_total.drop(bin_data_total.columns[0],axis=1,inplace=True)\n",
        "bin_data_total"
      ]
    },
    {
      "cell_type": "code",
      "execution_count": 4,
      "metadata": {
        "id": "xHCs0B3sKOa_",
        "colab": {
          "base_uri": "https://localhost:8080/"
        },
        "outputId": "c9a47b87-ff82-432e-e0ea-1eaab0277594"
      },
      "outputs": [
        {
          "output_type": "execute_result",
          "data": {
            "text/plain": [
              "0.0    0.958009\n",
              "1.0    0.041991\n",
              "Name: label, dtype: float64"
            ]
          },
          "metadata": {},
          "execution_count": 4
        }
      ],
      "source": [
        "# distribution of label class before sampling\n",
        "data_size = bin_data_total.shape[0]\n",
        "# data_size\n",
        "bin_data_total.label.value_counts()/data_size"
      ]
    },
    {
      "cell_type": "code",
      "source": [
        "model_name_suffix = \"_kitsune_SSL_Renegotiation\""
      ],
      "metadata": {
        "collapsed": true,
        "id": "xoRpI3HV9G2v"
      },
      "execution_count": 5,
      "outputs": []
    },
    {
      "cell_type": "code",
      "source": [
        "# numeric feature normalization\n",
        "from sklearn.preprocessing import MinMaxScaler\n",
        "from sklearn.preprocessing import StandardScaler\n",
        "\n",
        "numeric_cols = bin_data_total.select_dtypes(['number']).columns\n",
        "numeric_cols = numeric_cols.drop('label')\n",
        "flag = 0\n",
        "scaler = None\n",
        "if flag:\n",
        "  # using standard scaler for normalizing\n",
        "  scaler = StandardScaler()\n",
        "else:\n",
        "  # using minmax scaler for normalizing\n",
        "  # to avoid negative values after scaling\n",
        "  scaler = MinMaxScaler()\n",
        "\n",
        "def normalization_train(df,col):\n",
        "  for i in col:\n",
        "    arr = df[i]\n",
        "    arr = np.array(arr)\n",
        "    df[i] = scaler.fit_transform(arr.reshape(len(arr),1))\n",
        "  return df\n",
        "\n",
        "def normalization_test(df,col):\n",
        "  for i in col:\n",
        "    arr = df[i]\n",
        "    arr = np.array(arr)\n",
        "    df[i] = scaler.transform(arr.reshape(len(arr),1))\n",
        "  return df\n",
        "\n",
        "# numeric_cols"
      ],
      "metadata": {
        "id": "QAUrPvEIYHoH"
      },
      "execution_count": 6,
      "outputs": []
    },
    {
      "cell_type": "code",
      "execution_count": 7,
      "metadata": {
        "id": "XSTP2AcKJgTF",
        "colab": {
          "base_uri": "https://localhost:8080/",
          "height": 592
        },
        "outputId": "2bf1c71c-0a53-4bed-c533-ff6a3ac4fc6d"
      },
      "outputs": [
        {
          "output_type": "execute_result",
          "data": {
            "text/plain": [
              "               X1           X2             X3          X4           X5  \\\n",
              "0      207.984758   758.226572  447496.232601  266.055290   754.491104   \n",
              "1      197.209612   758.045542  446542.028261  255.226027   753.885048   \n",
              "2      164.028232   752.353902  444783.736704  235.678932   748.224424   \n",
              "3       28.282915    61.777406     938.863567   45.442113    63.158650   \n",
              "4      202.679878   741.376516  435540.144741  343.213591   743.329936   \n",
              "...           ...          ...            ...         ...          ...   \n",
              "22071   42.333150  1425.002930   14654.248265   75.907653  1419.685022   \n",
              "22072   63.046327  1424.507960   21693.741026   99.309160  1415.277498   \n",
              "22073   53.527687  1390.435715   52526.539912   90.342996  1396.125179   \n",
              "22074   63.687001  1409.011212   41030.873921  100.927456  1405.694690   \n",
              "22075   60.372135  1400.510028   37292.566292   94.814252  1401.441488   \n",
              "\n",
              "                  X6           X7           X8             X9           X10  \\\n",
              "0      444150.700311   598.440977   748.736890  440526.641698   5251.742622   \n",
              "1      443085.283757   584.138940   747.404327  438855.070205   5173.514392   \n",
              "2      442576.854099   558.677886   743.643349  439057.648497   1475.811935   \n",
              "3        1663.852208   131.510377    64.652811    2429.187237    576.839015   \n",
              "4      436006.036314  1034.792378   744.494456  435952.987784  10341.505114   \n",
              "...              ...          ...          ...            ...           ...   \n",
              "22071   22048.113094   251.417900  1412.775190   30722.554834   2583.663254   \n",
              "22072   31086.702773   265.830219  1402.045127   44822.878533   2012.714825   \n",
              "22073   48221.608148   270.955442  1398.141786   48552.721049   2204.489313   \n",
              "22074   42200.649421   280.908235  1400.823004   45157.903720   2565.800226   \n",
              "22075   36114.854982   272.243558  1406.044784   33350.270113   2532.527576   \n",
              "\n",
              "       ...          X108          X109         X110        X111         X112  \\\n",
              "0      ...  0.000000e+00  13715.152419  1450.000000    0.000171  1450.000000   \n",
              "1      ...  0.000000e+00  22704.087738  1450.000000    0.000103  1450.000000   \n",
              "2      ...  0.000000e+00    771.145869  1450.000000    0.000022  1450.000000   \n",
              "3      ...  1.566165e-08    733.203812    60.000000    0.000004  1409.238350   \n",
              "4      ...  0.000000e+00  23644.067768   150.346864  178.505412   150.346864   \n",
              "...    ...           ...           ...          ...         ...          ...   \n",
              "22071  ...  5.635901e-03   9345.612463  1406.803308  190.651625  1408.086280   \n",
              "22072  ...  1.940545e-02   4304.011010  1390.358807  244.966273  1391.664709   \n",
              "22073  ...  8.135443e-03   8954.424331  1388.283609  252.112930  1389.583878   \n",
              "22074  ...  8.165952e-03   8320.077481  1406.137193  192.682310  1407.421573   \n",
              "22075  ...  4.436235e-03   7919.273664  1402.222237  206.448907  1403.506673   \n",
              "\n",
              "               X113          X114          X115  Unnamed: 0  label  \n",
              "0      2.933666e-08  0.000000e+00  0.000000e+00      170891    0.0  \n",
              "1      1.071021e-08  0.000000e+00  0.000000e+00     1846583    0.0  \n",
              "2      4.656613e-10  0.000000e+00  0.000000e+00        6198    0.0  \n",
              "3      4.008216e+04 -1.196681e-11 -1.675092e-08       11675    0.0  \n",
              "4      3.186418e+04  0.000000e+00  0.000000e+00      358397    0.0  \n",
              "...             ...           ...           ...         ...    ...  \n",
              "22071  3.634805e+04 -3.083220e+01 -3.967224e-02     2097523    1.0  \n",
              "22072  6.000849e+04 -4.395202e+01 -2.591355e-02     1460869    1.0  \n",
              "22073  6.356093e+04  1.612235e+01  1.532443e-02     1495676    1.0  \n",
              "22074  3.712648e+04 -4.256561e+01 -4.953509e-02     2089162    1.0  \n",
              "22075  4.262115e+04 -9.350930e+00 -1.929547e-02     1614367    1.0  \n",
              "\n",
              "[22076 rows x 117 columns]"
            ],
            "text/html": [
              "\n",
              "  <div id=\"df-6f55bbec-48c3-4bca-8610-08b47f965dbb\">\n",
              "    <div class=\"colab-df-container\">\n",
              "      <div>\n",
              "<style scoped>\n",
              "    .dataframe tbody tr th:only-of-type {\n",
              "        vertical-align: middle;\n",
              "    }\n",
              "\n",
              "    .dataframe tbody tr th {\n",
              "        vertical-align: top;\n",
              "    }\n",
              "\n",
              "    .dataframe thead th {\n",
              "        text-align: right;\n",
              "    }\n",
              "</style>\n",
              "<table border=\"1\" class=\"dataframe\">\n",
              "  <thead>\n",
              "    <tr style=\"text-align: right;\">\n",
              "      <th></th>\n",
              "      <th>X1</th>\n",
              "      <th>X2</th>\n",
              "      <th>X3</th>\n",
              "      <th>X4</th>\n",
              "      <th>X5</th>\n",
              "      <th>X6</th>\n",
              "      <th>X7</th>\n",
              "      <th>X8</th>\n",
              "      <th>X9</th>\n",
              "      <th>X10</th>\n",
              "      <th>...</th>\n",
              "      <th>X108</th>\n",
              "      <th>X109</th>\n",
              "      <th>X110</th>\n",
              "      <th>X111</th>\n",
              "      <th>X112</th>\n",
              "      <th>X113</th>\n",
              "      <th>X114</th>\n",
              "      <th>X115</th>\n",
              "      <th>Unnamed: 0</th>\n",
              "      <th>label</th>\n",
              "    </tr>\n",
              "  </thead>\n",
              "  <tbody>\n",
              "    <tr>\n",
              "      <th>0</th>\n",
              "      <td>207.984758</td>\n",
              "      <td>758.226572</td>\n",
              "      <td>447496.232601</td>\n",
              "      <td>266.055290</td>\n",
              "      <td>754.491104</td>\n",
              "      <td>444150.700311</td>\n",
              "      <td>598.440977</td>\n",
              "      <td>748.736890</td>\n",
              "      <td>440526.641698</td>\n",
              "      <td>5251.742622</td>\n",
              "      <td>...</td>\n",
              "      <td>0.000000e+00</td>\n",
              "      <td>13715.152419</td>\n",
              "      <td>1450.000000</td>\n",
              "      <td>0.000171</td>\n",
              "      <td>1450.000000</td>\n",
              "      <td>2.933666e-08</td>\n",
              "      <td>0.000000e+00</td>\n",
              "      <td>0.000000e+00</td>\n",
              "      <td>170891</td>\n",
              "      <td>0.0</td>\n",
              "    </tr>\n",
              "    <tr>\n",
              "      <th>1</th>\n",
              "      <td>197.209612</td>\n",
              "      <td>758.045542</td>\n",
              "      <td>446542.028261</td>\n",
              "      <td>255.226027</td>\n",
              "      <td>753.885048</td>\n",
              "      <td>443085.283757</td>\n",
              "      <td>584.138940</td>\n",
              "      <td>747.404327</td>\n",
              "      <td>438855.070205</td>\n",
              "      <td>5173.514392</td>\n",
              "      <td>...</td>\n",
              "      <td>0.000000e+00</td>\n",
              "      <td>22704.087738</td>\n",
              "      <td>1450.000000</td>\n",
              "      <td>0.000103</td>\n",
              "      <td>1450.000000</td>\n",
              "      <td>1.071021e-08</td>\n",
              "      <td>0.000000e+00</td>\n",
              "      <td>0.000000e+00</td>\n",
              "      <td>1846583</td>\n",
              "      <td>0.0</td>\n",
              "    </tr>\n",
              "    <tr>\n",
              "      <th>2</th>\n",
              "      <td>164.028232</td>\n",
              "      <td>752.353902</td>\n",
              "      <td>444783.736704</td>\n",
              "      <td>235.678932</td>\n",
              "      <td>748.224424</td>\n",
              "      <td>442576.854099</td>\n",
              "      <td>558.677886</td>\n",
              "      <td>743.643349</td>\n",
              "      <td>439057.648497</td>\n",
              "      <td>1475.811935</td>\n",
              "      <td>...</td>\n",
              "      <td>0.000000e+00</td>\n",
              "      <td>771.145869</td>\n",
              "      <td>1450.000000</td>\n",
              "      <td>0.000022</td>\n",
              "      <td>1450.000000</td>\n",
              "      <td>4.656613e-10</td>\n",
              "      <td>0.000000e+00</td>\n",
              "      <td>0.000000e+00</td>\n",
              "      <td>6198</td>\n",
              "      <td>0.0</td>\n",
              "    </tr>\n",
              "    <tr>\n",
              "      <th>3</th>\n",
              "      <td>28.282915</td>\n",
              "      <td>61.777406</td>\n",
              "      <td>938.863567</td>\n",
              "      <td>45.442113</td>\n",
              "      <td>63.158650</td>\n",
              "      <td>1663.852208</td>\n",
              "      <td>131.510377</td>\n",
              "      <td>64.652811</td>\n",
              "      <td>2429.187237</td>\n",
              "      <td>576.839015</td>\n",
              "      <td>...</td>\n",
              "      <td>1.566165e-08</td>\n",
              "      <td>733.203812</td>\n",
              "      <td>60.000000</td>\n",
              "      <td>0.000004</td>\n",
              "      <td>1409.238350</td>\n",
              "      <td>4.008216e+04</td>\n",
              "      <td>-1.196681e-11</td>\n",
              "      <td>-1.675092e-08</td>\n",
              "      <td>11675</td>\n",
              "      <td>0.0</td>\n",
              "    </tr>\n",
              "    <tr>\n",
              "      <th>4</th>\n",
              "      <td>202.679878</td>\n",
              "      <td>741.376516</td>\n",
              "      <td>435540.144741</td>\n",
              "      <td>343.213591</td>\n",
              "      <td>743.329936</td>\n",
              "      <td>436006.036314</td>\n",
              "      <td>1034.792378</td>\n",
              "      <td>744.494456</td>\n",
              "      <td>435952.987784</td>\n",
              "      <td>10341.505114</td>\n",
              "      <td>...</td>\n",
              "      <td>0.000000e+00</td>\n",
              "      <td>23644.067768</td>\n",
              "      <td>150.346864</td>\n",
              "      <td>178.505412</td>\n",
              "      <td>150.346864</td>\n",
              "      <td>3.186418e+04</td>\n",
              "      <td>0.000000e+00</td>\n",
              "      <td>0.000000e+00</td>\n",
              "      <td>358397</td>\n",
              "      <td>0.0</td>\n",
              "    </tr>\n",
              "    <tr>\n",
              "      <th>...</th>\n",
              "      <td>...</td>\n",
              "      <td>...</td>\n",
              "      <td>...</td>\n",
              "      <td>...</td>\n",
              "      <td>...</td>\n",
              "      <td>...</td>\n",
              "      <td>...</td>\n",
              "      <td>...</td>\n",
              "      <td>...</td>\n",
              "      <td>...</td>\n",
              "      <td>...</td>\n",
              "      <td>...</td>\n",
              "      <td>...</td>\n",
              "      <td>...</td>\n",
              "      <td>...</td>\n",
              "      <td>...</td>\n",
              "      <td>...</td>\n",
              "      <td>...</td>\n",
              "      <td>...</td>\n",
              "      <td>...</td>\n",
              "      <td>...</td>\n",
              "    </tr>\n",
              "    <tr>\n",
              "      <th>22071</th>\n",
              "      <td>42.333150</td>\n",
              "      <td>1425.002930</td>\n",
              "      <td>14654.248265</td>\n",
              "      <td>75.907653</td>\n",
              "      <td>1419.685022</td>\n",
              "      <td>22048.113094</td>\n",
              "      <td>251.417900</td>\n",
              "      <td>1412.775190</td>\n",
              "      <td>30722.554834</td>\n",
              "      <td>2583.663254</td>\n",
              "      <td>...</td>\n",
              "      <td>5.635901e-03</td>\n",
              "      <td>9345.612463</td>\n",
              "      <td>1406.803308</td>\n",
              "      <td>190.651625</td>\n",
              "      <td>1408.086280</td>\n",
              "      <td>3.634805e+04</td>\n",
              "      <td>-3.083220e+01</td>\n",
              "      <td>-3.967224e-02</td>\n",
              "      <td>2097523</td>\n",
              "      <td>1.0</td>\n",
              "    </tr>\n",
              "    <tr>\n",
              "      <th>22072</th>\n",
              "      <td>63.046327</td>\n",
              "      <td>1424.507960</td>\n",
              "      <td>21693.741026</td>\n",
              "      <td>99.309160</td>\n",
              "      <td>1415.277498</td>\n",
              "      <td>31086.702773</td>\n",
              "      <td>265.830219</td>\n",
              "      <td>1402.045127</td>\n",
              "      <td>44822.878533</td>\n",
              "      <td>2012.714825</td>\n",
              "      <td>...</td>\n",
              "      <td>1.940545e-02</td>\n",
              "      <td>4304.011010</td>\n",
              "      <td>1390.358807</td>\n",
              "      <td>244.966273</td>\n",
              "      <td>1391.664709</td>\n",
              "      <td>6.000849e+04</td>\n",
              "      <td>-4.395202e+01</td>\n",
              "      <td>-2.591355e-02</td>\n",
              "      <td>1460869</td>\n",
              "      <td>1.0</td>\n",
              "    </tr>\n",
              "    <tr>\n",
              "      <th>22073</th>\n",
              "      <td>53.527687</td>\n",
              "      <td>1390.435715</td>\n",
              "      <td>52526.539912</td>\n",
              "      <td>90.342996</td>\n",
              "      <td>1396.125179</td>\n",
              "      <td>48221.608148</td>\n",
              "      <td>270.955442</td>\n",
              "      <td>1398.141786</td>\n",
              "      <td>48552.721049</td>\n",
              "      <td>2204.489313</td>\n",
              "      <td>...</td>\n",
              "      <td>8.135443e-03</td>\n",
              "      <td>8954.424331</td>\n",
              "      <td>1388.283609</td>\n",
              "      <td>252.112930</td>\n",
              "      <td>1389.583878</td>\n",
              "      <td>6.356093e+04</td>\n",
              "      <td>1.612235e+01</td>\n",
              "      <td>1.532443e-02</td>\n",
              "      <td>1495676</td>\n",
              "      <td>1.0</td>\n",
              "    </tr>\n",
              "    <tr>\n",
              "      <th>22074</th>\n",
              "      <td>63.687001</td>\n",
              "      <td>1409.011212</td>\n",
              "      <td>41030.873921</td>\n",
              "      <td>100.927456</td>\n",
              "      <td>1405.694690</td>\n",
              "      <td>42200.649421</td>\n",
              "      <td>280.908235</td>\n",
              "      <td>1400.823004</td>\n",
              "      <td>45157.903720</td>\n",
              "      <td>2565.800226</td>\n",
              "      <td>...</td>\n",
              "      <td>8.165952e-03</td>\n",
              "      <td>8320.077481</td>\n",
              "      <td>1406.137193</td>\n",
              "      <td>192.682310</td>\n",
              "      <td>1407.421573</td>\n",
              "      <td>3.712648e+04</td>\n",
              "      <td>-4.256561e+01</td>\n",
              "      <td>-4.953509e-02</td>\n",
              "      <td>2089162</td>\n",
              "      <td>1.0</td>\n",
              "    </tr>\n",
              "    <tr>\n",
              "      <th>22075</th>\n",
              "      <td>60.372135</td>\n",
              "      <td>1400.510028</td>\n",
              "      <td>37292.566292</td>\n",
              "      <td>94.814252</td>\n",
              "      <td>1401.441488</td>\n",
              "      <td>36114.854982</td>\n",
              "      <td>272.243558</td>\n",
              "      <td>1406.044784</td>\n",
              "      <td>33350.270113</td>\n",
              "      <td>2532.527576</td>\n",
              "      <td>...</td>\n",
              "      <td>4.436235e-03</td>\n",
              "      <td>7919.273664</td>\n",
              "      <td>1402.222237</td>\n",
              "      <td>206.448907</td>\n",
              "      <td>1403.506673</td>\n",
              "      <td>4.262115e+04</td>\n",
              "      <td>-9.350930e+00</td>\n",
              "      <td>-1.929547e-02</td>\n",
              "      <td>1614367</td>\n",
              "      <td>1.0</td>\n",
              "    </tr>\n",
              "  </tbody>\n",
              "</table>\n",
              "<p>22076 rows × 117 columns</p>\n",
              "</div>\n",
              "      <button class=\"colab-df-convert\" onclick=\"convertToInteractive('df-6f55bbec-48c3-4bca-8610-08b47f965dbb')\"\n",
              "              title=\"Convert this dataframe to an interactive table.\"\n",
              "              style=\"display:none;\">\n",
              "        \n",
              "  <svg xmlns=\"http://www.w3.org/2000/svg\" height=\"24px\"viewBox=\"0 0 24 24\"\n",
              "       width=\"24px\">\n",
              "    <path d=\"M0 0h24v24H0V0z\" fill=\"none\"/>\n",
              "    <path d=\"M18.56 5.44l.94 2.06.94-2.06 2.06-.94-2.06-.94-.94-2.06-.94 2.06-2.06.94zm-11 1L8.5 8.5l.94-2.06 2.06-.94-2.06-.94L8.5 2.5l-.94 2.06-2.06.94zm10 10l.94 2.06.94-2.06 2.06-.94-2.06-.94-.94-2.06-.94 2.06-2.06.94z\"/><path d=\"M17.41 7.96l-1.37-1.37c-.4-.4-.92-.59-1.43-.59-.52 0-1.04.2-1.43.59L10.3 9.45l-7.72 7.72c-.78.78-.78 2.05 0 2.83L4 21.41c.39.39.9.59 1.41.59.51 0 1.02-.2 1.41-.59l7.78-7.78 2.81-2.81c.8-.78.8-2.07 0-2.86zM5.41 20L4 18.59l7.72-7.72 1.47 1.35L5.41 20z\"/>\n",
              "  </svg>\n",
              "      </button>\n",
              "      \n",
              "  <style>\n",
              "    .colab-df-container {\n",
              "      display:flex;\n",
              "      flex-wrap:wrap;\n",
              "      gap: 12px;\n",
              "    }\n",
              "\n",
              "    .colab-df-convert {\n",
              "      background-color: #E8F0FE;\n",
              "      border: none;\n",
              "      border-radius: 50%;\n",
              "      cursor: pointer;\n",
              "      display: none;\n",
              "      fill: #1967D2;\n",
              "      height: 32px;\n",
              "      padding: 0 0 0 0;\n",
              "      width: 32px;\n",
              "    }\n",
              "\n",
              "    .colab-df-convert:hover {\n",
              "      background-color: #E2EBFA;\n",
              "      box-shadow: 0px 1px 2px rgba(60, 64, 67, 0.3), 0px 1px 3px 1px rgba(60, 64, 67, 0.15);\n",
              "      fill: #174EA6;\n",
              "    }\n",
              "\n",
              "    [theme=dark] .colab-df-convert {\n",
              "      background-color: #3B4455;\n",
              "      fill: #D2E3FC;\n",
              "    }\n",
              "\n",
              "    [theme=dark] .colab-df-convert:hover {\n",
              "      background-color: #434B5C;\n",
              "      box-shadow: 0px 1px 3px 1px rgba(0, 0, 0, 0.15);\n",
              "      filter: drop-shadow(0px 1px 2px rgba(0, 0, 0, 0.3));\n",
              "      fill: #FFFFFF;\n",
              "    }\n",
              "  </style>\n",
              "\n",
              "      <script>\n",
              "        const buttonEl =\n",
              "          document.querySelector('#df-6f55bbec-48c3-4bca-8610-08b47f965dbb button.colab-df-convert');\n",
              "        buttonEl.style.display =\n",
              "          google.colab.kernel.accessAllowed ? 'block' : 'none';\n",
              "\n",
              "        async function convertToInteractive(key) {\n",
              "          const element = document.querySelector('#df-6f55bbec-48c3-4bca-8610-08b47f965dbb');\n",
              "          const dataTable =\n",
              "            await google.colab.kernel.invokeFunction('convertToInteractive',\n",
              "                                                     [key], {});\n",
              "          if (!dataTable) return;\n",
              "\n",
              "          const docLinkHtml = 'Like what you see? Visit the ' +\n",
              "            '<a target=\"_blank\" href=https://colab.research.google.com/notebooks/data_table.ipynb>data table notebook</a>'\n",
              "            + ' to learn more about interactive tables.';\n",
              "          element.innerHTML = '';\n",
              "          dataTable['output_type'] = 'display_data';\n",
              "          await google.colab.output.renderOutput(dataTable, element);\n",
              "          const docLink = document.createElement('div');\n",
              "          docLink.innerHTML = docLinkHtml;\n",
              "          element.appendChild(docLink);\n",
              "        }\n",
              "      </script>\n",
              "    </div>\n",
              "  </div>\n",
              "  "
            ]
          },
          "metadata": {},
          "execution_count": 7
        }
      ],
      "source": [
        "# sampling data taking only 50% of the data\n",
        "# bin_data = bin_data_total.groupby('label', group_keys=False).apply(lambda x: x.sample(frac=0.5))\n",
        "bin_data = bin_data_total\n",
        "bin_data"
      ]
    },
    {
      "cell_type": "code",
      "source": [
        "number_of_cols = bin_data.shape[1]"
      ],
      "metadata": {
        "id": "N125Cc3Ukt8h"
      },
      "execution_count": 8,
      "outputs": []
    },
    {
      "cell_type": "code",
      "execution_count": 9,
      "metadata": {
        "id": "nKX2TRG0J85J",
        "colab": {
          "base_uri": "https://localhost:8080/"
        },
        "outputId": "755b10cc-be4d-44e7-f1d6-026e5f5a661d"
      },
      "outputs": [
        {
          "output_type": "execute_result",
          "data": {
            "text/plain": [
              "0.0    0.958009\n",
              "1.0    0.041991\n",
              "Name: label, dtype: float64"
            ]
          },
          "metadata": {},
          "execution_count": 9
        }
      ],
      "source": [
        "# distribution of label class after sampling\n",
        "data_size = bin_data.shape[0]\n",
        "bin_data.label.value_counts()/data_size"
      ]
    },
    {
      "cell_type": "code",
      "execution_count": 10,
      "metadata": {
        "id": "L11T2MepDzax"
      },
      "outputs": [],
      "source": [
        "model_selection = {\n",
        "    0 : \"ALL\",\n",
        "    2 : \"MLP\",\n",
        "    3 : \"LSTM\",\n",
        "    4 : \"AE\"\n",
        "}\n",
        "model_flag = 0\n",
        "svm_enable = 1"
      ]
    },
    {
      "cell_type": "code",
      "execution_count": 11,
      "metadata": {
        "id": "OdRAXVlsxUVW"
      },
      "outputs": [],
      "source": [
        "X = bin_data.iloc[:,0:number_of_cols] # dataset excluding target attribute (encoded, one-hot-encoded,original)\n",
        "Y = bin_data['label'] # target attribute"
      ]
    },
    {
      "cell_type": "code",
      "execution_count": 12,
      "metadata": {
        "id": "lFdHHvRtxU5B"
      },
      "outputs": [],
      "source": [
        "# splitting the dataset 75% for training and 25% testing\n",
        "X_train, X_test, y_train, y_test = train_test_split(X,Y, test_size=0.25, random_state=42) "
      ]
    },
    {
      "cell_type": "code",
      "source": [
        "# calling the normalization() function\n",
        "X_train = normalization_train(X_train,numeric_cols)\n",
        "X_train.head()"
      ],
      "metadata": {
        "id": "SLLlMtsaYJdK",
        "colab": {
          "base_uri": "https://localhost:8080/",
          "height": 404
        },
        "outputId": "e8bace2b-787b-44f2-d398-c85c52cc26cf"
      },
      "execution_count": 13,
      "outputs": [
        {
          "output_type": "execute_result",
          "data": {
            "text/plain": [
              "             X1        X2        X3        X4        X5        X6        X7  \\\n",
              "17629  0.352632  0.501315  0.958633  0.398031  0.500041  0.961815  0.459124   \n",
              "5438   0.201716  0.476563  0.923905  0.273683  0.480927  0.938720  0.406626   \n",
              "12243  0.627557  0.502580  0.985239  0.557351  0.500468  0.982867  0.508747   \n",
              "7302   0.206028  0.969986  0.094588  0.223160  0.966059  0.104860  0.247036   \n",
              "8164   0.225206  0.469779  0.939566  0.278596  0.477029  0.944382  0.396487   \n",
              "\n",
              "             X8        X9       X10  ...      X108      X109      X110  \\\n",
              "17629  0.501106  0.973889  0.476535  ...  0.627001  0.505823  1.000000   \n",
              "5438   0.490910  0.963619  0.487705  ...  0.627001  0.613280  0.068957   \n",
              "12243  0.500805  0.983861  0.486373  ...  0.627001  0.496206  1.000000   \n",
              "7302   0.971616  0.105217  0.244196  ...  0.627001  0.539162  0.971816   \n",
              "8164   0.490812  0.963318  0.485260  ...  0.627001  0.515990  1.000000   \n",
              "\n",
              "               X111      X112          X113     X114      X115  Unnamed: 0  \\\n",
              "17629  1.735379e-07  1.000000  3.010926e-14  0.74044  0.586849    0.949747   \n",
              "5438   3.374810e-01  0.068957  1.138702e-01  0.74044  0.586849    0.885262   \n",
              "12243  2.603069e-07  1.000000  6.774583e-14  0.74044  0.586849    0.579881   \n",
              "7302   3.062648e-01  0.972734  9.377896e-02  0.74044  0.586849    0.291479   \n",
              "8164   1.325418e-07  1.000000  1.756373e-14  0.74044  0.586849    0.901067   \n",
              "\n",
              "       label  \n",
              "17629    0.0  \n",
              "5438     0.0  \n",
              "12243    0.0  \n",
              "7302     0.0  \n",
              "8164     0.0  \n",
              "\n",
              "[5 rows x 117 columns]"
            ],
            "text/html": [
              "\n",
              "  <div id=\"df-1ca79cab-c11a-496b-b1ec-1268c08f698c\">\n",
              "    <div class=\"colab-df-container\">\n",
              "      <div>\n",
              "<style scoped>\n",
              "    .dataframe tbody tr th:only-of-type {\n",
              "        vertical-align: middle;\n",
              "    }\n",
              "\n",
              "    .dataframe tbody tr th {\n",
              "        vertical-align: top;\n",
              "    }\n",
              "\n",
              "    .dataframe thead th {\n",
              "        text-align: right;\n",
              "    }\n",
              "</style>\n",
              "<table border=\"1\" class=\"dataframe\">\n",
              "  <thead>\n",
              "    <tr style=\"text-align: right;\">\n",
              "      <th></th>\n",
              "      <th>X1</th>\n",
              "      <th>X2</th>\n",
              "      <th>X3</th>\n",
              "      <th>X4</th>\n",
              "      <th>X5</th>\n",
              "      <th>X6</th>\n",
              "      <th>X7</th>\n",
              "      <th>X8</th>\n",
              "      <th>X9</th>\n",
              "      <th>X10</th>\n",
              "      <th>...</th>\n",
              "      <th>X108</th>\n",
              "      <th>X109</th>\n",
              "      <th>X110</th>\n",
              "      <th>X111</th>\n",
              "      <th>X112</th>\n",
              "      <th>X113</th>\n",
              "      <th>X114</th>\n",
              "      <th>X115</th>\n",
              "      <th>Unnamed: 0</th>\n",
              "      <th>label</th>\n",
              "    </tr>\n",
              "  </thead>\n",
              "  <tbody>\n",
              "    <tr>\n",
              "      <th>17629</th>\n",
              "      <td>0.352632</td>\n",
              "      <td>0.501315</td>\n",
              "      <td>0.958633</td>\n",
              "      <td>0.398031</td>\n",
              "      <td>0.500041</td>\n",
              "      <td>0.961815</td>\n",
              "      <td>0.459124</td>\n",
              "      <td>0.501106</td>\n",
              "      <td>0.973889</td>\n",
              "      <td>0.476535</td>\n",
              "      <td>...</td>\n",
              "      <td>0.627001</td>\n",
              "      <td>0.505823</td>\n",
              "      <td>1.000000</td>\n",
              "      <td>1.735379e-07</td>\n",
              "      <td>1.000000</td>\n",
              "      <td>3.010926e-14</td>\n",
              "      <td>0.74044</td>\n",
              "      <td>0.586849</td>\n",
              "      <td>0.949747</td>\n",
              "      <td>0.0</td>\n",
              "    </tr>\n",
              "    <tr>\n",
              "      <th>5438</th>\n",
              "      <td>0.201716</td>\n",
              "      <td>0.476563</td>\n",
              "      <td>0.923905</td>\n",
              "      <td>0.273683</td>\n",
              "      <td>0.480927</td>\n",
              "      <td>0.938720</td>\n",
              "      <td>0.406626</td>\n",
              "      <td>0.490910</td>\n",
              "      <td>0.963619</td>\n",
              "      <td>0.487705</td>\n",
              "      <td>...</td>\n",
              "      <td>0.627001</td>\n",
              "      <td>0.613280</td>\n",
              "      <td>0.068957</td>\n",
              "      <td>3.374810e-01</td>\n",
              "      <td>0.068957</td>\n",
              "      <td>1.138702e-01</td>\n",
              "      <td>0.74044</td>\n",
              "      <td>0.586849</td>\n",
              "      <td>0.885262</td>\n",
              "      <td>0.0</td>\n",
              "    </tr>\n",
              "    <tr>\n",
              "      <th>12243</th>\n",
              "      <td>0.627557</td>\n",
              "      <td>0.502580</td>\n",
              "      <td>0.985239</td>\n",
              "      <td>0.557351</td>\n",
              "      <td>0.500468</td>\n",
              "      <td>0.982867</td>\n",
              "      <td>0.508747</td>\n",
              "      <td>0.500805</td>\n",
              "      <td>0.983861</td>\n",
              "      <td>0.486373</td>\n",
              "      <td>...</td>\n",
              "      <td>0.627001</td>\n",
              "      <td>0.496206</td>\n",
              "      <td>1.000000</td>\n",
              "      <td>2.603069e-07</td>\n",
              "      <td>1.000000</td>\n",
              "      <td>6.774583e-14</td>\n",
              "      <td>0.74044</td>\n",
              "      <td>0.586849</td>\n",
              "      <td>0.579881</td>\n",
              "      <td>0.0</td>\n",
              "    </tr>\n",
              "    <tr>\n",
              "      <th>7302</th>\n",
              "      <td>0.206028</td>\n",
              "      <td>0.969986</td>\n",
              "      <td>0.094588</td>\n",
              "      <td>0.223160</td>\n",
              "      <td>0.966059</td>\n",
              "      <td>0.104860</td>\n",
              "      <td>0.247036</td>\n",
              "      <td>0.971616</td>\n",
              "      <td>0.105217</td>\n",
              "      <td>0.244196</td>\n",
              "      <td>...</td>\n",
              "      <td>0.627001</td>\n",
              "      <td>0.539162</td>\n",
              "      <td>0.971816</td>\n",
              "      <td>3.062648e-01</td>\n",
              "      <td>0.972734</td>\n",
              "      <td>9.377896e-02</td>\n",
              "      <td>0.74044</td>\n",
              "      <td>0.586849</td>\n",
              "      <td>0.291479</td>\n",
              "      <td>0.0</td>\n",
              "    </tr>\n",
              "    <tr>\n",
              "      <th>8164</th>\n",
              "      <td>0.225206</td>\n",
              "      <td>0.469779</td>\n",
              "      <td>0.939566</td>\n",
              "      <td>0.278596</td>\n",
              "      <td>0.477029</td>\n",
              "      <td>0.944382</td>\n",
              "      <td>0.396487</td>\n",
              "      <td>0.490812</td>\n",
              "      <td>0.963318</td>\n",
              "      <td>0.485260</td>\n",
              "      <td>...</td>\n",
              "      <td>0.627001</td>\n",
              "      <td>0.515990</td>\n",
              "      <td>1.000000</td>\n",
              "      <td>1.325418e-07</td>\n",
              "      <td>1.000000</td>\n",
              "      <td>1.756373e-14</td>\n",
              "      <td>0.74044</td>\n",
              "      <td>0.586849</td>\n",
              "      <td>0.901067</td>\n",
              "      <td>0.0</td>\n",
              "    </tr>\n",
              "  </tbody>\n",
              "</table>\n",
              "<p>5 rows × 117 columns</p>\n",
              "</div>\n",
              "      <button class=\"colab-df-convert\" onclick=\"convertToInteractive('df-1ca79cab-c11a-496b-b1ec-1268c08f698c')\"\n",
              "              title=\"Convert this dataframe to an interactive table.\"\n",
              "              style=\"display:none;\">\n",
              "        \n",
              "  <svg xmlns=\"http://www.w3.org/2000/svg\" height=\"24px\"viewBox=\"0 0 24 24\"\n",
              "       width=\"24px\">\n",
              "    <path d=\"M0 0h24v24H0V0z\" fill=\"none\"/>\n",
              "    <path d=\"M18.56 5.44l.94 2.06.94-2.06 2.06-.94-2.06-.94-.94-2.06-.94 2.06-2.06.94zm-11 1L8.5 8.5l.94-2.06 2.06-.94-2.06-.94L8.5 2.5l-.94 2.06-2.06.94zm10 10l.94 2.06.94-2.06 2.06-.94-2.06-.94-.94-2.06-.94 2.06-2.06.94z\"/><path d=\"M17.41 7.96l-1.37-1.37c-.4-.4-.92-.59-1.43-.59-.52 0-1.04.2-1.43.59L10.3 9.45l-7.72 7.72c-.78.78-.78 2.05 0 2.83L4 21.41c.39.39.9.59 1.41.59.51 0 1.02-.2 1.41-.59l7.78-7.78 2.81-2.81c.8-.78.8-2.07 0-2.86zM5.41 20L4 18.59l7.72-7.72 1.47 1.35L5.41 20z\"/>\n",
              "  </svg>\n",
              "      </button>\n",
              "      \n",
              "  <style>\n",
              "    .colab-df-container {\n",
              "      display:flex;\n",
              "      flex-wrap:wrap;\n",
              "      gap: 12px;\n",
              "    }\n",
              "\n",
              "    .colab-df-convert {\n",
              "      background-color: #E8F0FE;\n",
              "      border: none;\n",
              "      border-radius: 50%;\n",
              "      cursor: pointer;\n",
              "      display: none;\n",
              "      fill: #1967D2;\n",
              "      height: 32px;\n",
              "      padding: 0 0 0 0;\n",
              "      width: 32px;\n",
              "    }\n",
              "\n",
              "    .colab-df-convert:hover {\n",
              "      background-color: #E2EBFA;\n",
              "      box-shadow: 0px 1px 2px rgba(60, 64, 67, 0.3), 0px 1px 3px 1px rgba(60, 64, 67, 0.15);\n",
              "      fill: #174EA6;\n",
              "    }\n",
              "\n",
              "    [theme=dark] .colab-df-convert {\n",
              "      background-color: #3B4455;\n",
              "      fill: #D2E3FC;\n",
              "    }\n",
              "\n",
              "    [theme=dark] .colab-df-convert:hover {\n",
              "      background-color: #434B5C;\n",
              "      box-shadow: 0px 1px 3px 1px rgba(0, 0, 0, 0.15);\n",
              "      filter: drop-shadow(0px 1px 2px rgba(0, 0, 0, 0.3));\n",
              "      fill: #FFFFFF;\n",
              "    }\n",
              "  </style>\n",
              "\n",
              "      <script>\n",
              "        const buttonEl =\n",
              "          document.querySelector('#df-1ca79cab-c11a-496b-b1ec-1268c08f698c button.colab-df-convert');\n",
              "        buttonEl.style.display =\n",
              "          google.colab.kernel.accessAllowed ? 'block' : 'none';\n",
              "\n",
              "        async function convertToInteractive(key) {\n",
              "          const element = document.querySelector('#df-1ca79cab-c11a-496b-b1ec-1268c08f698c');\n",
              "          const dataTable =\n",
              "            await google.colab.kernel.invokeFunction('convertToInteractive',\n",
              "                                                     [key], {});\n",
              "          if (!dataTable) return;\n",
              "\n",
              "          const docLinkHtml = 'Like what you see? Visit the ' +\n",
              "            '<a target=\"_blank\" href=https://colab.research.google.com/notebooks/data_table.ipynb>data table notebook</a>'\n",
              "            + ' to learn more about interactive tables.';\n",
              "          element.innerHTML = '';\n",
              "          dataTable['output_type'] = 'display_data';\n",
              "          await google.colab.output.renderOutput(dataTable, element);\n",
              "          const docLink = document.createElement('div');\n",
              "          docLink.innerHTML = docLinkHtml;\n",
              "          element.appendChild(docLink);\n",
              "        }\n",
              "      </script>\n",
              "    </div>\n",
              "  </div>\n",
              "  "
            ]
          },
          "metadata": {},
          "execution_count": 13
        }
      ]
    },
    {
      "cell_type": "code",
      "source": [
        "# calling the normalization() function\n",
        "X_test = normalization_test(X_test,numeric_cols)\n",
        "X_test.head()"
      ],
      "metadata": {
        "id": "EKmhgZCobPU3",
        "colab": {
          "base_uri": "https://localhost:8080/",
          "height": 317
        },
        "outputId": "e23eda51-d7d2-4a62-9103-9b82626a462a"
      },
      "execution_count": 14,
      "outputs": [
        {
          "output_type": "execute_result",
          "data": {
            "text/plain": [
              "             X1        X2        X3        X4        X5        X6        X7  \\\n",
              "17547 -0.000024  0.000260  0.199182  0.000008  0.000259  0.198542  0.000164   \n",
              "12396 -0.000038  0.000255  0.197576 -0.000009  0.000257  0.198209  0.000144   \n",
              "3142  -0.000043  0.000246  0.196062 -0.000014  0.000250  0.197022  0.000140   \n",
              "4528  -0.000064 -0.000052 -0.000079 -0.000057 -0.000052 -0.000079 -0.000019   \n",
              "17451  0.000042  0.000259  0.200296  0.000100  0.000259  0.199216  0.000407   \n",
              "\n",
              "             X8        X9       X10  ...      X108      X109      X110  \\\n",
              "17547  0.000258  0.197736  0.002265  ... -0.000079  0.012345 -0.000006   \n",
              "12396  0.000259  0.199138  0.002093  ... -0.000079  0.011702 -0.000006   \n",
              "3142   0.000254  0.198288  0.002228  ... -0.000079  0.012116 -0.000011   \n",
              "4528  -0.000052 -0.000079  0.000367  ... -0.000079  0.000678 -0.000051   \n",
              "17451  0.000258  0.197874  0.004258  ... -0.000079  0.004733  0.000578   \n",
              "\n",
              "           X111      X112      X113      X114      X115  Unnamed: 0  label  \n",
              "17547  0.000018 -0.000006  0.020748 -0.000079 -0.000079    0.884198    0.0  \n",
              "12396  0.000022 -0.000006  0.022147 -0.000079 -0.000079    0.996888    0.0  \n",
              "3142   0.000007 -0.000011  0.016241 -0.000079 -0.000079    0.639226    0.0  \n",
              "4528  -0.000075  0.000558  0.018388 -0.000180 -0.000079    0.864086    0.0  \n",
              "17451 -0.000079  0.000578 -0.000079 -0.000079 -0.000079    0.022501    0.0  \n",
              "\n",
              "[5 rows x 117 columns]"
            ],
            "text/html": [
              "\n",
              "  <div id=\"df-59848c01-d259-471c-ad1c-cc5ebfcf0968\">\n",
              "    <div class=\"colab-df-container\">\n",
              "      <div>\n",
              "<style scoped>\n",
              "    .dataframe tbody tr th:only-of-type {\n",
              "        vertical-align: middle;\n",
              "    }\n",
              "\n",
              "    .dataframe tbody tr th {\n",
              "        vertical-align: top;\n",
              "    }\n",
              "\n",
              "    .dataframe thead th {\n",
              "        text-align: right;\n",
              "    }\n",
              "</style>\n",
              "<table border=\"1\" class=\"dataframe\">\n",
              "  <thead>\n",
              "    <tr style=\"text-align: right;\">\n",
              "      <th></th>\n",
              "      <th>X1</th>\n",
              "      <th>X2</th>\n",
              "      <th>X3</th>\n",
              "      <th>X4</th>\n",
              "      <th>X5</th>\n",
              "      <th>X6</th>\n",
              "      <th>X7</th>\n",
              "      <th>X8</th>\n",
              "      <th>X9</th>\n",
              "      <th>X10</th>\n",
              "      <th>...</th>\n",
              "      <th>X108</th>\n",
              "      <th>X109</th>\n",
              "      <th>X110</th>\n",
              "      <th>X111</th>\n",
              "      <th>X112</th>\n",
              "      <th>X113</th>\n",
              "      <th>X114</th>\n",
              "      <th>X115</th>\n",
              "      <th>Unnamed: 0</th>\n",
              "      <th>label</th>\n",
              "    </tr>\n",
              "  </thead>\n",
              "  <tbody>\n",
              "    <tr>\n",
              "      <th>17547</th>\n",
              "      <td>-0.000024</td>\n",
              "      <td>0.000260</td>\n",
              "      <td>0.199182</td>\n",
              "      <td>0.000008</td>\n",
              "      <td>0.000259</td>\n",
              "      <td>0.198542</td>\n",
              "      <td>0.000164</td>\n",
              "      <td>0.000258</td>\n",
              "      <td>0.197736</td>\n",
              "      <td>0.002265</td>\n",
              "      <td>...</td>\n",
              "      <td>-0.000079</td>\n",
              "      <td>0.012345</td>\n",
              "      <td>-0.000006</td>\n",
              "      <td>0.000018</td>\n",
              "      <td>-0.000006</td>\n",
              "      <td>0.020748</td>\n",
              "      <td>-0.000079</td>\n",
              "      <td>-0.000079</td>\n",
              "      <td>0.884198</td>\n",
              "      <td>0.0</td>\n",
              "    </tr>\n",
              "    <tr>\n",
              "      <th>12396</th>\n",
              "      <td>-0.000038</td>\n",
              "      <td>0.000255</td>\n",
              "      <td>0.197576</td>\n",
              "      <td>-0.000009</td>\n",
              "      <td>0.000257</td>\n",
              "      <td>0.198209</td>\n",
              "      <td>0.000144</td>\n",
              "      <td>0.000259</td>\n",
              "      <td>0.199138</td>\n",
              "      <td>0.002093</td>\n",
              "      <td>...</td>\n",
              "      <td>-0.000079</td>\n",
              "      <td>0.011702</td>\n",
              "      <td>-0.000006</td>\n",
              "      <td>0.000022</td>\n",
              "      <td>-0.000006</td>\n",
              "      <td>0.022147</td>\n",
              "      <td>-0.000079</td>\n",
              "      <td>-0.000079</td>\n",
              "      <td>0.996888</td>\n",
              "      <td>0.0</td>\n",
              "    </tr>\n",
              "    <tr>\n",
              "      <th>3142</th>\n",
              "      <td>-0.000043</td>\n",
              "      <td>0.000246</td>\n",
              "      <td>0.196062</td>\n",
              "      <td>-0.000014</td>\n",
              "      <td>0.000250</td>\n",
              "      <td>0.197022</td>\n",
              "      <td>0.000140</td>\n",
              "      <td>0.000254</td>\n",
              "      <td>0.198288</td>\n",
              "      <td>0.002228</td>\n",
              "      <td>...</td>\n",
              "      <td>-0.000079</td>\n",
              "      <td>0.012116</td>\n",
              "      <td>-0.000011</td>\n",
              "      <td>0.000007</td>\n",
              "      <td>-0.000011</td>\n",
              "      <td>0.016241</td>\n",
              "      <td>-0.000079</td>\n",
              "      <td>-0.000079</td>\n",
              "      <td>0.639226</td>\n",
              "      <td>0.0</td>\n",
              "    </tr>\n",
              "    <tr>\n",
              "      <th>4528</th>\n",
              "      <td>-0.000064</td>\n",
              "      <td>-0.000052</td>\n",
              "      <td>-0.000079</td>\n",
              "      <td>-0.000057</td>\n",
              "      <td>-0.000052</td>\n",
              "      <td>-0.000079</td>\n",
              "      <td>-0.000019</td>\n",
              "      <td>-0.000052</td>\n",
              "      <td>-0.000079</td>\n",
              "      <td>0.000367</td>\n",
              "      <td>...</td>\n",
              "      <td>-0.000079</td>\n",
              "      <td>0.000678</td>\n",
              "      <td>-0.000051</td>\n",
              "      <td>-0.000075</td>\n",
              "      <td>0.000558</td>\n",
              "      <td>0.018388</td>\n",
              "      <td>-0.000180</td>\n",
              "      <td>-0.000079</td>\n",
              "      <td>0.864086</td>\n",
              "      <td>0.0</td>\n",
              "    </tr>\n",
              "    <tr>\n",
              "      <th>17451</th>\n",
              "      <td>0.000042</td>\n",
              "      <td>0.000259</td>\n",
              "      <td>0.200296</td>\n",
              "      <td>0.000100</td>\n",
              "      <td>0.000259</td>\n",
              "      <td>0.199216</td>\n",
              "      <td>0.000407</td>\n",
              "      <td>0.000258</td>\n",
              "      <td>0.197874</td>\n",
              "      <td>0.004258</td>\n",
              "      <td>...</td>\n",
              "      <td>-0.000079</td>\n",
              "      <td>0.004733</td>\n",
              "      <td>0.000578</td>\n",
              "      <td>-0.000079</td>\n",
              "      <td>0.000578</td>\n",
              "      <td>-0.000079</td>\n",
              "      <td>-0.000079</td>\n",
              "      <td>-0.000079</td>\n",
              "      <td>0.022501</td>\n",
              "      <td>0.0</td>\n",
              "    </tr>\n",
              "  </tbody>\n",
              "</table>\n",
              "<p>5 rows × 117 columns</p>\n",
              "</div>\n",
              "      <button class=\"colab-df-convert\" onclick=\"convertToInteractive('df-59848c01-d259-471c-ad1c-cc5ebfcf0968')\"\n",
              "              title=\"Convert this dataframe to an interactive table.\"\n",
              "              style=\"display:none;\">\n",
              "        \n",
              "  <svg xmlns=\"http://www.w3.org/2000/svg\" height=\"24px\"viewBox=\"0 0 24 24\"\n",
              "       width=\"24px\">\n",
              "    <path d=\"M0 0h24v24H0V0z\" fill=\"none\"/>\n",
              "    <path d=\"M18.56 5.44l.94 2.06.94-2.06 2.06-.94-2.06-.94-.94-2.06-.94 2.06-2.06.94zm-11 1L8.5 8.5l.94-2.06 2.06-.94-2.06-.94L8.5 2.5l-.94 2.06-2.06.94zm10 10l.94 2.06.94-2.06 2.06-.94-2.06-.94-.94-2.06-.94 2.06-2.06.94z\"/><path d=\"M17.41 7.96l-1.37-1.37c-.4-.4-.92-.59-1.43-.59-.52 0-1.04.2-1.43.59L10.3 9.45l-7.72 7.72c-.78.78-.78 2.05 0 2.83L4 21.41c.39.39.9.59 1.41.59.51 0 1.02-.2 1.41-.59l7.78-7.78 2.81-2.81c.8-.78.8-2.07 0-2.86zM5.41 20L4 18.59l7.72-7.72 1.47 1.35L5.41 20z\"/>\n",
              "  </svg>\n",
              "      </button>\n",
              "      \n",
              "  <style>\n",
              "    .colab-df-container {\n",
              "      display:flex;\n",
              "      flex-wrap:wrap;\n",
              "      gap: 12px;\n",
              "    }\n",
              "\n",
              "    .colab-df-convert {\n",
              "      background-color: #E8F0FE;\n",
              "      border: none;\n",
              "      border-radius: 50%;\n",
              "      cursor: pointer;\n",
              "      display: none;\n",
              "      fill: #1967D2;\n",
              "      height: 32px;\n",
              "      padding: 0 0 0 0;\n",
              "      width: 32px;\n",
              "    }\n",
              "\n",
              "    .colab-df-convert:hover {\n",
              "      background-color: #E2EBFA;\n",
              "      box-shadow: 0px 1px 2px rgba(60, 64, 67, 0.3), 0px 1px 3px 1px rgba(60, 64, 67, 0.15);\n",
              "      fill: #174EA6;\n",
              "    }\n",
              "\n",
              "    [theme=dark] .colab-df-convert {\n",
              "      background-color: #3B4455;\n",
              "      fill: #D2E3FC;\n",
              "    }\n",
              "\n",
              "    [theme=dark] .colab-df-convert:hover {\n",
              "      background-color: #434B5C;\n",
              "      box-shadow: 0px 1px 3px 1px rgba(0, 0, 0, 0.15);\n",
              "      filter: drop-shadow(0px 1px 2px rgba(0, 0, 0, 0.3));\n",
              "      fill: #FFFFFF;\n",
              "    }\n",
              "  </style>\n",
              "\n",
              "      <script>\n",
              "        const buttonEl =\n",
              "          document.querySelector('#df-59848c01-d259-471c-ad1c-cc5ebfcf0968 button.colab-df-convert');\n",
              "        buttonEl.style.display =\n",
              "          google.colab.kernel.accessAllowed ? 'block' : 'none';\n",
              "\n",
              "        async function convertToInteractive(key) {\n",
              "          const element = document.querySelector('#df-59848c01-d259-471c-ad1c-cc5ebfcf0968');\n",
              "          const dataTable =\n",
              "            await google.colab.kernel.invokeFunction('convertToInteractive',\n",
              "                                                     [key], {});\n",
              "          if (!dataTable) return;\n",
              "\n",
              "          const docLinkHtml = 'Like what you see? Visit the ' +\n",
              "            '<a target=\"_blank\" href=https://colab.research.google.com/notebooks/data_table.ipynb>data table notebook</a>'\n",
              "            + ' to learn more about interactive tables.';\n",
              "          element.innerHTML = '';\n",
              "          dataTable['output_type'] = 'display_data';\n",
              "          await google.colab.output.renderOutput(dataTable, element);\n",
              "          const docLink = document.createElement('div');\n",
              "          docLink.innerHTML = docLinkHtml;\n",
              "          element.appendChild(docLink);\n",
              "        }\n",
              "      </script>\n",
              "    </div>\n",
              "  </div>\n",
              "  "
            ]
          },
          "metadata": {},
          "execution_count": 14
        }
      ]
    },
    {
      "cell_type": "markdown",
      "metadata": {
        "id": "ZfAbEIDgz4iY"
      },
      "source": [
        "## **Linear Support Vector Machine Classifier (Binary Classification) **\n",
        "to enable make the svm_enable = 1 in the above cell"
      ]
    },
    {
      "cell_type": "code",
      "execution_count": 15,
      "metadata": {
        "id": "o8GdMBjdzFQT"
      },
      "outputs": [],
      "source": [
        "if svm_enable:\n",
        "  # using kernel as linear \n",
        "  lsvm = SVC(kernel='linear',gamma='auto') \n",
        "  lsvm.fit(X_train,y_train) # training model on training dataset"
      ]
    },
    {
      "cell_type": "code",
      "execution_count": 16,
      "metadata": {
        "id": "NjfYZA_9zTNK",
        "colab": {
          "base_uri": "https://localhost:8080/"
        },
        "outputId": "2168c466-14e8-4e36-e4a5-9d7b84f5a966"
      },
      "outputs": [
        {
          "output_type": "stream",
          "name": "stdout",
          "text": [
            "Saved model to disk\n",
            "Loaded model from disk\n"
          ]
        }
      ],
      "source": [
        "if svm_enable:\n",
        "  pkl_filename = \"/content/drive/MyDrive/Colab_Notebooks/Models/lsvm_binary\"+model_name_suffix+\".pkl\"\n",
        "  if (not path.isfile(pkl_filename)):\n",
        "    # saving the trained model to disk\n",
        "    with open(pkl_filename, 'wb') as file:\n",
        "      pickle.dump(lsvm, file)\n",
        "    print(\"Saved model to disk\")\n",
        "    # loading the trained model from disk\n",
        "    with open(pkl_filename, 'rb') as file:\n",
        "      lsvm = pickle.load(file)\n",
        "    print(\"Loaded model from disk\") "
      ]
    },
    {
      "cell_type": "code",
      "execution_count": 17,
      "metadata": {
        "id": "xsnN51Juzgcf",
        "colab": {
          "base_uri": "https://localhost:8080/"
        },
        "outputId": "f286c20b-4792-4b98-b8d8-928879931011"
      },
      "outputs": [
        {
          "output_type": "stream",
          "name": "stdout",
          "text": [
            "LSVM-Classifier Binary Set-Accuracy is  64.81246602645406\n"
          ]
        }
      ],
      "source": [
        "if svm_enable:\n",
        "  y_pred = lsvm.predict(X_test) # predicting target attribute on testing dataset\n",
        "  ac = accuracy_score(y_test, y_pred)*100 # calculating accuracy of predicted data\n",
        "  print(\"LSVM-Classifier Binary Set-Accuracy is \", ac)"
      ]
    },
    {
      "cell_type": "code",
      "execution_count": 18,
      "metadata": {
        "id": "qg2gbJTg8NtL"
      },
      "outputs": [],
      "source": [
        "# import matplotlib.pyplot as plt\n",
        "# from sklearn.datasets import make_classification\n",
        "# from sklearn.metrics import confusion_matrix, ConfusionMatrixDisplay\n",
        "# from sklearn.model_selection import train_test_split\n",
        "# from sklearn.svm import SVC\n",
        "# X, y = make_classification(random_state=0)\n",
        "# X_train, X_test, y_train, y_test = train_test_split(X, y,\n",
        "#                                                     random_state=0)\n",
        "# cm = confusion_matrix(y_test, y_pred, labels=lsvm.classes_)\n",
        "# disp = ConfusionMatrixDisplay(confusion_matrix=cm,\n",
        "#                               display_labels=lsvm.classes_)\n",
        "# disp.plot()\n",
        "\n",
        "# plt.show()"
      ]
    },
    {
      "cell_type": "code",
      "execution_count": 19,
      "metadata": {
        "id": "9IydNlzT5kx6",
        "colab": {
          "base_uri": "https://localhost:8080/",
          "height": 587
        },
        "outputId": "f5d1d5a8-2a4f-4456-eeb5-826534b81b56"
      },
      "outputs": [
        {
          "output_type": "display_data",
          "data": {
            "text/plain": [
              "<Figure size 2000x800 with 1 Axes>"
            ],
            "image/png": "[encoded data removed]"
          },
          "metadata": {}
        }
      ],
      "source": [
        "if svm_enable:\n",
        "  plt.figure(figsize=(20,8))\n",
        "  plt.plot(y_pred[300:500], label=\"prediction\", linewidth=2.0,color='blue')\n",
        "  plt.plot(y_test[300:500].values, label=\"real_values\", linewidth=2.0,color='lightcoral')\n",
        "  plt.legend(loc=\"best\")\n",
        "  plt.ylim((-1,2))\n",
        "  plt.title(\"Linear SVM Binary Classification\")\n",
        "  plt.savefig('/content/drive/MyDrive/Colab_Notebooks/Plots/lsvm_real_pred_bin.png')\n",
        "  plt.show()"
      ]
    },
    {
      "cell_type": "code",
      "execution_count": 20,
      "metadata": {
        "id": "s9lqoveaUBvg",
        "colab": {
          "base_uri": "https://localhost:8080/"
        },
        "outputId": "b78f96b9-b5fd-41be-bd07-c116e6254b20"
      },
      "outputs": [
        {
          "output_type": "stream",
          "name": "stdout",
          "text": [
            "              precision    recall  f1-score   support\n",
            "\n",
            "     class 0       1.00      0.63      0.78      5305\n",
            "     class 1       0.10      1.00      0.18       214\n",
            "\n",
            "    accuracy                           0.65      5519\n",
            "   macro avg       0.55      0.82      0.48      5519\n",
            "weighted avg       0.97      0.65      0.75      5519\n",
            "\n",
            "False Positive Rate -  [0.36606975]\n",
            "False Negative Rate -  [0.]\n",
            "Thresholds -  [1.]\n"
          ]
        }
      ],
      "source": [
        "if svm_enable:\n",
        "  target_names = ['class 0', 'class 1']\n",
        "  print(classification_report(y_test, y_pred, target_names=target_names))\n",
        "  fpr, fnr, thresholds = det_curve(y_test, y_pred)\n",
        "  print(\"False Positive Rate - \", fpr)\n",
        "  print(\"False Negative Rate - \", fnr)\n",
        "  print(\"Thresholds - \", thresholds)"
      ]
    },
    {
      "cell_type": "code",
      "execution_count": 21,
      "metadata": {
        "id": "kWxBZhnw9t5n",
        "colab": {
          "base_uri": "https://localhost:8080/",
          "height": 449
        },
        "outputId": "2b311dbb-3cfa-4d5a-c2da-9b5a07d50acb"
      },
      "outputs": [
        {
          "output_type": "display_data",
          "data": {
            "text/plain": [
              "<Figure size 640x480 with 2 Axes>"
            ],
            "image/png": "[encoded data removed]"
          },
          "metadata": {}
        }
      ],
      "source": [
        "if svm_enable:\n",
        "  from sklearn.metrics import confusion_matrix, ConfusionMatrixDisplay\n",
        "\n",
        "  clf = lsvm\n",
        "  cm = confusion_matrix(y_test, y_pred, labels=clf.classes_)\n",
        "  disp = ConfusionMatrixDisplay(confusion_matrix=cm,\n",
        "                                display_labels=clf.classes_)\n",
        "  disp.plot()\n",
        "\n",
        "  plt.show()"
      ]
    },
    {
      "cell_type": "markdown",
      "metadata": {
        "id": "PUjrwY2l0_RI"
      },
      "source": [
        "## **Multi Layer Perceptron Classifier (Binary Classification)**"
      ]
    },
    {
      "cell_type": "code",
      "execution_count": 22,
      "metadata": {
        "id": "u9v5Ylpa1DHY"
      },
      "outputs": [],
      "source": [
        "if model_selection[model_flag]==\"ALL\" or model_selection[model_flag] == \"MLP\":\n",
        "  mlp = Sequential() # creating model\n",
        "\n",
        "  # adding input layer and first layer with 50 neurons\n",
        "  mlp.add(Dense(units=50, input_dim=X_train.shape[1], activation='relu'))\n",
        "  # output layer with sigmoid activation\n",
        "  mlp.add(Dense(units=1,activation='sigmoid'))"
      ]
    },
    {
      "cell_type": "code",
      "execution_count": 23,
      "metadata": {
        "id": "E-9M9d0p1p8s"
      },
      "outputs": [],
      "source": [
        "if model_selection[model_flag]==\"ALL\" or model_selection[model_flag] == \"MLP\":\n",
        "  # defining loss function, optimizer, metrics and then compiling model\n",
        "  mlp.compile(loss='binary_crossentropy', optimizer='adam', metrics=['accuracy'])"
      ]
    },
    {
      "cell_type": "code",
      "execution_count": 24,
      "metadata": {
        "id": "NK-1_akm1vO9",
        "colab": {
          "base_uri": "https://localhost:8080/"
        },
        "outputId": "6c90b339-a914-4cdd-8866-8e55bda73357"
      },
      "outputs": [
        {
          "output_type": "stream",
          "name": "stdout",
          "text": [
            "Model: \"sequential\"\n",
            "_________________________________________________________________\n",
            " Layer (type)                Output Shape              Param #   \n",
            "=================================================================\n",
            " dense (Dense)               (None, 50)                5900      \n",
            "                                                                 \n",
            " dense_1 (Dense)             (None, 1)                 51        \n",
            "                                                                 \n",
            "=================================================================\n",
            "Total params: 5,951\n",
            "Trainable params: 5,951\n",
            "Non-trainable params: 0\n",
            "_________________________________________________________________\n"
          ]
        }
      ],
      "source": [
        "if model_selection[model_flag]==\"ALL\" or model_selection[model_flag] == \"MLP\":\n",
        "  # summary of model layers\n",
        "  mlp.summary()"
      ]
    },
    {
      "cell_type": "code",
      "execution_count": 25,
      "metadata": {
        "id": "UYZ4xCgp13gP",
        "colab": {
          "base_uri": "https://localhost:8080/"
        },
        "outputId": "00c78388-bdf9-4d83-fbd2-61aa12ad25d1"
      },
      "outputs": [
        {
          "output_type": "stream",
          "name": "stdout",
          "text": [
            "Epoch 1/100\n",
            "3/3 [==============================] - 6s 103ms/step - loss: 0.6035 - accuracy: 0.7784 - val_loss: 0.4464 - val_accuracy: 0.8961\n",
            "Epoch 2/100\n",
            "3/3 [==============================] - 0s 20ms/step - loss: 0.3963 - accuracy: 0.9030 - val_loss: 0.3047 - val_accuracy: 0.9502\n",
            "Epoch 3/100\n",
            "3/3 [==============================] - 0s 18ms/step - loss: 0.2724 - accuracy: 0.9573 - val_loss: 0.2304 - val_accuracy: 0.9523\n",
            "Epoch 4/100\n",
            "3/3 [==============================] - 0s 18ms/step - loss: 0.2101 - accuracy: 0.9581 - val_loss: 0.1994 - val_accuracy: 0.9523\n",
            "Epoch 5/100\n",
            "3/3 [==============================] - 0s 18ms/step - loss: 0.1835 - accuracy: 0.9581 - val_loss: 0.1880 - val_accuracy: 0.9523\n",
            "Epoch 6/100\n",
            "3/3 [==============================] - 0s 19ms/step - loss: 0.1727 - accuracy: 0.9581 - val_loss: 0.1840 - val_accuracy: 0.9523\n",
            "Epoch 7/100\n",
            "3/3 [==============================] - 0s 18ms/step - loss: 0.1683 - accuracy: 0.9581 - val_loss: 0.1816 - val_accuracy: 0.9523\n",
            "Epoch 8/100\n",
            "3/3 [==============================] - 0s 24ms/step - loss: 0.1650 - accuracy: 0.9581 - val_loss: 0.1784 - val_accuracy: 0.9523\n",
            "Epoch 9/100\n",
            "3/3 [==============================] - 0s 21ms/step - loss: 0.1615 - accuracy: 0.9581 - val_loss: 0.1742 - val_accuracy: 0.9523\n",
            "Epoch 10/100\n",
            "3/3 [==============================] - 0s 22ms/step - loss: 0.1573 - accuracy: 0.9581 - val_loss: 0.1690 - val_accuracy: 0.9523\n",
            "Epoch 11/100\n",
            "3/3 [==============================] - 0s 24ms/step - loss: 0.1526 - accuracy: 0.9581 - val_loss: 0.1636 - val_accuracy: 0.9523\n",
            "Epoch 12/100\n",
            "3/3 [==============================] - 0s 19ms/step - loss: 0.1479 - accuracy: 0.9581 - val_loss: 0.1587 - val_accuracy: 0.9523\n",
            "Epoch 13/100\n",
            "3/3 [==============================] - 0s 18ms/step - loss: 0.1441 - accuracy: 0.9581 - val_loss: 0.1545 - val_accuracy: 0.9523\n",
            "Epoch 14/100\n",
            "3/3 [==============================] - 0s 18ms/step - loss: 0.1409 - accuracy: 0.9581 - val_loss: 0.1510 - val_accuracy: 0.9523\n",
            "Epoch 15/100\n",
            "3/3 [==============================] - 0s 19ms/step - loss: 0.1381 - accuracy: 0.9581 - val_loss: 0.1481 - val_accuracy: 0.9523\n",
            "Epoch 16/100\n",
            "3/3 [==============================] - 0s 19ms/step - loss: 0.1356 - accuracy: 0.9581 - val_loss: 0.1455 - val_accuracy: 0.9523\n",
            "Epoch 17/100\n",
            "3/3 [==============================] - 0s 18ms/step - loss: 0.1331 - accuracy: 0.9581 - val_loss: 0.1432 - val_accuracy: 0.9523\n",
            "Epoch 18/100\n",
            "3/3 [==============================] - 0s 22ms/step - loss: 0.1309 - accuracy: 0.9581 - val_loss: 0.1414 - val_accuracy: 0.9523\n",
            "Epoch 19/100\n",
            "3/3 [==============================] - 0s 18ms/step - loss: 0.1290 - accuracy: 0.9581 - val_loss: 0.1400 - val_accuracy: 0.9523\n",
            "Epoch 20/100\n",
            "3/3 [==============================] - 0s 19ms/step - loss: 0.1273 - accuracy: 0.9581 - val_loss: 0.1386 - val_accuracy: 0.9523\n",
            "Epoch 21/100\n",
            "3/3 [==============================] - 0s 19ms/step - loss: 0.1258 - accuracy: 0.9581 - val_loss: 0.1372 - val_accuracy: 0.9523\n",
            "Epoch 22/100\n",
            "3/3 [==============================] - 0s 19ms/step - loss: 0.1244 - accuracy: 0.9581 - val_loss: 0.1358 - val_accuracy: 0.9523\n",
            "Epoch 23/100\n",
            "3/3 [==============================] - 0s 18ms/step - loss: 0.1230 - accuracy: 0.9581 - val_loss: 0.1343 - val_accuracy: 0.9523\n",
            "Epoch 24/100\n",
            "3/3 [==============================] - 0s 18ms/step - loss: 0.1217 - accuracy: 0.9581 - val_loss: 0.1329 - val_accuracy: 0.9523\n",
            "Epoch 25/100\n",
            "3/3 [==============================] - 0s 17ms/step - loss: 0.1204 - accuracy: 0.9581 - val_loss: 0.1315 - val_accuracy: 0.9523\n",
            "Epoch 26/100\n",
            "3/3 [==============================] - 0s 18ms/step - loss: 0.1191 - accuracy: 0.9581 - val_loss: 0.1302 - val_accuracy: 0.9523\n",
            "Epoch 27/100\n",
            "3/3 [==============================] - 0s 18ms/step - loss: 0.1179 - accuracy: 0.9581 - val_loss: 0.1289 - val_accuracy: 0.9523\n",
            "Epoch 28/100\n",
            "3/3 [==============================] - 0s 23ms/step - loss: 0.1167 - accuracy: 0.9581 - val_loss: 0.1277 - val_accuracy: 0.9526\n",
            "Epoch 29/100\n",
            "3/3 [==============================] - 0s 21ms/step - loss: 0.1155 - accuracy: 0.9582 - val_loss: 0.1265 - val_accuracy: 0.9526\n",
            "Epoch 30/100\n",
            "3/3 [==============================] - 0s 18ms/step - loss: 0.1144 - accuracy: 0.9582 - val_loss: 0.1254 - val_accuracy: 0.9529\n",
            "Epoch 31/100\n",
            "3/3 [==============================] - 0s 19ms/step - loss: 0.1133 - accuracy: 0.9583 - val_loss: 0.1243 - val_accuracy: 0.9532\n",
            "Epoch 32/100\n",
            "3/3 [==============================] - 0s 19ms/step - loss: 0.1122 - accuracy: 0.9583 - val_loss: 0.1231 - val_accuracy: 0.9532\n",
            "Epoch 33/100\n",
            "3/3 [==============================] - 0s 19ms/step - loss: 0.1111 - accuracy: 0.9583 - val_loss: 0.1218 - val_accuracy: 0.9532\n",
            "Epoch 34/100\n",
            "3/3 [==============================] - 0s 18ms/step - loss: 0.1099 - accuracy: 0.9585 - val_loss: 0.1205 - val_accuracy: 0.9535\n",
            "Epoch 35/100\n",
            "3/3 [==============================] - 0s 19ms/step - loss: 0.1088 - accuracy: 0.9585 - val_loss: 0.1193 - val_accuracy: 0.9535\n",
            "Epoch 36/100\n",
            "3/3 [==============================] - 0s 18ms/step - loss: 0.1076 - accuracy: 0.9586 - val_loss: 0.1182 - val_accuracy: 0.9535\n",
            "Epoch 37/100\n",
            "3/3 [==============================] - 0s 18ms/step - loss: 0.1065 - accuracy: 0.9588 - val_loss: 0.1171 - val_accuracy: 0.9538\n",
            "Epoch 38/100\n",
            "3/3 [==============================] - 0s 19ms/step - loss: 0.1055 - accuracy: 0.9589 - val_loss: 0.1159 - val_accuracy: 0.9541\n",
            "Epoch 39/100\n",
            "3/3 [==============================] - 0s 18ms/step - loss: 0.1044 - accuracy: 0.9594 - val_loss: 0.1147 - val_accuracy: 0.9541\n",
            "Epoch 40/100\n",
            "3/3 [==============================] - 0s 18ms/step - loss: 0.1034 - accuracy: 0.9598 - val_loss: 0.1136 - val_accuracy: 0.9547\n",
            "Epoch 41/100\n",
            "3/3 [==============================] - 0s 18ms/step - loss: 0.1023 - accuracy: 0.9601 - val_loss: 0.1125 - val_accuracy: 0.9547\n",
            "Epoch 42/100\n",
            "3/3 [==============================] - 0s 18ms/step - loss: 0.1013 - accuracy: 0.9605 - val_loss: 0.1114 - val_accuracy: 0.9550\n",
            "Epoch 43/100\n",
            "3/3 [==============================] - 0s 18ms/step - loss: 0.1002 - accuracy: 0.9607 - val_loss: 0.1104 - val_accuracy: 0.9556\n",
            "Epoch 44/100\n",
            "3/3 [==============================] - 0s 18ms/step - loss: 0.0992 - accuracy: 0.9610 - val_loss: 0.1093 - val_accuracy: 0.9559\n",
            "Epoch 45/100\n",
            "3/3 [==============================] - 0s 18ms/step - loss: 0.0982 - accuracy: 0.9614 - val_loss: 0.1083 - val_accuracy: 0.9565\n",
            "Epoch 46/100\n",
            "3/3 [==============================] - 0s 18ms/step - loss: 0.0972 - accuracy: 0.9617 - val_loss: 0.1072 - val_accuracy: 0.9574\n",
            "Epoch 47/100\n",
            "3/3 [==============================] - 0s 18ms/step - loss: 0.0963 - accuracy: 0.9623 - val_loss: 0.1061 - val_accuracy: 0.9577\n",
            "Epoch 48/100\n",
            "3/3 [==============================] - 0s 20ms/step - loss: 0.0953 - accuracy: 0.9635 - val_loss: 0.1050 - val_accuracy: 0.9583\n",
            "Epoch 49/100\n",
            "3/3 [==============================] - 0s 18ms/step - loss: 0.0943 - accuracy: 0.9639 - val_loss: 0.1040 - val_accuracy: 0.9583\n",
            "Epoch 50/100\n",
            "3/3 [==============================] - 0s 18ms/step - loss: 0.0933 - accuracy: 0.9642 - val_loss: 0.1031 - val_accuracy: 0.9592\n",
            "Epoch 51/100\n",
            "3/3 [==============================] - 0s 18ms/step - loss: 0.0924 - accuracy: 0.9650 - val_loss: 0.1020 - val_accuracy: 0.9601\n",
            "Epoch 52/100\n",
            "3/3 [==============================] - 0s 27ms/step - loss: 0.0914 - accuracy: 0.9656 - val_loss: 0.1010 - val_accuracy: 0.9607\n",
            "Epoch 53/100\n",
            "3/3 [==============================] - 0s 19ms/step - loss: 0.0905 - accuracy: 0.9666 - val_loss: 0.0999 - val_accuracy: 0.9607\n",
            "Epoch 54/100\n",
            "3/3 [==============================] - 0s 18ms/step - loss: 0.0895 - accuracy: 0.9672 - val_loss: 0.0988 - val_accuracy: 0.9611\n",
            "Epoch 55/100\n",
            "3/3 [==============================] - 0s 18ms/step - loss: 0.0884 - accuracy: 0.9673 - val_loss: 0.0978 - val_accuracy: 0.9617\n",
            "Epoch 56/100\n",
            "3/3 [==============================] - 0s 18ms/step - loss: 0.0875 - accuracy: 0.9676 - val_loss: 0.0967 - val_accuracy: 0.9620\n",
            "Epoch 57/100\n",
            "3/3 [==============================] - 0s 18ms/step - loss: 0.0865 - accuracy: 0.9683 - val_loss: 0.0957 - val_accuracy: 0.9629\n",
            "Epoch 58/100\n",
            "3/3 [==============================] - 0s 19ms/step - loss: 0.0855 - accuracy: 0.9689 - val_loss: 0.0946 - val_accuracy: 0.9650\n",
            "Epoch 59/100\n",
            "3/3 [==============================] - 0s 19ms/step - loss: 0.0846 - accuracy: 0.9696 - val_loss: 0.0935 - val_accuracy: 0.9653\n",
            "Epoch 60/100\n",
            "3/3 [==============================] - 0s 19ms/step - loss: 0.0836 - accuracy: 0.9703 - val_loss: 0.0925 - val_accuracy: 0.9653\n",
            "Epoch 61/100\n",
            "3/3 [==============================] - 0s 19ms/step - loss: 0.0826 - accuracy: 0.9709 - val_loss: 0.0914 - val_accuracy: 0.9665\n",
            "Epoch 62/100\n",
            "3/3 [==============================] - 0s 18ms/step - loss: 0.0815 - accuracy: 0.9726 - val_loss: 0.0901 - val_accuracy: 0.9668\n",
            "Epoch 63/100\n",
            "3/3 [==============================] - 0s 18ms/step - loss: 0.0802 - accuracy: 0.9740 - val_loss: 0.0880 - val_accuracy: 0.9710\n",
            "Epoch 64/100\n",
            "3/3 [==============================] - 0s 18ms/step - loss: 0.0781 - accuracy: 0.9770 - val_loss: 0.0858 - val_accuracy: 0.9746\n",
            "Epoch 65/100\n",
            "3/3 [==============================] - 0s 18ms/step - loss: 0.0767 - accuracy: 0.9795 - val_loss: 0.0847 - val_accuracy: 0.9752\n",
            "Epoch 66/100\n",
            "3/3 [==============================] - 0s 18ms/step - loss: 0.0756 - accuracy: 0.9795 - val_loss: 0.0837 - val_accuracy: 0.9743\n",
            "Epoch 67/100\n",
            "3/3 [==============================] - 0s 18ms/step - loss: 0.0745 - accuracy: 0.9785 - val_loss: 0.0827 - val_accuracy: 0.9743\n",
            "Epoch 68/100\n",
            "3/3 [==============================] - 0s 21ms/step - loss: 0.0735 - accuracy: 0.9791 - val_loss: 0.0815 - val_accuracy: 0.9752\n",
            "Epoch 69/100\n",
            "3/3 [==============================] - 0s 18ms/step - loss: 0.0724 - accuracy: 0.9796 - val_loss: 0.0803 - val_accuracy: 0.9758\n",
            "Epoch 70/100\n",
            "3/3 [==============================] - 0s 18ms/step - loss: 0.0714 - accuracy: 0.9804 - val_loss: 0.0791 - val_accuracy: 0.9774\n",
            "Epoch 71/100\n",
            "3/3 [==============================] - 0s 18ms/step - loss: 0.0704 - accuracy: 0.9808 - val_loss: 0.0781 - val_accuracy: 0.9777\n",
            "Epoch 72/100\n",
            "3/3 [==============================] - 0s 18ms/step - loss: 0.0694 - accuracy: 0.9811 - val_loss: 0.0769 - val_accuracy: 0.9780\n",
            "Epoch 73/100\n",
            "3/3 [==============================] - 0s 18ms/step - loss: 0.0684 - accuracy: 0.9814 - val_loss: 0.0758 - val_accuracy: 0.9780\n",
            "Epoch 74/100\n",
            "3/3 [==============================] - 0s 18ms/step - loss: 0.0674 - accuracy: 0.9815 - val_loss: 0.0748 - val_accuracy: 0.9786\n",
            "Epoch 75/100\n",
            "3/3 [==============================] - 0s 19ms/step - loss: 0.0664 - accuracy: 0.9817 - val_loss: 0.0737 - val_accuracy: 0.9789\n",
            "Epoch 76/100\n",
            "3/3 [==============================] - 0s 18ms/step - loss: 0.0655 - accuracy: 0.9818 - val_loss: 0.0727 - val_accuracy: 0.9789\n",
            "Epoch 77/100\n",
            "3/3 [==============================] - 0s 18ms/step - loss: 0.0645 - accuracy: 0.9818 - val_loss: 0.0716 - val_accuracy: 0.9792\n",
            "Epoch 78/100\n",
            "3/3 [==============================] - 0s 19ms/step - loss: 0.0636 - accuracy: 0.9818 - val_loss: 0.0706 - val_accuracy: 0.9792\n",
            "Epoch 79/100\n",
            "3/3 [==============================] - 0s 18ms/step - loss: 0.0627 - accuracy: 0.9820 - val_loss: 0.0696 - val_accuracy: 0.9792\n",
            "Epoch 80/100\n",
            "3/3 [==============================] - 0s 18ms/step - loss: 0.0618 - accuracy: 0.9820 - val_loss: 0.0688 - val_accuracy: 0.9792\n",
            "Epoch 81/100\n",
            "3/3 [==============================] - 0s 20ms/step - loss: 0.0609 - accuracy: 0.9820 - val_loss: 0.0678 - val_accuracy: 0.9795\n",
            "Epoch 82/100\n",
            "3/3 [==============================] - 0s 19ms/step - loss: 0.0600 - accuracy: 0.9821 - val_loss: 0.0666 - val_accuracy: 0.9795\n",
            "Epoch 83/100\n",
            "3/3 [==============================] - 0s 18ms/step - loss: 0.0592 - accuracy: 0.9822 - val_loss: 0.0657 - val_accuracy: 0.9795\n",
            "Epoch 84/100\n",
            "3/3 [==============================] - 0s 18ms/step - loss: 0.0583 - accuracy: 0.9822 - val_loss: 0.0649 - val_accuracy: 0.9795\n",
            "Epoch 85/100\n",
            "3/3 [==============================] - 0s 18ms/step - loss: 0.0575 - accuracy: 0.9823 - val_loss: 0.0640 - val_accuracy: 0.9798\n",
            "Epoch 86/100\n",
            "3/3 [==============================] - 0s 18ms/step - loss: 0.0567 - accuracy: 0.9825 - val_loss: 0.0630 - val_accuracy: 0.9801\n",
            "Epoch 87/100\n",
            "3/3 [==============================] - 0s 18ms/step - loss: 0.0558 - accuracy: 0.9825 - val_loss: 0.0622 - val_accuracy: 0.9801\n",
            "Epoch 88/100\n",
            "3/3 [==============================] - 0s 18ms/step - loss: 0.0550 - accuracy: 0.9825 - val_loss: 0.0612 - val_accuracy: 0.9801\n",
            "Epoch 89/100\n",
            "3/3 [==============================] - 0s 26ms/step - loss: 0.0542 - accuracy: 0.9825 - val_loss: 0.0603 - val_accuracy: 0.9801\n",
            "Epoch 90/100\n",
            "3/3 [==============================] - 0s 18ms/step - loss: 0.0535 - accuracy: 0.9825 - val_loss: 0.0595 - val_accuracy: 0.9801\n",
            "Epoch 91/100\n",
            "3/3 [==============================] - 0s 18ms/step - loss: 0.0527 - accuracy: 0.9826 - val_loss: 0.0587 - val_accuracy: 0.9801\n",
            "Epoch 92/100\n",
            "3/3 [==============================] - 0s 18ms/step - loss: 0.0520 - accuracy: 0.9826 - val_loss: 0.0579 - val_accuracy: 0.9801\n",
            "Epoch 93/100\n",
            "3/3 [==============================] - 0s 18ms/step - loss: 0.0512 - accuracy: 0.9826 - val_loss: 0.0570 - val_accuracy: 0.9801\n",
            "Epoch 94/100\n",
            "3/3 [==============================] - 0s 26ms/step - loss: 0.0505 - accuracy: 0.9826 - val_loss: 0.0561 - val_accuracy: 0.9801\n",
            "Epoch 95/100\n",
            "3/3 [==============================] - 0s 19ms/step - loss: 0.0498 - accuracy: 0.9826 - val_loss: 0.0553 - val_accuracy: 0.9801\n",
            "Epoch 96/100\n",
            "3/3 [==============================] - 0s 18ms/step - loss: 0.0490 - accuracy: 0.9826 - val_loss: 0.0547 - val_accuracy: 0.9801\n",
            "Epoch 97/100\n",
            "3/3 [==============================] - 0s 18ms/step - loss: 0.0483 - accuracy: 0.9826 - val_loss: 0.0539 - val_accuracy: 0.9801\n",
            "Epoch 98/100\n",
            "3/3 [==============================] - 0s 18ms/step - loss: 0.0476 - accuracy: 0.9826 - val_loss: 0.0530 - val_accuracy: 0.9804\n",
            "Epoch 99/100\n",
            "3/3 [==============================] - 0s 17ms/step - loss: 0.0469 - accuracy: 0.9830 - val_loss: 0.0521 - val_accuracy: 0.9810\n",
            "Epoch 100/100\n",
            "3/3 [==============================] - 0s 16ms/step - loss: 0.0462 - accuracy: 0.9840 - val_loss: 0.0514 - val_accuracy: 0.9807\n"
          ]
        }
      ],
      "source": [
        "if model_selection[model_flag]==\"ALL\" or model_selection[model_flag] == \"MLP\":\n",
        "  # training the model on training dataset\n",
        "  history = mlp.fit(X_train, y_train, epochs=100, batch_size=5000,validation_split=0.2)"
      ]
    },
    {
      "cell_type": "code",
      "execution_count": 26,
      "metadata": {
        "id": "_n_gNs3p1_M-",
        "colab": {
          "base_uri": "https://localhost:8080/"
        },
        "outputId": "065de3f4-e988-476d-9bb4-6b31bc98513b"
      },
      "outputs": [
        {
          "output_type": "stream",
          "name": "stdout",
          "text": [
            "Saved model to disk\n",
            "Loaded model from disk\n"
          ]
        }
      ],
      "source": [
        "if model_selection[model_flag]==\"ALL\" or model_selection[model_flag] == \"MLP\":\n",
        "  filepath = '/content/drive/MyDrive/Colab_Notebooks/Models/mlp_binary'+model_name_suffix+'.json'\n",
        "  weightspath = '/content/drive/MyDrive/Colab_Notebooks/Weights/mlp_binary'+model_name_suffix+'.h5'\n",
        "  if (not path.isfile(filepath)):\n",
        "    # serialize model to JSON\n",
        "    mlp_json = mlp.to_json()\n",
        "    with open(filepath, \"w\") as json_file:\n",
        "      json_file.write(mlp_json)\n",
        "\n",
        "    # serialize weights to HDF5\n",
        "    mlp.save_weights(weightspath)\n",
        "    print(\"Saved model to disk\")\n",
        "\n",
        "    # load json and create model\n",
        "    json_file = open(filepath, 'r')\n",
        "    loaded_model_json = json_file.read()\n",
        "    json_file.close()\n",
        "    mlp = model_from_json(loaded_model_json)\n",
        "\n",
        "    # load weights into new model\n",
        "    mlp.load_weights(weightspath)\n",
        "    print(\"Loaded model from disk\")"
      ]
    },
    {
      "cell_type": "code",
      "execution_count": 27,
      "metadata": {
        "id": "G99OrVcT2JON"
      },
      "outputs": [],
      "source": [
        "if model_selection[model_flag]==\"ALL\" or model_selection[model_flag] == \"MLP\":\n",
        "  # defining loss function, optimizer, metrics and then compiling model\n",
        "  mlp.compile(loss='binary_crossentropy', optimizer='adam', metrics=['accuracy'])"
      ]
    },
    {
      "cell_type": "code",
      "execution_count": 28,
      "metadata": {
        "id": "AXUA0T2N2OIB",
        "colab": {
          "base_uri": "https://localhost:8080/"
        },
        "outputId": "97fed5c6-7238-4239-d965-93cfc8f5e272"
      },
      "outputs": [
        {
          "output_type": "stream",
          "name": "stdout",
          "text": [
            "173/173 [==============================] - 1s 2ms/step - loss: 1441425.8750 - accuracy: 0.9627\n",
            "Test results - Loss: 1441425.875 - Accuracy: 96.26743793487549\n"
          ]
        }
      ],
      "source": [
        "if model_selection[model_flag]==\"ALL\" or model_selection[model_flag] == \"MLP\":\n",
        "  # predicting target attribute on testing dataset\n",
        "  test_results = mlp.evaluate(X_test, y_test, verbose=1)\n",
        "  print(f'Test results - Loss: {test_results[0]} - Accuracy: {test_results[1]*100}')"
      ]
    },
    {
      "cell_type": "code",
      "execution_count": 29,
      "metadata": {
        "id": "StFTrhE65_-q",
        "colab": {
          "base_uri": "https://localhost:8080/",
          "height": 472
        },
        "outputId": "d228da9a-c08b-41be-ba8f-8b34c1bb98a7"
      },
      "outputs": [
        {
          "output_type": "display_data",
          "data": {
            "text/plain": [
              "<Figure size 640x480 with 1 Axes>"
            ],
            "image/png": "[encoded data removed]"
          },
          "metadata": {}
        }
      ],
      "source": [
        "if model_selection[model_flag]==\"ALL\" or model_selection[model_flag] == \"MLP\":  \n",
        "  # Plot of accuracy vs epoch of train and test dataset\n",
        "  plt.plot(history.history['accuracy'])\n",
        "  plt.plot(history.history['val_accuracy'])\n",
        "  plt.title(\"Plot of accuracy vs epoch for train and test dataset\")\n",
        "  plt.ylabel('accuracy')\n",
        "  plt.xlabel('epoch')\n",
        "  plt.legend(['train', 'test'], loc='best')\n",
        "  plt.savefig('/content/drive/MyDrive/Colab_Notebooks/Plots/mlp_binary_accuracy.png')\n",
        "  plt.show()"
      ]
    },
    {
      "cell_type": "code",
      "execution_count": 30,
      "metadata": {
        "id": "rZes4PzY6JUq",
        "colab": {
          "base_uri": "https://localhost:8080/",
          "height": 472
        },
        "outputId": "913443a3-f7de-494f-ef88-937e13bd315b"
      },
      "outputs": [
        {
          "output_type": "display_data",
          "data": {
            "text/plain": [
              "<Figure size 640x480 with 1 Axes>"
            ],
            "image/png": "[encoded data removed]"
          },
          "metadata": {}
        }
      ],
      "source": [
        "if model_selection[model_flag]==\"ALL\" or model_selection[model_flag] == \"MLP\":\n",
        "  # Plot of loss vs epoch of train and test dataset\n",
        "  plt.plot(history.history['loss'])\n",
        "  plt.plot(history.history['val_loss'])\n",
        "  plt.title('Plot of loss vs epoch for train and test dataset')\n",
        "  plt.ylabel('loss')\n",
        "  plt.xlabel('epoch')\n",
        "  plt.legend(['train', 'test'], loc='best')\n",
        "  plt.savefig('/content/drive/MyDrive/Colab_Notebooks/Plots/mlp_binary_loss.png')\n",
        "  plt.show()"
      ]
    },
    {
      "cell_type": "code",
      "execution_count": 31,
      "metadata": {
        "id": "mC0nj-on6iRU"
      },
      "outputs": [],
      "source": [
        "if model_selection[model_flag]==\"ALL\" or model_selection[model_flag] == \"MLP\":\n",
        "  # representation of model layers\n",
        "  from keras.utils.vis_utils import plot_model\n",
        "  plot_model(mlp, to_file='/content/drive/MyDrive/Colab_Notebooks/Plots/mlp_binary.png', show_shapes=True,)"
      ]
    },
    {
      "cell_type": "code",
      "execution_count": 32,
      "metadata": {
        "id": "oxHdln0c6Xi_",
        "colab": {
          "base_uri": "https://localhost:8080/"
        },
        "outputId": "f0104444-fbd3-4d86-e76b-744beebaf55b"
      },
      "outputs": [
        {
          "output_type": "stream",
          "name": "stdout",
          "text": [
            "173/173 [==============================] - 0s 2ms/step\n"
          ]
        }
      ],
      "source": [
        "if model_selection[model_flag]==\"ALL\" or model_selection[model_flag] == \"MLP\":\n",
        "  y_pred = mlp.predict(X_test).ravel()\n",
        "  fpr, tpr, thresholds = roc_curve(y_test, y_pred)\n",
        "  auc = auc(fpr, tpr)"
      ]
    },
    {
      "cell_type": "code",
      "execution_count": 33,
      "metadata": {
        "id": "Cr36q9Z-6aRU",
        "colab": {
          "base_uri": "https://localhost:8080/",
          "height": 472
        },
        "outputId": "03828ab5-d821-4cca-e6fb-dc05bb0854c6"
      },
      "outputs": [
        {
          "output_type": "display_data",
          "data": {
            "text/plain": [
              "<Figure size 640x480 with 1 Axes>"
            ],
            "image/png": "[encoded data removed]"
          },
          "metadata": {}
        }
      ],
      "source": [
        "if model_selection[model_flag]==\"ALL\" or model_selection[model_flag] == \"MLP\":\n",
        "  plt.plot([0, 1], [0, 1], 'k--')\n",
        "  plt.plot(fpr, tpr, label='Keras (area = {:.3f})'.format(auc))\n",
        "  plt.xlabel('False positive rate')\n",
        "  plt.ylabel('True positive rate')\n",
        "  plt.title('ROC curve')\n",
        "  plt.legend(loc='best')\n",
        "  plt.savefig('/content/drive/MyDrive/Colab_Notebooks/Plots/mlp_binary_roc.png')\n",
        "  plt.show()"
      ]
    },
    {
      "cell_type": "code",
      "execution_count": 34,
      "metadata": {
        "id": "U9f2bWPwFljk"
      },
      "outputs": [],
      "source": [
        "# real_data_kdd = bin_data.copy()\n",
        "\n",
        "# # Names of the columns that are discrete\n",
        "# cat_cols = real_data_kdd.select_dtypes(['object']).columns\n",
        "# # cat_cols\n",
        "# test_data = real_data_kdd.iloc[:999]\n",
        "\n",
        "# corr= test_data.corr()\n",
        "# corr_y = abs(corr['label'])\n",
        "# highest_corr = corr_y\n",
        "# highest_corr.sort_values(ascending=True)"
      ]
    },
    {
      "cell_type": "code",
      "execution_count": 35,
      "metadata": {
        "id": "8-clVdUoUPa-",
        "colab": {
          "base_uri": "https://localhost:8080/"
        },
        "outputId": "35e2907d-c76a-4a1f-dfc0-059850213aee"
      },
      "outputs": [
        {
          "output_type": "stream",
          "name": "stdout",
          "text": [
            "173/173 [==============================] - 0s 1ms/step\n"
          ]
        }
      ],
      "source": [
        "if model_selection[model_flag]==\"ALL\" or model_selection[model_flag] == \"MLP\":\n",
        "  y_classes = (mlp.predict(X_test)>0.5).astype('int32')"
      ]
    },
    {
      "cell_type": "code",
      "execution_count": 36,
      "metadata": {
        "id": "0jcFqEqFT-uq",
        "colab": {
          "base_uri": "https://localhost:8080/"
        },
        "outputId": "bee974be-78a9-4996-d15f-3bdc6de2fe35"
      },
      "outputs": [
        {
          "output_type": "stream",
          "name": "stdout",
          "text": [
            "Recall Score -  0.037383177570093455\n",
            "F1 Score -  0.07207207207207207\n",
            "Precision Score -  1.0\n",
            "False Positive Rate -  [1. 0.]\n",
            "False Negative Rate -  [0.         0.96261682]\n",
            "Thresholds -  [0 1]\n"
          ]
        }
      ],
      "source": [
        "if model_selection[model_flag]==\"ALL\" or model_selection[model_flag] == \"MLP\":\n",
        "  print(\"Recall Score - \",recall_score(y_test,y_classes))\n",
        "  print(\"F1 Score - \",f1_score(y_test,y_classes))\n",
        "  print(\"Precision Score - \",precision_score(y_test,y_classes))\n",
        "  fpr, fnr, thresholds = det_curve(y_test, y_classes)\n",
        "  print(\"False Positive Rate - \", fpr)\n",
        "  print(\"False Negative Rate - \", fnr)\n",
        "  print(\"Thresholds - \", thresholds)"
      ]
    },
    {
      "cell_type": "code",
      "source": [
        "print(classification_report(y_test, y_classes, target_names=['0', '1']))\n",
        "cm = confusion_matrix(y_test, y_classes)\n",
        "disp = ConfusionMatrixDisplay(confusion_matrix=cm,\n",
        "                              display_labels=['0', '1'])\n",
        "disp.plot()\n",
        "\n",
        "plt.show()"
      ],
      "metadata": {
        "id": "3HJB6IXJsxjg",
        "colab": {
          "base_uri": "https://localhost:8080/",
          "height": 610
        },
        "outputId": "a83e4846-b5ec-4d10-da3d-6e6059f33ec7"
      },
      "execution_count": 37,
      "outputs": [
        {
          "output_type": "stream",
          "name": "stdout",
          "text": [
            "              precision    recall  f1-score   support\n",
            "\n",
            "           0       0.96      1.00      0.98      5305\n",
            "           1       1.00      0.04      0.07       214\n",
            "\n",
            "    accuracy                           0.96      5519\n",
            "   macro avg       0.98      0.52      0.53      5519\n",
            "weighted avg       0.96      0.96      0.95      5519\n",
            "\n"
          ]
        },
        {
          "output_type": "display_data",
          "data": {
            "text/plain": [
              "<Figure size 640x480 with 2 Axes>"
            ],
            "image/png": "[encoded data removed]"
          },
          "metadata": {}
        }
      ]
    },
    {
      "cell_type": "markdown",
      "source": [
        "# **Correlation** Matrix of Features"
      ],
      "metadata": {
        "id": "j7BKdCwqs2RE"
      }
    },
    {
      "cell_type": "code",
      "execution_count": 38,
      "metadata": {
        "id": "TL8zt-tHLt90",
        "colab": {
          "base_uri": "https://localhost:8080/"
        },
        "outputId": "5b2ed071-6a11-4f91-8428-592db6c2c647"
      },
      "outputs": [
        {
          "output_type": "execute_result",
          "data": {
            "text/plain": [
              "X64      0.322045\n",
              "X65      0.416554\n",
              "label    1.000000\n",
              "Name: label, dtype: float64"
            ]
          },
          "metadata": {},
          "execution_count": 38
        }
      ],
      "source": [
        "corr= bin_data.corr()\n",
        "corr_y = abs(corr['label'])\n",
        "highest_corr = corr_y[corr_y >0.3]\n",
        "highest_corr.sort_values(ascending=True)"
      ]
    },
    {
      "cell_type": "code",
      "source": [
        "plt.matshow(corr)\n",
        "plt.show()"
      ],
      "metadata": {
        "id": "q4b094WVtQQ7",
        "colab": {
          "base_uri": "https://localhost:8080/",
          "height": 437
        },
        "outputId": "558b9439-5cb3-44e0-e300-8ca7076ca133"
      },
      "execution_count": 39,
      "outputs": [
        {
          "output_type": "display_data",
          "data": {
            "text/plain": [
              "<Figure size 480x480 with 1 Axes>"
            ],
            "image/png": "[encoded data removed]"
          },
          "metadata": {}
        }
      ]
    },
    {
      "cell_type": "markdown",
      "metadata": {
        "id": "ZHhtNjFLPj6Y"
      },
      "source": [
        "## **LSTM Classifier**"
      ]
    },
    {
      "cell_type": "code",
      "execution_count": 40,
      "metadata": {
        "id": "DTNPkQMNL5Eh",
        "colab": {
          "base_uri": "https://localhost:8080/"
        },
        "outputId": "65fcc051-6c0d-46e0-9114-83a7eb4703dd"
      },
      "outputs": [
        {
          "output_type": "execute_result",
          "data": {
            "text/plain": [
              "(16557, 117)"
            ]
          },
          "metadata": {},
          "execution_count": 40
        }
      ],
      "source": [
        "X_train = np.array(X_train)\n",
        "X_test = np.array(X_test)\n",
        "# y_train.shape   #(18896,)\n",
        "X_train.shape"
      ]
    },
    {
      "cell_type": "code",
      "execution_count": 41,
      "metadata": {
        "id": "9n-QlBDXPMl4",
        "colab": {
          "base_uri": "https://localhost:8080/"
        },
        "outputId": "732258eb-cd98-4057-8583-95c3c9fa925d"
      },
      "outputs": [
        {
          "output_type": "execute_result",
          "data": {
            "text/plain": [
              "numpy.ndarray"
            ]
          },
          "metadata": {},
          "execution_count": 41
        }
      ],
      "source": [
        "y_train = np.array(y_train)\n",
        "type(y_train)"
      ]
    },
    {
      "cell_type": "code",
      "execution_count": 42,
      "metadata": {
        "id": "-8Ro_ZRQPdZz",
        "colab": {
          "base_uri": "https://localhost:8080/"
        },
        "outputId": "bbd14692-89e2-4870-9a12-957607e4ac9d"
      },
      "outputs": [
        {
          "output_type": "execute_result",
          "data": {
            "text/plain": [
              "(16557, 1, 117)"
            ]
          },
          "metadata": {},
          "execution_count": 42
        }
      ],
      "source": [
        "x_train = np.reshape(X_train, (X_train.shape[0],1,X_train.shape[1]))\n",
        "x_train.shape"
      ]
    },
    {
      "cell_type": "code",
      "source": [
        "x_train.shape[2]"
      ],
      "metadata": {
        "id": "EuvuETcGpkje",
        "colab": {
          "base_uri": "https://localhost:8080/"
        },
        "outputId": "50f9bc07-ea80-418a-9865-92504d389820"
      },
      "execution_count": 43,
      "outputs": [
        {
          "output_type": "execute_result",
          "data": {
            "text/plain": [
              "117"
            ]
          },
          "metadata": {},
          "execution_count": 43
        }
      ]
    },
    {
      "cell_type": "code",
      "execution_count": 44,
      "metadata": {
        "id": "pLIl946zQQwG",
        "colab": {
          "base_uri": "https://localhost:8080/"
        },
        "outputId": "5a421cba-fe44-48d0-df71-07bb0fa4a562"
      },
      "outputs": [
        {
          "output_type": "execute_result",
          "data": {
            "text/plain": [
              "(5519, 1, 117)"
            ]
          },
          "metadata": {},
          "execution_count": 44
        }
      ],
      "source": [
        "x_test = np.reshape(X_test, (X_test.shape[0],1,X_test.shape[1]))\n",
        "x_test.shape"
      ]
    },
    {
      "cell_type": "code",
      "execution_count": 45,
      "metadata": {
        "id": "jWsrkPEmQcY7"
      },
      "outputs": [],
      "source": [
        "if model_selection[model_flag]==\"ALL\" or model_selection[model_flag] == \"LSTM\":\n",
        "  lst = Sequential()\n",
        "  # input layer and LSTM layer with 50 neurons\n",
        "  input_features = x_train.shape[2]\n",
        "  lst.add(LSTM(50,input_dim=input_features))\n",
        "\n",
        "  # outpute layer with sigmoid activation\n",
        "  lst.add(Dense(1,activation='sigmoid'))"
      ]
    },
    {
      "cell_type": "code",
      "execution_count": 46,
      "metadata": {
        "id": "UEmba1H9Q_qj"
      },
      "outputs": [],
      "source": [
        "if model_selection[model_flag]==\"ALL\" or model_selection[model_flag] == \"LSTM\":\n",
        "  # defining loss function, optimizer, metrics and then compiling model\n",
        "  lst.compile(loss='binary_crossentropy',optimizer='adam',metrics=['accuracy'])"
      ]
    },
    {
      "cell_type": "code",
      "execution_count": 47,
      "metadata": {
        "id": "anR58jV2RCtz",
        "colab": {
          "base_uri": "https://localhost:8080/"
        },
        "outputId": "f4b40d57-0ed7-454d-85fd-46787fe2d533"
      },
      "outputs": [
        {
          "output_type": "stream",
          "name": "stdout",
          "text": [
            "Model: \"sequential_1\"\n",
            "_________________________________________________________________\n",
            " Layer (type)                Output Shape              Param #   \n",
            "=================================================================\n",
            " lstm (LSTM)                 (None, 50)                33600     \n",
            "                                                                 \n",
            " dense_2 (Dense)             (None, 1)                 51        \n",
            "                                                                 \n",
            "=================================================================\n",
            "Total params: 33,651\n",
            "Trainable params: 33,651\n",
            "Non-trainable params: 0\n",
            "_________________________________________________________________\n"
          ]
        }
      ],
      "source": [
        "if model_selection[model_flag]==\"ALL\" or model_selection[model_flag] == \"LSTM\":\n",
        "  # summary of model layers\n",
        "  lst.summary()"
      ]
    },
    {
      "cell_type": "code",
      "execution_count": 48,
      "metadata": {
        "id": "_Pa4Qi12RJS_",
        "colab": {
          "base_uri": "https://localhost:8080/"
        },
        "outputId": "47d57226-cdb2-4e10-e8a7-7be6f0d9b939"
      },
      "outputs": [
        {
          "output_type": "stream",
          "name": "stdout",
          "text": [
            "Epoch 1/100\n",
            "3/3 [==============================] - 3s 223ms/step - loss: 0.6084 - accuracy: 0.9574 - val_loss: 0.4937 - val_accuracy: 0.9523\n",
            "Epoch 2/100\n",
            "3/3 [==============================] - 0s 19ms/step - loss: 0.4529 - accuracy: 0.9581 - val_loss: 0.3725 - val_accuracy: 0.9523\n",
            "Epoch 3/100\n",
            "3/3 [==============================] - 0s 20ms/step - loss: 0.3416 - accuracy: 0.9581 - val_loss: 0.2914 - val_accuracy: 0.9523\n",
            "Epoch 4/100\n",
            "3/3 [==============================] - 0s 20ms/step - loss: 0.2680 - accuracy: 0.9581 - val_loss: 0.2406 - val_accuracy: 0.9523\n",
            "Epoch 5/100\n",
            "3/3 [==============================] - 0s 27ms/step - loss: 0.2225 - accuracy: 0.9581 - val_loss: 0.2107 - val_accuracy: 0.9523\n",
            "Epoch 6/100\n",
            "3/3 [==============================] - 0s 19ms/step - loss: 0.1951 - accuracy: 0.9581 - val_loss: 0.1942 - val_accuracy: 0.9523\n",
            "Epoch 7/100\n",
            "3/3 [==============================] - 0s 24ms/step - loss: 0.1797 - accuracy: 0.9581 - val_loss: 0.1857 - val_accuracy: 0.9523\n",
            "Epoch 8/100\n",
            "3/3 [==============================] - 0s 18ms/step - loss: 0.1716 - accuracy: 0.9581 - val_loss: 0.1817 - val_accuracy: 0.9523\n",
            "Epoch 9/100\n",
            "3/3 [==============================] - 0s 18ms/step - loss: 0.1673 - accuracy: 0.9581 - val_loss: 0.1800 - val_accuracy: 0.9523\n",
            "Epoch 10/100\n",
            "3/3 [==============================] - 0s 18ms/step - loss: 0.1652 - accuracy: 0.9581 - val_loss: 0.1793 - val_accuracy: 0.9523\n",
            "Epoch 11/100\n",
            "3/3 [==============================] - 0s 18ms/step - loss: 0.1640 - accuracy: 0.9581 - val_loss: 0.1788 - val_accuracy: 0.9523\n",
            "Epoch 12/100\n",
            "3/3 [==============================] - 0s 18ms/step - loss: 0.1632 - accuracy: 0.9581 - val_loss: 0.1782 - val_accuracy: 0.9523\n",
            "Epoch 13/100\n",
            "3/3 [==============================] - 0s 25ms/step - loss: 0.1624 - accuracy: 0.9581 - val_loss: 0.1773 - val_accuracy: 0.9523\n",
            "Epoch 14/100\n",
            "3/3 [==============================] - 0s 20ms/step - loss: 0.1613 - accuracy: 0.9581 - val_loss: 0.1760 - val_accuracy: 0.9523\n",
            "Epoch 15/100\n",
            "3/3 [==============================] - 0s 18ms/step - loss: 0.1600 - accuracy: 0.9581 - val_loss: 0.1743 - val_accuracy: 0.9523\n",
            "Epoch 16/100\n",
            "3/3 [==============================] - 0s 19ms/step - loss: 0.1584 - accuracy: 0.9581 - val_loss: 0.1724 - val_accuracy: 0.9523\n",
            "Epoch 17/100\n",
            "3/3 [==============================] - 0s 21ms/step - loss: 0.1566 - accuracy: 0.9581 - val_loss: 0.1703 - val_accuracy: 0.9523\n",
            "Epoch 18/100\n",
            "3/3 [==============================] - 0s 18ms/step - loss: 0.1548 - accuracy: 0.9581 - val_loss: 0.1680 - val_accuracy: 0.9523\n",
            "Epoch 19/100\n",
            "3/3 [==============================] - 0s 18ms/step - loss: 0.1528 - accuracy: 0.9581 - val_loss: 0.1656 - val_accuracy: 0.9523\n",
            "Epoch 20/100\n",
            "3/3 [==============================] - 0s 18ms/step - loss: 0.1509 - accuracy: 0.9581 - val_loss: 0.1633 - val_accuracy: 0.9523\n",
            "Epoch 21/100\n",
            "3/3 [==============================] - 0s 18ms/step - loss: 0.1488 - accuracy: 0.9581 - val_loss: 0.1609 - val_accuracy: 0.9523\n",
            "Epoch 22/100\n",
            "3/3 [==============================] - 0s 18ms/step - loss: 0.1469 - accuracy: 0.9581 - val_loss: 0.1587 - val_accuracy: 0.9523\n",
            "Epoch 23/100\n",
            "3/3 [==============================] - 0s 18ms/step - loss: 0.1450 - accuracy: 0.9581 - val_loss: 0.1565 - val_accuracy: 0.9523\n",
            "Epoch 24/100\n",
            "3/3 [==============================] - 0s 19ms/step - loss: 0.1433 - accuracy: 0.9581 - val_loss: 0.1545 - val_accuracy: 0.9523\n",
            "Epoch 25/100\n",
            "3/3 [==============================] - 0s 21ms/step - loss: 0.1415 - accuracy: 0.9581 - val_loss: 0.1525 - val_accuracy: 0.9523\n",
            "Epoch 26/100\n",
            "3/3 [==============================] - 0s 18ms/step - loss: 0.1399 - accuracy: 0.9581 - val_loss: 0.1507 - val_accuracy: 0.9523\n",
            "Epoch 27/100\n",
            "3/3 [==============================] - 0s 20ms/step - loss: 0.1383 - accuracy: 0.9581 - val_loss: 0.1489 - val_accuracy: 0.9523\n",
            "Epoch 28/100\n",
            "3/3 [==============================] - 0s 18ms/step - loss: 0.1368 - accuracy: 0.9581 - val_loss: 0.1472 - val_accuracy: 0.9523\n",
            "Epoch 29/100\n",
            "3/3 [==============================] - 0s 19ms/step - loss: 0.1351 - accuracy: 0.9581 - val_loss: 0.1456 - val_accuracy: 0.9523\n",
            "Epoch 30/100\n",
            "3/3 [==============================] - 0s 18ms/step - loss: 0.1336 - accuracy: 0.9581 - val_loss: 0.1440 - val_accuracy: 0.9523\n",
            "Epoch 31/100\n",
            "3/3 [==============================] - 0s 18ms/step - loss: 0.1321 - accuracy: 0.9581 - val_loss: 0.1425 - val_accuracy: 0.9523\n",
            "Epoch 32/100\n",
            "3/3 [==============================] - 0s 18ms/step - loss: 0.1307 - accuracy: 0.9581 - val_loss: 0.1411 - val_accuracy: 0.9523\n",
            "Epoch 33/100\n",
            "3/3 [==============================] - 0s 19ms/step - loss: 0.1292 - accuracy: 0.9581 - val_loss: 0.1398 - val_accuracy: 0.9523\n",
            "Epoch 34/100\n",
            "3/3 [==============================] - 0s 19ms/step - loss: 0.1279 - accuracy: 0.9581 - val_loss: 0.1385 - val_accuracy: 0.9523\n",
            "Epoch 35/100\n",
            "3/3 [==============================] - 0s 18ms/step - loss: 0.1266 - accuracy: 0.9581 - val_loss: 0.1373 - val_accuracy: 0.9523\n",
            "Epoch 36/100\n",
            "3/3 [==============================] - 0s 18ms/step - loss: 0.1254 - accuracy: 0.9581 - val_loss: 0.1361 - val_accuracy: 0.9523\n",
            "Epoch 37/100\n",
            "3/3 [==============================] - 0s 18ms/step - loss: 0.1241 - accuracy: 0.9581 - val_loss: 0.1349 - val_accuracy: 0.9523\n",
            "Epoch 38/100\n",
            "3/3 [==============================] - 0s 18ms/step - loss: 0.1229 - accuracy: 0.9581 - val_loss: 0.1337 - val_accuracy: 0.9523\n",
            "Epoch 39/100\n",
            "3/3 [==============================] - 0s 18ms/step - loss: 0.1217 - accuracy: 0.9581 - val_loss: 0.1324 - val_accuracy: 0.9523\n",
            "Epoch 40/100\n",
            "3/3 [==============================] - 0s 28ms/step - loss: 0.1204 - accuracy: 0.9581 - val_loss: 0.1311 - val_accuracy: 0.9523\n",
            "Epoch 41/100\n",
            "3/3 [==============================] - 0s 19ms/step - loss: 0.1192 - accuracy: 0.9581 - val_loss: 0.1298 - val_accuracy: 0.9523\n",
            "Epoch 42/100\n",
            "3/3 [==============================] - 0s 18ms/step - loss: 0.1179 - accuracy: 0.9581 - val_loss: 0.1284 - val_accuracy: 0.9523\n",
            "Epoch 43/100\n",
            "3/3 [==============================] - 0s 18ms/step - loss: 0.1166 - accuracy: 0.9581 - val_loss: 0.1270 - val_accuracy: 0.9523\n",
            "Epoch 44/100\n",
            "3/3 [==============================] - 0s 18ms/step - loss: 0.1152 - accuracy: 0.9581 - val_loss: 0.1256 - val_accuracy: 0.9523\n",
            "Epoch 45/100\n",
            "3/3 [==============================] - 0s 21ms/step - loss: 0.1139 - accuracy: 0.9582 - val_loss: 0.1241 - val_accuracy: 0.9526\n",
            "Epoch 46/100\n",
            "3/3 [==============================] - 0s 18ms/step - loss: 0.1125 - accuracy: 0.9583 - val_loss: 0.1226 - val_accuracy: 0.9526\n",
            "Epoch 47/100\n",
            "3/3 [==============================] - 0s 18ms/step - loss: 0.1110 - accuracy: 0.9583 - val_loss: 0.1211 - val_accuracy: 0.9526\n",
            "Epoch 48/100\n",
            "3/3 [==============================] - 0s 23ms/step - loss: 0.1096 - accuracy: 0.9583 - val_loss: 0.1195 - val_accuracy: 0.9529\n",
            "Epoch 49/100\n",
            "3/3 [==============================] - 0s 18ms/step - loss: 0.1080 - accuracy: 0.9583 - val_loss: 0.1178 - val_accuracy: 0.9529\n",
            "Epoch 50/100\n",
            "3/3 [==============================] - 0s 17ms/step - loss: 0.1065 - accuracy: 0.9583 - val_loss: 0.1160 - val_accuracy: 0.9529\n",
            "Epoch 51/100\n",
            "3/3 [==============================] - 0s 18ms/step - loss: 0.1049 - accuracy: 0.9583 - val_loss: 0.1142 - val_accuracy: 0.9532\n",
            "Epoch 52/100\n",
            "3/3 [==============================] - 0s 19ms/step - loss: 0.1033 - accuracy: 0.9584 - val_loss: 0.1124 - val_accuracy: 0.9532\n",
            "Epoch 53/100\n",
            "3/3 [==============================] - 0s 19ms/step - loss: 0.1016 - accuracy: 0.9586 - val_loss: 0.1107 - val_accuracy: 0.9535\n",
            "Epoch 54/100\n",
            "3/3 [==============================] - 0s 18ms/step - loss: 0.0999 - accuracy: 0.9588 - val_loss: 0.1088 - val_accuracy: 0.9541\n",
            "Epoch 55/100\n",
            "3/3 [==============================] - 0s 20ms/step - loss: 0.0982 - accuracy: 0.9594 - val_loss: 0.1069 - val_accuracy: 0.9547\n",
            "Epoch 56/100\n",
            "3/3 [==============================] - 0s 18ms/step - loss: 0.0964 - accuracy: 0.9601 - val_loss: 0.1049 - val_accuracy: 0.9550\n",
            "Epoch 57/100\n",
            "3/3 [==============================] - 0s 19ms/step - loss: 0.0946 - accuracy: 0.9606 - val_loss: 0.1029 - val_accuracy: 0.9553\n",
            "Epoch 58/100\n",
            "3/3 [==============================] - 0s 19ms/step - loss: 0.0928 - accuracy: 0.9610 - val_loss: 0.1010 - val_accuracy: 0.9565\n",
            "Epoch 59/100\n",
            "3/3 [==============================] - 0s 18ms/step - loss: 0.0910 - accuracy: 0.9618 - val_loss: 0.0990 - val_accuracy: 0.9577\n",
            "Epoch 60/100\n",
            "3/3 [==============================] - 0s 18ms/step - loss: 0.0891 - accuracy: 0.9626 - val_loss: 0.0970 - val_accuracy: 0.9592\n",
            "Epoch 61/100\n",
            "3/3 [==============================] - 0s 18ms/step - loss: 0.0873 - accuracy: 0.9641 - val_loss: 0.0949 - val_accuracy: 0.9604\n",
            "Epoch 62/100\n",
            "3/3 [==============================] - 0s 18ms/step - loss: 0.0854 - accuracy: 0.9656 - val_loss: 0.0930 - val_accuracy: 0.9617\n",
            "Epoch 63/100\n",
            "3/3 [==============================] - 0s 18ms/step - loss: 0.0835 - accuracy: 0.9669 - val_loss: 0.0910 - val_accuracy: 0.9635\n",
            "Epoch 64/100\n",
            "3/3 [==============================] - 0s 18ms/step - loss: 0.0817 - accuracy: 0.9684 - val_loss: 0.0890 - val_accuracy: 0.9650\n",
            "Epoch 65/100\n",
            "3/3 [==============================] - 0s 30ms/step - loss: 0.0798 - accuracy: 0.9714 - val_loss: 0.0869 - val_accuracy: 0.9674\n",
            "Epoch 66/100\n",
            "3/3 [==============================] - 0s 36ms/step - loss: 0.0780 - accuracy: 0.9743 - val_loss: 0.0850 - val_accuracy: 0.9692\n",
            "Epoch 67/100\n",
            "3/3 [==============================] - 0s 31ms/step - loss: 0.0762 - accuracy: 0.9767 - val_loss: 0.0830 - val_accuracy: 0.9734\n",
            "Epoch 68/100\n",
            "3/3 [==============================] - 0s 27ms/step - loss: 0.0744 - accuracy: 0.9794 - val_loss: 0.0810 - val_accuracy: 0.9758\n",
            "Epoch 69/100\n",
            "3/3 [==============================] - 0s 24ms/step - loss: 0.0726 - accuracy: 0.9804 - val_loss: 0.0792 - val_accuracy: 0.9768\n",
            "Epoch 70/100\n",
            "3/3 [==============================] - 0s 33ms/step - loss: 0.0708 - accuracy: 0.9811 - val_loss: 0.0772 - val_accuracy: 0.9780\n",
            "Epoch 71/100\n",
            "3/3 [==============================] - 0s 35ms/step - loss: 0.0690 - accuracy: 0.9814 - val_loss: 0.0753 - val_accuracy: 0.9783\n",
            "Epoch 72/100\n",
            "3/3 [==============================] - 0s 25ms/step - loss: 0.0673 - accuracy: 0.9814 - val_loss: 0.0734 - val_accuracy: 0.9783\n",
            "Epoch 73/100\n",
            "3/3 [==============================] - 0s 33ms/step - loss: 0.0656 - accuracy: 0.9814 - val_loss: 0.0717 - val_accuracy: 0.9783\n",
            "Epoch 74/100\n",
            "3/3 [==============================] - 0s 24ms/step - loss: 0.0640 - accuracy: 0.9816 - val_loss: 0.0699 - val_accuracy: 0.9783\n",
            "Epoch 75/100\n",
            "3/3 [==============================] - 0s 33ms/step - loss: 0.0623 - accuracy: 0.9816 - val_loss: 0.0680 - val_accuracy: 0.9783\n",
            "Epoch 76/100\n",
            "3/3 [==============================] - 0s 24ms/step - loss: 0.0607 - accuracy: 0.9817 - val_loss: 0.0663 - val_accuracy: 0.9783\n",
            "Epoch 77/100\n",
            "3/3 [==============================] - 0s 32ms/step - loss: 0.0591 - accuracy: 0.9817 - val_loss: 0.0647 - val_accuracy: 0.9786\n",
            "Epoch 78/100\n",
            "3/3 [==============================] - 0s 32ms/step - loss: 0.0575 - accuracy: 0.9817 - val_loss: 0.0629 - val_accuracy: 0.9792\n",
            "Epoch 79/100\n",
            "3/3 [==============================] - 0s 32ms/step - loss: 0.0560 - accuracy: 0.9828 - val_loss: 0.0612 - val_accuracy: 0.9819\n",
            "Epoch 80/100\n",
            "3/3 [==============================] - 0s 31ms/step - loss: 0.0545 - accuracy: 0.9853 - val_loss: 0.0594 - val_accuracy: 0.9828\n",
            "Epoch 81/100\n",
            "3/3 [==============================] - 0s 25ms/step - loss: 0.0530 - accuracy: 0.9860 - val_loss: 0.0579 - val_accuracy: 0.9825\n",
            "Epoch 82/100\n",
            "3/3 [==============================] - 0s 32ms/step - loss: 0.0515 - accuracy: 0.9860 - val_loss: 0.0564 - val_accuracy: 0.9828\n",
            "Epoch 83/100\n",
            "3/3 [==============================] - 0s 41ms/step - loss: 0.0501 - accuracy: 0.9861 - val_loss: 0.0548 - val_accuracy: 0.9831\n",
            "Epoch 84/100\n",
            "3/3 [==============================] - 0s 32ms/step - loss: 0.0487 - accuracy: 0.9862 - val_loss: 0.0532 - val_accuracy: 0.9831\n",
            "Epoch 85/100\n",
            "3/3 [==============================] - 0s 32ms/step - loss: 0.0473 - accuracy: 0.9863 - val_loss: 0.0517 - val_accuracy: 0.9831\n",
            "Epoch 86/100\n",
            "3/3 [==============================] - 0s 26ms/step - loss: 0.0460 - accuracy: 0.9864 - val_loss: 0.0504 - val_accuracy: 0.9831\n",
            "Epoch 87/100\n",
            "3/3 [==============================] - 0s 25ms/step - loss: 0.0447 - accuracy: 0.9864 - val_loss: 0.0489 - val_accuracy: 0.9834\n",
            "Epoch 88/100\n",
            "3/3 [==============================] - 0s 33ms/step - loss: 0.0434 - accuracy: 0.9864 - val_loss: 0.0474 - val_accuracy: 0.9834\n",
            "Epoch 89/100\n",
            "3/3 [==============================] - 0s 24ms/step - loss: 0.0423 - accuracy: 0.9865 - val_loss: 0.0461 - val_accuracy: 0.9834\n",
            "Epoch 90/100\n",
            "3/3 [==============================] - 0s 25ms/step - loss: 0.0410 - accuracy: 0.9865 - val_loss: 0.0450 - val_accuracy: 0.9834\n",
            "Epoch 91/100\n",
            "3/3 [==============================] - 0s 25ms/step - loss: 0.0399 - accuracy: 0.9866 - val_loss: 0.0436 - val_accuracy: 0.9834\n",
            "Epoch 92/100\n",
            "3/3 [==============================] - 0s 32ms/step - loss: 0.0388 - accuracy: 0.9869 - val_loss: 0.0423 - val_accuracy: 0.9834\n",
            "Epoch 93/100\n",
            "3/3 [==============================] - 0s 38ms/step - loss: 0.0377 - accuracy: 0.9871 - val_loss: 0.0413 - val_accuracy: 0.9834\n",
            "Epoch 94/100\n",
            "3/3 [==============================] - 0s 24ms/step - loss: 0.0366 - accuracy: 0.9872 - val_loss: 0.0401 - val_accuracy: 0.9840\n",
            "Epoch 95/100\n",
            "3/3 [==============================] - 0s 30ms/step - loss: 0.0356 - accuracy: 0.9876 - val_loss: 0.0389 - val_accuracy: 0.9843\n",
            "Epoch 96/100\n",
            "3/3 [==============================] - 0s 27ms/step - loss: 0.0346 - accuracy: 0.9880 - val_loss: 0.0379 - val_accuracy: 0.9843\n",
            "Epoch 97/100\n",
            "3/3 [==============================] - 0s 25ms/step - loss: 0.0337 - accuracy: 0.9881 - val_loss: 0.0369 - val_accuracy: 0.9849\n",
            "Epoch 98/100\n",
            "3/3 [==============================] - 0s 32ms/step - loss: 0.0327 - accuracy: 0.9885 - val_loss: 0.0358 - val_accuracy: 0.9852\n",
            "Epoch 99/100\n",
            "3/3 [==============================] - 0s 31ms/step - loss: 0.0318 - accuracy: 0.9895 - val_loss: 0.0348 - val_accuracy: 0.9867\n",
            "Epoch 100/100\n",
            "3/3 [==============================] - 0s 30ms/step - loss: 0.0310 - accuracy: 0.9903 - val_loss: 0.0339 - val_accuracy: 0.9867\n"
          ]
        }
      ],
      "source": [
        "if model_selection[model_flag]==\"ALL\" or model_selection[model_flag] == \"LSTM\":\n",
        "  # training the model on training dataset\n",
        "  history = lst.fit(x_train, y_train, epochs=100, batch_size=5000,validation_split=0.2)"
      ]
    },
    {
      "cell_type": "code",
      "execution_count": 49,
      "metadata": {
        "id": "BCQtvJcXRcNr",
        "colab": {
          "base_uri": "https://localhost:8080/"
        },
        "outputId": "0b109315-f428-47d3-8a4c-4a4d46c4a6a1"
      },
      "outputs": [
        {
          "output_type": "stream",
          "name": "stdout",
          "text": [
            "Saved model to disk\n",
            "Loaded model from disk\n"
          ]
        }
      ],
      "source": [
        "if model_selection[model_flag]==\"ALL\" or model_selection[model_flag] == \"LSTM\":\n",
        "  filepath = '/content/drive/MyDrive/Colab_Notebooks/Models/lst_binary_kitsune'+model_name_suffix+'.json'\n",
        "  weightspath = '/content/drive/MyDrive/Colab_Notebooks/Weights/lst_binary_kitsune'+model_name_suffix+'.h5'\n",
        "  if (not path.isfile(filepath)):\n",
        "    # serialize model to JSON\n",
        "    lst_json = lst.to_json()\n",
        "    with open(filepath, \"w\") as json_file:\n",
        "      json_file.write(lst_json)\n",
        "\n",
        "    # serialize weights to HDF5\n",
        "    lst.save_weights(weightspath)\n",
        "    print(\"Saved model to disk\")\n",
        "\n",
        "    # load json and create model\n",
        "    json_file = open(filepath, 'r')\n",
        "    loaded_model_json = json_file.read()\n",
        "    json_file.close()\n",
        "    lst = model_from_json(loaded_model_json)\n",
        "\n",
        "    # load weights into new model\n",
        "    lst.load_weights(weightspath)\n",
        "    print(\"Loaded model from disk\")"
      ]
    },
    {
      "cell_type": "code",
      "execution_count": 50,
      "metadata": {
        "id": "rPaW37T-R0dG",
        "colab": {
          "base_uri": "https://localhost:8080/"
        },
        "outputId": "3a8a2479-2643-47a6-9453-39be63b52ffd"
      },
      "outputs": [
        {
          "output_type": "stream",
          "name": "stdout",
          "text": [
            "Loaded model from disk\n"
          ]
        }
      ],
      "source": [
        "if model_selection[model_flag]==\"ALL\" or model_selection[model_flag] == \"LSTM\":\n",
        "  # load json and create model\n",
        "  json_file = open(filepath, 'r')\n",
        "  loaded_model_json = json_file.read()\n",
        "  json_file.close()\n",
        "  lst = model_from_json(loaded_model_json)\n",
        "\n",
        "  # load weights into new model\n",
        "  lst.load_weights(weightspath)\n",
        "  print(\"Loaded model from disk\")"
      ]
    },
    {
      "cell_type": "code",
      "execution_count": 51,
      "metadata": {
        "id": "ukGDdSggR3na"
      },
      "outputs": [],
      "source": [
        "if model_selection[model_flag]==\"ALL\" or model_selection[model_flag] == \"LSTM\":\n",
        "  # defining loss function, optimizer, metrics and then compiling model\n",
        "  lst.compile(loss='binary_crossentropy',optimizer='adam',metrics=['accuracy'])"
      ]
    },
    {
      "cell_type": "code",
      "execution_count": 52,
      "metadata": {
        "id": "nvjY0u97R68f",
        "colab": {
          "base_uri": "https://localhost:8080/"
        },
        "outputId": "69ec782a-fec3-4c0a-aa9a-56a177b9c7a6"
      },
      "outputs": [
        {
          "output_type": "stream",
          "name": "stdout",
          "text": [
            "173/173 [==============================] - 1s 2ms/step - loss: 0.1792 - accuracy: 0.9627\n",
            "Test results - Loss: 0.17918606102466583 - Accuracy: 96.26743793487549%\n"
          ]
        }
      ],
      "source": [
        "if model_selection[model_flag]==\"ALL\" or model_selection[model_flag] == \"LSTM\":\n",
        "  # predicting target attribute on testing dataset\n",
        "  test_results = lst.evaluate(x_test, y_test, verbose=1)\n",
        "  print(f'Test results - Loss: {test_results[0]} - Accuracy: {test_results[1]*100}%')"
      ]
    },
    {
      "cell_type": "code",
      "execution_count": 53,
      "metadata": {
        "id": "f8yKMcIHR_jP",
        "colab": {
          "base_uri": "https://localhost:8080/",
          "height": 472
        },
        "outputId": "20dd4e16-1024-4200-a147-8f5c2121d979"
      },
      "outputs": [
        {
          "output_type": "display_data",
          "data": {
            "text/plain": [
              "<Figure size 640x480 with 1 Axes>"
            ],
            "image/png": "[encoded data removed]"
          },
          "metadata": {}
        }
      ],
      "source": [
        "if model_selection[model_flag]==\"ALL\" or model_selection[model_flag] == \"LSTM\":\n",
        "  # Plot of accuracy vs epoch of train and test dataset\n",
        "  plt.plot(history.history['accuracy'])\n",
        "  plt.plot(history.history['val_accuracy'])\n",
        "  plt.title(\"Plot of accuracy vs epoch for train and test dataset\")\n",
        "  plt.ylabel('accuracy')\n",
        "  plt.xlabel('epoch')\n",
        "  plt.legend(['train', 'test'], loc='best')\n",
        "  plt.savefig('/content/drive/MyDrive/Colab_Notebooks/Plots/lstm_binary_accuracy.png')\n",
        "  plt.show()"
      ]
    },
    {
      "cell_type": "code",
      "execution_count": 54,
      "metadata": {
        "id": "M5g1Rw_SSb5n",
        "colab": {
          "base_uri": "https://localhost:8080/",
          "height": 472
        },
        "outputId": "32757412-2e6a-4eb3-d72c-9c9e53afaa38"
      },
      "outputs": [
        {
          "output_type": "display_data",
          "data": {
            "text/plain": [
              "<Figure size 640x480 with 1 Axes>"
            ],
            "image/png": "[encoded data removed]"
          },
          "metadata": {}
        }
      ],
      "source": [
        "if model_selection[model_flag]==\"ALL\" or model_selection[model_flag] == \"LSTM\":\n",
        "  # Plot of loss vs epoch of train and test dataset\n",
        "  plt.plot(history.history['loss'])\n",
        "  plt.plot(history.history['val_loss'])\n",
        "  plt.title(\"Plot of loss vs epoch for train and test dataset\")\n",
        "  plt.ylabel('loss')\n",
        "  plt.xlabel('epoch')\n",
        "  plt.legend(['train', 'test'], loc='best')\n",
        "  plt.savefig('/content/drive/MyDrive/Colab_Notebooks/Plots/lstm_binary_loss.png')\n",
        "  plt.show()"
      ]
    },
    {
      "cell_type": "code",
      "execution_count": 55,
      "metadata": {
        "id": "osZa2OV9Se-T"
      },
      "outputs": [],
      "source": [
        "if model_selection[model_flag]==\"ALL\" or model_selection[model_flag] == \"LSTM\":\n",
        "  # representation of model layers\n",
        "  plot_model(lst, to_file='/content/drive/MyDrive/Colab_Notebooks/Plots/lstm_binary.png', show_shapes=True,)"
      ]
    },
    {
      "cell_type": "code",
      "execution_count": 56,
      "metadata": {
        "id": "lw4OLD4HSpaY",
        "colab": {
          "base_uri": "https://localhost:8080/"
        },
        "outputId": "2f59c507-26a1-4867-8bb5-2f9448a32f5a"
      },
      "outputs": [
        {
          "output_type": "execute_result",
          "data": {
            "text/plain": [
              "(5519,)"
            ]
          },
          "metadata": {},
          "execution_count": 56
        }
      ],
      "source": [
        "y_test = np.array(y_test)\n",
        "y_test.shape"
      ]
    },
    {
      "cell_type": "code",
      "execution_count": 57,
      "metadata": {
        "id": "4BvYVrKsTGr3",
        "colab": {
          "base_uri": "https://localhost:8080/"
        },
        "outputId": "34f19474-6421-4aea-daee-9c0244cdf312"
      },
      "outputs": [
        {
          "output_type": "execute_result",
          "data": {
            "text/plain": [
              "numpy.ndarray"
            ]
          },
          "metadata": {},
          "execution_count": 57
        }
      ],
      "source": [
        "type(y_test)"
      ]
    },
    {
      "cell_type": "code",
      "execution_count": 58,
      "metadata": {
        "id": "KBvCGl6BS0FM",
        "colab": {
          "base_uri": "https://localhost:8080/"
        },
        "outputId": "1aa04775-acea-4211-9e2c-66ffcdfee81d"
      },
      "outputs": [
        {
          "output_type": "stream",
          "name": "stdout",
          "text": [
            "173/173 [==============================] - 1s 2ms/step\n"
          ]
        }
      ],
      "source": [
        "if model_selection[model_flag]==\"ALL\" or model_selection[model_flag] == \"LSTM\":\n",
        "  y_classes = (lst.predict(x_test)>0.5).astype('int32')"
      ]
    },
    {
      "cell_type": "code",
      "execution_count": 59,
      "metadata": {
        "id": "x_yVqBlLTtLW",
        "colab": {
          "base_uri": "https://localhost:8080/"
        },
        "outputId": "6b38e5d7-4410-4eca-b6e5-d12879e76160"
      },
      "outputs": [
        {
          "output_type": "stream",
          "name": "stdout",
          "text": [
            "Recall Score -  0.037383177570093455\n",
            "F1 Score -  0.07207207207207207\n",
            "Precision Score -  1.0\n",
            "False Positive Rate -  [1. 0.]\n",
            "False Negative Rate -  [0.         0.96261682]\n",
            "Thresholds -  [0 1]\n"
          ]
        }
      ],
      "source": [
        "if model_selection[model_flag]==\"ALL\" or model_selection[model_flag] == \"LSTM\":\n",
        "  print(\"Recall Score - \",recall_score(y_test,y_classes))\n",
        "  print(\"F1 Score - \",f1_score(y_test,y_classes))\n",
        "  print(\"Precision Score - \",precision_score(y_test,y_classes))\n",
        "  fpr, fnr, thresholds = det_curve(y_test, y_classes)\n",
        "  print(\"False Positive Rate - \", fpr)\n",
        "  print(\"False Negative Rate - \", fnr)\n",
        "  print(\"Thresholds - \", thresholds)"
      ]
    },
    {
      "cell_type": "code",
      "source": [
        "print(classification_report(y_test, y_classes, target_names=['0', '1']))\n",
        "cm = confusion_matrix(y_test, y_classes)\n",
        "disp = ConfusionMatrixDisplay(confusion_matrix=cm,\n",
        "                              display_labels=['0', '1'])\n",
        "disp.plot()\n",
        "\n",
        "plt.show()"
      ],
      "metadata": {
        "id": "lHw1E32esovH",
        "colab": {
          "base_uri": "https://localhost:8080/",
          "height": 610
        },
        "outputId": "ab0c4111-1d49-44d9-98ca-a2018429a88e"
      },
      "execution_count": 60,
      "outputs": [
        {
          "output_type": "stream",
          "name": "stdout",
          "text": [
            "              precision    recall  f1-score   support\n",
            "\n",
            "           0       0.96      1.00      0.98      5305\n",
            "           1       1.00      0.04      0.07       214\n",
            "\n",
            "    accuracy                           0.96      5519\n",
            "   macro avg       0.98      0.52      0.53      5519\n",
            "weighted avg       0.96      0.96      0.95      5519\n",
            "\n"
          ]
        },
        {
          "output_type": "display_data",
          "data": {
            "text/plain": [
              "<Figure size 640x480 with 2 Axes>"
            ],
            "image/png": "[encoded data removed]"
          },
          "metadata": {}
        }
      ]
    },
    {
      "cell_type": "markdown",
      "metadata": {
        "id": "H_g15uXe82BY"
      },
      "source": [
        "## **Auto Encoder**"
      ]
    },
    {
      "cell_type": "code",
      "execution_count": 61,
      "metadata": {
        "id": "VQ6pDxghmBwB"
      },
      "outputs": [],
      "source": [
        "if model_selection[model_flag]==\"ALL\" or model_selection[model_flag] == \"AE\":\n",
        "  # splitting the dataset 75% for training and 25% testing\n",
        "  X_train, X_test = train_test_split(bin_data, test_size=0.25, random_state=42)"
      ]
    },
    {
      "cell_type": "code",
      "execution_count": 62,
      "metadata": {
        "id": "uogVT92Q_6wh"
      },
      "outputs": [],
      "source": [
        "if model_selection[model_flag]==\"ALL\" or model_selection[model_flag] == \"AE\":\n",
        "  # dataset excluding target attribute (encoded, one-hot-encoded,original)\n",
        "  X_train = X_train.drop(['label'],axis=1) \n",
        "\n",
        "  y_test = X_test['label'] # target attribute\n",
        "\n",
        "  # dataset excluding target attribute (encoded, one-hot-encoded,original)\n",
        "  X_test = X_test.drop(['label'],axis=1)\n",
        "  # calling the normalization() function\n",
        "  X_train = normalization_train(X_train,numeric_cols)\n",
        "  X_test = normalization_test(X_test,numeric_cols)\n",
        "  X_train = X_train.values\n",
        "  X_test = X_test.values\n",
        "  y_test = y_test.values"
      ]
    },
    {
      "cell_type": "code",
      "execution_count": 63,
      "metadata": {
        "id": "s696BM9uKADC"
      },
      "outputs": [],
      "source": [
        "if model_selection[model_flag]==\"ALL\" or model_selection[model_flag] == \"AE\":\n",
        "  input_dim = X_train.shape[1]\n",
        "  encoding_dim = 50\n",
        "\n",
        "  #input layer\n",
        "  input_layer = Input(shape=(input_dim, ))\n",
        "  #encoding layer with 50 neurons\n",
        "  encoder = Dense(encoding_dim, activation=\"relu\")(input_layer)           \n",
        "  #decoding and output layer\n",
        "  output_layer = Dense(input_dim, activation='softmax')(encoder)"
      ]
    },
    {
      "cell_type": "code",
      "execution_count": 64,
      "metadata": {
        "id": "nLn3vHBZLQtj"
      },
      "outputs": [],
      "source": [
        "if model_selection[model_flag]==\"ALL\" or model_selection[model_flag] == \"AE\":\n",
        "  # creating model with input, encoding, decoding, output layers\n",
        "  autoencoder = Model(inputs=input_layer, outputs=output_layer)\n",
        "\n",
        "  # defining loss function, optimizer, metrics and then compiling model\n",
        "  autoencoder.compile(optimizer='adam', loss='mean_squared_error',metrics=['accuracy'])"
      ]
    },
    {
      "cell_type": "code",
      "execution_count": 65,
      "metadata": {
        "id": "X_zk7PMVLVNm",
        "colab": {
          "base_uri": "https://localhost:8080/"
        },
        "outputId": "72e0cad6-680c-43ae-d675-e37d27d41588"
      },
      "outputs": [
        {
          "output_type": "stream",
          "name": "stdout",
          "text": [
            "Model: \"model\"\n",
            "_________________________________________________________________\n",
            " Layer (type)                Output Shape              Param #   \n",
            "=================================================================\n",
            " input_1 (InputLayer)        [(None, 116)]             0         \n",
            "                                                                 \n",
            " dense_3 (Dense)             (None, 50)                5850      \n",
            "                                                                 \n",
            " dense_4 (Dense)             (None, 116)               5916      \n",
            "                                                                 \n",
            "=================================================================\n",
            "Total params: 11,766\n",
            "Trainable params: 11,766\n",
            "Non-trainable params: 0\n",
            "_________________________________________________________________\n"
          ]
        }
      ],
      "source": [
        "if model_selection[model_flag]==\"ALL\" or model_selection[model_flag] == \"AE\":\n",
        "  # summary of model layers\n",
        "  autoencoder.summary()"
      ]
    },
    {
      "cell_type": "code",
      "execution_count": 66,
      "metadata": {
        "id": "We59NbebLdkJ",
        "colab": {
          "base_uri": "https://localhost:8080/"
        },
        "outputId": "710c5e19-9d0d-4ecf-c68f-8ef2fa0939c0"
      },
      "outputs": [
        {
          "output_type": "stream",
          "name": "stdout",
          "text": [
            "Epoch 1/100\n",
            "34/34 [==============================] - 1s 8ms/step - loss: 0.3766 - accuracy: 0.0030 - val_loss: 2184577535705088.0000 - val_accuracy: 0.0000e+00\n",
            "Epoch 2/100\n",
            "34/34 [==============================] - 0s 5ms/step - loss: 0.3733 - accuracy: 0.0985 - val_loss: 2184577535705088.0000 - val_accuracy: 0.0000e+00\n",
            "Epoch 3/100\n",
            "34/34 [==============================] - 0s 4ms/step - loss: 0.3721 - accuracy: 0.0505 - val_loss: 2184577535705088.0000 - val_accuracy: 0.0000e+00\n",
            "Epoch 4/100\n",
            "34/34 [==============================] - 0s 5ms/step - loss: 0.3717 - accuracy: 0.0178 - val_loss: 2184577535705088.0000 - val_accuracy: 0.0000e+00\n",
            "Epoch 5/100\n",
            "34/34 [==============================] - 0s 5ms/step - loss: 0.3716 - accuracy: 0.0240 - val_loss: 2184577535705088.0000 - val_accuracy: 0.0000e+00\n",
            "Epoch 6/100\n",
            "34/34 [==============================] - 0s 8ms/step - loss: 0.3716 - accuracy: 0.0433 - val_loss: 2184577535705088.0000 - val_accuracy: 0.0000e+00\n",
            "Epoch 7/100\n",
            "34/34 [==============================] - 0s 7ms/step - loss: 0.3715 - accuracy: 0.0656 - val_loss: 2184577535705088.0000 - val_accuracy: 0.0000e+00\n",
            "Epoch 8/100\n",
            "34/34 [==============================] - 0s 6ms/step - loss: 0.3715 - accuracy: 0.0733 - val_loss: 2184577535705088.0000 - val_accuracy: 0.0000e+00\n",
            "Epoch 9/100\n",
            "34/34 [==============================] - 0s 7ms/step - loss: 0.3715 - accuracy: 0.0722 - val_loss: 2184577535705088.0000 - val_accuracy: 0.0000e+00\n",
            "Epoch 10/100\n",
            "34/34 [==============================] - 0s 8ms/step - loss: 0.3715 - accuracy: 0.1044 - val_loss: 2184577535705088.0000 - val_accuracy: 0.0000e+00\n",
            "Epoch 11/100\n",
            "34/34 [==============================] - 1s 18ms/step - loss: 0.3714 - accuracy: 0.1160 - val_loss: 2184577535705088.0000 - val_accuracy: 0.0000e+00\n",
            "Epoch 12/100\n",
            "34/34 [==============================] - 1s 17ms/step - loss: 0.3714 - accuracy: 0.1549 - val_loss: 2184577535705088.0000 - val_accuracy: 0.0000e+00\n",
            "Epoch 13/100\n",
            "34/34 [==============================] - 0s 9ms/step - loss: 0.3714 - accuracy: 0.1663 - val_loss: 2184577535705088.0000 - val_accuracy: 0.0000e+00\n",
            "Epoch 14/100\n",
            "34/34 [==============================] - 0s 6ms/step - loss: 0.3714 - accuracy: 0.1828 - val_loss: 2184577535705088.0000 - val_accuracy: 0.0000e+00\n",
            "Epoch 15/100\n",
            "34/34 [==============================] - 0s 6ms/step - loss: 0.3714 - accuracy: 0.2055 - val_loss: 2184577535705088.0000 - val_accuracy: 0.0000e+00\n",
            "Epoch 16/100\n",
            "34/34 [==============================] - 0s 6ms/step - loss: 0.3714 - accuracy: 0.2018 - val_loss: 2184577535705088.0000 - val_accuracy: 0.0000e+00\n",
            "Epoch 17/100\n",
            "34/34 [==============================] - 0s 5ms/step - loss: 0.3714 - accuracy: 0.2055 - val_loss: 2184577535705088.0000 - val_accuracy: 0.0000e+00\n",
            "Epoch 18/100\n",
            "34/34 [==============================] - 0s 4ms/step - loss: 0.3714 - accuracy: 0.2090 - val_loss: 2184577535705088.0000 - val_accuracy: 0.0000e+00\n",
            "Epoch 19/100\n",
            "34/34 [==============================] - 0s 4ms/step - loss: 0.3714 - accuracy: 0.2024 - val_loss: 2184577535705088.0000 - val_accuracy: 0.0000e+00\n",
            "Epoch 20/100\n",
            "34/34 [==============================] - 0s 4ms/step - loss: 0.3714 - accuracy: 0.1567 - val_loss: 2184577535705088.0000 - val_accuracy: 0.0000e+00\n",
            "Epoch 21/100\n",
            "34/34 [==============================] - 0s 5ms/step - loss: 0.3714 - accuracy: 0.1662 - val_loss: 2184577535705088.0000 - val_accuracy: 0.0000e+00\n",
            "Epoch 22/100\n",
            "34/34 [==============================] - 0s 4ms/step - loss: 0.3714 - accuracy: 0.1841 - val_loss: 2184577535705088.0000 - val_accuracy: 0.0000e+00\n",
            "Epoch 23/100\n",
            "34/34 [==============================] - 0s 4ms/step - loss: 0.3714 - accuracy: 0.1940 - val_loss: 2184577535705088.0000 - val_accuracy: 0.0000e+00\n",
            "Epoch 24/100\n",
            "34/34 [==============================] - 0s 4ms/step - loss: 0.3714 - accuracy: 0.1973 - val_loss: 2184577535705088.0000 - val_accuracy: 0.0000e+00\n",
            "Epoch 25/100\n",
            "34/34 [==============================] - 0s 4ms/step - loss: 0.3714 - accuracy: 0.2032 - val_loss: 2184577535705088.0000 - val_accuracy: 0.0000e+00\n",
            "Epoch 26/100\n",
            "34/34 [==============================] - 0s 4ms/step - loss: 0.3714 - accuracy: 0.2020 - val_loss: 2184577535705088.0000 - val_accuracy: 0.0000e+00\n",
            "Epoch 27/100\n",
            "34/34 [==============================] - 0s 5ms/step - loss: 0.3714 - accuracy: 0.2014 - val_loss: 2184577535705088.0000 - val_accuracy: 0.0000e+00\n",
            "Epoch 28/100\n",
            "34/34 [==============================] - 0s 4ms/step - loss: 0.3714 - accuracy: 0.2018 - val_loss: 2184577535705088.0000 - val_accuracy: 0.0000e+00\n",
            "Epoch 29/100\n",
            "34/34 [==============================] - 0s 5ms/step - loss: 0.3714 - accuracy: 0.1978 - val_loss: 2184577535705088.0000 - val_accuracy: 0.0000e+00\n",
            "Epoch 30/100\n",
            "34/34 [==============================] - 0s 4ms/step - loss: 0.3714 - accuracy: 0.2130 - val_loss: 2184577535705088.0000 - val_accuracy: 0.0000e+00\n",
            "Epoch 31/100\n",
            "34/34 [==============================] - 0s 4ms/step - loss: 0.3714 - accuracy: 0.2180 - val_loss: 2184577535705088.0000 - val_accuracy: 0.0000e+00\n",
            "Epoch 32/100\n",
            "34/34 [==============================] - 0s 4ms/step - loss: 0.3714 - accuracy: 0.2170 - val_loss: 2184577535705088.0000 - val_accuracy: 0.0000e+00\n",
            "Epoch 33/100\n",
            "34/34 [==============================] - 0s 4ms/step - loss: 0.3714 - accuracy: 0.2176 - val_loss: 2184577535705088.0000 - val_accuracy: 0.0000e+00\n",
            "Epoch 34/100\n",
            "34/34 [==============================] - 0s 4ms/step - loss: 0.3714 - accuracy: 0.2192 - val_loss: 2184577535705088.0000 - val_accuracy: 0.0000e+00\n",
            "Epoch 35/100\n",
            "34/34 [==============================] - 0s 4ms/step - loss: 0.3714 - accuracy: 0.2128 - val_loss: 2184577535705088.0000 - val_accuracy: 0.0000e+00\n",
            "Epoch 36/100\n",
            "34/34 [==============================] - 0s 4ms/step - loss: 0.3714 - accuracy: 0.2237 - val_loss: 2184577535705088.0000 - val_accuracy: 0.0000e+00\n",
            "Epoch 37/100\n",
            "34/34 [==============================] - 0s 4ms/step - loss: 0.3714 - accuracy: 0.1683 - val_loss: 2184577535705088.0000 - val_accuracy: 0.0000e+00\n",
            "Epoch 38/100\n",
            "34/34 [==============================] - 0s 4ms/step - loss: 0.3714 - accuracy: 0.1585 - val_loss: 2184577535705088.0000 - val_accuracy: 0.0000e+00\n",
            "Epoch 39/100\n",
            "34/34 [==============================] - 0s 4ms/step - loss: 0.3713 - accuracy: 0.1868 - val_loss: 2184577535705088.0000 - val_accuracy: 0.0000e+00\n",
            "Epoch 40/100\n",
            "34/34 [==============================] - 0s 4ms/step - loss: 0.3713 - accuracy: 0.1916 - val_loss: 2184577535705088.0000 - val_accuracy: 0.0000e+00\n",
            "Epoch 41/100\n",
            "34/34 [==============================] - 0s 5ms/step - loss: 0.3713 - accuracy: 0.1965 - val_loss: 2184577535705088.0000 - val_accuracy: 0.0000e+00\n",
            "Epoch 42/100\n",
            "34/34 [==============================] - 0s 4ms/step - loss: 0.3713 - accuracy: 0.2012 - val_loss: 2184577535705088.0000 - val_accuracy: 0.0000e+00\n",
            "Epoch 43/100\n",
            "34/34 [==============================] - 0s 4ms/step - loss: 0.3713 - accuracy: 0.2050 - val_loss: 2184577535705088.0000 - val_accuracy: 0.0000e+00\n",
            "Epoch 44/100\n",
            "34/34 [==============================] - 0s 4ms/step - loss: 0.3713 - accuracy: 0.2084 - val_loss: 2184577535705088.0000 - val_accuracy: 0.0000e+00\n",
            "Epoch 45/100\n",
            "34/34 [==============================] - 0s 4ms/step - loss: 0.3713 - accuracy: 0.2157 - val_loss: 2184577535705088.0000 - val_accuracy: 0.0000e+00\n",
            "Epoch 46/100\n",
            "34/34 [==============================] - 0s 4ms/step - loss: 0.3713 - accuracy: 0.2096 - val_loss: 2184577535705088.0000 - val_accuracy: 0.0000e+00\n",
            "Epoch 47/100\n",
            "34/34 [==============================] - 0s 4ms/step - loss: 0.3713 - accuracy: 0.2154 - val_loss: 2184577535705088.0000 - val_accuracy: 0.0000e+00\n",
            "Epoch 48/100\n",
            "34/34 [==============================] - 0s 4ms/step - loss: 0.3713 - accuracy: 0.2249 - val_loss: 2184577535705088.0000 - val_accuracy: 0.0000e+00\n",
            "Epoch 49/100\n",
            "34/34 [==============================] - 0s 5ms/step - loss: 0.3713 - accuracy: 0.2268 - val_loss: 2184577535705088.0000 - val_accuracy: 0.0000e+00\n",
            "Epoch 50/100\n",
            "34/34 [==============================] - 0s 4ms/step - loss: 0.3713 - accuracy: 0.2365 - val_loss: 2184577535705088.0000 - val_accuracy: 0.0000e+00\n",
            "Epoch 51/100\n",
            "34/34 [==============================] - 0s 4ms/step - loss: 0.3713 - accuracy: 0.2316 - val_loss: 2184577535705088.0000 - val_accuracy: 0.0000e+00\n",
            "Epoch 52/100\n",
            "34/34 [==============================] - 0s 6ms/step - loss: 0.3713 - accuracy: 0.2319 - val_loss: 2184577535705088.0000 - val_accuracy: 0.0000e+00\n",
            "Epoch 53/100\n",
            "34/34 [==============================] - 0s 5ms/step - loss: 0.3713 - accuracy: 0.2357 - val_loss: 2184577535705088.0000 - val_accuracy: 0.0000e+00\n",
            "Epoch 54/100\n",
            "34/34 [==============================] - 0s 5ms/step - loss: 0.3713 - accuracy: 0.2406 - val_loss: 2184577535705088.0000 - val_accuracy: 0.0000e+00\n",
            "Epoch 55/100\n",
            "34/34 [==============================] - 0s 5ms/step - loss: 0.3713 - accuracy: 0.2407 - val_loss: 2184577535705088.0000 - val_accuracy: 0.0000e+00\n",
            "Epoch 56/100\n",
            "34/34 [==============================] - 0s 4ms/step - loss: 0.3713 - accuracy: 0.2441 - val_loss: 2184577535705088.0000 - val_accuracy: 0.0000e+00\n",
            "Epoch 57/100\n",
            "34/34 [==============================] - 0s 4ms/step - loss: 0.3713 - accuracy: 0.2359 - val_loss: 2184577535705088.0000 - val_accuracy: 0.0000e+00\n",
            "Epoch 58/100\n",
            "34/34 [==============================] - 0s 4ms/step - loss: 0.3713 - accuracy: 0.2474 - val_loss: 2184577535705088.0000 - val_accuracy: 0.0000e+00\n",
            "Epoch 59/100\n",
            "34/34 [==============================] - 0s 4ms/step - loss: 0.3713 - accuracy: 0.2401 - val_loss: 2184577535705088.0000 - val_accuracy: 0.0000e+00\n",
            "Epoch 60/100\n",
            "34/34 [==============================] - 0s 5ms/step - loss: 0.3713 - accuracy: 0.2439 - val_loss: 2184577535705088.0000 - val_accuracy: 0.0000e+00\n",
            "Epoch 61/100\n",
            "34/34 [==============================] - 0s 4ms/step - loss: 0.3713 - accuracy: 0.2455 - val_loss: 2184577535705088.0000 - val_accuracy: 0.0000e+00\n",
            "Epoch 62/100\n",
            "34/34 [==============================] - 0s 4ms/step - loss: 0.3713 - accuracy: 0.2423 - val_loss: 2184577535705088.0000 - val_accuracy: 0.0000e+00\n",
            "Epoch 63/100\n",
            "34/34 [==============================] - 0s 4ms/step - loss: 0.3713 - accuracy: 0.2455 - val_loss: 2184577535705088.0000 - val_accuracy: 0.0000e+00\n",
            "Epoch 64/100\n",
            "34/34 [==============================] - 0s 4ms/step - loss: 0.3713 - accuracy: 0.2452 - val_loss: 2184577535705088.0000 - val_accuracy: 0.0000e+00\n",
            "Epoch 65/100\n",
            "34/34 [==============================] - 0s 5ms/step - loss: 0.3713 - accuracy: 0.2463 - val_loss: 2184577535705088.0000 - val_accuracy: 0.0000e+00\n",
            "Epoch 66/100\n",
            "34/34 [==============================] - 0s 5ms/step - loss: 0.3713 - accuracy: 0.2462 - val_loss: 2184577535705088.0000 - val_accuracy: 0.0000e+00\n",
            "Epoch 67/100\n",
            "34/34 [==============================] - 0s 5ms/step - loss: 0.3713 - accuracy: 0.2460 - val_loss: 2184577535705088.0000 - val_accuracy: 0.0000e+00\n",
            "Epoch 68/100\n",
            "34/34 [==============================] - 0s 5ms/step - loss: 0.3713 - accuracy: 0.2456 - val_loss: 2184577535705088.0000 - val_accuracy: 0.0000e+00\n",
            "Epoch 69/100\n",
            "34/34 [==============================] - 0s 4ms/step - loss: 0.3713 - accuracy: 0.2586 - val_loss: 2184577535705088.0000 - val_accuracy: 0.0000e+00\n",
            "Epoch 70/100\n",
            "34/34 [==============================] - 0s 4ms/step - loss: 0.3713 - accuracy: 0.2546 - val_loss: 2184577535705088.0000 - val_accuracy: 0.0000e+00\n",
            "Epoch 71/100\n",
            "34/34 [==============================] - 0s 5ms/step - loss: 0.3713 - accuracy: 0.2544 - val_loss: 2184577535705088.0000 - val_accuracy: 0.0000e+00\n",
            "Epoch 72/100\n",
            "34/34 [==============================] - 0s 4ms/step - loss: 0.3713 - accuracy: 0.2525 - val_loss: 2184577535705088.0000 - val_accuracy: 0.0000e+00\n",
            "Epoch 73/100\n",
            "34/34 [==============================] - 0s 5ms/step - loss: 0.3713 - accuracy: 0.2509 - val_loss: 2184577535705088.0000 - val_accuracy: 0.0000e+00\n",
            "Epoch 74/100\n",
            "34/34 [==============================] - 0s 4ms/step - loss: 0.3713 - accuracy: 0.2532 - val_loss: 2184577535705088.0000 - val_accuracy: 0.0000e+00\n",
            "Epoch 75/100\n",
            "34/34 [==============================] - 0s 5ms/step - loss: 0.3713 - accuracy: 0.2543 - val_loss: 2184577535705088.0000 - val_accuracy: 0.0000e+00\n",
            "Epoch 76/100\n",
            "34/34 [==============================] - 0s 5ms/step - loss: 0.3713 - accuracy: 0.2532 - val_loss: 2184577535705088.0000 - val_accuracy: 0.0000e+00\n",
            "Epoch 77/100\n",
            "34/34 [==============================] - 0s 4ms/step - loss: 0.3713 - accuracy: 0.2545 - val_loss: 2184577535705088.0000 - val_accuracy: 0.0000e+00\n",
            "Epoch 78/100\n",
            "34/34 [==============================] - 0s 4ms/step - loss: 0.3713 - accuracy: 0.2576 - val_loss: 2184577535705088.0000 - val_accuracy: 0.0000e+00\n",
            "Epoch 79/100\n",
            "34/34 [==============================] - 0s 4ms/step - loss: 0.3713 - accuracy: 0.2573 - val_loss: 2184577535705088.0000 - val_accuracy: 0.0000e+00\n",
            "Epoch 80/100\n",
            "34/34 [==============================] - 0s 6ms/step - loss: 0.3713 - accuracy: 0.2560 - val_loss: 2184577535705088.0000 - val_accuracy: 0.0000e+00\n",
            "Epoch 81/100\n",
            "34/34 [==============================] - 0s 7ms/step - loss: 0.3713 - accuracy: 0.2609 - val_loss: 2184577535705088.0000 - val_accuracy: 0.0000e+00\n",
            "Epoch 82/100\n",
            "34/34 [==============================] - 0s 7ms/step - loss: 0.3713 - accuracy: 0.2539 - val_loss: 2184577535705088.0000 - val_accuracy: 0.0000e+00\n",
            "Epoch 83/100\n",
            "34/34 [==============================] - 0s 7ms/step - loss: 0.3713 - accuracy: 0.2599 - val_loss: 2184577535705088.0000 - val_accuracy: 0.0000e+00\n",
            "Epoch 84/100\n",
            "34/34 [==============================] - 0s 6ms/step - loss: 0.3713 - accuracy: 0.2504 - val_loss: 2184577535705088.0000 - val_accuracy: 0.0000e+00\n",
            "Epoch 85/100\n",
            "34/34 [==============================] - 0s 7ms/step - loss: 0.3713 - accuracy: 0.2587 - val_loss: 2184577535705088.0000 - val_accuracy: 0.0000e+00\n",
            "Epoch 86/100\n",
            "34/34 [==============================] - 0s 6ms/step - loss: 0.3713 - accuracy: 0.2598 - val_loss: 2184577535705088.0000 - val_accuracy: 0.0000e+00\n",
            "Epoch 87/100\n",
            "34/34 [==============================] - 0s 7ms/step - loss: 0.3713 - accuracy: 0.2576 - val_loss: 2184577535705088.0000 - val_accuracy: 0.0000e+00\n",
            "Epoch 88/100\n",
            "34/34 [==============================] - 0s 7ms/step - loss: 0.3713 - accuracy: 0.2592 - val_loss: 2184577535705088.0000 - val_accuracy: 0.0000e+00\n",
            "Epoch 89/100\n",
            "34/34 [==============================] - 0s 6ms/step - loss: 0.3713 - accuracy: 0.2596 - val_loss: 2184577535705088.0000 - val_accuracy: 0.0000e+00\n",
            "Epoch 90/100\n",
            "34/34 [==============================] - 0s 7ms/step - loss: 0.3713 - accuracy: 0.2597 - val_loss: 2184577535705088.0000 - val_accuracy: 0.0000e+00\n",
            "Epoch 91/100\n",
            "34/34 [==============================] - 0s 6ms/step - loss: 0.3713 - accuracy: 0.2601 - val_loss: 2184577535705088.0000 - val_accuracy: 0.0000e+00\n",
            "Epoch 92/100\n",
            "34/34 [==============================] - 0s 6ms/step - loss: 0.3713 - accuracy: 0.2605 - val_loss: 2184577535705088.0000 - val_accuracy: 0.0000e+00\n",
            "Epoch 93/100\n",
            "34/34 [==============================] - 0s 7ms/step - loss: 0.3713 - accuracy: 0.2659 - val_loss: 2184577535705088.0000 - val_accuracy: 0.0000e+00\n",
            "Epoch 94/100\n",
            "34/34 [==============================] - 0s 6ms/step - loss: 0.3713 - accuracy: 0.2660 - val_loss: 2184577535705088.0000 - val_accuracy: 0.0000e+00\n",
            "Epoch 95/100\n",
            "34/34 [==============================] - 0s 5ms/step - loss: 0.3713 - accuracy: 0.2708 - val_loss: 2184577535705088.0000 - val_accuracy: 0.0000e+00\n",
            "Epoch 96/100\n",
            "34/34 [==============================] - 0s 4ms/step - loss: 0.3713 - accuracy: 0.2694 - val_loss: 2184577535705088.0000 - val_accuracy: 0.0000e+00\n",
            "Epoch 97/100\n",
            "34/34 [==============================] - 0s 4ms/step - loss: 0.3713 - accuracy: 0.2657 - val_loss: 2184577535705088.0000 - val_accuracy: 0.0000e+00\n",
            "Epoch 98/100\n",
            "34/34 [==============================] - 0s 4ms/step - loss: 0.3713 - accuracy: 0.2701 - val_loss: 2184577535705088.0000 - val_accuracy: 0.0000e+00\n",
            "Epoch 99/100\n",
            "34/34 [==============================] - 0s 5ms/step - loss: 0.3713 - accuracy: 0.2679 - val_loss: 2184577535705088.0000 - val_accuracy: 0.0000e+00\n",
            "Epoch 100/100\n",
            "34/34 [==============================] - 0s 4ms/step - loss: 0.3713 - accuracy: 0.2776 - val_loss: 2184577535705088.0000 - val_accuracy: 0.0000e+00\n"
          ]
        }
      ],
      "source": [
        "if model_selection[model_flag]==\"ALL\" or model_selection[model_flag] == \"AE\":\n",
        "  # training the model on training dataset\n",
        "  history = autoencoder.fit(X_train, X_train, epochs=100,batch_size=500,validation_data=(X_test, X_test)).history"
      ]
    },
    {
      "cell_type": "code",
      "execution_count": 67,
      "metadata": {
        "id": "AdtR3-9xLliU",
        "colab": {
          "base_uri": "https://localhost:8080/"
        },
        "outputId": "6788741b-db20-4b66-823e-5da040072b24"
      },
      "outputs": [
        {
          "output_type": "stream",
          "name": "stdout",
          "text": [
            "Saved model to disk\n",
            "Loaded model from disk\n"
          ]
        }
      ],
      "source": [
        "if model_selection[model_flag]==\"ALL\" or model_selection[model_flag] == \"AE\":\n",
        "  filepath = '/content/drive/MyDrive/Colab_Notebooks/Models/ae_binary'+model_name_suffix+'.json'\n",
        "  weightspath = '/content/drive/MyDrive/Colab_Notebooks/Weights/ae_binary'+model_name_suffix+'.h5'\n",
        "  if (not path.isfile(filepath)): \n",
        "    # serialize model to JSON\n",
        "    autoencoder_json = autoencoder.to_json()\n",
        "    with open(filepath, \"w\") as json_file:\n",
        "      json_file.write(autoencoder_json)\n",
        "\n",
        "    # serialize weights to HDF5\n",
        "    autoencoder.save_weights(weightspath)\n",
        "    print(\"Saved model to disk\")\n",
        "\n",
        "    # load json and create model\n",
        "    json_file = open(filepath, 'r')\n",
        "    loaded_model_json = json_file.read()\n",
        "    json_file.close()\n",
        "    autoencoder = model_from_json(loaded_model_json)\n",
        "\n",
        "    # load weights into new model\n",
        "    autoencoder.load_weights(weightspath)\n",
        "    print(\"Loaded model from disk\")"
      ]
    },
    {
      "cell_type": "code",
      "execution_count": 68,
      "metadata": {
        "id": "Wqr6HVtMLwx9"
      },
      "outputs": [],
      "source": [
        "if model_selection[model_flag]==\"ALL\" or model_selection[model_flag] == \"AE\":\n",
        "  # defining loss function, optimizer, metrics and then compiling model\n",
        "  autoencoder.compile(optimizer='adam', loss='mean_squared_error',metrics=['accuracy'])"
      ]
    },
    {
      "cell_type": "code",
      "execution_count": 69,
      "metadata": {
        "id": "FQrjCk2hL09x",
        "colab": {
          "base_uri": "https://localhost:8080/"
        },
        "outputId": "1855e2b0-bd12-45c7-92fe-f190dbc3aff7"
      },
      "outputs": [
        {
          "output_type": "stream",
          "name": "stdout",
          "text": [
            "173/173 [==============================] - 1s 3ms/step - loss: 2184577804140544.0000 - accuracy: 0.0000e+00\n",
            "Test results - Loss: 2184577804140544.0 - Accuracy: 0.0%\n"
          ]
        }
      ],
      "source": [
        "if model_selection[model_flag]==\"ALL\" or model_selection[model_flag] == \"AE\":\n",
        "  # predicting target attribute on testing dataset\n",
        "  test_results = autoencoder.evaluate(X_test, X_test, verbose=1)\n",
        "  print(f'Test results - Loss: {test_results[0]} - Accuracy: {test_results[1]}%')"
      ]
    },
    {
      "cell_type": "code",
      "execution_count": 70,
      "metadata": {
        "id": "VqQsjSZcL1-B",
        "colab": {
          "base_uri": "https://localhost:8080/",
          "height": 472
        },
        "outputId": "0b783cc9-e54d-4405-d3b2-6357729d87a7"
      },
      "outputs": [
        {
          "output_type": "display_data",
          "data": {
            "text/plain": [
              "<Figure size 640x480 with 1 Axes>"
            ],
            "image/png": "[encoded data removed]"
          },
          "metadata": {}
        }
      ],
      "source": [
        "if model_selection[model_flag]==\"ALL\" or model_selection[model_flag] == \"AE\":\n",
        "  # Plot of loss vs epoch of train and test dataset\n",
        "  plt.plot(history['loss'])\n",
        "  plt.plot(history['val_loss'])\n",
        "  plt.title(\"Plot of loss vs epoch for train and test dataset\")\n",
        "  plt.ylabel('loss')\n",
        "  plt.xlabel('epoch')\n",
        "  plt.legend(['train', 'test'], loc='upper right')\n",
        "  plt.savefig('/content/drive/MyDrive/Colab_Notebooks/Plots/ae_binary_loss.png')\n",
        "  plt.show()"
      ]
    },
    {
      "cell_type": "code",
      "execution_count": 71,
      "metadata": {
        "id": "fkjD9QXKL25Z",
        "colab": {
          "base_uri": "https://localhost:8080/",
          "height": 472
        },
        "outputId": "bab81411-c155-45f6-b267-6fde034a9fe2"
      },
      "outputs": [
        {
          "output_type": "display_data",
          "data": {
            "text/plain": [
              "<Figure size 640x480 with 1 Axes>"
            ],
            "image/png": "[encoded data removed]"
          },
          "metadata": {}
        }
      ],
      "source": [
        "if model_selection[model_flag]==\"ALL\" or model_selection[model_flag] == \"AE\":\n",
        "  # Plot of accuracy vs epoch of train and test dataset\n",
        "  plt.plot(history['accuracy'])\n",
        "  plt.plot(history['val_accuracy'])\n",
        "  plt.title(\"Plot of accuracy vs epoch for train and test dataset\")\n",
        "  plt.ylabel('accuracy')\n",
        "  plt.xlabel('epoch')\n",
        "  plt.legend(['train', 'test'], loc='best')\n",
        "  plt.savefig('/content/drive/MyDrive/Colab_Notebooks/Plots/ae_binary_accuracy.png')\n",
        "  plt.show()"
      ]
    },
    {
      "cell_type": "code",
      "execution_count": 72,
      "metadata": {
        "id": "lf9q83sBMGPD"
      },
      "outputs": [],
      "source": [
        "if model_selection[model_flag]==\"ALL\" or model_selection[model_flag] == \"AE\":\n",
        "  # representation of model layers\n",
        "  plot_model(autoencoder, to_file='/content/drive/MyDrive/Colab_Notebooks/Plots/ae_binary.png', show_shapes=True,)"
      ]
    },
    {
      "cell_type": "code",
      "execution_count": 73,
      "metadata": {
        "id": "SFIXKGwuMLFo",
        "colab": {
          "base_uri": "https://localhost:8080/"
        },
        "outputId": "6e765530-59dd-46b8-f28b-bf16944dedca"
      },
      "outputs": [
        {
          "output_type": "stream",
          "name": "stdout",
          "text": [
            "173/173 [==============================] - 0s 1ms/step\n"
          ]
        }
      ],
      "source": [
        "if model_selection[model_flag]==\"ALL\" or model_selection[model_flag] == \"AE\":\n",
        "  # calculating reconstruction error \n",
        "  predictions = autoencoder.predict(X_test)"
      ]
    },
    {
      "cell_type": "code",
      "execution_count": 74,
      "metadata": {
        "id": "cqKJCyZnMMEG"
      },
      "outputs": [],
      "source": [
        "if model_selection[model_flag]==\"ALL\" or model_selection[model_flag] == \"AE\":\n",
        "  mse = np.mean(np.power(X_test - predictions, 2), axis=1)\n",
        "  error_df = pd.DataFrame({'reconstruction_error': mse,\n",
        "                           'true_class': y_test})"
      ]
    },
    {
      "cell_type": "code",
      "execution_count": 75,
      "metadata": {
        "id": "EdQJudbDMhmB",
        "colab": {
          "base_uri": "https://localhost:8080/"
        },
        "outputId": "344886dc-e385-4451-a203-be7e99a3ade6"
      },
      "outputs": [
        {
          "output_type": "stream",
          "name": "stdout",
          "text": [
            "(5519, 116)\n"
          ]
        }
      ],
      "source": [
        "if model_selection[model_flag]==\"ALL\" or model_selection[model_flag] == \"AE\":\n",
        "  error_df.describe()\n",
        "  print(predictions.shape)"
      ]
    },
    {
      "cell_type": "markdown",
      "metadata": {
        "id": "PHsaAAMmNQrs"
      },
      "source": [
        "## **AE Classifier**"
      ]
    },
    {
      "cell_type": "code",
      "execution_count": 76,
      "metadata": {
        "id": "1hK07LDBMoZg"
      },
      "outputs": [],
      "source": [
        "if model_selection[model_flag]==\"ALL\" or model_selection[model_flag] == \"AE\":\n",
        "  i_dim = predictions.shape[1]\n",
        "\n",
        "  #input layer\n",
        "  i_layer = Input(shape=(i_dim, ))\n",
        "  #hidden layer with 50 neurons\n",
        "  fvector = Dense(50, activation=\"sigmoid\")(i_layer)                    \n",
        "  #doutput layer\n",
        "  o_layer = Dense(1, activation='sigmoid')(fvector)"
      ]
    },
    {
      "cell_type": "code",
      "execution_count": 77,
      "metadata": {
        "id": "Efq77rVINXWE"
      },
      "outputs": [],
      "source": [
        "if model_selection[model_flag]==\"ALL\" or model_selection[model_flag] == \"AE\":\n",
        "  # creating model with input, encoding, decoding, output layers\n",
        "  ae_classifier = Model(inputs=i_layer, outputs=o_layer)\n",
        "\n",
        "  # defining loss function, optimizer, metrics and then compiling model\n",
        "  ae_classifier.compile(optimizer='adam', loss='binary_crossentropy',metrics=['accuracy'])"
      ]
    },
    {
      "cell_type": "code",
      "execution_count": 78,
      "metadata": {
        "id": "0Yl594VGNX1W",
        "colab": {
          "base_uri": "https://localhost:8080/"
        },
        "outputId": "21aab432-f2c7-42a6-ba1c-2ea70c4da4bf"
      },
      "outputs": [
        {
          "output_type": "stream",
          "name": "stdout",
          "text": [
            "Model: \"model_1\"\n",
            "_________________________________________________________________\n",
            " Layer (type)                Output Shape              Param #   \n",
            "=================================================================\n",
            " input_2 (InputLayer)        [(None, 116)]             0         \n",
            "                                                                 \n",
            " dense_5 (Dense)             (None, 50)                5850      \n",
            "                                                                 \n",
            " dense_6 (Dense)             (None, 1)                 51        \n",
            "                                                                 \n",
            "=================================================================\n",
            "Total params: 5,901\n",
            "Trainable params: 5,901\n",
            "Non-trainable params: 0\n",
            "_________________________________________________________________\n"
          ]
        }
      ],
      "source": [
        "if model_selection[model_flag]==\"ALL\" or model_selection[model_flag] == \"AE\":\n",
        "  # summary of model layers\n",
        "  ae_classifier.summary()"
      ]
    },
    {
      "cell_type": "code",
      "execution_count": 79,
      "metadata": {
        "id": "23n8Qt0uNX8Z",
        "colab": {
          "base_uri": "https://localhost:8080/"
        },
        "outputId": "b6210c8f-cf88-48b7-f7fd-1f43f1dcd526"
      },
      "outputs": [
        {
          "output_type": "stream",
          "name": "stdout",
          "text": [
            "Epoch 1/300\n",
            "9/9 [==============================] - 1s 23ms/step - loss: 1.0115 - accuracy: 0.0374 - val_loss: 0.9176 - val_accuracy: 0.0444\n",
            "Epoch 2/300\n",
            "9/9 [==============================] - 0s 7ms/step - loss: 0.8570 - accuracy: 0.0374 - val_loss: 0.7762 - val_accuracy: 0.0444\n",
            "Epoch 3/300\n",
            "9/9 [==============================] - 0s 6ms/step - loss: 0.7232 - accuracy: 0.2247 - val_loss: 0.6570 - val_accuracy: 0.9556\n",
            "Epoch 4/300\n",
            "9/9 [==============================] - 0s 6ms/step - loss: 0.6115 - accuracy: 0.9626 - val_loss: 0.5593 - val_accuracy: 0.9556\n",
            "Epoch 5/300\n",
            "9/9 [==============================] - 0s 9ms/step - loss: 0.5207 - accuracy: 0.9626 - val_loss: 0.4811 - val_accuracy: 0.9556\n",
            "Epoch 6/300\n",
            "9/9 [==============================] - 0s 8ms/step - loss: 0.4484 - accuracy: 0.9626 - val_loss: 0.4194 - val_accuracy: 0.9556\n",
            "Epoch 7/300\n",
            "9/9 [==============================] - 0s 6ms/step - loss: 0.3918 - accuracy: 0.9626 - val_loss: 0.3710 - val_accuracy: 0.9556\n",
            "Epoch 8/300\n",
            "9/9 [==============================] - 0s 8ms/step - loss: 0.3469 - accuracy: 0.9626 - val_loss: 0.3334 - val_accuracy: 0.9556\n",
            "Epoch 9/300\n",
            "9/9 [==============================] - 0s 6ms/step - loss: 0.3117 - accuracy: 0.9626 - val_loss: 0.3041 - val_accuracy: 0.9556\n",
            "Epoch 10/300\n",
            "9/9 [==============================] - 0s 8ms/step - loss: 0.2843 - accuracy: 0.9626 - val_loss: 0.2810 - val_accuracy: 0.9556\n",
            "Epoch 11/300\n",
            "9/9 [==============================] - 0s 8ms/step - loss: 0.2624 - accuracy: 0.9626 - val_loss: 0.2626 - val_accuracy: 0.9556\n",
            "Epoch 12/300\n",
            "9/9 [==============================] - 0s 8ms/step - loss: 0.2448 - accuracy: 0.9626 - val_loss: 0.2480 - val_accuracy: 0.9556\n",
            "Epoch 13/300\n",
            "9/9 [==============================] - 0s 6ms/step - loss: 0.2307 - accuracy: 0.9626 - val_loss: 0.2362 - val_accuracy: 0.9556\n",
            "Epoch 14/300\n",
            "9/9 [==============================] - 0s 6ms/step - loss: 0.2194 - accuracy: 0.9626 - val_loss: 0.2266 - val_accuracy: 0.9556\n",
            "Epoch 15/300\n",
            "9/9 [==============================] - 0s 8ms/step - loss: 0.2098 - accuracy: 0.9626 - val_loss: 0.2189 - val_accuracy: 0.9556\n",
            "Epoch 16/300\n",
            "9/9 [==============================] - 0s 8ms/step - loss: 0.2021 - accuracy: 0.9626 - val_loss: 0.2125 - val_accuracy: 0.9556\n",
            "Epoch 17/300\n",
            "9/9 [==============================] - 0s 6ms/step - loss: 0.1957 - accuracy: 0.9626 - val_loss: 0.2073 - val_accuracy: 0.9556\n",
            "Epoch 18/300\n",
            "9/9 [==============================] - 0s 9ms/step - loss: 0.1903 - accuracy: 0.9626 - val_loss: 0.2029 - val_accuracy: 0.9556\n",
            "Epoch 19/300\n",
            "9/9 [==============================] - 0s 8ms/step - loss: 0.1857 - accuracy: 0.9626 - val_loss: 0.1993 - val_accuracy: 0.9556\n",
            "Epoch 20/300\n",
            "9/9 [==============================] - 0s 6ms/step - loss: 0.1819 - accuracy: 0.9626 - val_loss: 0.1963 - val_accuracy: 0.9556\n",
            "Epoch 21/300\n",
            "9/9 [==============================] - 0s 6ms/step - loss: 0.1787 - accuracy: 0.9626 - val_loss: 0.1938 - val_accuracy: 0.9556\n",
            "Epoch 22/300\n",
            "9/9 [==============================] - 0s 8ms/step - loss: 0.1760 - accuracy: 0.9626 - val_loss: 0.1916 - val_accuracy: 0.9556\n",
            "Epoch 23/300\n",
            "9/9 [==============================] - 0s 8ms/step - loss: 0.1736 - accuracy: 0.9626 - val_loss: 0.1899 - val_accuracy: 0.9556\n",
            "Epoch 24/300\n",
            "9/9 [==============================] - 0s 6ms/step - loss: 0.1716 - accuracy: 0.9626 - val_loss: 0.1883 - val_accuracy: 0.9556\n",
            "Epoch 25/300\n",
            "9/9 [==============================] - 0s 7ms/step - loss: 0.1698 - accuracy: 0.9626 - val_loss: 0.1870 - val_accuracy: 0.9556\n",
            "Epoch 26/300\n",
            "9/9 [==============================] - 0s 6ms/step - loss: 0.1683 - accuracy: 0.9626 - val_loss: 0.1860 - val_accuracy: 0.9556\n",
            "Epoch 27/300\n",
            "9/9 [==============================] - 0s 6ms/step - loss: 0.1670 - accuracy: 0.9626 - val_loss: 0.1851 - val_accuracy: 0.9556\n",
            "Epoch 28/300\n",
            "9/9 [==============================] - 0s 6ms/step - loss: 0.1659 - accuracy: 0.9626 - val_loss: 0.1843 - val_accuracy: 0.9556\n",
            "Epoch 29/300\n",
            "9/9 [==============================] - 0s 8ms/step - loss: 0.1649 - accuracy: 0.9626 - val_loss: 0.1837 - val_accuracy: 0.9556\n",
            "Epoch 30/300\n",
            "9/9 [==============================] - 0s 8ms/step - loss: 0.1641 - accuracy: 0.9626 - val_loss: 0.1831 - val_accuracy: 0.9556\n",
            "Epoch 31/300\n",
            "9/9 [==============================] - 0s 8ms/step - loss: 0.1634 - accuracy: 0.9626 - val_loss: 0.1826 - val_accuracy: 0.9556\n",
            "Epoch 32/300\n",
            "9/9 [==============================] - 0s 6ms/step - loss: 0.1627 - accuracy: 0.9626 - val_loss: 0.1822 - val_accuracy: 0.9556\n",
            "Epoch 33/300\n",
            "9/9 [==============================] - 0s 9ms/step - loss: 0.1621 - accuracy: 0.9626 - val_loss: 0.1819 - val_accuracy: 0.9556\n",
            "Epoch 34/300\n",
            "9/9 [==============================] - 0s 10ms/step - loss: 0.1616 - accuracy: 0.9626 - val_loss: 0.1816 - val_accuracy: 0.9556\n",
            "Epoch 35/300\n",
            "9/9 [==============================] - 0s 10ms/step - loss: 0.1612 - accuracy: 0.9626 - val_loss: 0.1814 - val_accuracy: 0.9556\n",
            "Epoch 36/300\n",
            "9/9 [==============================] - 0s 10ms/step - loss: 0.1608 - accuracy: 0.9626 - val_loss: 0.1812 - val_accuracy: 0.9556\n",
            "Epoch 37/300\n",
            "9/9 [==============================] - 0s 10ms/step - loss: 0.1604 - accuracy: 0.9626 - val_loss: 0.1810 - val_accuracy: 0.9556\n",
            "Epoch 38/300\n",
            "9/9 [==============================] - 0s 10ms/step - loss: 0.1601 - accuracy: 0.9626 - val_loss: 0.1809 - val_accuracy: 0.9556\n",
            "Epoch 39/300\n",
            "9/9 [==============================] - 0s 10ms/step - loss: 0.1598 - accuracy: 0.9626 - val_loss: 0.1807 - val_accuracy: 0.9556\n",
            "Epoch 40/300\n",
            "9/9 [==============================] - 0s 11ms/step - loss: 0.1596 - accuracy: 0.9626 - val_loss: 0.1806 - val_accuracy: 0.9556\n",
            "Epoch 41/300\n",
            "9/9 [==============================] - 0s 11ms/step - loss: 0.1594 - accuracy: 0.9626 - val_loss: 0.1806 - val_accuracy: 0.9556\n",
            "Epoch 42/300\n",
            "9/9 [==============================] - 0s 12ms/step - loss: 0.1592 - accuracy: 0.9626 - val_loss: 0.1805 - val_accuracy: 0.9556\n",
            "Epoch 43/300\n",
            "9/9 [==============================] - 0s 10ms/step - loss: 0.1590 - accuracy: 0.9626 - val_loss: 0.1804 - val_accuracy: 0.9556\n",
            "Epoch 44/300\n",
            "9/9 [==============================] - 0s 10ms/step - loss: 0.1589 - accuracy: 0.9626 - val_loss: 0.1804 - val_accuracy: 0.9556\n",
            "Epoch 45/300\n",
            "9/9 [==============================] - 0s 10ms/step - loss: 0.1587 - accuracy: 0.9626 - val_loss: 0.1803 - val_accuracy: 0.9556\n",
            "Epoch 46/300\n",
            "9/9 [==============================] - 0s 11ms/step - loss: 0.1586 - accuracy: 0.9626 - val_loss: 0.1803 - val_accuracy: 0.9556\n",
            "Epoch 47/300\n",
            "9/9 [==============================] - 0s 10ms/step - loss: 0.1584 - accuracy: 0.9626 - val_loss: 0.1803 - val_accuracy: 0.9556\n",
            "Epoch 48/300\n",
            "9/9 [==============================] - 0s 9ms/step - loss: 0.1583 - accuracy: 0.9626 - val_loss: 0.1802 - val_accuracy: 0.9556\n",
            "Epoch 49/300\n",
            "9/9 [==============================] - 0s 10ms/step - loss: 0.1582 - accuracy: 0.9626 - val_loss: 0.1802 - val_accuracy: 0.9556\n",
            "Epoch 50/300\n",
            "9/9 [==============================] - 0s 9ms/step - loss: 0.1581 - accuracy: 0.9626 - val_loss: 0.1802 - val_accuracy: 0.9556\n",
            "Epoch 51/300\n",
            "9/9 [==============================] - 0s 10ms/step - loss: 0.1580 - accuracy: 0.9626 - val_loss: 0.1801 - val_accuracy: 0.9556\n",
            "Epoch 52/300\n",
            "9/9 [==============================] - 0s 9ms/step - loss: 0.1580 - accuracy: 0.9626 - val_loss: 0.1801 - val_accuracy: 0.9556\n",
            "Epoch 53/300\n",
            "9/9 [==============================] - 0s 11ms/step - loss: 0.1579 - accuracy: 0.9626 - val_loss: 0.1801 - val_accuracy: 0.9556\n",
            "Epoch 54/300\n",
            "9/9 [==============================] - 0s 10ms/step - loss: 0.1578 - accuracy: 0.9626 - val_loss: 0.1801 - val_accuracy: 0.9556\n",
            "Epoch 55/300\n",
            "9/9 [==============================] - 0s 10ms/step - loss: 0.1577 - accuracy: 0.9626 - val_loss: 0.1801 - val_accuracy: 0.9556\n",
            "Epoch 56/300\n",
            "9/9 [==============================] - 0s 10ms/step - loss: 0.1577 - accuracy: 0.9626 - val_loss: 0.1800 - val_accuracy: 0.9556\n",
            "Epoch 57/300\n",
            "9/9 [==============================] - 0s 10ms/step - loss: 0.1576 - accuracy: 0.9626 - val_loss: 0.1800 - val_accuracy: 0.9556\n",
            "Epoch 58/300\n",
            "9/9 [==============================] - 0s 9ms/step - loss: 0.1575 - accuracy: 0.9626 - val_loss: 0.1800 - val_accuracy: 0.9556\n",
            "Epoch 59/300\n",
            "9/9 [==============================] - 0s 10ms/step - loss: 0.1575 - accuracy: 0.9626 - val_loss: 0.1800 - val_accuracy: 0.9556\n",
            "Epoch 60/300\n",
            "9/9 [==============================] - 0s 9ms/step - loss: 0.1574 - accuracy: 0.9626 - val_loss: 0.1799 - val_accuracy: 0.9556\n",
            "Epoch 61/300\n",
            "9/9 [==============================] - 0s 9ms/step - loss: 0.1573 - accuracy: 0.9626 - val_loss: 0.1799 - val_accuracy: 0.9556\n",
            "Epoch 62/300\n",
            "9/9 [==============================] - 0s 9ms/step - loss: 0.1573 - accuracy: 0.9626 - val_loss: 0.1799 - val_accuracy: 0.9556\n",
            "Epoch 63/300\n",
            "9/9 [==============================] - 0s 9ms/step - loss: 0.1572 - accuracy: 0.9626 - val_loss: 0.1799 - val_accuracy: 0.9556\n",
            "Epoch 64/300\n",
            "9/9 [==============================] - 0s 9ms/step - loss: 0.1572 - accuracy: 0.9626 - val_loss: 0.1799 - val_accuracy: 0.9556\n",
            "Epoch 65/300\n",
            "9/9 [==============================] - 0s 10ms/step - loss: 0.1571 - accuracy: 0.9626 - val_loss: 0.1798 - val_accuracy: 0.9556\n",
            "Epoch 66/300\n",
            "9/9 [==============================] - 0s 12ms/step - loss: 0.1571 - accuracy: 0.9626 - val_loss: 0.1798 - val_accuracy: 0.9556\n",
            "Epoch 67/300\n",
            "9/9 [==============================] - 0s 10ms/step - loss: 0.1570 - accuracy: 0.9626 - val_loss: 0.1798 - val_accuracy: 0.9556\n",
            "Epoch 68/300\n",
            "9/9 [==============================] - 0s 12ms/step - loss: 0.1570 - accuracy: 0.9626 - val_loss: 0.1798 - val_accuracy: 0.9556\n",
            "Epoch 69/300\n",
            "9/9 [==============================] - 0s 9ms/step - loss: 0.1569 - accuracy: 0.9626 - val_loss: 0.1797 - val_accuracy: 0.9556\n",
            "Epoch 70/300\n",
            "9/9 [==============================] - 0s 9ms/step - loss: 0.1569 - accuracy: 0.9626 - val_loss: 0.1797 - val_accuracy: 0.9556\n",
            "Epoch 71/300\n",
            "9/9 [==============================] - 0s 9ms/step - loss: 0.1568 - accuracy: 0.9626 - val_loss: 0.1797 - val_accuracy: 0.9556\n",
            "Epoch 72/300\n",
            "9/9 [==============================] - 0s 6ms/step - loss: 0.1568 - accuracy: 0.9626 - val_loss: 0.1796 - val_accuracy: 0.9556\n",
            "Epoch 73/300\n",
            "9/9 [==============================] - 0s 8ms/step - loss: 0.1567 - accuracy: 0.9626 - val_loss: 0.1796 - val_accuracy: 0.9556\n",
            "Epoch 74/300\n",
            "9/9 [==============================] - 0s 6ms/step - loss: 0.1567 - accuracy: 0.9626 - val_loss: 0.1796 - val_accuracy: 0.9556\n",
            "Epoch 75/300\n",
            "9/9 [==============================] - 0s 8ms/step - loss: 0.1566 - accuracy: 0.9626 - val_loss: 0.1795 - val_accuracy: 0.9556\n",
            "Epoch 76/300\n",
            "9/9 [==============================] - 0s 8ms/step - loss: 0.1566 - accuracy: 0.9626 - val_loss: 0.1795 - val_accuracy: 0.9556\n",
            "Epoch 77/300\n",
            "9/9 [==============================] - 0s 9ms/step - loss: 0.1565 - accuracy: 0.9626 - val_loss: 0.1795 - val_accuracy: 0.9556\n",
            "Epoch 78/300\n",
            "9/9 [==============================] - 0s 8ms/step - loss: 0.1565 - accuracy: 0.9626 - val_loss: 0.1795 - val_accuracy: 0.9556\n",
            "Epoch 79/300\n",
            "9/9 [==============================] - 0s 8ms/step - loss: 0.1564 - accuracy: 0.9626 - val_loss: 0.1794 - val_accuracy: 0.9556\n",
            "Epoch 80/300\n",
            "9/9 [==============================] - 0s 6ms/step - loss: 0.1564 - accuracy: 0.9626 - val_loss: 0.1794 - val_accuracy: 0.9556\n",
            "Epoch 81/300\n",
            "9/9 [==============================] - 0s 7ms/step - loss: 0.1563 - accuracy: 0.9626 - val_loss: 0.1793 - val_accuracy: 0.9556\n",
            "Epoch 82/300\n",
            "9/9 [==============================] - 0s 8ms/step - loss: 0.1563 - accuracy: 0.9626 - val_loss: 0.1793 - val_accuracy: 0.9556\n",
            "Epoch 83/300\n",
            "9/9 [==============================] - 0s 8ms/step - loss: 0.1562 - accuracy: 0.9626 - val_loss: 0.1793 - val_accuracy: 0.9556\n",
            "Epoch 84/300\n",
            "9/9 [==============================] - 0s 8ms/step - loss: 0.1562 - accuracy: 0.9626 - val_loss: 0.1792 - val_accuracy: 0.9556\n",
            "Epoch 85/300\n",
            "9/9 [==============================] - 0s 8ms/step - loss: 0.1561 - accuracy: 0.9626 - val_loss: 0.1792 - val_accuracy: 0.9556\n",
            "Epoch 86/300\n",
            "9/9 [==============================] - 0s 6ms/step - loss: 0.1561 - accuracy: 0.9626 - val_loss: 0.1792 - val_accuracy: 0.9556\n",
            "Epoch 87/300\n",
            "9/9 [==============================] - 0s 6ms/step - loss: 0.1561 - accuracy: 0.9626 - val_loss: 0.1792 - val_accuracy: 0.9556\n",
            "Epoch 88/300\n",
            "9/9 [==============================] - 0s 6ms/step - loss: 0.1560 - accuracy: 0.9626 - val_loss: 0.1791 - val_accuracy: 0.9556\n",
            "Epoch 89/300\n",
            "9/9 [==============================] - 0s 8ms/step - loss: 0.1560 - accuracy: 0.9626 - val_loss: 0.1791 - val_accuracy: 0.9556\n",
            "Epoch 90/300\n",
            "9/9 [==============================] - 0s 7ms/step - loss: 0.1559 - accuracy: 0.9626 - val_loss: 0.1790 - val_accuracy: 0.9556\n",
            "Epoch 91/300\n",
            "9/9 [==============================] - 0s 8ms/step - loss: 0.1559 - accuracy: 0.9626 - val_loss: 0.1790 - val_accuracy: 0.9556\n",
            "Epoch 92/300\n",
            "9/9 [==============================] - 0s 8ms/step - loss: 0.1558 - accuracy: 0.9626 - val_loss: 0.1790 - val_accuracy: 0.9556\n",
            "Epoch 93/300\n",
            "9/9 [==============================] - 0s 7ms/step - loss: 0.1558 - accuracy: 0.9626 - val_loss: 0.1789 - val_accuracy: 0.9556\n",
            "Epoch 94/300\n",
            "9/9 [==============================] - 0s 6ms/step - loss: 0.1558 - accuracy: 0.9626 - val_loss: 0.1789 - val_accuracy: 0.9556\n",
            "Epoch 95/300\n",
            "9/9 [==============================] - 0s 6ms/step - loss: 0.1557 - accuracy: 0.9626 - val_loss: 0.1789 - val_accuracy: 0.9556\n",
            "Epoch 96/300\n",
            "9/9 [==============================] - 0s 7ms/step - loss: 0.1557 - accuracy: 0.9626 - val_loss: 0.1788 - val_accuracy: 0.9556\n",
            "Epoch 97/300\n",
            "9/9 [==============================] - 0s 8ms/step - loss: 0.1556 - accuracy: 0.9626 - val_loss: 0.1788 - val_accuracy: 0.9556\n",
            "Epoch 98/300\n",
            "9/9 [==============================] - 0s 8ms/step - loss: 0.1556 - accuracy: 0.9626 - val_loss: 0.1788 - val_accuracy: 0.9556\n",
            "Epoch 99/300\n",
            "9/9 [==============================] - 0s 6ms/step - loss: 0.1556 - accuracy: 0.9626 - val_loss: 0.1787 - val_accuracy: 0.9556\n",
            "Epoch 100/300\n",
            "9/9 [==============================] - 0s 8ms/step - loss: 0.1555 - accuracy: 0.9626 - val_loss: 0.1787 - val_accuracy: 0.9556\n",
            "Epoch 101/300\n",
            "9/9 [==============================] - 0s 7ms/step - loss: 0.1555 - accuracy: 0.9626 - val_loss: 0.1787 - val_accuracy: 0.9556\n",
            "Epoch 102/300\n",
            "9/9 [==============================] - 0s 6ms/step - loss: 0.1554 - accuracy: 0.9626 - val_loss: 0.1786 - val_accuracy: 0.9556\n",
            "Epoch 103/300\n",
            "9/9 [==============================] - 0s 8ms/step - loss: 0.1554 - accuracy: 0.9626 - val_loss: 0.1786 - val_accuracy: 0.9556\n",
            "Epoch 104/300\n",
            "9/9 [==============================] - 0s 8ms/step - loss: 0.1554 - accuracy: 0.9626 - val_loss: 0.1786 - val_accuracy: 0.9556\n",
            "Epoch 105/300\n",
            "9/9 [==============================] - 0s 6ms/step - loss: 0.1553 - accuracy: 0.9626 - val_loss: 0.1786 - val_accuracy: 0.9556\n",
            "Epoch 106/300\n",
            "9/9 [==============================] - 0s 8ms/step - loss: 0.1553 - accuracy: 0.9626 - val_loss: 0.1785 - val_accuracy: 0.9556\n",
            "Epoch 107/300\n",
            "9/9 [==============================] - 0s 7ms/step - loss: 0.1553 - accuracy: 0.9626 - val_loss: 0.1785 - val_accuracy: 0.9556\n",
            "Epoch 108/300\n",
            "9/9 [==============================] - 0s 9ms/step - loss: 0.1552 - accuracy: 0.9626 - val_loss: 0.1785 - val_accuracy: 0.9556\n",
            "Epoch 109/300\n",
            "9/9 [==============================] - 0s 6ms/step - loss: 0.1552 - accuracy: 0.9626 - val_loss: 0.1784 - val_accuracy: 0.9556\n",
            "Epoch 110/300\n",
            "9/9 [==============================] - 0s 8ms/step - loss: 0.1552 - accuracy: 0.9626 - val_loss: 0.1784 - val_accuracy: 0.9556\n",
            "Epoch 111/300\n",
            "9/9 [==============================] - 0s 8ms/step - loss: 0.1551 - accuracy: 0.9626 - val_loss: 0.1784 - val_accuracy: 0.9556\n",
            "Epoch 112/300\n",
            "9/9 [==============================] - 0s 6ms/step - loss: 0.1551 - accuracy: 0.9626 - val_loss: 0.1783 - val_accuracy: 0.9556\n",
            "Epoch 113/300\n",
            "9/9 [==============================] - 0s 8ms/step - loss: 0.1551 - accuracy: 0.9626 - val_loss: 0.1783 - val_accuracy: 0.9556\n",
            "Epoch 114/300\n",
            "9/9 [==============================] - 0s 7ms/step - loss: 0.1550 - accuracy: 0.9626 - val_loss: 0.1783 - val_accuracy: 0.9556\n",
            "Epoch 115/300\n",
            "9/9 [==============================] - 0s 8ms/step - loss: 0.1550 - accuracy: 0.9626 - val_loss: 0.1783 - val_accuracy: 0.9556\n",
            "Epoch 116/300\n",
            "9/9 [==============================] - 0s 7ms/step - loss: 0.1550 - accuracy: 0.9626 - val_loss: 0.1782 - val_accuracy: 0.9556\n",
            "Epoch 117/300\n",
            "9/9 [==============================] - 0s 8ms/step - loss: 0.1549 - accuracy: 0.9626 - val_loss: 0.1782 - val_accuracy: 0.9556\n",
            "Epoch 118/300\n",
            "9/9 [==============================] - 0s 7ms/step - loss: 0.1549 - accuracy: 0.9626 - val_loss: 0.1782 - val_accuracy: 0.9556\n",
            "Epoch 119/300\n",
            "9/9 [==============================] - 0s 8ms/step - loss: 0.1549 - accuracy: 0.9626 - val_loss: 0.1781 - val_accuracy: 0.9556\n",
            "Epoch 120/300\n",
            "9/9 [==============================] - 0s 8ms/step - loss: 0.1548 - accuracy: 0.9626 - val_loss: 0.1781 - val_accuracy: 0.9556\n",
            "Epoch 121/300\n",
            "9/9 [==============================] - 0s 9ms/step - loss: 0.1548 - accuracy: 0.9626 - val_loss: 0.1781 - val_accuracy: 0.9556\n",
            "Epoch 122/300\n",
            "9/9 [==============================] - 0s 7ms/step - loss: 0.1548 - accuracy: 0.9626 - val_loss: 0.1781 - val_accuracy: 0.9556\n",
            "Epoch 123/300\n",
            "9/9 [==============================] - 0s 6ms/step - loss: 0.1547 - accuracy: 0.9626 - val_loss: 0.1780 - val_accuracy: 0.9556\n",
            "Epoch 124/300\n",
            "9/9 [==============================] - 0s 8ms/step - loss: 0.1547 - accuracy: 0.9626 - val_loss: 0.1780 - val_accuracy: 0.9556\n",
            "Epoch 125/300\n",
            "9/9 [==============================] - 0s 6ms/step - loss: 0.1547 - accuracy: 0.9626 - val_loss: 0.1780 - val_accuracy: 0.9556\n",
            "Epoch 126/300\n",
            "9/9 [==============================] - 0s 6ms/step - loss: 0.1547 - accuracy: 0.9626 - val_loss: 0.1780 - val_accuracy: 0.9556\n",
            "Epoch 127/300\n",
            "9/9 [==============================] - 0s 6ms/step - loss: 0.1546 - accuracy: 0.9626 - val_loss: 0.1780 - val_accuracy: 0.9556\n",
            "Epoch 128/300\n",
            "9/9 [==============================] - 0s 8ms/step - loss: 0.1546 - accuracy: 0.9626 - val_loss: 0.1780 - val_accuracy: 0.9556\n",
            "Epoch 129/300\n",
            "9/9 [==============================] - 0s 8ms/step - loss: 0.1546 - accuracy: 0.9626 - val_loss: 0.1779 - val_accuracy: 0.9556\n",
            "Epoch 130/300\n",
            "9/9 [==============================] - 0s 8ms/step - loss: 0.1546 - accuracy: 0.9626 - val_loss: 0.1779 - val_accuracy: 0.9556\n",
            "Epoch 131/300\n",
            "9/9 [==============================] - 0s 6ms/step - loss: 0.1545 - accuracy: 0.9626 - val_loss: 0.1779 - val_accuracy: 0.9556\n",
            "Epoch 132/300\n",
            "9/9 [==============================] - 0s 6ms/step - loss: 0.1545 - accuracy: 0.9626 - val_loss: 0.1779 - val_accuracy: 0.9556\n",
            "Epoch 133/300\n",
            "9/9 [==============================] - 0s 8ms/step - loss: 0.1545 - accuracy: 0.9626 - val_loss: 0.1779 - val_accuracy: 0.9556\n",
            "Epoch 134/300\n",
            "9/9 [==============================] - 0s 6ms/step - loss: 0.1544 - accuracy: 0.9626 - val_loss: 0.1778 - val_accuracy: 0.9556\n",
            "Epoch 135/300\n",
            "9/9 [==============================] - 0s 9ms/step - loss: 0.1544 - accuracy: 0.9626 - val_loss: 0.1778 - val_accuracy: 0.9556\n",
            "Epoch 136/300\n",
            "9/9 [==============================] - 0s 7ms/step - loss: 0.1544 - accuracy: 0.9626 - val_loss: 0.1778 - val_accuracy: 0.9556\n",
            "Epoch 137/300\n",
            "9/9 [==============================] - 0s 7ms/step - loss: 0.1544 - accuracy: 0.9626 - val_loss: 0.1778 - val_accuracy: 0.9556\n",
            "Epoch 138/300\n",
            "9/9 [==============================] - 0s 7ms/step - loss: 0.1544 - accuracy: 0.9626 - val_loss: 0.1778 - val_accuracy: 0.9556\n",
            "Epoch 139/300\n",
            "9/9 [==============================] - 0s 8ms/step - loss: 0.1543 - accuracy: 0.9626 - val_loss: 0.1777 - val_accuracy: 0.9556\n",
            "Epoch 140/300\n",
            "9/9 [==============================] - 0s 6ms/step - loss: 0.1543 - accuracy: 0.9626 - val_loss: 0.1777 - val_accuracy: 0.9556\n",
            "Epoch 141/300\n",
            "9/9 [==============================] - 0s 6ms/step - loss: 0.1543 - accuracy: 0.9626 - val_loss: 0.1777 - val_accuracy: 0.9556\n",
            "Epoch 142/300\n",
            "9/9 [==============================] - 0s 8ms/step - loss: 0.1543 - accuracy: 0.9626 - val_loss: 0.1777 - val_accuracy: 0.9556\n",
            "Epoch 143/300\n",
            "9/9 [==============================] - 0s 8ms/step - loss: 0.1542 - accuracy: 0.9626 - val_loss: 0.1777 - val_accuracy: 0.9556\n",
            "Epoch 144/300\n",
            "9/9 [==============================] - 0s 7ms/step - loss: 0.1542 - accuracy: 0.9626 - val_loss: 0.1776 - val_accuracy: 0.9556\n",
            "Epoch 145/300\n",
            "9/9 [==============================] - 0s 8ms/step - loss: 0.1542 - accuracy: 0.9626 - val_loss: 0.1776 - val_accuracy: 0.9556\n",
            "Epoch 146/300\n",
            "9/9 [==============================] - 0s 7ms/step - loss: 0.1542 - accuracy: 0.9626 - val_loss: 0.1776 - val_accuracy: 0.9556\n",
            "Epoch 147/300\n",
            "9/9 [==============================] - 0s 6ms/step - loss: 0.1542 - accuracy: 0.9626 - val_loss: 0.1776 - val_accuracy: 0.9556\n",
            "Epoch 148/300\n",
            "9/9 [==============================] - 0s 8ms/step - loss: 0.1541 - accuracy: 0.9626 - val_loss: 0.1776 - val_accuracy: 0.9556\n",
            "Epoch 149/300\n",
            "9/9 [==============================] - 0s 6ms/step - loss: 0.1541 - accuracy: 0.9626 - val_loss: 0.1776 - val_accuracy: 0.9556\n",
            "Epoch 150/300\n",
            "9/9 [==============================] - 0s 8ms/step - loss: 0.1541 - accuracy: 0.9626 - val_loss: 0.1775 - val_accuracy: 0.9556\n",
            "Epoch 151/300\n",
            "9/9 [==============================] - 0s 7ms/step - loss: 0.1541 - accuracy: 0.9626 - val_loss: 0.1775 - val_accuracy: 0.9556\n",
            "Epoch 152/300\n",
            "9/9 [==============================] - 0s 7ms/step - loss: 0.1541 - accuracy: 0.9626 - val_loss: 0.1775 - val_accuracy: 0.9556\n",
            "Epoch 153/300\n",
            "9/9 [==============================] - 0s 7ms/step - loss: 0.1541 - accuracy: 0.9626 - val_loss: 0.1775 - val_accuracy: 0.9556\n",
            "Epoch 154/300\n",
            "9/9 [==============================] - 0s 8ms/step - loss: 0.1540 - accuracy: 0.9626 - val_loss: 0.1775 - val_accuracy: 0.9556\n",
            "Epoch 155/300\n",
            "9/9 [==============================] - 0s 6ms/step - loss: 0.1540 - accuracy: 0.9626 - val_loss: 0.1775 - val_accuracy: 0.9556\n",
            "Epoch 156/300\n",
            "9/9 [==============================] - 0s 8ms/step - loss: 0.1540 - accuracy: 0.9626 - val_loss: 0.1775 - val_accuracy: 0.9556\n",
            "Epoch 157/300\n",
            "9/9 [==============================] - 0s 8ms/step - loss: 0.1540 - accuracy: 0.9626 - val_loss: 0.1775 - val_accuracy: 0.9556\n",
            "Epoch 158/300\n",
            "9/9 [==============================] - 0s 8ms/step - loss: 0.1540 - accuracy: 0.9626 - val_loss: 0.1775 - val_accuracy: 0.9556\n",
            "Epoch 159/300\n",
            "9/9 [==============================] - 0s 8ms/step - loss: 0.1540 - accuracy: 0.9626 - val_loss: 0.1775 - val_accuracy: 0.9556\n",
            "Epoch 160/300\n",
            "9/9 [==============================] - 0s 7ms/step - loss: 0.1539 - accuracy: 0.9626 - val_loss: 0.1775 - val_accuracy: 0.9556\n",
            "Epoch 161/300\n",
            "9/9 [==============================] - 0s 7ms/step - loss: 0.1539 - accuracy: 0.9626 - val_loss: 0.1774 - val_accuracy: 0.9556\n",
            "Epoch 162/300\n",
            "9/9 [==============================] - 0s 6ms/step - loss: 0.1539 - accuracy: 0.9626 - val_loss: 0.1774 - val_accuracy: 0.9556\n",
            "Epoch 163/300\n",
            "9/9 [==============================] - 0s 8ms/step - loss: 0.1539 - accuracy: 0.9626 - val_loss: 0.1774 - val_accuracy: 0.9556\n",
            "Epoch 164/300\n",
            "9/9 [==============================] - 0s 8ms/step - loss: 0.1539 - accuracy: 0.9626 - val_loss: 0.1774 - val_accuracy: 0.9556\n",
            "Epoch 165/300\n",
            "9/9 [==============================] - 0s 9ms/step - loss: 0.1539 - accuracy: 0.9626 - val_loss: 0.1774 - val_accuracy: 0.9556\n",
            "Epoch 166/300\n",
            "9/9 [==============================] - 0s 6ms/step - loss: 0.1538 - accuracy: 0.9626 - val_loss: 0.1774 - val_accuracy: 0.9556\n",
            "Epoch 167/300\n",
            "9/9 [==============================] - 0s 8ms/step - loss: 0.1538 - accuracy: 0.9626 - val_loss: 0.1773 - val_accuracy: 0.9556\n",
            "Epoch 168/300\n",
            "9/9 [==============================] - 0s 8ms/step - loss: 0.1538 - accuracy: 0.9626 - val_loss: 0.1774 - val_accuracy: 0.9556\n",
            "Epoch 169/300\n",
            "9/9 [==============================] - 0s 8ms/step - loss: 0.1538 - accuracy: 0.9626 - val_loss: 0.1774 - val_accuracy: 0.9556\n",
            "Epoch 170/300\n",
            "9/9 [==============================] - 0s 7ms/step - loss: 0.1538 - accuracy: 0.9626 - val_loss: 0.1773 - val_accuracy: 0.9556\n",
            "Epoch 171/300\n",
            "9/9 [==============================] - 0s 7ms/step - loss: 0.1538 - accuracy: 0.9626 - val_loss: 0.1773 - val_accuracy: 0.9556\n",
            "Epoch 172/300\n",
            "9/9 [==============================] - 0s 6ms/step - loss: 0.1538 - accuracy: 0.9626 - val_loss: 0.1773 - val_accuracy: 0.9556\n",
            "Epoch 173/300\n",
            "9/9 [==============================] - 0s 8ms/step - loss: 0.1538 - accuracy: 0.9626 - val_loss: 0.1773 - val_accuracy: 0.9556\n",
            "Epoch 174/300\n",
            "9/9 [==============================] - 0s 6ms/step - loss: 0.1538 - accuracy: 0.9626 - val_loss: 0.1773 - val_accuracy: 0.9556\n",
            "Epoch 175/300\n",
            "9/9 [==============================] - 0s 9ms/step - loss: 0.1537 - accuracy: 0.9626 - val_loss: 0.1773 - val_accuracy: 0.9556\n",
            "Epoch 176/300\n",
            "9/9 [==============================] - 0s 9ms/step - loss: 0.1537 - accuracy: 0.9626 - val_loss: 0.1773 - val_accuracy: 0.9556\n",
            "Epoch 177/300\n",
            "9/9 [==============================] - 0s 8ms/step - loss: 0.1537 - accuracy: 0.9626 - val_loss: 0.1773 - val_accuracy: 0.9556\n",
            "Epoch 178/300\n",
            "9/9 [==============================] - 0s 6ms/step - loss: 0.1537 - accuracy: 0.9626 - val_loss: 0.1773 - val_accuracy: 0.9556\n",
            "Epoch 179/300\n",
            "9/9 [==============================] - 0s 7ms/step - loss: 0.1537 - accuracy: 0.9626 - val_loss: 0.1773 - val_accuracy: 0.9556\n",
            "Epoch 180/300\n",
            "9/9 [==============================] - 0s 6ms/step - loss: 0.1537 - accuracy: 0.9626 - val_loss: 0.1772 - val_accuracy: 0.9556\n",
            "Epoch 181/300\n",
            "9/9 [==============================] - 0s 6ms/step - loss: 0.1537 - accuracy: 0.9626 - val_loss: 0.1773 - val_accuracy: 0.9556\n",
            "Epoch 182/300\n",
            "9/9 [==============================] - 0s 6ms/step - loss: 0.1537 - accuracy: 0.9626 - val_loss: 0.1772 - val_accuracy: 0.9556\n",
            "Epoch 183/300\n",
            "9/9 [==============================] - 0s 6ms/step - loss: 0.1537 - accuracy: 0.9626 - val_loss: 0.1773 - val_accuracy: 0.9556\n",
            "Epoch 184/300\n",
            "9/9 [==============================] - 0s 8ms/step - loss: 0.1536 - accuracy: 0.9626 - val_loss: 0.1773 - val_accuracy: 0.9556\n",
            "Epoch 185/300\n",
            "9/9 [==============================] - 0s 8ms/step - loss: 0.1536 - accuracy: 0.9626 - val_loss: 0.1772 - val_accuracy: 0.9556\n",
            "Epoch 186/300\n",
            "9/9 [==============================] - 0s 7ms/step - loss: 0.1536 - accuracy: 0.9626 - val_loss: 0.1772 - val_accuracy: 0.9556\n",
            "Epoch 187/300\n",
            "9/9 [==============================] - 0s 8ms/step - loss: 0.1536 - accuracy: 0.9626 - val_loss: 0.1772 - val_accuracy: 0.9556\n",
            "Epoch 188/300\n",
            "9/9 [==============================] - 0s 9ms/step - loss: 0.1536 - accuracy: 0.9626 - val_loss: 0.1773 - val_accuracy: 0.9556\n",
            "Epoch 189/300\n",
            "9/9 [==============================] - 0s 9ms/step - loss: 0.1536 - accuracy: 0.9626 - val_loss: 0.1772 - val_accuracy: 0.9556\n",
            "Epoch 190/300\n",
            "9/9 [==============================] - 0s 8ms/step - loss: 0.1536 - accuracy: 0.9626 - val_loss: 0.1772 - val_accuracy: 0.9556\n",
            "Epoch 191/300\n",
            "9/9 [==============================] - 0s 7ms/step - loss: 0.1536 - accuracy: 0.9626 - val_loss: 0.1772 - val_accuracy: 0.9556\n",
            "Epoch 192/300\n",
            "9/9 [==============================] - 0s 6ms/step - loss: 0.1536 - accuracy: 0.9626 - val_loss: 0.1772 - val_accuracy: 0.9556\n",
            "Epoch 193/300\n",
            "9/9 [==============================] - 0s 8ms/step - loss: 0.1536 - accuracy: 0.9626 - val_loss: 0.1772 - val_accuracy: 0.9556\n",
            "Epoch 194/300\n",
            "9/9 [==============================] - 0s 7ms/step - loss: 0.1536 - accuracy: 0.9626 - val_loss: 0.1772 - val_accuracy: 0.9556\n",
            "Epoch 195/300\n",
            "9/9 [==============================] - 0s 7ms/step - loss: 0.1536 - accuracy: 0.9626 - val_loss: 0.1772 - val_accuracy: 0.9556\n",
            "Epoch 196/300\n",
            "9/9 [==============================] - 0s 8ms/step - loss: 0.1536 - accuracy: 0.9626 - val_loss: 0.1771 - val_accuracy: 0.9556\n",
            "Epoch 197/300\n",
            "9/9 [==============================] - 0s 9ms/step - loss: 0.1535 - accuracy: 0.9626 - val_loss: 0.1771 - val_accuracy: 0.9556\n",
            "Epoch 198/300\n",
            "9/9 [==============================] - 0s 9ms/step - loss: 0.1535 - accuracy: 0.9626 - val_loss: 0.1772 - val_accuracy: 0.9556\n",
            "Epoch 199/300\n",
            "9/9 [==============================] - 0s 9ms/step - loss: 0.1535 - accuracy: 0.9626 - val_loss: 0.1772 - val_accuracy: 0.9556\n",
            "Epoch 200/300\n",
            "9/9 [==============================] - 0s 9ms/step - loss: 0.1535 - accuracy: 0.9626 - val_loss: 0.1771 - val_accuracy: 0.9556\n",
            "Epoch 201/300\n",
            "9/9 [==============================] - 0s 7ms/step - loss: 0.1535 - accuracy: 0.9626 - val_loss: 0.1771 - val_accuracy: 0.9556\n",
            "Epoch 202/300\n",
            "9/9 [==============================] - 0s 9ms/step - loss: 0.1535 - accuracy: 0.9626 - val_loss: 0.1771 - val_accuracy: 0.9556\n",
            "Epoch 203/300\n",
            "9/9 [==============================] - 0s 9ms/step - loss: 0.1535 - accuracy: 0.9626 - val_loss: 0.1772 - val_accuracy: 0.9556\n",
            "Epoch 204/300\n",
            "9/9 [==============================] - 0s 8ms/step - loss: 0.1535 - accuracy: 0.9626 - val_loss: 0.1771 - val_accuracy: 0.9556\n",
            "Epoch 205/300\n",
            "9/9 [==============================] - 0s 7ms/step - loss: 0.1535 - accuracy: 0.9626 - val_loss: 0.1771 - val_accuracy: 0.9556\n",
            "Epoch 206/300\n",
            "9/9 [==============================] - 0s 7ms/step - loss: 0.1535 - accuracy: 0.9626 - val_loss: 0.1771 - val_accuracy: 0.9556\n",
            "Epoch 207/300\n",
            "9/9 [==============================] - 0s 7ms/step - loss: 0.1535 - accuracy: 0.9626 - val_loss: 0.1771 - val_accuracy: 0.9556\n",
            "Epoch 208/300\n",
            "9/9 [==============================] - 0s 7ms/step - loss: 0.1535 - accuracy: 0.9626 - val_loss: 0.1771 - val_accuracy: 0.9556\n",
            "Epoch 209/300\n",
            "9/9 [==============================] - 0s 8ms/step - loss: 0.1535 - accuracy: 0.9626 - val_loss: 0.1771 - val_accuracy: 0.9556\n",
            "Epoch 210/300\n",
            "9/9 [==============================] - 0s 10ms/step - loss: 0.1535 - accuracy: 0.9626 - val_loss: 0.1771 - val_accuracy: 0.9556\n",
            "Epoch 211/300\n",
            "9/9 [==============================] - 0s 9ms/step - loss: 0.1535 - accuracy: 0.9626 - val_loss: 0.1771 - val_accuracy: 0.9556\n",
            "Epoch 212/300\n",
            "9/9 [==============================] - 0s 9ms/step - loss: 0.1535 - accuracy: 0.9626 - val_loss: 0.1771 - val_accuracy: 0.9556\n",
            "Epoch 213/300\n",
            "9/9 [==============================] - 0s 9ms/step - loss: 0.1535 - accuracy: 0.9626 - val_loss: 0.1771 - val_accuracy: 0.9556\n",
            "Epoch 214/300\n",
            "9/9 [==============================] - 0s 9ms/step - loss: 0.1535 - accuracy: 0.9626 - val_loss: 0.1772 - val_accuracy: 0.9556\n",
            "Epoch 215/300\n",
            "9/9 [==============================] - 0s 9ms/step - loss: 0.1535 - accuracy: 0.9626 - val_loss: 0.1771 - val_accuracy: 0.9556\n",
            "Epoch 216/300\n",
            "9/9 [==============================] - 0s 11ms/step - loss: 0.1534 - accuracy: 0.9626 - val_loss: 0.1771 - val_accuracy: 0.9556\n",
            "Epoch 217/300\n",
            "9/9 [==============================] - 0s 10ms/step - loss: 0.1534 - accuracy: 0.9626 - val_loss: 0.1771 - val_accuracy: 0.9556\n",
            "Epoch 218/300\n",
            "9/9 [==============================] - 0s 11ms/step - loss: 0.1534 - accuracy: 0.9626 - val_loss: 0.1771 - val_accuracy: 0.9556\n",
            "Epoch 219/300\n",
            "9/9 [==============================] - 0s 10ms/step - loss: 0.1534 - accuracy: 0.9626 - val_loss: 0.1771 - val_accuracy: 0.9556\n",
            "Epoch 220/300\n",
            "9/9 [==============================] - 0s 11ms/step - loss: 0.1534 - accuracy: 0.9626 - val_loss: 0.1771 - val_accuracy: 0.9556\n",
            "Epoch 221/300\n",
            "9/9 [==============================] - 0s 9ms/step - loss: 0.1534 - accuracy: 0.9626 - val_loss: 0.1772 - val_accuracy: 0.9556\n",
            "Epoch 222/300\n",
            "9/9 [==============================] - 0s 10ms/step - loss: 0.1534 - accuracy: 0.9626 - val_loss: 0.1771 - val_accuracy: 0.9556\n",
            "Epoch 223/300\n",
            "9/9 [==============================] - 0s 10ms/step - loss: 0.1534 - accuracy: 0.9626 - val_loss: 0.1771 - val_accuracy: 0.9556\n",
            "Epoch 224/300\n",
            "9/9 [==============================] - 0s 11ms/step - loss: 0.1534 - accuracy: 0.9626 - val_loss: 0.1771 - val_accuracy: 0.9556\n",
            "Epoch 225/300\n",
            "9/9 [==============================] - 0s 10ms/step - loss: 0.1534 - accuracy: 0.9626 - val_loss: 0.1771 - val_accuracy: 0.9556\n",
            "Epoch 226/300\n",
            "9/9 [==============================] - 0s 9ms/step - loss: 0.1534 - accuracy: 0.9626 - val_loss: 0.1771 - val_accuracy: 0.9556\n",
            "Epoch 227/300\n",
            "9/9 [==============================] - 0s 10ms/step - loss: 0.1534 - accuracy: 0.9626 - val_loss: 0.1771 - val_accuracy: 0.9556\n",
            "Epoch 228/300\n",
            "9/9 [==============================] - 0s 11ms/step - loss: 0.1534 - accuracy: 0.9626 - val_loss: 0.1771 - val_accuracy: 0.9556\n",
            "Epoch 229/300\n",
            "9/9 [==============================] - 0s 11ms/step - loss: 0.1534 - accuracy: 0.9626 - val_loss: 0.1771 - val_accuracy: 0.9556\n",
            "Epoch 230/300\n",
            "9/9 [==============================] - 0s 10ms/step - loss: 0.1534 - accuracy: 0.9626 - val_loss: 0.1771 - val_accuracy: 0.9556\n",
            "Epoch 231/300\n",
            "9/9 [==============================] - 0s 10ms/step - loss: 0.1534 - accuracy: 0.9626 - val_loss: 0.1771 - val_accuracy: 0.9556\n",
            "Epoch 232/300\n",
            "9/9 [==============================] - 0s 10ms/step - loss: 0.1534 - accuracy: 0.9626 - val_loss: 0.1771 - val_accuracy: 0.9556\n",
            "Epoch 233/300\n",
            "9/9 [==============================] - 0s 10ms/step - loss: 0.1534 - accuracy: 0.9626 - val_loss: 0.1772 - val_accuracy: 0.9556\n",
            "Epoch 234/300\n",
            "9/9 [==============================] - 0s 10ms/step - loss: 0.1534 - accuracy: 0.9626 - val_loss: 0.1772 - val_accuracy: 0.9556\n",
            "Epoch 235/300\n",
            "9/9 [==============================] - 0s 10ms/step - loss: 0.1534 - accuracy: 0.9626 - val_loss: 0.1772 - val_accuracy: 0.9556\n",
            "Epoch 236/300\n",
            "9/9 [==============================] - 0s 10ms/step - loss: 0.1534 - accuracy: 0.9626 - val_loss: 0.1771 - val_accuracy: 0.9556\n",
            "Epoch 237/300\n",
            "9/9 [==============================] - 0s 10ms/step - loss: 0.1534 - accuracy: 0.9626 - val_loss: 0.1771 - val_accuracy: 0.9556\n",
            "Epoch 238/300\n",
            "9/9 [==============================] - 0s 10ms/step - loss: 0.1534 - accuracy: 0.9626 - val_loss: 0.1771 - val_accuracy: 0.9556\n",
            "Epoch 239/300\n",
            "9/9 [==============================] - 0s 10ms/step - loss: 0.1534 - accuracy: 0.9626 - val_loss: 0.1770 - val_accuracy: 0.9556\n",
            "Epoch 240/300\n",
            "9/9 [==============================] - 0s 10ms/step - loss: 0.1534 - accuracy: 0.9626 - val_loss: 0.1771 - val_accuracy: 0.9556\n",
            "Epoch 241/300\n",
            "9/9 [==============================] - 0s 10ms/step - loss: 0.1534 - accuracy: 0.9626 - val_loss: 0.1771 - val_accuracy: 0.9556\n",
            "Epoch 242/300\n",
            "9/9 [==============================] - 0s 10ms/step - loss: 0.1534 - accuracy: 0.9626 - val_loss: 0.1771 - val_accuracy: 0.9556\n",
            "Epoch 243/300\n",
            "9/9 [==============================] - 0s 10ms/step - loss: 0.1534 - accuracy: 0.9626 - val_loss: 0.1771 - val_accuracy: 0.9556\n",
            "Epoch 244/300\n",
            "9/9 [==============================] - 0s 11ms/step - loss: 0.1534 - accuracy: 0.9626 - val_loss: 0.1771 - val_accuracy: 0.9556\n",
            "Epoch 245/300\n",
            "9/9 [==============================] - 0s 11ms/step - loss: 0.1534 - accuracy: 0.9626 - val_loss: 0.1771 - val_accuracy: 0.9556\n",
            "Epoch 246/300\n",
            "9/9 [==============================] - 0s 9ms/step - loss: 0.1534 - accuracy: 0.9626 - val_loss: 0.1771 - val_accuracy: 0.9556\n",
            "Epoch 247/300\n",
            "9/9 [==============================] - 0s 10ms/step - loss: 0.1534 - accuracy: 0.9626 - val_loss: 0.1771 - val_accuracy: 0.9556\n",
            "Epoch 248/300\n",
            "9/9 [==============================] - 0s 11ms/step - loss: 0.1534 - accuracy: 0.9626 - val_loss: 0.1771 - val_accuracy: 0.9556\n",
            "Epoch 249/300\n",
            "9/9 [==============================] - 0s 10ms/step - loss: 0.1534 - accuracy: 0.9626 - val_loss: 0.1771 - val_accuracy: 0.9556\n",
            "Epoch 250/300\n",
            "9/9 [==============================] - 0s 7ms/step - loss: 0.1534 - accuracy: 0.9626 - val_loss: 0.1771 - val_accuracy: 0.9556\n",
            "Epoch 251/300\n",
            "9/9 [==============================] - 0s 8ms/step - loss: 0.1534 - accuracy: 0.9626 - val_loss: 0.1771 - val_accuracy: 0.9556\n",
            "Epoch 252/300\n",
            "9/9 [==============================] - 0s 9ms/step - loss: 0.1534 - accuracy: 0.9626 - val_loss: 0.1771 - val_accuracy: 0.9556\n",
            "Epoch 253/300\n",
            "9/9 [==============================] - 0s 6ms/step - loss: 0.1533 - accuracy: 0.9626 - val_loss: 0.1771 - val_accuracy: 0.9556\n",
            "Epoch 254/300\n",
            "9/9 [==============================] - 0s 8ms/step - loss: 0.1534 - accuracy: 0.9626 - val_loss: 0.1771 - val_accuracy: 0.9556\n",
            "Epoch 255/300\n",
            "9/9 [==============================] - 0s 6ms/step - loss: 0.1533 - accuracy: 0.9626 - val_loss: 0.1771 - val_accuracy: 0.9556\n",
            "Epoch 256/300\n",
            "9/9 [==============================] - 0s 8ms/step - loss: 0.1533 - accuracy: 0.9626 - val_loss: 0.1771 - val_accuracy: 0.9556\n",
            "Epoch 257/300\n",
            "9/9 [==============================] - 0s 6ms/step - loss: 0.1533 - accuracy: 0.9626 - val_loss: 0.1771 - val_accuracy: 0.9556\n",
            "Epoch 258/300\n",
            "9/9 [==============================] - 0s 9ms/step - loss: 0.1534 - accuracy: 0.9626 - val_loss: 0.1772 - val_accuracy: 0.9556\n",
            "Epoch 259/300\n",
            "9/9 [==============================] - 0s 6ms/step - loss: 0.1533 - accuracy: 0.9626 - val_loss: 0.1771 - val_accuracy: 0.9556\n",
            "Epoch 260/300\n",
            "9/9 [==============================] - 0s 7ms/step - loss: 0.1533 - accuracy: 0.9626 - val_loss: 0.1771 - val_accuracy: 0.9556\n",
            "Epoch 261/300\n",
            "9/9 [==============================] - 0s 9ms/step - loss: 0.1533 - accuracy: 0.9626 - val_loss: 0.1771 - val_accuracy: 0.9556\n",
            "Epoch 262/300\n",
            "9/9 [==============================] - 0s 8ms/step - loss: 0.1533 - accuracy: 0.9626 - val_loss: 0.1771 - val_accuracy: 0.9556\n",
            "Epoch 263/300\n",
            "9/9 [==============================] - 0s 8ms/step - loss: 0.1533 - accuracy: 0.9626 - val_loss: 0.1771 - val_accuracy: 0.9556\n",
            "Epoch 264/300\n",
            "9/9 [==============================] - 0s 6ms/step - loss: 0.1533 - accuracy: 0.9626 - val_loss: 0.1771 - val_accuracy: 0.9556\n",
            "Epoch 265/300\n",
            "9/9 [==============================] - 0s 9ms/step - loss: 0.1533 - accuracy: 0.9626 - val_loss: 0.1771 - val_accuracy: 0.9556\n",
            "Epoch 266/300\n",
            "9/9 [==============================] - 0s 8ms/step - loss: 0.1533 - accuracy: 0.9626 - val_loss: 0.1771 - val_accuracy: 0.9556\n",
            "Epoch 267/300\n",
            "9/9 [==============================] - 0s 7ms/step - loss: 0.1533 - accuracy: 0.9626 - val_loss: 0.1771 - val_accuracy: 0.9556\n",
            "Epoch 268/300\n",
            "9/9 [==============================] - 0s 7ms/step - loss: 0.1533 - accuracy: 0.9626 - val_loss: 0.1771 - val_accuracy: 0.9556\n",
            "Epoch 269/300\n",
            "9/9 [==============================] - 0s 8ms/step - loss: 0.1533 - accuracy: 0.9626 - val_loss: 0.1771 - val_accuracy: 0.9556\n",
            "Epoch 270/300\n",
            "9/9 [==============================] - 0s 7ms/step - loss: 0.1533 - accuracy: 0.9626 - val_loss: 0.1771 - val_accuracy: 0.9556\n",
            "Epoch 271/300\n",
            "9/9 [==============================] - 0s 9ms/step - loss: 0.1533 - accuracy: 0.9626 - val_loss: 0.1771 - val_accuracy: 0.9556\n",
            "Epoch 272/300\n",
            "9/9 [==============================] - 0s 9ms/step - loss: 0.1533 - accuracy: 0.9626 - val_loss: 0.1771 - val_accuracy: 0.9556\n",
            "Epoch 273/300\n",
            "9/9 [==============================] - 0s 9ms/step - loss: 0.1533 - accuracy: 0.9626 - val_loss: 0.1770 - val_accuracy: 0.9556\n",
            "Epoch 274/300\n",
            "9/9 [==============================] - 0s 8ms/step - loss: 0.1533 - accuracy: 0.9626 - val_loss: 0.1771 - val_accuracy: 0.9556\n",
            "Epoch 275/300\n",
            "9/9 [==============================] - 0s 6ms/step - loss: 0.1533 - accuracy: 0.9626 - val_loss: 0.1771 - val_accuracy: 0.9556\n",
            "Epoch 276/300\n",
            "9/9 [==============================] - 0s 9ms/step - loss: 0.1533 - accuracy: 0.9626 - val_loss: 0.1771 - val_accuracy: 0.9556\n",
            "Epoch 277/300\n",
            "9/9 [==============================] - 0s 9ms/step - loss: 0.1533 - accuracy: 0.9626 - val_loss: 0.1771 - val_accuracy: 0.9556\n",
            "Epoch 278/300\n",
            "9/9 [==============================] - 0s 7ms/step - loss: 0.1533 - accuracy: 0.9626 - val_loss: 0.1771 - val_accuracy: 0.9556\n",
            "Epoch 279/300\n",
            "9/9 [==============================] - 0s 6ms/step - loss: 0.1533 - accuracy: 0.9626 - val_loss: 0.1771 - val_accuracy: 0.9556\n",
            "Epoch 280/300\n",
            "9/9 [==============================] - 0s 10ms/step - loss: 0.1533 - accuracy: 0.9626 - val_loss: 0.1771 - val_accuracy: 0.9556\n",
            "Epoch 281/300\n",
            "9/9 [==============================] - 0s 9ms/step - loss: 0.1533 - accuracy: 0.9626 - val_loss: 0.1771 - val_accuracy: 0.9556\n",
            "Epoch 282/300\n",
            "9/9 [==============================] - 0s 7ms/step - loss: 0.1533 - accuracy: 0.9626 - val_loss: 0.1771 - val_accuracy: 0.9556\n",
            "Epoch 283/300\n",
            "9/9 [==============================] - 0s 7ms/step - loss: 0.1533 - accuracy: 0.9626 - val_loss: 0.1771 - val_accuracy: 0.9556\n",
            "Epoch 284/300\n",
            "9/9 [==============================] - 0s 8ms/step - loss: 0.1533 - accuracy: 0.9626 - val_loss: 0.1770 - val_accuracy: 0.9556\n",
            "Epoch 285/300\n",
            "9/9 [==============================] - 0s 7ms/step - loss: 0.1533 - accuracy: 0.9626 - val_loss: 0.1770 - val_accuracy: 0.9556\n",
            "Epoch 286/300\n",
            "9/9 [==============================] - 0s 9ms/step - loss: 0.1533 - accuracy: 0.9626 - val_loss: 0.1770 - val_accuracy: 0.9556\n",
            "Epoch 287/300\n",
            "9/9 [==============================] - 0s 8ms/step - loss: 0.1533 - accuracy: 0.9626 - val_loss: 0.1771 - val_accuracy: 0.9556\n",
            "Epoch 288/300\n",
            "9/9 [==============================] - 0s 9ms/step - loss: 0.1533 - accuracy: 0.9626 - val_loss: 0.1771 - val_accuracy: 0.9556\n",
            "Epoch 289/300\n",
            "9/9 [==============================] - 0s 8ms/step - loss: 0.1533 - accuracy: 0.9626 - val_loss: 0.1771 - val_accuracy: 0.9556\n",
            "Epoch 290/300\n",
            "9/9 [==============================] - 0s 8ms/step - loss: 0.1533 - accuracy: 0.9626 - val_loss: 0.1771 - val_accuracy: 0.9556\n",
            "Epoch 291/300\n",
            "9/9 [==============================] - 0s 7ms/step - loss: 0.1533 - accuracy: 0.9626 - val_loss: 0.1771 - val_accuracy: 0.9556\n",
            "Epoch 292/300\n",
            "9/9 [==============================] - 0s 7ms/step - loss: 0.1533 - accuracy: 0.9626 - val_loss: 0.1770 - val_accuracy: 0.9556\n",
            "Epoch 293/300\n",
            "9/9 [==============================] - 0s 8ms/step - loss: 0.1533 - accuracy: 0.9626 - val_loss: 0.1771 - val_accuracy: 0.9556\n",
            "Epoch 294/300\n",
            "9/9 [==============================] - 0s 7ms/step - loss: 0.1533 - accuracy: 0.9626 - val_loss: 0.1771 - val_accuracy: 0.9556\n",
            "Epoch 295/300\n",
            "9/9 [==============================] - 0s 8ms/step - loss: 0.1533 - accuracy: 0.9626 - val_loss: 0.1770 - val_accuracy: 0.9556\n",
            "Epoch 296/300\n",
            "9/9 [==============================] - 0s 7ms/step - loss: 0.1533 - accuracy: 0.9626 - val_loss: 0.1771 - val_accuracy: 0.9556\n",
            "Epoch 297/300\n",
            "9/9 [==============================] - 0s 7ms/step - loss: 0.1533 - accuracy: 0.9626 - val_loss: 0.1771 - val_accuracy: 0.9556\n",
            "Epoch 298/300\n",
            "9/9 [==============================] - 0s 7ms/step - loss: 0.1533 - accuracy: 0.9626 - val_loss: 0.1772 - val_accuracy: 0.9556\n",
            "Epoch 299/300\n",
            "9/9 [==============================] - 0s 7ms/step - loss: 0.1533 - accuracy: 0.9626 - val_loss: 0.1772 - val_accuracy: 0.9556\n",
            "Epoch 300/300\n",
            "9/9 [==============================] - 0s 9ms/step - loss: 0.1533 - accuracy: 0.9626 - val_loss: 0.1771 - val_accuracy: 0.9556\n"
          ]
        }
      ],
      "source": [
        "if model_selection[model_flag]==\"ALL\" or model_selection[model_flag] == \"AE\":\n",
        "  # training the model on training dataset\n",
        "  his = ae_classifier.fit(predictions, y_test, epochs=300,batch_size=500, validation_split=0.2).history"
      ]
    },
    {
      "cell_type": "code",
      "execution_count": 80,
      "metadata": {
        "id": "yeNS7pLUNYBz",
        "colab": {
          "base_uri": "https://localhost:8080/"
        },
        "outputId": "1b0310f1-7611-4093-a9f8-15e9e3dcde7c"
      },
      "outputs": [
        {
          "output_type": "stream",
          "name": "stdout",
          "text": [
            "Saved model to disk\n",
            "Loaded model from disk\n"
          ]
        }
      ],
      "source": [
        "if model_selection[model_flag]==\"ALL\" or model_selection[model_flag] == \"AE\":\n",
        "  filepath = '/content/drive/MyDrive/Colab_Notebooks/Models/ae_classifier_binary'+model_name_suffix+'.json'\n",
        "  weightspath = '/content/drive/MyDrive/Colab_Notebooks/Weights/ae_classifier_binary'+model_name_suffix+'.h5'\n",
        "  if (not path.isfile(filepath)): \n",
        "    # serialize model to JSON\n",
        "    ae_classifier_json = ae_classifier.to_json()\n",
        "    with open(filepath, \"w\") as json_file:\n",
        "      json_file.write(ae_classifier_json)\n",
        "\n",
        "    # serialize weights to HDF5\n",
        "    ae_classifier.save_weights(weightspath)\n",
        "    print(\"Saved model to disk\")\n",
        "\n",
        "    # load json and create model\n",
        "    json_file = open(filepath, 'r')\n",
        "    loaded_model_json = json_file.read()\n",
        "    json_file.close()\n",
        "    ae_classifier = model_from_json(loaded_model_json)\n",
        "\n",
        "    # load weights into new model\n",
        "    ae_classifier.load_weights(weightspath)\n",
        "    print(\"Loaded model from disk\")"
      ]
    },
    {
      "cell_type": "code",
      "execution_count": 81,
      "metadata": {
        "id": "AG42bV79NYFB"
      },
      "outputs": [],
      "source": [
        "if model_selection[model_flag]==\"ALL\" or model_selection[model_flag] == \"AE\":\n",
        "  ae_classifier.compile(optimizer='adam', loss='binary_crossentropy',metrics=['accuracy'])"
      ]
    },
    {
      "cell_type": "code",
      "execution_count": 82,
      "metadata": {
        "id": "13aKBGJcNYHv",
        "colab": {
          "base_uri": "https://localhost:8080/"
        },
        "outputId": "1b896991-2a70-4d8c-ec57-3801ef1a8ec6"
      },
      "outputs": [
        {
          "output_type": "stream",
          "name": "stdout",
          "text": [
            "173/173 [==============================] - 1s 2ms/step - loss: 1.5087 - accuracy: 0.0752\n",
            "Test results - Loss: 1.5087100267410278 - Accuracy: 7.519478350877762%\n"
          ]
        }
      ],
      "source": [
        "if model_selection[model_flag]==\"ALL\" or model_selection[model_flag] == \"AE\":\n",
        "  # predicting target attribute on testing dataset\n",
        "  test_results = ae_classifier.evaluate(X_test, y_test, verbose=1)\n",
        "  print(f'Test results - Loss: {test_results[0]} - Accuracy: {test_results[1]*100}%')"
      ]
    },
    {
      "cell_type": "code",
      "execution_count": 83,
      "metadata": {
        "id": "zCWbOaSyN1dH"
      },
      "outputs": [],
      "source": [
        "if model_selection[model_flag]==\"ALL\" or model_selection[model_flag] == \"AE\":\n",
        "  # representation of model layers\n",
        "  plot_model(ae_classifier, to_file='/content/drive/MyDrive/Colab_Notebooks/Plots/ae_classifier_binary.png', show_shapes=True)"
      ]
    },
    {
      "cell_type": "code",
      "execution_count": 84,
      "metadata": {
        "id": "44VaFGgVOBpU",
        "colab": {
          "base_uri": "https://localhost:8080/",
          "height": 472
        },
        "outputId": "81c1a90d-a578-422d-a94b-fb396babda60"
      },
      "outputs": [
        {
          "output_type": "display_data",
          "data": {
            "text/plain": [
              "<Figure size 640x480 with 1 Axes>"
            ],
            "image/png": "[encoded data removed]"
          },
          "metadata": {}
        }
      ],
      "source": [
        "if model_selection[model_flag]==\"ALL\" or model_selection[model_flag] == \"AE\":\n",
        "  # Plot of loss vs epoch of train and test dataset\n",
        "  plt.plot(his['loss'])\n",
        "  plt.plot(his['val_loss'])\n",
        "  plt.title(\"Plot of loss vs epoch for train and test dataset\")\n",
        "  plt.ylabel('loss')\n",
        "  plt.xlabel('epoch')\n",
        "  plt.legend(['train', 'test'], loc='upper right')\n",
        "  plt.savefig('/content/drive/MyDrive/Colab_Notebooks/Plots/ae_classifier_binary_loss.png')\n",
        "  plt.show()"
      ]
    },
    {
      "cell_type": "code",
      "execution_count": 85,
      "metadata": {
        "id": "Am0UB82rOIo1",
        "colab": {
          "base_uri": "https://localhost:8080/",
          "height": 472
        },
        "outputId": "d57277f6-1788-4b08-8c3d-c5c0ae0889a7"
      },
      "outputs": [
        {
          "output_type": "display_data",
          "data": {
            "text/plain": [
              "<Figure size 640x480 with 1 Axes>"
            ],
            "image/png": "[encoded data removed]"
          },
          "metadata": {}
        }
      ],
      "source": [
        "if model_selection[model_flag]==\"ALL\" or model_selection[model_flag] == \"AE\":\n",
        "  # Plot of accuracy vs epoch of train and test dataset\n",
        "  plt.plot(his['accuracy'])\n",
        "  plt.plot(his['val_accuracy'])\n",
        "  plt.title(\"Plot of accuracy vs epoch for train and test dataset\")\n",
        "  plt.ylabel('accuracy')\n",
        "  plt.xlabel('epoch')\n",
        "  plt.legend(['train', 'test'], loc='best')\n",
        "  plt.savefig('/content/drive/MyDrive/Colab_Notebooks/Plots/ae_classifier_binary_accuracy.png')\n",
        "  plt.show()"
      ]
    },
    {
      "cell_type": "code",
      "execution_count": 86,
      "metadata": {
        "id": "f5OZTlm0OMoW",
        "colab": {
          "base_uri": "https://localhost:8080/"
        },
        "outputId": "7a4d74f0-3693-4524-ccee-62aa69fe6685"
      },
      "outputs": [
        {
          "output_type": "stream",
          "name": "stdout",
          "text": [
            "173/173 [==============================] - 0s 1ms/step\n"
          ]
        }
      ],
      "source": [
        "if model_selection[model_flag]==\"ALL\" or model_selection[model_flag] == \"AE\":\n",
        "  y_pred = ae_classifier.predict(X_test).ravel()\n",
        "  fpr, tpr, thresholds = roc_curve(y_test, y_pred)\n",
        "  #auc = auc(fpr, tpr)"
      ]
    },
    {
      "cell_type": "code",
      "execution_count": 87,
      "metadata": {
        "id": "GbSkwfO2OTkn",
        "colab": {
          "base_uri": "https://localhost:8080/",
          "height": 510
        },
        "outputId": "1951a80d-fe78-42b2-e58e-5036ee83335e"
      },
      "outputs": [
        {
          "output_type": "stream",
          "name": "stderr",
          "text": [
            "WARNING:matplotlib.legend:No artists with labels found to put in legend.  Note that artists whose label start with an underscore are ignored when legend() is called with no argument.\n"
          ]
        },
        {
          "output_type": "display_data",
          "data": {
            "text/plain": [
              "<Figure size 640x480 with 1 Axes>"
            ],
            "image/png": "[encoded data removed]"
          },
          "metadata": {}
        }
      ],
      "source": [
        "if model_selection[model_flag]==\"ALL\" or model_selection[model_flag] == \"AE\":\n",
        "  plt.plot([0, 1], [0, 1], 'k--')\n",
        "  #plt.plot(fpr, tpr, label='Keras (area = {:.3f})'.format(auc))\n",
        "  plt.plot(fpr, tpr)\n",
        "  plt.xlabel('False positive rate')\n",
        "  plt.ylabel('True positive rate')\n",
        "  plt.title('ROC curve')\n",
        "  plt.legend(loc='best')\n",
        "  plt.savefig('/content/drive/MyDrive/Colab_Notebooks/Plots/ae_binary_roc.png')\n",
        "  plt.show()"
      ]
    },
    {
      "cell_type": "code",
      "execution_count": 88,
      "metadata": {
        "id": "n7Xl74UXOZxm",
        "colab": {
          "base_uri": "https://localhost:8080/"
        },
        "outputId": "affd2164-c40c-4f55-ca7f-e4f603d4fe19"
      },
      "outputs": [
        {
          "output_type": "stream",
          "name": "stdout",
          "text": [
            "173/173 [==============================] - 0s 1ms/step\n",
            "173/173 [==============================] - 0s 1ms/step\n"
          ]
        }
      ],
      "source": [
        "if model_selection[model_flag]==\"ALL\" or model_selection[model_flag] == \"AE\":\n",
        "  pred = ae_classifier.predict(X_test)\n",
        "  y_classes = (ae_classifier.predict(X_test)>0.5).astype('int32')"
      ]
    },
    {
      "cell_type": "code",
      "execution_count": 89,
      "metadata": {
        "id": "WA_g3UlXOZ71",
        "colab": {
          "base_uri": "https://localhost:8080/"
        },
        "outputId": "291c4316-1b7a-428e-baa9-5527455c247c"
      },
      "outputs": [
        {
          "output_type": "stream",
          "name": "stdout",
          "text": [
            "Recall Score -  0.897196261682243\n",
            "F1 Score -  0.06997084548104955\n",
            "Precision Score -  0.03640500568828214\n",
            "False Positive Rate -  [1.         0.95796418]\n",
            "False Negative Rate -  [0.         0.10280374]\n",
            "Thresholds -  [0 1]\n"
          ]
        }
      ],
      "source": [
        "if model_selection[model_flag]==\"ALL\" or model_selection[model_flag] == \"AE\":\n",
        "  print(\"Recall Score - \",recall_score(y_test,y_classes))\n",
        "  print(\"F1 Score - \",f1_score(y_test,y_classes))\n",
        "  print(\"Precision Score - \",precision_score(y_test,y_classes))\n",
        "  fpr, fnr, thresholds = det_curve(y_test, y_classes)\n",
        "  print(\"False Positive Rate - \", fpr)\n",
        "  print(\"False Negative Rate - \", fnr)\n",
        "  print(\"Thresholds - \", thresholds)"
      ]
    },
    {
      "cell_type": "code",
      "source": [
        "print(classification_report(y_test, y_classes, target_names=['0', '1']))\n",
        "cm = confusion_matrix(y_test, y_classes)\n",
        "disp = ConfusionMatrixDisplay(confusion_matrix=cm,\n",
        "                              display_labels=['0', '1'])\n",
        "disp.plot()\n",
        "\n",
        "plt.show()"
      ],
      "metadata": {
        "id": "UgHHdx0qoryj",
        "colab": {
          "base_uri": "https://localhost:8080/",
          "height": 610
        },
        "outputId": "7ecd8dd9-757e-4652-b578-a7e5062dad44"
      },
      "execution_count": 90,
      "outputs": [
        {
          "output_type": "stream",
          "name": "stdout",
          "text": [
            "              precision    recall  f1-score   support\n",
            "\n",
            "           0       0.91      0.04      0.08      5305\n",
            "           1       0.04      0.90      0.07       214\n",
            "\n",
            "    accuracy                           0.08      5519\n",
            "   macro avg       0.47      0.47      0.08      5519\n",
            "weighted avg       0.88      0.08      0.08      5519\n",
            "\n"
          ]
        },
        {
          "output_type": "display_data",
          "data": {
            "text/plain": [
              "<Figure size 640x480 with 2 Axes>"
            ],
            "image/png": "[encoded data removed]"
          },
          "metadata": {}
        }
      ]
    }
  ],
  "metadata": {
    "colab": {
      "provenance": [],
      "include_colab_link": true
    },
    "gpuClass": "standard",
    "kernelspec": {
      "display_name": "Python 3",
      "name": "python3"
    },
    "language_info": {
      "name": "python"
    },
    "accelerator": "GPU"
  },
  "nbformat": 4,
  "nbformat_minor": 0
}