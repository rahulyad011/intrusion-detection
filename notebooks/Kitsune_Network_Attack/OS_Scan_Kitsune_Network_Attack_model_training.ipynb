{
  "cells": [
    {
      "cell_type": "markdown",
      "metadata": {
        "id": "view-in-github",
        "colab_type": "text"
      },
      "source": [
        "<a href=\"https://colab.research.google.com/github/rahulyad011/intrusion-detection/blob/main/OS_Scan_Kitsune_Network_Attack_model_training.ipynb\" target=\"_parent\"><img src=\"https://colab.research.google.com/assets/colab-badge.svg\" alt=\"Open In Colab\"/></a>"
      ]
    },
    {
      "cell_type": "code",
      "execution_count": 1,
      "metadata": {
        "id": "qXQ8rUmdwaf4"
      },
      "outputs": [],
      "source": [
        "\n",
        "from sklearn.metrics import accuracy_score # for calculating accuracy of model\n",
        "from sklearn.model_selection import train_test_split # for splitting the dataset for training and testing\n",
        "from sklearn.metrics import classification_report # for generating a classification report of model\n",
        "import pickle # saving and loading trained model\n",
        "from os import path\n",
        "import numpy as np\n",
        "import pandas as pd\n",
        "import matplotlib.pyplot as plt\n",
        "\n",
        "# importing library for support vector machine classifier\n",
        "from sklearn.svm import SVC\n",
        "\n",
        "# MLP requirements \n",
        "from keras.layers import Dense # importing dense layer\n",
        "from keras.models import Sequential #importing Sequential layer\n",
        "from keras.models import model_from_json # saving and loading trained model\n",
        "\n",
        "# LSTM requirements \n",
        "from keras.layers import LSTM\n",
        "from keras.layers import Input\n",
        "from keras.models import Model\n",
        "\n",
        "# evaluation metrices\n",
        "from sklearn.metrics import classification_report, confusion_matrix\n",
        "from sklearn.metrics import roc_auc_score\n",
        "from sklearn.metrics import roc_curve, auc\n",
        "from sklearn.metrics import precision_score\n",
        "from sklearn.metrics import recall_score\n",
        "from sklearn.metrics import f1_score\n",
        "from sklearn.metrics import det_curve\n",
        "\n",
        "# representation of model layers\n",
        "from keras.utils.vis_utils import plot_model"
      ]
    },
    {
      "cell_type": "code",
      "source": [
        "from google.colab import drive\n",
        "drive.mount('/content/drive')"
      ],
      "metadata": {
        "id": "DBCkPmpEjFSf",
        "colab": {
          "base_uri": "https://localhost:8080/"
        },
        "outputId": "a5fdc11b-6eff-4c9a-b1bc-1577cb6e2de4"
      },
      "execution_count": 2,
      "outputs": [
        {
          "output_type": "stream",
          "name": "stdout",
          "text": [
            "Mounted at /content/drive\n"
          ]
        }
      ]
    },
    {
      "cell_type": "code",
      "execution_count": 3,
      "metadata": {
        "id": "Pepa9lW8whHh",
        "colab": {
          "base_uri": "https://localhost:8080/",
          "height": 557
        },
        "outputId": "8e391a30-908c-4f53-8544-6f84aa988992"
      },
      "outputs": [
        {
          "output_type": "execute_result",
          "data": {
            "text/plain": [
              "                X1           X2            X3           X4           X5  \\\n",
              "0        54.958150  1342.063565  1.791089e+05    93.643990  1347.231063   \n",
              "1        66.987036  1234.769201  4.625320e+04   108.689706  1236.386365   \n",
              "2        53.658092  1250.629446  2.819479e+04    95.036009  1244.657330   \n",
              "3        71.121618  1239.033725  4.367263e+04   111.970910  1238.955263   \n",
              "4        45.967084  1325.526343  1.854069e+05    83.643401  1337.577621   \n",
              "...            ...          ...           ...          ...          ...   \n",
              "16974   432.234233    60.000000  1.000444e-11   781.511684    60.000000   \n",
              "16975  1794.595879    60.000000  2.410161e-11  2829.437759    60.000000   \n",
              "16976  1723.656885    60.000000  2.546585e-11  2590.220169    60.000000   \n",
              "16977  1806.094652    60.000000  1.273293e-11  2828.539593    60.000000   \n",
              "16978   666.862572    60.000000  2.728484e-12  1042.228690    60.000000   \n",
              "\n",
              "                 X6           X7           X8            X9           X10  \\\n",
              "0      1.718131e+05   281.250017  1347.183100  1.686520e+05   2803.670400   \n",
              "1      4.456408e+04   312.839312  1240.641836  3.960801e+04   3060.389365   \n",
              "2      3.549190e+04   300.988513  1240.447234  4.164899e+04   3046.106294   \n",
              "3      4.297615e+04   314.542597  1239.340079  4.186156e+04   3061.901130   \n",
              "4      1.763079e+05   270.888115  1343.512541  1.718346e+05   2793.699674   \n",
              "...             ...          ...          ...           ...           ...   \n",
              "16974  4.092726e-12  3638.185506    60.000000  4.092726e-11  20244.754761   \n",
              "16975  2.728484e-12  7004.753648    60.000000  3.547029e-11  18222.773705   \n",
              "16976  2.728484e-12  6409.513773    60.000000  1.364242e-11  16450.497069   \n",
              "16977  0.000000e+00  6968.384797    60.000000  3.046807e-11  18065.238201   \n",
              "16978  9.094947e-13  2785.077873    60.000000  1.091394e-11  25155.802706   \n",
              "\n",
              "       ...          X108          X109         X110        X111         X112  \\\n",
              "0      ...  0.000000e+00  28029.169529  1342.168895  417.189824  1342.168895   \n",
              "1      ...  5.631425e-09  30563.739555  1240.044689  202.614287  1241.495401   \n",
              "2      ...  5.459875e-09  30314.480410  1241.163908  199.241768  1242.613313   \n",
              "3      ... -3.916484e-09  18537.891946  1239.841065  202.791349  1241.292014   \n",
              "4      ...  0.000000e+00  28022.323438  1341.938317  417.317344  1341.938317   \n",
              "...    ...           ...           ...          ...         ...          ...   \n",
              "16974  ...  0.000000e+00      1.000000    60.000000    0.000000    84.852814   \n",
              "16975  ...  0.000000e+00      1.000000    60.000000    0.000000    60.000000   \n",
              "16976  ...  0.000000e+00      1.000000    60.000000    0.000000    84.852814   \n",
              "16977  ...  0.000000e+00      1.000000    60.000000    0.000000    60.000000   \n",
              "16978  ...  0.000000e+00      1.000000    60.000000    0.000000    84.852814   \n",
              "\n",
              "                X113          X114          X115  Unnamed: 0  label  \n",
              "0      174047.349480  0.000000e+00  0.000000e+00     1103798    0.0  \n",
              "1       41052.549214 -2.261136e-11 -4.137248e-08     1237226    0.0  \n",
              "2       39697.282137 -1.435780e-11 -2.591779e-08      358725    0.0  \n",
              "3       41124.331373  1.417383e-11  2.377804e-08       67246    0.0  \n",
              "4      174153.765845  0.000000e+00  0.000000e+00      865153    0.0  \n",
              "...              ...           ...           ...         ...    ...  \n",
              "16974       0.000000  0.000000e+00  0.000000e+00     1382270    1.0  \n",
              "16975       0.000000  0.000000e+00  0.000000e+00     1370635    1.0  \n",
              "16976       0.000000  0.000000e+00  0.000000e+00     1366121    1.0  \n",
              "16977       0.000000  0.000000e+00  0.000000e+00     1370208    1.0  \n",
              "16978       0.000000  0.000000e+00  0.000000e+00     1437168    1.0  \n",
              "\n",
              "[16979 rows x 117 columns]"
            ],
            "text/html": [
              "\n",
              "  <div id=\"df-3918de3f-24ca-4c46-b3f3-ab46d456d38f\">\n",
              "    <div class=\"colab-df-container\">\n",
              "      <div>\n",
              "<style scoped>\n",
              "    .dataframe tbody tr th:only-of-type {\n",
              "        vertical-align: middle;\n",
              "    }\n",
              "\n",
              "    .dataframe tbody tr th {\n",
              "        vertical-align: top;\n",
              "    }\n",
              "\n",
              "    .dataframe thead th {\n",
              "        text-align: right;\n",
              "    }\n",
              "</style>\n",
              "<table border=\"1\" class=\"dataframe\">\n",
              "  <thead>\n",
              "    <tr style=\"text-align: right;\">\n",
              "      <th></th>\n",
              "      <th>X1</th>\n",
              "      <th>X2</th>\n",
              "      <th>X3</th>\n",
              "      <th>X4</th>\n",
              "      <th>X5</th>\n",
              "      <th>X6</th>\n",
              "      <th>X7</th>\n",
              "      <th>X8</th>\n",
              "      <th>X9</th>\n",
              "      <th>X10</th>\n",
              "      <th>...</th>\n",
              "      <th>X108</th>\n",
              "      <th>X109</th>\n",
              "      <th>X110</th>\n",
              "      <th>X111</th>\n",
              "      <th>X112</th>\n",
              "      <th>X113</th>\n",
              "      <th>X114</th>\n",
              "      <th>X115</th>\n",
              "      <th>Unnamed: 0</th>\n",
              "      <th>label</th>\n",
              "    </tr>\n",
              "  </thead>\n",
              "  <tbody>\n",
              "    <tr>\n",
              "      <th>0</th>\n",
              "      <td>54.958150</td>\n",
              "      <td>1342.063565</td>\n",
              "      <td>1.791089e+05</td>\n",
              "      <td>93.643990</td>\n",
              "      <td>1347.231063</td>\n",
              "      <td>1.718131e+05</td>\n",
              "      <td>281.250017</td>\n",
              "      <td>1347.183100</td>\n",
              "      <td>1.686520e+05</td>\n",
              "      <td>2803.670400</td>\n",
              "      <td>...</td>\n",
              "      <td>0.000000e+00</td>\n",
              "      <td>28029.169529</td>\n",
              "      <td>1342.168895</td>\n",
              "      <td>417.189824</td>\n",
              "      <td>1342.168895</td>\n",
              "      <td>174047.349480</td>\n",
              "      <td>0.000000e+00</td>\n",
              "      <td>0.000000e+00</td>\n",
              "      <td>1103798</td>\n",
              "      <td>0.0</td>\n",
              "    </tr>\n",
              "    <tr>\n",
              "      <th>1</th>\n",
              "      <td>66.987036</td>\n",
              "      <td>1234.769201</td>\n",
              "      <td>4.625320e+04</td>\n",
              "      <td>108.689706</td>\n",
              "      <td>1236.386365</td>\n",
              "      <td>4.456408e+04</td>\n",
              "      <td>312.839312</td>\n",
              "      <td>1240.641836</td>\n",
              "      <td>3.960801e+04</td>\n",
              "      <td>3060.389365</td>\n",
              "      <td>...</td>\n",
              "      <td>5.631425e-09</td>\n",
              "      <td>30563.739555</td>\n",
              "      <td>1240.044689</td>\n",
              "      <td>202.614287</td>\n",
              "      <td>1241.495401</td>\n",
              "      <td>41052.549214</td>\n",
              "      <td>-2.261136e-11</td>\n",
              "      <td>-4.137248e-08</td>\n",
              "      <td>1237226</td>\n",
              "      <td>0.0</td>\n",
              "    </tr>\n",
              "    <tr>\n",
              "      <th>2</th>\n",
              "      <td>53.658092</td>\n",
              "      <td>1250.629446</td>\n",
              "      <td>2.819479e+04</td>\n",
              "      <td>95.036009</td>\n",
              "      <td>1244.657330</td>\n",
              "      <td>3.549190e+04</td>\n",
              "      <td>300.988513</td>\n",
              "      <td>1240.447234</td>\n",
              "      <td>4.164899e+04</td>\n",
              "      <td>3046.106294</td>\n",
              "      <td>...</td>\n",
              "      <td>5.459875e-09</td>\n",
              "      <td>30314.480410</td>\n",
              "      <td>1241.163908</td>\n",
              "      <td>199.241768</td>\n",
              "      <td>1242.613313</td>\n",
              "      <td>39697.282137</td>\n",
              "      <td>-1.435780e-11</td>\n",
              "      <td>-2.591779e-08</td>\n",
              "      <td>358725</td>\n",
              "      <td>0.0</td>\n",
              "    </tr>\n",
              "    <tr>\n",
              "      <th>3</th>\n",
              "      <td>71.121618</td>\n",
              "      <td>1239.033725</td>\n",
              "      <td>4.367263e+04</td>\n",
              "      <td>111.970910</td>\n",
              "      <td>1238.955263</td>\n",
              "      <td>4.297615e+04</td>\n",
              "      <td>314.542597</td>\n",
              "      <td>1239.340079</td>\n",
              "      <td>4.186156e+04</td>\n",
              "      <td>3061.901130</td>\n",
              "      <td>...</td>\n",
              "      <td>-3.916484e-09</td>\n",
              "      <td>18537.891946</td>\n",
              "      <td>1239.841065</td>\n",
              "      <td>202.791349</td>\n",
              "      <td>1241.292014</td>\n",
              "      <td>41124.331373</td>\n",
              "      <td>1.417383e-11</td>\n",
              "      <td>2.377804e-08</td>\n",
              "      <td>67246</td>\n",
              "      <td>0.0</td>\n",
              "    </tr>\n",
              "    <tr>\n",
              "      <th>4</th>\n",
              "      <td>45.967084</td>\n",
              "      <td>1325.526343</td>\n",
              "      <td>1.854069e+05</td>\n",
              "      <td>83.643401</td>\n",
              "      <td>1337.577621</td>\n",
              "      <td>1.763079e+05</td>\n",
              "      <td>270.888115</td>\n",
              "      <td>1343.512541</td>\n",
              "      <td>1.718346e+05</td>\n",
              "      <td>2793.699674</td>\n",
              "      <td>...</td>\n",
              "      <td>0.000000e+00</td>\n",
              "      <td>28022.323438</td>\n",
              "      <td>1341.938317</td>\n",
              "      <td>417.317344</td>\n",
              "      <td>1341.938317</td>\n",
              "      <td>174153.765845</td>\n",
              "      <td>0.000000e+00</td>\n",
              "      <td>0.000000e+00</td>\n",
              "      <td>865153</td>\n",
              "      <td>0.0</td>\n",
              "    </tr>\n",
              "    <tr>\n",
              "      <th>...</th>\n",
              "      <td>...</td>\n",
              "      <td>...</td>\n",
              "      <td>...</td>\n",
              "      <td>...</td>\n",
              "      <td>...</td>\n",
              "      <td>...</td>\n",
              "      <td>...</td>\n",
              "      <td>...</td>\n",
              "      <td>...</td>\n",
              "      <td>...</td>\n",
              "      <td>...</td>\n",
              "      <td>...</td>\n",
              "      <td>...</td>\n",
              "      <td>...</td>\n",
              "      <td>...</td>\n",
              "      <td>...</td>\n",
              "      <td>...</td>\n",
              "      <td>...</td>\n",
              "      <td>...</td>\n",
              "      <td>...</td>\n",
              "      <td>...</td>\n",
              "    </tr>\n",
              "    <tr>\n",
              "      <th>16974</th>\n",
              "      <td>432.234233</td>\n",
              "      <td>60.000000</td>\n",
              "      <td>1.000444e-11</td>\n",
              "      <td>781.511684</td>\n",
              "      <td>60.000000</td>\n",
              "      <td>4.092726e-12</td>\n",
              "      <td>3638.185506</td>\n",
              "      <td>60.000000</td>\n",
              "      <td>4.092726e-11</td>\n",
              "      <td>20244.754761</td>\n",
              "      <td>...</td>\n",
              "      <td>0.000000e+00</td>\n",
              "      <td>1.000000</td>\n",
              "      <td>60.000000</td>\n",
              "      <td>0.000000</td>\n",
              "      <td>84.852814</td>\n",
              "      <td>0.000000</td>\n",
              "      <td>0.000000e+00</td>\n",
              "      <td>0.000000e+00</td>\n",
              "      <td>1382270</td>\n",
              "      <td>1.0</td>\n",
              "    </tr>\n",
              "    <tr>\n",
              "      <th>16975</th>\n",
              "      <td>1794.595879</td>\n",
              "      <td>60.000000</td>\n",
              "      <td>2.410161e-11</td>\n",
              "      <td>2829.437759</td>\n",
              "      <td>60.000000</td>\n",
              "      <td>2.728484e-12</td>\n",
              "      <td>7004.753648</td>\n",
              "      <td>60.000000</td>\n",
              "      <td>3.547029e-11</td>\n",
              "      <td>18222.773705</td>\n",
              "      <td>...</td>\n",
              "      <td>0.000000e+00</td>\n",
              "      <td>1.000000</td>\n",
              "      <td>60.000000</td>\n",
              "      <td>0.000000</td>\n",
              "      <td>60.000000</td>\n",
              "      <td>0.000000</td>\n",
              "      <td>0.000000e+00</td>\n",
              "      <td>0.000000e+00</td>\n",
              "      <td>1370635</td>\n",
              "      <td>1.0</td>\n",
              "    </tr>\n",
              "    <tr>\n",
              "      <th>16976</th>\n",
              "      <td>1723.656885</td>\n",
              "      <td>60.000000</td>\n",
              "      <td>2.546585e-11</td>\n",
              "      <td>2590.220169</td>\n",
              "      <td>60.000000</td>\n",
              "      <td>2.728484e-12</td>\n",
              "      <td>6409.513773</td>\n",
              "      <td>60.000000</td>\n",
              "      <td>1.364242e-11</td>\n",
              "      <td>16450.497069</td>\n",
              "      <td>...</td>\n",
              "      <td>0.000000e+00</td>\n",
              "      <td>1.000000</td>\n",
              "      <td>60.000000</td>\n",
              "      <td>0.000000</td>\n",
              "      <td>84.852814</td>\n",
              "      <td>0.000000</td>\n",
              "      <td>0.000000e+00</td>\n",
              "      <td>0.000000e+00</td>\n",
              "      <td>1366121</td>\n",
              "      <td>1.0</td>\n",
              "    </tr>\n",
              "    <tr>\n",
              "      <th>16977</th>\n",
              "      <td>1806.094652</td>\n",
              "      <td>60.000000</td>\n",
              "      <td>1.273293e-11</td>\n",
              "      <td>2828.539593</td>\n",
              "      <td>60.000000</td>\n",
              "      <td>0.000000e+00</td>\n",
              "      <td>6968.384797</td>\n",
              "      <td>60.000000</td>\n",
              "      <td>3.046807e-11</td>\n",
              "      <td>18065.238201</td>\n",
              "      <td>...</td>\n",
              "      <td>0.000000e+00</td>\n",
              "      <td>1.000000</td>\n",
              "      <td>60.000000</td>\n",
              "      <td>0.000000</td>\n",
              "      <td>60.000000</td>\n",
              "      <td>0.000000</td>\n",
              "      <td>0.000000e+00</td>\n",
              "      <td>0.000000e+00</td>\n",
              "      <td>1370208</td>\n",
              "      <td>1.0</td>\n",
              "    </tr>\n",
              "    <tr>\n",
              "      <th>16978</th>\n",
              "      <td>666.862572</td>\n",
              "      <td>60.000000</td>\n",
              "      <td>2.728484e-12</td>\n",
              "      <td>1042.228690</td>\n",
              "      <td>60.000000</td>\n",
              "      <td>9.094947e-13</td>\n",
              "      <td>2785.077873</td>\n",
              "      <td>60.000000</td>\n",
              "      <td>1.091394e-11</td>\n",
              "      <td>25155.802706</td>\n",
              "      <td>...</td>\n",
              "      <td>0.000000e+00</td>\n",
              "      <td>1.000000</td>\n",
              "      <td>60.000000</td>\n",
              "      <td>0.000000</td>\n",
              "      <td>84.852814</td>\n",
              "      <td>0.000000</td>\n",
              "      <td>0.000000e+00</td>\n",
              "      <td>0.000000e+00</td>\n",
              "      <td>1437168</td>\n",
              "      <td>1.0</td>\n",
              "    </tr>\n",
              "  </tbody>\n",
              "</table>\n",
              "<p>16979 rows × 117 columns</p>\n",
              "</div>\n",
              "      <button class=\"colab-df-convert\" onclick=\"convertToInteractive('df-3918de3f-24ca-4c46-b3f3-ab46d456d38f')\"\n",
              "              title=\"Convert this dataframe to an interactive table.\"\n",
              "              style=\"display:none;\">\n",
              "        \n",
              "  <svg xmlns=\"http://www.w3.org/2000/svg\" height=\"24px\"viewBox=\"0 0 24 24\"\n",
              "       width=\"24px\">\n",
              "    <path d=\"M0 0h24v24H0V0z\" fill=\"none\"/>\n",
              "    <path d=\"M18.56 5.44l.94 2.06.94-2.06 2.06-.94-2.06-.94-.94-2.06-.94 2.06-2.06.94zm-11 1L8.5 8.5l.94-2.06 2.06-.94-2.06-.94L8.5 2.5l-.94 2.06-2.06.94zm10 10l.94 2.06.94-2.06 2.06-.94-2.06-.94-.94-2.06-.94 2.06-2.06.94z\"/><path d=\"M17.41 7.96l-1.37-1.37c-.4-.4-.92-.59-1.43-.59-.52 0-1.04.2-1.43.59L10.3 9.45l-7.72 7.72c-.78.78-.78 2.05 0 2.83L4 21.41c.39.39.9.59 1.41.59.51 0 1.02-.2 1.41-.59l7.78-7.78 2.81-2.81c.8-.78.8-2.07 0-2.86zM5.41 20L4 18.59l7.72-7.72 1.47 1.35L5.41 20z\"/>\n",
              "  </svg>\n",
              "      </button>\n",
              "      \n",
              "  <style>\n",
              "    .colab-df-container {\n",
              "      display:flex;\n",
              "      flex-wrap:wrap;\n",
              "      gap: 12px;\n",
              "    }\n",
              "\n",
              "    .colab-df-convert {\n",
              "      background-color: #E8F0FE;\n",
              "      border: none;\n",
              "      border-radius: 50%;\n",
              "      cursor: pointer;\n",
              "      display: none;\n",
              "      fill: #1967D2;\n",
              "      height: 32px;\n",
              "      padding: 0 0 0 0;\n",
              "      width: 32px;\n",
              "    }\n",
              "\n",
              "    .colab-df-convert:hover {\n",
              "      background-color: #E2EBFA;\n",
              "      box-shadow: 0px 1px 2px rgba(60, 64, 67, 0.3), 0px 1px 3px 1px rgba(60, 64, 67, 0.15);\n",
              "      fill: #174EA6;\n",
              "    }\n",
              "\n",
              "    [theme=dark] .colab-df-convert {\n",
              "      background-color: #3B4455;\n",
              "      fill: #D2E3FC;\n",
              "    }\n",
              "\n",
              "    [theme=dark] .colab-df-convert:hover {\n",
              "      background-color: #434B5C;\n",
              "      box-shadow: 0px 1px 3px 1px rgba(0, 0, 0, 0.15);\n",
              "      filter: drop-shadow(0px 1px 2px rgba(0, 0, 0, 0.3));\n",
              "      fill: #FFFFFF;\n",
              "    }\n",
              "  </style>\n",
              "\n",
              "      <script>\n",
              "        const buttonEl =\n",
              "          document.querySelector('#df-3918de3f-24ca-4c46-b3f3-ab46d456d38f button.colab-df-convert');\n",
              "        buttonEl.style.display =\n",
              "          google.colab.kernel.accessAllowed ? 'block' : 'none';\n",
              "\n",
              "        async function convertToInteractive(key) {\n",
              "          const element = document.querySelector('#df-3918de3f-24ca-4c46-b3f3-ab46d456d38f');\n",
              "          const dataTable =\n",
              "            await google.colab.kernel.invokeFunction('convertToInteractive',\n",
              "                                                     [key], {});\n",
              "          if (!dataTable) return;\n",
              "\n",
              "          const docLinkHtml = 'Like what you see? Visit the ' +\n",
              "            '<a target=\"_blank\" href=https://colab.research.google.com/notebooks/data_table.ipynb>data table notebook</a>'\n",
              "            + ' to learn more about interactive tables.';\n",
              "          element.innerHTML = '';\n",
              "          dataTable['output_type'] = 'display_data';\n",
              "          await google.colab.output.renderOutput(dataTable, element);\n",
              "          const docLink = document.createElement('div');\n",
              "          docLink.innerHTML = docLinkHtml;\n",
              "          element.appendChild(docLink);\n",
              "        }\n",
              "      </script>\n",
              "    </div>\n",
              "  </div>\n",
              "  "
            ]
          },
          "metadata": {},
          "execution_count": 3
        }
      ],
      "source": [
        "bin_data_total = data = pd.read_csv(\"/content/drive/MyDrive/Colab_Notebooks/Datasets/kitsume_network_attack_dataset/kitsune_binary_data_1MOS_Scan_dataset.csv\")\n",
        "bin_data_total.drop(bin_data_total.columns[0],axis=1,inplace=True)\n",
        "bin_data_total"
      ]
    },
    {
      "cell_type": "code",
      "execution_count": 4,
      "metadata": {
        "id": "xHCs0B3sKOa_",
        "colab": {
          "base_uri": "https://localhost:8080/"
        },
        "outputId": "a8126c50-5ae2-4e85-ea71-2beef54899f2"
      },
      "outputs": [
        {
          "output_type": "execute_result",
          "data": {
            "text/plain": [
              "0.0    0.961305\n",
              "1.0    0.038695\n",
              "Name: label, dtype: float64"
            ]
          },
          "metadata": {},
          "execution_count": 4
        }
      ],
      "source": [
        "# distribution of label class before sampling\n",
        "data_size = bin_data_total.shape[0]\n",
        "# data_size\n",
        "bin_data_total.label.value_counts()/data_size"
      ]
    },
    {
      "cell_type": "code",
      "source": [
        "model_name_suffix = \"_kitsune_OS_Scan\""
      ],
      "metadata": {
        "collapsed": true,
        "id": "xoRpI3HV9G2v"
      },
      "execution_count": 5,
      "outputs": []
    },
    {
      "cell_type": "code",
      "source": [
        "# numeric feature normalization\n",
        "from sklearn.preprocessing import MinMaxScaler\n",
        "from sklearn.preprocessing import StandardScaler\n",
        "\n",
        "numeric_cols = bin_data_total.select_dtypes(['number']).columns\n",
        "numeric_cols = numeric_cols.drop('label')\n",
        "flag = 0\n",
        "scaler = None\n",
        "if flag:\n",
        "  # using standard scaler for normalizing\n",
        "  scaler = StandardScaler()\n",
        "else:\n",
        "  # using minmax scaler for normalizing\n",
        "  # to avoid negative values after scaling\n",
        "  scaler = MinMaxScaler()\n",
        "\n",
        "def normalization_train(df,col):\n",
        "  for i in col:\n",
        "    arr = df[i]\n",
        "    arr = np.array(arr)\n",
        "    df[i] = scaler.fit_transform(arr.reshape(len(arr),1))\n",
        "  return df\n",
        "\n",
        "def normalization_test(df,col):\n",
        "  for i in col:\n",
        "    arr = df[i]\n",
        "    arr = np.array(arr)\n",
        "    df[i] = scaler.transform(arr.reshape(len(arr),1))\n",
        "  return df\n",
        "\n",
        "# numeric_cols"
      ],
      "metadata": {
        "id": "QAUrPvEIYHoH"
      },
      "execution_count": 6,
      "outputs": []
    },
    {
      "cell_type": "code",
      "execution_count": 7,
      "metadata": {
        "id": "XSTP2AcKJgTF",
        "colab": {
          "base_uri": "https://localhost:8080/",
          "height": 557
        },
        "outputId": "5ff67228-fb5a-44e9-80e0-314e129c943b"
      },
      "outputs": [
        {
          "output_type": "execute_result",
          "data": {
            "text/plain": [
              "                X1           X2            X3           X4           X5  \\\n",
              "0        54.958150  1342.063565  1.791089e+05    93.643990  1347.231063   \n",
              "1        66.987036  1234.769201  4.625320e+04   108.689706  1236.386365   \n",
              "2        53.658092  1250.629446  2.819479e+04    95.036009  1244.657330   \n",
              "3        71.121618  1239.033725  4.367263e+04   111.970910  1238.955263   \n",
              "4        45.967084  1325.526343  1.854069e+05    83.643401  1337.577621   \n",
              "...            ...          ...           ...          ...          ...   \n",
              "16974   432.234233    60.000000  1.000444e-11   781.511684    60.000000   \n",
              "16975  1794.595879    60.000000  2.410161e-11  2829.437759    60.000000   \n",
              "16976  1723.656885    60.000000  2.546585e-11  2590.220169    60.000000   \n",
              "16977  1806.094652    60.000000  1.273293e-11  2828.539593    60.000000   \n",
              "16978   666.862572    60.000000  2.728484e-12  1042.228690    60.000000   \n",
              "\n",
              "                 X6           X7           X8            X9           X10  \\\n",
              "0      1.718131e+05   281.250017  1347.183100  1.686520e+05   2803.670400   \n",
              "1      4.456408e+04   312.839312  1240.641836  3.960801e+04   3060.389365   \n",
              "2      3.549190e+04   300.988513  1240.447234  4.164899e+04   3046.106294   \n",
              "3      4.297615e+04   314.542597  1239.340079  4.186156e+04   3061.901130   \n",
              "4      1.763079e+05   270.888115  1343.512541  1.718346e+05   2793.699674   \n",
              "...             ...          ...          ...           ...           ...   \n",
              "16974  4.092726e-12  3638.185506    60.000000  4.092726e-11  20244.754761   \n",
              "16975  2.728484e-12  7004.753648    60.000000  3.547029e-11  18222.773705   \n",
              "16976  2.728484e-12  6409.513773    60.000000  1.364242e-11  16450.497069   \n",
              "16977  0.000000e+00  6968.384797    60.000000  3.046807e-11  18065.238201   \n",
              "16978  9.094947e-13  2785.077873    60.000000  1.091394e-11  25155.802706   \n",
              "\n",
              "       ...          X108          X109         X110        X111         X112  \\\n",
              "0      ...  0.000000e+00  28029.169529  1342.168895  417.189824  1342.168895   \n",
              "1      ...  5.631425e-09  30563.739555  1240.044689  202.614287  1241.495401   \n",
              "2      ...  5.459875e-09  30314.480410  1241.163908  199.241768  1242.613313   \n",
              "3      ... -3.916484e-09  18537.891946  1239.841065  202.791349  1241.292014   \n",
              "4      ...  0.000000e+00  28022.323438  1341.938317  417.317344  1341.938317   \n",
              "...    ...           ...           ...          ...         ...          ...   \n",
              "16974  ...  0.000000e+00      1.000000    60.000000    0.000000    84.852814   \n",
              "16975  ...  0.000000e+00      1.000000    60.000000    0.000000    60.000000   \n",
              "16976  ...  0.000000e+00      1.000000    60.000000    0.000000    84.852814   \n",
              "16977  ...  0.000000e+00      1.000000    60.000000    0.000000    60.000000   \n",
              "16978  ...  0.000000e+00      1.000000    60.000000    0.000000    84.852814   \n",
              "\n",
              "                X113          X114          X115  Unnamed: 0  label  \n",
              "0      174047.349480  0.000000e+00  0.000000e+00     1103798    0.0  \n",
              "1       41052.549214 -2.261136e-11 -4.137248e-08     1237226    0.0  \n",
              "2       39697.282137 -1.435780e-11 -2.591779e-08      358725    0.0  \n",
              "3       41124.331373  1.417383e-11  2.377804e-08       67246    0.0  \n",
              "4      174153.765845  0.000000e+00  0.000000e+00      865153    0.0  \n",
              "...              ...           ...           ...         ...    ...  \n",
              "16974       0.000000  0.000000e+00  0.000000e+00     1382270    1.0  \n",
              "16975       0.000000  0.000000e+00  0.000000e+00     1370635    1.0  \n",
              "16976       0.000000  0.000000e+00  0.000000e+00     1366121    1.0  \n",
              "16977       0.000000  0.000000e+00  0.000000e+00     1370208    1.0  \n",
              "16978       0.000000  0.000000e+00  0.000000e+00     1437168    1.0  \n",
              "\n",
              "[16979 rows x 117 columns]"
            ],
            "text/html": [
              "\n",
              "  <div id=\"df-da39640b-5a2e-40a1-ba4d-61126e457583\">\n",
              "    <div class=\"colab-df-container\">\n",
              "      <div>\n",
              "<style scoped>\n",
              "    .dataframe tbody tr th:only-of-type {\n",
              "        vertical-align: middle;\n",
              "    }\n",
              "\n",
              "    .dataframe tbody tr th {\n",
              "        vertical-align: top;\n",
              "    }\n",
              "\n",
              "    .dataframe thead th {\n",
              "        text-align: right;\n",
              "    }\n",
              "</style>\n",
              "<table border=\"1\" class=\"dataframe\">\n",
              "  <thead>\n",
              "    <tr style=\"text-align: right;\">\n",
              "      <th></th>\n",
              "      <th>X1</th>\n",
              "      <th>X2</th>\n",
              "      <th>X3</th>\n",
              "      <th>X4</th>\n",
              "      <th>X5</th>\n",
              "      <th>X6</th>\n",
              "      <th>X7</th>\n",
              "      <th>X8</th>\n",
              "      <th>X9</th>\n",
              "      <th>X10</th>\n",
              "      <th>...</th>\n",
              "      <th>X108</th>\n",
              "      <th>X109</th>\n",
              "      <th>X110</th>\n",
              "      <th>X111</th>\n",
              "      <th>X112</th>\n",
              "      <th>X113</th>\n",
              "      <th>X114</th>\n",
              "      <th>X115</th>\n",
              "      <th>Unnamed: 0</th>\n",
              "      <th>label</th>\n",
              "    </tr>\n",
              "  </thead>\n",
              "  <tbody>\n",
              "    <tr>\n",
              "      <th>0</th>\n",
              "      <td>54.958150</td>\n",
              "      <td>1342.063565</td>\n",
              "      <td>1.791089e+05</td>\n",
              "      <td>93.643990</td>\n",
              "      <td>1347.231063</td>\n",
              "      <td>1.718131e+05</td>\n",
              "      <td>281.250017</td>\n",
              "      <td>1347.183100</td>\n",
              "      <td>1.686520e+05</td>\n",
              "      <td>2803.670400</td>\n",
              "      <td>...</td>\n",
              "      <td>0.000000e+00</td>\n",
              "      <td>28029.169529</td>\n",
              "      <td>1342.168895</td>\n",
              "      <td>417.189824</td>\n",
              "      <td>1342.168895</td>\n",
              "      <td>174047.349480</td>\n",
              "      <td>0.000000e+00</td>\n",
              "      <td>0.000000e+00</td>\n",
              "      <td>1103798</td>\n",
              "      <td>0.0</td>\n",
              "    </tr>\n",
              "    <tr>\n",
              "      <th>1</th>\n",
              "      <td>66.987036</td>\n",
              "      <td>1234.769201</td>\n",
              "      <td>4.625320e+04</td>\n",
              "      <td>108.689706</td>\n",
              "      <td>1236.386365</td>\n",
              "      <td>4.456408e+04</td>\n",
              "      <td>312.839312</td>\n",
              "      <td>1240.641836</td>\n",
              "      <td>3.960801e+04</td>\n",
              "      <td>3060.389365</td>\n",
              "      <td>...</td>\n",
              "      <td>5.631425e-09</td>\n",
              "      <td>30563.739555</td>\n",
              "      <td>1240.044689</td>\n",
              "      <td>202.614287</td>\n",
              "      <td>1241.495401</td>\n",
              "      <td>41052.549214</td>\n",
              "      <td>-2.261136e-11</td>\n",
              "      <td>-4.137248e-08</td>\n",
              "      <td>1237226</td>\n",
              "      <td>0.0</td>\n",
              "    </tr>\n",
              "    <tr>\n",
              "      <th>2</th>\n",
              "      <td>53.658092</td>\n",
              "      <td>1250.629446</td>\n",
              "      <td>2.819479e+04</td>\n",
              "      <td>95.036009</td>\n",
              "      <td>1244.657330</td>\n",
              "      <td>3.549190e+04</td>\n",
              "      <td>300.988513</td>\n",
              "      <td>1240.447234</td>\n",
              "      <td>4.164899e+04</td>\n",
              "      <td>3046.106294</td>\n",
              "      <td>...</td>\n",
              "      <td>5.459875e-09</td>\n",
              "      <td>30314.480410</td>\n",
              "      <td>1241.163908</td>\n",
              "      <td>199.241768</td>\n",
              "      <td>1242.613313</td>\n",
              "      <td>39697.282137</td>\n",
              "      <td>-1.435780e-11</td>\n",
              "      <td>-2.591779e-08</td>\n",
              "      <td>358725</td>\n",
              "      <td>0.0</td>\n",
              "    </tr>\n",
              "    <tr>\n",
              "      <th>3</th>\n",
              "      <td>71.121618</td>\n",
              "      <td>1239.033725</td>\n",
              "      <td>4.367263e+04</td>\n",
              "      <td>111.970910</td>\n",
              "      <td>1238.955263</td>\n",
              "      <td>4.297615e+04</td>\n",
              "      <td>314.542597</td>\n",
              "      <td>1239.340079</td>\n",
              "      <td>4.186156e+04</td>\n",
              "      <td>3061.901130</td>\n",
              "      <td>...</td>\n",
              "      <td>-3.916484e-09</td>\n",
              "      <td>18537.891946</td>\n",
              "      <td>1239.841065</td>\n",
              "      <td>202.791349</td>\n",
              "      <td>1241.292014</td>\n",
              "      <td>41124.331373</td>\n",
              "      <td>1.417383e-11</td>\n",
              "      <td>2.377804e-08</td>\n",
              "      <td>67246</td>\n",
              "      <td>0.0</td>\n",
              "    </tr>\n",
              "    <tr>\n",
              "      <th>4</th>\n",
              "      <td>45.967084</td>\n",
              "      <td>1325.526343</td>\n",
              "      <td>1.854069e+05</td>\n",
              "      <td>83.643401</td>\n",
              "      <td>1337.577621</td>\n",
              "      <td>1.763079e+05</td>\n",
              "      <td>270.888115</td>\n",
              "      <td>1343.512541</td>\n",
              "      <td>1.718346e+05</td>\n",
              "      <td>2793.699674</td>\n",
              "      <td>...</td>\n",
              "      <td>0.000000e+00</td>\n",
              "      <td>28022.323438</td>\n",
              "      <td>1341.938317</td>\n",
              "      <td>417.317344</td>\n",
              "      <td>1341.938317</td>\n",
              "      <td>174153.765845</td>\n",
              "      <td>0.000000e+00</td>\n",
              "      <td>0.000000e+00</td>\n",
              "      <td>865153</td>\n",
              "      <td>0.0</td>\n",
              "    </tr>\n",
              "    <tr>\n",
              "      <th>...</th>\n",
              "      <td>...</td>\n",
              "      <td>...</td>\n",
              "      <td>...</td>\n",
              "      <td>...</td>\n",
              "      <td>...</td>\n",
              "      <td>...</td>\n",
              "      <td>...</td>\n",
              "      <td>...</td>\n",
              "      <td>...</td>\n",
              "      <td>...</td>\n",
              "      <td>...</td>\n",
              "      <td>...</td>\n",
              "      <td>...</td>\n",
              "      <td>...</td>\n",
              "      <td>...</td>\n",
              "      <td>...</td>\n",
              "      <td>...</td>\n",
              "      <td>...</td>\n",
              "      <td>...</td>\n",
              "      <td>...</td>\n",
              "      <td>...</td>\n",
              "    </tr>\n",
              "    <tr>\n",
              "      <th>16974</th>\n",
              "      <td>432.234233</td>\n",
              "      <td>60.000000</td>\n",
              "      <td>1.000444e-11</td>\n",
              "      <td>781.511684</td>\n",
              "      <td>60.000000</td>\n",
              "      <td>4.092726e-12</td>\n",
              "      <td>3638.185506</td>\n",
              "      <td>60.000000</td>\n",
              "      <td>4.092726e-11</td>\n",
              "      <td>20244.754761</td>\n",
              "      <td>...</td>\n",
              "      <td>0.000000e+00</td>\n",
              "      <td>1.000000</td>\n",
              "      <td>60.000000</td>\n",
              "      <td>0.000000</td>\n",
              "      <td>84.852814</td>\n",
              "      <td>0.000000</td>\n",
              "      <td>0.000000e+00</td>\n",
              "      <td>0.000000e+00</td>\n",
              "      <td>1382270</td>\n",
              "      <td>1.0</td>\n",
              "    </tr>\n",
              "    <tr>\n",
              "      <th>16975</th>\n",
              "      <td>1794.595879</td>\n",
              "      <td>60.000000</td>\n",
              "      <td>2.410161e-11</td>\n",
              "      <td>2829.437759</td>\n",
              "      <td>60.000000</td>\n",
              "      <td>2.728484e-12</td>\n",
              "      <td>7004.753648</td>\n",
              "      <td>60.000000</td>\n",
              "      <td>3.547029e-11</td>\n",
              "      <td>18222.773705</td>\n",
              "      <td>...</td>\n",
              "      <td>0.000000e+00</td>\n",
              "      <td>1.000000</td>\n",
              "      <td>60.000000</td>\n",
              "      <td>0.000000</td>\n",
              "      <td>60.000000</td>\n",
              "      <td>0.000000</td>\n",
              "      <td>0.000000e+00</td>\n",
              "      <td>0.000000e+00</td>\n",
              "      <td>1370635</td>\n",
              "      <td>1.0</td>\n",
              "    </tr>\n",
              "    <tr>\n",
              "      <th>16976</th>\n",
              "      <td>1723.656885</td>\n",
              "      <td>60.000000</td>\n",
              "      <td>2.546585e-11</td>\n",
              "      <td>2590.220169</td>\n",
              "      <td>60.000000</td>\n",
              "      <td>2.728484e-12</td>\n",
              "      <td>6409.513773</td>\n",
              "      <td>60.000000</td>\n",
              "      <td>1.364242e-11</td>\n",
              "      <td>16450.497069</td>\n",
              "      <td>...</td>\n",
              "      <td>0.000000e+00</td>\n",
              "      <td>1.000000</td>\n",
              "      <td>60.000000</td>\n",
              "      <td>0.000000</td>\n",
              "      <td>84.852814</td>\n",
              "      <td>0.000000</td>\n",
              "      <td>0.000000e+00</td>\n",
              "      <td>0.000000e+00</td>\n",
              "      <td>1366121</td>\n",
              "      <td>1.0</td>\n",
              "    </tr>\n",
              "    <tr>\n",
              "      <th>16977</th>\n",
              "      <td>1806.094652</td>\n",
              "      <td>60.000000</td>\n",
              "      <td>1.273293e-11</td>\n",
              "      <td>2828.539593</td>\n",
              "      <td>60.000000</td>\n",
              "      <td>0.000000e+00</td>\n",
              "      <td>6968.384797</td>\n",
              "      <td>60.000000</td>\n",
              "      <td>3.046807e-11</td>\n",
              "      <td>18065.238201</td>\n",
              "      <td>...</td>\n",
              "      <td>0.000000e+00</td>\n",
              "      <td>1.000000</td>\n",
              "      <td>60.000000</td>\n",
              "      <td>0.000000</td>\n",
              "      <td>60.000000</td>\n",
              "      <td>0.000000</td>\n",
              "      <td>0.000000e+00</td>\n",
              "      <td>0.000000e+00</td>\n",
              "      <td>1370208</td>\n",
              "      <td>1.0</td>\n",
              "    </tr>\n",
              "    <tr>\n",
              "      <th>16978</th>\n",
              "      <td>666.862572</td>\n",
              "      <td>60.000000</td>\n",
              "      <td>2.728484e-12</td>\n",
              "      <td>1042.228690</td>\n",
              "      <td>60.000000</td>\n",
              "      <td>9.094947e-13</td>\n",
              "      <td>2785.077873</td>\n",
              "      <td>60.000000</td>\n",
              "      <td>1.091394e-11</td>\n",
              "      <td>25155.802706</td>\n",
              "      <td>...</td>\n",
              "      <td>0.000000e+00</td>\n",
              "      <td>1.000000</td>\n",
              "      <td>60.000000</td>\n",
              "      <td>0.000000</td>\n",
              "      <td>84.852814</td>\n",
              "      <td>0.000000</td>\n",
              "      <td>0.000000e+00</td>\n",
              "      <td>0.000000e+00</td>\n",
              "      <td>1437168</td>\n",
              "      <td>1.0</td>\n",
              "    </tr>\n",
              "  </tbody>\n",
              "</table>\n",
              "<p>16979 rows × 117 columns</p>\n",
              "</div>\n",
              "      <button class=\"colab-df-convert\" onclick=\"convertToInteractive('df-da39640b-5a2e-40a1-ba4d-61126e457583')\"\n",
              "              title=\"Convert this dataframe to an interactive table.\"\n",
              "              style=\"display:none;\">\n",
              "        \n",
              "  <svg xmlns=\"http://www.w3.org/2000/svg\" height=\"24px\"viewBox=\"0 0 24 24\"\n",
              "       width=\"24px\">\n",
              "    <path d=\"M0 0h24v24H0V0z\" fill=\"none\"/>\n",
              "    <path d=\"M18.56 5.44l.94 2.06.94-2.06 2.06-.94-2.06-.94-.94-2.06-.94 2.06-2.06.94zm-11 1L8.5 8.5l.94-2.06 2.06-.94-2.06-.94L8.5 2.5l-.94 2.06-2.06.94zm10 10l.94 2.06.94-2.06 2.06-.94-2.06-.94-.94-2.06-.94 2.06-2.06.94z\"/><path d=\"M17.41 7.96l-1.37-1.37c-.4-.4-.92-.59-1.43-.59-.52 0-1.04.2-1.43.59L10.3 9.45l-7.72 7.72c-.78.78-.78 2.05 0 2.83L4 21.41c.39.39.9.59 1.41.59.51 0 1.02-.2 1.41-.59l7.78-7.78 2.81-2.81c.8-.78.8-2.07 0-2.86zM5.41 20L4 18.59l7.72-7.72 1.47 1.35L5.41 20z\"/>\n",
              "  </svg>\n",
              "      </button>\n",
              "      \n",
              "  <style>\n",
              "    .colab-df-container {\n",
              "      display:flex;\n",
              "      flex-wrap:wrap;\n",
              "      gap: 12px;\n",
              "    }\n",
              "\n",
              "    .colab-df-convert {\n",
              "      background-color: #E8F0FE;\n",
              "      border: none;\n",
              "      border-radius: 50%;\n",
              "      cursor: pointer;\n",
              "      display: none;\n",
              "      fill: #1967D2;\n",
              "      height: 32px;\n",
              "      padding: 0 0 0 0;\n",
              "      width: 32px;\n",
              "    }\n",
              "\n",
              "    .colab-df-convert:hover {\n",
              "      background-color: #E2EBFA;\n",
              "      box-shadow: 0px 1px 2px rgba(60, 64, 67, 0.3), 0px 1px 3px 1px rgba(60, 64, 67, 0.15);\n",
              "      fill: #174EA6;\n",
              "    }\n",
              "\n",
              "    [theme=dark] .colab-df-convert {\n",
              "      background-color: #3B4455;\n",
              "      fill: #D2E3FC;\n",
              "    }\n",
              "\n",
              "    [theme=dark] .colab-df-convert:hover {\n",
              "      background-color: #434B5C;\n",
              "      box-shadow: 0px 1px 3px 1px rgba(0, 0, 0, 0.15);\n",
              "      filter: drop-shadow(0px 1px 2px rgba(0, 0, 0, 0.3));\n",
              "      fill: #FFFFFF;\n",
              "    }\n",
              "  </style>\n",
              "\n",
              "      <script>\n",
              "        const buttonEl =\n",
              "          document.querySelector('#df-da39640b-5a2e-40a1-ba4d-61126e457583 button.colab-df-convert');\n",
              "        buttonEl.style.display =\n",
              "          google.colab.kernel.accessAllowed ? 'block' : 'none';\n",
              "\n",
              "        async function convertToInteractive(key) {\n",
              "          const element = document.querySelector('#df-da39640b-5a2e-40a1-ba4d-61126e457583');\n",
              "          const dataTable =\n",
              "            await google.colab.kernel.invokeFunction('convertToInteractive',\n",
              "                                                     [key], {});\n",
              "          if (!dataTable) return;\n",
              "\n",
              "          const docLinkHtml = 'Like what you see? Visit the ' +\n",
              "            '<a target=\"_blank\" href=https://colab.research.google.com/notebooks/data_table.ipynb>data table notebook</a>'\n",
              "            + ' to learn more about interactive tables.';\n",
              "          element.innerHTML = '';\n",
              "          dataTable['output_type'] = 'display_data';\n",
              "          await google.colab.output.renderOutput(dataTable, element);\n",
              "          const docLink = document.createElement('div');\n",
              "          docLink.innerHTML = docLinkHtml;\n",
              "          element.appendChild(docLink);\n",
              "        }\n",
              "      </script>\n",
              "    </div>\n",
              "  </div>\n",
              "  "
            ]
          },
          "metadata": {},
          "execution_count": 7
        }
      ],
      "source": [
        "# sampling data taking only 50% of the data\n",
        "# bin_data = bin_data_total.groupby('label', group_keys=False).apply(lambda x: x.sample(frac=0.5))\n",
        "bin_data = bin_data_total\n",
        "bin_data"
      ]
    },
    {
      "cell_type": "code",
      "source": [
        "number_of_cols = bin_data.shape[1]"
      ],
      "metadata": {
        "id": "N125Cc3Ukt8h"
      },
      "execution_count": 8,
      "outputs": []
    },
    {
      "cell_type": "code",
      "execution_count": 9,
      "metadata": {
        "id": "nKX2TRG0J85J",
        "colab": {
          "base_uri": "https://localhost:8080/"
        },
        "outputId": "4de8d149-7c66-4965-c1ce-40165be4fea2"
      },
      "outputs": [
        {
          "output_type": "execute_result",
          "data": {
            "text/plain": [
              "0.0    0.961305\n",
              "1.0    0.038695\n",
              "Name: label, dtype: float64"
            ]
          },
          "metadata": {},
          "execution_count": 9
        }
      ],
      "source": [
        "# distribution of label class after sampling\n",
        "data_size = bin_data.shape[0]\n",
        "bin_data.label.value_counts()/data_size"
      ]
    },
    {
      "cell_type": "code",
      "execution_count": 10,
      "metadata": {
        "id": "L11T2MepDzax"
      },
      "outputs": [],
      "source": [
        "model_selection = {\n",
        "    0 : \"ALL\",\n",
        "    2 : \"MLP\",\n",
        "    3 : \"LSTM\",\n",
        "    4 : \"AE\"\n",
        "}\n",
        "model_flag = 0\n",
        "svm_enable = 1"
      ]
    },
    {
      "cell_type": "code",
      "execution_count": 11,
      "metadata": {
        "id": "OdRAXVlsxUVW"
      },
      "outputs": [],
      "source": [
        "X = bin_data.iloc[:,0:number_of_cols] # dataset excluding target attribute (encoded, one-hot-encoded,original)\n",
        "Y = bin_data['label'] # target attribute"
      ]
    },
    {
      "cell_type": "code",
      "execution_count": 12,
      "metadata": {
        "id": "lFdHHvRtxU5B"
      },
      "outputs": [],
      "source": [
        "# splitting the dataset 75% for training and 25% testing\n",
        "X_train, X_test, y_train, y_test = train_test_split(X,Y, test_size=0.25, random_state=42) "
      ]
    },
    {
      "cell_type": "code",
      "source": [
        "# calling the normalization() function\n",
        "X_train = normalization_train(X_train,numeric_cols)\n",
        "X_train.head()"
      ],
      "metadata": {
        "id": "SLLlMtsaYJdK",
        "colab": {
          "base_uri": "https://localhost:8080/",
          "height": 404
        },
        "outputId": "7436e5b6-df91-4396-8018-cc81c80de6d6"
      },
      "execution_count": 13,
      "outputs": [
        {
          "output_type": "execute_result",
          "data": {
            "text/plain": [
              "             X1            X2            X3        X4            X5  \\\n",
              "8019   0.008145  2.012279e-16  4.594307e-18  0.011571  2.081668e-16   \n",
              "11958  0.025133  9.563047e-01  6.629782e-01  0.030105  9.680755e-01   \n",
              "7563   0.019242  9.117859e-01  8.491086e-01  0.025504  9.403765e-01   \n",
              "8046   0.021886  8.996973e-01  1.097116e-01  0.028806  9.091257e-01   \n",
              "6535   0.022587  9.019510e-01  8.810102e-02  0.030419  9.066210e-01   \n",
              "\n",
              "                 X6        X7            X8            X9       X10  ...  \\\n",
              "8019   1.087246e-17  0.017156  3.816392e-16  1.574648e-17  0.044900  ...   \n",
              "11958  6.472688e-01  0.038483  9.872673e-01  6.177888e-01  0.093973  ...   \n",
              "7563   7.698193e-01  0.036525  9.771874e-01  6.696007e-01  0.093593  ...   \n",
              "8046   1.050649e-01  0.040088  9.180940e-01  1.117924e-01  0.101618  ...   \n",
              "6535   1.094677e-01  0.041561  9.143790e-01  1.283640e-01  0.102179  ...   \n",
              "\n",
              "           X108      X109          X110          X111      X112      X113  \\\n",
              "8019   0.612504  0.441612  1.609823e-15  1.820131e-08  0.915196  0.140630   \n",
              "11958  0.617746  0.814097  9.923437e-01  7.797367e-01  0.992344  0.607989   \n",
              "7563   0.617746  0.914781  9.923303e-01  7.805755e-01  0.992330  0.609298   \n",
              "8046   0.544963  0.995490  9.144577e-01  3.733398e-01  0.915580  0.139383   \n",
              "6535   0.637121  0.997333  9.139366e-01  3.759590e-01  0.915060  0.141345   \n",
              "\n",
              "           X114      X115  Unnamed: 0  label  \n",
              "8019   0.995232  0.619580    0.640342    0.0  \n",
              "11958  0.500428  0.575493    0.093552    0.0  \n",
              "7563   0.500428  0.575493    0.621423    0.0  \n",
              "8046   0.545521  0.588225    0.309422    0.0  \n",
              "6535   0.586781  0.602402    0.892015    0.0  \n",
              "\n",
              "[5 rows x 117 columns]"
            ],
            "text/html": [
              "\n",
              "  <div id=\"df-97ccc1f1-7928-4e5e-93d9-28e2e9c1c998\">\n",
              "    <div class=\"colab-df-container\">\n",
              "      <div>\n",
              "<style scoped>\n",
              "    .dataframe tbody tr th:only-of-type {\n",
              "        vertical-align: middle;\n",
              "    }\n",
              "\n",
              "    .dataframe tbody tr th {\n",
              "        vertical-align: top;\n",
              "    }\n",
              "\n",
              "    .dataframe thead th {\n",
              "        text-align: right;\n",
              "    }\n",
              "</style>\n",
              "<table border=\"1\" class=\"dataframe\">\n",
              "  <thead>\n",
              "    <tr style=\"text-align: right;\">\n",
              "      <th></th>\n",
              "      <th>X1</th>\n",
              "      <th>X2</th>\n",
              "      <th>X3</th>\n",
              "      <th>X4</th>\n",
              "      <th>X5</th>\n",
              "      <th>X6</th>\n",
              "      <th>X7</th>\n",
              "      <th>X8</th>\n",
              "      <th>X9</th>\n",
              "      <th>X10</th>\n",
              "      <th>...</th>\n",
              "      <th>X108</th>\n",
              "      <th>X109</th>\n",
              "      <th>X110</th>\n",
              "      <th>X111</th>\n",
              "      <th>X112</th>\n",
              "      <th>X113</th>\n",
              "      <th>X114</th>\n",
              "      <th>X115</th>\n",
              "      <th>Unnamed: 0</th>\n",
              "      <th>label</th>\n",
              "    </tr>\n",
              "  </thead>\n",
              "  <tbody>\n",
              "    <tr>\n",
              "      <th>8019</th>\n",
              "      <td>0.008145</td>\n",
              "      <td>2.012279e-16</td>\n",
              "      <td>4.594307e-18</td>\n",
              "      <td>0.011571</td>\n",
              "      <td>2.081668e-16</td>\n",
              "      <td>1.087246e-17</td>\n",
              "      <td>0.017156</td>\n",
              "      <td>3.816392e-16</td>\n",
              "      <td>1.574648e-17</td>\n",
              "      <td>0.044900</td>\n",
              "      <td>...</td>\n",
              "      <td>0.612504</td>\n",
              "      <td>0.441612</td>\n",
              "      <td>1.609823e-15</td>\n",
              "      <td>1.820131e-08</td>\n",
              "      <td>0.915196</td>\n",
              "      <td>0.140630</td>\n",
              "      <td>0.995232</td>\n",
              "      <td>0.619580</td>\n",
              "      <td>0.640342</td>\n",
              "      <td>0.0</td>\n",
              "    </tr>\n",
              "    <tr>\n",
              "      <th>11958</th>\n",
              "      <td>0.025133</td>\n",
              "      <td>9.563047e-01</td>\n",
              "      <td>6.629782e-01</td>\n",
              "      <td>0.030105</td>\n",
              "      <td>9.680755e-01</td>\n",
              "      <td>6.472688e-01</td>\n",
              "      <td>0.038483</td>\n",
              "      <td>9.872673e-01</td>\n",
              "      <td>6.177888e-01</td>\n",
              "      <td>0.093973</td>\n",
              "      <td>...</td>\n",
              "      <td>0.617746</td>\n",
              "      <td>0.814097</td>\n",
              "      <td>9.923437e-01</td>\n",
              "      <td>7.797367e-01</td>\n",
              "      <td>0.992344</td>\n",
              "      <td>0.607989</td>\n",
              "      <td>0.500428</td>\n",
              "      <td>0.575493</td>\n",
              "      <td>0.093552</td>\n",
              "      <td>0.0</td>\n",
              "    </tr>\n",
              "    <tr>\n",
              "      <th>7563</th>\n",
              "      <td>0.019242</td>\n",
              "      <td>9.117859e-01</td>\n",
              "      <td>8.491086e-01</td>\n",
              "      <td>0.025504</td>\n",
              "      <td>9.403765e-01</td>\n",
              "      <td>7.698193e-01</td>\n",
              "      <td>0.036525</td>\n",
              "      <td>9.771874e-01</td>\n",
              "      <td>6.696007e-01</td>\n",
              "      <td>0.093593</td>\n",
              "      <td>...</td>\n",
              "      <td>0.617746</td>\n",
              "      <td>0.914781</td>\n",
              "      <td>9.923303e-01</td>\n",
              "      <td>7.805755e-01</td>\n",
              "      <td>0.992330</td>\n",
              "      <td>0.609298</td>\n",
              "      <td>0.500428</td>\n",
              "      <td>0.575493</td>\n",
              "      <td>0.621423</td>\n",
              "      <td>0.0</td>\n",
              "    </tr>\n",
              "    <tr>\n",
              "      <th>8046</th>\n",
              "      <td>0.021886</td>\n",
              "      <td>8.996973e-01</td>\n",
              "      <td>1.097116e-01</td>\n",
              "      <td>0.028806</td>\n",
              "      <td>9.091257e-01</td>\n",
              "      <td>1.050649e-01</td>\n",
              "      <td>0.040088</td>\n",
              "      <td>9.180940e-01</td>\n",
              "      <td>1.117924e-01</td>\n",
              "      <td>0.101618</td>\n",
              "      <td>...</td>\n",
              "      <td>0.544963</td>\n",
              "      <td>0.995490</td>\n",
              "      <td>9.144577e-01</td>\n",
              "      <td>3.733398e-01</td>\n",
              "      <td>0.915580</td>\n",
              "      <td>0.139383</td>\n",
              "      <td>0.545521</td>\n",
              "      <td>0.588225</td>\n",
              "      <td>0.309422</td>\n",
              "      <td>0.0</td>\n",
              "    </tr>\n",
              "    <tr>\n",
              "      <th>6535</th>\n",
              "      <td>0.022587</td>\n",
              "      <td>9.019510e-01</td>\n",
              "      <td>8.810102e-02</td>\n",
              "      <td>0.030419</td>\n",
              "      <td>9.066210e-01</td>\n",
              "      <td>1.094677e-01</td>\n",
              "      <td>0.041561</td>\n",
              "      <td>9.143790e-01</td>\n",
              "      <td>1.283640e-01</td>\n",
              "      <td>0.102179</td>\n",
              "      <td>...</td>\n",
              "      <td>0.637121</td>\n",
              "      <td>0.997333</td>\n",
              "      <td>9.139366e-01</td>\n",
              "      <td>3.759590e-01</td>\n",
              "      <td>0.915060</td>\n",
              "      <td>0.141345</td>\n",
              "      <td>0.586781</td>\n",
              "      <td>0.602402</td>\n",
              "      <td>0.892015</td>\n",
              "      <td>0.0</td>\n",
              "    </tr>\n",
              "  </tbody>\n",
              "</table>\n",
              "<p>5 rows × 117 columns</p>\n",
              "</div>\n",
              "      <button class=\"colab-df-convert\" onclick=\"convertToInteractive('df-97ccc1f1-7928-4e5e-93d9-28e2e9c1c998')\"\n",
              "              title=\"Convert this dataframe to an interactive table.\"\n",
              "              style=\"display:none;\">\n",
              "        \n",
              "  <svg xmlns=\"http://www.w3.org/2000/svg\" height=\"24px\"viewBox=\"0 0 24 24\"\n",
              "       width=\"24px\">\n",
              "    <path d=\"M0 0h24v24H0V0z\" fill=\"none\"/>\n",
              "    <path d=\"M18.56 5.44l.94 2.06.94-2.06 2.06-.94-2.06-.94-.94-2.06-.94 2.06-2.06.94zm-11 1L8.5 8.5l.94-2.06 2.06-.94-2.06-.94L8.5 2.5l-.94 2.06-2.06.94zm10 10l.94 2.06.94-2.06 2.06-.94-2.06-.94-.94-2.06-.94 2.06-2.06.94z\"/><path d=\"M17.41 7.96l-1.37-1.37c-.4-.4-.92-.59-1.43-.59-.52 0-1.04.2-1.43.59L10.3 9.45l-7.72 7.72c-.78.78-.78 2.05 0 2.83L4 21.41c.39.39.9.59 1.41.59.51 0 1.02-.2 1.41-.59l7.78-7.78 2.81-2.81c.8-.78.8-2.07 0-2.86zM5.41 20L4 18.59l7.72-7.72 1.47 1.35L5.41 20z\"/>\n",
              "  </svg>\n",
              "      </button>\n",
              "      \n",
              "  <style>\n",
              "    .colab-df-container {\n",
              "      display:flex;\n",
              "      flex-wrap:wrap;\n",
              "      gap: 12px;\n",
              "    }\n",
              "\n",
              "    .colab-df-convert {\n",
              "      background-color: #E8F0FE;\n",
              "      border: none;\n",
              "      border-radius: 50%;\n",
              "      cursor: pointer;\n",
              "      display: none;\n",
              "      fill: #1967D2;\n",
              "      height: 32px;\n",
              "      padding: 0 0 0 0;\n",
              "      width: 32px;\n",
              "    }\n",
              "\n",
              "    .colab-df-convert:hover {\n",
              "      background-color: #E2EBFA;\n",
              "      box-shadow: 0px 1px 2px rgba(60, 64, 67, 0.3), 0px 1px 3px 1px rgba(60, 64, 67, 0.15);\n",
              "      fill: #174EA6;\n",
              "    }\n",
              "\n",
              "    [theme=dark] .colab-df-convert {\n",
              "      background-color: #3B4455;\n",
              "      fill: #D2E3FC;\n",
              "    }\n",
              "\n",
              "    [theme=dark] .colab-df-convert:hover {\n",
              "      background-color: #434B5C;\n",
              "      box-shadow: 0px 1px 3px 1px rgba(0, 0, 0, 0.15);\n",
              "      filter: drop-shadow(0px 1px 2px rgba(0, 0, 0, 0.3));\n",
              "      fill: #FFFFFF;\n",
              "    }\n",
              "  </style>\n",
              "\n",
              "      <script>\n",
              "        const buttonEl =\n",
              "          document.querySelector('#df-97ccc1f1-7928-4e5e-93d9-28e2e9c1c998 button.colab-df-convert');\n",
              "        buttonEl.style.display =\n",
              "          google.colab.kernel.accessAllowed ? 'block' : 'none';\n",
              "\n",
              "        async function convertToInteractive(key) {\n",
              "          const element = document.querySelector('#df-97ccc1f1-7928-4e5e-93d9-28e2e9c1c998');\n",
              "          const dataTable =\n",
              "            await google.colab.kernel.invokeFunction('convertToInteractive',\n",
              "                                                     [key], {});\n",
              "          if (!dataTable) return;\n",
              "\n",
              "          const docLinkHtml = 'Like what you see? Visit the ' +\n",
              "            '<a target=\"_blank\" href=https://colab.research.google.com/notebooks/data_table.ipynb>data table notebook</a>'\n",
              "            + ' to learn more about interactive tables.';\n",
              "          element.innerHTML = '';\n",
              "          dataTable['output_type'] = 'display_data';\n",
              "          await google.colab.output.renderOutput(dataTable, element);\n",
              "          const docLink = document.createElement('div');\n",
              "          docLink.innerHTML = docLinkHtml;\n",
              "          element.appendChild(docLink);\n",
              "        }\n",
              "      </script>\n",
              "    </div>\n",
              "  </div>\n",
              "  "
            ]
          },
          "metadata": {},
          "execution_count": 13
        }
      ]
    },
    {
      "cell_type": "code",
      "source": [
        "# calling the normalization() function\n",
        "X_test = normalization_test(X_test,numeric_cols)\n",
        "X_test.head()"
      ],
      "metadata": {
        "id": "EKmhgZCobPU3",
        "colab": {
          "base_uri": "https://localhost:8080/",
          "height": 317
        },
        "outputId": "3122d3e1-b458-4fc4-d37f-e7355e4710a9"
      },
      "execution_count": 14,
      "outputs": [
        {
          "output_type": "execute_result",
          "data": {
            "text/plain": [
              "             X1        X2        X3        X4        X5        X6        X7  \\\n",
              "9567   0.000008  0.000707  0.019993  0.000033  0.000706  0.021007  0.000154   \n",
              "5589   0.000011  0.000706  0.022572  0.000033  0.000706  0.022485  0.000150   \n",
              "12114 -0.000012  0.000008 -0.000027 -0.000001  0.000008 -0.000027  0.000052   \n",
              "6649   0.000018  0.000777  0.096947  0.000039  0.000771  0.099722  0.000149   \n",
              "3860   0.000019  0.000699  0.030646  0.000042  0.000700  0.029540  0.000160   \n",
              "\n",
              "             X8        X9       X10  ...      X108      X109      X110  \\\n",
              "9567   0.000705  0.022620  0.001774  ... -0.000027  0.017976  0.000703   \n",
              "5589   0.000704  0.023520  0.001767  ... -0.000027  0.017958  0.000704   \n",
              "12114  0.000008 -0.000027  0.000772  ... -0.000027  0.007964  0.000008   \n",
              "6649   0.000765  0.101965  0.001637  ... -0.000027  0.016491  0.000763   \n",
              "3860   0.000701  0.027178  0.001780  ... -0.000027  0.017982  0.000703   \n",
              "\n",
              "           X111      X112      X113      X114      X115  Unnamed: 0  label  \n",
              "9567   0.000092  0.000704  0.024173 -0.000027 -0.000027    0.550712    0.0  \n",
              "5589   0.000091  0.000705  0.023707 -0.000027 -0.000027    0.423508    0.0  \n",
              "12114 -0.000027  0.000705  0.023234 -0.000027 -0.000027    0.469737    0.0  \n",
              "6649   0.000219  0.000763  0.102887 -0.000027 -0.000027    0.320169    0.0  \n",
              "3860   0.000092  0.000704  0.024225 -0.000027 -0.000027    0.550315    0.0  \n",
              "\n",
              "[5 rows x 117 columns]"
            ],
            "text/html": [
              "\n",
              "  <div id=\"df-c762bbc8-342c-4193-a013-8068e7a3fbb8\">\n",
              "    <div class=\"colab-df-container\">\n",
              "      <div>\n",
              "<style scoped>\n",
              "    .dataframe tbody tr th:only-of-type {\n",
              "        vertical-align: middle;\n",
              "    }\n",
              "\n",
              "    .dataframe tbody tr th {\n",
              "        vertical-align: top;\n",
              "    }\n",
              "\n",
              "    .dataframe thead th {\n",
              "        text-align: right;\n",
              "    }\n",
              "</style>\n",
              "<table border=\"1\" class=\"dataframe\">\n",
              "  <thead>\n",
              "    <tr style=\"text-align: right;\">\n",
              "      <th></th>\n",
              "      <th>X1</th>\n",
              "      <th>X2</th>\n",
              "      <th>X3</th>\n",
              "      <th>X4</th>\n",
              "      <th>X5</th>\n",
              "      <th>X6</th>\n",
              "      <th>X7</th>\n",
              "      <th>X8</th>\n",
              "      <th>X9</th>\n",
              "      <th>X10</th>\n",
              "      <th>...</th>\n",
              "      <th>X108</th>\n",
              "      <th>X109</th>\n",
              "      <th>X110</th>\n",
              "      <th>X111</th>\n",
              "      <th>X112</th>\n",
              "      <th>X113</th>\n",
              "      <th>X114</th>\n",
              "      <th>X115</th>\n",
              "      <th>Unnamed: 0</th>\n",
              "      <th>label</th>\n",
              "    </tr>\n",
              "  </thead>\n",
              "  <tbody>\n",
              "    <tr>\n",
              "      <th>9567</th>\n",
              "      <td>0.000008</td>\n",
              "      <td>0.000707</td>\n",
              "      <td>0.019993</td>\n",
              "      <td>0.000033</td>\n",
              "      <td>0.000706</td>\n",
              "      <td>0.021007</td>\n",
              "      <td>0.000154</td>\n",
              "      <td>0.000705</td>\n",
              "      <td>0.022620</td>\n",
              "      <td>0.001774</td>\n",
              "      <td>...</td>\n",
              "      <td>-0.000027</td>\n",
              "      <td>0.017976</td>\n",
              "      <td>0.000703</td>\n",
              "      <td>0.000092</td>\n",
              "      <td>0.000704</td>\n",
              "      <td>0.024173</td>\n",
              "      <td>-0.000027</td>\n",
              "      <td>-0.000027</td>\n",
              "      <td>0.550712</td>\n",
              "      <td>0.0</td>\n",
              "    </tr>\n",
              "    <tr>\n",
              "      <th>5589</th>\n",
              "      <td>0.000011</td>\n",
              "      <td>0.000706</td>\n",
              "      <td>0.022572</td>\n",
              "      <td>0.000033</td>\n",
              "      <td>0.000706</td>\n",
              "      <td>0.022485</td>\n",
              "      <td>0.000150</td>\n",
              "      <td>0.000704</td>\n",
              "      <td>0.023520</td>\n",
              "      <td>0.001767</td>\n",
              "      <td>...</td>\n",
              "      <td>-0.000027</td>\n",
              "      <td>0.017958</td>\n",
              "      <td>0.000704</td>\n",
              "      <td>0.000091</td>\n",
              "      <td>0.000705</td>\n",
              "      <td>0.023707</td>\n",
              "      <td>-0.000027</td>\n",
              "      <td>-0.000027</td>\n",
              "      <td>0.423508</td>\n",
              "      <td>0.0</td>\n",
              "    </tr>\n",
              "    <tr>\n",
              "      <th>12114</th>\n",
              "      <td>-0.000012</td>\n",
              "      <td>0.000008</td>\n",
              "      <td>-0.000027</td>\n",
              "      <td>-0.000001</td>\n",
              "      <td>0.000008</td>\n",
              "      <td>-0.000027</td>\n",
              "      <td>0.000052</td>\n",
              "      <td>0.000008</td>\n",
              "      <td>-0.000027</td>\n",
              "      <td>0.000772</td>\n",
              "      <td>...</td>\n",
              "      <td>-0.000027</td>\n",
              "      <td>0.007964</td>\n",
              "      <td>0.000008</td>\n",
              "      <td>-0.000027</td>\n",
              "      <td>0.000705</td>\n",
              "      <td>0.023234</td>\n",
              "      <td>-0.000027</td>\n",
              "      <td>-0.000027</td>\n",
              "      <td>0.469737</td>\n",
              "      <td>0.0</td>\n",
              "    </tr>\n",
              "    <tr>\n",
              "      <th>6649</th>\n",
              "      <td>0.000018</td>\n",
              "      <td>0.000777</td>\n",
              "      <td>0.096947</td>\n",
              "      <td>0.000039</td>\n",
              "      <td>0.000771</td>\n",
              "      <td>0.099722</td>\n",
              "      <td>0.000149</td>\n",
              "      <td>0.000765</td>\n",
              "      <td>0.101965</td>\n",
              "      <td>0.001637</td>\n",
              "      <td>...</td>\n",
              "      <td>-0.000027</td>\n",
              "      <td>0.016491</td>\n",
              "      <td>0.000763</td>\n",
              "      <td>0.000219</td>\n",
              "      <td>0.000763</td>\n",
              "      <td>0.102887</td>\n",
              "      <td>-0.000027</td>\n",
              "      <td>-0.000027</td>\n",
              "      <td>0.320169</td>\n",
              "      <td>0.0</td>\n",
              "    </tr>\n",
              "    <tr>\n",
              "      <th>3860</th>\n",
              "      <td>0.000019</td>\n",
              "      <td>0.000699</td>\n",
              "      <td>0.030646</td>\n",
              "      <td>0.000042</td>\n",
              "      <td>0.000700</td>\n",
              "      <td>0.029540</td>\n",
              "      <td>0.000160</td>\n",
              "      <td>0.000701</td>\n",
              "      <td>0.027178</td>\n",
              "      <td>0.001780</td>\n",
              "      <td>...</td>\n",
              "      <td>-0.000027</td>\n",
              "      <td>0.017982</td>\n",
              "      <td>0.000703</td>\n",
              "      <td>0.000092</td>\n",
              "      <td>0.000704</td>\n",
              "      <td>0.024225</td>\n",
              "      <td>-0.000027</td>\n",
              "      <td>-0.000027</td>\n",
              "      <td>0.550315</td>\n",
              "      <td>0.0</td>\n",
              "    </tr>\n",
              "  </tbody>\n",
              "</table>\n",
              "<p>5 rows × 117 columns</p>\n",
              "</div>\n",
              "      <button class=\"colab-df-convert\" onclick=\"convertToInteractive('df-c762bbc8-342c-4193-a013-8068e7a3fbb8')\"\n",
              "              title=\"Convert this dataframe to an interactive table.\"\n",
              "              style=\"display:none;\">\n",
              "        \n",
              "  <svg xmlns=\"http://www.w3.org/2000/svg\" height=\"24px\"viewBox=\"0 0 24 24\"\n",
              "       width=\"24px\">\n",
              "    <path d=\"M0 0h24v24H0V0z\" fill=\"none\"/>\n",
              "    <path d=\"M18.56 5.44l.94 2.06.94-2.06 2.06-.94-2.06-.94-.94-2.06-.94 2.06-2.06.94zm-11 1L8.5 8.5l.94-2.06 2.06-.94-2.06-.94L8.5 2.5l-.94 2.06-2.06.94zm10 10l.94 2.06.94-2.06 2.06-.94-2.06-.94-.94-2.06-.94 2.06-2.06.94z\"/><path d=\"M17.41 7.96l-1.37-1.37c-.4-.4-.92-.59-1.43-.59-.52 0-1.04.2-1.43.59L10.3 9.45l-7.72 7.72c-.78.78-.78 2.05 0 2.83L4 21.41c.39.39.9.59 1.41.59.51 0 1.02-.2 1.41-.59l7.78-7.78 2.81-2.81c.8-.78.8-2.07 0-2.86zM5.41 20L4 18.59l7.72-7.72 1.47 1.35L5.41 20z\"/>\n",
              "  </svg>\n",
              "      </button>\n",
              "      \n",
              "  <style>\n",
              "    .colab-df-container {\n",
              "      display:flex;\n",
              "      flex-wrap:wrap;\n",
              "      gap: 12px;\n",
              "    }\n",
              "\n",
              "    .colab-df-convert {\n",
              "      background-color: #E8F0FE;\n",
              "      border: none;\n",
              "      border-radius: 50%;\n",
              "      cursor: pointer;\n",
              "      display: none;\n",
              "      fill: #1967D2;\n",
              "      height: 32px;\n",
              "      padding: 0 0 0 0;\n",
              "      width: 32px;\n",
              "    }\n",
              "\n",
              "    .colab-df-convert:hover {\n",
              "      background-color: #E2EBFA;\n",
              "      box-shadow: 0px 1px 2px rgba(60, 64, 67, 0.3), 0px 1px 3px 1px rgba(60, 64, 67, 0.15);\n",
              "      fill: #174EA6;\n",
              "    }\n",
              "\n",
              "    [theme=dark] .colab-df-convert {\n",
              "      background-color: #3B4455;\n",
              "      fill: #D2E3FC;\n",
              "    }\n",
              "\n",
              "    [theme=dark] .colab-df-convert:hover {\n",
              "      background-color: #434B5C;\n",
              "      box-shadow: 0px 1px 3px 1px rgba(0, 0, 0, 0.15);\n",
              "      filter: drop-shadow(0px 1px 2px rgba(0, 0, 0, 0.3));\n",
              "      fill: #FFFFFF;\n",
              "    }\n",
              "  </style>\n",
              "\n",
              "      <script>\n",
              "        const buttonEl =\n",
              "          document.querySelector('#df-c762bbc8-342c-4193-a013-8068e7a3fbb8 button.colab-df-convert');\n",
              "        buttonEl.style.display =\n",
              "          google.colab.kernel.accessAllowed ? 'block' : 'none';\n",
              "\n",
              "        async function convertToInteractive(key) {\n",
              "          const element = document.querySelector('#df-c762bbc8-342c-4193-a013-8068e7a3fbb8');\n",
              "          const dataTable =\n",
              "            await google.colab.kernel.invokeFunction('convertToInteractive',\n",
              "                                                     [key], {});\n",
              "          if (!dataTable) return;\n",
              "\n",
              "          const docLinkHtml = 'Like what you see? Visit the ' +\n",
              "            '<a target=\"_blank\" href=https://colab.research.google.com/notebooks/data_table.ipynb>data table notebook</a>'\n",
              "            + ' to learn more about interactive tables.';\n",
              "          element.innerHTML = '';\n",
              "          dataTable['output_type'] = 'display_data';\n",
              "          await google.colab.output.renderOutput(dataTable, element);\n",
              "          const docLink = document.createElement('div');\n",
              "          docLink.innerHTML = docLinkHtml;\n",
              "          element.appendChild(docLink);\n",
              "        }\n",
              "      </script>\n",
              "    </div>\n",
              "  </div>\n",
              "  "
            ]
          },
          "metadata": {},
          "execution_count": 14
        }
      ]
    },
    {
      "cell_type": "markdown",
      "metadata": {
        "id": "ZfAbEIDgz4iY"
      },
      "source": [
        "## **Linear Support Vector Machine Classifier (Binary Classification) **\n",
        "to enable make the svm_enable = 1 in the above cell"
      ]
    },
    {
      "cell_type": "code",
      "execution_count": 15,
      "metadata": {
        "id": "o8GdMBjdzFQT"
      },
      "outputs": [],
      "source": [
        "if svm_enable:\n",
        "  # using kernel as linear \n",
        "  lsvm = SVC(kernel='linear',gamma='auto') \n",
        "  lsvm.fit(X_train,y_train) # training model on training dataset"
      ]
    },
    {
      "cell_type": "code",
      "execution_count": 16,
      "metadata": {
        "id": "NjfYZA_9zTNK",
        "colab": {
          "base_uri": "https://localhost:8080/"
        },
        "outputId": "6c4f9a0a-3bad-404a-87d1-ccb5987f3440"
      },
      "outputs": [
        {
          "output_type": "stream",
          "name": "stdout",
          "text": [
            "Saved model to disk\n",
            "Loaded model from disk\n"
          ]
        }
      ],
      "source": [
        "if svm_enable:\n",
        "  pkl_filename = \"/content/drive/MyDrive/Colab_Notebooks/Models/lsvm_binary\"+model_name_suffix+\".pkl\"\n",
        "  if (not path.isfile(pkl_filename)):\n",
        "    # saving the trained model to disk\n",
        "    with open(pkl_filename, 'wb') as file:\n",
        "      pickle.dump(lsvm, file)\n",
        "    print(\"Saved model to disk\")\n",
        "    # loading the trained model from disk\n",
        "    with open(pkl_filename, 'rb') as file:\n",
        "      lsvm = pickle.load(file)\n",
        "    print(\"Loaded model from disk\") "
      ]
    },
    {
      "cell_type": "code",
      "execution_count": 17,
      "metadata": {
        "id": "xsnN51Juzgcf",
        "colab": {
          "base_uri": "https://localhost:8080/"
        },
        "outputId": "d9597173-dcb0-4ebc-a0f4-a4e7da9d6c74"
      },
      "outputs": [
        {
          "output_type": "stream",
          "name": "stdout",
          "text": [
            "LSVM-Classifier Binary Set-Accuracy is  60.51825677267373\n"
          ]
        }
      ],
      "source": [
        "if svm_enable:\n",
        "  y_pred = lsvm.predict(X_test) # predicting target attribute on testing dataset\n",
        "  ac = accuracy_score(y_test, y_pred)*100 # calculating accuracy of predicted data\n",
        "  print(\"LSVM-Classifier Binary Set-Accuracy is \", ac)"
      ]
    },
    {
      "cell_type": "code",
      "execution_count": 18,
      "metadata": {
        "id": "qg2gbJTg8NtL"
      },
      "outputs": [],
      "source": [
        "# import matplotlib.pyplot as plt\n",
        "# from sklearn.datasets import make_classification\n",
        "# from sklearn.metrics import confusion_matrix, ConfusionMatrixDisplay\n",
        "# from sklearn.model_selection import train_test_split\n",
        "# from sklearn.svm import SVC\n",
        "# X, y = make_classification(random_state=0)\n",
        "# X_train, X_test, y_train, y_test = train_test_split(X, y,\n",
        "#                                                     random_state=0)\n",
        "# cm = confusion_matrix(y_test, y_pred, labels=lsvm.classes_)\n",
        "# disp = ConfusionMatrixDisplay(confusion_matrix=cm,\n",
        "#                               display_labels=lsvm.classes_)\n",
        "# disp.plot()\n",
        "\n",
        "# plt.show()"
      ]
    },
    {
      "cell_type": "code",
      "execution_count": 19,
      "metadata": {
        "id": "9IydNlzT5kx6",
        "colab": {
          "base_uri": "https://localhost:8080/",
          "height": 587
        },
        "outputId": "da39506c-a202-4379-9ac0-85b1ca55827e"
      },
      "outputs": [
        {
          "output_type": "display_data",
          "data": {
            "text/plain": [
              "<Figure size 2000x800 with 1 Axes>"
            ],
            "image/png": "[encoded data removed]"
          },
          "metadata": {}
        }
      ],
      "source": [
        "if svm_enable:\n",
        "  plt.figure(figsize=(20,8))\n",
        "  plt.plot(y_pred[300:500], label=\"prediction\", linewidth=2.0,color='blue')\n",
        "  plt.plot(y_test[300:500].values, label=\"real_values\", linewidth=2.0,color='lightcoral')\n",
        "  plt.legend(loc=\"best\")\n",
        "  plt.ylim((-1,2))\n",
        "  plt.title(\"Linear SVM Binary Classification\")\n",
        "  plt.savefig('/content/drive/MyDrive/Colab_Notebooks/Plots/lsvm_real_pred_bin.png')\n",
        "  plt.show()"
      ]
    },
    {
      "cell_type": "code",
      "execution_count": 20,
      "metadata": {
        "id": "s9lqoveaUBvg",
        "colab": {
          "base_uri": "https://localhost:8080/"
        },
        "outputId": "6712aa2d-709f-4fbc-ccd4-6d2292d283aa"
      },
      "outputs": [
        {
          "output_type": "stream",
          "name": "stdout",
          "text": [
            "              precision    recall  f1-score   support\n",
            "\n",
            "     class 0       1.00      0.59      0.74      4068\n",
            "     class 1       0.10      1.00      0.17       177\n",
            "\n",
            "    accuracy                           0.61      4245\n",
            "   macro avg       0.55      0.79      0.46      4245\n",
            "weighted avg       0.96      0.61      0.72      4245\n",
            "\n",
            "False Positive Rate -  [0.41199607]\n",
            "False Negative Rate -  [0.]\n",
            "Thresholds -  [1.]\n"
          ]
        }
      ],
      "source": [
        "if svm_enable:\n",
        "  target_names = ['class 0', 'class 1']\n",
        "  print(classification_report(y_test, y_pred, target_names=target_names))\n",
        "  fpr, fnr, thresholds = det_curve(y_test, y_pred)\n",
        "  print(\"False Positive Rate - \", fpr)\n",
        "  print(\"False Negative Rate - \", fnr)\n",
        "  print(\"Thresholds - \", thresholds)"
      ]
    },
    {
      "cell_type": "code",
      "execution_count": 21,
      "metadata": {
        "id": "kWxBZhnw9t5n",
        "colab": {
          "base_uri": "https://localhost:8080/",
          "height": 449
        },
        "outputId": "e28a1ed9-c69c-4145-cea2-6ffdcbb8bcc5"
      },
      "outputs": [
        {
          "output_type": "display_data",
          "data": {
            "text/plain": [
              "<Figure size 640x480 with 2 Axes>"
            ],
            "image/png": "[encoded data removed]"
          },
          "metadata": {}
        }
      ],
      "source": [
        "if svm_enable:\n",
        "  from sklearn.metrics import confusion_matrix, ConfusionMatrixDisplay\n",
        "\n",
        "  clf = lsvm\n",
        "  cm = confusion_matrix(y_test, y_pred, labels=clf.classes_)\n",
        "  disp = ConfusionMatrixDisplay(confusion_matrix=cm,\n",
        "                                display_labels=clf.classes_)\n",
        "  disp.plot()\n",
        "\n",
        "  plt.show()"
      ]
    },
    {
      "cell_type": "markdown",
      "metadata": {
        "id": "PUjrwY2l0_RI"
      },
      "source": [
        "## **Multi Layer Perceptron Classifier (Binary Classification)**"
      ]
    },
    {
      "cell_type": "code",
      "execution_count": 22,
      "metadata": {
        "id": "u9v5Ylpa1DHY"
      },
      "outputs": [],
      "source": [
        "if model_selection[model_flag]==\"ALL\" or model_selection[model_flag] == \"MLP\":\n",
        "  mlp = Sequential() # creating model\n",
        "\n",
        "  # adding input layer and first layer with 50 neurons\n",
        "  mlp.add(Dense(units=50, input_dim=X_train.shape[1], activation='relu'))\n",
        "  # output layer with sigmoid activation\n",
        "  mlp.add(Dense(units=1,activation='sigmoid'))"
      ]
    },
    {
      "cell_type": "code",
      "execution_count": 23,
      "metadata": {
        "id": "E-9M9d0p1p8s"
      },
      "outputs": [],
      "source": [
        "if model_selection[model_flag]==\"ALL\" or model_selection[model_flag] == \"MLP\":\n",
        "  # defining loss function, optimizer, metrics and then compiling model\n",
        "  mlp.compile(loss='binary_crossentropy', optimizer='adam', metrics=['accuracy'])"
      ]
    },
    {
      "cell_type": "code",
      "execution_count": 24,
      "metadata": {
        "id": "NK-1_akm1vO9",
        "colab": {
          "base_uri": "https://localhost:8080/"
        },
        "outputId": "1a429784-653e-432d-a0b9-2ab47b9fd19c"
      },
      "outputs": [
        {
          "output_type": "stream",
          "name": "stdout",
          "text": [
            "Model: \"sequential\"\n",
            "_________________________________________________________________\n",
            " Layer (type)                Output Shape              Param #   \n",
            "=================================================================\n",
            " dense (Dense)               (None, 50)                5900      \n",
            "                                                                 \n",
            " dense_1 (Dense)             (None, 1)                 51        \n",
            "                                                                 \n",
            "=================================================================\n",
            "Total params: 5,951\n",
            "Trainable params: 5,951\n",
            "Non-trainable params: 0\n",
            "_________________________________________________________________\n"
          ]
        }
      ],
      "source": [
        "if model_selection[model_flag]==\"ALL\" or model_selection[model_flag] == \"MLP\":\n",
        "  # summary of model layers\n",
        "  mlp.summary()"
      ]
    },
    {
      "cell_type": "code",
      "execution_count": 25,
      "metadata": {
        "id": "UYZ4xCgp13gP",
        "colab": {
          "base_uri": "https://localhost:8080/"
        },
        "outputId": "b4d471eb-a74d-4663-8df3-a1b181dd1567"
      },
      "outputs": [
        {
          "output_type": "stream",
          "name": "stdout",
          "text": [
            "Epoch 1/100\n",
            "3/3 [==============================] - 6s 114ms/step - loss: 0.4392 - accuracy: 0.9627 - val_loss: 0.3084 - val_accuracy: 0.9607\n",
            "Epoch 2/100\n",
            "3/3 [==============================] - 0s 29ms/step - loss: 0.2870 - accuracy: 0.9627 - val_loss: 0.2078 - val_accuracy: 0.9607\n",
            "Epoch 3/100\n",
            "3/3 [==============================] - 0s 22ms/step - loss: 0.1947 - accuracy: 0.9627 - val_loss: 0.1494 - val_accuracy: 0.9607\n",
            "Epoch 4/100\n",
            "3/3 [==============================] - 0s 29ms/step - loss: 0.1418 - accuracy: 0.9627 - val_loss: 0.1184 - val_accuracy: 0.9607\n",
            "Epoch 5/100\n",
            "3/3 [==============================] - 0s 33ms/step - loss: 0.1137 - accuracy: 0.9627 - val_loss: 0.1014 - val_accuracy: 0.9607\n",
            "Epoch 6/100\n",
            "3/3 [==============================] - 0s 29ms/step - loss: 0.0983 - accuracy: 0.9627 - val_loss: 0.0911 - val_accuracy: 0.9607\n",
            "Epoch 7/100\n",
            "3/3 [==============================] - 0s 21ms/step - loss: 0.0888 - accuracy: 0.9627 - val_loss: 0.0840 - val_accuracy: 0.9607\n",
            "Epoch 8/100\n",
            "3/3 [==============================] - 0s 30ms/step - loss: 0.0824 - accuracy: 0.9627 - val_loss: 0.0789 - val_accuracy: 0.9607\n",
            "Epoch 9/100\n",
            "3/3 [==============================] - 0s 23ms/step - loss: 0.0776 - accuracy: 0.9627 - val_loss: 0.0749 - val_accuracy: 0.9607\n",
            "Epoch 10/100\n",
            "3/3 [==============================] - 0s 30ms/step - loss: 0.0738 - accuracy: 0.9627 - val_loss: 0.0714 - val_accuracy: 0.9607\n",
            "Epoch 11/100\n",
            "3/3 [==============================] - 0s 21ms/step - loss: 0.0707 - accuracy: 0.9627 - val_loss: 0.0684 - val_accuracy: 0.9607\n",
            "Epoch 12/100\n",
            "3/3 [==============================] - 0s 31ms/step - loss: 0.0679 - accuracy: 0.9627 - val_loss: 0.0657 - val_accuracy: 0.9607\n",
            "Epoch 13/100\n",
            "3/3 [==============================] - 0s 24ms/step - loss: 0.0654 - accuracy: 0.9627 - val_loss: 0.0633 - val_accuracy: 0.9607\n",
            "Epoch 14/100\n",
            "3/3 [==============================] - 0s 29ms/step - loss: 0.0633 - accuracy: 0.9627 - val_loss: 0.0614 - val_accuracy: 0.9674\n",
            "Epoch 15/100\n",
            "3/3 [==============================] - 0s 30ms/step - loss: 0.0615 - accuracy: 0.9689 - val_loss: 0.0598 - val_accuracy: 0.9717\n",
            "Epoch 16/100\n",
            "3/3 [==============================] - 0s 29ms/step - loss: 0.0600 - accuracy: 0.9730 - val_loss: 0.0585 - val_accuracy: 0.9709\n",
            "Epoch 17/100\n",
            "3/3 [==============================] - 0s 29ms/step - loss: 0.0588 - accuracy: 0.9723 - val_loss: 0.0575 - val_accuracy: 0.9709\n",
            "Epoch 18/100\n",
            "3/3 [==============================] - 0s 30ms/step - loss: 0.0579 - accuracy: 0.9731 - val_loss: 0.0566 - val_accuracy: 0.9776\n",
            "Epoch 19/100\n",
            "3/3 [==============================] - 0s 30ms/step - loss: 0.0570 - accuracy: 0.9778 - val_loss: 0.0556 - val_accuracy: 0.9804\n",
            "Epoch 20/100\n",
            "3/3 [==============================] - 0s 22ms/step - loss: 0.0562 - accuracy: 0.9801 - val_loss: 0.0548 - val_accuracy: 0.9831\n",
            "Epoch 21/100\n",
            "3/3 [==============================] - 0s 22ms/step - loss: 0.0555 - accuracy: 0.9809 - val_loss: 0.0541 - val_accuracy: 0.9843\n",
            "Epoch 22/100\n",
            "3/3 [==============================] - 0s 30ms/step - loss: 0.0548 - accuracy: 0.9819 - val_loss: 0.0534 - val_accuracy: 0.9863\n",
            "Epoch 23/100\n",
            "3/3 [==============================] - 0s 37ms/step - loss: 0.0542 - accuracy: 0.9829 - val_loss: 0.0527 - val_accuracy: 0.9867\n",
            "Epoch 24/100\n",
            "3/3 [==============================] - 0s 41ms/step - loss: 0.0536 - accuracy: 0.9839 - val_loss: 0.0521 - val_accuracy: 0.9870\n",
            "Epoch 25/100\n",
            "3/3 [==============================] - 0s 35ms/step - loss: 0.0530 - accuracy: 0.9859 - val_loss: 0.0514 - val_accuracy: 0.9886\n",
            "Epoch 26/100\n",
            "3/3 [==============================] - 0s 38ms/step - loss: 0.0524 - accuracy: 0.9864 - val_loss: 0.0508 - val_accuracy: 0.9882\n",
            "Epoch 27/100\n",
            "3/3 [==============================] - 0s 35ms/step - loss: 0.0518 - accuracy: 0.9879 - val_loss: 0.0502 - val_accuracy: 0.9902\n",
            "Epoch 28/100\n",
            "3/3 [==============================] - 0s 38ms/step - loss: 0.0512 - accuracy: 0.9886 - val_loss: 0.0495 - val_accuracy: 0.9914\n",
            "Epoch 29/100\n",
            "3/3 [==============================] - 0s 38ms/step - loss: 0.0506 - accuracy: 0.9905 - val_loss: 0.0489 - val_accuracy: 0.9941\n",
            "Epoch 30/100\n",
            "3/3 [==============================] - 0s 35ms/step - loss: 0.0500 - accuracy: 0.9920 - val_loss: 0.0482 - val_accuracy: 0.9953\n",
            "Epoch 31/100\n",
            "3/3 [==============================] - 0s 40ms/step - loss: 0.0494 - accuracy: 0.9935 - val_loss: 0.0477 - val_accuracy: 0.9965\n",
            "Epoch 32/100\n",
            "3/3 [==============================] - 0s 30ms/step - loss: 0.0489 - accuracy: 0.9953 - val_loss: 0.0472 - val_accuracy: 0.9965\n",
            "Epoch 33/100\n",
            "3/3 [==============================] - 0s 28ms/step - loss: 0.0484 - accuracy: 0.9958 - val_loss: 0.0467 - val_accuracy: 0.9965\n",
            "Epoch 34/100\n",
            "3/3 [==============================] - 0s 38ms/step - loss: 0.0480 - accuracy: 0.9958 - val_loss: 0.0462 - val_accuracy: 0.9965\n",
            "Epoch 35/100\n",
            "3/3 [==============================] - 0s 32ms/step - loss: 0.0475 - accuracy: 0.9951 - val_loss: 0.0456 - val_accuracy: 0.9976\n",
            "Epoch 36/100\n",
            "3/3 [==============================] - 0s 36ms/step - loss: 0.0470 - accuracy: 0.9964 - val_loss: 0.0450 - val_accuracy: 0.9976\n",
            "Epoch 37/100\n",
            "3/3 [==============================] - 0s 36ms/step - loss: 0.0464 - accuracy: 0.9978 - val_loss: 0.0445 - val_accuracy: 0.9988\n",
            "Epoch 38/100\n",
            "3/3 [==============================] - 0s 29ms/step - loss: 0.0459 - accuracy: 0.9981 - val_loss: 0.0440 - val_accuracy: 0.9988\n",
            "Epoch 39/100\n",
            "3/3 [==============================] - 0s 38ms/step - loss: 0.0455 - accuracy: 0.9983 - val_loss: 0.0435 - val_accuracy: 0.9988\n",
            "Epoch 40/100\n",
            "3/3 [==============================] - 0s 37ms/step - loss: 0.0450 - accuracy: 0.9983 - val_loss: 0.0430 - val_accuracy: 0.9988\n",
            "Epoch 41/100\n",
            "3/3 [==============================] - 0s 30ms/step - loss: 0.0445 - accuracy: 0.9984 - val_loss: 0.0425 - val_accuracy: 0.9988\n",
            "Epoch 42/100\n",
            "3/3 [==============================] - 0s 29ms/step - loss: 0.0441 - accuracy: 0.9983 - val_loss: 0.0420 - val_accuracy: 0.9988\n",
            "Epoch 43/100\n",
            "3/3 [==============================] - 0s 30ms/step - loss: 0.0436 - accuracy: 0.9984 - val_loss: 0.0416 - val_accuracy: 0.9988\n",
            "Epoch 44/100\n",
            "3/3 [==============================] - 0s 37ms/step - loss: 0.0432 - accuracy: 0.9985 - val_loss: 0.0411 - val_accuracy: 0.9988\n",
            "Epoch 45/100\n",
            "3/3 [==============================] - 0s 37ms/step - loss: 0.0427 - accuracy: 0.9985 - val_loss: 0.0407 - val_accuracy: 0.9988\n",
            "Epoch 46/100\n",
            "3/3 [==============================] - 0s 37ms/step - loss: 0.0423 - accuracy: 0.9985 - val_loss: 0.0402 - val_accuracy: 0.9988\n",
            "Epoch 47/100\n",
            "3/3 [==============================] - 0s 40ms/step - loss: 0.0419 - accuracy: 0.9985 - val_loss: 0.0398 - val_accuracy: 0.9988\n",
            "Epoch 48/100\n",
            "3/3 [==============================] - 0s 36ms/step - loss: 0.0414 - accuracy: 0.9985 - val_loss: 0.0394 - val_accuracy: 0.9988\n",
            "Epoch 49/100\n",
            "3/3 [==============================] - 0s 38ms/step - loss: 0.0410 - accuracy: 0.9985 - val_loss: 0.0390 - val_accuracy: 0.9992\n",
            "Epoch 50/100\n",
            "3/3 [==============================] - 0s 36ms/step - loss: 0.0407 - accuracy: 0.9987 - val_loss: 0.0387 - val_accuracy: 0.9992\n",
            "Epoch 51/100\n",
            "3/3 [==============================] - 0s 39ms/step - loss: 0.0403 - accuracy: 0.9987 - val_loss: 0.0382 - val_accuracy: 0.9992\n",
            "Epoch 52/100\n",
            "3/3 [==============================] - 0s 29ms/step - loss: 0.0398 - accuracy: 0.9987 - val_loss: 0.0377 - val_accuracy: 0.9992\n",
            "Epoch 53/100\n",
            "3/3 [==============================] - 0s 36ms/step - loss: 0.0393 - accuracy: 0.9987 - val_loss: 0.0372 - val_accuracy: 0.9992\n",
            "Epoch 54/100\n",
            "3/3 [==============================] - 0s 43ms/step - loss: 0.0388 - accuracy: 0.9987 - val_loss: 0.0368 - val_accuracy: 0.9992\n",
            "Epoch 55/100\n",
            "3/3 [==============================] - 0s 39ms/step - loss: 0.0384 - accuracy: 0.9987 - val_loss: 0.0364 - val_accuracy: 0.9992\n",
            "Epoch 56/100\n",
            "3/3 [==============================] - 0s 31ms/step - loss: 0.0380 - accuracy: 0.9987 - val_loss: 0.0360 - val_accuracy: 0.9992\n",
            "Epoch 57/100\n",
            "3/3 [==============================] - 0s 38ms/step - loss: 0.0376 - accuracy: 0.9987 - val_loss: 0.0356 - val_accuracy: 0.9992\n",
            "Epoch 58/100\n",
            "3/3 [==============================] - 0s 35ms/step - loss: 0.0372 - accuracy: 0.9987 - val_loss: 0.0352 - val_accuracy: 0.9992\n",
            "Epoch 59/100\n",
            "3/3 [==============================] - 0s 35ms/step - loss: 0.0367 - accuracy: 0.9988 - val_loss: 0.0349 - val_accuracy: 0.9996\n",
            "Epoch 60/100\n",
            "3/3 [==============================] - 0s 36ms/step - loss: 0.0364 - accuracy: 0.9989 - val_loss: 0.0347 - val_accuracy: 0.9996\n",
            "Epoch 61/100\n",
            "3/3 [==============================] - 0s 29ms/step - loss: 0.0362 - accuracy: 0.9992 - val_loss: 0.0345 - val_accuracy: 1.0000\n",
            "Epoch 62/100\n",
            "3/3 [==============================] - 0s 36ms/step - loss: 0.0359 - accuracy: 0.9993 - val_loss: 0.0338 - val_accuracy: 1.0000\n",
            "Epoch 63/100\n",
            "3/3 [==============================] - 0s 33ms/step - loss: 0.0352 - accuracy: 0.9993 - val_loss: 0.0331 - val_accuracy: 0.9996\n",
            "Epoch 64/100\n",
            "3/3 [==============================] - 0s 33ms/step - loss: 0.0346 - accuracy: 0.9991 - val_loss: 0.0327 - val_accuracy: 0.9996\n",
            "Epoch 65/100\n",
            "3/3 [==============================] - 0s 36ms/step - loss: 0.0342 - accuracy: 0.9989 - val_loss: 0.0324 - val_accuracy: 0.9996\n",
            "Epoch 66/100\n",
            "3/3 [==============================] - 0s 34ms/step - loss: 0.0340 - accuracy: 0.9989 - val_loss: 0.0321 - val_accuracy: 0.9996\n",
            "Epoch 67/100\n",
            "3/3 [==============================] - 0s 36ms/step - loss: 0.0336 - accuracy: 0.9989 - val_loss: 0.0316 - val_accuracy: 0.9996\n",
            "Epoch 68/100\n",
            "3/3 [==============================] - 0s 39ms/step - loss: 0.0332 - accuracy: 0.9991 - val_loss: 0.0311 - val_accuracy: 0.9996\n",
            "Epoch 69/100\n",
            "3/3 [==============================] - 0s 33ms/step - loss: 0.0326 - accuracy: 0.9992 - val_loss: 0.0306 - val_accuracy: 1.0000\n",
            "Epoch 70/100\n",
            "3/3 [==============================] - 0s 29ms/step - loss: 0.0322 - accuracy: 0.9994 - val_loss: 0.0302 - val_accuracy: 1.0000\n",
            "Epoch 71/100\n",
            "3/3 [==============================] - 0s 30ms/step - loss: 0.0319 - accuracy: 0.9994 - val_loss: 0.0299 - val_accuracy: 1.0000\n",
            "Epoch 72/100\n",
            "3/3 [==============================] - 0s 23ms/step - loss: 0.0315 - accuracy: 0.9994 - val_loss: 0.0296 - val_accuracy: 1.0000\n",
            "Epoch 73/100\n",
            "3/3 [==============================] - 0s 21ms/step - loss: 0.0312 - accuracy: 0.9994 - val_loss: 0.0293 - val_accuracy: 1.0000\n",
            "Epoch 74/100\n",
            "3/3 [==============================] - 0s 29ms/step - loss: 0.0310 - accuracy: 0.9994 - val_loss: 0.0290 - val_accuracy: 1.0000\n",
            "Epoch 75/100\n",
            "3/3 [==============================] - 0s 21ms/step - loss: 0.0306 - accuracy: 0.9994 - val_loss: 0.0286 - val_accuracy: 1.0000\n",
            "Epoch 76/100\n",
            "3/3 [==============================] - 0s 22ms/step - loss: 0.0303 - accuracy: 0.9994 - val_loss: 0.0284 - val_accuracy: 1.0000\n",
            "Epoch 77/100\n",
            "3/3 [==============================] - 0s 29ms/step - loss: 0.0301 - accuracy: 0.9994 - val_loss: 0.0279 - val_accuracy: 1.0000\n",
            "Epoch 78/100\n",
            "3/3 [==============================] - 0s 29ms/step - loss: 0.0296 - accuracy: 0.9994 - val_loss: 0.0273 - val_accuracy: 1.0000\n",
            "Epoch 79/100\n",
            "3/3 [==============================] - 0s 22ms/step - loss: 0.0290 - accuracy: 0.9994 - val_loss: 0.0269 - val_accuracy: 1.0000\n",
            "Epoch 80/100\n",
            "3/3 [==============================] - 0s 24ms/step - loss: 0.0288 - accuracy: 0.9994 - val_loss: 0.0267 - val_accuracy: 1.0000\n",
            "Epoch 81/100\n",
            "3/3 [==============================] - 0s 29ms/step - loss: 0.0286 - accuracy: 0.9994 - val_loss: 0.0264 - val_accuracy: 1.0000\n",
            "Epoch 82/100\n",
            "3/3 [==============================] - 0s 30ms/step - loss: 0.0282 - accuracy: 0.9994 - val_loss: 0.0260 - val_accuracy: 1.0000\n",
            "Epoch 83/100\n",
            "3/3 [==============================] - 0s 30ms/step - loss: 0.0278 - accuracy: 0.9994 - val_loss: 0.0255 - val_accuracy: 1.0000\n",
            "Epoch 84/100\n",
            "3/3 [==============================] - 0s 29ms/step - loss: 0.0274 - accuracy: 0.9994 - val_loss: 0.0251 - val_accuracy: 1.0000\n",
            "Epoch 85/100\n",
            "3/3 [==============================] - 0s 30ms/step - loss: 0.0270 - accuracy: 0.9994 - val_loss: 0.0248 - val_accuracy: 1.0000\n",
            "Epoch 86/100\n",
            "3/3 [==============================] - 0s 22ms/step - loss: 0.0267 - accuracy: 0.9994 - val_loss: 0.0245 - val_accuracy: 1.0000\n",
            "Epoch 87/100\n",
            "3/3 [==============================] - 0s 33ms/step - loss: 0.0264 - accuracy: 0.9994 - val_loss: 0.0242 - val_accuracy: 1.0000\n",
            "Epoch 88/100\n",
            "3/3 [==============================] - 0s 30ms/step - loss: 0.0260 - accuracy: 0.9994 - val_loss: 0.0238 - val_accuracy: 1.0000\n",
            "Epoch 89/100\n",
            "3/3 [==============================] - 0s 29ms/step - loss: 0.0256 - accuracy: 0.9994 - val_loss: 0.0235 - val_accuracy: 1.0000\n",
            "Epoch 90/100\n",
            "3/3 [==============================] - 0s 22ms/step - loss: 0.0254 - accuracy: 0.9994 - val_loss: 0.0233 - val_accuracy: 1.0000\n",
            "Epoch 91/100\n",
            "3/3 [==============================] - 0s 22ms/step - loss: 0.0251 - accuracy: 0.9994 - val_loss: 0.0230 - val_accuracy: 1.0000\n",
            "Epoch 92/100\n",
            "3/3 [==============================] - 0s 30ms/step - loss: 0.0248 - accuracy: 0.9994 - val_loss: 0.0227 - val_accuracy: 1.0000\n",
            "Epoch 93/100\n",
            "3/3 [==============================] - 0s 32ms/step - loss: 0.0244 - accuracy: 0.9994 - val_loss: 0.0222 - val_accuracy: 1.0000\n",
            "Epoch 94/100\n",
            "3/3 [==============================] - 0s 30ms/step - loss: 0.0240 - accuracy: 0.9994 - val_loss: 0.0219 - val_accuracy: 1.0000\n",
            "Epoch 95/100\n",
            "3/3 [==============================] - 0s 22ms/step - loss: 0.0237 - accuracy: 0.9994 - val_loss: 0.0216 - val_accuracy: 1.0000\n",
            "Epoch 96/100\n",
            "3/3 [==============================] - 0s 23ms/step - loss: 0.0234 - accuracy: 0.9994 - val_loss: 0.0213 - val_accuracy: 1.0000\n",
            "Epoch 97/100\n",
            "3/3 [==============================] - 0s 33ms/step - loss: 0.0231 - accuracy: 0.9994 - val_loss: 0.0210 - val_accuracy: 1.0000\n",
            "Epoch 98/100\n",
            "3/3 [==============================] - 0s 24ms/step - loss: 0.0228 - accuracy: 0.9994 - val_loss: 0.0207 - val_accuracy: 1.0000\n",
            "Epoch 99/100\n",
            "3/3 [==============================] - 0s 30ms/step - loss: 0.0225 - accuracy: 0.9994 - val_loss: 0.0204 - val_accuracy: 1.0000\n",
            "Epoch 100/100\n",
            "3/3 [==============================] - 0s 21ms/step - loss: 0.0222 - accuracy: 0.9994 - val_loss: 0.0202 - val_accuracy: 1.0000\n"
          ]
        }
      ],
      "source": [
        "if model_selection[model_flag]==\"ALL\" or model_selection[model_flag] == \"MLP\":\n",
        "  # training the model on training dataset\n",
        "  history = mlp.fit(X_train, y_train, epochs=100, batch_size=5000,validation_split=0.2)"
      ]
    },
    {
      "cell_type": "code",
      "execution_count": 26,
      "metadata": {
        "id": "_n_gNs3p1_M-",
        "colab": {
          "base_uri": "https://localhost:8080/"
        },
        "outputId": "568499f9-ca7b-47eb-cc53-0b44fbf730ea"
      },
      "outputs": [
        {
          "output_type": "stream",
          "name": "stdout",
          "text": [
            "Saved model to disk\n",
            "Loaded model from disk\n"
          ]
        }
      ],
      "source": [
        "if model_selection[model_flag]==\"ALL\" or model_selection[model_flag] == \"MLP\":\n",
        "  filepath = '/content/drive/MyDrive/Colab_Notebooks/Models/mlp_binary'+model_name_suffix+'.json'\n",
        "  weightspath = '/content/drive/MyDrive/Colab_Notebooks/Weights/mlp_binary'+model_name_suffix+'.h5'\n",
        "  if (not path.isfile(filepath)):\n",
        "    # serialize model to JSON\n",
        "    mlp_json = mlp.to_json()\n",
        "    with open(filepath, \"w\") as json_file:\n",
        "      json_file.write(mlp_json)\n",
        "\n",
        "    # serialize weights to HDF5\n",
        "    mlp.save_weights(weightspath)\n",
        "    print(\"Saved model to disk\")\n",
        "\n",
        "    # load json and create model\n",
        "    json_file = open(filepath, 'r')\n",
        "    loaded_model_json = json_file.read()\n",
        "    json_file.close()\n",
        "    mlp = model_from_json(loaded_model_json)\n",
        "\n",
        "    # load weights into new model\n",
        "    mlp.load_weights(weightspath)\n",
        "    print(\"Loaded model from disk\")"
      ]
    },
    {
      "cell_type": "code",
      "execution_count": 27,
      "metadata": {
        "id": "G99OrVcT2JON"
      },
      "outputs": [],
      "source": [
        "if model_selection[model_flag]==\"ALL\" or model_selection[model_flag] == \"MLP\":\n",
        "  # defining loss function, optimizer, metrics and then compiling model\n",
        "  mlp.compile(loss='binary_crossentropy', optimizer='adam', metrics=['accuracy'])"
      ]
    },
    {
      "cell_type": "code",
      "execution_count": 28,
      "metadata": {
        "id": "AXUA0T2N2OIB",
        "colab": {
          "base_uri": "https://localhost:8080/"
        },
        "outputId": "0a60248e-e8d9-4a2f-e0b9-df7f60e13b9f"
      },
      "outputs": [
        {
          "output_type": "stream",
          "name": "stdout",
          "text": [
            "133/133 [==============================] - 1s 2ms/step - loss: 1114223.0000 - accuracy: 0.2580\n",
            "Test results - Loss: 1114223.0 - Accuracy: 25.79505443572998\n"
          ]
        }
      ],
      "source": [
        "if model_selection[model_flag]==\"ALL\" or model_selection[model_flag] == \"MLP\":\n",
        "  # predicting target attribute on testing dataset\n",
        "  test_results = mlp.evaluate(X_test, y_test, verbose=1)\n",
        "  print(f'Test results - Loss: {test_results[0]} - Accuracy: {test_results[1]*100}')"
      ]
    },
    {
      "cell_type": "code",
      "execution_count": 29,
      "metadata": {
        "id": "StFTrhE65_-q",
        "colab": {
          "base_uri": "https://localhost:8080/",
          "height": 472
        },
        "outputId": "af6b2d97-6be4-4492-a43e-e6def1f20403"
      },
      "outputs": [
        {
          "output_type": "display_data",
          "data": {
            "text/plain": [
              "<Figure size 640x480 with 1 Axes>"
            ],
            "image/png": "[encoded data removed]"
          },
          "metadata": {}
        }
      ],
      "source": [
        "if model_selection[model_flag]==\"ALL\" or model_selection[model_flag] == \"MLP\":  \n",
        "  # Plot of accuracy vs epoch of train and test dataset\n",
        "  plt.plot(history.history['accuracy'])\n",
        "  plt.plot(history.history['val_accuracy'])\n",
        "  plt.title(\"Plot of accuracy vs epoch for train and test dataset\")\n",
        "  plt.ylabel('accuracy')\n",
        "  plt.xlabel('epoch')\n",
        "  plt.legend(['train', 'test'], loc='best')\n",
        "  plt.savefig('/content/drive/MyDrive/Colab_Notebooks/Plots/mlp_binary_accuracy.png')\n",
        "  plt.show()"
      ]
    },
    {
      "cell_type": "code",
      "execution_count": 30,
      "metadata": {
        "id": "rZes4PzY6JUq",
        "colab": {
          "base_uri": "https://localhost:8080/",
          "height": 472
        },
        "outputId": "1471f67e-4c24-43b9-fe75-15472f7dd7da"
      },
      "outputs": [
        {
          "output_type": "display_data",
          "data": {
            "text/plain": [
              "<Figure size 640x480 with 1 Axes>"
            ],
            "image/png": "[encoded data removed]"
          },
          "metadata": {}
        }
      ],
      "source": [
        "if model_selection[model_flag]==\"ALL\" or model_selection[model_flag] == \"MLP\":\n",
        "  # Plot of loss vs epoch of train and test dataset\n",
        "  plt.plot(history.history['loss'])\n",
        "  plt.plot(history.history['val_loss'])\n",
        "  plt.title('Plot of loss vs epoch for train and test dataset')\n",
        "  plt.ylabel('loss')\n",
        "  plt.xlabel('epoch')\n",
        "  plt.legend(['train', 'test'], loc='best')\n",
        "  plt.savefig('/content/drive/MyDrive/Colab_Notebooks/Plots/mlp_binary_loss.png')\n",
        "  plt.show()"
      ]
    },
    {
      "cell_type": "code",
      "execution_count": 31,
      "metadata": {
        "id": "mC0nj-on6iRU"
      },
      "outputs": [],
      "source": [
        "if model_selection[model_flag]==\"ALL\" or model_selection[model_flag] == \"MLP\":\n",
        "  # representation of model layers\n",
        "  from keras.utils.vis_utils import plot_model\n",
        "  plot_model(mlp, to_file='/content/drive/MyDrive/Colab_Notebooks/Plots/mlp_binary.png', show_shapes=True,)"
      ]
    },
    {
      "cell_type": "code",
      "execution_count": 32,
      "metadata": {
        "id": "oxHdln0c6Xi_",
        "colab": {
          "base_uri": "https://localhost:8080/"
        },
        "outputId": "e9db86f8-997e-43b0-d648-d602b0961e48"
      },
      "outputs": [
        {
          "output_type": "stream",
          "name": "stdout",
          "text": [
            "133/133 [==============================] - 0s 2ms/step\n"
          ]
        }
      ],
      "source": [
        "if model_selection[model_flag]==\"ALL\" or model_selection[model_flag] == \"MLP\":\n",
        "  y_pred = mlp.predict(X_test).ravel()\n",
        "  fpr, tpr, thresholds = roc_curve(y_test, y_pred)\n",
        "  auc = auc(fpr, tpr)"
      ]
    },
    {
      "cell_type": "code",
      "execution_count": 33,
      "metadata": {
        "id": "Cr36q9Z-6aRU",
        "colab": {
          "base_uri": "https://localhost:8080/",
          "height": 472
        },
        "outputId": "637e0240-ac40-4b72-db95-35f0037422cd"
      },
      "outputs": [
        {
          "output_type": "display_data",
          "data": {
            "text/plain": [
              "<Figure size 640x480 with 1 Axes>"
            ],
            "image/png": "[encoded data removed]"
          },
          "metadata": {}
        }
      ],
      "source": [
        "if model_selection[model_flag]==\"ALL\" or model_selection[model_flag] == \"MLP\":\n",
        "  plt.plot([0, 1], [0, 1], 'k--')\n",
        "  plt.plot(fpr, tpr, label='Keras (area = {:.3f})'.format(auc))\n",
        "  plt.xlabel('False positive rate')\n",
        "  plt.ylabel('True positive rate')\n",
        "  plt.title('ROC curve')\n",
        "  plt.legend(loc='best')\n",
        "  plt.savefig('/content/drive/MyDrive/Colab_Notebooks/Plots/mlp_binary_roc.png')\n",
        "  plt.show()"
      ]
    },
    {
      "cell_type": "code",
      "execution_count": 34,
      "metadata": {
        "id": "U9f2bWPwFljk"
      },
      "outputs": [],
      "source": [
        "# real_data_kdd = bin_data.copy()\n",
        "\n",
        "# # Names of the columns that are discrete\n",
        "# cat_cols = real_data_kdd.select_dtypes(['object']).columns\n",
        "# # cat_cols\n",
        "# test_data = real_data_kdd.iloc[:999]\n",
        "\n",
        "# corr= test_data.corr()\n",
        "# corr_y = abs(corr['label'])\n",
        "# highest_corr = corr_y\n",
        "# highest_corr.sort_values(ascending=True)"
      ]
    },
    {
      "cell_type": "code",
      "execution_count": 35,
      "metadata": {
        "id": "8-clVdUoUPa-",
        "colab": {
          "base_uri": "https://localhost:8080/"
        },
        "outputId": "cfb67821-2ff3-4745-ac22-83c2f0b6c1ef"
      },
      "outputs": [
        {
          "output_type": "stream",
          "name": "stdout",
          "text": [
            "133/133 [==============================] - 0s 2ms/step\n"
          ]
        }
      ],
      "source": [
        "if model_selection[model_flag]==\"ALL\" or model_selection[model_flag] == \"MLP\":\n",
        "  y_classes = (mlp.predict(X_test)>0.5).astype('int32')"
      ]
    },
    {
      "cell_type": "code",
      "execution_count": 36,
      "metadata": {
        "id": "0jcFqEqFT-uq",
        "colab": {
          "base_uri": "https://localhost:8080/"
        },
        "outputId": "3f544070-5a9c-45f8-81c7-f5b258e7cd12"
      },
      "outputs": [
        {
          "output_type": "stream",
          "name": "stdout",
          "text": [
            "Recall Score -  0.9887005649717514\n",
            "F1 Score -  0.1\n",
            "Precision Score -  0.05266325609389106\n",
            "False Positive Rate -  [1.         0.77384464]\n",
            "False Negative Rate -  [0.         0.01129944]\n",
            "Thresholds -  [0 1]\n"
          ]
        }
      ],
      "source": [
        "if model_selection[model_flag]==\"ALL\" or model_selection[model_flag] == \"MLP\":\n",
        "  print(\"Recall Score - \",recall_score(y_test,y_classes))\n",
        "  print(\"F1 Score - \",f1_score(y_test,y_classes))\n",
        "  print(\"Precision Score - \",precision_score(y_test,y_classes))\n",
        "  fpr, fnr, thresholds = det_curve(y_test, y_classes)\n",
        "  print(\"False Positive Rate - \", fpr)\n",
        "  print(\"False Negative Rate - \", fnr)\n",
        "  print(\"Thresholds - \", thresholds)"
      ]
    },
    {
      "cell_type": "code",
      "source": [
        "print(classification_report(y_test, y_classes, target_names=['0', '1']))\n",
        "cm = confusion_matrix(y_test, y_classes)\n",
        "disp = ConfusionMatrixDisplay(confusion_matrix=cm,\n",
        "                              display_labels=['0', '1'])\n",
        "disp.plot()\n",
        "\n",
        "plt.show()"
      ],
      "metadata": {
        "id": "3HJB6IXJsxjg",
        "colab": {
          "base_uri": "https://localhost:8080/",
          "height": 610
        },
        "outputId": "74fe7d7d-f480-4d41-8aef-d14883a8a734"
      },
      "execution_count": 37,
      "outputs": [
        {
          "output_type": "stream",
          "name": "stdout",
          "text": [
            "              precision    recall  f1-score   support\n",
            "\n",
            "           0       1.00      0.23      0.37      4068\n",
            "           1       0.05      0.99      0.10       177\n",
            "\n",
            "    accuracy                           0.26      4245\n",
            "   macro avg       0.53      0.61      0.23      4245\n",
            "weighted avg       0.96      0.26      0.36      4245\n",
            "\n"
          ]
        },
        {
          "output_type": "display_data",
          "data": {
            "text/plain": [
              "<Figure size 640x480 with 2 Axes>"
            ],
            "image/png": "[encoded data removed]"
          },
          "metadata": {}
        }
      ]
    },
    {
      "cell_type": "markdown",
      "source": [
        "# **Correlation** Matrix of Features"
      ],
      "metadata": {
        "id": "j7BKdCwqs2RE"
      }
    },
    {
      "cell_type": "code",
      "execution_count": 38,
      "metadata": {
        "id": "TL8zt-tHLt90",
        "colab": {
          "base_uri": "https://localhost:8080/"
        },
        "outputId": "6e66d951-bf73-49b7-ce67-ac92832b4b2c"
      },
      "outputs": [
        {
          "output_type": "execute_result",
          "data": {
            "text/plain": [
              "X110     0.339614\n",
              "X103     0.339618\n",
              "X96      0.339664\n",
              "X89      0.339721\n",
              "X82      0.339735\n",
              "X29      0.339935\n",
              "X14      0.339935\n",
              "X11      0.339943\n",
              "X26      0.339943\n",
              "X60      0.339994\n",
              "X53      0.339998\n",
              "X8       0.340021\n",
              "X23      0.340021\n",
              "X46      0.340043\n",
              "X5       0.340090\n",
              "X20      0.340090\n",
              "X39      0.340094\n",
              "X2       0.340102\n",
              "X17      0.340102\n",
              "X32      0.340104\n",
              "X81      0.459325\n",
              "X109     0.477019\n",
              "X88      0.492697\n",
              "X102     0.514175\n",
              "X95      0.514594\n",
              "X10      0.601990\n",
              "X25      0.601990\n",
              "X52      0.601991\n",
              "X75      0.601991\n",
              "X31      0.607484\n",
              "X66      0.607484\n",
              "X1       0.607485\n",
              "X16      0.607485\n",
              "X38      0.620184\n",
              "X69      0.620184\n",
              "X4       0.620186\n",
              "X19      0.620186\n",
              "X72      0.644976\n",
              "X45      0.644976\n",
              "X7       0.644979\n",
              "X22      0.644979\n",
              "X112     0.677736\n",
              "X105     0.677764\n",
              "X98      0.678061\n",
              "X91      0.678485\n",
              "X84      0.678666\n",
              "X62      0.679809\n",
              "X55      0.679836\n",
              "X48      0.680131\n",
              "X41      0.680542\n",
              "X34      0.680706\n",
              "label    1.000000\n",
              "Name: label, dtype: float64"
            ]
          },
          "metadata": {},
          "execution_count": 38
        }
      ],
      "source": [
        "corr= bin_data.corr()\n",
        "corr_y = abs(corr['label'])\n",
        "highest_corr = corr_y[corr_y >0.3]\n",
        "highest_corr.sort_values(ascending=True)"
      ]
    },
    {
      "cell_type": "code",
      "source": [
        "plt.matshow(corr)\n",
        "plt.show()"
      ],
      "metadata": {
        "id": "q4b094WVtQQ7",
        "colab": {
          "base_uri": "https://localhost:8080/",
          "height": 437
        },
        "outputId": "3ea21184-0841-419b-dc5b-9dcb0820ad54"
      },
      "execution_count": 39,
      "outputs": [
        {
          "output_type": "display_data",
          "data": {
            "text/plain": [
              "<Figure size 480x480 with 1 Axes>"
            ],
            "image/png": "[encoded data removed]"
          },
          "metadata": {}
        }
      ]
    },
    {
      "cell_type": "markdown",
      "metadata": {
        "id": "ZHhtNjFLPj6Y"
      },
      "source": [
        "## **LSTM Classifier**"
      ]
    },
    {
      "cell_type": "code",
      "execution_count": 40,
      "metadata": {
        "id": "DTNPkQMNL5Eh",
        "colab": {
          "base_uri": "https://localhost:8080/"
        },
        "outputId": "8cb78fb9-889e-4f8f-b338-c73de2f3b256"
      },
      "outputs": [
        {
          "output_type": "execute_result",
          "data": {
            "text/plain": [
              "(12734, 117)"
            ]
          },
          "metadata": {},
          "execution_count": 40
        }
      ],
      "source": [
        "X_train = np.array(X_train)\n",
        "X_test = np.array(X_test)\n",
        "# y_train.shape   #(18896,)\n",
        "X_train.shape"
      ]
    },
    {
      "cell_type": "code",
      "execution_count": 41,
      "metadata": {
        "id": "9n-QlBDXPMl4",
        "colab": {
          "base_uri": "https://localhost:8080/"
        },
        "outputId": "264e0498-79ef-41d4-dbfb-001823d9211b"
      },
      "outputs": [
        {
          "output_type": "execute_result",
          "data": {
            "text/plain": [
              "numpy.ndarray"
            ]
          },
          "metadata": {},
          "execution_count": 41
        }
      ],
      "source": [
        "y_train = np.array(y_train)\n",
        "type(y_train)"
      ]
    },
    {
      "cell_type": "code",
      "execution_count": 42,
      "metadata": {
        "id": "-8Ro_ZRQPdZz",
        "colab": {
          "base_uri": "https://localhost:8080/"
        },
        "outputId": "96f6abbd-afda-4094-fc9b-80e5b5b2c838"
      },
      "outputs": [
        {
          "output_type": "execute_result",
          "data": {
            "text/plain": [
              "(12734, 1, 117)"
            ]
          },
          "metadata": {},
          "execution_count": 42
        }
      ],
      "source": [
        "x_train = np.reshape(X_train, (X_train.shape[0],1,X_train.shape[1]))\n",
        "x_train.shape"
      ]
    },
    {
      "cell_type": "code",
      "source": [
        "x_train.shape[2]"
      ],
      "metadata": {
        "id": "EuvuETcGpkje",
        "colab": {
          "base_uri": "https://localhost:8080/"
        },
        "outputId": "e51d41f9-a42a-4e6a-8cb2-5612980a5b54"
      },
      "execution_count": 43,
      "outputs": [
        {
          "output_type": "execute_result",
          "data": {
            "text/plain": [
              "117"
            ]
          },
          "metadata": {},
          "execution_count": 43
        }
      ]
    },
    {
      "cell_type": "code",
      "execution_count": 44,
      "metadata": {
        "id": "pLIl946zQQwG",
        "colab": {
          "base_uri": "https://localhost:8080/"
        },
        "outputId": "8030dac6-28bc-4eb2-9edc-2608ba1a3df6"
      },
      "outputs": [
        {
          "output_type": "execute_result",
          "data": {
            "text/plain": [
              "(4245, 1, 117)"
            ]
          },
          "metadata": {},
          "execution_count": 44
        }
      ],
      "source": [
        "x_test = np.reshape(X_test, (X_test.shape[0],1,X_test.shape[1]))\n",
        "x_test.shape"
      ]
    },
    {
      "cell_type": "code",
      "execution_count": 45,
      "metadata": {
        "id": "jWsrkPEmQcY7"
      },
      "outputs": [],
      "source": [
        "if model_selection[model_flag]==\"ALL\" or model_selection[model_flag] == \"LSTM\":\n",
        "  lst = Sequential()\n",
        "  # input layer and LSTM layer with 50 neurons\n",
        "  input_features = x_train.shape[2]\n",
        "  lst.add(LSTM(50,input_dim=input_features))\n",
        "\n",
        "  # outpute layer with sigmoid activation\n",
        "  lst.add(Dense(1,activation='sigmoid'))"
      ]
    },
    {
      "cell_type": "code",
      "execution_count": 46,
      "metadata": {
        "id": "UEmba1H9Q_qj"
      },
      "outputs": [],
      "source": [
        "if model_selection[model_flag]==\"ALL\" or model_selection[model_flag] == \"LSTM\":\n",
        "  # defining loss function, optimizer, metrics and then compiling model\n",
        "  lst.compile(loss='binary_crossentropy',optimizer='adam',metrics=['accuracy'])"
      ]
    },
    {
      "cell_type": "code",
      "execution_count": 47,
      "metadata": {
        "id": "anR58jV2RCtz",
        "colab": {
          "base_uri": "https://localhost:8080/"
        },
        "outputId": "a6357ae8-f06f-421a-eee6-a2d69f20e22d"
      },
      "outputs": [
        {
          "output_type": "stream",
          "name": "stdout",
          "text": [
            "Model: \"sequential_1\"\n",
            "_________________________________________________________________\n",
            " Layer (type)                Output Shape              Param #   \n",
            "=================================================================\n",
            " lstm (LSTM)                 (None, 50)                33600     \n",
            "                                                                 \n",
            " dense_2 (Dense)             (None, 1)                 51        \n",
            "                                                                 \n",
            "=================================================================\n",
            "Total params: 33,651\n",
            "Trainable params: 33,651\n",
            "Non-trainable params: 0\n",
            "_________________________________________________________________\n"
          ]
        }
      ],
      "source": [
        "if model_selection[model_flag]==\"ALL\" or model_selection[model_flag] == \"LSTM\":\n",
        "  # summary of model layers\n",
        "  lst.summary()"
      ]
    },
    {
      "cell_type": "code",
      "execution_count": 48,
      "metadata": {
        "id": "_Pa4Qi12RJS_",
        "colab": {
          "base_uri": "https://localhost:8080/"
        },
        "outputId": "dd7d49a2-77d4-459e-e71c-e613dd8a0eb9"
      },
      "outputs": [
        {
          "output_type": "stream",
          "name": "stdout",
          "text": [
            "Epoch 1/100\n",
            "3/3 [==============================] - 5s 250ms/step - loss: 0.5942 - accuracy: 0.9602 - val_loss: 0.4654 - val_accuracy: 0.9607\n",
            "Epoch 2/100\n",
            "3/3 [==============================] - 0s 23ms/step - loss: 0.4428 - accuracy: 0.9627 - val_loss: 0.3490 - val_accuracy: 0.9607\n",
            "Epoch 3/100\n",
            "3/3 [==============================] - 0s 22ms/step - loss: 0.3328 - accuracy: 0.9627 - val_loss: 0.2677 - val_accuracy: 0.9607\n",
            "Epoch 4/100\n",
            "3/3 [==============================] - 0s 23ms/step - loss: 0.2563 - accuracy: 0.9627 - val_loss: 0.2124 - val_accuracy: 0.9607\n",
            "Epoch 5/100\n",
            "3/3 [==============================] - 0s 24ms/step - loss: 0.2042 - accuracy: 0.9627 - val_loss: 0.1750 - val_accuracy: 0.9607\n",
            "Epoch 6/100\n",
            "3/3 [==============================] - 0s 30ms/step - loss: 0.1690 - accuracy: 0.9627 - val_loss: 0.1494 - val_accuracy: 0.9607\n",
            "Epoch 7/100\n",
            "3/3 [==============================] - 0s 23ms/step - loss: 0.1448 - accuracy: 0.9627 - val_loss: 0.1316 - val_accuracy: 0.9607\n",
            "Epoch 8/100\n",
            "3/3 [==============================] - 0s 22ms/step - loss: 0.1280 - accuracy: 0.9627 - val_loss: 0.1188 - val_accuracy: 0.9607\n",
            "Epoch 9/100\n",
            "3/3 [==============================] - 0s 32ms/step - loss: 0.1158 - accuracy: 0.9627 - val_loss: 0.1092 - val_accuracy: 0.9607\n",
            "Epoch 10/100\n",
            "3/3 [==============================] - 0s 23ms/step - loss: 0.1066 - accuracy: 0.9627 - val_loss: 0.1018 - val_accuracy: 0.9607\n",
            "Epoch 11/100\n",
            "3/3 [==============================] - 0s 24ms/step - loss: 0.0995 - accuracy: 0.9627 - val_loss: 0.0958 - val_accuracy: 0.9607\n",
            "Epoch 12/100\n",
            "3/3 [==============================] - 0s 34ms/step - loss: 0.0938 - accuracy: 0.9627 - val_loss: 0.0909 - val_accuracy: 0.9607\n",
            "Epoch 13/100\n",
            "3/3 [==============================] - 0s 23ms/step - loss: 0.0890 - accuracy: 0.9627 - val_loss: 0.0867 - val_accuracy: 0.9607\n",
            "Epoch 14/100\n",
            "3/3 [==============================] - 0s 22ms/step - loss: 0.0850 - accuracy: 0.9627 - val_loss: 0.0830 - val_accuracy: 0.9607\n",
            "Epoch 15/100\n",
            "3/3 [==============================] - 0s 23ms/step - loss: 0.0814 - accuracy: 0.9627 - val_loss: 0.0798 - val_accuracy: 0.9607\n",
            "Epoch 16/100\n",
            "3/3 [==============================] - 0s 22ms/step - loss: 0.0783 - accuracy: 0.9627 - val_loss: 0.0769 - val_accuracy: 0.9607\n",
            "Epoch 17/100\n",
            "3/3 [==============================] - 0s 31ms/step - loss: 0.0756 - accuracy: 0.9627 - val_loss: 0.0743 - val_accuracy: 0.9607\n",
            "Epoch 18/100\n",
            "3/3 [==============================] - 0s 30ms/step - loss: 0.0731 - accuracy: 0.9631 - val_loss: 0.0720 - val_accuracy: 0.9635\n",
            "Epoch 19/100\n",
            "3/3 [==============================] - 0s 23ms/step - loss: 0.0709 - accuracy: 0.9668 - val_loss: 0.0701 - val_accuracy: 0.9662\n",
            "Epoch 20/100\n",
            "3/3 [==============================] - 0s 24ms/step - loss: 0.0691 - accuracy: 0.9699 - val_loss: 0.0684 - val_accuracy: 0.9662\n",
            "Epoch 21/100\n",
            "3/3 [==============================] - 0s 23ms/step - loss: 0.0675 - accuracy: 0.9700 - val_loss: 0.0669 - val_accuracy: 0.9666\n",
            "Epoch 22/100\n",
            "3/3 [==============================] - 0s 22ms/step - loss: 0.0661 - accuracy: 0.9691 - val_loss: 0.0656 - val_accuracy: 0.9678\n",
            "Epoch 23/100\n",
            "3/3 [==============================] - 0s 22ms/step - loss: 0.0648 - accuracy: 0.9680 - val_loss: 0.0644 - val_accuracy: 0.9674\n",
            "Epoch 24/100\n",
            "3/3 [==============================] - 0s 32ms/step - loss: 0.0637 - accuracy: 0.9686 - val_loss: 0.0632 - val_accuracy: 0.9674\n",
            "Epoch 25/100\n",
            "3/3 [==============================] - 0s 23ms/step - loss: 0.0626 - accuracy: 0.9696 - val_loss: 0.0621 - val_accuracy: 0.9678\n",
            "Epoch 26/100\n",
            "3/3 [==============================] - 0s 30ms/step - loss: 0.0616 - accuracy: 0.9698 - val_loss: 0.0611 - val_accuracy: 0.9690\n",
            "Epoch 27/100\n",
            "3/3 [==============================] - 0s 32ms/step - loss: 0.0606 - accuracy: 0.9702 - val_loss: 0.0602 - val_accuracy: 0.9706\n",
            "Epoch 28/100\n",
            "3/3 [==============================] - 0s 24ms/step - loss: 0.0597 - accuracy: 0.9707 - val_loss: 0.0592 - val_accuracy: 0.9721\n",
            "Epoch 29/100\n",
            "3/3 [==============================] - 0s 30ms/step - loss: 0.0588 - accuracy: 0.9720 - val_loss: 0.0583 - val_accuracy: 0.9737\n",
            "Epoch 30/100\n",
            "3/3 [==============================] - 0s 23ms/step - loss: 0.0580 - accuracy: 0.9758 - val_loss: 0.0575 - val_accuracy: 0.9788\n",
            "Epoch 31/100\n",
            "3/3 [==============================] - 0s 22ms/step - loss: 0.0572 - accuracy: 0.9783 - val_loss: 0.0566 - val_accuracy: 0.9815\n",
            "Epoch 32/100\n",
            "3/3 [==============================] - 0s 29ms/step - loss: 0.0564 - accuracy: 0.9801 - val_loss: 0.0558 - val_accuracy: 0.9831\n",
            "Epoch 33/100\n",
            "3/3 [==============================] - 0s 29ms/step - loss: 0.0557 - accuracy: 0.9811 - val_loss: 0.0550 - val_accuracy: 0.9831\n",
            "Epoch 34/100\n",
            "3/3 [==============================] - 0s 30ms/step - loss: 0.0549 - accuracy: 0.9810 - val_loss: 0.0542 - val_accuracy: 0.9823\n",
            "Epoch 35/100\n",
            "3/3 [==============================] - 0s 31ms/step - loss: 0.0541 - accuracy: 0.9798 - val_loss: 0.0534 - val_accuracy: 0.9784\n",
            "Epoch 36/100\n",
            "3/3 [==============================] - 0s 22ms/step - loss: 0.0534 - accuracy: 0.9783 - val_loss: 0.0527 - val_accuracy: 0.9761\n",
            "Epoch 37/100\n",
            "3/3 [==============================] - 0s 27ms/step - loss: 0.0527 - accuracy: 0.9774 - val_loss: 0.0520 - val_accuracy: 0.9784\n",
            "Epoch 38/100\n",
            "3/3 [==============================] - 0s 31ms/step - loss: 0.0520 - accuracy: 0.9793 - val_loss: 0.0513 - val_accuracy: 0.9804\n",
            "Epoch 39/100\n",
            "3/3 [==============================] - 0s 30ms/step - loss: 0.0514 - accuracy: 0.9816 - val_loss: 0.0506 - val_accuracy: 0.9835\n",
            "Epoch 40/100\n",
            "3/3 [==============================] - 0s 21ms/step - loss: 0.0507 - accuracy: 0.9834 - val_loss: 0.0499 - val_accuracy: 0.9843\n",
            "Epoch 41/100\n",
            "3/3 [==============================] - 0s 21ms/step - loss: 0.0500 - accuracy: 0.9851 - val_loss: 0.0492 - val_accuracy: 0.9859\n",
            "Epoch 42/100\n",
            "3/3 [==============================] - 0s 21ms/step - loss: 0.0494 - accuracy: 0.9862 - val_loss: 0.0485 - val_accuracy: 0.9870\n",
            "Epoch 43/100\n",
            "3/3 [==============================] - 0s 30ms/step - loss: 0.0487 - accuracy: 0.9872 - val_loss: 0.0478 - val_accuracy: 0.9886\n",
            "Epoch 44/100\n",
            "3/3 [==============================] - 0s 22ms/step - loss: 0.0481 - accuracy: 0.9895 - val_loss: 0.0471 - val_accuracy: 0.9910\n",
            "Epoch 45/100\n",
            "3/3 [==============================] - 0s 29ms/step - loss: 0.0474 - accuracy: 0.9914 - val_loss: 0.0464 - val_accuracy: 0.9918\n",
            "Epoch 46/100\n",
            "3/3 [==============================] - 0s 31ms/step - loss: 0.0468 - accuracy: 0.9925 - val_loss: 0.0456 - val_accuracy: 0.9925\n",
            "Epoch 47/100\n",
            "3/3 [==============================] - 0s 29ms/step - loss: 0.0461 - accuracy: 0.9938 - val_loss: 0.0450 - val_accuracy: 0.9925\n",
            "Epoch 48/100\n",
            "3/3 [==============================] - 0s 23ms/step - loss: 0.0455 - accuracy: 0.9950 - val_loss: 0.0443 - val_accuracy: 0.9933\n",
            "Epoch 49/100\n",
            "3/3 [==============================] - 0s 24ms/step - loss: 0.0448 - accuracy: 0.9954 - val_loss: 0.0436 - val_accuracy: 0.9933\n",
            "Epoch 50/100\n",
            "3/3 [==============================] - 0s 30ms/step - loss: 0.0442 - accuracy: 0.9955 - val_loss: 0.0430 - val_accuracy: 0.9941\n",
            "Epoch 51/100\n",
            "3/3 [==============================] - 0s 30ms/step - loss: 0.0436 - accuracy: 0.9949 - val_loss: 0.0424 - val_accuracy: 0.9941\n",
            "Epoch 52/100\n",
            "3/3 [==============================] - 0s 30ms/step - loss: 0.0431 - accuracy: 0.9950 - val_loss: 0.0418 - val_accuracy: 0.9949\n",
            "Epoch 53/100\n",
            "3/3 [==============================] - 0s 21ms/step - loss: 0.0424 - accuracy: 0.9958 - val_loss: 0.0410 - val_accuracy: 0.9969\n",
            "Epoch 54/100\n",
            "3/3 [==============================] - 0s 23ms/step - loss: 0.0417 - accuracy: 0.9971 - val_loss: 0.0403 - val_accuracy: 0.9961\n",
            "Epoch 55/100\n",
            "3/3 [==============================] - 0s 23ms/step - loss: 0.0411 - accuracy: 0.9967 - val_loss: 0.0396 - val_accuracy: 0.9961\n",
            "Epoch 56/100\n",
            "3/3 [==============================] - 0s 23ms/step - loss: 0.0405 - accuracy: 0.9967 - val_loss: 0.0389 - val_accuracy: 0.9965\n",
            "Epoch 57/100\n",
            "3/3 [==============================] - 0s 22ms/step - loss: 0.0399 - accuracy: 0.9969 - val_loss: 0.0382 - val_accuracy: 0.9965\n",
            "Epoch 58/100\n",
            "3/3 [==============================] - 0s 22ms/step - loss: 0.0392 - accuracy: 0.9970 - val_loss: 0.0376 - val_accuracy: 0.9969\n",
            "Epoch 59/100\n",
            "3/3 [==============================] - 0s 23ms/step - loss: 0.0386 - accuracy: 0.9970 - val_loss: 0.0369 - val_accuracy: 0.9976\n",
            "Epoch 60/100\n",
            "3/3 [==============================] - 0s 21ms/step - loss: 0.0380 - accuracy: 0.9974 - val_loss: 0.0363 - val_accuracy: 0.9976\n",
            "Epoch 61/100\n",
            "3/3 [==============================] - 0s 22ms/step - loss: 0.0375 - accuracy: 0.9973 - val_loss: 0.0358 - val_accuracy: 0.9973\n",
            "Epoch 62/100\n",
            "3/3 [==============================] - 0s 30ms/step - loss: 0.0369 - accuracy: 0.9974 - val_loss: 0.0352 - val_accuracy: 0.9973\n",
            "Epoch 63/100\n",
            "3/3 [==============================] - 0s 25ms/step - loss: 0.0364 - accuracy: 0.9974 - val_loss: 0.0345 - val_accuracy: 0.9973\n",
            "Epoch 64/100\n",
            "3/3 [==============================] - 0s 30ms/step - loss: 0.0357 - accuracy: 0.9975 - val_loss: 0.0338 - val_accuracy: 0.9980\n",
            "Epoch 65/100\n",
            "3/3 [==============================] - 0s 31ms/step - loss: 0.0351 - accuracy: 0.9975 - val_loss: 0.0332 - val_accuracy: 0.9984\n",
            "Epoch 66/100\n",
            "3/3 [==============================] - 0s 23ms/step - loss: 0.0346 - accuracy: 0.9976 - val_loss: 0.0326 - val_accuracy: 0.9984\n",
            "Epoch 67/100\n",
            "3/3 [==============================] - 0s 22ms/step - loss: 0.0340 - accuracy: 0.9976 - val_loss: 0.0320 - val_accuracy: 0.9984\n",
            "Epoch 68/100\n",
            "3/3 [==============================] - 0s 34ms/step - loss: 0.0334 - accuracy: 0.9978 - val_loss: 0.0314 - val_accuracy: 0.9984\n",
            "Epoch 69/100\n",
            "3/3 [==============================] - 0s 35ms/step - loss: 0.0329 - accuracy: 0.9979 - val_loss: 0.0310 - val_accuracy: 0.9980\n",
            "Epoch 70/100\n",
            "3/3 [==============================] - 0s 22ms/step - loss: 0.0325 - accuracy: 0.9979 - val_loss: 0.0304 - val_accuracy: 0.9984\n",
            "Epoch 71/100\n",
            "3/3 [==============================] - 0s 22ms/step - loss: 0.0319 - accuracy: 0.9979 - val_loss: 0.0298 - val_accuracy: 0.9984\n",
            "Epoch 72/100\n",
            "3/3 [==============================] - 0s 23ms/step - loss: 0.0314 - accuracy: 0.9979 - val_loss: 0.0292 - val_accuracy: 0.9984\n",
            "Epoch 73/100\n",
            "3/3 [==============================] - 0s 37ms/step - loss: 0.0309 - accuracy: 0.9980 - val_loss: 0.0286 - val_accuracy: 0.9988\n",
            "Epoch 74/100\n",
            "3/3 [==============================] - 0s 23ms/step - loss: 0.0304 - accuracy: 0.9982 - val_loss: 0.0281 - val_accuracy: 0.9988\n",
            "Epoch 75/100\n",
            "3/3 [==============================] - 0s 30ms/step - loss: 0.0299 - accuracy: 0.9982 - val_loss: 0.0275 - val_accuracy: 0.9988\n",
            "Epoch 76/100\n",
            "3/3 [==============================] - 0s 30ms/step - loss: 0.0295 - accuracy: 0.9982 - val_loss: 0.0270 - val_accuracy: 0.9988\n",
            "Epoch 77/100\n",
            "3/3 [==============================] - 0s 31ms/step - loss: 0.0290 - accuracy: 0.9983 - val_loss: 0.0265 - val_accuracy: 0.9988\n",
            "Epoch 78/100\n",
            "3/3 [==============================] - 0s 31ms/step - loss: 0.0285 - accuracy: 0.9984 - val_loss: 0.0260 - val_accuracy: 0.9988\n",
            "Epoch 79/100\n",
            "3/3 [==============================] - 0s 30ms/step - loss: 0.0280 - accuracy: 0.9983 - val_loss: 0.0255 - val_accuracy: 0.9988\n",
            "Epoch 80/100\n",
            "3/3 [==============================] - 0s 31ms/step - loss: 0.0276 - accuracy: 0.9983 - val_loss: 0.0251 - val_accuracy: 0.9988\n",
            "Epoch 81/100\n",
            "3/3 [==============================] - 0s 23ms/step - loss: 0.0271 - accuracy: 0.9984 - val_loss: 0.0247 - val_accuracy: 0.9988\n",
            "Epoch 82/100\n",
            "3/3 [==============================] - 0s 22ms/step - loss: 0.0267 - accuracy: 0.9984 - val_loss: 0.0242 - val_accuracy: 0.9988\n",
            "Epoch 83/100\n",
            "3/3 [==============================] - 0s 27ms/step - loss: 0.0263 - accuracy: 0.9984 - val_loss: 0.0238 - val_accuracy: 0.9988\n",
            "Epoch 84/100\n",
            "3/3 [==============================] - 0s 22ms/step - loss: 0.0259 - accuracy: 0.9985 - val_loss: 0.0233 - val_accuracy: 0.9988\n",
            "Epoch 85/100\n",
            "3/3 [==============================] - 0s 31ms/step - loss: 0.0255 - accuracy: 0.9985 - val_loss: 0.0227 - val_accuracy: 0.9992\n",
            "Epoch 86/100\n",
            "3/3 [==============================] - 0s 30ms/step - loss: 0.0250 - accuracy: 0.9985 - val_loss: 0.0222 - val_accuracy: 0.9992\n",
            "Epoch 87/100\n",
            "3/3 [==============================] - 0s 22ms/step - loss: 0.0246 - accuracy: 0.9987 - val_loss: 0.0218 - val_accuracy: 0.9992\n",
            "Epoch 88/100\n",
            "3/3 [==============================] - 0s 23ms/step - loss: 0.0242 - accuracy: 0.9988 - val_loss: 0.0213 - val_accuracy: 0.9992\n",
            "Epoch 89/100\n",
            "3/3 [==============================] - 0s 31ms/step - loss: 0.0237 - accuracy: 0.9988 - val_loss: 0.0208 - val_accuracy: 0.9992\n",
            "Epoch 90/100\n",
            "3/3 [==============================] - 0s 31ms/step - loss: 0.0233 - accuracy: 0.9988 - val_loss: 0.0206 - val_accuracy: 0.9992\n",
            "Epoch 91/100\n",
            "3/3 [==============================] - 0s 22ms/step - loss: 0.0230 - accuracy: 0.9988 - val_loss: 0.0202 - val_accuracy: 0.9992\n",
            "Epoch 92/100\n",
            "3/3 [==============================] - 0s 23ms/step - loss: 0.0227 - accuracy: 0.9989 - val_loss: 0.0196 - val_accuracy: 0.9996\n",
            "Epoch 93/100\n",
            "3/3 [==============================] - 0s 22ms/step - loss: 0.0222 - accuracy: 0.9992 - val_loss: 0.0191 - val_accuracy: 1.0000\n",
            "Epoch 94/100\n",
            "3/3 [==============================] - 0s 33ms/step - loss: 0.0217 - accuracy: 0.9994 - val_loss: 0.0187 - val_accuracy: 1.0000\n",
            "Epoch 95/100\n",
            "3/3 [==============================] - 0s 24ms/step - loss: 0.0214 - accuracy: 0.9994 - val_loss: 0.0183 - val_accuracy: 1.0000\n",
            "Epoch 96/100\n",
            "3/3 [==============================] - 0s 30ms/step - loss: 0.0211 - accuracy: 0.9994 - val_loss: 0.0180 - val_accuracy: 1.0000\n",
            "Epoch 97/100\n",
            "3/3 [==============================] - 0s 30ms/step - loss: 0.0208 - accuracy: 0.9994 - val_loss: 0.0175 - val_accuracy: 1.0000\n",
            "Epoch 98/100\n",
            "3/3 [==============================] - 0s 33ms/step - loss: 0.0203 - accuracy: 0.9994 - val_loss: 0.0171 - val_accuracy: 1.0000\n",
            "Epoch 99/100\n",
            "3/3 [==============================] - 0s 31ms/step - loss: 0.0200 - accuracy: 0.9994 - val_loss: 0.0168 - val_accuracy: 1.0000\n",
            "Epoch 100/100\n",
            "3/3 [==============================] - 0s 22ms/step - loss: 0.0196 - accuracy: 0.9994 - val_loss: 0.0164 - val_accuracy: 1.0000\n"
          ]
        }
      ],
      "source": [
        "if model_selection[model_flag]==\"ALL\" or model_selection[model_flag] == \"LSTM\":\n",
        "  # training the model on training dataset\n",
        "  history = lst.fit(x_train, y_train, epochs=100, batch_size=5000,validation_split=0.2)"
      ]
    },
    {
      "cell_type": "code",
      "execution_count": 49,
      "metadata": {
        "id": "BCQtvJcXRcNr",
        "colab": {
          "base_uri": "https://localhost:8080/"
        },
        "outputId": "f6791e17-caf0-4179-de15-2fa36824b80f"
      },
      "outputs": [
        {
          "output_type": "stream",
          "name": "stdout",
          "text": [
            "Saved model to disk\n",
            "Loaded model from disk\n"
          ]
        }
      ],
      "source": [
        "if model_selection[model_flag]==\"ALL\" or model_selection[model_flag] == \"LSTM\":\n",
        "  filepath = '/content/drive/MyDrive/Colab_Notebooks/Models/lst_binary_kitsune'+model_name_suffix+'.json'\n",
        "  weightspath = '/content/drive/MyDrive/Colab_Notebooks/Weights/lst_binary_kitsune'+model_name_suffix+'.h5'\n",
        "  if (not path.isfile(filepath)):\n",
        "    # serialize model to JSON\n",
        "    lst_json = lst.to_json()\n",
        "    with open(filepath, \"w\") as json_file:\n",
        "      json_file.write(lst_json)\n",
        "\n",
        "    # serialize weights to HDF5\n",
        "    lst.save_weights(weightspath)\n",
        "    print(\"Saved model to disk\")\n",
        "\n",
        "    # load json and create model\n",
        "    json_file = open(filepath, 'r')\n",
        "    loaded_model_json = json_file.read()\n",
        "    json_file.close()\n",
        "    lst = model_from_json(loaded_model_json)\n",
        "\n",
        "    # load weights into new model\n",
        "    lst.load_weights(weightspath)\n",
        "    print(\"Loaded model from disk\")"
      ]
    },
    {
      "cell_type": "code",
      "execution_count": 50,
      "metadata": {
        "id": "rPaW37T-R0dG",
        "colab": {
          "base_uri": "https://localhost:8080/"
        },
        "outputId": "45f75432-5ba2-4e28-c5ba-22c9c99b329a"
      },
      "outputs": [
        {
          "output_type": "stream",
          "name": "stdout",
          "text": [
            "Loaded model from disk\n"
          ]
        }
      ],
      "source": [
        "if model_selection[model_flag]==\"ALL\" or model_selection[model_flag] == \"LSTM\":\n",
        "  # load json and create model\n",
        "  json_file = open(filepath, 'r')\n",
        "  loaded_model_json = json_file.read()\n",
        "  json_file.close()\n",
        "  lst = model_from_json(loaded_model_json)\n",
        "\n",
        "  # load weights into new model\n",
        "  lst.load_weights(weightspath)\n",
        "  print(\"Loaded model from disk\")"
      ]
    },
    {
      "cell_type": "code",
      "execution_count": 51,
      "metadata": {
        "id": "ukGDdSggR3na"
      },
      "outputs": [],
      "source": [
        "if model_selection[model_flag]==\"ALL\" or model_selection[model_flag] == \"LSTM\":\n",
        "  # defining loss function, optimizer, metrics and then compiling model\n",
        "  lst.compile(loss='binary_crossentropy',optimizer='adam',metrics=['accuracy'])"
      ]
    },
    {
      "cell_type": "code",
      "execution_count": 52,
      "metadata": {
        "id": "nvjY0u97R68f",
        "colab": {
          "base_uri": "https://localhost:8080/"
        },
        "outputId": "97658352-147e-41bd-e41d-7aac41b07ecf"
      },
      "outputs": [
        {
          "output_type": "stream",
          "name": "stdout",
          "text": [
            "133/133 [==============================] - 2s 4ms/step - loss: 1.9547 - accuracy: 0.2052\n",
            "Test results - Loss: 1.9546605348587036 - Accuracy: 20.518256723880768%\n"
          ]
        }
      ],
      "source": [
        "if model_selection[model_flag]==\"ALL\" or model_selection[model_flag] == \"LSTM\":\n",
        "  # predicting target attribute on testing dataset\n",
        "  test_results = lst.evaluate(x_test, y_test, verbose=1)\n",
        "  print(f'Test results - Loss: {test_results[0]} - Accuracy: {test_results[1]*100}%')"
      ]
    },
    {
      "cell_type": "code",
      "execution_count": 53,
      "metadata": {
        "id": "f8yKMcIHR_jP",
        "colab": {
          "base_uri": "https://localhost:8080/",
          "height": 472
        },
        "outputId": "cbc63588-6316-4170-9269-5b9f942230b8"
      },
      "outputs": [
        {
          "output_type": "display_data",
          "data": {
            "text/plain": [
              "<Figure size 640x480 with 1 Axes>"
            ],
            "image/png": "[encoded data removed]"
          },
          "metadata": {}
        }
      ],
      "source": [
        "if model_selection[model_flag]==\"ALL\" or model_selection[model_flag] == \"LSTM\":\n",
        "  # Plot of accuracy vs epoch of train and test dataset\n",
        "  plt.plot(history.history['accuracy'])\n",
        "  plt.plot(history.history['val_accuracy'])\n",
        "  plt.title(\"Plot of accuracy vs epoch for train and test dataset\")\n",
        "  plt.ylabel('accuracy')\n",
        "  plt.xlabel('epoch')\n",
        "  plt.legend(['train', 'test'], loc='best')\n",
        "  plt.savefig('/content/drive/MyDrive/Colab_Notebooks/Plots/lstm_binary_accuracy.png')\n",
        "  plt.show()"
      ]
    },
    {
      "cell_type": "code",
      "execution_count": 54,
      "metadata": {
        "id": "M5g1Rw_SSb5n",
        "colab": {
          "base_uri": "https://localhost:8080/",
          "height": 472
        },
        "outputId": "412c2855-1be3-4334-f234-0b4dda6544c6"
      },
      "outputs": [
        {
          "output_type": "display_data",
          "data": {
            "text/plain": [
              "<Figure size 640x480 with 1 Axes>"
            ],
            "image/png": "[encoded data removed]"
          },
          "metadata": {}
        }
      ],
      "source": [
        "if model_selection[model_flag]==\"ALL\" or model_selection[model_flag] == \"LSTM\":\n",
        "  # Plot of loss vs epoch of train and test dataset\n",
        "  plt.plot(history.history['loss'])\n",
        "  plt.plot(history.history['val_loss'])\n",
        "  plt.title(\"Plot of loss vs epoch for train and test dataset\")\n",
        "  plt.ylabel('loss')\n",
        "  plt.xlabel('epoch')\n",
        "  plt.legend(['train', 'test'], loc='best')\n",
        "  plt.savefig('/content/drive/MyDrive/Colab_Notebooks/Plots/lstm_binary_loss.png')\n",
        "  plt.show()"
      ]
    },
    {
      "cell_type": "code",
      "execution_count": 55,
      "metadata": {
        "id": "osZa2OV9Se-T"
      },
      "outputs": [],
      "source": [
        "if model_selection[model_flag]==\"ALL\" or model_selection[model_flag] == \"LSTM\":\n",
        "  # representation of model layers\n",
        "  plot_model(lst, to_file='/content/drive/MyDrive/Colab_Notebooks/Plots/lstm_binary.png', show_shapes=True,)"
      ]
    },
    {
      "cell_type": "code",
      "execution_count": 56,
      "metadata": {
        "id": "lw4OLD4HSpaY",
        "colab": {
          "base_uri": "https://localhost:8080/"
        },
        "outputId": "1ba3cbdf-3afb-4886-a325-ca60db3f42d6"
      },
      "outputs": [
        {
          "output_type": "execute_result",
          "data": {
            "text/plain": [
              "(4245,)"
            ]
          },
          "metadata": {},
          "execution_count": 56
        }
      ],
      "source": [
        "y_test = np.array(y_test)\n",
        "y_test.shape"
      ]
    },
    {
      "cell_type": "code",
      "execution_count": 57,
      "metadata": {
        "id": "4BvYVrKsTGr3",
        "colab": {
          "base_uri": "https://localhost:8080/"
        },
        "outputId": "d11850d9-0249-4ad6-e6f7-c11768461062"
      },
      "outputs": [
        {
          "output_type": "execute_result",
          "data": {
            "text/plain": [
              "numpy.ndarray"
            ]
          },
          "metadata": {},
          "execution_count": 57
        }
      ],
      "source": [
        "type(y_test)"
      ]
    },
    {
      "cell_type": "code",
      "execution_count": 58,
      "metadata": {
        "id": "KBvCGl6BS0FM",
        "colab": {
          "base_uri": "https://localhost:8080/"
        },
        "outputId": "84e27726-6d3c-48e8-c16d-41b092e40d83"
      },
      "outputs": [
        {
          "output_type": "stream",
          "name": "stdout",
          "text": [
            "133/133 [==============================] - 1s 2ms/step\n"
          ]
        }
      ],
      "source": [
        "if model_selection[model_flag]==\"ALL\" or model_selection[model_flag] == \"LSTM\":\n",
        "  y_classes = (lst.predict(x_test)>0.5).astype('int32')"
      ]
    },
    {
      "cell_type": "code",
      "execution_count": 59,
      "metadata": {
        "id": "x_yVqBlLTtLW",
        "colab": {
          "base_uri": "https://localhost:8080/"
        },
        "outputId": "a7d93a99-c89c-4807-876d-96e2131e7605"
      },
      "outputs": [
        {
          "output_type": "stream",
          "name": "stdout",
          "text": [
            "Recall Score -  1.0\n",
            "F1 Score -  0.09495708154506437\n",
            "Precision Score -  0.04984511405237961\n",
            "False Positive Rate -  [0.8294002]\n",
            "False Negative Rate -  [0.]\n",
            "Thresholds -  [1]\n"
          ]
        }
      ],
      "source": [
        "if model_selection[model_flag]==\"ALL\" or model_selection[model_flag] == \"LSTM\":\n",
        "  print(\"Recall Score - \",recall_score(y_test,y_classes))\n",
        "  print(\"F1 Score - \",f1_score(y_test,y_classes))\n",
        "  print(\"Precision Score - \",precision_score(y_test,y_classes))\n",
        "  fpr, fnr, thresholds = det_curve(y_test, y_classes)\n",
        "  print(\"False Positive Rate - \", fpr)\n",
        "  print(\"False Negative Rate - \", fnr)\n",
        "  print(\"Thresholds - \", thresholds)"
      ]
    },
    {
      "cell_type": "code",
      "source": [
        "print(classification_report(y_test, y_classes, target_names=['0', '1']))\n",
        "cm = confusion_matrix(y_test, y_classes)\n",
        "disp = ConfusionMatrixDisplay(confusion_matrix=cm,\n",
        "                              display_labels=['0', '1'])\n",
        "disp.plot()\n",
        "\n",
        "plt.show()"
      ],
      "metadata": {
        "id": "lHw1E32esovH",
        "colab": {
          "base_uri": "https://localhost:8080/",
          "height": 610
        },
        "outputId": "22fda2c7-cc53-4330-d58f-88dc3f1863a8"
      },
      "execution_count": 60,
      "outputs": [
        {
          "output_type": "stream",
          "name": "stdout",
          "text": [
            "              precision    recall  f1-score   support\n",
            "\n",
            "           0       1.00      0.17      0.29      4068\n",
            "           1       0.05      1.00      0.09       177\n",
            "\n",
            "    accuracy                           0.21      4245\n",
            "   macro avg       0.52      0.59      0.19      4245\n",
            "weighted avg       0.96      0.21      0.28      4245\n",
            "\n"
          ]
        },
        {
          "output_type": "display_data",
          "data": {
            "text/plain": [
              "<Figure size 640x480 with 2 Axes>"
            ],
            "image/png": "[encoded data removed]"
          },
          "metadata": {}
        }
      ]
    },
    {
      "cell_type": "markdown",
      "metadata": {
        "id": "H_g15uXe82BY"
      },
      "source": [
        "## **Auto Encoder**"
      ]
    },
    {
      "cell_type": "code",
      "execution_count": 61,
      "metadata": {
        "id": "VQ6pDxghmBwB"
      },
      "outputs": [],
      "source": [
        "if model_selection[model_flag]==\"ALL\" or model_selection[model_flag] == \"AE\":\n",
        "  # splitting the dataset 75% for training and 25% testing\n",
        "  X_train, X_test = train_test_split(bin_data, test_size=0.25, random_state=42)"
      ]
    },
    {
      "cell_type": "code",
      "execution_count": 62,
      "metadata": {
        "id": "uogVT92Q_6wh"
      },
      "outputs": [],
      "source": [
        "if model_selection[model_flag]==\"ALL\" or model_selection[model_flag] == \"AE\":\n",
        "  # dataset excluding target attribute (encoded, one-hot-encoded,original)\n",
        "  X_train = X_train.drop(['label'],axis=1) \n",
        "\n",
        "  y_test = X_test['label'] # target attribute\n",
        "\n",
        "  # dataset excluding target attribute (encoded, one-hot-encoded,original)\n",
        "  X_test = X_test.drop(['label'],axis=1)\n",
        "  # calling the normalization() function\n",
        "  X_train = normalization_train(X_train,numeric_cols)\n",
        "  X_test = normalization_test(X_test,numeric_cols)\n",
        "  X_train = X_train.values\n",
        "  X_test = X_test.values\n",
        "  y_test = y_test.values"
      ]
    },
    {
      "cell_type": "code",
      "execution_count": 63,
      "metadata": {
        "id": "s696BM9uKADC"
      },
      "outputs": [],
      "source": [
        "if model_selection[model_flag]==\"ALL\" or model_selection[model_flag] == \"AE\":\n",
        "  input_dim = X_train.shape[1]\n",
        "  encoding_dim = 50\n",
        "\n",
        "  #input layer\n",
        "  input_layer = Input(shape=(input_dim, ))\n",
        "  #encoding layer with 50 neurons\n",
        "  encoder = Dense(encoding_dim, activation=\"relu\")(input_layer)           \n",
        "  #decoding and output layer\n",
        "  output_layer = Dense(input_dim, activation='softmax')(encoder)"
      ]
    },
    {
      "cell_type": "code",
      "execution_count": 64,
      "metadata": {
        "id": "nLn3vHBZLQtj"
      },
      "outputs": [],
      "source": [
        "if model_selection[model_flag]==\"ALL\" or model_selection[model_flag] == \"AE\":\n",
        "  # creating model with input, encoding, decoding, output layers\n",
        "  autoencoder = Model(inputs=input_layer, outputs=output_layer)\n",
        "\n",
        "  # defining loss function, optimizer, metrics and then compiling model\n",
        "  autoencoder.compile(optimizer='adam', loss='mean_squared_error',metrics=['accuracy'])"
      ]
    },
    {
      "cell_type": "code",
      "execution_count": 65,
      "metadata": {
        "id": "X_zk7PMVLVNm",
        "colab": {
          "base_uri": "https://localhost:8080/"
        },
        "outputId": "e354c292-a47a-4db9-86c7-2b6dcf7246c9"
      },
      "outputs": [
        {
          "output_type": "stream",
          "name": "stdout",
          "text": [
            "Model: \"model\"\n",
            "_________________________________________________________________\n",
            " Layer (type)                Output Shape              Param #   \n",
            "=================================================================\n",
            " input_1 (InputLayer)        [(None, 116)]             0         \n",
            "                                                                 \n",
            " dense_3 (Dense)             (None, 50)                5850      \n",
            "                                                                 \n",
            " dense_4 (Dense)             (None, 116)               5916      \n",
            "                                                                 \n",
            "=================================================================\n",
            "Total params: 11,766\n",
            "Trainable params: 11,766\n",
            "Non-trainable params: 0\n",
            "_________________________________________________________________\n"
          ]
        }
      ],
      "source": [
        "if model_selection[model_flag]==\"ALL\" or model_selection[model_flag] == \"AE\":\n",
        "  # summary of model layers\n",
        "  autoencoder.summary()"
      ]
    },
    {
      "cell_type": "code",
      "execution_count": 66,
      "metadata": {
        "id": "We59NbebLdkJ",
        "colab": {
          "base_uri": "https://localhost:8080/"
        },
        "outputId": "9db4e4b5-8f4d-4343-cde6-c90b73503af9"
      },
      "outputs": [
        {
          "output_type": "stream",
          "name": "stdout",
          "text": [
            "Epoch 1/100\n",
            "26/26 [==============================] - 1s 11ms/step - loss: 0.3118 - accuracy: 0.0087 - val_loss: 6320268251234304.0000 - val_accuracy: 0.0000e+00\n",
            "Epoch 2/100\n",
            "26/26 [==============================] - 0s 6ms/step - loss: 0.3084 - accuracy: 0.0379 - val_loss: 6320268251234304.0000 - val_accuracy: 0.0000e+00\n",
            "Epoch 3/100\n",
            "26/26 [==============================] - 0s 6ms/step - loss: 0.3071 - accuracy: 0.0240 - val_loss: 6320268251234304.0000 - val_accuracy: 0.0000e+00\n",
            "Epoch 4/100\n",
            "26/26 [==============================] - 0s 5ms/step - loss: 0.3065 - accuracy: 0.0879 - val_loss: 6320268251234304.0000 - val_accuracy: 0.0000e+00\n",
            "Epoch 5/100\n",
            "26/26 [==============================] - 0s 5ms/step - loss: 0.3062 - accuracy: 0.2136 - val_loss: 6320268251234304.0000 - val_accuracy: 0.0000e+00\n",
            "Epoch 6/100\n",
            "26/26 [==============================] - 0s 5ms/step - loss: 0.3062 - accuracy: 0.2996 - val_loss: 6320268251234304.0000 - val_accuracy: 0.0000e+00\n",
            "Epoch 7/100\n",
            "26/26 [==============================] - 0s 7ms/step - loss: 0.3061 - accuracy: 0.2204 - val_loss: 6320268251234304.0000 - val_accuracy: 0.0000e+00\n",
            "Epoch 8/100\n",
            "26/26 [==============================] - 0s 7ms/step - loss: 0.3060 - accuracy: 0.2232 - val_loss: 6320268251234304.0000 - val_accuracy: 0.0000e+00\n",
            "Epoch 9/100\n",
            "26/26 [==============================] - 0s 6ms/step - loss: 0.3060 - accuracy: 0.2502 - val_loss: 6320268251234304.0000 - val_accuracy: 0.0108\n",
            "Epoch 10/100\n",
            "26/26 [==============================] - 0s 5ms/step - loss: 0.3060 - accuracy: 0.4162 - val_loss: 6320268251234304.0000 - val_accuracy: 0.0476\n",
            "Epoch 11/100\n",
            "26/26 [==============================] - 0s 5ms/step - loss: 0.3060 - accuracy: 0.4219 - val_loss: 6320268251234304.0000 - val_accuracy: 0.0806\n",
            "Epoch 12/100\n",
            "26/26 [==============================] - 0s 5ms/step - loss: 0.3059 - accuracy: 0.3624 - val_loss: 6320268251234304.0000 - val_accuracy: 0.0902\n",
            "Epoch 13/100\n",
            "26/26 [==============================] - 0s 5ms/step - loss: 0.3059 - accuracy: 0.3043 - val_loss: 6320268251234304.0000 - val_accuracy: 0.0928\n",
            "Epoch 14/100\n",
            "26/26 [==============================] - 0s 5ms/step - loss: 0.3059 - accuracy: 0.2348 - val_loss: 6320268251234304.0000 - val_accuracy: 0.0945\n",
            "Epoch 15/100\n",
            "26/26 [==============================] - 0s 6ms/step - loss: 0.3059 - accuracy: 0.2434 - val_loss: 6320268251234304.0000 - val_accuracy: 0.0945\n",
            "Epoch 16/100\n",
            "26/26 [==============================] - 0s 5ms/step - loss: 0.3059 - accuracy: 0.2498 - val_loss: 6320268251234304.0000 - val_accuracy: 0.0945\n",
            "Epoch 17/100\n",
            "26/26 [==============================] - 0s 5ms/step - loss: 0.3059 - accuracy: 0.2497 - val_loss: 6320268251234304.0000 - val_accuracy: 0.0945\n",
            "Epoch 18/100\n",
            "26/26 [==============================] - 0s 5ms/step - loss: 0.3059 - accuracy: 0.2692 - val_loss: 6320268251234304.0000 - val_accuracy: 0.0945\n",
            "Epoch 19/100\n",
            "26/26 [==============================] - 0s 5ms/step - loss: 0.3059 - accuracy: 0.2694 - val_loss: 6320268251234304.0000 - val_accuracy: 0.0945\n",
            "Epoch 20/100\n",
            "26/26 [==============================] - 0s 6ms/step - loss: 0.3059 - accuracy: 0.2857 - val_loss: 6320268251234304.0000 - val_accuracy: 0.0945\n",
            "Epoch 21/100\n",
            "26/26 [==============================] - 0s 5ms/step - loss: 0.3059 - accuracy: 0.2878 - val_loss: 6320268251234304.0000 - val_accuracy: 0.0945\n",
            "Epoch 22/100\n",
            "26/26 [==============================] - 0s 5ms/step - loss: 0.3059 - accuracy: 0.3036 - val_loss: 6320268251234304.0000 - val_accuracy: 0.0945\n",
            "Epoch 23/100\n",
            "26/26 [==============================] - 0s 6ms/step - loss: 0.3059 - accuracy: 0.3330 - val_loss: 6320268251234304.0000 - val_accuracy: 0.0945\n",
            "Epoch 24/100\n",
            "26/26 [==============================] - 0s 8ms/step - loss: 0.3058 - accuracy: 0.4118 - val_loss: 6320268251234304.0000 - val_accuracy: 0.0945\n",
            "Epoch 25/100\n",
            "26/26 [==============================] - 0s 6ms/step - loss: 0.3058 - accuracy: 0.4135 - val_loss: 6320268251234304.0000 - val_accuracy: 0.0945\n",
            "Epoch 26/100\n",
            "26/26 [==============================] - 0s 5ms/step - loss: 0.3058 - accuracy: 0.3013 - val_loss: 6320268251234304.0000 - val_accuracy: 0.0945\n",
            "Epoch 27/100\n",
            "26/26 [==============================] - 0s 7ms/step - loss: 0.3058 - accuracy: 0.2978 - val_loss: 6320268251234304.0000 - val_accuracy: 0.0945\n",
            "Epoch 28/100\n",
            "26/26 [==============================] - 0s 5ms/step - loss: 0.3058 - accuracy: 0.2983 - val_loss: 6320268251234304.0000 - val_accuracy: 0.0945\n",
            "Epoch 29/100\n",
            "26/26 [==============================] - 0s 6ms/step - loss: 0.3058 - accuracy: 0.3063 - val_loss: 6320268251234304.0000 - val_accuracy: 0.0945\n",
            "Epoch 30/100\n",
            "26/26 [==============================] - 0s 5ms/step - loss: 0.3058 - accuracy: 0.3317 - val_loss: 6320268251234304.0000 - val_accuracy: 0.0945\n",
            "Epoch 31/100\n",
            "26/26 [==============================] - 0s 5ms/step - loss: 0.3058 - accuracy: 0.3280 - val_loss: 6320268251234304.0000 - val_accuracy: 0.0945\n",
            "Epoch 32/100\n",
            "26/26 [==============================] - 0s 5ms/step - loss: 0.3058 - accuracy: 0.3222 - val_loss: 6320268251234304.0000 - val_accuracy: 0.0945\n",
            "Epoch 33/100\n",
            "26/26 [==============================] - 0s 5ms/step - loss: 0.3058 - accuracy: 0.3177 - val_loss: 6320268251234304.0000 - val_accuracy: 0.0945\n",
            "Epoch 34/100\n",
            "26/26 [==============================] - 0s 5ms/step - loss: 0.3058 - accuracy: 0.3370 - val_loss: 6320268251234304.0000 - val_accuracy: 0.0945\n",
            "Epoch 35/100\n",
            "26/26 [==============================] - 0s 9ms/step - loss: 0.3058 - accuracy: 0.3315 - val_loss: 6320268251234304.0000 - val_accuracy: 0.0945\n",
            "Epoch 36/100\n",
            "26/26 [==============================] - 0s 9ms/step - loss: 0.3058 - accuracy: 0.3241 - val_loss: 6320268251234304.0000 - val_accuracy: 0.0945\n",
            "Epoch 37/100\n",
            "26/26 [==============================] - 0s 8ms/step - loss: 0.3058 - accuracy: 0.3453 - val_loss: 6320268251234304.0000 - val_accuracy: 0.0945\n",
            "Epoch 38/100\n",
            "26/26 [==============================] - 0s 8ms/step - loss: 0.3058 - accuracy: 0.3449 - val_loss: 6320268251234304.0000 - val_accuracy: 0.0945\n",
            "Epoch 39/100\n",
            "26/26 [==============================] - 0s 7ms/step - loss: 0.3058 - accuracy: 0.3457 - val_loss: 6320268251234304.0000 - val_accuracy: 0.0945\n",
            "Epoch 40/100\n",
            "26/26 [==============================] - 0s 10ms/step - loss: 0.3058 - accuracy: 0.3584 - val_loss: 6320268251234304.0000 - val_accuracy: 0.0945\n",
            "Epoch 41/100\n",
            "26/26 [==============================] - 0s 9ms/step - loss: 0.3058 - accuracy: 0.3528 - val_loss: 6320268251234304.0000 - val_accuracy: 0.0945\n",
            "Epoch 42/100\n",
            "26/26 [==============================] - 0s 9ms/step - loss: 0.3058 - accuracy: 0.3526 - val_loss: 6320268251234304.0000 - val_accuracy: 0.0945\n",
            "Epoch 43/100\n",
            "26/26 [==============================] - 0s 9ms/step - loss: 0.3058 - accuracy: 0.3605 - val_loss: 6320268251234304.0000 - val_accuracy: 0.0888\n",
            "Epoch 44/100\n",
            "26/26 [==============================] - 0s 8ms/step - loss: 0.3058 - accuracy: 0.3515 - val_loss: 6320268251234304.0000 - val_accuracy: 0.0931\n",
            "Epoch 45/100\n",
            "26/26 [==============================] - 0s 9ms/step - loss: 0.3058 - accuracy: 0.3498 - val_loss: 6320268251234304.0000 - val_accuracy: 0.0796\n",
            "Epoch 46/100\n",
            "26/26 [==============================] - 0s 9ms/step - loss: 0.3058 - accuracy: 0.3553 - val_loss: 6320268251234304.0000 - val_accuracy: 0.0608\n",
            "Epoch 47/100\n",
            "26/26 [==============================] - 0s 8ms/step - loss: 0.3058 - accuracy: 0.3631 - val_loss: 6320268251234304.0000 - val_accuracy: 0.0335\n",
            "Epoch 48/100\n",
            "26/26 [==============================] - 0s 9ms/step - loss: 0.3058 - accuracy: 0.3650 - val_loss: 6320268251234304.0000 - val_accuracy: 0.0285\n",
            "Epoch 49/100\n",
            "26/26 [==============================] - 0s 9ms/step - loss: 0.3058 - accuracy: 0.3656 - val_loss: 6320268251234304.0000 - val_accuracy: 0.0304\n",
            "Epoch 50/100\n",
            "26/26 [==============================] - 0s 12ms/step - loss: 0.3058 - accuracy: 0.3607 - val_loss: 6320268251234304.0000 - val_accuracy: 0.0264\n",
            "Epoch 51/100\n",
            "26/26 [==============================] - 1s 20ms/step - loss: 0.3058 - accuracy: 0.3649 - val_loss: 6320268251234304.0000 - val_accuracy: 0.0285\n",
            "Epoch 52/100\n",
            "26/26 [==============================] - 0s 13ms/step - loss: 0.3058 - accuracy: 0.3625 - val_loss: 6320268251234304.0000 - val_accuracy: 0.0210\n",
            "Epoch 53/100\n",
            "26/26 [==============================] - 0s 5ms/step - loss: 0.3058 - accuracy: 0.3584 - val_loss: 6320268251234304.0000 - val_accuracy: 0.0191\n",
            "Epoch 54/100\n",
            "26/26 [==============================] - 0s 7ms/step - loss: 0.3058 - accuracy: 0.3584 - val_loss: 6320268251234304.0000 - val_accuracy: 0.0193\n",
            "Epoch 55/100\n",
            "26/26 [==============================] - 0s 5ms/step - loss: 0.3058 - accuracy: 0.3666 - val_loss: 6320268251234304.0000 - val_accuracy: 0.0186\n",
            "Epoch 56/100\n",
            "26/26 [==============================] - 0s 16ms/step - loss: 0.3058 - accuracy: 0.3704 - val_loss: 6320268251234304.0000 - val_accuracy: 0.0179\n",
            "Epoch 57/100\n",
            "26/26 [==============================] - 0s 16ms/step - loss: 0.3058 - accuracy: 0.3635 - val_loss: 6320268251234304.0000 - val_accuracy: 0.0200\n",
            "Epoch 58/100\n",
            "26/26 [==============================] - 0s 7ms/step - loss: 0.3058 - accuracy: 0.3698 - val_loss: 6320268251234304.0000 - val_accuracy: 0.0184\n",
            "Epoch 59/100\n",
            "26/26 [==============================] - 0s 6ms/step - loss: 0.3058 - accuracy: 0.3743 - val_loss: 6320268251234304.0000 - val_accuracy: 0.0170\n",
            "Epoch 60/100\n",
            "26/26 [==============================] - 0s 7ms/step - loss: 0.3058 - accuracy: 0.3812 - val_loss: 6320268251234304.0000 - val_accuracy: 0.0179\n",
            "Epoch 61/100\n",
            "26/26 [==============================] - 0s 15ms/step - loss: 0.3058 - accuracy: 0.3773 - val_loss: 6320268251234304.0000 - val_accuracy: 0.0184\n",
            "Epoch 62/100\n",
            "26/26 [==============================] - 0s 16ms/step - loss: 0.3058 - accuracy: 0.3810 - val_loss: 6320268251234304.0000 - val_accuracy: 0.0132\n",
            "Epoch 63/100\n",
            "26/26 [==============================] - 0s 7ms/step - loss: 0.3058 - accuracy: 0.3839 - val_loss: 6320268251234304.0000 - val_accuracy: 0.0146\n",
            "Epoch 64/100\n",
            "26/26 [==============================] - 0s 5ms/step - loss: 0.3058 - accuracy: 0.3835 - val_loss: 6320268251234304.0000 - val_accuracy: 0.0146\n",
            "Epoch 65/100\n",
            "26/26 [==============================] - 0s 5ms/step - loss: 0.3058 - accuracy: 0.3819 - val_loss: 6320268251234304.0000 - val_accuracy: 0.0167\n",
            "Epoch 66/100\n",
            "26/26 [==============================] - 0s 6ms/step - loss: 0.3058 - accuracy: 0.3823 - val_loss: 6320268251234304.0000 - val_accuracy: 0.0160\n",
            "Epoch 67/100\n",
            "26/26 [==============================] - 0s 5ms/step - loss: 0.3058 - accuracy: 0.3948 - val_loss: 6320268251234304.0000 - val_accuracy: 0.0200\n",
            "Epoch 68/100\n",
            "26/26 [==============================] - 0s 5ms/step - loss: 0.3058 - accuracy: 0.3882 - val_loss: 6320268251234304.0000 - val_accuracy: 0.0238\n",
            "Epoch 69/100\n",
            "26/26 [==============================] - 0s 6ms/step - loss: 0.3058 - accuracy: 0.3806 - val_loss: 6320268251234304.0000 - val_accuracy: 0.0217\n",
            "Epoch 70/100\n",
            "26/26 [==============================] - 0s 5ms/step - loss: 0.3058 - accuracy: 0.3872 - val_loss: 6320268251234304.0000 - val_accuracy: 0.0203\n",
            "Epoch 71/100\n",
            "26/26 [==============================] - 0s 5ms/step - loss: 0.3058 - accuracy: 0.3929 - val_loss: 6320268251234304.0000 - val_accuracy: 0.0214\n",
            "Epoch 72/100\n",
            "26/26 [==============================] - 0s 6ms/step - loss: 0.3058 - accuracy: 0.3842 - val_loss: 6320268251234304.0000 - val_accuracy: 0.0210\n",
            "Epoch 73/100\n",
            "26/26 [==============================] - 0s 5ms/step - loss: 0.3058 - accuracy: 0.3848 - val_loss: 6320268251234304.0000 - val_accuracy: 0.0198\n",
            "Epoch 74/100\n",
            "26/26 [==============================] - 0s 5ms/step - loss: 0.3058 - accuracy: 0.3913 - val_loss: 6320268251234304.0000 - val_accuracy: 0.0205\n",
            "Epoch 75/100\n",
            "26/26 [==============================] - 0s 6ms/step - loss: 0.3058 - accuracy: 0.3997 - val_loss: 6320268251234304.0000 - val_accuracy: 0.0205\n",
            "Epoch 76/100\n",
            "26/26 [==============================] - 0s 5ms/step - loss: 0.3058 - accuracy: 0.3999 - val_loss: 6320268251234304.0000 - val_accuracy: 0.0188\n",
            "Epoch 77/100\n",
            "26/26 [==============================] - 0s 5ms/step - loss: 0.3058 - accuracy: 0.3997 - val_loss: 6320268251234304.0000 - val_accuracy: 0.0191\n",
            "Epoch 78/100\n",
            "26/26 [==============================] - 0s 6ms/step - loss: 0.3058 - accuracy: 0.4033 - val_loss: 6320268251234304.0000 - val_accuracy: 0.0205\n",
            "Epoch 79/100\n",
            "26/26 [==============================] - 0s 5ms/step - loss: 0.3058 - accuracy: 0.4007 - val_loss: 6320268251234304.0000 - val_accuracy: 0.0170\n",
            "Epoch 80/100\n",
            "26/26 [==============================] - 0s 5ms/step - loss: 0.3058 - accuracy: 0.4146 - val_loss: 6320268251234304.0000 - val_accuracy: 0.0130\n",
            "Epoch 81/100\n",
            "26/26 [==============================] - 0s 5ms/step - loss: 0.3058 - accuracy: 0.4036 - val_loss: 6320268251234304.0000 - val_accuracy: 0.0160\n",
            "Epoch 82/100\n",
            "26/26 [==============================] - 0s 5ms/step - loss: 0.3058 - accuracy: 0.4075 - val_loss: 6320268251234304.0000 - val_accuracy: 0.0158\n",
            "Epoch 83/100\n",
            "26/26 [==============================] - 0s 5ms/step - loss: 0.3058 - accuracy: 0.4087 - val_loss: 6320268251234304.0000 - val_accuracy: 0.0130\n",
            "Epoch 84/100\n",
            "26/26 [==============================] - 0s 6ms/step - loss: 0.3058 - accuracy: 0.4172 - val_loss: 6320268251234304.0000 - val_accuracy: 0.0153\n",
            "Epoch 85/100\n",
            "26/26 [==============================] - 0s 5ms/step - loss: 0.3058 - accuracy: 0.4190 - val_loss: 6320268251234304.0000 - val_accuracy: 0.0188\n",
            "Epoch 86/100\n",
            "26/26 [==============================] - 0s 6ms/step - loss: 0.3058 - accuracy: 0.4200 - val_loss: 6320268251234304.0000 - val_accuracy: 0.0061\n",
            "Epoch 87/100\n",
            "26/26 [==============================] - 0s 5ms/step - loss: 0.3058 - accuracy: 0.4205 - val_loss: 6320268251234304.0000 - val_accuracy: 0.0057\n",
            "Epoch 88/100\n",
            "26/26 [==============================] - 0s 5ms/step - loss: 0.3058 - accuracy: 0.4277 - val_loss: 6320268251234304.0000 - val_accuracy: 0.0090\n",
            "Epoch 89/100\n",
            "26/26 [==============================] - 0s 7ms/step - loss: 0.3058 - accuracy: 0.4252 - val_loss: 6320268251234304.0000 - val_accuracy: 0.0040\n",
            "Epoch 90/100\n",
            "26/26 [==============================] - 0s 5ms/step - loss: 0.3058 - accuracy: 0.4340 - val_loss: 6320268251234304.0000 - val_accuracy: 0.0045\n",
            "Epoch 91/100\n",
            "26/26 [==============================] - 0s 6ms/step - loss: 0.3058 - accuracy: 0.4307 - val_loss: 6320268251234304.0000 - val_accuracy: 0.0038\n",
            "Epoch 92/100\n",
            "26/26 [==============================] - 0s 5ms/step - loss: 0.3058 - accuracy: 0.4334 - val_loss: 6320268251234304.0000 - val_accuracy: 0.0075\n",
            "Epoch 93/100\n",
            "26/26 [==============================] - 0s 5ms/step - loss: 0.3058 - accuracy: 0.4374 - val_loss: 6320268251234304.0000 - val_accuracy: 0.0075\n",
            "Epoch 94/100\n",
            "26/26 [==============================] - 0s 5ms/step - loss: 0.3058 - accuracy: 0.4412 - val_loss: 6320268251234304.0000 - val_accuracy: 0.0078\n",
            "Epoch 95/100\n",
            "26/26 [==============================] - 0s 5ms/step - loss: 0.3058 - accuracy: 0.4291 - val_loss: 6320268251234304.0000 - val_accuracy: 0.0120\n",
            "Epoch 96/100\n",
            "26/26 [==============================] - 0s 5ms/step - loss: 0.3058 - accuracy: 0.4442 - val_loss: 6320268251234304.0000 - val_accuracy: 0.0118\n",
            "Epoch 97/100\n",
            "26/26 [==============================] - 0s 5ms/step - loss: 0.3058 - accuracy: 0.4328 - val_loss: 6320268251234304.0000 - val_accuracy: 0.0130\n",
            "Epoch 98/100\n",
            "26/26 [==============================] - 0s 6ms/step - loss: 0.3058 - accuracy: 0.4444 - val_loss: 6320268251234304.0000 - val_accuracy: 0.0080\n",
            "Epoch 99/100\n",
            "26/26 [==============================] - 0s 5ms/step - loss: 0.3058 - accuracy: 0.4697 - val_loss: 6320268251234304.0000 - val_accuracy: 0.0151\n",
            "Epoch 100/100\n",
            "26/26 [==============================] - 0s 5ms/step - loss: 0.3058 - accuracy: 0.4662 - val_loss: 6320268251234304.0000 - val_accuracy: 0.0160\n"
          ]
        }
      ],
      "source": [
        "if model_selection[model_flag]==\"ALL\" or model_selection[model_flag] == \"AE\":\n",
        "  # training the model on training dataset\n",
        "  history = autoencoder.fit(X_train, X_train, epochs=100,batch_size=500,validation_data=(X_test, X_test)).history"
      ]
    },
    {
      "cell_type": "code",
      "execution_count": 67,
      "metadata": {
        "id": "AdtR3-9xLliU",
        "colab": {
          "base_uri": "https://localhost:8080/"
        },
        "outputId": "6996f782-0432-4db1-f92d-30c8be842f2d"
      },
      "outputs": [
        {
          "output_type": "stream",
          "name": "stdout",
          "text": [
            "Saved model to disk\n",
            "Loaded model from disk\n"
          ]
        }
      ],
      "source": [
        "if model_selection[model_flag]==\"ALL\" or model_selection[model_flag] == \"AE\":\n",
        "  filepath = '/content/drive/MyDrive/Colab_Notebooks/Models/ae_binary'+model_name_suffix+'.json'\n",
        "  weightspath = '/content/drive/MyDrive/Colab_Notebooks/Weights/ae_binary'+model_name_suffix+'.h5'\n",
        "  if (not path.isfile(filepath)): \n",
        "    # serialize model to JSON\n",
        "    autoencoder_json = autoencoder.to_json()\n",
        "    with open(filepath, \"w\") as json_file:\n",
        "      json_file.write(autoencoder_json)\n",
        "\n",
        "    # serialize weights to HDF5\n",
        "    autoencoder.save_weights(weightspath)\n",
        "    print(\"Saved model to disk\")\n",
        "\n",
        "    # load json and create model\n",
        "    json_file = open(filepath, 'r')\n",
        "    loaded_model_json = json_file.read()\n",
        "    json_file.close()\n",
        "    autoencoder = model_from_json(loaded_model_json)\n",
        "\n",
        "    # load weights into new model\n",
        "    autoencoder.load_weights(weightspath)\n",
        "    print(\"Loaded model from disk\")"
      ]
    },
    {
      "cell_type": "code",
      "execution_count": 68,
      "metadata": {
        "id": "Wqr6HVtMLwx9"
      },
      "outputs": [],
      "source": [
        "if model_selection[model_flag]==\"ALL\" or model_selection[model_flag] == \"AE\":\n",
        "  # defining loss function, optimizer, metrics and then compiling model\n",
        "  autoencoder.compile(optimizer='adam', loss='mean_squared_error',metrics=['accuracy'])"
      ]
    },
    {
      "cell_type": "code",
      "execution_count": 69,
      "metadata": {
        "id": "FQrjCk2hL09x",
        "colab": {
          "base_uri": "https://localhost:8080/"
        },
        "outputId": "a755fea0-77aa-4cc2-ee92-e5e023d62165"
      },
      "outputs": [
        {
          "output_type": "stream",
          "name": "stdout",
          "text": [
            "133/133 [==============================] - 1s 3ms/step - loss: 6320267714363392.0000 - accuracy: 0.0160\n",
            "Test results - Loss: 6320267714363392.0 - Accuracy: 0.01601884514093399%\n"
          ]
        }
      ],
      "source": [
        "if model_selection[model_flag]==\"ALL\" or model_selection[model_flag] == \"AE\":\n",
        "  # predicting target attribute on testing dataset\n",
        "  test_results = autoencoder.evaluate(X_test, X_test, verbose=1)\n",
        "  print(f'Test results - Loss: {test_results[0]} - Accuracy: {test_results[1]}%')"
      ]
    },
    {
      "cell_type": "code",
      "execution_count": 70,
      "metadata": {
        "id": "VqQsjSZcL1-B",
        "colab": {
          "base_uri": "https://localhost:8080/",
          "height": 472
        },
        "outputId": "44d52d62-decf-4949-e39f-bcdd02a047bc"
      },
      "outputs": [
        {
          "output_type": "display_data",
          "data": {
            "text/plain": [
              "<Figure size 640x480 with 1 Axes>"
            ],
            "image/png": "[encoded data removed]"
          },
          "metadata": {}
        }
      ],
      "source": [
        "if model_selection[model_flag]==\"ALL\" or model_selection[model_flag] == \"AE\":\n",
        "  # Plot of loss vs epoch of train and test dataset\n",
        "  plt.plot(history['loss'])\n",
        "  plt.plot(history['val_loss'])\n",
        "  plt.title(\"Plot of loss vs epoch for train and test dataset\")\n",
        "  plt.ylabel('loss')\n",
        "  plt.xlabel('epoch')\n",
        "  plt.legend(['train', 'test'], loc='upper right')\n",
        "  plt.savefig('/content/drive/MyDrive/Colab_Notebooks/Plots/ae_binary_loss.png')\n",
        "  plt.show()"
      ]
    },
    {
      "cell_type": "code",
      "execution_count": 71,
      "metadata": {
        "id": "fkjD9QXKL25Z",
        "colab": {
          "base_uri": "https://localhost:8080/",
          "height": 472
        },
        "outputId": "4dbfc666-465d-42d1-97a3-bb7cfe9125ff"
      },
      "outputs": [
        {
          "output_type": "display_data",
          "data": {
            "text/plain": [
              "<Figure size 640x480 with 1 Axes>"
            ],
            "image/png": "[encoded data removed]"
          },
          "metadata": {}
        }
      ],
      "source": [
        "if model_selection[model_flag]==\"ALL\" or model_selection[model_flag] == \"AE\":\n",
        "  # Plot of accuracy vs epoch of train and test dataset\n",
        "  plt.plot(history['accuracy'])\n",
        "  plt.plot(history['val_accuracy'])\n",
        "  plt.title(\"Plot of accuracy vs epoch for train and test dataset\")\n",
        "  plt.ylabel('accuracy')\n",
        "  plt.xlabel('epoch')\n",
        "  plt.legend(['train', 'test'], loc='best')\n",
        "  plt.savefig('/content/drive/MyDrive/Colab_Notebooks/Plots/ae_binary_accuracy.png')\n",
        "  plt.show()"
      ]
    },
    {
      "cell_type": "code",
      "execution_count": 72,
      "metadata": {
        "id": "lf9q83sBMGPD"
      },
      "outputs": [],
      "source": [
        "if model_selection[model_flag]==\"ALL\" or model_selection[model_flag] == \"AE\":\n",
        "  # representation of model layers\n",
        "  plot_model(autoencoder, to_file='/content/drive/MyDrive/Colab_Notebooks/Plots/ae_binary.png', show_shapes=True,)"
      ]
    },
    {
      "cell_type": "code",
      "execution_count": 73,
      "metadata": {
        "id": "SFIXKGwuMLFo",
        "colab": {
          "base_uri": "https://localhost:8080/"
        },
        "outputId": "76bc0397-239e-485a-cd3f-d22e6163f564"
      },
      "outputs": [
        {
          "output_type": "stream",
          "name": "stdout",
          "text": [
            "133/133 [==============================] - 0s 2ms/step\n"
          ]
        }
      ],
      "source": [
        "if model_selection[model_flag]==\"ALL\" or model_selection[model_flag] == \"AE\":\n",
        "  # calculating reconstruction error \n",
        "  predictions = autoencoder.predict(X_test)"
      ]
    },
    {
      "cell_type": "code",
      "execution_count": 74,
      "metadata": {
        "id": "cqKJCyZnMMEG"
      },
      "outputs": [],
      "source": [
        "if model_selection[model_flag]==\"ALL\" or model_selection[model_flag] == \"AE\":\n",
        "  mse = np.mean(np.power(X_test - predictions, 2), axis=1)\n",
        "  error_df = pd.DataFrame({'reconstruction_error': mse,\n",
        "                           'true_class': y_test})"
      ]
    },
    {
      "cell_type": "code",
      "execution_count": 75,
      "metadata": {
        "id": "EdQJudbDMhmB",
        "colab": {
          "base_uri": "https://localhost:8080/"
        },
        "outputId": "34086de7-a1dc-41ea-96b7-215d8321d585"
      },
      "outputs": [
        {
          "output_type": "stream",
          "name": "stdout",
          "text": [
            "(4245, 116)\n"
          ]
        }
      ],
      "source": [
        "if model_selection[model_flag]==\"ALL\" or model_selection[model_flag] == \"AE\":\n",
        "  error_df.describe()\n",
        "  print(predictions.shape)"
      ]
    },
    {
      "cell_type": "markdown",
      "metadata": {
        "id": "PHsaAAMmNQrs"
      },
      "source": [
        "## **AE Classifier**"
      ]
    },
    {
      "cell_type": "code",
      "execution_count": 76,
      "metadata": {
        "id": "1hK07LDBMoZg"
      },
      "outputs": [],
      "source": [
        "if model_selection[model_flag]==\"ALL\" or model_selection[model_flag] == \"AE\":\n",
        "  i_dim = predictions.shape[1]\n",
        "\n",
        "  #input layer\n",
        "  i_layer = Input(shape=(i_dim, ))\n",
        "  #hidden layer with 50 neurons\n",
        "  fvector = Dense(50, activation=\"sigmoid\")(i_layer)                    \n",
        "  #doutput layer\n",
        "  o_layer = Dense(1, activation='sigmoid')(fvector)"
      ]
    },
    {
      "cell_type": "code",
      "execution_count": 77,
      "metadata": {
        "id": "Efq77rVINXWE"
      },
      "outputs": [],
      "source": [
        "if model_selection[model_flag]==\"ALL\" or model_selection[model_flag] == \"AE\":\n",
        "  # creating model with input, encoding, decoding, output layers\n",
        "  ae_classifier = Model(inputs=i_layer, outputs=o_layer)\n",
        "\n",
        "  # defining loss function, optimizer, metrics and then compiling model\n",
        "  ae_classifier.compile(optimizer='adam', loss='binary_crossentropy',metrics=['accuracy'])"
      ]
    },
    {
      "cell_type": "code",
      "execution_count": 78,
      "metadata": {
        "id": "0Yl594VGNX1W",
        "colab": {
          "base_uri": "https://localhost:8080/"
        },
        "outputId": "7457bb4e-28bd-41b2-d0c9-5c278bdd6d1c"
      },
      "outputs": [
        {
          "output_type": "stream",
          "name": "stdout",
          "text": [
            "Model: \"model_1\"\n",
            "_________________________________________________________________\n",
            " Layer (type)                Output Shape              Param #   \n",
            "=================================================================\n",
            " input_2 (InputLayer)        [(None, 116)]             0         \n",
            "                                                                 \n",
            " dense_5 (Dense)             (None, 50)                5850      \n",
            "                                                                 \n",
            " dense_6 (Dense)             (None, 1)                 51        \n",
            "                                                                 \n",
            "=================================================================\n",
            "Total params: 5,901\n",
            "Trainable params: 5,901\n",
            "Non-trainable params: 0\n",
            "_________________________________________________________________\n"
          ]
        }
      ],
      "source": [
        "if model_selection[model_flag]==\"ALL\" or model_selection[model_flag] == \"AE\":\n",
        "  # summary of model layers\n",
        "  ae_classifier.summary()"
      ]
    },
    {
      "cell_type": "code",
      "execution_count": 79,
      "metadata": {
        "id": "23n8Qt0uNX8Z",
        "colab": {
          "base_uri": "https://localhost:8080/"
        },
        "outputId": "4bce430b-bafd-4684-f804-4a16d527e047"
      },
      "outputs": [
        {
          "output_type": "stream",
          "name": "stdout",
          "text": [
            "Epoch 1/300\n",
            "7/7 [==============================] - 1s 32ms/step - loss: 1.7315 - accuracy: 0.0424 - val_loss: 1.6415 - val_accuracy: 0.0389\n",
            "Epoch 2/300\n",
            "7/7 [==============================] - 0s 13ms/step - loss: 1.5699 - accuracy: 0.0424 - val_loss: 1.4832 - val_accuracy: 0.0389\n",
            "Epoch 3/300\n",
            "7/7 [==============================] - 0s 9ms/step - loss: 1.4159 - accuracy: 0.0424 - val_loss: 1.3345 - val_accuracy: 0.0389\n",
            "Epoch 4/300\n",
            "7/7 [==============================] - 0s 12ms/step - loss: 1.2720 - accuracy: 0.0424 - val_loss: 1.1961 - val_accuracy: 0.0389\n",
            "Epoch 5/300\n",
            "7/7 [==============================] - 0s 12ms/step - loss: 1.1391 - accuracy: 0.0424 - val_loss: 1.0689 - val_accuracy: 0.0389\n",
            "Epoch 6/300\n",
            "7/7 [==============================] - 0s 9ms/step - loss: 1.0176 - accuracy: 0.0424 - val_loss: 0.9536 - val_accuracy: 0.0389\n",
            "Epoch 7/300\n",
            "7/7 [==============================] - 0s 11ms/step - loss: 0.9079 - accuracy: 0.0424 - val_loss: 0.8505 - val_accuracy: 0.0389\n",
            "Epoch 8/300\n",
            "7/7 [==============================] - 0s 9ms/step - loss: 0.8105 - accuracy: 0.0424 - val_loss: 0.7592 - val_accuracy: 0.0389\n",
            "Epoch 9/300\n",
            "7/7 [==============================] - 0s 9ms/step - loss: 0.7244 - accuracy: 0.1899 - val_loss: 0.6791 - val_accuracy: 0.6160\n",
            "Epoch 10/300\n",
            "7/7 [==============================] - 0s 11ms/step - loss: 0.6494 - accuracy: 0.9102 - val_loss: 0.6095 - val_accuracy: 0.9611\n",
            "Epoch 11/300\n",
            "7/7 [==============================] - 0s 12ms/step - loss: 0.5843 - accuracy: 0.9576 - val_loss: 0.5493 - val_accuracy: 0.9611\n",
            "Epoch 12/300\n",
            "7/7 [==============================] - 0s 12ms/step - loss: 0.5283 - accuracy: 0.9576 - val_loss: 0.4976 - val_accuracy: 0.9611\n",
            "Epoch 13/300\n",
            "7/7 [==============================] - 0s 11ms/step - loss: 0.4802 - accuracy: 0.9576 - val_loss: 0.4533 - val_accuracy: 0.9611\n",
            "Epoch 14/300\n",
            "7/7 [==============================] - 0s 12ms/step - loss: 0.4390 - accuracy: 0.9576 - val_loss: 0.4153 - val_accuracy: 0.9611\n",
            "Epoch 15/300\n",
            "7/7 [==============================] - 0s 12ms/step - loss: 0.4039 - accuracy: 0.9576 - val_loss: 0.3826 - val_accuracy: 0.9611\n",
            "Epoch 16/300\n",
            "7/7 [==============================] - 0s 10ms/step - loss: 0.3735 - accuracy: 0.9576 - val_loss: 0.3546 - val_accuracy: 0.9611\n",
            "Epoch 17/300\n",
            "7/7 [==============================] - 0s 9ms/step - loss: 0.3475 - accuracy: 0.9576 - val_loss: 0.3305 - val_accuracy: 0.9611\n",
            "Epoch 18/300\n",
            "7/7 [==============================] - 0s 14ms/step - loss: 0.3251 - accuracy: 0.9576 - val_loss: 0.3097 - val_accuracy: 0.9611\n",
            "Epoch 19/300\n",
            "7/7 [==============================] - 0s 12ms/step - loss: 0.3058 - accuracy: 0.9576 - val_loss: 0.2915 - val_accuracy: 0.9611\n",
            "Epoch 20/300\n",
            "7/7 [==============================] - 0s 9ms/step - loss: 0.2890 - accuracy: 0.9576 - val_loss: 0.2757 - val_accuracy: 0.9611\n",
            "Epoch 21/300\n",
            "7/7 [==============================] - 0s 9ms/step - loss: 0.2743 - accuracy: 0.9576 - val_loss: 0.2619 - val_accuracy: 0.9611\n",
            "Epoch 22/300\n",
            "7/7 [==============================] - 0s 10ms/step - loss: 0.2614 - accuracy: 0.9576 - val_loss: 0.2497 - val_accuracy: 0.9611\n",
            "Epoch 23/300\n",
            "7/7 [==============================] - 0s 10ms/step - loss: 0.2502 - accuracy: 0.9576 - val_loss: 0.2389 - val_accuracy: 0.9611\n",
            "Epoch 24/300\n",
            "7/7 [==============================] - 0s 13ms/step - loss: 0.2400 - accuracy: 0.9576 - val_loss: 0.2295 - val_accuracy: 0.9611\n",
            "Epoch 25/300\n",
            "7/7 [==============================] - 0s 12ms/step - loss: 0.2312 - accuracy: 0.9576 - val_loss: 0.2210 - val_accuracy: 0.9611\n",
            "Epoch 26/300\n",
            "7/7 [==============================] - 0s 11ms/step - loss: 0.2233 - accuracy: 0.9576 - val_loss: 0.2134 - val_accuracy: 0.9611\n",
            "Epoch 27/300\n",
            "7/7 [==============================] - 0s 9ms/step - loss: 0.2162 - accuracy: 0.9576 - val_loss: 0.2065 - val_accuracy: 0.9611\n",
            "Epoch 28/300\n",
            "7/7 [==============================] - 0s 9ms/step - loss: 0.2098 - accuracy: 0.9576 - val_loss: 0.2004 - val_accuracy: 0.9611\n",
            "Epoch 29/300\n",
            "7/7 [==============================] - 0s 12ms/step - loss: 0.2040 - accuracy: 0.9576 - val_loss: 0.1949 - val_accuracy: 0.9611\n",
            "Epoch 30/300\n",
            "7/7 [==============================] - 0s 11ms/step - loss: 0.1988 - accuracy: 0.9576 - val_loss: 0.1898 - val_accuracy: 0.9611\n",
            "Epoch 31/300\n",
            "7/7 [==============================] - 0s 9ms/step - loss: 0.1941 - accuracy: 0.9576 - val_loss: 0.1852 - val_accuracy: 0.9611\n",
            "Epoch 32/300\n",
            "7/7 [==============================] - 0s 9ms/step - loss: 0.1898 - accuracy: 0.9576 - val_loss: 0.1810 - val_accuracy: 0.9611\n",
            "Epoch 33/300\n",
            "7/7 [==============================] - 0s 13ms/step - loss: 0.1858 - accuracy: 0.9576 - val_loss: 0.1771 - val_accuracy: 0.9611\n",
            "Epoch 34/300\n",
            "7/7 [==============================] - 0s 12ms/step - loss: 0.1822 - accuracy: 0.9576 - val_loss: 0.1736 - val_accuracy: 0.9611\n",
            "Epoch 35/300\n",
            "7/7 [==============================] - 0s 12ms/step - loss: 0.1788 - accuracy: 0.9576 - val_loss: 0.1702 - val_accuracy: 0.9611\n",
            "Epoch 36/300\n",
            "7/7 [==============================] - 0s 12ms/step - loss: 0.1758 - accuracy: 0.9576 - val_loss: 0.1672 - val_accuracy: 0.9611\n",
            "Epoch 37/300\n",
            "7/7 [==============================] - 0s 11ms/step - loss: 0.1729 - accuracy: 0.9576 - val_loss: 0.1644 - val_accuracy: 0.9611\n",
            "Epoch 38/300\n",
            "7/7 [==============================] - 0s 9ms/step - loss: 0.1702 - accuracy: 0.9576 - val_loss: 0.1617 - val_accuracy: 0.9611\n",
            "Epoch 39/300\n",
            "7/7 [==============================] - 0s 9ms/step - loss: 0.1677 - accuracy: 0.9576 - val_loss: 0.1593 - val_accuracy: 0.9611\n",
            "Epoch 40/300\n",
            "7/7 [==============================] - 0s 9ms/step - loss: 0.1654 - accuracy: 0.9576 - val_loss: 0.1570 - val_accuracy: 0.9611\n",
            "Epoch 41/300\n",
            "7/7 [==============================] - 0s 11ms/step - loss: 0.1632 - accuracy: 0.9576 - val_loss: 0.1548 - val_accuracy: 0.9611\n",
            "Epoch 42/300\n",
            "7/7 [==============================] - 0s 10ms/step - loss: 0.1612 - accuracy: 0.9576 - val_loss: 0.1527 - val_accuracy: 0.9611\n",
            "Epoch 43/300\n",
            "7/7 [==============================] - 0s 11ms/step - loss: 0.1592 - accuracy: 0.9576 - val_loss: 0.1508 - val_accuracy: 0.9611\n",
            "Epoch 44/300\n",
            "7/7 [==============================] - 0s 12ms/step - loss: 0.1574 - accuracy: 0.9576 - val_loss: 0.1490 - val_accuracy: 0.9611\n",
            "Epoch 45/300\n",
            "7/7 [==============================] - 0s 9ms/step - loss: 0.1557 - accuracy: 0.9576 - val_loss: 0.1473 - val_accuracy: 0.9611\n",
            "Epoch 46/300\n",
            "7/7 [==============================] - 0s 13ms/step - loss: 0.1540 - accuracy: 0.9576 - val_loss: 0.1457 - val_accuracy: 0.9611\n",
            "Epoch 47/300\n",
            "7/7 [==============================] - 0s 11ms/step - loss: 0.1525 - accuracy: 0.9576 - val_loss: 0.1441 - val_accuracy: 0.9611\n",
            "Epoch 48/300\n",
            "7/7 [==============================] - 0s 11ms/step - loss: 0.1510 - accuracy: 0.9576 - val_loss: 0.1426 - val_accuracy: 0.9611\n",
            "Epoch 49/300\n",
            "7/7 [==============================] - 0s 12ms/step - loss: 0.1495 - accuracy: 0.9576 - val_loss: 0.1412 - val_accuracy: 0.9611\n",
            "Epoch 50/300\n",
            "7/7 [==============================] - 0s 11ms/step - loss: 0.1482 - accuracy: 0.9576 - val_loss: 0.1398 - val_accuracy: 0.9611\n",
            "Epoch 51/300\n",
            "7/7 [==============================] - 0s 9ms/step - loss: 0.1469 - accuracy: 0.9576 - val_loss: 0.1385 - val_accuracy: 0.9611\n",
            "Epoch 52/300\n",
            "7/7 [==============================] - 0s 12ms/step - loss: 0.1456 - accuracy: 0.9576 - val_loss: 0.1373 - val_accuracy: 0.9611\n",
            "Epoch 53/300\n",
            "7/7 [==============================] - 0s 9ms/step - loss: 0.1444 - accuracy: 0.9576 - val_loss: 0.1361 - val_accuracy: 0.9611\n",
            "Epoch 54/300\n",
            "7/7 [==============================] - 0s 10ms/step - loss: 0.1432 - accuracy: 0.9576 - val_loss: 0.1349 - val_accuracy: 0.9611\n",
            "Epoch 55/300\n",
            "7/7 [==============================] - 0s 12ms/step - loss: 0.1421 - accuracy: 0.9576 - val_loss: 0.1338 - val_accuracy: 0.9611\n",
            "Epoch 56/300\n",
            "7/7 [==============================] - 0s 9ms/step - loss: 0.1410 - accuracy: 0.9576 - val_loss: 0.1327 - val_accuracy: 0.9611\n",
            "Epoch 57/300\n",
            "7/7 [==============================] - 0s 12ms/step - loss: 0.1400 - accuracy: 0.9576 - val_loss: 0.1316 - val_accuracy: 0.9611\n",
            "Epoch 58/300\n",
            "7/7 [==============================] - 0s 12ms/step - loss: 0.1389 - accuracy: 0.9576 - val_loss: 0.1306 - val_accuracy: 0.9611\n",
            "Epoch 59/300\n",
            "7/7 [==============================] - 0s 9ms/step - loss: 0.1379 - accuracy: 0.9576 - val_loss: 0.1296 - val_accuracy: 0.9611\n",
            "Epoch 60/300\n",
            "7/7 [==============================] - 0s 9ms/step - loss: 0.1370 - accuracy: 0.9576 - val_loss: 0.1286 - val_accuracy: 0.9611\n",
            "Epoch 61/300\n",
            "7/7 [==============================] - 0s 11ms/step - loss: 0.1360 - accuracy: 0.9576 - val_loss: 0.1277 - val_accuracy: 0.9611\n",
            "Epoch 62/300\n",
            "7/7 [==============================] - 0s 9ms/step - loss: 0.1351 - accuracy: 0.9576 - val_loss: 0.1268 - val_accuracy: 0.9611\n",
            "Epoch 63/300\n",
            "7/7 [==============================] - 0s 12ms/step - loss: 0.1342 - accuracy: 0.9576 - val_loss: 0.1259 - val_accuracy: 0.9611\n",
            "Epoch 64/300\n",
            "7/7 [==============================] - 0s 11ms/step - loss: 0.1333 - accuracy: 0.9576 - val_loss: 0.1250 - val_accuracy: 0.9611\n",
            "Epoch 65/300\n",
            "7/7 [==============================] - 0s 12ms/step - loss: 0.1324 - accuracy: 0.9576 - val_loss: 0.1241 - val_accuracy: 0.9611\n",
            "Epoch 66/300\n",
            "7/7 [==============================] - 0s 9ms/step - loss: 0.1316 - accuracy: 0.9576 - val_loss: 0.1233 - val_accuracy: 0.9611\n",
            "Epoch 67/300\n",
            "7/7 [==============================] - 0s 9ms/step - loss: 0.1308 - accuracy: 0.9576 - val_loss: 0.1225 - val_accuracy: 0.9611\n",
            "Epoch 68/300\n",
            "7/7 [==============================] - 0s 11ms/step - loss: 0.1299 - accuracy: 0.9576 - val_loss: 0.1217 - val_accuracy: 0.9611\n",
            "Epoch 69/300\n",
            "7/7 [==============================] - 0s 10ms/step - loss: 0.1291 - accuracy: 0.9576 - val_loss: 0.1209 - val_accuracy: 0.9611\n",
            "Epoch 70/300\n",
            "7/7 [==============================] - 0s 13ms/step - loss: 0.1284 - accuracy: 0.9576 - val_loss: 0.1201 - val_accuracy: 0.9611\n",
            "Epoch 71/300\n",
            "7/7 [==============================] - 0s 12ms/step - loss: 0.1276 - accuracy: 0.9576 - val_loss: 0.1193 - val_accuracy: 0.9611\n",
            "Epoch 72/300\n",
            "7/7 [==============================] - 0s 9ms/step - loss: 0.1268 - accuracy: 0.9576 - val_loss: 0.1186 - val_accuracy: 0.9611\n",
            "Epoch 73/300\n",
            "7/7 [==============================] - 0s 9ms/step - loss: 0.1261 - accuracy: 0.9576 - val_loss: 0.1178 - val_accuracy: 0.9611\n",
            "Epoch 74/300\n",
            "7/7 [==============================] - 0s 9ms/step - loss: 0.1253 - accuracy: 0.9576 - val_loss: 0.1171 - val_accuracy: 0.9611\n",
            "Epoch 75/300\n",
            "7/7 [==============================] - 0s 12ms/step - loss: 0.1246 - accuracy: 0.9576 - val_loss: 0.1164 - val_accuracy: 0.9611\n",
            "Epoch 76/300\n",
            "7/7 [==============================] - 0s 11ms/step - loss: 0.1239 - accuracy: 0.9576 - val_loss: 0.1157 - val_accuracy: 0.9611\n",
            "Epoch 77/300\n",
            "7/7 [==============================] - 0s 12ms/step - loss: 0.1232 - accuracy: 0.9576 - val_loss: 0.1150 - val_accuracy: 0.9611\n",
            "Epoch 78/300\n",
            "7/7 [==============================] - 0s 9ms/step - loss: 0.1225 - accuracy: 0.9576 - val_loss: 0.1143 - val_accuracy: 0.9611\n",
            "Epoch 79/300\n",
            "7/7 [==============================] - 0s 9ms/step - loss: 0.1218 - accuracy: 0.9576 - val_loss: 0.1136 - val_accuracy: 0.9611\n",
            "Epoch 80/300\n",
            "7/7 [==============================] - 0s 11ms/step - loss: 0.1211 - accuracy: 0.9576 - val_loss: 0.1129 - val_accuracy: 0.9611\n",
            "Epoch 81/300\n",
            "7/7 [==============================] - 0s 15ms/step - loss: 0.1204 - accuracy: 0.9576 - val_loss: 0.1123 - val_accuracy: 0.9611\n",
            "Epoch 82/300\n",
            "7/7 [==============================] - 0s 15ms/step - loss: 0.1197 - accuracy: 0.9576 - val_loss: 0.1116 - val_accuracy: 0.9611\n",
            "Epoch 83/300\n",
            "7/7 [==============================] - 0s 13ms/step - loss: 0.1191 - accuracy: 0.9576 - val_loss: 0.1110 - val_accuracy: 0.9611\n",
            "Epoch 84/300\n",
            "7/7 [==============================] - 0s 14ms/step - loss: 0.1184 - accuracy: 0.9576 - val_loss: 0.1103 - val_accuracy: 0.9611\n",
            "Epoch 85/300\n",
            "7/7 [==============================] - 0s 14ms/step - loss: 0.1178 - accuracy: 0.9576 - val_loss: 0.1097 - val_accuracy: 0.9611\n",
            "Epoch 86/300\n",
            "7/7 [==============================] - 0s 13ms/step - loss: 0.1171 - accuracy: 0.9576 - val_loss: 0.1090 - val_accuracy: 0.9611\n",
            "Epoch 87/300\n",
            "7/7 [==============================] - 0s 13ms/step - loss: 0.1165 - accuracy: 0.9576 - val_loss: 0.1084 - val_accuracy: 0.9611\n",
            "Epoch 88/300\n",
            "7/7 [==============================] - 0s 16ms/step - loss: 0.1159 - accuracy: 0.9576 - val_loss: 0.1078 - val_accuracy: 0.9611\n",
            "Epoch 89/300\n",
            "7/7 [==============================] - 0s 15ms/step - loss: 0.1152 - accuracy: 0.9576 - val_loss: 0.1072 - val_accuracy: 0.9611\n",
            "Epoch 90/300\n",
            "7/7 [==============================] - 0s 13ms/step - loss: 0.1146 - accuracy: 0.9576 - val_loss: 0.1066 - val_accuracy: 0.9611\n",
            "Epoch 91/300\n",
            "7/7 [==============================] - 0s 14ms/step - loss: 0.1140 - accuracy: 0.9576 - val_loss: 0.1060 - val_accuracy: 0.9611\n",
            "Epoch 92/300\n",
            "7/7 [==============================] - 0s 14ms/step - loss: 0.1134 - accuracy: 0.9576 - val_loss: 0.1054 - val_accuracy: 0.9611\n",
            "Epoch 93/300\n",
            "7/7 [==============================] - 0s 15ms/step - loss: 0.1128 - accuracy: 0.9576 - val_loss: 0.1048 - val_accuracy: 0.9611\n",
            "Epoch 94/300\n",
            "7/7 [==============================] - 0s 13ms/step - loss: 0.1122 - accuracy: 0.9576 - val_loss: 0.1042 - val_accuracy: 0.9611\n",
            "Epoch 95/300\n",
            "7/7 [==============================] - 0s 12ms/step - loss: 0.1116 - accuracy: 0.9576 - val_loss: 0.1037 - val_accuracy: 0.9611\n",
            "Epoch 96/300\n",
            "7/7 [==============================] - 0s 14ms/step - loss: 0.1110 - accuracy: 0.9576 - val_loss: 0.1031 - val_accuracy: 0.9611\n",
            "Epoch 97/300\n",
            "7/7 [==============================] - 0s 14ms/step - loss: 0.1105 - accuracy: 0.9576 - val_loss: 0.1025 - val_accuracy: 0.9611\n",
            "Epoch 98/300\n",
            "7/7 [==============================] - 0s 17ms/step - loss: 0.1099 - accuracy: 0.9576 - val_loss: 0.1020 - val_accuracy: 0.9611\n",
            "Epoch 99/300\n",
            "7/7 [==============================] - 0s 16ms/step - loss: 0.1093 - accuracy: 0.9576 - val_loss: 0.1014 - val_accuracy: 0.9611\n",
            "Epoch 100/300\n",
            "7/7 [==============================] - 0s 16ms/step - loss: 0.1088 - accuracy: 0.9576 - val_loss: 0.1009 - val_accuracy: 0.9611\n",
            "Epoch 101/300\n",
            "7/7 [==============================] - 0s 12ms/step - loss: 0.1082 - accuracy: 0.9576 - val_loss: 0.1003 - val_accuracy: 0.9611\n",
            "Epoch 102/300\n",
            "7/7 [==============================] - 0s 14ms/step - loss: 0.1077 - accuracy: 0.9576 - val_loss: 0.0998 - val_accuracy: 0.9611\n",
            "Epoch 103/300\n",
            "7/7 [==============================] - 0s 15ms/step - loss: 0.1071 - accuracy: 0.9576 - val_loss: 0.0992 - val_accuracy: 0.9611\n",
            "Epoch 104/300\n",
            "7/7 [==============================] - 0s 14ms/step - loss: 0.1066 - accuracy: 0.9576 - val_loss: 0.0987 - val_accuracy: 0.9611\n",
            "Epoch 105/300\n",
            "7/7 [==============================] - 0s 14ms/step - loss: 0.1060 - accuracy: 0.9576 - val_loss: 0.0982 - val_accuracy: 0.9611\n",
            "Epoch 106/300\n",
            "7/7 [==============================] - 0s 15ms/step - loss: 0.1055 - accuracy: 0.9576 - val_loss: 0.0977 - val_accuracy: 0.9611\n",
            "Epoch 107/300\n",
            "7/7 [==============================] - 0s 13ms/step - loss: 0.1050 - accuracy: 0.9576 - val_loss: 0.0971 - val_accuracy: 0.9611\n",
            "Epoch 108/300\n",
            "7/7 [==============================] - 0s 15ms/step - loss: 0.1044 - accuracy: 0.9576 - val_loss: 0.0966 - val_accuracy: 0.9611\n",
            "Epoch 109/300\n",
            "7/7 [==============================] - 0s 15ms/step - loss: 0.1039 - accuracy: 0.9576 - val_loss: 0.0961 - val_accuracy: 0.9611\n",
            "Epoch 110/300\n",
            "7/7 [==============================] - 0s 14ms/step - loss: 0.1034 - accuracy: 0.9576 - val_loss: 0.0956 - val_accuracy: 0.9611\n",
            "Epoch 111/300\n",
            "7/7 [==============================] - 0s 16ms/step - loss: 0.1029 - accuracy: 0.9576 - val_loss: 0.0951 - val_accuracy: 0.9611\n",
            "Epoch 112/300\n",
            "7/7 [==============================] - 0s 15ms/step - loss: 0.1024 - accuracy: 0.9576 - val_loss: 0.0946 - val_accuracy: 0.9611\n",
            "Epoch 113/300\n",
            "7/7 [==============================] - 0s 15ms/step - loss: 0.1019 - accuracy: 0.9576 - val_loss: 0.0941 - val_accuracy: 0.9611\n",
            "Epoch 114/300\n",
            "7/7 [==============================] - 0s 14ms/step - loss: 0.1014 - accuracy: 0.9576 - val_loss: 0.0937 - val_accuracy: 0.9611\n",
            "Epoch 115/300\n",
            "7/7 [==============================] - 0s 15ms/step - loss: 0.1009 - accuracy: 0.9576 - val_loss: 0.0932 - val_accuracy: 0.9611\n",
            "Epoch 116/300\n",
            "7/7 [==============================] - 0s 14ms/step - loss: 0.1004 - accuracy: 0.9576 - val_loss: 0.0927 - val_accuracy: 0.9611\n",
            "Epoch 117/300\n",
            "7/7 [==============================] - 0s 15ms/step - loss: 0.0999 - accuracy: 0.9576 - val_loss: 0.0922 - val_accuracy: 0.9611\n",
            "Epoch 118/300\n",
            "7/7 [==============================] - 0s 17ms/step - loss: 0.0994 - accuracy: 0.9576 - val_loss: 0.0918 - val_accuracy: 0.9611\n",
            "Epoch 119/300\n",
            "7/7 [==============================] - 0s 14ms/step - loss: 0.0990 - accuracy: 0.9576 - val_loss: 0.0913 - val_accuracy: 0.9611\n",
            "Epoch 120/300\n",
            "7/7 [==============================] - 0s 14ms/step - loss: 0.0985 - accuracy: 0.9576 - val_loss: 0.0908 - val_accuracy: 0.9611\n",
            "Epoch 121/300\n",
            "7/7 [==============================] - 0s 13ms/step - loss: 0.0980 - accuracy: 0.9576 - val_loss: 0.0904 - val_accuracy: 0.9611\n",
            "Epoch 122/300\n",
            "7/7 [==============================] - 0s 9ms/step - loss: 0.0976 - accuracy: 0.9576 - val_loss: 0.0899 - val_accuracy: 0.9611\n",
            "Epoch 123/300\n",
            "7/7 [==============================] - 0s 12ms/step - loss: 0.0971 - accuracy: 0.9576 - val_loss: 0.0895 - val_accuracy: 0.9611\n",
            "Epoch 124/300\n",
            "7/7 [==============================] - 0s 9ms/step - loss: 0.0966 - accuracy: 0.9576 - val_loss: 0.0890 - val_accuracy: 0.9611\n",
            "Epoch 125/300\n",
            "7/7 [==============================] - 0s 11ms/step - loss: 0.0962 - accuracy: 0.9576 - val_loss: 0.0886 - val_accuracy: 0.9611\n",
            "Epoch 126/300\n",
            "7/7 [==============================] - 0s 12ms/step - loss: 0.0958 - accuracy: 0.9576 - val_loss: 0.0882 - val_accuracy: 0.9611\n",
            "Epoch 127/300\n",
            "7/7 [==============================] - 0s 11ms/step - loss: 0.0953 - accuracy: 0.9576 - val_loss: 0.0877 - val_accuracy: 0.9611\n",
            "Epoch 128/300\n",
            "7/7 [==============================] - 0s 9ms/step - loss: 0.0949 - accuracy: 0.9576 - val_loss: 0.0873 - val_accuracy: 0.9611\n",
            "Epoch 129/300\n",
            "7/7 [==============================] - 0s 9ms/step - loss: 0.0945 - accuracy: 0.9576 - val_loss: 0.0869 - val_accuracy: 0.9611\n",
            "Epoch 130/300\n",
            "7/7 [==============================] - 0s 11ms/step - loss: 0.0940 - accuracy: 0.9576 - val_loss: 0.0865 - val_accuracy: 0.9611\n",
            "Epoch 131/300\n",
            "7/7 [==============================] - 0s 10ms/step - loss: 0.0936 - accuracy: 0.9576 - val_loss: 0.0861 - val_accuracy: 0.9611\n",
            "Epoch 132/300\n",
            "7/7 [==============================] - 0s 10ms/step - loss: 0.0932 - accuracy: 0.9576 - val_loss: 0.0857 - val_accuracy: 0.9611\n",
            "Epoch 133/300\n",
            "7/7 [==============================] - 0s 12ms/step - loss: 0.0928 - accuracy: 0.9576 - val_loss: 0.0853 - val_accuracy: 0.9611\n",
            "Epoch 134/300\n",
            "7/7 [==============================] - 0s 10ms/step - loss: 0.0924 - accuracy: 0.9576 - val_loss: 0.0849 - val_accuracy: 0.9611\n",
            "Epoch 135/300\n",
            "7/7 [==============================] - 0s 9ms/step - loss: 0.0920 - accuracy: 0.9576 - val_loss: 0.0845 - val_accuracy: 0.9611\n",
            "Epoch 136/300\n",
            "7/7 [==============================] - 0s 12ms/step - loss: 0.0916 - accuracy: 0.9576 - val_loss: 0.0841 - val_accuracy: 0.9611\n",
            "Epoch 137/300\n",
            "7/7 [==============================] - 0s 12ms/step - loss: 0.0912 - accuracy: 0.9576 - val_loss: 0.0837 - val_accuracy: 0.9611\n",
            "Epoch 138/300\n",
            "7/7 [==============================] - 0s 9ms/step - loss: 0.0908 - accuracy: 0.9576 - val_loss: 0.0833 - val_accuracy: 0.9611\n",
            "Epoch 139/300\n",
            "7/7 [==============================] - 0s 12ms/step - loss: 0.0904 - accuracy: 0.9576 - val_loss: 0.0829 - val_accuracy: 0.9611\n",
            "Epoch 140/300\n",
            "7/7 [==============================] - 0s 9ms/step - loss: 0.0900 - accuracy: 0.9576 - val_loss: 0.0826 - val_accuracy: 0.9611\n",
            "Epoch 141/300\n",
            "7/7 [==============================] - 0s 12ms/step - loss: 0.0897 - accuracy: 0.9576 - val_loss: 0.0822 - val_accuracy: 0.9611\n",
            "Epoch 142/300\n",
            "7/7 [==============================] - 0s 12ms/step - loss: 0.0893 - accuracy: 0.9576 - val_loss: 0.0818 - val_accuracy: 0.9611\n",
            "Epoch 143/300\n",
            "7/7 [==============================] - 0s 12ms/step - loss: 0.0890 - accuracy: 0.9576 - val_loss: 0.0815 - val_accuracy: 0.9611\n",
            "Epoch 144/300\n",
            "7/7 [==============================] - 0s 11ms/step - loss: 0.0886 - accuracy: 0.9576 - val_loss: 0.0811 - val_accuracy: 0.9611\n",
            "Epoch 145/300\n",
            "7/7 [==============================] - 0s 9ms/step - loss: 0.0882 - accuracy: 0.9576 - val_loss: 0.0808 - val_accuracy: 0.9611\n",
            "Epoch 146/300\n",
            "7/7 [==============================] - 0s 13ms/step - loss: 0.0879 - accuracy: 0.9576 - val_loss: 0.0804 - val_accuracy: 0.9611\n",
            "Epoch 147/300\n",
            "7/7 [==============================] - 0s 12ms/step - loss: 0.0875 - accuracy: 0.9576 - val_loss: 0.0801 - val_accuracy: 0.9611\n",
            "Epoch 148/300\n",
            "7/7 [==============================] - 0s 11ms/step - loss: 0.0872 - accuracy: 0.9576 - val_loss: 0.0798 - val_accuracy: 0.9611\n",
            "Epoch 149/300\n",
            "7/7 [==============================] - 0s 12ms/step - loss: 0.0869 - accuracy: 0.9576 - val_loss: 0.0794 - val_accuracy: 0.9611\n",
            "Epoch 150/300\n",
            "7/7 [==============================] - 0s 11ms/step - loss: 0.0865 - accuracy: 0.9576 - val_loss: 0.0791 - val_accuracy: 0.9611\n",
            "Epoch 151/300\n",
            "7/7 [==============================] - 0s 9ms/step - loss: 0.0862 - accuracy: 0.9576 - val_loss: 0.0788 - val_accuracy: 0.9611\n",
            "Epoch 152/300\n",
            "7/7 [==============================] - 0s 12ms/step - loss: 0.0859 - accuracy: 0.9576 - val_loss: 0.0784 - val_accuracy: 0.9611\n",
            "Epoch 153/300\n",
            "7/7 [==============================] - 0s 9ms/step - loss: 0.0856 - accuracy: 0.9576 - val_loss: 0.0781 - val_accuracy: 0.9611\n",
            "Epoch 154/300\n",
            "7/7 [==============================] - 0s 9ms/step - loss: 0.0853 - accuracy: 0.9576 - val_loss: 0.0778 - val_accuracy: 0.9611\n",
            "Epoch 155/300\n",
            "7/7 [==============================] - 0s 11ms/step - loss: 0.0849 - accuracy: 0.9576 - val_loss: 0.0775 - val_accuracy: 0.9611\n",
            "Epoch 156/300\n",
            "7/7 [==============================] - 0s 14ms/step - loss: 0.0847 - accuracy: 0.9576 - val_loss: 0.0772 - val_accuracy: 0.9611\n",
            "Epoch 157/300\n",
            "7/7 [==============================] - 0s 12ms/step - loss: 0.0843 - accuracy: 0.9576 - val_loss: 0.0769 - val_accuracy: 0.9611\n",
            "Epoch 158/300\n",
            "7/7 [==============================] - 0s 10ms/step - loss: 0.0840 - accuracy: 0.9576 - val_loss: 0.0766 - val_accuracy: 0.9611\n",
            "Epoch 159/300\n",
            "7/7 [==============================] - 0s 9ms/step - loss: 0.0837 - accuracy: 0.9576 - val_loss: 0.0763 - val_accuracy: 0.9611\n",
            "Epoch 160/300\n",
            "7/7 [==============================] - 0s 12ms/step - loss: 0.0835 - accuracy: 0.9576 - val_loss: 0.0760 - val_accuracy: 0.9611\n",
            "Epoch 161/300\n",
            "7/7 [==============================] - 0s 9ms/step - loss: 0.0832 - accuracy: 0.9576 - val_loss: 0.0757 - val_accuracy: 0.9611\n",
            "Epoch 162/300\n",
            "7/7 [==============================] - 0s 12ms/step - loss: 0.0829 - accuracy: 0.9576 - val_loss: 0.0755 - val_accuracy: 0.9611\n",
            "Epoch 163/300\n",
            "7/7 [==============================] - 0s 12ms/step - loss: 0.0826 - accuracy: 0.9576 - val_loss: 0.0752 - val_accuracy: 0.9611\n",
            "Epoch 164/300\n",
            "7/7 [==============================] - 0s 12ms/step - loss: 0.0823 - accuracy: 0.9576 - val_loss: 0.0749 - val_accuracy: 0.9611\n",
            "Epoch 165/300\n",
            "7/7 [==============================] - 0s 12ms/step - loss: 0.0821 - accuracy: 0.9576 - val_loss: 0.0747 - val_accuracy: 0.9611\n",
            "Epoch 166/300\n",
            "7/7 [==============================] - 0s 9ms/step - loss: 0.0818 - accuracy: 0.9576 - val_loss: 0.0744 - val_accuracy: 0.9611\n",
            "Epoch 167/300\n",
            "7/7 [==============================] - 0s 12ms/step - loss: 0.0816 - accuracy: 0.9576 - val_loss: 0.0741 - val_accuracy: 0.9611\n",
            "Epoch 168/300\n",
            "7/7 [==============================] - 0s 12ms/step - loss: 0.0813 - accuracy: 0.9576 - val_loss: 0.0739 - val_accuracy: 0.9611\n",
            "Epoch 169/300\n",
            "7/7 [==============================] - 0s 12ms/step - loss: 0.0810 - accuracy: 0.9576 - val_loss: 0.0736 - val_accuracy: 0.9611\n",
            "Epoch 170/300\n",
            "7/7 [==============================] - 0s 9ms/step - loss: 0.0808 - accuracy: 0.9576 - val_loss: 0.0734 - val_accuracy: 0.9611\n",
            "Epoch 171/300\n",
            "7/7 [==============================] - 0s 12ms/step - loss: 0.0805 - accuracy: 0.9576 - val_loss: 0.0731 - val_accuracy: 0.9611\n",
            "Epoch 172/300\n",
            "7/7 [==============================] - 0s 9ms/step - loss: 0.0803 - accuracy: 0.9576 - val_loss: 0.0729 - val_accuracy: 0.9611\n",
            "Epoch 173/300\n",
            "7/7 [==============================] - 0s 12ms/step - loss: 0.0801 - accuracy: 0.9576 - val_loss: 0.0726 - val_accuracy: 0.9611\n",
            "Epoch 174/300\n",
            "7/7 [==============================] - 0s 11ms/step - loss: 0.0798 - accuracy: 0.9576 - val_loss: 0.0724 - val_accuracy: 0.9611\n",
            "Epoch 175/300\n",
            "7/7 [==============================] - 0s 10ms/step - loss: 0.0796 - accuracy: 0.9576 - val_loss: 0.0722 - val_accuracy: 0.9611\n",
            "Epoch 176/300\n",
            "7/7 [==============================] - 0s 10ms/step - loss: 0.0794 - accuracy: 0.9576 - val_loss: 0.0720 - val_accuracy: 0.9611\n",
            "Epoch 177/300\n",
            "7/7 [==============================] - 0s 9ms/step - loss: 0.0792 - accuracy: 0.9576 - val_loss: 0.0717 - val_accuracy: 0.9611\n",
            "Epoch 178/300\n",
            "7/7 [==============================] - 0s 9ms/step - loss: 0.0789 - accuracy: 0.9576 - val_loss: 0.0715 - val_accuracy: 0.9611\n",
            "Epoch 179/300\n",
            "7/7 [==============================] - 0s 9ms/step - loss: 0.0787 - accuracy: 0.9576 - val_loss: 0.0713 - val_accuracy: 0.9611\n",
            "Epoch 180/300\n",
            "7/7 [==============================] - 0s 12ms/step - loss: 0.0785 - accuracy: 0.9576 - val_loss: 0.0711 - val_accuracy: 0.9611\n",
            "Epoch 181/300\n",
            "7/7 [==============================] - 0s 10ms/step - loss: 0.0783 - accuracy: 0.9576 - val_loss: 0.0709 - val_accuracy: 0.9611\n",
            "Epoch 182/300\n",
            "7/7 [==============================] - 0s 11ms/step - loss: 0.0781 - accuracy: 0.9576 - val_loss: 0.0706 - val_accuracy: 0.9611\n",
            "Epoch 183/300\n",
            "7/7 [==============================] - 0s 12ms/step - loss: 0.0779 - accuracy: 0.9576 - val_loss: 0.0704 - val_accuracy: 0.9611\n",
            "Epoch 184/300\n",
            "7/7 [==============================] - 0s 10ms/step - loss: 0.0777 - accuracy: 0.9576 - val_loss: 0.0702 - val_accuracy: 0.9611\n",
            "Epoch 185/300\n",
            "7/7 [==============================] - 0s 9ms/step - loss: 0.0775 - accuracy: 0.9576 - val_loss: 0.0700 - val_accuracy: 0.9611\n",
            "Epoch 186/300\n",
            "7/7 [==============================] - 0s 9ms/step - loss: 0.0773 - accuracy: 0.9576 - val_loss: 0.0698 - val_accuracy: 0.9611\n",
            "Epoch 187/300\n",
            "7/7 [==============================] - 0s 12ms/step - loss: 0.0771 - accuracy: 0.9576 - val_loss: 0.0697 - val_accuracy: 0.9611\n",
            "Epoch 188/300\n",
            "7/7 [==============================] - 0s 12ms/step - loss: 0.0769 - accuracy: 0.9576 - val_loss: 0.0695 - val_accuracy: 0.9611\n",
            "Epoch 189/300\n",
            "7/7 [==============================] - 0s 10ms/step - loss: 0.0767 - accuracy: 0.9576 - val_loss: 0.0693 - val_accuracy: 0.9611\n",
            "Epoch 190/300\n",
            "7/7 [==============================] - 0s 10ms/step - loss: 0.0766 - accuracy: 0.9576 - val_loss: 0.0691 - val_accuracy: 0.9611\n",
            "Epoch 191/300\n",
            "7/7 [==============================] - 0s 10ms/step - loss: 0.0764 - accuracy: 0.9576 - val_loss: 0.0689 - val_accuracy: 0.9611\n",
            "Epoch 192/300\n",
            "7/7 [==============================] - 0s 9ms/step - loss: 0.0762 - accuracy: 0.9576 - val_loss: 0.0687 - val_accuracy: 0.9611\n",
            "Epoch 193/300\n",
            "7/7 [==============================] - 0s 12ms/step - loss: 0.0760 - accuracy: 0.9576 - val_loss: 0.0686 - val_accuracy: 0.9611\n",
            "Epoch 194/300\n",
            "7/7 [==============================] - 0s 10ms/step - loss: 0.0759 - accuracy: 0.9576 - val_loss: 0.0684 - val_accuracy: 0.9611\n",
            "Epoch 195/300\n",
            "7/7 [==============================] - 0s 12ms/step - loss: 0.0757 - accuracy: 0.9576 - val_loss: 0.0682 - val_accuracy: 0.9611\n",
            "Epoch 196/300\n",
            "7/7 [==============================] - 0s 9ms/step - loss: 0.0755 - accuracy: 0.9576 - val_loss: 0.0681 - val_accuracy: 0.9611\n",
            "Epoch 197/300\n",
            "7/7 [==============================] - 0s 10ms/step - loss: 0.0754 - accuracy: 0.9576 - val_loss: 0.0679 - val_accuracy: 0.9611\n",
            "Epoch 198/300\n",
            "7/7 [==============================] - 0s 9ms/step - loss: 0.0752 - accuracy: 0.9576 - val_loss: 0.0677 - val_accuracy: 0.9611\n",
            "Epoch 199/300\n",
            "7/7 [==============================] - 0s 12ms/step - loss: 0.0751 - accuracy: 0.9576 - val_loss: 0.0676 - val_accuracy: 0.9611\n",
            "Epoch 200/300\n",
            "7/7 [==============================] - 0s 12ms/step - loss: 0.0749 - accuracy: 0.9576 - val_loss: 0.0674 - val_accuracy: 0.9611\n",
            "Epoch 201/300\n",
            "7/7 [==============================] - 0s 9ms/step - loss: 0.0748 - accuracy: 0.9576 - val_loss: 0.0673 - val_accuracy: 0.9611\n",
            "Epoch 202/300\n",
            "7/7 [==============================] - 0s 10ms/step - loss: 0.0746 - accuracy: 0.9576 - val_loss: 0.0671 - val_accuracy: 0.9611\n",
            "Epoch 203/300\n",
            "7/7 [==============================] - 0s 12ms/step - loss: 0.0745 - accuracy: 0.9576 - val_loss: 0.0670 - val_accuracy: 0.9611\n",
            "Epoch 204/300\n",
            "7/7 [==============================] - 0s 10ms/step - loss: 0.0743 - accuracy: 0.9576 - val_loss: 0.0668 - val_accuracy: 0.9611\n",
            "Epoch 205/300\n",
            "7/7 [==============================] - 0s 9ms/step - loss: 0.0742 - accuracy: 0.9576 - val_loss: 0.0667 - val_accuracy: 0.9611\n",
            "Epoch 206/300\n",
            "7/7 [==============================] - 0s 12ms/step - loss: 0.0741 - accuracy: 0.9576 - val_loss: 0.0665 - val_accuracy: 0.9611\n",
            "Epoch 207/300\n",
            "7/7 [==============================] - 0s 10ms/step - loss: 0.0739 - accuracy: 0.9576 - val_loss: 0.0664 - val_accuracy: 0.9611\n",
            "Epoch 208/300\n",
            "7/7 [==============================] - 0s 11ms/step - loss: 0.0738 - accuracy: 0.9576 - val_loss: 0.0662 - val_accuracy: 0.9611\n",
            "Epoch 209/300\n",
            "7/7 [==============================] - 0s 12ms/step - loss: 0.0737 - accuracy: 0.9576 - val_loss: 0.0661 - val_accuracy: 0.9611\n",
            "Epoch 210/300\n",
            "7/7 [==============================] - 0s 10ms/step - loss: 0.0735 - accuracy: 0.9576 - val_loss: 0.0660 - val_accuracy: 0.9611\n",
            "Epoch 211/300\n",
            "7/7 [==============================] - 0s 12ms/step - loss: 0.0734 - accuracy: 0.9576 - val_loss: 0.0658 - val_accuracy: 0.9611\n",
            "Epoch 212/300\n",
            "7/7 [==============================] - 0s 12ms/step - loss: 0.0733 - accuracy: 0.9576 - val_loss: 0.0657 - val_accuracy: 0.9611\n",
            "Epoch 213/300\n",
            "7/7 [==============================] - 0s 12ms/step - loss: 0.0732 - accuracy: 0.9576 - val_loss: 0.0656 - val_accuracy: 0.9611\n",
            "Epoch 214/300\n",
            "7/7 [==============================] - 0s 10ms/step - loss: 0.0730 - accuracy: 0.9576 - val_loss: 0.0655 - val_accuracy: 0.9611\n",
            "Epoch 215/300\n",
            "7/7 [==============================] - 0s 9ms/step - loss: 0.0729 - accuracy: 0.9576 - val_loss: 0.0653 - val_accuracy: 0.9611\n",
            "Epoch 216/300\n",
            "7/7 [==============================] - 0s 12ms/step - loss: 0.0728 - accuracy: 0.9576 - val_loss: 0.0652 - val_accuracy: 0.9611\n",
            "Epoch 217/300\n",
            "7/7 [==============================] - 0s 9ms/step - loss: 0.0727 - accuracy: 0.9576 - val_loss: 0.0651 - val_accuracy: 0.9611\n",
            "Epoch 218/300\n",
            "7/7 [==============================] - 0s 9ms/step - loss: 0.0726 - accuracy: 0.9576 - val_loss: 0.0650 - val_accuracy: 0.9611\n",
            "Epoch 219/300\n",
            "7/7 [==============================] - 0s 10ms/step - loss: 0.0725 - accuracy: 0.9576 - val_loss: 0.0649 - val_accuracy: 0.9611\n",
            "Epoch 220/300\n",
            "7/7 [==============================] - 0s 12ms/step - loss: 0.0724 - accuracy: 0.9576 - val_loss: 0.0647 - val_accuracy: 0.9611\n",
            "Epoch 221/300\n",
            "7/7 [==============================] - 0s 13ms/step - loss: 0.0723 - accuracy: 0.9576 - val_loss: 0.0646 - val_accuracy: 0.9611\n",
            "Epoch 222/300\n",
            "7/7 [==============================] - 0s 13ms/step - loss: 0.0722 - accuracy: 0.9576 - val_loss: 0.0645 - val_accuracy: 0.9611\n",
            "Epoch 223/300\n",
            "7/7 [==============================] - 0s 12ms/step - loss: 0.0721 - accuracy: 0.9576 - val_loss: 0.0644 - val_accuracy: 0.9611\n",
            "Epoch 224/300\n",
            "7/7 [==============================] - 0s 12ms/step - loss: 0.0720 - accuracy: 0.9576 - val_loss: 0.0643 - val_accuracy: 0.9611\n",
            "Epoch 225/300\n",
            "7/7 [==============================] - 0s 12ms/step - loss: 0.0719 - accuracy: 0.9576 - val_loss: 0.0642 - val_accuracy: 0.9611\n",
            "Epoch 226/300\n",
            "7/7 [==============================] - 0s 12ms/step - loss: 0.0718 - accuracy: 0.9576 - val_loss: 0.0641 - val_accuracy: 0.9611\n",
            "Epoch 227/300\n",
            "7/7 [==============================] - 0s 12ms/step - loss: 0.0717 - accuracy: 0.9576 - val_loss: 0.0640 - val_accuracy: 0.9611\n",
            "Epoch 228/300\n",
            "7/7 [==============================] - 0s 11ms/step - loss: 0.0716 - accuracy: 0.9576 - val_loss: 0.0639 - val_accuracy: 0.9611\n",
            "Epoch 229/300\n",
            "7/7 [==============================] - 0s 9ms/step - loss: 0.0715 - accuracy: 0.9576 - val_loss: 0.0638 - val_accuracy: 0.9611\n",
            "Epoch 230/300\n",
            "7/7 [==============================] - 0s 9ms/step - loss: 0.0714 - accuracy: 0.9576 - val_loss: 0.0637 - val_accuracy: 0.9611\n",
            "Epoch 231/300\n",
            "7/7 [==============================] - 0s 12ms/step - loss: 0.0713 - accuracy: 0.9576 - val_loss: 0.0636 - val_accuracy: 0.9611\n",
            "Epoch 232/300\n",
            "7/7 [==============================] - 0s 10ms/step - loss: 0.0712 - accuracy: 0.9576 - val_loss: 0.0635 - val_accuracy: 0.9611\n",
            "Epoch 233/300\n",
            "7/7 [==============================] - 0s 10ms/step - loss: 0.0711 - accuracy: 0.9576 - val_loss: 0.0634 - val_accuracy: 0.9611\n",
            "Epoch 234/300\n",
            "7/7 [==============================] - 0s 12ms/step - loss: 0.0710 - accuracy: 0.9576 - val_loss: 0.0633 - val_accuracy: 0.9611\n",
            "Epoch 235/300\n",
            "7/7 [==============================] - 0s 12ms/step - loss: 0.0710 - accuracy: 0.9576 - val_loss: 0.0632 - val_accuracy: 0.9611\n",
            "Epoch 236/300\n",
            "7/7 [==============================] - 0s 9ms/step - loss: 0.0709 - accuracy: 0.9576 - val_loss: 0.0631 - val_accuracy: 0.9611\n",
            "Epoch 237/300\n",
            "7/7 [==============================] - 0s 11ms/step - loss: 0.0708 - accuracy: 0.9576 - val_loss: 0.0631 - val_accuracy: 0.9611\n",
            "Epoch 238/300\n",
            "7/7 [==============================] - 0s 9ms/step - loss: 0.0707 - accuracy: 0.9576 - val_loss: 0.0630 - val_accuracy: 0.9611\n",
            "Epoch 239/300\n",
            "7/7 [==============================] - 0s 12ms/step - loss: 0.0706 - accuracy: 0.9576 - val_loss: 0.0629 - val_accuracy: 0.9611\n",
            "Epoch 240/300\n",
            "7/7 [==============================] - 0s 9ms/step - loss: 0.0706 - accuracy: 0.9576 - val_loss: 0.0628 - val_accuracy: 0.9611\n",
            "Epoch 241/300\n",
            "7/7 [==============================] - 0s 9ms/step - loss: 0.0705 - accuracy: 0.9576 - val_loss: 0.0627 - val_accuracy: 0.9611\n",
            "Epoch 242/300\n",
            "7/7 [==============================] - 0s 9ms/step - loss: 0.0704 - accuracy: 0.9576 - val_loss: 0.0626 - val_accuracy: 0.9611\n",
            "Epoch 243/300\n",
            "7/7 [==============================] - 0s 12ms/step - loss: 0.0703 - accuracy: 0.9576 - val_loss: 0.0626 - val_accuracy: 0.9611\n",
            "Epoch 244/300\n",
            "7/7 [==============================] - 0s 12ms/step - loss: 0.0703 - accuracy: 0.9576 - val_loss: 0.0625 - val_accuracy: 0.9611\n",
            "Epoch 245/300\n",
            "7/7 [==============================] - 0s 9ms/step - loss: 0.0702 - accuracy: 0.9576 - val_loss: 0.0624 - val_accuracy: 0.9611\n",
            "Epoch 246/300\n",
            "7/7 [==============================] - 0s 11ms/step - loss: 0.0701 - accuracy: 0.9576 - val_loss: 0.0623 - val_accuracy: 0.9611\n",
            "Epoch 247/300\n",
            "7/7 [==============================] - 0s 16ms/step - loss: 0.0700 - accuracy: 0.9576 - val_loss: 0.0623 - val_accuracy: 0.9611\n",
            "Epoch 248/300\n",
            "7/7 [==============================] - 0s 14ms/step - loss: 0.0700 - accuracy: 0.9576 - val_loss: 0.0622 - val_accuracy: 0.9611\n",
            "Epoch 249/300\n",
            "7/7 [==============================] - 0s 14ms/step - loss: 0.0699 - accuracy: 0.9576 - val_loss: 0.0621 - val_accuracy: 0.9611\n",
            "Epoch 250/300\n",
            "7/7 [==============================] - 0s 14ms/step - loss: 0.0699 - accuracy: 0.9576 - val_loss: 0.0620 - val_accuracy: 0.9611\n",
            "Epoch 251/300\n",
            "7/7 [==============================] - 0s 13ms/step - loss: 0.0698 - accuracy: 0.9576 - val_loss: 0.0620 - val_accuracy: 0.9611\n",
            "Epoch 252/300\n",
            "7/7 [==============================] - 0s 14ms/step - loss: 0.0697 - accuracy: 0.9576 - val_loss: 0.0619 - val_accuracy: 0.9611\n",
            "Epoch 253/300\n",
            "7/7 [==============================] - 0s 16ms/step - loss: 0.0697 - accuracy: 0.9576 - val_loss: 0.0618 - val_accuracy: 0.9611\n",
            "Epoch 254/300\n",
            "7/7 [==============================] - 0s 15ms/step - loss: 0.0696 - accuracy: 0.9576 - val_loss: 0.0618 - val_accuracy: 0.9611\n",
            "Epoch 255/300\n",
            "7/7 [==============================] - 0s 14ms/step - loss: 0.0695 - accuracy: 0.9576 - val_loss: 0.0617 - val_accuracy: 0.9611\n",
            "Epoch 256/300\n",
            "7/7 [==============================] - 0s 18ms/step - loss: 0.0695 - accuracy: 0.9576 - val_loss: 0.0616 - val_accuracy: 0.9611\n",
            "Epoch 257/300\n",
            "7/7 [==============================] - 0s 14ms/step - loss: 0.0694 - accuracy: 0.9576 - val_loss: 0.0616 - val_accuracy: 0.9611\n",
            "Epoch 258/300\n",
            "7/7 [==============================] - 0s 14ms/step - loss: 0.0694 - accuracy: 0.9576 - val_loss: 0.0615 - val_accuracy: 0.9611\n",
            "Epoch 259/300\n",
            "7/7 [==============================] - 0s 15ms/step - loss: 0.0693 - accuracy: 0.9576 - val_loss: 0.0614 - val_accuracy: 0.9611\n",
            "Epoch 260/300\n",
            "7/7 [==============================] - 0s 16ms/step - loss: 0.0693 - accuracy: 0.9576 - val_loss: 0.0614 - val_accuracy: 0.9611\n",
            "Epoch 261/300\n",
            "7/7 [==============================] - 0s 15ms/step - loss: 0.0692 - accuracy: 0.9576 - val_loss: 0.0613 - val_accuracy: 0.9611\n",
            "Epoch 262/300\n",
            "7/7 [==============================] - 0s 13ms/step - loss: 0.0691 - accuracy: 0.9576 - val_loss: 0.0613 - val_accuracy: 0.9611\n",
            "Epoch 263/300\n",
            "7/7 [==============================] - 0s 14ms/step - loss: 0.0691 - accuracy: 0.9576 - val_loss: 0.0612 - val_accuracy: 0.9611\n",
            "Epoch 264/300\n",
            "7/7 [==============================] - 0s 13ms/step - loss: 0.0690 - accuracy: 0.9576 - val_loss: 0.0611 - val_accuracy: 0.9611\n",
            "Epoch 265/300\n",
            "7/7 [==============================] - 0s 16ms/step - loss: 0.0690 - accuracy: 0.9576 - val_loss: 0.0611 - val_accuracy: 0.9611\n",
            "Epoch 266/300\n",
            "7/7 [==============================] - 0s 16ms/step - loss: 0.0689 - accuracy: 0.9576 - val_loss: 0.0610 - val_accuracy: 0.9611\n",
            "Epoch 267/300\n",
            "7/7 [==============================] - 0s 15ms/step - loss: 0.0689 - accuracy: 0.9576 - val_loss: 0.0610 - val_accuracy: 0.9611\n",
            "Epoch 268/300\n",
            "7/7 [==============================] - 0s 16ms/step - loss: 0.0688 - accuracy: 0.9576 - val_loss: 0.0609 - val_accuracy: 0.9611\n",
            "Epoch 269/300\n",
            "7/7 [==============================] - 0s 15ms/step - loss: 0.0688 - accuracy: 0.9576 - val_loss: 0.0609 - val_accuracy: 0.9611\n",
            "Epoch 270/300\n",
            "7/7 [==============================] - 0s 17ms/step - loss: 0.0687 - accuracy: 0.9576 - val_loss: 0.0608 - val_accuracy: 0.9611\n",
            "Epoch 271/300\n",
            "7/7 [==============================] - 0s 15ms/step - loss: 0.0687 - accuracy: 0.9576 - val_loss: 0.0608 - val_accuracy: 0.9611\n",
            "Epoch 272/300\n",
            "7/7 [==============================] - 0s 15ms/step - loss: 0.0687 - accuracy: 0.9576 - val_loss: 0.0607 - val_accuracy: 0.9611\n",
            "Epoch 273/300\n",
            "7/7 [==============================] - 0s 15ms/step - loss: 0.0686 - accuracy: 0.9576 - val_loss: 0.0607 - val_accuracy: 0.9611\n",
            "Epoch 274/300\n",
            "7/7 [==============================] - 0s 14ms/step - loss: 0.0686 - accuracy: 0.9576 - val_loss: 0.0606 - val_accuracy: 0.9611\n",
            "Epoch 275/300\n",
            "7/7 [==============================] - 0s 14ms/step - loss: 0.0685 - accuracy: 0.9576 - val_loss: 0.0606 - val_accuracy: 0.9611\n",
            "Epoch 276/300\n",
            "7/7 [==============================] - 0s 13ms/step - loss: 0.0685 - accuracy: 0.9576 - val_loss: 0.0605 - val_accuracy: 0.9611\n",
            "Epoch 277/300\n",
            "7/7 [==============================] - 0s 14ms/step - loss: 0.0684 - accuracy: 0.9576 - val_loss: 0.0605 - val_accuracy: 0.9611\n",
            "Epoch 278/300\n",
            "7/7 [==============================] - 0s 14ms/step - loss: 0.0684 - accuracy: 0.9576 - val_loss: 0.0604 - val_accuracy: 0.9611\n",
            "Epoch 279/300\n",
            "7/7 [==============================] - 0s 16ms/step - loss: 0.0684 - accuracy: 0.9576 - val_loss: 0.0604 - val_accuracy: 0.9611\n",
            "Epoch 280/300\n",
            "7/7 [==============================] - 0s 17ms/step - loss: 0.0683 - accuracy: 0.9576 - val_loss: 0.0603 - val_accuracy: 0.9611\n",
            "Epoch 281/300\n",
            "7/7 [==============================] - 0s 14ms/step - loss: 0.0683 - accuracy: 0.9576 - val_loss: 0.0603 - val_accuracy: 0.9611\n",
            "Epoch 282/300\n",
            "7/7 [==============================] - 0s 12ms/step - loss: 0.0682 - accuracy: 0.9576 - val_loss: 0.0602 - val_accuracy: 0.9611\n",
            "Epoch 283/300\n",
            "7/7 [==============================] - 0s 15ms/step - loss: 0.0682 - accuracy: 0.9576 - val_loss: 0.0602 - val_accuracy: 0.9611\n",
            "Epoch 284/300\n",
            "7/7 [==============================] - 0s 15ms/step - loss: 0.0682 - accuracy: 0.9576 - val_loss: 0.0602 - val_accuracy: 0.9611\n",
            "Epoch 285/300\n",
            "7/7 [==============================] - 0s 13ms/step - loss: 0.0681 - accuracy: 0.9576 - val_loss: 0.0601 - val_accuracy: 0.9611\n",
            "Epoch 286/300\n",
            "7/7 [==============================] - 0s 17ms/step - loss: 0.0681 - accuracy: 0.9576 - val_loss: 0.0601 - val_accuracy: 0.9611\n",
            "Epoch 287/300\n",
            "7/7 [==============================] - 0s 16ms/step - loss: 0.0680 - accuracy: 0.9576 - val_loss: 0.0600 - val_accuracy: 0.9611\n",
            "Epoch 288/300\n",
            "7/7 [==============================] - 0s 16ms/step - loss: 0.0680 - accuracy: 0.9576 - val_loss: 0.0600 - val_accuracy: 0.9611\n",
            "Epoch 289/300\n",
            "7/7 [==============================] - 0s 16ms/step - loss: 0.0680 - accuracy: 0.9576 - val_loss: 0.0599 - val_accuracy: 0.9611\n",
            "Epoch 290/300\n",
            "7/7 [==============================] - 0s 13ms/step - loss: 0.0679 - accuracy: 0.9576 - val_loss: 0.0599 - val_accuracy: 0.9611\n",
            "Epoch 291/300\n",
            "7/7 [==============================] - 0s 12ms/step - loss: 0.0679 - accuracy: 0.9576 - val_loss: 0.0599 - val_accuracy: 0.9611\n",
            "Epoch 292/300\n",
            "7/7 [==============================] - 0s 10ms/step - loss: 0.0679 - accuracy: 0.9576 - val_loss: 0.0598 - val_accuracy: 0.9611\n",
            "Epoch 293/300\n",
            "7/7 [==============================] - 0s 12ms/step - loss: 0.0678 - accuracy: 0.9576 - val_loss: 0.0598 - val_accuracy: 0.9611\n",
            "Epoch 294/300\n",
            "7/7 [==============================] - 0s 9ms/step - loss: 0.0678 - accuracy: 0.9576 - val_loss: 0.0597 - val_accuracy: 0.9611\n",
            "Epoch 295/300\n",
            "7/7 [==============================] - 0s 13ms/step - loss: 0.0678 - accuracy: 0.9576 - val_loss: 0.0597 - val_accuracy: 0.9611\n",
            "Epoch 296/300\n",
            "7/7 [==============================] - 0s 10ms/step - loss: 0.0677 - accuracy: 0.9576 - val_loss: 0.0597 - val_accuracy: 0.9611\n",
            "Epoch 297/300\n",
            "7/7 [==============================] - 0s 11ms/step - loss: 0.0677 - accuracy: 0.9576 - val_loss: 0.0596 - val_accuracy: 0.9611\n",
            "Epoch 298/300\n",
            "7/7 [==============================] - 0s 12ms/step - loss: 0.0677 - accuracy: 0.9576 - val_loss: 0.0596 - val_accuracy: 0.9611\n",
            "Epoch 299/300\n",
            "7/7 [==============================] - 0s 12ms/step - loss: 0.0677 - accuracy: 0.9576 - val_loss: 0.0596 - val_accuracy: 0.9611\n",
            "Epoch 300/300\n",
            "7/7 [==============================] - 0s 11ms/step - loss: 0.0676 - accuracy: 0.9576 - val_loss: 0.0595 - val_accuracy: 0.9611\n"
          ]
        }
      ],
      "source": [
        "if model_selection[model_flag]==\"ALL\" or model_selection[model_flag] == \"AE\":\n",
        "  # training the model on training dataset\n",
        "  his = ae_classifier.fit(predictions, y_test, epochs=300,batch_size=500, validation_split=0.2).history"
      ]
    },
    {
      "cell_type": "code",
      "execution_count": 80,
      "metadata": {
        "id": "yeNS7pLUNYBz",
        "colab": {
          "base_uri": "https://localhost:8080/"
        },
        "outputId": "15de2c54-6e15-4378-e379-23115f283a65"
      },
      "outputs": [
        {
          "output_type": "stream",
          "name": "stdout",
          "text": [
            "Saved model to disk\n",
            "Loaded model from disk\n"
          ]
        }
      ],
      "source": [
        "if model_selection[model_flag]==\"ALL\" or model_selection[model_flag] == \"AE\":\n",
        "  filepath = '/content/drive/MyDrive/Colab_Notebooks/Models/ae_classifier_binary'+model_name_suffix+'.json'\n",
        "  weightspath = '/content/drive/MyDrive/Colab_Notebooks/Weights/ae_classifier_binary'+model_name_suffix+'.h5'\n",
        "  if (not path.isfile(filepath)): \n",
        "    # serialize model to JSON\n",
        "    ae_classifier_json = ae_classifier.to_json()\n",
        "    with open(filepath, \"w\") as json_file:\n",
        "      json_file.write(ae_classifier_json)\n",
        "\n",
        "    # serialize weights to HDF5\n",
        "    ae_classifier.save_weights(weightspath)\n",
        "    print(\"Saved model to disk\")\n",
        "\n",
        "    # load json and create model\n",
        "    json_file = open(filepath, 'r')\n",
        "    loaded_model_json = json_file.read()\n",
        "    json_file.close()\n",
        "    ae_classifier = model_from_json(loaded_model_json)\n",
        "\n",
        "    # load weights into new model\n",
        "    ae_classifier.load_weights(weightspath)\n",
        "    print(\"Loaded model from disk\")"
      ]
    },
    {
      "cell_type": "code",
      "execution_count": 81,
      "metadata": {
        "id": "AG42bV79NYFB"
      },
      "outputs": [],
      "source": [
        "if model_selection[model_flag]==\"ALL\" or model_selection[model_flag] == \"AE\":\n",
        "  ae_classifier.compile(optimizer='adam', loss='binary_crossentropy',metrics=['accuracy'])"
      ]
    },
    {
      "cell_type": "code",
      "execution_count": 82,
      "metadata": {
        "id": "13aKBGJcNYHv",
        "colab": {
          "base_uri": "https://localhost:8080/"
        },
        "outputId": "b5e8c6fa-6cba-488f-8df8-190c75873f99"
      },
      "outputs": [
        {
          "output_type": "stream",
          "name": "stdout",
          "text": [
            "133/133 [==============================] - 1s 2ms/step - loss: 0.4238 - accuracy: 0.9583\n",
            "Test results - Loss: 0.4237979054450989 - Accuracy: 95.83038687705994%\n"
          ]
        }
      ],
      "source": [
        "if model_selection[model_flag]==\"ALL\" or model_selection[model_flag] == \"AE\":\n",
        "  # predicting target attribute on testing dataset\n",
        "  test_results = ae_classifier.evaluate(X_test, y_test, verbose=1)\n",
        "  print(f'Test results - Loss: {test_results[0]} - Accuracy: {test_results[1]*100}%')"
      ]
    },
    {
      "cell_type": "code",
      "execution_count": 83,
      "metadata": {
        "id": "zCWbOaSyN1dH"
      },
      "outputs": [],
      "source": [
        "if model_selection[model_flag]==\"ALL\" or model_selection[model_flag] == \"AE\":\n",
        "  # representation of model layers\n",
        "  plot_model(ae_classifier, to_file='/content/drive/MyDrive/Colab_Notebooks/Plots/ae_classifier_binary.png', show_shapes=True)"
      ]
    },
    {
      "cell_type": "code",
      "execution_count": 84,
      "metadata": {
        "id": "44VaFGgVOBpU",
        "colab": {
          "base_uri": "https://localhost:8080/",
          "height": 472
        },
        "outputId": "974e877d-5590-44f0-db9c-5dd2d2b5e845"
      },
      "outputs": [
        {
          "output_type": "display_data",
          "data": {
            "text/plain": [
              "<Figure size 640x480 with 1 Axes>"
            ],
            "image/png": "[encoded data removed]"
          },
          "metadata": {}
        }
      ],
      "source": [
        "if model_selection[model_flag]==\"ALL\" or model_selection[model_flag] == \"AE\":\n",
        "  # Plot of loss vs epoch of train and test dataset\n",
        "  plt.plot(his['loss'])\n",
        "  plt.plot(his['val_loss'])\n",
        "  plt.title(\"Plot of loss vs epoch for train and test dataset\")\n",
        "  plt.ylabel('loss')\n",
        "  plt.xlabel('epoch')\n",
        "  plt.legend(['train', 'test'], loc='upper right')\n",
        "  plt.savefig('/content/drive/MyDrive/Colab_Notebooks/Plots/ae_classifier_binary_loss.png')\n",
        "  plt.show()"
      ]
    },
    {
      "cell_type": "code",
      "execution_count": 85,
      "metadata": {
        "id": "Am0UB82rOIo1",
        "colab": {
          "base_uri": "https://localhost:8080/",
          "height": 472
        },
        "outputId": "0626b74c-b7a0-4df5-c8e1-80064c0c1499"
      },
      "outputs": [
        {
          "output_type": "display_data",
          "data": {
            "text/plain": [
              "<Figure size 640x480 with 1 Axes>"
            ],
            "image/png": "[encoded data removed]"
          },
          "metadata": {}
        }
      ],
      "source": [
        "if model_selection[model_flag]==\"ALL\" or model_selection[model_flag] == \"AE\":\n",
        "  # Plot of accuracy vs epoch of train and test dataset\n",
        "  plt.plot(his['accuracy'])\n",
        "  plt.plot(his['val_accuracy'])\n",
        "  plt.title(\"Plot of accuracy vs epoch for train and test dataset\")\n",
        "  plt.ylabel('accuracy')\n",
        "  plt.xlabel('epoch')\n",
        "  plt.legend(['train', 'test'], loc='best')\n",
        "  plt.savefig('/content/drive/MyDrive/Colab_Notebooks/Plots/ae_classifier_binary_accuracy.png')\n",
        "  plt.show()"
      ]
    },
    {
      "cell_type": "code",
      "execution_count": 86,
      "metadata": {
        "id": "f5OZTlm0OMoW",
        "colab": {
          "base_uri": "https://localhost:8080/"
        },
        "outputId": "1e13a328-d688-44b6-9322-66376b47ad62"
      },
      "outputs": [
        {
          "output_type": "stream",
          "name": "stdout",
          "text": [
            "133/133 [==============================] - 0s 1ms/step\n"
          ]
        }
      ],
      "source": [
        "if model_selection[model_flag]==\"ALL\" or model_selection[model_flag] == \"AE\":\n",
        "  y_pred = ae_classifier.predict(X_test).ravel()\n",
        "  fpr, tpr, thresholds = roc_curve(y_test, y_pred)\n",
        "  #auc = auc(fpr, tpr)"
      ]
    },
    {
      "cell_type": "code",
      "execution_count": 87,
      "metadata": {
        "id": "GbSkwfO2OTkn",
        "colab": {
          "base_uri": "https://localhost:8080/",
          "height": 510
        },
        "outputId": "8c1773b2-ae71-4d58-8331-5bb254a50ebd"
      },
      "outputs": [
        {
          "output_type": "stream",
          "name": "stderr",
          "text": [
            "WARNING:matplotlib.legend:No artists with labels found to put in legend.  Note that artists whose label start with an underscore are ignored when legend() is called with no argument.\n"
          ]
        },
        {
          "output_type": "display_data",
          "data": {
            "text/plain": [
              "<Figure size 640x480 with 1 Axes>"
            ],
            "image/png": "[encoded data removed]"
          },
          "metadata": {}
        }
      ],
      "source": [
        "if model_selection[model_flag]==\"ALL\" or model_selection[model_flag] == \"AE\":\n",
        "  plt.plot([0, 1], [0, 1], 'k--')\n",
        "  #plt.plot(fpr, tpr, label='Keras (area = {:.3f})'.format(auc))\n",
        "  plt.plot(fpr, tpr)\n",
        "  plt.xlabel('False positive rate')\n",
        "  plt.ylabel('True positive rate')\n",
        "  plt.title('ROC curve')\n",
        "  plt.legend(loc='best')\n",
        "  plt.savefig('/content/drive/MyDrive/Colab_Notebooks/Plots/ae_binary_roc.png')\n",
        "  plt.show()"
      ]
    },
    {
      "cell_type": "code",
      "execution_count": 88,
      "metadata": {
        "id": "n7Xl74UXOZxm",
        "colab": {
          "base_uri": "https://localhost:8080/"
        },
        "outputId": "e9f5712d-1f9d-478c-ff29-7d99d626b99e"
      },
      "outputs": [
        {
          "output_type": "stream",
          "name": "stdout",
          "text": [
            "133/133 [==============================] - 0s 2ms/step\n",
            "133/133 [==============================] - 0s 2ms/step\n"
          ]
        }
      ],
      "source": [
        "if model_selection[model_flag]==\"ALL\" or model_selection[model_flag] == \"AE\":\n",
        "  pred = ae_classifier.predict(X_test)\n",
        "  y_classes = (ae_classifier.predict(X_test)>0.5).astype('int32')"
      ]
    },
    {
      "cell_type": "code",
      "execution_count": 89,
      "metadata": {
        "id": "WA_g3UlXOZ71",
        "colab": {
          "base_uri": "https://localhost:8080/"
        },
        "outputId": "50e7c633-7867-4329-8e9d-2e67b3d41c53"
      },
      "outputs": [
        {
          "output_type": "stream",
          "name": "stdout",
          "text": [
            "Recall Score -  0.0\n",
            "F1 Score -  0.0\n",
            "Precision Score -  0.0\n",
            "False Positive Rate -  [1.]\n",
            "False Negative Rate -  [0.]\n",
            "Thresholds -  [0]\n"
          ]
        },
        {
          "output_type": "stream",
          "name": "stderr",
          "text": [
            "/usr/local/lib/python3.9/dist-packages/sklearn/metrics/_classification.py:1344: UndefinedMetricWarning: Precision is ill-defined and being set to 0.0 due to no predicted samples. Use `zero_division` parameter to control this behavior.\n",
            "  _warn_prf(average, modifier, msg_start, len(result))\n"
          ]
        }
      ],
      "source": [
        "if model_selection[model_flag]==\"ALL\" or model_selection[model_flag] == \"AE\":\n",
        "  print(\"Recall Score - \",recall_score(y_test,y_classes))\n",
        "  print(\"F1 Score - \",f1_score(y_test,y_classes))\n",
        "  print(\"Precision Score - \",precision_score(y_test,y_classes))\n",
        "  fpr, fnr, thresholds = det_curve(y_test, y_classes)\n",
        "  print(\"False Positive Rate - \", fpr)\n",
        "  print(\"False Negative Rate - \", fnr)\n",
        "  print(\"Thresholds - \", thresholds)"
      ]
    },
    {
      "cell_type": "code",
      "source": [
        "print(classification_report(y_test, y_classes, target_names=['0', '1']))\n",
        "cm = confusion_matrix(y_test, y_classes)\n",
        "disp = ConfusionMatrixDisplay(confusion_matrix=cm,\n",
        "                              display_labels=['0', '1'])\n",
        "disp.plot()\n",
        "\n",
        "plt.show()"
      ],
      "metadata": {
        "id": "UgHHdx0qoryj",
        "colab": {
          "base_uri": "https://localhost:8080/",
          "height": 737
        },
        "outputId": "a0f2f69c-3ff9-4a20-9839-8a2e0f1e648f"
      },
      "execution_count": 90,
      "outputs": [
        {
          "output_type": "stream",
          "name": "stdout",
          "text": [
            "              precision    recall  f1-score   support\n",
            "\n",
            "           0       0.96      1.00      0.98      4068\n",
            "           1       0.00      0.00      0.00       177\n",
            "\n",
            "    accuracy                           0.96      4245\n",
            "   macro avg       0.48      0.50      0.49      4245\n",
            "weighted avg       0.92      0.96      0.94      4245\n",
            "\n"
          ]
        },
        {
          "output_type": "stream",
          "name": "stderr",
          "text": [
            "/usr/local/lib/python3.9/dist-packages/sklearn/metrics/_classification.py:1344: UndefinedMetricWarning: Precision and F-score are ill-defined and being set to 0.0 in labels with no predicted samples. Use `zero_division` parameter to control this behavior.\n",
            "  _warn_prf(average, modifier, msg_start, len(result))\n",
            "/usr/local/lib/python3.9/dist-packages/sklearn/metrics/_classification.py:1344: UndefinedMetricWarning: Precision and F-score are ill-defined and being set to 0.0 in labels with no predicted samples. Use `zero_division` parameter to control this behavior.\n",
            "  _warn_prf(average, modifier, msg_start, len(result))\n",
            "/usr/local/lib/python3.9/dist-packages/sklearn/metrics/_classification.py:1344: UndefinedMetricWarning: Precision and F-score are ill-defined and being set to 0.0 in labels with no predicted samples. Use `zero_division` parameter to control this behavior.\n",
            "  _warn_prf(average, modifier, msg_start, len(result))\n"
          ]
        },
        {
          "output_type": "display_data",
          "data": {
            "text/plain": [
              "<Figure size 640x480 with 2 Axes>"
            ],
            "image/png": "[encoded data removed]"
          },
          "metadata": {}
        }
      ]
    }
  ],
  "metadata": {
    "colab": {
      "provenance": [],
      "include_colab_link": true
    },
    "gpuClass": "standard",
    "kernelspec": {
      "display_name": "Python 3",
      "name": "python3"
    },
    "language_info": {
      "name": "python"
    },
    "accelerator": "GPU"
  },
  "nbformat": 4,
  "nbformat_minor": 0
}