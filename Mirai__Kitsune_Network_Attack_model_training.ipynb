{
  "cells": [
    {
      "cell_type": "markdown",
      "metadata": {
        "id": "view-in-github",
        "colab_type": "text"
      },
      "source": [
        "<a href=\"https://colab.research.google.com/github/rahulyad011/intrusion-detection/blob/main/Mirai__Kitsune_Network_Attack_model_training.ipynb\" target=\"_parent\"><img src=\"https://colab.research.google.com/assets/colab-badge.svg\" alt=\"Open In Colab\"/></a>"
      ]
    },
    {
      "cell_type": "code",
      "execution_count": 4,
      "metadata": {
        "id": "qXQ8rUmdwaf4"
      },
      "outputs": [],
      "source": [
        "\n",
        "from sklearn.metrics import accuracy_score # for calculating accuracy of model\n",
        "from sklearn.model_selection import train_test_split # for splitting the dataset for training and testing\n",
        "from sklearn.metrics import classification_report # for generating a classification report of model\n",
        "import pickle # saving and loading trained model\n",
        "from os import path\n",
        "import numpy as np\n",
        "import pandas as pd\n",
        "import matplotlib.pyplot as plt\n",
        "\n",
        "# importing library for support vector machine classifier\n",
        "from sklearn.svm import SVC\n",
        "\n",
        "# MLP requirements \n",
        "from keras.layers import Dense # importing dense layer\n",
        "from keras.models import Sequential #importing Sequential layer\n",
        "from keras.models import model_from_json # saving and loading trained model\n",
        "\n",
        "# LSTM requirements \n",
        "from keras.layers import LSTM\n",
        "from keras.layers import Input\n",
        "from keras.models import Model\n",
        "\n",
        "# evaluation metrices\n",
        "from sklearn.metrics import classification_report, confusion_matrix\n",
        "from sklearn.metrics import roc_auc_score\n",
        "from sklearn.metrics import roc_curve, auc\n",
        "from sklearn.metrics import precision_score\n",
        "from sklearn.metrics import recall_score\n",
        "from sklearn.metrics import f1_score\n",
        "from sklearn.metrics import det_curve\n",
        "\n",
        "# representation of model layers\n",
        "from keras.utils.vis_utils import plot_model"
      ]
    },
    {
      "cell_type": "code",
      "source": [
        "from google.colab import drive\n",
        "drive.mount('/content/drive')"
      ],
      "metadata": {
        "id": "DBCkPmpEjFSf",
        "colab": {
          "base_uri": "https://localhost:8080/"
        },
        "outputId": "393feb5e-91ae-433c-cc33-7e4e409a17f5"
      },
      "execution_count": 5,
      "outputs": [
        {
          "output_type": "stream",
          "name": "stdout",
          "text": [
            "Drive already mounted at /content/drive; to attempt to forcibly remount, call drive.mount(\"/content/drive\", force_remount=True).\n"
          ]
        }
      ]
    },
    {
      "cell_type": "code",
      "execution_count": 6,
      "metadata": {
        "id": "Pepa9lW8whHh",
        "colab": {
          "base_uri": "https://localhost:8080/",
          "height": 488
        },
        "outputId": "ddcfe1f9-3d0a-4079-e961-c03d534e9b6c"
      },
      "outputs": [
        {
          "output_type": "execute_result",
          "data": {
            "text/plain": [
              "          X1         X2          X3            X4          X5          X6  \\\n",
              "0       5447  10.031062   82.841651  1.275803e+01   12.691520   82.859056   \n",
              "1      56820   4.661257   82.000000  9.094947e-13    7.275539   82.000000   \n",
              "2      10176   1.849088  105.505520  3.640463e+01    3.109124  106.505513   \n",
              "3     111324   7.648122   84.132883  2.957694e+01   10.285616   83.736463   \n",
              "4     102456   3.632766  103.989741  1.202931e+02    6.585167  102.430772   \n",
              "...      ...        ...         ...           ...         ...         ...   \n",
              "7636  143841  16.864181   66.126353  1.847410e-01   19.700610   66.165507   \n",
              "7637  137541  66.255786   60.088722  1.680977e+00  101.260881   60.127773   \n",
              "7638  198077  76.529166   60.028519  4.360455e-01  104.833231   60.076387   \n",
              "7639  433227  59.750208   60.239516  3.575476e+00   93.397194   60.269118   \n",
              "7640  444887   1.404752  100.141811  3.185885e+02    2.117197   92.943388   \n",
              "\n",
              "                X7          X8          X9          X10  ...       X108  \\\n",
              "0     1.300692e+01   25.108850   82.559322     8.670483  ...   0.000000   \n",
              "1     4.219601e-08   20.756844   81.999139     0.007004  ...   0.000000   \n",
              "2     2.079829e+02   10.152990  108.181226  1531.322588  ...   0.000000   \n",
              "3     2.476811e+01   20.756171   83.148884    17.144541  ...   0.000000   \n",
              "4     1.532841e+02   16.029761  100.823338   175.324239  ...   0.000000   \n",
              "...            ...         ...         ...          ...  ...        ...   \n",
              "7636  2.148385e-01   25.242448   66.223456     0.282260  ... -31.062068   \n",
              "7637  2.366964e+00  306.425293   60.133044     2.289978  ...   0.000000   \n",
              "7638  1.204671e+00  295.737980   60.148350     2.460989  ...   0.000000   \n",
              "7639  4.189966e+00  305.197263   60.229675     3.491959  ...   0.000000   \n",
              "7640  4.527943e+02    6.415706   90.988782   483.098855  ...   0.000000   \n",
              "\n",
              "          X109          X110        X111          X112        X113  \\\n",
              "0     0.000000     48.836078   82.000000  9.536743e-07   82.000000   \n",
              "1     0.000000     63.410145   82.000000  1.907349e-06   82.000000   \n",
              "2     0.000000      1.000000  102.000000  0.000000e+00  102.000000   \n",
              "3     0.000000     59.709757   82.000000  1.348699e-06   82.000000   \n",
              "4     0.000000     91.527828  110.000000  2.336015e-06  110.000000   \n",
              "...        ...           ...         ...           ...         ...   \n",
              "7636 -0.613542    114.441000   66.759651  2.566622e+00  120.927533   \n",
              "7637  0.000000   9789.582589   60.000000  3.234067e-06   60.000000   \n",
              "7638  0.000000  23958.225618   60.000000  7.104714e-06   60.000000   \n",
              "7639  0.000000  30737.956581   60.000000  4.623108e-06   60.000000   \n",
              "7640  0.000000     63.555112  110.000000  2.697398e-06  110.000000   \n",
              "\n",
              "              X114      X115     X116  label  \n",
              "0     9.094947e-13  0.000000  0.00000    0.0  \n",
              "1     3.637979e-12  0.000000  0.00000    0.0  \n",
              "2     0.000000e+00  0.000000  0.00000    0.0  \n",
              "3     1.818989e-12  0.000000  0.00000    0.0  \n",
              "4     5.456968e-12  0.000000  0.00000    0.0  \n",
              "...            ...       ...      ...    ...  \n",
              "7636  2.696229e+03 -2.538811 -0.01905    1.0  \n",
              "7637  1.045919e-11  0.000000  0.00000    1.0  \n",
              "7638  5.047696e-11  0.000000  0.00000    1.0  \n",
              "7639  2.137313e-11  0.000000  0.00000    1.0  \n",
              "7640  7.275958e-12  0.000000  0.00000    1.0  \n",
              "\n",
              "[7641 rows x 117 columns]"
            ],
            "text/html": [
              "\n",
              "  <div id=\"df-11278633-8cf5-4c83-90da-b61f038fa10e\">\n",
              "    <div class=\"colab-df-container\">\n",
              "      <div>\n",
              "<style scoped>\n",
              "    .dataframe tbody tr th:only-of-type {\n",
              "        vertical-align: middle;\n",
              "    }\n",
              "\n",
              "    .dataframe tbody tr th {\n",
              "        vertical-align: top;\n",
              "    }\n",
              "\n",
              "    .dataframe thead th {\n",
              "        text-align: right;\n",
              "    }\n",
              "</style>\n",
              "<table border=\"1\" class=\"dataframe\">\n",
              "  <thead>\n",
              "    <tr style=\"text-align: right;\">\n",
              "      <th></th>\n",
              "      <th>X1</th>\n",
              "      <th>X2</th>\n",
              "      <th>X3</th>\n",
              "      <th>X4</th>\n",
              "      <th>X5</th>\n",
              "      <th>X6</th>\n",
              "      <th>X7</th>\n",
              "      <th>X8</th>\n",
              "      <th>X9</th>\n",
              "      <th>X10</th>\n",
              "      <th>...</th>\n",
              "      <th>X108</th>\n",
              "      <th>X109</th>\n",
              "      <th>X110</th>\n",
              "      <th>X111</th>\n",
              "      <th>X112</th>\n",
              "      <th>X113</th>\n",
              "      <th>X114</th>\n",
              "      <th>X115</th>\n",
              "      <th>X116</th>\n",
              "      <th>label</th>\n",
              "    </tr>\n",
              "  </thead>\n",
              "  <tbody>\n",
              "    <tr>\n",
              "      <th>0</th>\n",
              "      <td>5447</td>\n",
              "      <td>10.031062</td>\n",
              "      <td>82.841651</td>\n",
              "      <td>1.275803e+01</td>\n",
              "      <td>12.691520</td>\n",
              "      <td>82.859056</td>\n",
              "      <td>1.300692e+01</td>\n",
              "      <td>25.108850</td>\n",
              "      <td>82.559322</td>\n",
              "      <td>8.670483</td>\n",
              "      <td>...</td>\n",
              "      <td>0.000000</td>\n",
              "      <td>0.000000</td>\n",
              "      <td>48.836078</td>\n",
              "      <td>82.000000</td>\n",
              "      <td>9.536743e-07</td>\n",
              "      <td>82.000000</td>\n",
              "      <td>9.094947e-13</td>\n",
              "      <td>0.000000</td>\n",
              "      <td>0.00000</td>\n",
              "      <td>0.0</td>\n",
              "    </tr>\n",
              "    <tr>\n",
              "      <th>1</th>\n",
              "      <td>56820</td>\n",
              "      <td>4.661257</td>\n",
              "      <td>82.000000</td>\n",
              "      <td>9.094947e-13</td>\n",
              "      <td>7.275539</td>\n",
              "      <td>82.000000</td>\n",
              "      <td>4.219601e-08</td>\n",
              "      <td>20.756844</td>\n",
              "      <td>81.999139</td>\n",
              "      <td>0.007004</td>\n",
              "      <td>...</td>\n",
              "      <td>0.000000</td>\n",
              "      <td>0.000000</td>\n",
              "      <td>63.410145</td>\n",
              "      <td>82.000000</td>\n",
              "      <td>1.907349e-06</td>\n",
              "      <td>82.000000</td>\n",
              "      <td>3.637979e-12</td>\n",
              "      <td>0.000000</td>\n",
              "      <td>0.00000</td>\n",
              "      <td>0.0</td>\n",
              "    </tr>\n",
              "    <tr>\n",
              "      <th>2</th>\n",
              "      <td>10176</td>\n",
              "      <td>1.849088</td>\n",
              "      <td>105.505520</td>\n",
              "      <td>3.640463e+01</td>\n",
              "      <td>3.109124</td>\n",
              "      <td>106.505513</td>\n",
              "      <td>2.079829e+02</td>\n",
              "      <td>10.152990</td>\n",
              "      <td>108.181226</td>\n",
              "      <td>1531.322588</td>\n",
              "      <td>...</td>\n",
              "      <td>0.000000</td>\n",
              "      <td>0.000000</td>\n",
              "      <td>1.000000</td>\n",
              "      <td>102.000000</td>\n",
              "      <td>0.000000e+00</td>\n",
              "      <td>102.000000</td>\n",
              "      <td>0.000000e+00</td>\n",
              "      <td>0.000000</td>\n",
              "      <td>0.00000</td>\n",
              "      <td>0.0</td>\n",
              "    </tr>\n",
              "    <tr>\n",
              "      <th>3</th>\n",
              "      <td>111324</td>\n",
              "      <td>7.648122</td>\n",
              "      <td>84.132883</td>\n",
              "      <td>2.957694e+01</td>\n",
              "      <td>10.285616</td>\n",
              "      <td>83.736463</td>\n",
              "      <td>2.476811e+01</td>\n",
              "      <td>20.756171</td>\n",
              "      <td>83.148884</td>\n",
              "      <td>17.144541</td>\n",
              "      <td>...</td>\n",
              "      <td>0.000000</td>\n",
              "      <td>0.000000</td>\n",
              "      <td>59.709757</td>\n",
              "      <td>82.000000</td>\n",
              "      <td>1.348699e-06</td>\n",
              "      <td>82.000000</td>\n",
              "      <td>1.818989e-12</td>\n",
              "      <td>0.000000</td>\n",
              "      <td>0.00000</td>\n",
              "      <td>0.0</td>\n",
              "    </tr>\n",
              "    <tr>\n",
              "      <th>4</th>\n",
              "      <td>102456</td>\n",
              "      <td>3.632766</td>\n",
              "      <td>103.989741</td>\n",
              "      <td>1.202931e+02</td>\n",
              "      <td>6.585167</td>\n",
              "      <td>102.430772</td>\n",
              "      <td>1.532841e+02</td>\n",
              "      <td>16.029761</td>\n",
              "      <td>100.823338</td>\n",
              "      <td>175.324239</td>\n",
              "      <td>...</td>\n",
              "      <td>0.000000</td>\n",
              "      <td>0.000000</td>\n",
              "      <td>91.527828</td>\n",
              "      <td>110.000000</td>\n",
              "      <td>2.336015e-06</td>\n",
              "      <td>110.000000</td>\n",
              "      <td>5.456968e-12</td>\n",
              "      <td>0.000000</td>\n",
              "      <td>0.00000</td>\n",
              "      <td>0.0</td>\n",
              "    </tr>\n",
              "    <tr>\n",
              "      <th>...</th>\n",
              "      <td>...</td>\n",
              "      <td>...</td>\n",
              "      <td>...</td>\n",
              "      <td>...</td>\n",
              "      <td>...</td>\n",
              "      <td>...</td>\n",
              "      <td>...</td>\n",
              "      <td>...</td>\n",
              "      <td>...</td>\n",
              "      <td>...</td>\n",
              "      <td>...</td>\n",
              "      <td>...</td>\n",
              "      <td>...</td>\n",
              "      <td>...</td>\n",
              "      <td>...</td>\n",
              "      <td>...</td>\n",
              "      <td>...</td>\n",
              "      <td>...</td>\n",
              "      <td>...</td>\n",
              "      <td>...</td>\n",
              "      <td>...</td>\n",
              "    </tr>\n",
              "    <tr>\n",
              "      <th>7636</th>\n",
              "      <td>143841</td>\n",
              "      <td>16.864181</td>\n",
              "      <td>66.126353</td>\n",
              "      <td>1.847410e-01</td>\n",
              "      <td>19.700610</td>\n",
              "      <td>66.165507</td>\n",
              "      <td>2.148385e-01</td>\n",
              "      <td>25.242448</td>\n",
              "      <td>66.223456</td>\n",
              "      <td>0.282260</td>\n",
              "      <td>...</td>\n",
              "      <td>-31.062068</td>\n",
              "      <td>-0.613542</td>\n",
              "      <td>114.441000</td>\n",
              "      <td>66.759651</td>\n",
              "      <td>2.566622e+00</td>\n",
              "      <td>120.927533</td>\n",
              "      <td>2.696229e+03</td>\n",
              "      <td>-2.538811</td>\n",
              "      <td>-0.01905</td>\n",
              "      <td>1.0</td>\n",
              "    </tr>\n",
              "    <tr>\n",
              "      <th>7637</th>\n",
              "      <td>137541</td>\n",
              "      <td>66.255786</td>\n",
              "      <td>60.088722</td>\n",
              "      <td>1.680977e+00</td>\n",
              "      <td>101.260881</td>\n",
              "      <td>60.127773</td>\n",
              "      <td>2.366964e+00</td>\n",
              "      <td>306.425293</td>\n",
              "      <td>60.133044</td>\n",
              "      <td>2.289978</td>\n",
              "      <td>...</td>\n",
              "      <td>0.000000</td>\n",
              "      <td>0.000000</td>\n",
              "      <td>9789.582589</td>\n",
              "      <td>60.000000</td>\n",
              "      <td>3.234067e-06</td>\n",
              "      <td>60.000000</td>\n",
              "      <td>1.045919e-11</td>\n",
              "      <td>0.000000</td>\n",
              "      <td>0.00000</td>\n",
              "      <td>1.0</td>\n",
              "    </tr>\n",
              "    <tr>\n",
              "      <th>7638</th>\n",
              "      <td>198077</td>\n",
              "      <td>76.529166</td>\n",
              "      <td>60.028519</td>\n",
              "      <td>4.360455e-01</td>\n",
              "      <td>104.833231</td>\n",
              "      <td>60.076387</td>\n",
              "      <td>1.204671e+00</td>\n",
              "      <td>295.737980</td>\n",
              "      <td>60.148350</td>\n",
              "      <td>2.460989</td>\n",
              "      <td>...</td>\n",
              "      <td>0.000000</td>\n",
              "      <td>0.000000</td>\n",
              "      <td>23958.225618</td>\n",
              "      <td>60.000000</td>\n",
              "      <td>7.104714e-06</td>\n",
              "      <td>60.000000</td>\n",
              "      <td>5.047696e-11</td>\n",
              "      <td>0.000000</td>\n",
              "      <td>0.00000</td>\n",
              "      <td>1.0</td>\n",
              "    </tr>\n",
              "    <tr>\n",
              "      <th>7639</th>\n",
              "      <td>433227</td>\n",
              "      <td>59.750208</td>\n",
              "      <td>60.239516</td>\n",
              "      <td>3.575476e+00</td>\n",
              "      <td>93.397194</td>\n",
              "      <td>60.269118</td>\n",
              "      <td>4.189966e+00</td>\n",
              "      <td>305.197263</td>\n",
              "      <td>60.229675</td>\n",
              "      <td>3.491959</td>\n",
              "      <td>...</td>\n",
              "      <td>0.000000</td>\n",
              "      <td>0.000000</td>\n",
              "      <td>30737.956581</td>\n",
              "      <td>60.000000</td>\n",
              "      <td>4.623108e-06</td>\n",
              "      <td>60.000000</td>\n",
              "      <td>2.137313e-11</td>\n",
              "      <td>0.000000</td>\n",
              "      <td>0.00000</td>\n",
              "      <td>1.0</td>\n",
              "    </tr>\n",
              "    <tr>\n",
              "      <th>7640</th>\n",
              "      <td>444887</td>\n",
              "      <td>1.404752</td>\n",
              "      <td>100.141811</td>\n",
              "      <td>3.185885e+02</td>\n",
              "      <td>2.117197</td>\n",
              "      <td>92.943388</td>\n",
              "      <td>4.527943e+02</td>\n",
              "      <td>6.415706</td>\n",
              "      <td>90.988782</td>\n",
              "      <td>483.098855</td>\n",
              "      <td>...</td>\n",
              "      <td>0.000000</td>\n",
              "      <td>0.000000</td>\n",
              "      <td>63.555112</td>\n",
              "      <td>110.000000</td>\n",
              "      <td>2.697398e-06</td>\n",
              "      <td>110.000000</td>\n",
              "      <td>7.275958e-12</td>\n",
              "      <td>0.000000</td>\n",
              "      <td>0.00000</td>\n",
              "      <td>1.0</td>\n",
              "    </tr>\n",
              "  </tbody>\n",
              "</table>\n",
              "<p>7641 rows × 117 columns</p>\n",
              "</div>\n",
              "      <button class=\"colab-df-convert\" onclick=\"convertToInteractive('df-11278633-8cf5-4c83-90da-b61f038fa10e')\"\n",
              "              title=\"Convert this dataframe to an interactive table.\"\n",
              "              style=\"display:none;\">\n",
              "        \n",
              "  <svg xmlns=\"http://www.w3.org/2000/svg\" height=\"24px\"viewBox=\"0 0 24 24\"\n",
              "       width=\"24px\">\n",
              "    <path d=\"M0 0h24v24H0V0z\" fill=\"none\"/>\n",
              "    <path d=\"M18.56 5.44l.94 2.06.94-2.06 2.06-.94-2.06-.94-.94-2.06-.94 2.06-2.06.94zm-11 1L8.5 8.5l.94-2.06 2.06-.94-2.06-.94L8.5 2.5l-.94 2.06-2.06.94zm10 10l.94 2.06.94-2.06 2.06-.94-2.06-.94-.94-2.06-.94 2.06-2.06.94z\"/><path d=\"M17.41 7.96l-1.37-1.37c-.4-.4-.92-.59-1.43-.59-.52 0-1.04.2-1.43.59L10.3 9.45l-7.72 7.72c-.78.78-.78 2.05 0 2.83L4 21.41c.39.39.9.59 1.41.59.51 0 1.02-.2 1.41-.59l7.78-7.78 2.81-2.81c.8-.78.8-2.07 0-2.86zM5.41 20L4 18.59l7.72-7.72 1.47 1.35L5.41 20z\"/>\n",
              "  </svg>\n",
              "      </button>\n",
              "      \n",
              "  <style>\n",
              "    .colab-df-container {\n",
              "      display:flex;\n",
              "      flex-wrap:wrap;\n",
              "      gap: 12px;\n",
              "    }\n",
              "\n",
              "    .colab-df-convert {\n",
              "      background-color: #E8F0FE;\n",
              "      border: none;\n",
              "      border-radius: 50%;\n",
              "      cursor: pointer;\n",
              "      display: none;\n",
              "      fill: #1967D2;\n",
              "      height: 32px;\n",
              "      padding: 0 0 0 0;\n",
              "      width: 32px;\n",
              "    }\n",
              "\n",
              "    .colab-df-convert:hover {\n",
              "      background-color: #E2EBFA;\n",
              "      box-shadow: 0px 1px 2px rgba(60, 64, 67, 0.3), 0px 1px 3px 1px rgba(60, 64, 67, 0.15);\n",
              "      fill: #174EA6;\n",
              "    }\n",
              "\n",
              "    [theme=dark] .colab-df-convert {\n",
              "      background-color: #3B4455;\n",
              "      fill: #D2E3FC;\n",
              "    }\n",
              "\n",
              "    [theme=dark] .colab-df-convert:hover {\n",
              "      background-color: #434B5C;\n",
              "      box-shadow: 0px 1px 3px 1px rgba(0, 0, 0, 0.15);\n",
              "      filter: drop-shadow(0px 1px 2px rgba(0, 0, 0, 0.3));\n",
              "      fill: #FFFFFF;\n",
              "    }\n",
              "  </style>\n",
              "\n",
              "      <script>\n",
              "        const buttonEl =\n",
              "          document.querySelector('#df-11278633-8cf5-4c83-90da-b61f038fa10e button.colab-df-convert');\n",
              "        buttonEl.style.display =\n",
              "          google.colab.kernel.accessAllowed ? 'block' : 'none';\n",
              "\n",
              "        async function convertToInteractive(key) {\n",
              "          const element = document.querySelector('#df-11278633-8cf5-4c83-90da-b61f038fa10e');\n",
              "          const dataTable =\n",
              "            await google.colab.kernel.invokeFunction('convertToInteractive',\n",
              "                                                     [key], {});\n",
              "          if (!dataTable) return;\n",
              "\n",
              "          const docLinkHtml = 'Like what you see? Visit the ' +\n",
              "            '<a target=\"_blank\" href=https://colab.research.google.com/notebooks/data_table.ipynb>data table notebook</a>'\n",
              "            + ' to learn more about interactive tables.';\n",
              "          element.innerHTML = '';\n",
              "          dataTable['output_type'] = 'display_data';\n",
              "          await google.colab.output.renderOutput(dataTable, element);\n",
              "          const docLink = document.createElement('div');\n",
              "          docLink.innerHTML = docLinkHtml;\n",
              "          element.appendChild(docLink);\n",
              "        }\n",
              "      </script>\n",
              "    </div>\n",
              "  </div>\n",
              "  "
            ]
          },
          "metadata": {},
          "execution_count": 6
        }
      ],
      "source": [
        "bin_data_total = data = pd.read_csv(\"/content/drive/MyDrive/Colab_Notebooks/Datasets/kitsume_network_attack_dataset/kitsune_binary_data_1MMirai_dataset.csv\")\n",
        "bin_data_total.drop(bin_data_total.columns[0],axis=1,inplace=True)\n",
        "bin_data_total"
      ]
    },
    {
      "cell_type": "code",
      "execution_count": 7,
      "metadata": {
        "id": "xHCs0B3sKOa_",
        "colab": {
          "base_uri": "https://localhost:8080/"
        },
        "outputId": "cff9e3e8-77cb-405e-be87-873b67c4e260"
      },
      "outputs": [
        {
          "output_type": "execute_result",
          "data": {
            "text/plain": [
              "1.0    0.840859\n",
              "0.0    0.159141\n",
              "Name: label, dtype: float64"
            ]
          },
          "metadata": {},
          "execution_count": 7
        }
      ],
      "source": [
        "# distribution of label class before sampling\n",
        "data_size = bin_data_total.shape[0]\n",
        "# data_size\n",
        "bin_data_total.label.value_counts()/data_size"
      ]
    },
    {
      "cell_type": "code",
      "source": [
        "model_name_suffix = \"_kitsune_Mirai\""
      ],
      "metadata": {
        "collapsed": true,
        "id": "xoRpI3HV9G2v"
      },
      "execution_count": 8,
      "outputs": []
    },
    {
      "cell_type": "code",
      "source": [
        "# numeric feature normalization\n",
        "from sklearn.preprocessing import MinMaxScaler\n",
        "from sklearn.preprocessing import StandardScaler\n",
        "\n",
        "numeric_cols = bin_data_total.select_dtypes(['number']).columns\n",
        "numeric_cols = numeric_cols.drop('label')\n",
        "flag = 0\n",
        "scaler = None\n",
        "if flag:\n",
        "  # using standard scaler for normalizing\n",
        "  scaler = StandardScaler()\n",
        "else:\n",
        "  # using minmax scaler for normalizing\n",
        "  # to avoid negative values after scaling\n",
        "  scaler = MinMaxScaler()\n",
        "\n",
        "def normalization_train(df,col):\n",
        "  for i in col:\n",
        "    arr = df[i]\n",
        "    arr = np.array(arr)\n",
        "    df[i] = scaler.fit_transform(arr.reshape(len(arr),1))\n",
        "  return df\n",
        "\n",
        "def normalization_test(df,col):\n",
        "  for i in col:\n",
        "    arr = df[i]\n",
        "    arr = np.array(arr)\n",
        "    df[i] = scaler.transform(arr.reshape(len(arr),1))\n",
        "  return df\n",
        "\n",
        "# numeric_cols"
      ],
      "metadata": {
        "id": "QAUrPvEIYHoH"
      },
      "execution_count": 9,
      "outputs": []
    },
    {
      "cell_type": "code",
      "execution_count": 10,
      "metadata": {
        "id": "XSTP2AcKJgTF",
        "colab": {
          "base_uri": "https://localhost:8080/",
          "height": 488
        },
        "outputId": "e3aa0b97-bb51-49be-d8fb-648b115ddcfe"
      },
      "outputs": [
        {
          "output_type": "execute_result",
          "data": {
            "text/plain": [
              "          X1         X2          X3            X4          X5          X6  \\\n",
              "0       5447  10.031062   82.841651  1.275803e+01   12.691520   82.859056   \n",
              "1      56820   4.661257   82.000000  9.094947e-13    7.275539   82.000000   \n",
              "2      10176   1.849088  105.505520  3.640463e+01    3.109124  106.505513   \n",
              "3     111324   7.648122   84.132883  2.957694e+01   10.285616   83.736463   \n",
              "4     102456   3.632766  103.989741  1.202931e+02    6.585167  102.430772   \n",
              "...      ...        ...         ...           ...         ...         ...   \n",
              "7636  143841  16.864181   66.126353  1.847410e-01   19.700610   66.165507   \n",
              "7637  137541  66.255786   60.088722  1.680977e+00  101.260881   60.127773   \n",
              "7638  198077  76.529166   60.028519  4.360455e-01  104.833231   60.076387   \n",
              "7639  433227  59.750208   60.239516  3.575476e+00   93.397194   60.269118   \n",
              "7640  444887   1.404752  100.141811  3.185885e+02    2.117197   92.943388   \n",
              "\n",
              "                X7          X8          X9          X10  ...       X108  \\\n",
              "0     1.300692e+01   25.108850   82.559322     8.670483  ...   0.000000   \n",
              "1     4.219601e-08   20.756844   81.999139     0.007004  ...   0.000000   \n",
              "2     2.079829e+02   10.152990  108.181226  1531.322588  ...   0.000000   \n",
              "3     2.476811e+01   20.756171   83.148884    17.144541  ...   0.000000   \n",
              "4     1.532841e+02   16.029761  100.823338   175.324239  ...   0.000000   \n",
              "...            ...         ...         ...          ...  ...        ...   \n",
              "7636  2.148385e-01   25.242448   66.223456     0.282260  ... -31.062068   \n",
              "7637  2.366964e+00  306.425293   60.133044     2.289978  ...   0.000000   \n",
              "7638  1.204671e+00  295.737980   60.148350     2.460989  ...   0.000000   \n",
              "7639  4.189966e+00  305.197263   60.229675     3.491959  ...   0.000000   \n",
              "7640  4.527943e+02    6.415706   90.988782   483.098855  ...   0.000000   \n",
              "\n",
              "          X109          X110        X111          X112        X113  \\\n",
              "0     0.000000     48.836078   82.000000  9.536743e-07   82.000000   \n",
              "1     0.000000     63.410145   82.000000  1.907349e-06   82.000000   \n",
              "2     0.000000      1.000000  102.000000  0.000000e+00  102.000000   \n",
              "3     0.000000     59.709757   82.000000  1.348699e-06   82.000000   \n",
              "4     0.000000     91.527828  110.000000  2.336015e-06  110.000000   \n",
              "...        ...           ...         ...           ...         ...   \n",
              "7636 -0.613542    114.441000   66.759651  2.566622e+00  120.927533   \n",
              "7637  0.000000   9789.582589   60.000000  3.234067e-06   60.000000   \n",
              "7638  0.000000  23958.225618   60.000000  7.104714e-06   60.000000   \n",
              "7639  0.000000  30737.956581   60.000000  4.623108e-06   60.000000   \n",
              "7640  0.000000     63.555112  110.000000  2.697398e-06  110.000000   \n",
              "\n",
              "              X114      X115     X116  label  \n",
              "0     9.094947e-13  0.000000  0.00000    0.0  \n",
              "1     3.637979e-12  0.000000  0.00000    0.0  \n",
              "2     0.000000e+00  0.000000  0.00000    0.0  \n",
              "3     1.818989e-12  0.000000  0.00000    0.0  \n",
              "4     5.456968e-12  0.000000  0.00000    0.0  \n",
              "...            ...       ...      ...    ...  \n",
              "7636  2.696229e+03 -2.538811 -0.01905    1.0  \n",
              "7637  1.045919e-11  0.000000  0.00000    1.0  \n",
              "7638  5.047696e-11  0.000000  0.00000    1.0  \n",
              "7639  2.137313e-11  0.000000  0.00000    1.0  \n",
              "7640  7.275958e-12  0.000000  0.00000    1.0  \n",
              "\n",
              "[7641 rows x 117 columns]"
            ],
            "text/html": [
              "\n",
              "  <div id=\"df-cae952ce-5cd1-495d-bfda-ccbb357ecdde\">\n",
              "    <div class=\"colab-df-container\">\n",
              "      <div>\n",
              "<style scoped>\n",
              "    .dataframe tbody tr th:only-of-type {\n",
              "        vertical-align: middle;\n",
              "    }\n",
              "\n",
              "    .dataframe tbody tr th {\n",
              "        vertical-align: top;\n",
              "    }\n",
              "\n",
              "    .dataframe thead th {\n",
              "        text-align: right;\n",
              "    }\n",
              "</style>\n",
              "<table border=\"1\" class=\"dataframe\">\n",
              "  <thead>\n",
              "    <tr style=\"text-align: right;\">\n",
              "      <th></th>\n",
              "      <th>X1</th>\n",
              "      <th>X2</th>\n",
              "      <th>X3</th>\n",
              "      <th>X4</th>\n",
              "      <th>X5</th>\n",
              "      <th>X6</th>\n",
              "      <th>X7</th>\n",
              "      <th>X8</th>\n",
              "      <th>X9</th>\n",
              "      <th>X10</th>\n",
              "      <th>...</th>\n",
              "      <th>X108</th>\n",
              "      <th>X109</th>\n",
              "      <th>X110</th>\n",
              "      <th>X111</th>\n",
              "      <th>X112</th>\n",
              "      <th>X113</th>\n",
              "      <th>X114</th>\n",
              "      <th>X115</th>\n",
              "      <th>X116</th>\n",
              "      <th>label</th>\n",
              "    </tr>\n",
              "  </thead>\n",
              "  <tbody>\n",
              "    <tr>\n",
              "      <th>0</th>\n",
              "      <td>5447</td>\n",
              "      <td>10.031062</td>\n",
              "      <td>82.841651</td>\n",
              "      <td>1.275803e+01</td>\n",
              "      <td>12.691520</td>\n",
              "      <td>82.859056</td>\n",
              "      <td>1.300692e+01</td>\n",
              "      <td>25.108850</td>\n",
              "      <td>82.559322</td>\n",
              "      <td>8.670483</td>\n",
              "      <td>...</td>\n",
              "      <td>0.000000</td>\n",
              "      <td>0.000000</td>\n",
              "      <td>48.836078</td>\n",
              "      <td>82.000000</td>\n",
              "      <td>9.536743e-07</td>\n",
              "      <td>82.000000</td>\n",
              "      <td>9.094947e-13</td>\n",
              "      <td>0.000000</td>\n",
              "      <td>0.00000</td>\n",
              "      <td>0.0</td>\n",
              "    </tr>\n",
              "    <tr>\n",
              "      <th>1</th>\n",
              "      <td>56820</td>\n",
              "      <td>4.661257</td>\n",
              "      <td>82.000000</td>\n",
              "      <td>9.094947e-13</td>\n",
              "      <td>7.275539</td>\n",
              "      <td>82.000000</td>\n",
              "      <td>4.219601e-08</td>\n",
              "      <td>20.756844</td>\n",
              "      <td>81.999139</td>\n",
              "      <td>0.007004</td>\n",
              "      <td>...</td>\n",
              "      <td>0.000000</td>\n",
              "      <td>0.000000</td>\n",
              "      <td>63.410145</td>\n",
              "      <td>82.000000</td>\n",
              "      <td>1.907349e-06</td>\n",
              "      <td>82.000000</td>\n",
              "      <td>3.637979e-12</td>\n",
              "      <td>0.000000</td>\n",
              "      <td>0.00000</td>\n",
              "      <td>0.0</td>\n",
              "    </tr>\n",
              "    <tr>\n",
              "      <th>2</th>\n",
              "      <td>10176</td>\n",
              "      <td>1.849088</td>\n",
              "      <td>105.505520</td>\n",
              "      <td>3.640463e+01</td>\n",
              "      <td>3.109124</td>\n",
              "      <td>106.505513</td>\n",
              "      <td>2.079829e+02</td>\n",
              "      <td>10.152990</td>\n",
              "      <td>108.181226</td>\n",
              "      <td>1531.322588</td>\n",
              "      <td>...</td>\n",
              "      <td>0.000000</td>\n",
              "      <td>0.000000</td>\n",
              "      <td>1.000000</td>\n",
              "      <td>102.000000</td>\n",
              "      <td>0.000000e+00</td>\n",
              "      <td>102.000000</td>\n",
              "      <td>0.000000e+00</td>\n",
              "      <td>0.000000</td>\n",
              "      <td>0.00000</td>\n",
              "      <td>0.0</td>\n",
              "    </tr>\n",
              "    <tr>\n",
              "      <th>3</th>\n",
              "      <td>111324</td>\n",
              "      <td>7.648122</td>\n",
              "      <td>84.132883</td>\n",
              "      <td>2.957694e+01</td>\n",
              "      <td>10.285616</td>\n",
              "      <td>83.736463</td>\n",
              "      <td>2.476811e+01</td>\n",
              "      <td>20.756171</td>\n",
              "      <td>83.148884</td>\n",
              "      <td>17.144541</td>\n",
              "      <td>...</td>\n",
              "      <td>0.000000</td>\n",
              "      <td>0.000000</td>\n",
              "      <td>59.709757</td>\n",
              "      <td>82.000000</td>\n",
              "      <td>1.348699e-06</td>\n",
              "      <td>82.000000</td>\n",
              "      <td>1.818989e-12</td>\n",
              "      <td>0.000000</td>\n",
              "      <td>0.00000</td>\n",
              "      <td>0.0</td>\n",
              "    </tr>\n",
              "    <tr>\n",
              "      <th>4</th>\n",
              "      <td>102456</td>\n",
              "      <td>3.632766</td>\n",
              "      <td>103.989741</td>\n",
              "      <td>1.202931e+02</td>\n",
              "      <td>6.585167</td>\n",
              "      <td>102.430772</td>\n",
              "      <td>1.532841e+02</td>\n",
              "      <td>16.029761</td>\n",
              "      <td>100.823338</td>\n",
              "      <td>175.324239</td>\n",
              "      <td>...</td>\n",
              "      <td>0.000000</td>\n",
              "      <td>0.000000</td>\n",
              "      <td>91.527828</td>\n",
              "      <td>110.000000</td>\n",
              "      <td>2.336015e-06</td>\n",
              "      <td>110.000000</td>\n",
              "      <td>5.456968e-12</td>\n",
              "      <td>0.000000</td>\n",
              "      <td>0.00000</td>\n",
              "      <td>0.0</td>\n",
              "    </tr>\n",
              "    <tr>\n",
              "      <th>...</th>\n",
              "      <td>...</td>\n",
              "      <td>...</td>\n",
              "      <td>...</td>\n",
              "      <td>...</td>\n",
              "      <td>...</td>\n",
              "      <td>...</td>\n",
              "      <td>...</td>\n",
              "      <td>...</td>\n",
              "      <td>...</td>\n",
              "      <td>...</td>\n",
              "      <td>...</td>\n",
              "      <td>...</td>\n",
              "      <td>...</td>\n",
              "      <td>...</td>\n",
              "      <td>...</td>\n",
              "      <td>...</td>\n",
              "      <td>...</td>\n",
              "      <td>...</td>\n",
              "      <td>...</td>\n",
              "      <td>...</td>\n",
              "      <td>...</td>\n",
              "    </tr>\n",
              "    <tr>\n",
              "      <th>7636</th>\n",
              "      <td>143841</td>\n",
              "      <td>16.864181</td>\n",
              "      <td>66.126353</td>\n",
              "      <td>1.847410e-01</td>\n",
              "      <td>19.700610</td>\n",
              "      <td>66.165507</td>\n",
              "      <td>2.148385e-01</td>\n",
              "      <td>25.242448</td>\n",
              "      <td>66.223456</td>\n",
              "      <td>0.282260</td>\n",
              "      <td>...</td>\n",
              "      <td>-31.062068</td>\n",
              "      <td>-0.613542</td>\n",
              "      <td>114.441000</td>\n",
              "      <td>66.759651</td>\n",
              "      <td>2.566622e+00</td>\n",
              "      <td>120.927533</td>\n",
              "      <td>2.696229e+03</td>\n",
              "      <td>-2.538811</td>\n",
              "      <td>-0.01905</td>\n",
              "      <td>1.0</td>\n",
              "    </tr>\n",
              "    <tr>\n",
              "      <th>7637</th>\n",
              "      <td>137541</td>\n",
              "      <td>66.255786</td>\n",
              "      <td>60.088722</td>\n",
              "      <td>1.680977e+00</td>\n",
              "      <td>101.260881</td>\n",
              "      <td>60.127773</td>\n",
              "      <td>2.366964e+00</td>\n",
              "      <td>306.425293</td>\n",
              "      <td>60.133044</td>\n",
              "      <td>2.289978</td>\n",
              "      <td>...</td>\n",
              "      <td>0.000000</td>\n",
              "      <td>0.000000</td>\n",
              "      <td>9789.582589</td>\n",
              "      <td>60.000000</td>\n",
              "      <td>3.234067e-06</td>\n",
              "      <td>60.000000</td>\n",
              "      <td>1.045919e-11</td>\n",
              "      <td>0.000000</td>\n",
              "      <td>0.00000</td>\n",
              "      <td>1.0</td>\n",
              "    </tr>\n",
              "    <tr>\n",
              "      <th>7638</th>\n",
              "      <td>198077</td>\n",
              "      <td>76.529166</td>\n",
              "      <td>60.028519</td>\n",
              "      <td>4.360455e-01</td>\n",
              "      <td>104.833231</td>\n",
              "      <td>60.076387</td>\n",
              "      <td>1.204671e+00</td>\n",
              "      <td>295.737980</td>\n",
              "      <td>60.148350</td>\n",
              "      <td>2.460989</td>\n",
              "      <td>...</td>\n",
              "      <td>0.000000</td>\n",
              "      <td>0.000000</td>\n",
              "      <td>23958.225618</td>\n",
              "      <td>60.000000</td>\n",
              "      <td>7.104714e-06</td>\n",
              "      <td>60.000000</td>\n",
              "      <td>5.047696e-11</td>\n",
              "      <td>0.000000</td>\n",
              "      <td>0.00000</td>\n",
              "      <td>1.0</td>\n",
              "    </tr>\n",
              "    <tr>\n",
              "      <th>7639</th>\n",
              "      <td>433227</td>\n",
              "      <td>59.750208</td>\n",
              "      <td>60.239516</td>\n",
              "      <td>3.575476e+00</td>\n",
              "      <td>93.397194</td>\n",
              "      <td>60.269118</td>\n",
              "      <td>4.189966e+00</td>\n",
              "      <td>305.197263</td>\n",
              "      <td>60.229675</td>\n",
              "      <td>3.491959</td>\n",
              "      <td>...</td>\n",
              "      <td>0.000000</td>\n",
              "      <td>0.000000</td>\n",
              "      <td>30737.956581</td>\n",
              "      <td>60.000000</td>\n",
              "      <td>4.623108e-06</td>\n",
              "      <td>60.000000</td>\n",
              "      <td>2.137313e-11</td>\n",
              "      <td>0.000000</td>\n",
              "      <td>0.00000</td>\n",
              "      <td>1.0</td>\n",
              "    </tr>\n",
              "    <tr>\n",
              "      <th>7640</th>\n",
              "      <td>444887</td>\n",
              "      <td>1.404752</td>\n",
              "      <td>100.141811</td>\n",
              "      <td>3.185885e+02</td>\n",
              "      <td>2.117197</td>\n",
              "      <td>92.943388</td>\n",
              "      <td>4.527943e+02</td>\n",
              "      <td>6.415706</td>\n",
              "      <td>90.988782</td>\n",
              "      <td>483.098855</td>\n",
              "      <td>...</td>\n",
              "      <td>0.000000</td>\n",
              "      <td>0.000000</td>\n",
              "      <td>63.555112</td>\n",
              "      <td>110.000000</td>\n",
              "      <td>2.697398e-06</td>\n",
              "      <td>110.000000</td>\n",
              "      <td>7.275958e-12</td>\n",
              "      <td>0.000000</td>\n",
              "      <td>0.00000</td>\n",
              "      <td>1.0</td>\n",
              "    </tr>\n",
              "  </tbody>\n",
              "</table>\n",
              "<p>7641 rows × 117 columns</p>\n",
              "</div>\n",
              "      <button class=\"colab-df-convert\" onclick=\"convertToInteractive('df-cae952ce-5cd1-495d-bfda-ccbb357ecdde')\"\n",
              "              title=\"Convert this dataframe to an interactive table.\"\n",
              "              style=\"display:none;\">\n",
              "        \n",
              "  <svg xmlns=\"http://www.w3.org/2000/svg\" height=\"24px\"viewBox=\"0 0 24 24\"\n",
              "       width=\"24px\">\n",
              "    <path d=\"M0 0h24v24H0V0z\" fill=\"none\"/>\n",
              "    <path d=\"M18.56 5.44l.94 2.06.94-2.06 2.06-.94-2.06-.94-.94-2.06-.94 2.06-2.06.94zm-11 1L8.5 8.5l.94-2.06 2.06-.94-2.06-.94L8.5 2.5l-.94 2.06-2.06.94zm10 10l.94 2.06.94-2.06 2.06-.94-2.06-.94-.94-2.06-.94 2.06-2.06.94z\"/><path d=\"M17.41 7.96l-1.37-1.37c-.4-.4-.92-.59-1.43-.59-.52 0-1.04.2-1.43.59L10.3 9.45l-7.72 7.72c-.78.78-.78 2.05 0 2.83L4 21.41c.39.39.9.59 1.41.59.51 0 1.02-.2 1.41-.59l7.78-7.78 2.81-2.81c.8-.78.8-2.07 0-2.86zM5.41 20L4 18.59l7.72-7.72 1.47 1.35L5.41 20z\"/>\n",
              "  </svg>\n",
              "      </button>\n",
              "      \n",
              "  <style>\n",
              "    .colab-df-container {\n",
              "      display:flex;\n",
              "      flex-wrap:wrap;\n",
              "      gap: 12px;\n",
              "    }\n",
              "\n",
              "    .colab-df-convert {\n",
              "      background-color: #E8F0FE;\n",
              "      border: none;\n",
              "      border-radius: 50%;\n",
              "      cursor: pointer;\n",
              "      display: none;\n",
              "      fill: #1967D2;\n",
              "      height: 32px;\n",
              "      padding: 0 0 0 0;\n",
              "      width: 32px;\n",
              "    }\n",
              "\n",
              "    .colab-df-convert:hover {\n",
              "      background-color: #E2EBFA;\n",
              "      box-shadow: 0px 1px 2px rgba(60, 64, 67, 0.3), 0px 1px 3px 1px rgba(60, 64, 67, 0.15);\n",
              "      fill: #174EA6;\n",
              "    }\n",
              "\n",
              "    [theme=dark] .colab-df-convert {\n",
              "      background-color: #3B4455;\n",
              "      fill: #D2E3FC;\n",
              "    }\n",
              "\n",
              "    [theme=dark] .colab-df-convert:hover {\n",
              "      background-color: #434B5C;\n",
              "      box-shadow: 0px 1px 3px 1px rgba(0, 0, 0, 0.15);\n",
              "      filter: drop-shadow(0px 1px 2px rgba(0, 0, 0, 0.3));\n",
              "      fill: #FFFFFF;\n",
              "    }\n",
              "  </style>\n",
              "\n",
              "      <script>\n",
              "        const buttonEl =\n",
              "          document.querySelector('#df-cae952ce-5cd1-495d-bfda-ccbb357ecdde button.colab-df-convert');\n",
              "        buttonEl.style.display =\n",
              "          google.colab.kernel.accessAllowed ? 'block' : 'none';\n",
              "\n",
              "        async function convertToInteractive(key) {\n",
              "          const element = document.querySelector('#df-cae952ce-5cd1-495d-bfda-ccbb357ecdde');\n",
              "          const dataTable =\n",
              "            await google.colab.kernel.invokeFunction('convertToInteractive',\n",
              "                                                     [key], {});\n",
              "          if (!dataTable) return;\n",
              "\n",
              "          const docLinkHtml = 'Like what you see? Visit the ' +\n",
              "            '<a target=\"_blank\" href=https://colab.research.google.com/notebooks/data_table.ipynb>data table notebook</a>'\n",
              "            + ' to learn more about interactive tables.';\n",
              "          element.innerHTML = '';\n",
              "          dataTable['output_type'] = 'display_data';\n",
              "          await google.colab.output.renderOutput(dataTable, element);\n",
              "          const docLink = document.createElement('div');\n",
              "          docLink.innerHTML = docLinkHtml;\n",
              "          element.appendChild(docLink);\n",
              "        }\n",
              "      </script>\n",
              "    </div>\n",
              "  </div>\n",
              "  "
            ]
          },
          "metadata": {},
          "execution_count": 10
        }
      ],
      "source": [
        "# sampling data taking only 50% of the data\n",
        "# bin_data = bin_data_total.groupby('label', group_keys=False).apply(lambda x: x.sample(frac=0.5))\n",
        "bin_data = bin_data_total\n",
        "bin_data"
      ]
    },
    {
      "cell_type": "code",
      "source": [
        "number_of_cols = bin_data.shape[1]"
      ],
      "metadata": {
        "id": "N125Cc3Ukt8h"
      },
      "execution_count": 11,
      "outputs": []
    },
    {
      "cell_type": "code",
      "execution_count": 12,
      "metadata": {
        "id": "nKX2TRG0J85J",
        "colab": {
          "base_uri": "https://localhost:8080/"
        },
        "outputId": "0f493b0b-28f3-45b9-c307-d879d2f8befb"
      },
      "outputs": [
        {
          "output_type": "execute_result",
          "data": {
            "text/plain": [
              "1.0    0.840859\n",
              "0.0    0.159141\n",
              "Name: label, dtype: float64"
            ]
          },
          "metadata": {},
          "execution_count": 12
        }
      ],
      "source": [
        "# distribution of label class after sampling\n",
        "data_size = bin_data.shape[0]\n",
        "bin_data.label.value_counts()/data_size"
      ]
    },
    {
      "cell_type": "code",
      "execution_count": 13,
      "metadata": {
        "id": "L11T2MepDzax"
      },
      "outputs": [],
      "source": [
        "model_selection = {\n",
        "    0 : \"ALL\",\n",
        "    2 : \"MLP\",\n",
        "    3 : \"LSTM\",\n",
        "    4 : \"AE\"\n",
        "}\n",
        "model_flag = 0\n",
        "svm_enable = 1"
      ]
    },
    {
      "cell_type": "code",
      "execution_count": 14,
      "metadata": {
        "id": "OdRAXVlsxUVW"
      },
      "outputs": [],
      "source": [
        "X = bin_data.iloc[:,0:number_of_cols] # dataset excluding target attribute (encoded, one-hot-encoded,original)\n",
        "Y = bin_data['label'] # target attribute"
      ]
    },
    {
      "cell_type": "code",
      "execution_count": 15,
      "metadata": {
        "id": "lFdHHvRtxU5B"
      },
      "outputs": [],
      "source": [
        "# splitting the dataset 75% for training and 25% testing\n",
        "X_train, X_test, y_train, y_test = train_test_split(X,Y, test_size=0.25, random_state=42) "
      ]
    },
    {
      "cell_type": "code",
      "source": [
        "# calling the normalization() function\n",
        "X_train = normalization_train(X_train,numeric_cols)\n",
        "X_train.head()"
      ],
      "metadata": {
        "id": "SLLlMtsaYJdK",
        "colab": {
          "base_uri": "https://localhost:8080/",
          "height": 386
        },
        "outputId": "2beb91a7-fdef-44cb-d9fe-4da1760f4ed9"
      },
      "execution_count": 16,
      "outputs": [
        {
          "output_type": "execute_result",
          "data": {
            "text/plain": [
              "            X1        X2        X3        X4        X5        X6        X7  \\\n",
              "2764  0.385926  0.776557  0.024676  0.000013  0.771894  0.029832  0.000030   \n",
              "1323  0.417876  0.812091  0.024654  0.000008  0.842496  0.029834  0.000026   \n",
              "5663  0.348577  0.737139  0.024678  0.000009  0.741384  0.029827  0.000020   \n",
              "1859  0.613453  0.406594  0.025610  0.000154  0.474723  0.030741  0.000165   \n",
              "5400  0.504674  0.012139  0.131969  0.003656  0.013580  0.146635  0.005289   \n",
              "\n",
              "            X8        X9       X10  ...      X108      X109      X110  \\\n",
              "2764  0.828615  0.034555  0.000050  ...  0.623237  0.699719  0.983804   \n",
              "1323  0.903586  0.034708  0.000063  ...  0.623237  0.699719  0.992037   \n",
              "5663  0.799046  0.034519  0.000032  ...  0.623237  0.699719  0.965116   \n",
              "1859  0.701109  0.035035  0.000113  ...  0.623237  0.699719  0.994456   \n",
              "5400  0.020653  0.169513  0.009923  ...  0.623237  0.699719  0.000000   \n",
              "\n",
              "          X111          X112          X113          X114      X115      X116  \\\n",
              "2764  0.014913  2.179433e-07  1.776357e-15  1.872132e-14  0.302063  0.501826   \n",
              "1323  0.014913  2.376671e-07  1.665335e-15  2.226319e-14  0.302063  0.501826   \n",
              "5663  0.014913  1.615649e-07  2.359224e-15  1.028829e-14  0.302063  0.501826   \n",
              "1859  0.014913  2.358597e-07  1.054712e-15  2.192587e-14  0.302063  0.501826   \n",
              "5400  0.144159  0.000000e+00  2.482554e-01  0.000000e+00  0.302063  0.501826   \n",
              "\n",
              "      label  \n",
              "2764    1.0  \n",
              "1323    1.0  \n",
              "5663    1.0  \n",
              "1859    1.0  \n",
              "5400    1.0  \n",
              "\n",
              "[5 rows x 117 columns]"
            ],
            "text/html": [
              "\n",
              "  <div id=\"df-4e994c15-90b8-4f24-880e-23809db39ef8\">\n",
              "    <div class=\"colab-df-container\">\n",
              "      <div>\n",
              "<style scoped>\n",
              "    .dataframe tbody tr th:only-of-type {\n",
              "        vertical-align: middle;\n",
              "    }\n",
              "\n",
              "    .dataframe tbody tr th {\n",
              "        vertical-align: top;\n",
              "    }\n",
              "\n",
              "    .dataframe thead th {\n",
              "        text-align: right;\n",
              "    }\n",
              "</style>\n",
              "<table border=\"1\" class=\"dataframe\">\n",
              "  <thead>\n",
              "    <tr style=\"text-align: right;\">\n",
              "      <th></th>\n",
              "      <th>X1</th>\n",
              "      <th>X2</th>\n",
              "      <th>X3</th>\n",
              "      <th>X4</th>\n",
              "      <th>X5</th>\n",
              "      <th>X6</th>\n",
              "      <th>X7</th>\n",
              "      <th>X8</th>\n",
              "      <th>X9</th>\n",
              "      <th>X10</th>\n",
              "      <th>...</th>\n",
              "      <th>X108</th>\n",
              "      <th>X109</th>\n",
              "      <th>X110</th>\n",
              "      <th>X111</th>\n",
              "      <th>X112</th>\n",
              "      <th>X113</th>\n",
              "      <th>X114</th>\n",
              "      <th>X115</th>\n",
              "      <th>X116</th>\n",
              "      <th>label</th>\n",
              "    </tr>\n",
              "  </thead>\n",
              "  <tbody>\n",
              "    <tr>\n",
              "      <th>2764</th>\n",
              "      <td>0.385926</td>\n",
              "      <td>0.776557</td>\n",
              "      <td>0.024676</td>\n",
              "      <td>0.000013</td>\n",
              "      <td>0.771894</td>\n",
              "      <td>0.029832</td>\n",
              "      <td>0.000030</td>\n",
              "      <td>0.828615</td>\n",
              "      <td>0.034555</td>\n",
              "      <td>0.000050</td>\n",
              "      <td>...</td>\n",
              "      <td>0.623237</td>\n",
              "      <td>0.699719</td>\n",
              "      <td>0.983804</td>\n",
              "      <td>0.014913</td>\n",
              "      <td>2.179433e-07</td>\n",
              "      <td>1.776357e-15</td>\n",
              "      <td>1.872132e-14</td>\n",
              "      <td>0.302063</td>\n",
              "      <td>0.501826</td>\n",
              "      <td>1.0</td>\n",
              "    </tr>\n",
              "    <tr>\n",
              "      <th>1323</th>\n",
              "      <td>0.417876</td>\n",
              "      <td>0.812091</td>\n",
              "      <td>0.024654</td>\n",
              "      <td>0.000008</td>\n",
              "      <td>0.842496</td>\n",
              "      <td>0.029834</td>\n",
              "      <td>0.000026</td>\n",
              "      <td>0.903586</td>\n",
              "      <td>0.034708</td>\n",
              "      <td>0.000063</td>\n",
              "      <td>...</td>\n",
              "      <td>0.623237</td>\n",
              "      <td>0.699719</td>\n",
              "      <td>0.992037</td>\n",
              "      <td>0.014913</td>\n",
              "      <td>2.376671e-07</td>\n",
              "      <td>1.665335e-15</td>\n",
              "      <td>2.226319e-14</td>\n",
              "      <td>0.302063</td>\n",
              "      <td>0.501826</td>\n",
              "      <td>1.0</td>\n",
              "    </tr>\n",
              "    <tr>\n",
              "      <th>5663</th>\n",
              "      <td>0.348577</td>\n",
              "      <td>0.737139</td>\n",
              "      <td>0.024678</td>\n",
              "      <td>0.000009</td>\n",
              "      <td>0.741384</td>\n",
              "      <td>0.029827</td>\n",
              "      <td>0.000020</td>\n",
              "      <td>0.799046</td>\n",
              "      <td>0.034519</td>\n",
              "      <td>0.000032</td>\n",
              "      <td>...</td>\n",
              "      <td>0.623237</td>\n",
              "      <td>0.699719</td>\n",
              "      <td>0.965116</td>\n",
              "      <td>0.014913</td>\n",
              "      <td>1.615649e-07</td>\n",
              "      <td>2.359224e-15</td>\n",
              "      <td>1.028829e-14</td>\n",
              "      <td>0.302063</td>\n",
              "      <td>0.501826</td>\n",
              "      <td>1.0</td>\n",
              "    </tr>\n",
              "    <tr>\n",
              "      <th>1859</th>\n",
              "      <td>0.613453</td>\n",
              "      <td>0.406594</td>\n",
              "      <td>0.025610</td>\n",
              "      <td>0.000154</td>\n",
              "      <td>0.474723</td>\n",
              "      <td>0.030741</td>\n",
              "      <td>0.000165</td>\n",
              "      <td>0.701109</td>\n",
              "      <td>0.035035</td>\n",
              "      <td>0.000113</td>\n",
              "      <td>...</td>\n",
              "      <td>0.623237</td>\n",
              "      <td>0.699719</td>\n",
              "      <td>0.994456</td>\n",
              "      <td>0.014913</td>\n",
              "      <td>2.358597e-07</td>\n",
              "      <td>1.054712e-15</td>\n",
              "      <td>2.192587e-14</td>\n",
              "      <td>0.302063</td>\n",
              "      <td>0.501826</td>\n",
              "      <td>1.0</td>\n",
              "    </tr>\n",
              "    <tr>\n",
              "      <th>5400</th>\n",
              "      <td>0.504674</td>\n",
              "      <td>0.012139</td>\n",
              "      <td>0.131969</td>\n",
              "      <td>0.003656</td>\n",
              "      <td>0.013580</td>\n",
              "      <td>0.146635</td>\n",
              "      <td>0.005289</td>\n",
              "      <td>0.020653</td>\n",
              "      <td>0.169513</td>\n",
              "      <td>0.009923</td>\n",
              "      <td>...</td>\n",
              "      <td>0.623237</td>\n",
              "      <td>0.699719</td>\n",
              "      <td>0.000000</td>\n",
              "      <td>0.144159</td>\n",
              "      <td>0.000000e+00</td>\n",
              "      <td>2.482554e-01</td>\n",
              "      <td>0.000000e+00</td>\n",
              "      <td>0.302063</td>\n",
              "      <td>0.501826</td>\n",
              "      <td>1.0</td>\n",
              "    </tr>\n",
              "  </tbody>\n",
              "</table>\n",
              "<p>5 rows × 117 columns</p>\n",
              "</div>\n",
              "      <button class=\"colab-df-convert\" onclick=\"convertToInteractive('df-4e994c15-90b8-4f24-880e-23809db39ef8')\"\n",
              "              title=\"Convert this dataframe to an interactive table.\"\n",
              "              style=\"display:none;\">\n",
              "        \n",
              "  <svg xmlns=\"http://www.w3.org/2000/svg\" height=\"24px\"viewBox=\"0 0 24 24\"\n",
              "       width=\"24px\">\n",
              "    <path d=\"M0 0h24v24H0V0z\" fill=\"none\"/>\n",
              "    <path d=\"M18.56 5.44l.94 2.06.94-2.06 2.06-.94-2.06-.94-.94-2.06-.94 2.06-2.06.94zm-11 1L8.5 8.5l.94-2.06 2.06-.94-2.06-.94L8.5 2.5l-.94 2.06-2.06.94zm10 10l.94 2.06.94-2.06 2.06-.94-2.06-.94-.94-2.06-.94 2.06-2.06.94z\"/><path d=\"M17.41 7.96l-1.37-1.37c-.4-.4-.92-.59-1.43-.59-.52 0-1.04.2-1.43.59L10.3 9.45l-7.72 7.72c-.78.78-.78 2.05 0 2.83L4 21.41c.39.39.9.59 1.41.59.51 0 1.02-.2 1.41-.59l7.78-7.78 2.81-2.81c.8-.78.8-2.07 0-2.86zM5.41 20L4 18.59l7.72-7.72 1.47 1.35L5.41 20z\"/>\n",
              "  </svg>\n",
              "      </button>\n",
              "      \n",
              "  <style>\n",
              "    .colab-df-container {\n",
              "      display:flex;\n",
              "      flex-wrap:wrap;\n",
              "      gap: 12px;\n",
              "    }\n",
              "\n",
              "    .colab-df-convert {\n",
              "      background-color: #E8F0FE;\n",
              "      border: none;\n",
              "      border-radius: 50%;\n",
              "      cursor: pointer;\n",
              "      display: none;\n",
              "      fill: #1967D2;\n",
              "      height: 32px;\n",
              "      padding: 0 0 0 0;\n",
              "      width: 32px;\n",
              "    }\n",
              "\n",
              "    .colab-df-convert:hover {\n",
              "      background-color: #E2EBFA;\n",
              "      box-shadow: 0px 1px 2px rgba(60, 64, 67, 0.3), 0px 1px 3px 1px rgba(60, 64, 67, 0.15);\n",
              "      fill: #174EA6;\n",
              "    }\n",
              "\n",
              "    [theme=dark] .colab-df-convert {\n",
              "      background-color: #3B4455;\n",
              "      fill: #D2E3FC;\n",
              "    }\n",
              "\n",
              "    [theme=dark] .colab-df-convert:hover {\n",
              "      background-color: #434B5C;\n",
              "      box-shadow: 0px 1px 3px 1px rgba(0, 0, 0, 0.15);\n",
              "      filter: drop-shadow(0px 1px 2px rgba(0, 0, 0, 0.3));\n",
              "      fill: #FFFFFF;\n",
              "    }\n",
              "  </style>\n",
              "\n",
              "      <script>\n",
              "        const buttonEl =\n",
              "          document.querySelector('#df-4e994c15-90b8-4f24-880e-23809db39ef8 button.colab-df-convert');\n",
              "        buttonEl.style.display =\n",
              "          google.colab.kernel.accessAllowed ? 'block' : 'none';\n",
              "\n",
              "        async function convertToInteractive(key) {\n",
              "          const element = document.querySelector('#df-4e994c15-90b8-4f24-880e-23809db39ef8');\n",
              "          const dataTable =\n",
              "            await google.colab.kernel.invokeFunction('convertToInteractive',\n",
              "                                                     [key], {});\n",
              "          if (!dataTable) return;\n",
              "\n",
              "          const docLinkHtml = 'Like what you see? Visit the ' +\n",
              "            '<a target=\"_blank\" href=https://colab.research.google.com/notebooks/data_table.ipynb>data table notebook</a>'\n",
              "            + ' to learn more about interactive tables.';\n",
              "          element.innerHTML = '';\n",
              "          dataTable['output_type'] = 'display_data';\n",
              "          await google.colab.output.renderOutput(dataTable, element);\n",
              "          const docLink = document.createElement('div');\n",
              "          docLink.innerHTML = docLinkHtml;\n",
              "          element.appendChild(docLink);\n",
              "        }\n",
              "      </script>\n",
              "    </div>\n",
              "  </div>\n",
              "  "
            ]
          },
          "metadata": {},
          "execution_count": 16
        }
      ]
    },
    {
      "cell_type": "code",
      "source": [
        "# calling the normalization() function\n",
        "X_test = normalization_test(X_test,numeric_cols)\n",
        "X_test.head()"
      ],
      "metadata": {
        "id": "EKmhgZCobPU3",
        "colab": {
          "base_uri": "https://localhost:8080/",
          "height": 300
        },
        "outputId": "4b409ec2-e4da-4848-e191-8e99cc827309"
      },
      "execution_count": 17,
      "outputs": [
        {
          "output_type": "execute_result",
          "data": {
            "text/plain": [
              "                X1          X2          X3          X4          X5  \\\n",
              "683   2.789841e+05   11.534336  181.071288  153.987747   13.202505   \n",
              "6020  3.854674e+05  280.965066  138.779747    1.093010  387.856273   \n",
              "2457  4.007171e+05  234.378358  138.792602    1.529917  323.277827   \n",
              "2598  1.677141e+06  195.454425  138.884584    2.723993  278.779507   \n",
              "7299  1.714424e+06  118.536261  138.809278    1.498442  196.263919   \n",
              "\n",
              "              X6          X7          X8          X9         X10  ...  \\\n",
              "683   175.518903  222.497167   19.872858  166.662184  276.386859  ...   \n",
              "6020  138.815780    1.650812  884.819309  138.905195    3.150635  ...   \n",
              "2457  138.859834    2.771476  789.295198  138.954834    4.348611  ...   \n",
              "2598  138.952208    3.715689  752.073488  138.976741    4.042384  ...   \n",
              "7299  138.853517    2.128053  662.350629  138.932966    3.389159  ...   \n",
              "\n",
              "          X108      X109          X110        X111      X112        X113  \\\n",
              "683   0.501826  0.501826    362.225875  189.424560  0.501832  189.424560   \n",
              "6020  0.501826  0.501826  47406.421187  138.737973  0.501839  138.737973   \n",
              "2457  0.501826  0.501826  51268.919325  138.737973  0.501838  138.737973   \n",
              "2598  0.501826  0.501826  70846.864941  138.737973  0.501833  138.737973   \n",
              "7299  0.501826  0.501826  70743.819510  138.737973  0.501844  138.737973   \n",
              "\n",
              "          X114      X115      X116  label  \n",
              "683   0.501826  0.501826  0.501826    0.0  \n",
              "6020  0.501826  0.501826  0.501826    1.0  \n",
              "2457  0.501826  0.501826  0.501826    1.0  \n",
              "2598  0.501826  0.501826  0.501826    1.0  \n",
              "7299  0.501826  0.501826  0.501826    1.0  \n",
              "\n",
              "[5 rows x 117 columns]"
            ],
            "text/html": [
              "\n",
              "  <div id=\"df-f790bd2b-36c5-4fe8-918b-457513fad7a1\">\n",
              "    <div class=\"colab-df-container\">\n",
              "      <div>\n",
              "<style scoped>\n",
              "    .dataframe tbody tr th:only-of-type {\n",
              "        vertical-align: middle;\n",
              "    }\n",
              "\n",
              "    .dataframe tbody tr th {\n",
              "        vertical-align: top;\n",
              "    }\n",
              "\n",
              "    .dataframe thead th {\n",
              "        text-align: right;\n",
              "    }\n",
              "</style>\n",
              "<table border=\"1\" class=\"dataframe\">\n",
              "  <thead>\n",
              "    <tr style=\"text-align: right;\">\n",
              "      <th></th>\n",
              "      <th>X1</th>\n",
              "      <th>X2</th>\n",
              "      <th>X3</th>\n",
              "      <th>X4</th>\n",
              "      <th>X5</th>\n",
              "      <th>X6</th>\n",
              "      <th>X7</th>\n",
              "      <th>X8</th>\n",
              "      <th>X9</th>\n",
              "      <th>X10</th>\n",
              "      <th>...</th>\n",
              "      <th>X108</th>\n",
              "      <th>X109</th>\n",
              "      <th>X110</th>\n",
              "      <th>X111</th>\n",
              "      <th>X112</th>\n",
              "      <th>X113</th>\n",
              "      <th>X114</th>\n",
              "      <th>X115</th>\n",
              "      <th>X116</th>\n",
              "      <th>label</th>\n",
              "    </tr>\n",
              "  </thead>\n",
              "  <tbody>\n",
              "    <tr>\n",
              "      <th>683</th>\n",
              "      <td>2.789841e+05</td>\n",
              "      <td>11.534336</td>\n",
              "      <td>181.071288</td>\n",
              "      <td>153.987747</td>\n",
              "      <td>13.202505</td>\n",
              "      <td>175.518903</td>\n",
              "      <td>222.497167</td>\n",
              "      <td>19.872858</td>\n",
              "      <td>166.662184</td>\n",
              "      <td>276.386859</td>\n",
              "      <td>...</td>\n",
              "      <td>0.501826</td>\n",
              "      <td>0.501826</td>\n",
              "      <td>362.225875</td>\n",
              "      <td>189.424560</td>\n",
              "      <td>0.501832</td>\n",
              "      <td>189.424560</td>\n",
              "      <td>0.501826</td>\n",
              "      <td>0.501826</td>\n",
              "      <td>0.501826</td>\n",
              "      <td>0.0</td>\n",
              "    </tr>\n",
              "    <tr>\n",
              "      <th>6020</th>\n",
              "      <td>3.854674e+05</td>\n",
              "      <td>280.965066</td>\n",
              "      <td>138.779747</td>\n",
              "      <td>1.093010</td>\n",
              "      <td>387.856273</td>\n",
              "      <td>138.815780</td>\n",
              "      <td>1.650812</td>\n",
              "      <td>884.819309</td>\n",
              "      <td>138.905195</td>\n",
              "      <td>3.150635</td>\n",
              "      <td>...</td>\n",
              "      <td>0.501826</td>\n",
              "      <td>0.501826</td>\n",
              "      <td>47406.421187</td>\n",
              "      <td>138.737973</td>\n",
              "      <td>0.501839</td>\n",
              "      <td>138.737973</td>\n",
              "      <td>0.501826</td>\n",
              "      <td>0.501826</td>\n",
              "      <td>0.501826</td>\n",
              "      <td>1.0</td>\n",
              "    </tr>\n",
              "    <tr>\n",
              "      <th>2457</th>\n",
              "      <td>4.007171e+05</td>\n",
              "      <td>234.378358</td>\n",
              "      <td>138.792602</td>\n",
              "      <td>1.529917</td>\n",
              "      <td>323.277827</td>\n",
              "      <td>138.859834</td>\n",
              "      <td>2.771476</td>\n",
              "      <td>789.295198</td>\n",
              "      <td>138.954834</td>\n",
              "      <td>4.348611</td>\n",
              "      <td>...</td>\n",
              "      <td>0.501826</td>\n",
              "      <td>0.501826</td>\n",
              "      <td>51268.919325</td>\n",
              "      <td>138.737973</td>\n",
              "      <td>0.501838</td>\n",
              "      <td>138.737973</td>\n",
              "      <td>0.501826</td>\n",
              "      <td>0.501826</td>\n",
              "      <td>0.501826</td>\n",
              "      <td>1.0</td>\n",
              "    </tr>\n",
              "    <tr>\n",
              "      <th>2598</th>\n",
              "      <td>1.677141e+06</td>\n",
              "      <td>195.454425</td>\n",
              "      <td>138.884584</td>\n",
              "      <td>2.723993</td>\n",
              "      <td>278.779507</td>\n",
              "      <td>138.952208</td>\n",
              "      <td>3.715689</td>\n",
              "      <td>752.073488</td>\n",
              "      <td>138.976741</td>\n",
              "      <td>4.042384</td>\n",
              "      <td>...</td>\n",
              "      <td>0.501826</td>\n",
              "      <td>0.501826</td>\n",
              "      <td>70846.864941</td>\n",
              "      <td>138.737973</td>\n",
              "      <td>0.501833</td>\n",
              "      <td>138.737973</td>\n",
              "      <td>0.501826</td>\n",
              "      <td>0.501826</td>\n",
              "      <td>0.501826</td>\n",
              "      <td>1.0</td>\n",
              "    </tr>\n",
              "    <tr>\n",
              "      <th>7299</th>\n",
              "      <td>1.714424e+06</td>\n",
              "      <td>118.536261</td>\n",
              "      <td>138.809278</td>\n",
              "      <td>1.498442</td>\n",
              "      <td>196.263919</td>\n",
              "      <td>138.853517</td>\n",
              "      <td>2.128053</td>\n",
              "      <td>662.350629</td>\n",
              "      <td>138.932966</td>\n",
              "      <td>3.389159</td>\n",
              "      <td>...</td>\n",
              "      <td>0.501826</td>\n",
              "      <td>0.501826</td>\n",
              "      <td>70743.819510</td>\n",
              "      <td>138.737973</td>\n",
              "      <td>0.501844</td>\n",
              "      <td>138.737973</td>\n",
              "      <td>0.501826</td>\n",
              "      <td>0.501826</td>\n",
              "      <td>0.501826</td>\n",
              "      <td>1.0</td>\n",
              "    </tr>\n",
              "  </tbody>\n",
              "</table>\n",
              "<p>5 rows × 117 columns</p>\n",
              "</div>\n",
              "      <button class=\"colab-df-convert\" onclick=\"convertToInteractive('df-f790bd2b-36c5-4fe8-918b-457513fad7a1')\"\n",
              "              title=\"Convert this dataframe to an interactive table.\"\n",
              "              style=\"display:none;\">\n",
              "        \n",
              "  <svg xmlns=\"http://www.w3.org/2000/svg\" height=\"24px\"viewBox=\"0 0 24 24\"\n",
              "       width=\"24px\">\n",
              "    <path d=\"M0 0h24v24H0V0z\" fill=\"none\"/>\n",
              "    <path d=\"M18.56 5.44l.94 2.06.94-2.06 2.06-.94-2.06-.94-.94-2.06-.94 2.06-2.06.94zm-11 1L8.5 8.5l.94-2.06 2.06-.94-2.06-.94L8.5 2.5l-.94 2.06-2.06.94zm10 10l.94 2.06.94-2.06 2.06-.94-2.06-.94-.94-2.06-.94 2.06-2.06.94z\"/><path d=\"M17.41 7.96l-1.37-1.37c-.4-.4-.92-.59-1.43-.59-.52 0-1.04.2-1.43.59L10.3 9.45l-7.72 7.72c-.78.78-.78 2.05 0 2.83L4 21.41c.39.39.9.59 1.41.59.51 0 1.02-.2 1.41-.59l7.78-7.78 2.81-2.81c.8-.78.8-2.07 0-2.86zM5.41 20L4 18.59l7.72-7.72 1.47 1.35L5.41 20z\"/>\n",
              "  </svg>\n",
              "      </button>\n",
              "      \n",
              "  <style>\n",
              "    .colab-df-container {\n",
              "      display:flex;\n",
              "      flex-wrap:wrap;\n",
              "      gap: 12px;\n",
              "    }\n",
              "\n",
              "    .colab-df-convert {\n",
              "      background-color: #E8F0FE;\n",
              "      border: none;\n",
              "      border-radius: 50%;\n",
              "      cursor: pointer;\n",
              "      display: none;\n",
              "      fill: #1967D2;\n",
              "      height: 32px;\n",
              "      padding: 0 0 0 0;\n",
              "      width: 32px;\n",
              "    }\n",
              "\n",
              "    .colab-df-convert:hover {\n",
              "      background-color: #E2EBFA;\n",
              "      box-shadow: 0px 1px 2px rgba(60, 64, 67, 0.3), 0px 1px 3px 1px rgba(60, 64, 67, 0.15);\n",
              "      fill: #174EA6;\n",
              "    }\n",
              "\n",
              "    [theme=dark] .colab-df-convert {\n",
              "      background-color: #3B4455;\n",
              "      fill: #D2E3FC;\n",
              "    }\n",
              "\n",
              "    [theme=dark] .colab-df-convert:hover {\n",
              "      background-color: #434B5C;\n",
              "      box-shadow: 0px 1px 3px 1px rgba(0, 0, 0, 0.15);\n",
              "      filter: drop-shadow(0px 1px 2px rgba(0, 0, 0, 0.3));\n",
              "      fill: #FFFFFF;\n",
              "    }\n",
              "  </style>\n",
              "\n",
              "      <script>\n",
              "        const buttonEl =\n",
              "          document.querySelector('#df-f790bd2b-36c5-4fe8-918b-457513fad7a1 button.colab-df-convert');\n",
              "        buttonEl.style.display =\n",
              "          google.colab.kernel.accessAllowed ? 'block' : 'none';\n",
              "\n",
              "        async function convertToInteractive(key) {\n",
              "          const element = document.querySelector('#df-f790bd2b-36c5-4fe8-918b-457513fad7a1');\n",
              "          const dataTable =\n",
              "            await google.colab.kernel.invokeFunction('convertToInteractive',\n",
              "                                                     [key], {});\n",
              "          if (!dataTable) return;\n",
              "\n",
              "          const docLinkHtml = 'Like what you see? Visit the ' +\n",
              "            '<a target=\"_blank\" href=https://colab.research.google.com/notebooks/data_table.ipynb>data table notebook</a>'\n",
              "            + ' to learn more about interactive tables.';\n",
              "          element.innerHTML = '';\n",
              "          dataTable['output_type'] = 'display_data';\n",
              "          await google.colab.output.renderOutput(dataTable, element);\n",
              "          const docLink = document.createElement('div');\n",
              "          docLink.innerHTML = docLinkHtml;\n",
              "          element.appendChild(docLink);\n",
              "        }\n",
              "      </script>\n",
              "    </div>\n",
              "  </div>\n",
              "  "
            ]
          },
          "metadata": {},
          "execution_count": 17
        }
      ]
    },
    {
      "cell_type": "markdown",
      "metadata": {
        "id": "ZfAbEIDgz4iY"
      },
      "source": [
        "## **Linear Support Vector Machine Classifier (Binary Classification) **\n",
        "to enable make the svm_enable = 1 in the above cell"
      ]
    },
    {
      "cell_type": "code",
      "execution_count": 18,
      "metadata": {
        "id": "o8GdMBjdzFQT"
      },
      "outputs": [],
      "source": [
        "if svm_enable:\n",
        "  # using kernel as linear \n",
        "  lsvm = SVC(kernel='linear',gamma='auto') \n",
        "  lsvm.fit(X_train,y_train) # training model on training dataset"
      ]
    },
    {
      "cell_type": "code",
      "execution_count": 19,
      "metadata": {
        "id": "NjfYZA_9zTNK",
        "colab": {
          "base_uri": "https://localhost:8080/"
        },
        "outputId": "723d3eb5-157b-4d81-c0ec-0b35d26a63ee"
      },
      "outputs": [
        {
          "output_type": "stream",
          "name": "stdout",
          "text": [
            "Saved model to disk\n",
            "Loaded model from disk\n"
          ]
        }
      ],
      "source": [
        "if svm_enable:\n",
        "  pkl_filename = \"/content/drive/MyDrive/Colab_Notebooks/Models/lsvm_binary\"+model_name_suffix+\".pkl\"\n",
        "  if (not path.isfile(pkl_filename)):\n",
        "    # saving the trained model to disk\n",
        "    with open(pkl_filename, 'wb') as file:\n",
        "      pickle.dump(lsvm, file)\n",
        "    print(\"Saved model to disk\")\n",
        "    # loading the trained model from disk\n",
        "    with open(pkl_filename, 'rb') as file:\n",
        "      lsvm = pickle.load(file)\n",
        "    print(\"Loaded model from disk\") "
      ]
    },
    {
      "cell_type": "code",
      "execution_count": 20,
      "metadata": {
        "id": "xsnN51Juzgcf",
        "colab": {
          "base_uri": "https://localhost:8080/"
        },
        "outputId": "a0833869-e825-4a5d-d0c6-fe644ed4ec8e"
      },
      "outputs": [
        {
          "output_type": "stream",
          "name": "stdout",
          "text": [
            "LSVM-Classifier Binary Set-Accuracy is  82.73155416012558\n"
          ]
        }
      ],
      "source": [
        "if svm_enable:\n",
        "  y_pred = lsvm.predict(X_test) # predicting target attribute on testing dataset\n",
        "  ac = accuracy_score(y_test, y_pred)*100 # calculating accuracy of predicted data\n",
        "  print(\"LSVM-Classifier Binary Set-Accuracy is \", ac)"
      ]
    },
    {
      "cell_type": "code",
      "execution_count": 21,
      "metadata": {
        "id": "qg2gbJTg8NtL"
      },
      "outputs": [],
      "source": [
        "# import matplotlib.pyplot as plt\n",
        "# from sklearn.datasets import make_classification\n",
        "# from sklearn.metrics import confusion_matrix, ConfusionMatrixDisplay\n",
        "# from sklearn.model_selection import train_test_split\n",
        "# from sklearn.svm import SVC\n",
        "# X, y = make_classification(random_state=0)\n",
        "# X_train, X_test, y_train, y_test = train_test_split(X, y,\n",
        "#                                                     random_state=0)\n",
        "# cm = confusion_matrix(y_test, y_pred, labels=lsvm.classes_)\n",
        "# disp = ConfusionMatrixDisplay(confusion_matrix=cm,\n",
        "#                               display_labels=lsvm.classes_)\n",
        "# disp.plot()\n",
        "\n",
        "# plt.show()"
      ]
    },
    {
      "cell_type": "code",
      "execution_count": 22,
      "metadata": {
        "id": "9IydNlzT5kx6",
        "colab": {
          "base_uri": "https://localhost:8080/",
          "height": 587
        },
        "outputId": "10b15701-c09c-412b-9d2b-c829384df4c1"
      },
      "outputs": [
        {
          "output_type": "display_data",
          "data": {
            "text/plain": [
              "<Figure size 2000x800 with 1 Axes>"
            ],
            "image/png": "[encoded data removed]"
          },
          "metadata": {}
        }
      ],
      "source": [
        "if svm_enable:\n",
        "  plt.figure(figsize=(20,8))\n",
        "  plt.plot(y_pred[300:500], label=\"prediction\", linewidth=2.0,color='blue')\n",
        "  plt.plot(y_test[300:500].values, label=\"real_values\", linewidth=2.0,color='lightcoral')\n",
        "  plt.legend(loc=\"best\")\n",
        "  plt.ylim((-1,2))\n",
        "  plt.title(\"Linear SVM Binary Classification\")\n",
        "  plt.savefig('/content/drive/MyDrive/Colab_Notebooks/Plots/lsvm_real_pred_bin.png')\n",
        "  plt.show()"
      ]
    },
    {
      "cell_type": "code",
      "execution_count": 23,
      "metadata": {
        "id": "s9lqoveaUBvg",
        "colab": {
          "base_uri": "https://localhost:8080/"
        },
        "outputId": "d885d30b-75b8-4fa5-c4a0-04747755654f"
      },
      "outputs": [
        {
          "output_type": "stream",
          "name": "stdout",
          "text": [
            "              precision    recall  f1-score   support\n",
            "\n",
            "     class 0       0.00      0.00      0.00       330\n",
            "     class 1       0.83      1.00      0.91      1581\n",
            "\n",
            "    accuracy                           0.83      1911\n",
            "   macro avg       0.41      0.50      0.45      1911\n",
            "weighted avg       0.68      0.83      0.75      1911\n",
            "\n",
            "False Positive Rate -  [1.]\n",
            "False Negative Rate -  [0.]\n",
            "Thresholds -  [1.]\n"
          ]
        },
        {
          "output_type": "stream",
          "name": "stderr",
          "text": [
            "/usr/local/lib/python3.9/dist-packages/sklearn/metrics/_classification.py:1344: UndefinedMetricWarning: Precision and F-score are ill-defined and being set to 0.0 in labels with no predicted samples. Use `zero_division` parameter to control this behavior.\n",
            "  _warn_prf(average, modifier, msg_start, len(result))\n",
            "/usr/local/lib/python3.9/dist-packages/sklearn/metrics/_classification.py:1344: UndefinedMetricWarning: Precision and F-score are ill-defined and being set to 0.0 in labels with no predicted samples. Use `zero_division` parameter to control this behavior.\n",
            "  _warn_prf(average, modifier, msg_start, len(result))\n",
            "/usr/local/lib/python3.9/dist-packages/sklearn/metrics/_classification.py:1344: UndefinedMetricWarning: Precision and F-score are ill-defined and being set to 0.0 in labels with no predicted samples. Use `zero_division` parameter to control this behavior.\n",
            "  _warn_prf(average, modifier, msg_start, len(result))\n"
          ]
        }
      ],
      "source": [
        "if svm_enable:\n",
        "  target_names = ['class 0', 'class 1']\n",
        "  print(classification_report(y_test, y_pred, target_names=target_names))\n",
        "  fpr, fnr, thresholds = det_curve(y_test, y_pred)\n",
        "  print(\"False Positive Rate - \", fpr)\n",
        "  print(\"False Negative Rate - \", fnr)\n",
        "  print(\"Thresholds - \", thresholds)"
      ]
    },
    {
      "cell_type": "code",
      "execution_count": 24,
      "metadata": {
        "id": "kWxBZhnw9t5n",
        "colab": {
          "base_uri": "https://localhost:8080/",
          "height": 449
        },
        "outputId": "6b96fada-48f9-4156-9d71-2009a2ec707c"
      },
      "outputs": [
        {
          "output_type": "display_data",
          "data": {
            "text/plain": [
              "<Figure size 640x480 with 2 Axes>"
            ],
            "image/png": "[encoded data removed]"
          },
          "metadata": {}
        }
      ],
      "source": [
        "if svm_enable:\n",
        "  from sklearn.metrics import confusion_matrix, ConfusionMatrixDisplay\n",
        "\n",
        "  clf = lsvm\n",
        "  cm = confusion_matrix(y_test, y_pred, labels=clf.classes_)\n",
        "  disp = ConfusionMatrixDisplay(confusion_matrix=cm,\n",
        "                                display_labels=clf.classes_)\n",
        "  disp.plot()\n",
        "\n",
        "  plt.show()"
      ]
    },
    {
      "cell_type": "markdown",
      "metadata": {
        "id": "PUjrwY2l0_RI"
      },
      "source": [
        "## **Multi Layer Perceptron Classifier (Binary Classification)**"
      ]
    },
    {
      "cell_type": "code",
      "execution_count": 25,
      "metadata": {
        "id": "u9v5Ylpa1DHY"
      },
      "outputs": [],
      "source": [
        "if model_selection[model_flag]==\"ALL\" or model_selection[model_flag] == \"MLP\":\n",
        "  mlp = Sequential() # creating model\n",
        "\n",
        "  # adding input layer and first layer with 50 neurons\n",
        "  mlp.add(Dense(units=50, input_dim=X_train.shape[1], activation='relu'))\n",
        "  # output layer with sigmoid activation\n",
        "  mlp.add(Dense(units=1,activation='sigmoid'))"
      ]
    },
    {
      "cell_type": "code",
      "execution_count": 26,
      "metadata": {
        "id": "E-9M9d0p1p8s"
      },
      "outputs": [],
      "source": [
        "if model_selection[model_flag]==\"ALL\" or model_selection[model_flag] == \"MLP\":\n",
        "  # defining loss function, optimizer, metrics and then compiling model\n",
        "  mlp.compile(loss='binary_crossentropy', optimizer='adam', metrics=['accuracy'])"
      ]
    },
    {
      "cell_type": "code",
      "execution_count": 27,
      "metadata": {
        "id": "NK-1_akm1vO9",
        "colab": {
          "base_uri": "https://localhost:8080/"
        },
        "outputId": "6f36eeec-1ae4-41eb-e034-624898d5a33c"
      },
      "outputs": [
        {
          "output_type": "stream",
          "name": "stdout",
          "text": [
            "Model: \"sequential\"\n",
            "_________________________________________________________________\n",
            " Layer (type)                Output Shape              Param #   \n",
            "=================================================================\n",
            " dense (Dense)               (None, 50)                5900      \n",
            "                                                                 \n",
            " dense_1 (Dense)             (None, 1)                 51        \n",
            "                                                                 \n",
            "=================================================================\n",
            "Total params: 5,951\n",
            "Trainable params: 5,951\n",
            "Non-trainable params: 0\n",
            "_________________________________________________________________\n"
          ]
        }
      ],
      "source": [
        "if model_selection[model_flag]==\"ALL\" or model_selection[model_flag] == \"MLP\":\n",
        "  # summary of model layers\n",
        "  mlp.summary()"
      ]
    },
    {
      "cell_type": "code",
      "execution_count": 28,
      "metadata": {
        "id": "UYZ4xCgp13gP",
        "colab": {
          "base_uri": "https://localhost:8080/"
        },
        "outputId": "3167ec99-76da-4c83-8fa6-75c3970be6a7"
      },
      "outputs": [
        {
          "output_type": "stream",
          "name": "stdout",
          "text": [
            "Epoch 1/100\n",
            "1/1 [==============================] - 5s 5s/step - loss: 0.6512 - accuracy: 0.7288 - val_loss: 0.6172 - val_accuracy: 0.7949\n",
            "Epoch 2/100\n",
            "1/1 [==============================] - 0s 41ms/step - loss: 0.6192 - accuracy: 0.7877 - val_loss: 0.5872 - val_accuracy: 0.8482\n",
            "Epoch 3/100\n",
            "1/1 [==============================] - 0s 40ms/step - loss: 0.5895 - accuracy: 0.8364 - val_loss: 0.5591 - val_accuracy: 0.8551\n",
            "Epoch 4/100\n",
            "1/1 [==============================] - 0s 42ms/step - loss: 0.5616 - accuracy: 0.8412 - val_loss: 0.5322 - val_accuracy: 0.8551\n",
            "Epoch 5/100\n",
            "1/1 [==============================] - 0s 39ms/step - loss: 0.5349 - accuracy: 0.8416 - val_loss: 0.5063 - val_accuracy: 0.8551\n",
            "Epoch 6/100\n",
            "1/1 [==============================] - 0s 44ms/step - loss: 0.5092 - accuracy: 0.8421 - val_loss: 0.4818 - val_accuracy: 0.8551\n",
            "Epoch 7/100\n",
            "1/1 [==============================] - 0s 42ms/step - loss: 0.4849 - accuracy: 0.8421 - val_loss: 0.4585 - val_accuracy: 0.8551\n",
            "Epoch 8/100\n",
            "1/1 [==============================] - 0s 36ms/step - loss: 0.4618 - accuracy: 0.8421 - val_loss: 0.4365 - val_accuracy: 0.8551\n",
            "Epoch 9/100\n",
            "1/1 [==============================] - 0s 38ms/step - loss: 0.4400 - accuracy: 0.8418 - val_loss: 0.4158 - val_accuracy: 0.8560\n",
            "Epoch 10/100\n",
            "1/1 [==============================] - 0s 38ms/step - loss: 0.4196 - accuracy: 0.8418 - val_loss: 0.3966 - val_accuracy: 0.8560\n",
            "Epoch 11/100\n",
            "1/1 [==============================] - 0s 44ms/step - loss: 0.4006 - accuracy: 0.8421 - val_loss: 0.3791 - val_accuracy: 0.8560\n",
            "Epoch 12/100\n",
            "1/1 [==============================] - 0s 38ms/step - loss: 0.3832 - accuracy: 0.8423 - val_loss: 0.3630 - val_accuracy: 0.8551\n",
            "Epoch 13/100\n",
            "1/1 [==============================] - 0s 38ms/step - loss: 0.3673 - accuracy: 0.8423 - val_loss: 0.3484 - val_accuracy: 0.8551\n",
            "Epoch 14/100\n",
            "1/1 [==============================] - 0s 37ms/step - loss: 0.3528 - accuracy: 0.8425 - val_loss: 0.3351 - val_accuracy: 0.8551\n",
            "Epoch 15/100\n",
            "1/1 [==============================] - 0s 40ms/step - loss: 0.3396 - accuracy: 0.8425 - val_loss: 0.3230 - val_accuracy: 0.8551\n",
            "Epoch 16/100\n",
            "1/1 [==============================] - 0s 39ms/step - loss: 0.3276 - accuracy: 0.8423 - val_loss: 0.3120 - val_accuracy: 0.8560\n",
            "Epoch 17/100\n",
            "1/1 [==============================] - 0s 37ms/step - loss: 0.3167 - accuracy: 0.8425 - val_loss: 0.3020 - val_accuracy: 0.8560\n",
            "Epoch 18/100\n",
            "1/1 [==============================] - 0s 34ms/step - loss: 0.3067 - accuracy: 0.8427 - val_loss: 0.2930 - val_accuracy: 0.8560\n",
            "Epoch 19/100\n",
            "1/1 [==============================] - 0s 46ms/step - loss: 0.2977 - accuracy: 0.8429 - val_loss: 0.2847 - val_accuracy: 0.8560\n",
            "Epoch 20/100\n",
            "1/1 [==============================] - 0s 39ms/step - loss: 0.2893 - accuracy: 0.8438 - val_loss: 0.2771 - val_accuracy: 0.8560\n",
            "Epoch 21/100\n",
            "1/1 [==============================] - 0s 37ms/step - loss: 0.2818 - accuracy: 0.8445 - val_loss: 0.2702 - val_accuracy: 0.8560\n",
            "Epoch 22/100\n",
            "1/1 [==============================] - 0s 36ms/step - loss: 0.2748 - accuracy: 0.8449 - val_loss: 0.2640 - val_accuracy: 0.8569\n",
            "Epoch 23/100\n",
            "1/1 [==============================] - 0s 37ms/step - loss: 0.2685 - accuracy: 0.8458 - val_loss: 0.2582 - val_accuracy: 0.8578\n",
            "Epoch 24/100\n",
            "1/1 [==============================] - 0s 41ms/step - loss: 0.2626 - accuracy: 0.8473 - val_loss: 0.2530 - val_accuracy: 0.8569\n",
            "Epoch 25/100\n",
            "1/1 [==============================] - 0s 41ms/step - loss: 0.2572 - accuracy: 0.8475 - val_loss: 0.2483 - val_accuracy: 0.8551\n",
            "Epoch 26/100\n",
            "1/1 [==============================] - 0s 40ms/step - loss: 0.2522 - accuracy: 0.8486 - val_loss: 0.2438 - val_accuracy: 0.8569\n",
            "Epoch 27/100\n",
            "1/1 [==============================] - 0s 58ms/step - loss: 0.2475 - accuracy: 0.8499 - val_loss: 0.2397 - val_accuracy: 0.8551\n",
            "Epoch 28/100\n",
            "1/1 [==============================] - 0s 40ms/step - loss: 0.2432 - accuracy: 0.8508 - val_loss: 0.2358 - val_accuracy: 0.8560\n",
            "Epoch 29/100\n",
            "1/1 [==============================] - 0s 41ms/step - loss: 0.2390 - accuracy: 0.8543 - val_loss: 0.2322 - val_accuracy: 0.8569\n",
            "Epoch 30/100\n",
            "1/1 [==============================] - 0s 36ms/step - loss: 0.2351 - accuracy: 0.8560 - val_loss: 0.2288 - val_accuracy: 0.8595\n",
            "Epoch 31/100\n",
            "1/1 [==============================] - 0s 39ms/step - loss: 0.2314 - accuracy: 0.8571 - val_loss: 0.2255 - val_accuracy: 0.8613\n",
            "Epoch 32/100\n",
            "1/1 [==============================] - 0s 37ms/step - loss: 0.2279 - accuracy: 0.8597 - val_loss: 0.2224 - val_accuracy: 0.8621\n",
            "Epoch 33/100\n",
            "1/1 [==============================] - 0s 35ms/step - loss: 0.2245 - accuracy: 0.8621 - val_loss: 0.2195 - val_accuracy: 0.8656\n",
            "Epoch 34/100\n",
            "1/1 [==============================] - 0s 52ms/step - loss: 0.2212 - accuracy: 0.8669 - val_loss: 0.2167 - val_accuracy: 0.8700\n",
            "Epoch 35/100\n",
            "1/1 [==============================] - 0s 38ms/step - loss: 0.2181 - accuracy: 0.8722 - val_loss: 0.2140 - val_accuracy: 0.8743\n",
            "Epoch 36/100\n",
            "1/1 [==============================] - 0s 54ms/step - loss: 0.2151 - accuracy: 0.8746 - val_loss: 0.2115 - val_accuracy: 0.8743\n",
            "Epoch 37/100\n",
            "1/1 [==============================] - 0s 45ms/step - loss: 0.2123 - accuracy: 0.8750 - val_loss: 0.2091 - val_accuracy: 0.8752\n",
            "Epoch 38/100\n",
            "1/1 [==============================] - 0s 67ms/step - loss: 0.2096 - accuracy: 0.8757 - val_loss: 0.2068 - val_accuracy: 0.8787\n",
            "Epoch 39/100\n",
            "1/1 [==============================] - 0s 38ms/step - loss: 0.2070 - accuracy: 0.8750 - val_loss: 0.2046 - val_accuracy: 0.8787\n",
            "Epoch 40/100\n",
            "1/1 [==============================] - 0s 37ms/step - loss: 0.2045 - accuracy: 0.8752 - val_loss: 0.2026 - val_accuracy: 0.8796\n",
            "Epoch 41/100\n",
            "1/1 [==============================] - 0s 36ms/step - loss: 0.2022 - accuracy: 0.8774 - val_loss: 0.2006 - val_accuracy: 0.8787\n",
            "Epoch 42/100\n",
            "1/1 [==============================] - 0s 36ms/step - loss: 0.2000 - accuracy: 0.8809 - val_loss: 0.1987 - val_accuracy: 0.8831\n",
            "Epoch 43/100\n",
            "1/1 [==============================] - 0s 37ms/step - loss: 0.1978 - accuracy: 0.8892 - val_loss: 0.1969 - val_accuracy: 0.8953\n",
            "Epoch 44/100\n",
            "1/1 [==============================] - 0s 35ms/step - loss: 0.1958 - accuracy: 0.8938 - val_loss: 0.1952 - val_accuracy: 0.8979\n",
            "Epoch 45/100\n",
            "1/1 [==============================] - 0s 37ms/step - loss: 0.1938 - accuracy: 0.8957 - val_loss: 0.1935 - val_accuracy: 0.8979\n",
            "Epoch 46/100\n",
            "1/1 [==============================] - 0s 36ms/step - loss: 0.1919 - accuracy: 0.9001 - val_loss: 0.1919 - val_accuracy: 0.9005\n",
            "Epoch 47/100\n",
            "1/1 [==============================] - 0s 37ms/step - loss: 0.1901 - accuracy: 0.9060 - val_loss: 0.1903 - val_accuracy: 0.9154\n",
            "Epoch 48/100\n",
            "1/1 [==============================] - 0s 41ms/step - loss: 0.1883 - accuracy: 0.9162 - val_loss: 0.1887 - val_accuracy: 0.9232\n",
            "Epoch 49/100\n",
            "1/1 [==============================] - 0s 44ms/step - loss: 0.1866 - accuracy: 0.9245 - val_loss: 0.1872 - val_accuracy: 0.9319\n",
            "Epoch 50/100\n",
            "1/1 [==============================] - 0s 69ms/step - loss: 0.1849 - accuracy: 0.9363 - val_loss: 0.1856 - val_accuracy: 0.9424\n",
            "Epoch 51/100\n",
            "1/1 [==============================] - 0s 38ms/step - loss: 0.1832 - accuracy: 0.9455 - val_loss: 0.1841 - val_accuracy: 0.9494\n",
            "Epoch 52/100\n",
            "1/1 [==============================] - 0s 40ms/step - loss: 0.1816 - accuracy: 0.9516 - val_loss: 0.1825 - val_accuracy: 0.9520\n",
            "Epoch 53/100\n",
            "1/1 [==============================] - 0s 37ms/step - loss: 0.1799 - accuracy: 0.9544 - val_loss: 0.1809 - val_accuracy: 0.9538\n",
            "Epoch 54/100\n",
            "1/1 [==============================] - 0s 36ms/step - loss: 0.1782 - accuracy: 0.9553 - val_loss: 0.1793 - val_accuracy: 0.9529\n",
            "Epoch 55/100\n",
            "1/1 [==============================] - 0s 35ms/step - loss: 0.1764 - accuracy: 0.9559 - val_loss: 0.1775 - val_accuracy: 0.9529\n",
            "Epoch 56/100\n",
            "1/1 [==============================] - 0s 36ms/step - loss: 0.1746 - accuracy: 0.9557 - val_loss: 0.1758 - val_accuracy: 0.9538\n",
            "Epoch 57/100\n",
            "1/1 [==============================] - 0s 38ms/step - loss: 0.1728 - accuracy: 0.9564 - val_loss: 0.1739 - val_accuracy: 0.9546\n",
            "Epoch 58/100\n",
            "1/1 [==============================] - 0s 35ms/step - loss: 0.1710 - accuracy: 0.9570 - val_loss: 0.1720 - val_accuracy: 0.9555\n",
            "Epoch 59/100\n",
            "1/1 [==============================] - 0s 37ms/step - loss: 0.1690 - accuracy: 0.9579 - val_loss: 0.1700 - val_accuracy: 0.9564\n",
            "Epoch 60/100\n",
            "1/1 [==============================] - 0s 35ms/step - loss: 0.1671 - accuracy: 0.9588 - val_loss: 0.1680 - val_accuracy: 0.9564\n",
            "Epoch 61/100\n",
            "1/1 [==============================] - 0s 40ms/step - loss: 0.1651 - accuracy: 0.9599 - val_loss: 0.1660 - val_accuracy: 0.9581\n",
            "Epoch 62/100\n",
            "1/1 [==============================] - 0s 44ms/step - loss: 0.1633 - accuracy: 0.9612 - val_loss: 0.1641 - val_accuracy: 0.9590\n",
            "Epoch 63/100\n",
            "1/1 [==============================] - 0s 42ms/step - loss: 0.1615 - accuracy: 0.9631 - val_loss: 0.1623 - val_accuracy: 0.9625\n",
            "Epoch 64/100\n",
            "1/1 [==============================] - 0s 51ms/step - loss: 0.1597 - accuracy: 0.9662 - val_loss: 0.1605 - val_accuracy: 0.9677\n",
            "Epoch 65/100\n",
            "1/1 [==============================] - 0s 53ms/step - loss: 0.1580 - accuracy: 0.9679 - val_loss: 0.1588 - val_accuracy: 0.9695\n",
            "Epoch 66/100\n",
            "1/1 [==============================] - 0s 50ms/step - loss: 0.1564 - accuracy: 0.9714 - val_loss: 0.1573 - val_accuracy: 0.9729\n",
            "Epoch 67/100\n",
            "1/1 [==============================] - 0s 66ms/step - loss: 0.1549 - accuracy: 0.9751 - val_loss: 0.1558 - val_accuracy: 0.9747\n",
            "Epoch 68/100\n",
            "1/1 [==============================] - 0s 72ms/step - loss: 0.1535 - accuracy: 0.9775 - val_loss: 0.1543 - val_accuracy: 0.9764\n",
            "Epoch 69/100\n",
            "1/1 [==============================] - 0s 52ms/step - loss: 0.1521 - accuracy: 0.9793 - val_loss: 0.1530 - val_accuracy: 0.9791\n",
            "Epoch 70/100\n",
            "1/1 [==============================] - 0s 71ms/step - loss: 0.1507 - accuracy: 0.9808 - val_loss: 0.1516 - val_accuracy: 0.9799\n",
            "Epoch 71/100\n",
            "1/1 [==============================] - 0s 64ms/step - loss: 0.1494 - accuracy: 0.9821 - val_loss: 0.1504 - val_accuracy: 0.9808\n",
            "Epoch 72/100\n",
            "1/1 [==============================] - 0s 66ms/step - loss: 0.1481 - accuracy: 0.9830 - val_loss: 0.1491 - val_accuracy: 0.9817\n",
            "Epoch 73/100\n",
            "1/1 [==============================] - 0s 64ms/step - loss: 0.1468 - accuracy: 0.9830 - val_loss: 0.1479 - val_accuracy: 0.9817\n",
            "Epoch 74/100\n",
            "1/1 [==============================] - 0s 52ms/step - loss: 0.1455 - accuracy: 0.9828 - val_loss: 0.1467 - val_accuracy: 0.9817\n",
            "Epoch 75/100\n",
            "1/1 [==============================] - 0s 53ms/step - loss: 0.1442 - accuracy: 0.9828 - val_loss: 0.1455 - val_accuracy: 0.9817\n",
            "Epoch 76/100\n",
            "1/1 [==============================] - 0s 48ms/step - loss: 0.1429 - accuracy: 0.9828 - val_loss: 0.1444 - val_accuracy: 0.9817\n",
            "Epoch 77/100\n",
            "1/1 [==============================] - 0s 64ms/step - loss: 0.1417 - accuracy: 0.9821 - val_loss: 0.1432 - val_accuracy: 0.9808\n",
            "Epoch 78/100\n",
            "1/1 [==============================] - 0s 63ms/step - loss: 0.1405 - accuracy: 0.9821 - val_loss: 0.1422 - val_accuracy: 0.9791\n",
            "Epoch 79/100\n",
            "1/1 [==============================] - 0s 50ms/step - loss: 0.1392 - accuracy: 0.9817 - val_loss: 0.1411 - val_accuracy: 0.9791\n",
            "Epoch 80/100\n",
            "1/1 [==============================] - 0s 68ms/step - loss: 0.1381 - accuracy: 0.9815 - val_loss: 0.1401 - val_accuracy: 0.9773\n",
            "Epoch 81/100\n",
            "1/1 [==============================] - 0s 69ms/step - loss: 0.1369 - accuracy: 0.9808 - val_loss: 0.1391 - val_accuracy: 0.9764\n",
            "Epoch 82/100\n",
            "1/1 [==============================] - 0s 46ms/step - loss: 0.1358 - accuracy: 0.9804 - val_loss: 0.1382 - val_accuracy: 0.9764\n",
            "Epoch 83/100\n",
            "1/1 [==============================] - 0s 49ms/step - loss: 0.1347 - accuracy: 0.9801 - val_loss: 0.1372 - val_accuracy: 0.9747\n",
            "Epoch 84/100\n",
            "1/1 [==============================] - 0s 60ms/step - loss: 0.1337 - accuracy: 0.9801 - val_loss: 0.1363 - val_accuracy: 0.9747\n",
            "Epoch 85/100\n",
            "1/1 [==============================] - 0s 66ms/step - loss: 0.1327 - accuracy: 0.9799 - val_loss: 0.1354 - val_accuracy: 0.9747\n",
            "Epoch 86/100\n",
            "1/1 [==============================] - 0s 59ms/step - loss: 0.1317 - accuracy: 0.9799 - val_loss: 0.1345 - val_accuracy: 0.9756\n",
            "Epoch 87/100\n",
            "1/1 [==============================] - 0s 51ms/step - loss: 0.1307 - accuracy: 0.9797 - val_loss: 0.1336 - val_accuracy: 0.9747\n",
            "Epoch 88/100\n",
            "1/1 [==============================] - 0s 66ms/step - loss: 0.1298 - accuracy: 0.9793 - val_loss: 0.1327 - val_accuracy: 0.9747\n",
            "Epoch 89/100\n",
            "1/1 [==============================] - 0s 56ms/step - loss: 0.1288 - accuracy: 0.9797 - val_loss: 0.1319 - val_accuracy: 0.9738\n",
            "Epoch 90/100\n",
            "1/1 [==============================] - 0s 51ms/step - loss: 0.1279 - accuracy: 0.9797 - val_loss: 0.1310 - val_accuracy: 0.9747\n",
            "Epoch 91/100\n",
            "1/1 [==============================] - 0s 48ms/step - loss: 0.1270 - accuracy: 0.9801 - val_loss: 0.1301 - val_accuracy: 0.9756\n",
            "Epoch 92/100\n",
            "1/1 [==============================] - 0s 57ms/step - loss: 0.1261 - accuracy: 0.9801 - val_loss: 0.1293 - val_accuracy: 0.9756\n",
            "Epoch 93/100\n",
            "1/1 [==============================] - 0s 69ms/step - loss: 0.1253 - accuracy: 0.9812 - val_loss: 0.1284 - val_accuracy: 0.9756\n",
            "Epoch 94/100\n",
            "1/1 [==============================] - 0s 65ms/step - loss: 0.1244 - accuracy: 0.9815 - val_loss: 0.1276 - val_accuracy: 0.9773\n",
            "Epoch 95/100\n",
            "1/1 [==============================] - 0s 65ms/step - loss: 0.1236 - accuracy: 0.9817 - val_loss: 0.1267 - val_accuracy: 0.9773\n",
            "Epoch 96/100\n",
            "1/1 [==============================] - 0s 64ms/step - loss: 0.1227 - accuracy: 0.9825 - val_loss: 0.1259 - val_accuracy: 0.9782\n",
            "Epoch 97/100\n",
            "1/1 [==============================] - 0s 53ms/step - loss: 0.1219 - accuracy: 0.9828 - val_loss: 0.1251 - val_accuracy: 0.9808\n",
            "Epoch 98/100\n",
            "1/1 [==============================] - 0s 70ms/step - loss: 0.1211 - accuracy: 0.9825 - val_loss: 0.1243 - val_accuracy: 0.9808\n",
            "Epoch 99/100\n",
            "1/1 [==============================] - 0s 70ms/step - loss: 0.1203 - accuracy: 0.9825 - val_loss: 0.1235 - val_accuracy: 0.9825\n",
            "Epoch 100/100\n",
            "1/1 [==============================] - 0s 76ms/step - loss: 0.1195 - accuracy: 0.9832 - val_loss: 0.1227 - val_accuracy: 0.9825\n"
          ]
        }
      ],
      "source": [
        "if model_selection[model_flag]==\"ALL\" or model_selection[model_flag] == \"MLP\":\n",
        "  # training the model on training dataset\n",
        "  history = mlp.fit(X_train, y_train, epochs=100, batch_size=5000,validation_split=0.2)"
      ]
    },
    {
      "cell_type": "code",
      "execution_count": 29,
      "metadata": {
        "id": "_n_gNs3p1_M-",
        "colab": {
          "base_uri": "https://localhost:8080/"
        },
        "outputId": "eb9db24d-4ee1-4f65-94d4-6dc1fe6d7e9b"
      },
      "outputs": [
        {
          "output_type": "stream",
          "name": "stdout",
          "text": [
            "Saved model to disk\n",
            "Loaded model from disk\n"
          ]
        }
      ],
      "source": [
        "if model_selection[model_flag]==\"ALL\" or model_selection[model_flag] == \"MLP\":\n",
        "  filepath = '/content/drive/MyDrive/Colab_Notebooks/Models/mlp_binary'+model_name_suffix+'.json'\n",
        "  weightspath = '/content/drive/MyDrive/Colab_Notebooks/Weights/mlp_binary'+model_name_suffix+'.h5'\n",
        "  if (not path.isfile(filepath)):\n",
        "    # serialize model to JSON\n",
        "    mlp_json = mlp.to_json()\n",
        "    with open(filepath, \"w\") as json_file:\n",
        "      json_file.write(mlp_json)\n",
        "\n",
        "    # serialize weights to HDF5\n",
        "    mlp.save_weights(weightspath)\n",
        "    print(\"Saved model to disk\")\n",
        "\n",
        "    # load json and create model\n",
        "    json_file = open(filepath, 'r')\n",
        "    loaded_model_json = json_file.read()\n",
        "    json_file.close()\n",
        "    mlp = model_from_json(loaded_model_json)\n",
        "\n",
        "    # load weights into new model\n",
        "    mlp.load_weights(weightspath)\n",
        "    print(\"Loaded model from disk\")"
      ]
    },
    {
      "cell_type": "code",
      "execution_count": 30,
      "metadata": {
        "id": "G99OrVcT2JON"
      },
      "outputs": [],
      "source": [
        "if model_selection[model_flag]==\"ALL\" or model_selection[model_flag] == \"MLP\":\n",
        "  # defining loss function, optimizer, metrics and then compiling model\n",
        "  mlp.compile(loss='binary_crossentropy', optimizer='adam', metrics=['accuracy'])"
      ]
    },
    {
      "cell_type": "code",
      "execution_count": 31,
      "metadata": {
        "id": "AXUA0T2N2OIB",
        "colab": {
          "base_uri": "https://localhost:8080/"
        },
        "outputId": "f1cd7490-6505-4a79-afed-85c0ee801ab1"
      },
      "outputs": [
        {
          "output_type": "stream",
          "name": "stdout",
          "text": [
            "60/60 [==============================] - 1s 4ms/step - loss: 205442093416448.0000 - accuracy: 0.2402\n",
            "Test results - Loss: 205442093416448.0 - Accuracy: 24.01883900165558\n"
          ]
        }
      ],
      "source": [
        "if model_selection[model_flag]==\"ALL\" or model_selection[model_flag] == \"MLP\":\n",
        "  # predicting target attribute on testing dataset\n",
        "  test_results = mlp.evaluate(X_test, y_test, verbose=1)\n",
        "  print(f'Test results - Loss: {test_results[0]} - Accuracy: {test_results[1]*100}')"
      ]
    },
    {
      "cell_type": "code",
      "execution_count": 32,
      "metadata": {
        "id": "StFTrhE65_-q",
        "colab": {
          "base_uri": "https://localhost:8080/",
          "height": 472
        },
        "outputId": "2a5ed3ce-9399-4bfb-8f28-39fc00288932"
      },
      "outputs": [
        {
          "output_type": "display_data",
          "data": {
            "text/plain": [
              "<Figure size 640x480 with 1 Axes>"
            ],
            "image/png": "[encoded data removed]"
          },
          "metadata": {}
        }
      ],
      "source": [
        "if model_selection[model_flag]==\"ALL\" or model_selection[model_flag] == \"MLP\":  \n",
        "  # Plot of accuracy vs epoch of train and test dataset\n",
        "  plt.plot(history.history['accuracy'])\n",
        "  plt.plot(history.history['val_accuracy'])\n",
        "  plt.title(\"Plot of accuracy vs epoch for train and test dataset\")\n",
        "  plt.ylabel('accuracy')\n",
        "  plt.xlabel('epoch')\n",
        "  plt.legend(['train', 'test'], loc='best')\n",
        "  plt.savefig('/content/drive/MyDrive/Colab_Notebooks/Plots/mlp_binary_accuracy.png')\n",
        "  plt.show()"
      ]
    },
    {
      "cell_type": "code",
      "execution_count": 33,
      "metadata": {
        "id": "rZes4PzY6JUq",
        "colab": {
          "base_uri": "https://localhost:8080/",
          "height": 472
        },
        "outputId": "5846d044-be4f-43d9-bc55-6d79ecf06437"
      },
      "outputs": [
        {
          "output_type": "display_data",
          "data": {
            "text/plain": [
              "<Figure size 640x480 with 1 Axes>"
            ],
            "image/png": "[encoded data removed]"
          },
          "metadata": {}
        }
      ],
      "source": [
        "if model_selection[model_flag]==\"ALL\" or model_selection[model_flag] == \"MLP\":\n",
        "  # Plot of loss vs epoch of train and test dataset\n",
        "  plt.plot(history.history['loss'])\n",
        "  plt.plot(history.history['val_loss'])\n",
        "  plt.title('Plot of loss vs epoch for train and test dataset')\n",
        "  plt.ylabel('loss')\n",
        "  plt.xlabel('epoch')\n",
        "  plt.legend(['train', 'test'], loc='best')\n",
        "  plt.savefig('/content/drive/MyDrive/Colab_Notebooks/Plots/mlp_binary_loss.png')\n",
        "  plt.show()"
      ]
    },
    {
      "cell_type": "code",
      "execution_count": 34,
      "metadata": {
        "id": "mC0nj-on6iRU"
      },
      "outputs": [],
      "source": [
        "if model_selection[model_flag]==\"ALL\" or model_selection[model_flag] == \"MLP\":\n",
        "  # representation of model layers\n",
        "  from keras.utils.vis_utils import plot_model\n",
        "  plot_model(mlp, to_file='/content/drive/MyDrive/Colab_Notebooks/Plots/mlp_binary.png', show_shapes=True,)"
      ]
    },
    {
      "cell_type": "code",
      "execution_count": 35,
      "metadata": {
        "id": "oxHdln0c6Xi_",
        "colab": {
          "base_uri": "https://localhost:8080/"
        },
        "outputId": "ba02b333-1565-4efa-a7f2-ab5744b8d039"
      },
      "outputs": [
        {
          "output_type": "stream",
          "name": "stdout",
          "text": [
            "60/60 [==============================] - 0s 4ms/step\n"
          ]
        }
      ],
      "source": [
        "if model_selection[model_flag]==\"ALL\" or model_selection[model_flag] == \"MLP\":\n",
        "  y_pred = mlp.predict(X_test).ravel()\n",
        "  fpr, tpr, thresholds = roc_curve(y_test, y_pred)\n",
        "  auc = auc(fpr, tpr)"
      ]
    },
    {
      "cell_type": "code",
      "execution_count": 36,
      "metadata": {
        "id": "Cr36q9Z-6aRU",
        "colab": {
          "base_uri": "https://localhost:8080/",
          "height": 472
        },
        "outputId": "115e9563-9412-4aec-e8d5-d05c9ce668fb"
      },
      "outputs": [
        {
          "output_type": "display_data",
          "data": {
            "text/plain": [
              "<Figure size 640x480 with 1 Axes>"
            ],
            "image/png": "[encoded data removed]"
          },
          "metadata": {}
        }
      ],
      "source": [
        "if model_selection[model_flag]==\"ALL\" or model_selection[model_flag] == \"MLP\":\n",
        "  plt.plot([0, 1], [0, 1], 'k--')\n",
        "  plt.plot(fpr, tpr, label='Keras (area = {:.3f})'.format(auc))\n",
        "  plt.xlabel('False positive rate')\n",
        "  plt.ylabel('True positive rate')\n",
        "  plt.title('ROC curve')\n",
        "  plt.legend(loc='best')\n",
        "  plt.savefig('/content/drive/MyDrive/Colab_Notebooks/Plots/mlp_binary_roc.png')\n",
        "  plt.show()"
      ]
    },
    {
      "cell_type": "code",
      "execution_count": 37,
      "metadata": {
        "id": "U9f2bWPwFljk"
      },
      "outputs": [],
      "source": [
        "# real_data_kdd = bin_data.copy()\n",
        "\n",
        "# # Names of the columns that are discrete\n",
        "# cat_cols = real_data_kdd.select_dtypes(['object']).columns\n",
        "# # cat_cols\n",
        "# test_data = real_data_kdd.iloc[:999]\n",
        "\n",
        "# corr= test_data.corr()\n",
        "# corr_y = abs(corr['label'])\n",
        "# highest_corr = corr_y\n",
        "# highest_corr.sort_values(ascending=True)"
      ]
    },
    {
      "cell_type": "code",
      "execution_count": 38,
      "metadata": {
        "id": "8-clVdUoUPa-",
        "colab": {
          "base_uri": "https://localhost:8080/"
        },
        "outputId": "325eae51-ad92-4480-bc1a-1d1407ba2a7a"
      },
      "outputs": [
        {
          "output_type": "stream",
          "name": "stdout",
          "text": [
            "60/60 [==============================] - 0s 2ms/step\n"
          ]
        }
      ],
      "source": [
        "if model_selection[model_flag]==\"ALL\" or model_selection[model_flag] == \"MLP\":\n",
        "  y_classes = (mlp.predict(X_test)>0.5).astype('int32')"
      ]
    },
    {
      "cell_type": "code",
      "execution_count": 39,
      "metadata": {
        "id": "0jcFqEqFT-uq",
        "colab": {
          "base_uri": "https://localhost:8080/"
        },
        "outputId": "2096b2a3-1f68-4ebc-d286-a5ff7d7d4f19"
      },
      "outputs": [
        {
          "output_type": "stream",
          "name": "stdout",
          "text": [
            "Recall Score -  0.14104996837444655\n",
            "F1 Score -  0.2349841938883035\n",
            "Precision Score -  0.7034700315457413\n",
            "False Positive Rate -  [1.         0.28484848]\n",
            "False Negative Rate -  [0.         0.85895003]\n",
            "Thresholds -  [0 1]\n"
          ]
        }
      ],
      "source": [
        "if model_selection[model_flag]==\"ALL\" or model_selection[model_flag] == \"MLP\":\n",
        "  print(\"Recall Score - \",recall_score(y_test,y_classes))\n",
        "  print(\"F1 Score - \",f1_score(y_test,y_classes))\n",
        "  print(\"Precision Score - \",precision_score(y_test,y_classes))\n",
        "  fpr, fnr, thresholds = det_curve(y_test, y_classes)\n",
        "  print(\"False Positive Rate - \", fpr)\n",
        "  print(\"False Negative Rate - \", fnr)\n",
        "  print(\"Thresholds - \", thresholds)"
      ]
    },
    {
      "cell_type": "code",
      "source": [
        "print(classification_report(y_test, y_classes, target_names=['0', '1']))\n",
        "cm = confusion_matrix(y_test, y_classes)\n",
        "disp = ConfusionMatrixDisplay(confusion_matrix=cm,\n",
        "                              display_labels=['0', '1'])\n",
        "disp.plot()\n",
        "\n",
        "plt.show()"
      ],
      "metadata": {
        "id": "3HJB6IXJsxjg",
        "colab": {
          "base_uri": "https://localhost:8080/",
          "height": 610
        },
        "outputId": "e8e40238-0b33-4733-ef42-c8867b80cbf0"
      },
      "execution_count": 40,
      "outputs": [
        {
          "output_type": "stream",
          "name": "stdout",
          "text": [
            "              precision    recall  f1-score   support\n",
            "\n",
            "           0       0.15      0.72      0.25       330\n",
            "           1       0.70      0.14      0.23      1581\n",
            "\n",
            "    accuracy                           0.24      1911\n",
            "   macro avg       0.43      0.43      0.24      1911\n",
            "weighted avg       0.61      0.24      0.24      1911\n",
            "\n"
          ]
        },
        {
          "output_type": "display_data",
          "data": {
            "text/plain": [
              "<Figure size 640x480 with 2 Axes>"
            ],
            "image/png": "[encoded data removed]"
          },
          "metadata": {}
        }
      ]
    },
    {
      "cell_type": "markdown",
      "source": [
        "# **Correlation** Matrix of Features"
      ],
      "metadata": {
        "id": "j7BKdCwqs2RE"
      }
    },
    {
      "cell_type": "code",
      "execution_count": 41,
      "metadata": {
        "id": "TL8zt-tHLt90",
        "colab": {
          "base_uri": "https://localhost:8080/"
        },
        "outputId": "dc9f4d22-a994-4dcf-b3df-3dbf7e75d0a8"
      },
      "outputs": [
        {
          "output_type": "execute_result",
          "data": {
            "text/plain": [
              "X65      0.301125\n",
              "X61      0.356556\n",
              "X111     0.357373\n",
              "X33      0.357905\n",
              "X40      0.358773\n",
              "X83      0.359304\n",
              "X90      0.359469\n",
              "X97      0.359704\n",
              "X104     0.360035\n",
              "X47      0.360466\n",
              "X54      0.361992\n",
              "X55      0.375927\n",
              "X113     0.388689\n",
              "X106     0.391058\n",
              "X85      0.396061\n",
              "X92      0.396165\n",
              "X99      0.396202\n",
              "X3       0.409439\n",
              "X18      0.409439\n",
              "X21      0.430490\n",
              "X6       0.430490\n",
              "X35      0.436232\n",
              "X42      0.437304\n",
              "X49      0.440699\n",
              "X63      0.440790\n",
              "X56      0.445148\n",
              "X24      0.481127\n",
              "X9       0.481127\n",
              "X12      0.549301\n",
              "X27      0.549301\n",
              "X82      0.554207\n",
              "X15      0.555264\n",
              "X30      0.555264\n",
              "X17      0.574194\n",
              "X2       0.574194\n",
              "X89      0.592376\n",
              "X20      0.618340\n",
              "X5       0.618340\n",
              "X1       0.632051\n",
              "X110     0.651532\n",
              "X96      0.667468\n",
              "X103     0.678989\n",
              "X14      0.686500\n",
              "X29      0.686500\n",
              "X23      0.704743\n",
              "X8       0.704743\n",
              "X26      0.718131\n",
              "X11      0.718131\n",
              "label    1.000000\n",
              "Name: label, dtype: float64"
            ]
          },
          "metadata": {},
          "execution_count": 41
        }
      ],
      "source": [
        "corr= bin_data.corr()\n",
        "corr_y = abs(corr['label'])\n",
        "highest_corr = corr_y[corr_y >0.3]\n",
        "highest_corr.sort_values(ascending=True)"
      ]
    },
    {
      "cell_type": "code",
      "source": [
        "plt.matshow(corr)\n",
        "plt.show()"
      ],
      "metadata": {
        "id": "q4b094WVtQQ7",
        "colab": {
          "base_uri": "https://localhost:8080/",
          "height": 437
        },
        "outputId": "13d79c5b-52c9-4f7f-c713-fafd8366fade"
      },
      "execution_count": 42,
      "outputs": [
        {
          "output_type": "display_data",
          "data": {
            "text/plain": [
              "<Figure size 480x480 with 1 Axes>"
            ],
            "image/png": "[encoded data removed]"
          },
          "metadata": {}
        }
      ]
    },
    {
      "cell_type": "markdown",
      "metadata": {
        "id": "ZHhtNjFLPj6Y"
      },
      "source": [
        "## **LSTM Classifier**"
      ]
    },
    {
      "cell_type": "code",
      "execution_count": 43,
      "metadata": {
        "id": "DTNPkQMNL5Eh",
        "colab": {
          "base_uri": "https://localhost:8080/"
        },
        "outputId": "d85fc93a-7998-4e6c-e5d4-670073397f23"
      },
      "outputs": [
        {
          "output_type": "execute_result",
          "data": {
            "text/plain": [
              "(5730, 117)"
            ]
          },
          "metadata": {},
          "execution_count": 43
        }
      ],
      "source": [
        "X_train = np.array(X_train)\n",
        "X_test = np.array(X_test)\n",
        "# y_train.shape   #(18896,)\n",
        "X_train.shape"
      ]
    },
    {
      "cell_type": "code",
      "execution_count": 44,
      "metadata": {
        "id": "9n-QlBDXPMl4",
        "colab": {
          "base_uri": "https://localhost:8080/"
        },
        "outputId": "dc905880-1f7d-4c68-c787-49a70ea72f88"
      },
      "outputs": [
        {
          "output_type": "execute_result",
          "data": {
            "text/plain": [
              "numpy.ndarray"
            ]
          },
          "metadata": {},
          "execution_count": 44
        }
      ],
      "source": [
        "y_train = np.array(y_train)\n",
        "type(y_train)"
      ]
    },
    {
      "cell_type": "code",
      "execution_count": 45,
      "metadata": {
        "id": "-8Ro_ZRQPdZz",
        "colab": {
          "base_uri": "https://localhost:8080/"
        },
        "outputId": "c01bde4d-0090-4b50-bd59-cd58829e2280"
      },
      "outputs": [
        {
          "output_type": "execute_result",
          "data": {
            "text/plain": [
              "(5730, 1, 117)"
            ]
          },
          "metadata": {},
          "execution_count": 45
        }
      ],
      "source": [
        "x_train = np.reshape(X_train, (X_train.shape[0],1,X_train.shape[1]))\n",
        "x_train.shape"
      ]
    },
    {
      "cell_type": "code",
      "source": [
        "x_train.shape[2]"
      ],
      "metadata": {
        "id": "EuvuETcGpkje",
        "colab": {
          "base_uri": "https://localhost:8080/"
        },
        "outputId": "8dfc2b91-2abd-462d-aa55-155738aaffe4"
      },
      "execution_count": 46,
      "outputs": [
        {
          "output_type": "execute_result",
          "data": {
            "text/plain": [
              "117"
            ]
          },
          "metadata": {},
          "execution_count": 46
        }
      ]
    },
    {
      "cell_type": "code",
      "execution_count": 47,
      "metadata": {
        "id": "pLIl946zQQwG",
        "colab": {
          "base_uri": "https://localhost:8080/"
        },
        "outputId": "70b56236-1107-428a-ebdc-3c877887e8f9"
      },
      "outputs": [
        {
          "output_type": "execute_result",
          "data": {
            "text/plain": [
              "(1911, 1, 117)"
            ]
          },
          "metadata": {},
          "execution_count": 47
        }
      ],
      "source": [
        "x_test = np.reshape(X_test, (X_test.shape[0],1,X_test.shape[1]))\n",
        "x_test.shape"
      ]
    },
    {
      "cell_type": "code",
      "execution_count": 48,
      "metadata": {
        "id": "jWsrkPEmQcY7"
      },
      "outputs": [],
      "source": [
        "if model_selection[model_flag]==\"ALL\" or model_selection[model_flag] == \"LSTM\":\n",
        "  lst = Sequential()\n",
        "  # input layer and LSTM layer with 50 neurons\n",
        "  input_features = x_train.shape[2]\n",
        "  lst.add(LSTM(50,input_dim=input_features))\n",
        "\n",
        "  # outpute layer with sigmoid activation\n",
        "  lst.add(Dense(1,activation='sigmoid'))"
      ]
    },
    {
      "cell_type": "code",
      "execution_count": 49,
      "metadata": {
        "id": "UEmba1H9Q_qj"
      },
      "outputs": [],
      "source": [
        "if model_selection[model_flag]==\"ALL\" or model_selection[model_flag] == \"LSTM\":\n",
        "  # defining loss function, optimizer, metrics and then compiling model\n",
        "  lst.compile(loss='binary_crossentropy',optimizer='adam',metrics=['accuracy'])"
      ]
    },
    {
      "cell_type": "code",
      "execution_count": 50,
      "metadata": {
        "id": "anR58jV2RCtz",
        "colab": {
          "base_uri": "https://localhost:8080/"
        },
        "outputId": "251fdd82-ea77-4e32-a3c2-76119a89197d"
      },
      "outputs": [
        {
          "output_type": "stream",
          "name": "stdout",
          "text": [
            "Model: \"sequential_1\"\n",
            "_________________________________________________________________\n",
            " Layer (type)                Output Shape              Param #   \n",
            "=================================================================\n",
            " lstm (LSTM)                 (None, 50)                33600     \n",
            "                                                                 \n",
            " dense_2 (Dense)             (None, 1)                 51        \n",
            "                                                                 \n",
            "=================================================================\n",
            "Total params: 33,651\n",
            "Trainable params: 33,651\n",
            "Non-trainable params: 0\n",
            "_________________________________________________________________\n"
          ]
        }
      ],
      "source": [
        "if model_selection[model_flag]==\"ALL\" or model_selection[model_flag] == \"LSTM\":\n",
        "  # summary of model layers\n",
        "  lst.summary()"
      ]
    },
    {
      "cell_type": "code",
      "execution_count": 51,
      "metadata": {
        "id": "_Pa4Qi12RJS_",
        "colab": {
          "base_uri": "https://localhost:8080/"
        },
        "outputId": "459656aa-3f32-4ffc-a38b-8d9ec1f9d712"
      },
      "outputs": [
        {
          "output_type": "stream",
          "name": "stdout",
          "text": [
            "Epoch 1/100\n",
            "1/1 [==============================] - 3s 3s/step - loss: 0.7169 - accuracy: 0.1573 - val_loss: 0.6932 - val_accuracy: 0.5236\n",
            "Epoch 2/100\n",
            "1/1 [==============================] - 0s 39ms/step - loss: 0.6926 - accuracy: 0.5572 - val_loss: 0.6695 - val_accuracy: 0.8403\n",
            "Epoch 3/100\n",
            "1/1 [==============================] - 0s 40ms/step - loss: 0.6693 - accuracy: 0.8416 - val_loss: 0.6469 - val_accuracy: 0.8534\n",
            "Epoch 4/100\n",
            "1/1 [==============================] - 0s 55ms/step - loss: 0.6470 - accuracy: 0.8445 - val_loss: 0.6252 - val_accuracy: 0.8551\n",
            "Epoch 5/100\n",
            "1/1 [==============================] - 0s 56ms/step - loss: 0.6257 - accuracy: 0.8432 - val_loss: 0.6044 - val_accuracy: 0.8551\n",
            "Epoch 6/100\n",
            "1/1 [==============================] - 0s 38ms/step - loss: 0.6053 - accuracy: 0.8429 - val_loss: 0.5844 - val_accuracy: 0.8551\n",
            "Epoch 7/100\n",
            "1/1 [==============================] - 0s 36ms/step - loss: 0.5857 - accuracy: 0.8429 - val_loss: 0.5653 - val_accuracy: 0.8551\n",
            "Epoch 8/100\n",
            "1/1 [==============================] - 0s 53ms/step - loss: 0.5669 - accuracy: 0.8429 - val_loss: 0.5470 - val_accuracy: 0.8551\n",
            "Epoch 9/100\n",
            "1/1 [==============================] - 0s 39ms/step - loss: 0.5490 - accuracy: 0.8429 - val_loss: 0.5294 - val_accuracy: 0.8551\n",
            "Epoch 10/100\n",
            "1/1 [==============================] - 0s 38ms/step - loss: 0.5318 - accuracy: 0.8429 - val_loss: 0.5127 - val_accuracy: 0.8551\n",
            "Epoch 11/100\n",
            "1/1 [==============================] - 0s 36ms/step - loss: 0.5154 - accuracy: 0.8429 - val_loss: 0.4967 - val_accuracy: 0.8551\n",
            "Epoch 12/100\n",
            "1/1 [==============================] - 0s 54ms/step - loss: 0.4997 - accuracy: 0.8429 - val_loss: 0.4814 - val_accuracy: 0.8551\n",
            "Epoch 13/100\n",
            "1/1 [==============================] - 0s 37ms/step - loss: 0.4848 - accuracy: 0.8429 - val_loss: 0.4668 - val_accuracy: 0.8551\n",
            "Epoch 14/100\n",
            "1/1 [==============================] - 0s 35ms/step - loss: 0.4706 - accuracy: 0.8429 - val_loss: 0.4530 - val_accuracy: 0.8551\n",
            "Epoch 15/100\n",
            "1/1 [==============================] - 0s 52ms/step - loss: 0.4571 - accuracy: 0.8429 - val_loss: 0.4399 - val_accuracy: 0.8551\n",
            "Epoch 16/100\n",
            "1/1 [==============================] - 0s 45ms/step - loss: 0.4443 - accuracy: 0.8429 - val_loss: 0.4274 - val_accuracy: 0.8551\n",
            "Epoch 17/100\n",
            "1/1 [==============================] - 0s 61ms/step - loss: 0.4322 - accuracy: 0.8429 - val_loss: 0.4157 - val_accuracy: 0.8551\n",
            "Epoch 18/100\n",
            "1/1 [==============================] - 0s 60ms/step - loss: 0.4208 - accuracy: 0.8429 - val_loss: 0.4046 - val_accuracy: 0.8551\n",
            "Epoch 19/100\n",
            "1/1 [==============================] - 0s 57ms/step - loss: 0.4099 - accuracy: 0.8429 - val_loss: 0.3941 - val_accuracy: 0.8551\n",
            "Epoch 20/100\n",
            "1/1 [==============================] - 0s 54ms/step - loss: 0.3998 - accuracy: 0.8429 - val_loss: 0.3842 - val_accuracy: 0.8551\n",
            "Epoch 21/100\n",
            "1/1 [==============================] - 0s 49ms/step - loss: 0.3902 - accuracy: 0.8434 - val_loss: 0.3750 - val_accuracy: 0.8560\n",
            "Epoch 22/100\n",
            "1/1 [==============================] - 0s 45ms/step - loss: 0.3812 - accuracy: 0.8434 - val_loss: 0.3663 - val_accuracy: 0.8560\n",
            "Epoch 23/100\n",
            "1/1 [==============================] - 0s 63ms/step - loss: 0.3727 - accuracy: 0.8434 - val_loss: 0.3581 - val_accuracy: 0.8560\n",
            "Epoch 24/100\n",
            "1/1 [==============================] - 0s 52ms/step - loss: 0.3648 - accuracy: 0.8432 - val_loss: 0.3505 - val_accuracy: 0.8560\n",
            "Epoch 25/100\n",
            "1/1 [==============================] - 0s 68ms/step - loss: 0.3574 - accuracy: 0.8432 - val_loss: 0.3434 - val_accuracy: 0.8560\n",
            "Epoch 26/100\n",
            "1/1 [==============================] - 0s 60ms/step - loss: 0.3505 - accuracy: 0.8434 - val_loss: 0.3368 - val_accuracy: 0.8560\n",
            "Epoch 27/100\n",
            "1/1 [==============================] - 0s 68ms/step - loss: 0.3440 - accuracy: 0.8434 - val_loss: 0.3306 - val_accuracy: 0.8560\n",
            "Epoch 28/100\n",
            "1/1 [==============================] - 0s 67ms/step - loss: 0.3379 - accuracy: 0.8434 - val_loss: 0.3247 - val_accuracy: 0.8560\n",
            "Epoch 29/100\n",
            "1/1 [==============================] - 0s 66ms/step - loss: 0.3322 - accuracy: 0.8425 - val_loss: 0.3193 - val_accuracy: 0.8560\n",
            "Epoch 30/100\n",
            "1/1 [==============================] - 0s 61ms/step - loss: 0.3269 - accuracy: 0.8425 - val_loss: 0.3142 - val_accuracy: 0.8560\n",
            "Epoch 31/100\n",
            "1/1 [==============================] - 0s 69ms/step - loss: 0.3218 - accuracy: 0.8425 - val_loss: 0.3094 - val_accuracy: 0.8551\n",
            "Epoch 32/100\n",
            "1/1 [==============================] - 0s 73ms/step - loss: 0.3171 - accuracy: 0.8425 - val_loss: 0.3049 - val_accuracy: 0.8551\n",
            "Epoch 33/100\n",
            "1/1 [==============================] - 0s 69ms/step - loss: 0.3126 - accuracy: 0.8423 - val_loss: 0.3007 - val_accuracy: 0.8560\n",
            "Epoch 34/100\n",
            "1/1 [==============================] - 0s 49ms/step - loss: 0.3084 - accuracy: 0.8423 - val_loss: 0.2967 - val_accuracy: 0.8560\n",
            "Epoch 35/100\n",
            "1/1 [==============================] - 0s 51ms/step - loss: 0.3043 - accuracy: 0.8425 - val_loss: 0.2929 - val_accuracy: 0.8560\n",
            "Epoch 36/100\n",
            "1/1 [==============================] - 0s 57ms/step - loss: 0.3005 - accuracy: 0.8425 - val_loss: 0.2892 - val_accuracy: 0.8560\n",
            "Epoch 37/100\n",
            "1/1 [==============================] - 0s 53ms/step - loss: 0.2968 - accuracy: 0.8429 - val_loss: 0.2858 - val_accuracy: 0.8560\n",
            "Epoch 38/100\n",
            "1/1 [==============================] - 0s 50ms/step - loss: 0.2932 - accuracy: 0.8436 - val_loss: 0.2824 - val_accuracy: 0.8560\n",
            "Epoch 39/100\n",
            "1/1 [==============================] - 0s 62ms/step - loss: 0.2897 - accuracy: 0.8447 - val_loss: 0.2792 - val_accuracy: 0.8560\n",
            "Epoch 40/100\n",
            "1/1 [==============================] - 0s 50ms/step - loss: 0.2863 - accuracy: 0.8453 - val_loss: 0.2761 - val_accuracy: 0.8551\n",
            "Epoch 41/100\n",
            "1/1 [==============================] - 0s 49ms/step - loss: 0.2830 - accuracy: 0.8460 - val_loss: 0.2730 - val_accuracy: 0.8560\n",
            "Epoch 42/100\n",
            "1/1 [==============================] - 0s 49ms/step - loss: 0.2797 - accuracy: 0.8466 - val_loss: 0.2701 - val_accuracy: 0.8569\n",
            "Epoch 43/100\n",
            "1/1 [==============================] - 0s 210ms/step - loss: 0.2765 - accuracy: 0.8469 - val_loss: 0.2672 - val_accuracy: 0.8551\n",
            "Epoch 44/100\n",
            "1/1 [==============================] - 0s 164ms/step - loss: 0.2734 - accuracy: 0.8462 - val_loss: 0.2643 - val_accuracy: 0.8543\n",
            "Epoch 45/100\n",
            "1/1 [==============================] - 0s 94ms/step - loss: 0.2703 - accuracy: 0.8460 - val_loss: 0.2615 - val_accuracy: 0.8534\n",
            "Epoch 46/100\n",
            "1/1 [==============================] - 0s 63ms/step - loss: 0.2672 - accuracy: 0.8471 - val_loss: 0.2588 - val_accuracy: 0.8534\n",
            "Epoch 47/100\n",
            "1/1 [==============================] - 0s 62ms/step - loss: 0.2641 - accuracy: 0.8477 - val_loss: 0.2561 - val_accuracy: 0.8551\n",
            "Epoch 48/100\n",
            "1/1 [==============================] - 0s 71ms/step - loss: 0.2611 - accuracy: 0.8493 - val_loss: 0.2534 - val_accuracy: 0.8569\n",
            "Epoch 49/100\n",
            "1/1 [==============================] - 0s 66ms/step - loss: 0.2581 - accuracy: 0.8501 - val_loss: 0.2508 - val_accuracy: 0.8560\n",
            "Epoch 50/100\n",
            "1/1 [==============================] - 0s 52ms/step - loss: 0.2552 - accuracy: 0.8512 - val_loss: 0.2483 - val_accuracy: 0.8569\n",
            "Epoch 51/100\n",
            "1/1 [==============================] - 0s 46ms/step - loss: 0.2523 - accuracy: 0.8519 - val_loss: 0.2457 - val_accuracy: 0.8560\n",
            "Epoch 52/100\n",
            "1/1 [==============================] - 0s 56ms/step - loss: 0.2494 - accuracy: 0.8530 - val_loss: 0.2433 - val_accuracy: 0.8551\n",
            "Epoch 53/100\n",
            "1/1 [==============================] - 0s 55ms/step - loss: 0.2465 - accuracy: 0.8534 - val_loss: 0.2408 - val_accuracy: 0.8560\n",
            "Epoch 54/100\n",
            "1/1 [==============================] - 0s 62ms/step - loss: 0.2437 - accuracy: 0.8543 - val_loss: 0.2385 - val_accuracy: 0.8560\n",
            "Epoch 55/100\n",
            "1/1 [==============================] - 0s 67ms/step - loss: 0.2410 - accuracy: 0.8551 - val_loss: 0.2361 - val_accuracy: 0.8551\n",
            "Epoch 56/100\n",
            "1/1 [==============================] - 0s 65ms/step - loss: 0.2383 - accuracy: 0.8562 - val_loss: 0.2338 - val_accuracy: 0.8569\n",
            "Epoch 57/100\n",
            "1/1 [==============================] - 0s 61ms/step - loss: 0.2356 - accuracy: 0.8567 - val_loss: 0.2316 - val_accuracy: 0.8560\n",
            "Epoch 58/100\n",
            "1/1 [==============================] - 0s 72ms/step - loss: 0.2330 - accuracy: 0.8558 - val_loss: 0.2294 - val_accuracy: 0.8569\n",
            "Epoch 59/100\n",
            "1/1 [==============================] - 0s 49ms/step - loss: 0.2305 - accuracy: 0.8575 - val_loss: 0.2273 - val_accuracy: 0.8578\n",
            "Epoch 60/100\n",
            "1/1 [==============================] - 0s 60ms/step - loss: 0.2280 - accuracy: 0.8589 - val_loss: 0.2253 - val_accuracy: 0.8586\n",
            "Epoch 61/100\n",
            "1/1 [==============================] - 0s 63ms/step - loss: 0.2256 - accuracy: 0.8610 - val_loss: 0.2233 - val_accuracy: 0.8630\n",
            "Epoch 62/100\n",
            "1/1 [==============================] - 0s 67ms/step - loss: 0.2233 - accuracy: 0.8645 - val_loss: 0.2213 - val_accuracy: 0.8647\n",
            "Epoch 63/100\n",
            "1/1 [==============================] - 0s 62ms/step - loss: 0.2210 - accuracy: 0.8671 - val_loss: 0.2194 - val_accuracy: 0.8691\n",
            "Epoch 64/100\n",
            "1/1 [==============================] - 0s 73ms/step - loss: 0.2188 - accuracy: 0.8695 - val_loss: 0.2176 - val_accuracy: 0.8726\n",
            "Epoch 65/100\n",
            "1/1 [==============================] - 0s 68ms/step - loss: 0.2166 - accuracy: 0.8711 - val_loss: 0.2158 - val_accuracy: 0.8735\n",
            "Epoch 66/100\n",
            "1/1 [==============================] - 0s 61ms/step - loss: 0.2145 - accuracy: 0.8709 - val_loss: 0.2141 - val_accuracy: 0.8717\n",
            "Epoch 67/100\n",
            "1/1 [==============================] - 0s 47ms/step - loss: 0.2125 - accuracy: 0.8700 - val_loss: 0.2124 - val_accuracy: 0.8691\n",
            "Epoch 68/100\n",
            "1/1 [==============================] - 0s 71ms/step - loss: 0.2105 - accuracy: 0.8695 - val_loss: 0.2108 - val_accuracy: 0.8674\n",
            "Epoch 69/100\n",
            "1/1 [==============================] - 0s 48ms/step - loss: 0.2086 - accuracy: 0.8687 - val_loss: 0.2092 - val_accuracy: 0.8656\n",
            "Epoch 70/100\n",
            "1/1 [==============================] - 0s 51ms/step - loss: 0.2068 - accuracy: 0.8680 - val_loss: 0.2077 - val_accuracy: 0.8674\n",
            "Epoch 71/100\n",
            "1/1 [==============================] - 0s 46ms/step - loss: 0.2050 - accuracy: 0.8687 - val_loss: 0.2062 - val_accuracy: 0.8691\n",
            "Epoch 72/100\n",
            "1/1 [==============================] - 0s 39ms/step - loss: 0.2032 - accuracy: 0.8698 - val_loss: 0.2047 - val_accuracy: 0.8709\n",
            "Epoch 73/100\n",
            "1/1 [==============================] - 0s 35ms/step - loss: 0.2015 - accuracy: 0.8695 - val_loss: 0.2033 - val_accuracy: 0.8726\n",
            "Epoch 74/100\n",
            "1/1 [==============================] - 0s 36ms/step - loss: 0.1999 - accuracy: 0.8700 - val_loss: 0.2019 - val_accuracy: 0.8735\n",
            "Epoch 75/100\n",
            "1/1 [==============================] - 0s 36ms/step - loss: 0.1983 - accuracy: 0.8719 - val_loss: 0.2005 - val_accuracy: 0.8761\n",
            "Epoch 76/100\n",
            "1/1 [==============================] - 0s 36ms/step - loss: 0.1967 - accuracy: 0.8761 - val_loss: 0.1992 - val_accuracy: 0.8866\n",
            "Epoch 77/100\n",
            "1/1 [==============================] - 0s 36ms/step - loss: 0.1952 - accuracy: 0.8846 - val_loss: 0.1979 - val_accuracy: 0.8866\n",
            "Epoch 78/100\n",
            "1/1 [==============================] - 0s 48ms/step - loss: 0.1937 - accuracy: 0.8874 - val_loss: 0.1966 - val_accuracy: 0.8892\n",
            "Epoch 79/100\n",
            "1/1 [==============================] - 0s 46ms/step - loss: 0.1923 - accuracy: 0.8887 - val_loss: 0.1953 - val_accuracy: 0.8901\n",
            "Epoch 80/100\n",
            "1/1 [==============================] - 0s 36ms/step - loss: 0.1909 - accuracy: 0.8896 - val_loss: 0.1940 - val_accuracy: 0.8901\n",
            "Epoch 81/100\n",
            "1/1 [==============================] - 0s 37ms/step - loss: 0.1895 - accuracy: 0.8922 - val_loss: 0.1928 - val_accuracy: 0.8918\n",
            "Epoch 82/100\n",
            "1/1 [==============================] - 0s 36ms/step - loss: 0.1881 - accuracy: 0.8962 - val_loss: 0.1915 - val_accuracy: 0.8944\n",
            "Epoch 83/100\n",
            "1/1 [==============================] - 0s 42ms/step - loss: 0.1868 - accuracy: 0.9005 - val_loss: 0.1903 - val_accuracy: 0.8988\n",
            "Epoch 84/100\n",
            "1/1 [==============================] - 0s 41ms/step - loss: 0.1855 - accuracy: 0.9042 - val_loss: 0.1891 - val_accuracy: 0.9023\n",
            "Epoch 85/100\n",
            "1/1 [==============================] - 0s 47ms/step - loss: 0.1842 - accuracy: 0.9088 - val_loss: 0.1879 - val_accuracy: 0.9031\n",
            "Epoch 86/100\n",
            "1/1 [==============================] - 0s 41ms/step - loss: 0.1829 - accuracy: 0.9123 - val_loss: 0.1867 - val_accuracy: 0.9092\n",
            "Epoch 87/100\n",
            "1/1 [==============================] - 0s 36ms/step - loss: 0.1816 - accuracy: 0.9178 - val_loss: 0.1855 - val_accuracy: 0.9180\n",
            "Epoch 88/100\n",
            "1/1 [==============================] - 0s 38ms/step - loss: 0.1804 - accuracy: 0.9247 - val_loss: 0.1843 - val_accuracy: 0.9284\n",
            "Epoch 89/100\n",
            "1/1 [==============================] - 0s 48ms/step - loss: 0.1792 - accuracy: 0.9346 - val_loss: 0.1832 - val_accuracy: 0.9328\n",
            "Epoch 90/100\n",
            "1/1 [==============================] - 0s 36ms/step - loss: 0.1780 - accuracy: 0.9418 - val_loss: 0.1820 - val_accuracy: 0.9424\n",
            "Epoch 91/100\n",
            "1/1 [==============================] - 0s 39ms/step - loss: 0.1768 - accuracy: 0.9479 - val_loss: 0.1808 - val_accuracy: 0.9442\n",
            "Epoch 92/100\n",
            "1/1 [==============================] - 0s 36ms/step - loss: 0.1756 - accuracy: 0.9509 - val_loss: 0.1797 - val_accuracy: 0.9520\n",
            "Epoch 93/100\n",
            "1/1 [==============================] - 0s 39ms/step - loss: 0.1745 - accuracy: 0.9524 - val_loss: 0.1785 - val_accuracy: 0.9529\n",
            "Epoch 94/100\n",
            "1/1 [==============================] - 0s 60ms/step - loss: 0.1733 - accuracy: 0.9538 - val_loss: 0.1774 - val_accuracy: 0.9529\n",
            "Epoch 95/100\n",
            "1/1 [==============================] - 0s 38ms/step - loss: 0.1722 - accuracy: 0.9542 - val_loss: 0.1763 - val_accuracy: 0.9529\n",
            "Epoch 96/100\n",
            "1/1 [==============================] - 0s 56ms/step - loss: 0.1711 - accuracy: 0.9544 - val_loss: 0.1752 - val_accuracy: 0.9538\n",
            "Epoch 97/100\n",
            "1/1 [==============================] - 0s 43ms/step - loss: 0.1700 - accuracy: 0.9548 - val_loss: 0.1740 - val_accuracy: 0.9538\n",
            "Epoch 98/100\n",
            "1/1 [==============================] - 0s 47ms/step - loss: 0.1689 - accuracy: 0.9551 - val_loss: 0.1729 - val_accuracy: 0.9538\n",
            "Epoch 99/100\n",
            "1/1 [==============================] - 0s 37ms/step - loss: 0.1678 - accuracy: 0.9551 - val_loss: 0.1718 - val_accuracy: 0.9538\n",
            "Epoch 100/100\n",
            "1/1 [==============================] - 0s 41ms/step - loss: 0.1667 - accuracy: 0.9557 - val_loss: 0.1707 - val_accuracy: 0.9538\n"
          ]
        }
      ],
      "source": [
        "if model_selection[model_flag]==\"ALL\" or model_selection[model_flag] == \"LSTM\":\n",
        "  # training the model on training dataset\n",
        "  history = lst.fit(x_train, y_train, epochs=100, batch_size=5000,validation_split=0.2)"
      ]
    },
    {
      "cell_type": "code",
      "execution_count": 52,
      "metadata": {
        "id": "BCQtvJcXRcNr",
        "colab": {
          "base_uri": "https://localhost:8080/"
        },
        "outputId": "d82e2d9c-d895-402b-a519-8f9931ccf744"
      },
      "outputs": [
        {
          "output_type": "stream",
          "name": "stdout",
          "text": [
            "Saved model to disk\n",
            "Loaded model from disk\n"
          ]
        }
      ],
      "source": [
        "if model_selection[model_flag]==\"ALL\" or model_selection[model_flag] == \"LSTM\":\n",
        "  filepath = '/content/drive/MyDrive/Colab_Notebooks/Models/lst_binary_kitsune'+model_name_suffix+'.json'\n",
        "  weightspath = '/content/drive/MyDrive/Colab_Notebooks/Weights/lst_binary_kitsune'+model_name_suffix+'.h5'\n",
        "  if (not path.isfile(filepath)):\n",
        "    # serialize model to JSON\n",
        "    lst_json = lst.to_json()\n",
        "    with open(filepath, \"w\") as json_file:\n",
        "      json_file.write(lst_json)\n",
        "\n",
        "    # serialize weights to HDF5\n",
        "    lst.save_weights(weightspath)\n",
        "    print(\"Saved model to disk\")\n",
        "\n",
        "    # load json and create model\n",
        "    json_file = open(filepath, 'r')\n",
        "    loaded_model_json = json_file.read()\n",
        "    json_file.close()\n",
        "    lst = model_from_json(loaded_model_json)\n",
        "\n",
        "    # load weights into new model\n",
        "    lst.load_weights(weightspath)\n",
        "    print(\"Loaded model from disk\")"
      ]
    },
    {
      "cell_type": "code",
      "execution_count": 53,
      "metadata": {
        "id": "rPaW37T-R0dG",
        "colab": {
          "base_uri": "https://localhost:8080/"
        },
        "outputId": "3f59ec1f-9a55-4471-aca5-12fe29f60db4"
      },
      "outputs": [
        {
          "output_type": "stream",
          "name": "stdout",
          "text": [
            "Loaded model from disk\n"
          ]
        }
      ],
      "source": [
        "if model_selection[model_flag]==\"ALL\" or model_selection[model_flag] == \"LSTM\":\n",
        "  # load json and create model\n",
        "  json_file = open(filepath, 'r')\n",
        "  loaded_model_json = json_file.read()\n",
        "  json_file.close()\n",
        "  lst = model_from_json(loaded_model_json)\n",
        "\n",
        "  # load weights into new model\n",
        "  lst.load_weights(weightspath)\n",
        "  print(\"Loaded model from disk\")"
      ]
    },
    {
      "cell_type": "code",
      "execution_count": 54,
      "metadata": {
        "id": "ukGDdSggR3na"
      },
      "outputs": [],
      "source": [
        "if model_selection[model_flag]==\"ALL\" or model_selection[model_flag] == \"LSTM\":\n",
        "  # defining loss function, optimizer, metrics and then compiling model\n",
        "  lst.compile(loss='binary_crossentropy',optimizer='adam',metrics=['accuracy'])"
      ]
    },
    {
      "cell_type": "code",
      "execution_count": 55,
      "metadata": {
        "id": "nvjY0u97R68f",
        "colab": {
          "base_uri": "https://localhost:8080/"
        },
        "outputId": "e4dfda1d-f792-452f-f494-bd10c88a80de"
      },
      "outputs": [
        {
          "output_type": "stream",
          "name": "stdout",
          "text": [
            "60/60 [==============================] - 1s 3ms/step - loss: 0.7732 - accuracy: 0.2439\n",
            "Test results - Loss: 0.7731915712356567 - Accuracy: 24.38513934612274%\n"
          ]
        }
      ],
      "source": [
        "if model_selection[model_flag]==\"ALL\" or model_selection[model_flag] == \"LSTM\":\n",
        "  # predicting target attribute on testing dataset\n",
        "  test_results = lst.evaluate(x_test, y_test, verbose=1)\n",
        "  print(f'Test results - Loss: {test_results[0]} - Accuracy: {test_results[1]*100}%')"
      ]
    },
    {
      "cell_type": "code",
      "execution_count": 56,
      "metadata": {
        "id": "f8yKMcIHR_jP",
        "colab": {
          "base_uri": "https://localhost:8080/",
          "height": 472
        },
        "outputId": "2de402bb-423b-4274-84c2-62235fe8f5fe"
      },
      "outputs": [
        {
          "output_type": "display_data",
          "data": {
            "text/plain": [
              "<Figure size 640x480 with 1 Axes>"
            ],
            "image/png": "[encoded data removed]"
          },
          "metadata": {}
        }
      ],
      "source": [
        "if model_selection[model_flag]==\"ALL\" or model_selection[model_flag] == \"LSTM\":\n",
        "  # Plot of accuracy vs epoch of train and test dataset\n",
        "  plt.plot(history.history['accuracy'])\n",
        "  plt.plot(history.history['val_accuracy'])\n",
        "  plt.title(\"Plot of accuracy vs epoch for train and test dataset\")\n",
        "  plt.ylabel('accuracy')\n",
        "  plt.xlabel('epoch')\n",
        "  plt.legend(['train', 'test'], loc='best')\n",
        "  plt.savefig('/content/drive/MyDrive/Colab_Notebooks/Plots/lstm_binary_accuracy.png')\n",
        "  plt.show()"
      ]
    },
    {
      "cell_type": "code",
      "execution_count": 57,
      "metadata": {
        "id": "M5g1Rw_SSb5n",
        "colab": {
          "base_uri": "https://localhost:8080/",
          "height": 472
        },
        "outputId": "9b3c848f-fc83-4f5c-80d9-78617d47134b"
      },
      "outputs": [
        {
          "output_type": "display_data",
          "data": {
            "text/plain": [
              "<Figure size 640x480 with 1 Axes>"
            ],
            "image/png": "[encoded data removed]"
          },
          "metadata": {}
        }
      ],
      "source": [
        "if model_selection[model_flag]==\"ALL\" or model_selection[model_flag] == \"LSTM\":\n",
        "  # Plot of loss vs epoch of train and test dataset\n",
        "  plt.plot(history.history['loss'])\n",
        "  plt.plot(history.history['val_loss'])\n",
        "  plt.title(\"Plot of loss vs epoch for train and test dataset\")\n",
        "  plt.ylabel('loss')\n",
        "  plt.xlabel('epoch')\n",
        "  plt.legend(['train', 'test'], loc='best')\n",
        "  plt.savefig('/content/drive/MyDrive/Colab_Notebooks/Plots/lstm_binary_loss.png')\n",
        "  plt.show()"
      ]
    },
    {
      "cell_type": "code",
      "execution_count": 58,
      "metadata": {
        "id": "osZa2OV9Se-T"
      },
      "outputs": [],
      "source": [
        "if model_selection[model_flag]==\"ALL\" or model_selection[model_flag] == \"LSTM\":\n",
        "  # representation of model layers\n",
        "  plot_model(lst, to_file='/content/drive/MyDrive/Colab_Notebooks/Plots/lstm_binary.png', show_shapes=True,)"
      ]
    },
    {
      "cell_type": "code",
      "execution_count": 59,
      "metadata": {
        "id": "lw4OLD4HSpaY",
        "colab": {
          "base_uri": "https://localhost:8080/"
        },
        "outputId": "ef99255d-13c9-4d28-ce93-962a821b7bfc"
      },
      "outputs": [
        {
          "output_type": "execute_result",
          "data": {
            "text/plain": [
              "(1911,)"
            ]
          },
          "metadata": {},
          "execution_count": 59
        }
      ],
      "source": [
        "y_test = np.array(y_test)\n",
        "y_test.shape"
      ]
    },
    {
      "cell_type": "code",
      "execution_count": 60,
      "metadata": {
        "id": "4BvYVrKsTGr3",
        "colab": {
          "base_uri": "https://localhost:8080/"
        },
        "outputId": "81bacd4d-f70b-4127-d090-0300f1ed667e"
      },
      "outputs": [
        {
          "output_type": "execute_result",
          "data": {
            "text/plain": [
              "numpy.ndarray"
            ]
          },
          "metadata": {},
          "execution_count": 60
        }
      ],
      "source": [
        "type(y_test)"
      ]
    },
    {
      "cell_type": "code",
      "execution_count": 61,
      "metadata": {
        "id": "KBvCGl6BS0FM",
        "colab": {
          "base_uri": "https://localhost:8080/"
        },
        "outputId": "a64c2cec-ec7f-4c9f-e5d0-238868da299a"
      },
      "outputs": [
        {
          "output_type": "stream",
          "name": "stdout",
          "text": [
            "60/60 [==============================] - 0s 2ms/step\n"
          ]
        }
      ],
      "source": [
        "if model_selection[model_flag]==\"ALL\" or model_selection[model_flag] == \"LSTM\":\n",
        "  y_classes = (lst.predict(x_test)>0.5).astype('int32')"
      ]
    },
    {
      "cell_type": "code",
      "execution_count": 62,
      "metadata": {
        "id": "x_yVqBlLTtLW",
        "colab": {
          "base_uri": "https://localhost:8080/"
        },
        "outputId": "eb38d86e-e44f-42e1-b6c3-5b232ad2f240"
      },
      "outputs": [
        {
          "output_type": "stream",
          "name": "stdout",
          "text": [
            "Recall Score -  0.14358001265022138\n",
            "F1 Score -  0.239073196419168\n",
            "Precision Score -  0.7138364779874213\n",
            "False Positive Rate -  [1.         0.27575758]\n",
            "False Negative Rate -  [0.         0.85641999]\n",
            "Thresholds -  [0 1]\n"
          ]
        }
      ],
      "source": [
        "if model_selection[model_flag]==\"ALL\" or model_selection[model_flag] == \"LSTM\":\n",
        "  print(\"Recall Score - \",recall_score(y_test,y_classes))\n",
        "  print(\"F1 Score - \",f1_score(y_test,y_classes))\n",
        "  print(\"Precision Score - \",precision_score(y_test,y_classes))\n",
        "  fpr, fnr, thresholds = det_curve(y_test, y_classes)\n",
        "  print(\"False Positive Rate - \", fpr)\n",
        "  print(\"False Negative Rate - \", fnr)\n",
        "  print(\"Thresholds - \", thresholds)"
      ]
    },
    {
      "cell_type": "code",
      "source": [
        "print(classification_report(y_test, y_classes, target_names=['0', '1']))\n",
        "cm = confusion_matrix(y_test, y_classes)\n",
        "disp = ConfusionMatrixDisplay(confusion_matrix=cm,\n",
        "                              display_labels=['0', '1'])\n",
        "disp.plot()\n",
        "\n",
        "plt.show()"
      ],
      "metadata": {
        "id": "lHw1E32esovH",
        "colab": {
          "base_uri": "https://localhost:8080/",
          "height": 610
        },
        "outputId": "57c4e901-1b13-4dcf-cada-62fab0079cf4"
      },
      "execution_count": 63,
      "outputs": [
        {
          "output_type": "stream",
          "name": "stdout",
          "text": [
            "              precision    recall  f1-score   support\n",
            "\n",
            "           0       0.15      0.72      0.25       330\n",
            "           1       0.71      0.14      0.24      1581\n",
            "\n",
            "    accuracy                           0.24      1911\n",
            "   macro avg       0.43      0.43      0.24      1911\n",
            "weighted avg       0.62      0.24      0.24      1911\n",
            "\n"
          ]
        },
        {
          "output_type": "display_data",
          "data": {
            "text/plain": [
              "<Figure size 640x480 with 2 Axes>"
            ],
            "image/png": "[encoded data removed]"
          },
          "metadata": {}
        }
      ]
    },
    {
      "cell_type": "markdown",
      "metadata": {
        "id": "H_g15uXe82BY"
      },
      "source": [
        "## **Auto Encoder**"
      ]
    },
    {
      "cell_type": "code",
      "execution_count": 64,
      "metadata": {
        "id": "VQ6pDxghmBwB"
      },
      "outputs": [],
      "source": [
        "if model_selection[model_flag]==\"ALL\" or model_selection[model_flag] == \"AE\":\n",
        "  # splitting the dataset 75% for training and 25% testing\n",
        "  X_train, X_test = train_test_split(bin_data, test_size=0.25, random_state=42)"
      ]
    },
    {
      "cell_type": "code",
      "execution_count": 65,
      "metadata": {
        "id": "uogVT92Q_6wh"
      },
      "outputs": [],
      "source": [
        "if model_selection[model_flag]==\"ALL\" or model_selection[model_flag] == \"AE\":\n",
        "  # dataset excluding target attribute (encoded, one-hot-encoded,original)\n",
        "  X_train = X_train.drop(['label'],axis=1) \n",
        "\n",
        "  y_test = X_test['label'] # target attribute\n",
        "\n",
        "  # dataset excluding target attribute (encoded, one-hot-encoded,original)\n",
        "  X_test = X_test.drop(['label'],axis=1)\n",
        "  # calling the normalization() function\n",
        "  X_train = normalization_train(X_train,numeric_cols)\n",
        "  X_test = normalization_test(X_test,numeric_cols)\n",
        "  X_train = X_train.values\n",
        "  X_test = X_test.values\n",
        "  y_test = y_test.values"
      ]
    },
    {
      "cell_type": "code",
      "execution_count": 66,
      "metadata": {
        "id": "s696BM9uKADC"
      },
      "outputs": [],
      "source": [
        "if model_selection[model_flag]==\"ALL\" or model_selection[model_flag] == \"AE\":\n",
        "  input_dim = X_train.shape[1]\n",
        "  encoding_dim = 50\n",
        "\n",
        "  #input layer\n",
        "  input_layer = Input(shape=(input_dim, ))\n",
        "  #encoding layer with 50 neurons\n",
        "  encoder = Dense(encoding_dim, activation=\"relu\")(input_layer)           \n",
        "  #decoding and output layer\n",
        "  output_layer = Dense(input_dim, activation='softmax')(encoder)"
      ]
    },
    {
      "cell_type": "code",
      "execution_count": 67,
      "metadata": {
        "id": "nLn3vHBZLQtj"
      },
      "outputs": [],
      "source": [
        "if model_selection[model_flag]==\"ALL\" or model_selection[model_flag] == \"AE\":\n",
        "  # creating model with input, encoding, decoding, output layers\n",
        "  autoencoder = Model(inputs=input_layer, outputs=output_layer)\n",
        "\n",
        "  # defining loss function, optimizer, metrics and then compiling model\n",
        "  autoencoder.compile(optimizer='adam', loss='mean_squared_error',metrics=['accuracy'])"
      ]
    },
    {
      "cell_type": "code",
      "execution_count": 68,
      "metadata": {
        "id": "X_zk7PMVLVNm",
        "colab": {
          "base_uri": "https://localhost:8080/"
        },
        "outputId": "0a8c1dc6-1243-47d2-a0a9-c506564ca996"
      },
      "outputs": [
        {
          "output_type": "stream",
          "name": "stdout",
          "text": [
            "Model: \"model\"\n",
            "_________________________________________________________________\n",
            " Layer (type)                Output Shape              Param #   \n",
            "=================================================================\n",
            " input_1 (InputLayer)        [(None, 116)]             0         \n",
            "                                                                 \n",
            " dense_3 (Dense)             (None, 50)                5850      \n",
            "                                                                 \n",
            " dense_4 (Dense)             (None, 116)               5916      \n",
            "                                                                 \n",
            "=================================================================\n",
            "Total params: 11,766\n",
            "Trainable params: 11,766\n",
            "Non-trainable params: 0\n",
            "_________________________________________________________________\n"
          ]
        }
      ],
      "source": [
        "if model_selection[model_flag]==\"ALL\" or model_selection[model_flag] == \"AE\":\n",
        "  # summary of model layers\n",
        "  autoencoder.summary()"
      ]
    },
    {
      "cell_type": "code",
      "execution_count": 69,
      "metadata": {
        "id": "We59NbebLdkJ",
        "colab": {
          "base_uri": "https://localhost:8080/"
        },
        "outputId": "aa46281c-4960-43a7-87f3-e6151547484c"
      },
      "outputs": [
        {
          "output_type": "stream",
          "name": "stdout",
          "text": [
            "Epoch 1/100\n",
            "12/12 [==============================] - 1s 28ms/step - loss: 0.1364 - accuracy: 0.0000e+00 - val_loss: 45974462436475541976669313040384.0000 - val_accuracy: 0.0000e+00\n",
            "Epoch 2/100\n",
            "12/12 [==============================] - 0s 10ms/step - loss: 0.1349 - accuracy: 1.7452e-04 - val_loss: 45974462436475541976669313040384.0000 - val_accuracy: 0.0000e+00\n",
            "Epoch 3/100\n",
            "12/12 [==============================] - 0s 9ms/step - loss: 0.1323 - accuracy: 1.7452e-04 - val_loss: 45974462436475541976669313040384.0000 - val_accuracy: 0.0000e+00\n",
            "Epoch 4/100\n",
            "12/12 [==============================] - 0s 8ms/step - loss: 0.1295 - accuracy: 0.0000e+00 - val_loss: 45974462436475541976669313040384.0000 - val_accuracy: 0.0000e+00\n",
            "Epoch 5/100\n",
            "12/12 [==============================] - 0s 8ms/step - loss: 0.1276 - accuracy: 0.0000e+00 - val_loss: 45974462436475541976669313040384.0000 - val_accuracy: 0.0000e+00\n",
            "Epoch 6/100\n",
            "12/12 [==============================] - 0s 10ms/step - loss: 0.1266 - accuracy: 0.0000e+00 - val_loss: 45974462436475541976669313040384.0000 - val_accuracy: 0.0000e+00\n",
            "Epoch 7/100\n",
            "12/12 [==============================] - 0s 9ms/step - loss: 0.1256 - accuracy: 0.0080 - val_loss: 45974462436475541976669313040384.0000 - val_accuracy: 0.0000e+00\n",
            "Epoch 8/100\n",
            "12/12 [==============================] - 0s 9ms/step - loss: 0.1252 - accuracy: 0.4445 - val_loss: 45974462436475541976669313040384.0000 - val_accuracy: 0.0000e+00\n",
            "Epoch 9/100\n",
            "12/12 [==============================] - 0s 9ms/step - loss: 0.1249 - accuracy: 0.1695 - val_loss: 45974462436475541976669313040384.0000 - val_accuracy: 0.0000e+00\n",
            "Epoch 10/100\n",
            "12/12 [==============================] - 0s 11ms/step - loss: 0.1247 - accuracy: 0.0510 - val_loss: 45974462436475541976669313040384.0000 - val_accuracy: 0.0000e+00\n",
            "Epoch 11/100\n",
            "12/12 [==============================] - 0s 9ms/step - loss: 0.1246 - accuracy: 0.5487 - val_loss: 45974462436475541976669313040384.0000 - val_accuracy: 0.0000e+00\n",
            "Epoch 12/100\n",
            "12/12 [==============================] - 0s 9ms/step - loss: 0.1246 - accuracy: 0.2719 - val_loss: 45974462436475541976669313040384.0000 - val_accuracy: 0.0000e+00\n",
            "Epoch 13/100\n",
            "12/12 [==============================] - 0s 9ms/step - loss: 0.1246 - accuracy: 0.2635 - val_loss: 45974462436475541976669313040384.0000 - val_accuracy: 0.0000e+00\n",
            "Epoch 14/100\n",
            "12/12 [==============================] - 0s 12ms/step - loss: 0.1245 - accuracy: 0.3860 - val_loss: 45974462436475541976669313040384.0000 - val_accuracy: 0.0000e+00\n",
            "Epoch 15/100\n",
            "12/12 [==============================] - 0s 9ms/step - loss: 0.1245 - accuracy: 0.2663 - val_loss: 45974462436475541976669313040384.0000 - val_accuracy: 0.0000e+00\n",
            "Epoch 16/100\n",
            "12/12 [==============================] - 0s 9ms/step - loss: 0.1245 - accuracy: 0.3314 - val_loss: 45974462436475541976669313040384.0000 - val_accuracy: 0.0000e+00\n",
            "Epoch 17/100\n",
            "12/12 [==============================] - 0s 10ms/step - loss: 0.1245 - accuracy: 0.2960 - val_loss: 45974462436475541976669313040384.0000 - val_accuracy: 0.0000e+00\n",
            "Epoch 18/100\n",
            "12/12 [==============================] - 0s 9ms/step - loss: 0.1245 - accuracy: 0.3234 - val_loss: 45974462436475541976669313040384.0000 - val_accuracy: 0.0000e+00\n",
            "Epoch 19/100\n",
            "12/12 [==============================] - 0s 9ms/step - loss: 0.1245 - accuracy: 0.3054 - val_loss: 45974462436475541976669313040384.0000 - val_accuracy: 0.0000e+00\n",
            "Epoch 20/100\n",
            "12/12 [==============================] - 0s 8ms/step - loss: 0.1245 - accuracy: 0.3283 - val_loss: 45974462436475541976669313040384.0000 - val_accuracy: 0.0000e+00\n",
            "Epoch 21/100\n",
            "12/12 [==============================] - 0s 8ms/step - loss: 0.1245 - accuracy: 0.3393 - val_loss: 45974462436475541976669313040384.0000 - val_accuracy: 0.0000e+00\n",
            "Epoch 22/100\n",
            "12/12 [==============================] - 0s 8ms/step - loss: 0.1244 - accuracy: 0.3735 - val_loss: 45974462436475541976669313040384.0000 - val_accuracy: 0.0000e+00\n",
            "Epoch 23/100\n",
            "12/12 [==============================] - 0s 9ms/step - loss: 0.1244 - accuracy: 0.3721 - val_loss: 45974462436475541976669313040384.0000 - val_accuracy: 0.0000e+00\n",
            "Epoch 24/100\n",
            "12/12 [==============================] - 0s 8ms/step - loss: 0.1244 - accuracy: 0.2988 - val_loss: 45974462436475541976669313040384.0000 - val_accuracy: 0.0000e+00\n",
            "Epoch 25/100\n",
            "12/12 [==============================] - 0s 11ms/step - loss: 0.1244 - accuracy: 0.3436 - val_loss: 45974462436475541976669313040384.0000 - val_accuracy: 0.0000e+00\n",
            "Epoch 26/100\n",
            "12/12 [==============================] - 0s 9ms/step - loss: 0.1244 - accuracy: 0.3103 - val_loss: 45974462436475541976669313040384.0000 - val_accuracy: 0.0000e+00\n",
            "Epoch 27/100\n",
            "12/12 [==============================] - 0s 9ms/step - loss: 0.1244 - accuracy: 0.3405 - val_loss: 45974462436475541976669313040384.0000 - val_accuracy: 0.0000e+00\n",
            "Epoch 28/100\n",
            "12/12 [==============================] - 0s 11ms/step - loss: 0.1244 - accuracy: 0.3276 - val_loss: 45974462436475541976669313040384.0000 - val_accuracy: 0.0000e+00\n",
            "Epoch 29/100\n",
            "12/12 [==============================] - 0s 7ms/step - loss: 0.1244 - accuracy: 0.3244 - val_loss: 45974462436475541976669313040384.0000 - val_accuracy: 0.0000e+00\n",
            "Epoch 30/100\n",
            "12/12 [==============================] - 0s 7ms/step - loss: 0.1244 - accuracy: 0.3326 - val_loss: 45974462436475541976669313040384.0000 - val_accuracy: 0.0000e+00\n",
            "Epoch 31/100\n",
            "12/12 [==============================] - 0s 7ms/step - loss: 0.1244 - accuracy: 0.3183 - val_loss: 45974462436475541976669313040384.0000 - val_accuracy: 0.0000e+00\n",
            "Epoch 32/100\n",
            "12/12 [==============================] - 0s 6ms/step - loss: 0.1244 - accuracy: 0.3314 - val_loss: 45974462436475541976669313040384.0000 - val_accuracy: 0.0000e+00\n",
            "Epoch 33/100\n",
            "12/12 [==============================] - 0s 6ms/step - loss: 0.1243 - accuracy: 0.3201 - val_loss: 45974462436475541976669313040384.0000 - val_accuracy: 0.0000e+00\n",
            "Epoch 34/100\n",
            "12/12 [==============================] - 0s 7ms/step - loss: 0.1243 - accuracy: 0.3305 - val_loss: 45974462436475541976669313040384.0000 - val_accuracy: 0.0000e+00\n",
            "Epoch 35/100\n",
            "12/12 [==============================] - 0s 6ms/step - loss: 0.1243 - accuracy: 0.3089 - val_loss: 45974462436475541976669313040384.0000 - val_accuracy: 0.0000e+00\n",
            "Epoch 36/100\n",
            "12/12 [==============================] - 0s 7ms/step - loss: 0.1243 - accuracy: 0.3325 - val_loss: 45974462436475541976669313040384.0000 - val_accuracy: 0.0000e+00\n",
            "Epoch 37/100\n",
            "12/12 [==============================] - 0s 6ms/step - loss: 0.1243 - accuracy: 0.3115 - val_loss: 45974462436475541976669313040384.0000 - val_accuracy: 0.0000e+00\n",
            "Epoch 38/100\n",
            "12/12 [==============================] - 0s 7ms/step - loss: 0.1243 - accuracy: 0.3117 - val_loss: 45974462436475541976669313040384.0000 - val_accuracy: 0.0000e+00\n",
            "Epoch 39/100\n",
            "12/12 [==============================] - 0s 6ms/step - loss: 0.1243 - accuracy: 0.3140 - val_loss: 45974462436475541976669313040384.0000 - val_accuracy: 0.0000e+00\n",
            "Epoch 40/100\n",
            "12/12 [==============================] - 0s 7ms/step - loss: 0.1243 - accuracy: 0.3124 - val_loss: 45974462436475541976669313040384.0000 - val_accuracy: 0.0000e+00\n",
            "Epoch 41/100\n",
            "12/12 [==============================] - 0s 7ms/step - loss: 0.1243 - accuracy: 0.3284 - val_loss: 45974462436475541976669313040384.0000 - val_accuracy: 0.0000e+00\n",
            "Epoch 42/100\n",
            "12/12 [==============================] - 0s 6ms/step - loss: 0.1243 - accuracy: 0.3063 - val_loss: 45974462436475541976669313040384.0000 - val_accuracy: 0.0000e+00\n",
            "Epoch 43/100\n",
            "12/12 [==============================] - 0s 6ms/step - loss: 0.1243 - accuracy: 0.3117 - val_loss: 45974462436475541976669313040384.0000 - val_accuracy: 0.0000e+00\n",
            "Epoch 44/100\n",
            "12/12 [==============================] - 0s 6ms/step - loss: 0.1243 - accuracy: 0.3133 - val_loss: 45974462436475541976669313040384.0000 - val_accuracy: 0.0000e+00\n",
            "Epoch 45/100\n",
            "12/12 [==============================] - 0s 7ms/step - loss: 0.1243 - accuracy: 0.3063 - val_loss: 45974462436475541976669313040384.0000 - val_accuracy: 0.0000e+00\n",
            "Epoch 46/100\n",
            "12/12 [==============================] - 0s 6ms/step - loss: 0.1243 - accuracy: 0.3063 - val_loss: 45974462436475541976669313040384.0000 - val_accuracy: 0.0000e+00\n",
            "Epoch 47/100\n",
            "12/12 [==============================] - 0s 9ms/step - loss: 0.1243 - accuracy: 0.2944 - val_loss: 45974462436475541976669313040384.0000 - val_accuracy: 0.0000e+00\n",
            "Epoch 48/100\n",
            "12/12 [==============================] - 0s 7ms/step - loss: 0.1243 - accuracy: 0.2967 - val_loss: 45974462436475541976669313040384.0000 - val_accuracy: 0.0000e+00\n",
            "Epoch 49/100\n",
            "12/12 [==============================] - 0s 7ms/step - loss: 0.1243 - accuracy: 0.3028 - val_loss: 45974462436475541976669313040384.0000 - val_accuracy: 0.0000e+00\n",
            "Epoch 50/100\n",
            "12/12 [==============================] - 0s 7ms/step - loss: 0.1243 - accuracy: 0.2979 - val_loss: 45974462436475541976669313040384.0000 - val_accuracy: 0.0000e+00\n",
            "Epoch 51/100\n",
            "12/12 [==============================] - 0s 6ms/step - loss: 0.1243 - accuracy: 0.2881 - val_loss: 45974462436475541976669313040384.0000 - val_accuracy: 0.0000e+00\n",
            "Epoch 52/100\n",
            "12/12 [==============================] - 0s 6ms/step - loss: 0.1243 - accuracy: 0.2796 - val_loss: 45974462436475541976669313040384.0000 - val_accuracy: 0.0000e+00\n",
            "Epoch 53/100\n",
            "12/12 [==============================] - 0s 7ms/step - loss: 0.1243 - accuracy: 0.2848 - val_loss: 45974462436475541976669313040384.0000 - val_accuracy: 0.0000e+00\n",
            "Epoch 54/100\n",
            "12/12 [==============================] - 0s 7ms/step - loss: 0.1243 - accuracy: 0.2818 - val_loss: 45974462436475541976669313040384.0000 - val_accuracy: 0.0000e+00\n",
            "Epoch 55/100\n",
            "12/12 [==============================] - 0s 7ms/step - loss: 0.1243 - accuracy: 0.2750 - val_loss: 45974462436475541976669313040384.0000 - val_accuracy: 0.0000e+00\n",
            "Epoch 56/100\n",
            "12/12 [==============================] - 0s 7ms/step - loss: 0.1243 - accuracy: 0.2824 - val_loss: 45974462436475541976669313040384.0000 - val_accuracy: 0.0000e+00\n",
            "Epoch 57/100\n",
            "12/12 [==============================] - 0s 7ms/step - loss: 0.1243 - accuracy: 0.2756 - val_loss: 45974462436475541976669313040384.0000 - val_accuracy: 0.0000e+00\n",
            "Epoch 58/100\n",
            "12/12 [==============================] - 0s 7ms/step - loss: 0.1243 - accuracy: 0.2766 - val_loss: 45974462436475541976669313040384.0000 - val_accuracy: 0.0000e+00\n",
            "Epoch 59/100\n",
            "12/12 [==============================] - 0s 7ms/step - loss: 0.1243 - accuracy: 0.2761 - val_loss: 45974462436475541976669313040384.0000 - val_accuracy: 0.0000e+00\n",
            "Epoch 60/100\n",
            "12/12 [==============================] - 0s 6ms/step - loss: 0.1243 - accuracy: 0.2740 - val_loss: 45974462436475541976669313040384.0000 - val_accuracy: 0.0000e+00\n",
            "Epoch 61/100\n",
            "12/12 [==============================] - 0s 6ms/step - loss: 0.1243 - accuracy: 0.2731 - val_loss: 45974462436475541976669313040384.0000 - val_accuracy: 0.0000e+00\n",
            "Epoch 62/100\n",
            "12/12 [==============================] - 0s 7ms/step - loss: 0.1243 - accuracy: 0.2674 - val_loss: 45974462436475541976669313040384.0000 - val_accuracy: 0.0000e+00\n",
            "Epoch 63/100\n",
            "12/12 [==============================] - 0s 7ms/step - loss: 0.1243 - accuracy: 0.2766 - val_loss: 45974462436475541976669313040384.0000 - val_accuracy: 0.0000e+00\n",
            "Epoch 64/100\n",
            "12/12 [==============================] - 0s 6ms/step - loss: 0.1243 - accuracy: 0.2667 - val_loss: 45974462436475541976669313040384.0000 - val_accuracy: 0.0000e+00\n",
            "Epoch 65/100\n",
            "12/12 [==============================] - 0s 6ms/step - loss: 0.1243 - accuracy: 0.2606 - val_loss: 45974462436475541976669313040384.0000 - val_accuracy: 0.0000e+00\n",
            "Epoch 66/100\n",
            "12/12 [==============================] - 0s 7ms/step - loss: 0.1243 - accuracy: 0.2738 - val_loss: 45974462436475541976669313040384.0000 - val_accuracy: 0.0000e+00\n",
            "Epoch 67/100\n",
            "12/12 [==============================] - 0s 7ms/step - loss: 0.1243 - accuracy: 0.2695 - val_loss: 45974462436475541976669313040384.0000 - val_accuracy: 0.0000e+00\n",
            "Epoch 68/100\n",
            "12/12 [==============================] - 0s 6ms/step - loss: 0.1243 - accuracy: 0.2644 - val_loss: 45974462436475541976669313040384.0000 - val_accuracy: 0.0000e+00\n",
            "Epoch 69/100\n",
            "12/12 [==============================] - 0s 7ms/step - loss: 0.1243 - accuracy: 0.2709 - val_loss: 45974462436475541976669313040384.0000 - val_accuracy: 0.0000e+00\n",
            "Epoch 70/100\n",
            "12/12 [==============================] - 0s 7ms/step - loss: 0.1243 - accuracy: 0.2717 - val_loss: 45974462436475541976669313040384.0000 - val_accuracy: 0.0000e+00\n",
            "Epoch 71/100\n",
            "12/12 [==============================] - 0s 8ms/step - loss: 0.1243 - accuracy: 0.2745 - val_loss: 45974462436475541976669313040384.0000 - val_accuracy: 0.0000e+00\n",
            "Epoch 72/100\n",
            "12/12 [==============================] - 0s 7ms/step - loss: 0.1243 - accuracy: 0.2754 - val_loss: 45974462436475541976669313040384.0000 - val_accuracy: 0.0000e+00\n",
            "Epoch 73/100\n",
            "12/12 [==============================] - 0s 7ms/step - loss: 0.1243 - accuracy: 0.2806 - val_loss: 45974462436475541976669313040384.0000 - val_accuracy: 0.0000e+00\n",
            "Epoch 74/100\n",
            "12/12 [==============================] - 0s 7ms/step - loss: 0.1243 - accuracy: 0.2792 - val_loss: 45974462436475541976669313040384.0000 - val_accuracy: 0.0000e+00\n",
            "Epoch 75/100\n",
            "12/12 [==============================] - 0s 6ms/step - loss: 0.1243 - accuracy: 0.2843 - val_loss: 45974462436475541976669313040384.0000 - val_accuracy: 0.0000e+00\n",
            "Epoch 76/100\n",
            "12/12 [==============================] - 0s 7ms/step - loss: 0.1243 - accuracy: 0.2857 - val_loss: 45974462436475541976669313040384.0000 - val_accuracy: 0.0000e+00\n",
            "Epoch 77/100\n",
            "12/12 [==============================] - 0s 7ms/step - loss: 0.1243 - accuracy: 0.3082 - val_loss: 45974462436475541976669313040384.0000 - val_accuracy: 0.0000e+00\n",
            "Epoch 78/100\n",
            "12/12 [==============================] - 0s 6ms/step - loss: 0.1243 - accuracy: 0.2928 - val_loss: 45974462436475541976669313040384.0000 - val_accuracy: 0.0000e+00\n",
            "Epoch 79/100\n",
            "12/12 [==============================] - 0s 8ms/step - loss: 0.1243 - accuracy: 0.3019 - val_loss: 45974462436475541976669313040384.0000 - val_accuracy: 0.0000e+00\n",
            "Epoch 80/100\n",
            "12/12 [==============================] - 0s 7ms/step - loss: 0.1243 - accuracy: 0.2974 - val_loss: 45974462436475541976669313040384.0000 - val_accuracy: 0.0000e+00\n",
            "Epoch 81/100\n",
            "12/12 [==============================] - 0s 7ms/step - loss: 0.1243 - accuracy: 0.3227 - val_loss: 45974462436475541976669313040384.0000 - val_accuracy: 0.0000e+00\n",
            "Epoch 82/100\n",
            "12/12 [==============================] - 0s 7ms/step - loss: 0.1243 - accuracy: 0.3077 - val_loss: 45974462436475541976669313040384.0000 - val_accuracy: 0.0000e+00\n",
            "Epoch 83/100\n",
            "12/12 [==============================] - 0s 6ms/step - loss: 0.1243 - accuracy: 0.3236 - val_loss: 45974462436475541976669313040384.0000 - val_accuracy: 0.0000e+00\n",
            "Epoch 84/100\n",
            "12/12 [==============================] - 0s 7ms/step - loss: 0.1243 - accuracy: 0.3267 - val_loss: 45974462436475541976669313040384.0000 - val_accuracy: 0.0000e+00\n",
            "Epoch 85/100\n",
            "12/12 [==============================] - 0s 7ms/step - loss: 0.1243 - accuracy: 0.3222 - val_loss: 45974462436475541976669313040384.0000 - val_accuracy: 0.0000e+00\n",
            "Epoch 86/100\n",
            "12/12 [==============================] - 0s 6ms/step - loss: 0.1243 - accuracy: 0.3393 - val_loss: 45974462436475541976669313040384.0000 - val_accuracy: 0.0000e+00\n",
            "Epoch 87/100\n",
            "12/12 [==============================] - 0s 6ms/step - loss: 0.1243 - accuracy: 0.3353 - val_loss: 45974462436475541976669313040384.0000 - val_accuracy: 0.0000e+00\n",
            "Epoch 88/100\n",
            "12/12 [==============================] - 0s 6ms/step - loss: 0.1243 - accuracy: 0.3469 - val_loss: 45974462436475541976669313040384.0000 - val_accuracy: 0.0000e+00\n",
            "Epoch 89/100\n",
            "12/12 [==============================] - 0s 6ms/step - loss: 0.1243 - accuracy: 0.3450 - val_loss: 45974462436475541976669313040384.0000 - val_accuracy: 0.0000e+00\n",
            "Epoch 90/100\n",
            "12/12 [==============================] - 0s 6ms/step - loss: 0.1243 - accuracy: 0.3415 - val_loss: 45974462436475541976669313040384.0000 - val_accuracy: 0.0000e+00\n",
            "Epoch 91/100\n",
            "12/12 [==============================] - 0s 6ms/step - loss: 0.1243 - accuracy: 0.3501 - val_loss: 45974462436475541976669313040384.0000 - val_accuracy: 0.0000e+00\n",
            "Epoch 92/100\n",
            "12/12 [==============================] - 0s 6ms/step - loss: 0.1243 - accuracy: 0.3599 - val_loss: 45974462436475541976669313040384.0000 - val_accuracy: 0.0000e+00\n",
            "Epoch 93/100\n",
            "12/12 [==============================] - 0s 7ms/step - loss: 0.1243 - accuracy: 0.3405 - val_loss: 45974462436475541976669313040384.0000 - val_accuracy: 0.0000e+00\n",
            "Epoch 94/100\n",
            "12/12 [==============================] - 0s 6ms/step - loss: 0.1243 - accuracy: 0.3637 - val_loss: 45974462436475541976669313040384.0000 - val_accuracy: 0.0000e+00\n",
            "Epoch 95/100\n",
            "12/12 [==============================] - 0s 7ms/step - loss: 0.1243 - accuracy: 0.3503 - val_loss: 45974462436475541976669313040384.0000 - val_accuracy: 0.0000e+00\n",
            "Epoch 96/100\n",
            "12/12 [==============================] - 0s 7ms/step - loss: 0.1243 - accuracy: 0.3604 - val_loss: 45974462436475541976669313040384.0000 - val_accuracy: 0.0000e+00\n",
            "Epoch 97/100\n",
            "12/12 [==============================] - 0s 6ms/step - loss: 0.1243 - accuracy: 0.3567 - val_loss: 45974462436475541976669313040384.0000 - val_accuracy: 0.0000e+00\n",
            "Epoch 98/100\n",
            "12/12 [==============================] - 0s 8ms/step - loss: 0.1243 - accuracy: 0.3543 - val_loss: 45974462436475541976669313040384.0000 - val_accuracy: 0.0000e+00\n",
            "Epoch 99/100\n",
            "12/12 [==============================] - 0s 7ms/step - loss: 0.1243 - accuracy: 0.3667 - val_loss: 45974462436475541976669313040384.0000 - val_accuracy: 0.0000e+00\n",
            "Epoch 100/100\n",
            "12/12 [==============================] - 0s 6ms/step - loss: 0.1243 - accuracy: 0.3611 - val_loss: 45974462436475541976669313040384.0000 - val_accuracy: 0.0000e+00\n"
          ]
        }
      ],
      "source": [
        "if model_selection[model_flag]==\"ALL\" or model_selection[model_flag] == \"AE\":\n",
        "  # training the model on training dataset\n",
        "  history = autoencoder.fit(X_train, X_train, epochs=100,batch_size=500,validation_data=(X_test, X_test)).history"
      ]
    },
    {
      "cell_type": "code",
      "execution_count": 70,
      "metadata": {
        "id": "AdtR3-9xLliU",
        "colab": {
          "base_uri": "https://localhost:8080/"
        },
        "outputId": "c0bb0f3e-81f6-4e3e-e291-7b3ebe461bfb"
      },
      "outputs": [
        {
          "output_type": "stream",
          "name": "stdout",
          "text": [
            "Saved model to disk\n",
            "Loaded model from disk\n"
          ]
        }
      ],
      "source": [
        "if model_selection[model_flag]==\"ALL\" or model_selection[model_flag] == \"AE\":\n",
        "  filepath = '/content/drive/MyDrive/Colab_Notebooks/Models/ae_binary'+model_name_suffix+'.json'\n",
        "  weightspath = '/content/drive/MyDrive/Colab_Notebooks/Weights/ae_binary'+model_name_suffix+'.h5'\n",
        "  if (not path.isfile(filepath)): \n",
        "    # serialize model to JSON\n",
        "    autoencoder_json = autoencoder.to_json()\n",
        "    with open(filepath, \"w\") as json_file:\n",
        "      json_file.write(autoencoder_json)\n",
        "\n",
        "    # serialize weights to HDF5\n",
        "    autoencoder.save_weights(weightspath)\n",
        "    print(\"Saved model to disk\")\n",
        "\n",
        "    # load json and create model\n",
        "    json_file = open(filepath, 'r')\n",
        "    loaded_model_json = json_file.read()\n",
        "    json_file.close()\n",
        "    autoencoder = model_from_json(loaded_model_json)\n",
        "\n",
        "    # load weights into new model\n",
        "    autoencoder.load_weights(weightspath)\n",
        "    print(\"Loaded model from disk\")"
      ]
    },
    {
      "cell_type": "code",
      "execution_count": 71,
      "metadata": {
        "id": "Wqr6HVtMLwx9"
      },
      "outputs": [],
      "source": [
        "if model_selection[model_flag]==\"ALL\" or model_selection[model_flag] == \"AE\":\n",
        "  # defining loss function, optimizer, metrics and then compiling model\n",
        "  autoencoder.compile(optimizer='adam', loss='mean_squared_error',metrics=['accuracy'])"
      ]
    },
    {
      "cell_type": "code",
      "execution_count": 72,
      "metadata": {
        "id": "FQrjCk2hL09x",
        "colab": {
          "base_uri": "https://localhost:8080/"
        },
        "outputId": "25d7a34d-58af-47d2-a508-16e1c1320c38"
      },
      "outputs": [
        {
          "output_type": "stream",
          "name": "stdout",
          "text": [
            "60/60 [==============================] - 0s 2ms/step - loss: 45974457600772263518152614215680.0000 - accuracy: 0.0000e+00\n",
            "Test results - Loss: 4.597445760077226e+31 - Accuracy: 0.0%\n"
          ]
        }
      ],
      "source": [
        "if model_selection[model_flag]==\"ALL\" or model_selection[model_flag] == \"AE\":\n",
        "  # predicting target attribute on testing dataset\n",
        "  test_results = autoencoder.evaluate(X_test, X_test, verbose=1)\n",
        "  print(f'Test results - Loss: {test_results[0]} - Accuracy: {test_results[1]}%')"
      ]
    },
    {
      "cell_type": "code",
      "execution_count": 73,
      "metadata": {
        "id": "VqQsjSZcL1-B",
        "colab": {
          "base_uri": "https://localhost:8080/",
          "height": 472
        },
        "outputId": "b0dcbd62-eba2-42c6-9d5b-36a44ed4c109"
      },
      "outputs": [
        {
          "output_type": "display_data",
          "data": {
            "text/plain": [
              "<Figure size 640x480 with 1 Axes>"
            ],
            "image/png": "[encoded data removed]"
          },
          "metadata": {}
        }
      ],
      "source": [
        "if model_selection[model_flag]==\"ALL\" or model_selection[model_flag] == \"AE\":\n",
        "  # Plot of loss vs epoch of train and test dataset\n",
        "  plt.plot(history['loss'])\n",
        "  plt.plot(history['val_loss'])\n",
        "  plt.title(\"Plot of loss vs epoch for train and test dataset\")\n",
        "  plt.ylabel('loss')\n",
        "  plt.xlabel('epoch')\n",
        "  plt.legend(['train', 'test'], loc='upper right')\n",
        "  plt.savefig('/content/drive/MyDrive/Colab_Notebooks/Plots/ae_binary_loss.png')\n",
        "  plt.show()"
      ]
    },
    {
      "cell_type": "code",
      "execution_count": 74,
      "metadata": {
        "id": "fkjD9QXKL25Z",
        "colab": {
          "base_uri": "https://localhost:8080/",
          "height": 472
        },
        "outputId": "48287103-bd10-4ff2-e252-9539cf5f8366"
      },
      "outputs": [
        {
          "output_type": "display_data",
          "data": {
            "text/plain": [
              "<Figure size 640x480 with 1 Axes>"
            ],
            "image/png": "[encoded data removed]"
          },
          "metadata": {}
        }
      ],
      "source": [
        "if model_selection[model_flag]==\"ALL\" or model_selection[model_flag] == \"AE\":\n",
        "  # Plot of accuracy vs epoch of train and test dataset\n",
        "  plt.plot(history['accuracy'])\n",
        "  plt.plot(history['val_accuracy'])\n",
        "  plt.title(\"Plot of accuracy vs epoch for train and test dataset\")\n",
        "  plt.ylabel('accuracy')\n",
        "  plt.xlabel('epoch')\n",
        "  plt.legend(['train', 'test'], loc='best')\n",
        "  plt.savefig('/content/drive/MyDrive/Colab_Notebooks/Plots/ae_binary_accuracy.png')\n",
        "  plt.show()"
      ]
    },
    {
      "cell_type": "code",
      "execution_count": 75,
      "metadata": {
        "id": "lf9q83sBMGPD"
      },
      "outputs": [],
      "source": [
        "if model_selection[model_flag]==\"ALL\" or model_selection[model_flag] == \"AE\":\n",
        "  # representation of model layers\n",
        "  plot_model(autoencoder, to_file='/content/drive/MyDrive/Colab_Notebooks/Plots/ae_binary.png', show_shapes=True,)"
      ]
    },
    {
      "cell_type": "code",
      "execution_count": 76,
      "metadata": {
        "id": "SFIXKGwuMLFo",
        "colab": {
          "base_uri": "https://localhost:8080/"
        },
        "outputId": "8b46edf3-fe9e-43fa-c7e6-1a0500877afd"
      },
      "outputs": [
        {
          "output_type": "stream",
          "name": "stdout",
          "text": [
            "60/60 [==============================] - 0s 1ms/step\n"
          ]
        }
      ],
      "source": [
        "if model_selection[model_flag]==\"ALL\" or model_selection[model_flag] == \"AE\":\n",
        "  # calculating reconstruction error \n",
        "  predictions = autoencoder.predict(X_test)"
      ]
    },
    {
      "cell_type": "code",
      "execution_count": 77,
      "metadata": {
        "id": "cqKJCyZnMMEG"
      },
      "outputs": [],
      "source": [
        "if model_selection[model_flag]==\"ALL\" or model_selection[model_flag] == \"AE\":\n",
        "  mse = np.mean(np.power(X_test - predictions, 2), axis=1)\n",
        "  error_df = pd.DataFrame({'reconstruction_error': mse,\n",
        "                           'true_class': y_test})"
      ]
    },
    {
      "cell_type": "code",
      "execution_count": 78,
      "metadata": {
        "id": "EdQJudbDMhmB",
        "colab": {
          "base_uri": "https://localhost:8080/"
        },
        "outputId": "970983c3-e3f9-402d-8f25-bbce946a7679"
      },
      "outputs": [
        {
          "output_type": "stream",
          "name": "stdout",
          "text": [
            "(1911, 116)\n"
          ]
        }
      ],
      "source": [
        "if model_selection[model_flag]==\"ALL\" or model_selection[model_flag] == \"AE\":\n",
        "  error_df.describe()\n",
        "  print(predictions.shape)"
      ]
    },
    {
      "cell_type": "markdown",
      "metadata": {
        "id": "PHsaAAMmNQrs"
      },
      "source": [
        "## **AE Classifier**"
      ]
    },
    {
      "cell_type": "code",
      "execution_count": 79,
      "metadata": {
        "id": "1hK07LDBMoZg"
      },
      "outputs": [],
      "source": [
        "if model_selection[model_flag]==\"ALL\" or model_selection[model_flag] == \"AE\":\n",
        "  i_dim = predictions.shape[1]\n",
        "\n",
        "  #input layer\n",
        "  i_layer = Input(shape=(i_dim, ))\n",
        "  #hidden layer with 50 neurons\n",
        "  fvector = Dense(50, activation=\"sigmoid\")(i_layer)                    \n",
        "  #doutput layer\n",
        "  o_layer = Dense(1, activation='sigmoid')(fvector)"
      ]
    },
    {
      "cell_type": "code",
      "execution_count": 80,
      "metadata": {
        "id": "Efq77rVINXWE"
      },
      "outputs": [],
      "source": [
        "if model_selection[model_flag]==\"ALL\" or model_selection[model_flag] == \"AE\":\n",
        "  # creating model with input, encoding, decoding, output layers\n",
        "  ae_classifier = Model(inputs=i_layer, outputs=o_layer)\n",
        "\n",
        "  # defining loss function, optimizer, metrics and then compiling model\n",
        "  ae_classifier.compile(optimizer='adam', loss='binary_crossentropy',metrics=['accuracy'])"
      ]
    },
    {
      "cell_type": "code",
      "execution_count": 81,
      "metadata": {
        "id": "0Yl594VGNX1W",
        "colab": {
          "base_uri": "https://localhost:8080/"
        },
        "outputId": "fef493a6-1088-4fe3-ea57-25f76e9fd735"
      },
      "outputs": [
        {
          "output_type": "stream",
          "name": "stdout",
          "text": [
            "Model: \"model_1\"\n",
            "_________________________________________________________________\n",
            " Layer (type)                Output Shape              Param #   \n",
            "=================================================================\n",
            " input_2 (InputLayer)        [(None, 116)]             0         \n",
            "                                                                 \n",
            " dense_5 (Dense)             (None, 50)                5850      \n",
            "                                                                 \n",
            " dense_6 (Dense)             (None, 1)                 51        \n",
            "                                                                 \n",
            "=================================================================\n",
            "Total params: 5,901\n",
            "Trainable params: 5,901\n",
            "Non-trainable params: 0\n",
            "_________________________________________________________________\n"
          ]
        }
      ],
      "source": [
        "if model_selection[model_flag]==\"ALL\" or model_selection[model_flag] == \"AE\":\n",
        "  # summary of model layers\n",
        "  ae_classifier.summary()"
      ]
    },
    {
      "cell_type": "code",
      "execution_count": 82,
      "metadata": {
        "id": "23n8Qt0uNX8Z",
        "colab": {
          "base_uri": "https://localhost:8080/"
        },
        "outputId": "65f44c37-e4c2-48e0-97b9-da309949417d"
      },
      "outputs": [
        {
          "output_type": "stream",
          "name": "stdout",
          "text": [
            "Epoch 1/300\n",
            "4/4 [==============================] - 2s 86ms/step - loss: 0.4605 - accuracy: 0.8285 - val_loss: 0.4698 - val_accuracy: 0.8225\n",
            "Epoch 2/300\n",
            "4/4 [==============================] - 0s 23ms/step - loss: 0.4589 - accuracy: 0.8285 - val_loss: 0.4684 - val_accuracy: 0.8225\n",
            "Epoch 3/300\n",
            "4/4 [==============================] - 0s 17ms/step - loss: 0.4583 - accuracy: 0.8285 - val_loss: 0.4679 - val_accuracy: 0.8225\n",
            "Epoch 4/300\n",
            "4/4 [==============================] - 0s 23ms/step - loss: 0.4583 - accuracy: 0.8285 - val_loss: 0.4678 - val_accuracy: 0.8225\n",
            "Epoch 5/300\n",
            "4/4 [==============================] - 0s 24ms/step - loss: 0.4582 - accuracy: 0.8285 - val_loss: 0.4678 - val_accuracy: 0.8225\n",
            "Epoch 6/300\n",
            "4/4 [==============================] - 0s 23ms/step - loss: 0.4581 - accuracy: 0.8285 - val_loss: 0.4679 - val_accuracy: 0.8225\n",
            "Epoch 7/300\n",
            "4/4 [==============================] - 0s 23ms/step - loss: 0.4581 - accuracy: 0.8285 - val_loss: 0.4679 - val_accuracy: 0.8225\n",
            "Epoch 8/300\n",
            "4/4 [==============================] - 0s 21ms/step - loss: 0.4581 - accuracy: 0.8285 - val_loss: 0.4678 - val_accuracy: 0.8225\n",
            "Epoch 9/300\n",
            "4/4 [==============================] - 0s 28ms/step - loss: 0.4582 - accuracy: 0.8285 - val_loss: 0.4678 - val_accuracy: 0.8225\n",
            "Epoch 10/300\n",
            "4/4 [==============================] - 0s 22ms/step - loss: 0.4582 - accuracy: 0.8285 - val_loss: 0.4678 - val_accuracy: 0.8225\n",
            "Epoch 11/300\n",
            "4/4 [==============================] - 0s 23ms/step - loss: 0.4581 - accuracy: 0.8285 - val_loss: 0.4678 - val_accuracy: 0.8225\n",
            "Epoch 12/300\n",
            "4/4 [==============================] - 0s 23ms/step - loss: 0.4581 - accuracy: 0.8285 - val_loss: 0.4679 - val_accuracy: 0.8225\n",
            "Epoch 13/300\n",
            "4/4 [==============================] - 0s 24ms/step - loss: 0.4581 - accuracy: 0.8285 - val_loss: 0.4678 - val_accuracy: 0.8225\n",
            "Epoch 14/300\n",
            "4/4 [==============================] - 0s 22ms/step - loss: 0.4583 - accuracy: 0.8285 - val_loss: 0.4678 - val_accuracy: 0.8225\n",
            "Epoch 15/300\n",
            "4/4 [==============================] - 0s 22ms/step - loss: 0.4582 - accuracy: 0.8285 - val_loss: 0.4678 - val_accuracy: 0.8225\n",
            "Epoch 16/300\n",
            "4/4 [==============================] - 0s 22ms/step - loss: 0.4582 - accuracy: 0.8285 - val_loss: 0.4678 - val_accuracy: 0.8225\n",
            "Epoch 17/300\n",
            "4/4 [==============================] - 0s 21ms/step - loss: 0.4581 - accuracy: 0.8285 - val_loss: 0.4678 - val_accuracy: 0.8225\n",
            "Epoch 18/300\n",
            "4/4 [==============================] - 0s 23ms/step - loss: 0.4581 - accuracy: 0.8285 - val_loss: 0.4679 - val_accuracy: 0.8225\n",
            "Epoch 19/300\n",
            "4/4 [==============================] - 0s 19ms/step - loss: 0.4581 - accuracy: 0.8285 - val_loss: 0.4681 - val_accuracy: 0.8225\n",
            "Epoch 20/300\n",
            "4/4 [==============================] - 0s 22ms/step - loss: 0.4582 - accuracy: 0.8285 - val_loss: 0.4681 - val_accuracy: 0.8225\n",
            "Epoch 21/300\n",
            "4/4 [==============================] - 0s 23ms/step - loss: 0.4581 - accuracy: 0.8285 - val_loss: 0.4680 - val_accuracy: 0.8225\n",
            "Epoch 22/300\n",
            "4/4 [==============================] - 0s 19ms/step - loss: 0.4582 - accuracy: 0.8285 - val_loss: 0.4678 - val_accuracy: 0.8225\n",
            "Epoch 23/300\n",
            "4/4 [==============================] - 0s 19ms/step - loss: 0.4581 - accuracy: 0.8285 - val_loss: 0.4678 - val_accuracy: 0.8225\n",
            "Epoch 24/300\n",
            "4/4 [==============================] - 0s 16ms/step - loss: 0.4581 - accuracy: 0.8285 - val_loss: 0.4679 - val_accuracy: 0.8225\n",
            "Epoch 25/300\n",
            "4/4 [==============================] - 0s 22ms/step - loss: 0.4580 - accuracy: 0.8285 - val_loss: 0.4680 - val_accuracy: 0.8225\n",
            "Epoch 26/300\n",
            "4/4 [==============================] - 0s 17ms/step - loss: 0.4581 - accuracy: 0.8285 - val_loss: 0.4681 - val_accuracy: 0.8225\n",
            "Epoch 27/300\n",
            "4/4 [==============================] - 0s 14ms/step - loss: 0.4581 - accuracy: 0.8285 - val_loss: 0.4680 - val_accuracy: 0.8225\n",
            "Epoch 28/300\n",
            "4/4 [==============================] - 0s 13ms/step - loss: 0.4581 - accuracy: 0.8285 - val_loss: 0.4680 - val_accuracy: 0.8225\n",
            "Epoch 29/300\n",
            "4/4 [==============================] - 0s 13ms/step - loss: 0.4581 - accuracy: 0.8285 - val_loss: 0.4679 - val_accuracy: 0.8225\n",
            "Epoch 30/300\n",
            "4/4 [==============================] - 0s 12ms/step - loss: 0.4581 - accuracy: 0.8285 - val_loss: 0.4679 - val_accuracy: 0.8225\n",
            "Epoch 31/300\n",
            "4/4 [==============================] - 0s 12ms/step - loss: 0.4581 - accuracy: 0.8285 - val_loss: 0.4678 - val_accuracy: 0.8225\n",
            "Epoch 32/300\n",
            "4/4 [==============================] - 0s 12ms/step - loss: 0.4581 - accuracy: 0.8285 - val_loss: 0.4678 - val_accuracy: 0.8225\n",
            "Epoch 33/300\n",
            "4/4 [==============================] - 0s 12ms/step - loss: 0.4581 - accuracy: 0.8285 - val_loss: 0.4678 - val_accuracy: 0.8225\n",
            "Epoch 34/300\n",
            "4/4 [==============================] - 0s 18ms/step - loss: 0.4582 - accuracy: 0.8285 - val_loss: 0.4678 - val_accuracy: 0.8225\n",
            "Epoch 35/300\n",
            "4/4 [==============================] - 0s 12ms/step - loss: 0.4582 - accuracy: 0.8285 - val_loss: 0.4678 - val_accuracy: 0.8225\n",
            "Epoch 36/300\n",
            "4/4 [==============================] - 0s 14ms/step - loss: 0.4581 - accuracy: 0.8285 - val_loss: 0.4678 - val_accuracy: 0.8225\n",
            "Epoch 37/300\n",
            "4/4 [==============================] - 0s 12ms/step - loss: 0.4580 - accuracy: 0.8285 - val_loss: 0.4679 - val_accuracy: 0.8225\n",
            "Epoch 38/300\n",
            "4/4 [==============================] - 0s 12ms/step - loss: 0.4580 - accuracy: 0.8285 - val_loss: 0.4679 - val_accuracy: 0.8225\n",
            "Epoch 39/300\n",
            "4/4 [==============================] - 0s 12ms/step - loss: 0.4580 - accuracy: 0.8285 - val_loss: 0.4678 - val_accuracy: 0.8225\n",
            "Epoch 40/300\n",
            "4/4 [==============================] - 0s 16ms/step - loss: 0.4580 - accuracy: 0.8285 - val_loss: 0.4678 - val_accuracy: 0.8225\n",
            "Epoch 41/300\n",
            "4/4 [==============================] - 0s 19ms/step - loss: 0.4581 - accuracy: 0.8285 - val_loss: 0.4678 - val_accuracy: 0.8225\n",
            "Epoch 42/300\n",
            "4/4 [==============================] - 0s 12ms/step - loss: 0.4580 - accuracy: 0.8285 - val_loss: 0.4678 - val_accuracy: 0.8225\n",
            "Epoch 43/300\n",
            "4/4 [==============================] - 0s 12ms/step - loss: 0.4580 - accuracy: 0.8285 - val_loss: 0.4679 - val_accuracy: 0.8225\n",
            "Epoch 44/300\n",
            "4/4 [==============================] - 0s 12ms/step - loss: 0.4580 - accuracy: 0.8285 - val_loss: 0.4679 - val_accuracy: 0.8225\n",
            "Epoch 45/300\n",
            "4/4 [==============================] - 0s 12ms/step - loss: 0.4580 - accuracy: 0.8285 - val_loss: 0.4680 - val_accuracy: 0.8225\n",
            "Epoch 46/300\n",
            "4/4 [==============================] - 0s 13ms/step - loss: 0.4580 - accuracy: 0.8285 - val_loss: 0.4679 - val_accuracy: 0.8225\n",
            "Epoch 47/300\n",
            "4/4 [==============================] - 0s 12ms/step - loss: 0.4580 - accuracy: 0.8285 - val_loss: 0.4678 - val_accuracy: 0.8225\n",
            "Epoch 48/300\n",
            "4/4 [==============================] - 0s 12ms/step - loss: 0.4580 - accuracy: 0.8285 - val_loss: 0.4678 - val_accuracy: 0.8225\n",
            "Epoch 49/300\n",
            "4/4 [==============================] - 0s 13ms/step - loss: 0.4581 - accuracy: 0.8285 - val_loss: 0.4678 - val_accuracy: 0.8225\n",
            "Epoch 50/300\n",
            "4/4 [==============================] - 0s 14ms/step - loss: 0.4581 - accuracy: 0.8285 - val_loss: 0.4678 - val_accuracy: 0.8225\n",
            "Epoch 51/300\n",
            "4/4 [==============================] - 0s 12ms/step - loss: 0.4583 - accuracy: 0.8285 - val_loss: 0.4679 - val_accuracy: 0.8225\n",
            "Epoch 52/300\n",
            "4/4 [==============================] - 0s 12ms/step - loss: 0.4581 - accuracy: 0.8285 - val_loss: 0.4679 - val_accuracy: 0.8225\n",
            "Epoch 53/300\n",
            "4/4 [==============================] - 0s 12ms/step - loss: 0.4580 - accuracy: 0.8285 - val_loss: 0.4678 - val_accuracy: 0.8225\n",
            "Epoch 54/300\n",
            "4/4 [==============================] - 0s 13ms/step - loss: 0.4581 - accuracy: 0.8285 - val_loss: 0.4678 - val_accuracy: 0.8225\n",
            "Epoch 55/300\n",
            "4/4 [==============================] - 0s 12ms/step - loss: 0.4582 - accuracy: 0.8285 - val_loss: 0.4678 - val_accuracy: 0.8225\n",
            "Epoch 56/300\n",
            "4/4 [==============================] - 0s 12ms/step - loss: 0.4582 - accuracy: 0.8285 - val_loss: 0.4678 - val_accuracy: 0.8225\n",
            "Epoch 57/300\n",
            "4/4 [==============================] - 0s 14ms/step - loss: 0.4581 - accuracy: 0.8285 - val_loss: 0.4678 - val_accuracy: 0.8225\n",
            "Epoch 58/300\n",
            "4/4 [==============================] - 0s 16ms/step - loss: 0.4580 - accuracy: 0.8285 - val_loss: 0.4679 - val_accuracy: 0.8225\n",
            "Epoch 59/300\n",
            "4/4 [==============================] - 0s 13ms/step - loss: 0.4580 - accuracy: 0.8285 - val_loss: 0.4680 - val_accuracy: 0.8225\n",
            "Epoch 60/300\n",
            "4/4 [==============================] - 0s 15ms/step - loss: 0.4581 - accuracy: 0.8285 - val_loss: 0.4681 - val_accuracy: 0.8225\n",
            "Epoch 61/300\n",
            "4/4 [==============================] - 0s 14ms/step - loss: 0.4580 - accuracy: 0.8285 - val_loss: 0.4681 - val_accuracy: 0.8225\n",
            "Epoch 62/300\n",
            "4/4 [==============================] - 0s 13ms/step - loss: 0.4580 - accuracy: 0.8285 - val_loss: 0.4679 - val_accuracy: 0.8225\n",
            "Epoch 63/300\n",
            "4/4 [==============================] - 0s 12ms/step - loss: 0.4580 - accuracy: 0.8285 - val_loss: 0.4679 - val_accuracy: 0.8225\n",
            "Epoch 64/300\n",
            "4/4 [==============================] - 0s 13ms/step - loss: 0.4580 - accuracy: 0.8285 - val_loss: 0.4680 - val_accuracy: 0.8225\n",
            "Epoch 65/300\n",
            "4/4 [==============================] - 0s 14ms/step - loss: 0.4581 - accuracy: 0.8285 - val_loss: 0.4679 - val_accuracy: 0.8225\n",
            "Epoch 66/300\n",
            "4/4 [==============================] - 0s 15ms/step - loss: 0.4580 - accuracy: 0.8285 - val_loss: 0.4679 - val_accuracy: 0.8225\n",
            "Epoch 67/300\n",
            "4/4 [==============================] - 0s 13ms/step - loss: 0.4580 - accuracy: 0.8285 - val_loss: 0.4679 - val_accuracy: 0.8225\n",
            "Epoch 68/300\n",
            "4/4 [==============================] - 0s 12ms/step - loss: 0.4580 - accuracy: 0.8285 - val_loss: 0.4678 - val_accuracy: 0.8225\n",
            "Epoch 69/300\n",
            "4/4 [==============================] - 0s 13ms/step - loss: 0.4580 - accuracy: 0.8285 - val_loss: 0.4678 - val_accuracy: 0.8225\n",
            "Epoch 70/300\n",
            "4/4 [==============================] - 0s 12ms/step - loss: 0.4580 - accuracy: 0.8285 - val_loss: 0.4678 - val_accuracy: 0.8225\n",
            "Epoch 71/300\n",
            "4/4 [==============================] - 0s 12ms/step - loss: 0.4581 - accuracy: 0.8285 - val_loss: 0.4678 - val_accuracy: 0.8225\n",
            "Epoch 72/300\n",
            "4/4 [==============================] - 0s 12ms/step - loss: 0.4580 - accuracy: 0.8285 - val_loss: 0.4679 - val_accuracy: 0.8225\n",
            "Epoch 73/300\n",
            "4/4 [==============================] - 0s 12ms/step - loss: 0.4580 - accuracy: 0.8285 - val_loss: 0.4680 - val_accuracy: 0.8225\n",
            "Epoch 74/300\n",
            "4/4 [==============================] - 0s 13ms/step - loss: 0.4580 - accuracy: 0.8285 - val_loss: 0.4680 - val_accuracy: 0.8225\n",
            "Epoch 75/300\n",
            "4/4 [==============================] - 0s 12ms/step - loss: 0.4580 - accuracy: 0.8285 - val_loss: 0.4679 - val_accuracy: 0.8225\n",
            "Epoch 76/300\n",
            "4/4 [==============================] - 0s 12ms/step - loss: 0.4580 - accuracy: 0.8285 - val_loss: 0.4679 - val_accuracy: 0.8225\n",
            "Epoch 77/300\n",
            "4/4 [==============================] - 0s 12ms/step - loss: 0.4580 - accuracy: 0.8285 - val_loss: 0.4679 - val_accuracy: 0.8225\n",
            "Epoch 78/300\n",
            "4/4 [==============================] - 0s 13ms/step - loss: 0.4580 - accuracy: 0.8285 - val_loss: 0.4679 - val_accuracy: 0.8225\n",
            "Epoch 79/300\n",
            "4/4 [==============================] - 0s 14ms/step - loss: 0.4580 - accuracy: 0.8285 - val_loss: 0.4679 - val_accuracy: 0.8225\n",
            "Epoch 80/300\n",
            "4/4 [==============================] - 0s 17ms/step - loss: 0.4579 - accuracy: 0.8285 - val_loss: 0.4680 - val_accuracy: 0.8225\n",
            "Epoch 81/300\n",
            "4/4 [==============================] - 0s 14ms/step - loss: 0.4580 - accuracy: 0.8285 - val_loss: 0.4681 - val_accuracy: 0.8225\n",
            "Epoch 82/300\n",
            "4/4 [==============================] - 0s 13ms/step - loss: 0.4580 - accuracy: 0.8285 - val_loss: 0.4682 - val_accuracy: 0.8225\n",
            "Epoch 83/300\n",
            "4/4 [==============================] - 0s 13ms/step - loss: 0.4580 - accuracy: 0.8285 - val_loss: 0.4680 - val_accuracy: 0.8225\n",
            "Epoch 84/300\n",
            "4/4 [==============================] - 0s 12ms/step - loss: 0.4580 - accuracy: 0.8285 - val_loss: 0.4678 - val_accuracy: 0.8225\n",
            "Epoch 85/300\n",
            "4/4 [==============================] - 0s 12ms/step - loss: 0.4580 - accuracy: 0.8285 - val_loss: 0.4678 - val_accuracy: 0.8225\n",
            "Epoch 86/300\n",
            "4/4 [==============================] - 0s 12ms/step - loss: 0.4580 - accuracy: 0.8285 - val_loss: 0.4679 - val_accuracy: 0.8225\n",
            "Epoch 87/300\n",
            "4/4 [==============================] - 0s 12ms/step - loss: 0.4579 - accuracy: 0.8285 - val_loss: 0.4680 - val_accuracy: 0.8225\n",
            "Epoch 88/300\n",
            "4/4 [==============================] - 0s 13ms/step - loss: 0.4580 - accuracy: 0.8285 - val_loss: 0.4681 - val_accuracy: 0.8225\n",
            "Epoch 89/300\n",
            "4/4 [==============================] - 0s 13ms/step - loss: 0.4581 - accuracy: 0.8285 - val_loss: 0.4682 - val_accuracy: 0.8225\n",
            "Epoch 90/300\n",
            "4/4 [==============================] - 0s 12ms/step - loss: 0.4580 - accuracy: 0.8285 - val_loss: 0.4681 - val_accuracy: 0.8225\n",
            "Epoch 91/300\n",
            "4/4 [==============================] - 0s 12ms/step - loss: 0.4580 - accuracy: 0.8285 - val_loss: 0.4682 - val_accuracy: 0.8225\n",
            "Epoch 92/300\n",
            "4/4 [==============================] - 0s 13ms/step - loss: 0.4580 - accuracy: 0.8285 - val_loss: 0.4680 - val_accuracy: 0.8225\n",
            "Epoch 93/300\n",
            "4/4 [==============================] - 0s 13ms/step - loss: 0.4579 - accuracy: 0.8285 - val_loss: 0.4679 - val_accuracy: 0.8225\n",
            "Epoch 94/300\n",
            "4/4 [==============================] - 0s 12ms/step - loss: 0.4580 - accuracy: 0.8285 - val_loss: 0.4678 - val_accuracy: 0.8225\n",
            "Epoch 95/300\n",
            "4/4 [==============================] - 0s 13ms/step - loss: 0.4581 - accuracy: 0.8285 - val_loss: 0.4678 - val_accuracy: 0.8225\n",
            "Epoch 96/300\n",
            "4/4 [==============================] - 0s 12ms/step - loss: 0.4582 - accuracy: 0.8285 - val_loss: 0.4679 - val_accuracy: 0.8225\n",
            "Epoch 97/300\n",
            "4/4 [==============================] - 0s 12ms/step - loss: 0.4584 - accuracy: 0.8285 - val_loss: 0.4679 - val_accuracy: 0.8225\n",
            "Epoch 98/300\n",
            "4/4 [==============================] - 0s 12ms/step - loss: 0.4585 - accuracy: 0.8285 - val_loss: 0.4679 - val_accuracy: 0.8225\n",
            "Epoch 99/300\n",
            "4/4 [==============================] - 0s 12ms/step - loss: 0.4582 - accuracy: 0.8285 - val_loss: 0.4678 - val_accuracy: 0.8225\n",
            "Epoch 100/300\n",
            "4/4 [==============================] - 0s 16ms/step - loss: 0.4579 - accuracy: 0.8285 - val_loss: 0.4679 - val_accuracy: 0.8225\n",
            "Epoch 101/300\n",
            "4/4 [==============================] - 0s 12ms/step - loss: 0.4579 - accuracy: 0.8285 - val_loss: 0.4679 - val_accuracy: 0.8225\n",
            "Epoch 102/300\n",
            "4/4 [==============================] - 0s 12ms/step - loss: 0.4579 - accuracy: 0.8285 - val_loss: 0.4678 - val_accuracy: 0.8225\n",
            "Epoch 103/300\n",
            "4/4 [==============================] - 0s 12ms/step - loss: 0.4582 - accuracy: 0.8285 - val_loss: 0.4678 - val_accuracy: 0.8225\n",
            "Epoch 104/300\n",
            "4/4 [==============================] - 0s 12ms/step - loss: 0.4581 - accuracy: 0.8285 - val_loss: 0.4678 - val_accuracy: 0.8225\n",
            "Epoch 105/300\n",
            "4/4 [==============================] - 0s 13ms/step - loss: 0.4580 - accuracy: 0.8285 - val_loss: 0.4678 - val_accuracy: 0.8225\n",
            "Epoch 106/300\n",
            "4/4 [==============================] - 0s 14ms/step - loss: 0.4580 - accuracy: 0.8285 - val_loss: 0.4678 - val_accuracy: 0.8225\n",
            "Epoch 107/300\n",
            "4/4 [==============================] - 0s 13ms/step - loss: 0.4581 - accuracy: 0.8285 - val_loss: 0.4678 - val_accuracy: 0.8225\n",
            "Epoch 108/300\n",
            "4/4 [==============================] - 0s 13ms/step - loss: 0.4583 - accuracy: 0.8285 - val_loss: 0.4679 - val_accuracy: 0.8225\n",
            "Epoch 109/300\n",
            "4/4 [==============================] - 0s 13ms/step - loss: 0.4584 - accuracy: 0.8285 - val_loss: 0.4679 - val_accuracy: 0.8225\n",
            "Epoch 110/300\n",
            "4/4 [==============================] - 0s 13ms/step - loss: 0.4583 - accuracy: 0.8285 - val_loss: 0.4678 - val_accuracy: 0.8225\n",
            "Epoch 111/300\n",
            "4/4 [==============================] - 0s 13ms/step - loss: 0.4580 - accuracy: 0.8285 - val_loss: 0.4679 - val_accuracy: 0.8225\n",
            "Epoch 112/300\n",
            "4/4 [==============================] - 0s 12ms/step - loss: 0.4578 - accuracy: 0.8285 - val_loss: 0.4681 - val_accuracy: 0.8225\n",
            "Epoch 113/300\n",
            "4/4 [==============================] - 0s 12ms/step - loss: 0.4579 - accuracy: 0.8285 - val_loss: 0.4683 - val_accuracy: 0.8225\n",
            "Epoch 114/300\n",
            "4/4 [==============================] - 0s 12ms/step - loss: 0.4580 - accuracy: 0.8285 - val_loss: 0.4687 - val_accuracy: 0.8225\n",
            "Epoch 115/300\n",
            "4/4 [==============================] - 0s 12ms/step - loss: 0.4582 - accuracy: 0.8285 - val_loss: 0.4692 - val_accuracy: 0.8225\n",
            "Epoch 116/300\n",
            "4/4 [==============================] - 0s 12ms/step - loss: 0.4586 - accuracy: 0.8285 - val_loss: 0.4697 - val_accuracy: 0.8225\n",
            "Epoch 117/300\n",
            "4/4 [==============================] - 0s 16ms/step - loss: 0.4589 - accuracy: 0.8285 - val_loss: 0.4697 - val_accuracy: 0.8225\n",
            "Epoch 118/300\n",
            "4/4 [==============================] - 0s 13ms/step - loss: 0.4589 - accuracy: 0.8285 - val_loss: 0.4694 - val_accuracy: 0.8225\n",
            "Epoch 119/300\n",
            "4/4 [==============================] - 0s 13ms/step - loss: 0.4588 - accuracy: 0.8285 - val_loss: 0.4684 - val_accuracy: 0.8225\n",
            "Epoch 120/300\n",
            "4/4 [==============================] - 0s 14ms/step - loss: 0.4581 - accuracy: 0.8285 - val_loss: 0.4680 - val_accuracy: 0.8225\n",
            "Epoch 121/300\n",
            "4/4 [==============================] - 0s 14ms/step - loss: 0.4579 - accuracy: 0.8285 - val_loss: 0.4680 - val_accuracy: 0.8225\n",
            "Epoch 122/300\n",
            "4/4 [==============================] - 0s 13ms/step - loss: 0.4579 - accuracy: 0.8285 - val_loss: 0.4680 - val_accuracy: 0.8225\n",
            "Epoch 123/300\n",
            "4/4 [==============================] - 0s 12ms/step - loss: 0.4579 - accuracy: 0.8285 - val_loss: 0.4679 - val_accuracy: 0.8225\n",
            "Epoch 124/300\n",
            "4/4 [==============================] - 0s 12ms/step - loss: 0.4580 - accuracy: 0.8285 - val_loss: 0.4679 - val_accuracy: 0.8225\n",
            "Epoch 125/300\n",
            "4/4 [==============================] - 0s 12ms/step - loss: 0.4580 - accuracy: 0.8285 - val_loss: 0.4679 - val_accuracy: 0.8225\n",
            "Epoch 126/300\n",
            "4/4 [==============================] - 0s 12ms/step - loss: 0.4580 - accuracy: 0.8285 - val_loss: 0.4679 - val_accuracy: 0.8225\n",
            "Epoch 127/300\n",
            "4/4 [==============================] - 0s 13ms/step - loss: 0.4580 - accuracy: 0.8285 - val_loss: 0.4679 - val_accuracy: 0.8225\n",
            "Epoch 128/300\n",
            "4/4 [==============================] - 0s 12ms/step - loss: 0.4580 - accuracy: 0.8285 - val_loss: 0.4679 - val_accuracy: 0.8225\n",
            "Epoch 129/300\n",
            "4/4 [==============================] - 0s 13ms/step - loss: 0.4581 - accuracy: 0.8285 - val_loss: 0.4679 - val_accuracy: 0.8225\n",
            "Epoch 130/300\n",
            "4/4 [==============================] - 0s 13ms/step - loss: 0.4580 - accuracy: 0.8285 - val_loss: 0.4679 - val_accuracy: 0.8225\n",
            "Epoch 131/300\n",
            "4/4 [==============================] - 0s 14ms/step - loss: 0.4580 - accuracy: 0.8285 - val_loss: 0.4679 - val_accuracy: 0.8225\n",
            "Epoch 132/300\n",
            "4/4 [==============================] - 0s 13ms/step - loss: 0.4580 - accuracy: 0.8285 - val_loss: 0.4680 - val_accuracy: 0.8225\n",
            "Epoch 133/300\n",
            "4/4 [==============================] - 0s 13ms/step - loss: 0.4579 - accuracy: 0.8285 - val_loss: 0.4680 - val_accuracy: 0.8225\n",
            "Epoch 134/300\n",
            "4/4 [==============================] - 0s 14ms/step - loss: 0.4579 - accuracy: 0.8285 - val_loss: 0.4681 - val_accuracy: 0.8225\n",
            "Epoch 135/300\n",
            "4/4 [==============================] - 0s 13ms/step - loss: 0.4579 - accuracy: 0.8285 - val_loss: 0.4682 - val_accuracy: 0.8225\n",
            "Epoch 136/300\n",
            "4/4 [==============================] - 0s 13ms/step - loss: 0.4580 - accuracy: 0.8285 - val_loss: 0.4684 - val_accuracy: 0.8225\n",
            "Epoch 137/300\n",
            "4/4 [==============================] - 0s 13ms/step - loss: 0.4580 - accuracy: 0.8285 - val_loss: 0.4684 - val_accuracy: 0.8225\n",
            "Epoch 138/300\n",
            "4/4 [==============================] - 0s 13ms/step - loss: 0.4579 - accuracy: 0.8285 - val_loss: 0.4681 - val_accuracy: 0.8225\n",
            "Epoch 139/300\n",
            "4/4 [==============================] - 0s 14ms/step - loss: 0.4579 - accuracy: 0.8285 - val_loss: 0.4680 - val_accuracy: 0.8225\n",
            "Epoch 140/300\n",
            "4/4 [==============================] - 0s 14ms/step - loss: 0.4579 - accuracy: 0.8285 - val_loss: 0.4680 - val_accuracy: 0.8225\n",
            "Epoch 141/300\n",
            "4/4 [==============================] - 0s 12ms/step - loss: 0.4579 - accuracy: 0.8285 - val_loss: 0.4681 - val_accuracy: 0.8225\n",
            "Epoch 142/300\n",
            "4/4 [==============================] - 0s 12ms/step - loss: 0.4578 - accuracy: 0.8285 - val_loss: 0.4679 - val_accuracy: 0.8225\n",
            "Epoch 143/300\n",
            "4/4 [==============================] - 0s 12ms/step - loss: 0.4580 - accuracy: 0.8285 - val_loss: 0.4680 - val_accuracy: 0.8225\n",
            "Epoch 144/300\n",
            "4/4 [==============================] - 0s 12ms/step - loss: 0.4584 - accuracy: 0.8285 - val_loss: 0.4681 - val_accuracy: 0.8225\n",
            "Epoch 145/300\n",
            "4/4 [==============================] - 0s 13ms/step - loss: 0.4586 - accuracy: 0.8285 - val_loss: 0.4683 - val_accuracy: 0.8225\n",
            "Epoch 146/300\n",
            "4/4 [==============================] - 0s 12ms/step - loss: 0.4590 - accuracy: 0.8285 - val_loss: 0.4685 - val_accuracy: 0.8225\n",
            "Epoch 147/300\n",
            "4/4 [==============================] - 0s 13ms/step - loss: 0.4591 - accuracy: 0.8285 - val_loss: 0.4684 - val_accuracy: 0.8225\n",
            "Epoch 148/300\n",
            "4/4 [==============================] - 0s 13ms/step - loss: 0.4590 - accuracy: 0.8285 - val_loss: 0.4681 - val_accuracy: 0.8225\n",
            "Epoch 149/300\n",
            "4/4 [==============================] - 0s 14ms/step - loss: 0.4586 - accuracy: 0.8285 - val_loss: 0.4680 - val_accuracy: 0.8225\n",
            "Epoch 150/300\n",
            "4/4 [==============================] - 0s 15ms/step - loss: 0.4582 - accuracy: 0.8285 - val_loss: 0.4679 - val_accuracy: 0.8225\n",
            "Epoch 151/300\n",
            "4/4 [==============================] - 0s 13ms/step - loss: 0.4579 - accuracy: 0.8285 - val_loss: 0.4680 - val_accuracy: 0.8225\n",
            "Epoch 152/300\n",
            "4/4 [==============================] - 0s 12ms/step - loss: 0.4579 - accuracy: 0.8285 - val_loss: 0.4681 - val_accuracy: 0.8225\n",
            "Epoch 153/300\n",
            "4/4 [==============================] - 0s 13ms/step - loss: 0.4579 - accuracy: 0.8285 - val_loss: 0.4683 - val_accuracy: 0.8225\n",
            "Epoch 154/300\n",
            "4/4 [==============================] - 0s 13ms/step - loss: 0.4580 - accuracy: 0.8285 - val_loss: 0.4683 - val_accuracy: 0.8225\n",
            "Epoch 155/300\n",
            "4/4 [==============================] - 0s 13ms/step - loss: 0.4579 - accuracy: 0.8285 - val_loss: 0.4685 - val_accuracy: 0.8225\n",
            "Epoch 156/300\n",
            "4/4 [==============================] - 0s 13ms/step - loss: 0.4581 - accuracy: 0.8285 - val_loss: 0.4689 - val_accuracy: 0.8225\n",
            "Epoch 157/300\n",
            "4/4 [==============================] - 0s 13ms/step - loss: 0.4584 - accuracy: 0.8285 - val_loss: 0.4696 - val_accuracy: 0.8225\n",
            "Epoch 158/300\n",
            "4/4 [==============================] - 0s 16ms/step - loss: 0.4589 - accuracy: 0.8285 - val_loss: 0.4702 - val_accuracy: 0.8225\n",
            "Epoch 159/300\n",
            "4/4 [==============================] - 0s 15ms/step - loss: 0.4592 - accuracy: 0.8285 - val_loss: 0.4702 - val_accuracy: 0.8225\n",
            "Epoch 160/300\n",
            "4/4 [==============================] - 0s 14ms/step - loss: 0.4591 - accuracy: 0.8285 - val_loss: 0.4701 - val_accuracy: 0.8225\n",
            "Epoch 161/300\n",
            "4/4 [==============================] - 0s 13ms/step - loss: 0.4592 - accuracy: 0.8285 - val_loss: 0.4700 - val_accuracy: 0.8225\n",
            "Epoch 162/300\n",
            "4/4 [==============================] - 0s 13ms/step - loss: 0.4588 - accuracy: 0.8285 - val_loss: 0.4692 - val_accuracy: 0.8225\n",
            "Epoch 163/300\n",
            "4/4 [==============================] - 0s 12ms/step - loss: 0.4583 - accuracy: 0.8285 - val_loss: 0.4686 - val_accuracy: 0.8225\n",
            "Epoch 164/300\n",
            "4/4 [==============================] - 0s 12ms/step - loss: 0.4580 - accuracy: 0.8285 - val_loss: 0.4682 - val_accuracy: 0.8225\n",
            "Epoch 165/300\n",
            "4/4 [==============================] - 0s 12ms/step - loss: 0.4578 - accuracy: 0.8285 - val_loss: 0.4680 - val_accuracy: 0.8225\n",
            "Epoch 166/300\n",
            "4/4 [==============================] - 0s 12ms/step - loss: 0.4577 - accuracy: 0.8285 - val_loss: 0.4679 - val_accuracy: 0.8225\n",
            "Epoch 167/300\n",
            "4/4 [==============================] - 0s 13ms/step - loss: 0.4580 - accuracy: 0.8285 - val_loss: 0.4681 - val_accuracy: 0.8225\n",
            "Epoch 168/300\n",
            "4/4 [==============================] - 0s 18ms/step - loss: 0.4587 - accuracy: 0.8285 - val_loss: 0.4683 - val_accuracy: 0.8225\n",
            "Epoch 169/300\n",
            "4/4 [==============================] - 0s 14ms/step - loss: 0.4588 - accuracy: 0.8285 - val_loss: 0.4682 - val_accuracy: 0.8225\n",
            "Epoch 170/300\n",
            "4/4 [==============================] - 0s 13ms/step - loss: 0.4585 - accuracy: 0.8285 - val_loss: 0.4680 - val_accuracy: 0.8225\n",
            "Epoch 171/300\n",
            "4/4 [==============================] - 0s 13ms/step - loss: 0.4582 - accuracy: 0.8285 - val_loss: 0.4679 - val_accuracy: 0.8225\n",
            "Epoch 172/300\n",
            "4/4 [==============================] - 0s 13ms/step - loss: 0.4578 - accuracy: 0.8285 - val_loss: 0.4680 - val_accuracy: 0.8225\n",
            "Epoch 173/300\n",
            "4/4 [==============================] - 0s 12ms/step - loss: 0.4578 - accuracy: 0.8285 - val_loss: 0.4682 - val_accuracy: 0.8225\n",
            "Epoch 174/300\n",
            "4/4 [==============================] - 0s 13ms/step - loss: 0.4579 - accuracy: 0.8285 - val_loss: 0.4684 - val_accuracy: 0.8225\n",
            "Epoch 175/300\n",
            "4/4 [==============================] - 0s 13ms/step - loss: 0.4581 - accuracy: 0.8285 - val_loss: 0.4687 - val_accuracy: 0.8225\n",
            "Epoch 176/300\n",
            "4/4 [==============================] - 0s 13ms/step - loss: 0.4581 - accuracy: 0.8285 - val_loss: 0.4688 - val_accuracy: 0.8225\n",
            "Epoch 177/300\n",
            "4/4 [==============================] - 0s 15ms/step - loss: 0.4581 - accuracy: 0.8285 - val_loss: 0.4687 - val_accuracy: 0.8225\n",
            "Epoch 178/300\n",
            "4/4 [==============================] - 0s 15ms/step - loss: 0.4581 - accuracy: 0.8285 - val_loss: 0.4688 - val_accuracy: 0.8225\n",
            "Epoch 179/300\n",
            "4/4 [==============================] - 0s 14ms/step - loss: 0.4581 - accuracy: 0.8285 - val_loss: 0.4688 - val_accuracy: 0.8225\n",
            "Epoch 180/300\n",
            "4/4 [==============================] - 0s 14ms/step - loss: 0.4582 - accuracy: 0.8285 - val_loss: 0.4689 - val_accuracy: 0.8225\n",
            "Epoch 181/300\n",
            "4/4 [==============================] - 0s 13ms/step - loss: 0.4582 - accuracy: 0.8285 - val_loss: 0.4688 - val_accuracy: 0.8225\n",
            "Epoch 182/300\n",
            "4/4 [==============================] - 0s 14ms/step - loss: 0.4581 - accuracy: 0.8285 - val_loss: 0.4687 - val_accuracy: 0.8225\n",
            "Epoch 183/300\n",
            "4/4 [==============================] - 0s 13ms/step - loss: 0.4581 - accuracy: 0.8285 - val_loss: 0.4687 - val_accuracy: 0.8225\n",
            "Epoch 184/300\n",
            "4/4 [==============================] - 0s 12ms/step - loss: 0.4581 - accuracy: 0.8285 - val_loss: 0.4688 - val_accuracy: 0.8225\n",
            "Epoch 185/300\n",
            "4/4 [==============================] - 0s 13ms/step - loss: 0.4582 - accuracy: 0.8285 - val_loss: 0.4689 - val_accuracy: 0.8225\n",
            "Epoch 186/300\n",
            "4/4 [==============================] - 0s 12ms/step - loss: 0.4582 - accuracy: 0.8285 - val_loss: 0.4689 - val_accuracy: 0.8225\n",
            "Epoch 187/300\n",
            "4/4 [==============================] - 0s 13ms/step - loss: 0.4582 - accuracy: 0.8285 - val_loss: 0.4690 - val_accuracy: 0.8225\n",
            "Epoch 188/300\n",
            "4/4 [==============================] - 0s 13ms/step - loss: 0.4584 - accuracy: 0.8285 - val_loss: 0.4691 - val_accuracy: 0.8225\n",
            "Epoch 189/300\n",
            "4/4 [==============================] - 0s 13ms/step - loss: 0.4581 - accuracy: 0.8285 - val_loss: 0.4686 - val_accuracy: 0.8225\n",
            "Epoch 190/300\n",
            "4/4 [==============================] - 0s 16ms/step - loss: 0.4580 - accuracy: 0.8285 - val_loss: 0.4685 - val_accuracy: 0.8225\n",
            "Epoch 191/300\n",
            "4/4 [==============================] - 0s 14ms/step - loss: 0.4580 - accuracy: 0.8285 - val_loss: 0.4685 - val_accuracy: 0.8225\n",
            "Epoch 192/300\n",
            "4/4 [==============================] - 0s 14ms/step - loss: 0.4579 - accuracy: 0.8285 - val_loss: 0.4682 - val_accuracy: 0.8225\n",
            "Epoch 193/300\n",
            "4/4 [==============================] - 0s 13ms/step - loss: 0.4579 - accuracy: 0.8285 - val_loss: 0.4683 - val_accuracy: 0.8225\n",
            "Epoch 194/300\n",
            "4/4 [==============================] - 0s 13ms/step - loss: 0.4579 - accuracy: 0.8285 - val_loss: 0.4685 - val_accuracy: 0.8225\n",
            "Epoch 195/300\n",
            "4/4 [==============================] - 0s 13ms/step - loss: 0.4580 - accuracy: 0.8285 - val_loss: 0.4686 - val_accuracy: 0.8225\n",
            "Epoch 196/300\n",
            "4/4 [==============================] - 0s 13ms/step - loss: 0.4580 - accuracy: 0.8285 - val_loss: 0.4685 - val_accuracy: 0.8225\n",
            "Epoch 197/300\n",
            "4/4 [==============================] - 0s 16ms/step - loss: 0.4580 - accuracy: 0.8285 - val_loss: 0.4685 - val_accuracy: 0.8225\n",
            "Epoch 198/300\n",
            "4/4 [==============================] - 0s 12ms/step - loss: 0.4580 - accuracy: 0.8285 - val_loss: 0.4684 - val_accuracy: 0.8225\n",
            "Epoch 199/300\n",
            "4/4 [==============================] - 0s 12ms/step - loss: 0.4580 - accuracy: 0.8285 - val_loss: 0.4686 - val_accuracy: 0.8225\n",
            "Epoch 200/300\n",
            "4/4 [==============================] - 0s 13ms/step - loss: 0.4580 - accuracy: 0.8285 - val_loss: 0.4688 - val_accuracy: 0.8225\n",
            "Epoch 201/300\n",
            "4/4 [==============================] - 0s 12ms/step - loss: 0.4581 - accuracy: 0.8285 - val_loss: 0.4692 - val_accuracy: 0.8225\n",
            "Epoch 202/300\n",
            "4/4 [==============================] - 0s 15ms/step - loss: 0.4584 - accuracy: 0.8285 - val_loss: 0.4694 - val_accuracy: 0.8225\n",
            "Epoch 203/300\n",
            "4/4 [==============================] - 0s 13ms/step - loss: 0.4584 - accuracy: 0.8285 - val_loss: 0.4691 - val_accuracy: 0.8225\n",
            "Epoch 204/300\n",
            "4/4 [==============================] - 0s 13ms/step - loss: 0.4582 - accuracy: 0.8285 - val_loss: 0.4685 - val_accuracy: 0.8225\n",
            "Epoch 205/300\n",
            "4/4 [==============================] - 0s 14ms/step - loss: 0.4578 - accuracy: 0.8285 - val_loss: 0.4680 - val_accuracy: 0.8225\n",
            "Epoch 206/300\n",
            "4/4 [==============================] - 0s 15ms/step - loss: 0.4579 - accuracy: 0.8285 - val_loss: 0.4679 - val_accuracy: 0.8225\n",
            "Epoch 207/300\n",
            "4/4 [==============================] - 0s 14ms/step - loss: 0.4580 - accuracy: 0.8285 - val_loss: 0.4680 - val_accuracy: 0.8225\n",
            "Epoch 208/300\n",
            "4/4 [==============================] - 0s 13ms/step - loss: 0.4581 - accuracy: 0.8285 - val_loss: 0.4680 - val_accuracy: 0.8225\n",
            "Epoch 209/300\n",
            "4/4 [==============================] - 0s 13ms/step - loss: 0.4581 - accuracy: 0.8285 - val_loss: 0.4680 - val_accuracy: 0.8225\n",
            "Epoch 210/300\n",
            "4/4 [==============================] - 0s 12ms/step - loss: 0.4583 - accuracy: 0.8285 - val_loss: 0.4680 - val_accuracy: 0.8225\n",
            "Epoch 211/300\n",
            "4/4 [==============================] - 0s 13ms/step - loss: 0.4582 - accuracy: 0.8285 - val_loss: 0.4680 - val_accuracy: 0.8225\n",
            "Epoch 212/300\n",
            "4/4 [==============================] - 0s 13ms/step - loss: 0.4582 - accuracy: 0.8285 - val_loss: 0.4680 - val_accuracy: 0.8225\n",
            "Epoch 213/300\n",
            "4/4 [==============================] - 0s 12ms/step - loss: 0.4581 - accuracy: 0.8285 - val_loss: 0.4680 - val_accuracy: 0.8225\n",
            "Epoch 214/300\n",
            "4/4 [==============================] - 0s 12ms/step - loss: 0.4580 - accuracy: 0.8285 - val_loss: 0.4680 - val_accuracy: 0.8225\n",
            "Epoch 215/300\n",
            "4/4 [==============================] - 0s 14ms/step - loss: 0.4577 - accuracy: 0.8285 - val_loss: 0.4682 - val_accuracy: 0.8225\n",
            "Epoch 216/300\n",
            "4/4 [==============================] - 0s 15ms/step - loss: 0.4577 - accuracy: 0.8285 - val_loss: 0.4685 - val_accuracy: 0.8225\n",
            "Epoch 217/300\n",
            "4/4 [==============================] - 0s 25ms/step - loss: 0.4581 - accuracy: 0.8285 - val_loss: 0.4691 - val_accuracy: 0.8225\n",
            "Epoch 218/300\n",
            "4/4 [==============================] - 0s 17ms/step - loss: 0.4584 - accuracy: 0.8285 - val_loss: 0.4694 - val_accuracy: 0.8225\n",
            "Epoch 219/300\n",
            "4/4 [==============================] - 0s 20ms/step - loss: 0.4584 - accuracy: 0.8285 - val_loss: 0.4691 - val_accuracy: 0.8225\n",
            "Epoch 220/300\n",
            "4/4 [==============================] - 0s 18ms/step - loss: 0.4582 - accuracy: 0.8285 - val_loss: 0.4689 - val_accuracy: 0.8225\n",
            "Epoch 221/300\n",
            "4/4 [==============================] - 0s 17ms/step - loss: 0.4581 - accuracy: 0.8285 - val_loss: 0.4687 - val_accuracy: 0.8225\n",
            "Epoch 222/300\n",
            "4/4 [==============================] - 0s 19ms/step - loss: 0.4580 - accuracy: 0.8285 - val_loss: 0.4686 - val_accuracy: 0.8225\n",
            "Epoch 223/300\n",
            "4/4 [==============================] - 0s 23ms/step - loss: 0.4578 - accuracy: 0.8285 - val_loss: 0.4682 - val_accuracy: 0.8225\n",
            "Epoch 224/300\n",
            "4/4 [==============================] - 0s 25ms/step - loss: 0.4579 - accuracy: 0.8285 - val_loss: 0.4680 - val_accuracy: 0.8225\n",
            "Epoch 225/300\n",
            "4/4 [==============================] - 0s 23ms/step - loss: 0.4579 - accuracy: 0.8285 - val_loss: 0.4681 - val_accuracy: 0.8225\n",
            "Epoch 226/300\n",
            "4/4 [==============================] - 0s 17ms/step - loss: 0.4585 - accuracy: 0.8285 - val_loss: 0.4683 - val_accuracy: 0.8225\n",
            "Epoch 227/300\n",
            "4/4 [==============================] - 0s 22ms/step - loss: 0.4586 - accuracy: 0.8285 - val_loss: 0.4683 - val_accuracy: 0.8225\n",
            "Epoch 228/300\n",
            "4/4 [==============================] - 0s 23ms/step - loss: 0.4585 - accuracy: 0.8285 - val_loss: 0.4682 - val_accuracy: 0.8225\n",
            "Epoch 229/300\n",
            "4/4 [==============================] - 0s 20ms/step - loss: 0.4583 - accuracy: 0.8285 - val_loss: 0.4681 - val_accuracy: 0.8225\n",
            "Epoch 230/300\n",
            "4/4 [==============================] - 0s 26ms/step - loss: 0.4582 - accuracy: 0.8285 - val_loss: 0.4681 - val_accuracy: 0.8225\n",
            "Epoch 231/300\n",
            "4/4 [==============================] - 0s 24ms/step - loss: 0.4582 - accuracy: 0.8285 - val_loss: 0.4681 - val_accuracy: 0.8225\n",
            "Epoch 232/300\n",
            "4/4 [==============================] - 0s 23ms/step - loss: 0.4581 - accuracy: 0.8285 - val_loss: 0.4680 - val_accuracy: 0.8225\n",
            "Epoch 233/300\n",
            "4/4 [==============================] - 0s 24ms/step - loss: 0.4578 - accuracy: 0.8285 - val_loss: 0.4680 - val_accuracy: 0.8225\n",
            "Epoch 234/300\n",
            "4/4 [==============================] - 0s 21ms/step - loss: 0.4578 - accuracy: 0.8285 - val_loss: 0.4680 - val_accuracy: 0.8225\n",
            "Epoch 235/300\n",
            "4/4 [==============================] - 0s 18ms/step - loss: 0.4578 - accuracy: 0.8285 - val_loss: 0.4680 - val_accuracy: 0.8225\n",
            "Epoch 236/300\n",
            "4/4 [==============================] - 0s 23ms/step - loss: 0.4578 - accuracy: 0.8285 - val_loss: 0.4680 - val_accuracy: 0.8225\n",
            "Epoch 237/300\n",
            "4/4 [==============================] - 0s 17ms/step - loss: 0.4579 - accuracy: 0.8285 - val_loss: 0.4680 - val_accuracy: 0.8225\n",
            "Epoch 238/300\n",
            "4/4 [==============================] - 0s 16ms/step - loss: 0.4580 - accuracy: 0.8285 - val_loss: 0.4680 - val_accuracy: 0.8225\n",
            "Epoch 239/300\n",
            "4/4 [==============================] - 0s 21ms/step - loss: 0.4579 - accuracy: 0.8285 - val_loss: 0.4680 - val_accuracy: 0.8225\n",
            "Epoch 240/300\n",
            "4/4 [==============================] - 0s 23ms/step - loss: 0.4579 - accuracy: 0.8285 - val_loss: 0.4680 - val_accuracy: 0.8225\n",
            "Epoch 241/300\n",
            "4/4 [==============================] - 0s 25ms/step - loss: 0.4578 - accuracy: 0.8285 - val_loss: 0.4681 - val_accuracy: 0.8225\n",
            "Epoch 242/300\n",
            "4/4 [==============================] - 0s 20ms/step - loss: 0.4577 - accuracy: 0.8285 - val_loss: 0.4683 - val_accuracy: 0.8225\n",
            "Epoch 243/300\n",
            "4/4 [==============================] - 0s 22ms/step - loss: 0.4577 - accuracy: 0.8285 - val_loss: 0.4685 - val_accuracy: 0.8225\n",
            "Epoch 244/300\n",
            "4/4 [==============================] - 0s 26ms/step - loss: 0.4580 - accuracy: 0.8285 - val_loss: 0.4690 - val_accuracy: 0.8225\n",
            "Epoch 245/300\n",
            "4/4 [==============================] - 0s 24ms/step - loss: 0.4582 - accuracy: 0.8285 - val_loss: 0.4693 - val_accuracy: 0.8225\n",
            "Epoch 246/300\n",
            "4/4 [==============================] - 0s 23ms/step - loss: 0.4584 - accuracy: 0.8285 - val_loss: 0.4696 - val_accuracy: 0.8225\n",
            "Epoch 247/300\n",
            "4/4 [==============================] - 0s 23ms/step - loss: 0.4586 - accuracy: 0.8285 - val_loss: 0.4697 - val_accuracy: 0.8225\n",
            "Epoch 248/300\n",
            "4/4 [==============================] - 0s 22ms/step - loss: 0.4586 - accuracy: 0.8285 - val_loss: 0.4696 - val_accuracy: 0.8225\n",
            "Epoch 249/300\n",
            "4/4 [==============================] - 0s 21ms/step - loss: 0.4586 - accuracy: 0.8285 - val_loss: 0.4696 - val_accuracy: 0.8225\n",
            "Epoch 250/300\n",
            "4/4 [==============================] - 0s 22ms/step - loss: 0.4585 - accuracy: 0.8285 - val_loss: 0.4690 - val_accuracy: 0.8225\n",
            "Epoch 251/300\n",
            "4/4 [==============================] - 0s 25ms/step - loss: 0.4580 - accuracy: 0.8285 - val_loss: 0.4683 - val_accuracy: 0.8225\n",
            "Epoch 252/300\n",
            "4/4 [==============================] - 0s 24ms/step - loss: 0.4578 - accuracy: 0.8285 - val_loss: 0.4680 - val_accuracy: 0.8225\n",
            "Epoch 253/300\n",
            "4/4 [==============================] - 0s 29ms/step - loss: 0.4578 - accuracy: 0.8285 - val_loss: 0.4680 - val_accuracy: 0.8225\n",
            "Epoch 254/300\n",
            "4/4 [==============================] - 0s 27ms/step - loss: 0.4578 - accuracy: 0.8285 - val_loss: 0.4680 - val_accuracy: 0.8225\n",
            "Epoch 255/300\n",
            "4/4 [==============================] - 0s 23ms/step - loss: 0.4579 - accuracy: 0.8285 - val_loss: 0.4680 - val_accuracy: 0.8225\n",
            "Epoch 256/300\n",
            "4/4 [==============================] - 0s 26ms/step - loss: 0.4578 - accuracy: 0.8285 - val_loss: 0.4681 - val_accuracy: 0.8225\n",
            "Epoch 257/300\n",
            "4/4 [==============================] - 0s 19ms/step - loss: 0.4578 - accuracy: 0.8285 - val_loss: 0.4683 - val_accuracy: 0.8225\n",
            "Epoch 258/300\n",
            "4/4 [==============================] - 0s 25ms/step - loss: 0.4578 - accuracy: 0.8285 - val_loss: 0.4686 - val_accuracy: 0.8225\n",
            "Epoch 259/300\n",
            "4/4 [==============================] - 0s 16ms/step - loss: 0.4579 - accuracy: 0.8285 - val_loss: 0.4690 - val_accuracy: 0.8225\n",
            "Epoch 260/300\n",
            "4/4 [==============================] - 0s 18ms/step - loss: 0.4582 - accuracy: 0.8285 - val_loss: 0.4695 - val_accuracy: 0.8225\n",
            "Epoch 261/300\n",
            "4/4 [==============================] - 0s 23ms/step - loss: 0.4585 - accuracy: 0.8285 - val_loss: 0.4695 - val_accuracy: 0.8225\n",
            "Epoch 262/300\n",
            "4/4 [==============================] - 0s 25ms/step - loss: 0.4584 - accuracy: 0.8285 - val_loss: 0.4688 - val_accuracy: 0.8225\n",
            "Epoch 263/300\n",
            "4/4 [==============================] - 0s 27ms/step - loss: 0.4580 - accuracy: 0.8285 - val_loss: 0.4681 - val_accuracy: 0.8225\n",
            "Epoch 264/300\n",
            "4/4 [==============================] - 0s 24ms/step - loss: 0.4576 - accuracy: 0.8285 - val_loss: 0.4680 - val_accuracy: 0.8225\n",
            "Epoch 265/300\n",
            "4/4 [==============================] - 0s 19ms/step - loss: 0.4579 - accuracy: 0.8285 - val_loss: 0.4680 - val_accuracy: 0.8225\n",
            "Epoch 266/300\n",
            "4/4 [==============================] - 0s 19ms/step - loss: 0.4579 - accuracy: 0.8285 - val_loss: 0.4680 - val_accuracy: 0.8225\n",
            "Epoch 267/300\n",
            "4/4 [==============================] - 0s 17ms/step - loss: 0.4579 - accuracy: 0.8285 - val_loss: 0.4680 - val_accuracy: 0.8225\n",
            "Epoch 268/300\n",
            "4/4 [==============================] - 0s 22ms/step - loss: 0.4580 - accuracy: 0.8285 - val_loss: 0.4680 - val_accuracy: 0.8225\n",
            "Epoch 269/300\n",
            "4/4 [==============================] - 0s 20ms/step - loss: 0.4579 - accuracy: 0.8285 - val_loss: 0.4680 - val_accuracy: 0.8225\n",
            "Epoch 270/300\n",
            "4/4 [==============================] - 0s 19ms/step - loss: 0.4577 - accuracy: 0.8285 - val_loss: 0.4681 - val_accuracy: 0.8225\n",
            "Epoch 271/300\n",
            "4/4 [==============================] - 0s 21ms/step - loss: 0.4577 - accuracy: 0.8285 - val_loss: 0.4683 - val_accuracy: 0.8225\n",
            "Epoch 272/300\n",
            "4/4 [==============================] - 0s 15ms/step - loss: 0.4579 - accuracy: 0.8285 - val_loss: 0.4688 - val_accuracy: 0.8225\n",
            "Epoch 273/300\n",
            "4/4 [==============================] - 0s 16ms/step - loss: 0.4581 - accuracy: 0.8285 - val_loss: 0.4689 - val_accuracy: 0.8225\n",
            "Epoch 274/300\n",
            "4/4 [==============================] - 0s 13ms/step - loss: 0.4581 - accuracy: 0.8285 - val_loss: 0.4686 - val_accuracy: 0.8225\n",
            "Epoch 275/300\n",
            "4/4 [==============================] - 0s 15ms/step - loss: 0.4578 - accuracy: 0.8285 - val_loss: 0.4682 - val_accuracy: 0.8225\n",
            "Epoch 276/300\n",
            "4/4 [==============================] - 0s 13ms/step - loss: 0.4579 - accuracy: 0.8285 - val_loss: 0.4680 - val_accuracy: 0.8225\n",
            "Epoch 277/300\n",
            "4/4 [==============================] - 0s 14ms/step - loss: 0.4578 - accuracy: 0.8285 - val_loss: 0.4680 - val_accuracy: 0.8225\n",
            "Epoch 278/300\n",
            "4/4 [==============================] - 0s 14ms/step - loss: 0.4579 - accuracy: 0.8285 - val_loss: 0.4680 - val_accuracy: 0.8225\n",
            "Epoch 279/300\n",
            "4/4 [==============================] - 0s 14ms/step - loss: 0.4578 - accuracy: 0.8285 - val_loss: 0.4681 - val_accuracy: 0.8225\n",
            "Epoch 280/300\n",
            "4/4 [==============================] - 0s 13ms/step - loss: 0.4577 - accuracy: 0.8285 - val_loss: 0.4684 - val_accuracy: 0.8225\n",
            "Epoch 281/300\n",
            "4/4 [==============================] - 0s 14ms/step - loss: 0.4577 - accuracy: 0.8285 - val_loss: 0.4687 - val_accuracy: 0.8225\n",
            "Epoch 282/300\n",
            "4/4 [==============================] - 0s 14ms/step - loss: 0.4580 - accuracy: 0.8285 - val_loss: 0.4690 - val_accuracy: 0.8225\n",
            "Epoch 283/300\n",
            "4/4 [==============================] - 0s 15ms/step - loss: 0.4582 - accuracy: 0.8285 - val_loss: 0.4692 - val_accuracy: 0.8225\n",
            "Epoch 284/300\n",
            "4/4 [==============================] - 0s 13ms/step - loss: 0.4583 - accuracy: 0.8285 - val_loss: 0.4693 - val_accuracy: 0.8225\n",
            "Epoch 285/300\n",
            "4/4 [==============================] - 0s 19ms/step - loss: 0.4583 - accuracy: 0.8285 - val_loss: 0.4693 - val_accuracy: 0.8225\n",
            "Epoch 286/300\n",
            "4/4 [==============================] - 0s 14ms/step - loss: 0.4583 - accuracy: 0.8285 - val_loss: 0.4690 - val_accuracy: 0.8225\n",
            "Epoch 287/300\n",
            "4/4 [==============================] - 0s 18ms/step - loss: 0.4580 - accuracy: 0.8285 - val_loss: 0.4686 - val_accuracy: 0.8225\n",
            "Epoch 288/300\n",
            "4/4 [==============================] - 0s 13ms/step - loss: 0.4579 - accuracy: 0.8285 - val_loss: 0.4685 - val_accuracy: 0.8225\n",
            "Epoch 289/300\n",
            "4/4 [==============================] - 0s 13ms/step - loss: 0.4578 - accuracy: 0.8285 - val_loss: 0.4684 - val_accuracy: 0.8225\n",
            "Epoch 290/300\n",
            "4/4 [==============================] - 0s 14ms/step - loss: 0.4578 - accuracy: 0.8285 - val_loss: 0.4683 - val_accuracy: 0.8225\n",
            "Epoch 291/300\n",
            "4/4 [==============================] - 0s 13ms/step - loss: 0.4578 - accuracy: 0.8285 - val_loss: 0.4683 - val_accuracy: 0.8225\n",
            "Epoch 292/300\n",
            "4/4 [==============================] - 0s 16ms/step - loss: 0.4578 - accuracy: 0.8285 - val_loss: 0.4682 - val_accuracy: 0.8225\n",
            "Epoch 293/300\n",
            "4/4 [==============================] - 0s 14ms/step - loss: 0.4577 - accuracy: 0.8285 - val_loss: 0.4682 - val_accuracy: 0.8225\n",
            "Epoch 294/300\n",
            "4/4 [==============================] - 0s 13ms/step - loss: 0.4577 - accuracy: 0.8285 - val_loss: 0.4682 - val_accuracy: 0.8225\n",
            "Epoch 295/300\n",
            "4/4 [==============================] - 0s 13ms/step - loss: 0.4578 - accuracy: 0.8285 - val_loss: 0.4681 - val_accuracy: 0.8225\n",
            "Epoch 296/300\n",
            "4/4 [==============================] - 0s 14ms/step - loss: 0.4577 - accuracy: 0.8285 - val_loss: 0.4681 - val_accuracy: 0.8225\n",
            "Epoch 297/300\n",
            "4/4 [==============================] - 0s 14ms/step - loss: 0.4577 - accuracy: 0.8285 - val_loss: 0.4682 - val_accuracy: 0.8225\n",
            "Epoch 298/300\n",
            "4/4 [==============================] - 0s 17ms/step - loss: 0.4577 - accuracy: 0.8285 - val_loss: 0.4685 - val_accuracy: 0.8225\n",
            "Epoch 299/300\n",
            "4/4 [==============================] - 0s 14ms/step - loss: 0.4579 - accuracy: 0.8285 - val_loss: 0.4689 - val_accuracy: 0.8225\n",
            "Epoch 300/300\n",
            "4/4 [==============================] - 0s 13ms/step - loss: 0.4580 - accuracy: 0.8285 - val_loss: 0.4688 - val_accuracy: 0.8225\n"
          ]
        }
      ],
      "source": [
        "if model_selection[model_flag]==\"ALL\" or model_selection[model_flag] == \"AE\":\n",
        "  # training the model on training dataset\n",
        "  his = ae_classifier.fit(predictions, y_test, epochs=300,batch_size=500, validation_split=0.2).history"
      ]
    },
    {
      "cell_type": "code",
      "execution_count": 83,
      "metadata": {
        "id": "yeNS7pLUNYBz",
        "colab": {
          "base_uri": "https://localhost:8080/"
        },
        "outputId": "65e89962-9c1f-4d1c-f301-9b8a708a2529"
      },
      "outputs": [
        {
          "output_type": "stream",
          "name": "stdout",
          "text": [
            "Saved model to disk\n",
            "Loaded model from disk\n"
          ]
        }
      ],
      "source": [
        "if model_selection[model_flag]==\"ALL\" or model_selection[model_flag] == \"AE\":\n",
        "  filepath = '/content/drive/MyDrive/Colab_Notebooks/Models/ae_classifier_binary'+model_name_suffix+'.json'\n",
        "  weightspath = '/content/drive/MyDrive/Colab_Notebooks/Weights/ae_classifier_binary'+model_name_suffix+'.h5'\n",
        "  if (not path.isfile(filepath)): \n",
        "    # serialize model to JSON\n",
        "    ae_classifier_json = ae_classifier.to_json()\n",
        "    with open(filepath, \"w\") as json_file:\n",
        "      json_file.write(ae_classifier_json)\n",
        "\n",
        "    # serialize weights to HDF5\n",
        "    ae_classifier.save_weights(weightspath)\n",
        "    print(\"Saved model to disk\")\n",
        "\n",
        "    # load json and create model\n",
        "    json_file = open(filepath, 'r')\n",
        "    loaded_model_json = json_file.read()\n",
        "    json_file.close()\n",
        "    ae_classifier = model_from_json(loaded_model_json)\n",
        "\n",
        "    # load weights into new model\n",
        "    ae_classifier.load_weights(weightspath)\n",
        "    print(\"Loaded model from disk\")"
      ]
    },
    {
      "cell_type": "code",
      "execution_count": 84,
      "metadata": {
        "id": "AG42bV79NYFB"
      },
      "outputs": [],
      "source": [
        "if model_selection[model_flag]==\"ALL\" or model_selection[model_flag] == \"AE\":\n",
        "  ae_classifier.compile(optimizer='adam', loss='binary_crossentropy',metrics=['accuracy'])"
      ]
    },
    {
      "cell_type": "code",
      "execution_count": 85,
      "metadata": {
        "id": "13aKBGJcNYHv",
        "colab": {
          "base_uri": "https://localhost:8080/"
        },
        "outputId": "10592fdc-8f61-4952-d8ac-8a4b1a8d5ede"
      },
      "outputs": [
        {
          "output_type": "stream",
          "name": "stdout",
          "text": [
            "60/60 [==============================] - 0s 2ms/step - loss: 0.4793 - accuracy: 0.8273\n",
            "Test results - Loss: 0.47930851578712463 - Accuracy: 82.73155689239502%\n"
          ]
        }
      ],
      "source": [
        "if model_selection[model_flag]==\"ALL\" or model_selection[model_flag] == \"AE\":\n",
        "  # predicting target attribute on testing dataset\n",
        "  test_results = ae_classifier.evaluate(X_test, y_test, verbose=1)\n",
        "  print(f'Test results - Loss: {test_results[0]} - Accuracy: {test_results[1]*100}%')"
      ]
    },
    {
      "cell_type": "code",
      "execution_count": 86,
      "metadata": {
        "id": "zCWbOaSyN1dH"
      },
      "outputs": [],
      "source": [
        "if model_selection[model_flag]==\"ALL\" or model_selection[model_flag] == \"AE\":\n",
        "  # representation of model layers\n",
        "  plot_model(ae_classifier, to_file='/content/drive/MyDrive/Colab_Notebooks/Plots/ae_classifier_binary.png', show_shapes=True)"
      ]
    },
    {
      "cell_type": "code",
      "execution_count": 87,
      "metadata": {
        "id": "44VaFGgVOBpU",
        "colab": {
          "base_uri": "https://localhost:8080/",
          "height": 472
        },
        "outputId": "b25e4929-b7e3-4c03-b14a-ded36f17cba2"
      },
      "outputs": [
        {
          "output_type": "display_data",
          "data": {
            "text/plain": [
              "<Figure size 640x480 with 1 Axes>"
            ],
            "image/png": "[encoded data removed]"
          },
          "metadata": {}
        }
      ],
      "source": [
        "if model_selection[model_flag]==\"ALL\" or model_selection[model_flag] == \"AE\":\n",
        "  # Plot of loss vs epoch of train and test dataset\n",
        "  plt.plot(his['loss'])\n",
        "  plt.plot(his['val_loss'])\n",
        "  plt.title(\"Plot of loss vs epoch for train and test dataset\")\n",
        "  plt.ylabel('loss')\n",
        "  plt.xlabel('epoch')\n",
        "  plt.legend(['train', 'test'], loc='upper right')\n",
        "  plt.savefig('/content/drive/MyDrive/Colab_Notebooks/Plots/ae_classifier_binary_loss.png')\n",
        "  plt.show()"
      ]
    },
    {
      "cell_type": "code",
      "execution_count": 88,
      "metadata": {
        "id": "Am0UB82rOIo1",
        "colab": {
          "base_uri": "https://localhost:8080/",
          "height": 472
        },
        "outputId": "f2e33230-99a6-4e92-f2ef-c63f6f5fb0c8"
      },
      "outputs": [
        {
          "output_type": "display_data",
          "data": {
            "text/plain": [
              "<Figure size 640x480 with 1 Axes>"
            ],
            "image/png": "[encoded data removed]"
          },
          "metadata": {}
        }
      ],
      "source": [
        "if model_selection[model_flag]==\"ALL\" or model_selection[model_flag] == \"AE\":\n",
        "  # Plot of accuracy vs epoch of train and test dataset\n",
        "  plt.plot(his['accuracy'])\n",
        "  plt.plot(his['val_accuracy'])\n",
        "  plt.title(\"Plot of accuracy vs epoch for train and test dataset\")\n",
        "  plt.ylabel('accuracy')\n",
        "  plt.xlabel('epoch')\n",
        "  plt.legend(['train', 'test'], loc='best')\n",
        "  plt.savefig('/content/drive/MyDrive/Colab_Notebooks/Plots/ae_classifier_binary_accuracy.png')\n",
        "  plt.show()"
      ]
    },
    {
      "cell_type": "code",
      "execution_count": 89,
      "metadata": {
        "id": "f5OZTlm0OMoW",
        "colab": {
          "base_uri": "https://localhost:8080/"
        },
        "outputId": "13b13b78-21b7-4d0e-c34d-967fbd864f13"
      },
      "outputs": [
        {
          "output_type": "stream",
          "name": "stdout",
          "text": [
            "60/60 [==============================] - 0s 1ms/step\n"
          ]
        }
      ],
      "source": [
        "if model_selection[model_flag]==\"ALL\" or model_selection[model_flag] == \"AE\":\n",
        "  y_pred = ae_classifier.predict(X_test).ravel()\n",
        "  fpr, tpr, thresholds = roc_curve(y_test, y_pred)\n",
        "  #auc = auc(fpr, tpr)"
      ]
    },
    {
      "cell_type": "code",
      "execution_count": 90,
      "metadata": {
        "id": "GbSkwfO2OTkn",
        "colab": {
          "base_uri": "https://localhost:8080/",
          "height": 510
        },
        "outputId": "b6d4cb6a-5c7d-42c6-d4e8-11b16bbef7da"
      },
      "outputs": [
        {
          "output_type": "stream",
          "name": "stderr",
          "text": [
            "WARNING:matplotlib.legend:No artists with labels found to put in legend.  Note that artists whose label start with an underscore are ignored when legend() is called with no argument.\n"
          ]
        },
        {
          "output_type": "display_data",
          "data": {
            "text/plain": [
              "<Figure size 640x480 with 1 Axes>"
            ],
            "image/png": "[encoded data removed]"
          },
          "metadata": {}
        }
      ],
      "source": [
        "if model_selection[model_flag]==\"ALL\" or model_selection[model_flag] == \"AE\":\n",
        "  plt.plot([0, 1], [0, 1], 'k--')\n",
        "  #plt.plot(fpr, tpr, label='Keras (area = {:.3f})'.format(auc))\n",
        "  plt.plot(fpr, tpr)\n",
        "  plt.xlabel('False positive rate')\n",
        "  plt.ylabel('True positive rate')\n",
        "  plt.title('ROC curve')\n",
        "  plt.legend(loc='best')\n",
        "  plt.savefig('/content/drive/MyDrive/Colab_Notebooks/Plots/ae_binary_roc.png')\n",
        "  plt.show()"
      ]
    },
    {
      "cell_type": "code",
      "execution_count": 91,
      "metadata": {
        "id": "n7Xl74UXOZxm",
        "colab": {
          "base_uri": "https://localhost:8080/"
        },
        "outputId": "01bc45ab-6850-4157-8a80-0bff131a4a24"
      },
      "outputs": [
        {
          "output_type": "stream",
          "name": "stdout",
          "text": [
            "60/60 [==============================] - 0s 2ms/step\n",
            "60/60 [==============================] - 0s 2ms/step\n"
          ]
        }
      ],
      "source": [
        "if model_selection[model_flag]==\"ALL\" or model_selection[model_flag] == \"AE\":\n",
        "  pred = ae_classifier.predict(X_test)\n",
        "  y_classes = (ae_classifier.predict(X_test)>0.5).astype('int32')"
      ]
    },
    {
      "cell_type": "code",
      "execution_count": 92,
      "metadata": {
        "id": "WA_g3UlXOZ71",
        "colab": {
          "base_uri": "https://localhost:8080/"
        },
        "outputId": "af92482f-915b-44ed-b334-a5bf762784da"
      },
      "outputs": [
        {
          "output_type": "stream",
          "name": "stdout",
          "text": [
            "Recall Score -  1.0\n",
            "F1 Score -  0.9054982817869416\n",
            "Precision Score -  0.8273155416012559\n",
            "False Positive Rate -  [1.]\n",
            "False Negative Rate -  [0.]\n",
            "Thresholds -  [1]\n"
          ]
        }
      ],
      "source": [
        "if model_selection[model_flag]==\"ALL\" or model_selection[model_flag] == \"AE\":\n",
        "  print(\"Recall Score - \",recall_score(y_test,y_classes))\n",
        "  print(\"F1 Score - \",f1_score(y_test,y_classes))\n",
        "  print(\"Precision Score - \",precision_score(y_test,y_classes))\n",
        "  fpr, fnr, thresholds = det_curve(y_test, y_classes)\n",
        "  print(\"False Positive Rate - \", fpr)\n",
        "  print(\"False Negative Rate - \", fnr)\n",
        "  print(\"Thresholds - \", thresholds)"
      ]
    },
    {
      "cell_type": "code",
      "source": [
        "print(classification_report(y_test, y_classes, target_names=['0', '1']))\n",
        "cm = confusion_matrix(y_test, y_classes)\n",
        "disp = ConfusionMatrixDisplay(confusion_matrix=cm,\n",
        "                              display_labels=['0', '1'])\n",
        "disp.plot()\n",
        "\n",
        "plt.show()"
      ],
      "metadata": {
        "id": "UgHHdx0qoryj",
        "colab": {
          "base_uri": "https://localhost:8080/",
          "height": 737
        },
        "outputId": "161053bb-44bb-4eea-ad02-9ffedbcd5245"
      },
      "execution_count": 93,
      "outputs": [
        {
          "output_type": "stream",
          "name": "stdout",
          "text": [
            "              precision    recall  f1-score   support\n",
            "\n",
            "           0       0.00      0.00      0.00       330\n",
            "           1       0.83      1.00      0.91      1581\n",
            "\n",
            "    accuracy                           0.83      1911\n",
            "   macro avg       0.41      0.50      0.45      1911\n",
            "weighted avg       0.68      0.83      0.75      1911\n",
            "\n"
          ]
        },
        {
          "output_type": "stream",
          "name": "stderr",
          "text": [
            "/usr/local/lib/python3.9/dist-packages/sklearn/metrics/_classification.py:1344: UndefinedMetricWarning: Precision and F-score are ill-defined and being set to 0.0 in labels with no predicted samples. Use `zero_division` parameter to control this behavior.\n",
            "  _warn_prf(average, modifier, msg_start, len(result))\n",
            "/usr/local/lib/python3.9/dist-packages/sklearn/metrics/_classification.py:1344: UndefinedMetricWarning: Precision and F-score are ill-defined and being set to 0.0 in labels with no predicted samples. Use `zero_division` parameter to control this behavior.\n",
            "  _warn_prf(average, modifier, msg_start, len(result))\n",
            "/usr/local/lib/python3.9/dist-packages/sklearn/metrics/_classification.py:1344: UndefinedMetricWarning: Precision and F-score are ill-defined and being set to 0.0 in labels with no predicted samples. Use `zero_division` parameter to control this behavior.\n",
            "  _warn_prf(average, modifier, msg_start, len(result))\n"
          ]
        },
        {
          "output_type": "display_data",
          "data": {
            "text/plain": [
              "<Figure size 640x480 with 2 Axes>"
            ],
            "image/png": "[encoded data removed]"
          },
          "metadata": {}
        }
      ]
    }
  ],
  "metadata": {
    "colab": {
      "provenance": [],
      "include_colab_link": true
    },
    "gpuClass": "standard",
    "kernelspec": {
      "display_name": "Python 3",
      "name": "python3"
    },
    "language_info": {
      "name": "python"
    },
    "accelerator": "GPU"
  },
  "nbformat": 4,
  "nbformat_minor": 0
}