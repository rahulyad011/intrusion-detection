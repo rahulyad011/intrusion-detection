{
  "cells": [
    {
      "cell_type": "markdown",
      "metadata": {
        "id": "view-in-github",
        "colab_type": "text"
      },
      "source": [
        "<a href=\"https://colab.research.google.com/github/rahulyad011/intrusion-detection/blob/main/SYN_DoS_Kitsune_Network_Attack_model_training.ipynb\" target=\"_parent\"><img src=\"https://colab.research.google.com/assets/colab-badge.svg\" alt=\"Open In Colab\"/></a>"
      ]
    },
    {
      "cell_type": "code",
      "execution_count": 1,
      "metadata": {
        "id": "qXQ8rUmdwaf4"
      },
      "outputs": [],
      "source": [
        "\n",
        "from sklearn.metrics import accuracy_score # for calculating accuracy of model\n",
        "from sklearn.model_selection import train_test_split # for splitting the dataset for training and testing\n",
        "from sklearn.metrics import classification_report # for generating a classification report of model\n",
        "import pickle # saving and loading trained model\n",
        "from os import path\n",
        "import numpy as np\n",
        "import pandas as pd\n",
        "import matplotlib.pyplot as plt\n",
        "\n",
        "# importing library for support vector machine classifier\n",
        "from sklearn.svm import SVC\n",
        "\n",
        "# MLP requirements \n",
        "from keras.layers import Dense # importing dense layer\n",
        "from keras.models import Sequential #importing Sequential layer\n",
        "from keras.models import model_from_json # saving and loading trained model\n",
        "\n",
        "# LSTM requirements \n",
        "from keras.layers import LSTM\n",
        "from keras.layers import Input\n",
        "from keras.models import Model\n",
        "\n",
        "# evaluation metrices\n",
        "from sklearn.metrics import classification_report, confusion_matrix\n",
        "from sklearn.metrics import roc_auc_score\n",
        "from sklearn.metrics import roc_curve, auc\n",
        "from sklearn.metrics import precision_score\n",
        "from sklearn.metrics import recall_score\n",
        "from sklearn.metrics import f1_score\n",
        "from sklearn.metrics import det_curve\n",
        "\n",
        "# representation of model layers\n",
        "from keras.utils.vis_utils import plot_model"
      ]
    },
    {
      "cell_type": "code",
      "source": [
        "from google.colab import drive\n",
        "drive.mount('/content/drive')"
      ],
      "metadata": {
        "colab": {
          "base_uri": "https://localhost:8080/"
        },
        "id": "DBCkPmpEjFSf",
        "outputId": "6a0f21bc-1667-4022-e0e8-a35aaf88f87e"
      },
      "execution_count": 2,
      "outputs": [
        {
          "output_type": "stream",
          "name": "stdout",
          "text": [
            "Mounted at /content/drive\n"
          ]
        }
      ]
    },
    {
      "cell_type": "code",
      "execution_count": 3,
      "metadata": {
        "colab": {
          "base_uri": "https://localhost:8080/",
          "height": 609
        },
        "id": "Pepa9lW8whHh",
        "outputId": "4f5d4e75-d24b-4ff3-a73f-a05f5814ef01"
      },
      "outputs": [
        {
          "output_type": "execute_result",
          "data": {
            "text/plain": [
              "               X1           X2            X3          X4           X5  \\\n",
              "0       76.333107  1419.317491  2.595890e+04  108.392983  1412.672436   \n",
              "1      102.574606   743.297353  4.361810e+05  147.023775   741.365795   \n",
              "2      108.907933   749.380285  4.359621e+05  160.008099   746.179084   \n",
              "3       27.797468    60.000000  7.730705e-11   41.150494    60.000000   \n",
              "4       66.285888   725.853787  4.219272e+05  110.406678   730.923915   \n",
              "...           ...          ...           ...         ...          ...   \n",
              "27707   45.469222  1398.683178  3.746700e+04   78.377406  1400.382237   \n",
              "27708   48.397431  1378.486186  7.452352e+04   86.574726  1386.295925   \n",
              "27709   47.526270  1405.991772  4.201597e+04   82.319552  1405.212742   \n",
              "27710   55.384816  1403.249422  4.820476e+04   93.537942  1404.675162   \n",
              "27711   68.117618  1422.378968  1.918011e+04  100.120863  1416.932559   \n",
              "\n",
              "                  X6          X7           X8             X9          X10  \\\n",
              "0       30514.852723  281.590328  1406.932297   33629.650619  2694.618739   \n",
              "1      432564.091427  391.997237   740.233182  429613.799804  3896.027599   \n",
              "2      433243.215768  410.643564   743.273659  429911.616559  3810.424801   \n",
              "3           0.000008  112.749802    60.003076       0.406055  1120.629515   \n",
              "4      422325.500690  354.601578   738.359180  425616.203898  3754.039538   \n",
              "...              ...         ...          ...            ...          ...   \n",
              "27707   37338.041853  251.103886  1398.719484   43846.022105  2667.104219   \n",
              "27708   67147.513719  272.504639  1393.987809   57748.701806  2695.789331   \n",
              "27709   44004.066870  260.993242  1404.910142   45097.217037  2681.244199   \n",
              "27710   46407.952434  274.518804  1403.926862   45771.374742  2694.088860   \n",
              "27711   22942.079907  272.939390  1407.409697   33507.017347  2692.177154   \n",
              "\n",
              "       ...          X108          X109         X110        X111         X112  \\\n",
              "0      ... -2.151742e-08  26938.387100  1399.958296  203.810089  1401.243458   \n",
              "1      ...  0.000000e+00  17014.150178  1450.000000    0.000159  1450.000000   \n",
              "2      ...  0.000000e+00  16631.012081  1450.000000    0.000143  1450.000000   \n",
              "3      ...  1.515122e-08  11260.140253    60.000000    0.000010  1404.069937   \n",
              "4      ...  0.000000e+00  16606.193102  1450.000000    0.000078  1450.000000   \n",
              "...    ...           ...           ...          ...         ...          ...   \n",
              "27707  ... -3.827955e-08  26867.946776  1401.652466  211.560261  1402.936077   \n",
              "27708  ... -3.656427e-08  26897.083858  1401.550103  212.094743  1402.833808   \n",
              "27709  ... -2.052881e-08  26883.881558  1401.900236  211.835179  1403.183620   \n",
              "27710  ... -1.391181e-08  26897.820471  1401.906384  211.499285  1403.189763   \n",
              "27711  ... -3.313757e-08  26892.435995  1401.750121  211.442061  1403.033643   \n",
              "\n",
              "               X113          X114          X115  Unnamed: 0  label  \n",
              "0      4.153855e+04 -8.081279e-12 -6.789514e-09     1763051    0.0  \n",
              "1      2.514571e-08  0.000000e+00  0.000000e+00     1428500    0.0  \n",
              "2      2.048910e-08  0.000000e+00  0.000000e+00     1196627    0.0  \n",
              "3      4.250931e+04  8.437822e-11  4.129299e-08     1463903    0.0  \n",
              "4      6.053597e-09  0.000000e+00  0.000000e+00     1179198    0.0  \n",
              "...             ...           ...           ...         ...    ...  \n",
              "27707  4.475774e+04 -9.969412e-11 -5.884923e-08     2688419    1.0  \n",
              "27708  4.498418e+04 -1.020920e-10 -6.627472e-08     2690295    1.0  \n",
              "27709  4.487414e+04 -9.489772e-11 -9.794758e-08     2708524    1.0  \n",
              "27710  4.473195e+04 -9.820531e-11 -9.041219e-08     2701715    1.0  \n",
              "27711  4.470775e+04 -9.562578e-11 -4.827473e-08     2682813    1.0  \n",
              "\n",
              "[27712 rows x 117 columns]"
            ],
            "text/html": [
              "\n",
              "  <div id=\"df-8950282d-8d89-4732-be26-91346887d7e6\">\n",
              "    <div class=\"colab-df-container\">\n",
              "      <div>\n",
              "<style scoped>\n",
              "    .dataframe tbody tr th:only-of-type {\n",
              "        vertical-align: middle;\n",
              "    }\n",
              "\n",
              "    .dataframe tbody tr th {\n",
              "        vertical-align: top;\n",
              "    }\n",
              "\n",
              "    .dataframe thead th {\n",
              "        text-align: right;\n",
              "    }\n",
              "</style>\n",
              "<table border=\"1\" class=\"dataframe\">\n",
              "  <thead>\n",
              "    <tr style=\"text-align: right;\">\n",
              "      <th></th>\n",
              "      <th>X1</th>\n",
              "      <th>X2</th>\n",
              "      <th>X3</th>\n",
              "      <th>X4</th>\n",
              "      <th>X5</th>\n",
              "      <th>X6</th>\n",
              "      <th>X7</th>\n",
              "      <th>X8</th>\n",
              "      <th>X9</th>\n",
              "      <th>X10</th>\n",
              "      <th>...</th>\n",
              "      <th>X108</th>\n",
              "      <th>X109</th>\n",
              "      <th>X110</th>\n",
              "      <th>X111</th>\n",
              "      <th>X112</th>\n",
              "      <th>X113</th>\n",
              "      <th>X114</th>\n",
              "      <th>X115</th>\n",
              "      <th>Unnamed: 0</th>\n",
              "      <th>label</th>\n",
              "    </tr>\n",
              "  </thead>\n",
              "  <tbody>\n",
              "    <tr>\n",
              "      <th>0</th>\n",
              "      <td>76.333107</td>\n",
              "      <td>1419.317491</td>\n",
              "      <td>2.595890e+04</td>\n",
              "      <td>108.392983</td>\n",
              "      <td>1412.672436</td>\n",
              "      <td>30514.852723</td>\n",
              "      <td>281.590328</td>\n",
              "      <td>1406.932297</td>\n",
              "      <td>33629.650619</td>\n",
              "      <td>2694.618739</td>\n",
              "      <td>...</td>\n",
              "      <td>-2.151742e-08</td>\n",
              "      <td>26938.387100</td>\n",
              "      <td>1399.958296</td>\n",
              "      <td>203.810089</td>\n",
              "      <td>1401.243458</td>\n",
              "      <td>4.153855e+04</td>\n",
              "      <td>-8.081279e-12</td>\n",
              "      <td>-6.789514e-09</td>\n",
              "      <td>1763051</td>\n",
              "      <td>0.0</td>\n",
              "    </tr>\n",
              "    <tr>\n",
              "      <th>1</th>\n",
              "      <td>102.574606</td>\n",
              "      <td>743.297353</td>\n",
              "      <td>4.361810e+05</td>\n",
              "      <td>147.023775</td>\n",
              "      <td>741.365795</td>\n",
              "      <td>432564.091427</td>\n",
              "      <td>391.997237</td>\n",
              "      <td>740.233182</td>\n",
              "      <td>429613.799804</td>\n",
              "      <td>3896.027599</td>\n",
              "      <td>...</td>\n",
              "      <td>0.000000e+00</td>\n",
              "      <td>17014.150178</td>\n",
              "      <td>1450.000000</td>\n",
              "      <td>0.000159</td>\n",
              "      <td>1450.000000</td>\n",
              "      <td>2.514571e-08</td>\n",
              "      <td>0.000000e+00</td>\n",
              "      <td>0.000000e+00</td>\n",
              "      <td>1428500</td>\n",
              "      <td>0.0</td>\n",
              "    </tr>\n",
              "    <tr>\n",
              "      <th>2</th>\n",
              "      <td>108.907933</td>\n",
              "      <td>749.380285</td>\n",
              "      <td>4.359621e+05</td>\n",
              "      <td>160.008099</td>\n",
              "      <td>746.179084</td>\n",
              "      <td>433243.215768</td>\n",
              "      <td>410.643564</td>\n",
              "      <td>743.273659</td>\n",
              "      <td>429911.616559</td>\n",
              "      <td>3810.424801</td>\n",
              "      <td>...</td>\n",
              "      <td>0.000000e+00</td>\n",
              "      <td>16631.012081</td>\n",
              "      <td>1450.000000</td>\n",
              "      <td>0.000143</td>\n",
              "      <td>1450.000000</td>\n",
              "      <td>2.048910e-08</td>\n",
              "      <td>0.000000e+00</td>\n",
              "      <td>0.000000e+00</td>\n",
              "      <td>1196627</td>\n",
              "      <td>0.0</td>\n",
              "    </tr>\n",
              "    <tr>\n",
              "      <th>3</th>\n",
              "      <td>27.797468</td>\n",
              "      <td>60.000000</td>\n",
              "      <td>7.730705e-11</td>\n",
              "      <td>41.150494</td>\n",
              "      <td>60.000000</td>\n",
              "      <td>0.000008</td>\n",
              "      <td>112.749802</td>\n",
              "      <td>60.003076</td>\n",
              "      <td>0.406055</td>\n",
              "      <td>1120.629515</td>\n",
              "      <td>...</td>\n",
              "      <td>1.515122e-08</td>\n",
              "      <td>11260.140253</td>\n",
              "      <td>60.000000</td>\n",
              "      <td>0.000010</td>\n",
              "      <td>1404.069937</td>\n",
              "      <td>4.250931e+04</td>\n",
              "      <td>8.437822e-11</td>\n",
              "      <td>4.129299e-08</td>\n",
              "      <td>1463903</td>\n",
              "      <td>0.0</td>\n",
              "    </tr>\n",
              "    <tr>\n",
              "      <th>4</th>\n",
              "      <td>66.285888</td>\n",
              "      <td>725.853787</td>\n",
              "      <td>4.219272e+05</td>\n",
              "      <td>110.406678</td>\n",
              "      <td>730.923915</td>\n",
              "      <td>422325.500690</td>\n",
              "      <td>354.601578</td>\n",
              "      <td>738.359180</td>\n",
              "      <td>425616.203898</td>\n",
              "      <td>3754.039538</td>\n",
              "      <td>...</td>\n",
              "      <td>0.000000e+00</td>\n",
              "      <td>16606.193102</td>\n",
              "      <td>1450.000000</td>\n",
              "      <td>0.000078</td>\n",
              "      <td>1450.000000</td>\n",
              "      <td>6.053597e-09</td>\n",
              "      <td>0.000000e+00</td>\n",
              "      <td>0.000000e+00</td>\n",
              "      <td>1179198</td>\n",
              "      <td>0.0</td>\n",
              "    </tr>\n",
              "    <tr>\n",
              "      <th>...</th>\n",
              "      <td>...</td>\n",
              "      <td>...</td>\n",
              "      <td>...</td>\n",
              "      <td>...</td>\n",
              "      <td>...</td>\n",
              "      <td>...</td>\n",
              "      <td>...</td>\n",
              "      <td>...</td>\n",
              "      <td>...</td>\n",
              "      <td>...</td>\n",
              "      <td>...</td>\n",
              "      <td>...</td>\n",
              "      <td>...</td>\n",
              "      <td>...</td>\n",
              "      <td>...</td>\n",
              "      <td>...</td>\n",
              "      <td>...</td>\n",
              "      <td>...</td>\n",
              "      <td>...</td>\n",
              "      <td>...</td>\n",
              "      <td>...</td>\n",
              "    </tr>\n",
              "    <tr>\n",
              "      <th>27707</th>\n",
              "      <td>45.469222</td>\n",
              "      <td>1398.683178</td>\n",
              "      <td>3.746700e+04</td>\n",
              "      <td>78.377406</td>\n",
              "      <td>1400.382237</td>\n",
              "      <td>37338.041853</td>\n",
              "      <td>251.103886</td>\n",
              "      <td>1398.719484</td>\n",
              "      <td>43846.022105</td>\n",
              "      <td>2667.104219</td>\n",
              "      <td>...</td>\n",
              "      <td>-3.827955e-08</td>\n",
              "      <td>26867.946776</td>\n",
              "      <td>1401.652466</td>\n",
              "      <td>211.560261</td>\n",
              "      <td>1402.936077</td>\n",
              "      <td>4.475774e+04</td>\n",
              "      <td>-9.969412e-11</td>\n",
              "      <td>-5.884923e-08</td>\n",
              "      <td>2688419</td>\n",
              "      <td>1.0</td>\n",
              "    </tr>\n",
              "    <tr>\n",
              "      <th>27708</th>\n",
              "      <td>48.397431</td>\n",
              "      <td>1378.486186</td>\n",
              "      <td>7.452352e+04</td>\n",
              "      <td>86.574726</td>\n",
              "      <td>1386.295925</td>\n",
              "      <td>67147.513719</td>\n",
              "      <td>272.504639</td>\n",
              "      <td>1393.987809</td>\n",
              "      <td>57748.701806</td>\n",
              "      <td>2695.789331</td>\n",
              "      <td>...</td>\n",
              "      <td>-3.656427e-08</td>\n",
              "      <td>26897.083858</td>\n",
              "      <td>1401.550103</td>\n",
              "      <td>212.094743</td>\n",
              "      <td>1402.833808</td>\n",
              "      <td>4.498418e+04</td>\n",
              "      <td>-1.020920e-10</td>\n",
              "      <td>-6.627472e-08</td>\n",
              "      <td>2690295</td>\n",
              "      <td>1.0</td>\n",
              "    </tr>\n",
              "    <tr>\n",
              "      <th>27709</th>\n",
              "      <td>47.526270</td>\n",
              "      <td>1405.991772</td>\n",
              "      <td>4.201597e+04</td>\n",
              "      <td>82.319552</td>\n",
              "      <td>1405.212742</td>\n",
              "      <td>44004.066870</td>\n",
              "      <td>260.993242</td>\n",
              "      <td>1404.910142</td>\n",
              "      <td>45097.217037</td>\n",
              "      <td>2681.244199</td>\n",
              "      <td>...</td>\n",
              "      <td>-2.052881e-08</td>\n",
              "      <td>26883.881558</td>\n",
              "      <td>1401.900236</td>\n",
              "      <td>211.835179</td>\n",
              "      <td>1403.183620</td>\n",
              "      <td>4.487414e+04</td>\n",
              "      <td>-9.489772e-11</td>\n",
              "      <td>-9.794758e-08</td>\n",
              "      <td>2708524</td>\n",
              "      <td>1.0</td>\n",
              "    </tr>\n",
              "    <tr>\n",
              "      <th>27710</th>\n",
              "      <td>55.384816</td>\n",
              "      <td>1403.249422</td>\n",
              "      <td>4.820476e+04</td>\n",
              "      <td>93.537942</td>\n",
              "      <td>1404.675162</td>\n",
              "      <td>46407.952434</td>\n",
              "      <td>274.518804</td>\n",
              "      <td>1403.926862</td>\n",
              "      <td>45771.374742</td>\n",
              "      <td>2694.088860</td>\n",
              "      <td>...</td>\n",
              "      <td>-1.391181e-08</td>\n",
              "      <td>26897.820471</td>\n",
              "      <td>1401.906384</td>\n",
              "      <td>211.499285</td>\n",
              "      <td>1403.189763</td>\n",
              "      <td>4.473195e+04</td>\n",
              "      <td>-9.820531e-11</td>\n",
              "      <td>-9.041219e-08</td>\n",
              "      <td>2701715</td>\n",
              "      <td>1.0</td>\n",
              "    </tr>\n",
              "    <tr>\n",
              "      <th>27711</th>\n",
              "      <td>68.117618</td>\n",
              "      <td>1422.378968</td>\n",
              "      <td>1.918011e+04</td>\n",
              "      <td>100.120863</td>\n",
              "      <td>1416.932559</td>\n",
              "      <td>22942.079907</td>\n",
              "      <td>272.939390</td>\n",
              "      <td>1407.409697</td>\n",
              "      <td>33507.017347</td>\n",
              "      <td>2692.177154</td>\n",
              "      <td>...</td>\n",
              "      <td>-3.313757e-08</td>\n",
              "      <td>26892.435995</td>\n",
              "      <td>1401.750121</td>\n",
              "      <td>211.442061</td>\n",
              "      <td>1403.033643</td>\n",
              "      <td>4.470775e+04</td>\n",
              "      <td>-9.562578e-11</td>\n",
              "      <td>-4.827473e-08</td>\n",
              "      <td>2682813</td>\n",
              "      <td>1.0</td>\n",
              "    </tr>\n",
              "  </tbody>\n",
              "</table>\n",
              "<p>27712 rows × 117 columns</p>\n",
              "</div>\n",
              "      <button class=\"colab-df-convert\" onclick=\"convertToInteractive('df-8950282d-8d89-4732-be26-91346887d7e6')\"\n",
              "              title=\"Convert this dataframe to an interactive table.\"\n",
              "              style=\"display:none;\">\n",
              "        \n",
              "  <svg xmlns=\"http://www.w3.org/2000/svg\" height=\"24px\"viewBox=\"0 0 24 24\"\n",
              "       width=\"24px\">\n",
              "    <path d=\"M0 0h24v24H0V0z\" fill=\"none\"/>\n",
              "    <path d=\"M18.56 5.44l.94 2.06.94-2.06 2.06-.94-2.06-.94-.94-2.06-.94 2.06-2.06.94zm-11 1L8.5 8.5l.94-2.06 2.06-.94-2.06-.94L8.5 2.5l-.94 2.06-2.06.94zm10 10l.94 2.06.94-2.06 2.06-.94-2.06-.94-.94-2.06-.94 2.06-2.06.94z\"/><path d=\"M17.41 7.96l-1.37-1.37c-.4-.4-.92-.59-1.43-.59-.52 0-1.04.2-1.43.59L10.3 9.45l-7.72 7.72c-.78.78-.78 2.05 0 2.83L4 21.41c.39.39.9.59 1.41.59.51 0 1.02-.2 1.41-.59l7.78-7.78 2.81-2.81c.8-.78.8-2.07 0-2.86zM5.41 20L4 18.59l7.72-7.72 1.47 1.35L5.41 20z\"/>\n",
              "  </svg>\n",
              "      </button>\n",
              "      \n",
              "  <style>\n",
              "    .colab-df-container {\n",
              "      display:flex;\n",
              "      flex-wrap:wrap;\n",
              "      gap: 12px;\n",
              "    }\n",
              "\n",
              "    .colab-df-convert {\n",
              "      background-color: #E8F0FE;\n",
              "      border: none;\n",
              "      border-radius: 50%;\n",
              "      cursor: pointer;\n",
              "      display: none;\n",
              "      fill: #1967D2;\n",
              "      height: 32px;\n",
              "      padding: 0 0 0 0;\n",
              "      width: 32px;\n",
              "    }\n",
              "\n",
              "    .colab-df-convert:hover {\n",
              "      background-color: #E2EBFA;\n",
              "      box-shadow: 0px 1px 2px rgba(60, 64, 67, 0.3), 0px 1px 3px 1px rgba(60, 64, 67, 0.15);\n",
              "      fill: #174EA6;\n",
              "    }\n",
              "\n",
              "    [theme=dark] .colab-df-convert {\n",
              "      background-color: #3B4455;\n",
              "      fill: #D2E3FC;\n",
              "    }\n",
              "\n",
              "    [theme=dark] .colab-df-convert:hover {\n",
              "      background-color: #434B5C;\n",
              "      box-shadow: 0px 1px 3px 1px rgba(0, 0, 0, 0.15);\n",
              "      filter: drop-shadow(0px 1px 2px rgba(0, 0, 0, 0.3));\n",
              "      fill: #FFFFFF;\n",
              "    }\n",
              "  </style>\n",
              "\n",
              "      <script>\n",
              "        const buttonEl =\n",
              "          document.querySelector('#df-8950282d-8d89-4732-be26-91346887d7e6 button.colab-df-convert');\n",
              "        buttonEl.style.display =\n",
              "          google.colab.kernel.accessAllowed ? 'block' : 'none';\n",
              "\n",
              "        async function convertToInteractive(key) {\n",
              "          const element = document.querySelector('#df-8950282d-8d89-4732-be26-91346887d7e6');\n",
              "          const dataTable =\n",
              "            await google.colab.kernel.invokeFunction('convertToInteractive',\n",
              "                                                     [key], {});\n",
              "          if (!dataTable) return;\n",
              "\n",
              "          const docLinkHtml = 'Like what you see? Visit the ' +\n",
              "            '<a target=\"_blank\" href=https://colab.research.google.com/notebooks/data_table.ipynb>data table notebook</a>'\n",
              "            + ' to learn more about interactive tables.';\n",
              "          element.innerHTML = '';\n",
              "          dataTable['output_type'] = 'display_data';\n",
              "          await google.colab.output.renderOutput(dataTable, element);\n",
              "          const docLink = document.createElement('div');\n",
              "          docLink.innerHTML = docLinkHtml;\n",
              "          element.appendChild(docLink);\n",
              "        }\n",
              "      </script>\n",
              "    </div>\n",
              "  </div>\n",
              "  "
            ]
          },
          "metadata": {},
          "execution_count": 3
        }
      ],
      "source": [
        "bin_data_total = data = pd.read_csv(\"/content/drive/MyDrive/Colab_Notebooks/Datasets/kitsume_network_attack_dataset/SYN_DoS_dataset_kitsune_binary_data_1M.csv\")\n",
        "bin_data_total.drop(bin_data_total.columns[0],axis=1,inplace=True)\n",
        "bin_data_total"
      ]
    },
    {
      "cell_type": "code",
      "execution_count": 4,
      "metadata": {
        "colab": {
          "base_uri": "https://localhost:8080/"
        },
        "id": "xHCs0B3sKOa_",
        "outputId": "fe450cb6-34a2-4b7b-c8b1-486b6b198801"
      },
      "outputs": [
        {
          "output_type": "execute_result",
          "data": {
            "text/plain": [
              "0.0    0.997474\n",
              "1.0    0.002526\n",
              "Name: label, dtype: float64"
            ]
          },
          "metadata": {},
          "execution_count": 4
        }
      ],
      "source": [
        "# distribution of label class before sampling\n",
        "data_size = bin_data_total.shape[0]\n",
        "# data_size\n",
        "bin_data_total.label.value_counts()/data_size"
      ]
    },
    {
      "cell_type": "code",
      "source": [
        "model_name_suffix = \"_kitsune_SYN_DoS\""
      ],
      "metadata": {
        "collapsed": true,
        "id": "xoRpI3HV9G2v"
      },
      "execution_count": 5,
      "outputs": []
    },
    {
      "cell_type": "code",
      "source": [
        "# numeric feature normalization\n",
        "from sklearn.preprocessing import MinMaxScaler\n",
        "from sklearn.preprocessing import StandardScaler\n",
        "\n",
        "numeric_cols = bin_data_total.select_dtypes(['number']).columns\n",
        "numeric_cols = numeric_cols.drop('label')\n",
        "flag = 0\n",
        "scaler = None\n",
        "if flag:\n",
        "  # using standard scaler for normalizing\n",
        "  scaler = StandardScaler()\n",
        "else:\n",
        "  # using minmax scaler for normalizing\n",
        "  # to avoid negative values after scaling\n",
        "  scaler = MinMaxScaler()\n",
        "\n",
        "def normalization_train(df,col):\n",
        "  for i in col:\n",
        "    arr = df[i]\n",
        "    arr = np.array(arr)\n",
        "    df[i] = scaler.fit_transform(arr.reshape(len(arr),1))\n",
        "  return df\n",
        "\n",
        "def normalization_test(df,col):\n",
        "  for i in col:\n",
        "    arr = df[i]\n",
        "    arr = np.array(arr)\n",
        "    df[i] = scaler.transform(arr.reshape(len(arr),1))\n",
        "  return df\n",
        "\n",
        "# numeric_cols"
      ],
      "metadata": {
        "id": "QAUrPvEIYHoH"
      },
      "execution_count": 6,
      "outputs": []
    },
    {
      "cell_type": "code",
      "execution_count": 7,
      "metadata": {
        "colab": {
          "base_uri": "https://localhost:8080/",
          "height": 609
        },
        "id": "XSTP2AcKJgTF",
        "outputId": "fde506c1-3678-4fcc-e8b7-c49574beb59d"
      },
      "outputs": [
        {
          "output_type": "execute_result",
          "data": {
            "text/plain": [
              "               X1           X2            X3          X4           X5  \\\n",
              "0       76.333107  1419.317491  2.595890e+04  108.392983  1412.672436   \n",
              "1      102.574606   743.297353  4.361810e+05  147.023775   741.365795   \n",
              "2      108.907933   749.380285  4.359621e+05  160.008099   746.179084   \n",
              "3       27.797468    60.000000  7.730705e-11   41.150494    60.000000   \n",
              "4       66.285888   725.853787  4.219272e+05  110.406678   730.923915   \n",
              "...           ...          ...           ...         ...          ...   \n",
              "27707   45.469222  1398.683178  3.746700e+04   78.377406  1400.382237   \n",
              "27708   48.397431  1378.486186  7.452352e+04   86.574726  1386.295925   \n",
              "27709   47.526270  1405.991772  4.201597e+04   82.319552  1405.212742   \n",
              "27710   55.384816  1403.249422  4.820476e+04   93.537942  1404.675162   \n",
              "27711   68.117618  1422.378968  1.918011e+04  100.120863  1416.932559   \n",
              "\n",
              "                  X6          X7           X8             X9          X10  \\\n",
              "0       30514.852723  281.590328  1406.932297   33629.650619  2694.618739   \n",
              "1      432564.091427  391.997237   740.233182  429613.799804  3896.027599   \n",
              "2      433243.215768  410.643564   743.273659  429911.616559  3810.424801   \n",
              "3           0.000008  112.749802    60.003076       0.406055  1120.629515   \n",
              "4      422325.500690  354.601578   738.359180  425616.203898  3754.039538   \n",
              "...              ...         ...          ...            ...          ...   \n",
              "27707   37338.041853  251.103886  1398.719484   43846.022105  2667.104219   \n",
              "27708   67147.513719  272.504639  1393.987809   57748.701806  2695.789331   \n",
              "27709   44004.066870  260.993242  1404.910142   45097.217037  2681.244199   \n",
              "27710   46407.952434  274.518804  1403.926862   45771.374742  2694.088860   \n",
              "27711   22942.079907  272.939390  1407.409697   33507.017347  2692.177154   \n",
              "\n",
              "       ...          X108          X109         X110        X111         X112  \\\n",
              "0      ... -2.151742e-08  26938.387100  1399.958296  203.810089  1401.243458   \n",
              "1      ...  0.000000e+00  17014.150178  1450.000000    0.000159  1450.000000   \n",
              "2      ...  0.000000e+00  16631.012081  1450.000000    0.000143  1450.000000   \n",
              "3      ...  1.515122e-08  11260.140253    60.000000    0.000010  1404.069937   \n",
              "4      ...  0.000000e+00  16606.193102  1450.000000    0.000078  1450.000000   \n",
              "...    ...           ...           ...          ...         ...          ...   \n",
              "27707  ... -3.827955e-08  26867.946776  1401.652466  211.560261  1402.936077   \n",
              "27708  ... -3.656427e-08  26897.083858  1401.550103  212.094743  1402.833808   \n",
              "27709  ... -2.052881e-08  26883.881558  1401.900236  211.835179  1403.183620   \n",
              "27710  ... -1.391181e-08  26897.820471  1401.906384  211.499285  1403.189763   \n",
              "27711  ... -3.313757e-08  26892.435995  1401.750121  211.442061  1403.033643   \n",
              "\n",
              "               X113          X114          X115  Unnamed: 0  label  \n",
              "0      4.153855e+04 -8.081279e-12 -6.789514e-09     1763051    0.0  \n",
              "1      2.514571e-08  0.000000e+00  0.000000e+00     1428500    0.0  \n",
              "2      2.048910e-08  0.000000e+00  0.000000e+00     1196627    0.0  \n",
              "3      4.250931e+04  8.437822e-11  4.129299e-08     1463903    0.0  \n",
              "4      6.053597e-09  0.000000e+00  0.000000e+00     1179198    0.0  \n",
              "...             ...           ...           ...         ...    ...  \n",
              "27707  4.475774e+04 -9.969412e-11 -5.884923e-08     2688419    1.0  \n",
              "27708  4.498418e+04 -1.020920e-10 -6.627472e-08     2690295    1.0  \n",
              "27709  4.487414e+04 -9.489772e-11 -9.794758e-08     2708524    1.0  \n",
              "27710  4.473195e+04 -9.820531e-11 -9.041219e-08     2701715    1.0  \n",
              "27711  4.470775e+04 -9.562578e-11 -4.827473e-08     2682813    1.0  \n",
              "\n",
              "[27712 rows x 117 columns]"
            ],
            "text/html": [
              "\n",
              "  <div id=\"df-7f22cbcd-3388-4267-8ea4-5d2082a481e8\">\n",
              "    <div class=\"colab-df-container\">\n",
              "      <div>\n",
              "<style scoped>\n",
              "    .dataframe tbody tr th:only-of-type {\n",
              "        vertical-align: middle;\n",
              "    }\n",
              "\n",
              "    .dataframe tbody tr th {\n",
              "        vertical-align: top;\n",
              "    }\n",
              "\n",
              "    .dataframe thead th {\n",
              "        text-align: right;\n",
              "    }\n",
              "</style>\n",
              "<table border=\"1\" class=\"dataframe\">\n",
              "  <thead>\n",
              "    <tr style=\"text-align: right;\">\n",
              "      <th></th>\n",
              "      <th>X1</th>\n",
              "      <th>X2</th>\n",
              "      <th>X3</th>\n",
              "      <th>X4</th>\n",
              "      <th>X5</th>\n",
              "      <th>X6</th>\n",
              "      <th>X7</th>\n",
              "      <th>X8</th>\n",
              "      <th>X9</th>\n",
              "      <th>X10</th>\n",
              "      <th>...</th>\n",
              "      <th>X108</th>\n",
              "      <th>X109</th>\n",
              "      <th>X110</th>\n",
              "      <th>X111</th>\n",
              "      <th>X112</th>\n",
              "      <th>X113</th>\n",
              "      <th>X114</th>\n",
              "      <th>X115</th>\n",
              "      <th>Unnamed: 0</th>\n",
              "      <th>label</th>\n",
              "    </tr>\n",
              "  </thead>\n",
              "  <tbody>\n",
              "    <tr>\n",
              "      <th>0</th>\n",
              "      <td>76.333107</td>\n",
              "      <td>1419.317491</td>\n",
              "      <td>2.595890e+04</td>\n",
              "      <td>108.392983</td>\n",
              "      <td>1412.672436</td>\n",
              "      <td>30514.852723</td>\n",
              "      <td>281.590328</td>\n",
              "      <td>1406.932297</td>\n",
              "      <td>33629.650619</td>\n",
              "      <td>2694.618739</td>\n",
              "      <td>...</td>\n",
              "      <td>-2.151742e-08</td>\n",
              "      <td>26938.387100</td>\n",
              "      <td>1399.958296</td>\n",
              "      <td>203.810089</td>\n",
              "      <td>1401.243458</td>\n",
              "      <td>4.153855e+04</td>\n",
              "      <td>-8.081279e-12</td>\n",
              "      <td>-6.789514e-09</td>\n",
              "      <td>1763051</td>\n",
              "      <td>0.0</td>\n",
              "    </tr>\n",
              "    <tr>\n",
              "      <th>1</th>\n",
              "      <td>102.574606</td>\n",
              "      <td>743.297353</td>\n",
              "      <td>4.361810e+05</td>\n",
              "      <td>147.023775</td>\n",
              "      <td>741.365795</td>\n",
              "      <td>432564.091427</td>\n",
              "      <td>391.997237</td>\n",
              "      <td>740.233182</td>\n",
              "      <td>429613.799804</td>\n",
              "      <td>3896.027599</td>\n",
              "      <td>...</td>\n",
              "      <td>0.000000e+00</td>\n",
              "      <td>17014.150178</td>\n",
              "      <td>1450.000000</td>\n",
              "      <td>0.000159</td>\n",
              "      <td>1450.000000</td>\n",
              "      <td>2.514571e-08</td>\n",
              "      <td>0.000000e+00</td>\n",
              "      <td>0.000000e+00</td>\n",
              "      <td>1428500</td>\n",
              "      <td>0.0</td>\n",
              "    </tr>\n",
              "    <tr>\n",
              "      <th>2</th>\n",
              "      <td>108.907933</td>\n",
              "      <td>749.380285</td>\n",
              "      <td>4.359621e+05</td>\n",
              "      <td>160.008099</td>\n",
              "      <td>746.179084</td>\n",
              "      <td>433243.215768</td>\n",
              "      <td>410.643564</td>\n",
              "      <td>743.273659</td>\n",
              "      <td>429911.616559</td>\n",
              "      <td>3810.424801</td>\n",
              "      <td>...</td>\n",
              "      <td>0.000000e+00</td>\n",
              "      <td>16631.012081</td>\n",
              "      <td>1450.000000</td>\n",
              "      <td>0.000143</td>\n",
              "      <td>1450.000000</td>\n",
              "      <td>2.048910e-08</td>\n",
              "      <td>0.000000e+00</td>\n",
              "      <td>0.000000e+00</td>\n",
              "      <td>1196627</td>\n",
              "      <td>0.0</td>\n",
              "    </tr>\n",
              "    <tr>\n",
              "      <th>3</th>\n",
              "      <td>27.797468</td>\n",
              "      <td>60.000000</td>\n",
              "      <td>7.730705e-11</td>\n",
              "      <td>41.150494</td>\n",
              "      <td>60.000000</td>\n",
              "      <td>0.000008</td>\n",
              "      <td>112.749802</td>\n",
              "      <td>60.003076</td>\n",
              "      <td>0.406055</td>\n",
              "      <td>1120.629515</td>\n",
              "      <td>...</td>\n",
              "      <td>1.515122e-08</td>\n",
              "      <td>11260.140253</td>\n",
              "      <td>60.000000</td>\n",
              "      <td>0.000010</td>\n",
              "      <td>1404.069937</td>\n",
              "      <td>4.250931e+04</td>\n",
              "      <td>8.437822e-11</td>\n",
              "      <td>4.129299e-08</td>\n",
              "      <td>1463903</td>\n",
              "      <td>0.0</td>\n",
              "    </tr>\n",
              "    <tr>\n",
              "      <th>4</th>\n",
              "      <td>66.285888</td>\n",
              "      <td>725.853787</td>\n",
              "      <td>4.219272e+05</td>\n",
              "      <td>110.406678</td>\n",
              "      <td>730.923915</td>\n",
              "      <td>422325.500690</td>\n",
              "      <td>354.601578</td>\n",
              "      <td>738.359180</td>\n",
              "      <td>425616.203898</td>\n",
              "      <td>3754.039538</td>\n",
              "      <td>...</td>\n",
              "      <td>0.000000e+00</td>\n",
              "      <td>16606.193102</td>\n",
              "      <td>1450.000000</td>\n",
              "      <td>0.000078</td>\n",
              "      <td>1450.000000</td>\n",
              "      <td>6.053597e-09</td>\n",
              "      <td>0.000000e+00</td>\n",
              "      <td>0.000000e+00</td>\n",
              "      <td>1179198</td>\n",
              "      <td>0.0</td>\n",
              "    </tr>\n",
              "    <tr>\n",
              "      <th>...</th>\n",
              "      <td>...</td>\n",
              "      <td>...</td>\n",
              "      <td>...</td>\n",
              "      <td>...</td>\n",
              "      <td>...</td>\n",
              "      <td>...</td>\n",
              "      <td>...</td>\n",
              "      <td>...</td>\n",
              "      <td>...</td>\n",
              "      <td>...</td>\n",
              "      <td>...</td>\n",
              "      <td>...</td>\n",
              "      <td>...</td>\n",
              "      <td>...</td>\n",
              "      <td>...</td>\n",
              "      <td>...</td>\n",
              "      <td>...</td>\n",
              "      <td>...</td>\n",
              "      <td>...</td>\n",
              "      <td>...</td>\n",
              "      <td>...</td>\n",
              "    </tr>\n",
              "    <tr>\n",
              "      <th>27707</th>\n",
              "      <td>45.469222</td>\n",
              "      <td>1398.683178</td>\n",
              "      <td>3.746700e+04</td>\n",
              "      <td>78.377406</td>\n",
              "      <td>1400.382237</td>\n",
              "      <td>37338.041853</td>\n",
              "      <td>251.103886</td>\n",
              "      <td>1398.719484</td>\n",
              "      <td>43846.022105</td>\n",
              "      <td>2667.104219</td>\n",
              "      <td>...</td>\n",
              "      <td>-3.827955e-08</td>\n",
              "      <td>26867.946776</td>\n",
              "      <td>1401.652466</td>\n",
              "      <td>211.560261</td>\n",
              "      <td>1402.936077</td>\n",
              "      <td>4.475774e+04</td>\n",
              "      <td>-9.969412e-11</td>\n",
              "      <td>-5.884923e-08</td>\n",
              "      <td>2688419</td>\n",
              "      <td>1.0</td>\n",
              "    </tr>\n",
              "    <tr>\n",
              "      <th>27708</th>\n",
              "      <td>48.397431</td>\n",
              "      <td>1378.486186</td>\n",
              "      <td>7.452352e+04</td>\n",
              "      <td>86.574726</td>\n",
              "      <td>1386.295925</td>\n",
              "      <td>67147.513719</td>\n",
              "      <td>272.504639</td>\n",
              "      <td>1393.987809</td>\n",
              "      <td>57748.701806</td>\n",
              "      <td>2695.789331</td>\n",
              "      <td>...</td>\n",
              "      <td>-3.656427e-08</td>\n",
              "      <td>26897.083858</td>\n",
              "      <td>1401.550103</td>\n",
              "      <td>212.094743</td>\n",
              "      <td>1402.833808</td>\n",
              "      <td>4.498418e+04</td>\n",
              "      <td>-1.020920e-10</td>\n",
              "      <td>-6.627472e-08</td>\n",
              "      <td>2690295</td>\n",
              "      <td>1.0</td>\n",
              "    </tr>\n",
              "    <tr>\n",
              "      <th>27709</th>\n",
              "      <td>47.526270</td>\n",
              "      <td>1405.991772</td>\n",
              "      <td>4.201597e+04</td>\n",
              "      <td>82.319552</td>\n",
              "      <td>1405.212742</td>\n",
              "      <td>44004.066870</td>\n",
              "      <td>260.993242</td>\n",
              "      <td>1404.910142</td>\n",
              "      <td>45097.217037</td>\n",
              "      <td>2681.244199</td>\n",
              "      <td>...</td>\n",
              "      <td>-2.052881e-08</td>\n",
              "      <td>26883.881558</td>\n",
              "      <td>1401.900236</td>\n",
              "      <td>211.835179</td>\n",
              "      <td>1403.183620</td>\n",
              "      <td>4.487414e+04</td>\n",
              "      <td>-9.489772e-11</td>\n",
              "      <td>-9.794758e-08</td>\n",
              "      <td>2708524</td>\n",
              "      <td>1.0</td>\n",
              "    </tr>\n",
              "    <tr>\n",
              "      <th>27710</th>\n",
              "      <td>55.384816</td>\n",
              "      <td>1403.249422</td>\n",
              "      <td>4.820476e+04</td>\n",
              "      <td>93.537942</td>\n",
              "      <td>1404.675162</td>\n",
              "      <td>46407.952434</td>\n",
              "      <td>274.518804</td>\n",
              "      <td>1403.926862</td>\n",
              "      <td>45771.374742</td>\n",
              "      <td>2694.088860</td>\n",
              "      <td>...</td>\n",
              "      <td>-1.391181e-08</td>\n",
              "      <td>26897.820471</td>\n",
              "      <td>1401.906384</td>\n",
              "      <td>211.499285</td>\n",
              "      <td>1403.189763</td>\n",
              "      <td>4.473195e+04</td>\n",
              "      <td>-9.820531e-11</td>\n",
              "      <td>-9.041219e-08</td>\n",
              "      <td>2701715</td>\n",
              "      <td>1.0</td>\n",
              "    </tr>\n",
              "    <tr>\n",
              "      <th>27711</th>\n",
              "      <td>68.117618</td>\n",
              "      <td>1422.378968</td>\n",
              "      <td>1.918011e+04</td>\n",
              "      <td>100.120863</td>\n",
              "      <td>1416.932559</td>\n",
              "      <td>22942.079907</td>\n",
              "      <td>272.939390</td>\n",
              "      <td>1407.409697</td>\n",
              "      <td>33507.017347</td>\n",
              "      <td>2692.177154</td>\n",
              "      <td>...</td>\n",
              "      <td>-3.313757e-08</td>\n",
              "      <td>26892.435995</td>\n",
              "      <td>1401.750121</td>\n",
              "      <td>211.442061</td>\n",
              "      <td>1403.033643</td>\n",
              "      <td>4.470775e+04</td>\n",
              "      <td>-9.562578e-11</td>\n",
              "      <td>-4.827473e-08</td>\n",
              "      <td>2682813</td>\n",
              "      <td>1.0</td>\n",
              "    </tr>\n",
              "  </tbody>\n",
              "</table>\n",
              "<p>27712 rows × 117 columns</p>\n",
              "</div>\n",
              "      <button class=\"colab-df-convert\" onclick=\"convertToInteractive('df-7f22cbcd-3388-4267-8ea4-5d2082a481e8')\"\n",
              "              title=\"Convert this dataframe to an interactive table.\"\n",
              "              style=\"display:none;\">\n",
              "        \n",
              "  <svg xmlns=\"http://www.w3.org/2000/svg\" height=\"24px\"viewBox=\"0 0 24 24\"\n",
              "       width=\"24px\">\n",
              "    <path d=\"M0 0h24v24H0V0z\" fill=\"none\"/>\n",
              "    <path d=\"M18.56 5.44l.94 2.06.94-2.06 2.06-.94-2.06-.94-.94-2.06-.94 2.06-2.06.94zm-11 1L8.5 8.5l.94-2.06 2.06-.94-2.06-.94L8.5 2.5l-.94 2.06-2.06.94zm10 10l.94 2.06.94-2.06 2.06-.94-2.06-.94-.94-2.06-.94 2.06-2.06.94z\"/><path d=\"M17.41 7.96l-1.37-1.37c-.4-.4-.92-.59-1.43-.59-.52 0-1.04.2-1.43.59L10.3 9.45l-7.72 7.72c-.78.78-.78 2.05 0 2.83L4 21.41c.39.39.9.59 1.41.59.51 0 1.02-.2 1.41-.59l7.78-7.78 2.81-2.81c.8-.78.8-2.07 0-2.86zM5.41 20L4 18.59l7.72-7.72 1.47 1.35L5.41 20z\"/>\n",
              "  </svg>\n",
              "      </button>\n",
              "      \n",
              "  <style>\n",
              "    .colab-df-container {\n",
              "      display:flex;\n",
              "      flex-wrap:wrap;\n",
              "      gap: 12px;\n",
              "    }\n",
              "\n",
              "    .colab-df-convert {\n",
              "      background-color: #E8F0FE;\n",
              "      border: none;\n",
              "      border-radius: 50%;\n",
              "      cursor: pointer;\n",
              "      display: none;\n",
              "      fill: #1967D2;\n",
              "      height: 32px;\n",
              "      padding: 0 0 0 0;\n",
              "      width: 32px;\n",
              "    }\n",
              "\n",
              "    .colab-df-convert:hover {\n",
              "      background-color: #E2EBFA;\n",
              "      box-shadow: 0px 1px 2px rgba(60, 64, 67, 0.3), 0px 1px 3px 1px rgba(60, 64, 67, 0.15);\n",
              "      fill: #174EA6;\n",
              "    }\n",
              "\n",
              "    [theme=dark] .colab-df-convert {\n",
              "      background-color: #3B4455;\n",
              "      fill: #D2E3FC;\n",
              "    }\n",
              "\n",
              "    [theme=dark] .colab-df-convert:hover {\n",
              "      background-color: #434B5C;\n",
              "      box-shadow: 0px 1px 3px 1px rgba(0, 0, 0, 0.15);\n",
              "      filter: drop-shadow(0px 1px 2px rgba(0, 0, 0, 0.3));\n",
              "      fill: #FFFFFF;\n",
              "    }\n",
              "  </style>\n",
              "\n",
              "      <script>\n",
              "        const buttonEl =\n",
              "          document.querySelector('#df-7f22cbcd-3388-4267-8ea4-5d2082a481e8 button.colab-df-convert');\n",
              "        buttonEl.style.display =\n",
              "          google.colab.kernel.accessAllowed ? 'block' : 'none';\n",
              "\n",
              "        async function convertToInteractive(key) {\n",
              "          const element = document.querySelector('#df-7f22cbcd-3388-4267-8ea4-5d2082a481e8');\n",
              "          const dataTable =\n",
              "            await google.colab.kernel.invokeFunction('convertToInteractive',\n",
              "                                                     [key], {});\n",
              "          if (!dataTable) return;\n",
              "\n",
              "          const docLinkHtml = 'Like what you see? Visit the ' +\n",
              "            '<a target=\"_blank\" href=https://colab.research.google.com/notebooks/data_table.ipynb>data table notebook</a>'\n",
              "            + ' to learn more about interactive tables.';\n",
              "          element.innerHTML = '';\n",
              "          dataTable['output_type'] = 'display_data';\n",
              "          await google.colab.output.renderOutput(dataTable, element);\n",
              "          const docLink = document.createElement('div');\n",
              "          docLink.innerHTML = docLinkHtml;\n",
              "          element.appendChild(docLink);\n",
              "        }\n",
              "      </script>\n",
              "    </div>\n",
              "  </div>\n",
              "  "
            ]
          },
          "metadata": {},
          "execution_count": 7
        }
      ],
      "source": [
        "# sampling data taking only 50% of the data\n",
        "# bin_data = bin_data_total.groupby('label', group_keys=False).apply(lambda x: x.sample(frac=0.5))\n",
        "bin_data = bin_data_total\n",
        "bin_data"
      ]
    },
    {
      "cell_type": "code",
      "source": [
        "number_of_cols = bin_data.shape[1]"
      ],
      "metadata": {
        "id": "N125Cc3Ukt8h"
      },
      "execution_count": 8,
      "outputs": []
    },
    {
      "cell_type": "code",
      "execution_count": 9,
      "metadata": {
        "colab": {
          "base_uri": "https://localhost:8080/"
        },
        "id": "nKX2TRG0J85J",
        "outputId": "52a292a8-1437-4374-cef8-88847e607d34"
      },
      "outputs": [
        {
          "output_type": "execute_result",
          "data": {
            "text/plain": [
              "0.0    0.997474\n",
              "1.0    0.002526\n",
              "Name: label, dtype: float64"
            ]
          },
          "metadata": {},
          "execution_count": 9
        }
      ],
      "source": [
        "# distribution of label class after sampling\n",
        "data_size = bin_data.shape[0]\n",
        "bin_data.label.value_counts()/data_size"
      ]
    },
    {
      "cell_type": "code",
      "execution_count": 10,
      "metadata": {
        "id": "L11T2MepDzax"
      },
      "outputs": [],
      "source": [
        "model_selection = {\n",
        "    0 : \"ALL\",\n",
        "    2 : \"MLP\",\n",
        "    3 : \"LSTM\",\n",
        "    4 : \"AE\"\n",
        "}\n",
        "model_flag = 0\n",
        "svm_enable = 1"
      ]
    },
    {
      "cell_type": "code",
      "execution_count": 11,
      "metadata": {
        "id": "OdRAXVlsxUVW"
      },
      "outputs": [],
      "source": [
        "X = bin_data.iloc[:,0:number_of_cols] # dataset excluding target attribute (encoded, one-hot-encoded,original)\n",
        "Y = bin_data['label'] # target attribute"
      ]
    },
    {
      "cell_type": "code",
      "execution_count": 12,
      "metadata": {
        "id": "lFdHHvRtxU5B"
      },
      "outputs": [],
      "source": [
        "# splitting the dataset 75% for training and 25% testing\n",
        "X_train, X_test, y_train, y_test = train_test_split(X,Y, test_size=0.25, random_state=42) "
      ]
    },
    {
      "cell_type": "code",
      "source": [
        "# calling the normalization() function\n",
        "X_train = normalization_train(X_train,numeric_cols)\n",
        "X_train.head()"
      ],
      "metadata": {
        "colab": {
          "base_uri": "https://localhost:8080/",
          "height": 404
        },
        "id": "SLLlMtsaYJdK",
        "outputId": "ba2482eb-7a6a-4cfb-86f6-65949ababac3"
      },
      "execution_count": 13,
      "outputs": [
        {
          "output_type": "execute_result",
          "data": {
            "text/plain": [
              "             X1        X2        X3        X4        X5        X6        X7  \\\n",
              "24525  0.166088  0.426967  0.882415  0.256099  0.444692  0.899292  0.358886   \n",
              "11764  0.194174  0.958824  0.144485  0.297001  0.962765  0.134833  0.386147   \n",
              "24215  0.225351  0.500753  0.944781  0.365064  0.497962  0.955164  0.514135   \n",
              "18937  0.257396  0.466428  0.937111  0.347835  0.467967  0.935284  0.404981   \n",
              "25311  0.113221  0.373419  0.818122  0.174033  0.397958  0.853442  0.253070   \n",
              "\n",
              "             X8        X9       X10  ...      X108      X109      X110  \\\n",
              "24525  0.461569  0.866489  0.485165  ...  0.000054  0.585702  0.088290   \n",
              "11764  0.963423  0.124932  0.487680  ...  0.000059  0.996603  0.963025   \n",
              "24215  0.494302  0.908349  0.688496  ...  0.000054  0.634490  1.000000   \n",
              "18937  0.472282  0.879686  0.498251  ...  0.000054  0.597865  0.110179   \n",
              "25311  0.427303  0.848512  0.351163  ...  0.000054  0.451264  0.090169   \n",
              "\n",
              "               X111      X112          X113          X114      X115  \\\n",
              "24525  5.604445e-01  0.088290  3.140981e-01  6.501300e-09  0.000339   \n",
              "11764  6.177378e-01  0.963950  3.816000e-01  6.919471e-09  0.000343   \n",
              "24215  5.268711e-07  1.000000  2.775932e-13  6.501300e-09  0.000339   \n",
              "18937  7.756083e-01  0.110179  6.015683e-01  6.501300e-09  0.000339   \n",
              "25311  6.033182e-01  0.090169  3.639929e-01  6.501300e-09  0.000339   \n",
              "\n",
              "       Unnamed: 0  label  \n",
              "24525    0.712519    0.0  \n",
              "11764    0.742928    0.0  \n",
              "24215    0.548021    0.0  \n",
              "18937    0.414784    0.0  \n",
              "25311    0.614001    0.0  \n",
              "\n",
              "[5 rows x 117 columns]"
            ],
            "text/html": [
              "\n",
              "  <div id=\"df-1ce1aa4b-ed4b-46b0-b9f9-1f9da96ce41e\">\n",
              "    <div class=\"colab-df-container\">\n",
              "      <div>\n",
              "<style scoped>\n",
              "    .dataframe tbody tr th:only-of-type {\n",
              "        vertical-align: middle;\n",
              "    }\n",
              "\n",
              "    .dataframe tbody tr th {\n",
              "        vertical-align: top;\n",
              "    }\n",
              "\n",
              "    .dataframe thead th {\n",
              "        text-align: right;\n",
              "    }\n",
              "</style>\n",
              "<table border=\"1\" class=\"dataframe\">\n",
              "  <thead>\n",
              "    <tr style=\"text-align: right;\">\n",
              "      <th></th>\n",
              "      <th>X1</th>\n",
              "      <th>X2</th>\n",
              "      <th>X3</th>\n",
              "      <th>X4</th>\n",
              "      <th>X5</th>\n",
              "      <th>X6</th>\n",
              "      <th>X7</th>\n",
              "      <th>X8</th>\n",
              "      <th>X9</th>\n",
              "      <th>X10</th>\n",
              "      <th>...</th>\n",
              "      <th>X108</th>\n",
              "      <th>X109</th>\n",
              "      <th>X110</th>\n",
              "      <th>X111</th>\n",
              "      <th>X112</th>\n",
              "      <th>X113</th>\n",
              "      <th>X114</th>\n",
              "      <th>X115</th>\n",
              "      <th>Unnamed: 0</th>\n",
              "      <th>label</th>\n",
              "    </tr>\n",
              "  </thead>\n",
              "  <tbody>\n",
              "    <tr>\n",
              "      <th>24525</th>\n",
              "      <td>0.166088</td>\n",
              "      <td>0.426967</td>\n",
              "      <td>0.882415</td>\n",
              "      <td>0.256099</td>\n",
              "      <td>0.444692</td>\n",
              "      <td>0.899292</td>\n",
              "      <td>0.358886</td>\n",
              "      <td>0.461569</td>\n",
              "      <td>0.866489</td>\n",
              "      <td>0.485165</td>\n",
              "      <td>...</td>\n",
              "      <td>0.000054</td>\n",
              "      <td>0.585702</td>\n",
              "      <td>0.088290</td>\n",
              "      <td>5.604445e-01</td>\n",
              "      <td>0.088290</td>\n",
              "      <td>3.140981e-01</td>\n",
              "      <td>6.501300e-09</td>\n",
              "      <td>0.000339</td>\n",
              "      <td>0.712519</td>\n",
              "      <td>0.0</td>\n",
              "    </tr>\n",
              "    <tr>\n",
              "      <th>11764</th>\n",
              "      <td>0.194174</td>\n",
              "      <td>0.958824</td>\n",
              "      <td>0.144485</td>\n",
              "      <td>0.297001</td>\n",
              "      <td>0.962765</td>\n",
              "      <td>0.134833</td>\n",
              "      <td>0.386147</td>\n",
              "      <td>0.963423</td>\n",
              "      <td>0.124932</td>\n",
              "      <td>0.487680</td>\n",
              "      <td>...</td>\n",
              "      <td>0.000059</td>\n",
              "      <td>0.996603</td>\n",
              "      <td>0.963025</td>\n",
              "      <td>6.177378e-01</td>\n",
              "      <td>0.963950</td>\n",
              "      <td>3.816000e-01</td>\n",
              "      <td>6.919471e-09</td>\n",
              "      <td>0.000343</td>\n",
              "      <td>0.742928</td>\n",
              "      <td>0.0</td>\n",
              "    </tr>\n",
              "    <tr>\n",
              "      <th>24215</th>\n",
              "      <td>0.225351</td>\n",
              "      <td>0.500753</td>\n",
              "      <td>0.944781</td>\n",
              "      <td>0.365064</td>\n",
              "      <td>0.497962</td>\n",
              "      <td>0.955164</td>\n",
              "      <td>0.514135</td>\n",
              "      <td>0.494302</td>\n",
              "      <td>0.908349</td>\n",
              "      <td>0.688496</td>\n",
              "      <td>...</td>\n",
              "      <td>0.000054</td>\n",
              "      <td>0.634490</td>\n",
              "      <td>1.000000</td>\n",
              "      <td>5.268711e-07</td>\n",
              "      <td>1.000000</td>\n",
              "      <td>2.775932e-13</td>\n",
              "      <td>6.501300e-09</td>\n",
              "      <td>0.000339</td>\n",
              "      <td>0.548021</td>\n",
              "      <td>0.0</td>\n",
              "    </tr>\n",
              "    <tr>\n",
              "      <th>18937</th>\n",
              "      <td>0.257396</td>\n",
              "      <td>0.466428</td>\n",
              "      <td>0.937111</td>\n",
              "      <td>0.347835</td>\n",
              "      <td>0.467967</td>\n",
              "      <td>0.935284</td>\n",
              "      <td>0.404981</td>\n",
              "      <td>0.472282</td>\n",
              "      <td>0.879686</td>\n",
              "      <td>0.498251</td>\n",
              "      <td>...</td>\n",
              "      <td>0.000054</td>\n",
              "      <td>0.597865</td>\n",
              "      <td>0.110179</td>\n",
              "      <td>7.756083e-01</td>\n",
              "      <td>0.110179</td>\n",
              "      <td>6.015683e-01</td>\n",
              "      <td>6.501300e-09</td>\n",
              "      <td>0.000339</td>\n",
              "      <td>0.414784</td>\n",
              "      <td>0.0</td>\n",
              "    </tr>\n",
              "    <tr>\n",
              "      <th>25311</th>\n",
              "      <td>0.113221</td>\n",
              "      <td>0.373419</td>\n",
              "      <td>0.818122</td>\n",
              "      <td>0.174033</td>\n",
              "      <td>0.397958</td>\n",
              "      <td>0.853442</td>\n",
              "      <td>0.253070</td>\n",
              "      <td>0.427303</td>\n",
              "      <td>0.848512</td>\n",
              "      <td>0.351163</td>\n",
              "      <td>...</td>\n",
              "      <td>0.000054</td>\n",
              "      <td>0.451264</td>\n",
              "      <td>0.090169</td>\n",
              "      <td>6.033182e-01</td>\n",
              "      <td>0.090169</td>\n",
              "      <td>3.639929e-01</td>\n",
              "      <td>6.501300e-09</td>\n",
              "      <td>0.000339</td>\n",
              "      <td>0.614001</td>\n",
              "      <td>0.0</td>\n",
              "    </tr>\n",
              "  </tbody>\n",
              "</table>\n",
              "<p>5 rows × 117 columns</p>\n",
              "</div>\n",
              "      <button class=\"colab-df-convert\" onclick=\"convertToInteractive('df-1ce1aa4b-ed4b-46b0-b9f9-1f9da96ce41e')\"\n",
              "              title=\"Convert this dataframe to an interactive table.\"\n",
              "              style=\"display:none;\">\n",
              "        \n",
              "  <svg xmlns=\"http://www.w3.org/2000/svg\" height=\"24px\"viewBox=\"0 0 24 24\"\n",
              "       width=\"24px\">\n",
              "    <path d=\"M0 0h24v24H0V0z\" fill=\"none\"/>\n",
              "    <path d=\"M18.56 5.44l.94 2.06.94-2.06 2.06-.94-2.06-.94-.94-2.06-.94 2.06-2.06.94zm-11 1L8.5 8.5l.94-2.06 2.06-.94-2.06-.94L8.5 2.5l-.94 2.06-2.06.94zm10 10l.94 2.06.94-2.06 2.06-.94-2.06-.94-.94-2.06-.94 2.06-2.06.94z\"/><path d=\"M17.41 7.96l-1.37-1.37c-.4-.4-.92-.59-1.43-.59-.52 0-1.04.2-1.43.59L10.3 9.45l-7.72 7.72c-.78.78-.78 2.05 0 2.83L4 21.41c.39.39.9.59 1.41.59.51 0 1.02-.2 1.41-.59l7.78-7.78 2.81-2.81c.8-.78.8-2.07 0-2.86zM5.41 20L4 18.59l7.72-7.72 1.47 1.35L5.41 20z\"/>\n",
              "  </svg>\n",
              "      </button>\n",
              "      \n",
              "  <style>\n",
              "    .colab-df-container {\n",
              "      display:flex;\n",
              "      flex-wrap:wrap;\n",
              "      gap: 12px;\n",
              "    }\n",
              "\n",
              "    .colab-df-convert {\n",
              "      background-color: #E8F0FE;\n",
              "      border: none;\n",
              "      border-radius: 50%;\n",
              "      cursor: pointer;\n",
              "      display: none;\n",
              "      fill: #1967D2;\n",
              "      height: 32px;\n",
              "      padding: 0 0 0 0;\n",
              "      width: 32px;\n",
              "    }\n",
              "\n",
              "    .colab-df-convert:hover {\n",
              "      background-color: #E2EBFA;\n",
              "      box-shadow: 0px 1px 2px rgba(60, 64, 67, 0.3), 0px 1px 3px 1px rgba(60, 64, 67, 0.15);\n",
              "      fill: #174EA6;\n",
              "    }\n",
              "\n",
              "    [theme=dark] .colab-df-convert {\n",
              "      background-color: #3B4455;\n",
              "      fill: #D2E3FC;\n",
              "    }\n",
              "\n",
              "    [theme=dark] .colab-df-convert:hover {\n",
              "      background-color: #434B5C;\n",
              "      box-shadow: 0px 1px 3px 1px rgba(0, 0, 0, 0.15);\n",
              "      filter: drop-shadow(0px 1px 2px rgba(0, 0, 0, 0.3));\n",
              "      fill: #FFFFFF;\n",
              "    }\n",
              "  </style>\n",
              "\n",
              "      <script>\n",
              "        const buttonEl =\n",
              "          document.querySelector('#df-1ce1aa4b-ed4b-46b0-b9f9-1f9da96ce41e button.colab-df-convert');\n",
              "        buttonEl.style.display =\n",
              "          google.colab.kernel.accessAllowed ? 'block' : 'none';\n",
              "\n",
              "        async function convertToInteractive(key) {\n",
              "          const element = document.querySelector('#df-1ce1aa4b-ed4b-46b0-b9f9-1f9da96ce41e');\n",
              "          const dataTable =\n",
              "            await google.colab.kernel.invokeFunction('convertToInteractive',\n",
              "                                                     [key], {});\n",
              "          if (!dataTable) return;\n",
              "\n",
              "          const docLinkHtml = 'Like what you see? Visit the ' +\n",
              "            '<a target=\"_blank\" href=https://colab.research.google.com/notebooks/data_table.ipynb>data table notebook</a>'\n",
              "            + ' to learn more about interactive tables.';\n",
              "          element.innerHTML = '';\n",
              "          dataTable['output_type'] = 'display_data';\n",
              "          await google.colab.output.renderOutput(dataTable, element);\n",
              "          const docLink = document.createElement('div');\n",
              "          docLink.innerHTML = docLinkHtml;\n",
              "          element.appendChild(docLink);\n",
              "        }\n",
              "      </script>\n",
              "    </div>\n",
              "  </div>\n",
              "  "
            ]
          },
          "metadata": {},
          "execution_count": 13
        }
      ]
    },
    {
      "cell_type": "code",
      "source": [
        "# calling the normalization() function\n",
        "X_test = normalization_test(X_test,numeric_cols)\n",
        "X_test.head()"
      ],
      "metadata": {
        "colab": {
          "base_uri": "https://localhost:8080/",
          "height": 404
        },
        "id": "EKmhgZCobPU3",
        "outputId": "74b94092-99de-4d89-d86a-3885371f24cd"
      },
      "execution_count": 14,
      "outputs": [
        {
          "output_type": "execute_result",
          "data": {
            "text/plain": [
              "             X1        X2        X3        X4        X5        X6  \\\n",
              "2501  -0.000022  0.000222  0.147561 -0.000008  0.000221  0.148807   \n",
              "21252 -0.000025  0.000213  0.144975 -0.000012  0.000216  0.146701   \n",
              "23503 -0.000032 -0.000020 -0.000042 -0.000026 -0.000020 -0.000042   \n",
              "26828 -0.000021  0.000222  0.149629 -0.000007  0.000221  0.150281   \n",
              "18210 -0.000032  0.000174  0.129448 -0.000024  0.000186  0.134400   \n",
              "\n",
              "                 X7        X8        X9       X10  ...      X108      X109  \\\n",
              "2501   5.872979e-05  0.000221  0.149956  0.000959  ... -0.000042  0.005808   \n",
              "21252  5.361978e-05  0.000217  0.148356  0.000936  ... -0.000042  0.005716   \n",
              "23503 -2.583800e-07 -0.000020 -0.000042  0.000354  ... -0.000042  0.003979   \n",
              "26828  5.920887e-05  0.000219  0.150228  0.000951  ... -0.000042  0.005779   \n",
              "18210  2.334777e-05  0.000198  0.141187  0.000672  ... -0.000042  0.004365   \n",
              "\n",
              "           X110      X111      X112      X113      X114      X115  Unnamed: 0  \\\n",
              "2501   0.000036  0.000063  0.000036  0.030101 -0.000042 -0.000042    0.374770   \n",
              "21252  0.000030  0.000047  0.000030  0.021790 -0.000042 -0.000042    0.490268   \n",
              "23503 -0.000020 -0.000042  0.000465  0.015762 -0.000042 -0.000042    0.888125   \n",
              "26828  0.000033  0.000055  0.000033  0.025986 -0.000042 -0.000042    0.300443   \n",
              "18210  0.000025  0.000036  0.000025  0.016666 -0.000042 -0.000042    0.682861   \n",
              "\n",
              "       label  \n",
              "2501     0.0  \n",
              "21252    0.0  \n",
              "23503    0.0  \n",
              "26828    0.0  \n",
              "18210    0.0  \n",
              "\n",
              "[5 rows x 117 columns]"
            ],
            "text/html": [
              "\n",
              "  <div id=\"df-335572e7-212f-41a1-98c8-3ad86d0a3280\">\n",
              "    <div class=\"colab-df-container\">\n",
              "      <div>\n",
              "<style scoped>\n",
              "    .dataframe tbody tr th:only-of-type {\n",
              "        vertical-align: middle;\n",
              "    }\n",
              "\n",
              "    .dataframe tbody tr th {\n",
              "        vertical-align: top;\n",
              "    }\n",
              "\n",
              "    .dataframe thead th {\n",
              "        text-align: right;\n",
              "    }\n",
              "</style>\n",
              "<table border=\"1\" class=\"dataframe\">\n",
              "  <thead>\n",
              "    <tr style=\"text-align: right;\">\n",
              "      <th></th>\n",
              "      <th>X1</th>\n",
              "      <th>X2</th>\n",
              "      <th>X3</th>\n",
              "      <th>X4</th>\n",
              "      <th>X5</th>\n",
              "      <th>X6</th>\n",
              "      <th>X7</th>\n",
              "      <th>X8</th>\n",
              "      <th>X9</th>\n",
              "      <th>X10</th>\n",
              "      <th>...</th>\n",
              "      <th>X108</th>\n",
              "      <th>X109</th>\n",
              "      <th>X110</th>\n",
              "      <th>X111</th>\n",
              "      <th>X112</th>\n",
              "      <th>X113</th>\n",
              "      <th>X114</th>\n",
              "      <th>X115</th>\n",
              "      <th>Unnamed: 0</th>\n",
              "      <th>label</th>\n",
              "    </tr>\n",
              "  </thead>\n",
              "  <tbody>\n",
              "    <tr>\n",
              "      <th>2501</th>\n",
              "      <td>-0.000022</td>\n",
              "      <td>0.000222</td>\n",
              "      <td>0.147561</td>\n",
              "      <td>-0.000008</td>\n",
              "      <td>0.000221</td>\n",
              "      <td>0.148807</td>\n",
              "      <td>5.872979e-05</td>\n",
              "      <td>0.000221</td>\n",
              "      <td>0.149956</td>\n",
              "      <td>0.000959</td>\n",
              "      <td>...</td>\n",
              "      <td>-0.000042</td>\n",
              "      <td>0.005808</td>\n",
              "      <td>0.000036</td>\n",
              "      <td>0.000063</td>\n",
              "      <td>0.000036</td>\n",
              "      <td>0.030101</td>\n",
              "      <td>-0.000042</td>\n",
              "      <td>-0.000042</td>\n",
              "      <td>0.374770</td>\n",
              "      <td>0.0</td>\n",
              "    </tr>\n",
              "    <tr>\n",
              "      <th>21252</th>\n",
              "      <td>-0.000025</td>\n",
              "      <td>0.000213</td>\n",
              "      <td>0.144975</td>\n",
              "      <td>-0.000012</td>\n",
              "      <td>0.000216</td>\n",
              "      <td>0.146701</td>\n",
              "      <td>5.361978e-05</td>\n",
              "      <td>0.000217</td>\n",
              "      <td>0.148356</td>\n",
              "      <td>0.000936</td>\n",
              "      <td>...</td>\n",
              "      <td>-0.000042</td>\n",
              "      <td>0.005716</td>\n",
              "      <td>0.000030</td>\n",
              "      <td>0.000047</td>\n",
              "      <td>0.000030</td>\n",
              "      <td>0.021790</td>\n",
              "      <td>-0.000042</td>\n",
              "      <td>-0.000042</td>\n",
              "      <td>0.490268</td>\n",
              "      <td>0.0</td>\n",
              "    </tr>\n",
              "    <tr>\n",
              "      <th>23503</th>\n",
              "      <td>-0.000032</td>\n",
              "      <td>-0.000020</td>\n",
              "      <td>-0.000042</td>\n",
              "      <td>-0.000026</td>\n",
              "      <td>-0.000020</td>\n",
              "      <td>-0.000042</td>\n",
              "      <td>-2.583800e-07</td>\n",
              "      <td>-0.000020</td>\n",
              "      <td>-0.000042</td>\n",
              "      <td>0.000354</td>\n",
              "      <td>...</td>\n",
              "      <td>-0.000042</td>\n",
              "      <td>0.003979</td>\n",
              "      <td>-0.000020</td>\n",
              "      <td>-0.000042</td>\n",
              "      <td>0.000465</td>\n",
              "      <td>0.015762</td>\n",
              "      <td>-0.000042</td>\n",
              "      <td>-0.000042</td>\n",
              "      <td>0.888125</td>\n",
              "      <td>0.0</td>\n",
              "    </tr>\n",
              "    <tr>\n",
              "      <th>26828</th>\n",
              "      <td>-0.000021</td>\n",
              "      <td>0.000222</td>\n",
              "      <td>0.149629</td>\n",
              "      <td>-0.000007</td>\n",
              "      <td>0.000221</td>\n",
              "      <td>0.150281</td>\n",
              "      <td>5.920887e-05</td>\n",
              "      <td>0.000219</td>\n",
              "      <td>0.150228</td>\n",
              "      <td>0.000951</td>\n",
              "      <td>...</td>\n",
              "      <td>-0.000042</td>\n",
              "      <td>0.005779</td>\n",
              "      <td>0.000033</td>\n",
              "      <td>0.000055</td>\n",
              "      <td>0.000033</td>\n",
              "      <td>0.025986</td>\n",
              "      <td>-0.000042</td>\n",
              "      <td>-0.000042</td>\n",
              "      <td>0.300443</td>\n",
              "      <td>0.0</td>\n",
              "    </tr>\n",
              "    <tr>\n",
              "      <th>18210</th>\n",
              "      <td>-0.000032</td>\n",
              "      <td>0.000174</td>\n",
              "      <td>0.129448</td>\n",
              "      <td>-0.000024</td>\n",
              "      <td>0.000186</td>\n",
              "      <td>0.134400</td>\n",
              "      <td>2.334777e-05</td>\n",
              "      <td>0.000198</td>\n",
              "      <td>0.141187</td>\n",
              "      <td>0.000672</td>\n",
              "      <td>...</td>\n",
              "      <td>-0.000042</td>\n",
              "      <td>0.004365</td>\n",
              "      <td>0.000025</td>\n",
              "      <td>0.000036</td>\n",
              "      <td>0.000025</td>\n",
              "      <td>0.016666</td>\n",
              "      <td>-0.000042</td>\n",
              "      <td>-0.000042</td>\n",
              "      <td>0.682861</td>\n",
              "      <td>0.0</td>\n",
              "    </tr>\n",
              "  </tbody>\n",
              "</table>\n",
              "<p>5 rows × 117 columns</p>\n",
              "</div>\n",
              "      <button class=\"colab-df-convert\" onclick=\"convertToInteractive('df-335572e7-212f-41a1-98c8-3ad86d0a3280')\"\n",
              "              title=\"Convert this dataframe to an interactive table.\"\n",
              "              style=\"display:none;\">\n",
              "        \n",
              "  <svg xmlns=\"http://www.w3.org/2000/svg\" height=\"24px\"viewBox=\"0 0 24 24\"\n",
              "       width=\"24px\">\n",
              "    <path d=\"M0 0h24v24H0V0z\" fill=\"none\"/>\n",
              "    <path d=\"M18.56 5.44l.94 2.06.94-2.06 2.06-.94-2.06-.94-.94-2.06-.94 2.06-2.06.94zm-11 1L8.5 8.5l.94-2.06 2.06-.94-2.06-.94L8.5 2.5l-.94 2.06-2.06.94zm10 10l.94 2.06.94-2.06 2.06-.94-2.06-.94-.94-2.06-.94 2.06-2.06.94z\"/><path d=\"M17.41 7.96l-1.37-1.37c-.4-.4-.92-.59-1.43-.59-.52 0-1.04.2-1.43.59L10.3 9.45l-7.72 7.72c-.78.78-.78 2.05 0 2.83L4 21.41c.39.39.9.59 1.41.59.51 0 1.02-.2 1.41-.59l7.78-7.78 2.81-2.81c.8-.78.8-2.07 0-2.86zM5.41 20L4 18.59l7.72-7.72 1.47 1.35L5.41 20z\"/>\n",
              "  </svg>\n",
              "      </button>\n",
              "      \n",
              "  <style>\n",
              "    .colab-df-container {\n",
              "      display:flex;\n",
              "      flex-wrap:wrap;\n",
              "      gap: 12px;\n",
              "    }\n",
              "\n",
              "    .colab-df-convert {\n",
              "      background-color: #E8F0FE;\n",
              "      border: none;\n",
              "      border-radius: 50%;\n",
              "      cursor: pointer;\n",
              "      display: none;\n",
              "      fill: #1967D2;\n",
              "      height: 32px;\n",
              "      padding: 0 0 0 0;\n",
              "      width: 32px;\n",
              "    }\n",
              "\n",
              "    .colab-df-convert:hover {\n",
              "      background-color: #E2EBFA;\n",
              "      box-shadow: 0px 1px 2px rgba(60, 64, 67, 0.3), 0px 1px 3px 1px rgba(60, 64, 67, 0.15);\n",
              "      fill: #174EA6;\n",
              "    }\n",
              "\n",
              "    [theme=dark] .colab-df-convert {\n",
              "      background-color: #3B4455;\n",
              "      fill: #D2E3FC;\n",
              "    }\n",
              "\n",
              "    [theme=dark] .colab-df-convert:hover {\n",
              "      background-color: #434B5C;\n",
              "      box-shadow: 0px 1px 3px 1px rgba(0, 0, 0, 0.15);\n",
              "      filter: drop-shadow(0px 1px 2px rgba(0, 0, 0, 0.3));\n",
              "      fill: #FFFFFF;\n",
              "    }\n",
              "  </style>\n",
              "\n",
              "      <script>\n",
              "        const buttonEl =\n",
              "          document.querySelector('#df-335572e7-212f-41a1-98c8-3ad86d0a3280 button.colab-df-convert');\n",
              "        buttonEl.style.display =\n",
              "          google.colab.kernel.accessAllowed ? 'block' : 'none';\n",
              "\n",
              "        async function convertToInteractive(key) {\n",
              "          const element = document.querySelector('#df-335572e7-212f-41a1-98c8-3ad86d0a3280');\n",
              "          const dataTable =\n",
              "            await google.colab.kernel.invokeFunction('convertToInteractive',\n",
              "                                                     [key], {});\n",
              "          if (!dataTable) return;\n",
              "\n",
              "          const docLinkHtml = 'Like what you see? Visit the ' +\n",
              "            '<a target=\"_blank\" href=https://colab.research.google.com/notebooks/data_table.ipynb>data table notebook</a>'\n",
              "            + ' to learn more about interactive tables.';\n",
              "          element.innerHTML = '';\n",
              "          dataTable['output_type'] = 'display_data';\n",
              "          await google.colab.output.renderOutput(dataTable, element);\n",
              "          const docLink = document.createElement('div');\n",
              "          docLink.innerHTML = docLinkHtml;\n",
              "          element.appendChild(docLink);\n",
              "        }\n",
              "      </script>\n",
              "    </div>\n",
              "  </div>\n",
              "  "
            ]
          },
          "metadata": {},
          "execution_count": 14
        }
      ]
    },
    {
      "cell_type": "markdown",
      "metadata": {
        "id": "ZfAbEIDgz4iY"
      },
      "source": [
        "## **Linear Support Vector Machine Classifier (Binary Classification) **\n",
        "to enable make the svm_enable = 1 in the above cell"
      ]
    },
    {
      "cell_type": "code",
      "execution_count": 15,
      "metadata": {
        "id": "o8GdMBjdzFQT"
      },
      "outputs": [],
      "source": [
        "if svm_enable:\n",
        "  # using kernel as linear \n",
        "  lsvm = SVC(kernel='linear',gamma='auto') \n",
        "  lsvm.fit(X_train,y_train) # training model on training dataset"
      ]
    },
    {
      "cell_type": "code",
      "execution_count": 16,
      "metadata": {
        "id": "NjfYZA_9zTNK",
        "colab": {
          "base_uri": "https://localhost:8080/"
        },
        "outputId": "247408f5-7e74-475a-f8e6-ae4d97a79e5f"
      },
      "outputs": [
        {
          "output_type": "stream",
          "name": "stdout",
          "text": [
            "Saved model to disk\n",
            "Loaded model from disk\n"
          ]
        }
      ],
      "source": [
        "if svm_enable:\n",
        "  pkl_filename = \"/content/drive/MyDrive/Colab_Notebooks/Models/lsvm_binary\"+model_name_suffix+\".pkl\"\n",
        "  if (not path.isfile(pkl_filename)):\n",
        "    # saving the trained model to disk\n",
        "    with open(pkl_filename, 'wb') as file:\n",
        "      pickle.dump(lsvm, file)\n",
        "    print(\"Saved model to disk\")\n",
        "    # loading the trained model from disk\n",
        "    with open(pkl_filename, 'rb') as file:\n",
        "      lsvm = pickle.load(file)\n",
        "    print(\"Loaded model from disk\") "
      ]
    },
    {
      "cell_type": "code",
      "execution_count": 17,
      "metadata": {
        "id": "xsnN51Juzgcf",
        "colab": {
          "base_uri": "https://localhost:8080/"
        },
        "outputId": "e95483b6-fcb4-464b-e04a-fb42e55a3125"
      },
      "outputs": [
        {
          "output_type": "stream",
          "name": "stdout",
          "text": [
            "LSVM-Classifier Binary Set-Accuracy is  99.92782909930716\n"
          ]
        }
      ],
      "source": [
        "if svm_enable:\n",
        "  y_pred = lsvm.predict(X_test) # predicting target attribute on testing dataset\n",
        "  ac = accuracy_score(y_test, y_pred)*100 # calculating accuracy of predicted data\n",
        "  print(\"LSVM-Classifier Binary Set-Accuracy is \", ac)"
      ]
    },
    {
      "cell_type": "code",
      "execution_count": 18,
      "metadata": {
        "id": "qg2gbJTg8NtL"
      },
      "outputs": [],
      "source": [
        "# import matplotlib.pyplot as plt\n",
        "# from sklearn.datasets import make_classification\n",
        "# from sklearn.metrics import confusion_matrix, ConfusionMatrixDisplay\n",
        "# from sklearn.model_selection import train_test_split\n",
        "# from sklearn.svm import SVC\n",
        "# X, y = make_classification(random_state=0)\n",
        "# X_train, X_test, y_train, y_test = train_test_split(X, y,\n",
        "#                                                     random_state=0)\n",
        "# cm = confusion_matrix(y_test, y_pred, labels=lsvm.classes_)\n",
        "# disp = ConfusionMatrixDisplay(confusion_matrix=cm,\n",
        "#                               display_labels=lsvm.classes_)\n",
        "# disp.plot()\n",
        "\n",
        "# plt.show()"
      ]
    },
    {
      "cell_type": "code",
      "execution_count": 19,
      "metadata": {
        "id": "9IydNlzT5kx6",
        "colab": {
          "base_uri": "https://localhost:8080/",
          "height": 587
        },
        "outputId": "d52530d8-424d-4566-ee7f-c1e0f8d3765f"
      },
      "outputs": [
        {
          "output_type": "display_data",
          "data": {
            "text/plain": [
              "<Figure size 2000x800 with 1 Axes>"
            ],
            "image/png": "[encoded data removed]"
          },
          "metadata": {}
        }
      ],
      "source": [
        "if svm_enable:\n",
        "  plt.figure(figsize=(20,8))\n",
        "  plt.plot(y_pred[300:500], label=\"prediction\", linewidth=2.0,color='blue')\n",
        "  plt.plot(y_test[300:500].values, label=\"real_values\", linewidth=2.0,color='lightcoral')\n",
        "  plt.legend(loc=\"best\")\n",
        "  plt.ylim((-1,2))\n",
        "  plt.title(\"Linear SVM Binary Classification\")\n",
        "  plt.savefig('/content/drive/MyDrive/Colab_Notebooks/Plots/lsvm_real_pred_bin.png')\n",
        "  plt.show()"
      ]
    },
    {
      "cell_type": "code",
      "execution_count": 20,
      "metadata": {
        "id": "s9lqoveaUBvg",
        "colab": {
          "base_uri": "https://localhost:8080/"
        },
        "outputId": "195d5146-8314-46bf-b65a-dd279b545e4f"
      },
      "outputs": [
        {
          "output_type": "stream",
          "name": "stdout",
          "text": [
            "              precision    recall  f1-score   support\n",
            "\n",
            "     class 0       1.00      1.00      1.00      6910\n",
            "     class 1       0.93      0.78      0.85        18\n",
            "\n",
            "    accuracy                           1.00      6928\n",
            "   macro avg       0.97      0.89      0.92      6928\n",
            "weighted avg       1.00      1.00      1.00      6928\n",
            "\n",
            "False Positive Rate -  [1.000000e+00 1.447178e-04]\n",
            "False Negative Rate -  [0.         0.22222222]\n",
            "Thresholds -  [0. 1.]\n"
          ]
        }
      ],
      "source": [
        "if svm_enable:\n",
        "  target_names = ['class 0', 'class 1']\n",
        "  print(classification_report(y_test, y_pred, target_names=target_names))\n",
        "  fpr, fnr, thresholds = det_curve(y_test, y_pred)\n",
        "  print(\"False Positive Rate - \", fpr)\n",
        "  print(\"False Negative Rate - \", fnr)\n",
        "  print(\"Thresholds - \", thresholds)"
      ]
    },
    {
      "cell_type": "code",
      "execution_count": 21,
      "metadata": {
        "id": "kWxBZhnw9t5n",
        "colab": {
          "base_uri": "https://localhost:8080/",
          "height": 449
        },
        "outputId": "1a7e9a3e-7d12-4640-e608-889ff02dc07f"
      },
      "outputs": [
        {
          "output_type": "display_data",
          "data": {
            "text/plain": [
              "<Figure size 640x480 with 2 Axes>"
            ],
            "image/png": "[encoded data removed]"
          },
          "metadata": {}
        }
      ],
      "source": [
        "if svm_enable:\n",
        "  from sklearn.metrics import confusion_matrix, ConfusionMatrixDisplay\n",
        "\n",
        "  clf = lsvm\n",
        "  cm = confusion_matrix(y_test, y_pred, labels=clf.classes_)\n",
        "  disp = ConfusionMatrixDisplay(confusion_matrix=cm,\n",
        "                                display_labels=clf.classes_)\n",
        "  disp.plot()\n",
        "\n",
        "  plt.show()"
      ]
    },
    {
      "cell_type": "markdown",
      "metadata": {
        "id": "PUjrwY2l0_RI"
      },
      "source": [
        "## **Multi Layer Perceptron Classifier (Binary Classification)**"
      ]
    },
    {
      "cell_type": "code",
      "execution_count": 22,
      "metadata": {
        "id": "u9v5Ylpa1DHY"
      },
      "outputs": [],
      "source": [
        "if model_selection[model_flag]==\"ALL\" or model_selection[model_flag] == \"MLP\":\n",
        "  mlp = Sequential() # creating model\n",
        "\n",
        "  # adding input layer and first layer with 50 neurons\n",
        "  mlp.add(Dense(units=50, input_dim=X_train.shape[1], activation='relu'))\n",
        "  # output layer with sigmoid activation\n",
        "  mlp.add(Dense(units=1,activation='sigmoid'))"
      ]
    },
    {
      "cell_type": "code",
      "execution_count": 23,
      "metadata": {
        "id": "E-9M9d0p1p8s"
      },
      "outputs": [],
      "source": [
        "if model_selection[model_flag]==\"ALL\" or model_selection[model_flag] == \"MLP\":\n",
        "  # defining loss function, optimizer, metrics and then compiling model\n",
        "  mlp.compile(loss='binary_crossentropy', optimizer='adam', metrics=['accuracy'])"
      ]
    },
    {
      "cell_type": "code",
      "execution_count": 24,
      "metadata": {
        "id": "NK-1_akm1vO9",
        "colab": {
          "base_uri": "https://localhost:8080/"
        },
        "outputId": "7a416ed9-40d4-4624-ef08-7e8652ce37d3"
      },
      "outputs": [
        {
          "output_type": "stream",
          "name": "stdout",
          "text": [
            "Model: \"sequential\"\n",
            "_________________________________________________________________\n",
            " Layer (type)                Output Shape              Param #   \n",
            "=================================================================\n",
            " dense (Dense)               (None, 50)                5900      \n",
            "                                                                 \n",
            " dense_1 (Dense)             (None, 1)                 51        \n",
            "                                                                 \n",
            "=================================================================\n",
            "Total params: 5,951\n",
            "Trainable params: 5,951\n",
            "Non-trainable params: 0\n",
            "_________________________________________________________________\n"
          ]
        }
      ],
      "source": [
        "if model_selection[model_flag]==\"ALL\" or model_selection[model_flag] == \"MLP\":\n",
        "  # summary of model layers\n",
        "  mlp.summary()"
      ]
    },
    {
      "cell_type": "code",
      "execution_count": 25,
      "metadata": {
        "id": "UYZ4xCgp13gP",
        "colab": {
          "base_uri": "https://localhost:8080/"
        },
        "outputId": "4aaf1340-b4af-4e04-aa57-33378429ee6f"
      },
      "outputs": [
        {
          "output_type": "stream",
          "name": "stdout",
          "text": [
            "Epoch 1/100\n",
            "4/4 [==============================] - 6s 135ms/step - loss: 0.7049 - accuracy: 0.5219 - val_loss: 0.3994 - val_accuracy: 0.9127\n",
            "Epoch 2/100\n",
            "4/4 [==============================] - 0s 15ms/step - loss: 0.3223 - accuracy: 0.9401 - val_loss: 0.1904 - val_accuracy: 0.9964\n",
            "Epoch 3/100\n",
            "4/4 [==============================] - 0s 16ms/step - loss: 0.1559 - accuracy: 0.9978 - val_loss: 0.1031 - val_accuracy: 0.9964\n",
            "Epoch 4/100\n",
            "4/4 [==============================] - 0s 14ms/step - loss: 0.0858 - accuracy: 0.9978 - val_loss: 0.0660 - val_accuracy: 0.9964\n",
            "Epoch 5/100\n",
            "4/4 [==============================] - 0s 20ms/step - loss: 0.0547 - accuracy: 0.9978 - val_loss: 0.0489 - val_accuracy: 0.9964\n",
            "Epoch 6/100\n",
            "4/4 [==============================] - 0s 18ms/step - loss: 0.0398 - accuracy: 0.9978 - val_loss: 0.0405 - val_accuracy: 0.9964\n",
            "Epoch 7/100\n",
            "4/4 [==============================] - 0s 21ms/step - loss: 0.0321 - accuracy: 0.9978 - val_loss: 0.0362 - val_accuracy: 0.9964\n",
            "Epoch 8/100\n",
            "4/4 [==============================] - 0s 16ms/step - loss: 0.0277 - accuracy: 0.9978 - val_loss: 0.0338 - val_accuracy: 0.9964\n",
            "Epoch 9/100\n",
            "4/4 [==============================] - 0s 15ms/step - loss: 0.0250 - accuracy: 0.9978 - val_loss: 0.0324 - val_accuracy: 0.9964\n",
            "Epoch 10/100\n",
            "4/4 [==============================] - 0s 15ms/step - loss: 0.0232 - accuracy: 0.9978 - val_loss: 0.0313 - val_accuracy: 0.9964\n",
            "Epoch 11/100\n",
            "4/4 [==============================] - 0s 17ms/step - loss: 0.0219 - accuracy: 0.9978 - val_loss: 0.0305 - val_accuracy: 0.9964\n",
            "Epoch 12/100\n",
            "4/4 [==============================] - 0s 14ms/step - loss: 0.0207 - accuracy: 0.9978 - val_loss: 0.0298 - val_accuracy: 0.9964\n",
            "Epoch 13/100\n",
            "4/4 [==============================] - 0s 15ms/step - loss: 0.0199 - accuracy: 0.9978 - val_loss: 0.0293 - val_accuracy: 0.9964\n",
            "Epoch 14/100\n",
            "4/4 [==============================] - 0s 16ms/step - loss: 0.0192 - accuracy: 0.9978 - val_loss: 0.0289 - val_accuracy: 0.9964\n",
            "Epoch 15/100\n",
            "4/4 [==============================] - 0s 14ms/step - loss: 0.0186 - accuracy: 0.9978 - val_loss: 0.0285 - val_accuracy: 0.9964\n",
            "Epoch 16/100\n",
            "4/4 [==============================] - 0s 14ms/step - loss: 0.0181 - accuracy: 0.9978 - val_loss: 0.0282 - val_accuracy: 0.9964\n",
            "Epoch 17/100\n",
            "4/4 [==============================] - 0s 15ms/step - loss: 0.0177 - accuracy: 0.9978 - val_loss: 0.0279 - val_accuracy: 0.9964\n",
            "Epoch 18/100\n",
            "4/4 [==============================] - 0s 16ms/step - loss: 0.0173 - accuracy: 0.9978 - val_loss: 0.0277 - val_accuracy: 0.9964\n",
            "Epoch 19/100\n",
            "4/4 [==============================] - 0s 14ms/step - loss: 0.0170 - accuracy: 0.9978 - val_loss: 0.0274 - val_accuracy: 0.9964\n",
            "Epoch 20/100\n",
            "4/4 [==============================] - 0s 14ms/step - loss: 0.0167 - accuracy: 0.9978 - val_loss: 0.0272 - val_accuracy: 0.9964\n",
            "Epoch 21/100\n",
            "4/4 [==============================] - 0s 16ms/step - loss: 0.0165 - accuracy: 0.9978 - val_loss: 0.0270 - val_accuracy: 0.9966\n",
            "Epoch 22/100\n",
            "4/4 [==============================] - 0s 17ms/step - loss: 0.0162 - accuracy: 0.9978 - val_loss: 0.0268 - val_accuracy: 0.9966\n",
            "Epoch 23/100\n",
            "4/4 [==============================] - 0s 14ms/step - loss: 0.0160 - accuracy: 0.9978 - val_loss: 0.0266 - val_accuracy: 0.9966\n",
            "Epoch 24/100\n",
            "4/4 [==============================] - 0s 14ms/step - loss: 0.0158 - accuracy: 0.9978 - val_loss: 0.0264 - val_accuracy: 0.9966\n",
            "Epoch 25/100\n",
            "4/4 [==============================] - 0s 14ms/step - loss: 0.0156 - accuracy: 0.9979 - val_loss: 0.0262 - val_accuracy: 0.9966\n",
            "Epoch 26/100\n",
            "4/4 [==============================] - 0s 15ms/step - loss: 0.0154 - accuracy: 0.9979 - val_loss: 0.0260 - val_accuracy: 0.9966\n",
            "Epoch 27/100\n",
            "4/4 [==============================] - 0s 18ms/step - loss: 0.0152 - accuracy: 0.9979 - val_loss: 0.0258 - val_accuracy: 0.9966\n",
            "Epoch 28/100\n",
            "4/4 [==============================] - 0s 14ms/step - loss: 0.0151 - accuracy: 0.9979 - val_loss: 0.0256 - val_accuracy: 0.9966\n",
            "Epoch 29/100\n",
            "4/4 [==============================] - 0s 21ms/step - loss: 0.0149 - accuracy: 0.9979 - val_loss: 0.0254 - val_accuracy: 0.9966\n",
            "Epoch 30/100\n",
            "4/4 [==============================] - 0s 14ms/step - loss: 0.0147 - accuracy: 0.9980 - val_loss: 0.0252 - val_accuracy: 0.9966\n",
            "Epoch 31/100\n",
            "4/4 [==============================] - 0s 15ms/step - loss: 0.0146 - accuracy: 0.9980 - val_loss: 0.0251 - val_accuracy: 0.9966\n",
            "Epoch 32/100\n",
            "4/4 [==============================] - 0s 17ms/step - loss: 0.0144 - accuracy: 0.9980 - val_loss: 0.0249 - val_accuracy: 0.9966\n",
            "Epoch 33/100\n",
            "4/4 [==============================] - 0s 14ms/step - loss: 0.0143 - accuracy: 0.9980 - val_loss: 0.0247 - val_accuracy: 0.9966\n",
            "Epoch 34/100\n",
            "4/4 [==============================] - 0s 15ms/step - loss: 0.0142 - accuracy: 0.9980 - val_loss: 0.0245 - val_accuracy: 0.9966\n",
            "Epoch 35/100\n",
            "4/4 [==============================] - 0s 15ms/step - loss: 0.0141 - accuracy: 0.9981 - val_loss: 0.0243 - val_accuracy: 0.9969\n",
            "Epoch 36/100\n",
            "4/4 [==============================] - 0s 19ms/step - loss: 0.0139 - accuracy: 0.9981 - val_loss: 0.0241 - val_accuracy: 0.9969\n",
            "Epoch 37/100\n",
            "4/4 [==============================] - 0s 15ms/step - loss: 0.0138 - accuracy: 0.9981 - val_loss: 0.0239 - val_accuracy: 0.9969\n",
            "Epoch 38/100\n",
            "4/4 [==============================] - 0s 15ms/step - loss: 0.0137 - accuracy: 0.9981 - val_loss: 0.0237 - val_accuracy: 0.9969\n",
            "Epoch 39/100\n",
            "4/4 [==============================] - 0s 19ms/step - loss: 0.0135 - accuracy: 0.9981 - val_loss: 0.0235 - val_accuracy: 0.9969\n",
            "Epoch 40/100\n",
            "4/4 [==============================] - 0s 15ms/step - loss: 0.0134 - accuracy: 0.9981 - val_loss: 0.0233 - val_accuracy: 0.9969\n",
            "Epoch 41/100\n",
            "4/4 [==============================] - 0s 20ms/step - loss: 0.0133 - accuracy: 0.9981 - val_loss: 0.0231 - val_accuracy: 0.9969\n",
            "Epoch 42/100\n",
            "4/4 [==============================] - 0s 22ms/step - loss: 0.0132 - accuracy: 0.9981 - val_loss: 0.0229 - val_accuracy: 0.9969\n",
            "Epoch 43/100\n",
            "4/4 [==============================] - 0s 26ms/step - loss: 0.0130 - accuracy: 0.9981 - val_loss: 0.0227 - val_accuracy: 0.9969\n",
            "Epoch 44/100\n",
            "4/4 [==============================] - 0s 24ms/step - loss: 0.0129 - accuracy: 0.9981 - val_loss: 0.0224 - val_accuracy: 0.9969\n",
            "Epoch 45/100\n",
            "4/4 [==============================] - 0s 19ms/step - loss: 0.0128 - accuracy: 0.9981 - val_loss: 0.0222 - val_accuracy: 0.9969\n",
            "Epoch 46/100\n",
            "4/4 [==============================] - 0s 21ms/step - loss: 0.0127 - accuracy: 0.9981 - val_loss: 0.0219 - val_accuracy: 0.9969\n",
            "Epoch 47/100\n",
            "4/4 [==============================] - 0s 23ms/step - loss: 0.0126 - accuracy: 0.9981 - val_loss: 0.0217 - val_accuracy: 0.9969\n",
            "Epoch 48/100\n",
            "4/4 [==============================] - 0s 20ms/step - loss: 0.0124 - accuracy: 0.9982 - val_loss: 0.0215 - val_accuracy: 0.9969\n",
            "Epoch 49/100\n",
            "4/4 [==============================] - 0s 20ms/step - loss: 0.0123 - accuracy: 0.9982 - val_loss: 0.0213 - val_accuracy: 0.9969\n",
            "Epoch 50/100\n",
            "4/4 [==============================] - 0s 24ms/step - loss: 0.0122 - accuracy: 0.9982 - val_loss: 0.0210 - val_accuracy: 0.9969\n",
            "Epoch 51/100\n",
            "4/4 [==============================] - 0s 22ms/step - loss: 0.0121 - accuracy: 0.9982 - val_loss: 0.0208 - val_accuracy: 0.9969\n",
            "Epoch 52/100\n",
            "4/4 [==============================] - 0s 21ms/step - loss: 0.0120 - accuracy: 0.9982 - val_loss: 0.0205 - val_accuracy: 0.9969\n",
            "Epoch 53/100\n",
            "4/4 [==============================] - 0s 19ms/step - loss: 0.0119 - accuracy: 0.9982 - val_loss: 0.0203 - val_accuracy: 0.9969\n",
            "Epoch 54/100\n",
            "4/4 [==============================] - 0s 19ms/step - loss: 0.0118 - accuracy: 0.9982 - val_loss: 0.0201 - val_accuracy: 0.9969\n",
            "Epoch 55/100\n",
            "4/4 [==============================] - 0s 22ms/step - loss: 0.0116 - accuracy: 0.9982 - val_loss: 0.0199 - val_accuracy: 0.9969\n",
            "Epoch 56/100\n",
            "4/4 [==============================] - 0s 24ms/step - loss: 0.0116 - accuracy: 0.9982 - val_loss: 0.0197 - val_accuracy: 0.9969\n",
            "Epoch 57/100\n",
            "4/4 [==============================] - 0s 24ms/step - loss: 0.0115 - accuracy: 0.9982 - val_loss: 0.0195 - val_accuracy: 0.9969\n",
            "Epoch 58/100\n",
            "4/4 [==============================] - 0s 24ms/step - loss: 0.0113 - accuracy: 0.9982 - val_loss: 0.0193 - val_accuracy: 0.9969\n",
            "Epoch 59/100\n",
            "4/4 [==============================] - 0s 20ms/step - loss: 0.0112 - accuracy: 0.9982 - val_loss: 0.0191 - val_accuracy: 0.9969\n",
            "Epoch 60/100\n",
            "4/4 [==============================] - 0s 19ms/step - loss: 0.0111 - accuracy: 0.9982 - val_loss: 0.0190 - val_accuracy: 0.9969\n",
            "Epoch 61/100\n",
            "4/4 [==============================] - 0s 19ms/step - loss: 0.0111 - accuracy: 0.9982 - val_loss: 0.0188 - val_accuracy: 0.9969\n",
            "Epoch 62/100\n",
            "4/4 [==============================] - 0s 22ms/step - loss: 0.0110 - accuracy: 0.9982 - val_loss: 0.0186 - val_accuracy: 0.9969\n",
            "Epoch 63/100\n",
            "4/4 [==============================] - 0s 20ms/step - loss: 0.0109 - accuracy: 0.9982 - val_loss: 0.0185 - val_accuracy: 0.9969\n",
            "Epoch 64/100\n",
            "4/4 [==============================] - 0s 20ms/step - loss: 0.0108 - accuracy: 0.9982 - val_loss: 0.0182 - val_accuracy: 0.9969\n",
            "Epoch 65/100\n",
            "4/4 [==============================] - 0s 25ms/step - loss: 0.0107 - accuracy: 0.9982 - val_loss: 0.0180 - val_accuracy: 0.9969\n",
            "Epoch 66/100\n",
            "4/4 [==============================] - 0s 25ms/step - loss: 0.0106 - accuracy: 0.9982 - val_loss: 0.0178 - val_accuracy: 0.9969\n",
            "Epoch 67/100\n",
            "4/4 [==============================] - 0s 28ms/step - loss: 0.0105 - accuracy: 0.9982 - val_loss: 0.0176 - val_accuracy: 0.9969\n",
            "Epoch 68/100\n",
            "4/4 [==============================] - 0s 17ms/step - loss: 0.0104 - accuracy: 0.9982 - val_loss: 0.0174 - val_accuracy: 0.9969\n",
            "Epoch 69/100\n",
            "4/4 [==============================] - 0s 24ms/step - loss: 0.0103 - accuracy: 0.9982 - val_loss: 0.0173 - val_accuracy: 0.9969\n",
            "Epoch 70/100\n",
            "4/4 [==============================] - 0s 19ms/step - loss: 0.0102 - accuracy: 0.9982 - val_loss: 0.0172 - val_accuracy: 0.9969\n",
            "Epoch 71/100\n",
            "4/4 [==============================] - 0s 18ms/step - loss: 0.0102 - accuracy: 0.9982 - val_loss: 0.0171 - val_accuracy: 0.9969\n",
            "Epoch 72/100\n",
            "4/4 [==============================] - 0s 24ms/step - loss: 0.0101 - accuracy: 0.9982 - val_loss: 0.0170 - val_accuracy: 0.9969\n",
            "Epoch 73/100\n",
            "4/4 [==============================] - 0s 20ms/step - loss: 0.0100 - accuracy: 0.9982 - val_loss: 0.0168 - val_accuracy: 0.9969\n",
            "Epoch 74/100\n",
            "4/4 [==============================] - 0s 27ms/step - loss: 0.0099 - accuracy: 0.9982 - val_loss: 0.0166 - val_accuracy: 0.9969\n",
            "Epoch 75/100\n",
            "4/4 [==============================] - 0s 24ms/step - loss: 0.0099 - accuracy: 0.9982 - val_loss: 0.0165 - val_accuracy: 0.9969\n",
            "Epoch 76/100\n",
            "4/4 [==============================] - 0s 28ms/step - loss: 0.0098 - accuracy: 0.9982 - val_loss: 0.0163 - val_accuracy: 0.9969\n",
            "Epoch 77/100\n",
            "4/4 [==============================] - 0s 25ms/step - loss: 0.0097 - accuracy: 0.9983 - val_loss: 0.0162 - val_accuracy: 0.9969\n",
            "Epoch 78/100\n",
            "4/4 [==============================] - 0s 27ms/step - loss: 0.0096 - accuracy: 0.9983 - val_loss: 0.0161 - val_accuracy: 0.9969\n",
            "Epoch 79/100\n",
            "4/4 [==============================] - 0s 20ms/step - loss: 0.0096 - accuracy: 0.9983 - val_loss: 0.0160 - val_accuracy: 0.9969\n",
            "Epoch 80/100\n",
            "4/4 [==============================] - 0s 25ms/step - loss: 0.0095 - accuracy: 0.9983 - val_loss: 0.0159 - val_accuracy: 0.9969\n",
            "Epoch 81/100\n",
            "4/4 [==============================] - 0s 20ms/step - loss: 0.0094 - accuracy: 0.9983 - val_loss: 0.0157 - val_accuracy: 0.9969\n",
            "Epoch 82/100\n",
            "4/4 [==============================] - 0s 19ms/step - loss: 0.0094 - accuracy: 0.9983 - val_loss: 0.0156 - val_accuracy: 0.9969\n",
            "Epoch 83/100\n",
            "4/4 [==============================] - 0s 18ms/step - loss: 0.0093 - accuracy: 0.9983 - val_loss: 0.0154 - val_accuracy: 0.9969\n",
            "Epoch 84/100\n",
            "4/4 [==============================] - 0s 21ms/step - loss: 0.0092 - accuracy: 0.9983 - val_loss: 0.0153 - val_accuracy: 0.9969\n",
            "Epoch 85/100\n",
            "4/4 [==============================] - 0s 25ms/step - loss: 0.0092 - accuracy: 0.9983 - val_loss: 0.0152 - val_accuracy: 0.9969\n",
            "Epoch 86/100\n",
            "4/4 [==============================] - 0s 26ms/step - loss: 0.0091 - accuracy: 0.9983 - val_loss: 0.0151 - val_accuracy: 0.9969\n",
            "Epoch 87/100\n",
            "4/4 [==============================] - 0s 21ms/step - loss: 0.0090 - accuracy: 0.9983 - val_loss: 0.0150 - val_accuracy: 0.9969\n",
            "Epoch 88/100\n",
            "4/4 [==============================] - 0s 14ms/step - loss: 0.0090 - accuracy: 0.9983 - val_loss: 0.0148 - val_accuracy: 0.9969\n",
            "Epoch 89/100\n",
            "4/4 [==============================] - 0s 15ms/step - loss: 0.0089 - accuracy: 0.9983 - val_loss: 0.0147 - val_accuracy: 0.9969\n",
            "Epoch 90/100\n",
            "4/4 [==============================] - 0s 15ms/step - loss: 0.0089 - accuracy: 0.9984 - val_loss: 0.0146 - val_accuracy: 0.9969\n",
            "Epoch 91/100\n",
            "4/4 [==============================] - 0s 21ms/step - loss: 0.0088 - accuracy: 0.9984 - val_loss: 0.0145 - val_accuracy: 0.9969\n",
            "Epoch 92/100\n",
            "4/4 [==============================] - 0s 16ms/step - loss: 0.0087 - accuracy: 0.9984 - val_loss: 0.0142 - val_accuracy: 0.9969\n",
            "Epoch 93/100\n",
            "4/4 [==============================] - 0s 15ms/step - loss: 0.0085 - accuracy: 0.9984 - val_loss: 0.0138 - val_accuracy: 0.9969\n",
            "Epoch 94/100\n",
            "4/4 [==============================] - 0s 15ms/step - loss: 0.0084 - accuracy: 0.9984 - val_loss: 0.0136 - val_accuracy: 0.9969\n",
            "Epoch 95/100\n",
            "4/4 [==============================] - 0s 17ms/step - loss: 0.0083 - accuracy: 0.9984 - val_loss: 0.0133 - val_accuracy: 0.9969\n",
            "Epoch 96/100\n",
            "4/4 [==============================] - 0s 14ms/step - loss: 0.0082 - accuracy: 0.9984 - val_loss: 0.0131 - val_accuracy: 0.9969\n",
            "Epoch 97/100\n",
            "4/4 [==============================] - 0s 15ms/step - loss: 0.0082 - accuracy: 0.9984 - val_loss: 0.0129 - val_accuracy: 0.9969\n",
            "Epoch 98/100\n",
            "4/4 [==============================] - 0s 14ms/step - loss: 0.0081 - accuracy: 0.9984 - val_loss: 0.0128 - val_accuracy: 0.9969\n",
            "Epoch 99/100\n",
            "4/4 [==============================] - 0s 14ms/step - loss: 0.0080 - accuracy: 0.9984 - val_loss: 0.0126 - val_accuracy: 0.9969\n",
            "Epoch 100/100\n",
            "4/4 [==============================] - 0s 19ms/step - loss: 0.0079 - accuracy: 0.9984 - val_loss: 0.0124 - val_accuracy: 0.9969\n"
          ]
        }
      ],
      "source": [
        "if model_selection[model_flag]==\"ALL\" or model_selection[model_flag] == \"MLP\":\n",
        "  # training the model on training dataset\n",
        "  history = mlp.fit(X_train, y_train, epochs=100, batch_size=5000,validation_split=0.2)"
      ]
    },
    {
      "cell_type": "code",
      "execution_count": 26,
      "metadata": {
        "id": "_n_gNs3p1_M-",
        "colab": {
          "base_uri": "https://localhost:8080/"
        },
        "outputId": "14b8417b-3eab-48cb-b7fe-60949ccc0e66"
      },
      "outputs": [
        {
          "output_type": "stream",
          "name": "stdout",
          "text": [
            "Saved model to disk\n",
            "Loaded model from disk\n"
          ]
        }
      ],
      "source": [
        "if model_selection[model_flag]==\"ALL\" or model_selection[model_flag] == \"MLP\":\n",
        "  filepath = '/content/drive/MyDrive/Colab_Notebooks/Models/mlp_binary'+model_name_suffix+'.json'\n",
        "  weightspath = '/content/drive/MyDrive/Colab_Notebooks/Weights/mlp_binary'+model_name_suffix+'.h5'\n",
        "  if (not path.isfile(filepath)):\n",
        "    # serialize model to JSON\n",
        "    mlp_json = mlp.to_json()\n",
        "    with open(filepath, \"w\") as json_file:\n",
        "      json_file.write(mlp_json)\n",
        "\n",
        "    # serialize weights to HDF5\n",
        "    mlp.save_weights(weightspath)\n",
        "    print(\"Saved model to disk\")\n",
        "\n",
        "    # load json and create model\n",
        "    json_file = open(filepath, 'r')\n",
        "    loaded_model_json = json_file.read()\n",
        "    json_file.close()\n",
        "    mlp = model_from_json(loaded_model_json)\n",
        "\n",
        "    # load weights into new model\n",
        "    mlp.load_weights(weightspath)\n",
        "    print(\"Loaded model from disk\")"
      ]
    },
    {
      "cell_type": "code",
      "execution_count": 27,
      "metadata": {
        "id": "G99OrVcT2JON"
      },
      "outputs": [],
      "source": [
        "if model_selection[model_flag]==\"ALL\" or model_selection[model_flag] == \"MLP\":\n",
        "  # defining loss function, optimizer, metrics and then compiling model\n",
        "  mlp.compile(loss='binary_crossentropy', optimizer='adam', metrics=['accuracy'])"
      ]
    },
    {
      "cell_type": "code",
      "execution_count": 28,
      "metadata": {
        "id": "AXUA0T2N2OIB",
        "colab": {
          "base_uri": "https://localhost:8080/"
        },
        "outputId": "26bba644-a012-4945-acb2-c8989587ab76"
      },
      "outputs": [
        {
          "output_type": "stream",
          "name": "stdout",
          "text": [
            "217/217 [==============================] - 1s 2ms/step - loss: 7859001.5000 - accuracy: 0.2607\n",
            "Test results - Loss: 7859001.5 - Accuracy: 26.068130135536194\n"
          ]
        }
      ],
      "source": [
        "if model_selection[model_flag]==\"ALL\" or model_selection[model_flag] == \"MLP\":\n",
        "  # predicting target attribute on testing dataset\n",
        "  test_results = mlp.evaluate(X_test, y_test, verbose=1)\n",
        "  print(f'Test results - Loss: {test_results[0]} - Accuracy: {test_results[1]*100}')"
      ]
    },
    {
      "cell_type": "code",
      "execution_count": 29,
      "metadata": {
        "id": "StFTrhE65_-q",
        "colab": {
          "base_uri": "https://localhost:8080/",
          "height": 472
        },
        "outputId": "8e57d139-c612-421b-8e92-7dd9fd3b6881"
      },
      "outputs": [
        {
          "output_type": "display_data",
          "data": {
            "text/plain": [
              "<Figure size 640x480 with 1 Axes>"
            ],
            "image/png": "[encoded data removed]"
          },
          "metadata": {}
        }
      ],
      "source": [
        "if model_selection[model_flag]==\"ALL\" or model_selection[model_flag] == \"MLP\":  \n",
        "  # Plot of accuracy vs epoch of train and test dataset\n",
        "  plt.plot(history.history['accuracy'])\n",
        "  plt.plot(history.history['val_accuracy'])\n",
        "  plt.title(\"Plot of accuracy vs epoch for train and test dataset\")\n",
        "  plt.ylabel('accuracy')\n",
        "  plt.xlabel('epoch')\n",
        "  plt.legend(['train', 'test'], loc='best')\n",
        "  plt.savefig('/content/drive/MyDrive/Colab_Notebooks/Plots/mlp_binary_accuracy.png')\n",
        "  plt.show()"
      ]
    },
    {
      "cell_type": "code",
      "execution_count": 30,
      "metadata": {
        "id": "rZes4PzY6JUq",
        "colab": {
          "base_uri": "https://localhost:8080/",
          "height": 472
        },
        "outputId": "96ba451c-c966-48a8-f5e6-2f926367db35"
      },
      "outputs": [
        {
          "output_type": "display_data",
          "data": {
            "text/plain": [
              "<Figure size 640x480 with 1 Axes>"
            ],
            "image/png": "[encoded data removed]"
          },
          "metadata": {}
        }
      ],
      "source": [
        "if model_selection[model_flag]==\"ALL\" or model_selection[model_flag] == \"MLP\":\n",
        "  # Plot of loss vs epoch of train and test dataset\n",
        "  plt.plot(history.history['loss'])\n",
        "  plt.plot(history.history['val_loss'])\n",
        "  plt.title('Plot of loss vs epoch for train and test dataset')\n",
        "  plt.ylabel('loss')\n",
        "  plt.xlabel('epoch')\n",
        "  plt.legend(['train', 'test'], loc='best')\n",
        "  plt.savefig('/content/drive/MyDrive/Colab_Notebooks/Plots/mlp_binary_loss.png')\n",
        "  plt.show()"
      ]
    },
    {
      "cell_type": "code",
      "execution_count": 31,
      "metadata": {
        "id": "mC0nj-on6iRU"
      },
      "outputs": [],
      "source": [
        "if model_selection[model_flag]==\"ALL\" or model_selection[model_flag] == \"MLP\":\n",
        "  # representation of model layers\n",
        "  from keras.utils.vis_utils import plot_model\n",
        "  plot_model(mlp, to_file='/content/drive/MyDrive/Colab_Notebooks/Plots/mlp_binary.png', show_shapes=True,)"
      ]
    },
    {
      "cell_type": "code",
      "execution_count": 32,
      "metadata": {
        "id": "oxHdln0c6Xi_",
        "colab": {
          "base_uri": "https://localhost:8080/"
        },
        "outputId": "55943b6f-a027-405c-91c8-390bb3da1f80"
      },
      "outputs": [
        {
          "output_type": "stream",
          "name": "stdout",
          "text": [
            "217/217 [==============================] - 1s 2ms/step\n"
          ]
        }
      ],
      "source": [
        "if model_selection[model_flag]==\"ALL\" or model_selection[model_flag] == \"MLP\":\n",
        "  y_pred = mlp.predict(X_test).ravel()\n",
        "  fpr, tpr, thresholds = roc_curve(y_test, y_pred)\n",
        "  auc = auc(fpr, tpr)"
      ]
    },
    {
      "cell_type": "code",
      "execution_count": 33,
      "metadata": {
        "id": "Cr36q9Z-6aRU",
        "colab": {
          "base_uri": "https://localhost:8080/",
          "height": 472
        },
        "outputId": "43ef1a0c-c90b-45d3-9b8b-a0998133039c"
      },
      "outputs": [
        {
          "output_type": "display_data",
          "data": {
            "text/plain": [
              "<Figure size 640x480 with 1 Axes>"
            ],
            "image/png": "[encoded data removed]"
          },
          "metadata": {}
        }
      ],
      "source": [
        "if model_selection[model_flag]==\"ALL\" or model_selection[model_flag] == \"MLP\":\n",
        "  plt.plot([0, 1], [0, 1], 'k--')\n",
        "  plt.plot(fpr, tpr, label='Keras (area = {:.3f})'.format(auc))\n",
        "  plt.xlabel('False positive rate')\n",
        "  plt.ylabel('True positive rate')\n",
        "  plt.title('ROC curve')\n",
        "  plt.legend(loc='best')\n",
        "  plt.savefig('/content/drive/MyDrive/Colab_Notebooks/Plots/mlp_binary_roc.png')\n",
        "  plt.show()"
      ]
    },
    {
      "cell_type": "code",
      "execution_count": 34,
      "metadata": {
        "id": "U9f2bWPwFljk"
      },
      "outputs": [],
      "source": [
        "# real_data_kdd = bin_data.copy()\n",
        "\n",
        "# # Names of the columns that are discrete\n",
        "# cat_cols = real_data_kdd.select_dtypes(['object']).columns\n",
        "# # cat_cols\n",
        "# test_data = real_data_kdd.iloc[:999]\n",
        "\n",
        "# corr= test_data.corr()\n",
        "# corr_y = abs(corr['label'])\n",
        "# highest_corr = corr_y\n",
        "# highest_corr.sort_values(ascending=True)"
      ]
    },
    {
      "cell_type": "code",
      "execution_count": 35,
      "metadata": {
        "id": "8-clVdUoUPa-",
        "colab": {
          "base_uri": "https://localhost:8080/"
        },
        "outputId": "a28aab27-9b4c-4aa4-8636-5bb44524b9e4"
      },
      "outputs": [
        {
          "output_type": "stream",
          "name": "stdout",
          "text": [
            "217/217 [==============================] - 0s 2ms/step\n"
          ]
        }
      ],
      "source": [
        "if model_selection[model_flag]==\"ALL\" or model_selection[model_flag] == \"MLP\":\n",
        "  y_classes = (mlp.predict(X_test)>0.5).astype('int32')"
      ]
    },
    {
      "cell_type": "code",
      "execution_count": 36,
      "metadata": {
        "id": "0jcFqEqFT-uq",
        "colab": {
          "base_uri": "https://localhost:8080/"
        },
        "outputId": "96f7ac18-017d-4762-a0bf-d7e5bbc842ac"
      },
      "outputs": [
        {
          "output_type": "stream",
          "name": "stdout",
          "text": [
            "Recall Score -  1.0\n",
            "F1 Score -  0.006979449398991857\n",
            "Precision Score -  0.003501945525291829\n",
            "False Positive Rate -  [0.74124457]\n",
            "False Negative Rate -  [0.]\n",
            "Thresholds -  [1]\n"
          ]
        }
      ],
      "source": [
        "if model_selection[model_flag]==\"ALL\" or model_selection[model_flag] == \"MLP\":\n",
        "  print(\"Recall Score - \",recall_score(y_test,y_classes))\n",
        "  print(\"F1 Score - \",f1_score(y_test,y_classes))\n",
        "  print(\"Precision Score - \",precision_score(y_test,y_classes))\n",
        "  fpr, fnr, thresholds = det_curve(y_test, y_classes)\n",
        "  print(\"False Positive Rate - \", fpr)\n",
        "  print(\"False Negative Rate - \", fnr)\n",
        "  print(\"Thresholds - \", thresholds)"
      ]
    },
    {
      "cell_type": "code",
      "source": [
        "print(classification_report(y_test, y_classes, target_names=['0', '1']))\n",
        "cm = confusion_matrix(y_test, y_classes)\n",
        "disp = ConfusionMatrixDisplay(confusion_matrix=cm,\n",
        "                              display_labels=['0', '1'])\n",
        "disp.plot()\n",
        "\n",
        "plt.show()"
      ],
      "metadata": {
        "id": "3HJB6IXJsxjg",
        "colab": {
          "base_uri": "https://localhost:8080/",
          "height": 610
        },
        "outputId": "e18eaa48-f79e-40dc-eb98-a875ffc47db9"
      },
      "execution_count": 37,
      "outputs": [
        {
          "output_type": "stream",
          "name": "stdout",
          "text": [
            "              precision    recall  f1-score   support\n",
            "\n",
            "           0       1.00      0.26      0.41      6910\n",
            "           1       0.00      1.00      0.01        18\n",
            "\n",
            "    accuracy                           0.26      6928\n",
            "   macro avg       0.50      0.63      0.21      6928\n",
            "weighted avg       1.00      0.26      0.41      6928\n",
            "\n"
          ]
        },
        {
          "output_type": "display_data",
          "data": {
            "text/plain": [
              "<Figure size 640x480 with 2 Axes>"
            ],
            "image/png": "[encoded data removed]"
          },
          "metadata": {}
        }
      ]
    },
    {
      "cell_type": "markdown",
      "source": [
        "# **Correlation** Matrix of Features"
      ],
      "metadata": {
        "id": "j7BKdCwqs2RE"
      }
    },
    {
      "cell_type": "code",
      "execution_count": 38,
      "metadata": {
        "id": "TL8zt-tHLt90",
        "colab": {
          "base_uri": "https://localhost:8080/"
        },
        "outputId": "e2348122-352b-4c1d-d8d1-996eb766614b"
      },
      "outputs": [
        {
          "output_type": "execute_result",
          "data": {
            "text/plain": [
              "X76      0.319342\n",
              "X77      0.321325\n",
              "X80      0.341227\n",
              "X79      0.345461\n",
              "label    1.000000\n",
              "Name: label, dtype: float64"
            ]
          },
          "metadata": {},
          "execution_count": 38
        }
      ],
      "source": [
        "corr= bin_data.corr()\n",
        "corr_y = abs(corr['label'])\n",
        "highest_corr = corr_y[corr_y >0.3]\n",
        "highest_corr.sort_values(ascending=True)"
      ]
    },
    {
      "cell_type": "code",
      "source": [
        "plt.matshow(corr)\n",
        "plt.show()"
      ],
      "metadata": {
        "colab": {
          "base_uri": "https://localhost:8080/",
          "height": 437
        },
        "id": "q4b094WVtQQ7",
        "outputId": "6bba11b9-26d0-4e01-874b-63cc8eefac9c"
      },
      "execution_count": 39,
      "outputs": [
        {
          "output_type": "display_data",
          "data": {
            "text/plain": [
              "<Figure size 480x480 with 1 Axes>"
            ],
            "image/png": "[encoded data removed]"
          },
          "metadata": {}
        }
      ]
    },
    {
      "cell_type": "markdown",
      "metadata": {
        "id": "ZHhtNjFLPj6Y"
      },
      "source": [
        "## **LSTM Classifier**"
      ]
    },
    {
      "cell_type": "code",
      "execution_count": 40,
      "metadata": {
        "id": "DTNPkQMNL5Eh",
        "colab": {
          "base_uri": "https://localhost:8080/"
        },
        "outputId": "348691f7-bb6a-40e4-a759-e936de7c8422"
      },
      "outputs": [
        {
          "output_type": "execute_result",
          "data": {
            "text/plain": [
              "(20784, 117)"
            ]
          },
          "metadata": {},
          "execution_count": 40
        }
      ],
      "source": [
        "X_train = np.array(X_train)\n",
        "X_test = np.array(X_test)\n",
        "# y_train.shape   #(18896,)\n",
        "X_train.shape"
      ]
    },
    {
      "cell_type": "code",
      "execution_count": 41,
      "metadata": {
        "id": "9n-QlBDXPMl4",
        "colab": {
          "base_uri": "https://localhost:8080/"
        },
        "outputId": "b30b51c4-44cf-4ccf-9f52-e6dd589d0af5"
      },
      "outputs": [
        {
          "output_type": "execute_result",
          "data": {
            "text/plain": [
              "numpy.ndarray"
            ]
          },
          "metadata": {},
          "execution_count": 41
        }
      ],
      "source": [
        "y_train = np.array(y_train)\n",
        "type(y_train)"
      ]
    },
    {
      "cell_type": "code",
      "execution_count": 42,
      "metadata": {
        "id": "-8Ro_ZRQPdZz",
        "colab": {
          "base_uri": "https://localhost:8080/"
        },
        "outputId": "ab58abfc-1119-4755-83f3-3eff1ec43864"
      },
      "outputs": [
        {
          "output_type": "execute_result",
          "data": {
            "text/plain": [
              "(20784, 1, 117)"
            ]
          },
          "metadata": {},
          "execution_count": 42
        }
      ],
      "source": [
        "x_train = np.reshape(X_train, (X_train.shape[0],1,X_train.shape[1]))\n",
        "x_train.shape"
      ]
    },
    {
      "cell_type": "code",
      "source": [
        "x_train.shape[2]"
      ],
      "metadata": {
        "colab": {
          "base_uri": "https://localhost:8080/"
        },
        "id": "EuvuETcGpkje",
        "outputId": "0fea1d7d-ef6e-4e79-aa23-6f7bafab4677"
      },
      "execution_count": 43,
      "outputs": [
        {
          "output_type": "execute_result",
          "data": {
            "text/plain": [
              "117"
            ]
          },
          "metadata": {},
          "execution_count": 43
        }
      ]
    },
    {
      "cell_type": "code",
      "execution_count": 44,
      "metadata": {
        "id": "pLIl946zQQwG",
        "colab": {
          "base_uri": "https://localhost:8080/"
        },
        "outputId": "2686c2d3-5edb-40ba-ccb3-7621d63ceed1"
      },
      "outputs": [
        {
          "output_type": "execute_result",
          "data": {
            "text/plain": [
              "(6928, 1, 117)"
            ]
          },
          "metadata": {},
          "execution_count": 44
        }
      ],
      "source": [
        "x_test = np.reshape(X_test, (X_test.shape[0],1,X_test.shape[1]))\n",
        "x_test.shape"
      ]
    },
    {
      "cell_type": "code",
      "execution_count": 45,
      "metadata": {
        "id": "jWsrkPEmQcY7"
      },
      "outputs": [],
      "source": [
        "if model_selection[model_flag]==\"ALL\" or model_selection[model_flag] == \"LSTM\":\n",
        "  lst = Sequential()\n",
        "  # input layer and LSTM layer with 50 neurons\n",
        "  input_features = x_train.shape[2]\n",
        "  lst.add(LSTM(50,input_dim=input_features))\n",
        "\n",
        "  # outpute layer with sigmoid activation\n",
        "  lst.add(Dense(1,activation='sigmoid'))"
      ]
    },
    {
      "cell_type": "code",
      "execution_count": 46,
      "metadata": {
        "id": "UEmba1H9Q_qj"
      },
      "outputs": [],
      "source": [
        "if model_selection[model_flag]==\"ALL\" or model_selection[model_flag] == \"LSTM\":\n",
        "  # defining loss function, optimizer, metrics and then compiling model\n",
        "  lst.compile(loss='binary_crossentropy',optimizer='adam',metrics=['accuracy'])"
      ]
    },
    {
      "cell_type": "code",
      "execution_count": 47,
      "metadata": {
        "id": "anR58jV2RCtz",
        "colab": {
          "base_uri": "https://localhost:8080/"
        },
        "outputId": "5ae37977-d214-4bcb-e265-a9eef1b7e918"
      },
      "outputs": [
        {
          "output_type": "stream",
          "name": "stdout",
          "text": [
            "Model: \"sequential_1\"\n",
            "_________________________________________________________________\n",
            " Layer (type)                Output Shape              Param #   \n",
            "=================================================================\n",
            " lstm (LSTM)                 (None, 50)                33600     \n",
            "                                                                 \n",
            " dense_2 (Dense)             (None, 1)                 51        \n",
            "                                                                 \n",
            "=================================================================\n",
            "Total params: 33,651\n",
            "Trainable params: 33,651\n",
            "Non-trainable params: 0\n",
            "_________________________________________________________________\n"
          ]
        }
      ],
      "source": [
        "if model_selection[model_flag]==\"ALL\" or model_selection[model_flag] == \"LSTM\":\n",
        "  # summary of model layers\n",
        "  lst.summary()"
      ]
    },
    {
      "cell_type": "code",
      "execution_count": 48,
      "metadata": {
        "id": "_Pa4Qi12RJS_",
        "colab": {
          "base_uri": "https://localhost:8080/"
        },
        "outputId": "c155253e-d0d2-4c54-d455-86862c9f5098"
      },
      "outputs": [
        {
          "output_type": "stream",
          "name": "stdout",
          "text": [
            "Epoch 1/100\n",
            "4/4 [==============================] - 3s 157ms/step - loss: 0.5711 - accuracy: 0.9095 - val_loss: 0.4368 - val_accuracy: 0.9959\n",
            "Epoch 2/100\n",
            "4/4 [==============================] - 0s 14ms/step - loss: 0.3883 - accuracy: 0.9977 - val_loss: 0.2902 - val_accuracy: 0.9964\n",
            "Epoch 3/100\n",
            "4/4 [==============================] - 0s 18ms/step - loss: 0.2567 - accuracy: 0.9978 - val_loss: 0.1939 - val_accuracy: 0.9964\n",
            "Epoch 4/100\n",
            "4/4 [==============================] - 0s 14ms/step - loss: 0.1719 - accuracy: 0.9978 - val_loss: 0.1351 - val_accuracy: 0.9964\n",
            "Epoch 5/100\n",
            "4/4 [==============================] - 0s 15ms/step - loss: 0.1202 - accuracy: 0.9978 - val_loss: 0.0997 - val_accuracy: 0.9964\n",
            "Epoch 6/100\n",
            "4/4 [==============================] - 0s 15ms/step - loss: 0.0887 - accuracy: 0.9978 - val_loss: 0.0780 - val_accuracy: 0.9964\n",
            "Epoch 7/100\n",
            "4/4 [==============================] - 0s 15ms/step - loss: 0.0689 - accuracy: 0.9978 - val_loss: 0.0642 - val_accuracy: 0.9964\n",
            "Epoch 8/100\n",
            "4/4 [==============================] - 0s 14ms/step - loss: 0.0562 - accuracy: 0.9978 - val_loss: 0.0551 - val_accuracy: 0.9964\n",
            "Epoch 9/100\n",
            "4/4 [==============================] - 0s 20ms/step - loss: 0.0474 - accuracy: 0.9978 - val_loss: 0.0488 - val_accuracy: 0.9964\n",
            "Epoch 10/100\n",
            "4/4 [==============================] - 0s 16ms/step - loss: 0.0413 - accuracy: 0.9978 - val_loss: 0.0443 - val_accuracy: 0.9964\n",
            "Epoch 11/100\n",
            "4/4 [==============================] - 0s 13ms/step - loss: 0.0369 - accuracy: 0.9978 - val_loss: 0.0410 - val_accuracy: 0.9964\n",
            "Epoch 12/100\n",
            "4/4 [==============================] - 0s 13ms/step - loss: 0.0335 - accuracy: 0.9978 - val_loss: 0.0384 - val_accuracy: 0.9964\n",
            "Epoch 13/100\n",
            "4/4 [==============================] - 0s 15ms/step - loss: 0.0309 - accuracy: 0.9978 - val_loss: 0.0364 - val_accuracy: 0.9964\n",
            "Epoch 14/100\n",
            "4/4 [==============================] - 0s 14ms/step - loss: 0.0288 - accuracy: 0.9978 - val_loss: 0.0348 - val_accuracy: 0.9964\n",
            "Epoch 15/100\n",
            "4/4 [==============================] - 0s 20ms/step - loss: 0.0270 - accuracy: 0.9978 - val_loss: 0.0335 - val_accuracy: 0.9964\n",
            "Epoch 16/100\n",
            "4/4 [==============================] - 0s 15ms/step - loss: 0.0256 - accuracy: 0.9978 - val_loss: 0.0323 - val_accuracy: 0.9964\n",
            "Epoch 17/100\n",
            "4/4 [==============================] - 0s 15ms/step - loss: 0.0244 - accuracy: 0.9978 - val_loss: 0.0314 - val_accuracy: 0.9964\n",
            "Epoch 18/100\n",
            "4/4 [==============================] - 0s 14ms/step - loss: 0.0234 - accuracy: 0.9978 - val_loss: 0.0306 - val_accuracy: 0.9964\n",
            "Epoch 19/100\n",
            "4/4 [==============================] - 0s 14ms/step - loss: 0.0225 - accuracy: 0.9978 - val_loss: 0.0299 - val_accuracy: 0.9964\n",
            "Epoch 20/100\n",
            "4/4 [==============================] - 0s 23ms/step - loss: 0.0217 - accuracy: 0.9978 - val_loss: 0.0293 - val_accuracy: 0.9964\n",
            "Epoch 21/100\n",
            "4/4 [==============================] - 0s 15ms/step - loss: 0.0210 - accuracy: 0.9978 - val_loss: 0.0288 - val_accuracy: 0.9964\n",
            "Epoch 22/100\n",
            "4/4 [==============================] - 0s 14ms/step - loss: 0.0204 - accuracy: 0.9978 - val_loss: 0.0283 - val_accuracy: 0.9964\n",
            "Epoch 23/100\n",
            "4/4 [==============================] - 0s 15ms/step - loss: 0.0198 - accuracy: 0.9978 - val_loss: 0.0278 - val_accuracy: 0.9964\n",
            "Epoch 24/100\n",
            "4/4 [==============================] - 0s 13ms/step - loss: 0.0193 - accuracy: 0.9978 - val_loss: 0.0275 - val_accuracy: 0.9964\n",
            "Epoch 25/100\n",
            "4/4 [==============================] - 0s 14ms/step - loss: 0.0189 - accuracy: 0.9978 - val_loss: 0.0271 - val_accuracy: 0.9964\n",
            "Epoch 26/100\n",
            "4/4 [==============================] - 0s 17ms/step - loss: 0.0185 - accuracy: 0.9978 - val_loss: 0.0268 - val_accuracy: 0.9964\n",
            "Epoch 27/100\n",
            "4/4 [==============================] - 0s 14ms/step - loss: 0.0181 - accuracy: 0.9978 - val_loss: 0.0265 - val_accuracy: 0.9964\n",
            "Epoch 28/100\n",
            "4/4 [==============================] - 0s 13ms/step - loss: 0.0178 - accuracy: 0.9978 - val_loss: 0.0263 - val_accuracy: 0.9964\n",
            "Epoch 29/100\n",
            "4/4 [==============================] - 0s 15ms/step - loss: 0.0175 - accuracy: 0.9978 - val_loss: 0.0260 - val_accuracy: 0.9964\n",
            "Epoch 30/100\n",
            "4/4 [==============================] - 0s 14ms/step - loss: 0.0172 - accuracy: 0.9978 - val_loss: 0.0258 - val_accuracy: 0.9964\n",
            "Epoch 31/100\n",
            "4/4 [==============================] - 0s 14ms/step - loss: 0.0169 - accuracy: 0.9979 - val_loss: 0.0256 - val_accuracy: 0.9964\n",
            "Epoch 32/100\n",
            "4/4 [==============================] - 0s 16ms/step - loss: 0.0167 - accuracy: 0.9979 - val_loss: 0.0254 - val_accuracy: 0.9964\n",
            "Epoch 33/100\n",
            "4/4 [==============================] - 0s 14ms/step - loss: 0.0164 - accuracy: 0.9979 - val_loss: 0.0253 - val_accuracy: 0.9964\n",
            "Epoch 34/100\n",
            "4/4 [==============================] - 0s 14ms/step - loss: 0.0162 - accuracy: 0.9980 - val_loss: 0.0251 - val_accuracy: 0.9964\n",
            "Epoch 35/100\n",
            "4/4 [==============================] - 0s 16ms/step - loss: 0.0160 - accuracy: 0.9980 - val_loss: 0.0250 - val_accuracy: 0.9964\n",
            "Epoch 36/100\n",
            "4/4 [==============================] - 0s 14ms/step - loss: 0.0159 - accuracy: 0.9980 - val_loss: 0.0248 - val_accuracy: 0.9966\n",
            "Epoch 37/100\n",
            "4/4 [==============================] - 0s 15ms/step - loss: 0.0157 - accuracy: 0.9980 - val_loss: 0.0247 - val_accuracy: 0.9966\n",
            "Epoch 38/100\n",
            "4/4 [==============================] - 0s 15ms/step - loss: 0.0155 - accuracy: 0.9980 - val_loss: 0.0246 - val_accuracy: 0.9966\n",
            "Epoch 39/100\n",
            "4/4 [==============================] - 0s 14ms/step - loss: 0.0154 - accuracy: 0.9979 - val_loss: 0.0245 - val_accuracy: 0.9966\n",
            "Epoch 40/100\n",
            "4/4 [==============================] - 0s 14ms/step - loss: 0.0152 - accuracy: 0.9979 - val_loss: 0.0244 - val_accuracy: 0.9966\n",
            "Epoch 41/100\n",
            "4/4 [==============================] - 0s 14ms/step - loss: 0.0151 - accuracy: 0.9979 - val_loss: 0.0243 - val_accuracy: 0.9966\n",
            "Epoch 42/100\n",
            "4/4 [==============================] - 0s 14ms/step - loss: 0.0150 - accuracy: 0.9980 - val_loss: 0.0242 - val_accuracy: 0.9966\n",
            "Epoch 43/100\n",
            "4/4 [==============================] - 0s 14ms/step - loss: 0.0148 - accuracy: 0.9980 - val_loss: 0.0241 - val_accuracy: 0.9966\n",
            "Epoch 44/100\n",
            "4/4 [==============================] - 0s 14ms/step - loss: 0.0147 - accuracy: 0.9980 - val_loss: 0.0241 - val_accuracy: 0.9966\n",
            "Epoch 45/100\n",
            "4/4 [==============================] - 0s 14ms/step - loss: 0.0146 - accuracy: 0.9980 - val_loss: 0.0240 - val_accuracy: 0.9966\n",
            "Epoch 46/100\n",
            "4/4 [==============================] - 0s 14ms/step - loss: 0.0145 - accuracy: 0.9980 - val_loss: 0.0239 - val_accuracy: 0.9966\n",
            "Epoch 47/100\n",
            "4/4 [==============================] - 0s 16ms/step - loss: 0.0144 - accuracy: 0.9980 - val_loss: 0.0239 - val_accuracy: 0.9966\n",
            "Epoch 48/100\n",
            "4/4 [==============================] - 0s 15ms/step - loss: 0.0144 - accuracy: 0.9980 - val_loss: 0.0238 - val_accuracy: 0.9966\n",
            "Epoch 49/100\n",
            "4/4 [==============================] - 0s 14ms/step - loss: 0.0143 - accuracy: 0.9980 - val_loss: 0.0237 - val_accuracy: 0.9966\n",
            "Epoch 50/100\n",
            "4/4 [==============================] - 0s 15ms/step - loss: 0.0142 - accuracy: 0.9980 - val_loss: 0.0237 - val_accuracy: 0.9966\n",
            "Epoch 51/100\n",
            "4/4 [==============================] - 0s 16ms/step - loss: 0.0141 - accuracy: 0.9980 - val_loss: 0.0236 - val_accuracy: 0.9966\n",
            "Epoch 52/100\n",
            "4/4 [==============================] - 0s 14ms/step - loss: 0.0140 - accuracy: 0.9981 - val_loss: 0.0236 - val_accuracy: 0.9966\n",
            "Epoch 53/100\n",
            "4/4 [==============================] - 0s 14ms/step - loss: 0.0140 - accuracy: 0.9981 - val_loss: 0.0235 - val_accuracy: 0.9966\n",
            "Epoch 54/100\n",
            "4/4 [==============================] - 0s 14ms/step - loss: 0.0139 - accuracy: 0.9981 - val_loss: 0.0235 - val_accuracy: 0.9966\n",
            "Epoch 55/100\n",
            "4/4 [==============================] - 0s 14ms/step - loss: 0.0138 - accuracy: 0.9981 - val_loss: 0.0234 - val_accuracy: 0.9966\n",
            "Epoch 56/100\n",
            "4/4 [==============================] - 0s 17ms/step - loss: 0.0138 - accuracy: 0.9981 - val_loss: 0.0234 - val_accuracy: 0.9966\n",
            "Epoch 57/100\n",
            "4/4 [==============================] - 0s 14ms/step - loss: 0.0137 - accuracy: 0.9981 - val_loss: 0.0233 - val_accuracy: 0.9966\n",
            "Epoch 58/100\n",
            "4/4 [==============================] - 0s 14ms/step - loss: 0.0137 - accuracy: 0.9981 - val_loss: 0.0233 - val_accuracy: 0.9966\n",
            "Epoch 59/100\n",
            "4/4 [==============================] - 0s 15ms/step - loss: 0.0136 - accuracy: 0.9981 - val_loss: 0.0233 - val_accuracy: 0.9966\n",
            "Epoch 60/100\n",
            "4/4 [==============================] - 0s 14ms/step - loss: 0.0136 - accuracy: 0.9980 - val_loss: 0.0232 - val_accuracy: 0.9966\n",
            "Epoch 61/100\n",
            "4/4 [==============================] - 0s 14ms/step - loss: 0.0135 - accuracy: 0.9980 - val_loss: 0.0232 - val_accuracy: 0.9966\n",
            "Epoch 62/100\n",
            "4/4 [==============================] - 0s 16ms/step - loss: 0.0135 - accuracy: 0.9980 - val_loss: 0.0232 - val_accuracy: 0.9966\n",
            "Epoch 63/100\n",
            "4/4 [==============================] - 0s 14ms/step - loss: 0.0134 - accuracy: 0.9980 - val_loss: 0.0231 - val_accuracy: 0.9966\n",
            "Epoch 64/100\n",
            "4/4 [==============================] - 0s 14ms/step - loss: 0.0134 - accuracy: 0.9980 - val_loss: 0.0231 - val_accuracy: 0.9966\n",
            "Epoch 65/100\n",
            "4/4 [==============================] - 0s 30ms/step - loss: 0.0133 - accuracy: 0.9980 - val_loss: 0.0231 - val_accuracy: 0.9966\n",
            "Epoch 66/100\n",
            "4/4 [==============================] - 0s 19ms/step - loss: 0.0133 - accuracy: 0.9980 - val_loss: 0.0230 - val_accuracy: 0.9966\n",
            "Epoch 67/100\n",
            "4/4 [==============================] - 0s 21ms/step - loss: 0.0133 - accuracy: 0.9980 - val_loss: 0.0230 - val_accuracy: 0.9966\n",
            "Epoch 68/100\n",
            "4/4 [==============================] - 0s 20ms/step - loss: 0.0132 - accuracy: 0.9980 - val_loss: 0.0230 - val_accuracy: 0.9966\n",
            "Epoch 69/100\n",
            "4/4 [==============================] - 0s 22ms/step - loss: 0.0132 - accuracy: 0.9981 - val_loss: 0.0229 - val_accuracy: 0.9966\n",
            "Epoch 70/100\n",
            "4/4 [==============================] - 0s 21ms/step - loss: 0.0131 - accuracy: 0.9981 - val_loss: 0.0229 - val_accuracy: 0.9966\n",
            "Epoch 71/100\n",
            "4/4 [==============================] - 0s 20ms/step - loss: 0.0131 - accuracy: 0.9981 - val_loss: 0.0229 - val_accuracy: 0.9966\n",
            "Epoch 72/100\n",
            "4/4 [==============================] - 0s 20ms/step - loss: 0.0131 - accuracy: 0.9981 - val_loss: 0.0228 - val_accuracy: 0.9966\n",
            "Epoch 73/100\n",
            "4/4 [==============================] - 0s 21ms/step - loss: 0.0130 - accuracy: 0.9981 - val_loss: 0.0228 - val_accuracy: 0.9966\n",
            "Epoch 74/100\n",
            "4/4 [==============================] - 0s 19ms/step - loss: 0.0130 - accuracy: 0.9981 - val_loss: 0.0228 - val_accuracy: 0.9966\n",
            "Epoch 75/100\n",
            "4/4 [==============================] - 0s 21ms/step - loss: 0.0130 - accuracy: 0.9981 - val_loss: 0.0227 - val_accuracy: 0.9966\n",
            "Epoch 76/100\n",
            "4/4 [==============================] - 0s 19ms/step - loss: 0.0129 - accuracy: 0.9981 - val_loss: 0.0227 - val_accuracy: 0.9966\n",
            "Epoch 77/100\n",
            "4/4 [==============================] - 0s 20ms/step - loss: 0.0129 - accuracy: 0.9981 - val_loss: 0.0227 - val_accuracy: 0.9966\n",
            "Epoch 78/100\n",
            "4/4 [==============================] - 0s 26ms/step - loss: 0.0129 - accuracy: 0.9981 - val_loss: 0.0226 - val_accuracy: 0.9966\n",
            "Epoch 79/100\n",
            "4/4 [==============================] - 0s 21ms/step - loss: 0.0128 - accuracy: 0.9981 - val_loss: 0.0226 - val_accuracy: 0.9966\n",
            "Epoch 80/100\n",
            "4/4 [==============================] - 0s 19ms/step - loss: 0.0128 - accuracy: 0.9981 - val_loss: 0.0226 - val_accuracy: 0.9966\n",
            "Epoch 81/100\n",
            "4/4 [==============================] - 0s 19ms/step - loss: 0.0128 - accuracy: 0.9981 - val_loss: 0.0225 - val_accuracy: 0.9966\n",
            "Epoch 82/100\n",
            "4/4 [==============================] - 0s 20ms/step - loss: 0.0127 - accuracy: 0.9981 - val_loss: 0.0225 - val_accuracy: 0.9966\n",
            "Epoch 83/100\n",
            "4/4 [==============================] - 0s 19ms/step - loss: 0.0127 - accuracy: 0.9981 - val_loss: 0.0225 - val_accuracy: 0.9966\n",
            "Epoch 84/100\n",
            "4/4 [==============================] - 0s 19ms/step - loss: 0.0127 - accuracy: 0.9981 - val_loss: 0.0224 - val_accuracy: 0.9966\n",
            "Epoch 85/100\n",
            "4/4 [==============================] - 0s 28ms/step - loss: 0.0127 - accuracy: 0.9981 - val_loss: 0.0224 - val_accuracy: 0.9966\n",
            "Epoch 86/100\n",
            "4/4 [==============================] - 0s 26ms/step - loss: 0.0126 - accuracy: 0.9981 - val_loss: 0.0224 - val_accuracy: 0.9966\n",
            "Epoch 87/100\n",
            "4/4 [==============================] - 0s 21ms/step - loss: 0.0126 - accuracy: 0.9981 - val_loss: 0.0223 - val_accuracy: 0.9966\n",
            "Epoch 88/100\n",
            "4/4 [==============================] - 0s 19ms/step - loss: 0.0126 - accuracy: 0.9981 - val_loss: 0.0223 - val_accuracy: 0.9966\n",
            "Epoch 89/100\n",
            "4/4 [==============================] - 0s 24ms/step - loss: 0.0125 - accuracy: 0.9981 - val_loss: 0.0223 - val_accuracy: 0.9966\n",
            "Epoch 90/100\n",
            "4/4 [==============================] - 0s 19ms/step - loss: 0.0125 - accuracy: 0.9981 - val_loss: 0.0222 - val_accuracy: 0.9966\n",
            "Epoch 91/100\n",
            "4/4 [==============================] - 0s 23ms/step - loss: 0.0125 - accuracy: 0.9981 - val_loss: 0.0222 - val_accuracy: 0.9966\n",
            "Epoch 92/100\n",
            "4/4 [==============================] - 0s 23ms/step - loss: 0.0125 - accuracy: 0.9981 - val_loss: 0.0222 - val_accuracy: 0.9966\n",
            "Epoch 93/100\n",
            "4/4 [==============================] - 0s 21ms/step - loss: 0.0124 - accuracy: 0.9981 - val_loss: 0.0221 - val_accuracy: 0.9966\n",
            "Epoch 94/100\n",
            "4/4 [==============================] - 0s 21ms/step - loss: 0.0124 - accuracy: 0.9982 - val_loss: 0.0221 - val_accuracy: 0.9966\n",
            "Epoch 95/100\n",
            "4/4 [==============================] - 0s 23ms/step - loss: 0.0124 - accuracy: 0.9982 - val_loss: 0.0220 - val_accuracy: 0.9966\n",
            "Epoch 96/100\n",
            "4/4 [==============================] - 0s 25ms/step - loss: 0.0123 - accuracy: 0.9982 - val_loss: 0.0220 - val_accuracy: 0.9966\n",
            "Epoch 97/100\n",
            "4/4 [==============================] - 0s 27ms/step - loss: 0.0123 - accuracy: 0.9982 - val_loss: 0.0219 - val_accuracy: 0.9969\n",
            "Epoch 98/100\n",
            "4/4 [==============================] - 0s 24ms/step - loss: 0.0123 - accuracy: 0.9982 - val_loss: 0.0219 - val_accuracy: 0.9969\n",
            "Epoch 99/100\n",
            "4/4 [==============================] - 0s 25ms/step - loss: 0.0122 - accuracy: 0.9982 - val_loss: 0.0218 - val_accuracy: 0.9969\n",
            "Epoch 100/100\n",
            "4/4 [==============================] - 0s 20ms/step - loss: 0.0122 - accuracy: 0.9982 - val_loss: 0.0218 - val_accuracy: 0.9969\n"
          ]
        }
      ],
      "source": [
        "if model_selection[model_flag]==\"ALL\" or model_selection[model_flag] == \"LSTM\":\n",
        "  # training the model on training dataset\n",
        "  history = lst.fit(x_train, y_train, epochs=100, batch_size=5000,validation_split=0.2)"
      ]
    },
    {
      "cell_type": "code",
      "execution_count": 49,
      "metadata": {
        "id": "BCQtvJcXRcNr",
        "colab": {
          "base_uri": "https://localhost:8080/"
        },
        "outputId": "042beb7d-68e7-4b60-cb3e-c249db3f35ca"
      },
      "outputs": [
        {
          "output_type": "stream",
          "name": "stdout",
          "text": [
            "Saved model to disk\n",
            "Loaded model from disk\n"
          ]
        }
      ],
      "source": [
        "if model_selection[model_flag]==\"ALL\" or model_selection[model_flag] == \"LSTM\":\n",
        "  filepath = '/content/drive/MyDrive/Colab_Notebooks/Models/lst_binary_kitsune'+model_name_suffix+'.json'\n",
        "  weightspath = '/content/drive/MyDrive/Colab_Notebooks/Weights/lst_binary_kitsune'+model_name_suffix+'.h5'\n",
        "  if (not path.isfile(filepath)):\n",
        "    # serialize model to JSON\n",
        "    lst_json = lst.to_json()\n",
        "    with open(filepath, \"w\") as json_file:\n",
        "      json_file.write(lst_json)\n",
        "\n",
        "    # serialize weights to HDF5\n",
        "    lst.save_weights(weightspath)\n",
        "    print(\"Saved model to disk\")\n",
        "\n",
        "    # load json and create model\n",
        "    json_file = open(filepath, 'r')\n",
        "    loaded_model_json = json_file.read()\n",
        "    json_file.close()\n",
        "    lst = model_from_json(loaded_model_json)\n",
        "\n",
        "    # load weights into new model\n",
        "    lst.load_weights(weightspath)\n",
        "    print(\"Loaded model from disk\")"
      ]
    },
    {
      "cell_type": "code",
      "execution_count": 50,
      "metadata": {
        "id": "rPaW37T-R0dG",
        "colab": {
          "base_uri": "https://localhost:8080/"
        },
        "outputId": "6c7dab7e-b101-411d-fe3b-994eeb52714e"
      },
      "outputs": [
        {
          "output_type": "stream",
          "name": "stdout",
          "text": [
            "Loaded model from disk\n"
          ]
        }
      ],
      "source": [
        "if model_selection[model_flag]==\"ALL\" or model_selection[model_flag] == \"LSTM\":\n",
        "  # load json and create model\n",
        "  json_file = open(filepath, 'r')\n",
        "  loaded_model_json = json_file.read()\n",
        "  json_file.close()\n",
        "  lst = model_from_json(loaded_model_json)\n",
        "\n",
        "  # load weights into new model\n",
        "  lst.load_weights(weightspath)\n",
        "  print(\"Loaded model from disk\")"
      ]
    },
    {
      "cell_type": "code",
      "execution_count": 51,
      "metadata": {
        "id": "ukGDdSggR3na"
      },
      "outputs": [],
      "source": [
        "if model_selection[model_flag]==\"ALL\" or model_selection[model_flag] == \"LSTM\":\n",
        "  # defining loss function, optimizer, metrics and then compiling model\n",
        "  lst.compile(loss='binary_crossentropy',optimizer='adam',metrics=['accuracy'])"
      ]
    },
    {
      "cell_type": "code",
      "execution_count": 52,
      "metadata": {
        "id": "nvjY0u97R68f",
        "colab": {
          "base_uri": "https://localhost:8080/"
        },
        "outputId": "1cc28f1d-3654-4c43-959a-44464058e488"
      },
      "outputs": [
        {
          "output_type": "stream",
          "name": "stdout",
          "text": [
            "217/217 [==============================] - 1s 3ms/step - loss: 2.4945 - accuracy: 0.2089\n",
            "Test results - Loss: 2.494471788406372 - Accuracy: 20.88625878095627%\n"
          ]
        }
      ],
      "source": [
        "if model_selection[model_flag]==\"ALL\" or model_selection[model_flag] == \"LSTM\":\n",
        "  # predicting target attribute on testing dataset\n",
        "  test_results = lst.evaluate(x_test, y_test, verbose=1)\n",
        "  print(f'Test results - Loss: {test_results[0]} - Accuracy: {test_results[1]*100}%')"
      ]
    },
    {
      "cell_type": "code",
      "execution_count": 53,
      "metadata": {
        "id": "f8yKMcIHR_jP",
        "colab": {
          "base_uri": "https://localhost:8080/",
          "height": 472
        },
        "outputId": "5aabc17c-a635-4b2c-eae1-a6f9b1ec59b2"
      },
      "outputs": [
        {
          "output_type": "display_data",
          "data": {
            "text/plain": [
              "<Figure size 640x480 with 1 Axes>"
            ],
            "image/png": "[encoded data removed]"
          },
          "metadata": {}
        }
      ],
      "source": [
        "if model_selection[model_flag]==\"ALL\" or model_selection[model_flag] == \"LSTM\":\n",
        "  # Plot of accuracy vs epoch of train and test dataset\n",
        "  plt.plot(history.history['accuracy'])\n",
        "  plt.plot(history.history['val_accuracy'])\n",
        "  plt.title(\"Plot of accuracy vs epoch for train and test dataset\")\n",
        "  plt.ylabel('accuracy')\n",
        "  plt.xlabel('epoch')\n",
        "  plt.legend(['train', 'test'], loc='best')\n",
        "  plt.savefig('/content/drive/MyDrive/Colab_Notebooks/Plots/lstm_binary_accuracy.png')\n",
        "  plt.show()"
      ]
    },
    {
      "cell_type": "code",
      "execution_count": 54,
      "metadata": {
        "id": "M5g1Rw_SSb5n",
        "colab": {
          "base_uri": "https://localhost:8080/",
          "height": 472
        },
        "outputId": "9b9e3411-135f-4bac-97cb-e07d9dc23a01"
      },
      "outputs": [
        {
          "output_type": "display_data",
          "data": {
            "text/plain": [
              "<Figure size 640x480 with 1 Axes>"
            ],
            "image/png": "[encoded data removed]"
          },
          "metadata": {}
        }
      ],
      "source": [
        "if model_selection[model_flag]==\"ALL\" or model_selection[model_flag] == \"LSTM\":\n",
        "  # Plot of loss vs epoch of train and test dataset\n",
        "  plt.plot(history.history['loss'])\n",
        "  plt.plot(history.history['val_loss'])\n",
        "  plt.title(\"Plot of loss vs epoch for train and test dataset\")\n",
        "  plt.ylabel('loss')\n",
        "  plt.xlabel('epoch')\n",
        "  plt.legend(['train', 'test'], loc='best')\n",
        "  plt.savefig('/content/drive/MyDrive/Colab_Notebooks/Plots/lstm_binary_loss.png')\n",
        "  plt.show()"
      ]
    },
    {
      "cell_type": "code",
      "execution_count": 55,
      "metadata": {
        "id": "osZa2OV9Se-T"
      },
      "outputs": [],
      "source": [
        "if model_selection[model_flag]==\"ALL\" or model_selection[model_flag] == \"LSTM\":\n",
        "  # representation of model layers\n",
        "  plot_model(lst, to_file='/content/drive/MyDrive/Colab_Notebooks/Plots/lstm_binary.png', show_shapes=True,)"
      ]
    },
    {
      "cell_type": "code",
      "execution_count": 56,
      "metadata": {
        "id": "lw4OLD4HSpaY",
        "colab": {
          "base_uri": "https://localhost:8080/"
        },
        "outputId": "abd37a7b-7eb4-42a0-9949-76be0947c2ca"
      },
      "outputs": [
        {
          "output_type": "execute_result",
          "data": {
            "text/plain": [
              "(6928,)"
            ]
          },
          "metadata": {},
          "execution_count": 56
        }
      ],
      "source": [
        "y_test = np.array(y_test)\n",
        "y_test.shape"
      ]
    },
    {
      "cell_type": "code",
      "execution_count": 57,
      "metadata": {
        "id": "4BvYVrKsTGr3",
        "colab": {
          "base_uri": "https://localhost:8080/"
        },
        "outputId": "6d38bff3-3e3f-46cb-b086-84562578c5e3"
      },
      "outputs": [
        {
          "output_type": "execute_result",
          "data": {
            "text/plain": [
              "numpy.ndarray"
            ]
          },
          "metadata": {},
          "execution_count": 57
        }
      ],
      "source": [
        "type(y_test)"
      ]
    },
    {
      "cell_type": "code",
      "execution_count": 58,
      "metadata": {
        "id": "KBvCGl6BS0FM",
        "colab": {
          "base_uri": "https://localhost:8080/"
        },
        "outputId": "53d2d434-ca27-4459-9615-c29abd2c9f36"
      },
      "outputs": [
        {
          "output_type": "stream",
          "name": "stdout",
          "text": [
            "217/217 [==============================] - 1s 2ms/step\n"
          ]
        }
      ],
      "source": [
        "if model_selection[model_flag]==\"ALL\" or model_selection[model_flag] == \"LSTM\":\n",
        "  y_classes = (lst.predict(x_test)>0.5).astype('int32')"
      ]
    },
    {
      "cell_type": "code",
      "execution_count": 59,
      "metadata": {
        "id": "x_yVqBlLTtLW",
        "colab": {
          "base_uri": "https://localhost:8080/"
        },
        "outputId": "cf6bf82b-eb4e-4cb3-fbaf-09b5f82179df"
      },
      "outputs": [
        {
          "output_type": "stream",
          "name": "stdout",
          "text": [
            "Recall Score -  1.0\n",
            "F1 Score -  0.0065252854812398045\n",
            "Precision Score -  0.0032733224222585926\n",
            "False Positive Rate -  [0.79319826]\n",
            "False Negative Rate -  [0.]\n",
            "Thresholds -  [1]\n"
          ]
        }
      ],
      "source": [
        "if model_selection[model_flag]==\"ALL\" or model_selection[model_flag] == \"LSTM\":\n",
        "  print(\"Recall Score - \",recall_score(y_test,y_classes))\n",
        "  print(\"F1 Score - \",f1_score(y_test,y_classes))\n",
        "  print(\"Precision Score - \",precision_score(y_test,y_classes))\n",
        "  fpr, fnr, thresholds = det_curve(y_test, y_classes)\n",
        "  print(\"False Positive Rate - \", fpr)\n",
        "  print(\"False Negative Rate - \", fnr)\n",
        "  print(\"Thresholds - \", thresholds)"
      ]
    },
    {
      "cell_type": "code",
      "source": [
        "print(classification_report(y_test, y_classes, target_names=['0', '1']))\n",
        "cm = confusion_matrix(y_test, y_classes)\n",
        "disp = ConfusionMatrixDisplay(confusion_matrix=cm,\n",
        "                              display_labels=['0', '1'])\n",
        "disp.plot()\n",
        "\n",
        "plt.show()"
      ],
      "metadata": {
        "colab": {
          "base_uri": "https://localhost:8080/",
          "height": 610
        },
        "id": "lHw1E32esovH",
        "outputId": "e538ae8a-5d65-4ddb-94d9-b99d0a22b744"
      },
      "execution_count": 60,
      "outputs": [
        {
          "output_type": "stream",
          "name": "stdout",
          "text": [
            "              precision    recall  f1-score   support\n",
            "\n",
            "           0       1.00      0.21      0.34      6910\n",
            "           1       0.00      1.00      0.01        18\n",
            "\n",
            "    accuracy                           0.21      6928\n",
            "   macro avg       0.50      0.60      0.17      6928\n",
            "weighted avg       1.00      0.21      0.34      6928\n",
            "\n"
          ]
        },
        {
          "output_type": "display_data",
          "data": {
            "text/plain": [
              "<Figure size 640x480 with 2 Axes>"
            ],
            "image/png": "[encoded data removed]"
          },
          "metadata": {}
        }
      ]
    },
    {
      "cell_type": "markdown",
      "metadata": {
        "id": "H_g15uXe82BY"
      },
      "source": [
        "## **Auto Encoder**"
      ]
    },
    {
      "cell_type": "code",
      "execution_count": 61,
      "metadata": {
        "id": "VQ6pDxghmBwB"
      },
      "outputs": [],
      "source": [
        "if model_selection[model_flag]==\"ALL\" or model_selection[model_flag] == \"AE\":\n",
        "  # splitting the dataset 75% for training and 25% testing\n",
        "  X_train, X_test = train_test_split(bin_data, test_size=0.25, random_state=42)"
      ]
    },
    {
      "cell_type": "code",
      "execution_count": 62,
      "metadata": {
        "id": "uogVT92Q_6wh"
      },
      "outputs": [],
      "source": [
        "if model_selection[model_flag]==\"ALL\" or model_selection[model_flag] == \"AE\":\n",
        "  # dataset excluding target attribute (encoded, one-hot-encoded,original)\n",
        "  X_train = X_train.drop(['label'],axis=1) \n",
        "\n",
        "  y_test = X_test['label'] # target attribute\n",
        "\n",
        "  # dataset excluding target attribute (encoded, one-hot-encoded,original)\n",
        "  X_test = X_test.drop(['label'],axis=1)\n",
        "  # calling the normalization() function\n",
        "  X_train = normalization_train(X_train,numeric_cols)\n",
        "  X_test = normalization_test(X_test,numeric_cols)\n",
        "  X_train = X_train.values\n",
        "  X_test = X_test.values\n",
        "  y_test = y_test.values"
      ]
    },
    {
      "cell_type": "code",
      "execution_count": 63,
      "metadata": {
        "id": "s696BM9uKADC"
      },
      "outputs": [],
      "source": [
        "if model_selection[model_flag]==\"ALL\" or model_selection[model_flag] == \"AE\":\n",
        "  input_dim = X_train.shape[1]\n",
        "  encoding_dim = 50\n",
        "\n",
        "  #input layer\n",
        "  input_layer = Input(shape=(input_dim, ))\n",
        "  #encoding layer with 50 neurons\n",
        "  encoder = Dense(encoding_dim, activation=\"relu\")(input_layer)           \n",
        "  #decoding and output layer\n",
        "  output_layer = Dense(input_dim, activation='softmax')(encoder)"
      ]
    },
    {
      "cell_type": "code",
      "execution_count": 64,
      "metadata": {
        "id": "nLn3vHBZLQtj"
      },
      "outputs": [],
      "source": [
        "if model_selection[model_flag]==\"ALL\" or model_selection[model_flag] == \"AE\":\n",
        "  # creating model with input, encoding, decoding, output layers\n",
        "  autoencoder = Model(inputs=input_layer, outputs=output_layer)\n",
        "\n",
        "  # defining loss function, optimizer, metrics and then compiling model\n",
        "  autoencoder.compile(optimizer='adam', loss='mean_squared_error',metrics=['accuracy'])"
      ]
    },
    {
      "cell_type": "code",
      "execution_count": 65,
      "metadata": {
        "id": "X_zk7PMVLVNm",
        "colab": {
          "base_uri": "https://localhost:8080/"
        },
        "outputId": "5445eea5-0eba-4c28-e41c-514d84415d69"
      },
      "outputs": [
        {
          "output_type": "stream",
          "name": "stdout",
          "text": [
            "Model: \"model\"\n",
            "_________________________________________________________________\n",
            " Layer (type)                Output Shape              Param #   \n",
            "=================================================================\n",
            " input_1 (InputLayer)        [(None, 116)]             0         \n",
            "                                                                 \n",
            " dense_3 (Dense)             (None, 50)                5850      \n",
            "                                                                 \n",
            " dense_4 (Dense)             (None, 116)               5916      \n",
            "                                                                 \n",
            "=================================================================\n",
            "Total params: 11,766\n",
            "Trainable params: 11,766\n",
            "Non-trainable params: 0\n",
            "_________________________________________________________________\n"
          ]
        }
      ],
      "source": [
        "if model_selection[model_flag]==\"ALL\" or model_selection[model_flag] == \"AE\":\n",
        "  # summary of model layers\n",
        "  autoencoder.summary()"
      ]
    },
    {
      "cell_type": "code",
      "execution_count": 66,
      "metadata": {
        "id": "We59NbebLdkJ",
        "colab": {
          "base_uri": "https://localhost:8080/"
        },
        "outputId": "0dfee526-bc56-42a3-cd3b-cebc0ddc5054"
      },
      "outputs": [
        {
          "output_type": "stream",
          "name": "stdout",
          "text": [
            "Epoch 1/100\n",
            "42/42 [==============================] - 1s 8ms/step - loss: 0.2971 - accuracy: 0.0840 - val_loss: 321933568638976000.0000 - val_accuracy: 0.0000e+00\n",
            "Epoch 2/100\n",
            "42/42 [==============================] - 0s 4ms/step - loss: 0.2932 - accuracy: 0.1025 - val_loss: 321933568638976000.0000 - val_accuracy: 0.0000e+00\n",
            "Epoch 3/100\n",
            "42/42 [==============================] - 0s 5ms/step - loss: 0.2916 - accuracy: 0.0658 - val_loss: 321933568638976000.0000 - val_accuracy: 0.0000e+00\n",
            "Epoch 4/100\n",
            "42/42 [==============================] - 0s 4ms/step - loss: 0.2912 - accuracy: 0.0639 - val_loss: 321933568638976000.0000 - val_accuracy: 0.0000e+00\n",
            "Epoch 5/100\n",
            "42/42 [==============================] - 0s 4ms/step - loss: 0.2910 - accuracy: 0.1071 - val_loss: 321933568638976000.0000 - val_accuracy: 0.0000e+00\n",
            "Epoch 6/100\n",
            "42/42 [==============================] - 0s 4ms/step - loss: 0.2910 - accuracy: 0.1089 - val_loss: 321933568638976000.0000 - val_accuracy: 0.0000e+00\n",
            "Epoch 7/100\n",
            "42/42 [==============================] - 0s 5ms/step - loss: 0.2909 - accuracy: 0.0974 - val_loss: 321933568638976000.0000 - val_accuracy: 0.0000e+00\n",
            "Epoch 8/100\n",
            "42/42 [==============================] - 0s 5ms/step - loss: 0.2909 - accuracy: 0.1112 - val_loss: 321933568638976000.0000 - val_accuracy: 0.0000e+00\n",
            "Epoch 9/100\n",
            "42/42 [==============================] - 0s 4ms/step - loss: 0.2909 - accuracy: 0.1198 - val_loss: 321933568638976000.0000 - val_accuracy: 0.0000e+00\n",
            "Epoch 10/100\n",
            "42/42 [==============================] - 0s 4ms/step - loss: 0.2909 - accuracy: 0.1315 - val_loss: 321933568638976000.0000 - val_accuracy: 0.0000e+00\n",
            "Epoch 11/100\n",
            "42/42 [==============================] - 0s 5ms/step - loss: 0.2909 - accuracy: 0.1612 - val_loss: 321933568638976000.0000 - val_accuracy: 0.0000e+00\n",
            "Epoch 12/100\n",
            "42/42 [==============================] - 0s 4ms/step - loss: 0.2909 - accuracy: 0.1991 - val_loss: 321933568638976000.0000 - val_accuracy: 0.0000e+00\n",
            "Epoch 13/100\n",
            "42/42 [==============================] - 0s 5ms/step - loss: 0.2909 - accuracy: 0.2168 - val_loss: 321933568638976000.0000 - val_accuracy: 0.0000e+00\n",
            "Epoch 14/100\n",
            "42/42 [==============================] - 0s 5ms/step - loss: 0.2909 - accuracy: 0.2395 - val_loss: 321933568638976000.0000 - val_accuracy: 0.0000e+00\n",
            "Epoch 15/100\n",
            "42/42 [==============================] - 0s 4ms/step - loss: 0.2909 - accuracy: 0.2633 - val_loss: 321933568638976000.0000 - val_accuracy: 0.0000e+00\n",
            "Epoch 16/100\n",
            "42/42 [==============================] - 0s 4ms/step - loss: 0.2909 - accuracy: 0.2819 - val_loss: 321933568638976000.0000 - val_accuracy: 0.0000e+00\n",
            "Epoch 17/100\n",
            "42/42 [==============================] - 0s 4ms/step - loss: 0.2909 - accuracy: 0.2788 - val_loss: 321933568638976000.0000 - val_accuracy: 0.0000e+00\n",
            "Epoch 18/100\n",
            "42/42 [==============================] - 0s 4ms/step - loss: 0.2909 - accuracy: 0.2755 - val_loss: 321933568638976000.0000 - val_accuracy: 0.0000e+00\n",
            "Epoch 19/100\n",
            "42/42 [==============================] - 0s 5ms/step - loss: 0.2909 - accuracy: 0.3167 - val_loss: 321933568638976000.0000 - val_accuracy: 0.0000e+00\n",
            "Epoch 20/100\n",
            "42/42 [==============================] - 0s 4ms/step - loss: 0.2909 - accuracy: 0.3316 - val_loss: 321933568638976000.0000 - val_accuracy: 0.0000e+00\n",
            "Epoch 21/100\n",
            "42/42 [==============================] - 0s 4ms/step - loss: 0.2909 - accuracy: 0.3389 - val_loss: 321933568638976000.0000 - val_accuracy: 0.0000e+00\n",
            "Epoch 22/100\n",
            "42/42 [==============================] - 0s 4ms/step - loss: 0.2909 - accuracy: 0.3463 - val_loss: 321933568638976000.0000 - val_accuracy: 0.0000e+00\n",
            "Epoch 23/100\n",
            "42/42 [==============================] - 0s 6ms/step - loss: 0.2908 - accuracy: 0.3500 - val_loss: 321933568638976000.0000 - val_accuracy: 0.0390\n",
            "Epoch 24/100\n",
            "42/42 [==============================] - 0s 6ms/step - loss: 0.2908 - accuracy: 0.3538 - val_loss: 321933568638976000.0000 - val_accuracy: 0.0482\n",
            "Epoch 25/100\n",
            "42/42 [==============================] - 0s 7ms/step - loss: 0.2908 - accuracy: 0.3570 - val_loss: 321933568638976000.0000 - val_accuracy: 0.0512\n",
            "Epoch 26/100\n",
            "42/42 [==============================] - 0s 6ms/step - loss: 0.2908 - accuracy: 0.3550 - val_loss: 321933568638976000.0000 - val_accuracy: 0.0618\n",
            "Epoch 27/100\n",
            "42/42 [==============================] - 0s 7ms/step - loss: 0.2908 - accuracy: 0.3581 - val_loss: 321933568638976000.0000 - val_accuracy: 0.0742\n",
            "Epoch 28/100\n",
            "42/42 [==============================] - 0s 6ms/step - loss: 0.2908 - accuracy: 0.3571 - val_loss: 321933568638976000.0000 - val_accuracy: 0.0849\n",
            "Epoch 29/100\n",
            "42/42 [==============================] - 0s 7ms/step - loss: 0.2908 - accuracy: 0.3628 - val_loss: 321933568638976000.0000 - val_accuracy: 0.1162\n",
            "Epoch 30/100\n",
            "42/42 [==============================] - 0s 6ms/step - loss: 0.2908 - accuracy: 0.3657 - val_loss: 321933568638976000.0000 - val_accuracy: 0.1507\n",
            "Epoch 31/100\n",
            "42/42 [==============================] - 0s 7ms/step - loss: 0.2908 - accuracy: 0.3653 - val_loss: 321933568638976000.0000 - val_accuracy: 0.2034\n",
            "Epoch 32/100\n",
            "42/42 [==============================] - 0s 6ms/step - loss: 0.2908 - accuracy: 0.3694 - val_loss: 321933568638976000.0000 - val_accuracy: 0.1637\n",
            "Epoch 33/100\n",
            "42/42 [==============================] - 0s 7ms/step - loss: 0.2908 - accuracy: 0.3679 - val_loss: 321933568638976000.0000 - val_accuracy: 0.2034\n",
            "Epoch 34/100\n",
            "42/42 [==============================] - 0s 6ms/step - loss: 0.2908 - accuracy: 0.3721 - val_loss: 321933568638976000.0000 - val_accuracy: 0.2034\n",
            "Epoch 35/100\n",
            "42/42 [==============================] - 0s 5ms/step - loss: 0.2908 - accuracy: 0.3769 - val_loss: 321933568638976000.0000 - val_accuracy: 0.2034\n",
            "Epoch 36/100\n",
            "42/42 [==============================] - 0s 5ms/step - loss: 0.2908 - accuracy: 0.3770 - val_loss: 321933568638976000.0000 - val_accuracy: 0.2034\n",
            "Epoch 37/100\n",
            "42/42 [==============================] - 0s 4ms/step - loss: 0.2908 - accuracy: 0.3815 - val_loss: 321933568638976000.0000 - val_accuracy: 0.1482\n",
            "Epoch 38/100\n",
            "42/42 [==============================] - 0s 5ms/step - loss: 0.2908 - accuracy: 0.3887 - val_loss: 321933568638976000.0000 - val_accuracy: 0.1739\n",
            "Epoch 39/100\n",
            "42/42 [==============================] - 0s 5ms/step - loss: 0.2908 - accuracy: 0.3906 - val_loss: 321933568638976000.0000 - val_accuracy: 0.1865\n",
            "Epoch 40/100\n",
            "42/42 [==============================] - 0s 5ms/step - loss: 0.2908 - accuracy: 0.3871 - val_loss: 321933568638976000.0000 - val_accuracy: 0.1634\n",
            "Epoch 41/100\n",
            "42/42 [==============================] - 0s 5ms/step - loss: 0.2908 - accuracy: 0.3936 - val_loss: 321933568638976000.0000 - val_accuracy: 0.1550\n",
            "Epoch 42/100\n",
            "42/42 [==============================] - 0s 5ms/step - loss: 0.2908 - accuracy: 0.3974 - val_loss: 321933568638976000.0000 - val_accuracy: 0.1531\n",
            "Epoch 43/100\n",
            "42/42 [==============================] - 0s 5ms/step - loss: 0.2908 - accuracy: 0.4014 - val_loss: 321933568638976000.0000 - val_accuracy: 0.1933\n",
            "Epoch 44/100\n",
            "42/42 [==============================] - 0s 4ms/step - loss: 0.2908 - accuracy: 0.4018 - val_loss: 321933568638976000.0000 - val_accuracy: 0.2034\n",
            "Epoch 45/100\n",
            "42/42 [==============================] - 0s 4ms/step - loss: 0.2908 - accuracy: 0.4093 - val_loss: 321933568638976000.0000 - val_accuracy: 0.2034\n",
            "Epoch 46/100\n",
            "42/42 [==============================] - 0s 5ms/step - loss: 0.2908 - accuracy: 0.4074 - val_loss: 321933568638976000.0000 - val_accuracy: 0.2034\n",
            "Epoch 47/100\n",
            "42/42 [==============================] - 0s 4ms/step - loss: 0.2908 - accuracy: 0.4074 - val_loss: 321933568638976000.0000 - val_accuracy: 0.2034\n",
            "Epoch 48/100\n",
            "42/42 [==============================] - 0s 5ms/step - loss: 0.2908 - accuracy: 0.4134 - val_loss: 321933568638976000.0000 - val_accuracy: 0.2034\n",
            "Epoch 49/100\n",
            "42/42 [==============================] - 0s 5ms/step - loss: 0.2908 - accuracy: 0.4176 - val_loss: 321933568638976000.0000 - val_accuracy: 0.2034\n",
            "Epoch 50/100\n",
            "42/42 [==============================] - 0s 4ms/step - loss: 0.2908 - accuracy: 0.4171 - val_loss: 321933568638976000.0000 - val_accuracy: 0.2034\n",
            "Epoch 51/100\n",
            "42/42 [==============================] - 0s 5ms/step - loss: 0.2908 - accuracy: 0.4202 - val_loss: 321933568638976000.0000 - val_accuracy: 0.2034\n",
            "Epoch 52/100\n",
            "42/42 [==============================] - 0s 5ms/step - loss: 0.2908 - accuracy: 0.4233 - val_loss: 321933568638976000.0000 - val_accuracy: 0.2034\n",
            "Epoch 53/100\n",
            "42/42 [==============================] - 0s 4ms/step - loss: 0.2908 - accuracy: 0.4251 - val_loss: 321933568638976000.0000 - val_accuracy: 0.2034\n",
            "Epoch 54/100\n",
            "42/42 [==============================] - 0s 6ms/step - loss: 0.2908 - accuracy: 0.4222 - val_loss: 321933568638976000.0000 - val_accuracy: 0.2034\n",
            "Epoch 55/100\n",
            "42/42 [==============================] - 0s 5ms/step - loss: 0.2908 - accuracy: 0.4294 - val_loss: 321933568638976000.0000 - val_accuracy: 0.2034\n",
            "Epoch 56/100\n",
            "42/42 [==============================] - 0s 4ms/step - loss: 0.2908 - accuracy: 0.4229 - val_loss: 321933568638976000.0000 - val_accuracy: 0.2034\n",
            "Epoch 57/100\n",
            "42/42 [==============================] - 0s 5ms/step - loss: 0.2908 - accuracy: 0.4284 - val_loss: 321933568638976000.0000 - val_accuracy: 0.2034\n",
            "Epoch 58/100\n",
            "42/42 [==============================] - 0s 5ms/step - loss: 0.2908 - accuracy: 0.4271 - val_loss: 321933568638976000.0000 - val_accuracy: 0.2034\n",
            "Epoch 59/100\n",
            "42/42 [==============================] - 0s 5ms/step - loss: 0.2908 - accuracy: 0.4348 - val_loss: 321933568638976000.0000 - val_accuracy: 0.2034\n",
            "Epoch 60/100\n",
            "42/42 [==============================] - 0s 5ms/step - loss: 0.2908 - accuracy: 0.4309 - val_loss: 321933568638976000.0000 - val_accuracy: 0.2034\n",
            "Epoch 61/100\n",
            "42/42 [==============================] - 0s 4ms/step - loss: 0.2908 - accuracy: 0.4337 - val_loss: 321933568638976000.0000 - val_accuracy: 0.2034\n",
            "Epoch 62/100\n",
            "42/42 [==============================] - 0s 4ms/step - loss: 0.2908 - accuracy: 0.4407 - val_loss: 321933568638976000.0000 - val_accuracy: 0.2034\n",
            "Epoch 63/100\n",
            "42/42 [==============================] - 0s 5ms/step - loss: 0.2908 - accuracy: 0.4367 - val_loss: 321933568638976000.0000 - val_accuracy: 0.2034\n",
            "Epoch 64/100\n",
            "42/42 [==============================] - 0s 4ms/step - loss: 0.2908 - accuracy: 0.4364 - val_loss: 321933568638976000.0000 - val_accuracy: 0.2034\n",
            "Epoch 65/100\n",
            "42/42 [==============================] - 0s 5ms/step - loss: 0.2908 - accuracy: 0.4390 - val_loss: 321933568638976000.0000 - val_accuracy: 0.2034\n",
            "Epoch 66/100\n",
            "42/42 [==============================] - 0s 5ms/step - loss: 0.2908 - accuracy: 0.4447 - val_loss: 321933568638976000.0000 - val_accuracy: 0.2034\n",
            "Epoch 67/100\n",
            "42/42 [==============================] - 0s 4ms/step - loss: 0.2908 - accuracy: 0.4415 - val_loss: 321933568638976000.0000 - val_accuracy: 0.2034\n",
            "Epoch 68/100\n",
            "42/42 [==============================] - 0s 5ms/step - loss: 0.2908 - accuracy: 0.4431 - val_loss: 321933568638976000.0000 - val_accuracy: 0.2034\n",
            "Epoch 69/100\n",
            "42/42 [==============================] - 0s 5ms/step - loss: 0.2908 - accuracy: 0.4457 - val_loss: 321933568638976000.0000 - val_accuracy: 0.2034\n",
            "Epoch 70/100\n",
            "42/42 [==============================] - 0s 5ms/step - loss: 0.2908 - accuracy: 0.4472 - val_loss: 321933568638976000.0000 - val_accuracy: 0.2034\n",
            "Epoch 71/100\n",
            "42/42 [==============================] - 0s 5ms/step - loss: 0.2908 - accuracy: 0.4503 - val_loss: 321933568638976000.0000 - val_accuracy: 0.2034\n",
            "Epoch 72/100\n",
            "42/42 [==============================] - 0s 4ms/step - loss: 0.2908 - accuracy: 0.4524 - val_loss: 321933568638976000.0000 - val_accuracy: 0.2034\n",
            "Epoch 73/100\n",
            "42/42 [==============================] - 0s 4ms/step - loss: 0.2908 - accuracy: 0.4465 - val_loss: 321933568638976000.0000 - val_accuracy: 0.2034\n",
            "Epoch 74/100\n",
            "42/42 [==============================] - 0s 4ms/step - loss: 0.2908 - accuracy: 0.4513 - val_loss: 321933568638976000.0000 - val_accuracy: 0.2034\n",
            "Epoch 75/100\n",
            "42/42 [==============================] - 0s 4ms/step - loss: 0.2908 - accuracy: 0.4538 - val_loss: 321933568638976000.0000 - val_accuracy: 0.2034\n",
            "Epoch 76/100\n",
            "42/42 [==============================] - 0s 4ms/step - loss: 0.2908 - accuracy: 0.4483 - val_loss: 321933568638976000.0000 - val_accuracy: 0.2034\n",
            "Epoch 77/100\n",
            "42/42 [==============================] - 0s 5ms/step - loss: 0.2908 - accuracy: 0.4540 - val_loss: 321933568638976000.0000 - val_accuracy: 0.2034\n",
            "Epoch 78/100\n",
            "42/42 [==============================] - 0s 5ms/step - loss: 0.2908 - accuracy: 0.4532 - val_loss: 321933568638976000.0000 - val_accuracy: 0.2034\n",
            "Epoch 79/100\n",
            "42/42 [==============================] - 0s 4ms/step - loss: 0.2908 - accuracy: 0.4490 - val_loss: 321933568638976000.0000 - val_accuracy: 0.2034\n",
            "Epoch 80/100\n",
            "42/42 [==============================] - 0s 5ms/step - loss: 0.2908 - accuracy: 0.4562 - val_loss: 321933568638976000.0000 - val_accuracy: 0.2034\n",
            "Epoch 81/100\n",
            "42/42 [==============================] - 0s 5ms/step - loss: 0.2908 - accuracy: 0.4541 - val_loss: 321933568638976000.0000 - val_accuracy: 0.2034\n",
            "Epoch 82/100\n",
            "42/42 [==============================] - 0s 4ms/step - loss: 0.2908 - accuracy: 0.4586 - val_loss: 321933568638976000.0000 - val_accuracy: 0.2034\n",
            "Epoch 83/100\n",
            "42/42 [==============================] - 0s 5ms/step - loss: 0.2908 - accuracy: 0.4506 - val_loss: 321933568638976000.0000 - val_accuracy: 0.2034\n",
            "Epoch 84/100\n",
            "42/42 [==============================] - 0s 6ms/step - loss: 0.2908 - accuracy: 0.4579 - val_loss: 321933568638976000.0000 - val_accuracy: 0.2034\n",
            "Epoch 85/100\n",
            "42/42 [==============================] - 0s 6ms/step - loss: 0.2908 - accuracy: 0.4611 - val_loss: 321933568638976000.0000 - val_accuracy: 0.2034\n",
            "Epoch 86/100\n",
            "42/42 [==============================] - 0s 6ms/step - loss: 0.2908 - accuracy: 0.4593 - val_loss: 321933568638976000.0000 - val_accuracy: 0.2034\n",
            "Epoch 87/100\n",
            "42/42 [==============================] - 0s 6ms/step - loss: 0.2908 - accuracy: 0.4620 - val_loss: 321933568638976000.0000 - val_accuracy: 0.2034\n",
            "Epoch 88/100\n",
            "42/42 [==============================] - 0s 6ms/step - loss: 0.2908 - accuracy: 0.4611 - val_loss: 321933568638976000.0000 - val_accuracy: 0.2034\n",
            "Epoch 89/100\n",
            "42/42 [==============================] - 0s 6ms/step - loss: 0.2908 - accuracy: 0.4545 - val_loss: 321933568638976000.0000 - val_accuracy: 0.2034\n",
            "Epoch 90/100\n",
            "42/42 [==============================] - 0s 6ms/step - loss: 0.2908 - accuracy: 0.4641 - val_loss: 321933568638976000.0000 - val_accuracy: 0.2034\n",
            "Epoch 91/100\n",
            "42/42 [==============================] - 0s 6ms/step - loss: 0.2908 - accuracy: 0.4602 - val_loss: 321933568638976000.0000 - val_accuracy: 0.2034\n",
            "Epoch 92/100\n",
            "42/42 [==============================] - 0s 6ms/step - loss: 0.2908 - accuracy: 0.4617 - val_loss: 321933568638976000.0000 - val_accuracy: 0.2034\n",
            "Epoch 93/100\n",
            "42/42 [==============================] - 0s 7ms/step - loss: 0.2908 - accuracy: 0.4633 - val_loss: 321933568638976000.0000 - val_accuracy: 0.2034\n",
            "Epoch 94/100\n",
            "42/42 [==============================] - 0s 6ms/step - loss: 0.2908 - accuracy: 0.4600 - val_loss: 321933568638976000.0000 - val_accuracy: 0.2034\n",
            "Epoch 95/100\n",
            "42/42 [==============================] - 0s 7ms/step - loss: 0.2908 - accuracy: 0.4619 - val_loss: 321933568638976000.0000 - val_accuracy: 0.2034\n",
            "Epoch 96/100\n",
            "42/42 [==============================] - 0s 7ms/step - loss: 0.2908 - accuracy: 0.4599 - val_loss: 321933568638976000.0000 - val_accuracy: 0.2034\n",
            "Epoch 97/100\n",
            "42/42 [==============================] - 0s 4ms/step - loss: 0.2908 - accuracy: 0.4608 - val_loss: 321933568638976000.0000 - val_accuracy: 0.2034\n",
            "Epoch 98/100\n",
            "42/42 [==============================] - 0s 4ms/step - loss: 0.2908 - accuracy: 0.4680 - val_loss: 321933568638976000.0000 - val_accuracy: 0.2034\n",
            "Epoch 99/100\n",
            "42/42 [==============================] - 0s 5ms/step - loss: 0.2908 - accuracy: 0.4648 - val_loss: 321933568638976000.0000 - val_accuracy: 0.2034\n",
            "Epoch 100/100\n",
            "42/42 [==============================] - 0s 4ms/step - loss: 0.2908 - accuracy: 0.4644 - val_loss: 321933568638976000.0000 - val_accuracy: 0.2034\n"
          ]
        }
      ],
      "source": [
        "if model_selection[model_flag]==\"ALL\" or model_selection[model_flag] == \"AE\":\n",
        "  # training the model on training dataset\n",
        "  history = autoencoder.fit(X_train, X_train, epochs=100,batch_size=500,validation_data=(X_test, X_test)).history"
      ]
    },
    {
      "cell_type": "code",
      "execution_count": 67,
      "metadata": {
        "id": "AdtR3-9xLliU",
        "colab": {
          "base_uri": "https://localhost:8080/"
        },
        "outputId": "2a71e464-332a-49bd-da22-579f2aab312d"
      },
      "outputs": [
        {
          "output_type": "stream",
          "name": "stdout",
          "text": [
            "Saved model to disk\n",
            "Loaded model from disk\n"
          ]
        }
      ],
      "source": [
        "if model_selection[model_flag]==\"ALL\" or model_selection[model_flag] == \"AE\":\n",
        "  filepath = '/content/drive/MyDrive/Colab_Notebooks/Models/ae_binary'+model_name_suffix+'.json'\n",
        "  weightspath = '/content/drive/MyDrive/Colab_Notebooks/Weights/ae_binary'+model_name_suffix+'.h5'\n",
        "  if (not path.isfile(filepath)): \n",
        "    # serialize model to JSON\n",
        "    autoencoder_json = autoencoder.to_json()\n",
        "    with open(filepath, \"w\") as json_file:\n",
        "      json_file.write(autoencoder_json)\n",
        "\n",
        "    # serialize weights to HDF5\n",
        "    autoencoder.save_weights(weightspath)\n",
        "    print(\"Saved model to disk\")\n",
        "\n",
        "    # load json and create model\n",
        "    json_file = open(filepath, 'r')\n",
        "    loaded_model_json = json_file.read()\n",
        "    json_file.close()\n",
        "    autoencoder = model_from_json(loaded_model_json)\n",
        "\n",
        "    # load weights into new model\n",
        "    autoencoder.load_weights(weightspath)\n",
        "    print(\"Loaded model from disk\")"
      ]
    },
    {
      "cell_type": "code",
      "execution_count": 68,
      "metadata": {
        "id": "Wqr6HVtMLwx9"
      },
      "outputs": [],
      "source": [
        "if model_selection[model_flag]==\"ALL\" or model_selection[model_flag] == \"AE\":\n",
        "  # defining loss function, optimizer, metrics and then compiling model\n",
        "  autoencoder.compile(optimizer='adam', loss='mean_squared_error',metrics=['accuracy'])"
      ]
    },
    {
      "cell_type": "code",
      "execution_count": 69,
      "metadata": {
        "id": "FQrjCk2hL09x",
        "colab": {
          "base_uri": "https://localhost:8080/"
        },
        "outputId": "c64c1191-3ee7-4d46-f577-5f75209f8d3b"
      },
      "outputs": [
        {
          "output_type": "stream",
          "name": "stdout",
          "text": [
            "217/217 [==============================] - 1s 2ms/step - loss: 321933499919499264.0000 - accuracy: 0.2034\n",
            "Test results - Loss: 3.2193349991949926e+17 - Accuracy: 0.2033776044845581%\n"
          ]
        }
      ],
      "source": [
        "if model_selection[model_flag]==\"ALL\" or model_selection[model_flag] == \"AE\":\n",
        "  # predicting target attribute on testing dataset\n",
        "  test_results = autoencoder.evaluate(X_test, X_test, verbose=1)\n",
        "  print(f'Test results - Loss: {test_results[0]} - Accuracy: {test_results[1]}%')"
      ]
    },
    {
      "cell_type": "code",
      "execution_count": 70,
      "metadata": {
        "id": "VqQsjSZcL1-B",
        "colab": {
          "base_uri": "https://localhost:8080/",
          "height": 472
        },
        "outputId": "884508f4-ed6e-484d-bb6a-9aadfa52a29d"
      },
      "outputs": [
        {
          "output_type": "display_data",
          "data": {
            "text/plain": [
              "<Figure size 640x480 with 1 Axes>"
            ],
            "image/png": "[encoded data removed]"
          },
          "metadata": {}
        }
      ],
      "source": [
        "if model_selection[model_flag]==\"ALL\" or model_selection[model_flag] == \"AE\":\n",
        "  # Plot of loss vs epoch of train and test dataset\n",
        "  plt.plot(history['loss'])\n",
        "  plt.plot(history['val_loss'])\n",
        "  plt.title(\"Plot of loss vs epoch for train and test dataset\")\n",
        "  plt.ylabel('loss')\n",
        "  plt.xlabel('epoch')\n",
        "  plt.legend(['train', 'test'], loc='upper right')\n",
        "  plt.savefig('/content/drive/MyDrive/Colab_Notebooks/Plots/ae_binary_loss.png')\n",
        "  plt.show()"
      ]
    },
    {
      "cell_type": "code",
      "execution_count": 71,
      "metadata": {
        "id": "fkjD9QXKL25Z",
        "colab": {
          "base_uri": "https://localhost:8080/",
          "height": 472
        },
        "outputId": "58b4702e-01d1-4969-ea2d-fec220f6a267"
      },
      "outputs": [
        {
          "output_type": "display_data",
          "data": {
            "text/plain": [
              "<Figure size 640x480 with 1 Axes>"
            ],
            "image/png": "[encoded data removed]"
          },
          "metadata": {}
        }
      ],
      "source": [
        "if model_selection[model_flag]==\"ALL\" or model_selection[model_flag] == \"AE\":\n",
        "  # Plot of accuracy vs epoch of train and test dataset\n",
        "  plt.plot(history['accuracy'])\n",
        "  plt.plot(history['val_accuracy'])\n",
        "  plt.title(\"Plot of accuracy vs epoch for train and test dataset\")\n",
        "  plt.ylabel('accuracy')\n",
        "  plt.xlabel('epoch')\n",
        "  plt.legend(['train', 'test'], loc='best')\n",
        "  plt.savefig('/content/drive/MyDrive/Colab_Notebooks/Plots/ae_binary_accuracy.png')\n",
        "  plt.show()"
      ]
    },
    {
      "cell_type": "code",
      "execution_count": 72,
      "metadata": {
        "id": "lf9q83sBMGPD"
      },
      "outputs": [],
      "source": [
        "if model_selection[model_flag]==\"ALL\" or model_selection[model_flag] == \"AE\":\n",
        "  # representation of model layers\n",
        "  plot_model(autoencoder, to_file='/content/drive/MyDrive/Colab_Notebooks/Plots/ae_binary.png', show_shapes=True,)"
      ]
    },
    {
      "cell_type": "code",
      "execution_count": 73,
      "metadata": {
        "id": "SFIXKGwuMLFo",
        "colab": {
          "base_uri": "https://localhost:8080/"
        },
        "outputId": "a5489202-fb59-4f3d-83b5-35169f1dd197"
      },
      "outputs": [
        {
          "output_type": "stream",
          "name": "stdout",
          "text": [
            "217/217 [==============================] - 0s 2ms/step\n"
          ]
        }
      ],
      "source": [
        "if model_selection[model_flag]==\"ALL\" or model_selection[model_flag] == \"AE\":\n",
        "  # calculating reconstruction error \n",
        "  predictions = autoencoder.predict(X_test)"
      ]
    },
    {
      "cell_type": "code",
      "execution_count": 74,
      "metadata": {
        "id": "cqKJCyZnMMEG"
      },
      "outputs": [],
      "source": [
        "if model_selection[model_flag]==\"ALL\" or model_selection[model_flag] == \"AE\":\n",
        "  mse = np.mean(np.power(X_test - predictions, 2), axis=1)\n",
        "  error_df = pd.DataFrame({'reconstruction_error': mse,\n",
        "                           'true_class': y_test})"
      ]
    },
    {
      "cell_type": "code",
      "execution_count": 75,
      "metadata": {
        "id": "EdQJudbDMhmB",
        "colab": {
          "base_uri": "https://localhost:8080/"
        },
        "outputId": "45cb14d4-7082-4f2f-def3-b4959514232b"
      },
      "outputs": [
        {
          "output_type": "stream",
          "name": "stdout",
          "text": [
            "(6928, 116)\n"
          ]
        }
      ],
      "source": [
        "if model_selection[model_flag]==\"ALL\" or model_selection[model_flag] == \"AE\":\n",
        "  error_df.describe()\n",
        "  print(predictions.shape)"
      ]
    },
    {
      "cell_type": "markdown",
      "metadata": {
        "id": "PHsaAAMmNQrs"
      },
      "source": [
        "## **AE Classifier**"
      ]
    },
    {
      "cell_type": "code",
      "execution_count": 76,
      "metadata": {
        "id": "1hK07LDBMoZg"
      },
      "outputs": [],
      "source": [
        "if model_selection[model_flag]==\"ALL\" or model_selection[model_flag] == \"AE\":\n",
        "  i_dim = predictions.shape[1]\n",
        "\n",
        "  #input layer\n",
        "  i_layer = Input(shape=(i_dim, ))\n",
        "  #hidden layer with 50 neurons\n",
        "  fvector = Dense(50, activation=\"sigmoid\")(i_layer)                    \n",
        "  #doutput layer\n",
        "  o_layer = Dense(1, activation='sigmoid')(fvector)"
      ]
    },
    {
      "cell_type": "code",
      "execution_count": 77,
      "metadata": {
        "id": "Efq77rVINXWE"
      },
      "outputs": [],
      "source": [
        "if model_selection[model_flag]==\"ALL\" or model_selection[model_flag] == \"AE\":\n",
        "  # creating model with input, encoding, decoding, output layers\n",
        "  ae_classifier = Model(inputs=i_layer, outputs=o_layer)\n",
        "\n",
        "  # defining loss function, optimizer, metrics and then compiling model\n",
        "  ae_classifier.compile(optimizer='adam', loss='binary_crossentropy',metrics=['accuracy'])"
      ]
    },
    {
      "cell_type": "code",
      "execution_count": 78,
      "metadata": {
        "id": "0Yl594VGNX1W",
        "colab": {
          "base_uri": "https://localhost:8080/"
        },
        "outputId": "697b56df-c50b-4561-9195-6fac74dfc8ad"
      },
      "outputs": [
        {
          "output_type": "stream",
          "name": "stdout",
          "text": [
            "Model: \"model_1\"\n",
            "_________________________________________________________________\n",
            " Layer (type)                Output Shape              Param #   \n",
            "=================================================================\n",
            " input_2 (InputLayer)        [(None, 116)]             0         \n",
            "                                                                 \n",
            " dense_5 (Dense)             (None, 50)                5850      \n",
            "                                                                 \n",
            " dense_6 (Dense)             (None, 1)                 51        \n",
            "                                                                 \n",
            "=================================================================\n",
            "Total params: 5,901\n",
            "Trainable params: 5,901\n",
            "Non-trainable params: 0\n",
            "_________________________________________________________________\n"
          ]
        }
      ],
      "source": [
        "if model_selection[model_flag]==\"ALL\" or model_selection[model_flag] == \"AE\":\n",
        "  # summary of model layers\n",
        "  ae_classifier.summary()"
      ]
    },
    {
      "cell_type": "code",
      "execution_count": 79,
      "metadata": {
        "id": "23n8Qt0uNX8Z",
        "colab": {
          "base_uri": "https://localhost:8080/"
        },
        "outputId": "0e9ccc21-7e1d-4796-b8d8-17b3c9ba6611"
      },
      "outputs": [
        {
          "output_type": "stream",
          "name": "stdout",
          "text": [
            "Epoch 1/300\n",
            "12/12 [==============================] - 2s 28ms/step - loss: 0.5138 - accuracy: 0.9975 - val_loss: 0.4358 - val_accuracy: 0.9971\n",
            "Epoch 2/300\n",
            "12/12 [==============================] - 0s 8ms/step - loss: 0.3880 - accuracy: 0.9975 - val_loss: 0.3296 - val_accuracy: 0.9971\n",
            "Epoch 3/300\n",
            "12/12 [==============================] - 0s 9ms/step - loss: 0.2947 - accuracy: 0.9975 - val_loss: 0.2531 - val_accuracy: 0.9971\n",
            "Epoch 4/300\n",
            "12/12 [==============================] - 0s 9ms/step - loss: 0.2282 - accuracy: 0.9975 - val_loss: 0.1990 - val_accuracy: 0.9971\n",
            "Epoch 5/300\n",
            "12/12 [==============================] - 0s 10ms/step - loss: 0.1812 - accuracy: 0.9975 - val_loss: 0.1608 - val_accuracy: 0.9971\n",
            "Epoch 6/300\n",
            "12/12 [==============================] - 0s 10ms/step - loss: 0.1478 - accuracy: 0.9975 - val_loss: 0.1331 - val_accuracy: 0.9971\n",
            "Epoch 7/300\n",
            "12/12 [==============================] - 0s 7ms/step - loss: 0.1233 - accuracy: 0.9975 - val_loss: 0.1127 - val_accuracy: 0.9971\n",
            "Epoch 8/300\n",
            "12/12 [==============================] - 0s 9ms/step - loss: 0.1050 - accuracy: 0.9975 - val_loss: 0.0973 - val_accuracy: 0.9971\n",
            "Epoch 9/300\n",
            "12/12 [==============================] - 0s 8ms/step - loss: 0.0911 - accuracy: 0.9975 - val_loss: 0.0853 - val_accuracy: 0.9971\n",
            "Epoch 10/300\n",
            "12/12 [==============================] - 0s 9ms/step - loss: 0.0802 - accuracy: 0.9975 - val_loss: 0.0758 - val_accuracy: 0.9971\n",
            "Epoch 11/300\n",
            "12/12 [==============================] - 0s 7ms/step - loss: 0.0715 - accuracy: 0.9975 - val_loss: 0.0682 - val_accuracy: 0.9971\n",
            "Epoch 12/300\n",
            "12/12 [==============================] - 0s 10ms/step - loss: 0.0645 - accuracy: 0.9975 - val_loss: 0.0620 - val_accuracy: 0.9971\n",
            "Epoch 13/300\n",
            "12/12 [==============================] - 0s 9ms/step - loss: 0.0586 - accuracy: 0.9975 - val_loss: 0.0568 - val_accuracy: 0.9971\n",
            "Epoch 14/300\n",
            "12/12 [==============================] - 0s 8ms/step - loss: 0.0538 - accuracy: 0.9975 - val_loss: 0.0524 - val_accuracy: 0.9971\n",
            "Epoch 15/300\n",
            "12/12 [==============================] - 0s 9ms/step - loss: 0.0497 - accuracy: 0.9975 - val_loss: 0.0489 - val_accuracy: 0.9971\n",
            "Epoch 16/300\n",
            "12/12 [==============================] - 0s 9ms/step - loss: 0.0463 - accuracy: 0.9975 - val_loss: 0.0457 - val_accuracy: 0.9971\n",
            "Epoch 17/300\n",
            "12/12 [==============================] - 0s 8ms/step - loss: 0.0433 - accuracy: 0.9975 - val_loss: 0.0430 - val_accuracy: 0.9971\n",
            "Epoch 18/300\n",
            "12/12 [==============================] - 0s 5ms/step - loss: 0.0407 - accuracy: 0.9975 - val_loss: 0.0406 - val_accuracy: 0.9971\n",
            "Epoch 19/300\n",
            "12/12 [==============================] - 0s 7ms/step - loss: 0.0384 - accuracy: 0.9975 - val_loss: 0.0386 - val_accuracy: 0.9971\n",
            "Epoch 20/300\n",
            "12/12 [==============================] - 0s 7ms/step - loss: 0.0365 - accuracy: 0.9975 - val_loss: 0.0368 - val_accuracy: 0.9971\n",
            "Epoch 21/300\n",
            "12/12 [==============================] - 0s 5ms/step - loss: 0.0347 - accuracy: 0.9975 - val_loss: 0.0352 - val_accuracy: 0.9971\n",
            "Epoch 22/300\n",
            "12/12 [==============================] - 0s 7ms/step - loss: 0.0332 - accuracy: 0.9975 - val_loss: 0.0338 - val_accuracy: 0.9971\n",
            "Epoch 23/300\n",
            "12/12 [==============================] - 0s 5ms/step - loss: 0.0318 - accuracy: 0.9975 - val_loss: 0.0325 - val_accuracy: 0.9971\n",
            "Epoch 24/300\n",
            "12/12 [==============================] - 0s 7ms/step - loss: 0.0306 - accuracy: 0.9975 - val_loss: 0.0314 - val_accuracy: 0.9971\n",
            "Epoch 25/300\n",
            "12/12 [==============================] - 0s 6ms/step - loss: 0.0295 - accuracy: 0.9975 - val_loss: 0.0305 - val_accuracy: 0.9971\n",
            "Epoch 26/300\n",
            "12/12 [==============================] - 0s 5ms/step - loss: 0.0286 - accuracy: 0.9975 - val_loss: 0.0295 - val_accuracy: 0.9971\n",
            "Epoch 27/300\n",
            "12/12 [==============================] - 0s 5ms/step - loss: 0.0277 - accuracy: 0.9975 - val_loss: 0.0287 - val_accuracy: 0.9971\n",
            "Epoch 28/300\n",
            "12/12 [==============================] - 0s 7ms/step - loss: 0.0269 - accuracy: 0.9975 - val_loss: 0.0280 - val_accuracy: 0.9971\n",
            "Epoch 29/300\n",
            "12/12 [==============================] - 0s 7ms/step - loss: 0.0262 - accuracy: 0.9975 - val_loss: 0.0274 - val_accuracy: 0.9971\n",
            "Epoch 30/300\n",
            "12/12 [==============================] - 0s 7ms/step - loss: 0.0256 - accuracy: 0.9975 - val_loss: 0.0268 - val_accuracy: 0.9971\n",
            "Epoch 31/300\n",
            "12/12 [==============================] - 0s 5ms/step - loss: 0.0250 - accuracy: 0.9975 - val_loss: 0.0262 - val_accuracy: 0.9971\n",
            "Epoch 32/300\n",
            "12/12 [==============================] - 0s 6ms/step - loss: 0.0244 - accuracy: 0.9975 - val_loss: 0.0257 - val_accuracy: 0.9971\n",
            "Epoch 33/300\n",
            "12/12 [==============================] - 0s 7ms/step - loss: 0.0239 - accuracy: 0.9975 - val_loss: 0.0253 - val_accuracy: 0.9971\n",
            "Epoch 34/300\n",
            "12/12 [==============================] - 0s 6ms/step - loss: 0.0235 - accuracy: 0.9975 - val_loss: 0.0249 - val_accuracy: 0.9971\n",
            "Epoch 35/300\n",
            "12/12 [==============================] - 0s 6ms/step - loss: 0.0230 - accuracy: 0.9975 - val_loss: 0.0245 - val_accuracy: 0.9971\n",
            "Epoch 36/300\n",
            "12/12 [==============================] - 0s 7ms/step - loss: 0.0227 - accuracy: 0.9975 - val_loss: 0.0241 - val_accuracy: 0.9971\n",
            "Epoch 37/300\n",
            "12/12 [==============================] - 0s 8ms/step - loss: 0.0223 - accuracy: 0.9975 - val_loss: 0.0238 - val_accuracy: 0.9971\n",
            "Epoch 38/300\n",
            "12/12 [==============================] - 0s 6ms/step - loss: 0.0220 - accuracy: 0.9975 - val_loss: 0.0235 - val_accuracy: 0.9971\n",
            "Epoch 39/300\n",
            "12/12 [==============================] - 0s 7ms/step - loss: 0.0217 - accuracy: 0.9975 - val_loss: 0.0232 - val_accuracy: 0.9971\n",
            "Epoch 40/300\n",
            "12/12 [==============================] - 0s 7ms/step - loss: 0.0214 - accuracy: 0.9975 - val_loss: 0.0230 - val_accuracy: 0.9971\n",
            "Epoch 41/300\n",
            "12/12 [==============================] - 0s 6ms/step - loss: 0.0211 - accuracy: 0.9975 - val_loss: 0.0228 - val_accuracy: 0.9971\n",
            "Epoch 42/300\n",
            "12/12 [==============================] - 0s 8ms/step - loss: 0.0209 - accuracy: 0.9975 - val_loss: 0.0225 - val_accuracy: 0.9971\n",
            "Epoch 43/300\n",
            "12/12 [==============================] - 0s 7ms/step - loss: 0.0207 - accuracy: 0.9975 - val_loss: 0.0224 - val_accuracy: 0.9971\n",
            "Epoch 44/300\n",
            "12/12 [==============================] - 0s 7ms/step - loss: 0.0205 - accuracy: 0.9975 - val_loss: 0.0222 - val_accuracy: 0.9971\n",
            "Epoch 45/300\n",
            "12/12 [==============================] - 0s 6ms/step - loss: 0.0203 - accuracy: 0.9975 - val_loss: 0.0220 - val_accuracy: 0.9971\n",
            "Epoch 46/300\n",
            "12/12 [==============================] - 0s 7ms/step - loss: 0.0202 - accuracy: 0.9975 - val_loss: 0.0218 - val_accuracy: 0.9971\n",
            "Epoch 47/300\n",
            "12/12 [==============================] - 0s 5ms/step - loss: 0.0200 - accuracy: 0.9975 - val_loss: 0.0217 - val_accuracy: 0.9971\n",
            "Epoch 48/300\n",
            "12/12 [==============================] - 0s 7ms/step - loss: 0.0198 - accuracy: 0.9975 - val_loss: 0.0215 - val_accuracy: 0.9971\n",
            "Epoch 49/300\n",
            "12/12 [==============================] - 0s 6ms/step - loss: 0.0197 - accuracy: 0.9975 - val_loss: 0.0214 - val_accuracy: 0.9971\n",
            "Epoch 50/300\n",
            "12/12 [==============================] - 0s 6ms/step - loss: 0.0195 - accuracy: 0.9975 - val_loss: 0.0213 - val_accuracy: 0.9971\n",
            "Epoch 51/300\n",
            "12/12 [==============================] - 0s 5ms/step - loss: 0.0194 - accuracy: 0.9975 - val_loss: 0.0212 - val_accuracy: 0.9971\n",
            "Epoch 52/300\n",
            "12/12 [==============================] - 0s 6ms/step - loss: 0.0193 - accuracy: 0.9975 - val_loss: 0.0211 - val_accuracy: 0.9971\n",
            "Epoch 53/300\n",
            "12/12 [==============================] - 0s 5ms/step - loss: 0.0191 - accuracy: 0.9975 - val_loss: 0.0210 - val_accuracy: 0.9971\n",
            "Epoch 54/300\n",
            "12/12 [==============================] - 0s 6ms/step - loss: 0.0190 - accuracy: 0.9975 - val_loss: 0.0209 - val_accuracy: 0.9971\n",
            "Epoch 55/300\n",
            "12/12 [==============================] - 0s 7ms/step - loss: 0.0189 - accuracy: 0.9975 - val_loss: 0.0208 - val_accuracy: 0.9971\n",
            "Epoch 56/300\n",
            "12/12 [==============================] - 0s 5ms/step - loss: 0.0188 - accuracy: 0.9975 - val_loss: 0.0207 - val_accuracy: 0.9971\n",
            "Epoch 57/300\n",
            "12/12 [==============================] - 0s 7ms/step - loss: 0.0187 - accuracy: 0.9975 - val_loss: 0.0206 - val_accuracy: 0.9971\n",
            "Epoch 58/300\n",
            "12/12 [==============================] - 0s 6ms/step - loss: 0.0187 - accuracy: 0.9975 - val_loss: 0.0205 - val_accuracy: 0.9971\n",
            "Epoch 59/300\n",
            "12/12 [==============================] - 0s 5ms/step - loss: 0.0186 - accuracy: 0.9975 - val_loss: 0.0205 - val_accuracy: 0.9971\n",
            "Epoch 60/300\n",
            "12/12 [==============================] - 0s 6ms/step - loss: 0.0185 - accuracy: 0.9975 - val_loss: 0.0204 - val_accuracy: 0.9971\n",
            "Epoch 61/300\n",
            "12/12 [==============================] - 0s 7ms/step - loss: 0.0184 - accuracy: 0.9975 - val_loss: 0.0203 - val_accuracy: 0.9971\n",
            "Epoch 62/300\n",
            "12/12 [==============================] - 0s 7ms/step - loss: 0.0184 - accuracy: 0.9975 - val_loss: 0.0203 - val_accuracy: 0.9971\n",
            "Epoch 63/300\n",
            "12/12 [==============================] - 0s 6ms/step - loss: 0.0183 - accuracy: 0.9975 - val_loss: 0.0202 - val_accuracy: 0.9971\n",
            "Epoch 64/300\n",
            "12/12 [==============================] - 0s 5ms/step - loss: 0.0182 - accuracy: 0.9975 - val_loss: 0.0202 - val_accuracy: 0.9971\n",
            "Epoch 65/300\n",
            "12/12 [==============================] - 0s 7ms/step - loss: 0.0182 - accuracy: 0.9975 - val_loss: 0.0201 - val_accuracy: 0.9971\n",
            "Epoch 66/300\n",
            "12/12 [==============================] - 0s 5ms/step - loss: 0.0181 - accuracy: 0.9975 - val_loss: 0.0201 - val_accuracy: 0.9971\n",
            "Epoch 67/300\n",
            "12/12 [==============================] - 0s 7ms/step - loss: 0.0181 - accuracy: 0.9975 - val_loss: 0.0200 - val_accuracy: 0.9971\n",
            "Epoch 68/300\n",
            "12/12 [==============================] - 0s 7ms/step - loss: 0.0180 - accuracy: 0.9975 - val_loss: 0.0200 - val_accuracy: 0.9971\n",
            "Epoch 69/300\n",
            "12/12 [==============================] - 0s 6ms/step - loss: 0.0180 - accuracy: 0.9975 - val_loss: 0.0199 - val_accuracy: 0.9971\n",
            "Epoch 70/300\n",
            "12/12 [==============================] - 0s 8ms/step - loss: 0.0179 - accuracy: 0.9975 - val_loss: 0.0199 - val_accuracy: 0.9971\n",
            "Epoch 71/300\n",
            "12/12 [==============================] - 0s 5ms/step - loss: 0.0179 - accuracy: 0.9975 - val_loss: 0.0199 - val_accuracy: 0.9971\n",
            "Epoch 72/300\n",
            "12/12 [==============================] - 0s 5ms/step - loss: 0.0178 - accuracy: 0.9975 - val_loss: 0.0198 - val_accuracy: 0.9971\n",
            "Epoch 73/300\n",
            "12/12 [==============================] - 0s 7ms/step - loss: 0.0178 - accuracy: 0.9975 - val_loss: 0.0198 - val_accuracy: 0.9971\n",
            "Epoch 74/300\n",
            "12/12 [==============================] - 0s 7ms/step - loss: 0.0178 - accuracy: 0.9975 - val_loss: 0.0198 - val_accuracy: 0.9971\n",
            "Epoch 75/300\n",
            "12/12 [==============================] - 0s 7ms/step - loss: 0.0177 - accuracy: 0.9975 - val_loss: 0.0197 - val_accuracy: 0.9971\n",
            "Epoch 76/300\n",
            "12/12 [==============================] - 0s 5ms/step - loss: 0.0177 - accuracy: 0.9975 - val_loss: 0.0197 - val_accuracy: 0.9971\n",
            "Epoch 77/300\n",
            "12/12 [==============================] - 0s 6ms/step - loss: 0.0177 - accuracy: 0.9975 - val_loss: 0.0197 - val_accuracy: 0.9971\n",
            "Epoch 78/300\n",
            "12/12 [==============================] - 0s 7ms/step - loss: 0.0176 - accuracy: 0.9975 - val_loss: 0.0197 - val_accuracy: 0.9971\n",
            "Epoch 79/300\n",
            "12/12 [==============================] - 0s 5ms/step - loss: 0.0176 - accuracy: 0.9975 - val_loss: 0.0196 - val_accuracy: 0.9971\n",
            "Epoch 80/300\n",
            "12/12 [==============================] - 0s 5ms/step - loss: 0.0176 - accuracy: 0.9975 - val_loss: 0.0196 - val_accuracy: 0.9971\n",
            "Epoch 81/300\n",
            "12/12 [==============================] - 0s 6ms/step - loss: 0.0175 - accuracy: 0.9975 - val_loss: 0.0196 - val_accuracy: 0.9971\n",
            "Epoch 82/300\n",
            "12/12 [==============================] - 0s 5ms/step - loss: 0.0175 - accuracy: 0.9975 - val_loss: 0.0196 - val_accuracy: 0.9971\n",
            "Epoch 83/300\n",
            "12/12 [==============================] - 0s 7ms/step - loss: 0.0175 - accuracy: 0.9975 - val_loss: 0.0196 - val_accuracy: 0.9971\n",
            "Epoch 84/300\n",
            "12/12 [==============================] - 0s 6ms/step - loss: 0.0175 - accuracy: 0.9975 - val_loss: 0.0195 - val_accuracy: 0.9971\n",
            "Epoch 85/300\n",
            "12/12 [==============================] - 0s 7ms/step - loss: 0.0174 - accuracy: 0.9975 - val_loss: 0.0195 - val_accuracy: 0.9971\n",
            "Epoch 86/300\n",
            "12/12 [==============================] - 0s 7ms/step - loss: 0.0174 - accuracy: 0.9975 - val_loss: 0.0195 - val_accuracy: 0.9971\n",
            "Epoch 87/300\n",
            "12/12 [==============================] - 0s 7ms/step - loss: 0.0174 - accuracy: 0.9975 - val_loss: 0.0195 - val_accuracy: 0.9971\n",
            "Epoch 88/300\n",
            "12/12 [==============================] - 0s 7ms/step - loss: 0.0174 - accuracy: 0.9975 - val_loss: 0.0195 - val_accuracy: 0.9971\n",
            "Epoch 89/300\n",
            "12/12 [==============================] - 0s 6ms/step - loss: 0.0173 - accuracy: 0.9975 - val_loss: 0.0194 - val_accuracy: 0.9971\n",
            "Epoch 90/300\n",
            "12/12 [==============================] - 0s 5ms/step - loss: 0.0173 - accuracy: 0.9975 - val_loss: 0.0194 - val_accuracy: 0.9971\n",
            "Epoch 91/300\n",
            "12/12 [==============================] - 0s 6ms/step - loss: 0.0173 - accuracy: 0.9975 - val_loss: 0.0194 - val_accuracy: 0.9971\n",
            "Epoch 92/300\n",
            "12/12 [==============================] - 0s 7ms/step - loss: 0.0173 - accuracy: 0.9975 - val_loss: 0.0194 - val_accuracy: 0.9971\n",
            "Epoch 93/300\n",
            "12/12 [==============================] - 0s 7ms/step - loss: 0.0173 - accuracy: 0.9975 - val_loss: 0.0194 - val_accuracy: 0.9971\n",
            "Epoch 94/300\n",
            "12/12 [==============================] - 0s 5ms/step - loss: 0.0172 - accuracy: 0.9975 - val_loss: 0.0194 - val_accuracy: 0.9971\n",
            "Epoch 95/300\n",
            "12/12 [==============================] - 0s 6ms/step - loss: 0.0172 - accuracy: 0.9975 - val_loss: 0.0194 - val_accuracy: 0.9971\n",
            "Epoch 96/300\n",
            "12/12 [==============================] - 0s 7ms/step - loss: 0.0172 - accuracy: 0.9975 - val_loss: 0.0193 - val_accuracy: 0.9971\n",
            "Epoch 97/300\n",
            "12/12 [==============================] - 0s 6ms/step - loss: 0.0172 - accuracy: 0.9975 - val_loss: 0.0193 - val_accuracy: 0.9971\n",
            "Epoch 98/300\n",
            "12/12 [==============================] - 0s 7ms/step - loss: 0.0172 - accuracy: 0.9975 - val_loss: 0.0193 - val_accuracy: 0.9971\n",
            "Epoch 99/300\n",
            "12/12 [==============================] - 0s 7ms/step - loss: 0.0172 - accuracy: 0.9975 - val_loss: 0.0193 - val_accuracy: 0.9971\n",
            "Epoch 100/300\n",
            "12/12 [==============================] - 0s 6ms/step - loss: 0.0171 - accuracy: 0.9975 - val_loss: 0.0193 - val_accuracy: 0.9971\n",
            "Epoch 101/300\n",
            "12/12 [==============================] - 0s 7ms/step - loss: 0.0171 - accuracy: 0.9975 - val_loss: 0.0193 - val_accuracy: 0.9971\n",
            "Epoch 102/300\n",
            "12/12 [==============================] - 0s 7ms/step - loss: 0.0171 - accuracy: 0.9975 - val_loss: 0.0193 - val_accuracy: 0.9971\n",
            "Epoch 103/300\n",
            "12/12 [==============================] - 0s 6ms/step - loss: 0.0171 - accuracy: 0.9975 - val_loss: 0.0193 - val_accuracy: 0.9971\n",
            "Epoch 104/300\n",
            "12/12 [==============================] - 0s 7ms/step - loss: 0.0171 - accuracy: 0.9975 - val_loss: 0.0192 - val_accuracy: 0.9971\n",
            "Epoch 105/300\n",
            "12/12 [==============================] - 0s 7ms/step - loss: 0.0171 - accuracy: 0.9975 - val_loss: 0.0192 - val_accuracy: 0.9971\n",
            "Epoch 106/300\n",
            "12/12 [==============================] - 0s 6ms/step - loss: 0.0171 - accuracy: 0.9975 - val_loss: 0.0192 - val_accuracy: 0.9971\n",
            "Epoch 107/300\n",
            "12/12 [==============================] - 0s 8ms/step - loss: 0.0170 - accuracy: 0.9975 - val_loss: 0.0192 - val_accuracy: 0.9971\n",
            "Epoch 108/300\n",
            "12/12 [==============================] - 0s 7ms/step - loss: 0.0170 - accuracy: 0.9975 - val_loss: 0.0192 - val_accuracy: 0.9971\n",
            "Epoch 109/300\n",
            "12/12 [==============================] - 0s 6ms/step - loss: 0.0170 - accuracy: 0.9975 - val_loss: 0.0192 - val_accuracy: 0.9971\n",
            "Epoch 110/300\n",
            "12/12 [==============================] - 0s 7ms/step - loss: 0.0170 - accuracy: 0.9975 - val_loss: 0.0192 - val_accuracy: 0.9971\n",
            "Epoch 111/300\n",
            "12/12 [==============================] - 0s 5ms/step - loss: 0.0170 - accuracy: 0.9975 - val_loss: 0.0192 - val_accuracy: 0.9971\n",
            "Epoch 112/300\n",
            "12/12 [==============================] - 0s 5ms/step - loss: 0.0170 - accuracy: 0.9975 - val_loss: 0.0192 - val_accuracy: 0.9971\n",
            "Epoch 113/300\n",
            "12/12 [==============================] - 0s 6ms/step - loss: 0.0170 - accuracy: 0.9975 - val_loss: 0.0191 - val_accuracy: 0.9971\n",
            "Epoch 114/300\n",
            "12/12 [==============================] - 0s 7ms/step - loss: 0.0169 - accuracy: 0.9975 - val_loss: 0.0191 - val_accuracy: 0.9971\n",
            "Epoch 115/300\n",
            "12/12 [==============================] - 0s 5ms/step - loss: 0.0169 - accuracy: 0.9975 - val_loss: 0.0191 - val_accuracy: 0.9971\n",
            "Epoch 116/300\n",
            "12/12 [==============================] - 0s 7ms/step - loss: 0.0169 - accuracy: 0.9975 - val_loss: 0.0191 - val_accuracy: 0.9971\n",
            "Epoch 117/300\n",
            "12/12 [==============================] - 0s 7ms/step - loss: 0.0169 - accuracy: 0.9975 - val_loss: 0.0191 - val_accuracy: 0.9971\n",
            "Epoch 118/300\n",
            "12/12 [==============================] - 0s 6ms/step - loss: 0.0169 - accuracy: 0.9975 - val_loss: 0.0191 - val_accuracy: 0.9971\n",
            "Epoch 119/300\n",
            "12/12 [==============================] - 0s 5ms/step - loss: 0.0169 - accuracy: 0.9975 - val_loss: 0.0191 - val_accuracy: 0.9971\n",
            "Epoch 120/300\n",
            "12/12 [==============================] - 0s 7ms/step - loss: 0.0169 - accuracy: 0.9975 - val_loss: 0.0191 - val_accuracy: 0.9971\n",
            "Epoch 121/300\n",
            "12/12 [==============================] - 0s 6ms/step - loss: 0.0168 - accuracy: 0.9975 - val_loss: 0.0191 - val_accuracy: 0.9971\n",
            "Epoch 122/300\n",
            "12/12 [==============================] - 0s 6ms/step - loss: 0.0168 - accuracy: 0.9975 - val_loss: 0.0190 - val_accuracy: 0.9971\n",
            "Epoch 123/300\n",
            "12/12 [==============================] - 0s 5ms/step - loss: 0.0168 - accuracy: 0.9975 - val_loss: 0.0190 - val_accuracy: 0.9971\n",
            "Epoch 124/300\n",
            "12/12 [==============================] - 0s 6ms/step - loss: 0.0168 - accuracy: 0.9975 - val_loss: 0.0190 - val_accuracy: 0.9971\n",
            "Epoch 125/300\n",
            "12/12 [==============================] - 0s 7ms/step - loss: 0.0168 - accuracy: 0.9975 - val_loss: 0.0190 - val_accuracy: 0.9971\n",
            "Epoch 126/300\n",
            "12/12 [==============================] - 0s 6ms/step - loss: 0.0168 - accuracy: 0.9975 - val_loss: 0.0190 - val_accuracy: 0.9971\n",
            "Epoch 127/300\n",
            "12/12 [==============================] - 0s 7ms/step - loss: 0.0168 - accuracy: 0.9975 - val_loss: 0.0190 - val_accuracy: 0.9971\n",
            "Epoch 128/300\n",
            "12/12 [==============================] - 0s 7ms/step - loss: 0.0168 - accuracy: 0.9975 - val_loss: 0.0190 - val_accuracy: 0.9971\n",
            "Epoch 129/300\n",
            "12/12 [==============================] - 0s 7ms/step - loss: 0.0167 - accuracy: 0.9975 - val_loss: 0.0190 - val_accuracy: 0.9971\n",
            "Epoch 130/300\n",
            "12/12 [==============================] - 0s 6ms/step - loss: 0.0167 - accuracy: 0.9975 - val_loss: 0.0190 - val_accuracy: 0.9971\n",
            "Epoch 131/300\n",
            "12/12 [==============================] - 0s 6ms/step - loss: 0.0167 - accuracy: 0.9975 - val_loss: 0.0190 - val_accuracy: 0.9971\n",
            "Epoch 132/300\n",
            "12/12 [==============================] - 0s 7ms/step - loss: 0.0167 - accuracy: 0.9975 - val_loss: 0.0189 - val_accuracy: 0.9971\n",
            "Epoch 133/300\n",
            "12/12 [==============================] - 0s 6ms/step - loss: 0.0167 - accuracy: 0.9975 - val_loss: 0.0189 - val_accuracy: 0.9971\n",
            "Epoch 134/300\n",
            "12/12 [==============================] - 0s 6ms/step - loss: 0.0167 - accuracy: 0.9975 - val_loss: 0.0189 - val_accuracy: 0.9971\n",
            "Epoch 135/300\n",
            "12/12 [==============================] - 0s 6ms/step - loss: 0.0167 - accuracy: 0.9975 - val_loss: 0.0189 - val_accuracy: 0.9971\n",
            "Epoch 136/300\n",
            "12/12 [==============================] - 0s 7ms/step - loss: 0.0166 - accuracy: 0.9975 - val_loss: 0.0189 - val_accuracy: 0.9971\n",
            "Epoch 137/300\n",
            "12/12 [==============================] - 0s 6ms/step - loss: 0.0166 - accuracy: 0.9975 - val_loss: 0.0189 - val_accuracy: 0.9971\n",
            "Epoch 138/300\n",
            "12/12 [==============================] - 0s 7ms/step - loss: 0.0166 - accuracy: 0.9975 - val_loss: 0.0189 - val_accuracy: 0.9971\n",
            "Epoch 139/300\n",
            "12/12 [==============================] - 0s 7ms/step - loss: 0.0166 - accuracy: 0.9975 - val_loss: 0.0188 - val_accuracy: 0.9971\n",
            "Epoch 140/300\n",
            "12/12 [==============================] - 0s 8ms/step - loss: 0.0166 - accuracy: 0.9975 - val_loss: 0.0188 - val_accuracy: 0.9971\n",
            "Epoch 141/300\n",
            "12/12 [==============================] - 0s 9ms/step - loss: 0.0166 - accuracy: 0.9975 - val_loss: 0.0188 - val_accuracy: 0.9971\n",
            "Epoch 142/300\n",
            "12/12 [==============================] - 0s 9ms/step - loss: 0.0166 - accuracy: 0.9975 - val_loss: 0.0188 - val_accuracy: 0.9971\n",
            "Epoch 143/300\n",
            "12/12 [==============================] - 0s 9ms/step - loss: 0.0166 - accuracy: 0.9975 - val_loss: 0.0188 - val_accuracy: 0.9971\n",
            "Epoch 144/300\n",
            "12/12 [==============================] - 0s 9ms/step - loss: 0.0165 - accuracy: 0.9975 - val_loss: 0.0188 - val_accuracy: 0.9971\n",
            "Epoch 145/300\n",
            "12/12 [==============================] - 0s 8ms/step - loss: 0.0165 - accuracy: 0.9975 - val_loss: 0.0188 - val_accuracy: 0.9971\n",
            "Epoch 146/300\n",
            "12/12 [==============================] - 0s 9ms/step - loss: 0.0165 - accuracy: 0.9975 - val_loss: 0.0188 - val_accuracy: 0.9971\n",
            "Epoch 147/300\n",
            "12/12 [==============================] - 0s 8ms/step - loss: 0.0165 - accuracy: 0.9975 - val_loss: 0.0188 - val_accuracy: 0.9971\n",
            "Epoch 148/300\n",
            "12/12 [==============================] - 0s 9ms/step - loss: 0.0165 - accuracy: 0.9975 - val_loss: 0.0188 - val_accuracy: 0.9971\n",
            "Epoch 149/300\n",
            "12/12 [==============================] - 0s 9ms/step - loss: 0.0165 - accuracy: 0.9975 - val_loss: 0.0187 - val_accuracy: 0.9971\n",
            "Epoch 150/300\n",
            "12/12 [==============================] - 0s 9ms/step - loss: 0.0165 - accuracy: 0.9975 - val_loss: 0.0187 - val_accuracy: 0.9971\n",
            "Epoch 151/300\n",
            "12/12 [==============================] - 0s 8ms/step - loss: 0.0165 - accuracy: 0.9975 - val_loss: 0.0187 - val_accuracy: 0.9971\n",
            "Epoch 152/300\n",
            "12/12 [==============================] - 0s 9ms/step - loss: 0.0164 - accuracy: 0.9975 - val_loss: 0.0187 - val_accuracy: 0.9971\n",
            "Epoch 153/300\n",
            "12/12 [==============================] - 0s 9ms/step - loss: 0.0164 - accuracy: 0.9975 - val_loss: 0.0187 - val_accuracy: 0.9971\n",
            "Epoch 154/300\n",
            "12/12 [==============================] - 0s 8ms/step - loss: 0.0164 - accuracy: 0.9975 - val_loss: 0.0187 - val_accuracy: 0.9971\n",
            "Epoch 155/300\n",
            "12/12 [==============================] - 0s 10ms/step - loss: 0.0164 - accuracy: 0.9975 - val_loss: 0.0187 - val_accuracy: 0.9971\n",
            "Epoch 156/300\n",
            "12/12 [==============================] - 0s 9ms/step - loss: 0.0164 - accuracy: 0.9975 - val_loss: 0.0187 - val_accuracy: 0.9971\n",
            "Epoch 157/300\n",
            "12/12 [==============================] - 0s 9ms/step - loss: 0.0164 - accuracy: 0.9975 - val_loss: 0.0187 - val_accuracy: 0.9971\n",
            "Epoch 158/300\n",
            "12/12 [==============================] - 0s 8ms/step - loss: 0.0164 - accuracy: 0.9975 - val_loss: 0.0186 - val_accuracy: 0.9971\n",
            "Epoch 159/300\n",
            "12/12 [==============================] - 0s 9ms/step - loss: 0.0163 - accuracy: 0.9975 - val_loss: 0.0186 - val_accuracy: 0.9971\n",
            "Epoch 160/300\n",
            "12/12 [==============================] - 0s 9ms/step - loss: 0.0163 - accuracy: 0.9975 - val_loss: 0.0186 - val_accuracy: 0.9971\n",
            "Epoch 161/300\n",
            "12/12 [==============================] - 0s 11ms/step - loss: 0.0163 - accuracy: 0.9975 - val_loss: 0.0186 - val_accuracy: 0.9971\n",
            "Epoch 162/300\n",
            "12/12 [==============================] - 0s 9ms/step - loss: 0.0163 - accuracy: 0.9975 - val_loss: 0.0186 - val_accuracy: 0.9971\n",
            "Epoch 163/300\n",
            "12/12 [==============================] - 0s 10ms/step - loss: 0.0163 - accuracy: 0.9975 - val_loss: 0.0186 - val_accuracy: 0.9971\n",
            "Epoch 164/300\n",
            "12/12 [==============================] - 0s 10ms/step - loss: 0.0163 - accuracy: 0.9975 - val_loss: 0.0186 - val_accuracy: 0.9971\n",
            "Epoch 165/300\n",
            "12/12 [==============================] - 0s 11ms/step - loss: 0.0163 - accuracy: 0.9975 - val_loss: 0.0186 - val_accuracy: 0.9971\n",
            "Epoch 166/300\n",
            "12/12 [==============================] - 0s 10ms/step - loss: 0.0163 - accuracy: 0.9975 - val_loss: 0.0186 - val_accuracy: 0.9971\n",
            "Epoch 167/300\n",
            "12/12 [==============================] - 0s 9ms/step - loss: 0.0162 - accuracy: 0.9975 - val_loss: 0.0185 - val_accuracy: 0.9971\n",
            "Epoch 168/300\n",
            "12/12 [==============================] - 0s 10ms/step - loss: 0.0162 - accuracy: 0.9975 - val_loss: 0.0185 - val_accuracy: 0.9971\n",
            "Epoch 169/300\n",
            "12/12 [==============================] - 0s 10ms/step - loss: 0.0162 - accuracy: 0.9975 - val_loss: 0.0185 - val_accuracy: 0.9971\n",
            "Epoch 170/300\n",
            "12/12 [==============================] - 0s 10ms/step - loss: 0.0162 - accuracy: 0.9975 - val_loss: 0.0185 - val_accuracy: 0.9971\n",
            "Epoch 171/300\n",
            "12/12 [==============================] - 0s 9ms/step - loss: 0.0162 - accuracy: 0.9975 - val_loss: 0.0185 - val_accuracy: 0.9971\n",
            "Epoch 172/300\n",
            "12/12 [==============================] - 0s 10ms/step - loss: 0.0162 - accuracy: 0.9975 - val_loss: 0.0185 - val_accuracy: 0.9971\n",
            "Epoch 173/300\n",
            "12/12 [==============================] - 0s 10ms/step - loss: 0.0162 - accuracy: 0.9975 - val_loss: 0.0185 - val_accuracy: 0.9971\n",
            "Epoch 174/300\n",
            "12/12 [==============================] - 0s 10ms/step - loss: 0.0162 - accuracy: 0.9975 - val_loss: 0.0185 - val_accuracy: 0.9971\n",
            "Epoch 175/300\n",
            "12/12 [==============================] - 0s 7ms/step - loss: 0.0162 - accuracy: 0.9975 - val_loss: 0.0185 - val_accuracy: 0.9971\n",
            "Epoch 176/300\n",
            "12/12 [==============================] - 0s 6ms/step - loss: 0.0161 - accuracy: 0.9975 - val_loss: 0.0184 - val_accuracy: 0.9971\n",
            "Epoch 177/300\n",
            "12/12 [==============================] - 0s 7ms/step - loss: 0.0161 - accuracy: 0.9975 - val_loss: 0.0184 - val_accuracy: 0.9971\n",
            "Epoch 178/300\n",
            "12/12 [==============================] - 0s 7ms/step - loss: 0.0161 - accuracy: 0.9975 - val_loss: 0.0184 - val_accuracy: 0.9971\n",
            "Epoch 179/300\n",
            "12/12 [==============================] - 0s 6ms/step - loss: 0.0161 - accuracy: 0.9975 - val_loss: 0.0184 - val_accuracy: 0.9971\n",
            "Epoch 180/300\n",
            "12/12 [==============================] - 0s 5ms/step - loss: 0.0161 - accuracy: 0.9975 - val_loss: 0.0184 - val_accuracy: 0.9971\n",
            "Epoch 181/300\n",
            "12/12 [==============================] - 0s 5ms/step - loss: 0.0161 - accuracy: 0.9975 - val_loss: 0.0184 - val_accuracy: 0.9971\n",
            "Epoch 182/300\n",
            "12/12 [==============================] - 0s 6ms/step - loss: 0.0161 - accuracy: 0.9975 - val_loss: 0.0184 - val_accuracy: 0.9971\n",
            "Epoch 183/300\n",
            "12/12 [==============================] - 0s 7ms/step - loss: 0.0160 - accuracy: 0.9975 - val_loss: 0.0184 - val_accuracy: 0.9971\n",
            "Epoch 184/300\n",
            "12/12 [==============================] - 0s 7ms/step - loss: 0.0160 - accuracy: 0.9975 - val_loss: 0.0183 - val_accuracy: 0.9971\n",
            "Epoch 185/300\n",
            "12/12 [==============================] - 0s 7ms/step - loss: 0.0160 - accuracy: 0.9975 - val_loss: 0.0183 - val_accuracy: 0.9971\n",
            "Epoch 186/300\n",
            "12/12 [==============================] - 0s 7ms/step - loss: 0.0160 - accuracy: 0.9975 - val_loss: 0.0183 - val_accuracy: 0.9971\n",
            "Epoch 187/300\n",
            "12/12 [==============================] - 0s 7ms/step - loss: 0.0160 - accuracy: 0.9975 - val_loss: 0.0183 - val_accuracy: 0.9971\n",
            "Epoch 188/300\n",
            "12/12 [==============================] - 0s 7ms/step - loss: 0.0160 - accuracy: 0.9975 - val_loss: 0.0183 - val_accuracy: 0.9971\n",
            "Epoch 189/300\n",
            "12/12 [==============================] - 0s 6ms/step - loss: 0.0160 - accuracy: 0.9975 - val_loss: 0.0183 - val_accuracy: 0.9971\n",
            "Epoch 190/300\n",
            "12/12 [==============================] - 0s 6ms/step - loss: 0.0160 - accuracy: 0.9975 - val_loss: 0.0183 - val_accuracy: 0.9971\n",
            "Epoch 191/300\n",
            "12/12 [==============================] - 0s 6ms/step - loss: 0.0159 - accuracy: 0.9975 - val_loss: 0.0183 - val_accuracy: 0.9971\n",
            "Epoch 192/300\n",
            "12/12 [==============================] - 0s 6ms/step - loss: 0.0159 - accuracy: 0.9975 - val_loss: 0.0182 - val_accuracy: 0.9971\n",
            "Epoch 193/300\n",
            "12/12 [==============================] - 0s 5ms/step - loss: 0.0159 - accuracy: 0.9975 - val_loss: 0.0182 - val_accuracy: 0.9971\n",
            "Epoch 194/300\n",
            "12/12 [==============================] - 0s 7ms/step - loss: 0.0159 - accuracy: 0.9975 - val_loss: 0.0182 - val_accuracy: 0.9971\n",
            "Epoch 195/300\n",
            "12/12 [==============================] - 0s 6ms/step - loss: 0.0159 - accuracy: 0.9975 - val_loss: 0.0182 - val_accuracy: 0.9971\n",
            "Epoch 196/300\n",
            "12/12 [==============================] - 0s 7ms/step - loss: 0.0159 - accuracy: 0.9975 - val_loss: 0.0182 - val_accuracy: 0.9971\n",
            "Epoch 197/300\n",
            "12/12 [==============================] - 0s 7ms/step - loss: 0.0159 - accuracy: 0.9975 - val_loss: 0.0182 - val_accuracy: 0.9971\n",
            "Epoch 198/300\n",
            "12/12 [==============================] - 0s 8ms/step - loss: 0.0159 - accuracy: 0.9975 - val_loss: 0.0182 - val_accuracy: 0.9971\n",
            "Epoch 199/300\n",
            "12/12 [==============================] - 0s 6ms/step - loss: 0.0158 - accuracy: 0.9975 - val_loss: 0.0181 - val_accuracy: 0.9971\n",
            "Epoch 200/300\n",
            "12/12 [==============================] - 0s 7ms/step - loss: 0.0158 - accuracy: 0.9975 - val_loss: 0.0181 - val_accuracy: 0.9971\n",
            "Epoch 201/300\n",
            "12/12 [==============================] - 0s 6ms/step - loss: 0.0158 - accuracy: 0.9975 - val_loss: 0.0181 - val_accuracy: 0.9971\n",
            "Epoch 202/300\n",
            "12/12 [==============================] - 0s 5ms/step - loss: 0.0158 - accuracy: 0.9975 - val_loss: 0.0181 - val_accuracy: 0.9971\n",
            "Epoch 203/300\n",
            "12/12 [==============================] - 0s 6ms/step - loss: 0.0158 - accuracy: 0.9975 - val_loss: 0.0181 - val_accuracy: 0.9971\n",
            "Epoch 204/300\n",
            "12/12 [==============================] - 0s 6ms/step - loss: 0.0158 - accuracy: 0.9975 - val_loss: 0.0181 - val_accuracy: 0.9971\n",
            "Epoch 205/300\n",
            "12/12 [==============================] - 0s 7ms/step - loss: 0.0158 - accuracy: 0.9975 - val_loss: 0.0181 - val_accuracy: 0.9971\n",
            "Epoch 206/300\n",
            "12/12 [==============================] - 0s 6ms/step - loss: 0.0158 - accuracy: 0.9975 - val_loss: 0.0181 - val_accuracy: 0.9971\n",
            "Epoch 207/300\n",
            "12/12 [==============================] - 0s 7ms/step - loss: 0.0157 - accuracy: 0.9975 - val_loss: 0.0181 - val_accuracy: 0.9971\n",
            "Epoch 208/300\n",
            "12/12 [==============================] - 0s 7ms/step - loss: 0.0157 - accuracy: 0.9975 - val_loss: 0.0181 - val_accuracy: 0.9971\n",
            "Epoch 209/300\n",
            "12/12 [==============================] - 0s 6ms/step - loss: 0.0157 - accuracy: 0.9975 - val_loss: 0.0181 - val_accuracy: 0.9971\n",
            "Epoch 210/300\n",
            "12/12 [==============================] - 0s 8ms/step - loss: 0.0157 - accuracy: 0.9975 - val_loss: 0.0181 - val_accuracy: 0.9971\n",
            "Epoch 211/300\n",
            "12/12 [==============================] - 0s 5ms/step - loss: 0.0157 - accuracy: 0.9975 - val_loss: 0.0180 - val_accuracy: 0.9971\n",
            "Epoch 212/300\n",
            "12/12 [==============================] - 0s 7ms/step - loss: 0.0157 - accuracy: 0.9975 - val_loss: 0.0180 - val_accuracy: 0.9971\n",
            "Epoch 213/300\n",
            "12/12 [==============================] - 0s 5ms/step - loss: 0.0157 - accuracy: 0.9975 - val_loss: 0.0180 - val_accuracy: 0.9971\n",
            "Epoch 214/300\n",
            "12/12 [==============================] - 0s 6ms/step - loss: 0.0157 - accuracy: 0.9975 - val_loss: 0.0180 - val_accuracy: 0.9971\n",
            "Epoch 215/300\n",
            "12/12 [==============================] - 0s 6ms/step - loss: 0.0156 - accuracy: 0.9975 - val_loss: 0.0180 - val_accuracy: 0.9971\n",
            "Epoch 216/300\n",
            "12/12 [==============================] - 0s 7ms/step - loss: 0.0156 - accuracy: 0.9975 - val_loss: 0.0180 - val_accuracy: 0.9971\n",
            "Epoch 217/300\n",
            "12/12 [==============================] - 0s 5ms/step - loss: 0.0156 - accuracy: 0.9975 - val_loss: 0.0180 - val_accuracy: 0.9971\n",
            "Epoch 218/300\n",
            "12/12 [==============================] - 0s 7ms/step - loss: 0.0156 - accuracy: 0.9975 - val_loss: 0.0180 - val_accuracy: 0.9971\n",
            "Epoch 219/300\n",
            "12/12 [==============================] - 0s 7ms/step - loss: 0.0156 - accuracy: 0.9975 - val_loss: 0.0180 - val_accuracy: 0.9971\n",
            "Epoch 220/300\n",
            "12/12 [==============================] - 0s 7ms/step - loss: 0.0156 - accuracy: 0.9975 - val_loss: 0.0179 - val_accuracy: 0.9971\n",
            "Epoch 221/300\n",
            "12/12 [==============================] - 0s 7ms/step - loss: 0.0156 - accuracy: 0.9975 - val_loss: 0.0179 - val_accuracy: 0.9971\n",
            "Epoch 222/300\n",
            "12/12 [==============================] - 0s 6ms/step - loss: 0.0156 - accuracy: 0.9975 - val_loss: 0.0179 - val_accuracy: 0.9971\n",
            "Epoch 223/300\n",
            "12/12 [==============================] - 0s 6ms/step - loss: 0.0155 - accuracy: 0.9975 - val_loss: 0.0179 - val_accuracy: 0.9971\n",
            "Epoch 224/300\n",
            "12/12 [==============================] - 0s 6ms/step - loss: 0.0155 - accuracy: 0.9975 - val_loss: 0.0179 - val_accuracy: 0.9971\n",
            "Epoch 225/300\n",
            "12/12 [==============================] - 0s 6ms/step - loss: 0.0155 - accuracy: 0.9975 - val_loss: 0.0179 - val_accuracy: 0.9971\n",
            "Epoch 226/300\n",
            "12/12 [==============================] - 0s 8ms/step - loss: 0.0155 - accuracy: 0.9975 - val_loss: 0.0178 - val_accuracy: 0.9971\n",
            "Epoch 227/300\n",
            "12/12 [==============================] - 0s 5ms/step - loss: 0.0155 - accuracy: 0.9975 - val_loss: 0.0178 - val_accuracy: 0.9971\n",
            "Epoch 228/300\n",
            "12/12 [==============================] - 0s 6ms/step - loss: 0.0155 - accuracy: 0.9975 - val_loss: 0.0178 - val_accuracy: 0.9971\n",
            "Epoch 229/300\n",
            "12/12 [==============================] - 0s 7ms/step - loss: 0.0155 - accuracy: 0.9975 - val_loss: 0.0178 - val_accuracy: 0.9971\n",
            "Epoch 230/300\n",
            "12/12 [==============================] - 0s 6ms/step - loss: 0.0154 - accuracy: 0.9975 - val_loss: 0.0178 - val_accuracy: 0.9971\n",
            "Epoch 231/300\n",
            "12/12 [==============================] - 0s 6ms/step - loss: 0.0154 - accuracy: 0.9975 - val_loss: 0.0178 - val_accuracy: 0.9971\n",
            "Epoch 232/300\n",
            "12/12 [==============================] - 0s 7ms/step - loss: 0.0154 - accuracy: 0.9975 - val_loss: 0.0178 - val_accuracy: 0.9971\n",
            "Epoch 233/300\n",
            "12/12 [==============================] - 0s 7ms/step - loss: 0.0154 - accuracy: 0.9975 - val_loss: 0.0178 - val_accuracy: 0.9971\n",
            "Epoch 234/300\n",
            "12/12 [==============================] - 0s 6ms/step - loss: 0.0154 - accuracy: 0.9975 - val_loss: 0.0178 - val_accuracy: 0.9971\n",
            "Epoch 235/300\n",
            "12/12 [==============================] - 0s 6ms/step - loss: 0.0154 - accuracy: 0.9975 - val_loss: 0.0178 - val_accuracy: 0.9971\n",
            "Epoch 236/300\n",
            "12/12 [==============================] - 0s 6ms/step - loss: 0.0154 - accuracy: 0.9975 - val_loss: 0.0177 - val_accuracy: 0.9971\n",
            "Epoch 237/300\n",
            "12/12 [==============================] - 0s 7ms/step - loss: 0.0154 - accuracy: 0.9975 - val_loss: 0.0177 - val_accuracy: 0.9971\n",
            "Epoch 238/300\n",
            "12/12 [==============================] - 0s 8ms/step - loss: 0.0153 - accuracy: 0.9975 - val_loss: 0.0177 - val_accuracy: 0.9971\n",
            "Epoch 239/300\n",
            "12/12 [==============================] - 0s 7ms/step - loss: 0.0153 - accuracy: 0.9975 - val_loss: 0.0177 - val_accuracy: 0.9971\n",
            "Epoch 240/300\n",
            "12/12 [==============================] - 0s 6ms/step - loss: 0.0153 - accuracy: 0.9975 - val_loss: 0.0177 - val_accuracy: 0.9971\n",
            "Epoch 241/300\n",
            "12/12 [==============================] - 0s 6ms/step - loss: 0.0153 - accuracy: 0.9975 - val_loss: 0.0177 - val_accuracy: 0.9971\n",
            "Epoch 242/300\n",
            "12/12 [==============================] - 0s 6ms/step - loss: 0.0153 - accuracy: 0.9975 - val_loss: 0.0177 - val_accuracy: 0.9971\n",
            "Epoch 243/300\n",
            "12/12 [==============================] - 0s 6ms/step - loss: 0.0153 - accuracy: 0.9975 - val_loss: 0.0177 - val_accuracy: 0.9971\n",
            "Epoch 244/300\n",
            "12/12 [==============================] - 0s 6ms/step - loss: 0.0153 - accuracy: 0.9975 - val_loss: 0.0176 - val_accuracy: 0.9971\n",
            "Epoch 245/300\n",
            "12/12 [==============================] - 0s 7ms/step - loss: 0.0153 - accuracy: 0.9975 - val_loss: 0.0176 - val_accuracy: 0.9971\n",
            "Epoch 246/300\n",
            "12/12 [==============================] - 0s 6ms/step - loss: 0.0152 - accuracy: 0.9975 - val_loss: 0.0176 - val_accuracy: 0.9971\n",
            "Epoch 247/300\n",
            "12/12 [==============================] - 0s 7ms/step - loss: 0.0152 - accuracy: 0.9975 - val_loss: 0.0176 - val_accuracy: 0.9971\n",
            "Epoch 248/300\n",
            "12/12 [==============================] - 0s 5ms/step - loss: 0.0152 - accuracy: 0.9975 - val_loss: 0.0176 - val_accuracy: 0.9971\n",
            "Epoch 249/300\n",
            "12/12 [==============================] - 0s 6ms/step - loss: 0.0152 - accuracy: 0.9975 - val_loss: 0.0176 - val_accuracy: 0.9971\n",
            "Epoch 250/300\n",
            "12/12 [==============================] - 0s 7ms/step - loss: 0.0152 - accuracy: 0.9975 - val_loss: 0.0176 - val_accuracy: 0.9971\n",
            "Epoch 251/300\n",
            "12/12 [==============================] - 0s 6ms/step - loss: 0.0152 - accuracy: 0.9975 - val_loss: 0.0176 - val_accuracy: 0.9971\n",
            "Epoch 252/300\n",
            "12/12 [==============================] - 0s 7ms/step - loss: 0.0152 - accuracy: 0.9975 - val_loss: 0.0175 - val_accuracy: 0.9971\n",
            "Epoch 253/300\n",
            "12/12 [==============================] - 0s 6ms/step - loss: 0.0151 - accuracy: 0.9975 - val_loss: 0.0175 - val_accuracy: 0.9971\n",
            "Epoch 254/300\n",
            "12/12 [==============================] - 0s 6ms/step - loss: 0.0151 - accuracy: 0.9975 - val_loss: 0.0175 - val_accuracy: 0.9971\n",
            "Epoch 255/300\n",
            "12/12 [==============================] - 0s 6ms/step - loss: 0.0151 - accuracy: 0.9975 - val_loss: 0.0175 - val_accuracy: 0.9971\n",
            "Epoch 256/300\n",
            "12/12 [==============================] - 0s 7ms/step - loss: 0.0151 - accuracy: 0.9975 - val_loss: 0.0175 - val_accuracy: 0.9971\n",
            "Epoch 257/300\n",
            "12/12 [==============================] - 0s 6ms/step - loss: 0.0151 - accuracy: 0.9975 - val_loss: 0.0175 - val_accuracy: 0.9971\n",
            "Epoch 258/300\n",
            "12/12 [==============================] - 0s 7ms/step - loss: 0.0151 - accuracy: 0.9975 - val_loss: 0.0175 - val_accuracy: 0.9971\n",
            "Epoch 259/300\n",
            "12/12 [==============================] - 0s 6ms/step - loss: 0.0151 - accuracy: 0.9975 - val_loss: 0.0175 - val_accuracy: 0.9971\n",
            "Epoch 260/300\n",
            "12/12 [==============================] - 0s 7ms/step - loss: 0.0151 - accuracy: 0.9975 - val_loss: 0.0175 - val_accuracy: 0.9971\n",
            "Epoch 261/300\n",
            "12/12 [==============================] - 0s 7ms/step - loss: 0.0151 - accuracy: 0.9975 - val_loss: 0.0175 - val_accuracy: 0.9971\n",
            "Epoch 262/300\n",
            "12/12 [==============================] - 0s 6ms/step - loss: 0.0150 - accuracy: 0.9975 - val_loss: 0.0175 - val_accuracy: 0.9971\n",
            "Epoch 263/300\n",
            "12/12 [==============================] - 0s 7ms/step - loss: 0.0150 - accuracy: 0.9975 - val_loss: 0.0175 - val_accuracy: 0.9971\n",
            "Epoch 264/300\n",
            "12/12 [==============================] - 0s 6ms/step - loss: 0.0150 - accuracy: 0.9975 - val_loss: 0.0175 - val_accuracy: 0.9971\n",
            "Epoch 265/300\n",
            "12/12 [==============================] - 0s 6ms/step - loss: 0.0150 - accuracy: 0.9975 - val_loss: 0.0174 - val_accuracy: 0.9971\n",
            "Epoch 266/300\n",
            "12/12 [==============================] - 0s 7ms/step - loss: 0.0150 - accuracy: 0.9975 - val_loss: 0.0174 - val_accuracy: 0.9971\n",
            "Epoch 267/300\n",
            "12/12 [==============================] - 0s 7ms/step - loss: 0.0150 - accuracy: 0.9975 - val_loss: 0.0174 - val_accuracy: 0.9971\n",
            "Epoch 268/300\n",
            "12/12 [==============================] - 0s 7ms/step - loss: 0.0150 - accuracy: 0.9975 - val_loss: 0.0174 - val_accuracy: 0.9971\n",
            "Epoch 269/300\n",
            "12/12 [==============================] - 0s 7ms/step - loss: 0.0150 - accuracy: 0.9975 - val_loss: 0.0174 - val_accuracy: 0.9971\n",
            "Epoch 270/300\n",
            "12/12 [==============================] - 0s 6ms/step - loss: 0.0150 - accuracy: 0.9975 - val_loss: 0.0174 - val_accuracy: 0.9971\n",
            "Epoch 271/300\n",
            "12/12 [==============================] - 0s 6ms/step - loss: 0.0149 - accuracy: 0.9975 - val_loss: 0.0174 - val_accuracy: 0.9971\n",
            "Epoch 272/300\n",
            "12/12 [==============================] - 0s 6ms/step - loss: 0.0149 - accuracy: 0.9975 - val_loss: 0.0174 - val_accuracy: 0.9971\n",
            "Epoch 273/300\n",
            "12/12 [==============================] - 0s 6ms/step - loss: 0.0149 - accuracy: 0.9975 - val_loss: 0.0174 - val_accuracy: 0.9971\n",
            "Epoch 274/300\n",
            "12/12 [==============================] - 0s 7ms/step - loss: 0.0149 - accuracy: 0.9975 - val_loss: 0.0173 - val_accuracy: 0.9971\n",
            "Epoch 275/300\n",
            "12/12 [==============================] - 0s 6ms/step - loss: 0.0149 - accuracy: 0.9975 - val_loss: 0.0173 - val_accuracy: 0.9971\n",
            "Epoch 276/300\n",
            "12/12 [==============================] - 0s 6ms/step - loss: 0.0149 - accuracy: 0.9975 - val_loss: 0.0173 - val_accuracy: 0.9971\n",
            "Epoch 277/300\n",
            "12/12 [==============================] - 0s 8ms/step - loss: 0.0149 - accuracy: 0.9975 - val_loss: 0.0173 - val_accuracy: 0.9971\n",
            "Epoch 278/300\n",
            "12/12 [==============================] - 0s 6ms/step - loss: 0.0149 - accuracy: 0.9975 - val_loss: 0.0173 - val_accuracy: 0.9971\n",
            "Epoch 279/300\n",
            "12/12 [==============================] - 0s 7ms/step - loss: 0.0148 - accuracy: 0.9975 - val_loss: 0.0173 - val_accuracy: 0.9971\n",
            "Epoch 280/300\n",
            "12/12 [==============================] - 0s 7ms/step - loss: 0.0148 - accuracy: 0.9975 - val_loss: 0.0173 - val_accuracy: 0.9971\n",
            "Epoch 281/300\n",
            "12/12 [==============================] - 0s 7ms/step - loss: 0.0148 - accuracy: 0.9975 - val_loss: 0.0172 - val_accuracy: 0.9971\n",
            "Epoch 282/300\n",
            "12/12 [==============================] - 0s 6ms/step - loss: 0.0148 - accuracy: 0.9975 - val_loss: 0.0172 - val_accuracy: 0.9971\n",
            "Epoch 283/300\n",
            "12/12 [==============================] - 0s 6ms/step - loss: 0.0148 - accuracy: 0.9975 - val_loss: 0.0172 - val_accuracy: 0.9971\n",
            "Epoch 284/300\n",
            "12/12 [==============================] - 0s 7ms/step - loss: 0.0148 - accuracy: 0.9975 - val_loss: 0.0172 - val_accuracy: 0.9971\n",
            "Epoch 285/300\n",
            "12/12 [==============================] - 0s 7ms/step - loss: 0.0148 - accuracy: 0.9975 - val_loss: 0.0172 - val_accuracy: 0.9971\n",
            "Epoch 286/300\n",
            "12/12 [==============================] - 0s 6ms/step - loss: 0.0147 - accuracy: 0.9975 - val_loss: 0.0172 - val_accuracy: 0.9971\n",
            "Epoch 287/300\n",
            "12/12 [==============================] - 0s 6ms/step - loss: 0.0147 - accuracy: 0.9975 - val_loss: 0.0172 - val_accuracy: 0.9971\n",
            "Epoch 288/300\n",
            "12/12 [==============================] - 0s 7ms/step - loss: 0.0147 - accuracy: 0.9975 - val_loss: 0.0172 - val_accuracy: 0.9971\n",
            "Epoch 289/300\n",
            "12/12 [==============================] - 0s 6ms/step - loss: 0.0147 - accuracy: 0.9975 - val_loss: 0.0172 - val_accuracy: 0.9971\n",
            "Epoch 290/300\n",
            "12/12 [==============================] - 0s 7ms/step - loss: 0.0147 - accuracy: 0.9975 - val_loss: 0.0172 - val_accuracy: 0.9971\n",
            "Epoch 291/300\n",
            "12/12 [==============================] - 0s 7ms/step - loss: 0.0147 - accuracy: 0.9975 - val_loss: 0.0171 - val_accuracy: 0.9971\n",
            "Epoch 292/300\n",
            "12/12 [==============================] - 0s 7ms/step - loss: 0.0147 - accuracy: 0.9975 - val_loss: 0.0171 - val_accuracy: 0.9971\n",
            "Epoch 293/300\n",
            "12/12 [==============================] - 0s 7ms/step - loss: 0.0147 - accuracy: 0.9975 - val_loss: 0.0171 - val_accuracy: 0.9971\n",
            "Epoch 294/300\n",
            "12/12 [==============================] - 0s 9ms/step - loss: 0.0146 - accuracy: 0.9975 - val_loss: 0.0171 - val_accuracy: 0.9971\n",
            "Epoch 295/300\n",
            "12/12 [==============================] - 0s 10ms/step - loss: 0.0146 - accuracy: 0.9975 - val_loss: 0.0171 - val_accuracy: 0.9971\n",
            "Epoch 296/300\n",
            "12/12 [==============================] - 0s 9ms/step - loss: 0.0146 - accuracy: 0.9975 - val_loss: 0.0171 - val_accuracy: 0.9971\n",
            "Epoch 297/300\n",
            "12/12 [==============================] - 0s 10ms/step - loss: 0.0146 - accuracy: 0.9975 - val_loss: 0.0171 - val_accuracy: 0.9971\n",
            "Epoch 298/300\n",
            "12/12 [==============================] - 0s 8ms/step - loss: 0.0146 - accuracy: 0.9975 - val_loss: 0.0170 - val_accuracy: 0.9971\n",
            "Epoch 299/300\n",
            "12/12 [==============================] - 0s 9ms/step - loss: 0.0146 - accuracy: 0.9975 - val_loss: 0.0170 - val_accuracy: 0.9971\n",
            "Epoch 300/300\n",
            "12/12 [==============================] - 0s 8ms/step - loss: 0.0146 - accuracy: 0.9975 - val_loss: 0.0170 - val_accuracy: 0.9971\n"
          ]
        }
      ],
      "source": [
        "if model_selection[model_flag]==\"ALL\" or model_selection[model_flag] == \"AE\":\n",
        "  # training the model on training dataset\n",
        "  his = ae_classifier.fit(predictions, y_test, epochs=300,batch_size=500, validation_split=0.2).history"
      ]
    },
    {
      "cell_type": "code",
      "execution_count": 80,
      "metadata": {
        "id": "yeNS7pLUNYBz",
        "colab": {
          "base_uri": "https://localhost:8080/"
        },
        "outputId": "b75682ba-77c2-4fdc-fb28-3c561df0d23d"
      },
      "outputs": [
        {
          "output_type": "stream",
          "name": "stdout",
          "text": [
            "Saved model to disk\n",
            "Loaded model from disk\n"
          ]
        }
      ],
      "source": [
        "if model_selection[model_flag]==\"ALL\" or model_selection[model_flag] == \"AE\":\n",
        "  filepath = '/content/drive/MyDrive/Colab_Notebooks/Models/ae_classifier_binary'+model_name_suffix+'.json'\n",
        "  weightspath = '/content/drive/MyDrive/Colab_Notebooks/Weights/ae_classifier_binary'+model_name_suffix+'.h5'\n",
        "  if (not path.isfile(filepath)): \n",
        "    # serialize model to JSON\n",
        "    ae_classifier_json = ae_classifier.to_json()\n",
        "    with open(filepath, \"w\") as json_file:\n",
        "      json_file.write(ae_classifier_json)\n",
        "\n",
        "    # serialize weights to HDF5\n",
        "    ae_classifier.save_weights(weightspath)\n",
        "    print(\"Saved model to disk\")\n",
        "\n",
        "    # load json and create model\n",
        "    json_file = open(filepath, 'r')\n",
        "    loaded_model_json = json_file.read()\n",
        "    json_file.close()\n",
        "    ae_classifier = model_from_json(loaded_model_json)\n",
        "\n",
        "    # load weights into new model\n",
        "    ae_classifier.load_weights(weightspath)\n",
        "    print(\"Loaded model from disk\")"
      ]
    },
    {
      "cell_type": "code",
      "execution_count": 81,
      "metadata": {
        "id": "AG42bV79NYFB"
      },
      "outputs": [],
      "source": [
        "if model_selection[model_flag]==\"ALL\" or model_selection[model_flag] == \"AE\":\n",
        "  ae_classifier.compile(optimizer='adam', loss='binary_crossentropy',metrics=['accuracy'])"
      ]
    },
    {
      "cell_type": "code",
      "execution_count": 82,
      "metadata": {
        "id": "13aKBGJcNYHv",
        "colab": {
          "base_uri": "https://localhost:8080/"
        },
        "outputId": "68429a77-bd08-49ec-8f62-b10e47969397"
      },
      "outputs": [
        {
          "output_type": "stream",
          "name": "stdout",
          "text": [
            "217/217 [==============================] - 1s 2ms/step - loss: 0.8594 - accuracy: 0.3014\n",
            "Test results - Loss: 0.859362006187439 - Accuracy: 30.138567090034485%\n"
          ]
        }
      ],
      "source": [
        "if model_selection[model_flag]==\"ALL\" or model_selection[model_flag] == \"AE\":\n",
        "  # predicting target attribute on testing dataset\n",
        "  test_results = ae_classifier.evaluate(X_test, y_test, verbose=1)\n",
        "  print(f'Test results - Loss: {test_results[0]} - Accuracy: {test_results[1]*100}%')"
      ]
    },
    {
      "cell_type": "code",
      "execution_count": 83,
      "metadata": {
        "id": "zCWbOaSyN1dH"
      },
      "outputs": [],
      "source": [
        "if model_selection[model_flag]==\"ALL\" or model_selection[model_flag] == \"AE\":\n",
        "  # representation of model layers\n",
        "  plot_model(ae_classifier, to_file='/content/drive/MyDrive/Colab_Notebooks/Plots/ae_classifier_binary.png', show_shapes=True)"
      ]
    },
    {
      "cell_type": "code",
      "execution_count": 84,
      "metadata": {
        "id": "44VaFGgVOBpU",
        "colab": {
          "base_uri": "https://localhost:8080/",
          "height": 472
        },
        "outputId": "80391e70-ba2f-4059-bc32-e5c17e529609"
      },
      "outputs": [
        {
          "output_type": "display_data",
          "data": {
            "text/plain": [
              "<Figure size 640x480 with 1 Axes>"
            ],
            "image/png": "[encoded data removed]"
          },
          "metadata": {}
        }
      ],
      "source": [
        "if model_selection[model_flag]==\"ALL\" or model_selection[model_flag] == \"AE\":\n",
        "  # Plot of loss vs epoch of train and test dataset\n",
        "  plt.plot(his['loss'])\n",
        "  plt.plot(his['val_loss'])\n",
        "  plt.title(\"Plot of loss vs epoch for train and test dataset\")\n",
        "  plt.ylabel('loss')\n",
        "  plt.xlabel('epoch')\n",
        "  plt.legend(['train', 'test'], loc='upper right')\n",
        "  plt.savefig('/content/drive/MyDrive/Colab_Notebooks/Plots/ae_classifier_binary_loss.png')\n",
        "  plt.show()"
      ]
    },
    {
      "cell_type": "code",
      "execution_count": 85,
      "metadata": {
        "id": "Am0UB82rOIo1",
        "colab": {
          "base_uri": "https://localhost:8080/",
          "height": 472
        },
        "outputId": "e276c828-5009-4f43-89fb-e598c7081730"
      },
      "outputs": [
        {
          "output_type": "display_data",
          "data": {
            "text/plain": [
              "<Figure size 640x480 with 1 Axes>"
            ],
            "image/png": "[encoded data removed]"
          },
          "metadata": {}
        }
      ],
      "source": [
        "if model_selection[model_flag]==\"ALL\" or model_selection[model_flag] == \"AE\":\n",
        "  # Plot of accuracy vs epoch of train and test dataset\n",
        "  plt.plot(his['accuracy'])\n",
        "  plt.plot(his['val_accuracy'])\n",
        "  plt.title(\"Plot of accuracy vs epoch for train and test dataset\")\n",
        "  plt.ylabel('accuracy')\n",
        "  plt.xlabel('epoch')\n",
        "  plt.legend(['train', 'test'], loc='best')\n",
        "  plt.savefig('/content/drive/MyDrive/Colab_Notebooks/Plots/ae_classifier_binary_accuracy.png')\n",
        "  plt.show()"
      ]
    },
    {
      "cell_type": "code",
      "execution_count": 86,
      "metadata": {
        "id": "f5OZTlm0OMoW",
        "colab": {
          "base_uri": "https://localhost:8080/"
        },
        "outputId": "5cdc39b4-26c2-4c09-d927-7b6343a92400"
      },
      "outputs": [
        {
          "output_type": "stream",
          "name": "stdout",
          "text": [
            "217/217 [==============================] - 0s 1ms/step\n"
          ]
        }
      ],
      "source": [
        "if model_selection[model_flag]==\"ALL\" or model_selection[model_flag] == \"AE\":\n",
        "  y_pred = ae_classifier.predict(X_test).ravel()\n",
        "  fpr, tpr, thresholds = roc_curve(y_test, y_pred)\n",
        "  #auc = auc(fpr, tpr)"
      ]
    },
    {
      "cell_type": "code",
      "execution_count": 87,
      "metadata": {
        "id": "GbSkwfO2OTkn",
        "colab": {
          "base_uri": "https://localhost:8080/",
          "height": 510
        },
        "outputId": "58271929-ed2b-460c-d9ac-bc466bb29cac"
      },
      "outputs": [
        {
          "output_type": "stream",
          "name": "stderr",
          "text": [
            "WARNING:matplotlib.legend:No artists with labels found to put in legend.  Note that artists whose label start with an underscore are ignored when legend() is called with no argument.\n"
          ]
        },
        {
          "output_type": "display_data",
          "data": {
            "text/plain": [
              "<Figure size 640x480 with 1 Axes>"
            ],
            "image/png": "[encoded data removed]"
          },
          "metadata": {}
        }
      ],
      "source": [
        "if model_selection[model_flag]==\"ALL\" or model_selection[model_flag] == \"AE\":\n",
        "  plt.plot([0, 1], [0, 1], 'k--')\n",
        "  #plt.plot(fpr, tpr, label='Keras (area = {:.3f})'.format(auc))\n",
        "  plt.plot(fpr, tpr)\n",
        "  plt.xlabel('False positive rate')\n",
        "  plt.ylabel('True positive rate')\n",
        "  plt.title('ROC curve')\n",
        "  plt.legend(loc='best')\n",
        "  plt.savefig('/content/drive/MyDrive/Colab_Notebooks/Plots/ae_binary_roc.png')\n",
        "  plt.show()"
      ]
    },
    {
      "cell_type": "code",
      "execution_count": 88,
      "metadata": {
        "id": "n7Xl74UXOZxm",
        "colab": {
          "base_uri": "https://localhost:8080/"
        },
        "outputId": "324415b7-e7bd-473c-9172-7b778e08d679"
      },
      "outputs": [
        {
          "output_type": "stream",
          "name": "stdout",
          "text": [
            "217/217 [==============================] - 0s 1ms/step\n",
            "217/217 [==============================] - 0s 1ms/step\n"
          ]
        }
      ],
      "source": [
        "if model_selection[model_flag]==\"ALL\" or model_selection[model_flag] == \"AE\":\n",
        "  pred = ae_classifier.predict(X_test)\n",
        "  y_classes = (ae_classifier.predict(X_test)>0.5).astype('int32')"
      ]
    },
    {
      "cell_type": "code",
      "execution_count": 89,
      "metadata": {
        "id": "WA_g3UlXOZ71",
        "colab": {
          "base_uri": "https://localhost:8080/"
        },
        "outputId": "9cf66ad8-ef9d-45fb-c73e-635721dfe56e"
      },
      "outputs": [
        {
          "output_type": "stream",
          "name": "stdout",
          "text": [
            "Recall Score -  0.2222222222222222\n",
            "F1 Score -  0.0016501650165016504\n",
            "Precision Score -  0.0008281573498964803\n",
            "False Positive Rate -  [1.        0.6984081]\n",
            "False Negative Rate -  [0.         0.77777778]\n",
            "Thresholds -  [0 1]\n"
          ]
        }
      ],
      "source": [
        "if model_selection[model_flag]==\"ALL\" or model_selection[model_flag] == \"AE\":\n",
        "  print(\"Recall Score - \",recall_score(y_test,y_classes))\n",
        "  print(\"F1 Score - \",f1_score(y_test,y_classes))\n",
        "  print(\"Precision Score - \",precision_score(y_test,y_classes))\n",
        "  fpr, fnr, thresholds = det_curve(y_test, y_classes)\n",
        "  print(\"False Positive Rate - \", fpr)\n",
        "  print(\"False Negative Rate - \", fnr)\n",
        "  print(\"Thresholds - \", thresholds)"
      ]
    },
    {
      "cell_type": "code",
      "source": [
        "print(classification_report(y_test, y_classes, target_names=['0', '1']))\n",
        "cm = confusion_matrix(y_test, y_classes)\n",
        "disp = ConfusionMatrixDisplay(confusion_matrix=cm,\n",
        "                              display_labels=['0', '1'])\n",
        "disp.plot()\n",
        "\n",
        "plt.show()"
      ],
      "metadata": {
        "colab": {
          "base_uri": "https://localhost:8080/",
          "height": 610
        },
        "id": "UgHHdx0qoryj",
        "outputId": "531bc399-4821-49cb-b7d1-9132e1438151"
      },
      "execution_count": 90,
      "outputs": [
        {
          "output_type": "stream",
          "name": "stdout",
          "text": [
            "              precision    recall  f1-score   support\n",
            "\n",
            "           0       0.99      0.30      0.46      6910\n",
            "           1       0.00      0.22      0.00        18\n",
            "\n",
            "    accuracy                           0.30      6928\n",
            "   macro avg       0.50      0.26      0.23      6928\n",
            "weighted avg       0.99      0.30      0.46      6928\n",
            "\n"
          ]
        },
        {
          "output_type": "display_data",
          "data": {
            "text/plain": [
              "<Figure size 640x480 with 2 Axes>"
            ],
            "image/png": "[encoded data removed]"
          },
          "metadata": {}
        }
      ]
    }
  ],
  "metadata": {
    "colab": {
      "provenance": [],
      "include_colab_link": true
    },
    "gpuClass": "standard",
    "kernelspec": {
      "display_name": "Python 3",
      "name": "python3"
    },
    "language_info": {
      "name": "python"
    },
    "accelerator": "GPU"
  },
  "nbformat": 4,
  "nbformat_minor": 0
}