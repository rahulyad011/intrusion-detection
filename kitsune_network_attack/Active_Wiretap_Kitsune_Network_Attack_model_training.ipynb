{
  "cells": [
    {
      "cell_type": "markdown",
      "metadata": {
        "id": "view-in-github",
        "colab_type": "text"
      },
      "source": [
        "<a href=\"https://colab.research.google.com/github/rahulyad011/intrusion-detection/blob/main/Active_Wiretap_Kitsune_Network_Attack_model_training.ipynb\" target=\"_parent\"><img src=\"https://colab.research.google.com/assets/colab-badge.svg\" alt=\"Open In Colab\"/></a>"
      ]
    },
    {
      "cell_type": "code",
      "execution_count": 1,
      "metadata": {
        "id": "qXQ8rUmdwaf4"
      },
      "outputs": [],
      "source": [
        "\n",
        "from sklearn.metrics import accuracy_score # for calculating accuracy of model\n",
        "from sklearn.model_selection import train_test_split # for splitting the dataset for training and testing\n",
        "from sklearn.metrics import classification_report # for generating a classification report of model\n",
        "import pickle # saving and loading trained model\n",
        "from os import path\n",
        "import numpy as np\n",
        "import pandas as pd\n",
        "import matplotlib.pyplot as plt\n",
        "\n",
        "# importing library for support vector machine classifier\n",
        "from sklearn.svm import SVC\n",
        "\n",
        "# MLP requirements \n",
        "from keras.layers import Dense # importing dense layer\n",
        "from keras.models import Sequential #importing Sequential layer\n",
        "from keras.models import model_from_json # saving and loading trained model\n",
        "\n",
        "# LSTM requirements \n",
        "from keras.layers import LSTM\n",
        "from keras.layers import Input\n",
        "from keras.models import Model\n",
        "\n",
        "# evaluation metrices\n",
        "from sklearn.metrics import classification_report, confusion_matrix\n",
        "from sklearn.metrics import roc_auc_score\n",
        "from sklearn.metrics import roc_curve, auc\n",
        "from sklearn.metrics import precision_score\n",
        "from sklearn.metrics import recall_score\n",
        "from sklearn.metrics import f1_score\n",
        "from sklearn.metrics import det_curve\n",
        "\n",
        "# representation of model layers\n",
        "from keras.utils.vis_utils import plot_model"
      ]
    },
    {
      "cell_type": "code",
      "source": [
        "from google.colab import drive\n",
        "drive.mount('/content/drive')"
      ],
      "metadata": {
        "colab": {
          "base_uri": "https://localhost:8080/"
        },
        "id": "DBCkPmpEjFSf",
        "outputId": "000ff567-8aeb-45c5-9e0e-507ea85ed395"
      },
      "execution_count": 2,
      "outputs": [
        {
          "output_type": "stream",
          "name": "stdout",
          "text": [
            "Mounted at /content/drive\n"
          ]
        }
      ]
    },
    {
      "cell_type": "code",
      "execution_count": 3,
      "metadata": {
        "colab": {
          "base_uri": "https://localhost:8080/",
          "height": 557
        },
        "id": "Pepa9lW8whHh",
        "outputId": "f2d7cd60-f9ba-40fb-9a5a-6625565f6ff1"
      },
      "outputs": [
        {
          "output_type": "execute_result",
          "data": {
            "text/plain": [
              "               X1           X2             X3          X4           X5  \\\n",
              "0      345.833880  1336.169593  182741.587571  604.323930  1339.278171   \n",
              "1      167.867168  1276.877230  160030.211231  284.315792  1283.353269   \n",
              "2      305.192767  1342.255904  171981.834746  563.947472  1341.762223   \n",
              "3      183.389655  1308.791204  125563.062709  305.241377  1305.986965   \n",
              "4      436.659567  1331.934122  198328.172823  672.790777  1334.480440   \n",
              "...           ...          ...            ...         ...          ...   \n",
              "22782  225.194858  1322.528722  203525.852764  380.263524  1329.837946   \n",
              "22783  279.497161  1354.401652  173417.081270  423.877685  1351.437443   \n",
              "22784  215.370942  1320.175905  203122.471743  357.520416  1325.906577   \n",
              "22785  186.230335  1312.893411  129249.226441  308.535459  1306.278699   \n",
              "22786  197.222271  1327.825229  195333.629859  341.560135  1334.101073   \n",
              "\n",
              "                  X6           X7           X8             X9           X10  \\\n",
              "0      180378.531164  1913.066006  1342.484069  178033.162324  19420.188363   \n",
              "1      154823.746252   869.255989  1292.157191  145874.385120   8708.527916   \n",
              "2      176209.279825  1880.206329  1338.455539  183266.064778  19566.707774   \n",
              "3      129767.818469   892.180283  1300.853177  136076.095956   8732.449316   \n",
              "4      194006.556831  1802.704213  1339.237109  185370.216681  16954.154954   \n",
              "...              ...          ...          ...            ...           ...   \n",
              "22782  194558.754950  1135.839739  1336.181840  186441.765878  11271.813311   \n",
              "22783  173420.842229  1164.499818  1347.305493  174162.297970  11272.100364   \n",
              "22784  197601.243920  1096.324893  1336.764079  186204.374841  11215.552458   \n",
              "22785  134718.639391   896.763421  1298.283485  140885.554792   8764.769225   \n",
              "22786  187557.054529  1082.319194  1341.630976  180256.188228  11184.897708   \n",
              "\n",
              "       ...          X108          X109         X110        X111         X112  \\\n",
              "0      ...  0.000000e+00  10477.137202  1340.727571  425.910966  1340.727571   \n",
              "1      ...  0.000000e+00  17213.615368  1336.240517  425.357292  1336.240517   \n",
              "2      ...  0.000000e+00  23301.191831  1341.394016  425.292546  1341.394016   \n",
              "3      ...  0.000000e+00  27090.882172  1335.295481  426.854383  1335.295481   \n",
              "4      ...  0.000000e+00  27200.599537  1340.972883  425.459009  1340.972883   \n",
              "...    ...           ...           ...          ...         ...          ...   \n",
              "22782  ...  0.000000e+00  27782.453187  1340.241105  426.914623  1340.241105   \n",
              "22783  ... -6.254832e-24  26505.350300  1340.769014  425.896764  1342.110856   \n",
              "22784  ...  0.000000e+00  27326.032255  1340.362712  426.724354  1340.362712   \n",
              "22785  ... -1.765324e-19  24083.186996  1335.491546  425.725709  1336.838684   \n",
              "22786  ... -2.793809e-25  26973.748596  1340.956453  425.655812  1342.298107   \n",
              "\n",
              "                X113          X114          X115  Unnamed: 0  label  \n",
              "0      181400.151330  0.000000e+00  0.000000e+00      137292    0.0  \n",
              "1      180928.825969  0.000000e+00  0.000000e+00      279635    0.0  \n",
              "2      180873.749823  0.000000e+00  0.000000e+00      528053    0.0  \n",
              "3      182204.664511  0.000000e+00  0.000000e+00      947892    0.0  \n",
              "4      181015.368435  0.000000e+00  0.000000e+00     1009801    0.0  \n",
              "...              ...           ...           ...         ...    ...  \n",
              "22782  182256.095218  0.000000e+00  0.000000e+00     1818443    1.0  \n",
              "22783  181388.053575  0.000000e+00  0.000000e+00     1973930    1.0  \n",
              "22784  182093.674144  0.000000e+00  0.000000e+00     1622233    1.0  \n",
              "22785  181242.379322 -4.439829e-16 -1.093544e-12     1772502    1.0  \n",
              "22786  181182.870539  0.000000e+00  0.000000e+00     2051288    1.0  \n",
              "\n",
              "[22787 rows x 117 columns]"
            ],
            "text/html": [
              "\n",
              "  <div id=\"df-4aac6489-9ef9-460e-b161-53e039a6104d\">\n",
              "    <div class=\"colab-df-container\">\n",
              "      <div>\n",
              "<style scoped>\n",
              "    .dataframe tbody tr th:only-of-type {\n",
              "        vertical-align: middle;\n",
              "    }\n",
              "\n",
              "    .dataframe tbody tr th {\n",
              "        vertical-align: top;\n",
              "    }\n",
              "\n",
              "    .dataframe thead th {\n",
              "        text-align: right;\n",
              "    }\n",
              "</style>\n",
              "<table border=\"1\" class=\"dataframe\">\n",
              "  <thead>\n",
              "    <tr style=\"text-align: right;\">\n",
              "      <th></th>\n",
              "      <th>X1</th>\n",
              "      <th>X2</th>\n",
              "      <th>X3</th>\n",
              "      <th>X4</th>\n",
              "      <th>X5</th>\n",
              "      <th>X6</th>\n",
              "      <th>X7</th>\n",
              "      <th>X8</th>\n",
              "      <th>X9</th>\n",
              "      <th>X10</th>\n",
              "      <th>...</th>\n",
              "      <th>X108</th>\n",
              "      <th>X109</th>\n",
              "      <th>X110</th>\n",
              "      <th>X111</th>\n",
              "      <th>X112</th>\n",
              "      <th>X113</th>\n",
              "      <th>X114</th>\n",
              "      <th>X115</th>\n",
              "      <th>Unnamed: 0</th>\n",
              "      <th>label</th>\n",
              "    </tr>\n",
              "  </thead>\n",
              "  <tbody>\n",
              "    <tr>\n",
              "      <th>0</th>\n",
              "      <td>345.833880</td>\n",
              "      <td>1336.169593</td>\n",
              "      <td>182741.587571</td>\n",
              "      <td>604.323930</td>\n",
              "      <td>1339.278171</td>\n",
              "      <td>180378.531164</td>\n",
              "      <td>1913.066006</td>\n",
              "      <td>1342.484069</td>\n",
              "      <td>178033.162324</td>\n",
              "      <td>19420.188363</td>\n",
              "      <td>...</td>\n",
              "      <td>0.000000e+00</td>\n",
              "      <td>10477.137202</td>\n",
              "      <td>1340.727571</td>\n",
              "      <td>425.910966</td>\n",
              "      <td>1340.727571</td>\n",
              "      <td>181400.151330</td>\n",
              "      <td>0.000000e+00</td>\n",
              "      <td>0.000000e+00</td>\n",
              "      <td>137292</td>\n",
              "      <td>0.0</td>\n",
              "    </tr>\n",
              "    <tr>\n",
              "      <th>1</th>\n",
              "      <td>167.867168</td>\n",
              "      <td>1276.877230</td>\n",
              "      <td>160030.211231</td>\n",
              "      <td>284.315792</td>\n",
              "      <td>1283.353269</td>\n",
              "      <td>154823.746252</td>\n",
              "      <td>869.255989</td>\n",
              "      <td>1292.157191</td>\n",
              "      <td>145874.385120</td>\n",
              "      <td>8708.527916</td>\n",
              "      <td>...</td>\n",
              "      <td>0.000000e+00</td>\n",
              "      <td>17213.615368</td>\n",
              "      <td>1336.240517</td>\n",
              "      <td>425.357292</td>\n",
              "      <td>1336.240517</td>\n",
              "      <td>180928.825969</td>\n",
              "      <td>0.000000e+00</td>\n",
              "      <td>0.000000e+00</td>\n",
              "      <td>279635</td>\n",
              "      <td>0.0</td>\n",
              "    </tr>\n",
              "    <tr>\n",
              "      <th>2</th>\n",
              "      <td>305.192767</td>\n",
              "      <td>1342.255904</td>\n",
              "      <td>171981.834746</td>\n",
              "      <td>563.947472</td>\n",
              "      <td>1341.762223</td>\n",
              "      <td>176209.279825</td>\n",
              "      <td>1880.206329</td>\n",
              "      <td>1338.455539</td>\n",
              "      <td>183266.064778</td>\n",
              "      <td>19566.707774</td>\n",
              "      <td>...</td>\n",
              "      <td>0.000000e+00</td>\n",
              "      <td>23301.191831</td>\n",
              "      <td>1341.394016</td>\n",
              "      <td>425.292546</td>\n",
              "      <td>1341.394016</td>\n",
              "      <td>180873.749823</td>\n",
              "      <td>0.000000e+00</td>\n",
              "      <td>0.000000e+00</td>\n",
              "      <td>528053</td>\n",
              "      <td>0.0</td>\n",
              "    </tr>\n",
              "    <tr>\n",
              "      <th>3</th>\n",
              "      <td>183.389655</td>\n",
              "      <td>1308.791204</td>\n",
              "      <td>125563.062709</td>\n",
              "      <td>305.241377</td>\n",
              "      <td>1305.986965</td>\n",
              "      <td>129767.818469</td>\n",
              "      <td>892.180283</td>\n",
              "      <td>1300.853177</td>\n",
              "      <td>136076.095956</td>\n",
              "      <td>8732.449316</td>\n",
              "      <td>...</td>\n",
              "      <td>0.000000e+00</td>\n",
              "      <td>27090.882172</td>\n",
              "      <td>1335.295481</td>\n",
              "      <td>426.854383</td>\n",
              "      <td>1335.295481</td>\n",
              "      <td>182204.664511</td>\n",
              "      <td>0.000000e+00</td>\n",
              "      <td>0.000000e+00</td>\n",
              "      <td>947892</td>\n",
              "      <td>0.0</td>\n",
              "    </tr>\n",
              "    <tr>\n",
              "      <th>4</th>\n",
              "      <td>436.659567</td>\n",
              "      <td>1331.934122</td>\n",
              "      <td>198328.172823</td>\n",
              "      <td>672.790777</td>\n",
              "      <td>1334.480440</td>\n",
              "      <td>194006.556831</td>\n",
              "      <td>1802.704213</td>\n",
              "      <td>1339.237109</td>\n",
              "      <td>185370.216681</td>\n",
              "      <td>16954.154954</td>\n",
              "      <td>...</td>\n",
              "      <td>0.000000e+00</td>\n",
              "      <td>27200.599537</td>\n",
              "      <td>1340.972883</td>\n",
              "      <td>425.459009</td>\n",
              "      <td>1340.972883</td>\n",
              "      <td>181015.368435</td>\n",
              "      <td>0.000000e+00</td>\n",
              "      <td>0.000000e+00</td>\n",
              "      <td>1009801</td>\n",
              "      <td>0.0</td>\n",
              "    </tr>\n",
              "    <tr>\n",
              "      <th>...</th>\n",
              "      <td>...</td>\n",
              "      <td>...</td>\n",
              "      <td>...</td>\n",
              "      <td>...</td>\n",
              "      <td>...</td>\n",
              "      <td>...</td>\n",
              "      <td>...</td>\n",
              "      <td>...</td>\n",
              "      <td>...</td>\n",
              "      <td>...</td>\n",
              "      <td>...</td>\n",
              "      <td>...</td>\n",
              "      <td>...</td>\n",
              "      <td>...</td>\n",
              "      <td>...</td>\n",
              "      <td>...</td>\n",
              "      <td>...</td>\n",
              "      <td>...</td>\n",
              "      <td>...</td>\n",
              "      <td>...</td>\n",
              "      <td>...</td>\n",
              "    </tr>\n",
              "    <tr>\n",
              "      <th>22782</th>\n",
              "      <td>225.194858</td>\n",
              "      <td>1322.528722</td>\n",
              "      <td>203525.852764</td>\n",
              "      <td>380.263524</td>\n",
              "      <td>1329.837946</td>\n",
              "      <td>194558.754950</td>\n",
              "      <td>1135.839739</td>\n",
              "      <td>1336.181840</td>\n",
              "      <td>186441.765878</td>\n",
              "      <td>11271.813311</td>\n",
              "      <td>...</td>\n",
              "      <td>0.000000e+00</td>\n",
              "      <td>27782.453187</td>\n",
              "      <td>1340.241105</td>\n",
              "      <td>426.914623</td>\n",
              "      <td>1340.241105</td>\n",
              "      <td>182256.095218</td>\n",
              "      <td>0.000000e+00</td>\n",
              "      <td>0.000000e+00</td>\n",
              "      <td>1818443</td>\n",
              "      <td>1.0</td>\n",
              "    </tr>\n",
              "    <tr>\n",
              "      <th>22783</th>\n",
              "      <td>279.497161</td>\n",
              "      <td>1354.401652</td>\n",
              "      <td>173417.081270</td>\n",
              "      <td>423.877685</td>\n",
              "      <td>1351.437443</td>\n",
              "      <td>173420.842229</td>\n",
              "      <td>1164.499818</td>\n",
              "      <td>1347.305493</td>\n",
              "      <td>174162.297970</td>\n",
              "      <td>11272.100364</td>\n",
              "      <td>...</td>\n",
              "      <td>-6.254832e-24</td>\n",
              "      <td>26505.350300</td>\n",
              "      <td>1340.769014</td>\n",
              "      <td>425.896764</td>\n",
              "      <td>1342.110856</td>\n",
              "      <td>181388.053575</td>\n",
              "      <td>0.000000e+00</td>\n",
              "      <td>0.000000e+00</td>\n",
              "      <td>1973930</td>\n",
              "      <td>1.0</td>\n",
              "    </tr>\n",
              "    <tr>\n",
              "      <th>22784</th>\n",
              "      <td>215.370942</td>\n",
              "      <td>1320.175905</td>\n",
              "      <td>203122.471743</td>\n",
              "      <td>357.520416</td>\n",
              "      <td>1325.906577</td>\n",
              "      <td>197601.243920</td>\n",
              "      <td>1096.324893</td>\n",
              "      <td>1336.764079</td>\n",
              "      <td>186204.374841</td>\n",
              "      <td>11215.552458</td>\n",
              "      <td>...</td>\n",
              "      <td>0.000000e+00</td>\n",
              "      <td>27326.032255</td>\n",
              "      <td>1340.362712</td>\n",
              "      <td>426.724354</td>\n",
              "      <td>1340.362712</td>\n",
              "      <td>182093.674144</td>\n",
              "      <td>0.000000e+00</td>\n",
              "      <td>0.000000e+00</td>\n",
              "      <td>1622233</td>\n",
              "      <td>1.0</td>\n",
              "    </tr>\n",
              "    <tr>\n",
              "      <th>22785</th>\n",
              "      <td>186.230335</td>\n",
              "      <td>1312.893411</td>\n",
              "      <td>129249.226441</td>\n",
              "      <td>308.535459</td>\n",
              "      <td>1306.278699</td>\n",
              "      <td>134718.639391</td>\n",
              "      <td>896.763421</td>\n",
              "      <td>1298.283485</td>\n",
              "      <td>140885.554792</td>\n",
              "      <td>8764.769225</td>\n",
              "      <td>...</td>\n",
              "      <td>-1.765324e-19</td>\n",
              "      <td>24083.186996</td>\n",
              "      <td>1335.491546</td>\n",
              "      <td>425.725709</td>\n",
              "      <td>1336.838684</td>\n",
              "      <td>181242.379322</td>\n",
              "      <td>-4.439829e-16</td>\n",
              "      <td>-1.093544e-12</td>\n",
              "      <td>1772502</td>\n",
              "      <td>1.0</td>\n",
              "    </tr>\n",
              "    <tr>\n",
              "      <th>22786</th>\n",
              "      <td>197.222271</td>\n",
              "      <td>1327.825229</td>\n",
              "      <td>195333.629859</td>\n",
              "      <td>341.560135</td>\n",
              "      <td>1334.101073</td>\n",
              "      <td>187557.054529</td>\n",
              "      <td>1082.319194</td>\n",
              "      <td>1341.630976</td>\n",
              "      <td>180256.188228</td>\n",
              "      <td>11184.897708</td>\n",
              "      <td>...</td>\n",
              "      <td>-2.793809e-25</td>\n",
              "      <td>26973.748596</td>\n",
              "      <td>1340.956453</td>\n",
              "      <td>425.655812</td>\n",
              "      <td>1342.298107</td>\n",
              "      <td>181182.870539</td>\n",
              "      <td>0.000000e+00</td>\n",
              "      <td>0.000000e+00</td>\n",
              "      <td>2051288</td>\n",
              "      <td>1.0</td>\n",
              "    </tr>\n",
              "  </tbody>\n",
              "</table>\n",
              "<p>22787 rows × 117 columns</p>\n",
              "</div>\n",
              "      <button class=\"colab-df-convert\" onclick=\"convertToInteractive('df-4aac6489-9ef9-460e-b161-53e039a6104d')\"\n",
              "              title=\"Convert this dataframe to an interactive table.\"\n",
              "              style=\"display:none;\">\n",
              "        \n",
              "  <svg xmlns=\"http://www.w3.org/2000/svg\" height=\"24px\"viewBox=\"0 0 24 24\"\n",
              "       width=\"24px\">\n",
              "    <path d=\"M0 0h24v24H0V0z\" fill=\"none\"/>\n",
              "    <path d=\"M18.56 5.44l.94 2.06.94-2.06 2.06-.94-2.06-.94-.94-2.06-.94 2.06-2.06.94zm-11 1L8.5 8.5l.94-2.06 2.06-.94-2.06-.94L8.5 2.5l-.94 2.06-2.06.94zm10 10l.94 2.06.94-2.06 2.06-.94-2.06-.94-.94-2.06-.94 2.06-2.06.94z\"/><path d=\"M17.41 7.96l-1.37-1.37c-.4-.4-.92-.59-1.43-.59-.52 0-1.04.2-1.43.59L10.3 9.45l-7.72 7.72c-.78.78-.78 2.05 0 2.83L4 21.41c.39.39.9.59 1.41.59.51 0 1.02-.2 1.41-.59l7.78-7.78 2.81-2.81c.8-.78.8-2.07 0-2.86zM5.41 20L4 18.59l7.72-7.72 1.47 1.35L5.41 20z\"/>\n",
              "  </svg>\n",
              "      </button>\n",
              "      \n",
              "  <style>\n",
              "    .colab-df-container {\n",
              "      display:flex;\n",
              "      flex-wrap:wrap;\n",
              "      gap: 12px;\n",
              "    }\n",
              "\n",
              "    .colab-df-convert {\n",
              "      background-color: #E8F0FE;\n",
              "      border: none;\n",
              "      border-radius: 50%;\n",
              "      cursor: pointer;\n",
              "      display: none;\n",
              "      fill: #1967D2;\n",
              "      height: 32px;\n",
              "      padding: 0 0 0 0;\n",
              "      width: 32px;\n",
              "    }\n",
              "\n",
              "    .colab-df-convert:hover {\n",
              "      background-color: #E2EBFA;\n",
              "      box-shadow: 0px 1px 2px rgba(60, 64, 67, 0.3), 0px 1px 3px 1px rgba(60, 64, 67, 0.15);\n",
              "      fill: #174EA6;\n",
              "    }\n",
              "\n",
              "    [theme=dark] .colab-df-convert {\n",
              "      background-color: #3B4455;\n",
              "      fill: #D2E3FC;\n",
              "    }\n",
              "\n",
              "    [theme=dark] .colab-df-convert:hover {\n",
              "      background-color: #434B5C;\n",
              "      box-shadow: 0px 1px 3px 1px rgba(0, 0, 0, 0.15);\n",
              "      filter: drop-shadow(0px 1px 2px rgba(0, 0, 0, 0.3));\n",
              "      fill: #FFFFFF;\n",
              "    }\n",
              "  </style>\n",
              "\n",
              "      <script>\n",
              "        const buttonEl =\n",
              "          document.querySelector('#df-4aac6489-9ef9-460e-b161-53e039a6104d button.colab-df-convert');\n",
              "        buttonEl.style.display =\n",
              "          google.colab.kernel.accessAllowed ? 'block' : 'none';\n",
              "\n",
              "        async function convertToInteractive(key) {\n",
              "          const element = document.querySelector('#df-4aac6489-9ef9-460e-b161-53e039a6104d');\n",
              "          const dataTable =\n",
              "            await google.colab.kernel.invokeFunction('convertToInteractive',\n",
              "                                                     [key], {});\n",
              "          if (!dataTable) return;\n",
              "\n",
              "          const docLinkHtml = 'Like what you see? Visit the ' +\n",
              "            '<a target=\"_blank\" href=https://colab.research.google.com/notebooks/data_table.ipynb>data table notebook</a>'\n",
              "            + ' to learn more about interactive tables.';\n",
              "          element.innerHTML = '';\n",
              "          dataTable['output_type'] = 'display_data';\n",
              "          await google.colab.output.renderOutput(dataTable, element);\n",
              "          const docLink = document.createElement('div');\n",
              "          docLink.innerHTML = docLinkHtml;\n",
              "          element.appendChild(docLink);\n",
              "        }\n",
              "      </script>\n",
              "    </div>\n",
              "  </div>\n",
              "  "
            ]
          },
          "metadata": {},
          "execution_count": 3
        }
      ],
      "source": [
        "bin_data_total = data = pd.read_csv(\"/content/drive/MyDrive/Colab_Notebooks/Datasets/kitsume_network_attack_dataset/Active_Wiretap_dataset_kitsune_binary_data_1M.csv\")\n",
        "bin_data_total.drop(bin_data_total.columns[0],axis=1,inplace=True)\n",
        "bin_data_total"
      ]
    },
    {
      "cell_type": "code",
      "execution_count": 4,
      "metadata": {
        "colab": {
          "base_uri": "https://localhost:8080/"
        },
        "id": "xHCs0B3sKOa_",
        "outputId": "095f5510-00b7-4adf-f26e-06d66dbf9fc4"
      },
      "outputs": [
        {
          "output_type": "execute_result",
          "data": {
            "text/plain": [
              "0.0    0.594857\n",
              "1.0    0.405143\n",
              "Name: label, dtype: float64"
            ]
          },
          "metadata": {},
          "execution_count": 4
        }
      ],
      "source": [
        "# distribution of label class before sampling\n",
        "data_size = bin_data_total.shape[0]\n",
        "# data_size\n",
        "bin_data_total.label.value_counts()/data_size"
      ]
    },
    {
      "cell_type": "code",
      "source": [
        "model_name_suffix = \"_kitsune_Active_Wiretap\""
      ],
      "metadata": {
        "collapsed": true,
        "id": "xoRpI3HV9G2v"
      },
      "execution_count": 5,
      "outputs": []
    },
    {
      "cell_type": "code",
      "source": [
        "# numeric feature normalization\n",
        "from sklearn.preprocessing import MinMaxScaler\n",
        "from sklearn.preprocessing import StandardScaler\n",
        "\n",
        "numeric_cols = bin_data_total.select_dtypes(['number']).columns\n",
        "numeric_cols = numeric_cols.drop('label')\n",
        "flag = 0\n",
        "scaler = None\n",
        "if flag:\n",
        "  # using standard scaler for normalizing\n",
        "  scaler = StandardScaler()\n",
        "else:\n",
        "  # using minmax scaler for normalizing\n",
        "  # to avoid negative values after scaling\n",
        "  scaler = MinMaxScaler()\n",
        "\n",
        "def normalization_train(df,col):\n",
        "  for i in col:\n",
        "    arr = df[i]\n",
        "    arr = np.array(arr)\n",
        "    df[i] = scaler.fit_transform(arr.reshape(len(arr),1))\n",
        "  return df\n",
        "\n",
        "def normalization_test(df,col):\n",
        "  for i in col:\n",
        "    arr = df[i]\n",
        "    arr = np.array(arr)\n",
        "    df[i] = scaler.transform(arr.reshape(len(arr),1))\n",
        "  return df\n",
        "\n",
        "# numeric_cols"
      ],
      "metadata": {
        "id": "QAUrPvEIYHoH"
      },
      "execution_count": 6,
      "outputs": []
    },
    {
      "cell_type": "code",
      "execution_count": 7,
      "metadata": {
        "colab": {
          "base_uri": "https://localhost:8080/",
          "height": 557
        },
        "id": "XSTP2AcKJgTF",
        "outputId": "3f5d6a51-be2a-4fea-fb3e-95f871d76786"
      },
      "outputs": [
        {
          "output_type": "execute_result",
          "data": {
            "text/plain": [
              "               X1           X2             X3          X4           X5  \\\n",
              "0      345.833880  1336.169593  182741.587571  604.323930  1339.278171   \n",
              "1      167.867168  1276.877230  160030.211231  284.315792  1283.353269   \n",
              "2      305.192767  1342.255904  171981.834746  563.947472  1341.762223   \n",
              "3      183.389655  1308.791204  125563.062709  305.241377  1305.986965   \n",
              "4      436.659567  1331.934122  198328.172823  672.790777  1334.480440   \n",
              "...           ...          ...            ...         ...          ...   \n",
              "22782  225.194858  1322.528722  203525.852764  380.263524  1329.837946   \n",
              "22783  279.497161  1354.401652  173417.081270  423.877685  1351.437443   \n",
              "22784  215.370942  1320.175905  203122.471743  357.520416  1325.906577   \n",
              "22785  186.230335  1312.893411  129249.226441  308.535459  1306.278699   \n",
              "22786  197.222271  1327.825229  195333.629859  341.560135  1334.101073   \n",
              "\n",
              "                  X6           X7           X8             X9           X10  \\\n",
              "0      180378.531164  1913.066006  1342.484069  178033.162324  19420.188363   \n",
              "1      154823.746252   869.255989  1292.157191  145874.385120   8708.527916   \n",
              "2      176209.279825  1880.206329  1338.455539  183266.064778  19566.707774   \n",
              "3      129767.818469   892.180283  1300.853177  136076.095956   8732.449316   \n",
              "4      194006.556831  1802.704213  1339.237109  185370.216681  16954.154954   \n",
              "...              ...          ...          ...            ...           ...   \n",
              "22782  194558.754950  1135.839739  1336.181840  186441.765878  11271.813311   \n",
              "22783  173420.842229  1164.499818  1347.305493  174162.297970  11272.100364   \n",
              "22784  197601.243920  1096.324893  1336.764079  186204.374841  11215.552458   \n",
              "22785  134718.639391   896.763421  1298.283485  140885.554792   8764.769225   \n",
              "22786  187557.054529  1082.319194  1341.630976  180256.188228  11184.897708   \n",
              "\n",
              "       ...          X108          X109         X110        X111         X112  \\\n",
              "0      ...  0.000000e+00  10477.137202  1340.727571  425.910966  1340.727571   \n",
              "1      ...  0.000000e+00  17213.615368  1336.240517  425.357292  1336.240517   \n",
              "2      ...  0.000000e+00  23301.191831  1341.394016  425.292546  1341.394016   \n",
              "3      ...  0.000000e+00  27090.882172  1335.295481  426.854383  1335.295481   \n",
              "4      ...  0.000000e+00  27200.599537  1340.972883  425.459009  1340.972883   \n",
              "...    ...           ...           ...          ...         ...          ...   \n",
              "22782  ...  0.000000e+00  27782.453187  1340.241105  426.914623  1340.241105   \n",
              "22783  ... -6.254832e-24  26505.350300  1340.769014  425.896764  1342.110856   \n",
              "22784  ...  0.000000e+00  27326.032255  1340.362712  426.724354  1340.362712   \n",
              "22785  ... -1.765324e-19  24083.186996  1335.491546  425.725709  1336.838684   \n",
              "22786  ... -2.793809e-25  26973.748596  1340.956453  425.655812  1342.298107   \n",
              "\n",
              "                X113          X114          X115  Unnamed: 0  label  \n",
              "0      181400.151330  0.000000e+00  0.000000e+00      137292    0.0  \n",
              "1      180928.825969  0.000000e+00  0.000000e+00      279635    0.0  \n",
              "2      180873.749823  0.000000e+00  0.000000e+00      528053    0.0  \n",
              "3      182204.664511  0.000000e+00  0.000000e+00      947892    0.0  \n",
              "4      181015.368435  0.000000e+00  0.000000e+00     1009801    0.0  \n",
              "...              ...           ...           ...         ...    ...  \n",
              "22782  182256.095218  0.000000e+00  0.000000e+00     1818443    1.0  \n",
              "22783  181388.053575  0.000000e+00  0.000000e+00     1973930    1.0  \n",
              "22784  182093.674144  0.000000e+00  0.000000e+00     1622233    1.0  \n",
              "22785  181242.379322 -4.439829e-16 -1.093544e-12     1772502    1.0  \n",
              "22786  181182.870539  0.000000e+00  0.000000e+00     2051288    1.0  \n",
              "\n",
              "[22787 rows x 117 columns]"
            ],
            "text/html": [
              "\n",
              "  <div id=\"df-cf63bc07-15d6-4d57-88bd-8312dde9fd5c\">\n",
              "    <div class=\"colab-df-container\">\n",
              "      <div>\n",
              "<style scoped>\n",
              "    .dataframe tbody tr th:only-of-type {\n",
              "        vertical-align: middle;\n",
              "    }\n",
              "\n",
              "    .dataframe tbody tr th {\n",
              "        vertical-align: top;\n",
              "    }\n",
              "\n",
              "    .dataframe thead th {\n",
              "        text-align: right;\n",
              "    }\n",
              "</style>\n",
              "<table border=\"1\" class=\"dataframe\">\n",
              "  <thead>\n",
              "    <tr style=\"text-align: right;\">\n",
              "      <th></th>\n",
              "      <th>X1</th>\n",
              "      <th>X2</th>\n",
              "      <th>X3</th>\n",
              "      <th>X4</th>\n",
              "      <th>X5</th>\n",
              "      <th>X6</th>\n",
              "      <th>X7</th>\n",
              "      <th>X8</th>\n",
              "      <th>X9</th>\n",
              "      <th>X10</th>\n",
              "      <th>...</th>\n",
              "      <th>X108</th>\n",
              "      <th>X109</th>\n",
              "      <th>X110</th>\n",
              "      <th>X111</th>\n",
              "      <th>X112</th>\n",
              "      <th>X113</th>\n",
              "      <th>X114</th>\n",
              "      <th>X115</th>\n",
              "      <th>Unnamed: 0</th>\n",
              "      <th>label</th>\n",
              "    </tr>\n",
              "  </thead>\n",
              "  <tbody>\n",
              "    <tr>\n",
              "      <th>0</th>\n",
              "      <td>345.833880</td>\n",
              "      <td>1336.169593</td>\n",
              "      <td>182741.587571</td>\n",
              "      <td>604.323930</td>\n",
              "      <td>1339.278171</td>\n",
              "      <td>180378.531164</td>\n",
              "      <td>1913.066006</td>\n",
              "      <td>1342.484069</td>\n",
              "      <td>178033.162324</td>\n",
              "      <td>19420.188363</td>\n",
              "      <td>...</td>\n",
              "      <td>0.000000e+00</td>\n",
              "      <td>10477.137202</td>\n",
              "      <td>1340.727571</td>\n",
              "      <td>425.910966</td>\n",
              "      <td>1340.727571</td>\n",
              "      <td>181400.151330</td>\n",
              "      <td>0.000000e+00</td>\n",
              "      <td>0.000000e+00</td>\n",
              "      <td>137292</td>\n",
              "      <td>0.0</td>\n",
              "    </tr>\n",
              "    <tr>\n",
              "      <th>1</th>\n",
              "      <td>167.867168</td>\n",
              "      <td>1276.877230</td>\n",
              "      <td>160030.211231</td>\n",
              "      <td>284.315792</td>\n",
              "      <td>1283.353269</td>\n",
              "      <td>154823.746252</td>\n",
              "      <td>869.255989</td>\n",
              "      <td>1292.157191</td>\n",
              "      <td>145874.385120</td>\n",
              "      <td>8708.527916</td>\n",
              "      <td>...</td>\n",
              "      <td>0.000000e+00</td>\n",
              "      <td>17213.615368</td>\n",
              "      <td>1336.240517</td>\n",
              "      <td>425.357292</td>\n",
              "      <td>1336.240517</td>\n",
              "      <td>180928.825969</td>\n",
              "      <td>0.000000e+00</td>\n",
              "      <td>0.000000e+00</td>\n",
              "      <td>279635</td>\n",
              "      <td>0.0</td>\n",
              "    </tr>\n",
              "    <tr>\n",
              "      <th>2</th>\n",
              "      <td>305.192767</td>\n",
              "      <td>1342.255904</td>\n",
              "      <td>171981.834746</td>\n",
              "      <td>563.947472</td>\n",
              "      <td>1341.762223</td>\n",
              "      <td>176209.279825</td>\n",
              "      <td>1880.206329</td>\n",
              "      <td>1338.455539</td>\n",
              "      <td>183266.064778</td>\n",
              "      <td>19566.707774</td>\n",
              "      <td>...</td>\n",
              "      <td>0.000000e+00</td>\n",
              "      <td>23301.191831</td>\n",
              "      <td>1341.394016</td>\n",
              "      <td>425.292546</td>\n",
              "      <td>1341.394016</td>\n",
              "      <td>180873.749823</td>\n",
              "      <td>0.000000e+00</td>\n",
              "      <td>0.000000e+00</td>\n",
              "      <td>528053</td>\n",
              "      <td>0.0</td>\n",
              "    </tr>\n",
              "    <tr>\n",
              "      <th>3</th>\n",
              "      <td>183.389655</td>\n",
              "      <td>1308.791204</td>\n",
              "      <td>125563.062709</td>\n",
              "      <td>305.241377</td>\n",
              "      <td>1305.986965</td>\n",
              "      <td>129767.818469</td>\n",
              "      <td>892.180283</td>\n",
              "      <td>1300.853177</td>\n",
              "      <td>136076.095956</td>\n",
              "      <td>8732.449316</td>\n",
              "      <td>...</td>\n",
              "      <td>0.000000e+00</td>\n",
              "      <td>27090.882172</td>\n",
              "      <td>1335.295481</td>\n",
              "      <td>426.854383</td>\n",
              "      <td>1335.295481</td>\n",
              "      <td>182204.664511</td>\n",
              "      <td>0.000000e+00</td>\n",
              "      <td>0.000000e+00</td>\n",
              "      <td>947892</td>\n",
              "      <td>0.0</td>\n",
              "    </tr>\n",
              "    <tr>\n",
              "      <th>4</th>\n",
              "      <td>436.659567</td>\n",
              "      <td>1331.934122</td>\n",
              "      <td>198328.172823</td>\n",
              "      <td>672.790777</td>\n",
              "      <td>1334.480440</td>\n",
              "      <td>194006.556831</td>\n",
              "      <td>1802.704213</td>\n",
              "      <td>1339.237109</td>\n",
              "      <td>185370.216681</td>\n",
              "      <td>16954.154954</td>\n",
              "      <td>...</td>\n",
              "      <td>0.000000e+00</td>\n",
              "      <td>27200.599537</td>\n",
              "      <td>1340.972883</td>\n",
              "      <td>425.459009</td>\n",
              "      <td>1340.972883</td>\n",
              "      <td>181015.368435</td>\n",
              "      <td>0.000000e+00</td>\n",
              "      <td>0.000000e+00</td>\n",
              "      <td>1009801</td>\n",
              "      <td>0.0</td>\n",
              "    </tr>\n",
              "    <tr>\n",
              "      <th>...</th>\n",
              "      <td>...</td>\n",
              "      <td>...</td>\n",
              "      <td>...</td>\n",
              "      <td>...</td>\n",
              "      <td>...</td>\n",
              "      <td>...</td>\n",
              "      <td>...</td>\n",
              "      <td>...</td>\n",
              "      <td>...</td>\n",
              "      <td>...</td>\n",
              "      <td>...</td>\n",
              "      <td>...</td>\n",
              "      <td>...</td>\n",
              "      <td>...</td>\n",
              "      <td>...</td>\n",
              "      <td>...</td>\n",
              "      <td>...</td>\n",
              "      <td>...</td>\n",
              "      <td>...</td>\n",
              "      <td>...</td>\n",
              "      <td>...</td>\n",
              "    </tr>\n",
              "    <tr>\n",
              "      <th>22782</th>\n",
              "      <td>225.194858</td>\n",
              "      <td>1322.528722</td>\n",
              "      <td>203525.852764</td>\n",
              "      <td>380.263524</td>\n",
              "      <td>1329.837946</td>\n",
              "      <td>194558.754950</td>\n",
              "      <td>1135.839739</td>\n",
              "      <td>1336.181840</td>\n",
              "      <td>186441.765878</td>\n",
              "      <td>11271.813311</td>\n",
              "      <td>...</td>\n",
              "      <td>0.000000e+00</td>\n",
              "      <td>27782.453187</td>\n",
              "      <td>1340.241105</td>\n",
              "      <td>426.914623</td>\n",
              "      <td>1340.241105</td>\n",
              "      <td>182256.095218</td>\n",
              "      <td>0.000000e+00</td>\n",
              "      <td>0.000000e+00</td>\n",
              "      <td>1818443</td>\n",
              "      <td>1.0</td>\n",
              "    </tr>\n",
              "    <tr>\n",
              "      <th>22783</th>\n",
              "      <td>279.497161</td>\n",
              "      <td>1354.401652</td>\n",
              "      <td>173417.081270</td>\n",
              "      <td>423.877685</td>\n",
              "      <td>1351.437443</td>\n",
              "      <td>173420.842229</td>\n",
              "      <td>1164.499818</td>\n",
              "      <td>1347.305493</td>\n",
              "      <td>174162.297970</td>\n",
              "      <td>11272.100364</td>\n",
              "      <td>...</td>\n",
              "      <td>-6.254832e-24</td>\n",
              "      <td>26505.350300</td>\n",
              "      <td>1340.769014</td>\n",
              "      <td>425.896764</td>\n",
              "      <td>1342.110856</td>\n",
              "      <td>181388.053575</td>\n",
              "      <td>0.000000e+00</td>\n",
              "      <td>0.000000e+00</td>\n",
              "      <td>1973930</td>\n",
              "      <td>1.0</td>\n",
              "    </tr>\n",
              "    <tr>\n",
              "      <th>22784</th>\n",
              "      <td>215.370942</td>\n",
              "      <td>1320.175905</td>\n",
              "      <td>203122.471743</td>\n",
              "      <td>357.520416</td>\n",
              "      <td>1325.906577</td>\n",
              "      <td>197601.243920</td>\n",
              "      <td>1096.324893</td>\n",
              "      <td>1336.764079</td>\n",
              "      <td>186204.374841</td>\n",
              "      <td>11215.552458</td>\n",
              "      <td>...</td>\n",
              "      <td>0.000000e+00</td>\n",
              "      <td>27326.032255</td>\n",
              "      <td>1340.362712</td>\n",
              "      <td>426.724354</td>\n",
              "      <td>1340.362712</td>\n",
              "      <td>182093.674144</td>\n",
              "      <td>0.000000e+00</td>\n",
              "      <td>0.000000e+00</td>\n",
              "      <td>1622233</td>\n",
              "      <td>1.0</td>\n",
              "    </tr>\n",
              "    <tr>\n",
              "      <th>22785</th>\n",
              "      <td>186.230335</td>\n",
              "      <td>1312.893411</td>\n",
              "      <td>129249.226441</td>\n",
              "      <td>308.535459</td>\n",
              "      <td>1306.278699</td>\n",
              "      <td>134718.639391</td>\n",
              "      <td>896.763421</td>\n",
              "      <td>1298.283485</td>\n",
              "      <td>140885.554792</td>\n",
              "      <td>8764.769225</td>\n",
              "      <td>...</td>\n",
              "      <td>-1.765324e-19</td>\n",
              "      <td>24083.186996</td>\n",
              "      <td>1335.491546</td>\n",
              "      <td>425.725709</td>\n",
              "      <td>1336.838684</td>\n",
              "      <td>181242.379322</td>\n",
              "      <td>-4.439829e-16</td>\n",
              "      <td>-1.093544e-12</td>\n",
              "      <td>1772502</td>\n",
              "      <td>1.0</td>\n",
              "    </tr>\n",
              "    <tr>\n",
              "      <th>22786</th>\n",
              "      <td>197.222271</td>\n",
              "      <td>1327.825229</td>\n",
              "      <td>195333.629859</td>\n",
              "      <td>341.560135</td>\n",
              "      <td>1334.101073</td>\n",
              "      <td>187557.054529</td>\n",
              "      <td>1082.319194</td>\n",
              "      <td>1341.630976</td>\n",
              "      <td>180256.188228</td>\n",
              "      <td>11184.897708</td>\n",
              "      <td>...</td>\n",
              "      <td>-2.793809e-25</td>\n",
              "      <td>26973.748596</td>\n",
              "      <td>1340.956453</td>\n",
              "      <td>425.655812</td>\n",
              "      <td>1342.298107</td>\n",
              "      <td>181182.870539</td>\n",
              "      <td>0.000000e+00</td>\n",
              "      <td>0.000000e+00</td>\n",
              "      <td>2051288</td>\n",
              "      <td>1.0</td>\n",
              "    </tr>\n",
              "  </tbody>\n",
              "</table>\n",
              "<p>22787 rows × 117 columns</p>\n",
              "</div>\n",
              "      <button class=\"colab-df-convert\" onclick=\"convertToInteractive('df-cf63bc07-15d6-4d57-88bd-8312dde9fd5c')\"\n",
              "              title=\"Convert this dataframe to an interactive table.\"\n",
              "              style=\"display:none;\">\n",
              "        \n",
              "  <svg xmlns=\"http://www.w3.org/2000/svg\" height=\"24px\"viewBox=\"0 0 24 24\"\n",
              "       width=\"24px\">\n",
              "    <path d=\"M0 0h24v24H0V0z\" fill=\"none\"/>\n",
              "    <path d=\"M18.56 5.44l.94 2.06.94-2.06 2.06-.94-2.06-.94-.94-2.06-.94 2.06-2.06.94zm-11 1L8.5 8.5l.94-2.06 2.06-.94-2.06-.94L8.5 2.5l-.94 2.06-2.06.94zm10 10l.94 2.06.94-2.06 2.06-.94-2.06-.94-.94-2.06-.94 2.06-2.06.94z\"/><path d=\"M17.41 7.96l-1.37-1.37c-.4-.4-.92-.59-1.43-.59-.52 0-1.04.2-1.43.59L10.3 9.45l-7.72 7.72c-.78.78-.78 2.05 0 2.83L4 21.41c.39.39.9.59 1.41.59.51 0 1.02-.2 1.41-.59l7.78-7.78 2.81-2.81c.8-.78.8-2.07 0-2.86zM5.41 20L4 18.59l7.72-7.72 1.47 1.35L5.41 20z\"/>\n",
              "  </svg>\n",
              "      </button>\n",
              "      \n",
              "  <style>\n",
              "    .colab-df-container {\n",
              "      display:flex;\n",
              "      flex-wrap:wrap;\n",
              "      gap: 12px;\n",
              "    }\n",
              "\n",
              "    .colab-df-convert {\n",
              "      background-color: #E8F0FE;\n",
              "      border: none;\n",
              "      border-radius: 50%;\n",
              "      cursor: pointer;\n",
              "      display: none;\n",
              "      fill: #1967D2;\n",
              "      height: 32px;\n",
              "      padding: 0 0 0 0;\n",
              "      width: 32px;\n",
              "    }\n",
              "\n",
              "    .colab-df-convert:hover {\n",
              "      background-color: #E2EBFA;\n",
              "      box-shadow: 0px 1px 2px rgba(60, 64, 67, 0.3), 0px 1px 3px 1px rgba(60, 64, 67, 0.15);\n",
              "      fill: #174EA6;\n",
              "    }\n",
              "\n",
              "    [theme=dark] .colab-df-convert {\n",
              "      background-color: #3B4455;\n",
              "      fill: #D2E3FC;\n",
              "    }\n",
              "\n",
              "    [theme=dark] .colab-df-convert:hover {\n",
              "      background-color: #434B5C;\n",
              "      box-shadow: 0px 1px 3px 1px rgba(0, 0, 0, 0.15);\n",
              "      filter: drop-shadow(0px 1px 2px rgba(0, 0, 0, 0.3));\n",
              "      fill: #FFFFFF;\n",
              "    }\n",
              "  </style>\n",
              "\n",
              "      <script>\n",
              "        const buttonEl =\n",
              "          document.querySelector('#df-cf63bc07-15d6-4d57-88bd-8312dde9fd5c button.colab-df-convert');\n",
              "        buttonEl.style.display =\n",
              "          google.colab.kernel.accessAllowed ? 'block' : 'none';\n",
              "\n",
              "        async function convertToInteractive(key) {\n",
              "          const element = document.querySelector('#df-cf63bc07-15d6-4d57-88bd-8312dde9fd5c');\n",
              "          const dataTable =\n",
              "            await google.colab.kernel.invokeFunction('convertToInteractive',\n",
              "                                                     [key], {});\n",
              "          if (!dataTable) return;\n",
              "\n",
              "          const docLinkHtml = 'Like what you see? Visit the ' +\n",
              "            '<a target=\"_blank\" href=https://colab.research.google.com/notebooks/data_table.ipynb>data table notebook</a>'\n",
              "            + ' to learn more about interactive tables.';\n",
              "          element.innerHTML = '';\n",
              "          dataTable['output_type'] = 'display_data';\n",
              "          await google.colab.output.renderOutput(dataTable, element);\n",
              "          const docLink = document.createElement('div');\n",
              "          docLink.innerHTML = docLinkHtml;\n",
              "          element.appendChild(docLink);\n",
              "        }\n",
              "      </script>\n",
              "    </div>\n",
              "  </div>\n",
              "  "
            ]
          },
          "metadata": {},
          "execution_count": 7
        }
      ],
      "source": [
        "# sampling data taking only 50% of the data\n",
        "# bin_data = bin_data_total.groupby('label', group_keys=False).apply(lambda x: x.sample(frac=0.5))\n",
        "bin_data = bin_data_total\n",
        "bin_data"
      ]
    },
    {
      "cell_type": "code",
      "source": [
        "number_of_cols = bin_data.shape[1]"
      ],
      "metadata": {
        "id": "N125Cc3Ukt8h"
      },
      "execution_count": 8,
      "outputs": []
    },
    {
      "cell_type": "code",
      "execution_count": 9,
      "metadata": {
        "colab": {
          "base_uri": "https://localhost:8080/"
        },
        "id": "nKX2TRG0J85J",
        "outputId": "6e3885d9-7d9e-40b5-bd3b-60f741bc1752"
      },
      "outputs": [
        {
          "output_type": "execute_result",
          "data": {
            "text/plain": [
              "0.0    0.594857\n",
              "1.0    0.405143\n",
              "Name: label, dtype: float64"
            ]
          },
          "metadata": {},
          "execution_count": 9
        }
      ],
      "source": [
        "# distribution of label class after sampling\n",
        "data_size = bin_data.shape[0]\n",
        "bin_data.label.value_counts()/data_size"
      ]
    },
    {
      "cell_type": "code",
      "execution_count": 10,
      "metadata": {
        "id": "L11T2MepDzax"
      },
      "outputs": [],
      "source": [
        "model_selection = {\n",
        "    0 : \"ALL\",\n",
        "    2 : \"MLP\",\n",
        "    3 : \"LSTM\",\n",
        "    4 : \"AE\"\n",
        "}\n",
        "model_flag = 0\n",
        "svm_enable = 1"
      ]
    },
    {
      "cell_type": "code",
      "execution_count": 11,
      "metadata": {
        "id": "OdRAXVlsxUVW"
      },
      "outputs": [],
      "source": [
        "X = bin_data.iloc[:,0:number_of_cols] # dataset excluding target attribute (encoded, one-hot-encoded,original)\n",
        "Y = bin_data['label'] # target attribute"
      ]
    },
    {
      "cell_type": "code",
      "execution_count": 12,
      "metadata": {
        "id": "lFdHHvRtxU5B"
      },
      "outputs": [],
      "source": [
        "# splitting the dataset 75% for training and 25% testing\n",
        "X_train, X_test, y_train, y_test = train_test_split(X,Y, test_size=0.25, random_state=42) "
      ]
    },
    {
      "cell_type": "code",
      "source": [
        "# calling the normalization() function\n",
        "X_train = normalization_train(X_train,numeric_cols)\n",
        "X_train.head()"
      ],
      "metadata": {
        "colab": {
          "base_uri": "https://localhost:8080/",
          "height": 317
        },
        "id": "SLLlMtsaYJdK",
        "outputId": "c310dd7b-11e5-4e27-ab7b-aa6571980dbd"
      },
      "execution_count": 13,
      "outputs": [
        {
          "output_type": "execute_result",
          "data": {
            "text/plain": [
              "             X1        X2        X3        X4        X5        X6        X7  \\\n",
              "2067   0.647706  0.964276  0.657642  0.745800  0.974162  0.690509  0.900142   \n",
              "17155  0.840232  0.984254  0.611020  0.839154  0.988107  0.659391  0.847826   \n",
              "15617  0.489192  0.983516  0.581309  0.508386  0.988686  0.625227  0.543014   \n",
              "9391   0.307704  0.917305  0.559350  0.353805  0.934509  0.555253  0.412036   \n",
              "12295  0.763026  0.955067  0.753151  0.817527  0.968088  0.751662  0.920082   \n",
              "\n",
              "             X8        X9       X10  ...      X108      X109      X110  \\\n",
              "2067   0.983433  0.740839  0.988330  ...  0.453754  0.767645  0.990766   \n",
              "17155  0.989077  0.731190  0.807871  ...  0.453754  0.852774  0.990058   \n",
              "15617  0.991151  0.698675  0.568161  ...  0.453754  0.793326  0.990260   \n",
              "9391   0.949095  0.570228  0.440565  ...  0.453754  0.724082  0.985723   \n",
              "12295  0.982452  0.755723  0.988519  ...  0.453754  0.428282  0.990240   \n",
              "\n",
              "           X111      X112      X113      X114     X115  Unnamed: 0  label  \n",
              "2067   0.811158  0.990766  0.657977  0.567813  0.44442    0.235583    0.0  \n",
              "17155  0.813077  0.990058  0.661094  0.567813  0.44442    0.604592    1.0  \n",
              "15617  0.812790  0.991298  0.660628  0.567813  0.44442    0.779857    1.0  \n",
              "9391   0.813697  0.985723  0.662103  0.567813  0.44442    0.199693    0.0  \n",
              "12295  0.812710  0.990240  0.660497  0.567813  0.44442    0.081276    0.0  \n",
              "\n",
              "[5 rows x 117 columns]"
            ],
            "text/html": [
              "\n",
              "  <div id=\"df-1f98d6a5-773d-48ed-85cd-1120e7bfc5b4\">\n",
              "    <div class=\"colab-df-container\">\n",
              "      <div>\n",
              "<style scoped>\n",
              "    .dataframe tbody tr th:only-of-type {\n",
              "        vertical-align: middle;\n",
              "    }\n",
              "\n",
              "    .dataframe tbody tr th {\n",
              "        vertical-align: top;\n",
              "    }\n",
              "\n",
              "    .dataframe thead th {\n",
              "        text-align: right;\n",
              "    }\n",
              "</style>\n",
              "<table border=\"1\" class=\"dataframe\">\n",
              "  <thead>\n",
              "    <tr style=\"text-align: right;\">\n",
              "      <th></th>\n",
              "      <th>X1</th>\n",
              "      <th>X2</th>\n",
              "      <th>X3</th>\n",
              "      <th>X4</th>\n",
              "      <th>X5</th>\n",
              "      <th>X6</th>\n",
              "      <th>X7</th>\n",
              "      <th>X8</th>\n",
              "      <th>X9</th>\n",
              "      <th>X10</th>\n",
              "      <th>...</th>\n",
              "      <th>X108</th>\n",
              "      <th>X109</th>\n",
              "      <th>X110</th>\n",
              "      <th>X111</th>\n",
              "      <th>X112</th>\n",
              "      <th>X113</th>\n",
              "      <th>X114</th>\n",
              "      <th>X115</th>\n",
              "      <th>Unnamed: 0</th>\n",
              "      <th>label</th>\n",
              "    </tr>\n",
              "  </thead>\n",
              "  <tbody>\n",
              "    <tr>\n",
              "      <th>2067</th>\n",
              "      <td>0.647706</td>\n",
              "      <td>0.964276</td>\n",
              "      <td>0.657642</td>\n",
              "      <td>0.745800</td>\n",
              "      <td>0.974162</td>\n",
              "      <td>0.690509</td>\n",
              "      <td>0.900142</td>\n",
              "      <td>0.983433</td>\n",
              "      <td>0.740839</td>\n",
              "      <td>0.988330</td>\n",
              "      <td>...</td>\n",
              "      <td>0.453754</td>\n",
              "      <td>0.767645</td>\n",
              "      <td>0.990766</td>\n",
              "      <td>0.811158</td>\n",
              "      <td>0.990766</td>\n",
              "      <td>0.657977</td>\n",
              "      <td>0.567813</td>\n",
              "      <td>0.44442</td>\n",
              "      <td>0.235583</td>\n",
              "      <td>0.0</td>\n",
              "    </tr>\n",
              "    <tr>\n",
              "      <th>17155</th>\n",
              "      <td>0.840232</td>\n",
              "      <td>0.984254</td>\n",
              "      <td>0.611020</td>\n",
              "      <td>0.839154</td>\n",
              "      <td>0.988107</td>\n",
              "      <td>0.659391</td>\n",
              "      <td>0.847826</td>\n",
              "      <td>0.989077</td>\n",
              "      <td>0.731190</td>\n",
              "      <td>0.807871</td>\n",
              "      <td>...</td>\n",
              "      <td>0.453754</td>\n",
              "      <td>0.852774</td>\n",
              "      <td>0.990058</td>\n",
              "      <td>0.813077</td>\n",
              "      <td>0.990058</td>\n",
              "      <td>0.661094</td>\n",
              "      <td>0.567813</td>\n",
              "      <td>0.44442</td>\n",
              "      <td>0.604592</td>\n",
              "      <td>1.0</td>\n",
              "    </tr>\n",
              "    <tr>\n",
              "      <th>15617</th>\n",
              "      <td>0.489192</td>\n",
              "      <td>0.983516</td>\n",
              "      <td>0.581309</td>\n",
              "      <td>0.508386</td>\n",
              "      <td>0.988686</td>\n",
              "      <td>0.625227</td>\n",
              "      <td>0.543014</td>\n",
              "      <td>0.991151</td>\n",
              "      <td>0.698675</td>\n",
              "      <td>0.568161</td>\n",
              "      <td>...</td>\n",
              "      <td>0.453754</td>\n",
              "      <td>0.793326</td>\n",
              "      <td>0.990260</td>\n",
              "      <td>0.812790</td>\n",
              "      <td>0.991298</td>\n",
              "      <td>0.660628</td>\n",
              "      <td>0.567813</td>\n",
              "      <td>0.44442</td>\n",
              "      <td>0.779857</td>\n",
              "      <td>1.0</td>\n",
              "    </tr>\n",
              "    <tr>\n",
              "      <th>9391</th>\n",
              "      <td>0.307704</td>\n",
              "      <td>0.917305</td>\n",
              "      <td>0.559350</td>\n",
              "      <td>0.353805</td>\n",
              "      <td>0.934509</td>\n",
              "      <td>0.555253</td>\n",
              "      <td>0.412036</td>\n",
              "      <td>0.949095</td>\n",
              "      <td>0.570228</td>\n",
              "      <td>0.440565</td>\n",
              "      <td>...</td>\n",
              "      <td>0.453754</td>\n",
              "      <td>0.724082</td>\n",
              "      <td>0.985723</td>\n",
              "      <td>0.813697</td>\n",
              "      <td>0.985723</td>\n",
              "      <td>0.662103</td>\n",
              "      <td>0.567813</td>\n",
              "      <td>0.44442</td>\n",
              "      <td>0.199693</td>\n",
              "      <td>0.0</td>\n",
              "    </tr>\n",
              "    <tr>\n",
              "      <th>12295</th>\n",
              "      <td>0.763026</td>\n",
              "      <td>0.955067</td>\n",
              "      <td>0.753151</td>\n",
              "      <td>0.817527</td>\n",
              "      <td>0.968088</td>\n",
              "      <td>0.751662</td>\n",
              "      <td>0.920082</td>\n",
              "      <td>0.982452</td>\n",
              "      <td>0.755723</td>\n",
              "      <td>0.988519</td>\n",
              "      <td>...</td>\n",
              "      <td>0.453754</td>\n",
              "      <td>0.428282</td>\n",
              "      <td>0.990240</td>\n",
              "      <td>0.812710</td>\n",
              "      <td>0.990240</td>\n",
              "      <td>0.660497</td>\n",
              "      <td>0.567813</td>\n",
              "      <td>0.44442</td>\n",
              "      <td>0.081276</td>\n",
              "      <td>0.0</td>\n",
              "    </tr>\n",
              "  </tbody>\n",
              "</table>\n",
              "<p>5 rows × 117 columns</p>\n",
              "</div>\n",
              "      <button class=\"colab-df-convert\" onclick=\"convertToInteractive('df-1f98d6a5-773d-48ed-85cd-1120e7bfc5b4')\"\n",
              "              title=\"Convert this dataframe to an interactive table.\"\n",
              "              style=\"display:none;\">\n",
              "        \n",
              "  <svg xmlns=\"http://www.w3.org/2000/svg\" height=\"24px\"viewBox=\"0 0 24 24\"\n",
              "       width=\"24px\">\n",
              "    <path d=\"M0 0h24v24H0V0z\" fill=\"none\"/>\n",
              "    <path d=\"M18.56 5.44l.94 2.06.94-2.06 2.06-.94-2.06-.94-.94-2.06-.94 2.06-2.06.94zm-11 1L8.5 8.5l.94-2.06 2.06-.94-2.06-.94L8.5 2.5l-.94 2.06-2.06.94zm10 10l.94 2.06.94-2.06 2.06-.94-2.06-.94-.94-2.06-.94 2.06-2.06.94z\"/><path d=\"M17.41 7.96l-1.37-1.37c-.4-.4-.92-.59-1.43-.59-.52 0-1.04.2-1.43.59L10.3 9.45l-7.72 7.72c-.78.78-.78 2.05 0 2.83L4 21.41c.39.39.9.59 1.41.59.51 0 1.02-.2 1.41-.59l7.78-7.78 2.81-2.81c.8-.78.8-2.07 0-2.86zM5.41 20L4 18.59l7.72-7.72 1.47 1.35L5.41 20z\"/>\n",
              "  </svg>\n",
              "      </button>\n",
              "      \n",
              "  <style>\n",
              "    .colab-df-container {\n",
              "      display:flex;\n",
              "      flex-wrap:wrap;\n",
              "      gap: 12px;\n",
              "    }\n",
              "\n",
              "    .colab-df-convert {\n",
              "      background-color: #E8F0FE;\n",
              "      border: none;\n",
              "      border-radius: 50%;\n",
              "      cursor: pointer;\n",
              "      display: none;\n",
              "      fill: #1967D2;\n",
              "      height: 32px;\n",
              "      padding: 0 0 0 0;\n",
              "      width: 32px;\n",
              "    }\n",
              "\n",
              "    .colab-df-convert:hover {\n",
              "      background-color: #E2EBFA;\n",
              "      box-shadow: 0px 1px 2px rgba(60, 64, 67, 0.3), 0px 1px 3px 1px rgba(60, 64, 67, 0.15);\n",
              "      fill: #174EA6;\n",
              "    }\n",
              "\n",
              "    [theme=dark] .colab-df-convert {\n",
              "      background-color: #3B4455;\n",
              "      fill: #D2E3FC;\n",
              "    }\n",
              "\n",
              "    [theme=dark] .colab-df-convert:hover {\n",
              "      background-color: #434B5C;\n",
              "      box-shadow: 0px 1px 3px 1px rgba(0, 0, 0, 0.15);\n",
              "      filter: drop-shadow(0px 1px 2px rgba(0, 0, 0, 0.3));\n",
              "      fill: #FFFFFF;\n",
              "    }\n",
              "  </style>\n",
              "\n",
              "      <script>\n",
              "        const buttonEl =\n",
              "          document.querySelector('#df-1f98d6a5-773d-48ed-85cd-1120e7bfc5b4 button.colab-df-convert');\n",
              "        buttonEl.style.display =\n",
              "          google.colab.kernel.accessAllowed ? 'block' : 'none';\n",
              "\n",
              "        async function convertToInteractive(key) {\n",
              "          const element = document.querySelector('#df-1f98d6a5-773d-48ed-85cd-1120e7bfc5b4');\n",
              "          const dataTable =\n",
              "            await google.colab.kernel.invokeFunction('convertToInteractive',\n",
              "                                                     [key], {});\n",
              "          if (!dataTable) return;\n",
              "\n",
              "          const docLinkHtml = 'Like what you see? Visit the ' +\n",
              "            '<a target=\"_blank\" href=https://colab.research.google.com/notebooks/data_table.ipynb>data table notebook</a>'\n",
              "            + ' to learn more about interactive tables.';\n",
              "          element.innerHTML = '';\n",
              "          dataTable['output_type'] = 'display_data';\n",
              "          await google.colab.output.renderOutput(dataTable, element);\n",
              "          const docLink = document.createElement('div');\n",
              "          docLink.innerHTML = docLinkHtml;\n",
              "          element.appendChild(docLink);\n",
              "        }\n",
              "      </script>\n",
              "    </div>\n",
              "  </div>\n",
              "  "
            ]
          },
          "metadata": {},
          "execution_count": 13
        }
      ]
    },
    {
      "cell_type": "code",
      "source": [
        "# calling the normalization() function\n",
        "X_test = normalization_test(X_test,numeric_cols)\n",
        "X_test.head()"
      ],
      "metadata": {
        "colab": {
          "base_uri": "https://localhost:8080/",
          "height": 317
        },
        "id": "EKmhgZCobPU3",
        "outputId": "0c993601-106b-42f8-fa24-bf32c307200e"
      },
      "execution_count": 14,
      "outputs": [
        {
          "output_type": "execute_result",
          "data": {
            "text/plain": [
              "             X1        X2        X3        X4        X5        X6        X7  \\\n",
              "14751 -0.000071  0.000432  0.085303 -0.000010  0.000434  0.083052  0.000313   \n",
              "5859   0.000026  0.000439  0.077320  0.000141  0.000440  0.076903  0.000717   \n",
              "4634  -0.000075  0.000432  0.047363 -0.000024  0.000429  0.050039  0.000230   \n",
              "20592 -0.000052  0.000426  0.062498 -0.000004  0.000423  0.063356  0.000247   \n",
              "3115   0.000022  0.000438  0.077219  0.000136  0.000438  0.077439  0.000712   \n",
              "\n",
              "             X8        X9       X10  ...     X108      X109      X110  \\\n",
              "14751  0.000437  0.080534  0.004750  ... -0.00015  0.010166  0.000438   \n",
              "5859   0.000439  0.078271  0.008279  ... -0.00015  0.003650  0.000438   \n",
              "4634   0.000425  0.054610  0.003668  ... -0.00015  0.011751  0.000436   \n",
              "20592  0.000420  0.062836  0.003690  ... -0.00015  0.007140  0.000389   \n",
              "3115   0.000438  0.078547  0.008475  ... -0.00015  0.006400  0.000438   \n",
              "\n",
              "           X111      X112      X113      X114     X115  Unnamed: 0  label  \n",
              "14751  0.000037  0.000439  0.079758 -0.000150 -0.00015    0.764249    1.0  \n",
              "5859   0.000037  0.000438  0.079641 -0.000150 -0.00015    0.047180    0.0  \n",
              "4634   0.000037  0.000436  0.079711 -0.000150 -0.00015    0.420229    0.0  \n",
              "20592 -0.000047  0.000390  0.023934 -0.000152 -0.00015    0.662844    1.0  \n",
              "3115   0.000037  0.000438  0.079566 -0.000150 -0.00015    0.098242    0.0  \n",
              "\n",
              "[5 rows x 117 columns]"
            ],
            "text/html": [
              "\n",
              "  <div id=\"df-25a6912e-4701-402f-94c9-bf489aaa63c2\">\n",
              "    <div class=\"colab-df-container\">\n",
              "      <div>\n",
              "<style scoped>\n",
              "    .dataframe tbody tr th:only-of-type {\n",
              "        vertical-align: middle;\n",
              "    }\n",
              "\n",
              "    .dataframe tbody tr th {\n",
              "        vertical-align: top;\n",
              "    }\n",
              "\n",
              "    .dataframe thead th {\n",
              "        text-align: right;\n",
              "    }\n",
              "</style>\n",
              "<table border=\"1\" class=\"dataframe\">\n",
              "  <thead>\n",
              "    <tr style=\"text-align: right;\">\n",
              "      <th></th>\n",
              "      <th>X1</th>\n",
              "      <th>X2</th>\n",
              "      <th>X3</th>\n",
              "      <th>X4</th>\n",
              "      <th>X5</th>\n",
              "      <th>X6</th>\n",
              "      <th>X7</th>\n",
              "      <th>X8</th>\n",
              "      <th>X9</th>\n",
              "      <th>X10</th>\n",
              "      <th>...</th>\n",
              "      <th>X108</th>\n",
              "      <th>X109</th>\n",
              "      <th>X110</th>\n",
              "      <th>X111</th>\n",
              "      <th>X112</th>\n",
              "      <th>X113</th>\n",
              "      <th>X114</th>\n",
              "      <th>X115</th>\n",
              "      <th>Unnamed: 0</th>\n",
              "      <th>label</th>\n",
              "    </tr>\n",
              "  </thead>\n",
              "  <tbody>\n",
              "    <tr>\n",
              "      <th>14751</th>\n",
              "      <td>-0.000071</td>\n",
              "      <td>0.000432</td>\n",
              "      <td>0.085303</td>\n",
              "      <td>-0.000010</td>\n",
              "      <td>0.000434</td>\n",
              "      <td>0.083052</td>\n",
              "      <td>0.000313</td>\n",
              "      <td>0.000437</td>\n",
              "      <td>0.080534</td>\n",
              "      <td>0.004750</td>\n",
              "      <td>...</td>\n",
              "      <td>-0.00015</td>\n",
              "      <td>0.010166</td>\n",
              "      <td>0.000438</td>\n",
              "      <td>0.000037</td>\n",
              "      <td>0.000439</td>\n",
              "      <td>0.079758</td>\n",
              "      <td>-0.000150</td>\n",
              "      <td>-0.00015</td>\n",
              "      <td>0.764249</td>\n",
              "      <td>1.0</td>\n",
              "    </tr>\n",
              "    <tr>\n",
              "      <th>5859</th>\n",
              "      <td>0.000026</td>\n",
              "      <td>0.000439</td>\n",
              "      <td>0.077320</td>\n",
              "      <td>0.000141</td>\n",
              "      <td>0.000440</td>\n",
              "      <td>0.076903</td>\n",
              "      <td>0.000717</td>\n",
              "      <td>0.000439</td>\n",
              "      <td>0.078271</td>\n",
              "      <td>0.008279</td>\n",
              "      <td>...</td>\n",
              "      <td>-0.00015</td>\n",
              "      <td>0.003650</td>\n",
              "      <td>0.000438</td>\n",
              "      <td>0.000037</td>\n",
              "      <td>0.000438</td>\n",
              "      <td>0.079641</td>\n",
              "      <td>-0.000150</td>\n",
              "      <td>-0.00015</td>\n",
              "      <td>0.047180</td>\n",
              "      <td>0.0</td>\n",
              "    </tr>\n",
              "    <tr>\n",
              "      <th>4634</th>\n",
              "      <td>-0.000075</td>\n",
              "      <td>0.000432</td>\n",
              "      <td>0.047363</td>\n",
              "      <td>-0.000024</td>\n",
              "      <td>0.000429</td>\n",
              "      <td>0.050039</td>\n",
              "      <td>0.000230</td>\n",
              "      <td>0.000425</td>\n",
              "      <td>0.054610</td>\n",
              "      <td>0.003668</td>\n",
              "      <td>...</td>\n",
              "      <td>-0.00015</td>\n",
              "      <td>0.011751</td>\n",
              "      <td>0.000436</td>\n",
              "      <td>0.000037</td>\n",
              "      <td>0.000436</td>\n",
              "      <td>0.079711</td>\n",
              "      <td>-0.000150</td>\n",
              "      <td>-0.00015</td>\n",
              "      <td>0.420229</td>\n",
              "      <td>0.0</td>\n",
              "    </tr>\n",
              "    <tr>\n",
              "      <th>20592</th>\n",
              "      <td>-0.000052</td>\n",
              "      <td>0.000426</td>\n",
              "      <td>0.062498</td>\n",
              "      <td>-0.000004</td>\n",
              "      <td>0.000423</td>\n",
              "      <td>0.063356</td>\n",
              "      <td>0.000247</td>\n",
              "      <td>0.000420</td>\n",
              "      <td>0.062836</td>\n",
              "      <td>0.003690</td>\n",
              "      <td>...</td>\n",
              "      <td>-0.00015</td>\n",
              "      <td>0.007140</td>\n",
              "      <td>0.000389</td>\n",
              "      <td>-0.000047</td>\n",
              "      <td>0.000390</td>\n",
              "      <td>0.023934</td>\n",
              "      <td>-0.000152</td>\n",
              "      <td>-0.00015</td>\n",
              "      <td>0.662844</td>\n",
              "      <td>1.0</td>\n",
              "    </tr>\n",
              "    <tr>\n",
              "      <th>3115</th>\n",
              "      <td>0.000022</td>\n",
              "      <td>0.000438</td>\n",
              "      <td>0.077219</td>\n",
              "      <td>0.000136</td>\n",
              "      <td>0.000438</td>\n",
              "      <td>0.077439</td>\n",
              "      <td>0.000712</td>\n",
              "      <td>0.000438</td>\n",
              "      <td>0.078547</td>\n",
              "      <td>0.008475</td>\n",
              "      <td>...</td>\n",
              "      <td>-0.00015</td>\n",
              "      <td>0.006400</td>\n",
              "      <td>0.000438</td>\n",
              "      <td>0.000037</td>\n",
              "      <td>0.000438</td>\n",
              "      <td>0.079566</td>\n",
              "      <td>-0.000150</td>\n",
              "      <td>-0.00015</td>\n",
              "      <td>0.098242</td>\n",
              "      <td>0.0</td>\n",
              "    </tr>\n",
              "  </tbody>\n",
              "</table>\n",
              "<p>5 rows × 117 columns</p>\n",
              "</div>\n",
              "      <button class=\"colab-df-convert\" onclick=\"convertToInteractive('df-25a6912e-4701-402f-94c9-bf489aaa63c2')\"\n",
              "              title=\"Convert this dataframe to an interactive table.\"\n",
              "              style=\"display:none;\">\n",
              "        \n",
              "  <svg xmlns=\"http://www.w3.org/2000/svg\" height=\"24px\"viewBox=\"0 0 24 24\"\n",
              "       width=\"24px\">\n",
              "    <path d=\"M0 0h24v24H0V0z\" fill=\"none\"/>\n",
              "    <path d=\"M18.56 5.44l.94 2.06.94-2.06 2.06-.94-2.06-.94-.94-2.06-.94 2.06-2.06.94zm-11 1L8.5 8.5l.94-2.06 2.06-.94-2.06-.94L8.5 2.5l-.94 2.06-2.06.94zm10 10l.94 2.06.94-2.06 2.06-.94-2.06-.94-.94-2.06-.94 2.06-2.06.94z\"/><path d=\"M17.41 7.96l-1.37-1.37c-.4-.4-.92-.59-1.43-.59-.52 0-1.04.2-1.43.59L10.3 9.45l-7.72 7.72c-.78.78-.78 2.05 0 2.83L4 21.41c.39.39.9.59 1.41.59.51 0 1.02-.2 1.41-.59l7.78-7.78 2.81-2.81c.8-.78.8-2.07 0-2.86zM5.41 20L4 18.59l7.72-7.72 1.47 1.35L5.41 20z\"/>\n",
              "  </svg>\n",
              "      </button>\n",
              "      \n",
              "  <style>\n",
              "    .colab-df-container {\n",
              "      display:flex;\n",
              "      flex-wrap:wrap;\n",
              "      gap: 12px;\n",
              "    }\n",
              "\n",
              "    .colab-df-convert {\n",
              "      background-color: #E8F0FE;\n",
              "      border: none;\n",
              "      border-radius: 50%;\n",
              "      cursor: pointer;\n",
              "      display: none;\n",
              "      fill: #1967D2;\n",
              "      height: 32px;\n",
              "      padding: 0 0 0 0;\n",
              "      width: 32px;\n",
              "    }\n",
              "\n",
              "    .colab-df-convert:hover {\n",
              "      background-color: #E2EBFA;\n",
              "      box-shadow: 0px 1px 2px rgba(60, 64, 67, 0.3), 0px 1px 3px 1px rgba(60, 64, 67, 0.15);\n",
              "      fill: #174EA6;\n",
              "    }\n",
              "\n",
              "    [theme=dark] .colab-df-convert {\n",
              "      background-color: #3B4455;\n",
              "      fill: #D2E3FC;\n",
              "    }\n",
              "\n",
              "    [theme=dark] .colab-df-convert:hover {\n",
              "      background-color: #434B5C;\n",
              "      box-shadow: 0px 1px 3px 1px rgba(0, 0, 0, 0.15);\n",
              "      filter: drop-shadow(0px 1px 2px rgba(0, 0, 0, 0.3));\n",
              "      fill: #FFFFFF;\n",
              "    }\n",
              "  </style>\n",
              "\n",
              "      <script>\n",
              "        const buttonEl =\n",
              "          document.querySelector('#df-25a6912e-4701-402f-94c9-bf489aaa63c2 button.colab-df-convert');\n",
              "        buttonEl.style.display =\n",
              "          google.colab.kernel.accessAllowed ? 'block' : 'none';\n",
              "\n",
              "        async function convertToInteractive(key) {\n",
              "          const element = document.querySelector('#df-25a6912e-4701-402f-94c9-bf489aaa63c2');\n",
              "          const dataTable =\n",
              "            await google.colab.kernel.invokeFunction('convertToInteractive',\n",
              "                                                     [key], {});\n",
              "          if (!dataTable) return;\n",
              "\n",
              "          const docLinkHtml = 'Like what you see? Visit the ' +\n",
              "            '<a target=\"_blank\" href=https://colab.research.google.com/notebooks/data_table.ipynb>data table notebook</a>'\n",
              "            + ' to learn more about interactive tables.';\n",
              "          element.innerHTML = '';\n",
              "          dataTable['output_type'] = 'display_data';\n",
              "          await google.colab.output.renderOutput(dataTable, element);\n",
              "          const docLink = document.createElement('div');\n",
              "          docLink.innerHTML = docLinkHtml;\n",
              "          element.appendChild(docLink);\n",
              "        }\n",
              "      </script>\n",
              "    </div>\n",
              "  </div>\n",
              "  "
            ]
          },
          "metadata": {},
          "execution_count": 14
        }
      ]
    },
    {
      "cell_type": "markdown",
      "metadata": {
        "id": "ZfAbEIDgz4iY"
      },
      "source": [
        "## **Linear Support Vector Machine Classifier (Binary Classification) **\n",
        "to enable make the svm_enable = 1 in the above cell"
      ]
    },
    {
      "cell_type": "code",
      "execution_count": 15,
      "metadata": {
        "id": "o8GdMBjdzFQT"
      },
      "outputs": [],
      "source": [
        "if svm_enable:\n",
        "  # using kernel as linear \n",
        "  lsvm = SVC(kernel='linear',gamma='auto') \n",
        "  lsvm.fit(X_train,y_train) # training model on training dataset"
      ]
    },
    {
      "cell_type": "code",
      "execution_count": 16,
      "metadata": {
        "id": "NjfYZA_9zTNK",
        "colab": {
          "base_uri": "https://localhost:8080/"
        },
        "outputId": "5ef61929-a83b-4098-9c49-4d0fc1fb3bb8"
      },
      "outputs": [
        {
          "output_type": "stream",
          "name": "stdout",
          "text": [
            "Saved model to disk\n",
            "Loaded model from disk\n"
          ]
        }
      ],
      "source": [
        "if svm_enable:\n",
        "  pkl_filename = \"/content/drive/MyDrive/Colab_Notebooks/Models/lsvm_binary\"+model_name_suffix+\".pkl\"\n",
        "  if (not path.isfile(pkl_filename)):\n",
        "    # saving the trained model to disk\n",
        "    with open(pkl_filename, 'wb') as file:\n",
        "      pickle.dump(lsvm, file)\n",
        "    print(\"Saved model to disk\")\n",
        "    # loading the trained model from disk\n",
        "    with open(pkl_filename, 'rb') as file:\n",
        "      lsvm = pickle.load(file)\n",
        "    print(\"Loaded model from disk\") "
      ]
    },
    {
      "cell_type": "code",
      "execution_count": 17,
      "metadata": {
        "id": "xsnN51Juzgcf",
        "colab": {
          "base_uri": "https://localhost:8080/"
        },
        "outputId": "def1ca22-4477-4a56-d184-4272b1f559cf"
      },
      "outputs": [
        {
          "output_type": "stream",
          "name": "stdout",
          "text": [
            "LSVM-Classifier Binary Set-Accuracy is  99.70159733192908\n"
          ]
        }
      ],
      "source": [
        "if svm_enable:\n",
        "  y_pred = lsvm.predict(X_test) # predicting target attribute on testing dataset\n",
        "  ac = accuracy_score(y_test, y_pred)*100 # calculating accuracy of predicted data\n",
        "  print(\"LSVM-Classifier Binary Set-Accuracy is \", ac)"
      ]
    },
    {
      "cell_type": "code",
      "execution_count": 18,
      "metadata": {
        "id": "qg2gbJTg8NtL"
      },
      "outputs": [],
      "source": [
        "# import matplotlib.pyplot as plt\n",
        "# from sklearn.datasets import make_classification\n",
        "# from sklearn.metrics import confusion_matrix, ConfusionMatrixDisplay\n",
        "# from sklearn.model_selection import train_test_split\n",
        "# from sklearn.svm import SVC\n",
        "# X, y = make_classification(random_state=0)\n",
        "# X_train, X_test, y_train, y_test = train_test_split(X, y,\n",
        "#                                                     random_state=0)\n",
        "# cm = confusion_matrix(y_test, y_pred, labels=lsvm.classes_)\n",
        "# disp = ConfusionMatrixDisplay(confusion_matrix=cm,\n",
        "#                               display_labels=lsvm.classes_)\n",
        "# disp.plot()\n",
        "\n",
        "# plt.show()"
      ]
    },
    {
      "cell_type": "code",
      "execution_count": 19,
      "metadata": {
        "id": "9IydNlzT5kx6",
        "colab": {
          "base_uri": "https://localhost:8080/",
          "height": 587
        },
        "outputId": "9b033189-980f-44cc-d05a-24266285e9e1"
      },
      "outputs": [
        {
          "output_type": "display_data",
          "data": {
            "text/plain": [
              "<Figure size 2000x800 with 1 Axes>"
            ],
            "image/png": "[encoded data removed]"
          },
          "metadata": {}
        }
      ],
      "source": [
        "if svm_enable:\n",
        "  plt.figure(figsize=(20,8))\n",
        "  plt.plot(y_pred[300:500], label=\"prediction\", linewidth=2.0,color='blue')\n",
        "  plt.plot(y_test[300:500].values, label=\"real_values\", linewidth=2.0,color='lightcoral')\n",
        "  plt.legend(loc=\"best\")\n",
        "  plt.ylim((-1,2))\n",
        "  plt.title(\"Linear SVM Binary Classification\")\n",
        "  plt.savefig('/content/drive/MyDrive/Colab_Notebooks/Plots/lsvm_real_pred_bin.png')\n",
        "  plt.show()"
      ]
    },
    {
      "cell_type": "code",
      "execution_count": 20,
      "metadata": {
        "id": "s9lqoveaUBvg",
        "colab": {
          "base_uri": "https://localhost:8080/"
        },
        "outputId": "24882b19-d68f-470d-852e-931450f9a1df"
      },
      "outputs": [
        {
          "output_type": "stream",
          "name": "stdout",
          "text": [
            "              precision    recall  f1-score   support\n",
            "\n",
            "     class 0       0.99      1.00      1.00      3362\n",
            "     class 1       1.00      0.99      1.00      2335\n",
            "\n",
            "    accuracy                           1.00      5697\n",
            "   macro avg       1.00      1.00      1.00      5697\n",
            "weighted avg       1.00      1.00      1.00      5697\n",
            "\n",
            "False Positive Rate -  [1. 0.]\n",
            "False Negative Rate -  [0.         0.00728051]\n",
            "Thresholds -  [0. 1.]\n"
          ]
        }
      ],
      "source": [
        "if svm_enable:\n",
        "  target_names = ['class 0', 'class 1']\n",
        "  print(classification_report(y_test, y_pred, target_names=target_names))\n",
        "  fpr, fnr, thresholds = det_curve(y_test, y_pred)\n",
        "  print(\"False Positive Rate - \", fpr)\n",
        "  print(\"False Negative Rate - \", fnr)\n",
        "  print(\"Thresholds - \", thresholds)"
      ]
    },
    {
      "cell_type": "code",
      "execution_count": 21,
      "metadata": {
        "id": "kWxBZhnw9t5n",
        "colab": {
          "base_uri": "https://localhost:8080/",
          "height": 449
        },
        "outputId": "64d3b9b3-49a6-4680-cbb5-a6598f693974"
      },
      "outputs": [
        {
          "output_type": "display_data",
          "data": {
            "text/plain": [
              "<Figure size 640x480 with 2 Axes>"
            ],
            "image/png": "[encoded data removed]"
          },
          "metadata": {}
        }
      ],
      "source": [
        "if svm_enable:\n",
        "  from sklearn.metrics import confusion_matrix, ConfusionMatrixDisplay\n",
        "\n",
        "  clf = lsvm\n",
        "  cm = confusion_matrix(y_test, y_pred, labels=clf.classes_)\n",
        "  disp = ConfusionMatrixDisplay(confusion_matrix=cm,\n",
        "                                display_labels=clf.classes_)\n",
        "  disp.plot()\n",
        "\n",
        "  plt.show()"
      ]
    },
    {
      "cell_type": "markdown",
      "metadata": {
        "id": "PUjrwY2l0_RI"
      },
      "source": [
        "## **Multi Layer Perceptron Classifier (Binary Classification)**"
      ]
    },
    {
      "cell_type": "code",
      "execution_count": 22,
      "metadata": {
        "id": "u9v5Ylpa1DHY"
      },
      "outputs": [],
      "source": [
        "if model_selection[model_flag]==\"ALL\" or model_selection[model_flag] == \"MLP\":\n",
        "  mlp = Sequential() # creating model\n",
        "\n",
        "  # adding input layer and first layer with 50 neurons\n",
        "  mlp.add(Dense(units=50, input_dim=X_train.shape[1], activation='relu'))\n",
        "  # output layer with sigmoid activation\n",
        "  mlp.add(Dense(units=1,activation='sigmoid'))"
      ]
    },
    {
      "cell_type": "code",
      "execution_count": 23,
      "metadata": {
        "id": "E-9M9d0p1p8s"
      },
      "outputs": [],
      "source": [
        "if model_selection[model_flag]==\"ALL\" or model_selection[model_flag] == \"MLP\":\n",
        "  # defining loss function, optimizer, metrics and then compiling model\n",
        "  mlp.compile(loss='binary_crossentropy', optimizer='adam', metrics=['accuracy'])"
      ]
    },
    {
      "cell_type": "code",
      "execution_count": 24,
      "metadata": {
        "id": "NK-1_akm1vO9",
        "colab": {
          "base_uri": "https://localhost:8080/"
        },
        "outputId": "f7d7ebfe-5f8e-4e76-f04c-7d0b9fa0c612"
      },
      "outputs": [
        {
          "output_type": "stream",
          "name": "stdout",
          "text": [
            "Model: \"sequential\"\n",
            "_________________________________________________________________\n",
            " Layer (type)                Output Shape              Param #   \n",
            "=================================================================\n",
            " dense (Dense)               (None, 50)                5900      \n",
            "                                                                 \n",
            " dense_1 (Dense)             (None, 1)                 51        \n",
            "                                                                 \n",
            "=================================================================\n",
            "Total params: 5,951\n",
            "Trainable params: 5,951\n",
            "Non-trainable params: 0\n",
            "_________________________________________________________________\n"
          ]
        }
      ],
      "source": [
        "if model_selection[model_flag]==\"ALL\" or model_selection[model_flag] == \"MLP\":\n",
        "  # summary of model layers\n",
        "  mlp.summary()"
      ]
    },
    {
      "cell_type": "code",
      "execution_count": 25,
      "metadata": {
        "id": "UYZ4xCgp13gP",
        "colab": {
          "base_uri": "https://localhost:8080/"
        },
        "outputId": "2c0e1fac-d379-4aa5-fcdd-2ab8b7a182ce"
      },
      "outputs": [
        {
          "output_type": "stream",
          "name": "stdout",
          "text": [
            "Epoch 1/100\n",
            "3/3 [==============================] - 6s 267ms/step - loss: 0.8537 - accuracy: 0.4019 - val_loss: 0.7338 - val_accuracy: 0.4102\n",
            "Epoch 2/100\n",
            "3/3 [==============================] - 0s 25ms/step - loss: 0.7086 - accuracy: 0.4710 - val_loss: 0.6672 - val_accuracy: 0.5828\n",
            "Epoch 3/100\n",
            "3/3 [==============================] - 0s 28ms/step - loss: 0.6628 - accuracy: 0.5853 - val_loss: 0.6618 - val_accuracy: 0.5898\n",
            "Epoch 4/100\n",
            "3/3 [==============================] - 0s 32ms/step - loss: 0.6571 - accuracy: 0.5979 - val_loss: 0.6542 - val_accuracy: 0.5907\n",
            "Epoch 5/100\n",
            "3/3 [==============================] - 0s 34ms/step - loss: 0.6458 - accuracy: 0.5984 - val_loss: 0.6392 - val_accuracy: 0.5907\n",
            "Epoch 6/100\n",
            "3/3 [==============================] - 0s 33ms/step - loss: 0.6303 - accuracy: 0.5984 - val_loss: 0.6230 - val_accuracy: 0.5907\n",
            "Epoch 7/100\n",
            "3/3 [==============================] - 0s 25ms/step - loss: 0.6175 - accuracy: 0.6033 - val_loss: 0.6120 - val_accuracy: 0.6153\n",
            "Epoch 8/100\n",
            "3/3 [==============================] - 0s 28ms/step - loss: 0.6065 - accuracy: 0.6370 - val_loss: 0.5940 - val_accuracy: 0.7510\n",
            "Epoch 9/100\n",
            "3/3 [==============================] - 0s 26ms/step - loss: 0.5878 - accuracy: 0.7452 - val_loss: 0.5790 - val_accuracy: 0.6539\n",
            "Epoch 10/100\n",
            "3/3 [==============================] - 0s 30ms/step - loss: 0.5751 - accuracy: 0.6396 - val_loss: 0.5706 - val_accuracy: 0.6147\n",
            "Epoch 11/100\n",
            "3/3 [==============================] - 0s 25ms/step - loss: 0.5657 - accuracy: 0.6221 - val_loss: 0.5605 - val_accuracy: 0.6267\n",
            "Epoch 12/100\n",
            "3/3 [==============================] - 0s 25ms/step - loss: 0.5553 - accuracy: 0.6526 - val_loss: 0.5498 - val_accuracy: 0.7346\n",
            "Epoch 13/100\n",
            "3/3 [==============================] - 0s 33ms/step - loss: 0.5447 - accuracy: 0.7882 - val_loss: 0.5370 - val_accuracy: 0.8487\n",
            "Epoch 14/100\n",
            "3/3 [==============================] - 0s 28ms/step - loss: 0.5322 - accuracy: 0.8521 - val_loss: 0.5267 - val_accuracy: 0.8379\n",
            "Epoch 15/100\n",
            "3/3 [==============================] - 0s 29ms/step - loss: 0.5227 - accuracy: 0.8435 - val_loss: 0.5184 - val_accuracy: 0.8438\n",
            "Epoch 16/100\n",
            "3/3 [==============================] - 0s 30ms/step - loss: 0.5143 - accuracy: 0.8517 - val_loss: 0.5098 - val_accuracy: 0.8672\n",
            "Epoch 17/100\n",
            "3/3 [==============================] - 0s 32ms/step - loss: 0.5057 - accuracy: 0.8812 - val_loss: 0.5010 - val_accuracy: 0.9067\n",
            "Epoch 18/100\n",
            "3/3 [==============================] - 0s 27ms/step - loss: 0.4971 - accuracy: 0.9097 - val_loss: 0.4926 - val_accuracy: 0.9213\n",
            "Epoch 19/100\n",
            "3/3 [==============================] - 0s 26ms/step - loss: 0.4888 - accuracy: 0.9220 - val_loss: 0.4842 - val_accuracy: 0.9248\n",
            "Epoch 20/100\n",
            "3/3 [==============================] - 0s 26ms/step - loss: 0.4805 - accuracy: 0.9244 - val_loss: 0.4760 - val_accuracy: 0.9222\n",
            "Epoch 21/100\n",
            "3/3 [==============================] - 0s 26ms/step - loss: 0.4719 - accuracy: 0.9239 - val_loss: 0.4659 - val_accuracy: 0.9239\n",
            "Epoch 22/100\n",
            "3/3 [==============================] - 0s 31ms/step - loss: 0.4610 - accuracy: 0.9280 - val_loss: 0.4548 - val_accuracy: 0.9286\n",
            "Epoch 23/100\n",
            "3/3 [==============================] - 0s 34ms/step - loss: 0.4513 - accuracy: 0.9272 - val_loss: 0.4462 - val_accuracy: 0.9274\n",
            "Epoch 24/100\n",
            "3/3 [==============================] - 0s 36ms/step - loss: 0.4421 - accuracy: 0.9273 - val_loss: 0.4354 - val_accuracy: 0.9283\n",
            "Epoch 25/100\n",
            "3/3 [==============================] - 0s 29ms/step - loss: 0.4297 - accuracy: 0.9282 - val_loss: 0.4207 - val_accuracy: 0.9254\n",
            "Epoch 26/100\n",
            "3/3 [==============================] - 0s 29ms/step - loss: 0.4166 - accuracy: 0.9264 - val_loss: 0.4113 - val_accuracy: 0.9239\n",
            "Epoch 27/100\n",
            "3/3 [==============================] - 0s 33ms/step - loss: 0.4079 - accuracy: 0.9201 - val_loss: 0.4028 - val_accuracy: 0.9187\n",
            "Epoch 28/100\n",
            "3/3 [==============================] - 0s 33ms/step - loss: 0.3995 - accuracy: 0.9193 - val_loss: 0.3946 - val_accuracy: 0.9248\n",
            "Epoch 29/100\n",
            "3/3 [==============================] - 0s 27ms/step - loss: 0.3911 - accuracy: 0.9252 - val_loss: 0.3863 - val_accuracy: 0.9269\n",
            "Epoch 30/100\n",
            "3/3 [==============================] - 0s 27ms/step - loss: 0.3827 - accuracy: 0.9241 - val_loss: 0.3780 - val_accuracy: 0.9239\n",
            "Epoch 31/100\n",
            "3/3 [==============================] - 0s 26ms/step - loss: 0.3746 - accuracy: 0.9247 - val_loss: 0.3700 - val_accuracy: 0.9301\n",
            "Epoch 32/100\n",
            "3/3 [==============================] - 0s 31ms/step - loss: 0.3666 - accuracy: 0.9299 - val_loss: 0.3622 - val_accuracy: 0.9324\n",
            "Epoch 33/100\n",
            "3/3 [==============================] - 0s 24ms/step - loss: 0.3587 - accuracy: 0.9321 - val_loss: 0.3542 - val_accuracy: 0.9348\n",
            "Epoch 34/100\n",
            "3/3 [==============================] - 0s 25ms/step - loss: 0.3508 - accuracy: 0.9345 - val_loss: 0.3462 - val_accuracy: 0.9389\n",
            "Epoch 35/100\n",
            "3/3 [==============================] - 0s 28ms/step - loss: 0.3429 - accuracy: 0.9389 - val_loss: 0.3386 - val_accuracy: 0.9427\n",
            "Epoch 36/100\n",
            "3/3 [==============================] - 0s 25ms/step - loss: 0.3354 - accuracy: 0.9434 - val_loss: 0.3310 - val_accuracy: 0.9465\n",
            "Epoch 37/100\n",
            "3/3 [==============================] - 0s 33ms/step - loss: 0.3282 - accuracy: 0.9459 - val_loss: 0.3238 - val_accuracy: 0.9514\n",
            "Epoch 38/100\n",
            "3/3 [==============================] - 0s 36ms/step - loss: 0.3209 - accuracy: 0.9504 - val_loss: 0.3170 - val_accuracy: 0.9523\n",
            "Epoch 39/100\n",
            "3/3 [==============================] - 0s 32ms/step - loss: 0.3139 - accuracy: 0.9547 - val_loss: 0.3098 - val_accuracy: 0.9579\n",
            "Epoch 40/100\n",
            "3/3 [==============================] - 0s 32ms/step - loss: 0.3069 - accuracy: 0.9588 - val_loss: 0.3030 - val_accuracy: 0.9611\n",
            "Epoch 41/100\n",
            "3/3 [==============================] - 0s 32ms/step - loss: 0.3001 - accuracy: 0.9618 - val_loss: 0.2965 - val_accuracy: 0.9628\n",
            "Epoch 42/100\n",
            "3/3 [==============================] - 0s 29ms/step - loss: 0.2934 - accuracy: 0.9650 - val_loss: 0.2898 - val_accuracy: 0.9658\n",
            "Epoch 43/100\n",
            "3/3 [==============================] - 0s 35ms/step - loss: 0.2870 - accuracy: 0.9688 - val_loss: 0.2834 - val_accuracy: 0.9672\n",
            "Epoch 44/100\n",
            "3/3 [==============================] - 0s 20ms/step - loss: 0.2806 - accuracy: 0.9702 - val_loss: 0.2773 - val_accuracy: 0.9681\n",
            "Epoch 45/100\n",
            "3/3 [==============================] - 0s 20ms/step - loss: 0.2743 - accuracy: 0.9732 - val_loss: 0.2709 - val_accuracy: 0.9722\n",
            "Epoch 46/100\n",
            "3/3 [==============================] - 0s 24ms/step - loss: 0.2682 - accuracy: 0.9757 - val_loss: 0.2647 - val_accuracy: 0.9722\n",
            "Epoch 47/100\n",
            "3/3 [==============================] - 0s 18ms/step - loss: 0.2602 - accuracy: 0.9771 - val_loss: 0.2510 - val_accuracy: 0.9748\n",
            "Epoch 48/100\n",
            "3/3 [==============================] - 0s 19ms/step - loss: 0.2469 - accuracy: 0.9795 - val_loss: 0.2420 - val_accuracy: 0.9754\n",
            "Epoch 49/100\n",
            "3/3 [==============================] - 0s 20ms/step - loss: 0.2395 - accuracy: 0.9778 - val_loss: 0.2362 - val_accuracy: 0.9757\n",
            "Epoch 50/100\n",
            "3/3 [==============================] - 0s 22ms/step - loss: 0.2336 - accuracy: 0.9816 - val_loss: 0.2301 - val_accuracy: 0.9792\n",
            "Epoch 51/100\n",
            "3/3 [==============================] - 0s 18ms/step - loss: 0.2275 - accuracy: 0.9827 - val_loss: 0.2247 - val_accuracy: 0.9783\n",
            "Epoch 52/100\n",
            "3/3 [==============================] - 0s 26ms/step - loss: 0.2216 - accuracy: 0.9833 - val_loss: 0.2173 - val_accuracy: 0.9810\n",
            "Epoch 53/100\n",
            "3/3 [==============================] - 0s 19ms/step - loss: 0.2146 - accuracy: 0.9860 - val_loss: 0.2117 - val_accuracy: 0.9813\n",
            "Epoch 54/100\n",
            "3/3 [==============================] - 0s 20ms/step - loss: 0.2089 - accuracy: 0.9874 - val_loss: 0.2060 - val_accuracy: 0.9854\n",
            "Epoch 55/100\n",
            "3/3 [==============================] - 0s 19ms/step - loss: 0.2034 - accuracy: 0.9884 - val_loss: 0.2007 - val_accuracy: 0.9862\n",
            "Epoch 56/100\n",
            "3/3 [==============================] - 0s 21ms/step - loss: 0.1982 - accuracy: 0.9887 - val_loss: 0.1952 - val_accuracy: 0.9862\n",
            "Epoch 57/100\n",
            "3/3 [==============================] - 0s 20ms/step - loss: 0.1926 - accuracy: 0.9892 - val_loss: 0.1895 - val_accuracy: 0.9865\n",
            "Epoch 58/100\n",
            "3/3 [==============================] - 0s 19ms/step - loss: 0.1859 - accuracy: 0.9901 - val_loss: 0.1806 - val_accuracy: 0.9883\n",
            "Epoch 59/100\n",
            "3/3 [==============================] - 0s 28ms/step - loss: 0.1782 - accuracy: 0.9917 - val_loss: 0.1758 - val_accuracy: 0.9889\n",
            "Epoch 60/100\n",
            "3/3 [==============================] - 0s 19ms/step - loss: 0.1733 - accuracy: 0.9915 - val_loss: 0.1706 - val_accuracy: 0.9892\n",
            "Epoch 61/100\n",
            "3/3 [==============================] - 0s 19ms/step - loss: 0.1685 - accuracy: 0.9925 - val_loss: 0.1661 - val_accuracy: 0.9895\n",
            "Epoch 62/100\n",
            "3/3 [==============================] - 0s 19ms/step - loss: 0.1639 - accuracy: 0.9921 - val_loss: 0.1614 - val_accuracy: 0.9898\n",
            "Epoch 63/100\n",
            "3/3 [==============================] - 0s 19ms/step - loss: 0.1592 - accuracy: 0.9933 - val_loss: 0.1570 - val_accuracy: 0.9895\n",
            "Epoch 64/100\n",
            "3/3 [==============================] - 0s 31ms/step - loss: 0.1548 - accuracy: 0.9931 - val_loss: 0.1530 - val_accuracy: 0.9903\n",
            "Epoch 65/100\n",
            "3/3 [==============================] - 0s 21ms/step - loss: 0.1506 - accuracy: 0.9934 - val_loss: 0.1486 - val_accuracy: 0.9906\n",
            "Epoch 66/100\n",
            "3/3 [==============================] - 0s 24ms/step - loss: 0.1465 - accuracy: 0.9939 - val_loss: 0.1444 - val_accuracy: 0.9906\n",
            "Epoch 67/100\n",
            "3/3 [==============================] - 0s 21ms/step - loss: 0.1420 - accuracy: 0.9938 - val_loss: 0.1386 - val_accuracy: 0.9915\n",
            "Epoch 68/100\n",
            "3/3 [==============================] - 0s 20ms/step - loss: 0.1357 - accuracy: 0.9947 - val_loss: 0.1327 - val_accuracy: 0.9927\n",
            "Epoch 69/100\n",
            "3/3 [==============================] - 0s 20ms/step - loss: 0.1308 - accuracy: 0.9949 - val_loss: 0.1291 - val_accuracy: 0.9930\n",
            "Epoch 70/100\n",
            "3/3 [==============================] - 0s 18ms/step - loss: 0.1271 - accuracy: 0.9953 - val_loss: 0.1255 - val_accuracy: 0.9933\n",
            "Epoch 71/100\n",
            "3/3 [==============================] - 0s 18ms/step - loss: 0.1236 - accuracy: 0.9955 - val_loss: 0.1222 - val_accuracy: 0.9933\n",
            "Epoch 72/100\n",
            "3/3 [==============================] - 0s 22ms/step - loss: 0.1203 - accuracy: 0.9955 - val_loss: 0.1189 - val_accuracy: 0.9930\n",
            "Epoch 73/100\n",
            "3/3 [==============================] - 0s 19ms/step - loss: 0.1170 - accuracy: 0.9959 - val_loss: 0.1157 - val_accuracy: 0.9936\n",
            "Epoch 74/100\n",
            "3/3 [==============================] - 0s 23ms/step - loss: 0.1139 - accuracy: 0.9961 - val_loss: 0.1127 - val_accuracy: 0.9930\n",
            "Epoch 75/100\n",
            "3/3 [==============================] - 0s 19ms/step - loss: 0.1109 - accuracy: 0.9961 - val_loss: 0.1097 - val_accuracy: 0.9933\n",
            "Epoch 76/100\n",
            "3/3 [==============================] - 0s 19ms/step - loss: 0.1079 - accuracy: 0.9961 - val_loss: 0.1069 - val_accuracy: 0.9933\n",
            "Epoch 77/100\n",
            "3/3 [==============================] - 0s 27ms/step - loss: 0.1052 - accuracy: 0.9964 - val_loss: 0.1042 - val_accuracy: 0.9930\n",
            "Epoch 78/100\n",
            "3/3 [==============================] - 0s 25ms/step - loss: 0.1025 - accuracy: 0.9964 - val_loss: 0.1016 - val_accuracy: 0.9939\n",
            "Epoch 79/100\n",
            "3/3 [==============================] - 0s 19ms/step - loss: 0.0998 - accuracy: 0.9964 - val_loss: 0.0991 - val_accuracy: 0.9936\n",
            "Epoch 80/100\n",
            "3/3 [==============================] - 0s 18ms/step - loss: 0.0974 - accuracy: 0.9964 - val_loss: 0.0966 - val_accuracy: 0.9941\n",
            "Epoch 81/100\n",
            "3/3 [==============================] - 0s 18ms/step - loss: 0.0949 - accuracy: 0.9964 - val_loss: 0.0943 - val_accuracy: 0.9941\n",
            "Epoch 82/100\n",
            "3/3 [==============================] - 0s 27ms/step - loss: 0.0926 - accuracy: 0.9964 - val_loss: 0.0920 - val_accuracy: 0.9944\n",
            "Epoch 83/100\n",
            "3/3 [==============================] - 0s 18ms/step - loss: 0.0904 - accuracy: 0.9966 - val_loss: 0.0898 - val_accuracy: 0.9944\n",
            "Epoch 84/100\n",
            "3/3 [==============================] - 0s 20ms/step - loss: 0.0882 - accuracy: 0.9965 - val_loss: 0.0877 - val_accuracy: 0.9944\n",
            "Epoch 85/100\n",
            "3/3 [==============================] - 0s 19ms/step - loss: 0.0861 - accuracy: 0.9966 - val_loss: 0.0857 - val_accuracy: 0.9956\n",
            "Epoch 86/100\n",
            "3/3 [==============================] - 0s 19ms/step - loss: 0.0841 - accuracy: 0.9967 - val_loss: 0.0837 - val_accuracy: 0.9953\n",
            "Epoch 87/100\n",
            "3/3 [==============================] - 0s 22ms/step - loss: 0.0821 - accuracy: 0.9968 - val_loss: 0.0818 - val_accuracy: 0.9956\n",
            "Epoch 88/100\n",
            "3/3 [==============================] - 0s 19ms/step - loss: 0.0802 - accuracy: 0.9968 - val_loss: 0.0800 - val_accuracy: 0.9947\n",
            "Epoch 89/100\n",
            "3/3 [==============================] - 0s 20ms/step - loss: 0.0785 - accuracy: 0.9969 - val_loss: 0.0783 - val_accuracy: 0.9962\n",
            "Epoch 90/100\n",
            "3/3 [==============================] - 0s 22ms/step - loss: 0.0767 - accuracy: 0.9971 - val_loss: 0.0765 - val_accuracy: 0.9953\n",
            "Epoch 91/100\n",
            "3/3 [==============================] - 0s 18ms/step - loss: 0.0750 - accuracy: 0.9970 - val_loss: 0.0749 - val_accuracy: 0.9962\n",
            "Epoch 92/100\n",
            "3/3 [==============================] - 0s 18ms/step - loss: 0.0734 - accuracy: 0.9971 - val_loss: 0.0732 - val_accuracy: 0.9962\n",
            "Epoch 93/100\n",
            "3/3 [==============================] - 0s 19ms/step - loss: 0.0717 - accuracy: 0.9971 - val_loss: 0.0717 - val_accuracy: 0.9965\n",
            "Epoch 94/100\n",
            "3/3 [==============================] - 0s 20ms/step - loss: 0.0702 - accuracy: 0.9972 - val_loss: 0.0702 - val_accuracy: 0.9965\n",
            "Epoch 95/100\n",
            "3/3 [==============================] - 0s 19ms/step - loss: 0.0687 - accuracy: 0.9971 - val_loss: 0.0687 - val_accuracy: 0.9965\n",
            "Epoch 96/100\n",
            "3/3 [==============================] - 0s 18ms/step - loss: 0.0673 - accuracy: 0.9972 - val_loss: 0.0673 - val_accuracy: 0.9965\n",
            "Epoch 97/100\n",
            "3/3 [==============================] - 0s 20ms/step - loss: 0.0659 - accuracy: 0.9974 - val_loss: 0.0660 - val_accuracy: 0.9965\n",
            "Epoch 98/100\n",
            "3/3 [==============================] - 0s 19ms/step - loss: 0.0646 - accuracy: 0.9972 - val_loss: 0.0646 - val_accuracy: 0.9965\n",
            "Epoch 99/100\n",
            "3/3 [==============================] - 0s 19ms/step - loss: 0.0632 - accuracy: 0.9976 - val_loss: 0.0634 - val_accuracy: 0.9971\n",
            "Epoch 100/100\n",
            "3/3 [==============================] - 0s 21ms/step - loss: 0.0620 - accuracy: 0.9975 - val_loss: 0.0621 - val_accuracy: 0.9965\n"
          ]
        }
      ],
      "source": [
        "if model_selection[model_flag]==\"ALL\" or model_selection[model_flag] == \"MLP\":\n",
        "  # training the model on training dataset\n",
        "  history = mlp.fit(X_train, y_train, epochs=100, batch_size=5000,validation_split=0.2)"
      ]
    },
    {
      "cell_type": "code",
      "execution_count": 26,
      "metadata": {
        "id": "_n_gNs3p1_M-",
        "colab": {
          "base_uri": "https://localhost:8080/"
        },
        "outputId": "589894d7-4709-40e9-c2d2-d68bf2fb2bf0"
      },
      "outputs": [
        {
          "output_type": "stream",
          "name": "stdout",
          "text": [
            "Saved model to disk\n",
            "Loaded model from disk\n"
          ]
        }
      ],
      "source": [
        "if model_selection[model_flag]==\"ALL\" or model_selection[model_flag] == \"MLP\":\n",
        "  filepath = '/content/drive/MyDrive/Colab_Notebooks/Models/mlp_binary'+model_name_suffix+'.json'\n",
        "  weightspath = '/content/drive/MyDrive/Colab_Notebooks/Weights/mlp_binary'+model_name_suffix+'.h5'\n",
        "  if (not path.isfile(filepath)):\n",
        "    # serialize model to JSON\n",
        "    mlp_json = mlp.to_json()\n",
        "    with open(filepath, \"w\") as json_file:\n",
        "      json_file.write(mlp_json)\n",
        "\n",
        "    # serialize weights to HDF5\n",
        "    mlp.save_weights(weightspath)\n",
        "    print(\"Saved model to disk\")\n",
        "\n",
        "    # load json and create model\n",
        "    json_file = open(filepath, 'r')\n",
        "    loaded_model_json = json_file.read()\n",
        "    json_file.close()\n",
        "    mlp = model_from_json(loaded_model_json)\n",
        "\n",
        "    # load weights into new model\n",
        "    mlp.load_weights(weightspath)\n",
        "    print(\"Loaded model from disk\")"
      ]
    },
    {
      "cell_type": "code",
      "execution_count": 27,
      "metadata": {
        "id": "G99OrVcT2JON"
      },
      "outputs": [],
      "source": [
        "if model_selection[model_flag]==\"ALL\" or model_selection[model_flag] == \"MLP\":\n",
        "  # defining loss function, optimizer, metrics and then compiling model\n",
        "  mlp.compile(loss='binary_crossentropy', optimizer='adam', metrics=['accuracy'])"
      ]
    },
    {
      "cell_type": "code",
      "execution_count": 28,
      "metadata": {
        "id": "AXUA0T2N2OIB",
        "colab": {
          "base_uri": "https://localhost:8080/"
        },
        "outputId": "af54defd-7ac4-42c7-d5e5-fe5074805af5"
      },
      "outputs": [
        {
          "output_type": "stream",
          "name": "stdout",
          "text": [
            "179/179 [==============================] - 1s 2ms/step - loss: 12971.3643 - accuracy: 0.5901\n",
            "Test results - Loss: 12971.3642578125 - Accuracy: 59.01351571083069\n"
          ]
        }
      ],
      "source": [
        "if model_selection[model_flag]==\"ALL\" or model_selection[model_flag] == \"MLP\":\n",
        "  # predicting target attribute on testing dataset\n",
        "  test_results = mlp.evaluate(X_test, y_test, verbose=1)\n",
        "  print(f'Test results - Loss: {test_results[0]} - Accuracy: {test_results[1]*100}')"
      ]
    },
    {
      "cell_type": "code",
      "execution_count": 29,
      "metadata": {
        "id": "StFTrhE65_-q",
        "colab": {
          "base_uri": "https://localhost:8080/",
          "height": 472
        },
        "outputId": "74381afa-e11f-41a5-c68f-1a9495d9477c"
      },
      "outputs": [
        {
          "output_type": "display_data",
          "data": {
            "text/plain": [
              "<Figure size 640x480 with 1 Axes>"
            ],
            "image/png": "[encoded data removed]"
          },
          "metadata": {}
        }
      ],
      "source": [
        "if model_selection[model_flag]==\"ALL\" or model_selection[model_flag] == \"MLP\":  \n",
        "  # Plot of accuracy vs epoch of train and test dataset\n",
        "  plt.plot(history.history['accuracy'])\n",
        "  plt.plot(history.history['val_accuracy'])\n",
        "  plt.title(\"Plot of accuracy vs epoch for train and test dataset\")\n",
        "  plt.ylabel('accuracy')\n",
        "  plt.xlabel('epoch')\n",
        "  plt.legend(['train', 'test'], loc='best')\n",
        "  plt.savefig('/content/drive/MyDrive/Colab_Notebooks/Plots/mlp_binary_accuracy.png')\n",
        "  plt.show()"
      ]
    },
    {
      "cell_type": "code",
      "execution_count": 30,
      "metadata": {
        "id": "rZes4PzY6JUq",
        "colab": {
          "base_uri": "https://localhost:8080/",
          "height": 472
        },
        "outputId": "f632c688-58e3-441a-f07a-0347e51bbb1a"
      },
      "outputs": [
        {
          "output_type": "display_data",
          "data": {
            "text/plain": [
              "<Figure size 640x480 with 1 Axes>"
            ],
            "image/png": "[encoded data removed]"
          },
          "metadata": {}
        }
      ],
      "source": [
        "if model_selection[model_flag]==\"ALL\" or model_selection[model_flag] == \"MLP\":\n",
        "  # Plot of loss vs epoch of train and test dataset\n",
        "  plt.plot(history.history['loss'])\n",
        "  plt.plot(history.history['val_loss'])\n",
        "  plt.title('Plot of loss vs epoch for train and test dataset')\n",
        "  plt.ylabel('loss')\n",
        "  plt.xlabel('epoch')\n",
        "  plt.legend(['train', 'test'], loc='best')\n",
        "  plt.savefig('/content/drive/MyDrive/Colab_Notebooks/Plots/mlp_binary_loss.png')\n",
        "  plt.show()"
      ]
    },
    {
      "cell_type": "code",
      "execution_count": 31,
      "metadata": {
        "id": "mC0nj-on6iRU"
      },
      "outputs": [],
      "source": [
        "if model_selection[model_flag]==\"ALL\" or model_selection[model_flag] == \"MLP\":\n",
        "  # representation of model layers\n",
        "  from keras.utils.vis_utils import plot_model\n",
        "  plot_model(mlp, to_file='/content/drive/MyDrive/Colab_Notebooks/Plots/mlp_binary.png', show_shapes=True,)"
      ]
    },
    {
      "cell_type": "code",
      "execution_count": 32,
      "metadata": {
        "id": "oxHdln0c6Xi_",
        "colab": {
          "base_uri": "https://localhost:8080/"
        },
        "outputId": "52d2f225-4e51-4d58-dd46-5a7d8990935a"
      },
      "outputs": [
        {
          "output_type": "stream",
          "name": "stdout",
          "text": [
            "179/179 [==============================] - 0s 1ms/step\n"
          ]
        }
      ],
      "source": [
        "if model_selection[model_flag]==\"ALL\" or model_selection[model_flag] == \"MLP\":\n",
        "  y_pred = mlp.predict(X_test).ravel()\n",
        "  fpr, tpr, thresholds = roc_curve(y_test, y_pred)\n",
        "  auc = auc(fpr, tpr)"
      ]
    },
    {
      "cell_type": "code",
      "execution_count": 33,
      "metadata": {
        "id": "Cr36q9Z-6aRU",
        "colab": {
          "base_uri": "https://localhost:8080/",
          "height": 472
        },
        "outputId": "ae9dc331-59ce-4be9-c436-e6a4c49266b5"
      },
      "outputs": [
        {
          "output_type": "display_data",
          "data": {
            "text/plain": [
              "<Figure size 640x480 with 1 Axes>"
            ],
            "image/png": "[encoded data removed]"
          },
          "metadata": {}
        }
      ],
      "source": [
        "if model_selection[model_flag]==\"ALL\" or model_selection[model_flag] == \"MLP\":\n",
        "  plt.plot([0, 1], [0, 1], 'k--')\n",
        "  plt.plot(fpr, tpr, label='Keras (area = {:.3f})'.format(auc))\n",
        "  plt.xlabel('False positive rate')\n",
        "  plt.ylabel('True positive rate')\n",
        "  plt.title('ROC curve')\n",
        "  plt.legend(loc='best')\n",
        "  plt.savefig('/content/drive/MyDrive/Colab_Notebooks/Plots/mlp_binary_roc.png')\n",
        "  plt.show()"
      ]
    },
    {
      "cell_type": "code",
      "execution_count": 34,
      "metadata": {
        "id": "U9f2bWPwFljk"
      },
      "outputs": [],
      "source": [
        "# real_data_kdd = bin_data.copy()\n",
        "\n",
        "# # Names of the columns that are discrete\n",
        "# cat_cols = real_data_kdd.select_dtypes(['object']).columns\n",
        "# # cat_cols\n",
        "# test_data = real_data_kdd.iloc[:999]\n",
        "\n",
        "# corr= test_data.corr()\n",
        "# corr_y = abs(corr['label'])\n",
        "# highest_corr = corr_y\n",
        "# highest_corr.sort_values(ascending=True)"
      ]
    },
    {
      "cell_type": "code",
      "execution_count": 35,
      "metadata": {
        "id": "8-clVdUoUPa-",
        "colab": {
          "base_uri": "https://localhost:8080/"
        },
        "outputId": "2d6fe016-d2fc-4a3b-b077-fdc9770771f9"
      },
      "outputs": [
        {
          "output_type": "stream",
          "name": "stdout",
          "text": [
            "179/179 [==============================] - 0s 1ms/step\n"
          ]
        }
      ],
      "source": [
        "if model_selection[model_flag]==\"ALL\" or model_selection[model_flag] == \"MLP\":\n",
        "  y_classes = (mlp.predict(X_test)>0.5).astype('int32')"
      ]
    },
    {
      "cell_type": "code",
      "execution_count": 36,
      "metadata": {
        "id": "0jcFqEqFT-uq",
        "colab": {
          "base_uri": "https://localhost:8080/"
        },
        "outputId": "dbdc8577-89af-44f9-863b-dc783a10433a"
      },
      "outputs": [
        {
          "output_type": "stream",
          "name": "stdout",
          "text": [
            "Recall Score -  0.0\n",
            "F1 Score -  0.0\n",
            "Precision Score -  0.0\n",
            "False Positive Rate -  [1.]\n",
            "False Negative Rate -  [0.]\n",
            "Thresholds -  [0]\n"
          ]
        },
        {
          "output_type": "stream",
          "name": "stderr",
          "text": [
            "/usr/local/lib/python3.9/dist-packages/sklearn/metrics/_classification.py:1344: UndefinedMetricWarning: Precision is ill-defined and being set to 0.0 due to no predicted samples. Use `zero_division` parameter to control this behavior.\n",
            "  _warn_prf(average, modifier, msg_start, len(result))\n"
          ]
        }
      ],
      "source": [
        "if model_selection[model_flag]==\"ALL\" or model_selection[model_flag] == \"MLP\":\n",
        "  print(\"Recall Score - \",recall_score(y_test,y_classes))\n",
        "  print(\"F1 Score - \",f1_score(y_test,y_classes))\n",
        "  print(\"Precision Score - \",precision_score(y_test,y_classes))\n",
        "  fpr, fnr, thresholds = det_curve(y_test, y_classes)\n",
        "  print(\"False Positive Rate - \", fpr)\n",
        "  print(\"False Negative Rate - \", fnr)\n",
        "  print(\"Thresholds - \", thresholds)"
      ]
    },
    {
      "cell_type": "code",
      "source": [
        "print(classification_report(y_test, y_classes, target_names=['0', '1']))\n",
        "cm = confusion_matrix(y_test, y_classes)\n",
        "disp = ConfusionMatrixDisplay(confusion_matrix=cm,\n",
        "                              display_labels=['0', '1'])\n",
        "disp.plot()\n",
        "\n",
        "plt.show()"
      ],
      "metadata": {
        "id": "3HJB6IXJsxjg",
        "colab": {
          "base_uri": "https://localhost:8080/",
          "height": 737
        },
        "outputId": "39f437e6-c5e1-4ff5-9467-c2662705bac7"
      },
      "execution_count": 37,
      "outputs": [
        {
          "output_type": "stream",
          "name": "stdout",
          "text": [
            "              precision    recall  f1-score   support\n",
            "\n",
            "           0       0.59      1.00      0.74      3362\n",
            "           1       0.00      0.00      0.00      2335\n",
            "\n",
            "    accuracy                           0.59      5697\n",
            "   macro avg       0.30      0.50      0.37      5697\n",
            "weighted avg       0.35      0.59      0.44      5697\n",
            "\n"
          ]
        },
        {
          "output_type": "stream",
          "name": "stderr",
          "text": [
            "/usr/local/lib/python3.9/dist-packages/sklearn/metrics/_classification.py:1344: UndefinedMetricWarning: Precision and F-score are ill-defined and being set to 0.0 in labels with no predicted samples. Use `zero_division` parameter to control this behavior.\n",
            "  _warn_prf(average, modifier, msg_start, len(result))\n",
            "/usr/local/lib/python3.9/dist-packages/sklearn/metrics/_classification.py:1344: UndefinedMetricWarning: Precision and F-score are ill-defined and being set to 0.0 in labels with no predicted samples. Use `zero_division` parameter to control this behavior.\n",
            "  _warn_prf(average, modifier, msg_start, len(result))\n",
            "/usr/local/lib/python3.9/dist-packages/sklearn/metrics/_classification.py:1344: UndefinedMetricWarning: Precision and F-score are ill-defined and being set to 0.0 in labels with no predicted samples. Use `zero_division` parameter to control this behavior.\n",
            "  _warn_prf(average, modifier, msg_start, len(result))\n"
          ]
        },
        {
          "output_type": "display_data",
          "data": {
            "text/plain": [
              "<Figure size 640x480 with 2 Axes>"
            ],
            "image/png": "[encoded data removed]"
          },
          "metadata": {}
        }
      ]
    },
    {
      "cell_type": "markdown",
      "source": [
        "# **Correlation** Matrix of Features"
      ],
      "metadata": {
        "id": "j7BKdCwqs2RE"
      }
    },
    {
      "cell_type": "code",
      "execution_count": 38,
      "metadata": {
        "id": "TL8zt-tHLt90",
        "colab": {
          "base_uri": "https://localhost:8080/"
        },
        "outputId": "7877a4f5-65b2-4680-ea05-4e9b128976e5"
      },
      "outputs": [
        {
          "output_type": "execute_result",
          "data": {
            "text/plain": [
              "X31           0.306617\n",
              "X66           0.306617\n",
              "X1            0.306809\n",
              "X16           0.306809\n",
              "X38           0.319298\n",
              "X69           0.319298\n",
              "X19           0.319523\n",
              "X4            0.319523\n",
              "X72           0.327838\n",
              "X45           0.327838\n",
              "X22           0.328080\n",
              "X7            0.328080\n",
              "X75           0.330259\n",
              "X52           0.330259\n",
              "X25           0.330498\n",
              "X10           0.330498\n",
              "X64           0.404240\n",
              "Unnamed: 0    0.812669\n",
              "label         1.000000\n",
              "Name: label, dtype: float64"
            ]
          },
          "metadata": {},
          "execution_count": 38
        }
      ],
      "source": [
        "corr= bin_data.corr()\n",
        "corr_y = abs(corr['label'])\n",
        "highest_corr = corr_y[corr_y >0.3]\n",
        "highest_corr.sort_values(ascending=True)"
      ]
    },
    {
      "cell_type": "code",
      "source": [
        "plt.matshow(corr)\n",
        "plt.show()"
      ],
      "metadata": {
        "colab": {
          "base_uri": "https://localhost:8080/",
          "height": 437
        },
        "id": "q4b094WVtQQ7",
        "outputId": "f185b9d8-542b-42e0-c94b-d35a237ec50f"
      },
      "execution_count": 39,
      "outputs": [
        {
          "output_type": "display_data",
          "data": {
            "text/plain": [
              "<Figure size 480x480 with 1 Axes>"
            ],
            "image/png": "[encoded data removed]"
          },
          "metadata": {}
        }
      ]
    },
    {
      "cell_type": "markdown",
      "metadata": {
        "id": "ZHhtNjFLPj6Y"
      },
      "source": [
        "## **LSTM Classifier**"
      ]
    },
    {
      "cell_type": "code",
      "execution_count": 40,
      "metadata": {
        "id": "DTNPkQMNL5Eh",
        "colab": {
          "base_uri": "https://localhost:8080/"
        },
        "outputId": "3bada7e2-1d39-4222-ccc9-04a20169c1c8"
      },
      "outputs": [
        {
          "output_type": "execute_result",
          "data": {
            "text/plain": [
              "(17090, 117)"
            ]
          },
          "metadata": {},
          "execution_count": 40
        }
      ],
      "source": [
        "X_train = np.array(X_train)\n",
        "X_test = np.array(X_test)\n",
        "# y_train.shape   #(18896,)\n",
        "X_train.shape"
      ]
    },
    {
      "cell_type": "code",
      "execution_count": 41,
      "metadata": {
        "id": "9n-QlBDXPMl4",
        "colab": {
          "base_uri": "https://localhost:8080/"
        },
        "outputId": "7728f4ff-00a8-4aaf-d9f6-0aca7f466100"
      },
      "outputs": [
        {
          "output_type": "execute_result",
          "data": {
            "text/plain": [
              "numpy.ndarray"
            ]
          },
          "metadata": {},
          "execution_count": 41
        }
      ],
      "source": [
        "y_train = np.array(y_train)\n",
        "type(y_train)"
      ]
    },
    {
      "cell_type": "code",
      "execution_count": 42,
      "metadata": {
        "id": "-8Ro_ZRQPdZz",
        "colab": {
          "base_uri": "https://localhost:8080/"
        },
        "outputId": "5e5febbf-6437-4f91-816a-e833d066ce5d"
      },
      "outputs": [
        {
          "output_type": "execute_result",
          "data": {
            "text/plain": [
              "(17090, 1, 117)"
            ]
          },
          "metadata": {},
          "execution_count": 42
        }
      ],
      "source": [
        "x_train = np.reshape(X_train, (X_train.shape[0],1,X_train.shape[1]))\n",
        "x_train.shape"
      ]
    },
    {
      "cell_type": "code",
      "source": [
        "x_train.shape[2]"
      ],
      "metadata": {
        "colab": {
          "base_uri": "https://localhost:8080/"
        },
        "id": "EuvuETcGpkje",
        "outputId": "b9e5d42f-cd2e-479d-a4ca-68d332bd6ff7"
      },
      "execution_count": 43,
      "outputs": [
        {
          "output_type": "execute_result",
          "data": {
            "text/plain": [
              "117"
            ]
          },
          "metadata": {},
          "execution_count": 43
        }
      ]
    },
    {
      "cell_type": "code",
      "execution_count": 44,
      "metadata": {
        "id": "pLIl946zQQwG",
        "colab": {
          "base_uri": "https://localhost:8080/"
        },
        "outputId": "a40b7a10-a756-46dc-ebfe-e85493fcc516"
      },
      "outputs": [
        {
          "output_type": "execute_result",
          "data": {
            "text/plain": [
              "(5697, 1, 117)"
            ]
          },
          "metadata": {},
          "execution_count": 44
        }
      ],
      "source": [
        "x_test = np.reshape(X_test, (X_test.shape[0],1,X_test.shape[1]))\n",
        "x_test.shape"
      ]
    },
    {
      "cell_type": "code",
      "execution_count": 45,
      "metadata": {
        "id": "jWsrkPEmQcY7"
      },
      "outputs": [],
      "source": [
        "if model_selection[model_flag]==\"ALL\" or model_selection[model_flag] == \"LSTM\":\n",
        "  lst = Sequential()\n",
        "  # input layer and LSTM layer with 50 neurons\n",
        "  input_features = x_train.shape[2]\n",
        "  lst.add(LSTM(50,input_dim=input_features))\n",
        "\n",
        "  # outpute layer with sigmoid activation\n",
        "  lst.add(Dense(1,activation='sigmoid'))"
      ]
    },
    {
      "cell_type": "code",
      "execution_count": 46,
      "metadata": {
        "id": "UEmba1H9Q_qj"
      },
      "outputs": [],
      "source": [
        "if model_selection[model_flag]==\"ALL\" or model_selection[model_flag] == \"LSTM\":\n",
        "  # defining loss function, optimizer, metrics and then compiling model\n",
        "  lst.compile(loss='binary_crossentropy',optimizer='adam',metrics=['accuracy'])"
      ]
    },
    {
      "cell_type": "code",
      "execution_count": 47,
      "metadata": {
        "id": "anR58jV2RCtz",
        "colab": {
          "base_uri": "https://localhost:8080/"
        },
        "outputId": "65d7c302-c978-4168-a8c0-ba38a5435a0c"
      },
      "outputs": [
        {
          "output_type": "stream",
          "name": "stdout",
          "text": [
            "Model: \"sequential_1\"\n",
            "_________________________________________________________________\n",
            " Layer (type)                Output Shape              Param #   \n",
            "=================================================================\n",
            " lstm (LSTM)                 (None, 50)                33600     \n",
            "                                                                 \n",
            " dense_2 (Dense)             (None, 1)                 51        \n",
            "                                                                 \n",
            "=================================================================\n",
            "Total params: 33,651\n",
            "Trainable params: 33,651\n",
            "Non-trainable params: 0\n",
            "_________________________________________________________________\n"
          ]
        }
      ],
      "source": [
        "if model_selection[model_flag]==\"ALL\" or model_selection[model_flag] == \"LSTM\":\n",
        "  # summary of model layers\n",
        "  lst.summary()"
      ]
    },
    {
      "cell_type": "code",
      "execution_count": 48,
      "metadata": {
        "id": "_Pa4Qi12RJS_",
        "colab": {
          "base_uri": "https://localhost:8080/"
        },
        "outputId": "d386971e-41ff-4bd9-9655-e20e62339528"
      },
      "outputs": [
        {
          "output_type": "stream",
          "name": "stdout",
          "text": [
            "Epoch 1/100\n",
            "3/3 [==============================] - 4s 330ms/step - loss: 0.6715 - accuracy: 0.5981 - val_loss: 0.6602 - val_accuracy: 0.5898\n",
            "Epoch 2/100\n",
            "3/3 [==============================] - 0s 30ms/step - loss: 0.6515 - accuracy: 0.5981 - val_loss: 0.6402 - val_accuracy: 0.5898\n",
            "Epoch 3/100\n",
            "3/3 [==============================] - 0s 37ms/step - loss: 0.6321 - accuracy: 0.5981 - val_loss: 0.6215 - val_accuracy: 0.5898\n",
            "Epoch 4/100\n",
            "3/3 [==============================] - 0s 37ms/step - loss: 0.6139 - accuracy: 0.5989 - val_loss: 0.6041 - val_accuracy: 0.5930\n",
            "Epoch 5/100\n",
            "3/3 [==============================] - 0s 34ms/step - loss: 0.5966 - accuracy: 0.6032 - val_loss: 0.5870 - val_accuracy: 0.6074\n",
            "Epoch 6/100\n",
            "3/3 [==============================] - 0s 23ms/step - loss: 0.5795 - accuracy: 0.6319 - val_loss: 0.5692 - val_accuracy: 0.6413\n",
            "Epoch 7/100\n",
            "3/3 [==============================] - 0s 18ms/step - loss: 0.5611 - accuracy: 0.6694 - val_loss: 0.5501 - val_accuracy: 0.7695\n",
            "Epoch 8/100\n",
            "3/3 [==============================] - 0s 18ms/step - loss: 0.5424 - accuracy: 0.8139 - val_loss: 0.5320 - val_accuracy: 0.8388\n",
            "Epoch 9/100\n",
            "3/3 [==============================] - 0s 20ms/step - loss: 0.5248 - accuracy: 0.8295 - val_loss: 0.5151 - val_accuracy: 0.8540\n",
            "Epoch 10/100\n",
            "3/3 [==============================] - 0s 25ms/step - loss: 0.5080 - accuracy: 0.8868 - val_loss: 0.4983 - val_accuracy: 0.8964\n",
            "Epoch 11/100\n",
            "3/3 [==============================] - 0s 22ms/step - loss: 0.4913 - accuracy: 0.8933 - val_loss: 0.4830 - val_accuracy: 0.8809\n",
            "Epoch 12/100\n",
            "3/3 [==============================] - 0s 20ms/step - loss: 0.4755 - accuracy: 0.8955 - val_loss: 0.4673 - val_accuracy: 0.8865\n",
            "Epoch 13/100\n",
            "3/3 [==============================] - 0s 22ms/step - loss: 0.4609 - accuracy: 0.8906 - val_loss: 0.4534 - val_accuracy: 0.8958\n",
            "Epoch 14/100\n",
            "3/3 [==============================] - 0s 19ms/step - loss: 0.4465 - accuracy: 0.8999 - val_loss: 0.4390 - val_accuracy: 0.8806\n",
            "Epoch 15/100\n",
            "3/3 [==============================] - 0s 19ms/step - loss: 0.4328 - accuracy: 0.8773 - val_loss: 0.4259 - val_accuracy: 0.8865\n",
            "Epoch 16/100\n",
            "3/3 [==============================] - 0s 24ms/step - loss: 0.4197 - accuracy: 0.8900 - val_loss: 0.4131 - val_accuracy: 0.8792\n",
            "Epoch 17/100\n",
            "3/3 [==============================] - 0s 20ms/step - loss: 0.4071 - accuracy: 0.8790 - val_loss: 0.4009 - val_accuracy: 0.8821\n",
            "Epoch 18/100\n",
            "3/3 [==============================] - 0s 20ms/step - loss: 0.3949 - accuracy: 0.8858 - val_loss: 0.3893 - val_accuracy: 0.8888\n",
            "Epoch 19/100\n",
            "3/3 [==============================] - 0s 23ms/step - loss: 0.3831 - accuracy: 0.8885 - val_loss: 0.3776 - val_accuracy: 0.8868\n",
            "Epoch 20/100\n",
            "3/3 [==============================] - 0s 19ms/step - loss: 0.3720 - accuracy: 0.8940 - val_loss: 0.3665 - val_accuracy: 0.8964\n",
            "Epoch 21/100\n",
            "3/3 [==============================] - 0s 19ms/step - loss: 0.3611 - accuracy: 0.8969 - val_loss: 0.3557 - val_accuracy: 0.9032\n",
            "Epoch 22/100\n",
            "3/3 [==============================] - 0s 22ms/step - loss: 0.3501 - accuracy: 0.9100 - val_loss: 0.3452 - val_accuracy: 0.9105\n",
            "Epoch 23/100\n",
            "3/3 [==============================] - 0s 19ms/step - loss: 0.3397 - accuracy: 0.9139 - val_loss: 0.3350 - val_accuracy: 0.9204\n",
            "Epoch 24/100\n",
            "3/3 [==============================] - 0s 19ms/step - loss: 0.3293 - accuracy: 0.9244 - val_loss: 0.3251 - val_accuracy: 0.9260\n",
            "Epoch 25/100\n",
            "3/3 [==============================] - 0s 21ms/step - loss: 0.3193 - accuracy: 0.9310 - val_loss: 0.3150 - val_accuracy: 0.9307\n",
            "Epoch 26/100\n",
            "3/3 [==============================] - 0s 19ms/step - loss: 0.3095 - accuracy: 0.9375 - val_loss: 0.3057 - val_accuracy: 0.9339\n",
            "Epoch 27/100\n",
            "3/3 [==============================] - 0s 18ms/step - loss: 0.3001 - accuracy: 0.9445 - val_loss: 0.2958 - val_accuracy: 0.9473\n",
            "Epoch 28/100\n",
            "3/3 [==============================] - 0s 27ms/step - loss: 0.2908 - accuracy: 0.9481 - val_loss: 0.2865 - val_accuracy: 0.9608\n",
            "Epoch 29/100\n",
            "3/3 [==============================] - 0s 20ms/step - loss: 0.2823 - accuracy: 0.9639 - val_loss: 0.2783 - val_accuracy: 0.9561\n",
            "Epoch 30/100\n",
            "3/3 [==============================] - 0s 22ms/step - loss: 0.2730 - accuracy: 0.9610 - val_loss: 0.2691 - val_accuracy: 0.9754\n",
            "Epoch 31/100\n",
            "3/3 [==============================] - 0s 21ms/step - loss: 0.2648 - accuracy: 0.9782 - val_loss: 0.2609 - val_accuracy: 0.9725\n",
            "Epoch 32/100\n",
            "3/3 [==============================] - 0s 18ms/step - loss: 0.2560 - accuracy: 0.9756 - val_loss: 0.2521 - val_accuracy: 0.9781\n",
            "Epoch 33/100\n",
            "3/3 [==============================] - 0s 20ms/step - loss: 0.2480 - accuracy: 0.9826 - val_loss: 0.2449 - val_accuracy: 0.9754\n",
            "Epoch 34/100\n",
            "3/3 [==============================] - 0s 19ms/step - loss: 0.2402 - accuracy: 0.9794 - val_loss: 0.2366 - val_accuracy: 0.9813\n",
            "Epoch 35/100\n",
            "3/3 [==============================] - 0s 19ms/step - loss: 0.2325 - accuracy: 0.9850 - val_loss: 0.2292 - val_accuracy: 0.9778\n",
            "Epoch 36/100\n",
            "3/3 [==============================] - 0s 21ms/step - loss: 0.2248 - accuracy: 0.9832 - val_loss: 0.2214 - val_accuracy: 0.9833\n",
            "Epoch 37/100\n",
            "3/3 [==============================] - 0s 19ms/step - loss: 0.2174 - accuracy: 0.9868 - val_loss: 0.2147 - val_accuracy: 0.9816\n",
            "Epoch 38/100\n",
            "3/3 [==============================] - 0s 20ms/step - loss: 0.2104 - accuracy: 0.9855 - val_loss: 0.2075 - val_accuracy: 0.9857\n",
            "Epoch 39/100\n",
            "3/3 [==============================] - 0s 18ms/step - loss: 0.2037 - accuracy: 0.9892 - val_loss: 0.2012 - val_accuracy: 0.9833\n",
            "Epoch 40/100\n",
            "3/3 [==============================] - 0s 20ms/step - loss: 0.1971 - accuracy: 0.9871 - val_loss: 0.1941 - val_accuracy: 0.9860\n",
            "Epoch 41/100\n",
            "3/3 [==============================] - 0s 18ms/step - loss: 0.1904 - accuracy: 0.9895 - val_loss: 0.1878 - val_accuracy: 0.9868\n",
            "Epoch 42/100\n",
            "3/3 [==============================] - 0s 19ms/step - loss: 0.1841 - accuracy: 0.9894 - val_loss: 0.1816 - val_accuracy: 0.9874\n",
            "Epoch 43/100\n",
            "3/3 [==============================] - 0s 20ms/step - loss: 0.1780 - accuracy: 0.9898 - val_loss: 0.1757 - val_accuracy: 0.9874\n",
            "Epoch 44/100\n",
            "3/3 [==============================] - 0s 18ms/step - loss: 0.1721 - accuracy: 0.9904 - val_loss: 0.1699 - val_accuracy: 0.9877\n",
            "Epoch 45/100\n",
            "3/3 [==============================] - 0s 18ms/step - loss: 0.1664 - accuracy: 0.9909 - val_loss: 0.1645 - val_accuracy: 0.9883\n",
            "Epoch 46/100\n",
            "3/3 [==============================] - 0s 18ms/step - loss: 0.1610 - accuracy: 0.9909 - val_loss: 0.1591 - val_accuracy: 0.9895\n",
            "Epoch 47/100\n",
            "3/3 [==============================] - 0s 19ms/step - loss: 0.1558 - accuracy: 0.9920 - val_loss: 0.1544 - val_accuracy: 0.9889\n",
            "Epoch 48/100\n",
            "3/3 [==============================] - 0s 19ms/step - loss: 0.1510 - accuracy: 0.9914 - val_loss: 0.1491 - val_accuracy: 0.9898\n",
            "Epoch 49/100\n",
            "3/3 [==============================] - 0s 20ms/step - loss: 0.1459 - accuracy: 0.9922 - val_loss: 0.1444 - val_accuracy: 0.9898\n",
            "Epoch 50/100\n",
            "3/3 [==============================] - 0s 23ms/step - loss: 0.1412 - accuracy: 0.9924 - val_loss: 0.1399 - val_accuracy: 0.9901\n",
            "Epoch 51/100\n",
            "3/3 [==============================] - 0s 18ms/step - loss: 0.1368 - accuracy: 0.9930 - val_loss: 0.1356 - val_accuracy: 0.9901\n",
            "Epoch 52/100\n",
            "3/3 [==============================] - 0s 21ms/step - loss: 0.1325 - accuracy: 0.9933 - val_loss: 0.1315 - val_accuracy: 0.9901\n",
            "Epoch 53/100\n",
            "3/3 [==============================] - 0s 19ms/step - loss: 0.1284 - accuracy: 0.9937 - val_loss: 0.1275 - val_accuracy: 0.9915\n",
            "Epoch 54/100\n",
            "3/3 [==============================] - 0s 20ms/step - loss: 0.1245 - accuracy: 0.9939 - val_loss: 0.1237 - val_accuracy: 0.9915\n",
            "Epoch 55/100\n",
            "3/3 [==============================] - 0s 22ms/step - loss: 0.1207 - accuracy: 0.9941 - val_loss: 0.1201 - val_accuracy: 0.9918\n",
            "Epoch 56/100\n",
            "3/3 [==============================] - 0s 19ms/step - loss: 0.1171 - accuracy: 0.9942 - val_loss: 0.1166 - val_accuracy: 0.9918\n",
            "Epoch 57/100\n",
            "3/3 [==============================] - 0s 18ms/step - loss: 0.1136 - accuracy: 0.9944 - val_loss: 0.1132 - val_accuracy: 0.9918\n",
            "Epoch 58/100\n",
            "3/3 [==============================] - 0s 23ms/step - loss: 0.1104 - accuracy: 0.9944 - val_loss: 0.1101 - val_accuracy: 0.9918\n",
            "Epoch 59/100\n",
            "3/3 [==============================] - 0s 18ms/step - loss: 0.1073 - accuracy: 0.9944 - val_loss: 0.1070 - val_accuracy: 0.9915\n",
            "Epoch 60/100\n",
            "3/3 [==============================] - 0s 18ms/step - loss: 0.1042 - accuracy: 0.9945 - val_loss: 0.1040 - val_accuracy: 0.9918\n",
            "Epoch 61/100\n",
            "3/3 [==============================] - 0s 21ms/step - loss: 0.1012 - accuracy: 0.9947 - val_loss: 0.1011 - val_accuracy: 0.9918\n",
            "Epoch 62/100\n",
            "3/3 [==============================] - 0s 18ms/step - loss: 0.0984 - accuracy: 0.9950 - val_loss: 0.0984 - val_accuracy: 0.9921\n",
            "Epoch 63/100\n",
            "3/3 [==============================] - 0s 18ms/step - loss: 0.0957 - accuracy: 0.9947 - val_loss: 0.0958 - val_accuracy: 0.9921\n",
            "Epoch 64/100\n",
            "3/3 [==============================] - 0s 18ms/step - loss: 0.0931 - accuracy: 0.9950 - val_loss: 0.0933 - val_accuracy: 0.9921\n",
            "Epoch 65/100\n",
            "3/3 [==============================] - 0s 20ms/step - loss: 0.0906 - accuracy: 0.9950 - val_loss: 0.0909 - val_accuracy: 0.9921\n",
            "Epoch 66/100\n",
            "3/3 [==============================] - 0s 19ms/step - loss: 0.0882 - accuracy: 0.9950 - val_loss: 0.0885 - val_accuracy: 0.9921\n",
            "Epoch 67/100\n",
            "3/3 [==============================] - 0s 25ms/step - loss: 0.0859 - accuracy: 0.9949 - val_loss: 0.0863 - val_accuracy: 0.9921\n",
            "Epoch 68/100\n",
            "3/3 [==============================] - 0s 20ms/step - loss: 0.0836 - accuracy: 0.9952 - val_loss: 0.0841 - val_accuracy: 0.9921\n",
            "Epoch 69/100\n",
            "3/3 [==============================] - 0s 22ms/step - loss: 0.0815 - accuracy: 0.9953 - val_loss: 0.0821 - val_accuracy: 0.9921\n",
            "Epoch 70/100\n",
            "3/3 [==============================] - 0s 20ms/step - loss: 0.0795 - accuracy: 0.9951 - val_loss: 0.0801 - val_accuracy: 0.9930\n",
            "Epoch 71/100\n",
            "3/3 [==============================] - 0s 20ms/step - loss: 0.0776 - accuracy: 0.9954 - val_loss: 0.0784 - val_accuracy: 0.9918\n",
            "Epoch 72/100\n",
            "3/3 [==============================] - 0s 20ms/step - loss: 0.0758 - accuracy: 0.9950 - val_loss: 0.0764 - val_accuracy: 0.9933\n",
            "Epoch 73/100\n",
            "3/3 [==============================] - 0s 21ms/step - loss: 0.0740 - accuracy: 0.9956 - val_loss: 0.0748 - val_accuracy: 0.9921\n",
            "Epoch 74/100\n",
            "3/3 [==============================] - 0s 19ms/step - loss: 0.0723 - accuracy: 0.9951 - val_loss: 0.0730 - val_accuracy: 0.9939\n",
            "Epoch 75/100\n",
            "3/3 [==============================] - 0s 19ms/step - loss: 0.0705 - accuracy: 0.9958 - val_loss: 0.0712 - val_accuracy: 0.9921\n",
            "Epoch 76/100\n",
            "3/3 [==============================] - 0s 19ms/step - loss: 0.0689 - accuracy: 0.9951 - val_loss: 0.0695 - val_accuracy: 0.9933\n",
            "Epoch 77/100\n",
            "3/3 [==============================] - 0s 19ms/step - loss: 0.0673 - accuracy: 0.9959 - val_loss: 0.0679 - val_accuracy: 0.9927\n",
            "Epoch 78/100\n",
            "3/3 [==============================] - 0s 21ms/step - loss: 0.0656 - accuracy: 0.9954 - val_loss: 0.0664 - val_accuracy: 0.9933\n",
            "Epoch 79/100\n",
            "3/3 [==============================] - 0s 19ms/step - loss: 0.0640 - accuracy: 0.9956 - val_loss: 0.0649 - val_accuracy: 0.9933\n",
            "Epoch 80/100\n",
            "3/3 [==============================] - 0s 20ms/step - loss: 0.0626 - accuracy: 0.9953 - val_loss: 0.0635 - val_accuracy: 0.9930\n",
            "Epoch 81/100\n",
            "3/3 [==============================] - 0s 21ms/step - loss: 0.0612 - accuracy: 0.9957 - val_loss: 0.0622 - val_accuracy: 0.9936\n",
            "Epoch 82/100\n",
            "3/3 [==============================] - 0s 22ms/step - loss: 0.0599 - accuracy: 0.9955 - val_loss: 0.0609 - val_accuracy: 0.9930\n",
            "Epoch 83/100\n",
            "3/3 [==============================] - 0s 22ms/step - loss: 0.0586 - accuracy: 0.9958 - val_loss: 0.0596 - val_accuracy: 0.9936\n",
            "Epoch 84/100\n",
            "3/3 [==============================] - 0s 19ms/step - loss: 0.0573 - accuracy: 0.9956 - val_loss: 0.0584 - val_accuracy: 0.9930\n",
            "Epoch 85/100\n",
            "3/3 [==============================] - 0s 19ms/step - loss: 0.0561 - accuracy: 0.9956 - val_loss: 0.0571 - val_accuracy: 0.9939\n",
            "Epoch 86/100\n",
            "3/3 [==============================] - 0s 20ms/step - loss: 0.0549 - accuracy: 0.9959 - val_loss: 0.0560 - val_accuracy: 0.9939\n",
            "Epoch 87/100\n",
            "3/3 [==============================] - 0s 19ms/step - loss: 0.0538 - accuracy: 0.9958 - val_loss: 0.0549 - val_accuracy: 0.9939\n",
            "Epoch 88/100\n",
            "3/3 [==============================] - 0s 29ms/step - loss: 0.0527 - accuracy: 0.9961 - val_loss: 0.0538 - val_accuracy: 0.9939\n",
            "Epoch 89/100\n",
            "3/3 [==============================] - 0s 21ms/step - loss: 0.0516 - accuracy: 0.9959 - val_loss: 0.0527 - val_accuracy: 0.9941\n",
            "Epoch 90/100\n",
            "3/3 [==============================] - 0s 19ms/step - loss: 0.0506 - accuracy: 0.9963 - val_loss: 0.0517 - val_accuracy: 0.9944\n",
            "Epoch 91/100\n",
            "3/3 [==============================] - 0s 21ms/step - loss: 0.0496 - accuracy: 0.9962 - val_loss: 0.0507 - val_accuracy: 0.9944\n",
            "Epoch 92/100\n",
            "3/3 [==============================] - 0s 19ms/step - loss: 0.0486 - accuracy: 0.9963 - val_loss: 0.0497 - val_accuracy: 0.9950\n",
            "Epoch 93/100\n",
            "3/3 [==============================] - 0s 20ms/step - loss: 0.0477 - accuracy: 0.9961 - val_loss: 0.0489 - val_accuracy: 0.9947\n",
            "Epoch 94/100\n",
            "3/3 [==============================] - 0s 24ms/step - loss: 0.0468 - accuracy: 0.9966 - val_loss: 0.0479 - val_accuracy: 0.9953\n",
            "Epoch 95/100\n",
            "3/3 [==============================] - 0s 19ms/step - loss: 0.0458 - accuracy: 0.9966 - val_loss: 0.0471 - val_accuracy: 0.9950\n",
            "Epoch 96/100\n",
            "3/3 [==============================] - 0s 27ms/step - loss: 0.0450 - accuracy: 0.9966 - val_loss: 0.0461 - val_accuracy: 0.9959\n",
            "Epoch 97/100\n",
            "3/3 [==============================] - 0s 19ms/step - loss: 0.0441 - accuracy: 0.9969 - val_loss: 0.0453 - val_accuracy: 0.9956\n",
            "Epoch 98/100\n",
            "3/3 [==============================] - 0s 19ms/step - loss: 0.0433 - accuracy: 0.9969 - val_loss: 0.0445 - val_accuracy: 0.9959\n",
            "Epoch 99/100\n",
            "3/3 [==============================] - 0s 21ms/step - loss: 0.0425 - accuracy: 0.9970 - val_loss: 0.0437 - val_accuracy: 0.9959\n",
            "Epoch 100/100\n",
            "3/3 [==============================] - 0s 19ms/step - loss: 0.0418 - accuracy: 0.9970 - val_loss: 0.0429 - val_accuracy: 0.9962\n"
          ]
        }
      ],
      "source": [
        "if model_selection[model_flag]==\"ALL\" or model_selection[model_flag] == \"LSTM\":\n",
        "  # training the model on training dataset\n",
        "  history = lst.fit(x_train, y_train, epochs=100, batch_size=5000,validation_split=0.2)"
      ]
    },
    {
      "cell_type": "code",
      "execution_count": 49,
      "metadata": {
        "id": "BCQtvJcXRcNr",
        "colab": {
          "base_uri": "https://localhost:8080/"
        },
        "outputId": "d466aee5-99fc-4ac0-85c1-d847b39809ad"
      },
      "outputs": [
        {
          "output_type": "stream",
          "name": "stdout",
          "text": [
            "Saved model to disk\n",
            "Loaded model from disk\n"
          ]
        }
      ],
      "source": [
        "if model_selection[model_flag]==\"ALL\" or model_selection[model_flag] == \"LSTM\":\n",
        "  filepath = '/content/drive/MyDrive/Colab_Notebooks/Models/lst_binary_kitsune'+model_name_suffix+'.json'\n",
        "  weightspath = '/content/drive/MyDrive/Colab_Notebooks/Weights/lst_binary_kitsune'+model_name_suffix+'.h5'\n",
        "  if (not path.isfile(filepath)):\n",
        "    # serialize model to JSON\n",
        "    lst_json = lst.to_json()\n",
        "    with open(filepath, \"w\") as json_file:\n",
        "      json_file.write(lst_json)\n",
        "\n",
        "    # serialize weights to HDF5\n",
        "    lst.save_weights(weightspath)\n",
        "    print(\"Saved model to disk\")\n",
        "\n",
        "    # load json and create model\n",
        "    json_file = open(filepath, 'r')\n",
        "    loaded_model_json = json_file.read()\n",
        "    json_file.close()\n",
        "    lst = model_from_json(loaded_model_json)\n",
        "\n",
        "    # load weights into new model\n",
        "    lst.load_weights(weightspath)\n",
        "    print(\"Loaded model from disk\")"
      ]
    },
    {
      "cell_type": "code",
      "execution_count": 50,
      "metadata": {
        "id": "rPaW37T-R0dG",
        "colab": {
          "base_uri": "https://localhost:8080/"
        },
        "outputId": "2e404734-a9ba-4965-f1d6-1ac822cdc8e0"
      },
      "outputs": [
        {
          "output_type": "stream",
          "name": "stdout",
          "text": [
            "Loaded model from disk\n"
          ]
        }
      ],
      "source": [
        "if model_selection[model_flag]==\"ALL\" or model_selection[model_flag] == \"LSTM\":\n",
        "  # load json and create model\n",
        "  json_file = open(filepath, 'r')\n",
        "  loaded_model_json = json_file.read()\n",
        "  json_file.close()\n",
        "  lst = model_from_json(loaded_model_json)\n",
        "\n",
        "  # load weights into new model\n",
        "  lst.load_weights(weightspath)\n",
        "  print(\"Loaded model from disk\")"
      ]
    },
    {
      "cell_type": "code",
      "execution_count": 51,
      "metadata": {
        "id": "ukGDdSggR3na"
      },
      "outputs": [],
      "source": [
        "if model_selection[model_flag]==\"ALL\" or model_selection[model_flag] == \"LSTM\":\n",
        "  # defining loss function, optimizer, metrics and then compiling model\n",
        "  lst.compile(loss='binary_crossentropy',optimizer='adam',metrics=['accuracy'])"
      ]
    },
    {
      "cell_type": "code",
      "execution_count": 52,
      "metadata": {
        "id": "nvjY0u97R68f",
        "colab": {
          "base_uri": "https://localhost:8080/"
        },
        "outputId": "742871f6-c2a6-431e-9303-f4f29c57952e"
      },
      "outputs": [
        {
          "output_type": "stream",
          "name": "stdout",
          "text": [
            "179/179 [==============================] - 1s 2ms/step - loss: 2.7824 - accuracy: 0.5901\n",
            "Test results - Loss: 2.7824409008026123 - Accuracy: 59.01351571083069%\n"
          ]
        }
      ],
      "source": [
        "if model_selection[model_flag]==\"ALL\" or model_selection[model_flag] == \"LSTM\":\n",
        "  # predicting target attribute on testing dataset\n",
        "  test_results = lst.evaluate(x_test, y_test, verbose=1)\n",
        "  print(f'Test results - Loss: {test_results[0]} - Accuracy: {test_results[1]*100}%')"
      ]
    },
    {
      "cell_type": "code",
      "execution_count": 53,
      "metadata": {
        "id": "f8yKMcIHR_jP",
        "colab": {
          "base_uri": "https://localhost:8080/",
          "height": 472
        },
        "outputId": "a21dfb9a-6370-4159-ac2a-a15e9261dabd"
      },
      "outputs": [
        {
          "output_type": "display_data",
          "data": {
            "text/plain": [
              "<Figure size 640x480 with 1 Axes>"
            ],
            "image/png": "[encoded data removed]"
          },
          "metadata": {}
        }
      ],
      "source": [
        "if model_selection[model_flag]==\"ALL\" or model_selection[model_flag] == \"LSTM\":\n",
        "  # Plot of accuracy vs epoch of train and test dataset\n",
        "  plt.plot(history.history['accuracy'])\n",
        "  plt.plot(history.history['val_accuracy'])\n",
        "  plt.title(\"Plot of accuracy vs epoch for train and test dataset\")\n",
        "  plt.ylabel('accuracy')\n",
        "  plt.xlabel('epoch')\n",
        "  plt.legend(['train', 'test'], loc='best')\n",
        "  plt.savefig('/content/drive/MyDrive/Colab_Notebooks/Plots/lstm_binary_accuracy.png')\n",
        "  plt.show()"
      ]
    },
    {
      "cell_type": "code",
      "execution_count": 54,
      "metadata": {
        "id": "M5g1Rw_SSb5n",
        "colab": {
          "base_uri": "https://localhost:8080/",
          "height": 472
        },
        "outputId": "1c80cf4a-eb44-4b6e-e43f-0b8c2726c126"
      },
      "outputs": [
        {
          "output_type": "display_data",
          "data": {
            "text/plain": [
              "<Figure size 640x480 with 1 Axes>"
            ],
            "image/png": "[encoded data removed]"
          },
          "metadata": {}
        }
      ],
      "source": [
        "if model_selection[model_flag]==\"ALL\" or model_selection[model_flag] == \"LSTM\":\n",
        "  # Plot of loss vs epoch of train and test dataset\n",
        "  plt.plot(history.history['loss'])\n",
        "  plt.plot(history.history['val_loss'])\n",
        "  plt.title(\"Plot of loss vs epoch for train and test dataset\")\n",
        "  plt.ylabel('loss')\n",
        "  plt.xlabel('epoch')\n",
        "  plt.legend(['train', 'test'], loc='best')\n",
        "  plt.savefig('/content/drive/MyDrive/Colab_Notebooks/Plots/lstm_binary_loss.png')\n",
        "  plt.show()"
      ]
    },
    {
      "cell_type": "code",
      "execution_count": 55,
      "metadata": {
        "id": "osZa2OV9Se-T"
      },
      "outputs": [],
      "source": [
        "if model_selection[model_flag]==\"ALL\" or model_selection[model_flag] == \"LSTM\":\n",
        "  # representation of model layers\n",
        "  plot_model(lst, to_file='/content/drive/MyDrive/Colab_Notebooks/Plots/lstm_binary.png', show_shapes=True,)"
      ]
    },
    {
      "cell_type": "code",
      "execution_count": 56,
      "metadata": {
        "id": "lw4OLD4HSpaY",
        "colab": {
          "base_uri": "https://localhost:8080/"
        },
        "outputId": "3d1b2382-254c-47dd-df6b-8a486439bddb"
      },
      "outputs": [
        {
          "output_type": "execute_result",
          "data": {
            "text/plain": [
              "(5697,)"
            ]
          },
          "metadata": {},
          "execution_count": 56
        }
      ],
      "source": [
        "y_test = np.array(y_test)\n",
        "y_test.shape"
      ]
    },
    {
      "cell_type": "code",
      "execution_count": 57,
      "metadata": {
        "id": "4BvYVrKsTGr3",
        "colab": {
          "base_uri": "https://localhost:8080/"
        },
        "outputId": "9f09dcaa-2d67-4853-ddb2-30c2c0438d6d"
      },
      "outputs": [
        {
          "output_type": "execute_result",
          "data": {
            "text/plain": [
              "numpy.ndarray"
            ]
          },
          "metadata": {},
          "execution_count": 57
        }
      ],
      "source": [
        "type(y_test)"
      ]
    },
    {
      "cell_type": "code",
      "execution_count": 58,
      "metadata": {
        "id": "KBvCGl6BS0FM",
        "colab": {
          "base_uri": "https://localhost:8080/"
        },
        "outputId": "5db67770-a843-4134-bb45-45040525ef37"
      },
      "outputs": [
        {
          "output_type": "stream",
          "name": "stdout",
          "text": [
            "179/179 [==============================] - 1s 3ms/step\n"
          ]
        }
      ],
      "source": [
        "if model_selection[model_flag]==\"ALL\" or model_selection[model_flag] == \"LSTM\":\n",
        "  y_classes = (lst.predict(x_test)>0.5).astype('int32')"
      ]
    },
    {
      "cell_type": "code",
      "execution_count": 59,
      "metadata": {
        "id": "x_yVqBlLTtLW",
        "colab": {
          "base_uri": "https://localhost:8080/"
        },
        "outputId": "f4d8fa10-f2f7-4f6b-8083-5765ed1b56d4"
      },
      "outputs": [
        {
          "output_type": "stream",
          "name": "stdout",
          "text": [
            "Recall Score -  0.0\n",
            "F1 Score -  0.0\n",
            "Precision Score -  0.0\n",
            "False Positive Rate -  [1.]\n",
            "False Negative Rate -  [0.]\n",
            "Thresholds -  [0]\n"
          ]
        },
        {
          "output_type": "stream",
          "name": "stderr",
          "text": [
            "/usr/local/lib/python3.9/dist-packages/sklearn/metrics/_classification.py:1344: UndefinedMetricWarning: Precision is ill-defined and being set to 0.0 due to no predicted samples. Use `zero_division` parameter to control this behavior.\n",
            "  _warn_prf(average, modifier, msg_start, len(result))\n"
          ]
        }
      ],
      "source": [
        "if model_selection[model_flag]==\"ALL\" or model_selection[model_flag] == \"LSTM\":\n",
        "  print(\"Recall Score - \",recall_score(y_test,y_classes))\n",
        "  print(\"F1 Score - \",f1_score(y_test,y_classes))\n",
        "  print(\"Precision Score - \",precision_score(y_test,y_classes))\n",
        "  fpr, fnr, thresholds = det_curve(y_test, y_classes)\n",
        "  print(\"False Positive Rate - \", fpr)\n",
        "  print(\"False Negative Rate - \", fnr)\n",
        "  print(\"Thresholds - \", thresholds)"
      ]
    },
    {
      "cell_type": "code",
      "source": [
        "print(classification_report(y_test, y_classes, target_names=['0', '1']))\n",
        "cm = confusion_matrix(y_test, y_classes)\n",
        "disp = ConfusionMatrixDisplay(confusion_matrix=cm,\n",
        "                              display_labels=['0', '1'])\n",
        "disp.plot()\n",
        "\n",
        "plt.show()"
      ],
      "metadata": {
        "colab": {
          "base_uri": "https://localhost:8080/",
          "height": 737
        },
        "id": "lHw1E32esovH",
        "outputId": "9afc86c6-05b7-4b0c-d821-fa57208160ec"
      },
      "execution_count": 60,
      "outputs": [
        {
          "output_type": "stream",
          "name": "stdout",
          "text": [
            "              precision    recall  f1-score   support\n",
            "\n",
            "           0       0.59      1.00      0.74      3362\n",
            "           1       0.00      0.00      0.00      2335\n",
            "\n",
            "    accuracy                           0.59      5697\n",
            "   macro avg       0.30      0.50      0.37      5697\n",
            "weighted avg       0.35      0.59      0.44      5697\n",
            "\n"
          ]
        },
        {
          "output_type": "stream",
          "name": "stderr",
          "text": [
            "/usr/local/lib/python3.9/dist-packages/sklearn/metrics/_classification.py:1344: UndefinedMetricWarning: Precision and F-score are ill-defined and being set to 0.0 in labels with no predicted samples. Use `zero_division` parameter to control this behavior.\n",
            "  _warn_prf(average, modifier, msg_start, len(result))\n",
            "/usr/local/lib/python3.9/dist-packages/sklearn/metrics/_classification.py:1344: UndefinedMetricWarning: Precision and F-score are ill-defined and being set to 0.0 in labels with no predicted samples. Use `zero_division` parameter to control this behavior.\n",
            "  _warn_prf(average, modifier, msg_start, len(result))\n",
            "/usr/local/lib/python3.9/dist-packages/sklearn/metrics/_classification.py:1344: UndefinedMetricWarning: Precision and F-score are ill-defined and being set to 0.0 in labels with no predicted samples. Use `zero_division` parameter to control this behavior.\n",
            "  _warn_prf(average, modifier, msg_start, len(result))\n"
          ]
        },
        {
          "output_type": "display_data",
          "data": {
            "text/plain": [
              "<Figure size 640x480 with 2 Axes>"
            ],
            "image/png": "[encoded data removed]"
          },
          "metadata": {}
        }
      ]
    },
    {
      "cell_type": "markdown",
      "metadata": {
        "id": "H_g15uXe82BY"
      },
      "source": [
        "## **Auto Encoder**"
      ]
    },
    {
      "cell_type": "code",
      "execution_count": 61,
      "metadata": {
        "id": "VQ6pDxghmBwB"
      },
      "outputs": [],
      "source": [
        "if model_selection[model_flag]==\"ALL\" or model_selection[model_flag] == \"AE\":\n",
        "  # splitting the dataset 75% for training and 25% testing\n",
        "  X_train, X_test = train_test_split(bin_data, test_size=0.25, random_state=42)"
      ]
    },
    {
      "cell_type": "code",
      "execution_count": 62,
      "metadata": {
        "id": "uogVT92Q_6wh"
      },
      "outputs": [],
      "source": [
        "if model_selection[model_flag]==\"ALL\" or model_selection[model_flag] == \"AE\":\n",
        "  # dataset excluding target attribute (encoded, one-hot-encoded,original)\n",
        "  X_train = X_train.drop(['label'],axis=1) \n",
        "\n",
        "  y_test = X_test['label'] # target attribute\n",
        "\n",
        "  # dataset excluding target attribute (encoded, one-hot-encoded,original)\n",
        "  X_test = X_test.drop(['label'],axis=1)\n",
        "  # calling the normalization() function\n",
        "  X_train = normalization_train(X_train,numeric_cols)\n",
        "  X_test = normalization_test(X_test,numeric_cols)\n",
        "  X_train = X_train.values\n",
        "  X_test = X_test.values\n",
        "  y_test = y_test.values"
      ]
    },
    {
      "cell_type": "code",
      "execution_count": 63,
      "metadata": {
        "id": "s696BM9uKADC"
      },
      "outputs": [],
      "source": [
        "if model_selection[model_flag]==\"ALL\" or model_selection[model_flag] == \"AE\":\n",
        "  input_dim = X_train.shape[1]\n",
        "  encoding_dim = 50\n",
        "\n",
        "  #input layer\n",
        "  input_layer = Input(shape=(input_dim, ))\n",
        "  #encoding layer with 50 neurons\n",
        "  encoder = Dense(encoding_dim, activation=\"relu\")(input_layer)           \n",
        "  #decoding and output layer\n",
        "  output_layer = Dense(input_dim, activation='softmax')(encoder)"
      ]
    },
    {
      "cell_type": "code",
      "execution_count": 64,
      "metadata": {
        "id": "nLn3vHBZLQtj"
      },
      "outputs": [],
      "source": [
        "if model_selection[model_flag]==\"ALL\" or model_selection[model_flag] == \"AE\":\n",
        "  # creating model with input, encoding, decoding, output layers\n",
        "  autoencoder = Model(inputs=input_layer, outputs=output_layer)\n",
        "\n",
        "  # defining loss function, optimizer, metrics and then compiling model\n",
        "  autoencoder.compile(optimizer='adam', loss='mean_squared_error',metrics=['accuracy'])"
      ]
    },
    {
      "cell_type": "code",
      "execution_count": 65,
      "metadata": {
        "id": "X_zk7PMVLVNm",
        "colab": {
          "base_uri": "https://localhost:8080/"
        },
        "outputId": "ca8230aa-28a5-438a-ad85-db4f53e974f3"
      },
      "outputs": [
        {
          "output_type": "stream",
          "name": "stdout",
          "text": [
            "Model: \"model\"\n",
            "_________________________________________________________________\n",
            " Layer (type)                Output Shape              Param #   \n",
            "=================================================================\n",
            " input_1 (InputLayer)        [(None, 116)]             0         \n",
            "                                                                 \n",
            " dense_3 (Dense)             (None, 50)                5850      \n",
            "                                                                 \n",
            " dense_4 (Dense)             (None, 116)               5916      \n",
            "                                                                 \n",
            "=================================================================\n",
            "Total params: 11,766\n",
            "Trainable params: 11,766\n",
            "Non-trainable params: 0\n",
            "_________________________________________________________________\n"
          ]
        }
      ],
      "source": [
        "if model_selection[model_flag]==\"ALL\" or model_selection[model_flag] == \"AE\":\n",
        "  # summary of model layers\n",
        "  autoencoder.summary()"
      ]
    },
    {
      "cell_type": "code",
      "execution_count": 66,
      "metadata": {
        "id": "We59NbebLdkJ",
        "colab": {
          "base_uri": "https://localhost:8080/"
        },
        "outputId": "baaa10d4-c364-4ab3-cbcd-c85e7aec9d8d"
      },
      "outputs": [
        {
          "output_type": "stream",
          "name": "stdout",
          "text": [
            "Epoch 1/100\n",
            "35/35 [==============================] - 1s 9ms/step - loss: 0.4933 - accuracy: 0.0013 - val_loss: 612738824929280.0000 - val_accuracy: 0.0000e+00\n",
            "Epoch 2/100\n",
            "35/35 [==============================] - 0s 4ms/step - loss: 0.4912 - accuracy: 0.0186 - val_loss: 612738824929280.0000 - val_accuracy: 0.0000e+00\n",
            "Epoch 3/100\n",
            "35/35 [==============================] - 0s 5ms/step - loss: 0.4907 - accuracy: 0.0884 - val_loss: 612738824929280.0000 - val_accuracy: 0.0000e+00\n",
            "Epoch 4/100\n",
            "35/35 [==============================] - 0s 5ms/step - loss: 0.4905 - accuracy: 0.0928 - val_loss: 612738824929280.0000 - val_accuracy: 0.0000e+00\n",
            "Epoch 5/100\n",
            "35/35 [==============================] - 0s 4ms/step - loss: 0.4904 - accuracy: 0.1115 - val_loss: 612738824929280.0000 - val_accuracy: 0.0000e+00\n",
            "Epoch 6/100\n",
            "35/35 [==============================] - 0s 4ms/step - loss: 0.4904 - accuracy: 0.1203 - val_loss: 612738824929280.0000 - val_accuracy: 0.0000e+00\n",
            "Epoch 7/100\n",
            "35/35 [==============================] - 0s 5ms/step - loss: 0.4904 - accuracy: 0.1226 - val_loss: 612738824929280.0000 - val_accuracy: 0.0000e+00\n",
            "Epoch 8/100\n",
            "35/35 [==============================] - 0s 4ms/step - loss: 0.4904 - accuracy: 0.1620 - val_loss: 612738824929280.0000 - val_accuracy: 0.0000e+00\n",
            "Epoch 9/100\n",
            "35/35 [==============================] - 0s 5ms/step - loss: 0.4904 - accuracy: 0.1545 - val_loss: 612738824929280.0000 - val_accuracy: 0.0000e+00\n",
            "Epoch 10/100\n",
            "35/35 [==============================] - 0s 6ms/step - loss: 0.4904 - accuracy: 0.1629 - val_loss: 612738824929280.0000 - val_accuracy: 0.0000e+00\n",
            "Epoch 11/100\n",
            "35/35 [==============================] - 0s 6ms/step - loss: 0.4903 - accuracy: 0.1516 - val_loss: 612738824929280.0000 - val_accuracy: 0.0000e+00\n",
            "Epoch 12/100\n",
            "35/35 [==============================] - 0s 5ms/step - loss: 0.4903 - accuracy: 0.1469 - val_loss: 612738824929280.0000 - val_accuracy: 0.0000e+00\n",
            "Epoch 13/100\n",
            "35/35 [==============================] - 0s 4ms/step - loss: 0.4903 - accuracy: 0.1536 - val_loss: 612738824929280.0000 - val_accuracy: 0.0000e+00\n",
            "Epoch 14/100\n",
            "35/35 [==============================] - 0s 4ms/step - loss: 0.4903 - accuracy: 0.1499 - val_loss: 612738824929280.0000 - val_accuracy: 0.0000e+00\n",
            "Epoch 15/100\n",
            "35/35 [==============================] - 0s 5ms/step - loss: 0.4903 - accuracy: 0.1510 - val_loss: 612738824929280.0000 - val_accuracy: 0.0000e+00\n",
            "Epoch 16/100\n",
            "35/35 [==============================] - 0s 4ms/step - loss: 0.4903 - accuracy: 0.1500 - val_loss: 612738824929280.0000 - val_accuracy: 0.0000e+00\n",
            "Epoch 17/100\n",
            "35/35 [==============================] - 0s 4ms/step - loss: 0.4903 - accuracy: 0.1559 - val_loss: 612738824929280.0000 - val_accuracy: 0.0000e+00\n",
            "Epoch 18/100\n",
            "35/35 [==============================] - 0s 5ms/step - loss: 0.4903 - accuracy: 0.1617 - val_loss: 612738824929280.0000 - val_accuracy: 0.0000e+00\n",
            "Epoch 19/100\n",
            "35/35 [==============================] - 0s 5ms/step - loss: 0.4903 - accuracy: 0.1686 - val_loss: 612738824929280.0000 - val_accuracy: 0.0000e+00\n",
            "Epoch 20/100\n",
            "35/35 [==============================] - 0s 5ms/step - loss: 0.4903 - accuracy: 0.1713 - val_loss: 612738824929280.0000 - val_accuracy: 0.0000e+00\n",
            "Epoch 21/100\n",
            "35/35 [==============================] - 0s 5ms/step - loss: 0.4903 - accuracy: 0.1719 - val_loss: 612738824929280.0000 - val_accuracy: 0.0000e+00\n",
            "Epoch 22/100\n",
            "35/35 [==============================] - 0s 6ms/step - loss: 0.4903 - accuracy: 0.1716 - val_loss: 612738824929280.0000 - val_accuracy: 0.0000e+00\n",
            "Epoch 23/100\n",
            "35/35 [==============================] - 0s 6ms/step - loss: 0.4903 - accuracy: 0.1637 - val_loss: 612738824929280.0000 - val_accuracy: 0.0000e+00\n",
            "Epoch 24/100\n",
            "35/35 [==============================] - 0s 5ms/step - loss: 0.4903 - accuracy: 0.1595 - val_loss: 612738824929280.0000 - val_accuracy: 0.0000e+00\n",
            "Epoch 25/100\n",
            "35/35 [==============================] - 0s 5ms/step - loss: 0.4903 - accuracy: 0.1628 - val_loss: 612738824929280.0000 - val_accuracy: 0.0000e+00\n",
            "Epoch 26/100\n",
            "35/35 [==============================] - 0s 5ms/step - loss: 0.4903 - accuracy: 0.1632 - val_loss: 612738824929280.0000 - val_accuracy: 0.0000e+00\n",
            "Epoch 27/100\n",
            "35/35 [==============================] - 0s 5ms/step - loss: 0.4903 - accuracy: 0.1627 - val_loss: 612738824929280.0000 - val_accuracy: 0.0000e+00\n",
            "Epoch 28/100\n",
            "35/35 [==============================] - 0s 4ms/step - loss: 0.4903 - accuracy: 0.1641 - val_loss: 612738824929280.0000 - val_accuracy: 0.0000e+00\n",
            "Epoch 29/100\n",
            "35/35 [==============================] - 0s 5ms/step - loss: 0.4903 - accuracy: 0.1640 - val_loss: 612738824929280.0000 - val_accuracy: 0.0000e+00\n",
            "Epoch 30/100\n",
            "35/35 [==============================] - 0s 4ms/step - loss: 0.4903 - accuracy: 0.1636 - val_loss: 612738824929280.0000 - val_accuracy: 0.0000e+00\n",
            "Epoch 31/100\n",
            "35/35 [==============================] - 0s 4ms/step - loss: 0.4903 - accuracy: 0.1646 - val_loss: 612738824929280.0000 - val_accuracy: 0.0000e+00\n",
            "Epoch 32/100\n",
            "35/35 [==============================] - 0s 5ms/step - loss: 0.4903 - accuracy: 0.1645 - val_loss: 612738824929280.0000 - val_accuracy: 0.0000e+00\n",
            "Epoch 33/100\n",
            "35/35 [==============================] - 0s 4ms/step - loss: 0.4903 - accuracy: 0.1654 - val_loss: 612738824929280.0000 - val_accuracy: 0.0000e+00\n",
            "Epoch 34/100\n",
            "35/35 [==============================] - 0s 5ms/step - loss: 0.4903 - accuracy: 0.1655 - val_loss: 612738824929280.0000 - val_accuracy: 0.0000e+00\n",
            "Epoch 35/100\n",
            "35/35 [==============================] - 0s 6ms/step - loss: 0.4903 - accuracy: 0.1662 - val_loss: 612738824929280.0000 - val_accuracy: 0.0000e+00\n",
            "Epoch 36/100\n",
            "35/35 [==============================] - 0s 5ms/step - loss: 0.4903 - accuracy: 0.1661 - val_loss: 612738824929280.0000 - val_accuracy: 0.0000e+00\n",
            "Epoch 37/100\n",
            "35/35 [==============================] - 0s 6ms/step - loss: 0.4903 - accuracy: 0.1693 - val_loss: 612738824929280.0000 - val_accuracy: 0.0000e+00\n",
            "Epoch 38/100\n",
            "35/35 [==============================] - 0s 5ms/step - loss: 0.4903 - accuracy: 0.1716 - val_loss: 612738824929280.0000 - val_accuracy: 0.0000e+00\n",
            "Epoch 39/100\n",
            "35/35 [==============================] - 0s 5ms/step - loss: 0.4903 - accuracy: 0.1744 - val_loss: 612738824929280.0000 - val_accuracy: 0.0000e+00\n",
            "Epoch 40/100\n",
            "35/35 [==============================] - 0s 4ms/step - loss: 0.4903 - accuracy: 0.1753 - val_loss: 612738824929280.0000 - val_accuracy: 0.0000e+00\n",
            "Epoch 41/100\n",
            "35/35 [==============================] - 0s 4ms/step - loss: 0.4903 - accuracy: 0.1743 - val_loss: 612738824929280.0000 - val_accuracy: 0.0000e+00\n",
            "Epoch 42/100\n",
            "35/35 [==============================] - 0s 4ms/step - loss: 0.4903 - accuracy: 0.1775 - val_loss: 612738824929280.0000 - val_accuracy: 0.0000e+00\n",
            "Epoch 43/100\n",
            "35/35 [==============================] - 0s 5ms/step - loss: 0.4903 - accuracy: 0.1798 - val_loss: 612738824929280.0000 - val_accuracy: 0.0000e+00\n",
            "Epoch 44/100\n",
            "35/35 [==============================] - 0s 6ms/step - loss: 0.4903 - accuracy: 0.1813 - val_loss: 612738824929280.0000 - val_accuracy: 0.0000e+00\n",
            "Epoch 45/100\n",
            "35/35 [==============================] - 0s 6ms/step - loss: 0.4903 - accuracy: 0.1816 - val_loss: 612738824929280.0000 - val_accuracy: 0.0000e+00\n",
            "Epoch 46/100\n",
            "35/35 [==============================] - 0s 4ms/step - loss: 0.4903 - accuracy: 0.1810 - val_loss: 612738824929280.0000 - val_accuracy: 0.0000e+00\n",
            "Epoch 47/100\n",
            "35/35 [==============================] - 0s 4ms/step - loss: 0.4903 - accuracy: 0.1829 - val_loss: 612738824929280.0000 - val_accuracy: 0.0000e+00\n",
            "Epoch 48/100\n",
            "35/35 [==============================] - 0s 4ms/step - loss: 0.4903 - accuracy: 0.1830 - val_loss: 612738824929280.0000 - val_accuracy: 0.0000e+00\n",
            "Epoch 49/100\n",
            "35/35 [==============================] - 0s 6ms/step - loss: 0.4903 - accuracy: 0.1864 - val_loss: 612738824929280.0000 - val_accuracy: 0.0000e+00\n",
            "Epoch 50/100\n",
            "35/35 [==============================] - 0s 4ms/step - loss: 0.4903 - accuracy: 0.1865 - val_loss: 612738824929280.0000 - val_accuracy: 0.0000e+00\n",
            "Epoch 51/100\n",
            "35/35 [==============================] - 0s 4ms/step - loss: 0.4903 - accuracy: 0.1864 - val_loss: 612738824929280.0000 - val_accuracy: 0.0000e+00\n",
            "Epoch 52/100\n",
            "35/35 [==============================] - 0s 5ms/step - loss: 0.4903 - accuracy: 0.1944 - val_loss: 612738824929280.0000 - val_accuracy: 0.0000e+00\n",
            "Epoch 53/100\n",
            "35/35 [==============================] - 0s 4ms/step - loss: 0.4903 - accuracy: 0.1739 - val_loss: 612738824929280.0000 - val_accuracy: 0.0000e+00\n",
            "Epoch 54/100\n",
            "35/35 [==============================] - 0s 4ms/step - loss: 0.4903 - accuracy: 0.1738 - val_loss: 612738824929280.0000 - val_accuracy: 0.0000e+00\n",
            "Epoch 55/100\n",
            "35/35 [==============================] - 0s 7ms/step - loss: 0.4903 - accuracy: 0.1772 - val_loss: 612738824929280.0000 - val_accuracy: 0.0000e+00\n",
            "Epoch 56/100\n",
            "35/35 [==============================] - 0s 7ms/step - loss: 0.4903 - accuracy: 0.1796 - val_loss: 612738824929280.0000 - val_accuracy: 0.0000e+00\n",
            "Epoch 57/100\n",
            "35/35 [==============================] - 0s 6ms/step - loss: 0.4903 - accuracy: 0.1798 - val_loss: 612738824929280.0000 - val_accuracy: 0.0000e+00\n",
            "Epoch 58/100\n",
            "35/35 [==============================] - 0s 7ms/step - loss: 0.4903 - accuracy: 0.1850 - val_loss: 612738824929280.0000 - val_accuracy: 0.0000e+00\n",
            "Epoch 59/100\n",
            "35/35 [==============================] - 0s 7ms/step - loss: 0.4903 - accuracy: 0.1884 - val_loss: 612738824929280.0000 - val_accuracy: 0.0000e+00\n",
            "Epoch 60/100\n",
            "35/35 [==============================] - 0s 7ms/step - loss: 0.4903 - accuracy: 0.1864 - val_loss: 612738824929280.0000 - val_accuracy: 0.0000e+00\n",
            "Epoch 61/100\n",
            "35/35 [==============================] - 0s 7ms/step - loss: 0.4903 - accuracy: 0.1924 - val_loss: 612738824929280.0000 - val_accuracy: 0.0000e+00\n",
            "Epoch 62/100\n",
            "35/35 [==============================] - 0s 7ms/step - loss: 0.4903 - accuracy: 0.1916 - val_loss: 612738824929280.0000 - val_accuracy: 0.0000e+00\n",
            "Epoch 63/100\n",
            "35/35 [==============================] - 0s 6ms/step - loss: 0.4903 - accuracy: 0.1981 - val_loss: 612738824929280.0000 - val_accuracy: 0.0000e+00\n",
            "Epoch 64/100\n",
            "35/35 [==============================] - 0s 7ms/step - loss: 0.4903 - accuracy: 0.2004 - val_loss: 612738824929280.0000 - val_accuracy: 0.0000e+00\n",
            "Epoch 65/100\n",
            "35/35 [==============================] - 0s 6ms/step - loss: 0.4903 - accuracy: 0.2036 - val_loss: 612738824929280.0000 - val_accuracy: 0.0000e+00\n",
            "Epoch 66/100\n",
            "35/35 [==============================] - 0s 7ms/step - loss: 0.4903 - accuracy: 0.2033 - val_loss: 612738824929280.0000 - val_accuracy: 0.0000e+00\n",
            "Epoch 67/100\n",
            "35/35 [==============================] - 0s 6ms/step - loss: 0.4903 - accuracy: 0.2052 - val_loss: 612738824929280.0000 - val_accuracy: 0.0000e+00\n",
            "Epoch 68/100\n",
            "35/35 [==============================] - 0s 7ms/step - loss: 0.4903 - accuracy: 0.2071 - val_loss: 612738824929280.0000 - val_accuracy: 0.0000e+00\n",
            "Epoch 69/100\n",
            "35/35 [==============================] - 0s 7ms/step - loss: 0.4903 - accuracy: 0.2097 - val_loss: 612738824929280.0000 - val_accuracy: 0.0000e+00\n",
            "Epoch 70/100\n",
            "35/35 [==============================] - 0s 6ms/step - loss: 0.4903 - accuracy: 0.2126 - val_loss: 612738824929280.0000 - val_accuracy: 0.0000e+00\n",
            "Epoch 71/100\n",
            "35/35 [==============================] - 0s 4ms/step - loss: 0.4903 - accuracy: 0.2132 - val_loss: 612738824929280.0000 - val_accuracy: 0.0000e+00\n",
            "Epoch 72/100\n",
            "35/35 [==============================] - 0s 6ms/step - loss: 0.4903 - accuracy: 0.2159 - val_loss: 612738824929280.0000 - val_accuracy: 0.0000e+00\n",
            "Epoch 73/100\n",
            "35/35 [==============================] - 0s 5ms/step - loss: 0.4903 - accuracy: 0.2163 - val_loss: 612738824929280.0000 - val_accuracy: 0.0000e+00\n",
            "Epoch 74/100\n",
            "35/35 [==============================] - 0s 5ms/step - loss: 0.4903 - accuracy: 0.2154 - val_loss: 612738824929280.0000 - val_accuracy: 0.0000e+00\n",
            "Epoch 75/100\n",
            "35/35 [==============================] - 0s 4ms/step - loss: 0.4903 - accuracy: 0.2173 - val_loss: 612738824929280.0000 - val_accuracy: 0.0000e+00\n",
            "Epoch 76/100\n",
            "35/35 [==============================] - 0s 5ms/step - loss: 0.4903 - accuracy: 0.2233 - val_loss: 612738824929280.0000 - val_accuracy: 0.0000e+00\n",
            "Epoch 77/100\n",
            "35/35 [==============================] - 0s 5ms/step - loss: 0.4903 - accuracy: 0.2212 - val_loss: 612738824929280.0000 - val_accuracy: 0.0000e+00\n",
            "Epoch 78/100\n",
            "35/35 [==============================] - 0s 5ms/step - loss: 0.4903 - accuracy: 0.2187 - val_loss: 612738824929280.0000 - val_accuracy: 0.0000e+00\n",
            "Epoch 79/100\n",
            "35/35 [==============================] - 0s 6ms/step - loss: 0.4903 - accuracy: 0.2209 - val_loss: 612738824929280.0000 - val_accuracy: 0.0000e+00\n",
            "Epoch 80/100\n",
            "35/35 [==============================] - 0s 4ms/step - loss: 0.4903 - accuracy: 0.2211 - val_loss: 612738824929280.0000 - val_accuracy: 0.0000e+00\n",
            "Epoch 81/100\n",
            "35/35 [==============================] - 0s 5ms/step - loss: 0.4903 - accuracy: 0.2194 - val_loss: 612738824929280.0000 - val_accuracy: 0.0000e+00\n",
            "Epoch 82/100\n",
            "35/35 [==============================] - 0s 4ms/step - loss: 0.4903 - accuracy: 0.2215 - val_loss: 612738824929280.0000 - val_accuracy: 0.0000e+00\n",
            "Epoch 83/100\n",
            "35/35 [==============================] - 0s 5ms/step - loss: 0.4903 - accuracy: 0.2215 - val_loss: 612738824929280.0000 - val_accuracy: 0.0000e+00\n",
            "Epoch 84/100\n",
            "35/35 [==============================] - 0s 6ms/step - loss: 0.4903 - accuracy: 0.2194 - val_loss: 612738824929280.0000 - val_accuracy: 0.0000e+00\n",
            "Epoch 85/100\n",
            "35/35 [==============================] - 0s 6ms/step - loss: 0.4903 - accuracy: 0.2182 - val_loss: 612738824929280.0000 - val_accuracy: 0.0000e+00\n",
            "Epoch 86/100\n",
            "35/35 [==============================] - 0s 5ms/step - loss: 0.4903 - accuracy: 0.2172 - val_loss: 612738824929280.0000 - val_accuracy: 0.0000e+00\n",
            "Epoch 87/100\n",
            "35/35 [==============================] - 0s 5ms/step - loss: 0.4903 - accuracy: 0.2152 - val_loss: 612738824929280.0000 - val_accuracy: 0.0000e+00\n",
            "Epoch 88/100\n",
            "35/35 [==============================] - 0s 5ms/step - loss: 0.4903 - accuracy: 0.2214 - val_loss: 612738824929280.0000 - val_accuracy: 0.0000e+00\n",
            "Epoch 89/100\n",
            "35/35 [==============================] - 0s 5ms/step - loss: 0.4903 - accuracy: 0.2207 - val_loss: 612738824929280.0000 - val_accuracy: 0.0000e+00\n",
            "Epoch 90/100\n",
            "35/35 [==============================] - 0s 5ms/step - loss: 0.4903 - accuracy: 0.2165 - val_loss: 612738824929280.0000 - val_accuracy: 0.0000e+00\n",
            "Epoch 91/100\n",
            "35/35 [==============================] - 0s 4ms/step - loss: 0.4903 - accuracy: 0.2147 - val_loss: 612738824929280.0000 - val_accuracy: 0.0000e+00\n",
            "Epoch 92/100\n",
            "35/35 [==============================] - 0s 4ms/step - loss: 0.4903 - accuracy: 0.2189 - val_loss: 612738824929280.0000 - val_accuracy: 0.0000e+00\n",
            "Epoch 93/100\n",
            "35/35 [==============================] - 0s 4ms/step - loss: 0.4903 - accuracy: 0.2162 - val_loss: 612738824929280.0000 - val_accuracy: 0.0000e+00\n",
            "Epoch 94/100\n",
            "35/35 [==============================] - 0s 4ms/step - loss: 0.4903 - accuracy: 0.2194 - val_loss: 612738824929280.0000 - val_accuracy: 0.0000e+00\n",
            "Epoch 95/100\n",
            "35/35 [==============================] - 0s 4ms/step - loss: 0.4903 - accuracy: 0.2178 - val_loss: 612738824929280.0000 - val_accuracy: 0.0000e+00\n",
            "Epoch 96/100\n",
            "35/35 [==============================] - 0s 5ms/step - loss: 0.4903 - accuracy: 0.2095 - val_loss: 612738824929280.0000 - val_accuracy: 0.0000e+00\n",
            "Epoch 97/100\n",
            "35/35 [==============================] - 0s 5ms/step - loss: 0.4903 - accuracy: 0.2124 - val_loss: 612738824929280.0000 - val_accuracy: 0.0000e+00\n",
            "Epoch 98/100\n",
            "35/35 [==============================] - 0s 5ms/step - loss: 0.4903 - accuracy: 0.2147 - val_loss: 612738824929280.0000 - val_accuracy: 0.0000e+00\n",
            "Epoch 99/100\n",
            "35/35 [==============================] - 0s 4ms/step - loss: 0.4903 - accuracy: 0.2084 - val_loss: 612738824929280.0000 - val_accuracy: 0.0000e+00\n",
            "Epoch 100/100\n",
            "35/35 [==============================] - 0s 4ms/step - loss: 0.4903 - accuracy: 0.2106 - val_loss: 612738824929280.0000 - val_accuracy: 0.0000e+00\n"
          ]
        }
      ],
      "source": [
        "if model_selection[model_flag]==\"ALL\" or model_selection[model_flag] == \"AE\":\n",
        "  # training the model on training dataset\n",
        "  history = autoencoder.fit(X_train, X_train, epochs=100,batch_size=500,validation_data=(X_test, X_test)).history"
      ]
    },
    {
      "cell_type": "code",
      "execution_count": 67,
      "metadata": {
        "id": "AdtR3-9xLliU",
        "colab": {
          "base_uri": "https://localhost:8080/"
        },
        "outputId": "52da3281-99c2-4127-e76d-f10f155a9ffd"
      },
      "outputs": [
        {
          "output_type": "stream",
          "name": "stdout",
          "text": [
            "Saved model to disk\n",
            "Loaded model from disk\n"
          ]
        }
      ],
      "source": [
        "if model_selection[model_flag]==\"ALL\" or model_selection[model_flag] == \"AE\":\n",
        "  filepath = '/content/drive/MyDrive/Colab_Notebooks/Models/ae_binary'+model_name_suffix+'.json'\n",
        "  weightspath = '/content/drive/MyDrive/Colab_Notebooks/Weights/ae_binary'+model_name_suffix+'.h5'\n",
        "  if (not path.isfile(filepath)): \n",
        "    # serialize model to JSON\n",
        "    autoencoder_json = autoencoder.to_json()\n",
        "    with open(filepath, \"w\") as json_file:\n",
        "      json_file.write(autoencoder_json)\n",
        "\n",
        "    # serialize weights to HDF5\n",
        "    autoencoder.save_weights(weightspath)\n",
        "    print(\"Saved model to disk\")\n",
        "\n",
        "    # load json and create model\n",
        "    json_file = open(filepath, 'r')\n",
        "    loaded_model_json = json_file.read()\n",
        "    json_file.close()\n",
        "    autoencoder = model_from_json(loaded_model_json)\n",
        "\n",
        "    # load weights into new model\n",
        "    autoencoder.load_weights(weightspath)\n",
        "    print(\"Loaded model from disk\")"
      ]
    },
    {
      "cell_type": "code",
      "execution_count": 68,
      "metadata": {
        "id": "Wqr6HVtMLwx9"
      },
      "outputs": [],
      "source": [
        "if model_selection[model_flag]==\"ALL\" or model_selection[model_flag] == \"AE\":\n",
        "  # defining loss function, optimizer, metrics and then compiling model\n",
        "  autoencoder.compile(optimizer='adam', loss='mean_squared_error',metrics=['accuracy'])"
      ]
    },
    {
      "cell_type": "code",
      "execution_count": 69,
      "metadata": {
        "id": "FQrjCk2hL09x",
        "colab": {
          "base_uri": "https://localhost:8080/"
        },
        "outputId": "f78e9140-ae33-437d-cfcb-190ceb66852a"
      },
      "outputs": [
        {
          "output_type": "stream",
          "name": "stdout",
          "text": [
            "179/179 [==============================] - 1s 2ms/step - loss: 612738690711552.0000 - accuracy: 0.0000e+00\n",
            "Test results - Loss: 612738690711552.0 - Accuracy: 0.0%\n"
          ]
        }
      ],
      "source": [
        "if model_selection[model_flag]==\"ALL\" or model_selection[model_flag] == \"AE\":\n",
        "  # predicting target attribute on testing dataset\n",
        "  test_results = autoencoder.evaluate(X_test, X_test, verbose=1)\n",
        "  print(f'Test results - Loss: {test_results[0]} - Accuracy: {test_results[1]}%')"
      ]
    },
    {
      "cell_type": "code",
      "execution_count": 70,
      "metadata": {
        "id": "VqQsjSZcL1-B",
        "colab": {
          "base_uri": "https://localhost:8080/",
          "height": 472
        },
        "outputId": "eb71e5bb-6395-45ad-b051-91aa41ec6f77"
      },
      "outputs": [
        {
          "output_type": "display_data",
          "data": {
            "text/plain": [
              "<Figure size 640x480 with 1 Axes>"
            ],
            "image/png": "[encoded data removed]"
          },
          "metadata": {}
        }
      ],
      "source": [
        "if model_selection[model_flag]==\"ALL\" or model_selection[model_flag] == \"AE\":\n",
        "  # Plot of loss vs epoch of train and test dataset\n",
        "  plt.plot(history['loss'])\n",
        "  plt.plot(history['val_loss'])\n",
        "  plt.title(\"Plot of loss vs epoch for train and test dataset\")\n",
        "  plt.ylabel('loss')\n",
        "  plt.xlabel('epoch')\n",
        "  plt.legend(['train', 'test'], loc='upper right')\n",
        "  plt.savefig('/content/drive/MyDrive/Colab_Notebooks/Plots/ae_binary_loss.png')\n",
        "  plt.show()"
      ]
    },
    {
      "cell_type": "code",
      "execution_count": 71,
      "metadata": {
        "id": "fkjD9QXKL25Z",
        "colab": {
          "base_uri": "https://localhost:8080/",
          "height": 472
        },
        "outputId": "50cc3f6b-7a76-4722-d88e-7551789e8612"
      },
      "outputs": [
        {
          "output_type": "display_data",
          "data": {
            "text/plain": [
              "<Figure size 640x480 with 1 Axes>"
            ],
            "image/png": "[encoded data removed]"
          },
          "metadata": {}
        }
      ],
      "source": [
        "if model_selection[model_flag]==\"ALL\" or model_selection[model_flag] == \"AE\":\n",
        "  # Plot of accuracy vs epoch of train and test dataset\n",
        "  plt.plot(history['accuracy'])\n",
        "  plt.plot(history['val_accuracy'])\n",
        "  plt.title(\"Plot of accuracy vs epoch for train and test dataset\")\n",
        "  plt.ylabel('accuracy')\n",
        "  plt.xlabel('epoch')\n",
        "  plt.legend(['train', 'test'], loc='best')\n",
        "  plt.savefig('/content/drive/MyDrive/Colab_Notebooks/Plots/ae_binary_accuracy.png')\n",
        "  plt.show()"
      ]
    },
    {
      "cell_type": "code",
      "execution_count": 72,
      "metadata": {
        "id": "lf9q83sBMGPD"
      },
      "outputs": [],
      "source": [
        "if model_selection[model_flag]==\"ALL\" or model_selection[model_flag] == \"AE\":\n",
        "  # representation of model layers\n",
        "  plot_model(autoencoder, to_file='/content/drive/MyDrive/Colab_Notebooks/Plots/ae_binary.png', show_shapes=True,)"
      ]
    },
    {
      "cell_type": "code",
      "execution_count": 73,
      "metadata": {
        "id": "SFIXKGwuMLFo",
        "colab": {
          "base_uri": "https://localhost:8080/"
        },
        "outputId": "1663a7e8-c29c-4129-9ab1-3772d2ea7560"
      },
      "outputs": [
        {
          "output_type": "stream",
          "name": "stdout",
          "text": [
            "179/179 [==============================] - 0s 2ms/step\n"
          ]
        }
      ],
      "source": [
        "if model_selection[model_flag]==\"ALL\" or model_selection[model_flag] == \"AE\":\n",
        "  # calculating reconstruction error \n",
        "  predictions = autoencoder.predict(X_test)"
      ]
    },
    {
      "cell_type": "code",
      "execution_count": 74,
      "metadata": {
        "id": "cqKJCyZnMMEG"
      },
      "outputs": [],
      "source": [
        "if model_selection[model_flag]==\"ALL\" or model_selection[model_flag] == \"AE\":\n",
        "  mse = np.mean(np.power(X_test - predictions, 2), axis=1)\n",
        "  error_df = pd.DataFrame({'reconstruction_error': mse,\n",
        "                           'true_class': y_test})"
      ]
    },
    {
      "cell_type": "code",
      "execution_count": 75,
      "metadata": {
        "id": "EdQJudbDMhmB",
        "colab": {
          "base_uri": "https://localhost:8080/"
        },
        "outputId": "8b0b44d9-e9c3-4059-88f2-ead7b8143366"
      },
      "outputs": [
        {
          "output_type": "stream",
          "name": "stdout",
          "text": [
            "(5697, 116)\n"
          ]
        }
      ],
      "source": [
        "if model_selection[model_flag]==\"ALL\" or model_selection[model_flag] == \"AE\":\n",
        "  error_df.describe()\n",
        "  print(predictions.shape)"
      ]
    },
    {
      "cell_type": "markdown",
      "metadata": {
        "id": "PHsaAAMmNQrs"
      },
      "source": [
        "## **AE Classifier**"
      ]
    },
    {
      "cell_type": "code",
      "execution_count": 76,
      "metadata": {
        "id": "1hK07LDBMoZg"
      },
      "outputs": [],
      "source": [
        "if model_selection[model_flag]==\"ALL\" or model_selection[model_flag] == \"AE\":\n",
        "  i_dim = predictions.shape[1]\n",
        "\n",
        "  #input layer\n",
        "  i_layer = Input(shape=(i_dim, ))\n",
        "  #hidden layer with 50 neurons\n",
        "  fvector = Dense(50, activation=\"sigmoid\")(i_layer)                    \n",
        "  #doutput layer\n",
        "  o_layer = Dense(1, activation='sigmoid')(fvector)"
      ]
    },
    {
      "cell_type": "code",
      "execution_count": 77,
      "metadata": {
        "id": "Efq77rVINXWE"
      },
      "outputs": [],
      "source": [
        "if model_selection[model_flag]==\"ALL\" or model_selection[model_flag] == \"AE\":\n",
        "  # creating model with input, encoding, decoding, output layers\n",
        "  ae_classifier = Model(inputs=i_layer, outputs=o_layer)\n",
        "\n",
        "  # defining loss function, optimizer, metrics and then compiling model\n",
        "  ae_classifier.compile(optimizer='adam', loss='binary_crossentropy',metrics=['accuracy'])"
      ]
    },
    {
      "cell_type": "code",
      "execution_count": 78,
      "metadata": {
        "id": "0Yl594VGNX1W",
        "colab": {
          "base_uri": "https://localhost:8080/"
        },
        "outputId": "7aa4e0f7-e3fc-4fba-f0e1-450889f08701"
      },
      "outputs": [
        {
          "output_type": "stream",
          "name": "stdout",
          "text": [
            "Model: \"model_1\"\n",
            "_________________________________________________________________\n",
            " Layer (type)                Output Shape              Param #   \n",
            "=================================================================\n",
            " input_2 (InputLayer)        [(None, 116)]             0         \n",
            "                                                                 \n",
            " dense_5 (Dense)             (None, 50)                5850      \n",
            "                                                                 \n",
            " dense_6 (Dense)             (None, 1)                 51        \n",
            "                                                                 \n",
            "=================================================================\n",
            "Total params: 5,901\n",
            "Trainable params: 5,901\n",
            "Non-trainable params: 0\n",
            "_________________________________________________________________\n"
          ]
        }
      ],
      "source": [
        "if model_selection[model_flag]==\"ALL\" or model_selection[model_flag] == \"AE\":\n",
        "  # summary of model layers\n",
        "  ae_classifier.summary()"
      ]
    },
    {
      "cell_type": "code",
      "execution_count": 79,
      "metadata": {
        "id": "23n8Qt0uNX8Z",
        "colab": {
          "base_uri": "https://localhost:8080/"
        },
        "outputId": "870b9e3a-9e12-4a1b-cb26-635eec9575c4"
      },
      "outputs": [
        {
          "output_type": "stream",
          "name": "stdout",
          "text": [
            "Epoch 1/300\n",
            "10/10 [==============================] - 2s 31ms/step - loss: 0.6760 - accuracy: 0.5925 - val_loss: 0.6801 - val_accuracy: 0.5807\n",
            "Epoch 2/300\n",
            "10/10 [==============================] - 0s 10ms/step - loss: 0.6759 - accuracy: 0.5925 - val_loss: 0.6807 - val_accuracy: 0.5807\n",
            "Epoch 3/300\n",
            "10/10 [==============================] - 0s 10ms/step - loss: 0.6761 - accuracy: 0.5925 - val_loss: 0.6804 - val_accuracy: 0.5807\n",
            "Epoch 4/300\n",
            "10/10 [==============================] - 0s 10ms/step - loss: 0.6765 - accuracy: 0.5925 - val_loss: 0.6801 - val_accuracy: 0.5807\n",
            "Epoch 5/300\n",
            "10/10 [==============================] - 0s 11ms/step - loss: 0.6762 - accuracy: 0.5925 - val_loss: 0.6806 - val_accuracy: 0.5807\n",
            "Epoch 6/300\n",
            "10/10 [==============================] - 0s 10ms/step - loss: 0.6762 - accuracy: 0.5925 - val_loss: 0.6802 - val_accuracy: 0.5807\n",
            "Epoch 7/300\n",
            "10/10 [==============================] - 0s 11ms/step - loss: 0.6759 - accuracy: 0.5925 - val_loss: 0.6809 - val_accuracy: 0.5807\n",
            "Epoch 8/300\n",
            "10/10 [==============================] - 0s 9ms/step - loss: 0.6761 - accuracy: 0.5925 - val_loss: 0.6806 - val_accuracy: 0.5807\n",
            "Epoch 9/300\n",
            "10/10 [==============================] - 0s 10ms/step - loss: 0.6760 - accuracy: 0.5925 - val_loss: 0.6803 - val_accuracy: 0.5807\n",
            "Epoch 10/300\n",
            "10/10 [==============================] - 0s 9ms/step - loss: 0.6760 - accuracy: 0.5925 - val_loss: 0.6806 - val_accuracy: 0.5807\n",
            "Epoch 11/300\n",
            "10/10 [==============================] - 0s 11ms/step - loss: 0.6761 - accuracy: 0.5925 - val_loss: 0.6802 - val_accuracy: 0.5807\n",
            "Epoch 12/300\n",
            "10/10 [==============================] - 0s 9ms/step - loss: 0.6762 - accuracy: 0.5925 - val_loss: 0.6802 - val_accuracy: 0.5807\n",
            "Epoch 13/300\n",
            "10/10 [==============================] - 0s 10ms/step - loss: 0.6761 - accuracy: 0.5925 - val_loss: 0.6802 - val_accuracy: 0.5807\n",
            "Epoch 14/300\n",
            "10/10 [==============================] - 0s 10ms/step - loss: 0.6762 - accuracy: 0.5925 - val_loss: 0.6806 - val_accuracy: 0.5807\n",
            "Epoch 15/300\n",
            "10/10 [==============================] - 0s 10ms/step - loss: 0.6758 - accuracy: 0.5925 - val_loss: 0.6801 - val_accuracy: 0.5807\n",
            "Epoch 16/300\n",
            "10/10 [==============================] - 0s 11ms/step - loss: 0.6760 - accuracy: 0.5925 - val_loss: 0.6804 - val_accuracy: 0.5807\n",
            "Epoch 17/300\n",
            "10/10 [==============================] - 0s 12ms/step - loss: 0.6760 - accuracy: 0.5925 - val_loss: 0.6807 - val_accuracy: 0.5807\n",
            "Epoch 18/300\n",
            "10/10 [==============================] - 0s 9ms/step - loss: 0.6760 - accuracy: 0.5925 - val_loss: 0.6804 - val_accuracy: 0.5807\n",
            "Epoch 19/300\n",
            "10/10 [==============================] - 0s 10ms/step - loss: 0.6760 - accuracy: 0.5925 - val_loss: 0.6802 - val_accuracy: 0.5807\n",
            "Epoch 20/300\n",
            "10/10 [==============================] - 0s 9ms/step - loss: 0.6760 - accuracy: 0.5925 - val_loss: 0.6804 - val_accuracy: 0.5807\n",
            "Epoch 21/300\n",
            "10/10 [==============================] - 0s 10ms/step - loss: 0.6760 - accuracy: 0.5925 - val_loss: 0.6803 - val_accuracy: 0.5807\n",
            "Epoch 22/300\n",
            "10/10 [==============================] - 0s 10ms/step - loss: 0.6760 - accuracy: 0.5925 - val_loss: 0.6808 - val_accuracy: 0.5807\n",
            "Epoch 23/300\n",
            "10/10 [==============================] - 0s 11ms/step - loss: 0.6761 - accuracy: 0.5925 - val_loss: 0.6803 - val_accuracy: 0.5807\n",
            "Epoch 24/300\n",
            "10/10 [==============================] - 0s 9ms/step - loss: 0.6760 - accuracy: 0.5925 - val_loss: 0.6803 - val_accuracy: 0.5807\n",
            "Epoch 25/300\n",
            "10/10 [==============================] - 0s 6ms/step - loss: 0.6760 - accuracy: 0.5925 - val_loss: 0.6803 - val_accuracy: 0.5807\n",
            "Epoch 26/300\n",
            "10/10 [==============================] - 0s 6ms/step - loss: 0.6760 - accuracy: 0.5925 - val_loss: 0.6805 - val_accuracy: 0.5807\n",
            "Epoch 27/300\n",
            "10/10 [==============================] - 0s 7ms/step - loss: 0.6761 - accuracy: 0.5925 - val_loss: 0.6809 - val_accuracy: 0.5807\n",
            "Epoch 28/300\n",
            "10/10 [==============================] - 0s 9ms/step - loss: 0.6760 - accuracy: 0.5925 - val_loss: 0.6804 - val_accuracy: 0.5807\n",
            "Epoch 29/300\n",
            "10/10 [==============================] - 0s 6ms/step - loss: 0.6760 - accuracy: 0.5925 - val_loss: 0.6802 - val_accuracy: 0.5807\n",
            "Epoch 30/300\n",
            "10/10 [==============================] - 0s 8ms/step - loss: 0.6765 - accuracy: 0.5925 - val_loss: 0.6809 - val_accuracy: 0.5807\n",
            "Epoch 31/300\n",
            "10/10 [==============================] - 0s 6ms/step - loss: 0.6762 - accuracy: 0.5925 - val_loss: 0.6801 - val_accuracy: 0.5807\n",
            "Epoch 32/300\n",
            "10/10 [==============================] - 0s 6ms/step - loss: 0.6765 - accuracy: 0.5925 - val_loss: 0.6801 - val_accuracy: 0.5807\n",
            "Epoch 33/300\n",
            "10/10 [==============================] - 0s 6ms/step - loss: 0.6761 - accuracy: 0.5925 - val_loss: 0.6805 - val_accuracy: 0.5807\n",
            "Epoch 34/300\n",
            "10/10 [==============================] - 0s 8ms/step - loss: 0.6761 - accuracy: 0.5925 - val_loss: 0.6802 - val_accuracy: 0.5807\n",
            "Epoch 35/300\n",
            "10/10 [==============================] - 0s 8ms/step - loss: 0.6760 - accuracy: 0.5925 - val_loss: 0.6802 - val_accuracy: 0.5807\n",
            "Epoch 36/300\n",
            "10/10 [==============================] - 0s 8ms/step - loss: 0.6761 - accuracy: 0.5925 - val_loss: 0.6801 - val_accuracy: 0.5807\n",
            "Epoch 37/300\n",
            "10/10 [==============================] - 0s 8ms/step - loss: 0.6760 - accuracy: 0.5925 - val_loss: 0.6803 - val_accuracy: 0.5807\n",
            "Epoch 38/300\n",
            "10/10 [==============================] - 0s 9ms/step - loss: 0.6761 - accuracy: 0.5925 - val_loss: 0.6807 - val_accuracy: 0.5807\n",
            "Epoch 39/300\n",
            "10/10 [==============================] - 0s 8ms/step - loss: 0.6760 - accuracy: 0.5925 - val_loss: 0.6804 - val_accuracy: 0.5807\n",
            "Epoch 40/300\n",
            "10/10 [==============================] - 0s 7ms/step - loss: 0.6760 - accuracy: 0.5925 - val_loss: 0.6801 - val_accuracy: 0.5807\n",
            "Epoch 41/300\n",
            "10/10 [==============================] - 0s 7ms/step - loss: 0.6760 - accuracy: 0.5925 - val_loss: 0.6804 - val_accuracy: 0.5807\n",
            "Epoch 42/300\n",
            "10/10 [==============================] - 0s 7ms/step - loss: 0.6761 - accuracy: 0.5925 - val_loss: 0.6808 - val_accuracy: 0.5807\n",
            "Epoch 43/300\n",
            "10/10 [==============================] - 0s 8ms/step - loss: 0.6759 - accuracy: 0.5925 - val_loss: 0.6801 - val_accuracy: 0.5807\n",
            "Epoch 44/300\n",
            "10/10 [==============================] - 0s 8ms/step - loss: 0.6764 - accuracy: 0.5925 - val_loss: 0.6803 - val_accuracy: 0.5807\n",
            "Epoch 45/300\n",
            "10/10 [==============================] - 0s 6ms/step - loss: 0.6767 - accuracy: 0.5925 - val_loss: 0.6802 - val_accuracy: 0.5807\n",
            "Epoch 46/300\n",
            "10/10 [==============================] - 0s 6ms/step - loss: 0.6759 - accuracy: 0.5925 - val_loss: 0.6808 - val_accuracy: 0.5807\n",
            "Epoch 47/300\n",
            "10/10 [==============================] - 0s 9ms/step - loss: 0.6761 - accuracy: 0.5925 - val_loss: 0.6809 - val_accuracy: 0.5807\n",
            "Epoch 48/300\n",
            "10/10 [==============================] - 0s 6ms/step - loss: 0.6761 - accuracy: 0.5925 - val_loss: 0.6807 - val_accuracy: 0.5807\n",
            "Epoch 49/300\n",
            "10/10 [==============================] - 0s 6ms/step - loss: 0.6762 - accuracy: 0.5925 - val_loss: 0.6804 - val_accuracy: 0.5807\n",
            "Epoch 50/300\n",
            "10/10 [==============================] - 0s 7ms/step - loss: 0.6763 - accuracy: 0.5925 - val_loss: 0.6813 - val_accuracy: 0.5807\n",
            "Epoch 51/300\n",
            "10/10 [==============================] - 0s 6ms/step - loss: 0.6762 - accuracy: 0.5925 - val_loss: 0.6808 - val_accuracy: 0.5807\n",
            "Epoch 52/300\n",
            "10/10 [==============================] - 0s 7ms/step - loss: 0.6759 - accuracy: 0.5925 - val_loss: 0.6802 - val_accuracy: 0.5807\n",
            "Epoch 53/300\n",
            "10/10 [==============================] - 0s 7ms/step - loss: 0.6761 - accuracy: 0.5925 - val_loss: 0.6801 - val_accuracy: 0.5807\n",
            "Epoch 54/300\n",
            "10/10 [==============================] - 0s 8ms/step - loss: 0.6760 - accuracy: 0.5925 - val_loss: 0.6804 - val_accuracy: 0.5807\n",
            "Epoch 55/300\n",
            "10/10 [==============================] - 0s 6ms/step - loss: 0.6761 - accuracy: 0.5925 - val_loss: 0.6807 - val_accuracy: 0.5807\n",
            "Epoch 56/300\n",
            "10/10 [==============================] - 0s 7ms/step - loss: 0.6761 - accuracy: 0.5925 - val_loss: 0.6801 - val_accuracy: 0.5807\n",
            "Epoch 57/300\n",
            "10/10 [==============================] - 0s 7ms/step - loss: 0.6762 - accuracy: 0.5925 - val_loss: 0.6801 - val_accuracy: 0.5807\n",
            "Epoch 58/300\n",
            "10/10 [==============================] - 0s 8ms/step - loss: 0.6761 - accuracy: 0.5925 - val_loss: 0.6802 - val_accuracy: 0.5807\n",
            "Epoch 59/300\n",
            "10/10 [==============================] - 0s 8ms/step - loss: 0.6766 - accuracy: 0.5925 - val_loss: 0.6814 - val_accuracy: 0.5807\n",
            "Epoch 60/300\n",
            "10/10 [==============================] - 0s 7ms/step - loss: 0.6761 - accuracy: 0.5925 - val_loss: 0.6805 - val_accuracy: 0.5807\n",
            "Epoch 61/300\n",
            "10/10 [==============================] - 0s 8ms/step - loss: 0.6760 - accuracy: 0.5925 - val_loss: 0.6805 - val_accuracy: 0.5807\n",
            "Epoch 62/300\n",
            "10/10 [==============================] - 0s 7ms/step - loss: 0.6762 - accuracy: 0.5925 - val_loss: 0.6805 - val_accuracy: 0.5807\n",
            "Epoch 63/300\n",
            "10/10 [==============================] - 0s 7ms/step - loss: 0.6762 - accuracy: 0.5925 - val_loss: 0.6801 - val_accuracy: 0.5807\n",
            "Epoch 64/300\n",
            "10/10 [==============================] - 0s 7ms/step - loss: 0.6779 - accuracy: 0.5925 - val_loss: 0.6807 - val_accuracy: 0.5807\n",
            "Epoch 65/300\n",
            "10/10 [==============================] - 0s 8ms/step - loss: 0.6771 - accuracy: 0.5925 - val_loss: 0.6802 - val_accuracy: 0.5807\n",
            "Epoch 66/300\n",
            "10/10 [==============================] - 0s 7ms/step - loss: 0.6759 - accuracy: 0.5925 - val_loss: 0.6814 - val_accuracy: 0.5807\n",
            "Epoch 67/300\n",
            "10/10 [==============================] - 0s 9ms/step - loss: 0.6767 - accuracy: 0.5925 - val_loss: 0.6814 - val_accuracy: 0.5807\n",
            "Epoch 68/300\n",
            "10/10 [==============================] - 0s 6ms/step - loss: 0.6761 - accuracy: 0.5925 - val_loss: 0.6801 - val_accuracy: 0.5807\n",
            "Epoch 69/300\n",
            "10/10 [==============================] - 0s 6ms/step - loss: 0.6761 - accuracy: 0.5925 - val_loss: 0.6802 - val_accuracy: 0.5807\n",
            "Epoch 70/300\n",
            "10/10 [==============================] - 0s 6ms/step - loss: 0.6760 - accuracy: 0.5925 - val_loss: 0.6801 - val_accuracy: 0.5807\n",
            "Epoch 71/300\n",
            "10/10 [==============================] - 0s 7ms/step - loss: 0.6760 - accuracy: 0.5925 - val_loss: 0.6802 - val_accuracy: 0.5807\n",
            "Epoch 72/300\n",
            "10/10 [==============================] - 0s 6ms/step - loss: 0.6761 - accuracy: 0.5925 - val_loss: 0.6802 - val_accuracy: 0.5807\n",
            "Epoch 73/300\n",
            "10/10 [==============================] - 0s 7ms/step - loss: 0.6761 - accuracy: 0.5925 - val_loss: 0.6811 - val_accuracy: 0.5807\n",
            "Epoch 74/300\n",
            "10/10 [==============================] - 0s 6ms/step - loss: 0.6759 - accuracy: 0.5925 - val_loss: 0.6801 - val_accuracy: 0.5807\n",
            "Epoch 75/300\n",
            "10/10 [==============================] - 0s 7ms/step - loss: 0.6767 - accuracy: 0.5925 - val_loss: 0.6801 - val_accuracy: 0.5807\n",
            "Epoch 76/300\n",
            "10/10 [==============================] - 0s 6ms/step - loss: 0.6763 - accuracy: 0.5925 - val_loss: 0.6801 - val_accuracy: 0.5807\n",
            "Epoch 77/300\n",
            "10/10 [==============================] - 0s 8ms/step - loss: 0.6760 - accuracy: 0.5925 - val_loss: 0.6809 - val_accuracy: 0.5807\n",
            "Epoch 78/300\n",
            "10/10 [==============================] - 0s 8ms/step - loss: 0.6765 - accuracy: 0.5925 - val_loss: 0.6815 - val_accuracy: 0.5807\n",
            "Epoch 79/300\n",
            "10/10 [==============================] - 0s 8ms/step - loss: 0.6762 - accuracy: 0.5925 - val_loss: 0.6802 - val_accuracy: 0.5807\n",
            "Epoch 80/300\n",
            "10/10 [==============================] - 0s 6ms/step - loss: 0.6760 - accuracy: 0.5925 - val_loss: 0.6802 - val_accuracy: 0.5807\n",
            "Epoch 81/300\n",
            "10/10 [==============================] - 0s 9ms/step - loss: 0.6761 - accuracy: 0.5925 - val_loss: 0.6805 - val_accuracy: 0.5807\n",
            "Epoch 82/300\n",
            "10/10 [==============================] - 0s 6ms/step - loss: 0.6760 - accuracy: 0.5925 - val_loss: 0.6803 - val_accuracy: 0.5807\n",
            "Epoch 83/300\n",
            "10/10 [==============================] - 0s 6ms/step - loss: 0.6760 - accuracy: 0.5925 - val_loss: 0.6806 - val_accuracy: 0.5807\n",
            "Epoch 84/300\n",
            "10/10 [==============================] - 0s 6ms/step - loss: 0.6761 - accuracy: 0.5925 - val_loss: 0.6807 - val_accuracy: 0.5807\n",
            "Epoch 85/300\n",
            "10/10 [==============================] - 0s 6ms/step - loss: 0.6761 - accuracy: 0.5925 - val_loss: 0.6805 - val_accuracy: 0.5807\n",
            "Epoch 86/300\n",
            "10/10 [==============================] - 0s 8ms/step - loss: 0.6761 - accuracy: 0.5925 - val_loss: 0.6805 - val_accuracy: 0.5807\n",
            "Epoch 87/300\n",
            "10/10 [==============================] - 0s 7ms/step - loss: 0.6761 - accuracy: 0.5925 - val_loss: 0.6801 - val_accuracy: 0.5807\n",
            "Epoch 88/300\n",
            "10/10 [==============================] - 0s 6ms/step - loss: 0.6760 - accuracy: 0.5925 - val_loss: 0.6805 - val_accuracy: 0.5807\n",
            "Epoch 89/300\n",
            "10/10 [==============================] - 0s 8ms/step - loss: 0.6762 - accuracy: 0.5925 - val_loss: 0.6816 - val_accuracy: 0.5807\n",
            "Epoch 90/300\n",
            "10/10 [==============================] - 0s 6ms/step - loss: 0.6763 - accuracy: 0.5925 - val_loss: 0.6803 - val_accuracy: 0.5807\n",
            "Epoch 91/300\n",
            "10/10 [==============================] - 0s 8ms/step - loss: 0.6760 - accuracy: 0.5925 - val_loss: 0.6804 - val_accuracy: 0.5807\n",
            "Epoch 92/300\n",
            "10/10 [==============================] - 0s 6ms/step - loss: 0.6761 - accuracy: 0.5925 - val_loss: 0.6802 - val_accuracy: 0.5807\n",
            "Epoch 93/300\n",
            "10/10 [==============================] - 0s 7ms/step - loss: 0.6761 - accuracy: 0.5925 - val_loss: 0.6809 - val_accuracy: 0.5807\n",
            "Epoch 94/300\n",
            "10/10 [==============================] - 0s 7ms/step - loss: 0.6761 - accuracy: 0.5925 - val_loss: 0.6807 - val_accuracy: 0.5807\n",
            "Epoch 95/300\n",
            "10/10 [==============================] - 0s 8ms/step - loss: 0.6761 - accuracy: 0.5925 - val_loss: 0.6802 - val_accuracy: 0.5807\n",
            "Epoch 96/300\n",
            "10/10 [==============================] - 0s 6ms/step - loss: 0.6760 - accuracy: 0.5925 - val_loss: 0.6804 - val_accuracy: 0.5807\n",
            "Epoch 97/300\n",
            "10/10 [==============================] - 0s 8ms/step - loss: 0.6760 - accuracy: 0.5925 - val_loss: 0.6803 - val_accuracy: 0.5807\n",
            "Epoch 98/300\n",
            "10/10 [==============================] - 0s 6ms/step - loss: 0.6760 - accuracy: 0.5925 - val_loss: 0.6802 - val_accuracy: 0.5807\n",
            "Epoch 99/300\n",
            "10/10 [==============================] - 0s 7ms/step - loss: 0.6759 - accuracy: 0.5925 - val_loss: 0.6805 - val_accuracy: 0.5807\n",
            "Epoch 100/300\n",
            "10/10 [==============================] - 0s 6ms/step - loss: 0.6760 - accuracy: 0.5925 - val_loss: 0.6804 - val_accuracy: 0.5807\n",
            "Epoch 101/300\n",
            "10/10 [==============================] - 0s 8ms/step - loss: 0.6761 - accuracy: 0.5925 - val_loss: 0.6801 - val_accuracy: 0.5807\n",
            "Epoch 102/300\n",
            "10/10 [==============================] - 0s 6ms/step - loss: 0.6762 - accuracy: 0.5925 - val_loss: 0.6805 - val_accuracy: 0.5807\n",
            "Epoch 103/300\n",
            "10/10 [==============================] - 0s 6ms/step - loss: 0.6760 - accuracy: 0.5925 - val_loss: 0.6807 - val_accuracy: 0.5807\n",
            "Epoch 104/300\n",
            "10/10 [==============================] - 0s 6ms/step - loss: 0.6761 - accuracy: 0.5925 - val_loss: 0.6818 - val_accuracy: 0.5807\n",
            "Epoch 105/300\n",
            "10/10 [==============================] - 0s 6ms/step - loss: 0.6766 - accuracy: 0.5925 - val_loss: 0.6810 - val_accuracy: 0.5807\n",
            "Epoch 106/300\n",
            "10/10 [==============================] - 0s 8ms/step - loss: 0.6761 - accuracy: 0.5925 - val_loss: 0.6801 - val_accuracy: 0.5807\n",
            "Epoch 107/300\n",
            "10/10 [==============================] - 0s 6ms/step - loss: 0.6760 - accuracy: 0.5925 - val_loss: 0.6803 - val_accuracy: 0.5807\n",
            "Epoch 108/300\n",
            "10/10 [==============================] - 0s 9ms/step - loss: 0.6760 - accuracy: 0.5925 - val_loss: 0.6809 - val_accuracy: 0.5807\n",
            "Epoch 109/300\n",
            "10/10 [==============================] - 0s 7ms/step - loss: 0.6766 - accuracy: 0.5925 - val_loss: 0.6819 - val_accuracy: 0.5807\n",
            "Epoch 110/300\n",
            "10/10 [==============================] - 0s 7ms/step - loss: 0.6764 - accuracy: 0.5925 - val_loss: 0.6805 - val_accuracy: 0.5807\n",
            "Epoch 111/300\n",
            "10/10 [==============================] - 0s 6ms/step - loss: 0.6759 - accuracy: 0.5925 - val_loss: 0.6802 - val_accuracy: 0.5807\n",
            "Epoch 112/300\n",
            "10/10 [==============================] - 0s 8ms/step - loss: 0.6760 - accuracy: 0.5925 - val_loss: 0.6802 - val_accuracy: 0.5807\n",
            "Epoch 113/300\n",
            "10/10 [==============================] - 0s 8ms/step - loss: 0.6760 - accuracy: 0.5925 - val_loss: 0.6807 - val_accuracy: 0.5807\n",
            "Epoch 114/300\n",
            "10/10 [==============================] - 0s 7ms/step - loss: 0.6761 - accuracy: 0.5925 - val_loss: 0.6809 - val_accuracy: 0.5807\n",
            "Epoch 115/300\n",
            "10/10 [==============================] - 0s 8ms/step - loss: 0.6759 - accuracy: 0.5925 - val_loss: 0.6802 - val_accuracy: 0.5807\n",
            "Epoch 116/300\n",
            "10/10 [==============================] - 0s 8ms/step - loss: 0.6761 - accuracy: 0.5925 - val_loss: 0.6805 - val_accuracy: 0.5807\n",
            "Epoch 117/300\n",
            "10/10 [==============================] - 0s 8ms/step - loss: 0.6762 - accuracy: 0.5925 - val_loss: 0.6802 - val_accuracy: 0.5807\n",
            "Epoch 118/300\n",
            "10/10 [==============================] - 0s 8ms/step - loss: 0.6759 - accuracy: 0.5925 - val_loss: 0.6810 - val_accuracy: 0.5807\n",
            "Epoch 119/300\n",
            "10/10 [==============================] - 0s 7ms/step - loss: 0.6760 - accuracy: 0.5925 - val_loss: 0.6804 - val_accuracy: 0.5807\n",
            "Epoch 120/300\n",
            "10/10 [==============================] - 0s 8ms/step - loss: 0.6759 - accuracy: 0.5925 - val_loss: 0.6801 - val_accuracy: 0.5807\n",
            "Epoch 121/300\n",
            "10/10 [==============================] - 0s 8ms/step - loss: 0.6764 - accuracy: 0.5925 - val_loss: 0.6801 - val_accuracy: 0.5807\n",
            "Epoch 122/300\n",
            "10/10 [==============================] - 0s 8ms/step - loss: 0.6762 - accuracy: 0.5925 - val_loss: 0.6807 - val_accuracy: 0.5807\n",
            "Epoch 123/300\n",
            "10/10 [==============================] - 0s 10ms/step - loss: 0.6760 - accuracy: 0.5925 - val_loss: 0.6804 - val_accuracy: 0.5807\n",
            "Epoch 124/300\n",
            "10/10 [==============================] - 0s 7ms/step - loss: 0.6760 - accuracy: 0.5925 - val_loss: 0.6804 - val_accuracy: 0.5807\n",
            "Epoch 125/300\n",
            "10/10 [==============================] - 0s 7ms/step - loss: 0.6761 - accuracy: 0.5925 - val_loss: 0.6803 - val_accuracy: 0.5807\n",
            "Epoch 126/300\n",
            "10/10 [==============================] - 0s 9ms/step - loss: 0.6760 - accuracy: 0.5925 - val_loss: 0.6810 - val_accuracy: 0.5807\n",
            "Epoch 127/300\n",
            "10/10 [==============================] - 0s 9ms/step - loss: 0.6761 - accuracy: 0.5925 - val_loss: 0.6804 - val_accuracy: 0.5807\n",
            "Epoch 128/300\n",
            "10/10 [==============================] - 0s 8ms/step - loss: 0.6764 - accuracy: 0.5925 - val_loss: 0.6801 - val_accuracy: 0.5807\n",
            "Epoch 129/300\n",
            "10/10 [==============================] - 0s 8ms/step - loss: 0.6760 - accuracy: 0.5925 - val_loss: 0.6806 - val_accuracy: 0.5807\n",
            "Epoch 130/300\n",
            "10/10 [==============================] - 0s 8ms/step - loss: 0.6760 - accuracy: 0.5925 - val_loss: 0.6808 - val_accuracy: 0.5807\n",
            "Epoch 131/300\n",
            "10/10 [==============================] - 0s 8ms/step - loss: 0.6760 - accuracy: 0.5925 - val_loss: 0.6802 - val_accuracy: 0.5807\n",
            "Epoch 132/300\n",
            "10/10 [==============================] - 0s 9ms/step - loss: 0.6761 - accuracy: 0.5925 - val_loss: 0.6801 - val_accuracy: 0.5807\n",
            "Epoch 133/300\n",
            "10/10 [==============================] - 0s 6ms/step - loss: 0.6760 - accuracy: 0.5925 - val_loss: 0.6805 - val_accuracy: 0.5807\n",
            "Epoch 134/300\n",
            "10/10 [==============================] - 0s 8ms/step - loss: 0.6761 - accuracy: 0.5925 - val_loss: 0.6808 - val_accuracy: 0.5807\n",
            "Epoch 135/300\n",
            "10/10 [==============================] - 0s 6ms/step - loss: 0.6761 - accuracy: 0.5925 - val_loss: 0.6807 - val_accuracy: 0.5807\n",
            "Epoch 136/300\n",
            "10/10 [==============================] - 0s 8ms/step - loss: 0.6760 - accuracy: 0.5925 - val_loss: 0.6805 - val_accuracy: 0.5807\n",
            "Epoch 137/300\n",
            "10/10 [==============================] - 0s 6ms/step - loss: 0.6761 - accuracy: 0.5925 - val_loss: 0.6801 - val_accuracy: 0.5807\n",
            "Epoch 138/300\n",
            "10/10 [==============================] - 0s 7ms/step - loss: 0.6760 - accuracy: 0.5925 - val_loss: 0.6805 - val_accuracy: 0.5807\n",
            "Epoch 139/300\n",
            "10/10 [==============================] - 0s 8ms/step - loss: 0.6760 - accuracy: 0.5925 - val_loss: 0.6807 - val_accuracy: 0.5807\n",
            "Epoch 140/300\n",
            "10/10 [==============================] - 0s 7ms/step - loss: 0.6761 - accuracy: 0.5925 - val_loss: 0.6805 - val_accuracy: 0.5807\n",
            "Epoch 141/300\n",
            "10/10 [==============================] - 0s 8ms/step - loss: 0.6763 - accuracy: 0.5925 - val_loss: 0.6805 - val_accuracy: 0.5807\n",
            "Epoch 142/300\n",
            "10/10 [==============================] - 0s 8ms/step - loss: 0.6759 - accuracy: 0.5925 - val_loss: 0.6801 - val_accuracy: 0.5807\n",
            "Epoch 143/300\n",
            "10/10 [==============================] - 0s 8ms/step - loss: 0.6765 - accuracy: 0.5925 - val_loss: 0.6801 - val_accuracy: 0.5807\n",
            "Epoch 144/300\n",
            "10/10 [==============================] - 0s 8ms/step - loss: 0.6761 - accuracy: 0.5925 - val_loss: 0.6808 - val_accuracy: 0.5807\n",
            "Epoch 145/300\n",
            "10/10 [==============================] - 0s 7ms/step - loss: 0.6761 - accuracy: 0.5925 - val_loss: 0.6806 - val_accuracy: 0.5807\n",
            "Epoch 146/300\n",
            "10/10 [==============================] - 0s 9ms/step - loss: 0.6759 - accuracy: 0.5925 - val_loss: 0.6801 - val_accuracy: 0.5807\n",
            "Epoch 147/300\n",
            "10/10 [==============================] - 0s 7ms/step - loss: 0.6766 - accuracy: 0.5925 - val_loss: 0.6801 - val_accuracy: 0.5807\n",
            "Epoch 148/300\n",
            "10/10 [==============================] - 0s 7ms/step - loss: 0.6761 - accuracy: 0.5925 - val_loss: 0.6804 - val_accuracy: 0.5807\n",
            "Epoch 149/300\n",
            "10/10 [==============================] - 0s 6ms/step - loss: 0.6760 - accuracy: 0.5925 - val_loss: 0.6809 - val_accuracy: 0.5807\n",
            "Epoch 150/300\n",
            "10/10 [==============================] - 0s 7ms/step - loss: 0.6760 - accuracy: 0.5925 - val_loss: 0.6801 - val_accuracy: 0.5807\n",
            "Epoch 151/300\n",
            "10/10 [==============================] - 0s 6ms/step - loss: 0.6760 - accuracy: 0.5925 - val_loss: 0.6803 - val_accuracy: 0.5807\n",
            "Epoch 152/300\n",
            "10/10 [==============================] - 0s 7ms/step - loss: 0.6760 - accuracy: 0.5925 - val_loss: 0.6805 - val_accuracy: 0.5807\n",
            "Epoch 153/300\n",
            "10/10 [==============================] - 0s 8ms/step - loss: 0.6760 - accuracy: 0.5925 - val_loss: 0.6801 - val_accuracy: 0.5807\n",
            "Epoch 154/300\n",
            "10/10 [==============================] - 0s 9ms/step - loss: 0.6761 - accuracy: 0.5925 - val_loss: 0.6804 - val_accuracy: 0.5807\n",
            "Epoch 155/300\n",
            "10/10 [==============================] - 0s 11ms/step - loss: 0.6760 - accuracy: 0.5925 - val_loss: 0.6806 - val_accuracy: 0.5807\n",
            "Epoch 156/300\n",
            "10/10 [==============================] - 0s 10ms/step - loss: 0.6761 - accuracy: 0.5925 - val_loss: 0.6810 - val_accuracy: 0.5807\n",
            "Epoch 157/300\n",
            "10/10 [==============================] - 0s 11ms/step - loss: 0.6759 - accuracy: 0.5925 - val_loss: 0.6802 - val_accuracy: 0.5807\n",
            "Epoch 158/300\n",
            "10/10 [==============================] - 0s 9ms/step - loss: 0.6761 - accuracy: 0.5925 - val_loss: 0.6801 - val_accuracy: 0.5807\n",
            "Epoch 159/300\n",
            "10/10 [==============================] - 0s 9ms/step - loss: 0.6760 - accuracy: 0.5925 - val_loss: 0.6805 - val_accuracy: 0.5807\n",
            "Epoch 160/300\n",
            "10/10 [==============================] - 0s 9ms/step - loss: 0.6759 - accuracy: 0.5925 - val_loss: 0.6802 - val_accuracy: 0.5807\n",
            "Epoch 161/300\n",
            "10/10 [==============================] - 0s 9ms/step - loss: 0.6760 - accuracy: 0.5925 - val_loss: 0.6802 - val_accuracy: 0.5807\n",
            "Epoch 162/300\n",
            "10/10 [==============================] - 0s 9ms/step - loss: 0.6760 - accuracy: 0.5925 - val_loss: 0.6803 - val_accuracy: 0.5807\n",
            "Epoch 163/300\n",
            "10/10 [==============================] - 0s 9ms/step - loss: 0.6760 - accuracy: 0.5925 - val_loss: 0.6804 - val_accuracy: 0.5807\n",
            "Epoch 164/300\n",
            "10/10 [==============================] - 0s 9ms/step - loss: 0.6761 - accuracy: 0.5925 - val_loss: 0.6810 - val_accuracy: 0.5807\n",
            "Epoch 165/300\n",
            "10/10 [==============================] - 0s 10ms/step - loss: 0.6760 - accuracy: 0.5925 - val_loss: 0.6805 - val_accuracy: 0.5807\n",
            "Epoch 166/300\n",
            "10/10 [==============================] - 0s 9ms/step - loss: 0.6764 - accuracy: 0.5925 - val_loss: 0.6801 - val_accuracy: 0.5807\n",
            "Epoch 167/300\n",
            "10/10 [==============================] - 0s 10ms/step - loss: 0.6760 - accuracy: 0.5925 - val_loss: 0.6803 - val_accuracy: 0.5807\n",
            "Epoch 168/300\n",
            "10/10 [==============================] - 0s 9ms/step - loss: 0.6760 - accuracy: 0.5925 - val_loss: 0.6802 - val_accuracy: 0.5807\n",
            "Epoch 169/300\n",
            "10/10 [==============================] - 0s 10ms/step - loss: 0.6760 - accuracy: 0.5925 - val_loss: 0.6803 - val_accuracy: 0.5807\n",
            "Epoch 170/300\n",
            "10/10 [==============================] - 0s 10ms/step - loss: 0.6761 - accuracy: 0.5925 - val_loss: 0.6802 - val_accuracy: 0.5807\n",
            "Epoch 171/300\n",
            "10/10 [==============================] - 0s 9ms/step - loss: 0.6760 - accuracy: 0.5925 - val_loss: 0.6802 - val_accuracy: 0.5807\n",
            "Epoch 172/300\n",
            "10/10 [==============================] - 0s 10ms/step - loss: 0.6759 - accuracy: 0.5925 - val_loss: 0.6806 - val_accuracy: 0.5807\n",
            "Epoch 173/300\n",
            "10/10 [==============================] - 0s 10ms/step - loss: 0.6761 - accuracy: 0.5925 - val_loss: 0.6813 - val_accuracy: 0.5807\n",
            "Epoch 174/300\n",
            "10/10 [==============================] - 0s 10ms/step - loss: 0.6760 - accuracy: 0.5925 - val_loss: 0.6804 - val_accuracy: 0.5807\n",
            "Epoch 175/300\n",
            "10/10 [==============================] - 0s 10ms/step - loss: 0.6761 - accuracy: 0.5925 - val_loss: 0.6801 - val_accuracy: 0.5807\n",
            "Epoch 176/300\n",
            "10/10 [==============================] - 0s 10ms/step - loss: 0.6760 - accuracy: 0.5925 - val_loss: 0.6802 - val_accuracy: 0.5807\n",
            "Epoch 177/300\n",
            "10/10 [==============================] - 0s 10ms/step - loss: 0.6760 - accuracy: 0.5925 - val_loss: 0.6804 - val_accuracy: 0.5807\n",
            "Epoch 178/300\n",
            "10/10 [==============================] - 0s 9ms/step - loss: 0.6762 - accuracy: 0.5925 - val_loss: 0.6801 - val_accuracy: 0.5807\n",
            "Epoch 179/300\n",
            "10/10 [==============================] - 0s 10ms/step - loss: 0.6761 - accuracy: 0.5925 - val_loss: 0.6802 - val_accuracy: 0.5807\n",
            "Epoch 180/300\n",
            "10/10 [==============================] - 0s 11ms/step - loss: 0.6760 - accuracy: 0.5925 - val_loss: 0.6804 - val_accuracy: 0.5807\n",
            "Epoch 181/300\n",
            "10/10 [==============================] - 0s 11ms/step - loss: 0.6761 - accuracy: 0.5925 - val_loss: 0.6802 - val_accuracy: 0.5807\n",
            "Epoch 182/300\n",
            "10/10 [==============================] - 0s 10ms/step - loss: 0.6760 - accuracy: 0.5925 - val_loss: 0.6802 - val_accuracy: 0.5807\n",
            "Epoch 183/300\n",
            "10/10 [==============================] - 0s 9ms/step - loss: 0.6760 - accuracy: 0.5925 - val_loss: 0.6802 - val_accuracy: 0.5807\n",
            "Epoch 184/300\n",
            "10/10 [==============================] - 0s 8ms/step - loss: 0.6760 - accuracy: 0.5925 - val_loss: 0.6802 - val_accuracy: 0.5807\n",
            "Epoch 185/300\n",
            "10/10 [==============================] - 0s 10ms/step - loss: 0.6761 - accuracy: 0.5925 - val_loss: 0.6802 - val_accuracy: 0.5807\n",
            "Epoch 186/300\n",
            "10/10 [==============================] - 0s 8ms/step - loss: 0.6761 - accuracy: 0.5925 - val_loss: 0.6805 - val_accuracy: 0.5807\n",
            "Epoch 187/300\n",
            "10/10 [==============================] - 0s 11ms/step - loss: 0.6760 - accuracy: 0.5925 - val_loss: 0.6802 - val_accuracy: 0.5807\n",
            "Epoch 188/300\n",
            "10/10 [==============================] - 0s 10ms/step - loss: 0.6763 - accuracy: 0.5925 - val_loss: 0.6801 - val_accuracy: 0.5807\n",
            "Epoch 189/300\n",
            "10/10 [==============================] - 0s 9ms/step - loss: 0.6761 - accuracy: 0.5925 - val_loss: 0.6804 - val_accuracy: 0.5807\n",
            "Epoch 190/300\n",
            "10/10 [==============================] - 0s 10ms/step - loss: 0.6762 - accuracy: 0.5925 - val_loss: 0.6801 - val_accuracy: 0.5807\n",
            "Epoch 191/300\n",
            "10/10 [==============================] - 0s 8ms/step - loss: 0.6761 - accuracy: 0.5925 - val_loss: 0.6808 - val_accuracy: 0.5807\n",
            "Epoch 192/300\n",
            "10/10 [==============================] - 0s 9ms/step - loss: 0.6762 - accuracy: 0.5925 - val_loss: 0.6808 - val_accuracy: 0.5807\n",
            "Epoch 193/300\n",
            "10/10 [==============================] - 0s 6ms/step - loss: 0.6763 - accuracy: 0.5925 - val_loss: 0.6801 - val_accuracy: 0.5807\n",
            "Epoch 194/300\n",
            "10/10 [==============================] - 0s 8ms/step - loss: 0.6761 - accuracy: 0.5925 - val_loss: 0.6801 - val_accuracy: 0.5807\n",
            "Epoch 195/300\n",
            "10/10 [==============================] - 0s 8ms/step - loss: 0.6760 - accuracy: 0.5925 - val_loss: 0.6803 - val_accuracy: 0.5807\n",
            "Epoch 196/300\n",
            "10/10 [==============================] - 0s 6ms/step - loss: 0.6762 - accuracy: 0.5925 - val_loss: 0.6811 - val_accuracy: 0.5807\n",
            "Epoch 197/300\n",
            "10/10 [==============================] - 0s 8ms/step - loss: 0.6760 - accuracy: 0.5925 - val_loss: 0.6803 - val_accuracy: 0.5807\n",
            "Epoch 198/300\n",
            "10/10 [==============================] - 0s 8ms/step - loss: 0.6761 - accuracy: 0.5925 - val_loss: 0.6801 - val_accuracy: 0.5807\n",
            "Epoch 199/300\n",
            "10/10 [==============================] - 0s 6ms/step - loss: 0.6765 - accuracy: 0.5925 - val_loss: 0.6801 - val_accuracy: 0.5807\n",
            "Epoch 200/300\n",
            "10/10 [==============================] - 0s 8ms/step - loss: 0.6760 - accuracy: 0.5925 - val_loss: 0.6810 - val_accuracy: 0.5807\n",
            "Epoch 201/300\n",
            "10/10 [==============================] - 0s 7ms/step - loss: 0.6762 - accuracy: 0.5925 - val_loss: 0.6808 - val_accuracy: 0.5807\n",
            "Epoch 202/300\n",
            "10/10 [==============================] - 0s 6ms/step - loss: 0.6760 - accuracy: 0.5925 - val_loss: 0.6801 - val_accuracy: 0.5807\n",
            "Epoch 203/300\n",
            "10/10 [==============================] - 0s 7ms/step - loss: 0.6763 - accuracy: 0.5925 - val_loss: 0.6802 - val_accuracy: 0.5807\n",
            "Epoch 204/300\n",
            "10/10 [==============================] - 0s 8ms/step - loss: 0.6765 - accuracy: 0.5925 - val_loss: 0.6807 - val_accuracy: 0.5807\n",
            "Epoch 205/300\n",
            "10/10 [==============================] - 0s 8ms/step - loss: 0.6761 - accuracy: 0.5925 - val_loss: 0.6801 - val_accuracy: 0.5807\n",
            "Epoch 206/300\n",
            "10/10 [==============================] - 0s 8ms/step - loss: 0.6761 - accuracy: 0.5925 - val_loss: 0.6804 - val_accuracy: 0.5807\n",
            "Epoch 207/300\n",
            "10/10 [==============================] - 0s 6ms/step - loss: 0.6761 - accuracy: 0.5925 - val_loss: 0.6815 - val_accuracy: 0.5807\n",
            "Epoch 208/300\n",
            "10/10 [==============================] - 0s 8ms/step - loss: 0.6759 - accuracy: 0.5925 - val_loss: 0.6801 - val_accuracy: 0.5807\n",
            "Epoch 209/300\n",
            "10/10 [==============================] - 0s 8ms/step - loss: 0.6765 - accuracy: 0.5925 - val_loss: 0.6801 - val_accuracy: 0.5807\n",
            "Epoch 210/300\n",
            "10/10 [==============================] - 0s 7ms/step - loss: 0.6763 - accuracy: 0.5925 - val_loss: 0.6805 - val_accuracy: 0.5807\n",
            "Epoch 211/300\n",
            "10/10 [==============================] - 0s 9ms/step - loss: 0.6759 - accuracy: 0.5925 - val_loss: 0.6803 - val_accuracy: 0.5807\n",
            "Epoch 212/300\n",
            "10/10 [==============================] - 0s 7ms/step - loss: 0.6760 - accuracy: 0.5925 - val_loss: 0.6801 - val_accuracy: 0.5807\n",
            "Epoch 213/300\n",
            "10/10 [==============================] - 0s 6ms/step - loss: 0.6761 - accuracy: 0.5925 - val_loss: 0.6802 - val_accuracy: 0.5807\n",
            "Epoch 214/300\n",
            "10/10 [==============================] - 0s 8ms/step - loss: 0.6761 - accuracy: 0.5925 - val_loss: 0.6807 - val_accuracy: 0.5807\n",
            "Epoch 215/300\n",
            "10/10 [==============================] - 0s 8ms/step - loss: 0.6762 - accuracy: 0.5925 - val_loss: 0.6808 - val_accuracy: 0.5807\n",
            "Epoch 216/300\n",
            "10/10 [==============================] - 0s 8ms/step - loss: 0.6761 - accuracy: 0.5925 - val_loss: 0.6805 - val_accuracy: 0.5807\n",
            "Epoch 217/300\n",
            "10/10 [==============================] - 0s 6ms/step - loss: 0.6760 - accuracy: 0.5925 - val_loss: 0.6803 - val_accuracy: 0.5807\n",
            "Epoch 218/300\n",
            "10/10 [==============================] - 0s 6ms/step - loss: 0.6760 - accuracy: 0.5925 - val_loss: 0.6804 - val_accuracy: 0.5807\n",
            "Epoch 219/300\n",
            "10/10 [==============================] - 0s 6ms/step - loss: 0.6760 - accuracy: 0.5925 - val_loss: 0.6807 - val_accuracy: 0.5807\n",
            "Epoch 220/300\n",
            "10/10 [==============================] - 0s 7ms/step - loss: 0.6759 - accuracy: 0.5925 - val_loss: 0.6802 - val_accuracy: 0.5807\n",
            "Epoch 221/300\n",
            "10/10 [==============================] - 0s 8ms/step - loss: 0.6762 - accuracy: 0.5925 - val_loss: 0.6801 - val_accuracy: 0.5807\n",
            "Epoch 222/300\n",
            "10/10 [==============================] - 0s 7ms/step - loss: 0.6760 - accuracy: 0.5925 - val_loss: 0.6803 - val_accuracy: 0.5807\n",
            "Epoch 223/300\n",
            "10/10 [==============================] - 0s 8ms/step - loss: 0.6759 - accuracy: 0.5925 - val_loss: 0.6804 - val_accuracy: 0.5807\n",
            "Epoch 224/300\n",
            "10/10 [==============================] - 0s 9ms/step - loss: 0.6761 - accuracy: 0.5925 - val_loss: 0.6803 - val_accuracy: 0.5807\n",
            "Epoch 225/300\n",
            "10/10 [==============================] - 0s 6ms/step - loss: 0.6763 - accuracy: 0.5925 - val_loss: 0.6809 - val_accuracy: 0.5807\n",
            "Epoch 226/300\n",
            "10/10 [==============================] - 0s 8ms/step - loss: 0.6759 - accuracy: 0.5925 - val_loss: 0.6801 - val_accuracy: 0.5807\n",
            "Epoch 227/300\n",
            "10/10 [==============================] - 0s 8ms/step - loss: 0.6761 - accuracy: 0.5925 - val_loss: 0.6801 - val_accuracy: 0.5807\n",
            "Epoch 228/300\n",
            "10/10 [==============================] - 0s 8ms/step - loss: 0.6762 - accuracy: 0.5925 - val_loss: 0.6801 - val_accuracy: 0.5807\n",
            "Epoch 229/300\n",
            "10/10 [==============================] - 0s 6ms/step - loss: 0.6761 - accuracy: 0.5925 - val_loss: 0.6802 - val_accuracy: 0.5807\n",
            "Epoch 230/300\n",
            "10/10 [==============================] - 0s 7ms/step - loss: 0.6759 - accuracy: 0.5925 - val_loss: 0.6809 - val_accuracy: 0.5807\n",
            "Epoch 231/300\n",
            "10/10 [==============================] - 0s 6ms/step - loss: 0.6760 - accuracy: 0.5925 - val_loss: 0.6802 - val_accuracy: 0.5807\n",
            "Epoch 232/300\n",
            "10/10 [==============================] - 0s 9ms/step - loss: 0.6762 - accuracy: 0.5925 - val_loss: 0.6801 - val_accuracy: 0.5807\n",
            "Epoch 233/300\n",
            "10/10 [==============================] - 0s 6ms/step - loss: 0.6764 - accuracy: 0.5925 - val_loss: 0.6801 - val_accuracy: 0.5807\n",
            "Epoch 234/300\n",
            "10/10 [==============================] - 0s 9ms/step - loss: 0.6764 - accuracy: 0.5925 - val_loss: 0.6810 - val_accuracy: 0.5807\n",
            "Epoch 235/300\n",
            "10/10 [==============================] - 0s 8ms/step - loss: 0.6761 - accuracy: 0.5925 - val_loss: 0.6801 - val_accuracy: 0.5807\n",
            "Epoch 236/300\n",
            "10/10 [==============================] - 0s 8ms/step - loss: 0.6761 - accuracy: 0.5925 - val_loss: 0.6801 - val_accuracy: 0.5807\n",
            "Epoch 237/300\n",
            "10/10 [==============================] - 0s 8ms/step - loss: 0.6760 - accuracy: 0.5925 - val_loss: 0.6803 - val_accuracy: 0.5807\n",
            "Epoch 238/300\n",
            "10/10 [==============================] - 0s 6ms/step - loss: 0.6760 - accuracy: 0.5925 - val_loss: 0.6802 - val_accuracy: 0.5807\n",
            "Epoch 239/300\n",
            "10/10 [==============================] - 0s 7ms/step - loss: 0.6760 - accuracy: 0.5925 - val_loss: 0.6802 - val_accuracy: 0.5807\n",
            "Epoch 240/300\n",
            "10/10 [==============================] - 0s 8ms/step - loss: 0.6761 - accuracy: 0.5925 - val_loss: 0.6803 - val_accuracy: 0.5807\n",
            "Epoch 241/300\n",
            "10/10 [==============================] - 0s 8ms/step - loss: 0.6760 - accuracy: 0.5925 - val_loss: 0.6803 - val_accuracy: 0.5807\n",
            "Epoch 242/300\n",
            "10/10 [==============================] - 0s 8ms/step - loss: 0.6760 - accuracy: 0.5925 - val_loss: 0.6803 - val_accuracy: 0.5807\n",
            "Epoch 243/300\n",
            "10/10 [==============================] - 0s 9ms/step - loss: 0.6764 - accuracy: 0.5925 - val_loss: 0.6811 - val_accuracy: 0.5807\n",
            "Epoch 244/300\n",
            "10/10 [==============================] - 0s 8ms/step - loss: 0.6762 - accuracy: 0.5925 - val_loss: 0.6806 - val_accuracy: 0.5807\n",
            "Epoch 245/300\n",
            "10/10 [==============================] - 0s 6ms/step - loss: 0.6760 - accuracy: 0.5925 - val_loss: 0.6801 - val_accuracy: 0.5807\n",
            "Epoch 246/300\n",
            "10/10 [==============================] - 0s 8ms/step - loss: 0.6764 - accuracy: 0.5925 - val_loss: 0.6801 - val_accuracy: 0.5807\n",
            "Epoch 247/300\n",
            "10/10 [==============================] - 0s 7ms/step - loss: 0.6762 - accuracy: 0.5925 - val_loss: 0.6802 - val_accuracy: 0.5807\n",
            "Epoch 248/300\n",
            "10/10 [==============================] - 0s 8ms/step - loss: 0.6759 - accuracy: 0.5925 - val_loss: 0.6806 - val_accuracy: 0.5807\n",
            "Epoch 249/300\n",
            "10/10 [==============================] - 0s 6ms/step - loss: 0.6760 - accuracy: 0.5925 - val_loss: 0.6802 - val_accuracy: 0.5807\n",
            "Epoch 250/300\n",
            "10/10 [==============================] - 0s 6ms/step - loss: 0.6760 - accuracy: 0.5925 - val_loss: 0.6801 - val_accuracy: 0.5807\n",
            "Epoch 251/300\n",
            "10/10 [==============================] - 0s 6ms/step - loss: 0.6763 - accuracy: 0.5925 - val_loss: 0.6801 - val_accuracy: 0.5807\n",
            "Epoch 252/300\n",
            "10/10 [==============================] - 0s 6ms/step - loss: 0.6761 - accuracy: 0.5925 - val_loss: 0.6806 - val_accuracy: 0.5807\n",
            "Epoch 253/300\n",
            "10/10 [==============================] - 0s 7ms/step - loss: 0.6762 - accuracy: 0.5925 - val_loss: 0.6810 - val_accuracy: 0.5807\n",
            "Epoch 254/300\n",
            "10/10 [==============================] - 0s 10ms/step - loss: 0.6761 - accuracy: 0.5925 - val_loss: 0.6803 - val_accuracy: 0.5807\n",
            "Epoch 255/300\n",
            "10/10 [==============================] - 0s 8ms/step - loss: 0.6761 - accuracy: 0.5925 - val_loss: 0.6801 - val_accuracy: 0.5807\n",
            "Epoch 256/300\n",
            "10/10 [==============================] - 0s 9ms/step - loss: 0.6760 - accuracy: 0.5925 - val_loss: 0.6807 - val_accuracy: 0.5807\n",
            "Epoch 257/300\n",
            "10/10 [==============================] - 0s 8ms/step - loss: 0.6761 - accuracy: 0.5925 - val_loss: 0.6807 - val_accuracy: 0.5807\n",
            "Epoch 258/300\n",
            "10/10 [==============================] - 0s 8ms/step - loss: 0.6760 - accuracy: 0.5925 - val_loss: 0.6802 - val_accuracy: 0.5807\n",
            "Epoch 259/300\n",
            "10/10 [==============================] - 0s 8ms/step - loss: 0.6760 - accuracy: 0.5925 - val_loss: 0.6803 - val_accuracy: 0.5807\n",
            "Epoch 260/300\n",
            "10/10 [==============================] - 0s 7ms/step - loss: 0.6760 - accuracy: 0.5925 - val_loss: 0.6802 - val_accuracy: 0.5807\n",
            "Epoch 261/300\n",
            "10/10 [==============================] - 0s 7ms/step - loss: 0.6759 - accuracy: 0.5925 - val_loss: 0.6808 - val_accuracy: 0.5807\n",
            "Epoch 262/300\n",
            "10/10 [==============================] - 0s 6ms/step - loss: 0.6762 - accuracy: 0.5925 - val_loss: 0.6808 - val_accuracy: 0.5807\n",
            "Epoch 263/300\n",
            "10/10 [==============================] - 0s 8ms/step - loss: 0.6761 - accuracy: 0.5925 - val_loss: 0.6802 - val_accuracy: 0.5807\n",
            "Epoch 264/300\n",
            "10/10 [==============================] - 0s 6ms/step - loss: 0.6760 - accuracy: 0.5925 - val_loss: 0.6801 - val_accuracy: 0.5807\n",
            "Epoch 265/300\n",
            "10/10 [==============================] - 0s 7ms/step - loss: 0.6759 - accuracy: 0.5925 - val_loss: 0.6806 - val_accuracy: 0.5807\n",
            "Epoch 266/300\n",
            "10/10 [==============================] - 0s 6ms/step - loss: 0.6772 - accuracy: 0.5925 - val_loss: 0.6827 - val_accuracy: 0.5807\n",
            "Epoch 267/300\n",
            "10/10 [==============================] - 0s 8ms/step - loss: 0.6765 - accuracy: 0.5925 - val_loss: 0.6804 - val_accuracy: 0.5807\n",
            "Epoch 268/300\n",
            "10/10 [==============================] - 0s 7ms/step - loss: 0.6760 - accuracy: 0.5925 - val_loss: 0.6801 - val_accuracy: 0.5807\n",
            "Epoch 269/300\n",
            "10/10 [==============================] - 0s 7ms/step - loss: 0.6761 - accuracy: 0.5925 - val_loss: 0.6804 - val_accuracy: 0.5807\n",
            "Epoch 270/300\n",
            "10/10 [==============================] - 0s 8ms/step - loss: 0.6760 - accuracy: 0.5925 - val_loss: 0.6808 - val_accuracy: 0.5807\n",
            "Epoch 271/300\n",
            "10/10 [==============================] - 0s 8ms/step - loss: 0.6763 - accuracy: 0.5925 - val_loss: 0.6802 - val_accuracy: 0.5807\n",
            "Epoch 272/300\n",
            "10/10 [==============================] - 0s 7ms/step - loss: 0.6759 - accuracy: 0.5925 - val_loss: 0.6806 - val_accuracy: 0.5807\n",
            "Epoch 273/300\n",
            "10/10 [==============================] - 0s 8ms/step - loss: 0.6761 - accuracy: 0.5925 - val_loss: 0.6808 - val_accuracy: 0.5807\n",
            "Epoch 274/300\n",
            "10/10 [==============================] - 0s 8ms/step - loss: 0.6760 - accuracy: 0.5925 - val_loss: 0.6805 - val_accuracy: 0.5807\n",
            "Epoch 275/300\n",
            "10/10 [==============================] - 0s 6ms/step - loss: 0.6760 - accuracy: 0.5925 - val_loss: 0.6806 - val_accuracy: 0.5807\n",
            "Epoch 276/300\n",
            "10/10 [==============================] - 0s 6ms/step - loss: 0.6760 - accuracy: 0.5925 - val_loss: 0.6812 - val_accuracy: 0.5807\n",
            "Epoch 277/300\n",
            "10/10 [==============================] - 0s 8ms/step - loss: 0.6762 - accuracy: 0.5925 - val_loss: 0.6809 - val_accuracy: 0.5807\n",
            "Epoch 278/300\n",
            "10/10 [==============================] - 0s 6ms/step - loss: 0.6760 - accuracy: 0.5925 - val_loss: 0.6801 - val_accuracy: 0.5807\n",
            "Epoch 279/300\n",
            "10/10 [==============================] - 0s 8ms/step - loss: 0.6760 - accuracy: 0.5925 - val_loss: 0.6803 - val_accuracy: 0.5807\n",
            "Epoch 280/300\n",
            "10/10 [==============================] - 0s 7ms/step - loss: 0.6761 - accuracy: 0.5925 - val_loss: 0.6802 - val_accuracy: 0.5807\n",
            "Epoch 281/300\n",
            "10/10 [==============================] - 0s 9ms/step - loss: 0.6761 - accuracy: 0.5925 - val_loss: 0.6801 - val_accuracy: 0.5807\n",
            "Epoch 282/300\n",
            "10/10 [==============================] - 0s 6ms/step - loss: 0.6758 - accuracy: 0.5925 - val_loss: 0.6808 - val_accuracy: 0.5807\n",
            "Epoch 283/300\n",
            "10/10 [==============================] - 0s 8ms/step - loss: 0.6762 - accuracy: 0.5925 - val_loss: 0.6812 - val_accuracy: 0.5807\n",
            "Epoch 284/300\n",
            "10/10 [==============================] - 0s 6ms/step - loss: 0.6763 - accuracy: 0.5925 - val_loss: 0.6810 - val_accuracy: 0.5807\n",
            "Epoch 285/300\n",
            "10/10 [==============================] - 0s 11ms/step - loss: 0.6765 - accuracy: 0.5925 - val_loss: 0.6816 - val_accuracy: 0.5807\n",
            "Epoch 286/300\n",
            "10/10 [==============================] - 0s 8ms/step - loss: 0.6760 - accuracy: 0.5925 - val_loss: 0.6802 - val_accuracy: 0.5807\n",
            "Epoch 287/300\n",
            "10/10 [==============================] - 0s 8ms/step - loss: 0.6762 - accuracy: 0.5925 - val_loss: 0.6801 - val_accuracy: 0.5807\n",
            "Epoch 288/300\n",
            "10/10 [==============================] - 0s 7ms/step - loss: 0.6761 - accuracy: 0.5925 - val_loss: 0.6805 - val_accuracy: 0.5807\n",
            "Epoch 289/300\n",
            "10/10 [==============================] - 0s 6ms/step - loss: 0.6760 - accuracy: 0.5925 - val_loss: 0.6810 - val_accuracy: 0.5807\n",
            "Epoch 290/300\n",
            "10/10 [==============================] - 0s 8ms/step - loss: 0.6762 - accuracy: 0.5925 - val_loss: 0.6801 - val_accuracy: 0.5807\n",
            "Epoch 291/300\n",
            "10/10 [==============================] - 0s 7ms/step - loss: 0.6760 - accuracy: 0.5925 - val_loss: 0.6804 - val_accuracy: 0.5807\n",
            "Epoch 292/300\n",
            "10/10 [==============================] - 0s 8ms/step - loss: 0.6760 - accuracy: 0.5925 - val_loss: 0.6802 - val_accuracy: 0.5807\n",
            "Epoch 293/300\n",
            "10/10 [==============================] - 0s 9ms/step - loss: 0.6760 - accuracy: 0.5925 - val_loss: 0.6804 - val_accuracy: 0.5807\n",
            "Epoch 294/300\n",
            "10/10 [==============================] - 0s 8ms/step - loss: 0.6762 - accuracy: 0.5925 - val_loss: 0.6801 - val_accuracy: 0.5807\n",
            "Epoch 295/300\n",
            "10/10 [==============================] - 0s 7ms/step - loss: 0.6762 - accuracy: 0.5925 - val_loss: 0.6802 - val_accuracy: 0.5807\n",
            "Epoch 296/300\n",
            "10/10 [==============================] - 0s 8ms/step - loss: 0.6761 - accuracy: 0.5925 - val_loss: 0.6805 - val_accuracy: 0.5807\n",
            "Epoch 297/300\n",
            "10/10 [==============================] - 0s 9ms/step - loss: 0.6760 - accuracy: 0.5925 - val_loss: 0.6804 - val_accuracy: 0.5807\n",
            "Epoch 298/300\n",
            "10/10 [==============================] - 0s 8ms/step - loss: 0.6762 - accuracy: 0.5925 - val_loss: 0.6801 - val_accuracy: 0.5807\n",
            "Epoch 299/300\n",
            "10/10 [==============================] - 0s 7ms/step - loss: 0.6762 - accuracy: 0.5925 - val_loss: 0.6806 - val_accuracy: 0.5807\n",
            "Epoch 300/300\n",
            "10/10 [==============================] - 0s 6ms/step - loss: 0.6760 - accuracy: 0.5925 - val_loss: 0.6803 - val_accuracy: 0.5807\n"
          ]
        }
      ],
      "source": [
        "if model_selection[model_flag]==\"ALL\" or model_selection[model_flag] == \"AE\":\n",
        "  # training the model on training dataset\n",
        "  his = ae_classifier.fit(predictions, y_test, epochs=300,batch_size=500, validation_split=0.2).history"
      ]
    },
    {
      "cell_type": "code",
      "execution_count": 80,
      "metadata": {
        "id": "yeNS7pLUNYBz",
        "colab": {
          "base_uri": "https://localhost:8080/"
        },
        "outputId": "d3e7c3eb-f643-4b2a-c8ee-a52bd82b5983"
      },
      "outputs": [
        {
          "output_type": "stream",
          "name": "stdout",
          "text": [
            "Saved model to disk\n",
            "Loaded model from disk\n"
          ]
        }
      ],
      "source": [
        "if model_selection[model_flag]==\"ALL\" or model_selection[model_flag] == \"AE\":\n",
        "  filepath = '/content/drive/MyDrive/Colab_Notebooks/Models/ae_classifier_binary'+model_name_suffix+'.json'\n",
        "  weightspath = '/content/drive/MyDrive/Colab_Notebooks/Weights/ae_classifier_binary'+model_name_suffix+'.h5'\n",
        "  if (not path.isfile(filepath)): \n",
        "    # serialize model to JSON\n",
        "    ae_classifier_json = ae_classifier.to_json()\n",
        "    with open(filepath, \"w\") as json_file:\n",
        "      json_file.write(ae_classifier_json)\n",
        "\n",
        "    # serialize weights to HDF5\n",
        "    ae_classifier.save_weights(weightspath)\n",
        "    print(\"Saved model to disk\")\n",
        "\n",
        "    # load json and create model\n",
        "    json_file = open(filepath, 'r')\n",
        "    loaded_model_json = json_file.read()\n",
        "    json_file.close()\n",
        "    ae_classifier = model_from_json(loaded_model_json)\n",
        "\n",
        "    # load weights into new model\n",
        "    ae_classifier.load_weights(weightspath)\n",
        "    print(\"Loaded model from disk\")"
      ]
    },
    {
      "cell_type": "code",
      "execution_count": 81,
      "metadata": {
        "id": "AG42bV79NYFB"
      },
      "outputs": [],
      "source": [
        "if model_selection[model_flag]==\"ALL\" or model_selection[model_flag] == \"AE\":\n",
        "  ae_classifier.compile(optimizer='adam', loss='binary_crossentropy',metrics=['accuracy'])"
      ]
    },
    {
      "cell_type": "code",
      "execution_count": 82,
      "metadata": {
        "id": "13aKBGJcNYHv",
        "colab": {
          "base_uri": "https://localhost:8080/"
        },
        "outputId": "a2c8a2e8-57f3-44ad-d1ad-0ac7e82a1855"
      },
      "outputs": [
        {
          "output_type": "stream",
          "name": "stdout",
          "text": [
            "179/179 [==============================] - 1s 2ms/step - loss: 0.6906 - accuracy: 0.5873\n",
            "Test results - Loss: 0.6905527114868164 - Accuracy: 58.732664585113525%\n"
          ]
        }
      ],
      "source": [
        "if model_selection[model_flag]==\"ALL\" or model_selection[model_flag] == \"AE\":\n",
        "  # predicting target attribute on testing dataset\n",
        "  test_results = ae_classifier.evaluate(X_test, y_test, verbose=1)\n",
        "  print(f'Test results - Loss: {test_results[0]} - Accuracy: {test_results[1]*100}%')"
      ]
    },
    {
      "cell_type": "code",
      "execution_count": 83,
      "metadata": {
        "id": "zCWbOaSyN1dH"
      },
      "outputs": [],
      "source": [
        "if model_selection[model_flag]==\"ALL\" or model_selection[model_flag] == \"AE\":\n",
        "  # representation of model layers\n",
        "  plot_model(ae_classifier, to_file='/content/drive/MyDrive/Colab_Notebooks/Plots/ae_classifier_binary.png', show_shapes=True)"
      ]
    },
    {
      "cell_type": "code",
      "execution_count": 84,
      "metadata": {
        "id": "44VaFGgVOBpU",
        "colab": {
          "base_uri": "https://localhost:8080/",
          "height": 472
        },
        "outputId": "3f3ec7ef-d398-4321-d981-628a059dacd6"
      },
      "outputs": [
        {
          "output_type": "display_data",
          "data": {
            "text/plain": [
              "<Figure size 640x480 with 1 Axes>"
            ],
            "image/png": "[encoded data removed]"
          },
          "metadata": {}
        }
      ],
      "source": [
        "if model_selection[model_flag]==\"ALL\" or model_selection[model_flag] == \"AE\":\n",
        "  # Plot of loss vs epoch of train and test dataset\n",
        "  plt.plot(his['loss'])\n",
        "  plt.plot(his['val_loss'])\n",
        "  plt.title(\"Plot of loss vs epoch for train and test dataset\")\n",
        "  plt.ylabel('loss')\n",
        "  plt.xlabel('epoch')\n",
        "  plt.legend(['train', 'test'], loc='upper right')\n",
        "  plt.savefig('/content/drive/MyDrive/Colab_Notebooks/Plots/ae_classifier_binary_loss.png')\n",
        "  plt.show()"
      ]
    },
    {
      "cell_type": "code",
      "execution_count": 85,
      "metadata": {
        "id": "Am0UB82rOIo1",
        "colab": {
          "base_uri": "https://localhost:8080/",
          "height": 472
        },
        "outputId": "65fb3455-6fe3-4196-88bd-4b38e3ac3072"
      },
      "outputs": [
        {
          "output_type": "display_data",
          "data": {
            "text/plain": [
              "<Figure size 640x480 with 1 Axes>"
            ],
            "image/png": "[encoded data removed]"
          },
          "metadata": {}
        }
      ],
      "source": [
        "if model_selection[model_flag]==\"ALL\" or model_selection[model_flag] == \"AE\":\n",
        "  # Plot of accuracy vs epoch of train and test dataset\n",
        "  plt.plot(his['accuracy'])\n",
        "  plt.plot(his['val_accuracy'])\n",
        "  plt.title(\"Plot of accuracy vs epoch for train and test dataset\")\n",
        "  plt.ylabel('accuracy')\n",
        "  plt.xlabel('epoch')\n",
        "  plt.legend(['train', 'test'], loc='best')\n",
        "  plt.savefig('/content/drive/MyDrive/Colab_Notebooks/Plots/ae_classifier_binary_accuracy.png')\n",
        "  plt.show()"
      ]
    },
    {
      "cell_type": "code",
      "execution_count": 86,
      "metadata": {
        "id": "f5OZTlm0OMoW",
        "colab": {
          "base_uri": "https://localhost:8080/"
        },
        "outputId": "59b5e942-6949-4c2f-e596-1a90d842db75"
      },
      "outputs": [
        {
          "output_type": "stream",
          "name": "stdout",
          "text": [
            "179/179 [==============================] - 0s 2ms/step\n"
          ]
        }
      ],
      "source": [
        "if model_selection[model_flag]==\"ALL\" or model_selection[model_flag] == \"AE\":\n",
        "  y_pred = ae_classifier.predict(X_test).ravel()\n",
        "  fpr, tpr, thresholds = roc_curve(y_test, y_pred)\n",
        "  #auc = auc(fpr, tpr)"
      ]
    },
    {
      "cell_type": "code",
      "execution_count": 87,
      "metadata": {
        "id": "GbSkwfO2OTkn",
        "colab": {
          "base_uri": "https://localhost:8080/",
          "height": 510
        },
        "outputId": "6227c6b9-4d46-49f3-df2d-d1d6b3e4ef6e"
      },
      "outputs": [
        {
          "output_type": "stream",
          "name": "stderr",
          "text": [
            "WARNING:matplotlib.legend:No artists with labels found to put in legend.  Note that artists whose label start with an underscore are ignored when legend() is called with no argument.\n"
          ]
        },
        {
          "output_type": "display_data",
          "data": {
            "text/plain": [
              "<Figure size 640x480 with 1 Axes>"
            ],
            "image/png": "[encoded data removed]"
          },
          "metadata": {}
        }
      ],
      "source": [
        "if model_selection[model_flag]==\"ALL\" or model_selection[model_flag] == \"AE\":\n",
        "  plt.plot([0, 1], [0, 1], 'k--')\n",
        "  #plt.plot(fpr, tpr, label='Keras (area = {:.3f})'.format(auc))\n",
        "  plt.plot(fpr, tpr)\n",
        "  plt.xlabel('False positive rate')\n",
        "  plt.ylabel('True positive rate')\n",
        "  plt.title('ROC curve')\n",
        "  plt.legend(loc='best')\n",
        "  plt.savefig('/content/drive/MyDrive/Colab_Notebooks/Plots/ae_binary_roc.png')\n",
        "  plt.show()"
      ]
    },
    {
      "cell_type": "code",
      "execution_count": 88,
      "metadata": {
        "id": "n7Xl74UXOZxm",
        "colab": {
          "base_uri": "https://localhost:8080/"
        },
        "outputId": "19becb72-4f14-4d28-cba7-0bec3b5d39f6"
      },
      "outputs": [
        {
          "output_type": "stream",
          "name": "stdout",
          "text": [
            "179/179 [==============================] - 0s 1ms/step\n",
            "179/179 [==============================] - 0s 1ms/step\n"
          ]
        }
      ],
      "source": [
        "if model_selection[model_flag]==\"ALL\" or model_selection[model_flag] == \"AE\":\n",
        "  pred = ae_classifier.predict(X_test)\n",
        "  y_classes = (ae_classifier.predict(X_test)>0.5).astype('int32')"
      ]
    },
    {
      "cell_type": "code",
      "execution_count": 89,
      "metadata": {
        "id": "WA_g3UlXOZ71",
        "colab": {
          "base_uri": "https://localhost:8080/"
        },
        "outputId": "17750624-f703-43e8-9209-be9e639a7560"
      },
      "outputs": [
        {
          "output_type": "stream",
          "name": "stdout",
          "text": [
            "Recall Score -  0.0\n",
            "F1 Score -  0.0\n",
            "Precision Score -  0.0\n",
            "False Positive Rate -  [1.         0.00475907]\n",
            "False Negative Rate -  [0. 1.]\n",
            "Thresholds -  [0 1]\n"
          ]
        }
      ],
      "source": [
        "if model_selection[model_flag]==\"ALL\" or model_selection[model_flag] == \"AE\":\n",
        "  print(\"Recall Score - \",recall_score(y_test,y_classes))\n",
        "  print(\"F1 Score - \",f1_score(y_test,y_classes))\n",
        "  print(\"Precision Score - \",precision_score(y_test,y_classes))\n",
        "  fpr, fnr, thresholds = det_curve(y_test, y_classes)\n",
        "  print(\"False Positive Rate - \", fpr)\n",
        "  print(\"False Negative Rate - \", fnr)\n",
        "  print(\"Thresholds - \", thresholds)"
      ]
    },
    {
      "cell_type": "code",
      "source": [
        "print(classification_report(y_test, y_classes, target_names=['0', '1']))\n",
        "cm = confusion_matrix(y_test, y_classes)\n",
        "disp = ConfusionMatrixDisplay(confusion_matrix=cm,\n",
        "                              display_labels=['0', '1'])\n",
        "disp.plot()\n",
        "\n",
        "plt.show()"
      ],
      "metadata": {
        "colab": {
          "base_uri": "https://localhost:8080/",
          "height": 610
        },
        "id": "UgHHdx0qoryj",
        "outputId": "2b919f91-b781-4402-91bf-3e455a64d1e5"
      },
      "execution_count": 90,
      "outputs": [
        {
          "output_type": "stream",
          "name": "stdout",
          "text": [
            "              precision    recall  f1-score   support\n",
            "\n",
            "           0       0.59      1.00      0.74      3362\n",
            "           1       0.00      0.00      0.00      2335\n",
            "\n",
            "    accuracy                           0.59      5697\n",
            "   macro avg       0.29      0.50      0.37      5697\n",
            "weighted avg       0.35      0.59      0.44      5697\n",
            "\n"
          ]
        },
        {
          "output_type": "display_data",
          "data": {
            "text/plain": [
              "<Figure size 640x480 with 2 Axes>"
            ],
            "image/png": "[encoded data removed]"
          },
          "metadata": {}
        }
      ]
    }
  ],
  "metadata": {
    "colab": {
      "provenance": [],
      "include_colab_link": true
    },
    "gpuClass": "standard",
    "kernelspec": {
      "display_name": "Python 3",
      "name": "python3"
    },
    "language_info": {
      "name": "python"
    },
    "accelerator": "GPU"
  },
  "nbformat": 4,
  "nbformat_minor": 0
}