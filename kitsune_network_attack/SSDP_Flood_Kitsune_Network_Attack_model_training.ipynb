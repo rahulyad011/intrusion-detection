{
  "cells": [
    {
      "cell_type": "markdown",
      "metadata": {
        "id": "view-in-github",
        "colab_type": "text"
      },
      "source": [
        "<a href=\"https://colab.research.google.com/github/rahulyad011/intrusion-detection/blob/main/SSDP_Flood_Kitsune_Network_Attack_model_training.ipynb\" target=\"_parent\"><img src=\"https://colab.research.google.com/assets/colab-badge.svg\" alt=\"Open In Colab\"/></a>"
      ]
    },
    {
      "cell_type": "code",
      "execution_count": 1,
      "metadata": {
        "id": "qXQ8rUmdwaf4"
      },
      "outputs": [],
      "source": [
        "\n",
        "from sklearn.metrics import accuracy_score # for calculating accuracy of model\n",
        "from sklearn.model_selection import train_test_split # for splitting the dataset for training and testing\n",
        "from sklearn.metrics import classification_report # for generating a classification report of model\n",
        "import pickle # saving and loading trained model\n",
        "from os import path\n",
        "import numpy as np\n",
        "import pandas as pd\n",
        "import matplotlib.pyplot as plt\n",
        "\n",
        "# importing library for support vector machine classifier\n",
        "from sklearn.svm import SVC\n",
        "\n",
        "# MLP requirements \n",
        "from keras.layers import Dense # importing dense layer\n",
        "from keras.models import Sequential #importing Sequential layer\n",
        "from keras.models import model_from_json # saving and loading trained model\n",
        "\n",
        "# LSTM requirements \n",
        "from keras.layers import LSTM\n",
        "from keras.layers import Input\n",
        "from keras.models import Model\n",
        "\n",
        "# evaluation metrices\n",
        "from sklearn.metrics import classification_report, confusion_matrix\n",
        "from sklearn.metrics import roc_auc_score\n",
        "from sklearn.metrics import roc_curve, auc\n",
        "from sklearn.metrics import precision_score\n",
        "from sklearn.metrics import recall_score\n",
        "from sklearn.metrics import f1_score\n",
        "from sklearn.metrics import det_curve\n",
        "\n",
        "# representation of model layers\n",
        "from keras.utils.vis_utils import plot_model"
      ]
    },
    {
      "cell_type": "code",
      "source": [
        "from google.colab import drive\n",
        "drive.mount('/content/drive')"
      ],
      "metadata": {
        "colab": {
          "base_uri": "https://localhost:8080/"
        },
        "id": "DBCkPmpEjFSf",
        "outputId": "8a21837c-3120-4dbd-9329-9175f5ab26a4"
      },
      "execution_count": 2,
      "outputs": [
        {
          "output_type": "stream",
          "name": "stdout",
          "text": [
            "Mounted at /content/drive\n"
          ]
        }
      ]
    },
    {
      "cell_type": "code",
      "execution_count": 3,
      "metadata": {
        "colab": {
          "base_uri": "https://localhost:8080/",
          "height": 505
        },
        "id": "Pepa9lW8whHh",
        "outputId": "3b7fc5ce-8a41-4ebb-90d2-f47c3249cad7"
      },
      "outputs": [
        {
          "output_type": "execute_result",
          "data": {
            "text/plain": [
              "                X1          X2            X3            X4          X5  \\\n",
              "0        71.030128  698.275480  4.254596e+05     94.536860  688.852207   \n",
              "1       103.369751  734.244504  4.336694e+05    174.879220  734.393907   \n",
              "2       121.256410  741.734898  4.428812e+05    194.491879  743.294359   \n",
              "3       145.606271  718.813927  4.248902e+05    212.102609  719.515246   \n",
              "4       154.933965  755.461156  4.450462e+05    231.277776  754.231415   \n",
              "...            ...         ...           ...           ...         ...   \n",
              "40768  7379.388294  136.000000  1.382432e-10  12294.366516  136.000000   \n",
              "40769  7349.763157  136.000000  3.055902e-10  12261.621604  136.000000   \n",
              "40770  7389.209551  136.000000  6.184564e-11  12308.391645  136.000000   \n",
              "40771  7344.441907  136.000000  9.458745e-11  12260.360776  136.000000   \n",
              "40772  7392.611808  136.000000  2.182787e-11  12309.208847  136.000000   \n",
              "\n",
              "                 X6            X7          X8            X9            X10  \\\n",
              "0      4.158844e+05    227.715356  679.702301  4.041930e+05    2095.691398   \n",
              "1      4.330045e+05    560.609722  732.648217  4.332032e+05    5895.929353   \n",
              "2      4.416820e+05    542.819665  743.804336  4.396245e+05    4914.135046   \n",
              "3      4.197664e+05    567.545756  721.439036  4.157489e+05    5479.153357   \n",
              "4      4.434964e+05    618.624175  750.475836  4.417625e+05    4965.896941   \n",
              "...             ...           ...         ...           ...            ...   \n",
              "40768  3.637979e-11  36873.805097  136.000000  9.858923e-10  311888.879927   \n",
              "40769  8.003553e-11  36822.775672  136.000000  1.091394e-11  337423.623168   \n",
              "40770  1.527951e-10  36892.389825  136.000000  6.002665e-10  312890.905198   \n",
              "40771  2.582965e-10  36775.713128  136.000000  3.637979e-12  341580.937771   \n",
              "40772  2.182787e-11  36884.525002  136.000000  1.236913e-10  303945.333091   \n",
              "\n",
              "       ...  X108          X109        X110        X111        X112  \\\n",
              "0      ...   0.0  10073.736589  191.389730  188.253039  191.389730   \n",
              "1      ...   0.0  16785.595641  200.528185  298.850720  200.528185   \n",
              "2      ...   0.0  26076.382102  158.005818  208.164714  158.005818   \n",
              "3      ...   0.0  16095.104004  202.539845  254.085139  202.539845   \n",
              "4      ...   0.0  26149.488161  157.507086  206.957049  157.507086   \n",
              "...    ...   ...           ...         ...         ...         ...   \n",
              "40768  ...   0.0     11.780505  136.000000    0.000000  136.000000   \n",
              "40769  ...   0.0     18.625073  136.000000    0.000000  136.000000   \n",
              "40770  ...   0.0     16.399598  136.000000    0.000003  136.000000   \n",
              "40771  ...   0.0     14.579967  136.000000    0.000002  136.000000   \n",
              "40772  ...   0.0      9.301602  136.000000    0.000002  136.000000   \n",
              "\n",
              "               X113  X114  X115  Unnamed: 0  label  \n",
              "0      3.543921e+04   0.0   0.0      261388    0.0  \n",
              "1      8.931175e+04   0.0   0.0      759120    0.0  \n",
              "2      4.333255e+04   0.0   0.0     1633535    0.0  \n",
              "3      6.455926e+04   0.0   0.0     2124441    0.0  \n",
              "4      4.283122e+04   0.0   0.0      816513    0.0  \n",
              "...             ...   ...   ...         ...    ...  \n",
              "40768  0.000000e+00   0.0   0.0     3320052    1.0  \n",
              "40769  0.000000e+00   0.0   0.0     3544123    1.0  \n",
              "40770  7.275958e-12   0.0   0.0     3326589    1.0  \n",
              "40771  3.637979e-12   0.0   0.0     3866299    1.0  \n",
              "40772  3.637979e-12   0.0   0.0     3271190    1.0  \n",
              "\n",
              "[40773 rows x 117 columns]"
            ],
            "text/html": [
              "\n",
              "  <div id=\"df-753e3840-9cd7-46b7-8a27-3f2f68fddfb1\">\n",
              "    <div class=\"colab-df-container\">\n",
              "      <div>\n",
              "<style scoped>\n",
              "    .dataframe tbody tr th:only-of-type {\n",
              "        vertical-align: middle;\n",
              "    }\n",
              "\n",
              "    .dataframe tbody tr th {\n",
              "        vertical-align: top;\n",
              "    }\n",
              "\n",
              "    .dataframe thead th {\n",
              "        text-align: right;\n",
              "    }\n",
              "</style>\n",
              "<table border=\"1\" class=\"dataframe\">\n",
              "  <thead>\n",
              "    <tr style=\"text-align: right;\">\n",
              "      <th></th>\n",
              "      <th>X1</th>\n",
              "      <th>X2</th>\n",
              "      <th>X3</th>\n",
              "      <th>X4</th>\n",
              "      <th>X5</th>\n",
              "      <th>X6</th>\n",
              "      <th>X7</th>\n",
              "      <th>X8</th>\n",
              "      <th>X9</th>\n",
              "      <th>X10</th>\n",
              "      <th>...</th>\n",
              "      <th>X108</th>\n",
              "      <th>X109</th>\n",
              "      <th>X110</th>\n",
              "      <th>X111</th>\n",
              "      <th>X112</th>\n",
              "      <th>X113</th>\n",
              "      <th>X114</th>\n",
              "      <th>X115</th>\n",
              "      <th>Unnamed: 0</th>\n",
              "      <th>label</th>\n",
              "    </tr>\n",
              "  </thead>\n",
              "  <tbody>\n",
              "    <tr>\n",
              "      <th>0</th>\n",
              "      <td>71.030128</td>\n",
              "      <td>698.275480</td>\n",
              "      <td>4.254596e+05</td>\n",
              "      <td>94.536860</td>\n",
              "      <td>688.852207</td>\n",
              "      <td>4.158844e+05</td>\n",
              "      <td>227.715356</td>\n",
              "      <td>679.702301</td>\n",
              "      <td>4.041930e+05</td>\n",
              "      <td>2095.691398</td>\n",
              "      <td>...</td>\n",
              "      <td>0.0</td>\n",
              "      <td>10073.736589</td>\n",
              "      <td>191.389730</td>\n",
              "      <td>188.253039</td>\n",
              "      <td>191.389730</td>\n",
              "      <td>3.543921e+04</td>\n",
              "      <td>0.0</td>\n",
              "      <td>0.0</td>\n",
              "      <td>261388</td>\n",
              "      <td>0.0</td>\n",
              "    </tr>\n",
              "    <tr>\n",
              "      <th>1</th>\n",
              "      <td>103.369751</td>\n",
              "      <td>734.244504</td>\n",
              "      <td>4.336694e+05</td>\n",
              "      <td>174.879220</td>\n",
              "      <td>734.393907</td>\n",
              "      <td>4.330045e+05</td>\n",
              "      <td>560.609722</td>\n",
              "      <td>732.648217</td>\n",
              "      <td>4.332032e+05</td>\n",
              "      <td>5895.929353</td>\n",
              "      <td>...</td>\n",
              "      <td>0.0</td>\n",
              "      <td>16785.595641</td>\n",
              "      <td>200.528185</td>\n",
              "      <td>298.850720</td>\n",
              "      <td>200.528185</td>\n",
              "      <td>8.931175e+04</td>\n",
              "      <td>0.0</td>\n",
              "      <td>0.0</td>\n",
              "      <td>759120</td>\n",
              "      <td>0.0</td>\n",
              "    </tr>\n",
              "    <tr>\n",
              "      <th>2</th>\n",
              "      <td>121.256410</td>\n",
              "      <td>741.734898</td>\n",
              "      <td>4.428812e+05</td>\n",
              "      <td>194.491879</td>\n",
              "      <td>743.294359</td>\n",
              "      <td>4.416820e+05</td>\n",
              "      <td>542.819665</td>\n",
              "      <td>743.804336</td>\n",
              "      <td>4.396245e+05</td>\n",
              "      <td>4914.135046</td>\n",
              "      <td>...</td>\n",
              "      <td>0.0</td>\n",
              "      <td>26076.382102</td>\n",
              "      <td>158.005818</td>\n",
              "      <td>208.164714</td>\n",
              "      <td>158.005818</td>\n",
              "      <td>4.333255e+04</td>\n",
              "      <td>0.0</td>\n",
              "      <td>0.0</td>\n",
              "      <td>1633535</td>\n",
              "      <td>0.0</td>\n",
              "    </tr>\n",
              "    <tr>\n",
              "      <th>3</th>\n",
              "      <td>145.606271</td>\n",
              "      <td>718.813927</td>\n",
              "      <td>4.248902e+05</td>\n",
              "      <td>212.102609</td>\n",
              "      <td>719.515246</td>\n",
              "      <td>4.197664e+05</td>\n",
              "      <td>567.545756</td>\n",
              "      <td>721.439036</td>\n",
              "      <td>4.157489e+05</td>\n",
              "      <td>5479.153357</td>\n",
              "      <td>...</td>\n",
              "      <td>0.0</td>\n",
              "      <td>16095.104004</td>\n",
              "      <td>202.539845</td>\n",
              "      <td>254.085139</td>\n",
              "      <td>202.539845</td>\n",
              "      <td>6.455926e+04</td>\n",
              "      <td>0.0</td>\n",
              "      <td>0.0</td>\n",
              "      <td>2124441</td>\n",
              "      <td>0.0</td>\n",
              "    </tr>\n",
              "    <tr>\n",
              "      <th>4</th>\n",
              "      <td>154.933965</td>\n",
              "      <td>755.461156</td>\n",
              "      <td>4.450462e+05</td>\n",
              "      <td>231.277776</td>\n",
              "      <td>754.231415</td>\n",
              "      <td>4.434964e+05</td>\n",
              "      <td>618.624175</td>\n",
              "      <td>750.475836</td>\n",
              "      <td>4.417625e+05</td>\n",
              "      <td>4965.896941</td>\n",
              "      <td>...</td>\n",
              "      <td>0.0</td>\n",
              "      <td>26149.488161</td>\n",
              "      <td>157.507086</td>\n",
              "      <td>206.957049</td>\n",
              "      <td>157.507086</td>\n",
              "      <td>4.283122e+04</td>\n",
              "      <td>0.0</td>\n",
              "      <td>0.0</td>\n",
              "      <td>816513</td>\n",
              "      <td>0.0</td>\n",
              "    </tr>\n",
              "    <tr>\n",
              "      <th>...</th>\n",
              "      <td>...</td>\n",
              "      <td>...</td>\n",
              "      <td>...</td>\n",
              "      <td>...</td>\n",
              "      <td>...</td>\n",
              "      <td>...</td>\n",
              "      <td>...</td>\n",
              "      <td>...</td>\n",
              "      <td>...</td>\n",
              "      <td>...</td>\n",
              "      <td>...</td>\n",
              "      <td>...</td>\n",
              "      <td>...</td>\n",
              "      <td>...</td>\n",
              "      <td>...</td>\n",
              "      <td>...</td>\n",
              "      <td>...</td>\n",
              "      <td>...</td>\n",
              "      <td>...</td>\n",
              "      <td>...</td>\n",
              "      <td>...</td>\n",
              "    </tr>\n",
              "    <tr>\n",
              "      <th>40768</th>\n",
              "      <td>7379.388294</td>\n",
              "      <td>136.000000</td>\n",
              "      <td>1.382432e-10</td>\n",
              "      <td>12294.366516</td>\n",
              "      <td>136.000000</td>\n",
              "      <td>3.637979e-11</td>\n",
              "      <td>36873.805097</td>\n",
              "      <td>136.000000</td>\n",
              "      <td>9.858923e-10</td>\n",
              "      <td>311888.879927</td>\n",
              "      <td>...</td>\n",
              "      <td>0.0</td>\n",
              "      <td>11.780505</td>\n",
              "      <td>136.000000</td>\n",
              "      <td>0.000000</td>\n",
              "      <td>136.000000</td>\n",
              "      <td>0.000000e+00</td>\n",
              "      <td>0.0</td>\n",
              "      <td>0.0</td>\n",
              "      <td>3320052</td>\n",
              "      <td>1.0</td>\n",
              "    </tr>\n",
              "    <tr>\n",
              "      <th>40769</th>\n",
              "      <td>7349.763157</td>\n",
              "      <td>136.000000</td>\n",
              "      <td>3.055902e-10</td>\n",
              "      <td>12261.621604</td>\n",
              "      <td>136.000000</td>\n",
              "      <td>8.003553e-11</td>\n",
              "      <td>36822.775672</td>\n",
              "      <td>136.000000</td>\n",
              "      <td>1.091394e-11</td>\n",
              "      <td>337423.623168</td>\n",
              "      <td>...</td>\n",
              "      <td>0.0</td>\n",
              "      <td>18.625073</td>\n",
              "      <td>136.000000</td>\n",
              "      <td>0.000000</td>\n",
              "      <td>136.000000</td>\n",
              "      <td>0.000000e+00</td>\n",
              "      <td>0.0</td>\n",
              "      <td>0.0</td>\n",
              "      <td>3544123</td>\n",
              "      <td>1.0</td>\n",
              "    </tr>\n",
              "    <tr>\n",
              "      <th>40770</th>\n",
              "      <td>7389.209551</td>\n",
              "      <td>136.000000</td>\n",
              "      <td>6.184564e-11</td>\n",
              "      <td>12308.391645</td>\n",
              "      <td>136.000000</td>\n",
              "      <td>1.527951e-10</td>\n",
              "      <td>36892.389825</td>\n",
              "      <td>136.000000</td>\n",
              "      <td>6.002665e-10</td>\n",
              "      <td>312890.905198</td>\n",
              "      <td>...</td>\n",
              "      <td>0.0</td>\n",
              "      <td>16.399598</td>\n",
              "      <td>136.000000</td>\n",
              "      <td>0.000003</td>\n",
              "      <td>136.000000</td>\n",
              "      <td>7.275958e-12</td>\n",
              "      <td>0.0</td>\n",
              "      <td>0.0</td>\n",
              "      <td>3326589</td>\n",
              "      <td>1.0</td>\n",
              "    </tr>\n",
              "    <tr>\n",
              "      <th>40771</th>\n",
              "      <td>7344.441907</td>\n",
              "      <td>136.000000</td>\n",
              "      <td>9.458745e-11</td>\n",
              "      <td>12260.360776</td>\n",
              "      <td>136.000000</td>\n",
              "      <td>2.582965e-10</td>\n",
              "      <td>36775.713128</td>\n",
              "      <td>136.000000</td>\n",
              "      <td>3.637979e-12</td>\n",
              "      <td>341580.937771</td>\n",
              "      <td>...</td>\n",
              "      <td>0.0</td>\n",
              "      <td>14.579967</td>\n",
              "      <td>136.000000</td>\n",
              "      <td>0.000002</td>\n",
              "      <td>136.000000</td>\n",
              "      <td>3.637979e-12</td>\n",
              "      <td>0.0</td>\n",
              "      <td>0.0</td>\n",
              "      <td>3866299</td>\n",
              "      <td>1.0</td>\n",
              "    </tr>\n",
              "    <tr>\n",
              "      <th>40772</th>\n",
              "      <td>7392.611808</td>\n",
              "      <td>136.000000</td>\n",
              "      <td>2.182787e-11</td>\n",
              "      <td>12309.208847</td>\n",
              "      <td>136.000000</td>\n",
              "      <td>2.182787e-11</td>\n",
              "      <td>36884.525002</td>\n",
              "      <td>136.000000</td>\n",
              "      <td>1.236913e-10</td>\n",
              "      <td>303945.333091</td>\n",
              "      <td>...</td>\n",
              "      <td>0.0</td>\n",
              "      <td>9.301602</td>\n",
              "      <td>136.000000</td>\n",
              "      <td>0.000002</td>\n",
              "      <td>136.000000</td>\n",
              "      <td>3.637979e-12</td>\n",
              "      <td>0.0</td>\n",
              "      <td>0.0</td>\n",
              "      <td>3271190</td>\n",
              "      <td>1.0</td>\n",
              "    </tr>\n",
              "  </tbody>\n",
              "</table>\n",
              "<p>40773 rows × 117 columns</p>\n",
              "</div>\n",
              "      <button class=\"colab-df-convert\" onclick=\"convertToInteractive('df-753e3840-9cd7-46b7-8a27-3f2f68fddfb1')\"\n",
              "              title=\"Convert this dataframe to an interactive table.\"\n",
              "              style=\"display:none;\">\n",
              "        \n",
              "  <svg xmlns=\"http://www.w3.org/2000/svg\" height=\"24px\"viewBox=\"0 0 24 24\"\n",
              "       width=\"24px\">\n",
              "    <path d=\"M0 0h24v24H0V0z\" fill=\"none\"/>\n",
              "    <path d=\"M18.56 5.44l.94 2.06.94-2.06 2.06-.94-2.06-.94-.94-2.06-.94 2.06-2.06.94zm-11 1L8.5 8.5l.94-2.06 2.06-.94-2.06-.94L8.5 2.5l-.94 2.06-2.06.94zm10 10l.94 2.06.94-2.06 2.06-.94-2.06-.94-.94-2.06-.94 2.06-2.06.94z\"/><path d=\"M17.41 7.96l-1.37-1.37c-.4-.4-.92-.59-1.43-.59-.52 0-1.04.2-1.43.59L10.3 9.45l-7.72 7.72c-.78.78-.78 2.05 0 2.83L4 21.41c.39.39.9.59 1.41.59.51 0 1.02-.2 1.41-.59l7.78-7.78 2.81-2.81c.8-.78.8-2.07 0-2.86zM5.41 20L4 18.59l7.72-7.72 1.47 1.35L5.41 20z\"/>\n",
              "  </svg>\n",
              "      </button>\n",
              "      \n",
              "  <style>\n",
              "    .colab-df-container {\n",
              "      display:flex;\n",
              "      flex-wrap:wrap;\n",
              "      gap: 12px;\n",
              "    }\n",
              "\n",
              "    .colab-df-convert {\n",
              "      background-color: #E8F0FE;\n",
              "      border: none;\n",
              "      border-radius: 50%;\n",
              "      cursor: pointer;\n",
              "      display: none;\n",
              "      fill: #1967D2;\n",
              "      height: 32px;\n",
              "      padding: 0 0 0 0;\n",
              "      width: 32px;\n",
              "    }\n",
              "\n",
              "    .colab-df-convert:hover {\n",
              "      background-color: #E2EBFA;\n",
              "      box-shadow: 0px 1px 2px rgba(60, 64, 67, 0.3), 0px 1px 3px 1px rgba(60, 64, 67, 0.15);\n",
              "      fill: #174EA6;\n",
              "    }\n",
              "\n",
              "    [theme=dark] .colab-df-convert {\n",
              "      background-color: #3B4455;\n",
              "      fill: #D2E3FC;\n",
              "    }\n",
              "\n",
              "    [theme=dark] .colab-df-convert:hover {\n",
              "      background-color: #434B5C;\n",
              "      box-shadow: 0px 1px 3px 1px rgba(0, 0, 0, 0.15);\n",
              "      filter: drop-shadow(0px 1px 2px rgba(0, 0, 0, 0.3));\n",
              "      fill: #FFFFFF;\n",
              "    }\n",
              "  </style>\n",
              "\n",
              "      <script>\n",
              "        const buttonEl =\n",
              "          document.querySelector('#df-753e3840-9cd7-46b7-8a27-3f2f68fddfb1 button.colab-df-convert');\n",
              "        buttonEl.style.display =\n",
              "          google.colab.kernel.accessAllowed ? 'block' : 'none';\n",
              "\n",
              "        async function convertToInteractive(key) {\n",
              "          const element = document.querySelector('#df-753e3840-9cd7-46b7-8a27-3f2f68fddfb1');\n",
              "          const dataTable =\n",
              "            await google.colab.kernel.invokeFunction('convertToInteractive',\n",
              "                                                     [key], {});\n",
              "          if (!dataTable) return;\n",
              "\n",
              "          const docLinkHtml = 'Like what you see? Visit the ' +\n",
              "            '<a target=\"_blank\" href=https://colab.research.google.com/notebooks/data_table.ipynb>data table notebook</a>'\n",
              "            + ' to learn more about interactive tables.';\n",
              "          element.innerHTML = '';\n",
              "          dataTable['output_type'] = 'display_data';\n",
              "          await google.colab.output.renderOutput(dataTable, element);\n",
              "          const docLink = document.createElement('div');\n",
              "          docLink.innerHTML = docLinkHtml;\n",
              "          element.appendChild(docLink);\n",
              "        }\n",
              "      </script>\n",
              "    </div>\n",
              "  </div>\n",
              "  "
            ]
          },
          "metadata": {},
          "execution_count": 3
        }
      ],
      "source": [
        "bin_data_total = data = pd.read_csv(\"/content/drive/MyDrive/Colab_Notebooks/Datasets/kitsume_network_attack_dataset/SSDP_Flood_dataset_kitsune_binary_data_1M.csv\")\n",
        "bin_data_total.drop(bin_data_total.columns[0],axis=1,inplace=True)\n",
        "bin_data_total"
      ]
    },
    {
      "cell_type": "code",
      "execution_count": 4,
      "metadata": {
        "colab": {
          "base_uri": "https://localhost:8080/"
        },
        "id": "xHCs0B3sKOa_",
        "outputId": "00081a66-8c3e-4177-d66a-1b4ba0ac1da3"
      },
      "outputs": [
        {
          "output_type": "execute_result",
          "data": {
            "text/plain": [
              "0.0    0.646923\n",
              "1.0    0.353077\n",
              "Name: label, dtype: float64"
            ]
          },
          "metadata": {},
          "execution_count": 4
        }
      ],
      "source": [
        "# distribution of label class before sampling\n",
        "data_size = bin_data_total.shape[0]\n",
        "# data_size\n",
        "bin_data_total.label.value_counts()/data_size"
      ]
    },
    {
      "cell_type": "code",
      "source": [
        "model_name_suffix = \"_kitsune_SSDP_Flood\""
      ],
      "metadata": {
        "collapsed": true,
        "id": "xoRpI3HV9G2v"
      },
      "execution_count": 5,
      "outputs": []
    },
    {
      "cell_type": "code",
      "source": [
        "# numeric feature normalization\n",
        "from sklearn.preprocessing import MinMaxScaler\n",
        "from sklearn.preprocessing import StandardScaler\n",
        "\n",
        "numeric_cols = bin_data_total.select_dtypes(['number']).columns\n",
        "numeric_cols = numeric_cols.drop('label')\n",
        "flag = 0\n",
        "scaler = None\n",
        "if flag:\n",
        "  # using standard scaler for normalizing\n",
        "  scaler = StandardScaler()\n",
        "else:\n",
        "  # using minmax scaler for normalizing\n",
        "  # to avoid negative values after scaling\n",
        "  scaler = MinMaxScaler()\n",
        "\n",
        "def normalization_train(df,col):\n",
        "  for i in col:\n",
        "    arr = df[i]\n",
        "    arr = np.array(arr)\n",
        "    df[i] = scaler.fit_transform(arr.reshape(len(arr),1))\n",
        "  return df\n",
        "\n",
        "def normalization_test(df,col):\n",
        "  for i in col:\n",
        "    arr = df[i]\n",
        "    arr = np.array(arr)\n",
        "    df[i] = scaler.transform(arr.reshape(len(arr),1))\n",
        "  return df\n",
        "\n",
        "# numeric_cols"
      ],
      "metadata": {
        "id": "QAUrPvEIYHoH"
      },
      "execution_count": 6,
      "outputs": []
    },
    {
      "cell_type": "code",
      "execution_count": 7,
      "metadata": {
        "colab": {
          "base_uri": "https://localhost:8080/",
          "height": 505
        },
        "id": "XSTP2AcKJgTF",
        "outputId": "63933720-01c3-40e0-dffb-0175fa1354bb"
      },
      "outputs": [
        {
          "output_type": "execute_result",
          "data": {
            "text/plain": [
              "                X1          X2            X3            X4          X5  \\\n",
              "0        71.030128  698.275480  4.254596e+05     94.536860  688.852207   \n",
              "1       103.369751  734.244504  4.336694e+05    174.879220  734.393907   \n",
              "2       121.256410  741.734898  4.428812e+05    194.491879  743.294359   \n",
              "3       145.606271  718.813927  4.248902e+05    212.102609  719.515246   \n",
              "4       154.933965  755.461156  4.450462e+05    231.277776  754.231415   \n",
              "...            ...         ...           ...           ...         ...   \n",
              "40768  7379.388294  136.000000  1.382432e-10  12294.366516  136.000000   \n",
              "40769  7349.763157  136.000000  3.055902e-10  12261.621604  136.000000   \n",
              "40770  7389.209551  136.000000  6.184564e-11  12308.391645  136.000000   \n",
              "40771  7344.441907  136.000000  9.458745e-11  12260.360776  136.000000   \n",
              "40772  7392.611808  136.000000  2.182787e-11  12309.208847  136.000000   \n",
              "\n",
              "                 X6            X7          X8            X9            X10  \\\n",
              "0      4.158844e+05    227.715356  679.702301  4.041930e+05    2095.691398   \n",
              "1      4.330045e+05    560.609722  732.648217  4.332032e+05    5895.929353   \n",
              "2      4.416820e+05    542.819665  743.804336  4.396245e+05    4914.135046   \n",
              "3      4.197664e+05    567.545756  721.439036  4.157489e+05    5479.153357   \n",
              "4      4.434964e+05    618.624175  750.475836  4.417625e+05    4965.896941   \n",
              "...             ...           ...         ...           ...            ...   \n",
              "40768  3.637979e-11  36873.805097  136.000000  9.858923e-10  311888.879927   \n",
              "40769  8.003553e-11  36822.775672  136.000000  1.091394e-11  337423.623168   \n",
              "40770  1.527951e-10  36892.389825  136.000000  6.002665e-10  312890.905198   \n",
              "40771  2.582965e-10  36775.713128  136.000000  3.637979e-12  341580.937771   \n",
              "40772  2.182787e-11  36884.525002  136.000000  1.236913e-10  303945.333091   \n",
              "\n",
              "       ...  X108          X109        X110        X111        X112  \\\n",
              "0      ...   0.0  10073.736589  191.389730  188.253039  191.389730   \n",
              "1      ...   0.0  16785.595641  200.528185  298.850720  200.528185   \n",
              "2      ...   0.0  26076.382102  158.005818  208.164714  158.005818   \n",
              "3      ...   0.0  16095.104004  202.539845  254.085139  202.539845   \n",
              "4      ...   0.0  26149.488161  157.507086  206.957049  157.507086   \n",
              "...    ...   ...           ...         ...         ...         ...   \n",
              "40768  ...   0.0     11.780505  136.000000    0.000000  136.000000   \n",
              "40769  ...   0.0     18.625073  136.000000    0.000000  136.000000   \n",
              "40770  ...   0.0     16.399598  136.000000    0.000003  136.000000   \n",
              "40771  ...   0.0     14.579967  136.000000    0.000002  136.000000   \n",
              "40772  ...   0.0      9.301602  136.000000    0.000002  136.000000   \n",
              "\n",
              "               X113  X114  X115  Unnamed: 0  label  \n",
              "0      3.543921e+04   0.0   0.0      261388    0.0  \n",
              "1      8.931175e+04   0.0   0.0      759120    0.0  \n",
              "2      4.333255e+04   0.0   0.0     1633535    0.0  \n",
              "3      6.455926e+04   0.0   0.0     2124441    0.0  \n",
              "4      4.283122e+04   0.0   0.0      816513    0.0  \n",
              "...             ...   ...   ...         ...    ...  \n",
              "40768  0.000000e+00   0.0   0.0     3320052    1.0  \n",
              "40769  0.000000e+00   0.0   0.0     3544123    1.0  \n",
              "40770  7.275958e-12   0.0   0.0     3326589    1.0  \n",
              "40771  3.637979e-12   0.0   0.0     3866299    1.0  \n",
              "40772  3.637979e-12   0.0   0.0     3271190    1.0  \n",
              "\n",
              "[40773 rows x 117 columns]"
            ],
            "text/html": [
              "\n",
              "  <div id=\"df-b5a5ad11-a012-45ab-a60d-31a9b044bebb\">\n",
              "    <div class=\"colab-df-container\">\n",
              "      <div>\n",
              "<style scoped>\n",
              "    .dataframe tbody tr th:only-of-type {\n",
              "        vertical-align: middle;\n",
              "    }\n",
              "\n",
              "    .dataframe tbody tr th {\n",
              "        vertical-align: top;\n",
              "    }\n",
              "\n",
              "    .dataframe thead th {\n",
              "        text-align: right;\n",
              "    }\n",
              "</style>\n",
              "<table border=\"1\" class=\"dataframe\">\n",
              "  <thead>\n",
              "    <tr style=\"text-align: right;\">\n",
              "      <th></th>\n",
              "      <th>X1</th>\n",
              "      <th>X2</th>\n",
              "      <th>X3</th>\n",
              "      <th>X4</th>\n",
              "      <th>X5</th>\n",
              "      <th>X6</th>\n",
              "      <th>X7</th>\n",
              "      <th>X8</th>\n",
              "      <th>X9</th>\n",
              "      <th>X10</th>\n",
              "      <th>...</th>\n",
              "      <th>X108</th>\n",
              "      <th>X109</th>\n",
              "      <th>X110</th>\n",
              "      <th>X111</th>\n",
              "      <th>X112</th>\n",
              "      <th>X113</th>\n",
              "      <th>X114</th>\n",
              "      <th>X115</th>\n",
              "      <th>Unnamed: 0</th>\n",
              "      <th>label</th>\n",
              "    </tr>\n",
              "  </thead>\n",
              "  <tbody>\n",
              "    <tr>\n",
              "      <th>0</th>\n",
              "      <td>71.030128</td>\n",
              "      <td>698.275480</td>\n",
              "      <td>4.254596e+05</td>\n",
              "      <td>94.536860</td>\n",
              "      <td>688.852207</td>\n",
              "      <td>4.158844e+05</td>\n",
              "      <td>227.715356</td>\n",
              "      <td>679.702301</td>\n",
              "      <td>4.041930e+05</td>\n",
              "      <td>2095.691398</td>\n",
              "      <td>...</td>\n",
              "      <td>0.0</td>\n",
              "      <td>10073.736589</td>\n",
              "      <td>191.389730</td>\n",
              "      <td>188.253039</td>\n",
              "      <td>191.389730</td>\n",
              "      <td>3.543921e+04</td>\n",
              "      <td>0.0</td>\n",
              "      <td>0.0</td>\n",
              "      <td>261388</td>\n",
              "      <td>0.0</td>\n",
              "    </tr>\n",
              "    <tr>\n",
              "      <th>1</th>\n",
              "      <td>103.369751</td>\n",
              "      <td>734.244504</td>\n",
              "      <td>4.336694e+05</td>\n",
              "      <td>174.879220</td>\n",
              "      <td>734.393907</td>\n",
              "      <td>4.330045e+05</td>\n",
              "      <td>560.609722</td>\n",
              "      <td>732.648217</td>\n",
              "      <td>4.332032e+05</td>\n",
              "      <td>5895.929353</td>\n",
              "      <td>...</td>\n",
              "      <td>0.0</td>\n",
              "      <td>16785.595641</td>\n",
              "      <td>200.528185</td>\n",
              "      <td>298.850720</td>\n",
              "      <td>200.528185</td>\n",
              "      <td>8.931175e+04</td>\n",
              "      <td>0.0</td>\n",
              "      <td>0.0</td>\n",
              "      <td>759120</td>\n",
              "      <td>0.0</td>\n",
              "    </tr>\n",
              "    <tr>\n",
              "      <th>2</th>\n",
              "      <td>121.256410</td>\n",
              "      <td>741.734898</td>\n",
              "      <td>4.428812e+05</td>\n",
              "      <td>194.491879</td>\n",
              "      <td>743.294359</td>\n",
              "      <td>4.416820e+05</td>\n",
              "      <td>542.819665</td>\n",
              "      <td>743.804336</td>\n",
              "      <td>4.396245e+05</td>\n",
              "      <td>4914.135046</td>\n",
              "      <td>...</td>\n",
              "      <td>0.0</td>\n",
              "      <td>26076.382102</td>\n",
              "      <td>158.005818</td>\n",
              "      <td>208.164714</td>\n",
              "      <td>158.005818</td>\n",
              "      <td>4.333255e+04</td>\n",
              "      <td>0.0</td>\n",
              "      <td>0.0</td>\n",
              "      <td>1633535</td>\n",
              "      <td>0.0</td>\n",
              "    </tr>\n",
              "    <tr>\n",
              "      <th>3</th>\n",
              "      <td>145.606271</td>\n",
              "      <td>718.813927</td>\n",
              "      <td>4.248902e+05</td>\n",
              "      <td>212.102609</td>\n",
              "      <td>719.515246</td>\n",
              "      <td>4.197664e+05</td>\n",
              "      <td>567.545756</td>\n",
              "      <td>721.439036</td>\n",
              "      <td>4.157489e+05</td>\n",
              "      <td>5479.153357</td>\n",
              "      <td>...</td>\n",
              "      <td>0.0</td>\n",
              "      <td>16095.104004</td>\n",
              "      <td>202.539845</td>\n",
              "      <td>254.085139</td>\n",
              "      <td>202.539845</td>\n",
              "      <td>6.455926e+04</td>\n",
              "      <td>0.0</td>\n",
              "      <td>0.0</td>\n",
              "      <td>2124441</td>\n",
              "      <td>0.0</td>\n",
              "    </tr>\n",
              "    <tr>\n",
              "      <th>4</th>\n",
              "      <td>154.933965</td>\n",
              "      <td>755.461156</td>\n",
              "      <td>4.450462e+05</td>\n",
              "      <td>231.277776</td>\n",
              "      <td>754.231415</td>\n",
              "      <td>4.434964e+05</td>\n",
              "      <td>618.624175</td>\n",
              "      <td>750.475836</td>\n",
              "      <td>4.417625e+05</td>\n",
              "      <td>4965.896941</td>\n",
              "      <td>...</td>\n",
              "      <td>0.0</td>\n",
              "      <td>26149.488161</td>\n",
              "      <td>157.507086</td>\n",
              "      <td>206.957049</td>\n",
              "      <td>157.507086</td>\n",
              "      <td>4.283122e+04</td>\n",
              "      <td>0.0</td>\n",
              "      <td>0.0</td>\n",
              "      <td>816513</td>\n",
              "      <td>0.0</td>\n",
              "    </tr>\n",
              "    <tr>\n",
              "      <th>...</th>\n",
              "      <td>...</td>\n",
              "      <td>...</td>\n",
              "      <td>...</td>\n",
              "      <td>...</td>\n",
              "      <td>...</td>\n",
              "      <td>...</td>\n",
              "      <td>...</td>\n",
              "      <td>...</td>\n",
              "      <td>...</td>\n",
              "      <td>...</td>\n",
              "      <td>...</td>\n",
              "      <td>...</td>\n",
              "      <td>...</td>\n",
              "      <td>...</td>\n",
              "      <td>...</td>\n",
              "      <td>...</td>\n",
              "      <td>...</td>\n",
              "      <td>...</td>\n",
              "      <td>...</td>\n",
              "      <td>...</td>\n",
              "      <td>...</td>\n",
              "    </tr>\n",
              "    <tr>\n",
              "      <th>40768</th>\n",
              "      <td>7379.388294</td>\n",
              "      <td>136.000000</td>\n",
              "      <td>1.382432e-10</td>\n",
              "      <td>12294.366516</td>\n",
              "      <td>136.000000</td>\n",
              "      <td>3.637979e-11</td>\n",
              "      <td>36873.805097</td>\n",
              "      <td>136.000000</td>\n",
              "      <td>9.858923e-10</td>\n",
              "      <td>311888.879927</td>\n",
              "      <td>...</td>\n",
              "      <td>0.0</td>\n",
              "      <td>11.780505</td>\n",
              "      <td>136.000000</td>\n",
              "      <td>0.000000</td>\n",
              "      <td>136.000000</td>\n",
              "      <td>0.000000e+00</td>\n",
              "      <td>0.0</td>\n",
              "      <td>0.0</td>\n",
              "      <td>3320052</td>\n",
              "      <td>1.0</td>\n",
              "    </tr>\n",
              "    <tr>\n",
              "      <th>40769</th>\n",
              "      <td>7349.763157</td>\n",
              "      <td>136.000000</td>\n",
              "      <td>3.055902e-10</td>\n",
              "      <td>12261.621604</td>\n",
              "      <td>136.000000</td>\n",
              "      <td>8.003553e-11</td>\n",
              "      <td>36822.775672</td>\n",
              "      <td>136.000000</td>\n",
              "      <td>1.091394e-11</td>\n",
              "      <td>337423.623168</td>\n",
              "      <td>...</td>\n",
              "      <td>0.0</td>\n",
              "      <td>18.625073</td>\n",
              "      <td>136.000000</td>\n",
              "      <td>0.000000</td>\n",
              "      <td>136.000000</td>\n",
              "      <td>0.000000e+00</td>\n",
              "      <td>0.0</td>\n",
              "      <td>0.0</td>\n",
              "      <td>3544123</td>\n",
              "      <td>1.0</td>\n",
              "    </tr>\n",
              "    <tr>\n",
              "      <th>40770</th>\n",
              "      <td>7389.209551</td>\n",
              "      <td>136.000000</td>\n",
              "      <td>6.184564e-11</td>\n",
              "      <td>12308.391645</td>\n",
              "      <td>136.000000</td>\n",
              "      <td>1.527951e-10</td>\n",
              "      <td>36892.389825</td>\n",
              "      <td>136.000000</td>\n",
              "      <td>6.002665e-10</td>\n",
              "      <td>312890.905198</td>\n",
              "      <td>...</td>\n",
              "      <td>0.0</td>\n",
              "      <td>16.399598</td>\n",
              "      <td>136.000000</td>\n",
              "      <td>0.000003</td>\n",
              "      <td>136.000000</td>\n",
              "      <td>7.275958e-12</td>\n",
              "      <td>0.0</td>\n",
              "      <td>0.0</td>\n",
              "      <td>3326589</td>\n",
              "      <td>1.0</td>\n",
              "    </tr>\n",
              "    <tr>\n",
              "      <th>40771</th>\n",
              "      <td>7344.441907</td>\n",
              "      <td>136.000000</td>\n",
              "      <td>9.458745e-11</td>\n",
              "      <td>12260.360776</td>\n",
              "      <td>136.000000</td>\n",
              "      <td>2.582965e-10</td>\n",
              "      <td>36775.713128</td>\n",
              "      <td>136.000000</td>\n",
              "      <td>3.637979e-12</td>\n",
              "      <td>341580.937771</td>\n",
              "      <td>...</td>\n",
              "      <td>0.0</td>\n",
              "      <td>14.579967</td>\n",
              "      <td>136.000000</td>\n",
              "      <td>0.000002</td>\n",
              "      <td>136.000000</td>\n",
              "      <td>3.637979e-12</td>\n",
              "      <td>0.0</td>\n",
              "      <td>0.0</td>\n",
              "      <td>3866299</td>\n",
              "      <td>1.0</td>\n",
              "    </tr>\n",
              "    <tr>\n",
              "      <th>40772</th>\n",
              "      <td>7392.611808</td>\n",
              "      <td>136.000000</td>\n",
              "      <td>2.182787e-11</td>\n",
              "      <td>12309.208847</td>\n",
              "      <td>136.000000</td>\n",
              "      <td>2.182787e-11</td>\n",
              "      <td>36884.525002</td>\n",
              "      <td>136.000000</td>\n",
              "      <td>1.236913e-10</td>\n",
              "      <td>303945.333091</td>\n",
              "      <td>...</td>\n",
              "      <td>0.0</td>\n",
              "      <td>9.301602</td>\n",
              "      <td>136.000000</td>\n",
              "      <td>0.000002</td>\n",
              "      <td>136.000000</td>\n",
              "      <td>3.637979e-12</td>\n",
              "      <td>0.0</td>\n",
              "      <td>0.0</td>\n",
              "      <td>3271190</td>\n",
              "      <td>1.0</td>\n",
              "    </tr>\n",
              "  </tbody>\n",
              "</table>\n",
              "<p>40773 rows × 117 columns</p>\n",
              "</div>\n",
              "      <button class=\"colab-df-convert\" onclick=\"convertToInteractive('df-b5a5ad11-a012-45ab-a60d-31a9b044bebb')\"\n",
              "              title=\"Convert this dataframe to an interactive table.\"\n",
              "              style=\"display:none;\">\n",
              "        \n",
              "  <svg xmlns=\"http://www.w3.org/2000/svg\" height=\"24px\"viewBox=\"0 0 24 24\"\n",
              "       width=\"24px\">\n",
              "    <path d=\"M0 0h24v24H0V0z\" fill=\"none\"/>\n",
              "    <path d=\"M18.56 5.44l.94 2.06.94-2.06 2.06-.94-2.06-.94-.94-2.06-.94 2.06-2.06.94zm-11 1L8.5 8.5l.94-2.06 2.06-.94-2.06-.94L8.5 2.5l-.94 2.06-2.06.94zm10 10l.94 2.06.94-2.06 2.06-.94-2.06-.94-.94-2.06-.94 2.06-2.06.94z\"/><path d=\"M17.41 7.96l-1.37-1.37c-.4-.4-.92-.59-1.43-.59-.52 0-1.04.2-1.43.59L10.3 9.45l-7.72 7.72c-.78.78-.78 2.05 0 2.83L4 21.41c.39.39.9.59 1.41.59.51 0 1.02-.2 1.41-.59l7.78-7.78 2.81-2.81c.8-.78.8-2.07 0-2.86zM5.41 20L4 18.59l7.72-7.72 1.47 1.35L5.41 20z\"/>\n",
              "  </svg>\n",
              "      </button>\n",
              "      \n",
              "  <style>\n",
              "    .colab-df-container {\n",
              "      display:flex;\n",
              "      flex-wrap:wrap;\n",
              "      gap: 12px;\n",
              "    }\n",
              "\n",
              "    .colab-df-convert {\n",
              "      background-color: #E8F0FE;\n",
              "      border: none;\n",
              "      border-radius: 50%;\n",
              "      cursor: pointer;\n",
              "      display: none;\n",
              "      fill: #1967D2;\n",
              "      height: 32px;\n",
              "      padding: 0 0 0 0;\n",
              "      width: 32px;\n",
              "    }\n",
              "\n",
              "    .colab-df-convert:hover {\n",
              "      background-color: #E2EBFA;\n",
              "      box-shadow: 0px 1px 2px rgba(60, 64, 67, 0.3), 0px 1px 3px 1px rgba(60, 64, 67, 0.15);\n",
              "      fill: #174EA6;\n",
              "    }\n",
              "\n",
              "    [theme=dark] .colab-df-convert {\n",
              "      background-color: #3B4455;\n",
              "      fill: #D2E3FC;\n",
              "    }\n",
              "\n",
              "    [theme=dark] .colab-df-convert:hover {\n",
              "      background-color: #434B5C;\n",
              "      box-shadow: 0px 1px 3px 1px rgba(0, 0, 0, 0.15);\n",
              "      filter: drop-shadow(0px 1px 2px rgba(0, 0, 0, 0.3));\n",
              "      fill: #FFFFFF;\n",
              "    }\n",
              "  </style>\n",
              "\n",
              "      <script>\n",
              "        const buttonEl =\n",
              "          document.querySelector('#df-b5a5ad11-a012-45ab-a60d-31a9b044bebb button.colab-df-convert');\n",
              "        buttonEl.style.display =\n",
              "          google.colab.kernel.accessAllowed ? 'block' : 'none';\n",
              "\n",
              "        async function convertToInteractive(key) {\n",
              "          const element = document.querySelector('#df-b5a5ad11-a012-45ab-a60d-31a9b044bebb');\n",
              "          const dataTable =\n",
              "            await google.colab.kernel.invokeFunction('convertToInteractive',\n",
              "                                                     [key], {});\n",
              "          if (!dataTable) return;\n",
              "\n",
              "          const docLinkHtml = 'Like what you see? Visit the ' +\n",
              "            '<a target=\"_blank\" href=https://colab.research.google.com/notebooks/data_table.ipynb>data table notebook</a>'\n",
              "            + ' to learn more about interactive tables.';\n",
              "          element.innerHTML = '';\n",
              "          dataTable['output_type'] = 'display_data';\n",
              "          await google.colab.output.renderOutput(dataTable, element);\n",
              "          const docLink = document.createElement('div');\n",
              "          docLink.innerHTML = docLinkHtml;\n",
              "          element.appendChild(docLink);\n",
              "        }\n",
              "      </script>\n",
              "    </div>\n",
              "  </div>\n",
              "  "
            ]
          },
          "metadata": {},
          "execution_count": 7
        }
      ],
      "source": [
        "# sampling data taking only 50% of the data\n",
        "# bin_data = bin_data_total.groupby('label', group_keys=False).apply(lambda x: x.sample(frac=0.5))\n",
        "bin_data = bin_data_total\n",
        "bin_data"
      ]
    },
    {
      "cell_type": "code",
      "source": [
        "number_of_cols = bin_data.shape[1]"
      ],
      "metadata": {
        "id": "N125Cc3Ukt8h"
      },
      "execution_count": 8,
      "outputs": []
    },
    {
      "cell_type": "code",
      "execution_count": 9,
      "metadata": {
        "colab": {
          "base_uri": "https://localhost:8080/"
        },
        "id": "nKX2TRG0J85J",
        "outputId": "cfa109d0-3a90-4776-ca97-dcfb4153fdd3"
      },
      "outputs": [
        {
          "output_type": "execute_result",
          "data": {
            "text/plain": [
              "0.0    0.646923\n",
              "1.0    0.353077\n",
              "Name: label, dtype: float64"
            ]
          },
          "metadata": {},
          "execution_count": 9
        }
      ],
      "source": [
        "# distribution of label class after sampling\n",
        "data_size = bin_data.shape[0]\n",
        "bin_data.label.value_counts()/data_size"
      ]
    },
    {
      "cell_type": "code",
      "execution_count": 10,
      "metadata": {
        "id": "L11T2MepDzax"
      },
      "outputs": [],
      "source": [
        "model_selection = {\n",
        "    0 : \"ALL\",\n",
        "    2 : \"MLP\",\n",
        "    3 : \"LSTM\",\n",
        "    4 : \"AE\"\n",
        "}\n",
        "model_flag = 0\n",
        "svm_enable = 1"
      ]
    },
    {
      "cell_type": "code",
      "execution_count": 11,
      "metadata": {
        "id": "OdRAXVlsxUVW"
      },
      "outputs": [],
      "source": [
        "X = bin_data.iloc[:,0:number_of_cols] # dataset excluding target attribute (encoded, one-hot-encoded,original)\n",
        "Y = bin_data['label'] # target attribute"
      ]
    },
    {
      "cell_type": "code",
      "execution_count": 12,
      "metadata": {
        "id": "lFdHHvRtxU5B"
      },
      "outputs": [],
      "source": [
        "# splitting the dataset 75% for training and 25% testing\n",
        "X_train, X_test, y_train, y_test = train_test_split(X,Y, test_size=0.25, random_state=42) "
      ]
    },
    {
      "cell_type": "code",
      "source": [
        "# calling the normalization() function\n",
        "X_train = normalization_train(X_train,numeric_cols)\n",
        "X_train.head()"
      ],
      "metadata": {
        "colab": {
          "base_uri": "https://localhost:8080/",
          "height": 404
        },
        "id": "SLLlMtsaYJdK",
        "outputId": "5945032e-a46e-4ef6-9a6a-1d155ab1ad4d"
      },
      "execution_count": 13,
      "outputs": [
        {
          "output_type": "execute_result",
          "data": {
            "text/plain": [
              "             X1        X2            X3        X4        X5            X6  \\\n",
              "3379   0.017509  0.489459  9.677615e-01  0.016934  0.493608  9.710077e-01   \n",
              "29138  0.986776  0.055007  2.751006e-16  0.988326  0.055301  1.463766e-16   \n",
              "29994  0.984454  0.055007  1.375503e-16  0.984944  0.055301  3.822056e-16   \n",
              "40390  0.988078  0.055007  3.398301e-16  0.989213  0.055301  5.611104e-16   \n",
              "32810  0.987335  0.055007  1.699151e-16  0.988411  0.055301  3.903376e-16   \n",
              "\n",
              "             X7        X8            X9       X10  ...      X108      X109  \\\n",
              "3379   0.016123  0.498049  9.736569e-01  0.016639  ...  0.482333  0.466705   \n",
              "29138  0.991460  0.055808  5.638653e-16  0.918427  ...  0.482333  0.000470   \n",
              "29994  0.913905  0.055808  6.537568e-17  0.237286  ...  0.482333  0.000074   \n",
              "40390  0.991419  0.055808  1.969442e-15  0.865556  ...  0.482333  0.000440   \n",
              "32810  0.971727  0.055808  6.455849e-16  0.342454  ...  0.482333  0.000037   \n",
              "\n",
              "           X110          X111      X112          X113      X114      X115  \\\n",
              "3379   0.106031  5.285288e-01  0.106031  2.793427e-01  0.507377  0.581134   \n",
              "29138  0.054676  4.605318e-09  0.054676  2.120895e-17  0.507377  0.581134   \n",
              "29994  0.054676  4.605318e-09  0.054676  2.120895e-17  0.507377  0.581134   \n",
              "40390  0.054676  0.000000e+00  0.054676  0.000000e+00  0.507377  0.581134   \n",
              "32810  0.054676  4.605318e-09  0.054676  2.120895e-17  0.507377  0.581134   \n",
              "\n",
              "       Unnamed: 0  label  \n",
              "3379     0.055695    0.0  \n",
              "29138    0.838758    1.0  \n",
              "29994    0.666792    1.0  \n",
              "40390    0.806047    1.0  \n",
              "32810    0.679620    1.0  \n",
              "\n",
              "[5 rows x 117 columns]"
            ],
            "text/html": [
              "\n",
              "  <div id=\"df-41c70911-b080-4884-960f-0b1986da9e90\">\n",
              "    <div class=\"colab-df-container\">\n",
              "      <div>\n",
              "<style scoped>\n",
              "    .dataframe tbody tr th:only-of-type {\n",
              "        vertical-align: middle;\n",
              "    }\n",
              "\n",
              "    .dataframe tbody tr th {\n",
              "        vertical-align: top;\n",
              "    }\n",
              "\n",
              "    .dataframe thead th {\n",
              "        text-align: right;\n",
              "    }\n",
              "</style>\n",
              "<table border=\"1\" class=\"dataframe\">\n",
              "  <thead>\n",
              "    <tr style=\"text-align: right;\">\n",
              "      <th></th>\n",
              "      <th>X1</th>\n",
              "      <th>X2</th>\n",
              "      <th>X3</th>\n",
              "      <th>X4</th>\n",
              "      <th>X5</th>\n",
              "      <th>X6</th>\n",
              "      <th>X7</th>\n",
              "      <th>X8</th>\n",
              "      <th>X9</th>\n",
              "      <th>X10</th>\n",
              "      <th>...</th>\n",
              "      <th>X108</th>\n",
              "      <th>X109</th>\n",
              "      <th>X110</th>\n",
              "      <th>X111</th>\n",
              "      <th>X112</th>\n",
              "      <th>X113</th>\n",
              "      <th>X114</th>\n",
              "      <th>X115</th>\n",
              "      <th>Unnamed: 0</th>\n",
              "      <th>label</th>\n",
              "    </tr>\n",
              "  </thead>\n",
              "  <tbody>\n",
              "    <tr>\n",
              "      <th>3379</th>\n",
              "      <td>0.017509</td>\n",
              "      <td>0.489459</td>\n",
              "      <td>9.677615e-01</td>\n",
              "      <td>0.016934</td>\n",
              "      <td>0.493608</td>\n",
              "      <td>9.710077e-01</td>\n",
              "      <td>0.016123</td>\n",
              "      <td>0.498049</td>\n",
              "      <td>9.736569e-01</td>\n",
              "      <td>0.016639</td>\n",
              "      <td>...</td>\n",
              "      <td>0.482333</td>\n",
              "      <td>0.466705</td>\n",
              "      <td>0.106031</td>\n",
              "      <td>5.285288e-01</td>\n",
              "      <td>0.106031</td>\n",
              "      <td>2.793427e-01</td>\n",
              "      <td>0.507377</td>\n",
              "      <td>0.581134</td>\n",
              "      <td>0.055695</td>\n",
              "      <td>0.0</td>\n",
              "    </tr>\n",
              "    <tr>\n",
              "      <th>29138</th>\n",
              "      <td>0.986776</td>\n",
              "      <td>0.055007</td>\n",
              "      <td>2.751006e-16</td>\n",
              "      <td>0.988326</td>\n",
              "      <td>0.055301</td>\n",
              "      <td>1.463766e-16</td>\n",
              "      <td>0.991460</td>\n",
              "      <td>0.055808</td>\n",
              "      <td>5.638653e-16</td>\n",
              "      <td>0.918427</td>\n",
              "      <td>...</td>\n",
              "      <td>0.482333</td>\n",
              "      <td>0.000470</td>\n",
              "      <td>0.054676</td>\n",
              "      <td>4.605318e-09</td>\n",
              "      <td>0.054676</td>\n",
              "      <td>2.120895e-17</td>\n",
              "      <td>0.507377</td>\n",
              "      <td>0.581134</td>\n",
              "      <td>0.838758</td>\n",
              "      <td>1.0</td>\n",
              "    </tr>\n",
              "    <tr>\n",
              "      <th>29994</th>\n",
              "      <td>0.984454</td>\n",
              "      <td>0.055007</td>\n",
              "      <td>1.375503e-16</td>\n",
              "      <td>0.984944</td>\n",
              "      <td>0.055301</td>\n",
              "      <td>3.822056e-16</td>\n",
              "      <td>0.913905</td>\n",
              "      <td>0.055808</td>\n",
              "      <td>6.537568e-17</td>\n",
              "      <td>0.237286</td>\n",
              "      <td>...</td>\n",
              "      <td>0.482333</td>\n",
              "      <td>0.000074</td>\n",
              "      <td>0.054676</td>\n",
              "      <td>4.605318e-09</td>\n",
              "      <td>0.054676</td>\n",
              "      <td>2.120895e-17</td>\n",
              "      <td>0.507377</td>\n",
              "      <td>0.581134</td>\n",
              "      <td>0.666792</td>\n",
              "      <td>1.0</td>\n",
              "    </tr>\n",
              "    <tr>\n",
              "      <th>40390</th>\n",
              "      <td>0.988078</td>\n",
              "      <td>0.055007</td>\n",
              "      <td>3.398301e-16</td>\n",
              "      <td>0.989213</td>\n",
              "      <td>0.055301</td>\n",
              "      <td>5.611104e-16</td>\n",
              "      <td>0.991419</td>\n",
              "      <td>0.055808</td>\n",
              "      <td>1.969442e-15</td>\n",
              "      <td>0.865556</td>\n",
              "      <td>...</td>\n",
              "      <td>0.482333</td>\n",
              "      <td>0.000440</td>\n",
              "      <td>0.054676</td>\n",
              "      <td>0.000000e+00</td>\n",
              "      <td>0.054676</td>\n",
              "      <td>0.000000e+00</td>\n",
              "      <td>0.507377</td>\n",
              "      <td>0.581134</td>\n",
              "      <td>0.806047</td>\n",
              "      <td>1.0</td>\n",
              "    </tr>\n",
              "    <tr>\n",
              "      <th>32810</th>\n",
              "      <td>0.987335</td>\n",
              "      <td>0.055007</td>\n",
              "      <td>1.699151e-16</td>\n",
              "      <td>0.988411</td>\n",
              "      <td>0.055301</td>\n",
              "      <td>3.903376e-16</td>\n",
              "      <td>0.971727</td>\n",
              "      <td>0.055808</td>\n",
              "      <td>6.455849e-16</td>\n",
              "      <td>0.342454</td>\n",
              "      <td>...</td>\n",
              "      <td>0.482333</td>\n",
              "      <td>0.000037</td>\n",
              "      <td>0.054676</td>\n",
              "      <td>4.605318e-09</td>\n",
              "      <td>0.054676</td>\n",
              "      <td>2.120895e-17</td>\n",
              "      <td>0.507377</td>\n",
              "      <td>0.581134</td>\n",
              "      <td>0.679620</td>\n",
              "      <td>1.0</td>\n",
              "    </tr>\n",
              "  </tbody>\n",
              "</table>\n",
              "<p>5 rows × 117 columns</p>\n",
              "</div>\n",
              "      <button class=\"colab-df-convert\" onclick=\"convertToInteractive('df-41c70911-b080-4884-960f-0b1986da9e90')\"\n",
              "              title=\"Convert this dataframe to an interactive table.\"\n",
              "              style=\"display:none;\">\n",
              "        \n",
              "  <svg xmlns=\"http://www.w3.org/2000/svg\" height=\"24px\"viewBox=\"0 0 24 24\"\n",
              "       width=\"24px\">\n",
              "    <path d=\"M0 0h24v24H0V0z\" fill=\"none\"/>\n",
              "    <path d=\"M18.56 5.44l.94 2.06.94-2.06 2.06-.94-2.06-.94-.94-2.06-.94 2.06-2.06.94zm-11 1L8.5 8.5l.94-2.06 2.06-.94-2.06-.94L8.5 2.5l-.94 2.06-2.06.94zm10 10l.94 2.06.94-2.06 2.06-.94-2.06-.94-.94-2.06-.94 2.06-2.06.94z\"/><path d=\"M17.41 7.96l-1.37-1.37c-.4-.4-.92-.59-1.43-.59-.52 0-1.04.2-1.43.59L10.3 9.45l-7.72 7.72c-.78.78-.78 2.05 0 2.83L4 21.41c.39.39.9.59 1.41.59.51 0 1.02-.2 1.41-.59l7.78-7.78 2.81-2.81c.8-.78.8-2.07 0-2.86zM5.41 20L4 18.59l7.72-7.72 1.47 1.35L5.41 20z\"/>\n",
              "  </svg>\n",
              "      </button>\n",
              "      \n",
              "  <style>\n",
              "    .colab-df-container {\n",
              "      display:flex;\n",
              "      flex-wrap:wrap;\n",
              "      gap: 12px;\n",
              "    }\n",
              "\n",
              "    .colab-df-convert {\n",
              "      background-color: #E8F0FE;\n",
              "      border: none;\n",
              "      border-radius: 50%;\n",
              "      cursor: pointer;\n",
              "      display: none;\n",
              "      fill: #1967D2;\n",
              "      height: 32px;\n",
              "      padding: 0 0 0 0;\n",
              "      width: 32px;\n",
              "    }\n",
              "\n",
              "    .colab-df-convert:hover {\n",
              "      background-color: #E2EBFA;\n",
              "      box-shadow: 0px 1px 2px rgba(60, 64, 67, 0.3), 0px 1px 3px 1px rgba(60, 64, 67, 0.15);\n",
              "      fill: #174EA6;\n",
              "    }\n",
              "\n",
              "    [theme=dark] .colab-df-convert {\n",
              "      background-color: #3B4455;\n",
              "      fill: #D2E3FC;\n",
              "    }\n",
              "\n",
              "    [theme=dark] .colab-df-convert:hover {\n",
              "      background-color: #434B5C;\n",
              "      box-shadow: 0px 1px 3px 1px rgba(0, 0, 0, 0.15);\n",
              "      filter: drop-shadow(0px 1px 2px rgba(0, 0, 0, 0.3));\n",
              "      fill: #FFFFFF;\n",
              "    }\n",
              "  </style>\n",
              "\n",
              "      <script>\n",
              "        const buttonEl =\n",
              "          document.querySelector('#df-41c70911-b080-4884-960f-0b1986da9e90 button.colab-df-convert');\n",
              "        buttonEl.style.display =\n",
              "          google.colab.kernel.accessAllowed ? 'block' : 'none';\n",
              "\n",
              "        async function convertToInteractive(key) {\n",
              "          const element = document.querySelector('#df-41c70911-b080-4884-960f-0b1986da9e90');\n",
              "          const dataTable =\n",
              "            await google.colab.kernel.invokeFunction('convertToInteractive',\n",
              "                                                     [key], {});\n",
              "          if (!dataTable) return;\n",
              "\n",
              "          const docLinkHtml = 'Like what you see? Visit the ' +\n",
              "            '<a target=\"_blank\" href=https://colab.research.google.com/notebooks/data_table.ipynb>data table notebook</a>'\n",
              "            + ' to learn more about interactive tables.';\n",
              "          element.innerHTML = '';\n",
              "          dataTable['output_type'] = 'display_data';\n",
              "          await google.colab.output.renderOutput(dataTable, element);\n",
              "          const docLink = document.createElement('div');\n",
              "          docLink.innerHTML = docLinkHtml;\n",
              "          element.appendChild(docLink);\n",
              "        }\n",
              "      </script>\n",
              "    </div>\n",
              "  </div>\n",
              "  "
            ]
          },
          "metadata": {},
          "execution_count": 13
        }
      ]
    },
    {
      "cell_type": "code",
      "source": [
        "# calling the normalization() function\n",
        "X_test = normalization_test(X_test,numeric_cols)\n",
        "X_test.head()"
      ],
      "metadata": {
        "colab": {
          "base_uri": "https://localhost:8080/",
          "height": 317
        },
        "id": "EKmhgZCobPU3",
        "outputId": "96d0f3a9-964f-4ecf-ed78-390f9debc9e6"
      },
      "execution_count": 14,
      "outputs": [
        {
          "output_type": "execute_result",
          "data": {
            "text/plain": [
              "             X1        X2        X3        X4        X5        X6        X7  \\\n",
              "430   -0.000100  0.000054  0.107908 -0.000084  0.000055  0.107756 -0.000003   \n",
              "36066  0.001685 -0.000093 -0.000126  0.002889 -0.000093 -0.000126  0.008912   \n",
              "4556  -0.000108  0.000055  0.106324 -0.000094  0.000054  0.106471 -0.000023   \n",
              "9242  -0.000117 -0.000110  0.000069 -0.000113 -0.000111  0.000029 -0.000092   \n",
              "31260  0.001682 -0.000093 -0.000126  0.002886 -0.000093 -0.000126  0.008907   \n",
              "\n",
              "             X8        X9       X10  ...      X108      X109      X110  \\\n",
              "430    0.000056  0.107571  0.001014  ... -0.000126  0.006078 -0.000087   \n",
              "36066 -0.000093 -0.000126  0.048121  ... -0.000126 -0.000125 -0.000093   \n",
              "4556   0.000055  0.106551  0.001005  ... -0.000126  0.005123  0.000229   \n",
              "9242  -0.000111 -0.000018  0.000194  ... -0.000126  0.002991 -0.000112   \n",
              "31260 -0.000093 -0.000126  0.056947  ... -0.000126 -0.000125 -0.000093   \n",
              "\n",
              "           X111      X112      X113      X114      X115  Unnamed: 0  label  \n",
              "430   -0.000074 -0.000087  0.011048 -0.000126 -0.000126    0.288622    0.0  \n",
              "36066 -0.000126 -0.000093 -0.000126 -0.000126 -0.000126    0.712861    1.0  \n",
              "4556  -0.000126  0.000229 -0.000126 -0.000126 -0.000126    0.409838    0.0  \n",
              "9242  -0.000126  0.000218  0.010237 -0.000126 -0.000126    0.291001    0.0  \n",
              "31260 -0.000126 -0.000093 -0.000126 -0.000126 -0.000126    0.734373    1.0  \n",
              "\n",
              "[5 rows x 117 columns]"
            ],
            "text/html": [
              "\n",
              "  <div id=\"df-c925e99c-c4de-4ec3-be69-519bdf5bc4f7\">\n",
              "    <div class=\"colab-df-container\">\n",
              "      <div>\n",
              "<style scoped>\n",
              "    .dataframe tbody tr th:only-of-type {\n",
              "        vertical-align: middle;\n",
              "    }\n",
              "\n",
              "    .dataframe tbody tr th {\n",
              "        vertical-align: top;\n",
              "    }\n",
              "\n",
              "    .dataframe thead th {\n",
              "        text-align: right;\n",
              "    }\n",
              "</style>\n",
              "<table border=\"1\" class=\"dataframe\">\n",
              "  <thead>\n",
              "    <tr style=\"text-align: right;\">\n",
              "      <th></th>\n",
              "      <th>X1</th>\n",
              "      <th>X2</th>\n",
              "      <th>X3</th>\n",
              "      <th>X4</th>\n",
              "      <th>X5</th>\n",
              "      <th>X6</th>\n",
              "      <th>X7</th>\n",
              "      <th>X8</th>\n",
              "      <th>X9</th>\n",
              "      <th>X10</th>\n",
              "      <th>...</th>\n",
              "      <th>X108</th>\n",
              "      <th>X109</th>\n",
              "      <th>X110</th>\n",
              "      <th>X111</th>\n",
              "      <th>X112</th>\n",
              "      <th>X113</th>\n",
              "      <th>X114</th>\n",
              "      <th>X115</th>\n",
              "      <th>Unnamed: 0</th>\n",
              "      <th>label</th>\n",
              "    </tr>\n",
              "  </thead>\n",
              "  <tbody>\n",
              "    <tr>\n",
              "      <th>430</th>\n",
              "      <td>-0.000100</td>\n",
              "      <td>0.000054</td>\n",
              "      <td>0.107908</td>\n",
              "      <td>-0.000084</td>\n",
              "      <td>0.000055</td>\n",
              "      <td>0.107756</td>\n",
              "      <td>-0.000003</td>\n",
              "      <td>0.000056</td>\n",
              "      <td>0.107571</td>\n",
              "      <td>0.001014</td>\n",
              "      <td>...</td>\n",
              "      <td>-0.000126</td>\n",
              "      <td>0.006078</td>\n",
              "      <td>-0.000087</td>\n",
              "      <td>-0.000074</td>\n",
              "      <td>-0.000087</td>\n",
              "      <td>0.011048</td>\n",
              "      <td>-0.000126</td>\n",
              "      <td>-0.000126</td>\n",
              "      <td>0.288622</td>\n",
              "      <td>0.0</td>\n",
              "    </tr>\n",
              "    <tr>\n",
              "      <th>36066</th>\n",
              "      <td>0.001685</td>\n",
              "      <td>-0.000093</td>\n",
              "      <td>-0.000126</td>\n",
              "      <td>0.002889</td>\n",
              "      <td>-0.000093</td>\n",
              "      <td>-0.000126</td>\n",
              "      <td>0.008912</td>\n",
              "      <td>-0.000093</td>\n",
              "      <td>-0.000126</td>\n",
              "      <td>0.048121</td>\n",
              "      <td>...</td>\n",
              "      <td>-0.000126</td>\n",
              "      <td>-0.000125</td>\n",
              "      <td>-0.000093</td>\n",
              "      <td>-0.000126</td>\n",
              "      <td>-0.000093</td>\n",
              "      <td>-0.000126</td>\n",
              "      <td>-0.000126</td>\n",
              "      <td>-0.000126</td>\n",
              "      <td>0.712861</td>\n",
              "      <td>1.0</td>\n",
              "    </tr>\n",
              "    <tr>\n",
              "      <th>4556</th>\n",
              "      <td>-0.000108</td>\n",
              "      <td>0.000055</td>\n",
              "      <td>0.106324</td>\n",
              "      <td>-0.000094</td>\n",
              "      <td>0.000054</td>\n",
              "      <td>0.106471</td>\n",
              "      <td>-0.000023</td>\n",
              "      <td>0.000055</td>\n",
              "      <td>0.106551</td>\n",
              "      <td>0.001005</td>\n",
              "      <td>...</td>\n",
              "      <td>-0.000126</td>\n",
              "      <td>0.005123</td>\n",
              "      <td>0.000229</td>\n",
              "      <td>-0.000126</td>\n",
              "      <td>0.000229</td>\n",
              "      <td>-0.000126</td>\n",
              "      <td>-0.000126</td>\n",
              "      <td>-0.000126</td>\n",
              "      <td>0.409838</td>\n",
              "      <td>0.0</td>\n",
              "    </tr>\n",
              "    <tr>\n",
              "      <th>9242</th>\n",
              "      <td>-0.000117</td>\n",
              "      <td>-0.000110</td>\n",
              "      <td>0.000069</td>\n",
              "      <td>-0.000113</td>\n",
              "      <td>-0.000111</td>\n",
              "      <td>0.000029</td>\n",
              "      <td>-0.000092</td>\n",
              "      <td>-0.000111</td>\n",
              "      <td>-0.000018</td>\n",
              "      <td>0.000194</td>\n",
              "      <td>...</td>\n",
              "      <td>-0.000126</td>\n",
              "      <td>0.002991</td>\n",
              "      <td>-0.000112</td>\n",
              "      <td>-0.000126</td>\n",
              "      <td>0.000218</td>\n",
              "      <td>0.010237</td>\n",
              "      <td>-0.000126</td>\n",
              "      <td>-0.000126</td>\n",
              "      <td>0.291001</td>\n",
              "      <td>0.0</td>\n",
              "    </tr>\n",
              "    <tr>\n",
              "      <th>31260</th>\n",
              "      <td>0.001682</td>\n",
              "      <td>-0.000093</td>\n",
              "      <td>-0.000126</td>\n",
              "      <td>0.002886</td>\n",
              "      <td>-0.000093</td>\n",
              "      <td>-0.000126</td>\n",
              "      <td>0.008907</td>\n",
              "      <td>-0.000093</td>\n",
              "      <td>-0.000126</td>\n",
              "      <td>0.056947</td>\n",
              "      <td>...</td>\n",
              "      <td>-0.000126</td>\n",
              "      <td>-0.000125</td>\n",
              "      <td>-0.000093</td>\n",
              "      <td>-0.000126</td>\n",
              "      <td>-0.000093</td>\n",
              "      <td>-0.000126</td>\n",
              "      <td>-0.000126</td>\n",
              "      <td>-0.000126</td>\n",
              "      <td>0.734373</td>\n",
              "      <td>1.0</td>\n",
              "    </tr>\n",
              "  </tbody>\n",
              "</table>\n",
              "<p>5 rows × 117 columns</p>\n",
              "</div>\n",
              "      <button class=\"colab-df-convert\" onclick=\"convertToInteractive('df-c925e99c-c4de-4ec3-be69-519bdf5bc4f7')\"\n",
              "              title=\"Convert this dataframe to an interactive table.\"\n",
              "              style=\"display:none;\">\n",
              "        \n",
              "  <svg xmlns=\"http://www.w3.org/2000/svg\" height=\"24px\"viewBox=\"0 0 24 24\"\n",
              "       width=\"24px\">\n",
              "    <path d=\"M0 0h24v24H0V0z\" fill=\"none\"/>\n",
              "    <path d=\"M18.56 5.44l.94 2.06.94-2.06 2.06-.94-2.06-.94-.94-2.06-.94 2.06-2.06.94zm-11 1L8.5 8.5l.94-2.06 2.06-.94-2.06-.94L8.5 2.5l-.94 2.06-2.06.94zm10 10l.94 2.06.94-2.06 2.06-.94-2.06-.94-.94-2.06-.94 2.06-2.06.94z\"/><path d=\"M17.41 7.96l-1.37-1.37c-.4-.4-.92-.59-1.43-.59-.52 0-1.04.2-1.43.59L10.3 9.45l-7.72 7.72c-.78.78-.78 2.05 0 2.83L4 21.41c.39.39.9.59 1.41.59.51 0 1.02-.2 1.41-.59l7.78-7.78 2.81-2.81c.8-.78.8-2.07 0-2.86zM5.41 20L4 18.59l7.72-7.72 1.47 1.35L5.41 20z\"/>\n",
              "  </svg>\n",
              "      </button>\n",
              "      \n",
              "  <style>\n",
              "    .colab-df-container {\n",
              "      display:flex;\n",
              "      flex-wrap:wrap;\n",
              "      gap: 12px;\n",
              "    }\n",
              "\n",
              "    .colab-df-convert {\n",
              "      background-color: #E8F0FE;\n",
              "      border: none;\n",
              "      border-radius: 50%;\n",
              "      cursor: pointer;\n",
              "      display: none;\n",
              "      fill: #1967D2;\n",
              "      height: 32px;\n",
              "      padding: 0 0 0 0;\n",
              "      width: 32px;\n",
              "    }\n",
              "\n",
              "    .colab-df-convert:hover {\n",
              "      background-color: #E2EBFA;\n",
              "      box-shadow: 0px 1px 2px rgba(60, 64, 67, 0.3), 0px 1px 3px 1px rgba(60, 64, 67, 0.15);\n",
              "      fill: #174EA6;\n",
              "    }\n",
              "\n",
              "    [theme=dark] .colab-df-convert {\n",
              "      background-color: #3B4455;\n",
              "      fill: #D2E3FC;\n",
              "    }\n",
              "\n",
              "    [theme=dark] .colab-df-convert:hover {\n",
              "      background-color: #434B5C;\n",
              "      box-shadow: 0px 1px 3px 1px rgba(0, 0, 0, 0.15);\n",
              "      filter: drop-shadow(0px 1px 2px rgba(0, 0, 0, 0.3));\n",
              "      fill: #FFFFFF;\n",
              "    }\n",
              "  </style>\n",
              "\n",
              "      <script>\n",
              "        const buttonEl =\n",
              "          document.querySelector('#df-c925e99c-c4de-4ec3-be69-519bdf5bc4f7 button.colab-df-convert');\n",
              "        buttonEl.style.display =\n",
              "          google.colab.kernel.accessAllowed ? 'block' : 'none';\n",
              "\n",
              "        async function convertToInteractive(key) {\n",
              "          const element = document.querySelector('#df-c925e99c-c4de-4ec3-be69-519bdf5bc4f7');\n",
              "          const dataTable =\n",
              "            await google.colab.kernel.invokeFunction('convertToInteractive',\n",
              "                                                     [key], {});\n",
              "          if (!dataTable) return;\n",
              "\n",
              "          const docLinkHtml = 'Like what you see? Visit the ' +\n",
              "            '<a target=\"_blank\" href=https://colab.research.google.com/notebooks/data_table.ipynb>data table notebook</a>'\n",
              "            + ' to learn more about interactive tables.';\n",
              "          element.innerHTML = '';\n",
              "          dataTable['output_type'] = 'display_data';\n",
              "          await google.colab.output.renderOutput(dataTable, element);\n",
              "          const docLink = document.createElement('div');\n",
              "          docLink.innerHTML = docLinkHtml;\n",
              "          element.appendChild(docLink);\n",
              "        }\n",
              "      </script>\n",
              "    </div>\n",
              "  </div>\n",
              "  "
            ]
          },
          "metadata": {},
          "execution_count": 14
        }
      ]
    },
    {
      "cell_type": "markdown",
      "metadata": {
        "id": "ZfAbEIDgz4iY"
      },
      "source": [
        "## **Linear Support Vector Machine Classifier (Binary Classification) **\n",
        "to enable make the svm_enable = 1 in the above cell"
      ]
    },
    {
      "cell_type": "code",
      "execution_count": 15,
      "metadata": {
        "id": "o8GdMBjdzFQT"
      },
      "outputs": [],
      "source": [
        "if svm_enable:\n",
        "  # using kernel as linear \n",
        "  lsvm = SVC(kernel='linear',gamma='auto') \n",
        "  lsvm.fit(X_train,y_train) # training model on training dataset"
      ]
    },
    {
      "cell_type": "code",
      "execution_count": 16,
      "metadata": {
        "id": "NjfYZA_9zTNK",
        "colab": {
          "base_uri": "https://localhost:8080/"
        },
        "outputId": "64025239-a7cd-459f-edba-f4c14af4de71"
      },
      "outputs": [
        {
          "output_type": "stream",
          "name": "stdout",
          "text": [
            "Saved model to disk\n",
            "Loaded model from disk\n"
          ]
        }
      ],
      "source": [
        "if svm_enable:\n",
        "  pkl_filename = \"/content/drive/MyDrive/Colab_Notebooks/Models/lsvm_binary\"+model_name_suffix+\".pkl\"\n",
        "  if (not path.isfile(pkl_filename)):\n",
        "    # saving the trained model to disk\n",
        "    with open(pkl_filename, 'wb') as file:\n",
        "      pickle.dump(lsvm, file)\n",
        "    print(\"Saved model to disk\")\n",
        "    # loading the trained model from disk\n",
        "    with open(pkl_filename, 'rb') as file:\n",
        "      lsvm = pickle.load(file)\n",
        "    print(\"Loaded model from disk\") "
      ]
    },
    {
      "cell_type": "code",
      "execution_count": 17,
      "metadata": {
        "id": "xsnN51Juzgcf",
        "colab": {
          "base_uri": "https://localhost:8080/"
        },
        "outputId": "7f558af4-5732-4a01-e9a6-b6b00b5c5241"
      },
      "outputs": [
        {
          "output_type": "stream",
          "name": "stdout",
          "text": [
            "LSVM-Classifier Binary Set-Accuracy is  100.0\n"
          ]
        }
      ],
      "source": [
        "if svm_enable:\n",
        "  y_pred = lsvm.predict(X_test) # predicting target attribute on testing dataset\n",
        "  ac = accuracy_score(y_test, y_pred)*100 # calculating accuracy of predicted data\n",
        "  print(\"LSVM-Classifier Binary Set-Accuracy is \", ac)"
      ]
    },
    {
      "cell_type": "code",
      "execution_count": 18,
      "metadata": {
        "id": "qg2gbJTg8NtL"
      },
      "outputs": [],
      "source": [
        "# import matplotlib.pyplot as plt\n",
        "# from sklearn.datasets import make_classification\n",
        "# from sklearn.metrics import confusion_matrix, ConfusionMatrixDisplay\n",
        "# from sklearn.model_selection import train_test_split\n",
        "# from sklearn.svm import SVC\n",
        "# X, y = make_classification(random_state=0)\n",
        "# X_train, X_test, y_train, y_test = train_test_split(X, y,\n",
        "#                                                     random_state=0)\n",
        "# cm = confusion_matrix(y_test, y_pred, labels=lsvm.classes_)\n",
        "# disp = ConfusionMatrixDisplay(confusion_matrix=cm,\n",
        "#                               display_labels=lsvm.classes_)\n",
        "# disp.plot()\n",
        "\n",
        "# plt.show()"
      ]
    },
    {
      "cell_type": "code",
      "execution_count": 19,
      "metadata": {
        "id": "9IydNlzT5kx6",
        "colab": {
          "base_uri": "https://localhost:8080/",
          "height": 587
        },
        "outputId": "307846b6-1fb9-4763-b9c4-dd85a99d8205"
      },
      "outputs": [
        {
          "output_type": "display_data",
          "data": {
            "text/plain": [
              "<Figure size 2000x800 with 1 Axes>"
            ],
            "image/png": "[encoded data removed]"
          },
          "metadata": {}
        }
      ],
      "source": [
        "if svm_enable:\n",
        "  plt.figure(figsize=(20,8))\n",
        "  plt.plot(y_pred[300:500], label=\"prediction\", linewidth=2.0,color='blue')\n",
        "  plt.plot(y_test[300:500].values, label=\"real_values\", linewidth=2.0,color='lightcoral')\n",
        "  plt.legend(loc=\"best\")\n",
        "  plt.ylim((-1,2))\n",
        "  plt.title(\"Linear SVM Binary Classification\")\n",
        "  plt.savefig('/content/drive/MyDrive/Colab_Notebooks/Plots/lsvm_real_pred_bin.png')\n",
        "  plt.show()"
      ]
    },
    {
      "cell_type": "code",
      "execution_count": 20,
      "metadata": {
        "id": "s9lqoveaUBvg",
        "colab": {
          "base_uri": "https://localhost:8080/"
        },
        "outputId": "fc0cff8f-ed19-4a4f-fe63-95505e9d5664"
      },
      "outputs": [
        {
          "output_type": "stream",
          "name": "stdout",
          "text": [
            "              precision    recall  f1-score   support\n",
            "\n",
            "     class 0       1.00      1.00      1.00      6588\n",
            "     class 1       1.00      1.00      1.00      3606\n",
            "\n",
            "    accuracy                           1.00     10194\n",
            "   macro avg       1.00      1.00      1.00     10194\n",
            "weighted avg       1.00      1.00      1.00     10194\n",
            "\n",
            "False Positive Rate -  [0.]\n",
            "False Negative Rate -  [0.]\n",
            "Thresholds -  [1.]\n"
          ]
        }
      ],
      "source": [
        "if svm_enable:\n",
        "  target_names = ['class 0', 'class 1']\n",
        "  print(classification_report(y_test, y_pred, target_names=target_names))\n",
        "  fpr, fnr, thresholds = det_curve(y_test, y_pred)\n",
        "  print(\"False Positive Rate - \", fpr)\n",
        "  print(\"False Negative Rate - \", fnr)\n",
        "  print(\"Thresholds - \", thresholds)"
      ]
    },
    {
      "cell_type": "code",
      "execution_count": 21,
      "metadata": {
        "id": "kWxBZhnw9t5n",
        "colab": {
          "base_uri": "https://localhost:8080/",
          "height": 449
        },
        "outputId": "97ddefa9-cb76-4a09-cd0d-66df7eb07945"
      },
      "outputs": [
        {
          "output_type": "display_data",
          "data": {
            "text/plain": [
              "<Figure size 640x480 with 2 Axes>"
            ],
            "image/png": "[encoded data removed]"
          },
          "metadata": {}
        }
      ],
      "source": [
        "if svm_enable:\n",
        "  from sklearn.metrics import confusion_matrix, ConfusionMatrixDisplay\n",
        "\n",
        "  clf = lsvm\n",
        "  cm = confusion_matrix(y_test, y_pred, labels=clf.classes_)\n",
        "  disp = ConfusionMatrixDisplay(confusion_matrix=cm,\n",
        "                                display_labels=clf.classes_)\n",
        "  disp.plot()\n",
        "\n",
        "  plt.show()"
      ]
    },
    {
      "cell_type": "markdown",
      "metadata": {
        "id": "PUjrwY2l0_RI"
      },
      "source": [
        "## **Multi Layer Perceptron Classifier (Binary Classification)**"
      ]
    },
    {
      "cell_type": "code",
      "execution_count": 22,
      "metadata": {
        "id": "u9v5Ylpa1DHY"
      },
      "outputs": [],
      "source": [
        "if model_selection[model_flag]==\"ALL\" or model_selection[model_flag] == \"MLP\":\n",
        "  mlp = Sequential() # creating model\n",
        "\n",
        "  # adding input layer and first layer with 50 neurons\n",
        "  mlp.add(Dense(units=50, input_dim=X_train.shape[1], activation='relu'))\n",
        "  # output layer with sigmoid activation\n",
        "  mlp.add(Dense(units=1,activation='sigmoid'))"
      ]
    },
    {
      "cell_type": "code",
      "execution_count": 23,
      "metadata": {
        "id": "E-9M9d0p1p8s"
      },
      "outputs": [],
      "source": [
        "if model_selection[model_flag]==\"ALL\" or model_selection[model_flag] == \"MLP\":\n",
        "  # defining loss function, optimizer, metrics and then compiling model\n",
        "  mlp.compile(loss='binary_crossentropy', optimizer='adam', metrics=['accuracy'])"
      ]
    },
    {
      "cell_type": "code",
      "execution_count": 24,
      "metadata": {
        "id": "NK-1_akm1vO9",
        "colab": {
          "base_uri": "https://localhost:8080/"
        },
        "outputId": "57d5da67-0fa3-4e5d-ff24-3df3df70ed2b"
      },
      "outputs": [
        {
          "output_type": "stream",
          "name": "stdout",
          "text": [
            "Model: \"sequential\"\n",
            "_________________________________________________________________\n",
            " Layer (type)                Output Shape              Param #   \n",
            "=================================================================\n",
            " dense (Dense)               (None, 50)                5900      \n",
            "                                                                 \n",
            " dense_1 (Dense)             (None, 1)                 51        \n",
            "                                                                 \n",
            "=================================================================\n",
            "Total params: 5,951\n",
            "Trainable params: 5,951\n",
            "Non-trainable params: 0\n",
            "_________________________________________________________________\n"
          ]
        }
      ],
      "source": [
        "if model_selection[model_flag]==\"ALL\" or model_selection[model_flag] == \"MLP\":\n",
        "  # summary of model layers\n",
        "  mlp.summary()"
      ]
    },
    {
      "cell_type": "code",
      "execution_count": 25,
      "metadata": {
        "id": "UYZ4xCgp13gP",
        "colab": {
          "base_uri": "https://localhost:8080/"
        },
        "outputId": "2f48cc8d-b8f9-4e58-c652-1975cf426aad"
      },
      "outputs": [
        {
          "output_type": "stream",
          "name": "stdout",
          "text": [
            "Epoch 1/100\n",
            "5/5 [==============================] - 6s 74ms/step - loss: 0.4697 - accuracy: 0.9581 - val_loss: 0.3212 - val_accuracy: 0.9827\n",
            "Epoch 2/100\n",
            "5/5 [==============================] - 0s 13ms/step - loss: 0.2620 - accuracy: 0.9899 - val_loss: 0.1921 - val_accuracy: 0.9899\n",
            "Epoch 3/100\n",
            "5/5 [==============================] - 0s 14ms/step - loss: 0.1597 - accuracy: 0.9918 - val_loss: 0.1246 - val_accuracy: 0.9907\n",
            "Epoch 4/100\n",
            "5/5 [==============================] - 0s 12ms/step - loss: 0.1046 - accuracy: 0.9925 - val_loss: 0.0878 - val_accuracy: 0.9908\n",
            "Epoch 5/100\n",
            "5/5 [==============================] - 0s 17ms/step - loss: 0.0742 - accuracy: 0.9930 - val_loss: 0.0678 - val_accuracy: 0.9915\n",
            "Epoch 6/100\n",
            "5/5 [==============================] - 0s 17ms/step - loss: 0.0575 - accuracy: 0.9935 - val_loss: 0.0568 - val_accuracy: 0.9918\n",
            "Epoch 7/100\n",
            "5/5 [==============================] - 0s 15ms/step - loss: 0.0480 - accuracy: 0.9938 - val_loss: 0.0504 - val_accuracy: 0.9918\n",
            "Epoch 8/100\n",
            "5/5 [==============================] - 0s 16ms/step - loss: 0.0423 - accuracy: 0.9940 - val_loss: 0.0466 - val_accuracy: 0.9920\n",
            "Epoch 9/100\n",
            "5/5 [==============================] - 0s 14ms/step - loss: 0.0387 - accuracy: 0.9940 - val_loss: 0.0440 - val_accuracy: 0.9925\n",
            "Epoch 10/100\n",
            "5/5 [==============================] - 0s 20ms/step - loss: 0.0363 - accuracy: 0.9942 - val_loss: 0.0422 - val_accuracy: 0.9925\n",
            "Epoch 11/100\n",
            "5/5 [==============================] - 0s 16ms/step - loss: 0.0345 - accuracy: 0.9943 - val_loss: 0.0409 - val_accuracy: 0.9925\n",
            "Epoch 12/100\n",
            "5/5 [==============================] - 0s 17ms/step - loss: 0.0332 - accuracy: 0.9943 - val_loss: 0.0398 - val_accuracy: 0.9925\n",
            "Epoch 13/100\n",
            "5/5 [==============================] - 0s 17ms/step - loss: 0.0321 - accuracy: 0.9943 - val_loss: 0.0390 - val_accuracy: 0.9925\n",
            "Epoch 14/100\n",
            "5/5 [==============================] - 0s 17ms/step - loss: 0.0312 - accuracy: 0.9943 - val_loss: 0.0382 - val_accuracy: 0.9925\n",
            "Epoch 15/100\n",
            "5/5 [==============================] - 0s 16ms/step - loss: 0.0305 - accuracy: 0.9944 - val_loss: 0.0375 - val_accuracy: 0.9925\n",
            "Epoch 16/100\n",
            "5/5 [==============================] - 0s 15ms/step - loss: 0.0299 - accuracy: 0.9944 - val_loss: 0.0369 - val_accuracy: 0.9925\n",
            "Epoch 17/100\n",
            "5/5 [==============================] - 0s 17ms/step - loss: 0.0293 - accuracy: 0.9944 - val_loss: 0.0364 - val_accuracy: 0.9925\n",
            "Epoch 18/100\n",
            "5/5 [==============================] - 0s 16ms/step - loss: 0.0288 - accuracy: 0.9944 - val_loss: 0.0358 - val_accuracy: 0.9925\n",
            "Epoch 19/100\n",
            "5/5 [==============================] - 0s 12ms/step - loss: 0.0283 - accuracy: 0.9944 - val_loss: 0.0353 - val_accuracy: 0.9925\n",
            "Epoch 20/100\n",
            "5/5 [==============================] - 0s 12ms/step - loss: 0.0278 - accuracy: 0.9944 - val_loss: 0.0347 - val_accuracy: 0.9925\n",
            "Epoch 21/100\n",
            "5/5 [==============================] - 0s 16ms/step - loss: 0.0274 - accuracy: 0.9944 - val_loss: 0.0342 - val_accuracy: 0.9925\n",
            "Epoch 22/100\n",
            "5/5 [==============================] - 0s 16ms/step - loss: 0.0270 - accuracy: 0.9944 - val_loss: 0.0337 - val_accuracy: 0.9925\n",
            "Epoch 23/100\n",
            "5/5 [==============================] - 0s 16ms/step - loss: 0.0266 - accuracy: 0.9944 - val_loss: 0.0332 - val_accuracy: 0.9926\n",
            "Epoch 24/100\n",
            "5/5 [==============================] - 0s 13ms/step - loss: 0.0262 - accuracy: 0.9944 - val_loss: 0.0327 - val_accuracy: 0.9926\n",
            "Epoch 25/100\n",
            "5/5 [==============================] - 0s 17ms/step - loss: 0.0258 - accuracy: 0.9944 - val_loss: 0.0323 - val_accuracy: 0.9928\n",
            "Epoch 26/100\n",
            "5/5 [==============================] - 0s 16ms/step - loss: 0.0255 - accuracy: 0.9945 - val_loss: 0.0318 - val_accuracy: 0.9928\n",
            "Epoch 27/100\n",
            "5/5 [==============================] - 0s 16ms/step - loss: 0.0251 - accuracy: 0.9945 - val_loss: 0.0313 - val_accuracy: 0.9928\n",
            "Epoch 28/100\n",
            "5/5 [==============================] - 0s 14ms/step - loss: 0.0248 - accuracy: 0.9946 - val_loss: 0.0308 - val_accuracy: 0.9928\n",
            "Epoch 29/100\n",
            "5/5 [==============================] - 0s 13ms/step - loss: 0.0244 - accuracy: 0.9946 - val_loss: 0.0303 - val_accuracy: 0.9928\n",
            "Epoch 30/100\n",
            "5/5 [==============================] - 0s 16ms/step - loss: 0.0241 - accuracy: 0.9946 - val_loss: 0.0299 - val_accuracy: 0.9928\n",
            "Epoch 31/100\n",
            "5/5 [==============================] - 0s 16ms/step - loss: 0.0237 - accuracy: 0.9946 - val_loss: 0.0294 - val_accuracy: 0.9928\n",
            "Epoch 32/100\n",
            "5/5 [==============================] - 0s 16ms/step - loss: 0.0233 - accuracy: 0.9946 - val_loss: 0.0289 - val_accuracy: 0.9928\n",
            "Epoch 33/100\n",
            "5/5 [==============================] - 0s 16ms/step - loss: 0.0230 - accuracy: 0.9946 - val_loss: 0.0284 - val_accuracy: 0.9928\n",
            "Epoch 34/100\n",
            "5/5 [==============================] - 0s 18ms/step - loss: 0.0226 - accuracy: 0.9946 - val_loss: 0.0279 - val_accuracy: 0.9928\n",
            "Epoch 35/100\n",
            "5/5 [==============================] - 0s 16ms/step - loss: 0.0222 - accuracy: 0.9946 - val_loss: 0.0274 - val_accuracy: 0.9928\n",
            "Epoch 36/100\n",
            "5/5 [==============================] - 0s 15ms/step - loss: 0.0219 - accuracy: 0.9946 - val_loss: 0.0269 - val_accuracy: 0.9928\n",
            "Epoch 37/100\n",
            "5/5 [==============================] - 0s 13ms/step - loss: 0.0215 - accuracy: 0.9947 - val_loss: 0.0264 - val_accuracy: 0.9928\n",
            "Epoch 38/100\n",
            "5/5 [==============================] - 0s 12ms/step - loss: 0.0212 - accuracy: 0.9947 - val_loss: 0.0258 - val_accuracy: 0.9928\n",
            "Epoch 39/100\n",
            "5/5 [==============================] - 0s 14ms/step - loss: 0.0208 - accuracy: 0.9947 - val_loss: 0.0253 - val_accuracy: 0.9928\n",
            "Epoch 40/100\n",
            "5/5 [==============================] - 0s 13ms/step - loss: 0.0204 - accuracy: 0.9947 - val_loss: 0.0248 - val_accuracy: 0.9928\n",
            "Epoch 41/100\n",
            "5/5 [==============================] - 0s 14ms/step - loss: 0.0200 - accuracy: 0.9947 - val_loss: 0.0243 - val_accuracy: 0.9930\n",
            "Epoch 42/100\n",
            "5/5 [==============================] - 0s 12ms/step - loss: 0.0196 - accuracy: 0.9947 - val_loss: 0.0237 - val_accuracy: 0.9930\n",
            "Epoch 43/100\n",
            "5/5 [==============================] - 0s 13ms/step - loss: 0.0193 - accuracy: 0.9947 - val_loss: 0.0232 - val_accuracy: 0.9930\n",
            "Epoch 44/100\n",
            "5/5 [==============================] - 0s 17ms/step - loss: 0.0189 - accuracy: 0.9947 - val_loss: 0.0228 - val_accuracy: 0.9930\n",
            "Epoch 45/100\n",
            "5/5 [==============================] - 0s 14ms/step - loss: 0.0186 - accuracy: 0.9948 - val_loss: 0.0223 - val_accuracy: 0.9930\n",
            "Epoch 46/100\n",
            "5/5 [==============================] - 0s 14ms/step - loss: 0.0183 - accuracy: 0.9948 - val_loss: 0.0219 - val_accuracy: 0.9931\n",
            "Epoch 47/100\n",
            "5/5 [==============================] - 0s 16ms/step - loss: 0.0179 - accuracy: 0.9951 - val_loss: 0.0215 - val_accuracy: 0.9933\n",
            "Epoch 48/100\n",
            "5/5 [==============================] - 0s 15ms/step - loss: 0.0176 - accuracy: 0.9952 - val_loss: 0.0211 - val_accuracy: 0.9936\n",
            "Epoch 49/100\n",
            "5/5 [==============================] - 0s 17ms/step - loss: 0.0174 - accuracy: 0.9952 - val_loss: 0.0208 - val_accuracy: 0.9936\n",
            "Epoch 50/100\n",
            "5/5 [==============================] - 0s 16ms/step - loss: 0.0171 - accuracy: 0.9954 - val_loss: 0.0204 - val_accuracy: 0.9944\n",
            "Epoch 51/100\n",
            "5/5 [==============================] - 0s 13ms/step - loss: 0.0168 - accuracy: 0.9957 - val_loss: 0.0201 - val_accuracy: 0.9949\n",
            "Epoch 52/100\n",
            "5/5 [==============================] - 0s 16ms/step - loss: 0.0166 - accuracy: 0.9960 - val_loss: 0.0198 - val_accuracy: 0.9953\n",
            "Epoch 53/100\n",
            "5/5 [==============================] - 0s 17ms/step - loss: 0.0164 - accuracy: 0.9961 - val_loss: 0.0195 - val_accuracy: 0.9956\n",
            "Epoch 54/100\n",
            "5/5 [==============================] - 0s 16ms/step - loss: 0.0162 - accuracy: 0.9964 - val_loss: 0.0192 - val_accuracy: 0.9959\n",
            "Epoch 55/100\n",
            "5/5 [==============================] - 0s 17ms/step - loss: 0.0160 - accuracy: 0.9964 - val_loss: 0.0190 - val_accuracy: 0.9959\n",
            "Epoch 56/100\n",
            "5/5 [==============================] - 0s 16ms/step - loss: 0.0158 - accuracy: 0.9965 - val_loss: 0.0187 - val_accuracy: 0.9959\n",
            "Epoch 57/100\n",
            "5/5 [==============================] - 0s 16ms/step - loss: 0.0156 - accuracy: 0.9966 - val_loss: 0.0185 - val_accuracy: 0.9961\n",
            "Epoch 58/100\n",
            "5/5 [==============================] - 0s 14ms/step - loss: 0.0154 - accuracy: 0.9966 - val_loss: 0.0183 - val_accuracy: 0.9961\n",
            "Epoch 59/100\n",
            "5/5 [==============================] - 0s 18ms/step - loss: 0.0153 - accuracy: 0.9966 - val_loss: 0.0181 - val_accuracy: 0.9961\n",
            "Epoch 60/100\n",
            "5/5 [==============================] - 0s 18ms/step - loss: 0.0151 - accuracy: 0.9966 - val_loss: 0.0179 - val_accuracy: 0.9961\n",
            "Epoch 61/100\n",
            "5/5 [==============================] - 0s 14ms/step - loss: 0.0150 - accuracy: 0.9966 - val_loss: 0.0177 - val_accuracy: 0.9961\n",
            "Epoch 62/100\n",
            "5/5 [==============================] - 0s 16ms/step - loss: 0.0148 - accuracy: 0.9966 - val_loss: 0.0175 - val_accuracy: 0.9961\n",
            "Epoch 63/100\n",
            "5/5 [==============================] - 0s 13ms/step - loss: 0.0147 - accuracy: 0.9966 - val_loss: 0.0174 - val_accuracy: 0.9961\n",
            "Epoch 64/100\n",
            "5/5 [==============================] - 0s 16ms/step - loss: 0.0145 - accuracy: 0.9966 - val_loss: 0.0172 - val_accuracy: 0.9961\n",
            "Epoch 65/100\n",
            "5/5 [==============================] - 0s 17ms/step - loss: 0.0144 - accuracy: 0.9966 - val_loss: 0.0171 - val_accuracy: 0.9961\n",
            "Epoch 66/100\n",
            "5/5 [==============================] - 0s 13ms/step - loss: 0.0143 - accuracy: 0.9966 - val_loss: 0.0169 - val_accuracy: 0.9961\n",
            "Epoch 67/100\n",
            "5/5 [==============================] - 0s 16ms/step - loss: 0.0142 - accuracy: 0.9966 - val_loss: 0.0167 - val_accuracy: 0.9961\n",
            "Epoch 68/100\n",
            "5/5 [==============================] - 0s 16ms/step - loss: 0.0140 - accuracy: 0.9965 - val_loss: 0.0166 - val_accuracy: 0.9961\n",
            "Epoch 69/100\n",
            "5/5 [==============================] - 0s 17ms/step - loss: 0.0139 - accuracy: 0.9965 - val_loss: 0.0165 - val_accuracy: 0.9961\n",
            "Epoch 70/100\n",
            "5/5 [==============================] - 0s 14ms/step - loss: 0.0138 - accuracy: 0.9965 - val_loss: 0.0163 - val_accuracy: 0.9961\n",
            "Epoch 71/100\n",
            "5/5 [==============================] - 0s 16ms/step - loss: 0.0137 - accuracy: 0.9966 - val_loss: 0.0162 - val_accuracy: 0.9961\n",
            "Epoch 72/100\n",
            "5/5 [==============================] - 0s 18ms/step - loss: 0.0136 - accuracy: 0.9966 - val_loss: 0.0160 - val_accuracy: 0.9961\n",
            "Epoch 73/100\n",
            "5/5 [==============================] - 0s 15ms/step - loss: 0.0135 - accuracy: 0.9966 - val_loss: 0.0159 - val_accuracy: 0.9961\n",
            "Epoch 74/100\n",
            "5/5 [==============================] - 0s 17ms/step - loss: 0.0133 - accuracy: 0.9966 - val_loss: 0.0157 - val_accuracy: 0.9961\n",
            "Epoch 75/100\n",
            "5/5 [==============================] - 0s 13ms/step - loss: 0.0132 - accuracy: 0.9967 - val_loss: 0.0154 - val_accuracy: 0.9961\n",
            "Epoch 76/100\n",
            "5/5 [==============================] - 0s 13ms/step - loss: 0.0130 - accuracy: 0.9967 - val_loss: 0.0153 - val_accuracy: 0.9961\n",
            "Epoch 77/100\n",
            "5/5 [==============================] - 0s 12ms/step - loss: 0.0129 - accuracy: 0.9967 - val_loss: 0.0152 - val_accuracy: 0.9961\n",
            "Epoch 78/100\n",
            "5/5 [==============================] - 0s 13ms/step - loss: 0.0128 - accuracy: 0.9968 - val_loss: 0.0151 - val_accuracy: 0.9961\n",
            "Epoch 79/100\n",
            "5/5 [==============================] - 0s 13ms/step - loss: 0.0127 - accuracy: 0.9968 - val_loss: 0.0149 - val_accuracy: 0.9961\n",
            "Epoch 80/100\n",
            "5/5 [==============================] - 0s 18ms/step - loss: 0.0126 - accuracy: 0.9968 - val_loss: 0.0148 - val_accuracy: 0.9961\n",
            "Epoch 81/100\n",
            "5/5 [==============================] - 0s 14ms/step - loss: 0.0125 - accuracy: 0.9968 - val_loss: 0.0147 - val_accuracy: 0.9961\n",
            "Epoch 82/100\n",
            "5/5 [==============================] - 0s 13ms/step - loss: 0.0124 - accuracy: 0.9968 - val_loss: 0.0146 - val_accuracy: 0.9961\n",
            "Epoch 83/100\n",
            "5/5 [==============================] - 0s 16ms/step - loss: 0.0123 - accuracy: 0.9968 - val_loss: 0.0144 - val_accuracy: 0.9961\n",
            "Epoch 84/100\n",
            "5/5 [==============================] - 0s 16ms/step - loss: 0.0122 - accuracy: 0.9968 - val_loss: 0.0143 - val_accuracy: 0.9961\n",
            "Epoch 85/100\n",
            "5/5 [==============================] - 0s 13ms/step - loss: 0.0121 - accuracy: 0.9968 - val_loss: 0.0142 - val_accuracy: 0.9961\n",
            "Epoch 86/100\n",
            "5/5 [==============================] - 0s 13ms/step - loss: 0.0120 - accuracy: 0.9968 - val_loss: 0.0140 - val_accuracy: 0.9962\n",
            "Epoch 87/100\n",
            "5/5 [==============================] - 0s 16ms/step - loss: 0.0118 - accuracy: 0.9968 - val_loss: 0.0139 - val_accuracy: 0.9962\n",
            "Epoch 88/100\n",
            "5/5 [==============================] - 0s 18ms/step - loss: 0.0117 - accuracy: 0.9968 - val_loss: 0.0137 - val_accuracy: 0.9962\n",
            "Epoch 89/100\n",
            "5/5 [==============================] - 0s 16ms/step - loss: 0.0116 - accuracy: 0.9968 - val_loss: 0.0136 - val_accuracy: 0.9962\n",
            "Epoch 90/100\n",
            "5/5 [==============================] - 0s 16ms/step - loss: 0.0115 - accuracy: 0.9968 - val_loss: 0.0135 - val_accuracy: 0.9962\n",
            "Epoch 91/100\n",
            "5/5 [==============================] - 0s 16ms/step - loss: 0.0114 - accuracy: 0.9968 - val_loss: 0.0133 - val_accuracy: 0.9962\n",
            "Epoch 92/100\n",
            "5/5 [==============================] - 0s 16ms/step - loss: 0.0113 - accuracy: 0.9968 - val_loss: 0.0132 - val_accuracy: 0.9962\n",
            "Epoch 93/100\n",
            "5/5 [==============================] - 0s 12ms/step - loss: 0.0112 - accuracy: 0.9968 - val_loss: 0.0131 - val_accuracy: 0.9962\n",
            "Epoch 94/100\n",
            "5/5 [==============================] - 0s 13ms/step - loss: 0.0111 - accuracy: 0.9968 - val_loss: 0.0130 - val_accuracy: 0.9962\n",
            "Epoch 95/100\n",
            "5/5 [==============================] - 0s 16ms/step - loss: 0.0110 - accuracy: 0.9969 - val_loss: 0.0129 - val_accuracy: 0.9962\n",
            "Epoch 96/100\n",
            "5/5 [==============================] - 0s 16ms/step - loss: 0.0109 - accuracy: 0.9969 - val_loss: 0.0127 - val_accuracy: 0.9962\n",
            "Epoch 97/100\n",
            "5/5 [==============================] - 0s 16ms/step - loss: 0.0107 - accuracy: 0.9969 - val_loss: 0.0125 - val_accuracy: 0.9962\n",
            "Epoch 98/100\n",
            "5/5 [==============================] - 0s 13ms/step - loss: 0.0106 - accuracy: 0.9969 - val_loss: 0.0124 - val_accuracy: 0.9962\n",
            "Epoch 99/100\n",
            "5/5 [==============================] - 0s 15ms/step - loss: 0.0105 - accuracy: 0.9969 - val_loss: 0.0123 - val_accuracy: 0.9962\n",
            "Epoch 100/100\n",
            "5/5 [==============================] - 0s 15ms/step - loss: 0.0104 - accuracy: 0.9969 - val_loss: 0.0122 - val_accuracy: 0.9962\n"
          ]
        }
      ],
      "source": [
        "if model_selection[model_flag]==\"ALL\" or model_selection[model_flag] == \"MLP\":\n",
        "  # training the model on training dataset\n",
        "  history = mlp.fit(X_train, y_train, epochs=100, batch_size=5000,validation_split=0.2)"
      ]
    },
    {
      "cell_type": "code",
      "execution_count": 26,
      "metadata": {
        "id": "_n_gNs3p1_M-",
        "colab": {
          "base_uri": "https://localhost:8080/"
        },
        "outputId": "a74f17e4-d590-4dba-8245-c9c03b2f71d2"
      },
      "outputs": [
        {
          "output_type": "stream",
          "name": "stdout",
          "text": [
            "Saved model to disk\n",
            "Loaded model from disk\n"
          ]
        }
      ],
      "source": [
        "if model_selection[model_flag]==\"ALL\" or model_selection[model_flag] == \"MLP\":\n",
        "  filepath = '/content/drive/MyDrive/Colab_Notebooks/Models/mlp_binary'+model_name_suffix+'.json'\n",
        "  weightspath = '/content/drive/MyDrive/Colab_Notebooks/Weights/mlp_binary'+model_name_suffix+'.h5'\n",
        "  if (not path.isfile(filepath)):\n",
        "    # serialize model to JSON\n",
        "    mlp_json = mlp.to_json()\n",
        "    with open(filepath, \"w\") as json_file:\n",
        "      json_file.write(mlp_json)\n",
        "\n",
        "    # serialize weights to HDF5\n",
        "    mlp.save_weights(weightspath)\n",
        "    print(\"Saved model to disk\")\n",
        "\n",
        "    # load json and create model\n",
        "    json_file = open(filepath, 'r')\n",
        "    loaded_model_json = json_file.read()\n",
        "    json_file.close()\n",
        "    mlp = model_from_json(loaded_model_json)\n",
        "\n",
        "    # load weights into new model\n",
        "    mlp.load_weights(weightspath)\n",
        "    print(\"Loaded model from disk\")"
      ]
    },
    {
      "cell_type": "code",
      "execution_count": 27,
      "metadata": {
        "id": "G99OrVcT2JON"
      },
      "outputs": [],
      "source": [
        "if model_selection[model_flag]==\"ALL\" or model_selection[model_flag] == \"MLP\":\n",
        "  # defining loss function, optimizer, metrics and then compiling model\n",
        "  mlp.compile(loss='binary_crossentropy', optimizer='adam', metrics=['accuracy'])"
      ]
    },
    {
      "cell_type": "code",
      "execution_count": 28,
      "metadata": {
        "id": "AXUA0T2N2OIB",
        "colab": {
          "base_uri": "https://localhost:8080/"
        },
        "outputId": "14e242b1-4dd9-49c3-844b-d2c71d6be2cc"
      },
      "outputs": [
        {
          "output_type": "stream",
          "name": "stdout",
          "text": [
            "319/319 [==============================] - 1s 2ms/step - loss: 0.0754 - accuracy: 0.9972\n",
            "Test results - Loss: 0.07535974681377411 - Accuracy: 99.71551895141602\n"
          ]
        }
      ],
      "source": [
        "if model_selection[model_flag]==\"ALL\" or model_selection[model_flag] == \"MLP\":\n",
        "  # predicting target attribute on testing dataset\n",
        "  test_results = mlp.evaluate(X_test, y_test, verbose=1)\n",
        "  print(f'Test results - Loss: {test_results[0]} - Accuracy: {test_results[1]*100}')"
      ]
    },
    {
      "cell_type": "code",
      "execution_count": 29,
      "metadata": {
        "id": "StFTrhE65_-q",
        "colab": {
          "base_uri": "https://localhost:8080/",
          "height": 472
        },
        "outputId": "8c77abbf-c63b-4521-ef18-468508431b82"
      },
      "outputs": [
        {
          "output_type": "display_data",
          "data": {
            "text/plain": [
              "<Figure size 640x480 with 1 Axes>"
            ],
            "image/png": "[encoded data removed]"
          },
          "metadata": {}
        }
      ],
      "source": [
        "if model_selection[model_flag]==\"ALL\" or model_selection[model_flag] == \"MLP\":  \n",
        "  # Plot of accuracy vs epoch of train and test dataset\n",
        "  plt.plot(history.history['accuracy'])\n",
        "  plt.plot(history.history['val_accuracy'])\n",
        "  plt.title(\"Plot of accuracy vs epoch for train and test dataset\")\n",
        "  plt.ylabel('accuracy')\n",
        "  plt.xlabel('epoch')\n",
        "  plt.legend(['train', 'test'], loc='best')\n",
        "  plt.savefig('/content/drive/MyDrive/Colab_Notebooks/Plots/mlp_binary_accuracy.png')\n",
        "  plt.show()"
      ]
    },
    {
      "cell_type": "code",
      "execution_count": 30,
      "metadata": {
        "id": "rZes4PzY6JUq",
        "colab": {
          "base_uri": "https://localhost:8080/",
          "height": 472
        },
        "outputId": "40beeb77-fe77-4d53-dcc8-974a3344ee0d"
      },
      "outputs": [
        {
          "output_type": "display_data",
          "data": {
            "text/plain": [
              "<Figure size 640x480 with 1 Axes>"
            ],
            "image/png": "[encoded data removed]"
          },
          "metadata": {}
        }
      ],
      "source": [
        "if model_selection[model_flag]==\"ALL\" or model_selection[model_flag] == \"MLP\":\n",
        "  # Plot of loss vs epoch of train and test dataset\n",
        "  plt.plot(history.history['loss'])\n",
        "  plt.plot(history.history['val_loss'])\n",
        "  plt.title('Plot of loss vs epoch for train and test dataset')\n",
        "  plt.ylabel('loss')\n",
        "  plt.xlabel('epoch')\n",
        "  plt.legend(['train', 'test'], loc='best')\n",
        "  plt.savefig('/content/drive/MyDrive/Colab_Notebooks/Plots/mlp_binary_loss.png')\n",
        "  plt.show()"
      ]
    },
    {
      "cell_type": "code",
      "execution_count": 31,
      "metadata": {
        "id": "mC0nj-on6iRU"
      },
      "outputs": [],
      "source": [
        "if model_selection[model_flag]==\"ALL\" or model_selection[model_flag] == \"MLP\":\n",
        "  # representation of model layers\n",
        "  from keras.utils.vis_utils import plot_model\n",
        "  plot_model(mlp, to_file='/content/drive/MyDrive/Colab_Notebooks/Plots/mlp_binary.png', show_shapes=True,)"
      ]
    },
    {
      "cell_type": "code",
      "execution_count": 32,
      "metadata": {
        "id": "oxHdln0c6Xi_",
        "colab": {
          "base_uri": "https://localhost:8080/"
        },
        "outputId": "a3bd925d-c2ab-4fd2-a4bd-d65ea3746e17"
      },
      "outputs": [
        {
          "output_type": "stream",
          "name": "stdout",
          "text": [
            "319/319 [==============================] - 1s 2ms/step\n"
          ]
        }
      ],
      "source": [
        "if model_selection[model_flag]==\"ALL\" or model_selection[model_flag] == \"MLP\":\n",
        "  y_pred = mlp.predict(X_test).ravel()\n",
        "  fpr, tpr, thresholds = roc_curve(y_test, y_pred)\n",
        "  auc = auc(fpr, tpr)"
      ]
    },
    {
      "cell_type": "code",
      "execution_count": 33,
      "metadata": {
        "id": "Cr36q9Z-6aRU",
        "colab": {
          "base_uri": "https://localhost:8080/",
          "height": 472
        },
        "outputId": "c58dc6a7-f574-439f-e1e0-25c30afe81a5"
      },
      "outputs": [
        {
          "output_type": "display_data",
          "data": {
            "text/plain": [
              "<Figure size 640x480 with 1 Axes>"
            ],
            "image/png": "[encoded data removed]"
          },
          "metadata": {}
        }
      ],
      "source": [
        "if model_selection[model_flag]==\"ALL\" or model_selection[model_flag] == \"MLP\":\n",
        "  plt.plot([0, 1], [0, 1], 'k--')\n",
        "  plt.plot(fpr, tpr, label='Keras (area = {:.3f})'.format(auc))\n",
        "  plt.xlabel('False positive rate')\n",
        "  plt.ylabel('True positive rate')\n",
        "  plt.title('ROC curve')\n",
        "  plt.legend(loc='best')\n",
        "  plt.savefig('/content/drive/MyDrive/Colab_Notebooks/Plots/mlp_binary_roc.png')\n",
        "  plt.show()"
      ]
    },
    {
      "cell_type": "code",
      "execution_count": 34,
      "metadata": {
        "id": "U9f2bWPwFljk"
      },
      "outputs": [],
      "source": [
        "# real_data_kdd = bin_data.copy()\n",
        "\n",
        "# # Names of the columns that are discrete\n",
        "# cat_cols = real_data_kdd.select_dtypes(['object']).columns\n",
        "# # cat_cols\n",
        "# test_data = real_data_kdd.iloc[:999]\n",
        "\n",
        "# corr= test_data.corr()\n",
        "# corr_y = abs(corr['label'])\n",
        "# highest_corr = corr_y\n",
        "# highest_corr.sort_values(ascending=True)"
      ]
    },
    {
      "cell_type": "code",
      "execution_count": 35,
      "metadata": {
        "id": "8-clVdUoUPa-",
        "colab": {
          "base_uri": "https://localhost:8080/"
        },
        "outputId": "534064c6-394e-4658-e8ab-def30a737c5d"
      },
      "outputs": [
        {
          "output_type": "stream",
          "name": "stdout",
          "text": [
            "319/319 [==============================] - 1s 2ms/step\n"
          ]
        }
      ],
      "source": [
        "if model_selection[model_flag]==\"ALL\" or model_selection[model_flag] == \"MLP\":\n",
        "  y_classes = (mlp.predict(X_test)>0.5).astype('int32')"
      ]
    },
    {
      "cell_type": "code",
      "execution_count": 36,
      "metadata": {
        "id": "0jcFqEqFT-uq",
        "colab": {
          "base_uri": "https://localhost:8080/"
        },
        "outputId": "c45c5f9a-94cb-489a-dd96-4f85796bdb80"
      },
      "outputs": [
        {
          "output_type": "stream",
          "name": "stdout",
          "text": [
            "Recall Score -  0.9997226844148641\n",
            "F1 Score -  0.9959939218124051\n",
            "Precision Score -  0.9922928709055877\n",
            "False Positive Rate -  [1.         0.00425015]\n",
            "False Negative Rate -  [0.         0.00027732]\n",
            "Thresholds -  [0 1]\n"
          ]
        }
      ],
      "source": [
        "if model_selection[model_flag]==\"ALL\" or model_selection[model_flag] == \"MLP\":\n",
        "  print(\"Recall Score - \",recall_score(y_test,y_classes))\n",
        "  print(\"F1 Score - \",f1_score(y_test,y_classes))\n",
        "  print(\"Precision Score - \",precision_score(y_test,y_classes))\n",
        "  fpr, fnr, thresholds = det_curve(y_test, y_classes)\n",
        "  print(\"False Positive Rate - \", fpr)\n",
        "  print(\"False Negative Rate - \", fnr)\n",
        "  print(\"Thresholds - \", thresholds)"
      ]
    },
    {
      "cell_type": "code",
      "source": [
        "print(classification_report(y_test, y_classes, target_names=['0', '1']))\n",
        "cm = confusion_matrix(y_test, y_classes)\n",
        "disp = ConfusionMatrixDisplay(confusion_matrix=cm,\n",
        "                              display_labels=['0', '1'])\n",
        "disp.plot()\n",
        "\n",
        "plt.show()"
      ],
      "metadata": {
        "id": "3HJB6IXJsxjg",
        "colab": {
          "base_uri": "https://localhost:8080/",
          "height": 610
        },
        "outputId": "912ca541-bbae-47ff-ccbf-6678a2e9b9f8"
      },
      "execution_count": 37,
      "outputs": [
        {
          "output_type": "stream",
          "name": "stdout",
          "text": [
            "              precision    recall  f1-score   support\n",
            "\n",
            "           0       1.00      1.00      1.00      6588\n",
            "           1       0.99      1.00      1.00      3606\n",
            "\n",
            "    accuracy                           1.00     10194\n",
            "   macro avg       1.00      1.00      1.00     10194\n",
            "weighted avg       1.00      1.00      1.00     10194\n",
            "\n"
          ]
        },
        {
          "output_type": "display_data",
          "data": {
            "text/plain": [
              "<Figure size 640x480 with 2 Axes>"
            ],
            "image/png": "[encoded data removed]"
          },
          "metadata": {}
        }
      ]
    },
    {
      "cell_type": "markdown",
      "source": [
        "# **Correlation** Matrix of Features"
      ],
      "metadata": {
        "id": "j7BKdCwqs2RE"
      }
    },
    {
      "cell_type": "code",
      "execution_count": 38,
      "metadata": {
        "id": "TL8zt-tHLt90",
        "colab": {
          "base_uri": "https://localhost:8080/"
        },
        "outputId": "d8c6caad-2db3-4f28-a417-f4e9a97acfcd"
      },
      "outputs": [
        {
          "output_type": "execute_result",
          "data": {
            "text/plain": [
              "X57      0.461289\n",
              "X85      0.469109\n",
              "X92      0.494110\n",
              "X106     0.494202\n",
              "X110     0.513466\n",
              "           ...   \n",
              "X1       0.984530\n",
              "X16      0.984560\n",
              "X66      0.984561\n",
              "X31      0.984561\n",
              "label    1.000000\n",
              "Name: label, Length: 91, dtype: float64"
            ]
          },
          "metadata": {},
          "execution_count": 38
        }
      ],
      "source": [
        "corr= bin_data.corr()\n",
        "corr_y = abs(corr['label'])\n",
        "highest_corr = corr_y[corr_y >0.3]\n",
        "highest_corr.sort_values(ascending=True)"
      ]
    },
    {
      "cell_type": "code",
      "source": [
        "plt.matshow(corr)\n",
        "plt.show()"
      ],
      "metadata": {
        "colab": {
          "base_uri": "https://localhost:8080/",
          "height": 437
        },
        "id": "q4b094WVtQQ7",
        "outputId": "660d828b-8ded-41a7-89bd-850f5dfc9437"
      },
      "execution_count": 39,
      "outputs": [
        {
          "output_type": "display_data",
          "data": {
            "text/plain": [
              "<Figure size 480x480 with 1 Axes>"
            ],
            "image/png": "[encoded data removed]"
          },
          "metadata": {}
        }
      ]
    },
    {
      "cell_type": "markdown",
      "metadata": {
        "id": "ZHhtNjFLPj6Y"
      },
      "source": [
        "## **LSTM Classifier**"
      ]
    },
    {
      "cell_type": "code",
      "execution_count": 40,
      "metadata": {
        "id": "DTNPkQMNL5Eh",
        "colab": {
          "base_uri": "https://localhost:8080/"
        },
        "outputId": "6148ae2e-1095-4ffa-992f-7b55ee11edf1"
      },
      "outputs": [
        {
          "output_type": "execute_result",
          "data": {
            "text/plain": [
              "(30579, 117)"
            ]
          },
          "metadata": {},
          "execution_count": 40
        }
      ],
      "source": [
        "X_train = np.array(X_train)\n",
        "X_test = np.array(X_test)\n",
        "# y_train.shape   #(18896,)\n",
        "X_train.shape"
      ]
    },
    {
      "cell_type": "code",
      "execution_count": 41,
      "metadata": {
        "id": "9n-QlBDXPMl4",
        "colab": {
          "base_uri": "https://localhost:8080/"
        },
        "outputId": "b54a9da1-236e-4fb3-e6bf-1dbbd887ee59"
      },
      "outputs": [
        {
          "output_type": "execute_result",
          "data": {
            "text/plain": [
              "numpy.ndarray"
            ]
          },
          "metadata": {},
          "execution_count": 41
        }
      ],
      "source": [
        "y_train = np.array(y_train)\n",
        "type(y_train)"
      ]
    },
    {
      "cell_type": "code",
      "execution_count": 42,
      "metadata": {
        "id": "-8Ro_ZRQPdZz",
        "colab": {
          "base_uri": "https://localhost:8080/"
        },
        "outputId": "58aac733-c789-4498-fe6e-b709a155637d"
      },
      "outputs": [
        {
          "output_type": "execute_result",
          "data": {
            "text/plain": [
              "(30579, 1, 117)"
            ]
          },
          "metadata": {},
          "execution_count": 42
        }
      ],
      "source": [
        "x_train = np.reshape(X_train, (X_train.shape[0],1,X_train.shape[1]))\n",
        "x_train.shape"
      ]
    },
    {
      "cell_type": "code",
      "source": [
        "x_train.shape[2]"
      ],
      "metadata": {
        "colab": {
          "base_uri": "https://localhost:8080/"
        },
        "id": "EuvuETcGpkje",
        "outputId": "cd214424-6c95-4656-8772-7cbee2deb6f8"
      },
      "execution_count": 43,
      "outputs": [
        {
          "output_type": "execute_result",
          "data": {
            "text/plain": [
              "117"
            ]
          },
          "metadata": {},
          "execution_count": 43
        }
      ]
    },
    {
      "cell_type": "code",
      "execution_count": 44,
      "metadata": {
        "id": "pLIl946zQQwG",
        "colab": {
          "base_uri": "https://localhost:8080/"
        },
        "outputId": "fb47d4a7-caeb-4624-aca2-ee16f210af31"
      },
      "outputs": [
        {
          "output_type": "execute_result",
          "data": {
            "text/plain": [
              "(10194, 1, 117)"
            ]
          },
          "metadata": {},
          "execution_count": 44
        }
      ],
      "source": [
        "x_test = np.reshape(X_test, (X_test.shape[0],1,X_test.shape[1]))\n",
        "x_test.shape"
      ]
    },
    {
      "cell_type": "code",
      "execution_count": 45,
      "metadata": {
        "id": "jWsrkPEmQcY7"
      },
      "outputs": [],
      "source": [
        "if model_selection[model_flag]==\"ALL\" or model_selection[model_flag] == \"LSTM\":\n",
        "  lst = Sequential()\n",
        "  # input layer and LSTM layer with 50 neurons\n",
        "  input_features = x_train.shape[2]\n",
        "  lst.add(LSTM(50,input_dim=input_features))\n",
        "\n",
        "  # outpute layer with sigmoid activation\n",
        "  lst.add(Dense(1,activation='sigmoid'))"
      ]
    },
    {
      "cell_type": "code",
      "execution_count": 46,
      "metadata": {
        "id": "UEmba1H9Q_qj"
      },
      "outputs": [],
      "source": [
        "if model_selection[model_flag]==\"ALL\" or model_selection[model_flag] == \"LSTM\":\n",
        "  # defining loss function, optimizer, metrics and then compiling model\n",
        "  lst.compile(loss='binary_crossentropy',optimizer='adam',metrics=['accuracy'])"
      ]
    },
    {
      "cell_type": "code",
      "execution_count": 47,
      "metadata": {
        "id": "anR58jV2RCtz",
        "colab": {
          "base_uri": "https://localhost:8080/"
        },
        "outputId": "901c96b5-d48a-4902-96a7-262f1afc7fb3"
      },
      "outputs": [
        {
          "output_type": "stream",
          "name": "stdout",
          "text": [
            "Model: \"sequential_1\"\n",
            "_________________________________________________________________\n",
            " Layer (type)                Output Shape              Param #   \n",
            "=================================================================\n",
            " lstm (LSTM)                 (None, 50)                33600     \n",
            "                                                                 \n",
            " dense_2 (Dense)             (None, 1)                 51        \n",
            "                                                                 \n",
            "=================================================================\n",
            "Total params: 33,651\n",
            "Trainable params: 33,651\n",
            "Non-trainable params: 0\n",
            "_________________________________________________________________\n"
          ]
        }
      ],
      "source": [
        "if model_selection[model_flag]==\"ALL\" or model_selection[model_flag] == \"LSTM\":\n",
        "  # summary of model layers\n",
        "  lst.summary()"
      ]
    },
    {
      "cell_type": "code",
      "execution_count": 48,
      "metadata": {
        "id": "_Pa4Qi12RJS_",
        "colab": {
          "base_uri": "https://localhost:8080/"
        },
        "outputId": "1ffd831e-cd81-41b3-91c1-0dcef07ebd3b"
      },
      "outputs": [
        {
          "output_type": "stream",
          "name": "stdout",
          "text": [
            "Epoch 1/100\n",
            "5/5 [==============================] - 4s 120ms/step - loss: 0.6561 - accuracy: 0.5192 - val_loss: 0.5623 - val_accuracy: 0.8465\n",
            "Epoch 2/100\n",
            "5/5 [==============================] - 0s 16ms/step - loss: 0.5116 - accuracy: 0.9449 - val_loss: 0.4400 - val_accuracy: 0.9792\n",
            "Epoch 3/100\n",
            "5/5 [==============================] - 0s 16ms/step - loss: 0.4008 - accuracy: 0.9854 - val_loss: 0.3460 - val_accuracy: 0.9830\n",
            "Epoch 4/100\n",
            "5/5 [==============================] - 0s 16ms/step - loss: 0.3146 - accuracy: 0.9881 - val_loss: 0.2721 - val_accuracy: 0.9872\n",
            "Epoch 5/100\n",
            "5/5 [==============================] - 0s 13ms/step - loss: 0.2462 - accuracy: 0.9904 - val_loss: 0.2135 - val_accuracy: 0.9894\n",
            "Epoch 6/100\n",
            "5/5 [==============================] - 0s 12ms/step - loss: 0.1921 - accuracy: 0.9914 - val_loss: 0.1679 - val_accuracy: 0.9899\n",
            "Epoch 7/100\n",
            "5/5 [==============================] - 0s 13ms/step - loss: 0.1504 - accuracy: 0.9922 - val_loss: 0.1337 - val_accuracy: 0.9907\n",
            "Epoch 8/100\n",
            "5/5 [==============================] - 0s 14ms/step - loss: 0.1192 - accuracy: 0.9928 - val_loss: 0.1089 - val_accuracy: 0.9913\n",
            "Epoch 9/100\n",
            "5/5 [==============================] - 0s 19ms/step - loss: 0.0969 - accuracy: 0.9933 - val_loss: 0.0912 - val_accuracy: 0.9917\n",
            "Epoch 10/100\n",
            "5/5 [==============================] - 0s 14ms/step - loss: 0.0808 - accuracy: 0.9936 - val_loss: 0.0786 - val_accuracy: 0.9913\n",
            "Epoch 11/100\n",
            "5/5 [==============================] - 0s 13ms/step - loss: 0.0692 - accuracy: 0.9937 - val_loss: 0.0694 - val_accuracy: 0.9912\n",
            "Epoch 12/100\n",
            "5/5 [==============================] - 0s 13ms/step - loss: 0.0607 - accuracy: 0.9937 - val_loss: 0.0627 - val_accuracy: 0.9913\n",
            "Epoch 13/100\n",
            "5/5 [==============================] - 0s 13ms/step - loss: 0.0543 - accuracy: 0.9938 - val_loss: 0.0578 - val_accuracy: 0.9913\n",
            "Epoch 14/100\n",
            "5/5 [==============================] - 0s 17ms/step - loss: 0.0496 - accuracy: 0.9938 - val_loss: 0.0540 - val_accuracy: 0.9915\n",
            "Epoch 15/100\n",
            "5/5 [==============================] - 0s 16ms/step - loss: 0.0459 - accuracy: 0.9938 - val_loss: 0.0511 - val_accuracy: 0.9915\n",
            "Epoch 16/100\n",
            "5/5 [==============================] - 0s 18ms/step - loss: 0.0431 - accuracy: 0.9940 - val_loss: 0.0489 - val_accuracy: 0.9917\n",
            "Epoch 17/100\n",
            "5/5 [==============================] - 0s 12ms/step - loss: 0.0409 - accuracy: 0.9940 - val_loss: 0.0472 - val_accuracy: 0.9918\n",
            "Epoch 18/100\n",
            "5/5 [==============================] - 0s 18ms/step - loss: 0.0391 - accuracy: 0.9940 - val_loss: 0.0458 - val_accuracy: 0.9918\n",
            "Epoch 19/100\n",
            "5/5 [==============================] - 0s 13ms/step - loss: 0.0377 - accuracy: 0.9940 - val_loss: 0.0447 - val_accuracy: 0.9918\n",
            "Epoch 20/100\n",
            "5/5 [==============================] - 0s 18ms/step - loss: 0.0365 - accuracy: 0.9941 - val_loss: 0.0438 - val_accuracy: 0.9918\n",
            "Epoch 21/100\n",
            "5/5 [==============================] - 0s 16ms/step - loss: 0.0355 - accuracy: 0.9941 - val_loss: 0.0429 - val_accuracy: 0.9918\n",
            "Epoch 22/100\n",
            "5/5 [==============================] - 0s 16ms/step - loss: 0.0347 - accuracy: 0.9941 - val_loss: 0.0422 - val_accuracy: 0.9918\n",
            "Epoch 23/100\n",
            "5/5 [==============================] - 0s 14ms/step - loss: 0.0340 - accuracy: 0.9941 - val_loss: 0.0416 - val_accuracy: 0.9918\n",
            "Epoch 24/100\n",
            "5/5 [==============================] - 0s 14ms/step - loss: 0.0333 - accuracy: 0.9941 - val_loss: 0.0410 - val_accuracy: 0.9918\n",
            "Epoch 25/100\n",
            "5/5 [==============================] - 0s 17ms/step - loss: 0.0328 - accuracy: 0.9942 - val_loss: 0.0405 - val_accuracy: 0.9918\n",
            "Epoch 26/100\n",
            "5/5 [==============================] - 0s 14ms/step - loss: 0.0322 - accuracy: 0.9941 - val_loss: 0.0400 - val_accuracy: 0.9918\n",
            "Epoch 27/100\n",
            "5/5 [==============================] - 0s 16ms/step - loss: 0.0317 - accuracy: 0.9941 - val_loss: 0.0395 - val_accuracy: 0.9918\n",
            "Epoch 28/100\n",
            "5/5 [==============================] - 0s 18ms/step - loss: 0.0312 - accuracy: 0.9941 - val_loss: 0.0390 - val_accuracy: 0.9918\n",
            "Epoch 29/100\n",
            "5/5 [==============================] - 0s 16ms/step - loss: 0.0308 - accuracy: 0.9941 - val_loss: 0.0385 - val_accuracy: 0.9918\n",
            "Epoch 30/100\n",
            "5/5 [==============================] - 0s 16ms/step - loss: 0.0303 - accuracy: 0.9942 - val_loss: 0.0379 - val_accuracy: 0.9918\n",
            "Epoch 31/100\n",
            "5/5 [==============================] - 0s 17ms/step - loss: 0.0299 - accuracy: 0.9942 - val_loss: 0.0374 - val_accuracy: 0.9918\n",
            "Epoch 32/100\n",
            "5/5 [==============================] - 0s 13ms/step - loss: 0.0295 - accuracy: 0.9942 - val_loss: 0.0368 - val_accuracy: 0.9920\n",
            "Epoch 33/100\n",
            "5/5 [==============================] - 0s 13ms/step - loss: 0.0290 - accuracy: 0.9942 - val_loss: 0.0363 - val_accuracy: 0.9922\n",
            "Epoch 34/100\n",
            "5/5 [==============================] - 0s 14ms/step - loss: 0.0286 - accuracy: 0.9942 - val_loss: 0.0357 - val_accuracy: 0.9922\n",
            "Epoch 35/100\n",
            "5/5 [==============================] - 0s 13ms/step - loss: 0.0282 - accuracy: 0.9943 - val_loss: 0.0352 - val_accuracy: 0.9922\n",
            "Epoch 36/100\n",
            "5/5 [==============================] - 0s 17ms/step - loss: 0.0278 - accuracy: 0.9943 - val_loss: 0.0347 - val_accuracy: 0.9922\n",
            "Epoch 37/100\n",
            "5/5 [==============================] - 0s 13ms/step - loss: 0.0274 - accuracy: 0.9943 - val_loss: 0.0343 - val_accuracy: 0.9922\n",
            "Epoch 38/100\n",
            "5/5 [==============================] - 0s 13ms/step - loss: 0.0270 - accuracy: 0.9944 - val_loss: 0.0338 - val_accuracy: 0.9922\n",
            "Epoch 39/100\n",
            "5/5 [==============================] - 0s 17ms/step - loss: 0.0267 - accuracy: 0.9944 - val_loss: 0.0333 - val_accuracy: 0.9922\n",
            "Epoch 40/100\n",
            "5/5 [==============================] - 0s 17ms/step - loss: 0.0263 - accuracy: 0.9944 - val_loss: 0.0328 - val_accuracy: 0.9922\n",
            "Epoch 41/100\n",
            "5/5 [==============================] - 0s 14ms/step - loss: 0.0260 - accuracy: 0.9944 - val_loss: 0.0323 - val_accuracy: 0.9922\n",
            "Epoch 42/100\n",
            "5/5 [==============================] - 0s 16ms/step - loss: 0.0256 - accuracy: 0.9944 - val_loss: 0.0319 - val_accuracy: 0.9922\n",
            "Epoch 43/100\n",
            "5/5 [==============================] - 0s 17ms/step - loss: 0.0253 - accuracy: 0.9944 - val_loss: 0.0314 - val_accuracy: 0.9922\n",
            "Epoch 44/100\n",
            "5/5 [==============================] - 0s 17ms/step - loss: 0.0250 - accuracy: 0.9944 - val_loss: 0.0310 - val_accuracy: 0.9922\n",
            "Epoch 45/100\n",
            "5/5 [==============================] - 0s 13ms/step - loss: 0.0246 - accuracy: 0.9944 - val_loss: 0.0306 - val_accuracy: 0.9922\n",
            "Epoch 46/100\n",
            "5/5 [==============================] - 0s 16ms/step - loss: 0.0243 - accuracy: 0.9944 - val_loss: 0.0301 - val_accuracy: 0.9922\n",
            "Epoch 47/100\n",
            "5/5 [==============================] - 0s 13ms/step - loss: 0.0240 - accuracy: 0.9944 - val_loss: 0.0297 - val_accuracy: 0.9922\n",
            "Epoch 48/100\n",
            "5/5 [==============================] - 0s 16ms/step - loss: 0.0237 - accuracy: 0.9944 - val_loss: 0.0293 - val_accuracy: 0.9922\n",
            "Epoch 49/100\n",
            "5/5 [==============================] - 0s 16ms/step - loss: 0.0234 - accuracy: 0.9945 - val_loss: 0.0289 - val_accuracy: 0.9922\n",
            "Epoch 50/100\n",
            "5/5 [==============================] - 0s 18ms/step - loss: 0.0231 - accuracy: 0.9945 - val_loss: 0.0285 - val_accuracy: 0.9922\n",
            "Epoch 51/100\n",
            "5/5 [==============================] - 0s 17ms/step - loss: 0.0228 - accuracy: 0.9945 - val_loss: 0.0281 - val_accuracy: 0.9922\n",
            "Epoch 52/100\n",
            "5/5 [==============================] - 0s 18ms/step - loss: 0.0226 - accuracy: 0.9945 - val_loss: 0.0278 - val_accuracy: 0.9922\n",
            "Epoch 53/100\n",
            "5/5 [==============================] - 0s 16ms/step - loss: 0.0223 - accuracy: 0.9945 - val_loss: 0.0274 - val_accuracy: 0.9922\n",
            "Epoch 54/100\n",
            "5/5 [==============================] - 0s 21ms/step - loss: 0.0220 - accuracy: 0.9945 - val_loss: 0.0271 - val_accuracy: 0.9922\n",
            "Epoch 55/100\n",
            "5/5 [==============================] - 0s 19ms/step - loss: 0.0218 - accuracy: 0.9945 - val_loss: 0.0267 - val_accuracy: 0.9922\n",
            "Epoch 56/100\n",
            "5/5 [==============================] - 0s 16ms/step - loss: 0.0215 - accuracy: 0.9945 - val_loss: 0.0264 - val_accuracy: 0.9922\n",
            "Epoch 57/100\n",
            "5/5 [==============================] - 0s 21ms/step - loss: 0.0213 - accuracy: 0.9945 - val_loss: 0.0260 - val_accuracy: 0.9922\n",
            "Epoch 58/100\n",
            "5/5 [==============================] - 0s 22ms/step - loss: 0.0211 - accuracy: 0.9945 - val_loss: 0.0257 - val_accuracy: 0.9922\n",
            "Epoch 59/100\n",
            "5/5 [==============================] - 0s 21ms/step - loss: 0.0208 - accuracy: 0.9945 - val_loss: 0.0254 - val_accuracy: 0.9923\n",
            "Epoch 60/100\n",
            "5/5 [==============================] - 0s 19ms/step - loss: 0.0206 - accuracy: 0.9945 - val_loss: 0.0252 - val_accuracy: 0.9923\n",
            "Epoch 61/100\n",
            "5/5 [==============================] - 0s 22ms/step - loss: 0.0204 - accuracy: 0.9945 - val_loss: 0.0249 - val_accuracy: 0.9925\n",
            "Epoch 62/100\n",
            "5/5 [==============================] - 0s 17ms/step - loss: 0.0202 - accuracy: 0.9946 - val_loss: 0.0246 - val_accuracy: 0.9926\n",
            "Epoch 63/100\n",
            "5/5 [==============================] - 0s 21ms/step - loss: 0.0200 - accuracy: 0.9947 - val_loss: 0.0243 - val_accuracy: 0.9926\n",
            "Epoch 64/100\n",
            "5/5 [==============================] - 0s 20ms/step - loss: 0.0198 - accuracy: 0.9949 - val_loss: 0.0241 - val_accuracy: 0.9928\n",
            "Epoch 65/100\n",
            "5/5 [==============================] - 0s 18ms/step - loss: 0.0196 - accuracy: 0.9951 - val_loss: 0.0239 - val_accuracy: 0.9933\n",
            "Epoch 66/100\n",
            "5/5 [==============================] - 0s 22ms/step - loss: 0.0195 - accuracy: 0.9952 - val_loss: 0.0236 - val_accuracy: 0.9938\n",
            "Epoch 67/100\n",
            "5/5 [==============================] - 0s 21ms/step - loss: 0.0193 - accuracy: 0.9955 - val_loss: 0.0234 - val_accuracy: 0.9943\n",
            "Epoch 68/100\n",
            "5/5 [==============================] - 0s 21ms/step - loss: 0.0191 - accuracy: 0.9957 - val_loss: 0.0232 - val_accuracy: 0.9948\n",
            "Epoch 69/100\n",
            "5/5 [==============================] - 0s 23ms/step - loss: 0.0189 - accuracy: 0.9958 - val_loss: 0.0230 - val_accuracy: 0.9948\n",
            "Epoch 70/100\n",
            "5/5 [==============================] - 0s 18ms/step - loss: 0.0188 - accuracy: 0.9959 - val_loss: 0.0228 - val_accuracy: 0.9949\n",
            "Epoch 71/100\n",
            "5/5 [==============================] - 0s 19ms/step - loss: 0.0186 - accuracy: 0.9961 - val_loss: 0.0226 - val_accuracy: 0.9954\n",
            "Epoch 72/100\n",
            "5/5 [==============================] - 0s 23ms/step - loss: 0.0185 - accuracy: 0.9962 - val_loss: 0.0224 - val_accuracy: 0.9953\n",
            "Epoch 73/100\n",
            "5/5 [==============================] - 0s 24ms/step - loss: 0.0183 - accuracy: 0.9962 - val_loss: 0.0222 - val_accuracy: 0.9953\n",
            "Epoch 74/100\n",
            "5/5 [==============================] - 0s 19ms/step - loss: 0.0182 - accuracy: 0.9962 - val_loss: 0.0220 - val_accuracy: 0.9957\n",
            "Epoch 75/100\n",
            "5/5 [==============================] - 0s 20ms/step - loss: 0.0181 - accuracy: 0.9963 - val_loss: 0.0218 - val_accuracy: 0.9957\n",
            "Epoch 76/100\n",
            "5/5 [==============================] - 0s 20ms/step - loss: 0.0179 - accuracy: 0.9963 - val_loss: 0.0216 - val_accuracy: 0.9959\n",
            "Epoch 77/100\n",
            "5/5 [==============================] - 0s 22ms/step - loss: 0.0178 - accuracy: 0.9963 - val_loss: 0.0214 - val_accuracy: 0.9959\n",
            "Epoch 78/100\n",
            "5/5 [==============================] - 0s 22ms/step - loss: 0.0176 - accuracy: 0.9962 - val_loss: 0.0213 - val_accuracy: 0.9959\n",
            "Epoch 79/100\n",
            "5/5 [==============================] - 0s 17ms/step - loss: 0.0175 - accuracy: 0.9963 - val_loss: 0.0211 - val_accuracy: 0.9959\n",
            "Epoch 80/100\n",
            "5/5 [==============================] - 0s 20ms/step - loss: 0.0174 - accuracy: 0.9963 - val_loss: 0.0209 - val_accuracy: 0.9959\n",
            "Epoch 81/100\n",
            "5/5 [==============================] - 0s 21ms/step - loss: 0.0172 - accuracy: 0.9963 - val_loss: 0.0207 - val_accuracy: 0.9959\n",
            "Epoch 82/100\n",
            "5/5 [==============================] - 0s 23ms/step - loss: 0.0171 - accuracy: 0.9963 - val_loss: 0.0205 - val_accuracy: 0.9961\n",
            "Epoch 83/100\n",
            "5/5 [==============================] - 0s 19ms/step - loss: 0.0169 - accuracy: 0.9963 - val_loss: 0.0203 - val_accuracy: 0.9961\n",
            "Epoch 84/100\n",
            "5/5 [==============================] - 0s 18ms/step - loss: 0.0168 - accuracy: 0.9964 - val_loss: 0.0202 - val_accuracy: 0.9961\n",
            "Epoch 85/100\n",
            "5/5 [==============================] - 0s 19ms/step - loss: 0.0167 - accuracy: 0.9964 - val_loss: 0.0200 - val_accuracy: 0.9961\n",
            "Epoch 86/100\n",
            "5/5 [==============================] - 0s 19ms/step - loss: 0.0165 - accuracy: 0.9964 - val_loss: 0.0198 - val_accuracy: 0.9961\n",
            "Epoch 87/100\n",
            "5/5 [==============================] - 0s 21ms/step - loss: 0.0164 - accuracy: 0.9964 - val_loss: 0.0196 - val_accuracy: 0.9961\n",
            "Epoch 88/100\n",
            "5/5 [==============================] - 0s 19ms/step - loss: 0.0162 - accuracy: 0.9964 - val_loss: 0.0194 - val_accuracy: 0.9959\n",
            "Epoch 89/100\n",
            "5/5 [==============================] - 0s 21ms/step - loss: 0.0161 - accuracy: 0.9964 - val_loss: 0.0192 - val_accuracy: 0.9957\n",
            "Epoch 90/100\n",
            "5/5 [==============================] - 0s 18ms/step - loss: 0.0159 - accuracy: 0.9964 - val_loss: 0.0190 - val_accuracy: 0.9957\n",
            "Epoch 91/100\n",
            "5/5 [==============================] - 0s 20ms/step - loss: 0.0158 - accuracy: 0.9964 - val_loss: 0.0189 - val_accuracy: 0.9957\n",
            "Epoch 92/100\n",
            "5/5 [==============================] - 0s 21ms/step - loss: 0.0157 - accuracy: 0.9964 - val_loss: 0.0187 - val_accuracy: 0.9957\n",
            "Epoch 93/100\n",
            "5/5 [==============================] - 0s 25ms/step - loss: 0.0155 - accuracy: 0.9965 - val_loss: 0.0185 - val_accuracy: 0.9957\n",
            "Epoch 94/100\n",
            "5/5 [==============================] - 0s 16ms/step - loss: 0.0154 - accuracy: 0.9965 - val_loss: 0.0184 - val_accuracy: 0.9957\n",
            "Epoch 95/100\n",
            "5/5 [==============================] - 0s 14ms/step - loss: 0.0153 - accuracy: 0.9965 - val_loss: 0.0182 - val_accuracy: 0.9957\n",
            "Epoch 96/100\n",
            "5/5 [==============================] - 0s 12ms/step - loss: 0.0151 - accuracy: 0.9965 - val_loss: 0.0180 - val_accuracy: 0.9957\n",
            "Epoch 97/100\n",
            "5/5 [==============================] - 0s 17ms/step - loss: 0.0150 - accuracy: 0.9965 - val_loss: 0.0178 - val_accuracy: 0.9957\n",
            "Epoch 98/100\n",
            "5/5 [==============================] - 0s 16ms/step - loss: 0.0148 - accuracy: 0.9965 - val_loss: 0.0176 - val_accuracy: 0.9957\n",
            "Epoch 99/100\n",
            "5/5 [==============================] - 0s 14ms/step - loss: 0.0147 - accuracy: 0.9965 - val_loss: 0.0174 - val_accuracy: 0.9957\n",
            "Epoch 100/100\n",
            "5/5 [==============================] - 0s 16ms/step - loss: 0.0145 - accuracy: 0.9965 - val_loss: 0.0173 - val_accuracy: 0.9957\n"
          ]
        }
      ],
      "source": [
        "if model_selection[model_flag]==\"ALL\" or model_selection[model_flag] == \"LSTM\":\n",
        "  # training the model on training dataset\n",
        "  history = lst.fit(x_train, y_train, epochs=100, batch_size=5000,validation_split=0.2)"
      ]
    },
    {
      "cell_type": "code",
      "execution_count": 49,
      "metadata": {
        "id": "BCQtvJcXRcNr",
        "colab": {
          "base_uri": "https://localhost:8080/"
        },
        "outputId": "2b65965e-ea86-47b1-e7c4-beadc0aeb575"
      },
      "outputs": [
        {
          "output_type": "stream",
          "name": "stdout",
          "text": [
            "Saved model to disk\n",
            "Loaded model from disk\n"
          ]
        }
      ],
      "source": [
        "if model_selection[model_flag]==\"ALL\" or model_selection[model_flag] == \"LSTM\":\n",
        "  filepath = '/content/drive/MyDrive/Colab_Notebooks/Models/lst_binary_kitsune'+model_name_suffix+'.json'\n",
        "  weightspath = '/content/drive/MyDrive/Colab_Notebooks/Weights/lst_binary_kitsune'+model_name_suffix+'.h5'\n",
        "  if (not path.isfile(filepath)):\n",
        "    # serialize model to JSON\n",
        "    lst_json = lst.to_json()\n",
        "    with open(filepath, \"w\") as json_file:\n",
        "      json_file.write(lst_json)\n",
        "\n",
        "    # serialize weights to HDF5\n",
        "    lst.save_weights(weightspath)\n",
        "    print(\"Saved model to disk\")\n",
        "\n",
        "    # load json and create model\n",
        "    json_file = open(filepath, 'r')\n",
        "    loaded_model_json = json_file.read()\n",
        "    json_file.close()\n",
        "    lst = model_from_json(loaded_model_json)\n",
        "\n",
        "    # load weights into new model\n",
        "    lst.load_weights(weightspath)\n",
        "    print(\"Loaded model from disk\")"
      ]
    },
    {
      "cell_type": "code",
      "execution_count": 50,
      "metadata": {
        "id": "rPaW37T-R0dG",
        "colab": {
          "base_uri": "https://localhost:8080/"
        },
        "outputId": "c7995cb0-722e-4d42-b33a-2c73c9c83605"
      },
      "outputs": [
        {
          "output_type": "stream",
          "name": "stdout",
          "text": [
            "Loaded model from disk\n"
          ]
        }
      ],
      "source": [
        "if model_selection[model_flag]==\"ALL\" or model_selection[model_flag] == \"LSTM\":\n",
        "  # load json and create model\n",
        "  json_file = open(filepath, 'r')\n",
        "  loaded_model_json = json_file.read()\n",
        "  json_file.close()\n",
        "  lst = model_from_json(loaded_model_json)\n",
        "\n",
        "  # load weights into new model\n",
        "  lst.load_weights(weightspath)\n",
        "  print(\"Loaded model from disk\")"
      ]
    },
    {
      "cell_type": "code",
      "execution_count": 51,
      "metadata": {
        "id": "ukGDdSggR3na"
      },
      "outputs": [],
      "source": [
        "if model_selection[model_flag]==\"ALL\" or model_selection[model_flag] == \"LSTM\":\n",
        "  # defining loss function, optimizer, metrics and then compiling model\n",
        "  lst.compile(loss='binary_crossentropy',optimizer='adam',metrics=['accuracy'])"
      ]
    },
    {
      "cell_type": "code",
      "execution_count": 52,
      "metadata": {
        "id": "nvjY0u97R68f",
        "colab": {
          "base_uri": "https://localhost:8080/"
        },
        "outputId": "8255c38f-b125-4c59-b0ed-bb5cffa5bb02"
      },
      "outputs": [
        {
          "output_type": "stream",
          "name": "stdout",
          "text": [
            "319/319 [==============================] - 2s 3ms/step - loss: 0.1063 - accuracy: 0.9972\n",
            "Test results - Loss: 0.10630159080028534 - Accuracy: 99.71551895141602%\n"
          ]
        }
      ],
      "source": [
        "if model_selection[model_flag]==\"ALL\" or model_selection[model_flag] == \"LSTM\":\n",
        "  # predicting target attribute on testing dataset\n",
        "  test_results = lst.evaluate(x_test, y_test, verbose=1)\n",
        "  print(f'Test results - Loss: {test_results[0]} - Accuracy: {test_results[1]*100}%')"
      ]
    },
    {
      "cell_type": "code",
      "execution_count": 53,
      "metadata": {
        "id": "f8yKMcIHR_jP",
        "colab": {
          "base_uri": "https://localhost:8080/",
          "height": 472
        },
        "outputId": "15d0ed83-524c-404c-9394-6957dccb23a8"
      },
      "outputs": [
        {
          "output_type": "display_data",
          "data": {
            "text/plain": [
              "<Figure size 640x480 with 1 Axes>"
            ],
            "image/png": "[encoded data removed]"
          },
          "metadata": {}
        }
      ],
      "source": [
        "if model_selection[model_flag]==\"ALL\" or model_selection[model_flag] == \"LSTM\":\n",
        "  # Plot of accuracy vs epoch of train and test dataset\n",
        "  plt.plot(history.history['accuracy'])\n",
        "  plt.plot(history.history['val_accuracy'])\n",
        "  plt.title(\"Plot of accuracy vs epoch for train and test dataset\")\n",
        "  plt.ylabel('accuracy')\n",
        "  plt.xlabel('epoch')\n",
        "  plt.legend(['train', 'test'], loc='best')\n",
        "  plt.savefig('/content/drive/MyDrive/Colab_Notebooks/Plots/lstm_binary_accuracy.png')\n",
        "  plt.show()"
      ]
    },
    {
      "cell_type": "code",
      "execution_count": 54,
      "metadata": {
        "id": "M5g1Rw_SSb5n",
        "colab": {
          "base_uri": "https://localhost:8080/",
          "height": 472
        },
        "outputId": "64da9814-3fec-42b2-9025-eb068ad9382c"
      },
      "outputs": [
        {
          "output_type": "display_data",
          "data": {
            "text/plain": [
              "<Figure size 640x480 with 1 Axes>"
            ],
            "image/png": "[encoded data removed]"
          },
          "metadata": {}
        }
      ],
      "source": [
        "if model_selection[model_flag]==\"ALL\" or model_selection[model_flag] == \"LSTM\":\n",
        "  # Plot of loss vs epoch of train and test dataset\n",
        "  plt.plot(history.history['loss'])\n",
        "  plt.plot(history.history['val_loss'])\n",
        "  plt.title(\"Plot of loss vs epoch for train and test dataset\")\n",
        "  plt.ylabel('loss')\n",
        "  plt.xlabel('epoch')\n",
        "  plt.legend(['train', 'test'], loc='best')\n",
        "  plt.savefig('/content/drive/MyDrive/Colab_Notebooks/Plots/lstm_binary_loss.png')\n",
        "  plt.show()"
      ]
    },
    {
      "cell_type": "code",
      "execution_count": 55,
      "metadata": {
        "id": "osZa2OV9Se-T"
      },
      "outputs": [],
      "source": [
        "if model_selection[model_flag]==\"ALL\" or model_selection[model_flag] == \"LSTM\":\n",
        "  # representation of model layers\n",
        "  plot_model(lst, to_file='/content/drive/MyDrive/Colab_Notebooks/Plots/lstm_binary.png', show_shapes=True,)"
      ]
    },
    {
      "cell_type": "code",
      "execution_count": 56,
      "metadata": {
        "id": "lw4OLD4HSpaY",
        "colab": {
          "base_uri": "https://localhost:8080/"
        },
        "outputId": "eabaebfa-ae30-40d4-8e90-0b48aaa2158e"
      },
      "outputs": [
        {
          "output_type": "execute_result",
          "data": {
            "text/plain": [
              "(10194,)"
            ]
          },
          "metadata": {},
          "execution_count": 56
        }
      ],
      "source": [
        "y_test = np.array(y_test)\n",
        "y_test.shape"
      ]
    },
    {
      "cell_type": "code",
      "execution_count": 57,
      "metadata": {
        "id": "4BvYVrKsTGr3",
        "colab": {
          "base_uri": "https://localhost:8080/"
        },
        "outputId": "e0fb5577-ad5d-4134-b2bf-99c364f3cb15"
      },
      "outputs": [
        {
          "output_type": "execute_result",
          "data": {
            "text/plain": [
              "numpy.ndarray"
            ]
          },
          "metadata": {},
          "execution_count": 57
        }
      ],
      "source": [
        "type(y_test)"
      ]
    },
    {
      "cell_type": "code",
      "execution_count": 58,
      "metadata": {
        "id": "KBvCGl6BS0FM",
        "colab": {
          "base_uri": "https://localhost:8080/"
        },
        "outputId": "d28e30b7-d23c-4018-c9ac-b0a494a94845"
      },
      "outputs": [
        {
          "output_type": "stream",
          "name": "stdout",
          "text": [
            "319/319 [==============================] - 1s 2ms/step\n"
          ]
        }
      ],
      "source": [
        "if model_selection[model_flag]==\"ALL\" or model_selection[model_flag] == \"LSTM\":\n",
        "  y_classes = (lst.predict(x_test)>0.5).astype('int32')"
      ]
    },
    {
      "cell_type": "code",
      "execution_count": 59,
      "metadata": {
        "id": "x_yVqBlLTtLW",
        "colab": {
          "base_uri": "https://localhost:8080/"
        },
        "outputId": "25b39445-b193-4573-f86b-0dfd362ff498"
      },
      "outputs": [
        {
          "output_type": "stream",
          "name": "stdout",
          "text": [
            "Recall Score -  0.9997226844148641\n",
            "F1 Score -  0.9959939218124051\n",
            "Precision Score -  0.9922928709055877\n",
            "False Positive Rate -  [1.         0.00425015]\n",
            "False Negative Rate -  [0.         0.00027732]\n",
            "Thresholds -  [0 1]\n"
          ]
        }
      ],
      "source": [
        "if model_selection[model_flag]==\"ALL\" or model_selection[model_flag] == \"LSTM\":\n",
        "  print(\"Recall Score - \",recall_score(y_test,y_classes))\n",
        "  print(\"F1 Score - \",f1_score(y_test,y_classes))\n",
        "  print(\"Precision Score - \",precision_score(y_test,y_classes))\n",
        "  fpr, fnr, thresholds = det_curve(y_test, y_classes)\n",
        "  print(\"False Positive Rate - \", fpr)\n",
        "  print(\"False Negative Rate - \", fnr)\n",
        "  print(\"Thresholds - \", thresholds)"
      ]
    },
    {
      "cell_type": "code",
      "source": [
        "print(classification_report(y_test, y_classes, target_names=['0', '1']))\n",
        "cm = confusion_matrix(y_test, y_classes)\n",
        "disp = ConfusionMatrixDisplay(confusion_matrix=cm,\n",
        "                              display_labels=['0', '1'])\n",
        "disp.plot()\n",
        "\n",
        "plt.show()"
      ],
      "metadata": {
        "colab": {
          "base_uri": "https://localhost:8080/",
          "height": 610
        },
        "id": "lHw1E32esovH",
        "outputId": "3b7d6b84-4607-4c9e-c39b-3b0d669012c6"
      },
      "execution_count": 60,
      "outputs": [
        {
          "output_type": "stream",
          "name": "stdout",
          "text": [
            "              precision    recall  f1-score   support\n",
            "\n",
            "           0       1.00      1.00      1.00      6588\n",
            "           1       0.99      1.00      1.00      3606\n",
            "\n",
            "    accuracy                           1.00     10194\n",
            "   macro avg       1.00      1.00      1.00     10194\n",
            "weighted avg       1.00      1.00      1.00     10194\n",
            "\n"
          ]
        },
        {
          "output_type": "display_data",
          "data": {
            "text/plain": [
              "<Figure size 640x480 with 2 Axes>"
            ],
            "image/png": "[encoded data removed]"
          },
          "metadata": {}
        }
      ]
    },
    {
      "cell_type": "markdown",
      "metadata": {
        "id": "H_g15uXe82BY"
      },
      "source": [
        "## **Auto Encoder**"
      ]
    },
    {
      "cell_type": "code",
      "execution_count": 61,
      "metadata": {
        "id": "VQ6pDxghmBwB"
      },
      "outputs": [],
      "source": [
        "if model_selection[model_flag]==\"ALL\" or model_selection[model_flag] == \"AE\":\n",
        "  # splitting the dataset 75% for training and 25% testing\n",
        "  X_train, X_test = train_test_split(bin_data, test_size=0.25, random_state=42)"
      ]
    },
    {
      "cell_type": "code",
      "execution_count": 62,
      "metadata": {
        "id": "uogVT92Q_6wh"
      },
      "outputs": [],
      "source": [
        "if model_selection[model_flag]==\"ALL\" or model_selection[model_flag] == \"AE\":\n",
        "  # dataset excluding target attribute (encoded, one-hot-encoded,original)\n",
        "  X_train = X_train.drop(['label'],axis=1) \n",
        "\n",
        "  y_test = X_test['label'] # target attribute\n",
        "\n",
        "  # dataset excluding target attribute (encoded, one-hot-encoded,original)\n",
        "  X_test = X_test.drop(['label'],axis=1)\n",
        "  # calling the normalization() function\n",
        "  X_train = normalization_train(X_train,numeric_cols)\n",
        "  X_test = normalization_test(X_test,numeric_cols)\n",
        "  X_train = X_train.values\n",
        "  X_test = X_test.values\n",
        "  y_test = y_test.values"
      ]
    },
    {
      "cell_type": "code",
      "execution_count": 63,
      "metadata": {
        "id": "s696BM9uKADC"
      },
      "outputs": [],
      "source": [
        "if model_selection[model_flag]==\"ALL\" or model_selection[model_flag] == \"AE\":\n",
        "  input_dim = X_train.shape[1]\n",
        "  encoding_dim = 50\n",
        "\n",
        "  #input layer\n",
        "  input_layer = Input(shape=(input_dim, ))\n",
        "  #encoding layer with 50 neurons\n",
        "  encoder = Dense(encoding_dim, activation=\"relu\")(input_layer)           \n",
        "  #decoding and output layer\n",
        "  output_layer = Dense(input_dim, activation='softmax')(encoder)"
      ]
    },
    {
      "cell_type": "code",
      "execution_count": 64,
      "metadata": {
        "id": "nLn3vHBZLQtj"
      },
      "outputs": [],
      "source": [
        "if model_selection[model_flag]==\"ALL\" or model_selection[model_flag] == \"AE\":\n",
        "  # creating model with input, encoding, decoding, output layers\n",
        "  autoencoder = Model(inputs=input_layer, outputs=output_layer)\n",
        "\n",
        "  # defining loss function, optimizer, metrics and then compiling model\n",
        "  autoencoder.compile(optimizer='adam', loss='mean_squared_error',metrics=['accuracy'])"
      ]
    },
    {
      "cell_type": "code",
      "execution_count": 65,
      "metadata": {
        "id": "X_zk7PMVLVNm",
        "colab": {
          "base_uri": "https://localhost:8080/"
        },
        "outputId": "8e43d1fb-7088-4452-89e3-9233aa407fed"
      },
      "outputs": [
        {
          "output_type": "stream",
          "name": "stdout",
          "text": [
            "Model: \"model\"\n",
            "_________________________________________________________________\n",
            " Layer (type)                Output Shape              Param #   \n",
            "=================================================================\n",
            " input_1 (InputLayer)        [(None, 116)]             0         \n",
            "                                                                 \n",
            " dense_3 (Dense)             (None, 50)                5850      \n",
            "                                                                 \n",
            " dense_4 (Dense)             (None, 116)               5916      \n",
            "                                                                 \n",
            "=================================================================\n",
            "Total params: 11,766\n",
            "Trainable params: 11,766\n",
            "Non-trainable params: 0\n",
            "_________________________________________________________________\n"
          ]
        }
      ],
      "source": [
        "if model_selection[model_flag]==\"ALL\" or model_selection[model_flag] == \"AE\":\n",
        "  # summary of model layers\n",
        "  autoencoder.summary()"
      ]
    },
    {
      "cell_type": "code",
      "execution_count": 66,
      "metadata": {
        "id": "We59NbebLdkJ",
        "colab": {
          "base_uri": "https://localhost:8080/"
        },
        "outputId": "efb216b5-bf68-4e3d-f82f-13afbfacbf84"
      },
      "outputs": [
        {
          "output_type": "stream",
          "name": "stdout",
          "text": [
            "Epoch 1/100\n",
            "62/62 [==============================] - 1s 6ms/step - loss: 0.2538 - accuracy: 2.9432e-04 - val_loss: 10438916939186176.0000 - val_accuracy: 0.0000e+00\n",
            "Epoch 2/100\n",
            "62/62 [==============================] - 0s 4ms/step - loss: 0.2481 - accuracy: 0.0955 - val_loss: 10438916939186176.0000 - val_accuracy: 0.0000e+00\n",
            "Epoch 3/100\n",
            "62/62 [==============================] - 0s 4ms/step - loss: 0.2473 - accuracy: 0.1325 - val_loss: 10438916939186176.0000 - val_accuracy: 0.0000e+00\n",
            "Epoch 4/100\n",
            "62/62 [==============================] - 0s 4ms/step - loss: 0.2472 - accuracy: 0.1614 - val_loss: 10438916939186176.0000 - val_accuracy: 0.0000e+00\n",
            "Epoch 5/100\n",
            "62/62 [==============================] - 0s 4ms/step - loss: 0.2471 - accuracy: 0.1908 - val_loss: 10438916939186176.0000 - val_accuracy: 0.0000e+00\n",
            "Epoch 6/100\n",
            "62/62 [==============================] - 0s 4ms/step - loss: 0.2471 - accuracy: 0.2000 - val_loss: 10438916939186176.0000 - val_accuracy: 0.0000e+00\n",
            "Epoch 7/100\n",
            "62/62 [==============================] - 0s 4ms/step - loss: 0.2471 - accuracy: 0.2174 - val_loss: 10438916939186176.0000 - val_accuracy: 0.0000e+00\n",
            "Epoch 8/100\n",
            "62/62 [==============================] - 0s 4ms/step - loss: 0.2471 - accuracy: 0.2119 - val_loss: 10438916939186176.0000 - val_accuracy: 0.0000e+00\n",
            "Epoch 9/100\n",
            "62/62 [==============================] - 0s 4ms/step - loss: 0.2471 - accuracy: 0.2047 - val_loss: 10438916939186176.0000 - val_accuracy: 0.0000e+00\n",
            "Epoch 10/100\n",
            "62/62 [==============================] - 0s 4ms/step - loss: 0.2471 - accuracy: 0.2009 - val_loss: 10438916939186176.0000 - val_accuracy: 0.0000e+00\n",
            "Epoch 11/100\n",
            "62/62 [==============================] - 0s 6ms/step - loss: 0.2471 - accuracy: 0.2034 - val_loss: 10438916939186176.0000 - val_accuracy: 0.0000e+00\n",
            "Epoch 12/100\n",
            "62/62 [==============================] - 0s 6ms/step - loss: 0.2471 - accuracy: 0.2015 - val_loss: 10438916939186176.0000 - val_accuracy: 0.0000e+00\n",
            "Epoch 13/100\n",
            "62/62 [==============================] - 0s 6ms/step - loss: 0.2470 - accuracy: 0.1900 - val_loss: 10438916939186176.0000 - val_accuracy: 0.0000e+00\n",
            "Epoch 14/100\n",
            "62/62 [==============================] - 0s 6ms/step - loss: 0.2470 - accuracy: 0.2011 - val_loss: 10438916939186176.0000 - val_accuracy: 0.0000e+00\n",
            "Epoch 15/100\n",
            "62/62 [==============================] - 0s 6ms/step - loss: 0.2470 - accuracy: 0.1991 - val_loss: 10438916939186176.0000 - val_accuracy: 0.0000e+00\n",
            "Epoch 16/100\n",
            "62/62 [==============================] - 0s 6ms/step - loss: 0.2470 - accuracy: 0.1991 - val_loss: 10438916939186176.0000 - val_accuracy: 0.0000e+00\n",
            "Epoch 17/100\n",
            "62/62 [==============================] - 0s 5ms/step - loss: 0.2470 - accuracy: 0.1958 - val_loss: 10438916939186176.0000 - val_accuracy: 0.0000e+00\n",
            "Epoch 18/100\n",
            "62/62 [==============================] - 0s 5ms/step - loss: 0.2470 - accuracy: 0.1937 - val_loss: 10438916939186176.0000 - val_accuracy: 0.0000e+00\n",
            "Epoch 19/100\n",
            "62/62 [==============================] - 0s 6ms/step - loss: 0.2470 - accuracy: 0.1941 - val_loss: 10438916939186176.0000 - val_accuracy: 0.0000e+00\n",
            "Epoch 20/100\n",
            "62/62 [==============================] - 0s 5ms/step - loss: 0.2470 - accuracy: 0.2180 - val_loss: 10438916939186176.0000 - val_accuracy: 0.0000e+00\n",
            "Epoch 21/100\n",
            "62/62 [==============================] - 0s 4ms/step - loss: 0.2470 - accuracy: 0.2314 - val_loss: 10438916939186176.0000 - val_accuracy: 0.0000e+00\n",
            "Epoch 22/100\n",
            "62/62 [==============================] - 0s 4ms/step - loss: 0.2470 - accuracy: 0.2310 - val_loss: 10438916939186176.0000 - val_accuracy: 0.0000e+00\n",
            "Epoch 23/100\n",
            "62/62 [==============================] - 0s 4ms/step - loss: 0.2470 - accuracy: 0.2378 - val_loss: 10438916939186176.0000 - val_accuracy: 0.0000e+00\n",
            "Epoch 24/100\n",
            "62/62 [==============================] - 0s 4ms/step - loss: 0.2470 - accuracy: 0.2400 - val_loss: 10438916939186176.0000 - val_accuracy: 0.0000e+00\n",
            "Epoch 25/100\n",
            "62/62 [==============================] - 0s 4ms/step - loss: 0.2470 - accuracy: 0.2428 - val_loss: 10438916939186176.0000 - val_accuracy: 0.0000e+00\n",
            "Epoch 26/100\n",
            "62/62 [==============================] - 0s 4ms/step - loss: 0.2470 - accuracy: 0.2427 - val_loss: 10438916939186176.0000 - val_accuracy: 0.0000e+00\n",
            "Epoch 27/100\n",
            "62/62 [==============================] - 0s 4ms/step - loss: 0.2470 - accuracy: 0.2429 - val_loss: 10438916939186176.0000 - val_accuracy: 0.0000e+00\n",
            "Epoch 28/100\n",
            "62/62 [==============================] - 0s 4ms/step - loss: 0.2470 - accuracy: 0.2476 - val_loss: 10438916939186176.0000 - val_accuracy: 0.0000e+00\n",
            "Epoch 29/100\n",
            "62/62 [==============================] - 0s 4ms/step - loss: 0.2470 - accuracy: 0.2435 - val_loss: 10438916939186176.0000 - val_accuracy: 0.0000e+00\n",
            "Epoch 30/100\n",
            "62/62 [==============================] - 0s 5ms/step - loss: 0.2470 - accuracy: 0.2486 - val_loss: 10438916939186176.0000 - val_accuracy: 0.0000e+00\n",
            "Epoch 31/100\n",
            "62/62 [==============================] - 0s 4ms/step - loss: 0.2470 - accuracy: 0.2382 - val_loss: 10438916939186176.0000 - val_accuracy: 0.0000e+00\n",
            "Epoch 32/100\n",
            "62/62 [==============================] - 0s 4ms/step - loss: 0.2470 - accuracy: 0.2482 - val_loss: 10438916939186176.0000 - val_accuracy: 0.0000e+00\n",
            "Epoch 33/100\n",
            "62/62 [==============================] - 0s 5ms/step - loss: 0.2470 - accuracy: 0.2462 - val_loss: 10438916939186176.0000 - val_accuracy: 0.0000e+00\n",
            "Epoch 34/100\n",
            "62/62 [==============================] - 0s 4ms/step - loss: 0.2470 - accuracy: 0.2467 - val_loss: 10438916939186176.0000 - val_accuracy: 0.0000e+00\n",
            "Epoch 35/100\n",
            "62/62 [==============================] - 0s 4ms/step - loss: 0.2470 - accuracy: 0.2461 - val_loss: 10438916939186176.0000 - val_accuracy: 0.0000e+00\n",
            "Epoch 36/100\n",
            "62/62 [==============================] - 0s 4ms/step - loss: 0.2470 - accuracy: 0.2441 - val_loss: 10438916939186176.0000 - val_accuracy: 0.0000e+00\n",
            "Epoch 37/100\n",
            "62/62 [==============================] - 0s 4ms/step - loss: 0.2470 - accuracy: 0.2494 - val_loss: 10438916939186176.0000 - val_accuracy: 0.0000e+00\n",
            "Epoch 38/100\n",
            "62/62 [==============================] - 0s 5ms/step - loss: 0.2470 - accuracy: 0.2470 - val_loss: 10438916939186176.0000 - val_accuracy: 0.0000e+00\n",
            "Epoch 39/100\n",
            "62/62 [==============================] - 0s 4ms/step - loss: 0.2470 - accuracy: 0.2454 - val_loss: 10438916939186176.0000 - val_accuracy: 0.0000e+00\n",
            "Epoch 40/100\n",
            "62/62 [==============================] - 0s 4ms/step - loss: 0.2470 - accuracy: 0.2489 - val_loss: 10438916939186176.0000 - val_accuracy: 0.0000e+00\n",
            "Epoch 41/100\n",
            "62/62 [==============================] - 0s 5ms/step - loss: 0.2470 - accuracy: 0.2461 - val_loss: 10438916939186176.0000 - val_accuracy: 0.0000e+00\n",
            "Epoch 42/100\n",
            "62/62 [==============================] - 0s 4ms/step - loss: 0.2470 - accuracy: 0.2502 - val_loss: 10438916939186176.0000 - val_accuracy: 0.0000e+00\n",
            "Epoch 43/100\n",
            "62/62 [==============================] - 0s 4ms/step - loss: 0.2470 - accuracy: 0.2460 - val_loss: 10438916939186176.0000 - val_accuracy: 0.0000e+00\n",
            "Epoch 44/100\n",
            "62/62 [==============================] - 0s 4ms/step - loss: 0.2470 - accuracy: 0.2404 - val_loss: 10438916939186176.0000 - val_accuracy: 0.0000e+00\n",
            "Epoch 45/100\n",
            "62/62 [==============================] - 0s 4ms/step - loss: 0.2470 - accuracy: 0.2452 - val_loss: 10438916939186176.0000 - val_accuracy: 0.0000e+00\n",
            "Epoch 46/100\n",
            "62/62 [==============================] - 0s 4ms/step - loss: 0.2470 - accuracy: 0.2457 - val_loss: 10438916939186176.0000 - val_accuracy: 0.0000e+00\n",
            "Epoch 47/100\n",
            "62/62 [==============================] - 1s 10ms/step - loss: 0.2470 - accuracy: 0.2403 - val_loss: 10438916939186176.0000 - val_accuracy: 0.0000e+00\n",
            "Epoch 48/100\n",
            "62/62 [==============================] - 0s 7ms/step - loss: 0.2470 - accuracy: 0.2411 - val_loss: 10438916939186176.0000 - val_accuracy: 0.0000e+00\n",
            "Epoch 49/100\n",
            "62/62 [==============================] - 0s 4ms/step - loss: 0.2470 - accuracy: 0.2435 - val_loss: 10438916939186176.0000 - val_accuracy: 0.0000e+00\n",
            "Epoch 50/100\n",
            "62/62 [==============================] - 1s 8ms/step - loss: 0.2470 - accuracy: 0.2356 - val_loss: 10438916939186176.0000 - val_accuracy: 0.0000e+00\n",
            "Epoch 51/100\n",
            "62/62 [==============================] - 0s 8ms/step - loss: 0.2470 - accuracy: 0.2332 - val_loss: 10438916939186176.0000 - val_accuracy: 0.0000e+00\n",
            "Epoch 52/100\n",
            "62/62 [==============================] - 0s 4ms/step - loss: 0.2470 - accuracy: 0.2335 - val_loss: 10438916939186176.0000 - val_accuracy: 0.0000e+00\n",
            "Epoch 53/100\n",
            "62/62 [==============================] - 0s 8ms/step - loss: 0.2470 - accuracy: 0.2360 - val_loss: 10438916939186176.0000 - val_accuracy: 0.0000e+00\n",
            "Epoch 54/100\n",
            "62/62 [==============================] - 1s 13ms/step - loss: 0.2470 - accuracy: 0.2326 - val_loss: 10438916939186176.0000 - val_accuracy: 0.0000e+00\n",
            "Epoch 55/100\n",
            "62/62 [==============================] - 0s 7ms/step - loss: 0.2470 - accuracy: 0.2281 - val_loss: 10438916939186176.0000 - val_accuracy: 0.0000e+00\n",
            "Epoch 56/100\n",
            "62/62 [==============================] - 0s 6ms/step - loss: 0.2470 - accuracy: 0.2272 - val_loss: 10438916939186176.0000 - val_accuracy: 0.0000e+00\n",
            "Epoch 57/100\n",
            "62/62 [==============================] - 0s 6ms/step - loss: 0.2470 - accuracy: 0.2313 - val_loss: 10438916939186176.0000 - val_accuracy: 0.0000e+00\n",
            "Epoch 58/100\n",
            "62/62 [==============================] - 0s 7ms/step - loss: 0.2470 - accuracy: 0.2308 - val_loss: 10438916939186176.0000 - val_accuracy: 0.0000e+00\n",
            "Epoch 59/100\n",
            "62/62 [==============================] - 0s 6ms/step - loss: 0.2470 - accuracy: 0.2273 - val_loss: 10438916939186176.0000 - val_accuracy: 0.0000e+00\n",
            "Epoch 60/100\n",
            "62/62 [==============================] - 0s 6ms/step - loss: 0.2470 - accuracy: 0.2269 - val_loss: 10438916939186176.0000 - val_accuracy: 0.0000e+00\n",
            "Epoch 61/100\n",
            "62/62 [==============================] - 0s 6ms/step - loss: 0.2470 - accuracy: 0.2284 - val_loss: 10438916939186176.0000 - val_accuracy: 0.0000e+00\n",
            "Epoch 62/100\n",
            "62/62 [==============================] - 0s 5ms/step - loss: 0.2470 - accuracy: 0.2328 - val_loss: 10438916939186176.0000 - val_accuracy: 0.0000e+00\n",
            "Epoch 63/100\n",
            "62/62 [==============================] - 0s 5ms/step - loss: 0.2470 - accuracy: 0.2323 - val_loss: 10438916939186176.0000 - val_accuracy: 0.0000e+00\n",
            "Epoch 64/100\n",
            "62/62 [==============================] - 0s 5ms/step - loss: 0.2470 - accuracy: 0.2308 - val_loss: 10438916939186176.0000 - val_accuracy: 0.0000e+00\n",
            "Epoch 65/100\n",
            "62/62 [==============================] - 0s 5ms/step - loss: 0.2470 - accuracy: 0.2291 - val_loss: 10438916939186176.0000 - val_accuracy: 0.0000e+00\n",
            "Epoch 66/100\n",
            "62/62 [==============================] - 0s 5ms/step - loss: 0.2470 - accuracy: 0.2307 - val_loss: 10438916939186176.0000 - val_accuracy: 0.0000e+00\n",
            "Epoch 67/100\n",
            "62/62 [==============================] - 0s 5ms/step - loss: 0.2470 - accuracy: 0.2309 - val_loss: 10438916939186176.0000 - val_accuracy: 0.0000e+00\n",
            "Epoch 68/100\n",
            "62/62 [==============================] - 0s 5ms/step - loss: 0.2470 - accuracy: 0.2328 - val_loss: 10438916939186176.0000 - val_accuracy: 0.0000e+00\n",
            "Epoch 69/100\n",
            "62/62 [==============================] - 0s 4ms/step - loss: 0.2470 - accuracy: 0.2371 - val_loss: 10438916939186176.0000 - val_accuracy: 0.0000e+00\n",
            "Epoch 70/100\n",
            "62/62 [==============================] - 0s 4ms/step - loss: 0.2470 - accuracy: 0.2339 - val_loss: 10438916939186176.0000 - val_accuracy: 0.0000e+00\n",
            "Epoch 71/100\n",
            "62/62 [==============================] - 0s 4ms/step - loss: 0.2470 - accuracy: 0.2429 - val_loss: 10438916939186176.0000 - val_accuracy: 0.0000e+00\n",
            "Epoch 72/100\n",
            "62/62 [==============================] - 0s 5ms/step - loss: 0.2470 - accuracy: 0.2392 - val_loss: 10438916939186176.0000 - val_accuracy: 0.0000e+00\n",
            "Epoch 73/100\n",
            "62/62 [==============================] - 0s 5ms/step - loss: 0.2470 - accuracy: 0.2427 - val_loss: 10438916939186176.0000 - val_accuracy: 0.0000e+00\n",
            "Epoch 74/100\n",
            "62/62 [==============================] - 0s 4ms/step - loss: 0.2470 - accuracy: 0.2442 - val_loss: 10438916939186176.0000 - val_accuracy: 0.0000e+00\n",
            "Epoch 75/100\n",
            "62/62 [==============================] - 0s 4ms/step - loss: 0.2470 - accuracy: 0.2414 - val_loss: 10438916939186176.0000 - val_accuracy: 0.0000e+00\n",
            "Epoch 76/100\n",
            "62/62 [==============================] - 0s 5ms/step - loss: 0.2470 - accuracy: 0.2475 - val_loss: 10438916939186176.0000 - val_accuracy: 0.0000e+00\n",
            "Epoch 77/100\n",
            "62/62 [==============================] - 0s 4ms/step - loss: 0.2470 - accuracy: 0.2440 - val_loss: 10438916939186176.0000 - val_accuracy: 0.0000e+00\n",
            "Epoch 78/100\n",
            "62/62 [==============================] - 0s 4ms/step - loss: 0.2470 - accuracy: 0.2478 - val_loss: 10438916939186176.0000 - val_accuracy: 0.0000e+00\n",
            "Epoch 79/100\n",
            "62/62 [==============================] - 0s 4ms/step - loss: 0.2470 - accuracy: 0.2482 - val_loss: 10438916939186176.0000 - val_accuracy: 0.0000e+00\n",
            "Epoch 80/100\n",
            "62/62 [==============================] - 0s 4ms/step - loss: 0.2470 - accuracy: 0.2464 - val_loss: 10438916939186176.0000 - val_accuracy: 0.0000e+00\n",
            "Epoch 81/100\n",
            "62/62 [==============================] - 0s 5ms/step - loss: 0.2470 - accuracy: 0.2491 - val_loss: 10438916939186176.0000 - val_accuracy: 0.0000e+00\n",
            "Epoch 82/100\n",
            "62/62 [==============================] - 0s 4ms/step - loss: 0.2470 - accuracy: 0.2465 - val_loss: 10438916939186176.0000 - val_accuracy: 0.0000e+00\n",
            "Epoch 83/100\n",
            "62/62 [==============================] - 0s 4ms/step - loss: 0.2470 - accuracy: 0.2525 - val_loss: 10438916939186176.0000 - val_accuracy: 0.0000e+00\n",
            "Epoch 84/100\n",
            "62/62 [==============================] - 0s 5ms/step - loss: 0.2470 - accuracy: 0.2481 - val_loss: 10438916939186176.0000 - val_accuracy: 0.0000e+00\n",
            "Epoch 85/100\n",
            "62/62 [==============================] - 0s 4ms/step - loss: 0.2470 - accuracy: 0.2501 - val_loss: 10438916939186176.0000 - val_accuracy: 0.0000e+00\n",
            "Epoch 86/100\n",
            "62/62 [==============================] - 0s 4ms/step - loss: 0.2470 - accuracy: 0.2484 - val_loss: 10438916939186176.0000 - val_accuracy: 0.0000e+00\n",
            "Epoch 87/100\n",
            "62/62 [==============================] - 0s 4ms/step - loss: 0.2470 - accuracy: 0.2539 - val_loss: 10438916939186176.0000 - val_accuracy: 0.0000e+00\n",
            "Epoch 88/100\n",
            "62/62 [==============================] - 0s 5ms/step - loss: 0.2470 - accuracy: 0.2526 - val_loss: 10438916939186176.0000 - val_accuracy: 0.0000e+00\n",
            "Epoch 89/100\n",
            "62/62 [==============================] - 0s 4ms/step - loss: 0.2470 - accuracy: 0.2474 - val_loss: 10438916939186176.0000 - val_accuracy: 0.0000e+00\n",
            "Epoch 90/100\n",
            "62/62 [==============================] - 0s 5ms/step - loss: 0.2470 - accuracy: 0.2551 - val_loss: 10438916939186176.0000 - val_accuracy: 0.0000e+00\n",
            "Epoch 91/100\n",
            "62/62 [==============================] - 0s 5ms/step - loss: 0.2470 - accuracy: 0.2550 - val_loss: 10438916939186176.0000 - val_accuracy: 0.0000e+00\n",
            "Epoch 92/100\n",
            "62/62 [==============================] - 0s 4ms/step - loss: 0.2470 - accuracy: 0.2499 - val_loss: 10438916939186176.0000 - val_accuracy: 0.0000e+00\n",
            "Epoch 93/100\n",
            "62/62 [==============================] - 0s 5ms/step - loss: 0.2470 - accuracy: 0.2531 - val_loss: 10438916939186176.0000 - val_accuracy: 0.0000e+00\n",
            "Epoch 94/100\n",
            "62/62 [==============================] - 0s 4ms/step - loss: 0.2470 - accuracy: 0.2518 - val_loss: 10438916939186176.0000 - val_accuracy: 0.0000e+00\n",
            "Epoch 95/100\n",
            "62/62 [==============================] - 0s 5ms/step - loss: 0.2470 - accuracy: 0.2543 - val_loss: 10438916939186176.0000 - val_accuracy: 0.0000e+00\n",
            "Epoch 96/100\n",
            "62/62 [==============================] - 0s 4ms/step - loss: 0.2470 - accuracy: 0.2530 - val_loss: 10438916939186176.0000 - val_accuracy: 0.0000e+00\n",
            "Epoch 97/100\n",
            "62/62 [==============================] - 0s 5ms/step - loss: 0.2470 - accuracy: 0.2605 - val_loss: 10438916939186176.0000 - val_accuracy: 0.0000e+00\n",
            "Epoch 98/100\n",
            "62/62 [==============================] - 0s 6ms/step - loss: 0.2470 - accuracy: 0.2530 - val_loss: 10438916939186176.0000 - val_accuracy: 0.0000e+00\n",
            "Epoch 99/100\n",
            "62/62 [==============================] - 0s 6ms/step - loss: 0.2470 - accuracy: 0.2607 - val_loss: 10438916939186176.0000 - val_accuracy: 0.0000e+00\n",
            "Epoch 100/100\n",
            "62/62 [==============================] - 0s 6ms/step - loss: 0.2470 - accuracy: 0.2557 - val_loss: 10438916939186176.0000 - val_accuracy: 0.0000e+00\n"
          ]
        }
      ],
      "source": [
        "if model_selection[model_flag]==\"ALL\" or model_selection[model_flag] == \"AE\":\n",
        "  # training the model on training dataset\n",
        "  history = autoencoder.fit(X_train, X_train, epochs=100,batch_size=500,validation_data=(X_test, X_test)).history"
      ]
    },
    {
      "cell_type": "code",
      "execution_count": 67,
      "metadata": {
        "id": "AdtR3-9xLliU",
        "colab": {
          "base_uri": "https://localhost:8080/"
        },
        "outputId": "e63837e5-9a55-4498-b005-0faf0dc111d8"
      },
      "outputs": [
        {
          "output_type": "stream",
          "name": "stdout",
          "text": [
            "Saved model to disk\n",
            "Loaded model from disk\n"
          ]
        }
      ],
      "source": [
        "if model_selection[model_flag]==\"ALL\" or model_selection[model_flag] == \"AE\":\n",
        "  filepath = '/content/drive/MyDrive/Colab_Notebooks/Models/ae_binary'+model_name_suffix+'.json'\n",
        "  weightspath = '/content/drive/MyDrive/Colab_Notebooks/Weights/ae_binary'+model_name_suffix+'.h5'\n",
        "  if (not path.isfile(filepath)): \n",
        "    # serialize model to JSON\n",
        "    autoencoder_json = autoencoder.to_json()\n",
        "    with open(filepath, \"w\") as json_file:\n",
        "      json_file.write(autoencoder_json)\n",
        "\n",
        "    # serialize weights to HDF5\n",
        "    autoencoder.save_weights(weightspath)\n",
        "    print(\"Saved model to disk\")\n",
        "\n",
        "    # load json and create model\n",
        "    json_file = open(filepath, 'r')\n",
        "    loaded_model_json = json_file.read()\n",
        "    json_file.close()\n",
        "    autoencoder = model_from_json(loaded_model_json)\n",
        "\n",
        "    # load weights into new model\n",
        "    autoencoder.load_weights(weightspath)\n",
        "    print(\"Loaded model from disk\")"
      ]
    },
    {
      "cell_type": "code",
      "execution_count": 68,
      "metadata": {
        "id": "Wqr6HVtMLwx9"
      },
      "outputs": [],
      "source": [
        "if model_selection[model_flag]==\"ALL\" or model_selection[model_flag] == \"AE\":\n",
        "  # defining loss function, optimizer, metrics and then compiling model\n",
        "  autoencoder.compile(optimizer='adam', loss='mean_squared_error',metrics=['accuracy'])"
      ]
    },
    {
      "cell_type": "code",
      "execution_count": 69,
      "metadata": {
        "id": "FQrjCk2hL09x",
        "colab": {
          "base_uri": "https://localhost:8080/"
        },
        "outputId": "3f1636a3-b00e-4901-9508-22b3dd7bfd6d"
      },
      "outputs": [
        {
          "output_type": "stream",
          "name": "stdout",
          "text": [
            "319/319 [==============================] - 1s 2ms/step - loss: 10438912644218880.0000 - accuracy: 0.0000e+00\n",
            "Test results - Loss: 1.043891264421888e+16 - Accuracy: 0.0%\n"
          ]
        }
      ],
      "source": [
        "if model_selection[model_flag]==\"ALL\" or model_selection[model_flag] == \"AE\":\n",
        "  # predicting target attribute on testing dataset\n",
        "  test_results = autoencoder.evaluate(X_test, X_test, verbose=1)\n",
        "  print(f'Test results - Loss: {test_results[0]} - Accuracy: {test_results[1]}%')"
      ]
    },
    {
      "cell_type": "code",
      "execution_count": 70,
      "metadata": {
        "id": "VqQsjSZcL1-B",
        "colab": {
          "base_uri": "https://localhost:8080/",
          "height": 472
        },
        "outputId": "198f7c33-8ae3-495e-fcda-30aaf822a955"
      },
      "outputs": [
        {
          "output_type": "display_data",
          "data": {
            "text/plain": [
              "<Figure size 640x480 with 1 Axes>"
            ],
            "image/png": "[encoded data removed]"
          },
          "metadata": {}
        }
      ],
      "source": [
        "if model_selection[model_flag]==\"ALL\" or model_selection[model_flag] == \"AE\":\n",
        "  # Plot of loss vs epoch of train and test dataset\n",
        "  plt.plot(history['loss'])\n",
        "  plt.plot(history['val_loss'])\n",
        "  plt.title(\"Plot of loss vs epoch for train and test dataset\")\n",
        "  plt.ylabel('loss')\n",
        "  plt.xlabel('epoch')\n",
        "  plt.legend(['train', 'test'], loc='upper right')\n",
        "  plt.savefig('/content/drive/MyDrive/Colab_Notebooks/Plots/ae_binary_loss.png')\n",
        "  plt.show()"
      ]
    },
    {
      "cell_type": "code",
      "execution_count": 71,
      "metadata": {
        "id": "fkjD9QXKL25Z",
        "colab": {
          "base_uri": "https://localhost:8080/",
          "height": 472
        },
        "outputId": "030d555a-e27d-4d3e-a9ce-2b8ba9adc2d2"
      },
      "outputs": [
        {
          "output_type": "display_data",
          "data": {
            "text/plain": [
              "<Figure size 640x480 with 1 Axes>"
            ],
            "image/png": "[encoded data removed]"
          },
          "metadata": {}
        }
      ],
      "source": [
        "if model_selection[model_flag]==\"ALL\" or model_selection[model_flag] == \"AE\":\n",
        "  # Plot of accuracy vs epoch of train and test dataset\n",
        "  plt.plot(history['accuracy'])\n",
        "  plt.plot(history['val_accuracy'])\n",
        "  plt.title(\"Plot of accuracy vs epoch for train and test dataset\")\n",
        "  plt.ylabel('accuracy')\n",
        "  plt.xlabel('epoch')\n",
        "  plt.legend(['train', 'test'], loc='best')\n",
        "  plt.savefig('/content/drive/MyDrive/Colab_Notebooks/Plots/ae_binary_accuracy.png')\n",
        "  plt.show()"
      ]
    },
    {
      "cell_type": "code",
      "execution_count": 72,
      "metadata": {
        "id": "lf9q83sBMGPD"
      },
      "outputs": [],
      "source": [
        "if model_selection[model_flag]==\"ALL\" or model_selection[model_flag] == \"AE\":\n",
        "  # representation of model layers\n",
        "  plot_model(autoencoder, to_file='/content/drive/MyDrive/Colab_Notebooks/Plots/ae_binary.png', show_shapes=True,)"
      ]
    },
    {
      "cell_type": "code",
      "execution_count": 73,
      "metadata": {
        "id": "SFIXKGwuMLFo",
        "colab": {
          "base_uri": "https://localhost:8080/"
        },
        "outputId": "0868aac6-51e7-4b95-81c4-873b1e0f672a"
      },
      "outputs": [
        {
          "output_type": "stream",
          "name": "stdout",
          "text": [
            "319/319 [==============================] - 1s 2ms/step\n"
          ]
        }
      ],
      "source": [
        "if model_selection[model_flag]==\"ALL\" or model_selection[model_flag] == \"AE\":\n",
        "  # calculating reconstruction error \n",
        "  predictions = autoencoder.predict(X_test)"
      ]
    },
    {
      "cell_type": "code",
      "execution_count": 74,
      "metadata": {
        "id": "cqKJCyZnMMEG"
      },
      "outputs": [],
      "source": [
        "if model_selection[model_flag]==\"ALL\" or model_selection[model_flag] == \"AE\":\n",
        "  mse = np.mean(np.power(X_test - predictions, 2), axis=1)\n",
        "  error_df = pd.DataFrame({'reconstruction_error': mse,\n",
        "                           'true_class': y_test})"
      ]
    },
    {
      "cell_type": "code",
      "execution_count": 75,
      "metadata": {
        "id": "EdQJudbDMhmB",
        "colab": {
          "base_uri": "https://localhost:8080/"
        },
        "outputId": "17ce71a3-7419-4e10-8483-d1f14414d1a9"
      },
      "outputs": [
        {
          "output_type": "stream",
          "name": "stdout",
          "text": [
            "(10194, 116)\n"
          ]
        }
      ],
      "source": [
        "if model_selection[model_flag]==\"ALL\" or model_selection[model_flag] == \"AE\":\n",
        "  error_df.describe()\n",
        "  print(predictions.shape)"
      ]
    },
    {
      "cell_type": "markdown",
      "metadata": {
        "id": "PHsaAAMmNQrs"
      },
      "source": [
        "## **AE Classifier**"
      ]
    },
    {
      "cell_type": "code",
      "execution_count": 76,
      "metadata": {
        "id": "1hK07LDBMoZg"
      },
      "outputs": [],
      "source": [
        "if model_selection[model_flag]==\"ALL\" or model_selection[model_flag] == \"AE\":\n",
        "  i_dim = predictions.shape[1]\n",
        "\n",
        "  #input layer\n",
        "  i_layer = Input(shape=(i_dim, ))\n",
        "  #hidden layer with 50 neurons\n",
        "  fvector = Dense(50, activation=\"sigmoid\")(i_layer)                    \n",
        "  #doutput layer\n",
        "  o_layer = Dense(1, activation='sigmoid')(fvector)"
      ]
    },
    {
      "cell_type": "code",
      "execution_count": 77,
      "metadata": {
        "id": "Efq77rVINXWE"
      },
      "outputs": [],
      "source": [
        "if model_selection[model_flag]==\"ALL\" or model_selection[model_flag] == \"AE\":\n",
        "  # creating model with input, encoding, decoding, output layers\n",
        "  ae_classifier = Model(inputs=i_layer, outputs=o_layer)\n",
        "\n",
        "  # defining loss function, optimizer, metrics and then compiling model\n",
        "  ae_classifier.compile(optimizer='adam', loss='binary_crossentropy',metrics=['accuracy'])"
      ]
    },
    {
      "cell_type": "code",
      "execution_count": 78,
      "metadata": {
        "id": "0Yl594VGNX1W",
        "colab": {
          "base_uri": "https://localhost:8080/"
        },
        "outputId": "6f166bc1-a06c-4064-9cc3-f424a49ab29b"
      },
      "outputs": [
        {
          "output_type": "stream",
          "name": "stdout",
          "text": [
            "Model: \"model_1\"\n",
            "_________________________________________________________________\n",
            " Layer (type)                Output Shape              Param #   \n",
            "=================================================================\n",
            " input_2 (InputLayer)        [(None, 116)]             0         \n",
            "                                                                 \n",
            " dense_5 (Dense)             (None, 50)                5850      \n",
            "                                                                 \n",
            " dense_6 (Dense)             (None, 1)                 51        \n",
            "                                                                 \n",
            "=================================================================\n",
            "Total params: 5,901\n",
            "Trainable params: 5,901\n",
            "Non-trainable params: 0\n",
            "_________________________________________________________________\n"
          ]
        }
      ],
      "source": [
        "if model_selection[model_flag]==\"ALL\" or model_selection[model_flag] == \"AE\":\n",
        "  # summary of model layers\n",
        "  ae_classifier.summary()"
      ]
    },
    {
      "cell_type": "code",
      "execution_count": 79,
      "metadata": {
        "id": "23n8Qt0uNX8Z",
        "colab": {
          "base_uri": "https://localhost:8080/"
        },
        "outputId": "386a7afd-03e0-4949-b058-2e8f4a4195d7"
      },
      "outputs": [
        {
          "output_type": "stream",
          "name": "stdout",
          "text": [
            "Epoch 1/300\n",
            "17/17 [==============================] - 2s 14ms/step - loss: 0.6477 - accuracy: 0.6486 - val_loss: 0.6410 - val_accuracy: 0.6371\n",
            "Epoch 2/300\n",
            "17/17 [==============================] - 0s 5ms/step - loss: 0.6284 - accuracy: 0.6486 - val_loss: 0.6295 - val_accuracy: 0.6371\n",
            "Epoch 3/300\n",
            "17/17 [==============================] - 0s 5ms/step - loss: 0.6156 - accuracy: 0.6486 - val_loss: 0.6159 - val_accuracy: 0.6371\n",
            "Epoch 4/300\n",
            "17/17 [==============================] - 0s 7ms/step - loss: 0.6027 - accuracy: 0.6486 - val_loss: 0.6032 - val_accuracy: 0.6371\n",
            "Epoch 5/300\n",
            "17/17 [==============================] - 0s 5ms/step - loss: 0.5895 - accuracy: 0.6486 - val_loss: 0.5896 - val_accuracy: 0.6371\n",
            "Epoch 6/300\n",
            "17/17 [==============================] - 0s 6ms/step - loss: 0.5755 - accuracy: 0.6486 - val_loss: 0.5753 - val_accuracy: 0.6371\n",
            "Epoch 7/300\n",
            "17/17 [==============================] - 0s 5ms/step - loss: 0.5607 - accuracy: 0.6486 - val_loss: 0.5602 - val_accuracy: 0.6371\n",
            "Epoch 8/300\n",
            "17/17 [==============================] - 0s 6ms/step - loss: 0.5448 - accuracy: 0.6486 - val_loss: 0.5441 - val_accuracy: 0.6371\n",
            "Epoch 9/300\n",
            "17/17 [==============================] - 0s 5ms/step - loss: 0.5278 - accuracy: 0.6486 - val_loss: 0.5263 - val_accuracy: 0.6371\n",
            "Epoch 10/300\n",
            "17/17 [==============================] - 0s 6ms/step - loss: 0.5098 - accuracy: 0.6486 - val_loss: 0.5080 - val_accuracy: 0.6371\n",
            "Epoch 11/300\n",
            "17/17 [==============================] - 0s 6ms/step - loss: 0.4908 - accuracy: 0.6486 - val_loss: 0.4887 - val_accuracy: 0.6371\n",
            "Epoch 12/300\n",
            "17/17 [==============================] - 0s 5ms/step - loss: 0.4710 - accuracy: 0.6486 - val_loss: 0.4686 - val_accuracy: 0.6371\n",
            "Epoch 13/300\n",
            "17/17 [==============================] - 0s 5ms/step - loss: 0.4506 - accuracy: 0.6538 - val_loss: 0.4484 - val_accuracy: 0.8720\n",
            "Epoch 14/300\n",
            "17/17 [==============================] - 0s 6ms/step - loss: 0.4299 - accuracy: 0.9549 - val_loss: 0.4275 - val_accuracy: 0.9539\n",
            "Epoch 15/300\n",
            "17/17 [==============================] - 0s 7ms/step - loss: 0.4091 - accuracy: 0.9510 - val_loss: 0.4070 - val_accuracy: 0.9490\n",
            "Epoch 16/300\n",
            "17/17 [==============================] - 0s 6ms/step - loss: 0.3885 - accuracy: 0.9479 - val_loss: 0.3867 - val_accuracy: 0.9397\n",
            "Epoch 17/300\n",
            "17/17 [==============================] - 0s 5ms/step - loss: 0.3685 - accuracy: 0.9436 - val_loss: 0.3672 - val_accuracy: 0.9382\n",
            "Epoch 18/300\n",
            "17/17 [==============================] - 0s 6ms/step - loss: 0.3492 - accuracy: 0.9421 - val_loss: 0.3483 - val_accuracy: 0.9353\n",
            "Epoch 19/300\n",
            "17/17 [==============================] - 0s 6ms/step - loss: 0.3309 - accuracy: 0.9408 - val_loss: 0.3305 - val_accuracy: 0.9343\n",
            "Epoch 20/300\n",
            "17/17 [==============================] - 0s 5ms/step - loss: 0.3135 - accuracy: 0.9393 - val_loss: 0.3137 - val_accuracy: 0.9323\n",
            "Epoch 21/300\n",
            "17/17 [==============================] - 0s 5ms/step - loss: 0.2974 - accuracy: 0.9383 - val_loss: 0.2980 - val_accuracy: 0.9323\n",
            "Epoch 22/300\n",
            "17/17 [==============================] - 0s 6ms/step - loss: 0.2824 - accuracy: 0.9399 - val_loss: 0.2837 - val_accuracy: 0.9338\n",
            "Epoch 23/300\n",
            "17/17 [==============================] - 0s 6ms/step - loss: 0.2685 - accuracy: 0.9394 - val_loss: 0.2703 - val_accuracy: 0.9323\n",
            "Epoch 24/300\n",
            "17/17 [==============================] - 0s 5ms/step - loss: 0.2559 - accuracy: 0.9388 - val_loss: 0.2579 - val_accuracy: 0.9338\n",
            "Epoch 25/300\n",
            "17/17 [==============================] - 0s 5ms/step - loss: 0.2442 - accuracy: 0.9406 - val_loss: 0.2466 - val_accuracy: 0.9338\n",
            "Epoch 26/300\n",
            "17/17 [==============================] - 0s 5ms/step - loss: 0.2335 - accuracy: 0.9409 - val_loss: 0.2362 - val_accuracy: 0.9338\n",
            "Epoch 27/300\n",
            "17/17 [==============================] - 0s 6ms/step - loss: 0.2236 - accuracy: 0.9409 - val_loss: 0.2266 - val_accuracy: 0.9338\n",
            "Epoch 28/300\n",
            "17/17 [==============================] - 0s 8ms/step - loss: 0.2146 - accuracy: 0.9418 - val_loss: 0.2177 - val_accuracy: 0.9362\n",
            "Epoch 29/300\n",
            "17/17 [==============================] - 0s 6ms/step - loss: 0.2063 - accuracy: 0.9421 - val_loss: 0.2095 - val_accuracy: 0.9367\n",
            "Epoch 30/300\n",
            "17/17 [==============================] - 0s 5ms/step - loss: 0.1986 - accuracy: 0.9441 - val_loss: 0.2018 - val_accuracy: 0.9372\n",
            "Epoch 31/300\n",
            "17/17 [==============================] - 0s 6ms/step - loss: 0.1915 - accuracy: 0.9440 - val_loss: 0.1948 - val_accuracy: 0.9372\n",
            "Epoch 32/300\n",
            "17/17 [==============================] - 0s 6ms/step - loss: 0.1849 - accuracy: 0.9448 - val_loss: 0.1881 - val_accuracy: 0.9407\n",
            "Epoch 33/300\n",
            "17/17 [==============================] - 0s 6ms/step - loss: 0.1787 - accuracy: 0.9454 - val_loss: 0.1819 - val_accuracy: 0.9426\n",
            "Epoch 34/300\n",
            "17/17 [==============================] - 0s 5ms/step - loss: 0.1729 - accuracy: 0.9457 - val_loss: 0.1761 - val_accuracy: 0.9436\n",
            "Epoch 35/300\n",
            "17/17 [==============================] - 0s 6ms/step - loss: 0.1676 - accuracy: 0.9459 - val_loss: 0.1705 - val_accuracy: 0.9456\n",
            "Epoch 36/300\n",
            "17/17 [==============================] - 0s 6ms/step - loss: 0.1625 - accuracy: 0.9473 - val_loss: 0.1653 - val_accuracy: 0.9461\n",
            "Epoch 37/300\n",
            "17/17 [==============================] - 0s 6ms/step - loss: 0.1577 - accuracy: 0.9485 - val_loss: 0.1604 - val_accuracy: 0.9480\n",
            "Epoch 38/300\n",
            "17/17 [==============================] - 0s 5ms/step - loss: 0.1532 - accuracy: 0.9496 - val_loss: 0.1558 - val_accuracy: 0.9485\n",
            "Epoch 39/300\n",
            "17/17 [==============================] - 0s 6ms/step - loss: 0.1489 - accuracy: 0.9505 - val_loss: 0.1513 - val_accuracy: 0.9510\n",
            "Epoch 40/300\n",
            "17/17 [==============================] - 0s 6ms/step - loss: 0.1448 - accuracy: 0.9519 - val_loss: 0.1471 - val_accuracy: 0.9510\n",
            "Epoch 41/300\n",
            "17/17 [==============================] - 0s 6ms/step - loss: 0.1409 - accuracy: 0.9521 - val_loss: 0.1431 - val_accuracy: 0.9514\n",
            "Epoch 42/300\n",
            "17/17 [==============================] - 0s 5ms/step - loss: 0.1372 - accuracy: 0.9530 - val_loss: 0.1393 - val_accuracy: 0.9534\n",
            "Epoch 43/300\n",
            "17/17 [==============================] - 0s 6ms/step - loss: 0.1337 - accuracy: 0.9539 - val_loss: 0.1356 - val_accuracy: 0.9549\n",
            "Epoch 44/300\n",
            "17/17 [==============================] - 0s 5ms/step - loss: 0.1303 - accuracy: 0.9550 - val_loss: 0.1320 - val_accuracy: 0.9568\n",
            "Epoch 45/300\n",
            "17/17 [==============================] - 0s 6ms/step - loss: 0.1271 - accuracy: 0.9559 - val_loss: 0.1287 - val_accuracy: 0.9588\n",
            "Epoch 46/300\n",
            "17/17 [==============================] - 0s 5ms/step - loss: 0.1240 - accuracy: 0.9565 - val_loss: 0.1254 - val_accuracy: 0.9608\n",
            "Epoch 47/300\n",
            "17/17 [==============================] - 0s 6ms/step - loss: 0.1212 - accuracy: 0.9578 - val_loss: 0.1223 - val_accuracy: 0.9617\n",
            "Epoch 48/300\n",
            "17/17 [==============================] - 0s 7ms/step - loss: 0.1182 - accuracy: 0.9581 - val_loss: 0.1193 - val_accuracy: 0.9617\n",
            "Epoch 49/300\n",
            "17/17 [==============================] - 0s 6ms/step - loss: 0.1155 - accuracy: 0.9599 - val_loss: 0.1164 - val_accuracy: 0.9637\n",
            "Epoch 50/300\n",
            "17/17 [==============================] - 0s 6ms/step - loss: 0.1128 - accuracy: 0.9604 - val_loss: 0.1137 - val_accuracy: 0.9637\n",
            "Epoch 51/300\n",
            "17/17 [==============================] - 0s 6ms/step - loss: 0.1103 - accuracy: 0.9617 - val_loss: 0.1110 - val_accuracy: 0.9662\n",
            "Epoch 52/300\n",
            "17/17 [==============================] - 0s 6ms/step - loss: 0.1078 - accuracy: 0.9628 - val_loss: 0.1084 - val_accuracy: 0.9662\n",
            "Epoch 53/300\n",
            "17/17 [==============================] - 0s 7ms/step - loss: 0.1055 - accuracy: 0.9635 - val_loss: 0.1059 - val_accuracy: 0.9662\n",
            "Epoch 54/300\n",
            "17/17 [==============================] - 0s 6ms/step - loss: 0.1032 - accuracy: 0.9649 - val_loss: 0.1034 - val_accuracy: 0.9676\n",
            "Epoch 55/300\n",
            "17/17 [==============================] - 0s 5ms/step - loss: 0.1010 - accuracy: 0.9652 - val_loss: 0.1011 - val_accuracy: 0.9676\n",
            "Epoch 56/300\n",
            "17/17 [==============================] - 0s 6ms/step - loss: 0.0988 - accuracy: 0.9668 - val_loss: 0.0988 - val_accuracy: 0.9691\n",
            "Epoch 57/300\n",
            "17/17 [==============================] - 0s 6ms/step - loss: 0.0968 - accuracy: 0.9684 - val_loss: 0.0967 - val_accuracy: 0.9706\n",
            "Epoch 58/300\n",
            "17/17 [==============================] - 0s 6ms/step - loss: 0.0948 - accuracy: 0.9704 - val_loss: 0.0946 - val_accuracy: 0.9711\n",
            "Epoch 59/300\n",
            "17/17 [==============================] - 0s 6ms/step - loss: 0.0929 - accuracy: 0.9698 - val_loss: 0.0925 - val_accuracy: 0.9711\n",
            "Epoch 60/300\n",
            "17/17 [==============================] - 0s 6ms/step - loss: 0.0911 - accuracy: 0.9713 - val_loss: 0.0906 - val_accuracy: 0.9725\n",
            "Epoch 61/300\n",
            "17/17 [==============================] - 0s 6ms/step - loss: 0.0892 - accuracy: 0.9725 - val_loss: 0.0886 - val_accuracy: 0.9725\n",
            "Epoch 62/300\n",
            "17/17 [==============================] - 0s 5ms/step - loss: 0.0875 - accuracy: 0.9741 - val_loss: 0.0868 - val_accuracy: 0.9740\n",
            "Epoch 63/300\n",
            "17/17 [==============================] - 0s 6ms/step - loss: 0.0858 - accuracy: 0.9763 - val_loss: 0.0851 - val_accuracy: 0.9745\n",
            "Epoch 64/300\n",
            "17/17 [==============================] - 0s 5ms/step - loss: 0.0842 - accuracy: 0.9778 - val_loss: 0.0834 - val_accuracy: 0.9765\n",
            "Epoch 65/300\n",
            "17/17 [==============================] - 0s 5ms/step - loss: 0.0826 - accuracy: 0.9794 - val_loss: 0.0817 - val_accuracy: 0.9789\n",
            "Epoch 66/300\n",
            "17/17 [==============================] - 0s 5ms/step - loss: 0.0811 - accuracy: 0.9812 - val_loss: 0.0801 - val_accuracy: 0.9799\n",
            "Epoch 67/300\n",
            "17/17 [==============================] - 0s 6ms/step - loss: 0.0796 - accuracy: 0.9819 - val_loss: 0.0785 - val_accuracy: 0.9819\n",
            "Epoch 68/300\n",
            "17/17 [==============================] - 0s 6ms/step - loss: 0.0782 - accuracy: 0.9839 - val_loss: 0.0770 - val_accuracy: 0.9853\n",
            "Epoch 69/300\n",
            "17/17 [==============================] - 0s 5ms/step - loss: 0.0768 - accuracy: 0.9844 - val_loss: 0.0756 - val_accuracy: 0.9853\n",
            "Epoch 70/300\n",
            "17/17 [==============================] - 0s 5ms/step - loss: 0.0755 - accuracy: 0.9849 - val_loss: 0.0742 - val_accuracy: 0.9872\n",
            "Epoch 71/300\n",
            "17/17 [==============================] - 0s 5ms/step - loss: 0.0742 - accuracy: 0.9853 - val_loss: 0.0728 - val_accuracy: 0.9872\n",
            "Epoch 72/300\n",
            "17/17 [==============================] - 0s 6ms/step - loss: 0.0730 - accuracy: 0.9855 - val_loss: 0.0715 - val_accuracy: 0.9872\n",
            "Epoch 73/300\n",
            "17/17 [==============================] - 0s 6ms/step - loss: 0.0718 - accuracy: 0.9855 - val_loss: 0.0702 - val_accuracy: 0.9872\n",
            "Epoch 74/300\n",
            "17/17 [==============================] - 0s 6ms/step - loss: 0.0706 - accuracy: 0.9855 - val_loss: 0.0690 - val_accuracy: 0.9872\n",
            "Epoch 75/300\n",
            "17/17 [==============================] - 0s 5ms/step - loss: 0.0695 - accuracy: 0.9857 - val_loss: 0.0678 - val_accuracy: 0.9872\n",
            "Epoch 76/300\n",
            "17/17 [==============================] - 0s 6ms/step - loss: 0.0684 - accuracy: 0.9858 - val_loss: 0.0667 - val_accuracy: 0.9877\n",
            "Epoch 77/300\n",
            "17/17 [==============================] - 0s 5ms/step - loss: 0.0674 - accuracy: 0.9858 - val_loss: 0.0656 - val_accuracy: 0.9882\n",
            "Epoch 78/300\n",
            "17/17 [==============================] - 0s 6ms/step - loss: 0.0663 - accuracy: 0.9858 - val_loss: 0.0645 - val_accuracy: 0.9882\n",
            "Epoch 79/300\n",
            "17/17 [==============================] - 0s 6ms/step - loss: 0.0653 - accuracy: 0.9858 - val_loss: 0.0635 - val_accuracy: 0.9882\n",
            "Epoch 80/300\n",
            "17/17 [==============================] - 0s 5ms/step - loss: 0.0644 - accuracy: 0.9860 - val_loss: 0.0625 - val_accuracy: 0.9882\n",
            "Epoch 81/300\n",
            "17/17 [==============================] - 0s 6ms/step - loss: 0.0635 - accuracy: 0.9861 - val_loss: 0.0615 - val_accuracy: 0.9882\n",
            "Epoch 82/300\n",
            "17/17 [==============================] - 0s 6ms/step - loss: 0.0626 - accuracy: 0.9860 - val_loss: 0.0605 - val_accuracy: 0.9882\n",
            "Epoch 83/300\n",
            "17/17 [==============================] - 0s 7ms/step - loss: 0.0617 - accuracy: 0.9863 - val_loss: 0.0596 - val_accuracy: 0.9882\n",
            "Epoch 84/300\n",
            "17/17 [==============================] - 0s 6ms/step - loss: 0.0609 - accuracy: 0.9865 - val_loss: 0.0588 - val_accuracy: 0.9882\n",
            "Epoch 85/300\n",
            "17/17 [==============================] - 0s 6ms/step - loss: 0.0601 - accuracy: 0.9865 - val_loss: 0.0579 - val_accuracy: 0.9882\n",
            "Epoch 86/300\n",
            "17/17 [==============================] - 0s 6ms/step - loss: 0.0593 - accuracy: 0.9866 - val_loss: 0.0571 - val_accuracy: 0.9882\n",
            "Epoch 87/300\n",
            "17/17 [==============================] - 0s 6ms/step - loss: 0.0586 - accuracy: 0.9866 - val_loss: 0.0563 - val_accuracy: 0.9882\n",
            "Epoch 88/300\n",
            "17/17 [==============================] - 0s 5ms/step - loss: 0.0579 - accuracy: 0.9866 - val_loss: 0.0556 - val_accuracy: 0.9887\n",
            "Epoch 89/300\n",
            "17/17 [==============================] - 0s 6ms/step - loss: 0.0571 - accuracy: 0.9866 - val_loss: 0.0548 - val_accuracy: 0.9887\n",
            "Epoch 90/300\n",
            "17/17 [==============================] - 0s 5ms/step - loss: 0.0565 - accuracy: 0.9868 - val_loss: 0.0542 - val_accuracy: 0.9887\n",
            "Epoch 91/300\n",
            "17/17 [==============================] - 0s 5ms/step - loss: 0.0559 - accuracy: 0.9868 - val_loss: 0.0534 - val_accuracy: 0.9887\n",
            "Epoch 92/300\n",
            "17/17 [==============================] - 0s 5ms/step - loss: 0.0552 - accuracy: 0.9868 - val_loss: 0.0528 - val_accuracy: 0.9887\n",
            "Epoch 93/300\n",
            "17/17 [==============================] - 0s 6ms/step - loss: 0.0546 - accuracy: 0.9868 - val_loss: 0.0521 - val_accuracy: 0.9887\n",
            "Epoch 94/300\n",
            "17/17 [==============================] - 0s 6ms/step - loss: 0.0540 - accuracy: 0.9868 - val_loss: 0.0515 - val_accuracy: 0.9887\n",
            "Epoch 95/300\n",
            "17/17 [==============================] - 0s 9ms/step - loss: 0.0534 - accuracy: 0.9866 - val_loss: 0.0509 - val_accuracy: 0.9887\n",
            "Epoch 96/300\n",
            "17/17 [==============================] - 0s 8ms/step - loss: 0.0529 - accuracy: 0.9868 - val_loss: 0.0503 - val_accuracy: 0.9887\n",
            "Epoch 97/300\n",
            "17/17 [==============================] - 0s 8ms/step - loss: 0.0523 - accuracy: 0.9868 - val_loss: 0.0498 - val_accuracy: 0.9887\n",
            "Epoch 98/300\n",
            "17/17 [==============================] - 0s 8ms/step - loss: 0.0518 - accuracy: 0.9866 - val_loss: 0.0492 - val_accuracy: 0.9892\n",
            "Epoch 99/300\n",
            "17/17 [==============================] - 0s 8ms/step - loss: 0.0513 - accuracy: 0.9866 - val_loss: 0.0487 - val_accuracy: 0.9887\n",
            "Epoch 100/300\n",
            "17/17 [==============================] - 0s 7ms/step - loss: 0.0508 - accuracy: 0.9866 - val_loss: 0.0482 - val_accuracy: 0.9887\n",
            "Epoch 101/300\n",
            "17/17 [==============================] - 0s 8ms/step - loss: 0.0504 - accuracy: 0.9868 - val_loss: 0.0477 - val_accuracy: 0.9887\n",
            "Epoch 102/300\n",
            "17/17 [==============================] - 0s 7ms/step - loss: 0.0499 - accuracy: 0.9868 - val_loss: 0.0472 - val_accuracy: 0.9887\n",
            "Epoch 103/300\n",
            "17/17 [==============================] - 0s 7ms/step - loss: 0.0495 - accuracy: 0.9868 - val_loss: 0.0467 - val_accuracy: 0.9887\n",
            "Epoch 104/300\n",
            "17/17 [==============================] - 0s 8ms/step - loss: 0.0491 - accuracy: 0.9869 - val_loss: 0.0463 - val_accuracy: 0.9887\n",
            "Epoch 105/300\n",
            "17/17 [==============================] - 0s 7ms/step - loss: 0.0486 - accuracy: 0.9869 - val_loss: 0.0458 - val_accuracy: 0.9887\n",
            "Epoch 106/300\n",
            "17/17 [==============================] - 0s 7ms/step - loss: 0.0482 - accuracy: 0.9869 - val_loss: 0.0454 - val_accuracy: 0.9887\n",
            "Epoch 107/300\n",
            "17/17 [==============================] - 0s 8ms/step - loss: 0.0479 - accuracy: 0.9869 - val_loss: 0.0450 - val_accuracy: 0.9887\n",
            "Epoch 108/300\n",
            "17/17 [==============================] - 0s 7ms/step - loss: 0.0475 - accuracy: 0.9869 - val_loss: 0.0446 - val_accuracy: 0.9887\n",
            "Epoch 109/300\n",
            "17/17 [==============================] - 0s 12ms/step - loss: 0.0471 - accuracy: 0.9869 - val_loss: 0.0442 - val_accuracy: 0.9887\n",
            "Epoch 110/300\n",
            "17/17 [==============================] - 0s 7ms/step - loss: 0.0467 - accuracy: 0.9869 - val_loss: 0.0438 - val_accuracy: 0.9887\n",
            "Epoch 111/300\n",
            "17/17 [==============================] - 0s 8ms/step - loss: 0.0464 - accuracy: 0.9869 - val_loss: 0.0435 - val_accuracy: 0.9887\n",
            "Epoch 112/300\n",
            "17/17 [==============================] - 0s 9ms/step - loss: 0.0461 - accuracy: 0.9868 - val_loss: 0.0430 - val_accuracy: 0.9887\n",
            "Epoch 113/300\n",
            "17/17 [==============================] - 0s 11ms/step - loss: 0.0457 - accuracy: 0.9870 - val_loss: 0.0428 - val_accuracy: 0.9887\n",
            "Epoch 114/300\n",
            "17/17 [==============================] - 0s 8ms/step - loss: 0.0454 - accuracy: 0.9868 - val_loss: 0.0425 - val_accuracy: 0.9887\n",
            "Epoch 115/300\n",
            "17/17 [==============================] - 0s 8ms/step - loss: 0.0451 - accuracy: 0.9869 - val_loss: 0.0421 - val_accuracy: 0.9887\n",
            "Epoch 116/300\n",
            "17/17 [==============================] - 0s 9ms/step - loss: 0.0449 - accuracy: 0.9868 - val_loss: 0.0418 - val_accuracy: 0.9887\n",
            "Epoch 117/300\n",
            "17/17 [==============================] - 0s 8ms/step - loss: 0.0446 - accuracy: 0.9869 - val_loss: 0.0415 - val_accuracy: 0.9882\n",
            "Epoch 118/300\n",
            "17/17 [==============================] - 0s 8ms/step - loss: 0.0443 - accuracy: 0.9869 - val_loss: 0.0412 - val_accuracy: 0.9882\n",
            "Epoch 119/300\n",
            "17/17 [==============================] - 0s 7ms/step - loss: 0.0440 - accuracy: 0.9869 - val_loss: 0.0409 - val_accuracy: 0.9882\n",
            "Epoch 120/300\n",
            "17/17 [==============================] - 0s 8ms/step - loss: 0.0437 - accuracy: 0.9869 - val_loss: 0.0406 - val_accuracy: 0.9882\n",
            "Epoch 121/300\n",
            "17/17 [==============================] - 0s 8ms/step - loss: 0.0435 - accuracy: 0.9869 - val_loss: 0.0404 - val_accuracy: 0.9887\n",
            "Epoch 122/300\n",
            "17/17 [==============================] - 0s 6ms/step - loss: 0.0432 - accuracy: 0.9868 - val_loss: 0.0402 - val_accuracy: 0.9892\n",
            "Epoch 123/300\n",
            "17/17 [==============================] - 0s 6ms/step - loss: 0.0430 - accuracy: 0.9868 - val_loss: 0.0398 - val_accuracy: 0.9887\n",
            "Epoch 124/300\n",
            "17/17 [==============================] - 0s 7ms/step - loss: 0.0428 - accuracy: 0.9868 - val_loss: 0.0396 - val_accuracy: 0.9892\n",
            "Epoch 125/300\n",
            "17/17 [==============================] - 0s 5ms/step - loss: 0.0425 - accuracy: 0.9869 - val_loss: 0.0393 - val_accuracy: 0.9892\n",
            "Epoch 126/300\n",
            "17/17 [==============================] - 0s 5ms/step - loss: 0.0423 - accuracy: 0.9866 - val_loss: 0.0391 - val_accuracy: 0.9887\n",
            "Epoch 127/300\n",
            "17/17 [==============================] - 0s 5ms/step - loss: 0.0421 - accuracy: 0.9866 - val_loss: 0.0389 - val_accuracy: 0.9887\n",
            "Epoch 128/300\n",
            "17/17 [==============================] - 0s 6ms/step - loss: 0.0418 - accuracy: 0.9868 - val_loss: 0.0386 - val_accuracy: 0.9887\n",
            "Epoch 129/300\n",
            "17/17 [==============================] - 0s 6ms/step - loss: 0.0416 - accuracy: 0.9868 - val_loss: 0.0384 - val_accuracy: 0.9887\n",
            "Epoch 130/300\n",
            "17/17 [==============================] - 0s 5ms/step - loss: 0.0415 - accuracy: 0.9866 - val_loss: 0.0382 - val_accuracy: 0.9887\n",
            "Epoch 131/300\n",
            "17/17 [==============================] - 0s 6ms/step - loss: 0.0413 - accuracy: 0.9868 - val_loss: 0.0380 - val_accuracy: 0.9887\n",
            "Epoch 132/300\n",
            "17/17 [==============================] - 0s 6ms/step - loss: 0.0410 - accuracy: 0.9868 - val_loss: 0.0378 - val_accuracy: 0.9887\n",
            "Epoch 133/300\n",
            "17/17 [==============================] - 0s 8ms/step - loss: 0.0409 - accuracy: 0.9866 - val_loss: 0.0376 - val_accuracy: 0.9892\n",
            "Epoch 134/300\n",
            "17/17 [==============================] - 0s 6ms/step - loss: 0.0407 - accuracy: 0.9869 - val_loss: 0.0374 - val_accuracy: 0.9887\n",
            "Epoch 135/300\n",
            "17/17 [==============================] - 0s 5ms/step - loss: 0.0406 - accuracy: 0.9868 - val_loss: 0.0372 - val_accuracy: 0.9892\n",
            "Epoch 136/300\n",
            "17/17 [==============================] - 0s 5ms/step - loss: 0.0403 - accuracy: 0.9865 - val_loss: 0.0371 - val_accuracy: 0.9892\n",
            "Epoch 137/300\n",
            "17/17 [==============================] - 0s 6ms/step - loss: 0.0402 - accuracy: 0.9866 - val_loss: 0.0369 - val_accuracy: 0.9892\n",
            "Epoch 138/300\n",
            "17/17 [==============================] - 0s 8ms/step - loss: 0.0400 - accuracy: 0.9865 - val_loss: 0.0367 - val_accuracy: 0.9892\n",
            "Epoch 139/300\n",
            "17/17 [==============================] - 0s 6ms/step - loss: 0.0399 - accuracy: 0.9865 - val_loss: 0.0365 - val_accuracy: 0.9892\n",
            "Epoch 140/300\n",
            "17/17 [==============================] - 0s 6ms/step - loss: 0.0397 - accuracy: 0.9866 - val_loss: 0.0364 - val_accuracy: 0.9892\n",
            "Epoch 141/300\n",
            "17/17 [==============================] - 0s 6ms/step - loss: 0.0395 - accuracy: 0.9868 - val_loss: 0.0363 - val_accuracy: 0.9892\n",
            "Epoch 142/300\n",
            "17/17 [==============================] - 0s 7ms/step - loss: 0.0394 - accuracy: 0.9868 - val_loss: 0.0361 - val_accuracy: 0.9892\n",
            "Epoch 143/300\n",
            "17/17 [==============================] - 0s 6ms/step - loss: 0.0392 - accuracy: 0.9865 - val_loss: 0.0358 - val_accuracy: 0.9892\n",
            "Epoch 144/300\n",
            "17/17 [==============================] - 0s 7ms/step - loss: 0.0391 - accuracy: 0.9869 - val_loss: 0.0358 - val_accuracy: 0.9902\n",
            "Epoch 145/300\n",
            "17/17 [==============================] - 0s 7ms/step - loss: 0.0390 - accuracy: 0.9871 - val_loss: 0.0357 - val_accuracy: 0.9902\n",
            "Epoch 146/300\n",
            "17/17 [==============================] - 0s 6ms/step - loss: 0.0388 - accuracy: 0.9871 - val_loss: 0.0355 - val_accuracy: 0.9902\n",
            "Epoch 147/300\n",
            "17/17 [==============================] - 0s 6ms/step - loss: 0.0387 - accuracy: 0.9869 - val_loss: 0.0352 - val_accuracy: 0.9892\n",
            "Epoch 148/300\n",
            "17/17 [==============================] - 0s 7ms/step - loss: 0.0385 - accuracy: 0.9869 - val_loss: 0.0351 - val_accuracy: 0.9897\n",
            "Epoch 149/300\n",
            "17/17 [==============================] - 0s 7ms/step - loss: 0.0384 - accuracy: 0.9870 - val_loss: 0.0350 - val_accuracy: 0.9902\n",
            "Epoch 150/300\n",
            "17/17 [==============================] - 0s 5ms/step - loss: 0.0383 - accuracy: 0.9870 - val_loss: 0.0349 - val_accuracy: 0.9902\n",
            "Epoch 151/300\n",
            "17/17 [==============================] - 0s 6ms/step - loss: 0.0382 - accuracy: 0.9874 - val_loss: 0.0348 - val_accuracy: 0.9902\n",
            "Epoch 152/300\n",
            "17/17 [==============================] - 0s 6ms/step - loss: 0.0380 - accuracy: 0.9872 - val_loss: 0.0345 - val_accuracy: 0.9902\n",
            "Epoch 153/300\n",
            "17/17 [==============================] - 0s 6ms/step - loss: 0.0380 - accuracy: 0.9871 - val_loss: 0.0346 - val_accuracy: 0.9902\n",
            "Epoch 154/300\n",
            "17/17 [==============================] - 0s 6ms/step - loss: 0.0378 - accuracy: 0.9874 - val_loss: 0.0343 - val_accuracy: 0.9902\n",
            "Epoch 155/300\n",
            "17/17 [==============================] - 0s 6ms/step - loss: 0.0377 - accuracy: 0.9872 - val_loss: 0.0342 - val_accuracy: 0.9902\n",
            "Epoch 156/300\n",
            "17/17 [==============================] - 0s 7ms/step - loss: 0.0375 - accuracy: 0.9876 - val_loss: 0.0343 - val_accuracy: 0.9902\n",
            "Epoch 157/300\n",
            "17/17 [==============================] - 0s 6ms/step - loss: 0.0375 - accuracy: 0.9876 - val_loss: 0.0340 - val_accuracy: 0.9902\n",
            "Epoch 158/300\n",
            "17/17 [==============================] - 0s 6ms/step - loss: 0.0373 - accuracy: 0.9876 - val_loss: 0.0339 - val_accuracy: 0.9902\n",
            "Epoch 159/300\n",
            "17/17 [==============================] - 0s 6ms/step - loss: 0.0372 - accuracy: 0.9876 - val_loss: 0.0338 - val_accuracy: 0.9902\n",
            "Epoch 160/300\n",
            "17/17 [==============================] - 0s 7ms/step - loss: 0.0371 - accuracy: 0.9876 - val_loss: 0.0337 - val_accuracy: 0.9902\n",
            "Epoch 161/300\n",
            "17/17 [==============================] - 0s 6ms/step - loss: 0.0370 - accuracy: 0.9875 - val_loss: 0.0336 - val_accuracy: 0.9902\n",
            "Epoch 162/300\n",
            "17/17 [==============================] - 0s 6ms/step - loss: 0.0369 - accuracy: 0.9876 - val_loss: 0.0334 - val_accuracy: 0.9902\n",
            "Epoch 163/300\n",
            "17/17 [==============================] - 0s 6ms/step - loss: 0.0368 - accuracy: 0.9876 - val_loss: 0.0334 - val_accuracy: 0.9902\n",
            "Epoch 164/300\n",
            "17/17 [==============================] - 0s 7ms/step - loss: 0.0368 - accuracy: 0.9876 - val_loss: 0.0334 - val_accuracy: 0.9902\n",
            "Epoch 165/300\n",
            "17/17 [==============================] - 0s 6ms/step - loss: 0.0366 - accuracy: 0.9876 - val_loss: 0.0331 - val_accuracy: 0.9902\n",
            "Epoch 166/300\n",
            "17/17 [==============================] - 0s 5ms/step - loss: 0.0365 - accuracy: 0.9876 - val_loss: 0.0331 - val_accuracy: 0.9902\n",
            "Epoch 167/300\n",
            "17/17 [==============================] - 0s 7ms/step - loss: 0.0364 - accuracy: 0.9875 - val_loss: 0.0330 - val_accuracy: 0.9902\n",
            "Epoch 168/300\n",
            "17/17 [==============================] - 0s 6ms/step - loss: 0.0363 - accuracy: 0.9876 - val_loss: 0.0329 - val_accuracy: 0.9902\n",
            "Epoch 169/300\n",
            "17/17 [==============================] - 0s 6ms/step - loss: 0.0362 - accuracy: 0.9876 - val_loss: 0.0328 - val_accuracy: 0.9902\n",
            "Epoch 170/300\n",
            "17/17 [==============================] - 0s 6ms/step - loss: 0.0362 - accuracy: 0.9877 - val_loss: 0.0327 - val_accuracy: 0.9902\n",
            "Epoch 171/300\n",
            "17/17 [==============================] - 0s 6ms/step - loss: 0.0361 - accuracy: 0.9877 - val_loss: 0.0326 - val_accuracy: 0.9902\n",
            "Epoch 172/300\n",
            "17/17 [==============================] - 0s 6ms/step - loss: 0.0361 - accuracy: 0.9877 - val_loss: 0.0327 - val_accuracy: 0.9907\n",
            "Epoch 173/300\n",
            "17/17 [==============================] - 0s 6ms/step - loss: 0.0359 - accuracy: 0.9877 - val_loss: 0.0324 - val_accuracy: 0.9902\n",
            "Epoch 174/300\n",
            "17/17 [==============================] - 0s 5ms/step - loss: 0.0358 - accuracy: 0.9877 - val_loss: 0.0323 - val_accuracy: 0.9902\n",
            "Epoch 175/300\n",
            "17/17 [==============================] - 0s 6ms/step - loss: 0.0357 - accuracy: 0.9877 - val_loss: 0.0323 - val_accuracy: 0.9907\n",
            "Epoch 176/300\n",
            "17/17 [==============================] - 0s 6ms/step - loss: 0.0356 - accuracy: 0.9879 - val_loss: 0.0322 - val_accuracy: 0.9907\n",
            "Epoch 177/300\n",
            "17/17 [==============================] - 0s 6ms/step - loss: 0.0356 - accuracy: 0.9879 - val_loss: 0.0321 - val_accuracy: 0.9907\n",
            "Epoch 178/300\n",
            "17/17 [==============================] - 0s 6ms/step - loss: 0.0355 - accuracy: 0.9879 - val_loss: 0.0320 - val_accuracy: 0.9907\n",
            "Epoch 179/300\n",
            "17/17 [==============================] - 0s 7ms/step - loss: 0.0354 - accuracy: 0.9879 - val_loss: 0.0320 - val_accuracy: 0.9907\n",
            "Epoch 180/300\n",
            "17/17 [==============================] - 0s 6ms/step - loss: 0.0353 - accuracy: 0.9880 - val_loss: 0.0319 - val_accuracy: 0.9907\n",
            "Epoch 181/300\n",
            "17/17 [==============================] - 0s 6ms/step - loss: 0.0352 - accuracy: 0.9880 - val_loss: 0.0318 - val_accuracy: 0.9907\n",
            "Epoch 182/300\n",
            "17/17 [==============================] - 0s 5ms/step - loss: 0.0352 - accuracy: 0.9880 - val_loss: 0.0318 - val_accuracy: 0.9907\n",
            "Epoch 183/300\n",
            "17/17 [==============================] - 0s 6ms/step - loss: 0.0351 - accuracy: 0.9880 - val_loss: 0.0316 - val_accuracy: 0.9907\n",
            "Epoch 184/300\n",
            "17/17 [==============================] - 0s 6ms/step - loss: 0.0350 - accuracy: 0.9880 - val_loss: 0.0316 - val_accuracy: 0.9907\n",
            "Epoch 185/300\n",
            "17/17 [==============================] - 0s 6ms/step - loss: 0.0350 - accuracy: 0.9880 - val_loss: 0.0316 - val_accuracy: 0.9907\n",
            "Epoch 186/300\n",
            "17/17 [==============================] - 0s 6ms/step - loss: 0.0349 - accuracy: 0.9880 - val_loss: 0.0315 - val_accuracy: 0.9907\n",
            "Epoch 187/300\n",
            "17/17 [==============================] - 0s 6ms/step - loss: 0.0349 - accuracy: 0.9881 - val_loss: 0.0314 - val_accuracy: 0.9907\n",
            "Epoch 188/300\n",
            "17/17 [==============================] - 0s 5ms/step - loss: 0.0347 - accuracy: 0.9881 - val_loss: 0.0313 - val_accuracy: 0.9907\n",
            "Epoch 189/300\n",
            "17/17 [==============================] - 0s 6ms/step - loss: 0.0347 - accuracy: 0.9880 - val_loss: 0.0312 - val_accuracy: 0.9907\n",
            "Epoch 190/300\n",
            "17/17 [==============================] - 0s 6ms/step - loss: 0.0346 - accuracy: 0.9880 - val_loss: 0.0311 - val_accuracy: 0.9907\n",
            "Epoch 191/300\n",
            "17/17 [==============================] - 0s 6ms/step - loss: 0.0346 - accuracy: 0.9882 - val_loss: 0.0312 - val_accuracy: 0.9907\n",
            "Epoch 192/300\n",
            "17/17 [==============================] - 0s 6ms/step - loss: 0.0345 - accuracy: 0.9881 - val_loss: 0.0310 - val_accuracy: 0.9907\n",
            "Epoch 193/300\n",
            "17/17 [==============================] - 0s 5ms/step - loss: 0.0344 - accuracy: 0.9882 - val_loss: 0.0310 - val_accuracy: 0.9907\n",
            "Epoch 194/300\n",
            "17/17 [==============================] - 0s 6ms/step - loss: 0.0344 - accuracy: 0.9882 - val_loss: 0.0311 - val_accuracy: 0.9912\n",
            "Epoch 195/300\n",
            "17/17 [==============================] - 0s 7ms/step - loss: 0.0343 - accuracy: 0.9882 - val_loss: 0.0309 - val_accuracy: 0.9907\n",
            "Epoch 196/300\n",
            "17/17 [==============================] - 0s 6ms/step - loss: 0.0343 - accuracy: 0.9882 - val_loss: 0.0308 - val_accuracy: 0.9907\n",
            "Epoch 197/300\n",
            "17/17 [==============================] - 0s 7ms/step - loss: 0.0342 - accuracy: 0.9882 - val_loss: 0.0308 - val_accuracy: 0.9912\n",
            "Epoch 198/300\n",
            "17/17 [==============================] - 0s 8ms/step - loss: 0.0341 - accuracy: 0.9882 - val_loss: 0.0306 - val_accuracy: 0.9907\n",
            "Epoch 199/300\n",
            "17/17 [==============================] - 0s 6ms/step - loss: 0.0341 - accuracy: 0.9882 - val_loss: 0.0306 - val_accuracy: 0.9907\n",
            "Epoch 200/300\n",
            "17/17 [==============================] - 0s 5ms/step - loss: 0.0340 - accuracy: 0.9882 - val_loss: 0.0306 - val_accuracy: 0.9912\n",
            "Epoch 201/300\n",
            "17/17 [==============================] - 0s 7ms/step - loss: 0.0339 - accuracy: 0.9882 - val_loss: 0.0306 - val_accuracy: 0.9912\n",
            "Epoch 202/300\n",
            "17/17 [==============================] - 0s 6ms/step - loss: 0.0339 - accuracy: 0.9882 - val_loss: 0.0304 - val_accuracy: 0.9912\n",
            "Epoch 203/300\n",
            "17/17 [==============================] - 0s 6ms/step - loss: 0.0338 - accuracy: 0.9882 - val_loss: 0.0305 - val_accuracy: 0.9912\n",
            "Epoch 204/300\n",
            "17/17 [==============================] - 0s 6ms/step - loss: 0.0338 - accuracy: 0.9882 - val_loss: 0.0304 - val_accuracy: 0.9912\n",
            "Epoch 205/300\n",
            "17/17 [==============================] - 0s 6ms/step - loss: 0.0337 - accuracy: 0.9882 - val_loss: 0.0304 - val_accuracy: 0.9912\n",
            "Epoch 206/300\n",
            "17/17 [==============================] - 0s 6ms/step - loss: 0.0337 - accuracy: 0.9884 - val_loss: 0.0303 - val_accuracy: 0.9912\n",
            "Epoch 207/300\n",
            "17/17 [==============================] - 0s 5ms/step - loss: 0.0336 - accuracy: 0.9885 - val_loss: 0.0303 - val_accuracy: 0.9912\n",
            "Epoch 208/300\n",
            "17/17 [==============================] - 0s 6ms/step - loss: 0.0336 - accuracy: 0.9886 - val_loss: 0.0303 - val_accuracy: 0.9912\n",
            "Epoch 209/300\n",
            "17/17 [==============================] - 0s 6ms/step - loss: 0.0335 - accuracy: 0.9886 - val_loss: 0.0301 - val_accuracy: 0.9912\n",
            "Epoch 210/300\n",
            "17/17 [==============================] - 0s 6ms/step - loss: 0.0335 - accuracy: 0.9884 - val_loss: 0.0300 - val_accuracy: 0.9912\n",
            "Epoch 211/300\n",
            "17/17 [==============================] - 0s 5ms/step - loss: 0.0334 - accuracy: 0.9885 - val_loss: 0.0300 - val_accuracy: 0.9912\n",
            "Epoch 212/300\n",
            "17/17 [==============================] - 0s 6ms/step - loss: 0.0333 - accuracy: 0.9885 - val_loss: 0.0299 - val_accuracy: 0.9912\n",
            "Epoch 213/300\n",
            "17/17 [==============================] - 0s 6ms/step - loss: 0.0334 - accuracy: 0.9886 - val_loss: 0.0300 - val_accuracy: 0.9912\n",
            "Epoch 214/300\n",
            "17/17 [==============================] - 0s 8ms/step - loss: 0.0333 - accuracy: 0.9882 - val_loss: 0.0298 - val_accuracy: 0.9912\n",
            "Epoch 215/300\n",
            "17/17 [==============================] - 0s 8ms/step - loss: 0.0332 - accuracy: 0.9887 - val_loss: 0.0300 - val_accuracy: 0.9922\n",
            "Epoch 216/300\n",
            "17/17 [==============================] - 0s 8ms/step - loss: 0.0331 - accuracy: 0.9887 - val_loss: 0.0298 - val_accuracy: 0.9912\n",
            "Epoch 217/300\n",
            "17/17 [==============================] - 0s 8ms/step - loss: 0.0331 - accuracy: 0.9886 - val_loss: 0.0297 - val_accuracy: 0.9912\n",
            "Epoch 218/300\n",
            "17/17 [==============================] - 0s 8ms/step - loss: 0.0331 - accuracy: 0.9882 - val_loss: 0.0296 - val_accuracy: 0.9912\n",
            "Epoch 219/300\n",
            "17/17 [==============================] - 0s 8ms/step - loss: 0.0330 - accuracy: 0.9890 - val_loss: 0.0298 - val_accuracy: 0.9922\n",
            "Epoch 220/300\n",
            "17/17 [==============================] - 0s 9ms/step - loss: 0.0330 - accuracy: 0.9890 - val_loss: 0.0297 - val_accuracy: 0.9922\n",
            "Epoch 221/300\n",
            "17/17 [==============================] - 0s 7ms/step - loss: 0.0329 - accuracy: 0.9888 - val_loss: 0.0295 - val_accuracy: 0.9922\n",
            "Epoch 222/300\n",
            "17/17 [==============================] - 0s 8ms/step - loss: 0.0329 - accuracy: 0.9887 - val_loss: 0.0295 - val_accuracy: 0.9922\n",
            "Epoch 223/300\n",
            "17/17 [==============================] - 0s 11ms/step - loss: 0.0328 - accuracy: 0.9890 - val_loss: 0.0296 - val_accuracy: 0.9922\n",
            "Epoch 224/300\n",
            "17/17 [==============================] - 0s 7ms/step - loss: 0.0328 - accuracy: 0.9891 - val_loss: 0.0296 - val_accuracy: 0.9922\n",
            "Epoch 225/300\n",
            "17/17 [==============================] - 0s 8ms/step - loss: 0.0328 - accuracy: 0.9890 - val_loss: 0.0293 - val_accuracy: 0.9922\n",
            "Epoch 226/300\n",
            "17/17 [==============================] - 0s 7ms/step - loss: 0.0327 - accuracy: 0.9888 - val_loss: 0.0294 - val_accuracy: 0.9922\n",
            "Epoch 227/300\n",
            "17/17 [==============================] - 0s 8ms/step - loss: 0.0327 - accuracy: 0.9890 - val_loss: 0.0293 - val_accuracy: 0.9922\n",
            "Epoch 228/300\n",
            "17/17 [==============================] - 0s 7ms/step - loss: 0.0326 - accuracy: 0.9890 - val_loss: 0.0292 - val_accuracy: 0.9922\n",
            "Epoch 229/300\n",
            "17/17 [==============================] - 0s 9ms/step - loss: 0.0326 - accuracy: 0.9890 - val_loss: 0.0292 - val_accuracy: 0.9922\n",
            "Epoch 230/300\n",
            "17/17 [==============================] - 0s 9ms/step - loss: 0.0325 - accuracy: 0.9891 - val_loss: 0.0295 - val_accuracy: 0.9922\n",
            "Epoch 231/300\n",
            "17/17 [==============================] - 0s 9ms/step - loss: 0.0325 - accuracy: 0.9891 - val_loss: 0.0292 - val_accuracy: 0.9922\n",
            "Epoch 232/300\n",
            "17/17 [==============================] - 0s 9ms/step - loss: 0.0324 - accuracy: 0.9891 - val_loss: 0.0292 - val_accuracy: 0.9922\n",
            "Epoch 233/300\n",
            "17/17 [==============================] - 0s 8ms/step - loss: 0.0324 - accuracy: 0.9890 - val_loss: 0.0290 - val_accuracy: 0.9922\n",
            "Epoch 234/300\n",
            "17/17 [==============================] - 0s 8ms/step - loss: 0.0323 - accuracy: 0.9890 - val_loss: 0.0290 - val_accuracy: 0.9922\n",
            "Epoch 235/300\n",
            "17/17 [==============================] - 0s 9ms/step - loss: 0.0323 - accuracy: 0.9890 - val_loss: 0.0290 - val_accuracy: 0.9922\n",
            "Epoch 236/300\n",
            "17/17 [==============================] - 0s 8ms/step - loss: 0.0322 - accuracy: 0.9891 - val_loss: 0.0291 - val_accuracy: 0.9922\n",
            "Epoch 237/300\n",
            "17/17 [==============================] - 0s 9ms/step - loss: 0.0323 - accuracy: 0.9891 - val_loss: 0.0292 - val_accuracy: 0.9922\n",
            "Epoch 238/300\n",
            "17/17 [==============================] - 0s 9ms/step - loss: 0.0322 - accuracy: 0.9891 - val_loss: 0.0289 - val_accuracy: 0.9922\n",
            "Epoch 239/300\n",
            "17/17 [==============================] - 0s 9ms/step - loss: 0.0322 - accuracy: 0.9891 - val_loss: 0.0288 - val_accuracy: 0.9922\n",
            "Epoch 240/300\n",
            "17/17 [==============================] - 0s 9ms/step - loss: 0.0321 - accuracy: 0.9891 - val_loss: 0.0289 - val_accuracy: 0.9922\n",
            "Epoch 241/300\n",
            "17/17 [==============================] - 0s 8ms/step - loss: 0.0321 - accuracy: 0.9891 - val_loss: 0.0289 - val_accuracy: 0.9922\n",
            "Epoch 242/300\n",
            "17/17 [==============================] - 0s 6ms/step - loss: 0.0320 - accuracy: 0.9891 - val_loss: 0.0287 - val_accuracy: 0.9922\n",
            "Epoch 243/300\n",
            "17/17 [==============================] - 0s 5ms/step - loss: 0.0320 - accuracy: 0.9891 - val_loss: 0.0288 - val_accuracy: 0.9922\n",
            "Epoch 244/300\n",
            "17/17 [==============================] - 0s 7ms/step - loss: 0.0319 - accuracy: 0.9891 - val_loss: 0.0287 - val_accuracy: 0.9922\n",
            "Epoch 245/300\n",
            "17/17 [==============================] - 0s 7ms/step - loss: 0.0319 - accuracy: 0.9891 - val_loss: 0.0286 - val_accuracy: 0.9922\n",
            "Epoch 246/300\n",
            "17/17 [==============================] - 0s 6ms/step - loss: 0.0319 - accuracy: 0.9891 - val_loss: 0.0286 - val_accuracy: 0.9922\n",
            "Epoch 247/300\n",
            "17/17 [==============================] - 0s 6ms/step - loss: 0.0318 - accuracy: 0.9891 - val_loss: 0.0285 - val_accuracy: 0.9922\n",
            "Epoch 248/300\n",
            "17/17 [==============================] - 0s 6ms/step - loss: 0.0319 - accuracy: 0.9892 - val_loss: 0.0288 - val_accuracy: 0.9922\n",
            "Epoch 249/300\n",
            "17/17 [==============================] - 0s 7ms/step - loss: 0.0318 - accuracy: 0.9892 - val_loss: 0.0285 - val_accuracy: 0.9922\n",
            "Epoch 250/300\n",
            "17/17 [==============================] - 0s 6ms/step - loss: 0.0317 - accuracy: 0.9893 - val_loss: 0.0286 - val_accuracy: 0.9922\n",
            "Epoch 251/300\n",
            "17/17 [==============================] - 0s 8ms/step - loss: 0.0317 - accuracy: 0.9892 - val_loss: 0.0284 - val_accuracy: 0.9922\n",
            "Epoch 252/300\n",
            "17/17 [==============================] - 0s 7ms/step - loss: 0.0316 - accuracy: 0.9892 - val_loss: 0.0285 - val_accuracy: 0.9922\n",
            "Epoch 253/300\n",
            "17/17 [==============================] - 0s 6ms/step - loss: 0.0316 - accuracy: 0.9893 - val_loss: 0.0285 - val_accuracy: 0.9922\n",
            "Epoch 254/300\n",
            "17/17 [==============================] - 0s 8ms/step - loss: 0.0316 - accuracy: 0.9895 - val_loss: 0.0285 - val_accuracy: 0.9926\n",
            "Epoch 255/300\n",
            "17/17 [==============================] - 0s 7ms/step - loss: 0.0315 - accuracy: 0.9896 - val_loss: 0.0284 - val_accuracy: 0.9922\n",
            "Epoch 256/300\n",
            "17/17 [==============================] - 0s 6ms/step - loss: 0.0316 - accuracy: 0.9896 - val_loss: 0.0285 - val_accuracy: 0.9926\n",
            "Epoch 257/300\n",
            "17/17 [==============================] - 0s 6ms/step - loss: 0.0315 - accuracy: 0.9893 - val_loss: 0.0282 - val_accuracy: 0.9922\n",
            "Epoch 258/300\n",
            "17/17 [==============================] - 0s 7ms/step - loss: 0.0314 - accuracy: 0.9892 - val_loss: 0.0282 - val_accuracy: 0.9922\n",
            "Epoch 259/300\n",
            "17/17 [==============================] - 0s 5ms/step - loss: 0.0314 - accuracy: 0.9895 - val_loss: 0.0282 - val_accuracy: 0.9922\n",
            "Epoch 260/300\n",
            "17/17 [==============================] - 0s 7ms/step - loss: 0.0313 - accuracy: 0.9893 - val_loss: 0.0281 - val_accuracy: 0.9922\n",
            "Epoch 261/300\n",
            "17/17 [==============================] - 0s 6ms/step - loss: 0.0314 - accuracy: 0.9896 - val_loss: 0.0283 - val_accuracy: 0.9926\n",
            "Epoch 262/300\n",
            "17/17 [==============================] - 0s 6ms/step - loss: 0.0313 - accuracy: 0.9898 - val_loss: 0.0283 - val_accuracy: 0.9926\n",
            "Epoch 263/300\n",
            "17/17 [==============================] - 0s 7ms/step - loss: 0.0313 - accuracy: 0.9897 - val_loss: 0.0281 - val_accuracy: 0.9926\n",
            "Epoch 264/300\n",
            "17/17 [==============================] - 0s 7ms/step - loss: 0.0312 - accuracy: 0.9896 - val_loss: 0.0280 - val_accuracy: 0.9926\n",
            "Epoch 265/300\n",
            "17/17 [==============================] - 0s 6ms/step - loss: 0.0312 - accuracy: 0.9896 - val_loss: 0.0280 - val_accuracy: 0.9926\n",
            "Epoch 266/300\n",
            "17/17 [==============================] - 0s 5ms/step - loss: 0.0311 - accuracy: 0.9897 - val_loss: 0.0281 - val_accuracy: 0.9926\n",
            "Epoch 267/300\n",
            "17/17 [==============================] - 0s 6ms/step - loss: 0.0312 - accuracy: 0.9898 - val_loss: 0.0282 - val_accuracy: 0.9922\n",
            "Epoch 268/300\n",
            "17/17 [==============================] - 0s 7ms/step - loss: 0.0311 - accuracy: 0.9898 - val_loss: 0.0279 - val_accuracy: 0.9926\n",
            "Epoch 269/300\n",
            "17/17 [==============================] - 0s 6ms/step - loss: 0.0311 - accuracy: 0.9895 - val_loss: 0.0279 - val_accuracy: 0.9926\n",
            "Epoch 270/300\n",
            "17/17 [==============================] - 0s 6ms/step - loss: 0.0310 - accuracy: 0.9897 - val_loss: 0.0279 - val_accuracy: 0.9926\n",
            "Epoch 271/300\n",
            "17/17 [==============================] - 0s 6ms/step - loss: 0.0310 - accuracy: 0.9897 - val_loss: 0.0280 - val_accuracy: 0.9922\n",
            "Epoch 272/300\n",
            "17/17 [==============================] - 0s 7ms/step - loss: 0.0309 - accuracy: 0.9898 - val_loss: 0.0279 - val_accuracy: 0.9926\n",
            "Epoch 273/300\n",
            "17/17 [==============================] - 0s 7ms/step - loss: 0.0309 - accuracy: 0.9898 - val_loss: 0.0279 - val_accuracy: 0.9926\n",
            "Epoch 274/300\n",
            "17/17 [==============================] - 0s 6ms/step - loss: 0.0309 - accuracy: 0.9897 - val_loss: 0.0278 - val_accuracy: 0.9926\n",
            "Epoch 275/300\n",
            "17/17 [==============================] - 0s 7ms/step - loss: 0.0308 - accuracy: 0.9898 - val_loss: 0.0278 - val_accuracy: 0.9922\n",
            "Epoch 276/300\n",
            "17/17 [==============================] - 0s 6ms/step - loss: 0.0308 - accuracy: 0.9898 - val_loss: 0.0279 - val_accuracy: 0.9922\n",
            "Epoch 277/300\n",
            "17/17 [==============================] - 0s 7ms/step - loss: 0.0308 - accuracy: 0.9901 - val_loss: 0.0281 - val_accuracy: 0.9922\n",
            "Epoch 278/300\n",
            "17/17 [==============================] - 0s 6ms/step - loss: 0.0308 - accuracy: 0.9901 - val_loss: 0.0279 - val_accuracy: 0.9922\n",
            "Epoch 279/300\n",
            "17/17 [==============================] - 0s 7ms/step - loss: 0.0307 - accuracy: 0.9898 - val_loss: 0.0276 - val_accuracy: 0.9926\n",
            "Epoch 280/300\n",
            "17/17 [==============================] - 0s 7ms/step - loss: 0.0307 - accuracy: 0.9897 - val_loss: 0.0276 - val_accuracy: 0.9926\n",
            "Epoch 281/300\n",
            "17/17 [==============================] - 0s 7ms/step - loss: 0.0306 - accuracy: 0.9898 - val_loss: 0.0277 - val_accuracy: 0.9922\n",
            "Epoch 282/300\n",
            "17/17 [==============================] - 0s 6ms/step - loss: 0.0306 - accuracy: 0.9901 - val_loss: 0.0277 - val_accuracy: 0.9922\n",
            "Epoch 283/300\n",
            "17/17 [==============================] - 0s 6ms/step - loss: 0.0306 - accuracy: 0.9901 - val_loss: 0.0277 - val_accuracy: 0.9922\n",
            "Epoch 284/300\n",
            "17/17 [==============================] - 0s 7ms/step - loss: 0.0307 - accuracy: 0.9897 - val_loss: 0.0274 - val_accuracy: 0.9926\n",
            "Epoch 285/300\n",
            "17/17 [==============================] - 0s 8ms/step - loss: 0.0305 - accuracy: 0.9899 - val_loss: 0.0279 - val_accuracy: 0.9922\n",
            "Epoch 286/300\n",
            "17/17 [==============================] - 0s 6ms/step - loss: 0.0305 - accuracy: 0.9901 - val_loss: 0.0277 - val_accuracy: 0.9922\n",
            "Epoch 287/300\n",
            "17/17 [==============================] - 0s 6ms/step - loss: 0.0305 - accuracy: 0.9898 - val_loss: 0.0274 - val_accuracy: 0.9922\n",
            "Epoch 288/300\n",
            "17/17 [==============================] - 0s 6ms/step - loss: 0.0304 - accuracy: 0.9899 - val_loss: 0.0275 - val_accuracy: 0.9922\n",
            "Epoch 289/300\n",
            "17/17 [==============================] - 0s 7ms/step - loss: 0.0304 - accuracy: 0.9899 - val_loss: 0.0274 - val_accuracy: 0.9922\n",
            "Epoch 290/300\n",
            "17/17 [==============================] - 0s 5ms/step - loss: 0.0304 - accuracy: 0.9899 - val_loss: 0.0275 - val_accuracy: 0.9922\n",
            "Epoch 291/300\n",
            "17/17 [==============================] - 0s 5ms/step - loss: 0.0304 - accuracy: 0.9901 - val_loss: 0.0275 - val_accuracy: 0.9922\n",
            "Epoch 292/300\n",
            "17/17 [==============================] - 0s 6ms/step - loss: 0.0303 - accuracy: 0.9901 - val_loss: 0.0275 - val_accuracy: 0.9922\n",
            "Epoch 293/300\n",
            "17/17 [==============================] - 0s 6ms/step - loss: 0.0304 - accuracy: 0.9901 - val_loss: 0.0276 - val_accuracy: 0.9926\n",
            "Epoch 294/300\n",
            "17/17 [==============================] - 0s 7ms/step - loss: 0.0303 - accuracy: 0.9901 - val_loss: 0.0272 - val_accuracy: 0.9922\n",
            "Epoch 295/300\n",
            "17/17 [==============================] - 0s 6ms/step - loss: 0.0302 - accuracy: 0.9901 - val_loss: 0.0274 - val_accuracy: 0.9922\n",
            "Epoch 296/300\n",
            "17/17 [==============================] - 0s 6ms/step - loss: 0.0302 - accuracy: 0.9901 - val_loss: 0.0273 - val_accuracy: 0.9922\n",
            "Epoch 297/300\n",
            "17/17 [==============================] - 0s 6ms/step - loss: 0.0302 - accuracy: 0.9901 - val_loss: 0.0274 - val_accuracy: 0.9922\n",
            "Epoch 298/300\n",
            "17/17 [==============================] - 0s 6ms/step - loss: 0.0301 - accuracy: 0.9901 - val_loss: 0.0274 - val_accuracy: 0.9926\n",
            "Epoch 299/300\n",
            "17/17 [==============================] - 0s 7ms/step - loss: 0.0302 - accuracy: 0.9901 - val_loss: 0.0271 - val_accuracy: 0.9922\n",
            "Epoch 300/300\n",
            "17/17 [==============================] - 0s 5ms/step - loss: 0.0301 - accuracy: 0.9901 - val_loss: 0.0273 - val_accuracy: 0.9922\n"
          ]
        }
      ],
      "source": [
        "if model_selection[model_flag]==\"ALL\" or model_selection[model_flag] == \"AE\":\n",
        "  # training the model on training dataset\n",
        "  his = ae_classifier.fit(predictions, y_test, epochs=300,batch_size=500, validation_split=0.2).history"
      ]
    },
    {
      "cell_type": "code",
      "execution_count": 80,
      "metadata": {
        "id": "yeNS7pLUNYBz",
        "colab": {
          "base_uri": "https://localhost:8080/"
        },
        "outputId": "4739f682-c699-4fed-babf-a4f535513d92"
      },
      "outputs": [
        {
          "output_type": "stream",
          "name": "stdout",
          "text": [
            "Saved model to disk\n",
            "Loaded model from disk\n"
          ]
        }
      ],
      "source": [
        "if model_selection[model_flag]==\"ALL\" or model_selection[model_flag] == \"AE\":\n",
        "  filepath = '/content/drive/MyDrive/Colab_Notebooks/Models/ae_classifier_binary'+model_name_suffix+'.json'\n",
        "  weightspath = '/content/drive/MyDrive/Colab_Notebooks/Weights/ae_classifier_binary'+model_name_suffix+'.h5'\n",
        "  if (not path.isfile(filepath)): \n",
        "    # serialize model to JSON\n",
        "    ae_classifier_json = ae_classifier.to_json()\n",
        "    with open(filepath, \"w\") as json_file:\n",
        "      json_file.write(ae_classifier_json)\n",
        "\n",
        "    # serialize weights to HDF5\n",
        "    ae_classifier.save_weights(weightspath)\n",
        "    print(\"Saved model to disk\")\n",
        "\n",
        "    # load json and create model\n",
        "    json_file = open(filepath, 'r')\n",
        "    loaded_model_json = json_file.read()\n",
        "    json_file.close()\n",
        "    ae_classifier = model_from_json(loaded_model_json)\n",
        "\n",
        "    # load weights into new model\n",
        "    ae_classifier.load_weights(weightspath)\n",
        "    print(\"Loaded model from disk\")"
      ]
    },
    {
      "cell_type": "code",
      "execution_count": 81,
      "metadata": {
        "id": "AG42bV79NYFB"
      },
      "outputs": [],
      "source": [
        "if model_selection[model_flag]==\"ALL\" or model_selection[model_flag] == \"AE\":\n",
        "  ae_classifier.compile(optimizer='adam', loss='binary_crossentropy',metrics=['accuracy'])"
      ]
    },
    {
      "cell_type": "code",
      "execution_count": 82,
      "metadata": {
        "id": "13aKBGJcNYHv",
        "colab": {
          "base_uri": "https://localhost:8080/"
        },
        "outputId": "92fd9c58-d99c-4db6-bb7d-8f0e0dc61d9d"
      },
      "outputs": [
        {
          "output_type": "stream",
          "name": "stdout",
          "text": [
            "319/319 [==============================] - 1s 2ms/step - loss: 15.4171 - accuracy: 0.3587\n",
            "Test results - Loss: 15.417146682739258 - Accuracy: 35.87404489517212%\n"
          ]
        }
      ],
      "source": [
        "if model_selection[model_flag]==\"ALL\" or model_selection[model_flag] == \"AE\":\n",
        "  # predicting target attribute on testing dataset\n",
        "  test_results = ae_classifier.evaluate(X_test, y_test, verbose=1)\n",
        "  print(f'Test results - Loss: {test_results[0]} - Accuracy: {test_results[1]*100}%')"
      ]
    },
    {
      "cell_type": "code",
      "execution_count": 83,
      "metadata": {
        "id": "zCWbOaSyN1dH"
      },
      "outputs": [],
      "source": [
        "if model_selection[model_flag]==\"ALL\" or model_selection[model_flag] == \"AE\":\n",
        "  # representation of model layers\n",
        "  plot_model(ae_classifier, to_file='/content/drive/MyDrive/Colab_Notebooks/Plots/ae_classifier_binary.png', show_shapes=True)"
      ]
    },
    {
      "cell_type": "code",
      "execution_count": 84,
      "metadata": {
        "id": "44VaFGgVOBpU",
        "colab": {
          "base_uri": "https://localhost:8080/",
          "height": 472
        },
        "outputId": "e6b137f7-cf54-4a62-bfe3-108ad2cb8b41"
      },
      "outputs": [
        {
          "output_type": "display_data",
          "data": {
            "text/plain": [
              "<Figure size 640x480 with 1 Axes>"
            ],
            "image/png": "[encoded data removed]"
          },
          "metadata": {}
        }
      ],
      "source": [
        "if model_selection[model_flag]==\"ALL\" or model_selection[model_flag] == \"AE\":\n",
        "  # Plot of loss vs epoch of train and test dataset\n",
        "  plt.plot(his['loss'])\n",
        "  plt.plot(his['val_loss'])\n",
        "  plt.title(\"Plot of loss vs epoch for train and test dataset\")\n",
        "  plt.ylabel('loss')\n",
        "  plt.xlabel('epoch')\n",
        "  plt.legend(['train', 'test'], loc='upper right')\n",
        "  plt.savefig('/content/drive/MyDrive/Colab_Notebooks/Plots/ae_classifier_binary_loss.png')\n",
        "  plt.show()"
      ]
    },
    {
      "cell_type": "code",
      "execution_count": 85,
      "metadata": {
        "id": "Am0UB82rOIo1",
        "colab": {
          "base_uri": "https://localhost:8080/",
          "height": 472
        },
        "outputId": "a478e531-c52e-44dd-f131-4987f61d15ee"
      },
      "outputs": [
        {
          "output_type": "display_data",
          "data": {
            "text/plain": [
              "<Figure size 640x480 with 1 Axes>"
            ],
            "image/png": "[encoded data removed]"
          },
          "metadata": {}
        }
      ],
      "source": [
        "if model_selection[model_flag]==\"ALL\" or model_selection[model_flag] == \"AE\":\n",
        "  # Plot of accuracy vs epoch of train and test dataset\n",
        "  plt.plot(his['accuracy'])\n",
        "  plt.plot(his['val_accuracy'])\n",
        "  plt.title(\"Plot of accuracy vs epoch for train and test dataset\")\n",
        "  plt.ylabel('accuracy')\n",
        "  plt.xlabel('epoch')\n",
        "  plt.legend(['train', 'test'], loc='best')\n",
        "  plt.savefig('/content/drive/MyDrive/Colab_Notebooks/Plots/ae_classifier_binary_accuracy.png')\n",
        "  plt.show()"
      ]
    },
    {
      "cell_type": "code",
      "execution_count": 86,
      "metadata": {
        "id": "f5OZTlm0OMoW",
        "colab": {
          "base_uri": "https://localhost:8080/"
        },
        "outputId": "77766c41-3eb4-4c7a-eaab-a807d6a745fa"
      },
      "outputs": [
        {
          "output_type": "stream",
          "name": "stdout",
          "text": [
            "319/319 [==============================] - 1s 2ms/step\n"
          ]
        }
      ],
      "source": [
        "if model_selection[model_flag]==\"ALL\" or model_selection[model_flag] == \"AE\":\n",
        "  y_pred = ae_classifier.predict(X_test).ravel()\n",
        "  fpr, tpr, thresholds = roc_curve(y_test, y_pred)\n",
        "  #auc = auc(fpr, tpr)"
      ]
    },
    {
      "cell_type": "code",
      "execution_count": 87,
      "metadata": {
        "id": "GbSkwfO2OTkn",
        "colab": {
          "base_uri": "https://localhost:8080/",
          "height": 510
        },
        "outputId": "73a32119-ff83-4282-bfc5-7f9717f7ecf7"
      },
      "outputs": [
        {
          "output_type": "stream",
          "name": "stderr",
          "text": [
            "WARNING:matplotlib.legend:No artists with labels found to put in legend.  Note that artists whose label start with an underscore are ignored when legend() is called with no argument.\n"
          ]
        },
        {
          "output_type": "display_data",
          "data": {
            "text/plain": [
              "<Figure size 640x480 with 1 Axes>"
            ],
            "image/png": "[encoded data removed]"
          },
          "metadata": {}
        }
      ],
      "source": [
        "if model_selection[model_flag]==\"ALL\" or model_selection[model_flag] == \"AE\":\n",
        "  plt.plot([0, 1], [0, 1], 'k--')\n",
        "  #plt.plot(fpr, tpr, label='Keras (area = {:.3f})'.format(auc))\n",
        "  plt.plot(fpr, tpr)\n",
        "  plt.xlabel('False positive rate')\n",
        "  plt.ylabel('True positive rate')\n",
        "  plt.title('ROC curve')\n",
        "  plt.legend(loc='best')\n",
        "  plt.savefig('/content/drive/MyDrive/Colab_Notebooks/Plots/ae_binary_roc.png')\n",
        "  plt.show()"
      ]
    },
    {
      "cell_type": "code",
      "execution_count": 88,
      "metadata": {
        "id": "n7Xl74UXOZxm",
        "colab": {
          "base_uri": "https://localhost:8080/"
        },
        "outputId": "2334976c-68f0-4eab-eb3b-2db710ccf997"
      },
      "outputs": [
        {
          "output_type": "stream",
          "name": "stdout",
          "text": [
            "319/319 [==============================] - 1s 2ms/step\n",
            "319/319 [==============================] - 1s 2ms/step\n"
          ]
        }
      ],
      "source": [
        "if model_selection[model_flag]==\"ALL\" or model_selection[model_flag] == \"AE\":\n",
        "  pred = ae_classifier.predict(X_test)\n",
        "  y_classes = (ae_classifier.predict(X_test)>0.5).astype('int32')"
      ]
    },
    {
      "cell_type": "code",
      "execution_count": 89,
      "metadata": {
        "id": "WA_g3UlXOZ71",
        "colab": {
          "base_uri": "https://localhost:8080/"
        },
        "outputId": "74db6547-585b-40d3-c83f-e8b220f7f82c"
      },
      "outputs": [
        {
          "output_type": "stream",
          "name": "stdout",
          "text": [
            "Recall Score -  1.0\n",
            "F1 Score -  0.5245472397992581\n",
            "Precision Score -  0.35551611949127476\n",
            "False Positive Rate -  [0.99225865]\n",
            "False Negative Rate -  [0.]\n",
            "Thresholds -  [1]\n"
          ]
        }
      ],
      "source": [
        "if model_selection[model_flag]==\"ALL\" or model_selection[model_flag] == \"AE\":\n",
        "  print(\"Recall Score - \",recall_score(y_test,y_classes))\n",
        "  print(\"F1 Score - \",f1_score(y_test,y_classes))\n",
        "  print(\"Precision Score - \",precision_score(y_test,y_classes))\n",
        "  fpr, fnr, thresholds = det_curve(y_test, y_classes)\n",
        "  print(\"False Positive Rate - \", fpr)\n",
        "  print(\"False Negative Rate - \", fnr)\n",
        "  print(\"Thresholds - \", thresholds)"
      ]
    },
    {
      "cell_type": "code",
      "source": [
        "print(classification_report(y_test, y_classes, target_names=['0', '1']))\n",
        "cm = confusion_matrix(y_test, y_classes)\n",
        "disp = ConfusionMatrixDisplay(confusion_matrix=cm,\n",
        "                              display_labels=['0', '1'])\n",
        "disp.plot()\n",
        "\n",
        "plt.show()"
      ],
      "metadata": {
        "colab": {
          "base_uri": "https://localhost:8080/",
          "height": 610
        },
        "id": "UgHHdx0qoryj",
        "outputId": "3138f99f-061e-45a8-ed17-a3896c213560"
      },
      "execution_count": 90,
      "outputs": [
        {
          "output_type": "stream",
          "name": "stdout",
          "text": [
            "              precision    recall  f1-score   support\n",
            "\n",
            "           0       1.00      0.01      0.02      6588\n",
            "           1       0.36      1.00      0.52      3606\n",
            "\n",
            "    accuracy                           0.36     10194\n",
            "   macro avg       0.68      0.50      0.27     10194\n",
            "weighted avg       0.77      0.36      0.20     10194\n",
            "\n"
          ]
        },
        {
          "output_type": "display_data",
          "data": {
            "text/plain": [
              "<Figure size 640x480 with 2 Axes>"
            ],
            "image/png": "[encoded data removed]"
          },
          "metadata": {}
        }
      ]
    }
  ],
  "metadata": {
    "colab": {
      "provenance": [],
      "include_colab_link": true
    },
    "gpuClass": "standard",
    "kernelspec": {
      "display_name": "Python 3",
      "name": "python3"
    },
    "language_info": {
      "name": "python"
    },
    "accelerator": "GPU"
  },
  "nbformat": 4,
  "nbformat_minor": 0
}