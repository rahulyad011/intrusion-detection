{
  "cells": [
    {
      "cell_type": "markdown",
      "metadata": {
        "id": "view-in-github",
        "colab_type": "text"
      },
      "source": [
        "<a href=\"https://colab.research.google.com/github/rahulyad011/intrusion-detection/blob/main/Fuzzing_Kitsune_Network_Attack_model_training.ipynb\" target=\"_parent\"><img src=\"https://colab.research.google.com/assets/colab-badge.svg\" alt=\"Open In Colab\"/></a>"
      ]
    },
    {
      "cell_type": "code",
      "execution_count": 1,
      "metadata": {
        "id": "qXQ8rUmdwaf4"
      },
      "outputs": [],
      "source": [
        "\n",
        "from sklearn.metrics import accuracy_score # for calculating accuracy of model\n",
        "from sklearn.model_selection import train_test_split # for splitting the dataset for training and testing\n",
        "from sklearn.metrics import classification_report # for generating a classification report of model\n",
        "import pickle # saving and loading trained model\n",
        "from os import path\n",
        "import numpy as np\n",
        "import pandas as pd\n",
        "import matplotlib.pyplot as plt\n",
        "\n",
        "# importing library for support vector machine classifier\n",
        "from sklearn.svm import SVC\n",
        "\n",
        "# MLP requirements \n",
        "from keras.layers import Dense # importing dense layer\n",
        "from keras.models import Sequential #importing Sequential layer\n",
        "from keras.models import model_from_json # saving and loading trained model\n",
        "\n",
        "# LSTM requirements \n",
        "from keras.layers import LSTM\n",
        "from keras.layers import Input\n",
        "from keras.models import Model\n",
        "\n",
        "# evaluation metrices\n",
        "from sklearn.metrics import classification_report, confusion_matrix\n",
        "from sklearn.metrics import roc_auc_score\n",
        "from sklearn.metrics import roc_curve, auc\n",
        "from sklearn.metrics import precision_score\n",
        "from sklearn.metrics import recall_score\n",
        "from sklearn.metrics import f1_score\n",
        "from sklearn.metrics import det_curve\n",
        "\n",
        "# representation of model layers\n",
        "from keras.utils.vis_utils import plot_model"
      ]
    },
    {
      "cell_type": "code",
      "source": [
        "from google.colab import drive\n",
        "drive.mount('/content/drive')"
      ],
      "metadata": {
        "id": "DBCkPmpEjFSf",
        "colab": {
          "base_uri": "https://localhost:8080/"
        },
        "outputId": "68d51b1e-7aa0-45e1-9d63-c8e97770ed29"
      },
      "execution_count": 2,
      "outputs": [
        {
          "output_type": "stream",
          "name": "stdout",
          "text": [
            "Mounted at /content/drive\n"
          ]
        }
      ]
    },
    {
      "cell_type": "code",
      "execution_count": 3,
      "metadata": {
        "id": "Pepa9lW8whHh",
        "colab": {
          "base_uri": "https://localhost:8080/",
          "height": 522
        },
        "outputId": "9de56c7f-f92b-4f90-bf5e-94f6a711a37f"
      },
      "outputs": [
        {
          "output_type": "execute_result",
          "data": {
            "text/plain": [
              "               X1           X2             X3          X4           X5  \\\n",
              "0      156.855595  1333.814248  184757.973195  272.453568  1338.232222   \n",
              "1      177.821845  1302.447238  140499.616788  298.805342  1304.926665   \n",
              "2      195.010313  1353.269421  166172.901480  309.245839  1348.847594   \n",
              "3      188.098696  1311.649872  129277.602256  309.681039  1311.825225   \n",
              "4      136.587984  1315.911013  212019.384261  246.516722  1323.665917   \n",
              "...           ...          ...            ...         ...          ...   \n",
              "22437  169.718498  1340.484352  177352.879434  282.687569  1343.209291   \n",
              "22438  167.487371  1295.502577  154407.246071  287.293347  1296.400858   \n",
              "22439  198.304186  1337.447541  191518.762058  305.452419  1335.775198   \n",
              "22440   31.262256    62.682143     353.958393   50.691446    62.264458   \n",
              "22441  160.537691  1290.669150  162002.042272  267.817672  1295.951840   \n",
              "\n",
              "                  X6          X7           X8             X9          X10  \\\n",
              "0      180376.204347  839.245762  1341.343637  178428.451697  6413.110735   \n",
              "1      135273.604567  878.242858  1304.982763  132044.133830  8142.817955   \n",
              "2      172296.489697  868.681507  1341.857631  180714.734950  8450.849013   \n",
              "3      126831.359793  889.503564  1309.649024  128031.396884  8720.315573   \n",
              "4      202193.641278  805.839622  1333.492042  189313.655671  8373.781176   \n",
              "...              ...         ...          ...            ...          ...   \n",
              "22437  176207.862165  841.198398  1343.128280  178474.174714  8418.129504   \n",
              "22438  149457.636470  875.941566  1299.131452  141883.655838  8730.858314   \n",
              "22439  190386.715754  859.310483  1336.385524  186082.081209  8445.066528   \n",
              "22440     291.509767  146.178546    61.184825     139.369580  1426.188915   \n",
              "22441  152189.804191  838.005308  1299.673518  142067.838711  8674.702090   \n",
              "\n",
              "       ...          X108          X109         X110        X111         X112  \\\n",
              "0      ...  0.000000e+00   3743.332231  1341.942024  423.987317  1341.942024   \n",
              "1      ...  0.000000e+00   6775.976526  1342.529299  419.521803  1342.529299   \n",
              "2      ...  0.000000e+00  27782.864007  1341.084266  425.085782  1341.084266   \n",
              "3      ...  0.000000e+00  28149.092585  1336.581170  425.506198  1336.581170   \n",
              "4      ...  0.000000e+00  28007.569570  1341.433960  424.851521  1341.433960   \n",
              "...    ...           ...           ...          ...         ...          ...   \n",
              "22437  ...  0.000000e+00  28055.881916  1341.180661  425.355556  1341.180661   \n",
              "22438  ...  0.000000e+00  28152.524948  1336.383585  425.777872  1336.383585   \n",
              "22439  ...  0.000000e+00  28046.100571  1340.806814  425.639648  1340.806814   \n",
              "22440  ...  2.880889e-08  14027.364728    60.000000    0.000006  1231.823553   \n",
              "22441  ...  1.046684e-09  30765.987225  1231.096289  228.527688  1232.557533   \n",
              "\n",
              "                X113          X114          X115  Unnamed: 0  label  \n",
              "0      179765.244670  0.000000e+00  0.000000e+00       26562    0.0  \n",
              "1      175998.543329  0.000000e+00  0.000000e+00       51210    0.0  \n",
              "2      180697.922335  0.000000e+00  0.000000e+00      857801    0.0  \n",
              "3      181055.524472  0.000000e+00  0.000000e+00     1559267    0.0  \n",
              "4      180498.814502  0.000000e+00  0.000000e+00     1308091    0.0  \n",
              "...              ...           ...           ...         ...    ...  \n",
              "22437  180927.349238  0.000000e+00  0.000000e+00     1933386    1.0  \n",
              "22438  181286.796190  0.000000e+00  0.000000e+00     1445047    1.0  \n",
              "22439  181169.110036  0.000000e+00  0.000000e+00     1852020    1.0  \n",
              "22440   53257.110270  1.659651e-11  1.149989e-08     1346914    1.0  \n",
              "22441   52224.904137 -2.824431e-11 -1.506525e-08     1774044    1.0  \n",
              "\n",
              "[22442 rows x 117 columns]"
            ],
            "text/html": [
              "\n",
              "  <div id=\"df-e51554fc-0c13-4a59-a9e7-412d80580041\">\n",
              "    <div class=\"colab-df-container\">\n",
              "      <div>\n",
              "<style scoped>\n",
              "    .dataframe tbody tr th:only-of-type {\n",
              "        vertical-align: middle;\n",
              "    }\n",
              "\n",
              "    .dataframe tbody tr th {\n",
              "        vertical-align: top;\n",
              "    }\n",
              "\n",
              "    .dataframe thead th {\n",
              "        text-align: right;\n",
              "    }\n",
              "</style>\n",
              "<table border=\"1\" class=\"dataframe\">\n",
              "  <thead>\n",
              "    <tr style=\"text-align: right;\">\n",
              "      <th></th>\n",
              "      <th>X1</th>\n",
              "      <th>X2</th>\n",
              "      <th>X3</th>\n",
              "      <th>X4</th>\n",
              "      <th>X5</th>\n",
              "      <th>X6</th>\n",
              "      <th>X7</th>\n",
              "      <th>X8</th>\n",
              "      <th>X9</th>\n",
              "      <th>X10</th>\n",
              "      <th>...</th>\n",
              "      <th>X108</th>\n",
              "      <th>X109</th>\n",
              "      <th>X110</th>\n",
              "      <th>X111</th>\n",
              "      <th>X112</th>\n",
              "      <th>X113</th>\n",
              "      <th>X114</th>\n",
              "      <th>X115</th>\n",
              "      <th>Unnamed: 0</th>\n",
              "      <th>label</th>\n",
              "    </tr>\n",
              "  </thead>\n",
              "  <tbody>\n",
              "    <tr>\n",
              "      <th>0</th>\n",
              "      <td>156.855595</td>\n",
              "      <td>1333.814248</td>\n",
              "      <td>184757.973195</td>\n",
              "      <td>272.453568</td>\n",
              "      <td>1338.232222</td>\n",
              "      <td>180376.204347</td>\n",
              "      <td>839.245762</td>\n",
              "      <td>1341.343637</td>\n",
              "      <td>178428.451697</td>\n",
              "      <td>6413.110735</td>\n",
              "      <td>...</td>\n",
              "      <td>0.000000e+00</td>\n",
              "      <td>3743.332231</td>\n",
              "      <td>1341.942024</td>\n",
              "      <td>423.987317</td>\n",
              "      <td>1341.942024</td>\n",
              "      <td>179765.244670</td>\n",
              "      <td>0.000000e+00</td>\n",
              "      <td>0.000000e+00</td>\n",
              "      <td>26562</td>\n",
              "      <td>0.0</td>\n",
              "    </tr>\n",
              "    <tr>\n",
              "      <th>1</th>\n",
              "      <td>177.821845</td>\n",
              "      <td>1302.447238</td>\n",
              "      <td>140499.616788</td>\n",
              "      <td>298.805342</td>\n",
              "      <td>1304.926665</td>\n",
              "      <td>135273.604567</td>\n",
              "      <td>878.242858</td>\n",
              "      <td>1304.982763</td>\n",
              "      <td>132044.133830</td>\n",
              "      <td>8142.817955</td>\n",
              "      <td>...</td>\n",
              "      <td>0.000000e+00</td>\n",
              "      <td>6775.976526</td>\n",
              "      <td>1342.529299</td>\n",
              "      <td>419.521803</td>\n",
              "      <td>1342.529299</td>\n",
              "      <td>175998.543329</td>\n",
              "      <td>0.000000e+00</td>\n",
              "      <td>0.000000e+00</td>\n",
              "      <td>51210</td>\n",
              "      <td>0.0</td>\n",
              "    </tr>\n",
              "    <tr>\n",
              "      <th>2</th>\n",
              "      <td>195.010313</td>\n",
              "      <td>1353.269421</td>\n",
              "      <td>166172.901480</td>\n",
              "      <td>309.245839</td>\n",
              "      <td>1348.847594</td>\n",
              "      <td>172296.489697</td>\n",
              "      <td>868.681507</td>\n",
              "      <td>1341.857631</td>\n",
              "      <td>180714.734950</td>\n",
              "      <td>8450.849013</td>\n",
              "      <td>...</td>\n",
              "      <td>0.000000e+00</td>\n",
              "      <td>27782.864007</td>\n",
              "      <td>1341.084266</td>\n",
              "      <td>425.085782</td>\n",
              "      <td>1341.084266</td>\n",
              "      <td>180697.922335</td>\n",
              "      <td>0.000000e+00</td>\n",
              "      <td>0.000000e+00</td>\n",
              "      <td>857801</td>\n",
              "      <td>0.0</td>\n",
              "    </tr>\n",
              "    <tr>\n",
              "      <th>3</th>\n",
              "      <td>188.098696</td>\n",
              "      <td>1311.649872</td>\n",
              "      <td>129277.602256</td>\n",
              "      <td>309.681039</td>\n",
              "      <td>1311.825225</td>\n",
              "      <td>126831.359793</td>\n",
              "      <td>889.503564</td>\n",
              "      <td>1309.649024</td>\n",
              "      <td>128031.396884</td>\n",
              "      <td>8720.315573</td>\n",
              "      <td>...</td>\n",
              "      <td>0.000000e+00</td>\n",
              "      <td>28149.092585</td>\n",
              "      <td>1336.581170</td>\n",
              "      <td>425.506198</td>\n",
              "      <td>1336.581170</td>\n",
              "      <td>181055.524472</td>\n",
              "      <td>0.000000e+00</td>\n",
              "      <td>0.000000e+00</td>\n",
              "      <td>1559267</td>\n",
              "      <td>0.0</td>\n",
              "    </tr>\n",
              "    <tr>\n",
              "      <th>4</th>\n",
              "      <td>136.587984</td>\n",
              "      <td>1315.911013</td>\n",
              "      <td>212019.384261</td>\n",
              "      <td>246.516722</td>\n",
              "      <td>1323.665917</td>\n",
              "      <td>202193.641278</td>\n",
              "      <td>805.839622</td>\n",
              "      <td>1333.492042</td>\n",
              "      <td>189313.655671</td>\n",
              "      <td>8373.781176</td>\n",
              "      <td>...</td>\n",
              "      <td>0.000000e+00</td>\n",
              "      <td>28007.569570</td>\n",
              "      <td>1341.433960</td>\n",
              "      <td>424.851521</td>\n",
              "      <td>1341.433960</td>\n",
              "      <td>180498.814502</td>\n",
              "      <td>0.000000e+00</td>\n",
              "      <td>0.000000e+00</td>\n",
              "      <td>1308091</td>\n",
              "      <td>0.0</td>\n",
              "    </tr>\n",
              "    <tr>\n",
              "      <th>...</th>\n",
              "      <td>...</td>\n",
              "      <td>...</td>\n",
              "      <td>...</td>\n",
              "      <td>...</td>\n",
              "      <td>...</td>\n",
              "      <td>...</td>\n",
              "      <td>...</td>\n",
              "      <td>...</td>\n",
              "      <td>...</td>\n",
              "      <td>...</td>\n",
              "      <td>...</td>\n",
              "      <td>...</td>\n",
              "      <td>...</td>\n",
              "      <td>...</td>\n",
              "      <td>...</td>\n",
              "      <td>...</td>\n",
              "      <td>...</td>\n",
              "      <td>...</td>\n",
              "      <td>...</td>\n",
              "      <td>...</td>\n",
              "      <td>...</td>\n",
              "    </tr>\n",
              "    <tr>\n",
              "      <th>22437</th>\n",
              "      <td>169.718498</td>\n",
              "      <td>1340.484352</td>\n",
              "      <td>177352.879434</td>\n",
              "      <td>282.687569</td>\n",
              "      <td>1343.209291</td>\n",
              "      <td>176207.862165</td>\n",
              "      <td>841.198398</td>\n",
              "      <td>1343.128280</td>\n",
              "      <td>178474.174714</td>\n",
              "      <td>8418.129504</td>\n",
              "      <td>...</td>\n",
              "      <td>0.000000e+00</td>\n",
              "      <td>28055.881916</td>\n",
              "      <td>1341.180661</td>\n",
              "      <td>425.355556</td>\n",
              "      <td>1341.180661</td>\n",
              "      <td>180927.349238</td>\n",
              "      <td>0.000000e+00</td>\n",
              "      <td>0.000000e+00</td>\n",
              "      <td>1933386</td>\n",
              "      <td>1.0</td>\n",
              "    </tr>\n",
              "    <tr>\n",
              "      <th>22438</th>\n",
              "      <td>167.487371</td>\n",
              "      <td>1295.502577</td>\n",
              "      <td>154407.246071</td>\n",
              "      <td>287.293347</td>\n",
              "      <td>1296.400858</td>\n",
              "      <td>149457.636470</td>\n",
              "      <td>875.941566</td>\n",
              "      <td>1299.131452</td>\n",
              "      <td>141883.655838</td>\n",
              "      <td>8730.858314</td>\n",
              "      <td>...</td>\n",
              "      <td>0.000000e+00</td>\n",
              "      <td>28152.524948</td>\n",
              "      <td>1336.383585</td>\n",
              "      <td>425.777872</td>\n",
              "      <td>1336.383585</td>\n",
              "      <td>181286.796190</td>\n",
              "      <td>0.000000e+00</td>\n",
              "      <td>0.000000e+00</td>\n",
              "      <td>1445047</td>\n",
              "      <td>1.0</td>\n",
              "    </tr>\n",
              "    <tr>\n",
              "      <th>22439</th>\n",
              "      <td>198.304186</td>\n",
              "      <td>1337.447541</td>\n",
              "      <td>191518.762058</td>\n",
              "      <td>305.452419</td>\n",
              "      <td>1335.775198</td>\n",
              "      <td>190386.715754</td>\n",
              "      <td>859.310483</td>\n",
              "      <td>1336.385524</td>\n",
              "      <td>186082.081209</td>\n",
              "      <td>8445.066528</td>\n",
              "      <td>...</td>\n",
              "      <td>0.000000e+00</td>\n",
              "      <td>28046.100571</td>\n",
              "      <td>1340.806814</td>\n",
              "      <td>425.639648</td>\n",
              "      <td>1340.806814</td>\n",
              "      <td>181169.110036</td>\n",
              "      <td>0.000000e+00</td>\n",
              "      <td>0.000000e+00</td>\n",
              "      <td>1852020</td>\n",
              "      <td>1.0</td>\n",
              "    </tr>\n",
              "    <tr>\n",
              "      <th>22440</th>\n",
              "      <td>31.262256</td>\n",
              "      <td>62.682143</td>\n",
              "      <td>353.958393</td>\n",
              "      <td>50.691446</td>\n",
              "      <td>62.264458</td>\n",
              "      <td>291.509767</td>\n",
              "      <td>146.178546</td>\n",
              "      <td>61.184825</td>\n",
              "      <td>139.369580</td>\n",
              "      <td>1426.188915</td>\n",
              "      <td>...</td>\n",
              "      <td>2.880889e-08</td>\n",
              "      <td>14027.364728</td>\n",
              "      <td>60.000000</td>\n",
              "      <td>0.000006</td>\n",
              "      <td>1231.823553</td>\n",
              "      <td>53257.110270</td>\n",
              "      <td>1.659651e-11</td>\n",
              "      <td>1.149989e-08</td>\n",
              "      <td>1346914</td>\n",
              "      <td>1.0</td>\n",
              "    </tr>\n",
              "    <tr>\n",
              "      <th>22441</th>\n",
              "      <td>160.537691</td>\n",
              "      <td>1290.669150</td>\n",
              "      <td>162002.042272</td>\n",
              "      <td>267.817672</td>\n",
              "      <td>1295.951840</td>\n",
              "      <td>152189.804191</td>\n",
              "      <td>838.005308</td>\n",
              "      <td>1299.673518</td>\n",
              "      <td>142067.838711</td>\n",
              "      <td>8674.702090</td>\n",
              "      <td>...</td>\n",
              "      <td>1.046684e-09</td>\n",
              "      <td>30765.987225</td>\n",
              "      <td>1231.096289</td>\n",
              "      <td>228.527688</td>\n",
              "      <td>1232.557533</td>\n",
              "      <td>52224.904137</td>\n",
              "      <td>-2.824431e-11</td>\n",
              "      <td>-1.506525e-08</td>\n",
              "      <td>1774044</td>\n",
              "      <td>1.0</td>\n",
              "    </tr>\n",
              "  </tbody>\n",
              "</table>\n",
              "<p>22442 rows × 117 columns</p>\n",
              "</div>\n",
              "      <button class=\"colab-df-convert\" onclick=\"convertToInteractive('df-e51554fc-0c13-4a59-a9e7-412d80580041')\"\n",
              "              title=\"Convert this dataframe to an interactive table.\"\n",
              "              style=\"display:none;\">\n",
              "        \n",
              "  <svg xmlns=\"http://www.w3.org/2000/svg\" height=\"24px\"viewBox=\"0 0 24 24\"\n",
              "       width=\"24px\">\n",
              "    <path d=\"M0 0h24v24H0V0z\" fill=\"none\"/>\n",
              "    <path d=\"M18.56 5.44l.94 2.06.94-2.06 2.06-.94-2.06-.94-.94-2.06-.94 2.06-2.06.94zm-11 1L8.5 8.5l.94-2.06 2.06-.94-2.06-.94L8.5 2.5l-.94 2.06-2.06.94zm10 10l.94 2.06.94-2.06 2.06-.94-2.06-.94-.94-2.06-.94 2.06-2.06.94z\"/><path d=\"M17.41 7.96l-1.37-1.37c-.4-.4-.92-.59-1.43-.59-.52 0-1.04.2-1.43.59L10.3 9.45l-7.72 7.72c-.78.78-.78 2.05 0 2.83L4 21.41c.39.39.9.59 1.41.59.51 0 1.02-.2 1.41-.59l7.78-7.78 2.81-2.81c.8-.78.8-2.07 0-2.86zM5.41 20L4 18.59l7.72-7.72 1.47 1.35L5.41 20z\"/>\n",
              "  </svg>\n",
              "      </button>\n",
              "      \n",
              "  <style>\n",
              "    .colab-df-container {\n",
              "      display:flex;\n",
              "      flex-wrap:wrap;\n",
              "      gap: 12px;\n",
              "    }\n",
              "\n",
              "    .colab-df-convert {\n",
              "      background-color: #E8F0FE;\n",
              "      border: none;\n",
              "      border-radius: 50%;\n",
              "      cursor: pointer;\n",
              "      display: none;\n",
              "      fill: #1967D2;\n",
              "      height: 32px;\n",
              "      padding: 0 0 0 0;\n",
              "      width: 32px;\n",
              "    }\n",
              "\n",
              "    .colab-df-convert:hover {\n",
              "      background-color: #E2EBFA;\n",
              "      box-shadow: 0px 1px 2px rgba(60, 64, 67, 0.3), 0px 1px 3px 1px rgba(60, 64, 67, 0.15);\n",
              "      fill: #174EA6;\n",
              "    }\n",
              "\n",
              "    [theme=dark] .colab-df-convert {\n",
              "      background-color: #3B4455;\n",
              "      fill: #D2E3FC;\n",
              "    }\n",
              "\n",
              "    [theme=dark] .colab-df-convert:hover {\n",
              "      background-color: #434B5C;\n",
              "      box-shadow: 0px 1px 3px 1px rgba(0, 0, 0, 0.15);\n",
              "      filter: drop-shadow(0px 1px 2px rgba(0, 0, 0, 0.3));\n",
              "      fill: #FFFFFF;\n",
              "    }\n",
              "  </style>\n",
              "\n",
              "      <script>\n",
              "        const buttonEl =\n",
              "          document.querySelector('#df-e51554fc-0c13-4a59-a9e7-412d80580041 button.colab-df-convert');\n",
              "        buttonEl.style.display =\n",
              "          google.colab.kernel.accessAllowed ? 'block' : 'none';\n",
              "\n",
              "        async function convertToInteractive(key) {\n",
              "          const element = document.querySelector('#df-e51554fc-0c13-4a59-a9e7-412d80580041');\n",
              "          const dataTable =\n",
              "            await google.colab.kernel.invokeFunction('convertToInteractive',\n",
              "                                                     [key], {});\n",
              "          if (!dataTable) return;\n",
              "\n",
              "          const docLinkHtml = 'Like what you see? Visit the ' +\n",
              "            '<a target=\"_blank\" href=https://colab.research.google.com/notebooks/data_table.ipynb>data table notebook</a>'\n",
              "            + ' to learn more about interactive tables.';\n",
              "          element.innerHTML = '';\n",
              "          dataTable['output_type'] = 'display_data';\n",
              "          await google.colab.output.renderOutput(dataTable, element);\n",
              "          const docLink = document.createElement('div');\n",
              "          docLink.innerHTML = docLinkHtml;\n",
              "          element.appendChild(docLink);\n",
              "        }\n",
              "      </script>\n",
              "    </div>\n",
              "  </div>\n",
              "  "
            ]
          },
          "metadata": {},
          "execution_count": 3
        }
      ],
      "source": [
        "bin_data_total = data = pd.read_csv(\"/content/drive/MyDrive/Colab_Notebooks/Datasets/kitsume_network_attack_dataset/kitsune_binary_data_1MFuzzing_dataset.csv\")\n",
        "bin_data_total.drop(bin_data_total.columns[0],axis=1,inplace=True)\n",
        "bin_data_total"
      ]
    },
    {
      "cell_type": "code",
      "execution_count": 4,
      "metadata": {
        "id": "xHCs0B3sKOa_",
        "colab": {
          "base_uri": "https://localhost:8080/"
        },
        "outputId": "db101f85-c082-4d36-b167-f6ef2c7aa42c"
      },
      "outputs": [
        {
          "output_type": "execute_result",
          "data": {
            "text/plain": [
              "0.0    0.807147\n",
              "1.0    0.192853\n",
              "Name: label, dtype: float64"
            ]
          },
          "metadata": {},
          "execution_count": 4
        }
      ],
      "source": [
        "# distribution of label class before sampling\n",
        "data_size = bin_data_total.shape[0]\n",
        "# data_size\n",
        "bin_data_total.label.value_counts()/data_size"
      ]
    },
    {
      "cell_type": "code",
      "source": [
        "model_name_suffix = \"_kitsune_Fuzzing\""
      ],
      "metadata": {
        "collapsed": true,
        "id": "xoRpI3HV9G2v"
      },
      "execution_count": 5,
      "outputs": []
    },
    {
      "cell_type": "code",
      "source": [
        "# numeric feature normalization\n",
        "from sklearn.preprocessing import MinMaxScaler\n",
        "from sklearn.preprocessing import StandardScaler\n",
        "\n",
        "numeric_cols = bin_data_total.select_dtypes(['number']).columns\n",
        "numeric_cols = numeric_cols.drop('label')\n",
        "flag = 0\n",
        "scaler = None\n",
        "if flag:\n",
        "  # using standard scaler for normalizing\n",
        "  scaler = StandardScaler()\n",
        "else:\n",
        "  # using minmax scaler for normalizing\n",
        "  # to avoid negative values after scaling\n",
        "  scaler = MinMaxScaler()\n",
        "\n",
        "def normalization_train(df,col):\n",
        "  for i in col:\n",
        "    arr = df[i]\n",
        "    arr = np.array(arr)\n",
        "    df[i] = scaler.fit_transform(arr.reshape(len(arr),1))\n",
        "  return df\n",
        "\n",
        "def normalization_test(df,col):\n",
        "  for i in col:\n",
        "    arr = df[i]\n",
        "    arr = np.array(arr)\n",
        "    df[i] = scaler.transform(arr.reshape(len(arr),1))\n",
        "  return df\n",
        "\n",
        "# numeric_cols"
      ],
      "metadata": {
        "id": "QAUrPvEIYHoH"
      },
      "execution_count": 6,
      "outputs": []
    },
    {
      "cell_type": "code",
      "execution_count": 7,
      "metadata": {
        "id": "XSTP2AcKJgTF",
        "colab": {
          "base_uri": "https://localhost:8080/",
          "height": 522
        },
        "outputId": "1a531af8-08b9-415f-9395-e8b56492b4de"
      },
      "outputs": [
        {
          "output_type": "execute_result",
          "data": {
            "text/plain": [
              "               X1           X2             X3          X4           X5  \\\n",
              "0      156.855595  1333.814248  184757.973195  272.453568  1338.232222   \n",
              "1      177.821845  1302.447238  140499.616788  298.805342  1304.926665   \n",
              "2      195.010313  1353.269421  166172.901480  309.245839  1348.847594   \n",
              "3      188.098696  1311.649872  129277.602256  309.681039  1311.825225   \n",
              "4      136.587984  1315.911013  212019.384261  246.516722  1323.665917   \n",
              "...           ...          ...            ...         ...          ...   \n",
              "22437  169.718498  1340.484352  177352.879434  282.687569  1343.209291   \n",
              "22438  167.487371  1295.502577  154407.246071  287.293347  1296.400858   \n",
              "22439  198.304186  1337.447541  191518.762058  305.452419  1335.775198   \n",
              "22440   31.262256    62.682143     353.958393   50.691446    62.264458   \n",
              "22441  160.537691  1290.669150  162002.042272  267.817672  1295.951840   \n",
              "\n",
              "                  X6          X7           X8             X9          X10  \\\n",
              "0      180376.204347  839.245762  1341.343637  178428.451697  6413.110735   \n",
              "1      135273.604567  878.242858  1304.982763  132044.133830  8142.817955   \n",
              "2      172296.489697  868.681507  1341.857631  180714.734950  8450.849013   \n",
              "3      126831.359793  889.503564  1309.649024  128031.396884  8720.315573   \n",
              "4      202193.641278  805.839622  1333.492042  189313.655671  8373.781176   \n",
              "...              ...         ...          ...            ...          ...   \n",
              "22437  176207.862165  841.198398  1343.128280  178474.174714  8418.129504   \n",
              "22438  149457.636470  875.941566  1299.131452  141883.655838  8730.858314   \n",
              "22439  190386.715754  859.310483  1336.385524  186082.081209  8445.066528   \n",
              "22440     291.509767  146.178546    61.184825     139.369580  1426.188915   \n",
              "22441  152189.804191  838.005308  1299.673518  142067.838711  8674.702090   \n",
              "\n",
              "       ...          X108          X109         X110        X111         X112  \\\n",
              "0      ...  0.000000e+00   3743.332231  1341.942024  423.987317  1341.942024   \n",
              "1      ...  0.000000e+00   6775.976526  1342.529299  419.521803  1342.529299   \n",
              "2      ...  0.000000e+00  27782.864007  1341.084266  425.085782  1341.084266   \n",
              "3      ...  0.000000e+00  28149.092585  1336.581170  425.506198  1336.581170   \n",
              "4      ...  0.000000e+00  28007.569570  1341.433960  424.851521  1341.433960   \n",
              "...    ...           ...           ...          ...         ...          ...   \n",
              "22437  ...  0.000000e+00  28055.881916  1341.180661  425.355556  1341.180661   \n",
              "22438  ...  0.000000e+00  28152.524948  1336.383585  425.777872  1336.383585   \n",
              "22439  ...  0.000000e+00  28046.100571  1340.806814  425.639648  1340.806814   \n",
              "22440  ...  2.880889e-08  14027.364728    60.000000    0.000006  1231.823553   \n",
              "22441  ...  1.046684e-09  30765.987225  1231.096289  228.527688  1232.557533   \n",
              "\n",
              "                X113          X114          X115  Unnamed: 0  label  \n",
              "0      179765.244670  0.000000e+00  0.000000e+00       26562    0.0  \n",
              "1      175998.543329  0.000000e+00  0.000000e+00       51210    0.0  \n",
              "2      180697.922335  0.000000e+00  0.000000e+00      857801    0.0  \n",
              "3      181055.524472  0.000000e+00  0.000000e+00     1559267    0.0  \n",
              "4      180498.814502  0.000000e+00  0.000000e+00     1308091    0.0  \n",
              "...              ...           ...           ...         ...    ...  \n",
              "22437  180927.349238  0.000000e+00  0.000000e+00     1933386    1.0  \n",
              "22438  181286.796190  0.000000e+00  0.000000e+00     1445047    1.0  \n",
              "22439  181169.110036  0.000000e+00  0.000000e+00     1852020    1.0  \n",
              "22440   53257.110270  1.659651e-11  1.149989e-08     1346914    1.0  \n",
              "22441   52224.904137 -2.824431e-11 -1.506525e-08     1774044    1.0  \n",
              "\n",
              "[22442 rows x 117 columns]"
            ],
            "text/html": [
              "\n",
              "  <div id=\"df-a40dc3ce-96e5-4a93-81f3-a5d5c6bebf0d\">\n",
              "    <div class=\"colab-df-container\">\n",
              "      <div>\n",
              "<style scoped>\n",
              "    .dataframe tbody tr th:only-of-type {\n",
              "        vertical-align: middle;\n",
              "    }\n",
              "\n",
              "    .dataframe tbody tr th {\n",
              "        vertical-align: top;\n",
              "    }\n",
              "\n",
              "    .dataframe thead th {\n",
              "        text-align: right;\n",
              "    }\n",
              "</style>\n",
              "<table border=\"1\" class=\"dataframe\">\n",
              "  <thead>\n",
              "    <tr style=\"text-align: right;\">\n",
              "      <th></th>\n",
              "      <th>X1</th>\n",
              "      <th>X2</th>\n",
              "      <th>X3</th>\n",
              "      <th>X4</th>\n",
              "      <th>X5</th>\n",
              "      <th>X6</th>\n",
              "      <th>X7</th>\n",
              "      <th>X8</th>\n",
              "      <th>X9</th>\n",
              "      <th>X10</th>\n",
              "      <th>...</th>\n",
              "      <th>X108</th>\n",
              "      <th>X109</th>\n",
              "      <th>X110</th>\n",
              "      <th>X111</th>\n",
              "      <th>X112</th>\n",
              "      <th>X113</th>\n",
              "      <th>X114</th>\n",
              "      <th>X115</th>\n",
              "      <th>Unnamed: 0</th>\n",
              "      <th>label</th>\n",
              "    </tr>\n",
              "  </thead>\n",
              "  <tbody>\n",
              "    <tr>\n",
              "      <th>0</th>\n",
              "      <td>156.855595</td>\n",
              "      <td>1333.814248</td>\n",
              "      <td>184757.973195</td>\n",
              "      <td>272.453568</td>\n",
              "      <td>1338.232222</td>\n",
              "      <td>180376.204347</td>\n",
              "      <td>839.245762</td>\n",
              "      <td>1341.343637</td>\n",
              "      <td>178428.451697</td>\n",
              "      <td>6413.110735</td>\n",
              "      <td>...</td>\n",
              "      <td>0.000000e+00</td>\n",
              "      <td>3743.332231</td>\n",
              "      <td>1341.942024</td>\n",
              "      <td>423.987317</td>\n",
              "      <td>1341.942024</td>\n",
              "      <td>179765.244670</td>\n",
              "      <td>0.000000e+00</td>\n",
              "      <td>0.000000e+00</td>\n",
              "      <td>26562</td>\n",
              "      <td>0.0</td>\n",
              "    </tr>\n",
              "    <tr>\n",
              "      <th>1</th>\n",
              "      <td>177.821845</td>\n",
              "      <td>1302.447238</td>\n",
              "      <td>140499.616788</td>\n",
              "      <td>298.805342</td>\n",
              "      <td>1304.926665</td>\n",
              "      <td>135273.604567</td>\n",
              "      <td>878.242858</td>\n",
              "      <td>1304.982763</td>\n",
              "      <td>132044.133830</td>\n",
              "      <td>8142.817955</td>\n",
              "      <td>...</td>\n",
              "      <td>0.000000e+00</td>\n",
              "      <td>6775.976526</td>\n",
              "      <td>1342.529299</td>\n",
              "      <td>419.521803</td>\n",
              "      <td>1342.529299</td>\n",
              "      <td>175998.543329</td>\n",
              "      <td>0.000000e+00</td>\n",
              "      <td>0.000000e+00</td>\n",
              "      <td>51210</td>\n",
              "      <td>0.0</td>\n",
              "    </tr>\n",
              "    <tr>\n",
              "      <th>2</th>\n",
              "      <td>195.010313</td>\n",
              "      <td>1353.269421</td>\n",
              "      <td>166172.901480</td>\n",
              "      <td>309.245839</td>\n",
              "      <td>1348.847594</td>\n",
              "      <td>172296.489697</td>\n",
              "      <td>868.681507</td>\n",
              "      <td>1341.857631</td>\n",
              "      <td>180714.734950</td>\n",
              "      <td>8450.849013</td>\n",
              "      <td>...</td>\n",
              "      <td>0.000000e+00</td>\n",
              "      <td>27782.864007</td>\n",
              "      <td>1341.084266</td>\n",
              "      <td>425.085782</td>\n",
              "      <td>1341.084266</td>\n",
              "      <td>180697.922335</td>\n",
              "      <td>0.000000e+00</td>\n",
              "      <td>0.000000e+00</td>\n",
              "      <td>857801</td>\n",
              "      <td>0.0</td>\n",
              "    </tr>\n",
              "    <tr>\n",
              "      <th>3</th>\n",
              "      <td>188.098696</td>\n",
              "      <td>1311.649872</td>\n",
              "      <td>129277.602256</td>\n",
              "      <td>309.681039</td>\n",
              "      <td>1311.825225</td>\n",
              "      <td>126831.359793</td>\n",
              "      <td>889.503564</td>\n",
              "      <td>1309.649024</td>\n",
              "      <td>128031.396884</td>\n",
              "      <td>8720.315573</td>\n",
              "      <td>...</td>\n",
              "      <td>0.000000e+00</td>\n",
              "      <td>28149.092585</td>\n",
              "      <td>1336.581170</td>\n",
              "      <td>425.506198</td>\n",
              "      <td>1336.581170</td>\n",
              "      <td>181055.524472</td>\n",
              "      <td>0.000000e+00</td>\n",
              "      <td>0.000000e+00</td>\n",
              "      <td>1559267</td>\n",
              "      <td>0.0</td>\n",
              "    </tr>\n",
              "    <tr>\n",
              "      <th>4</th>\n",
              "      <td>136.587984</td>\n",
              "      <td>1315.911013</td>\n",
              "      <td>212019.384261</td>\n",
              "      <td>246.516722</td>\n",
              "      <td>1323.665917</td>\n",
              "      <td>202193.641278</td>\n",
              "      <td>805.839622</td>\n",
              "      <td>1333.492042</td>\n",
              "      <td>189313.655671</td>\n",
              "      <td>8373.781176</td>\n",
              "      <td>...</td>\n",
              "      <td>0.000000e+00</td>\n",
              "      <td>28007.569570</td>\n",
              "      <td>1341.433960</td>\n",
              "      <td>424.851521</td>\n",
              "      <td>1341.433960</td>\n",
              "      <td>180498.814502</td>\n",
              "      <td>0.000000e+00</td>\n",
              "      <td>0.000000e+00</td>\n",
              "      <td>1308091</td>\n",
              "      <td>0.0</td>\n",
              "    </tr>\n",
              "    <tr>\n",
              "      <th>...</th>\n",
              "      <td>...</td>\n",
              "      <td>...</td>\n",
              "      <td>...</td>\n",
              "      <td>...</td>\n",
              "      <td>...</td>\n",
              "      <td>...</td>\n",
              "      <td>...</td>\n",
              "      <td>...</td>\n",
              "      <td>...</td>\n",
              "      <td>...</td>\n",
              "      <td>...</td>\n",
              "      <td>...</td>\n",
              "      <td>...</td>\n",
              "      <td>...</td>\n",
              "      <td>...</td>\n",
              "      <td>...</td>\n",
              "      <td>...</td>\n",
              "      <td>...</td>\n",
              "      <td>...</td>\n",
              "      <td>...</td>\n",
              "      <td>...</td>\n",
              "    </tr>\n",
              "    <tr>\n",
              "      <th>22437</th>\n",
              "      <td>169.718498</td>\n",
              "      <td>1340.484352</td>\n",
              "      <td>177352.879434</td>\n",
              "      <td>282.687569</td>\n",
              "      <td>1343.209291</td>\n",
              "      <td>176207.862165</td>\n",
              "      <td>841.198398</td>\n",
              "      <td>1343.128280</td>\n",
              "      <td>178474.174714</td>\n",
              "      <td>8418.129504</td>\n",
              "      <td>...</td>\n",
              "      <td>0.000000e+00</td>\n",
              "      <td>28055.881916</td>\n",
              "      <td>1341.180661</td>\n",
              "      <td>425.355556</td>\n",
              "      <td>1341.180661</td>\n",
              "      <td>180927.349238</td>\n",
              "      <td>0.000000e+00</td>\n",
              "      <td>0.000000e+00</td>\n",
              "      <td>1933386</td>\n",
              "      <td>1.0</td>\n",
              "    </tr>\n",
              "    <tr>\n",
              "      <th>22438</th>\n",
              "      <td>167.487371</td>\n",
              "      <td>1295.502577</td>\n",
              "      <td>154407.246071</td>\n",
              "      <td>287.293347</td>\n",
              "      <td>1296.400858</td>\n",
              "      <td>149457.636470</td>\n",
              "      <td>875.941566</td>\n",
              "      <td>1299.131452</td>\n",
              "      <td>141883.655838</td>\n",
              "      <td>8730.858314</td>\n",
              "      <td>...</td>\n",
              "      <td>0.000000e+00</td>\n",
              "      <td>28152.524948</td>\n",
              "      <td>1336.383585</td>\n",
              "      <td>425.777872</td>\n",
              "      <td>1336.383585</td>\n",
              "      <td>181286.796190</td>\n",
              "      <td>0.000000e+00</td>\n",
              "      <td>0.000000e+00</td>\n",
              "      <td>1445047</td>\n",
              "      <td>1.0</td>\n",
              "    </tr>\n",
              "    <tr>\n",
              "      <th>22439</th>\n",
              "      <td>198.304186</td>\n",
              "      <td>1337.447541</td>\n",
              "      <td>191518.762058</td>\n",
              "      <td>305.452419</td>\n",
              "      <td>1335.775198</td>\n",
              "      <td>190386.715754</td>\n",
              "      <td>859.310483</td>\n",
              "      <td>1336.385524</td>\n",
              "      <td>186082.081209</td>\n",
              "      <td>8445.066528</td>\n",
              "      <td>...</td>\n",
              "      <td>0.000000e+00</td>\n",
              "      <td>28046.100571</td>\n",
              "      <td>1340.806814</td>\n",
              "      <td>425.639648</td>\n",
              "      <td>1340.806814</td>\n",
              "      <td>181169.110036</td>\n",
              "      <td>0.000000e+00</td>\n",
              "      <td>0.000000e+00</td>\n",
              "      <td>1852020</td>\n",
              "      <td>1.0</td>\n",
              "    </tr>\n",
              "    <tr>\n",
              "      <th>22440</th>\n",
              "      <td>31.262256</td>\n",
              "      <td>62.682143</td>\n",
              "      <td>353.958393</td>\n",
              "      <td>50.691446</td>\n",
              "      <td>62.264458</td>\n",
              "      <td>291.509767</td>\n",
              "      <td>146.178546</td>\n",
              "      <td>61.184825</td>\n",
              "      <td>139.369580</td>\n",
              "      <td>1426.188915</td>\n",
              "      <td>...</td>\n",
              "      <td>2.880889e-08</td>\n",
              "      <td>14027.364728</td>\n",
              "      <td>60.000000</td>\n",
              "      <td>0.000006</td>\n",
              "      <td>1231.823553</td>\n",
              "      <td>53257.110270</td>\n",
              "      <td>1.659651e-11</td>\n",
              "      <td>1.149989e-08</td>\n",
              "      <td>1346914</td>\n",
              "      <td>1.0</td>\n",
              "    </tr>\n",
              "    <tr>\n",
              "      <th>22441</th>\n",
              "      <td>160.537691</td>\n",
              "      <td>1290.669150</td>\n",
              "      <td>162002.042272</td>\n",
              "      <td>267.817672</td>\n",
              "      <td>1295.951840</td>\n",
              "      <td>152189.804191</td>\n",
              "      <td>838.005308</td>\n",
              "      <td>1299.673518</td>\n",
              "      <td>142067.838711</td>\n",
              "      <td>8674.702090</td>\n",
              "      <td>...</td>\n",
              "      <td>1.046684e-09</td>\n",
              "      <td>30765.987225</td>\n",
              "      <td>1231.096289</td>\n",
              "      <td>228.527688</td>\n",
              "      <td>1232.557533</td>\n",
              "      <td>52224.904137</td>\n",
              "      <td>-2.824431e-11</td>\n",
              "      <td>-1.506525e-08</td>\n",
              "      <td>1774044</td>\n",
              "      <td>1.0</td>\n",
              "    </tr>\n",
              "  </tbody>\n",
              "</table>\n",
              "<p>22442 rows × 117 columns</p>\n",
              "</div>\n",
              "      <button class=\"colab-df-convert\" onclick=\"convertToInteractive('df-a40dc3ce-96e5-4a93-81f3-a5d5c6bebf0d')\"\n",
              "              title=\"Convert this dataframe to an interactive table.\"\n",
              "              style=\"display:none;\">\n",
              "        \n",
              "  <svg xmlns=\"http://www.w3.org/2000/svg\" height=\"24px\"viewBox=\"0 0 24 24\"\n",
              "       width=\"24px\">\n",
              "    <path d=\"M0 0h24v24H0V0z\" fill=\"none\"/>\n",
              "    <path d=\"M18.56 5.44l.94 2.06.94-2.06 2.06-.94-2.06-.94-.94-2.06-.94 2.06-2.06.94zm-11 1L8.5 8.5l.94-2.06 2.06-.94-2.06-.94L8.5 2.5l-.94 2.06-2.06.94zm10 10l.94 2.06.94-2.06 2.06-.94-2.06-.94-.94-2.06-.94 2.06-2.06.94z\"/><path d=\"M17.41 7.96l-1.37-1.37c-.4-.4-.92-.59-1.43-.59-.52 0-1.04.2-1.43.59L10.3 9.45l-7.72 7.72c-.78.78-.78 2.05 0 2.83L4 21.41c.39.39.9.59 1.41.59.51 0 1.02-.2 1.41-.59l7.78-7.78 2.81-2.81c.8-.78.8-2.07 0-2.86zM5.41 20L4 18.59l7.72-7.72 1.47 1.35L5.41 20z\"/>\n",
              "  </svg>\n",
              "      </button>\n",
              "      \n",
              "  <style>\n",
              "    .colab-df-container {\n",
              "      display:flex;\n",
              "      flex-wrap:wrap;\n",
              "      gap: 12px;\n",
              "    }\n",
              "\n",
              "    .colab-df-convert {\n",
              "      background-color: #E8F0FE;\n",
              "      border: none;\n",
              "      border-radius: 50%;\n",
              "      cursor: pointer;\n",
              "      display: none;\n",
              "      fill: #1967D2;\n",
              "      height: 32px;\n",
              "      padding: 0 0 0 0;\n",
              "      width: 32px;\n",
              "    }\n",
              "\n",
              "    .colab-df-convert:hover {\n",
              "      background-color: #E2EBFA;\n",
              "      box-shadow: 0px 1px 2px rgba(60, 64, 67, 0.3), 0px 1px 3px 1px rgba(60, 64, 67, 0.15);\n",
              "      fill: #174EA6;\n",
              "    }\n",
              "\n",
              "    [theme=dark] .colab-df-convert {\n",
              "      background-color: #3B4455;\n",
              "      fill: #D2E3FC;\n",
              "    }\n",
              "\n",
              "    [theme=dark] .colab-df-convert:hover {\n",
              "      background-color: #434B5C;\n",
              "      box-shadow: 0px 1px 3px 1px rgba(0, 0, 0, 0.15);\n",
              "      filter: drop-shadow(0px 1px 2px rgba(0, 0, 0, 0.3));\n",
              "      fill: #FFFFFF;\n",
              "    }\n",
              "  </style>\n",
              "\n",
              "      <script>\n",
              "        const buttonEl =\n",
              "          document.querySelector('#df-a40dc3ce-96e5-4a93-81f3-a5d5c6bebf0d button.colab-df-convert');\n",
              "        buttonEl.style.display =\n",
              "          google.colab.kernel.accessAllowed ? 'block' : 'none';\n",
              "\n",
              "        async function convertToInteractive(key) {\n",
              "          const element = document.querySelector('#df-a40dc3ce-96e5-4a93-81f3-a5d5c6bebf0d');\n",
              "          const dataTable =\n",
              "            await google.colab.kernel.invokeFunction('convertToInteractive',\n",
              "                                                     [key], {});\n",
              "          if (!dataTable) return;\n",
              "\n",
              "          const docLinkHtml = 'Like what you see? Visit the ' +\n",
              "            '<a target=\"_blank\" href=https://colab.research.google.com/notebooks/data_table.ipynb>data table notebook</a>'\n",
              "            + ' to learn more about interactive tables.';\n",
              "          element.innerHTML = '';\n",
              "          dataTable['output_type'] = 'display_data';\n",
              "          await google.colab.output.renderOutput(dataTable, element);\n",
              "          const docLink = document.createElement('div');\n",
              "          docLink.innerHTML = docLinkHtml;\n",
              "          element.appendChild(docLink);\n",
              "        }\n",
              "      </script>\n",
              "    </div>\n",
              "  </div>\n",
              "  "
            ]
          },
          "metadata": {},
          "execution_count": 7
        }
      ],
      "source": [
        "# sampling data taking only 50% of the data\n",
        "# bin_data = bin_data_total.groupby('label', group_keys=False).apply(lambda x: x.sample(frac=0.5))\n",
        "bin_data = bin_data_total\n",
        "bin_data"
      ]
    },
    {
      "cell_type": "code",
      "source": [
        "number_of_cols = bin_data.shape[1]"
      ],
      "metadata": {
        "id": "N125Cc3Ukt8h"
      },
      "execution_count": 8,
      "outputs": []
    },
    {
      "cell_type": "code",
      "execution_count": 9,
      "metadata": {
        "id": "nKX2TRG0J85J",
        "colab": {
          "base_uri": "https://localhost:8080/"
        },
        "outputId": "69459df1-f729-4f3b-b933-700af41fd581"
      },
      "outputs": [
        {
          "output_type": "execute_result",
          "data": {
            "text/plain": [
              "0.0    0.807147\n",
              "1.0    0.192853\n",
              "Name: label, dtype: float64"
            ]
          },
          "metadata": {},
          "execution_count": 9
        }
      ],
      "source": [
        "# distribution of label class after sampling\n",
        "data_size = bin_data.shape[0]\n",
        "bin_data.label.value_counts()/data_size"
      ]
    },
    {
      "cell_type": "code",
      "execution_count": 10,
      "metadata": {
        "id": "L11T2MepDzax"
      },
      "outputs": [],
      "source": [
        "model_selection = {\n",
        "    0 : \"ALL\",\n",
        "    2 : \"MLP\",\n",
        "    3 : \"LSTM\",\n",
        "    4 : \"AE\"\n",
        "}\n",
        "model_flag = 0\n",
        "svm_enable = 1"
      ]
    },
    {
      "cell_type": "code",
      "execution_count": 11,
      "metadata": {
        "id": "OdRAXVlsxUVW"
      },
      "outputs": [],
      "source": [
        "X = bin_data.iloc[:,0:number_of_cols] # dataset excluding target attribute (encoded, one-hot-encoded,original)\n",
        "Y = bin_data['label'] # target attribute"
      ]
    },
    {
      "cell_type": "code",
      "execution_count": 12,
      "metadata": {
        "id": "lFdHHvRtxU5B"
      },
      "outputs": [],
      "source": [
        "# splitting the dataset 75% for training and 25% testing\n",
        "X_train, X_test, y_train, y_test = train_test_split(X,Y, test_size=0.25, random_state=42) "
      ]
    },
    {
      "cell_type": "code",
      "source": [
        "# calling the normalization() function\n",
        "X_train = normalization_train(X_train,numeric_cols)\n",
        "X_train.head()"
      ],
      "metadata": {
        "id": "SLLlMtsaYJdK",
        "colab": {
          "base_uri": "https://localhost:8080/",
          "height": 404
        },
        "outputId": "b96be622-aed6-4861-b84b-4d51f327ca46"
      },
      "execution_count": 13,
      "outputs": [
        {
          "output_type": "execute_result",
          "data": {
            "text/plain": [
              "             X1        X2        X3        X4        X5        X6        X7  \\\n",
              "5975   0.110474  0.000338  0.000046  0.130501  0.000440  0.000054  0.154339   \n",
              "9698   0.575951  0.961402  0.353665  0.703392  0.961416  0.338143  0.880259   \n",
              "21911  0.630502  0.968609  0.569200  0.742437  0.977272  0.512854  0.885092   \n",
              "20142  0.884045  0.994619  0.484878  0.911936  0.994806  0.461707  0.945516   \n",
              "13954  0.518538  0.937596  0.696532  0.650543  0.956375  0.592511  0.843745   \n",
              "\n",
              "             X8        X9       X10  ...      X108      X109          X110  \\\n",
              "5975   0.000451  0.000092  0.162370  ...  0.451932  0.449341  1.332268e-15   \n",
              "9698   0.964982  0.432851  0.978708  ...  0.472340  0.825003  9.903718e-01   \n",
              "21911  0.989823  0.614979  0.955825  ...  0.472340  0.908707  9.894438e-01   \n",
              "20142  0.995549  0.596584  0.961749  ...  0.472340  0.909069  9.897126e-01   \n",
              "13954  0.979400  0.670169  0.949421  ...  0.472340  0.905567  9.898716e-01   \n",
              "\n",
              "               X111      X112      X113      X114      X115  Unnamed: 0  label  \n",
              "5975   1.848206e-09  0.905317  0.198875  0.833528  0.728881    0.469218    0.0  \n",
              "9698   8.130646e-01  0.990372  0.661074  0.567928  0.485739    0.197906    0.0  \n",
              "21911  8.255333e-01  0.989444  0.681505  0.567928  0.485739    0.753014    1.0  \n",
              "20142  8.246921e-01  0.989713  0.680117  0.567928  0.485739    0.831171    1.0  \n",
              "13954  8.241409e-01  0.989872  0.679208  0.567928  0.485739    0.495092    0.0  \n",
              "\n",
              "[5 rows x 117 columns]"
            ],
            "text/html": [
              "\n",
              "  <div id=\"df-76c08080-9601-4cb9-9ff3-213c9c393bbe\">\n",
              "    <div class=\"colab-df-container\">\n",
              "      <div>\n",
              "<style scoped>\n",
              "    .dataframe tbody tr th:only-of-type {\n",
              "        vertical-align: middle;\n",
              "    }\n",
              "\n",
              "    .dataframe tbody tr th {\n",
              "        vertical-align: top;\n",
              "    }\n",
              "\n",
              "    .dataframe thead th {\n",
              "        text-align: right;\n",
              "    }\n",
              "</style>\n",
              "<table border=\"1\" class=\"dataframe\">\n",
              "  <thead>\n",
              "    <tr style=\"text-align: right;\">\n",
              "      <th></th>\n",
              "      <th>X1</th>\n",
              "      <th>X2</th>\n",
              "      <th>X3</th>\n",
              "      <th>X4</th>\n",
              "      <th>X5</th>\n",
              "      <th>X6</th>\n",
              "      <th>X7</th>\n",
              "      <th>X8</th>\n",
              "      <th>X9</th>\n",
              "      <th>X10</th>\n",
              "      <th>...</th>\n",
              "      <th>X108</th>\n",
              "      <th>X109</th>\n",
              "      <th>X110</th>\n",
              "      <th>X111</th>\n",
              "      <th>X112</th>\n",
              "      <th>X113</th>\n",
              "      <th>X114</th>\n",
              "      <th>X115</th>\n",
              "      <th>Unnamed: 0</th>\n",
              "      <th>label</th>\n",
              "    </tr>\n",
              "  </thead>\n",
              "  <tbody>\n",
              "    <tr>\n",
              "      <th>5975</th>\n",
              "      <td>0.110474</td>\n",
              "      <td>0.000338</td>\n",
              "      <td>0.000046</td>\n",
              "      <td>0.130501</td>\n",
              "      <td>0.000440</td>\n",
              "      <td>0.000054</td>\n",
              "      <td>0.154339</td>\n",
              "      <td>0.000451</td>\n",
              "      <td>0.000092</td>\n",
              "      <td>0.162370</td>\n",
              "      <td>...</td>\n",
              "      <td>0.451932</td>\n",
              "      <td>0.449341</td>\n",
              "      <td>1.332268e-15</td>\n",
              "      <td>1.848206e-09</td>\n",
              "      <td>0.905317</td>\n",
              "      <td>0.198875</td>\n",
              "      <td>0.833528</td>\n",
              "      <td>0.728881</td>\n",
              "      <td>0.469218</td>\n",
              "      <td>0.0</td>\n",
              "    </tr>\n",
              "    <tr>\n",
              "      <th>9698</th>\n",
              "      <td>0.575951</td>\n",
              "      <td>0.961402</td>\n",
              "      <td>0.353665</td>\n",
              "      <td>0.703392</td>\n",
              "      <td>0.961416</td>\n",
              "      <td>0.338143</td>\n",
              "      <td>0.880259</td>\n",
              "      <td>0.964982</td>\n",
              "      <td>0.432851</td>\n",
              "      <td>0.978708</td>\n",
              "      <td>...</td>\n",
              "      <td>0.472340</td>\n",
              "      <td>0.825003</td>\n",
              "      <td>9.903718e-01</td>\n",
              "      <td>8.130646e-01</td>\n",
              "      <td>0.990372</td>\n",
              "      <td>0.661074</td>\n",
              "      <td>0.567928</td>\n",
              "      <td>0.485739</td>\n",
              "      <td>0.197906</td>\n",
              "      <td>0.0</td>\n",
              "    </tr>\n",
              "    <tr>\n",
              "      <th>21911</th>\n",
              "      <td>0.630502</td>\n",
              "      <td>0.968609</td>\n",
              "      <td>0.569200</td>\n",
              "      <td>0.742437</td>\n",
              "      <td>0.977272</td>\n",
              "      <td>0.512854</td>\n",
              "      <td>0.885092</td>\n",
              "      <td>0.989823</td>\n",
              "      <td>0.614979</td>\n",
              "      <td>0.955825</td>\n",
              "      <td>...</td>\n",
              "      <td>0.472340</td>\n",
              "      <td>0.908707</td>\n",
              "      <td>9.894438e-01</td>\n",
              "      <td>8.255333e-01</td>\n",
              "      <td>0.989444</td>\n",
              "      <td>0.681505</td>\n",
              "      <td>0.567928</td>\n",
              "      <td>0.485739</td>\n",
              "      <td>0.753014</td>\n",
              "      <td>1.0</td>\n",
              "    </tr>\n",
              "    <tr>\n",
              "      <th>20142</th>\n",
              "      <td>0.884045</td>\n",
              "      <td>0.994619</td>\n",
              "      <td>0.484878</td>\n",
              "      <td>0.911936</td>\n",
              "      <td>0.994806</td>\n",
              "      <td>0.461707</td>\n",
              "      <td>0.945516</td>\n",
              "      <td>0.995549</td>\n",
              "      <td>0.596584</td>\n",
              "      <td>0.961749</td>\n",
              "      <td>...</td>\n",
              "      <td>0.472340</td>\n",
              "      <td>0.909069</td>\n",
              "      <td>9.897126e-01</td>\n",
              "      <td>8.246921e-01</td>\n",
              "      <td>0.989713</td>\n",
              "      <td>0.680117</td>\n",
              "      <td>0.567928</td>\n",
              "      <td>0.485739</td>\n",
              "      <td>0.831171</td>\n",
              "      <td>1.0</td>\n",
              "    </tr>\n",
              "    <tr>\n",
              "      <th>13954</th>\n",
              "      <td>0.518538</td>\n",
              "      <td>0.937596</td>\n",
              "      <td>0.696532</td>\n",
              "      <td>0.650543</td>\n",
              "      <td>0.956375</td>\n",
              "      <td>0.592511</td>\n",
              "      <td>0.843745</td>\n",
              "      <td>0.979400</td>\n",
              "      <td>0.670169</td>\n",
              "      <td>0.949421</td>\n",
              "      <td>...</td>\n",
              "      <td>0.472340</td>\n",
              "      <td>0.905567</td>\n",
              "      <td>9.898716e-01</td>\n",
              "      <td>8.241409e-01</td>\n",
              "      <td>0.989872</td>\n",
              "      <td>0.679208</td>\n",
              "      <td>0.567928</td>\n",
              "      <td>0.485739</td>\n",
              "      <td>0.495092</td>\n",
              "      <td>0.0</td>\n",
              "    </tr>\n",
              "  </tbody>\n",
              "</table>\n",
              "<p>5 rows × 117 columns</p>\n",
              "</div>\n",
              "      <button class=\"colab-df-convert\" onclick=\"convertToInteractive('df-76c08080-9601-4cb9-9ff3-213c9c393bbe')\"\n",
              "              title=\"Convert this dataframe to an interactive table.\"\n",
              "              style=\"display:none;\">\n",
              "        \n",
              "  <svg xmlns=\"http://www.w3.org/2000/svg\" height=\"24px\"viewBox=\"0 0 24 24\"\n",
              "       width=\"24px\">\n",
              "    <path d=\"M0 0h24v24H0V0z\" fill=\"none\"/>\n",
              "    <path d=\"M18.56 5.44l.94 2.06.94-2.06 2.06-.94-2.06-.94-.94-2.06-.94 2.06-2.06.94zm-11 1L8.5 8.5l.94-2.06 2.06-.94-2.06-.94L8.5 2.5l-.94 2.06-2.06.94zm10 10l.94 2.06.94-2.06 2.06-.94-2.06-.94-.94-2.06-.94 2.06-2.06.94z\"/><path d=\"M17.41 7.96l-1.37-1.37c-.4-.4-.92-.59-1.43-.59-.52 0-1.04.2-1.43.59L10.3 9.45l-7.72 7.72c-.78.78-.78 2.05 0 2.83L4 21.41c.39.39.9.59 1.41.59.51 0 1.02-.2 1.41-.59l7.78-7.78 2.81-2.81c.8-.78.8-2.07 0-2.86zM5.41 20L4 18.59l7.72-7.72 1.47 1.35L5.41 20z\"/>\n",
              "  </svg>\n",
              "      </button>\n",
              "      \n",
              "  <style>\n",
              "    .colab-df-container {\n",
              "      display:flex;\n",
              "      flex-wrap:wrap;\n",
              "      gap: 12px;\n",
              "    }\n",
              "\n",
              "    .colab-df-convert {\n",
              "      background-color: #E8F0FE;\n",
              "      border: none;\n",
              "      border-radius: 50%;\n",
              "      cursor: pointer;\n",
              "      display: none;\n",
              "      fill: #1967D2;\n",
              "      height: 32px;\n",
              "      padding: 0 0 0 0;\n",
              "      width: 32px;\n",
              "    }\n",
              "\n",
              "    .colab-df-convert:hover {\n",
              "      background-color: #E2EBFA;\n",
              "      box-shadow: 0px 1px 2px rgba(60, 64, 67, 0.3), 0px 1px 3px 1px rgba(60, 64, 67, 0.15);\n",
              "      fill: #174EA6;\n",
              "    }\n",
              "\n",
              "    [theme=dark] .colab-df-convert {\n",
              "      background-color: #3B4455;\n",
              "      fill: #D2E3FC;\n",
              "    }\n",
              "\n",
              "    [theme=dark] .colab-df-convert:hover {\n",
              "      background-color: #434B5C;\n",
              "      box-shadow: 0px 1px 3px 1px rgba(0, 0, 0, 0.15);\n",
              "      filter: drop-shadow(0px 1px 2px rgba(0, 0, 0, 0.3));\n",
              "      fill: #FFFFFF;\n",
              "    }\n",
              "  </style>\n",
              "\n",
              "      <script>\n",
              "        const buttonEl =\n",
              "          document.querySelector('#df-76c08080-9601-4cb9-9ff3-213c9c393bbe button.colab-df-convert');\n",
              "        buttonEl.style.display =\n",
              "          google.colab.kernel.accessAllowed ? 'block' : 'none';\n",
              "\n",
              "        async function convertToInteractive(key) {\n",
              "          const element = document.querySelector('#df-76c08080-9601-4cb9-9ff3-213c9c393bbe');\n",
              "          const dataTable =\n",
              "            await google.colab.kernel.invokeFunction('convertToInteractive',\n",
              "                                                     [key], {});\n",
              "          if (!dataTable) return;\n",
              "\n",
              "          const docLinkHtml = 'Like what you see? Visit the ' +\n",
              "            '<a target=\"_blank\" href=https://colab.research.google.com/notebooks/data_table.ipynb>data table notebook</a>'\n",
              "            + ' to learn more about interactive tables.';\n",
              "          element.innerHTML = '';\n",
              "          dataTable['output_type'] = 'display_data';\n",
              "          await google.colab.output.renderOutput(dataTable, element);\n",
              "          const docLink = document.createElement('div');\n",
              "          docLink.innerHTML = docLinkHtml;\n",
              "          element.appendChild(docLink);\n",
              "        }\n",
              "      </script>\n",
              "    </div>\n",
              "  </div>\n",
              "  "
            ]
          },
          "metadata": {},
          "execution_count": 13
        }
      ]
    },
    {
      "cell_type": "code",
      "source": [
        "# calling the normalization() function\n",
        "X_test = normalization_test(X_test,numeric_cols)\n",
        "X_test.head()"
      ],
      "metadata": {
        "id": "EKmhgZCobPU3",
        "colab": {
          "base_uri": "https://localhost:8080/",
          "height": 317
        },
        "outputId": "3a0bb46b-e441-47f1-c194-e178142c23fe"
      },
      "execution_count": 14,
      "outputs": [
        {
          "output_type": "execute_result",
          "data": {
            "text/plain": [
              "             X1        X2        X3        X4        X5        X6        X7  \\\n",
              "134   -0.000025  0.000469  0.072234  0.000024  0.000473  0.068096  0.000280   \n",
              "6631  -0.000086 -0.000071  0.000081 -0.000078 -0.000071  0.000042 -0.000036   \n",
              "12551 -0.000028  0.000472  0.068439  0.000024  0.000474  0.067099  0.000284   \n",
              "3394  -0.000084 -0.000072 -0.000098 -0.000075 -0.000072 -0.000098 -0.000034   \n",
              "21141 -0.000039  0.000499  0.077702  0.000010  0.000498  0.079689  0.000261   \n",
              "\n",
              "             X8        X9       X10  ...      X108      X109      X110  \\\n",
              "134    0.000477  0.064601  0.003783  ... -0.000098  0.012028  0.000498   \n",
              "6631  -0.000071 -0.000034  0.000533  ... -0.000098  0.006143 -0.000072   \n",
              "12551  0.000477  0.064613  0.003793  ... -0.000098  0.012459  0.000497   \n",
              "3394  -0.000072 -0.000091  0.000536  ... -0.000098  0.006180 -0.000072   \n",
              "21141  0.000499  0.081208  0.003646  ... -0.000098  0.012403  0.000499   \n",
              "\n",
              "           X111      X112      X113      X114      X115  Unnamed: 0  label  \n",
              "134    0.000090  0.000498  0.079834 -0.000098 -0.000098    0.284208    0.0  \n",
              "6631  -0.000098  0.000451  0.023397 -0.000098 -0.000098    0.670116    0.0  \n",
              "12551  0.000092  0.000497  0.081076 -0.000098 -0.000098    0.972258    0.0  \n",
              "3394  -0.000098  0.000450  0.023799 -0.000098 -0.000098    0.927078    0.0  \n",
              "21141  0.000091  0.000499  0.080622 -0.000098 -0.000098    0.873440    1.0  \n",
              "\n",
              "[5 rows x 117 columns]"
            ],
            "text/html": [
              "\n",
              "  <div id=\"df-50a4202b-fd86-4e96-ad50-e1ab36cc4c0f\">\n",
              "    <div class=\"colab-df-container\">\n",
              "      <div>\n",
              "<style scoped>\n",
              "    .dataframe tbody tr th:only-of-type {\n",
              "        vertical-align: middle;\n",
              "    }\n",
              "\n",
              "    .dataframe tbody tr th {\n",
              "        vertical-align: top;\n",
              "    }\n",
              "\n",
              "    .dataframe thead th {\n",
              "        text-align: right;\n",
              "    }\n",
              "</style>\n",
              "<table border=\"1\" class=\"dataframe\">\n",
              "  <thead>\n",
              "    <tr style=\"text-align: right;\">\n",
              "      <th></th>\n",
              "      <th>X1</th>\n",
              "      <th>X2</th>\n",
              "      <th>X3</th>\n",
              "      <th>X4</th>\n",
              "      <th>X5</th>\n",
              "      <th>X6</th>\n",
              "      <th>X7</th>\n",
              "      <th>X8</th>\n",
              "      <th>X9</th>\n",
              "      <th>X10</th>\n",
              "      <th>...</th>\n",
              "      <th>X108</th>\n",
              "      <th>X109</th>\n",
              "      <th>X110</th>\n",
              "      <th>X111</th>\n",
              "      <th>X112</th>\n",
              "      <th>X113</th>\n",
              "      <th>X114</th>\n",
              "      <th>X115</th>\n",
              "      <th>Unnamed: 0</th>\n",
              "      <th>label</th>\n",
              "    </tr>\n",
              "  </thead>\n",
              "  <tbody>\n",
              "    <tr>\n",
              "      <th>134</th>\n",
              "      <td>-0.000025</td>\n",
              "      <td>0.000469</td>\n",
              "      <td>0.072234</td>\n",
              "      <td>0.000024</td>\n",
              "      <td>0.000473</td>\n",
              "      <td>0.068096</td>\n",
              "      <td>0.000280</td>\n",
              "      <td>0.000477</td>\n",
              "      <td>0.064601</td>\n",
              "      <td>0.003783</td>\n",
              "      <td>...</td>\n",
              "      <td>-0.000098</td>\n",
              "      <td>0.012028</td>\n",
              "      <td>0.000498</td>\n",
              "      <td>0.000090</td>\n",
              "      <td>0.000498</td>\n",
              "      <td>0.079834</td>\n",
              "      <td>-0.000098</td>\n",
              "      <td>-0.000098</td>\n",
              "      <td>0.284208</td>\n",
              "      <td>0.0</td>\n",
              "    </tr>\n",
              "    <tr>\n",
              "      <th>6631</th>\n",
              "      <td>-0.000086</td>\n",
              "      <td>-0.000071</td>\n",
              "      <td>0.000081</td>\n",
              "      <td>-0.000078</td>\n",
              "      <td>-0.000071</td>\n",
              "      <td>0.000042</td>\n",
              "      <td>-0.000036</td>\n",
              "      <td>-0.000071</td>\n",
              "      <td>-0.000034</td>\n",
              "      <td>0.000533</td>\n",
              "      <td>...</td>\n",
              "      <td>-0.000098</td>\n",
              "      <td>0.006143</td>\n",
              "      <td>-0.000072</td>\n",
              "      <td>-0.000098</td>\n",
              "      <td>0.000451</td>\n",
              "      <td>0.023397</td>\n",
              "      <td>-0.000098</td>\n",
              "      <td>-0.000098</td>\n",
              "      <td>0.670116</td>\n",
              "      <td>0.0</td>\n",
              "    </tr>\n",
              "    <tr>\n",
              "      <th>12551</th>\n",
              "      <td>-0.000028</td>\n",
              "      <td>0.000472</td>\n",
              "      <td>0.068439</td>\n",
              "      <td>0.000024</td>\n",
              "      <td>0.000474</td>\n",
              "      <td>0.067099</td>\n",
              "      <td>0.000284</td>\n",
              "      <td>0.000477</td>\n",
              "      <td>0.064613</td>\n",
              "      <td>0.003793</td>\n",
              "      <td>...</td>\n",
              "      <td>-0.000098</td>\n",
              "      <td>0.012459</td>\n",
              "      <td>0.000497</td>\n",
              "      <td>0.000092</td>\n",
              "      <td>0.000497</td>\n",
              "      <td>0.081076</td>\n",
              "      <td>-0.000098</td>\n",
              "      <td>-0.000098</td>\n",
              "      <td>0.972258</td>\n",
              "      <td>0.0</td>\n",
              "    </tr>\n",
              "    <tr>\n",
              "      <th>3394</th>\n",
              "      <td>-0.000084</td>\n",
              "      <td>-0.000072</td>\n",
              "      <td>-0.000098</td>\n",
              "      <td>-0.000075</td>\n",
              "      <td>-0.000072</td>\n",
              "      <td>-0.000098</td>\n",
              "      <td>-0.000034</td>\n",
              "      <td>-0.000072</td>\n",
              "      <td>-0.000091</td>\n",
              "      <td>0.000536</td>\n",
              "      <td>...</td>\n",
              "      <td>-0.000098</td>\n",
              "      <td>0.006180</td>\n",
              "      <td>-0.000072</td>\n",
              "      <td>-0.000098</td>\n",
              "      <td>0.000450</td>\n",
              "      <td>0.023799</td>\n",
              "      <td>-0.000098</td>\n",
              "      <td>-0.000098</td>\n",
              "      <td>0.927078</td>\n",
              "      <td>0.0</td>\n",
              "    </tr>\n",
              "    <tr>\n",
              "      <th>21141</th>\n",
              "      <td>-0.000039</td>\n",
              "      <td>0.000499</td>\n",
              "      <td>0.077702</td>\n",
              "      <td>0.000010</td>\n",
              "      <td>0.000498</td>\n",
              "      <td>0.079689</td>\n",
              "      <td>0.000261</td>\n",
              "      <td>0.000499</td>\n",
              "      <td>0.081208</td>\n",
              "      <td>0.003646</td>\n",
              "      <td>...</td>\n",
              "      <td>-0.000098</td>\n",
              "      <td>0.012403</td>\n",
              "      <td>0.000499</td>\n",
              "      <td>0.000091</td>\n",
              "      <td>0.000499</td>\n",
              "      <td>0.080622</td>\n",
              "      <td>-0.000098</td>\n",
              "      <td>-0.000098</td>\n",
              "      <td>0.873440</td>\n",
              "      <td>1.0</td>\n",
              "    </tr>\n",
              "  </tbody>\n",
              "</table>\n",
              "<p>5 rows × 117 columns</p>\n",
              "</div>\n",
              "      <button class=\"colab-df-convert\" onclick=\"convertToInteractive('df-50a4202b-fd86-4e96-ad50-e1ab36cc4c0f')\"\n",
              "              title=\"Convert this dataframe to an interactive table.\"\n",
              "              style=\"display:none;\">\n",
              "        \n",
              "  <svg xmlns=\"http://www.w3.org/2000/svg\" height=\"24px\"viewBox=\"0 0 24 24\"\n",
              "       width=\"24px\">\n",
              "    <path d=\"M0 0h24v24H0V0z\" fill=\"none\"/>\n",
              "    <path d=\"M18.56 5.44l.94 2.06.94-2.06 2.06-.94-2.06-.94-.94-2.06-.94 2.06-2.06.94zm-11 1L8.5 8.5l.94-2.06 2.06-.94-2.06-.94L8.5 2.5l-.94 2.06-2.06.94zm10 10l.94 2.06.94-2.06 2.06-.94-2.06-.94-.94-2.06-.94 2.06-2.06.94z\"/><path d=\"M17.41 7.96l-1.37-1.37c-.4-.4-.92-.59-1.43-.59-.52 0-1.04.2-1.43.59L10.3 9.45l-7.72 7.72c-.78.78-.78 2.05 0 2.83L4 21.41c.39.39.9.59 1.41.59.51 0 1.02-.2 1.41-.59l7.78-7.78 2.81-2.81c.8-.78.8-2.07 0-2.86zM5.41 20L4 18.59l7.72-7.72 1.47 1.35L5.41 20z\"/>\n",
              "  </svg>\n",
              "      </button>\n",
              "      \n",
              "  <style>\n",
              "    .colab-df-container {\n",
              "      display:flex;\n",
              "      flex-wrap:wrap;\n",
              "      gap: 12px;\n",
              "    }\n",
              "\n",
              "    .colab-df-convert {\n",
              "      background-color: #E8F0FE;\n",
              "      border: none;\n",
              "      border-radius: 50%;\n",
              "      cursor: pointer;\n",
              "      display: none;\n",
              "      fill: #1967D2;\n",
              "      height: 32px;\n",
              "      padding: 0 0 0 0;\n",
              "      width: 32px;\n",
              "    }\n",
              "\n",
              "    .colab-df-convert:hover {\n",
              "      background-color: #E2EBFA;\n",
              "      box-shadow: 0px 1px 2px rgba(60, 64, 67, 0.3), 0px 1px 3px 1px rgba(60, 64, 67, 0.15);\n",
              "      fill: #174EA6;\n",
              "    }\n",
              "\n",
              "    [theme=dark] .colab-df-convert {\n",
              "      background-color: #3B4455;\n",
              "      fill: #D2E3FC;\n",
              "    }\n",
              "\n",
              "    [theme=dark] .colab-df-convert:hover {\n",
              "      background-color: #434B5C;\n",
              "      box-shadow: 0px 1px 3px 1px rgba(0, 0, 0, 0.15);\n",
              "      filter: drop-shadow(0px 1px 2px rgba(0, 0, 0, 0.3));\n",
              "      fill: #FFFFFF;\n",
              "    }\n",
              "  </style>\n",
              "\n",
              "      <script>\n",
              "        const buttonEl =\n",
              "          document.querySelector('#df-50a4202b-fd86-4e96-ad50-e1ab36cc4c0f button.colab-df-convert');\n",
              "        buttonEl.style.display =\n",
              "          google.colab.kernel.accessAllowed ? 'block' : 'none';\n",
              "\n",
              "        async function convertToInteractive(key) {\n",
              "          const element = document.querySelector('#df-50a4202b-fd86-4e96-ad50-e1ab36cc4c0f');\n",
              "          const dataTable =\n",
              "            await google.colab.kernel.invokeFunction('convertToInteractive',\n",
              "                                                     [key], {});\n",
              "          if (!dataTable) return;\n",
              "\n",
              "          const docLinkHtml = 'Like what you see? Visit the ' +\n",
              "            '<a target=\"_blank\" href=https://colab.research.google.com/notebooks/data_table.ipynb>data table notebook</a>'\n",
              "            + ' to learn more about interactive tables.';\n",
              "          element.innerHTML = '';\n",
              "          dataTable['output_type'] = 'display_data';\n",
              "          await google.colab.output.renderOutput(dataTable, element);\n",
              "          const docLink = document.createElement('div');\n",
              "          docLink.innerHTML = docLinkHtml;\n",
              "          element.appendChild(docLink);\n",
              "        }\n",
              "      </script>\n",
              "    </div>\n",
              "  </div>\n",
              "  "
            ]
          },
          "metadata": {},
          "execution_count": 14
        }
      ]
    },
    {
      "cell_type": "markdown",
      "metadata": {
        "id": "ZfAbEIDgz4iY"
      },
      "source": [
        "## **Linear Support Vector Machine Classifier (Binary Classification) **\n",
        "to enable make the svm_enable = 1 in the above cell"
      ]
    },
    {
      "cell_type": "code",
      "execution_count": 15,
      "metadata": {
        "id": "o8GdMBjdzFQT"
      },
      "outputs": [],
      "source": [
        "if svm_enable:\n",
        "  # using kernel as linear \n",
        "  lsvm = SVC(kernel='linear',gamma='auto') \n",
        "  lsvm.fit(X_train,y_train) # training model on training dataset"
      ]
    },
    {
      "cell_type": "code",
      "execution_count": 16,
      "metadata": {
        "id": "NjfYZA_9zTNK",
        "colab": {
          "base_uri": "https://localhost:8080/"
        },
        "outputId": "b3793988-9853-4f56-8b09-98a66d348ea0"
      },
      "outputs": [
        {
          "output_type": "stream",
          "name": "stdout",
          "text": [
            "Saved model to disk\n",
            "Loaded model from disk\n"
          ]
        }
      ],
      "source": [
        "if svm_enable:\n",
        "  pkl_filename = \"/content/drive/MyDrive/Colab_Notebooks/Models/lsvm_binary\"+model_name_suffix+\".pkl\"\n",
        "  if (not path.isfile(pkl_filename)):\n",
        "    # saving the trained model to disk\n",
        "    with open(pkl_filename, 'wb') as file:\n",
        "      pickle.dump(lsvm, file)\n",
        "    print(\"Saved model to disk\")\n",
        "    # loading the trained model from disk\n",
        "    with open(pkl_filename, 'rb') as file:\n",
        "      lsvm = pickle.load(file)\n",
        "    print(\"Loaded model from disk\") "
      ]
    },
    {
      "cell_type": "code",
      "execution_count": 17,
      "metadata": {
        "id": "xsnN51Juzgcf",
        "colab": {
          "base_uri": "https://localhost:8080/"
        },
        "outputId": "1f68fc5f-883d-484f-821e-e6ea8f9cfdc4"
      },
      "outputs": [
        {
          "output_type": "stream",
          "name": "stdout",
          "text": [
            "LSVM-Classifier Binary Set-Accuracy is  85.58189271074674\n"
          ]
        }
      ],
      "source": [
        "if svm_enable:\n",
        "  y_pred = lsvm.predict(X_test) # predicting target attribute on testing dataset\n",
        "  ac = accuracy_score(y_test, y_pred)*100 # calculating accuracy of predicted data\n",
        "  print(\"LSVM-Classifier Binary Set-Accuracy is \", ac)"
      ]
    },
    {
      "cell_type": "code",
      "execution_count": 18,
      "metadata": {
        "id": "qg2gbJTg8NtL"
      },
      "outputs": [],
      "source": [
        "# import matplotlib.pyplot as plt\n",
        "# from sklearn.datasets import make_classification\n",
        "# from sklearn.metrics import confusion_matrix, ConfusionMatrixDisplay\n",
        "# from sklearn.model_selection import train_test_split\n",
        "# from sklearn.svm import SVC\n",
        "# X, y = make_classification(random_state=0)\n",
        "# X_train, X_test, y_train, y_test = train_test_split(X, y,\n",
        "#                                                     random_state=0)\n",
        "# cm = confusion_matrix(y_test, y_pred, labels=lsvm.classes_)\n",
        "# disp = ConfusionMatrixDisplay(confusion_matrix=cm,\n",
        "#                               display_labels=lsvm.classes_)\n",
        "# disp.plot()\n",
        "\n",
        "# plt.show()"
      ]
    },
    {
      "cell_type": "code",
      "execution_count": 19,
      "metadata": {
        "id": "9IydNlzT5kx6",
        "colab": {
          "base_uri": "https://localhost:8080/",
          "height": 587
        },
        "outputId": "9229c3e4-18fc-465c-a269-d406c2eb23c4"
      },
      "outputs": [
        {
          "output_type": "display_data",
          "data": {
            "text/plain": [
              "<Figure size 2000x800 with 1 Axes>"
            ],
            "image/png": "[encoded data removed]"
          },
          "metadata": {}
        }
      ],
      "source": [
        "if svm_enable:\n",
        "  plt.figure(figsize=(20,8))\n",
        "  plt.plot(y_pred[300:500], label=\"prediction\", linewidth=2.0,color='blue')\n",
        "  plt.plot(y_test[300:500].values, label=\"real_values\", linewidth=2.0,color='lightcoral')\n",
        "  plt.legend(loc=\"best\")\n",
        "  plt.ylim((-1,2))\n",
        "  plt.title(\"Linear SVM Binary Classification\")\n",
        "  plt.savefig('/content/drive/MyDrive/Colab_Notebooks/Plots/lsvm_real_pred_bin.png')\n",
        "  plt.show()"
      ]
    },
    {
      "cell_type": "code",
      "execution_count": 20,
      "metadata": {
        "id": "s9lqoveaUBvg",
        "colab": {
          "base_uri": "https://localhost:8080/"
        },
        "outputId": "ee50adea-b7f2-4397-9022-4f8584d9c421"
      },
      "outputs": [
        {
          "output_type": "stream",
          "name": "stdout",
          "text": [
            "              precision    recall  f1-score   support\n",
            "\n",
            "     class 0       0.85      1.00      0.92      4558\n",
            "     class 1       1.00      0.23      0.38      1053\n",
            "\n",
            "    accuracy                           0.86      5611\n",
            "   macro avg       0.92      0.62      0.65      5611\n",
            "weighted avg       0.88      0.86      0.82      5611\n",
            "\n",
            "False Positive Rate -  [1. 0.]\n",
            "False Negative Rate -  [0.        0.7682811]\n",
            "Thresholds -  [0. 1.]\n"
          ]
        }
      ],
      "source": [
        "if svm_enable:\n",
        "  target_names = ['class 0', 'class 1']\n",
        "  print(classification_report(y_test, y_pred, target_names=target_names))\n",
        "  fpr, fnr, thresholds = det_curve(y_test, y_pred)\n",
        "  print(\"False Positive Rate - \", fpr)\n",
        "  print(\"False Negative Rate - \", fnr)\n",
        "  print(\"Thresholds - \", thresholds)"
      ]
    },
    {
      "cell_type": "code",
      "execution_count": 21,
      "metadata": {
        "id": "kWxBZhnw9t5n",
        "colab": {
          "base_uri": "https://localhost:8080/",
          "height": 449
        },
        "outputId": "844da8d1-71c1-4d77-8930-11518be85715"
      },
      "outputs": [
        {
          "output_type": "display_data",
          "data": {
            "text/plain": [
              "<Figure size 640x480 with 2 Axes>"
            ],
            "image/png": "[encoded data removed]"
          },
          "metadata": {}
        }
      ],
      "source": [
        "if svm_enable:\n",
        "  from sklearn.metrics import confusion_matrix, ConfusionMatrixDisplay\n",
        "\n",
        "  clf = lsvm\n",
        "  cm = confusion_matrix(y_test, y_pred, labels=clf.classes_)\n",
        "  disp = ConfusionMatrixDisplay(confusion_matrix=cm,\n",
        "                                display_labels=clf.classes_)\n",
        "  disp.plot()\n",
        "\n",
        "  plt.show()"
      ]
    },
    {
      "cell_type": "markdown",
      "metadata": {
        "id": "PUjrwY2l0_RI"
      },
      "source": [
        "## **Multi Layer Perceptron Classifier (Binary Classification)**"
      ]
    },
    {
      "cell_type": "code",
      "execution_count": 22,
      "metadata": {
        "id": "u9v5Ylpa1DHY"
      },
      "outputs": [],
      "source": [
        "if model_selection[model_flag]==\"ALL\" or model_selection[model_flag] == \"MLP\":\n",
        "  mlp = Sequential() # creating model\n",
        "\n",
        "  # adding input layer and first layer with 50 neurons\n",
        "  mlp.add(Dense(units=50, input_dim=X_train.shape[1], activation='relu'))\n",
        "  # output layer with sigmoid activation\n",
        "  mlp.add(Dense(units=1,activation='sigmoid'))"
      ]
    },
    {
      "cell_type": "code",
      "execution_count": 23,
      "metadata": {
        "id": "E-9M9d0p1p8s"
      },
      "outputs": [],
      "source": [
        "if model_selection[model_flag]==\"ALL\" or model_selection[model_flag] == \"MLP\":\n",
        "  # defining loss function, optimizer, metrics and then compiling model\n",
        "  mlp.compile(loss='binary_crossentropy', optimizer='adam', metrics=['accuracy'])"
      ]
    },
    {
      "cell_type": "code",
      "execution_count": 24,
      "metadata": {
        "id": "NK-1_akm1vO9",
        "colab": {
          "base_uri": "https://localhost:8080/"
        },
        "outputId": "3eb55ecc-3841-418a-93f3-95abb44a231b"
      },
      "outputs": [
        {
          "output_type": "stream",
          "name": "stdout",
          "text": [
            "Model: \"sequential\"\n",
            "_________________________________________________________________\n",
            " Layer (type)                Output Shape              Param #   \n",
            "=================================================================\n",
            " dense (Dense)               (None, 50)                5900      \n",
            "                                                                 \n",
            " dense_1 (Dense)             (None, 1)                 51        \n",
            "                                                                 \n",
            "=================================================================\n",
            "Total params: 5,951\n",
            "Trainable params: 5,951\n",
            "Non-trainable params: 0\n",
            "_________________________________________________________________\n"
          ]
        }
      ],
      "source": [
        "if model_selection[model_flag]==\"ALL\" or model_selection[model_flag] == \"MLP\":\n",
        "  # summary of model layers\n",
        "  mlp.summary()"
      ]
    },
    {
      "cell_type": "code",
      "execution_count": 25,
      "metadata": {
        "id": "UYZ4xCgp13gP",
        "colab": {
          "base_uri": "https://localhost:8080/"
        },
        "outputId": "7e657a82-ef0b-43b8-c01c-557b9ff3f2a2"
      },
      "outputs": [
        {
          "output_type": "stream",
          "name": "stdout",
          "text": [
            "Epoch 1/100\n",
            "3/3 [==============================] - 6s 153ms/step - loss: 0.7294 - accuracy: 0.4320 - val_loss: 0.5842 - val_accuracy: 0.7971\n",
            "Epoch 2/100\n",
            "3/3 [==============================] - 0s 33ms/step - loss: 0.5461 - accuracy: 0.8075 - val_loss: 0.5107 - val_accuracy: 0.7971\n",
            "Epoch 3/100\n",
            "3/3 [==============================] - 0s 30ms/step - loss: 0.4952 - accuracy: 0.8075 - val_loss: 0.5172 - val_accuracy: 0.7971\n",
            "Epoch 4/100\n",
            "3/3 [==============================] - 0s 27ms/step - loss: 0.4999 - accuracy: 0.8075 - val_loss: 0.5213 - val_accuracy: 0.7971\n",
            "Epoch 5/100\n",
            "3/3 [==============================] - 0s 34ms/step - loss: 0.4967 - accuracy: 0.8075 - val_loss: 0.5047 - val_accuracy: 0.7971\n",
            "Epoch 6/100\n",
            "3/3 [==============================] - 0s 30ms/step - loss: 0.4804 - accuracy: 0.8075 - val_loss: 0.4866 - val_accuracy: 0.7971\n",
            "Epoch 7/100\n",
            "3/3 [==============================] - 0s 32ms/step - loss: 0.4680 - accuracy: 0.8075 - val_loss: 0.4765 - val_accuracy: 0.7971\n",
            "Epoch 8/100\n",
            "3/3 [==============================] - 0s 38ms/step - loss: 0.4617 - accuracy: 0.8075 - val_loss: 0.4680 - val_accuracy: 0.7971\n",
            "Epoch 9/100\n",
            "3/3 [==============================] - 0s 33ms/step - loss: 0.4522 - accuracy: 0.8075 - val_loss: 0.4589 - val_accuracy: 0.7971\n",
            "Epoch 10/100\n",
            "3/3 [==============================] - 0s 28ms/step - loss: 0.4445 - accuracy: 0.8075 - val_loss: 0.4558 - val_accuracy: 0.7971\n",
            "Epoch 11/100\n",
            "3/3 [==============================] - 0s 28ms/step - loss: 0.4399 - accuracy: 0.8075 - val_loss: 0.4514 - val_accuracy: 0.7971\n",
            "Epoch 12/100\n",
            "3/3 [==============================] - 0s 31ms/step - loss: 0.4348 - accuracy: 0.8075 - val_loss: 0.4446 - val_accuracy: 0.7971\n",
            "Epoch 13/100\n",
            "3/3 [==============================] - 0s 25ms/step - loss: 0.4285 - accuracy: 0.8075 - val_loss: 0.4378 - val_accuracy: 0.7974\n",
            "Epoch 14/100\n",
            "3/3 [==============================] - 0s 35ms/step - loss: 0.4229 - accuracy: 0.8077 - val_loss: 0.4318 - val_accuracy: 0.7974\n",
            "Epoch 15/100\n",
            "3/3 [==============================] - 0s 33ms/step - loss: 0.4175 - accuracy: 0.8089 - val_loss: 0.4259 - val_accuracy: 0.7989\n",
            "Epoch 16/100\n",
            "3/3 [==============================] - 0s 34ms/step - loss: 0.4116 - accuracy: 0.8104 - val_loss: 0.4206 - val_accuracy: 0.7989\n",
            "Epoch 17/100\n",
            "3/3 [==============================] - 0s 27ms/step - loss: 0.4059 - accuracy: 0.8107 - val_loss: 0.4151 - val_accuracy: 0.7989\n",
            "Epoch 18/100\n",
            "3/3 [==============================] - 0s 31ms/step - loss: 0.4000 - accuracy: 0.8107 - val_loss: 0.4084 - val_accuracy: 0.7989\n",
            "Epoch 19/100\n",
            "3/3 [==============================] - 0s 35ms/step - loss: 0.3938 - accuracy: 0.8107 - val_loss: 0.4010 - val_accuracy: 0.7989\n",
            "Epoch 20/100\n",
            "3/3 [==============================] - 0s 35ms/step - loss: 0.3868 - accuracy: 0.8107 - val_loss: 0.3939 - val_accuracy: 0.7989\n",
            "Epoch 21/100\n",
            "3/3 [==============================] - 0s 29ms/step - loss: 0.3802 - accuracy: 0.8107 - val_loss: 0.3878 - val_accuracy: 0.7989\n",
            "Epoch 22/100\n",
            "3/3 [==============================] - 0s 35ms/step - loss: 0.3740 - accuracy: 0.8107 - val_loss: 0.3820 - val_accuracy: 0.7989\n",
            "Epoch 23/100\n",
            "3/3 [==============================] - 0s 31ms/step - loss: 0.3681 - accuracy: 0.8108 - val_loss: 0.3758 - val_accuracy: 0.7989\n",
            "Epoch 24/100\n",
            "3/3 [==============================] - 0s 29ms/step - loss: 0.3622 - accuracy: 0.8108 - val_loss: 0.3693 - val_accuracy: 0.7989\n",
            "Epoch 25/100\n",
            "3/3 [==============================] - 0s 24ms/step - loss: 0.3562 - accuracy: 0.8108 - val_loss: 0.3632 - val_accuracy: 0.7989\n",
            "Epoch 26/100\n",
            "3/3 [==============================] - 0s 19ms/step - loss: 0.3504 - accuracy: 0.8107 - val_loss: 0.3573 - val_accuracy: 0.7989\n",
            "Epoch 27/100\n",
            "3/3 [==============================] - 0s 25ms/step - loss: 0.3445 - accuracy: 0.8107 - val_loss: 0.3513 - val_accuracy: 0.7989\n",
            "Epoch 28/100\n",
            "3/3 [==============================] - 0s 19ms/step - loss: 0.3387 - accuracy: 0.8108 - val_loss: 0.3453 - val_accuracy: 0.7989\n",
            "Epoch 29/100\n",
            "3/3 [==============================] - 0s 20ms/step - loss: 0.3328 - accuracy: 0.8112 - val_loss: 0.3394 - val_accuracy: 0.7989\n",
            "Epoch 30/100\n",
            "3/3 [==============================] - 0s 24ms/step - loss: 0.3270 - accuracy: 0.8114 - val_loss: 0.3335 - val_accuracy: 0.7992\n",
            "Epoch 31/100\n",
            "3/3 [==============================] - 0s 20ms/step - loss: 0.3214 - accuracy: 0.8131 - val_loss: 0.3274 - val_accuracy: 0.8001\n",
            "Epoch 32/100\n",
            "3/3 [==============================] - 0s 22ms/step - loss: 0.3157 - accuracy: 0.8144 - val_loss: 0.3219 - val_accuracy: 0.8013\n",
            "Epoch 33/100\n",
            "3/3 [==============================] - 0s 20ms/step - loss: 0.3101 - accuracy: 0.8160 - val_loss: 0.3161 - val_accuracy: 0.8034\n",
            "Epoch 34/100\n",
            "3/3 [==============================] - 0s 19ms/step - loss: 0.3045 - accuracy: 0.8219 - val_loss: 0.3102 - val_accuracy: 0.8102\n",
            "Epoch 35/100\n",
            "3/3 [==============================] - 0s 19ms/step - loss: 0.2990 - accuracy: 0.8286 - val_loss: 0.3048 - val_accuracy: 0.8123\n",
            "Epoch 36/100\n",
            "3/3 [==============================] - 0s 18ms/step - loss: 0.2936 - accuracy: 0.8330 - val_loss: 0.2993 - val_accuracy: 0.8203\n",
            "Epoch 37/100\n",
            "3/3 [==============================] - 0s 20ms/step - loss: 0.2882 - accuracy: 0.8401 - val_loss: 0.2938 - val_accuracy: 0.8328\n",
            "Epoch 38/100\n",
            "3/3 [==============================] - 0s 20ms/step - loss: 0.2829 - accuracy: 0.8533 - val_loss: 0.2881 - val_accuracy: 0.8557\n",
            "Epoch 39/100\n",
            "3/3 [==============================] - 0s 18ms/step - loss: 0.2776 - accuracy: 0.8658 - val_loss: 0.2828 - val_accuracy: 0.8634\n",
            "Epoch 40/100\n",
            "3/3 [==============================] - 0s 22ms/step - loss: 0.2724 - accuracy: 0.8719 - val_loss: 0.2774 - val_accuracy: 0.8782\n",
            "Epoch 41/100\n",
            "3/3 [==============================] - 0s 18ms/step - loss: 0.2674 - accuracy: 0.8922 - val_loss: 0.2720 - val_accuracy: 0.8907\n",
            "Epoch 42/100\n",
            "3/3 [==============================] - 0s 19ms/step - loss: 0.2623 - accuracy: 0.8887 - val_loss: 0.2675 - val_accuracy: 0.8824\n",
            "Epoch 43/100\n",
            "3/3 [==============================] - 0s 20ms/step - loss: 0.2571 - accuracy: 0.8965 - val_loss: 0.2614 - val_accuracy: 0.9142\n",
            "Epoch 44/100\n",
            "3/3 [==============================] - 0s 21ms/step - loss: 0.2510 - accuracy: 0.9211 - val_loss: 0.2489 - val_accuracy: 0.9281\n",
            "Epoch 45/100\n",
            "3/3 [==============================] - 0s 19ms/step - loss: 0.2393 - accuracy: 0.9363 - val_loss: 0.2425 - val_accuracy: 0.9296\n",
            "Epoch 46/100\n",
            "3/3 [==============================] - 0s 33ms/step - loss: 0.2335 - accuracy: 0.9352 - val_loss: 0.2375 - val_accuracy: 0.9278\n",
            "Epoch 47/100\n",
            "3/3 [==============================] - 0s 22ms/step - loss: 0.2284 - accuracy: 0.9360 - val_loss: 0.2320 - val_accuracy: 0.9403\n",
            "Epoch 48/100\n",
            "3/3 [==============================] - 0s 22ms/step - loss: 0.2234 - accuracy: 0.9481 - val_loss: 0.2268 - val_accuracy: 0.9462\n",
            "Epoch 49/100\n",
            "3/3 [==============================] - 0s 20ms/step - loss: 0.2185 - accuracy: 0.9475 - val_loss: 0.2222 - val_accuracy: 0.9448\n",
            "Epoch 50/100\n",
            "3/3 [==============================] - 0s 20ms/step - loss: 0.2137 - accuracy: 0.9534 - val_loss: 0.2168 - val_accuracy: 0.9552\n",
            "Epoch 51/100\n",
            "3/3 [==============================] - 0s 20ms/step - loss: 0.2088 - accuracy: 0.9586 - val_loss: 0.2126 - val_accuracy: 0.9489\n",
            "Epoch 52/100\n",
            "3/3 [==============================] - 0s 20ms/step - loss: 0.2043 - accuracy: 0.9564 - val_loss: 0.2074 - val_accuracy: 0.9581\n",
            "Epoch 53/100\n",
            "3/3 [==============================] - 0s 19ms/step - loss: 0.1997 - accuracy: 0.9621 - val_loss: 0.2028 - val_accuracy: 0.9623\n",
            "Epoch 54/100\n",
            "3/3 [==============================] - 0s 19ms/step - loss: 0.1953 - accuracy: 0.9667 - val_loss: 0.1984 - val_accuracy: 0.9623\n",
            "Epoch 55/100\n",
            "3/3 [==============================] - 0s 19ms/step - loss: 0.1910 - accuracy: 0.9658 - val_loss: 0.1941 - val_accuracy: 0.9647\n",
            "Epoch 56/100\n",
            "3/3 [==============================] - 0s 22ms/step - loss: 0.1868 - accuracy: 0.9707 - val_loss: 0.1897 - val_accuracy: 0.9703\n",
            "Epoch 57/100\n",
            "3/3 [==============================] - 0s 19ms/step - loss: 0.1827 - accuracy: 0.9717 - val_loss: 0.1857 - val_accuracy: 0.9700\n",
            "Epoch 58/100\n",
            "3/3 [==============================] - 0s 18ms/step - loss: 0.1787 - accuracy: 0.9731 - val_loss: 0.1815 - val_accuracy: 0.9745\n",
            "Epoch 59/100\n",
            "3/3 [==============================] - 0s 22ms/step - loss: 0.1748 - accuracy: 0.9764 - val_loss: 0.1776 - val_accuracy: 0.9745\n",
            "Epoch 60/100\n",
            "3/3 [==============================] - 0s 19ms/step - loss: 0.1710 - accuracy: 0.9761 - val_loss: 0.1738 - val_accuracy: 0.9756\n",
            "Epoch 61/100\n",
            "3/3 [==============================] - 0s 19ms/step - loss: 0.1673 - accuracy: 0.9779 - val_loss: 0.1699 - val_accuracy: 0.9795\n",
            "Epoch 62/100\n",
            "3/3 [==============================] - 0s 18ms/step - loss: 0.1637 - accuracy: 0.9794 - val_loss: 0.1663 - val_accuracy: 0.9798\n",
            "Epoch 63/100\n",
            "3/3 [==============================] - 0s 19ms/step - loss: 0.1601 - accuracy: 0.9806 - val_loss: 0.1627 - val_accuracy: 0.9807\n",
            "Epoch 64/100\n",
            "3/3 [==============================] - 0s 24ms/step - loss: 0.1567 - accuracy: 0.9810 - val_loss: 0.1589 - val_accuracy: 0.9816\n",
            "Epoch 65/100\n",
            "3/3 [==============================] - 0s 22ms/step - loss: 0.1528 - accuracy: 0.9826 - val_loss: 0.1541 - val_accuracy: 0.9825\n",
            "Epoch 66/100\n",
            "3/3 [==============================] - 0s 20ms/step - loss: 0.1483 - accuracy: 0.9823 - val_loss: 0.1506 - val_accuracy: 0.9822\n",
            "Epoch 67/100\n",
            "3/3 [==============================] - 0s 20ms/step - loss: 0.1449 - accuracy: 0.9838 - val_loss: 0.1470 - val_accuracy: 0.9843\n",
            "Epoch 68/100\n",
            "3/3 [==============================] - 0s 19ms/step - loss: 0.1417 - accuracy: 0.9836 - val_loss: 0.1442 - val_accuracy: 0.9828\n",
            "Epoch 69/100\n",
            "3/3 [==============================] - 0s 19ms/step - loss: 0.1386 - accuracy: 0.9834 - val_loss: 0.1407 - val_accuracy: 0.9846\n",
            "Epoch 70/100\n",
            "3/3 [==============================] - 0s 19ms/step - loss: 0.1356 - accuracy: 0.9846 - val_loss: 0.1378 - val_accuracy: 0.9837\n",
            "Epoch 71/100\n",
            "3/3 [==============================] - 0s 19ms/step - loss: 0.1327 - accuracy: 0.9842 - val_loss: 0.1348 - val_accuracy: 0.9837\n",
            "Epoch 72/100\n",
            "3/3 [==============================] - 0s 26ms/step - loss: 0.1298 - accuracy: 0.9848 - val_loss: 0.1319 - val_accuracy: 0.9843\n",
            "Epoch 73/100\n",
            "3/3 [==============================] - 0s 19ms/step - loss: 0.1270 - accuracy: 0.9850 - val_loss: 0.1290 - val_accuracy: 0.9849\n",
            "Epoch 74/100\n",
            "3/3 [==============================] - 0s 19ms/step - loss: 0.1243 - accuracy: 0.9853 - val_loss: 0.1263 - val_accuracy: 0.9846\n",
            "Epoch 75/100\n",
            "3/3 [==============================] - 0s 23ms/step - loss: 0.1216 - accuracy: 0.9850 - val_loss: 0.1236 - val_accuracy: 0.9849\n",
            "Epoch 76/100\n",
            "3/3 [==============================] - 0s 20ms/step - loss: 0.1191 - accuracy: 0.9855 - val_loss: 0.1210 - val_accuracy: 0.9851\n",
            "Epoch 77/100\n",
            "3/3 [==============================] - 0s 24ms/step - loss: 0.1166 - accuracy: 0.9853 - val_loss: 0.1185 - val_accuracy: 0.9849\n",
            "Epoch 78/100\n",
            "3/3 [==============================] - 0s 19ms/step - loss: 0.1142 - accuracy: 0.9861 - val_loss: 0.1159 - val_accuracy: 0.9851\n",
            "Epoch 79/100\n",
            "3/3 [==============================] - 0s 19ms/step - loss: 0.1118 - accuracy: 0.9854 - val_loss: 0.1138 - val_accuracy: 0.9843\n",
            "Epoch 80/100\n",
            "3/3 [==============================] - 0s 19ms/step - loss: 0.1093 - accuracy: 0.9856 - val_loss: 0.1112 - val_accuracy: 0.9857\n",
            "Epoch 81/100\n",
            "3/3 [==============================] - 0s 19ms/step - loss: 0.1072 - accuracy: 0.9866 - val_loss: 0.1092 - val_accuracy: 0.9849\n",
            "Epoch 82/100\n",
            "3/3 [==============================] - 0s 19ms/step - loss: 0.1049 - accuracy: 0.9859 - val_loss: 0.1066 - val_accuracy: 0.9857\n",
            "Epoch 83/100\n",
            "3/3 [==============================] - 0s 23ms/step - loss: 0.1028 - accuracy: 0.9874 - val_loss: 0.1046 - val_accuracy: 0.9851\n",
            "Epoch 84/100\n",
            "3/3 [==============================] - 0s 22ms/step - loss: 0.1006 - accuracy: 0.9859 - val_loss: 0.1024 - val_accuracy: 0.9854\n",
            "Epoch 85/100\n",
            "3/3 [==============================] - 0s 22ms/step - loss: 0.0985 - accuracy: 0.9877 - val_loss: 0.1002 - val_accuracy: 0.9866\n",
            "Epoch 86/100\n",
            "3/3 [==============================] - 0s 24ms/step - loss: 0.0966 - accuracy: 0.9876 - val_loss: 0.0984 - val_accuracy: 0.9860\n",
            "Epoch 87/100\n",
            "3/3 [==============================] - 0s 21ms/step - loss: 0.0946 - accuracy: 0.9876 - val_loss: 0.0962 - val_accuracy: 0.9878\n",
            "Epoch 88/100\n",
            "3/3 [==============================] - 0s 21ms/step - loss: 0.0927 - accuracy: 0.9885 - val_loss: 0.0944 - val_accuracy: 0.9869\n",
            "Epoch 89/100\n",
            "3/3 [==============================] - 0s 20ms/step - loss: 0.0908 - accuracy: 0.9880 - val_loss: 0.0924 - val_accuracy: 0.9884\n",
            "Epoch 90/100\n",
            "3/3 [==============================] - 0s 23ms/step - loss: 0.0891 - accuracy: 0.9896 - val_loss: 0.0907 - val_accuracy: 0.9875\n",
            "Epoch 91/100\n",
            "3/3 [==============================] - 0s 20ms/step - loss: 0.0874 - accuracy: 0.9883 - val_loss: 0.0889 - val_accuracy: 0.9887\n",
            "Epoch 92/100\n",
            "3/3 [==============================] - 0s 18ms/step - loss: 0.0856 - accuracy: 0.9903 - val_loss: 0.0871 - val_accuracy: 0.9902\n",
            "Epoch 93/100\n",
            "3/3 [==============================] - 0s 21ms/step - loss: 0.0840 - accuracy: 0.9897 - val_loss: 0.0856 - val_accuracy: 0.9893\n",
            "Epoch 94/100\n",
            "3/3 [==============================] - 0s 19ms/step - loss: 0.0822 - accuracy: 0.9903 - val_loss: 0.0838 - val_accuracy: 0.9914\n",
            "Epoch 95/100\n",
            "3/3 [==============================] - 0s 19ms/step - loss: 0.0807 - accuracy: 0.9914 - val_loss: 0.0825 - val_accuracy: 0.9893\n",
            "Epoch 96/100\n",
            "3/3 [==============================] - 0s 19ms/step - loss: 0.0792 - accuracy: 0.9896 - val_loss: 0.0806 - val_accuracy: 0.9911\n",
            "Epoch 97/100\n",
            "3/3 [==============================] - 0s 22ms/step - loss: 0.0777 - accuracy: 0.9916 - val_loss: 0.0791 - val_accuracy: 0.9908\n",
            "Epoch 98/100\n",
            "3/3 [==============================] - 0s 22ms/step - loss: 0.0761 - accuracy: 0.9911 - val_loss: 0.0779 - val_accuracy: 0.9902\n",
            "Epoch 99/100\n",
            "3/3 [==============================] - 0s 19ms/step - loss: 0.0748 - accuracy: 0.9913 - val_loss: 0.0762 - val_accuracy: 0.9929\n",
            "Epoch 100/100\n",
            "3/3 [==============================] - 0s 18ms/step - loss: 0.0733 - accuracy: 0.9916 - val_loss: 0.0750 - val_accuracy: 0.9908\n"
          ]
        }
      ],
      "source": [
        "if model_selection[model_flag]==\"ALL\" or model_selection[model_flag] == \"MLP\":\n",
        "  # training the model on training dataset\n",
        "  history = mlp.fit(X_train, y_train, epochs=100, batch_size=5000,validation_split=0.2)"
      ]
    },
    {
      "cell_type": "code",
      "execution_count": 26,
      "metadata": {
        "id": "_n_gNs3p1_M-",
        "colab": {
          "base_uri": "https://localhost:8080/"
        },
        "outputId": "3c6f8cf5-e218-4b2c-fe3a-7a3e1b377d8c"
      },
      "outputs": [
        {
          "output_type": "stream",
          "name": "stdout",
          "text": [
            "Saved model to disk\n",
            "Loaded model from disk\n"
          ]
        }
      ],
      "source": [
        "if model_selection[model_flag]==\"ALL\" or model_selection[model_flag] == \"MLP\":\n",
        "  filepath = '/content/drive/MyDrive/Colab_Notebooks/Models/mlp_binary'+model_name_suffix+'.json'\n",
        "  weightspath = '/content/drive/MyDrive/Colab_Notebooks/Weights/mlp_binary'+model_name_suffix+'.h5'\n",
        "  if (not path.isfile(filepath)):\n",
        "    # serialize model to JSON\n",
        "    mlp_json = mlp.to_json()\n",
        "    with open(filepath, \"w\") as json_file:\n",
        "      json_file.write(mlp_json)\n",
        "\n",
        "    # serialize weights to HDF5\n",
        "    mlp.save_weights(weightspath)\n",
        "    print(\"Saved model to disk\")\n",
        "\n",
        "    # load json and create model\n",
        "    json_file = open(filepath, 'r')\n",
        "    loaded_model_json = json_file.read()\n",
        "    json_file.close()\n",
        "    mlp = model_from_json(loaded_model_json)\n",
        "\n",
        "    # load weights into new model\n",
        "    mlp.load_weights(weightspath)\n",
        "    print(\"Loaded model from disk\")"
      ]
    },
    {
      "cell_type": "code",
      "execution_count": 27,
      "metadata": {
        "id": "G99OrVcT2JON"
      },
      "outputs": [],
      "source": [
        "if model_selection[model_flag]==\"ALL\" or model_selection[model_flag] == \"MLP\":\n",
        "  # defining loss function, optimizer, metrics and then compiling model\n",
        "  mlp.compile(loss='binary_crossentropy', optimizer='adam', metrics=['accuracy'])"
      ]
    },
    {
      "cell_type": "code",
      "execution_count": 28,
      "metadata": {
        "id": "AXUA0T2N2OIB",
        "colab": {
          "base_uri": "https://localhost:8080/"
        },
        "outputId": "798bb6fd-d8a5-41b5-84b9-b70151b12277"
      },
      "outputs": [
        {
          "output_type": "stream",
          "name": "stdout",
          "text": [
            "176/176 [==============================] - 1s 2ms/step - loss: 876325.7500 - accuracy: 0.8123\n",
            "Test results - Loss: 876325.75 - Accuracy: 81.23329281806946\n"
          ]
        }
      ],
      "source": [
        "if model_selection[model_flag]==\"ALL\" or model_selection[model_flag] == \"MLP\":\n",
        "  # predicting target attribute on testing dataset\n",
        "  test_results = mlp.evaluate(X_test, y_test, verbose=1)\n",
        "  print(f'Test results - Loss: {test_results[0]} - Accuracy: {test_results[1]*100}')"
      ]
    },
    {
      "cell_type": "code",
      "execution_count": 29,
      "metadata": {
        "id": "StFTrhE65_-q",
        "colab": {
          "base_uri": "https://localhost:8080/",
          "height": 472
        },
        "outputId": "ec7e0536-cca5-4c86-f357-b082cbaaf94f"
      },
      "outputs": [
        {
          "output_type": "display_data",
          "data": {
            "text/plain": [
              "<Figure size 640x480 with 1 Axes>"
            ],
            "image/png": "[encoded data removed]"
          },
          "metadata": {}
        }
      ],
      "source": [
        "if model_selection[model_flag]==\"ALL\" or model_selection[model_flag] == \"MLP\":  \n",
        "  # Plot of accuracy vs epoch of train and test dataset\n",
        "  plt.plot(history.history['accuracy'])\n",
        "  plt.plot(history.history['val_accuracy'])\n",
        "  plt.title(\"Plot of accuracy vs epoch for train and test dataset\")\n",
        "  plt.ylabel('accuracy')\n",
        "  plt.xlabel('epoch')\n",
        "  plt.legend(['train', 'test'], loc='best')\n",
        "  plt.savefig('/content/drive/MyDrive/Colab_Notebooks/Plots/mlp_binary_accuracy.png')\n",
        "  plt.show()"
      ]
    },
    {
      "cell_type": "code",
      "execution_count": 30,
      "metadata": {
        "id": "rZes4PzY6JUq",
        "colab": {
          "base_uri": "https://localhost:8080/",
          "height": 472
        },
        "outputId": "a4712934-61ab-42b2-e97c-961caee6f5e5"
      },
      "outputs": [
        {
          "output_type": "display_data",
          "data": {
            "text/plain": [
              "<Figure size 640x480 with 1 Axes>"
            ],
            "image/png": "[encoded data removed]"
          },
          "metadata": {}
        }
      ],
      "source": [
        "if model_selection[model_flag]==\"ALL\" or model_selection[model_flag] == \"MLP\":\n",
        "  # Plot of loss vs epoch of train and test dataset\n",
        "  plt.plot(history.history['loss'])\n",
        "  plt.plot(history.history['val_loss'])\n",
        "  plt.title('Plot of loss vs epoch for train and test dataset')\n",
        "  plt.ylabel('loss')\n",
        "  plt.xlabel('epoch')\n",
        "  plt.legend(['train', 'test'], loc='best')\n",
        "  plt.savefig('/content/drive/MyDrive/Colab_Notebooks/Plots/mlp_binary_loss.png')\n",
        "  plt.show()"
      ]
    },
    {
      "cell_type": "code",
      "execution_count": 31,
      "metadata": {
        "id": "mC0nj-on6iRU"
      },
      "outputs": [],
      "source": [
        "if model_selection[model_flag]==\"ALL\" or model_selection[model_flag] == \"MLP\":\n",
        "  # representation of model layers\n",
        "  from keras.utils.vis_utils import plot_model\n",
        "  plot_model(mlp, to_file='/content/drive/MyDrive/Colab_Notebooks/Plots/mlp_binary.png', show_shapes=True,)"
      ]
    },
    {
      "cell_type": "code",
      "execution_count": 32,
      "metadata": {
        "id": "oxHdln0c6Xi_",
        "colab": {
          "base_uri": "https://localhost:8080/"
        },
        "outputId": "15b91a8f-bd36-45b1-c7e1-4e209396fc8a"
      },
      "outputs": [
        {
          "output_type": "stream",
          "name": "stdout",
          "text": [
            "176/176 [==============================] - 0s 1ms/step\n"
          ]
        }
      ],
      "source": [
        "if model_selection[model_flag]==\"ALL\" or model_selection[model_flag] == \"MLP\":\n",
        "  y_pred = mlp.predict(X_test).ravel()\n",
        "  fpr, tpr, thresholds = roc_curve(y_test, y_pred)\n",
        "  auc = auc(fpr, tpr)"
      ]
    },
    {
      "cell_type": "code",
      "execution_count": 33,
      "metadata": {
        "id": "Cr36q9Z-6aRU",
        "colab": {
          "base_uri": "https://localhost:8080/",
          "height": 472
        },
        "outputId": "db471efe-81dd-4a6b-c3b1-21e0ccb2ef0a"
      },
      "outputs": [
        {
          "output_type": "display_data",
          "data": {
            "text/plain": [
              "<Figure size 640x480 with 1 Axes>"
            ],
            "image/png": "[encoded data removed]"
          },
          "metadata": {}
        }
      ],
      "source": [
        "if model_selection[model_flag]==\"ALL\" or model_selection[model_flag] == \"MLP\":\n",
        "  plt.plot([0, 1], [0, 1], 'k--')\n",
        "  plt.plot(fpr, tpr, label='Keras (area = {:.3f})'.format(auc))\n",
        "  plt.xlabel('False positive rate')\n",
        "  plt.ylabel('True positive rate')\n",
        "  plt.title('ROC curve')\n",
        "  plt.legend(loc='best')\n",
        "  plt.savefig('/content/drive/MyDrive/Colab_Notebooks/Plots/mlp_binary_roc.png')\n",
        "  plt.show()"
      ]
    },
    {
      "cell_type": "code",
      "execution_count": 34,
      "metadata": {
        "id": "U9f2bWPwFljk"
      },
      "outputs": [],
      "source": [
        "# real_data_kdd = bin_data.copy()\n",
        "\n",
        "# # Names of the columns that are discrete\n",
        "# cat_cols = real_data_kdd.select_dtypes(['object']).columns\n",
        "# # cat_cols\n",
        "# test_data = real_data_kdd.iloc[:999]\n",
        "\n",
        "# corr= test_data.corr()\n",
        "# corr_y = abs(corr['label'])\n",
        "# highest_corr = corr_y\n",
        "# highest_corr.sort_values(ascending=True)"
      ]
    },
    {
      "cell_type": "code",
      "execution_count": 35,
      "metadata": {
        "id": "8-clVdUoUPa-",
        "colab": {
          "base_uri": "https://localhost:8080/"
        },
        "outputId": "51a9c619-5f87-48f2-b3b3-133f17087da3"
      },
      "outputs": [
        {
          "output_type": "stream",
          "name": "stdout",
          "text": [
            "176/176 [==============================] - 0s 2ms/step\n"
          ]
        }
      ],
      "source": [
        "if model_selection[model_flag]==\"ALL\" or model_selection[model_flag] == \"MLP\":\n",
        "  y_classes = (mlp.predict(X_test)>0.5).astype('int32')"
      ]
    },
    {
      "cell_type": "code",
      "execution_count": 36,
      "metadata": {
        "id": "0jcFqEqFT-uq",
        "colab": {
          "base_uri": "https://localhost:8080/"
        },
        "outputId": "ae5ecf2e-5053-4228-d6b3-ace14ce9b991"
      },
      "outputs": [
        {
          "output_type": "stream",
          "name": "stdout",
          "text": [
            "Recall Score -  0.0\n",
            "F1 Score -  0.0\n",
            "Precision Score -  0.0\n",
            "False Positive Rate -  [1.]\n",
            "False Negative Rate -  [0.]\n",
            "Thresholds -  [0]\n"
          ]
        },
        {
          "output_type": "stream",
          "name": "stderr",
          "text": [
            "/usr/local/lib/python3.9/dist-packages/sklearn/metrics/_classification.py:1344: UndefinedMetricWarning: Precision is ill-defined and being set to 0.0 due to no predicted samples. Use `zero_division` parameter to control this behavior.\n",
            "  _warn_prf(average, modifier, msg_start, len(result))\n"
          ]
        }
      ],
      "source": [
        "if model_selection[model_flag]==\"ALL\" or model_selection[model_flag] == \"MLP\":\n",
        "  print(\"Recall Score - \",recall_score(y_test,y_classes))\n",
        "  print(\"F1 Score - \",f1_score(y_test,y_classes))\n",
        "  print(\"Precision Score - \",precision_score(y_test,y_classes))\n",
        "  fpr, fnr, thresholds = det_curve(y_test, y_classes)\n",
        "  print(\"False Positive Rate - \", fpr)\n",
        "  print(\"False Negative Rate - \", fnr)\n",
        "  print(\"Thresholds - \", thresholds)"
      ]
    },
    {
      "cell_type": "code",
      "source": [
        "print(classification_report(y_test, y_classes, target_names=['0', '1']))\n",
        "cm = confusion_matrix(y_test, y_classes)\n",
        "disp = ConfusionMatrixDisplay(confusion_matrix=cm,\n",
        "                              display_labels=['0', '1'])\n",
        "disp.plot()\n",
        "\n",
        "plt.show()"
      ],
      "metadata": {
        "id": "3HJB6IXJsxjg",
        "colab": {
          "base_uri": "https://localhost:8080/",
          "height": 737
        },
        "outputId": "41b29f2f-7792-47bf-eac5-188f7d3ef36e"
      },
      "execution_count": 37,
      "outputs": [
        {
          "output_type": "stream",
          "name": "stdout",
          "text": [
            "              precision    recall  f1-score   support\n",
            "\n",
            "           0       0.81      1.00      0.90      4558\n",
            "           1       0.00      0.00      0.00      1053\n",
            "\n",
            "    accuracy                           0.81      5611\n",
            "   macro avg       0.41      0.50      0.45      5611\n",
            "weighted avg       0.66      0.81      0.73      5611\n",
            "\n"
          ]
        },
        {
          "output_type": "stream",
          "name": "stderr",
          "text": [
            "/usr/local/lib/python3.9/dist-packages/sklearn/metrics/_classification.py:1344: UndefinedMetricWarning: Precision and F-score are ill-defined and being set to 0.0 in labels with no predicted samples. Use `zero_division` parameter to control this behavior.\n",
            "  _warn_prf(average, modifier, msg_start, len(result))\n",
            "/usr/local/lib/python3.9/dist-packages/sklearn/metrics/_classification.py:1344: UndefinedMetricWarning: Precision and F-score are ill-defined and being set to 0.0 in labels with no predicted samples. Use `zero_division` parameter to control this behavior.\n",
            "  _warn_prf(average, modifier, msg_start, len(result))\n",
            "/usr/local/lib/python3.9/dist-packages/sklearn/metrics/_classification.py:1344: UndefinedMetricWarning: Precision and F-score are ill-defined and being set to 0.0 in labels with no predicted samples. Use `zero_division` parameter to control this behavior.\n",
            "  _warn_prf(average, modifier, msg_start, len(result))\n"
          ]
        },
        {
          "output_type": "display_data",
          "data": {
            "text/plain": [
              "<Figure size 640x480 with 2 Axes>"
            ],
            "image/png": "[encoded data removed]"
          },
          "metadata": {}
        }
      ]
    },
    {
      "cell_type": "markdown",
      "source": [
        "# **Correlation** Matrix of Features"
      ],
      "metadata": {
        "id": "j7BKdCwqs2RE"
      }
    },
    {
      "cell_type": "code",
      "execution_count": 38,
      "metadata": {
        "id": "TL8zt-tHLt90",
        "colab": {
          "base_uri": "https://localhost:8080/"
        },
        "outputId": "95dfb138-7744-4086-96aa-31296b0847e8"
      },
      "outputs": [
        {
          "output_type": "execute_result",
          "data": {
            "text/plain": [
              "X3            0.304322\n",
              "X18           0.304322\n",
              "X6            0.307392\n",
              "X21           0.307392\n",
              "X9            0.308889\n",
              "X24           0.308889\n",
              "X27           0.315424\n",
              "X12           0.315424\n",
              "X30           0.315603\n",
              "X15           0.315603\n",
              "X35           0.378387\n",
              "X42           0.402133\n",
              "X49           0.425821\n",
              "X63           0.444247\n",
              "X56           0.445419\n",
              "Unnamed: 0    0.492370\n",
              "label         1.000000\n",
              "Name: label, dtype: float64"
            ]
          },
          "metadata": {},
          "execution_count": 38
        }
      ],
      "source": [
        "corr= bin_data.corr()\n",
        "corr_y = abs(corr['label'])\n",
        "highest_corr = corr_y[corr_y >0.3]\n",
        "highest_corr.sort_values(ascending=True)"
      ]
    },
    {
      "cell_type": "code",
      "source": [
        "plt.matshow(corr)\n",
        "plt.show()"
      ],
      "metadata": {
        "id": "q4b094WVtQQ7",
        "colab": {
          "base_uri": "https://localhost:8080/",
          "height": 437
        },
        "outputId": "e1b81548-584b-4be9-a36f-0a8e031be307"
      },
      "execution_count": 39,
      "outputs": [
        {
          "output_type": "display_data",
          "data": {
            "text/plain": [
              "<Figure size 480x480 with 1 Axes>"
            ],
            "image/png": "[encoded data removed]"
          },
          "metadata": {}
        }
      ]
    },
    {
      "cell_type": "markdown",
      "metadata": {
        "id": "ZHhtNjFLPj6Y"
      },
      "source": [
        "## **LSTM Classifier**"
      ]
    },
    {
      "cell_type": "code",
      "execution_count": 40,
      "metadata": {
        "id": "DTNPkQMNL5Eh",
        "colab": {
          "base_uri": "https://localhost:8080/"
        },
        "outputId": "d905867c-88e8-4474-8a9c-11edcaaacc9c"
      },
      "outputs": [
        {
          "output_type": "execute_result",
          "data": {
            "text/plain": [
              "(16831, 117)"
            ]
          },
          "metadata": {},
          "execution_count": 40
        }
      ],
      "source": [
        "X_train = np.array(X_train)\n",
        "X_test = np.array(X_test)\n",
        "# y_train.shape   #(18896,)\n",
        "X_train.shape"
      ]
    },
    {
      "cell_type": "code",
      "execution_count": 41,
      "metadata": {
        "id": "9n-QlBDXPMl4",
        "colab": {
          "base_uri": "https://localhost:8080/"
        },
        "outputId": "73275363-1cfd-4d29-e978-4830691ef5b4"
      },
      "outputs": [
        {
          "output_type": "execute_result",
          "data": {
            "text/plain": [
              "numpy.ndarray"
            ]
          },
          "metadata": {},
          "execution_count": 41
        }
      ],
      "source": [
        "y_train = np.array(y_train)\n",
        "type(y_train)"
      ]
    },
    {
      "cell_type": "code",
      "execution_count": 42,
      "metadata": {
        "id": "-8Ro_ZRQPdZz",
        "colab": {
          "base_uri": "https://localhost:8080/"
        },
        "outputId": "d0d9ad1b-3351-4002-a44e-6db8e93de57e"
      },
      "outputs": [
        {
          "output_type": "execute_result",
          "data": {
            "text/plain": [
              "(16831, 1, 117)"
            ]
          },
          "metadata": {},
          "execution_count": 42
        }
      ],
      "source": [
        "x_train = np.reshape(X_train, (X_train.shape[0],1,X_train.shape[1]))\n",
        "x_train.shape"
      ]
    },
    {
      "cell_type": "code",
      "source": [
        "x_train.shape[2]"
      ],
      "metadata": {
        "id": "EuvuETcGpkje",
        "colab": {
          "base_uri": "https://localhost:8080/"
        },
        "outputId": "7c58d695-0147-414d-8282-d77d2c9f5dc1"
      },
      "execution_count": 43,
      "outputs": [
        {
          "output_type": "execute_result",
          "data": {
            "text/plain": [
              "117"
            ]
          },
          "metadata": {},
          "execution_count": 43
        }
      ]
    },
    {
      "cell_type": "code",
      "execution_count": 44,
      "metadata": {
        "id": "pLIl946zQQwG",
        "colab": {
          "base_uri": "https://localhost:8080/"
        },
        "outputId": "8d07485e-ccf9-4220-88df-ad7a932f10d3"
      },
      "outputs": [
        {
          "output_type": "execute_result",
          "data": {
            "text/plain": [
              "(5611, 1, 117)"
            ]
          },
          "metadata": {},
          "execution_count": 44
        }
      ],
      "source": [
        "x_test = np.reshape(X_test, (X_test.shape[0],1,X_test.shape[1]))\n",
        "x_test.shape"
      ]
    },
    {
      "cell_type": "code",
      "execution_count": 45,
      "metadata": {
        "id": "jWsrkPEmQcY7"
      },
      "outputs": [],
      "source": [
        "if model_selection[model_flag]==\"ALL\" or model_selection[model_flag] == \"LSTM\":\n",
        "  lst = Sequential()\n",
        "  # input layer and LSTM layer with 50 neurons\n",
        "  input_features = x_train.shape[2]\n",
        "  lst.add(LSTM(50,input_dim=input_features))\n",
        "\n",
        "  # outpute layer with sigmoid activation\n",
        "  lst.add(Dense(1,activation='sigmoid'))"
      ]
    },
    {
      "cell_type": "code",
      "execution_count": 46,
      "metadata": {
        "id": "UEmba1H9Q_qj"
      },
      "outputs": [],
      "source": [
        "if model_selection[model_flag]==\"ALL\" or model_selection[model_flag] == \"LSTM\":\n",
        "  # defining loss function, optimizer, metrics and then compiling model\n",
        "  lst.compile(loss='binary_crossentropy',optimizer='adam',metrics=['accuracy'])"
      ]
    },
    {
      "cell_type": "code",
      "execution_count": 47,
      "metadata": {
        "id": "anR58jV2RCtz",
        "colab": {
          "base_uri": "https://localhost:8080/"
        },
        "outputId": "4ff16686-cbab-457f-830e-4358ccd00be8"
      },
      "outputs": [
        {
          "output_type": "stream",
          "name": "stdout",
          "text": [
            "Model: \"sequential_1\"\n",
            "_________________________________________________________________\n",
            " Layer (type)                Output Shape              Param #   \n",
            "=================================================================\n",
            " lstm (LSTM)                 (None, 50)                33600     \n",
            "                                                                 \n",
            " dense_2 (Dense)             (None, 1)                 51        \n",
            "                                                                 \n",
            "=================================================================\n",
            "Total params: 33,651\n",
            "Trainable params: 33,651\n",
            "Non-trainable params: 0\n",
            "_________________________________________________________________\n"
          ]
        }
      ],
      "source": [
        "if model_selection[model_flag]==\"ALL\" or model_selection[model_flag] == \"LSTM\":\n",
        "  # summary of model layers\n",
        "  lst.summary()"
      ]
    },
    {
      "cell_type": "code",
      "execution_count": 48,
      "metadata": {
        "id": "_Pa4Qi12RJS_",
        "colab": {
          "base_uri": "https://localhost:8080/"
        },
        "outputId": "c9e92049-81be-48cf-dcba-a0be5ac1f44b"
      },
      "outputs": [
        {
          "output_type": "stream",
          "name": "stdout",
          "text": [
            "Epoch 1/100\n",
            "3/3 [==============================] - 4s 336ms/step - loss: 0.5959 - accuracy: 0.8075 - val_loss: 0.5463 - val_accuracy: 0.7971\n",
            "Epoch 2/100\n",
            "3/3 [==============================] - 0s 35ms/step - loss: 0.5249 - accuracy: 0.8075 - val_loss: 0.5189 - val_accuracy: 0.7971\n",
            "Epoch 3/100\n",
            "3/3 [==============================] - 0s 35ms/step - loss: 0.5042 - accuracy: 0.8075 - val_loss: 0.5234 - val_accuracy: 0.7971\n",
            "Epoch 4/100\n",
            "3/3 [==============================] - 0s 33ms/step - loss: 0.5063 - accuracy: 0.8075 - val_loss: 0.5253 - val_accuracy: 0.7971\n",
            "Epoch 5/100\n",
            "3/3 [==============================] - 0s 35ms/step - loss: 0.5042 - accuracy: 0.8075 - val_loss: 0.5171 - val_accuracy: 0.7971\n",
            "Epoch 6/100\n",
            "3/3 [==============================] - 0s 34ms/step - loss: 0.4960 - accuracy: 0.8075 - val_loss: 0.5062 - val_accuracy: 0.7971\n",
            "Epoch 7/100\n",
            "3/3 [==============================] - 0s 36ms/step - loss: 0.4877 - accuracy: 0.8075 - val_loss: 0.4987 - val_accuracy: 0.7971\n",
            "Epoch 8/100\n",
            "3/3 [==============================] - 0s 33ms/step - loss: 0.4832 - accuracy: 0.8075 - val_loss: 0.4947 - val_accuracy: 0.7971\n",
            "Epoch 9/100\n",
            "3/3 [==============================] - 0s 25ms/step - loss: 0.4808 - accuracy: 0.8075 - val_loss: 0.4915 - val_accuracy: 0.7971\n",
            "Epoch 10/100\n",
            "3/3 [==============================] - 0s 53ms/step - loss: 0.4778 - accuracy: 0.8075 - val_loss: 0.4873 - val_accuracy: 0.7971\n",
            "Epoch 11/100\n",
            "3/3 [==============================] - 0s 35ms/step - loss: 0.4731 - accuracy: 0.8075 - val_loss: 0.4825 - val_accuracy: 0.7971\n",
            "Epoch 12/100\n",
            "3/3 [==============================] - 0s 38ms/step - loss: 0.4678 - accuracy: 0.8075 - val_loss: 0.4779 - val_accuracy: 0.7971\n",
            "Epoch 13/100\n",
            "3/3 [==============================] - 0s 34ms/step - loss: 0.4625 - accuracy: 0.8075 - val_loss: 0.4734 - val_accuracy: 0.7971\n",
            "Epoch 14/100\n",
            "3/3 [==============================] - 0s 27ms/step - loss: 0.4574 - accuracy: 0.8075 - val_loss: 0.4677 - val_accuracy: 0.7971\n",
            "Epoch 15/100\n",
            "3/3 [==============================] - 0s 28ms/step - loss: 0.4514 - accuracy: 0.8075 - val_loss: 0.4608 - val_accuracy: 0.7971\n",
            "Epoch 16/100\n",
            "3/3 [==============================] - 0s 31ms/step - loss: 0.4452 - accuracy: 0.8075 - val_loss: 0.4540 - val_accuracy: 0.7971\n",
            "Epoch 17/100\n",
            "3/3 [==============================] - 0s 34ms/step - loss: 0.4392 - accuracy: 0.8075 - val_loss: 0.4472 - val_accuracy: 0.7971\n",
            "Epoch 18/100\n",
            "3/3 [==============================] - 0s 30ms/step - loss: 0.4324 - accuracy: 0.8075 - val_loss: 0.4402 - val_accuracy: 0.7971\n",
            "Epoch 19/100\n",
            "3/3 [==============================] - 0s 28ms/step - loss: 0.4249 - accuracy: 0.8075 - val_loss: 0.4331 - val_accuracy: 0.7971\n",
            "Epoch 20/100\n",
            "3/3 [==============================] - 0s 37ms/step - loss: 0.4174 - accuracy: 0.8075 - val_loss: 0.4249 - val_accuracy: 0.7971\n",
            "Epoch 21/100\n",
            "3/3 [==============================] - 0s 33ms/step - loss: 0.4095 - accuracy: 0.8075 - val_loss: 0.4159 - val_accuracy: 0.7971\n",
            "Epoch 22/100\n",
            "3/3 [==============================] - 0s 28ms/step - loss: 0.4010 - accuracy: 0.8078 - val_loss: 0.4068 - val_accuracy: 0.7986\n",
            "Epoch 23/100\n",
            "3/3 [==============================] - 0s 28ms/step - loss: 0.3920 - accuracy: 0.8100 - val_loss: 0.3973 - val_accuracy: 0.7989\n",
            "Epoch 24/100\n",
            "3/3 [==============================] - 0s 18ms/step - loss: 0.3826 - accuracy: 0.8107 - val_loss: 0.3872 - val_accuracy: 0.7989\n",
            "Epoch 25/100\n",
            "3/3 [==============================] - 0s 20ms/step - loss: 0.3726 - accuracy: 0.8107 - val_loss: 0.3768 - val_accuracy: 0.7989\n",
            "Epoch 26/100\n",
            "3/3 [==============================] - 0s 19ms/step - loss: 0.3624 - accuracy: 0.8107 - val_loss: 0.3661 - val_accuracy: 0.7989\n",
            "Epoch 27/100\n",
            "3/3 [==============================] - 0s 18ms/step - loss: 0.3520 - accuracy: 0.8107 - val_loss: 0.3556 - val_accuracy: 0.7989\n",
            "Epoch 28/100\n",
            "3/3 [==============================] - 0s 18ms/step - loss: 0.3415 - accuracy: 0.8107 - val_loss: 0.3444 - val_accuracy: 0.7989\n",
            "Epoch 29/100\n",
            "3/3 [==============================] - 0s 22ms/step - loss: 0.3309 - accuracy: 0.8108 - val_loss: 0.3337 - val_accuracy: 0.7989\n",
            "Epoch 30/100\n",
            "3/3 [==============================] - 0s 20ms/step - loss: 0.3203 - accuracy: 0.8113 - val_loss: 0.3230 - val_accuracy: 0.7992\n",
            "Epoch 31/100\n",
            "3/3 [==============================] - 0s 19ms/step - loss: 0.3102 - accuracy: 0.8128 - val_loss: 0.3130 - val_accuracy: 0.7998\n",
            "Epoch 32/100\n",
            "3/3 [==============================] - 0s 19ms/step - loss: 0.3002 - accuracy: 0.8150 - val_loss: 0.3027 - val_accuracy: 0.8049\n",
            "Epoch 33/100\n",
            "3/3 [==============================] - 0s 19ms/step - loss: 0.2905 - accuracy: 0.8237 - val_loss: 0.2931 - val_accuracy: 0.8126\n",
            "Epoch 34/100\n",
            "3/3 [==============================] - 0s 19ms/step - loss: 0.2811 - accuracy: 0.8354 - val_loss: 0.2836 - val_accuracy: 0.8375\n",
            "Epoch 35/100\n",
            "3/3 [==============================] - 0s 18ms/step - loss: 0.2723 - accuracy: 0.8504 - val_loss: 0.2747 - val_accuracy: 0.8622\n",
            "Epoch 36/100\n",
            "3/3 [==============================] - 0s 24ms/step - loss: 0.2637 - accuracy: 0.8788 - val_loss: 0.2662 - val_accuracy: 0.8791\n",
            "Epoch 37/100\n",
            "3/3 [==============================] - 0s 18ms/step - loss: 0.2554 - accuracy: 0.8842 - val_loss: 0.2578 - val_accuracy: 0.9038\n",
            "Epoch 38/100\n",
            "3/3 [==============================] - 0s 23ms/step - loss: 0.2477 - accuracy: 0.9150 - val_loss: 0.2500 - val_accuracy: 0.9061\n",
            "Epoch 39/100\n",
            "3/3 [==============================] - 0s 18ms/step - loss: 0.2398 - accuracy: 0.9213 - val_loss: 0.2423 - val_accuracy: 0.9189\n",
            "Epoch 40/100\n",
            "3/3 [==============================] - 0s 18ms/step - loss: 0.2324 - accuracy: 0.9248 - val_loss: 0.2346 - val_accuracy: 0.9427\n",
            "Epoch 41/100\n",
            "3/3 [==============================] - 0s 19ms/step - loss: 0.2255 - accuracy: 0.9445 - val_loss: 0.2275 - val_accuracy: 0.9430\n",
            "Epoch 42/100\n",
            "3/3 [==============================] - 0s 21ms/step - loss: 0.2183 - accuracy: 0.9502 - val_loss: 0.2204 - val_accuracy: 0.9474\n",
            "Epoch 43/100\n",
            "3/3 [==============================] - 0s 18ms/step - loss: 0.2119 - accuracy: 0.9470 - val_loss: 0.2134 - val_accuracy: 0.9658\n",
            "Epoch 44/100\n",
            "3/3 [==============================] - 0s 19ms/step - loss: 0.2055 - accuracy: 0.9692 - val_loss: 0.2072 - val_accuracy: 0.9540\n",
            "Epoch 45/100\n",
            "3/3 [==============================] - 0s 18ms/step - loss: 0.1984 - accuracy: 0.9589 - val_loss: 0.1998 - val_accuracy: 0.9691\n",
            "Epoch 46/100\n",
            "3/3 [==============================] - 0s 19ms/step - loss: 0.1918 - accuracy: 0.9725 - val_loss: 0.1934 - val_accuracy: 0.9694\n",
            "Epoch 47/100\n",
            "3/3 [==============================] - 0s 18ms/step - loss: 0.1854 - accuracy: 0.9733 - val_loss: 0.1870 - val_accuracy: 0.9730\n",
            "Epoch 48/100\n",
            "3/3 [==============================] - 0s 18ms/step - loss: 0.1793 - accuracy: 0.9762 - val_loss: 0.1807 - val_accuracy: 0.9748\n",
            "Epoch 49/100\n",
            "3/3 [==============================] - 0s 19ms/step - loss: 0.1733 - accuracy: 0.9775 - val_loss: 0.1744 - val_accuracy: 0.9783\n",
            "Epoch 50/100\n",
            "3/3 [==============================] - 0s 20ms/step - loss: 0.1673 - accuracy: 0.9794 - val_loss: 0.1686 - val_accuracy: 0.9783\n",
            "Epoch 51/100\n",
            "3/3 [==============================] - 0s 19ms/step - loss: 0.1616 - accuracy: 0.9802 - val_loss: 0.1626 - val_accuracy: 0.9804\n",
            "Epoch 52/100\n",
            "3/3 [==============================] - 0s 19ms/step - loss: 0.1561 - accuracy: 0.9817 - val_loss: 0.1576 - val_accuracy: 0.9798\n",
            "Epoch 53/100\n",
            "3/3 [==============================] - 0s 21ms/step - loss: 0.1510 - accuracy: 0.9813 - val_loss: 0.1519 - val_accuracy: 0.9807\n",
            "Epoch 54/100\n",
            "3/3 [==============================] - 0s 19ms/step - loss: 0.1460 - accuracy: 0.9819 - val_loss: 0.1469 - val_accuracy: 0.9813\n",
            "Epoch 55/100\n",
            "3/3 [==============================] - 0s 18ms/step - loss: 0.1414 - accuracy: 0.9831 - val_loss: 0.1423 - val_accuracy: 0.9807\n",
            "Epoch 56/100\n",
            "3/3 [==============================] - 0s 19ms/step - loss: 0.1365 - accuracy: 0.9827 - val_loss: 0.1375 - val_accuracy: 0.9819\n",
            "Epoch 57/100\n",
            "3/3 [==============================] - 0s 22ms/step - loss: 0.1322 - accuracy: 0.9833 - val_loss: 0.1333 - val_accuracy: 0.9807\n",
            "Epoch 58/100\n",
            "3/3 [==============================] - 0s 23ms/step - loss: 0.1278 - accuracy: 0.9833 - val_loss: 0.1286 - val_accuracy: 0.9822\n",
            "Epoch 59/100\n",
            "3/3 [==============================] - 0s 21ms/step - loss: 0.1237 - accuracy: 0.9834 - val_loss: 0.1246 - val_accuracy: 0.9819\n",
            "Epoch 60/100\n",
            "3/3 [==============================] - 0s 18ms/step - loss: 0.1196 - accuracy: 0.9836 - val_loss: 0.1204 - val_accuracy: 0.9822\n",
            "Epoch 61/100\n",
            "3/3 [==============================] - 0s 18ms/step - loss: 0.1158 - accuracy: 0.9837 - val_loss: 0.1168 - val_accuracy: 0.9819\n",
            "Epoch 62/100\n",
            "3/3 [==============================] - 0s 19ms/step - loss: 0.1122 - accuracy: 0.9837 - val_loss: 0.1130 - val_accuracy: 0.9822\n",
            "Epoch 63/100\n",
            "3/3 [==============================] - 0s 26ms/step - loss: 0.1088 - accuracy: 0.9839 - val_loss: 0.1096 - val_accuracy: 0.9825\n",
            "Epoch 64/100\n",
            "3/3 [==============================] - 0s 19ms/step - loss: 0.1056 - accuracy: 0.9842 - val_loss: 0.1063 - val_accuracy: 0.9825\n",
            "Epoch 65/100\n",
            "3/3 [==============================] - 0s 22ms/step - loss: 0.1022 - accuracy: 0.9842 - val_loss: 0.1030 - val_accuracy: 0.9840\n",
            "Epoch 66/100\n",
            "3/3 [==============================] - 0s 19ms/step - loss: 0.0992 - accuracy: 0.9848 - val_loss: 0.1000 - val_accuracy: 0.9840\n",
            "Epoch 67/100\n",
            "3/3 [==============================] - 0s 19ms/step - loss: 0.0963 - accuracy: 0.9854 - val_loss: 0.0971 - val_accuracy: 0.9837\n",
            "Epoch 68/100\n",
            "3/3 [==============================] - 0s 20ms/step - loss: 0.0935 - accuracy: 0.9846 - val_loss: 0.0941 - val_accuracy: 0.9860\n",
            "Epoch 69/100\n",
            "3/3 [==============================] - 0s 24ms/step - loss: 0.0907 - accuracy: 0.9861 - val_loss: 0.0915 - val_accuracy: 0.9849\n",
            "Epoch 70/100\n",
            "3/3 [==============================] - 0s 21ms/step - loss: 0.0880 - accuracy: 0.9859 - val_loss: 0.0889 - val_accuracy: 0.9884\n",
            "Epoch 71/100\n",
            "3/3 [==============================] - 0s 23ms/step - loss: 0.0856 - accuracy: 0.9883 - val_loss: 0.0867 - val_accuracy: 0.9840\n",
            "Epoch 72/100\n",
            "3/3 [==============================] - 0s 18ms/step - loss: 0.0831 - accuracy: 0.9866 - val_loss: 0.0837 - val_accuracy: 0.9896\n",
            "Epoch 73/100\n",
            "3/3 [==============================] - 0s 21ms/step - loss: 0.0805 - accuracy: 0.9884 - val_loss: 0.0815 - val_accuracy: 0.9860\n",
            "Epoch 74/100\n",
            "3/3 [==============================] - 0s 18ms/step - loss: 0.0782 - accuracy: 0.9881 - val_loss: 0.0790 - val_accuracy: 0.9905\n",
            "Epoch 75/100\n",
            "3/3 [==============================] - 0s 18ms/step - loss: 0.0761 - accuracy: 0.9894 - val_loss: 0.0772 - val_accuracy: 0.9866\n",
            "Epoch 76/100\n",
            "3/3 [==============================] - 0s 27ms/step - loss: 0.0739 - accuracy: 0.9889 - val_loss: 0.0748 - val_accuracy: 0.9920\n",
            "Epoch 77/100\n",
            "3/3 [==============================] - 0s 19ms/step - loss: 0.0721 - accuracy: 0.9905 - val_loss: 0.0728 - val_accuracy: 0.9890\n",
            "Epoch 78/100\n",
            "3/3 [==============================] - 0s 20ms/step - loss: 0.0701 - accuracy: 0.9906 - val_loss: 0.0706 - val_accuracy: 0.9908\n",
            "Epoch 79/100\n",
            "3/3 [==============================] - 0s 23ms/step - loss: 0.0682 - accuracy: 0.9900 - val_loss: 0.0688 - val_accuracy: 0.9920\n",
            "Epoch 80/100\n",
            "3/3 [==============================] - 0s 19ms/step - loss: 0.0665 - accuracy: 0.9927 - val_loss: 0.0673 - val_accuracy: 0.9896\n",
            "Epoch 81/100\n",
            "3/3 [==============================] - 0s 19ms/step - loss: 0.0649 - accuracy: 0.9896 - val_loss: 0.0655 - val_accuracy: 0.9941\n",
            "Epoch 82/100\n",
            "3/3 [==============================] - 0s 18ms/step - loss: 0.0635 - accuracy: 0.9945 - val_loss: 0.0644 - val_accuracy: 0.9896\n",
            "Epoch 83/100\n",
            "3/3 [==============================] - 0s 18ms/step - loss: 0.0620 - accuracy: 0.9897 - val_loss: 0.0623 - val_accuracy: 0.9950\n",
            "Epoch 84/100\n",
            "3/3 [==============================] - 0s 18ms/step - loss: 0.0601 - accuracy: 0.9946 - val_loss: 0.0611 - val_accuracy: 0.9914\n",
            "Epoch 85/100\n",
            "3/3 [==============================] - 0s 20ms/step - loss: 0.0587 - accuracy: 0.9912 - val_loss: 0.0593 - val_accuracy: 0.9967\n",
            "Epoch 86/100\n",
            "3/3 [==============================] - 0s 20ms/step - loss: 0.0573 - accuracy: 0.9950 - val_loss: 0.0578 - val_accuracy: 0.9926\n",
            "Epoch 87/100\n",
            "3/3 [==============================] - 0s 26ms/step - loss: 0.0557 - accuracy: 0.9926 - val_loss: 0.0561 - val_accuracy: 0.9964\n",
            "Epoch 88/100\n",
            "3/3 [==============================] - 0s 19ms/step - loss: 0.0541 - accuracy: 0.9952 - val_loss: 0.0548 - val_accuracy: 0.9950\n",
            "Epoch 89/100\n",
            "3/3 [==============================] - 0s 20ms/step - loss: 0.0529 - accuracy: 0.9935 - val_loss: 0.0533 - val_accuracy: 0.9973\n",
            "Epoch 90/100\n",
            "3/3 [==============================] - 0s 20ms/step - loss: 0.0516 - accuracy: 0.9960 - val_loss: 0.0520 - val_accuracy: 0.9964\n",
            "Epoch 91/100\n",
            "3/3 [==============================] - 0s 23ms/step - loss: 0.0501 - accuracy: 0.9945 - val_loss: 0.0507 - val_accuracy: 0.9973\n",
            "Epoch 92/100\n",
            "3/3 [==============================] - 0s 19ms/step - loss: 0.0488 - accuracy: 0.9959 - val_loss: 0.0494 - val_accuracy: 0.9976\n",
            "Epoch 93/100\n",
            "3/3 [==============================] - 0s 19ms/step - loss: 0.0475 - accuracy: 0.9955 - val_loss: 0.0482 - val_accuracy: 0.9976\n",
            "Epoch 94/100\n",
            "3/3 [==============================] - 0s 19ms/step - loss: 0.0463 - accuracy: 0.9962 - val_loss: 0.0470 - val_accuracy: 0.9979\n",
            "Epoch 95/100\n",
            "3/3 [==============================] - 0s 22ms/step - loss: 0.0452 - accuracy: 0.9964 - val_loss: 0.0460 - val_accuracy: 0.9976\n",
            "Epoch 96/100\n",
            "3/3 [==============================] - 0s 20ms/step - loss: 0.0441 - accuracy: 0.9966 - val_loss: 0.0448 - val_accuracy: 0.9979\n",
            "Epoch 97/100\n",
            "3/3 [==============================] - 0s 20ms/step - loss: 0.0430 - accuracy: 0.9968 - val_loss: 0.0438 - val_accuracy: 0.9979\n",
            "Epoch 98/100\n",
            "3/3 [==============================] - 0s 18ms/step - loss: 0.0420 - accuracy: 0.9966 - val_loss: 0.0427 - val_accuracy: 0.9979\n",
            "Epoch 99/100\n",
            "3/3 [==============================] - 0s 20ms/step - loss: 0.0411 - accuracy: 0.9973 - val_loss: 0.0418 - val_accuracy: 0.9979\n",
            "Epoch 100/100\n",
            "3/3 [==============================] - 0s 18ms/step - loss: 0.0401 - accuracy: 0.9970 - val_loss: 0.0408 - val_accuracy: 0.9985\n"
          ]
        }
      ],
      "source": [
        "if model_selection[model_flag]==\"ALL\" or model_selection[model_flag] == \"LSTM\":\n",
        "  # training the model on training dataset\n",
        "  history = lst.fit(x_train, y_train, epochs=100, batch_size=5000,validation_split=0.2)"
      ]
    },
    {
      "cell_type": "code",
      "execution_count": 49,
      "metadata": {
        "id": "BCQtvJcXRcNr",
        "colab": {
          "base_uri": "https://localhost:8080/"
        },
        "outputId": "5a846a62-5160-4f00-89b6-3dd14d5c2bbd"
      },
      "outputs": [
        {
          "output_type": "stream",
          "name": "stdout",
          "text": [
            "Saved model to disk\n",
            "Loaded model from disk\n"
          ]
        }
      ],
      "source": [
        "if model_selection[model_flag]==\"ALL\" or model_selection[model_flag] == \"LSTM\":\n",
        "  filepath = '/content/drive/MyDrive/Colab_Notebooks/Models/lst_binary_kitsune'+model_name_suffix+'.json'\n",
        "  weightspath = '/content/drive/MyDrive/Colab_Notebooks/Weights/lst_binary_kitsune'+model_name_suffix+'.h5'\n",
        "  if (not path.isfile(filepath)):\n",
        "    # serialize model to JSON\n",
        "    lst_json = lst.to_json()\n",
        "    with open(filepath, \"w\") as json_file:\n",
        "      json_file.write(lst_json)\n",
        "\n",
        "    # serialize weights to HDF5\n",
        "    lst.save_weights(weightspath)\n",
        "    print(\"Saved model to disk\")\n",
        "\n",
        "    # load json and create model\n",
        "    json_file = open(filepath, 'r')\n",
        "    loaded_model_json = json_file.read()\n",
        "    json_file.close()\n",
        "    lst = model_from_json(loaded_model_json)\n",
        "\n",
        "    # load weights into new model\n",
        "    lst.load_weights(weightspath)\n",
        "    print(\"Loaded model from disk\")"
      ]
    },
    {
      "cell_type": "code",
      "execution_count": 50,
      "metadata": {
        "id": "rPaW37T-R0dG",
        "colab": {
          "base_uri": "https://localhost:8080/"
        },
        "outputId": "c9033eef-d904-4e5f-9690-2df1e0534adf"
      },
      "outputs": [
        {
          "output_type": "stream",
          "name": "stdout",
          "text": [
            "Loaded model from disk\n"
          ]
        }
      ],
      "source": [
        "if model_selection[model_flag]==\"ALL\" or model_selection[model_flag] == \"LSTM\":\n",
        "  # load json and create model\n",
        "  json_file = open(filepath, 'r')\n",
        "  loaded_model_json = json_file.read()\n",
        "  json_file.close()\n",
        "  lst = model_from_json(loaded_model_json)\n",
        "\n",
        "  # load weights into new model\n",
        "  lst.load_weights(weightspath)\n",
        "  print(\"Loaded model from disk\")"
      ]
    },
    {
      "cell_type": "code",
      "execution_count": 51,
      "metadata": {
        "id": "ukGDdSggR3na"
      },
      "outputs": [],
      "source": [
        "if model_selection[model_flag]==\"ALL\" or model_selection[model_flag] == \"LSTM\":\n",
        "  # defining loss function, optimizer, metrics and then compiling model\n",
        "  lst.compile(loss='binary_crossentropy',optimizer='adam',metrics=['accuracy'])"
      ]
    },
    {
      "cell_type": "code",
      "execution_count": 52,
      "metadata": {
        "id": "nvjY0u97R68f",
        "colab": {
          "base_uri": "https://localhost:8080/"
        },
        "outputId": "dd66c574-e59b-4ae8-92bd-3aab5e13bd63"
      },
      "outputs": [
        {
          "output_type": "stream",
          "name": "stdout",
          "text": [
            "176/176 [==============================] - 1s 3ms/step - loss: 1.5075 - accuracy: 0.8123\n",
            "Test results - Loss: 1.5074870586395264 - Accuracy: 81.23329281806946%\n"
          ]
        }
      ],
      "source": [
        "if model_selection[model_flag]==\"ALL\" or model_selection[model_flag] == \"LSTM\":\n",
        "  # predicting target attribute on testing dataset\n",
        "  test_results = lst.evaluate(x_test, y_test, verbose=1)\n",
        "  print(f'Test results - Loss: {test_results[0]} - Accuracy: {test_results[1]*100}%')"
      ]
    },
    {
      "cell_type": "code",
      "execution_count": 53,
      "metadata": {
        "id": "f8yKMcIHR_jP",
        "colab": {
          "base_uri": "https://localhost:8080/",
          "height": 472
        },
        "outputId": "1ea113e1-e7b3-4001-b4e1-a77c6df314b2"
      },
      "outputs": [
        {
          "output_type": "display_data",
          "data": {
            "text/plain": [
              "<Figure size 640x480 with 1 Axes>"
            ],
            "image/png": "[encoded data removed]"
          },
          "metadata": {}
        }
      ],
      "source": [
        "if model_selection[model_flag]==\"ALL\" or model_selection[model_flag] == \"LSTM\":\n",
        "  # Plot of accuracy vs epoch of train and test dataset\n",
        "  plt.plot(history.history['accuracy'])\n",
        "  plt.plot(history.history['val_accuracy'])\n",
        "  plt.title(\"Plot of accuracy vs epoch for train and test dataset\")\n",
        "  plt.ylabel('accuracy')\n",
        "  plt.xlabel('epoch')\n",
        "  plt.legend(['train', 'test'], loc='best')\n",
        "  plt.savefig('/content/drive/MyDrive/Colab_Notebooks/Plots/lstm_binary_accuracy.png')\n",
        "  plt.show()"
      ]
    },
    {
      "cell_type": "code",
      "execution_count": 54,
      "metadata": {
        "id": "M5g1Rw_SSb5n",
        "colab": {
          "base_uri": "https://localhost:8080/",
          "height": 472
        },
        "outputId": "d9465b23-fdcc-45ed-cfc7-15e9343de5d4"
      },
      "outputs": [
        {
          "output_type": "display_data",
          "data": {
            "text/plain": [
              "<Figure size 640x480 with 1 Axes>"
            ],
            "image/png": "[encoded data removed]"
          },
          "metadata": {}
        }
      ],
      "source": [
        "if model_selection[model_flag]==\"ALL\" or model_selection[model_flag] == \"LSTM\":\n",
        "  # Plot of loss vs epoch of train and test dataset\n",
        "  plt.plot(history.history['loss'])\n",
        "  plt.plot(history.history['val_loss'])\n",
        "  plt.title(\"Plot of loss vs epoch for train and test dataset\")\n",
        "  plt.ylabel('loss')\n",
        "  plt.xlabel('epoch')\n",
        "  plt.legend(['train', 'test'], loc='best')\n",
        "  plt.savefig('/content/drive/MyDrive/Colab_Notebooks/Plots/lstm_binary_loss.png')\n",
        "  plt.show()"
      ]
    },
    {
      "cell_type": "code",
      "execution_count": 55,
      "metadata": {
        "id": "osZa2OV9Se-T"
      },
      "outputs": [],
      "source": [
        "if model_selection[model_flag]==\"ALL\" or model_selection[model_flag] == \"LSTM\":\n",
        "  # representation of model layers\n",
        "  plot_model(lst, to_file='/content/drive/MyDrive/Colab_Notebooks/Plots/lstm_binary.png', show_shapes=True,)"
      ]
    },
    {
      "cell_type": "code",
      "execution_count": 56,
      "metadata": {
        "id": "lw4OLD4HSpaY",
        "colab": {
          "base_uri": "https://localhost:8080/"
        },
        "outputId": "594d5663-211f-4fe2-a901-7d21c7794d90"
      },
      "outputs": [
        {
          "output_type": "execute_result",
          "data": {
            "text/plain": [
              "(5611,)"
            ]
          },
          "metadata": {},
          "execution_count": 56
        }
      ],
      "source": [
        "y_test = np.array(y_test)\n",
        "y_test.shape"
      ]
    },
    {
      "cell_type": "code",
      "execution_count": 57,
      "metadata": {
        "id": "4BvYVrKsTGr3",
        "colab": {
          "base_uri": "https://localhost:8080/"
        },
        "outputId": "3ba9055d-9583-4e32-8381-33bc54997aff"
      },
      "outputs": [
        {
          "output_type": "execute_result",
          "data": {
            "text/plain": [
              "numpy.ndarray"
            ]
          },
          "metadata": {},
          "execution_count": 57
        }
      ],
      "source": [
        "type(y_test)"
      ]
    },
    {
      "cell_type": "code",
      "execution_count": 58,
      "metadata": {
        "id": "KBvCGl6BS0FM",
        "colab": {
          "base_uri": "https://localhost:8080/"
        },
        "outputId": "1c1b4f02-35d0-466d-8a79-e2be566a85e2"
      },
      "outputs": [
        {
          "output_type": "stream",
          "name": "stdout",
          "text": [
            "176/176 [==============================] - 1s 2ms/step\n"
          ]
        }
      ],
      "source": [
        "if model_selection[model_flag]==\"ALL\" or model_selection[model_flag] == \"LSTM\":\n",
        "  y_classes = (lst.predict(x_test)>0.5).astype('int32')"
      ]
    },
    {
      "cell_type": "code",
      "execution_count": 59,
      "metadata": {
        "id": "x_yVqBlLTtLW",
        "colab": {
          "base_uri": "https://localhost:8080/"
        },
        "outputId": "aefe9178-2950-4477-9a78-809b7ebbd0b6"
      },
      "outputs": [
        {
          "output_type": "stream",
          "name": "stdout",
          "text": [
            "Recall Score -  0.0\n",
            "F1 Score -  0.0\n",
            "Precision Score -  0.0\n",
            "False Positive Rate -  [1.]\n",
            "False Negative Rate -  [0.]\n",
            "Thresholds -  [0]\n"
          ]
        },
        {
          "output_type": "stream",
          "name": "stderr",
          "text": [
            "/usr/local/lib/python3.9/dist-packages/sklearn/metrics/_classification.py:1344: UndefinedMetricWarning: Precision is ill-defined and being set to 0.0 due to no predicted samples. Use `zero_division` parameter to control this behavior.\n",
            "  _warn_prf(average, modifier, msg_start, len(result))\n"
          ]
        }
      ],
      "source": [
        "if model_selection[model_flag]==\"ALL\" or model_selection[model_flag] == \"LSTM\":\n",
        "  print(\"Recall Score - \",recall_score(y_test,y_classes))\n",
        "  print(\"F1 Score - \",f1_score(y_test,y_classes))\n",
        "  print(\"Precision Score - \",precision_score(y_test,y_classes))\n",
        "  fpr, fnr, thresholds = det_curve(y_test, y_classes)\n",
        "  print(\"False Positive Rate - \", fpr)\n",
        "  print(\"False Negative Rate - \", fnr)\n",
        "  print(\"Thresholds - \", thresholds)"
      ]
    },
    {
      "cell_type": "code",
      "source": [
        "print(classification_report(y_test, y_classes, target_names=['0', '1']))\n",
        "cm = confusion_matrix(y_test, y_classes)\n",
        "disp = ConfusionMatrixDisplay(confusion_matrix=cm,\n",
        "                              display_labels=['0', '1'])\n",
        "disp.plot()\n",
        "\n",
        "plt.show()"
      ],
      "metadata": {
        "id": "lHw1E32esovH",
        "colab": {
          "base_uri": "https://localhost:8080/",
          "height": 737
        },
        "outputId": "ebcf4972-43cc-475a-8f14-cb6688d58fd1"
      },
      "execution_count": 60,
      "outputs": [
        {
          "output_type": "stream",
          "name": "stdout",
          "text": [
            "              precision    recall  f1-score   support\n",
            "\n",
            "           0       0.81      1.00      0.90      4558\n",
            "           1       0.00      0.00      0.00      1053\n",
            "\n",
            "    accuracy                           0.81      5611\n",
            "   macro avg       0.41      0.50      0.45      5611\n",
            "weighted avg       0.66      0.81      0.73      5611\n",
            "\n"
          ]
        },
        {
          "output_type": "stream",
          "name": "stderr",
          "text": [
            "/usr/local/lib/python3.9/dist-packages/sklearn/metrics/_classification.py:1344: UndefinedMetricWarning: Precision and F-score are ill-defined and being set to 0.0 in labels with no predicted samples. Use `zero_division` parameter to control this behavior.\n",
            "  _warn_prf(average, modifier, msg_start, len(result))\n",
            "/usr/local/lib/python3.9/dist-packages/sklearn/metrics/_classification.py:1344: UndefinedMetricWarning: Precision and F-score are ill-defined and being set to 0.0 in labels with no predicted samples. Use `zero_division` parameter to control this behavior.\n",
            "  _warn_prf(average, modifier, msg_start, len(result))\n",
            "/usr/local/lib/python3.9/dist-packages/sklearn/metrics/_classification.py:1344: UndefinedMetricWarning: Precision and F-score are ill-defined and being set to 0.0 in labels with no predicted samples. Use `zero_division` parameter to control this behavior.\n",
            "  _warn_prf(average, modifier, msg_start, len(result))\n"
          ]
        },
        {
          "output_type": "display_data",
          "data": {
            "text/plain": [
              "<Figure size 640x480 with 2 Axes>"
            ],
            "image/png": "[encoded data removed]"
          },
          "metadata": {}
        }
      ]
    },
    {
      "cell_type": "markdown",
      "metadata": {
        "id": "H_g15uXe82BY"
      },
      "source": [
        "## **Auto Encoder**"
      ]
    },
    {
      "cell_type": "code",
      "execution_count": 61,
      "metadata": {
        "id": "VQ6pDxghmBwB"
      },
      "outputs": [],
      "source": [
        "if model_selection[model_flag]==\"ALL\" or model_selection[model_flag] == \"AE\":\n",
        "  # splitting the dataset 75% for training and 25% testing\n",
        "  X_train, X_test = train_test_split(bin_data, test_size=0.25, random_state=42)"
      ]
    },
    {
      "cell_type": "code",
      "execution_count": 62,
      "metadata": {
        "id": "uogVT92Q_6wh"
      },
      "outputs": [],
      "source": [
        "if model_selection[model_flag]==\"ALL\" or model_selection[model_flag] == \"AE\":\n",
        "  # dataset excluding target attribute (encoded, one-hot-encoded,original)\n",
        "  X_train = X_train.drop(['label'],axis=1) \n",
        "\n",
        "  y_test = X_test['label'] # target attribute\n",
        "\n",
        "  # dataset excluding target attribute (encoded, one-hot-encoded,original)\n",
        "  X_test = X_test.drop(['label'],axis=1)\n",
        "  # calling the normalization() function\n",
        "  X_train = normalization_train(X_train,numeric_cols)\n",
        "  X_test = normalization_test(X_test,numeric_cols)\n",
        "  X_train = X_train.values\n",
        "  X_test = X_test.values\n",
        "  y_test = y_test.values"
      ]
    },
    {
      "cell_type": "code",
      "execution_count": 63,
      "metadata": {
        "id": "s696BM9uKADC"
      },
      "outputs": [],
      "source": [
        "if model_selection[model_flag]==\"ALL\" or model_selection[model_flag] == \"AE\":\n",
        "  input_dim = X_train.shape[1]\n",
        "  encoding_dim = 50\n",
        "\n",
        "  #input layer\n",
        "  input_layer = Input(shape=(input_dim, ))\n",
        "  #encoding layer with 50 neurons\n",
        "  encoder = Dense(encoding_dim, activation=\"relu\")(input_layer)           \n",
        "  #decoding and output layer\n",
        "  output_layer = Dense(input_dim, activation='softmax')(encoder)"
      ]
    },
    {
      "cell_type": "code",
      "execution_count": 64,
      "metadata": {
        "id": "nLn3vHBZLQtj"
      },
      "outputs": [],
      "source": [
        "if model_selection[model_flag]==\"ALL\" or model_selection[model_flag] == \"AE\":\n",
        "  # creating model with input, encoding, decoding, output layers\n",
        "  autoencoder = Model(inputs=input_layer, outputs=output_layer)\n",
        "\n",
        "  # defining loss function, optimizer, metrics and then compiling model\n",
        "  autoencoder.compile(optimizer='adam', loss='mean_squared_error',metrics=['accuracy'])"
      ]
    },
    {
      "cell_type": "code",
      "execution_count": 65,
      "metadata": {
        "id": "X_zk7PMVLVNm",
        "colab": {
          "base_uri": "https://localhost:8080/"
        },
        "outputId": "111aa71a-ffd7-4f1d-d203-88c18c121ec1"
      },
      "outputs": [
        {
          "output_type": "stream",
          "name": "stdout",
          "text": [
            "Model: \"model\"\n",
            "_________________________________________________________________\n",
            " Layer (type)                Output Shape              Param #   \n",
            "=================================================================\n",
            " input_1 (InputLayer)        [(None, 116)]             0         \n",
            "                                                                 \n",
            " dense_3 (Dense)             (None, 50)                5850      \n",
            "                                                                 \n",
            " dense_4 (Dense)             (None, 116)               5916      \n",
            "                                                                 \n",
            "=================================================================\n",
            "Total params: 11,766\n",
            "Trainable params: 11,766\n",
            "Non-trainable params: 0\n",
            "_________________________________________________________________\n"
          ]
        }
      ],
      "source": [
        "if model_selection[model_flag]==\"ALL\" or model_selection[model_flag] == \"AE\":\n",
        "  # summary of model layers\n",
        "  autoencoder.summary()"
      ]
    },
    {
      "cell_type": "code",
      "execution_count": 66,
      "metadata": {
        "id": "We59NbebLdkJ",
        "colab": {
          "base_uri": "https://localhost:8080/"
        },
        "outputId": "f1bc35f2-0715-4931-a9b5-826e0912400b"
      },
      "outputs": [
        {
          "output_type": "stream",
          "name": "stdout",
          "text": [
            "Epoch 1/100\n",
            "34/34 [==============================] - 2s 13ms/step - loss: 0.4979 - accuracy: 5.9414e-05 - val_loss: 40322235306606592.0000 - val_accuracy: 0.0000e+00\n",
            "Epoch 2/100\n",
            "34/34 [==============================] - 0s 6ms/step - loss: 0.4954 - accuracy: 0.1020 - val_loss: 40322235306606592.0000 - val_accuracy: 0.0000e+00\n",
            "Epoch 3/100\n",
            "34/34 [==============================] - 0s 7ms/step - loss: 0.4947 - accuracy: 0.0973 - val_loss: 40322235306606592.0000 - val_accuracy: 0.0000e+00\n",
            "Epoch 4/100\n",
            "34/34 [==============================] - 0s 6ms/step - loss: 0.4945 - accuracy: 0.1735 - val_loss: 40322235306606592.0000 - val_accuracy: 0.0000e+00\n",
            "Epoch 5/100\n",
            "34/34 [==============================] - 0s 6ms/step - loss: 0.4945 - accuracy: 0.1199 - val_loss: 40322235306606592.0000 - val_accuracy: 0.0000e+00\n",
            "Epoch 6/100\n",
            "34/34 [==============================] - 0s 7ms/step - loss: 0.4944 - accuracy: 0.0482 - val_loss: 40322235306606592.0000 - val_accuracy: 0.0000e+00\n",
            "Epoch 7/100\n",
            "34/34 [==============================] - 0s 7ms/step - loss: 0.4944 - accuracy: 0.0461 - val_loss: 40322235306606592.0000 - val_accuracy: 0.0000e+00\n",
            "Epoch 8/100\n",
            "34/34 [==============================] - 0s 7ms/step - loss: 0.4944 - accuracy: 0.0487 - val_loss: 40322235306606592.0000 - val_accuracy: 0.0000e+00\n",
            "Epoch 9/100\n",
            "34/34 [==============================] - 0s 7ms/step - loss: 0.4944 - accuracy: 0.0475 - val_loss: 40322235306606592.0000 - val_accuracy: 0.0000e+00\n",
            "Epoch 10/100\n",
            "34/34 [==============================] - 0s 7ms/step - loss: 0.4944 - accuracy: 0.0437 - val_loss: 40322235306606592.0000 - val_accuracy: 0.0000e+00\n",
            "Epoch 11/100\n",
            "34/34 [==============================] - 0s 7ms/step - loss: 0.4944 - accuracy: 0.0439 - val_loss: 40322235306606592.0000 - val_accuracy: 0.0000e+00\n",
            "Epoch 12/100\n",
            "34/34 [==============================] - 0s 6ms/step - loss: 0.4944 - accuracy: 0.0488 - val_loss: 40322235306606592.0000 - val_accuracy: 0.0000e+00\n",
            "Epoch 13/100\n",
            "34/34 [==============================] - 0s 5ms/step - loss: 0.4944 - accuracy: 0.0543 - val_loss: 40322235306606592.0000 - val_accuracy: 0.0000e+00\n",
            "Epoch 14/100\n",
            "34/34 [==============================] - 0s 5ms/step - loss: 0.4944 - accuracy: 0.0567 - val_loss: 40322235306606592.0000 - val_accuracy: 0.0000e+00\n",
            "Epoch 15/100\n",
            "34/34 [==============================] - 0s 5ms/step - loss: 0.4944 - accuracy: 0.0632 - val_loss: 40322235306606592.0000 - val_accuracy: 0.0000e+00\n",
            "Epoch 16/100\n",
            "34/34 [==============================] - 0s 5ms/step - loss: 0.4944 - accuracy: 0.0662 - val_loss: 40322235306606592.0000 - val_accuracy: 0.0000e+00\n",
            "Epoch 17/100\n",
            "34/34 [==============================] - 0s 5ms/step - loss: 0.4944 - accuracy: 0.0687 - val_loss: 40322235306606592.0000 - val_accuracy: 0.0000e+00\n",
            "Epoch 18/100\n",
            "34/34 [==============================] - 0s 6ms/step - loss: 0.4944 - accuracy: 0.0715 - val_loss: 40322235306606592.0000 - val_accuracy: 0.0000e+00\n",
            "Epoch 19/100\n",
            "34/34 [==============================] - 0s 6ms/step - loss: 0.4944 - accuracy: 0.0720 - val_loss: 40322235306606592.0000 - val_accuracy: 0.0000e+00\n",
            "Epoch 20/100\n",
            "34/34 [==============================] - 0s 5ms/step - loss: 0.4944 - accuracy: 0.0700 - val_loss: 40322235306606592.0000 - val_accuracy: 0.0000e+00\n",
            "Epoch 21/100\n",
            "34/34 [==============================] - 0s 5ms/step - loss: 0.4944 - accuracy: 0.0671 - val_loss: 40322235306606592.0000 - val_accuracy: 0.0000e+00\n",
            "Epoch 22/100\n",
            "34/34 [==============================] - 0s 5ms/step - loss: 0.4944 - accuracy: 0.0704 - val_loss: 40322235306606592.0000 - val_accuracy: 0.0000e+00\n",
            "Epoch 23/100\n",
            "34/34 [==============================] - 0s 4ms/step - loss: 0.4944 - accuracy: 0.0678 - val_loss: 40322235306606592.0000 - val_accuracy: 0.0000e+00\n",
            "Epoch 24/100\n",
            "34/34 [==============================] - 0s 5ms/step - loss: 0.4944 - accuracy: 0.0691 - val_loss: 40322235306606592.0000 - val_accuracy: 0.0000e+00\n",
            "Epoch 25/100\n",
            "34/34 [==============================] - 0s 5ms/step - loss: 0.4944 - accuracy: 0.0677 - val_loss: 40322235306606592.0000 - val_accuracy: 0.0000e+00\n",
            "Epoch 26/100\n",
            "34/34 [==============================] - 0s 5ms/step - loss: 0.4944 - accuracy: 0.0692 - val_loss: 40322235306606592.0000 - val_accuracy: 0.0000e+00\n",
            "Epoch 27/100\n",
            "34/34 [==============================] - 0s 5ms/step - loss: 0.4944 - accuracy: 0.0736 - val_loss: 40322235306606592.0000 - val_accuracy: 0.0000e+00\n",
            "Epoch 28/100\n",
            "34/34 [==============================] - 0s 5ms/step - loss: 0.4944 - accuracy: 0.0748 - val_loss: 40322235306606592.0000 - val_accuracy: 0.0000e+00\n",
            "Epoch 29/100\n",
            "34/34 [==============================] - 0s 6ms/step - loss: 0.4944 - accuracy: 0.0757 - val_loss: 40322235306606592.0000 - val_accuracy: 0.0000e+00\n",
            "Epoch 30/100\n",
            "34/34 [==============================] - 0s 4ms/step - loss: 0.4944 - accuracy: 0.0833 - val_loss: 40322235306606592.0000 - val_accuracy: 0.0000e+00\n",
            "Epoch 31/100\n",
            "34/34 [==============================] - 0s 4ms/step - loss: 0.4944 - accuracy: 0.0824 - val_loss: 40322235306606592.0000 - val_accuracy: 0.0000e+00\n",
            "Epoch 32/100\n",
            "34/34 [==============================] - 0s 5ms/step - loss: 0.4943 - accuracy: 0.0772 - val_loss: 40322235306606592.0000 - val_accuracy: 0.0000e+00\n",
            "Epoch 33/100\n",
            "34/34 [==============================] - 0s 6ms/step - loss: 0.4943 - accuracy: 0.0797 - val_loss: 40322235306606592.0000 - val_accuracy: 0.0000e+00\n",
            "Epoch 34/100\n",
            "34/34 [==============================] - 0s 5ms/step - loss: 0.4943 - accuracy: 0.0917 - val_loss: 40322235306606592.0000 - val_accuracy: 0.0000e+00\n",
            "Epoch 35/100\n",
            "34/34 [==============================] - 0s 5ms/step - loss: 0.4943 - accuracy: 0.1054 - val_loss: 40322235306606592.0000 - val_accuracy: 0.0000e+00\n",
            "Epoch 36/100\n",
            "34/34 [==============================] - 0s 4ms/step - loss: 0.4943 - accuracy: 0.1038 - val_loss: 40322235306606592.0000 - val_accuracy: 0.0000e+00\n",
            "Epoch 37/100\n",
            "34/34 [==============================] - 0s 4ms/step - loss: 0.4943 - accuracy: 0.0971 - val_loss: 40322235306606592.0000 - val_accuracy: 0.0000e+00\n",
            "Epoch 38/100\n",
            "34/34 [==============================] - 0s 5ms/step - loss: 0.4943 - accuracy: 0.1102 - val_loss: 40322235306606592.0000 - val_accuracy: 0.0000e+00\n",
            "Epoch 39/100\n",
            "34/34 [==============================] - 0s 5ms/step - loss: 0.4943 - accuracy: 0.1050 - val_loss: 40322235306606592.0000 - val_accuracy: 0.0000e+00\n",
            "Epoch 40/100\n",
            "34/34 [==============================] - 0s 5ms/step - loss: 0.4943 - accuracy: 0.1140 - val_loss: 40322235306606592.0000 - val_accuracy: 0.0000e+00\n",
            "Epoch 41/100\n",
            "34/34 [==============================] - 0s 5ms/step - loss: 0.4943 - accuracy: 0.1141 - val_loss: 40322235306606592.0000 - val_accuracy: 0.0000e+00\n",
            "Epoch 42/100\n",
            "34/34 [==============================] - 0s 5ms/step - loss: 0.4943 - accuracy: 0.1320 - val_loss: 40322235306606592.0000 - val_accuracy: 0.0000e+00\n",
            "Epoch 43/100\n",
            "34/34 [==============================] - 0s 6ms/step - loss: 0.4943 - accuracy: 0.1223 - val_loss: 40322235306606592.0000 - val_accuracy: 0.0000e+00\n",
            "Epoch 44/100\n",
            "34/34 [==============================] - 0s 6ms/step - loss: 0.4943 - accuracy: 0.1349 - val_loss: 40322235306606592.0000 - val_accuracy: 0.0000e+00\n",
            "Epoch 45/100\n",
            "34/34 [==============================] - 0s 6ms/step - loss: 0.4943 - accuracy: 0.1350 - val_loss: 40322235306606592.0000 - val_accuracy: 0.0000e+00\n",
            "Epoch 46/100\n",
            "34/34 [==============================] - 0s 5ms/step - loss: 0.4943 - accuracy: 0.1359 - val_loss: 40322235306606592.0000 - val_accuracy: 0.0000e+00\n",
            "Epoch 47/100\n",
            "34/34 [==============================] - 0s 5ms/step - loss: 0.4943 - accuracy: 0.1377 - val_loss: 40322235306606592.0000 - val_accuracy: 0.0000e+00\n",
            "Epoch 48/100\n",
            "34/34 [==============================] - 0s 4ms/step - loss: 0.4943 - accuracy: 0.1300 - val_loss: 40322235306606592.0000 - val_accuracy: 0.0000e+00\n",
            "Epoch 49/100\n",
            "34/34 [==============================] - 0s 5ms/step - loss: 0.4943 - accuracy: 0.1402 - val_loss: 40322235306606592.0000 - val_accuracy: 0.0000e+00\n",
            "Epoch 50/100\n",
            "34/34 [==============================] - 0s 5ms/step - loss: 0.4943 - accuracy: 0.1386 - val_loss: 40322235306606592.0000 - val_accuracy: 0.0000e+00\n",
            "Epoch 51/100\n",
            "34/34 [==============================] - 0s 5ms/step - loss: 0.4943 - accuracy: 0.1512 - val_loss: 40322235306606592.0000 - val_accuracy: 0.0000e+00\n",
            "Epoch 52/100\n",
            "34/34 [==============================] - 0s 4ms/step - loss: 0.4943 - accuracy: 0.1621 - val_loss: 40322235306606592.0000 - val_accuracy: 0.0000e+00\n",
            "Epoch 53/100\n",
            "34/34 [==============================] - 0s 5ms/step - loss: 0.4943 - accuracy: 0.1488 - val_loss: 40322235306606592.0000 - val_accuracy: 0.0000e+00\n",
            "Epoch 54/100\n",
            "34/34 [==============================] - 0s 5ms/step - loss: 0.4943 - accuracy: 0.1584 - val_loss: 40322235306606592.0000 - val_accuracy: 0.0000e+00\n",
            "Epoch 55/100\n",
            "34/34 [==============================] - 0s 4ms/step - loss: 0.4943 - accuracy: 0.1653 - val_loss: 40322235306606592.0000 - val_accuracy: 0.0000e+00\n",
            "Epoch 56/100\n",
            "34/34 [==============================] - 0s 4ms/step - loss: 0.4943 - accuracy: 0.1634 - val_loss: 40322235306606592.0000 - val_accuracy: 0.0000e+00\n",
            "Epoch 57/100\n",
            "34/34 [==============================] - 0s 5ms/step - loss: 0.4943 - accuracy: 0.1640 - val_loss: 40322235306606592.0000 - val_accuracy: 0.0000e+00\n",
            "Epoch 58/100\n",
            "34/34 [==============================] - 0s 5ms/step - loss: 0.4943 - accuracy: 0.1702 - val_loss: 40322235306606592.0000 - val_accuracy: 0.0000e+00\n",
            "Epoch 59/100\n",
            "34/34 [==============================] - 0s 4ms/step - loss: 0.4943 - accuracy: 0.1669 - val_loss: 40322235306606592.0000 - val_accuracy: 0.0000e+00\n",
            "Epoch 60/100\n",
            "34/34 [==============================] - 0s 6ms/step - loss: 0.4943 - accuracy: 0.1674 - val_loss: 40322235306606592.0000 - val_accuracy: 0.0000e+00\n",
            "Epoch 61/100\n",
            "34/34 [==============================] - 0s 5ms/step - loss: 0.4943 - accuracy: 0.1722 - val_loss: 40322235306606592.0000 - val_accuracy: 0.0000e+00\n",
            "Epoch 62/100\n",
            "34/34 [==============================] - 0s 6ms/step - loss: 0.4943 - accuracy: 0.1697 - val_loss: 40322235306606592.0000 - val_accuracy: 0.0000e+00\n",
            "Epoch 63/100\n",
            "34/34 [==============================] - 0s 5ms/step - loss: 0.4943 - accuracy: 0.1741 - val_loss: 40322235306606592.0000 - val_accuracy: 0.0000e+00\n",
            "Epoch 64/100\n",
            "34/34 [==============================] - 0s 5ms/step - loss: 0.4943 - accuracy: 0.1689 - val_loss: 40322235306606592.0000 - val_accuracy: 0.0000e+00\n",
            "Epoch 65/100\n",
            "34/34 [==============================] - 0s 5ms/step - loss: 0.4943 - accuracy: 0.1765 - val_loss: 40322235306606592.0000 - val_accuracy: 0.0000e+00\n",
            "Epoch 66/100\n",
            "34/34 [==============================] - 0s 5ms/step - loss: 0.4943 - accuracy: 0.1716 - val_loss: 40322235306606592.0000 - val_accuracy: 0.0000e+00\n",
            "Epoch 67/100\n",
            "34/34 [==============================] - 0s 6ms/step - loss: 0.4943 - accuracy: 0.1800 - val_loss: 40322235306606592.0000 - val_accuracy: 0.0000e+00\n",
            "Epoch 68/100\n",
            "34/34 [==============================] - 0s 5ms/step - loss: 0.4943 - accuracy: 0.1775 - val_loss: 40322235306606592.0000 - val_accuracy: 0.0000e+00\n",
            "Epoch 69/100\n",
            "34/34 [==============================] - 0s 7ms/step - loss: 0.4943 - accuracy: 0.1814 - val_loss: 40322235306606592.0000 - val_accuracy: 0.0000e+00\n",
            "Epoch 70/100\n",
            "34/34 [==============================] - 0s 7ms/step - loss: 0.4943 - accuracy: 0.1808 - val_loss: 40322235306606592.0000 - val_accuracy: 0.0000e+00\n",
            "Epoch 71/100\n",
            "34/34 [==============================] - 0s 7ms/step - loss: 0.4943 - accuracy: 0.1829 - val_loss: 40322235306606592.0000 - val_accuracy: 0.0000e+00\n",
            "Epoch 72/100\n",
            "34/34 [==============================] - 0s 7ms/step - loss: 0.4943 - accuracy: 0.1801 - val_loss: 40322235306606592.0000 - val_accuracy: 0.0000e+00\n",
            "Epoch 73/100\n",
            "34/34 [==============================] - 0s 6ms/step - loss: 0.4943 - accuracy: 0.1830 - val_loss: 40322235306606592.0000 - val_accuracy: 0.0000e+00\n",
            "Epoch 74/100\n",
            "34/34 [==============================] - 0s 6ms/step - loss: 0.4943 - accuracy: 0.1857 - val_loss: 40322235306606592.0000 - val_accuracy: 0.0000e+00\n",
            "Epoch 75/100\n",
            "34/34 [==============================] - 0s 7ms/step - loss: 0.4943 - accuracy: 0.1813 - val_loss: 40322235306606592.0000 - val_accuracy: 0.0000e+00\n",
            "Epoch 76/100\n",
            "34/34 [==============================] - 0s 7ms/step - loss: 0.4943 - accuracy: 0.1830 - val_loss: 40322235306606592.0000 - val_accuracy: 0.0000e+00\n",
            "Epoch 77/100\n",
            "34/34 [==============================] - 0s 7ms/step - loss: 0.4943 - accuracy: 0.1895 - val_loss: 40322235306606592.0000 - val_accuracy: 0.0000e+00\n",
            "Epoch 78/100\n",
            "34/34 [==============================] - 0s 8ms/step - loss: 0.4943 - accuracy: 0.1754 - val_loss: 40322235306606592.0000 - val_accuracy: 0.0000e+00\n",
            "Epoch 79/100\n",
            "34/34 [==============================] - 0s 6ms/step - loss: 0.4943 - accuracy: 0.1879 - val_loss: 40322235306606592.0000 - val_accuracy: 0.0000e+00\n",
            "Epoch 80/100\n",
            "34/34 [==============================] - 0s 7ms/step - loss: 0.4943 - accuracy: 0.1822 - val_loss: 40322235306606592.0000 - val_accuracy: 0.0000e+00\n",
            "Epoch 81/100\n",
            "34/34 [==============================] - 0s 6ms/step - loss: 0.4943 - accuracy: 0.1774 - val_loss: 40322235306606592.0000 - val_accuracy: 0.0000e+00\n",
            "Epoch 82/100\n",
            "34/34 [==============================] - 0s 6ms/step - loss: 0.4943 - accuracy: 0.1844 - val_loss: 40322235306606592.0000 - val_accuracy: 0.0000e+00\n",
            "Epoch 83/100\n",
            "34/34 [==============================] - 0s 7ms/step - loss: 0.4943 - accuracy: 0.1795 - val_loss: 40322235306606592.0000 - val_accuracy: 0.0000e+00\n",
            "Epoch 84/100\n",
            "34/34 [==============================] - 0s 5ms/step - loss: 0.4943 - accuracy: 0.1807 - val_loss: 40322235306606592.0000 - val_accuracy: 0.0000e+00\n",
            "Epoch 85/100\n",
            "34/34 [==============================] - 0s 5ms/step - loss: 0.4943 - accuracy: 0.1821 - val_loss: 40322235306606592.0000 - val_accuracy: 0.0000e+00\n",
            "Epoch 86/100\n",
            "34/34 [==============================] - 0s 5ms/step - loss: 0.4943 - accuracy: 0.1792 - val_loss: 40322235306606592.0000 - val_accuracy: 0.0000e+00\n",
            "Epoch 87/100\n",
            "34/34 [==============================] - 0s 5ms/step - loss: 0.4943 - accuracy: 0.1794 - val_loss: 40322235306606592.0000 - val_accuracy: 0.0000e+00\n",
            "Epoch 88/100\n",
            "34/34 [==============================] - 0s 5ms/step - loss: 0.4943 - accuracy: 0.1880 - val_loss: 40322235306606592.0000 - val_accuracy: 0.0000e+00\n",
            "Epoch 89/100\n",
            "34/34 [==============================] - 0s 6ms/step - loss: 0.4943 - accuracy: 0.1816 - val_loss: 40322235306606592.0000 - val_accuracy: 0.0000e+00\n",
            "Epoch 90/100\n",
            "34/34 [==============================] - 0s 6ms/step - loss: 0.4943 - accuracy: 0.1776 - val_loss: 40322235306606592.0000 - val_accuracy: 0.0000e+00\n",
            "Epoch 91/100\n",
            "34/34 [==============================] - 0s 6ms/step - loss: 0.4943 - accuracy: 0.1819 - val_loss: 40322235306606592.0000 - val_accuracy: 0.0000e+00\n",
            "Epoch 92/100\n",
            "34/34 [==============================] - 0s 6ms/step - loss: 0.4943 - accuracy: 0.1888 - val_loss: 40322235306606592.0000 - val_accuracy: 0.0000e+00\n",
            "Epoch 93/100\n",
            "34/34 [==============================] - 0s 5ms/step - loss: 0.4943 - accuracy: 0.1841 - val_loss: 40322235306606592.0000 - val_accuracy: 0.0000e+00\n",
            "Epoch 94/100\n",
            "34/34 [==============================] - 0s 4ms/step - loss: 0.4943 - accuracy: 0.1770 - val_loss: 40322235306606592.0000 - val_accuracy: 0.0000e+00\n",
            "Epoch 95/100\n",
            "34/34 [==============================] - 0s 5ms/step - loss: 0.4943 - accuracy: 0.1841 - val_loss: 40322235306606592.0000 - val_accuracy: 0.0000e+00\n",
            "Epoch 96/100\n",
            "34/34 [==============================] - 0s 5ms/step - loss: 0.4943 - accuracy: 0.1838 - val_loss: 40322235306606592.0000 - val_accuracy: 0.0000e+00\n",
            "Epoch 97/100\n",
            "34/34 [==============================] - 0s 5ms/step - loss: 0.4943 - accuracy: 0.1828 - val_loss: 40322235306606592.0000 - val_accuracy: 0.0000e+00\n",
            "Epoch 98/100\n",
            "34/34 [==============================] - 0s 6ms/step - loss: 0.4943 - accuracy: 0.1822 - val_loss: 40322235306606592.0000 - val_accuracy: 0.0000e+00\n",
            "Epoch 99/100\n",
            "34/34 [==============================] - 0s 4ms/step - loss: 0.4943 - accuracy: 0.1834 - val_loss: 40322235306606592.0000 - val_accuracy: 0.0000e+00\n",
            "Epoch 100/100\n",
            "34/34 [==============================] - 0s 5ms/step - loss: 0.4943 - accuracy: 0.1803 - val_loss: 40322235306606592.0000 - val_accuracy: 0.0000e+00\n"
          ]
        }
      ],
      "source": [
        "if model_selection[model_flag]==\"ALL\" or model_selection[model_flag] == \"AE\":\n",
        "  # training the model on training dataset\n",
        "  history = autoencoder.fit(X_train, X_train, epochs=100,batch_size=500,validation_data=(X_test, X_test)).history"
      ]
    },
    {
      "cell_type": "code",
      "execution_count": 67,
      "metadata": {
        "id": "AdtR3-9xLliU",
        "colab": {
          "base_uri": "https://localhost:8080/"
        },
        "outputId": "1cf95fd4-d676-4b19-8149-a95f7da32783"
      },
      "outputs": [
        {
          "output_type": "stream",
          "name": "stdout",
          "text": [
            "Saved model to disk\n",
            "Loaded model from disk\n"
          ]
        }
      ],
      "source": [
        "if model_selection[model_flag]==\"ALL\" or model_selection[model_flag] == \"AE\":\n",
        "  filepath = '/content/drive/MyDrive/Colab_Notebooks/Models/ae_binary'+model_name_suffix+'.json'\n",
        "  weightspath = '/content/drive/MyDrive/Colab_Notebooks/Weights/ae_binary'+model_name_suffix+'.h5'\n",
        "  if (not path.isfile(filepath)): \n",
        "    # serialize model to JSON\n",
        "    autoencoder_json = autoencoder.to_json()\n",
        "    with open(filepath, \"w\") as json_file:\n",
        "      json_file.write(autoencoder_json)\n",
        "\n",
        "    # serialize weights to HDF5\n",
        "    autoencoder.save_weights(weightspath)\n",
        "    print(\"Saved model to disk\")\n",
        "\n",
        "    # load json and create model\n",
        "    json_file = open(filepath, 'r')\n",
        "    loaded_model_json = json_file.read()\n",
        "    json_file.close()\n",
        "    autoencoder = model_from_json(loaded_model_json)\n",
        "\n",
        "    # load weights into new model\n",
        "    autoencoder.load_weights(weightspath)\n",
        "    print(\"Loaded model from disk\")"
      ]
    },
    {
      "cell_type": "code",
      "execution_count": 68,
      "metadata": {
        "id": "Wqr6HVtMLwx9"
      },
      "outputs": [],
      "source": [
        "if model_selection[model_flag]==\"ALL\" or model_selection[model_flag] == \"AE\":\n",
        "  # defining loss function, optimizer, metrics and then compiling model\n",
        "  autoencoder.compile(optimizer='adam', loss='mean_squared_error',metrics=['accuracy'])"
      ]
    },
    {
      "cell_type": "code",
      "execution_count": 69,
      "metadata": {
        "id": "FQrjCk2hL09x",
        "colab": {
          "base_uri": "https://localhost:8080/"
        },
        "outputId": "43d7b3bb-9fb7-4068-a2ce-bbd22e727530"
      },
      "outputs": [
        {
          "output_type": "stream",
          "name": "stdout",
          "text": [
            "176/176 [==============================] - 1s 2ms/step - loss: 40322226716672000.0000 - accuracy: 0.0000e+00\n",
            "Test results - Loss: 4.0322226716672e+16 - Accuracy: 0.0%\n"
          ]
        }
      ],
      "source": [
        "if model_selection[model_flag]==\"ALL\" or model_selection[model_flag] == \"AE\":\n",
        "  # predicting target attribute on testing dataset\n",
        "  test_results = autoencoder.evaluate(X_test, X_test, verbose=1)\n",
        "  print(f'Test results - Loss: {test_results[0]} - Accuracy: {test_results[1]}%')"
      ]
    },
    {
      "cell_type": "code",
      "execution_count": 70,
      "metadata": {
        "id": "VqQsjSZcL1-B",
        "colab": {
          "base_uri": "https://localhost:8080/",
          "height": 472
        },
        "outputId": "7d5e7333-31e5-4f12-eb8c-d439f28c6f55"
      },
      "outputs": [
        {
          "output_type": "display_data",
          "data": {
            "text/plain": [
              "<Figure size 640x480 with 1 Axes>"
            ],
            "image/png": "[encoded data removed]"
          },
          "metadata": {}
        }
      ],
      "source": [
        "if model_selection[model_flag]==\"ALL\" or model_selection[model_flag] == \"AE\":\n",
        "  # Plot of loss vs epoch of train and test dataset\n",
        "  plt.plot(history['loss'])\n",
        "  plt.plot(history['val_loss'])\n",
        "  plt.title(\"Plot of loss vs epoch for train and test dataset\")\n",
        "  plt.ylabel('loss')\n",
        "  plt.xlabel('epoch')\n",
        "  plt.legend(['train', 'test'], loc='upper right')\n",
        "  plt.savefig('/content/drive/MyDrive/Colab_Notebooks/Plots/ae_binary_loss.png')\n",
        "  plt.show()"
      ]
    },
    {
      "cell_type": "code",
      "execution_count": 71,
      "metadata": {
        "id": "fkjD9QXKL25Z",
        "colab": {
          "base_uri": "https://localhost:8080/",
          "height": 472
        },
        "outputId": "294e8fc4-c0f0-44ec-d1bf-28b737353132"
      },
      "outputs": [
        {
          "output_type": "display_data",
          "data": {
            "text/plain": [
              "<Figure size 640x480 with 1 Axes>"
            ],
            "image/png": "[encoded data removed]"
          },
          "metadata": {}
        }
      ],
      "source": [
        "if model_selection[model_flag]==\"ALL\" or model_selection[model_flag] == \"AE\":\n",
        "  # Plot of accuracy vs epoch of train and test dataset\n",
        "  plt.plot(history['accuracy'])\n",
        "  plt.plot(history['val_accuracy'])\n",
        "  plt.title(\"Plot of accuracy vs epoch for train and test dataset\")\n",
        "  plt.ylabel('accuracy')\n",
        "  plt.xlabel('epoch')\n",
        "  plt.legend(['train', 'test'], loc='best')\n",
        "  plt.savefig('/content/drive/MyDrive/Colab_Notebooks/Plots/ae_binary_accuracy.png')\n",
        "  plt.show()"
      ]
    },
    {
      "cell_type": "code",
      "execution_count": 72,
      "metadata": {
        "id": "lf9q83sBMGPD"
      },
      "outputs": [],
      "source": [
        "if model_selection[model_flag]==\"ALL\" or model_selection[model_flag] == \"AE\":\n",
        "  # representation of model layers\n",
        "  plot_model(autoencoder, to_file='/content/drive/MyDrive/Colab_Notebooks/Plots/ae_binary.png', show_shapes=True,)"
      ]
    },
    {
      "cell_type": "code",
      "execution_count": 73,
      "metadata": {
        "id": "SFIXKGwuMLFo",
        "colab": {
          "base_uri": "https://localhost:8080/"
        },
        "outputId": "566652a7-ee01-4815-c96f-28dee8b48114"
      },
      "outputs": [
        {
          "output_type": "stream",
          "name": "stdout",
          "text": [
            "176/176 [==============================] - 0s 2ms/step\n"
          ]
        }
      ],
      "source": [
        "if model_selection[model_flag]==\"ALL\" or model_selection[model_flag] == \"AE\":\n",
        "  # calculating reconstruction error \n",
        "  predictions = autoencoder.predict(X_test)"
      ]
    },
    {
      "cell_type": "code",
      "execution_count": 74,
      "metadata": {
        "id": "cqKJCyZnMMEG"
      },
      "outputs": [],
      "source": [
        "if model_selection[model_flag]==\"ALL\" or model_selection[model_flag] == \"AE\":\n",
        "  mse = np.mean(np.power(X_test - predictions, 2), axis=1)\n",
        "  error_df = pd.DataFrame({'reconstruction_error': mse,\n",
        "                           'true_class': y_test})"
      ]
    },
    {
      "cell_type": "code",
      "execution_count": 75,
      "metadata": {
        "id": "EdQJudbDMhmB",
        "colab": {
          "base_uri": "https://localhost:8080/"
        },
        "outputId": "7b4b7925-b95b-4bec-f4ea-e9647ebeac57"
      },
      "outputs": [
        {
          "output_type": "stream",
          "name": "stdout",
          "text": [
            "(5611, 116)\n"
          ]
        }
      ],
      "source": [
        "if model_selection[model_flag]==\"ALL\" or model_selection[model_flag] == \"AE\":\n",
        "  error_df.describe()\n",
        "  print(predictions.shape)"
      ]
    },
    {
      "cell_type": "markdown",
      "metadata": {
        "id": "PHsaAAMmNQrs"
      },
      "source": [
        "## **AE Classifier**"
      ]
    },
    {
      "cell_type": "code",
      "execution_count": 76,
      "metadata": {
        "id": "1hK07LDBMoZg"
      },
      "outputs": [],
      "source": [
        "if model_selection[model_flag]==\"ALL\" or model_selection[model_flag] == \"AE\":\n",
        "  i_dim = predictions.shape[1]\n",
        "\n",
        "  #input layer\n",
        "  i_layer = Input(shape=(i_dim, ))\n",
        "  #hidden layer with 50 neurons\n",
        "  fvector = Dense(50, activation=\"sigmoid\")(i_layer)                    \n",
        "  #doutput layer\n",
        "  o_layer = Dense(1, activation='sigmoid')(fvector)"
      ]
    },
    {
      "cell_type": "code",
      "execution_count": 77,
      "metadata": {
        "id": "Efq77rVINXWE"
      },
      "outputs": [],
      "source": [
        "if model_selection[model_flag]==\"ALL\" or model_selection[model_flag] == \"AE\":\n",
        "  # creating model with input, encoding, decoding, output layers\n",
        "  ae_classifier = Model(inputs=i_layer, outputs=o_layer)\n",
        "\n",
        "  # defining loss function, optimizer, metrics and then compiling model\n",
        "  ae_classifier.compile(optimizer='adam', loss='binary_crossentropy',metrics=['accuracy'])"
      ]
    },
    {
      "cell_type": "code",
      "execution_count": 78,
      "metadata": {
        "id": "0Yl594VGNX1W",
        "colab": {
          "base_uri": "https://localhost:8080/"
        },
        "outputId": "ec035d3d-7c1c-4493-efc5-e0570d612c8a"
      },
      "outputs": [
        {
          "output_type": "stream",
          "name": "stdout",
          "text": [
            "Model: \"model_1\"\n",
            "_________________________________________________________________\n",
            " Layer (type)                Output Shape              Param #   \n",
            "=================================================================\n",
            " input_2 (InputLayer)        [(None, 116)]             0         \n",
            "                                                                 \n",
            " dense_5 (Dense)             (None, 50)                5850      \n",
            "                                                                 \n",
            " dense_6 (Dense)             (None, 1)                 51        \n",
            "                                                                 \n",
            "=================================================================\n",
            "Total params: 5,901\n",
            "Trainable params: 5,901\n",
            "Non-trainable params: 0\n",
            "_________________________________________________________________\n"
          ]
        }
      ],
      "source": [
        "if model_selection[model_flag]==\"ALL\" or model_selection[model_flag] == \"AE\":\n",
        "  # summary of model layers\n",
        "  ae_classifier.summary()"
      ]
    },
    {
      "cell_type": "code",
      "execution_count": 79,
      "metadata": {
        "id": "23n8Qt0uNX8Z",
        "colab": {
          "base_uri": "https://localhost:8080/"
        },
        "outputId": "c7d9c8b3-8266-4103-e51b-505215304155"
      },
      "outputs": [
        {
          "output_type": "stream",
          "name": "stdout",
          "text": [
            "Epoch 1/300\n",
            "9/9 [==============================] - 1s 26ms/step - loss: 0.6009 - accuracy: 0.8115 - val_loss: 0.5673 - val_accuracy: 0.8157\n",
            "Epoch 2/300\n",
            "9/9 [==============================] - 0s 7ms/step - loss: 0.5499 - accuracy: 0.8115 - val_loss: 0.5251 - val_accuracy: 0.8157\n",
            "Epoch 3/300\n",
            "9/9 [==============================] - 0s 7ms/step - loss: 0.5159 - accuracy: 0.8115 - val_loss: 0.4998 - val_accuracy: 0.8157\n",
            "Epoch 4/300\n",
            "9/9 [==============================] - 0s 8ms/step - loss: 0.4979 - accuracy: 0.8115 - val_loss: 0.4862 - val_accuracy: 0.8157\n",
            "Epoch 5/300\n",
            "9/9 [==============================] - 0s 8ms/step - loss: 0.4878 - accuracy: 0.8115 - val_loss: 0.4802 - val_accuracy: 0.8157\n",
            "Epoch 6/300\n",
            "9/9 [==============================] - 0s 9ms/step - loss: 0.4846 - accuracy: 0.8115 - val_loss: 0.4777 - val_accuracy: 0.8157\n",
            "Epoch 7/300\n",
            "9/9 [==============================] - 0s 7ms/step - loss: 0.4830 - accuracy: 0.8115 - val_loss: 0.4768 - val_accuracy: 0.8157\n",
            "Epoch 8/300\n",
            "9/9 [==============================] - 0s 9ms/step - loss: 0.4826 - accuracy: 0.8115 - val_loss: 0.4765 - val_accuracy: 0.8157\n",
            "Epoch 9/300\n",
            "9/9 [==============================] - 0s 8ms/step - loss: 0.4824 - accuracy: 0.8115 - val_loss: 0.4763 - val_accuracy: 0.8157\n",
            "Epoch 10/300\n",
            "9/9 [==============================] - 0s 9ms/step - loss: 0.4822 - accuracy: 0.8115 - val_loss: 0.4761 - val_accuracy: 0.8157\n",
            "Epoch 11/300\n",
            "9/9 [==============================] - 0s 8ms/step - loss: 0.4820 - accuracy: 0.8115 - val_loss: 0.4760 - val_accuracy: 0.8157\n",
            "Epoch 12/300\n",
            "9/9 [==============================] - 0s 9ms/step - loss: 0.4819 - accuracy: 0.8115 - val_loss: 0.4758 - val_accuracy: 0.8157\n",
            "Epoch 13/300\n",
            "9/9 [==============================] - 0s 9ms/step - loss: 0.4817 - accuracy: 0.8115 - val_loss: 0.4757 - val_accuracy: 0.8157\n",
            "Epoch 14/300\n",
            "9/9 [==============================] - 0s 7ms/step - loss: 0.4815 - accuracy: 0.8115 - val_loss: 0.4756 - val_accuracy: 0.8157\n",
            "Epoch 15/300\n",
            "9/9 [==============================] - 0s 10ms/step - loss: 0.4814 - accuracy: 0.8115 - val_loss: 0.4754 - val_accuracy: 0.8157\n",
            "Epoch 16/300\n",
            "9/9 [==============================] - 0s 9ms/step - loss: 0.4812 - accuracy: 0.8115 - val_loss: 0.4753 - val_accuracy: 0.8157\n",
            "Epoch 17/300\n",
            "9/9 [==============================] - 0s 9ms/step - loss: 0.4811 - accuracy: 0.8115 - val_loss: 0.4752 - val_accuracy: 0.8157\n",
            "Epoch 18/300\n",
            "9/9 [==============================] - 0s 8ms/step - loss: 0.4809 - accuracy: 0.8115 - val_loss: 0.4751 - val_accuracy: 0.8157\n",
            "Epoch 19/300\n",
            "9/9 [==============================] - 0s 8ms/step - loss: 0.4808 - accuracy: 0.8115 - val_loss: 0.4749 - val_accuracy: 0.8157\n",
            "Epoch 20/300\n",
            "9/9 [==============================] - 0s 7ms/step - loss: 0.4807 - accuracy: 0.8115 - val_loss: 0.4748 - val_accuracy: 0.8157\n",
            "Epoch 21/300\n",
            "9/9 [==============================] - 0s 9ms/step - loss: 0.4805 - accuracy: 0.8115 - val_loss: 0.4747 - val_accuracy: 0.8157\n",
            "Epoch 22/300\n",
            "9/9 [==============================] - 0s 7ms/step - loss: 0.4804 - accuracy: 0.8115 - val_loss: 0.4746 - val_accuracy: 0.8157\n",
            "Epoch 23/300\n",
            "9/9 [==============================] - 0s 11ms/step - loss: 0.4802 - accuracy: 0.8115 - val_loss: 0.4745 - val_accuracy: 0.8157\n",
            "Epoch 24/300\n",
            "9/9 [==============================] - 0s 11ms/step - loss: 0.4801 - accuracy: 0.8115 - val_loss: 0.4744 - val_accuracy: 0.8157\n",
            "Epoch 25/300\n",
            "9/9 [==============================] - 0s 10ms/step - loss: 0.4800 - accuracy: 0.8115 - val_loss: 0.4743 - val_accuracy: 0.8157\n",
            "Epoch 26/300\n",
            "9/9 [==============================] - 0s 10ms/step - loss: 0.4799 - accuracy: 0.8115 - val_loss: 0.4742 - val_accuracy: 0.8157\n",
            "Epoch 27/300\n",
            "9/9 [==============================] - 0s 12ms/step - loss: 0.4798 - accuracy: 0.8115 - val_loss: 0.4740 - val_accuracy: 0.8157\n",
            "Epoch 28/300\n",
            "9/9 [==============================] - 0s 9ms/step - loss: 0.4796 - accuracy: 0.8115 - val_loss: 0.4739 - val_accuracy: 0.8157\n",
            "Epoch 29/300\n",
            "9/9 [==============================] - 0s 11ms/step - loss: 0.4795 - accuracy: 0.8115 - val_loss: 0.4738 - val_accuracy: 0.8157\n",
            "Epoch 30/300\n",
            "9/9 [==============================] - 0s 10ms/step - loss: 0.4794 - accuracy: 0.8115 - val_loss: 0.4738 - val_accuracy: 0.8157\n",
            "Epoch 31/300\n",
            "9/9 [==============================] - 0s 11ms/step - loss: 0.4793 - accuracy: 0.8115 - val_loss: 0.4737 - val_accuracy: 0.8157\n",
            "Epoch 32/300\n",
            "9/9 [==============================] - 0s 9ms/step - loss: 0.4792 - accuracy: 0.8115 - val_loss: 0.4736 - val_accuracy: 0.8157\n",
            "Epoch 33/300\n",
            "9/9 [==============================] - 0s 9ms/step - loss: 0.4791 - accuracy: 0.8115 - val_loss: 0.4735 - val_accuracy: 0.8157\n",
            "Epoch 34/300\n",
            "9/9 [==============================] - 0s 11ms/step - loss: 0.4790 - accuracy: 0.8115 - val_loss: 0.4734 - val_accuracy: 0.8157\n",
            "Epoch 35/300\n",
            "9/9 [==============================] - 0s 12ms/step - loss: 0.4789 - accuracy: 0.8115 - val_loss: 0.4733 - val_accuracy: 0.8157\n",
            "Epoch 36/300\n",
            "9/9 [==============================] - 0s 11ms/step - loss: 0.4788 - accuracy: 0.8115 - val_loss: 0.4732 - val_accuracy: 0.8157\n",
            "Epoch 37/300\n",
            "9/9 [==============================] - 0s 12ms/step - loss: 0.4787 - accuracy: 0.8115 - val_loss: 0.4732 - val_accuracy: 0.8157\n",
            "Epoch 38/300\n",
            "9/9 [==============================] - 0s 11ms/step - loss: 0.4786 - accuracy: 0.8115 - val_loss: 0.4731 - val_accuracy: 0.8157\n",
            "Epoch 39/300\n",
            "9/9 [==============================] - 0s 9ms/step - loss: 0.4785 - accuracy: 0.8115 - val_loss: 0.4730 - val_accuracy: 0.8157\n",
            "Epoch 40/300\n",
            "9/9 [==============================] - 0s 11ms/step - loss: 0.4784 - accuracy: 0.8115 - val_loss: 0.4729 - val_accuracy: 0.8157\n",
            "Epoch 41/300\n",
            "9/9 [==============================] - 0s 12ms/step - loss: 0.4783 - accuracy: 0.8115 - val_loss: 0.4728 - val_accuracy: 0.8157\n",
            "Epoch 42/300\n",
            "9/9 [==============================] - 0s 11ms/step - loss: 0.4782 - accuracy: 0.8115 - val_loss: 0.4728 - val_accuracy: 0.8157\n",
            "Epoch 43/300\n",
            "9/9 [==============================] - 0s 11ms/step - loss: 0.4781 - accuracy: 0.8115 - val_loss: 0.4728 - val_accuracy: 0.8157\n",
            "Epoch 44/300\n",
            "9/9 [==============================] - 0s 10ms/step - loss: 0.4780 - accuracy: 0.8115 - val_loss: 0.4727 - val_accuracy: 0.8157\n",
            "Epoch 45/300\n",
            "9/9 [==============================] - 0s 10ms/step - loss: 0.4779 - accuracy: 0.8115 - val_loss: 0.4726 - val_accuracy: 0.8157\n",
            "Epoch 46/300\n",
            "9/9 [==============================] - 0s 11ms/step - loss: 0.4778 - accuracy: 0.8115 - val_loss: 0.4725 - val_accuracy: 0.8157\n",
            "Epoch 47/300\n",
            "9/9 [==============================] - 0s 10ms/step - loss: 0.4778 - accuracy: 0.8115 - val_loss: 0.4724 - val_accuracy: 0.8157\n",
            "Epoch 48/300\n",
            "9/9 [==============================] - 0s 11ms/step - loss: 0.4777 - accuracy: 0.8115 - val_loss: 0.4724 - val_accuracy: 0.8157\n",
            "Epoch 49/300\n",
            "9/9 [==============================] - 0s 10ms/step - loss: 0.4776 - accuracy: 0.8115 - val_loss: 0.4723 - val_accuracy: 0.8157\n",
            "Epoch 50/300\n",
            "9/9 [==============================] - 0s 11ms/step - loss: 0.4775 - accuracy: 0.8115 - val_loss: 0.4723 - val_accuracy: 0.8157\n",
            "Epoch 51/300\n",
            "9/9 [==============================] - 0s 11ms/step - loss: 0.4775 - accuracy: 0.8115 - val_loss: 0.4723 - val_accuracy: 0.8157\n",
            "Epoch 52/300\n",
            "9/9 [==============================] - 0s 11ms/step - loss: 0.4774 - accuracy: 0.8115 - val_loss: 0.4721 - val_accuracy: 0.8157\n",
            "Epoch 53/300\n",
            "9/9 [==============================] - 0s 11ms/step - loss: 0.4773 - accuracy: 0.8115 - val_loss: 0.4721 - val_accuracy: 0.8157\n",
            "Epoch 54/300\n",
            "9/9 [==============================] - 0s 10ms/step - loss: 0.4772 - accuracy: 0.8115 - val_loss: 0.4720 - val_accuracy: 0.8157\n",
            "Epoch 55/300\n",
            "9/9 [==============================] - 0s 10ms/step - loss: 0.4771 - accuracy: 0.8115 - val_loss: 0.4720 - val_accuracy: 0.8157\n",
            "Epoch 56/300\n",
            "9/9 [==============================] - 0s 11ms/step - loss: 0.4771 - accuracy: 0.8115 - val_loss: 0.4719 - val_accuracy: 0.8157\n",
            "Epoch 57/300\n",
            "9/9 [==============================] - 0s 11ms/step - loss: 0.4771 - accuracy: 0.8115 - val_loss: 0.4718 - val_accuracy: 0.8157\n",
            "Epoch 58/300\n",
            "9/9 [==============================] - 0s 11ms/step - loss: 0.4770 - accuracy: 0.8115 - val_loss: 0.4718 - val_accuracy: 0.8157\n",
            "Epoch 59/300\n",
            "9/9 [==============================] - 0s 11ms/step - loss: 0.4769 - accuracy: 0.8115 - val_loss: 0.4718 - val_accuracy: 0.8157\n",
            "Epoch 60/300\n",
            "9/9 [==============================] - 0s 10ms/step - loss: 0.4768 - accuracy: 0.8115 - val_loss: 0.4718 - val_accuracy: 0.8157\n",
            "Epoch 61/300\n",
            "9/9 [==============================] - 0s 10ms/step - loss: 0.4768 - accuracy: 0.8115 - val_loss: 0.4717 - val_accuracy: 0.8157\n",
            "Epoch 62/300\n",
            "9/9 [==============================] - 0s 8ms/step - loss: 0.4767 - accuracy: 0.8115 - val_loss: 0.4717 - val_accuracy: 0.8157\n",
            "Epoch 63/300\n",
            "9/9 [==============================] - 0s 9ms/step - loss: 0.4767 - accuracy: 0.8115 - val_loss: 0.4716 - val_accuracy: 0.8157\n",
            "Epoch 64/300\n",
            "9/9 [==============================] - 0s 7ms/step - loss: 0.4766 - accuracy: 0.8115 - val_loss: 0.4716 - val_accuracy: 0.8157\n",
            "Epoch 65/300\n",
            "9/9 [==============================] - 0s 10ms/step - loss: 0.4765 - accuracy: 0.8115 - val_loss: 0.4715 - val_accuracy: 0.8157\n",
            "Epoch 66/300\n",
            "9/9 [==============================] - 0s 9ms/step - loss: 0.4765 - accuracy: 0.8115 - val_loss: 0.4715 - val_accuracy: 0.8157\n",
            "Epoch 67/300\n",
            "9/9 [==============================] - 0s 9ms/step - loss: 0.4765 - accuracy: 0.8115 - val_loss: 0.4716 - val_accuracy: 0.8157\n",
            "Epoch 68/300\n",
            "9/9 [==============================] - 0s 7ms/step - loss: 0.4763 - accuracy: 0.8115 - val_loss: 0.4714 - val_accuracy: 0.8157\n",
            "Epoch 69/300\n",
            "9/9 [==============================] - 0s 9ms/step - loss: 0.4763 - accuracy: 0.8115 - val_loss: 0.4714 - val_accuracy: 0.8157\n",
            "Epoch 70/300\n",
            "9/9 [==============================] - 0s 7ms/step - loss: 0.4763 - accuracy: 0.8115 - val_loss: 0.4713 - val_accuracy: 0.8157\n",
            "Epoch 71/300\n",
            "9/9 [==============================] - 0s 8ms/step - loss: 0.4762 - accuracy: 0.8115 - val_loss: 0.4713 - val_accuracy: 0.8157\n",
            "Epoch 72/300\n",
            "9/9 [==============================] - 0s 7ms/step - loss: 0.4762 - accuracy: 0.8115 - val_loss: 0.4713 - val_accuracy: 0.8157\n",
            "Epoch 73/300\n",
            "9/9 [==============================] - 0s 7ms/step - loss: 0.4762 - accuracy: 0.8115 - val_loss: 0.4714 - val_accuracy: 0.8157\n",
            "Epoch 74/300\n",
            "9/9 [==============================] - 0s 6ms/step - loss: 0.4761 - accuracy: 0.8115 - val_loss: 0.4713 - val_accuracy: 0.8157\n",
            "Epoch 75/300\n",
            "9/9 [==============================] - 0s 8ms/step - loss: 0.4760 - accuracy: 0.8115 - val_loss: 0.4712 - val_accuracy: 0.8157\n",
            "Epoch 76/300\n",
            "9/9 [==============================] - 0s 6ms/step - loss: 0.4760 - accuracy: 0.8115 - val_loss: 0.4712 - val_accuracy: 0.8157\n",
            "Epoch 77/300\n",
            "9/9 [==============================] - 0s 9ms/step - loss: 0.4760 - accuracy: 0.8115 - val_loss: 0.4712 - val_accuracy: 0.8157\n",
            "Epoch 78/300\n",
            "9/9 [==============================] - 0s 9ms/step - loss: 0.4759 - accuracy: 0.8115 - val_loss: 0.4711 - val_accuracy: 0.8157\n",
            "Epoch 79/300\n",
            "9/9 [==============================] - 0s 8ms/step - loss: 0.4759 - accuracy: 0.8115 - val_loss: 0.4711 - val_accuracy: 0.8157\n",
            "Epoch 80/300\n",
            "9/9 [==============================] - 0s 9ms/step - loss: 0.4758 - accuracy: 0.8115 - val_loss: 0.4711 - val_accuracy: 0.8157\n",
            "Epoch 81/300\n",
            "9/9 [==============================] - 0s 8ms/step - loss: 0.4758 - accuracy: 0.8115 - val_loss: 0.4711 - val_accuracy: 0.8157\n",
            "Epoch 82/300\n",
            "9/9 [==============================] - 0s 10ms/step - loss: 0.4757 - accuracy: 0.8115 - val_loss: 0.4710 - val_accuracy: 0.8157\n",
            "Epoch 83/300\n",
            "9/9 [==============================] - 0s 7ms/step - loss: 0.4757 - accuracy: 0.8115 - val_loss: 0.4711 - val_accuracy: 0.8157\n",
            "Epoch 84/300\n",
            "9/9 [==============================] - 0s 10ms/step - loss: 0.4757 - accuracy: 0.8115 - val_loss: 0.4710 - val_accuracy: 0.8157\n",
            "Epoch 85/300\n",
            "9/9 [==============================] - 0s 7ms/step - loss: 0.4756 - accuracy: 0.8115 - val_loss: 0.4709 - val_accuracy: 0.8157\n",
            "Epoch 86/300\n",
            "9/9 [==============================] - 0s 9ms/step - loss: 0.4756 - accuracy: 0.8115 - val_loss: 0.4710 - val_accuracy: 0.8157\n",
            "Epoch 87/300\n",
            "9/9 [==============================] - 0s 7ms/step - loss: 0.4756 - accuracy: 0.8115 - val_loss: 0.4710 - val_accuracy: 0.8157\n",
            "Epoch 88/300\n",
            "9/9 [==============================] - 0s 9ms/step - loss: 0.4756 - accuracy: 0.8115 - val_loss: 0.4709 - val_accuracy: 0.8157\n",
            "Epoch 89/300\n",
            "9/9 [==============================] - 0s 7ms/step - loss: 0.4755 - accuracy: 0.8115 - val_loss: 0.4709 - val_accuracy: 0.8157\n",
            "Epoch 90/300\n",
            "9/9 [==============================] - 0s 9ms/step - loss: 0.4755 - accuracy: 0.8115 - val_loss: 0.4709 - val_accuracy: 0.8157\n",
            "Epoch 91/300\n",
            "9/9 [==============================] - 0s 7ms/step - loss: 0.4755 - accuracy: 0.8115 - val_loss: 0.4708 - val_accuracy: 0.8157\n",
            "Epoch 92/300\n",
            "9/9 [==============================] - 0s 9ms/step - loss: 0.4754 - accuracy: 0.8115 - val_loss: 0.4709 - val_accuracy: 0.8157\n",
            "Epoch 93/300\n",
            "9/9 [==============================] - 0s 9ms/step - loss: 0.4754 - accuracy: 0.8115 - val_loss: 0.4708 - val_accuracy: 0.8157\n",
            "Epoch 94/300\n",
            "9/9 [==============================] - 0s 9ms/step - loss: 0.4754 - accuracy: 0.8115 - val_loss: 0.4708 - val_accuracy: 0.8157\n",
            "Epoch 95/300\n",
            "9/9 [==============================] - 0s 8ms/step - loss: 0.4753 - accuracy: 0.8115 - val_loss: 0.4708 - val_accuracy: 0.8157\n",
            "Epoch 96/300\n",
            "9/9 [==============================] - 0s 9ms/step - loss: 0.4753 - accuracy: 0.8115 - val_loss: 0.4708 - val_accuracy: 0.8157\n",
            "Epoch 97/300\n",
            "9/9 [==============================] - 0s 10ms/step - loss: 0.4753 - accuracy: 0.8115 - val_loss: 0.4707 - val_accuracy: 0.8157\n",
            "Epoch 98/300\n",
            "9/9 [==============================] - 0s 7ms/step - loss: 0.4753 - accuracy: 0.8115 - val_loss: 0.4707 - val_accuracy: 0.8157\n",
            "Epoch 99/300\n",
            "9/9 [==============================] - 0s 8ms/step - loss: 0.4754 - accuracy: 0.8115 - val_loss: 0.4709 - val_accuracy: 0.8157\n",
            "Epoch 100/300\n",
            "9/9 [==============================] - 0s 6ms/step - loss: 0.4752 - accuracy: 0.8115 - val_loss: 0.4708 - val_accuracy: 0.8157\n",
            "Epoch 101/300\n",
            "9/9 [==============================] - 0s 8ms/step - loss: 0.4752 - accuracy: 0.8115 - val_loss: 0.4706 - val_accuracy: 0.8157\n",
            "Epoch 102/300\n",
            "9/9 [==============================] - 0s 7ms/step - loss: 0.4752 - accuracy: 0.8115 - val_loss: 0.4706 - val_accuracy: 0.8157\n",
            "Epoch 103/300\n",
            "9/9 [==============================] - 0s 7ms/step - loss: 0.4753 - accuracy: 0.8115 - val_loss: 0.4708 - val_accuracy: 0.8157\n",
            "Epoch 104/300\n",
            "9/9 [==============================] - 0s 10ms/step - loss: 0.4751 - accuracy: 0.8115 - val_loss: 0.4707 - val_accuracy: 0.8157\n",
            "Epoch 105/300\n",
            "9/9 [==============================] - 0s 7ms/step - loss: 0.4752 - accuracy: 0.8115 - val_loss: 0.4705 - val_accuracy: 0.8157\n",
            "Epoch 106/300\n",
            "9/9 [==============================] - 0s 9ms/step - loss: 0.4751 - accuracy: 0.8115 - val_loss: 0.4706 - val_accuracy: 0.8157\n",
            "Epoch 107/300\n",
            "9/9 [==============================] - 0s 8ms/step - loss: 0.4750 - accuracy: 0.8115 - val_loss: 0.4707 - val_accuracy: 0.8157\n",
            "Epoch 108/300\n",
            "9/9 [==============================] - 0s 8ms/step - loss: 0.4750 - accuracy: 0.8115 - val_loss: 0.4706 - val_accuracy: 0.8157\n",
            "Epoch 109/300\n",
            "9/9 [==============================] - 0s 7ms/step - loss: 0.4750 - accuracy: 0.8115 - val_loss: 0.4706 - val_accuracy: 0.8157\n",
            "Epoch 110/300\n",
            "9/9 [==============================] - 0s 7ms/step - loss: 0.4749 - accuracy: 0.8115 - val_loss: 0.4705 - val_accuracy: 0.8157\n",
            "Epoch 111/300\n",
            "9/9 [==============================] - 0s 8ms/step - loss: 0.4749 - accuracy: 0.8115 - val_loss: 0.4706 - val_accuracy: 0.8157\n",
            "Epoch 112/300\n",
            "9/9 [==============================] - 0s 7ms/step - loss: 0.4750 - accuracy: 0.8115 - val_loss: 0.4705 - val_accuracy: 0.8157\n",
            "Epoch 113/300\n",
            "9/9 [==============================] - 0s 8ms/step - loss: 0.4749 - accuracy: 0.8115 - val_loss: 0.4705 - val_accuracy: 0.8157\n",
            "Epoch 114/300\n",
            "9/9 [==============================] - 0s 9ms/step - loss: 0.4750 - accuracy: 0.8115 - val_loss: 0.4707 - val_accuracy: 0.8157\n",
            "Epoch 115/300\n",
            "9/9 [==============================] - 0s 7ms/step - loss: 0.4748 - accuracy: 0.8115 - val_loss: 0.4705 - val_accuracy: 0.8157\n",
            "Epoch 116/300\n",
            "9/9 [==============================] - 0s 7ms/step - loss: 0.4749 - accuracy: 0.8115 - val_loss: 0.4704 - val_accuracy: 0.8157\n",
            "Epoch 117/300\n",
            "9/9 [==============================] - 0s 8ms/step - loss: 0.4748 - accuracy: 0.8115 - val_loss: 0.4705 - val_accuracy: 0.8157\n",
            "Epoch 118/300\n",
            "9/9 [==============================] - 0s 10ms/step - loss: 0.4749 - accuracy: 0.8115 - val_loss: 0.4704 - val_accuracy: 0.8157\n",
            "Epoch 119/300\n",
            "9/9 [==============================] - 0s 8ms/step - loss: 0.4748 - accuracy: 0.8115 - val_loss: 0.4705 - val_accuracy: 0.8157\n",
            "Epoch 120/300\n",
            "9/9 [==============================] - 0s 9ms/step - loss: 0.4747 - accuracy: 0.8115 - val_loss: 0.4705 - val_accuracy: 0.8157\n",
            "Epoch 121/300\n",
            "9/9 [==============================] - 0s 8ms/step - loss: 0.4747 - accuracy: 0.8115 - val_loss: 0.4704 - val_accuracy: 0.8157\n",
            "Epoch 122/300\n",
            "9/9 [==============================] - 0s 9ms/step - loss: 0.4748 - accuracy: 0.8115 - val_loss: 0.4703 - val_accuracy: 0.8157\n",
            "Epoch 123/300\n",
            "9/9 [==============================] - 0s 10ms/step - loss: 0.4747 - accuracy: 0.8115 - val_loss: 0.4704 - val_accuracy: 0.8157\n",
            "Epoch 124/300\n",
            "9/9 [==============================] - 0s 10ms/step - loss: 0.4747 - accuracy: 0.8115 - val_loss: 0.4704 - val_accuracy: 0.8157\n",
            "Epoch 125/300\n",
            "9/9 [==============================] - 0s 8ms/step - loss: 0.4746 - accuracy: 0.8115 - val_loss: 0.4704 - val_accuracy: 0.8157\n",
            "Epoch 126/300\n",
            "9/9 [==============================] - 0s 7ms/step - loss: 0.4746 - accuracy: 0.8115 - val_loss: 0.4703 - val_accuracy: 0.8157\n",
            "Epoch 127/300\n",
            "9/9 [==============================] - 0s 8ms/step - loss: 0.4747 - accuracy: 0.8015 - val_loss: 0.4704 - val_accuracy: 0.7970\n",
            "Epoch 128/300\n",
            "9/9 [==============================] - 0s 9ms/step - loss: 0.4746 - accuracy: 0.8048 - val_loss: 0.4703 - val_accuracy: 0.8157\n",
            "Epoch 129/300\n",
            "9/9 [==============================] - 0s 7ms/step - loss: 0.4746 - accuracy: 0.8115 - val_loss: 0.4703 - val_accuracy: 0.8157\n",
            "Epoch 130/300\n",
            "9/9 [==============================] - 0s 7ms/step - loss: 0.4745 - accuracy: 0.8115 - val_loss: 0.4703 - val_accuracy: 0.7970\n",
            "Epoch 131/300\n",
            "9/9 [==============================] - 0s 9ms/step - loss: 0.4745 - accuracy: 0.7959 - val_loss: 0.4703 - val_accuracy: 0.7970\n",
            "Epoch 132/300\n",
            "9/9 [==============================] - 0s 9ms/step - loss: 0.4745 - accuracy: 0.7959 - val_loss: 0.4703 - val_accuracy: 0.7970\n",
            "Epoch 133/300\n",
            "9/9 [==============================] - 0s 9ms/step - loss: 0.4745 - accuracy: 0.7959 - val_loss: 0.4703 - val_accuracy: 0.7970\n",
            "Epoch 134/300\n",
            "9/9 [==============================] - 0s 9ms/step - loss: 0.4745 - accuracy: 0.7959 - val_loss: 0.4702 - val_accuracy: 0.7970\n",
            "Epoch 135/300\n",
            "9/9 [==============================] - 0s 7ms/step - loss: 0.4745 - accuracy: 0.7959 - val_loss: 0.4702 - val_accuracy: 0.7970\n",
            "Epoch 136/300\n",
            "9/9 [==============================] - 0s 7ms/step - loss: 0.4746 - accuracy: 0.7959 - val_loss: 0.4704 - val_accuracy: 0.7970\n",
            "Epoch 137/300\n",
            "9/9 [==============================] - 0s 8ms/step - loss: 0.4744 - accuracy: 0.7959 - val_loss: 0.4702 - val_accuracy: 0.7970\n",
            "Epoch 138/300\n",
            "9/9 [==============================] - 0s 7ms/step - loss: 0.4744 - accuracy: 0.7959 - val_loss: 0.4701 - val_accuracy: 0.7970\n",
            "Epoch 139/300\n",
            "9/9 [==============================] - 0s 8ms/step - loss: 0.4745 - accuracy: 0.7959 - val_loss: 0.4702 - val_accuracy: 0.7970\n",
            "Epoch 140/300\n",
            "9/9 [==============================] - 0s 9ms/step - loss: 0.4744 - accuracy: 0.7959 - val_loss: 0.4702 - val_accuracy: 0.7970\n",
            "Epoch 141/300\n",
            "9/9 [==============================] - 0s 9ms/step - loss: 0.4744 - accuracy: 0.7959 - val_loss: 0.4702 - val_accuracy: 0.7970\n",
            "Epoch 142/300\n",
            "9/9 [==============================] - 0s 7ms/step - loss: 0.4744 - accuracy: 0.7959 - val_loss: 0.4701 - val_accuracy: 0.7970\n",
            "Epoch 143/300\n",
            "9/9 [==============================] - 0s 9ms/step - loss: 0.4744 - accuracy: 0.7959 - val_loss: 0.4702 - val_accuracy: 0.7970\n",
            "Epoch 144/300\n",
            "9/9 [==============================] - 0s 7ms/step - loss: 0.4743 - accuracy: 0.7959 - val_loss: 0.4701 - val_accuracy: 0.7970\n",
            "Epoch 145/300\n",
            "9/9 [==============================] - 0s 7ms/step - loss: 0.4743 - accuracy: 0.7959 - val_loss: 0.4701 - val_accuracy: 0.7970\n",
            "Epoch 146/300\n",
            "9/9 [==============================] - 0s 8ms/step - loss: 0.4743 - accuracy: 0.7959 - val_loss: 0.4701 - val_accuracy: 0.7970\n",
            "Epoch 147/300\n",
            "9/9 [==============================] - 0s 8ms/step - loss: 0.4743 - accuracy: 0.7959 - val_loss: 0.4701 - val_accuracy: 0.7970\n",
            "Epoch 148/300\n",
            "9/9 [==============================] - 0s 8ms/step - loss: 0.4743 - accuracy: 0.7959 - val_loss: 0.4700 - val_accuracy: 0.7970\n",
            "Epoch 149/300\n",
            "9/9 [==============================] - 0s 8ms/step - loss: 0.4742 - accuracy: 0.7959 - val_loss: 0.4701 - val_accuracy: 0.7970\n",
            "Epoch 150/300\n",
            "9/9 [==============================] - 0s 10ms/step - loss: 0.4742 - accuracy: 0.7959 - val_loss: 0.4700 - val_accuracy: 0.7970\n",
            "Epoch 151/300\n",
            "9/9 [==============================] - 0s 7ms/step - loss: 0.4742 - accuracy: 0.7959 - val_loss: 0.4700 - val_accuracy: 0.7970\n",
            "Epoch 152/300\n",
            "9/9 [==============================] - 0s 7ms/step - loss: 0.4742 - accuracy: 0.7959 - val_loss: 0.4700 - val_accuracy: 0.7970\n",
            "Epoch 153/300\n",
            "9/9 [==============================] - 0s 7ms/step - loss: 0.4742 - accuracy: 0.7959 - val_loss: 0.4700 - val_accuracy: 0.7970\n",
            "Epoch 154/300\n",
            "9/9 [==============================] - 0s 8ms/step - loss: 0.4741 - accuracy: 0.7959 - val_loss: 0.4700 - val_accuracy: 0.7970\n",
            "Epoch 155/300\n",
            "9/9 [==============================] - 0s 7ms/step - loss: 0.4741 - accuracy: 0.7959 - val_loss: 0.4700 - val_accuracy: 0.7970\n",
            "Epoch 156/300\n",
            "9/9 [==============================] - 0s 8ms/step - loss: 0.4741 - accuracy: 0.7959 - val_loss: 0.4699 - val_accuracy: 0.7970\n",
            "Epoch 157/300\n",
            "9/9 [==============================] - 0s 9ms/step - loss: 0.4742 - accuracy: 0.7959 - val_loss: 0.4699 - val_accuracy: 0.7970\n",
            "Epoch 158/300\n",
            "9/9 [==============================] - 0s 7ms/step - loss: 0.4743 - accuracy: 0.7959 - val_loss: 0.4701 - val_accuracy: 0.7970\n",
            "Epoch 159/300\n",
            "9/9 [==============================] - 0s 7ms/step - loss: 0.4742 - accuracy: 0.7959 - val_loss: 0.4698 - val_accuracy: 0.7970\n",
            "Epoch 160/300\n",
            "9/9 [==============================] - 0s 8ms/step - loss: 0.4740 - accuracy: 0.7959 - val_loss: 0.4699 - val_accuracy: 0.7970\n",
            "Epoch 161/300\n",
            "9/9 [==============================] - 0s 7ms/step - loss: 0.4741 - accuracy: 0.7959 - val_loss: 0.4698 - val_accuracy: 0.7970\n",
            "Epoch 162/300\n",
            "9/9 [==============================] - 0s 7ms/step - loss: 0.4742 - accuracy: 0.7959 - val_loss: 0.4700 - val_accuracy: 0.7970\n",
            "Epoch 163/300\n",
            "9/9 [==============================] - 0s 8ms/step - loss: 0.4741 - accuracy: 0.7959 - val_loss: 0.4698 - val_accuracy: 0.7970\n",
            "Epoch 164/300\n",
            "9/9 [==============================] - 0s 7ms/step - loss: 0.4740 - accuracy: 0.7959 - val_loss: 0.4698 - val_accuracy: 0.7970\n",
            "Epoch 165/300\n",
            "9/9 [==============================] - 0s 8ms/step - loss: 0.4740 - accuracy: 0.7959 - val_loss: 0.4699 - val_accuracy: 0.7970\n",
            "Epoch 166/300\n",
            "9/9 [==============================] - 0s 6ms/step - loss: 0.4739 - accuracy: 0.7959 - val_loss: 0.4698 - val_accuracy: 0.7970\n",
            "Epoch 167/300\n",
            "9/9 [==============================] - 0s 7ms/step - loss: 0.4739 - accuracy: 0.7959 - val_loss: 0.4697 - val_accuracy: 0.7970\n",
            "Epoch 168/300\n",
            "9/9 [==============================] - 0s 7ms/step - loss: 0.4741 - accuracy: 0.7959 - val_loss: 0.4698 - val_accuracy: 0.7970\n",
            "Epoch 169/300\n",
            "9/9 [==============================] - 0s 7ms/step - loss: 0.4739 - accuracy: 0.7959 - val_loss: 0.4697 - val_accuracy: 0.7970\n",
            "Epoch 170/300\n",
            "9/9 [==============================] - 0s 7ms/step - loss: 0.4739 - accuracy: 0.7959 - val_loss: 0.4697 - val_accuracy: 0.7970\n",
            "Epoch 171/300\n",
            "9/9 [==============================] - 0s 8ms/step - loss: 0.4739 - accuracy: 0.7959 - val_loss: 0.4697 - val_accuracy: 0.7970\n",
            "Epoch 172/300\n",
            "9/9 [==============================] - 0s 7ms/step - loss: 0.4739 - accuracy: 0.7959 - val_loss: 0.4697 - val_accuracy: 0.7970\n",
            "Epoch 173/300\n",
            "9/9 [==============================] - 0s 7ms/step - loss: 0.4739 - accuracy: 0.7959 - val_loss: 0.4698 - val_accuracy: 0.7970\n",
            "Epoch 174/300\n",
            "9/9 [==============================] - 0s 7ms/step - loss: 0.4738 - accuracy: 0.7959 - val_loss: 0.4697 - val_accuracy: 0.7970\n",
            "Epoch 175/300\n",
            "9/9 [==============================] - 0s 8ms/step - loss: 0.4738 - accuracy: 0.7959 - val_loss: 0.4696 - val_accuracy: 0.7970\n",
            "Epoch 176/300\n",
            "9/9 [==============================] - 0s 10ms/step - loss: 0.4738 - accuracy: 0.7959 - val_loss: 0.4696 - val_accuracy: 0.7970\n",
            "Epoch 177/300\n",
            "9/9 [==============================] - 0s 8ms/step - loss: 0.4737 - accuracy: 0.7959 - val_loss: 0.4696 - val_accuracy: 0.7970\n",
            "Epoch 178/300\n",
            "9/9 [==============================] - 0s 9ms/step - loss: 0.4738 - accuracy: 0.7959 - val_loss: 0.4697 - val_accuracy: 0.7970\n",
            "Epoch 179/300\n",
            "9/9 [==============================] - 0s 7ms/step - loss: 0.4738 - accuracy: 0.7959 - val_loss: 0.4696 - val_accuracy: 0.7970\n",
            "Epoch 180/300\n",
            "9/9 [==============================] - 0s 9ms/step - loss: 0.4737 - accuracy: 0.7959 - val_loss: 0.4695 - val_accuracy: 0.7970\n",
            "Epoch 181/300\n",
            "9/9 [==============================] - 0s 8ms/step - loss: 0.4737 - accuracy: 0.7959 - val_loss: 0.4696 - val_accuracy: 0.7970\n",
            "Epoch 182/300\n",
            "9/9 [==============================] - 0s 7ms/step - loss: 0.4737 - accuracy: 0.7959 - val_loss: 0.4696 - val_accuracy: 0.7970\n",
            "Epoch 183/300\n",
            "9/9 [==============================] - 0s 8ms/step - loss: 0.4738 - accuracy: 0.7959 - val_loss: 0.4695 - val_accuracy: 0.7970\n",
            "Epoch 184/300\n",
            "9/9 [==============================] - 0s 8ms/step - loss: 0.4737 - accuracy: 0.7959 - val_loss: 0.4695 - val_accuracy: 0.7970\n",
            "Epoch 185/300\n",
            "9/9 [==============================] - 0s 9ms/step - loss: 0.4736 - accuracy: 0.7959 - val_loss: 0.4696 - val_accuracy: 0.7970\n",
            "Epoch 186/300\n",
            "9/9 [==============================] - 0s 7ms/step - loss: 0.4736 - accuracy: 0.7959 - val_loss: 0.4696 - val_accuracy: 0.7970\n",
            "Epoch 187/300\n",
            "9/9 [==============================] - 0s 10ms/step - loss: 0.4736 - accuracy: 0.7959 - val_loss: 0.4695 - val_accuracy: 0.7970\n",
            "Epoch 188/300\n",
            "9/9 [==============================] - 0s 9ms/step - loss: 0.4736 - accuracy: 0.7959 - val_loss: 0.4694 - val_accuracy: 0.7970\n",
            "Epoch 189/300\n",
            "9/9 [==============================] - 0s 7ms/step - loss: 0.4737 - accuracy: 0.7959 - val_loss: 0.4694 - val_accuracy: 0.7970\n",
            "Epoch 190/300\n",
            "9/9 [==============================] - 0s 8ms/step - loss: 0.4736 - accuracy: 0.7959 - val_loss: 0.4695 - val_accuracy: 0.7970\n",
            "Epoch 191/300\n",
            "9/9 [==============================] - 0s 8ms/step - loss: 0.4737 - accuracy: 0.7959 - val_loss: 0.4694 - val_accuracy: 0.7970\n",
            "Epoch 192/300\n",
            "9/9 [==============================] - 0s 6ms/step - loss: 0.4735 - accuracy: 0.7959 - val_loss: 0.4694 - val_accuracy: 0.7970\n",
            "Epoch 193/300\n",
            "9/9 [==============================] - 0s 11ms/step - loss: 0.4735 - accuracy: 0.7959 - val_loss: 0.4695 - val_accuracy: 0.7970\n",
            "Epoch 194/300\n",
            "9/9 [==============================] - 0s 11ms/step - loss: 0.4735 - accuracy: 0.7959 - val_loss: 0.4694 - val_accuracy: 0.7970\n",
            "Epoch 195/300\n",
            "9/9 [==============================] - 0s 10ms/step - loss: 0.4735 - accuracy: 0.7959 - val_loss: 0.4693 - val_accuracy: 0.7970\n",
            "Epoch 196/300\n",
            "9/9 [==============================] - 0s 11ms/step - loss: 0.4735 - accuracy: 0.7959 - val_loss: 0.4693 - val_accuracy: 0.7970\n",
            "Epoch 197/300\n",
            "9/9 [==============================] - 0s 10ms/step - loss: 0.4736 - accuracy: 0.7959 - val_loss: 0.4694 - val_accuracy: 0.7970\n",
            "Epoch 198/300\n",
            "9/9 [==============================] - 0s 10ms/step - loss: 0.4737 - accuracy: 0.7981 - val_loss: 0.4692 - val_accuracy: 0.7970\n",
            "Epoch 199/300\n",
            "9/9 [==============================] - 0s 11ms/step - loss: 0.4734 - accuracy: 0.7959 - val_loss: 0.4694 - val_accuracy: 0.7970\n",
            "Epoch 200/300\n",
            "9/9 [==============================] - 0s 11ms/step - loss: 0.4734 - accuracy: 0.7959 - val_loss: 0.4694 - val_accuracy: 0.7970\n",
            "Epoch 201/300\n",
            "9/9 [==============================] - 0s 12ms/step - loss: 0.4735 - accuracy: 0.7959 - val_loss: 0.4692 - val_accuracy: 0.7970\n",
            "Epoch 202/300\n",
            "9/9 [==============================] - 0s 10ms/step - loss: 0.4734 - accuracy: 0.7959 - val_loss: 0.4692 - val_accuracy: 0.7970\n",
            "Epoch 203/300\n",
            "9/9 [==============================] - 0s 11ms/step - loss: 0.4734 - accuracy: 0.7959 - val_loss: 0.4694 - val_accuracy: 0.7970\n",
            "Epoch 204/300\n",
            "9/9 [==============================] - 0s 11ms/step - loss: 0.4733 - accuracy: 0.7959 - val_loss: 0.4692 - val_accuracy: 0.7970\n",
            "Epoch 205/300\n",
            "9/9 [==============================] - 0s 11ms/step - loss: 0.4733 - accuracy: 0.7959 - val_loss: 0.4691 - val_accuracy: 0.7970\n",
            "Epoch 206/300\n",
            "9/9 [==============================] - 0s 11ms/step - loss: 0.4733 - accuracy: 0.7959 - val_loss: 0.4692 - val_accuracy: 0.7970\n",
            "Epoch 207/300\n",
            "9/9 [==============================] - 0s 10ms/step - loss: 0.4733 - accuracy: 0.7959 - val_loss: 0.4691 - val_accuracy: 0.7970\n",
            "Epoch 208/300\n",
            "9/9 [==============================] - 0s 11ms/step - loss: 0.4732 - accuracy: 0.7959 - val_loss: 0.4691 - val_accuracy: 0.7970\n",
            "Epoch 209/300\n",
            "9/9 [==============================] - 0s 11ms/step - loss: 0.4733 - accuracy: 0.7959 - val_loss: 0.4692 - val_accuracy: 0.7970\n",
            "Epoch 210/300\n",
            "9/9 [==============================] - 0s 11ms/step - loss: 0.4733 - accuracy: 0.7959 - val_loss: 0.4692 - val_accuracy: 0.7970\n",
            "Epoch 211/300\n",
            "9/9 [==============================] - 0s 13ms/step - loss: 0.4732 - accuracy: 0.7959 - val_loss: 0.4690 - val_accuracy: 0.7970\n",
            "Epoch 212/300\n",
            "9/9 [==============================] - 0s 12ms/step - loss: 0.4732 - accuracy: 0.7959 - val_loss: 0.4691 - val_accuracy: 0.7970\n",
            "Epoch 213/300\n",
            "9/9 [==============================] - 0s 11ms/step - loss: 0.4732 - accuracy: 0.7959 - val_loss: 0.4691 - val_accuracy: 0.7970\n",
            "Epoch 214/300\n",
            "9/9 [==============================] - 0s 11ms/step - loss: 0.4733 - accuracy: 0.8053 - val_loss: 0.4690 - val_accuracy: 0.8157\n",
            "Epoch 215/300\n",
            "9/9 [==============================] - 0s 10ms/step - loss: 0.4732 - accuracy: 0.7981 - val_loss: 0.4691 - val_accuracy: 0.7970\n",
            "Epoch 216/300\n",
            "9/9 [==============================] - 0s 11ms/step - loss: 0.4732 - accuracy: 0.7959 - val_loss: 0.4690 - val_accuracy: 0.7970\n",
            "Epoch 217/300\n",
            "9/9 [==============================] - 0s 11ms/step - loss: 0.4731 - accuracy: 0.7959 - val_loss: 0.4690 - val_accuracy: 0.7970\n",
            "Epoch 218/300\n",
            "9/9 [==============================] - 0s 10ms/step - loss: 0.4732 - accuracy: 0.7959 - val_loss: 0.4690 - val_accuracy: 0.7970\n",
            "Epoch 219/300\n",
            "9/9 [==============================] - 0s 12ms/step - loss: 0.4731 - accuracy: 0.7959 - val_loss: 0.4689 - val_accuracy: 0.7970\n",
            "Epoch 220/300\n",
            "9/9 [==============================] - 0s 11ms/step - loss: 0.4731 - accuracy: 0.8059 - val_loss: 0.4689 - val_accuracy: 0.8157\n",
            "Epoch 221/300\n",
            "9/9 [==============================] - 0s 12ms/step - loss: 0.4731 - accuracy: 0.7970 - val_loss: 0.4690 - val_accuracy: 0.7970\n",
            "Epoch 222/300\n",
            "9/9 [==============================] - 0s 10ms/step - loss: 0.4732 - accuracy: 0.8066 - val_loss: 0.4689 - val_accuracy: 0.8157\n",
            "Epoch 223/300\n",
            "9/9 [==============================] - 0s 12ms/step - loss: 0.4730 - accuracy: 0.7975 - val_loss: 0.4690 - val_accuracy: 0.7970\n",
            "Epoch 224/300\n",
            "9/9 [==============================] - 0s 9ms/step - loss: 0.4730 - accuracy: 0.7959 - val_loss: 0.4689 - val_accuracy: 0.7970\n",
            "Epoch 225/300\n",
            "9/9 [==============================] - 0s 10ms/step - loss: 0.4730 - accuracy: 0.7959 - val_loss: 0.4689 - val_accuracy: 0.7970\n",
            "Epoch 226/300\n",
            "9/9 [==============================] - 0s 11ms/step - loss: 0.4730 - accuracy: 0.8001 - val_loss: 0.4688 - val_accuracy: 0.8157\n",
            "Epoch 227/300\n",
            "9/9 [==============================] - 0s 11ms/step - loss: 0.4730 - accuracy: 0.8115 - val_loss: 0.4687 - val_accuracy: 0.8157\n",
            "Epoch 228/300\n",
            "9/9 [==============================] - 0s 9ms/step - loss: 0.4731 - accuracy: 0.8050 - val_loss: 0.4689 - val_accuracy: 0.7970\n",
            "Epoch 229/300\n",
            "9/9 [==============================] - 0s 10ms/step - loss: 0.4730 - accuracy: 0.7995 - val_loss: 0.4688 - val_accuracy: 0.8157\n",
            "Epoch 230/300\n",
            "9/9 [==============================] - 0s 11ms/step - loss: 0.4730 - accuracy: 0.8006 - val_loss: 0.4689 - val_accuracy: 0.7970\n",
            "Epoch 231/300\n",
            "9/9 [==============================] - 0s 11ms/step - loss: 0.4729 - accuracy: 0.8059 - val_loss: 0.4688 - val_accuracy: 0.8157\n",
            "Epoch 232/300\n",
            "9/9 [==============================] - 0s 11ms/step - loss: 0.4730 - accuracy: 0.8115 - val_loss: 0.4686 - val_accuracy: 0.8157\n",
            "Epoch 233/300\n",
            "9/9 [==============================] - 0s 8ms/step - loss: 0.4729 - accuracy: 0.8115 - val_loss: 0.4687 - val_accuracy: 0.8157\n",
            "Epoch 234/300\n",
            "9/9 [==============================] - 0s 8ms/step - loss: 0.4729 - accuracy: 0.8039 - val_loss: 0.4690 - val_accuracy: 0.7970\n",
            "Epoch 235/300\n",
            "9/9 [==============================] - 0s 7ms/step - loss: 0.4729 - accuracy: 0.7959 - val_loss: 0.4688 - val_accuracy: 0.7970\n",
            "Epoch 236/300\n",
            "9/9 [==============================] - 0s 9ms/step - loss: 0.4728 - accuracy: 0.8093 - val_loss: 0.4686 - val_accuracy: 0.8157\n",
            "Epoch 237/300\n",
            "9/9 [==============================] - 0s 9ms/step - loss: 0.4728 - accuracy: 0.8115 - val_loss: 0.4686 - val_accuracy: 0.8157\n",
            "Epoch 238/300\n",
            "9/9 [==============================] - 0s 7ms/step - loss: 0.4728 - accuracy: 0.8115 - val_loss: 0.4686 - val_accuracy: 0.8157\n",
            "Epoch 239/300\n",
            "9/9 [==============================] - 0s 9ms/step - loss: 0.4728 - accuracy: 0.8115 - val_loss: 0.4686 - val_accuracy: 0.8157\n",
            "Epoch 240/300\n",
            "9/9 [==============================] - 0s 9ms/step - loss: 0.4727 - accuracy: 0.8115 - val_loss: 0.4686 - val_accuracy: 0.8157\n",
            "Epoch 241/300\n",
            "9/9 [==============================] - 0s 9ms/step - loss: 0.4728 - accuracy: 0.8079 - val_loss: 0.4687 - val_accuracy: 0.8157\n",
            "Epoch 242/300\n",
            "9/9 [==============================] - 0s 7ms/step - loss: 0.4727 - accuracy: 0.8115 - val_loss: 0.4685 - val_accuracy: 0.8157\n",
            "Epoch 243/300\n",
            "9/9 [==============================] - 0s 7ms/step - loss: 0.4728 - accuracy: 0.8115 - val_loss: 0.4685 - val_accuracy: 0.8157\n",
            "Epoch 244/300\n",
            "9/9 [==============================] - 0s 8ms/step - loss: 0.4727 - accuracy: 0.8115 - val_loss: 0.4686 - val_accuracy: 0.8157\n",
            "Epoch 245/300\n",
            "9/9 [==============================] - 0s 7ms/step - loss: 0.4727 - accuracy: 0.8115 - val_loss: 0.4685 - val_accuracy: 0.8157\n",
            "Epoch 246/300\n",
            "9/9 [==============================] - 0s 8ms/step - loss: 0.4727 - accuracy: 0.8115 - val_loss: 0.4685 - val_accuracy: 0.8157\n",
            "Epoch 247/300\n",
            "9/9 [==============================] - 0s 8ms/step - loss: 0.4727 - accuracy: 0.8115 - val_loss: 0.4686 - val_accuracy: 0.8157\n",
            "Epoch 248/300\n",
            "9/9 [==============================] - 0s 9ms/step - loss: 0.4727 - accuracy: 0.8115 - val_loss: 0.4684 - val_accuracy: 0.8157\n",
            "Epoch 249/300\n",
            "9/9 [==============================] - 0s 9ms/step - loss: 0.4728 - accuracy: 0.8086 - val_loss: 0.4685 - val_accuracy: 0.8157\n",
            "Epoch 250/300\n",
            "9/9 [==============================] - 0s 9ms/step - loss: 0.4725 - accuracy: 0.8115 - val_loss: 0.4684 - val_accuracy: 0.8157\n",
            "Epoch 251/300\n",
            "9/9 [==============================] - 0s 9ms/step - loss: 0.4726 - accuracy: 0.8115 - val_loss: 0.4683 - val_accuracy: 0.8157\n",
            "Epoch 252/300\n",
            "9/9 [==============================] - 0s 9ms/step - loss: 0.4726 - accuracy: 0.8115 - val_loss: 0.4684 - val_accuracy: 0.8157\n",
            "Epoch 253/300\n",
            "9/9 [==============================] - 0s 10ms/step - loss: 0.4725 - accuracy: 0.8115 - val_loss: 0.4684 - val_accuracy: 0.8157\n",
            "Epoch 254/300\n",
            "9/9 [==============================] - 0s 7ms/step - loss: 0.4726 - accuracy: 0.8115 - val_loss: 0.4683 - val_accuracy: 0.8157\n",
            "Epoch 255/300\n",
            "9/9 [==============================] - 0s 8ms/step - loss: 0.4726 - accuracy: 0.8115 - val_loss: 0.4685 - val_accuracy: 0.8157\n",
            "Epoch 256/300\n",
            "9/9 [==============================] - 0s 10ms/step - loss: 0.4725 - accuracy: 0.8115 - val_loss: 0.4684 - val_accuracy: 0.8157\n",
            "Epoch 257/300\n",
            "9/9 [==============================] - 0s 7ms/step - loss: 0.4725 - accuracy: 0.8115 - val_loss: 0.4683 - val_accuracy: 0.8157\n",
            "Epoch 258/300\n",
            "9/9 [==============================] - 0s 9ms/step - loss: 0.4725 - accuracy: 0.8115 - val_loss: 0.4683 - val_accuracy: 0.8157\n",
            "Epoch 259/300\n",
            "9/9 [==============================] - 0s 9ms/step - loss: 0.4725 - accuracy: 0.8115 - val_loss: 0.4682 - val_accuracy: 0.8157\n",
            "Epoch 260/300\n",
            "9/9 [==============================] - 0s 9ms/step - loss: 0.4724 - accuracy: 0.8115 - val_loss: 0.4682 - val_accuracy: 0.8157\n",
            "Epoch 261/300\n",
            "9/9 [==============================] - 0s 9ms/step - loss: 0.4725 - accuracy: 0.8115 - val_loss: 0.4684 - val_accuracy: 0.8157\n",
            "Epoch 262/300\n",
            "9/9 [==============================] - 0s 7ms/step - loss: 0.4723 - accuracy: 0.8115 - val_loss: 0.4682 - val_accuracy: 0.8157\n",
            "Epoch 263/300\n",
            "9/9 [==============================] - 0s 8ms/step - loss: 0.4724 - accuracy: 0.8115 - val_loss: 0.4681 - val_accuracy: 0.8157\n",
            "Epoch 264/300\n",
            "9/9 [==============================] - 0s 7ms/step - loss: 0.4724 - accuracy: 0.8115 - val_loss: 0.4682 - val_accuracy: 0.8157\n",
            "Epoch 265/300\n",
            "9/9 [==============================] - 0s 9ms/step - loss: 0.4724 - accuracy: 0.8115 - val_loss: 0.4683 - val_accuracy: 0.8157\n",
            "Epoch 266/300\n",
            "9/9 [==============================] - 0s 8ms/step - loss: 0.4723 - accuracy: 0.8115 - val_loss: 0.4681 - val_accuracy: 0.8157\n",
            "Epoch 267/300\n",
            "9/9 [==============================] - 0s 7ms/step - loss: 0.4724 - accuracy: 0.8115 - val_loss: 0.4681 - val_accuracy: 0.8157\n",
            "Epoch 268/300\n",
            "9/9 [==============================] - 0s 7ms/step - loss: 0.4723 - accuracy: 0.8115 - val_loss: 0.4680 - val_accuracy: 0.8157\n",
            "Epoch 269/300\n",
            "9/9 [==============================] - 0s 7ms/step - loss: 0.4724 - accuracy: 0.8115 - val_loss: 0.4680 - val_accuracy: 0.8157\n",
            "Epoch 270/300\n",
            "9/9 [==============================] - 0s 7ms/step - loss: 0.4722 - accuracy: 0.8115 - val_loss: 0.4680 - val_accuracy: 0.8157\n",
            "Epoch 271/300\n",
            "9/9 [==============================] - 0s 7ms/step - loss: 0.4723 - accuracy: 0.8115 - val_loss: 0.4683 - val_accuracy: 0.8157\n",
            "Epoch 272/300\n",
            "9/9 [==============================] - 0s 8ms/step - loss: 0.4722 - accuracy: 0.8115 - val_loss: 0.4681 - val_accuracy: 0.8157\n",
            "Epoch 273/300\n",
            "9/9 [==============================] - 0s 30ms/step - loss: 0.4722 - accuracy: 0.8115 - val_loss: 0.4679 - val_accuracy: 0.8157\n",
            "Epoch 274/300\n",
            "9/9 [==============================] - 0s 18ms/step - loss: 0.4722 - accuracy: 0.8115 - val_loss: 0.4679 - val_accuracy: 0.8157\n",
            "Epoch 275/300\n",
            "9/9 [==============================] - 0s 25ms/step - loss: 0.4722 - accuracy: 0.8115 - val_loss: 0.4681 - val_accuracy: 0.8157\n",
            "Epoch 276/300\n",
            "9/9 [==============================] - 0s 16ms/step - loss: 0.4722 - accuracy: 0.8115 - val_loss: 0.4680 - val_accuracy: 0.8157\n",
            "Epoch 277/300\n",
            "9/9 [==============================] - 0s 7ms/step - loss: 0.4722 - accuracy: 0.8115 - val_loss: 0.4678 - val_accuracy: 0.8157\n",
            "Epoch 278/300\n",
            "9/9 [==============================] - 0s 9ms/step - loss: 0.4721 - accuracy: 0.8115 - val_loss: 0.4679 - val_accuracy: 0.8157\n",
            "Epoch 279/300\n",
            "9/9 [==============================] - 0s 7ms/step - loss: 0.4721 - accuracy: 0.8115 - val_loss: 0.4680 - val_accuracy: 0.8157\n",
            "Epoch 280/300\n",
            "9/9 [==============================] - 0s 8ms/step - loss: 0.4721 - accuracy: 0.8115 - val_loss: 0.4679 - val_accuracy: 0.8157\n",
            "Epoch 281/300\n",
            "9/9 [==============================] - 0s 9ms/step - loss: 0.4720 - accuracy: 0.8115 - val_loss: 0.4678 - val_accuracy: 0.8157\n",
            "Epoch 282/300\n",
            "9/9 [==============================] - 0s 10ms/step - loss: 0.4721 - accuracy: 0.8115 - val_loss: 0.4678 - val_accuracy: 0.8157\n",
            "Epoch 283/300\n",
            "9/9 [==============================] - 0s 9ms/step - loss: 0.4720 - accuracy: 0.8115 - val_loss: 0.4679 - val_accuracy: 0.8157\n",
            "Epoch 284/300\n",
            "9/9 [==============================] - 0s 9ms/step - loss: 0.4720 - accuracy: 0.8115 - val_loss: 0.4678 - val_accuracy: 0.8157\n",
            "Epoch 285/300\n",
            "9/9 [==============================] - 0s 9ms/step - loss: 0.4720 - accuracy: 0.8115 - val_loss: 0.4679 - val_accuracy: 0.8157\n",
            "Epoch 286/300\n",
            "9/9 [==============================] - 0s 8ms/step - loss: 0.4723 - accuracy: 0.8115 - val_loss: 0.4677 - val_accuracy: 0.8157\n",
            "Epoch 287/300\n",
            "9/9 [==============================] - 0s 7ms/step - loss: 0.4719 - accuracy: 0.8115 - val_loss: 0.4679 - val_accuracy: 0.8157\n",
            "Epoch 288/300\n",
            "9/9 [==============================] - 0s 7ms/step - loss: 0.4721 - accuracy: 0.8115 - val_loss: 0.4677 - val_accuracy: 0.8157\n",
            "Epoch 289/300\n",
            "9/9 [==============================] - 0s 9ms/step - loss: 0.4720 - accuracy: 0.8115 - val_loss: 0.4679 - val_accuracy: 0.8157\n",
            "Epoch 290/300\n",
            "9/9 [==============================] - 0s 8ms/step - loss: 0.4719 - accuracy: 0.8115 - val_loss: 0.4677 - val_accuracy: 0.8157\n",
            "Epoch 291/300\n",
            "9/9 [==============================] - 0s 7ms/step - loss: 0.4719 - accuracy: 0.8115 - val_loss: 0.4676 - val_accuracy: 0.8157\n",
            "Epoch 292/300\n",
            "9/9 [==============================] - 0s 9ms/step - loss: 0.4719 - accuracy: 0.8115 - val_loss: 0.4676 - val_accuracy: 0.8157\n",
            "Epoch 293/300\n",
            "9/9 [==============================] - 0s 7ms/step - loss: 0.4719 - accuracy: 0.8115 - val_loss: 0.4676 - val_accuracy: 0.8157\n",
            "Epoch 294/300\n",
            "9/9 [==============================] - 0s 9ms/step - loss: 0.4718 - accuracy: 0.8115 - val_loss: 0.4676 - val_accuracy: 0.8157\n",
            "Epoch 295/300\n",
            "9/9 [==============================] - 0s 8ms/step - loss: 0.4718 - accuracy: 0.8115 - val_loss: 0.4675 - val_accuracy: 0.8157\n",
            "Epoch 296/300\n",
            "9/9 [==============================] - 0s 7ms/step - loss: 0.4718 - accuracy: 0.8115 - val_loss: 0.4677 - val_accuracy: 0.8157\n",
            "Epoch 297/300\n",
            "9/9 [==============================] - 0s 10ms/step - loss: 0.4720 - accuracy: 0.8115 - val_loss: 0.4675 - val_accuracy: 0.8157\n",
            "Epoch 298/300\n",
            "9/9 [==============================] - 0s 8ms/step - loss: 0.4719 - accuracy: 0.8115 - val_loss: 0.4677 - val_accuracy: 0.8157\n",
            "Epoch 299/300\n",
            "9/9 [==============================] - 0s 9ms/step - loss: 0.4718 - accuracy: 0.8115 - val_loss: 0.4675 - val_accuracy: 0.8157\n",
            "Epoch 300/300\n",
            "9/9 [==============================] - 0s 9ms/step - loss: 0.4717 - accuracy: 0.8115 - val_loss: 0.4675 - val_accuracy: 0.8157\n"
          ]
        }
      ],
      "source": [
        "if model_selection[model_flag]==\"ALL\" or model_selection[model_flag] == \"AE\":\n",
        "  # training the model on training dataset\n",
        "  his = ae_classifier.fit(predictions, y_test, epochs=300,batch_size=500, validation_split=0.2).history"
      ]
    },
    {
      "cell_type": "code",
      "execution_count": 80,
      "metadata": {
        "id": "yeNS7pLUNYBz",
        "colab": {
          "base_uri": "https://localhost:8080/"
        },
        "outputId": "591e604f-3489-403b-df20-b036399b5720"
      },
      "outputs": [
        {
          "output_type": "stream",
          "name": "stdout",
          "text": [
            "Saved model to disk\n",
            "Loaded model from disk\n"
          ]
        }
      ],
      "source": [
        "if model_selection[model_flag]==\"ALL\" or model_selection[model_flag] == \"AE\":\n",
        "  filepath = '/content/drive/MyDrive/Colab_Notebooks/Models/ae_classifier_binary'+model_name_suffix+'.json'\n",
        "  weightspath = '/content/drive/MyDrive/Colab_Notebooks/Weights/ae_classifier_binary'+model_name_suffix+'.h5'\n",
        "  if (not path.isfile(filepath)): \n",
        "    # serialize model to JSON\n",
        "    ae_classifier_json = ae_classifier.to_json()\n",
        "    with open(filepath, \"w\") as json_file:\n",
        "      json_file.write(ae_classifier_json)\n",
        "\n",
        "    # serialize weights to HDF5\n",
        "    ae_classifier.save_weights(weightspath)\n",
        "    print(\"Saved model to disk\")\n",
        "\n",
        "    # load json and create model\n",
        "    json_file = open(filepath, 'r')\n",
        "    loaded_model_json = json_file.read()\n",
        "    json_file.close()\n",
        "    ae_classifier = model_from_json(loaded_model_json)\n",
        "\n",
        "    # load weights into new model\n",
        "    ae_classifier.load_weights(weightspath)\n",
        "    print(\"Loaded model from disk\")"
      ]
    },
    {
      "cell_type": "code",
      "execution_count": 81,
      "metadata": {
        "id": "AG42bV79NYFB"
      },
      "outputs": [],
      "source": [
        "if model_selection[model_flag]==\"ALL\" or model_selection[model_flag] == \"AE\":\n",
        "  ae_classifier.compile(optimizer='adam', loss='binary_crossentropy',metrics=['accuracy'])"
      ]
    },
    {
      "cell_type": "code",
      "execution_count": 82,
      "metadata": {
        "id": "13aKBGJcNYHv",
        "colab": {
          "base_uri": "https://localhost:8080/"
        },
        "outputId": "28e2b73b-b5b0-4ef0-c56a-e833217580df"
      },
      "outputs": [
        {
          "output_type": "stream",
          "name": "stdout",
          "text": [
            "176/176 [==============================] - 1s 2ms/step - loss: 0.4991 - accuracy: 0.8123\n",
            "Test results - Loss: 0.49914175271987915 - Accuracy: 81.23329281806946%\n"
          ]
        }
      ],
      "source": [
        "if model_selection[model_flag]==\"ALL\" or model_selection[model_flag] == \"AE\":\n",
        "  # predicting target attribute on testing dataset\n",
        "  test_results = ae_classifier.evaluate(X_test, y_test, verbose=1)\n",
        "  print(f'Test results - Loss: {test_results[0]} - Accuracy: {test_results[1]*100}%')"
      ]
    },
    {
      "cell_type": "code",
      "execution_count": 83,
      "metadata": {
        "id": "zCWbOaSyN1dH"
      },
      "outputs": [],
      "source": [
        "if model_selection[model_flag]==\"ALL\" or model_selection[model_flag] == \"AE\":\n",
        "  # representation of model layers\n",
        "  plot_model(ae_classifier, to_file='/content/drive/MyDrive/Colab_Notebooks/Plots/ae_classifier_binary.png', show_shapes=True)"
      ]
    },
    {
      "cell_type": "code",
      "execution_count": 84,
      "metadata": {
        "id": "44VaFGgVOBpU",
        "colab": {
          "base_uri": "https://localhost:8080/",
          "height": 472
        },
        "outputId": "82cc0cad-6568-425f-d5a5-bb53cee6ed8f"
      },
      "outputs": [
        {
          "output_type": "display_data",
          "data": {
            "text/plain": [
              "<Figure size 640x480 with 1 Axes>"
            ],
            "image/png": "[encoded data removed]"
          },
          "metadata": {}
        }
      ],
      "source": [
        "if model_selection[model_flag]==\"ALL\" or model_selection[model_flag] == \"AE\":\n",
        "  # Plot of loss vs epoch of train and test dataset\n",
        "  plt.plot(his['loss'])\n",
        "  plt.plot(his['val_loss'])\n",
        "  plt.title(\"Plot of loss vs epoch for train and test dataset\")\n",
        "  plt.ylabel('loss')\n",
        "  plt.xlabel('epoch')\n",
        "  plt.legend(['train', 'test'], loc='upper right')\n",
        "  plt.savefig('/content/drive/MyDrive/Colab_Notebooks/Plots/ae_classifier_binary_loss.png')\n",
        "  plt.show()"
      ]
    },
    {
      "cell_type": "code",
      "execution_count": 85,
      "metadata": {
        "id": "Am0UB82rOIo1",
        "colab": {
          "base_uri": "https://localhost:8080/",
          "height": 472
        },
        "outputId": "150e3200-7553-4199-de52-2f5208b5f308"
      },
      "outputs": [
        {
          "output_type": "display_data",
          "data": {
            "text/plain": [
              "<Figure size 640x480 with 1 Axes>"
            ],
            "image/png": "[encoded data removed]"
          },
          "metadata": {}
        }
      ],
      "source": [
        "if model_selection[model_flag]==\"ALL\" or model_selection[model_flag] == \"AE\":\n",
        "  # Plot of accuracy vs epoch of train and test dataset\n",
        "  plt.plot(his['accuracy'])\n",
        "  plt.plot(his['val_accuracy'])\n",
        "  plt.title(\"Plot of accuracy vs epoch for train and test dataset\")\n",
        "  plt.ylabel('accuracy')\n",
        "  plt.xlabel('epoch')\n",
        "  plt.legend(['train', 'test'], loc='best')\n",
        "  plt.savefig('/content/drive/MyDrive/Colab_Notebooks/Plots/ae_classifier_binary_accuracy.png')\n",
        "  plt.show()"
      ]
    },
    {
      "cell_type": "code",
      "execution_count": 86,
      "metadata": {
        "id": "f5OZTlm0OMoW",
        "colab": {
          "base_uri": "https://localhost:8080/"
        },
        "outputId": "dd35897f-4991-43a1-c229-cbeb2529d424"
      },
      "outputs": [
        {
          "output_type": "stream",
          "name": "stdout",
          "text": [
            "176/176 [==============================] - 0s 2ms/step\n"
          ]
        }
      ],
      "source": [
        "if model_selection[model_flag]==\"ALL\" or model_selection[model_flag] == \"AE\":\n",
        "  y_pred = ae_classifier.predict(X_test).ravel()\n",
        "  fpr, tpr, thresholds = roc_curve(y_test, y_pred)\n",
        "  #auc = auc(fpr, tpr)"
      ]
    },
    {
      "cell_type": "code",
      "execution_count": 87,
      "metadata": {
        "id": "GbSkwfO2OTkn",
        "colab": {
          "base_uri": "https://localhost:8080/",
          "height": 510
        },
        "outputId": "49fd8fe9-da1d-4706-90e8-33e58f817d6f"
      },
      "outputs": [
        {
          "output_type": "stream",
          "name": "stderr",
          "text": [
            "WARNING:matplotlib.legend:No artists with labels found to put in legend.  Note that artists whose label start with an underscore are ignored when legend() is called with no argument.\n"
          ]
        },
        {
          "output_type": "display_data",
          "data": {
            "text/plain": [
              "<Figure size 640x480 with 1 Axes>"
            ],
            "image/png": "[encoded data removed]"
          },
          "metadata": {}
        }
      ],
      "source": [
        "if model_selection[model_flag]==\"ALL\" or model_selection[model_flag] == \"AE\":\n",
        "  plt.plot([0, 1], [0, 1], 'k--')\n",
        "  #plt.plot(fpr, tpr, label='Keras (area = {:.3f})'.format(auc))\n",
        "  plt.plot(fpr, tpr)\n",
        "  plt.xlabel('False positive rate')\n",
        "  plt.ylabel('True positive rate')\n",
        "  plt.title('ROC curve')\n",
        "  plt.legend(loc='best')\n",
        "  plt.savefig('/content/drive/MyDrive/Colab_Notebooks/Plots/ae_binary_roc.png')\n",
        "  plt.show()"
      ]
    },
    {
      "cell_type": "code",
      "execution_count": 88,
      "metadata": {
        "id": "n7Xl74UXOZxm",
        "colab": {
          "base_uri": "https://localhost:8080/"
        },
        "outputId": "978574d7-2c8f-460c-c3e6-1bca7bf11481"
      },
      "outputs": [
        {
          "output_type": "stream",
          "name": "stdout",
          "text": [
            "176/176 [==============================] - 0s 2ms/step\n",
            "176/176 [==============================] - 0s 1ms/step\n"
          ]
        }
      ],
      "source": [
        "if model_selection[model_flag]==\"ALL\" or model_selection[model_flag] == \"AE\":\n",
        "  pred = ae_classifier.predict(X_test)\n",
        "  y_classes = (ae_classifier.predict(X_test)>0.5).astype('int32')"
      ]
    },
    {
      "cell_type": "code",
      "execution_count": 89,
      "metadata": {
        "id": "WA_g3UlXOZ71",
        "colab": {
          "base_uri": "https://localhost:8080/"
        },
        "outputId": "974180d8-66bb-4f6d-e92d-3ab543e2a22c"
      },
      "outputs": [
        {
          "output_type": "stream",
          "name": "stdout",
          "text": [
            "Recall Score -  0.0\n",
            "F1 Score -  0.0\n",
            "Precision Score -  0.0\n",
            "False Positive Rate -  [1.]\n",
            "False Negative Rate -  [0.]\n",
            "Thresholds -  [0]\n"
          ]
        },
        {
          "output_type": "stream",
          "name": "stderr",
          "text": [
            "/usr/local/lib/python3.9/dist-packages/sklearn/metrics/_classification.py:1344: UndefinedMetricWarning: Precision is ill-defined and being set to 0.0 due to no predicted samples. Use `zero_division` parameter to control this behavior.\n",
            "  _warn_prf(average, modifier, msg_start, len(result))\n"
          ]
        }
      ],
      "source": [
        "if model_selection[model_flag]==\"ALL\" or model_selection[model_flag] == \"AE\":\n",
        "  print(\"Recall Score - \",recall_score(y_test,y_classes))\n",
        "  print(\"F1 Score - \",f1_score(y_test,y_classes))\n",
        "  print(\"Precision Score - \",precision_score(y_test,y_classes))\n",
        "  fpr, fnr, thresholds = det_curve(y_test, y_classes)\n",
        "  print(\"False Positive Rate - \", fpr)\n",
        "  print(\"False Negative Rate - \", fnr)\n",
        "  print(\"Thresholds - \", thresholds)"
      ]
    },
    {
      "cell_type": "code",
      "source": [
        "print(classification_report(y_test, y_classes, target_names=['0', '1']))\n",
        "cm = confusion_matrix(y_test, y_classes)\n",
        "disp = ConfusionMatrixDisplay(confusion_matrix=cm,\n",
        "                              display_labels=['0', '1'])\n",
        "disp.plot()\n",
        "\n",
        "plt.show()"
      ],
      "metadata": {
        "id": "UgHHdx0qoryj",
        "colab": {
          "base_uri": "https://localhost:8080/",
          "height": 737
        },
        "outputId": "aaeb5138-41e3-4e6c-f7df-6d99704344dd"
      },
      "execution_count": 90,
      "outputs": [
        {
          "output_type": "stream",
          "name": "stdout",
          "text": [
            "              precision    recall  f1-score   support\n",
            "\n",
            "           0       0.81      1.00      0.90      4558\n",
            "           1       0.00      0.00      0.00      1053\n",
            "\n",
            "    accuracy                           0.81      5611\n",
            "   macro avg       0.41      0.50      0.45      5611\n",
            "weighted avg       0.66      0.81      0.73      5611\n",
            "\n"
          ]
        },
        {
          "output_type": "stream",
          "name": "stderr",
          "text": [
            "/usr/local/lib/python3.9/dist-packages/sklearn/metrics/_classification.py:1344: UndefinedMetricWarning: Precision and F-score are ill-defined and being set to 0.0 in labels with no predicted samples. Use `zero_division` parameter to control this behavior.\n",
            "  _warn_prf(average, modifier, msg_start, len(result))\n",
            "/usr/local/lib/python3.9/dist-packages/sklearn/metrics/_classification.py:1344: UndefinedMetricWarning: Precision and F-score are ill-defined and being set to 0.0 in labels with no predicted samples. Use `zero_division` parameter to control this behavior.\n",
            "  _warn_prf(average, modifier, msg_start, len(result))\n",
            "/usr/local/lib/python3.9/dist-packages/sklearn/metrics/_classification.py:1344: UndefinedMetricWarning: Precision and F-score are ill-defined and being set to 0.0 in labels with no predicted samples. Use `zero_division` parameter to control this behavior.\n",
            "  _warn_prf(average, modifier, msg_start, len(result))\n"
          ]
        },
        {
          "output_type": "display_data",
          "data": {
            "text/plain": [
              "<Figure size 640x480 with 2 Axes>"
            ],
            "image/png": "[encoded data removed]"
          },
          "metadata": {}
        }
      ]
    }
  ],
  "metadata": {
    "colab": {
      "provenance": [],
      "include_colab_link": true
    },
    "gpuClass": "standard",
    "kernelspec": {
      "display_name": "Python 3",
      "name": "python3"
    },
    "language_info": {
      "name": "python"
    },
    "accelerator": "GPU"
  },
  "nbformat": 4,
  "nbformat_minor": 0
}