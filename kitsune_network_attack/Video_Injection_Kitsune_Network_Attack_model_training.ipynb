{
  "cells": [
    {
      "cell_type": "markdown",
      "metadata": {
        "id": "view-in-github",
        "colab_type": "text"
      },
      "source": [
        "<a href=\"https://colab.research.google.com/github/rahulyad011/intrusion-detection/blob/main/Video_Injection_Kitsune_Network_Attack_model_training.ipynb\" target=\"_parent\"><img src=\"https://colab.research.google.com/assets/colab-badge.svg\" alt=\"Open In Colab\"/></a>"
      ]
    },
    {
      "cell_type": "code",
      "execution_count": 1,
      "metadata": {
        "id": "qXQ8rUmdwaf4"
      },
      "outputs": [],
      "source": [
        "\n",
        "from sklearn.metrics import accuracy_score # for calculating accuracy of model\n",
        "from sklearn.model_selection import train_test_split # for splitting the dataset for training and testing\n",
        "from sklearn.metrics import classification_report # for generating a classification report of model\n",
        "import pickle # saving and loading trained model\n",
        "from os import path\n",
        "import numpy as np\n",
        "import pandas as pd\n",
        "import matplotlib.pyplot as plt\n",
        "\n",
        "# importing library for support vector machine classifier\n",
        "from sklearn.svm import SVC\n",
        "\n",
        "# MLP requirements \n",
        "from keras.layers import Dense # importing dense layer\n",
        "from keras.models import Sequential #importing Sequential layer\n",
        "from keras.models import model_from_json # saving and loading trained model\n",
        "\n",
        "# LSTM requirements \n",
        "from keras.layers import LSTM\n",
        "from keras.layers import Input\n",
        "from keras.models import Model\n",
        "\n",
        "# evaluation metrices\n",
        "from sklearn.metrics import classification_report, confusion_matrix\n",
        "from sklearn.metrics import roc_auc_score\n",
        "from sklearn.metrics import roc_curve, auc\n",
        "from sklearn.metrics import precision_score\n",
        "from sklearn.metrics import recall_score\n",
        "from sklearn.metrics import f1_score\n",
        "from sklearn.metrics import det_curve\n",
        "\n",
        "# representation of model layers\n",
        "from keras.utils.vis_utils import plot_model"
      ]
    },
    {
      "cell_type": "code",
      "source": [
        "from google.colab import drive\n",
        "drive.mount('/content/drive')"
      ],
      "metadata": {
        "colab": {
          "base_uri": "https://localhost:8080/"
        },
        "id": "DBCkPmpEjFSf",
        "outputId": "72e47bf9-1e93-4a0b-af6f-adf128853575"
      },
      "execution_count": 2,
      "outputs": [
        {
          "output_type": "stream",
          "name": "stdout",
          "text": [
            "Mounted at /content/drive\n"
          ]
        }
      ]
    },
    {
      "cell_type": "code",
      "execution_count": 3,
      "metadata": {
        "colab": {
          "base_uri": "https://localhost:8080/",
          "height": 505
        },
        "id": "Pepa9lW8whHh",
        "outputId": "19c9d09b-17dc-43f9-e35e-f38a9a53ebff"
      },
      "outputs": [
        {
          "output_type": "execute_result",
          "data": {
            "text/plain": [
              "               X1           X2             X3          X4           X5  \\\n",
              "0       66.641620  1383.950216  135517.431072  102.581007  1365.615029   \n",
              "1      119.914903  1323.704045  203688.018841  187.198220  1321.695547   \n",
              "2       47.581637  1324.692974  186549.178523   86.180556  1337.768380   \n",
              "3       98.525860  1354.517924  165069.474527  171.320953  1348.125049   \n",
              "4      163.696199  1379.970410  150288.592657  230.819194  1362.804667   \n",
              "...           ...          ...            ...         ...          ...   \n",
              "24719   88.256059  1313.048198  189371.310019  159.096061  1327.957615   \n",
              "24720   49.396968  1294.395914  222788.700870   86.647755  1305.304609   \n",
              "24721   66.751784  1321.882291  184630.390847  120.156039  1336.336193   \n",
              "24722  114.050137  1330.302328  184002.763573  190.211185  1333.804469   \n",
              "24723   90.675592  1253.921726  255565.362451  156.309811  1283.851184   \n",
              "\n",
              "                  X6          X7           X8             X9          X10  \\\n",
              "0      152657.550297  289.254803  1341.522931  177063.500201  2825.569648   \n",
              "1      203338.593149  552.699551  1329.168143  192973.677998  5617.733403   \n",
              "2      176099.132073  276.540736  1343.951054  171643.179104  2817.849558   \n",
              "3      173986.240344  540.206843  1345.165062  179012.701146  5572.935075   \n",
              "4      165401.603872  595.854551  1344.807938  178521.730637  5665.027735   \n",
              "...              ...         ...          ...            ...          ...   \n",
              "24719  181254.375405  523.706614  1339.172410  176193.143263  3045.982407   \n",
              "24720  213641.907253  272.623249  1316.965180  203293.353987  2783.536396   \n",
              "24721  176845.527259  387.740594  1347.023827  173796.266530  3881.857150   \n",
              "24722  180730.486898  563.685436  1334.594409  181657.470597  5604.373741   \n",
              "24723  227257.949414  520.163170  1320.631642  194454.356527  2884.027089   \n",
              "\n",
              "       ...  X108          X109         X110        X111         X112  \\\n",
              "0      ...   0.0  28023.488565  1342.387445  419.357183  1342.387445   \n",
              "1      ...   0.0  28100.026278  1336.458676  430.030513  1336.458676   \n",
              "2      ...   0.0  28199.128166  1334.490758  431.906215  1334.490758   \n",
              "3      ...   0.0  28031.825573  1341.345469  422.491129  1341.345469   \n",
              "4      ...   0.0  28053.967335  1336.444720  430.577244  1336.444720   \n",
              "...    ...   ...           ...          ...         ...          ...   \n",
              "24719  ...   0.0  28070.559111  1339.507565  423.284438  1339.507565   \n",
              "24720  ...   0.0  27866.345197  1320.431208  448.078000  1320.431208   \n",
              "24721  ...   0.0  26683.313156  1339.119768  423.820951  1339.119768   \n",
              "24722  ...   0.0  27959.196044  1344.714863  418.839048  1344.714863   \n",
              "24723  ...   0.0  27421.539354  1340.348396  422.609948  1340.348396   \n",
              "\n",
              "                X113  X114  X115  Unnamed: 0  label  \n",
              "0      175860.447335   0.0   0.0     1283786    0.0  \n",
              "1      184926.242263   0.0   0.0     1062726    0.0  \n",
              "2      186542.978213   0.0   0.0     1554538    0.0  \n",
              "3      178498.753752   0.0   0.0     1674401    0.0  \n",
              "4      185396.763397   0.0   0.0      963138    0.0  \n",
              "...              ...   ...   ...         ...    ...  \n",
              "24719  179169.715048   0.0   0.0     2175123    1.0  \n",
              "24720  200773.894174   0.0   0.0     2369936    1.0  \n",
              "24721  179624.198150   0.0   0.0     2362690    1.0  \n",
              "24722  175426.148326   0.0   0.0     2368720    1.0  \n",
              "24723  178599.167822   0.0   0.0     2284827    1.0  \n",
              "\n",
              "[24724 rows x 117 columns]"
            ],
            "text/html": [
              "\n",
              "  <div id=\"df-3ccf578a-436d-4f47-a69e-3f68d8be675c\">\n",
              "    <div class=\"colab-df-container\">\n",
              "      <div>\n",
              "<style scoped>\n",
              "    .dataframe tbody tr th:only-of-type {\n",
              "        vertical-align: middle;\n",
              "    }\n",
              "\n",
              "    .dataframe tbody tr th {\n",
              "        vertical-align: top;\n",
              "    }\n",
              "\n",
              "    .dataframe thead th {\n",
              "        text-align: right;\n",
              "    }\n",
              "</style>\n",
              "<table border=\"1\" class=\"dataframe\">\n",
              "  <thead>\n",
              "    <tr style=\"text-align: right;\">\n",
              "      <th></th>\n",
              "      <th>X1</th>\n",
              "      <th>X2</th>\n",
              "      <th>X3</th>\n",
              "      <th>X4</th>\n",
              "      <th>X5</th>\n",
              "      <th>X6</th>\n",
              "      <th>X7</th>\n",
              "      <th>X8</th>\n",
              "      <th>X9</th>\n",
              "      <th>X10</th>\n",
              "      <th>...</th>\n",
              "      <th>X108</th>\n",
              "      <th>X109</th>\n",
              "      <th>X110</th>\n",
              "      <th>X111</th>\n",
              "      <th>X112</th>\n",
              "      <th>X113</th>\n",
              "      <th>X114</th>\n",
              "      <th>X115</th>\n",
              "      <th>Unnamed: 0</th>\n",
              "      <th>label</th>\n",
              "    </tr>\n",
              "  </thead>\n",
              "  <tbody>\n",
              "    <tr>\n",
              "      <th>0</th>\n",
              "      <td>66.641620</td>\n",
              "      <td>1383.950216</td>\n",
              "      <td>135517.431072</td>\n",
              "      <td>102.581007</td>\n",
              "      <td>1365.615029</td>\n",
              "      <td>152657.550297</td>\n",
              "      <td>289.254803</td>\n",
              "      <td>1341.522931</td>\n",
              "      <td>177063.500201</td>\n",
              "      <td>2825.569648</td>\n",
              "      <td>...</td>\n",
              "      <td>0.0</td>\n",
              "      <td>28023.488565</td>\n",
              "      <td>1342.387445</td>\n",
              "      <td>419.357183</td>\n",
              "      <td>1342.387445</td>\n",
              "      <td>175860.447335</td>\n",
              "      <td>0.0</td>\n",
              "      <td>0.0</td>\n",
              "      <td>1283786</td>\n",
              "      <td>0.0</td>\n",
              "    </tr>\n",
              "    <tr>\n",
              "      <th>1</th>\n",
              "      <td>119.914903</td>\n",
              "      <td>1323.704045</td>\n",
              "      <td>203688.018841</td>\n",
              "      <td>187.198220</td>\n",
              "      <td>1321.695547</td>\n",
              "      <td>203338.593149</td>\n",
              "      <td>552.699551</td>\n",
              "      <td>1329.168143</td>\n",
              "      <td>192973.677998</td>\n",
              "      <td>5617.733403</td>\n",
              "      <td>...</td>\n",
              "      <td>0.0</td>\n",
              "      <td>28100.026278</td>\n",
              "      <td>1336.458676</td>\n",
              "      <td>430.030513</td>\n",
              "      <td>1336.458676</td>\n",
              "      <td>184926.242263</td>\n",
              "      <td>0.0</td>\n",
              "      <td>0.0</td>\n",
              "      <td>1062726</td>\n",
              "      <td>0.0</td>\n",
              "    </tr>\n",
              "    <tr>\n",
              "      <th>2</th>\n",
              "      <td>47.581637</td>\n",
              "      <td>1324.692974</td>\n",
              "      <td>186549.178523</td>\n",
              "      <td>86.180556</td>\n",
              "      <td>1337.768380</td>\n",
              "      <td>176099.132073</td>\n",
              "      <td>276.540736</td>\n",
              "      <td>1343.951054</td>\n",
              "      <td>171643.179104</td>\n",
              "      <td>2817.849558</td>\n",
              "      <td>...</td>\n",
              "      <td>0.0</td>\n",
              "      <td>28199.128166</td>\n",
              "      <td>1334.490758</td>\n",
              "      <td>431.906215</td>\n",
              "      <td>1334.490758</td>\n",
              "      <td>186542.978213</td>\n",
              "      <td>0.0</td>\n",
              "      <td>0.0</td>\n",
              "      <td>1554538</td>\n",
              "      <td>0.0</td>\n",
              "    </tr>\n",
              "    <tr>\n",
              "      <th>3</th>\n",
              "      <td>98.525860</td>\n",
              "      <td>1354.517924</td>\n",
              "      <td>165069.474527</td>\n",
              "      <td>171.320953</td>\n",
              "      <td>1348.125049</td>\n",
              "      <td>173986.240344</td>\n",
              "      <td>540.206843</td>\n",
              "      <td>1345.165062</td>\n",
              "      <td>179012.701146</td>\n",
              "      <td>5572.935075</td>\n",
              "      <td>...</td>\n",
              "      <td>0.0</td>\n",
              "      <td>28031.825573</td>\n",
              "      <td>1341.345469</td>\n",
              "      <td>422.491129</td>\n",
              "      <td>1341.345469</td>\n",
              "      <td>178498.753752</td>\n",
              "      <td>0.0</td>\n",
              "      <td>0.0</td>\n",
              "      <td>1674401</td>\n",
              "      <td>0.0</td>\n",
              "    </tr>\n",
              "    <tr>\n",
              "      <th>4</th>\n",
              "      <td>163.696199</td>\n",
              "      <td>1379.970410</td>\n",
              "      <td>150288.592657</td>\n",
              "      <td>230.819194</td>\n",
              "      <td>1362.804667</td>\n",
              "      <td>165401.603872</td>\n",
              "      <td>595.854551</td>\n",
              "      <td>1344.807938</td>\n",
              "      <td>178521.730637</td>\n",
              "      <td>5665.027735</td>\n",
              "      <td>...</td>\n",
              "      <td>0.0</td>\n",
              "      <td>28053.967335</td>\n",
              "      <td>1336.444720</td>\n",
              "      <td>430.577244</td>\n",
              "      <td>1336.444720</td>\n",
              "      <td>185396.763397</td>\n",
              "      <td>0.0</td>\n",
              "      <td>0.0</td>\n",
              "      <td>963138</td>\n",
              "      <td>0.0</td>\n",
              "    </tr>\n",
              "    <tr>\n",
              "      <th>...</th>\n",
              "      <td>...</td>\n",
              "      <td>...</td>\n",
              "      <td>...</td>\n",
              "      <td>...</td>\n",
              "      <td>...</td>\n",
              "      <td>...</td>\n",
              "      <td>...</td>\n",
              "      <td>...</td>\n",
              "      <td>...</td>\n",
              "      <td>...</td>\n",
              "      <td>...</td>\n",
              "      <td>...</td>\n",
              "      <td>...</td>\n",
              "      <td>...</td>\n",
              "      <td>...</td>\n",
              "      <td>...</td>\n",
              "      <td>...</td>\n",
              "      <td>...</td>\n",
              "      <td>...</td>\n",
              "      <td>...</td>\n",
              "      <td>...</td>\n",
              "    </tr>\n",
              "    <tr>\n",
              "      <th>24719</th>\n",
              "      <td>88.256059</td>\n",
              "      <td>1313.048198</td>\n",
              "      <td>189371.310019</td>\n",
              "      <td>159.096061</td>\n",
              "      <td>1327.957615</td>\n",
              "      <td>181254.375405</td>\n",
              "      <td>523.706614</td>\n",
              "      <td>1339.172410</td>\n",
              "      <td>176193.143263</td>\n",
              "      <td>3045.982407</td>\n",
              "      <td>...</td>\n",
              "      <td>0.0</td>\n",
              "      <td>28070.559111</td>\n",
              "      <td>1339.507565</td>\n",
              "      <td>423.284438</td>\n",
              "      <td>1339.507565</td>\n",
              "      <td>179169.715048</td>\n",
              "      <td>0.0</td>\n",
              "      <td>0.0</td>\n",
              "      <td>2175123</td>\n",
              "      <td>1.0</td>\n",
              "    </tr>\n",
              "    <tr>\n",
              "      <th>24720</th>\n",
              "      <td>49.396968</td>\n",
              "      <td>1294.395914</td>\n",
              "      <td>222788.700870</td>\n",
              "      <td>86.647755</td>\n",
              "      <td>1305.304609</td>\n",
              "      <td>213641.907253</td>\n",
              "      <td>272.623249</td>\n",
              "      <td>1316.965180</td>\n",
              "      <td>203293.353987</td>\n",
              "      <td>2783.536396</td>\n",
              "      <td>...</td>\n",
              "      <td>0.0</td>\n",
              "      <td>27866.345197</td>\n",
              "      <td>1320.431208</td>\n",
              "      <td>448.078000</td>\n",
              "      <td>1320.431208</td>\n",
              "      <td>200773.894174</td>\n",
              "      <td>0.0</td>\n",
              "      <td>0.0</td>\n",
              "      <td>2369936</td>\n",
              "      <td>1.0</td>\n",
              "    </tr>\n",
              "    <tr>\n",
              "      <th>24721</th>\n",
              "      <td>66.751784</td>\n",
              "      <td>1321.882291</td>\n",
              "      <td>184630.390847</td>\n",
              "      <td>120.156039</td>\n",
              "      <td>1336.336193</td>\n",
              "      <td>176845.527259</td>\n",
              "      <td>387.740594</td>\n",
              "      <td>1347.023827</td>\n",
              "      <td>173796.266530</td>\n",
              "      <td>3881.857150</td>\n",
              "      <td>...</td>\n",
              "      <td>0.0</td>\n",
              "      <td>26683.313156</td>\n",
              "      <td>1339.119768</td>\n",
              "      <td>423.820951</td>\n",
              "      <td>1339.119768</td>\n",
              "      <td>179624.198150</td>\n",
              "      <td>0.0</td>\n",
              "      <td>0.0</td>\n",
              "      <td>2362690</td>\n",
              "      <td>1.0</td>\n",
              "    </tr>\n",
              "    <tr>\n",
              "      <th>24722</th>\n",
              "      <td>114.050137</td>\n",
              "      <td>1330.302328</td>\n",
              "      <td>184002.763573</td>\n",
              "      <td>190.211185</td>\n",
              "      <td>1333.804469</td>\n",
              "      <td>180730.486898</td>\n",
              "      <td>563.685436</td>\n",
              "      <td>1334.594409</td>\n",
              "      <td>181657.470597</td>\n",
              "      <td>5604.373741</td>\n",
              "      <td>...</td>\n",
              "      <td>0.0</td>\n",
              "      <td>27959.196044</td>\n",
              "      <td>1344.714863</td>\n",
              "      <td>418.839048</td>\n",
              "      <td>1344.714863</td>\n",
              "      <td>175426.148326</td>\n",
              "      <td>0.0</td>\n",
              "      <td>0.0</td>\n",
              "      <td>2368720</td>\n",
              "      <td>1.0</td>\n",
              "    </tr>\n",
              "    <tr>\n",
              "      <th>24723</th>\n",
              "      <td>90.675592</td>\n",
              "      <td>1253.921726</td>\n",
              "      <td>255565.362451</td>\n",
              "      <td>156.309811</td>\n",
              "      <td>1283.851184</td>\n",
              "      <td>227257.949414</td>\n",
              "      <td>520.163170</td>\n",
              "      <td>1320.631642</td>\n",
              "      <td>194454.356527</td>\n",
              "      <td>2884.027089</td>\n",
              "      <td>...</td>\n",
              "      <td>0.0</td>\n",
              "      <td>27421.539354</td>\n",
              "      <td>1340.348396</td>\n",
              "      <td>422.609948</td>\n",
              "      <td>1340.348396</td>\n",
              "      <td>178599.167822</td>\n",
              "      <td>0.0</td>\n",
              "      <td>0.0</td>\n",
              "      <td>2284827</td>\n",
              "      <td>1.0</td>\n",
              "    </tr>\n",
              "  </tbody>\n",
              "</table>\n",
              "<p>24724 rows × 117 columns</p>\n",
              "</div>\n",
              "      <button class=\"colab-df-convert\" onclick=\"convertToInteractive('df-3ccf578a-436d-4f47-a69e-3f68d8be675c')\"\n",
              "              title=\"Convert this dataframe to an interactive table.\"\n",
              "              style=\"display:none;\">\n",
              "        \n",
              "  <svg xmlns=\"http://www.w3.org/2000/svg\" height=\"24px\"viewBox=\"0 0 24 24\"\n",
              "       width=\"24px\">\n",
              "    <path d=\"M0 0h24v24H0V0z\" fill=\"none\"/>\n",
              "    <path d=\"M18.56 5.44l.94 2.06.94-2.06 2.06-.94-2.06-.94-.94-2.06-.94 2.06-2.06.94zm-11 1L8.5 8.5l.94-2.06 2.06-.94-2.06-.94L8.5 2.5l-.94 2.06-2.06.94zm10 10l.94 2.06.94-2.06 2.06-.94-2.06-.94-.94-2.06-.94 2.06-2.06.94z\"/><path d=\"M17.41 7.96l-1.37-1.37c-.4-.4-.92-.59-1.43-.59-.52 0-1.04.2-1.43.59L10.3 9.45l-7.72 7.72c-.78.78-.78 2.05 0 2.83L4 21.41c.39.39.9.59 1.41.59.51 0 1.02-.2 1.41-.59l7.78-7.78 2.81-2.81c.8-.78.8-2.07 0-2.86zM5.41 20L4 18.59l7.72-7.72 1.47 1.35L5.41 20z\"/>\n",
              "  </svg>\n",
              "      </button>\n",
              "      \n",
              "  <style>\n",
              "    .colab-df-container {\n",
              "      display:flex;\n",
              "      flex-wrap:wrap;\n",
              "      gap: 12px;\n",
              "    }\n",
              "\n",
              "    .colab-df-convert {\n",
              "      background-color: #E8F0FE;\n",
              "      border: none;\n",
              "      border-radius: 50%;\n",
              "      cursor: pointer;\n",
              "      display: none;\n",
              "      fill: #1967D2;\n",
              "      height: 32px;\n",
              "      padding: 0 0 0 0;\n",
              "      width: 32px;\n",
              "    }\n",
              "\n",
              "    .colab-df-convert:hover {\n",
              "      background-color: #E2EBFA;\n",
              "      box-shadow: 0px 1px 2px rgba(60, 64, 67, 0.3), 0px 1px 3px 1px rgba(60, 64, 67, 0.15);\n",
              "      fill: #174EA6;\n",
              "    }\n",
              "\n",
              "    [theme=dark] .colab-df-convert {\n",
              "      background-color: #3B4455;\n",
              "      fill: #D2E3FC;\n",
              "    }\n",
              "\n",
              "    [theme=dark] .colab-df-convert:hover {\n",
              "      background-color: #434B5C;\n",
              "      box-shadow: 0px 1px 3px 1px rgba(0, 0, 0, 0.15);\n",
              "      filter: drop-shadow(0px 1px 2px rgba(0, 0, 0, 0.3));\n",
              "      fill: #FFFFFF;\n",
              "    }\n",
              "  </style>\n",
              "\n",
              "      <script>\n",
              "        const buttonEl =\n",
              "          document.querySelector('#df-3ccf578a-436d-4f47-a69e-3f68d8be675c button.colab-df-convert');\n",
              "        buttonEl.style.display =\n",
              "          google.colab.kernel.accessAllowed ? 'block' : 'none';\n",
              "\n",
              "        async function convertToInteractive(key) {\n",
              "          const element = document.querySelector('#df-3ccf578a-436d-4f47-a69e-3f68d8be675c');\n",
              "          const dataTable =\n",
              "            await google.colab.kernel.invokeFunction('convertToInteractive',\n",
              "                                                     [key], {});\n",
              "          if (!dataTable) return;\n",
              "\n",
              "          const docLinkHtml = 'Like what you see? Visit the ' +\n",
              "            '<a target=\"_blank\" href=https://colab.research.google.com/notebooks/data_table.ipynb>data table notebook</a>'\n",
              "            + ' to learn more about interactive tables.';\n",
              "          element.innerHTML = '';\n",
              "          dataTable['output_type'] = 'display_data';\n",
              "          await google.colab.output.renderOutput(dataTable, element);\n",
              "          const docLink = document.createElement('div');\n",
              "          docLink.innerHTML = docLinkHtml;\n",
              "          element.appendChild(docLink);\n",
              "        }\n",
              "      </script>\n",
              "    </div>\n",
              "  </div>\n",
              "  "
            ]
          },
          "metadata": {},
          "execution_count": 3
        }
      ],
      "source": [
        "bin_data_total = data = pd.read_csv(\"/content/drive/MyDrive/Colab_Notebooks/Datasets/kitsume_network_attack_dataset/Video_Injection_dataset_kitsune_binary_data_1M.csv\")\n",
        "bin_data_total.drop(bin_data_total.columns[0],axis=1,inplace=True)\n",
        "bin_data_total"
      ]
    },
    {
      "cell_type": "code",
      "execution_count": 4,
      "metadata": {
        "colab": {
          "base_uri": "https://localhost:8080/"
        },
        "id": "xHCs0B3sKOa_",
        "outputId": "fcdb7c54-058c-4d36-995b-4be95363541c"
      },
      "outputs": [
        {
          "output_type": "execute_result",
          "data": {
            "text/plain": [
              "0.0    0.958542\n",
              "1.0    0.041458\n",
              "Name: label, dtype: float64"
            ]
          },
          "metadata": {},
          "execution_count": 4
        }
      ],
      "source": [
        "# distribution of label class before sampling\n",
        "data_size = bin_data_total.shape[0]\n",
        "# data_size\n",
        "bin_data_total.label.value_counts()/data_size"
      ]
    },
    {
      "cell_type": "code",
      "source": [
        "model_name_suffix = \"_kitsune_Video_Injection\""
      ],
      "metadata": {
        "collapsed": true,
        "id": "xoRpI3HV9G2v"
      },
      "execution_count": 5,
      "outputs": []
    },
    {
      "cell_type": "code",
      "source": [
        "# numeric feature normalization\n",
        "from sklearn.preprocessing import MinMaxScaler\n",
        "from sklearn.preprocessing import StandardScaler\n",
        "\n",
        "numeric_cols = bin_data_total.select_dtypes(['number']).columns\n",
        "numeric_cols = numeric_cols.drop('label')\n",
        "flag = 0\n",
        "scaler = None\n",
        "if flag:\n",
        "  # using standard scaler for normalizing\n",
        "  scaler = StandardScaler()\n",
        "else:\n",
        "  # using minmax scaler for normalizing\n",
        "  # to avoid negative values after scaling\n",
        "  scaler = MinMaxScaler()\n",
        "\n",
        "def normalization_train(df,col):\n",
        "  for i in col:\n",
        "    arr = df[i]\n",
        "    arr = np.array(arr)\n",
        "    df[i] = scaler.fit_transform(arr.reshape(len(arr),1))\n",
        "  return df\n",
        "\n",
        "def normalization_test(df,col):\n",
        "  for i in col:\n",
        "    arr = df[i]\n",
        "    arr = np.array(arr)\n",
        "    df[i] = scaler.transform(arr.reshape(len(arr),1))\n",
        "  return df\n",
        "\n",
        "# numeric_cols"
      ],
      "metadata": {
        "id": "QAUrPvEIYHoH"
      },
      "execution_count": 6,
      "outputs": []
    },
    {
      "cell_type": "code",
      "execution_count": 7,
      "metadata": {
        "colab": {
          "base_uri": "https://localhost:8080/",
          "height": 505
        },
        "id": "XSTP2AcKJgTF",
        "outputId": "66e8db3d-459a-4bda-afd1-774212332701"
      },
      "outputs": [
        {
          "output_type": "execute_result",
          "data": {
            "text/plain": [
              "               X1           X2             X3          X4           X5  \\\n",
              "0       66.641620  1383.950216  135517.431072  102.581007  1365.615029   \n",
              "1      119.914903  1323.704045  203688.018841  187.198220  1321.695547   \n",
              "2       47.581637  1324.692974  186549.178523   86.180556  1337.768380   \n",
              "3       98.525860  1354.517924  165069.474527  171.320953  1348.125049   \n",
              "4      163.696199  1379.970410  150288.592657  230.819194  1362.804667   \n",
              "...           ...          ...            ...         ...          ...   \n",
              "24719   88.256059  1313.048198  189371.310019  159.096061  1327.957615   \n",
              "24720   49.396968  1294.395914  222788.700870   86.647755  1305.304609   \n",
              "24721   66.751784  1321.882291  184630.390847  120.156039  1336.336193   \n",
              "24722  114.050137  1330.302328  184002.763573  190.211185  1333.804469   \n",
              "24723   90.675592  1253.921726  255565.362451  156.309811  1283.851184   \n",
              "\n",
              "                  X6          X7           X8             X9          X10  \\\n",
              "0      152657.550297  289.254803  1341.522931  177063.500201  2825.569648   \n",
              "1      203338.593149  552.699551  1329.168143  192973.677998  5617.733403   \n",
              "2      176099.132073  276.540736  1343.951054  171643.179104  2817.849558   \n",
              "3      173986.240344  540.206843  1345.165062  179012.701146  5572.935075   \n",
              "4      165401.603872  595.854551  1344.807938  178521.730637  5665.027735   \n",
              "...              ...         ...          ...            ...          ...   \n",
              "24719  181254.375405  523.706614  1339.172410  176193.143263  3045.982407   \n",
              "24720  213641.907253  272.623249  1316.965180  203293.353987  2783.536396   \n",
              "24721  176845.527259  387.740594  1347.023827  173796.266530  3881.857150   \n",
              "24722  180730.486898  563.685436  1334.594409  181657.470597  5604.373741   \n",
              "24723  227257.949414  520.163170  1320.631642  194454.356527  2884.027089   \n",
              "\n",
              "       ...  X108          X109         X110        X111         X112  \\\n",
              "0      ...   0.0  28023.488565  1342.387445  419.357183  1342.387445   \n",
              "1      ...   0.0  28100.026278  1336.458676  430.030513  1336.458676   \n",
              "2      ...   0.0  28199.128166  1334.490758  431.906215  1334.490758   \n",
              "3      ...   0.0  28031.825573  1341.345469  422.491129  1341.345469   \n",
              "4      ...   0.0  28053.967335  1336.444720  430.577244  1336.444720   \n",
              "...    ...   ...           ...          ...         ...          ...   \n",
              "24719  ...   0.0  28070.559111  1339.507565  423.284438  1339.507565   \n",
              "24720  ...   0.0  27866.345197  1320.431208  448.078000  1320.431208   \n",
              "24721  ...   0.0  26683.313156  1339.119768  423.820951  1339.119768   \n",
              "24722  ...   0.0  27959.196044  1344.714863  418.839048  1344.714863   \n",
              "24723  ...   0.0  27421.539354  1340.348396  422.609948  1340.348396   \n",
              "\n",
              "                X113  X114  X115  Unnamed: 0  label  \n",
              "0      175860.447335   0.0   0.0     1283786    0.0  \n",
              "1      184926.242263   0.0   0.0     1062726    0.0  \n",
              "2      186542.978213   0.0   0.0     1554538    0.0  \n",
              "3      178498.753752   0.0   0.0     1674401    0.0  \n",
              "4      185396.763397   0.0   0.0      963138    0.0  \n",
              "...              ...   ...   ...         ...    ...  \n",
              "24719  179169.715048   0.0   0.0     2175123    1.0  \n",
              "24720  200773.894174   0.0   0.0     2369936    1.0  \n",
              "24721  179624.198150   0.0   0.0     2362690    1.0  \n",
              "24722  175426.148326   0.0   0.0     2368720    1.0  \n",
              "24723  178599.167822   0.0   0.0     2284827    1.0  \n",
              "\n",
              "[24724 rows x 117 columns]"
            ],
            "text/html": [
              "\n",
              "  <div id=\"df-16216e99-38d0-475e-a69b-c99c79f260d6\">\n",
              "    <div class=\"colab-df-container\">\n",
              "      <div>\n",
              "<style scoped>\n",
              "    .dataframe tbody tr th:only-of-type {\n",
              "        vertical-align: middle;\n",
              "    }\n",
              "\n",
              "    .dataframe tbody tr th {\n",
              "        vertical-align: top;\n",
              "    }\n",
              "\n",
              "    .dataframe thead th {\n",
              "        text-align: right;\n",
              "    }\n",
              "</style>\n",
              "<table border=\"1\" class=\"dataframe\">\n",
              "  <thead>\n",
              "    <tr style=\"text-align: right;\">\n",
              "      <th></th>\n",
              "      <th>X1</th>\n",
              "      <th>X2</th>\n",
              "      <th>X3</th>\n",
              "      <th>X4</th>\n",
              "      <th>X5</th>\n",
              "      <th>X6</th>\n",
              "      <th>X7</th>\n",
              "      <th>X8</th>\n",
              "      <th>X9</th>\n",
              "      <th>X10</th>\n",
              "      <th>...</th>\n",
              "      <th>X108</th>\n",
              "      <th>X109</th>\n",
              "      <th>X110</th>\n",
              "      <th>X111</th>\n",
              "      <th>X112</th>\n",
              "      <th>X113</th>\n",
              "      <th>X114</th>\n",
              "      <th>X115</th>\n",
              "      <th>Unnamed: 0</th>\n",
              "      <th>label</th>\n",
              "    </tr>\n",
              "  </thead>\n",
              "  <tbody>\n",
              "    <tr>\n",
              "      <th>0</th>\n",
              "      <td>66.641620</td>\n",
              "      <td>1383.950216</td>\n",
              "      <td>135517.431072</td>\n",
              "      <td>102.581007</td>\n",
              "      <td>1365.615029</td>\n",
              "      <td>152657.550297</td>\n",
              "      <td>289.254803</td>\n",
              "      <td>1341.522931</td>\n",
              "      <td>177063.500201</td>\n",
              "      <td>2825.569648</td>\n",
              "      <td>...</td>\n",
              "      <td>0.0</td>\n",
              "      <td>28023.488565</td>\n",
              "      <td>1342.387445</td>\n",
              "      <td>419.357183</td>\n",
              "      <td>1342.387445</td>\n",
              "      <td>175860.447335</td>\n",
              "      <td>0.0</td>\n",
              "      <td>0.0</td>\n",
              "      <td>1283786</td>\n",
              "      <td>0.0</td>\n",
              "    </tr>\n",
              "    <tr>\n",
              "      <th>1</th>\n",
              "      <td>119.914903</td>\n",
              "      <td>1323.704045</td>\n",
              "      <td>203688.018841</td>\n",
              "      <td>187.198220</td>\n",
              "      <td>1321.695547</td>\n",
              "      <td>203338.593149</td>\n",
              "      <td>552.699551</td>\n",
              "      <td>1329.168143</td>\n",
              "      <td>192973.677998</td>\n",
              "      <td>5617.733403</td>\n",
              "      <td>...</td>\n",
              "      <td>0.0</td>\n",
              "      <td>28100.026278</td>\n",
              "      <td>1336.458676</td>\n",
              "      <td>430.030513</td>\n",
              "      <td>1336.458676</td>\n",
              "      <td>184926.242263</td>\n",
              "      <td>0.0</td>\n",
              "      <td>0.0</td>\n",
              "      <td>1062726</td>\n",
              "      <td>0.0</td>\n",
              "    </tr>\n",
              "    <tr>\n",
              "      <th>2</th>\n",
              "      <td>47.581637</td>\n",
              "      <td>1324.692974</td>\n",
              "      <td>186549.178523</td>\n",
              "      <td>86.180556</td>\n",
              "      <td>1337.768380</td>\n",
              "      <td>176099.132073</td>\n",
              "      <td>276.540736</td>\n",
              "      <td>1343.951054</td>\n",
              "      <td>171643.179104</td>\n",
              "      <td>2817.849558</td>\n",
              "      <td>...</td>\n",
              "      <td>0.0</td>\n",
              "      <td>28199.128166</td>\n",
              "      <td>1334.490758</td>\n",
              "      <td>431.906215</td>\n",
              "      <td>1334.490758</td>\n",
              "      <td>186542.978213</td>\n",
              "      <td>0.0</td>\n",
              "      <td>0.0</td>\n",
              "      <td>1554538</td>\n",
              "      <td>0.0</td>\n",
              "    </tr>\n",
              "    <tr>\n",
              "      <th>3</th>\n",
              "      <td>98.525860</td>\n",
              "      <td>1354.517924</td>\n",
              "      <td>165069.474527</td>\n",
              "      <td>171.320953</td>\n",
              "      <td>1348.125049</td>\n",
              "      <td>173986.240344</td>\n",
              "      <td>540.206843</td>\n",
              "      <td>1345.165062</td>\n",
              "      <td>179012.701146</td>\n",
              "      <td>5572.935075</td>\n",
              "      <td>...</td>\n",
              "      <td>0.0</td>\n",
              "      <td>28031.825573</td>\n",
              "      <td>1341.345469</td>\n",
              "      <td>422.491129</td>\n",
              "      <td>1341.345469</td>\n",
              "      <td>178498.753752</td>\n",
              "      <td>0.0</td>\n",
              "      <td>0.0</td>\n",
              "      <td>1674401</td>\n",
              "      <td>0.0</td>\n",
              "    </tr>\n",
              "    <tr>\n",
              "      <th>4</th>\n",
              "      <td>163.696199</td>\n",
              "      <td>1379.970410</td>\n",
              "      <td>150288.592657</td>\n",
              "      <td>230.819194</td>\n",
              "      <td>1362.804667</td>\n",
              "      <td>165401.603872</td>\n",
              "      <td>595.854551</td>\n",
              "      <td>1344.807938</td>\n",
              "      <td>178521.730637</td>\n",
              "      <td>5665.027735</td>\n",
              "      <td>...</td>\n",
              "      <td>0.0</td>\n",
              "      <td>28053.967335</td>\n",
              "      <td>1336.444720</td>\n",
              "      <td>430.577244</td>\n",
              "      <td>1336.444720</td>\n",
              "      <td>185396.763397</td>\n",
              "      <td>0.0</td>\n",
              "      <td>0.0</td>\n",
              "      <td>963138</td>\n",
              "      <td>0.0</td>\n",
              "    </tr>\n",
              "    <tr>\n",
              "      <th>...</th>\n",
              "      <td>...</td>\n",
              "      <td>...</td>\n",
              "      <td>...</td>\n",
              "      <td>...</td>\n",
              "      <td>...</td>\n",
              "      <td>...</td>\n",
              "      <td>...</td>\n",
              "      <td>...</td>\n",
              "      <td>...</td>\n",
              "      <td>...</td>\n",
              "      <td>...</td>\n",
              "      <td>...</td>\n",
              "      <td>...</td>\n",
              "      <td>...</td>\n",
              "      <td>...</td>\n",
              "      <td>...</td>\n",
              "      <td>...</td>\n",
              "      <td>...</td>\n",
              "      <td>...</td>\n",
              "      <td>...</td>\n",
              "      <td>...</td>\n",
              "    </tr>\n",
              "    <tr>\n",
              "      <th>24719</th>\n",
              "      <td>88.256059</td>\n",
              "      <td>1313.048198</td>\n",
              "      <td>189371.310019</td>\n",
              "      <td>159.096061</td>\n",
              "      <td>1327.957615</td>\n",
              "      <td>181254.375405</td>\n",
              "      <td>523.706614</td>\n",
              "      <td>1339.172410</td>\n",
              "      <td>176193.143263</td>\n",
              "      <td>3045.982407</td>\n",
              "      <td>...</td>\n",
              "      <td>0.0</td>\n",
              "      <td>28070.559111</td>\n",
              "      <td>1339.507565</td>\n",
              "      <td>423.284438</td>\n",
              "      <td>1339.507565</td>\n",
              "      <td>179169.715048</td>\n",
              "      <td>0.0</td>\n",
              "      <td>0.0</td>\n",
              "      <td>2175123</td>\n",
              "      <td>1.0</td>\n",
              "    </tr>\n",
              "    <tr>\n",
              "      <th>24720</th>\n",
              "      <td>49.396968</td>\n",
              "      <td>1294.395914</td>\n",
              "      <td>222788.700870</td>\n",
              "      <td>86.647755</td>\n",
              "      <td>1305.304609</td>\n",
              "      <td>213641.907253</td>\n",
              "      <td>272.623249</td>\n",
              "      <td>1316.965180</td>\n",
              "      <td>203293.353987</td>\n",
              "      <td>2783.536396</td>\n",
              "      <td>...</td>\n",
              "      <td>0.0</td>\n",
              "      <td>27866.345197</td>\n",
              "      <td>1320.431208</td>\n",
              "      <td>448.078000</td>\n",
              "      <td>1320.431208</td>\n",
              "      <td>200773.894174</td>\n",
              "      <td>0.0</td>\n",
              "      <td>0.0</td>\n",
              "      <td>2369936</td>\n",
              "      <td>1.0</td>\n",
              "    </tr>\n",
              "    <tr>\n",
              "      <th>24721</th>\n",
              "      <td>66.751784</td>\n",
              "      <td>1321.882291</td>\n",
              "      <td>184630.390847</td>\n",
              "      <td>120.156039</td>\n",
              "      <td>1336.336193</td>\n",
              "      <td>176845.527259</td>\n",
              "      <td>387.740594</td>\n",
              "      <td>1347.023827</td>\n",
              "      <td>173796.266530</td>\n",
              "      <td>3881.857150</td>\n",
              "      <td>...</td>\n",
              "      <td>0.0</td>\n",
              "      <td>26683.313156</td>\n",
              "      <td>1339.119768</td>\n",
              "      <td>423.820951</td>\n",
              "      <td>1339.119768</td>\n",
              "      <td>179624.198150</td>\n",
              "      <td>0.0</td>\n",
              "      <td>0.0</td>\n",
              "      <td>2362690</td>\n",
              "      <td>1.0</td>\n",
              "    </tr>\n",
              "    <tr>\n",
              "      <th>24722</th>\n",
              "      <td>114.050137</td>\n",
              "      <td>1330.302328</td>\n",
              "      <td>184002.763573</td>\n",
              "      <td>190.211185</td>\n",
              "      <td>1333.804469</td>\n",
              "      <td>180730.486898</td>\n",
              "      <td>563.685436</td>\n",
              "      <td>1334.594409</td>\n",
              "      <td>181657.470597</td>\n",
              "      <td>5604.373741</td>\n",
              "      <td>...</td>\n",
              "      <td>0.0</td>\n",
              "      <td>27959.196044</td>\n",
              "      <td>1344.714863</td>\n",
              "      <td>418.839048</td>\n",
              "      <td>1344.714863</td>\n",
              "      <td>175426.148326</td>\n",
              "      <td>0.0</td>\n",
              "      <td>0.0</td>\n",
              "      <td>2368720</td>\n",
              "      <td>1.0</td>\n",
              "    </tr>\n",
              "    <tr>\n",
              "      <th>24723</th>\n",
              "      <td>90.675592</td>\n",
              "      <td>1253.921726</td>\n",
              "      <td>255565.362451</td>\n",
              "      <td>156.309811</td>\n",
              "      <td>1283.851184</td>\n",
              "      <td>227257.949414</td>\n",
              "      <td>520.163170</td>\n",
              "      <td>1320.631642</td>\n",
              "      <td>194454.356527</td>\n",
              "      <td>2884.027089</td>\n",
              "      <td>...</td>\n",
              "      <td>0.0</td>\n",
              "      <td>27421.539354</td>\n",
              "      <td>1340.348396</td>\n",
              "      <td>422.609948</td>\n",
              "      <td>1340.348396</td>\n",
              "      <td>178599.167822</td>\n",
              "      <td>0.0</td>\n",
              "      <td>0.0</td>\n",
              "      <td>2284827</td>\n",
              "      <td>1.0</td>\n",
              "    </tr>\n",
              "  </tbody>\n",
              "</table>\n",
              "<p>24724 rows × 117 columns</p>\n",
              "</div>\n",
              "      <button class=\"colab-df-convert\" onclick=\"convertToInteractive('df-16216e99-38d0-475e-a69b-c99c79f260d6')\"\n",
              "              title=\"Convert this dataframe to an interactive table.\"\n",
              "              style=\"display:none;\">\n",
              "        \n",
              "  <svg xmlns=\"http://www.w3.org/2000/svg\" height=\"24px\"viewBox=\"0 0 24 24\"\n",
              "       width=\"24px\">\n",
              "    <path d=\"M0 0h24v24H0V0z\" fill=\"none\"/>\n",
              "    <path d=\"M18.56 5.44l.94 2.06.94-2.06 2.06-.94-2.06-.94-.94-2.06-.94 2.06-2.06.94zm-11 1L8.5 8.5l.94-2.06 2.06-.94-2.06-.94L8.5 2.5l-.94 2.06-2.06.94zm10 10l.94 2.06.94-2.06 2.06-.94-2.06-.94-.94-2.06-.94 2.06-2.06.94z\"/><path d=\"M17.41 7.96l-1.37-1.37c-.4-.4-.92-.59-1.43-.59-.52 0-1.04.2-1.43.59L10.3 9.45l-7.72 7.72c-.78.78-.78 2.05 0 2.83L4 21.41c.39.39.9.59 1.41.59.51 0 1.02-.2 1.41-.59l7.78-7.78 2.81-2.81c.8-.78.8-2.07 0-2.86zM5.41 20L4 18.59l7.72-7.72 1.47 1.35L5.41 20z\"/>\n",
              "  </svg>\n",
              "      </button>\n",
              "      \n",
              "  <style>\n",
              "    .colab-df-container {\n",
              "      display:flex;\n",
              "      flex-wrap:wrap;\n",
              "      gap: 12px;\n",
              "    }\n",
              "\n",
              "    .colab-df-convert {\n",
              "      background-color: #E8F0FE;\n",
              "      border: none;\n",
              "      border-radius: 50%;\n",
              "      cursor: pointer;\n",
              "      display: none;\n",
              "      fill: #1967D2;\n",
              "      height: 32px;\n",
              "      padding: 0 0 0 0;\n",
              "      width: 32px;\n",
              "    }\n",
              "\n",
              "    .colab-df-convert:hover {\n",
              "      background-color: #E2EBFA;\n",
              "      box-shadow: 0px 1px 2px rgba(60, 64, 67, 0.3), 0px 1px 3px 1px rgba(60, 64, 67, 0.15);\n",
              "      fill: #174EA6;\n",
              "    }\n",
              "\n",
              "    [theme=dark] .colab-df-convert {\n",
              "      background-color: #3B4455;\n",
              "      fill: #D2E3FC;\n",
              "    }\n",
              "\n",
              "    [theme=dark] .colab-df-convert:hover {\n",
              "      background-color: #434B5C;\n",
              "      box-shadow: 0px 1px 3px 1px rgba(0, 0, 0, 0.15);\n",
              "      filter: drop-shadow(0px 1px 2px rgba(0, 0, 0, 0.3));\n",
              "      fill: #FFFFFF;\n",
              "    }\n",
              "  </style>\n",
              "\n",
              "      <script>\n",
              "        const buttonEl =\n",
              "          document.querySelector('#df-16216e99-38d0-475e-a69b-c99c79f260d6 button.colab-df-convert');\n",
              "        buttonEl.style.display =\n",
              "          google.colab.kernel.accessAllowed ? 'block' : 'none';\n",
              "\n",
              "        async function convertToInteractive(key) {\n",
              "          const element = document.querySelector('#df-16216e99-38d0-475e-a69b-c99c79f260d6');\n",
              "          const dataTable =\n",
              "            await google.colab.kernel.invokeFunction('convertToInteractive',\n",
              "                                                     [key], {});\n",
              "          if (!dataTable) return;\n",
              "\n",
              "          const docLinkHtml = 'Like what you see? Visit the ' +\n",
              "            '<a target=\"_blank\" href=https://colab.research.google.com/notebooks/data_table.ipynb>data table notebook</a>'\n",
              "            + ' to learn more about interactive tables.';\n",
              "          element.innerHTML = '';\n",
              "          dataTable['output_type'] = 'display_data';\n",
              "          await google.colab.output.renderOutput(dataTable, element);\n",
              "          const docLink = document.createElement('div');\n",
              "          docLink.innerHTML = docLinkHtml;\n",
              "          element.appendChild(docLink);\n",
              "        }\n",
              "      </script>\n",
              "    </div>\n",
              "  </div>\n",
              "  "
            ]
          },
          "metadata": {},
          "execution_count": 7
        }
      ],
      "source": [
        "# sampling data taking only 50% of the data\n",
        "# bin_data = bin_data_total.groupby('label', group_keys=False).apply(lambda x: x.sample(frac=0.5))\n",
        "bin_data = bin_data_total\n",
        "bin_data"
      ]
    },
    {
      "cell_type": "code",
      "source": [
        "number_of_cols = bin_data.shape[1]"
      ],
      "metadata": {
        "id": "N125Cc3Ukt8h"
      },
      "execution_count": 8,
      "outputs": []
    },
    {
      "cell_type": "code",
      "execution_count": 9,
      "metadata": {
        "colab": {
          "base_uri": "https://localhost:8080/"
        },
        "id": "nKX2TRG0J85J",
        "outputId": "45252a8e-f6f8-417a-de8a-fa1c72649f8d"
      },
      "outputs": [
        {
          "output_type": "execute_result",
          "data": {
            "text/plain": [
              "0.0    0.958542\n",
              "1.0    0.041458\n",
              "Name: label, dtype: float64"
            ]
          },
          "metadata": {},
          "execution_count": 9
        }
      ],
      "source": [
        "# distribution of label class after sampling\n",
        "data_size = bin_data.shape[0]\n",
        "bin_data.label.value_counts()/data_size"
      ]
    },
    {
      "cell_type": "code",
      "execution_count": 10,
      "metadata": {
        "id": "L11T2MepDzax"
      },
      "outputs": [],
      "source": [
        "model_selection = {\n",
        "    0 : \"ALL\",\n",
        "    2 : \"MLP\",\n",
        "    3 : \"LSTM\",\n",
        "    4 : \"AE\"\n",
        "}\n",
        "model_flag = 0\n",
        "svm_enable = 1"
      ]
    },
    {
      "cell_type": "code",
      "execution_count": 11,
      "metadata": {
        "id": "OdRAXVlsxUVW"
      },
      "outputs": [],
      "source": [
        "X = bin_data.iloc[:,0:number_of_cols] # dataset excluding target attribute (encoded, one-hot-encoded,original)\n",
        "Y = bin_data['label'] # target attribute"
      ]
    },
    {
      "cell_type": "code",
      "execution_count": 12,
      "metadata": {
        "id": "lFdHHvRtxU5B"
      },
      "outputs": [],
      "source": [
        "# splitting the dataset 75% for training and 25% testing\n",
        "X_train, X_test, y_train, y_test = train_test_split(X,Y, test_size=0.25, random_state=42) "
      ]
    },
    {
      "cell_type": "code",
      "source": [
        "# calling the normalization() function\n",
        "X_train = normalization_train(X_train,numeric_cols)\n",
        "X_train.head()"
      ],
      "metadata": {
        "colab": {
          "base_uri": "https://localhost:8080/",
          "height": 404
        },
        "id": "SLLlMtsaYJdK",
        "outputId": "28bf1b1d-8fef-453c-ea35-2be3de04dcdf"
      },
      "execution_count": 13,
      "outputs": [
        {
          "output_type": "execute_result",
          "data": {
            "text/plain": [
              "             X1        X2        X3        X4        X5        X6        X7  \\\n",
              "11879  0.210183  0.880803  0.477481  0.282596  0.897492  0.449891  0.407278   \n",
              "1838   0.323403  0.919681  0.360229  0.387376  0.924424  0.378197  0.479819   \n",
              "11132  0.221080  0.876222  0.497104  0.292234  0.895869  0.463360  0.410535   \n",
              "8849   0.577793  0.883804  0.492451  0.647274  0.894595  0.473004  0.816105   \n",
              "24617  0.312264  0.840632  0.657892  0.399061  0.867828  0.585085  0.541542   \n",
              "\n",
              "             X8        X9       X10  ...          X108      X109      X110  \\\n",
              "11879  0.958854  0.440632  0.488410  ...  5.267578e-17  0.993164  0.971178   \n",
              "1838   0.973910  0.411027  0.501806  ...  5.267578e-17  0.919859  0.968447   \n",
              "11132  0.962535  0.435934  0.489324  ...  5.267578e-17  0.985054  0.973430   \n",
              "8849   0.958406  0.450074  0.971492  ...  5.267578e-17  0.991840  0.972351   \n",
              "24617  0.943798  0.513748  0.641941  ...  5.267578e-17  0.965376  0.971146   \n",
              "\n",
              "           X111      X112      X113      X114  X115  Unnamed: 0  label  \n",
              "11879  0.913415  0.971178  0.834327  0.338974   1.0    0.952983    0.0  \n",
              "1838   0.923860  0.968447  0.853518  0.338974   1.0    0.174084    0.0  \n",
              "11132  0.904675  0.973430  0.818436  0.338974   1.0    0.353183    0.0  \n",
              "8849   0.913408  0.972351  0.834314  0.338974   1.0    0.702066    0.0  \n",
              "24617  0.914511  0.971146  0.836330  0.338974   1.0    0.938488    1.0  \n",
              "\n",
              "[5 rows x 117 columns]"
            ],
            "text/html": [
              "\n",
              "  <div id=\"df-708b76a0-8ad3-4763-b3a3-10c6ca2149e3\">\n",
              "    <div class=\"colab-df-container\">\n",
              "      <div>\n",
              "<style scoped>\n",
              "    .dataframe tbody tr th:only-of-type {\n",
              "        vertical-align: middle;\n",
              "    }\n",
              "\n",
              "    .dataframe tbody tr th {\n",
              "        vertical-align: top;\n",
              "    }\n",
              "\n",
              "    .dataframe thead th {\n",
              "        text-align: right;\n",
              "    }\n",
              "</style>\n",
              "<table border=\"1\" class=\"dataframe\">\n",
              "  <thead>\n",
              "    <tr style=\"text-align: right;\">\n",
              "      <th></th>\n",
              "      <th>X1</th>\n",
              "      <th>X2</th>\n",
              "      <th>X3</th>\n",
              "      <th>X4</th>\n",
              "      <th>X5</th>\n",
              "      <th>X6</th>\n",
              "      <th>X7</th>\n",
              "      <th>X8</th>\n",
              "      <th>X9</th>\n",
              "      <th>X10</th>\n",
              "      <th>...</th>\n",
              "      <th>X108</th>\n",
              "      <th>X109</th>\n",
              "      <th>X110</th>\n",
              "      <th>X111</th>\n",
              "      <th>X112</th>\n",
              "      <th>X113</th>\n",
              "      <th>X114</th>\n",
              "      <th>X115</th>\n",
              "      <th>Unnamed: 0</th>\n",
              "      <th>label</th>\n",
              "    </tr>\n",
              "  </thead>\n",
              "  <tbody>\n",
              "    <tr>\n",
              "      <th>11879</th>\n",
              "      <td>0.210183</td>\n",
              "      <td>0.880803</td>\n",
              "      <td>0.477481</td>\n",
              "      <td>0.282596</td>\n",
              "      <td>0.897492</td>\n",
              "      <td>0.449891</td>\n",
              "      <td>0.407278</td>\n",
              "      <td>0.958854</td>\n",
              "      <td>0.440632</td>\n",
              "      <td>0.488410</td>\n",
              "      <td>...</td>\n",
              "      <td>5.267578e-17</td>\n",
              "      <td>0.993164</td>\n",
              "      <td>0.971178</td>\n",
              "      <td>0.913415</td>\n",
              "      <td>0.971178</td>\n",
              "      <td>0.834327</td>\n",
              "      <td>0.338974</td>\n",
              "      <td>1.0</td>\n",
              "      <td>0.952983</td>\n",
              "      <td>0.0</td>\n",
              "    </tr>\n",
              "    <tr>\n",
              "      <th>1838</th>\n",
              "      <td>0.323403</td>\n",
              "      <td>0.919681</td>\n",
              "      <td>0.360229</td>\n",
              "      <td>0.387376</td>\n",
              "      <td>0.924424</td>\n",
              "      <td>0.378197</td>\n",
              "      <td>0.479819</td>\n",
              "      <td>0.973910</td>\n",
              "      <td>0.411027</td>\n",
              "      <td>0.501806</td>\n",
              "      <td>...</td>\n",
              "      <td>5.267578e-17</td>\n",
              "      <td>0.919859</td>\n",
              "      <td>0.968447</td>\n",
              "      <td>0.923860</td>\n",
              "      <td>0.968447</td>\n",
              "      <td>0.853518</td>\n",
              "      <td>0.338974</td>\n",
              "      <td>1.0</td>\n",
              "      <td>0.174084</td>\n",
              "      <td>0.0</td>\n",
              "    </tr>\n",
              "    <tr>\n",
              "      <th>11132</th>\n",
              "      <td>0.221080</td>\n",
              "      <td>0.876222</td>\n",
              "      <td>0.497104</td>\n",
              "      <td>0.292234</td>\n",
              "      <td>0.895869</td>\n",
              "      <td>0.463360</td>\n",
              "      <td>0.410535</td>\n",
              "      <td>0.962535</td>\n",
              "      <td>0.435934</td>\n",
              "      <td>0.489324</td>\n",
              "      <td>...</td>\n",
              "      <td>5.267578e-17</td>\n",
              "      <td>0.985054</td>\n",
              "      <td>0.973430</td>\n",
              "      <td>0.904675</td>\n",
              "      <td>0.973430</td>\n",
              "      <td>0.818436</td>\n",
              "      <td>0.338974</td>\n",
              "      <td>1.0</td>\n",
              "      <td>0.353183</td>\n",
              "      <td>0.0</td>\n",
              "    </tr>\n",
              "    <tr>\n",
              "      <th>8849</th>\n",
              "      <td>0.577793</td>\n",
              "      <td>0.883804</td>\n",
              "      <td>0.492451</td>\n",
              "      <td>0.647274</td>\n",
              "      <td>0.894595</td>\n",
              "      <td>0.473004</td>\n",
              "      <td>0.816105</td>\n",
              "      <td>0.958406</td>\n",
              "      <td>0.450074</td>\n",
              "      <td>0.971492</td>\n",
              "      <td>...</td>\n",
              "      <td>5.267578e-17</td>\n",
              "      <td>0.991840</td>\n",
              "      <td>0.972351</td>\n",
              "      <td>0.913408</td>\n",
              "      <td>0.972351</td>\n",
              "      <td>0.834314</td>\n",
              "      <td>0.338974</td>\n",
              "      <td>1.0</td>\n",
              "      <td>0.702066</td>\n",
              "      <td>0.0</td>\n",
              "    </tr>\n",
              "    <tr>\n",
              "      <th>24617</th>\n",
              "      <td>0.312264</td>\n",
              "      <td>0.840632</td>\n",
              "      <td>0.657892</td>\n",
              "      <td>0.399061</td>\n",
              "      <td>0.867828</td>\n",
              "      <td>0.585085</td>\n",
              "      <td>0.541542</td>\n",
              "      <td>0.943798</td>\n",
              "      <td>0.513748</td>\n",
              "      <td>0.641941</td>\n",
              "      <td>...</td>\n",
              "      <td>5.267578e-17</td>\n",
              "      <td>0.965376</td>\n",
              "      <td>0.971146</td>\n",
              "      <td>0.914511</td>\n",
              "      <td>0.971146</td>\n",
              "      <td>0.836330</td>\n",
              "      <td>0.338974</td>\n",
              "      <td>1.0</td>\n",
              "      <td>0.938488</td>\n",
              "      <td>1.0</td>\n",
              "    </tr>\n",
              "  </tbody>\n",
              "</table>\n",
              "<p>5 rows × 117 columns</p>\n",
              "</div>\n",
              "      <button class=\"colab-df-convert\" onclick=\"convertToInteractive('df-708b76a0-8ad3-4763-b3a3-10c6ca2149e3')\"\n",
              "              title=\"Convert this dataframe to an interactive table.\"\n",
              "              style=\"display:none;\">\n",
              "        \n",
              "  <svg xmlns=\"http://www.w3.org/2000/svg\" height=\"24px\"viewBox=\"0 0 24 24\"\n",
              "       width=\"24px\">\n",
              "    <path d=\"M0 0h24v24H0V0z\" fill=\"none\"/>\n",
              "    <path d=\"M18.56 5.44l.94 2.06.94-2.06 2.06-.94-2.06-.94-.94-2.06-.94 2.06-2.06.94zm-11 1L8.5 8.5l.94-2.06 2.06-.94-2.06-.94L8.5 2.5l-.94 2.06-2.06.94zm10 10l.94 2.06.94-2.06 2.06-.94-2.06-.94-.94-2.06-.94 2.06-2.06.94z\"/><path d=\"M17.41 7.96l-1.37-1.37c-.4-.4-.92-.59-1.43-.59-.52 0-1.04.2-1.43.59L10.3 9.45l-7.72 7.72c-.78.78-.78 2.05 0 2.83L4 21.41c.39.39.9.59 1.41.59.51 0 1.02-.2 1.41-.59l7.78-7.78 2.81-2.81c.8-.78.8-2.07 0-2.86zM5.41 20L4 18.59l7.72-7.72 1.47 1.35L5.41 20z\"/>\n",
              "  </svg>\n",
              "      </button>\n",
              "      \n",
              "  <style>\n",
              "    .colab-df-container {\n",
              "      display:flex;\n",
              "      flex-wrap:wrap;\n",
              "      gap: 12px;\n",
              "    }\n",
              "\n",
              "    .colab-df-convert {\n",
              "      background-color: #E8F0FE;\n",
              "      border: none;\n",
              "      border-radius: 50%;\n",
              "      cursor: pointer;\n",
              "      display: none;\n",
              "      fill: #1967D2;\n",
              "      height: 32px;\n",
              "      padding: 0 0 0 0;\n",
              "      width: 32px;\n",
              "    }\n",
              "\n",
              "    .colab-df-convert:hover {\n",
              "      background-color: #E2EBFA;\n",
              "      box-shadow: 0px 1px 2px rgba(60, 64, 67, 0.3), 0px 1px 3px 1px rgba(60, 64, 67, 0.15);\n",
              "      fill: #174EA6;\n",
              "    }\n",
              "\n",
              "    [theme=dark] .colab-df-convert {\n",
              "      background-color: #3B4455;\n",
              "      fill: #D2E3FC;\n",
              "    }\n",
              "\n",
              "    [theme=dark] .colab-df-convert:hover {\n",
              "      background-color: #434B5C;\n",
              "      box-shadow: 0px 1px 3px 1px rgba(0, 0, 0, 0.15);\n",
              "      filter: drop-shadow(0px 1px 2px rgba(0, 0, 0, 0.3));\n",
              "      fill: #FFFFFF;\n",
              "    }\n",
              "  </style>\n",
              "\n",
              "      <script>\n",
              "        const buttonEl =\n",
              "          document.querySelector('#df-708b76a0-8ad3-4763-b3a3-10c6ca2149e3 button.colab-df-convert');\n",
              "        buttonEl.style.display =\n",
              "          google.colab.kernel.accessAllowed ? 'block' : 'none';\n",
              "\n",
              "        async function convertToInteractive(key) {\n",
              "          const element = document.querySelector('#df-708b76a0-8ad3-4763-b3a3-10c6ca2149e3');\n",
              "          const dataTable =\n",
              "            await google.colab.kernel.invokeFunction('convertToInteractive',\n",
              "                                                     [key], {});\n",
              "          if (!dataTable) return;\n",
              "\n",
              "          const docLinkHtml = 'Like what you see? Visit the ' +\n",
              "            '<a target=\"_blank\" href=https://colab.research.google.com/notebooks/data_table.ipynb>data table notebook</a>'\n",
              "            + ' to learn more about interactive tables.';\n",
              "          element.innerHTML = '';\n",
              "          dataTable['output_type'] = 'display_data';\n",
              "          await google.colab.output.renderOutput(dataTable, element);\n",
              "          const docLink = document.createElement('div');\n",
              "          docLink.innerHTML = docLinkHtml;\n",
              "          element.appendChild(docLink);\n",
              "        }\n",
              "      </script>\n",
              "    </div>\n",
              "  </div>\n",
              "  "
            ]
          },
          "metadata": {},
          "execution_count": 13
        }
      ]
    },
    {
      "cell_type": "code",
      "source": [
        "# calling the normalization() function\n",
        "X_test = normalization_test(X_test,numeric_cols)\n",
        "X_test.head()"
      ],
      "metadata": {
        "colab": {
          "base_uri": "https://localhost:8080/",
          "height": 317
        },
        "id": "EKmhgZCobPU3",
        "outputId": "82a46d3d-84e1-453c-9bf5-0dfbf17642e5"
      },
      "execution_count": 14,
      "outputs": [
        {
          "output_type": "execute_result",
          "data": {
            "text/plain": [
              "             X1        X2        X3        X4        X5        X6        X7  \\\n",
              "23619  0.000033  0.000536  0.060694  0.000065  0.000535  0.060730  0.000216   \n",
              "12599  0.000020  0.000517  0.080557  0.000048  0.000521  0.077020  0.000199   \n",
              "8925   0.000041  0.000531  0.071761  0.000069  0.000529  0.072136  0.000216   \n",
              "1661   0.000062  0.000539  0.062541  0.000091  0.000532  0.069433  0.000240   \n",
              "5923   0.000028  0.000521  0.076835  0.000060  0.000522  0.075695  0.000214   \n",
              "\n",
              "             X8        X9       X10  ...      X108      X109      X110  \\\n",
              "23619  0.000531  0.064162  0.002265  ... -0.000018  0.009270  0.000525   \n",
              "12599  0.000525  0.074027  0.002234  ... -0.000018  0.011289  0.000526   \n",
              "8925   0.000527  0.071784  0.002270  ... -0.000018  0.011347  0.000524   \n",
              "1661   0.000524  0.075299  0.002289  ... -0.000018  0.011377  0.000523   \n",
              "5923   0.000523  0.074244  0.002266  ... -0.000018  0.011299  0.000524   \n",
              "\n",
              "           X111      X112      X113      X114      X115  Unnamed: 0  label  \n",
              "23619  0.000152  0.000525  0.071642 -0.000018 -0.000018    0.116758    0.0  \n",
              "12599  0.000152  0.000526  0.070949 -0.000018 -0.000018    0.907770    0.0  \n",
              "8925   0.000154  0.000524  0.073250 -0.000018 -0.000018    0.604792    0.0  \n",
              "1661   0.000156  0.000523  0.074794 -0.000018 -0.000018    0.536559    0.0  \n",
              "5923   0.000154  0.000524  0.072929 -0.000018 -0.000018    0.383483    0.0  \n",
              "\n",
              "[5 rows x 117 columns]"
            ],
            "text/html": [
              "\n",
              "  <div id=\"df-34580292-00c7-48ba-b9db-21d34962f9e7\">\n",
              "    <div class=\"colab-df-container\">\n",
              "      <div>\n",
              "<style scoped>\n",
              "    .dataframe tbody tr th:only-of-type {\n",
              "        vertical-align: middle;\n",
              "    }\n",
              "\n",
              "    .dataframe tbody tr th {\n",
              "        vertical-align: top;\n",
              "    }\n",
              "\n",
              "    .dataframe thead th {\n",
              "        text-align: right;\n",
              "    }\n",
              "</style>\n",
              "<table border=\"1\" class=\"dataframe\">\n",
              "  <thead>\n",
              "    <tr style=\"text-align: right;\">\n",
              "      <th></th>\n",
              "      <th>X1</th>\n",
              "      <th>X2</th>\n",
              "      <th>X3</th>\n",
              "      <th>X4</th>\n",
              "      <th>X5</th>\n",
              "      <th>X6</th>\n",
              "      <th>X7</th>\n",
              "      <th>X8</th>\n",
              "      <th>X9</th>\n",
              "      <th>X10</th>\n",
              "      <th>...</th>\n",
              "      <th>X108</th>\n",
              "      <th>X109</th>\n",
              "      <th>X110</th>\n",
              "      <th>X111</th>\n",
              "      <th>X112</th>\n",
              "      <th>X113</th>\n",
              "      <th>X114</th>\n",
              "      <th>X115</th>\n",
              "      <th>Unnamed: 0</th>\n",
              "      <th>label</th>\n",
              "    </tr>\n",
              "  </thead>\n",
              "  <tbody>\n",
              "    <tr>\n",
              "      <th>23619</th>\n",
              "      <td>0.000033</td>\n",
              "      <td>0.000536</td>\n",
              "      <td>0.060694</td>\n",
              "      <td>0.000065</td>\n",
              "      <td>0.000535</td>\n",
              "      <td>0.060730</td>\n",
              "      <td>0.000216</td>\n",
              "      <td>0.000531</td>\n",
              "      <td>0.064162</td>\n",
              "      <td>0.002265</td>\n",
              "      <td>...</td>\n",
              "      <td>-0.000018</td>\n",
              "      <td>0.009270</td>\n",
              "      <td>0.000525</td>\n",
              "      <td>0.000152</td>\n",
              "      <td>0.000525</td>\n",
              "      <td>0.071642</td>\n",
              "      <td>-0.000018</td>\n",
              "      <td>-0.000018</td>\n",
              "      <td>0.116758</td>\n",
              "      <td>0.0</td>\n",
              "    </tr>\n",
              "    <tr>\n",
              "      <th>12599</th>\n",
              "      <td>0.000020</td>\n",
              "      <td>0.000517</td>\n",
              "      <td>0.080557</td>\n",
              "      <td>0.000048</td>\n",
              "      <td>0.000521</td>\n",
              "      <td>0.077020</td>\n",
              "      <td>0.000199</td>\n",
              "      <td>0.000525</td>\n",
              "      <td>0.074027</td>\n",
              "      <td>0.002234</td>\n",
              "      <td>...</td>\n",
              "      <td>-0.000018</td>\n",
              "      <td>0.011289</td>\n",
              "      <td>0.000526</td>\n",
              "      <td>0.000152</td>\n",
              "      <td>0.000526</td>\n",
              "      <td>0.070949</td>\n",
              "      <td>-0.000018</td>\n",
              "      <td>-0.000018</td>\n",
              "      <td>0.907770</td>\n",
              "      <td>0.0</td>\n",
              "    </tr>\n",
              "    <tr>\n",
              "      <th>8925</th>\n",
              "      <td>0.000041</td>\n",
              "      <td>0.000531</td>\n",
              "      <td>0.071761</td>\n",
              "      <td>0.000069</td>\n",
              "      <td>0.000529</td>\n",
              "      <td>0.072136</td>\n",
              "      <td>0.000216</td>\n",
              "      <td>0.000527</td>\n",
              "      <td>0.071784</td>\n",
              "      <td>0.002270</td>\n",
              "      <td>...</td>\n",
              "      <td>-0.000018</td>\n",
              "      <td>0.011347</td>\n",
              "      <td>0.000524</td>\n",
              "      <td>0.000154</td>\n",
              "      <td>0.000524</td>\n",
              "      <td>0.073250</td>\n",
              "      <td>-0.000018</td>\n",
              "      <td>-0.000018</td>\n",
              "      <td>0.604792</td>\n",
              "      <td>0.0</td>\n",
              "    </tr>\n",
              "    <tr>\n",
              "      <th>1661</th>\n",
              "      <td>0.000062</td>\n",
              "      <td>0.000539</td>\n",
              "      <td>0.062541</td>\n",
              "      <td>0.000091</td>\n",
              "      <td>0.000532</td>\n",
              "      <td>0.069433</td>\n",
              "      <td>0.000240</td>\n",
              "      <td>0.000524</td>\n",
              "      <td>0.075299</td>\n",
              "      <td>0.002289</td>\n",
              "      <td>...</td>\n",
              "      <td>-0.000018</td>\n",
              "      <td>0.011377</td>\n",
              "      <td>0.000523</td>\n",
              "      <td>0.000156</td>\n",
              "      <td>0.000523</td>\n",
              "      <td>0.074794</td>\n",
              "      <td>-0.000018</td>\n",
              "      <td>-0.000018</td>\n",
              "      <td>0.536559</td>\n",
              "      <td>0.0</td>\n",
              "    </tr>\n",
              "    <tr>\n",
              "      <th>5923</th>\n",
              "      <td>0.000028</td>\n",
              "      <td>0.000521</td>\n",
              "      <td>0.076835</td>\n",
              "      <td>0.000060</td>\n",
              "      <td>0.000522</td>\n",
              "      <td>0.075695</td>\n",
              "      <td>0.000214</td>\n",
              "      <td>0.000523</td>\n",
              "      <td>0.074244</td>\n",
              "      <td>0.002266</td>\n",
              "      <td>...</td>\n",
              "      <td>-0.000018</td>\n",
              "      <td>0.011299</td>\n",
              "      <td>0.000524</td>\n",
              "      <td>0.000154</td>\n",
              "      <td>0.000524</td>\n",
              "      <td>0.072929</td>\n",
              "      <td>-0.000018</td>\n",
              "      <td>-0.000018</td>\n",
              "      <td>0.383483</td>\n",
              "      <td>0.0</td>\n",
              "    </tr>\n",
              "  </tbody>\n",
              "</table>\n",
              "<p>5 rows × 117 columns</p>\n",
              "</div>\n",
              "      <button class=\"colab-df-convert\" onclick=\"convertToInteractive('df-34580292-00c7-48ba-b9db-21d34962f9e7')\"\n",
              "              title=\"Convert this dataframe to an interactive table.\"\n",
              "              style=\"display:none;\">\n",
              "        \n",
              "  <svg xmlns=\"http://www.w3.org/2000/svg\" height=\"24px\"viewBox=\"0 0 24 24\"\n",
              "       width=\"24px\">\n",
              "    <path d=\"M0 0h24v24H0V0z\" fill=\"none\"/>\n",
              "    <path d=\"M18.56 5.44l.94 2.06.94-2.06 2.06-.94-2.06-.94-.94-2.06-.94 2.06-2.06.94zm-11 1L8.5 8.5l.94-2.06 2.06-.94-2.06-.94L8.5 2.5l-.94 2.06-2.06.94zm10 10l.94 2.06.94-2.06 2.06-.94-2.06-.94-.94-2.06-.94 2.06-2.06.94z\"/><path d=\"M17.41 7.96l-1.37-1.37c-.4-.4-.92-.59-1.43-.59-.52 0-1.04.2-1.43.59L10.3 9.45l-7.72 7.72c-.78.78-.78 2.05 0 2.83L4 21.41c.39.39.9.59 1.41.59.51 0 1.02-.2 1.41-.59l7.78-7.78 2.81-2.81c.8-.78.8-2.07 0-2.86zM5.41 20L4 18.59l7.72-7.72 1.47 1.35L5.41 20z\"/>\n",
              "  </svg>\n",
              "      </button>\n",
              "      \n",
              "  <style>\n",
              "    .colab-df-container {\n",
              "      display:flex;\n",
              "      flex-wrap:wrap;\n",
              "      gap: 12px;\n",
              "    }\n",
              "\n",
              "    .colab-df-convert {\n",
              "      background-color: #E8F0FE;\n",
              "      border: none;\n",
              "      border-radius: 50%;\n",
              "      cursor: pointer;\n",
              "      display: none;\n",
              "      fill: #1967D2;\n",
              "      height: 32px;\n",
              "      padding: 0 0 0 0;\n",
              "      width: 32px;\n",
              "    }\n",
              "\n",
              "    .colab-df-convert:hover {\n",
              "      background-color: #E2EBFA;\n",
              "      box-shadow: 0px 1px 2px rgba(60, 64, 67, 0.3), 0px 1px 3px 1px rgba(60, 64, 67, 0.15);\n",
              "      fill: #174EA6;\n",
              "    }\n",
              "\n",
              "    [theme=dark] .colab-df-convert {\n",
              "      background-color: #3B4455;\n",
              "      fill: #D2E3FC;\n",
              "    }\n",
              "\n",
              "    [theme=dark] .colab-df-convert:hover {\n",
              "      background-color: #434B5C;\n",
              "      box-shadow: 0px 1px 3px 1px rgba(0, 0, 0, 0.15);\n",
              "      filter: drop-shadow(0px 1px 2px rgba(0, 0, 0, 0.3));\n",
              "      fill: #FFFFFF;\n",
              "    }\n",
              "  </style>\n",
              "\n",
              "      <script>\n",
              "        const buttonEl =\n",
              "          document.querySelector('#df-34580292-00c7-48ba-b9db-21d34962f9e7 button.colab-df-convert');\n",
              "        buttonEl.style.display =\n",
              "          google.colab.kernel.accessAllowed ? 'block' : 'none';\n",
              "\n",
              "        async function convertToInteractive(key) {\n",
              "          const element = document.querySelector('#df-34580292-00c7-48ba-b9db-21d34962f9e7');\n",
              "          const dataTable =\n",
              "            await google.colab.kernel.invokeFunction('convertToInteractive',\n",
              "                                                     [key], {});\n",
              "          if (!dataTable) return;\n",
              "\n",
              "          const docLinkHtml = 'Like what you see? Visit the ' +\n",
              "            '<a target=\"_blank\" href=https://colab.research.google.com/notebooks/data_table.ipynb>data table notebook</a>'\n",
              "            + ' to learn more about interactive tables.';\n",
              "          element.innerHTML = '';\n",
              "          dataTable['output_type'] = 'display_data';\n",
              "          await google.colab.output.renderOutput(dataTable, element);\n",
              "          const docLink = document.createElement('div');\n",
              "          docLink.innerHTML = docLinkHtml;\n",
              "          element.appendChild(docLink);\n",
              "        }\n",
              "      </script>\n",
              "    </div>\n",
              "  </div>\n",
              "  "
            ]
          },
          "metadata": {},
          "execution_count": 14
        }
      ]
    },
    {
      "cell_type": "markdown",
      "metadata": {
        "id": "ZfAbEIDgz4iY"
      },
      "source": [
        "## **Linear Support Vector Machine Classifier (Binary Classification) **\n",
        "to enable make the svm_enable = 1 in the above cell"
      ]
    },
    {
      "cell_type": "code",
      "execution_count": 15,
      "metadata": {
        "id": "o8GdMBjdzFQT"
      },
      "outputs": [],
      "source": [
        "if svm_enable:\n",
        "  # using kernel as linear \n",
        "  lsvm = SVC(kernel='linear',gamma='auto') \n",
        "  lsvm.fit(X_train,y_train) # training model on training dataset"
      ]
    },
    {
      "cell_type": "code",
      "execution_count": 16,
      "metadata": {
        "id": "NjfYZA_9zTNK",
        "colab": {
          "base_uri": "https://localhost:8080/"
        },
        "outputId": "023488c2-325d-4991-c9d3-faf38262a3c2"
      },
      "outputs": [
        {
          "output_type": "stream",
          "name": "stdout",
          "text": [
            "Saved model to disk\n",
            "Loaded model from disk\n"
          ]
        }
      ],
      "source": [
        "if svm_enable:\n",
        "  pkl_filename = \"/content/drive/MyDrive/Colab_Notebooks/Models/lsvm_binary\"+model_name_suffix+\".pkl\"\n",
        "  if (not path.isfile(pkl_filename)):\n",
        "    # saving the trained model to disk\n",
        "    with open(pkl_filename, 'wb') as file:\n",
        "      pickle.dump(lsvm, file)\n",
        "    print(\"Saved model to disk\")\n",
        "    # loading the trained model from disk\n",
        "    with open(pkl_filename, 'rb') as file:\n",
        "      lsvm = pickle.load(file)\n",
        "    print(\"Loaded model from disk\") "
      ]
    },
    {
      "cell_type": "code",
      "execution_count": 17,
      "metadata": {
        "id": "xsnN51Juzgcf",
        "colab": {
          "base_uri": "https://localhost:8080/"
        },
        "outputId": "9b5bef50-06f2-4c21-eeff-74daf49a2208"
      },
      "outputs": [
        {
          "output_type": "stream",
          "name": "stdout",
          "text": [
            "LSVM-Classifier Binary Set-Accuracy is  99.9676427762498\n"
          ]
        }
      ],
      "source": [
        "if svm_enable:\n",
        "  y_pred = lsvm.predict(X_test) # predicting target attribute on testing dataset\n",
        "  ac = accuracy_score(y_test, y_pred)*100 # calculating accuracy of predicted data\n",
        "  print(\"LSVM-Classifier Binary Set-Accuracy is \", ac)"
      ]
    },
    {
      "cell_type": "code",
      "execution_count": 18,
      "metadata": {
        "id": "qg2gbJTg8NtL"
      },
      "outputs": [],
      "source": [
        "# import matplotlib.pyplot as plt\n",
        "# from sklearn.datasets import make_classification\n",
        "# from sklearn.metrics import confusion_matrix, ConfusionMatrixDisplay\n",
        "# from sklearn.model_selection import train_test_split\n",
        "# from sklearn.svm import SVC\n",
        "# X, y = make_classification(random_state=0)\n",
        "# X_train, X_test, y_train, y_test = train_test_split(X, y,\n",
        "#                                                     random_state=0)\n",
        "# cm = confusion_matrix(y_test, y_pred, labels=lsvm.classes_)\n",
        "# disp = ConfusionMatrixDisplay(confusion_matrix=cm,\n",
        "#                               display_labels=lsvm.classes_)\n",
        "# disp.plot()\n",
        "\n",
        "# plt.show()"
      ]
    },
    {
      "cell_type": "code",
      "execution_count": 19,
      "metadata": {
        "id": "9IydNlzT5kx6",
        "colab": {
          "base_uri": "https://localhost:8080/",
          "height": 587
        },
        "outputId": "192d1b66-c1f9-4769-c94d-8c7f35c3d13f"
      },
      "outputs": [
        {
          "output_type": "display_data",
          "data": {
            "text/plain": [
              "<Figure size 2000x800 with 1 Axes>"
            ],
            "image/png": "[encoded data removed]"
          },
          "metadata": {}
        }
      ],
      "source": [
        "if svm_enable:\n",
        "  plt.figure(figsize=(20,8))\n",
        "  plt.plot(y_pred[300:500], label=\"prediction\", linewidth=2.0,color='blue')\n",
        "  plt.plot(y_test[300:500].values, label=\"real_values\", linewidth=2.0,color='lightcoral')\n",
        "  plt.legend(loc=\"best\")\n",
        "  plt.ylim((-1,2))\n",
        "  plt.title(\"Linear SVM Binary Classification\")\n",
        "  plt.savefig('/content/drive/MyDrive/Colab_Notebooks/Plots/lsvm_real_pred_bin.png')\n",
        "  plt.show()"
      ]
    },
    {
      "cell_type": "code",
      "execution_count": 20,
      "metadata": {
        "id": "s9lqoveaUBvg",
        "colab": {
          "base_uri": "https://localhost:8080/"
        },
        "outputId": "0289c7d6-aab1-41f9-d8cd-121062ac42a2"
      },
      "outputs": [
        {
          "output_type": "stream",
          "name": "stdout",
          "text": [
            "              precision    recall  f1-score   support\n",
            "\n",
            "     class 0       1.00      1.00      1.00      5906\n",
            "     class 1       1.00      0.99      1.00       275\n",
            "\n",
            "    accuracy                           1.00      6181\n",
            "   macro avg       1.00      1.00      1.00      6181\n",
            "weighted avg       1.00      1.00      1.00      6181\n",
            "\n",
            "False Positive Rate -  [1. 0.]\n",
            "False Negative Rate -  [0.         0.00727273]\n",
            "Thresholds -  [0. 1.]\n"
          ]
        }
      ],
      "source": [
        "if svm_enable:\n",
        "  target_names = ['class 0', 'class 1']\n",
        "  print(classification_report(y_test, y_pred, target_names=target_names))\n",
        "  fpr, fnr, thresholds = det_curve(y_test, y_pred)\n",
        "  print(\"False Positive Rate - \", fpr)\n",
        "  print(\"False Negative Rate - \", fnr)\n",
        "  print(\"Thresholds - \", thresholds)"
      ]
    },
    {
      "cell_type": "code",
      "execution_count": 21,
      "metadata": {
        "id": "kWxBZhnw9t5n",
        "colab": {
          "base_uri": "https://localhost:8080/",
          "height": 449
        },
        "outputId": "6069fd28-13ea-423f-9d46-7cc475e30c0d"
      },
      "outputs": [
        {
          "output_type": "display_data",
          "data": {
            "text/plain": [
              "<Figure size 640x480 with 2 Axes>"
            ],
            "image/png": "[encoded data removed]"
          },
          "metadata": {}
        }
      ],
      "source": [
        "if svm_enable:\n",
        "  from sklearn.metrics import confusion_matrix, ConfusionMatrixDisplay\n",
        "\n",
        "  clf = lsvm\n",
        "  cm = confusion_matrix(y_test, y_pred, labels=clf.classes_)\n",
        "  disp = ConfusionMatrixDisplay(confusion_matrix=cm,\n",
        "                                display_labels=clf.classes_)\n",
        "  disp.plot()\n",
        "\n",
        "  plt.show()"
      ]
    },
    {
      "cell_type": "markdown",
      "metadata": {
        "id": "PUjrwY2l0_RI"
      },
      "source": [
        "## **Multi Layer Perceptron Classifier (Binary Classification)**"
      ]
    },
    {
      "cell_type": "code",
      "execution_count": 22,
      "metadata": {
        "id": "u9v5Ylpa1DHY"
      },
      "outputs": [],
      "source": [
        "if model_selection[model_flag]==\"ALL\" or model_selection[model_flag] == \"MLP\":\n",
        "  mlp = Sequential() # creating model\n",
        "\n",
        "  # adding input layer and first layer with 50 neurons\n",
        "  mlp.add(Dense(units=50, input_dim=X_train.shape[1], activation='relu'))\n",
        "  # output layer with sigmoid activation\n",
        "  mlp.add(Dense(units=1,activation='sigmoid'))"
      ]
    },
    {
      "cell_type": "code",
      "execution_count": 23,
      "metadata": {
        "id": "E-9M9d0p1p8s"
      },
      "outputs": [],
      "source": [
        "if model_selection[model_flag]==\"ALL\" or model_selection[model_flag] == \"MLP\":\n",
        "  # defining loss function, optimizer, metrics and then compiling model\n",
        "  mlp.compile(loss='binary_crossentropy', optimizer='adam', metrics=['accuracy'])"
      ]
    },
    {
      "cell_type": "code",
      "execution_count": 24,
      "metadata": {
        "id": "NK-1_akm1vO9",
        "colab": {
          "base_uri": "https://localhost:8080/"
        },
        "outputId": "afdd8ca4-db4d-4d7d-dc35-eda3bd8befa1"
      },
      "outputs": [
        {
          "output_type": "stream",
          "name": "stdout",
          "text": [
            "Model: \"sequential\"\n",
            "_________________________________________________________________\n",
            " Layer (type)                Output Shape              Param #   \n",
            "=================================================================\n",
            " dense (Dense)               (None, 50)                5900      \n",
            "                                                                 \n",
            " dense_1 (Dense)             (None, 1)                 51        \n",
            "                                                                 \n",
            "=================================================================\n",
            "Total params: 5,951\n",
            "Trainable params: 5,951\n",
            "Non-trainable params: 0\n",
            "_________________________________________________________________\n"
          ]
        }
      ],
      "source": [
        "if model_selection[model_flag]==\"ALL\" or model_selection[model_flag] == \"MLP\":\n",
        "  # summary of model layers\n",
        "  mlp.summary()"
      ]
    },
    {
      "cell_type": "code",
      "execution_count": 25,
      "metadata": {
        "id": "UYZ4xCgp13gP",
        "colab": {
          "base_uri": "https://localhost:8080/"
        },
        "outputId": "48bedf89-572d-4853-b000-6256256cbbcb"
      },
      "outputs": [
        {
          "output_type": "stream",
          "name": "stdout",
          "text": [
            "Epoch 1/100\n",
            "3/3 [==============================] - 5s 106ms/step - loss: 0.4803 - accuracy: 0.9594 - val_loss: 0.3427 - val_accuracy: 0.9523\n",
            "Epoch 2/100\n",
            "3/3 [==============================] - 0s 23ms/step - loss: 0.2883 - accuracy: 0.9614 - val_loss: 0.2339 - val_accuracy: 0.9523\n",
            "Epoch 3/100\n",
            "3/3 [==============================] - 0s 19ms/step - loss: 0.1980 - accuracy: 0.9614 - val_loss: 0.1963 - val_accuracy: 0.9523\n",
            "Epoch 4/100\n",
            "3/3 [==============================] - 0s 18ms/step - loss: 0.1677 - accuracy: 0.9614 - val_loss: 0.1922 - val_accuracy: 0.9523\n",
            "Epoch 5/100\n",
            "3/3 [==============================] - 0s 19ms/step - loss: 0.1633 - accuracy: 0.9614 - val_loss: 0.1997 - val_accuracy: 0.9523\n",
            "Epoch 6/100\n",
            "3/3 [==============================] - 0s 20ms/step - loss: 0.1677 - accuracy: 0.9614 - val_loss: 0.2069 - val_accuracy: 0.9523\n",
            "Epoch 7/100\n",
            "3/3 [==============================] - 0s 20ms/step - loss: 0.1714 - accuracy: 0.9614 - val_loss: 0.2100 - val_accuracy: 0.9523\n",
            "Epoch 8/100\n",
            "3/3 [==============================] - 0s 25ms/step - loss: 0.1725 - accuracy: 0.9614 - val_loss: 0.2092 - val_accuracy: 0.9523\n",
            "Epoch 9/100\n",
            "3/3 [==============================] - 0s 19ms/step - loss: 0.1713 - accuracy: 0.9614 - val_loss: 0.2064 - val_accuracy: 0.9523\n",
            "Epoch 10/100\n",
            "3/3 [==============================] - 0s 19ms/step - loss: 0.1693 - accuracy: 0.9614 - val_loss: 0.2029 - val_accuracy: 0.9523\n",
            "Epoch 11/100\n",
            "3/3 [==============================] - 0s 22ms/step - loss: 0.1667 - accuracy: 0.9614 - val_loss: 0.1987 - val_accuracy: 0.9523\n",
            "Epoch 12/100\n",
            "3/3 [==============================] - 0s 19ms/step - loss: 0.1637 - accuracy: 0.9614 - val_loss: 0.1943 - val_accuracy: 0.9523\n",
            "Epoch 13/100\n",
            "3/3 [==============================] - 0s 29ms/step - loss: 0.1609 - accuracy: 0.9614 - val_loss: 0.1904 - val_accuracy: 0.9523\n",
            "Epoch 14/100\n",
            "3/3 [==============================] - 0s 19ms/step - loss: 0.1587 - accuracy: 0.9614 - val_loss: 0.1871 - val_accuracy: 0.9523\n",
            "Epoch 15/100\n",
            "3/3 [==============================] - 0s 19ms/step - loss: 0.1570 - accuracy: 0.9614 - val_loss: 0.1846 - val_accuracy: 0.9523\n",
            "Epoch 16/100\n",
            "3/3 [==============================] - 0s 19ms/step - loss: 0.1561 - accuracy: 0.9614 - val_loss: 0.1828 - val_accuracy: 0.9523\n",
            "Epoch 17/100\n",
            "3/3 [==============================] - 0s 18ms/step - loss: 0.1554 - accuracy: 0.9614 - val_loss: 0.1816 - val_accuracy: 0.9523\n",
            "Epoch 18/100\n",
            "3/3 [==============================] - 0s 19ms/step - loss: 0.1550 - accuracy: 0.9614 - val_loss: 0.1807 - val_accuracy: 0.9523\n",
            "Epoch 19/100\n",
            "3/3 [==============================] - 0s 21ms/step - loss: 0.1545 - accuracy: 0.9614 - val_loss: 0.1799 - val_accuracy: 0.9523\n",
            "Epoch 20/100\n",
            "3/3 [==============================] - 0s 19ms/step - loss: 0.1538 - accuracy: 0.9614 - val_loss: 0.1792 - val_accuracy: 0.9523\n",
            "Epoch 21/100\n",
            "3/3 [==============================] - 0s 19ms/step - loss: 0.1530 - accuracy: 0.9614 - val_loss: 0.1786 - val_accuracy: 0.9523\n",
            "Epoch 22/100\n",
            "3/3 [==============================] - 0s 18ms/step - loss: 0.1522 - accuracy: 0.9614 - val_loss: 0.1781 - val_accuracy: 0.9523\n",
            "Epoch 23/100\n",
            "3/3 [==============================] - 0s 18ms/step - loss: 0.1513 - accuracy: 0.9614 - val_loss: 0.1771 - val_accuracy: 0.9523\n",
            "Epoch 24/100\n",
            "3/3 [==============================] - 0s 18ms/step - loss: 0.1501 - accuracy: 0.9614 - val_loss: 0.1756 - val_accuracy: 0.9523\n",
            "Epoch 25/100\n",
            "3/3 [==============================] - 0s 18ms/step - loss: 0.1492 - accuracy: 0.9614 - val_loss: 0.1743 - val_accuracy: 0.9523\n",
            "Epoch 26/100\n",
            "3/3 [==============================] - 0s 20ms/step - loss: 0.1482 - accuracy: 0.9614 - val_loss: 0.1729 - val_accuracy: 0.9523\n",
            "Epoch 27/100\n",
            "3/3 [==============================] - 0s 23ms/step - loss: 0.1469 - accuracy: 0.9614 - val_loss: 0.1714 - val_accuracy: 0.9523\n",
            "Epoch 28/100\n",
            "3/3 [==============================] - 0s 20ms/step - loss: 0.1454 - accuracy: 0.9614 - val_loss: 0.1707 - val_accuracy: 0.9523\n",
            "Epoch 29/100\n",
            "3/3 [==============================] - 0s 19ms/step - loss: 0.1444 - accuracy: 0.9614 - val_loss: 0.1697 - val_accuracy: 0.9523\n",
            "Epoch 30/100\n",
            "3/3 [==============================] - 0s 18ms/step - loss: 0.1434 - accuracy: 0.9614 - val_loss: 0.1681 - val_accuracy: 0.9523\n",
            "Epoch 31/100\n",
            "3/3 [==============================] - 0s 19ms/step - loss: 0.1422 - accuracy: 0.9614 - val_loss: 0.1662 - val_accuracy: 0.9523\n",
            "Epoch 32/100\n",
            "3/3 [==============================] - 0s 20ms/step - loss: 0.1410 - accuracy: 0.9614 - val_loss: 0.1646 - val_accuracy: 0.9523\n",
            "Epoch 33/100\n",
            "3/3 [==============================] - 0s 22ms/step - loss: 0.1398 - accuracy: 0.9614 - val_loss: 0.1633 - val_accuracy: 0.9523\n",
            "Epoch 34/100\n",
            "3/3 [==============================] - 0s 19ms/step - loss: 0.1388 - accuracy: 0.9614 - val_loss: 0.1617 - val_accuracy: 0.9523\n",
            "Epoch 35/100\n",
            "3/3 [==============================] - 0s 19ms/step - loss: 0.1375 - accuracy: 0.9614 - val_loss: 0.1604 - val_accuracy: 0.9523\n",
            "Epoch 36/100\n",
            "3/3 [==============================] - 0s 18ms/step - loss: 0.1363 - accuracy: 0.9614 - val_loss: 0.1592 - val_accuracy: 0.9523\n",
            "Epoch 37/100\n",
            "3/3 [==============================] - 0s 18ms/step - loss: 0.1350 - accuracy: 0.9614 - val_loss: 0.1578 - val_accuracy: 0.9523\n",
            "Epoch 38/100\n",
            "3/3 [==============================] - 0s 20ms/step - loss: 0.1338 - accuracy: 0.9614 - val_loss: 0.1560 - val_accuracy: 0.9523\n",
            "Epoch 39/100\n",
            "3/3 [==============================] - 0s 19ms/step - loss: 0.1324 - accuracy: 0.9614 - val_loss: 0.1540 - val_accuracy: 0.9523\n",
            "Epoch 40/100\n",
            "3/3 [==============================] - 0s 19ms/step - loss: 0.1310 - accuracy: 0.9614 - val_loss: 0.1524 - val_accuracy: 0.9523\n",
            "Epoch 41/100\n",
            "3/3 [==============================] - 0s 20ms/step - loss: 0.1296 - accuracy: 0.9614 - val_loss: 0.1510 - val_accuracy: 0.9523\n",
            "Epoch 42/100\n",
            "3/3 [==============================] - 0s 18ms/step - loss: 0.1283 - accuracy: 0.9614 - val_loss: 0.1493 - val_accuracy: 0.9523\n",
            "Epoch 43/100\n",
            "3/3 [==============================] - 0s 19ms/step - loss: 0.1269 - accuracy: 0.9614 - val_loss: 0.1477 - val_accuracy: 0.9523\n",
            "Epoch 44/100\n",
            "3/3 [==============================] - 0s 19ms/step - loss: 0.1254 - accuracy: 0.9614 - val_loss: 0.1460 - val_accuracy: 0.9523\n",
            "Epoch 45/100\n",
            "3/3 [==============================] - 0s 19ms/step - loss: 0.1240 - accuracy: 0.9614 - val_loss: 0.1443 - val_accuracy: 0.9523\n",
            "Epoch 46/100\n",
            "3/3 [==============================] - 0s 19ms/step - loss: 0.1225 - accuracy: 0.9614 - val_loss: 0.1424 - val_accuracy: 0.9523\n",
            "Epoch 47/100\n",
            "3/3 [==============================] - 0s 19ms/step - loss: 0.1211 - accuracy: 0.9614 - val_loss: 0.1406 - val_accuracy: 0.9523\n",
            "Epoch 48/100\n",
            "3/3 [==============================] - 0s 19ms/step - loss: 0.1196 - accuracy: 0.9614 - val_loss: 0.1390 - val_accuracy: 0.9523\n",
            "Epoch 49/100\n",
            "3/3 [==============================] - 0s 19ms/step - loss: 0.1181 - accuracy: 0.9614 - val_loss: 0.1371 - val_accuracy: 0.9523\n",
            "Epoch 50/100\n",
            "3/3 [==============================] - 0s 19ms/step - loss: 0.1166 - accuracy: 0.9614 - val_loss: 0.1353 - val_accuracy: 0.9523\n",
            "Epoch 51/100\n",
            "3/3 [==============================] - 0s 20ms/step - loss: 0.1151 - accuracy: 0.9614 - val_loss: 0.1337 - val_accuracy: 0.9523\n",
            "Epoch 52/100\n",
            "3/3 [==============================] - 0s 29ms/step - loss: 0.1135 - accuracy: 0.9614 - val_loss: 0.1317 - val_accuracy: 0.9523\n",
            "Epoch 53/100\n",
            "3/3 [==============================] - 0s 19ms/step - loss: 0.1120 - accuracy: 0.9614 - val_loss: 0.1298 - val_accuracy: 0.9523\n",
            "Epoch 54/100\n",
            "3/3 [==============================] - 0s 18ms/step - loss: 0.1104 - accuracy: 0.9614 - val_loss: 0.1280 - val_accuracy: 0.9523\n",
            "Epoch 55/100\n",
            "3/3 [==============================] - 0s 18ms/step - loss: 0.1089 - accuracy: 0.9614 - val_loss: 0.1263 - val_accuracy: 0.9523\n",
            "Epoch 56/100\n",
            "3/3 [==============================] - 0s 18ms/step - loss: 0.1073 - accuracy: 0.9614 - val_loss: 0.1242 - val_accuracy: 0.9523\n",
            "Epoch 57/100\n",
            "3/3 [==============================] - 0s 19ms/step - loss: 0.1057 - accuracy: 0.9614 - val_loss: 0.1226 - val_accuracy: 0.9523\n",
            "Epoch 58/100\n",
            "3/3 [==============================] - 0s 18ms/step - loss: 0.1041 - accuracy: 0.9614 - val_loss: 0.1208 - val_accuracy: 0.9523\n",
            "Epoch 59/100\n",
            "3/3 [==============================] - 0s 19ms/step - loss: 0.1025 - accuracy: 0.9614 - val_loss: 0.1186 - val_accuracy: 0.9523\n",
            "Epoch 60/100\n",
            "3/3 [==============================] - 0s 18ms/step - loss: 0.1009 - accuracy: 0.9614 - val_loss: 0.1166 - val_accuracy: 0.9523\n",
            "Epoch 61/100\n",
            "3/3 [==============================] - 0s 23ms/step - loss: 0.0993 - accuracy: 0.9614 - val_loss: 0.1151 - val_accuracy: 0.9523\n",
            "Epoch 62/100\n",
            "3/3 [==============================] - 0s 19ms/step - loss: 0.0977 - accuracy: 0.9614 - val_loss: 0.1133 - val_accuracy: 0.9523\n",
            "Epoch 63/100\n",
            "3/3 [==============================] - 0s 18ms/step - loss: 0.0961 - accuracy: 0.9614 - val_loss: 0.1112 - val_accuracy: 0.9523\n",
            "Epoch 64/100\n",
            "3/3 [==============================] - 0s 20ms/step - loss: 0.0944 - accuracy: 0.9614 - val_loss: 0.1092 - val_accuracy: 0.9523\n",
            "Epoch 65/100\n",
            "3/3 [==============================] - 0s 19ms/step - loss: 0.0928 - accuracy: 0.9614 - val_loss: 0.1073 - val_accuracy: 0.9523\n",
            "Epoch 66/100\n",
            "3/3 [==============================] - 0s 18ms/step - loss: 0.0913 - accuracy: 0.9614 - val_loss: 0.1054 - val_accuracy: 0.9523\n",
            "Epoch 67/100\n",
            "3/3 [==============================] - 0s 21ms/step - loss: 0.0896 - accuracy: 0.9614 - val_loss: 0.1037 - val_accuracy: 0.9523\n",
            "Epoch 68/100\n",
            "3/3 [==============================] - 0s 19ms/step - loss: 0.0880 - accuracy: 0.9614 - val_loss: 0.1017 - val_accuracy: 0.9523\n",
            "Epoch 69/100\n",
            "3/3 [==============================] - 0s 23ms/step - loss: 0.0864 - accuracy: 0.9614 - val_loss: 0.0996 - val_accuracy: 0.9523\n",
            "Epoch 70/100\n",
            "3/3 [==============================] - 0s 19ms/step - loss: 0.0848 - accuracy: 0.9614 - val_loss: 0.0981 - val_accuracy: 0.9523\n",
            "Epoch 71/100\n",
            "3/3 [==============================] - 0s 26ms/step - loss: 0.0830 - accuracy: 0.9614 - val_loss: 0.0957 - val_accuracy: 0.9525\n",
            "Epoch 72/100\n",
            "3/3 [==============================] - 0s 18ms/step - loss: 0.0815 - accuracy: 0.9614 - val_loss: 0.0939 - val_accuracy: 0.9525\n",
            "Epoch 73/100\n",
            "3/3 [==============================] - 0s 18ms/step - loss: 0.0798 - accuracy: 0.9614 - val_loss: 0.0926 - val_accuracy: 0.9525\n",
            "Epoch 74/100\n",
            "3/3 [==============================] - 0s 18ms/step - loss: 0.0783 - accuracy: 0.9614 - val_loss: 0.0903 - val_accuracy: 0.9528\n",
            "Epoch 75/100\n",
            "3/3 [==============================] - 0s 18ms/step - loss: 0.0767 - accuracy: 0.9618 - val_loss: 0.0871 - val_accuracy: 0.9547\n",
            "Epoch 76/100\n",
            "3/3 [==============================] - 0s 28ms/step - loss: 0.0734 - accuracy: 0.9634 - val_loss: 0.0834 - val_accuracy: 0.9547\n",
            "Epoch 77/100\n",
            "3/3 [==============================] - 0s 29ms/step - loss: 0.0708 - accuracy: 0.9637 - val_loss: 0.0819 - val_accuracy: 0.9547\n",
            "Epoch 78/100\n",
            "3/3 [==============================] - 0s 27ms/step - loss: 0.0692 - accuracy: 0.9640 - val_loss: 0.0796 - val_accuracy: 0.9566\n",
            "Epoch 79/100\n",
            "3/3 [==============================] - 0s 32ms/step - loss: 0.0675 - accuracy: 0.9660 - val_loss: 0.0774 - val_accuracy: 0.9579\n",
            "Epoch 80/100\n",
            "3/3 [==============================] - 0s 33ms/step - loss: 0.0659 - accuracy: 0.9670 - val_loss: 0.0760 - val_accuracy: 0.9579\n",
            "Epoch 81/100\n",
            "3/3 [==============================] - 0s 27ms/step - loss: 0.0643 - accuracy: 0.9667 - val_loss: 0.0744 - val_accuracy: 0.9579\n",
            "Epoch 82/100\n",
            "3/3 [==============================] - 0s 26ms/step - loss: 0.0627 - accuracy: 0.9674 - val_loss: 0.0721 - val_accuracy: 0.9604\n",
            "Epoch 83/100\n",
            "3/3 [==============================] - 0s 25ms/step - loss: 0.0612 - accuracy: 0.9690 - val_loss: 0.0704 - val_accuracy: 0.9606\n",
            "Epoch 84/100\n",
            "3/3 [==============================] - 0s 25ms/step - loss: 0.0597 - accuracy: 0.9689 - val_loss: 0.0691 - val_accuracy: 0.9609\n",
            "Epoch 85/100\n",
            "3/3 [==============================] - 0s 25ms/step - loss: 0.0582 - accuracy: 0.9705 - val_loss: 0.0669 - val_accuracy: 0.9639\n",
            "Epoch 86/100\n",
            "3/3 [==============================] - 0s 25ms/step - loss: 0.0567 - accuracy: 0.9740 - val_loss: 0.0655 - val_accuracy: 0.9655\n",
            "Epoch 87/100\n",
            "3/3 [==============================] - 0s 28ms/step - loss: 0.0553 - accuracy: 0.9740 - val_loss: 0.0641 - val_accuracy: 0.9674\n",
            "Epoch 88/100\n",
            "3/3 [==============================] - 0s 28ms/step - loss: 0.0540 - accuracy: 0.9760 - val_loss: 0.0622 - val_accuracy: 0.9703\n",
            "Epoch 89/100\n",
            "3/3 [==============================] - 0s 25ms/step - loss: 0.0526 - accuracy: 0.9781 - val_loss: 0.0609 - val_accuracy: 0.9709\n",
            "Epoch 90/100\n",
            "3/3 [==============================] - 0s 26ms/step - loss: 0.0513 - accuracy: 0.9788 - val_loss: 0.0594 - val_accuracy: 0.9733\n",
            "Epoch 91/100\n",
            "3/3 [==============================] - 0s 33ms/step - loss: 0.0500 - accuracy: 0.9808 - val_loss: 0.0579 - val_accuracy: 0.9765\n",
            "Epoch 92/100\n",
            "3/3 [==============================] - 0s 29ms/step - loss: 0.0488 - accuracy: 0.9834 - val_loss: 0.0564 - val_accuracy: 0.9790\n",
            "Epoch 93/100\n",
            "3/3 [==============================] - 0s 33ms/step - loss: 0.0476 - accuracy: 0.9844 - val_loss: 0.0554 - val_accuracy: 0.9782\n",
            "Epoch 94/100\n",
            "3/3 [==============================] - 0s 33ms/step - loss: 0.0465 - accuracy: 0.9855 - val_loss: 0.0539 - val_accuracy: 0.9809\n",
            "Epoch 95/100\n",
            "3/3 [==============================] - 0s 24ms/step - loss: 0.0453 - accuracy: 0.9867 - val_loss: 0.0527 - val_accuracy: 0.9822\n",
            "Epoch 96/100\n",
            "3/3 [==============================] - 0s 33ms/step - loss: 0.0442 - accuracy: 0.9890 - val_loss: 0.0512 - val_accuracy: 0.9844\n",
            "Epoch 97/100\n",
            "3/3 [==============================] - 0s 32ms/step - loss: 0.0428 - accuracy: 0.9892 - val_loss: 0.0497 - val_accuracy: 0.9849\n",
            "Epoch 98/100\n",
            "3/3 [==============================] - 0s 27ms/step - loss: 0.0413 - accuracy: 0.9898 - val_loss: 0.0477 - val_accuracy: 0.9879\n",
            "Epoch 99/100\n",
            "3/3 [==============================] - 0s 28ms/step - loss: 0.0403 - accuracy: 0.9912 - val_loss: 0.0466 - val_accuracy: 0.9884\n",
            "Epoch 100/100\n",
            "3/3 [==============================] - 0s 31ms/step - loss: 0.0392 - accuracy: 0.9912 - val_loss: 0.0457 - val_accuracy: 0.9881\n"
          ]
        }
      ],
      "source": [
        "if model_selection[model_flag]==\"ALL\" or model_selection[model_flag] == \"MLP\":\n",
        "  # training the model on training dataset\n",
        "  history = mlp.fit(X_train, y_train, epochs=100, batch_size=5000,validation_split=0.2)"
      ]
    },
    {
      "cell_type": "code",
      "execution_count": 26,
      "metadata": {
        "id": "_n_gNs3p1_M-",
        "colab": {
          "base_uri": "https://localhost:8080/"
        },
        "outputId": "f573cd7b-47e1-4005-f162-f4de3a152883"
      },
      "outputs": [
        {
          "output_type": "stream",
          "name": "stdout",
          "text": [
            "Saved model to disk\n",
            "Loaded model from disk\n"
          ]
        }
      ],
      "source": [
        "if model_selection[model_flag]==\"ALL\" or model_selection[model_flag] == \"MLP\":\n",
        "  filepath = '/content/drive/MyDrive/Colab_Notebooks/Models/mlp_binary'+model_name_suffix+'.json'\n",
        "  weightspath = '/content/drive/MyDrive/Colab_Notebooks/Weights/mlp_binary'+model_name_suffix+'.h5'\n",
        "  if (not path.isfile(filepath)):\n",
        "    # serialize model to JSON\n",
        "    mlp_json = mlp.to_json()\n",
        "    with open(filepath, \"w\") as json_file:\n",
        "      json_file.write(mlp_json)\n",
        "\n",
        "    # serialize weights to HDF5\n",
        "    mlp.save_weights(weightspath)\n",
        "    print(\"Saved model to disk\")\n",
        "\n",
        "    # load json and create model\n",
        "    json_file = open(filepath, 'r')\n",
        "    loaded_model_json = json_file.read()\n",
        "    json_file.close()\n",
        "    mlp = model_from_json(loaded_model_json)\n",
        "\n",
        "    # load weights into new model\n",
        "    mlp.load_weights(weightspath)\n",
        "    print(\"Loaded model from disk\")"
      ]
    },
    {
      "cell_type": "code",
      "execution_count": 27,
      "metadata": {
        "id": "G99OrVcT2JON"
      },
      "outputs": [],
      "source": [
        "if model_selection[model_flag]==\"ALL\" or model_selection[model_flag] == \"MLP\":\n",
        "  # defining loss function, optimizer, metrics and then compiling model\n",
        "  mlp.compile(loss='binary_crossentropy', optimizer='adam', metrics=['accuracy'])"
      ]
    },
    {
      "cell_type": "code",
      "execution_count": 28,
      "metadata": {
        "id": "AXUA0T2N2OIB",
        "colab": {
          "base_uri": "https://localhost:8080/"
        },
        "outputId": "d77a8f03-e2c0-4b87-922e-f378d1cf73cf"
      },
      "outputs": [
        {
          "output_type": "stream",
          "name": "stdout",
          "text": [
            "194/194 [==============================] - 1s 2ms/step - loss: 6.2232 - accuracy: 0.9555\n",
            "Test results - Loss: 6.223238945007324 - Accuracy: 95.5508828163147\n"
          ]
        }
      ],
      "source": [
        "if model_selection[model_flag]==\"ALL\" or model_selection[model_flag] == \"MLP\":\n",
        "  # predicting target attribute on testing dataset\n",
        "  test_results = mlp.evaluate(X_test, y_test, verbose=1)\n",
        "  print(f'Test results - Loss: {test_results[0]} - Accuracy: {test_results[1]*100}')"
      ]
    },
    {
      "cell_type": "code",
      "execution_count": 29,
      "metadata": {
        "id": "StFTrhE65_-q",
        "colab": {
          "base_uri": "https://localhost:8080/",
          "height": 472
        },
        "outputId": "8421d160-1d99-419c-c9e4-78b9078ee851"
      },
      "outputs": [
        {
          "output_type": "display_data",
          "data": {
            "text/plain": [
              "<Figure size 640x480 with 1 Axes>"
            ],
            "image/png": "[encoded data removed]"
          },
          "metadata": {}
        }
      ],
      "source": [
        "if model_selection[model_flag]==\"ALL\" or model_selection[model_flag] == \"MLP\":  \n",
        "  # Plot of accuracy vs epoch of train and test dataset\n",
        "  plt.plot(history.history['accuracy'])\n",
        "  plt.plot(history.history['val_accuracy'])\n",
        "  plt.title(\"Plot of accuracy vs epoch for train and test dataset\")\n",
        "  plt.ylabel('accuracy')\n",
        "  plt.xlabel('epoch')\n",
        "  plt.legend(['train', 'test'], loc='best')\n",
        "  plt.savefig('/content/drive/MyDrive/Colab_Notebooks/Plots/mlp_binary_accuracy.png')\n",
        "  plt.show()"
      ]
    },
    {
      "cell_type": "code",
      "execution_count": 30,
      "metadata": {
        "id": "rZes4PzY6JUq",
        "colab": {
          "base_uri": "https://localhost:8080/",
          "height": 472
        },
        "outputId": "5ac28aa5-0bcf-4167-c891-bacf20708031"
      },
      "outputs": [
        {
          "output_type": "display_data",
          "data": {
            "text/plain": [
              "<Figure size 640x480 with 1 Axes>"
            ],
            "image/png": "[encoded data removed]"
          },
          "metadata": {}
        }
      ],
      "source": [
        "if model_selection[model_flag]==\"ALL\" or model_selection[model_flag] == \"MLP\":\n",
        "  # Plot of loss vs epoch of train and test dataset\n",
        "  plt.plot(history.history['loss'])\n",
        "  plt.plot(history.history['val_loss'])\n",
        "  plt.title('Plot of loss vs epoch for train and test dataset')\n",
        "  plt.ylabel('loss')\n",
        "  plt.xlabel('epoch')\n",
        "  plt.legend(['train', 'test'], loc='best')\n",
        "  plt.savefig('/content/drive/MyDrive/Colab_Notebooks/Plots/mlp_binary_loss.png')\n",
        "  plt.show()"
      ]
    },
    {
      "cell_type": "code",
      "execution_count": 31,
      "metadata": {
        "id": "mC0nj-on6iRU"
      },
      "outputs": [],
      "source": [
        "if model_selection[model_flag]==\"ALL\" or model_selection[model_flag] == \"MLP\":\n",
        "  # representation of model layers\n",
        "  from keras.utils.vis_utils import plot_model\n",
        "  plot_model(mlp, to_file='/content/drive/MyDrive/Colab_Notebooks/Plots/mlp_binary.png', show_shapes=True,)"
      ]
    },
    {
      "cell_type": "code",
      "execution_count": 32,
      "metadata": {
        "id": "oxHdln0c6Xi_",
        "colab": {
          "base_uri": "https://localhost:8080/"
        },
        "outputId": "979dfb2b-cb98-40f9-e6f2-67aa23fd433f"
      },
      "outputs": [
        {
          "output_type": "stream",
          "name": "stdout",
          "text": [
            "194/194 [==============================] - 0s 1ms/step\n"
          ]
        }
      ],
      "source": [
        "if model_selection[model_flag]==\"ALL\" or model_selection[model_flag] == \"MLP\":\n",
        "  y_pred = mlp.predict(X_test).ravel()\n",
        "  fpr, tpr, thresholds = roc_curve(y_test, y_pred)\n",
        "  auc = auc(fpr, tpr)"
      ]
    },
    {
      "cell_type": "code",
      "execution_count": 33,
      "metadata": {
        "id": "Cr36q9Z-6aRU",
        "colab": {
          "base_uri": "https://localhost:8080/",
          "height": 472
        },
        "outputId": "368788cc-b497-48d1-a17f-3e6d0f84edb3"
      },
      "outputs": [
        {
          "output_type": "display_data",
          "data": {
            "text/plain": [
              "<Figure size 640x480 with 1 Axes>"
            ],
            "image/png": "[encoded data removed]"
          },
          "metadata": {}
        }
      ],
      "source": [
        "if model_selection[model_flag]==\"ALL\" or model_selection[model_flag] == \"MLP\":\n",
        "  plt.plot([0, 1], [0, 1], 'k--')\n",
        "  plt.plot(fpr, tpr, label='Keras (area = {:.3f})'.format(auc))\n",
        "  plt.xlabel('False positive rate')\n",
        "  plt.ylabel('True positive rate')\n",
        "  plt.title('ROC curve')\n",
        "  plt.legend(loc='best')\n",
        "  plt.savefig('/content/drive/MyDrive/Colab_Notebooks/Plots/mlp_binary_roc.png')\n",
        "  plt.show()"
      ]
    },
    {
      "cell_type": "code",
      "execution_count": 34,
      "metadata": {
        "id": "U9f2bWPwFljk"
      },
      "outputs": [],
      "source": [
        "# real_data_kdd = bin_data.copy()\n",
        "\n",
        "# # Names of the columns that are discrete\n",
        "# cat_cols = real_data_kdd.select_dtypes(['object']).columns\n",
        "# # cat_cols\n",
        "# test_data = real_data_kdd.iloc[:999]\n",
        "\n",
        "# corr= test_data.corr()\n",
        "# corr_y = abs(corr['label'])\n",
        "# highest_corr = corr_y\n",
        "# highest_corr.sort_values(ascending=True)"
      ]
    },
    {
      "cell_type": "code",
      "execution_count": 35,
      "metadata": {
        "id": "8-clVdUoUPa-",
        "colab": {
          "base_uri": "https://localhost:8080/"
        },
        "outputId": "8bfdd0cf-ca05-403e-9ba8-02f5a2b2ce2d"
      },
      "outputs": [
        {
          "output_type": "stream",
          "name": "stdout",
          "text": [
            "194/194 [==============================] - 0s 1ms/step\n"
          ]
        }
      ],
      "source": [
        "if model_selection[model_flag]==\"ALL\" or model_selection[model_flag] == \"MLP\":\n",
        "  y_classes = (mlp.predict(X_test)>0.5).astype('int32')"
      ]
    },
    {
      "cell_type": "code",
      "execution_count": 36,
      "metadata": {
        "id": "0jcFqEqFT-uq",
        "colab": {
          "base_uri": "https://localhost:8080/"
        },
        "outputId": "1b6b0120-6840-4f42-ce08-1113a95dccb7"
      },
      "outputs": [
        {
          "output_type": "stream",
          "name": "stdout",
          "text": [
            "Recall Score -  0.0\n",
            "F1 Score -  0.0\n",
            "Precision Score -  0.0\n",
            "False Positive Rate -  [1.]\n",
            "False Negative Rate -  [0.]\n",
            "Thresholds -  [0]\n"
          ]
        },
        {
          "output_type": "stream",
          "name": "stderr",
          "text": [
            "/usr/local/lib/python3.9/dist-packages/sklearn/metrics/_classification.py:1344: UndefinedMetricWarning: Precision is ill-defined and being set to 0.0 due to no predicted samples. Use `zero_division` parameter to control this behavior.\n",
            "  _warn_prf(average, modifier, msg_start, len(result))\n"
          ]
        }
      ],
      "source": [
        "if model_selection[model_flag]==\"ALL\" or model_selection[model_flag] == \"MLP\":\n",
        "  print(\"Recall Score - \",recall_score(y_test,y_classes))\n",
        "  print(\"F1 Score - \",f1_score(y_test,y_classes))\n",
        "  print(\"Precision Score - \",precision_score(y_test,y_classes))\n",
        "  fpr, fnr, thresholds = det_curve(y_test, y_classes)\n",
        "  print(\"False Positive Rate - \", fpr)\n",
        "  print(\"False Negative Rate - \", fnr)\n",
        "  print(\"Thresholds - \", thresholds)"
      ]
    },
    {
      "cell_type": "code",
      "source": [
        "print(classification_report(y_test, y_classes, target_names=['0', '1']))\n",
        "cm = confusion_matrix(y_test, y_classes)\n",
        "disp = ConfusionMatrixDisplay(confusion_matrix=cm,\n",
        "                              display_labels=['0', '1'])\n",
        "disp.plot()\n",
        "\n",
        "plt.show()"
      ],
      "metadata": {
        "id": "3HJB6IXJsxjg",
        "colab": {
          "base_uri": "https://localhost:8080/",
          "height": 737
        },
        "outputId": "858728fb-b55d-4b7b-c898-4db39e1aa666"
      },
      "execution_count": 37,
      "outputs": [
        {
          "output_type": "stream",
          "name": "stdout",
          "text": [
            "              precision    recall  f1-score   support\n",
            "\n",
            "           0       0.96      1.00      0.98      5906\n",
            "           1       0.00      0.00      0.00       275\n",
            "\n",
            "    accuracy                           0.96      6181\n",
            "   macro avg       0.48      0.50      0.49      6181\n",
            "weighted avg       0.91      0.96      0.93      6181\n",
            "\n"
          ]
        },
        {
          "output_type": "stream",
          "name": "stderr",
          "text": [
            "/usr/local/lib/python3.9/dist-packages/sklearn/metrics/_classification.py:1344: UndefinedMetricWarning: Precision and F-score are ill-defined and being set to 0.0 in labels with no predicted samples. Use `zero_division` parameter to control this behavior.\n",
            "  _warn_prf(average, modifier, msg_start, len(result))\n",
            "/usr/local/lib/python3.9/dist-packages/sklearn/metrics/_classification.py:1344: UndefinedMetricWarning: Precision and F-score are ill-defined and being set to 0.0 in labels with no predicted samples. Use `zero_division` parameter to control this behavior.\n",
            "  _warn_prf(average, modifier, msg_start, len(result))\n",
            "/usr/local/lib/python3.9/dist-packages/sklearn/metrics/_classification.py:1344: UndefinedMetricWarning: Precision and F-score are ill-defined and being set to 0.0 in labels with no predicted samples. Use `zero_division` parameter to control this behavior.\n",
            "  _warn_prf(average, modifier, msg_start, len(result))\n"
          ]
        },
        {
          "output_type": "display_data",
          "data": {
            "text/plain": [
              "<Figure size 640x480 with 2 Axes>"
            ],
            "image/png": "[encoded data removed]"
          },
          "metadata": {}
        }
      ]
    },
    {
      "cell_type": "markdown",
      "source": [
        "# **Correlation** Matrix of Features"
      ],
      "metadata": {
        "id": "j7BKdCwqs2RE"
      }
    },
    {
      "cell_type": "code",
      "execution_count": 38,
      "metadata": {
        "id": "TL8zt-tHLt90",
        "colab": {
          "base_uri": "https://localhost:8080/"
        },
        "outputId": "a3711149-3fc8-453f-df7d-35410cd7db0b"
      },
      "outputs": [
        {
          "output_type": "execute_result",
          "data": {
            "text/plain": [
              "Unnamed: 0    0.307737\n",
              "label         1.000000\n",
              "Name: label, dtype: float64"
            ]
          },
          "metadata": {},
          "execution_count": 38
        }
      ],
      "source": [
        "corr= bin_data.corr()\n",
        "corr_y = abs(corr['label'])\n",
        "highest_corr = corr_y[corr_y >0.3]\n",
        "highest_corr.sort_values(ascending=True)"
      ]
    },
    {
      "cell_type": "code",
      "source": [
        "plt.matshow(corr)\n",
        "plt.show()"
      ],
      "metadata": {
        "colab": {
          "base_uri": "https://localhost:8080/",
          "height": 437
        },
        "id": "q4b094WVtQQ7",
        "outputId": "df725054-1249-4845-86ce-828666d8ac35"
      },
      "execution_count": 39,
      "outputs": [
        {
          "output_type": "display_data",
          "data": {
            "text/plain": [
              "<Figure size 480x480 with 1 Axes>"
            ],
            "image/png": "[encoded data removed]"
          },
          "metadata": {}
        }
      ]
    },
    {
      "cell_type": "markdown",
      "metadata": {
        "id": "ZHhtNjFLPj6Y"
      },
      "source": [
        "## **LSTM Classifier**"
      ]
    },
    {
      "cell_type": "code",
      "execution_count": 40,
      "metadata": {
        "id": "DTNPkQMNL5Eh",
        "colab": {
          "base_uri": "https://localhost:8080/"
        },
        "outputId": "4dc3b01e-d85a-4388-9e1b-3732ca074516"
      },
      "outputs": [
        {
          "output_type": "execute_result",
          "data": {
            "text/plain": [
              "(18543, 117)"
            ]
          },
          "metadata": {},
          "execution_count": 40
        }
      ],
      "source": [
        "X_train = np.array(X_train)\n",
        "X_test = np.array(X_test)\n",
        "# y_train.shape   #(18896,)\n",
        "X_train.shape"
      ]
    },
    {
      "cell_type": "code",
      "execution_count": 41,
      "metadata": {
        "id": "9n-QlBDXPMl4",
        "colab": {
          "base_uri": "https://localhost:8080/"
        },
        "outputId": "03b0799a-a8f4-4b70-ecca-f1f6347f7677"
      },
      "outputs": [
        {
          "output_type": "execute_result",
          "data": {
            "text/plain": [
              "numpy.ndarray"
            ]
          },
          "metadata": {},
          "execution_count": 41
        }
      ],
      "source": [
        "y_train = np.array(y_train)\n",
        "type(y_train)"
      ]
    },
    {
      "cell_type": "code",
      "execution_count": 42,
      "metadata": {
        "id": "-8Ro_ZRQPdZz",
        "colab": {
          "base_uri": "https://localhost:8080/"
        },
        "outputId": "4b827b19-aaf7-47ad-a2ae-bb8c63f5aba2"
      },
      "outputs": [
        {
          "output_type": "execute_result",
          "data": {
            "text/plain": [
              "(18543, 1, 117)"
            ]
          },
          "metadata": {},
          "execution_count": 42
        }
      ],
      "source": [
        "x_train = np.reshape(X_train, (X_train.shape[0],1,X_train.shape[1]))\n",
        "x_train.shape"
      ]
    },
    {
      "cell_type": "code",
      "source": [
        "x_train.shape[2]"
      ],
      "metadata": {
        "colab": {
          "base_uri": "https://localhost:8080/"
        },
        "id": "EuvuETcGpkje",
        "outputId": "0e000aaa-c052-4239-8266-ff7407b19788"
      },
      "execution_count": 43,
      "outputs": [
        {
          "output_type": "execute_result",
          "data": {
            "text/plain": [
              "117"
            ]
          },
          "metadata": {},
          "execution_count": 43
        }
      ]
    },
    {
      "cell_type": "code",
      "execution_count": 44,
      "metadata": {
        "id": "pLIl946zQQwG",
        "colab": {
          "base_uri": "https://localhost:8080/"
        },
        "outputId": "ee322b3e-4c3e-4c76-ce1e-5167c950ce5d"
      },
      "outputs": [
        {
          "output_type": "execute_result",
          "data": {
            "text/plain": [
              "(6181, 1, 117)"
            ]
          },
          "metadata": {},
          "execution_count": 44
        }
      ],
      "source": [
        "x_test = np.reshape(X_test, (X_test.shape[0],1,X_test.shape[1]))\n",
        "x_test.shape"
      ]
    },
    {
      "cell_type": "code",
      "execution_count": 45,
      "metadata": {
        "id": "jWsrkPEmQcY7"
      },
      "outputs": [],
      "source": [
        "if model_selection[model_flag]==\"ALL\" or model_selection[model_flag] == \"LSTM\":\n",
        "  lst = Sequential()\n",
        "  # input layer and LSTM layer with 50 neurons\n",
        "  input_features = x_train.shape[2]\n",
        "  lst.add(LSTM(50,input_dim=input_features))\n",
        "\n",
        "  # outpute layer with sigmoid activation\n",
        "  lst.add(Dense(1,activation='sigmoid'))"
      ]
    },
    {
      "cell_type": "code",
      "execution_count": 46,
      "metadata": {
        "id": "UEmba1H9Q_qj"
      },
      "outputs": [],
      "source": [
        "if model_selection[model_flag]==\"ALL\" or model_selection[model_flag] == \"LSTM\":\n",
        "  # defining loss function, optimizer, metrics and then compiling model\n",
        "  lst.compile(loss='binary_crossentropy',optimizer='adam',metrics=['accuracy'])"
      ]
    },
    {
      "cell_type": "code",
      "execution_count": 47,
      "metadata": {
        "id": "anR58jV2RCtz",
        "colab": {
          "base_uri": "https://localhost:8080/"
        },
        "outputId": "69264c30-9a46-479c-b37e-e5ad36769606"
      },
      "outputs": [
        {
          "output_type": "stream",
          "name": "stdout",
          "text": [
            "Model: \"sequential_1\"\n",
            "_________________________________________________________________\n",
            " Layer (type)                Output Shape              Param #   \n",
            "=================================================================\n",
            " lstm (LSTM)                 (None, 50)                33600     \n",
            "                                                                 \n",
            " dense_2 (Dense)             (None, 1)                 51        \n",
            "                                                                 \n",
            "=================================================================\n",
            "Total params: 33,651\n",
            "Trainable params: 33,651\n",
            "Non-trainable params: 0\n",
            "_________________________________________________________________\n"
          ]
        }
      ],
      "source": [
        "if model_selection[model_flag]==\"ALL\" or model_selection[model_flag] == \"LSTM\":\n",
        "  # summary of model layers\n",
        "  lst.summary()"
      ]
    },
    {
      "cell_type": "code",
      "execution_count": 48,
      "metadata": {
        "id": "_Pa4Qi12RJS_",
        "colab": {
          "base_uri": "https://localhost:8080/"
        },
        "outputId": "b248c02e-d237-4e18-a037-46895d6df8c7"
      },
      "outputs": [
        {
          "output_type": "stream",
          "name": "stdout",
          "text": [
            "Epoch 1/100\n",
            "3/3 [==============================] - 3s 248ms/step - loss: 0.6125 - accuracy: 0.8712 - val_loss: 0.4890 - val_accuracy: 0.9523\n",
            "Epoch 2/100\n",
            "3/3 [==============================] - 0s 20ms/step - loss: 0.4346 - accuracy: 0.9614 - val_loss: 0.3560 - val_accuracy: 0.9523\n",
            "Epoch 3/100\n",
            "3/3 [==============================] - 0s 22ms/step - loss: 0.3148 - accuracy: 0.9614 - val_loss: 0.2742 - val_accuracy: 0.9523\n",
            "Epoch 4/100\n",
            "3/3 [==============================] - 0s 19ms/step - loss: 0.2418 - accuracy: 0.9614 - val_loss: 0.2286 - val_accuracy: 0.9523\n",
            "Epoch 5/100\n",
            "3/3 [==============================] - 0s 18ms/step - loss: 0.2009 - accuracy: 0.9614 - val_loss: 0.2057 - val_accuracy: 0.9523\n",
            "Epoch 6/100\n",
            "3/3 [==============================] - 0s 19ms/step - loss: 0.1797 - accuracy: 0.9614 - val_loss: 0.1958 - val_accuracy: 0.9523\n",
            "Epoch 7/100\n",
            "3/3 [==============================] - 0s 18ms/step - loss: 0.1697 - accuracy: 0.9614 - val_loss: 0.1926 - val_accuracy: 0.9523\n",
            "Epoch 8/100\n",
            "3/3 [==============================] - 0s 18ms/step - loss: 0.1653 - accuracy: 0.9614 - val_loss: 0.1926 - val_accuracy: 0.9523\n",
            "Epoch 9/100\n",
            "3/3 [==============================] - 0s 18ms/step - loss: 0.1639 - accuracy: 0.9614 - val_loss: 0.1937 - val_accuracy: 0.9523\n",
            "Epoch 10/100\n",
            "3/3 [==============================] - 0s 18ms/step - loss: 0.1640 - accuracy: 0.9614 - val_loss: 0.1950 - val_accuracy: 0.9523\n",
            "Epoch 11/100\n",
            "3/3 [==============================] - 0s 23ms/step - loss: 0.1641 - accuracy: 0.9614 - val_loss: 0.1959 - val_accuracy: 0.9523\n",
            "Epoch 12/100\n",
            "3/3 [==============================] - 0s 19ms/step - loss: 0.1644 - accuracy: 0.9614 - val_loss: 0.1964 - val_accuracy: 0.9523\n",
            "Epoch 13/100\n",
            "3/3 [==============================] - 0s 18ms/step - loss: 0.1645 - accuracy: 0.9614 - val_loss: 0.1964 - val_accuracy: 0.9523\n",
            "Epoch 14/100\n",
            "3/3 [==============================] - 0s 19ms/step - loss: 0.1643 - accuracy: 0.9614 - val_loss: 0.1960 - val_accuracy: 0.9523\n",
            "Epoch 15/100\n",
            "3/3 [==============================] - 0s 19ms/step - loss: 0.1639 - accuracy: 0.9614 - val_loss: 0.1953 - val_accuracy: 0.9523\n",
            "Epoch 16/100\n",
            "3/3 [==============================] - 0s 19ms/step - loss: 0.1634 - accuracy: 0.9614 - val_loss: 0.1943 - val_accuracy: 0.9523\n",
            "Epoch 17/100\n",
            "3/3 [==============================] - 0s 19ms/step - loss: 0.1628 - accuracy: 0.9614 - val_loss: 0.1933 - val_accuracy: 0.9523\n",
            "Epoch 18/100\n",
            "3/3 [==============================] - 0s 18ms/step - loss: 0.1622 - accuracy: 0.9614 - val_loss: 0.1923 - val_accuracy: 0.9523\n",
            "Epoch 19/100\n",
            "3/3 [==============================] - 0s 19ms/step - loss: 0.1616 - accuracy: 0.9614 - val_loss: 0.1913 - val_accuracy: 0.9523\n",
            "Epoch 20/100\n",
            "3/3 [==============================] - 0s 19ms/step - loss: 0.1611 - accuracy: 0.9614 - val_loss: 0.1904 - val_accuracy: 0.9523\n",
            "Epoch 21/100\n",
            "3/3 [==============================] - 0s 18ms/step - loss: 0.1606 - accuracy: 0.9614 - val_loss: 0.1895 - val_accuracy: 0.9523\n",
            "Epoch 22/100\n",
            "3/3 [==============================] - 0s 22ms/step - loss: 0.1602 - accuracy: 0.9614 - val_loss: 0.1887 - val_accuracy: 0.9523\n",
            "Epoch 23/100\n",
            "3/3 [==============================] - 0s 19ms/step - loss: 0.1598 - accuracy: 0.9614 - val_loss: 0.1880 - val_accuracy: 0.9523\n",
            "Epoch 24/100\n",
            "3/3 [==============================] - 0s 32ms/step - loss: 0.1594 - accuracy: 0.9614 - val_loss: 0.1874 - val_accuracy: 0.9523\n",
            "Epoch 25/100\n",
            "3/3 [==============================] - 0s 32ms/step - loss: 0.1591 - accuracy: 0.9614 - val_loss: 0.1868 - val_accuracy: 0.9523\n",
            "Epoch 26/100\n",
            "3/3 [==============================] - 0s 27ms/step - loss: 0.1587 - accuracy: 0.9614 - val_loss: 0.1862 - val_accuracy: 0.9523\n",
            "Epoch 27/100\n",
            "3/3 [==============================] - 0s 31ms/step - loss: 0.1583 - accuracy: 0.9614 - val_loss: 0.1856 - val_accuracy: 0.9523\n",
            "Epoch 28/100\n",
            "3/3 [==============================] - 0s 25ms/step - loss: 0.1579 - accuracy: 0.9614 - val_loss: 0.1851 - val_accuracy: 0.9523\n",
            "Epoch 29/100\n",
            "3/3 [==============================] - 0s 35ms/step - loss: 0.1574 - accuracy: 0.9614 - val_loss: 0.1845 - val_accuracy: 0.9523\n",
            "Epoch 30/100\n",
            "3/3 [==============================] - 0s 32ms/step - loss: 0.1569 - accuracy: 0.9614 - val_loss: 0.1839 - val_accuracy: 0.9523\n",
            "Epoch 31/100\n",
            "3/3 [==============================] - 0s 26ms/step - loss: 0.1564 - accuracy: 0.9614 - val_loss: 0.1832 - val_accuracy: 0.9523\n",
            "Epoch 32/100\n",
            "3/3 [==============================] - 0s 34ms/step - loss: 0.1558 - accuracy: 0.9614 - val_loss: 0.1825 - val_accuracy: 0.9523\n",
            "Epoch 33/100\n",
            "3/3 [==============================] - 0s 32ms/step - loss: 0.1552 - accuracy: 0.9614 - val_loss: 0.1817 - val_accuracy: 0.9523\n",
            "Epoch 34/100\n",
            "3/3 [==============================] - 0s 26ms/step - loss: 0.1545 - accuracy: 0.9614 - val_loss: 0.1809 - val_accuracy: 0.9523\n",
            "Epoch 35/100\n",
            "3/3 [==============================] - 0s 32ms/step - loss: 0.1538 - accuracy: 0.9614 - val_loss: 0.1801 - val_accuracy: 0.9523\n",
            "Epoch 36/100\n",
            "3/3 [==============================] - 0s 30ms/step - loss: 0.1532 - accuracy: 0.9614 - val_loss: 0.1792 - val_accuracy: 0.9523\n",
            "Epoch 37/100\n",
            "3/3 [==============================] - 0s 36ms/step - loss: 0.1525 - accuracy: 0.9614 - val_loss: 0.1784 - val_accuracy: 0.9523\n",
            "Epoch 38/100\n",
            "3/3 [==============================] - 0s 32ms/step - loss: 0.1517 - accuracy: 0.9614 - val_loss: 0.1775 - val_accuracy: 0.9523\n",
            "Epoch 39/100\n",
            "3/3 [==============================] - 0s 26ms/step - loss: 0.1510 - accuracy: 0.9614 - val_loss: 0.1767 - val_accuracy: 0.9523\n",
            "Epoch 40/100\n",
            "3/3 [==============================] - 0s 25ms/step - loss: 0.1502 - accuracy: 0.9614 - val_loss: 0.1758 - val_accuracy: 0.9523\n",
            "Epoch 41/100\n",
            "3/3 [==============================] - 0s 24ms/step - loss: 0.1494 - accuracy: 0.9614 - val_loss: 0.1749 - val_accuracy: 0.9523\n",
            "Epoch 42/100\n",
            "3/3 [==============================] - 0s 36ms/step - loss: 0.1486 - accuracy: 0.9614 - val_loss: 0.1740 - val_accuracy: 0.9523\n",
            "Epoch 43/100\n",
            "3/3 [==============================] - 0s 25ms/step - loss: 0.1477 - accuracy: 0.9614 - val_loss: 0.1729 - val_accuracy: 0.9523\n",
            "Epoch 44/100\n",
            "3/3 [==============================] - 0s 32ms/step - loss: 0.1468 - accuracy: 0.9614 - val_loss: 0.1718 - val_accuracy: 0.9523\n",
            "Epoch 45/100\n",
            "3/3 [==============================] - 0s 30ms/step - loss: 0.1458 - accuracy: 0.9614 - val_loss: 0.1706 - val_accuracy: 0.9523\n",
            "Epoch 46/100\n",
            "3/3 [==============================] - 0s 32ms/step - loss: 0.1448 - accuracy: 0.9614 - val_loss: 0.1694 - val_accuracy: 0.9523\n",
            "Epoch 47/100\n",
            "3/3 [==============================] - 0s 33ms/step - loss: 0.1438 - accuracy: 0.9614 - val_loss: 0.1680 - val_accuracy: 0.9523\n",
            "Epoch 48/100\n",
            "3/3 [==============================] - 0s 32ms/step - loss: 0.1427 - accuracy: 0.9614 - val_loss: 0.1666 - val_accuracy: 0.9523\n",
            "Epoch 49/100\n",
            "3/3 [==============================] - 0s 33ms/step - loss: 0.1416 - accuracy: 0.9614 - val_loss: 0.1650 - val_accuracy: 0.9523\n",
            "Epoch 50/100\n",
            "3/3 [==============================] - 0s 30ms/step - loss: 0.1402 - accuracy: 0.9614 - val_loss: 0.1634 - val_accuracy: 0.9523\n",
            "Epoch 51/100\n",
            "3/3 [==============================] - 0s 33ms/step - loss: 0.1389 - accuracy: 0.9614 - val_loss: 0.1616 - val_accuracy: 0.9523\n",
            "Epoch 52/100\n",
            "3/3 [==============================] - 0s 33ms/step - loss: 0.1374 - accuracy: 0.9614 - val_loss: 0.1597 - val_accuracy: 0.9523\n",
            "Epoch 53/100\n",
            "3/3 [==============================] - 0s 27ms/step - loss: 0.1358 - accuracy: 0.9614 - val_loss: 0.1575 - val_accuracy: 0.9523\n",
            "Epoch 54/100\n",
            "3/3 [==============================] - 0s 25ms/step - loss: 0.1342 - accuracy: 0.9614 - val_loss: 0.1553 - val_accuracy: 0.9523\n",
            "Epoch 55/100\n",
            "3/3 [==============================] - 0s 27ms/step - loss: 0.1324 - accuracy: 0.9614 - val_loss: 0.1531 - val_accuracy: 0.9523\n",
            "Epoch 56/100\n",
            "3/3 [==============================] - 0s 25ms/step - loss: 0.1306 - accuracy: 0.9614 - val_loss: 0.1507 - val_accuracy: 0.9523\n",
            "Epoch 57/100\n",
            "3/3 [==============================] - 0s 23ms/step - loss: 0.1286 - accuracy: 0.9614 - val_loss: 0.1484 - val_accuracy: 0.9523\n",
            "Epoch 58/100\n",
            "3/3 [==============================] - 0s 32ms/step - loss: 0.1266 - accuracy: 0.9614 - val_loss: 0.1458 - val_accuracy: 0.9523\n",
            "Epoch 59/100\n",
            "3/3 [==============================] - 0s 25ms/step - loss: 0.1245 - accuracy: 0.9615 - val_loss: 0.1433 - val_accuracy: 0.9523\n",
            "Epoch 60/100\n",
            "3/3 [==============================] - 0s 24ms/step - loss: 0.1224 - accuracy: 0.9615 - val_loss: 0.1409 - val_accuracy: 0.9523\n",
            "Epoch 61/100\n",
            "3/3 [==============================] - 0s 31ms/step - loss: 0.1202 - accuracy: 0.9615 - val_loss: 0.1383 - val_accuracy: 0.9523\n",
            "Epoch 62/100\n",
            "3/3 [==============================] - 0s 26ms/step - loss: 0.1178 - accuracy: 0.9615 - val_loss: 0.1354 - val_accuracy: 0.9523\n",
            "Epoch 63/100\n",
            "3/3 [==============================] - 0s 26ms/step - loss: 0.1154 - accuracy: 0.9615 - val_loss: 0.1325 - val_accuracy: 0.9523\n",
            "Epoch 64/100\n",
            "3/3 [==============================] - 0s 28ms/step - loss: 0.1130 - accuracy: 0.9615 - val_loss: 0.1296 - val_accuracy: 0.9523\n",
            "Epoch 65/100\n",
            "3/3 [==============================] - 0s 30ms/step - loss: 0.1105 - accuracy: 0.9615 - val_loss: 0.1267 - val_accuracy: 0.9523\n",
            "Epoch 66/100\n",
            "3/3 [==============================] - 0s 31ms/step - loss: 0.1080 - accuracy: 0.9615 - val_loss: 0.1237 - val_accuracy: 0.9523\n",
            "Epoch 67/100\n",
            "3/3 [==============================] - 0s 33ms/step - loss: 0.1055 - accuracy: 0.9615 - val_loss: 0.1207 - val_accuracy: 0.9523\n",
            "Epoch 68/100\n",
            "3/3 [==============================] - 0s 26ms/step - loss: 0.1030 - accuracy: 0.9615 - val_loss: 0.1178 - val_accuracy: 0.9523\n",
            "Epoch 69/100\n",
            "3/3 [==============================] - 0s 26ms/step - loss: 0.1005 - accuracy: 0.9615 - val_loss: 0.1147 - val_accuracy: 0.9523\n",
            "Epoch 70/100\n",
            "3/3 [==============================] - 0s 26ms/step - loss: 0.0980 - accuracy: 0.9615 - val_loss: 0.1118 - val_accuracy: 0.9523\n",
            "Epoch 71/100\n",
            "3/3 [==============================] - 0s 34ms/step - loss: 0.0954 - accuracy: 0.9615 - val_loss: 0.1088 - val_accuracy: 0.9523\n",
            "Epoch 72/100\n",
            "3/3 [==============================] - 0s 27ms/step - loss: 0.0929 - accuracy: 0.9615 - val_loss: 0.1060 - val_accuracy: 0.9523\n",
            "Epoch 73/100\n",
            "3/3 [==============================] - 0s 19ms/step - loss: 0.0903 - accuracy: 0.9615 - val_loss: 0.1028 - val_accuracy: 0.9523\n",
            "Epoch 74/100\n",
            "3/3 [==============================] - 0s 18ms/step - loss: 0.0879 - accuracy: 0.9615 - val_loss: 0.0998 - val_accuracy: 0.9523\n",
            "Epoch 75/100\n",
            "3/3 [==============================] - 0s 19ms/step - loss: 0.0854 - accuracy: 0.9615 - val_loss: 0.0972 - val_accuracy: 0.9523\n",
            "Epoch 76/100\n",
            "3/3 [==============================] - 0s 18ms/step - loss: 0.0829 - accuracy: 0.9616 - val_loss: 0.0941 - val_accuracy: 0.9523\n",
            "Epoch 77/100\n",
            "3/3 [==============================] - 0s 18ms/step - loss: 0.0805 - accuracy: 0.9616 - val_loss: 0.0913 - val_accuracy: 0.9525\n",
            "Epoch 78/100\n",
            "3/3 [==============================] - 0s 20ms/step - loss: 0.0781 - accuracy: 0.9616 - val_loss: 0.0887 - val_accuracy: 0.9525\n",
            "Epoch 79/100\n",
            "3/3 [==============================] - 0s 18ms/step - loss: 0.0757 - accuracy: 0.9616 - val_loss: 0.0858 - val_accuracy: 0.9525\n",
            "Epoch 80/100\n",
            "3/3 [==============================] - 0s 19ms/step - loss: 0.0734 - accuracy: 0.9616 - val_loss: 0.0831 - val_accuracy: 0.9525\n",
            "Epoch 81/100\n",
            "3/3 [==============================] - 0s 28ms/step - loss: 0.0712 - accuracy: 0.9616 - val_loss: 0.0807 - val_accuracy: 0.9525\n",
            "Epoch 82/100\n",
            "3/3 [==============================] - 0s 20ms/step - loss: 0.0689 - accuracy: 0.9616 - val_loss: 0.0780 - val_accuracy: 0.9525\n",
            "Epoch 83/100\n",
            "3/3 [==============================] - 0s 27ms/step - loss: 0.0667 - accuracy: 0.9617 - val_loss: 0.0755 - val_accuracy: 0.9525\n",
            "Epoch 84/100\n",
            "3/3 [==============================] - 0s 19ms/step - loss: 0.0646 - accuracy: 0.9617 - val_loss: 0.0730 - val_accuracy: 0.9525\n",
            "Epoch 85/100\n",
            "3/3 [==============================] - 0s 19ms/step - loss: 0.0625 - accuracy: 0.9618 - val_loss: 0.0705 - val_accuracy: 0.9531\n",
            "Epoch 86/100\n",
            "3/3 [==============================] - 0s 18ms/step - loss: 0.0604 - accuracy: 0.9618 - val_loss: 0.0682 - val_accuracy: 0.9539\n",
            "Epoch 87/100\n",
            "3/3 [==============================] - 0s 19ms/step - loss: 0.0583 - accuracy: 0.9627 - val_loss: 0.0658 - val_accuracy: 0.9555\n",
            "Epoch 88/100\n",
            "3/3 [==============================] - 0s 18ms/step - loss: 0.0564 - accuracy: 0.9658 - val_loss: 0.0632 - val_accuracy: 0.9593\n",
            "Epoch 89/100\n",
            "3/3 [==============================] - 0s 18ms/step - loss: 0.0542 - accuracy: 0.9687 - val_loss: 0.0611 - val_accuracy: 0.9606\n",
            "Epoch 90/100\n",
            "3/3 [==============================] - 0s 19ms/step - loss: 0.0522 - accuracy: 0.9700 - val_loss: 0.0585 - val_accuracy: 0.9674\n",
            "Epoch 91/100\n",
            "3/3 [==============================] - 0s 18ms/step - loss: 0.0500 - accuracy: 0.9765 - val_loss: 0.0559 - val_accuracy: 0.9738\n",
            "Epoch 92/100\n",
            "3/3 [==============================] - 0s 18ms/step - loss: 0.0480 - accuracy: 0.9821 - val_loss: 0.0537 - val_accuracy: 0.9763\n",
            "Epoch 93/100\n",
            "3/3 [==============================] - 0s 18ms/step - loss: 0.0460 - accuracy: 0.9852 - val_loss: 0.0514 - val_accuracy: 0.9844\n",
            "Epoch 94/100\n",
            "3/3 [==============================] - 0s 19ms/step - loss: 0.0441 - accuracy: 0.9889 - val_loss: 0.0493 - val_accuracy: 0.9862\n",
            "Epoch 95/100\n",
            "3/3 [==============================] - 0s 19ms/step - loss: 0.0423 - accuracy: 0.9896 - val_loss: 0.0476 - val_accuracy: 0.9873\n",
            "Epoch 96/100\n",
            "3/3 [==============================] - 0s 19ms/step - loss: 0.0407 - accuracy: 0.9911 - val_loss: 0.0455 - val_accuracy: 0.9889\n",
            "Epoch 97/100\n",
            "3/3 [==============================] - 0s 19ms/step - loss: 0.0392 - accuracy: 0.9920 - val_loss: 0.0440 - val_accuracy: 0.9889\n",
            "Epoch 98/100\n",
            "3/3 [==============================] - 0s 21ms/step - loss: 0.0377 - accuracy: 0.9920 - val_loss: 0.0424 - val_accuracy: 0.9889\n",
            "Epoch 99/100\n",
            "3/3 [==============================] - 0s 19ms/step - loss: 0.0364 - accuracy: 0.9921 - val_loss: 0.0409 - val_accuracy: 0.9889\n",
            "Epoch 100/100\n",
            "3/3 [==============================] - 0s 21ms/step - loss: 0.0350 - accuracy: 0.9922 - val_loss: 0.0394 - val_accuracy: 0.9889\n"
          ]
        }
      ],
      "source": [
        "if model_selection[model_flag]==\"ALL\" or model_selection[model_flag] == \"LSTM\":\n",
        "  # training the model on training dataset\n",
        "  history = lst.fit(x_train, y_train, epochs=100, batch_size=5000,validation_split=0.2)"
      ]
    },
    {
      "cell_type": "code",
      "execution_count": 49,
      "metadata": {
        "id": "BCQtvJcXRcNr",
        "colab": {
          "base_uri": "https://localhost:8080/"
        },
        "outputId": "62318d1e-e2af-4b80-f373-d51da5a86f7c"
      },
      "outputs": [
        {
          "output_type": "stream",
          "name": "stdout",
          "text": [
            "Saved model to disk\n",
            "Loaded model from disk\n"
          ]
        }
      ],
      "source": [
        "if model_selection[model_flag]==\"ALL\" or model_selection[model_flag] == \"LSTM\":\n",
        "  filepath = '/content/drive/MyDrive/Colab_Notebooks/Models/lst_binary_kitsune'+model_name_suffix+'.json'\n",
        "  weightspath = '/content/drive/MyDrive/Colab_Notebooks/Weights/lst_binary_kitsune'+model_name_suffix+'.h5'\n",
        "  if (not path.isfile(filepath)):\n",
        "    # serialize model to JSON\n",
        "    lst_json = lst.to_json()\n",
        "    with open(filepath, \"w\") as json_file:\n",
        "      json_file.write(lst_json)\n",
        "\n",
        "    # serialize weights to HDF5\n",
        "    lst.save_weights(weightspath)\n",
        "    print(\"Saved model to disk\")\n",
        "\n",
        "    # load json and create model\n",
        "    json_file = open(filepath, 'r')\n",
        "    loaded_model_json = json_file.read()\n",
        "    json_file.close()\n",
        "    lst = model_from_json(loaded_model_json)\n",
        "\n",
        "    # load weights into new model\n",
        "    lst.load_weights(weightspath)\n",
        "    print(\"Loaded model from disk\")"
      ]
    },
    {
      "cell_type": "code",
      "execution_count": 50,
      "metadata": {
        "id": "rPaW37T-R0dG",
        "colab": {
          "base_uri": "https://localhost:8080/"
        },
        "outputId": "40438cdb-62a8-43ae-b113-ca4ef4e2f620"
      },
      "outputs": [
        {
          "output_type": "stream",
          "name": "stdout",
          "text": [
            "Loaded model from disk\n"
          ]
        }
      ],
      "source": [
        "if model_selection[model_flag]==\"ALL\" or model_selection[model_flag] == \"LSTM\":\n",
        "  # load json and create model\n",
        "  json_file = open(filepath, 'r')\n",
        "  loaded_model_json = json_file.read()\n",
        "  json_file.close()\n",
        "  lst = model_from_json(loaded_model_json)\n",
        "\n",
        "  # load weights into new model\n",
        "  lst.load_weights(weightspath)\n",
        "  print(\"Loaded model from disk\")"
      ]
    },
    {
      "cell_type": "code",
      "execution_count": 51,
      "metadata": {
        "id": "ukGDdSggR3na"
      },
      "outputs": [],
      "source": [
        "if model_selection[model_flag]==\"ALL\" or model_selection[model_flag] == \"LSTM\":\n",
        "  # defining loss function, optimizer, metrics and then compiling model\n",
        "  lst.compile(loss='binary_crossentropy',optimizer='adam',metrics=['accuracy'])"
      ]
    },
    {
      "cell_type": "code",
      "execution_count": 52,
      "metadata": {
        "id": "nvjY0u97R68f",
        "colab": {
          "base_uri": "https://localhost:8080/"
        },
        "outputId": "07b30e6a-5683-41a0-e78f-d995e88ffa3f"
      },
      "outputs": [
        {
          "output_type": "stream",
          "name": "stdout",
          "text": [
            "194/194 [==============================] - 1s 2ms/step - loss: 0.3338 - accuracy: 0.9555\n",
            "Test results - Loss: 0.3337757885456085 - Accuracy: 95.5508828163147%\n"
          ]
        }
      ],
      "source": [
        "if model_selection[model_flag]==\"ALL\" or model_selection[model_flag] == \"LSTM\":\n",
        "  # predicting target attribute on testing dataset\n",
        "  test_results = lst.evaluate(x_test, y_test, verbose=1)\n",
        "  print(f'Test results - Loss: {test_results[0]} - Accuracy: {test_results[1]*100}%')"
      ]
    },
    {
      "cell_type": "code",
      "execution_count": 53,
      "metadata": {
        "id": "f8yKMcIHR_jP",
        "colab": {
          "base_uri": "https://localhost:8080/",
          "height": 472
        },
        "outputId": "51c309ad-855d-4a2e-aff2-0ed7263898b6"
      },
      "outputs": [
        {
          "output_type": "display_data",
          "data": {
            "text/plain": [
              "<Figure size 640x480 with 1 Axes>"
            ],
            "image/png": "[encoded data removed]"
          },
          "metadata": {}
        }
      ],
      "source": [
        "if model_selection[model_flag]==\"ALL\" or model_selection[model_flag] == \"LSTM\":\n",
        "  # Plot of accuracy vs epoch of train and test dataset\n",
        "  plt.plot(history.history['accuracy'])\n",
        "  plt.plot(history.history['val_accuracy'])\n",
        "  plt.title(\"Plot of accuracy vs epoch for train and test dataset\")\n",
        "  plt.ylabel('accuracy')\n",
        "  plt.xlabel('epoch')\n",
        "  plt.legend(['train', 'test'], loc='best')\n",
        "  plt.savefig('/content/drive/MyDrive/Colab_Notebooks/Plots/lstm_binary_accuracy.png')\n",
        "  plt.show()"
      ]
    },
    {
      "cell_type": "code",
      "execution_count": 54,
      "metadata": {
        "id": "M5g1Rw_SSb5n",
        "colab": {
          "base_uri": "https://localhost:8080/",
          "height": 472
        },
        "outputId": "c945269e-f3a9-478a-a441-a05f6a19da31"
      },
      "outputs": [
        {
          "output_type": "display_data",
          "data": {
            "text/plain": [
              "<Figure size 640x480 with 1 Axes>"
            ],
            "image/png": "[encoded data removed]"
          },
          "metadata": {}
        }
      ],
      "source": [
        "if model_selection[model_flag]==\"ALL\" or model_selection[model_flag] == \"LSTM\":\n",
        "  # Plot of loss vs epoch of train and test dataset\n",
        "  plt.plot(history.history['loss'])\n",
        "  plt.plot(history.history['val_loss'])\n",
        "  plt.title(\"Plot of loss vs epoch for train and test dataset\")\n",
        "  plt.ylabel('loss')\n",
        "  plt.xlabel('epoch')\n",
        "  plt.legend(['train', 'test'], loc='best')\n",
        "  plt.savefig('/content/drive/MyDrive/Colab_Notebooks/Plots/lstm_binary_loss.png')\n",
        "  plt.show()"
      ]
    },
    {
      "cell_type": "code",
      "execution_count": 55,
      "metadata": {
        "id": "osZa2OV9Se-T"
      },
      "outputs": [],
      "source": [
        "if model_selection[model_flag]==\"ALL\" or model_selection[model_flag] == \"LSTM\":\n",
        "  # representation of model layers\n",
        "  plot_model(lst, to_file='/content/drive/MyDrive/Colab_Notebooks/Plots/lstm_binary.png', show_shapes=True,)"
      ]
    },
    {
      "cell_type": "code",
      "execution_count": 56,
      "metadata": {
        "id": "lw4OLD4HSpaY",
        "colab": {
          "base_uri": "https://localhost:8080/"
        },
        "outputId": "ff9c1e01-734c-451d-c354-5378420ae7d3"
      },
      "outputs": [
        {
          "output_type": "execute_result",
          "data": {
            "text/plain": [
              "(6181,)"
            ]
          },
          "metadata": {},
          "execution_count": 56
        }
      ],
      "source": [
        "y_test = np.array(y_test)\n",
        "y_test.shape"
      ]
    },
    {
      "cell_type": "code",
      "execution_count": 57,
      "metadata": {
        "id": "4BvYVrKsTGr3",
        "colab": {
          "base_uri": "https://localhost:8080/"
        },
        "outputId": "2d6cb4e8-a846-4fae-e122-ffdc6c99c254"
      },
      "outputs": [
        {
          "output_type": "execute_result",
          "data": {
            "text/plain": [
              "numpy.ndarray"
            ]
          },
          "metadata": {},
          "execution_count": 57
        }
      ],
      "source": [
        "type(y_test)"
      ]
    },
    {
      "cell_type": "code",
      "execution_count": 58,
      "metadata": {
        "id": "KBvCGl6BS0FM",
        "colab": {
          "base_uri": "https://localhost:8080/"
        },
        "outputId": "84930e78-2e98-4319-ecb7-a1472671a530"
      },
      "outputs": [
        {
          "output_type": "stream",
          "name": "stdout",
          "text": [
            "194/194 [==============================] - 1s 2ms/step\n"
          ]
        }
      ],
      "source": [
        "if model_selection[model_flag]==\"ALL\" or model_selection[model_flag] == \"LSTM\":\n",
        "  y_classes = (lst.predict(x_test)>0.5).astype('int32')"
      ]
    },
    {
      "cell_type": "code",
      "execution_count": 59,
      "metadata": {
        "id": "x_yVqBlLTtLW",
        "colab": {
          "base_uri": "https://localhost:8080/"
        },
        "outputId": "13829c1f-1f59-438e-bd30-c61301fe21a1"
      },
      "outputs": [
        {
          "output_type": "stream",
          "name": "stdout",
          "text": [
            "Recall Score -  0.0\n",
            "F1 Score -  0.0\n",
            "Precision Score -  0.0\n",
            "False Positive Rate -  [1.]\n",
            "False Negative Rate -  [0.]\n",
            "Thresholds -  [0]\n"
          ]
        },
        {
          "output_type": "stream",
          "name": "stderr",
          "text": [
            "/usr/local/lib/python3.9/dist-packages/sklearn/metrics/_classification.py:1344: UndefinedMetricWarning: Precision is ill-defined and being set to 0.0 due to no predicted samples. Use `zero_division` parameter to control this behavior.\n",
            "  _warn_prf(average, modifier, msg_start, len(result))\n"
          ]
        }
      ],
      "source": [
        "if model_selection[model_flag]==\"ALL\" or model_selection[model_flag] == \"LSTM\":\n",
        "  print(\"Recall Score - \",recall_score(y_test,y_classes))\n",
        "  print(\"F1 Score - \",f1_score(y_test,y_classes))\n",
        "  print(\"Precision Score - \",precision_score(y_test,y_classes))\n",
        "  fpr, fnr, thresholds = det_curve(y_test, y_classes)\n",
        "  print(\"False Positive Rate - \", fpr)\n",
        "  print(\"False Negative Rate - \", fnr)\n",
        "  print(\"Thresholds - \", thresholds)"
      ]
    },
    {
      "cell_type": "code",
      "source": [
        "print(classification_report(y_test, y_classes, target_names=['0', '1']))\n",
        "cm = confusion_matrix(y_test, y_classes)\n",
        "disp = ConfusionMatrixDisplay(confusion_matrix=cm,\n",
        "                              display_labels=['0', '1'])\n",
        "disp.plot()\n",
        "\n",
        "plt.show()"
      ],
      "metadata": {
        "colab": {
          "base_uri": "https://localhost:8080/",
          "height": 737
        },
        "id": "lHw1E32esovH",
        "outputId": "8bba93cc-5c79-4561-ee96-609ec561523e"
      },
      "execution_count": 60,
      "outputs": [
        {
          "output_type": "stream",
          "name": "stdout",
          "text": [
            "              precision    recall  f1-score   support\n",
            "\n",
            "           0       0.96      1.00      0.98      5906\n",
            "           1       0.00      0.00      0.00       275\n",
            "\n",
            "    accuracy                           0.96      6181\n",
            "   macro avg       0.48      0.50      0.49      6181\n",
            "weighted avg       0.91      0.96      0.93      6181\n",
            "\n"
          ]
        },
        {
          "output_type": "stream",
          "name": "stderr",
          "text": [
            "/usr/local/lib/python3.9/dist-packages/sklearn/metrics/_classification.py:1344: UndefinedMetricWarning: Precision and F-score are ill-defined and being set to 0.0 in labels with no predicted samples. Use `zero_division` parameter to control this behavior.\n",
            "  _warn_prf(average, modifier, msg_start, len(result))\n",
            "/usr/local/lib/python3.9/dist-packages/sklearn/metrics/_classification.py:1344: UndefinedMetricWarning: Precision and F-score are ill-defined and being set to 0.0 in labels with no predicted samples. Use `zero_division` parameter to control this behavior.\n",
            "  _warn_prf(average, modifier, msg_start, len(result))\n",
            "/usr/local/lib/python3.9/dist-packages/sklearn/metrics/_classification.py:1344: UndefinedMetricWarning: Precision and F-score are ill-defined and being set to 0.0 in labels with no predicted samples. Use `zero_division` parameter to control this behavior.\n",
            "  _warn_prf(average, modifier, msg_start, len(result))\n"
          ]
        },
        {
          "output_type": "display_data",
          "data": {
            "text/plain": [
              "<Figure size 640x480 with 2 Axes>"
            ],
            "image/png": "[encoded data removed]"
          },
          "metadata": {}
        }
      ]
    },
    {
      "cell_type": "markdown",
      "metadata": {
        "id": "H_g15uXe82BY"
      },
      "source": [
        "## **Auto Encoder**"
      ]
    },
    {
      "cell_type": "code",
      "execution_count": 61,
      "metadata": {
        "id": "VQ6pDxghmBwB"
      },
      "outputs": [],
      "source": [
        "if model_selection[model_flag]==\"ALL\" or model_selection[model_flag] == \"AE\":\n",
        "  # splitting the dataset 75% for training and 25% testing\n",
        "  X_train, X_test = train_test_split(bin_data, test_size=0.25, random_state=42)"
      ]
    },
    {
      "cell_type": "code",
      "execution_count": 62,
      "metadata": {
        "id": "uogVT92Q_6wh"
      },
      "outputs": [],
      "source": [
        "if model_selection[model_flag]==\"ALL\" or model_selection[model_flag] == \"AE\":\n",
        "  # dataset excluding target attribute (encoded, one-hot-encoded,original)\n",
        "  X_train = X_train.drop(['label'],axis=1) \n",
        "\n",
        "  y_test = X_test['label'] # target attribute\n",
        "\n",
        "  # dataset excluding target attribute (encoded, one-hot-encoded,original)\n",
        "  X_test = X_test.drop(['label'],axis=1)\n",
        "  # calling the normalization() function\n",
        "  X_train = normalization_train(X_train,numeric_cols)\n",
        "  X_test = normalization_test(X_test,numeric_cols)\n",
        "  X_train = X_train.values\n",
        "  X_test = X_test.values\n",
        "  y_test = y_test.values"
      ]
    },
    {
      "cell_type": "code",
      "execution_count": 63,
      "metadata": {
        "id": "s696BM9uKADC"
      },
      "outputs": [],
      "source": [
        "if model_selection[model_flag]==\"ALL\" or model_selection[model_flag] == \"AE\":\n",
        "  input_dim = X_train.shape[1]\n",
        "  encoding_dim = 50\n",
        "\n",
        "  #input layer\n",
        "  input_layer = Input(shape=(input_dim, ))\n",
        "  #encoding layer with 50 neurons\n",
        "  encoder = Dense(encoding_dim, activation=\"relu\")(input_layer)           \n",
        "  #decoding and output layer\n",
        "  output_layer = Dense(input_dim, activation='softmax')(encoder)"
      ]
    },
    {
      "cell_type": "code",
      "execution_count": 64,
      "metadata": {
        "id": "nLn3vHBZLQtj"
      },
      "outputs": [],
      "source": [
        "if model_selection[model_flag]==\"ALL\" or model_selection[model_flag] == \"AE\":\n",
        "  # creating model with input, encoding, decoding, output layers\n",
        "  autoencoder = Model(inputs=input_layer, outputs=output_layer)\n",
        "\n",
        "  # defining loss function, optimizer, metrics and then compiling model\n",
        "  autoencoder.compile(optimizer='adam', loss='mean_squared_error',metrics=['accuracy'])"
      ]
    },
    {
      "cell_type": "code",
      "execution_count": 65,
      "metadata": {
        "id": "X_zk7PMVLVNm",
        "colab": {
          "base_uri": "https://localhost:8080/"
        },
        "outputId": "1877d4e0-d0e8-480d-b7e1-44a50a45f310"
      },
      "outputs": [
        {
          "output_type": "stream",
          "name": "stdout",
          "text": [
            "Model: \"model\"\n",
            "_________________________________________________________________\n",
            " Layer (type)                Output Shape              Param #   \n",
            "=================================================================\n",
            " input_1 (InputLayer)        [(None, 116)]             0         \n",
            "                                                                 \n",
            " dense_3 (Dense)             (None, 50)                5850      \n",
            "                                                                 \n",
            " dense_4 (Dense)             (None, 116)               5916      \n",
            "                                                                 \n",
            "=================================================================\n",
            "Total params: 11,766\n",
            "Trainable params: 11,766\n",
            "Non-trainable params: 0\n",
            "_________________________________________________________________\n"
          ]
        }
      ],
      "source": [
        "if model_selection[model_flag]==\"ALL\" or model_selection[model_flag] == \"AE\":\n",
        "  # summary of model layers\n",
        "  autoencoder.summary()"
      ]
    },
    {
      "cell_type": "code",
      "execution_count": 66,
      "metadata": {
        "id": "We59NbebLdkJ",
        "colab": {
          "base_uri": "https://localhost:8080/"
        },
        "outputId": "095e1fcd-5754-440d-afc1-329d211c0255"
      },
      "outputs": [
        {
          "output_type": "stream",
          "name": "stdout",
          "text": [
            "Epoch 1/100\n",
            "38/38 [==============================] - 2s 11ms/step - loss: 0.5004 - accuracy: 0.0000e+00 - val_loss: 227212544442368.0000 - val_accuracy: 0.0000e+00\n",
            "Epoch 2/100\n",
            "38/38 [==============================] - 0s 6ms/step - loss: 0.4984 - accuracy: 5.3929e-05 - val_loss: 227212544442368.0000 - val_accuracy: 0.0000e+00\n",
            "Epoch 3/100\n",
            "38/38 [==============================] - 0s 7ms/step - loss: 0.4981 - accuracy: 1.0786e-04 - val_loss: 227212544442368.0000 - val_accuracy: 0.0000e+00\n",
            "Epoch 4/100\n",
            "38/38 [==============================] - 0s 7ms/step - loss: 0.4980 - accuracy: 0.4242 - val_loss: 227212544442368.0000 - val_accuracy: 0.0000e+00\n",
            "Epoch 5/100\n",
            "38/38 [==============================] - 0s 7ms/step - loss: 0.4980 - accuracy: 0.9937 - val_loss: 227212544442368.0000 - val_accuracy: 0.0000e+00\n",
            "Epoch 6/100\n",
            "38/38 [==============================] - 0s 7ms/step - loss: 0.4980 - accuracy: 0.9951 - val_loss: 227212544442368.0000 - val_accuracy: 0.0000e+00\n",
            "Epoch 7/100\n",
            "38/38 [==============================] - 0s 6ms/step - loss: 0.4980 - accuracy: 0.9953 - val_loss: 227212544442368.0000 - val_accuracy: 0.0000e+00\n",
            "Epoch 8/100\n",
            "38/38 [==============================] - 0s 6ms/step - loss: 0.4979 - accuracy: 0.9956 - val_loss: 227212544442368.0000 - val_accuracy: 0.0000e+00\n",
            "Epoch 9/100\n",
            "38/38 [==============================] - 0s 5ms/step - loss: 0.4979 - accuracy: 0.9964 - val_loss: 227212544442368.0000 - val_accuracy: 0.0000e+00\n",
            "Epoch 10/100\n",
            "38/38 [==============================] - 0s 5ms/step - loss: 0.4979 - accuracy: 0.9982 - val_loss: 227212544442368.0000 - val_accuracy: 0.0000e+00\n",
            "Epoch 11/100\n",
            "38/38 [==============================] - 0s 4ms/step - loss: 0.4979 - accuracy: 0.9977 - val_loss: 227212544442368.0000 - val_accuracy: 0.0000e+00\n",
            "Epoch 12/100\n",
            "38/38 [==============================] - 0s 5ms/step - loss: 0.4979 - accuracy: 0.9759 - val_loss: 227212544442368.0000 - val_accuracy: 0.0000e+00\n",
            "Epoch 13/100\n",
            "38/38 [==============================] - 0s 4ms/step - loss: 0.4979 - accuracy: 0.9398 - val_loss: 227212544442368.0000 - val_accuracy: 0.0000e+00\n",
            "Epoch 14/100\n",
            "38/38 [==============================] - 0s 4ms/step - loss: 0.4979 - accuracy: 0.9394 - val_loss: 227212544442368.0000 - val_accuracy: 0.0000e+00\n",
            "Epoch 15/100\n",
            "38/38 [==============================] - 0s 4ms/step - loss: 0.4979 - accuracy: 0.9292 - val_loss: 227212544442368.0000 - val_accuracy: 0.0000e+00\n",
            "Epoch 16/100\n",
            "38/38 [==============================] - 0s 4ms/step - loss: 0.4979 - accuracy: 0.9330 - val_loss: 227212544442368.0000 - val_accuracy: 0.0000e+00\n",
            "Epoch 17/100\n",
            "38/38 [==============================] - 0s 4ms/step - loss: 0.4979 - accuracy: 0.9379 - val_loss: 227212544442368.0000 - val_accuracy: 0.0000e+00\n",
            "Epoch 18/100\n",
            "38/38 [==============================] - 0s 4ms/step - loss: 0.4979 - accuracy: 0.9500 - val_loss: 227212544442368.0000 - val_accuracy: 0.0000e+00\n",
            "Epoch 19/100\n",
            "38/38 [==============================] - 0s 4ms/step - loss: 0.4979 - accuracy: 0.9598 - val_loss: 227212544442368.0000 - val_accuracy: 0.0000e+00\n",
            "Epoch 20/100\n",
            "38/38 [==============================] - 0s 4ms/step - loss: 0.4979 - accuracy: 0.9599 - val_loss: 227212544442368.0000 - val_accuracy: 0.0000e+00\n",
            "Epoch 21/100\n",
            "38/38 [==============================] - 0s 5ms/step - loss: 0.4979 - accuracy: 0.9585 - val_loss: 227212544442368.0000 - val_accuracy: 0.0000e+00\n",
            "Epoch 22/100\n",
            "38/38 [==============================] - 0s 5ms/step - loss: 0.4979 - accuracy: 0.9484 - val_loss: 227212544442368.0000 - val_accuracy: 0.0000e+00\n",
            "Epoch 23/100\n",
            "38/38 [==============================] - 0s 4ms/step - loss: 0.4979 - accuracy: 0.9399 - val_loss: 227212544442368.0000 - val_accuracy: 0.0000e+00\n",
            "Epoch 24/100\n",
            "38/38 [==============================] - 0s 5ms/step - loss: 0.4979 - accuracy: 0.9415 - val_loss: 227212544442368.0000 - val_accuracy: 0.0000e+00\n",
            "Epoch 25/100\n",
            "38/38 [==============================] - 0s 5ms/step - loss: 0.4979 - accuracy: 0.9351 - val_loss: 227212544442368.0000 - val_accuracy: 0.0000e+00\n",
            "Epoch 26/100\n",
            "38/38 [==============================] - 0s 5ms/step - loss: 0.4979 - accuracy: 0.9236 - val_loss: 227212544442368.0000 - val_accuracy: 0.0000e+00\n",
            "Epoch 27/100\n",
            "38/38 [==============================] - 0s 5ms/step - loss: 0.4979 - accuracy: 0.9184 - val_loss: 227212544442368.0000 - val_accuracy: 0.0000e+00\n",
            "Epoch 28/100\n",
            "38/38 [==============================] - 0s 4ms/step - loss: 0.4979 - accuracy: 0.9175 - val_loss: 227212544442368.0000 - val_accuracy: 0.0000e+00\n",
            "Epoch 29/100\n",
            "38/38 [==============================] - 0s 4ms/step - loss: 0.4979 - accuracy: 0.9110 - val_loss: 227212544442368.0000 - val_accuracy: 0.0000e+00\n",
            "Epoch 30/100\n",
            "38/38 [==============================] - 0s 4ms/step - loss: 0.4979 - accuracy: 0.9097 - val_loss: 227212544442368.0000 - val_accuracy: 0.0000e+00\n",
            "Epoch 31/100\n",
            "38/38 [==============================] - 0s 4ms/step - loss: 0.4979 - accuracy: 0.9095 - val_loss: 227212544442368.0000 - val_accuracy: 0.0000e+00\n",
            "Epoch 32/100\n",
            "38/38 [==============================] - 0s 4ms/step - loss: 0.4979 - accuracy: 0.9040 - val_loss: 227212544442368.0000 - val_accuracy: 0.0000e+00\n",
            "Epoch 33/100\n",
            "38/38 [==============================] - 0s 4ms/step - loss: 0.4979 - accuracy: 0.9071 - val_loss: 227212544442368.0000 - val_accuracy: 0.0000e+00\n",
            "Epoch 34/100\n",
            "38/38 [==============================] - 0s 4ms/step - loss: 0.4979 - accuracy: 0.9055 - val_loss: 227212544442368.0000 - val_accuracy: 0.0000e+00\n",
            "Epoch 35/100\n",
            "38/38 [==============================] - 0s 4ms/step - loss: 0.4979 - accuracy: 0.9125 - val_loss: 227212544442368.0000 - val_accuracy: 0.0000e+00\n",
            "Epoch 36/100\n",
            "38/38 [==============================] - 0s 4ms/step - loss: 0.4979 - accuracy: 0.9181 - val_loss: 227212544442368.0000 - val_accuracy: 0.0000e+00\n",
            "Epoch 37/100\n",
            "38/38 [==============================] - 0s 4ms/step - loss: 0.4979 - accuracy: 0.9181 - val_loss: 227212544442368.0000 - val_accuracy: 0.0000e+00\n",
            "Epoch 38/100\n",
            "38/38 [==============================] - 0s 5ms/step - loss: 0.4979 - accuracy: 0.9225 - val_loss: 227212544442368.0000 - val_accuracy: 0.0000e+00\n",
            "Epoch 39/100\n",
            "38/38 [==============================] - 0s 5ms/step - loss: 0.4979 - accuracy: 0.9275 - val_loss: 227212544442368.0000 - val_accuracy: 0.0000e+00\n",
            "Epoch 40/100\n",
            "38/38 [==============================] - 0s 4ms/step - loss: 0.4979 - accuracy: 0.9330 - val_loss: 227212544442368.0000 - val_accuracy: 0.0000e+00\n",
            "Epoch 41/100\n",
            "38/38 [==============================] - 0s 5ms/step - loss: 0.4979 - accuracy: 0.9347 - val_loss: 227212544442368.0000 - val_accuracy: 0.0000e+00\n",
            "Epoch 42/100\n",
            "38/38 [==============================] - 0s 4ms/step - loss: 0.4979 - accuracy: 0.9439 - val_loss: 227212544442368.0000 - val_accuracy: 0.0000e+00\n",
            "Epoch 43/100\n",
            "38/38 [==============================] - 0s 5ms/step - loss: 0.4979 - accuracy: 0.9426 - val_loss: 227212544442368.0000 - val_accuracy: 0.0000e+00\n",
            "Epoch 44/100\n",
            "38/38 [==============================] - 0s 4ms/step - loss: 0.4979 - accuracy: 0.9474 - val_loss: 227212544442368.0000 - val_accuracy: 0.0000e+00\n",
            "Epoch 45/100\n",
            "38/38 [==============================] - 0s 4ms/step - loss: 0.4979 - accuracy: 0.9481 - val_loss: 227212544442368.0000 - val_accuracy: 0.0000e+00\n",
            "Epoch 46/100\n",
            "38/38 [==============================] - 0s 4ms/step - loss: 0.4979 - accuracy: 0.9474 - val_loss: 227212544442368.0000 - val_accuracy: 0.0000e+00\n",
            "Epoch 47/100\n",
            "38/38 [==============================] - 0s 4ms/step - loss: 0.4979 - accuracy: 0.9498 - val_loss: 227212544442368.0000 - val_accuracy: 0.0000e+00\n",
            "Epoch 48/100\n",
            "38/38 [==============================] - 0s 4ms/step - loss: 0.4979 - accuracy: 0.9477 - val_loss: 227212544442368.0000 - val_accuracy: 0.0000e+00\n",
            "Epoch 49/100\n",
            "38/38 [==============================] - 0s 5ms/step - loss: 0.4979 - accuracy: 0.9462 - val_loss: 227212544442368.0000 - val_accuracy: 0.0000e+00\n",
            "Epoch 50/100\n",
            "38/38 [==============================] - 0s 12ms/step - loss: 0.4979 - accuracy: 0.9511 - val_loss: 227212544442368.0000 - val_accuracy: 0.0000e+00\n",
            "Epoch 51/100\n",
            "38/38 [==============================] - 0s 10ms/step - loss: 0.4979 - accuracy: 0.9427 - val_loss: 227212544442368.0000 - val_accuracy: 0.0000e+00\n",
            "Epoch 52/100\n",
            "38/38 [==============================] - 0s 4ms/step - loss: 0.4979 - accuracy: 0.9497 - val_loss: 227212544442368.0000 - val_accuracy: 0.0000e+00\n",
            "Epoch 53/100\n",
            "38/38 [==============================] - 0s 5ms/step - loss: 0.4979 - accuracy: 0.9522 - val_loss: 227212544442368.0000 - val_accuracy: 0.0000e+00\n",
            "Epoch 54/100\n",
            "38/38 [==============================] - 0s 9ms/step - loss: 0.4979 - accuracy: 0.9503 - val_loss: 227212544442368.0000 - val_accuracy: 0.0000e+00\n",
            "Epoch 55/100\n",
            "38/38 [==============================] - 0s 10ms/step - loss: 0.4979 - accuracy: 0.9576 - val_loss: 227212544442368.0000 - val_accuracy: 0.0000e+00\n",
            "Epoch 56/100\n",
            "38/38 [==============================] - 0s 7ms/step - loss: 0.4979 - accuracy: 0.9551 - val_loss: 227212544442368.0000 - val_accuracy: 0.0000e+00\n",
            "Epoch 57/100\n",
            "38/38 [==============================] - 0s 5ms/step - loss: 0.4979 - accuracy: 0.9613 - val_loss: 227212544442368.0000 - val_accuracy: 0.0000e+00\n",
            "Epoch 58/100\n",
            "38/38 [==============================] - 0s 7ms/step - loss: 0.4979 - accuracy: 0.9642 - val_loss: 227212544442368.0000 - val_accuracy: 0.0000e+00\n",
            "Epoch 59/100\n",
            "38/38 [==============================] - 1s 25ms/step - loss: 0.4979 - accuracy: 0.9601 - val_loss: 227212544442368.0000 - val_accuracy: 0.0000e+00\n",
            "Epoch 60/100\n",
            "38/38 [==============================] - 0s 7ms/step - loss: 0.4979 - accuracy: 0.9629 - val_loss: 227212544442368.0000 - val_accuracy: 0.0000e+00\n",
            "Epoch 61/100\n",
            "38/38 [==============================] - 0s 6ms/step - loss: 0.4979 - accuracy: 0.9626 - val_loss: 227212544442368.0000 - val_accuracy: 0.0000e+00\n",
            "Epoch 62/100\n",
            "38/38 [==============================] - 0s 7ms/step - loss: 0.4979 - accuracy: 0.9663 - val_loss: 227212544442368.0000 - val_accuracy: 0.0000e+00\n",
            "Epoch 63/100\n",
            "38/38 [==============================] - 0s 6ms/step - loss: 0.4979 - accuracy: 0.9642 - val_loss: 227212544442368.0000 - val_accuracy: 0.0000e+00\n",
            "Epoch 64/100\n",
            "38/38 [==============================] - 0s 6ms/step - loss: 0.4979 - accuracy: 0.9661 - val_loss: 227212544442368.0000 - val_accuracy: 0.0000e+00\n",
            "Epoch 65/100\n",
            "38/38 [==============================] - 0s 7ms/step - loss: 0.4979 - accuracy: 0.9665 - val_loss: 227212544442368.0000 - val_accuracy: 0.0000e+00\n",
            "Epoch 66/100\n",
            "38/38 [==============================] - 0s 7ms/step - loss: 0.4979 - accuracy: 0.9639 - val_loss: 227212544442368.0000 - val_accuracy: 0.0000e+00\n",
            "Epoch 67/100\n",
            "38/38 [==============================] - 0s 6ms/step - loss: 0.4979 - accuracy: 0.9665 - val_loss: 227212544442368.0000 - val_accuracy: 0.0000e+00\n",
            "Epoch 68/100\n",
            "38/38 [==============================] - 0s 7ms/step - loss: 0.4979 - accuracy: 0.9637 - val_loss: 227212544442368.0000 - val_accuracy: 0.0000e+00\n",
            "Epoch 69/100\n",
            "38/38 [==============================] - 0s 6ms/step - loss: 0.4979 - accuracy: 0.9624 - val_loss: 227212544442368.0000 - val_accuracy: 0.0000e+00\n",
            "Epoch 70/100\n",
            "38/38 [==============================] - 0s 6ms/step - loss: 0.4979 - accuracy: 0.9663 - val_loss: 227212544442368.0000 - val_accuracy: 0.0000e+00\n",
            "Epoch 71/100\n",
            "38/38 [==============================] - 0s 5ms/step - loss: 0.4979 - accuracy: 0.9661 - val_loss: 227212544442368.0000 - val_accuracy: 0.0000e+00\n",
            "Epoch 72/100\n",
            "38/38 [==============================] - 0s 4ms/step - loss: 0.4979 - accuracy: 0.9565 - val_loss: 227212544442368.0000 - val_accuracy: 0.0000e+00\n",
            "Epoch 73/100\n",
            "38/38 [==============================] - 0s 4ms/step - loss: 0.4979 - accuracy: 0.9589 - val_loss: 227212544442368.0000 - val_accuracy: 0.0000e+00\n",
            "Epoch 74/100\n",
            "38/38 [==============================] - 0s 4ms/step - loss: 0.4979 - accuracy: 0.9665 - val_loss: 227212544442368.0000 - val_accuracy: 0.0000e+00\n",
            "Epoch 75/100\n",
            "38/38 [==============================] - 0s 5ms/step - loss: 0.4979 - accuracy: 0.9584 - val_loss: 227212544442368.0000 - val_accuracy: 0.0000e+00\n",
            "Epoch 76/100\n",
            "38/38 [==============================] - 0s 5ms/step - loss: 0.4979 - accuracy: 0.9662 - val_loss: 227212544442368.0000 - val_accuracy: 0.0000e+00\n",
            "Epoch 77/100\n",
            "38/38 [==============================] - 0s 4ms/step - loss: 0.4978 - accuracy: 0.9238 - val_loss: 227212544442368.0000 - val_accuracy: 0.0000e+00\n",
            "Epoch 78/100\n",
            "38/38 [==============================] - 0s 4ms/step - loss: 0.4978 - accuracy: 0.9576 - val_loss: 227212544442368.0000 - val_accuracy: 0.0000e+00\n",
            "Epoch 79/100\n",
            "38/38 [==============================] - 0s 4ms/step - loss: 0.4978 - accuracy: 0.9675 - val_loss: 227212544442368.0000 - val_accuracy: 0.0000e+00\n",
            "Epoch 80/100\n",
            "38/38 [==============================] - 0s 4ms/step - loss: 0.4978 - accuracy: 0.9644 - val_loss: 227212544442368.0000 - val_accuracy: 0.0000e+00\n",
            "Epoch 81/100\n",
            "38/38 [==============================] - 0s 5ms/step - loss: 0.4978 - accuracy: 0.9685 - val_loss: 227212544442368.0000 - val_accuracy: 0.0000e+00\n",
            "Epoch 82/100\n",
            "38/38 [==============================] - 0s 4ms/step - loss: 0.4978 - accuracy: 0.9682 - val_loss: 227212544442368.0000 - val_accuracy: 0.0000e+00\n",
            "Epoch 83/100\n",
            "38/38 [==============================] - 0s 4ms/step - loss: 0.4978 - accuracy: 0.9643 - val_loss: 227212544442368.0000 - val_accuracy: 0.0000e+00\n",
            "Epoch 84/100\n",
            "38/38 [==============================] - 0s 4ms/step - loss: 0.4978 - accuracy: 0.9701 - val_loss: 227212544442368.0000 - val_accuracy: 0.0000e+00\n",
            "Epoch 85/100\n",
            "38/38 [==============================] - 0s 4ms/step - loss: 0.4978 - accuracy: 0.9662 - val_loss: 227212544442368.0000 - val_accuracy: 0.0000e+00\n",
            "Epoch 86/100\n",
            "38/38 [==============================] - 0s 5ms/step - loss: 0.4978 - accuracy: 0.9679 - val_loss: 227212544442368.0000 - val_accuracy: 0.0000e+00\n",
            "Epoch 87/100\n",
            "38/38 [==============================] - 0s 6ms/step - loss: 0.4978 - accuracy: 0.9690 - val_loss: 227212544442368.0000 - val_accuracy: 0.0000e+00\n",
            "Epoch 88/100\n",
            "38/38 [==============================] - 0s 5ms/step - loss: 0.4978 - accuracy: 0.9640 - val_loss: 227212544442368.0000 - val_accuracy: 0.0000e+00\n",
            "Epoch 89/100\n",
            "38/38 [==============================] - 0s 5ms/step - loss: 0.4978 - accuracy: 0.9628 - val_loss: 227212544442368.0000 - val_accuracy: 0.0000e+00\n",
            "Epoch 90/100\n",
            "38/38 [==============================] - 0s 4ms/step - loss: 0.4978 - accuracy: 0.9688 - val_loss: 227212544442368.0000 - val_accuracy: 0.0000e+00\n",
            "Epoch 91/100\n",
            "38/38 [==============================] - 0s 4ms/step - loss: 0.4978 - accuracy: 0.9587 - val_loss: 227212544442368.0000 - val_accuracy: 0.0000e+00\n",
            "Epoch 92/100\n",
            "38/38 [==============================] - 0s 5ms/step - loss: 0.4978 - accuracy: 0.9621 - val_loss: 227212544442368.0000 - val_accuracy: 0.0000e+00\n",
            "Epoch 93/100\n",
            "38/38 [==============================] - 0s 4ms/step - loss: 0.4978 - accuracy: 0.9628 - val_loss: 227212544442368.0000 - val_accuracy: 0.0000e+00\n",
            "Epoch 94/100\n",
            "38/38 [==============================] - 0s 4ms/step - loss: 0.4978 - accuracy: 0.9663 - val_loss: 227212544442368.0000 - val_accuracy: 0.0000e+00\n",
            "Epoch 95/100\n",
            "38/38 [==============================] - 0s 6ms/step - loss: 0.4978 - accuracy: 0.9568 - val_loss: 227212544442368.0000 - val_accuracy: 0.0000e+00\n",
            "Epoch 96/100\n",
            "38/38 [==============================] - 0s 4ms/step - loss: 0.4978 - accuracy: 0.9663 - val_loss: 227212544442368.0000 - val_accuracy: 0.0000e+00\n",
            "Epoch 97/100\n",
            "38/38 [==============================] - 0s 5ms/step - loss: 0.4978 - accuracy: 0.9643 - val_loss: 227212544442368.0000 - val_accuracy: 0.0000e+00\n",
            "Epoch 98/100\n",
            "38/38 [==============================] - 0s 4ms/step - loss: 0.4978 - accuracy: 0.9637 - val_loss: 227212544442368.0000 - val_accuracy: 0.0000e+00\n",
            "Epoch 99/100\n",
            "38/38 [==============================] - 0s 4ms/step - loss: 0.4978 - accuracy: 0.9655 - val_loss: 227212544442368.0000 - val_accuracy: 0.0000e+00\n",
            "Epoch 100/100\n",
            "38/38 [==============================] - 0s 4ms/step - loss: 0.4978 - accuracy: 0.9652 - val_loss: 227212544442368.0000 - val_accuracy: 0.0000e+00\n"
          ]
        }
      ],
      "source": [
        "if model_selection[model_flag]==\"ALL\" or model_selection[model_flag] == \"AE\":\n",
        "  # training the model on training dataset\n",
        "  history = autoencoder.fit(X_train, X_train, epochs=100,batch_size=500,validation_data=(X_test, X_test)).history"
      ]
    },
    {
      "cell_type": "code",
      "execution_count": 67,
      "metadata": {
        "id": "AdtR3-9xLliU",
        "colab": {
          "base_uri": "https://localhost:8080/"
        },
        "outputId": "e26ed0c5-2be4-4574-e127-df72d026e406"
      },
      "outputs": [
        {
          "output_type": "stream",
          "name": "stdout",
          "text": [
            "Saved model to disk\n",
            "Loaded model from disk\n"
          ]
        }
      ],
      "source": [
        "if model_selection[model_flag]==\"ALL\" or model_selection[model_flag] == \"AE\":\n",
        "  filepath = '/content/drive/MyDrive/Colab_Notebooks/Models/ae_binary'+model_name_suffix+'.json'\n",
        "  weightspath = '/content/drive/MyDrive/Colab_Notebooks/Weights/ae_binary'+model_name_suffix+'.h5'\n",
        "  if (not path.isfile(filepath)): \n",
        "    # serialize model to JSON\n",
        "    autoencoder_json = autoencoder.to_json()\n",
        "    with open(filepath, \"w\") as json_file:\n",
        "      json_file.write(autoencoder_json)\n",
        "\n",
        "    # serialize weights to HDF5\n",
        "    autoencoder.save_weights(weightspath)\n",
        "    print(\"Saved model to disk\")\n",
        "\n",
        "    # load json and create model\n",
        "    json_file = open(filepath, 'r')\n",
        "    loaded_model_json = json_file.read()\n",
        "    json_file.close()\n",
        "    autoencoder = model_from_json(loaded_model_json)\n",
        "\n",
        "    # load weights into new model\n",
        "    autoencoder.load_weights(weightspath)\n",
        "    print(\"Loaded model from disk\")"
      ]
    },
    {
      "cell_type": "code",
      "execution_count": 68,
      "metadata": {
        "id": "Wqr6HVtMLwx9"
      },
      "outputs": [],
      "source": [
        "if model_selection[model_flag]==\"ALL\" or model_selection[model_flag] == \"AE\":\n",
        "  # defining loss function, optimizer, metrics and then compiling model\n",
        "  autoencoder.compile(optimizer='adam', loss='mean_squared_error',metrics=['accuracy'])"
      ]
    },
    {
      "cell_type": "code",
      "execution_count": 69,
      "metadata": {
        "id": "FQrjCk2hL09x",
        "colab": {
          "base_uri": "https://localhost:8080/"
        },
        "outputId": "43d809f7-b0b9-47d2-a109-3d438b499850"
      },
      "outputs": [
        {
          "output_type": "stream",
          "name": "stdout",
          "text": [
            "194/194 [==============================] - 1s 2ms/step - loss: 227212494110720.0000 - accuracy: 0.0000e+00\n",
            "Test results - Loss: 227212494110720.0 - Accuracy: 0.0%\n"
          ]
        }
      ],
      "source": [
        "if model_selection[model_flag]==\"ALL\" or model_selection[model_flag] == \"AE\":\n",
        "  # predicting target attribute on testing dataset\n",
        "  test_results = autoencoder.evaluate(X_test, X_test, verbose=1)\n",
        "  print(f'Test results - Loss: {test_results[0]} - Accuracy: {test_results[1]}%')"
      ]
    },
    {
      "cell_type": "code",
      "execution_count": 70,
      "metadata": {
        "id": "VqQsjSZcL1-B",
        "colab": {
          "base_uri": "https://localhost:8080/",
          "height": 472
        },
        "outputId": "bf014e76-2c04-476d-d724-e2638a671346"
      },
      "outputs": [
        {
          "output_type": "display_data",
          "data": {
            "text/plain": [
              "<Figure size 640x480 with 1 Axes>"
            ],
            "image/png": "[encoded data removed]"
          },
          "metadata": {}
        }
      ],
      "source": [
        "if model_selection[model_flag]==\"ALL\" or model_selection[model_flag] == \"AE\":\n",
        "  # Plot of loss vs epoch of train and test dataset\n",
        "  plt.plot(history['loss'])\n",
        "  plt.plot(history['val_loss'])\n",
        "  plt.title(\"Plot of loss vs epoch for train and test dataset\")\n",
        "  plt.ylabel('loss')\n",
        "  plt.xlabel('epoch')\n",
        "  plt.legend(['train', 'test'], loc='upper right')\n",
        "  plt.savefig('/content/drive/MyDrive/Colab_Notebooks/Plots/ae_binary_loss.png')\n",
        "  plt.show()"
      ]
    },
    {
      "cell_type": "code",
      "execution_count": 71,
      "metadata": {
        "id": "fkjD9QXKL25Z",
        "colab": {
          "base_uri": "https://localhost:8080/",
          "height": 472
        },
        "outputId": "a6c156be-90bf-4f18-e36d-1aa043946032"
      },
      "outputs": [
        {
          "output_type": "display_data",
          "data": {
            "text/plain": [
              "<Figure size 640x480 with 1 Axes>"
            ],
            "image/png": "[encoded data removed]"
          },
          "metadata": {}
        }
      ],
      "source": [
        "if model_selection[model_flag]==\"ALL\" or model_selection[model_flag] == \"AE\":\n",
        "  # Plot of accuracy vs epoch of train and test dataset\n",
        "  plt.plot(history['accuracy'])\n",
        "  plt.plot(history['val_accuracy'])\n",
        "  plt.title(\"Plot of accuracy vs epoch for train and test dataset\")\n",
        "  plt.ylabel('accuracy')\n",
        "  plt.xlabel('epoch')\n",
        "  plt.legend(['train', 'test'], loc='best')\n",
        "  plt.savefig('/content/drive/MyDrive/Colab_Notebooks/Plots/ae_binary_accuracy.png')\n",
        "  plt.show()"
      ]
    },
    {
      "cell_type": "code",
      "execution_count": 72,
      "metadata": {
        "id": "lf9q83sBMGPD"
      },
      "outputs": [],
      "source": [
        "if model_selection[model_flag]==\"ALL\" or model_selection[model_flag] == \"AE\":\n",
        "  # representation of model layers\n",
        "  plot_model(autoencoder, to_file='/content/drive/MyDrive/Colab_Notebooks/Plots/ae_binary.png', show_shapes=True,)"
      ]
    },
    {
      "cell_type": "code",
      "execution_count": 73,
      "metadata": {
        "id": "SFIXKGwuMLFo",
        "colab": {
          "base_uri": "https://localhost:8080/"
        },
        "outputId": "09b6df75-65a2-4c4e-c48f-b6cb2de83173"
      },
      "outputs": [
        {
          "output_type": "stream",
          "name": "stdout",
          "text": [
            "194/194 [==============================] - 0s 1ms/step\n"
          ]
        }
      ],
      "source": [
        "if model_selection[model_flag]==\"ALL\" or model_selection[model_flag] == \"AE\":\n",
        "  # calculating reconstruction error \n",
        "  predictions = autoencoder.predict(X_test)"
      ]
    },
    {
      "cell_type": "code",
      "execution_count": 74,
      "metadata": {
        "id": "cqKJCyZnMMEG"
      },
      "outputs": [],
      "source": [
        "if model_selection[model_flag]==\"ALL\" or model_selection[model_flag] == \"AE\":\n",
        "  mse = np.mean(np.power(X_test - predictions, 2), axis=1)\n",
        "  error_df = pd.DataFrame({'reconstruction_error': mse,\n",
        "                           'true_class': y_test})"
      ]
    },
    {
      "cell_type": "code",
      "execution_count": 75,
      "metadata": {
        "id": "EdQJudbDMhmB",
        "colab": {
          "base_uri": "https://localhost:8080/"
        },
        "outputId": "b1c778ab-2834-4ce1-f79d-2ecd44154a8e"
      },
      "outputs": [
        {
          "output_type": "stream",
          "name": "stdout",
          "text": [
            "(6181, 116)\n"
          ]
        }
      ],
      "source": [
        "if model_selection[model_flag]==\"ALL\" or model_selection[model_flag] == \"AE\":\n",
        "  error_df.describe()\n",
        "  print(predictions.shape)"
      ]
    },
    {
      "cell_type": "markdown",
      "metadata": {
        "id": "PHsaAAMmNQrs"
      },
      "source": [
        "## **AE Classifier**"
      ]
    },
    {
      "cell_type": "code",
      "execution_count": 76,
      "metadata": {
        "id": "1hK07LDBMoZg"
      },
      "outputs": [],
      "source": [
        "if model_selection[model_flag]==\"ALL\" or model_selection[model_flag] == \"AE\":\n",
        "  i_dim = predictions.shape[1]\n",
        "\n",
        "  #input layer\n",
        "  i_layer = Input(shape=(i_dim, ))\n",
        "  #hidden layer with 50 neurons\n",
        "  fvector = Dense(50, activation=\"sigmoid\")(i_layer)                    \n",
        "  #doutput layer\n",
        "  o_layer = Dense(1, activation='sigmoid')(fvector)"
      ]
    },
    {
      "cell_type": "code",
      "execution_count": 77,
      "metadata": {
        "id": "Efq77rVINXWE"
      },
      "outputs": [],
      "source": [
        "if model_selection[model_flag]==\"ALL\" or model_selection[model_flag] == \"AE\":\n",
        "  # creating model with input, encoding, decoding, output layers\n",
        "  ae_classifier = Model(inputs=i_layer, outputs=o_layer)\n",
        "\n",
        "  # defining loss function, optimizer, metrics and then compiling model\n",
        "  ae_classifier.compile(optimizer='adam', loss='binary_crossentropy',metrics=['accuracy'])"
      ]
    },
    {
      "cell_type": "code",
      "execution_count": 78,
      "metadata": {
        "id": "0Yl594VGNX1W",
        "colab": {
          "base_uri": "https://localhost:8080/"
        },
        "outputId": "18b0522c-4905-4ef4-9a10-86a7a1b91327"
      },
      "outputs": [
        {
          "output_type": "stream",
          "name": "stdout",
          "text": [
            "Model: \"model_1\"\n",
            "_________________________________________________________________\n",
            " Layer (type)                Output Shape              Param #   \n",
            "=================================================================\n",
            " input_2 (InputLayer)        [(None, 116)]             0         \n",
            "                                                                 \n",
            " dense_5 (Dense)             (None, 50)                5850      \n",
            "                                                                 \n",
            " dense_6 (Dense)             (None, 1)                 51        \n",
            "                                                                 \n",
            "=================================================================\n",
            "Total params: 5,901\n",
            "Trainable params: 5,901\n",
            "Non-trainable params: 0\n",
            "_________________________________________________________________\n"
          ]
        }
      ],
      "source": [
        "if model_selection[model_flag]==\"ALL\" or model_selection[model_flag] == \"AE\":\n",
        "  # summary of model layers\n",
        "  ae_classifier.summary()"
      ]
    },
    {
      "cell_type": "code",
      "execution_count": 79,
      "metadata": {
        "id": "23n8Qt0uNX8Z",
        "colab": {
          "base_uri": "https://localhost:8080/"
        },
        "outputId": "e00c1de5-2cd1-4a8d-9d2f-dd4bb237312a"
      },
      "outputs": [
        {
          "output_type": "stream",
          "name": "stdout",
          "text": [
            "Epoch 1/300\n",
            "10/10 [==============================] - 1s 22ms/step - loss: 0.3581 - accuracy: 0.9547 - val_loss: 0.3182 - val_accuracy: 0.9588\n",
            "Epoch 2/300\n",
            "10/10 [==============================] - 0s 6ms/step - loss: 0.3000 - accuracy: 0.9547 - val_loss: 0.2689 - val_accuracy: 0.9588\n",
            "Epoch 3/300\n",
            "10/10 [==============================] - 0s 6ms/step - loss: 0.2591 - accuracy: 0.9547 - val_loss: 0.2350 - val_accuracy: 0.9588\n",
            "Epoch 4/300\n",
            "10/10 [==============================] - 0s 9ms/step - loss: 0.2316 - accuracy: 0.9547 - val_loss: 0.2124 - val_accuracy: 0.9588\n",
            "Epoch 5/300\n",
            "10/10 [==============================] - 0s 7ms/step - loss: 0.2130 - accuracy: 0.9547 - val_loss: 0.1979 - val_accuracy: 0.9588\n",
            "Epoch 6/300\n",
            "10/10 [==============================] - 0s 9ms/step - loss: 0.2017 - accuracy: 0.9547 - val_loss: 0.1880 - val_accuracy: 0.9588\n",
            "Epoch 7/300\n",
            "10/10 [==============================] - 0s 6ms/step - loss: 0.1936 - accuracy: 0.9547 - val_loss: 0.1814 - val_accuracy: 0.9588\n",
            "Epoch 8/300\n",
            "10/10 [==============================] - 0s 6ms/step - loss: 0.1884 - accuracy: 0.9547 - val_loss: 0.1768 - val_accuracy: 0.9588\n",
            "Epoch 9/300\n",
            "10/10 [==============================] - 0s 8ms/step - loss: 0.1849 - accuracy: 0.9547 - val_loss: 0.1734 - val_accuracy: 0.9588\n",
            "Epoch 10/300\n",
            "10/10 [==============================] - 0s 8ms/step - loss: 0.1823 - accuracy: 0.9547 - val_loss: 0.1710 - val_accuracy: 0.9588\n",
            "Epoch 11/300\n",
            "10/10 [==============================] - 0s 6ms/step - loss: 0.1803 - accuracy: 0.9547 - val_loss: 0.1692 - val_accuracy: 0.9588\n",
            "Epoch 12/300\n",
            "10/10 [==============================] - 0s 8ms/step - loss: 0.1789 - accuracy: 0.9547 - val_loss: 0.1678 - val_accuracy: 0.9588\n",
            "Epoch 13/300\n",
            "10/10 [==============================] - 0s 7ms/step - loss: 0.1777 - accuracy: 0.9547 - val_loss: 0.1667 - val_accuracy: 0.9588\n",
            "Epoch 14/300\n",
            "10/10 [==============================] - 0s 8ms/step - loss: 0.1768 - accuracy: 0.9547 - val_loss: 0.1658 - val_accuracy: 0.9588\n",
            "Epoch 15/300\n",
            "10/10 [==============================] - 0s 7ms/step - loss: 0.1761 - accuracy: 0.9547 - val_loss: 0.1650 - val_accuracy: 0.9588\n",
            "Epoch 16/300\n",
            "10/10 [==============================] - 0s 7ms/step - loss: 0.1754 - accuracy: 0.9547 - val_loss: 0.1643 - val_accuracy: 0.9588\n",
            "Epoch 17/300\n",
            "10/10 [==============================] - 0s 7ms/step - loss: 0.1748 - accuracy: 0.9547 - val_loss: 0.1637 - val_accuracy: 0.9588\n",
            "Epoch 18/300\n",
            "10/10 [==============================] - 0s 7ms/step - loss: 0.1742 - accuracy: 0.9547 - val_loss: 0.1631 - val_accuracy: 0.9588\n",
            "Epoch 19/300\n",
            "10/10 [==============================] - 0s 6ms/step - loss: 0.1737 - accuracy: 0.9547 - val_loss: 0.1626 - val_accuracy: 0.9588\n",
            "Epoch 20/300\n",
            "10/10 [==============================] - 0s 7ms/step - loss: 0.1732 - accuracy: 0.9547 - val_loss: 0.1621 - val_accuracy: 0.9588\n",
            "Epoch 21/300\n",
            "10/10 [==============================] - 0s 6ms/step - loss: 0.1727 - accuracy: 0.9547 - val_loss: 0.1617 - val_accuracy: 0.9588\n",
            "Epoch 22/300\n",
            "10/10 [==============================] - 0s 7ms/step - loss: 0.1722 - accuracy: 0.9547 - val_loss: 0.1612 - val_accuracy: 0.9588\n",
            "Epoch 23/300\n",
            "10/10 [==============================] - 0s 6ms/step - loss: 0.1717 - accuracy: 0.9547 - val_loss: 0.1608 - val_accuracy: 0.9588\n",
            "Epoch 24/300\n",
            "10/10 [==============================] - 0s 6ms/step - loss: 0.1712 - accuracy: 0.9547 - val_loss: 0.1604 - val_accuracy: 0.9588\n",
            "Epoch 25/300\n",
            "10/10 [==============================] - 0s 8ms/step - loss: 0.1708 - accuracy: 0.9547 - val_loss: 0.1600 - val_accuracy: 0.9588\n",
            "Epoch 26/300\n",
            "10/10 [==============================] - 0s 6ms/step - loss: 0.1703 - accuracy: 0.9547 - val_loss: 0.1595 - val_accuracy: 0.9588\n",
            "Epoch 27/300\n",
            "10/10 [==============================] - 0s 9ms/step - loss: 0.1698 - accuracy: 0.9547 - val_loss: 0.1591 - val_accuracy: 0.9588\n",
            "Epoch 28/300\n",
            "10/10 [==============================] - 0s 6ms/step - loss: 0.1694 - accuracy: 0.9547 - val_loss: 0.1587 - val_accuracy: 0.9588\n",
            "Epoch 29/300\n",
            "10/10 [==============================] - 0s 6ms/step - loss: 0.1689 - accuracy: 0.9547 - val_loss: 0.1583 - val_accuracy: 0.9588\n",
            "Epoch 30/300\n",
            "10/10 [==============================] - 0s 7ms/step - loss: 0.1684 - accuracy: 0.9547 - val_loss: 0.1579 - val_accuracy: 0.9588\n",
            "Epoch 31/300\n",
            "10/10 [==============================] - 0s 8ms/step - loss: 0.1680 - accuracy: 0.9547 - val_loss: 0.1575 - val_accuracy: 0.9588\n",
            "Epoch 32/300\n",
            "10/10 [==============================] - 0s 6ms/step - loss: 0.1675 - accuracy: 0.9547 - val_loss: 0.1571 - val_accuracy: 0.9588\n",
            "Epoch 33/300\n",
            "10/10 [==============================] - 0s 6ms/step - loss: 0.1670 - accuracy: 0.9547 - val_loss: 0.1567 - val_accuracy: 0.9588\n",
            "Epoch 34/300\n",
            "10/10 [==============================] - 0s 6ms/step - loss: 0.1666 - accuracy: 0.9547 - val_loss: 0.1563 - val_accuracy: 0.9588\n",
            "Epoch 35/300\n",
            "10/10 [==============================] - 0s 8ms/step - loss: 0.1661 - accuracy: 0.9547 - val_loss: 0.1559 - val_accuracy: 0.9588\n",
            "Epoch 36/300\n",
            "10/10 [==============================] - 0s 7ms/step - loss: 0.1656 - accuracy: 0.9547 - val_loss: 0.1554 - val_accuracy: 0.9588\n",
            "Epoch 37/300\n",
            "10/10 [==============================] - 0s 8ms/step - loss: 0.1652 - accuracy: 0.9547 - val_loss: 0.1550 - val_accuracy: 0.9588\n",
            "Epoch 38/300\n",
            "10/10 [==============================] - 0s 6ms/step - loss: 0.1647 - accuracy: 0.9547 - val_loss: 0.1546 - val_accuracy: 0.9588\n",
            "Epoch 39/300\n",
            "10/10 [==============================] - 0s 6ms/step - loss: 0.1642 - accuracy: 0.9547 - val_loss: 0.1542 - val_accuracy: 0.9588\n",
            "Epoch 40/300\n",
            "10/10 [==============================] - 0s 7ms/step - loss: 0.1637 - accuracy: 0.9547 - val_loss: 0.1538 - val_accuracy: 0.9588\n",
            "Epoch 41/300\n",
            "10/10 [==============================] - 0s 6ms/step - loss: 0.1632 - accuracy: 0.9547 - val_loss: 0.1533 - val_accuracy: 0.9588\n",
            "Epoch 42/300\n",
            "10/10 [==============================] - 0s 9ms/step - loss: 0.1628 - accuracy: 0.9547 - val_loss: 0.1530 - val_accuracy: 0.9588\n",
            "Epoch 43/300\n",
            "10/10 [==============================] - 0s 6ms/step - loss: 0.1623 - accuracy: 0.9547 - val_loss: 0.1525 - val_accuracy: 0.9588\n",
            "Epoch 44/300\n",
            "10/10 [==============================] - 0s 7ms/step - loss: 0.1618 - accuracy: 0.9547 - val_loss: 0.1521 - val_accuracy: 0.9588\n",
            "Epoch 45/300\n",
            "10/10 [==============================] - 0s 7ms/step - loss: 0.1613 - accuracy: 0.9547 - val_loss: 0.1517 - val_accuracy: 0.9588\n",
            "Epoch 46/300\n",
            "10/10 [==============================] - 0s 7ms/step - loss: 0.1608 - accuracy: 0.9547 - val_loss: 0.1512 - val_accuracy: 0.9588\n",
            "Epoch 47/300\n",
            "10/10 [==============================] - 0s 6ms/step - loss: 0.1603 - accuracy: 0.9547 - val_loss: 0.1508 - val_accuracy: 0.9588\n",
            "Epoch 48/300\n",
            "10/10 [==============================] - 0s 6ms/step - loss: 0.1598 - accuracy: 0.9547 - val_loss: 0.1504 - val_accuracy: 0.9588\n",
            "Epoch 49/300\n",
            "10/10 [==============================] - 0s 7ms/step - loss: 0.1593 - accuracy: 0.9547 - val_loss: 0.1499 - val_accuracy: 0.9588\n",
            "Epoch 50/300\n",
            "10/10 [==============================] - 0s 7ms/step - loss: 0.1588 - accuracy: 0.9547 - val_loss: 0.1495 - val_accuracy: 0.9588\n",
            "Epoch 51/300\n",
            "10/10 [==============================] - 0s 6ms/step - loss: 0.1583 - accuracy: 0.9547 - val_loss: 0.1490 - val_accuracy: 0.9588\n",
            "Epoch 52/300\n",
            "10/10 [==============================] - 0s 8ms/step - loss: 0.1577 - accuracy: 0.9547 - val_loss: 0.1486 - val_accuracy: 0.9588\n",
            "Epoch 53/300\n",
            "10/10 [==============================] - 0s 6ms/step - loss: 0.1572 - accuracy: 0.9547 - val_loss: 0.1481 - val_accuracy: 0.9588\n",
            "Epoch 54/300\n",
            "10/10 [==============================] - 0s 6ms/step - loss: 0.1567 - accuracy: 0.9547 - val_loss: 0.1477 - val_accuracy: 0.9588\n",
            "Epoch 55/300\n",
            "10/10 [==============================] - 0s 6ms/step - loss: 0.1562 - accuracy: 0.9547 - val_loss: 0.1472 - val_accuracy: 0.9588\n",
            "Epoch 56/300\n",
            "10/10 [==============================] - 0s 10ms/step - loss: 0.1556 - accuracy: 0.9547 - val_loss: 0.1468 - val_accuracy: 0.9588\n",
            "Epoch 57/300\n",
            "10/10 [==============================] - 0s 9ms/step - loss: 0.1551 - accuracy: 0.9547 - val_loss: 0.1463 - val_accuracy: 0.9588\n",
            "Epoch 58/300\n",
            "10/10 [==============================] - 0s 9ms/step - loss: 0.1546 - accuracy: 0.9547 - val_loss: 0.1459 - val_accuracy: 0.9588\n",
            "Epoch 59/300\n",
            "10/10 [==============================] - 0s 10ms/step - loss: 0.1541 - accuracy: 0.9547 - val_loss: 0.1454 - val_accuracy: 0.9588\n",
            "Epoch 60/300\n",
            "10/10 [==============================] - 0s 9ms/step - loss: 0.1535 - accuracy: 0.9547 - val_loss: 0.1449 - val_accuracy: 0.9588\n",
            "Epoch 61/300\n",
            "10/10 [==============================] - 0s 9ms/step - loss: 0.1530 - accuracy: 0.9547 - val_loss: 0.1445 - val_accuracy: 0.9588\n",
            "Epoch 62/300\n",
            "10/10 [==============================] - 0s 10ms/step - loss: 0.1524 - accuracy: 0.9547 - val_loss: 0.1440 - val_accuracy: 0.9588\n",
            "Epoch 63/300\n",
            "10/10 [==============================] - 0s 10ms/step - loss: 0.1519 - accuracy: 0.9547 - val_loss: 0.1435 - val_accuracy: 0.9588\n",
            "Epoch 64/300\n",
            "10/10 [==============================] - 0s 9ms/step - loss: 0.1513 - accuracy: 0.9547 - val_loss: 0.1430 - val_accuracy: 0.9588\n",
            "Epoch 65/300\n",
            "10/10 [==============================] - 0s 10ms/step - loss: 0.1507 - accuracy: 0.9547 - val_loss: 0.1426 - val_accuracy: 0.9588\n",
            "Epoch 66/300\n",
            "10/10 [==============================] - 0s 10ms/step - loss: 0.1502 - accuracy: 0.9547 - val_loss: 0.1421 - val_accuracy: 0.9588\n",
            "Epoch 67/300\n",
            "10/10 [==============================] - 0s 10ms/step - loss: 0.1496 - accuracy: 0.9547 - val_loss: 0.1416 - val_accuracy: 0.9588\n",
            "Epoch 68/300\n",
            "10/10 [==============================] - 0s 9ms/step - loss: 0.1490 - accuracy: 0.9547 - val_loss: 0.1411 - val_accuracy: 0.9588\n",
            "Epoch 69/300\n",
            "10/10 [==============================] - 0s 12ms/step - loss: 0.1485 - accuracy: 0.9547 - val_loss: 0.1406 - val_accuracy: 0.9588\n",
            "Epoch 70/300\n",
            "10/10 [==============================] - 0s 9ms/step - loss: 0.1479 - accuracy: 0.9547 - val_loss: 0.1401 - val_accuracy: 0.9588\n",
            "Epoch 71/300\n",
            "10/10 [==============================] - 0s 10ms/step - loss: 0.1473 - accuracy: 0.9547 - val_loss: 0.1396 - val_accuracy: 0.9588\n",
            "Epoch 72/300\n",
            "10/10 [==============================] - 0s 11ms/step - loss: 0.1468 - accuracy: 0.9547 - val_loss: 0.1391 - val_accuracy: 0.9588\n",
            "Epoch 73/300\n",
            "10/10 [==============================] - 0s 10ms/step - loss: 0.1461 - accuracy: 0.9547 - val_loss: 0.1386 - val_accuracy: 0.9588\n",
            "Epoch 74/300\n",
            "10/10 [==============================] - 0s 10ms/step - loss: 0.1456 - accuracy: 0.9547 - val_loss: 0.1381 - val_accuracy: 0.9588\n",
            "Epoch 75/300\n",
            "10/10 [==============================] - 0s 9ms/step - loss: 0.1450 - accuracy: 0.9547 - val_loss: 0.1376 - val_accuracy: 0.9588\n",
            "Epoch 76/300\n",
            "10/10 [==============================] - 0s 9ms/step - loss: 0.1444 - accuracy: 0.9547 - val_loss: 0.1371 - val_accuracy: 0.9588\n",
            "Epoch 77/300\n",
            "10/10 [==============================] - 0s 9ms/step - loss: 0.1438 - accuracy: 0.9547 - val_loss: 0.1366 - val_accuracy: 0.9588\n",
            "Epoch 78/300\n",
            "10/10 [==============================] - 0s 10ms/step - loss: 0.1433 - accuracy: 0.9547 - val_loss: 0.1361 - val_accuracy: 0.9588\n",
            "Epoch 79/300\n",
            "10/10 [==============================] - 0s 10ms/step - loss: 0.1427 - accuracy: 0.9547 - val_loss: 0.1356 - val_accuracy: 0.9588\n",
            "Epoch 80/300\n",
            "10/10 [==============================] - 0s 10ms/step - loss: 0.1421 - accuracy: 0.9547 - val_loss: 0.1351 - val_accuracy: 0.9588\n",
            "Epoch 81/300\n",
            "10/10 [==============================] - 0s 9ms/step - loss: 0.1415 - accuracy: 0.9547 - val_loss: 0.1346 - val_accuracy: 0.9588\n",
            "Epoch 82/300\n",
            "10/10 [==============================] - 0s 9ms/step - loss: 0.1409 - accuracy: 0.9547 - val_loss: 0.1341 - val_accuracy: 0.9588\n",
            "Epoch 83/300\n",
            "10/10 [==============================] - 0s 10ms/step - loss: 0.1403 - accuracy: 0.9547 - val_loss: 0.1336 - val_accuracy: 0.9588\n",
            "Epoch 84/300\n",
            "10/10 [==============================] - 0s 10ms/step - loss: 0.1398 - accuracy: 0.9547 - val_loss: 0.1331 - val_accuracy: 0.9588\n",
            "Epoch 85/300\n",
            "10/10 [==============================] - 0s 9ms/step - loss: 0.1392 - accuracy: 0.9547 - val_loss: 0.1326 - val_accuracy: 0.9588\n",
            "Epoch 86/300\n",
            "10/10 [==============================] - 0s 10ms/step - loss: 0.1386 - accuracy: 0.9547 - val_loss: 0.1321 - val_accuracy: 0.9588\n",
            "Epoch 87/300\n",
            "10/10 [==============================] - 0s 11ms/step - loss: 0.1380 - accuracy: 0.9547 - val_loss: 0.1316 - val_accuracy: 0.9588\n",
            "Epoch 88/300\n",
            "10/10 [==============================] - 0s 10ms/step - loss: 0.1374 - accuracy: 0.9547 - val_loss: 0.1311 - val_accuracy: 0.9580\n",
            "Epoch 89/300\n",
            "10/10 [==============================] - 0s 10ms/step - loss: 0.1369 - accuracy: 0.9545 - val_loss: 0.1306 - val_accuracy: 0.9580\n",
            "Epoch 90/300\n",
            "10/10 [==============================] - 0s 7ms/step - loss: 0.1363 - accuracy: 0.9545 - val_loss: 0.1302 - val_accuracy: 0.9580\n",
            "Epoch 91/300\n",
            "10/10 [==============================] - 0s 8ms/step - loss: 0.1357 - accuracy: 0.9545 - val_loss: 0.1297 - val_accuracy: 0.9580\n",
            "Epoch 92/300\n",
            "10/10 [==============================] - 0s 6ms/step - loss: 0.1352 - accuracy: 0.9545 - val_loss: 0.1292 - val_accuracy: 0.9580\n",
            "Epoch 93/300\n",
            "10/10 [==============================] - 0s 6ms/step - loss: 0.1346 - accuracy: 0.9545 - val_loss: 0.1288 - val_accuracy: 0.9580\n",
            "Epoch 94/300\n",
            "10/10 [==============================] - 0s 8ms/step - loss: 0.1341 - accuracy: 0.9545 - val_loss: 0.1283 - val_accuracy: 0.9580\n",
            "Epoch 95/300\n",
            "10/10 [==============================] - 0s 6ms/step - loss: 0.1335 - accuracy: 0.9545 - val_loss: 0.1278 - val_accuracy: 0.9580\n",
            "Epoch 96/300\n",
            "10/10 [==============================] - 0s 6ms/step - loss: 0.1330 - accuracy: 0.9545 - val_loss: 0.1273 - val_accuracy: 0.9580\n",
            "Epoch 97/300\n",
            "10/10 [==============================] - 0s 8ms/step - loss: 0.1324 - accuracy: 0.9545 - val_loss: 0.1269 - val_accuracy: 0.9580\n",
            "Epoch 98/300\n",
            "10/10 [==============================] - 0s 7ms/step - loss: 0.1319 - accuracy: 0.9545 - val_loss: 0.1264 - val_accuracy: 0.9580\n",
            "Epoch 99/300\n",
            "10/10 [==============================] - 0s 6ms/step - loss: 0.1314 - accuracy: 0.9545 - val_loss: 0.1260 - val_accuracy: 0.9580\n",
            "Epoch 100/300\n",
            "10/10 [==============================] - 0s 6ms/step - loss: 0.1309 - accuracy: 0.9545 - val_loss: 0.1255 - val_accuracy: 0.9580\n",
            "Epoch 101/300\n",
            "10/10 [==============================] - 0s 6ms/step - loss: 0.1304 - accuracy: 0.9545 - val_loss: 0.1251 - val_accuracy: 0.9580\n",
            "Epoch 102/300\n",
            "10/10 [==============================] - 0s 7ms/step - loss: 0.1299 - accuracy: 0.9545 - val_loss: 0.1247 - val_accuracy: 0.9580\n",
            "Epoch 103/300\n",
            "10/10 [==============================] - 0s 7ms/step - loss: 0.1294 - accuracy: 0.9545 - val_loss: 0.1243 - val_accuracy: 0.9580\n",
            "Epoch 104/300\n",
            "10/10 [==============================] - 0s 7ms/step - loss: 0.1289 - accuracy: 0.9545 - val_loss: 0.1239 - val_accuracy: 0.9580\n",
            "Epoch 105/300\n",
            "10/10 [==============================] - 0s 8ms/step - loss: 0.1284 - accuracy: 0.9545 - val_loss: 0.1235 - val_accuracy: 0.9580\n",
            "Epoch 106/300\n",
            "10/10 [==============================] - 0s 6ms/step - loss: 0.1279 - accuracy: 0.9545 - val_loss: 0.1230 - val_accuracy: 0.9580\n",
            "Epoch 107/300\n",
            "10/10 [==============================] - 0s 6ms/step - loss: 0.1275 - accuracy: 0.9545 - val_loss: 0.1226 - val_accuracy: 0.9580\n",
            "Epoch 108/300\n",
            "10/10 [==============================] - 0s 6ms/step - loss: 0.1271 - accuracy: 0.9545 - val_loss: 0.1223 - val_accuracy: 0.9580\n",
            "Epoch 109/300\n",
            "10/10 [==============================] - 0s 8ms/step - loss: 0.1266 - accuracy: 0.9545 - val_loss: 0.1219 - val_accuracy: 0.9580\n",
            "Epoch 110/300\n",
            "10/10 [==============================] - 0s 6ms/step - loss: 0.1262 - accuracy: 0.9545 - val_loss: 0.1215 - val_accuracy: 0.9580\n",
            "Epoch 111/300\n",
            "10/10 [==============================] - 0s 6ms/step - loss: 0.1257 - accuracy: 0.9545 - val_loss: 0.1211 - val_accuracy: 0.9580\n",
            "Epoch 112/300\n",
            "10/10 [==============================] - 0s 6ms/step - loss: 0.1253 - accuracy: 0.9545 - val_loss: 0.1208 - val_accuracy: 0.9580\n",
            "Epoch 113/300\n",
            "10/10 [==============================] - 0s 7ms/step - loss: 0.1249 - accuracy: 0.9545 - val_loss: 0.1204 - val_accuracy: 0.9580\n",
            "Epoch 114/300\n",
            "10/10 [==============================] - 0s 6ms/step - loss: 0.1245 - accuracy: 0.9545 - val_loss: 0.1201 - val_accuracy: 0.9580\n",
            "Epoch 115/300\n",
            "10/10 [==============================] - 0s 6ms/step - loss: 0.1241 - accuracy: 0.9545 - val_loss: 0.1198 - val_accuracy: 0.9580\n",
            "Epoch 116/300\n",
            "10/10 [==============================] - 0s 6ms/step - loss: 0.1237 - accuracy: 0.9545 - val_loss: 0.1194 - val_accuracy: 0.9580\n",
            "Epoch 117/300\n",
            "10/10 [==============================] - 0s 6ms/step - loss: 0.1233 - accuracy: 0.9545 - val_loss: 0.1191 - val_accuracy: 0.9580\n",
            "Epoch 118/300\n",
            "10/10 [==============================] - 0s 8ms/step - loss: 0.1230 - accuracy: 0.9545 - val_loss: 0.1187 - val_accuracy: 0.9580\n",
            "Epoch 119/300\n",
            "10/10 [==============================] - 0s 8ms/step - loss: 0.1226 - accuracy: 0.9545 - val_loss: 0.1184 - val_accuracy: 0.9580\n",
            "Epoch 120/300\n",
            "10/10 [==============================] - 0s 7ms/step - loss: 0.1223 - accuracy: 0.9545 - val_loss: 0.1182 - val_accuracy: 0.9580\n",
            "Epoch 121/300\n",
            "10/10 [==============================] - 0s 8ms/step - loss: 0.1219 - accuracy: 0.9545 - val_loss: 0.1178 - val_accuracy: 0.9580\n",
            "Epoch 122/300\n",
            "10/10 [==============================] - 0s 6ms/step - loss: 0.1216 - accuracy: 0.9545 - val_loss: 0.1175 - val_accuracy: 0.9580\n",
            "Epoch 123/300\n",
            "10/10 [==============================] - 0s 8ms/step - loss: 0.1213 - accuracy: 0.9545 - val_loss: 0.1173 - val_accuracy: 0.9563\n",
            "Epoch 124/300\n",
            "10/10 [==============================] - 0s 8ms/step - loss: 0.1209 - accuracy: 0.9531 - val_loss: 0.1170 - val_accuracy: 0.9563\n",
            "Epoch 125/300\n",
            "10/10 [==============================] - 0s 8ms/step - loss: 0.1206 - accuracy: 0.9533 - val_loss: 0.1167 - val_accuracy: 0.9563\n",
            "Epoch 126/300\n",
            "10/10 [==============================] - 0s 8ms/step - loss: 0.1203 - accuracy: 0.9531 - val_loss: 0.1164 - val_accuracy: 0.9539\n",
            "Epoch 127/300\n",
            "10/10 [==============================] - 0s 8ms/step - loss: 0.1200 - accuracy: 0.9527 - val_loss: 0.1161 - val_accuracy: 0.9539\n",
            "Epoch 128/300\n",
            "10/10 [==============================] - 0s 6ms/step - loss: 0.1197 - accuracy: 0.9519 - val_loss: 0.1159 - val_accuracy: 0.9531\n",
            "Epoch 129/300\n",
            "10/10 [==============================] - 0s 6ms/step - loss: 0.1194 - accuracy: 0.9513 - val_loss: 0.1156 - val_accuracy: 0.9523\n",
            "Epoch 130/300\n",
            "10/10 [==============================] - 0s 6ms/step - loss: 0.1191 - accuracy: 0.9511 - val_loss: 0.1154 - val_accuracy: 0.9523\n",
            "Epoch 131/300\n",
            "10/10 [==============================] - 0s 6ms/step - loss: 0.1189 - accuracy: 0.9508 - val_loss: 0.1151 - val_accuracy: 0.9523\n",
            "Epoch 132/300\n",
            "10/10 [==============================] - 0s 7ms/step - loss: 0.1186 - accuracy: 0.9506 - val_loss: 0.1149 - val_accuracy: 0.9523\n",
            "Epoch 133/300\n",
            "10/10 [==============================] - 0s 6ms/step - loss: 0.1183 - accuracy: 0.9498 - val_loss: 0.1147 - val_accuracy: 0.9523\n",
            "Epoch 134/300\n",
            "10/10 [==============================] - 0s 6ms/step - loss: 0.1181 - accuracy: 0.9500 - val_loss: 0.1144 - val_accuracy: 0.9523\n",
            "Epoch 135/300\n",
            "10/10 [==============================] - 0s 6ms/step - loss: 0.1178 - accuracy: 0.9500 - val_loss: 0.1142 - val_accuracy: 0.9515\n",
            "Epoch 136/300\n",
            "10/10 [==============================] - 0s 6ms/step - loss: 0.1176 - accuracy: 0.9500 - val_loss: 0.1140 - val_accuracy: 0.9515\n",
            "Epoch 137/300\n",
            "10/10 [==============================] - 0s 7ms/step - loss: 0.1173 - accuracy: 0.9502 - val_loss: 0.1137 - val_accuracy: 0.9515\n",
            "Epoch 138/300\n",
            "10/10 [==============================] - 0s 6ms/step - loss: 0.1171 - accuracy: 0.9508 - val_loss: 0.1135 - val_accuracy: 0.9515\n",
            "Epoch 139/300\n",
            "10/10 [==============================] - 0s 6ms/step - loss: 0.1169 - accuracy: 0.9508 - val_loss: 0.1133 - val_accuracy: 0.9515\n",
            "Epoch 140/300\n",
            "10/10 [==============================] - 0s 6ms/step - loss: 0.1167 - accuracy: 0.9508 - val_loss: 0.1131 - val_accuracy: 0.9507\n",
            "Epoch 141/300\n",
            "10/10 [==============================] - 0s 6ms/step - loss: 0.1164 - accuracy: 0.9508 - val_loss: 0.1128 - val_accuracy: 0.9515\n",
            "Epoch 142/300\n",
            "10/10 [==============================] - 0s 6ms/step - loss: 0.1162 - accuracy: 0.9508 - val_loss: 0.1126 - val_accuracy: 0.9507\n",
            "Epoch 143/300\n",
            "10/10 [==============================] - 0s 6ms/step - loss: 0.1160 - accuracy: 0.9511 - val_loss: 0.1124 - val_accuracy: 0.9507\n",
            "Epoch 144/300\n",
            "10/10 [==============================] - 0s 7ms/step - loss: 0.1158 - accuracy: 0.9508 - val_loss: 0.1122 - val_accuracy: 0.9515\n",
            "Epoch 145/300\n",
            "10/10 [==============================] - 0s 6ms/step - loss: 0.1156 - accuracy: 0.9511 - val_loss: 0.1120 - val_accuracy: 0.9515\n",
            "Epoch 146/300\n",
            "10/10 [==============================] - 0s 8ms/step - loss: 0.1154 - accuracy: 0.9515 - val_loss: 0.1119 - val_accuracy: 0.9515\n",
            "Epoch 147/300\n",
            "10/10 [==============================] - 0s 7ms/step - loss: 0.1151 - accuracy: 0.9513 - val_loss: 0.1117 - val_accuracy: 0.9515\n",
            "Epoch 148/300\n",
            "10/10 [==============================] - 0s 8ms/step - loss: 0.1150 - accuracy: 0.9508 - val_loss: 0.1115 - val_accuracy: 0.9515\n",
            "Epoch 149/300\n",
            "10/10 [==============================] - 0s 6ms/step - loss: 0.1148 - accuracy: 0.9511 - val_loss: 0.1113 - val_accuracy: 0.9515\n",
            "Epoch 150/300\n",
            "10/10 [==============================] - 0s 6ms/step - loss: 0.1146 - accuracy: 0.9506 - val_loss: 0.1111 - val_accuracy: 0.9515\n",
            "Epoch 151/300\n",
            "10/10 [==============================] - 0s 8ms/step - loss: 0.1144 - accuracy: 0.9504 - val_loss: 0.1109 - val_accuracy: 0.9515\n",
            "Epoch 152/300\n",
            "10/10 [==============================] - 0s 6ms/step - loss: 0.1142 - accuracy: 0.9508 - val_loss: 0.1107 - val_accuracy: 0.9515\n",
            "Epoch 153/300\n",
            "10/10 [==============================] - 0s 6ms/step - loss: 0.1140 - accuracy: 0.9508 - val_loss: 0.1105 - val_accuracy: 0.9515\n",
            "Epoch 154/300\n",
            "10/10 [==============================] - 0s 8ms/step - loss: 0.1138 - accuracy: 0.9508 - val_loss: 0.1103 - val_accuracy: 0.9515\n",
            "Epoch 155/300\n",
            "10/10 [==============================] - 0s 7ms/step - loss: 0.1137 - accuracy: 0.9508 - val_loss: 0.1101 - val_accuracy: 0.9515\n",
            "Epoch 156/300\n",
            "10/10 [==============================] - 0s 8ms/step - loss: 0.1135 - accuracy: 0.9511 - val_loss: 0.1100 - val_accuracy: 0.9515\n",
            "Epoch 157/300\n",
            "10/10 [==============================] - 0s 7ms/step - loss: 0.1133 - accuracy: 0.9506 - val_loss: 0.1098 - val_accuracy: 0.9507\n",
            "Epoch 158/300\n",
            "10/10 [==============================] - 0s 8ms/step - loss: 0.1131 - accuracy: 0.9498 - val_loss: 0.1097 - val_accuracy: 0.9507\n",
            "Epoch 159/300\n",
            "10/10 [==============================] - 0s 6ms/step - loss: 0.1129 - accuracy: 0.9498 - val_loss: 0.1095 - val_accuracy: 0.9507\n",
            "Epoch 160/300\n",
            "10/10 [==============================] - 0s 7ms/step - loss: 0.1128 - accuracy: 0.9500 - val_loss: 0.1092 - val_accuracy: 0.9515\n",
            "Epoch 161/300\n",
            "10/10 [==============================] - 0s 8ms/step - loss: 0.1126 - accuracy: 0.9500 - val_loss: 0.1090 - val_accuracy: 0.9515\n",
            "Epoch 162/300\n",
            "10/10 [==============================] - 0s 6ms/step - loss: 0.1125 - accuracy: 0.9500 - val_loss: 0.1089 - val_accuracy: 0.9507\n",
            "Epoch 163/300\n",
            "10/10 [==============================] - 0s 6ms/step - loss: 0.1123 - accuracy: 0.9500 - val_loss: 0.1087 - val_accuracy: 0.9507\n",
            "Epoch 164/300\n",
            "10/10 [==============================] - 0s 6ms/step - loss: 0.1121 - accuracy: 0.9500 - val_loss: 0.1086 - val_accuracy: 0.9507\n",
            "Epoch 165/300\n",
            "10/10 [==============================] - 0s 6ms/step - loss: 0.1120 - accuracy: 0.9492 - val_loss: 0.1084 - val_accuracy: 0.9507\n",
            "Epoch 166/300\n",
            "10/10 [==============================] - 0s 8ms/step - loss: 0.1118 - accuracy: 0.9492 - val_loss: 0.1083 - val_accuracy: 0.9507\n",
            "Epoch 167/300\n",
            "10/10 [==============================] - 0s 8ms/step - loss: 0.1116 - accuracy: 0.9494 - val_loss: 0.1081 - val_accuracy: 0.9507\n",
            "Epoch 168/300\n",
            "10/10 [==============================] - 0s 8ms/step - loss: 0.1115 - accuracy: 0.9492 - val_loss: 0.1079 - val_accuracy: 0.9507\n",
            "Epoch 169/300\n",
            "10/10 [==============================] - 0s 6ms/step - loss: 0.1113 - accuracy: 0.9492 - val_loss: 0.1077 - val_accuracy: 0.9507\n",
            "Epoch 170/300\n",
            "10/10 [==============================] - 0s 6ms/step - loss: 0.1112 - accuracy: 0.9494 - val_loss: 0.1075 - val_accuracy: 0.9507\n",
            "Epoch 171/300\n",
            "10/10 [==============================] - 0s 7ms/step - loss: 0.1110 - accuracy: 0.9492 - val_loss: 0.1074 - val_accuracy: 0.9507\n",
            "Epoch 172/300\n",
            "10/10 [==============================] - 0s 6ms/step - loss: 0.1109 - accuracy: 0.9494 - val_loss: 0.1073 - val_accuracy: 0.9499\n",
            "Epoch 173/300\n",
            "10/10 [==============================] - 0s 8ms/step - loss: 0.1107 - accuracy: 0.9494 - val_loss: 0.1071 - val_accuracy: 0.9499\n",
            "Epoch 174/300\n",
            "10/10 [==============================] - 0s 9ms/step - loss: 0.1106 - accuracy: 0.9496 - val_loss: 0.1070 - val_accuracy: 0.9499\n",
            "Epoch 175/300\n",
            "10/10 [==============================] - 0s 8ms/step - loss: 0.1105 - accuracy: 0.9492 - val_loss: 0.1068 - val_accuracy: 0.9499\n",
            "Epoch 176/300\n",
            "10/10 [==============================] - 0s 8ms/step - loss: 0.1103 - accuracy: 0.9492 - val_loss: 0.1066 - val_accuracy: 0.9507\n",
            "Epoch 177/300\n",
            "10/10 [==============================] - 0s 8ms/step - loss: 0.1102 - accuracy: 0.9492 - val_loss: 0.1064 - val_accuracy: 0.9507\n",
            "Epoch 178/300\n",
            "10/10 [==============================] - 0s 6ms/step - loss: 0.1100 - accuracy: 0.9490 - val_loss: 0.1062 - val_accuracy: 0.9507\n",
            "Epoch 179/300\n",
            "10/10 [==============================] - 0s 8ms/step - loss: 0.1099 - accuracy: 0.9494 - val_loss: 0.1061 - val_accuracy: 0.9499\n",
            "Epoch 180/300\n",
            "10/10 [==============================] - 0s 6ms/step - loss: 0.1097 - accuracy: 0.9496 - val_loss: 0.1060 - val_accuracy: 0.9499\n",
            "Epoch 181/300\n",
            "10/10 [==============================] - 0s 8ms/step - loss: 0.1096 - accuracy: 0.9494 - val_loss: 0.1058 - val_accuracy: 0.9499\n",
            "Epoch 182/300\n",
            "10/10 [==============================] - 0s 6ms/step - loss: 0.1095 - accuracy: 0.9496 - val_loss: 0.1056 - val_accuracy: 0.9507\n",
            "Epoch 183/300\n",
            "10/10 [==============================] - 0s 8ms/step - loss: 0.1093 - accuracy: 0.9492 - val_loss: 0.1055 - val_accuracy: 0.9507\n",
            "Epoch 184/300\n",
            "10/10 [==============================] - 0s 6ms/step - loss: 0.1092 - accuracy: 0.9494 - val_loss: 0.1054 - val_accuracy: 0.9499\n",
            "Epoch 185/300\n",
            "10/10 [==============================] - 0s 6ms/step - loss: 0.1091 - accuracy: 0.9492 - val_loss: 0.1052 - val_accuracy: 0.9507\n",
            "Epoch 186/300\n",
            "10/10 [==============================] - 0s 8ms/step - loss: 0.1089 - accuracy: 0.9494 - val_loss: 0.1051 - val_accuracy: 0.9499\n",
            "Epoch 187/300\n",
            "10/10 [==============================] - 0s 9ms/step - loss: 0.1088 - accuracy: 0.9496 - val_loss: 0.1050 - val_accuracy: 0.9491\n",
            "Epoch 188/300\n",
            "10/10 [==============================] - 0s 8ms/step - loss: 0.1087 - accuracy: 0.9498 - val_loss: 0.1048 - val_accuracy: 0.9491\n",
            "Epoch 189/300\n",
            "10/10 [==============================] - 0s 8ms/step - loss: 0.1086 - accuracy: 0.9492 - val_loss: 0.1046 - val_accuracy: 0.9507\n",
            "Epoch 190/300\n",
            "10/10 [==============================] - 0s 8ms/step - loss: 0.1084 - accuracy: 0.9494 - val_loss: 0.1045 - val_accuracy: 0.9499\n",
            "Epoch 191/300\n",
            "10/10 [==============================] - 0s 6ms/step - loss: 0.1083 - accuracy: 0.9492 - val_loss: 0.1043 - val_accuracy: 0.9499\n",
            "Epoch 192/300\n",
            "10/10 [==============================] - 0s 8ms/step - loss: 0.1081 - accuracy: 0.9494 - val_loss: 0.1042 - val_accuracy: 0.9491\n",
            "Epoch 193/300\n",
            "10/10 [==============================] - 0s 8ms/step - loss: 0.1080 - accuracy: 0.9494 - val_loss: 0.1040 - val_accuracy: 0.9499\n",
            "Epoch 194/300\n",
            "10/10 [==============================] - 0s 6ms/step - loss: 0.1079 - accuracy: 0.9496 - val_loss: 0.1039 - val_accuracy: 0.9499\n",
            "Epoch 195/300\n",
            "10/10 [==============================] - 0s 8ms/step - loss: 0.1078 - accuracy: 0.9494 - val_loss: 0.1037 - val_accuracy: 0.9499\n",
            "Epoch 196/300\n",
            "10/10 [==============================] - 0s 6ms/step - loss: 0.1076 - accuracy: 0.9494 - val_loss: 0.1036 - val_accuracy: 0.9491\n",
            "Epoch 197/300\n",
            "10/10 [==============================] - 0s 8ms/step - loss: 0.1075 - accuracy: 0.9494 - val_loss: 0.1035 - val_accuracy: 0.9491\n",
            "Epoch 198/300\n",
            "10/10 [==============================] - 0s 6ms/step - loss: 0.1075 - accuracy: 0.9494 - val_loss: 0.1033 - val_accuracy: 0.9507\n",
            "Epoch 199/300\n",
            "10/10 [==============================] - 0s 6ms/step - loss: 0.1073 - accuracy: 0.9496 - val_loss: 0.1031 - val_accuracy: 0.9507\n",
            "Epoch 200/300\n",
            "10/10 [==============================] - 0s 7ms/step - loss: 0.1072 - accuracy: 0.9492 - val_loss: 0.1031 - val_accuracy: 0.9499\n",
            "Epoch 201/300\n",
            "10/10 [==============================] - 0s 6ms/step - loss: 0.1071 - accuracy: 0.9496 - val_loss: 0.1030 - val_accuracy: 0.9499\n",
            "Epoch 202/300\n",
            "10/10 [==============================] - 0s 6ms/step - loss: 0.1070 - accuracy: 0.9496 - val_loss: 0.1028 - val_accuracy: 0.9491\n",
            "Epoch 203/300\n",
            "10/10 [==============================] - 0s 6ms/step - loss: 0.1068 - accuracy: 0.9494 - val_loss: 0.1027 - val_accuracy: 0.9491\n",
            "Epoch 204/300\n",
            "10/10 [==============================] - 0s 8ms/step - loss: 0.1067 - accuracy: 0.9498 - val_loss: 0.1025 - val_accuracy: 0.9499\n",
            "Epoch 205/300\n",
            "10/10 [==============================] - 0s 8ms/step - loss: 0.1066 - accuracy: 0.9502 - val_loss: 0.1023 - val_accuracy: 0.9547\n",
            "Epoch 206/300\n",
            "10/10 [==============================] - 0s 8ms/step - loss: 0.1065 - accuracy: 0.9525 - val_loss: 0.1022 - val_accuracy: 0.9555\n",
            "Epoch 207/300\n",
            "10/10 [==============================] - 0s 8ms/step - loss: 0.1064 - accuracy: 0.9537 - val_loss: 0.1020 - val_accuracy: 0.9563\n",
            "Epoch 208/300\n",
            "10/10 [==============================] - 0s 8ms/step - loss: 0.1063 - accuracy: 0.9529 - val_loss: 0.1020 - val_accuracy: 0.9547\n",
            "Epoch 209/300\n",
            "10/10 [==============================] - 0s 7ms/step - loss: 0.1062 - accuracy: 0.9517 - val_loss: 0.1018 - val_accuracy: 0.9547\n",
            "Epoch 210/300\n",
            "10/10 [==============================] - 0s 6ms/step - loss: 0.1061 - accuracy: 0.9527 - val_loss: 0.1017 - val_accuracy: 0.9563\n",
            "Epoch 211/300\n",
            "10/10 [==============================] - 0s 6ms/step - loss: 0.1060 - accuracy: 0.9521 - val_loss: 0.1016 - val_accuracy: 0.9547\n",
            "Epoch 212/300\n",
            "10/10 [==============================] - 0s 6ms/step - loss: 0.1059 - accuracy: 0.9525 - val_loss: 0.1015 - val_accuracy: 0.9531\n",
            "Epoch 213/300\n",
            "10/10 [==============================] - 0s 8ms/step - loss: 0.1058 - accuracy: 0.9527 - val_loss: 0.1013 - val_accuracy: 0.9580\n",
            "Epoch 214/300\n",
            "10/10 [==============================] - 0s 9ms/step - loss: 0.1056 - accuracy: 0.9551 - val_loss: 0.1011 - val_accuracy: 0.9580\n",
            "Epoch 215/300\n",
            "10/10 [==============================] - 0s 8ms/step - loss: 0.1056 - accuracy: 0.9547 - val_loss: 0.1010 - val_accuracy: 0.9580\n",
            "Epoch 216/300\n",
            "10/10 [==============================] - 0s 8ms/step - loss: 0.1054 - accuracy: 0.9553 - val_loss: 0.1009 - val_accuracy: 0.9580\n",
            "Epoch 217/300\n",
            "10/10 [==============================] - 0s 8ms/step - loss: 0.1053 - accuracy: 0.9549 - val_loss: 0.1009 - val_accuracy: 0.9572\n",
            "Epoch 218/300\n",
            "10/10 [==============================] - 0s 8ms/step - loss: 0.1053 - accuracy: 0.9533 - val_loss: 0.1008 - val_accuracy: 0.9563\n",
            "Epoch 219/300\n",
            "10/10 [==============================] - 0s 8ms/step - loss: 0.1051 - accuracy: 0.9549 - val_loss: 0.1006 - val_accuracy: 0.9580\n",
            "Epoch 220/300\n",
            "10/10 [==============================] - 0s 8ms/step - loss: 0.1051 - accuracy: 0.9547 - val_loss: 0.1004 - val_accuracy: 0.9580\n",
            "Epoch 221/300\n",
            "10/10 [==============================] - 0s 7ms/step - loss: 0.1050 - accuracy: 0.9545 - val_loss: 0.1003 - val_accuracy: 0.9580\n",
            "Epoch 222/300\n",
            "10/10 [==============================] - 0s 6ms/step - loss: 0.1049 - accuracy: 0.9545 - val_loss: 0.1002 - val_accuracy: 0.9580\n",
            "Epoch 223/300\n",
            "10/10 [==============================] - 0s 6ms/step - loss: 0.1048 - accuracy: 0.9547 - val_loss: 0.1001 - val_accuracy: 0.9580\n",
            "Epoch 224/300\n",
            "10/10 [==============================] - 0s 6ms/step - loss: 0.1047 - accuracy: 0.9547 - val_loss: 0.1000 - val_accuracy: 0.9580\n",
            "Epoch 225/300\n",
            "10/10 [==============================] - 0s 9ms/step - loss: 0.1046 - accuracy: 0.9545 - val_loss: 0.0998 - val_accuracy: 0.9580\n",
            "Epoch 226/300\n",
            "10/10 [==============================] - 0s 10ms/step - loss: 0.1045 - accuracy: 0.9545 - val_loss: 0.0998 - val_accuracy: 0.9580\n",
            "Epoch 227/300\n",
            "10/10 [==============================] - 0s 10ms/step - loss: 0.1044 - accuracy: 0.9545 - val_loss: 0.0996 - val_accuracy: 0.9580\n",
            "Epoch 228/300\n",
            "10/10 [==============================] - 0s 9ms/step - loss: 0.1043 - accuracy: 0.9545 - val_loss: 0.0995 - val_accuracy: 0.9580\n",
            "Epoch 229/300\n",
            "10/10 [==============================] - 0s 9ms/step - loss: 0.1042 - accuracy: 0.9545 - val_loss: 0.0994 - val_accuracy: 0.9580\n",
            "Epoch 230/300\n",
            "10/10 [==============================] - 0s 9ms/step - loss: 0.1041 - accuracy: 0.9545 - val_loss: 0.0993 - val_accuracy: 0.9580\n",
            "Epoch 231/300\n",
            "10/10 [==============================] - 0s 10ms/step - loss: 0.1041 - accuracy: 0.9545 - val_loss: 0.0993 - val_accuracy: 0.9580\n",
            "Epoch 232/300\n",
            "10/10 [==============================] - 0s 10ms/step - loss: 0.1040 - accuracy: 0.9545 - val_loss: 0.0990 - val_accuracy: 0.9580\n",
            "Epoch 233/300\n",
            "10/10 [==============================] - 0s 9ms/step - loss: 0.1039 - accuracy: 0.9545 - val_loss: 0.0990 - val_accuracy: 0.9580\n",
            "Epoch 234/300\n",
            "10/10 [==============================] - 0s 10ms/step - loss: 0.1038 - accuracy: 0.9545 - val_loss: 0.0989 - val_accuracy: 0.9580\n",
            "Epoch 235/300\n",
            "10/10 [==============================] - 0s 11ms/step - loss: 0.1037 - accuracy: 0.9545 - val_loss: 0.0988 - val_accuracy: 0.9580\n",
            "Epoch 236/300\n",
            "10/10 [==============================] - 0s 8ms/step - loss: 0.1036 - accuracy: 0.9545 - val_loss: 0.0986 - val_accuracy: 0.9580\n",
            "Epoch 237/300\n",
            "10/10 [==============================] - 0s 9ms/step - loss: 0.1036 - accuracy: 0.9545 - val_loss: 0.0986 - val_accuracy: 0.9580\n",
            "Epoch 238/300\n",
            "10/10 [==============================] - 0s 8ms/step - loss: 0.1035 - accuracy: 0.9545 - val_loss: 0.0985 - val_accuracy: 0.9580\n",
            "Epoch 239/300\n",
            "10/10 [==============================] - 0s 9ms/step - loss: 0.1034 - accuracy: 0.9545 - val_loss: 0.0984 - val_accuracy: 0.9580\n",
            "Epoch 240/300\n",
            "10/10 [==============================] - 0s 10ms/step - loss: 0.1033 - accuracy: 0.9545 - val_loss: 0.0982 - val_accuracy: 0.9580\n",
            "Epoch 241/300\n",
            "10/10 [==============================] - 0s 10ms/step - loss: 0.1033 - accuracy: 0.9547 - val_loss: 0.0981 - val_accuracy: 0.9588\n",
            "Epoch 242/300\n",
            "10/10 [==============================] - 0s 10ms/step - loss: 0.1032 - accuracy: 0.9547 - val_loss: 0.0980 - val_accuracy: 0.9588\n",
            "Epoch 243/300\n",
            "10/10 [==============================] - 0s 9ms/step - loss: 0.1031 - accuracy: 0.9547 - val_loss: 0.0980 - val_accuracy: 0.9588\n",
            "Epoch 244/300\n",
            "10/10 [==============================] - 0s 9ms/step - loss: 0.1031 - accuracy: 0.9547 - val_loss: 0.0979 - val_accuracy: 0.9588\n",
            "Epoch 245/300\n",
            "10/10 [==============================] - 0s 10ms/step - loss: 0.1030 - accuracy: 0.9547 - val_loss: 0.0978 - val_accuracy: 0.9588\n",
            "Epoch 246/300\n",
            "10/10 [==============================] - 0s 9ms/step - loss: 0.1029 - accuracy: 0.9547 - val_loss: 0.0976 - val_accuracy: 0.9588\n",
            "Epoch 247/300\n",
            "10/10 [==============================] - 0s 10ms/step - loss: 0.1028 - accuracy: 0.9547 - val_loss: 0.0976 - val_accuracy: 0.9588\n",
            "Epoch 248/300\n",
            "10/10 [==============================] - 0s 10ms/step - loss: 0.1028 - accuracy: 0.9547 - val_loss: 0.0976 - val_accuracy: 0.9588\n",
            "Epoch 249/300\n",
            "10/10 [==============================] - 0s 10ms/step - loss: 0.1027 - accuracy: 0.9547 - val_loss: 0.0974 - val_accuracy: 0.9588\n",
            "Epoch 250/300\n",
            "10/10 [==============================] - 0s 9ms/step - loss: 0.1026 - accuracy: 0.9547 - val_loss: 0.0973 - val_accuracy: 0.9588\n",
            "Epoch 251/300\n",
            "10/10 [==============================] - 0s 9ms/step - loss: 0.1026 - accuracy: 0.9547 - val_loss: 0.0972 - val_accuracy: 0.9588\n",
            "Epoch 252/300\n",
            "10/10 [==============================] - 0s 10ms/step - loss: 0.1025 - accuracy: 0.9547 - val_loss: 0.0971 - val_accuracy: 0.9588\n",
            "Epoch 253/300\n",
            "10/10 [==============================] - 0s 10ms/step - loss: 0.1025 - accuracy: 0.9547 - val_loss: 0.0971 - val_accuracy: 0.9588\n",
            "Epoch 254/300\n",
            "10/10 [==============================] - 0s 10ms/step - loss: 0.1024 - accuracy: 0.9547 - val_loss: 0.0969 - val_accuracy: 0.9588\n",
            "Epoch 255/300\n",
            "10/10 [==============================] - 0s 9ms/step - loss: 0.1023 - accuracy: 0.9547 - val_loss: 0.0969 - val_accuracy: 0.9588\n",
            "Epoch 256/300\n",
            "10/10 [==============================] - 0s 10ms/step - loss: 0.1023 - accuracy: 0.9547 - val_loss: 0.0969 - val_accuracy: 0.9588\n",
            "Epoch 257/300\n",
            "10/10 [==============================] - 0s 11ms/step - loss: 0.1022 - accuracy: 0.9547 - val_loss: 0.0967 - val_accuracy: 0.9588\n",
            "Epoch 258/300\n",
            "10/10 [==============================] - 0s 12ms/step - loss: 0.1022 - accuracy: 0.9547 - val_loss: 0.0966 - val_accuracy: 0.9588\n",
            "Epoch 259/300\n",
            "10/10 [==============================] - 0s 10ms/step - loss: 0.1021 - accuracy: 0.9547 - val_loss: 0.0965 - val_accuracy: 0.9588\n",
            "Epoch 260/300\n",
            "10/10 [==============================] - 0s 11ms/step - loss: 0.1020 - accuracy: 0.9547 - val_loss: 0.0964 - val_accuracy: 0.9588\n",
            "Epoch 261/300\n",
            "10/10 [==============================] - 0s 9ms/step - loss: 0.1020 - accuracy: 0.9547 - val_loss: 0.0964 - val_accuracy: 0.9588\n",
            "Epoch 262/300\n",
            "10/10 [==============================] - 0s 8ms/step - loss: 0.1019 - accuracy: 0.9547 - val_loss: 0.0964 - val_accuracy: 0.9588\n",
            "Epoch 263/300\n",
            "10/10 [==============================] - 0s 6ms/step - loss: 0.1020 - accuracy: 0.9547 - val_loss: 0.0961 - val_accuracy: 0.9588\n",
            "Epoch 264/300\n",
            "10/10 [==============================] - 0s 8ms/step - loss: 0.1018 - accuracy: 0.9547 - val_loss: 0.0961 - val_accuracy: 0.9588\n",
            "Epoch 265/300\n",
            "10/10 [==============================] - 0s 6ms/step - loss: 0.1018 - accuracy: 0.9547 - val_loss: 0.0961 - val_accuracy: 0.9588\n",
            "Epoch 266/300\n",
            "10/10 [==============================] - 0s 6ms/step - loss: 0.1017 - accuracy: 0.9547 - val_loss: 0.0961 - val_accuracy: 0.9588\n",
            "Epoch 267/300\n",
            "10/10 [==============================] - 0s 8ms/step - loss: 0.1017 - accuracy: 0.9547 - val_loss: 0.0960 - val_accuracy: 0.9588\n",
            "Epoch 268/300\n",
            "10/10 [==============================] - 0s 7ms/step - loss: 0.1016 - accuracy: 0.9547 - val_loss: 0.0959 - val_accuracy: 0.9588\n",
            "Epoch 269/300\n",
            "10/10 [==============================] - 0s 8ms/step - loss: 0.1016 - accuracy: 0.9547 - val_loss: 0.0958 - val_accuracy: 0.9588\n",
            "Epoch 270/300\n",
            "10/10 [==============================] - 0s 9ms/step - loss: 0.1015 - accuracy: 0.9547 - val_loss: 0.0957 - val_accuracy: 0.9588\n",
            "Epoch 271/300\n",
            "10/10 [==============================] - 0s 8ms/step - loss: 0.1015 - accuracy: 0.9547 - val_loss: 0.0957 - val_accuracy: 0.9588\n",
            "Epoch 272/300\n",
            "10/10 [==============================] - 0s 8ms/step - loss: 0.1014 - accuracy: 0.9547 - val_loss: 0.0956 - val_accuracy: 0.9588\n",
            "Epoch 273/300\n",
            "10/10 [==============================] - 0s 6ms/step - loss: 0.1014 - accuracy: 0.9547 - val_loss: 0.0955 - val_accuracy: 0.9588\n",
            "Epoch 274/300\n",
            "10/10 [==============================] - 0s 8ms/step - loss: 0.1013 - accuracy: 0.9547 - val_loss: 0.0954 - val_accuracy: 0.9588\n",
            "Epoch 275/300\n",
            "10/10 [==============================] - 0s 8ms/step - loss: 0.1013 - accuracy: 0.9547 - val_loss: 0.0955 - val_accuracy: 0.9588\n",
            "Epoch 276/300\n",
            "10/10 [==============================] - 0s 8ms/step - loss: 0.1012 - accuracy: 0.9547 - val_loss: 0.0954 - val_accuracy: 0.9588\n",
            "Epoch 277/300\n",
            "10/10 [==============================] - 0s 6ms/step - loss: 0.1012 - accuracy: 0.9547 - val_loss: 0.0953 - val_accuracy: 0.9588\n",
            "Epoch 278/300\n",
            "10/10 [==============================] - 0s 6ms/step - loss: 0.1012 - accuracy: 0.9547 - val_loss: 0.0951 - val_accuracy: 0.9588\n",
            "Epoch 279/300\n",
            "10/10 [==============================] - 0s 8ms/step - loss: 0.1011 - accuracy: 0.9547 - val_loss: 0.0951 - val_accuracy: 0.9588\n",
            "Epoch 280/300\n",
            "10/10 [==============================] - 0s 6ms/step - loss: 0.1012 - accuracy: 0.9547 - val_loss: 0.0953 - val_accuracy: 0.9588\n",
            "Epoch 281/300\n",
            "10/10 [==============================] - 0s 7ms/step - loss: 0.1012 - accuracy: 0.9547 - val_loss: 0.0952 - val_accuracy: 0.9588\n",
            "Epoch 282/300\n",
            "10/10 [==============================] - 0s 8ms/step - loss: 0.1010 - accuracy: 0.9547 - val_loss: 0.0949 - val_accuracy: 0.9588\n",
            "Epoch 283/300\n",
            "10/10 [==============================] - 0s 9ms/step - loss: 0.1010 - accuracy: 0.9547 - val_loss: 0.0948 - val_accuracy: 0.9588\n",
            "Epoch 284/300\n",
            "10/10 [==============================] - 0s 7ms/step - loss: 0.1009 - accuracy: 0.9547 - val_loss: 0.0948 - val_accuracy: 0.9588\n",
            "Epoch 285/300\n",
            "10/10 [==============================] - 0s 6ms/step - loss: 0.1009 - accuracy: 0.9547 - val_loss: 0.0947 - val_accuracy: 0.9588\n",
            "Epoch 286/300\n",
            "10/10 [==============================] - 0s 6ms/step - loss: 0.1008 - accuracy: 0.9547 - val_loss: 0.0947 - val_accuracy: 0.9588\n",
            "Epoch 287/300\n",
            "10/10 [==============================] - 0s 8ms/step - loss: 0.1008 - accuracy: 0.9547 - val_loss: 0.0948 - val_accuracy: 0.9588\n",
            "Epoch 288/300\n",
            "10/10 [==============================] - 0s 8ms/step - loss: 0.1008 - accuracy: 0.9547 - val_loss: 0.0948 - val_accuracy: 0.9588\n",
            "Epoch 289/300\n",
            "10/10 [==============================] - 0s 6ms/step - loss: 0.1007 - accuracy: 0.9547 - val_loss: 0.0946 - val_accuracy: 0.9588\n",
            "Epoch 290/300\n",
            "10/10 [==============================] - 0s 7ms/step - loss: 0.1007 - accuracy: 0.9547 - val_loss: 0.0945 - val_accuracy: 0.9588\n",
            "Epoch 291/300\n",
            "10/10 [==============================] - 0s 6ms/step - loss: 0.1008 - accuracy: 0.9547 - val_loss: 0.0943 - val_accuracy: 0.9588\n",
            "Epoch 292/300\n",
            "10/10 [==============================] - 0s 6ms/step - loss: 0.1008 - accuracy: 0.9547 - val_loss: 0.0945 - val_accuracy: 0.9588\n",
            "Epoch 293/300\n",
            "10/10 [==============================] - 0s 8ms/step - loss: 0.1006 - accuracy: 0.9547 - val_loss: 0.0943 - val_accuracy: 0.9588\n",
            "Epoch 294/300\n",
            "10/10 [==============================] - 0s 6ms/step - loss: 0.1006 - accuracy: 0.9547 - val_loss: 0.0943 - val_accuracy: 0.9588\n",
            "Epoch 295/300\n",
            "10/10 [==============================] - 0s 8ms/step - loss: 0.1006 - accuracy: 0.9547 - val_loss: 0.0943 - val_accuracy: 0.9588\n",
            "Epoch 296/300\n",
            "10/10 [==============================] - 0s 9ms/step - loss: 0.1006 - accuracy: 0.9547 - val_loss: 0.0943 - val_accuracy: 0.9588\n",
            "Epoch 297/300\n",
            "10/10 [==============================] - 0s 8ms/step - loss: 0.1005 - accuracy: 0.9547 - val_loss: 0.0942 - val_accuracy: 0.9588\n",
            "Epoch 298/300\n",
            "10/10 [==============================] - 0s 6ms/step - loss: 0.1005 - accuracy: 0.9547 - val_loss: 0.0941 - val_accuracy: 0.9588\n",
            "Epoch 299/300\n",
            "10/10 [==============================] - 0s 6ms/step - loss: 0.1005 - accuracy: 0.9547 - val_loss: 0.0940 - val_accuracy: 0.9588\n",
            "Epoch 300/300\n",
            "10/10 [==============================] - 0s 8ms/step - loss: 0.1004 - accuracy: 0.9547 - val_loss: 0.0940 - val_accuracy: 0.9588\n"
          ]
        }
      ],
      "source": [
        "if model_selection[model_flag]==\"ALL\" or model_selection[model_flag] == \"AE\":\n",
        "  # training the model on training dataset\n",
        "  his = ae_classifier.fit(predictions, y_test, epochs=300,batch_size=500, validation_split=0.2).history"
      ]
    },
    {
      "cell_type": "code",
      "execution_count": 80,
      "metadata": {
        "id": "yeNS7pLUNYBz",
        "colab": {
          "base_uri": "https://localhost:8080/"
        },
        "outputId": "8b53aaf8-5d4c-4445-be90-0252748b4183"
      },
      "outputs": [
        {
          "output_type": "stream",
          "name": "stdout",
          "text": [
            "Saved model to disk\n",
            "Loaded model from disk\n"
          ]
        }
      ],
      "source": [
        "if model_selection[model_flag]==\"ALL\" or model_selection[model_flag] == \"AE\":\n",
        "  filepath = '/content/drive/MyDrive/Colab_Notebooks/Models/ae_classifier_binary'+model_name_suffix+'.json'\n",
        "  weightspath = '/content/drive/MyDrive/Colab_Notebooks/Weights/ae_classifier_binary'+model_name_suffix+'.h5'\n",
        "  if (not path.isfile(filepath)): \n",
        "    # serialize model to JSON\n",
        "    ae_classifier_json = ae_classifier.to_json()\n",
        "    with open(filepath, \"w\") as json_file:\n",
        "      json_file.write(ae_classifier_json)\n",
        "\n",
        "    # serialize weights to HDF5\n",
        "    ae_classifier.save_weights(weightspath)\n",
        "    print(\"Saved model to disk\")\n",
        "\n",
        "    # load json and create model\n",
        "    json_file = open(filepath, 'r')\n",
        "    loaded_model_json = json_file.read()\n",
        "    json_file.close()\n",
        "    ae_classifier = model_from_json(loaded_model_json)\n",
        "\n",
        "    # load weights into new model\n",
        "    ae_classifier.load_weights(weightspath)\n",
        "    print(\"Loaded model from disk\")"
      ]
    },
    {
      "cell_type": "code",
      "execution_count": 81,
      "metadata": {
        "id": "AG42bV79NYFB"
      },
      "outputs": [],
      "source": [
        "if model_selection[model_flag]==\"ALL\" or model_selection[model_flag] == \"AE\":\n",
        "  ae_classifier.compile(optimizer='adam', loss='binary_crossentropy',metrics=['accuracy'])"
      ]
    },
    {
      "cell_type": "code",
      "execution_count": 82,
      "metadata": {
        "id": "13aKBGJcNYHv",
        "colab": {
          "base_uri": "https://localhost:8080/"
        },
        "outputId": "796c657a-002d-4ed0-a586-f86413348b80"
      },
      "outputs": [
        {
          "output_type": "stream",
          "name": "stdout",
          "text": [
            "194/194 [==============================] - 1s 2ms/step - loss: 0.6597 - accuracy: 0.9555\n",
            "Test results - Loss: 0.6596543788909912 - Accuracy: 95.5508828163147%\n"
          ]
        }
      ],
      "source": [
        "if model_selection[model_flag]==\"ALL\" or model_selection[model_flag] == \"AE\":\n",
        "  # predicting target attribute on testing dataset\n",
        "  test_results = ae_classifier.evaluate(X_test, y_test, verbose=1)\n",
        "  print(f'Test results - Loss: {test_results[0]} - Accuracy: {test_results[1]*100}%')"
      ]
    },
    {
      "cell_type": "code",
      "execution_count": 83,
      "metadata": {
        "id": "zCWbOaSyN1dH"
      },
      "outputs": [],
      "source": [
        "if model_selection[model_flag]==\"ALL\" or model_selection[model_flag] == \"AE\":\n",
        "  # representation of model layers\n",
        "  plot_model(ae_classifier, to_file='/content/drive/MyDrive/Colab_Notebooks/Plots/ae_classifier_binary.png', show_shapes=True)"
      ]
    },
    {
      "cell_type": "code",
      "execution_count": 84,
      "metadata": {
        "id": "44VaFGgVOBpU",
        "colab": {
          "base_uri": "https://localhost:8080/",
          "height": 472
        },
        "outputId": "b9e6b793-1ca0-4dfe-da27-3ec49980c20c"
      },
      "outputs": [
        {
          "output_type": "display_data",
          "data": {
            "text/plain": [
              "<Figure size 640x480 with 1 Axes>"
            ],
            "image/png": "[encoded data removed]"
          },
          "metadata": {}
        }
      ],
      "source": [
        "if model_selection[model_flag]==\"ALL\" or model_selection[model_flag] == \"AE\":\n",
        "  # Plot of loss vs epoch of train and test dataset\n",
        "  plt.plot(his['loss'])\n",
        "  plt.plot(his['val_loss'])\n",
        "  plt.title(\"Plot of loss vs epoch for train and test dataset\")\n",
        "  plt.ylabel('loss')\n",
        "  plt.xlabel('epoch')\n",
        "  plt.legend(['train', 'test'], loc='upper right')\n",
        "  plt.savefig('/content/drive/MyDrive/Colab_Notebooks/Plots/ae_classifier_binary_loss.png')\n",
        "  plt.show()"
      ]
    },
    {
      "cell_type": "code",
      "execution_count": 85,
      "metadata": {
        "id": "Am0UB82rOIo1",
        "colab": {
          "base_uri": "https://localhost:8080/",
          "height": 472
        },
        "outputId": "eb1940c8-02bc-4451-f988-574a2c978e0c"
      },
      "outputs": [
        {
          "output_type": "display_data",
          "data": {
            "text/plain": [
              "<Figure size 640x480 with 1 Axes>"
            ],
            "image/png": "[encoded data removed]"
          },
          "metadata": {}
        }
      ],
      "source": [
        "if model_selection[model_flag]==\"ALL\" or model_selection[model_flag] == \"AE\":\n",
        "  # Plot of accuracy vs epoch of train and test dataset\n",
        "  plt.plot(his['accuracy'])\n",
        "  plt.plot(his['val_accuracy'])\n",
        "  plt.title(\"Plot of accuracy vs epoch for train and test dataset\")\n",
        "  plt.ylabel('accuracy')\n",
        "  plt.xlabel('epoch')\n",
        "  plt.legend(['train', 'test'], loc='best')\n",
        "  plt.savefig('/content/drive/MyDrive/Colab_Notebooks/Plots/ae_classifier_binary_accuracy.png')\n",
        "  plt.show()"
      ]
    },
    {
      "cell_type": "code",
      "execution_count": 86,
      "metadata": {
        "id": "f5OZTlm0OMoW",
        "colab": {
          "base_uri": "https://localhost:8080/"
        },
        "outputId": "b907c5d7-583d-4c0b-baeb-4933e4b618ea"
      },
      "outputs": [
        {
          "output_type": "stream",
          "name": "stdout",
          "text": [
            "194/194 [==============================] - 0s 2ms/step\n"
          ]
        }
      ],
      "source": [
        "if model_selection[model_flag]==\"ALL\" or model_selection[model_flag] == \"AE\":\n",
        "  y_pred = ae_classifier.predict(X_test).ravel()\n",
        "  fpr, tpr, thresholds = roc_curve(y_test, y_pred)\n",
        "  #auc = auc(fpr, tpr)"
      ]
    },
    {
      "cell_type": "code",
      "execution_count": 87,
      "metadata": {
        "id": "GbSkwfO2OTkn",
        "colab": {
          "base_uri": "https://localhost:8080/",
          "height": 510
        },
        "outputId": "1804f3c3-03ac-4085-a77b-afdb05643d25"
      },
      "outputs": [
        {
          "output_type": "stream",
          "name": "stderr",
          "text": [
            "WARNING:matplotlib.legend:No artists with labels found to put in legend.  Note that artists whose label start with an underscore are ignored when legend() is called with no argument.\n"
          ]
        },
        {
          "output_type": "display_data",
          "data": {
            "text/plain": [
              "<Figure size 640x480 with 1 Axes>"
            ],
            "image/png": "[encoded data removed]"
          },
          "metadata": {}
        }
      ],
      "source": [
        "if model_selection[model_flag]==\"ALL\" or model_selection[model_flag] == \"AE\":\n",
        "  plt.plot([0, 1], [0, 1], 'k--')\n",
        "  #plt.plot(fpr, tpr, label='Keras (area = {:.3f})'.format(auc))\n",
        "  plt.plot(fpr, tpr)\n",
        "  plt.xlabel('False positive rate')\n",
        "  plt.ylabel('True positive rate')\n",
        "  plt.title('ROC curve')\n",
        "  plt.legend(loc='best')\n",
        "  plt.savefig('/content/drive/MyDrive/Colab_Notebooks/Plots/ae_binary_roc.png')\n",
        "  plt.show()"
      ]
    },
    {
      "cell_type": "code",
      "execution_count": 88,
      "metadata": {
        "id": "n7Xl74UXOZxm",
        "colab": {
          "base_uri": "https://localhost:8080/"
        },
        "outputId": "15994a83-63f8-409f-ca2e-f4254b4adecb"
      },
      "outputs": [
        {
          "output_type": "stream",
          "name": "stdout",
          "text": [
            "194/194 [==============================] - 0s 2ms/step\n",
            "194/194 [==============================] - 0s 1ms/step\n"
          ]
        }
      ],
      "source": [
        "if model_selection[model_flag]==\"ALL\" or model_selection[model_flag] == \"AE\":\n",
        "  pred = ae_classifier.predict(X_test)\n",
        "  y_classes = (ae_classifier.predict(X_test)>0.5).astype('int32')"
      ]
    },
    {
      "cell_type": "code",
      "execution_count": 89,
      "metadata": {
        "id": "WA_g3UlXOZ71",
        "colab": {
          "base_uri": "https://localhost:8080/"
        },
        "outputId": "288fa00f-b91d-46f7-f107-290d5f4814ec"
      },
      "outputs": [
        {
          "output_type": "stream",
          "name": "stdout",
          "text": [
            "Recall Score -  0.0\n",
            "F1 Score -  0.0\n",
            "Precision Score -  0.0\n",
            "False Positive Rate -  [1.]\n",
            "False Negative Rate -  [0.]\n",
            "Thresholds -  [0]\n"
          ]
        },
        {
          "output_type": "stream",
          "name": "stderr",
          "text": [
            "/usr/local/lib/python3.9/dist-packages/sklearn/metrics/_classification.py:1344: UndefinedMetricWarning: Precision is ill-defined and being set to 0.0 due to no predicted samples. Use `zero_division` parameter to control this behavior.\n",
            "  _warn_prf(average, modifier, msg_start, len(result))\n"
          ]
        }
      ],
      "source": [
        "if model_selection[model_flag]==\"ALL\" or model_selection[model_flag] == \"AE\":\n",
        "  print(\"Recall Score - \",recall_score(y_test,y_classes))\n",
        "  print(\"F1 Score - \",f1_score(y_test,y_classes))\n",
        "  print(\"Precision Score - \",precision_score(y_test,y_classes))\n",
        "  fpr, fnr, thresholds = det_curve(y_test, y_classes)\n",
        "  print(\"False Positive Rate - \", fpr)\n",
        "  print(\"False Negative Rate - \", fnr)\n",
        "  print(\"Thresholds - \", thresholds)"
      ]
    },
    {
      "cell_type": "code",
      "source": [
        "print(classification_report(y_test, y_classes, target_names=['0', '1']))\n",
        "cm = confusion_matrix(y_test, y_classes)\n",
        "disp = ConfusionMatrixDisplay(confusion_matrix=cm,\n",
        "                              display_labels=['0', '1'])\n",
        "disp.plot()\n",
        "\n",
        "plt.show()"
      ],
      "metadata": {
        "colab": {
          "base_uri": "https://localhost:8080/",
          "height": 737
        },
        "id": "UgHHdx0qoryj",
        "outputId": "1600eade-94ca-4412-bd52-c18b7001d2bf"
      },
      "execution_count": 90,
      "outputs": [
        {
          "output_type": "stream",
          "name": "stdout",
          "text": [
            "              precision    recall  f1-score   support\n",
            "\n",
            "           0       0.96      1.00      0.98      5906\n",
            "           1       0.00      0.00      0.00       275\n",
            "\n",
            "    accuracy                           0.96      6181\n",
            "   macro avg       0.48      0.50      0.49      6181\n",
            "weighted avg       0.91      0.96      0.93      6181\n",
            "\n"
          ]
        },
        {
          "output_type": "stream",
          "name": "stderr",
          "text": [
            "/usr/local/lib/python3.9/dist-packages/sklearn/metrics/_classification.py:1344: UndefinedMetricWarning: Precision and F-score are ill-defined and being set to 0.0 in labels with no predicted samples. Use `zero_division` parameter to control this behavior.\n",
            "  _warn_prf(average, modifier, msg_start, len(result))\n",
            "/usr/local/lib/python3.9/dist-packages/sklearn/metrics/_classification.py:1344: UndefinedMetricWarning: Precision and F-score are ill-defined and being set to 0.0 in labels with no predicted samples. Use `zero_division` parameter to control this behavior.\n",
            "  _warn_prf(average, modifier, msg_start, len(result))\n",
            "/usr/local/lib/python3.9/dist-packages/sklearn/metrics/_classification.py:1344: UndefinedMetricWarning: Precision and F-score are ill-defined and being set to 0.0 in labels with no predicted samples. Use `zero_division` parameter to control this behavior.\n",
            "  _warn_prf(average, modifier, msg_start, len(result))\n"
          ]
        },
        {
          "output_type": "display_data",
          "data": {
            "text/plain": [
              "<Figure size 640x480 with 2 Axes>"
            ],
            "image/png": "[encoded data removed]"
          },
          "metadata": {}
        }
      ]
    }
  ],
  "metadata": {
    "colab": {
      "provenance": [],
      "include_colab_link": true
    },
    "gpuClass": "standard",
    "kernelspec": {
      "display_name": "Python 3",
      "name": "python3"
    },
    "language_info": {
      "name": "python"
    },
    "accelerator": "GPU"
  },
  "nbformat": 4,
  "nbformat_minor": 0
}