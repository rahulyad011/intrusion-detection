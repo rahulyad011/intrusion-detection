{
  "cells": [
    {
      "cell_type": "markdown",
      "metadata": {
        "id": "view-in-github",
        "colab_type": "text"
      },
      "source": [
        "<a href=\"https://colab.research.google.com/github/rahulyad011/intrusion-detection/blob/main/intent_classification_rnn.ipynb\" target=\"_parent\"><img src=\"https://colab.research.google.com/assets/colab-badge.svg\" alt=\"Open In Colab\"/></a>"
      ]
    },
    {
      "cell_type": "markdown",
      "metadata": {
        "id": "hX4n9TsbGw-f"
      },
      "source": [
        "##### Copyright 2018 The TensorFlow Authors."
      ]
    },
    {
      "cell_type": "code",
      "execution_count": 1,
      "metadata": {
        "id": "0nbI5DtDGw-i"
      },
      "outputs": [],
      "source": [
        "#@title Licensed under the Apache License, Version 2.0 (the \"License\");\n",
        "# you may not use this file except in compliance with the License.\n",
        "# You may obtain a copy of the License at\n",
        "#\n",
        "# https://www.apache.org/licenses/LICENSE-2.0\n",
        "#\n",
        "# Unless required by applicable law or agreed to in writing, software\n",
        "# distributed under the License is distributed on an \"AS IS\" BASIS,\n",
        "# WITHOUT WARRANTIES OR CONDITIONS OF ANY KIND, either express or implied.\n",
        "# See the License for the specific language governing permissions and\n",
        "# limitations under the License."
      ]
    },
    {
      "cell_type": "markdown",
      "metadata": {
        "id": "9TnJztDZGw-n"
      },
      "source": [
        "# Text classification with an RNN"
      ]
    },
    {
      "cell_type": "markdown",
      "metadata": {
        "id": "AfN3bMR5Gw-o"
      },
      "source": [
        "<table class=\"tfo-notebook-buttons\" align=\"left\">\n",
        "  <td>\n",
        "    <a target=\"_blank\" href=\"https://www.tensorflow.org/text/tutorials/text_classification_rnn\"><img src=\"https://www.tensorflow.org/images/tf_logo_32px.png\" />View on TensorFlow.org</a>\n",
        "  </td>\n",
        "  <td>\n",
        "    <a target=\"_blank\" href=\"https://colab.research.google.com/github/tensorflow/text/blob/master/docs/tutorials/text_classification_rnn.ipynb\"><img src=\"https://www.tensorflow.org/images/colab_logo_32px.png\" />Run in Google Colab</a>\n",
        "  </td>\n",
        "  <td>\n",
        "    <a target=\"_blank\" href=\"https://github.com/tensorflow/text/blob/master/docs/tutorials/text_classification_rnn.ipynb\"><img src=\"https://www.tensorflow.org/images/GitHub-Mark-32px.png\" />View source on GitHub</a>\n",
        "  </td>\n",
        "  <td>\n",
        "    <a href=\"https://storage.googleapis.com/tensorflow_docs/text/docs/tutorials/text_classification_rnn.ipynb\"><img src=\"https://www.tensorflow.org/images/download_logo_32px.png\" />Download notebook</a>\n",
        "  </td>\n",
        "</table>"
      ]
    },
    {
      "cell_type": "markdown",
      "metadata": {
        "id": "lUWearf0Gw-p"
      },
      "source": [
        "This text classification tutorial trains a [recurrent neural network](https://developers.google.com/machine-learning/glossary/#recurrent_neural_network) on the [IMDB large movie review dataset](http://ai.stanford.edu/~amaas/data/sentiment/) for sentiment analysis."
      ]
    },
    {
      "cell_type": "markdown",
      "metadata": {
        "id": "_2VQo4bajwUU"
      },
      "source": [
        "## Setup"
      ]
    },
    {
      "cell_type": "code",
      "execution_count": 2,
      "metadata": {
        "id": "z682XYsrjkY9"
      },
      "outputs": [],
      "source": [
        "import numpy as np\n",
        "\n",
        "import tensorflow_datasets as tfds\n",
        "import tensorflow as tf\n",
        "\n",
        "tfds.disable_progress_bar()"
      ]
    },
    {
      "cell_type": "markdown",
      "metadata": {
        "id": "1rXHa-w9JZhb"
      },
      "source": [
        "Import `matplotlib` and create a helper function to plot graphs:"
      ]
    },
    {
      "cell_type": "code",
      "execution_count": 3,
      "metadata": {
        "id": "Mp1Z7P9pYRSK"
      },
      "outputs": [],
      "source": [
        "import matplotlib.pyplot as plt\n",
        "\n",
        "\n",
        "def plot_graphs(history, metric):\n",
        "  plt.plot(history.history[metric])\n",
        "  plt.plot(history.history['val_'+metric], '')\n",
        "  plt.xlabel(\"Epochs\")\n",
        "  plt.ylabel(metric)\n",
        "  plt.legend([metric, 'val_'+metric])"
      ]
    },
    {
      "cell_type": "code",
      "execution_count": 4,
      "metadata": {
        "colab": {
          "base_uri": "https://localhost:8080/"
        },
        "id": "0LuHDDf_scUt",
        "outputId": "1fa93046-f1e3-488d-fa11-1afab64cb145"
      },
      "outputs": [
        {
          "output_type": "stream",
          "name": "stdout",
          "text": [
            "Mounted at /content/drive\n"
          ]
        }
      ],
      "source": [
        "from google.colab import drive\n",
        "drive.mount('/content/drive')"
      ]
    },
    {
      "cell_type": "markdown",
      "metadata": {
        "id": "pRmMubr0jrE2"
      },
      "source": [
        "## Setup input pipeline\n",
        "\n",
        "\n",
        "The IMDB large movie review dataset is a *binary classification* dataset—all the reviews have either a *positive* or *negative* sentiment.\n",
        "\n",
        "Download the dataset using [TFDS](https://www.tensorflow.org/datasets). See the [loading text tutorial](https://www.tensorflow.org/tutorials/load_data/text) for details on how to load this sort of data manually.\n"
      ]
    },
    {
      "cell_type": "code",
      "execution_count": 5,
      "metadata": {
        "colab": {
          "base_uri": "https://localhost:8080/",
          "height": 554
        },
        "id": "OYjGIKnMsR_y",
        "outputId": "f8ac2cb9-f15e-490a-b486-724304f9453f"
      },
      "outputs": [
        {
          "output_type": "stream",
          "name": "stdout",
          "text": [
            "class 0: (265037, 5)\n",
            "class 1: (5147, 5)\n",
            "total class of 1 and0: 0    5147\n",
            "1    5147\n",
            "Name: label, dtype: int64\n",
            "(TensorSpec(shape=(), dtype=tf.string, name=None), TensorSpec(shape=(), dtype=tf.int64, name=None))\n"
          ]
        },
        {
          "output_type": "display_data",
          "data": {
            "text/plain": [
              "<Figure size 640x480 with 1 Axes>"
            ],
            "image/png": "[encoded data removed]"
          },
          "metadata": {}
        }
      ],
      "source": [
        "import pandas as pd\n",
        "# import tensorflow as tf\n",
        "\n",
        "# Load the CSV file into a Pandas DataFrame\n",
        "data = pd.read_csv('/content/drive/MyDrive/NLP_project/dataset/intent_class_dataset2')\n",
        "\n",
        "from sklearn import preprocessing\n",
        "from keras.utils import to_categorical\n",
        "label = preprocessing.LabelEncoder()\n",
        "y = label.fit_transform(data['intent'])\n",
        "data['label'] = y\n",
        "# class count\n",
        "class_count_0, class_count_1 = data['label'].value_counts()\n",
        "\n",
        "# Separate class\n",
        "class_0 = data[data['label'] == 0]\n",
        "class_1 = data[data['label'] == 1]# print the shape of the class\n",
        "print('class 0:', class_0.shape)\n",
        "print('class 1:', class_1.shape)\n",
        "class_0_under = class_0.sample(class_count_1)\n",
        "\n",
        "data = pd.concat([class_0_under, class_1], axis=0)\n",
        "\n",
        "print(\"total class of 1 and0:\",data['label'].value_counts())# plot the count after under-sampeling\n",
        "data['label'].value_counts().plot(kind='bar', title='count (target)')\n",
        "\n",
        "df = data.copy()\n",
        "# Split the DataFrame into training and testing sets\n",
        "train_df = df.sample(frac=0.8, random_state=42)\n",
        "test_df = df.drop(train_df.index)\n",
        "\n",
        "# Create a TensorFlow Dataset from the training and testing sets\n",
        "train_dataset = tf.data.Dataset.from_tensor_slices((train_df['parent'].values, train_df['label'].values))\n",
        "test_dataset = tf.data.Dataset.from_tensor_slices((test_df['parent'].values, test_df['label'].values))\n",
        "\n",
        "# Print the element spec of the training dataset\n",
        "print(train_dataset.element_spec)\n"
      ]
    },
    {
      "cell_type": "code",
      "execution_count": 6,
      "metadata": {
        "id": "SHRwRoP2nVHX"
      },
      "outputs": [],
      "source": [
        "# dataset, info = tfds.load('imdb_reviews', with_info=True,\n",
        "#                           as_supervised=True)\n",
        "# train_dataset, test_dataset = dataset['train'], dataset['test']\n",
        "\n",
        "# train_dataset.element_spec"
      ]
    },
    {
      "cell_type": "markdown",
      "metadata": {
        "id": "nWA4c2ir7g6p"
      },
      "source": [
        "Initially this returns a dataset of (text, label pairs):"
      ]
    },
    {
      "cell_type": "code",
      "execution_count": 7,
      "metadata": {
        "id": "vd4_BGKyurao",
        "colab": {
          "base_uri": "https://localhost:8080/"
        },
        "outputId": "c23e9046-4489-47e2-f7d7-130ca444dd70"
      },
      "outputs": [
        {
          "output_type": "stream",
          "name": "stdout",
          "text": [
            "text:  b'Hello, I\\xe2\\x80\\x99m current student highly interested CSPI. I\\xe2\\x80\\x99m currently working meeting weight requirements (max height 202, I\\xe2\\x80\\x99m 210) putting application. However, two main questions. 1. time application 85 credits complete, working another 12. would 5 credits short academically senior. However, due change major second year, 2 years following summer semester. Would academic credits close senior cause problems application? know scholarship sophomores juniors, want check won\\xe2\\x80\\x99t issue. 2. chosen CSPI, point monthly payment begin (base+BAH). Would begin shortly getting scholarship, begin boot camp following summer. I\\xe2\\x80\\x99m guessing later wasn\\xe2\\x80\\x99t sure couldn\\xe2\\x80\\x99t find answer online.'\n",
            "label:  1\n"
          ]
        }
      ],
      "source": [
        "for example, label in train_dataset.take(1):\n",
        "  print('text: ', example.numpy())\n",
        "  print('label: ', label.numpy())"
      ]
    },
    {
      "cell_type": "markdown",
      "metadata": {
        "id": "z2qVJzcEluH_"
      },
      "source": [
        "Next shuffle the data for training and create batches of these `(text, label)` pairs:"
      ]
    },
    {
      "cell_type": "code",
      "execution_count": 8,
      "metadata": {
        "id": "dDsCaZCDYZgm"
      },
      "outputs": [],
      "source": [
        "BUFFER_SIZE = 10000\n",
        "BATCH_SIZE = 64"
      ]
    },
    {
      "cell_type": "code",
      "execution_count": 9,
      "metadata": {
        "id": "VznrltNOnUc5"
      },
      "outputs": [],
      "source": [
        "train_dataset = train_dataset.shuffle(BUFFER_SIZE).batch(BATCH_SIZE).prefetch(tf.data.AUTOTUNE)\n",
        "test_dataset = test_dataset.batch(BATCH_SIZE).prefetch(tf.data.AUTOTUNE)"
      ]
    },
    {
      "cell_type": "code",
      "execution_count": 10,
      "metadata": {
        "id": "jqkvdcFv41wC",
        "colab": {
          "base_uri": "https://localhost:8080/"
        },
        "outputId": "6ae6671f-aea9-48dc-cd92-1791a8c99055"
      },
      "outputs": [
        {
          "output_type": "stream",
          "name": "stdout",
          "text": [
            "texts:  [b'I had a good day took a final so now i have one left!'\n",
            " b'What would you talk about if you had to give a Ted talk?'\n",
            " b'Hello reddit community! I\\'m applying fall hopefully start fall 2020. course, I\\'m anxious application. took LSAT scored 162 scheduled take again, although I\\'m nervous testing anxiety. GPA 3.5 \"good\" liberal arts college. dream school/reach would Georgetown targets Fordham, George Washington, Minnesota, maybe BC/BU. know numbers bit low these...BUT Qs have, I\\'m wondering factors might help respect? 1. able pay \"full sticker price,\" loans, financial aid whatsoever, etc, helpful? know shitty question, unfortunately live world sometimes, simply able pay may--or may not--give advantage. know rare able pay full sticker price upfront, feel strange position. Yet question remains: able afford law school--upfront entirety-- \"plus\" eyes admissions officers (who may otherwise calculating much limited scholarship/FA money give candidates)? Again, sorry advance shitty question, asking rules game.:/ 2. Peace Corps service actually help admissions?! online research says like softs, basically matter, matter soft. anyone know 27-month service Botswana might afford even 1 2 points LSAT? also decent internships history NCAA D1 athlete. Thanks advance!!! :)))']\n",
            "\n",
            "labels:  [0 0 1]\n"
          ]
        }
      ],
      "source": [
        "for example, label in train_dataset.take(1):\n",
        "  print('texts: ', example.numpy()[:3])\n",
        "  print()\n",
        "  print('labels: ', label.numpy()[:3])"
      ]
    },
    {
      "cell_type": "markdown",
      "metadata": {
        "id": "s5eWCo88voPY"
      },
      "source": [
        "## Create the text encoder"
      ]
    },
    {
      "cell_type": "markdown",
      "metadata": {
        "id": "TFevcItw15P_"
      },
      "source": [
        "The raw text loaded by `tfds` needs to be processed before it can be used in a model. The simplest way to process text for training is using the `TextVectorization` layer. This layer has many capabilities, but this tutorial sticks to the default behavior.\n",
        "\n",
        "Create the layer, and pass the dataset's text to the layer's `.adapt` method:"
      ]
    },
    {
      "cell_type": "code",
      "execution_count": 11,
      "metadata": {
        "id": "uC25Lu1Yvuqy"
      },
      "outputs": [],
      "source": [
        "VOCAB_SIZE = 1000\n",
        "encoder = tf.keras.layers.TextVectorization(\n",
        "    max_tokens=VOCAB_SIZE)\n",
        "encoder.adapt(train_dataset.map(lambda text, label: text))"
      ]
    },
    {
      "cell_type": "markdown",
      "metadata": {
        "id": "IuQzVBbe3Ldu"
      },
      "source": [
        "The `.adapt` method sets the layer's vocabulary. Here are the first 20 tokens. After the padding and unknown tokens they're sorted by frequency: "
      ]
    },
    {
      "cell_type": "code",
      "execution_count": 12,
      "metadata": {
        "id": "tBoyjjWg0Ac9",
        "colab": {
          "base_uri": "https://localhost:8080/"
        },
        "outputId": "74c0e9d9-6c03-40b7-cc53-8a57a3012d63"
      },
      "outputs": [
        {
          "output_type": "execute_result",
          "data": {
            "text/plain": [
              "array(['', '[UNK]', 'market', 'like', 'im', 'would', 'one', 'get', 'time',\n",
              "       'it', 'also', 'ampx200b', 'revenue', '2', 'the', 'i', '3', 'know',\n",
              "       'want', 'people'], dtype='<U28')"
            ]
          },
          "metadata": {},
          "execution_count": 12
        }
      ],
      "source": [
        "vocab = np.array(encoder.get_vocabulary())\n",
        "vocab[:20]"
      ]
    },
    {
      "cell_type": "markdown",
      "metadata": {
        "id": "mjId5pua3jHQ"
      },
      "source": [
        "Once the vocabulary is set, the layer can encode text into indices. The tensors of indices are 0-padded to the longest sequence in the batch (unless you set a fixed `output_sequence_length`):"
      ]
    },
    {
      "cell_type": "code",
      "execution_count": 13,
      "metadata": {
        "id": "RGc7C9WiwRWs",
        "colab": {
          "base_uri": "https://localhost:8080/"
        },
        "outputId": "9c555925-44b7-4b32-cf72-21af6aee49b6"
      },
      "outputs": [
        {
          "output_type": "execute_result",
          "data": {
            "text/plain": [
              "array([[ 15, 882,  46, ...,   0,   0,   0],\n",
              "       [254,   5,  26, ...,   0,   0,   0],\n",
              "       [554,   1, 655, ...,   0,   0,   0]])"
            ]
          },
          "metadata": {},
          "execution_count": 13
        }
      ],
      "source": [
        "encoded_example = encoder(example)[:3].numpy()\n",
        "encoded_example"
      ]
    },
    {
      "cell_type": "markdown",
      "metadata": {
        "id": "F5cjz0bS39IN"
      },
      "source": [
        "With the default settings, the process is not completely reversible. There are three main reasons for that:\n",
        "\n",
        "1. The default value for `preprocessing.TextVectorization`'s `standardize` argument is `\"lower_and_strip_punctuation\"`.\n",
        "2. The limited vocabulary size and lack of character-based fallback results in some unknown tokens."
      ]
    },
    {
      "cell_type": "code",
      "execution_count": 14,
      "metadata": {
        "id": "N_tD0QY5wXaK",
        "colab": {
          "base_uri": "https://localhost:8080/"
        },
        "outputId": "621cdbd5-6ea7-4575-ff13-1be9328d49cf"
      },
      "outputs": [
        {
          "output_type": "stream",
          "name": "stdout",
          "text": [
            "Original:  b'I had a good day took a final so now i have one left!'\n",
            "Round-trip:  i had a good day took a final so now i have one left                                                                                                                                                                                                                                                                                                                                                                                                                                                                                                                                                                                                                                                                                                                                                                                                                                                                                                                                                                                                                                                                                                                                                                                                                                                                                                                                                                                                                                                                                                                                                                                                                                                                                                                                                                                                                                                                                                                                                                                                                                                                                                                                                                                                                                 \n",
            "\n",
            "Original:  b'What would you talk about if you had to give a Ted talk?'\n",
            "Round-trip:  what would you talk about if you had to give a [UNK] talk                                                                                                                                                                                                                                                                                                                                                                                                                                                                                                                                                                                                                                                                                                                                                                                                                                                                                                                                                                                                                                                                                                                                                                                                                                                                                                                                                                                                                                                                                                                                                                                                                                                                                                                                                                                                                                                                                                                                                                                                                                                                                                                                                                                                                                  \n",
            "\n",
            "Original:  b'Hello reddit community! I\\'m applying fall hopefully start fall 2020. course, I\\'m anxious application. took LSAT scored 162 scheduled take again, although I\\'m nervous testing anxiety. GPA 3.5 \"good\" liberal arts college. dream school/reach would Georgetown targets Fordham, George Washington, Minnesota, maybe BC/BU. know numbers bit low these...BUT Qs have, I\\'m wondering factors might help respect? 1. able pay \"full sticker price,\" loans, financial aid whatsoever, etc, helpful? know shitty question, unfortunately live world sometimes, simply able pay may--or may not--give advantage. know rare able pay full sticker price upfront, feel strange position. Yet question remains: able afford law school--upfront entirety-- \"plus\" eyes admissions officers (who may otherwise calculating much limited scholarship/FA money give candidates)? Again, sorry advance shitty question, asking rules game.:/ 2. Peace Corps service actually help admissions?! online research says like softs, basically matter, matter soft. anyone know 27-month service Botswana might afford even 1 2 points LSAT? also decent internships history NCAA D1 athlete. Thanks advance!!! :)))'\n",
            "Round-trip:  hello [UNK] community im [UNK] fall [UNK] start fall [UNK] course im [UNK] application took [UNK] [UNK] [UNK] [UNK] take again although im [UNK] testing anxiety [UNK] [UNK] good [UNK] [UNK] college [UNK] [UNK] would [UNK] [UNK] [UNK] [UNK] [UNK] [UNK] maybe [UNK] know [UNK] bit low [UNK] [UNK] have im [UNK] factors might help [UNK] 1 able pay full [UNK] price [UNK] financial aid [UNK] etc [UNK] know [UNK] question [UNK] live world sometimes simply able pay [UNK] may [UNK] [UNK] know [UNK] able pay full [UNK] price [UNK] feel [UNK] [UNK] yet question [UNK] able [UNK] law [UNK] [UNK] plus eyes [UNK] [UNK] [UNK] may [UNK] [UNK] much [UNK] [UNK] money give [UNK] again sorry [UNK] [UNK] question [UNK] rules game 2 [UNK] [UNK] service actually help [UNK] online research says like [UNK] basically matter matter [UNK] anyone know [UNK] service [UNK] might [UNK] even 1 2 [UNK] [UNK] also [UNK] [UNK] history [UNK] [UNK] [UNK] thanks [UNK]                                                                                                                                                                                                                                                                                                                                                                                                                                                                                                                                                                                                                                                                                                                                                                                                                                                                                                                                                                                                                                                                                                                                                                                                                                                                                                                                                                                                                                                                                                                                                                                                                                                                                                                                                                                                                                                                                                                                                                                                                                                                               \n",
            "\n"
          ]
        }
      ],
      "source": [
        "for n in range(3):\n",
        "  print(\"Original: \", example[n].numpy())\n",
        "  print(\"Round-trip: \", \" \".join(vocab[encoded_example[n]]))\n",
        "  print()"
      ]
    },
    {
      "cell_type": "markdown",
      "metadata": {
        "id": "bjUqGVBxGw-t"
      },
      "source": [
        "## Create the model"
      ]
    },
    {
      "cell_type": "markdown",
      "metadata": {
        "id": "W7zsmInBOCPO"
      },
      "source": [
        "![A drawing of the information flow in the model](https://github.com/tensorflow/text/blob/master/docs/tutorials/images/bidirectional.png?raw=1)"
      ]
    },
    {
      "cell_type": "markdown",
      "metadata": {
        "id": "bgs6nnSTGw-t"
      },
      "source": [
        "Above is a diagram of the model. \n",
        "\n",
        "1. This model can be build as a `tf.keras.Sequential`.\n",
        "\n",
        "2. The first layer is the `encoder`, which converts the text to a sequence of token indices.\n",
        "\n",
        "3. After the encoder is an embedding layer. An embedding layer stores one vector per word. When called, it converts the sequences of word indices to sequences of vectors. These vectors are trainable. After training (on enough data), words with similar meanings often have similar vectors.\n",
        "\n",
        "  This index-lookup is much more efficient than the equivalent operation of passing a one-hot encoded vector through a `tf.keras.layers.Dense` layer.\n",
        "\n",
        "4. A recurrent neural network (RNN) processes sequence input by iterating through the elements. RNNs pass the outputs from one timestep to their input on the next timestep.\n",
        "\n",
        "  The `tf.keras.layers.Bidirectional` wrapper can also be used with an RNN layer. This propagates the input forward and backwards through the RNN layer and then concatenates the final output. \n",
        "\n",
        "  * The main advantage of a bidirectional RNN is that the signal from the beginning of the input doesn't need to be processed all the way through every timestep to affect the output.  \n",
        "\n",
        "  * The main disadvantage of a bidirectional RNN is that you can't efficiently stream predictions as words are being added to the end.\n",
        "\n",
        "5. After the RNN has converted the sequence to a single vector the two `layers.Dense` do some final processing, and convert from this vector representation to a single logit as the classification output. \n"
      ]
    },
    {
      "cell_type": "markdown",
      "metadata": {
        "id": "V4fodCI7soQi"
      },
      "source": [
        "The code to implement this is below:"
      ]
    },
    {
      "cell_type": "code",
      "execution_count": 15,
      "metadata": {
        "id": "LwfoBkmRYcP3"
      },
      "outputs": [],
      "source": [
        "model = tf.keras.Sequential([\n",
        "    encoder,\n",
        "    tf.keras.layers.Embedding(\n",
        "        input_dim=len(encoder.get_vocabulary()),\n",
        "        output_dim=64,\n",
        "        # Use masking to handle the variable sequence lengths\n",
        "        mask_zero=True),\n",
        "    tf.keras.layers.Bidirectional(tf.keras.layers.LSTM(64)),\n",
        "    tf.keras.layers.Dense(64, activation='relu'),\n",
        "    tf.keras.layers.Dense(1)\n",
        "])"
      ]
    },
    {
      "cell_type": "markdown",
      "metadata": {
        "id": "QIGmIGkkouUb"
      },
      "source": [
        "Please note that Keras sequential model is used here since all the layers in the model only have single input and produce single output. In case you want to use stateful RNN layer, you might want to build your model with Keras functional API or model subclassing so that you can retrieve and reuse the RNN layer states. Please check [Keras RNN guide](https://www.tensorflow.org/guide/keras/rnn#rnn_state_reuse) for more details."
      ]
    },
    {
      "cell_type": "markdown",
      "metadata": {
        "id": "kF-PsCk1LwjY"
      },
      "source": [
        "The embedding layer [uses masking](https://www.tensorflow.org/guide/keras/masking_and_padding) to handle the varying sequence-lengths. All the layers after the `Embedding` support masking:"
      ]
    },
    {
      "cell_type": "code",
      "execution_count": 16,
      "metadata": {
        "id": "87a8-CwfKebw",
        "colab": {
          "base_uri": "https://localhost:8080/"
        },
        "outputId": "8e8c361b-cc64-4651-aa04-ed8f84c9e90d"
      },
      "outputs": [
        {
          "output_type": "stream",
          "name": "stdout",
          "text": [
            "[False, True, True, True, True]\n"
          ]
        }
      ],
      "source": [
        "print([layer.supports_masking for layer in model.layers])"
      ]
    },
    {
      "cell_type": "markdown",
      "metadata": {
        "id": "ZlS0iaUIWLpI"
      },
      "source": [
        "To confirm that this works as expected, evaluate a sentence twice. First, alone so there's no padding to mask:"
      ]
    },
    {
      "cell_type": "code",
      "execution_count": 17,
      "metadata": {
        "id": "O41gw3KfWHus",
        "colab": {
          "base_uri": "https://localhost:8080/"
        },
        "outputId": "e021c2d7-08e9-4264-eeea-6f1c4b37e5c7"
      },
      "outputs": [
        {
          "output_type": "stream",
          "name": "stdout",
          "text": [
            "1/1 [==============================] - 7s 7s/step\n",
            "[0.00805652]\n"
          ]
        }
      ],
      "source": [
        "# predict on a sample text without padding.\n",
        "\n",
        "sample_text = ('The movie was cool. The animation and the graphics '\n",
        "               'were out of this world. I would recommend this movie.')\n",
        "predictions = model.predict(np.array([sample_text]))\n",
        "print(predictions[0])"
      ]
    },
    {
      "cell_type": "markdown",
      "metadata": {
        "id": "K0VQmGnEWcuz"
      },
      "source": [
        "Now, evaluate it again in a batch with a longer sentence. The result should be identical:"
      ]
    },
    {
      "cell_type": "code",
      "execution_count": 18,
      "metadata": {
        "id": "UIgpuTeFNDzq",
        "colab": {
          "base_uri": "https://localhost:8080/"
        },
        "outputId": "1ddd8ecc-6270-4d19-d23c-46492b22c074"
      },
      "outputs": [
        {
          "output_type": "stream",
          "name": "stdout",
          "text": [
            "1/1 [==============================] - 0s 65ms/step\n",
            "[0.00805652]\n"
          ]
        }
      ],
      "source": [
        "# predict on a sample text with padding\n",
        "\n",
        "padding = \"the \" * 2000\n",
        "predictions = model.predict(np.array([sample_text, padding]))\n",
        "print(predictions[0])"
      ]
    },
    {
      "cell_type": "markdown",
      "metadata": {
        "id": "sRI776ZcH3Tf"
      },
      "source": [
        "Compile the Keras model to configure the training process:"
      ]
    },
    {
      "cell_type": "code",
      "execution_count": 19,
      "metadata": {
        "id": "kj2xei41YZjC"
      },
      "outputs": [],
      "source": [
        "model.compile(loss=tf.keras.losses.BinaryCrossentropy(from_logits=True),\n",
        "              optimizer=tf.keras.optimizers.Adam(1e-4),\n",
        "              metrics=['accuracy'])"
      ]
    },
    {
      "cell_type": "markdown",
      "metadata": {
        "id": "zIwH3nto596k"
      },
      "source": [
        "## Train the model"
      ]
    },
    {
      "cell_type": "code",
      "execution_count": 20,
      "metadata": {
        "id": "hw86wWS4YgR2",
        "colab": {
          "base_uri": "https://localhost:8080/"
        },
        "outputId": "b07689a0-f86c-4fd4-964f-40a3ea66b8ca"
      },
      "outputs": [
        {
          "output_type": "stream",
          "name": "stdout",
          "text": [
            "Epoch 1/5\n",
            "129/129 [==============================] - 90s 616ms/step - loss: 0.5748 - accuracy: 0.6860 - val_loss: 0.3710 - val_accuracy: 0.9490\n",
            "Epoch 2/5\n",
            "129/129 [==============================] - 46s 360ms/step - loss: 0.2512 - accuracy: 0.9627 - val_loss: 0.1717 - val_accuracy: 0.9630\n",
            "Epoch 3/5\n",
            "129/129 [==============================] - 66s 517ms/step - loss: 0.1150 - accuracy: 0.9750 - val_loss: 0.0914 - val_accuracy: 0.9745\n",
            "Epoch 4/5\n",
            "129/129 [==============================] - 59s 462ms/step - loss: 0.0865 - accuracy: 0.9817 - val_loss: 0.2752 - val_accuracy: 0.9563\n",
            "Epoch 5/5\n",
            "129/129 [==============================] - 62s 480ms/step - loss: 0.0676 - accuracy: 0.9834 - val_loss: 0.0565 - val_accuracy: 0.9802\n"
          ]
        }
      ],
      "source": [
        "history = model.fit(train_dataset, epochs=5,\n",
        "                    validation_data=test_dataset,\n",
        "                    validation_steps=30)"
      ]
    },
    {
      "cell_type": "code",
      "source": [
        "model.save('/content/drive/MyDrive/NLP_project/models/seq_model')"
      ],
      "metadata": {
        "id": "H-OuwF111wLg",
        "colab": {
          "base_uri": "https://localhost:8080/"
        },
        "outputId": "3b52620d-f60a-4065-e3be-15f38a97b9dd"
      },
      "execution_count": 21,
      "outputs": [
        {
          "output_type": "stream",
          "name": "stderr",
          "text": [
            "WARNING:absl:Found untraced functions such as lstm_cell_1_layer_call_fn, lstm_cell_1_layer_call_and_return_conditional_losses, lstm_cell_2_layer_call_fn, lstm_cell_2_layer_call_and_return_conditional_losses while saving (showing 4 of 4). These functions will not be directly callable after loading.\n"
          ]
        }
      ]
    },
    {
      "cell_type": "code",
      "source": [
        "# It can be used to reconstruct the model identically.\n",
        "model = tf.keras.models.load_model(\"/content/drive/MyDrive/NLP_project/models/seq_model\")\n",
        "\n",
        "# # Let's check:\n",
        "# np.testing.assert_allclose(\n",
        "#     model.predict(test_dataset), model.predict(test_dataset)\n",
        "# )\n",
        "\n",
        "# The reconstructed model is already compiled and has retained the optimizer\n",
        "# state, so training can resume:\n",
        "# reconstructed_model.fit(test_dataset, test_target)"
      ],
      "metadata": {
        "id": "aYuTyITz24bl"
      },
      "execution_count": 22,
      "outputs": []
    },
    {
      "cell_type": "code",
      "execution_count": 23,
      "metadata": {
        "id": "BaNbXi43YgUT",
        "colab": {
          "base_uri": "https://localhost:8080/"
        },
        "outputId": "e0fd64fb-81df-4a33-b97e-99db8ed767cf"
      },
      "outputs": [
        {
          "output_type": "stream",
          "name": "stdout",
          "text": [
            "33/33 [==============================] - 5s 27ms/step - loss: 0.0534 - accuracy: 0.9806\n",
            "Test Loss: 0.05335146561264992\n",
            "Test Accuracy: 0.9805731177330017\n"
          ]
        }
      ],
      "source": [
        "test_loss, test_acc = model.evaluate(test_dataset)\n",
        "\n",
        "print('Test Loss:', test_loss)\n",
        "print('Test Accuracy:', test_acc)"
      ]
    },
    {
      "cell_type": "code",
      "execution_count": 24,
      "metadata": {
        "id": "OZmwt_mzaQJk",
        "colab": {
          "base_uri": "https://localhost:8080/",
          "height": 706
        },
        "outputId": "39df043e-a31e-4351-e205-fbe79fef52e3"
      },
      "outputs": [
        {
          "output_type": "execute_result",
          "data": {
            "text/plain": [
              "(0.0, 0.6006741529330611)"
            ]
          },
          "metadata": {},
          "execution_count": 24
        },
        {
          "output_type": "display_data",
          "data": {
            "text/plain": [
              "<Figure size 1600x800 with 2 Axes>"
            ],
            "image/png": "[encoded data removed]"
          },
          "metadata": {}
        }
      ],
      "source": [
        "plt.figure(figsize=(16, 8))\n",
        "plt.subplot(1, 2, 1)\n",
        "plot_graphs(history, 'accuracy')\n",
        "plt.ylim(None, 1)\n",
        "plt.subplot(1, 2, 2)\n",
        "plot_graphs(history, 'loss')\n",
        "plt.ylim(0, None)"
      ]
    },
    {
      "cell_type": "markdown",
      "metadata": {
        "id": "DwSE_386uhxD"
      },
      "source": [
        "Run a prediction on a new sentence:\n",
        "\n",
        "If the prediction is >= 0.0, it is positive else it is negative."
      ]
    },
    {
      "cell_type": "code",
      "execution_count": 25,
      "metadata": {
        "id": "ZXgfQSgRW6zU",
        "colab": {
          "base_uri": "https://localhost:8080/"
        },
        "outputId": "c34cf33d-7e7a-42da-f162-be99bbf4e540"
      },
      "outputs": [
        {
          "output_type": "stream",
          "name": "stdout",
          "text": [
            "1/1 [==============================] - 2s 2s/step\n",
            "[[-5.944252]]\n"
          ]
        }
      ],
      "source": [
        "#chitchat sample class =0\n",
        "sample_text = ('No, Its just adjusting to a time change')\n",
        "predictions = model.predict(np.array([sample_text]))\n",
        "print(predictions)"
      ]
    },
    {
      "cell_type": "code",
      "source": [
        "#reddit sample class =1\n",
        "sample_text = ('Ive havng Otter Pops mpre often starting become summer, ive always wondered liquid pop would always kind \"freeze\" flick it. (Well, like slush-consistency). really interesting, want know.')\n",
        "predictions = model.predict(np.array([sample_text]))\n",
        "print(predictions)"
      ],
      "metadata": {
        "id": "6sOQlwQHBl-c",
        "colab": {
          "base_uri": "https://localhost:8080/"
        },
        "outputId": "d0c993f0-40d2-4220-8ece-39399c8f34ad"
      },
      "execution_count": 26,
      "outputs": [
        {
          "output_type": "stream",
          "name": "stdout",
          "text": [
            "1/1 [==============================] - 0s 22ms/step\n",
            "[[12.189636]]\n"
          ]
        }
      ]
    },
    {
      "cell_type": "markdown",
      "metadata": {
        "id": "7g1evcaRpTKm"
      },
      "source": [
        "## Stack two or more LSTM layers\n",
        "\n",
        "Keras recurrent layers have two available modes that are controlled by the `return_sequences` constructor argument:\n",
        "\n",
        "* If `False` it returns only the last output for each input sequence (a 2D tensor of shape (batch_size, output_features)). This is the default, used in the previous model.\n",
        "\n",
        "* If `True` the full sequences of successive outputs for each timestep is returned (a 3D tensor of shape `(batch_size, timesteps, output_features)`).\n",
        "\n",
        "Here is what the flow of information looks like with `return_sequences=True`:\n",
        "\n",
        "![layered_bidirectional](https://github.com/tensorflow/text/blob/master/docs/tutorials/images/layered_bidirectional.png?raw=1)"
      ]
    },
    {
      "cell_type": "markdown",
      "metadata": {
        "id": "wbSClCrG1z8l"
      },
      "source": [
        "The interesting thing about using an `RNN` with `return_sequences=True` is that the output still has 3-axes, like the input, so it can be passed to another RNN layer, like this:"
      ]
    },
    {
      "cell_type": "code",
      "execution_count": 27,
      "metadata": {
        "id": "jo1jjO3vn0jo"
      },
      "outputs": [],
      "source": [
        "model = tf.keras.Sequential([\n",
        "    encoder,\n",
        "    tf.keras.layers.Embedding(len(encoder.get_vocabulary()), 64, mask_zero=True),\n",
        "    tf.keras.layers.Bidirectional(tf.keras.layers.LSTM(64,  return_sequences=True)),\n",
        "    tf.keras.layers.Bidirectional(tf.keras.layers.LSTM(32)),\n",
        "    tf.keras.layers.Dense(64, activation='relu'),\n",
        "    tf.keras.layers.Dropout(0.5),\n",
        "    tf.keras.layers.Dense(1)\n",
        "])"
      ]
    },
    {
      "cell_type": "code",
      "execution_count": 28,
      "metadata": {
        "id": "hEPV5jVGp-is"
      },
      "outputs": [],
      "source": [
        "model.compile(loss=tf.keras.losses.BinaryCrossentropy(from_logits=True),\n",
        "              optimizer=tf.keras.optimizers.Adam(1e-4),\n",
        "              metrics=['accuracy'])"
      ]
    },
    {
      "cell_type": "code",
      "execution_count": 29,
      "metadata": {
        "id": "LeSE-YjdqAeN",
        "colab": {
          "base_uri": "https://localhost:8080/"
        },
        "outputId": "f8e64c36-54f8-46e7-e6ab-efcdacb31753"
      },
      "outputs": [
        {
          "output_type": "stream",
          "name": "stdout",
          "text": [
            "Epoch 1/5\n",
            "129/129 [==============================] - 139s 925ms/step - loss: 0.5808 - accuracy: 0.6869 - val_loss: 0.3831 - val_accuracy: 0.9474\n",
            "Epoch 2/5\n",
            "129/129 [==============================] - 99s 775ms/step - loss: 0.2440 - accuracy: 0.9596 - val_loss: 0.1418 - val_accuracy: 0.9729\n",
            "Epoch 3/5\n",
            "129/129 [==============================] - 66s 511ms/step - loss: 0.1047 - accuracy: 0.9787 - val_loss: 0.0826 - val_accuracy: 0.9776\n",
            "Epoch 4/5\n",
            "129/129 [==============================] - 112s 876ms/step - loss: 0.0683 - accuracy: 0.9848 - val_loss: 0.0625 - val_accuracy: 0.9828\n",
            "Epoch 5/5\n",
            "129/129 [==============================] - 112s 656ms/step - loss: 0.0512 - accuracy: 0.9887 - val_loss: 0.0515 - val_accuracy: 0.9849\n"
          ]
        }
      ],
      "source": [
        "history = model.fit(train_dataset, epochs=5,\n",
        "                    validation_data=test_dataset,\n",
        "                    validation_steps=30)"
      ]
    },
    {
      "cell_type": "code",
      "source": [
        "model.save('/content/drive/MyDrive/NLP_project/models/seq_model2')"
      ],
      "metadata": {
        "id": "YTdqppyp4ugC",
        "colab": {
          "base_uri": "https://localhost:8080/"
        },
        "outputId": "1124bbdd-8933-4234-936c-b41b584c99dc"
      },
      "execution_count": 30,
      "outputs": [
        {
          "output_type": "stream",
          "name": "stderr",
          "text": [
            "WARNING:absl:Found untraced functions such as lstm_cell_7_layer_call_fn, lstm_cell_7_layer_call_and_return_conditional_losses, lstm_cell_8_layer_call_fn, lstm_cell_8_layer_call_and_return_conditional_losses, lstm_cell_10_layer_call_fn while saving (showing 5 of 8). These functions will not be directly callable after loading.\n"
          ]
        }
      ]
    },
    {
      "cell_type": "code",
      "source": [],
      "metadata": {
        "id": "g42v0B6A4viw"
      },
      "execution_count": 30,
      "outputs": []
    },
    {
      "cell_type": "code",
      "execution_count": 31,
      "metadata": {
        "id": "_LdwilM1qPM3",
        "colab": {
          "base_uri": "https://localhost:8080/"
        },
        "outputId": "d6886c3c-ecf2-4d05-e1e4-ad046b7c9d4b"
      },
      "outputs": [
        {
          "output_type": "stream",
          "name": "stdout",
          "text": [
            "33/33 [==============================] - 2s 53ms/step - loss: 0.0485 - accuracy: 0.9859\n",
            "Test Loss: 0.04845498502254486\n",
            "Test Accuracy: 0.98591548204422\n"
          ]
        }
      ],
      "source": [
        "test_loss, test_acc = model.evaluate(test_dataset)\n",
        "\n",
        "print('Test Loss:', test_loss)\n",
        "print('Test Accuracy:', test_acc)"
      ]
    },
    {
      "cell_type": "code",
      "execution_count": 32,
      "metadata": {
        "id": "ykUKnAoqbycW",
        "colab": {
          "base_uri": "https://localhost:8080/"
        },
        "outputId": "3d854237-98b9-444f-deed-888ba4df2749"
      },
      "outputs": [
        {
          "output_type": "stream",
          "name": "stdout",
          "text": [
            "1/1 [==============================] - 5s 5s/step\n",
            "[[-9.279817]]\n"
          ]
        }
      ],
      "source": [
        "# predict on a sample text without padding.\n",
        "\n",
        "#chitchat sample\n",
        "sample_text = ('No, Its just adjusting to a time change')\n",
        "predictions = model.predict(np.array([sample_text]))\n",
        "print(predictions)"
      ]
    },
    {
      "cell_type": "code",
      "source": [
        "# predict on a sample text without padding.\n",
        "\n",
        "#reddit sample\n",
        "sample_text = ('Ive havng Otter Pops mpre often starting become summer, ive always wondered liquid pop would always kind \"freeze\" flick it. (Well, like slush-consistency). really interesting, want know.')\n",
        "predictions = model.predict(np.array([sample_text]))\n",
        "print(predictions)"
      ],
      "metadata": {
        "id": "EdeJfxJr8cZh",
        "colab": {
          "base_uri": "https://localhost:8080/"
        },
        "outputId": "69bab0f9-7962-4723-8632-7b4e27c79461"
      },
      "execution_count": 33,
      "outputs": [
        {
          "output_type": "stream",
          "name": "stdout",
          "text": [
            "1/1 [==============================] - 0s 23ms/step\n",
            "[[9.518548]]\n"
          ]
        }
      ]
    },
    {
      "cell_type": "code",
      "execution_count": 34,
      "metadata": {
        "id": "_YYub0EDtwCu",
        "colab": {
          "base_uri": "https://localhost:8080/",
          "height": 532
        },
        "outputId": "f72e9abe-bd1d-47fd-eac2-e774c3f85721"
      },
      "outputs": [
        {
          "output_type": "display_data",
          "data": {
            "text/plain": [
              "<Figure size 1600x600 with 2 Axes>"
            ],
            "image/png": "[encoded data removed]"
          },
          "metadata": {}
        }
      ],
      "source": [
        "plt.figure(figsize=(16, 6))\n",
        "plt.subplot(1, 2, 1)\n",
        "plot_graphs(history, 'accuracy')\n",
        "plt.subplot(1, 2, 2)\n",
        "plot_graphs(history, 'loss')"
      ]
    },
    {
      "cell_type": "markdown",
      "metadata": {
        "id": "9xvpE3BaGw_V"
      },
      "source": [
        "Check out other existing recurrent layers such as [GRU layers](https://www.tensorflow.org/api_docs/python/tf/keras/layers/GRU).\n",
        "\n",
        "If you're interested in building custom RNNs, see the [Keras RNN Guide](https://www.tensorflow.org/guide/keras/rnn).\n"
      ]
    }
  ],
  "metadata": {
    "accelerator": "GPU",
    "colab": {
      "provenance": [],
      "include_colab_link": true
    },
    "kernelspec": {
      "display_name": "Python 3",
      "name": "python3"
    }
  },
  "nbformat": 4,
  "nbformat_minor": 0
}