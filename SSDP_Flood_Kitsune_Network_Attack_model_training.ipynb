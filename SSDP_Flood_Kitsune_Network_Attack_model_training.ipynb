{
  "cells": [
    {
      "cell_type": "markdown",
      "metadata": {
        "id": "view-in-github",
        "colab_type": "text"
      },
      "source": [
        "<a href=\"https://colab.research.google.com/github/rahulyad011/intrusion-detection/blob/main/SSDP_Flood_Kitsune_Network_Attack_model_training.ipynb\" target=\"_parent\"><img src=\"https://colab.research.google.com/assets/colab-badge.svg\" alt=\"Open In Colab\"/></a>"
      ]
    },
    {
      "cell_type": "code",
      "execution_count": 91,
      "metadata": {
        "id": "qXQ8rUmdwaf4"
      },
      "outputs": [],
      "source": [
        "\n",
        "from sklearn.metrics import accuracy_score # for calculating accuracy of model\n",
        "from sklearn.model_selection import train_test_split # for splitting the dataset for training and testing\n",
        "from sklearn.metrics import classification_report # for generating a classification report of model\n",
        "import pickle # saving and loading trained model\n",
        "from os import path\n",
        "import numpy as np\n",
        "import pandas as pd\n",
        "import matplotlib.pyplot as plt\n",
        "\n",
        "# importing library for support vector machine classifier\n",
        "from sklearn.svm import SVC\n",
        "\n",
        "# MLP requirements \n",
        "from keras.layers import Dense # importing dense layer\n",
        "from keras.models import Sequential #importing Sequential layer\n",
        "from keras.models import model_from_json # saving and loading trained model\n",
        "\n",
        "# LSTM requirements \n",
        "from keras.layers import LSTM\n",
        "from keras.layers import Input\n",
        "from keras.models import Model\n",
        "\n",
        "# evaluation metrices\n",
        "from sklearn.metrics import classification_report, confusion_matrix\n",
        "from sklearn.metrics import roc_auc_score\n",
        "from sklearn.metrics import roc_curve, auc\n",
        "from sklearn.metrics import precision_score\n",
        "from sklearn.metrics import recall_score\n",
        "from sklearn.metrics import f1_score\n",
        "from sklearn.metrics import det_curve\n",
        "\n",
        "# representation of model layers\n",
        "from keras.utils.vis_utils import plot_model"
      ]
    },
    {
      "cell_type": "code",
      "source": [
        "from google.colab import drive\n",
        "drive.mount('/content/drive')"
      ],
      "metadata": {
        "colab": {
          "base_uri": "https://localhost:8080/"
        },
        "id": "DBCkPmpEjFSf",
        "outputId": "53b3eb30-5a58-48b5-91b2-7185dbb9d075"
      },
      "execution_count": 92,
      "outputs": [
        {
          "output_type": "stream",
          "name": "stdout",
          "text": [
            "Drive already mounted at /content/drive; to attempt to forcibly remount, call drive.mount(\"/content/drive\", force_remount=True).\n"
          ]
        }
      ]
    },
    {
      "cell_type": "code",
      "execution_count": 93,
      "metadata": {
        "colab": {
          "base_uri": "https://localhost:8080/",
          "height": 505
        },
        "id": "Pepa9lW8whHh",
        "outputId": "8998cb7d-5466-4916-8072-3a82f062b0f2"
      },
      "outputs": [
        {
          "output_type": "execute_result",
          "data": {
            "text/plain": [
              "                X1           X2            X3            X4           X5  \\\n",
              "0        63.593001  1409.273115  2.877740e+04    101.582531  1407.914397   \n",
              "1        33.567444   744.413016  4.039852e+05     61.758196   735.835298   \n",
              "2        69.791455   739.279220  4.266278e+05    126.425891   738.767114   \n",
              "3       155.469819   724.428175  4.257932e+05    240.495003   726.937293   \n",
              "4        99.286193   733.178785  4.155803e+05    174.635337   730.839814   \n",
              "...            ...          ...           ...           ...          ...   \n",
              "99994  7359.674718   136.000000  5.093170e-11  12270.261123   136.000000   \n",
              "99995  7355.013260   136.000000  3.637979e-11  12265.412882   136.000000   \n",
              "99996  6528.089150   136.000000  1.818989e-11   8992.687314   136.000000   \n",
              "99997  7369.582520   136.000000  6.912160e-11  12287.328934   136.000000   \n",
              "99998  7360.571878   136.000000  6.548362e-11  12267.682639   136.000000   \n",
              "\n",
              "                 X6            X7           X8            X9            X10  \\\n",
              "0      3.257215e+04    282.890001  1404.229864  4.028884e+04    2705.734816   \n",
              "1      4.055287e+05    205.166986   726.203756  4.053561e+05    2131.564557   \n",
              "2      4.301293e+05    408.538742   736.226082  4.341408e+05    4238.143771   \n",
              "3      4.259872e+05    623.368782   728.209538  4.225050e+05    5546.056321   \n",
              "4      4.162693e+05    542.089746   725.367791  4.158204e+05    5459.958306   \n",
              "...             ...           ...          ...           ...            ...   \n",
              "99994  1.091394e-11  36474.563899   136.000000  1.418812e-10  137527.046516   \n",
              "99995  4.001777e-11  36474.413213   136.000000  1.091394e-10  137847.589699   \n",
              "99996  5.820766e-11  13159.085296   136.000000  1.091394e-10   15952.402740   \n",
              "99997  1.236913e-10  36848.957020   136.000000  2.546585e-11  190476.617565   \n",
              "99998  1.891749e-10  36805.546583   136.000000  1.709850e-10  228023.544075   \n",
              "\n",
              "       ...          X107          X108          X109         X110        X111  \\\n",
              "0      ... -1.786670e-11 -1.807032e-08  26923.369527  1401.300617  210.329481   \n",
              "1      ...  0.000000e+00  0.000000e+00   8314.185744  1450.000000    0.000094   \n",
              "2      ...  0.000000e+00  0.000000e+00  19190.900306  1450.000000    0.000193   \n",
              "3      ...  0.000000e+00  0.000000e+00  16068.857113   205.449306  261.593114   \n",
              "4      ...  0.000000e+00  0.000000e+00  16095.227971   202.608187  254.298249   \n",
              "...    ...           ...           ...           ...          ...         ...   \n",
              "99994  ...  0.000000e+00  0.000000e+00      5.857770   136.000000    0.000000   \n",
              "99995  ...  0.000000e+00  0.000000e+00      2.976221   136.000000    0.000000   \n",
              "99996  ...  0.000000e+00  0.000000e+00      1.998383   136.000000    0.000002   \n",
              "99997  ...  0.000000e+00  0.000000e+00      5.851634   136.000000    0.000003   \n",
              "99998  ...  0.000000e+00  0.000000e+00      6.692805   136.000000    0.000002   \n",
              "\n",
              "              X112          X113          X114          X115  label  \n",
              "0      1402.584550  4.423849e+04 -3.707493e-11 -3.557117e-08    0.0  \n",
              "1      1450.000000  8.847564e-09  0.000000e+00  0.000000e+00    0.0  \n",
              "2      1450.000000  3.725290e-08  0.000000e+00  0.000000e+00    0.0  \n",
              "3       205.449306  6.843096e+04  0.000000e+00  0.000000e+00    0.0  \n",
              "4       202.608187  6.466760e+04  0.000000e+00  0.000000e+00    0.0  \n",
              "...            ...           ...           ...           ...    ...  \n",
              "99994   136.000000  0.000000e+00  0.000000e+00  0.000000e+00    1.0  \n",
              "99995   136.000000  0.000000e+00  0.000000e+00  0.000000e+00    1.0  \n",
              "99996   136.000000  3.637979e-12  0.000000e+00  0.000000e+00    1.0  \n",
              "99997   136.000000  1.091394e-11  0.000000e+00  0.000000e+00    1.0  \n",
              "99998   136.000000  3.637979e-12  0.000000e+00  0.000000e+00    1.0  \n",
              "\n",
              "[99999 rows x 116 columns]"
            ],
            "text/html": [
              "\n",
              "  <div id=\"df-efc944c8-8b28-43df-ae1a-cf42acf84614\">\n",
              "    <div class=\"colab-df-container\">\n",
              "      <div>\n",
              "<style scoped>\n",
              "    .dataframe tbody tr th:only-of-type {\n",
              "        vertical-align: middle;\n",
              "    }\n",
              "\n",
              "    .dataframe tbody tr th {\n",
              "        vertical-align: top;\n",
              "    }\n",
              "\n",
              "    .dataframe thead th {\n",
              "        text-align: right;\n",
              "    }\n",
              "</style>\n",
              "<table border=\"1\" class=\"dataframe\">\n",
              "  <thead>\n",
              "    <tr style=\"text-align: right;\">\n",
              "      <th></th>\n",
              "      <th>X1</th>\n",
              "      <th>X2</th>\n",
              "      <th>X3</th>\n",
              "      <th>X4</th>\n",
              "      <th>X5</th>\n",
              "      <th>X6</th>\n",
              "      <th>X7</th>\n",
              "      <th>X8</th>\n",
              "      <th>X9</th>\n",
              "      <th>X10</th>\n",
              "      <th>...</th>\n",
              "      <th>X107</th>\n",
              "      <th>X108</th>\n",
              "      <th>X109</th>\n",
              "      <th>X110</th>\n",
              "      <th>X111</th>\n",
              "      <th>X112</th>\n",
              "      <th>X113</th>\n",
              "      <th>X114</th>\n",
              "      <th>X115</th>\n",
              "      <th>label</th>\n",
              "    </tr>\n",
              "  </thead>\n",
              "  <tbody>\n",
              "    <tr>\n",
              "      <th>0</th>\n",
              "      <td>63.593001</td>\n",
              "      <td>1409.273115</td>\n",
              "      <td>2.877740e+04</td>\n",
              "      <td>101.582531</td>\n",
              "      <td>1407.914397</td>\n",
              "      <td>3.257215e+04</td>\n",
              "      <td>282.890001</td>\n",
              "      <td>1404.229864</td>\n",
              "      <td>4.028884e+04</td>\n",
              "      <td>2705.734816</td>\n",
              "      <td>...</td>\n",
              "      <td>-1.786670e-11</td>\n",
              "      <td>-1.807032e-08</td>\n",
              "      <td>26923.369527</td>\n",
              "      <td>1401.300617</td>\n",
              "      <td>210.329481</td>\n",
              "      <td>1402.584550</td>\n",
              "      <td>4.423849e+04</td>\n",
              "      <td>-3.707493e-11</td>\n",
              "      <td>-3.557117e-08</td>\n",
              "      <td>0.0</td>\n",
              "    </tr>\n",
              "    <tr>\n",
              "      <th>1</th>\n",
              "      <td>33.567444</td>\n",
              "      <td>744.413016</td>\n",
              "      <td>4.039852e+05</td>\n",
              "      <td>61.758196</td>\n",
              "      <td>735.835298</td>\n",
              "      <td>4.055287e+05</td>\n",
              "      <td>205.166986</td>\n",
              "      <td>726.203756</td>\n",
              "      <td>4.053561e+05</td>\n",
              "      <td>2131.564557</td>\n",
              "      <td>...</td>\n",
              "      <td>0.000000e+00</td>\n",
              "      <td>0.000000e+00</td>\n",
              "      <td>8314.185744</td>\n",
              "      <td>1450.000000</td>\n",
              "      <td>0.000094</td>\n",
              "      <td>1450.000000</td>\n",
              "      <td>8.847564e-09</td>\n",
              "      <td>0.000000e+00</td>\n",
              "      <td>0.000000e+00</td>\n",
              "      <td>0.0</td>\n",
              "    </tr>\n",
              "    <tr>\n",
              "      <th>2</th>\n",
              "      <td>69.791455</td>\n",
              "      <td>739.279220</td>\n",
              "      <td>4.266278e+05</td>\n",
              "      <td>126.425891</td>\n",
              "      <td>738.767114</td>\n",
              "      <td>4.301293e+05</td>\n",
              "      <td>408.538742</td>\n",
              "      <td>736.226082</td>\n",
              "      <td>4.341408e+05</td>\n",
              "      <td>4238.143771</td>\n",
              "      <td>...</td>\n",
              "      <td>0.000000e+00</td>\n",
              "      <td>0.000000e+00</td>\n",
              "      <td>19190.900306</td>\n",
              "      <td>1450.000000</td>\n",
              "      <td>0.000193</td>\n",
              "      <td>1450.000000</td>\n",
              "      <td>3.725290e-08</td>\n",
              "      <td>0.000000e+00</td>\n",
              "      <td>0.000000e+00</td>\n",
              "      <td>0.0</td>\n",
              "    </tr>\n",
              "    <tr>\n",
              "      <th>3</th>\n",
              "      <td>155.469819</td>\n",
              "      <td>724.428175</td>\n",
              "      <td>4.257932e+05</td>\n",
              "      <td>240.495003</td>\n",
              "      <td>726.937293</td>\n",
              "      <td>4.259872e+05</td>\n",
              "      <td>623.368782</td>\n",
              "      <td>728.209538</td>\n",
              "      <td>4.225050e+05</td>\n",
              "      <td>5546.056321</td>\n",
              "      <td>...</td>\n",
              "      <td>0.000000e+00</td>\n",
              "      <td>0.000000e+00</td>\n",
              "      <td>16068.857113</td>\n",
              "      <td>205.449306</td>\n",
              "      <td>261.593114</td>\n",
              "      <td>205.449306</td>\n",
              "      <td>6.843096e+04</td>\n",
              "      <td>0.000000e+00</td>\n",
              "      <td>0.000000e+00</td>\n",
              "      <td>0.0</td>\n",
              "    </tr>\n",
              "    <tr>\n",
              "      <th>4</th>\n",
              "      <td>99.286193</td>\n",
              "      <td>733.178785</td>\n",
              "      <td>4.155803e+05</td>\n",
              "      <td>174.635337</td>\n",
              "      <td>730.839814</td>\n",
              "      <td>4.162693e+05</td>\n",
              "      <td>542.089746</td>\n",
              "      <td>725.367791</td>\n",
              "      <td>4.158204e+05</td>\n",
              "      <td>5459.958306</td>\n",
              "      <td>...</td>\n",
              "      <td>0.000000e+00</td>\n",
              "      <td>0.000000e+00</td>\n",
              "      <td>16095.227971</td>\n",
              "      <td>202.608187</td>\n",
              "      <td>254.298249</td>\n",
              "      <td>202.608187</td>\n",
              "      <td>6.466760e+04</td>\n",
              "      <td>0.000000e+00</td>\n",
              "      <td>0.000000e+00</td>\n",
              "      <td>0.0</td>\n",
              "    </tr>\n",
              "    <tr>\n",
              "      <th>...</th>\n",
              "      <td>...</td>\n",
              "      <td>...</td>\n",
              "      <td>...</td>\n",
              "      <td>...</td>\n",
              "      <td>...</td>\n",
              "      <td>...</td>\n",
              "      <td>...</td>\n",
              "      <td>...</td>\n",
              "      <td>...</td>\n",
              "      <td>...</td>\n",
              "      <td>...</td>\n",
              "      <td>...</td>\n",
              "      <td>...</td>\n",
              "      <td>...</td>\n",
              "      <td>...</td>\n",
              "      <td>...</td>\n",
              "      <td>...</td>\n",
              "      <td>...</td>\n",
              "      <td>...</td>\n",
              "      <td>...</td>\n",
              "      <td>...</td>\n",
              "    </tr>\n",
              "    <tr>\n",
              "      <th>99994</th>\n",
              "      <td>7359.674718</td>\n",
              "      <td>136.000000</td>\n",
              "      <td>5.093170e-11</td>\n",
              "      <td>12270.261123</td>\n",
              "      <td>136.000000</td>\n",
              "      <td>1.091394e-11</td>\n",
              "      <td>36474.563899</td>\n",
              "      <td>136.000000</td>\n",
              "      <td>1.418812e-10</td>\n",
              "      <td>137527.046516</td>\n",
              "      <td>...</td>\n",
              "      <td>0.000000e+00</td>\n",
              "      <td>0.000000e+00</td>\n",
              "      <td>5.857770</td>\n",
              "      <td>136.000000</td>\n",
              "      <td>0.000000</td>\n",
              "      <td>136.000000</td>\n",
              "      <td>0.000000e+00</td>\n",
              "      <td>0.000000e+00</td>\n",
              "      <td>0.000000e+00</td>\n",
              "      <td>1.0</td>\n",
              "    </tr>\n",
              "    <tr>\n",
              "      <th>99995</th>\n",
              "      <td>7355.013260</td>\n",
              "      <td>136.000000</td>\n",
              "      <td>3.637979e-11</td>\n",
              "      <td>12265.412882</td>\n",
              "      <td>136.000000</td>\n",
              "      <td>4.001777e-11</td>\n",
              "      <td>36474.413213</td>\n",
              "      <td>136.000000</td>\n",
              "      <td>1.091394e-10</td>\n",
              "      <td>137847.589699</td>\n",
              "      <td>...</td>\n",
              "      <td>0.000000e+00</td>\n",
              "      <td>0.000000e+00</td>\n",
              "      <td>2.976221</td>\n",
              "      <td>136.000000</td>\n",
              "      <td>0.000000</td>\n",
              "      <td>136.000000</td>\n",
              "      <td>0.000000e+00</td>\n",
              "      <td>0.000000e+00</td>\n",
              "      <td>0.000000e+00</td>\n",
              "      <td>1.0</td>\n",
              "    </tr>\n",
              "    <tr>\n",
              "      <th>99996</th>\n",
              "      <td>6528.089150</td>\n",
              "      <td>136.000000</td>\n",
              "      <td>1.818989e-11</td>\n",
              "      <td>8992.687314</td>\n",
              "      <td>136.000000</td>\n",
              "      <td>5.820766e-11</td>\n",
              "      <td>13159.085296</td>\n",
              "      <td>136.000000</td>\n",
              "      <td>1.091394e-10</td>\n",
              "      <td>15952.402740</td>\n",
              "      <td>...</td>\n",
              "      <td>0.000000e+00</td>\n",
              "      <td>0.000000e+00</td>\n",
              "      <td>1.998383</td>\n",
              "      <td>136.000000</td>\n",
              "      <td>0.000002</td>\n",
              "      <td>136.000000</td>\n",
              "      <td>3.637979e-12</td>\n",
              "      <td>0.000000e+00</td>\n",
              "      <td>0.000000e+00</td>\n",
              "      <td>1.0</td>\n",
              "    </tr>\n",
              "    <tr>\n",
              "      <th>99997</th>\n",
              "      <td>7369.582520</td>\n",
              "      <td>136.000000</td>\n",
              "      <td>6.912160e-11</td>\n",
              "      <td>12287.328934</td>\n",
              "      <td>136.000000</td>\n",
              "      <td>1.236913e-10</td>\n",
              "      <td>36848.957020</td>\n",
              "      <td>136.000000</td>\n",
              "      <td>2.546585e-11</td>\n",
              "      <td>190476.617565</td>\n",
              "      <td>...</td>\n",
              "      <td>0.000000e+00</td>\n",
              "      <td>0.000000e+00</td>\n",
              "      <td>5.851634</td>\n",
              "      <td>136.000000</td>\n",
              "      <td>0.000003</td>\n",
              "      <td>136.000000</td>\n",
              "      <td>1.091394e-11</td>\n",
              "      <td>0.000000e+00</td>\n",
              "      <td>0.000000e+00</td>\n",
              "      <td>1.0</td>\n",
              "    </tr>\n",
              "    <tr>\n",
              "      <th>99998</th>\n",
              "      <td>7360.571878</td>\n",
              "      <td>136.000000</td>\n",
              "      <td>6.548362e-11</td>\n",
              "      <td>12267.682639</td>\n",
              "      <td>136.000000</td>\n",
              "      <td>1.891749e-10</td>\n",
              "      <td>36805.546583</td>\n",
              "      <td>136.000000</td>\n",
              "      <td>1.709850e-10</td>\n",
              "      <td>228023.544075</td>\n",
              "      <td>...</td>\n",
              "      <td>0.000000e+00</td>\n",
              "      <td>0.000000e+00</td>\n",
              "      <td>6.692805</td>\n",
              "      <td>136.000000</td>\n",
              "      <td>0.000002</td>\n",
              "      <td>136.000000</td>\n",
              "      <td>3.637979e-12</td>\n",
              "      <td>0.000000e+00</td>\n",
              "      <td>0.000000e+00</td>\n",
              "      <td>1.0</td>\n",
              "    </tr>\n",
              "  </tbody>\n",
              "</table>\n",
              "<p>99999 rows × 116 columns</p>\n",
              "</div>\n",
              "      <button class=\"colab-df-convert\" onclick=\"convertToInteractive('df-efc944c8-8b28-43df-ae1a-cf42acf84614')\"\n",
              "              title=\"Convert this dataframe to an interactive table.\"\n",
              "              style=\"display:none;\">\n",
              "        \n",
              "  <svg xmlns=\"http://www.w3.org/2000/svg\" height=\"24px\"viewBox=\"0 0 24 24\"\n",
              "       width=\"24px\">\n",
              "    <path d=\"M0 0h24v24H0V0z\" fill=\"none\"/>\n",
              "    <path d=\"M18.56 5.44l.94 2.06.94-2.06 2.06-.94-2.06-.94-.94-2.06-.94 2.06-2.06.94zm-11 1L8.5 8.5l.94-2.06 2.06-.94-2.06-.94L8.5 2.5l-.94 2.06-2.06.94zm10 10l.94 2.06.94-2.06 2.06-.94-2.06-.94-.94-2.06-.94 2.06-2.06.94z\"/><path d=\"M17.41 7.96l-1.37-1.37c-.4-.4-.92-.59-1.43-.59-.52 0-1.04.2-1.43.59L10.3 9.45l-7.72 7.72c-.78.78-.78 2.05 0 2.83L4 21.41c.39.39.9.59 1.41.59.51 0 1.02-.2 1.41-.59l7.78-7.78 2.81-2.81c.8-.78.8-2.07 0-2.86zM5.41 20L4 18.59l7.72-7.72 1.47 1.35L5.41 20z\"/>\n",
              "  </svg>\n",
              "      </button>\n",
              "      \n",
              "  <style>\n",
              "    .colab-df-container {\n",
              "      display:flex;\n",
              "      flex-wrap:wrap;\n",
              "      gap: 12px;\n",
              "    }\n",
              "\n",
              "    .colab-df-convert {\n",
              "      background-color: #E8F0FE;\n",
              "      border: none;\n",
              "      border-radius: 50%;\n",
              "      cursor: pointer;\n",
              "      display: none;\n",
              "      fill: #1967D2;\n",
              "      height: 32px;\n",
              "      padding: 0 0 0 0;\n",
              "      width: 32px;\n",
              "    }\n",
              "\n",
              "    .colab-df-convert:hover {\n",
              "      background-color: #E2EBFA;\n",
              "      box-shadow: 0px 1px 2px rgba(60, 64, 67, 0.3), 0px 1px 3px 1px rgba(60, 64, 67, 0.15);\n",
              "      fill: #174EA6;\n",
              "    }\n",
              "\n",
              "    [theme=dark] .colab-df-convert {\n",
              "      background-color: #3B4455;\n",
              "      fill: #D2E3FC;\n",
              "    }\n",
              "\n",
              "    [theme=dark] .colab-df-convert:hover {\n",
              "      background-color: #434B5C;\n",
              "      box-shadow: 0px 1px 3px 1px rgba(0, 0, 0, 0.15);\n",
              "      filter: drop-shadow(0px 1px 2px rgba(0, 0, 0, 0.3));\n",
              "      fill: #FFFFFF;\n",
              "    }\n",
              "  </style>\n",
              "\n",
              "      <script>\n",
              "        const buttonEl =\n",
              "          document.querySelector('#df-efc944c8-8b28-43df-ae1a-cf42acf84614 button.colab-df-convert');\n",
              "        buttonEl.style.display =\n",
              "          google.colab.kernel.accessAllowed ? 'block' : 'none';\n",
              "\n",
              "        async function convertToInteractive(key) {\n",
              "          const element = document.querySelector('#df-efc944c8-8b28-43df-ae1a-cf42acf84614');\n",
              "          const dataTable =\n",
              "            await google.colab.kernel.invokeFunction('convertToInteractive',\n",
              "                                                     [key], {});\n",
              "          if (!dataTable) return;\n",
              "\n",
              "          const docLinkHtml = 'Like what you see? Visit the ' +\n",
              "            '<a target=\"_blank\" href=https://colab.research.google.com/notebooks/data_table.ipynb>data table notebook</a>'\n",
              "            + ' to learn more about interactive tables.';\n",
              "          element.innerHTML = '';\n",
              "          dataTable['output_type'] = 'display_data';\n",
              "          await google.colab.output.renderOutput(dataTable, element);\n",
              "          const docLink = document.createElement('div');\n",
              "          docLink.innerHTML = docLinkHtml;\n",
              "          element.appendChild(docLink);\n",
              "        }\n",
              "      </script>\n",
              "    </div>\n",
              "  </div>\n",
              "  "
            ]
          },
          "metadata": {},
          "execution_count": 93
        }
      ],
      "source": [
        "bin_data_total = data = pd.read_csv(\"/content/drive/MyDrive/Colab_Notebooks/Datasets/kitsume_network_attack_dataset/SSDP_Flood_dataset_kitsune_1M.csv\")\n",
        "bin_data_total.drop(bin_data_total.columns[0],axis=1,inplace=True)\n",
        "bin_data_total"
      ]
    },
    {
      "cell_type": "code",
      "execution_count": 94,
      "metadata": {
        "colab": {
          "base_uri": "https://localhost:8080/"
        },
        "id": "xHCs0B3sKOa_",
        "outputId": "c3556c62-6347-4d43-fb5a-7151cee533be"
      },
      "outputs": [
        {
          "output_type": "execute_result",
          "data": {
            "text/plain": [
              "0.0    0.626296\n",
              "1.0    0.373704\n",
              "Name: label, dtype: float64"
            ]
          },
          "metadata": {},
          "execution_count": 94
        }
      ],
      "source": [
        "# distribution of label class before sampling\n",
        "data_size = bin_data_total.shape[0]\n",
        "# data_size\n",
        "bin_data_total.label.value_counts()/data_size"
      ]
    },
    {
      "cell_type": "code",
      "source": [
        "model_name_suffix = \"_kitsune\""
      ],
      "metadata": {
        "collapsed": true,
        "id": "xoRpI3HV9G2v"
      },
      "execution_count": 95,
      "outputs": []
    },
    {
      "cell_type": "code",
      "source": [
        "# numeric feature normalization\n",
        "from sklearn.preprocessing import MinMaxScaler\n",
        "from sklearn.preprocessing import StandardScaler\n",
        "\n",
        "numeric_cols = bin_data_total.select_dtypes(['number']).columns\n",
        "numeric_cols = numeric_cols.drop('label')\n",
        "flag = 0\n",
        "scaler = None\n",
        "if flag:\n",
        "  # using standard scaler for normalizing\n",
        "  scaler = StandardScaler()\n",
        "else:\n",
        "  # using minmax scaler for normalizing\n",
        "  # to avoid negative values after scaling\n",
        "  scaler = MinMaxScaler()\n",
        "\n",
        "def normalization_train(df,col):\n",
        "  for i in col:\n",
        "    arr = df[i]\n",
        "    arr = np.array(arr)\n",
        "    df[i] = scaler.fit_transform(arr.reshape(len(arr),1))\n",
        "  return df\n",
        "\n",
        "def normalization_test(df,col):\n",
        "  for i in col:\n",
        "    arr = df[i]\n",
        "    arr = np.array(arr)\n",
        "    df[i] = scaler.transform(arr.reshape(len(arr),1))\n",
        "  return df\n",
        "\n",
        "# numeric_cols"
      ],
      "metadata": {
        "id": "QAUrPvEIYHoH"
      },
      "execution_count": 96,
      "outputs": []
    },
    {
      "cell_type": "code",
      "execution_count": 97,
      "metadata": {
        "colab": {
          "base_uri": "https://localhost:8080/",
          "height": 505
        },
        "id": "XSTP2AcKJgTF",
        "outputId": "61d2893d-b326-4960-e04b-fb3bc1c86328"
      },
      "outputs": [
        {
          "output_type": "execute_result",
          "data": {
            "text/plain": [
              "                X1           X2            X3            X4           X5  \\\n",
              "0        63.593001  1409.273115  2.877740e+04    101.582531  1407.914397   \n",
              "1        33.567444   744.413016  4.039852e+05     61.758196   735.835298   \n",
              "2        69.791455   739.279220  4.266278e+05    126.425891   738.767114   \n",
              "3       155.469819   724.428175  4.257932e+05    240.495003   726.937293   \n",
              "4        99.286193   733.178785  4.155803e+05    174.635337   730.839814   \n",
              "...            ...          ...           ...           ...          ...   \n",
              "99994  7359.674718   136.000000  5.093170e-11  12270.261123   136.000000   \n",
              "99995  7355.013260   136.000000  3.637979e-11  12265.412882   136.000000   \n",
              "99996  6528.089150   136.000000  1.818989e-11   8992.687314   136.000000   \n",
              "99997  7369.582520   136.000000  6.912160e-11  12287.328934   136.000000   \n",
              "99998  7360.571878   136.000000  6.548362e-11  12267.682639   136.000000   \n",
              "\n",
              "                 X6            X7           X8            X9            X10  \\\n",
              "0      3.257215e+04    282.890001  1404.229864  4.028884e+04    2705.734816   \n",
              "1      4.055287e+05    205.166986   726.203756  4.053561e+05    2131.564557   \n",
              "2      4.301293e+05    408.538742   736.226082  4.341408e+05    4238.143771   \n",
              "3      4.259872e+05    623.368782   728.209538  4.225050e+05    5546.056321   \n",
              "4      4.162693e+05    542.089746   725.367791  4.158204e+05    5459.958306   \n",
              "...             ...           ...          ...           ...            ...   \n",
              "99994  1.091394e-11  36474.563899   136.000000  1.418812e-10  137527.046516   \n",
              "99995  4.001777e-11  36474.413213   136.000000  1.091394e-10  137847.589699   \n",
              "99996  5.820766e-11  13159.085296   136.000000  1.091394e-10   15952.402740   \n",
              "99997  1.236913e-10  36848.957020   136.000000  2.546585e-11  190476.617565   \n",
              "99998  1.891749e-10  36805.546583   136.000000  1.709850e-10  228023.544075   \n",
              "\n",
              "       ...          X107          X108          X109         X110        X111  \\\n",
              "0      ... -1.786670e-11 -1.807032e-08  26923.369527  1401.300617  210.329481   \n",
              "1      ...  0.000000e+00  0.000000e+00   8314.185744  1450.000000    0.000094   \n",
              "2      ...  0.000000e+00  0.000000e+00  19190.900306  1450.000000    0.000193   \n",
              "3      ...  0.000000e+00  0.000000e+00  16068.857113   205.449306  261.593114   \n",
              "4      ...  0.000000e+00  0.000000e+00  16095.227971   202.608187  254.298249   \n",
              "...    ...           ...           ...           ...          ...         ...   \n",
              "99994  ...  0.000000e+00  0.000000e+00      5.857770   136.000000    0.000000   \n",
              "99995  ...  0.000000e+00  0.000000e+00      2.976221   136.000000    0.000000   \n",
              "99996  ...  0.000000e+00  0.000000e+00      1.998383   136.000000    0.000002   \n",
              "99997  ...  0.000000e+00  0.000000e+00      5.851634   136.000000    0.000003   \n",
              "99998  ...  0.000000e+00  0.000000e+00      6.692805   136.000000    0.000002   \n",
              "\n",
              "              X112          X113          X114          X115  label  \n",
              "0      1402.584550  4.423849e+04 -3.707493e-11 -3.557117e-08    0.0  \n",
              "1      1450.000000  8.847564e-09  0.000000e+00  0.000000e+00    0.0  \n",
              "2      1450.000000  3.725290e-08  0.000000e+00  0.000000e+00    0.0  \n",
              "3       205.449306  6.843096e+04  0.000000e+00  0.000000e+00    0.0  \n",
              "4       202.608187  6.466760e+04  0.000000e+00  0.000000e+00    0.0  \n",
              "...            ...           ...           ...           ...    ...  \n",
              "99994   136.000000  0.000000e+00  0.000000e+00  0.000000e+00    1.0  \n",
              "99995   136.000000  0.000000e+00  0.000000e+00  0.000000e+00    1.0  \n",
              "99996   136.000000  3.637979e-12  0.000000e+00  0.000000e+00    1.0  \n",
              "99997   136.000000  1.091394e-11  0.000000e+00  0.000000e+00    1.0  \n",
              "99998   136.000000  3.637979e-12  0.000000e+00  0.000000e+00    1.0  \n",
              "\n",
              "[99999 rows x 116 columns]"
            ],
            "text/html": [
              "\n",
              "  <div id=\"df-9ae139c4-d9d7-4008-9696-726d04d2e693\">\n",
              "    <div class=\"colab-df-container\">\n",
              "      <div>\n",
              "<style scoped>\n",
              "    .dataframe tbody tr th:only-of-type {\n",
              "        vertical-align: middle;\n",
              "    }\n",
              "\n",
              "    .dataframe tbody tr th {\n",
              "        vertical-align: top;\n",
              "    }\n",
              "\n",
              "    .dataframe thead th {\n",
              "        text-align: right;\n",
              "    }\n",
              "</style>\n",
              "<table border=\"1\" class=\"dataframe\">\n",
              "  <thead>\n",
              "    <tr style=\"text-align: right;\">\n",
              "      <th></th>\n",
              "      <th>X1</th>\n",
              "      <th>X2</th>\n",
              "      <th>X3</th>\n",
              "      <th>X4</th>\n",
              "      <th>X5</th>\n",
              "      <th>X6</th>\n",
              "      <th>X7</th>\n",
              "      <th>X8</th>\n",
              "      <th>X9</th>\n",
              "      <th>X10</th>\n",
              "      <th>...</th>\n",
              "      <th>X107</th>\n",
              "      <th>X108</th>\n",
              "      <th>X109</th>\n",
              "      <th>X110</th>\n",
              "      <th>X111</th>\n",
              "      <th>X112</th>\n",
              "      <th>X113</th>\n",
              "      <th>X114</th>\n",
              "      <th>X115</th>\n",
              "      <th>label</th>\n",
              "    </tr>\n",
              "  </thead>\n",
              "  <tbody>\n",
              "    <tr>\n",
              "      <th>0</th>\n",
              "      <td>63.593001</td>\n",
              "      <td>1409.273115</td>\n",
              "      <td>2.877740e+04</td>\n",
              "      <td>101.582531</td>\n",
              "      <td>1407.914397</td>\n",
              "      <td>3.257215e+04</td>\n",
              "      <td>282.890001</td>\n",
              "      <td>1404.229864</td>\n",
              "      <td>4.028884e+04</td>\n",
              "      <td>2705.734816</td>\n",
              "      <td>...</td>\n",
              "      <td>-1.786670e-11</td>\n",
              "      <td>-1.807032e-08</td>\n",
              "      <td>26923.369527</td>\n",
              "      <td>1401.300617</td>\n",
              "      <td>210.329481</td>\n",
              "      <td>1402.584550</td>\n",
              "      <td>4.423849e+04</td>\n",
              "      <td>-3.707493e-11</td>\n",
              "      <td>-3.557117e-08</td>\n",
              "      <td>0.0</td>\n",
              "    </tr>\n",
              "    <tr>\n",
              "      <th>1</th>\n",
              "      <td>33.567444</td>\n",
              "      <td>744.413016</td>\n",
              "      <td>4.039852e+05</td>\n",
              "      <td>61.758196</td>\n",
              "      <td>735.835298</td>\n",
              "      <td>4.055287e+05</td>\n",
              "      <td>205.166986</td>\n",
              "      <td>726.203756</td>\n",
              "      <td>4.053561e+05</td>\n",
              "      <td>2131.564557</td>\n",
              "      <td>...</td>\n",
              "      <td>0.000000e+00</td>\n",
              "      <td>0.000000e+00</td>\n",
              "      <td>8314.185744</td>\n",
              "      <td>1450.000000</td>\n",
              "      <td>0.000094</td>\n",
              "      <td>1450.000000</td>\n",
              "      <td>8.847564e-09</td>\n",
              "      <td>0.000000e+00</td>\n",
              "      <td>0.000000e+00</td>\n",
              "      <td>0.0</td>\n",
              "    </tr>\n",
              "    <tr>\n",
              "      <th>2</th>\n",
              "      <td>69.791455</td>\n",
              "      <td>739.279220</td>\n",
              "      <td>4.266278e+05</td>\n",
              "      <td>126.425891</td>\n",
              "      <td>738.767114</td>\n",
              "      <td>4.301293e+05</td>\n",
              "      <td>408.538742</td>\n",
              "      <td>736.226082</td>\n",
              "      <td>4.341408e+05</td>\n",
              "      <td>4238.143771</td>\n",
              "      <td>...</td>\n",
              "      <td>0.000000e+00</td>\n",
              "      <td>0.000000e+00</td>\n",
              "      <td>19190.900306</td>\n",
              "      <td>1450.000000</td>\n",
              "      <td>0.000193</td>\n",
              "      <td>1450.000000</td>\n",
              "      <td>3.725290e-08</td>\n",
              "      <td>0.000000e+00</td>\n",
              "      <td>0.000000e+00</td>\n",
              "      <td>0.0</td>\n",
              "    </tr>\n",
              "    <tr>\n",
              "      <th>3</th>\n",
              "      <td>155.469819</td>\n",
              "      <td>724.428175</td>\n",
              "      <td>4.257932e+05</td>\n",
              "      <td>240.495003</td>\n",
              "      <td>726.937293</td>\n",
              "      <td>4.259872e+05</td>\n",
              "      <td>623.368782</td>\n",
              "      <td>728.209538</td>\n",
              "      <td>4.225050e+05</td>\n",
              "      <td>5546.056321</td>\n",
              "      <td>...</td>\n",
              "      <td>0.000000e+00</td>\n",
              "      <td>0.000000e+00</td>\n",
              "      <td>16068.857113</td>\n",
              "      <td>205.449306</td>\n",
              "      <td>261.593114</td>\n",
              "      <td>205.449306</td>\n",
              "      <td>6.843096e+04</td>\n",
              "      <td>0.000000e+00</td>\n",
              "      <td>0.000000e+00</td>\n",
              "      <td>0.0</td>\n",
              "    </tr>\n",
              "    <tr>\n",
              "      <th>4</th>\n",
              "      <td>99.286193</td>\n",
              "      <td>733.178785</td>\n",
              "      <td>4.155803e+05</td>\n",
              "      <td>174.635337</td>\n",
              "      <td>730.839814</td>\n",
              "      <td>4.162693e+05</td>\n",
              "      <td>542.089746</td>\n",
              "      <td>725.367791</td>\n",
              "      <td>4.158204e+05</td>\n",
              "      <td>5459.958306</td>\n",
              "      <td>...</td>\n",
              "      <td>0.000000e+00</td>\n",
              "      <td>0.000000e+00</td>\n",
              "      <td>16095.227971</td>\n",
              "      <td>202.608187</td>\n",
              "      <td>254.298249</td>\n",
              "      <td>202.608187</td>\n",
              "      <td>6.466760e+04</td>\n",
              "      <td>0.000000e+00</td>\n",
              "      <td>0.000000e+00</td>\n",
              "      <td>0.0</td>\n",
              "    </tr>\n",
              "    <tr>\n",
              "      <th>...</th>\n",
              "      <td>...</td>\n",
              "      <td>...</td>\n",
              "      <td>...</td>\n",
              "      <td>...</td>\n",
              "      <td>...</td>\n",
              "      <td>...</td>\n",
              "      <td>...</td>\n",
              "      <td>...</td>\n",
              "      <td>...</td>\n",
              "      <td>...</td>\n",
              "      <td>...</td>\n",
              "      <td>...</td>\n",
              "      <td>...</td>\n",
              "      <td>...</td>\n",
              "      <td>...</td>\n",
              "      <td>...</td>\n",
              "      <td>...</td>\n",
              "      <td>...</td>\n",
              "      <td>...</td>\n",
              "      <td>...</td>\n",
              "      <td>...</td>\n",
              "    </tr>\n",
              "    <tr>\n",
              "      <th>99994</th>\n",
              "      <td>7359.674718</td>\n",
              "      <td>136.000000</td>\n",
              "      <td>5.093170e-11</td>\n",
              "      <td>12270.261123</td>\n",
              "      <td>136.000000</td>\n",
              "      <td>1.091394e-11</td>\n",
              "      <td>36474.563899</td>\n",
              "      <td>136.000000</td>\n",
              "      <td>1.418812e-10</td>\n",
              "      <td>137527.046516</td>\n",
              "      <td>...</td>\n",
              "      <td>0.000000e+00</td>\n",
              "      <td>0.000000e+00</td>\n",
              "      <td>5.857770</td>\n",
              "      <td>136.000000</td>\n",
              "      <td>0.000000</td>\n",
              "      <td>136.000000</td>\n",
              "      <td>0.000000e+00</td>\n",
              "      <td>0.000000e+00</td>\n",
              "      <td>0.000000e+00</td>\n",
              "      <td>1.0</td>\n",
              "    </tr>\n",
              "    <tr>\n",
              "      <th>99995</th>\n",
              "      <td>7355.013260</td>\n",
              "      <td>136.000000</td>\n",
              "      <td>3.637979e-11</td>\n",
              "      <td>12265.412882</td>\n",
              "      <td>136.000000</td>\n",
              "      <td>4.001777e-11</td>\n",
              "      <td>36474.413213</td>\n",
              "      <td>136.000000</td>\n",
              "      <td>1.091394e-10</td>\n",
              "      <td>137847.589699</td>\n",
              "      <td>...</td>\n",
              "      <td>0.000000e+00</td>\n",
              "      <td>0.000000e+00</td>\n",
              "      <td>2.976221</td>\n",
              "      <td>136.000000</td>\n",
              "      <td>0.000000</td>\n",
              "      <td>136.000000</td>\n",
              "      <td>0.000000e+00</td>\n",
              "      <td>0.000000e+00</td>\n",
              "      <td>0.000000e+00</td>\n",
              "      <td>1.0</td>\n",
              "    </tr>\n",
              "    <tr>\n",
              "      <th>99996</th>\n",
              "      <td>6528.089150</td>\n",
              "      <td>136.000000</td>\n",
              "      <td>1.818989e-11</td>\n",
              "      <td>8992.687314</td>\n",
              "      <td>136.000000</td>\n",
              "      <td>5.820766e-11</td>\n",
              "      <td>13159.085296</td>\n",
              "      <td>136.000000</td>\n",
              "      <td>1.091394e-10</td>\n",
              "      <td>15952.402740</td>\n",
              "      <td>...</td>\n",
              "      <td>0.000000e+00</td>\n",
              "      <td>0.000000e+00</td>\n",
              "      <td>1.998383</td>\n",
              "      <td>136.000000</td>\n",
              "      <td>0.000002</td>\n",
              "      <td>136.000000</td>\n",
              "      <td>3.637979e-12</td>\n",
              "      <td>0.000000e+00</td>\n",
              "      <td>0.000000e+00</td>\n",
              "      <td>1.0</td>\n",
              "    </tr>\n",
              "    <tr>\n",
              "      <th>99997</th>\n",
              "      <td>7369.582520</td>\n",
              "      <td>136.000000</td>\n",
              "      <td>6.912160e-11</td>\n",
              "      <td>12287.328934</td>\n",
              "      <td>136.000000</td>\n",
              "      <td>1.236913e-10</td>\n",
              "      <td>36848.957020</td>\n",
              "      <td>136.000000</td>\n",
              "      <td>2.546585e-11</td>\n",
              "      <td>190476.617565</td>\n",
              "      <td>...</td>\n",
              "      <td>0.000000e+00</td>\n",
              "      <td>0.000000e+00</td>\n",
              "      <td>5.851634</td>\n",
              "      <td>136.000000</td>\n",
              "      <td>0.000003</td>\n",
              "      <td>136.000000</td>\n",
              "      <td>1.091394e-11</td>\n",
              "      <td>0.000000e+00</td>\n",
              "      <td>0.000000e+00</td>\n",
              "      <td>1.0</td>\n",
              "    </tr>\n",
              "    <tr>\n",
              "      <th>99998</th>\n",
              "      <td>7360.571878</td>\n",
              "      <td>136.000000</td>\n",
              "      <td>6.548362e-11</td>\n",
              "      <td>12267.682639</td>\n",
              "      <td>136.000000</td>\n",
              "      <td>1.891749e-10</td>\n",
              "      <td>36805.546583</td>\n",
              "      <td>136.000000</td>\n",
              "      <td>1.709850e-10</td>\n",
              "      <td>228023.544075</td>\n",
              "      <td>...</td>\n",
              "      <td>0.000000e+00</td>\n",
              "      <td>0.000000e+00</td>\n",
              "      <td>6.692805</td>\n",
              "      <td>136.000000</td>\n",
              "      <td>0.000002</td>\n",
              "      <td>136.000000</td>\n",
              "      <td>3.637979e-12</td>\n",
              "      <td>0.000000e+00</td>\n",
              "      <td>0.000000e+00</td>\n",
              "      <td>1.0</td>\n",
              "    </tr>\n",
              "  </tbody>\n",
              "</table>\n",
              "<p>99999 rows × 116 columns</p>\n",
              "</div>\n",
              "      <button class=\"colab-df-convert\" onclick=\"convertToInteractive('df-9ae139c4-d9d7-4008-9696-726d04d2e693')\"\n",
              "              title=\"Convert this dataframe to an interactive table.\"\n",
              "              style=\"display:none;\">\n",
              "        \n",
              "  <svg xmlns=\"http://www.w3.org/2000/svg\" height=\"24px\"viewBox=\"0 0 24 24\"\n",
              "       width=\"24px\">\n",
              "    <path d=\"M0 0h24v24H0V0z\" fill=\"none\"/>\n",
              "    <path d=\"M18.56 5.44l.94 2.06.94-2.06 2.06-.94-2.06-.94-.94-2.06-.94 2.06-2.06.94zm-11 1L8.5 8.5l.94-2.06 2.06-.94-2.06-.94L8.5 2.5l-.94 2.06-2.06.94zm10 10l.94 2.06.94-2.06 2.06-.94-2.06-.94-.94-2.06-.94 2.06-2.06.94z\"/><path d=\"M17.41 7.96l-1.37-1.37c-.4-.4-.92-.59-1.43-.59-.52 0-1.04.2-1.43.59L10.3 9.45l-7.72 7.72c-.78.78-.78 2.05 0 2.83L4 21.41c.39.39.9.59 1.41.59.51 0 1.02-.2 1.41-.59l7.78-7.78 2.81-2.81c.8-.78.8-2.07 0-2.86zM5.41 20L4 18.59l7.72-7.72 1.47 1.35L5.41 20z\"/>\n",
              "  </svg>\n",
              "      </button>\n",
              "      \n",
              "  <style>\n",
              "    .colab-df-container {\n",
              "      display:flex;\n",
              "      flex-wrap:wrap;\n",
              "      gap: 12px;\n",
              "    }\n",
              "\n",
              "    .colab-df-convert {\n",
              "      background-color: #E8F0FE;\n",
              "      border: none;\n",
              "      border-radius: 50%;\n",
              "      cursor: pointer;\n",
              "      display: none;\n",
              "      fill: #1967D2;\n",
              "      height: 32px;\n",
              "      padding: 0 0 0 0;\n",
              "      width: 32px;\n",
              "    }\n",
              "\n",
              "    .colab-df-convert:hover {\n",
              "      background-color: #E2EBFA;\n",
              "      box-shadow: 0px 1px 2px rgba(60, 64, 67, 0.3), 0px 1px 3px 1px rgba(60, 64, 67, 0.15);\n",
              "      fill: #174EA6;\n",
              "    }\n",
              "\n",
              "    [theme=dark] .colab-df-convert {\n",
              "      background-color: #3B4455;\n",
              "      fill: #D2E3FC;\n",
              "    }\n",
              "\n",
              "    [theme=dark] .colab-df-convert:hover {\n",
              "      background-color: #434B5C;\n",
              "      box-shadow: 0px 1px 3px 1px rgba(0, 0, 0, 0.15);\n",
              "      filter: drop-shadow(0px 1px 2px rgba(0, 0, 0, 0.3));\n",
              "      fill: #FFFFFF;\n",
              "    }\n",
              "  </style>\n",
              "\n",
              "      <script>\n",
              "        const buttonEl =\n",
              "          document.querySelector('#df-9ae139c4-d9d7-4008-9696-726d04d2e693 button.colab-df-convert');\n",
              "        buttonEl.style.display =\n",
              "          google.colab.kernel.accessAllowed ? 'block' : 'none';\n",
              "\n",
              "        async function convertToInteractive(key) {\n",
              "          const element = document.querySelector('#df-9ae139c4-d9d7-4008-9696-726d04d2e693');\n",
              "          const dataTable =\n",
              "            await google.colab.kernel.invokeFunction('convertToInteractive',\n",
              "                                                     [key], {});\n",
              "          if (!dataTable) return;\n",
              "\n",
              "          const docLinkHtml = 'Like what you see? Visit the ' +\n",
              "            '<a target=\"_blank\" href=https://colab.research.google.com/notebooks/data_table.ipynb>data table notebook</a>'\n",
              "            + ' to learn more about interactive tables.';\n",
              "          element.innerHTML = '';\n",
              "          dataTable['output_type'] = 'display_data';\n",
              "          await google.colab.output.renderOutput(dataTable, element);\n",
              "          const docLink = document.createElement('div');\n",
              "          docLink.innerHTML = docLinkHtml;\n",
              "          element.appendChild(docLink);\n",
              "        }\n",
              "      </script>\n",
              "    </div>\n",
              "  </div>\n",
              "  "
            ]
          },
          "metadata": {},
          "execution_count": 97
        }
      ],
      "source": [
        "# sampling data taking only 50% of the data\n",
        "# bin_data = bin_data_total.groupby('label', group_keys=False).apply(lambda x: x.sample(frac=0.5))\n",
        "bin_data = bin_data_total\n",
        "bin_data"
      ]
    },
    {
      "cell_type": "code",
      "source": [
        "number_of_cols = bin_data.shape[1]"
      ],
      "metadata": {
        "id": "N125Cc3Ukt8h"
      },
      "execution_count": 98,
      "outputs": []
    },
    {
      "cell_type": "code",
      "execution_count": 99,
      "metadata": {
        "colab": {
          "base_uri": "https://localhost:8080/"
        },
        "id": "nKX2TRG0J85J",
        "outputId": "f11700a3-d14a-4e01-8cf7-4733a9baabdb"
      },
      "outputs": [
        {
          "output_type": "execute_result",
          "data": {
            "text/plain": [
              "0.0    0.626296\n",
              "1.0    0.373704\n",
              "Name: label, dtype: float64"
            ]
          },
          "metadata": {},
          "execution_count": 99
        }
      ],
      "source": [
        "# distribution of label class after sampling\n",
        "data_size = bin_data.shape[0]\n",
        "bin_data.label.value_counts()/data_size"
      ]
    },
    {
      "cell_type": "code",
      "execution_count": 100,
      "metadata": {
        "id": "L11T2MepDzax"
      },
      "outputs": [],
      "source": [
        "model_selection = {\n",
        "    0 : \"ALL\",\n",
        "    2 : \"MLP\",\n",
        "    3 : \"LSTM\",\n",
        "    4 : \"AE\"\n",
        "}\n",
        "model_flag = 0\n",
        "svm_enable = 1"
      ]
    },
    {
      "cell_type": "code",
      "execution_count": 101,
      "metadata": {
        "id": "OdRAXVlsxUVW"
      },
      "outputs": [],
      "source": [
        "X = bin_data.iloc[:,0:number_of_cols] # dataset excluding target attribute (encoded, one-hot-encoded,original)\n",
        "Y = bin_data['label'] # target attribute"
      ]
    },
    {
      "cell_type": "code",
      "execution_count": 102,
      "metadata": {
        "id": "lFdHHvRtxU5B"
      },
      "outputs": [],
      "source": [
        "# splitting the dataset 75% for training and 25% testing\n",
        "X_train, X_test, y_train, y_test = train_test_split(X,Y, test_size=0.25, random_state=42) "
      ]
    },
    {
      "cell_type": "code",
      "source": [
        "# calling the normalization() function\n",
        "X_train = normalization_train(X_train,numeric_cols)\n",
        "X_train.head()"
      ],
      "metadata": {
        "colab": {
          "base_uri": "https://localhost:8080/",
          "height": 386
        },
        "id": "SLLlMtsaYJdK",
        "outputId": "a9bc6871-d470-47dd-cd1d-90499d6e8d1b"
      },
      "execution_count": 103,
      "outputs": [
        {
          "output_type": "execute_result",
          "data": {
            "text/plain": [
              "                 X1        X2            X3        X4        X5            X6  \\\n",
              "65134  8.892426e-01  0.055058  2.425533e-17  0.740503  0.055298  4.061345e-17   \n",
              "9928   1.356541e-07  0.000242  2.458986e-04  0.000002  0.005500  5.358381e-03   \n",
              "89685  9.942479e-01  0.055058  2.587235e-16  0.995183  0.055298  2.193126e-16   \n",
              "60954  8.644940e-03  0.476687  9.347206e-01  0.007630  0.478222  9.296712e-01   \n",
              "69188  9.182695e-01  0.055058  4.851065e-17  0.783560  0.055298  1.462084e-16   \n",
              "\n",
              "             X7        X8            X9       X10  ...      X107      X108  \\\n",
              "65134  0.366106  0.055783  2.453304e-16  0.070105  ...  0.463957  0.500171   \n",
              "9928   0.000061  0.155652  4.768510e-02  0.000116  ...  0.463957  0.500171   \n",
              "89685  0.982197  0.055783  7.032805e-16  0.530177  ...  0.463957  0.500171   \n",
              "60954  0.006678  0.479231  9.254017e-01  0.009315  ...  0.463957  0.500171   \n",
              "69188  0.403259  0.055783  4.988385e-16  0.079107  ...  0.463957  0.500171   \n",
              "\n",
              "           X109          X110          X111      X112          X113      X114  \\\n",
              "65134  0.000000  5.467626e-02  0.000000e+00  0.051524  0.000000e+00  0.729359   \n",
              "9928   0.000059  8.187895e-16  1.872965e-09  0.014604  4.961061e-18  0.729359   \n",
              "89685  0.000000  5.467626e-02  0.000000e+00  0.051524  0.000000e+00  0.729359   \n",
              "60954  0.475033  1.268288e-01  7.966811e-01  0.123917  6.347009e-01  0.729359   \n",
              "69188  0.000000  5.467626e-02  0.000000e+00  0.051524  0.000000e+00  0.729359   \n",
              "\n",
              "           X115  label  \n",
              "65134  0.807456    1.0  \n",
              "9928   0.807456    0.0  \n",
              "89685  0.807456    1.0  \n",
              "60954  0.807456    0.0  \n",
              "69188  0.807456    1.0  \n",
              "\n",
              "[5 rows x 116 columns]"
            ],
            "text/html": [
              "\n",
              "  <div id=\"df-8df9e387-71a2-48e5-9df8-acafa86b719a\">\n",
              "    <div class=\"colab-df-container\">\n",
              "      <div>\n",
              "<style scoped>\n",
              "    .dataframe tbody tr th:only-of-type {\n",
              "        vertical-align: middle;\n",
              "    }\n",
              "\n",
              "    .dataframe tbody tr th {\n",
              "        vertical-align: top;\n",
              "    }\n",
              "\n",
              "    .dataframe thead th {\n",
              "        text-align: right;\n",
              "    }\n",
              "</style>\n",
              "<table border=\"1\" class=\"dataframe\">\n",
              "  <thead>\n",
              "    <tr style=\"text-align: right;\">\n",
              "      <th></th>\n",
              "      <th>X1</th>\n",
              "      <th>X2</th>\n",
              "      <th>X3</th>\n",
              "      <th>X4</th>\n",
              "      <th>X5</th>\n",
              "      <th>X6</th>\n",
              "      <th>X7</th>\n",
              "      <th>X8</th>\n",
              "      <th>X9</th>\n",
              "      <th>X10</th>\n",
              "      <th>...</th>\n",
              "      <th>X107</th>\n",
              "      <th>X108</th>\n",
              "      <th>X109</th>\n",
              "      <th>X110</th>\n",
              "      <th>X111</th>\n",
              "      <th>X112</th>\n",
              "      <th>X113</th>\n",
              "      <th>X114</th>\n",
              "      <th>X115</th>\n",
              "      <th>label</th>\n",
              "    </tr>\n",
              "  </thead>\n",
              "  <tbody>\n",
              "    <tr>\n",
              "      <th>65134</th>\n",
              "      <td>8.892426e-01</td>\n",
              "      <td>0.055058</td>\n",
              "      <td>2.425533e-17</td>\n",
              "      <td>0.740503</td>\n",
              "      <td>0.055298</td>\n",
              "      <td>4.061345e-17</td>\n",
              "      <td>0.366106</td>\n",
              "      <td>0.055783</td>\n",
              "      <td>2.453304e-16</td>\n",
              "      <td>0.070105</td>\n",
              "      <td>...</td>\n",
              "      <td>0.463957</td>\n",
              "      <td>0.500171</td>\n",
              "      <td>0.000000</td>\n",
              "      <td>5.467626e-02</td>\n",
              "      <td>0.000000e+00</td>\n",
              "      <td>0.051524</td>\n",
              "      <td>0.000000e+00</td>\n",
              "      <td>0.729359</td>\n",
              "      <td>0.807456</td>\n",
              "      <td>1.0</td>\n",
              "    </tr>\n",
              "    <tr>\n",
              "      <th>9928</th>\n",
              "      <td>1.356541e-07</td>\n",
              "      <td>0.000242</td>\n",
              "      <td>2.458986e-04</td>\n",
              "      <td>0.000002</td>\n",
              "      <td>0.005500</td>\n",
              "      <td>5.358381e-03</td>\n",
              "      <td>0.000061</td>\n",
              "      <td>0.155652</td>\n",
              "      <td>4.768510e-02</td>\n",
              "      <td>0.000116</td>\n",
              "      <td>...</td>\n",
              "      <td>0.463957</td>\n",
              "      <td>0.500171</td>\n",
              "      <td>0.000059</td>\n",
              "      <td>8.187895e-16</td>\n",
              "      <td>1.872965e-09</td>\n",
              "      <td>0.014604</td>\n",
              "      <td>4.961061e-18</td>\n",
              "      <td>0.729359</td>\n",
              "      <td>0.807456</td>\n",
              "      <td>0.0</td>\n",
              "    </tr>\n",
              "    <tr>\n",
              "      <th>89685</th>\n",
              "      <td>9.942479e-01</td>\n",
              "      <td>0.055058</td>\n",
              "      <td>2.587235e-16</td>\n",
              "      <td>0.995183</td>\n",
              "      <td>0.055298</td>\n",
              "      <td>2.193126e-16</td>\n",
              "      <td>0.982197</td>\n",
              "      <td>0.055783</td>\n",
              "      <td>7.032805e-16</td>\n",
              "      <td>0.530177</td>\n",
              "      <td>...</td>\n",
              "      <td>0.463957</td>\n",
              "      <td>0.500171</td>\n",
              "      <td>0.000000</td>\n",
              "      <td>5.467626e-02</td>\n",
              "      <td>0.000000e+00</td>\n",
              "      <td>0.051524</td>\n",
              "      <td>0.000000e+00</td>\n",
              "      <td>0.729359</td>\n",
              "      <td>0.807456</td>\n",
              "      <td>1.0</td>\n",
              "    </tr>\n",
              "    <tr>\n",
              "      <th>60954</th>\n",
              "      <td>8.644940e-03</td>\n",
              "      <td>0.476687</td>\n",
              "      <td>9.347206e-01</td>\n",
              "      <td>0.007630</td>\n",
              "      <td>0.478222</td>\n",
              "      <td>9.296712e-01</td>\n",
              "      <td>0.006678</td>\n",
              "      <td>0.479231</td>\n",
              "      <td>9.254017e-01</td>\n",
              "      <td>0.009315</td>\n",
              "      <td>...</td>\n",
              "      <td>0.463957</td>\n",
              "      <td>0.500171</td>\n",
              "      <td>0.475033</td>\n",
              "      <td>1.268288e-01</td>\n",
              "      <td>7.966811e-01</td>\n",
              "      <td>0.123917</td>\n",
              "      <td>6.347009e-01</td>\n",
              "      <td>0.729359</td>\n",
              "      <td>0.807456</td>\n",
              "      <td>0.0</td>\n",
              "    </tr>\n",
              "    <tr>\n",
              "      <th>69188</th>\n",
              "      <td>9.182695e-01</td>\n",
              "      <td>0.055058</td>\n",
              "      <td>4.851065e-17</td>\n",
              "      <td>0.783560</td>\n",
              "      <td>0.055298</td>\n",
              "      <td>1.462084e-16</td>\n",
              "      <td>0.403259</td>\n",
              "      <td>0.055783</td>\n",
              "      <td>4.988385e-16</td>\n",
              "      <td>0.079107</td>\n",
              "      <td>...</td>\n",
              "      <td>0.463957</td>\n",
              "      <td>0.500171</td>\n",
              "      <td>0.000000</td>\n",
              "      <td>5.467626e-02</td>\n",
              "      <td>0.000000e+00</td>\n",
              "      <td>0.051524</td>\n",
              "      <td>0.000000e+00</td>\n",
              "      <td>0.729359</td>\n",
              "      <td>0.807456</td>\n",
              "      <td>1.0</td>\n",
              "    </tr>\n",
              "  </tbody>\n",
              "</table>\n",
              "<p>5 rows × 116 columns</p>\n",
              "</div>\n",
              "      <button class=\"colab-df-convert\" onclick=\"convertToInteractive('df-8df9e387-71a2-48e5-9df8-acafa86b719a')\"\n",
              "              title=\"Convert this dataframe to an interactive table.\"\n",
              "              style=\"display:none;\">\n",
              "        \n",
              "  <svg xmlns=\"http://www.w3.org/2000/svg\" height=\"24px\"viewBox=\"0 0 24 24\"\n",
              "       width=\"24px\">\n",
              "    <path d=\"M0 0h24v24H0V0z\" fill=\"none\"/>\n",
              "    <path d=\"M18.56 5.44l.94 2.06.94-2.06 2.06-.94-2.06-.94-.94-2.06-.94 2.06-2.06.94zm-11 1L8.5 8.5l.94-2.06 2.06-.94-2.06-.94L8.5 2.5l-.94 2.06-2.06.94zm10 10l.94 2.06.94-2.06 2.06-.94-2.06-.94-.94-2.06-.94 2.06-2.06.94z\"/><path d=\"M17.41 7.96l-1.37-1.37c-.4-.4-.92-.59-1.43-.59-.52 0-1.04.2-1.43.59L10.3 9.45l-7.72 7.72c-.78.78-.78 2.05 0 2.83L4 21.41c.39.39.9.59 1.41.59.51 0 1.02-.2 1.41-.59l7.78-7.78 2.81-2.81c.8-.78.8-2.07 0-2.86zM5.41 20L4 18.59l7.72-7.72 1.47 1.35L5.41 20z\"/>\n",
              "  </svg>\n",
              "      </button>\n",
              "      \n",
              "  <style>\n",
              "    .colab-df-container {\n",
              "      display:flex;\n",
              "      flex-wrap:wrap;\n",
              "      gap: 12px;\n",
              "    }\n",
              "\n",
              "    .colab-df-convert {\n",
              "      background-color: #E8F0FE;\n",
              "      border: none;\n",
              "      border-radius: 50%;\n",
              "      cursor: pointer;\n",
              "      display: none;\n",
              "      fill: #1967D2;\n",
              "      height: 32px;\n",
              "      padding: 0 0 0 0;\n",
              "      width: 32px;\n",
              "    }\n",
              "\n",
              "    .colab-df-convert:hover {\n",
              "      background-color: #E2EBFA;\n",
              "      box-shadow: 0px 1px 2px rgba(60, 64, 67, 0.3), 0px 1px 3px 1px rgba(60, 64, 67, 0.15);\n",
              "      fill: #174EA6;\n",
              "    }\n",
              "\n",
              "    [theme=dark] .colab-df-convert {\n",
              "      background-color: #3B4455;\n",
              "      fill: #D2E3FC;\n",
              "    }\n",
              "\n",
              "    [theme=dark] .colab-df-convert:hover {\n",
              "      background-color: #434B5C;\n",
              "      box-shadow: 0px 1px 3px 1px rgba(0, 0, 0, 0.15);\n",
              "      filter: drop-shadow(0px 1px 2px rgba(0, 0, 0, 0.3));\n",
              "      fill: #FFFFFF;\n",
              "    }\n",
              "  </style>\n",
              "\n",
              "      <script>\n",
              "        const buttonEl =\n",
              "          document.querySelector('#df-8df9e387-71a2-48e5-9df8-acafa86b719a button.colab-df-convert');\n",
              "        buttonEl.style.display =\n",
              "          google.colab.kernel.accessAllowed ? 'block' : 'none';\n",
              "\n",
              "        async function convertToInteractive(key) {\n",
              "          const element = document.querySelector('#df-8df9e387-71a2-48e5-9df8-acafa86b719a');\n",
              "          const dataTable =\n",
              "            await google.colab.kernel.invokeFunction('convertToInteractive',\n",
              "                                                     [key], {});\n",
              "          if (!dataTable) return;\n",
              "\n",
              "          const docLinkHtml = 'Like what you see? Visit the ' +\n",
              "            '<a target=\"_blank\" href=https://colab.research.google.com/notebooks/data_table.ipynb>data table notebook</a>'\n",
              "            + ' to learn more about interactive tables.';\n",
              "          element.innerHTML = '';\n",
              "          dataTable['output_type'] = 'display_data';\n",
              "          await google.colab.output.renderOutput(dataTable, element);\n",
              "          const docLink = document.createElement('div');\n",
              "          docLink.innerHTML = docLinkHtml;\n",
              "          element.appendChild(docLink);\n",
              "        }\n",
              "      </script>\n",
              "    </div>\n",
              "  </div>\n",
              "  "
            ]
          },
          "metadata": {},
          "execution_count": 103
        }
      ]
    },
    {
      "cell_type": "code",
      "source": [
        "# calling the normalization() function\n",
        "X_test = normalization_test(X_test,numeric_cols)\n",
        "X_test.head()"
      ],
      "metadata": {
        "colab": {
          "base_uri": "https://localhost:8080/",
          "height": 300
        },
        "id": "EKmhgZCobPU3",
        "outputId": "f176398b-7279-499a-806f-6c69e8a9eb8e"
      },
      "execution_count": 104,
      "outputs": [
        {
          "output_type": "execute_result",
          "data": {
            "text/plain": [
              "                 X1            X2            X3            X4            X5  \\\n",
              "26002  5.295081e+07  1.654419e+08  1.452415e+10  9.190756e+07  1.607136e+08   \n",
              "80420  1.684686e+10  3.114160e+08  8.076888e-01  2.809656e+10  3.114160e+08   \n",
              "19864  4.780952e+07  1.373894e+08  8.074566e-01  8.336001e+07  1.373894e+08   \n",
              "81525  1.692996e+10  3.114160e+08  8.074722e-01  2.818977e+10  3.114160e+08   \n",
              "57878  1.249339e+08  3.220584e+09  7.382331e+10  1.986870e+08  3.215605e+09   \n",
              "\n",
              "                 X6            X7            X8            X9           X10  \\\n",
              "26002  1.212308e+10  2.803455e+08  1.542686e+08  8.650160e+09  2.833995e+09   \n",
              "80420  8.081136e-01  8.432902e+10  3.114160e+08  8.076805e-01  4.636051e+11   \n",
              "19864  8.074607e-01  2.747988e+08  1.373894e+08  4.401507e+01  2.902150e+09   \n",
              "81525  8.076471e-01  8.429960e+10  3.114160e+08  8.081719e-01  3.928678e+11   \n",
              "57878  7.921728e+10  5.984011e+08  3.215891e+09  8.445400e+10  6.124058e+09   \n",
              "\n",
              "       ...      X107      X108          X109          X110          X111  \\\n",
              "26002  ...  0.807442  0.793868  2.859616e+10  1.373894e+08  4.260261e+00   \n",
              "80420  ...  0.807456  0.807456  1.091227e+07  3.114160e+08  5.174947e+00   \n",
              "19864  ...  0.807445  0.796358  2.852034e+10  1.373894e+08  1.461868e+01   \n",
              "81525  ...  0.807456  0.807456  1.118715e+07  3.114160e+08  8.074555e-01   \n",
              "57878  ...  0.807468  0.818042  6.157898e+10  3.209433e+09  4.759132e+08   \n",
              "\n",
              "               X112          X113      X114      X115  label  \n",
              "26002  3.205788e+09  1.068963e+11  0.807445  0.774845    0.0  \n",
              "80420  3.114160e+08  8.074639e-01  0.807456  0.807456    1.0  \n",
              "19864  3.211082e+09  1.012635e+11  0.807369  0.739254    0.0  \n",
              "81525  3.114160e+08  8.074555e-01  0.807456  0.807456    1.0  \n",
              "57878  3.212372e+09  9.891302e+10  0.807435  0.795784    0.0  \n",
              "\n",
              "[5 rows x 116 columns]"
            ],
            "text/html": [
              "\n",
              "  <div id=\"df-0e335582-cf23-4f48-b112-4bd6b49017fc\">\n",
              "    <div class=\"colab-df-container\">\n",
              "      <div>\n",
              "<style scoped>\n",
              "    .dataframe tbody tr th:only-of-type {\n",
              "        vertical-align: middle;\n",
              "    }\n",
              "\n",
              "    .dataframe tbody tr th {\n",
              "        vertical-align: top;\n",
              "    }\n",
              "\n",
              "    .dataframe thead th {\n",
              "        text-align: right;\n",
              "    }\n",
              "</style>\n",
              "<table border=\"1\" class=\"dataframe\">\n",
              "  <thead>\n",
              "    <tr style=\"text-align: right;\">\n",
              "      <th></th>\n",
              "      <th>X1</th>\n",
              "      <th>X2</th>\n",
              "      <th>X3</th>\n",
              "      <th>X4</th>\n",
              "      <th>X5</th>\n",
              "      <th>X6</th>\n",
              "      <th>X7</th>\n",
              "      <th>X8</th>\n",
              "      <th>X9</th>\n",
              "      <th>X10</th>\n",
              "      <th>...</th>\n",
              "      <th>X107</th>\n",
              "      <th>X108</th>\n",
              "      <th>X109</th>\n",
              "      <th>X110</th>\n",
              "      <th>X111</th>\n",
              "      <th>X112</th>\n",
              "      <th>X113</th>\n",
              "      <th>X114</th>\n",
              "      <th>X115</th>\n",
              "      <th>label</th>\n",
              "    </tr>\n",
              "  </thead>\n",
              "  <tbody>\n",
              "    <tr>\n",
              "      <th>26002</th>\n",
              "      <td>5.295081e+07</td>\n",
              "      <td>1.654419e+08</td>\n",
              "      <td>1.452415e+10</td>\n",
              "      <td>9.190756e+07</td>\n",
              "      <td>1.607136e+08</td>\n",
              "      <td>1.212308e+10</td>\n",
              "      <td>2.803455e+08</td>\n",
              "      <td>1.542686e+08</td>\n",
              "      <td>8.650160e+09</td>\n",
              "      <td>2.833995e+09</td>\n",
              "      <td>...</td>\n",
              "      <td>0.807442</td>\n",
              "      <td>0.793868</td>\n",
              "      <td>2.859616e+10</td>\n",
              "      <td>1.373894e+08</td>\n",
              "      <td>4.260261e+00</td>\n",
              "      <td>3.205788e+09</td>\n",
              "      <td>1.068963e+11</td>\n",
              "      <td>0.807445</td>\n",
              "      <td>0.774845</td>\n",
              "      <td>0.0</td>\n",
              "    </tr>\n",
              "    <tr>\n",
              "      <th>80420</th>\n",
              "      <td>1.684686e+10</td>\n",
              "      <td>3.114160e+08</td>\n",
              "      <td>8.076888e-01</td>\n",
              "      <td>2.809656e+10</td>\n",
              "      <td>3.114160e+08</td>\n",
              "      <td>8.081136e-01</td>\n",
              "      <td>8.432902e+10</td>\n",
              "      <td>3.114160e+08</td>\n",
              "      <td>8.076805e-01</td>\n",
              "      <td>4.636051e+11</td>\n",
              "      <td>...</td>\n",
              "      <td>0.807456</td>\n",
              "      <td>0.807456</td>\n",
              "      <td>1.091227e+07</td>\n",
              "      <td>3.114160e+08</td>\n",
              "      <td>5.174947e+00</td>\n",
              "      <td>3.114160e+08</td>\n",
              "      <td>8.074639e-01</td>\n",
              "      <td>0.807456</td>\n",
              "      <td>0.807456</td>\n",
              "      <td>1.0</td>\n",
              "    </tr>\n",
              "    <tr>\n",
              "      <th>19864</th>\n",
              "      <td>4.780952e+07</td>\n",
              "      <td>1.373894e+08</td>\n",
              "      <td>8.074566e-01</td>\n",
              "      <td>8.336001e+07</td>\n",
              "      <td>1.373894e+08</td>\n",
              "      <td>8.074607e-01</td>\n",
              "      <td>2.747988e+08</td>\n",
              "      <td>1.373894e+08</td>\n",
              "      <td>4.401507e+01</td>\n",
              "      <td>2.902150e+09</td>\n",
              "      <td>...</td>\n",
              "      <td>0.807445</td>\n",
              "      <td>0.796358</td>\n",
              "      <td>2.852034e+10</td>\n",
              "      <td>1.373894e+08</td>\n",
              "      <td>1.461868e+01</td>\n",
              "      <td>3.211082e+09</td>\n",
              "      <td>1.012635e+11</td>\n",
              "      <td>0.807369</td>\n",
              "      <td>0.739254</td>\n",
              "      <td>0.0</td>\n",
              "    </tr>\n",
              "    <tr>\n",
              "      <th>81525</th>\n",
              "      <td>1.692996e+10</td>\n",
              "      <td>3.114160e+08</td>\n",
              "      <td>8.074722e-01</td>\n",
              "      <td>2.818977e+10</td>\n",
              "      <td>3.114160e+08</td>\n",
              "      <td>8.076471e-01</td>\n",
              "      <td>8.429960e+10</td>\n",
              "      <td>3.114160e+08</td>\n",
              "      <td>8.081719e-01</td>\n",
              "      <td>3.928678e+11</td>\n",
              "      <td>...</td>\n",
              "      <td>0.807456</td>\n",
              "      <td>0.807456</td>\n",
              "      <td>1.118715e+07</td>\n",
              "      <td>3.114160e+08</td>\n",
              "      <td>8.074555e-01</td>\n",
              "      <td>3.114160e+08</td>\n",
              "      <td>8.074555e-01</td>\n",
              "      <td>0.807456</td>\n",
              "      <td>0.807456</td>\n",
              "      <td>1.0</td>\n",
              "    </tr>\n",
              "    <tr>\n",
              "      <th>57878</th>\n",
              "      <td>1.249339e+08</td>\n",
              "      <td>3.220584e+09</td>\n",
              "      <td>7.382331e+10</td>\n",
              "      <td>1.986870e+08</td>\n",
              "      <td>3.215605e+09</td>\n",
              "      <td>7.921728e+10</td>\n",
              "      <td>5.984011e+08</td>\n",
              "      <td>3.215891e+09</td>\n",
              "      <td>8.445400e+10</td>\n",
              "      <td>6.124058e+09</td>\n",
              "      <td>...</td>\n",
              "      <td>0.807468</td>\n",
              "      <td>0.818042</td>\n",
              "      <td>6.157898e+10</td>\n",
              "      <td>3.209433e+09</td>\n",
              "      <td>4.759132e+08</td>\n",
              "      <td>3.212372e+09</td>\n",
              "      <td>9.891302e+10</td>\n",
              "      <td>0.807435</td>\n",
              "      <td>0.795784</td>\n",
              "      <td>0.0</td>\n",
              "    </tr>\n",
              "  </tbody>\n",
              "</table>\n",
              "<p>5 rows × 116 columns</p>\n",
              "</div>\n",
              "      <button class=\"colab-df-convert\" onclick=\"convertToInteractive('df-0e335582-cf23-4f48-b112-4bd6b49017fc')\"\n",
              "              title=\"Convert this dataframe to an interactive table.\"\n",
              "              style=\"display:none;\">\n",
              "        \n",
              "  <svg xmlns=\"http://www.w3.org/2000/svg\" height=\"24px\"viewBox=\"0 0 24 24\"\n",
              "       width=\"24px\">\n",
              "    <path d=\"M0 0h24v24H0V0z\" fill=\"none\"/>\n",
              "    <path d=\"M18.56 5.44l.94 2.06.94-2.06 2.06-.94-2.06-.94-.94-2.06-.94 2.06-2.06.94zm-11 1L8.5 8.5l.94-2.06 2.06-.94-2.06-.94L8.5 2.5l-.94 2.06-2.06.94zm10 10l.94 2.06.94-2.06 2.06-.94-2.06-.94-.94-2.06-.94 2.06-2.06.94z\"/><path d=\"M17.41 7.96l-1.37-1.37c-.4-.4-.92-.59-1.43-.59-.52 0-1.04.2-1.43.59L10.3 9.45l-7.72 7.72c-.78.78-.78 2.05 0 2.83L4 21.41c.39.39.9.59 1.41.59.51 0 1.02-.2 1.41-.59l7.78-7.78 2.81-2.81c.8-.78.8-2.07 0-2.86zM5.41 20L4 18.59l7.72-7.72 1.47 1.35L5.41 20z\"/>\n",
              "  </svg>\n",
              "      </button>\n",
              "      \n",
              "  <style>\n",
              "    .colab-df-container {\n",
              "      display:flex;\n",
              "      flex-wrap:wrap;\n",
              "      gap: 12px;\n",
              "    }\n",
              "\n",
              "    .colab-df-convert {\n",
              "      background-color: #E8F0FE;\n",
              "      border: none;\n",
              "      border-radius: 50%;\n",
              "      cursor: pointer;\n",
              "      display: none;\n",
              "      fill: #1967D2;\n",
              "      height: 32px;\n",
              "      padding: 0 0 0 0;\n",
              "      width: 32px;\n",
              "    }\n",
              "\n",
              "    .colab-df-convert:hover {\n",
              "      background-color: #E2EBFA;\n",
              "      box-shadow: 0px 1px 2px rgba(60, 64, 67, 0.3), 0px 1px 3px 1px rgba(60, 64, 67, 0.15);\n",
              "      fill: #174EA6;\n",
              "    }\n",
              "\n",
              "    [theme=dark] .colab-df-convert {\n",
              "      background-color: #3B4455;\n",
              "      fill: #D2E3FC;\n",
              "    }\n",
              "\n",
              "    [theme=dark] .colab-df-convert:hover {\n",
              "      background-color: #434B5C;\n",
              "      box-shadow: 0px 1px 3px 1px rgba(0, 0, 0, 0.15);\n",
              "      filter: drop-shadow(0px 1px 2px rgba(0, 0, 0, 0.3));\n",
              "      fill: #FFFFFF;\n",
              "    }\n",
              "  </style>\n",
              "\n",
              "      <script>\n",
              "        const buttonEl =\n",
              "          document.querySelector('#df-0e335582-cf23-4f48-b112-4bd6b49017fc button.colab-df-convert');\n",
              "        buttonEl.style.display =\n",
              "          google.colab.kernel.accessAllowed ? 'block' : 'none';\n",
              "\n",
              "        async function convertToInteractive(key) {\n",
              "          const element = document.querySelector('#df-0e335582-cf23-4f48-b112-4bd6b49017fc');\n",
              "          const dataTable =\n",
              "            await google.colab.kernel.invokeFunction('convertToInteractive',\n",
              "                                                     [key], {});\n",
              "          if (!dataTable) return;\n",
              "\n",
              "          const docLinkHtml = 'Like what you see? Visit the ' +\n",
              "            '<a target=\"_blank\" href=https://colab.research.google.com/notebooks/data_table.ipynb>data table notebook</a>'\n",
              "            + ' to learn more about interactive tables.';\n",
              "          element.innerHTML = '';\n",
              "          dataTable['output_type'] = 'display_data';\n",
              "          await google.colab.output.renderOutput(dataTable, element);\n",
              "          const docLink = document.createElement('div');\n",
              "          docLink.innerHTML = docLinkHtml;\n",
              "          element.appendChild(docLink);\n",
              "        }\n",
              "      </script>\n",
              "    </div>\n",
              "  </div>\n",
              "  "
            ]
          },
          "metadata": {},
          "execution_count": 104
        }
      ]
    },
    {
      "cell_type": "markdown",
      "metadata": {
        "id": "ZfAbEIDgz4iY"
      },
      "source": [
        "## **Linear Support Vector Machine Classifier (Binary Classification) **\n",
        "to enable make the svm_enable = 1 in the above cell"
      ]
    },
    {
      "cell_type": "code",
      "execution_count": 105,
      "metadata": {
        "id": "o8GdMBjdzFQT"
      },
      "outputs": [],
      "source": [
        "if svm_enable:\n",
        "  # using kernel as linear \n",
        "  lsvm = SVC(kernel='linear',gamma='auto') \n",
        "  lsvm.fit(X_train,y_train) # training model on training dataset"
      ]
    },
    {
      "cell_type": "code",
      "execution_count": 106,
      "metadata": {
        "id": "NjfYZA_9zTNK"
      },
      "outputs": [],
      "source": [
        "if svm_enable:\n",
        "  pkl_filename = \"/content/drive/MyDrive/Colab_Notebooks/Models/lsvm_binary\"+model_name_suffix+\".pkl\"\n",
        "  if (not path.isfile(pkl_filename)):\n",
        "    # saving the trained model to disk\n",
        "    with open(pkl_filename, 'wb') as file:\n",
        "      pickle.dump(lsvm, file)\n",
        "    print(\"Saved model to disk\")\n",
        "    # loading the trained model from disk\n",
        "    with open(pkl_filename, 'rb') as file:\n",
        "      lsvm = pickle.load(file)\n",
        "    print(\"Loaded model from disk\") "
      ]
    },
    {
      "cell_type": "code",
      "execution_count": 107,
      "metadata": {
        "id": "xsnN51Juzgcf",
        "colab": {
          "base_uri": "https://localhost:8080/"
        },
        "outputId": "04813bd3-09c2-4e09-986d-cdc5426ca1cd"
      },
      "outputs": [
        {
          "output_type": "stream",
          "name": "stdout",
          "text": [
            "LSVM-Classifier Binary Set-Accuracy is  47.327999999999996\n"
          ]
        }
      ],
      "source": [
        "if svm_enable:\n",
        "  y_pred = lsvm.predict(X_test) # predicting target attribute on testing dataset\n",
        "  ac = accuracy_score(y_test, y_pred)*100 # calculating accuracy of predicted data\n",
        "  print(\"LSVM-Classifier Binary Set-Accuracy is \", ac)"
      ]
    },
    {
      "cell_type": "code",
      "execution_count": 108,
      "metadata": {
        "id": "qg2gbJTg8NtL"
      },
      "outputs": [],
      "source": [
        "# import matplotlib.pyplot as plt\n",
        "# from sklearn.datasets import make_classification\n",
        "# from sklearn.metrics import confusion_matrix, ConfusionMatrixDisplay\n",
        "# from sklearn.model_selection import train_test_split\n",
        "# from sklearn.svm import SVC\n",
        "# X, y = make_classification(random_state=0)\n",
        "# X_train, X_test, y_train, y_test = train_test_split(X, y,\n",
        "#                                                     random_state=0)\n",
        "# cm = confusion_matrix(y_test, y_pred, labels=lsvm.classes_)\n",
        "# disp = ConfusionMatrixDisplay(confusion_matrix=cm,\n",
        "#                               display_labels=lsvm.classes_)\n",
        "# disp.plot()\n",
        "\n",
        "# plt.show()"
      ]
    },
    {
      "cell_type": "code",
      "execution_count": 109,
      "metadata": {
        "id": "9IydNlzT5kx6",
        "colab": {
          "base_uri": "https://localhost:8080/",
          "height": 460
        },
        "outputId": "e3142b4c-d538-490f-d421-21136228fc0b"
      },
      "outputs": [
        {
          "output_type": "display_data",
          "data": {
            "text/plain": [
              "<Figure size 2000x800 with 1 Axes>"
            ],
            "image/png": "[encoded data removed]"
          },
          "metadata": {}
        }
      ],
      "source": [
        "if svm_enable:\n",
        "  plt.figure(figsize=(20,8))\n",
        "  plt.plot(y_pred[300:500], label=\"prediction\", linewidth=2.0,color='blue')\n",
        "  plt.plot(y_test[300:500].values, label=\"real_values\", linewidth=2.0,color='lightcoral')\n",
        "  plt.legend(loc=\"best\")\n",
        "  plt.ylim((-1,2))\n",
        "  plt.title(\"Linear SVM Binary Classification\")\n",
        "  plt.savefig('/content/drive/MyDrive/Colab_Notebooks/Plots/lsvm_real_pred_bin.png')\n",
        "  plt.show()"
      ]
    },
    {
      "cell_type": "code",
      "execution_count": 110,
      "metadata": {
        "id": "s9lqoveaUBvg",
        "colab": {
          "base_uri": "https://localhost:8080/"
        },
        "outputId": "fc7784f8-d69b-47c4-e6da-150b6b095171"
      },
      "outputs": [
        {
          "output_type": "stream",
          "name": "stdout",
          "text": [
            "              precision    recall  f1-score   support\n",
            "\n",
            "     class 0       1.00      0.16      0.28     15701\n",
            "     class 1       0.41      1.00      0.59      9299\n",
            "\n",
            "    accuracy                           0.47     25000\n",
            "   macro avg       0.71      0.58      0.43     25000\n",
            "weighted avg       0.78      0.47      0.39     25000\n",
            "\n",
            "False Positive Rate -  [0.8386727]\n",
            "False Negative Rate -  [0.]\n",
            "Thresholds -  [1.]\n"
          ]
        }
      ],
      "source": [
        "if svm_enable:\n",
        "  target_names = ['class 0', 'class 1']\n",
        "  print(classification_report(y_test, y_pred, target_names=target_names))\n",
        "  fpr, fnr, thresholds = det_curve(y_test, y_pred)\n",
        "  print(\"False Positive Rate - \", fpr)\n",
        "  print(\"False Negative Rate - \", fnr)\n",
        "  print(\"Thresholds - \", thresholds)"
      ]
    },
    {
      "cell_type": "code",
      "execution_count": 111,
      "metadata": {
        "id": "kWxBZhnw9t5n",
        "colab": {
          "base_uri": "https://localhost:8080/",
          "height": 449
        },
        "outputId": "b64cdf8c-bcc0-480e-c849-58275e27794f"
      },
      "outputs": [
        {
          "output_type": "display_data",
          "data": {
            "text/plain": [
              "<Figure size 640x480 with 2 Axes>"
            ],
            "image/png": "[encoded data removed]"
          },
          "metadata": {}
        }
      ],
      "source": [
        "if svm_enable:\n",
        "  from sklearn.metrics import confusion_matrix, ConfusionMatrixDisplay\n",
        "\n",
        "  clf = lsvm\n",
        "  cm = confusion_matrix(y_test, y_pred, labels=clf.classes_)\n",
        "  disp = ConfusionMatrixDisplay(confusion_matrix=cm,\n",
        "                                display_labels=clf.classes_)\n",
        "  disp.plot()\n",
        "\n",
        "  plt.show()"
      ]
    },
    {
      "cell_type": "markdown",
      "metadata": {
        "id": "PUjrwY2l0_RI"
      },
      "source": [
        "## **Multi Layer Perceptron Classifier (Binary Classification)**"
      ]
    },
    {
      "cell_type": "code",
      "execution_count": 112,
      "metadata": {
        "id": "u9v5Ylpa1DHY"
      },
      "outputs": [],
      "source": [
        "if model_selection[model_flag]==\"ALL\" or model_selection[model_flag] == \"MLP\":\n",
        "  mlp = Sequential() # creating model\n",
        "\n",
        "  # adding input layer and first layer with 50 neurons\n",
        "  mlp.add(Dense(units=50, input_dim=X_train.shape[1], activation='relu'))\n",
        "  # output layer with sigmoid activation\n",
        "  mlp.add(Dense(units=1,activation='sigmoid'))"
      ]
    },
    {
      "cell_type": "code",
      "execution_count": 113,
      "metadata": {
        "id": "E-9M9d0p1p8s"
      },
      "outputs": [],
      "source": [
        "if model_selection[model_flag]==\"ALL\" or model_selection[model_flag] == \"MLP\":\n",
        "  # defining loss function, optimizer, metrics and then compiling model\n",
        "  mlp.compile(loss='binary_crossentropy', optimizer='adam', metrics=['accuracy'])"
      ]
    },
    {
      "cell_type": "code",
      "execution_count": 114,
      "metadata": {
        "id": "NK-1_akm1vO9",
        "colab": {
          "base_uri": "https://localhost:8080/"
        },
        "outputId": "4fbc934a-1533-4409-d1ca-79ff3c6e5e1a"
      },
      "outputs": [
        {
          "output_type": "stream",
          "name": "stdout",
          "text": [
            "Model: \"sequential_2\"\n",
            "_________________________________________________________________\n",
            " Layer (type)                Output Shape              Param #   \n",
            "=================================================================\n",
            " dense_7 (Dense)             (None, 50)                5850      \n",
            "                                                                 \n",
            " dense_8 (Dense)             (None, 1)                 51        \n",
            "                                                                 \n",
            "=================================================================\n",
            "Total params: 5,901\n",
            "Trainable params: 5,901\n",
            "Non-trainable params: 0\n",
            "_________________________________________________________________\n"
          ]
        }
      ],
      "source": [
        "if model_selection[model_flag]==\"ALL\" or model_selection[model_flag] == \"MLP\":\n",
        "  # summary of model layers\n",
        "  mlp.summary()"
      ]
    },
    {
      "cell_type": "code",
      "execution_count": 115,
      "metadata": {
        "id": "UYZ4xCgp13gP",
        "colab": {
          "base_uri": "https://localhost:8080/"
        },
        "outputId": "cba937f3-abd7-4575-8771-ff59187dfb72"
      },
      "outputs": [
        {
          "output_type": "stream",
          "name": "stdout",
          "text": [
            "Epoch 1/100\n",
            "12/12 [==============================] - 1s 22ms/step - loss: 0.5419 - accuracy: 0.6912 - val_loss: 0.2589 - val_accuracy: 0.9485\n",
            "Epoch 2/100\n",
            "12/12 [==============================] - 0s 8ms/step - loss: 0.1713 - accuracy: 0.9735 - val_loss: 0.1058 - val_accuracy: 0.9884\n",
            "Epoch 3/100\n",
            "12/12 [==============================] - 0s 9ms/step - loss: 0.0840 - accuracy: 0.9903 - val_loss: 0.0654 - val_accuracy: 0.9917\n",
            "Epoch 4/100\n",
            "12/12 [==============================] - 0s 9ms/step - loss: 0.0576 - accuracy: 0.9919 - val_loss: 0.0503 - val_accuracy: 0.9923\n",
            "Epoch 5/100\n",
            "12/12 [==============================] - 0s 8ms/step - loss: 0.0470 - accuracy: 0.9923 - val_loss: 0.0434 - val_accuracy: 0.9927\n",
            "Epoch 6/100\n",
            "12/12 [==============================] - 0s 9ms/step - loss: 0.0417 - accuracy: 0.9927 - val_loss: 0.0395 - val_accuracy: 0.9932\n",
            "Epoch 7/100\n",
            "12/12 [==============================] - 0s 9ms/step - loss: 0.0384 - accuracy: 0.9931 - val_loss: 0.0370 - val_accuracy: 0.9933\n",
            "Epoch 8/100\n",
            "12/12 [==============================] - 0s 11ms/step - loss: 0.0360 - accuracy: 0.9933 - val_loss: 0.0350 - val_accuracy: 0.9935\n",
            "Epoch 9/100\n",
            "12/12 [==============================] - 0s 13ms/step - loss: 0.0341 - accuracy: 0.9935 - val_loss: 0.0335 - val_accuracy: 0.9935\n",
            "Epoch 10/100\n",
            "12/12 [==============================] - 0s 13ms/step - loss: 0.0325 - accuracy: 0.9936 - val_loss: 0.0322 - val_accuracy: 0.9935\n",
            "Epoch 11/100\n",
            "12/12 [==============================] - 0s 12ms/step - loss: 0.0311 - accuracy: 0.9937 - val_loss: 0.0310 - val_accuracy: 0.9936\n",
            "Epoch 12/100\n",
            "12/12 [==============================] - 0s 11ms/step - loss: 0.0298 - accuracy: 0.9937 - val_loss: 0.0299 - val_accuracy: 0.9937\n",
            "Epoch 13/100\n",
            "12/12 [==============================] - 0s 12ms/step - loss: 0.0286 - accuracy: 0.9937 - val_loss: 0.0289 - val_accuracy: 0.9937\n",
            "Epoch 14/100\n",
            "12/12 [==============================] - 0s 11ms/step - loss: 0.0274 - accuracy: 0.9937 - val_loss: 0.0279 - val_accuracy: 0.9937\n",
            "Epoch 15/100\n",
            "12/12 [==============================] - 0s 12ms/step - loss: 0.0263 - accuracy: 0.9938 - val_loss: 0.0270 - val_accuracy: 0.9938\n",
            "Epoch 16/100\n",
            "12/12 [==============================] - 0s 11ms/step - loss: 0.0253 - accuracy: 0.9938 - val_loss: 0.0261 - val_accuracy: 0.9938\n",
            "Epoch 17/100\n",
            "12/12 [==============================] - 0s 12ms/step - loss: 0.0243 - accuracy: 0.9938 - val_loss: 0.0252 - val_accuracy: 0.9938\n",
            "Epoch 18/100\n",
            "12/12 [==============================] - 0s 12ms/step - loss: 0.0234 - accuracy: 0.9938 - val_loss: 0.0245 - val_accuracy: 0.9939\n",
            "Epoch 19/100\n",
            "12/12 [==============================] - 0s 15ms/step - loss: 0.0226 - accuracy: 0.9940 - val_loss: 0.0237 - val_accuracy: 0.9939\n",
            "Epoch 20/100\n",
            "12/12 [==============================] - 0s 11ms/step - loss: 0.0218 - accuracy: 0.9944 - val_loss: 0.0231 - val_accuracy: 0.9940\n",
            "Epoch 21/100\n",
            "12/12 [==============================] - 0s 10ms/step - loss: 0.0212 - accuracy: 0.9949 - val_loss: 0.0225 - val_accuracy: 0.9945\n",
            "Epoch 22/100\n",
            "12/12 [==============================] - 0s 11ms/step - loss: 0.0206 - accuracy: 0.9953 - val_loss: 0.0220 - val_accuracy: 0.9949\n",
            "Epoch 23/100\n",
            "12/12 [==============================] - 0s 12ms/step - loss: 0.0201 - accuracy: 0.9957 - val_loss: 0.0215 - val_accuracy: 0.9951\n",
            "Epoch 24/100\n",
            "12/12 [==============================] - 0s 11ms/step - loss: 0.0197 - accuracy: 0.9958 - val_loss: 0.0211 - val_accuracy: 0.9951\n",
            "Epoch 25/100\n",
            "12/12 [==============================] - 0s 10ms/step - loss: 0.0192 - accuracy: 0.9959 - val_loss: 0.0207 - val_accuracy: 0.9951\n",
            "Epoch 26/100\n",
            "12/12 [==============================] - 0s 13ms/step - loss: 0.0189 - accuracy: 0.9960 - val_loss: 0.0204 - val_accuracy: 0.9953\n",
            "Epoch 27/100\n",
            "12/12 [==============================] - 0s 11ms/step - loss: 0.0186 - accuracy: 0.9961 - val_loss: 0.0200 - val_accuracy: 0.9957\n",
            "Epoch 28/100\n",
            "12/12 [==============================] - 0s 10ms/step - loss: 0.0183 - accuracy: 0.9961 - val_loss: 0.0197 - val_accuracy: 0.9955\n",
            "Epoch 29/100\n",
            "12/12 [==============================] - 0s 11ms/step - loss: 0.0179 - accuracy: 0.9961 - val_loss: 0.0193 - val_accuracy: 0.9955\n",
            "Epoch 30/100\n",
            "12/12 [==============================] - 0s 11ms/step - loss: 0.0176 - accuracy: 0.9963 - val_loss: 0.0190 - val_accuracy: 0.9955\n",
            "Epoch 31/100\n",
            "12/12 [==============================] - 0s 12ms/step - loss: 0.0173 - accuracy: 0.9963 - val_loss: 0.0187 - val_accuracy: 0.9955\n",
            "Epoch 32/100\n",
            "12/12 [==============================] - 0s 11ms/step - loss: 0.0170 - accuracy: 0.9963 - val_loss: 0.0184 - val_accuracy: 0.9956\n",
            "Epoch 33/100\n",
            "12/12 [==============================] - 0s 9ms/step - loss: 0.0168 - accuracy: 0.9964 - val_loss: 0.0181 - val_accuracy: 0.9957\n",
            "Epoch 34/100\n",
            "12/12 [==============================] - 0s 9ms/step - loss: 0.0165 - accuracy: 0.9964 - val_loss: 0.0178 - val_accuracy: 0.9957\n",
            "Epoch 35/100\n",
            "12/12 [==============================] - 0s 9ms/step - loss: 0.0159 - accuracy: 0.9964 - val_loss: 0.0169 - val_accuracy: 0.9957\n",
            "Epoch 36/100\n",
            "12/12 [==============================] - 0s 8ms/step - loss: 0.0154 - accuracy: 0.9964 - val_loss: 0.0163 - val_accuracy: 0.9959\n",
            "Epoch 37/100\n",
            "12/12 [==============================] - 0s 8ms/step - loss: 0.0146 - accuracy: 0.9964 - val_loss: 0.0154 - val_accuracy: 0.9963\n",
            "Epoch 38/100\n",
            "12/12 [==============================] - 0s 9ms/step - loss: 0.0140 - accuracy: 0.9964 - val_loss: 0.0149 - val_accuracy: 0.9960\n",
            "Epoch 39/100\n",
            "12/12 [==============================] - 0s 9ms/step - loss: 0.0136 - accuracy: 0.9964 - val_loss: 0.0144 - val_accuracy: 0.9961\n",
            "Epoch 40/100\n",
            "12/12 [==============================] - 0s 10ms/step - loss: 0.0132 - accuracy: 0.9964 - val_loss: 0.0138 - val_accuracy: 0.9963\n",
            "Epoch 41/100\n",
            "12/12 [==============================] - 0s 9ms/step - loss: 0.0127 - accuracy: 0.9965 - val_loss: 0.0134 - val_accuracy: 0.9964\n",
            "Epoch 42/100\n",
            "12/12 [==============================] - 0s 9ms/step - loss: 0.0124 - accuracy: 0.9966 - val_loss: 0.0131 - val_accuracy: 0.9965\n",
            "Epoch 43/100\n",
            "12/12 [==============================] - 0s 9ms/step - loss: 0.0121 - accuracy: 0.9966 - val_loss: 0.0127 - val_accuracy: 0.9966\n",
            "Epoch 44/100\n",
            "12/12 [==============================] - 0s 8ms/step - loss: 0.0118 - accuracy: 0.9967 - val_loss: 0.0124 - val_accuracy: 0.9966\n",
            "Epoch 45/100\n",
            "12/12 [==============================] - 0s 9ms/step - loss: 0.0115 - accuracy: 0.9968 - val_loss: 0.0121 - val_accuracy: 0.9966\n",
            "Epoch 46/100\n",
            "12/12 [==============================] - 0s 9ms/step - loss: 0.0112 - accuracy: 0.9968 - val_loss: 0.0117 - val_accuracy: 0.9966\n",
            "Epoch 47/100\n",
            "12/12 [==============================] - 0s 8ms/step - loss: 0.0109 - accuracy: 0.9968 - val_loss: 0.0114 - val_accuracy: 0.9966\n",
            "Epoch 48/100\n",
            "12/12 [==============================] - 0s 8ms/step - loss: 0.0106 - accuracy: 0.9968 - val_loss: 0.0111 - val_accuracy: 0.9966\n",
            "Epoch 49/100\n",
            "12/12 [==============================] - 0s 8ms/step - loss: 0.0103 - accuracy: 0.9969 - val_loss: 0.0108 - val_accuracy: 0.9967\n",
            "Epoch 50/100\n",
            "12/12 [==============================] - 0s 9ms/step - loss: 0.0100 - accuracy: 0.9969 - val_loss: 0.0104 - val_accuracy: 0.9967\n",
            "Epoch 51/100\n",
            "12/12 [==============================] - 0s 9ms/step - loss: 0.0097 - accuracy: 0.9970 - val_loss: 0.0101 - val_accuracy: 0.9967\n",
            "Epoch 52/100\n",
            "12/12 [==============================] - 0s 9ms/step - loss: 0.0094 - accuracy: 0.9970 - val_loss: 0.0098 - val_accuracy: 0.9967\n",
            "Epoch 53/100\n",
            "12/12 [==============================] - 0s 8ms/step - loss: 0.0091 - accuracy: 0.9970 - val_loss: 0.0095 - val_accuracy: 0.9967\n",
            "Epoch 54/100\n",
            "12/12 [==============================] - 0s 9ms/step - loss: 0.0088 - accuracy: 0.9970 - val_loss: 0.0092 - val_accuracy: 0.9967\n",
            "Epoch 55/100\n",
            "12/12 [==============================] - 0s 9ms/step - loss: 0.0085 - accuracy: 0.9971 - val_loss: 0.0089 - val_accuracy: 0.9969\n",
            "Epoch 56/100\n",
            "12/12 [==============================] - 0s 9ms/step - loss: 0.0082 - accuracy: 0.9971 - val_loss: 0.0086 - val_accuracy: 0.9969\n",
            "Epoch 57/100\n",
            "12/12 [==============================] - 0s 8ms/step - loss: 0.0080 - accuracy: 0.9971 - val_loss: 0.0083 - val_accuracy: 0.9969\n",
            "Epoch 58/100\n",
            "12/12 [==============================] - 0s 8ms/step - loss: 0.0077 - accuracy: 0.9972 - val_loss: 0.0080 - val_accuracy: 0.9969\n",
            "Epoch 59/100\n",
            "12/12 [==============================] - 0s 9ms/step - loss: 0.0074 - accuracy: 0.9972 - val_loss: 0.0077 - val_accuracy: 0.9969\n",
            "Epoch 60/100\n",
            "12/12 [==============================] - 0s 9ms/step - loss: 0.0072 - accuracy: 0.9972 - val_loss: 0.0075 - val_accuracy: 0.9969\n",
            "Epoch 61/100\n",
            "12/12 [==============================] - 0s 9ms/step - loss: 0.0069 - accuracy: 0.9972 - val_loss: 0.0071 - val_accuracy: 0.9969\n",
            "Epoch 62/100\n",
            "12/12 [==============================] - 0s 9ms/step - loss: 0.0066 - accuracy: 0.9972 - val_loss: 0.0069 - val_accuracy: 0.9969\n",
            "Epoch 63/100\n",
            "12/12 [==============================] - 0s 9ms/step - loss: 0.0064 - accuracy: 0.9972 - val_loss: 0.0066 - val_accuracy: 0.9969\n",
            "Epoch 64/100\n",
            "12/12 [==============================] - 0s 9ms/step - loss: 0.0061 - accuracy: 0.9972 - val_loss: 0.0064 - val_accuracy: 0.9969\n",
            "Epoch 65/100\n",
            "12/12 [==============================] - 0s 9ms/step - loss: 0.0059 - accuracy: 0.9972 - val_loss: 0.0061 - val_accuracy: 0.9969\n",
            "Epoch 66/100\n",
            "12/12 [==============================] - 0s 9ms/step - loss: 0.0057 - accuracy: 0.9972 - val_loss: 0.0059 - val_accuracy: 0.9969\n",
            "Epoch 67/100\n",
            "12/12 [==============================] - 0s 8ms/step - loss: 0.0054 - accuracy: 0.9972 - val_loss: 0.0056 - val_accuracy: 0.9969\n",
            "Epoch 68/100\n",
            "12/12 [==============================] - 0s 10ms/step - loss: 0.0052 - accuracy: 0.9973 - val_loss: 0.0054 - val_accuracy: 0.9969\n",
            "Epoch 69/100\n",
            "12/12 [==============================] - 0s 9ms/step - loss: 0.0049 - accuracy: 0.9973 - val_loss: 0.0050 - val_accuracy: 0.9971\n",
            "Epoch 70/100\n",
            "12/12 [==============================] - 0s 9ms/step - loss: 0.0045 - accuracy: 0.9974 - val_loss: 0.0046 - val_accuracy: 0.9971\n",
            "Epoch 71/100\n",
            "12/12 [==============================] - 0s 8ms/step - loss: 0.0042 - accuracy: 0.9974 - val_loss: 0.0044 - val_accuracy: 0.9971\n",
            "Epoch 72/100\n",
            "12/12 [==============================] - 0s 8ms/step - loss: 0.0041 - accuracy: 0.9975 - val_loss: 0.0042 - val_accuracy: 0.9973\n",
            "Epoch 73/100\n",
            "12/12 [==============================] - 0s 9ms/step - loss: 0.0039 - accuracy: 0.9976 - val_loss: 0.0040 - val_accuracy: 0.9973\n",
            "Epoch 74/100\n",
            "12/12 [==============================] - 0s 9ms/step - loss: 0.0037 - accuracy: 0.9979 - val_loss: 0.0039 - val_accuracy: 0.9997\n",
            "Epoch 75/100\n",
            "12/12 [==============================] - 0s 8ms/step - loss: 0.0036 - accuracy: 0.9998 - val_loss: 0.0037 - val_accuracy: 0.9999\n",
            "Epoch 76/100\n",
            "12/12 [==============================] - 0s 8ms/step - loss: 0.0034 - accuracy: 0.9995 - val_loss: 0.0035 - val_accuracy: 0.9999\n",
            "Epoch 77/100\n",
            "12/12 [==============================] - 0s 8ms/step - loss: 0.0033 - accuracy: 0.9999 - val_loss: 0.0034 - val_accuracy: 0.9999\n",
            "Epoch 78/100\n",
            "12/12 [==============================] - 0s 9ms/step - loss: 0.0031 - accuracy: 0.9999 - val_loss: 0.0033 - val_accuracy: 0.9999\n",
            "Epoch 79/100\n",
            "12/12 [==============================] - 0s 8ms/step - loss: 0.0030 - accuracy: 0.9999 - val_loss: 0.0031 - val_accuracy: 0.9999\n",
            "Epoch 80/100\n",
            "12/12 [==============================] - 0s 10ms/step - loss: 0.0029 - accuracy: 0.9999 - val_loss: 0.0030 - val_accuracy: 0.9999\n",
            "Epoch 81/100\n",
            "12/12 [==============================] - 0s 9ms/step - loss: 0.0028 - accuracy: 0.9999 - val_loss: 0.0029 - val_accuracy: 0.9999\n",
            "Epoch 82/100\n",
            "12/12 [==============================] - 0s 8ms/step - loss: 0.0027 - accuracy: 0.9999 - val_loss: 0.0028 - val_accuracy: 0.9999\n",
            "Epoch 83/100\n",
            "12/12 [==============================] - 0s 9ms/step - loss: 0.0026 - accuracy: 0.9999 - val_loss: 0.0027 - val_accuracy: 0.9999\n",
            "Epoch 84/100\n",
            "12/12 [==============================] - 0s 9ms/step - loss: 0.0025 - accuracy: 0.9999 - val_loss: 0.0025 - val_accuracy: 0.9999\n",
            "Epoch 85/100\n",
            "12/12 [==============================] - 0s 9ms/step - loss: 0.0024 - accuracy: 0.9999 - val_loss: 0.0025 - val_accuracy: 0.9999\n",
            "Epoch 86/100\n",
            "12/12 [==============================] - 0s 8ms/step - loss: 0.0023 - accuracy: 0.9999 - val_loss: 0.0024 - val_accuracy: 0.9999\n",
            "Epoch 87/100\n",
            "12/12 [==============================] - 0s 10ms/step - loss: 0.0022 - accuracy: 0.9999 - val_loss: 0.0023 - val_accuracy: 0.9999\n",
            "Epoch 88/100\n",
            "12/12 [==============================] - 0s 8ms/step - loss: 0.0021 - accuracy: 0.9999 - val_loss: 0.0022 - val_accuracy: 0.9999\n",
            "Epoch 89/100\n",
            "12/12 [==============================] - 0s 9ms/step - loss: 0.0020 - accuracy: 0.9999 - val_loss: 0.0021 - val_accuracy: 0.9999\n",
            "Epoch 90/100\n",
            "12/12 [==============================] - 0s 8ms/step - loss: 0.0020 - accuracy: 0.9999 - val_loss: 0.0020 - val_accuracy: 0.9999\n",
            "Epoch 91/100\n",
            "12/12 [==============================] - 0s 10ms/step - loss: 0.0019 - accuracy: 0.9999 - val_loss: 0.0020 - val_accuracy: 0.9999\n",
            "Epoch 92/100\n",
            "12/12 [==============================] - 0s 8ms/step - loss: 0.0018 - accuracy: 0.9999 - val_loss: 0.0019 - val_accuracy: 0.9999\n",
            "Epoch 93/100\n",
            "12/12 [==============================] - 0s 9ms/step - loss: 0.0018 - accuracy: 0.9999 - val_loss: 0.0018 - val_accuracy: 0.9999\n",
            "Epoch 94/100\n",
            "12/12 [==============================] - 0s 9ms/step - loss: 0.0017 - accuracy: 0.9999 - val_loss: 0.0018 - val_accuracy: 0.9999\n",
            "Epoch 95/100\n",
            "12/12 [==============================] - 0s 9ms/step - loss: 0.0016 - accuracy: 0.9999 - val_loss: 0.0017 - val_accuracy: 0.9999\n",
            "Epoch 96/100\n",
            "12/12 [==============================] - 0s 10ms/step - loss: 0.0016 - accuracy: 0.9999 - val_loss: 0.0016 - val_accuracy: 0.9999\n",
            "Epoch 97/100\n",
            "12/12 [==============================] - 0s 9ms/step - loss: 0.0015 - accuracy: 0.9999 - val_loss: 0.0016 - val_accuracy: 0.9999\n",
            "Epoch 98/100\n",
            "12/12 [==============================] - 0s 9ms/step - loss: 0.0015 - accuracy: 1.0000 - val_loss: 0.0015 - val_accuracy: 0.9999\n",
            "Epoch 99/100\n",
            "12/12 [==============================] - 0s 9ms/step - loss: 0.0014 - accuracy: 1.0000 - val_loss: 0.0015 - val_accuracy: 0.9999\n",
            "Epoch 100/100\n",
            "12/12 [==============================] - 0s 9ms/step - loss: 0.0014 - accuracy: 1.0000 - val_loss: 0.0014 - val_accuracy: 0.9999\n"
          ]
        }
      ],
      "source": [
        "if model_selection[model_flag]==\"ALL\" or model_selection[model_flag] == \"MLP\":\n",
        "  # training the model on training dataset\n",
        "  history = mlp.fit(X_train, y_train, epochs=100, batch_size=5000,validation_split=0.2)"
      ]
    },
    {
      "cell_type": "code",
      "execution_count": 116,
      "metadata": {
        "id": "_n_gNs3p1_M-"
      },
      "outputs": [],
      "source": [
        "if model_selection[model_flag]==\"ALL\" or model_selection[model_flag] == \"MLP\":\n",
        "  filepath = '/content/drive/MyDrive/Colab_Notebooks/Models/mlp_binary'+model_name_suffix+'.json'\n",
        "  weightspath = '/content/drive/MyDrive/Colab_Notebooks/Weights/mlp_binary'+model_name_suffix+'.h5'\n",
        "  if (not path.isfile(filepath)):\n",
        "    # serialize model to JSON\n",
        "    mlp_json = mlp.to_json()\n",
        "    with open(filepath, \"w\") as json_file:\n",
        "      json_file.write(mlp_json)\n",
        "\n",
        "    # serialize weights to HDF5\n",
        "    mlp.save_weights(weightspath)\n",
        "    print(\"Saved model to disk\")\n",
        "\n",
        "    # load json and create model\n",
        "    json_file = open(filepath, 'r')\n",
        "    loaded_model_json = json_file.read()\n",
        "    json_file.close()\n",
        "    mlp = model_from_json(loaded_model_json)\n",
        "\n",
        "    # load weights into new model\n",
        "    mlp.load_weights(weightspath)\n",
        "    print(\"Loaded model from disk\")"
      ]
    },
    {
      "cell_type": "code",
      "execution_count": 117,
      "metadata": {
        "id": "G99OrVcT2JON"
      },
      "outputs": [],
      "source": [
        "if model_selection[model_flag]==\"ALL\" or model_selection[model_flag] == \"MLP\":\n",
        "  # defining loss function, optimizer, metrics and then compiling model\n",
        "  mlp.compile(loss='binary_crossentropy', optimizer='adam', metrics=['accuracy'])"
      ]
    },
    {
      "cell_type": "code",
      "execution_count": 118,
      "metadata": {
        "id": "AXUA0T2N2OIB",
        "colab": {
          "base_uri": "https://localhost:8080/"
        },
        "outputId": "857dfae5-18ea-425d-b10b-6506a3f50a78"
      },
      "outputs": [
        {
          "output_type": "stream",
          "name": "stdout",
          "text": [
            "782/782 [==============================] - 2s 2ms/step - loss: 689772232704.0000 - accuracy: 0.6320\n",
            "Test results - Loss: 689772232704.0 - Accuracy: 63.204002380371094\n"
          ]
        }
      ],
      "source": [
        "if model_selection[model_flag]==\"ALL\" or model_selection[model_flag] == \"MLP\":\n",
        "  # predicting target attribute on testing dataset\n",
        "  test_results = mlp.evaluate(X_test, y_test, verbose=1)\n",
        "  print(f'Test results - Loss: {test_results[0]} - Accuracy: {test_results[1]*100}')"
      ]
    },
    {
      "cell_type": "code",
      "execution_count": 119,
      "metadata": {
        "id": "StFTrhE65_-q",
        "colab": {
          "base_uri": "https://localhost:8080/",
          "height": 472
        },
        "outputId": "194b4b9e-9e74-4186-c424-ea16498d4a66"
      },
      "outputs": [
        {
          "output_type": "display_data",
          "data": {
            "text/plain": [
              "<Figure size 640x480 with 1 Axes>"
            ],
            "image/png": "[encoded data removed]"
          },
          "metadata": {}
        }
      ],
      "source": [
        "if model_selection[model_flag]==\"ALL\" or model_selection[model_flag] == \"MLP\":  \n",
        "  # Plot of accuracy vs epoch of train and test dataset\n",
        "  plt.plot(history.history['accuracy'])\n",
        "  plt.plot(history.history['val_accuracy'])\n",
        "  plt.title(\"Plot of accuracy vs epoch for train and test dataset\")\n",
        "  plt.ylabel('accuracy')\n",
        "  plt.xlabel('epoch')\n",
        "  plt.legend(['train', 'test'], loc='best')\n",
        "  plt.savefig('/content/drive/MyDrive/Colab_Notebooks/Plots/mlp_binary_accuracy.png')\n",
        "  plt.show()"
      ]
    },
    {
      "cell_type": "code",
      "execution_count": 120,
      "metadata": {
        "id": "rZes4PzY6JUq",
        "colab": {
          "base_uri": "https://localhost:8080/",
          "height": 472
        },
        "outputId": "32dbfb73-a174-4155-b4c6-30ac22097e55"
      },
      "outputs": [
        {
          "output_type": "display_data",
          "data": {
            "text/plain": [
              "<Figure size 640x480 with 1 Axes>"
            ],
            "image/png": "[encoded data removed]"
          },
          "metadata": {}
        }
      ],
      "source": [
        "if model_selection[model_flag]==\"ALL\" or model_selection[model_flag] == \"MLP\":\n",
        "  # Plot of loss vs epoch of train and test dataset\n",
        "  plt.plot(history.history['loss'])\n",
        "  plt.plot(history.history['val_loss'])\n",
        "  plt.title('Plot of loss vs epoch for train and test dataset')\n",
        "  plt.ylabel('loss')\n",
        "  plt.xlabel('epoch')\n",
        "  plt.legend(['train', 'test'], loc='best')\n",
        "  plt.savefig('/content/drive/MyDrive/Colab_Notebooks/Plots/mlp_binary_loss.png')\n",
        "  plt.show()"
      ]
    },
    {
      "cell_type": "code",
      "execution_count": 121,
      "metadata": {
        "id": "mC0nj-on6iRU"
      },
      "outputs": [],
      "source": [
        "if model_selection[model_flag]==\"ALL\" or model_selection[model_flag] == \"MLP\":\n",
        "  # representation of model layers\n",
        "  from keras.utils.vis_utils import plot_model\n",
        "  plot_model(mlp, to_file='/content/drive/MyDrive/Colab_Notebooks/Plots/mlp_binary.png', show_shapes=True,)"
      ]
    },
    {
      "cell_type": "code",
      "execution_count": 122,
      "metadata": {
        "id": "oxHdln0c6Xi_",
        "colab": {
          "base_uri": "https://localhost:8080/"
        },
        "outputId": "99d13809-4e79-49fc-dfdd-624c3581ab86"
      },
      "outputs": [
        {
          "output_type": "stream",
          "name": "stdout",
          "text": [
            "782/782 [==============================] - 1s 1ms/step\n"
          ]
        }
      ],
      "source": [
        "if model_selection[model_flag]==\"ALL\" or model_selection[model_flag] == \"MLP\":\n",
        "  y_pred = mlp.predict(X_test).ravel()\n",
        "  fpr, tpr, thresholds = roc_curve(y_test, y_pred)\n",
        "  auc = auc(fpr, tpr)"
      ]
    },
    {
      "cell_type": "code",
      "execution_count": 123,
      "metadata": {
        "id": "Cr36q9Z-6aRU",
        "colab": {
          "base_uri": "https://localhost:8080/",
          "height": 472
        },
        "outputId": "75b6fa9d-2e6b-4e34-f6b8-03332959ad69"
      },
      "outputs": [
        {
          "output_type": "display_data",
          "data": {
            "text/plain": [
              "<Figure size 640x480 with 1 Axes>"
            ],
            "image/png": "[encoded data removed]"
          },
          "metadata": {}
        }
      ],
      "source": [
        "if model_selection[model_flag]==\"ALL\" or model_selection[model_flag] == \"MLP\":\n",
        "  plt.plot([0, 1], [0, 1], 'k--')\n",
        "  plt.plot(fpr, tpr, label='Keras (area = {:.3f})'.format(auc))\n",
        "  plt.xlabel('False positive rate')\n",
        "  plt.ylabel('True positive rate')\n",
        "  plt.title('ROC curve')\n",
        "  plt.legend(loc='best')\n",
        "  plt.savefig('/content/drive/MyDrive/Colab_Notebooks/Plots/mlp_binary_roc.png')\n",
        "  plt.show()"
      ]
    },
    {
      "cell_type": "code",
      "execution_count": 124,
      "metadata": {
        "id": "U9f2bWPwFljk"
      },
      "outputs": [],
      "source": [
        "# real_data_kdd = bin_data.copy()\n",
        "\n",
        "# # Names of the columns that are discrete\n",
        "# cat_cols = real_data_kdd.select_dtypes(['object']).columns\n",
        "# # cat_cols\n",
        "# test_data = real_data_kdd.iloc[:999]\n",
        "\n",
        "# corr= test_data.corr()\n",
        "# corr_y = abs(corr['label'])\n",
        "# highest_corr = corr_y\n",
        "# highest_corr.sort_values(ascending=True)"
      ]
    },
    {
      "cell_type": "code",
      "execution_count": 125,
      "metadata": {
        "id": "8-clVdUoUPa-",
        "colab": {
          "base_uri": "https://localhost:8080/"
        },
        "outputId": "45ae6479-651d-4392-8870-22f92db46d6b"
      },
      "outputs": [
        {
          "output_type": "stream",
          "name": "stdout",
          "text": [
            "782/782 [==============================] - 1s 1ms/step\n"
          ]
        }
      ],
      "source": [
        "if model_selection[model_flag]==\"ALL\" or model_selection[model_flag] == \"MLP\":\n",
        "  y_classes = (mlp.predict(X_test)>0.5).astype('int32')"
      ]
    },
    {
      "cell_type": "code",
      "execution_count": 126,
      "metadata": {
        "id": "0jcFqEqFT-uq",
        "colab": {
          "base_uri": "https://localhost:8080/"
        },
        "outputId": "4628d694-b085-40f2-c095-d4b5c6f03581"
      },
      "outputs": [
        {
          "output_type": "stream",
          "name": "stdout",
          "text": [
            "Recall Score -  0.010861382944402623\n",
            "F1 Score -  0.021487075842995425\n",
            "Precision Score -  0.9901960784313726\n",
            "False Positive Rate -  [1.00000000e+00 6.36902108e-05]\n",
            "False Negative Rate -  [0.         0.98913862]\n",
            "Thresholds -  [0 1]\n"
          ]
        }
      ],
      "source": [
        "if model_selection[model_flag]==\"ALL\" or model_selection[model_flag] == \"MLP\":\n",
        "  print(\"Recall Score - \",recall_score(y_test,y_classes))\n",
        "  print(\"F1 Score - \",f1_score(y_test,y_classes))\n",
        "  print(\"Precision Score - \",precision_score(y_test,y_classes))\n",
        "  fpr, fnr, thresholds = det_curve(y_test, y_classes)\n",
        "  print(\"False Positive Rate - \", fpr)\n",
        "  print(\"False Negative Rate - \", fnr)\n",
        "  print(\"Thresholds - \", thresholds)"
      ]
    },
    {
      "cell_type": "code",
      "source": [
        "print(classification_report(y_test, y_classes, target_names=['0', '1']))\n",
        "cm = confusion_matrix(y_test, y_classes)\n",
        "disp = ConfusionMatrixDisplay(confusion_matrix=cm,\n",
        "                              display_labels=['0', '1'])\n",
        "disp.plot()\n",
        "\n",
        "plt.show()"
      ],
      "metadata": {
        "id": "3HJB6IXJsxjg",
        "colab": {
          "base_uri": "https://localhost:8080/",
          "height": 610
        },
        "outputId": "c01ad5d0-e9fd-4f96-cc6e-87af55c871f4"
      },
      "execution_count": 127,
      "outputs": [
        {
          "output_type": "stream",
          "name": "stdout",
          "text": [
            "              precision    recall  f1-score   support\n",
            "\n",
            "           0       0.63      1.00      0.77     15701\n",
            "           1       0.99      0.01      0.02      9299\n",
            "\n",
            "    accuracy                           0.63     25000\n",
            "   macro avg       0.81      0.51      0.40     25000\n",
            "weighted avg       0.76      0.63      0.49     25000\n",
            "\n"
          ]
        },
        {
          "output_type": "display_data",
          "data": {
            "text/plain": [
              "<Figure size 640x480 with 2 Axes>"
            ],
            "image/png": "[encoded data removed]"
          },
          "metadata": {}
        }
      ]
    },
    {
      "cell_type": "markdown",
      "source": [
        "# **Correlation** Matrix of Features"
      ],
      "metadata": {
        "id": "j7BKdCwqs2RE"
      }
    },
    {
      "cell_type": "code",
      "execution_count": 128,
      "metadata": {
        "id": "TL8zt-tHLt90",
        "colab": {
          "base_uri": "https://localhost:8080/"
        },
        "outputId": "85ce2d00-0362-422b-b973-17bc51fbd4b6"
      },
      "outputs": [
        {
          "output_type": "execute_result",
          "data": {
            "text/plain": [
              "X63      0.319690\n",
              "X85      0.479742\n",
              "X106     0.502142\n",
              "X92      0.503958\n",
              "X99      0.512200\n",
              "           ...   \n",
              "X1       0.979972\n",
              "X16      0.980124\n",
              "X66      0.980124\n",
              "X31      0.980124\n",
              "label    1.000000\n",
              "Name: label, Length: 88, dtype: float64"
            ]
          },
          "metadata": {},
          "execution_count": 128
        }
      ],
      "source": [
        "corr= bin_data.corr()\n",
        "corr_y = abs(corr['label'])\n",
        "highest_corr = corr_y[corr_y >0.3]\n",
        "highest_corr.sort_values(ascending=True)"
      ]
    },
    {
      "cell_type": "code",
      "source": [
        "plt.matshow(corr)\n",
        "plt.show()"
      ],
      "metadata": {
        "colab": {
          "base_uri": "https://localhost:8080/",
          "height": 437
        },
        "id": "q4b094WVtQQ7",
        "outputId": "1fd8bd0c-9d29-4678-fb6b-4f9c86c8d451"
      },
      "execution_count": 129,
      "outputs": [
        {
          "output_type": "display_data",
          "data": {
            "text/plain": [
              "<Figure size 480x480 with 1 Axes>"
            ],
            "image/png": "[encoded data removed]"
          },
          "metadata": {}
        }
      ]
    },
    {
      "cell_type": "markdown",
      "metadata": {
        "id": "ZHhtNjFLPj6Y"
      },
      "source": [
        "## **LSTM Classifier**"
      ]
    },
    {
      "cell_type": "code",
      "execution_count": 130,
      "metadata": {
        "id": "DTNPkQMNL5Eh",
        "colab": {
          "base_uri": "https://localhost:8080/"
        },
        "outputId": "0b4f21ea-156f-4073-ce3c-4c251c60d731"
      },
      "outputs": [
        {
          "output_type": "execute_result",
          "data": {
            "text/plain": [
              "(74999, 116)"
            ]
          },
          "metadata": {},
          "execution_count": 130
        }
      ],
      "source": [
        "X_train = np.array(X_train)\n",
        "X_test = np.array(X_test)\n",
        "# y_train.shape   #(18896,)\n",
        "X_train.shape"
      ]
    },
    {
      "cell_type": "code",
      "execution_count": 131,
      "metadata": {
        "id": "9n-QlBDXPMl4",
        "colab": {
          "base_uri": "https://localhost:8080/"
        },
        "outputId": "55de59fe-d892-4c27-dc00-2248262e1c55"
      },
      "outputs": [
        {
          "output_type": "execute_result",
          "data": {
            "text/plain": [
              "numpy.ndarray"
            ]
          },
          "metadata": {},
          "execution_count": 131
        }
      ],
      "source": [
        "y_train = np.array(y_train)\n",
        "type(y_train)"
      ]
    },
    {
      "cell_type": "code",
      "execution_count": 132,
      "metadata": {
        "id": "-8Ro_ZRQPdZz",
        "colab": {
          "base_uri": "https://localhost:8080/"
        },
        "outputId": "05dd897a-aa48-4332-fe1c-78fe68f0c7f0"
      },
      "outputs": [
        {
          "output_type": "execute_result",
          "data": {
            "text/plain": [
              "(74999, 1, 116)"
            ]
          },
          "metadata": {},
          "execution_count": 132
        }
      ],
      "source": [
        "x_train = np.reshape(X_train, (X_train.shape[0],1,X_train.shape[1]))\n",
        "x_train.shape"
      ]
    },
    {
      "cell_type": "code",
      "source": [
        "x_train.shape[2]"
      ],
      "metadata": {
        "colab": {
          "base_uri": "https://localhost:8080/"
        },
        "id": "EuvuETcGpkje",
        "outputId": "eae33a38-79f6-467e-c688-e73f45442fc9"
      },
      "execution_count": 133,
      "outputs": [
        {
          "output_type": "execute_result",
          "data": {
            "text/plain": [
              "116"
            ]
          },
          "metadata": {},
          "execution_count": 133
        }
      ]
    },
    {
      "cell_type": "code",
      "execution_count": 134,
      "metadata": {
        "id": "pLIl946zQQwG",
        "colab": {
          "base_uri": "https://localhost:8080/"
        },
        "outputId": "13811ab3-8090-4ae7-ee98-3d9ece80eea7"
      },
      "outputs": [
        {
          "output_type": "execute_result",
          "data": {
            "text/plain": [
              "(25000, 1, 116)"
            ]
          },
          "metadata": {},
          "execution_count": 134
        }
      ],
      "source": [
        "x_test = np.reshape(X_test, (X_test.shape[0],1,X_test.shape[1]))\n",
        "x_test.shape"
      ]
    },
    {
      "cell_type": "code",
      "execution_count": 135,
      "metadata": {
        "id": "jWsrkPEmQcY7"
      },
      "outputs": [],
      "source": [
        "if model_selection[model_flag]==\"ALL\" or model_selection[model_flag] == \"LSTM\":\n",
        "  lst = Sequential()\n",
        "  # input layer and LSTM layer with 50 neurons\n",
        "  input_features = x_train.shape[2]\n",
        "  lst.add(LSTM(50,input_dim=input_features))\n",
        "\n",
        "  # outpute layer with sigmoid activation\n",
        "  lst.add(Dense(1,activation='sigmoid'))"
      ]
    },
    {
      "cell_type": "code",
      "execution_count": 136,
      "metadata": {
        "id": "UEmba1H9Q_qj"
      },
      "outputs": [],
      "source": [
        "if model_selection[model_flag]==\"ALL\" or model_selection[model_flag] == \"LSTM\":\n",
        "  # defining loss function, optimizer, metrics and then compiling model\n",
        "  lst.compile(loss='binary_crossentropy',optimizer='adam',metrics=['accuracy'])"
      ]
    },
    {
      "cell_type": "code",
      "execution_count": 137,
      "metadata": {
        "id": "anR58jV2RCtz",
        "colab": {
          "base_uri": "https://localhost:8080/"
        },
        "outputId": "7727cc19-9c6d-40de-d4c5-88f75d4b1ea5"
      },
      "outputs": [
        {
          "output_type": "stream",
          "name": "stdout",
          "text": [
            "Model: \"sequential_3\"\n",
            "_________________________________________________________________\n",
            " Layer (type)                Output Shape              Param #   \n",
            "=================================================================\n",
            " lstm_1 (LSTM)               (None, 50)                33400     \n",
            "                                                                 \n",
            " dense_9 (Dense)             (None, 1)                 51        \n",
            "                                                                 \n",
            "=================================================================\n",
            "Total params: 33,451\n",
            "Trainable params: 33,451\n",
            "Non-trainable params: 0\n",
            "_________________________________________________________________\n"
          ]
        }
      ],
      "source": [
        "if model_selection[model_flag]==\"ALL\" or model_selection[model_flag] == \"LSTM\":\n",
        "  # summary of model layers\n",
        "  lst.summary()"
      ]
    },
    {
      "cell_type": "code",
      "execution_count": 138,
      "metadata": {
        "id": "_Pa4Qi12RJS_",
        "colab": {
          "base_uri": "https://localhost:8080/"
        },
        "outputId": "3f861006-5b1f-41ae-c434-a9ff5ace0ba8"
      },
      "outputs": [
        {
          "output_type": "stream",
          "name": "stdout",
          "text": [
            "Epoch 1/100\n",
            "12/12 [==============================] - 3s 45ms/step - loss: 0.5001 - accuracy: 0.9130 - val_loss: 0.3418 - val_accuracy: 0.9639\n",
            "Epoch 2/100\n",
            "12/12 [==============================] - 0s 9ms/step - loss: 0.2559 - accuracy: 0.9753 - val_loss: 0.1721 - val_accuracy: 0.9841\n",
            "Epoch 3/100\n",
            "12/12 [==============================] - 0s 8ms/step - loss: 0.1313 - accuracy: 0.9872 - val_loss: 0.0949 - val_accuracy: 0.9897\n",
            "Epoch 4/100\n",
            "12/12 [==============================] - 0s 8ms/step - loss: 0.0793 - accuracy: 0.9902 - val_loss: 0.0650 - val_accuracy: 0.9907\n",
            "Epoch 5/100\n",
            "12/12 [==============================] - 0s 8ms/step - loss: 0.0585 - accuracy: 0.9911 - val_loss: 0.0520 - val_accuracy: 0.9915\n",
            "Epoch 6/100\n",
            "12/12 [==============================] - 0s 8ms/step - loss: 0.0489 - accuracy: 0.9916 - val_loss: 0.0454 - val_accuracy: 0.9919\n",
            "Epoch 7/100\n",
            "12/12 [==============================] - 0s 8ms/step - loss: 0.0437 - accuracy: 0.9921 - val_loss: 0.0416 - val_accuracy: 0.9923\n",
            "Epoch 8/100\n",
            "12/12 [==============================] - 0s 8ms/step - loss: 0.0404 - accuracy: 0.9925 - val_loss: 0.0389 - val_accuracy: 0.9927\n",
            "Epoch 9/100\n",
            "12/12 [==============================] - 0s 8ms/step - loss: 0.0380 - accuracy: 0.9928 - val_loss: 0.0369 - val_accuracy: 0.9929\n",
            "Epoch 10/100\n",
            "12/12 [==============================] - 0s 9ms/step - loss: 0.0360 - accuracy: 0.9931 - val_loss: 0.0353 - val_accuracy: 0.9931\n",
            "Epoch 11/100\n",
            "12/12 [==============================] - 0s 9ms/step - loss: 0.0344 - accuracy: 0.9932 - val_loss: 0.0338 - val_accuracy: 0.9932\n",
            "Epoch 12/100\n",
            "12/12 [==============================] - 0s 9ms/step - loss: 0.0328 - accuracy: 0.9933 - val_loss: 0.0325 - val_accuracy: 0.9932\n",
            "Epoch 13/100\n",
            "12/12 [==============================] - 0s 8ms/step - loss: 0.0314 - accuracy: 0.9935 - val_loss: 0.0313 - val_accuracy: 0.9933\n",
            "Epoch 14/100\n",
            "12/12 [==============================] - 0s 8ms/step - loss: 0.0300 - accuracy: 0.9935 - val_loss: 0.0301 - val_accuracy: 0.9933\n",
            "Epoch 15/100\n",
            "12/12 [==============================] - 0s 9ms/step - loss: 0.0286 - accuracy: 0.9936 - val_loss: 0.0290 - val_accuracy: 0.9933\n",
            "Epoch 16/100\n",
            "12/12 [==============================] - 0s 8ms/step - loss: 0.0274 - accuracy: 0.9936 - val_loss: 0.0280 - val_accuracy: 0.9934\n",
            "Epoch 17/100\n",
            "12/12 [==============================] - 0s 9ms/step - loss: 0.0262 - accuracy: 0.9936 - val_loss: 0.0270 - val_accuracy: 0.9934\n",
            "Epoch 18/100\n",
            "12/12 [==============================] - 0s 9ms/step - loss: 0.0252 - accuracy: 0.9936 - val_loss: 0.0262 - val_accuracy: 0.9934\n",
            "Epoch 19/100\n",
            "12/12 [==============================] - 0s 9ms/step - loss: 0.0243 - accuracy: 0.9937 - val_loss: 0.0254 - val_accuracy: 0.9935\n",
            "Epoch 20/100\n",
            "12/12 [==============================] - 0s 10ms/step - loss: 0.0236 - accuracy: 0.9941 - val_loss: 0.0248 - val_accuracy: 0.9939\n",
            "Epoch 21/100\n",
            "12/12 [==============================] - 0s 10ms/step - loss: 0.0229 - accuracy: 0.9950 - val_loss: 0.0242 - val_accuracy: 0.9944\n",
            "Epoch 22/100\n",
            "12/12 [==============================] - 0s 9ms/step - loss: 0.0224 - accuracy: 0.9953 - val_loss: 0.0237 - val_accuracy: 0.9947\n",
            "Epoch 23/100\n",
            "12/12 [==============================] - 0s 8ms/step - loss: 0.0219 - accuracy: 0.9954 - val_loss: 0.0233 - val_accuracy: 0.9948\n",
            "Epoch 24/100\n",
            "12/12 [==============================] - 0s 8ms/step - loss: 0.0215 - accuracy: 0.9954 - val_loss: 0.0228 - val_accuracy: 0.9947\n",
            "Epoch 25/100\n",
            "12/12 [==============================] - 0s 8ms/step - loss: 0.0211 - accuracy: 0.9957 - val_loss: 0.0224 - val_accuracy: 0.9949\n",
            "Epoch 26/100\n",
            "12/12 [==============================] - 0s 8ms/step - loss: 0.0207 - accuracy: 0.9957 - val_loss: 0.0221 - val_accuracy: 0.9948\n",
            "Epoch 27/100\n",
            "12/12 [==============================] - 0s 8ms/step - loss: 0.0204 - accuracy: 0.9956 - val_loss: 0.0218 - val_accuracy: 0.9949\n",
            "Epoch 28/100\n",
            "12/12 [==============================] - 0s 9ms/step - loss: 0.0201 - accuracy: 0.9956 - val_loss: 0.0214 - val_accuracy: 0.9949\n",
            "Epoch 29/100\n",
            "12/12 [==============================] - 0s 8ms/step - loss: 0.0198 - accuracy: 0.9955 - val_loss: 0.0211 - val_accuracy: 0.9951\n",
            "Epoch 30/100\n",
            "12/12 [==============================] - 0s 9ms/step - loss: 0.0196 - accuracy: 0.9956 - val_loss: 0.0209 - val_accuracy: 0.9950\n",
            "Epoch 31/100\n",
            "12/12 [==============================] - 0s 9ms/step - loss: 0.0193 - accuracy: 0.9956 - val_loss: 0.0206 - val_accuracy: 0.9952\n",
            "Epoch 32/100\n",
            "12/12 [==============================] - 0s 8ms/step - loss: 0.0191 - accuracy: 0.9957 - val_loss: 0.0203 - val_accuracy: 0.9953\n",
            "Epoch 33/100\n",
            "12/12 [==============================] - 0s 9ms/step - loss: 0.0188 - accuracy: 0.9957 - val_loss: 0.0201 - val_accuracy: 0.9953\n",
            "Epoch 34/100\n",
            "12/12 [==============================] - 0s 8ms/step - loss: 0.0186 - accuracy: 0.9957 - val_loss: 0.0199 - val_accuracy: 0.9953\n",
            "Epoch 35/100\n",
            "12/12 [==============================] - 0s 9ms/step - loss: 0.0184 - accuracy: 0.9957 - val_loss: 0.0196 - val_accuracy: 0.9955\n",
            "Epoch 36/100\n",
            "12/12 [==============================] - 0s 9ms/step - loss: 0.0182 - accuracy: 0.9957 - val_loss: 0.0194 - val_accuracy: 0.9955\n",
            "Epoch 37/100\n",
            "12/12 [==============================] - 0s 9ms/step - loss: 0.0180 - accuracy: 0.9958 - val_loss: 0.0192 - val_accuracy: 0.9956\n",
            "Epoch 38/100\n",
            "12/12 [==============================] - 0s 8ms/step - loss: 0.0178 - accuracy: 0.9959 - val_loss: 0.0189 - val_accuracy: 0.9956\n",
            "Epoch 39/100\n",
            "12/12 [==============================] - 0s 9ms/step - loss: 0.0175 - accuracy: 0.9959 - val_loss: 0.0187 - val_accuracy: 0.9957\n",
            "Epoch 40/100\n",
            "12/12 [==============================] - 0s 9ms/step - loss: 0.0173 - accuracy: 0.9959 - val_loss: 0.0184 - val_accuracy: 0.9957\n",
            "Epoch 41/100\n",
            "12/12 [==============================] - 0s 10ms/step - loss: 0.0171 - accuracy: 0.9960 - val_loss: 0.0182 - val_accuracy: 0.9959\n",
            "Epoch 42/100\n",
            "12/12 [==============================] - 0s 8ms/step - loss: 0.0169 - accuracy: 0.9961 - val_loss: 0.0180 - val_accuracy: 0.9959\n",
            "Epoch 43/100\n",
            "12/12 [==============================] - 0s 9ms/step - loss: 0.0167 - accuracy: 0.9961 - val_loss: 0.0177 - val_accuracy: 0.9959\n",
            "Epoch 44/100\n",
            "12/12 [==============================] - 0s 8ms/step - loss: 0.0164 - accuracy: 0.9962 - val_loss: 0.0175 - val_accuracy: 0.9959\n",
            "Epoch 45/100\n",
            "12/12 [==============================] - 0s 8ms/step - loss: 0.0162 - accuracy: 0.9962 - val_loss: 0.0172 - val_accuracy: 0.9960\n",
            "Epoch 46/100\n",
            "12/12 [==============================] - 0s 8ms/step - loss: 0.0160 - accuracy: 0.9963 - val_loss: 0.0170 - val_accuracy: 0.9961\n",
            "Epoch 47/100\n",
            "12/12 [==============================] - 0s 9ms/step - loss: 0.0157 - accuracy: 0.9963 - val_loss: 0.0167 - val_accuracy: 0.9963\n",
            "Epoch 48/100\n",
            "12/12 [==============================] - 0s 8ms/step - loss: 0.0155 - accuracy: 0.9963 - val_loss: 0.0164 - val_accuracy: 0.9963\n",
            "Epoch 49/100\n",
            "12/12 [==============================] - 0s 8ms/step - loss: 0.0152 - accuracy: 0.9964 - val_loss: 0.0161 - val_accuracy: 0.9962\n",
            "Epoch 50/100\n",
            "12/12 [==============================] - 0s 10ms/step - loss: 0.0149 - accuracy: 0.9964 - val_loss: 0.0159 - val_accuracy: 0.9963\n",
            "Epoch 51/100\n",
            "12/12 [==============================] - 0s 10ms/step - loss: 0.0147 - accuracy: 0.9965 - val_loss: 0.0156 - val_accuracy: 0.9963\n",
            "Epoch 52/100\n",
            "12/12 [==============================] - 0s 9ms/step - loss: 0.0144 - accuracy: 0.9965 - val_loss: 0.0153 - val_accuracy: 0.9963\n",
            "Epoch 53/100\n",
            "12/12 [==============================] - 0s 12ms/step - loss: 0.0141 - accuracy: 0.9965 - val_loss: 0.0150 - val_accuracy: 0.9963\n",
            "Epoch 54/100\n",
            "12/12 [==============================] - 0s 12ms/step - loss: 0.0139 - accuracy: 0.9965 - val_loss: 0.0147 - val_accuracy: 0.9963\n",
            "Epoch 55/100\n",
            "12/12 [==============================] - 0s 10ms/step - loss: 0.0136 - accuracy: 0.9966 - val_loss: 0.0144 - val_accuracy: 0.9963\n",
            "Epoch 56/100\n",
            "12/12 [==============================] - 0s 11ms/step - loss: 0.0133 - accuracy: 0.9966 - val_loss: 0.0141 - val_accuracy: 0.9963\n",
            "Epoch 57/100\n",
            "12/12 [==============================] - 0s 12ms/step - loss: 0.0130 - accuracy: 0.9966 - val_loss: 0.0138 - val_accuracy: 0.9963\n",
            "Epoch 58/100\n",
            "12/12 [==============================] - 0s 13ms/step - loss: 0.0127 - accuracy: 0.9967 - val_loss: 0.0135 - val_accuracy: 0.9963\n",
            "Epoch 59/100\n",
            "12/12 [==============================] - 0s 12ms/step - loss: 0.0124 - accuracy: 0.9967 - val_loss: 0.0131 - val_accuracy: 0.9963\n",
            "Epoch 60/100\n",
            "12/12 [==============================] - 0s 10ms/step - loss: 0.0121 - accuracy: 0.9968 - val_loss: 0.0128 - val_accuracy: 0.9963\n",
            "Epoch 61/100\n",
            "12/12 [==============================] - 0s 13ms/step - loss: 0.0118 - accuracy: 0.9968 - val_loss: 0.0125 - val_accuracy: 0.9964\n",
            "Epoch 62/100\n",
            "12/12 [==============================] - 0s 12ms/step - loss: 0.0115 - accuracy: 0.9968 - val_loss: 0.0121 - val_accuracy: 0.9964\n",
            "Epoch 63/100\n",
            "12/12 [==============================] - 0s 12ms/step - loss: 0.0111 - accuracy: 0.9969 - val_loss: 0.0118 - val_accuracy: 0.9964\n",
            "Epoch 64/100\n",
            "12/12 [==============================] - 0s 12ms/step - loss: 0.0108 - accuracy: 0.9969 - val_loss: 0.0114 - val_accuracy: 0.9965\n",
            "Epoch 65/100\n",
            "12/12 [==============================] - 0s 12ms/step - loss: 0.0105 - accuracy: 0.9969 - val_loss: 0.0110 - val_accuracy: 0.9965\n",
            "Epoch 66/100\n",
            "12/12 [==============================] - 0s 12ms/step - loss: 0.0101 - accuracy: 0.9969 - val_loss: 0.0106 - val_accuracy: 0.9965\n",
            "Epoch 67/100\n",
            "12/12 [==============================] - 0s 11ms/step - loss: 0.0098 - accuracy: 0.9969 - val_loss: 0.0103 - val_accuracy: 0.9965\n",
            "Epoch 68/100\n",
            "12/12 [==============================] - 0s 12ms/step - loss: 0.0094 - accuracy: 0.9969 - val_loss: 0.0099 - val_accuracy: 0.9966\n",
            "Epoch 69/100\n",
            "12/12 [==============================] - 0s 12ms/step - loss: 0.0091 - accuracy: 0.9970 - val_loss: 0.0095 - val_accuracy: 0.9966\n",
            "Epoch 70/100\n",
            "12/12 [==============================] - 0s 11ms/step - loss: 0.0087 - accuracy: 0.9970 - val_loss: 0.0092 - val_accuracy: 0.9966\n",
            "Epoch 71/100\n",
            "12/12 [==============================] - 0s 11ms/step - loss: 0.0084 - accuracy: 0.9970 - val_loss: 0.0088 - val_accuracy: 0.9966\n",
            "Epoch 72/100\n",
            "12/12 [==============================] - 0s 13ms/step - loss: 0.0081 - accuracy: 0.9971 - val_loss: 0.0084 - val_accuracy: 0.9966\n",
            "Epoch 73/100\n",
            "12/12 [==============================] - 0s 12ms/step - loss: 0.0077 - accuracy: 0.9971 - val_loss: 0.0081 - val_accuracy: 0.9966\n",
            "Epoch 74/100\n",
            "12/12 [==============================] - 0s 13ms/step - loss: 0.0074 - accuracy: 0.9971 - val_loss: 0.0077 - val_accuracy: 0.9966\n",
            "Epoch 75/100\n",
            "12/12 [==============================] - 0s 12ms/step - loss: 0.0071 - accuracy: 0.9971 - val_loss: 0.0074 - val_accuracy: 0.9968\n",
            "Epoch 76/100\n",
            "12/12 [==============================] - 0s 13ms/step - loss: 0.0068 - accuracy: 0.9972 - val_loss: 0.0070 - val_accuracy: 0.9968\n",
            "Epoch 77/100\n",
            "12/12 [==============================] - 0s 9ms/step - loss: 0.0065 - accuracy: 0.9972 - val_loss: 0.0067 - val_accuracy: 0.9968\n",
            "Epoch 78/100\n",
            "12/12 [==============================] - 0s 9ms/step - loss: 0.0062 - accuracy: 0.9972 - val_loss: 0.0064 - val_accuracy: 0.9968\n",
            "Epoch 79/100\n",
            "12/12 [==============================] - 0s 9ms/step - loss: 0.0059 - accuracy: 0.9972 - val_loss: 0.0061 - val_accuracy: 0.9968\n",
            "Epoch 80/100\n",
            "12/12 [==============================] - 0s 8ms/step - loss: 0.0056 - accuracy: 0.9972 - val_loss: 0.0058 - val_accuracy: 0.9969\n",
            "Epoch 81/100\n",
            "12/12 [==============================] - 0s 9ms/step - loss: 0.0053 - accuracy: 0.9972 - val_loss: 0.0056 - val_accuracy: 0.9970\n",
            "Epoch 82/100\n",
            "12/12 [==============================] - 0s 8ms/step - loss: 0.0051 - accuracy: 0.9973 - val_loss: 0.0053 - val_accuracy: 0.9971\n",
            "Epoch 83/100\n",
            "12/12 [==============================] - 0s 10ms/step - loss: 0.0049 - accuracy: 0.9973 - val_loss: 0.0050 - val_accuracy: 0.9971\n",
            "Epoch 84/100\n",
            "12/12 [==============================] - 0s 8ms/step - loss: 0.0046 - accuracy: 0.9973 - val_loss: 0.0048 - val_accuracy: 0.9971\n",
            "Epoch 85/100\n",
            "12/12 [==============================] - 0s 9ms/step - loss: 0.0044 - accuracy: 0.9974 - val_loss: 0.0046 - val_accuracy: 0.9971\n",
            "Epoch 86/100\n",
            "12/12 [==============================] - 0s 8ms/step - loss: 0.0042 - accuracy: 0.9978 - val_loss: 0.0043 - val_accuracy: 0.9983\n",
            "Epoch 87/100\n",
            "12/12 [==============================] - 0s 9ms/step - loss: 0.0040 - accuracy: 0.9989 - val_loss: 0.0041 - val_accuracy: 0.9987\n",
            "Epoch 88/100\n",
            "12/12 [==============================] - 0s 9ms/step - loss: 0.0038 - accuracy: 0.9984 - val_loss: 0.0039 - val_accuracy: 0.9993\n",
            "Epoch 89/100\n",
            "12/12 [==============================] - 0s 9ms/step - loss: 0.0036 - accuracy: 0.9996 - val_loss: 0.0038 - val_accuracy: 0.9999\n",
            "Epoch 90/100\n",
            "12/12 [==============================] - 0s 8ms/step - loss: 0.0034 - accuracy: 0.9996 - val_loss: 0.0036 - val_accuracy: 0.9997\n",
            "Epoch 91/100\n",
            "12/12 [==============================] - 0s 9ms/step - loss: 0.0033 - accuracy: 0.9998 - val_loss: 0.0034 - val_accuracy: 0.9999\n",
            "Epoch 92/100\n",
            "12/12 [==============================] - 0s 8ms/step - loss: 0.0031 - accuracy: 0.9998 - val_loss: 0.0033 - val_accuracy: 0.9999\n",
            "Epoch 93/100\n",
            "12/12 [==============================] - 0s 9ms/step - loss: 0.0030 - accuracy: 0.9998 - val_loss: 0.0031 - val_accuracy: 0.9999\n",
            "Epoch 94/100\n",
            "12/12 [==============================] - 0s 8ms/step - loss: 0.0029 - accuracy: 0.9999 - val_loss: 0.0030 - val_accuracy: 0.9999\n",
            "Epoch 95/100\n",
            "12/12 [==============================] - 0s 10ms/step - loss: 0.0027 - accuracy: 0.9999 - val_loss: 0.0029 - val_accuracy: 0.9999\n",
            "Epoch 96/100\n",
            "12/12 [==============================] - 0s 9ms/step - loss: 0.0026 - accuracy: 0.9999 - val_loss: 0.0027 - val_accuracy: 0.9999\n",
            "Epoch 97/100\n",
            "12/12 [==============================] - 0s 9ms/step - loss: 0.0025 - accuracy: 0.9999 - val_loss: 0.0026 - val_accuracy: 0.9999\n",
            "Epoch 98/100\n",
            "12/12 [==============================] - 0s 9ms/step - loss: 0.0024 - accuracy: 0.9999 - val_loss: 0.0025 - val_accuracy: 0.9999\n",
            "Epoch 99/100\n",
            "12/12 [==============================] - 0s 8ms/step - loss: 0.0023 - accuracy: 0.9999 - val_loss: 0.0024 - val_accuracy: 0.9999\n",
            "Epoch 100/100\n",
            "12/12 [==============================] - 0s 9ms/step - loss: 0.0022 - accuracy: 0.9999 - val_loss: 0.0023 - val_accuracy: 0.9999\n"
          ]
        }
      ],
      "source": [
        "if model_selection[model_flag]==\"ALL\" or model_selection[model_flag] == \"LSTM\":\n",
        "  # training the model on training dataset\n",
        "  history = lst.fit(x_train, y_train, epochs=100, batch_size=5000,validation_split=0.2)"
      ]
    },
    {
      "cell_type": "code",
      "execution_count": 139,
      "metadata": {
        "id": "BCQtvJcXRcNr"
      },
      "outputs": [],
      "source": [
        "if model_selection[model_flag]==\"ALL\" or model_selection[model_flag] == \"LSTM\":\n",
        "  filepath = '/content/drive/MyDrive/Colab_Notebooks/Models/lst_binary_kitsune'+model_name_suffix+'.json'\n",
        "  weightspath = '/content/drive/MyDrive/Colab_Notebooks/Weights/lst_binary_kitsune'+model_name_suffix+'.h5'\n",
        "  if (not path.isfile(filepath)):\n",
        "    # serialize model to JSON\n",
        "    lst_json = lst.to_json()\n",
        "    with open(filepath, \"w\") as json_file:\n",
        "      json_file.write(lst_json)\n",
        "\n",
        "    # serialize weights to HDF5\n",
        "    lst.save_weights(weightspath)\n",
        "    print(\"Saved model to disk\")\n",
        "\n",
        "    # load json and create model\n",
        "    json_file = open(filepath, 'r')\n",
        "    loaded_model_json = json_file.read()\n",
        "    json_file.close()\n",
        "    lst = model_from_json(loaded_model_json)\n",
        "\n",
        "    # load weights into new model\n",
        "    lst.load_weights(weightspath)\n",
        "    print(\"Loaded model from disk\")"
      ]
    },
    {
      "cell_type": "code",
      "execution_count": 140,
      "metadata": {
        "id": "rPaW37T-R0dG",
        "colab": {
          "base_uri": "https://localhost:8080/"
        },
        "outputId": "91bcdb60-5d7b-4b91-fab1-c34a7288e1fc"
      },
      "outputs": [
        {
          "output_type": "stream",
          "name": "stdout",
          "text": [
            "Loaded model from disk\n"
          ]
        }
      ],
      "source": [
        "if model_selection[model_flag]==\"ALL\" or model_selection[model_flag] == \"LSTM\":\n",
        "  # load json and create model\n",
        "  json_file = open(filepath, 'r')\n",
        "  loaded_model_json = json_file.read()\n",
        "  json_file.close()\n",
        "  lst = model_from_json(loaded_model_json)\n",
        "\n",
        "  # load weights into new model\n",
        "  lst.load_weights(weightspath)\n",
        "  print(\"Loaded model from disk\")"
      ]
    },
    {
      "cell_type": "code",
      "execution_count": 141,
      "metadata": {
        "id": "ukGDdSggR3na"
      },
      "outputs": [],
      "source": [
        "if model_selection[model_flag]==\"ALL\" or model_selection[model_flag] == \"LSTM\":\n",
        "  # defining loss function, optimizer, metrics and then compiling model\n",
        "  lst.compile(loss='binary_crossentropy',optimizer='adam',metrics=['accuracy'])"
      ]
    },
    {
      "cell_type": "code",
      "execution_count": 142,
      "metadata": {
        "id": "nvjY0u97R68f",
        "colab": {
          "base_uri": "https://localhost:8080/"
        },
        "outputId": "c133a3e9-24bb-4734-a106-7331c71dbfaa"
      },
      "outputs": [
        {
          "output_type": "stream",
          "name": "stdout",
          "text": [
            "782/782 [==============================] - 3s 3ms/step - loss: 0.5969 - accuracy: 0.8345\n",
            "Test results - Loss: 0.5969491004943848 - Accuracy: 83.44799876213074%\n"
          ]
        }
      ],
      "source": [
        "if model_selection[model_flag]==\"ALL\" or model_selection[model_flag] == \"LSTM\":\n",
        "  # predicting target attribute on testing dataset\n",
        "  test_results = lst.evaluate(x_test, y_test, verbose=1)\n",
        "  print(f'Test results - Loss: {test_results[0]} - Accuracy: {test_results[1]*100}%')"
      ]
    },
    {
      "cell_type": "code",
      "execution_count": 143,
      "metadata": {
        "id": "f8yKMcIHR_jP",
        "colab": {
          "base_uri": "https://localhost:8080/",
          "height": 472
        },
        "outputId": "77c0e5ac-7e18-47ff-81c7-96c6846097c8"
      },
      "outputs": [
        {
          "output_type": "display_data",
          "data": {
            "text/plain": [
              "<Figure size 640x480 with 1 Axes>"
            ],
            "image/png": "[encoded data removed]"
          },
          "metadata": {}
        }
      ],
      "source": [
        "if model_selection[model_flag]==\"ALL\" or model_selection[model_flag] == \"LSTM\":\n",
        "  # Plot of accuracy vs epoch of train and test dataset\n",
        "  plt.plot(history.history['accuracy'])\n",
        "  plt.plot(history.history['val_accuracy'])\n",
        "  plt.title(\"Plot of accuracy vs epoch for train and test dataset\")\n",
        "  plt.ylabel('accuracy')\n",
        "  plt.xlabel('epoch')\n",
        "  plt.legend(['train', 'test'], loc='best')\n",
        "  plt.savefig('/content/drive/MyDrive/Colab_Notebooks/Plots/lstm_binary_accuracy.png')\n",
        "  plt.show()"
      ]
    },
    {
      "cell_type": "code",
      "execution_count": 144,
      "metadata": {
        "id": "M5g1Rw_SSb5n",
        "colab": {
          "base_uri": "https://localhost:8080/",
          "height": 472
        },
        "outputId": "0a831ae1-5914-48e1-ab73-706228b7e3fe"
      },
      "outputs": [
        {
          "output_type": "display_data",
          "data": {
            "text/plain": [
              "<Figure size 640x480 with 1 Axes>"
            ],
            "image/png": "[encoded data removed]"
          },
          "metadata": {}
        }
      ],
      "source": [
        "if model_selection[model_flag]==\"ALL\" or model_selection[model_flag] == \"LSTM\":\n",
        "  # Plot of loss vs epoch of train and test dataset\n",
        "  plt.plot(history.history['loss'])\n",
        "  plt.plot(history.history['val_loss'])\n",
        "  plt.title(\"Plot of loss vs epoch for train and test dataset\")\n",
        "  plt.ylabel('loss')\n",
        "  plt.xlabel('epoch')\n",
        "  plt.legend(['train', 'test'], loc='best')\n",
        "  plt.savefig('/content/drive/MyDrive/Colab_Notebooks/Plots/lstm_binary_loss.png')\n",
        "  plt.show()"
      ]
    },
    {
      "cell_type": "code",
      "execution_count": 145,
      "metadata": {
        "id": "osZa2OV9Se-T"
      },
      "outputs": [],
      "source": [
        "if model_selection[model_flag]==\"ALL\" or model_selection[model_flag] == \"LSTM\":\n",
        "  # representation of model layers\n",
        "  plot_model(lst, to_file='/content/drive/MyDrive/Colab_Notebooks/Plots/lstm_binary.png', show_shapes=True,)"
      ]
    },
    {
      "cell_type": "code",
      "execution_count": 146,
      "metadata": {
        "id": "lw4OLD4HSpaY",
        "colab": {
          "base_uri": "https://localhost:8080/"
        },
        "outputId": "d29b9c32-0d4b-4e9a-c94d-8c0e95df2f96"
      },
      "outputs": [
        {
          "output_type": "execute_result",
          "data": {
            "text/plain": [
              "(25000,)"
            ]
          },
          "metadata": {},
          "execution_count": 146
        }
      ],
      "source": [
        "y_test = np.array(y_test)\n",
        "y_test.shape"
      ]
    },
    {
      "cell_type": "code",
      "execution_count": 147,
      "metadata": {
        "id": "4BvYVrKsTGr3",
        "colab": {
          "base_uri": "https://localhost:8080/"
        },
        "outputId": "1b7fc472-5254-426b-f420-50064e41473b"
      },
      "outputs": [
        {
          "output_type": "execute_result",
          "data": {
            "text/plain": [
              "numpy.ndarray"
            ]
          },
          "metadata": {},
          "execution_count": 147
        }
      ],
      "source": [
        "type(y_test)"
      ]
    },
    {
      "cell_type": "code",
      "execution_count": 148,
      "metadata": {
        "id": "KBvCGl6BS0FM",
        "colab": {
          "base_uri": "https://localhost:8080/"
        },
        "outputId": "cf77d42d-d461-426b-c5ba-8f15e32bc50b"
      },
      "outputs": [
        {
          "output_type": "stream",
          "name": "stdout",
          "text": [
            "782/782 [==============================] - 2s 2ms/step\n"
          ]
        }
      ],
      "source": [
        "if model_selection[model_flag]==\"ALL\" or model_selection[model_flag] == \"LSTM\":\n",
        "  y_classes = (lst.predict(x_test)>0.5).astype('int32')"
      ]
    },
    {
      "cell_type": "code",
      "execution_count": 149,
      "metadata": {
        "id": "x_yVqBlLTtLW",
        "colab": {
          "base_uri": "https://localhost:8080/"
        },
        "outputId": "a7656030-91f4-4c3b-da3a-eab5241d3f3a"
      },
      "outputs": [
        {
          "output_type": "stream",
          "name": "stdout",
          "text": [
            "Recall Score -  0.5586622217442736\n",
            "F1 Score -  0.715170704845815\n",
            "Precision Score -  0.9934978007267163\n",
            "False Positive Rate -  [1.         0.00216547]\n",
            "False Negative Rate -  [0.         0.44133778]\n",
            "Thresholds -  [0 1]\n"
          ]
        }
      ],
      "source": [
        "if model_selection[model_flag]==\"ALL\" or model_selection[model_flag] == \"LSTM\":\n",
        "  print(\"Recall Score - \",recall_score(y_test,y_classes))\n",
        "  print(\"F1 Score - \",f1_score(y_test,y_classes))\n",
        "  print(\"Precision Score - \",precision_score(y_test,y_classes))\n",
        "  fpr, fnr, thresholds = det_curve(y_test, y_classes)\n",
        "  print(\"False Positive Rate - \", fpr)\n",
        "  print(\"False Negative Rate - \", fnr)\n",
        "  print(\"Thresholds - \", thresholds)"
      ]
    },
    {
      "cell_type": "code",
      "source": [
        "print(classification_report(y_test, y_classes, target_names=['0', '1']))\n",
        "cm = confusion_matrix(y_test, y_classes)\n",
        "disp = ConfusionMatrixDisplay(confusion_matrix=cm,\n",
        "                              display_labels=['0', '1'])\n",
        "disp.plot()\n",
        "\n",
        "plt.show()"
      ],
      "metadata": {
        "colab": {
          "base_uri": "https://localhost:8080/",
          "height": 610
        },
        "id": "lHw1E32esovH",
        "outputId": "d8fef7d6-e242-48be-e7aa-15e892b6f498"
      },
      "execution_count": 150,
      "outputs": [
        {
          "output_type": "stream",
          "name": "stdout",
          "text": [
            "              precision    recall  f1-score   support\n",
            "\n",
            "           0       0.79      1.00      0.88     15701\n",
            "           1       0.99      0.56      0.72      9299\n",
            "\n",
            "    accuracy                           0.83     25000\n",
            "   macro avg       0.89      0.78      0.80     25000\n",
            "weighted avg       0.87      0.83      0.82     25000\n",
            "\n"
          ]
        },
        {
          "output_type": "display_data",
          "data": {
            "text/plain": [
              "<Figure size 640x480 with 2 Axes>"
            ],
            "image/png": "[encoded data removed]"
          },
          "metadata": {}
        }
      ]
    },
    {
      "cell_type": "markdown",
      "metadata": {
        "id": "H_g15uXe82BY"
      },
      "source": [
        "## **Auto Encoder**"
      ]
    },
    {
      "cell_type": "code",
      "execution_count": 151,
      "metadata": {
        "id": "VQ6pDxghmBwB"
      },
      "outputs": [],
      "source": [
        "if model_selection[model_flag]==\"ALL\" or model_selection[model_flag] == \"AE\":\n",
        "  # splitting the dataset 75% for training and 25% testing\n",
        "  X_train, X_test = train_test_split(bin_data, test_size=0.25, random_state=42)"
      ]
    },
    {
      "cell_type": "code",
      "execution_count": 152,
      "metadata": {
        "id": "uogVT92Q_6wh"
      },
      "outputs": [],
      "source": [
        "if model_selection[model_flag]==\"ALL\" or model_selection[model_flag] == \"AE\":\n",
        "  # dataset excluding target attribute (encoded, one-hot-encoded,original)\n",
        "  X_train = X_train.drop(['label'],axis=1) \n",
        "\n",
        "  y_test = X_test['label'] # target attribute\n",
        "\n",
        "  # dataset excluding target attribute (encoded, one-hot-encoded,original)\n",
        "  X_test = X_test.drop(['label'],axis=1)\n",
        "  # calling the normalization() function\n",
        "  X_train = normalization_train(X_train,numeric_cols)\n",
        "  X_test = normalization_test(X_test,numeric_cols)\n",
        "  X_train = X_train.values\n",
        "  X_test = X_test.values\n",
        "  y_test = y_test.values"
      ]
    },
    {
      "cell_type": "code",
      "execution_count": 153,
      "metadata": {
        "id": "s696BM9uKADC"
      },
      "outputs": [],
      "source": [
        "if model_selection[model_flag]==\"ALL\" or model_selection[model_flag] == \"AE\":\n",
        "  input_dim = X_train.shape[1]\n",
        "  encoding_dim = 50\n",
        "\n",
        "  #input layer\n",
        "  input_layer = Input(shape=(input_dim, ))\n",
        "  #encoding layer with 50 neurons\n",
        "  encoder = Dense(encoding_dim, activation=\"relu\")(input_layer)           \n",
        "  #decoding and output layer\n",
        "  output_layer = Dense(input_dim, activation='softmax')(encoder)"
      ]
    },
    {
      "cell_type": "code",
      "execution_count": 154,
      "metadata": {
        "id": "nLn3vHBZLQtj"
      },
      "outputs": [],
      "source": [
        "if model_selection[model_flag]==\"ALL\" or model_selection[model_flag] == \"AE\":\n",
        "  # creating model with input, encoding, decoding, output layers\n",
        "  autoencoder = Model(inputs=input_layer, outputs=output_layer)\n",
        "\n",
        "  # defining loss function, optimizer, metrics and then compiling model\n",
        "  autoencoder.compile(optimizer='adam', loss='mean_squared_error',metrics=['accuracy'])"
      ]
    },
    {
      "cell_type": "code",
      "execution_count": 155,
      "metadata": {
        "id": "X_zk7PMVLVNm",
        "colab": {
          "base_uri": "https://localhost:8080/"
        },
        "outputId": "0cc6c072-6284-4a6c-92d9-cc8ea3192a63"
      },
      "outputs": [
        {
          "output_type": "stream",
          "name": "stdout",
          "text": [
            "Model: \"model_2\"\n",
            "_________________________________________________________________\n",
            " Layer (type)                Output Shape              Param #   \n",
            "=================================================================\n",
            " input_3 (InputLayer)        [(None, 115)]             0         \n",
            "                                                                 \n",
            " dense_10 (Dense)            (None, 50)                5800      \n",
            "                                                                 \n",
            " dense_11 (Dense)            (None, 115)               5865      \n",
            "                                                                 \n",
            "=================================================================\n",
            "Total params: 11,665\n",
            "Trainable params: 11,665\n",
            "Non-trainable params: 0\n",
            "_________________________________________________________________\n"
          ]
        }
      ],
      "source": [
        "if model_selection[model_flag]==\"ALL\" or model_selection[model_flag] == \"AE\":\n",
        "  # summary of model layers\n",
        "  autoencoder.summary()"
      ]
    },
    {
      "cell_type": "code",
      "execution_count": 156,
      "metadata": {
        "id": "We59NbebLdkJ",
        "colab": {
          "base_uri": "https://localhost:8080/"
        },
        "outputId": "82ba9058-3697-4ef0-d320-92b18d8b7e9f"
      },
      "outputs": [
        {
          "output_type": "stream",
          "name": "stdout",
          "text": [
            "Epoch 1/100\n",
            "150/150 [==============================] - 2s 7ms/step - loss: 0.2626 - accuracy: 0.0733 - val_loss: inf - val_accuracy: 0.0000e+00\n",
            "Epoch 2/100\n",
            "150/150 [==============================] - 1s 4ms/step - loss: 0.2597 - accuracy: 0.2284 - val_loss: inf - val_accuracy: 0.0000e+00\n",
            "Epoch 3/100\n",
            "150/150 [==============================] - 1s 4ms/step - loss: 0.2596 - accuracy: 0.3136 - val_loss: inf - val_accuracy: 0.0000e+00\n",
            "Epoch 4/100\n",
            "150/150 [==============================] - 1s 5ms/step - loss: 0.2596 - accuracy: 0.3035 - val_loss: inf - val_accuracy: 0.0000e+00\n",
            "Epoch 5/100\n",
            "150/150 [==============================] - 1s 5ms/step - loss: 0.2595 - accuracy: 0.3282 - val_loss: inf - val_accuracy: 0.0000e+00\n",
            "Epoch 6/100\n",
            "150/150 [==============================] - 1s 5ms/step - loss: 0.2595 - accuracy: 0.3321 - val_loss: inf - val_accuracy: 0.0000e+00\n",
            "Epoch 7/100\n",
            "150/150 [==============================] - 2s 11ms/step - loss: 0.2595 - accuracy: 0.3313 - val_loss: inf - val_accuracy: 0.0000e+00\n",
            "Epoch 8/100\n",
            "150/150 [==============================] - 1s 4ms/step - loss: 0.2595 - accuracy: 0.3406 - val_loss: inf - val_accuracy: 0.0000e+00\n",
            "Epoch 9/100\n",
            "150/150 [==============================] - 1s 4ms/step - loss: 0.2595 - accuracy: 0.3518 - val_loss: inf - val_accuracy: 0.0000e+00\n",
            "Epoch 10/100\n",
            "150/150 [==============================] - 1s 4ms/step - loss: 0.2595 - accuracy: 0.3558 - val_loss: inf - val_accuracy: 0.0000e+00\n",
            "Epoch 11/100\n",
            "150/150 [==============================] - 1s 4ms/step - loss: 0.2595 - accuracy: 0.3564 - val_loss: inf - val_accuracy: 0.0000e+00\n",
            "Epoch 12/100\n",
            "150/150 [==============================] - 1s 4ms/step - loss: 0.2595 - accuracy: 0.3503 - val_loss: inf - val_accuracy: 0.0000e+00\n",
            "Epoch 13/100\n",
            "150/150 [==============================] - 1s 4ms/step - loss: 0.2595 - accuracy: 0.3435 - val_loss: inf - val_accuracy: 0.0000e+00\n",
            "Epoch 14/100\n",
            "150/150 [==============================] - 1s 4ms/step - loss: 0.2595 - accuracy: 0.3471 - val_loss: inf - val_accuracy: 0.0000e+00\n",
            "Epoch 15/100\n",
            "150/150 [==============================] - 1s 4ms/step - loss: 0.2595 - accuracy: 0.3403 - val_loss: inf - val_accuracy: 0.0000e+00\n",
            "Epoch 16/100\n",
            "150/150 [==============================] - 1s 4ms/step - loss: 0.2595 - accuracy: 0.3307 - val_loss: inf - val_accuracy: 0.0000e+00\n",
            "Epoch 17/100\n",
            "150/150 [==============================] - 1s 4ms/step - loss: 0.2595 - accuracy: 0.3307 - val_loss: inf - val_accuracy: 0.0000e+00\n",
            "Epoch 18/100\n",
            "150/150 [==============================] - 1s 4ms/step - loss: 0.2595 - accuracy: 0.3322 - val_loss: inf - val_accuracy: 0.0000e+00\n",
            "Epoch 19/100\n",
            "150/150 [==============================] - 1s 4ms/step - loss: 0.2595 - accuracy: 0.3347 - val_loss: inf - val_accuracy: 0.0000e+00\n",
            "Epoch 20/100\n",
            "150/150 [==============================] - 1s 4ms/step - loss: 0.2595 - accuracy: 0.3354 - val_loss: inf - val_accuracy: 0.0000e+00\n",
            "Epoch 21/100\n",
            "150/150 [==============================] - 1s 4ms/step - loss: 0.2595 - accuracy: 0.3375 - val_loss: inf - val_accuracy: 0.0000e+00\n",
            "Epoch 22/100\n",
            "150/150 [==============================] - 1s 4ms/step - loss: 0.2595 - accuracy: 0.3259 - val_loss: inf - val_accuracy: 0.0000e+00\n",
            "Epoch 23/100\n",
            "150/150 [==============================] - 1s 4ms/step - loss: 0.2595 - accuracy: 0.3172 - val_loss: inf - val_accuracy: 0.0000e+00\n",
            "Epoch 24/100\n",
            "150/150 [==============================] - 1s 5ms/step - loss: 0.2595 - accuracy: 0.3135 - val_loss: inf - val_accuracy: 0.0000e+00\n",
            "Epoch 25/100\n",
            "150/150 [==============================] - 1s 5ms/step - loss: 0.2595 - accuracy: 0.3092 - val_loss: inf - val_accuracy: 0.0000e+00\n",
            "Epoch 26/100\n",
            "150/150 [==============================] - 1s 5ms/step - loss: 0.2595 - accuracy: 0.3089 - val_loss: inf - val_accuracy: 0.0000e+00\n",
            "Epoch 27/100\n",
            "150/150 [==============================] - 1s 5ms/step - loss: 0.2594 - accuracy: 0.3090 - val_loss: inf - val_accuracy: 0.0000e+00\n",
            "Epoch 28/100\n",
            "150/150 [==============================] - 1s 5ms/step - loss: 0.2594 - accuracy: 0.3121 - val_loss: inf - val_accuracy: 0.0000e+00\n",
            "Epoch 29/100\n",
            "150/150 [==============================] - 1s 4ms/step - loss: 0.2594 - accuracy: 0.3784 - val_loss: inf - val_accuracy: 0.0000e+00\n",
            "Epoch 30/100\n",
            "150/150 [==============================] - 1s 4ms/step - loss: 0.2594 - accuracy: 0.4031 - val_loss: inf - val_accuracy: 0.0000e+00\n",
            "Epoch 31/100\n",
            "150/150 [==============================] - 1s 4ms/step - loss: 0.2594 - accuracy: 0.3987 - val_loss: inf - val_accuracy: 0.0000e+00\n",
            "Epoch 32/100\n",
            "150/150 [==============================] - 1s 4ms/step - loss: 0.2594 - accuracy: 0.3988 - val_loss: inf - val_accuracy: 0.0000e+00\n",
            "Epoch 33/100\n",
            "150/150 [==============================] - 1s 4ms/step - loss: 0.2594 - accuracy: 0.3836 - val_loss: inf - val_accuracy: 0.0000e+00\n",
            "Epoch 34/100\n",
            "150/150 [==============================] - 1s 4ms/step - loss: 0.2594 - accuracy: 0.3667 - val_loss: inf - val_accuracy: 0.0000e+00\n",
            "Epoch 35/100\n",
            "150/150 [==============================] - 1s 4ms/step - loss: 0.2594 - accuracy: 0.3545 - val_loss: inf - val_accuracy: 0.0000e+00\n",
            "Epoch 36/100\n",
            "150/150 [==============================] - 1s 4ms/step - loss: 0.2594 - accuracy: 0.3436 - val_loss: inf - val_accuracy: 0.0000e+00\n",
            "Epoch 37/100\n",
            "150/150 [==============================] - 1s 4ms/step - loss: 0.2594 - accuracy: 0.3392 - val_loss: inf - val_accuracy: 0.0000e+00\n",
            "Epoch 38/100\n",
            "150/150 [==============================] - 1s 4ms/step - loss: 0.2594 - accuracy: 0.3373 - val_loss: inf - val_accuracy: 0.0000e+00\n",
            "Epoch 39/100\n",
            "150/150 [==============================] - 1s 4ms/step - loss: 0.2594 - accuracy: 0.3373 - val_loss: inf - val_accuracy: 0.0000e+00\n",
            "Epoch 40/100\n",
            "150/150 [==============================] - 1s 4ms/step - loss: 0.2594 - accuracy: 0.3406 - val_loss: inf - val_accuracy: 0.0000e+00\n",
            "Epoch 41/100\n",
            "150/150 [==============================] - 1s 4ms/step - loss: 0.2594 - accuracy: 0.3429 - val_loss: inf - val_accuracy: 0.0000e+00\n",
            "Epoch 42/100\n",
            "150/150 [==============================] - 1s 4ms/step - loss: 0.2594 - accuracy: 0.3495 - val_loss: inf - val_accuracy: 0.0000e+00\n",
            "Epoch 43/100\n",
            "150/150 [==============================] - 1s 4ms/step - loss: 0.2594 - accuracy: 0.3521 - val_loss: inf - val_accuracy: 0.0000e+00\n",
            "Epoch 44/100\n",
            "150/150 [==============================] - 1s 4ms/step - loss: 0.2594 - accuracy: 0.3514 - val_loss: inf - val_accuracy: 0.0000e+00\n",
            "Epoch 45/100\n",
            "150/150 [==============================] - 1s 5ms/step - loss: 0.2594 - accuracy: 0.3601 - val_loss: inf - val_accuracy: 0.0000e+00\n",
            "Epoch 46/100\n",
            "150/150 [==============================] - 1s 6ms/step - loss: 0.2594 - accuracy: 0.3599 - val_loss: inf - val_accuracy: 0.0000e+00\n",
            "Epoch 47/100\n",
            "150/150 [==============================] - 1s 5ms/step - loss: 0.2594 - accuracy: 0.3601 - val_loss: inf - val_accuracy: 0.0000e+00\n",
            "Epoch 48/100\n",
            "150/150 [==============================] - 1s 5ms/step - loss: 0.2594 - accuracy: 0.3587 - val_loss: inf - val_accuracy: 0.0000e+00\n",
            "Epoch 49/100\n",
            "150/150 [==============================] - 1s 5ms/step - loss: 0.2594 - accuracy: 0.3635 - val_loss: inf - val_accuracy: 0.0000e+00\n",
            "Epoch 50/100\n",
            "150/150 [==============================] - 1s 4ms/step - loss: 0.2594 - accuracy: 0.3654 - val_loss: inf - val_accuracy: 0.0000e+00\n",
            "Epoch 51/100\n",
            "150/150 [==============================] - 1s 4ms/step - loss: 0.2594 - accuracy: 0.3683 - val_loss: inf - val_accuracy: 0.0000e+00\n",
            "Epoch 52/100\n",
            "150/150 [==============================] - 1s 4ms/step - loss: 0.2594 - accuracy: 0.3646 - val_loss: inf - val_accuracy: 0.0000e+00\n",
            "Epoch 53/100\n",
            "150/150 [==============================] - 1s 4ms/step - loss: 0.2594 - accuracy: 0.3682 - val_loss: inf - val_accuracy: 0.0000e+00\n",
            "Epoch 54/100\n",
            "150/150 [==============================] - 1s 4ms/step - loss: 0.2594 - accuracy: 0.3629 - val_loss: inf - val_accuracy: 0.0000e+00\n",
            "Epoch 55/100\n",
            "150/150 [==============================] - 1s 4ms/step - loss: 0.2594 - accuracy: 0.3628 - val_loss: inf - val_accuracy: 0.0000e+00\n",
            "Epoch 56/100\n",
            "150/150 [==============================] - 1s 4ms/step - loss: 0.2594 - accuracy: 0.3706 - val_loss: inf - val_accuracy: 0.0000e+00\n",
            "Epoch 57/100\n",
            "150/150 [==============================] - 1s 4ms/step - loss: 0.2594 - accuracy: 0.3586 - val_loss: inf - val_accuracy: 0.0000e+00\n",
            "Epoch 58/100\n",
            "150/150 [==============================] - 1s 4ms/step - loss: 0.2594 - accuracy: 0.3586 - val_loss: inf - val_accuracy: 0.0000e+00\n",
            "Epoch 59/100\n",
            "150/150 [==============================] - 1s 4ms/step - loss: 0.2594 - accuracy: 0.3574 - val_loss: inf - val_accuracy: 0.0000e+00\n",
            "Epoch 60/100\n",
            "150/150 [==============================] - 1s 4ms/step - loss: 0.2594 - accuracy: 0.3609 - val_loss: inf - val_accuracy: 0.0000e+00\n",
            "Epoch 61/100\n",
            "150/150 [==============================] - 1s 4ms/step - loss: 0.2594 - accuracy: 0.3596 - val_loss: inf - val_accuracy: 0.0000e+00\n",
            "Epoch 62/100\n",
            "150/150 [==============================] - 1s 4ms/step - loss: 0.2594 - accuracy: 0.3610 - val_loss: inf - val_accuracy: 0.0000e+00\n",
            "Epoch 63/100\n",
            "150/150 [==============================] - 1s 4ms/step - loss: 0.2594 - accuracy: 0.3578 - val_loss: inf - val_accuracy: 0.0000e+00\n",
            "Epoch 64/100\n",
            "150/150 [==============================] - 1s 4ms/step - loss: 0.2594 - accuracy: 0.3595 - val_loss: inf - val_accuracy: 0.0000e+00\n",
            "Epoch 65/100\n",
            "150/150 [==============================] - 1s 4ms/step - loss: 0.2594 - accuracy: 0.3532 - val_loss: inf - val_accuracy: 0.0000e+00\n",
            "Epoch 66/100\n",
            "150/150 [==============================] - 1s 5ms/step - loss: 0.2594 - accuracy: 0.3552 - val_loss: inf - val_accuracy: 0.0000e+00\n",
            "Epoch 67/100\n",
            "150/150 [==============================] - 1s 5ms/step - loss: 0.2594 - accuracy: 0.3581 - val_loss: inf - val_accuracy: 0.0000e+00\n",
            "Epoch 68/100\n",
            "150/150 [==============================] - 1s 6ms/step - loss: 0.2594 - accuracy: 0.3574 - val_loss: inf - val_accuracy: 0.0000e+00\n",
            "Epoch 69/100\n",
            "150/150 [==============================] - 1s 5ms/step - loss: 0.2594 - accuracy: 0.3578 - val_loss: inf - val_accuracy: 0.0000e+00\n",
            "Epoch 70/100\n",
            "150/150 [==============================] - 1s 5ms/step - loss: 0.2594 - accuracy: 0.3585 - val_loss: inf - val_accuracy: 0.0000e+00\n",
            "Epoch 71/100\n",
            "150/150 [==============================] - 1s 4ms/step - loss: 0.2594 - accuracy: 0.3637 - val_loss: inf - val_accuracy: 0.0000e+00\n",
            "Epoch 72/100\n",
            "150/150 [==============================] - 1s 4ms/step - loss: 0.2594 - accuracy: 0.3548 - val_loss: inf - val_accuracy: 0.0000e+00\n",
            "Epoch 73/100\n",
            "150/150 [==============================] - 1s 4ms/step - loss: 0.2594 - accuracy: 0.3561 - val_loss: inf - val_accuracy: 0.0000e+00\n",
            "Epoch 74/100\n",
            "150/150 [==============================] - 1s 4ms/step - loss: 0.2594 - accuracy: 0.3576 - val_loss: inf - val_accuracy: 0.0000e+00\n",
            "Epoch 75/100\n",
            "150/150 [==============================] - 1s 4ms/step - loss: 0.2594 - accuracy: 0.3555 - val_loss: inf - val_accuracy: 0.0000e+00\n",
            "Epoch 76/100\n",
            "150/150 [==============================] - 1s 4ms/step - loss: 0.2594 - accuracy: 0.3600 - val_loss: inf - val_accuracy: 0.0000e+00\n",
            "Epoch 77/100\n",
            "150/150 [==============================] - 1s 4ms/step - loss: 0.2594 - accuracy: 0.3585 - val_loss: inf - val_accuracy: 0.0000e+00\n",
            "Epoch 78/100\n",
            "150/150 [==============================] - 1s 4ms/step - loss: 0.2594 - accuracy: 0.3587 - val_loss: inf - val_accuracy: 0.0000e+00\n",
            "Epoch 79/100\n",
            "150/150 [==============================] - 1s 4ms/step - loss: 0.2594 - accuracy: 0.3570 - val_loss: inf - val_accuracy: 0.0000e+00\n",
            "Epoch 80/100\n",
            "150/150 [==============================] - 1s 4ms/step - loss: 0.2594 - accuracy: 0.3624 - val_loss: inf - val_accuracy: 0.0000e+00\n",
            "Epoch 81/100\n",
            "150/150 [==============================] - 1s 4ms/step - loss: 0.2594 - accuracy: 0.3584 - val_loss: inf - val_accuracy: 0.0000e+00\n",
            "Epoch 82/100\n",
            "150/150 [==============================] - 1s 4ms/step - loss: 0.2594 - accuracy: 0.3609 - val_loss: inf - val_accuracy: 0.0000e+00\n",
            "Epoch 83/100\n",
            "150/150 [==============================] - 1s 4ms/step - loss: 0.2594 - accuracy: 0.3646 - val_loss: inf - val_accuracy: 0.0000e+00\n",
            "Epoch 84/100\n",
            "150/150 [==============================] - 1s 4ms/step - loss: 0.2594 - accuracy: 0.3589 - val_loss: inf - val_accuracy: 0.0000e+00\n",
            "Epoch 85/100\n",
            "150/150 [==============================] - 1s 4ms/step - loss: 0.2594 - accuracy: 0.3615 - val_loss: inf - val_accuracy: 0.0000e+00\n",
            "Epoch 86/100\n",
            "150/150 [==============================] - 1s 4ms/step - loss: 0.2594 - accuracy: 0.3550 - val_loss: inf - val_accuracy: 0.0000e+00\n",
            "Epoch 87/100\n",
            "150/150 [==============================] - 1s 4ms/step - loss: 0.2594 - accuracy: 0.3604 - val_loss: inf - val_accuracy: 0.0000e+00\n",
            "Epoch 88/100\n",
            "150/150 [==============================] - 1s 5ms/step - loss: 0.2594 - accuracy: 0.3603 - val_loss: inf - val_accuracy: 0.0000e+00\n",
            "Epoch 89/100\n",
            "150/150 [==============================] - 1s 6ms/step - loss: 0.2594 - accuracy: 0.3605 - val_loss: inf - val_accuracy: 0.0000e+00\n",
            "Epoch 90/100\n",
            "150/150 [==============================] - 1s 5ms/step - loss: 0.2594 - accuracy: 0.3615 - val_loss: inf - val_accuracy: 0.0000e+00\n",
            "Epoch 91/100\n",
            "150/150 [==============================] - 1s 5ms/step - loss: 0.2594 - accuracy: 0.3568 - val_loss: inf - val_accuracy: 0.0000e+00\n",
            "Epoch 92/100\n",
            "150/150 [==============================] - 1s 5ms/step - loss: 0.2594 - accuracy: 0.3612 - val_loss: inf - val_accuracy: 0.0000e+00\n",
            "Epoch 93/100\n",
            "150/150 [==============================] - 1s 4ms/step - loss: 0.2594 - accuracy: 0.3551 - val_loss: inf - val_accuracy: 0.0000e+00\n",
            "Epoch 94/100\n",
            "150/150 [==============================] - 1s 4ms/step - loss: 0.2594 - accuracy: 0.3563 - val_loss: inf - val_accuracy: 0.0000e+00\n",
            "Epoch 95/100\n",
            "150/150 [==============================] - 1s 4ms/step - loss: 0.2594 - accuracy: 0.3547 - val_loss: inf - val_accuracy: 0.0000e+00\n",
            "Epoch 96/100\n",
            "150/150 [==============================] - 1s 4ms/step - loss: 0.2594 - accuracy: 0.3555 - val_loss: inf - val_accuracy: 0.0000e+00\n",
            "Epoch 97/100\n",
            "150/150 [==============================] - 1s 4ms/step - loss: 0.2594 - accuracy: 0.3570 - val_loss: inf - val_accuracy: 0.0000e+00\n",
            "Epoch 98/100\n",
            "150/150 [==============================] - 1s 4ms/step - loss: 0.2594 - accuracy: 0.3469 - val_loss: inf - val_accuracy: 0.0000e+00\n",
            "Epoch 99/100\n",
            "150/150 [==============================] - 1s 4ms/step - loss: 0.2594 - accuracy: 0.3530 - val_loss: inf - val_accuracy: 0.0000e+00\n",
            "Epoch 100/100\n",
            "150/150 [==============================] - 1s 4ms/step - loss: 0.2594 - accuracy: 0.3553 - val_loss: inf - val_accuracy: 0.0000e+00\n"
          ]
        }
      ],
      "source": [
        "if model_selection[model_flag]==\"ALL\" or model_selection[model_flag] == \"AE\":\n",
        "  # training the model on training dataset\n",
        "  history = autoencoder.fit(X_train, X_train, epochs=100,batch_size=500,validation_data=(X_test, X_test)).history"
      ]
    },
    {
      "cell_type": "code",
      "execution_count": 157,
      "metadata": {
        "id": "AdtR3-9xLliU"
      },
      "outputs": [],
      "source": [
        "if model_selection[model_flag]==\"ALL\" or model_selection[model_flag] == \"AE\":\n",
        "  filepath = '/content/drive/MyDrive/Colab_Notebooks/Models/ae_binary'+model_name_suffix+'.json'\n",
        "  weightspath = '/content/drive/MyDrive/Colab_Notebooks/Weights/ae_binary'+model_name_suffix+'.h5'\n",
        "  if (not path.isfile(filepath)): \n",
        "    # serialize model to JSON\n",
        "    autoencoder_json = autoencoder.to_json()\n",
        "    with open(filepath, \"w\") as json_file:\n",
        "      json_file.write(autoencoder_json)\n",
        "\n",
        "    # serialize weights to HDF5\n",
        "    autoencoder.save_weights(weightspath)\n",
        "    print(\"Saved model to disk\")\n",
        "\n",
        "    # load json and create model\n",
        "    json_file = open(filepath, 'r')\n",
        "    loaded_model_json = json_file.read()\n",
        "    json_file.close()\n",
        "    autoencoder = model_from_json(loaded_model_json)\n",
        "\n",
        "    # load weights into new model\n",
        "    autoencoder.load_weights(weightspath)\n",
        "    print(\"Loaded model from disk\")"
      ]
    },
    {
      "cell_type": "code",
      "execution_count": 158,
      "metadata": {
        "id": "Wqr6HVtMLwx9"
      },
      "outputs": [],
      "source": [
        "if model_selection[model_flag]==\"ALL\" or model_selection[model_flag] == \"AE\":\n",
        "  # defining loss function, optimizer, metrics and then compiling model\n",
        "  autoencoder.compile(optimizer='adam', loss='mean_squared_error',metrics=['accuracy'])"
      ]
    },
    {
      "cell_type": "code",
      "execution_count": 159,
      "metadata": {
        "id": "FQrjCk2hL09x",
        "colab": {
          "base_uri": "https://localhost:8080/"
        },
        "outputId": "edcecd63-d3d3-443d-c0b7-1f26516f13b0"
      },
      "outputs": [
        {
          "output_type": "stream",
          "name": "stdout",
          "text": [
            "782/782 [==============================] - 2s 2ms/step - loss: inf - accuracy: 0.0000e+00\n",
            "Test results - Loss: inf - Accuracy: 0.0%\n"
          ]
        }
      ],
      "source": [
        "if model_selection[model_flag]==\"ALL\" or model_selection[model_flag] == \"AE\":\n",
        "  # predicting target attribute on testing dataset\n",
        "  test_results = autoencoder.evaluate(X_test, X_test, verbose=1)\n",
        "  print(f'Test results - Loss: {test_results[0]} - Accuracy: {test_results[1]}%')"
      ]
    },
    {
      "cell_type": "code",
      "execution_count": 160,
      "metadata": {
        "id": "VqQsjSZcL1-B",
        "colab": {
          "base_uri": "https://localhost:8080/",
          "height": 472
        },
        "outputId": "c510c96f-c407-419b-d0d9-d82f7014b368"
      },
      "outputs": [
        {
          "output_type": "display_data",
          "data": {
            "text/plain": [
              "<Figure size 640x480 with 1 Axes>"
            ],
            "image/png": "[encoded data removed]"
          },
          "metadata": {}
        }
      ],
      "source": [
        "if model_selection[model_flag]==\"ALL\" or model_selection[model_flag] == \"AE\":\n",
        "  # Plot of loss vs epoch of train and test dataset\n",
        "  plt.plot(history['loss'])\n",
        "  plt.plot(history['val_loss'])\n",
        "  plt.title(\"Plot of loss vs epoch for train and test dataset\")\n",
        "  plt.ylabel('loss')\n",
        "  plt.xlabel('epoch')\n",
        "  plt.legend(['train', 'test'], loc='upper right')\n",
        "  plt.savefig('/content/drive/MyDrive/Colab_Notebooks/Plots/ae_binary_loss.png')\n",
        "  plt.show()"
      ]
    },
    {
      "cell_type": "code",
      "execution_count": 161,
      "metadata": {
        "id": "fkjD9QXKL25Z",
        "colab": {
          "base_uri": "https://localhost:8080/",
          "height": 472
        },
        "outputId": "bd82f483-02ba-4a05-fb70-28e97656da40"
      },
      "outputs": [
        {
          "output_type": "display_data",
          "data": {
            "text/plain": [
              "<Figure size 640x480 with 1 Axes>"
            ],
            "image/png": "[encoded data removed]"
          },
          "metadata": {}
        }
      ],
      "source": [
        "if model_selection[model_flag]==\"ALL\" or model_selection[model_flag] == \"AE\":\n",
        "  # Plot of accuracy vs epoch of train and test dataset\n",
        "  plt.plot(history['accuracy'])\n",
        "  plt.plot(history['val_accuracy'])\n",
        "  plt.title(\"Plot of accuracy vs epoch for train and test dataset\")\n",
        "  plt.ylabel('accuracy')\n",
        "  plt.xlabel('epoch')\n",
        "  plt.legend(['train', 'test'], loc='best')\n",
        "  plt.savefig('/content/drive/MyDrive/Colab_Notebooks/Plots/ae_binary_accuracy.png')\n",
        "  plt.show()"
      ]
    },
    {
      "cell_type": "code",
      "execution_count": 162,
      "metadata": {
        "id": "lf9q83sBMGPD"
      },
      "outputs": [],
      "source": [
        "if model_selection[model_flag]==\"ALL\" or model_selection[model_flag] == \"AE\":\n",
        "  # representation of model layers\n",
        "  plot_model(autoencoder, to_file='/content/drive/MyDrive/Colab_Notebooks/Plots/ae_binary.png', show_shapes=True,)"
      ]
    },
    {
      "cell_type": "code",
      "execution_count": 163,
      "metadata": {
        "id": "SFIXKGwuMLFo",
        "colab": {
          "base_uri": "https://localhost:8080/"
        },
        "outputId": "23dbdd10-5030-484c-88dd-d8d7c9a55654"
      },
      "outputs": [
        {
          "output_type": "stream",
          "name": "stdout",
          "text": [
            "782/782 [==============================] - 1s 1ms/step\n"
          ]
        }
      ],
      "source": [
        "if model_selection[model_flag]==\"ALL\" or model_selection[model_flag] == \"AE\":\n",
        "  # calculating reconstruction error \n",
        "  predictions = autoencoder.predict(X_test)"
      ]
    },
    {
      "cell_type": "code",
      "execution_count": 164,
      "metadata": {
        "id": "cqKJCyZnMMEG"
      },
      "outputs": [],
      "source": [
        "if model_selection[model_flag]==\"ALL\" or model_selection[model_flag] == \"AE\":\n",
        "  mse = np.mean(np.power(X_test - predictions, 2), axis=1)\n",
        "  error_df = pd.DataFrame({'reconstruction_error': mse,\n",
        "                           'true_class': y_test})"
      ]
    },
    {
      "cell_type": "code",
      "execution_count": 165,
      "metadata": {
        "id": "EdQJudbDMhmB",
        "colab": {
          "base_uri": "https://localhost:8080/"
        },
        "outputId": "6e283d98-f0ec-4f2b-e6ec-6ec91ebb35af"
      },
      "outputs": [
        {
          "output_type": "stream",
          "name": "stdout",
          "text": [
            "(25000, 115)\n"
          ]
        }
      ],
      "source": [
        "if model_selection[model_flag]==\"ALL\" or model_selection[model_flag] == \"AE\":\n",
        "  error_df.describe()\n",
        "  print(predictions.shape)"
      ]
    },
    {
      "cell_type": "markdown",
      "metadata": {
        "id": "PHsaAAMmNQrs"
      },
      "source": [
        "## **AE Classifier**"
      ]
    },
    {
      "cell_type": "code",
      "execution_count": 166,
      "metadata": {
        "id": "1hK07LDBMoZg"
      },
      "outputs": [],
      "source": [
        "if model_selection[model_flag]==\"ALL\" or model_selection[model_flag] == \"AE\":\n",
        "  i_dim = predictions.shape[1]\n",
        "\n",
        "  #input layer\n",
        "  i_layer = Input(shape=(i_dim, ))\n",
        "  #hidden layer with 50 neurons\n",
        "  fvector = Dense(50, activation=\"sigmoid\")(i_layer)                    \n",
        "  #doutput layer\n",
        "  o_layer = Dense(1, activation='sigmoid')(fvector)"
      ]
    },
    {
      "cell_type": "code",
      "execution_count": 167,
      "metadata": {
        "id": "Efq77rVINXWE"
      },
      "outputs": [],
      "source": [
        "if model_selection[model_flag]==\"ALL\" or model_selection[model_flag] == \"AE\":\n",
        "  # creating model with input, encoding, decoding, output layers\n",
        "  ae_classifier = Model(inputs=i_layer, outputs=o_layer)\n",
        "\n",
        "  # defining loss function, optimizer, metrics and then compiling model\n",
        "  ae_classifier.compile(optimizer='adam', loss='binary_crossentropy',metrics=['accuracy'])"
      ]
    },
    {
      "cell_type": "code",
      "execution_count": 168,
      "metadata": {
        "id": "0Yl594VGNX1W",
        "colab": {
          "base_uri": "https://localhost:8080/"
        },
        "outputId": "2165bee7-ccb4-4e5a-871b-cddd65699110"
      },
      "outputs": [
        {
          "output_type": "stream",
          "name": "stdout",
          "text": [
            "Model: \"model_3\"\n",
            "_________________________________________________________________\n",
            " Layer (type)                Output Shape              Param #   \n",
            "=================================================================\n",
            " input_4 (InputLayer)        [(None, 115)]             0         \n",
            "                                                                 \n",
            " dense_12 (Dense)            (None, 50)                5800      \n",
            "                                                                 \n",
            " dense_13 (Dense)            (None, 1)                 51        \n",
            "                                                                 \n",
            "=================================================================\n",
            "Total params: 5,851\n",
            "Trainable params: 5,851\n",
            "Non-trainable params: 0\n",
            "_________________________________________________________________\n"
          ]
        }
      ],
      "source": [
        "if model_selection[model_flag]==\"ALL\" or model_selection[model_flag] == \"AE\":\n",
        "  # summary of model layers\n",
        "  ae_classifier.summary()"
      ]
    },
    {
      "cell_type": "code",
      "execution_count": 169,
      "metadata": {
        "id": "23n8Qt0uNX8Z",
        "colab": {
          "base_uri": "https://localhost:8080/"
        },
        "outputId": "d85bee71-ee7d-4a38-ce89-2a868310a8fd"
      },
      "outputs": [
        {
          "output_type": "stream",
          "name": "stdout",
          "text": [
            "Epoch 1/300\n",
            "40/40 [==============================] - 2s 9ms/step - loss: 0.6161 - accuracy: 0.6295 - val_loss: 0.5960 - val_accuracy: 0.6224\n",
            "Epoch 2/300\n",
            "40/40 [==============================] - 0s 6ms/step - loss: 0.5675 - accuracy: 0.6295 - val_loss: 0.5438 - val_accuracy: 0.6224\n",
            "Epoch 3/300\n",
            "40/40 [==============================] - 0s 6ms/step - loss: 0.5120 - accuracy: 0.6295 - val_loss: 0.4835 - val_accuracy: 0.6224\n",
            "Epoch 4/300\n",
            "40/40 [==============================] - 0s 6ms/step - loss: 0.4480 - accuracy: 0.9370 - val_loss: 0.4148 - val_accuracy: 0.9934\n",
            "Epoch 5/300\n",
            "40/40 [==============================] - 0s 5ms/step - loss: 0.3777 - accuracy: 0.9931 - val_loss: 0.3430 - val_accuracy: 0.9942\n",
            "Epoch 6/300\n",
            "40/40 [==============================] - 0s 6ms/step - loss: 0.3076 - accuracy: 0.9939 - val_loss: 0.2746 - val_accuracy: 0.9952\n",
            "Epoch 7/300\n",
            "40/40 [==============================] - 0s 5ms/step - loss: 0.2442 - accuracy: 0.9941 - val_loss: 0.2158 - val_accuracy: 0.9952\n",
            "Epoch 8/300\n",
            "40/40 [==============================] - 0s 5ms/step - loss: 0.1919 - accuracy: 0.9941 - val_loss: 0.1692 - val_accuracy: 0.9952\n",
            "Epoch 9/300\n",
            "40/40 [==============================] - 0s 4ms/step - loss: 0.1515 - accuracy: 0.9941 - val_loss: 0.1342 - val_accuracy: 0.9952\n",
            "Epoch 10/300\n",
            "40/40 [==============================] - 0s 3ms/step - loss: 0.1216 - accuracy: 0.9941 - val_loss: 0.1083 - val_accuracy: 0.9952\n",
            "Epoch 11/300\n",
            "40/40 [==============================] - 0s 3ms/step - loss: 0.0998 - accuracy: 0.9941 - val_loss: 0.0896 - val_accuracy: 0.9952\n",
            "Epoch 12/300\n",
            "40/40 [==============================] - 0s 3ms/step - loss: 0.0839 - accuracy: 0.9941 - val_loss: 0.0758 - val_accuracy: 0.9952\n",
            "Epoch 13/300\n",
            "40/40 [==============================] - 0s 4ms/step - loss: 0.0723 - accuracy: 0.9941 - val_loss: 0.0656 - val_accuracy: 0.9952\n",
            "Epoch 14/300\n",
            "40/40 [==============================] - 0s 3ms/step - loss: 0.0636 - accuracy: 0.9941 - val_loss: 0.0580 - val_accuracy: 0.9952\n",
            "Epoch 15/300\n",
            "40/40 [==============================] - 0s 3ms/step - loss: 0.0571 - accuracy: 0.9941 - val_loss: 0.0522 - val_accuracy: 0.9952\n",
            "Epoch 16/300\n",
            "40/40 [==============================] - 0s 4ms/step - loss: 0.0521 - accuracy: 0.9941 - val_loss: 0.0476 - val_accuracy: 0.9952\n",
            "Epoch 17/300\n",
            "40/40 [==============================] - 0s 3ms/step - loss: 0.0482 - accuracy: 0.9941 - val_loss: 0.0441 - val_accuracy: 0.9952\n",
            "Epoch 18/300\n",
            "40/40 [==============================] - 0s 4ms/step - loss: 0.0451 - accuracy: 0.9941 - val_loss: 0.0413 - val_accuracy: 0.9952\n",
            "Epoch 19/300\n",
            "40/40 [==============================] - 0s 4ms/step - loss: 0.0427 - accuracy: 0.9941 - val_loss: 0.0391 - val_accuracy: 0.9952\n",
            "Epoch 20/300\n",
            "40/40 [==============================] - 0s 4ms/step - loss: 0.0407 - accuracy: 0.9941 - val_loss: 0.0372 - val_accuracy: 0.9952\n",
            "Epoch 21/300\n",
            "40/40 [==============================] - 0s 3ms/step - loss: 0.0391 - accuracy: 0.9941 - val_loss: 0.0358 - val_accuracy: 0.9952\n",
            "Epoch 22/300\n",
            "40/40 [==============================] - 0s 4ms/step - loss: 0.0378 - accuracy: 0.9941 - val_loss: 0.0345 - val_accuracy: 0.9952\n",
            "Epoch 23/300\n",
            "40/40 [==============================] - 0s 4ms/step - loss: 0.0367 - accuracy: 0.9941 - val_loss: 0.0335 - val_accuracy: 0.9952\n",
            "Epoch 24/300\n",
            "40/40 [==============================] - 0s 4ms/step - loss: 0.0358 - accuracy: 0.9941 - val_loss: 0.0327 - val_accuracy: 0.9952\n",
            "Epoch 25/300\n",
            "40/40 [==============================] - 0s 4ms/step - loss: 0.0351 - accuracy: 0.9941 - val_loss: 0.0319 - val_accuracy: 0.9952\n",
            "Epoch 26/300\n",
            "40/40 [==============================] - 0s 4ms/step - loss: 0.0344 - accuracy: 0.9941 - val_loss: 0.0314 - val_accuracy: 0.9952\n",
            "Epoch 27/300\n",
            "40/40 [==============================] - 0s 3ms/step - loss: 0.0339 - accuracy: 0.9941 - val_loss: 0.0308 - val_accuracy: 0.9952\n",
            "Epoch 28/300\n",
            "40/40 [==============================] - 0s 3ms/step - loss: 0.0334 - accuracy: 0.9941 - val_loss: 0.0303 - val_accuracy: 0.9952\n",
            "Epoch 29/300\n",
            "40/40 [==============================] - 0s 4ms/step - loss: 0.0330 - accuracy: 0.9941 - val_loss: 0.0300 - val_accuracy: 0.9952\n",
            "Epoch 30/300\n",
            "40/40 [==============================] - 0s 4ms/step - loss: 0.0326 - accuracy: 0.9941 - val_loss: 0.0297 - val_accuracy: 0.9952\n",
            "Epoch 31/300\n",
            "40/40 [==============================] - 0s 4ms/step - loss: 0.0323 - accuracy: 0.9941 - val_loss: 0.0294 - val_accuracy: 0.9952\n",
            "Epoch 32/300\n",
            "40/40 [==============================] - 0s 4ms/step - loss: 0.0321 - accuracy: 0.9941 - val_loss: 0.0291 - val_accuracy: 0.9952\n",
            "Epoch 33/300\n",
            "40/40 [==============================] - 0s 3ms/step - loss: 0.0319 - accuracy: 0.9941 - val_loss: 0.0290 - val_accuracy: 0.9952\n",
            "Epoch 34/300\n",
            "40/40 [==============================] - 0s 4ms/step - loss: 0.0316 - accuracy: 0.9941 - val_loss: 0.0289 - val_accuracy: 0.9952\n",
            "Epoch 35/300\n",
            "40/40 [==============================] - 0s 3ms/step - loss: 0.0315 - accuracy: 0.9941 - val_loss: 0.0286 - val_accuracy: 0.9952\n",
            "Epoch 36/300\n",
            "40/40 [==============================] - 0s 4ms/step - loss: 0.0313 - accuracy: 0.9941 - val_loss: 0.0285 - val_accuracy: 0.9952\n",
            "Epoch 37/300\n",
            "40/40 [==============================] - 0s 3ms/step - loss: 0.0312 - accuracy: 0.9941 - val_loss: 0.0283 - val_accuracy: 0.9952\n",
            "Epoch 38/300\n",
            "40/40 [==============================] - 0s 4ms/step - loss: 0.0310 - accuracy: 0.9941 - val_loss: 0.0282 - val_accuracy: 0.9952\n",
            "Epoch 39/300\n",
            "40/40 [==============================] - 0s 3ms/step - loss: 0.0309 - accuracy: 0.9941 - val_loss: 0.0281 - val_accuracy: 0.9952\n",
            "Epoch 40/300\n",
            "40/40 [==============================] - 0s 3ms/step - loss: 0.0308 - accuracy: 0.9941 - val_loss: 0.0280 - val_accuracy: 0.9952\n",
            "Epoch 41/300\n",
            "40/40 [==============================] - 0s 3ms/step - loss: 0.0307 - accuracy: 0.9941 - val_loss: 0.0280 - val_accuracy: 0.9952\n",
            "Epoch 42/300\n",
            "40/40 [==============================] - 0s 4ms/step - loss: 0.0307 - accuracy: 0.9941 - val_loss: 0.0279 - val_accuracy: 0.9952\n",
            "Epoch 43/300\n",
            "40/40 [==============================] - 0s 4ms/step - loss: 0.0306 - accuracy: 0.9941 - val_loss: 0.0279 - val_accuracy: 0.9952\n",
            "Epoch 44/300\n",
            "40/40 [==============================] - 0s 3ms/step - loss: 0.0306 - accuracy: 0.9941 - val_loss: 0.0278 - val_accuracy: 0.9952\n",
            "Epoch 45/300\n",
            "40/40 [==============================] - 0s 4ms/step - loss: 0.0305 - accuracy: 0.9941 - val_loss: 0.0277 - val_accuracy: 0.9952\n",
            "Epoch 46/300\n",
            "40/40 [==============================] - 0s 5ms/step - loss: 0.0304 - accuracy: 0.9941 - val_loss: 0.0277 - val_accuracy: 0.9952\n",
            "Epoch 47/300\n",
            "40/40 [==============================] - 0s 3ms/step - loss: 0.0304 - accuracy: 0.9941 - val_loss: 0.0276 - val_accuracy: 0.9952\n",
            "Epoch 48/300\n",
            "40/40 [==============================] - 0s 3ms/step - loss: 0.0303 - accuracy: 0.9941 - val_loss: 0.0275 - val_accuracy: 0.9952\n",
            "Epoch 49/300\n",
            "40/40 [==============================] - 0s 3ms/step - loss: 0.0303 - accuracy: 0.9941 - val_loss: 0.0276 - val_accuracy: 0.9952\n",
            "Epoch 50/300\n",
            "40/40 [==============================] - 0s 4ms/step - loss: 0.0303 - accuracy: 0.9941 - val_loss: 0.0275 - val_accuracy: 0.9952\n",
            "Epoch 51/300\n",
            "40/40 [==============================] - 0s 3ms/step - loss: 0.0303 - accuracy: 0.9941 - val_loss: 0.0275 - val_accuracy: 0.9952\n",
            "Epoch 52/300\n",
            "40/40 [==============================] - 0s 3ms/step - loss: 0.0302 - accuracy: 0.9941 - val_loss: 0.0274 - val_accuracy: 0.9952\n",
            "Epoch 53/300\n",
            "40/40 [==============================] - 0s 4ms/step - loss: 0.0302 - accuracy: 0.9941 - val_loss: 0.0274 - val_accuracy: 0.9952\n",
            "Epoch 54/300\n",
            "40/40 [==============================] - 0s 3ms/step - loss: 0.0302 - accuracy: 0.9941 - val_loss: 0.0274 - val_accuracy: 0.9952\n",
            "Epoch 55/300\n",
            "40/40 [==============================] - 0s 3ms/step - loss: 0.0301 - accuracy: 0.9941 - val_loss: 0.0273 - val_accuracy: 0.9952\n",
            "Epoch 56/300\n",
            "40/40 [==============================] - 0s 4ms/step - loss: 0.0302 - accuracy: 0.9941 - val_loss: 0.0273 - val_accuracy: 0.9952\n",
            "Epoch 57/300\n",
            "40/40 [==============================] - 0s 3ms/step - loss: 0.0301 - accuracy: 0.9941 - val_loss: 0.0272 - val_accuracy: 0.9952\n",
            "Epoch 58/300\n",
            "40/40 [==============================] - 0s 3ms/step - loss: 0.0301 - accuracy: 0.9941 - val_loss: 0.0274 - val_accuracy: 0.9952\n",
            "Epoch 59/300\n",
            "40/40 [==============================] - 0s 4ms/step - loss: 0.0301 - accuracy: 0.9941 - val_loss: 0.0274 - val_accuracy: 0.9952\n",
            "Epoch 60/300\n",
            "40/40 [==============================] - 0s 4ms/step - loss: 0.0301 - accuracy: 0.9941 - val_loss: 0.0273 - val_accuracy: 0.9952\n",
            "Epoch 61/300\n",
            "40/40 [==============================] - 0s 3ms/step - loss: 0.0300 - accuracy: 0.9941 - val_loss: 0.0272 - val_accuracy: 0.9952\n",
            "Epoch 62/300\n",
            "40/40 [==============================] - 0s 4ms/step - loss: 0.0300 - accuracy: 0.9941 - val_loss: 0.0272 - val_accuracy: 0.9952\n",
            "Epoch 63/300\n",
            "40/40 [==============================] - 0s 3ms/step - loss: 0.0300 - accuracy: 0.9941 - val_loss: 0.0271 - val_accuracy: 0.9952\n",
            "Epoch 64/300\n",
            "40/40 [==============================] - 0s 4ms/step - loss: 0.0300 - accuracy: 0.9941 - val_loss: 0.0273 - val_accuracy: 0.9952\n",
            "Epoch 65/300\n",
            "40/40 [==============================] - 0s 4ms/step - loss: 0.0300 - accuracy: 0.9941 - val_loss: 0.0272 - val_accuracy: 0.9952\n",
            "Epoch 66/300\n",
            "40/40 [==============================] - 0s 3ms/step - loss: 0.0300 - accuracy: 0.9941 - val_loss: 0.0272 - val_accuracy: 0.9952\n",
            "Epoch 67/300\n",
            "40/40 [==============================] - 0s 3ms/step - loss: 0.0300 - accuracy: 0.9941 - val_loss: 0.0271 - val_accuracy: 0.9952\n",
            "Epoch 68/300\n",
            "40/40 [==============================] - 0s 3ms/step - loss: 0.0300 - accuracy: 0.9941 - val_loss: 0.0272 - val_accuracy: 0.9952\n",
            "Epoch 69/300\n",
            "40/40 [==============================] - 0s 4ms/step - loss: 0.0300 - accuracy: 0.9941 - val_loss: 0.0271 - val_accuracy: 0.9952\n",
            "Epoch 70/300\n",
            "40/40 [==============================] - 0s 4ms/step - loss: 0.0299 - accuracy: 0.9941 - val_loss: 0.0270 - val_accuracy: 0.9952\n",
            "Epoch 71/300\n",
            "40/40 [==============================] - 0s 3ms/step - loss: 0.0299 - accuracy: 0.9941 - val_loss: 0.0270 - val_accuracy: 0.9952\n",
            "Epoch 72/300\n",
            "40/40 [==============================] - 0s 4ms/step - loss: 0.0300 - accuracy: 0.9941 - val_loss: 0.0271 - val_accuracy: 0.9952\n",
            "Epoch 73/300\n",
            "40/40 [==============================] - 0s 4ms/step - loss: 0.0299 - accuracy: 0.9941 - val_loss: 0.0271 - val_accuracy: 0.9952\n",
            "Epoch 74/300\n",
            "40/40 [==============================] - 0s 4ms/step - loss: 0.0299 - accuracy: 0.9941 - val_loss: 0.0269 - val_accuracy: 0.9952\n",
            "Epoch 75/300\n",
            "40/40 [==============================] - 0s 5ms/step - loss: 0.0299 - accuracy: 0.9941 - val_loss: 0.0269 - val_accuracy: 0.9952\n",
            "Epoch 76/300\n",
            "40/40 [==============================] - 0s 5ms/step - loss: 0.0299 - accuracy: 0.9941 - val_loss: 0.0269 - val_accuracy: 0.9952\n",
            "Epoch 77/300\n",
            "40/40 [==============================] - 0s 6ms/step - loss: 0.0299 - accuracy: 0.9941 - val_loss: 0.0270 - val_accuracy: 0.9952\n",
            "Epoch 78/300\n",
            "40/40 [==============================] - 0s 6ms/step - loss: 0.0299 - accuracy: 0.9941 - val_loss: 0.0269 - val_accuracy: 0.9952\n",
            "Epoch 79/300\n",
            "40/40 [==============================] - 0s 5ms/step - loss: 0.0299 - accuracy: 0.9941 - val_loss: 0.0269 - val_accuracy: 0.9952\n",
            "Epoch 80/300\n",
            "40/40 [==============================] - 0s 6ms/step - loss: 0.0299 - accuracy: 0.9941 - val_loss: 0.0270 - val_accuracy: 0.9952\n",
            "Epoch 81/300\n",
            "40/40 [==============================] - 0s 6ms/step - loss: 0.0298 - accuracy: 0.9941 - val_loss: 0.0268 - val_accuracy: 0.9952\n",
            "Epoch 82/300\n",
            "40/40 [==============================] - 0s 6ms/step - loss: 0.0299 - accuracy: 0.9941 - val_loss: 0.0269 - val_accuracy: 0.9952\n",
            "Epoch 83/300\n",
            "40/40 [==============================] - 0s 6ms/step - loss: 0.0298 - accuracy: 0.9941 - val_loss: 0.0269 - val_accuracy: 0.9952\n",
            "Epoch 84/300\n",
            "40/40 [==============================] - 0s 5ms/step - loss: 0.0299 - accuracy: 0.9941 - val_loss: 0.0270 - val_accuracy: 0.9952\n",
            "Epoch 85/300\n",
            "40/40 [==============================] - 0s 6ms/step - loss: 0.0299 - accuracy: 0.9941 - val_loss: 0.0268 - val_accuracy: 0.9952\n",
            "Epoch 86/300\n",
            "40/40 [==============================] - 0s 6ms/step - loss: 0.0298 - accuracy: 0.9941 - val_loss: 0.0269 - val_accuracy: 0.9952\n",
            "Epoch 87/300\n",
            "40/40 [==============================] - 0s 5ms/step - loss: 0.0298 - accuracy: 0.9941 - val_loss: 0.0269 - val_accuracy: 0.9952\n",
            "Epoch 88/300\n",
            "40/40 [==============================] - 0s 6ms/step - loss: 0.0298 - accuracy: 0.9941 - val_loss: 0.0267 - val_accuracy: 0.9952\n",
            "Epoch 89/300\n",
            "40/40 [==============================] - 0s 4ms/step - loss: 0.0299 - accuracy: 0.9941 - val_loss: 0.0267 - val_accuracy: 0.9952\n",
            "Epoch 90/300\n",
            "40/40 [==============================] - 0s 4ms/step - loss: 0.0298 - accuracy: 0.9941 - val_loss: 0.0267 - val_accuracy: 0.9952\n",
            "Epoch 91/300\n",
            "40/40 [==============================] - 0s 4ms/step - loss: 0.0299 - accuracy: 0.9941 - val_loss: 0.0267 - val_accuracy: 0.9952\n",
            "Epoch 92/300\n",
            "40/40 [==============================] - 0s 3ms/step - loss: 0.0298 - accuracy: 0.9941 - val_loss: 0.0268 - val_accuracy: 0.9952\n",
            "Epoch 93/300\n",
            "40/40 [==============================] - 0s 4ms/step - loss: 0.0298 - accuracy: 0.9941 - val_loss: 0.0267 - val_accuracy: 0.9952\n",
            "Epoch 94/300\n",
            "40/40 [==============================] - 0s 4ms/step - loss: 0.0298 - accuracy: 0.9941 - val_loss: 0.0269 - val_accuracy: 0.9952\n",
            "Epoch 95/300\n",
            "40/40 [==============================] - 0s 4ms/step - loss: 0.0298 - accuracy: 0.9941 - val_loss: 0.0268 - val_accuracy: 0.9952\n",
            "Epoch 96/300\n",
            "40/40 [==============================] - 0s 3ms/step - loss: 0.0298 - accuracy: 0.9941 - val_loss: 0.0267 - val_accuracy: 0.9952\n",
            "Epoch 97/300\n",
            "40/40 [==============================] - 0s 4ms/step - loss: 0.0298 - accuracy: 0.9941 - val_loss: 0.0265 - val_accuracy: 0.9952\n",
            "Epoch 98/300\n",
            "40/40 [==============================] - 0s 3ms/step - loss: 0.0298 - accuracy: 0.9941 - val_loss: 0.0268 - val_accuracy: 0.9952\n",
            "Epoch 99/300\n",
            "40/40 [==============================] - 0s 4ms/step - loss: 0.0298 - accuracy: 0.9941 - val_loss: 0.0268 - val_accuracy: 0.9952\n",
            "Epoch 100/300\n",
            "40/40 [==============================] - 0s 3ms/step - loss: 0.0298 - accuracy: 0.9941 - val_loss: 0.0267 - val_accuracy: 0.9952\n",
            "Epoch 101/300\n",
            "40/40 [==============================] - 0s 4ms/step - loss: 0.0298 - accuracy: 0.9941 - val_loss: 0.0268 - val_accuracy: 0.9952\n",
            "Epoch 102/300\n",
            "40/40 [==============================] - 0s 4ms/step - loss: 0.0298 - accuracy: 0.9941 - val_loss: 0.0268 - val_accuracy: 0.9952\n",
            "Epoch 103/300\n",
            "40/40 [==============================] - 0s 3ms/step - loss: 0.0298 - accuracy: 0.9941 - val_loss: 0.0268 - val_accuracy: 0.9952\n",
            "Epoch 104/300\n",
            "40/40 [==============================] - 0s 3ms/step - loss: 0.0298 - accuracy: 0.9941 - val_loss: 0.0266 - val_accuracy: 0.9952\n",
            "Epoch 105/300\n",
            "40/40 [==============================] - 0s 3ms/step - loss: 0.0298 - accuracy: 0.9941 - val_loss: 0.0267 - val_accuracy: 0.9952\n",
            "Epoch 106/300\n",
            "40/40 [==============================] - 0s 4ms/step - loss: 0.0298 - accuracy: 0.9941 - val_loss: 0.0267 - val_accuracy: 0.9952\n",
            "Epoch 107/300\n",
            "40/40 [==============================] - 0s 4ms/step - loss: 0.0298 - accuracy: 0.9941 - val_loss: 0.0267 - val_accuracy: 0.9952\n",
            "Epoch 108/300\n",
            "40/40 [==============================] - 0s 3ms/step - loss: 0.0298 - accuracy: 0.9941 - val_loss: 0.0267 - val_accuracy: 0.9952\n",
            "Epoch 109/300\n",
            "40/40 [==============================] - 0s 3ms/step - loss: 0.0298 - accuracy: 0.9941 - val_loss: 0.0266 - val_accuracy: 0.9952\n",
            "Epoch 110/300\n",
            "40/40 [==============================] - 0s 4ms/step - loss: 0.0298 - accuracy: 0.9941 - val_loss: 0.0267 - val_accuracy: 0.9952\n",
            "Epoch 111/300\n",
            "40/40 [==============================] - 0s 3ms/step - loss: 0.0298 - accuracy: 0.9941 - val_loss: 0.0266 - val_accuracy: 0.9952\n",
            "Epoch 112/300\n",
            "40/40 [==============================] - 0s 4ms/step - loss: 0.0298 - accuracy: 0.9941 - val_loss: 0.0267 - val_accuracy: 0.9952\n",
            "Epoch 113/300\n",
            "40/40 [==============================] - 0s 3ms/step - loss: 0.0298 - accuracy: 0.9941 - val_loss: 0.0267 - val_accuracy: 0.9952\n",
            "Epoch 114/300\n",
            "40/40 [==============================] - 0s 4ms/step - loss: 0.0298 - accuracy: 0.9941 - val_loss: 0.0267 - val_accuracy: 0.9952\n",
            "Epoch 115/300\n",
            "40/40 [==============================] - 0s 3ms/step - loss: 0.0298 - accuracy: 0.9941 - val_loss: 0.0266 - val_accuracy: 0.9952\n",
            "Epoch 116/300\n",
            "40/40 [==============================] - 0s 4ms/step - loss: 0.0298 - accuracy: 0.9941 - val_loss: 0.0267 - val_accuracy: 0.9952\n",
            "Epoch 117/300\n",
            "40/40 [==============================] - 0s 4ms/step - loss: 0.0298 - accuracy: 0.9941 - val_loss: 0.0266 - val_accuracy: 0.9952\n",
            "Epoch 118/300\n",
            "40/40 [==============================] - 0s 4ms/step - loss: 0.0298 - accuracy: 0.9941 - val_loss: 0.0267 - val_accuracy: 0.9952\n",
            "Epoch 119/300\n",
            "40/40 [==============================] - 0s 4ms/step - loss: 0.0298 - accuracy: 0.9941 - val_loss: 0.0265 - val_accuracy: 0.9952\n",
            "Epoch 120/300\n",
            "40/40 [==============================] - 0s 4ms/step - loss: 0.0297 - accuracy: 0.9941 - val_loss: 0.0266 - val_accuracy: 0.9952\n",
            "Epoch 121/300\n",
            "40/40 [==============================] - 0s 3ms/step - loss: 0.0298 - accuracy: 0.9941 - val_loss: 0.0267 - val_accuracy: 0.9952\n",
            "Epoch 122/300\n",
            "40/40 [==============================] - 0s 4ms/step - loss: 0.0297 - accuracy: 0.9941 - val_loss: 0.0267 - val_accuracy: 0.9952\n",
            "Epoch 123/300\n",
            "40/40 [==============================] - 0s 4ms/step - loss: 0.0298 - accuracy: 0.9941 - val_loss: 0.0267 - val_accuracy: 0.9952\n",
            "Epoch 124/300\n",
            "40/40 [==============================] - 0s 4ms/step - loss: 0.0298 - accuracy: 0.9941 - val_loss: 0.0265 - val_accuracy: 0.9952\n",
            "Epoch 125/300\n",
            "40/40 [==============================] - 0s 3ms/step - loss: 0.0298 - accuracy: 0.9941 - val_loss: 0.0265 - val_accuracy: 0.9952\n",
            "Epoch 126/300\n",
            "40/40 [==============================] - 0s 3ms/step - loss: 0.0298 - accuracy: 0.9941 - val_loss: 0.0266 - val_accuracy: 0.9952\n",
            "Epoch 127/300\n",
            "40/40 [==============================] - 0s 4ms/step - loss: 0.0298 - accuracy: 0.9941 - val_loss: 0.0266 - val_accuracy: 0.9952\n",
            "Epoch 128/300\n",
            "40/40 [==============================] - 0s 3ms/step - loss: 0.0298 - accuracy: 0.9941 - val_loss: 0.0264 - val_accuracy: 0.9952\n",
            "Epoch 129/300\n",
            "40/40 [==============================] - 0s 3ms/step - loss: 0.0298 - accuracy: 0.9941 - val_loss: 0.0266 - val_accuracy: 0.9952\n",
            "Epoch 130/300\n",
            "40/40 [==============================] - 0s 4ms/step - loss: 0.0298 - accuracy: 0.9941 - val_loss: 0.0266 - val_accuracy: 0.9952\n",
            "Epoch 131/300\n",
            "40/40 [==============================] - 0s 4ms/step - loss: 0.0297 - accuracy: 0.9941 - val_loss: 0.0264 - val_accuracy: 0.9952\n",
            "Epoch 132/300\n",
            "40/40 [==============================] - 0s 3ms/step - loss: 0.0297 - accuracy: 0.9941 - val_loss: 0.0265 - val_accuracy: 0.9952\n",
            "Epoch 133/300\n",
            "40/40 [==============================] - 0s 4ms/step - loss: 0.0298 - accuracy: 0.9941 - val_loss: 0.0266 - val_accuracy: 0.9952\n",
            "Epoch 134/300\n",
            "40/40 [==============================] - 0s 3ms/step - loss: 0.0298 - accuracy: 0.9941 - val_loss: 0.0266 - val_accuracy: 0.9952\n",
            "Epoch 135/300\n",
            "40/40 [==============================] - 0s 4ms/step - loss: 0.0298 - accuracy: 0.9941 - val_loss: 0.0267 - val_accuracy: 0.9952\n",
            "Epoch 136/300\n",
            "40/40 [==============================] - 0s 3ms/step - loss: 0.0298 - accuracy: 0.9941 - val_loss: 0.0263 - val_accuracy: 0.9952\n",
            "Epoch 137/300\n",
            "40/40 [==============================] - 0s 4ms/step - loss: 0.0298 - accuracy: 0.9941 - val_loss: 0.0265 - val_accuracy: 0.9952\n",
            "Epoch 138/300\n",
            "40/40 [==============================] - 0s 4ms/step - loss: 0.0298 - accuracy: 0.9941 - val_loss: 0.0266 - val_accuracy: 0.9952\n",
            "Epoch 139/300\n",
            "40/40 [==============================] - 0s 4ms/step - loss: 0.0298 - accuracy: 0.9941 - val_loss: 0.0264 - val_accuracy: 0.9952\n",
            "Epoch 140/300\n",
            "40/40 [==============================] - 0s 4ms/step - loss: 0.0298 - accuracy: 0.9941 - val_loss: 0.0266 - val_accuracy: 0.9952\n",
            "Epoch 141/300\n",
            "40/40 [==============================] - 0s 4ms/step - loss: 0.0297 - accuracy: 0.9941 - val_loss: 0.0266 - val_accuracy: 0.9952\n",
            "Epoch 142/300\n",
            "40/40 [==============================] - 0s 3ms/step - loss: 0.0297 - accuracy: 0.9941 - val_loss: 0.0266 - val_accuracy: 0.9952\n",
            "Epoch 143/300\n",
            "40/40 [==============================] - 0s 4ms/step - loss: 0.0297 - accuracy: 0.9941 - val_loss: 0.0265 - val_accuracy: 0.9952\n",
            "Epoch 144/300\n",
            "40/40 [==============================] - 0s 4ms/step - loss: 0.0298 - accuracy: 0.9941 - val_loss: 0.0265 - val_accuracy: 0.9952\n",
            "Epoch 145/300\n",
            "40/40 [==============================] - 0s 4ms/step - loss: 0.0297 - accuracy: 0.9941 - val_loss: 0.0265 - val_accuracy: 0.9952\n",
            "Epoch 146/300\n",
            "40/40 [==============================] - 0s 4ms/step - loss: 0.0298 - accuracy: 0.9941 - val_loss: 0.0266 - val_accuracy: 0.9952\n",
            "Epoch 147/300\n",
            "40/40 [==============================] - 0s 4ms/step - loss: 0.0297 - accuracy: 0.9941 - val_loss: 0.0265 - val_accuracy: 0.9952\n",
            "Epoch 148/300\n",
            "40/40 [==============================] - 0s 4ms/step - loss: 0.0298 - accuracy: 0.9941 - val_loss: 0.0264 - val_accuracy: 0.9952\n",
            "Epoch 149/300\n",
            "40/40 [==============================] - 0s 4ms/step - loss: 0.0297 - accuracy: 0.9941 - val_loss: 0.0266 - val_accuracy: 0.9952\n",
            "Epoch 150/300\n",
            "40/40 [==============================] - 0s 4ms/step - loss: 0.0297 - accuracy: 0.9941 - val_loss: 0.0264 - val_accuracy: 0.9952\n",
            "Epoch 151/300\n",
            "40/40 [==============================] - 0s 4ms/step - loss: 0.0298 - accuracy: 0.9941 - val_loss: 0.0267 - val_accuracy: 0.9952\n",
            "Epoch 152/300\n",
            "40/40 [==============================] - 0s 3ms/step - loss: 0.0297 - accuracy: 0.9941 - val_loss: 0.0266 - val_accuracy: 0.9952\n",
            "Epoch 153/300\n",
            "40/40 [==============================] - 0s 4ms/step - loss: 0.0297 - accuracy: 0.9941 - val_loss: 0.0266 - val_accuracy: 0.9952\n",
            "Epoch 154/300\n",
            "40/40 [==============================] - 0s 4ms/step - loss: 0.0297 - accuracy: 0.9941 - val_loss: 0.0265 - val_accuracy: 0.9952\n",
            "Epoch 155/300\n",
            "40/40 [==============================] - 0s 5ms/step - loss: 0.0297 - accuracy: 0.9941 - val_loss: 0.0266 - val_accuracy: 0.9952\n",
            "Epoch 156/300\n",
            "40/40 [==============================] - 0s 5ms/step - loss: 0.0298 - accuracy: 0.9941 - val_loss: 0.0265 - val_accuracy: 0.9952\n",
            "Epoch 157/300\n",
            "40/40 [==============================] - 0s 5ms/step - loss: 0.0298 - accuracy: 0.9941 - val_loss: 0.0266 - val_accuracy: 0.9952\n",
            "Epoch 158/300\n",
            "40/40 [==============================] - 0s 6ms/step - loss: 0.0297 - accuracy: 0.9941 - val_loss: 0.0266 - val_accuracy: 0.9952\n",
            "Epoch 159/300\n",
            "40/40 [==============================] - 0s 6ms/step - loss: 0.0297 - accuracy: 0.9941 - val_loss: 0.0267 - val_accuracy: 0.9952\n",
            "Epoch 160/300\n",
            "40/40 [==============================] - 0s 6ms/step - loss: 0.0297 - accuracy: 0.9941 - val_loss: 0.0265 - val_accuracy: 0.9952\n",
            "Epoch 161/300\n",
            "40/40 [==============================] - 0s 6ms/step - loss: 0.0298 - accuracy: 0.9941 - val_loss: 0.0266 - val_accuracy: 0.9952\n",
            "Epoch 162/300\n",
            "40/40 [==============================] - 0s 6ms/step - loss: 0.0297 - accuracy: 0.9941 - val_loss: 0.0265 - val_accuracy: 0.9952\n",
            "Epoch 163/300\n",
            "40/40 [==============================] - 0s 6ms/step - loss: 0.0297 - accuracy: 0.9941 - val_loss: 0.0266 - val_accuracy: 0.9952\n",
            "Epoch 164/300\n",
            "40/40 [==============================] - 0s 6ms/step - loss: 0.0297 - accuracy: 0.9941 - val_loss: 0.0264 - val_accuracy: 0.9952\n",
            "Epoch 165/300\n",
            "40/40 [==============================] - 0s 6ms/step - loss: 0.0298 - accuracy: 0.9941 - val_loss: 0.0268 - val_accuracy: 0.9952\n",
            "Epoch 166/300\n",
            "40/40 [==============================] - 0s 6ms/step - loss: 0.0297 - accuracy: 0.9941 - val_loss: 0.0267 - val_accuracy: 0.9952\n",
            "Epoch 167/300\n",
            "40/40 [==============================] - 0s 5ms/step - loss: 0.0298 - accuracy: 0.9941 - val_loss: 0.0265 - val_accuracy: 0.9952\n",
            "Epoch 168/300\n",
            "40/40 [==============================] - 0s 6ms/step - loss: 0.0297 - accuracy: 0.9941 - val_loss: 0.0266 - val_accuracy: 0.9952\n",
            "Epoch 169/300\n",
            "40/40 [==============================] - 0s 4ms/step - loss: 0.0298 - accuracy: 0.9941 - val_loss: 0.0268 - val_accuracy: 0.9952\n",
            "Epoch 170/300\n",
            "40/40 [==============================] - 0s 4ms/step - loss: 0.0297 - accuracy: 0.9941 - val_loss: 0.0265 - val_accuracy: 0.9952\n",
            "Epoch 171/300\n",
            "40/40 [==============================] - 0s 3ms/step - loss: 0.0297 - accuracy: 0.9941 - val_loss: 0.0266 - val_accuracy: 0.9952\n",
            "Epoch 172/300\n",
            "40/40 [==============================] - 0s 3ms/step - loss: 0.0297 - accuracy: 0.9941 - val_loss: 0.0264 - val_accuracy: 0.9952\n",
            "Epoch 173/300\n",
            "40/40 [==============================] - 0s 4ms/step - loss: 0.0298 - accuracy: 0.9941 - val_loss: 0.0265 - val_accuracy: 0.9952\n",
            "Epoch 174/300\n",
            "40/40 [==============================] - 0s 3ms/step - loss: 0.0297 - accuracy: 0.9941 - val_loss: 0.0266 - val_accuracy: 0.9952\n",
            "Epoch 175/300\n",
            "40/40 [==============================] - 0s 4ms/step - loss: 0.0298 - accuracy: 0.9941 - val_loss: 0.0265 - val_accuracy: 0.9952\n",
            "Epoch 176/300\n",
            "40/40 [==============================] - 0s 3ms/step - loss: 0.0298 - accuracy: 0.9941 - val_loss: 0.0266 - val_accuracy: 0.9952\n",
            "Epoch 177/300\n",
            "40/40 [==============================] - 0s 4ms/step - loss: 0.0297 - accuracy: 0.9941 - val_loss: 0.0265 - val_accuracy: 0.9952\n",
            "Epoch 178/300\n",
            "40/40 [==============================] - 0s 4ms/step - loss: 0.0298 - accuracy: 0.9941 - val_loss: 0.0266 - val_accuracy: 0.9952\n",
            "Epoch 179/300\n",
            "40/40 [==============================] - 0s 4ms/step - loss: 0.0297 - accuracy: 0.9941 - val_loss: 0.0266 - val_accuracy: 0.9952\n",
            "Epoch 180/300\n",
            "40/40 [==============================] - 0s 4ms/step - loss: 0.0297 - accuracy: 0.9941 - val_loss: 0.0265 - val_accuracy: 0.9952\n",
            "Epoch 181/300\n",
            "40/40 [==============================] - 0s 3ms/step - loss: 0.0298 - accuracy: 0.9941 - val_loss: 0.0265 - val_accuracy: 0.9952\n",
            "Epoch 182/300\n",
            "40/40 [==============================] - 0s 4ms/step - loss: 0.0297 - accuracy: 0.9941 - val_loss: 0.0265 - val_accuracy: 0.9952\n",
            "Epoch 183/300\n",
            "40/40 [==============================] - 0s 4ms/step - loss: 0.0297 - accuracy: 0.9941 - val_loss: 0.0264 - val_accuracy: 0.9952\n",
            "Epoch 184/300\n",
            "40/40 [==============================] - 0s 4ms/step - loss: 0.0298 - accuracy: 0.9941 - val_loss: 0.0264 - val_accuracy: 0.9952\n",
            "Epoch 185/300\n",
            "40/40 [==============================] - 0s 4ms/step - loss: 0.0297 - accuracy: 0.9941 - val_loss: 0.0264 - val_accuracy: 0.9952\n",
            "Epoch 186/300\n",
            "40/40 [==============================] - 0s 4ms/step - loss: 0.0297 - accuracy: 0.9941 - val_loss: 0.0264 - val_accuracy: 0.9952\n",
            "Epoch 187/300\n",
            "40/40 [==============================] - 0s 4ms/step - loss: 0.0298 - accuracy: 0.9941 - val_loss: 0.0265 - val_accuracy: 0.9952\n",
            "Epoch 188/300\n",
            "40/40 [==============================] - 0s 4ms/step - loss: 0.0297 - accuracy: 0.9941 - val_loss: 0.0265 - val_accuracy: 0.9952\n",
            "Epoch 189/300\n",
            "40/40 [==============================] - 0s 4ms/step - loss: 0.0297 - accuracy: 0.9941 - val_loss: 0.0264 - val_accuracy: 0.9952\n",
            "Epoch 190/300\n",
            "40/40 [==============================] - 0s 4ms/step - loss: 0.0297 - accuracy: 0.9941 - val_loss: 0.0264 - val_accuracy: 0.9952\n",
            "Epoch 191/300\n",
            "40/40 [==============================] - 0s 4ms/step - loss: 0.0297 - accuracy: 0.9941 - val_loss: 0.0265 - val_accuracy: 0.9952\n",
            "Epoch 192/300\n",
            "40/40 [==============================] - 0s 4ms/step - loss: 0.0297 - accuracy: 0.9941 - val_loss: 0.0267 - val_accuracy: 0.9952\n",
            "Epoch 193/300\n",
            "40/40 [==============================] - 0s 4ms/step - loss: 0.0298 - accuracy: 0.9941 - val_loss: 0.0263 - val_accuracy: 0.9952\n",
            "Epoch 194/300\n",
            "40/40 [==============================] - 0s 4ms/step - loss: 0.0298 - accuracy: 0.9941 - val_loss: 0.0264 - val_accuracy: 0.9952\n",
            "Epoch 195/300\n",
            "40/40 [==============================] - 0s 3ms/step - loss: 0.0298 - accuracy: 0.9941 - val_loss: 0.0263 - val_accuracy: 0.9952\n",
            "Epoch 196/300\n",
            "40/40 [==============================] - 0s 4ms/step - loss: 0.0298 - accuracy: 0.9941 - val_loss: 0.0264 - val_accuracy: 0.9952\n",
            "Epoch 197/300\n",
            "40/40 [==============================] - 0s 4ms/step - loss: 0.0297 - accuracy: 0.9941 - val_loss: 0.0265 - val_accuracy: 0.9952\n",
            "Epoch 198/300\n",
            "40/40 [==============================] - 0s 4ms/step - loss: 0.0297 - accuracy: 0.9941 - val_loss: 0.0265 - val_accuracy: 0.9952\n",
            "Epoch 199/300\n",
            "40/40 [==============================] - 0s 4ms/step - loss: 0.0298 - accuracy: 0.9941 - val_loss: 0.0264 - val_accuracy: 0.9952\n",
            "Epoch 200/300\n",
            "40/40 [==============================] - 0s 3ms/step - loss: 0.0297 - accuracy: 0.9941 - val_loss: 0.0267 - val_accuracy: 0.9952\n",
            "Epoch 201/300\n",
            "40/40 [==============================] - 0s 4ms/step - loss: 0.0297 - accuracy: 0.9941 - val_loss: 0.0266 - val_accuracy: 0.9952\n",
            "Epoch 202/300\n",
            "40/40 [==============================] - 0s 5ms/step - loss: 0.0297 - accuracy: 0.9941 - val_loss: 0.0264 - val_accuracy: 0.9952\n",
            "Epoch 203/300\n",
            "40/40 [==============================] - 0s 4ms/step - loss: 0.0298 - accuracy: 0.9941 - val_loss: 0.0264 - val_accuracy: 0.9952\n",
            "Epoch 204/300\n",
            "40/40 [==============================] - 0s 4ms/step - loss: 0.0297 - accuracy: 0.9941 - val_loss: 0.0264 - val_accuracy: 0.9952\n",
            "Epoch 205/300\n",
            "40/40 [==============================] - 0s 4ms/step - loss: 0.0297 - accuracy: 0.9941 - val_loss: 0.0267 - val_accuracy: 0.9952\n",
            "Epoch 206/300\n",
            "40/40 [==============================] - 0s 3ms/step - loss: 0.0297 - accuracy: 0.9941 - val_loss: 0.0266 - val_accuracy: 0.9952\n",
            "Epoch 207/300\n",
            "40/40 [==============================] - 0s 3ms/step - loss: 0.0297 - accuracy: 0.9941 - val_loss: 0.0264 - val_accuracy: 0.9952\n",
            "Epoch 208/300\n",
            "40/40 [==============================] - 0s 3ms/step - loss: 0.0297 - accuracy: 0.9941 - val_loss: 0.0265 - val_accuracy: 0.9952\n",
            "Epoch 209/300\n",
            "40/40 [==============================] - 0s 4ms/step - loss: 0.0298 - accuracy: 0.9941 - val_loss: 0.0266 - val_accuracy: 0.9952\n",
            "Epoch 210/300\n",
            "40/40 [==============================] - 0s 4ms/step - loss: 0.0298 - accuracy: 0.9941 - val_loss: 0.0267 - val_accuracy: 0.9952\n",
            "Epoch 211/300\n",
            "40/40 [==============================] - 0s 4ms/step - loss: 0.0298 - accuracy: 0.9941 - val_loss: 0.0266 - val_accuracy: 0.9952\n",
            "Epoch 212/300\n",
            "40/40 [==============================] - 0s 4ms/step - loss: 0.0297 - accuracy: 0.9941 - val_loss: 0.0265 - val_accuracy: 0.9952\n",
            "Epoch 213/300\n",
            "40/40 [==============================] - 0s 4ms/step - loss: 0.0297 - accuracy: 0.9941 - val_loss: 0.0265 - val_accuracy: 0.9952\n",
            "Epoch 214/300\n",
            "40/40 [==============================] - 0s 3ms/step - loss: 0.0298 - accuracy: 0.9941 - val_loss: 0.0267 - val_accuracy: 0.9952\n",
            "Epoch 215/300\n",
            "40/40 [==============================] - 0s 4ms/step - loss: 0.0298 - accuracy: 0.9941 - val_loss: 0.0266 - val_accuracy: 0.9952\n",
            "Epoch 216/300\n",
            "40/40 [==============================] - 0s 4ms/step - loss: 0.0297 - accuracy: 0.9941 - val_loss: 0.0267 - val_accuracy: 0.9952\n",
            "Epoch 217/300\n",
            "40/40 [==============================] - 0s 4ms/step - loss: 0.0298 - accuracy: 0.9941 - val_loss: 0.0267 - val_accuracy: 0.9952\n",
            "Epoch 218/300\n",
            "40/40 [==============================] - 0s 3ms/step - loss: 0.0298 - accuracy: 0.9941 - val_loss: 0.0265 - val_accuracy: 0.9952\n",
            "Epoch 219/300\n",
            "40/40 [==============================] - 0s 3ms/step - loss: 0.0297 - accuracy: 0.9941 - val_loss: 0.0265 - val_accuracy: 0.9952\n",
            "Epoch 220/300\n",
            "40/40 [==============================] - 0s 4ms/step - loss: 0.0297 - accuracy: 0.9941 - val_loss: 0.0265 - val_accuracy: 0.9952\n",
            "Epoch 221/300\n",
            "40/40 [==============================] - 0s 4ms/step - loss: 0.0297 - accuracy: 0.9941 - val_loss: 0.0266 - val_accuracy: 0.9952\n",
            "Epoch 222/300\n",
            "40/40 [==============================] - 0s 4ms/step - loss: 0.0297 - accuracy: 0.9941 - val_loss: 0.0266 - val_accuracy: 0.9952\n",
            "Epoch 223/300\n",
            "40/40 [==============================] - 0s 4ms/step - loss: 0.0298 - accuracy: 0.9941 - val_loss: 0.0263 - val_accuracy: 0.9952\n",
            "Epoch 224/300\n",
            "40/40 [==============================] - 0s 4ms/step - loss: 0.0297 - accuracy: 0.9941 - val_loss: 0.0265 - val_accuracy: 0.9952\n",
            "Epoch 225/300\n",
            "40/40 [==============================] - 0s 4ms/step - loss: 0.0298 - accuracy: 0.9941 - val_loss: 0.0266 - val_accuracy: 0.9952\n",
            "Epoch 226/300\n",
            "40/40 [==============================] - 0s 4ms/step - loss: 0.0297 - accuracy: 0.9941 - val_loss: 0.0265 - val_accuracy: 0.9952\n",
            "Epoch 227/300\n",
            "40/40 [==============================] - 0s 4ms/step - loss: 0.0298 - accuracy: 0.9941 - val_loss: 0.0262 - val_accuracy: 0.9952\n",
            "Epoch 228/300\n",
            "40/40 [==============================] - 0s 4ms/step - loss: 0.0297 - accuracy: 0.9941 - val_loss: 0.0265 - val_accuracy: 0.9952\n",
            "Epoch 229/300\n",
            "40/40 [==============================] - 0s 4ms/step - loss: 0.0297 - accuracy: 0.9941 - val_loss: 0.0265 - val_accuracy: 0.9952\n",
            "Epoch 230/300\n",
            "40/40 [==============================] - 0s 4ms/step - loss: 0.0298 - accuracy: 0.9941 - val_loss: 0.0265 - val_accuracy: 0.9952\n",
            "Epoch 231/300\n",
            "40/40 [==============================] - 0s 4ms/step - loss: 0.0297 - accuracy: 0.9941 - val_loss: 0.0264 - val_accuracy: 0.9952\n",
            "Epoch 232/300\n",
            "40/40 [==============================] - 0s 4ms/step - loss: 0.0297 - accuracy: 0.9941 - val_loss: 0.0266 - val_accuracy: 0.9952\n",
            "Epoch 233/300\n",
            "40/40 [==============================] - 0s 6ms/step - loss: 0.0298 - accuracy: 0.9941 - val_loss: 0.0264 - val_accuracy: 0.9952\n",
            "Epoch 234/300\n",
            "40/40 [==============================] - 0s 6ms/step - loss: 0.0298 - accuracy: 0.9941 - val_loss: 0.0266 - val_accuracy: 0.9952\n",
            "Epoch 235/300\n",
            "40/40 [==============================] - 0s 5ms/step - loss: 0.0297 - accuracy: 0.9941 - val_loss: 0.0265 - val_accuracy: 0.9952\n",
            "Epoch 236/300\n",
            "40/40 [==============================] - 0s 6ms/step - loss: 0.0298 - accuracy: 0.9941 - val_loss: 0.0264 - val_accuracy: 0.9952\n",
            "Epoch 237/300\n",
            "40/40 [==============================] - 0s 6ms/step - loss: 0.0297 - accuracy: 0.9941 - val_loss: 0.0265 - val_accuracy: 0.9952\n",
            "Epoch 238/300\n",
            "40/40 [==============================] - 0s 5ms/step - loss: 0.0297 - accuracy: 0.9941 - val_loss: 0.0266 - val_accuracy: 0.9952\n",
            "Epoch 239/300\n",
            "40/40 [==============================] - 0s 6ms/step - loss: 0.0297 - accuracy: 0.9941 - val_loss: 0.0265 - val_accuracy: 0.9952\n",
            "Epoch 240/300\n",
            "40/40 [==============================] - 0s 5ms/step - loss: 0.0297 - accuracy: 0.9941 - val_loss: 0.0268 - val_accuracy: 0.9952\n",
            "Epoch 241/300\n",
            "40/40 [==============================] - 0s 5ms/step - loss: 0.0297 - accuracy: 0.9941 - val_loss: 0.0266 - val_accuracy: 0.9952\n",
            "Epoch 242/300\n",
            "40/40 [==============================] - 0s 9ms/step - loss: 0.0297 - accuracy: 0.9941 - val_loss: 0.0264 - val_accuracy: 0.9952\n",
            "Epoch 243/300\n",
            "40/40 [==============================] - 1s 18ms/step - loss: 0.0297 - accuracy: 0.9941 - val_loss: 0.0265 - val_accuracy: 0.9952\n",
            "Epoch 244/300\n",
            "40/40 [==============================] - 1s 13ms/step - loss: 0.0298 - accuracy: 0.9941 - val_loss: 0.0265 - val_accuracy: 0.9952\n",
            "Epoch 245/300\n",
            "40/40 [==============================] - 0s 5ms/step - loss: 0.0297 - accuracy: 0.9941 - val_loss: 0.0265 - val_accuracy: 0.9952\n",
            "Epoch 246/300\n",
            "40/40 [==============================] - 0s 3ms/step - loss: 0.0297 - accuracy: 0.9941 - val_loss: 0.0264 - val_accuracy: 0.9952\n",
            "Epoch 247/300\n",
            "40/40 [==============================] - 0s 10ms/step - loss: 0.0298 - accuracy: 0.9941 - val_loss: 0.0266 - val_accuracy: 0.9952\n",
            "Epoch 248/300\n",
            "40/40 [==============================] - 0s 8ms/step - loss: 0.0297 - accuracy: 0.9941 - val_loss: 0.0264 - val_accuracy: 0.9952\n",
            "Epoch 249/300\n",
            "40/40 [==============================] - 0s 4ms/step - loss: 0.0297 - accuracy: 0.9941 - val_loss: 0.0264 - val_accuracy: 0.9952\n",
            "Epoch 250/300\n",
            "40/40 [==============================] - 0s 4ms/step - loss: 0.0298 - accuracy: 0.9941 - val_loss: 0.0264 - val_accuracy: 0.9952\n",
            "Epoch 251/300\n",
            "40/40 [==============================] - 0s 4ms/step - loss: 0.0297 - accuracy: 0.9941 - val_loss: 0.0264 - val_accuracy: 0.9952\n",
            "Epoch 252/300\n",
            "40/40 [==============================] - 0s 4ms/step - loss: 0.0298 - accuracy: 0.9941 - val_loss: 0.0264 - val_accuracy: 0.9952\n",
            "Epoch 253/300\n",
            "40/40 [==============================] - 0s 4ms/step - loss: 0.0298 - accuracy: 0.9941 - val_loss: 0.0265 - val_accuracy: 0.9952\n",
            "Epoch 254/300\n",
            "40/40 [==============================] - 0s 4ms/step - loss: 0.0297 - accuracy: 0.9941 - val_loss: 0.0266 - val_accuracy: 0.9952\n",
            "Epoch 255/300\n",
            "40/40 [==============================] - 0s 4ms/step - loss: 0.0297 - accuracy: 0.9941 - val_loss: 0.0265 - val_accuracy: 0.9952\n",
            "Epoch 256/300\n",
            "40/40 [==============================] - 0s 4ms/step - loss: 0.0298 - accuracy: 0.9941 - val_loss: 0.0265 - val_accuracy: 0.9952\n",
            "Epoch 257/300\n",
            "40/40 [==============================] - 0s 4ms/step - loss: 0.0297 - accuracy: 0.9941 - val_loss: 0.0265 - val_accuracy: 0.9952\n",
            "Epoch 258/300\n",
            "40/40 [==============================] - 0s 4ms/step - loss: 0.0297 - accuracy: 0.9941 - val_loss: 0.0266 - val_accuracy: 0.9952\n",
            "Epoch 259/300\n",
            "40/40 [==============================] - 0s 4ms/step - loss: 0.0298 - accuracy: 0.9941 - val_loss: 0.0266 - val_accuracy: 0.9952\n",
            "Epoch 260/300\n",
            "40/40 [==============================] - 0s 4ms/step - loss: 0.0299 - accuracy: 0.9941 - val_loss: 0.0264 - val_accuracy: 0.9952\n",
            "Epoch 261/300\n",
            "40/40 [==============================] - 0s 4ms/step - loss: 0.0298 - accuracy: 0.9941 - val_loss: 0.0266 - val_accuracy: 0.9952\n",
            "Epoch 262/300\n",
            "40/40 [==============================] - 0s 4ms/step - loss: 0.0298 - accuracy: 0.9941 - val_loss: 0.0265 - val_accuracy: 0.9952\n",
            "Epoch 263/300\n",
            "40/40 [==============================] - 0s 4ms/step - loss: 0.0298 - accuracy: 0.9941 - val_loss: 0.0263 - val_accuracy: 0.9952\n",
            "Epoch 264/300\n",
            "40/40 [==============================] - 0s 4ms/step - loss: 0.0298 - accuracy: 0.9941 - val_loss: 0.0265 - val_accuracy: 0.9952\n",
            "Epoch 265/300\n",
            "40/40 [==============================] - 0s 4ms/step - loss: 0.0297 - accuracy: 0.9941 - val_loss: 0.0265 - val_accuracy: 0.9952\n",
            "Epoch 266/300\n",
            "40/40 [==============================] - 0s 4ms/step - loss: 0.0297 - accuracy: 0.9941 - val_loss: 0.0264 - val_accuracy: 0.9952\n",
            "Epoch 267/300\n",
            "40/40 [==============================] - 0s 4ms/step - loss: 0.0297 - accuracy: 0.9941 - val_loss: 0.0264 - val_accuracy: 0.9952\n",
            "Epoch 268/300\n",
            "40/40 [==============================] - 0s 4ms/step - loss: 0.0298 - accuracy: 0.9941 - val_loss: 0.0265 - val_accuracy: 0.9952\n",
            "Epoch 269/300\n",
            "40/40 [==============================] - 0s 4ms/step - loss: 0.0297 - accuracy: 0.9941 - val_loss: 0.0266 - val_accuracy: 0.9952\n",
            "Epoch 270/300\n",
            "40/40 [==============================] - 0s 4ms/step - loss: 0.0297 - accuracy: 0.9941 - val_loss: 0.0265 - val_accuracy: 0.9952\n",
            "Epoch 271/300\n",
            "40/40 [==============================] - 0s 4ms/step - loss: 0.0297 - accuracy: 0.9941 - val_loss: 0.0265 - val_accuracy: 0.9952\n",
            "Epoch 272/300\n",
            "40/40 [==============================] - 0s 4ms/step - loss: 0.0297 - accuracy: 0.9941 - val_loss: 0.0267 - val_accuracy: 0.9952\n",
            "Epoch 273/300\n",
            "40/40 [==============================] - 0s 4ms/step - loss: 0.0298 - accuracy: 0.9941 - val_loss: 0.0267 - val_accuracy: 0.9952\n",
            "Epoch 274/300\n",
            "40/40 [==============================] - 0s 4ms/step - loss: 0.0298 - accuracy: 0.9941 - val_loss: 0.0266 - val_accuracy: 0.9952\n",
            "Epoch 275/300\n",
            "40/40 [==============================] - 0s 4ms/step - loss: 0.0297 - accuracy: 0.9941 - val_loss: 0.0265 - val_accuracy: 0.9952\n",
            "Epoch 276/300\n",
            "40/40 [==============================] - 0s 4ms/step - loss: 0.0297 - accuracy: 0.9941 - val_loss: 0.0266 - val_accuracy: 0.9952\n",
            "Epoch 277/300\n",
            "40/40 [==============================] - 0s 4ms/step - loss: 0.0297 - accuracy: 0.9941 - val_loss: 0.0265 - val_accuracy: 0.9952\n",
            "Epoch 278/300\n",
            "40/40 [==============================] - 0s 4ms/step - loss: 0.0298 - accuracy: 0.9941 - val_loss: 0.0262 - val_accuracy: 0.9952\n",
            "Epoch 279/300\n",
            "40/40 [==============================] - 0s 4ms/step - loss: 0.0297 - accuracy: 0.9941 - val_loss: 0.0265 - val_accuracy: 0.9952\n",
            "Epoch 280/300\n",
            "40/40 [==============================] - 0s 4ms/step - loss: 0.0298 - accuracy: 0.9941 - val_loss: 0.0268 - val_accuracy: 0.9952\n",
            "Epoch 281/300\n",
            "40/40 [==============================] - 0s 4ms/step - loss: 0.0298 - accuracy: 0.9941 - val_loss: 0.0267 - val_accuracy: 0.9952\n",
            "Epoch 282/300\n",
            "40/40 [==============================] - 0s 4ms/step - loss: 0.0297 - accuracy: 0.9941 - val_loss: 0.0264 - val_accuracy: 0.9952\n",
            "Epoch 283/300\n",
            "40/40 [==============================] - 0s 4ms/step - loss: 0.0297 - accuracy: 0.9941 - val_loss: 0.0264 - val_accuracy: 0.9952\n",
            "Epoch 284/300\n",
            "40/40 [==============================] - 0s 4ms/step - loss: 0.0297 - accuracy: 0.9941 - val_loss: 0.0266 - val_accuracy: 0.9952\n",
            "Epoch 285/300\n",
            "40/40 [==============================] - 0s 4ms/step - loss: 0.0298 - accuracy: 0.9941 - val_loss: 0.0265 - val_accuracy: 0.9952\n",
            "Epoch 286/300\n",
            "40/40 [==============================] - 0s 4ms/step - loss: 0.0298 - accuracy: 0.9941 - val_loss: 0.0264 - val_accuracy: 0.9952\n",
            "Epoch 287/300\n",
            "40/40 [==============================] - 0s 4ms/step - loss: 0.0297 - accuracy: 0.9941 - val_loss: 0.0265 - val_accuracy: 0.9952\n",
            "Epoch 288/300\n",
            "40/40 [==============================] - 0s 4ms/step - loss: 0.0297 - accuracy: 0.9941 - val_loss: 0.0266 - val_accuracy: 0.9952\n",
            "Epoch 289/300\n",
            "40/40 [==============================] - 0s 4ms/step - loss: 0.0297 - accuracy: 0.9941 - val_loss: 0.0265 - val_accuracy: 0.9952\n",
            "Epoch 290/300\n",
            "40/40 [==============================] - 0s 4ms/step - loss: 0.0297 - accuracy: 0.9941 - val_loss: 0.0266 - val_accuracy: 0.9952\n",
            "Epoch 291/300\n",
            "40/40 [==============================] - 0s 4ms/step - loss: 0.0298 - accuracy: 0.9941 - val_loss: 0.0265 - val_accuracy: 0.9952\n",
            "Epoch 292/300\n",
            "40/40 [==============================] - 0s 4ms/step - loss: 0.0297 - accuracy: 0.9941 - val_loss: 0.0267 - val_accuracy: 0.9952\n",
            "Epoch 293/300\n",
            "40/40 [==============================] - 0s 4ms/step - loss: 0.0298 - accuracy: 0.9941 - val_loss: 0.0264 - val_accuracy: 0.9952\n",
            "Epoch 294/300\n",
            "40/40 [==============================] - 0s 4ms/step - loss: 0.0298 - accuracy: 0.9941 - val_loss: 0.0263 - val_accuracy: 0.9952\n",
            "Epoch 295/300\n",
            "40/40 [==============================] - 0s 4ms/step - loss: 0.0298 - accuracy: 0.9941 - val_loss: 0.0265 - val_accuracy: 0.9952\n",
            "Epoch 296/300\n",
            "40/40 [==============================] - 0s 4ms/step - loss: 0.0298 - accuracy: 0.9941 - val_loss: 0.0265 - val_accuracy: 0.9952\n",
            "Epoch 297/300\n",
            "40/40 [==============================] - 0s 4ms/step - loss: 0.0298 - accuracy: 0.9941 - val_loss: 0.0264 - val_accuracy: 0.9952\n",
            "Epoch 298/300\n",
            "40/40 [==============================] - 0s 4ms/step - loss: 0.0297 - accuracy: 0.9941 - val_loss: 0.0265 - val_accuracy: 0.9952\n",
            "Epoch 299/300\n",
            "40/40 [==============================] - 0s 4ms/step - loss: 0.0297 - accuracy: 0.9941 - val_loss: 0.0264 - val_accuracy: 0.9952\n",
            "Epoch 300/300\n",
            "40/40 [==============================] - 0s 4ms/step - loss: 0.0297 - accuracy: 0.9941 - val_loss: 0.0264 - val_accuracy: 0.9952\n"
          ]
        }
      ],
      "source": [
        "if model_selection[model_flag]==\"ALL\" or model_selection[model_flag] == \"AE\":\n",
        "  # training the model on training dataset\n",
        "  his = ae_classifier.fit(predictions, y_test, epochs=300,batch_size=500, validation_split=0.2).history"
      ]
    },
    {
      "cell_type": "code",
      "execution_count": 170,
      "metadata": {
        "id": "yeNS7pLUNYBz"
      },
      "outputs": [],
      "source": [
        "if model_selection[model_flag]==\"ALL\" or model_selection[model_flag] == \"AE\":\n",
        "  filepath = '/content/drive/MyDrive/Colab_Notebooks/Models/ae_classifier_binary'+model_name_suffix+'.json'\n",
        "  weightspath = '/content/drive/MyDrive/Colab_Notebooks/Weights/ae_classifier_binary'+model_name_suffix+'.h5'\n",
        "  if (not path.isfile(filepath)): \n",
        "    # serialize model to JSON\n",
        "    ae_classifier_json = ae_classifier.to_json()\n",
        "    with open(filepath, \"w\") as json_file:\n",
        "      json_file.write(ae_classifier_json)\n",
        "\n",
        "    # serialize weights to HDF5\n",
        "    ae_classifier.save_weights(weightspath)\n",
        "    print(\"Saved model to disk\")\n",
        "\n",
        "    # load json and create model\n",
        "    json_file = open(filepath, 'r')\n",
        "    loaded_model_json = json_file.read()\n",
        "    json_file.close()\n",
        "    ae_classifier = model_from_json(loaded_model_json)\n",
        "\n",
        "    # load weights into new model\n",
        "    ae_classifier.load_weights(weightspath)\n",
        "    print(\"Loaded model from disk\")"
      ]
    },
    {
      "cell_type": "code",
      "execution_count": 171,
      "metadata": {
        "id": "AG42bV79NYFB"
      },
      "outputs": [],
      "source": [
        "if model_selection[model_flag]==\"ALL\" or model_selection[model_flag] == \"AE\":\n",
        "  ae_classifier.compile(optimizer='adam', loss='binary_crossentropy',metrics=['accuracy'])"
      ]
    },
    {
      "cell_type": "code",
      "execution_count": 172,
      "metadata": {
        "id": "13aKBGJcNYHv",
        "colab": {
          "base_uri": "https://localhost:8080/"
        },
        "outputId": "713a8f96-eff4-4f23-81a4-16433fdbae40"
      },
      "outputs": [
        {
          "output_type": "stream",
          "name": "stdout",
          "text": [
            "782/782 [==============================] - 2s 3ms/step - loss: 0.2553 - accuracy: 0.9930\n",
            "Test results - Loss: 0.2553342282772064 - Accuracy: 99.29999709129333%\n"
          ]
        }
      ],
      "source": [
        "if model_selection[model_flag]==\"ALL\" or model_selection[model_flag] == \"AE\":\n",
        "  # predicting target attribute on testing dataset\n",
        "  test_results = ae_classifier.evaluate(X_test, y_test, verbose=1)\n",
        "  print(f'Test results - Loss: {test_results[0]} - Accuracy: {test_results[1]*100}%')"
      ]
    },
    {
      "cell_type": "code",
      "execution_count": 173,
      "metadata": {
        "id": "zCWbOaSyN1dH"
      },
      "outputs": [],
      "source": [
        "if model_selection[model_flag]==\"ALL\" or model_selection[model_flag] == \"AE\":\n",
        "  # representation of model layers\n",
        "  plot_model(ae_classifier, to_file='/content/drive/MyDrive/Colab_Notebooks/Plots/ae_classifier_binary.png', show_shapes=True)"
      ]
    },
    {
      "cell_type": "code",
      "execution_count": 174,
      "metadata": {
        "id": "44VaFGgVOBpU",
        "colab": {
          "base_uri": "https://localhost:8080/",
          "height": 472
        },
        "outputId": "0a6cd78d-ce2f-43c4-bc6d-bd18ce8f670e"
      },
      "outputs": [
        {
          "output_type": "display_data",
          "data": {
            "text/plain": [
              "<Figure size 640x480 with 1 Axes>"
            ],
            "image/png": "[encoded data removed]"
          },
          "metadata": {}
        }
      ],
      "source": [
        "if model_selection[model_flag]==\"ALL\" or model_selection[model_flag] == \"AE\":\n",
        "  # Plot of loss vs epoch of train and test dataset\n",
        "  plt.plot(his['loss'])\n",
        "  plt.plot(his['val_loss'])\n",
        "  plt.title(\"Plot of loss vs epoch for train and test dataset\")\n",
        "  plt.ylabel('loss')\n",
        "  plt.xlabel('epoch')\n",
        "  plt.legend(['train', 'test'], loc='upper right')\n",
        "  plt.savefig('/content/drive/MyDrive/Colab_Notebooks/Plots/ae_classifier_binary_loss.png')\n",
        "  plt.show()"
      ]
    },
    {
      "cell_type": "code",
      "execution_count": 175,
      "metadata": {
        "id": "Am0UB82rOIo1",
        "colab": {
          "base_uri": "https://localhost:8080/",
          "height": 472
        },
        "outputId": "b066c9cf-54bd-4124-e945-8cb1e13b12ac"
      },
      "outputs": [
        {
          "output_type": "display_data",
          "data": {
            "text/plain": [
              "<Figure size 640x480 with 1 Axes>"
            ],
            "image/png": "[encoded data removed]"
          },
          "metadata": {}
        }
      ],
      "source": [
        "if model_selection[model_flag]==\"ALL\" or model_selection[model_flag] == \"AE\":\n",
        "  # Plot of accuracy vs epoch of train and test dataset\n",
        "  plt.plot(his['accuracy'])\n",
        "  plt.plot(his['val_accuracy'])\n",
        "  plt.title(\"Plot of accuracy vs epoch for train and test dataset\")\n",
        "  plt.ylabel('accuracy')\n",
        "  plt.xlabel('epoch')\n",
        "  plt.legend(['train', 'test'], loc='best')\n",
        "  plt.savefig('/content/drive/MyDrive/Colab_Notebooks/Plots/ae_classifier_binary_accuracy.png')\n",
        "  plt.show()"
      ]
    },
    {
      "cell_type": "code",
      "execution_count": 176,
      "metadata": {
        "id": "f5OZTlm0OMoW",
        "colab": {
          "base_uri": "https://localhost:8080/"
        },
        "outputId": "c35f46de-e8c1-43ac-854f-8d3c2a386184"
      },
      "outputs": [
        {
          "output_type": "stream",
          "name": "stdout",
          "text": [
            "782/782 [==============================] - 1s 1ms/step\n"
          ]
        }
      ],
      "source": [
        "if model_selection[model_flag]==\"ALL\" or model_selection[model_flag] == \"AE\":\n",
        "  y_pred = ae_classifier.predict(X_test).ravel()\n",
        "  fpr, tpr, thresholds = roc_curve(y_test, y_pred)\n",
        "  #auc = auc(fpr, tpr)"
      ]
    },
    {
      "cell_type": "code",
      "execution_count": 177,
      "metadata": {
        "id": "GbSkwfO2OTkn",
        "colab": {
          "base_uri": "https://localhost:8080/",
          "height": 510
        },
        "outputId": "21e0f3fb-90a6-4c81-c58d-54cc8fa6c37f"
      },
      "outputs": [
        {
          "output_type": "stream",
          "name": "stderr",
          "text": [
            "WARNING:matplotlib.legend:No artists with labels found to put in legend.  Note that artists whose label start with an underscore are ignored when legend() is called with no argument.\n"
          ]
        },
        {
          "output_type": "display_data",
          "data": {
            "text/plain": [
              "<Figure size 640x480 with 1 Axes>"
            ],
            "image/png": "[encoded data removed]"
          },
          "metadata": {}
        }
      ],
      "source": [
        "if model_selection[model_flag]==\"ALL\" or model_selection[model_flag] == \"AE\":\n",
        "  plt.plot([0, 1], [0, 1], 'k--')\n",
        "  #plt.plot(fpr, tpr, label='Keras (area = {:.3f})'.format(auc))\n",
        "  plt.plot(fpr, tpr)\n",
        "  plt.xlabel('False positive rate')\n",
        "  plt.ylabel('True positive rate')\n",
        "  plt.title('ROC curve')\n",
        "  plt.legend(loc='best')\n",
        "  plt.savefig('/content/drive/MyDrive/Colab_Notebooks/Plots/ae_binary_roc.png')\n",
        "  plt.show()"
      ]
    },
    {
      "cell_type": "code",
      "execution_count": 178,
      "metadata": {
        "id": "n7Xl74UXOZxm",
        "colab": {
          "base_uri": "https://localhost:8080/"
        },
        "outputId": "66914cca-3290-4fb6-9e3a-787db1794751"
      },
      "outputs": [
        {
          "output_type": "stream",
          "name": "stdout",
          "text": [
            "782/782 [==============================] - 1s 1ms/step\n",
            "782/782 [==============================] - 1s 1ms/step\n"
          ]
        }
      ],
      "source": [
        "if model_selection[model_flag]==\"ALL\" or model_selection[model_flag] == \"AE\":\n",
        "  pred = ae_classifier.predict(X_test)\n",
        "  y_classes = (ae_classifier.predict(X_test)>0.5).astype('int32')"
      ]
    },
    {
      "cell_type": "code",
      "execution_count": 179,
      "metadata": {
        "id": "WA_g3UlXOZ71",
        "colab": {
          "base_uri": "https://localhost:8080/"
        },
        "outputId": "40ca01d8-6de3-4937-c806-9081318c3c45"
      },
      "outputs": [
        {
          "output_type": "stream",
          "name": "stdout",
          "text": [
            "Recall Score -  0.9895687708355737\n",
            "F1 Score -  0.9905807632272996\n",
            "Precision Score -  0.9915948275862069\n",
            "False Positive Rate -  [1.         0.00496784]\n",
            "False Negative Rate -  [0.         0.01043123]\n",
            "Thresholds -  [0 1]\n"
          ]
        }
      ],
      "source": [
        "if model_selection[model_flag]==\"ALL\" or model_selection[model_flag] == \"AE\":\n",
        "  print(\"Recall Score - \",recall_score(y_test,y_classes))\n",
        "  print(\"F1 Score - \",f1_score(y_test,y_classes))\n",
        "  print(\"Precision Score - \",precision_score(y_test,y_classes))\n",
        "  fpr, fnr, thresholds = det_curve(y_test, y_classes)\n",
        "  print(\"False Positive Rate - \", fpr)\n",
        "  print(\"False Negative Rate - \", fnr)\n",
        "  print(\"Thresholds - \", thresholds)"
      ]
    },
    {
      "cell_type": "code",
      "source": [
        "print(classification_report(y_test, y_classes, target_names=['0', '1']))\n",
        "cm = confusion_matrix(y_test, y_classes)\n",
        "disp = ConfusionMatrixDisplay(confusion_matrix=cm,\n",
        "                              display_labels=['0', '1'])\n",
        "disp.plot()\n",
        "\n",
        "plt.show()"
      ],
      "metadata": {
        "colab": {
          "base_uri": "https://localhost:8080/",
          "height": 610
        },
        "id": "UgHHdx0qoryj",
        "outputId": "6407dd02-f354-47f6-e0ee-54e747b809b2"
      },
      "execution_count": 180,
      "outputs": [
        {
          "output_type": "stream",
          "name": "stdout",
          "text": [
            "              precision    recall  f1-score   support\n",
            "\n",
            "           0       0.99      1.00      0.99     15701\n",
            "           1       0.99      0.99      0.99      9299\n",
            "\n",
            "    accuracy                           0.99     25000\n",
            "   macro avg       0.99      0.99      0.99     25000\n",
            "weighted avg       0.99      0.99      0.99     25000\n",
            "\n"
          ]
        },
        {
          "output_type": "display_data",
          "data": {
            "text/plain": [
              "<Figure size 640x480 with 2 Axes>"
            ],
            "image/png": "[encoded data removed]"
          },
          "metadata": {}
        }
      ]
    }
  ],
  "metadata": {
    "colab": {
      "provenance": [],
      "include_colab_link": true
    },
    "gpuClass": "standard",
    "kernelspec": {
      "display_name": "Python 3",
      "name": "python3"
    },
    "language_info": {
      "name": "python"
    },
    "accelerator": "GPU"
  },
  "nbformat": 4,
  "nbformat_minor": 0
}