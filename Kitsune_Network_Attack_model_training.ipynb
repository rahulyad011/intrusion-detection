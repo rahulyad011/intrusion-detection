{
  "cells": [
    {
      "cell_type": "markdown",
      "metadata": {
        "id": "view-in-github",
        "colab_type": "text"
      },
      "source": [
        "<a href=\"https://colab.research.google.com/github/rahulyad011/intrusion-detection/blob/main/Kitsune_Network_Attack_model_training.ipynb\" target=\"_parent\"><img src=\"https://colab.research.google.com/assets/colab-badge.svg\" alt=\"Open In Colab\"/></a>"
      ]
    },
    {
      "cell_type": "code",
      "execution_count": 1,
      "metadata": {
        "id": "qXQ8rUmdwaf4"
      },
      "outputs": [],
      "source": [
        "\n",
        "from sklearn.metrics import accuracy_score # for calculating accuracy of model\n",
        "from sklearn.model_selection import train_test_split # for splitting the dataset for training and testing\n",
        "from sklearn.metrics import classification_report # for generating a classification report of model\n",
        "import pickle # saving and loading trained model\n",
        "from os import path\n",
        "import numpy as np\n",
        "import pandas as pd\n",
        "import matplotlib.pyplot as plt\n",
        "\n",
        "# importing library for support vector machine classifier\n",
        "from sklearn.svm import SVC\n",
        "\n",
        "# MLP requirements \n",
        "from keras.layers import Dense # importing dense layer\n",
        "from keras.models import Sequential #importing Sequential layer\n",
        "from keras.models import model_from_json # saving and loading trained model\n",
        "\n",
        "# LSTM requirements \n",
        "from keras.layers import LSTM\n",
        "from keras.layers import Input\n",
        "from keras.models import Model\n",
        "\n",
        "# evaluation metrices\n",
        "from sklearn.metrics import classification_report, confusion_matrix\n",
        "from sklearn.metrics import roc_auc_score\n",
        "from sklearn.metrics import roc_curve, auc\n",
        "from sklearn.metrics import precision_score\n",
        "from sklearn.metrics import recall_score\n",
        "from sklearn.metrics import f1_score\n",
        "\n",
        "# representation of model layers\n",
        "from keras.utils.vis_utils import plot_model"
      ]
    },
    {
      "cell_type": "code",
      "source": [
        "from google.colab import drive\n",
        "drive.mount('/content/drive')"
      ],
      "metadata": {
        "colab": {
          "base_uri": "https://localhost:8080/"
        },
        "id": "DBCkPmpEjFSf",
        "outputId": "2559d4cb-ad0f-40f3-d853-9624faadff38"
      },
      "execution_count": 2,
      "outputs": [
        {
          "output_type": "stream",
          "name": "stdout",
          "text": [
            "Mounted at /content/drive\n"
          ]
        }
      ]
    },
    {
      "cell_type": "code",
      "execution_count": 3,
      "metadata": {
        "colab": {
          "base_uri": "https://localhost:8080/",
          "height": 505
        },
        "id": "Pepa9lW8whHh",
        "outputId": "483b8553-7ffa-4eb5-8085-b2bb1df0fa31"
      },
      "outputs": [
        {
          "output_type": "execute_result",
          "data": {
            "text/plain": [
              "                X1           X2            X3            X4           X5  \\\n",
              "0        63.593001  1409.273115  2.877740e+04    101.582531  1407.914397   \n",
              "1        33.567444   744.413016  4.039852e+05     61.758196   735.835298   \n",
              "2        69.791455   739.279220  4.266278e+05    126.425891   738.767114   \n",
              "3       155.469819   724.428175  4.257932e+05    240.495003   726.937293   \n",
              "4        99.286193   733.178785  4.155803e+05    174.635337   730.839814   \n",
              "...            ...          ...           ...           ...          ...   \n",
              "99994  7359.674718   136.000000  5.093170e-11  12270.261123   136.000000   \n",
              "99995  7355.013260   136.000000  3.637979e-11  12265.412882   136.000000   \n",
              "99996  6528.089150   136.000000  1.818989e-11   8992.687314   136.000000   \n",
              "99997  7369.582520   136.000000  6.912160e-11  12287.328934   136.000000   \n",
              "99998  7360.571878   136.000000  6.548362e-11  12267.682639   136.000000   \n",
              "\n",
              "                 X6            X7           X8            X9            X10  \\\n",
              "0      3.257215e+04    282.890001  1404.229864  4.028884e+04    2705.734816   \n",
              "1      4.055287e+05    205.166986   726.203756  4.053561e+05    2131.564557   \n",
              "2      4.301293e+05    408.538742   736.226082  4.341408e+05    4238.143771   \n",
              "3      4.259872e+05    623.368782   728.209538  4.225050e+05    5546.056321   \n",
              "4      4.162693e+05    542.089746   725.367791  4.158204e+05    5459.958306   \n",
              "...             ...           ...          ...           ...            ...   \n",
              "99994  1.091394e-11  36474.563899   136.000000  1.418812e-10  137527.046516   \n",
              "99995  4.001777e-11  36474.413213   136.000000  1.091394e-10  137847.589699   \n",
              "99996  5.820766e-11  13159.085296   136.000000  1.091394e-10   15952.402740   \n",
              "99997  1.236913e-10  36848.957020   136.000000  2.546585e-11  190476.617565   \n",
              "99998  1.891749e-10  36805.546583   136.000000  1.709850e-10  228023.544075   \n",
              "\n",
              "       ...          X107          X108          X109         X110        X111  \\\n",
              "0      ... -1.786670e-11 -1.807032e-08  26923.369527  1401.300617  210.329481   \n",
              "1      ...  0.000000e+00  0.000000e+00   8314.185744  1450.000000    0.000094   \n",
              "2      ...  0.000000e+00  0.000000e+00  19190.900306  1450.000000    0.000193   \n",
              "3      ...  0.000000e+00  0.000000e+00  16068.857113   205.449306  261.593114   \n",
              "4      ...  0.000000e+00  0.000000e+00  16095.227971   202.608187  254.298249   \n",
              "...    ...           ...           ...           ...          ...         ...   \n",
              "99994  ...  0.000000e+00  0.000000e+00      5.857770   136.000000    0.000000   \n",
              "99995  ...  0.000000e+00  0.000000e+00      2.976221   136.000000    0.000000   \n",
              "99996  ...  0.000000e+00  0.000000e+00      1.998383   136.000000    0.000002   \n",
              "99997  ...  0.000000e+00  0.000000e+00      5.851634   136.000000    0.000003   \n",
              "99998  ...  0.000000e+00  0.000000e+00      6.692805   136.000000    0.000002   \n",
              "\n",
              "              X112          X113          X114          X115  label  \n",
              "0      1402.584550  4.423849e+04 -3.707493e-11 -3.557117e-08    0.0  \n",
              "1      1450.000000  8.847564e-09  0.000000e+00  0.000000e+00    0.0  \n",
              "2      1450.000000  3.725290e-08  0.000000e+00  0.000000e+00    0.0  \n",
              "3       205.449306  6.843096e+04  0.000000e+00  0.000000e+00    0.0  \n",
              "4       202.608187  6.466760e+04  0.000000e+00  0.000000e+00    0.0  \n",
              "...            ...           ...           ...           ...    ...  \n",
              "99994   136.000000  0.000000e+00  0.000000e+00  0.000000e+00    1.0  \n",
              "99995   136.000000  0.000000e+00  0.000000e+00  0.000000e+00    1.0  \n",
              "99996   136.000000  3.637979e-12  0.000000e+00  0.000000e+00    1.0  \n",
              "99997   136.000000  1.091394e-11  0.000000e+00  0.000000e+00    1.0  \n",
              "99998   136.000000  3.637979e-12  0.000000e+00  0.000000e+00    1.0  \n",
              "\n",
              "[99999 rows x 116 columns]"
            ],
            "text/html": [
              "\n",
              "  <div id=\"df-385b66c3-443b-4c5c-af65-271642a1847a\">\n",
              "    <div class=\"colab-df-container\">\n",
              "      <div>\n",
              "<style scoped>\n",
              "    .dataframe tbody tr th:only-of-type {\n",
              "        vertical-align: middle;\n",
              "    }\n",
              "\n",
              "    .dataframe tbody tr th {\n",
              "        vertical-align: top;\n",
              "    }\n",
              "\n",
              "    .dataframe thead th {\n",
              "        text-align: right;\n",
              "    }\n",
              "</style>\n",
              "<table border=\"1\" class=\"dataframe\">\n",
              "  <thead>\n",
              "    <tr style=\"text-align: right;\">\n",
              "      <th></th>\n",
              "      <th>X1</th>\n",
              "      <th>X2</th>\n",
              "      <th>X3</th>\n",
              "      <th>X4</th>\n",
              "      <th>X5</th>\n",
              "      <th>X6</th>\n",
              "      <th>X7</th>\n",
              "      <th>X8</th>\n",
              "      <th>X9</th>\n",
              "      <th>X10</th>\n",
              "      <th>...</th>\n",
              "      <th>X107</th>\n",
              "      <th>X108</th>\n",
              "      <th>X109</th>\n",
              "      <th>X110</th>\n",
              "      <th>X111</th>\n",
              "      <th>X112</th>\n",
              "      <th>X113</th>\n",
              "      <th>X114</th>\n",
              "      <th>X115</th>\n",
              "      <th>label</th>\n",
              "    </tr>\n",
              "  </thead>\n",
              "  <tbody>\n",
              "    <tr>\n",
              "      <th>0</th>\n",
              "      <td>63.593001</td>\n",
              "      <td>1409.273115</td>\n",
              "      <td>2.877740e+04</td>\n",
              "      <td>101.582531</td>\n",
              "      <td>1407.914397</td>\n",
              "      <td>3.257215e+04</td>\n",
              "      <td>282.890001</td>\n",
              "      <td>1404.229864</td>\n",
              "      <td>4.028884e+04</td>\n",
              "      <td>2705.734816</td>\n",
              "      <td>...</td>\n",
              "      <td>-1.786670e-11</td>\n",
              "      <td>-1.807032e-08</td>\n",
              "      <td>26923.369527</td>\n",
              "      <td>1401.300617</td>\n",
              "      <td>210.329481</td>\n",
              "      <td>1402.584550</td>\n",
              "      <td>4.423849e+04</td>\n",
              "      <td>-3.707493e-11</td>\n",
              "      <td>-3.557117e-08</td>\n",
              "      <td>0.0</td>\n",
              "    </tr>\n",
              "    <tr>\n",
              "      <th>1</th>\n",
              "      <td>33.567444</td>\n",
              "      <td>744.413016</td>\n",
              "      <td>4.039852e+05</td>\n",
              "      <td>61.758196</td>\n",
              "      <td>735.835298</td>\n",
              "      <td>4.055287e+05</td>\n",
              "      <td>205.166986</td>\n",
              "      <td>726.203756</td>\n",
              "      <td>4.053561e+05</td>\n",
              "      <td>2131.564557</td>\n",
              "      <td>...</td>\n",
              "      <td>0.000000e+00</td>\n",
              "      <td>0.000000e+00</td>\n",
              "      <td>8314.185744</td>\n",
              "      <td>1450.000000</td>\n",
              "      <td>0.000094</td>\n",
              "      <td>1450.000000</td>\n",
              "      <td>8.847564e-09</td>\n",
              "      <td>0.000000e+00</td>\n",
              "      <td>0.000000e+00</td>\n",
              "      <td>0.0</td>\n",
              "    </tr>\n",
              "    <tr>\n",
              "      <th>2</th>\n",
              "      <td>69.791455</td>\n",
              "      <td>739.279220</td>\n",
              "      <td>4.266278e+05</td>\n",
              "      <td>126.425891</td>\n",
              "      <td>738.767114</td>\n",
              "      <td>4.301293e+05</td>\n",
              "      <td>408.538742</td>\n",
              "      <td>736.226082</td>\n",
              "      <td>4.341408e+05</td>\n",
              "      <td>4238.143771</td>\n",
              "      <td>...</td>\n",
              "      <td>0.000000e+00</td>\n",
              "      <td>0.000000e+00</td>\n",
              "      <td>19190.900306</td>\n",
              "      <td>1450.000000</td>\n",
              "      <td>0.000193</td>\n",
              "      <td>1450.000000</td>\n",
              "      <td>3.725290e-08</td>\n",
              "      <td>0.000000e+00</td>\n",
              "      <td>0.000000e+00</td>\n",
              "      <td>0.0</td>\n",
              "    </tr>\n",
              "    <tr>\n",
              "      <th>3</th>\n",
              "      <td>155.469819</td>\n",
              "      <td>724.428175</td>\n",
              "      <td>4.257932e+05</td>\n",
              "      <td>240.495003</td>\n",
              "      <td>726.937293</td>\n",
              "      <td>4.259872e+05</td>\n",
              "      <td>623.368782</td>\n",
              "      <td>728.209538</td>\n",
              "      <td>4.225050e+05</td>\n",
              "      <td>5546.056321</td>\n",
              "      <td>...</td>\n",
              "      <td>0.000000e+00</td>\n",
              "      <td>0.000000e+00</td>\n",
              "      <td>16068.857113</td>\n",
              "      <td>205.449306</td>\n",
              "      <td>261.593114</td>\n",
              "      <td>205.449306</td>\n",
              "      <td>6.843096e+04</td>\n",
              "      <td>0.000000e+00</td>\n",
              "      <td>0.000000e+00</td>\n",
              "      <td>0.0</td>\n",
              "    </tr>\n",
              "    <tr>\n",
              "      <th>4</th>\n",
              "      <td>99.286193</td>\n",
              "      <td>733.178785</td>\n",
              "      <td>4.155803e+05</td>\n",
              "      <td>174.635337</td>\n",
              "      <td>730.839814</td>\n",
              "      <td>4.162693e+05</td>\n",
              "      <td>542.089746</td>\n",
              "      <td>725.367791</td>\n",
              "      <td>4.158204e+05</td>\n",
              "      <td>5459.958306</td>\n",
              "      <td>...</td>\n",
              "      <td>0.000000e+00</td>\n",
              "      <td>0.000000e+00</td>\n",
              "      <td>16095.227971</td>\n",
              "      <td>202.608187</td>\n",
              "      <td>254.298249</td>\n",
              "      <td>202.608187</td>\n",
              "      <td>6.466760e+04</td>\n",
              "      <td>0.000000e+00</td>\n",
              "      <td>0.000000e+00</td>\n",
              "      <td>0.0</td>\n",
              "    </tr>\n",
              "    <tr>\n",
              "      <th>...</th>\n",
              "      <td>...</td>\n",
              "      <td>...</td>\n",
              "      <td>...</td>\n",
              "      <td>...</td>\n",
              "      <td>...</td>\n",
              "      <td>...</td>\n",
              "      <td>...</td>\n",
              "      <td>...</td>\n",
              "      <td>...</td>\n",
              "      <td>...</td>\n",
              "      <td>...</td>\n",
              "      <td>...</td>\n",
              "      <td>...</td>\n",
              "      <td>...</td>\n",
              "      <td>...</td>\n",
              "      <td>...</td>\n",
              "      <td>...</td>\n",
              "      <td>...</td>\n",
              "      <td>...</td>\n",
              "      <td>...</td>\n",
              "      <td>...</td>\n",
              "    </tr>\n",
              "    <tr>\n",
              "      <th>99994</th>\n",
              "      <td>7359.674718</td>\n",
              "      <td>136.000000</td>\n",
              "      <td>5.093170e-11</td>\n",
              "      <td>12270.261123</td>\n",
              "      <td>136.000000</td>\n",
              "      <td>1.091394e-11</td>\n",
              "      <td>36474.563899</td>\n",
              "      <td>136.000000</td>\n",
              "      <td>1.418812e-10</td>\n",
              "      <td>137527.046516</td>\n",
              "      <td>...</td>\n",
              "      <td>0.000000e+00</td>\n",
              "      <td>0.000000e+00</td>\n",
              "      <td>5.857770</td>\n",
              "      <td>136.000000</td>\n",
              "      <td>0.000000</td>\n",
              "      <td>136.000000</td>\n",
              "      <td>0.000000e+00</td>\n",
              "      <td>0.000000e+00</td>\n",
              "      <td>0.000000e+00</td>\n",
              "      <td>1.0</td>\n",
              "    </tr>\n",
              "    <tr>\n",
              "      <th>99995</th>\n",
              "      <td>7355.013260</td>\n",
              "      <td>136.000000</td>\n",
              "      <td>3.637979e-11</td>\n",
              "      <td>12265.412882</td>\n",
              "      <td>136.000000</td>\n",
              "      <td>4.001777e-11</td>\n",
              "      <td>36474.413213</td>\n",
              "      <td>136.000000</td>\n",
              "      <td>1.091394e-10</td>\n",
              "      <td>137847.589699</td>\n",
              "      <td>...</td>\n",
              "      <td>0.000000e+00</td>\n",
              "      <td>0.000000e+00</td>\n",
              "      <td>2.976221</td>\n",
              "      <td>136.000000</td>\n",
              "      <td>0.000000</td>\n",
              "      <td>136.000000</td>\n",
              "      <td>0.000000e+00</td>\n",
              "      <td>0.000000e+00</td>\n",
              "      <td>0.000000e+00</td>\n",
              "      <td>1.0</td>\n",
              "    </tr>\n",
              "    <tr>\n",
              "      <th>99996</th>\n",
              "      <td>6528.089150</td>\n",
              "      <td>136.000000</td>\n",
              "      <td>1.818989e-11</td>\n",
              "      <td>8992.687314</td>\n",
              "      <td>136.000000</td>\n",
              "      <td>5.820766e-11</td>\n",
              "      <td>13159.085296</td>\n",
              "      <td>136.000000</td>\n",
              "      <td>1.091394e-10</td>\n",
              "      <td>15952.402740</td>\n",
              "      <td>...</td>\n",
              "      <td>0.000000e+00</td>\n",
              "      <td>0.000000e+00</td>\n",
              "      <td>1.998383</td>\n",
              "      <td>136.000000</td>\n",
              "      <td>0.000002</td>\n",
              "      <td>136.000000</td>\n",
              "      <td>3.637979e-12</td>\n",
              "      <td>0.000000e+00</td>\n",
              "      <td>0.000000e+00</td>\n",
              "      <td>1.0</td>\n",
              "    </tr>\n",
              "    <tr>\n",
              "      <th>99997</th>\n",
              "      <td>7369.582520</td>\n",
              "      <td>136.000000</td>\n",
              "      <td>6.912160e-11</td>\n",
              "      <td>12287.328934</td>\n",
              "      <td>136.000000</td>\n",
              "      <td>1.236913e-10</td>\n",
              "      <td>36848.957020</td>\n",
              "      <td>136.000000</td>\n",
              "      <td>2.546585e-11</td>\n",
              "      <td>190476.617565</td>\n",
              "      <td>...</td>\n",
              "      <td>0.000000e+00</td>\n",
              "      <td>0.000000e+00</td>\n",
              "      <td>5.851634</td>\n",
              "      <td>136.000000</td>\n",
              "      <td>0.000003</td>\n",
              "      <td>136.000000</td>\n",
              "      <td>1.091394e-11</td>\n",
              "      <td>0.000000e+00</td>\n",
              "      <td>0.000000e+00</td>\n",
              "      <td>1.0</td>\n",
              "    </tr>\n",
              "    <tr>\n",
              "      <th>99998</th>\n",
              "      <td>7360.571878</td>\n",
              "      <td>136.000000</td>\n",
              "      <td>6.548362e-11</td>\n",
              "      <td>12267.682639</td>\n",
              "      <td>136.000000</td>\n",
              "      <td>1.891749e-10</td>\n",
              "      <td>36805.546583</td>\n",
              "      <td>136.000000</td>\n",
              "      <td>1.709850e-10</td>\n",
              "      <td>228023.544075</td>\n",
              "      <td>...</td>\n",
              "      <td>0.000000e+00</td>\n",
              "      <td>0.000000e+00</td>\n",
              "      <td>6.692805</td>\n",
              "      <td>136.000000</td>\n",
              "      <td>0.000002</td>\n",
              "      <td>136.000000</td>\n",
              "      <td>3.637979e-12</td>\n",
              "      <td>0.000000e+00</td>\n",
              "      <td>0.000000e+00</td>\n",
              "      <td>1.0</td>\n",
              "    </tr>\n",
              "  </tbody>\n",
              "</table>\n",
              "<p>99999 rows × 116 columns</p>\n",
              "</div>\n",
              "      <button class=\"colab-df-convert\" onclick=\"convertToInteractive('df-385b66c3-443b-4c5c-af65-271642a1847a')\"\n",
              "              title=\"Convert this dataframe to an interactive table.\"\n",
              "              style=\"display:none;\">\n",
              "        \n",
              "  <svg xmlns=\"http://www.w3.org/2000/svg\" height=\"24px\"viewBox=\"0 0 24 24\"\n",
              "       width=\"24px\">\n",
              "    <path d=\"M0 0h24v24H0V0z\" fill=\"none\"/>\n",
              "    <path d=\"M18.56 5.44l.94 2.06.94-2.06 2.06-.94-2.06-.94-.94-2.06-.94 2.06-2.06.94zm-11 1L8.5 8.5l.94-2.06 2.06-.94-2.06-.94L8.5 2.5l-.94 2.06-2.06.94zm10 10l.94 2.06.94-2.06 2.06-.94-2.06-.94-.94-2.06-.94 2.06-2.06.94z\"/><path d=\"M17.41 7.96l-1.37-1.37c-.4-.4-.92-.59-1.43-.59-.52 0-1.04.2-1.43.59L10.3 9.45l-7.72 7.72c-.78.78-.78 2.05 0 2.83L4 21.41c.39.39.9.59 1.41.59.51 0 1.02-.2 1.41-.59l7.78-7.78 2.81-2.81c.8-.78.8-2.07 0-2.86zM5.41 20L4 18.59l7.72-7.72 1.47 1.35L5.41 20z\"/>\n",
              "  </svg>\n",
              "      </button>\n",
              "      \n",
              "  <style>\n",
              "    .colab-df-container {\n",
              "      display:flex;\n",
              "      flex-wrap:wrap;\n",
              "      gap: 12px;\n",
              "    }\n",
              "\n",
              "    .colab-df-convert {\n",
              "      background-color: #E8F0FE;\n",
              "      border: none;\n",
              "      border-radius: 50%;\n",
              "      cursor: pointer;\n",
              "      display: none;\n",
              "      fill: #1967D2;\n",
              "      height: 32px;\n",
              "      padding: 0 0 0 0;\n",
              "      width: 32px;\n",
              "    }\n",
              "\n",
              "    .colab-df-convert:hover {\n",
              "      background-color: #E2EBFA;\n",
              "      box-shadow: 0px 1px 2px rgba(60, 64, 67, 0.3), 0px 1px 3px 1px rgba(60, 64, 67, 0.15);\n",
              "      fill: #174EA6;\n",
              "    }\n",
              "\n",
              "    [theme=dark] .colab-df-convert {\n",
              "      background-color: #3B4455;\n",
              "      fill: #D2E3FC;\n",
              "    }\n",
              "\n",
              "    [theme=dark] .colab-df-convert:hover {\n",
              "      background-color: #434B5C;\n",
              "      box-shadow: 0px 1px 3px 1px rgba(0, 0, 0, 0.15);\n",
              "      filter: drop-shadow(0px 1px 2px rgba(0, 0, 0, 0.3));\n",
              "      fill: #FFFFFF;\n",
              "    }\n",
              "  </style>\n",
              "\n",
              "      <script>\n",
              "        const buttonEl =\n",
              "          document.querySelector('#df-385b66c3-443b-4c5c-af65-271642a1847a button.colab-df-convert');\n",
              "        buttonEl.style.display =\n",
              "          google.colab.kernel.accessAllowed ? 'block' : 'none';\n",
              "\n",
              "        async function convertToInteractive(key) {\n",
              "          const element = document.querySelector('#df-385b66c3-443b-4c5c-af65-271642a1847a');\n",
              "          const dataTable =\n",
              "            await google.colab.kernel.invokeFunction('convertToInteractive',\n",
              "                                                     [key], {});\n",
              "          if (!dataTable) return;\n",
              "\n",
              "          const docLinkHtml = 'Like what you see? Visit the ' +\n",
              "            '<a target=\"_blank\" href=https://colab.research.google.com/notebooks/data_table.ipynb>data table notebook</a>'\n",
              "            + ' to learn more about interactive tables.';\n",
              "          element.innerHTML = '';\n",
              "          dataTable['output_type'] = 'display_data';\n",
              "          await google.colab.output.renderOutput(dataTable, element);\n",
              "          const docLink = document.createElement('div');\n",
              "          docLink.innerHTML = docLinkHtml;\n",
              "          element.appendChild(docLink);\n",
              "        }\n",
              "      </script>\n",
              "    </div>\n",
              "  </div>\n",
              "  "
            ]
          },
          "metadata": {},
          "execution_count": 3
        }
      ],
      "source": [
        "bin_data_total = data = pd.read_csv(\"/content/drive/MyDrive/Colab_Notebooks/Datasets/kitsume_network_attack_dataset/kitsume_network_attack_binary_data_1M.csv\")\n",
        "bin_data_total.drop(bin_data_total.columns[0],axis=1,inplace=True)\n",
        "bin_data_total"
      ]
    },
    {
      "cell_type": "code",
      "execution_count": 4,
      "metadata": {
        "colab": {
          "base_uri": "https://localhost:8080/"
        },
        "id": "xHCs0B3sKOa_",
        "outputId": "8b76553e-7cfd-482f-f369-d1db4e1c5081"
      },
      "outputs": [
        {
          "output_type": "execute_result",
          "data": {
            "text/plain": [
              "0.0    0.626296\n",
              "1.0    0.373704\n",
              "Name: label, dtype: float64"
            ]
          },
          "metadata": {},
          "execution_count": 4
        }
      ],
      "source": [
        "# distribution of label class before sampling\n",
        "data_size = bin_data_total.shape[0]\n",
        "# data_size\n",
        "bin_data_total.label.value_counts()/data_size"
      ]
    },
    {
      "cell_type": "code",
      "source": [
        "model_name_suffix = \"_kitsune\""
      ],
      "metadata": {
        "collapsed": true,
        "id": "xoRpI3HV9G2v"
      },
      "execution_count": 5,
      "outputs": []
    },
    {
      "cell_type": "code",
      "source": [
        "# numeric feature normalization\n",
        "from sklearn.preprocessing import MinMaxScaler\n",
        "from sklearn.preprocessing import StandardScaler\n",
        "\n",
        "numeric_cols = bin_data_total.select_dtypes(['number']).columns\n",
        "numeric_cols = numeric_cols.drop('label')\n",
        "flag = 0\n",
        "scaler = None\n",
        "if flag:\n",
        "  # using standard scaler for normalizing\n",
        "  scaler = StandardScaler()\n",
        "else:\n",
        "  # using minmax scaler for normalizing\n",
        "  # to avoid negative values after scaling\n",
        "  scaler = MinMaxScaler()\n",
        "\n",
        "def normalization_train(df,col):\n",
        "  for i in col:\n",
        "    arr = df[i]\n",
        "    arr = np.array(arr)\n",
        "    df[i] = scaler.fit_transform(arr.reshape(len(arr),1))\n",
        "  return df\n",
        "\n",
        "def normalization_test(df,col):\n",
        "  for i in col:\n",
        "    arr = df[i]\n",
        "    arr = np.array(arr)\n",
        "    df[i] = scaler.transform(arr.reshape(len(arr),1))\n",
        "  return df\n",
        "\n",
        "# numeric_cols"
      ],
      "metadata": {
        "id": "QAUrPvEIYHoH"
      },
      "execution_count": 6,
      "outputs": []
    },
    {
      "cell_type": "code",
      "execution_count": 7,
      "metadata": {
        "colab": {
          "base_uri": "https://localhost:8080/",
          "height": 505
        },
        "id": "XSTP2AcKJgTF",
        "outputId": "9d2d352b-af26-4965-d0c9-d37b1446277b"
      },
      "outputs": [
        {
          "output_type": "execute_result",
          "data": {
            "text/plain": [
              "                X1           X2            X3            X4           X5  \\\n",
              "0        63.593001  1409.273115  2.877740e+04    101.582531  1407.914397   \n",
              "1        33.567444   744.413016  4.039852e+05     61.758196   735.835298   \n",
              "2        69.791455   739.279220  4.266278e+05    126.425891   738.767114   \n",
              "3       155.469819   724.428175  4.257932e+05    240.495003   726.937293   \n",
              "4        99.286193   733.178785  4.155803e+05    174.635337   730.839814   \n",
              "...            ...          ...           ...           ...          ...   \n",
              "99994  7359.674718   136.000000  5.093170e-11  12270.261123   136.000000   \n",
              "99995  7355.013260   136.000000  3.637979e-11  12265.412882   136.000000   \n",
              "99996  6528.089150   136.000000  1.818989e-11   8992.687314   136.000000   \n",
              "99997  7369.582520   136.000000  6.912160e-11  12287.328934   136.000000   \n",
              "99998  7360.571878   136.000000  6.548362e-11  12267.682639   136.000000   \n",
              "\n",
              "                 X6            X7           X8            X9            X10  \\\n",
              "0      3.257215e+04    282.890001  1404.229864  4.028884e+04    2705.734816   \n",
              "1      4.055287e+05    205.166986   726.203756  4.053561e+05    2131.564557   \n",
              "2      4.301293e+05    408.538742   736.226082  4.341408e+05    4238.143771   \n",
              "3      4.259872e+05    623.368782   728.209538  4.225050e+05    5546.056321   \n",
              "4      4.162693e+05    542.089746   725.367791  4.158204e+05    5459.958306   \n",
              "...             ...           ...          ...           ...            ...   \n",
              "99994  1.091394e-11  36474.563899   136.000000  1.418812e-10  137527.046516   \n",
              "99995  4.001777e-11  36474.413213   136.000000  1.091394e-10  137847.589699   \n",
              "99996  5.820766e-11  13159.085296   136.000000  1.091394e-10   15952.402740   \n",
              "99997  1.236913e-10  36848.957020   136.000000  2.546585e-11  190476.617565   \n",
              "99998  1.891749e-10  36805.546583   136.000000  1.709850e-10  228023.544075   \n",
              "\n",
              "       ...          X107          X108          X109         X110        X111  \\\n",
              "0      ... -1.786670e-11 -1.807032e-08  26923.369527  1401.300617  210.329481   \n",
              "1      ...  0.000000e+00  0.000000e+00   8314.185744  1450.000000    0.000094   \n",
              "2      ...  0.000000e+00  0.000000e+00  19190.900306  1450.000000    0.000193   \n",
              "3      ...  0.000000e+00  0.000000e+00  16068.857113   205.449306  261.593114   \n",
              "4      ...  0.000000e+00  0.000000e+00  16095.227971   202.608187  254.298249   \n",
              "...    ...           ...           ...           ...          ...         ...   \n",
              "99994  ...  0.000000e+00  0.000000e+00      5.857770   136.000000    0.000000   \n",
              "99995  ...  0.000000e+00  0.000000e+00      2.976221   136.000000    0.000000   \n",
              "99996  ...  0.000000e+00  0.000000e+00      1.998383   136.000000    0.000002   \n",
              "99997  ...  0.000000e+00  0.000000e+00      5.851634   136.000000    0.000003   \n",
              "99998  ...  0.000000e+00  0.000000e+00      6.692805   136.000000    0.000002   \n",
              "\n",
              "              X112          X113          X114          X115  label  \n",
              "0      1402.584550  4.423849e+04 -3.707493e-11 -3.557117e-08    0.0  \n",
              "1      1450.000000  8.847564e-09  0.000000e+00  0.000000e+00    0.0  \n",
              "2      1450.000000  3.725290e-08  0.000000e+00  0.000000e+00    0.0  \n",
              "3       205.449306  6.843096e+04  0.000000e+00  0.000000e+00    0.0  \n",
              "4       202.608187  6.466760e+04  0.000000e+00  0.000000e+00    0.0  \n",
              "...            ...           ...           ...           ...    ...  \n",
              "99994   136.000000  0.000000e+00  0.000000e+00  0.000000e+00    1.0  \n",
              "99995   136.000000  0.000000e+00  0.000000e+00  0.000000e+00    1.0  \n",
              "99996   136.000000  3.637979e-12  0.000000e+00  0.000000e+00    1.0  \n",
              "99997   136.000000  1.091394e-11  0.000000e+00  0.000000e+00    1.0  \n",
              "99998   136.000000  3.637979e-12  0.000000e+00  0.000000e+00    1.0  \n",
              "\n",
              "[99999 rows x 116 columns]"
            ],
            "text/html": [
              "\n",
              "  <div id=\"df-0afc6d9f-bc06-426c-9796-edb827eb2e51\">\n",
              "    <div class=\"colab-df-container\">\n",
              "      <div>\n",
              "<style scoped>\n",
              "    .dataframe tbody tr th:only-of-type {\n",
              "        vertical-align: middle;\n",
              "    }\n",
              "\n",
              "    .dataframe tbody tr th {\n",
              "        vertical-align: top;\n",
              "    }\n",
              "\n",
              "    .dataframe thead th {\n",
              "        text-align: right;\n",
              "    }\n",
              "</style>\n",
              "<table border=\"1\" class=\"dataframe\">\n",
              "  <thead>\n",
              "    <tr style=\"text-align: right;\">\n",
              "      <th></th>\n",
              "      <th>X1</th>\n",
              "      <th>X2</th>\n",
              "      <th>X3</th>\n",
              "      <th>X4</th>\n",
              "      <th>X5</th>\n",
              "      <th>X6</th>\n",
              "      <th>X7</th>\n",
              "      <th>X8</th>\n",
              "      <th>X9</th>\n",
              "      <th>X10</th>\n",
              "      <th>...</th>\n",
              "      <th>X107</th>\n",
              "      <th>X108</th>\n",
              "      <th>X109</th>\n",
              "      <th>X110</th>\n",
              "      <th>X111</th>\n",
              "      <th>X112</th>\n",
              "      <th>X113</th>\n",
              "      <th>X114</th>\n",
              "      <th>X115</th>\n",
              "      <th>label</th>\n",
              "    </tr>\n",
              "  </thead>\n",
              "  <tbody>\n",
              "    <tr>\n",
              "      <th>0</th>\n",
              "      <td>63.593001</td>\n",
              "      <td>1409.273115</td>\n",
              "      <td>2.877740e+04</td>\n",
              "      <td>101.582531</td>\n",
              "      <td>1407.914397</td>\n",
              "      <td>3.257215e+04</td>\n",
              "      <td>282.890001</td>\n",
              "      <td>1404.229864</td>\n",
              "      <td>4.028884e+04</td>\n",
              "      <td>2705.734816</td>\n",
              "      <td>...</td>\n",
              "      <td>-1.786670e-11</td>\n",
              "      <td>-1.807032e-08</td>\n",
              "      <td>26923.369527</td>\n",
              "      <td>1401.300617</td>\n",
              "      <td>210.329481</td>\n",
              "      <td>1402.584550</td>\n",
              "      <td>4.423849e+04</td>\n",
              "      <td>-3.707493e-11</td>\n",
              "      <td>-3.557117e-08</td>\n",
              "      <td>0.0</td>\n",
              "    </tr>\n",
              "    <tr>\n",
              "      <th>1</th>\n",
              "      <td>33.567444</td>\n",
              "      <td>744.413016</td>\n",
              "      <td>4.039852e+05</td>\n",
              "      <td>61.758196</td>\n",
              "      <td>735.835298</td>\n",
              "      <td>4.055287e+05</td>\n",
              "      <td>205.166986</td>\n",
              "      <td>726.203756</td>\n",
              "      <td>4.053561e+05</td>\n",
              "      <td>2131.564557</td>\n",
              "      <td>...</td>\n",
              "      <td>0.000000e+00</td>\n",
              "      <td>0.000000e+00</td>\n",
              "      <td>8314.185744</td>\n",
              "      <td>1450.000000</td>\n",
              "      <td>0.000094</td>\n",
              "      <td>1450.000000</td>\n",
              "      <td>8.847564e-09</td>\n",
              "      <td>0.000000e+00</td>\n",
              "      <td>0.000000e+00</td>\n",
              "      <td>0.0</td>\n",
              "    </tr>\n",
              "    <tr>\n",
              "      <th>2</th>\n",
              "      <td>69.791455</td>\n",
              "      <td>739.279220</td>\n",
              "      <td>4.266278e+05</td>\n",
              "      <td>126.425891</td>\n",
              "      <td>738.767114</td>\n",
              "      <td>4.301293e+05</td>\n",
              "      <td>408.538742</td>\n",
              "      <td>736.226082</td>\n",
              "      <td>4.341408e+05</td>\n",
              "      <td>4238.143771</td>\n",
              "      <td>...</td>\n",
              "      <td>0.000000e+00</td>\n",
              "      <td>0.000000e+00</td>\n",
              "      <td>19190.900306</td>\n",
              "      <td>1450.000000</td>\n",
              "      <td>0.000193</td>\n",
              "      <td>1450.000000</td>\n",
              "      <td>3.725290e-08</td>\n",
              "      <td>0.000000e+00</td>\n",
              "      <td>0.000000e+00</td>\n",
              "      <td>0.0</td>\n",
              "    </tr>\n",
              "    <tr>\n",
              "      <th>3</th>\n",
              "      <td>155.469819</td>\n",
              "      <td>724.428175</td>\n",
              "      <td>4.257932e+05</td>\n",
              "      <td>240.495003</td>\n",
              "      <td>726.937293</td>\n",
              "      <td>4.259872e+05</td>\n",
              "      <td>623.368782</td>\n",
              "      <td>728.209538</td>\n",
              "      <td>4.225050e+05</td>\n",
              "      <td>5546.056321</td>\n",
              "      <td>...</td>\n",
              "      <td>0.000000e+00</td>\n",
              "      <td>0.000000e+00</td>\n",
              "      <td>16068.857113</td>\n",
              "      <td>205.449306</td>\n",
              "      <td>261.593114</td>\n",
              "      <td>205.449306</td>\n",
              "      <td>6.843096e+04</td>\n",
              "      <td>0.000000e+00</td>\n",
              "      <td>0.000000e+00</td>\n",
              "      <td>0.0</td>\n",
              "    </tr>\n",
              "    <tr>\n",
              "      <th>4</th>\n",
              "      <td>99.286193</td>\n",
              "      <td>733.178785</td>\n",
              "      <td>4.155803e+05</td>\n",
              "      <td>174.635337</td>\n",
              "      <td>730.839814</td>\n",
              "      <td>4.162693e+05</td>\n",
              "      <td>542.089746</td>\n",
              "      <td>725.367791</td>\n",
              "      <td>4.158204e+05</td>\n",
              "      <td>5459.958306</td>\n",
              "      <td>...</td>\n",
              "      <td>0.000000e+00</td>\n",
              "      <td>0.000000e+00</td>\n",
              "      <td>16095.227971</td>\n",
              "      <td>202.608187</td>\n",
              "      <td>254.298249</td>\n",
              "      <td>202.608187</td>\n",
              "      <td>6.466760e+04</td>\n",
              "      <td>0.000000e+00</td>\n",
              "      <td>0.000000e+00</td>\n",
              "      <td>0.0</td>\n",
              "    </tr>\n",
              "    <tr>\n",
              "      <th>...</th>\n",
              "      <td>...</td>\n",
              "      <td>...</td>\n",
              "      <td>...</td>\n",
              "      <td>...</td>\n",
              "      <td>...</td>\n",
              "      <td>...</td>\n",
              "      <td>...</td>\n",
              "      <td>...</td>\n",
              "      <td>...</td>\n",
              "      <td>...</td>\n",
              "      <td>...</td>\n",
              "      <td>...</td>\n",
              "      <td>...</td>\n",
              "      <td>...</td>\n",
              "      <td>...</td>\n",
              "      <td>...</td>\n",
              "      <td>...</td>\n",
              "      <td>...</td>\n",
              "      <td>...</td>\n",
              "      <td>...</td>\n",
              "      <td>...</td>\n",
              "    </tr>\n",
              "    <tr>\n",
              "      <th>99994</th>\n",
              "      <td>7359.674718</td>\n",
              "      <td>136.000000</td>\n",
              "      <td>5.093170e-11</td>\n",
              "      <td>12270.261123</td>\n",
              "      <td>136.000000</td>\n",
              "      <td>1.091394e-11</td>\n",
              "      <td>36474.563899</td>\n",
              "      <td>136.000000</td>\n",
              "      <td>1.418812e-10</td>\n",
              "      <td>137527.046516</td>\n",
              "      <td>...</td>\n",
              "      <td>0.000000e+00</td>\n",
              "      <td>0.000000e+00</td>\n",
              "      <td>5.857770</td>\n",
              "      <td>136.000000</td>\n",
              "      <td>0.000000</td>\n",
              "      <td>136.000000</td>\n",
              "      <td>0.000000e+00</td>\n",
              "      <td>0.000000e+00</td>\n",
              "      <td>0.000000e+00</td>\n",
              "      <td>1.0</td>\n",
              "    </tr>\n",
              "    <tr>\n",
              "      <th>99995</th>\n",
              "      <td>7355.013260</td>\n",
              "      <td>136.000000</td>\n",
              "      <td>3.637979e-11</td>\n",
              "      <td>12265.412882</td>\n",
              "      <td>136.000000</td>\n",
              "      <td>4.001777e-11</td>\n",
              "      <td>36474.413213</td>\n",
              "      <td>136.000000</td>\n",
              "      <td>1.091394e-10</td>\n",
              "      <td>137847.589699</td>\n",
              "      <td>...</td>\n",
              "      <td>0.000000e+00</td>\n",
              "      <td>0.000000e+00</td>\n",
              "      <td>2.976221</td>\n",
              "      <td>136.000000</td>\n",
              "      <td>0.000000</td>\n",
              "      <td>136.000000</td>\n",
              "      <td>0.000000e+00</td>\n",
              "      <td>0.000000e+00</td>\n",
              "      <td>0.000000e+00</td>\n",
              "      <td>1.0</td>\n",
              "    </tr>\n",
              "    <tr>\n",
              "      <th>99996</th>\n",
              "      <td>6528.089150</td>\n",
              "      <td>136.000000</td>\n",
              "      <td>1.818989e-11</td>\n",
              "      <td>8992.687314</td>\n",
              "      <td>136.000000</td>\n",
              "      <td>5.820766e-11</td>\n",
              "      <td>13159.085296</td>\n",
              "      <td>136.000000</td>\n",
              "      <td>1.091394e-10</td>\n",
              "      <td>15952.402740</td>\n",
              "      <td>...</td>\n",
              "      <td>0.000000e+00</td>\n",
              "      <td>0.000000e+00</td>\n",
              "      <td>1.998383</td>\n",
              "      <td>136.000000</td>\n",
              "      <td>0.000002</td>\n",
              "      <td>136.000000</td>\n",
              "      <td>3.637979e-12</td>\n",
              "      <td>0.000000e+00</td>\n",
              "      <td>0.000000e+00</td>\n",
              "      <td>1.0</td>\n",
              "    </tr>\n",
              "    <tr>\n",
              "      <th>99997</th>\n",
              "      <td>7369.582520</td>\n",
              "      <td>136.000000</td>\n",
              "      <td>6.912160e-11</td>\n",
              "      <td>12287.328934</td>\n",
              "      <td>136.000000</td>\n",
              "      <td>1.236913e-10</td>\n",
              "      <td>36848.957020</td>\n",
              "      <td>136.000000</td>\n",
              "      <td>2.546585e-11</td>\n",
              "      <td>190476.617565</td>\n",
              "      <td>...</td>\n",
              "      <td>0.000000e+00</td>\n",
              "      <td>0.000000e+00</td>\n",
              "      <td>5.851634</td>\n",
              "      <td>136.000000</td>\n",
              "      <td>0.000003</td>\n",
              "      <td>136.000000</td>\n",
              "      <td>1.091394e-11</td>\n",
              "      <td>0.000000e+00</td>\n",
              "      <td>0.000000e+00</td>\n",
              "      <td>1.0</td>\n",
              "    </tr>\n",
              "    <tr>\n",
              "      <th>99998</th>\n",
              "      <td>7360.571878</td>\n",
              "      <td>136.000000</td>\n",
              "      <td>6.548362e-11</td>\n",
              "      <td>12267.682639</td>\n",
              "      <td>136.000000</td>\n",
              "      <td>1.891749e-10</td>\n",
              "      <td>36805.546583</td>\n",
              "      <td>136.000000</td>\n",
              "      <td>1.709850e-10</td>\n",
              "      <td>228023.544075</td>\n",
              "      <td>...</td>\n",
              "      <td>0.000000e+00</td>\n",
              "      <td>0.000000e+00</td>\n",
              "      <td>6.692805</td>\n",
              "      <td>136.000000</td>\n",
              "      <td>0.000002</td>\n",
              "      <td>136.000000</td>\n",
              "      <td>3.637979e-12</td>\n",
              "      <td>0.000000e+00</td>\n",
              "      <td>0.000000e+00</td>\n",
              "      <td>1.0</td>\n",
              "    </tr>\n",
              "  </tbody>\n",
              "</table>\n",
              "<p>99999 rows × 116 columns</p>\n",
              "</div>\n",
              "      <button class=\"colab-df-convert\" onclick=\"convertToInteractive('df-0afc6d9f-bc06-426c-9796-edb827eb2e51')\"\n",
              "              title=\"Convert this dataframe to an interactive table.\"\n",
              "              style=\"display:none;\">\n",
              "        \n",
              "  <svg xmlns=\"http://www.w3.org/2000/svg\" height=\"24px\"viewBox=\"0 0 24 24\"\n",
              "       width=\"24px\">\n",
              "    <path d=\"M0 0h24v24H0V0z\" fill=\"none\"/>\n",
              "    <path d=\"M18.56 5.44l.94 2.06.94-2.06 2.06-.94-2.06-.94-.94-2.06-.94 2.06-2.06.94zm-11 1L8.5 8.5l.94-2.06 2.06-.94-2.06-.94L8.5 2.5l-.94 2.06-2.06.94zm10 10l.94 2.06.94-2.06 2.06-.94-2.06-.94-.94-2.06-.94 2.06-2.06.94z\"/><path d=\"M17.41 7.96l-1.37-1.37c-.4-.4-.92-.59-1.43-.59-.52 0-1.04.2-1.43.59L10.3 9.45l-7.72 7.72c-.78.78-.78 2.05 0 2.83L4 21.41c.39.39.9.59 1.41.59.51 0 1.02-.2 1.41-.59l7.78-7.78 2.81-2.81c.8-.78.8-2.07 0-2.86zM5.41 20L4 18.59l7.72-7.72 1.47 1.35L5.41 20z\"/>\n",
              "  </svg>\n",
              "      </button>\n",
              "      \n",
              "  <style>\n",
              "    .colab-df-container {\n",
              "      display:flex;\n",
              "      flex-wrap:wrap;\n",
              "      gap: 12px;\n",
              "    }\n",
              "\n",
              "    .colab-df-convert {\n",
              "      background-color: #E8F0FE;\n",
              "      border: none;\n",
              "      border-radius: 50%;\n",
              "      cursor: pointer;\n",
              "      display: none;\n",
              "      fill: #1967D2;\n",
              "      height: 32px;\n",
              "      padding: 0 0 0 0;\n",
              "      width: 32px;\n",
              "    }\n",
              "\n",
              "    .colab-df-convert:hover {\n",
              "      background-color: #E2EBFA;\n",
              "      box-shadow: 0px 1px 2px rgba(60, 64, 67, 0.3), 0px 1px 3px 1px rgba(60, 64, 67, 0.15);\n",
              "      fill: #174EA6;\n",
              "    }\n",
              "\n",
              "    [theme=dark] .colab-df-convert {\n",
              "      background-color: #3B4455;\n",
              "      fill: #D2E3FC;\n",
              "    }\n",
              "\n",
              "    [theme=dark] .colab-df-convert:hover {\n",
              "      background-color: #434B5C;\n",
              "      box-shadow: 0px 1px 3px 1px rgba(0, 0, 0, 0.15);\n",
              "      filter: drop-shadow(0px 1px 2px rgba(0, 0, 0, 0.3));\n",
              "      fill: #FFFFFF;\n",
              "    }\n",
              "  </style>\n",
              "\n",
              "      <script>\n",
              "        const buttonEl =\n",
              "          document.querySelector('#df-0afc6d9f-bc06-426c-9796-edb827eb2e51 button.colab-df-convert');\n",
              "        buttonEl.style.display =\n",
              "          google.colab.kernel.accessAllowed ? 'block' : 'none';\n",
              "\n",
              "        async function convertToInteractive(key) {\n",
              "          const element = document.querySelector('#df-0afc6d9f-bc06-426c-9796-edb827eb2e51');\n",
              "          const dataTable =\n",
              "            await google.colab.kernel.invokeFunction('convertToInteractive',\n",
              "                                                     [key], {});\n",
              "          if (!dataTable) return;\n",
              "\n",
              "          const docLinkHtml = 'Like what you see? Visit the ' +\n",
              "            '<a target=\"_blank\" href=https://colab.research.google.com/notebooks/data_table.ipynb>data table notebook</a>'\n",
              "            + ' to learn more about interactive tables.';\n",
              "          element.innerHTML = '';\n",
              "          dataTable['output_type'] = 'display_data';\n",
              "          await google.colab.output.renderOutput(dataTable, element);\n",
              "          const docLink = document.createElement('div');\n",
              "          docLink.innerHTML = docLinkHtml;\n",
              "          element.appendChild(docLink);\n",
              "        }\n",
              "      </script>\n",
              "    </div>\n",
              "  </div>\n",
              "  "
            ]
          },
          "metadata": {},
          "execution_count": 7
        }
      ],
      "source": [
        "# sampling data taking only 50% of the data\n",
        "# bin_data = bin_data_total.groupby('label', group_keys=False).apply(lambda x: x.sample(frac=0.5))\n",
        "bin_data = bin_data_total\n",
        "bin_data"
      ]
    },
    {
      "cell_type": "code",
      "source": [
        "number_of_cols = bin_data.shape[1]"
      ],
      "metadata": {
        "id": "N125Cc3Ukt8h"
      },
      "execution_count": 8,
      "outputs": []
    },
    {
      "cell_type": "code",
      "execution_count": 9,
      "metadata": {
        "colab": {
          "base_uri": "https://localhost:8080/"
        },
        "id": "nKX2TRG0J85J",
        "outputId": "6afda865-625e-4be7-fa33-c016e4a44d6b"
      },
      "outputs": [
        {
          "output_type": "execute_result",
          "data": {
            "text/plain": [
              "0.0    0.626296\n",
              "1.0    0.373704\n",
              "Name: label, dtype: float64"
            ]
          },
          "metadata": {},
          "execution_count": 9
        }
      ],
      "source": [
        "# distribution of label class after sampling\n",
        "data_size = bin_data.shape[0]\n",
        "bin_data.label.value_counts()/data_size"
      ]
    },
    {
      "cell_type": "code",
      "execution_count": 10,
      "metadata": {
        "id": "L11T2MepDzax"
      },
      "outputs": [],
      "source": [
        "model_selection = {\n",
        "    0 : \"ALL\",\n",
        "    2 : \"MLP\",\n",
        "    3 : \"LSTM\",\n",
        "    4 : \"AE\"\n",
        "}\n",
        "model_flag = 0\n",
        "svm_enable = 1"
      ]
    },
    {
      "cell_type": "code",
      "execution_count": 11,
      "metadata": {
        "id": "OdRAXVlsxUVW"
      },
      "outputs": [],
      "source": [
        "X = bin_data.iloc[:,0:number_of_cols] # dataset excluding target attribute (encoded, one-hot-encoded,original)\n",
        "Y = bin_data['label'] # target attribute"
      ]
    },
    {
      "cell_type": "code",
      "execution_count": 12,
      "metadata": {
        "id": "lFdHHvRtxU5B"
      },
      "outputs": [],
      "source": [
        "# splitting the dataset 75% for training and 25% testing\n",
        "X_train, X_test, y_train, y_test = train_test_split(X,Y, test_size=0.25, random_state=42) "
      ]
    },
    {
      "cell_type": "code",
      "source": [
        "# calling the normalization() function\n",
        "X_train = normalization_train(X_train,numeric_cols)\n",
        "X_train.head()"
      ],
      "metadata": {
        "colab": {
          "base_uri": "https://localhost:8080/",
          "height": 386
        },
        "id": "SLLlMtsaYJdK",
        "outputId": "b4fb5156-a7c7-4ec4-a50a-787d1a6e350b"
      },
      "execution_count": 13,
      "outputs": [
        {
          "output_type": "execute_result",
          "data": {
            "text/plain": [
              "                 X1        X2            X3        X4        X5            X6  \\\n",
              "65134  8.892426e-01  0.055058  2.425533e-17  0.740503  0.055298  4.061345e-17   \n",
              "9928   1.356541e-07  0.000242  2.458986e-04  0.000002  0.005500  5.358381e-03   \n",
              "89685  9.942479e-01  0.055058  2.587235e-16  0.995183  0.055298  2.193126e-16   \n",
              "60954  8.644940e-03  0.476687  9.347206e-01  0.007630  0.478222  9.296712e-01   \n",
              "69188  9.182695e-01  0.055058  4.851065e-17  0.783560  0.055298  1.462084e-16   \n",
              "\n",
              "             X7        X8            X9       X10  ...      X107      X108  \\\n",
              "65134  0.366106  0.055783  2.453304e-16  0.070105  ...  0.463957  0.500171   \n",
              "9928   0.000061  0.155652  4.768510e-02  0.000116  ...  0.463957  0.500171   \n",
              "89685  0.982197  0.055783  7.032805e-16  0.530177  ...  0.463957  0.500171   \n",
              "60954  0.006678  0.479231  9.254017e-01  0.009315  ...  0.463957  0.500171   \n",
              "69188  0.403259  0.055783  4.988385e-16  0.079107  ...  0.463957  0.500171   \n",
              "\n",
              "           X109          X110          X111      X112          X113      X114  \\\n",
              "65134  0.000000  5.467626e-02  0.000000e+00  0.051524  0.000000e+00  0.729359   \n",
              "9928   0.000059  8.187895e-16  1.872965e-09  0.014604  4.961061e-18  0.729359   \n",
              "89685  0.000000  5.467626e-02  0.000000e+00  0.051524  0.000000e+00  0.729359   \n",
              "60954  0.475033  1.268288e-01  7.966811e-01  0.123917  6.347009e-01  0.729359   \n",
              "69188  0.000000  5.467626e-02  0.000000e+00  0.051524  0.000000e+00  0.729359   \n",
              "\n",
              "           X115  label  \n",
              "65134  0.807456    1.0  \n",
              "9928   0.807456    0.0  \n",
              "89685  0.807456    1.0  \n",
              "60954  0.807456    0.0  \n",
              "69188  0.807456    1.0  \n",
              "\n",
              "[5 rows x 116 columns]"
            ],
            "text/html": [
              "\n",
              "  <div id=\"df-396cd7a7-57de-4fd8-857d-105e84d96bba\">\n",
              "    <div class=\"colab-df-container\">\n",
              "      <div>\n",
              "<style scoped>\n",
              "    .dataframe tbody tr th:only-of-type {\n",
              "        vertical-align: middle;\n",
              "    }\n",
              "\n",
              "    .dataframe tbody tr th {\n",
              "        vertical-align: top;\n",
              "    }\n",
              "\n",
              "    .dataframe thead th {\n",
              "        text-align: right;\n",
              "    }\n",
              "</style>\n",
              "<table border=\"1\" class=\"dataframe\">\n",
              "  <thead>\n",
              "    <tr style=\"text-align: right;\">\n",
              "      <th></th>\n",
              "      <th>X1</th>\n",
              "      <th>X2</th>\n",
              "      <th>X3</th>\n",
              "      <th>X4</th>\n",
              "      <th>X5</th>\n",
              "      <th>X6</th>\n",
              "      <th>X7</th>\n",
              "      <th>X8</th>\n",
              "      <th>X9</th>\n",
              "      <th>X10</th>\n",
              "      <th>...</th>\n",
              "      <th>X107</th>\n",
              "      <th>X108</th>\n",
              "      <th>X109</th>\n",
              "      <th>X110</th>\n",
              "      <th>X111</th>\n",
              "      <th>X112</th>\n",
              "      <th>X113</th>\n",
              "      <th>X114</th>\n",
              "      <th>X115</th>\n",
              "      <th>label</th>\n",
              "    </tr>\n",
              "  </thead>\n",
              "  <tbody>\n",
              "    <tr>\n",
              "      <th>65134</th>\n",
              "      <td>8.892426e-01</td>\n",
              "      <td>0.055058</td>\n",
              "      <td>2.425533e-17</td>\n",
              "      <td>0.740503</td>\n",
              "      <td>0.055298</td>\n",
              "      <td>4.061345e-17</td>\n",
              "      <td>0.366106</td>\n",
              "      <td>0.055783</td>\n",
              "      <td>2.453304e-16</td>\n",
              "      <td>0.070105</td>\n",
              "      <td>...</td>\n",
              "      <td>0.463957</td>\n",
              "      <td>0.500171</td>\n",
              "      <td>0.000000</td>\n",
              "      <td>5.467626e-02</td>\n",
              "      <td>0.000000e+00</td>\n",
              "      <td>0.051524</td>\n",
              "      <td>0.000000e+00</td>\n",
              "      <td>0.729359</td>\n",
              "      <td>0.807456</td>\n",
              "      <td>1.0</td>\n",
              "    </tr>\n",
              "    <tr>\n",
              "      <th>9928</th>\n",
              "      <td>1.356541e-07</td>\n",
              "      <td>0.000242</td>\n",
              "      <td>2.458986e-04</td>\n",
              "      <td>0.000002</td>\n",
              "      <td>0.005500</td>\n",
              "      <td>5.358381e-03</td>\n",
              "      <td>0.000061</td>\n",
              "      <td>0.155652</td>\n",
              "      <td>4.768510e-02</td>\n",
              "      <td>0.000116</td>\n",
              "      <td>...</td>\n",
              "      <td>0.463957</td>\n",
              "      <td>0.500171</td>\n",
              "      <td>0.000059</td>\n",
              "      <td>8.187895e-16</td>\n",
              "      <td>1.872965e-09</td>\n",
              "      <td>0.014604</td>\n",
              "      <td>4.961061e-18</td>\n",
              "      <td>0.729359</td>\n",
              "      <td>0.807456</td>\n",
              "      <td>0.0</td>\n",
              "    </tr>\n",
              "    <tr>\n",
              "      <th>89685</th>\n",
              "      <td>9.942479e-01</td>\n",
              "      <td>0.055058</td>\n",
              "      <td>2.587235e-16</td>\n",
              "      <td>0.995183</td>\n",
              "      <td>0.055298</td>\n",
              "      <td>2.193126e-16</td>\n",
              "      <td>0.982197</td>\n",
              "      <td>0.055783</td>\n",
              "      <td>7.032805e-16</td>\n",
              "      <td>0.530177</td>\n",
              "      <td>...</td>\n",
              "      <td>0.463957</td>\n",
              "      <td>0.500171</td>\n",
              "      <td>0.000000</td>\n",
              "      <td>5.467626e-02</td>\n",
              "      <td>0.000000e+00</td>\n",
              "      <td>0.051524</td>\n",
              "      <td>0.000000e+00</td>\n",
              "      <td>0.729359</td>\n",
              "      <td>0.807456</td>\n",
              "      <td>1.0</td>\n",
              "    </tr>\n",
              "    <tr>\n",
              "      <th>60954</th>\n",
              "      <td>8.644940e-03</td>\n",
              "      <td>0.476687</td>\n",
              "      <td>9.347206e-01</td>\n",
              "      <td>0.007630</td>\n",
              "      <td>0.478222</td>\n",
              "      <td>9.296712e-01</td>\n",
              "      <td>0.006678</td>\n",
              "      <td>0.479231</td>\n",
              "      <td>9.254017e-01</td>\n",
              "      <td>0.009315</td>\n",
              "      <td>...</td>\n",
              "      <td>0.463957</td>\n",
              "      <td>0.500171</td>\n",
              "      <td>0.475033</td>\n",
              "      <td>1.268288e-01</td>\n",
              "      <td>7.966811e-01</td>\n",
              "      <td>0.123917</td>\n",
              "      <td>6.347009e-01</td>\n",
              "      <td>0.729359</td>\n",
              "      <td>0.807456</td>\n",
              "      <td>0.0</td>\n",
              "    </tr>\n",
              "    <tr>\n",
              "      <th>69188</th>\n",
              "      <td>9.182695e-01</td>\n",
              "      <td>0.055058</td>\n",
              "      <td>4.851065e-17</td>\n",
              "      <td>0.783560</td>\n",
              "      <td>0.055298</td>\n",
              "      <td>1.462084e-16</td>\n",
              "      <td>0.403259</td>\n",
              "      <td>0.055783</td>\n",
              "      <td>4.988385e-16</td>\n",
              "      <td>0.079107</td>\n",
              "      <td>...</td>\n",
              "      <td>0.463957</td>\n",
              "      <td>0.500171</td>\n",
              "      <td>0.000000</td>\n",
              "      <td>5.467626e-02</td>\n",
              "      <td>0.000000e+00</td>\n",
              "      <td>0.051524</td>\n",
              "      <td>0.000000e+00</td>\n",
              "      <td>0.729359</td>\n",
              "      <td>0.807456</td>\n",
              "      <td>1.0</td>\n",
              "    </tr>\n",
              "  </tbody>\n",
              "</table>\n",
              "<p>5 rows × 116 columns</p>\n",
              "</div>\n",
              "      <button class=\"colab-df-convert\" onclick=\"convertToInteractive('df-396cd7a7-57de-4fd8-857d-105e84d96bba')\"\n",
              "              title=\"Convert this dataframe to an interactive table.\"\n",
              "              style=\"display:none;\">\n",
              "        \n",
              "  <svg xmlns=\"http://www.w3.org/2000/svg\" height=\"24px\"viewBox=\"0 0 24 24\"\n",
              "       width=\"24px\">\n",
              "    <path d=\"M0 0h24v24H0V0z\" fill=\"none\"/>\n",
              "    <path d=\"M18.56 5.44l.94 2.06.94-2.06 2.06-.94-2.06-.94-.94-2.06-.94 2.06-2.06.94zm-11 1L8.5 8.5l.94-2.06 2.06-.94-2.06-.94L8.5 2.5l-.94 2.06-2.06.94zm10 10l.94 2.06.94-2.06 2.06-.94-2.06-.94-.94-2.06-.94 2.06-2.06.94z\"/><path d=\"M17.41 7.96l-1.37-1.37c-.4-.4-.92-.59-1.43-.59-.52 0-1.04.2-1.43.59L10.3 9.45l-7.72 7.72c-.78.78-.78 2.05 0 2.83L4 21.41c.39.39.9.59 1.41.59.51 0 1.02-.2 1.41-.59l7.78-7.78 2.81-2.81c.8-.78.8-2.07 0-2.86zM5.41 20L4 18.59l7.72-7.72 1.47 1.35L5.41 20z\"/>\n",
              "  </svg>\n",
              "      </button>\n",
              "      \n",
              "  <style>\n",
              "    .colab-df-container {\n",
              "      display:flex;\n",
              "      flex-wrap:wrap;\n",
              "      gap: 12px;\n",
              "    }\n",
              "\n",
              "    .colab-df-convert {\n",
              "      background-color: #E8F0FE;\n",
              "      border: none;\n",
              "      border-radius: 50%;\n",
              "      cursor: pointer;\n",
              "      display: none;\n",
              "      fill: #1967D2;\n",
              "      height: 32px;\n",
              "      padding: 0 0 0 0;\n",
              "      width: 32px;\n",
              "    }\n",
              "\n",
              "    .colab-df-convert:hover {\n",
              "      background-color: #E2EBFA;\n",
              "      box-shadow: 0px 1px 2px rgba(60, 64, 67, 0.3), 0px 1px 3px 1px rgba(60, 64, 67, 0.15);\n",
              "      fill: #174EA6;\n",
              "    }\n",
              "\n",
              "    [theme=dark] .colab-df-convert {\n",
              "      background-color: #3B4455;\n",
              "      fill: #D2E3FC;\n",
              "    }\n",
              "\n",
              "    [theme=dark] .colab-df-convert:hover {\n",
              "      background-color: #434B5C;\n",
              "      box-shadow: 0px 1px 3px 1px rgba(0, 0, 0, 0.15);\n",
              "      filter: drop-shadow(0px 1px 2px rgba(0, 0, 0, 0.3));\n",
              "      fill: #FFFFFF;\n",
              "    }\n",
              "  </style>\n",
              "\n",
              "      <script>\n",
              "        const buttonEl =\n",
              "          document.querySelector('#df-396cd7a7-57de-4fd8-857d-105e84d96bba button.colab-df-convert');\n",
              "        buttonEl.style.display =\n",
              "          google.colab.kernel.accessAllowed ? 'block' : 'none';\n",
              "\n",
              "        async function convertToInteractive(key) {\n",
              "          const element = document.querySelector('#df-396cd7a7-57de-4fd8-857d-105e84d96bba');\n",
              "          const dataTable =\n",
              "            await google.colab.kernel.invokeFunction('convertToInteractive',\n",
              "                                                     [key], {});\n",
              "          if (!dataTable) return;\n",
              "\n",
              "          const docLinkHtml = 'Like what you see? Visit the ' +\n",
              "            '<a target=\"_blank\" href=https://colab.research.google.com/notebooks/data_table.ipynb>data table notebook</a>'\n",
              "            + ' to learn more about interactive tables.';\n",
              "          element.innerHTML = '';\n",
              "          dataTable['output_type'] = 'display_data';\n",
              "          await google.colab.output.renderOutput(dataTable, element);\n",
              "          const docLink = document.createElement('div');\n",
              "          docLink.innerHTML = docLinkHtml;\n",
              "          element.appendChild(docLink);\n",
              "        }\n",
              "      </script>\n",
              "    </div>\n",
              "  </div>\n",
              "  "
            ]
          },
          "metadata": {},
          "execution_count": 13
        }
      ]
    },
    {
      "cell_type": "code",
      "source": [
        "# calling the normalization() function\n",
        "X_test = normalization_test(X_test,numeric_cols)\n",
        "X_test.head()"
      ],
      "metadata": {
        "colab": {
          "base_uri": "https://localhost:8080/",
          "height": 300
        },
        "id": "EKmhgZCobPU3",
        "outputId": "40163c6a-5722-4c2f-ace1-37a32db0cc76"
      },
      "execution_count": 14,
      "outputs": [
        {
          "output_type": "execute_result",
          "data": {
            "text/plain": [
              "                 X1            X2            X3            X4            X5  \\\n",
              "26002  5.295081e+07  1.654419e+08  1.452415e+10  9.190756e+07  1.607136e+08   \n",
              "80420  1.684686e+10  3.114160e+08  8.076888e-01  2.809656e+10  3.114160e+08   \n",
              "19864  4.780952e+07  1.373894e+08  8.074566e-01  8.336001e+07  1.373894e+08   \n",
              "81525  1.692996e+10  3.114160e+08  8.074722e-01  2.818977e+10  3.114160e+08   \n",
              "57878  1.249339e+08  3.220584e+09  7.382331e+10  1.986870e+08  3.215605e+09   \n",
              "\n",
              "                 X6            X7            X8            X9           X10  \\\n",
              "26002  1.212308e+10  2.803455e+08  1.542686e+08  8.650160e+09  2.833995e+09   \n",
              "80420  8.081136e-01  8.432902e+10  3.114160e+08  8.076805e-01  4.636051e+11   \n",
              "19864  8.074607e-01  2.747988e+08  1.373894e+08  4.401507e+01  2.902150e+09   \n",
              "81525  8.076471e-01  8.429960e+10  3.114160e+08  8.081719e-01  3.928678e+11   \n",
              "57878  7.921728e+10  5.984011e+08  3.215891e+09  8.445400e+10  6.124058e+09   \n",
              "\n",
              "       ...      X107      X108          X109          X110          X111  \\\n",
              "26002  ...  0.807442  0.793868  2.859616e+10  1.373894e+08  4.260261e+00   \n",
              "80420  ...  0.807456  0.807456  1.091227e+07  3.114160e+08  5.174947e+00   \n",
              "19864  ...  0.807445  0.796358  2.852034e+10  1.373894e+08  1.461868e+01   \n",
              "81525  ...  0.807456  0.807456  1.118715e+07  3.114160e+08  8.074555e-01   \n",
              "57878  ...  0.807468  0.818042  6.157898e+10  3.209433e+09  4.759132e+08   \n",
              "\n",
              "               X112          X113      X114      X115  label  \n",
              "26002  3.205788e+09  1.068963e+11  0.807445  0.774845    0.0  \n",
              "80420  3.114160e+08  8.074639e-01  0.807456  0.807456    1.0  \n",
              "19864  3.211082e+09  1.012635e+11  0.807369  0.739254    0.0  \n",
              "81525  3.114160e+08  8.074555e-01  0.807456  0.807456    1.0  \n",
              "57878  3.212372e+09  9.891302e+10  0.807435  0.795784    0.0  \n",
              "\n",
              "[5 rows x 116 columns]"
            ],
            "text/html": [
              "\n",
              "  <div id=\"df-827e25a9-014a-4500-be71-f90917746a30\">\n",
              "    <div class=\"colab-df-container\">\n",
              "      <div>\n",
              "<style scoped>\n",
              "    .dataframe tbody tr th:only-of-type {\n",
              "        vertical-align: middle;\n",
              "    }\n",
              "\n",
              "    .dataframe tbody tr th {\n",
              "        vertical-align: top;\n",
              "    }\n",
              "\n",
              "    .dataframe thead th {\n",
              "        text-align: right;\n",
              "    }\n",
              "</style>\n",
              "<table border=\"1\" class=\"dataframe\">\n",
              "  <thead>\n",
              "    <tr style=\"text-align: right;\">\n",
              "      <th></th>\n",
              "      <th>X1</th>\n",
              "      <th>X2</th>\n",
              "      <th>X3</th>\n",
              "      <th>X4</th>\n",
              "      <th>X5</th>\n",
              "      <th>X6</th>\n",
              "      <th>X7</th>\n",
              "      <th>X8</th>\n",
              "      <th>X9</th>\n",
              "      <th>X10</th>\n",
              "      <th>...</th>\n",
              "      <th>X107</th>\n",
              "      <th>X108</th>\n",
              "      <th>X109</th>\n",
              "      <th>X110</th>\n",
              "      <th>X111</th>\n",
              "      <th>X112</th>\n",
              "      <th>X113</th>\n",
              "      <th>X114</th>\n",
              "      <th>X115</th>\n",
              "      <th>label</th>\n",
              "    </tr>\n",
              "  </thead>\n",
              "  <tbody>\n",
              "    <tr>\n",
              "      <th>26002</th>\n",
              "      <td>5.295081e+07</td>\n",
              "      <td>1.654419e+08</td>\n",
              "      <td>1.452415e+10</td>\n",
              "      <td>9.190756e+07</td>\n",
              "      <td>1.607136e+08</td>\n",
              "      <td>1.212308e+10</td>\n",
              "      <td>2.803455e+08</td>\n",
              "      <td>1.542686e+08</td>\n",
              "      <td>8.650160e+09</td>\n",
              "      <td>2.833995e+09</td>\n",
              "      <td>...</td>\n",
              "      <td>0.807442</td>\n",
              "      <td>0.793868</td>\n",
              "      <td>2.859616e+10</td>\n",
              "      <td>1.373894e+08</td>\n",
              "      <td>4.260261e+00</td>\n",
              "      <td>3.205788e+09</td>\n",
              "      <td>1.068963e+11</td>\n",
              "      <td>0.807445</td>\n",
              "      <td>0.774845</td>\n",
              "      <td>0.0</td>\n",
              "    </tr>\n",
              "    <tr>\n",
              "      <th>80420</th>\n",
              "      <td>1.684686e+10</td>\n",
              "      <td>3.114160e+08</td>\n",
              "      <td>8.076888e-01</td>\n",
              "      <td>2.809656e+10</td>\n",
              "      <td>3.114160e+08</td>\n",
              "      <td>8.081136e-01</td>\n",
              "      <td>8.432902e+10</td>\n",
              "      <td>3.114160e+08</td>\n",
              "      <td>8.076805e-01</td>\n",
              "      <td>4.636051e+11</td>\n",
              "      <td>...</td>\n",
              "      <td>0.807456</td>\n",
              "      <td>0.807456</td>\n",
              "      <td>1.091227e+07</td>\n",
              "      <td>3.114160e+08</td>\n",
              "      <td>5.174947e+00</td>\n",
              "      <td>3.114160e+08</td>\n",
              "      <td>8.074639e-01</td>\n",
              "      <td>0.807456</td>\n",
              "      <td>0.807456</td>\n",
              "      <td>1.0</td>\n",
              "    </tr>\n",
              "    <tr>\n",
              "      <th>19864</th>\n",
              "      <td>4.780952e+07</td>\n",
              "      <td>1.373894e+08</td>\n",
              "      <td>8.074566e-01</td>\n",
              "      <td>8.336001e+07</td>\n",
              "      <td>1.373894e+08</td>\n",
              "      <td>8.074607e-01</td>\n",
              "      <td>2.747988e+08</td>\n",
              "      <td>1.373894e+08</td>\n",
              "      <td>4.401507e+01</td>\n",
              "      <td>2.902150e+09</td>\n",
              "      <td>...</td>\n",
              "      <td>0.807445</td>\n",
              "      <td>0.796358</td>\n",
              "      <td>2.852034e+10</td>\n",
              "      <td>1.373894e+08</td>\n",
              "      <td>1.461868e+01</td>\n",
              "      <td>3.211082e+09</td>\n",
              "      <td>1.012635e+11</td>\n",
              "      <td>0.807369</td>\n",
              "      <td>0.739254</td>\n",
              "      <td>0.0</td>\n",
              "    </tr>\n",
              "    <tr>\n",
              "      <th>81525</th>\n",
              "      <td>1.692996e+10</td>\n",
              "      <td>3.114160e+08</td>\n",
              "      <td>8.074722e-01</td>\n",
              "      <td>2.818977e+10</td>\n",
              "      <td>3.114160e+08</td>\n",
              "      <td>8.076471e-01</td>\n",
              "      <td>8.429960e+10</td>\n",
              "      <td>3.114160e+08</td>\n",
              "      <td>8.081719e-01</td>\n",
              "      <td>3.928678e+11</td>\n",
              "      <td>...</td>\n",
              "      <td>0.807456</td>\n",
              "      <td>0.807456</td>\n",
              "      <td>1.118715e+07</td>\n",
              "      <td>3.114160e+08</td>\n",
              "      <td>8.074555e-01</td>\n",
              "      <td>3.114160e+08</td>\n",
              "      <td>8.074555e-01</td>\n",
              "      <td>0.807456</td>\n",
              "      <td>0.807456</td>\n",
              "      <td>1.0</td>\n",
              "    </tr>\n",
              "    <tr>\n",
              "      <th>57878</th>\n",
              "      <td>1.249339e+08</td>\n",
              "      <td>3.220584e+09</td>\n",
              "      <td>7.382331e+10</td>\n",
              "      <td>1.986870e+08</td>\n",
              "      <td>3.215605e+09</td>\n",
              "      <td>7.921728e+10</td>\n",
              "      <td>5.984011e+08</td>\n",
              "      <td>3.215891e+09</td>\n",
              "      <td>8.445400e+10</td>\n",
              "      <td>6.124058e+09</td>\n",
              "      <td>...</td>\n",
              "      <td>0.807468</td>\n",
              "      <td>0.818042</td>\n",
              "      <td>6.157898e+10</td>\n",
              "      <td>3.209433e+09</td>\n",
              "      <td>4.759132e+08</td>\n",
              "      <td>3.212372e+09</td>\n",
              "      <td>9.891302e+10</td>\n",
              "      <td>0.807435</td>\n",
              "      <td>0.795784</td>\n",
              "      <td>0.0</td>\n",
              "    </tr>\n",
              "  </tbody>\n",
              "</table>\n",
              "<p>5 rows × 116 columns</p>\n",
              "</div>\n",
              "      <button class=\"colab-df-convert\" onclick=\"convertToInteractive('df-827e25a9-014a-4500-be71-f90917746a30')\"\n",
              "              title=\"Convert this dataframe to an interactive table.\"\n",
              "              style=\"display:none;\">\n",
              "        \n",
              "  <svg xmlns=\"http://www.w3.org/2000/svg\" height=\"24px\"viewBox=\"0 0 24 24\"\n",
              "       width=\"24px\">\n",
              "    <path d=\"M0 0h24v24H0V0z\" fill=\"none\"/>\n",
              "    <path d=\"M18.56 5.44l.94 2.06.94-2.06 2.06-.94-2.06-.94-.94-2.06-.94 2.06-2.06.94zm-11 1L8.5 8.5l.94-2.06 2.06-.94-2.06-.94L8.5 2.5l-.94 2.06-2.06.94zm10 10l.94 2.06.94-2.06 2.06-.94-2.06-.94-.94-2.06-.94 2.06-2.06.94z\"/><path d=\"M17.41 7.96l-1.37-1.37c-.4-.4-.92-.59-1.43-.59-.52 0-1.04.2-1.43.59L10.3 9.45l-7.72 7.72c-.78.78-.78 2.05 0 2.83L4 21.41c.39.39.9.59 1.41.59.51 0 1.02-.2 1.41-.59l7.78-7.78 2.81-2.81c.8-.78.8-2.07 0-2.86zM5.41 20L4 18.59l7.72-7.72 1.47 1.35L5.41 20z\"/>\n",
              "  </svg>\n",
              "      </button>\n",
              "      \n",
              "  <style>\n",
              "    .colab-df-container {\n",
              "      display:flex;\n",
              "      flex-wrap:wrap;\n",
              "      gap: 12px;\n",
              "    }\n",
              "\n",
              "    .colab-df-convert {\n",
              "      background-color: #E8F0FE;\n",
              "      border: none;\n",
              "      border-radius: 50%;\n",
              "      cursor: pointer;\n",
              "      display: none;\n",
              "      fill: #1967D2;\n",
              "      height: 32px;\n",
              "      padding: 0 0 0 0;\n",
              "      width: 32px;\n",
              "    }\n",
              "\n",
              "    .colab-df-convert:hover {\n",
              "      background-color: #E2EBFA;\n",
              "      box-shadow: 0px 1px 2px rgba(60, 64, 67, 0.3), 0px 1px 3px 1px rgba(60, 64, 67, 0.15);\n",
              "      fill: #174EA6;\n",
              "    }\n",
              "\n",
              "    [theme=dark] .colab-df-convert {\n",
              "      background-color: #3B4455;\n",
              "      fill: #D2E3FC;\n",
              "    }\n",
              "\n",
              "    [theme=dark] .colab-df-convert:hover {\n",
              "      background-color: #434B5C;\n",
              "      box-shadow: 0px 1px 3px 1px rgba(0, 0, 0, 0.15);\n",
              "      filter: drop-shadow(0px 1px 2px rgba(0, 0, 0, 0.3));\n",
              "      fill: #FFFFFF;\n",
              "    }\n",
              "  </style>\n",
              "\n",
              "      <script>\n",
              "        const buttonEl =\n",
              "          document.querySelector('#df-827e25a9-014a-4500-be71-f90917746a30 button.colab-df-convert');\n",
              "        buttonEl.style.display =\n",
              "          google.colab.kernel.accessAllowed ? 'block' : 'none';\n",
              "\n",
              "        async function convertToInteractive(key) {\n",
              "          const element = document.querySelector('#df-827e25a9-014a-4500-be71-f90917746a30');\n",
              "          const dataTable =\n",
              "            await google.colab.kernel.invokeFunction('convertToInteractive',\n",
              "                                                     [key], {});\n",
              "          if (!dataTable) return;\n",
              "\n",
              "          const docLinkHtml = 'Like what you see? Visit the ' +\n",
              "            '<a target=\"_blank\" href=https://colab.research.google.com/notebooks/data_table.ipynb>data table notebook</a>'\n",
              "            + ' to learn more about interactive tables.';\n",
              "          element.innerHTML = '';\n",
              "          dataTable['output_type'] = 'display_data';\n",
              "          await google.colab.output.renderOutput(dataTable, element);\n",
              "          const docLink = document.createElement('div');\n",
              "          docLink.innerHTML = docLinkHtml;\n",
              "          element.appendChild(docLink);\n",
              "        }\n",
              "      </script>\n",
              "    </div>\n",
              "  </div>\n",
              "  "
            ]
          },
          "metadata": {},
          "execution_count": 14
        }
      ]
    },
    {
      "cell_type": "markdown",
      "metadata": {
        "id": "ZfAbEIDgz4iY"
      },
      "source": [
        "## **Linear Support Vector Machine Classifier (Binary Classification) **\n",
        "to enable make the svm_enable = 1 in the above cell"
      ]
    },
    {
      "cell_type": "code",
      "execution_count": 15,
      "metadata": {
        "id": "o8GdMBjdzFQT"
      },
      "outputs": [],
      "source": [
        "if svm_enable:\n",
        "  # using kernel as linear \n",
        "  lsvm = SVC(kernel='linear',gamma='auto') \n",
        "  lsvm.fit(X_train,y_train) # training model on training dataset"
      ]
    },
    {
      "cell_type": "code",
      "execution_count": 16,
      "metadata": {
        "id": "NjfYZA_9zTNK",
        "colab": {
          "base_uri": "https://localhost:8080/"
        },
        "outputId": "ed8fd0d0-37b0-45a5-90e9-f96a3fb3f277"
      },
      "outputs": [
        {
          "output_type": "stream",
          "name": "stdout",
          "text": [
            "Saved model to disk\n",
            "Loaded model from disk\n"
          ]
        }
      ],
      "source": [
        "if svm_enable:\n",
        "  pkl_filename = \"/content/drive/MyDrive/Colab_Notebooks/Models/lsvm_binary\"+model_name_suffix+\".pkl\"\n",
        "  if (not path.isfile(pkl_filename)):\n",
        "    # saving the trained model to disk\n",
        "    with open(pkl_filename, 'wb') as file:\n",
        "      pickle.dump(lsvm, file)\n",
        "    print(\"Saved model to disk\")\n",
        "    # loading the trained model from disk\n",
        "    with open(pkl_filename, 'rb') as file:\n",
        "      lsvm = pickle.load(file)\n",
        "    print(\"Loaded model from disk\") "
      ]
    },
    {
      "cell_type": "code",
      "execution_count": 17,
      "metadata": {
        "id": "xsnN51Juzgcf",
        "colab": {
          "base_uri": "https://localhost:8080/"
        },
        "outputId": "217bfb60-0643-4cae-9327-0bcbf958c5fc"
      },
      "outputs": [
        {
          "output_type": "stream",
          "name": "stdout",
          "text": [
            "LSVM-Classifier Binary Set-Accuracy is  47.327999999999996\n"
          ]
        }
      ],
      "source": [
        "if svm_enable:\n",
        "  y_pred = lsvm.predict(X_test) # predicting target attribute on testing dataset\n",
        "  ac = accuracy_score(y_test, y_pred)*100 # calculating accuracy of predicted data\n",
        "  print(\"LSVM-Classifier Binary Set-Accuracy is \", ac)"
      ]
    },
    {
      "cell_type": "code",
      "execution_count": 18,
      "metadata": {
        "id": "qg2gbJTg8NtL"
      },
      "outputs": [],
      "source": [
        "# import matplotlib.pyplot as plt\n",
        "# from sklearn.datasets import make_classification\n",
        "# from sklearn.metrics import confusion_matrix, ConfusionMatrixDisplay\n",
        "# from sklearn.model_selection import train_test_split\n",
        "# from sklearn.svm import SVC\n",
        "# X, y = make_classification(random_state=0)\n",
        "# X_train, X_test, y_train, y_test = train_test_split(X, y,\n",
        "#                                                     random_state=0)\n",
        "# cm = confusion_matrix(y_test, y_pred, labels=lsvm.classes_)\n",
        "# disp = ConfusionMatrixDisplay(confusion_matrix=cm,\n",
        "#                               display_labels=lsvm.classes_)\n",
        "# disp.plot()\n",
        "\n",
        "# plt.show()"
      ]
    },
    {
      "cell_type": "code",
      "execution_count": 19,
      "metadata": {
        "id": "9IydNlzT5kx6",
        "colab": {
          "base_uri": "https://localhost:8080/",
          "height": 587
        },
        "outputId": "d6e15ffc-c869-4b43-a24a-dc0dede83531"
      },
      "outputs": [
        {
          "output_type": "display_data",
          "data": {
            "text/plain": [
              "<Figure size 2000x800 with 1 Axes>"
            ],
            "image/png": "[encoded data removed]"
          },
          "metadata": {}
        }
      ],
      "source": [
        "if svm_enable:\n",
        "  plt.figure(figsize=(20,8))\n",
        "  plt.plot(y_pred[300:500], label=\"prediction\", linewidth=2.0,color='blue')\n",
        "  plt.plot(y_test[300:500].values, label=\"real_values\", linewidth=2.0,color='lightcoral')\n",
        "  plt.legend(loc=\"best\")\n",
        "  plt.ylim((-1,2))\n",
        "  plt.title(\"Linear SVM Binary Classification\")\n",
        "  plt.savefig('/content/drive/MyDrive/Colab_Notebooks/Plots/lsvm_real_pred_bin.png')\n",
        "  plt.show()"
      ]
    },
    {
      "cell_type": "code",
      "execution_count": 20,
      "metadata": {
        "id": "s9lqoveaUBvg",
        "colab": {
          "base_uri": "https://localhost:8080/"
        },
        "outputId": "00237115-f15c-46c5-ab58-bd767b39a1e3"
      },
      "outputs": [
        {
          "output_type": "stream",
          "name": "stdout",
          "text": [
            "              precision    recall  f1-score   support\n",
            "\n",
            "     class 0       1.00      0.16      0.28     15701\n",
            "     class 1       0.41      1.00      0.59      9299\n",
            "\n",
            "    accuracy                           0.47     25000\n",
            "   macro avg       0.71      0.58      0.43     25000\n",
            "weighted avg       0.78      0.47      0.39     25000\n",
            "\n"
          ]
        }
      ],
      "source": [
        "if svm_enable:\n",
        "  target_names = ['class 0', 'class 1']\n",
        "  print(classification_report(y_test, y_pred, target_names=target_names))"
      ]
    },
    {
      "cell_type": "code",
      "execution_count": 21,
      "metadata": {
        "id": "kWxBZhnw9t5n",
        "colab": {
          "base_uri": "https://localhost:8080/",
          "height": 449
        },
        "outputId": "148b3203-ea17-477f-bc36-a0a381a54b94"
      },
      "outputs": [
        {
          "output_type": "display_data",
          "data": {
            "text/plain": [
              "<Figure size 640x480 with 2 Axes>"
            ],
            "image/png": "[encoded data removed]"
          },
          "metadata": {}
        }
      ],
      "source": [
        "if svm_enable:\n",
        "  from sklearn.metrics import confusion_matrix, ConfusionMatrixDisplay\n",
        "\n",
        "  clf = lsvm\n",
        "  cm = confusion_matrix(y_test, y_pred, labels=clf.classes_)\n",
        "  disp = ConfusionMatrixDisplay(confusion_matrix=cm,\n",
        "                                display_labels=clf.classes_)\n",
        "  disp.plot()\n",
        "\n",
        "  plt.show()"
      ]
    },
    {
      "cell_type": "markdown",
      "metadata": {
        "id": "PUjrwY2l0_RI"
      },
      "source": [
        "## **Multi Layer Perceptron Classifier (Binary Classification)**"
      ]
    },
    {
      "cell_type": "code",
      "execution_count": 22,
      "metadata": {
        "id": "u9v5Ylpa1DHY"
      },
      "outputs": [],
      "source": [
        "if model_selection[model_flag]==\"ALL\" or model_selection[model_flag] == \"MLP\":\n",
        "  mlp = Sequential() # creating model\n",
        "\n",
        "  # adding input layer and first layer with 50 neurons\n",
        "  mlp.add(Dense(units=50, input_dim=X_train.shape[1], activation='relu'))\n",
        "  # output layer with sigmoid activation\n",
        "  mlp.add(Dense(units=1,activation='sigmoid'))"
      ]
    },
    {
      "cell_type": "code",
      "execution_count": 23,
      "metadata": {
        "id": "E-9M9d0p1p8s"
      },
      "outputs": [],
      "source": [
        "if model_selection[model_flag]==\"ALL\" or model_selection[model_flag] == \"MLP\":\n",
        "  # defining loss function, optimizer, metrics and then compiling model\n",
        "  mlp.compile(loss='binary_crossentropy', optimizer='adam', metrics=['accuracy'])"
      ]
    },
    {
      "cell_type": "code",
      "execution_count": 24,
      "metadata": {
        "id": "NK-1_akm1vO9",
        "colab": {
          "base_uri": "https://localhost:8080/"
        },
        "outputId": "a7196d8e-f13c-4193-b9d5-44bd809ccff4"
      },
      "outputs": [
        {
          "output_type": "stream",
          "name": "stdout",
          "text": [
            "Model: \"sequential\"\n",
            "_________________________________________________________________\n",
            " Layer (type)                Output Shape              Param #   \n",
            "=================================================================\n",
            " dense (Dense)               (None, 50)                5850      \n",
            "                                                                 \n",
            " dense_1 (Dense)             (None, 1)                 51        \n",
            "                                                                 \n",
            "=================================================================\n",
            "Total params: 5,901\n",
            "Trainable params: 5,901\n",
            "Non-trainable params: 0\n",
            "_________________________________________________________________\n"
          ]
        }
      ],
      "source": [
        "if model_selection[model_flag]==\"ALL\" or model_selection[model_flag] == \"MLP\":\n",
        "  # summary of model layers\n",
        "  mlp.summary()"
      ]
    },
    {
      "cell_type": "code",
      "execution_count": 25,
      "metadata": {
        "id": "UYZ4xCgp13gP",
        "colab": {
          "base_uri": "https://localhost:8080/"
        },
        "outputId": "eb5e38d1-eef5-481e-9aee-1a9757eb4666"
      },
      "outputs": [
        {
          "output_type": "stream",
          "name": "stdout",
          "text": [
            "Epoch 1/100\n",
            "12/12 [==============================] - 5s 30ms/step - loss: 0.5411 - accuracy: 0.7799 - val_loss: 0.3103 - val_accuracy: 0.9900\n",
            "Epoch 2/100\n",
            "12/12 [==============================] - 0s 10ms/step - loss: 0.2136 - accuracy: 0.9904 - val_loss: 0.1328 - val_accuracy: 0.9907\n",
            "Epoch 3/100\n",
            "12/12 [==============================] - 0s 10ms/step - loss: 0.1014 - accuracy: 0.9910 - val_loss: 0.0753 - val_accuracy: 0.9911\n",
            "Epoch 4/100\n",
            "12/12 [==============================] - 0s 9ms/step - loss: 0.0644 - accuracy: 0.9914 - val_loss: 0.0549 - val_accuracy: 0.9919\n",
            "Epoch 5/100\n",
            "12/12 [==============================] - 0s 10ms/step - loss: 0.0502 - accuracy: 0.9920 - val_loss: 0.0460 - val_accuracy: 0.9922\n",
            "Epoch 6/100\n",
            "12/12 [==============================] - 0s 10ms/step - loss: 0.0434 - accuracy: 0.9924 - val_loss: 0.0412 - val_accuracy: 0.9927\n",
            "Epoch 7/100\n",
            "12/12 [==============================] - 0s 10ms/step - loss: 0.0395 - accuracy: 0.9928 - val_loss: 0.0381 - val_accuracy: 0.9931\n",
            "Epoch 8/100\n",
            "12/12 [==============================] - 0s 10ms/step - loss: 0.0367 - accuracy: 0.9931 - val_loss: 0.0358 - val_accuracy: 0.9933\n",
            "Epoch 9/100\n",
            "12/12 [==============================] - 0s 10ms/step - loss: 0.0345 - accuracy: 0.9934 - val_loss: 0.0338 - val_accuracy: 0.9935\n",
            "Epoch 10/100\n",
            "12/12 [==============================] - 0s 9ms/step - loss: 0.0326 - accuracy: 0.9935 - val_loss: 0.0322 - val_accuracy: 0.9935\n",
            "Epoch 11/100\n",
            "12/12 [==============================] - 0s 9ms/step - loss: 0.0309 - accuracy: 0.9938 - val_loss: 0.0306 - val_accuracy: 0.9937\n",
            "Epoch 12/100\n",
            "12/12 [==============================] - 0s 9ms/step - loss: 0.0294 - accuracy: 0.9938 - val_loss: 0.0292 - val_accuracy: 0.9936\n",
            "Epoch 13/100\n",
            "12/12 [==============================] - 0s 10ms/step - loss: 0.0278 - accuracy: 0.9938 - val_loss: 0.0278 - val_accuracy: 0.9936\n",
            "Epoch 14/100\n",
            "12/12 [==============================] - 0s 10ms/step - loss: 0.0263 - accuracy: 0.9939 - val_loss: 0.0264 - val_accuracy: 0.9937\n",
            "Epoch 15/100\n",
            "12/12 [==============================] - 0s 9ms/step - loss: 0.0250 - accuracy: 0.9939 - val_loss: 0.0251 - val_accuracy: 0.9937\n",
            "Epoch 16/100\n",
            "12/12 [==============================] - 0s 9ms/step - loss: 0.0236 - accuracy: 0.9940 - val_loss: 0.0239 - val_accuracy: 0.9938\n",
            "Epoch 17/100\n",
            "12/12 [==============================] - 0s 10ms/step - loss: 0.0223 - accuracy: 0.9940 - val_loss: 0.0227 - val_accuracy: 0.9938\n",
            "Epoch 18/100\n",
            "12/12 [==============================] - 0s 9ms/step - loss: 0.0211 - accuracy: 0.9940 - val_loss: 0.0216 - val_accuracy: 0.9938\n",
            "Epoch 19/100\n",
            "12/12 [==============================] - 0s 9ms/step - loss: 0.0200 - accuracy: 0.9943 - val_loss: 0.0207 - val_accuracy: 0.9940\n",
            "Epoch 20/100\n",
            "12/12 [==============================] - 0s 10ms/step - loss: 0.0191 - accuracy: 0.9949 - val_loss: 0.0199 - val_accuracy: 0.9945\n",
            "Epoch 21/100\n",
            "12/12 [==============================] - 0s 10ms/step - loss: 0.0184 - accuracy: 0.9956 - val_loss: 0.0192 - val_accuracy: 0.9952\n",
            "Epoch 22/100\n",
            "12/12 [==============================] - 0s 10ms/step - loss: 0.0178 - accuracy: 0.9959 - val_loss: 0.0186 - val_accuracy: 0.9953\n",
            "Epoch 23/100\n",
            "12/12 [==============================] - 0s 9ms/step - loss: 0.0172 - accuracy: 0.9962 - val_loss: 0.0181 - val_accuracy: 0.9955\n",
            "Epoch 24/100\n",
            "12/12 [==============================] - 0s 10ms/step - loss: 0.0168 - accuracy: 0.9963 - val_loss: 0.0177 - val_accuracy: 0.9957\n",
            "Epoch 25/100\n",
            "12/12 [==============================] - 0s 9ms/step - loss: 0.0164 - accuracy: 0.9963 - val_loss: 0.0173 - val_accuracy: 0.9958\n",
            "Epoch 26/100\n",
            "12/12 [==============================] - 0s 10ms/step - loss: 0.0160 - accuracy: 0.9963 - val_loss: 0.0169 - val_accuracy: 0.9959\n",
            "Epoch 27/100\n",
            "12/12 [==============================] - 0s 9ms/step - loss: 0.0157 - accuracy: 0.9964 - val_loss: 0.0166 - val_accuracy: 0.9960\n",
            "Epoch 28/100\n",
            "12/12 [==============================] - 0s 11ms/step - loss: 0.0154 - accuracy: 0.9964 - val_loss: 0.0163 - val_accuracy: 0.9960\n",
            "Epoch 29/100\n",
            "12/12 [==============================] - 0s 10ms/step - loss: 0.0152 - accuracy: 0.9964 - val_loss: 0.0159 - val_accuracy: 0.9960\n",
            "Epoch 30/100\n",
            "12/12 [==============================] - 0s 9ms/step - loss: 0.0149 - accuracy: 0.9964 - val_loss: 0.0157 - val_accuracy: 0.9961\n",
            "Epoch 31/100\n",
            "12/12 [==============================] - 0s 10ms/step - loss: 0.0146 - accuracy: 0.9963 - val_loss: 0.0153 - val_accuracy: 0.9961\n",
            "Epoch 32/100\n",
            "12/12 [==============================] - 0s 10ms/step - loss: 0.0143 - accuracy: 0.9963 - val_loss: 0.0150 - val_accuracy: 0.9961\n",
            "Epoch 33/100\n",
            "12/12 [==============================] - 0s 9ms/step - loss: 0.0140 - accuracy: 0.9964 - val_loss: 0.0147 - val_accuracy: 0.9961\n",
            "Epoch 34/100\n",
            "12/12 [==============================] - 0s 10ms/step - loss: 0.0137 - accuracy: 0.9964 - val_loss: 0.0144 - val_accuracy: 0.9961\n",
            "Epoch 35/100\n",
            "12/12 [==============================] - 0s 10ms/step - loss: 0.0135 - accuracy: 0.9964 - val_loss: 0.0142 - val_accuracy: 0.9963\n",
            "Epoch 36/100\n",
            "12/12 [==============================] - 0s 13ms/step - loss: 0.0132 - accuracy: 0.9964 - val_loss: 0.0139 - val_accuracy: 0.9961\n",
            "Epoch 37/100\n",
            "12/12 [==============================] - 0s 14ms/step - loss: 0.0130 - accuracy: 0.9964 - val_loss: 0.0137 - val_accuracy: 0.9963\n",
            "Epoch 38/100\n",
            "12/12 [==============================] - 0s 13ms/step - loss: 0.0128 - accuracy: 0.9965 - val_loss: 0.0134 - val_accuracy: 0.9963\n",
            "Epoch 39/100\n",
            "12/12 [==============================] - 0s 13ms/step - loss: 0.0125 - accuracy: 0.9965 - val_loss: 0.0131 - val_accuracy: 0.9963\n",
            "Epoch 40/100\n",
            "12/12 [==============================] - 0s 13ms/step - loss: 0.0123 - accuracy: 0.9965 - val_loss: 0.0129 - val_accuracy: 0.9963\n",
            "Epoch 41/100\n",
            "12/12 [==============================] - 0s 14ms/step - loss: 0.0120 - accuracy: 0.9965 - val_loss: 0.0126 - val_accuracy: 0.9963\n",
            "Epoch 42/100\n",
            "12/12 [==============================] - 0s 12ms/step - loss: 0.0118 - accuracy: 0.9966 - val_loss: 0.0123 - val_accuracy: 0.9963\n",
            "Epoch 43/100\n",
            "12/12 [==============================] - 0s 14ms/step - loss: 0.0115 - accuracy: 0.9966 - val_loss: 0.0121 - val_accuracy: 0.9963\n",
            "Epoch 44/100\n",
            "12/12 [==============================] - 0s 15ms/step - loss: 0.0113 - accuracy: 0.9966 - val_loss: 0.0118 - val_accuracy: 0.9963\n",
            "Epoch 45/100\n",
            "12/12 [==============================] - 0s 13ms/step - loss: 0.0111 - accuracy: 0.9966 - val_loss: 0.0116 - val_accuracy: 0.9963\n",
            "Epoch 46/100\n",
            "12/12 [==============================] - 0s 13ms/step - loss: 0.0108 - accuracy: 0.9967 - val_loss: 0.0113 - val_accuracy: 0.9963\n",
            "Epoch 47/100\n",
            "12/12 [==============================] - 0s 16ms/step - loss: 0.0106 - accuracy: 0.9967 - val_loss: 0.0111 - val_accuracy: 0.9963\n",
            "Epoch 48/100\n",
            "12/12 [==============================] - 0s 18ms/step - loss: 0.0103 - accuracy: 0.9967 - val_loss: 0.0108 - val_accuracy: 0.9963\n",
            "Epoch 49/100\n",
            "12/12 [==============================] - 0s 13ms/step - loss: 0.0101 - accuracy: 0.9967 - val_loss: 0.0105 - val_accuracy: 0.9964\n",
            "Epoch 50/100\n",
            "12/12 [==============================] - 0s 12ms/step - loss: 0.0099 - accuracy: 0.9968 - val_loss: 0.0103 - val_accuracy: 0.9964\n",
            "Epoch 51/100\n",
            "12/12 [==============================] - 0s 13ms/step - loss: 0.0096 - accuracy: 0.9969 - val_loss: 0.0100 - val_accuracy: 0.9965\n",
            "Epoch 52/100\n",
            "12/12 [==============================] - 0s 13ms/step - loss: 0.0094 - accuracy: 0.9969 - val_loss: 0.0097 - val_accuracy: 0.9965\n",
            "Epoch 53/100\n",
            "12/12 [==============================] - 0s 14ms/step - loss: 0.0091 - accuracy: 0.9969 - val_loss: 0.0095 - val_accuracy: 0.9965\n",
            "Epoch 54/100\n",
            "12/12 [==============================] - 0s 13ms/step - loss: 0.0089 - accuracy: 0.9969 - val_loss: 0.0092 - val_accuracy: 0.9966\n",
            "Epoch 55/100\n",
            "12/12 [==============================] - 0s 12ms/step - loss: 0.0086 - accuracy: 0.9969 - val_loss: 0.0090 - val_accuracy: 0.9966\n",
            "Epoch 56/100\n",
            "12/12 [==============================] - 0s 13ms/step - loss: 0.0084 - accuracy: 0.9970 - val_loss: 0.0087 - val_accuracy: 0.9967\n",
            "Epoch 57/100\n",
            "12/12 [==============================] - 0s 13ms/step - loss: 0.0082 - accuracy: 0.9970 - val_loss: 0.0084 - val_accuracy: 0.9967\n",
            "Epoch 58/100\n",
            "12/12 [==============================] - 0s 13ms/step - loss: 0.0079 - accuracy: 0.9970 - val_loss: 0.0082 - val_accuracy: 0.9967\n",
            "Epoch 59/100\n",
            "12/12 [==============================] - 0s 14ms/step - loss: 0.0077 - accuracy: 0.9970 - val_loss: 0.0079 - val_accuracy: 0.9967\n",
            "Epoch 60/100\n",
            "12/12 [==============================] - 0s 13ms/step - loss: 0.0074 - accuracy: 0.9971 - val_loss: 0.0077 - val_accuracy: 0.9967\n",
            "Epoch 61/100\n",
            "12/12 [==============================] - 0s 12ms/step - loss: 0.0072 - accuracy: 0.9972 - val_loss: 0.0074 - val_accuracy: 0.9968\n",
            "Epoch 62/100\n",
            "12/12 [==============================] - 0s 10ms/step - loss: 0.0070 - accuracy: 0.9971 - val_loss: 0.0072 - val_accuracy: 0.9968\n",
            "Epoch 63/100\n",
            "12/12 [==============================] - 0s 9ms/step - loss: 0.0067 - accuracy: 0.9972 - val_loss: 0.0069 - val_accuracy: 0.9969\n",
            "Epoch 64/100\n",
            "12/12 [==============================] - 0s 9ms/step - loss: 0.0065 - accuracy: 0.9972 - val_loss: 0.0067 - val_accuracy: 0.9969\n",
            "Epoch 65/100\n",
            "12/12 [==============================] - 0s 10ms/step - loss: 0.0063 - accuracy: 0.9972 - val_loss: 0.0065 - val_accuracy: 0.9970\n",
            "Epoch 66/100\n",
            "12/12 [==============================] - 0s 9ms/step - loss: 0.0060 - accuracy: 0.9972 - val_loss: 0.0062 - val_accuracy: 0.9970\n",
            "Epoch 67/100\n",
            "12/12 [==============================] - 0s 9ms/step - loss: 0.0058 - accuracy: 0.9972 - val_loss: 0.0060 - val_accuracy: 0.9970\n",
            "Epoch 68/100\n",
            "12/12 [==============================] - 0s 10ms/step - loss: 0.0056 - accuracy: 0.9972 - val_loss: 0.0058 - val_accuracy: 0.9970\n",
            "Epoch 69/100\n",
            "12/12 [==============================] - 0s 9ms/step - loss: 0.0054 - accuracy: 0.9973 - val_loss: 0.0056 - val_accuracy: 0.9970\n",
            "Epoch 70/100\n",
            "12/12 [==============================] - 0s 10ms/step - loss: 0.0052 - accuracy: 0.9973 - val_loss: 0.0054 - val_accuracy: 0.9970\n",
            "Epoch 71/100\n",
            "12/12 [==============================] - 0s 10ms/step - loss: 0.0051 - accuracy: 0.9973 - val_loss: 0.0052 - val_accuracy: 0.9970\n",
            "Epoch 72/100\n",
            "12/12 [==============================] - 0s 9ms/step - loss: 0.0049 - accuracy: 0.9973 - val_loss: 0.0050 - val_accuracy: 0.9970\n",
            "Epoch 73/100\n",
            "12/12 [==============================] - 0s 10ms/step - loss: 0.0047 - accuracy: 0.9973 - val_loss: 0.0048 - val_accuracy: 0.9972\n",
            "Epoch 74/100\n",
            "12/12 [==============================] - 0s 9ms/step - loss: 0.0045 - accuracy: 0.9975 - val_loss: 0.0046 - val_accuracy: 0.9972\n",
            "Epoch 75/100\n",
            "12/12 [==============================] - 0s 10ms/step - loss: 0.0043 - accuracy: 0.9975 - val_loss: 0.0045 - val_accuracy: 0.9972\n",
            "Epoch 76/100\n",
            "12/12 [==============================] - 0s 9ms/step - loss: 0.0042 - accuracy: 0.9975 - val_loss: 0.0043 - val_accuracy: 0.9973\n",
            "Epoch 77/100\n",
            "12/12 [==============================] - 0s 10ms/step - loss: 0.0040 - accuracy: 0.9975 - val_loss: 0.0041 - val_accuracy: 0.9973\n",
            "Epoch 78/100\n",
            "12/12 [==============================] - 0s 10ms/step - loss: 0.0039 - accuracy: 0.9976 - val_loss: 0.0040 - val_accuracy: 0.9973\n",
            "Epoch 79/100\n",
            "12/12 [==============================] - 0s 10ms/step - loss: 0.0037 - accuracy: 0.9983 - val_loss: 0.0038 - val_accuracy: 0.9993\n",
            "Epoch 80/100\n",
            "12/12 [==============================] - 0s 10ms/step - loss: 0.0036 - accuracy: 0.9993 - val_loss: 0.0037 - val_accuracy: 0.9991\n",
            "Epoch 81/100\n",
            "12/12 [==============================] - 0s 10ms/step - loss: 0.0035 - accuracy: 0.9994 - val_loss: 0.0035 - val_accuracy: 0.9999\n",
            "Epoch 82/100\n",
            "12/12 [==============================] - 0s 10ms/step - loss: 0.0033 - accuracy: 0.9998 - val_loss: 0.0034 - val_accuracy: 0.9999\n",
            "Epoch 83/100\n",
            "12/12 [==============================] - 0s 10ms/step - loss: 0.0032 - accuracy: 0.9998 - val_loss: 0.0033 - val_accuracy: 0.9999\n",
            "Epoch 84/100\n",
            "12/12 [==============================] - 0s 9ms/step - loss: 0.0031 - accuracy: 0.9998 - val_loss: 0.0032 - val_accuracy: 0.9999\n",
            "Epoch 85/100\n",
            "12/12 [==============================] - 0s 11ms/step - loss: 0.0030 - accuracy: 0.9998 - val_loss: 0.0031 - val_accuracy: 0.9999\n",
            "Epoch 86/100\n",
            "12/12 [==============================] - 0s 10ms/step - loss: 0.0029 - accuracy: 0.9998 - val_loss: 0.0029 - val_accuracy: 0.9999\n",
            "Epoch 87/100\n",
            "12/12 [==============================] - 0s 10ms/step - loss: 0.0028 - accuracy: 0.9998 - val_loss: 0.0028 - val_accuracy: 0.9999\n",
            "Epoch 88/100\n",
            "12/12 [==============================] - 0s 10ms/step - loss: 0.0027 - accuracy: 0.9998 - val_loss: 0.0027 - val_accuracy: 0.9999\n",
            "Epoch 89/100\n",
            "12/12 [==============================] - 0s 10ms/step - loss: 0.0026 - accuracy: 0.9999 - val_loss: 0.0026 - val_accuracy: 0.9999\n",
            "Epoch 90/100\n",
            "12/12 [==============================] - 0s 9ms/step - loss: 0.0025 - accuracy: 0.9999 - val_loss: 0.0025 - val_accuracy: 0.9999\n",
            "Epoch 91/100\n",
            "12/12 [==============================] - 0s 9ms/step - loss: 0.0024 - accuracy: 0.9999 - val_loss: 0.0024 - val_accuracy: 0.9999\n",
            "Epoch 92/100\n",
            "12/12 [==============================] - 0s 9ms/step - loss: 0.0023 - accuracy: 0.9999 - val_loss: 0.0024 - val_accuracy: 0.9999\n",
            "Epoch 93/100\n",
            "12/12 [==============================] - 0s 10ms/step - loss: 0.0022 - accuracy: 0.9999 - val_loss: 0.0023 - val_accuracy: 0.9999\n",
            "Epoch 94/100\n",
            "12/12 [==============================] - 0s 10ms/step - loss: 0.0022 - accuracy: 0.9999 - val_loss: 0.0022 - val_accuracy: 0.9999\n",
            "Epoch 95/100\n",
            "12/12 [==============================] - 0s 10ms/step - loss: 0.0021 - accuracy: 0.9999 - val_loss: 0.0021 - val_accuracy: 0.9999\n",
            "Epoch 96/100\n",
            "12/12 [==============================] - 0s 11ms/step - loss: 0.0020 - accuracy: 0.9999 - val_loss: 0.0021 - val_accuracy: 0.9999\n",
            "Epoch 97/100\n",
            "12/12 [==============================] - 0s 10ms/step - loss: 0.0020 - accuracy: 0.9999 - val_loss: 0.0020 - val_accuracy: 0.9999\n",
            "Epoch 98/100\n",
            "12/12 [==============================] - 0s 11ms/step - loss: 0.0019 - accuracy: 0.9999 - val_loss: 0.0019 - val_accuracy: 0.9999\n",
            "Epoch 99/100\n",
            "12/12 [==============================] - 0s 9ms/step - loss: 0.0018 - accuracy: 0.9999 - val_loss: 0.0019 - val_accuracy: 0.9999\n",
            "Epoch 100/100\n",
            "12/12 [==============================] - 0s 9ms/step - loss: 0.0018 - accuracy: 0.9999 - val_loss: 0.0018 - val_accuracy: 0.9999\n"
          ]
        }
      ],
      "source": [
        "if model_selection[model_flag]==\"ALL\" or model_selection[model_flag] == \"MLP\":\n",
        "  # training the model on training dataset\n",
        "  history = mlp.fit(X_train, y_train, epochs=100, batch_size=5000,validation_split=0.2)"
      ]
    },
    {
      "cell_type": "code",
      "execution_count": 26,
      "metadata": {
        "id": "_n_gNs3p1_M-",
        "colab": {
          "base_uri": "https://localhost:8080/"
        },
        "outputId": "ce91e9ca-81ae-4a08-89d6-4948b6108165"
      },
      "outputs": [
        {
          "output_type": "stream",
          "name": "stdout",
          "text": [
            "Saved model to disk\n",
            "Loaded model from disk\n"
          ]
        }
      ],
      "source": [
        "if model_selection[model_flag]==\"ALL\" or model_selection[model_flag] == \"MLP\":\n",
        "  filepath = '/content/drive/MyDrive/Colab_Notebooks/Models/mlp_binary'+model_name_suffix+'.json'\n",
        "  weightspath = '/content/drive/MyDrive/Colab_Notebooks/Weights/mlp_binary'+model_name_suffix+'.h5'\n",
        "  if (not path.isfile(filepath)):\n",
        "    # serialize model to JSON\n",
        "    mlp_json = mlp.to_json()\n",
        "    with open(filepath, \"w\") as json_file:\n",
        "      json_file.write(mlp_json)\n",
        "\n",
        "    # serialize weights to HDF5\n",
        "    mlp.save_weights(weightspath)\n",
        "    print(\"Saved model to disk\")\n",
        "\n",
        "    # load json and create model\n",
        "    json_file = open(filepath, 'r')\n",
        "    loaded_model_json = json_file.read()\n",
        "    json_file.close()\n",
        "    mlp = model_from_json(loaded_model_json)\n",
        "\n",
        "    # load weights into new model\n",
        "    mlp.load_weights(weightspath)\n",
        "    print(\"Loaded model from disk\")"
      ]
    },
    {
      "cell_type": "code",
      "execution_count": 27,
      "metadata": {
        "id": "G99OrVcT2JON"
      },
      "outputs": [],
      "source": [
        "if model_selection[model_flag]==\"ALL\" or model_selection[model_flag] == \"MLP\":\n",
        "  # defining loss function, optimizer, metrics and then compiling model\n",
        "  mlp.compile(loss='binary_crossentropy', optimizer='adam', metrics=['accuracy'])"
      ]
    },
    {
      "cell_type": "code",
      "execution_count": 28,
      "metadata": {
        "id": "AXUA0T2N2OIB",
        "colab": {
          "base_uri": "https://localhost:8080/"
        },
        "outputId": "8ff52cff-305a-4325-87f7-9db33d5f9089"
      },
      "outputs": [
        {
          "output_type": "stream",
          "name": "stdout",
          "text": [
            "782/782 [==============================] - 2s 2ms/step - loss: 292207820800.0000 - accuracy: 0.7263\n",
            "Test results - Loss: 292207820800.0 - Accuracy: 72.63200283050537\n"
          ]
        }
      ],
      "source": [
        "if model_selection[model_flag]==\"ALL\" or model_selection[model_flag] == \"MLP\":\n",
        "  # predicting target attribute on testing dataset\n",
        "  test_results = mlp.evaluate(X_test, y_test, verbose=1)\n",
        "  print(f'Test results - Loss: {test_results[0]} - Accuracy: {test_results[1]*100}')"
      ]
    },
    {
      "cell_type": "code",
      "execution_count": 29,
      "metadata": {
        "id": "StFTrhE65_-q",
        "colab": {
          "base_uri": "https://localhost:8080/",
          "height": 472
        },
        "outputId": "74d774a6-35ad-4bcd-e142-02a78e288913"
      },
      "outputs": [
        {
          "output_type": "display_data",
          "data": {
            "text/plain": [
              "<Figure size 640x480 with 1 Axes>"
            ],
            "image/png": "[encoded data removed]"
          },
          "metadata": {}
        }
      ],
      "source": [
        "if model_selection[model_flag]==\"ALL\" or model_selection[model_flag] == \"MLP\":  \n",
        "  # Plot of accuracy vs epoch of train and test dataset\n",
        "  plt.plot(history.history['accuracy'])\n",
        "  plt.plot(history.history['val_accuracy'])\n",
        "  plt.title(\"Plot of accuracy vs epoch for train and test dataset\")\n",
        "  plt.ylabel('accuracy')\n",
        "  plt.xlabel('epoch')\n",
        "  plt.legend(['train', 'test'], loc='best')\n",
        "  plt.savefig('/content/drive/MyDrive/Colab_Notebooks/Plots/mlp_binary_accuracy.png')\n",
        "  plt.show()"
      ]
    },
    {
      "cell_type": "code",
      "execution_count": 30,
      "metadata": {
        "id": "rZes4PzY6JUq",
        "colab": {
          "base_uri": "https://localhost:8080/",
          "height": 472
        },
        "outputId": "373b146c-6d05-4a48-d67a-d55d403908d9"
      },
      "outputs": [
        {
          "output_type": "display_data",
          "data": {
            "text/plain": [
              "<Figure size 640x480 with 1 Axes>"
            ],
            "image/png": "[encoded data removed]"
          },
          "metadata": {}
        }
      ],
      "source": [
        "if model_selection[model_flag]==\"ALL\" or model_selection[model_flag] == \"MLP\":\n",
        "  # Plot of loss vs epoch of train and test dataset\n",
        "  plt.plot(history.history['loss'])\n",
        "  plt.plot(history.history['val_loss'])\n",
        "  plt.title('Plot of loss vs epoch for train and test dataset')\n",
        "  plt.ylabel('loss')\n",
        "  plt.xlabel('epoch')\n",
        "  plt.legend(['train', 'test'], loc='best')\n",
        "  plt.savefig('/content/drive/MyDrive/Colab_Notebooks/Plots/mlp_binary_loss.png')\n",
        "  plt.show()"
      ]
    },
    {
      "cell_type": "code",
      "execution_count": 31,
      "metadata": {
        "id": "mC0nj-on6iRU"
      },
      "outputs": [],
      "source": [
        "if model_selection[model_flag]==\"ALL\" or model_selection[model_flag] == \"MLP\":\n",
        "  # representation of model layers\n",
        "  from keras.utils.vis_utils import plot_model\n",
        "  plot_model(mlp, to_file='/content/drive/MyDrive/Colab_Notebooks/Plots/mlp_binary.png', show_shapes=True,)"
      ]
    },
    {
      "cell_type": "code",
      "execution_count": 32,
      "metadata": {
        "id": "oxHdln0c6Xi_",
        "colab": {
          "base_uri": "https://localhost:8080/"
        },
        "outputId": "2803e79b-4863-4b8b-e375-0d1cd6a2a4d1"
      },
      "outputs": [
        {
          "output_type": "stream",
          "name": "stdout",
          "text": [
            "782/782 [==============================] - 1s 2ms/step\n"
          ]
        }
      ],
      "source": [
        "if model_selection[model_flag]==\"ALL\" or model_selection[model_flag] == \"MLP\":\n",
        "  y_pred = mlp.predict(X_test).ravel()\n",
        "  fpr, tpr, thresholds = roc_curve(y_test, y_pred)\n",
        "  auc = auc(fpr, tpr)"
      ]
    },
    {
      "cell_type": "code",
      "execution_count": 33,
      "metadata": {
        "id": "Cr36q9Z-6aRU",
        "colab": {
          "base_uri": "https://localhost:8080/",
          "height": 472
        },
        "outputId": "4d791373-c301-428d-ca0d-7b7af12a2f51"
      },
      "outputs": [
        {
          "output_type": "display_data",
          "data": {
            "text/plain": [
              "<Figure size 640x480 with 1 Axes>"
            ],
            "image/png": "[encoded data removed]"
          },
          "metadata": {}
        }
      ],
      "source": [
        "if model_selection[model_flag]==\"ALL\" or model_selection[model_flag] == \"MLP\":\n",
        "  plt.plot([0, 1], [0, 1], 'k--')\n",
        "  plt.plot(fpr, tpr, label='Keras (area = {:.3f})'.format(auc))\n",
        "  plt.xlabel('False positive rate')\n",
        "  plt.ylabel('True positive rate')\n",
        "  plt.title('ROC curve')\n",
        "  plt.legend(loc='best')\n",
        "  plt.savefig('/content/drive/MyDrive/Colab_Notebooks/Plots/mlp_binary_roc.png')\n",
        "  plt.show()"
      ]
    },
    {
      "cell_type": "code",
      "execution_count": 34,
      "metadata": {
        "id": "U9f2bWPwFljk"
      },
      "outputs": [],
      "source": [
        "# real_data_kdd = bin_data.copy()\n",
        "\n",
        "# # Names of the columns that are discrete\n",
        "# cat_cols = real_data_kdd.select_dtypes(['object']).columns\n",
        "# # cat_cols\n",
        "# test_data = real_data_kdd.iloc[:999]\n",
        "\n",
        "# corr= test_data.corr()\n",
        "# corr_y = abs(corr['label'])\n",
        "# highest_corr = corr_y\n",
        "# highest_corr.sort_values(ascending=True)"
      ]
    },
    {
      "cell_type": "code",
      "execution_count": 35,
      "metadata": {
        "id": "8-clVdUoUPa-",
        "colab": {
          "base_uri": "https://localhost:8080/"
        },
        "outputId": "0f0cc949-0d00-4648-ba14-f4c339db7a14"
      },
      "outputs": [
        {
          "output_type": "stream",
          "name": "stdout",
          "text": [
            "782/782 [==============================] - 1s 2ms/step\n"
          ]
        }
      ],
      "source": [
        "if model_selection[model_flag]==\"ALL\" or model_selection[model_flag] == \"MLP\":\n",
        "  y_classes = (mlp.predict(X_test)>0.5).astype('int32')"
      ]
    },
    {
      "cell_type": "code",
      "execution_count": 36,
      "metadata": {
        "id": "0jcFqEqFT-uq",
        "colab": {
          "base_uri": "https://localhost:8080/"
        },
        "outputId": "4f3f35de-0bab-4e3a-9edf-a0685a71da44"
      },
      "outputs": [
        {
          "output_type": "stream",
          "name": "stdout",
          "text": [
            "Recall Score -  0.2662651898053554\n",
            "F1 Score -  0.4198745124639647\n",
            "Precision Score -  0.9923847695390782\n"
          ]
        }
      ],
      "source": [
        "if model_selection[model_flag]==\"ALL\" or model_selection[model_flag] == \"MLP\":\n",
        "  print(\"Recall Score - \",recall_score(y_test,y_classes))\n",
        "  print(\"F1 Score - \",f1_score(y_test,y_classes))\n",
        "  print(\"Precision Score - \",precision_score(y_test,y_classes))"
      ]
    },
    {
      "cell_type": "code",
      "source": [
        "print(classification_report(y_test, y_classes, target_names=['0', '1']))\n",
        "cm = confusion_matrix(y_test, y_classes)\n",
        "disp = ConfusionMatrixDisplay(confusion_matrix=cm,\n",
        "                              display_labels=['0', '1'])\n",
        "disp.plot()\n",
        "\n",
        "plt.show()"
      ],
      "metadata": {
        "id": "3HJB6IXJsxjg",
        "colab": {
          "base_uri": "https://localhost:8080/",
          "height": 610
        },
        "outputId": "a84e9d51-7169-4cdd-90dc-e06ba575d04b"
      },
      "execution_count": 37,
      "outputs": [
        {
          "output_type": "stream",
          "name": "stdout",
          "text": [
            "              precision    recall  f1-score   support\n",
            "\n",
            "           0       0.70      1.00      0.82     15701\n",
            "           1       0.99      0.27      0.42      9299\n",
            "\n",
            "    accuracy                           0.73     25000\n",
            "   macro avg       0.84      0.63      0.62     25000\n",
            "weighted avg       0.81      0.73      0.67     25000\n",
            "\n"
          ]
        },
        {
          "output_type": "display_data",
          "data": {
            "text/plain": [
              "<Figure size 640x480 with 2 Axes>"
            ],
            "image/png": "[encoded data removed]"
          },
          "metadata": {}
        }
      ]
    },
    {
      "cell_type": "markdown",
      "source": [
        "# **Correlation** Matrix of Features"
      ],
      "metadata": {
        "id": "j7BKdCwqs2RE"
      }
    },
    {
      "cell_type": "code",
      "execution_count": 38,
      "metadata": {
        "id": "TL8zt-tHLt90",
        "colab": {
          "base_uri": "https://localhost:8080/"
        },
        "outputId": "7dce5e9a-8040-4f1f-905e-61110f263ab3"
      },
      "outputs": [
        {
          "output_type": "execute_result",
          "data": {
            "text/plain": [
              "X63      0.319690\n",
              "X85      0.479742\n",
              "X106     0.502142\n",
              "X92      0.503958\n",
              "X99      0.512200\n",
              "           ...   \n",
              "X1       0.979972\n",
              "X16      0.980124\n",
              "X66      0.980124\n",
              "X31      0.980124\n",
              "label    1.000000\n",
              "Name: label, Length: 88, dtype: float64"
            ]
          },
          "metadata": {},
          "execution_count": 38
        }
      ],
      "source": [
        "corr= bin_data.corr()\n",
        "corr_y = abs(corr['label'])\n",
        "highest_corr = corr_y[corr_y >0.3]\n",
        "highest_corr.sort_values(ascending=True)"
      ]
    },
    {
      "cell_type": "code",
      "source": [
        "plt.matshow(corr)\n",
        "plt.show()"
      ],
      "metadata": {
        "colab": {
          "base_uri": "https://localhost:8080/",
          "height": 437
        },
        "id": "q4b094WVtQQ7",
        "outputId": "653eb772-5f79-436d-982b-937fe94ea67f"
      },
      "execution_count": 39,
      "outputs": [
        {
          "output_type": "display_data",
          "data": {
            "text/plain": [
              "<Figure size 480x480 with 1 Axes>"
            ],
            "image/png": "[encoded data removed]"
          },
          "metadata": {}
        }
      ]
    },
    {
      "cell_type": "markdown",
      "metadata": {
        "id": "ZHhtNjFLPj6Y"
      },
      "source": [
        "## **LSTM Classifier**"
      ]
    },
    {
      "cell_type": "code",
      "execution_count": 40,
      "metadata": {
        "id": "DTNPkQMNL5Eh",
        "colab": {
          "base_uri": "https://localhost:8080/"
        },
        "outputId": "894d6720-f5c8-4890-e55f-4f5c6ae20a5a"
      },
      "outputs": [
        {
          "output_type": "execute_result",
          "data": {
            "text/plain": [
              "(74999, 116)"
            ]
          },
          "metadata": {},
          "execution_count": 40
        }
      ],
      "source": [
        "X_train = np.array(X_train)\n",
        "X_test = np.array(X_test)\n",
        "# y_train.shape   #(18896,)\n",
        "X_train.shape"
      ]
    },
    {
      "cell_type": "code",
      "execution_count": 41,
      "metadata": {
        "id": "9n-QlBDXPMl4",
        "colab": {
          "base_uri": "https://localhost:8080/"
        },
        "outputId": "993744c2-477f-4fd5-bf42-36fc6d1c61ce"
      },
      "outputs": [
        {
          "output_type": "execute_result",
          "data": {
            "text/plain": [
              "numpy.ndarray"
            ]
          },
          "metadata": {},
          "execution_count": 41
        }
      ],
      "source": [
        "y_train = np.array(y_train)\n",
        "type(y_train)"
      ]
    },
    {
      "cell_type": "code",
      "execution_count": 42,
      "metadata": {
        "id": "-8Ro_ZRQPdZz",
        "colab": {
          "base_uri": "https://localhost:8080/"
        },
        "outputId": "361a5a86-e89b-4a5f-8212-e42e055ce520"
      },
      "outputs": [
        {
          "output_type": "execute_result",
          "data": {
            "text/plain": [
              "(74999, 1, 116)"
            ]
          },
          "metadata": {},
          "execution_count": 42
        }
      ],
      "source": [
        "x_train = np.reshape(X_train, (X_train.shape[0],1,X_train.shape[1]))\n",
        "x_train.shape"
      ]
    },
    {
      "cell_type": "code",
      "source": [
        "x_train.shape[2]"
      ],
      "metadata": {
        "colab": {
          "base_uri": "https://localhost:8080/"
        },
        "id": "EuvuETcGpkje",
        "outputId": "b3005ef8-05ac-44d7-9fb7-4f9c744cd2b1"
      },
      "execution_count": 43,
      "outputs": [
        {
          "output_type": "execute_result",
          "data": {
            "text/plain": [
              "116"
            ]
          },
          "metadata": {},
          "execution_count": 43
        }
      ]
    },
    {
      "cell_type": "code",
      "execution_count": 44,
      "metadata": {
        "id": "pLIl946zQQwG",
        "colab": {
          "base_uri": "https://localhost:8080/"
        },
        "outputId": "a2727050-78b7-4c8f-b8ce-6cc3c3504077"
      },
      "outputs": [
        {
          "output_type": "execute_result",
          "data": {
            "text/plain": [
              "(25000, 1, 116)"
            ]
          },
          "metadata": {},
          "execution_count": 44
        }
      ],
      "source": [
        "x_test = np.reshape(X_test, (X_test.shape[0],1,X_test.shape[1]))\n",
        "x_test.shape"
      ]
    },
    {
      "cell_type": "code",
      "execution_count": 45,
      "metadata": {
        "id": "jWsrkPEmQcY7"
      },
      "outputs": [],
      "source": [
        "if model_selection[model_flag]==\"ALL\" or model_selection[model_flag] == \"LSTM\":\n",
        "  lst = Sequential()\n",
        "  # input layer and LSTM layer with 50 neurons\n",
        "  input_features = x_train.shape[2]\n",
        "  lst.add(LSTM(50,input_dim=input_features))\n",
        "\n",
        "  # outpute layer with sigmoid activation\n",
        "  lst.add(Dense(1,activation='sigmoid'))"
      ]
    },
    {
      "cell_type": "code",
      "execution_count": 46,
      "metadata": {
        "id": "UEmba1H9Q_qj"
      },
      "outputs": [],
      "source": [
        "if model_selection[model_flag]==\"ALL\" or model_selection[model_flag] == \"LSTM\":\n",
        "  # defining loss function, optimizer, metrics and then compiling model\n",
        "  lst.compile(loss='binary_crossentropy',optimizer='adam',metrics=['accuracy'])"
      ]
    },
    {
      "cell_type": "code",
      "execution_count": 47,
      "metadata": {
        "id": "anR58jV2RCtz",
        "colab": {
          "base_uri": "https://localhost:8080/"
        },
        "outputId": "a27428ef-d763-41ad-ca97-fddf4c713776"
      },
      "outputs": [
        {
          "output_type": "stream",
          "name": "stdout",
          "text": [
            "Model: \"sequential_1\"\n",
            "_________________________________________________________________\n",
            " Layer (type)                Output Shape              Param #   \n",
            "=================================================================\n",
            " lstm (LSTM)                 (None, 50)                33400     \n",
            "                                                                 \n",
            " dense_2 (Dense)             (None, 1)                 51        \n",
            "                                                                 \n",
            "=================================================================\n",
            "Total params: 33,451\n",
            "Trainable params: 33,451\n",
            "Non-trainable params: 0\n",
            "_________________________________________________________________\n"
          ]
        }
      ],
      "source": [
        "if model_selection[model_flag]==\"ALL\" or model_selection[model_flag] == \"LSTM\":\n",
        "  # summary of model layers\n",
        "  lst.summary()"
      ]
    },
    {
      "cell_type": "code",
      "execution_count": 48,
      "metadata": {
        "id": "_Pa4Qi12RJS_",
        "colab": {
          "base_uri": "https://localhost:8080/"
        },
        "outputId": "fc826f8a-e6d0-4840-8179-1e5e00e216be"
      },
      "outputs": [
        {
          "output_type": "stream",
          "name": "stdout",
          "text": [
            "Epoch 1/100\n",
            "12/12 [==============================] - 4s 51ms/step - loss: 0.5316 - accuracy: 0.7244 - val_loss: 0.3880 - val_accuracy: 0.9507\n",
            "Epoch 2/100\n",
            "12/12 [==============================] - 0s 10ms/step - loss: 0.3024 - accuracy: 0.9703 - val_loss: 0.2121 - val_accuracy: 0.9841\n",
            "Epoch 3/100\n",
            "12/12 [==============================] - 0s 11ms/step - loss: 0.1612 - accuracy: 0.9875 - val_loss: 0.1131 - val_accuracy: 0.9900\n",
            "Epoch 4/100\n",
            "12/12 [==============================] - 0s 10ms/step - loss: 0.0913 - accuracy: 0.9909 - val_loss: 0.0711 - val_accuracy: 0.9916\n",
            "Epoch 5/100\n",
            "12/12 [==============================] - 0s 10ms/step - loss: 0.0623 - accuracy: 0.9919 - val_loss: 0.0535 - val_accuracy: 0.9921\n",
            "Epoch 6/100\n",
            "12/12 [==============================] - 0s 11ms/step - loss: 0.0497 - accuracy: 0.9923 - val_loss: 0.0453 - val_accuracy: 0.9925\n",
            "Epoch 7/100\n",
            "12/12 [==============================] - 0s 9ms/step - loss: 0.0434 - accuracy: 0.9926 - val_loss: 0.0408 - val_accuracy: 0.9929\n",
            "Epoch 8/100\n",
            "12/12 [==============================] - 0s 10ms/step - loss: 0.0397 - accuracy: 0.9929 - val_loss: 0.0379 - val_accuracy: 0.9931\n",
            "Epoch 9/100\n",
            "12/12 [==============================] - 0s 10ms/step - loss: 0.0371 - accuracy: 0.9932 - val_loss: 0.0358 - val_accuracy: 0.9933\n",
            "Epoch 10/100\n",
            "12/12 [==============================] - 0s 10ms/step - loss: 0.0350 - accuracy: 0.9933 - val_loss: 0.0341 - val_accuracy: 0.9934\n",
            "Epoch 11/100\n",
            "12/12 [==============================] - 0s 10ms/step - loss: 0.0332 - accuracy: 0.9935 - val_loss: 0.0326 - val_accuracy: 0.9935\n",
            "Epoch 12/100\n",
            "12/12 [==============================] - 0s 9ms/step - loss: 0.0317 - accuracy: 0.9936 - val_loss: 0.0313 - val_accuracy: 0.9935\n",
            "Epoch 13/100\n",
            "12/12 [==============================] - 0s 9ms/step - loss: 0.0302 - accuracy: 0.9937 - val_loss: 0.0301 - val_accuracy: 0.9935\n",
            "Epoch 14/100\n",
            "12/12 [==============================] - 0s 10ms/step - loss: 0.0289 - accuracy: 0.9937 - val_loss: 0.0290 - val_accuracy: 0.9936\n",
            "Epoch 15/100\n",
            "12/12 [==============================] - 0s 9ms/step - loss: 0.0276 - accuracy: 0.9937 - val_loss: 0.0280 - val_accuracy: 0.9936\n",
            "Epoch 16/100\n",
            "12/12 [==============================] - 0s 9ms/step - loss: 0.0265 - accuracy: 0.9937 - val_loss: 0.0271 - val_accuracy: 0.9935\n",
            "Epoch 17/100\n",
            "12/12 [==============================] - 0s 10ms/step - loss: 0.0255 - accuracy: 0.9937 - val_loss: 0.0262 - val_accuracy: 0.9935\n",
            "Epoch 18/100\n",
            "12/12 [==============================] - 0s 10ms/step - loss: 0.0246 - accuracy: 0.9937 - val_loss: 0.0255 - val_accuracy: 0.9935\n",
            "Epoch 19/100\n",
            "12/12 [==============================] - 0s 10ms/step - loss: 0.0238 - accuracy: 0.9940 - val_loss: 0.0249 - val_accuracy: 0.9937\n",
            "Epoch 20/100\n",
            "12/12 [==============================] - 0s 9ms/step - loss: 0.0232 - accuracy: 0.9943 - val_loss: 0.0243 - val_accuracy: 0.9940\n",
            "Epoch 21/100\n",
            "12/12 [==============================] - 0s 10ms/step - loss: 0.0226 - accuracy: 0.9948 - val_loss: 0.0238 - val_accuracy: 0.9942\n",
            "Epoch 22/100\n",
            "12/12 [==============================] - 0s 9ms/step - loss: 0.0221 - accuracy: 0.9952 - val_loss: 0.0234 - val_accuracy: 0.9947\n",
            "Epoch 23/100\n",
            "12/12 [==============================] - 0s 10ms/step - loss: 0.0217 - accuracy: 0.9953 - val_loss: 0.0230 - val_accuracy: 0.9948\n",
            "Epoch 24/100\n",
            "12/12 [==============================] - 0s 9ms/step - loss: 0.0213 - accuracy: 0.9954 - val_loss: 0.0226 - val_accuracy: 0.9948\n",
            "Epoch 25/100\n",
            "12/12 [==============================] - 0s 11ms/step - loss: 0.0209 - accuracy: 0.9954 - val_loss: 0.0222 - val_accuracy: 0.9948\n",
            "Epoch 26/100\n",
            "12/12 [==============================] - 0s 10ms/step - loss: 0.0206 - accuracy: 0.9955 - val_loss: 0.0219 - val_accuracy: 0.9948\n",
            "Epoch 27/100\n",
            "12/12 [==============================] - 0s 9ms/step - loss: 0.0203 - accuracy: 0.9956 - val_loss: 0.0216 - val_accuracy: 0.9948\n",
            "Epoch 28/100\n",
            "12/12 [==============================] - 0s 9ms/step - loss: 0.0200 - accuracy: 0.9956 - val_loss: 0.0213 - val_accuracy: 0.9953\n",
            "Epoch 29/100\n",
            "12/12 [==============================] - 0s 10ms/step - loss: 0.0197 - accuracy: 0.9957 - val_loss: 0.0210 - val_accuracy: 0.9954\n",
            "Epoch 30/100\n",
            "12/12 [==============================] - 0s 9ms/step - loss: 0.0195 - accuracy: 0.9957 - val_loss: 0.0207 - val_accuracy: 0.9955\n",
            "Epoch 31/100\n",
            "12/12 [==============================] - 0s 9ms/step - loss: 0.0192 - accuracy: 0.9958 - val_loss: 0.0205 - val_accuracy: 0.9955\n",
            "Epoch 32/100\n",
            "12/12 [==============================] - 0s 9ms/step - loss: 0.0190 - accuracy: 0.9958 - val_loss: 0.0202 - val_accuracy: 0.9955\n",
            "Epoch 33/100\n",
            "12/12 [==============================] - 0s 10ms/step - loss: 0.0187 - accuracy: 0.9958 - val_loss: 0.0199 - val_accuracy: 0.9955\n",
            "Epoch 34/100\n",
            "12/12 [==============================] - 0s 10ms/step - loss: 0.0185 - accuracy: 0.9958 - val_loss: 0.0196 - val_accuracy: 0.9955\n",
            "Epoch 35/100\n",
            "12/12 [==============================] - 0s 10ms/step - loss: 0.0182 - accuracy: 0.9958 - val_loss: 0.0193 - val_accuracy: 0.9958\n",
            "Epoch 36/100\n",
            "12/12 [==============================] - 0s 9ms/step - loss: 0.0180 - accuracy: 0.9959 - val_loss: 0.0191 - val_accuracy: 0.9957\n",
            "Epoch 37/100\n",
            "12/12 [==============================] - 0s 10ms/step - loss: 0.0177 - accuracy: 0.9959 - val_loss: 0.0188 - val_accuracy: 0.9958\n",
            "Epoch 38/100\n",
            "12/12 [==============================] - 0s 11ms/step - loss: 0.0174 - accuracy: 0.9959 - val_loss: 0.0185 - val_accuracy: 0.9959\n",
            "Epoch 39/100\n",
            "12/12 [==============================] - 0s 29ms/step - loss: 0.0172 - accuracy: 0.9960 - val_loss: 0.0182 - val_accuracy: 0.9959\n",
            "Epoch 40/100\n",
            "12/12 [==============================] - 0s 25ms/step - loss: 0.0169 - accuracy: 0.9961 - val_loss: 0.0179 - val_accuracy: 0.9960\n",
            "Epoch 41/100\n",
            "12/12 [==============================] - 0s 14ms/step - loss: 0.0167 - accuracy: 0.9961 - val_loss: 0.0177 - val_accuracy: 0.9960\n",
            "Epoch 42/100\n",
            "12/12 [==============================] - 0s 13ms/step - loss: 0.0164 - accuracy: 0.9961 - val_loss: 0.0174 - val_accuracy: 0.9961\n",
            "Epoch 43/100\n",
            "12/12 [==============================] - 0s 9ms/step - loss: 0.0161 - accuracy: 0.9963 - val_loss: 0.0171 - val_accuracy: 0.9961\n",
            "Epoch 44/100\n",
            "12/12 [==============================] - 0s 11ms/step - loss: 0.0158 - accuracy: 0.9962 - val_loss: 0.0167 - val_accuracy: 0.9963\n",
            "Epoch 45/100\n",
            "12/12 [==============================] - 0s 9ms/step - loss: 0.0155 - accuracy: 0.9962 - val_loss: 0.0164 - val_accuracy: 0.9963\n",
            "Epoch 46/100\n",
            "12/12 [==============================] - 0s 21ms/step - loss: 0.0152 - accuracy: 0.9964 - val_loss: 0.0161 - val_accuracy: 0.9962\n",
            "Epoch 47/100\n",
            "12/12 [==============================] - 0s 26ms/step - loss: 0.0149 - accuracy: 0.9964 - val_loss: 0.0158 - val_accuracy: 0.9963\n",
            "Epoch 48/100\n",
            "12/12 [==============================] - 0s 22ms/step - loss: 0.0146 - accuracy: 0.9964 - val_loss: 0.0154 - val_accuracy: 0.9963\n",
            "Epoch 49/100\n",
            "12/12 [==============================] - 0s 17ms/step - loss: 0.0143 - accuracy: 0.9964 - val_loss: 0.0151 - val_accuracy: 0.9963\n",
            "Epoch 50/100\n",
            "12/12 [==============================] - 0s 10ms/step - loss: 0.0139 - accuracy: 0.9965 - val_loss: 0.0147 - val_accuracy: 0.9963\n",
            "Epoch 51/100\n",
            "12/12 [==============================] - 0s 10ms/step - loss: 0.0136 - accuracy: 0.9966 - val_loss: 0.0143 - val_accuracy: 0.9963\n",
            "Epoch 52/100\n",
            "12/12 [==============================] - 0s 10ms/step - loss: 0.0132 - accuracy: 0.9966 - val_loss: 0.0140 - val_accuracy: 0.9963\n",
            "Epoch 53/100\n",
            "12/12 [==============================] - 0s 27ms/step - loss: 0.0129 - accuracy: 0.9966 - val_loss: 0.0136 - val_accuracy: 0.9963\n",
            "Epoch 54/100\n",
            "12/12 [==============================] - 0s 42ms/step - loss: 0.0125 - accuracy: 0.9966 - val_loss: 0.0132 - val_accuracy: 0.9963\n",
            "Epoch 55/100\n",
            "12/12 [==============================] - 0s 33ms/step - loss: 0.0122 - accuracy: 0.9967 - val_loss: 0.0128 - val_accuracy: 0.9963\n",
            "Epoch 56/100\n",
            "12/12 [==============================] - 0s 25ms/step - loss: 0.0118 - accuracy: 0.9967 - val_loss: 0.0124 - val_accuracy: 0.9963\n",
            "Epoch 57/100\n",
            "12/12 [==============================] - 0s 14ms/step - loss: 0.0115 - accuracy: 0.9968 - val_loss: 0.0120 - val_accuracy: 0.9964\n",
            "Epoch 58/100\n",
            "12/12 [==============================] - 0s 12ms/step - loss: 0.0111 - accuracy: 0.9968 - val_loss: 0.0116 - val_accuracy: 0.9965\n",
            "Epoch 59/100\n",
            "12/12 [==============================] - 0s 13ms/step - loss: 0.0107 - accuracy: 0.9969 - val_loss: 0.0113 - val_accuracy: 0.9965\n",
            "Epoch 60/100\n",
            "12/12 [==============================] - 0s 13ms/step - loss: 0.0103 - accuracy: 0.9969 - val_loss: 0.0108 - val_accuracy: 0.9965\n",
            "Epoch 61/100\n",
            "12/12 [==============================] - 0s 13ms/step - loss: 0.0100 - accuracy: 0.9969 - val_loss: 0.0104 - val_accuracy: 0.9965\n",
            "Epoch 62/100\n",
            "12/12 [==============================] - 0s 13ms/step - loss: 0.0096 - accuracy: 0.9969 - val_loss: 0.0100 - val_accuracy: 0.9965\n",
            "Epoch 63/100\n",
            "12/12 [==============================] - 0s 13ms/step - loss: 0.0092 - accuracy: 0.9970 - val_loss: 0.0096 - val_accuracy: 0.9966\n",
            "Epoch 64/100\n",
            "12/12 [==============================] - 0s 13ms/step - loss: 0.0088 - accuracy: 0.9970 - val_loss: 0.0092 - val_accuracy: 0.9967\n",
            "Epoch 65/100\n",
            "12/12 [==============================] - 0s 13ms/step - loss: 0.0084 - accuracy: 0.9971 - val_loss: 0.0088 - val_accuracy: 0.9967\n",
            "Epoch 66/100\n",
            "12/12 [==============================] - 0s 15ms/step - loss: 0.0081 - accuracy: 0.9971 - val_loss: 0.0084 - val_accuracy: 0.9967\n",
            "Epoch 67/100\n",
            "12/12 [==============================] - 0s 15ms/step - loss: 0.0077 - accuracy: 0.9971 - val_loss: 0.0080 - val_accuracy: 0.9967\n",
            "Epoch 68/100\n",
            "12/12 [==============================] - 0s 13ms/step - loss: 0.0074 - accuracy: 0.9971 - val_loss: 0.0076 - val_accuracy: 0.9968\n",
            "Epoch 69/100\n",
            "12/12 [==============================] - 0s 13ms/step - loss: 0.0070 - accuracy: 0.9971 - val_loss: 0.0073 - val_accuracy: 0.9968\n",
            "Epoch 70/100\n",
            "12/12 [==============================] - 0s 13ms/step - loss: 0.0067 - accuracy: 0.9972 - val_loss: 0.0069 - val_accuracy: 0.9969\n",
            "Epoch 71/100\n",
            "12/12 [==============================] - 0s 13ms/step - loss: 0.0064 - accuracy: 0.9972 - val_loss: 0.0066 - val_accuracy: 0.9969\n",
            "Epoch 72/100\n",
            "12/12 [==============================] - 0s 15ms/step - loss: 0.0060 - accuracy: 0.9972 - val_loss: 0.0063 - val_accuracy: 0.9969\n",
            "Epoch 73/100\n",
            "12/12 [==============================] - 0s 13ms/step - loss: 0.0058 - accuracy: 0.9972 - val_loss: 0.0059 - val_accuracy: 0.9969\n",
            "Epoch 74/100\n",
            "12/12 [==============================] - 0s 13ms/step - loss: 0.0055 - accuracy: 0.9972 - val_loss: 0.0057 - val_accuracy: 0.9969\n",
            "Epoch 75/100\n",
            "12/12 [==============================] - 0s 13ms/step - loss: 0.0052 - accuracy: 0.9973 - val_loss: 0.0054 - val_accuracy: 0.9971\n",
            "Epoch 76/100\n",
            "12/12 [==============================] - 0s 11ms/step - loss: 0.0049 - accuracy: 0.9973 - val_loss: 0.0051 - val_accuracy: 0.9971\n",
            "Epoch 77/100\n",
            "12/12 [==============================] - 0s 10ms/step - loss: 0.0047 - accuracy: 0.9973 - val_loss: 0.0048 - val_accuracy: 0.9971\n",
            "Epoch 78/100\n",
            "12/12 [==============================] - 0s 10ms/step - loss: 0.0044 - accuracy: 0.9974 - val_loss: 0.0046 - val_accuracy: 0.9971\n",
            "Epoch 79/100\n",
            "12/12 [==============================] - 0s 11ms/step - loss: 0.0042 - accuracy: 0.9975 - val_loss: 0.0044 - val_accuracy: 0.9972\n",
            "Epoch 80/100\n",
            "12/12 [==============================] - 0s 9ms/step - loss: 0.0040 - accuracy: 0.9987 - val_loss: 0.0041 - val_accuracy: 0.9986\n",
            "Epoch 81/100\n",
            "12/12 [==============================] - 0s 9ms/step - loss: 0.0038 - accuracy: 0.9986 - val_loss: 0.0039 - val_accuracy: 0.9993\n",
            "Epoch 82/100\n",
            "12/12 [==============================] - 0s 9ms/step - loss: 0.0036 - accuracy: 0.9996 - val_loss: 0.0038 - val_accuracy: 0.9997\n",
            "Epoch 83/100\n",
            "12/12 [==============================] - 0s 10ms/step - loss: 0.0034 - accuracy: 0.9998 - val_loss: 0.0036 - val_accuracy: 0.9999\n",
            "Epoch 84/100\n",
            "12/12 [==============================] - 0s 10ms/step - loss: 0.0033 - accuracy: 0.9998 - val_loss: 0.0034 - val_accuracy: 0.9999\n",
            "Epoch 85/100\n",
            "12/12 [==============================] - 0s 9ms/step - loss: 0.0031 - accuracy: 0.9998 - val_loss: 0.0032 - val_accuracy: 0.9999\n",
            "Epoch 86/100\n",
            "12/12 [==============================] - 0s 9ms/step - loss: 0.0030 - accuracy: 0.9999 - val_loss: 0.0031 - val_accuracy: 0.9999\n",
            "Epoch 87/100\n",
            "12/12 [==============================] - 0s 10ms/step - loss: 0.0028 - accuracy: 0.9999 - val_loss: 0.0029 - val_accuracy: 0.9999\n",
            "Epoch 88/100\n",
            "12/12 [==============================] - 0s 9ms/step - loss: 0.0027 - accuracy: 0.9999 - val_loss: 0.0028 - val_accuracy: 0.9999\n",
            "Epoch 89/100\n",
            "12/12 [==============================] - 0s 9ms/step - loss: 0.0026 - accuracy: 0.9999 - val_loss: 0.0027 - val_accuracy: 0.9999\n",
            "Epoch 90/100\n",
            "12/12 [==============================] - 0s 10ms/step - loss: 0.0025 - accuracy: 0.9999 - val_loss: 0.0026 - val_accuracy: 0.9999\n",
            "Epoch 91/100\n",
            "12/12 [==============================] - 0s 10ms/step - loss: 0.0023 - accuracy: 0.9999 - val_loss: 0.0025 - val_accuracy: 0.9999\n",
            "Epoch 92/100\n",
            "12/12 [==============================] - 0s 9ms/step - loss: 0.0022 - accuracy: 0.9999 - val_loss: 0.0023 - val_accuracy: 0.9999\n",
            "Epoch 93/100\n",
            "12/12 [==============================] - 0s 11ms/step - loss: 0.0022 - accuracy: 0.9999 - val_loss: 0.0022 - val_accuracy: 0.9999\n",
            "Epoch 94/100\n",
            "12/12 [==============================] - 0s 10ms/step - loss: 0.0021 - accuracy: 0.9999 - val_loss: 0.0022 - val_accuracy: 0.9999\n",
            "Epoch 95/100\n",
            "12/12 [==============================] - 0s 9ms/step - loss: 0.0020 - accuracy: 0.9999 - val_loss: 0.0021 - val_accuracy: 0.9999\n",
            "Epoch 96/100\n",
            "12/12 [==============================] - 0s 10ms/step - loss: 0.0019 - accuracy: 0.9999 - val_loss: 0.0020 - val_accuracy: 0.9999\n",
            "Epoch 97/100\n",
            "12/12 [==============================] - 0s 9ms/step - loss: 0.0018 - accuracy: 0.9999 - val_loss: 0.0019 - val_accuracy: 0.9999\n",
            "Epoch 98/100\n",
            "12/12 [==============================] - 0s 9ms/step - loss: 0.0017 - accuracy: 0.9999 - val_loss: 0.0018 - val_accuracy: 0.9999\n",
            "Epoch 99/100\n",
            "12/12 [==============================] - 0s 10ms/step - loss: 0.0017 - accuracy: 0.9999 - val_loss: 0.0018 - val_accuracy: 0.9999\n",
            "Epoch 100/100\n",
            "12/12 [==============================] - 0s 10ms/step - loss: 0.0016 - accuracy: 0.9999 - val_loss: 0.0017 - val_accuracy: 0.9999\n"
          ]
        }
      ],
      "source": [
        "if model_selection[model_flag]==\"ALL\" or model_selection[model_flag] == \"LSTM\":\n",
        "  # training the model on training dataset\n",
        "  history = lst.fit(x_train, y_train, epochs=100, batch_size=5000,validation_split=0.2)"
      ]
    },
    {
      "cell_type": "code",
      "execution_count": 49,
      "metadata": {
        "id": "BCQtvJcXRcNr",
        "colab": {
          "base_uri": "https://localhost:8080/"
        },
        "outputId": "7a6423cd-4f4e-4d90-9281-4a3949c012b2"
      },
      "outputs": [
        {
          "output_type": "stream",
          "name": "stdout",
          "text": [
            "Saved model to disk\n",
            "Loaded model from disk\n"
          ]
        }
      ],
      "source": [
        "if model_selection[model_flag]==\"ALL\" or model_selection[model_flag] == \"LSTM\":\n",
        "  filepath = '/content/drive/MyDrive/Colab_Notebooks/Models/lst_binary_kitsune'+model_name_suffix+'.json'\n",
        "  weightspath = '/content/drive/MyDrive/Colab_Notebooks/Weights/lst_binary_kitsune'+model_name_suffix+'.h5'\n",
        "  if (not path.isfile(filepath)):\n",
        "    # serialize model to JSON\n",
        "    lst_json = lst.to_json()\n",
        "    with open(filepath, \"w\") as json_file:\n",
        "      json_file.write(lst_json)\n",
        "\n",
        "    # serialize weights to HDF5\n",
        "    lst.save_weights(weightspath)\n",
        "    print(\"Saved model to disk\")\n",
        "\n",
        "    # load json and create model\n",
        "    json_file = open(filepath, 'r')\n",
        "    loaded_model_json = json_file.read()\n",
        "    json_file.close()\n",
        "    lst = model_from_json(loaded_model_json)\n",
        "\n",
        "    # load weights into new model\n",
        "    lst.load_weights(weightspath)\n",
        "    print(\"Loaded model from disk\")"
      ]
    },
    {
      "cell_type": "code",
      "execution_count": 50,
      "metadata": {
        "id": "rPaW37T-R0dG",
        "colab": {
          "base_uri": "https://localhost:8080/"
        },
        "outputId": "1a647855-4440-443d-a3e9-1c73171aff5c"
      },
      "outputs": [
        {
          "output_type": "stream",
          "name": "stdout",
          "text": [
            "Loaded model from disk\n"
          ]
        }
      ],
      "source": [
        "if model_selection[model_flag]==\"ALL\" or model_selection[model_flag] == \"LSTM\":\n",
        "  # load json and create model\n",
        "  json_file = open(filepath, 'r')\n",
        "  loaded_model_json = json_file.read()\n",
        "  json_file.close()\n",
        "  lst = model_from_json(loaded_model_json)\n",
        "\n",
        "  # load weights into new model\n",
        "  lst.load_weights(weightspath)\n",
        "  print(\"Loaded model from disk\")"
      ]
    },
    {
      "cell_type": "code",
      "execution_count": 51,
      "metadata": {
        "id": "ukGDdSggR3na"
      },
      "outputs": [],
      "source": [
        "if model_selection[model_flag]==\"ALL\" or model_selection[model_flag] == \"LSTM\":\n",
        "  # defining loss function, optimizer, metrics and then compiling model\n",
        "  lst.compile(loss='binary_crossentropy',optimizer='adam',metrics=['accuracy'])"
      ]
    },
    {
      "cell_type": "code",
      "execution_count": 52,
      "metadata": {
        "id": "nvjY0u97R68f",
        "colab": {
          "base_uri": "https://localhost:8080/"
        },
        "outputId": "a4d8876d-ad8a-441c-821d-629578476a55"
      },
      "outputs": [
        {
          "output_type": "stream",
          "name": "stdout",
          "text": [
            "782/782 [==============================] - 3s 3ms/step - loss: 0.5969 - accuracy: 0.8345\n",
            "Test results - Loss: 0.5969491004943848 - Accuracy: 83.44799876213074%\n"
          ]
        }
      ],
      "source": [
        "if model_selection[model_flag]==\"ALL\" or model_selection[model_flag] == \"LSTM\":\n",
        "  # predicting target attribute on testing dataset\n",
        "  test_results = lst.evaluate(x_test, y_test, verbose=1)\n",
        "  print(f'Test results - Loss: {test_results[0]} - Accuracy: {test_results[1]*100}%')"
      ]
    },
    {
      "cell_type": "code",
      "execution_count": 53,
      "metadata": {
        "id": "f8yKMcIHR_jP",
        "colab": {
          "base_uri": "https://localhost:8080/",
          "height": 472
        },
        "outputId": "ee301c9e-8b09-468b-eff4-fd0fd5788db5"
      },
      "outputs": [
        {
          "output_type": "display_data",
          "data": {
            "text/plain": [
              "<Figure size 640x480 with 1 Axes>"
            ],
            "image/png": "[encoded data removed]"
          },
          "metadata": {}
        }
      ],
      "source": [
        "if model_selection[model_flag]==\"ALL\" or model_selection[model_flag] == \"LSTM\":\n",
        "  # Plot of accuracy vs epoch of train and test dataset\n",
        "  plt.plot(history.history['accuracy'])\n",
        "  plt.plot(history.history['val_accuracy'])\n",
        "  plt.title(\"Plot of accuracy vs epoch for train and test dataset\")\n",
        "  plt.ylabel('accuracy')\n",
        "  plt.xlabel('epoch')\n",
        "  plt.legend(['train', 'test'], loc='best')\n",
        "  plt.savefig('/content/drive/MyDrive/Colab_Notebooks/Plots/lstm_binary_accuracy.png')\n",
        "  plt.show()"
      ]
    },
    {
      "cell_type": "code",
      "execution_count": 54,
      "metadata": {
        "id": "M5g1Rw_SSb5n",
        "colab": {
          "base_uri": "https://localhost:8080/",
          "height": 472
        },
        "outputId": "832ae124-da5e-4588-bc8a-9976d8cab054"
      },
      "outputs": [
        {
          "output_type": "display_data",
          "data": {
            "text/plain": [
              "<Figure size 640x480 with 1 Axes>"
            ],
            "image/png": "[encoded data removed]"
          },
          "metadata": {}
        }
      ],
      "source": [
        "if model_selection[model_flag]==\"ALL\" or model_selection[model_flag] == \"LSTM\":\n",
        "  # Plot of loss vs epoch of train and test dataset\n",
        "  plt.plot(history.history['loss'])\n",
        "  plt.plot(history.history['val_loss'])\n",
        "  plt.title(\"Plot of loss vs epoch for train and test dataset\")\n",
        "  plt.ylabel('loss')\n",
        "  plt.xlabel('epoch')\n",
        "  plt.legend(['train', 'test'], loc='best')\n",
        "  plt.savefig('/content/drive/MyDrive/Colab_Notebooks/Plots/lstm_binary_loss.png')\n",
        "  plt.show()"
      ]
    },
    {
      "cell_type": "code",
      "execution_count": 55,
      "metadata": {
        "id": "osZa2OV9Se-T"
      },
      "outputs": [],
      "source": [
        "if model_selection[model_flag]==\"ALL\" or model_selection[model_flag] == \"LSTM\":\n",
        "  # representation of model layers\n",
        "  plot_model(lst, to_file='/content/drive/MyDrive/Colab_Notebooks/Plots/lstm_binary.png', show_shapes=True,)"
      ]
    },
    {
      "cell_type": "code",
      "execution_count": 56,
      "metadata": {
        "id": "lw4OLD4HSpaY",
        "colab": {
          "base_uri": "https://localhost:8080/"
        },
        "outputId": "1d8e952d-90a8-4bb6-e5b9-69b403b34070"
      },
      "outputs": [
        {
          "output_type": "execute_result",
          "data": {
            "text/plain": [
              "(25000,)"
            ]
          },
          "metadata": {},
          "execution_count": 56
        }
      ],
      "source": [
        "y_test = np.array(y_test)\n",
        "y_test.shape"
      ]
    },
    {
      "cell_type": "code",
      "execution_count": 57,
      "metadata": {
        "id": "4BvYVrKsTGr3",
        "colab": {
          "base_uri": "https://localhost:8080/"
        },
        "outputId": "ea2c10a0-7d15-4a31-f4be-3b4d9f6a7d6a"
      },
      "outputs": [
        {
          "output_type": "execute_result",
          "data": {
            "text/plain": [
              "numpy.ndarray"
            ]
          },
          "metadata": {},
          "execution_count": 57
        }
      ],
      "source": [
        "type(y_test)"
      ]
    },
    {
      "cell_type": "code",
      "execution_count": 58,
      "metadata": {
        "id": "KBvCGl6BS0FM",
        "colab": {
          "base_uri": "https://localhost:8080/"
        },
        "outputId": "8874a02b-fffa-4ccd-f9ad-e2f3db7a1d46"
      },
      "outputs": [
        {
          "output_type": "stream",
          "name": "stdout",
          "text": [
            "782/782 [==============================] - 2s 3ms/step\n"
          ]
        }
      ],
      "source": [
        "if model_selection[model_flag]==\"ALL\" or model_selection[model_flag] == \"LSTM\":\n",
        "  y_classes = (lst.predict(x_test)>0.5).astype('int32')"
      ]
    },
    {
      "cell_type": "code",
      "execution_count": 59,
      "metadata": {
        "id": "x_yVqBlLTtLW",
        "colab": {
          "base_uri": "https://localhost:8080/"
        },
        "outputId": "8362fae9-db64-4b06-fd05-a6ca3e6951d2"
      },
      "outputs": [
        {
          "output_type": "stream",
          "name": "stdout",
          "text": [
            "Recall Score -  0.5586622217442736\n",
            "F1 Score -  0.715170704845815\n",
            "Precision Score -  0.9934978007267163\n"
          ]
        }
      ],
      "source": [
        "if model_selection[model_flag]==\"ALL\" or model_selection[model_flag] == \"LSTM\":\n",
        "  print(\"Recall Score - \",recall_score(y_test,y_classes))\n",
        "  print(\"F1 Score - \",f1_score(y_test,y_classes))\n",
        "  print(\"Precision Score - \",precision_score(y_test,y_classes))"
      ]
    },
    {
      "cell_type": "code",
      "source": [
        "print(classification_report(y_test, y_classes, target_names=['0', '1']))\n",
        "cm = confusion_matrix(y_test, y_classes)\n",
        "disp = ConfusionMatrixDisplay(confusion_matrix=cm,\n",
        "                              display_labels=['0', '1'])\n",
        "disp.plot()\n",
        "\n",
        "plt.show()"
      ],
      "metadata": {
        "colab": {
          "base_uri": "https://localhost:8080/",
          "height": 610
        },
        "id": "lHw1E32esovH",
        "outputId": "62e066a7-023b-49c1-8053-b71fc2d8db75"
      },
      "execution_count": 60,
      "outputs": [
        {
          "output_type": "stream",
          "name": "stdout",
          "text": [
            "              precision    recall  f1-score   support\n",
            "\n",
            "           0       0.79      1.00      0.88     15701\n",
            "           1       0.99      0.56      0.72      9299\n",
            "\n",
            "    accuracy                           0.83     25000\n",
            "   macro avg       0.89      0.78      0.80     25000\n",
            "weighted avg       0.87      0.83      0.82     25000\n",
            "\n"
          ]
        },
        {
          "output_type": "display_data",
          "data": {
            "text/plain": [
              "<Figure size 640x480 with 2 Axes>"
            ],
            "image/png": "[encoded data removed]"
          },
          "metadata": {}
        }
      ]
    },
    {
      "cell_type": "markdown",
      "metadata": {
        "id": "H_g15uXe82BY"
      },
      "source": [
        "## **Auto Encoder**"
      ]
    },
    {
      "cell_type": "code",
      "execution_count": 61,
      "metadata": {
        "id": "VQ6pDxghmBwB"
      },
      "outputs": [],
      "source": [
        "if model_selection[model_flag]==\"ALL\" or model_selection[model_flag] == \"AE\":\n",
        "  # splitting the dataset 75% for training and 25% testing\n",
        "  X_train, X_test = train_test_split(bin_data, test_size=0.25, random_state=42)"
      ]
    },
    {
      "cell_type": "code",
      "execution_count": 62,
      "metadata": {
        "id": "uogVT92Q_6wh"
      },
      "outputs": [],
      "source": [
        "if model_selection[model_flag]==\"ALL\" or model_selection[model_flag] == \"AE\":\n",
        "  # dataset excluding target attribute (encoded, one-hot-encoded,original)\n",
        "  X_train = X_train.drop(['label'],axis=1) \n",
        "\n",
        "  y_test = X_test['label'] # target attribute\n",
        "\n",
        "  # dataset excluding target attribute (encoded, one-hot-encoded,original)\n",
        "  X_test = X_test.drop(['label'],axis=1)\n",
        "  # calling the normalization() function\n",
        "  X_train = normalization_train(X_train,numeric_cols)\n",
        "  X_test = normalization_test(X_test,numeric_cols)\n",
        "  X_train = X_train.values\n",
        "  X_test = X_test.values\n",
        "  y_test = y_test.values"
      ]
    },
    {
      "cell_type": "code",
      "execution_count": 63,
      "metadata": {
        "id": "s696BM9uKADC"
      },
      "outputs": [],
      "source": [
        "if model_selection[model_flag]==\"ALL\" or model_selection[model_flag] == \"AE\":\n",
        "  input_dim = X_train.shape[1]\n",
        "  encoding_dim = 50\n",
        "\n",
        "  #input layer\n",
        "  input_layer = Input(shape=(input_dim, ))\n",
        "  #encoding layer with 50 neurons\n",
        "  encoder = Dense(encoding_dim, activation=\"relu\")(input_layer)           \n",
        "  #decoding and output layer\n",
        "  output_layer = Dense(input_dim, activation='softmax')(encoder)"
      ]
    },
    {
      "cell_type": "code",
      "execution_count": 64,
      "metadata": {
        "id": "nLn3vHBZLQtj"
      },
      "outputs": [],
      "source": [
        "if model_selection[model_flag]==\"ALL\" or model_selection[model_flag] == \"AE\":\n",
        "  # creating model with input, encoding, decoding, output layers\n",
        "  autoencoder = Model(inputs=input_layer, outputs=output_layer)\n",
        "\n",
        "  # defining loss function, optimizer, metrics and then compiling model\n",
        "  autoencoder.compile(optimizer='adam', loss='mean_squared_error',metrics=['accuracy'])"
      ]
    },
    {
      "cell_type": "code",
      "execution_count": 65,
      "metadata": {
        "id": "X_zk7PMVLVNm",
        "colab": {
          "base_uri": "https://localhost:8080/"
        },
        "outputId": "768fccd5-0a32-4a4f-9565-0fc9a630ea10"
      },
      "outputs": [
        {
          "output_type": "stream",
          "name": "stdout",
          "text": [
            "Model: \"model\"\n",
            "_________________________________________________________________\n",
            " Layer (type)                Output Shape              Param #   \n",
            "=================================================================\n",
            " input_1 (InputLayer)        [(None, 115)]             0         \n",
            "                                                                 \n",
            " dense_3 (Dense)             (None, 50)                5800      \n",
            "                                                                 \n",
            " dense_4 (Dense)             (None, 115)               5865      \n",
            "                                                                 \n",
            "=================================================================\n",
            "Total params: 11,665\n",
            "Trainable params: 11,665\n",
            "Non-trainable params: 0\n",
            "_________________________________________________________________\n"
          ]
        }
      ],
      "source": [
        "if model_selection[model_flag]==\"ALL\" or model_selection[model_flag] == \"AE\":\n",
        "  # summary of model layers\n",
        "  autoencoder.summary()"
      ]
    },
    {
      "cell_type": "code",
      "execution_count": 66,
      "metadata": {
        "id": "We59NbebLdkJ",
        "colab": {
          "base_uri": "https://localhost:8080/"
        },
        "outputId": "d9418b6a-685a-4fc6-ba0f-f4b61b9d11f2"
      },
      "outputs": [
        {
          "output_type": "stream",
          "name": "stdout",
          "text": [
            "Epoch 1/100\n",
            "150/150 [==============================] - 3s 7ms/step - loss: 0.2629 - accuracy: 0.0571 - val_loss: inf - val_accuracy: 0.0000e+00\n",
            "Epoch 2/100\n",
            "150/150 [==============================] - 1s 6ms/step - loss: 0.2597 - accuracy: 0.1876 - val_loss: inf - val_accuracy: 0.0000e+00\n",
            "Epoch 3/100\n",
            "150/150 [==============================] - 1s 4ms/step - loss: 0.2596 - accuracy: 0.2358 - val_loss: inf - val_accuracy: 0.0000e+00\n",
            "Epoch 4/100\n",
            "150/150 [==============================] - 1s 4ms/step - loss: 0.2595 - accuracy: 0.2505 - val_loss: inf - val_accuracy: 0.0000e+00\n",
            "Epoch 5/100\n",
            "150/150 [==============================] - 1s 5ms/step - loss: 0.2595 - accuracy: 0.2401 - val_loss: inf - val_accuracy: 0.0000e+00\n",
            "Epoch 6/100\n",
            "150/150 [==============================] - 1s 5ms/step - loss: 0.2595 - accuracy: 0.2540 - val_loss: inf - val_accuracy: 0.0000e+00\n",
            "Epoch 7/100\n",
            "150/150 [==============================] - 1s 6ms/step - loss: 0.2595 - accuracy: 0.2716 - val_loss: inf - val_accuracy: 0.0000e+00\n",
            "Epoch 8/100\n",
            "150/150 [==============================] - 1s 6ms/step - loss: 0.2595 - accuracy: 0.2940 - val_loss: inf - val_accuracy: 0.0000e+00\n",
            "Epoch 9/100\n",
            "150/150 [==============================] - 1s 6ms/step - loss: 0.2595 - accuracy: 0.3027 - val_loss: inf - val_accuracy: 0.0000e+00\n",
            "Epoch 10/100\n",
            "150/150 [==============================] - 1s 6ms/step - loss: 0.2595 - accuracy: 0.3163 - val_loss: inf - val_accuracy: 0.0000e+00\n",
            "Epoch 11/100\n",
            "150/150 [==============================] - 1s 4ms/step - loss: 0.2595 - accuracy: 0.3286 - val_loss: inf - val_accuracy: 0.0000e+00\n",
            "Epoch 12/100\n",
            "150/150 [==============================] - 1s 5ms/step - loss: 0.2594 - accuracy: 0.3438 - val_loss: inf - val_accuracy: 0.0000e+00\n",
            "Epoch 13/100\n",
            "150/150 [==============================] - 1s 5ms/step - loss: 0.2594 - accuracy: 0.3377 - val_loss: inf - val_accuracy: 0.0000e+00\n",
            "Epoch 14/100\n",
            "150/150 [==============================] - 1s 4ms/step - loss: 0.2594 - accuracy: 0.3320 - val_loss: inf - val_accuracy: 0.0000e+00\n",
            "Epoch 15/100\n",
            "150/150 [==============================] - 1s 4ms/step - loss: 0.2594 - accuracy: 0.3249 - val_loss: inf - val_accuracy: 0.0000e+00\n",
            "Epoch 16/100\n",
            "150/150 [==============================] - 1s 4ms/step - loss: 0.2594 - accuracy: 0.3092 - val_loss: inf - val_accuracy: 0.0000e+00\n",
            "Epoch 17/100\n",
            "150/150 [==============================] - 1s 4ms/step - loss: 0.2594 - accuracy: 0.2996 - val_loss: inf - val_accuracy: 0.0000e+00\n",
            "Epoch 18/100\n",
            "150/150 [==============================] - 1s 4ms/step - loss: 0.2594 - accuracy: 0.2877 - val_loss: inf - val_accuracy: 0.0000e+00\n",
            "Epoch 19/100\n",
            "150/150 [==============================] - 1s 4ms/step - loss: 0.2594 - accuracy: 0.2838 - val_loss: inf - val_accuracy: 0.0000e+00\n",
            "Epoch 20/100\n",
            "150/150 [==============================] - 1s 5ms/step - loss: 0.2594 - accuracy: 0.2847 - val_loss: inf - val_accuracy: 0.0000e+00\n",
            "Epoch 21/100\n",
            "150/150 [==============================] - 1s 4ms/step - loss: 0.2594 - accuracy: 0.2786 - val_loss: inf - val_accuracy: 0.0000e+00\n",
            "Epoch 22/100\n",
            "150/150 [==============================] - 1s 4ms/step - loss: 0.2594 - accuracy: 0.2807 - val_loss: inf - val_accuracy: 0.0000e+00\n",
            "Epoch 23/100\n",
            "150/150 [==============================] - 1s 5ms/step - loss: 0.2594 - accuracy: 0.2794 - val_loss: inf - val_accuracy: 0.0000e+00\n",
            "Epoch 24/100\n",
            "150/150 [==============================] - 1s 4ms/step - loss: 0.2594 - accuracy: 0.2854 - val_loss: inf - val_accuracy: 0.0000e+00\n",
            "Epoch 25/100\n",
            "150/150 [==============================] - 1s 4ms/step - loss: 0.2594 - accuracy: 0.2948 - val_loss: inf - val_accuracy: 0.0000e+00\n",
            "Epoch 26/100\n",
            "150/150 [==============================] - 1s 6ms/step - loss: 0.2594 - accuracy: 0.2905 - val_loss: inf - val_accuracy: 0.0000e+00\n",
            "Epoch 27/100\n",
            "150/150 [==============================] - 1s 6ms/step - loss: 0.2594 - accuracy: 0.2952 - val_loss: inf - val_accuracy: 0.0000e+00\n",
            "Epoch 28/100\n",
            "150/150 [==============================] - 1s 6ms/step - loss: 0.2594 - accuracy: 0.2994 - val_loss: inf - val_accuracy: 0.0000e+00\n",
            "Epoch 29/100\n",
            "150/150 [==============================] - 1s 6ms/step - loss: 0.2594 - accuracy: 0.3003 - val_loss: inf - val_accuracy: 0.0000e+00\n",
            "Epoch 30/100\n",
            "150/150 [==============================] - 1s 6ms/step - loss: 0.2594 - accuracy: 0.2978 - val_loss: inf - val_accuracy: 0.0000e+00\n",
            "Epoch 31/100\n",
            "150/150 [==============================] - 1s 4ms/step - loss: 0.2594 - accuracy: 0.2998 - val_loss: inf - val_accuracy: 0.0000e+00\n",
            "Epoch 32/100\n",
            "150/150 [==============================] - 1s 4ms/step - loss: 0.2594 - accuracy: 0.3030 - val_loss: inf - val_accuracy: 0.0000e+00\n",
            "Epoch 33/100\n",
            "150/150 [==============================] - 1s 4ms/step - loss: 0.2594 - accuracy: 0.3023 - val_loss: inf - val_accuracy: 0.0000e+00\n",
            "Epoch 34/100\n",
            "150/150 [==============================] - 1s 4ms/step - loss: 0.2594 - accuracy: 0.2999 - val_loss: inf - val_accuracy: 0.0000e+00\n",
            "Epoch 35/100\n",
            "150/150 [==============================] - 1s 4ms/step - loss: 0.2594 - accuracy: 0.3025 - val_loss: inf - val_accuracy: 0.0000e+00\n",
            "Epoch 36/100\n",
            "150/150 [==============================] - 1s 4ms/step - loss: 0.2594 - accuracy: 0.3015 - val_loss: inf - val_accuracy: 0.0000e+00\n",
            "Epoch 37/100\n",
            "150/150 [==============================] - 1s 4ms/step - loss: 0.2594 - accuracy: 0.2957 - val_loss: inf - val_accuracy: 0.0000e+00\n",
            "Epoch 38/100\n",
            "150/150 [==============================] - 1s 5ms/step - loss: 0.2594 - accuracy: 0.2974 - val_loss: inf - val_accuracy: 0.0000e+00\n",
            "Epoch 39/100\n",
            "150/150 [==============================] - 1s 4ms/step - loss: 0.2594 - accuracy: 0.2981 - val_loss: inf - val_accuracy: 0.0000e+00\n",
            "Epoch 40/100\n",
            "150/150 [==============================] - 1s 4ms/step - loss: 0.2594 - accuracy: 0.2924 - val_loss: inf - val_accuracy: 0.0000e+00\n",
            "Epoch 41/100\n",
            "150/150 [==============================] - 1s 4ms/step - loss: 0.2594 - accuracy: 0.2909 - val_loss: inf - val_accuracy: 0.0000e+00\n",
            "Epoch 42/100\n",
            "150/150 [==============================] - 1s 4ms/step - loss: 0.2594 - accuracy: 0.2885 - val_loss: inf - val_accuracy: 0.0000e+00\n",
            "Epoch 43/100\n",
            "150/150 [==============================] - 1s 4ms/step - loss: 0.2594 - accuracy: 0.2910 - val_loss: inf - val_accuracy: 0.0000e+00\n",
            "Epoch 44/100\n",
            "150/150 [==============================] - 1s 4ms/step - loss: 0.2594 - accuracy: 0.2940 - val_loss: inf - val_accuracy: 0.0000e+00\n",
            "Epoch 45/100\n",
            "150/150 [==============================] - 1s 4ms/step - loss: 0.2594 - accuracy: 0.2903 - val_loss: inf - val_accuracy: 0.0000e+00\n",
            "Epoch 46/100\n",
            "150/150 [==============================] - 1s 6ms/step - loss: 0.2594 - accuracy: 0.2924 - val_loss: inf - val_accuracy: 0.0000e+00\n",
            "Epoch 47/100\n",
            "150/150 [==============================] - 1s 6ms/step - loss: 0.2594 - accuracy: 0.2955 - val_loss: inf - val_accuracy: 0.0000e+00\n",
            "Epoch 48/100\n",
            "150/150 [==============================] - 1s 6ms/step - loss: 0.2594 - accuracy: 0.2941 - val_loss: inf - val_accuracy: 0.0000e+00\n",
            "Epoch 49/100\n",
            "150/150 [==============================] - 1s 6ms/step - loss: 0.2594 - accuracy: 0.2977 - val_loss: inf - val_accuracy: 0.0000e+00\n",
            "Epoch 50/100\n",
            "150/150 [==============================] - 1s 6ms/step - loss: 0.2594 - accuracy: 0.2965 - val_loss: inf - val_accuracy: 0.0000e+00\n",
            "Epoch 51/100\n",
            "150/150 [==============================] - 1s 5ms/step - loss: 0.2594 - accuracy: 0.2993 - val_loss: inf - val_accuracy: 0.0000e+00\n",
            "Epoch 52/100\n",
            "150/150 [==============================] - 1s 5ms/step - loss: 0.2594 - accuracy: 0.3003 - val_loss: inf - val_accuracy: 0.0000e+00\n",
            "Epoch 53/100\n",
            "150/150 [==============================] - 1s 4ms/step - loss: 0.2594 - accuracy: 0.2956 - val_loss: inf - val_accuracy: 0.0000e+00\n",
            "Epoch 54/100\n",
            "150/150 [==============================] - 1s 4ms/step - loss: 0.2594 - accuracy: 0.3006 - val_loss: inf - val_accuracy: 0.0000e+00\n",
            "Epoch 55/100\n",
            "150/150 [==============================] - 1s 5ms/step - loss: 0.2594 - accuracy: 0.3024 - val_loss: inf - val_accuracy: 0.0000e+00\n",
            "Epoch 56/100\n",
            "150/150 [==============================] - 1s 4ms/step - loss: 0.2594 - accuracy: 0.3070 - val_loss: inf - val_accuracy: 0.0000e+00\n",
            "Epoch 57/100\n",
            "150/150 [==============================] - 1s 5ms/step - loss: 0.2594 - accuracy: 0.3058 - val_loss: inf - val_accuracy: 0.0000e+00\n",
            "Epoch 58/100\n",
            "150/150 [==============================] - 1s 4ms/step - loss: 0.2594 - accuracy: 0.3065 - val_loss: inf - val_accuracy: 0.0000e+00\n",
            "Epoch 59/100\n",
            "150/150 [==============================] - 1s 4ms/step - loss: 0.2594 - accuracy: 0.3073 - val_loss: inf - val_accuracy: 0.0000e+00\n",
            "Epoch 60/100\n",
            "150/150 [==============================] - 1s 4ms/step - loss: 0.2594 - accuracy: 0.3077 - val_loss: inf - val_accuracy: 0.0000e+00\n",
            "Epoch 61/100\n",
            "150/150 [==============================] - 1s 4ms/step - loss: 0.2594 - accuracy: 0.3107 - val_loss: inf - val_accuracy: 0.0000e+00\n",
            "Epoch 62/100\n",
            "150/150 [==============================] - 1s 4ms/step - loss: 0.2594 - accuracy: 0.3134 - val_loss: inf - val_accuracy: 0.0000e+00\n",
            "Epoch 63/100\n",
            "150/150 [==============================] - 1s 4ms/step - loss: 0.2594 - accuracy: 0.3165 - val_loss: inf - val_accuracy: 0.0000e+00\n",
            "Epoch 64/100\n",
            "150/150 [==============================] - 1s 4ms/step - loss: 0.2594 - accuracy: 0.3165 - val_loss: inf - val_accuracy: 0.0000e+00\n",
            "Epoch 65/100\n",
            "150/150 [==============================] - 1s 5ms/step - loss: 0.2594 - accuracy: 0.3197 - val_loss: inf - val_accuracy: 0.0000e+00\n",
            "Epoch 66/100\n",
            "150/150 [==============================] - 1s 6ms/step - loss: 0.2594 - accuracy: 0.3198 - val_loss: inf - val_accuracy: 0.0000e+00\n",
            "Epoch 67/100\n",
            "150/150 [==============================] - 1s 6ms/step - loss: 0.2594 - accuracy: 0.3208 - val_loss: inf - val_accuracy: 0.0000e+00\n",
            "Epoch 68/100\n",
            "150/150 [==============================] - 1s 6ms/step - loss: 0.2594 - accuracy: 0.3240 - val_loss: inf - val_accuracy: 0.0000e+00\n",
            "Epoch 69/100\n",
            "150/150 [==============================] - 1s 6ms/step - loss: 0.2594 - accuracy: 0.3261 - val_loss: inf - val_accuracy: 0.0000e+00\n",
            "Epoch 70/100\n",
            "150/150 [==============================] - 1s 5ms/step - loss: 0.2594 - accuracy: 0.3238 - val_loss: inf - val_accuracy: 0.0000e+00\n",
            "Epoch 71/100\n",
            "150/150 [==============================] - 1s 4ms/step - loss: 0.2594 - accuracy: 0.3213 - val_loss: inf - val_accuracy: 0.0000e+00\n",
            "Epoch 72/100\n",
            "150/150 [==============================] - 1s 4ms/step - loss: 0.2594 - accuracy: 0.3227 - val_loss: inf - val_accuracy: 0.0000e+00\n",
            "Epoch 73/100\n",
            "150/150 [==============================] - 1s 4ms/step - loss: 0.2594 - accuracy: 0.3251 - val_loss: inf - val_accuracy: 0.0000e+00\n",
            "Epoch 74/100\n",
            "150/150 [==============================] - 1s 4ms/step - loss: 0.2594 - accuracy: 0.3260 - val_loss: inf - val_accuracy: 0.0000e+00\n",
            "Epoch 75/100\n",
            "150/150 [==============================] - 1s 4ms/step - loss: 0.2594 - accuracy: 0.3267 - val_loss: inf - val_accuracy: 0.0000e+00\n",
            "Epoch 76/100\n",
            "150/150 [==============================] - 1s 5ms/step - loss: 0.2594 - accuracy: 0.3253 - val_loss: inf - val_accuracy: 0.0000e+00\n",
            "Epoch 77/100\n",
            "150/150 [==============================] - 1s 4ms/step - loss: 0.2594 - accuracy: 0.3289 - val_loss: inf - val_accuracy: 0.0000e+00\n",
            "Epoch 78/100\n",
            "150/150 [==============================] - 1s 4ms/step - loss: 0.2594 - accuracy: 0.3242 - val_loss: inf - val_accuracy: 0.0000e+00\n",
            "Epoch 79/100\n",
            "150/150 [==============================] - 1s 5ms/step - loss: 0.2594 - accuracy: 0.3270 - val_loss: inf - val_accuracy: 0.0000e+00\n",
            "Epoch 80/100\n",
            "150/150 [==============================] - 1s 4ms/step - loss: 0.2594 - accuracy: 0.3285 - val_loss: inf - val_accuracy: 0.0000e+00\n",
            "Epoch 81/100\n",
            "150/150 [==============================] - 1s 4ms/step - loss: 0.2594 - accuracy: 0.3259 - val_loss: inf - val_accuracy: 0.0000e+00\n",
            "Epoch 82/100\n",
            "150/150 [==============================] - 1s 4ms/step - loss: 0.2594 - accuracy: 0.3273 - val_loss: inf - val_accuracy: 0.0000e+00\n",
            "Epoch 83/100\n",
            "150/150 [==============================] - 1s 5ms/step - loss: 0.2594 - accuracy: 0.3303 - val_loss: inf - val_accuracy: 0.0000e+00\n",
            "Epoch 84/100\n",
            "150/150 [==============================] - 1s 4ms/step - loss: 0.2594 - accuracy: 0.3293 - val_loss: inf - val_accuracy: 0.0000e+00\n",
            "Epoch 85/100\n",
            "150/150 [==============================] - 1s 6ms/step - loss: 0.2594 - accuracy: 0.3288 - val_loss: inf - val_accuracy: 0.0000e+00\n",
            "Epoch 86/100\n",
            "150/150 [==============================] - 1s 6ms/step - loss: 0.2594 - accuracy: 0.3272 - val_loss: inf - val_accuracy: 0.0000e+00\n",
            "Epoch 87/100\n",
            "150/150 [==============================] - 1s 6ms/step - loss: 0.2594 - accuracy: 0.3317 - val_loss: inf - val_accuracy: 0.0000e+00\n",
            "Epoch 88/100\n",
            "150/150 [==============================] - 1s 6ms/step - loss: 0.2594 - accuracy: 0.3306 - val_loss: inf - val_accuracy: 0.0000e+00\n",
            "Epoch 89/100\n",
            "150/150 [==============================] - 1s 6ms/step - loss: 0.2594 - accuracy: 0.3298 - val_loss: inf - val_accuracy: 0.0000e+00\n",
            "Epoch 90/100\n",
            "150/150 [==============================] - 1s 4ms/step - loss: 0.2594 - accuracy: 0.3301 - val_loss: inf - val_accuracy: 0.0000e+00\n",
            "Epoch 91/100\n",
            "150/150 [==============================] - 1s 4ms/step - loss: 0.2594 - accuracy: 0.3319 - val_loss: inf - val_accuracy: 0.0000e+00\n",
            "Epoch 92/100\n",
            "150/150 [==============================] - 1s 4ms/step - loss: 0.2594 - accuracy: 0.3290 - val_loss: inf - val_accuracy: 0.0000e+00\n",
            "Epoch 93/100\n",
            "150/150 [==============================] - 1s 4ms/step - loss: 0.2594 - accuracy: 0.3278 - val_loss: inf - val_accuracy: 0.0000e+00\n",
            "Epoch 94/100\n",
            "150/150 [==============================] - 1s 5ms/step - loss: 0.2594 - accuracy: 0.3284 - val_loss: inf - val_accuracy: 0.0000e+00\n",
            "Epoch 95/100\n",
            "150/150 [==============================] - 1s 5ms/step - loss: 0.2594 - accuracy: 0.3321 - val_loss: inf - val_accuracy: 0.0000e+00\n",
            "Epoch 96/100\n",
            "150/150 [==============================] - 1s 4ms/step - loss: 0.2594 - accuracy: 0.3324 - val_loss: inf - val_accuracy: 0.0000e+00\n",
            "Epoch 97/100\n",
            "150/150 [==============================] - 1s 4ms/step - loss: 0.2594 - accuracy: 0.3334 - val_loss: inf - val_accuracy: 0.0000e+00\n",
            "Epoch 98/100\n",
            "150/150 [==============================] - 1s 4ms/step - loss: 0.2594 - accuracy: 0.3276 - val_loss: inf - val_accuracy: 0.0000e+00\n",
            "Epoch 99/100\n",
            "150/150 [==============================] - 1s 4ms/step - loss: 0.2594 - accuracy: 0.3280 - val_loss: inf - val_accuracy: 0.0000e+00\n",
            "Epoch 100/100\n",
            "150/150 [==============================] - 1s 5ms/step - loss: 0.2594 - accuracy: 0.3339 - val_loss: inf - val_accuracy: 0.0000e+00\n"
          ]
        }
      ],
      "source": [
        "if model_selection[model_flag]==\"ALL\" or model_selection[model_flag] == \"AE\":\n",
        "  # training the model on training dataset\n",
        "  history = autoencoder.fit(X_train, X_train, epochs=100,batch_size=500,validation_data=(X_test, X_test)).history"
      ]
    },
    {
      "cell_type": "code",
      "execution_count": 67,
      "metadata": {
        "id": "AdtR3-9xLliU",
        "colab": {
          "base_uri": "https://localhost:8080/"
        },
        "outputId": "7b16d38d-31b7-4ed6-a93c-14944765780f"
      },
      "outputs": [
        {
          "output_type": "stream",
          "name": "stdout",
          "text": [
            "Saved model to disk\n",
            "Loaded model from disk\n"
          ]
        }
      ],
      "source": [
        "if model_selection[model_flag]==\"ALL\" or model_selection[model_flag] == \"AE\":\n",
        "  filepath = '/content/drive/MyDrive/Colab_Notebooks/Models/ae_binary'+model_name_suffix+'.json'\n",
        "  weightspath = '/content/drive/MyDrive/Colab_Notebooks/Weights/ae_binary'+model_name_suffix+'.h5'\n",
        "  if (not path.isfile(filepath)): \n",
        "    # serialize model to JSON\n",
        "    autoencoder_json = autoencoder.to_json()\n",
        "    with open(filepath, \"w\") as json_file:\n",
        "      json_file.write(autoencoder_json)\n",
        "\n",
        "    # serialize weights to HDF5\n",
        "    autoencoder.save_weights(weightspath)\n",
        "    print(\"Saved model to disk\")\n",
        "\n",
        "    # load json and create model\n",
        "    json_file = open(filepath, 'r')\n",
        "    loaded_model_json = json_file.read()\n",
        "    json_file.close()\n",
        "    autoencoder = model_from_json(loaded_model_json)\n",
        "\n",
        "    # load weights into new model\n",
        "    autoencoder.load_weights(weightspath)\n",
        "    print(\"Loaded model from disk\")"
      ]
    },
    {
      "cell_type": "code",
      "execution_count": 68,
      "metadata": {
        "id": "Wqr6HVtMLwx9"
      },
      "outputs": [],
      "source": [
        "if model_selection[model_flag]==\"ALL\" or model_selection[model_flag] == \"AE\":\n",
        "  # defining loss function, optimizer, metrics and then compiling model\n",
        "  autoencoder.compile(optimizer='adam', loss='mean_squared_error',metrics=['accuracy'])"
      ]
    },
    {
      "cell_type": "code",
      "execution_count": 69,
      "metadata": {
        "id": "FQrjCk2hL09x",
        "colab": {
          "base_uri": "https://localhost:8080/"
        },
        "outputId": "4e702d78-b5f0-4c1b-e395-2a44fc1775b7"
      },
      "outputs": [
        {
          "output_type": "stream",
          "name": "stdout",
          "text": [
            "782/782 [==============================] - 2s 2ms/step - loss: inf - accuracy: 0.0000e+00\n",
            "Test results - Loss: inf - Accuracy: 0.0%\n"
          ]
        }
      ],
      "source": [
        "if model_selection[model_flag]==\"ALL\" or model_selection[model_flag] == \"AE\":\n",
        "  # predicting target attribute on testing dataset\n",
        "  test_results = autoencoder.evaluate(X_test, X_test, verbose=1)\n",
        "  print(f'Test results - Loss: {test_results[0]} - Accuracy: {test_results[1]}%')"
      ]
    },
    {
      "cell_type": "code",
      "execution_count": 70,
      "metadata": {
        "id": "VqQsjSZcL1-B",
        "colab": {
          "base_uri": "https://localhost:8080/",
          "height": 472
        },
        "outputId": "f8010079-f819-442c-e1ff-17e1f5fb65d8"
      },
      "outputs": [
        {
          "output_type": "display_data",
          "data": {
            "text/plain": [
              "<Figure size 640x480 with 1 Axes>"
            ],
            "image/png": "[encoded data removed]"
          },
          "metadata": {}
        }
      ],
      "source": [
        "if model_selection[model_flag]==\"ALL\" or model_selection[model_flag] == \"AE\":\n",
        "  # Plot of loss vs epoch of train and test dataset\n",
        "  plt.plot(history['loss'])\n",
        "  plt.plot(history['val_loss'])\n",
        "  plt.title(\"Plot of loss vs epoch for train and test dataset\")\n",
        "  plt.ylabel('loss')\n",
        "  plt.xlabel('epoch')\n",
        "  plt.legend(['train', 'test'], loc='upper right')\n",
        "  plt.savefig('/content/drive/MyDrive/Colab_Notebooks/Plots/ae_binary_loss.png')\n",
        "  plt.show()"
      ]
    },
    {
      "cell_type": "code",
      "execution_count": 71,
      "metadata": {
        "id": "fkjD9QXKL25Z",
        "colab": {
          "base_uri": "https://localhost:8080/",
          "height": 472
        },
        "outputId": "4d78cd36-179c-443d-b510-32e6a7c417e5"
      },
      "outputs": [
        {
          "output_type": "display_data",
          "data": {
            "text/plain": [
              "<Figure size 640x480 with 1 Axes>"
            ],
            "image/png": "[encoded data removed]"
          },
          "metadata": {}
        }
      ],
      "source": [
        "if model_selection[model_flag]==\"ALL\" or model_selection[model_flag] == \"AE\":\n",
        "  # Plot of accuracy vs epoch of train and test dataset\n",
        "  plt.plot(history['accuracy'])\n",
        "  plt.plot(history['val_accuracy'])\n",
        "  plt.title(\"Plot of accuracy vs epoch for train and test dataset\")\n",
        "  plt.ylabel('accuracy')\n",
        "  plt.xlabel('epoch')\n",
        "  plt.legend(['train', 'test'], loc='best')\n",
        "  plt.savefig('/content/drive/MyDrive/Colab_Notebooks/Plots/ae_binary_accuracy.png')\n",
        "  plt.show()"
      ]
    },
    {
      "cell_type": "code",
      "execution_count": 72,
      "metadata": {
        "id": "lf9q83sBMGPD"
      },
      "outputs": [],
      "source": [
        "if model_selection[model_flag]==\"ALL\" or model_selection[model_flag] == \"AE\":\n",
        "  # representation of model layers\n",
        "  plot_model(autoencoder, to_file='/content/drive/MyDrive/Colab_Notebooks/Plots/ae_binary.png', show_shapes=True,)"
      ]
    },
    {
      "cell_type": "code",
      "execution_count": 73,
      "metadata": {
        "id": "SFIXKGwuMLFo",
        "colab": {
          "base_uri": "https://localhost:8080/"
        },
        "outputId": "517296d3-0fc1-45c4-ddef-42e245f16434"
      },
      "outputs": [
        {
          "output_type": "stream",
          "name": "stdout",
          "text": [
            "782/782 [==============================] - 2s 2ms/step\n"
          ]
        }
      ],
      "source": [
        "if model_selection[model_flag]==\"ALL\" or model_selection[model_flag] == \"AE\":\n",
        "  # calculating reconstruction error \n",
        "  predictions = autoencoder.predict(X_test)"
      ]
    },
    {
      "cell_type": "code",
      "execution_count": 74,
      "metadata": {
        "id": "cqKJCyZnMMEG"
      },
      "outputs": [],
      "source": [
        "if model_selection[model_flag]==\"ALL\" or model_selection[model_flag] == \"AE\":\n",
        "  mse = np.mean(np.power(X_test - predictions, 2), axis=1)\n",
        "  error_df = pd.DataFrame({'reconstruction_error': mse,\n",
        "                           'true_class': y_test})"
      ]
    },
    {
      "cell_type": "code",
      "execution_count": 75,
      "metadata": {
        "id": "EdQJudbDMhmB",
        "colab": {
          "base_uri": "https://localhost:8080/"
        },
        "outputId": "6e0590c7-4d56-4e29-dfb4-44540520c8a9"
      },
      "outputs": [
        {
          "output_type": "stream",
          "name": "stdout",
          "text": [
            "(25000, 115)\n"
          ]
        }
      ],
      "source": [
        "if model_selection[model_flag]==\"ALL\" or model_selection[model_flag] == \"AE\":\n",
        "  error_df.describe()\n",
        "  print(predictions.shape)"
      ]
    },
    {
      "cell_type": "markdown",
      "metadata": {
        "id": "PHsaAAMmNQrs"
      },
      "source": [
        "## **AE Classifier**"
      ]
    },
    {
      "cell_type": "code",
      "execution_count": 76,
      "metadata": {
        "id": "1hK07LDBMoZg"
      },
      "outputs": [],
      "source": [
        "if model_selection[model_flag]==\"ALL\" or model_selection[model_flag] == \"AE\":\n",
        "  i_dim = predictions.shape[1]\n",
        "\n",
        "  #input layer\n",
        "  i_layer = Input(shape=(i_dim, ))\n",
        "  #hidden layer with 50 neurons\n",
        "  fvector = Dense(50, activation=\"sigmoid\")(i_layer)                    \n",
        "  #doutput layer\n",
        "  o_layer = Dense(1, activation='sigmoid')(fvector)"
      ]
    },
    {
      "cell_type": "code",
      "execution_count": 77,
      "metadata": {
        "id": "Efq77rVINXWE"
      },
      "outputs": [],
      "source": [
        "if model_selection[model_flag]==\"ALL\" or model_selection[model_flag] == \"AE\":\n",
        "  # creating model with input, encoding, decoding, output layers\n",
        "  ae_classifier = Model(inputs=i_layer, outputs=o_layer)\n",
        "\n",
        "  # defining loss function, optimizer, metrics and then compiling model\n",
        "  ae_classifier.compile(optimizer='adam', loss='binary_crossentropy',metrics=['accuracy'])"
      ]
    },
    {
      "cell_type": "code",
      "execution_count": 78,
      "metadata": {
        "id": "0Yl594VGNX1W",
        "colab": {
          "base_uri": "https://localhost:8080/"
        },
        "outputId": "169d95c5-a7b1-438b-8fc3-0e561f732c50"
      },
      "outputs": [
        {
          "output_type": "stream",
          "name": "stdout",
          "text": [
            "Model: \"model_1\"\n",
            "_________________________________________________________________\n",
            " Layer (type)                Output Shape              Param #   \n",
            "=================================================================\n",
            " input_2 (InputLayer)        [(None, 115)]             0         \n",
            "                                                                 \n",
            " dense_5 (Dense)             (None, 50)                5800      \n",
            "                                                                 \n",
            " dense_6 (Dense)             (None, 1)                 51        \n",
            "                                                                 \n",
            "=================================================================\n",
            "Total params: 5,851\n",
            "Trainable params: 5,851\n",
            "Non-trainable params: 0\n",
            "_________________________________________________________________\n"
          ]
        }
      ],
      "source": [
        "if model_selection[model_flag]==\"ALL\" or model_selection[model_flag] == \"AE\":\n",
        "  # summary of model layers\n",
        "  ae_classifier.summary()"
      ]
    },
    {
      "cell_type": "code",
      "execution_count": 79,
      "metadata": {
        "id": "23n8Qt0uNX8Z",
        "colab": {
          "base_uri": "https://localhost:8080/"
        },
        "outputId": "052d7947-44d8-4a2c-c6b7-6b373496e7fa"
      },
      "outputs": [
        {
          "output_type": "stream",
          "name": "stdout",
          "text": [
            "Epoch 1/300\n",
            "40/40 [==============================] - 2s 8ms/step - loss: 0.6575 - accuracy: 0.6133 - val_loss: 0.6398 - val_accuracy: 0.6224\n",
            "Epoch 2/300\n",
            "40/40 [==============================] - 0s 4ms/step - loss: 0.6235 - accuracy: 0.6295 - val_loss: 0.6118 - val_accuracy: 0.6224\n",
            "Epoch 3/300\n",
            "40/40 [==============================] - 0s 5ms/step - loss: 0.5954 - accuracy: 0.6295 - val_loss: 0.5808 - val_accuracy: 0.6224\n",
            "Epoch 4/300\n",
            "40/40 [==============================] - 0s 4ms/step - loss: 0.5625 - accuracy: 0.6295 - val_loss: 0.5439 - val_accuracy: 0.6224\n",
            "Epoch 5/300\n",
            "40/40 [==============================] - 0s 4ms/step - loss: 0.5233 - accuracy: 0.8071 - val_loss: 0.5005 - val_accuracy: 0.9174\n",
            "Epoch 6/300\n",
            "40/40 [==============================] - 0s 4ms/step - loss: 0.4793 - accuracy: 0.9133 - val_loss: 0.4535 - val_accuracy: 0.9174\n",
            "Epoch 7/300\n",
            "40/40 [==============================] - 0s 4ms/step - loss: 0.4340 - accuracy: 0.9136 - val_loss: 0.4081 - val_accuracy: 0.9188\n",
            "Epoch 8/300\n",
            "40/40 [==============================] - 0s 4ms/step - loss: 0.3923 - accuracy: 0.9140 - val_loss: 0.3681 - val_accuracy: 0.9188\n",
            "Epoch 9/300\n",
            "40/40 [==============================] - 0s 4ms/step - loss: 0.3576 - accuracy: 0.9140 - val_loss: 0.3361 - val_accuracy: 0.9188\n",
            "Epoch 10/300\n",
            "40/40 [==============================] - 0s 4ms/step - loss: 0.3307 - accuracy: 0.9140 - val_loss: 0.3122 - val_accuracy: 0.9188\n",
            "Epoch 11/300\n",
            "40/40 [==============================] - 0s 5ms/step - loss: 0.3110 - accuracy: 0.9140 - val_loss: 0.2947 - val_accuracy: 0.9188\n",
            "Epoch 12/300\n",
            "40/40 [==============================] - 0s 5ms/step - loss: 0.2968 - accuracy: 0.9140 - val_loss: 0.2820 - val_accuracy: 0.9188\n",
            "Epoch 13/300\n",
            "40/40 [==============================] - 0s 4ms/step - loss: 0.2863 - accuracy: 0.9140 - val_loss: 0.2727 - val_accuracy: 0.9188\n",
            "Epoch 14/300\n",
            "40/40 [==============================] - 0s 5ms/step - loss: 0.2787 - accuracy: 0.9140 - val_loss: 0.2657 - val_accuracy: 0.9188\n",
            "Epoch 15/300\n",
            "40/40 [==============================] - 0s 5ms/step - loss: 0.2729 - accuracy: 0.9140 - val_loss: 0.2604 - val_accuracy: 0.9188\n",
            "Epoch 16/300\n",
            "40/40 [==============================] - 0s 4ms/step - loss: 0.2685 - accuracy: 0.9140 - val_loss: 0.2563 - val_accuracy: 0.9188\n",
            "Epoch 17/300\n",
            "40/40 [==============================] - 0s 4ms/step - loss: 0.2651 - accuracy: 0.9140 - val_loss: 0.2531 - val_accuracy: 0.9188\n",
            "Epoch 18/300\n",
            "40/40 [==============================] - 0s 4ms/step - loss: 0.2623 - accuracy: 0.9140 - val_loss: 0.2506 - val_accuracy: 0.9188\n",
            "Epoch 19/300\n",
            "40/40 [==============================] - 0s 4ms/step - loss: 0.2602 - accuracy: 0.9140 - val_loss: 0.2486 - val_accuracy: 0.9188\n",
            "Epoch 20/300\n",
            "40/40 [==============================] - 0s 4ms/step - loss: 0.2583 - accuracy: 0.9140 - val_loss: 0.2468 - val_accuracy: 0.9188\n",
            "Epoch 21/300\n",
            "40/40 [==============================] - 0s 4ms/step - loss: 0.2569 - accuracy: 0.9140 - val_loss: 0.2454 - val_accuracy: 0.9188\n",
            "Epoch 22/300\n",
            "40/40 [==============================] - 0s 4ms/step - loss: 0.2556 - accuracy: 0.9140 - val_loss: 0.2443 - val_accuracy: 0.9188\n",
            "Epoch 23/300\n",
            "40/40 [==============================] - 0s 4ms/step - loss: 0.2546 - accuracy: 0.9140 - val_loss: 0.2434 - val_accuracy: 0.9188\n",
            "Epoch 24/300\n",
            "40/40 [==============================] - 0s 4ms/step - loss: 0.2538 - accuracy: 0.9140 - val_loss: 0.2426 - val_accuracy: 0.9188\n",
            "Epoch 25/300\n",
            "40/40 [==============================] - 0s 4ms/step - loss: 0.2530 - accuracy: 0.9140 - val_loss: 0.2420 - val_accuracy: 0.9188\n",
            "Epoch 26/300\n",
            "40/40 [==============================] - 0s 4ms/step - loss: 0.2525 - accuracy: 0.9140 - val_loss: 0.2414 - val_accuracy: 0.9188\n",
            "Epoch 27/300\n",
            "40/40 [==============================] - 0s 4ms/step - loss: 0.2521 - accuracy: 0.9140 - val_loss: 0.2410 - val_accuracy: 0.9188\n",
            "Epoch 28/300\n",
            "40/40 [==============================] - 0s 4ms/step - loss: 0.2515 - accuracy: 0.9140 - val_loss: 0.2405 - val_accuracy: 0.9188\n",
            "Epoch 29/300\n",
            "40/40 [==============================] - 0s 4ms/step - loss: 0.2511 - accuracy: 0.9140 - val_loss: 0.2402 - val_accuracy: 0.9188\n",
            "Epoch 30/300\n",
            "40/40 [==============================] - 0s 4ms/step - loss: 0.2508 - accuracy: 0.9140 - val_loss: 0.2399 - val_accuracy: 0.9188\n",
            "Epoch 31/300\n",
            "40/40 [==============================] - 0s 4ms/step - loss: 0.2507 - accuracy: 0.9140 - val_loss: 0.2398 - val_accuracy: 0.9188\n",
            "Epoch 32/300\n",
            "40/40 [==============================] - 0s 4ms/step - loss: 0.2503 - accuracy: 0.9140 - val_loss: 0.2395 - val_accuracy: 0.9188\n",
            "Epoch 33/300\n",
            "40/40 [==============================] - 0s 4ms/step - loss: 0.2501 - accuracy: 0.9140 - val_loss: 0.2393 - val_accuracy: 0.9188\n",
            "Epoch 34/300\n",
            "40/40 [==============================] - 0s 4ms/step - loss: 0.2500 - accuracy: 0.9140 - val_loss: 0.2393 - val_accuracy: 0.9188\n",
            "Epoch 35/300\n",
            "40/40 [==============================] - 0s 4ms/step - loss: 0.2498 - accuracy: 0.9140 - val_loss: 0.2392 - val_accuracy: 0.9188\n",
            "Epoch 36/300\n",
            "40/40 [==============================] - 0s 4ms/step - loss: 0.2495 - accuracy: 0.9140 - val_loss: 0.2390 - val_accuracy: 0.9188\n",
            "Epoch 37/300\n",
            "40/40 [==============================] - 0s 4ms/step - loss: 0.2495 - accuracy: 0.9140 - val_loss: 0.2388 - val_accuracy: 0.9188\n",
            "Epoch 38/300\n",
            "40/40 [==============================] - 0s 4ms/step - loss: 0.2493 - accuracy: 0.9140 - val_loss: 0.2388 - val_accuracy: 0.9188\n",
            "Epoch 39/300\n",
            "40/40 [==============================] - 0s 4ms/step - loss: 0.2493 - accuracy: 0.9140 - val_loss: 0.2387 - val_accuracy: 0.9188\n",
            "Epoch 40/300\n",
            "40/40 [==============================] - 0s 4ms/step - loss: 0.2491 - accuracy: 0.9140 - val_loss: 0.2386 - val_accuracy: 0.9188\n",
            "Epoch 41/300\n",
            "40/40 [==============================] - 0s 4ms/step - loss: 0.2490 - accuracy: 0.9140 - val_loss: 0.2386 - val_accuracy: 0.9188\n",
            "Epoch 42/300\n",
            "40/40 [==============================] - 0s 6ms/step - loss: 0.2491 - accuracy: 0.9140 - val_loss: 0.2388 - val_accuracy: 0.9188\n",
            "Epoch 43/300\n",
            "40/40 [==============================] - 0s 5ms/step - loss: 0.2490 - accuracy: 0.9140 - val_loss: 0.2386 - val_accuracy: 0.9188\n",
            "Epoch 44/300\n",
            "40/40 [==============================] - 0s 7ms/step - loss: 0.2489 - accuracy: 0.9140 - val_loss: 0.2385 - val_accuracy: 0.9188\n",
            "Epoch 45/300\n",
            "40/40 [==============================] - 0s 6ms/step - loss: 0.2488 - accuracy: 0.9140 - val_loss: 0.2384 - val_accuracy: 0.9188\n",
            "Epoch 46/300\n",
            "40/40 [==============================] - 0s 6ms/step - loss: 0.2488 - accuracy: 0.9140 - val_loss: 0.2384 - val_accuracy: 0.9188\n",
            "Epoch 47/300\n",
            "40/40 [==============================] - 0s 6ms/step - loss: 0.2489 - accuracy: 0.9140 - val_loss: 0.2384 - val_accuracy: 0.9188\n",
            "Epoch 48/300\n",
            "40/40 [==============================] - 0s 6ms/step - loss: 0.2487 - accuracy: 0.9140 - val_loss: 0.2385 - val_accuracy: 0.9188\n",
            "Epoch 49/300\n",
            "40/40 [==============================] - 0s 6ms/step - loss: 0.2488 - accuracy: 0.9140 - val_loss: 0.2384 - val_accuracy: 0.9188\n",
            "Epoch 50/300\n",
            "40/40 [==============================] - 0s 6ms/step - loss: 0.2489 - accuracy: 0.9140 - val_loss: 0.2385 - val_accuracy: 0.9188\n",
            "Epoch 51/300\n",
            "40/40 [==============================] - 0s 6ms/step - loss: 0.2487 - accuracy: 0.9140 - val_loss: 0.2385 - val_accuracy: 0.9188\n",
            "Epoch 52/300\n",
            "40/40 [==============================] - 0s 7ms/step - loss: 0.2486 - accuracy: 0.9140 - val_loss: 0.2384 - val_accuracy: 0.9188\n",
            "Epoch 53/300\n",
            "40/40 [==============================] - 0s 7ms/step - loss: 0.2488 - accuracy: 0.9140 - val_loss: 0.2385 - val_accuracy: 0.9188\n",
            "Epoch 54/300\n",
            "40/40 [==============================] - 0s 7ms/step - loss: 0.2487 - accuracy: 0.9140 - val_loss: 0.2384 - val_accuracy: 0.9188\n",
            "Epoch 55/300\n",
            "40/40 [==============================] - 0s 7ms/step - loss: 0.2486 - accuracy: 0.9140 - val_loss: 0.2384 - val_accuracy: 0.9188\n",
            "Epoch 56/300\n",
            "40/40 [==============================] - 0s 6ms/step - loss: 0.2485 - accuracy: 0.9140 - val_loss: 0.2384 - val_accuracy: 0.9188\n",
            "Epoch 57/300\n",
            "40/40 [==============================] - 0s 6ms/step - loss: 0.2484 - accuracy: 0.9140 - val_loss: 0.2386 - val_accuracy: 0.9188\n",
            "Epoch 58/300\n",
            "40/40 [==============================] - 0s 4ms/step - loss: 0.2486 - accuracy: 0.9140 - val_loss: 0.2384 - val_accuracy: 0.9188\n",
            "Epoch 59/300\n",
            "40/40 [==============================] - 0s 4ms/step - loss: 0.2485 - accuracy: 0.9140 - val_loss: 0.2386 - val_accuracy: 0.9188\n",
            "Epoch 60/300\n",
            "40/40 [==============================] - 0s 4ms/step - loss: 0.2485 - accuracy: 0.9140 - val_loss: 0.2387 - val_accuracy: 0.9188\n",
            "Epoch 61/300\n",
            "40/40 [==============================] - 0s 4ms/step - loss: 0.2484 - accuracy: 0.9140 - val_loss: 0.2385 - val_accuracy: 0.9188\n",
            "Epoch 62/300\n",
            "40/40 [==============================] - 0s 4ms/step - loss: 0.2485 - accuracy: 0.9140 - val_loss: 0.2389 - val_accuracy: 0.9188\n",
            "Epoch 63/300\n",
            "40/40 [==============================] - 0s 4ms/step - loss: 0.2486 - accuracy: 0.9140 - val_loss: 0.2385 - val_accuracy: 0.9188\n",
            "Epoch 64/300\n",
            "40/40 [==============================] - 0s 4ms/step - loss: 0.2485 - accuracy: 0.9140 - val_loss: 0.2385 - val_accuracy: 0.9188\n",
            "Epoch 65/300\n",
            "40/40 [==============================] - 0s 5ms/step - loss: 0.2484 - accuracy: 0.9140 - val_loss: 0.2385 - val_accuracy: 0.9188\n",
            "Epoch 66/300\n",
            "40/40 [==============================] - 0s 4ms/step - loss: 0.2484 - accuracy: 0.9140 - val_loss: 0.2387 - val_accuracy: 0.9188\n",
            "Epoch 67/300\n",
            "40/40 [==============================] - 0s 4ms/step - loss: 0.2485 - accuracy: 0.9140 - val_loss: 0.2385 - val_accuracy: 0.9188\n",
            "Epoch 68/300\n",
            "40/40 [==============================] - 0s 4ms/step - loss: 0.2483 - accuracy: 0.9140 - val_loss: 0.2385 - val_accuracy: 0.9188\n",
            "Epoch 69/300\n",
            "40/40 [==============================] - 0s 5ms/step - loss: 0.2484 - accuracy: 0.9140 - val_loss: 0.2387 - val_accuracy: 0.9188\n",
            "Epoch 70/300\n",
            "40/40 [==============================] - 0s 4ms/step - loss: 0.2484 - accuracy: 0.9140 - val_loss: 0.2386 - val_accuracy: 0.9188\n",
            "Epoch 71/300\n",
            "40/40 [==============================] - 0s 4ms/step - loss: 0.2485 - accuracy: 0.9140 - val_loss: 0.2386 - val_accuracy: 0.9188\n",
            "Epoch 72/300\n",
            "40/40 [==============================] - 0s 4ms/step - loss: 0.2485 - accuracy: 0.9140 - val_loss: 0.2386 - val_accuracy: 0.9188\n",
            "Epoch 73/300\n",
            "40/40 [==============================] - 0s 4ms/step - loss: 0.2484 - accuracy: 0.9140 - val_loss: 0.2386 - val_accuracy: 0.9188\n",
            "Epoch 74/300\n",
            "40/40 [==============================] - 0s 4ms/step - loss: 0.2484 - accuracy: 0.9140 - val_loss: 0.2386 - val_accuracy: 0.9188\n",
            "Epoch 75/300\n",
            "40/40 [==============================] - 0s 4ms/step - loss: 0.2484 - accuracy: 0.9140 - val_loss: 0.2388 - val_accuracy: 0.9188\n",
            "Epoch 76/300\n",
            "40/40 [==============================] - 0s 4ms/step - loss: 0.2483 - accuracy: 0.9140 - val_loss: 0.2388 - val_accuracy: 0.9188\n",
            "Epoch 77/300\n",
            "40/40 [==============================] - 0s 4ms/step - loss: 0.2482 - accuracy: 0.9140 - val_loss: 0.2391 - val_accuracy: 0.9188\n",
            "Epoch 78/300\n",
            "40/40 [==============================] - 0s 4ms/step - loss: 0.2485 - accuracy: 0.9140 - val_loss: 0.2386 - val_accuracy: 0.9188\n",
            "Epoch 79/300\n",
            "40/40 [==============================] - 0s 4ms/step - loss: 0.2483 - accuracy: 0.9140 - val_loss: 0.2386 - val_accuracy: 0.9188\n",
            "Epoch 80/300\n",
            "40/40 [==============================] - 0s 4ms/step - loss: 0.2483 - accuracy: 0.9140 - val_loss: 0.2388 - val_accuracy: 0.9188\n",
            "Epoch 81/300\n",
            "40/40 [==============================] - 0s 4ms/step - loss: 0.2483 - accuracy: 0.9140 - val_loss: 0.2389 - val_accuracy: 0.9188\n",
            "Epoch 82/300\n",
            "40/40 [==============================] - 0s 5ms/step - loss: 0.2484 - accuracy: 0.9140 - val_loss: 0.2388 - val_accuracy: 0.9188\n",
            "Epoch 83/300\n",
            "40/40 [==============================] - 0s 4ms/step - loss: 0.2484 - accuracy: 0.9140 - val_loss: 0.2391 - val_accuracy: 0.9188\n",
            "Epoch 84/300\n",
            "40/40 [==============================] - 0s 4ms/step - loss: 0.2484 - accuracy: 0.9140 - val_loss: 0.2388 - val_accuracy: 0.9188\n",
            "Epoch 85/300\n",
            "40/40 [==============================] - 0s 4ms/step - loss: 0.2484 - accuracy: 0.9140 - val_loss: 0.2390 - val_accuracy: 0.9188\n",
            "Epoch 86/300\n",
            "40/40 [==============================] - 0s 5ms/step - loss: 0.2483 - accuracy: 0.9140 - val_loss: 0.2387 - val_accuracy: 0.9188\n",
            "Epoch 87/300\n",
            "40/40 [==============================] - 0s 4ms/step - loss: 0.2485 - accuracy: 0.9140 - val_loss: 0.2387 - val_accuracy: 0.9188\n",
            "Epoch 88/300\n",
            "40/40 [==============================] - 0s 4ms/step - loss: 0.2483 - accuracy: 0.9140 - val_loss: 0.2388 - val_accuracy: 0.9188\n",
            "Epoch 89/300\n",
            "40/40 [==============================] - 0s 4ms/step - loss: 0.2483 - accuracy: 0.9140 - val_loss: 0.2388 - val_accuracy: 0.9188\n",
            "Epoch 90/300\n",
            "40/40 [==============================] - 0s 4ms/step - loss: 0.2483 - accuracy: 0.9140 - val_loss: 0.2388 - val_accuracy: 0.9188\n",
            "Epoch 91/300\n",
            "40/40 [==============================] - 0s 4ms/step - loss: 0.2484 - accuracy: 0.9140 - val_loss: 0.2388 - val_accuracy: 0.9188\n",
            "Epoch 92/300\n",
            "40/40 [==============================] - 0s 4ms/step - loss: 0.2484 - accuracy: 0.9140 - val_loss: 0.2389 - val_accuracy: 0.9188\n",
            "Epoch 93/300\n",
            "40/40 [==============================] - 0s 4ms/step - loss: 0.2483 - accuracy: 0.9140 - val_loss: 0.2388 - val_accuracy: 0.9188\n",
            "Epoch 94/300\n",
            "40/40 [==============================] - 0s 4ms/step - loss: 0.2483 - accuracy: 0.9140 - val_loss: 0.2388 - val_accuracy: 0.9188\n",
            "Epoch 95/300\n",
            "40/40 [==============================] - 0s 4ms/step - loss: 0.2484 - accuracy: 0.9140 - val_loss: 0.2388 - val_accuracy: 0.9188\n",
            "Epoch 96/300\n",
            "40/40 [==============================] - 0s 4ms/step - loss: 0.2484 - accuracy: 0.9140 - val_loss: 0.2388 - val_accuracy: 0.9188\n",
            "Epoch 97/300\n",
            "40/40 [==============================] - 0s 4ms/step - loss: 0.2484 - accuracy: 0.9140 - val_loss: 0.2388 - val_accuracy: 0.9188\n",
            "Epoch 98/300\n",
            "40/40 [==============================] - 0s 4ms/step - loss: 0.2483 - accuracy: 0.9140 - val_loss: 0.2388 - val_accuracy: 0.9188\n",
            "Epoch 99/300\n",
            "40/40 [==============================] - 0s 4ms/step - loss: 0.2483 - accuracy: 0.9140 - val_loss: 0.2389 - val_accuracy: 0.9188\n",
            "Epoch 100/300\n",
            "40/40 [==============================] - 0s 4ms/step - loss: 0.2483 - accuracy: 0.9140 - val_loss: 0.2389 - val_accuracy: 0.9188\n",
            "Epoch 101/300\n",
            "40/40 [==============================] - 0s 4ms/step - loss: 0.2484 - accuracy: 0.9140 - val_loss: 0.2388 - val_accuracy: 0.9188\n",
            "Epoch 102/300\n",
            "40/40 [==============================] - 0s 4ms/step - loss: 0.2483 - accuracy: 0.9140 - val_loss: 0.2389 - val_accuracy: 0.9188\n",
            "Epoch 103/300\n",
            "40/40 [==============================] - 0s 4ms/step - loss: 0.2483 - accuracy: 0.9140 - val_loss: 0.2388 - val_accuracy: 0.9188\n",
            "Epoch 104/300\n",
            "40/40 [==============================] - 0s 4ms/step - loss: 0.2483 - accuracy: 0.9140 - val_loss: 0.2388 - val_accuracy: 0.9188\n",
            "Epoch 105/300\n",
            "40/40 [==============================] - 0s 4ms/step - loss: 0.2483 - accuracy: 0.9140 - val_loss: 0.2389 - val_accuracy: 0.9188\n",
            "Epoch 106/300\n",
            "40/40 [==============================] - 0s 4ms/step - loss: 0.2482 - accuracy: 0.9140 - val_loss: 0.2389 - val_accuracy: 0.9188\n",
            "Epoch 107/300\n",
            "40/40 [==============================] - 0s 4ms/step - loss: 0.2483 - accuracy: 0.9140 - val_loss: 0.2388 - val_accuracy: 0.9188\n",
            "Epoch 108/300\n",
            "40/40 [==============================] - 0s 4ms/step - loss: 0.2484 - accuracy: 0.9140 - val_loss: 0.2388 - val_accuracy: 0.9188\n",
            "Epoch 109/300\n",
            "40/40 [==============================] - 0s 4ms/step - loss: 0.2483 - accuracy: 0.9140 - val_loss: 0.2388 - val_accuracy: 0.9188\n",
            "Epoch 110/300\n",
            "40/40 [==============================] - 0s 4ms/step - loss: 0.2483 - accuracy: 0.9140 - val_loss: 0.2388 - val_accuracy: 0.9188\n",
            "Epoch 111/300\n",
            "40/40 [==============================] - 0s 4ms/step - loss: 0.2485 - accuracy: 0.9140 - val_loss: 0.2389 - val_accuracy: 0.9188\n",
            "Epoch 112/300\n",
            "40/40 [==============================] - 0s 4ms/step - loss: 0.2483 - accuracy: 0.9140 - val_loss: 0.2391 - val_accuracy: 0.9188\n",
            "Epoch 113/300\n",
            "40/40 [==============================] - 0s 4ms/step - loss: 0.2483 - accuracy: 0.9140 - val_loss: 0.2388 - val_accuracy: 0.9188\n",
            "Epoch 114/300\n",
            "40/40 [==============================] - 0s 5ms/step - loss: 0.2483 - accuracy: 0.9140 - val_loss: 0.2389 - val_accuracy: 0.9188\n",
            "Epoch 115/300\n",
            "40/40 [==============================] - 0s 7ms/step - loss: 0.2483 - accuracy: 0.9140 - val_loss: 0.2389 - val_accuracy: 0.9188\n",
            "Epoch 116/300\n",
            "40/40 [==============================] - 0s 6ms/step - loss: 0.2483 - accuracy: 0.9140 - val_loss: 0.2389 - val_accuracy: 0.9188\n",
            "Epoch 117/300\n",
            "40/40 [==============================] - 0s 6ms/step - loss: 0.2484 - accuracy: 0.9140 - val_loss: 0.2391 - val_accuracy: 0.9188\n",
            "Epoch 118/300\n",
            "40/40 [==============================] - 0s 6ms/step - loss: 0.2483 - accuracy: 0.9140 - val_loss: 0.2388 - val_accuracy: 0.9188\n",
            "Epoch 119/300\n",
            "40/40 [==============================] - 0s 7ms/step - loss: 0.2485 - accuracy: 0.9140 - val_loss: 0.2389 - val_accuracy: 0.9188\n",
            "Epoch 120/300\n",
            "40/40 [==============================] - 0s 7ms/step - loss: 0.2483 - accuracy: 0.9140 - val_loss: 0.2389 - val_accuracy: 0.9188\n",
            "Epoch 121/300\n",
            "40/40 [==============================] - 0s 6ms/step - loss: 0.2483 - accuracy: 0.9140 - val_loss: 0.2391 - val_accuracy: 0.9188\n",
            "Epoch 122/300\n",
            "40/40 [==============================] - 0s 6ms/step - loss: 0.2483 - accuracy: 0.9140 - val_loss: 0.2389 - val_accuracy: 0.9188\n",
            "Epoch 123/300\n",
            "40/40 [==============================] - 0s 6ms/step - loss: 0.2484 - accuracy: 0.9140 - val_loss: 0.2389 - val_accuracy: 0.9188\n",
            "Epoch 124/300\n",
            "40/40 [==============================] - 0s 6ms/step - loss: 0.2484 - accuracy: 0.9140 - val_loss: 0.2389 - val_accuracy: 0.9188\n",
            "Epoch 125/300\n",
            "40/40 [==============================] - 0s 5ms/step - loss: 0.2483 - accuracy: 0.9140 - val_loss: 0.2390 - val_accuracy: 0.9188\n",
            "Epoch 126/300\n",
            "40/40 [==============================] - 0s 6ms/step - loss: 0.2484 - accuracy: 0.9140 - val_loss: 0.2389 - val_accuracy: 0.9188\n",
            "Epoch 127/300\n",
            "40/40 [==============================] - 0s 7ms/step - loss: 0.2483 - accuracy: 0.9140 - val_loss: 0.2389 - val_accuracy: 0.9188\n",
            "Epoch 128/300\n",
            "40/40 [==============================] - 0s 7ms/step - loss: 0.2485 - accuracy: 0.9140 - val_loss: 0.2389 - val_accuracy: 0.9188\n",
            "Epoch 129/300\n",
            "40/40 [==============================] - 0s 6ms/step - loss: 0.2482 - accuracy: 0.9140 - val_loss: 0.2391 - val_accuracy: 0.9188\n",
            "Epoch 130/300\n",
            "40/40 [==============================] - 0s 6ms/step - loss: 0.2483 - accuracy: 0.9140 - val_loss: 0.2389 - val_accuracy: 0.9188\n",
            "Epoch 131/300\n",
            "40/40 [==============================] - 0s 4ms/step - loss: 0.2483 - accuracy: 0.9140 - val_loss: 0.2389 - val_accuracy: 0.9188\n",
            "Epoch 132/300\n",
            "40/40 [==============================] - 0s 4ms/step - loss: 0.2483 - accuracy: 0.9140 - val_loss: 0.2389 - val_accuracy: 0.9188\n",
            "Epoch 133/300\n",
            "40/40 [==============================] - 0s 4ms/step - loss: 0.2485 - accuracy: 0.9140 - val_loss: 0.2389 - val_accuracy: 0.9188\n",
            "Epoch 134/300\n",
            "40/40 [==============================] - 0s 4ms/step - loss: 0.2483 - accuracy: 0.9140 - val_loss: 0.2394 - val_accuracy: 0.9188\n",
            "Epoch 135/300\n",
            "40/40 [==============================] - 0s 4ms/step - loss: 0.2484 - accuracy: 0.9140 - val_loss: 0.2389 - val_accuracy: 0.9188\n",
            "Epoch 136/300\n",
            "40/40 [==============================] - 0s 4ms/step - loss: 0.2483 - accuracy: 0.9140 - val_loss: 0.2389 - val_accuracy: 0.9188\n",
            "Epoch 137/300\n",
            "40/40 [==============================] - 0s 4ms/step - loss: 0.2483 - accuracy: 0.9140 - val_loss: 0.2390 - val_accuracy: 0.9188\n",
            "Epoch 138/300\n",
            "40/40 [==============================] - 0s 4ms/step - loss: 0.2483 - accuracy: 0.9140 - val_loss: 0.2389 - val_accuracy: 0.9188\n",
            "Epoch 139/300\n",
            "40/40 [==============================] - 0s 4ms/step - loss: 0.2484 - accuracy: 0.9140 - val_loss: 0.2389 - val_accuracy: 0.9188\n",
            "Epoch 140/300\n",
            "40/40 [==============================] - 0s 4ms/step - loss: 0.2484 - accuracy: 0.9140 - val_loss: 0.2390 - val_accuracy: 0.9188\n",
            "Epoch 141/300\n",
            "40/40 [==============================] - 0s 4ms/step - loss: 0.2483 - accuracy: 0.9140 - val_loss: 0.2389 - val_accuracy: 0.9188\n",
            "Epoch 142/300\n",
            "40/40 [==============================] - 0s 4ms/step - loss: 0.2483 - accuracy: 0.9140 - val_loss: 0.2389 - val_accuracy: 0.9188\n",
            "Epoch 143/300\n",
            "40/40 [==============================] - 0s 4ms/step - loss: 0.2486 - accuracy: 0.9140 - val_loss: 0.2389 - val_accuracy: 0.9188\n",
            "Epoch 144/300\n",
            "40/40 [==============================] - 0s 5ms/step - loss: 0.2483 - accuracy: 0.9140 - val_loss: 0.2390 - val_accuracy: 0.9188\n",
            "Epoch 145/300\n",
            "40/40 [==============================] - 0s 4ms/step - loss: 0.2483 - accuracy: 0.9140 - val_loss: 0.2389 - val_accuracy: 0.9188\n",
            "Epoch 146/300\n",
            "40/40 [==============================] - 0s 4ms/step - loss: 0.2484 - accuracy: 0.9140 - val_loss: 0.2389 - val_accuracy: 0.9188\n",
            "Epoch 147/300\n",
            "40/40 [==============================] - 0s 4ms/step - loss: 0.2483 - accuracy: 0.9140 - val_loss: 0.2390 - val_accuracy: 0.9188\n",
            "Epoch 148/300\n",
            "40/40 [==============================] - 0s 5ms/step - loss: 0.2482 - accuracy: 0.9140 - val_loss: 0.2389 - val_accuracy: 0.9188\n",
            "Epoch 149/300\n",
            "40/40 [==============================] - 0s 4ms/step - loss: 0.2483 - accuracy: 0.9140 - val_loss: 0.2389 - val_accuracy: 0.9188\n",
            "Epoch 150/300\n",
            "40/40 [==============================] - 0s 4ms/step - loss: 0.2483 - accuracy: 0.9140 - val_loss: 0.2389 - val_accuracy: 0.9188\n",
            "Epoch 151/300\n",
            "40/40 [==============================] - 0s 4ms/step - loss: 0.2485 - accuracy: 0.9140 - val_loss: 0.2389 - val_accuracy: 0.9188\n",
            "Epoch 152/300\n",
            "40/40 [==============================] - 0s 4ms/step - loss: 0.2483 - accuracy: 0.9140 - val_loss: 0.2391 - val_accuracy: 0.9188\n",
            "Epoch 153/300\n",
            "40/40 [==============================] - 0s 4ms/step - loss: 0.2484 - accuracy: 0.9140 - val_loss: 0.2391 - val_accuracy: 0.9188\n",
            "Epoch 154/300\n",
            "40/40 [==============================] - 0s 4ms/step - loss: 0.2483 - accuracy: 0.9140 - val_loss: 0.2389 - val_accuracy: 0.9188\n",
            "Epoch 155/300\n",
            "40/40 [==============================] - 0s 4ms/step - loss: 0.2483 - accuracy: 0.9140 - val_loss: 0.2392 - val_accuracy: 0.9188\n",
            "Epoch 156/300\n",
            "40/40 [==============================] - 0s 4ms/step - loss: 0.2483 - accuracy: 0.9140 - val_loss: 0.2389 - val_accuracy: 0.9188\n",
            "Epoch 157/300\n",
            "40/40 [==============================] - 0s 4ms/step - loss: 0.2483 - accuracy: 0.9140 - val_loss: 0.2390 - val_accuracy: 0.9188\n",
            "Epoch 158/300\n",
            "40/40 [==============================] - 0s 4ms/step - loss: 0.2483 - accuracy: 0.9140 - val_loss: 0.2389 - val_accuracy: 0.9188\n",
            "Epoch 159/300\n",
            "40/40 [==============================] - 0s 4ms/step - loss: 0.2483 - accuracy: 0.9140 - val_loss: 0.2390 - val_accuracy: 0.9188\n",
            "Epoch 160/300\n",
            "40/40 [==============================] - 0s 4ms/step - loss: 0.2485 - accuracy: 0.9140 - val_loss: 0.2389 - val_accuracy: 0.9188\n",
            "Epoch 161/300\n",
            "40/40 [==============================] - 0s 4ms/step - loss: 0.2483 - accuracy: 0.9140 - val_loss: 0.2393 - val_accuracy: 0.9188\n",
            "Epoch 162/300\n",
            "40/40 [==============================] - 0s 4ms/step - loss: 0.2483 - accuracy: 0.9140 - val_loss: 0.2389 - val_accuracy: 0.9188\n",
            "Epoch 163/300\n",
            "40/40 [==============================] - 0s 4ms/step - loss: 0.2483 - accuracy: 0.9140 - val_loss: 0.2389 - val_accuracy: 0.9188\n",
            "Epoch 164/300\n",
            "40/40 [==============================] - 0s 4ms/step - loss: 0.2486 - accuracy: 0.9140 - val_loss: 0.2390 - val_accuracy: 0.9188\n",
            "Epoch 165/300\n",
            "40/40 [==============================] - 0s 5ms/step - loss: 0.2483 - accuracy: 0.9140 - val_loss: 0.2389 - val_accuracy: 0.9188\n",
            "Epoch 166/300\n",
            "40/40 [==============================] - 0s 4ms/step - loss: 0.2484 - accuracy: 0.9140 - val_loss: 0.2389 - val_accuracy: 0.9188\n",
            "Epoch 167/300\n",
            "40/40 [==============================] - 0s 5ms/step - loss: 0.2484 - accuracy: 0.9140 - val_loss: 0.2389 - val_accuracy: 0.9188\n",
            "Epoch 168/300\n",
            "40/40 [==============================] - 0s 4ms/step - loss: 0.2483 - accuracy: 0.9140 - val_loss: 0.2390 - val_accuracy: 0.9188\n",
            "Epoch 169/300\n",
            "40/40 [==============================] - 0s 5ms/step - loss: 0.2484 - accuracy: 0.9140 - val_loss: 0.2392 - val_accuracy: 0.9188\n",
            "Epoch 170/300\n",
            "40/40 [==============================] - 0s 4ms/step - loss: 0.2483 - accuracy: 0.9140 - val_loss: 0.2390 - val_accuracy: 0.9188\n",
            "Epoch 171/300\n",
            "40/40 [==============================] - 0s 4ms/step - loss: 0.2484 - accuracy: 0.9140 - val_loss: 0.2389 - val_accuracy: 0.9188\n",
            "Epoch 172/300\n",
            "40/40 [==============================] - 0s 4ms/step - loss: 0.2483 - accuracy: 0.9140 - val_loss: 0.2390 - val_accuracy: 0.9188\n",
            "Epoch 173/300\n",
            "40/40 [==============================] - 0s 4ms/step - loss: 0.2483 - accuracy: 0.9140 - val_loss: 0.2389 - val_accuracy: 0.9188\n",
            "Epoch 174/300\n",
            "40/40 [==============================] - 0s 4ms/step - loss: 0.2485 - accuracy: 0.9140 - val_loss: 0.2390 - val_accuracy: 0.9188\n",
            "Epoch 175/300\n",
            "40/40 [==============================] - 0s 4ms/step - loss: 0.2482 - accuracy: 0.9140 - val_loss: 0.2389 - val_accuracy: 0.9188\n",
            "Epoch 176/300\n",
            "40/40 [==============================] - 0s 4ms/step - loss: 0.2483 - accuracy: 0.9140 - val_loss: 0.2389 - val_accuracy: 0.9188\n",
            "Epoch 177/300\n",
            "40/40 [==============================] - 0s 4ms/step - loss: 0.2483 - accuracy: 0.9140 - val_loss: 0.2389 - val_accuracy: 0.9188\n",
            "Epoch 178/300\n",
            "40/40 [==============================] - 0s 4ms/step - loss: 0.2483 - accuracy: 0.9140 - val_loss: 0.2389 - val_accuracy: 0.9188\n",
            "Epoch 179/300\n",
            "40/40 [==============================] - 0s 5ms/step - loss: 0.2483 - accuracy: 0.9140 - val_loss: 0.2390 - val_accuracy: 0.9188\n",
            "Epoch 180/300\n",
            "40/40 [==============================] - 0s 4ms/step - loss: 0.2483 - accuracy: 0.9140 - val_loss: 0.2389 - val_accuracy: 0.9188\n",
            "Epoch 181/300\n",
            "40/40 [==============================] - 0s 4ms/step - loss: 0.2484 - accuracy: 0.9140 - val_loss: 0.2389 - val_accuracy: 0.9188\n",
            "Epoch 182/300\n",
            "40/40 [==============================] - 0s 4ms/step - loss: 0.2483 - accuracy: 0.9140 - val_loss: 0.2390 - val_accuracy: 0.9188\n",
            "Epoch 183/300\n",
            "40/40 [==============================] - 0s 4ms/step - loss: 0.2483 - accuracy: 0.9140 - val_loss: 0.2389 - val_accuracy: 0.9188\n",
            "Epoch 184/300\n",
            "40/40 [==============================] - 0s 4ms/step - loss: 0.2483 - accuracy: 0.9140 - val_loss: 0.2389 - val_accuracy: 0.9188\n",
            "Epoch 185/300\n",
            "40/40 [==============================] - 0s 5ms/step - loss: 0.2484 - accuracy: 0.9140 - val_loss: 0.2389 - val_accuracy: 0.9188\n",
            "Epoch 186/300\n",
            "40/40 [==============================] - 0s 6ms/step - loss: 0.2484 - accuracy: 0.9140 - val_loss: 0.2393 - val_accuracy: 0.9188\n",
            "Epoch 187/300\n",
            "40/40 [==============================] - 0s 7ms/step - loss: 0.2483 - accuracy: 0.9140 - val_loss: 0.2389 - val_accuracy: 0.9188\n",
            "Epoch 188/300\n",
            "40/40 [==============================] - 0s 7ms/step - loss: 0.2484 - accuracy: 0.9140 - val_loss: 0.2390 - val_accuracy: 0.9188\n",
            "Epoch 189/300\n",
            "40/40 [==============================] - 0s 5ms/step - loss: 0.2483 - accuracy: 0.9140 - val_loss: 0.2392 - val_accuracy: 0.9188\n",
            "Epoch 190/300\n",
            "40/40 [==============================] - 0s 7ms/step - loss: 0.2484 - accuracy: 0.9140 - val_loss: 0.2389 - val_accuracy: 0.9188\n",
            "Epoch 191/300\n",
            "40/40 [==============================] - 0s 7ms/step - loss: 0.2483 - accuracy: 0.9140 - val_loss: 0.2389 - val_accuracy: 0.9188\n",
            "Epoch 192/300\n",
            "40/40 [==============================] - 0s 5ms/step - loss: 0.2485 - accuracy: 0.9140 - val_loss: 0.2394 - val_accuracy: 0.9188\n",
            "Epoch 193/300\n",
            "40/40 [==============================] - 0s 6ms/step - loss: 0.2486 - accuracy: 0.9140 - val_loss: 0.2389 - val_accuracy: 0.9188\n",
            "Epoch 194/300\n",
            "40/40 [==============================] - 0s 7ms/step - loss: 0.2482 - accuracy: 0.9140 - val_loss: 0.2393 - val_accuracy: 0.9188\n",
            "Epoch 195/300\n",
            "40/40 [==============================] - 0s 7ms/step - loss: 0.2484 - accuracy: 0.9140 - val_loss: 0.2389 - val_accuracy: 0.9188\n",
            "Epoch 196/300\n",
            "40/40 [==============================] - 0s 6ms/step - loss: 0.2484 - accuracy: 0.9140 - val_loss: 0.2389 - val_accuracy: 0.9188\n",
            "Epoch 197/300\n",
            "40/40 [==============================] - 0s 6ms/step - loss: 0.2485 - accuracy: 0.9140 - val_loss: 0.2389 - val_accuracy: 0.9188\n",
            "Epoch 198/300\n",
            "40/40 [==============================] - 0s 6ms/step - loss: 0.2483 - accuracy: 0.9140 - val_loss: 0.2389 - val_accuracy: 0.9188\n",
            "Epoch 199/300\n",
            "40/40 [==============================] - 0s 6ms/step - loss: 0.2483 - accuracy: 0.9140 - val_loss: 0.2389 - val_accuracy: 0.9188\n",
            "Epoch 200/300\n",
            "40/40 [==============================] - 0s 6ms/step - loss: 0.2483 - accuracy: 0.9140 - val_loss: 0.2390 - val_accuracy: 0.9188\n",
            "Epoch 201/300\n",
            "40/40 [==============================] - 0s 7ms/step - loss: 0.2482 - accuracy: 0.9140 - val_loss: 0.2389 - val_accuracy: 0.9188\n",
            "Epoch 202/300\n",
            "40/40 [==============================] - 0s 4ms/step - loss: 0.2483 - accuracy: 0.9140 - val_loss: 0.2389 - val_accuracy: 0.9188\n",
            "Epoch 203/300\n",
            "40/40 [==============================] - 0s 4ms/step - loss: 0.2483 - accuracy: 0.9140 - val_loss: 0.2389 - val_accuracy: 0.9188\n",
            "Epoch 204/300\n",
            "40/40 [==============================] - 0s 4ms/step - loss: 0.2483 - accuracy: 0.9140 - val_loss: 0.2390 - val_accuracy: 0.9188\n",
            "Epoch 205/300\n",
            "40/40 [==============================] - 0s 4ms/step - loss: 0.2483 - accuracy: 0.9140 - val_loss: 0.2390 - val_accuracy: 0.9188\n",
            "Epoch 206/300\n",
            "40/40 [==============================] - 0s 4ms/step - loss: 0.2483 - accuracy: 0.9140 - val_loss: 0.2389 - val_accuracy: 0.9188\n",
            "Epoch 207/300\n",
            "40/40 [==============================] - 0s 4ms/step - loss: 0.2485 - accuracy: 0.9140 - val_loss: 0.2391 - val_accuracy: 0.9188\n",
            "Epoch 208/300\n",
            "40/40 [==============================] - 0s 4ms/step - loss: 0.2484 - accuracy: 0.9140 - val_loss: 0.2389 - val_accuracy: 0.9188\n",
            "Epoch 209/300\n",
            "40/40 [==============================] - 0s 4ms/step - loss: 0.2483 - accuracy: 0.9140 - val_loss: 0.2389 - val_accuracy: 0.9188\n",
            "Epoch 210/300\n",
            "40/40 [==============================] - 0s 4ms/step - loss: 0.2485 - accuracy: 0.9140 - val_loss: 0.2390 - val_accuracy: 0.9188\n",
            "Epoch 211/300\n",
            "40/40 [==============================] - 0s 5ms/step - loss: 0.2483 - accuracy: 0.9140 - val_loss: 0.2389 - val_accuracy: 0.9188\n",
            "Epoch 212/300\n",
            "40/40 [==============================] - 0s 4ms/step - loss: 0.2483 - accuracy: 0.9140 - val_loss: 0.2389 - val_accuracy: 0.9188\n",
            "Epoch 213/300\n",
            "40/40 [==============================] - 0s 4ms/step - loss: 0.2484 - accuracy: 0.9140 - val_loss: 0.2389 - val_accuracy: 0.9188\n",
            "Epoch 214/300\n",
            "40/40 [==============================] - 0s 4ms/step - loss: 0.2484 - accuracy: 0.9140 - val_loss: 0.2391 - val_accuracy: 0.9188\n",
            "Epoch 215/300\n",
            "40/40 [==============================] - 0s 4ms/step - loss: 0.2483 - accuracy: 0.9140 - val_loss: 0.2389 - val_accuracy: 0.9188\n",
            "Epoch 216/300\n",
            "40/40 [==============================] - 0s 4ms/step - loss: 0.2483 - accuracy: 0.9140 - val_loss: 0.2390 - val_accuracy: 0.9188\n",
            "Epoch 217/300\n",
            "40/40 [==============================] - 0s 4ms/step - loss: 0.2485 - accuracy: 0.9140 - val_loss: 0.2390 - val_accuracy: 0.9188\n",
            "Epoch 218/300\n",
            "40/40 [==============================] - 0s 4ms/step - loss: 0.2484 - accuracy: 0.9140 - val_loss: 0.2389 - val_accuracy: 0.9188\n",
            "Epoch 219/300\n",
            "40/40 [==============================] - 0s 4ms/step - loss: 0.2483 - accuracy: 0.9140 - val_loss: 0.2389 - val_accuracy: 0.9188\n",
            "Epoch 220/300\n",
            "40/40 [==============================] - 0s 4ms/step - loss: 0.2483 - accuracy: 0.9140 - val_loss: 0.2389 - val_accuracy: 0.9188\n",
            "Epoch 221/300\n",
            "40/40 [==============================] - 0s 4ms/step - loss: 0.2483 - accuracy: 0.9140 - val_loss: 0.2389 - val_accuracy: 0.9188\n",
            "Epoch 222/300\n",
            "40/40 [==============================] - 0s 4ms/step - loss: 0.2483 - accuracy: 0.9140 - val_loss: 0.2389 - val_accuracy: 0.9188\n",
            "Epoch 223/300\n",
            "40/40 [==============================] - 0s 5ms/step - loss: 0.2484 - accuracy: 0.9140 - val_loss: 0.2389 - val_accuracy: 0.9188\n",
            "Epoch 224/300\n",
            "40/40 [==============================] - 0s 4ms/step - loss: 0.2484 - accuracy: 0.9140 - val_loss: 0.2390 - val_accuracy: 0.9188\n",
            "Epoch 225/300\n",
            "40/40 [==============================] - 0s 4ms/step - loss: 0.2484 - accuracy: 0.9140 - val_loss: 0.2389 - val_accuracy: 0.9188\n",
            "Epoch 226/300\n",
            "40/40 [==============================] - 0s 4ms/step - loss: 0.2484 - accuracy: 0.9140 - val_loss: 0.2389 - val_accuracy: 0.9188\n",
            "Epoch 227/300\n",
            "40/40 [==============================] - 0s 4ms/step - loss: 0.2483 - accuracy: 0.9140 - val_loss: 0.2389 - val_accuracy: 0.9188\n",
            "Epoch 228/300\n",
            "40/40 [==============================] - 0s 5ms/step - loss: 0.2483 - accuracy: 0.9140 - val_loss: 0.2390 - val_accuracy: 0.9188\n",
            "Epoch 229/300\n",
            "40/40 [==============================] - 0s 4ms/step - loss: 0.2483 - accuracy: 0.9140 - val_loss: 0.2389 - val_accuracy: 0.9188\n",
            "Epoch 230/300\n",
            "40/40 [==============================] - 0s 4ms/step - loss: 0.2482 - accuracy: 0.9140 - val_loss: 0.2392 - val_accuracy: 0.9188\n",
            "Epoch 231/300\n",
            "40/40 [==============================] - 0s 4ms/step - loss: 0.2484 - accuracy: 0.9140 - val_loss: 0.2389 - val_accuracy: 0.9188\n",
            "Epoch 232/300\n",
            "40/40 [==============================] - 0s 4ms/step - loss: 0.2483 - accuracy: 0.9140 - val_loss: 0.2389 - val_accuracy: 0.9188\n",
            "Epoch 233/300\n",
            "40/40 [==============================] - 0s 4ms/step - loss: 0.2483 - accuracy: 0.9140 - val_loss: 0.2389 - val_accuracy: 0.9188\n",
            "Epoch 234/300\n",
            "40/40 [==============================] - 0s 5ms/step - loss: 0.2483 - accuracy: 0.9140 - val_loss: 0.2392 - val_accuracy: 0.9188\n",
            "Epoch 235/300\n",
            "40/40 [==============================] - 0s 4ms/step - loss: 0.2484 - accuracy: 0.9140 - val_loss: 0.2392 - val_accuracy: 0.9188\n",
            "Epoch 236/300\n",
            "40/40 [==============================] - 0s 4ms/step - loss: 0.2483 - accuracy: 0.9140 - val_loss: 0.2389 - val_accuracy: 0.9188\n",
            "Epoch 237/300\n",
            "40/40 [==============================] - 0s 4ms/step - loss: 0.2483 - accuracy: 0.9140 - val_loss: 0.2389 - val_accuracy: 0.9188\n",
            "Epoch 238/300\n",
            "40/40 [==============================] - 0s 4ms/step - loss: 0.2485 - accuracy: 0.9140 - val_loss: 0.2389 - val_accuracy: 0.9188\n",
            "Epoch 239/300\n",
            "40/40 [==============================] - 0s 5ms/step - loss: 0.2484 - accuracy: 0.9140 - val_loss: 0.2389 - val_accuracy: 0.9188\n",
            "Epoch 240/300\n",
            "40/40 [==============================] - 0s 4ms/step - loss: 0.2484 - accuracy: 0.9140 - val_loss: 0.2392 - val_accuracy: 0.9188\n",
            "Epoch 241/300\n",
            "40/40 [==============================] - 0s 4ms/step - loss: 0.2484 - accuracy: 0.9140 - val_loss: 0.2389 - val_accuracy: 0.9188\n",
            "Epoch 242/300\n",
            "40/40 [==============================] - 0s 4ms/step - loss: 0.2483 - accuracy: 0.9140 - val_loss: 0.2389 - val_accuracy: 0.9188\n",
            "Epoch 243/300\n",
            "40/40 [==============================] - 0s 4ms/step - loss: 0.2483 - accuracy: 0.9140 - val_loss: 0.2389 - val_accuracy: 0.9188\n",
            "Epoch 244/300\n",
            "40/40 [==============================] - 0s 4ms/step - loss: 0.2483 - accuracy: 0.9140 - val_loss: 0.2390 - val_accuracy: 0.9188\n",
            "Epoch 245/300\n",
            "40/40 [==============================] - 0s 4ms/step - loss: 0.2483 - accuracy: 0.9140 - val_loss: 0.2389 - val_accuracy: 0.9188\n",
            "Epoch 246/300\n",
            "40/40 [==============================] - 0s 4ms/step - loss: 0.2483 - accuracy: 0.9140 - val_loss: 0.2389 - val_accuracy: 0.9188\n",
            "Epoch 247/300\n",
            "40/40 [==============================] - 0s 4ms/step - loss: 0.2483 - accuracy: 0.9140 - val_loss: 0.2389 - val_accuracy: 0.9188\n",
            "Epoch 248/300\n",
            "40/40 [==============================] - 0s 4ms/step - loss: 0.2483 - accuracy: 0.9140 - val_loss: 0.2389 - val_accuracy: 0.9188\n",
            "Epoch 249/300\n",
            "40/40 [==============================] - 0s 4ms/step - loss: 0.2483 - accuracy: 0.9140 - val_loss: 0.2389 - val_accuracy: 0.9188\n",
            "Epoch 250/300\n",
            "40/40 [==============================] - 0s 4ms/step - loss: 0.2483 - accuracy: 0.9140 - val_loss: 0.2390 - val_accuracy: 0.9188\n",
            "Epoch 251/300\n",
            "40/40 [==============================] - 0s 5ms/step - loss: 0.2483 - accuracy: 0.9140 - val_loss: 0.2389 - val_accuracy: 0.9188\n",
            "Epoch 252/300\n",
            "40/40 [==============================] - 0s 4ms/step - loss: 0.2483 - accuracy: 0.9140 - val_loss: 0.2389 - val_accuracy: 0.9188\n",
            "Epoch 253/300\n",
            "40/40 [==============================] - 0s 5ms/step - loss: 0.2483 - accuracy: 0.9140 - val_loss: 0.2391 - val_accuracy: 0.9188\n",
            "Epoch 254/300\n",
            "40/40 [==============================] - 0s 4ms/step - loss: 0.2484 - accuracy: 0.9140 - val_loss: 0.2389 - val_accuracy: 0.9188\n",
            "Epoch 255/300\n",
            "40/40 [==============================] - 0s 4ms/step - loss: 0.2483 - accuracy: 0.9140 - val_loss: 0.2389 - val_accuracy: 0.9188\n",
            "Epoch 256/300\n",
            "40/40 [==============================] - 0s 4ms/step - loss: 0.2483 - accuracy: 0.9140 - val_loss: 0.2389 - val_accuracy: 0.9188\n",
            "Epoch 257/300\n",
            "40/40 [==============================] - 0s 6ms/step - loss: 0.2483 - accuracy: 0.9140 - val_loss: 0.2389 - val_accuracy: 0.9188\n",
            "Epoch 258/300\n",
            "40/40 [==============================] - 0s 7ms/step - loss: 0.2484 - accuracy: 0.9140 - val_loss: 0.2390 - val_accuracy: 0.9188\n",
            "Epoch 259/300\n",
            "40/40 [==============================] - 0s 6ms/step - loss: 0.2484 - accuracy: 0.9140 - val_loss: 0.2388 - val_accuracy: 0.9188\n",
            "Epoch 260/300\n",
            "40/40 [==============================] - 0s 6ms/step - loss: 0.2484 - accuracy: 0.9140 - val_loss: 0.2389 - val_accuracy: 0.9188\n",
            "Epoch 261/300\n",
            "40/40 [==============================] - 0s 6ms/step - loss: 0.2483 - accuracy: 0.9140 - val_loss: 0.2390 - val_accuracy: 0.9188\n",
            "Epoch 262/300\n",
            "40/40 [==============================] - 0s 7ms/step - loss: 0.2484 - accuracy: 0.9140 - val_loss: 0.2390 - val_accuracy: 0.9188\n",
            "Epoch 263/300\n",
            "40/40 [==============================] - 0s 7ms/step - loss: 0.2485 - accuracy: 0.9140 - val_loss: 0.2390 - val_accuracy: 0.9188\n",
            "Epoch 264/300\n",
            "40/40 [==============================] - 0s 6ms/step - loss: 0.2484 - accuracy: 0.9140 - val_loss: 0.2390 - val_accuracy: 0.9188\n",
            "Epoch 265/300\n",
            "40/40 [==============================] - 0s 7ms/step - loss: 0.2482 - accuracy: 0.9140 - val_loss: 0.2389 - val_accuracy: 0.9188\n",
            "Epoch 266/300\n",
            "40/40 [==============================] - 0s 6ms/step - loss: 0.2483 - accuracy: 0.9140 - val_loss: 0.2389 - val_accuracy: 0.9188\n",
            "Epoch 267/300\n",
            "40/40 [==============================] - 0s 6ms/step - loss: 0.2483 - accuracy: 0.9140 - val_loss: 0.2389 - val_accuracy: 0.9188\n",
            "Epoch 268/300\n",
            "40/40 [==============================] - 0s 7ms/step - loss: 0.2484 - accuracy: 0.9140 - val_loss: 0.2392 - val_accuracy: 0.9188\n",
            "Epoch 269/300\n",
            "40/40 [==============================] - 0s 6ms/step - loss: 0.2484 - accuracy: 0.9140 - val_loss: 0.2389 - val_accuracy: 0.9188\n",
            "Epoch 270/300\n",
            "40/40 [==============================] - 0s 7ms/step - loss: 0.2485 - accuracy: 0.9140 - val_loss: 0.2390 - val_accuracy: 0.9188\n",
            "Epoch 271/300\n",
            "40/40 [==============================] - 0s 7ms/step - loss: 0.2483 - accuracy: 0.9140 - val_loss: 0.2389 - val_accuracy: 0.9188\n",
            "Epoch 272/300\n",
            "40/40 [==============================] - 0s 7ms/step - loss: 0.2484 - accuracy: 0.9140 - val_loss: 0.2389 - val_accuracy: 0.9188\n",
            "Epoch 273/300\n",
            "40/40 [==============================] - 0s 5ms/step - loss: 0.2483 - accuracy: 0.9140 - val_loss: 0.2389 - val_accuracy: 0.9188\n",
            "Epoch 274/300\n",
            "40/40 [==============================] - 0s 5ms/step - loss: 0.2483 - accuracy: 0.9140 - val_loss: 0.2389 - val_accuracy: 0.9188\n",
            "Epoch 275/300\n",
            "40/40 [==============================] - 0s 5ms/step - loss: 0.2483 - accuracy: 0.9140 - val_loss: 0.2389 - val_accuracy: 0.9188\n",
            "Epoch 276/300\n",
            "40/40 [==============================] - 0s 4ms/step - loss: 0.2483 - accuracy: 0.9140 - val_loss: 0.2390 - val_accuracy: 0.9188\n",
            "Epoch 277/300\n",
            "40/40 [==============================] - 0s 5ms/step - loss: 0.2484 - accuracy: 0.9140 - val_loss: 0.2389 - val_accuracy: 0.9188\n",
            "Epoch 278/300\n",
            "40/40 [==============================] - 0s 4ms/step - loss: 0.2483 - accuracy: 0.9140 - val_loss: 0.2389 - val_accuracy: 0.9188\n",
            "Epoch 279/300\n",
            "40/40 [==============================] - 0s 4ms/step - loss: 0.2483 - accuracy: 0.9140 - val_loss: 0.2389 - val_accuracy: 0.9188\n",
            "Epoch 280/300\n",
            "40/40 [==============================] - 0s 4ms/step - loss: 0.2484 - accuracy: 0.9140 - val_loss: 0.2390 - val_accuracy: 0.9188\n",
            "Epoch 281/300\n",
            "40/40 [==============================] - 0s 4ms/step - loss: 0.2484 - accuracy: 0.9140 - val_loss: 0.2390 - val_accuracy: 0.9188\n",
            "Epoch 282/300\n",
            "40/40 [==============================] - 0s 4ms/step - loss: 0.2484 - accuracy: 0.9140 - val_loss: 0.2389 - val_accuracy: 0.9188\n",
            "Epoch 283/300\n",
            "40/40 [==============================] - 0s 5ms/step - loss: 0.2483 - accuracy: 0.9140 - val_loss: 0.2390 - val_accuracy: 0.9188\n",
            "Epoch 284/300\n",
            "40/40 [==============================] - 0s 5ms/step - loss: 0.2483 - accuracy: 0.9140 - val_loss: 0.2389 - val_accuracy: 0.9188\n",
            "Epoch 285/300\n",
            "40/40 [==============================] - 0s 4ms/step - loss: 0.2483 - accuracy: 0.9140 - val_loss: 0.2389 - val_accuracy: 0.9188\n",
            "Epoch 286/300\n",
            "40/40 [==============================] - 0s 5ms/step - loss: 0.2483 - accuracy: 0.9140 - val_loss: 0.2390 - val_accuracy: 0.9188\n",
            "Epoch 287/300\n",
            "40/40 [==============================] - 0s 5ms/step - loss: 0.2483 - accuracy: 0.9140 - val_loss: 0.2389 - val_accuracy: 0.9188\n",
            "Epoch 288/300\n",
            "40/40 [==============================] - 0s 5ms/step - loss: 0.2483 - accuracy: 0.9140 - val_loss: 0.2389 - val_accuracy: 0.9188\n",
            "Epoch 289/300\n",
            "40/40 [==============================] - 0s 4ms/step - loss: 0.2483 - accuracy: 0.9140 - val_loss: 0.2390 - val_accuracy: 0.9188\n",
            "Epoch 290/300\n",
            "40/40 [==============================] - 0s 4ms/step - loss: 0.2484 - accuracy: 0.9140 - val_loss: 0.2389 - val_accuracy: 0.9188\n",
            "Epoch 291/300\n",
            "40/40 [==============================] - 0s 4ms/step - loss: 0.2483 - accuracy: 0.9140 - val_loss: 0.2389 - val_accuracy: 0.9188\n",
            "Epoch 292/300\n",
            "40/40 [==============================] - 0s 4ms/step - loss: 0.2483 - accuracy: 0.9140 - val_loss: 0.2389 - val_accuracy: 0.9188\n",
            "Epoch 293/300\n",
            "40/40 [==============================] - 0s 4ms/step - loss: 0.2484 - accuracy: 0.9140 - val_loss: 0.2390 - val_accuracy: 0.9188\n",
            "Epoch 294/300\n",
            "40/40 [==============================] - 0s 4ms/step - loss: 0.2484 - accuracy: 0.9140 - val_loss: 0.2392 - val_accuracy: 0.9188\n",
            "Epoch 295/300\n",
            "40/40 [==============================] - 0s 5ms/step - loss: 0.2483 - accuracy: 0.9140 - val_loss: 0.2390 - val_accuracy: 0.9188\n",
            "Epoch 296/300\n",
            "40/40 [==============================] - 0s 4ms/step - loss: 0.2484 - accuracy: 0.9140 - val_loss: 0.2389 - val_accuracy: 0.9188\n",
            "Epoch 297/300\n",
            "40/40 [==============================] - 0s 4ms/step - loss: 0.2483 - accuracy: 0.9140 - val_loss: 0.2390 - val_accuracy: 0.9188\n",
            "Epoch 298/300\n",
            "40/40 [==============================] - 0s 5ms/step - loss: 0.2484 - accuracy: 0.9140 - val_loss: 0.2389 - val_accuracy: 0.9188\n",
            "Epoch 299/300\n",
            "40/40 [==============================] - 0s 4ms/step - loss: 0.2483 - accuracy: 0.9140 - val_loss: 0.2389 - val_accuracy: 0.9188\n",
            "Epoch 300/300\n",
            "40/40 [==============================] - 0s 4ms/step - loss: 0.2483 - accuracy: 0.9140 - val_loss: 0.2391 - val_accuracy: 0.9188\n"
          ]
        }
      ],
      "source": [
        "if model_selection[model_flag]==\"ALL\" or model_selection[model_flag] == \"AE\":\n",
        "  # training the model on training dataset\n",
        "  his = ae_classifier.fit(predictions, y_test, epochs=300,batch_size=500, validation_split=0.2).history"
      ]
    },
    {
      "cell_type": "code",
      "execution_count": 80,
      "metadata": {
        "id": "yeNS7pLUNYBz",
        "colab": {
          "base_uri": "https://localhost:8080/"
        },
        "outputId": "ca4277f2-877a-4a02-b2a2-a709a1babdcc"
      },
      "outputs": [
        {
          "output_type": "stream",
          "name": "stdout",
          "text": [
            "Saved model to disk\n",
            "Loaded model from disk\n"
          ]
        }
      ],
      "source": [
        "if model_selection[model_flag]==\"ALL\" or model_selection[model_flag] == \"AE\":\n",
        "  filepath = '/content/drive/MyDrive/Colab_Notebooks/Models/ae_classifier_binary'+model_name_suffix+'.json'\n",
        "  weightspath = '/content/drive/MyDrive/Colab_Notebooks/Weights/ae_classifier_binary'+model_name_suffix+'.h5'\n",
        "  if (not path.isfile(filepath)): \n",
        "    # serialize model to JSON\n",
        "    ae_classifier_json = ae_classifier.to_json()\n",
        "    with open(filepath, \"w\") as json_file:\n",
        "      json_file.write(ae_classifier_json)\n",
        "\n",
        "    # serialize weights to HDF5\n",
        "    ae_classifier.save_weights(weightspath)\n",
        "    print(\"Saved model to disk\")\n",
        "\n",
        "    # load json and create model\n",
        "    json_file = open(filepath, 'r')\n",
        "    loaded_model_json = json_file.read()\n",
        "    json_file.close()\n",
        "    ae_classifier = model_from_json(loaded_model_json)\n",
        "\n",
        "    # load weights into new model\n",
        "    ae_classifier.load_weights(weightspath)\n",
        "    print(\"Loaded model from disk\")"
      ]
    },
    {
      "cell_type": "code",
      "execution_count": 81,
      "metadata": {
        "id": "AG42bV79NYFB"
      },
      "outputs": [],
      "source": [
        "if model_selection[model_flag]==\"ALL\" or model_selection[model_flag] == \"AE\":\n",
        "  ae_classifier.compile(optimizer='adam', loss='binary_crossentropy',metrics=['accuracy'])"
      ]
    },
    {
      "cell_type": "code",
      "execution_count": 82,
      "metadata": {
        "id": "13aKBGJcNYHv",
        "colab": {
          "base_uri": "https://localhost:8080/"
        },
        "outputId": "0f14adb7-3315-4920-8556-e2abfad476b1"
      },
      "outputs": [
        {
          "output_type": "stream",
          "name": "stdout",
          "text": [
            "782/782 [==============================] - 2s 2ms/step - loss: 0.1182 - accuracy: 0.9896\n",
            "Test results - Loss: 0.11815585941076279 - Accuracy: 98.95600080490112%\n"
          ]
        }
      ],
      "source": [
        "if model_selection[model_flag]==\"ALL\" or model_selection[model_flag] == \"AE\":\n",
        "  # predicting target attribute on testing dataset\n",
        "  test_results = ae_classifier.evaluate(X_test, y_test, verbose=1)\n",
        "  print(f'Test results - Loss: {test_results[0]} - Accuracy: {test_results[1]*100}%')"
      ]
    },
    {
      "cell_type": "code",
      "execution_count": 83,
      "metadata": {
        "id": "zCWbOaSyN1dH"
      },
      "outputs": [],
      "source": [
        "if model_selection[model_flag]==\"ALL\" or model_selection[model_flag] == \"AE\":\n",
        "  # representation of model layers\n",
        "  plot_model(ae_classifier, to_file='/content/drive/MyDrive/Colab_Notebooks/Plots/ae_classifier_binary.png', show_shapes=True)"
      ]
    },
    {
      "cell_type": "code",
      "execution_count": 84,
      "metadata": {
        "id": "44VaFGgVOBpU",
        "colab": {
          "base_uri": "https://localhost:8080/",
          "height": 472
        },
        "outputId": "6fef9b52-2bb5-42ec-ed25-455367f593c6"
      },
      "outputs": [
        {
          "output_type": "display_data",
          "data": {
            "text/plain": [
              "<Figure size 640x480 with 1 Axes>"
            ],
            "image/png": "[encoded data removed]"
          },
          "metadata": {}
        }
      ],
      "source": [
        "if model_selection[model_flag]==\"ALL\" or model_selection[model_flag] == \"AE\":\n",
        "  # Plot of loss vs epoch of train and test dataset\n",
        "  plt.plot(his['loss'])\n",
        "  plt.plot(his['val_loss'])\n",
        "  plt.title(\"Plot of loss vs epoch for train and test dataset\")\n",
        "  plt.ylabel('loss')\n",
        "  plt.xlabel('epoch')\n",
        "  plt.legend(['train', 'test'], loc='upper right')\n",
        "  plt.savefig('/content/drive/MyDrive/Colab_Notebooks/Plots/ae_classifier_binary_loss.png')\n",
        "  plt.show()"
      ]
    },
    {
      "cell_type": "code",
      "execution_count": 85,
      "metadata": {
        "id": "Am0UB82rOIo1",
        "colab": {
          "base_uri": "https://localhost:8080/",
          "height": 472
        },
        "outputId": "f1430717-90ff-44a9-d677-b35d271ff540"
      },
      "outputs": [
        {
          "output_type": "display_data",
          "data": {
            "text/plain": [
              "<Figure size 640x480 with 1 Axes>"
            ],
            "image/png": "[encoded data removed]"
          },
          "metadata": {}
        }
      ],
      "source": [
        "if model_selection[model_flag]==\"ALL\" or model_selection[model_flag] == \"AE\":\n",
        "  # Plot of accuracy vs epoch of train and test dataset\n",
        "  plt.plot(his['accuracy'])\n",
        "  plt.plot(his['val_accuracy'])\n",
        "  plt.title(\"Plot of accuracy vs epoch for train and test dataset\")\n",
        "  plt.ylabel('accuracy')\n",
        "  plt.xlabel('epoch')\n",
        "  plt.legend(['train', 'test'], loc='best')\n",
        "  plt.savefig('/content/drive/MyDrive/Colab_Notebooks/Plots/ae_classifier_binary_accuracy.png')\n",
        "  plt.show()"
      ]
    },
    {
      "cell_type": "code",
      "execution_count": 86,
      "metadata": {
        "id": "f5OZTlm0OMoW",
        "colab": {
          "base_uri": "https://localhost:8080/"
        },
        "outputId": "5031433e-b461-465a-d7ae-3cddc965ebec"
      },
      "outputs": [
        {
          "output_type": "stream",
          "name": "stdout",
          "text": [
            "782/782 [==============================] - 2s 2ms/step\n"
          ]
        }
      ],
      "source": [
        "if model_selection[model_flag]==\"ALL\" or model_selection[model_flag] == \"AE\":\n",
        "  y_pred = ae_classifier.predict(X_test).ravel()\n",
        "  fpr, tpr, thresholds = roc_curve(y_test, y_pred)\n",
        "  #auc = auc(fpr, tpr)"
      ]
    },
    {
      "cell_type": "code",
      "execution_count": 87,
      "metadata": {
        "id": "GbSkwfO2OTkn",
        "colab": {
          "base_uri": "https://localhost:8080/",
          "height": 510
        },
        "outputId": "7b0ff852-0353-4f76-ce7f-49312c7e2e50"
      },
      "outputs": [
        {
          "output_type": "stream",
          "name": "stderr",
          "text": [
            "WARNING:matplotlib.legend:No artists with labels found to put in legend.  Note that artists whose label start with an underscore are ignored when legend() is called with no argument.\n"
          ]
        },
        {
          "output_type": "display_data",
          "data": {
            "text/plain": [
              "<Figure size 640x480 with 1 Axes>"
            ],
            "image/png": "[encoded data removed]"
          },
          "metadata": {}
        }
      ],
      "source": [
        "if model_selection[model_flag]==\"ALL\" or model_selection[model_flag] == \"AE\":\n",
        "  plt.plot([0, 1], [0, 1], 'k--')\n",
        "  #plt.plot(fpr, tpr, label='Keras (area = {:.3f})'.format(auc))\n",
        "  plt.plot(fpr, tpr)\n",
        "  plt.xlabel('False positive rate')\n",
        "  plt.ylabel('True positive rate')\n",
        "  plt.title('ROC curve')\n",
        "  plt.legend(loc='best')\n",
        "  plt.savefig('/content/drive/MyDrive/Colab_Notebooks/Plots/ae_binary_roc.png')\n",
        "  plt.show()"
      ]
    },
    {
      "cell_type": "code",
      "execution_count": 88,
      "metadata": {
        "id": "n7Xl74UXOZxm",
        "colab": {
          "base_uri": "https://localhost:8080/"
        },
        "outputId": "1ee5a76b-4d05-458b-e281-1d135c625a19"
      },
      "outputs": [
        {
          "output_type": "stream",
          "name": "stdout",
          "text": [
            "782/782 [==============================] - 1s 2ms/step\n",
            "782/782 [==============================] - 2s 2ms/step\n"
          ]
        }
      ],
      "source": [
        "if model_selection[model_flag]==\"ALL\" or model_selection[model_flag] == \"AE\":\n",
        "  pred = ae_classifier.predict(X_test)\n",
        "  y_classes = (ae_classifier.predict(X_test)>0.5).astype('int32')"
      ]
    },
    {
      "cell_type": "code",
      "execution_count": 89,
      "metadata": {
        "id": "WA_g3UlXOZ71",
        "colab": {
          "base_uri": "https://localhost:8080/"
        },
        "outputId": "b3d75de9-d817-4fc5-d7a7-699c38328dde"
      },
      "outputs": [
        {
          "output_type": "stream",
          "name": "stdout",
          "text": [
            "Recall Score -  0.9804280030110765\n",
            "F1 Score -  0.9858880778588809\n",
            "Precision Score -  0.9914093083949543\n"
          ]
        }
      ],
      "source": [
        "if model_selection[model_flag]==\"ALL\" or model_selection[model_flag] == \"AE\":\n",
        "  print(\"Recall Score - \",recall_score(y_test,y_classes))\n",
        "  print(\"F1 Score - \",f1_score(y_test,y_classes))\n",
        "  print(\"Precision Score - \",precision_score(y_test,y_classes))"
      ]
    },
    {
      "cell_type": "code",
      "source": [
        "print(classification_report(y_test, y_classes, target_names=['0', '1']))\n",
        "cm = confusion_matrix(y_test, y_classes)\n",
        "disp = ConfusionMatrixDisplay(confusion_matrix=cm,\n",
        "                              display_labels=['0', '1'])\n",
        "disp.plot()\n",
        "\n",
        "plt.show()"
      ],
      "metadata": {
        "colab": {
          "base_uri": "https://localhost:8080/",
          "height": 610
        },
        "id": "UgHHdx0qoryj",
        "outputId": "28af2876-b58b-4c9d-cb30-eea4c19f86c0"
      },
      "execution_count": 90,
      "outputs": [
        {
          "output_type": "stream",
          "name": "stdout",
          "text": [
            "              precision    recall  f1-score   support\n",
            "\n",
            "           0       0.99      0.99      0.99     15701\n",
            "           1       0.99      0.98      0.99      9299\n",
            "\n",
            "    accuracy                           0.99     25000\n",
            "   macro avg       0.99      0.99      0.99     25000\n",
            "weighted avg       0.99      0.99      0.99     25000\n",
            "\n"
          ]
        },
        {
          "output_type": "display_data",
          "data": {
            "text/plain": [
              "<Figure size 640x480 with 2 Axes>"
            ],
            "image/png": "[encoded data removed]"
          },
          "metadata": {}
        }
      ]
    }
  ],
  "metadata": {
    "colab": {
      "provenance": [],
      "include_colab_link": true
    },
    "gpuClass": "standard",
    "kernelspec": {
      "display_name": "Python 3",
      "name": "python3"
    },
    "language_info": {
      "name": "python"
    },
    "accelerator": "GPU"
  },
  "nbformat": 4,
  "nbformat_minor": 0
}