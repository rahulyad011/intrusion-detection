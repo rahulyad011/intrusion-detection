{
  "cells": [
    {
      "cell_type": "markdown",
      "metadata": {
        "id": "view-in-github",
        "colab_type": "text"
      },
      "source": [
        "<a href=\"https://colab.research.google.com/github/rahulyad011/intrusion-detection/blob/main/ARP_MitM_Kitsune_Network_Attack_model_training.ipynb\" target=\"_parent\"><img src=\"https://colab.research.google.com/assets/colab-badge.svg\" alt=\"Open In Colab\"/></a>"
      ]
    },
    {
      "cell_type": "code",
      "execution_count": null,
      "metadata": {
        "id": "qXQ8rUmdwaf4"
      },
      "outputs": [],
      "source": [
        "\n",
        "from sklearn.metrics import accuracy_score # for calculating accuracy of model\n",
        "from sklearn.model_selection import train_test_split # for splitting the dataset for training and testing\n",
        "from sklearn.metrics import classification_report # for generating a classification report of model\n",
        "import pickle # saving and loading trained model\n",
        "from os import path\n",
        "import numpy as np\n",
        "import pandas as pd\n",
        "import matplotlib.pyplot as plt\n",
        "\n",
        "# importing library for support vector machine classifier\n",
        "from sklearn.svm import SVC\n",
        "\n",
        "# MLP requirements \n",
        "from keras.layers import Dense # importing dense layer\n",
        "from keras.models import Sequential #importing Sequential layer\n",
        "from keras.models import model_from_json # saving and loading trained model\n",
        "\n",
        "# LSTM requirements \n",
        "from keras.layers import LSTM\n",
        "from keras.layers import Input\n",
        "from keras.models import Model\n",
        "\n",
        "# evaluation metrices\n",
        "from sklearn.metrics import classification_report, confusion_matrix\n",
        "from sklearn.metrics import roc_auc_score\n",
        "from sklearn.metrics import roc_curve, auc\n",
        "from sklearn.metrics import precision_score\n",
        "from sklearn.metrics import recall_score\n",
        "from sklearn.metrics import f1_score\n",
        "from sklearn.metrics import det_curve\n",
        "\n",
        "# representation of model layers\n",
        "from keras.utils.vis_utils import plot_model"
      ]
    },
    {
      "cell_type": "code",
      "source": [
        "from google.colab import drive\n",
        "drive.mount('/content/drive')"
      ],
      "metadata": {
        "colab": {
          "base_uri": "https://localhost:8080/"
        },
        "id": "DBCkPmpEjFSf",
        "outputId": "88afee59-ba08-4dbf-abca-e7342a1763f8"
      },
      "execution_count": null,
      "outputs": [
        {
          "output_type": "stream",
          "name": "stdout",
          "text": [
            "Drive already mounted at /content/drive; to attempt to forcibly remount, call drive.mount(\"/content/drive\", force_remount=True).\n"
          ]
        }
      ]
    },
    {
      "cell_type": "code",
      "execution_count": null,
      "metadata": {
        "colab": {
          "base_uri": "https://localhost:8080/",
          "height": 557
        },
        "id": "Pepa9lW8whHh",
        "outputId": "21e90993-9297-402f-e57b-08ee32af2c6a"
      },
      "outputs": [
        {
          "output_type": "execute_result",
          "data": {
            "text/plain": [
              "               X1           X2             X3          X4           X5  \\\n",
              "0      350.232184  1346.162089  175204.643884  596.288170  1344.152560   \n",
              "1      483.667535  1351.017245  176928.604058  751.927224  1347.076578   \n",
              "2       27.468728    60.459899      63.980515   47.049431    60.983788   \n",
              "3      368.255476  1345.441370  169643.854754  625.578287  1338.793580   \n",
              "4      160.445579  1296.716764  142232.637775  280.933089  1300.258342   \n",
              "...           ...          ...            ...         ...          ...   \n",
              "25038  500.763780  1367.161062  156499.812125  767.028059  1357.816530   \n",
              "25039   21.991515    60.792727     412.846060   39.709418    61.839811   \n",
              "25040  159.056565  1273.750274  155330.991574  276.015559  1283.112032   \n",
              "25041  140.130704  1265.963572  169804.095065  248.857773  1276.265930   \n",
              "25042   40.275490    63.354895     562.942877   58.978650    63.418717   \n",
              "\n",
              "                  X6           X7           X8             X9           X10  \\\n",
              "0      176390.518563  1885.876040  1340.571874  180675.586143  19599.011695   \n",
              "1      180167.492567  2059.863374  1341.664931  182967.131001  19743.118945   \n",
              "2         140.551410   143.154994    61.857620     264.706949   1408.647025   \n",
              "3      178768.342198  1937.615595  1334.710133  186236.473252  19602.075820   \n",
              "4      137789.153434   869.088644  1299.887529  137571.580945   8730.023410   \n",
              "...              ...          ...          ...            ...           ...   \n",
              "25038  167075.534413  2075.431991  1344.753421  179986.066880  19362.648892   \n",
              "25039     925.933226   133.417182    63.251001    1458.248854   1415.342052   \n",
              "25040  149476.401129   861.924634  1293.243697  142560.936433   8709.474892   \n",
              "25041  159666.631694   822.903199  1288.946201  147881.156661   8692.554937   \n",
              "25042     558.161641   154.832728    62.956583     497.540052   1443.247387   \n",
              "\n",
              "       ...          X108          X109         X110        X111         X112  \\\n",
              "0      ...  0.000000e+00  20834.038285  1340.225752  426.585925  1340.225752   \n",
              "1      ...  0.000000e+00  25103.572515  1340.948807  425.394365  1340.948807   \n",
              "2      ... -1.504107e-08   5490.475482    60.000000    0.000005  1229.654179   \n",
              "3      ...  0.000000e+00  27540.438942  1341.861245  424.338178  1341.861245   \n",
              "4      ...  0.000000e+00  27694.579703  1335.202333  426.134022  1335.202333   \n",
              "...    ...           ...           ...          ...         ...          ...   \n",
              "25038  ...  0.000000e+00  27984.157881  1341.264731  425.129209  1341.264731   \n",
              "25039  ... -2.017417e-08  13958.347633    60.000000    0.000003  1230.064027   \n",
              "25040  ...  0.000000e+00  28078.725730  1335.258631  426.198370  1335.258631   \n",
              "25041  ...  0.000000e+00  28167.882342  1334.628592  427.074737  1334.628592   \n",
              "25042  ...  2.234090e-09  13987.672593    60.000000    0.000008  1229.753574   \n",
              "\n",
              "                X113          X114          X115  Unnamed: 0  label  \n",
              "0      181975.551472  0.000000e+00  0.000000e+00      405598    0.0  \n",
              "1      180960.366187  0.000000e+00  0.000000e+00      671202    0.0  \n",
              "2       55705.673832 -5.194824e-12 -4.441597e-09      149918    0.0  \n",
              "3      180062.889686  0.000000e+00  0.000000e+00     1202122    0.0  \n",
              "4      181590.204914  0.000000e+00  0.000000e+00     1209727    0.0  \n",
              "...              ...           ...           ...         ...    ...  \n",
              "25038  180734.844531  0.000000e+00  0.000000e+00     1760567    1.0  \n",
              "25039   55377.386774 -4.492515e-11 -7.077473e-08     1784438    1.0  \n",
              "25040  181645.050190  0.000000e+00  0.000000e+00     1690990    1.0  \n",
              "25041  182392.830646  0.000000e+00  0.000000e+00     2293956    1.0  \n",
              "25042   55796.943029 -3.811974e-11 -1.980538e-08     1698028    1.0  \n",
              "\n",
              "[25043 rows x 117 columns]"
            ],
            "text/html": [
              "\n",
              "  <div id=\"df-ed9c1fb2-8a27-405a-83b4-fe4682d8f272\">\n",
              "    <div class=\"colab-df-container\">\n",
              "      <div>\n",
              "<style scoped>\n",
              "    .dataframe tbody tr th:only-of-type {\n",
              "        vertical-align: middle;\n",
              "    }\n",
              "\n",
              "    .dataframe tbody tr th {\n",
              "        vertical-align: top;\n",
              "    }\n",
              "\n",
              "    .dataframe thead th {\n",
              "        text-align: right;\n",
              "    }\n",
              "</style>\n",
              "<table border=\"1\" class=\"dataframe\">\n",
              "  <thead>\n",
              "    <tr style=\"text-align: right;\">\n",
              "      <th></th>\n",
              "      <th>X1</th>\n",
              "      <th>X2</th>\n",
              "      <th>X3</th>\n",
              "      <th>X4</th>\n",
              "      <th>X5</th>\n",
              "      <th>X6</th>\n",
              "      <th>X7</th>\n",
              "      <th>X8</th>\n",
              "      <th>X9</th>\n",
              "      <th>X10</th>\n",
              "      <th>...</th>\n",
              "      <th>X108</th>\n",
              "      <th>X109</th>\n",
              "      <th>X110</th>\n",
              "      <th>X111</th>\n",
              "      <th>X112</th>\n",
              "      <th>X113</th>\n",
              "      <th>X114</th>\n",
              "      <th>X115</th>\n",
              "      <th>Unnamed: 0</th>\n",
              "      <th>label</th>\n",
              "    </tr>\n",
              "  </thead>\n",
              "  <tbody>\n",
              "    <tr>\n",
              "      <th>0</th>\n",
              "      <td>350.232184</td>\n",
              "      <td>1346.162089</td>\n",
              "      <td>175204.643884</td>\n",
              "      <td>596.288170</td>\n",
              "      <td>1344.152560</td>\n",
              "      <td>176390.518563</td>\n",
              "      <td>1885.876040</td>\n",
              "      <td>1340.571874</td>\n",
              "      <td>180675.586143</td>\n",
              "      <td>19599.011695</td>\n",
              "      <td>...</td>\n",
              "      <td>0.000000e+00</td>\n",
              "      <td>20834.038285</td>\n",
              "      <td>1340.225752</td>\n",
              "      <td>426.585925</td>\n",
              "      <td>1340.225752</td>\n",
              "      <td>181975.551472</td>\n",
              "      <td>0.000000e+00</td>\n",
              "      <td>0.000000e+00</td>\n",
              "      <td>405598</td>\n",
              "      <td>0.0</td>\n",
              "    </tr>\n",
              "    <tr>\n",
              "      <th>1</th>\n",
              "      <td>483.667535</td>\n",
              "      <td>1351.017245</td>\n",
              "      <td>176928.604058</td>\n",
              "      <td>751.927224</td>\n",
              "      <td>1347.076578</td>\n",
              "      <td>180167.492567</td>\n",
              "      <td>2059.863374</td>\n",
              "      <td>1341.664931</td>\n",
              "      <td>182967.131001</td>\n",
              "      <td>19743.118945</td>\n",
              "      <td>...</td>\n",
              "      <td>0.000000e+00</td>\n",
              "      <td>25103.572515</td>\n",
              "      <td>1340.948807</td>\n",
              "      <td>425.394365</td>\n",
              "      <td>1340.948807</td>\n",
              "      <td>180960.366187</td>\n",
              "      <td>0.000000e+00</td>\n",
              "      <td>0.000000e+00</td>\n",
              "      <td>671202</td>\n",
              "      <td>0.0</td>\n",
              "    </tr>\n",
              "    <tr>\n",
              "      <th>2</th>\n",
              "      <td>27.468728</td>\n",
              "      <td>60.459899</td>\n",
              "      <td>63.980515</td>\n",
              "      <td>47.049431</td>\n",
              "      <td>60.983788</td>\n",
              "      <td>140.551410</td>\n",
              "      <td>143.154994</td>\n",
              "      <td>61.857620</td>\n",
              "      <td>264.706949</td>\n",
              "      <td>1408.647025</td>\n",
              "      <td>...</td>\n",
              "      <td>-1.504107e-08</td>\n",
              "      <td>5490.475482</td>\n",
              "      <td>60.000000</td>\n",
              "      <td>0.000005</td>\n",
              "      <td>1229.654179</td>\n",
              "      <td>55705.673832</td>\n",
              "      <td>-5.194824e-12</td>\n",
              "      <td>-4.441597e-09</td>\n",
              "      <td>149918</td>\n",
              "      <td>0.0</td>\n",
              "    </tr>\n",
              "    <tr>\n",
              "      <th>3</th>\n",
              "      <td>368.255476</td>\n",
              "      <td>1345.441370</td>\n",
              "      <td>169643.854754</td>\n",
              "      <td>625.578287</td>\n",
              "      <td>1338.793580</td>\n",
              "      <td>178768.342198</td>\n",
              "      <td>1937.615595</td>\n",
              "      <td>1334.710133</td>\n",
              "      <td>186236.473252</td>\n",
              "      <td>19602.075820</td>\n",
              "      <td>...</td>\n",
              "      <td>0.000000e+00</td>\n",
              "      <td>27540.438942</td>\n",
              "      <td>1341.861245</td>\n",
              "      <td>424.338178</td>\n",
              "      <td>1341.861245</td>\n",
              "      <td>180062.889686</td>\n",
              "      <td>0.000000e+00</td>\n",
              "      <td>0.000000e+00</td>\n",
              "      <td>1202122</td>\n",
              "      <td>0.0</td>\n",
              "    </tr>\n",
              "    <tr>\n",
              "      <th>4</th>\n",
              "      <td>160.445579</td>\n",
              "      <td>1296.716764</td>\n",
              "      <td>142232.637775</td>\n",
              "      <td>280.933089</td>\n",
              "      <td>1300.258342</td>\n",
              "      <td>137789.153434</td>\n",
              "      <td>869.088644</td>\n",
              "      <td>1299.887529</td>\n",
              "      <td>137571.580945</td>\n",
              "      <td>8730.023410</td>\n",
              "      <td>...</td>\n",
              "      <td>0.000000e+00</td>\n",
              "      <td>27694.579703</td>\n",
              "      <td>1335.202333</td>\n",
              "      <td>426.134022</td>\n",
              "      <td>1335.202333</td>\n",
              "      <td>181590.204914</td>\n",
              "      <td>0.000000e+00</td>\n",
              "      <td>0.000000e+00</td>\n",
              "      <td>1209727</td>\n",
              "      <td>0.0</td>\n",
              "    </tr>\n",
              "    <tr>\n",
              "      <th>...</th>\n",
              "      <td>...</td>\n",
              "      <td>...</td>\n",
              "      <td>...</td>\n",
              "      <td>...</td>\n",
              "      <td>...</td>\n",
              "      <td>...</td>\n",
              "      <td>...</td>\n",
              "      <td>...</td>\n",
              "      <td>...</td>\n",
              "      <td>...</td>\n",
              "      <td>...</td>\n",
              "      <td>...</td>\n",
              "      <td>...</td>\n",
              "      <td>...</td>\n",
              "      <td>...</td>\n",
              "      <td>...</td>\n",
              "      <td>...</td>\n",
              "      <td>...</td>\n",
              "      <td>...</td>\n",
              "      <td>...</td>\n",
              "      <td>...</td>\n",
              "    </tr>\n",
              "    <tr>\n",
              "      <th>25038</th>\n",
              "      <td>500.763780</td>\n",
              "      <td>1367.161062</td>\n",
              "      <td>156499.812125</td>\n",
              "      <td>767.028059</td>\n",
              "      <td>1357.816530</td>\n",
              "      <td>167075.534413</td>\n",
              "      <td>2075.431991</td>\n",
              "      <td>1344.753421</td>\n",
              "      <td>179986.066880</td>\n",
              "      <td>19362.648892</td>\n",
              "      <td>...</td>\n",
              "      <td>0.000000e+00</td>\n",
              "      <td>27984.157881</td>\n",
              "      <td>1341.264731</td>\n",
              "      <td>425.129209</td>\n",
              "      <td>1341.264731</td>\n",
              "      <td>180734.844531</td>\n",
              "      <td>0.000000e+00</td>\n",
              "      <td>0.000000e+00</td>\n",
              "      <td>1760567</td>\n",
              "      <td>1.0</td>\n",
              "    </tr>\n",
              "    <tr>\n",
              "      <th>25039</th>\n",
              "      <td>21.991515</td>\n",
              "      <td>60.792727</td>\n",
              "      <td>412.846060</td>\n",
              "      <td>39.709418</td>\n",
              "      <td>61.839811</td>\n",
              "      <td>925.933226</td>\n",
              "      <td>133.417182</td>\n",
              "      <td>63.251001</td>\n",
              "      <td>1458.248854</td>\n",
              "      <td>1415.342052</td>\n",
              "      <td>...</td>\n",
              "      <td>-2.017417e-08</td>\n",
              "      <td>13958.347633</td>\n",
              "      <td>60.000000</td>\n",
              "      <td>0.000003</td>\n",
              "      <td>1230.064027</td>\n",
              "      <td>55377.386774</td>\n",
              "      <td>-4.492515e-11</td>\n",
              "      <td>-7.077473e-08</td>\n",
              "      <td>1784438</td>\n",
              "      <td>1.0</td>\n",
              "    </tr>\n",
              "    <tr>\n",
              "      <th>25040</th>\n",
              "      <td>159.056565</td>\n",
              "      <td>1273.750274</td>\n",
              "      <td>155330.991574</td>\n",
              "      <td>276.015559</td>\n",
              "      <td>1283.112032</td>\n",
              "      <td>149476.401129</td>\n",
              "      <td>861.924634</td>\n",
              "      <td>1293.243697</td>\n",
              "      <td>142560.936433</td>\n",
              "      <td>8709.474892</td>\n",
              "      <td>...</td>\n",
              "      <td>0.000000e+00</td>\n",
              "      <td>28078.725730</td>\n",
              "      <td>1335.258631</td>\n",
              "      <td>426.198370</td>\n",
              "      <td>1335.258631</td>\n",
              "      <td>181645.050190</td>\n",
              "      <td>0.000000e+00</td>\n",
              "      <td>0.000000e+00</td>\n",
              "      <td>1690990</td>\n",
              "      <td>1.0</td>\n",
              "    </tr>\n",
              "    <tr>\n",
              "      <th>25041</th>\n",
              "      <td>140.130704</td>\n",
              "      <td>1265.963572</td>\n",
              "      <td>169804.095065</td>\n",
              "      <td>248.857773</td>\n",
              "      <td>1276.265930</td>\n",
              "      <td>159666.631694</td>\n",
              "      <td>822.903199</td>\n",
              "      <td>1288.946201</td>\n",
              "      <td>147881.156661</td>\n",
              "      <td>8692.554937</td>\n",
              "      <td>...</td>\n",
              "      <td>0.000000e+00</td>\n",
              "      <td>28167.882342</td>\n",
              "      <td>1334.628592</td>\n",
              "      <td>427.074737</td>\n",
              "      <td>1334.628592</td>\n",
              "      <td>182392.830646</td>\n",
              "      <td>0.000000e+00</td>\n",
              "      <td>0.000000e+00</td>\n",
              "      <td>2293956</td>\n",
              "      <td>1.0</td>\n",
              "    </tr>\n",
              "    <tr>\n",
              "      <th>25042</th>\n",
              "      <td>40.275490</td>\n",
              "      <td>63.354895</td>\n",
              "      <td>562.942877</td>\n",
              "      <td>58.978650</td>\n",
              "      <td>63.418717</td>\n",
              "      <td>558.161641</td>\n",
              "      <td>154.832728</td>\n",
              "      <td>62.956583</td>\n",
              "      <td>497.540052</td>\n",
              "      <td>1443.247387</td>\n",
              "      <td>...</td>\n",
              "      <td>2.234090e-09</td>\n",
              "      <td>13987.672593</td>\n",
              "      <td>60.000000</td>\n",
              "      <td>0.000008</td>\n",
              "      <td>1229.753574</td>\n",
              "      <td>55796.943029</td>\n",
              "      <td>-3.811974e-11</td>\n",
              "      <td>-1.980538e-08</td>\n",
              "      <td>1698028</td>\n",
              "      <td>1.0</td>\n",
              "    </tr>\n",
              "  </tbody>\n",
              "</table>\n",
              "<p>25043 rows × 117 columns</p>\n",
              "</div>\n",
              "      <button class=\"colab-df-convert\" onclick=\"convertToInteractive('df-ed9c1fb2-8a27-405a-83b4-fe4682d8f272')\"\n",
              "              title=\"Convert this dataframe to an interactive table.\"\n",
              "              style=\"display:none;\">\n",
              "        \n",
              "  <svg xmlns=\"http://www.w3.org/2000/svg\" height=\"24px\"viewBox=\"0 0 24 24\"\n",
              "       width=\"24px\">\n",
              "    <path d=\"M0 0h24v24H0V0z\" fill=\"none\"/>\n",
              "    <path d=\"M18.56 5.44l.94 2.06.94-2.06 2.06-.94-2.06-.94-.94-2.06-.94 2.06-2.06.94zm-11 1L8.5 8.5l.94-2.06 2.06-.94-2.06-.94L8.5 2.5l-.94 2.06-2.06.94zm10 10l.94 2.06.94-2.06 2.06-.94-2.06-.94-.94-2.06-.94 2.06-2.06.94z\"/><path d=\"M17.41 7.96l-1.37-1.37c-.4-.4-.92-.59-1.43-.59-.52 0-1.04.2-1.43.59L10.3 9.45l-7.72 7.72c-.78.78-.78 2.05 0 2.83L4 21.41c.39.39.9.59 1.41.59.51 0 1.02-.2 1.41-.59l7.78-7.78 2.81-2.81c.8-.78.8-2.07 0-2.86zM5.41 20L4 18.59l7.72-7.72 1.47 1.35L5.41 20z\"/>\n",
              "  </svg>\n",
              "      </button>\n",
              "      \n",
              "  <style>\n",
              "    .colab-df-container {\n",
              "      display:flex;\n",
              "      flex-wrap:wrap;\n",
              "      gap: 12px;\n",
              "    }\n",
              "\n",
              "    .colab-df-convert {\n",
              "      background-color: #E8F0FE;\n",
              "      border: none;\n",
              "      border-radius: 50%;\n",
              "      cursor: pointer;\n",
              "      display: none;\n",
              "      fill: #1967D2;\n",
              "      height: 32px;\n",
              "      padding: 0 0 0 0;\n",
              "      width: 32px;\n",
              "    }\n",
              "\n",
              "    .colab-df-convert:hover {\n",
              "      background-color: #E2EBFA;\n",
              "      box-shadow: 0px 1px 2px rgba(60, 64, 67, 0.3), 0px 1px 3px 1px rgba(60, 64, 67, 0.15);\n",
              "      fill: #174EA6;\n",
              "    }\n",
              "\n",
              "    [theme=dark] .colab-df-convert {\n",
              "      background-color: #3B4455;\n",
              "      fill: #D2E3FC;\n",
              "    }\n",
              "\n",
              "    [theme=dark] .colab-df-convert:hover {\n",
              "      background-color: #434B5C;\n",
              "      box-shadow: 0px 1px 3px 1px rgba(0, 0, 0, 0.15);\n",
              "      filter: drop-shadow(0px 1px 2px rgba(0, 0, 0, 0.3));\n",
              "      fill: #FFFFFF;\n",
              "    }\n",
              "  </style>\n",
              "\n",
              "      <script>\n",
              "        const buttonEl =\n",
              "          document.querySelector('#df-ed9c1fb2-8a27-405a-83b4-fe4682d8f272 button.colab-df-convert');\n",
              "        buttonEl.style.display =\n",
              "          google.colab.kernel.accessAllowed ? 'block' : 'none';\n",
              "\n",
              "        async function convertToInteractive(key) {\n",
              "          const element = document.querySelector('#df-ed9c1fb2-8a27-405a-83b4-fe4682d8f272');\n",
              "          const dataTable =\n",
              "            await google.colab.kernel.invokeFunction('convertToInteractive',\n",
              "                                                     [key], {});\n",
              "          if (!dataTable) return;\n",
              "\n",
              "          const docLinkHtml = 'Like what you see? Visit the ' +\n",
              "            '<a target=\"_blank\" href=https://colab.research.google.com/notebooks/data_table.ipynb>data table notebook</a>'\n",
              "            + ' to learn more about interactive tables.';\n",
              "          element.innerHTML = '';\n",
              "          dataTable['output_type'] = 'display_data';\n",
              "          await google.colab.output.renderOutput(dataTable, element);\n",
              "          const docLink = document.createElement('div');\n",
              "          docLink.innerHTML = docLinkHtml;\n",
              "          element.appendChild(docLink);\n",
              "        }\n",
              "      </script>\n",
              "    </div>\n",
              "  </div>\n",
              "  "
            ]
          },
          "metadata": {},
          "execution_count": 55
        }
      ],
      "source": [
        "bin_data_total = data = pd.read_csv(\"/content/drive/MyDrive/Colab_Notebooks/Datasets/kitsume_network_attack_dataset/ARP_MitM_dataset_kitsune_binary_data_1M.csv\")\n",
        "bin_data_total.drop(bin_data_total.columns[0],axis=1,inplace=True)\n",
        "bin_data_total"
      ]
    },
    {
      "cell_type": "code",
      "execution_count": null,
      "metadata": {
        "colab": {
          "base_uri": "https://localhost:8080/"
        },
        "id": "xHCs0B3sKOa_",
        "outputId": "aa7e01cb-eab3-4858-a0fc-e1d973d01b3e"
      },
      "outputs": [
        {
          "output_type": "execute_result",
          "data": {
            "text/plain": [
              "0.0    0.542667\n",
              "1.0    0.457333\n",
              "Name: label, dtype: float64"
            ]
          },
          "metadata": {},
          "execution_count": 56
        }
      ],
      "source": [
        "# distribution of label class before sampling\n",
        "data_size = bin_data_total.shape[0]\n",
        "# data_size\n",
        "bin_data_total.label.value_counts()/data_size"
      ]
    },
    {
      "cell_type": "code",
      "source": [
        "model_name_suffix = \"_kitsune_arp_mitm\""
      ],
      "metadata": {
        "collapsed": true,
        "id": "xoRpI3HV9G2v"
      },
      "execution_count": null,
      "outputs": []
    },
    {
      "cell_type": "code",
      "source": [
        "# numeric feature normalization\n",
        "from sklearn.preprocessing import MinMaxScaler\n",
        "from sklearn.preprocessing import StandardScaler\n",
        "\n",
        "numeric_cols = bin_data_total.select_dtypes(['number']).columns\n",
        "numeric_cols = numeric_cols.drop('label')\n",
        "flag = 0\n",
        "scaler = None\n",
        "if flag:\n",
        "  # using standard scaler for normalizing\n",
        "  scaler = StandardScaler()\n",
        "else:\n",
        "  # using minmax scaler for normalizing\n",
        "  # to avoid negative values after scaling\n",
        "  scaler = MinMaxScaler()\n",
        "\n",
        "def normalization_train(df,col):\n",
        "  for i in col:\n",
        "    arr = df[i]\n",
        "    arr = np.array(arr)\n",
        "    df[i] = scaler.fit_transform(arr.reshape(len(arr),1))\n",
        "  return df\n",
        "\n",
        "def normalization_test(df,col):\n",
        "  for i in col:\n",
        "    arr = df[i]\n",
        "    arr = np.array(arr)\n",
        "    df[i] = scaler.transform(arr.reshape(len(arr),1))\n",
        "  return df\n",
        "\n",
        "# numeric_cols"
      ],
      "metadata": {
        "id": "QAUrPvEIYHoH"
      },
      "execution_count": null,
      "outputs": []
    },
    {
      "cell_type": "code",
      "execution_count": null,
      "metadata": {
        "colab": {
          "base_uri": "https://localhost:8080/",
          "height": 557
        },
        "id": "XSTP2AcKJgTF",
        "outputId": "625b71a8-90e1-480c-e323-8c77a9b9ab4f"
      },
      "outputs": [
        {
          "output_type": "execute_result",
          "data": {
            "text/plain": [
              "               X1           X2             X3          X4           X5  \\\n",
              "0      350.232184  1346.162089  175204.643884  596.288170  1344.152560   \n",
              "1      483.667535  1351.017245  176928.604058  751.927224  1347.076578   \n",
              "2       27.468728    60.459899      63.980515   47.049431    60.983788   \n",
              "3      368.255476  1345.441370  169643.854754  625.578287  1338.793580   \n",
              "4      160.445579  1296.716764  142232.637775  280.933089  1300.258342   \n",
              "...           ...          ...            ...         ...          ...   \n",
              "25038  500.763780  1367.161062  156499.812125  767.028059  1357.816530   \n",
              "25039   21.991515    60.792727     412.846060   39.709418    61.839811   \n",
              "25040  159.056565  1273.750274  155330.991574  276.015559  1283.112032   \n",
              "25041  140.130704  1265.963572  169804.095065  248.857773  1276.265930   \n",
              "25042   40.275490    63.354895     562.942877   58.978650    63.418717   \n",
              "\n",
              "                  X6           X7           X8             X9           X10  \\\n",
              "0      176390.518563  1885.876040  1340.571874  180675.586143  19599.011695   \n",
              "1      180167.492567  2059.863374  1341.664931  182967.131001  19743.118945   \n",
              "2         140.551410   143.154994    61.857620     264.706949   1408.647025   \n",
              "3      178768.342198  1937.615595  1334.710133  186236.473252  19602.075820   \n",
              "4      137789.153434   869.088644  1299.887529  137571.580945   8730.023410   \n",
              "...              ...          ...          ...            ...           ...   \n",
              "25038  167075.534413  2075.431991  1344.753421  179986.066880  19362.648892   \n",
              "25039     925.933226   133.417182    63.251001    1458.248854   1415.342052   \n",
              "25040  149476.401129   861.924634  1293.243697  142560.936433   8709.474892   \n",
              "25041  159666.631694   822.903199  1288.946201  147881.156661   8692.554937   \n",
              "25042     558.161641   154.832728    62.956583     497.540052   1443.247387   \n",
              "\n",
              "       ...          X108          X109         X110        X111         X112  \\\n",
              "0      ...  0.000000e+00  20834.038285  1340.225752  426.585925  1340.225752   \n",
              "1      ...  0.000000e+00  25103.572515  1340.948807  425.394365  1340.948807   \n",
              "2      ... -1.504107e-08   5490.475482    60.000000    0.000005  1229.654179   \n",
              "3      ...  0.000000e+00  27540.438942  1341.861245  424.338178  1341.861245   \n",
              "4      ...  0.000000e+00  27694.579703  1335.202333  426.134022  1335.202333   \n",
              "...    ...           ...           ...          ...         ...          ...   \n",
              "25038  ...  0.000000e+00  27984.157881  1341.264731  425.129209  1341.264731   \n",
              "25039  ... -2.017417e-08  13958.347633    60.000000    0.000003  1230.064027   \n",
              "25040  ...  0.000000e+00  28078.725730  1335.258631  426.198370  1335.258631   \n",
              "25041  ...  0.000000e+00  28167.882342  1334.628592  427.074737  1334.628592   \n",
              "25042  ...  2.234090e-09  13987.672593    60.000000    0.000008  1229.753574   \n",
              "\n",
              "                X113          X114          X115  Unnamed: 0  label  \n",
              "0      181975.551472  0.000000e+00  0.000000e+00      405598    0.0  \n",
              "1      180960.366187  0.000000e+00  0.000000e+00      671202    0.0  \n",
              "2       55705.673832 -5.194824e-12 -4.441597e-09      149918    0.0  \n",
              "3      180062.889686  0.000000e+00  0.000000e+00     1202122    0.0  \n",
              "4      181590.204914  0.000000e+00  0.000000e+00     1209727    0.0  \n",
              "...              ...           ...           ...         ...    ...  \n",
              "25038  180734.844531  0.000000e+00  0.000000e+00     1760567    1.0  \n",
              "25039   55377.386774 -4.492515e-11 -7.077473e-08     1784438    1.0  \n",
              "25040  181645.050190  0.000000e+00  0.000000e+00     1690990    1.0  \n",
              "25041  182392.830646  0.000000e+00  0.000000e+00     2293956    1.0  \n",
              "25042   55796.943029 -3.811974e-11 -1.980538e-08     1698028    1.0  \n",
              "\n",
              "[25043 rows x 117 columns]"
            ],
            "text/html": [
              "\n",
              "  <div id=\"df-ab1675d3-55e2-4892-b32a-e71747a2b9e2\">\n",
              "    <div class=\"colab-df-container\">\n",
              "      <div>\n",
              "<style scoped>\n",
              "    .dataframe tbody tr th:only-of-type {\n",
              "        vertical-align: middle;\n",
              "    }\n",
              "\n",
              "    .dataframe tbody tr th {\n",
              "        vertical-align: top;\n",
              "    }\n",
              "\n",
              "    .dataframe thead th {\n",
              "        text-align: right;\n",
              "    }\n",
              "</style>\n",
              "<table border=\"1\" class=\"dataframe\">\n",
              "  <thead>\n",
              "    <tr style=\"text-align: right;\">\n",
              "      <th></th>\n",
              "      <th>X1</th>\n",
              "      <th>X2</th>\n",
              "      <th>X3</th>\n",
              "      <th>X4</th>\n",
              "      <th>X5</th>\n",
              "      <th>X6</th>\n",
              "      <th>X7</th>\n",
              "      <th>X8</th>\n",
              "      <th>X9</th>\n",
              "      <th>X10</th>\n",
              "      <th>...</th>\n",
              "      <th>X108</th>\n",
              "      <th>X109</th>\n",
              "      <th>X110</th>\n",
              "      <th>X111</th>\n",
              "      <th>X112</th>\n",
              "      <th>X113</th>\n",
              "      <th>X114</th>\n",
              "      <th>X115</th>\n",
              "      <th>Unnamed: 0</th>\n",
              "      <th>label</th>\n",
              "    </tr>\n",
              "  </thead>\n",
              "  <tbody>\n",
              "    <tr>\n",
              "      <th>0</th>\n",
              "      <td>350.232184</td>\n",
              "      <td>1346.162089</td>\n",
              "      <td>175204.643884</td>\n",
              "      <td>596.288170</td>\n",
              "      <td>1344.152560</td>\n",
              "      <td>176390.518563</td>\n",
              "      <td>1885.876040</td>\n",
              "      <td>1340.571874</td>\n",
              "      <td>180675.586143</td>\n",
              "      <td>19599.011695</td>\n",
              "      <td>...</td>\n",
              "      <td>0.000000e+00</td>\n",
              "      <td>20834.038285</td>\n",
              "      <td>1340.225752</td>\n",
              "      <td>426.585925</td>\n",
              "      <td>1340.225752</td>\n",
              "      <td>181975.551472</td>\n",
              "      <td>0.000000e+00</td>\n",
              "      <td>0.000000e+00</td>\n",
              "      <td>405598</td>\n",
              "      <td>0.0</td>\n",
              "    </tr>\n",
              "    <tr>\n",
              "      <th>1</th>\n",
              "      <td>483.667535</td>\n",
              "      <td>1351.017245</td>\n",
              "      <td>176928.604058</td>\n",
              "      <td>751.927224</td>\n",
              "      <td>1347.076578</td>\n",
              "      <td>180167.492567</td>\n",
              "      <td>2059.863374</td>\n",
              "      <td>1341.664931</td>\n",
              "      <td>182967.131001</td>\n",
              "      <td>19743.118945</td>\n",
              "      <td>...</td>\n",
              "      <td>0.000000e+00</td>\n",
              "      <td>25103.572515</td>\n",
              "      <td>1340.948807</td>\n",
              "      <td>425.394365</td>\n",
              "      <td>1340.948807</td>\n",
              "      <td>180960.366187</td>\n",
              "      <td>0.000000e+00</td>\n",
              "      <td>0.000000e+00</td>\n",
              "      <td>671202</td>\n",
              "      <td>0.0</td>\n",
              "    </tr>\n",
              "    <tr>\n",
              "      <th>2</th>\n",
              "      <td>27.468728</td>\n",
              "      <td>60.459899</td>\n",
              "      <td>63.980515</td>\n",
              "      <td>47.049431</td>\n",
              "      <td>60.983788</td>\n",
              "      <td>140.551410</td>\n",
              "      <td>143.154994</td>\n",
              "      <td>61.857620</td>\n",
              "      <td>264.706949</td>\n",
              "      <td>1408.647025</td>\n",
              "      <td>...</td>\n",
              "      <td>-1.504107e-08</td>\n",
              "      <td>5490.475482</td>\n",
              "      <td>60.000000</td>\n",
              "      <td>0.000005</td>\n",
              "      <td>1229.654179</td>\n",
              "      <td>55705.673832</td>\n",
              "      <td>-5.194824e-12</td>\n",
              "      <td>-4.441597e-09</td>\n",
              "      <td>149918</td>\n",
              "      <td>0.0</td>\n",
              "    </tr>\n",
              "    <tr>\n",
              "      <th>3</th>\n",
              "      <td>368.255476</td>\n",
              "      <td>1345.441370</td>\n",
              "      <td>169643.854754</td>\n",
              "      <td>625.578287</td>\n",
              "      <td>1338.793580</td>\n",
              "      <td>178768.342198</td>\n",
              "      <td>1937.615595</td>\n",
              "      <td>1334.710133</td>\n",
              "      <td>186236.473252</td>\n",
              "      <td>19602.075820</td>\n",
              "      <td>...</td>\n",
              "      <td>0.000000e+00</td>\n",
              "      <td>27540.438942</td>\n",
              "      <td>1341.861245</td>\n",
              "      <td>424.338178</td>\n",
              "      <td>1341.861245</td>\n",
              "      <td>180062.889686</td>\n",
              "      <td>0.000000e+00</td>\n",
              "      <td>0.000000e+00</td>\n",
              "      <td>1202122</td>\n",
              "      <td>0.0</td>\n",
              "    </tr>\n",
              "    <tr>\n",
              "      <th>4</th>\n",
              "      <td>160.445579</td>\n",
              "      <td>1296.716764</td>\n",
              "      <td>142232.637775</td>\n",
              "      <td>280.933089</td>\n",
              "      <td>1300.258342</td>\n",
              "      <td>137789.153434</td>\n",
              "      <td>869.088644</td>\n",
              "      <td>1299.887529</td>\n",
              "      <td>137571.580945</td>\n",
              "      <td>8730.023410</td>\n",
              "      <td>...</td>\n",
              "      <td>0.000000e+00</td>\n",
              "      <td>27694.579703</td>\n",
              "      <td>1335.202333</td>\n",
              "      <td>426.134022</td>\n",
              "      <td>1335.202333</td>\n",
              "      <td>181590.204914</td>\n",
              "      <td>0.000000e+00</td>\n",
              "      <td>0.000000e+00</td>\n",
              "      <td>1209727</td>\n",
              "      <td>0.0</td>\n",
              "    </tr>\n",
              "    <tr>\n",
              "      <th>...</th>\n",
              "      <td>...</td>\n",
              "      <td>...</td>\n",
              "      <td>...</td>\n",
              "      <td>...</td>\n",
              "      <td>...</td>\n",
              "      <td>...</td>\n",
              "      <td>...</td>\n",
              "      <td>...</td>\n",
              "      <td>...</td>\n",
              "      <td>...</td>\n",
              "      <td>...</td>\n",
              "      <td>...</td>\n",
              "      <td>...</td>\n",
              "      <td>...</td>\n",
              "      <td>...</td>\n",
              "      <td>...</td>\n",
              "      <td>...</td>\n",
              "      <td>...</td>\n",
              "      <td>...</td>\n",
              "      <td>...</td>\n",
              "      <td>...</td>\n",
              "    </tr>\n",
              "    <tr>\n",
              "      <th>25038</th>\n",
              "      <td>500.763780</td>\n",
              "      <td>1367.161062</td>\n",
              "      <td>156499.812125</td>\n",
              "      <td>767.028059</td>\n",
              "      <td>1357.816530</td>\n",
              "      <td>167075.534413</td>\n",
              "      <td>2075.431991</td>\n",
              "      <td>1344.753421</td>\n",
              "      <td>179986.066880</td>\n",
              "      <td>19362.648892</td>\n",
              "      <td>...</td>\n",
              "      <td>0.000000e+00</td>\n",
              "      <td>27984.157881</td>\n",
              "      <td>1341.264731</td>\n",
              "      <td>425.129209</td>\n",
              "      <td>1341.264731</td>\n",
              "      <td>180734.844531</td>\n",
              "      <td>0.000000e+00</td>\n",
              "      <td>0.000000e+00</td>\n",
              "      <td>1760567</td>\n",
              "      <td>1.0</td>\n",
              "    </tr>\n",
              "    <tr>\n",
              "      <th>25039</th>\n",
              "      <td>21.991515</td>\n",
              "      <td>60.792727</td>\n",
              "      <td>412.846060</td>\n",
              "      <td>39.709418</td>\n",
              "      <td>61.839811</td>\n",
              "      <td>925.933226</td>\n",
              "      <td>133.417182</td>\n",
              "      <td>63.251001</td>\n",
              "      <td>1458.248854</td>\n",
              "      <td>1415.342052</td>\n",
              "      <td>...</td>\n",
              "      <td>-2.017417e-08</td>\n",
              "      <td>13958.347633</td>\n",
              "      <td>60.000000</td>\n",
              "      <td>0.000003</td>\n",
              "      <td>1230.064027</td>\n",
              "      <td>55377.386774</td>\n",
              "      <td>-4.492515e-11</td>\n",
              "      <td>-7.077473e-08</td>\n",
              "      <td>1784438</td>\n",
              "      <td>1.0</td>\n",
              "    </tr>\n",
              "    <tr>\n",
              "      <th>25040</th>\n",
              "      <td>159.056565</td>\n",
              "      <td>1273.750274</td>\n",
              "      <td>155330.991574</td>\n",
              "      <td>276.015559</td>\n",
              "      <td>1283.112032</td>\n",
              "      <td>149476.401129</td>\n",
              "      <td>861.924634</td>\n",
              "      <td>1293.243697</td>\n",
              "      <td>142560.936433</td>\n",
              "      <td>8709.474892</td>\n",
              "      <td>...</td>\n",
              "      <td>0.000000e+00</td>\n",
              "      <td>28078.725730</td>\n",
              "      <td>1335.258631</td>\n",
              "      <td>426.198370</td>\n",
              "      <td>1335.258631</td>\n",
              "      <td>181645.050190</td>\n",
              "      <td>0.000000e+00</td>\n",
              "      <td>0.000000e+00</td>\n",
              "      <td>1690990</td>\n",
              "      <td>1.0</td>\n",
              "    </tr>\n",
              "    <tr>\n",
              "      <th>25041</th>\n",
              "      <td>140.130704</td>\n",
              "      <td>1265.963572</td>\n",
              "      <td>169804.095065</td>\n",
              "      <td>248.857773</td>\n",
              "      <td>1276.265930</td>\n",
              "      <td>159666.631694</td>\n",
              "      <td>822.903199</td>\n",
              "      <td>1288.946201</td>\n",
              "      <td>147881.156661</td>\n",
              "      <td>8692.554937</td>\n",
              "      <td>...</td>\n",
              "      <td>0.000000e+00</td>\n",
              "      <td>28167.882342</td>\n",
              "      <td>1334.628592</td>\n",
              "      <td>427.074737</td>\n",
              "      <td>1334.628592</td>\n",
              "      <td>182392.830646</td>\n",
              "      <td>0.000000e+00</td>\n",
              "      <td>0.000000e+00</td>\n",
              "      <td>2293956</td>\n",
              "      <td>1.0</td>\n",
              "    </tr>\n",
              "    <tr>\n",
              "      <th>25042</th>\n",
              "      <td>40.275490</td>\n",
              "      <td>63.354895</td>\n",
              "      <td>562.942877</td>\n",
              "      <td>58.978650</td>\n",
              "      <td>63.418717</td>\n",
              "      <td>558.161641</td>\n",
              "      <td>154.832728</td>\n",
              "      <td>62.956583</td>\n",
              "      <td>497.540052</td>\n",
              "      <td>1443.247387</td>\n",
              "      <td>...</td>\n",
              "      <td>2.234090e-09</td>\n",
              "      <td>13987.672593</td>\n",
              "      <td>60.000000</td>\n",
              "      <td>0.000008</td>\n",
              "      <td>1229.753574</td>\n",
              "      <td>55796.943029</td>\n",
              "      <td>-3.811974e-11</td>\n",
              "      <td>-1.980538e-08</td>\n",
              "      <td>1698028</td>\n",
              "      <td>1.0</td>\n",
              "    </tr>\n",
              "  </tbody>\n",
              "</table>\n",
              "<p>25043 rows × 117 columns</p>\n",
              "</div>\n",
              "      <button class=\"colab-df-convert\" onclick=\"convertToInteractive('df-ab1675d3-55e2-4892-b32a-e71747a2b9e2')\"\n",
              "              title=\"Convert this dataframe to an interactive table.\"\n",
              "              style=\"display:none;\">\n",
              "        \n",
              "  <svg xmlns=\"http://www.w3.org/2000/svg\" height=\"24px\"viewBox=\"0 0 24 24\"\n",
              "       width=\"24px\">\n",
              "    <path d=\"M0 0h24v24H0V0z\" fill=\"none\"/>\n",
              "    <path d=\"M18.56 5.44l.94 2.06.94-2.06 2.06-.94-2.06-.94-.94-2.06-.94 2.06-2.06.94zm-11 1L8.5 8.5l.94-2.06 2.06-.94-2.06-.94L8.5 2.5l-.94 2.06-2.06.94zm10 10l.94 2.06.94-2.06 2.06-.94-2.06-.94-.94-2.06-.94 2.06-2.06.94z\"/><path d=\"M17.41 7.96l-1.37-1.37c-.4-.4-.92-.59-1.43-.59-.52 0-1.04.2-1.43.59L10.3 9.45l-7.72 7.72c-.78.78-.78 2.05 0 2.83L4 21.41c.39.39.9.59 1.41.59.51 0 1.02-.2 1.41-.59l7.78-7.78 2.81-2.81c.8-.78.8-2.07 0-2.86zM5.41 20L4 18.59l7.72-7.72 1.47 1.35L5.41 20z\"/>\n",
              "  </svg>\n",
              "      </button>\n",
              "      \n",
              "  <style>\n",
              "    .colab-df-container {\n",
              "      display:flex;\n",
              "      flex-wrap:wrap;\n",
              "      gap: 12px;\n",
              "    }\n",
              "\n",
              "    .colab-df-convert {\n",
              "      background-color: #E8F0FE;\n",
              "      border: none;\n",
              "      border-radius: 50%;\n",
              "      cursor: pointer;\n",
              "      display: none;\n",
              "      fill: #1967D2;\n",
              "      height: 32px;\n",
              "      padding: 0 0 0 0;\n",
              "      width: 32px;\n",
              "    }\n",
              "\n",
              "    .colab-df-convert:hover {\n",
              "      background-color: #E2EBFA;\n",
              "      box-shadow: 0px 1px 2px rgba(60, 64, 67, 0.3), 0px 1px 3px 1px rgba(60, 64, 67, 0.15);\n",
              "      fill: #174EA6;\n",
              "    }\n",
              "\n",
              "    [theme=dark] .colab-df-convert {\n",
              "      background-color: #3B4455;\n",
              "      fill: #D2E3FC;\n",
              "    }\n",
              "\n",
              "    [theme=dark] .colab-df-convert:hover {\n",
              "      background-color: #434B5C;\n",
              "      box-shadow: 0px 1px 3px 1px rgba(0, 0, 0, 0.15);\n",
              "      filter: drop-shadow(0px 1px 2px rgba(0, 0, 0, 0.3));\n",
              "      fill: #FFFFFF;\n",
              "    }\n",
              "  </style>\n",
              "\n",
              "      <script>\n",
              "        const buttonEl =\n",
              "          document.querySelector('#df-ab1675d3-55e2-4892-b32a-e71747a2b9e2 button.colab-df-convert');\n",
              "        buttonEl.style.display =\n",
              "          google.colab.kernel.accessAllowed ? 'block' : 'none';\n",
              "\n",
              "        async function convertToInteractive(key) {\n",
              "          const element = document.querySelector('#df-ab1675d3-55e2-4892-b32a-e71747a2b9e2');\n",
              "          const dataTable =\n",
              "            await google.colab.kernel.invokeFunction('convertToInteractive',\n",
              "                                                     [key], {});\n",
              "          if (!dataTable) return;\n",
              "\n",
              "          const docLinkHtml = 'Like what you see? Visit the ' +\n",
              "            '<a target=\"_blank\" href=https://colab.research.google.com/notebooks/data_table.ipynb>data table notebook</a>'\n",
              "            + ' to learn more about interactive tables.';\n",
              "          element.innerHTML = '';\n",
              "          dataTable['output_type'] = 'display_data';\n",
              "          await google.colab.output.renderOutput(dataTable, element);\n",
              "          const docLink = document.createElement('div');\n",
              "          docLink.innerHTML = docLinkHtml;\n",
              "          element.appendChild(docLink);\n",
              "        }\n",
              "      </script>\n",
              "    </div>\n",
              "  </div>\n",
              "  "
            ]
          },
          "metadata": {},
          "execution_count": 59
        }
      ],
      "source": [
        "# sampling data taking only 50% of the data\n",
        "# bin_data = bin_data_total.groupby('label', group_keys=False).apply(lambda x: x.sample(frac=0.5))\n",
        "bin_data = bin_data_total\n",
        "bin_data"
      ]
    },
    {
      "cell_type": "code",
      "source": [
        "number_of_cols = bin_data.shape[1]"
      ],
      "metadata": {
        "id": "N125Cc3Ukt8h"
      },
      "execution_count": null,
      "outputs": []
    },
    {
      "cell_type": "code",
      "execution_count": null,
      "metadata": {
        "colab": {
          "base_uri": "https://localhost:8080/"
        },
        "id": "nKX2TRG0J85J",
        "outputId": "f890814a-717b-4e30-edce-b6b27ca65f32"
      },
      "outputs": [
        {
          "output_type": "execute_result",
          "data": {
            "text/plain": [
              "0.0    0.542667\n",
              "1.0    0.457333\n",
              "Name: label, dtype: float64"
            ]
          },
          "metadata": {},
          "execution_count": 61
        }
      ],
      "source": [
        "# distribution of label class after sampling\n",
        "data_size = bin_data.shape[0]\n",
        "bin_data.label.value_counts()/data_size"
      ]
    },
    {
      "cell_type": "code",
      "execution_count": null,
      "metadata": {
        "id": "L11T2MepDzax"
      },
      "outputs": [],
      "source": [
        "model_selection = {\n",
        "    0 : \"ALL\",\n",
        "    2 : \"MLP\",\n",
        "    3 : \"LSTM\",\n",
        "    4 : \"AE\"\n",
        "}\n",
        "model_flag = 0\n",
        "svm_enable = 1"
      ]
    },
    {
      "cell_type": "code",
      "execution_count": null,
      "metadata": {
        "id": "OdRAXVlsxUVW"
      },
      "outputs": [],
      "source": [
        "X = bin_data.iloc[:,0:number_of_cols] # dataset excluding target attribute (encoded, one-hot-encoded,original)\n",
        "Y = bin_data['label'] # target attribute"
      ]
    },
    {
      "cell_type": "code",
      "execution_count": null,
      "metadata": {
        "id": "lFdHHvRtxU5B"
      },
      "outputs": [],
      "source": [
        "# splitting the dataset 75% for training and 25% testing\n",
        "X_train, X_test, y_train, y_test = train_test_split(X,Y, test_size=0.25, random_state=42) "
      ]
    },
    {
      "cell_type": "code",
      "source": [
        "# calling the normalization() function\n",
        "X_train = normalization_train(X_train,numeric_cols)\n",
        "X_train.head()"
      ],
      "metadata": {
        "colab": {
          "base_uri": "https://localhost:8080/",
          "height": 404
        },
        "id": "SLLlMtsaYJdK",
        "outputId": "232b4bb9-596e-4ddc-a00d-0e983b730dc9"
      },
      "execution_count": null,
      "outputs": [
        {
          "output_type": "execute_result",
          "data": {
            "text/plain": [
              "             X1        X2        X3        X4        X5        X6        X7  \\\n",
              "4836   0.039224  0.005400  0.012709  0.047849  0.005263  0.013222  0.062250   \n",
              "13855  0.695732  0.878353  0.584690  0.785272  0.879841  0.620947  0.917246   \n",
              "17176  0.580660  0.872082  0.592738  0.693531  0.878317  0.606969  0.872267   \n",
              "450    0.326768  0.846831  0.447886  0.363852  0.847984  0.479582  0.415005   \n",
              "16718  0.734013  0.881102  0.549566  0.808123  0.880698  0.598231  0.919511   \n",
              "\n",
              "             X8        X9       X10  ...      X108      X109          X110  \\\n",
              "4836   0.004043  0.010152  0.065599  ...  0.718652  0.101674  7.702172e-16   \n",
              "13855  0.880173  0.654758  0.968585  ...  0.765630  0.905950  8.812510e-01   \n",
              "17176  0.882537  0.628479  0.982485  ...  0.765630  0.905000  8.810615e-01   \n",
              "450    0.848644  0.512198  0.441172  ...  0.680076  0.996094  8.036632e-01   \n",
              "16718  0.882365  0.630608  0.990210  ...  0.765630  0.899473  8.814623e-01   \n",
              "\n",
              "               X111      X112      X113      X114      X115  Unnamed: 0  label  \n",
              "4836   2.108990e-09  0.804798  0.268407  0.603237  0.650291    0.030470    0.0  \n",
              "13855  9.403218e-01  0.881251  0.884205  0.670226  0.701202    0.767838    1.0  \n",
              "17176  9.406545e-01  0.881061  0.884831  0.670226  0.701202    0.725130    1.0  \n",
              "450    5.211378e-01  0.804670  0.271585  0.036804  0.588402    0.719004    0.0  \n",
              "16718  9.390911e-01  0.881462  0.881892  0.670226  0.701202    0.568532    1.0  \n",
              "\n",
              "[5 rows x 117 columns]"
            ],
            "text/html": [
              "\n",
              "  <div id=\"df-f0cff2c3-a709-4538-99ec-a18f1879bd2f\">\n",
              "    <div class=\"colab-df-container\">\n",
              "      <div>\n",
              "<style scoped>\n",
              "    .dataframe tbody tr th:only-of-type {\n",
              "        vertical-align: middle;\n",
              "    }\n",
              "\n",
              "    .dataframe tbody tr th {\n",
              "        vertical-align: top;\n",
              "    }\n",
              "\n",
              "    .dataframe thead th {\n",
              "        text-align: right;\n",
              "    }\n",
              "</style>\n",
              "<table border=\"1\" class=\"dataframe\">\n",
              "  <thead>\n",
              "    <tr style=\"text-align: right;\">\n",
              "      <th></th>\n",
              "      <th>X1</th>\n",
              "      <th>X2</th>\n",
              "      <th>X3</th>\n",
              "      <th>X4</th>\n",
              "      <th>X5</th>\n",
              "      <th>X6</th>\n",
              "      <th>X7</th>\n",
              "      <th>X8</th>\n",
              "      <th>X9</th>\n",
              "      <th>X10</th>\n",
              "      <th>...</th>\n",
              "      <th>X108</th>\n",
              "      <th>X109</th>\n",
              "      <th>X110</th>\n",
              "      <th>X111</th>\n",
              "      <th>X112</th>\n",
              "      <th>X113</th>\n",
              "      <th>X114</th>\n",
              "      <th>X115</th>\n",
              "      <th>Unnamed: 0</th>\n",
              "      <th>label</th>\n",
              "    </tr>\n",
              "  </thead>\n",
              "  <tbody>\n",
              "    <tr>\n",
              "      <th>4836</th>\n",
              "      <td>0.039224</td>\n",
              "      <td>0.005400</td>\n",
              "      <td>0.012709</td>\n",
              "      <td>0.047849</td>\n",
              "      <td>0.005263</td>\n",
              "      <td>0.013222</td>\n",
              "      <td>0.062250</td>\n",
              "      <td>0.004043</td>\n",
              "      <td>0.010152</td>\n",
              "      <td>0.065599</td>\n",
              "      <td>...</td>\n",
              "      <td>0.718652</td>\n",
              "      <td>0.101674</td>\n",
              "      <td>7.702172e-16</td>\n",
              "      <td>2.108990e-09</td>\n",
              "      <td>0.804798</td>\n",
              "      <td>0.268407</td>\n",
              "      <td>0.603237</td>\n",
              "      <td>0.650291</td>\n",
              "      <td>0.030470</td>\n",
              "      <td>0.0</td>\n",
              "    </tr>\n",
              "    <tr>\n",
              "      <th>13855</th>\n",
              "      <td>0.695732</td>\n",
              "      <td>0.878353</td>\n",
              "      <td>0.584690</td>\n",
              "      <td>0.785272</td>\n",
              "      <td>0.879841</td>\n",
              "      <td>0.620947</td>\n",
              "      <td>0.917246</td>\n",
              "      <td>0.880173</td>\n",
              "      <td>0.654758</td>\n",
              "      <td>0.968585</td>\n",
              "      <td>...</td>\n",
              "      <td>0.765630</td>\n",
              "      <td>0.905950</td>\n",
              "      <td>8.812510e-01</td>\n",
              "      <td>9.403218e-01</td>\n",
              "      <td>0.881251</td>\n",
              "      <td>0.884205</td>\n",
              "      <td>0.670226</td>\n",
              "      <td>0.701202</td>\n",
              "      <td>0.767838</td>\n",
              "      <td>1.0</td>\n",
              "    </tr>\n",
              "    <tr>\n",
              "      <th>17176</th>\n",
              "      <td>0.580660</td>\n",
              "      <td>0.872082</td>\n",
              "      <td>0.592738</td>\n",
              "      <td>0.693531</td>\n",
              "      <td>0.878317</td>\n",
              "      <td>0.606969</td>\n",
              "      <td>0.872267</td>\n",
              "      <td>0.882537</td>\n",
              "      <td>0.628479</td>\n",
              "      <td>0.982485</td>\n",
              "      <td>...</td>\n",
              "      <td>0.765630</td>\n",
              "      <td>0.905000</td>\n",
              "      <td>8.810615e-01</td>\n",
              "      <td>9.406545e-01</td>\n",
              "      <td>0.881061</td>\n",
              "      <td>0.884831</td>\n",
              "      <td>0.670226</td>\n",
              "      <td>0.701202</td>\n",
              "      <td>0.725130</td>\n",
              "      <td>1.0</td>\n",
              "    </tr>\n",
              "    <tr>\n",
              "      <th>450</th>\n",
              "      <td>0.326768</td>\n",
              "      <td>0.846831</td>\n",
              "      <td>0.447886</td>\n",
              "      <td>0.363852</td>\n",
              "      <td>0.847984</td>\n",
              "      <td>0.479582</td>\n",
              "      <td>0.415005</td>\n",
              "      <td>0.848644</td>\n",
              "      <td>0.512198</td>\n",
              "      <td>0.441172</td>\n",
              "      <td>...</td>\n",
              "      <td>0.680076</td>\n",
              "      <td>0.996094</td>\n",
              "      <td>8.036632e-01</td>\n",
              "      <td>5.211378e-01</td>\n",
              "      <td>0.804670</td>\n",
              "      <td>0.271585</td>\n",
              "      <td>0.036804</td>\n",
              "      <td>0.588402</td>\n",
              "      <td>0.719004</td>\n",
              "      <td>0.0</td>\n",
              "    </tr>\n",
              "    <tr>\n",
              "      <th>16718</th>\n",
              "      <td>0.734013</td>\n",
              "      <td>0.881102</td>\n",
              "      <td>0.549566</td>\n",
              "      <td>0.808123</td>\n",
              "      <td>0.880698</td>\n",
              "      <td>0.598231</td>\n",
              "      <td>0.919511</td>\n",
              "      <td>0.882365</td>\n",
              "      <td>0.630608</td>\n",
              "      <td>0.990210</td>\n",
              "      <td>...</td>\n",
              "      <td>0.765630</td>\n",
              "      <td>0.899473</td>\n",
              "      <td>8.814623e-01</td>\n",
              "      <td>9.390911e-01</td>\n",
              "      <td>0.881462</td>\n",
              "      <td>0.881892</td>\n",
              "      <td>0.670226</td>\n",
              "      <td>0.701202</td>\n",
              "      <td>0.568532</td>\n",
              "      <td>1.0</td>\n",
              "    </tr>\n",
              "  </tbody>\n",
              "</table>\n",
              "<p>5 rows × 117 columns</p>\n",
              "</div>\n",
              "      <button class=\"colab-df-convert\" onclick=\"convertToInteractive('df-f0cff2c3-a709-4538-99ec-a18f1879bd2f')\"\n",
              "              title=\"Convert this dataframe to an interactive table.\"\n",
              "              style=\"display:none;\">\n",
              "        \n",
              "  <svg xmlns=\"http://www.w3.org/2000/svg\" height=\"24px\"viewBox=\"0 0 24 24\"\n",
              "       width=\"24px\">\n",
              "    <path d=\"M0 0h24v24H0V0z\" fill=\"none\"/>\n",
              "    <path d=\"M18.56 5.44l.94 2.06.94-2.06 2.06-.94-2.06-.94-.94-2.06-.94 2.06-2.06.94zm-11 1L8.5 8.5l.94-2.06 2.06-.94-2.06-.94L8.5 2.5l-.94 2.06-2.06.94zm10 10l.94 2.06.94-2.06 2.06-.94-2.06-.94-.94-2.06-.94 2.06-2.06.94z\"/><path d=\"M17.41 7.96l-1.37-1.37c-.4-.4-.92-.59-1.43-.59-.52 0-1.04.2-1.43.59L10.3 9.45l-7.72 7.72c-.78.78-.78 2.05 0 2.83L4 21.41c.39.39.9.59 1.41.59.51 0 1.02-.2 1.41-.59l7.78-7.78 2.81-2.81c.8-.78.8-2.07 0-2.86zM5.41 20L4 18.59l7.72-7.72 1.47 1.35L5.41 20z\"/>\n",
              "  </svg>\n",
              "      </button>\n",
              "      \n",
              "  <style>\n",
              "    .colab-df-container {\n",
              "      display:flex;\n",
              "      flex-wrap:wrap;\n",
              "      gap: 12px;\n",
              "    }\n",
              "\n",
              "    .colab-df-convert {\n",
              "      background-color: #E8F0FE;\n",
              "      border: none;\n",
              "      border-radius: 50%;\n",
              "      cursor: pointer;\n",
              "      display: none;\n",
              "      fill: #1967D2;\n",
              "      height: 32px;\n",
              "      padding: 0 0 0 0;\n",
              "      width: 32px;\n",
              "    }\n",
              "\n",
              "    .colab-df-convert:hover {\n",
              "      background-color: #E2EBFA;\n",
              "      box-shadow: 0px 1px 2px rgba(60, 64, 67, 0.3), 0px 1px 3px 1px rgba(60, 64, 67, 0.15);\n",
              "      fill: #174EA6;\n",
              "    }\n",
              "\n",
              "    [theme=dark] .colab-df-convert {\n",
              "      background-color: #3B4455;\n",
              "      fill: #D2E3FC;\n",
              "    }\n",
              "\n",
              "    [theme=dark] .colab-df-convert:hover {\n",
              "      background-color: #434B5C;\n",
              "      box-shadow: 0px 1px 3px 1px rgba(0, 0, 0, 0.15);\n",
              "      filter: drop-shadow(0px 1px 2px rgba(0, 0, 0, 0.3));\n",
              "      fill: #FFFFFF;\n",
              "    }\n",
              "  </style>\n",
              "\n",
              "      <script>\n",
              "        const buttonEl =\n",
              "          document.querySelector('#df-f0cff2c3-a709-4538-99ec-a18f1879bd2f button.colab-df-convert');\n",
              "        buttonEl.style.display =\n",
              "          google.colab.kernel.accessAllowed ? 'block' : 'none';\n",
              "\n",
              "        async function convertToInteractive(key) {\n",
              "          const element = document.querySelector('#df-f0cff2c3-a709-4538-99ec-a18f1879bd2f');\n",
              "          const dataTable =\n",
              "            await google.colab.kernel.invokeFunction('convertToInteractive',\n",
              "                                                     [key], {});\n",
              "          if (!dataTable) return;\n",
              "\n",
              "          const docLinkHtml = 'Like what you see? Visit the ' +\n",
              "            '<a target=\"_blank\" href=https://colab.research.google.com/notebooks/data_table.ipynb>data table notebook</a>'\n",
              "            + ' to learn more about interactive tables.';\n",
              "          element.innerHTML = '';\n",
              "          dataTable['output_type'] = 'display_data';\n",
              "          await google.colab.output.renderOutput(dataTable, element);\n",
              "          const docLink = document.createElement('div');\n",
              "          docLink.innerHTML = docLinkHtml;\n",
              "          element.appendChild(docLink);\n",
              "        }\n",
              "      </script>\n",
              "    </div>\n",
              "  </div>\n",
              "  "
            ]
          },
          "metadata": {},
          "execution_count": 65
        }
      ]
    },
    {
      "cell_type": "code",
      "source": [
        "# calling the normalization() function\n",
        "X_test = normalization_test(X_test,numeric_cols)\n",
        "X_test.head()"
      ],
      "metadata": {
        "colab": {
          "base_uri": "https://localhost:8080/",
          "height": 317
        },
        "id": "EKmhgZCobPU3",
        "outputId": "dce8e8f0-2993-4469-f96f-4a9d52de819d"
      },
      "execution_count": null,
      "outputs": [
        {
          "output_type": "execute_result",
          "data": {
            "text/plain": [
              "             X1        X2        X3        X4        X5        X6        X7  \\\n",
              "21659  0.000051  0.000488  0.054655  0.000095  0.000487  0.055803  0.000324   \n",
              "14192  0.000054  0.000490  0.050807  0.000101  0.000488  0.053291  0.000332   \n",
              "16546  0.000105  0.000496  0.081459  0.000207  0.000497  0.079805  0.000731   \n",
              "13684  0.000024  0.000477  0.062069  0.000067  0.000480  0.059531  0.000293   \n",
              "20055  0.000063  0.000491  0.053493  0.000107  0.000489  0.055393  0.000336   \n",
              "\n",
              "             X8        X9       X10  ...      X108      X109      X110  \\\n",
              "21659  0.000486  0.056365  0.003451  ... -0.000032  0.012256  0.000458   \n",
              "14192  0.000486  0.055648  0.003468  ... -0.000032  0.012289  0.000458   \n",
              "16546  0.000500  0.076980  0.007657  ... -0.000032  0.011135  0.000503   \n",
              "13684  0.000486  0.054233  0.003412  ... -0.000032  0.011069  0.000501   \n",
              "20055  0.000486  0.056437  0.003469  ... -0.000032  0.011123  0.000501   \n",
              "\n",
              "           X111      X112      X113      X114      X115  Unnamed: 0  label  \n",
              "21659  0.000061  0.000459  0.022017 -0.000032 -0.000032    0.700327    1.0  \n",
              "14192  0.000062  0.000459  0.022148 -0.000032 -0.000032    0.867423    1.0  \n",
              "16546  0.000138  0.000503  0.072230 -0.000032 -0.000032    0.704330    1.0  \n",
              "13684  0.000138  0.000501  0.072210 -0.000032 -0.000032    0.523901    1.0  \n",
              "20055  0.000138  0.000501  0.072298 -0.000032 -0.000032    0.566228    1.0  \n",
              "\n",
              "[5 rows x 117 columns]"
            ],
            "text/html": [
              "\n",
              "  <div id=\"df-c6ac646e-958c-463b-9a8e-ce826acbc09f\">\n",
              "    <div class=\"colab-df-container\">\n",
              "      <div>\n",
              "<style scoped>\n",
              "    .dataframe tbody tr th:only-of-type {\n",
              "        vertical-align: middle;\n",
              "    }\n",
              "\n",
              "    .dataframe tbody tr th {\n",
              "        vertical-align: top;\n",
              "    }\n",
              "\n",
              "    .dataframe thead th {\n",
              "        text-align: right;\n",
              "    }\n",
              "</style>\n",
              "<table border=\"1\" class=\"dataframe\">\n",
              "  <thead>\n",
              "    <tr style=\"text-align: right;\">\n",
              "      <th></th>\n",
              "      <th>X1</th>\n",
              "      <th>X2</th>\n",
              "      <th>X3</th>\n",
              "      <th>X4</th>\n",
              "      <th>X5</th>\n",
              "      <th>X6</th>\n",
              "      <th>X7</th>\n",
              "      <th>X8</th>\n",
              "      <th>X9</th>\n",
              "      <th>X10</th>\n",
              "      <th>...</th>\n",
              "      <th>X108</th>\n",
              "      <th>X109</th>\n",
              "      <th>X110</th>\n",
              "      <th>X111</th>\n",
              "      <th>X112</th>\n",
              "      <th>X113</th>\n",
              "      <th>X114</th>\n",
              "      <th>X115</th>\n",
              "      <th>Unnamed: 0</th>\n",
              "      <th>label</th>\n",
              "    </tr>\n",
              "  </thead>\n",
              "  <tbody>\n",
              "    <tr>\n",
              "      <th>21659</th>\n",
              "      <td>0.000051</td>\n",
              "      <td>0.000488</td>\n",
              "      <td>0.054655</td>\n",
              "      <td>0.000095</td>\n",
              "      <td>0.000487</td>\n",
              "      <td>0.055803</td>\n",
              "      <td>0.000324</td>\n",
              "      <td>0.000486</td>\n",
              "      <td>0.056365</td>\n",
              "      <td>0.003451</td>\n",
              "      <td>...</td>\n",
              "      <td>-0.000032</td>\n",
              "      <td>0.012256</td>\n",
              "      <td>0.000458</td>\n",
              "      <td>0.000061</td>\n",
              "      <td>0.000459</td>\n",
              "      <td>0.022017</td>\n",
              "      <td>-0.000032</td>\n",
              "      <td>-0.000032</td>\n",
              "      <td>0.700327</td>\n",
              "      <td>1.0</td>\n",
              "    </tr>\n",
              "    <tr>\n",
              "      <th>14192</th>\n",
              "      <td>0.000054</td>\n",
              "      <td>0.000490</td>\n",
              "      <td>0.050807</td>\n",
              "      <td>0.000101</td>\n",
              "      <td>0.000488</td>\n",
              "      <td>0.053291</td>\n",
              "      <td>0.000332</td>\n",
              "      <td>0.000486</td>\n",
              "      <td>0.055648</td>\n",
              "      <td>0.003468</td>\n",
              "      <td>...</td>\n",
              "      <td>-0.000032</td>\n",
              "      <td>0.012289</td>\n",
              "      <td>0.000458</td>\n",
              "      <td>0.000062</td>\n",
              "      <td>0.000459</td>\n",
              "      <td>0.022148</td>\n",
              "      <td>-0.000032</td>\n",
              "      <td>-0.000032</td>\n",
              "      <td>0.867423</td>\n",
              "      <td>1.0</td>\n",
              "    </tr>\n",
              "    <tr>\n",
              "      <th>16546</th>\n",
              "      <td>0.000105</td>\n",
              "      <td>0.000496</td>\n",
              "      <td>0.081459</td>\n",
              "      <td>0.000207</td>\n",
              "      <td>0.000497</td>\n",
              "      <td>0.079805</td>\n",
              "      <td>0.000731</td>\n",
              "      <td>0.000500</td>\n",
              "      <td>0.076980</td>\n",
              "      <td>0.007657</td>\n",
              "      <td>...</td>\n",
              "      <td>-0.000032</td>\n",
              "      <td>0.011135</td>\n",
              "      <td>0.000503</td>\n",
              "      <td>0.000138</td>\n",
              "      <td>0.000503</td>\n",
              "      <td>0.072230</td>\n",
              "      <td>-0.000032</td>\n",
              "      <td>-0.000032</td>\n",
              "      <td>0.704330</td>\n",
              "      <td>1.0</td>\n",
              "    </tr>\n",
              "    <tr>\n",
              "      <th>13684</th>\n",
              "      <td>0.000024</td>\n",
              "      <td>0.000477</td>\n",
              "      <td>0.062069</td>\n",
              "      <td>0.000067</td>\n",
              "      <td>0.000480</td>\n",
              "      <td>0.059531</td>\n",
              "      <td>0.000293</td>\n",
              "      <td>0.000486</td>\n",
              "      <td>0.054233</td>\n",
              "      <td>0.003412</td>\n",
              "      <td>...</td>\n",
              "      <td>-0.000032</td>\n",
              "      <td>0.011069</td>\n",
              "      <td>0.000501</td>\n",
              "      <td>0.000138</td>\n",
              "      <td>0.000501</td>\n",
              "      <td>0.072210</td>\n",
              "      <td>-0.000032</td>\n",
              "      <td>-0.000032</td>\n",
              "      <td>0.523901</td>\n",
              "      <td>1.0</td>\n",
              "    </tr>\n",
              "    <tr>\n",
              "      <th>20055</th>\n",
              "      <td>0.000063</td>\n",
              "      <td>0.000491</td>\n",
              "      <td>0.053493</td>\n",
              "      <td>0.000107</td>\n",
              "      <td>0.000489</td>\n",
              "      <td>0.055393</td>\n",
              "      <td>0.000336</td>\n",
              "      <td>0.000486</td>\n",
              "      <td>0.056437</td>\n",
              "      <td>0.003469</td>\n",
              "      <td>...</td>\n",
              "      <td>-0.000032</td>\n",
              "      <td>0.011123</td>\n",
              "      <td>0.000501</td>\n",
              "      <td>0.000138</td>\n",
              "      <td>0.000501</td>\n",
              "      <td>0.072298</td>\n",
              "      <td>-0.000032</td>\n",
              "      <td>-0.000032</td>\n",
              "      <td>0.566228</td>\n",
              "      <td>1.0</td>\n",
              "    </tr>\n",
              "  </tbody>\n",
              "</table>\n",
              "<p>5 rows × 117 columns</p>\n",
              "</div>\n",
              "      <button class=\"colab-df-convert\" onclick=\"convertToInteractive('df-c6ac646e-958c-463b-9a8e-ce826acbc09f')\"\n",
              "              title=\"Convert this dataframe to an interactive table.\"\n",
              "              style=\"display:none;\">\n",
              "        \n",
              "  <svg xmlns=\"http://www.w3.org/2000/svg\" height=\"24px\"viewBox=\"0 0 24 24\"\n",
              "       width=\"24px\">\n",
              "    <path d=\"M0 0h24v24H0V0z\" fill=\"none\"/>\n",
              "    <path d=\"M18.56 5.44l.94 2.06.94-2.06 2.06-.94-2.06-.94-.94-2.06-.94 2.06-2.06.94zm-11 1L8.5 8.5l.94-2.06 2.06-.94-2.06-.94L8.5 2.5l-.94 2.06-2.06.94zm10 10l.94 2.06.94-2.06 2.06-.94-2.06-.94-.94-2.06-.94 2.06-2.06.94z\"/><path d=\"M17.41 7.96l-1.37-1.37c-.4-.4-.92-.59-1.43-.59-.52 0-1.04.2-1.43.59L10.3 9.45l-7.72 7.72c-.78.78-.78 2.05 0 2.83L4 21.41c.39.39.9.59 1.41.59.51 0 1.02-.2 1.41-.59l7.78-7.78 2.81-2.81c.8-.78.8-2.07 0-2.86zM5.41 20L4 18.59l7.72-7.72 1.47 1.35L5.41 20z\"/>\n",
              "  </svg>\n",
              "      </button>\n",
              "      \n",
              "  <style>\n",
              "    .colab-df-container {\n",
              "      display:flex;\n",
              "      flex-wrap:wrap;\n",
              "      gap: 12px;\n",
              "    }\n",
              "\n",
              "    .colab-df-convert {\n",
              "      background-color: #E8F0FE;\n",
              "      border: none;\n",
              "      border-radius: 50%;\n",
              "      cursor: pointer;\n",
              "      display: none;\n",
              "      fill: #1967D2;\n",
              "      height: 32px;\n",
              "      padding: 0 0 0 0;\n",
              "      width: 32px;\n",
              "    }\n",
              "\n",
              "    .colab-df-convert:hover {\n",
              "      background-color: #E2EBFA;\n",
              "      box-shadow: 0px 1px 2px rgba(60, 64, 67, 0.3), 0px 1px 3px 1px rgba(60, 64, 67, 0.15);\n",
              "      fill: #174EA6;\n",
              "    }\n",
              "\n",
              "    [theme=dark] .colab-df-convert {\n",
              "      background-color: #3B4455;\n",
              "      fill: #D2E3FC;\n",
              "    }\n",
              "\n",
              "    [theme=dark] .colab-df-convert:hover {\n",
              "      background-color: #434B5C;\n",
              "      box-shadow: 0px 1px 3px 1px rgba(0, 0, 0, 0.15);\n",
              "      filter: drop-shadow(0px 1px 2px rgba(0, 0, 0, 0.3));\n",
              "      fill: #FFFFFF;\n",
              "    }\n",
              "  </style>\n",
              "\n",
              "      <script>\n",
              "        const buttonEl =\n",
              "          document.querySelector('#df-c6ac646e-958c-463b-9a8e-ce826acbc09f button.colab-df-convert');\n",
              "        buttonEl.style.display =\n",
              "          google.colab.kernel.accessAllowed ? 'block' : 'none';\n",
              "\n",
              "        async function convertToInteractive(key) {\n",
              "          const element = document.querySelector('#df-c6ac646e-958c-463b-9a8e-ce826acbc09f');\n",
              "          const dataTable =\n",
              "            await google.colab.kernel.invokeFunction('convertToInteractive',\n",
              "                                                     [key], {});\n",
              "          if (!dataTable) return;\n",
              "\n",
              "          const docLinkHtml = 'Like what you see? Visit the ' +\n",
              "            '<a target=\"_blank\" href=https://colab.research.google.com/notebooks/data_table.ipynb>data table notebook</a>'\n",
              "            + ' to learn more about interactive tables.';\n",
              "          element.innerHTML = '';\n",
              "          dataTable['output_type'] = 'display_data';\n",
              "          await google.colab.output.renderOutput(dataTable, element);\n",
              "          const docLink = document.createElement('div');\n",
              "          docLink.innerHTML = docLinkHtml;\n",
              "          element.appendChild(docLink);\n",
              "        }\n",
              "      </script>\n",
              "    </div>\n",
              "  </div>\n",
              "  "
            ]
          },
          "metadata": {},
          "execution_count": 66
        }
      ]
    },
    {
      "cell_type": "markdown",
      "metadata": {
        "id": "ZfAbEIDgz4iY"
      },
      "source": [
        "## **Linear Support Vector Machine Classifier (Binary Classification) **\n",
        "to enable make the svm_enable = 1 in the above cell"
      ]
    },
    {
      "cell_type": "code",
      "execution_count": null,
      "metadata": {
        "id": "o8GdMBjdzFQT"
      },
      "outputs": [],
      "source": [
        "if svm_enable:\n",
        "  # using kernel as linear \n",
        "  lsvm = SVC(kernel='linear',gamma='auto') \n",
        "  lsvm.fit(X_train,y_train) # training model on training dataset"
      ]
    },
    {
      "cell_type": "code",
      "execution_count": null,
      "metadata": {
        "id": "NjfYZA_9zTNK",
        "colab": {
          "base_uri": "https://localhost:8080/"
        },
        "outputId": "786d45a1-bb7a-4fed-864a-302221664ab1"
      },
      "outputs": [
        {
          "output_type": "stream",
          "name": "stdout",
          "text": [
            "Saved model to disk\n",
            "Loaded model from disk\n"
          ]
        }
      ],
      "source": [
        "if svm_enable:\n",
        "  pkl_filename = \"/content/drive/MyDrive/Colab_Notebooks/Models/lsvm_binary\"+model_name_suffix+\".pkl\"\n",
        "  if (not path.isfile(pkl_filename)):\n",
        "    # saving the trained model to disk\n",
        "    with open(pkl_filename, 'wb') as file:\n",
        "      pickle.dump(lsvm, file)\n",
        "    print(\"Saved model to disk\")\n",
        "    # loading the trained model from disk\n",
        "    with open(pkl_filename, 'rb') as file:\n",
        "      lsvm = pickle.load(file)\n",
        "    print(\"Loaded model from disk\") "
      ]
    },
    {
      "cell_type": "code",
      "execution_count": null,
      "metadata": {
        "id": "xsnN51Juzgcf",
        "colab": {
          "base_uri": "https://localhost:8080/"
        },
        "outputId": "ce16e7b9-f193-45fc-a6ff-7b7c1d3c32e9"
      },
      "outputs": [
        {
          "output_type": "stream",
          "name": "stdout",
          "text": [
            "LSVM-Classifier Binary Set-Accuracy is  46.46222648139275\n"
          ]
        }
      ],
      "source": [
        "if svm_enable:\n",
        "  y_pred = lsvm.predict(X_test) # predicting target attribute on testing dataset\n",
        "  ac = accuracy_score(y_test, y_pred)*100 # calculating accuracy of predicted data\n",
        "  print(\"LSVM-Classifier Binary Set-Accuracy is \", ac)"
      ]
    },
    {
      "cell_type": "code",
      "execution_count": null,
      "metadata": {
        "id": "qg2gbJTg8NtL"
      },
      "outputs": [],
      "source": [
        "# import matplotlib.pyplot as plt\n",
        "# from sklearn.datasets import make_classification\n",
        "# from sklearn.metrics import confusion_matrix, ConfusionMatrixDisplay\n",
        "# from sklearn.model_selection import train_test_split\n",
        "# from sklearn.svm import SVC\n",
        "# X, y = make_classification(random_state=0)\n",
        "# X_train, X_test, y_train, y_test = train_test_split(X, y,\n",
        "#                                                     random_state=0)\n",
        "# cm = confusion_matrix(y_test, y_pred, labels=lsvm.classes_)\n",
        "# disp = ConfusionMatrixDisplay(confusion_matrix=cm,\n",
        "#                               display_labels=lsvm.classes_)\n",
        "# disp.plot()\n",
        "\n",
        "# plt.show()"
      ]
    },
    {
      "cell_type": "code",
      "execution_count": null,
      "metadata": {
        "id": "9IydNlzT5kx6",
        "colab": {
          "base_uri": "https://localhost:8080/",
          "height": 587
        },
        "outputId": "b1e1b12a-13c9-4499-bd1e-5cd6c27d7a2b"
      },
      "outputs": [
        {
          "output_type": "display_data",
          "data": {
            "text/plain": [
              "<Figure size 2000x800 with 1 Axes>"
            ],
            "image/png": "[encoded data removed]"
          },
          "metadata": {}
        }
      ],
      "source": [
        "if svm_enable:\n",
        "  plt.figure(figsize=(20,8))\n",
        "  plt.plot(y_pred[300:500], label=\"prediction\", linewidth=2.0,color='blue')\n",
        "  plt.plot(y_test[300:500].values, label=\"real_values\", linewidth=2.0,color='lightcoral')\n",
        "  plt.legend(loc=\"best\")\n",
        "  plt.ylim((-1,2))\n",
        "  plt.title(\"Linear SVM Binary Classification\")\n",
        "  plt.savefig('/content/drive/MyDrive/Colab_Notebooks/Plots/lsvm_real_pred_bin.png')\n",
        "  plt.show()"
      ]
    },
    {
      "cell_type": "code",
      "execution_count": null,
      "metadata": {
        "id": "s9lqoveaUBvg",
        "colab": {
          "base_uri": "https://localhost:8080/"
        },
        "outputId": "5adfc16a-5a39-4ef9-efc5-582046d68c73"
      },
      "outputs": [
        {
          "output_type": "stream",
          "name": "stdout",
          "text": [
            "              precision    recall  f1-score   support\n",
            "\n",
            "     class 0       1.00      0.01      0.02      3379\n",
            "     class 1       0.46      1.00      0.63      2882\n",
            "\n",
            "    accuracy                           0.46      6261\n",
            "   macro avg       0.73      0.50      0.32      6261\n",
            "weighted avg       0.75      0.46      0.30      6261\n",
            "\n",
            "False Positive Rate -  [0.99200947]\n",
            "False Negative Rate -  [0.]\n",
            "Thresholds -  [1.]\n"
          ]
        }
      ],
      "source": [
        "if svm_enable:\n",
        "  target_names = ['class 0', 'class 1']\n",
        "  print(classification_report(y_test, y_pred, target_names=target_names))\n",
        "  fpr, fnr, thresholds = det_curve(y_test, y_pred)\n",
        "  print(\"False Positive Rate - \", fpr)\n",
        "  print(\"False Negative Rate - \", fnr)\n",
        "  print(\"Thresholds - \", thresholds)"
      ]
    },
    {
      "cell_type": "code",
      "execution_count": null,
      "metadata": {
        "id": "kWxBZhnw9t5n",
        "colab": {
          "base_uri": "https://localhost:8080/",
          "height": 449
        },
        "outputId": "ca4a1744-b33b-471d-e46d-709c726ee5c4"
      },
      "outputs": [
        {
          "output_type": "display_data",
          "data": {
            "text/plain": [
              "<Figure size 640x480 with 2 Axes>"
            ],
            "image/png": "[encoded data removed]"
          },
          "metadata": {}
        }
      ],
      "source": [
        "if svm_enable:\n",
        "  from sklearn.metrics import confusion_matrix, ConfusionMatrixDisplay\n",
        "\n",
        "  clf = lsvm\n",
        "  cm = confusion_matrix(y_test, y_pred, labels=clf.classes_)\n",
        "  disp = ConfusionMatrixDisplay(confusion_matrix=cm,\n",
        "                                display_labels=clf.classes_)\n",
        "  disp.plot()\n",
        "\n",
        "  plt.show()"
      ]
    },
    {
      "cell_type": "markdown",
      "metadata": {
        "id": "PUjrwY2l0_RI"
      },
      "source": [
        "## **Multi Layer Perceptron Classifier (Binary Classification)**"
      ]
    },
    {
      "cell_type": "code",
      "execution_count": null,
      "metadata": {
        "id": "u9v5Ylpa1DHY"
      },
      "outputs": [],
      "source": [
        "if model_selection[model_flag]==\"ALL\" or model_selection[model_flag] == \"MLP\":\n",
        "  mlp = Sequential() # creating model\n",
        "\n",
        "  # adding input layer and first layer with 50 neurons\n",
        "  mlp.add(Dense(units=50, input_dim=X_train.shape[1], activation='relu'))\n",
        "  # output layer with sigmoid activation\n",
        "  mlp.add(Dense(units=1,activation='sigmoid'))"
      ]
    },
    {
      "cell_type": "code",
      "execution_count": null,
      "metadata": {
        "id": "E-9M9d0p1p8s"
      },
      "outputs": [],
      "source": [
        "if model_selection[model_flag]==\"ALL\" or model_selection[model_flag] == \"MLP\":\n",
        "  # defining loss function, optimizer, metrics and then compiling model\n",
        "  mlp.compile(loss='binary_crossentropy', optimizer='adam', metrics=['accuracy'])"
      ]
    },
    {
      "cell_type": "code",
      "execution_count": null,
      "metadata": {
        "id": "NK-1_akm1vO9",
        "colab": {
          "base_uri": "https://localhost:8080/"
        },
        "outputId": "b5867ea5-8f77-42e6-e49a-2060323f3f5c"
      },
      "outputs": [
        {
          "output_type": "stream",
          "name": "stdout",
          "text": [
            "Model: \"sequential_2\"\n",
            "_________________________________________________________________\n",
            " Layer (type)                Output Shape              Param #   \n",
            "=================================================================\n",
            " dense_3 (Dense)             (None, 50)                5900      \n",
            "                                                                 \n",
            " dense_4 (Dense)             (None, 1)                 51        \n",
            "                                                                 \n",
            "=================================================================\n",
            "Total params: 5,951\n",
            "Trainable params: 5,951\n",
            "Non-trainable params: 0\n",
            "_________________________________________________________________\n"
          ]
        }
      ],
      "source": [
        "if model_selection[model_flag]==\"ALL\" or model_selection[model_flag] == \"MLP\":\n",
        "  # summary of model layers\n",
        "  mlp.summary()"
      ]
    },
    {
      "cell_type": "code",
      "execution_count": null,
      "metadata": {
        "id": "UYZ4xCgp13gP",
        "colab": {
          "base_uri": "https://localhost:8080/"
        },
        "outputId": "9c171340-68a4-4c92-f9b9-9f05f38eef2f"
      },
      "outputs": [
        {
          "output_type": "stream",
          "name": "stdout",
          "text": [
            "Epoch 1/100\n",
            "4/4 [==============================] - 1s 88ms/step - loss: 0.9389 - accuracy: 0.4546 - val_loss: 0.7297 - val_accuracy: 0.4714\n",
            "Epoch 2/100\n",
            "4/4 [==============================] - 0s 26ms/step - loss: 0.7129 - accuracy: 0.4680 - val_loss: 0.6804 - val_accuracy: 0.5377\n",
            "Epoch 3/100\n",
            "4/4 [==============================] - 0s 25ms/step - loss: 0.6729 - accuracy: 0.5455 - val_loss: 0.6683 - val_accuracy: 0.5369\n",
            "Epoch 4/100\n",
            "4/4 [==============================] - 0s 26ms/step - loss: 0.6555 - accuracy: 0.5479 - val_loss: 0.6292 - val_accuracy: 0.5499\n",
            "Epoch 5/100\n",
            "4/4 [==============================] - 0s 22ms/step - loss: 0.6183 - accuracy: 0.7613 - val_loss: 0.6079 - val_accuracy: 0.7421\n",
            "Epoch 6/100\n",
            "4/4 [==============================] - 0s 30ms/step - loss: 0.6081 - accuracy: 0.6972 - val_loss: 0.5933 - val_accuracy: 0.7812\n",
            "Epoch 7/100\n",
            "4/4 [==============================] - 0s 23ms/step - loss: 0.5879 - accuracy: 0.8908 - val_loss: 0.5754 - val_accuracy: 0.9579\n",
            "Epoch 8/100\n",
            "4/4 [==============================] - 0s 24ms/step - loss: 0.5711 - accuracy: 0.7894 - val_loss: 0.5684 - val_accuracy: 0.5683\n",
            "Epoch 9/100\n",
            "4/4 [==============================] - 0s 23ms/step - loss: 0.5611 - accuracy: 0.6043 - val_loss: 0.5506 - val_accuracy: 0.9393\n",
            "Epoch 10/100\n",
            "4/4 [==============================] - 0s 27ms/step - loss: 0.5439 - accuracy: 0.9692 - val_loss: 0.5348 - val_accuracy: 0.9992\n",
            "Epoch 11/100\n",
            "4/4 [==============================] - 0s 19ms/step - loss: 0.5305 - accuracy: 0.9996 - val_loss: 0.5222 - val_accuracy: 0.9997\n",
            "Epoch 12/100\n",
            "4/4 [==============================] - 0s 20ms/step - loss: 0.5196 - accuracy: 0.9977 - val_loss: 0.5107 - val_accuracy: 0.9995\n",
            "Epoch 13/100\n",
            "4/4 [==============================] - 0s 21ms/step - loss: 0.5065 - accuracy: 0.9991 - val_loss: 0.4986 - val_accuracy: 0.9992\n",
            "Epoch 14/100\n",
            "4/4 [==============================] - 0s 23ms/step - loss: 0.4948 - accuracy: 0.9943 - val_loss: 0.4938 - val_accuracy: 0.9478\n",
            "Epoch 15/100\n",
            "4/4 [==============================] - 0s 22ms/step - loss: 0.4887 - accuracy: 0.9378 - val_loss: 0.4768 - val_accuracy: 0.9979\n",
            "Epoch 16/100\n",
            "4/4 [==============================] - 0s 27ms/step - loss: 0.4705 - accuracy: 0.9993 - val_loss: 0.4635 - val_accuracy: 0.9989\n",
            "Epoch 17/100\n",
            "4/4 [==============================] - 0s 25ms/step - loss: 0.4605 - accuracy: 0.9981 - val_loss: 0.4508 - val_accuracy: 0.9997\n",
            "Epoch 18/100\n",
            "4/4 [==============================] - 0s 25ms/step - loss: 0.4482 - accuracy: 0.9996 - val_loss: 0.4416 - val_accuracy: 0.9995\n",
            "Epoch 19/100\n",
            "4/4 [==============================] - 0s 25ms/step - loss: 0.4357 - accuracy: 0.9999 - val_loss: 0.4324 - val_accuracy: 0.9960\n",
            "Epoch 20/100\n",
            "4/4 [==============================] - 0s 25ms/step - loss: 0.4324 - accuracy: 0.9925 - val_loss: 0.4170 - val_accuracy: 1.0000\n",
            "Epoch 21/100\n",
            "4/4 [==============================] - 0s 20ms/step - loss: 0.4144 - accuracy: 0.9993 - val_loss: 0.4126 - val_accuracy: 0.9973\n",
            "Epoch 22/100\n",
            "4/4 [==============================] - 0s 25ms/step - loss: 0.4049 - accuracy: 0.9997 - val_loss: 0.3967 - val_accuracy: 0.9979\n",
            "Epoch 23/100\n",
            "4/4 [==============================] - 0s 25ms/step - loss: 0.3998 - accuracy: 0.9935 - val_loss: 0.3854 - val_accuracy: 0.9984\n",
            "Epoch 24/100\n",
            "4/4 [==============================] - 0s 40ms/step - loss: 0.3824 - accuracy: 0.9992 - val_loss: 0.3857 - val_accuracy: 0.9947\n",
            "Epoch 25/100\n",
            "4/4 [==============================] - 0s 26ms/step - loss: 0.3769 - accuracy: 0.9991 - val_loss: 0.3627 - val_accuracy: 1.0000\n",
            "Epoch 26/100\n",
            "4/4 [==============================] - 0s 27ms/step - loss: 0.3598 - accuracy: 0.9997 - val_loss: 0.3514 - val_accuracy: 0.9995\n",
            "Epoch 27/100\n",
            "4/4 [==============================] - 0s 22ms/step - loss: 0.3462 - accuracy: 0.9989 - val_loss: 0.3269 - val_accuracy: 1.0000\n",
            "Epoch 28/100\n",
            "4/4 [==============================] - 0s 28ms/step - loss: 0.3246 - accuracy: 1.0000 - val_loss: 0.3187 - val_accuracy: 1.0000\n",
            "Epoch 29/100\n",
            "4/4 [==============================] - 0s 23ms/step - loss: 0.3144 - accuracy: 1.0000 - val_loss: 0.3076 - val_accuracy: 1.0000\n",
            "Epoch 30/100\n",
            "4/4 [==============================] - 0s 17ms/step - loss: 0.3051 - accuracy: 1.0000 - val_loss: 0.2968 - val_accuracy: 1.0000\n",
            "Epoch 31/100\n",
            "4/4 [==============================] - 0s 20ms/step - loss: 0.2947 - accuracy: 0.9993 - val_loss: 0.2888 - val_accuracy: 0.9987\n",
            "Epoch 32/100\n",
            "4/4 [==============================] - 0s 15ms/step - loss: 0.2856 - accuracy: 0.9989 - val_loss: 0.2776 - val_accuracy: 1.0000\n",
            "Epoch 33/100\n",
            "4/4 [==============================] - 0s 16ms/step - loss: 0.2731 - accuracy: 1.0000 - val_loss: 0.2639 - val_accuracy: 1.0000\n",
            "Epoch 34/100\n",
            "4/4 [==============================] - 0s 15ms/step - loss: 0.2629 - accuracy: 0.9993 - val_loss: 0.2579 - val_accuracy: 0.9984\n",
            "Epoch 35/100\n",
            "4/4 [==============================] - 0s 20ms/step - loss: 0.2554 - accuracy: 0.9982 - val_loss: 0.2471 - val_accuracy: 1.0000\n",
            "Epoch 36/100\n",
            "4/4 [==============================] - 0s 16ms/step - loss: 0.2457 - accuracy: 1.0000 - val_loss: 0.2396 - val_accuracy: 1.0000\n",
            "Epoch 37/100\n",
            "4/4 [==============================] - 0s 15ms/step - loss: 0.2363 - accuracy: 1.0000 - val_loss: 0.2297 - val_accuracy: 1.0000\n",
            "Epoch 38/100\n",
            "4/4 [==============================] - 0s 16ms/step - loss: 0.2278 - accuracy: 1.0000 - val_loss: 0.2217 - val_accuracy: 1.0000\n",
            "Epoch 39/100\n",
            "4/4 [==============================] - 0s 15ms/step - loss: 0.2208 - accuracy: 0.9993 - val_loss: 0.2142 - val_accuracy: 1.0000\n",
            "Epoch 40/100\n",
            "4/4 [==============================] - 0s 24ms/step - loss: 0.2127 - accuracy: 1.0000 - val_loss: 0.2079 - val_accuracy: 1.0000\n",
            "Epoch 41/100\n",
            "4/4 [==============================] - 0s 20ms/step - loss: 0.2055 - accuracy: 0.9999 - val_loss: 0.1997 - val_accuracy: 1.0000\n",
            "Epoch 42/100\n",
            "4/4 [==============================] - 0s 22ms/step - loss: 0.1981 - accuracy: 1.0000 - val_loss: 0.1923 - val_accuracy: 1.0000\n",
            "Epoch 43/100\n",
            "4/4 [==============================] - 0s 15ms/step - loss: 0.1922 - accuracy: 0.9994 - val_loss: 0.1867 - val_accuracy: 0.9997\n",
            "Epoch 44/100\n",
            "4/4 [==============================] - 0s 15ms/step - loss: 0.1849 - accuracy: 0.9998 - val_loss: 0.1822 - val_accuracy: 1.0000\n",
            "Epoch 45/100\n",
            "4/4 [==============================] - 0s 15ms/step - loss: 0.1802 - accuracy: 1.0000 - val_loss: 0.1737 - val_accuracy: 1.0000\n",
            "Epoch 46/100\n",
            "4/4 [==============================] - 0s 15ms/step - loss: 0.1740 - accuracy: 0.9993 - val_loss: 0.1680 - val_accuracy: 1.0000\n",
            "Epoch 47/100\n",
            "4/4 [==============================] - 0s 16ms/step - loss: 0.1673 - accuracy: 0.9999 - val_loss: 0.1644 - val_accuracy: 1.0000\n",
            "Epoch 48/100\n",
            "4/4 [==============================] - 0s 21ms/step - loss: 0.1619 - accuracy: 1.0000 - val_loss: 0.1593 - val_accuracy: 0.9992\n",
            "Epoch 49/100\n",
            "4/4 [==============================] - 0s 17ms/step - loss: 0.1611 - accuracy: 0.9978 - val_loss: 0.1524 - val_accuracy: 1.0000\n",
            "Epoch 50/100\n",
            "4/4 [==============================] - 0s 15ms/step - loss: 0.1513 - accuracy: 0.9999 - val_loss: 0.1509 - val_accuracy: 1.0000\n",
            "Epoch 51/100\n",
            "4/4 [==============================] - 0s 14ms/step - loss: 0.1483 - accuracy: 1.0000 - val_loss: 0.1419 - val_accuracy: 1.0000\n",
            "Epoch 52/100\n",
            "4/4 [==============================] - 0s 15ms/step - loss: 0.1411 - accuracy: 0.9999 - val_loss: 0.1375 - val_accuracy: 1.0000\n",
            "Epoch 53/100\n",
            "4/4 [==============================] - 0s 14ms/step - loss: 0.1370 - accuracy: 0.9999 - val_loss: 0.1339 - val_accuracy: 1.0000\n",
            "Epoch 54/100\n",
            "4/4 [==============================] - 0s 21ms/step - loss: 0.1337 - accuracy: 0.9995 - val_loss: 0.1289 - val_accuracy: 1.0000\n",
            "Epoch 55/100\n",
            "4/4 [==============================] - 0s 21ms/step - loss: 0.1284 - accuracy: 0.9999 - val_loss: 0.1248 - val_accuracy: 1.0000\n",
            "Epoch 56/100\n",
            "4/4 [==============================] - 0s 14ms/step - loss: 0.1252 - accuracy: 0.9995 - val_loss: 0.1276 - val_accuracy: 0.9987\n",
            "Epoch 57/100\n",
            "4/4 [==============================] - 0s 16ms/step - loss: 0.1276 - accuracy: 0.9979 - val_loss: 0.1175 - val_accuracy: 1.0000\n",
            "Epoch 58/100\n",
            "4/4 [==============================] - 0s 14ms/step - loss: 0.1171 - accuracy: 0.9999 - val_loss: 0.1144 - val_accuracy: 1.0000\n",
            "Epoch 59/100\n",
            "4/4 [==============================] - 0s 15ms/step - loss: 0.1135 - accuracy: 0.9999 - val_loss: 0.1107 - val_accuracy: 1.0000\n",
            "Epoch 60/100\n",
            "4/4 [==============================] - 0s 14ms/step - loss: 0.1101 - accuracy: 0.9999 - val_loss: 0.1070 - val_accuracy: 1.0000\n",
            "Epoch 61/100\n",
            "4/4 [==============================] - 0s 20ms/step - loss: 0.1071 - accuracy: 0.9998 - val_loss: 0.1038 - val_accuracy: 1.0000\n",
            "Epoch 62/100\n",
            "4/4 [==============================] - 0s 15ms/step - loss: 0.1037 - accuracy: 0.9999 - val_loss: 0.1015 - val_accuracy: 1.0000\n",
            "Epoch 63/100\n",
            "4/4 [==============================] - 0s 15ms/step - loss: 0.1007 - accuracy: 0.9999 - val_loss: 0.0977 - val_accuracy: 1.0000\n",
            "Epoch 64/100\n",
            "4/4 [==============================] - 0s 20ms/step - loss: 0.0975 - accuracy: 0.9999 - val_loss: 0.0955 - val_accuracy: 1.0000\n",
            "Epoch 65/100\n",
            "4/4 [==============================] - 0s 15ms/step - loss: 0.0953 - accuracy: 0.9999 - val_loss: 0.0922 - val_accuracy: 1.0000\n",
            "Epoch 66/100\n",
            "4/4 [==============================] - 0s 16ms/step - loss: 0.0927 - accuracy: 0.9997 - val_loss: 0.0904 - val_accuracy: 1.0000\n",
            "Epoch 67/100\n",
            "4/4 [==============================] - 0s 15ms/step - loss: 0.0900 - accuracy: 0.9999 - val_loss: 0.0874 - val_accuracy: 1.0000\n",
            "Epoch 68/100\n",
            "4/4 [==============================] - 0s 14ms/step - loss: 0.0872 - accuracy: 0.9999 - val_loss: 0.0848 - val_accuracy: 1.0000\n",
            "Epoch 69/100\n",
            "4/4 [==============================] - 0s 16ms/step - loss: 0.0849 - accuracy: 0.9999 - val_loss: 0.0825 - val_accuracy: 1.0000\n",
            "Epoch 70/100\n",
            "4/4 [==============================] - 0s 14ms/step - loss: 0.0825 - accuracy: 0.9999 - val_loss: 0.0803 - val_accuracy: 1.0000\n",
            "Epoch 71/100\n",
            "4/4 [==============================] - 0s 20ms/step - loss: 0.0804 - accuracy: 0.9999 - val_loss: 0.0781 - val_accuracy: 1.0000\n",
            "Epoch 72/100\n",
            "4/4 [==============================] - 0s 20ms/step - loss: 0.0784 - accuracy: 0.9999 - val_loss: 0.0769 - val_accuracy: 1.0000\n",
            "Epoch 73/100\n",
            "4/4 [==============================] - 0s 16ms/step - loss: 0.0765 - accuracy: 0.9999 - val_loss: 0.0741 - val_accuracy: 1.0000\n",
            "Epoch 74/100\n",
            "4/4 [==============================] - 0s 15ms/step - loss: 0.0742 - accuracy: 0.9999 - val_loss: 0.0722 - val_accuracy: 1.0000\n",
            "Epoch 75/100\n",
            "4/4 [==============================] - 0s 20ms/step - loss: 0.0724 - accuracy: 0.9999 - val_loss: 0.0705 - val_accuracy: 1.0000\n",
            "Epoch 76/100\n",
            "4/4 [==============================] - 0s 14ms/step - loss: 0.0705 - accuracy: 0.9999 - val_loss: 0.0691 - val_accuracy: 1.0000\n",
            "Epoch 77/100\n",
            "4/4 [==============================] - 0s 17ms/step - loss: 0.0695 - accuracy: 0.9999 - val_loss: 0.0668 - val_accuracy: 1.0000\n",
            "Epoch 78/100\n",
            "4/4 [==============================] - 0s 15ms/step - loss: 0.0672 - accuracy: 0.9999 - val_loss: 0.0654 - val_accuracy: 1.0000\n",
            "Epoch 79/100\n",
            "4/4 [==============================] - 0s 17ms/step - loss: 0.0654 - accuracy: 0.9999 - val_loss: 0.0647 - val_accuracy: 0.9997\n",
            "Epoch 80/100\n",
            "4/4 [==============================] - 0s 15ms/step - loss: 0.0653 - accuracy: 0.9997 - val_loss: 0.0631 - val_accuracy: 0.9997\n",
            "Epoch 81/100\n",
            "4/4 [==============================] - 0s 17ms/step - loss: 0.0634 - accuracy: 0.9998 - val_loss: 0.0605 - val_accuracy: 1.0000\n",
            "Epoch 82/100\n",
            "4/4 [==============================] - 0s 20ms/step - loss: 0.0610 - accuracy: 0.9999 - val_loss: 0.0596 - val_accuracy: 1.0000\n",
            "Epoch 83/100\n",
            "4/4 [==============================] - 0s 14ms/step - loss: 0.0595 - accuracy: 0.9999 - val_loss: 0.0578 - val_accuracy: 1.0000\n",
            "Epoch 84/100\n",
            "4/4 [==============================] - 0s 14ms/step - loss: 0.0581 - accuracy: 0.9999 - val_loss: 0.0568 - val_accuracy: 1.0000\n",
            "Epoch 85/100\n",
            "4/4 [==============================] - 0s 16ms/step - loss: 0.0575 - accuracy: 0.9999 - val_loss: 0.0563 - val_accuracy: 1.0000\n",
            "Epoch 86/100\n",
            "4/4 [==============================] - 0s 14ms/step - loss: 0.0559 - accuracy: 0.9999 - val_loss: 0.0538 - val_accuracy: 1.0000\n",
            "Epoch 87/100\n",
            "4/4 [==============================] - 0s 19ms/step - loss: 0.0541 - accuracy: 0.9999 - val_loss: 0.0528 - val_accuracy: 1.0000\n",
            "Epoch 88/100\n",
            "4/4 [==============================] - 0s 14ms/step - loss: 0.0530 - accuracy: 0.9999 - val_loss: 0.0515 - val_accuracy: 1.0000\n",
            "Epoch 89/100\n",
            "4/4 [==============================] - 0s 14ms/step - loss: 0.0517 - accuracy: 0.9999 - val_loss: 0.0508 - val_accuracy: 1.0000\n",
            "Epoch 90/100\n",
            "4/4 [==============================] - 0s 15ms/step - loss: 0.0511 - accuracy: 0.9999 - val_loss: 0.0493 - val_accuracy: 1.0000\n",
            "Epoch 91/100\n",
            "4/4 [==============================] - 0s 16ms/step - loss: 0.0496 - accuracy: 0.9999 - val_loss: 0.0487 - val_accuracy: 1.0000\n",
            "Epoch 92/100\n",
            "4/4 [==============================] - 0s 14ms/step - loss: 0.0490 - accuracy: 0.9999 - val_loss: 0.0471 - val_accuracy: 1.0000\n",
            "Epoch 93/100\n",
            "4/4 [==============================] - 0s 14ms/step - loss: 0.0474 - accuracy: 0.9999 - val_loss: 0.0462 - val_accuracy: 1.0000\n",
            "Epoch 94/100\n",
            "4/4 [==============================] - 0s 17ms/step - loss: 0.0464 - accuracy: 0.9999 - val_loss: 0.0451 - val_accuracy: 1.0000\n",
            "Epoch 95/100\n",
            "4/4 [==============================] - 0s 20ms/step - loss: 0.0455 - accuracy: 0.9999 - val_loss: 0.0442 - val_accuracy: 1.0000\n",
            "Epoch 96/100\n",
            "4/4 [==============================] - 0s 16ms/step - loss: 0.0445 - accuracy: 0.9999 - val_loss: 0.0434 - val_accuracy: 1.0000\n",
            "Epoch 97/100\n",
            "4/4 [==============================] - 0s 22ms/step - loss: 0.0439 - accuracy: 0.9999 - val_loss: 0.0435 - val_accuracy: 1.0000\n",
            "Epoch 98/100\n",
            "4/4 [==============================] - 0s 14ms/step - loss: 0.0436 - accuracy: 0.9999 - val_loss: 0.0415 - val_accuracy: 1.0000\n",
            "Epoch 99/100\n",
            "4/4 [==============================] - 0s 16ms/step - loss: 0.0423 - accuracy: 0.9999 - val_loss: 0.0409 - val_accuracy: 1.0000\n",
            "Epoch 100/100\n",
            "4/4 [==============================] - 0s 13ms/step - loss: 0.0411 - accuracy: 0.9999 - val_loss: 0.0410 - val_accuracy: 1.0000\n"
          ]
        }
      ],
      "source": [
        "if model_selection[model_flag]==\"ALL\" or model_selection[model_flag] == \"MLP\":\n",
        "  # training the model on training dataset\n",
        "  history = mlp.fit(X_train, y_train, epochs=100, batch_size=5000,validation_split=0.2)"
      ]
    },
    {
      "cell_type": "code",
      "execution_count": null,
      "metadata": {
        "id": "_n_gNs3p1_M-",
        "colab": {
          "base_uri": "https://localhost:8080/"
        },
        "outputId": "e3da4db5-2999-4e45-c2e9-f6f3b1f495bf"
      },
      "outputs": [
        {
          "output_type": "stream",
          "name": "stdout",
          "text": [
            "Saved model to disk\n",
            "Loaded model from disk\n"
          ]
        }
      ],
      "source": [
        "if model_selection[model_flag]==\"ALL\" or model_selection[model_flag] == \"MLP\":\n",
        "  filepath = '/content/drive/MyDrive/Colab_Notebooks/Models/mlp_binary'+model_name_suffix+'.json'\n",
        "  weightspath = '/content/drive/MyDrive/Colab_Notebooks/Weights/mlp_binary'+model_name_suffix+'.h5'\n",
        "  if (not path.isfile(filepath)):\n",
        "    # serialize model to JSON\n",
        "    mlp_json = mlp.to_json()\n",
        "    with open(filepath, \"w\") as json_file:\n",
        "      json_file.write(mlp_json)\n",
        "\n",
        "    # serialize weights to HDF5\n",
        "    mlp.save_weights(weightspath)\n",
        "    print(\"Saved model to disk\")\n",
        "\n",
        "    # load json and create model\n",
        "    json_file = open(filepath, 'r')\n",
        "    loaded_model_json = json_file.read()\n",
        "    json_file.close()\n",
        "    mlp = model_from_json(loaded_model_json)\n",
        "\n",
        "    # load weights into new model\n",
        "    mlp.load_weights(weightspath)\n",
        "    print(\"Loaded model from disk\")"
      ]
    },
    {
      "cell_type": "code",
      "execution_count": null,
      "metadata": {
        "id": "G99OrVcT2JON"
      },
      "outputs": [],
      "source": [
        "if model_selection[model_flag]==\"ALL\" or model_selection[model_flag] == \"MLP\":\n",
        "  # defining loss function, optimizer, metrics and then compiling model\n",
        "  mlp.compile(loss='binary_crossentropy', optimizer='adam', metrics=['accuracy'])"
      ]
    },
    {
      "cell_type": "code",
      "execution_count": null,
      "metadata": {
        "id": "AXUA0T2N2OIB",
        "colab": {
          "base_uri": "https://localhost:8080/"
        },
        "outputId": "bc1f0b4d-21b4-4f2d-e6f8-c7ce6d384406"
      },
      "outputs": [
        {
          "output_type": "stream",
          "name": "stdout",
          "text": [
            "196/196 [==============================] - 1s 2ms/step - loss: 3218428.5000 - accuracy: 0.4621\n",
            "Test results - Loss: 3218428.5 - Accuracy: 46.206676959991455\n"
          ]
        }
      ],
      "source": [
        "if model_selection[model_flag]==\"ALL\" or model_selection[model_flag] == \"MLP\":\n",
        "  # predicting target attribute on testing dataset\n",
        "  test_results = mlp.evaluate(X_test, y_test, verbose=1)\n",
        "  print(f'Test results - Loss: {test_results[0]} - Accuracy: {test_results[1]*100}')"
      ]
    },
    {
      "cell_type": "code",
      "execution_count": null,
      "metadata": {
        "id": "StFTrhE65_-q",
        "colab": {
          "base_uri": "https://localhost:8080/",
          "height": 472
        },
        "outputId": "e0696a29-e506-4bf5-ed1c-286cc19d166d"
      },
      "outputs": [
        {
          "output_type": "display_data",
          "data": {
            "text/plain": [
              "<Figure size 640x480 with 1 Axes>"
            ],
            "image/png": "[encoded data removed]"
          },
          "metadata": {}
        }
      ],
      "source": [
        "if model_selection[model_flag]==\"ALL\" or model_selection[model_flag] == \"MLP\":  \n",
        "  # Plot of accuracy vs epoch of train and test dataset\n",
        "  plt.plot(history.history['accuracy'])\n",
        "  plt.plot(history.history['val_accuracy'])\n",
        "  plt.title(\"Plot of accuracy vs epoch for train and test dataset\")\n",
        "  plt.ylabel('accuracy')\n",
        "  plt.xlabel('epoch')\n",
        "  plt.legend(['train', 'test'], loc='best')\n",
        "  plt.savefig('/content/drive/MyDrive/Colab_Notebooks/Plots/mlp_binary_accuracy.png')\n",
        "  plt.show()"
      ]
    },
    {
      "cell_type": "code",
      "execution_count": null,
      "metadata": {
        "id": "rZes4PzY6JUq",
        "colab": {
          "base_uri": "https://localhost:8080/",
          "height": 472
        },
        "outputId": "90017090-1eb8-4b08-933a-2852f743f586"
      },
      "outputs": [
        {
          "output_type": "display_data",
          "data": {
            "text/plain": [
              "<Figure size 640x480 with 1 Axes>"
            ],
            "image/png": "[encoded data removed]"
          },
          "metadata": {}
        }
      ],
      "source": [
        "if model_selection[model_flag]==\"ALL\" or model_selection[model_flag] == \"MLP\":\n",
        "  # Plot of loss vs epoch of train and test dataset\n",
        "  plt.plot(history.history['loss'])\n",
        "  plt.plot(history.history['val_loss'])\n",
        "  plt.title('Plot of loss vs epoch for train and test dataset')\n",
        "  plt.ylabel('loss')\n",
        "  plt.xlabel('epoch')\n",
        "  plt.legend(['train', 'test'], loc='best')\n",
        "  plt.savefig('/content/drive/MyDrive/Colab_Notebooks/Plots/mlp_binary_loss.png')\n",
        "  plt.show()"
      ]
    },
    {
      "cell_type": "code",
      "execution_count": null,
      "metadata": {
        "id": "mC0nj-on6iRU"
      },
      "outputs": [],
      "source": [
        "if model_selection[model_flag]==\"ALL\" or model_selection[model_flag] == \"MLP\":\n",
        "  # representation of model layers\n",
        "  from keras.utils.vis_utils import plot_model\n",
        "  plot_model(mlp, to_file='/content/drive/MyDrive/Colab_Notebooks/Plots/mlp_binary.png', show_shapes=True,)"
      ]
    },
    {
      "cell_type": "code",
      "execution_count": null,
      "metadata": {
        "id": "oxHdln0c6Xi_",
        "colab": {
          "base_uri": "https://localhost:8080/"
        },
        "outputId": "1cb1d34b-842f-44f6-e00e-3334e42c19d1"
      },
      "outputs": [
        {
          "output_type": "stream",
          "name": "stdout",
          "text": [
            "196/196 [==============================] - 0s 2ms/step\n"
          ]
        }
      ],
      "source": [
        "if model_selection[model_flag]==\"ALL\" or model_selection[model_flag] == \"MLP\":\n",
        "  y_pred = mlp.predict(X_test).ravel()\n",
        "  fpr, tpr, thresholds = roc_curve(y_test, y_pred)\n",
        "  auc = auc(fpr, tpr)"
      ]
    },
    {
      "cell_type": "code",
      "execution_count": null,
      "metadata": {
        "id": "Cr36q9Z-6aRU",
        "colab": {
          "base_uri": "https://localhost:8080/",
          "height": 472
        },
        "outputId": "aac5168e-3a63-477c-855b-235752f6e38b"
      },
      "outputs": [
        {
          "output_type": "display_data",
          "data": {
            "text/plain": [
              "<Figure size 640x480 with 1 Axes>"
            ],
            "image/png": "[encoded data removed]"
          },
          "metadata": {}
        }
      ],
      "source": [
        "if model_selection[model_flag]==\"ALL\" or model_selection[model_flag] == \"MLP\":\n",
        "  plt.plot([0, 1], [0, 1], 'k--')\n",
        "  plt.plot(fpr, tpr, label='Keras (area = {:.3f})'.format(auc))\n",
        "  plt.xlabel('False positive rate')\n",
        "  plt.ylabel('True positive rate')\n",
        "  plt.title('ROC curve')\n",
        "  plt.legend(loc='best')\n",
        "  plt.savefig('/content/drive/MyDrive/Colab_Notebooks/Plots/mlp_binary_roc.png')\n",
        "  plt.show()"
      ]
    },
    {
      "cell_type": "code",
      "execution_count": null,
      "metadata": {
        "id": "U9f2bWPwFljk"
      },
      "outputs": [],
      "source": [
        "# real_data_kdd = bin_data.copy()\n",
        "\n",
        "# # Names of the columns that are discrete\n",
        "# cat_cols = real_data_kdd.select_dtypes(['object']).columns\n",
        "# # cat_cols\n",
        "# test_data = real_data_kdd.iloc[:999]\n",
        "\n",
        "# corr= test_data.corr()\n",
        "# corr_y = abs(corr['label'])\n",
        "# highest_corr = corr_y\n",
        "# highest_corr.sort_values(ascending=True)"
      ]
    },
    {
      "cell_type": "code",
      "execution_count": null,
      "metadata": {
        "id": "8-clVdUoUPa-",
        "colab": {
          "base_uri": "https://localhost:8080/"
        },
        "outputId": "3e3a94d0-4291-40f1-e857-a00077883e80"
      },
      "outputs": [
        {
          "output_type": "stream",
          "name": "stdout",
          "text": [
            "196/196 [==============================] - 0s 1ms/step\n"
          ]
        }
      ],
      "source": [
        "if model_selection[model_flag]==\"ALL\" or model_selection[model_flag] == \"MLP\":\n",
        "  y_classes = (mlp.predict(X_test)>0.5).astype('int32')"
      ]
    },
    {
      "cell_type": "code",
      "execution_count": null,
      "metadata": {
        "id": "0jcFqEqFT-uq",
        "colab": {
          "base_uri": "https://localhost:8080/"
        },
        "outputId": "b4d5132c-26c3-41ed-a395-73409da9eace"
      },
      "outputs": [
        {
          "output_type": "stream",
          "name": "stdout",
          "text": [
            "Recall Score -  1.0\n",
            "F1 Score -  0.6311870346035917\n",
            "Precision Score -  0.46112\n",
            "False Positive Rate -  [0.9967446]\n",
            "False Negative Rate -  [0.]\n",
            "Thresholds -  [1]\n"
          ]
        }
      ],
      "source": [
        "if model_selection[model_flag]==\"ALL\" or model_selection[model_flag] == \"MLP\":\n",
        "  print(\"Recall Score - \",recall_score(y_test,y_classes))\n",
        "  print(\"F1 Score - \",f1_score(y_test,y_classes))\n",
        "  print(\"Precision Score - \",precision_score(y_test,y_classes))\n",
        "  fpr, fnr, thresholds = det_curve(y_test, y_classes)\n",
        "  print(\"False Positive Rate - \", fpr)\n",
        "  print(\"False Negative Rate - \", fnr)\n",
        "  print(\"Thresholds - \", thresholds)"
      ]
    },
    {
      "cell_type": "code",
      "source": [
        "print(classification_report(y_test, y_classes, target_names=['0', '1']))\n",
        "cm = confusion_matrix(y_test, y_classes)\n",
        "disp = ConfusionMatrixDisplay(confusion_matrix=cm,\n",
        "                              display_labels=['0', '1'])\n",
        "disp.plot()\n",
        "\n",
        "plt.show()"
      ],
      "metadata": {
        "id": "3HJB6IXJsxjg",
        "colab": {
          "base_uri": "https://localhost:8080/",
          "height": 610
        },
        "outputId": "084da377-db0b-444d-f90d-7e478c94d7d5"
      },
      "execution_count": null,
      "outputs": [
        {
          "output_type": "stream",
          "name": "stdout",
          "text": [
            "              precision    recall  f1-score   support\n",
            "\n",
            "           0       1.00      0.00      0.01      3379\n",
            "           1       0.46      1.00      0.63      2882\n",
            "\n",
            "    accuracy                           0.46      6261\n",
            "   macro avg       0.73      0.50      0.32      6261\n",
            "weighted avg       0.75      0.46      0.29      6261\n",
            "\n"
          ]
        },
        {
          "output_type": "display_data",
          "data": {
            "text/plain": [
              "<Figure size 640x480 with 2 Axes>"
            ],
            "image/png": "[encoded data removed]"
          },
          "metadata": {}
        }
      ]
    },
    {
      "cell_type": "markdown",
      "source": [
        "# **Correlation** Matrix of Features"
      ],
      "metadata": {
        "id": "j7BKdCwqs2RE"
      }
    },
    {
      "cell_type": "code",
      "execution_count": null,
      "metadata": {
        "id": "TL8zt-tHLt90",
        "colab": {
          "base_uri": "https://localhost:8080/"
        },
        "outputId": "5ee630aa-7976-458f-9586-4188a5b13bd7"
      },
      "outputs": [
        {
          "output_type": "execute_result",
          "data": {
            "text/plain": [
              "X65           0.347362\n",
              "X57           0.379976\n",
              "X109          0.444706\n",
              "X64           0.539653\n",
              "Unnamed: 0    0.828391\n",
              "label         1.000000\n",
              "Name: label, dtype: float64"
            ]
          },
          "metadata": {},
          "execution_count": 90
        }
      ],
      "source": [
        "corr= bin_data.corr()\n",
        "corr_y = abs(corr['label'])\n",
        "highest_corr = corr_y[corr_y >0.3]\n",
        "highest_corr.sort_values(ascending=True)"
      ]
    },
    {
      "cell_type": "code",
      "source": [
        "plt.matshow(corr)\n",
        "plt.show()"
      ],
      "metadata": {
        "colab": {
          "base_uri": "https://localhost:8080/",
          "height": 437
        },
        "id": "q4b094WVtQQ7",
        "outputId": "971e8fb2-289d-412d-e0fd-515bf297982c"
      },
      "execution_count": null,
      "outputs": [
        {
          "output_type": "display_data",
          "data": {
            "text/plain": [
              "<Figure size 480x480 with 1 Axes>"
            ],
            "image/png": "[encoded data removed]"
          },
          "metadata": {}
        }
      ]
    },
    {
      "cell_type": "markdown",
      "metadata": {
        "id": "ZHhtNjFLPj6Y"
      },
      "source": [
        "## **LSTM Classifier**"
      ]
    },
    {
      "cell_type": "code",
      "execution_count": null,
      "metadata": {
        "id": "DTNPkQMNL5Eh",
        "colab": {
          "base_uri": "https://localhost:8080/"
        },
        "outputId": "95ba5819-d8cd-4658-d7f1-81baccb7506b"
      },
      "outputs": [
        {
          "output_type": "execute_result",
          "data": {
            "text/plain": [
              "(18782, 117)"
            ]
          },
          "metadata": {},
          "execution_count": 92
        }
      ],
      "source": [
        "X_train = np.array(X_train)\n",
        "X_test = np.array(X_test)\n",
        "# y_train.shape   #(18896,)\n",
        "X_train.shape"
      ]
    },
    {
      "cell_type": "code",
      "execution_count": null,
      "metadata": {
        "id": "9n-QlBDXPMl4",
        "colab": {
          "base_uri": "https://localhost:8080/"
        },
        "outputId": "2d8de3e4-6aec-4248-8662-32ed2be2bd6b"
      },
      "outputs": [
        {
          "output_type": "execute_result",
          "data": {
            "text/plain": [
              "numpy.ndarray"
            ]
          },
          "metadata": {},
          "execution_count": 93
        }
      ],
      "source": [
        "y_train = np.array(y_train)\n",
        "type(y_train)"
      ]
    },
    {
      "cell_type": "code",
      "execution_count": null,
      "metadata": {
        "id": "-8Ro_ZRQPdZz",
        "colab": {
          "base_uri": "https://localhost:8080/"
        },
        "outputId": "a4de6647-58e5-4c43-9b4d-6767bc8fc311"
      },
      "outputs": [
        {
          "output_type": "execute_result",
          "data": {
            "text/plain": [
              "(18782, 1, 117)"
            ]
          },
          "metadata": {},
          "execution_count": 94
        }
      ],
      "source": [
        "x_train = np.reshape(X_train, (X_train.shape[0],1,X_train.shape[1]))\n",
        "x_train.shape"
      ]
    },
    {
      "cell_type": "code",
      "source": [
        "x_train.shape[2]"
      ],
      "metadata": {
        "colab": {
          "base_uri": "https://localhost:8080/"
        },
        "id": "EuvuETcGpkje",
        "outputId": "549fe81e-6831-4744-e854-cc4fdfbb399e"
      },
      "execution_count": null,
      "outputs": [
        {
          "output_type": "execute_result",
          "data": {
            "text/plain": [
              "117"
            ]
          },
          "metadata": {},
          "execution_count": 95
        }
      ]
    },
    {
      "cell_type": "code",
      "execution_count": null,
      "metadata": {
        "id": "pLIl946zQQwG",
        "colab": {
          "base_uri": "https://localhost:8080/"
        },
        "outputId": "65c37e42-0a63-4b3c-98b8-573549f7475e"
      },
      "outputs": [
        {
          "output_type": "execute_result",
          "data": {
            "text/plain": [
              "(6261, 1, 117)"
            ]
          },
          "metadata": {},
          "execution_count": 96
        }
      ],
      "source": [
        "x_test = np.reshape(X_test, (X_test.shape[0],1,X_test.shape[1]))\n",
        "x_test.shape"
      ]
    },
    {
      "cell_type": "code",
      "execution_count": null,
      "metadata": {
        "id": "jWsrkPEmQcY7"
      },
      "outputs": [],
      "source": [
        "if model_selection[model_flag]==\"ALL\" or model_selection[model_flag] == \"LSTM\":\n",
        "  lst = Sequential()\n",
        "  # input layer and LSTM layer with 50 neurons\n",
        "  input_features = x_train.shape[2]\n",
        "  lst.add(LSTM(50,input_dim=input_features))\n",
        "\n",
        "  # outpute layer with sigmoid activation\n",
        "  lst.add(Dense(1,activation='sigmoid'))"
      ]
    },
    {
      "cell_type": "code",
      "execution_count": null,
      "metadata": {
        "id": "UEmba1H9Q_qj"
      },
      "outputs": [],
      "source": [
        "if model_selection[model_flag]==\"ALL\" or model_selection[model_flag] == \"LSTM\":\n",
        "  # defining loss function, optimizer, metrics and then compiling model\n",
        "  lst.compile(loss='binary_crossentropy',optimizer='adam',metrics=['accuracy'])"
      ]
    },
    {
      "cell_type": "code",
      "execution_count": null,
      "metadata": {
        "id": "anR58jV2RCtz",
        "colab": {
          "base_uri": "https://localhost:8080/"
        },
        "outputId": "436c15ef-3846-4a2a-97bb-88921ed7d750"
      },
      "outputs": [
        {
          "output_type": "stream",
          "name": "stdout",
          "text": [
            "Model: \"sequential_3\"\n",
            "_________________________________________________________________\n",
            " Layer (type)                Output Shape              Param #   \n",
            "=================================================================\n",
            " lstm_1 (LSTM)               (None, 50)                33600     \n",
            "                                                                 \n",
            " dense_5 (Dense)             (None, 1)                 51        \n",
            "                                                                 \n",
            "=================================================================\n",
            "Total params: 33,651\n",
            "Trainable params: 33,651\n",
            "Non-trainable params: 0\n",
            "_________________________________________________________________\n"
          ]
        }
      ],
      "source": [
        "if model_selection[model_flag]==\"ALL\" or model_selection[model_flag] == \"LSTM\":\n",
        "  # summary of model layers\n",
        "  lst.summary()"
      ]
    },
    {
      "cell_type": "code",
      "execution_count": null,
      "metadata": {
        "id": "_Pa4Qi12RJS_",
        "colab": {
          "base_uri": "https://localhost:8080/"
        },
        "outputId": "3305bd79-2481-411e-9971-4d60d3d1150c"
      },
      "outputs": [
        {
          "output_type": "stream",
          "name": "stdout",
          "text": [
            "Epoch 1/100\n",
            "4/4 [==============================] - 3s 156ms/step - loss: 0.6845 - accuracy: 0.5450 - val_loss: 0.6713 - val_accuracy: 0.5379\n",
            "Epoch 2/100\n",
            "4/4 [==============================] - 0s 15ms/step - loss: 0.6661 - accuracy: 0.5459 - val_loss: 0.6556 - val_accuracy: 0.5369\n",
            "Epoch 3/100\n",
            "4/4 [==============================] - 0s 18ms/step - loss: 0.6490 - accuracy: 0.5491 - val_loss: 0.6385 - val_accuracy: 0.8752\n",
            "Epoch 4/100\n",
            "4/4 [==============================] - 0s 14ms/step - loss: 0.6353 - accuracy: 0.9143 - val_loss: 0.6220 - val_accuracy: 0.8635\n",
            "Epoch 5/100\n",
            "4/4 [==============================] - 0s 16ms/step - loss: 0.6173 - accuracy: 0.8429 - val_loss: 0.6064 - val_accuracy: 0.8203\n",
            "Epoch 6/100\n",
            "4/4 [==============================] - 0s 15ms/step - loss: 0.6010 - accuracy: 0.8366 - val_loss: 0.5899 - val_accuracy: 0.9313\n",
            "Epoch 7/100\n",
            "4/4 [==============================] - 0s 23ms/step - loss: 0.5869 - accuracy: 0.9330 - val_loss: 0.5735 - val_accuracy: 0.9449\n",
            "Epoch 8/100\n",
            "4/4 [==============================] - 0s 14ms/step - loss: 0.5698 - accuracy: 0.9341 - val_loss: 0.5576 - val_accuracy: 0.8539\n",
            "Epoch 9/100\n",
            "4/4 [==============================] - 0s 16ms/step - loss: 0.5540 - accuracy: 0.8451 - val_loss: 0.5416 - val_accuracy: 0.8757\n",
            "Epoch 10/100\n",
            "4/4 [==============================] - 0s 21ms/step - loss: 0.5367 - accuracy: 0.9118 - val_loss: 0.5280 - val_accuracy: 0.9792\n",
            "Epoch 11/100\n",
            "4/4 [==============================] - 0s 16ms/step - loss: 0.5272 - accuracy: 0.9744 - val_loss: 0.5085 - val_accuracy: 0.9609\n",
            "Epoch 12/100\n",
            "4/4 [==============================] - 0s 15ms/step - loss: 0.5060 - accuracy: 0.9226 - val_loss: 0.4959 - val_accuracy: 0.9209\n",
            "Epoch 13/100\n",
            "4/4 [==============================] - 0s 15ms/step - loss: 0.4900 - accuracy: 0.9450 - val_loss: 0.4783 - val_accuracy: 0.9665\n",
            "Epoch 14/100\n",
            "4/4 [==============================] - 0s 14ms/step - loss: 0.4787 - accuracy: 0.9179 - val_loss: 0.4731 - val_accuracy: 0.8954\n",
            "Epoch 15/100\n",
            "4/4 [==============================] - 0s 16ms/step - loss: 0.4641 - accuracy: 0.9340 - val_loss: 0.4518 - val_accuracy: 0.9957\n",
            "Epoch 16/100\n",
            "4/4 [==============================] - 0s 15ms/step - loss: 0.4527 - accuracy: 0.9946 - val_loss: 0.4399 - val_accuracy: 0.9960\n",
            "Epoch 17/100\n",
            "4/4 [==============================] - 0s 14ms/step - loss: 0.4361 - accuracy: 0.9958 - val_loss: 0.4238 - val_accuracy: 0.9965\n",
            "Epoch 18/100\n",
            "4/4 [==============================] - 0s 14ms/step - loss: 0.4223 - accuracy: 0.9915 - val_loss: 0.4139 - val_accuracy: 0.9949\n",
            "Epoch 19/100\n",
            "4/4 [==============================] - 0s 16ms/step - loss: 0.4074 - accuracy: 0.9971 - val_loss: 0.3946 - val_accuracy: 1.0000\n",
            "Epoch 20/100\n",
            "4/4 [==============================] - 0s 14ms/step - loss: 0.3916 - accuracy: 0.9999 - val_loss: 0.3820 - val_accuracy: 1.0000\n",
            "Epoch 21/100\n",
            "4/4 [==============================] - 0s 15ms/step - loss: 0.3784 - accuracy: 0.9999 - val_loss: 0.3683 - val_accuracy: 0.9995\n",
            "Epoch 22/100\n",
            "4/4 [==============================] - 0s 14ms/step - loss: 0.3666 - accuracy: 0.9977 - val_loss: 0.3549 - val_accuracy: 1.0000\n",
            "Epoch 23/100\n",
            "4/4 [==============================] - 0s 17ms/step - loss: 0.3535 - accuracy: 0.9996 - val_loss: 0.3447 - val_accuracy: 1.0000\n",
            "Epoch 24/100\n",
            "4/4 [==============================] - 0s 16ms/step - loss: 0.3397 - accuracy: 0.9997 - val_loss: 0.3351 - val_accuracy: 0.9955\n",
            "Epoch 25/100\n",
            "4/4 [==============================] - 0s 15ms/step - loss: 0.3344 - accuracy: 0.9944 - val_loss: 0.3171 - val_accuracy: 0.9995\n",
            "Epoch 26/100\n",
            "4/4 [==============================] - 0s 18ms/step - loss: 0.3144 - accuracy: 0.9989 - val_loss: 0.3054 - val_accuracy: 0.9997\n",
            "Epoch 27/100\n",
            "4/4 [==============================] - 0s 14ms/step - loss: 0.3023 - accuracy: 0.9990 - val_loss: 0.2941 - val_accuracy: 0.9984\n",
            "Epoch 28/100\n",
            "4/4 [==============================] - 0s 16ms/step - loss: 0.2913 - accuracy: 0.9975 - val_loss: 0.2846 - val_accuracy: 1.0000\n",
            "Epoch 29/100\n",
            "4/4 [==============================] - 0s 14ms/step - loss: 0.2832 - accuracy: 0.9996 - val_loss: 0.2721 - val_accuracy: 1.0000\n",
            "Epoch 30/100\n",
            "4/4 [==============================] - 0s 17ms/step - loss: 0.2687 - accuracy: 0.9991 - val_loss: 0.2600 - val_accuracy: 0.9987\n",
            "Epoch 31/100\n",
            "4/4 [==============================] - 0s 14ms/step - loss: 0.2578 - accuracy: 0.9980 - val_loss: 0.2526 - val_accuracy: 1.0000\n",
            "Epoch 32/100\n",
            "4/4 [==============================] - 0s 15ms/step - loss: 0.2515 - accuracy: 0.9996 - val_loss: 0.2406 - val_accuracy: 0.9979\n",
            "Epoch 33/100\n",
            "4/4 [==============================] - 0s 14ms/step - loss: 0.2483 - accuracy: 0.9944 - val_loss: 0.2302 - val_accuracy: 0.9984\n",
            "Epoch 34/100\n",
            "4/4 [==============================] - 0s 14ms/step - loss: 0.2311 - accuracy: 0.9987 - val_loss: 0.2302 - val_accuracy: 0.9995\n",
            "Epoch 35/100\n",
            "4/4 [==============================] - 0s 15ms/step - loss: 0.2219 - accuracy: 0.9993 - val_loss: 0.2153 - val_accuracy: 0.9968\n",
            "Epoch 36/100\n",
            "4/4 [==============================] - 0s 14ms/step - loss: 0.2137 - accuracy: 0.9965 - val_loss: 0.2026 - val_accuracy: 1.0000\n",
            "Epoch 37/100\n",
            "4/4 [==============================] - 0s 19ms/step - loss: 0.2027 - accuracy: 0.9998 - val_loss: 0.1935 - val_accuracy: 1.0000\n",
            "Epoch 38/100\n",
            "4/4 [==============================] - 0s 14ms/step - loss: 0.1937 - accuracy: 0.9978 - val_loss: 0.1861 - val_accuracy: 0.9987\n",
            "Epoch 39/100\n",
            "4/4 [==============================] - 0s 20ms/step - loss: 0.1848 - accuracy: 0.9988 - val_loss: 0.1786 - val_accuracy: 1.0000\n",
            "Epoch 40/100\n",
            "4/4 [==============================] - 0s 18ms/step - loss: 0.1768 - accuracy: 0.9992 - val_loss: 0.1701 - val_accuracy: 1.0000\n",
            "Epoch 41/100\n",
            "4/4 [==============================] - 0s 14ms/step - loss: 0.1719 - accuracy: 0.9998 - val_loss: 0.1654 - val_accuracy: 1.0000\n",
            "Epoch 42/100\n",
            "4/4 [==============================] - 0s 16ms/step - loss: 0.1628 - accuracy: 0.9991 - val_loss: 0.1630 - val_accuracy: 0.9963\n",
            "Epoch 43/100\n",
            "4/4 [==============================] - 0s 20ms/step - loss: 0.1642 - accuracy: 0.9952 - val_loss: 0.1495 - val_accuracy: 0.9997\n",
            "Epoch 44/100\n",
            "4/4 [==============================] - 0s 15ms/step - loss: 0.1504 - accuracy: 0.9996 - val_loss: 0.1452 - val_accuracy: 1.0000\n",
            "Epoch 45/100\n",
            "4/4 [==============================] - 0s 14ms/step - loss: 0.1432 - accuracy: 0.9994 - val_loss: 0.1391 - val_accuracy: 0.9987\n",
            "Epoch 46/100\n",
            "4/4 [==============================] - 0s 15ms/step - loss: 0.1379 - accuracy: 0.9984 - val_loss: 0.1341 - val_accuracy: 1.0000\n",
            "Epoch 47/100\n",
            "4/4 [==============================] - 0s 15ms/step - loss: 0.1336 - accuracy: 0.9999 - val_loss: 0.1268 - val_accuracy: 0.9997\n",
            "Epoch 48/100\n",
            "4/4 [==============================] - 0s 15ms/step - loss: 0.1276 - accuracy: 0.9981 - val_loss: 0.1225 - val_accuracy: 0.9989\n",
            "Epoch 49/100\n",
            "4/4 [==============================] - 0s 15ms/step - loss: 0.1220 - accuracy: 0.9989 - val_loss: 0.1175 - val_accuracy: 1.0000\n",
            "Epoch 50/100\n",
            "4/4 [==============================] - 0s 22ms/step - loss: 0.1172 - accuracy: 0.9993 - val_loss: 0.1126 - val_accuracy: 0.9997\n",
            "Epoch 51/100\n",
            "4/4 [==============================] - 0s 21ms/step - loss: 0.1127 - accuracy: 0.9989 - val_loss: 0.1081 - val_accuracy: 0.9997\n",
            "Epoch 52/100\n",
            "4/4 [==============================] - 0s 21ms/step - loss: 0.1085 - accuracy: 0.9987 - val_loss: 0.1047 - val_accuracy: 0.9989\n",
            "Epoch 53/100\n",
            "4/4 [==============================] - 0s 16ms/step - loss: 0.1051 - accuracy: 0.9981 - val_loss: 0.1009 - val_accuracy: 1.0000\n",
            "Epoch 54/100\n",
            "4/4 [==============================] - 0s 15ms/step - loss: 0.1030 - accuracy: 0.9999 - val_loss: 0.0974 - val_accuracy: 1.0000\n",
            "Epoch 55/100\n",
            "4/4 [==============================] - 0s 27ms/step - loss: 0.0973 - accuracy: 0.9995 - val_loss: 0.0938 - val_accuracy: 0.9989\n",
            "Epoch 56/100\n",
            "4/4 [==============================] - 0s 21ms/step - loss: 0.0938 - accuracy: 0.9985 - val_loss: 0.0907 - val_accuracy: 1.0000\n",
            "Epoch 57/100\n",
            "4/4 [==============================] - 0s 22ms/step - loss: 0.0909 - accuracy: 0.9999 - val_loss: 0.0863 - val_accuracy: 0.9997\n",
            "Epoch 58/100\n",
            "4/4 [==============================] - 0s 17ms/step - loss: 0.0873 - accuracy: 0.9987 - val_loss: 0.0840 - val_accuracy: 0.9989\n",
            "Epoch 59/100\n",
            "4/4 [==============================] - 0s 20ms/step - loss: 0.0843 - accuracy: 0.9983 - val_loss: 0.0811 - val_accuracy: 1.0000\n",
            "Epoch 60/100\n",
            "4/4 [==============================] - 0s 17ms/step - loss: 0.0819 - accuracy: 0.9999 - val_loss: 0.0777 - val_accuracy: 1.0000\n",
            "Epoch 61/100\n",
            "4/4 [==============================] - 0s 16ms/step - loss: 0.0781 - accuracy: 0.9997 - val_loss: 0.0760 - val_accuracy: 0.9989\n",
            "Epoch 62/100\n",
            "4/4 [==============================] - 0s 15ms/step - loss: 0.0770 - accuracy: 0.9981 - val_loss: 0.0723 - val_accuracy: 1.0000\n",
            "Epoch 63/100\n",
            "4/4 [==============================] - 0s 14ms/step - loss: 0.0736 - accuracy: 0.9998 - val_loss: 0.0708 - val_accuracy: 1.0000\n",
            "Epoch 64/100\n",
            "4/4 [==============================] - 0s 14ms/step - loss: 0.0709 - accuracy: 0.9997 - val_loss: 0.0678 - val_accuracy: 0.9997\n",
            "Epoch 65/100\n",
            "4/4 [==============================] - 0s 16ms/step - loss: 0.0684 - accuracy: 0.9995 - val_loss: 0.0659 - val_accuracy: 1.0000\n",
            "Epoch 66/100\n",
            "4/4 [==============================] - 0s 14ms/step - loss: 0.0664 - accuracy: 0.9999 - val_loss: 0.0635 - val_accuracy: 0.9997\n",
            "Epoch 67/100\n",
            "4/4 [==============================] - 0s 15ms/step - loss: 0.0646 - accuracy: 0.9987 - val_loss: 0.0619 - val_accuracy: 0.9997\n",
            "Epoch 68/100\n",
            "4/4 [==============================] - 0s 15ms/step - loss: 0.0626 - accuracy: 0.9987 - val_loss: 0.0595 - val_accuracy: 1.0000\n",
            "Epoch 69/100\n",
            "4/4 [==============================] - 0s 15ms/step - loss: 0.0602 - accuracy: 0.9997 - val_loss: 0.0578 - val_accuracy: 0.9997\n",
            "Epoch 70/100\n",
            "4/4 [==============================] - 0s 21ms/step - loss: 0.0589 - accuracy: 0.9988 - val_loss: 0.0565 - val_accuracy: 0.9997\n",
            "Epoch 71/100\n",
            "4/4 [==============================] - 0s 16ms/step - loss: 0.0569 - accuracy: 0.9995 - val_loss: 0.0543 - val_accuracy: 1.0000\n",
            "Epoch 72/100\n",
            "4/4 [==============================] - 0s 15ms/step - loss: 0.0550 - accuracy: 0.9997 - val_loss: 0.0527 - val_accuracy: 1.0000\n",
            "Epoch 73/100\n",
            "4/4 [==============================] - 0s 16ms/step - loss: 0.0533 - accuracy: 0.9998 - val_loss: 0.0516 - val_accuracy: 1.0000\n",
            "Epoch 74/100\n",
            "4/4 [==============================] - 0s 21ms/step - loss: 0.0521 - accuracy: 0.9999 - val_loss: 0.0498 - val_accuracy: 1.0000\n",
            "Epoch 75/100\n",
            "4/4 [==============================] - 0s 15ms/step - loss: 0.0512 - accuracy: 0.9988 - val_loss: 0.0487 - val_accuracy: 0.9997\n",
            "Epoch 76/100\n",
            "4/4 [==============================] - 0s 16ms/step - loss: 0.0491 - accuracy: 0.9996 - val_loss: 0.0476 - val_accuracy: 1.0000\n",
            "Epoch 77/100\n",
            "4/4 [==============================] - 0s 15ms/step - loss: 0.0479 - accuracy: 0.9999 - val_loss: 0.0457 - val_accuracy: 1.0000\n",
            "Epoch 78/100\n",
            "4/4 [==============================] - 0s 17ms/step - loss: 0.0464 - accuracy: 0.9997 - val_loss: 0.0444 - val_accuracy: 1.0000\n",
            "Epoch 79/100\n",
            "4/4 [==============================] - 0s 15ms/step - loss: 0.0451 - accuracy: 0.9999 - val_loss: 0.0433 - val_accuracy: 1.0000\n",
            "Epoch 80/100\n",
            "4/4 [==============================] - 0s 14ms/step - loss: 0.0440 - accuracy: 0.9999 - val_loss: 0.0423 - val_accuracy: 1.0000\n",
            "Epoch 81/100\n",
            "4/4 [==============================] - 0s 15ms/step - loss: 0.0430 - accuracy: 0.9997 - val_loss: 0.0413 - val_accuracy: 1.0000\n",
            "Epoch 82/100\n",
            "4/4 [==============================] - 0s 15ms/step - loss: 0.0423 - accuracy: 0.9999 - val_loss: 0.0409 - val_accuracy: 1.0000\n",
            "Epoch 83/100\n",
            "4/4 [==============================] - 0s 15ms/step - loss: 0.0412 - accuracy: 0.9999 - val_loss: 0.0391 - val_accuracy: 1.0000\n",
            "Epoch 84/100\n",
            "4/4 [==============================] - 0s 15ms/step - loss: 0.0399 - accuracy: 0.9999 - val_loss: 0.0381 - val_accuracy: 1.0000\n",
            "Epoch 85/100\n",
            "4/4 [==============================] - 0s 16ms/step - loss: 0.0388 - accuracy: 0.9999 - val_loss: 0.0377 - val_accuracy: 1.0000\n",
            "Epoch 86/100\n",
            "4/4 [==============================] - 0s 27ms/step - loss: 0.0385 - accuracy: 0.9999 - val_loss: 0.0363 - val_accuracy: 1.0000\n",
            "Epoch 87/100\n",
            "4/4 [==============================] - 0s 16ms/step - loss: 0.0371 - accuracy: 0.9998 - val_loss: 0.0355 - val_accuracy: 1.0000\n",
            "Epoch 88/100\n",
            "4/4 [==============================] - 0s 20ms/step - loss: 0.0362 - accuracy: 0.9998 - val_loss: 0.0353 - val_accuracy: 1.0000\n",
            "Epoch 89/100\n",
            "4/4 [==============================] - 0s 17ms/step - loss: 0.0357 - accuracy: 0.9999 - val_loss: 0.0338 - val_accuracy: 1.0000\n",
            "Epoch 90/100\n",
            "4/4 [==============================] - 0s 14ms/step - loss: 0.0349 - accuracy: 0.9997 - val_loss: 0.0332 - val_accuracy: 1.0000\n",
            "Epoch 91/100\n",
            "4/4 [==============================] - 0s 20ms/step - loss: 0.0338 - accuracy: 0.9998 - val_loss: 0.0326 - val_accuracy: 1.0000\n",
            "Epoch 92/100\n",
            "4/4 [==============================] - 0s 15ms/step - loss: 0.0330 - accuracy: 0.9999 - val_loss: 0.0318 - val_accuracy: 1.0000\n",
            "Epoch 93/100\n",
            "4/4 [==============================] - 0s 16ms/step - loss: 0.0330 - accuracy: 0.9993 - val_loss: 0.0308 - val_accuracy: 1.0000\n",
            "Epoch 94/100\n",
            "4/4 [==============================] - 0s 16ms/step - loss: 0.0320 - accuracy: 0.9999 - val_loss: 0.0344 - val_accuracy: 1.0000\n",
            "Epoch 95/100\n",
            "4/4 [==============================] - 0s 15ms/step - loss: 0.0344 - accuracy: 0.9999 - val_loss: 0.0294 - val_accuracy: 1.0000\n",
            "Epoch 96/100\n",
            "4/4 [==============================] - 0s 16ms/step - loss: 0.0305 - accuracy: 0.9998 - val_loss: 0.0306 - val_accuracy: 0.9997\n",
            "Epoch 97/100\n",
            "4/4 [==============================] - 0s 15ms/step - loss: 0.0306 - accuracy: 0.9993 - val_loss: 0.0283 - val_accuracy: 1.0000\n",
            "Epoch 98/100\n",
            "4/4 [==============================] - 0s 17ms/step - loss: 0.0295 - accuracy: 0.9999 - val_loss: 0.0288 - val_accuracy: 1.0000\n",
            "Epoch 99/100\n",
            "4/4 [==============================] - 0s 15ms/step - loss: 0.0289 - accuracy: 0.9999 - val_loss: 0.0268 - val_accuracy: 1.0000\n",
            "Epoch 100/100\n",
            "4/4 [==============================] - 0s 14ms/step - loss: 0.0277 - accuracy: 0.9999 - val_loss: 0.0263 - val_accuracy: 1.0000\n"
          ]
        }
      ],
      "source": [
        "if model_selection[model_flag]==\"ALL\" or model_selection[model_flag] == \"LSTM\":\n",
        "  # training the model on training dataset\n",
        "  history = lst.fit(x_train, y_train, epochs=100, batch_size=5000,validation_split=0.2)"
      ]
    },
    {
      "cell_type": "code",
      "execution_count": null,
      "metadata": {
        "id": "BCQtvJcXRcNr",
        "colab": {
          "base_uri": "https://localhost:8080/"
        },
        "outputId": "13d103c5-2770-451d-c48a-df517e091ed4"
      },
      "outputs": [
        {
          "output_type": "stream",
          "name": "stdout",
          "text": [
            "Saved model to disk\n",
            "Loaded model from disk\n"
          ]
        }
      ],
      "source": [
        "if model_selection[model_flag]==\"ALL\" or model_selection[model_flag] == \"LSTM\":\n",
        "  filepath = '/content/drive/MyDrive/Colab_Notebooks/Models/lst_binary_kitsune'+model_name_suffix+'.json'\n",
        "  weightspath = '/content/drive/MyDrive/Colab_Notebooks/Weights/lst_binary_kitsune'+model_name_suffix+'.h5'\n",
        "  if (not path.isfile(filepath)):\n",
        "    # serialize model to JSON\n",
        "    lst_json = lst.to_json()\n",
        "    with open(filepath, \"w\") as json_file:\n",
        "      json_file.write(lst_json)\n",
        "\n",
        "    # serialize weights to HDF5\n",
        "    lst.save_weights(weightspath)\n",
        "    print(\"Saved model to disk\")\n",
        "\n",
        "    # load json and create model\n",
        "    json_file = open(filepath, 'r')\n",
        "    loaded_model_json = json_file.read()\n",
        "    json_file.close()\n",
        "    lst = model_from_json(loaded_model_json)\n",
        "\n",
        "    # load weights into new model\n",
        "    lst.load_weights(weightspath)\n",
        "    print(\"Loaded model from disk\")"
      ]
    },
    {
      "cell_type": "code",
      "execution_count": null,
      "metadata": {
        "id": "rPaW37T-R0dG",
        "colab": {
          "base_uri": "https://localhost:8080/"
        },
        "outputId": "09ecc8e6-ec32-4729-ffc3-52142991e8ba"
      },
      "outputs": [
        {
          "output_type": "stream",
          "name": "stdout",
          "text": [
            "Loaded model from disk\n"
          ]
        }
      ],
      "source": [
        "if model_selection[model_flag]==\"ALL\" or model_selection[model_flag] == \"LSTM\":\n",
        "  # load json and create model\n",
        "  json_file = open(filepath, 'r')\n",
        "  loaded_model_json = json_file.read()\n",
        "  json_file.close()\n",
        "  lst = model_from_json(loaded_model_json)\n",
        "\n",
        "  # load weights into new model\n",
        "  lst.load_weights(weightspath)\n",
        "  print(\"Loaded model from disk\")"
      ]
    },
    {
      "cell_type": "code",
      "execution_count": null,
      "metadata": {
        "id": "ukGDdSggR3na"
      },
      "outputs": [],
      "source": [
        "if model_selection[model_flag]==\"ALL\" or model_selection[model_flag] == \"LSTM\":\n",
        "  # defining loss function, optimizer, metrics and then compiling model\n",
        "  lst.compile(loss='binary_crossentropy',optimizer='adam',metrics=['accuracy'])"
      ]
    },
    {
      "cell_type": "code",
      "execution_count": null,
      "metadata": {
        "id": "nvjY0u97R68f",
        "colab": {
          "base_uri": "https://localhost:8080/"
        },
        "outputId": "37d11674-1f45-4083-93cd-6f791dcc732e"
      },
      "outputs": [
        {
          "output_type": "stream",
          "name": "stdout",
          "text": [
            "196/196 [==============================] - 1s 3ms/step - loss: 0.9819 - accuracy: 0.4613\n",
            "Test results - Loss: 0.981939435005188 - Accuracy: 46.12681567668915%\n"
          ]
        }
      ],
      "source": [
        "if model_selection[model_flag]==\"ALL\" or model_selection[model_flag] == \"LSTM\":\n",
        "  # predicting target attribute on testing dataset\n",
        "  test_results = lst.evaluate(x_test, y_test, verbose=1)\n",
        "  print(f'Test results - Loss: {test_results[0]} - Accuracy: {test_results[1]*100}%')"
      ]
    },
    {
      "cell_type": "code",
      "execution_count": null,
      "metadata": {
        "id": "f8yKMcIHR_jP",
        "colab": {
          "base_uri": "https://localhost:8080/",
          "height": 472
        },
        "outputId": "7fa1887e-9e60-4b05-bb53-dccfeb14e504"
      },
      "outputs": [
        {
          "output_type": "display_data",
          "data": {
            "text/plain": [
              "<Figure size 640x480 with 1 Axes>"
            ],
            "image/png": "[encoded data removed]"
          },
          "metadata": {}
        }
      ],
      "source": [
        "if model_selection[model_flag]==\"ALL\" or model_selection[model_flag] == \"LSTM\":\n",
        "  # Plot of accuracy vs epoch of train and test dataset\n",
        "  plt.plot(history.history['accuracy'])\n",
        "  plt.plot(history.history['val_accuracy'])\n",
        "  plt.title(\"Plot of accuracy vs epoch for train and test dataset\")\n",
        "  plt.ylabel('accuracy')\n",
        "  plt.xlabel('epoch')\n",
        "  plt.legend(['train', 'test'], loc='best')\n",
        "  plt.savefig('/content/drive/MyDrive/Colab_Notebooks/Plots/lstm_binary_accuracy.png')\n",
        "  plt.show()"
      ]
    },
    {
      "cell_type": "code",
      "execution_count": null,
      "metadata": {
        "id": "M5g1Rw_SSb5n",
        "colab": {
          "base_uri": "https://localhost:8080/",
          "height": 472
        },
        "outputId": "c492a150-4c86-40ed-9835-64ea490d23d8"
      },
      "outputs": [
        {
          "output_type": "display_data",
          "data": {
            "text/plain": [
              "<Figure size 640x480 with 1 Axes>"
            ],
            "image/png": "[encoded data removed]"
          },
          "metadata": {}
        }
      ],
      "source": [
        "if model_selection[model_flag]==\"ALL\" or model_selection[model_flag] == \"LSTM\":\n",
        "  # Plot of loss vs epoch of train and test dataset\n",
        "  plt.plot(history.history['loss'])\n",
        "  plt.plot(history.history['val_loss'])\n",
        "  plt.title(\"Plot of loss vs epoch for train and test dataset\")\n",
        "  plt.ylabel('loss')\n",
        "  plt.xlabel('epoch')\n",
        "  plt.legend(['train', 'test'], loc='best')\n",
        "  plt.savefig('/content/drive/MyDrive/Colab_Notebooks/Plots/lstm_binary_loss.png')\n",
        "  plt.show()"
      ]
    },
    {
      "cell_type": "code",
      "execution_count": null,
      "metadata": {
        "id": "osZa2OV9Se-T"
      },
      "outputs": [],
      "source": [
        "if model_selection[model_flag]==\"ALL\" or model_selection[model_flag] == \"LSTM\":\n",
        "  # representation of model layers\n",
        "  plot_model(lst, to_file='/content/drive/MyDrive/Colab_Notebooks/Plots/lstm_binary.png', show_shapes=True,)"
      ]
    },
    {
      "cell_type": "code",
      "execution_count": null,
      "metadata": {
        "id": "lw4OLD4HSpaY",
        "colab": {
          "base_uri": "https://localhost:8080/"
        },
        "outputId": "1a4a9ee1-1a70-4a9e-a832-54a610d0ff4d"
      },
      "outputs": [
        {
          "output_type": "execute_result",
          "data": {
            "text/plain": [
              "(6261,)"
            ]
          },
          "metadata": {},
          "execution_count": 108
        }
      ],
      "source": [
        "y_test = np.array(y_test)\n",
        "y_test.shape"
      ]
    },
    {
      "cell_type": "code",
      "execution_count": null,
      "metadata": {
        "id": "4BvYVrKsTGr3",
        "colab": {
          "base_uri": "https://localhost:8080/"
        },
        "outputId": "8c00da46-a5f8-4c14-8136-c664fe518a74"
      },
      "outputs": [
        {
          "output_type": "execute_result",
          "data": {
            "text/plain": [
              "numpy.ndarray"
            ]
          },
          "metadata": {},
          "execution_count": 109
        }
      ],
      "source": [
        "type(y_test)"
      ]
    },
    {
      "cell_type": "code",
      "execution_count": null,
      "metadata": {
        "id": "KBvCGl6BS0FM",
        "colab": {
          "base_uri": "https://localhost:8080/"
        },
        "outputId": "1ce661d2-2cd5-49cd-ebd5-78ad5dfeff66"
      },
      "outputs": [
        {
          "output_type": "stream",
          "name": "stdout",
          "text": [
            "196/196 [==============================] - 1s 2ms/step\n"
          ]
        }
      ],
      "source": [
        "if model_selection[model_flag]==\"ALL\" or model_selection[model_flag] == \"LSTM\":\n",
        "  y_classes = (lst.predict(x_test)>0.5).astype('int32')"
      ]
    },
    {
      "cell_type": "code",
      "execution_count": null,
      "metadata": {
        "id": "x_yVqBlLTtLW",
        "colab": {
          "base_uri": "https://localhost:8080/"
        },
        "outputId": "7cef18d5-7a1d-4c4c-fccf-cba903fc9fad"
      },
      "outputs": [
        {
          "output_type": "stream",
          "name": "stdout",
          "text": [
            "Recall Score -  1.0\n",
            "F1 Score -  0.6308416329210901\n",
            "Precision Score -  0.4607513988808953\n",
            "False Positive Rate -  [0.99822433]\n",
            "False Negative Rate -  [0.]\n",
            "Thresholds -  [1]\n"
          ]
        }
      ],
      "source": [
        "if model_selection[model_flag]==\"ALL\" or model_selection[model_flag] == \"LSTM\":\n",
        "  print(\"Recall Score - \",recall_score(y_test,y_classes))\n",
        "  print(\"F1 Score - \",f1_score(y_test,y_classes))\n",
        "  print(\"Precision Score - \",precision_score(y_test,y_classes))\n",
        "  fpr, fnr, thresholds = det_curve(y_test, y_classes)\n",
        "  print(\"False Positive Rate - \", fpr)\n",
        "  print(\"False Negative Rate - \", fnr)\n",
        "  print(\"Thresholds - \", thresholds)"
      ]
    },
    {
      "cell_type": "code",
      "source": [
        "print(classification_report(y_test, y_classes, target_names=['0', '1']))\n",
        "cm = confusion_matrix(y_test, y_classes)\n",
        "disp = ConfusionMatrixDisplay(confusion_matrix=cm,\n",
        "                              display_labels=['0', '1'])\n",
        "disp.plot()\n",
        "\n",
        "plt.show()"
      ],
      "metadata": {
        "colab": {
          "base_uri": "https://localhost:8080/",
          "height": 610
        },
        "id": "lHw1E32esovH",
        "outputId": "2486477f-00df-41c7-f9e7-c3e77b5f5931"
      },
      "execution_count": null,
      "outputs": [
        {
          "output_type": "stream",
          "name": "stdout",
          "text": [
            "              precision    recall  f1-score   support\n",
            "\n",
            "           0       1.00      0.00      0.00      3379\n",
            "           1       0.46      1.00      0.63      2882\n",
            "\n",
            "    accuracy                           0.46      6261\n",
            "   macro avg       0.73      0.50      0.32      6261\n",
            "weighted avg       0.75      0.46      0.29      6261\n",
            "\n"
          ]
        },
        {
          "output_type": "display_data",
          "data": {
            "text/plain": [
              "<Figure size 640x480 with 2 Axes>"
            ],
            "image/png": "[encoded data removed]"
          },
          "metadata": {}
        }
      ]
    },
    {
      "cell_type": "markdown",
      "metadata": {
        "id": "H_g15uXe82BY"
      },
      "source": [
        "## **Auto Encoder**"
      ]
    },
    {
      "cell_type": "code",
      "execution_count": null,
      "metadata": {
        "id": "VQ6pDxghmBwB"
      },
      "outputs": [],
      "source": [
        "if model_selection[model_flag]==\"ALL\" or model_selection[model_flag] == \"AE\":\n",
        "  # splitting the dataset 75% for training and 25% testing\n",
        "  X_train, X_test = train_test_split(bin_data, test_size=0.25, random_state=42)"
      ]
    },
    {
      "cell_type": "code",
      "execution_count": null,
      "metadata": {
        "id": "uogVT92Q_6wh"
      },
      "outputs": [],
      "source": [
        "if model_selection[model_flag]==\"ALL\" or model_selection[model_flag] == \"AE\":\n",
        "  # dataset excluding target attribute (encoded, one-hot-encoded,original)\n",
        "  X_train = X_train.drop(['label'],axis=1) \n",
        "\n",
        "  y_test = X_test['label'] # target attribute\n",
        "\n",
        "  # dataset excluding target attribute (encoded, one-hot-encoded,original)\n",
        "  X_test = X_test.drop(['label'],axis=1)\n",
        "  # calling the normalization() function\n",
        "  X_train = normalization_train(X_train,numeric_cols)\n",
        "  X_test = normalization_test(X_test,numeric_cols)\n",
        "  X_train = X_train.values\n",
        "  X_test = X_test.values\n",
        "  y_test = y_test.values"
      ]
    },
    {
      "cell_type": "code",
      "execution_count": null,
      "metadata": {
        "id": "s696BM9uKADC"
      },
      "outputs": [],
      "source": [
        "if model_selection[model_flag]==\"ALL\" or model_selection[model_flag] == \"AE\":\n",
        "  input_dim = X_train.shape[1]\n",
        "  encoding_dim = 50\n",
        "\n",
        "  #input layer\n",
        "  input_layer = Input(shape=(input_dim, ))\n",
        "  #encoding layer with 50 neurons\n",
        "  encoder = Dense(encoding_dim, activation=\"relu\")(input_layer)           \n",
        "  #decoding and output layer\n",
        "  output_layer = Dense(input_dim, activation='softmax')(encoder)"
      ]
    },
    {
      "cell_type": "code",
      "execution_count": null,
      "metadata": {
        "id": "nLn3vHBZLQtj"
      },
      "outputs": [],
      "source": [
        "if model_selection[model_flag]==\"ALL\" or model_selection[model_flag] == \"AE\":\n",
        "  # creating model with input, encoding, decoding, output layers\n",
        "  autoencoder = Model(inputs=input_layer, outputs=output_layer)\n",
        "\n",
        "  # defining loss function, optimizer, metrics and then compiling model\n",
        "  autoencoder.compile(optimizer='adam', loss='mean_squared_error',metrics=['accuracy'])"
      ]
    },
    {
      "cell_type": "code",
      "execution_count": null,
      "metadata": {
        "id": "X_zk7PMVLVNm",
        "colab": {
          "base_uri": "https://localhost:8080/"
        },
        "outputId": "88388e57-09b7-413a-b21f-24e62998e33a"
      },
      "outputs": [
        {
          "output_type": "stream",
          "name": "stdout",
          "text": [
            "Model: \"model\"\n",
            "_________________________________________________________________\n",
            " Layer (type)                Output Shape              Param #   \n",
            "=================================================================\n",
            " input_1 (InputLayer)        [(None, 116)]             0         \n",
            "                                                                 \n",
            " dense_6 (Dense)             (None, 50)                5850      \n",
            "                                                                 \n",
            " dense_7 (Dense)             (None, 116)               5916      \n",
            "                                                                 \n",
            "=================================================================\n",
            "Total params: 11,766\n",
            "Trainable params: 11,766\n",
            "Non-trainable params: 0\n",
            "_________________________________________________________________\n"
          ]
        }
      ],
      "source": [
        "if model_selection[model_flag]==\"ALL\" or model_selection[model_flag] == \"AE\":\n",
        "  # summary of model layers\n",
        "  autoencoder.summary()"
      ]
    },
    {
      "cell_type": "code",
      "execution_count": null,
      "metadata": {
        "id": "We59NbebLdkJ",
        "colab": {
          "base_uri": "https://localhost:8080/"
        },
        "outputId": "87e33bd0-d078-4482-dc80-ba5a3fde43aa"
      },
      "outputs": [
        {
          "output_type": "stream",
          "name": "stdout",
          "text": [
            "Epoch 1/100\n",
            "38/38 [==============================] - 1s 8ms/step - loss: 0.5085 - accuracy: 0.0019 - val_loss: 18404860428812288.0000 - val_accuracy: 0.0000e+00\n",
            "Epoch 2/100\n",
            "38/38 [==============================] - 0s 5ms/step - loss: 0.5070 - accuracy: 0.0052 - val_loss: 18404860428812288.0000 - val_accuracy: 0.0000e+00\n",
            "Epoch 3/100\n",
            "38/38 [==============================] - 0s 4ms/step - loss: 0.5066 - accuracy: 0.0210 - val_loss: 18404860428812288.0000 - val_accuracy: 0.0000e+00\n",
            "Epoch 4/100\n",
            "38/38 [==============================] - 0s 5ms/step - loss: 0.5065 - accuracy: 0.0289 - val_loss: 18404860428812288.0000 - val_accuracy: 0.0000e+00\n",
            "Epoch 5/100\n",
            "38/38 [==============================] - 0s 5ms/step - loss: 0.5064 - accuracy: 0.0672 - val_loss: 18404860428812288.0000 - val_accuracy: 0.0000e+00\n",
            "Epoch 6/100\n",
            "38/38 [==============================] - 0s 5ms/step - loss: 0.5063 - accuracy: 0.0709 - val_loss: 18404860428812288.0000 - val_accuracy: 0.0000e+00\n",
            "Epoch 7/100\n",
            "38/38 [==============================] - 0s 6ms/step - loss: 0.5063 - accuracy: 0.0708 - val_loss: 18404860428812288.0000 - val_accuracy: 0.0000e+00\n",
            "Epoch 8/100\n",
            "38/38 [==============================] - 0s 5ms/step - loss: 0.5063 - accuracy: 0.0839 - val_loss: 18404860428812288.0000 - val_accuracy: 0.0000e+00\n",
            "Epoch 9/100\n",
            "38/38 [==============================] - 0s 5ms/step - loss: 0.5062 - accuracy: 0.1155 - val_loss: 18404860428812288.0000 - val_accuracy: 0.0000e+00\n",
            "Epoch 10/100\n",
            "38/38 [==============================] - 0s 5ms/step - loss: 0.5062 - accuracy: 0.1307 - val_loss: 18404860428812288.0000 - val_accuracy: 0.0000e+00\n",
            "Epoch 11/100\n",
            "38/38 [==============================] - 0s 6ms/step - loss: 0.5062 - accuracy: 0.1321 - val_loss: 18404860428812288.0000 - val_accuracy: 0.0000e+00\n",
            "Epoch 12/100\n",
            "38/38 [==============================] - 0s 4ms/step - loss: 0.5062 - accuracy: 0.1339 - val_loss: 18404860428812288.0000 - val_accuracy: 0.0000e+00\n",
            "Epoch 13/100\n",
            "38/38 [==============================] - 0s 5ms/step - loss: 0.5062 - accuracy: 0.1358 - val_loss: 18404860428812288.0000 - val_accuracy: 0.0000e+00\n",
            "Epoch 14/100\n",
            "38/38 [==============================] - 0s 5ms/step - loss: 0.5062 - accuracy: 0.1374 - val_loss: 18404860428812288.0000 - val_accuracy: 0.0000e+00\n",
            "Epoch 15/100\n",
            "38/38 [==============================] - 0s 5ms/step - loss: 0.5062 - accuracy: 0.1428 - val_loss: 18404860428812288.0000 - val_accuracy: 0.0000e+00\n",
            "Epoch 16/100\n",
            "38/38 [==============================] - 0s 6ms/step - loss: 0.5062 - accuracy: 0.1443 - val_loss: 18404860428812288.0000 - val_accuracy: 0.0000e+00\n",
            "Epoch 17/100\n",
            "38/38 [==============================] - 0s 6ms/step - loss: 0.5062 - accuracy: 0.1488 - val_loss: 18404860428812288.0000 - val_accuracy: 0.0000e+00\n",
            "Epoch 18/100\n",
            "38/38 [==============================] - 0s 4ms/step - loss: 0.5062 - accuracy: 0.1534 - val_loss: 18404860428812288.0000 - val_accuracy: 0.0000e+00\n",
            "Epoch 19/100\n",
            "38/38 [==============================] - 0s 5ms/step - loss: 0.5062 - accuracy: 0.1533 - val_loss: 18404860428812288.0000 - val_accuracy: 0.0000e+00\n",
            "Epoch 20/100\n",
            "38/38 [==============================] - 0s 5ms/step - loss: 0.5062 - accuracy: 0.1540 - val_loss: 18404860428812288.0000 - val_accuracy: 0.0000e+00\n",
            "Epoch 21/100\n",
            "38/38 [==============================] - 0s 5ms/step - loss: 0.5062 - accuracy: 0.1586 - val_loss: 18404860428812288.0000 - val_accuracy: 0.0000e+00\n",
            "Epoch 22/100\n",
            "38/38 [==============================] - 0s 6ms/step - loss: 0.5062 - accuracy: 0.1609 - val_loss: 18404860428812288.0000 - val_accuracy: 0.0000e+00\n",
            "Epoch 23/100\n",
            "38/38 [==============================] - 0s 5ms/step - loss: 0.5062 - accuracy: 0.1633 - val_loss: 18404860428812288.0000 - val_accuracy: 0.0000e+00\n",
            "Epoch 24/100\n",
            "38/38 [==============================] - 0s 5ms/step - loss: 0.5062 - accuracy: 0.1677 - val_loss: 18404860428812288.0000 - val_accuracy: 0.0000e+00\n",
            "Epoch 25/100\n",
            "38/38 [==============================] - 0s 6ms/step - loss: 0.5062 - accuracy: 0.1685 - val_loss: 18404860428812288.0000 - val_accuracy: 0.0000e+00\n",
            "Epoch 26/100\n",
            "38/38 [==============================] - 0s 6ms/step - loss: 0.5062 - accuracy: 0.1699 - val_loss: 18404860428812288.0000 - val_accuracy: 0.0000e+00\n",
            "Epoch 27/100\n",
            "38/38 [==============================] - 0s 6ms/step - loss: 0.5062 - accuracy: 0.1732 - val_loss: 18404860428812288.0000 - val_accuracy: 0.0000e+00\n",
            "Epoch 28/100\n",
            "38/38 [==============================] - 0s 5ms/step - loss: 0.5062 - accuracy: 0.1733 - val_loss: 18404860428812288.0000 - val_accuracy: 0.0000e+00\n",
            "Epoch 29/100\n",
            "38/38 [==============================] - 0s 5ms/step - loss: 0.5062 - accuracy: 0.1744 - val_loss: 18404860428812288.0000 - val_accuracy: 0.0000e+00\n",
            "Epoch 30/100\n",
            "38/38 [==============================] - 0s 5ms/step - loss: 0.5061 - accuracy: 0.1774 - val_loss: 18404860428812288.0000 - val_accuracy: 0.0000e+00\n",
            "Epoch 31/100\n",
            "38/38 [==============================] - 0s 6ms/step - loss: 0.5061 - accuracy: 0.1806 - val_loss: 18404860428812288.0000 - val_accuracy: 0.0000e+00\n",
            "Epoch 32/100\n",
            "38/38 [==============================] - 0s 5ms/step - loss: 0.5061 - accuracy: 0.1842 - val_loss: 18404860428812288.0000 - val_accuracy: 0.0000e+00\n",
            "Epoch 33/100\n",
            "38/38 [==============================] - 0s 5ms/step - loss: 0.5061 - accuracy: 0.1818 - val_loss: 18404860428812288.0000 - val_accuracy: 0.0000e+00\n",
            "Epoch 34/100\n",
            "38/38 [==============================] - 0s 6ms/step - loss: 0.5061 - accuracy: 0.1829 - val_loss: 18404860428812288.0000 - val_accuracy: 0.0000e+00\n",
            "Epoch 35/100\n",
            "38/38 [==============================] - 0s 5ms/step - loss: 0.5061 - accuracy: 0.1796 - val_loss: 18404860428812288.0000 - val_accuracy: 0.0000e+00\n",
            "Epoch 36/100\n",
            "38/38 [==============================] - 0s 7ms/step - loss: 0.5061 - accuracy: 0.1806 - val_loss: 18404860428812288.0000 - val_accuracy: 0.0000e+00\n",
            "Epoch 37/100\n",
            "38/38 [==============================] - 0s 7ms/step - loss: 0.5061 - accuracy: 0.1799 - val_loss: 18404860428812288.0000 - val_accuracy: 0.0000e+00\n",
            "Epoch 38/100\n",
            "38/38 [==============================] - 0s 6ms/step - loss: 0.5061 - accuracy: 0.1793 - val_loss: 18404860428812288.0000 - val_accuracy: 0.0000e+00\n",
            "Epoch 39/100\n",
            "38/38 [==============================] - 0s 7ms/step - loss: 0.5061 - accuracy: 0.1781 - val_loss: 18404860428812288.0000 - val_accuracy: 0.0000e+00\n",
            "Epoch 40/100\n",
            "38/38 [==============================] - 0s 7ms/step - loss: 0.5061 - accuracy: 0.1768 - val_loss: 18404860428812288.0000 - val_accuracy: 0.0000e+00\n",
            "Epoch 41/100\n",
            "38/38 [==============================] - 0s 7ms/step - loss: 0.5061 - accuracy: 0.1796 - val_loss: 18404860428812288.0000 - val_accuracy: 0.0000e+00\n",
            "Epoch 42/100\n",
            "38/38 [==============================] - 0s 8ms/step - loss: 0.5061 - accuracy: 0.1805 - val_loss: 18404860428812288.0000 - val_accuracy: 0.0000e+00\n",
            "Epoch 43/100\n",
            "38/38 [==============================] - 0s 7ms/step - loss: 0.5061 - accuracy: 0.1795 - val_loss: 18404860428812288.0000 - val_accuracy: 0.0000e+00\n",
            "Epoch 44/100\n",
            "38/38 [==============================] - 0s 7ms/step - loss: 0.5061 - accuracy: 0.1799 - val_loss: 18404860428812288.0000 - val_accuracy: 0.0000e+00\n",
            "Epoch 45/100\n",
            "38/38 [==============================] - 0s 7ms/step - loss: 0.5061 - accuracy: 0.1797 - val_loss: 18404860428812288.0000 - val_accuracy: 0.0000e+00\n",
            "Epoch 46/100\n",
            "38/38 [==============================] - 0s 8ms/step - loss: 0.5061 - accuracy: 0.1779 - val_loss: 18404860428812288.0000 - val_accuracy: 0.0000e+00\n",
            "Epoch 47/100\n",
            "38/38 [==============================] - 0s 7ms/step - loss: 0.5061 - accuracy: 0.1804 - val_loss: 18404860428812288.0000 - val_accuracy: 0.0000e+00\n",
            "Epoch 48/100\n",
            "38/38 [==============================] - 0s 7ms/step - loss: 0.5061 - accuracy: 0.1802 - val_loss: 18404860428812288.0000 - val_accuracy: 0.0000e+00\n",
            "Epoch 49/100\n",
            "38/38 [==============================] - 0s 6ms/step - loss: 0.5061 - accuracy: 0.1820 - val_loss: 18404860428812288.0000 - val_accuracy: 0.0000e+00\n",
            "Epoch 50/100\n",
            "38/38 [==============================] - 0s 5ms/step - loss: 0.5061 - accuracy: 0.1797 - val_loss: 18404860428812288.0000 - val_accuracy: 0.0000e+00\n",
            "Epoch 51/100\n",
            "38/38 [==============================] - 0s 5ms/step - loss: 0.5061 - accuracy: 0.1809 - val_loss: 18404860428812288.0000 - val_accuracy: 0.0000e+00\n",
            "Epoch 52/100\n",
            "38/38 [==============================] - 0s 5ms/step - loss: 0.5061 - accuracy: 0.1803 - val_loss: 18404860428812288.0000 - val_accuracy: 0.0000e+00\n",
            "Epoch 53/100\n",
            "38/38 [==============================] - 0s 6ms/step - loss: 0.5061 - accuracy: 0.1809 - val_loss: 18404860428812288.0000 - val_accuracy: 0.0000e+00\n",
            "Epoch 54/100\n",
            "38/38 [==============================] - 0s 5ms/step - loss: 0.5061 - accuracy: 0.1812 - val_loss: 18404860428812288.0000 - val_accuracy: 0.0000e+00\n",
            "Epoch 55/100\n",
            "38/38 [==============================] - 0s 5ms/step - loss: 0.5061 - accuracy: 0.1817 - val_loss: 18404860428812288.0000 - val_accuracy: 0.0000e+00\n",
            "Epoch 56/100\n",
            "38/38 [==============================] - 0s 6ms/step - loss: 0.5061 - accuracy: 0.1830 - val_loss: 18404860428812288.0000 - val_accuracy: 0.0000e+00\n",
            "Epoch 57/100\n",
            "38/38 [==============================] - 0s 5ms/step - loss: 0.5061 - accuracy: 0.1831 - val_loss: 18404860428812288.0000 - val_accuracy: 0.0000e+00\n",
            "Epoch 58/100\n",
            "38/38 [==============================] - 0s 5ms/step - loss: 0.5061 - accuracy: 0.1843 - val_loss: 18404860428812288.0000 - val_accuracy: 0.0000e+00\n",
            "Epoch 59/100\n",
            "38/38 [==============================] - 0s 5ms/step - loss: 0.5061 - accuracy: 0.1849 - val_loss: 18404860428812288.0000 - val_accuracy: 0.0000e+00\n",
            "Epoch 60/100\n",
            "38/38 [==============================] - 0s 5ms/step - loss: 0.5061 - accuracy: 0.1855 - val_loss: 18404860428812288.0000 - val_accuracy: 0.0000e+00\n",
            "Epoch 61/100\n",
            "38/38 [==============================] - 0s 6ms/step - loss: 0.5061 - accuracy: 0.1844 - val_loss: 18404860428812288.0000 - val_accuracy: 0.0000e+00\n",
            "Epoch 62/100\n",
            "38/38 [==============================] - 0s 6ms/step - loss: 0.5061 - accuracy: 0.1846 - val_loss: 18404860428812288.0000 - val_accuracy: 0.0000e+00\n",
            "Epoch 63/100\n",
            "38/38 [==============================] - 0s 5ms/step - loss: 0.5061 - accuracy: 0.1844 - val_loss: 18404860428812288.0000 - val_accuracy: 0.0000e+00\n",
            "Epoch 64/100\n",
            "38/38 [==============================] - 0s 6ms/step - loss: 0.5061 - accuracy: 0.1871 - val_loss: 18404860428812288.0000 - val_accuracy: 0.0000e+00\n",
            "Epoch 65/100\n",
            "38/38 [==============================] - 0s 5ms/step - loss: 0.5061 - accuracy: 0.1867 - val_loss: 18404860428812288.0000 - val_accuracy: 0.0000e+00\n",
            "Epoch 66/100\n",
            "38/38 [==============================] - 0s 5ms/step - loss: 0.5061 - accuracy: 0.1861 - val_loss: 18404860428812288.0000 - val_accuracy: 0.0000e+00\n",
            "Epoch 67/100\n",
            "38/38 [==============================] - 0s 6ms/step - loss: 0.5061 - accuracy: 0.1859 - val_loss: 18404860428812288.0000 - val_accuracy: 0.0000e+00\n",
            "Epoch 68/100\n",
            "38/38 [==============================] - 0s 5ms/step - loss: 0.5061 - accuracy: 0.1849 - val_loss: 18404860428812288.0000 - val_accuracy: 0.0000e+00\n",
            "Epoch 69/100\n",
            "38/38 [==============================] - 0s 5ms/step - loss: 0.5061 - accuracy: 0.1848 - val_loss: 18404860428812288.0000 - val_accuracy: 0.0000e+00\n",
            "Epoch 70/100\n",
            "38/38 [==============================] - 0s 5ms/step - loss: 0.5061 - accuracy: 0.1811 - val_loss: 18404860428812288.0000 - val_accuracy: 0.0000e+00\n",
            "Epoch 71/100\n",
            "38/38 [==============================] - 0s 5ms/step - loss: 0.5061 - accuracy: 0.1836 - val_loss: 18404860428812288.0000 - val_accuracy: 0.0000e+00\n",
            "Epoch 72/100\n",
            "38/38 [==============================] - 0s 6ms/step - loss: 0.5061 - accuracy: 0.1858 - val_loss: 18404860428812288.0000 - val_accuracy: 0.0000e+00\n",
            "Epoch 73/100\n",
            "38/38 [==============================] - 0s 5ms/step - loss: 0.5061 - accuracy: 0.1884 - val_loss: 18404860428812288.0000 - val_accuracy: 0.0000e+00\n",
            "Epoch 74/100\n",
            "38/38 [==============================] - 0s 6ms/step - loss: 0.5061 - accuracy: 0.1862 - val_loss: 18404860428812288.0000 - val_accuracy: 0.0000e+00\n",
            "Epoch 75/100\n",
            "38/38 [==============================] - 0s 6ms/step - loss: 0.5061 - accuracy: 0.1851 - val_loss: 18404860428812288.0000 - val_accuracy: 0.0000e+00\n",
            "Epoch 76/100\n",
            "38/38 [==============================] - 0s 5ms/step - loss: 0.5061 - accuracy: 0.1858 - val_loss: 18404860428812288.0000 - val_accuracy: 0.0000e+00\n",
            "Epoch 77/100\n",
            "38/38 [==============================] - 0s 5ms/step - loss: 0.5061 - accuracy: 0.1868 - val_loss: 18404860428812288.0000 - val_accuracy: 0.0000e+00\n",
            "Epoch 78/100\n",
            "38/38 [==============================] - 0s 5ms/step - loss: 0.5061 - accuracy: 0.1881 - val_loss: 18404860428812288.0000 - val_accuracy: 0.0000e+00\n",
            "Epoch 79/100\n",
            "38/38 [==============================] - 0s 6ms/step - loss: 0.5061 - accuracy: 0.1827 - val_loss: 18404860428812288.0000 - val_accuracy: 0.0000e+00\n",
            "Epoch 80/100\n",
            "38/38 [==============================] - 0s 5ms/step - loss: 0.5061 - accuracy: 0.1884 - val_loss: 18404860428812288.0000 - val_accuracy: 0.0000e+00\n",
            "Epoch 81/100\n",
            "38/38 [==============================] - 0s 5ms/step - loss: 0.5061 - accuracy: 0.1865 - val_loss: 18404860428812288.0000 - val_accuracy: 0.0000e+00\n",
            "Epoch 82/100\n",
            "38/38 [==============================] - 0s 6ms/step - loss: 0.5061 - accuracy: 0.1876 - val_loss: 18404860428812288.0000 - val_accuracy: 0.0000e+00\n",
            "Epoch 83/100\n",
            "38/38 [==============================] - 0s 5ms/step - loss: 0.5061 - accuracy: 0.1841 - val_loss: 18404860428812288.0000 - val_accuracy: 0.0000e+00\n",
            "Epoch 84/100\n",
            "38/38 [==============================] - 0s 5ms/step - loss: 0.5061 - accuracy: 0.1848 - val_loss: 18404860428812288.0000 - val_accuracy: 0.0000e+00\n",
            "Epoch 85/100\n",
            "38/38 [==============================] - 0s 5ms/step - loss: 0.5061 - accuracy: 0.1895 - val_loss: 18404860428812288.0000 - val_accuracy: 0.0000e+00\n",
            "Epoch 86/100\n",
            "38/38 [==============================] - 0s 5ms/step - loss: 0.5061 - accuracy: 0.1867 - val_loss: 18404860428812288.0000 - val_accuracy: 0.0000e+00\n",
            "Epoch 87/100\n",
            "38/38 [==============================] - 0s 6ms/step - loss: 0.5061 - accuracy: 0.1859 - val_loss: 18404860428812288.0000 - val_accuracy: 0.0000e+00\n",
            "Epoch 88/100\n",
            "38/38 [==============================] - 0s 6ms/step - loss: 0.5061 - accuracy: 0.1844 - val_loss: 18404860428812288.0000 - val_accuracy: 0.0000e+00\n",
            "Epoch 89/100\n",
            "38/38 [==============================] - 0s 6ms/step - loss: 0.5061 - accuracy: 0.1866 - val_loss: 18404860428812288.0000 - val_accuracy: 0.0000e+00\n",
            "Epoch 90/100\n",
            "38/38 [==============================] - 0s 5ms/step - loss: 0.5061 - accuracy: 0.1851 - val_loss: 18404860428812288.0000 - val_accuracy: 0.0000e+00\n",
            "Epoch 91/100\n",
            "38/38 [==============================] - 0s 5ms/step - loss: 0.5061 - accuracy: 0.1867 - val_loss: 18404860428812288.0000 - val_accuracy: 0.0000e+00\n",
            "Epoch 92/100\n",
            "38/38 [==============================] - 0s 4ms/step - loss: 0.5061 - accuracy: 0.1852 - val_loss: 18404860428812288.0000 - val_accuracy: 0.0000e+00\n",
            "Epoch 93/100\n",
            "38/38 [==============================] - 0s 6ms/step - loss: 0.5061 - accuracy: 0.1851 - val_loss: 18404860428812288.0000 - val_accuracy: 0.0000e+00\n",
            "Epoch 94/100\n",
            "38/38 [==============================] - 0s 6ms/step - loss: 0.5061 - accuracy: 0.1858 - val_loss: 18404860428812288.0000 - val_accuracy: 0.0000e+00\n",
            "Epoch 95/100\n",
            "38/38 [==============================] - 0s 5ms/step - loss: 0.5061 - accuracy: 0.1845 - val_loss: 18404860428812288.0000 - val_accuracy: 0.0000e+00\n",
            "Epoch 96/100\n",
            "38/38 [==============================] - 0s 5ms/step - loss: 0.5061 - accuracy: 0.1865 - val_loss: 18404860428812288.0000 - val_accuracy: 0.0000e+00\n",
            "Epoch 97/100\n",
            "38/38 [==============================] - 0s 6ms/step - loss: 0.5061 - accuracy: 0.1851 - val_loss: 18404860428812288.0000 - val_accuracy: 0.0000e+00\n",
            "Epoch 98/100\n",
            "38/38 [==============================] - 0s 5ms/step - loss: 0.5061 - accuracy: 0.1860 - val_loss: 18404860428812288.0000 - val_accuracy: 0.0000e+00\n",
            "Epoch 99/100\n",
            "38/38 [==============================] - 0s 7ms/step - loss: 0.5061 - accuracy: 0.1832 - val_loss: 18404860428812288.0000 - val_accuracy: 0.0000e+00\n",
            "Epoch 100/100\n",
            "38/38 [==============================] - 0s 7ms/step - loss: 0.5061 - accuracy: 0.1817 - val_loss: 18404860428812288.0000 - val_accuracy: 0.0000e+00\n"
          ]
        }
      ],
      "source": [
        "if model_selection[model_flag]==\"ALL\" or model_selection[model_flag] == \"AE\":\n",
        "  # training the model on training dataset\n",
        "  history = autoencoder.fit(X_train, X_train, epochs=100,batch_size=500,validation_data=(X_test, X_test)).history"
      ]
    },
    {
      "cell_type": "code",
      "execution_count": null,
      "metadata": {
        "id": "AdtR3-9xLliU",
        "colab": {
          "base_uri": "https://localhost:8080/"
        },
        "outputId": "e4e55430-a97e-4477-dbdb-b80f04e37672"
      },
      "outputs": [
        {
          "output_type": "stream",
          "name": "stdout",
          "text": [
            "Saved model to disk\n",
            "Loaded model from disk\n"
          ]
        }
      ],
      "source": [
        "if model_selection[model_flag]==\"ALL\" or model_selection[model_flag] == \"AE\":\n",
        "  filepath = '/content/drive/MyDrive/Colab_Notebooks/Models/ae_binary'+model_name_suffix+'.json'\n",
        "  weightspath = '/content/drive/MyDrive/Colab_Notebooks/Weights/ae_binary'+model_name_suffix+'.h5'\n",
        "  if (not path.isfile(filepath)): \n",
        "    # serialize model to JSON\n",
        "    autoencoder_json = autoencoder.to_json()\n",
        "    with open(filepath, \"w\") as json_file:\n",
        "      json_file.write(autoencoder_json)\n",
        "\n",
        "    # serialize weights to HDF5\n",
        "    autoencoder.save_weights(weightspath)\n",
        "    print(\"Saved model to disk\")\n",
        "\n",
        "    # load json and create model\n",
        "    json_file = open(filepath, 'r')\n",
        "    loaded_model_json = json_file.read()\n",
        "    json_file.close()\n",
        "    autoencoder = model_from_json(loaded_model_json)\n",
        "\n",
        "    # load weights into new model\n",
        "    autoencoder.load_weights(weightspath)\n",
        "    print(\"Loaded model from disk\")"
      ]
    },
    {
      "cell_type": "code",
      "execution_count": null,
      "metadata": {
        "id": "Wqr6HVtMLwx9"
      },
      "outputs": [],
      "source": [
        "if model_selection[model_flag]==\"ALL\" or model_selection[model_flag] == \"AE\":\n",
        "  # defining loss function, optimizer, metrics and then compiling model\n",
        "  autoencoder.compile(optimizer='adam', loss='mean_squared_error',metrics=['accuracy'])"
      ]
    },
    {
      "cell_type": "code",
      "execution_count": null,
      "metadata": {
        "id": "FQrjCk2hL09x",
        "colab": {
          "base_uri": "https://localhost:8080/"
        },
        "outputId": "e3ab6b6c-c3c7-46fa-a992-3b1c0f2e4257"
      },
      "outputs": [
        {
          "output_type": "stream",
          "name": "stdout",
          "text": [
            "196/196 [==============================] - 1s 2ms/step - loss: 18404856133844992.0000 - accuracy: 0.0000e+00\n",
            "Test results - Loss: 1.840485613384499e+16 - Accuracy: 0.0%\n"
          ]
        }
      ],
      "source": [
        "if model_selection[model_flag]==\"ALL\" or model_selection[model_flag] == \"AE\":\n",
        "  # predicting target attribute on testing dataset\n",
        "  test_results = autoencoder.evaluate(X_test, X_test, verbose=1)\n",
        "  print(f'Test results - Loss: {test_results[0]} - Accuracy: {test_results[1]}%')"
      ]
    },
    {
      "cell_type": "code",
      "execution_count": null,
      "metadata": {
        "id": "VqQsjSZcL1-B",
        "colab": {
          "base_uri": "https://localhost:8080/",
          "height": 472
        },
        "outputId": "cce30d86-0da6-45e5-9e26-a48613721b86"
      },
      "outputs": [
        {
          "output_type": "display_data",
          "data": {
            "text/plain": [
              "<Figure size 640x480 with 1 Axes>"
            ],
            "image/png": "[encoded data removed]"
          },
          "metadata": {}
        }
      ],
      "source": [
        "if model_selection[model_flag]==\"ALL\" or model_selection[model_flag] == \"AE\":\n",
        "  # Plot of loss vs epoch of train and test dataset\n",
        "  plt.plot(history['loss'])\n",
        "  plt.plot(history['val_loss'])\n",
        "  plt.title(\"Plot of loss vs epoch for train and test dataset\")\n",
        "  plt.ylabel('loss')\n",
        "  plt.xlabel('epoch')\n",
        "  plt.legend(['train', 'test'], loc='upper right')\n",
        "  plt.savefig('/content/drive/MyDrive/Colab_Notebooks/Plots/ae_binary_loss.png')\n",
        "  plt.show()"
      ]
    },
    {
      "cell_type": "code",
      "execution_count": null,
      "metadata": {
        "id": "fkjD9QXKL25Z",
        "colab": {
          "base_uri": "https://localhost:8080/",
          "height": 472
        },
        "outputId": "6c173409-4577-4421-bd46-4a235a197053"
      },
      "outputs": [
        {
          "output_type": "display_data",
          "data": {
            "text/plain": [
              "<Figure size 640x480 with 1 Axes>"
            ],
            "image/png": "[encoded data removed]"
          },
          "metadata": {}
        }
      ],
      "source": [
        "if model_selection[model_flag]==\"ALL\" or model_selection[model_flag] == \"AE\":\n",
        "  # Plot of accuracy vs epoch of train and test dataset\n",
        "  plt.plot(history['accuracy'])\n",
        "  plt.plot(history['val_accuracy'])\n",
        "  plt.title(\"Plot of accuracy vs epoch for train and test dataset\")\n",
        "  plt.ylabel('accuracy')\n",
        "  plt.xlabel('epoch')\n",
        "  plt.legend(['train', 'test'], loc='best')\n",
        "  plt.savefig('/content/drive/MyDrive/Colab_Notebooks/Plots/ae_binary_accuracy.png')\n",
        "  plt.show()"
      ]
    },
    {
      "cell_type": "code",
      "execution_count": null,
      "metadata": {
        "id": "lf9q83sBMGPD"
      },
      "outputs": [],
      "source": [
        "if model_selection[model_flag]==\"ALL\" or model_selection[model_flag] == \"AE\":\n",
        "  # representation of model layers\n",
        "  plot_model(autoencoder, to_file='/content/drive/MyDrive/Colab_Notebooks/Plots/ae_binary.png', show_shapes=True,)"
      ]
    },
    {
      "cell_type": "code",
      "execution_count": null,
      "metadata": {
        "id": "SFIXKGwuMLFo",
        "colab": {
          "base_uri": "https://localhost:8080/"
        },
        "outputId": "24c8b23e-9a7b-4f74-c6db-f4ea44478501"
      },
      "outputs": [
        {
          "output_type": "stream",
          "name": "stdout",
          "text": [
            "196/196 [==============================] - 0s 2ms/step\n"
          ]
        }
      ],
      "source": [
        "if model_selection[model_flag]==\"ALL\" or model_selection[model_flag] == \"AE\":\n",
        "  # calculating reconstruction error \n",
        "  predictions = autoencoder.predict(X_test)"
      ]
    },
    {
      "cell_type": "code",
      "execution_count": null,
      "metadata": {
        "id": "cqKJCyZnMMEG"
      },
      "outputs": [],
      "source": [
        "if model_selection[model_flag]==\"ALL\" or model_selection[model_flag] == \"AE\":\n",
        "  mse = np.mean(np.power(X_test - predictions, 2), axis=1)\n",
        "  error_df = pd.DataFrame({'reconstruction_error': mse,\n",
        "                           'true_class': y_test})"
      ]
    },
    {
      "cell_type": "code",
      "execution_count": null,
      "metadata": {
        "id": "EdQJudbDMhmB",
        "colab": {
          "base_uri": "https://localhost:8080/"
        },
        "outputId": "40aa6fdc-4d42-48cf-b3ff-de96c4c579ab"
      },
      "outputs": [
        {
          "output_type": "stream",
          "name": "stdout",
          "text": [
            "(6261, 116)\n"
          ]
        }
      ],
      "source": [
        "if model_selection[model_flag]==\"ALL\" or model_selection[model_flag] == \"AE\":\n",
        "  error_df.describe()\n",
        "  print(predictions.shape)"
      ]
    },
    {
      "cell_type": "markdown",
      "metadata": {
        "id": "PHsaAAMmNQrs"
      },
      "source": [
        "## **AE Classifier**"
      ]
    },
    {
      "cell_type": "code",
      "execution_count": null,
      "metadata": {
        "id": "1hK07LDBMoZg"
      },
      "outputs": [],
      "source": [
        "if model_selection[model_flag]==\"ALL\" or model_selection[model_flag] == \"AE\":\n",
        "  i_dim = predictions.shape[1]\n",
        "\n",
        "  #input layer\n",
        "  i_layer = Input(shape=(i_dim, ))\n",
        "  #hidden layer with 50 neurons\n",
        "  fvector = Dense(50, activation=\"sigmoid\")(i_layer)                    \n",
        "  #doutput layer\n",
        "  o_layer = Dense(1, activation='sigmoid')(fvector)"
      ]
    },
    {
      "cell_type": "code",
      "execution_count": null,
      "metadata": {
        "id": "Efq77rVINXWE"
      },
      "outputs": [],
      "source": [
        "if model_selection[model_flag]==\"ALL\" or model_selection[model_flag] == \"AE\":\n",
        "  # creating model with input, encoding, decoding, output layers\n",
        "  ae_classifier = Model(inputs=i_layer, outputs=o_layer)\n",
        "\n",
        "  # defining loss function, optimizer, metrics and then compiling model\n",
        "  ae_classifier.compile(optimizer='adam', loss='binary_crossentropy',metrics=['accuracy'])"
      ]
    },
    {
      "cell_type": "code",
      "execution_count": null,
      "metadata": {
        "id": "0Yl594VGNX1W",
        "colab": {
          "base_uri": "https://localhost:8080/"
        },
        "outputId": "82b4c622-05bc-4a7a-a81c-2097b7c67d99"
      },
      "outputs": [
        {
          "output_type": "stream",
          "name": "stdout",
          "text": [
            "Model: \"model_1\"\n",
            "_________________________________________________________________\n",
            " Layer (type)                Output Shape              Param #   \n",
            "=================================================================\n",
            " input_2 (InputLayer)        [(None, 116)]             0         \n",
            "                                                                 \n",
            " dense_8 (Dense)             (None, 50)                5850      \n",
            "                                                                 \n",
            " dense_9 (Dense)             (None, 1)                 51        \n",
            "                                                                 \n",
            "=================================================================\n",
            "Total params: 5,901\n",
            "Trainable params: 5,901\n",
            "Non-trainable params: 0\n",
            "_________________________________________________________________\n"
          ]
        }
      ],
      "source": [
        "if model_selection[model_flag]==\"ALL\" or model_selection[model_flag] == \"AE\":\n",
        "  # summary of model layers\n",
        "  ae_classifier.summary()"
      ]
    },
    {
      "cell_type": "code",
      "execution_count": null,
      "metadata": {
        "id": "23n8Qt0uNX8Z",
        "colab": {
          "base_uri": "https://localhost:8080/"
        },
        "outputId": "f12b4fcc-2727-4f5e-af65-8c65d95da2bd"
      },
      "outputs": [
        {
          "output_type": "stream",
          "name": "stdout",
          "text": [
            "Epoch 1/300\n",
            "11/11 [==============================] - 1s 19ms/step - loss: 0.7177 - accuracy: 0.5419 - val_loss: 0.7052 - val_accuracy: 0.5307\n",
            "Epoch 2/300\n",
            "11/11 [==============================] - 0s 6ms/step - loss: 0.6950 - accuracy: 0.5419 - val_loss: 0.6932 - val_accuracy: 0.5307\n",
            "Epoch 3/300\n",
            "11/11 [==============================] - 0s 7ms/step - loss: 0.6895 - accuracy: 0.5419 - val_loss: 0.6910 - val_accuracy: 0.5307\n",
            "Epoch 4/300\n",
            "11/11 [==============================] - 0s 8ms/step - loss: 0.6890 - accuracy: 0.5419 - val_loss: 0.6906 - val_accuracy: 0.5307\n",
            "Epoch 5/300\n",
            "11/11 [==============================] - 0s 7ms/step - loss: 0.6889 - accuracy: 0.5419 - val_loss: 0.6906 - val_accuracy: 0.5307\n",
            "Epoch 6/300\n",
            "11/11 [==============================] - 0s 7ms/step - loss: 0.6889 - accuracy: 0.5419 - val_loss: 0.6909 - val_accuracy: 0.5307\n",
            "Epoch 7/300\n",
            "11/11 [==============================] - 0s 6ms/step - loss: 0.6887 - accuracy: 0.5419 - val_loss: 0.6903 - val_accuracy: 0.5307\n",
            "Epoch 8/300\n",
            "11/11 [==============================] - 0s 8ms/step - loss: 0.6886 - accuracy: 0.5419 - val_loss: 0.6898 - val_accuracy: 0.5307\n",
            "Epoch 9/300\n",
            "11/11 [==============================] - 0s 7ms/step - loss: 0.6894 - accuracy: 0.5419 - val_loss: 0.6900 - val_accuracy: 0.5307\n",
            "Epoch 10/300\n",
            "11/11 [==============================] - 0s 8ms/step - loss: 0.6895 - accuracy: 0.5419 - val_loss: 0.6896 - val_accuracy: 0.5307\n",
            "Epoch 11/300\n",
            "11/11 [==============================] - 0s 8ms/step - loss: 0.6887 - accuracy: 0.5419 - val_loss: 0.6895 - val_accuracy: 0.5307\n",
            "Epoch 12/300\n",
            "11/11 [==============================] - 0s 8ms/step - loss: 0.6882 - accuracy: 0.5419 - val_loss: 0.6902 - val_accuracy: 0.5307\n",
            "Epoch 13/300\n",
            "11/11 [==============================] - 0s 10ms/step - loss: 0.6883 - accuracy: 0.5419 - val_loss: 0.6902 - val_accuracy: 0.5307\n",
            "Epoch 14/300\n",
            "11/11 [==============================] - 0s 10ms/step - loss: 0.6882 - accuracy: 0.5419 - val_loss: 0.6897 - val_accuracy: 0.5307\n",
            "Epoch 15/300\n",
            "11/11 [==============================] - 0s 10ms/step - loss: 0.6880 - accuracy: 0.5419 - val_loss: 0.6889 - val_accuracy: 0.5307\n",
            "Epoch 16/300\n",
            "11/11 [==============================] - 0s 8ms/step - loss: 0.6881 - accuracy: 0.5419 - val_loss: 0.6887 - val_accuracy: 0.5307\n",
            "Epoch 17/300\n",
            "11/11 [==============================] - 0s 8ms/step - loss: 0.6883 - accuracy: 0.5419 - val_loss: 0.6886 - val_accuracy: 0.5307\n",
            "Epoch 18/300\n",
            "11/11 [==============================] - 0s 10ms/step - loss: 0.6878 - accuracy: 0.5419 - val_loss: 0.6885 - val_accuracy: 0.5307\n",
            "Epoch 19/300\n",
            "11/11 [==============================] - 0s 10ms/step - loss: 0.6877 - accuracy: 0.5419 - val_loss: 0.6884 - val_accuracy: 0.5307\n",
            "Epoch 20/300\n",
            "11/11 [==============================] - 0s 9ms/step - loss: 0.6888 - accuracy: 0.5419 - val_loss: 0.6885 - val_accuracy: 0.5307\n",
            "Epoch 21/300\n",
            "11/11 [==============================] - 0s 8ms/step - loss: 0.6873 - accuracy: 0.5419 - val_loss: 0.6886 - val_accuracy: 0.5307\n",
            "Epoch 22/300\n",
            "11/11 [==============================] - 0s 9ms/step - loss: 0.6872 - accuracy: 0.5419 - val_loss: 0.6884 - val_accuracy: 0.5307\n",
            "Epoch 23/300\n",
            "11/11 [==============================] - 0s 10ms/step - loss: 0.6870 - accuracy: 0.5419 - val_loss: 0.6889 - val_accuracy: 0.5307\n",
            "Epoch 24/300\n",
            "11/11 [==============================] - 0s 10ms/step - loss: 0.6872 - accuracy: 0.5419 - val_loss: 0.6884 - val_accuracy: 0.5307\n",
            "Epoch 25/300\n",
            "11/11 [==============================] - 0s 11ms/step - loss: 0.6869 - accuracy: 0.5419 - val_loss: 0.6875 - val_accuracy: 0.5307\n",
            "Epoch 26/300\n",
            "11/11 [==============================] - 0s 10ms/step - loss: 0.6871 - accuracy: 0.5419 - val_loss: 0.6874 - val_accuracy: 0.5307\n",
            "Epoch 27/300\n",
            "11/11 [==============================] - 0s 9ms/step - loss: 0.6870 - accuracy: 0.5419 - val_loss: 0.6875 - val_accuracy: 0.5307\n",
            "Epoch 28/300\n",
            "11/11 [==============================] - 0s 10ms/step - loss: 0.6869 - accuracy: 0.5419 - val_loss: 0.6872 - val_accuracy: 0.5307\n",
            "Epoch 29/300\n",
            "11/11 [==============================] - 0s 10ms/step - loss: 0.6867 - accuracy: 0.5419 - val_loss: 0.6873 - val_accuracy: 0.5307\n",
            "Epoch 30/300\n",
            "11/11 [==============================] - 0s 9ms/step - loss: 0.6864 - accuracy: 0.5419 - val_loss: 0.6872 - val_accuracy: 0.5307\n",
            "Epoch 31/300\n",
            "11/11 [==============================] - 0s 10ms/step - loss: 0.6866 - accuracy: 0.5419 - val_loss: 0.6869 - val_accuracy: 0.5307\n",
            "Epoch 32/300\n",
            "11/11 [==============================] - 0s 10ms/step - loss: 0.6862 - accuracy: 0.5419 - val_loss: 0.6889 - val_accuracy: 0.5307\n",
            "Epoch 33/300\n",
            "11/11 [==============================] - 0s 10ms/step - loss: 0.6874 - accuracy: 0.5419 - val_loss: 0.6891 - val_accuracy: 0.5307\n",
            "Epoch 34/300\n",
            "11/11 [==============================] - 0s 9ms/step - loss: 0.6866 - accuracy: 0.5419 - val_loss: 0.6866 - val_accuracy: 0.5307\n",
            "Epoch 35/300\n",
            "11/11 [==============================] - 0s 10ms/step - loss: 0.6872 - accuracy: 0.5419 - val_loss: 0.6875 - val_accuracy: 0.5307\n",
            "Epoch 36/300\n",
            "11/11 [==============================] - 0s 9ms/step - loss: 0.6877 - accuracy: 0.5419 - val_loss: 0.6864 - val_accuracy: 0.5307\n",
            "Epoch 37/300\n",
            "11/11 [==============================] - 0s 9ms/step - loss: 0.6863 - accuracy: 0.5419 - val_loss: 0.6888 - val_accuracy: 0.5307\n",
            "Epoch 38/300\n",
            "11/11 [==============================] - 0s 9ms/step - loss: 0.6872 - accuracy: 0.5419 - val_loss: 0.6886 - val_accuracy: 0.5307\n",
            "Epoch 39/300\n",
            "11/11 [==============================] - 0s 9ms/step - loss: 0.6864 - accuracy: 0.5419 - val_loss: 0.6870 - val_accuracy: 0.5307\n",
            "Epoch 40/300\n",
            "11/11 [==============================] - 0s 10ms/step - loss: 0.6857 - accuracy: 0.5419 - val_loss: 0.6867 - val_accuracy: 0.5307\n",
            "Epoch 41/300\n",
            "11/11 [==============================] - 0s 10ms/step - loss: 0.6857 - accuracy: 0.5419 - val_loss: 0.6869 - val_accuracy: 0.5307\n",
            "Epoch 42/300\n",
            "11/11 [==============================] - 0s 9ms/step - loss: 0.6859 - accuracy: 0.5419 - val_loss: 0.6873 - val_accuracy: 0.5307\n",
            "Epoch 43/300\n",
            "11/11 [==============================] - 0s 11ms/step - loss: 0.6856 - accuracy: 0.5419 - val_loss: 0.6861 - val_accuracy: 0.5307\n",
            "Epoch 44/300\n",
            "11/11 [==============================] - 0s 10ms/step - loss: 0.6857 - accuracy: 0.5419 - val_loss: 0.6862 - val_accuracy: 0.5307\n",
            "Epoch 45/300\n",
            "11/11 [==============================] - 0s 9ms/step - loss: 0.6881 - accuracy: 0.4986 - val_loss: 0.6869 - val_accuracy: 0.5307\n",
            "Epoch 46/300\n",
            "11/11 [==============================] - 0s 11ms/step - loss: 0.6866 - accuracy: 0.5419 - val_loss: 0.6857 - val_accuracy: 0.5307\n",
            "Epoch 47/300\n",
            "11/11 [==============================] - 0s 9ms/step - loss: 0.6853 - accuracy: 0.5419 - val_loss: 0.6871 - val_accuracy: 0.5307\n",
            "Epoch 48/300\n",
            "11/11 [==============================] - 0s 6ms/step - loss: 0.6863 - accuracy: 0.5419 - val_loss: 0.6880 - val_accuracy: 0.5307\n",
            "Epoch 49/300\n",
            "11/11 [==============================] - 0s 7ms/step - loss: 0.6858 - accuracy: 0.5419 - val_loss: 0.6867 - val_accuracy: 0.5307\n",
            "Epoch 50/300\n",
            "11/11 [==============================] - 0s 9ms/step - loss: 0.6852 - accuracy: 0.5419 - val_loss: 0.6859 - val_accuracy: 0.5307\n",
            "Epoch 51/300\n",
            "11/11 [==============================] - 0s 7ms/step - loss: 0.6848 - accuracy: 0.5419 - val_loss: 0.6854 - val_accuracy: 0.5307\n",
            "Epoch 52/300\n",
            "11/11 [==============================] - 0s 6ms/step - loss: 0.6853 - accuracy: 0.5419 - val_loss: 0.6854 - val_accuracy: 0.5307\n",
            "Epoch 53/300\n",
            "11/11 [==============================] - 0s 6ms/step - loss: 0.6856 - accuracy: 0.5419 - val_loss: 0.6852 - val_accuracy: 0.5307\n",
            "Epoch 54/300\n",
            "11/11 [==============================] - 0s 6ms/step - loss: 0.6847 - accuracy: 0.5419 - val_loss: 0.6862 - val_accuracy: 0.5307\n",
            "Epoch 55/300\n",
            "11/11 [==============================] - 0s 6ms/step - loss: 0.6851 - accuracy: 0.5419 - val_loss: 0.6857 - val_accuracy: 0.5307\n",
            "Epoch 56/300\n",
            "11/11 [==============================] - 0s 6ms/step - loss: 0.6847 - accuracy: 0.5419 - val_loss: 0.6854 - val_accuracy: 0.5307\n",
            "Epoch 57/300\n",
            "11/11 [==============================] - 0s 6ms/step - loss: 0.6847 - accuracy: 0.5419 - val_loss: 0.6861 - val_accuracy: 0.5307\n",
            "Epoch 58/300\n",
            "11/11 [==============================] - 0s 7ms/step - loss: 0.6850 - accuracy: 0.5419 - val_loss: 0.6867 - val_accuracy: 0.5307\n",
            "Epoch 59/300\n",
            "11/11 [==============================] - 0s 6ms/step - loss: 0.6851 - accuracy: 0.5419 - val_loss: 0.6860 - val_accuracy: 0.5307\n",
            "Epoch 60/300\n",
            "11/11 [==============================] - 0s 8ms/step - loss: 0.6845 - accuracy: 0.5419 - val_loss: 0.6851 - val_accuracy: 0.5307\n",
            "Epoch 61/300\n",
            "11/11 [==============================] - 0s 7ms/step - loss: 0.6845 - accuracy: 0.5419 - val_loss: 0.6857 - val_accuracy: 0.5307\n",
            "Epoch 62/300\n",
            "11/11 [==============================] - 0s 6ms/step - loss: 0.6847 - accuracy: 0.5419 - val_loss: 0.6855 - val_accuracy: 0.5307\n",
            "Epoch 63/300\n",
            "11/11 [==============================] - 0s 7ms/step - loss: 0.6846 - accuracy: 0.5419 - val_loss: 0.6849 - val_accuracy: 0.5307\n",
            "Epoch 64/300\n",
            "11/11 [==============================] - 0s 7ms/step - loss: 0.6846 - accuracy: 0.5419 - val_loss: 0.6870 - val_accuracy: 0.5307\n",
            "Epoch 65/300\n",
            "11/11 [==============================] - 0s 7ms/step - loss: 0.6861 - accuracy: 0.5419 - val_loss: 0.6881 - val_accuracy: 0.5307\n",
            "Epoch 66/300\n",
            "11/11 [==============================] - 0s 6ms/step - loss: 0.6857 - accuracy: 0.5419 - val_loss: 0.6861 - val_accuracy: 0.5307\n",
            "Epoch 67/300\n",
            "11/11 [==============================] - 0s 6ms/step - loss: 0.6845 - accuracy: 0.5419 - val_loss: 0.6845 - val_accuracy: 0.5307\n",
            "Epoch 68/300\n",
            "11/11 [==============================] - 0s 8ms/step - loss: 0.6840 - accuracy: 0.5419 - val_loss: 0.6848 - val_accuracy: 0.5307\n",
            "Epoch 69/300\n",
            "11/11 [==============================] - 0s 7ms/step - loss: 0.6841 - accuracy: 0.5419 - val_loss: 0.6844 - val_accuracy: 0.5307\n",
            "Epoch 70/300\n",
            "11/11 [==============================] - 0s 8ms/step - loss: 0.6840 - accuracy: 0.5419 - val_loss: 0.6849 - val_accuracy: 0.5307\n",
            "Epoch 71/300\n",
            "11/11 [==============================] - 0s 7ms/step - loss: 0.6841 - accuracy: 0.5419 - val_loss: 0.6842 - val_accuracy: 0.5307\n",
            "Epoch 72/300\n",
            "11/11 [==============================] - 0s 6ms/step - loss: 0.6839 - accuracy: 0.5419 - val_loss: 0.6848 - val_accuracy: 0.5307\n",
            "Epoch 73/300\n",
            "11/11 [==============================] - 0s 7ms/step - loss: 0.6841 - accuracy: 0.5419 - val_loss: 0.6852 - val_accuracy: 0.5307\n",
            "Epoch 74/300\n",
            "11/11 [==============================] - 0s 8ms/step - loss: 0.6841 - accuracy: 0.5419 - val_loss: 0.6849 - val_accuracy: 0.5307\n",
            "Epoch 75/300\n",
            "11/11 [==============================] - 0s 7ms/step - loss: 0.6839 - accuracy: 0.5419 - val_loss: 0.6840 - val_accuracy: 0.5307\n",
            "Epoch 76/300\n",
            "11/11 [==============================] - 0s 6ms/step - loss: 0.6839 - accuracy: 0.5419 - val_loss: 0.6843 - val_accuracy: 0.5307\n",
            "Epoch 77/300\n",
            "11/11 [==============================] - 0s 6ms/step - loss: 0.6838 - accuracy: 0.5419 - val_loss: 0.6842 - val_accuracy: 0.5307\n",
            "Epoch 78/300\n",
            "11/11 [==============================] - 0s 6ms/step - loss: 0.6838 - accuracy: 0.5419 - val_loss: 0.6846 - val_accuracy: 0.5307\n",
            "Epoch 79/300\n",
            "11/11 [==============================] - 0s 7ms/step - loss: 0.6838 - accuracy: 0.5419 - val_loss: 0.6844 - val_accuracy: 0.5307\n",
            "Epoch 80/300\n",
            "11/11 [==============================] - 0s 6ms/step - loss: 0.6838 - accuracy: 0.5419 - val_loss: 0.6838 - val_accuracy: 0.5307\n",
            "Epoch 81/300\n",
            "11/11 [==============================] - 0s 6ms/step - loss: 0.6842 - accuracy: 0.5419 - val_loss: 0.6838 - val_accuracy: 0.5307\n",
            "Epoch 82/300\n",
            "11/11 [==============================] - 0s 7ms/step - loss: 0.6841 - accuracy: 0.5419 - val_loss: 0.6837 - val_accuracy: 0.5307\n",
            "Epoch 83/300\n",
            "11/11 [==============================] - 0s 7ms/step - loss: 0.6843 - accuracy: 0.5419 - val_loss: 0.6838 - val_accuracy: 0.5307\n",
            "Epoch 84/300\n",
            "11/11 [==============================] - 0s 8ms/step - loss: 0.6840 - accuracy: 0.5419 - val_loss: 0.6838 - val_accuracy: 0.5307\n",
            "Epoch 85/300\n",
            "11/11 [==============================] - 0s 7ms/step - loss: 0.6835 - accuracy: 0.5419 - val_loss: 0.6854 - val_accuracy: 0.5307\n",
            "Epoch 86/300\n",
            "11/11 [==============================] - 0s 6ms/step - loss: 0.6842 - accuracy: 0.5419 - val_loss: 0.6853 - val_accuracy: 0.5307\n",
            "Epoch 87/300\n",
            "11/11 [==============================] - 0s 8ms/step - loss: 0.6838 - accuracy: 0.5419 - val_loss: 0.6839 - val_accuracy: 0.5307\n",
            "Epoch 88/300\n",
            "11/11 [==============================] - 0s 8ms/step - loss: 0.6836 - accuracy: 0.5419 - val_loss: 0.6845 - val_accuracy: 0.5307\n",
            "Epoch 89/300\n",
            "11/11 [==============================] - 0s 8ms/step - loss: 0.6835 - accuracy: 0.5419 - val_loss: 0.6838 - val_accuracy: 0.5307\n",
            "Epoch 90/300\n",
            "11/11 [==============================] - 0s 8ms/step - loss: 0.6839 - accuracy: 0.5419 - val_loss: 0.6834 - val_accuracy: 0.5307\n",
            "Epoch 91/300\n",
            "11/11 [==============================] - 0s 8ms/step - loss: 0.6835 - accuracy: 0.5419 - val_loss: 0.6840 - val_accuracy: 0.5307\n",
            "Epoch 92/300\n",
            "11/11 [==============================] - 0s 6ms/step - loss: 0.6834 - accuracy: 0.5419 - val_loss: 0.6845 - val_accuracy: 0.5307\n",
            "Epoch 93/300\n",
            "11/11 [==============================] - 0s 9ms/step - loss: 0.6836 - accuracy: 0.5419 - val_loss: 0.6847 - val_accuracy: 0.5307\n",
            "Epoch 94/300\n",
            "11/11 [==============================] - 0s 7ms/step - loss: 0.6837 - accuracy: 0.5419 - val_loss: 0.6849 - val_accuracy: 0.5307\n",
            "Epoch 95/300\n",
            "11/11 [==============================] - 0s 7ms/step - loss: 0.6835 - accuracy: 0.5419 - val_loss: 0.6841 - val_accuracy: 0.5307\n",
            "Epoch 96/300\n",
            "11/11 [==============================] - 0s 8ms/step - loss: 0.6832 - accuracy: 0.5419 - val_loss: 0.6834 - val_accuracy: 0.5307\n",
            "Epoch 97/300\n",
            "11/11 [==============================] - 0s 8ms/step - loss: 0.6832 - accuracy: 0.5419 - val_loss: 0.6835 - val_accuracy: 0.5307\n",
            "Epoch 98/300\n",
            "11/11 [==============================] - 0s 7ms/step - loss: 0.6831 - accuracy: 0.5419 - val_loss: 0.6834 - val_accuracy: 0.5307\n",
            "Epoch 99/300\n",
            "11/11 [==============================] - 0s 6ms/step - loss: 0.6835 - accuracy: 0.5419 - val_loss: 0.6832 - val_accuracy: 0.5307\n",
            "Epoch 100/300\n",
            "11/11 [==============================] - 0s 8ms/step - loss: 0.6837 - accuracy: 0.5419 - val_loss: 0.6831 - val_accuracy: 0.5307\n",
            "Epoch 101/300\n",
            "11/11 [==============================] - 0s 7ms/step - loss: 0.6828 - accuracy: 0.5419 - val_loss: 0.6841 - val_accuracy: 0.5307\n",
            "Epoch 102/300\n",
            "11/11 [==============================] - 0s 7ms/step - loss: 0.6832 - accuracy: 0.5419 - val_loss: 0.6833 - val_accuracy: 0.5307\n",
            "Epoch 103/300\n",
            "11/11 [==============================] - 0s 8ms/step - loss: 0.6831 - accuracy: 0.5419 - val_loss: 0.6831 - val_accuracy: 0.5307\n",
            "Epoch 104/300\n",
            "11/11 [==============================] - 0s 6ms/step - loss: 0.6832 - accuracy: 0.5419 - val_loss: 0.6832 - val_accuracy: 0.5307\n",
            "Epoch 105/300\n",
            "11/11 [==============================] - 0s 8ms/step - loss: 0.6832 - accuracy: 0.5419 - val_loss: 0.6845 - val_accuracy: 0.5307\n",
            "Epoch 106/300\n",
            "11/11 [==============================] - 0s 8ms/step - loss: 0.6832 - accuracy: 0.5419 - val_loss: 0.6831 - val_accuracy: 0.5307\n",
            "Epoch 107/300\n",
            "11/11 [==============================] - 0s 7ms/step - loss: 0.6832 - accuracy: 0.5419 - val_loss: 0.6830 - val_accuracy: 0.5307\n",
            "Epoch 108/300\n",
            "11/11 [==============================] - 0s 8ms/step - loss: 0.6830 - accuracy: 0.5419 - val_loss: 0.6849 - val_accuracy: 0.5307\n",
            "Epoch 109/300\n",
            "11/11 [==============================] - 0s 6ms/step - loss: 0.6838 - accuracy: 0.5419 - val_loss: 0.6855 - val_accuracy: 0.5307\n",
            "Epoch 110/300\n",
            "11/11 [==============================] - 0s 7ms/step - loss: 0.6842 - accuracy: 0.5419 - val_loss: 0.6863 - val_accuracy: 0.5307\n",
            "Epoch 111/300\n",
            "11/11 [==============================] - 0s 6ms/step - loss: 0.6852 - accuracy: 0.5419 - val_loss: 0.6861 - val_accuracy: 0.5307\n",
            "Epoch 112/300\n",
            "11/11 [==============================] - 0s 6ms/step - loss: 0.6833 - accuracy: 0.5419 - val_loss: 0.6832 - val_accuracy: 0.5307\n",
            "Epoch 113/300\n",
            "11/11 [==============================] - 0s 7ms/step - loss: 0.6832 - accuracy: 0.5419 - val_loss: 0.6829 - val_accuracy: 0.5307\n",
            "Epoch 114/300\n",
            "11/11 [==============================] - 0s 8ms/step - loss: 0.6834 - accuracy: 0.5419 - val_loss: 0.6829 - val_accuracy: 0.5307\n",
            "Epoch 115/300\n",
            "11/11 [==============================] - 0s 8ms/step - loss: 0.6828 - accuracy: 0.5419 - val_loss: 0.6847 - val_accuracy: 0.5307\n",
            "Epoch 116/300\n",
            "11/11 [==============================] - 0s 7ms/step - loss: 0.6841 - accuracy: 0.5419 - val_loss: 0.6853 - val_accuracy: 0.5307\n",
            "Epoch 117/300\n",
            "11/11 [==============================] - 0s 7ms/step - loss: 0.6833 - accuracy: 0.5419 - val_loss: 0.6829 - val_accuracy: 0.5307\n",
            "Epoch 118/300\n",
            "11/11 [==============================] - 0s 7ms/step - loss: 0.6828 - accuracy: 0.5419 - val_loss: 0.6829 - val_accuracy: 0.5307\n",
            "Epoch 119/300\n",
            "11/11 [==============================] - 0s 8ms/step - loss: 0.6828 - accuracy: 0.5419 - val_loss: 0.6828 - val_accuracy: 0.5307\n",
            "Epoch 120/300\n",
            "11/11 [==============================] - 0s 8ms/step - loss: 0.6827 - accuracy: 0.5419 - val_loss: 0.6829 - val_accuracy: 0.5307\n",
            "Epoch 121/300\n",
            "11/11 [==============================] - 0s 6ms/step - loss: 0.6836 - accuracy: 0.5419 - val_loss: 0.6829 - val_accuracy: 0.5307\n",
            "Epoch 122/300\n",
            "11/11 [==============================] - 0s 8ms/step - loss: 0.6830 - accuracy: 0.5419 - val_loss: 0.6827 - val_accuracy: 0.5307\n",
            "Epoch 123/300\n",
            "11/11 [==============================] - 0s 8ms/step - loss: 0.6829 - accuracy: 0.5419 - val_loss: 0.6827 - val_accuracy: 0.5307\n",
            "Epoch 124/300\n",
            "11/11 [==============================] - 0s 7ms/step - loss: 0.6831 - accuracy: 0.5419 - val_loss: 0.6861 - val_accuracy: 0.5307\n",
            "Epoch 125/300\n",
            "11/11 [==============================] - 0s 7ms/step - loss: 0.6857 - accuracy: 0.5419 - val_loss: 0.6882 - val_accuracy: 0.5307\n",
            "Epoch 126/300\n",
            "11/11 [==============================] - 0s 7ms/step - loss: 0.6857 - accuracy: 0.5419 - val_loss: 0.6859 - val_accuracy: 0.5307\n",
            "Epoch 127/300\n",
            "11/11 [==============================] - 0s 8ms/step - loss: 0.6832 - accuracy: 0.5419 - val_loss: 0.6826 - val_accuracy: 0.5307\n",
            "Epoch 128/300\n",
            "11/11 [==============================] - 0s 8ms/step - loss: 0.6830 - accuracy: 0.5419 - val_loss: 0.6828 - val_accuracy: 0.5307\n",
            "Epoch 129/300\n",
            "11/11 [==============================] - 0s 9ms/step - loss: 0.6840 - accuracy: 0.5419 - val_loss: 0.6829 - val_accuracy: 0.5307\n",
            "Epoch 130/300\n",
            "11/11 [==============================] - 0s 8ms/step - loss: 0.6835 - accuracy: 0.5419 - val_loss: 0.6826 - val_accuracy: 0.5307\n",
            "Epoch 131/300\n",
            "11/11 [==============================] - 0s 7ms/step - loss: 0.6831 - accuracy: 0.5419 - val_loss: 0.6826 - val_accuracy: 0.5307\n",
            "Epoch 132/300\n",
            "11/11 [==============================] - 0s 9ms/step - loss: 0.6830 - accuracy: 0.5419 - val_loss: 0.6825 - val_accuracy: 0.5307\n",
            "Epoch 133/300\n",
            "11/11 [==============================] - 0s 8ms/step - loss: 0.6826 - accuracy: 0.5419 - val_loss: 0.6826 - val_accuracy: 0.5307\n",
            "Epoch 134/300\n",
            "11/11 [==============================] - 0s 6ms/step - loss: 0.6824 - accuracy: 0.5419 - val_loss: 0.6828 - val_accuracy: 0.5307\n",
            "Epoch 135/300\n",
            "11/11 [==============================] - 0s 8ms/step - loss: 0.6826 - accuracy: 0.5419 - val_loss: 0.6825 - val_accuracy: 0.5307\n",
            "Epoch 136/300\n",
            "11/11 [==============================] - 0s 8ms/step - loss: 0.6828 - accuracy: 0.5419 - val_loss: 0.6825 - val_accuracy: 0.5307\n",
            "Epoch 137/300\n",
            "11/11 [==============================] - 0s 7ms/step - loss: 0.6830 - accuracy: 0.5419 - val_loss: 0.6825 - val_accuracy: 0.5307\n",
            "Epoch 138/300\n",
            "11/11 [==============================] - 0s 6ms/step - loss: 0.6824 - accuracy: 0.5419 - val_loss: 0.6836 - val_accuracy: 0.5307\n",
            "Epoch 139/300\n",
            "11/11 [==============================] - 0s 7ms/step - loss: 0.6824 - accuracy: 0.5419 - val_loss: 0.6828 - val_accuracy: 0.5307\n",
            "Epoch 140/300\n",
            "11/11 [==============================] - 0s 7ms/step - loss: 0.6823 - accuracy: 0.5419 - val_loss: 0.6828 - val_accuracy: 0.5307\n",
            "Epoch 141/300\n",
            "11/11 [==============================] - 0s 6ms/step - loss: 0.6824 - accuracy: 0.5419 - val_loss: 0.6825 - val_accuracy: 0.5307\n",
            "Epoch 142/300\n",
            "11/11 [==============================] - 0s 8ms/step - loss: 0.6824 - accuracy: 0.5419 - val_loss: 0.6825 - val_accuracy: 0.5307\n",
            "Epoch 143/300\n",
            "11/11 [==============================] - 0s 7ms/step - loss: 0.6823 - accuracy: 0.5419 - val_loss: 0.6833 - val_accuracy: 0.5307\n",
            "Epoch 144/300\n",
            "11/11 [==============================] - 0s 6ms/step - loss: 0.6825 - accuracy: 0.5419 - val_loss: 0.6831 - val_accuracy: 0.5307\n",
            "Epoch 145/300\n",
            "11/11 [==============================] - 0s 8ms/step - loss: 0.6823 - accuracy: 0.5419 - val_loss: 0.6829 - val_accuracy: 0.5307\n",
            "Epoch 146/300\n",
            "11/11 [==============================] - 0s 8ms/step - loss: 0.6823 - accuracy: 0.5419 - val_loss: 0.6824 - val_accuracy: 0.5307\n",
            "Epoch 147/300\n",
            "11/11 [==============================] - 0s 7ms/step - loss: 0.6824 - accuracy: 0.5419 - val_loss: 0.6825 - val_accuracy: 0.5307\n",
            "Epoch 148/300\n",
            "11/11 [==============================] - 0s 8ms/step - loss: 0.6824 - accuracy: 0.5419 - val_loss: 0.6832 - val_accuracy: 0.5307\n",
            "Epoch 149/300\n",
            "11/11 [==============================] - 0s 7ms/step - loss: 0.6823 - accuracy: 0.5419 - val_loss: 0.6826 - val_accuracy: 0.5307\n",
            "Epoch 150/300\n",
            "11/11 [==============================] - 0s 8ms/step - loss: 0.6823 - accuracy: 0.5419 - val_loss: 0.6823 - val_accuracy: 0.5307\n",
            "Epoch 151/300\n",
            "11/11 [==============================] - 0s 6ms/step - loss: 0.6825 - accuracy: 0.5419 - val_loss: 0.6823 - val_accuracy: 0.5307\n",
            "Epoch 152/300\n",
            "11/11 [==============================] - 0s 10ms/step - loss: 0.6824 - accuracy: 0.5419 - val_loss: 0.6824 - val_accuracy: 0.5307\n",
            "Epoch 153/300\n",
            "11/11 [==============================] - 0s 7ms/step - loss: 0.6821 - accuracy: 0.5419 - val_loss: 0.6834 - val_accuracy: 0.5307\n",
            "Epoch 154/300\n",
            "11/11 [==============================] - 0s 8ms/step - loss: 0.6824 - accuracy: 0.5419 - val_loss: 0.6828 - val_accuracy: 0.5307\n",
            "Epoch 155/300\n",
            "11/11 [==============================] - 0s 6ms/step - loss: 0.6821 - accuracy: 0.5419 - val_loss: 0.6824 - val_accuracy: 0.5307\n",
            "Epoch 156/300\n",
            "11/11 [==============================] - 0s 7ms/step - loss: 0.6821 - accuracy: 0.5419 - val_loss: 0.6826 - val_accuracy: 0.5307\n",
            "Epoch 157/300\n",
            "11/11 [==============================] - 0s 8ms/step - loss: 0.6821 - accuracy: 0.5419 - val_loss: 0.6826 - val_accuracy: 0.5307\n",
            "Epoch 158/300\n",
            "11/11 [==============================] - 0s 7ms/step - loss: 0.6822 - accuracy: 0.5419 - val_loss: 0.6830 - val_accuracy: 0.5307\n",
            "Epoch 159/300\n",
            "11/11 [==============================] - 0s 8ms/step - loss: 0.6821 - accuracy: 0.5419 - val_loss: 0.6827 - val_accuracy: 0.5307\n",
            "Epoch 160/300\n",
            "11/11 [==============================] - 0s 7ms/step - loss: 0.6823 - accuracy: 0.5419 - val_loss: 0.6822 - val_accuracy: 0.5307\n",
            "Epoch 161/300\n",
            "11/11 [==============================] - 0s 6ms/step - loss: 0.6828 - accuracy: 0.5419 - val_loss: 0.6822 - val_accuracy: 0.5307\n",
            "Epoch 162/300\n",
            "11/11 [==============================] - 0s 6ms/step - loss: 0.6822 - accuracy: 0.5419 - val_loss: 0.6833 - val_accuracy: 0.5307\n",
            "Epoch 163/300\n",
            "11/11 [==============================] - 0s 7ms/step - loss: 0.6830 - accuracy: 0.5419 - val_loss: 0.6840 - val_accuracy: 0.5307\n",
            "Epoch 164/300\n",
            "11/11 [==============================] - 0s 7ms/step - loss: 0.6821 - accuracy: 0.5419 - val_loss: 0.6825 - val_accuracy: 0.5307\n",
            "Epoch 165/300\n",
            "11/11 [==============================] - 0s 7ms/step - loss: 0.6822 - accuracy: 0.5419 - val_loss: 0.6823 - val_accuracy: 0.5307\n",
            "Epoch 166/300\n",
            "11/11 [==============================] - 0s 11ms/step - loss: 0.6820 - accuracy: 0.5419 - val_loss: 0.6826 - val_accuracy: 0.5307\n",
            "Epoch 167/300\n",
            "11/11 [==============================] - 0s 10ms/step - loss: 0.6821 - accuracy: 0.5419 - val_loss: 0.6832 - val_accuracy: 0.5307\n",
            "Epoch 168/300\n",
            "11/11 [==============================] - 0s 9ms/step - loss: 0.6820 - accuracy: 0.5419 - val_loss: 0.6823 - val_accuracy: 0.5307\n",
            "Epoch 169/300\n",
            "11/11 [==============================] - 0s 9ms/step - loss: 0.6821 - accuracy: 0.5419 - val_loss: 0.6822 - val_accuracy: 0.5307\n",
            "Epoch 170/300\n",
            "11/11 [==============================] - 0s 10ms/step - loss: 0.6821 - accuracy: 0.5419 - val_loss: 0.6825 - val_accuracy: 0.5307\n",
            "Epoch 171/300\n",
            "11/11 [==============================] - 0s 8ms/step - loss: 0.6820 - accuracy: 0.5419 - val_loss: 0.6824 - val_accuracy: 0.5307\n",
            "Epoch 172/300\n",
            "11/11 [==============================] - 0s 10ms/step - loss: 0.6822 - accuracy: 0.5419 - val_loss: 0.6822 - val_accuracy: 0.5307\n",
            "Epoch 173/300\n",
            "11/11 [==============================] - 0s 10ms/step - loss: 0.6819 - accuracy: 0.5419 - val_loss: 0.6827 - val_accuracy: 0.5307\n",
            "Epoch 174/300\n",
            "11/11 [==============================] - 0s 8ms/step - loss: 0.6819 - accuracy: 0.5419 - val_loss: 0.6822 - val_accuracy: 0.5307\n",
            "Epoch 175/300\n",
            "11/11 [==============================] - 0s 10ms/step - loss: 0.6819 - accuracy: 0.5419 - val_loss: 0.6824 - val_accuracy: 0.5307\n",
            "Epoch 176/300\n",
            "11/11 [==============================] - 0s 11ms/step - loss: 0.6819 - accuracy: 0.5419 - val_loss: 0.6825 - val_accuracy: 0.5307\n",
            "Epoch 177/300\n",
            "11/11 [==============================] - 0s 9ms/step - loss: 0.6822 - accuracy: 0.5419 - val_loss: 0.6833 - val_accuracy: 0.5307\n",
            "Epoch 178/300\n",
            "11/11 [==============================] - 0s 10ms/step - loss: 0.6822 - accuracy: 0.5419 - val_loss: 0.6833 - val_accuracy: 0.5307\n",
            "Epoch 179/300\n",
            "11/11 [==============================] - 0s 11ms/step - loss: 0.6819 - accuracy: 0.5419 - val_loss: 0.6823 - val_accuracy: 0.5307\n",
            "Epoch 180/300\n",
            "11/11 [==============================] - 0s 10ms/step - loss: 0.6826 - accuracy: 0.5419 - val_loss: 0.6821 - val_accuracy: 0.5307\n",
            "Epoch 181/300\n",
            "11/11 [==============================] - 0s 10ms/step - loss: 0.6834 - accuracy: 0.5419 - val_loss: 0.6821 - val_accuracy: 0.5307\n",
            "Epoch 182/300\n",
            "11/11 [==============================] - 0s 8ms/step - loss: 0.6821 - accuracy: 0.5419 - val_loss: 0.6829 - val_accuracy: 0.5307\n",
            "Epoch 183/300\n",
            "11/11 [==============================] - 0s 10ms/step - loss: 0.6817 - accuracy: 0.5419 - val_loss: 0.6822 - val_accuracy: 0.5307\n",
            "Epoch 184/300\n",
            "11/11 [==============================] - 0s 9ms/step - loss: 0.6818 - accuracy: 0.5419 - val_loss: 0.6828 - val_accuracy: 0.5307\n",
            "Epoch 185/300\n",
            "11/11 [==============================] - 0s 9ms/step - loss: 0.6820 - accuracy: 0.5419 - val_loss: 0.6829 - val_accuracy: 0.5307\n",
            "Epoch 186/300\n",
            "11/11 [==============================] - 0s 12ms/step - loss: 0.6818 - accuracy: 0.5419 - val_loss: 0.6822 - val_accuracy: 0.5307\n",
            "Epoch 187/300\n",
            "11/11 [==============================] - 0s 11ms/step - loss: 0.6819 - accuracy: 0.5419 - val_loss: 0.6821 - val_accuracy: 0.5307\n",
            "Epoch 188/300\n",
            "11/11 [==============================] - 0s 12ms/step - loss: 0.6820 - accuracy: 0.5419 - val_loss: 0.6832 - val_accuracy: 0.5307\n",
            "Epoch 189/300\n",
            "11/11 [==============================] - 0s 10ms/step - loss: 0.6827 - accuracy: 0.5419 - val_loss: 0.6843 - val_accuracy: 0.5307\n",
            "Epoch 190/300\n",
            "11/11 [==============================] - 0s 10ms/step - loss: 0.6818 - accuracy: 0.5419 - val_loss: 0.6820 - val_accuracy: 0.5307\n",
            "Epoch 191/300\n",
            "11/11 [==============================] - 0s 11ms/step - loss: 0.6827 - accuracy: 0.5419 - val_loss: 0.6821 - val_accuracy: 0.5307\n",
            "Epoch 192/300\n",
            "11/11 [==============================] - 0s 10ms/step - loss: 0.6821 - accuracy: 0.5419 - val_loss: 0.6822 - val_accuracy: 0.5307\n",
            "Epoch 193/300\n",
            "11/11 [==============================] - 0s 11ms/step - loss: 0.6818 - accuracy: 0.5419 - val_loss: 0.6824 - val_accuracy: 0.5307\n",
            "Epoch 194/300\n",
            "11/11 [==============================] - 0s 10ms/step - loss: 0.6818 - accuracy: 0.5419 - val_loss: 0.6823 - val_accuracy: 0.5307\n",
            "Epoch 195/300\n",
            "11/11 [==============================] - 0s 11ms/step - loss: 0.6818 - accuracy: 0.5419 - val_loss: 0.6827 - val_accuracy: 0.5307\n",
            "Epoch 196/300\n",
            "11/11 [==============================] - 0s 9ms/step - loss: 0.6818 - accuracy: 0.5419 - val_loss: 0.6828 - val_accuracy: 0.5307\n",
            "Epoch 197/300\n",
            "11/11 [==============================] - 0s 10ms/step - loss: 0.6821 - accuracy: 0.5419 - val_loss: 0.6835 - val_accuracy: 0.5307\n",
            "Epoch 198/300\n",
            "11/11 [==============================] - 0s 8ms/step - loss: 0.6821 - accuracy: 0.5419 - val_loss: 0.6825 - val_accuracy: 0.5307\n",
            "Epoch 199/300\n",
            "11/11 [==============================] - 0s 10ms/step - loss: 0.6824 - accuracy: 0.5419 - val_loss: 0.6835 - val_accuracy: 0.5307\n",
            "Epoch 200/300\n",
            "11/11 [==============================] - 0s 9ms/step - loss: 0.6819 - accuracy: 0.5419 - val_loss: 0.6820 - val_accuracy: 0.5307\n",
            "Epoch 201/300\n",
            "11/11 [==============================] - 0s 7ms/step - loss: 0.6822 - accuracy: 0.5419 - val_loss: 0.6819 - val_accuracy: 0.5307\n",
            "Epoch 202/300\n",
            "11/11 [==============================] - 0s 7ms/step - loss: 0.6819 - accuracy: 0.5419 - val_loss: 0.6821 - val_accuracy: 0.5307\n",
            "Epoch 203/300\n",
            "11/11 [==============================] - 0s 7ms/step - loss: 0.6818 - accuracy: 0.5419 - val_loss: 0.6836 - val_accuracy: 0.5307\n",
            "Epoch 204/300\n",
            "11/11 [==============================] - 0s 6ms/step - loss: 0.6820 - accuracy: 0.5419 - val_loss: 0.6819 - val_accuracy: 0.5307\n",
            "Epoch 205/300\n",
            "11/11 [==============================] - 0s 8ms/step - loss: 0.6821 - accuracy: 0.5419 - val_loss: 0.6819 - val_accuracy: 0.5307\n",
            "Epoch 206/300\n",
            "11/11 [==============================] - 0s 7ms/step - loss: 0.6820 - accuracy: 0.5419 - val_loss: 0.6823 - val_accuracy: 0.5307\n",
            "Epoch 207/300\n",
            "11/11 [==============================] - 0s 6ms/step - loss: 0.6817 - accuracy: 0.5419 - val_loss: 0.6824 - val_accuracy: 0.5307\n",
            "Epoch 208/300\n",
            "11/11 [==============================] - 0s 6ms/step - loss: 0.6817 - accuracy: 0.5419 - val_loss: 0.6822 - val_accuracy: 0.5307\n",
            "Epoch 209/300\n",
            "11/11 [==============================] - 0s 6ms/step - loss: 0.6816 - accuracy: 0.5419 - val_loss: 0.6831 - val_accuracy: 0.5307\n",
            "Epoch 210/300\n",
            "11/11 [==============================] - 0s 8ms/step - loss: 0.6838 - accuracy: 0.5419 - val_loss: 0.6862 - val_accuracy: 0.5307\n",
            "Epoch 211/300\n",
            "11/11 [==============================] - 0s 6ms/step - loss: 0.6825 - accuracy: 0.5419 - val_loss: 0.6827 - val_accuracy: 0.5307\n",
            "Epoch 212/300\n",
            "11/11 [==============================] - 0s 6ms/step - loss: 0.6817 - accuracy: 0.5419 - val_loss: 0.6819 - val_accuracy: 0.5307\n",
            "Epoch 213/300\n",
            "11/11 [==============================] - 0s 8ms/step - loss: 0.6819 - accuracy: 0.5419 - val_loss: 0.6819 - val_accuracy: 0.5307\n",
            "Epoch 214/300\n",
            "11/11 [==============================] - 0s 8ms/step - loss: 0.6824 - accuracy: 0.5419 - val_loss: 0.6820 - val_accuracy: 0.5307\n",
            "Epoch 215/300\n",
            "11/11 [==============================] - 0s 8ms/step - loss: 0.6820 - accuracy: 0.5419 - val_loss: 0.6822 - val_accuracy: 0.5307\n",
            "Epoch 216/300\n",
            "11/11 [==============================] - 0s 6ms/step - loss: 0.6822 - accuracy: 0.5419 - val_loss: 0.6842 - val_accuracy: 0.5307\n",
            "Epoch 217/300\n",
            "11/11 [==============================] - 0s 7ms/step - loss: 0.6822 - accuracy: 0.5419 - val_loss: 0.6835 - val_accuracy: 0.5307\n",
            "Epoch 218/300\n",
            "11/11 [==============================] - 0s 7ms/step - loss: 0.6822 - accuracy: 0.5419 - val_loss: 0.6836 - val_accuracy: 0.5307\n",
            "Epoch 219/300\n",
            "11/11 [==============================] - 0s 8ms/step - loss: 0.6817 - accuracy: 0.5419 - val_loss: 0.6821 - val_accuracy: 0.5307\n",
            "Epoch 220/300\n",
            "11/11 [==============================] - 0s 7ms/step - loss: 0.6818 - accuracy: 0.5419 - val_loss: 0.6838 - val_accuracy: 0.5307\n",
            "Epoch 221/300\n",
            "11/11 [==============================] - 0s 6ms/step - loss: 0.6819 - accuracy: 0.5419 - val_loss: 0.6825 - val_accuracy: 0.5307\n",
            "Epoch 222/300\n",
            "11/11 [==============================] - 0s 7ms/step - loss: 0.6818 - accuracy: 0.5419 - val_loss: 0.6819 - val_accuracy: 0.5307\n",
            "Epoch 223/300\n",
            "11/11 [==============================] - 0s 6ms/step - loss: 0.6823 - accuracy: 0.5419 - val_loss: 0.6819 - val_accuracy: 0.5307\n",
            "Epoch 224/300\n",
            "11/11 [==============================] - 0s 7ms/step - loss: 0.6816 - accuracy: 0.5419 - val_loss: 0.6825 - val_accuracy: 0.5307\n",
            "Epoch 225/300\n",
            "11/11 [==============================] - 0s 7ms/step - loss: 0.6816 - accuracy: 0.5419 - val_loss: 0.6823 - val_accuracy: 0.5307\n",
            "Epoch 226/300\n",
            "11/11 [==============================] - 0s 6ms/step - loss: 0.6816 - accuracy: 0.5419 - val_loss: 0.6821 - val_accuracy: 0.5307\n",
            "Epoch 227/300\n",
            "11/11 [==============================] - 0s 7ms/step - loss: 0.6815 - accuracy: 0.5419 - val_loss: 0.6823 - val_accuracy: 0.5307\n",
            "Epoch 228/300\n",
            "11/11 [==============================] - 0s 7ms/step - loss: 0.6815 - accuracy: 0.5419 - val_loss: 0.6819 - val_accuracy: 0.5307\n",
            "Epoch 229/300\n",
            "11/11 [==============================] - 0s 6ms/step - loss: 0.6818 - accuracy: 0.5419 - val_loss: 0.6819 - val_accuracy: 0.5307\n",
            "Epoch 230/300\n",
            "11/11 [==============================] - 0s 6ms/step - loss: 0.6814 - accuracy: 0.5419 - val_loss: 0.6827 - val_accuracy: 0.5307\n",
            "Epoch 231/300\n",
            "11/11 [==============================] - 0s 7ms/step - loss: 0.6816 - accuracy: 0.5419 - val_loss: 0.6824 - val_accuracy: 0.5307\n",
            "Epoch 232/300\n",
            "11/11 [==============================] - 0s 6ms/step - loss: 0.6814 - accuracy: 0.5419 - val_loss: 0.6818 - val_accuracy: 0.5307\n",
            "Epoch 233/300\n",
            "11/11 [==============================] - 0s 6ms/step - loss: 0.6818 - accuracy: 0.5419 - val_loss: 0.6818 - val_accuracy: 0.5307\n",
            "Epoch 234/300\n",
            "11/11 [==============================] - 0s 6ms/step - loss: 0.6817 - accuracy: 0.5419 - val_loss: 0.6819 - val_accuracy: 0.5307\n",
            "Epoch 235/300\n",
            "11/11 [==============================] - 0s 8ms/step - loss: 0.6816 - accuracy: 0.5419 - val_loss: 0.6820 - val_accuracy: 0.5307\n",
            "Epoch 236/300\n",
            "11/11 [==============================] - 0s 6ms/step - loss: 0.6815 - accuracy: 0.5419 - val_loss: 0.6820 - val_accuracy: 0.5307\n",
            "Epoch 237/300\n",
            "11/11 [==============================] - 0s 6ms/step - loss: 0.6817 - accuracy: 0.5419 - val_loss: 0.6818 - val_accuracy: 0.5307\n",
            "Epoch 238/300\n",
            "11/11 [==============================] - 0s 8ms/step - loss: 0.6815 - accuracy: 0.5419 - val_loss: 0.6820 - val_accuracy: 0.5307\n",
            "Epoch 239/300\n",
            "11/11 [==============================] - 0s 8ms/step - loss: 0.6817 - accuracy: 0.5419 - val_loss: 0.6819 - val_accuracy: 0.5307\n",
            "Epoch 240/300\n",
            "11/11 [==============================] - 0s 6ms/step - loss: 0.6815 - accuracy: 0.5419 - val_loss: 0.6820 - val_accuracy: 0.5307\n",
            "Epoch 241/300\n",
            "11/11 [==============================] - 0s 8ms/step - loss: 0.6815 - accuracy: 0.5419 - val_loss: 0.6819 - val_accuracy: 0.5307\n",
            "Epoch 242/300\n",
            "11/11 [==============================] - 0s 8ms/step - loss: 0.6816 - accuracy: 0.5419 - val_loss: 0.6819 - val_accuracy: 0.5307\n",
            "Epoch 243/300\n",
            "11/11 [==============================] - 0s 8ms/step - loss: 0.6815 - accuracy: 0.5419 - val_loss: 0.6819 - val_accuracy: 0.5307\n",
            "Epoch 244/300\n",
            "11/11 [==============================] - 0s 7ms/step - loss: 0.6818 - accuracy: 0.5419 - val_loss: 0.6818 - val_accuracy: 0.5307\n",
            "Epoch 245/300\n",
            "11/11 [==============================] - 0s 8ms/step - loss: 0.6827 - accuracy: 0.5419 - val_loss: 0.6818 - val_accuracy: 0.5307\n",
            "Epoch 246/300\n",
            "11/11 [==============================] - 0s 6ms/step - loss: 0.6817 - accuracy: 0.5419 - val_loss: 0.6834 - val_accuracy: 0.5307\n",
            "Epoch 247/300\n",
            "11/11 [==============================] - 0s 6ms/step - loss: 0.6816 - accuracy: 0.5419 - val_loss: 0.6820 - val_accuracy: 0.5307\n",
            "Epoch 248/300\n",
            "11/11 [==============================] - 0s 9ms/step - loss: 0.6815 - accuracy: 0.5419 - val_loss: 0.6822 - val_accuracy: 0.5307\n",
            "Epoch 249/300\n",
            "11/11 [==============================] - 0s 6ms/step - loss: 0.6815 - accuracy: 0.5419 - val_loss: 0.6821 - val_accuracy: 0.5307\n",
            "Epoch 250/300\n",
            "11/11 [==============================] - 0s 6ms/step - loss: 0.6815 - accuracy: 0.5419 - val_loss: 0.6818 - val_accuracy: 0.5307\n",
            "Epoch 251/300\n",
            "11/11 [==============================] - 0s 7ms/step - loss: 0.6815 - accuracy: 0.5419 - val_loss: 0.6819 - val_accuracy: 0.5307\n",
            "Epoch 252/300\n",
            "11/11 [==============================] - 0s 7ms/step - loss: 0.6816 - accuracy: 0.5419 - val_loss: 0.6818 - val_accuracy: 0.5307\n",
            "Epoch 253/300\n",
            "11/11 [==============================] - 0s 7ms/step - loss: 0.6816 - accuracy: 0.5419 - val_loss: 0.6821 - val_accuracy: 0.5307\n",
            "Epoch 254/300\n",
            "11/11 [==============================] - 0s 6ms/step - loss: 0.6817 - accuracy: 0.5419 - val_loss: 0.6835 - val_accuracy: 0.5307\n",
            "Epoch 255/300\n",
            "11/11 [==============================] - 0s 8ms/step - loss: 0.6818 - accuracy: 0.5419 - val_loss: 0.6824 - val_accuracy: 0.5307\n",
            "Epoch 256/300\n",
            "11/11 [==============================] - 0s 7ms/step - loss: 0.6814 - accuracy: 0.5419 - val_loss: 0.6823 - val_accuracy: 0.5307\n",
            "Epoch 257/300\n",
            "11/11 [==============================] - 0s 7ms/step - loss: 0.6814 - accuracy: 0.5419 - val_loss: 0.6820 - val_accuracy: 0.5307\n",
            "Epoch 258/300\n",
            "11/11 [==============================] - 0s 6ms/step - loss: 0.6814 - accuracy: 0.5419 - val_loss: 0.6819 - val_accuracy: 0.5307\n",
            "Epoch 259/300\n",
            "11/11 [==============================] - 0s 6ms/step - loss: 0.6814 - accuracy: 0.5419 - val_loss: 0.6819 - val_accuracy: 0.5307\n",
            "Epoch 260/300\n",
            "11/11 [==============================] - 0s 7ms/step - loss: 0.6816 - accuracy: 0.5419 - val_loss: 0.6818 - val_accuracy: 0.5307\n",
            "Epoch 261/300\n",
            "11/11 [==============================] - 0s 6ms/step - loss: 0.6822 - accuracy: 0.5419 - val_loss: 0.6818 - val_accuracy: 0.5307\n",
            "Epoch 262/300\n",
            "11/11 [==============================] - 0s 6ms/step - loss: 0.6816 - accuracy: 0.5419 - val_loss: 0.6821 - val_accuracy: 0.5307\n",
            "Epoch 263/300\n",
            "11/11 [==============================] - 0s 7ms/step - loss: 0.6814 - accuracy: 0.5419 - val_loss: 0.6824 - val_accuracy: 0.5307\n",
            "Epoch 264/300\n",
            "11/11 [==============================] - 0s 7ms/step - loss: 0.6814 - accuracy: 0.5419 - val_loss: 0.6820 - val_accuracy: 0.5307\n",
            "Epoch 265/300\n",
            "11/11 [==============================] - 0s 8ms/step - loss: 0.6815 - accuracy: 0.5419 - val_loss: 0.6818 - val_accuracy: 0.5307\n",
            "Epoch 266/300\n",
            "11/11 [==============================] - 0s 8ms/step - loss: 0.6820 - accuracy: 0.5419 - val_loss: 0.6818 - val_accuracy: 0.5307\n",
            "Epoch 267/300\n",
            "11/11 [==============================] - 0s 8ms/step - loss: 0.6817 - accuracy: 0.5419 - val_loss: 0.6830 - val_accuracy: 0.5307\n",
            "Epoch 268/300\n",
            "11/11 [==============================] - 0s 7ms/step - loss: 0.6815 - accuracy: 0.5419 - val_loss: 0.6821 - val_accuracy: 0.5307\n",
            "Epoch 269/300\n",
            "11/11 [==============================] - 0s 7ms/step - loss: 0.6814 - accuracy: 0.5419 - val_loss: 0.6824 - val_accuracy: 0.5307\n",
            "Epoch 270/300\n",
            "11/11 [==============================] - 0s 6ms/step - loss: 0.6813 - accuracy: 0.5419 - val_loss: 0.6822 - val_accuracy: 0.5307\n",
            "Epoch 271/300\n",
            "11/11 [==============================] - 0s 7ms/step - loss: 0.6815 - accuracy: 0.5419 - val_loss: 0.6827 - val_accuracy: 0.5307\n",
            "Epoch 272/300\n",
            "11/11 [==============================] - 0s 6ms/step - loss: 0.6814 - accuracy: 0.5419 - val_loss: 0.6818 - val_accuracy: 0.5307\n",
            "Epoch 273/300\n",
            "11/11 [==============================] - 0s 7ms/step - loss: 0.6823 - accuracy: 0.5419 - val_loss: 0.6818 - val_accuracy: 0.5307\n",
            "Epoch 274/300\n",
            "11/11 [==============================] - 0s 8ms/step - loss: 0.6815 - accuracy: 0.5419 - val_loss: 0.6841 - val_accuracy: 0.5307\n",
            "Epoch 275/300\n",
            "11/11 [==============================] - 0s 6ms/step - loss: 0.6825 - accuracy: 0.5419 - val_loss: 0.6838 - val_accuracy: 0.5307\n",
            "Epoch 276/300\n",
            "11/11 [==============================] - 0s 8ms/step - loss: 0.6815 - accuracy: 0.5419 - val_loss: 0.6819 - val_accuracy: 0.5307\n",
            "Epoch 277/300\n",
            "11/11 [==============================] - 0s 7ms/step - loss: 0.6813 - accuracy: 0.5419 - val_loss: 0.6822 - val_accuracy: 0.5307\n",
            "Epoch 278/300\n",
            "11/11 [==============================] - 0s 6ms/step - loss: 0.6814 - accuracy: 0.5419 - val_loss: 0.6820 - val_accuracy: 0.5307\n",
            "Epoch 279/300\n",
            "11/11 [==============================] - 0s 6ms/step - loss: 0.6814 - accuracy: 0.5419 - val_loss: 0.6838 - val_accuracy: 0.5307\n",
            "Epoch 280/300\n",
            "11/11 [==============================] - 0s 8ms/step - loss: 0.6818 - accuracy: 0.5419 - val_loss: 0.6830 - val_accuracy: 0.5307\n",
            "Epoch 281/300\n",
            "11/11 [==============================] - 0s 6ms/step - loss: 0.6816 - accuracy: 0.5419 - val_loss: 0.6830 - val_accuracy: 0.5307\n",
            "Epoch 282/300\n",
            "11/11 [==============================] - 0s 6ms/step - loss: 0.6815 - accuracy: 0.5419 - val_loss: 0.6825 - val_accuracy: 0.5307\n",
            "Epoch 283/300\n",
            "11/11 [==============================] - 0s 7ms/step - loss: 0.6814 - accuracy: 0.5419 - val_loss: 0.6824 - val_accuracy: 0.5307\n",
            "Epoch 284/300\n",
            "11/11 [==============================] - 0s 6ms/step - loss: 0.6813 - accuracy: 0.5419 - val_loss: 0.6820 - val_accuracy: 0.5307\n",
            "Epoch 285/300\n",
            "11/11 [==============================] - 0s 6ms/step - loss: 0.6814 - accuracy: 0.5419 - val_loss: 0.6821 - val_accuracy: 0.5307\n",
            "Epoch 286/300\n",
            "11/11 [==============================] - 0s 7ms/step - loss: 0.6814 - accuracy: 0.5419 - val_loss: 0.6845 - val_accuracy: 0.5307\n",
            "Epoch 287/300\n",
            "11/11 [==============================] - 0s 6ms/step - loss: 0.6829 - accuracy: 0.5419 - val_loss: 0.6849 - val_accuracy: 0.5307\n",
            "Epoch 288/300\n",
            "11/11 [==============================] - 0s 7ms/step - loss: 0.6824 - accuracy: 0.5419 - val_loss: 0.6829 - val_accuracy: 0.5307\n",
            "Epoch 289/300\n",
            "11/11 [==============================] - 0s 7ms/step - loss: 0.6814 - accuracy: 0.5419 - val_loss: 0.6824 - val_accuracy: 0.5307\n",
            "Epoch 290/300\n",
            "11/11 [==============================] - 0s 6ms/step - loss: 0.6813 - accuracy: 0.5419 - val_loss: 0.6825 - val_accuracy: 0.5307\n",
            "Epoch 291/300\n",
            "11/11 [==============================] - 0s 8ms/step - loss: 0.6813 - accuracy: 0.5419 - val_loss: 0.6822 - val_accuracy: 0.5307\n",
            "Epoch 292/300\n",
            "11/11 [==============================] - 0s 6ms/step - loss: 0.6813 - accuracy: 0.5419 - val_loss: 0.6825 - val_accuracy: 0.5307\n",
            "Epoch 293/300\n",
            "11/11 [==============================] - 0s 6ms/step - loss: 0.6815 - accuracy: 0.5419 - val_loss: 0.6833 - val_accuracy: 0.5307\n",
            "Epoch 294/300\n",
            "11/11 [==============================] - 0s 6ms/step - loss: 0.6815 - accuracy: 0.5419 - val_loss: 0.6822 - val_accuracy: 0.5307\n",
            "Epoch 295/300\n",
            "11/11 [==============================] - 0s 7ms/step - loss: 0.6812 - accuracy: 0.5419 - val_loss: 0.6822 - val_accuracy: 0.5307\n",
            "Epoch 296/300\n",
            "11/11 [==============================] - 0s 6ms/step - loss: 0.6817 - accuracy: 0.5419 - val_loss: 0.6839 - val_accuracy: 0.5307\n",
            "Epoch 297/300\n",
            "11/11 [==============================] - 0s 8ms/step - loss: 0.6820 - accuracy: 0.5419 - val_loss: 0.6831 - val_accuracy: 0.5307\n",
            "Epoch 298/300\n",
            "11/11 [==============================] - 0s 7ms/step - loss: 0.6813 - accuracy: 0.5419 - val_loss: 0.6818 - val_accuracy: 0.5307\n",
            "Epoch 299/300\n",
            "11/11 [==============================] - 0s 9ms/step - loss: 0.6814 - accuracy: 0.5419 - val_loss: 0.6821 - val_accuracy: 0.5307\n",
            "Epoch 300/300\n",
            "11/11 [==============================] - 0s 6ms/step - loss: 0.6815 - accuracy: 0.5419 - val_loss: 0.6826 - val_accuracy: 0.5307\n"
          ]
        }
      ],
      "source": [
        "if model_selection[model_flag]==\"ALL\" or model_selection[model_flag] == \"AE\":\n",
        "  # training the model on training dataset\n",
        "  his = ae_classifier.fit(predictions, y_test, epochs=300,batch_size=500, validation_split=0.2).history"
      ]
    },
    {
      "cell_type": "code",
      "execution_count": null,
      "metadata": {
        "id": "yeNS7pLUNYBz",
        "colab": {
          "base_uri": "https://localhost:8080/"
        },
        "outputId": "b3377064-9e6f-46ed-b63b-22e80c74a078"
      },
      "outputs": [
        {
          "output_type": "stream",
          "name": "stdout",
          "text": [
            "Saved model to disk\n",
            "Loaded model from disk\n"
          ]
        }
      ],
      "source": [
        "if model_selection[model_flag]==\"ALL\" or model_selection[model_flag] == \"AE\":\n",
        "  filepath = '/content/drive/MyDrive/Colab_Notebooks/Models/ae_classifier_binary'+model_name_suffix+'.json'\n",
        "  weightspath = '/content/drive/MyDrive/Colab_Notebooks/Weights/ae_classifier_binary'+model_name_suffix+'.h5'\n",
        "  if (not path.isfile(filepath)): \n",
        "    # serialize model to JSON\n",
        "    ae_classifier_json = ae_classifier.to_json()\n",
        "    with open(filepath, \"w\") as json_file:\n",
        "      json_file.write(ae_classifier_json)\n",
        "\n",
        "    # serialize weights to HDF5\n",
        "    ae_classifier.save_weights(weightspath)\n",
        "    print(\"Saved model to disk\")\n",
        "\n",
        "    # load json and create model\n",
        "    json_file = open(filepath, 'r')\n",
        "    loaded_model_json = json_file.read()\n",
        "    json_file.close()\n",
        "    ae_classifier = model_from_json(loaded_model_json)\n",
        "\n",
        "    # load weights into new model\n",
        "    ae_classifier.load_weights(weightspath)\n",
        "    print(\"Loaded model from disk\")"
      ]
    },
    {
      "cell_type": "code",
      "execution_count": null,
      "metadata": {
        "id": "AG42bV79NYFB"
      },
      "outputs": [],
      "source": [
        "if model_selection[model_flag]==\"ALL\" or model_selection[model_flag] == \"AE\":\n",
        "  ae_classifier.compile(optimizer='adam', loss='binary_crossentropy',metrics=['accuracy'])"
      ]
    },
    {
      "cell_type": "code",
      "execution_count": null,
      "metadata": {
        "id": "13aKBGJcNYHv",
        "colab": {
          "base_uri": "https://localhost:8080/"
        },
        "outputId": "f670bf80-f6c9-49cd-9421-8bfea1221b2d"
      },
      "outputs": [
        {
          "output_type": "stream",
          "name": "stdout",
          "text": [
            "196/196 [==============================] - 1s 3ms/step - loss: 0.6817 - accuracy: 0.5397\n",
            "Test results - Loss: 0.6816662549972534 - Accuracy: 53.969013690948486%\n"
          ]
        }
      ],
      "source": [
        "if model_selection[model_flag]==\"ALL\" or model_selection[model_flag] == \"AE\":\n",
        "  # predicting target attribute on testing dataset\n",
        "  test_results = ae_classifier.evaluate(X_test, y_test, verbose=1)\n",
        "  print(f'Test results - Loss: {test_results[0]} - Accuracy: {test_results[1]*100}%')"
      ]
    },
    {
      "cell_type": "code",
      "execution_count": null,
      "metadata": {
        "id": "zCWbOaSyN1dH"
      },
      "outputs": [],
      "source": [
        "if model_selection[model_flag]==\"ALL\" or model_selection[model_flag] == \"AE\":\n",
        "  # representation of model layers\n",
        "  plot_model(ae_classifier, to_file='/content/drive/MyDrive/Colab_Notebooks/Plots/ae_classifier_binary.png', show_shapes=True)"
      ]
    },
    {
      "cell_type": "code",
      "execution_count": null,
      "metadata": {
        "id": "44VaFGgVOBpU",
        "colab": {
          "base_uri": "https://localhost:8080/",
          "height": 472
        },
        "outputId": "5c67b1e5-7e6d-44d7-c72a-213e7e90897f"
      },
      "outputs": [
        {
          "output_type": "display_data",
          "data": {
            "text/plain": [
              "<Figure size 640x480 with 1 Axes>"
            ],
            "image/png": "[encoded data removed]"
          },
          "metadata": {}
        }
      ],
      "source": [
        "if model_selection[model_flag]==\"ALL\" or model_selection[model_flag] == \"AE\":\n",
        "  # Plot of loss vs epoch of train and test dataset\n",
        "  plt.plot(his['loss'])\n",
        "  plt.plot(his['val_loss'])\n",
        "  plt.title(\"Plot of loss vs epoch for train and test dataset\")\n",
        "  plt.ylabel('loss')\n",
        "  plt.xlabel('epoch')\n",
        "  plt.legend(['train', 'test'], loc='upper right')\n",
        "  plt.savefig('/content/drive/MyDrive/Colab_Notebooks/Plots/ae_classifier_binary_loss.png')\n",
        "  plt.show()"
      ]
    },
    {
      "cell_type": "code",
      "execution_count": null,
      "metadata": {
        "id": "Am0UB82rOIo1",
        "colab": {
          "base_uri": "https://localhost:8080/",
          "height": 472
        },
        "outputId": "c6312b7b-9076-44b5-ca9c-80acf9cba022"
      },
      "outputs": [
        {
          "output_type": "display_data",
          "data": {
            "text/plain": [
              "<Figure size 640x480 with 1 Axes>"
            ],
            "image/png": "[encoded data removed]"
          },
          "metadata": {}
        }
      ],
      "source": [
        "if model_selection[model_flag]==\"ALL\" or model_selection[model_flag] == \"AE\":\n",
        "  # Plot of accuracy vs epoch of train and test dataset\n",
        "  plt.plot(his['accuracy'])\n",
        "  plt.plot(his['val_accuracy'])\n",
        "  plt.title(\"Plot of accuracy vs epoch for train and test dataset\")\n",
        "  plt.ylabel('accuracy')\n",
        "  plt.xlabel('epoch')\n",
        "  plt.legend(['train', 'test'], loc='best')\n",
        "  plt.savefig('/content/drive/MyDrive/Colab_Notebooks/Plots/ae_classifier_binary_accuracy.png')\n",
        "  plt.show()"
      ]
    },
    {
      "cell_type": "code",
      "execution_count": null,
      "metadata": {
        "id": "f5OZTlm0OMoW",
        "colab": {
          "base_uri": "https://localhost:8080/"
        },
        "outputId": "770e81b7-9a74-4bb9-db9b-1d4e8bfce2e6"
      },
      "outputs": [
        {
          "output_type": "stream",
          "name": "stdout",
          "text": [
            "196/196 [==============================] - 0s 1ms/step\n"
          ]
        }
      ],
      "source": [
        "if model_selection[model_flag]==\"ALL\" or model_selection[model_flag] == \"AE\":\n",
        "  y_pred = ae_classifier.predict(X_test).ravel()\n",
        "  fpr, tpr, thresholds = roc_curve(y_test, y_pred)\n",
        "  #auc = auc(fpr, tpr)"
      ]
    },
    {
      "cell_type": "code",
      "execution_count": null,
      "metadata": {
        "id": "GbSkwfO2OTkn",
        "colab": {
          "base_uri": "https://localhost:8080/",
          "height": 510
        },
        "outputId": "f4edeac7-4184-463f-f318-56715b561fb1"
      },
      "outputs": [
        {
          "output_type": "stream",
          "name": "stderr",
          "text": [
            "WARNING:matplotlib.legend:No artists with labels found to put in legend.  Note that artists whose label start with an underscore are ignored when legend() is called with no argument.\n"
          ]
        },
        {
          "output_type": "display_data",
          "data": {
            "text/plain": [
              "<Figure size 640x480 with 1 Axes>"
            ],
            "image/png": "[encoded data removed]"
          },
          "metadata": {}
        }
      ],
      "source": [
        "if model_selection[model_flag]==\"ALL\" or model_selection[model_flag] == \"AE\":\n",
        "  plt.plot([0, 1], [0, 1], 'k--')\n",
        "  #plt.plot(fpr, tpr, label='Keras (area = {:.3f})'.format(auc))\n",
        "  plt.plot(fpr, tpr)\n",
        "  plt.xlabel('False positive rate')\n",
        "  plt.ylabel('True positive rate')\n",
        "  plt.title('ROC curve')\n",
        "  plt.legend(loc='best')\n",
        "  plt.savefig('/content/drive/MyDrive/Colab_Notebooks/Plots/ae_binary_roc.png')\n",
        "  plt.show()"
      ]
    },
    {
      "cell_type": "code",
      "execution_count": null,
      "metadata": {
        "id": "n7Xl74UXOZxm",
        "colab": {
          "base_uri": "https://localhost:8080/"
        },
        "outputId": "b2f05f81-f005-419e-fda6-97df44620987"
      },
      "outputs": [
        {
          "output_type": "stream",
          "name": "stdout",
          "text": [
            "196/196 [==============================] - 0s 2ms/step\n",
            "196/196 [==============================] - 0s 1ms/step\n"
          ]
        }
      ],
      "source": [
        "if model_selection[model_flag]==\"ALL\" or model_selection[model_flag] == \"AE\":\n",
        "  pred = ae_classifier.predict(X_test)\n",
        "  y_classes = (ae_classifier.predict(X_test)>0.5).astype('int32')"
      ]
    },
    {
      "cell_type": "code",
      "execution_count": null,
      "metadata": {
        "id": "WA_g3UlXOZ71",
        "colab": {
          "base_uri": "https://localhost:8080/"
        },
        "outputId": "13e9184a-0a58-412b-d85b-e84fd63959fa"
      },
      "outputs": [
        {
          "output_type": "stream",
          "name": "stdout",
          "text": [
            "Recall Score -  0.0\n",
            "F1 Score -  0.0\n",
            "Precision Score -  0.0\n",
            "False Positive Rate -  [1.]\n",
            "False Negative Rate -  [0.]\n",
            "Thresholds -  [0]\n"
          ]
        },
        {
          "output_type": "stream",
          "name": "stderr",
          "text": [
            "/usr/local/lib/python3.9/dist-packages/sklearn/metrics/_classification.py:1344: UndefinedMetricWarning: Precision is ill-defined and being set to 0.0 due to no predicted samples. Use `zero_division` parameter to control this behavior.\n",
            "  _warn_prf(average, modifier, msg_start, len(result))\n"
          ]
        }
      ],
      "source": [
        "if model_selection[model_flag]==\"ALL\" or model_selection[model_flag] == \"AE\":\n",
        "  print(\"Recall Score - \",recall_score(y_test,y_classes))\n",
        "  print(\"F1 Score - \",f1_score(y_test,y_classes))\n",
        "  print(\"Precision Score - \",precision_score(y_test,y_classes))\n",
        "  fpr, fnr, thresholds = det_curve(y_test, y_classes)\n",
        "  print(\"False Positive Rate - \", fpr)\n",
        "  print(\"False Negative Rate - \", fnr)\n",
        "  print(\"Thresholds - \", thresholds)"
      ]
    },
    {
      "cell_type": "code",
      "source": [
        "print(classification_report(y_test, y_classes, target_names=['0', '1']))\n",
        "cm = confusion_matrix(y_test, y_classes)\n",
        "disp = ConfusionMatrixDisplay(confusion_matrix=cm,\n",
        "                              display_labels=['0', '1'])\n",
        "disp.plot()\n",
        "\n",
        "plt.show()"
      ],
      "metadata": {
        "colab": {
          "base_uri": "https://localhost:8080/",
          "height": 737
        },
        "id": "UgHHdx0qoryj",
        "outputId": "27f238c1-1e72-4c40-dcec-fa2c5776201e"
      },
      "execution_count": null,
      "outputs": [
        {
          "output_type": "stream",
          "name": "stdout",
          "text": [
            "              precision    recall  f1-score   support\n",
            "\n",
            "           0       0.54      1.00      0.70      3379\n",
            "           1       0.00      0.00      0.00      2882\n",
            "\n",
            "    accuracy                           0.54      6261\n",
            "   macro avg       0.27      0.50      0.35      6261\n",
            "weighted avg       0.29      0.54      0.38      6261\n",
            "\n"
          ]
        },
        {
          "output_type": "stream",
          "name": "stderr",
          "text": [
            "/usr/local/lib/python3.9/dist-packages/sklearn/metrics/_classification.py:1344: UndefinedMetricWarning: Precision and F-score are ill-defined and being set to 0.0 in labels with no predicted samples. Use `zero_division` parameter to control this behavior.\n",
            "  _warn_prf(average, modifier, msg_start, len(result))\n",
            "/usr/local/lib/python3.9/dist-packages/sklearn/metrics/_classification.py:1344: UndefinedMetricWarning: Precision and F-score are ill-defined and being set to 0.0 in labels with no predicted samples. Use `zero_division` parameter to control this behavior.\n",
            "  _warn_prf(average, modifier, msg_start, len(result))\n",
            "/usr/local/lib/python3.9/dist-packages/sklearn/metrics/_classification.py:1344: UndefinedMetricWarning: Precision and F-score are ill-defined and being set to 0.0 in labels with no predicted samples. Use `zero_division` parameter to control this behavior.\n",
            "  _warn_prf(average, modifier, msg_start, len(result))\n"
          ]
        },
        {
          "output_type": "display_data",
          "data": {
            "text/plain": [
              "<Figure size 640x480 with 2 Axes>"
            ],
            "image/png": "[encoded data removed]"
          },
          "metadata": {}
        }
      ]
    }
  ],
  "metadata": {
    "colab": {
      "provenance": [],
      "include_colab_link": true
    },
    "gpuClass": "standard",
    "kernelspec": {
      "display_name": "Python 3",
      "name": "python3"
    },
    "language_info": {
      "name": "python"
    },
    "accelerator": "GPU"
  },
  "nbformat": 4,
  "nbformat_minor": 0
}