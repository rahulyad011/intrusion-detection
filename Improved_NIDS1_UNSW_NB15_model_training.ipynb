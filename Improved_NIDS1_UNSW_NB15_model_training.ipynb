{
  "cells": [
    {
      "cell_type": "markdown",
      "metadata": {
        "id": "view-in-github",
        "colab_type": "text"
      },
      "source": [
        "<a href=\"https://colab.research.google.com/github/rahulyad011/intrusion-detection/blob/main/Improved_NIDS1_UNSW_NB15_model_training.ipynb\" target=\"_parent\"><img src=\"https://colab.research.google.com/assets/colab-badge.svg\" alt=\"Open In Colab\"/></a>"
      ]
    },
    {
      "cell_type": "code",
      "execution_count": null,
      "metadata": {
        "id": "qXQ8rUmdwaf4"
      },
      "outputs": [],
      "source": [
        "\n",
        "from sklearn.metrics import accuracy_score # for calculating accuracy of model\n",
        "from sklearn.model_selection import train_test_split # for splitting the dataset for training and testing\n",
        "from sklearn.metrics import classification_report # for generating a classification report of model\n",
        "import pickle # saving and loading trained model\n",
        "from os import path\n",
        "import numpy as np\n",
        "import pandas as pd\n",
        "import matplotlib.pyplot as plt\n",
        "\n",
        "# importing library for support vector machine classifier\n",
        "from sklearn.svm import SVC\n",
        "\n",
        "# MLP requirements \n",
        "from keras.layers import Dense # importing dense layer\n",
        "from keras.models import Sequential #importing Sequential layer\n",
        "from keras.models import model_from_json # saving and loading trained model\n",
        "\n",
        "# LSTM requirements \n",
        "from keras.layers import LSTM\n",
        "from keras.layers import Input\n",
        "from keras.models import Model\n",
        "\n",
        "# evaluation metrices\n",
        "from sklearn.metrics import classification_report, confusion_matrix\n",
        "from sklearn.metrics import roc_auc_score\n",
        "from sklearn.metrics import roc_curve, auc\n",
        "from sklearn.metrics import precision_score\n",
        "from sklearn.metrics import recall_score\n",
        "from sklearn.metrics import f1_score\n",
        "\n",
        "# representation of model layers\n",
        "from keras.utils.vis_utils import plot_model"
      ]
    },
    {
      "cell_type": "code",
      "source": [
        "from google.colab import drive\n",
        "drive.mount('/content/drive')"
      ],
      "metadata": {
        "colab": {
          "base_uri": "https://localhost:8080/"
        },
        "id": "DBCkPmpEjFSf",
        "outputId": "522cf5b1-df9b-4226-f89e-fb54a0779d91"
      },
      "execution_count": null,
      "outputs": [
        {
          "output_type": "stream",
          "name": "stdout",
          "text": [
            "Mounted at /content/drive\n"
          ]
        }
      ]
    },
    {
      "cell_type": "code",
      "execution_count": null,
      "metadata": {
        "colab": {
          "base_uri": "https://localhost:8080/",
          "height": 505
        },
        "id": "Pepa9lW8whHh",
        "outputId": "c8a23135-9e16-40d7-f4a6-a2583f1baeb8"
      },
      "outputs": [
        {
          "output_type": "execute_result",
          "data": {
            "text/plain": [
              "        proto_-  proto_arp  proto_ospf  proto_tcp  proto_udp  proto_unas  \\\n",
              "0             0          0           0          0          1           0   \n",
              "1             0          0           0          0          1           0   \n",
              "2             0          0           0          0          1           0   \n",
              "3             0          0           0          0          1           0   \n",
              "4             0          0           0          0          1           0   \n",
              "...         ...        ...         ...        ...        ...         ...   \n",
              "257668        0          0           0          0          1           0   \n",
              "257669        0          0           0          1          0           0   \n",
              "257670        0          0           0          0          1           0   \n",
              "257671        0          0           0          0          1           0   \n",
              "257672        0          0           0          0          1           0   \n",
              "\n",
              "        service_-  service_dns  service_ftp-data  service_http  ...  \\\n",
              "0               1            0                 0             0  ...   \n",
              "1               1            0                 0             0  ...   \n",
              "2               1            0                 0             0  ...   \n",
              "3               1            0                 0             0  ...   \n",
              "4               1            0                 0             0  ...   \n",
              "...           ...          ...               ...           ...  ...   \n",
              "257668          0            1                 0             0  ...   \n",
              "257669          1            0                 0             0  ...   \n",
              "257670          0            1                 0             0  ...   \n",
              "257671          0            1                 0             0  ...   \n",
              "257672          0            1                 0             0  ...   \n",
              "\n",
              "        ct_src_dport_ltm  ct_dst_sport_ltm  ct_dst_src_ltm  is_ftp_login  \\\n",
              "0                      1                 1               2             0   \n",
              "1                      1                 1               2             0   \n",
              "2                      1                 1               3             0   \n",
              "3                      2                 1               3             0   \n",
              "4                      2                 1               3             0   \n",
              "...                  ...               ...             ...           ...   \n",
              "257668                24                13              24             0   \n",
              "257669                 1                 1               2             0   \n",
              "257670                 3                 3              13             0   \n",
              "257671                30                14              30             0   \n",
              "257672                30                16              30             0   \n",
              "\n",
              "        ct_ftp_cmd  ct_flw_http_mthd  ct_src_ltm  ct_srv_dst  is_sm_ips_ports  \\\n",
              "0                0                 0           1           2                0   \n",
              "1                0                 0           1           2                0   \n",
              "2                0                 0           1           3                0   \n",
              "3                0                 0           2           3                0   \n",
              "4                0                 0           2           3                0   \n",
              "...            ...               ...         ...         ...              ...   \n",
              "257668           0                 0          24          24                0   \n",
              "257669           0                 0           1           1                0   \n",
              "257670           0                 0           3          12                0   \n",
              "257671           0                 0          30          30                0   \n",
              "257672           0                 0          30          30                0   \n",
              "\n",
              "        label  \n",
              "0           0  \n",
              "1           0  \n",
              "2           0  \n",
              "3           0  \n",
              "4           0  \n",
              "...       ...  \n",
              "257668      1  \n",
              "257669      1  \n",
              "257670      1  \n",
              "257671      1  \n",
              "257672      1  \n",
              "\n",
              "[257673 rows x 58 columns]"
            ],
            "text/html": [
              "\n",
              "  <div id=\"df-481b6ed4-ea21-430e-ab7c-4c7ad571c7a3\">\n",
              "    <div class=\"colab-df-container\">\n",
              "      <div>\n",
              "<style scoped>\n",
              "    .dataframe tbody tr th:only-of-type {\n",
              "        vertical-align: middle;\n",
              "    }\n",
              "\n",
              "    .dataframe tbody tr th {\n",
              "        vertical-align: top;\n",
              "    }\n",
              "\n",
              "    .dataframe thead th {\n",
              "        text-align: right;\n",
              "    }\n",
              "</style>\n",
              "<table border=\"1\" class=\"dataframe\">\n",
              "  <thead>\n",
              "    <tr style=\"text-align: right;\">\n",
              "      <th></th>\n",
              "      <th>proto_-</th>\n",
              "      <th>proto_arp</th>\n",
              "      <th>proto_ospf</th>\n",
              "      <th>proto_tcp</th>\n",
              "      <th>proto_udp</th>\n",
              "      <th>proto_unas</th>\n",
              "      <th>service_-</th>\n",
              "      <th>service_dns</th>\n",
              "      <th>service_ftp-data</th>\n",
              "      <th>service_http</th>\n",
              "      <th>...</th>\n",
              "      <th>ct_src_dport_ltm</th>\n",
              "      <th>ct_dst_sport_ltm</th>\n",
              "      <th>ct_dst_src_ltm</th>\n",
              "      <th>is_ftp_login</th>\n",
              "      <th>ct_ftp_cmd</th>\n",
              "      <th>ct_flw_http_mthd</th>\n",
              "      <th>ct_src_ltm</th>\n",
              "      <th>ct_srv_dst</th>\n",
              "      <th>is_sm_ips_ports</th>\n",
              "      <th>label</th>\n",
              "    </tr>\n",
              "  </thead>\n",
              "  <tbody>\n",
              "    <tr>\n",
              "      <th>0</th>\n",
              "      <td>0</td>\n",
              "      <td>0</td>\n",
              "      <td>0</td>\n",
              "      <td>0</td>\n",
              "      <td>1</td>\n",
              "      <td>0</td>\n",
              "      <td>1</td>\n",
              "      <td>0</td>\n",
              "      <td>0</td>\n",
              "      <td>0</td>\n",
              "      <td>...</td>\n",
              "      <td>1</td>\n",
              "      <td>1</td>\n",
              "      <td>2</td>\n",
              "      <td>0</td>\n",
              "      <td>0</td>\n",
              "      <td>0</td>\n",
              "      <td>1</td>\n",
              "      <td>2</td>\n",
              "      <td>0</td>\n",
              "      <td>0</td>\n",
              "    </tr>\n",
              "    <tr>\n",
              "      <th>1</th>\n",
              "      <td>0</td>\n",
              "      <td>0</td>\n",
              "      <td>0</td>\n",
              "      <td>0</td>\n",
              "      <td>1</td>\n",
              "      <td>0</td>\n",
              "      <td>1</td>\n",
              "      <td>0</td>\n",
              "      <td>0</td>\n",
              "      <td>0</td>\n",
              "      <td>...</td>\n",
              "      <td>1</td>\n",
              "      <td>1</td>\n",
              "      <td>2</td>\n",
              "      <td>0</td>\n",
              "      <td>0</td>\n",
              "      <td>0</td>\n",
              "      <td>1</td>\n",
              "      <td>2</td>\n",
              "      <td>0</td>\n",
              "      <td>0</td>\n",
              "    </tr>\n",
              "    <tr>\n",
              "      <th>2</th>\n",
              "      <td>0</td>\n",
              "      <td>0</td>\n",
              "      <td>0</td>\n",
              "      <td>0</td>\n",
              "      <td>1</td>\n",
              "      <td>0</td>\n",
              "      <td>1</td>\n",
              "      <td>0</td>\n",
              "      <td>0</td>\n",
              "      <td>0</td>\n",
              "      <td>...</td>\n",
              "      <td>1</td>\n",
              "      <td>1</td>\n",
              "      <td>3</td>\n",
              "      <td>0</td>\n",
              "      <td>0</td>\n",
              "      <td>0</td>\n",
              "      <td>1</td>\n",
              "      <td>3</td>\n",
              "      <td>0</td>\n",
              "      <td>0</td>\n",
              "    </tr>\n",
              "    <tr>\n",
              "      <th>3</th>\n",
              "      <td>0</td>\n",
              "      <td>0</td>\n",
              "      <td>0</td>\n",
              "      <td>0</td>\n",
              "      <td>1</td>\n",
              "      <td>0</td>\n",
              "      <td>1</td>\n",
              "      <td>0</td>\n",
              "      <td>0</td>\n",
              "      <td>0</td>\n",
              "      <td>...</td>\n",
              "      <td>2</td>\n",
              "      <td>1</td>\n",
              "      <td>3</td>\n",
              "      <td>0</td>\n",
              "      <td>0</td>\n",
              "      <td>0</td>\n",
              "      <td>2</td>\n",
              "      <td>3</td>\n",
              "      <td>0</td>\n",
              "      <td>0</td>\n",
              "    </tr>\n",
              "    <tr>\n",
              "      <th>4</th>\n",
              "      <td>0</td>\n",
              "      <td>0</td>\n",
              "      <td>0</td>\n",
              "      <td>0</td>\n",
              "      <td>1</td>\n",
              "      <td>0</td>\n",
              "      <td>1</td>\n",
              "      <td>0</td>\n",
              "      <td>0</td>\n",
              "      <td>0</td>\n",
              "      <td>...</td>\n",
              "      <td>2</td>\n",
              "      <td>1</td>\n",
              "      <td>3</td>\n",
              "      <td>0</td>\n",
              "      <td>0</td>\n",
              "      <td>0</td>\n",
              "      <td>2</td>\n",
              "      <td>3</td>\n",
              "      <td>0</td>\n",
              "      <td>0</td>\n",
              "    </tr>\n",
              "    <tr>\n",
              "      <th>...</th>\n",
              "      <td>...</td>\n",
              "      <td>...</td>\n",
              "      <td>...</td>\n",
              "      <td>...</td>\n",
              "      <td>...</td>\n",
              "      <td>...</td>\n",
              "      <td>...</td>\n",
              "      <td>...</td>\n",
              "      <td>...</td>\n",
              "      <td>...</td>\n",
              "      <td>...</td>\n",
              "      <td>...</td>\n",
              "      <td>...</td>\n",
              "      <td>...</td>\n",
              "      <td>...</td>\n",
              "      <td>...</td>\n",
              "      <td>...</td>\n",
              "      <td>...</td>\n",
              "      <td>...</td>\n",
              "      <td>...</td>\n",
              "      <td>...</td>\n",
              "    </tr>\n",
              "    <tr>\n",
              "      <th>257668</th>\n",
              "      <td>0</td>\n",
              "      <td>0</td>\n",
              "      <td>0</td>\n",
              "      <td>0</td>\n",
              "      <td>1</td>\n",
              "      <td>0</td>\n",
              "      <td>0</td>\n",
              "      <td>1</td>\n",
              "      <td>0</td>\n",
              "      <td>0</td>\n",
              "      <td>...</td>\n",
              "      <td>24</td>\n",
              "      <td>13</td>\n",
              "      <td>24</td>\n",
              "      <td>0</td>\n",
              "      <td>0</td>\n",
              "      <td>0</td>\n",
              "      <td>24</td>\n",
              "      <td>24</td>\n",
              "      <td>0</td>\n",
              "      <td>1</td>\n",
              "    </tr>\n",
              "    <tr>\n",
              "      <th>257669</th>\n",
              "      <td>0</td>\n",
              "      <td>0</td>\n",
              "      <td>0</td>\n",
              "      <td>1</td>\n",
              "      <td>0</td>\n",
              "      <td>0</td>\n",
              "      <td>1</td>\n",
              "      <td>0</td>\n",
              "      <td>0</td>\n",
              "      <td>0</td>\n",
              "      <td>...</td>\n",
              "      <td>1</td>\n",
              "      <td>1</td>\n",
              "      <td>2</td>\n",
              "      <td>0</td>\n",
              "      <td>0</td>\n",
              "      <td>0</td>\n",
              "      <td>1</td>\n",
              "      <td>1</td>\n",
              "      <td>0</td>\n",
              "      <td>1</td>\n",
              "    </tr>\n",
              "    <tr>\n",
              "      <th>257670</th>\n",
              "      <td>0</td>\n",
              "      <td>0</td>\n",
              "      <td>0</td>\n",
              "      <td>0</td>\n",
              "      <td>1</td>\n",
              "      <td>0</td>\n",
              "      <td>0</td>\n",
              "      <td>1</td>\n",
              "      <td>0</td>\n",
              "      <td>0</td>\n",
              "      <td>...</td>\n",
              "      <td>3</td>\n",
              "      <td>3</td>\n",
              "      <td>13</td>\n",
              "      <td>0</td>\n",
              "      <td>0</td>\n",
              "      <td>0</td>\n",
              "      <td>3</td>\n",
              "      <td>12</td>\n",
              "      <td>0</td>\n",
              "      <td>1</td>\n",
              "    </tr>\n",
              "    <tr>\n",
              "      <th>257671</th>\n",
              "      <td>0</td>\n",
              "      <td>0</td>\n",
              "      <td>0</td>\n",
              "      <td>0</td>\n",
              "      <td>1</td>\n",
              "      <td>0</td>\n",
              "      <td>0</td>\n",
              "      <td>1</td>\n",
              "      <td>0</td>\n",
              "      <td>0</td>\n",
              "      <td>...</td>\n",
              "      <td>30</td>\n",
              "      <td>14</td>\n",
              "      <td>30</td>\n",
              "      <td>0</td>\n",
              "      <td>0</td>\n",
              "      <td>0</td>\n",
              "      <td>30</td>\n",
              "      <td>30</td>\n",
              "      <td>0</td>\n",
              "      <td>1</td>\n",
              "    </tr>\n",
              "    <tr>\n",
              "      <th>257672</th>\n",
              "      <td>0</td>\n",
              "      <td>0</td>\n",
              "      <td>0</td>\n",
              "      <td>0</td>\n",
              "      <td>1</td>\n",
              "      <td>0</td>\n",
              "      <td>0</td>\n",
              "      <td>1</td>\n",
              "      <td>0</td>\n",
              "      <td>0</td>\n",
              "      <td>...</td>\n",
              "      <td>30</td>\n",
              "      <td>16</td>\n",
              "      <td>30</td>\n",
              "      <td>0</td>\n",
              "      <td>0</td>\n",
              "      <td>0</td>\n",
              "      <td>30</td>\n",
              "      <td>30</td>\n",
              "      <td>0</td>\n",
              "      <td>1</td>\n",
              "    </tr>\n",
              "  </tbody>\n",
              "</table>\n",
              "<p>257673 rows × 58 columns</p>\n",
              "</div>\n",
              "      <button class=\"colab-df-convert\" onclick=\"convertToInteractive('df-481b6ed4-ea21-430e-ab7c-4c7ad571c7a3')\"\n",
              "              title=\"Convert this dataframe to an interactive table.\"\n",
              "              style=\"display:none;\">\n",
              "        \n",
              "  <svg xmlns=\"http://www.w3.org/2000/svg\" height=\"24px\"viewBox=\"0 0 24 24\"\n",
              "       width=\"24px\">\n",
              "    <path d=\"M0 0h24v24H0V0z\" fill=\"none\"/>\n",
              "    <path d=\"M18.56 5.44l.94 2.06.94-2.06 2.06-.94-2.06-.94-.94-2.06-.94 2.06-2.06.94zm-11 1L8.5 8.5l.94-2.06 2.06-.94-2.06-.94L8.5 2.5l-.94 2.06-2.06.94zm10 10l.94 2.06.94-2.06 2.06-.94-2.06-.94-.94-2.06-.94 2.06-2.06.94z\"/><path d=\"M17.41 7.96l-1.37-1.37c-.4-.4-.92-.59-1.43-.59-.52 0-1.04.2-1.43.59L10.3 9.45l-7.72 7.72c-.78.78-.78 2.05 0 2.83L4 21.41c.39.39.9.59 1.41.59.51 0 1.02-.2 1.41-.59l7.78-7.78 2.81-2.81c.8-.78.8-2.07 0-2.86zM5.41 20L4 18.59l7.72-7.72 1.47 1.35L5.41 20z\"/>\n",
              "  </svg>\n",
              "      </button>\n",
              "      \n",
              "  <style>\n",
              "    .colab-df-container {\n",
              "      display:flex;\n",
              "      flex-wrap:wrap;\n",
              "      gap: 12px;\n",
              "    }\n",
              "\n",
              "    .colab-df-convert {\n",
              "      background-color: #E8F0FE;\n",
              "      border: none;\n",
              "      border-radius: 50%;\n",
              "      cursor: pointer;\n",
              "      display: none;\n",
              "      fill: #1967D2;\n",
              "      height: 32px;\n",
              "      padding: 0 0 0 0;\n",
              "      width: 32px;\n",
              "    }\n",
              "\n",
              "    .colab-df-convert:hover {\n",
              "      background-color: #E2EBFA;\n",
              "      box-shadow: 0px 1px 2px rgba(60, 64, 67, 0.3), 0px 1px 3px 1px rgba(60, 64, 67, 0.15);\n",
              "      fill: #174EA6;\n",
              "    }\n",
              "\n",
              "    [theme=dark] .colab-df-convert {\n",
              "      background-color: #3B4455;\n",
              "      fill: #D2E3FC;\n",
              "    }\n",
              "\n",
              "    [theme=dark] .colab-df-convert:hover {\n",
              "      background-color: #434B5C;\n",
              "      box-shadow: 0px 1px 3px 1px rgba(0, 0, 0, 0.15);\n",
              "      filter: drop-shadow(0px 1px 2px rgba(0, 0, 0, 0.3));\n",
              "      fill: #FFFFFF;\n",
              "    }\n",
              "  </style>\n",
              "\n",
              "      <script>\n",
              "        const buttonEl =\n",
              "          document.querySelector('#df-481b6ed4-ea21-430e-ab7c-4c7ad571c7a3 button.colab-df-convert');\n",
              "        buttonEl.style.display =\n",
              "          google.colab.kernel.accessAllowed ? 'block' : 'none';\n",
              "\n",
              "        async function convertToInteractive(key) {\n",
              "          const element = document.querySelector('#df-481b6ed4-ea21-430e-ab7c-4c7ad571c7a3');\n",
              "          const dataTable =\n",
              "            await google.colab.kernel.invokeFunction('convertToInteractive',\n",
              "                                                     [key], {});\n",
              "          if (!dataTable) return;\n",
              "\n",
              "          const docLinkHtml = 'Like what you see? Visit the ' +\n",
              "            '<a target=\"_blank\" href=https://colab.research.google.com/notebooks/data_table.ipynb>data table notebook</a>'\n",
              "            + ' to learn more about interactive tables.';\n",
              "          element.innerHTML = '';\n",
              "          dataTable['output_type'] = 'display_data';\n",
              "          await google.colab.output.renderOutput(dataTable, element);\n",
              "          const docLink = document.createElement('div');\n",
              "          docLink.innerHTML = docLinkHtml;\n",
              "          element.appendChild(docLink);\n",
              "        }\n",
              "      </script>\n",
              "    </div>\n",
              "  </div>\n",
              "  "
            ]
          },
          "metadata": {},
          "execution_count": 3
        }
      ],
      "source": [
        "bin_data_total = pd.read_csv(\"/content/drive/MyDrive/Colab_Notebooks/nids_project_data/UNSW_NB15_data/bin_data_processed.csv\")\n",
        "bin_data_total.drop(bin_data_total.columns[0],axis=1,inplace=True)\n",
        "bin_data_total"
      ]
    },
    {
      "cell_type": "code",
      "execution_count": null,
      "metadata": {
        "colab": {
          "base_uri": "https://localhost:8080/"
        },
        "id": "xHCs0B3sKOa_",
        "outputId": "5db203cc-0124-4819-b651-5ccfc6be5e17"
      },
      "outputs": [
        {
          "output_type": "execute_result",
          "data": {
            "text/plain": [
              "1    0.639077\n",
              "0    0.360923\n",
              "Name: label, dtype: float64"
            ]
          },
          "metadata": {},
          "execution_count": 4
        }
      ],
      "source": [
        "# distribution of label class before sampling\n",
        "data_size = bin_data_total.shape[0]\n",
        "# data_size\n",
        "bin_data_total.label.value_counts()/data_size"
      ]
    },
    {
      "cell_type": "code",
      "source": [
        "# numeric feature normalization\n",
        "from sklearn.preprocessing import MinMaxScaler\n",
        "from sklearn.preprocessing import StandardScaler\n",
        "\n",
        "numeric_cols = bin_data_total.select_dtypes(['number']).columns\n",
        "numeric_cols = numeric_cols.drop('label')\n",
        "flag = 0\n",
        "scaler = None\n",
        "if flag:\n",
        "  # using standard scaler for normalizing\n",
        "  scaler = StandardScaler()\n",
        "else:\n",
        "  # using minmax scaler for normalizing\n",
        "  # to avoid negative values after scaling\n",
        "  scaler = MinMaxScaler()\n",
        "\n",
        "def normalization_train(df,col):\n",
        "  for i in col:\n",
        "    arr = df[i]\n",
        "    arr = np.array(arr)\n",
        "    df[i] = scaler.fit_transform(arr.reshape(len(arr),1))\n",
        "  return df\n",
        "\n",
        "def normalization_test(df,col):\n",
        "  for i in col:\n",
        "    arr = df[i]\n",
        "    arr = np.array(arr)\n",
        "    df[i] = scaler.transform(arr.reshape(len(arr),1))\n",
        "  return df\n",
        "\n",
        "# numeric_cols"
      ],
      "metadata": {
        "id": "QAUrPvEIYHoH"
      },
      "execution_count": null,
      "outputs": []
    },
    {
      "cell_type": "code",
      "execution_count": null,
      "metadata": {
        "colab": {
          "base_uri": "https://localhost:8080/",
          "height": 505
        },
        "id": "XSTP2AcKJgTF",
        "outputId": "95c64ccc-aea0-4b8d-c4ed-bc1f3ac57b32"
      },
      "outputs": [
        {
          "output_type": "execute_result",
          "data": {
            "text/plain": [
              "        proto_-  proto_arp  proto_ospf  proto_tcp  proto_udp  proto_unas  \\\n",
              "0             0          0           0          0          1           0   \n",
              "1             0          0           0          0          1           0   \n",
              "2             0          0           0          0          1           0   \n",
              "3             0          0           0          0          1           0   \n",
              "4             0          0           0          0          1           0   \n",
              "...         ...        ...         ...        ...        ...         ...   \n",
              "257668        0          0           0          0          1           0   \n",
              "257669        0          0           0          1          0           0   \n",
              "257670        0          0           0          0          1           0   \n",
              "257671        0          0           0          0          1           0   \n",
              "257672        0          0           0          0          1           0   \n",
              "\n",
              "        service_-  service_dns  service_ftp-data  service_http  ...  \\\n",
              "0               1            0                 0             0  ...   \n",
              "1               1            0                 0             0  ...   \n",
              "2               1            0                 0             0  ...   \n",
              "3               1            0                 0             0  ...   \n",
              "4               1            0                 0             0  ...   \n",
              "...           ...          ...               ...           ...  ...   \n",
              "257668          0            1                 0             0  ...   \n",
              "257669          1            0                 0             0  ...   \n",
              "257670          0            1                 0             0  ...   \n",
              "257671          0            1                 0             0  ...   \n",
              "257672          0            1                 0             0  ...   \n",
              "\n",
              "        ct_src_dport_ltm  ct_dst_sport_ltm  ct_dst_src_ltm  is_ftp_login  \\\n",
              "0                      1                 1               2             0   \n",
              "1                      1                 1               2             0   \n",
              "2                      1                 1               3             0   \n",
              "3                      2                 1               3             0   \n",
              "4                      2                 1               3             0   \n",
              "...                  ...               ...             ...           ...   \n",
              "257668                24                13              24             0   \n",
              "257669                 1                 1               2             0   \n",
              "257670                 3                 3              13             0   \n",
              "257671                30                14              30             0   \n",
              "257672                30                16              30             0   \n",
              "\n",
              "        ct_ftp_cmd  ct_flw_http_mthd  ct_src_ltm  ct_srv_dst  is_sm_ips_ports  \\\n",
              "0                0                 0           1           2                0   \n",
              "1                0                 0           1           2                0   \n",
              "2                0                 0           1           3                0   \n",
              "3                0                 0           2           3                0   \n",
              "4                0                 0           2           3                0   \n",
              "...            ...               ...         ...         ...              ...   \n",
              "257668           0                 0          24          24                0   \n",
              "257669           0                 0           1           1                0   \n",
              "257670           0                 0           3          12                0   \n",
              "257671           0                 0          30          30                0   \n",
              "257672           0                 0          30          30                0   \n",
              "\n",
              "        label  \n",
              "0           0  \n",
              "1           0  \n",
              "2           0  \n",
              "3           0  \n",
              "4           0  \n",
              "...       ...  \n",
              "257668      1  \n",
              "257669      1  \n",
              "257670      1  \n",
              "257671      1  \n",
              "257672      1  \n",
              "\n",
              "[257673 rows x 58 columns]"
            ],
            "text/html": [
              "\n",
              "  <div id=\"df-21001b65-a0b8-4493-9dcb-828300892355\">\n",
              "    <div class=\"colab-df-container\">\n",
              "      <div>\n",
              "<style scoped>\n",
              "    .dataframe tbody tr th:only-of-type {\n",
              "        vertical-align: middle;\n",
              "    }\n",
              "\n",
              "    .dataframe tbody tr th {\n",
              "        vertical-align: top;\n",
              "    }\n",
              "\n",
              "    .dataframe thead th {\n",
              "        text-align: right;\n",
              "    }\n",
              "</style>\n",
              "<table border=\"1\" class=\"dataframe\">\n",
              "  <thead>\n",
              "    <tr style=\"text-align: right;\">\n",
              "      <th></th>\n",
              "      <th>proto_-</th>\n",
              "      <th>proto_arp</th>\n",
              "      <th>proto_ospf</th>\n",
              "      <th>proto_tcp</th>\n",
              "      <th>proto_udp</th>\n",
              "      <th>proto_unas</th>\n",
              "      <th>service_-</th>\n",
              "      <th>service_dns</th>\n",
              "      <th>service_ftp-data</th>\n",
              "      <th>service_http</th>\n",
              "      <th>...</th>\n",
              "      <th>ct_src_dport_ltm</th>\n",
              "      <th>ct_dst_sport_ltm</th>\n",
              "      <th>ct_dst_src_ltm</th>\n",
              "      <th>is_ftp_login</th>\n",
              "      <th>ct_ftp_cmd</th>\n",
              "      <th>ct_flw_http_mthd</th>\n",
              "      <th>ct_src_ltm</th>\n",
              "      <th>ct_srv_dst</th>\n",
              "      <th>is_sm_ips_ports</th>\n",
              "      <th>label</th>\n",
              "    </tr>\n",
              "  </thead>\n",
              "  <tbody>\n",
              "    <tr>\n",
              "      <th>0</th>\n",
              "      <td>0</td>\n",
              "      <td>0</td>\n",
              "      <td>0</td>\n",
              "      <td>0</td>\n",
              "      <td>1</td>\n",
              "      <td>0</td>\n",
              "      <td>1</td>\n",
              "      <td>0</td>\n",
              "      <td>0</td>\n",
              "      <td>0</td>\n",
              "      <td>...</td>\n",
              "      <td>1</td>\n",
              "      <td>1</td>\n",
              "      <td>2</td>\n",
              "      <td>0</td>\n",
              "      <td>0</td>\n",
              "      <td>0</td>\n",
              "      <td>1</td>\n",
              "      <td>2</td>\n",
              "      <td>0</td>\n",
              "      <td>0</td>\n",
              "    </tr>\n",
              "    <tr>\n",
              "      <th>1</th>\n",
              "      <td>0</td>\n",
              "      <td>0</td>\n",
              "      <td>0</td>\n",
              "      <td>0</td>\n",
              "      <td>1</td>\n",
              "      <td>0</td>\n",
              "      <td>1</td>\n",
              "      <td>0</td>\n",
              "      <td>0</td>\n",
              "      <td>0</td>\n",
              "      <td>...</td>\n",
              "      <td>1</td>\n",
              "      <td>1</td>\n",
              "      <td>2</td>\n",
              "      <td>0</td>\n",
              "      <td>0</td>\n",
              "      <td>0</td>\n",
              "      <td>1</td>\n",
              "      <td>2</td>\n",
              "      <td>0</td>\n",
              "      <td>0</td>\n",
              "    </tr>\n",
              "    <tr>\n",
              "      <th>2</th>\n",
              "      <td>0</td>\n",
              "      <td>0</td>\n",
              "      <td>0</td>\n",
              "      <td>0</td>\n",
              "      <td>1</td>\n",
              "      <td>0</td>\n",
              "      <td>1</td>\n",
              "      <td>0</td>\n",
              "      <td>0</td>\n",
              "      <td>0</td>\n",
              "      <td>...</td>\n",
              "      <td>1</td>\n",
              "      <td>1</td>\n",
              "      <td>3</td>\n",
              "      <td>0</td>\n",
              "      <td>0</td>\n",
              "      <td>0</td>\n",
              "      <td>1</td>\n",
              "      <td>3</td>\n",
              "      <td>0</td>\n",
              "      <td>0</td>\n",
              "    </tr>\n",
              "    <tr>\n",
              "      <th>3</th>\n",
              "      <td>0</td>\n",
              "      <td>0</td>\n",
              "      <td>0</td>\n",
              "      <td>0</td>\n",
              "      <td>1</td>\n",
              "      <td>0</td>\n",
              "      <td>1</td>\n",
              "      <td>0</td>\n",
              "      <td>0</td>\n",
              "      <td>0</td>\n",
              "      <td>...</td>\n",
              "      <td>2</td>\n",
              "      <td>1</td>\n",
              "      <td>3</td>\n",
              "      <td>0</td>\n",
              "      <td>0</td>\n",
              "      <td>0</td>\n",
              "      <td>2</td>\n",
              "      <td>3</td>\n",
              "      <td>0</td>\n",
              "      <td>0</td>\n",
              "    </tr>\n",
              "    <tr>\n",
              "      <th>4</th>\n",
              "      <td>0</td>\n",
              "      <td>0</td>\n",
              "      <td>0</td>\n",
              "      <td>0</td>\n",
              "      <td>1</td>\n",
              "      <td>0</td>\n",
              "      <td>1</td>\n",
              "      <td>0</td>\n",
              "      <td>0</td>\n",
              "      <td>0</td>\n",
              "      <td>...</td>\n",
              "      <td>2</td>\n",
              "      <td>1</td>\n",
              "      <td>3</td>\n",
              "      <td>0</td>\n",
              "      <td>0</td>\n",
              "      <td>0</td>\n",
              "      <td>2</td>\n",
              "      <td>3</td>\n",
              "      <td>0</td>\n",
              "      <td>0</td>\n",
              "    </tr>\n",
              "    <tr>\n",
              "      <th>...</th>\n",
              "      <td>...</td>\n",
              "      <td>...</td>\n",
              "      <td>...</td>\n",
              "      <td>...</td>\n",
              "      <td>...</td>\n",
              "      <td>...</td>\n",
              "      <td>...</td>\n",
              "      <td>...</td>\n",
              "      <td>...</td>\n",
              "      <td>...</td>\n",
              "      <td>...</td>\n",
              "      <td>...</td>\n",
              "      <td>...</td>\n",
              "      <td>...</td>\n",
              "      <td>...</td>\n",
              "      <td>...</td>\n",
              "      <td>...</td>\n",
              "      <td>...</td>\n",
              "      <td>...</td>\n",
              "      <td>...</td>\n",
              "      <td>...</td>\n",
              "    </tr>\n",
              "    <tr>\n",
              "      <th>257668</th>\n",
              "      <td>0</td>\n",
              "      <td>0</td>\n",
              "      <td>0</td>\n",
              "      <td>0</td>\n",
              "      <td>1</td>\n",
              "      <td>0</td>\n",
              "      <td>0</td>\n",
              "      <td>1</td>\n",
              "      <td>0</td>\n",
              "      <td>0</td>\n",
              "      <td>...</td>\n",
              "      <td>24</td>\n",
              "      <td>13</td>\n",
              "      <td>24</td>\n",
              "      <td>0</td>\n",
              "      <td>0</td>\n",
              "      <td>0</td>\n",
              "      <td>24</td>\n",
              "      <td>24</td>\n",
              "      <td>0</td>\n",
              "      <td>1</td>\n",
              "    </tr>\n",
              "    <tr>\n",
              "      <th>257669</th>\n",
              "      <td>0</td>\n",
              "      <td>0</td>\n",
              "      <td>0</td>\n",
              "      <td>1</td>\n",
              "      <td>0</td>\n",
              "      <td>0</td>\n",
              "      <td>1</td>\n",
              "      <td>0</td>\n",
              "      <td>0</td>\n",
              "      <td>0</td>\n",
              "      <td>...</td>\n",
              "      <td>1</td>\n",
              "      <td>1</td>\n",
              "      <td>2</td>\n",
              "      <td>0</td>\n",
              "      <td>0</td>\n",
              "      <td>0</td>\n",
              "      <td>1</td>\n",
              "      <td>1</td>\n",
              "      <td>0</td>\n",
              "      <td>1</td>\n",
              "    </tr>\n",
              "    <tr>\n",
              "      <th>257670</th>\n",
              "      <td>0</td>\n",
              "      <td>0</td>\n",
              "      <td>0</td>\n",
              "      <td>0</td>\n",
              "      <td>1</td>\n",
              "      <td>0</td>\n",
              "      <td>0</td>\n",
              "      <td>1</td>\n",
              "      <td>0</td>\n",
              "      <td>0</td>\n",
              "      <td>...</td>\n",
              "      <td>3</td>\n",
              "      <td>3</td>\n",
              "      <td>13</td>\n",
              "      <td>0</td>\n",
              "      <td>0</td>\n",
              "      <td>0</td>\n",
              "      <td>3</td>\n",
              "      <td>12</td>\n",
              "      <td>0</td>\n",
              "      <td>1</td>\n",
              "    </tr>\n",
              "    <tr>\n",
              "      <th>257671</th>\n",
              "      <td>0</td>\n",
              "      <td>0</td>\n",
              "      <td>0</td>\n",
              "      <td>0</td>\n",
              "      <td>1</td>\n",
              "      <td>0</td>\n",
              "      <td>0</td>\n",
              "      <td>1</td>\n",
              "      <td>0</td>\n",
              "      <td>0</td>\n",
              "      <td>...</td>\n",
              "      <td>30</td>\n",
              "      <td>14</td>\n",
              "      <td>30</td>\n",
              "      <td>0</td>\n",
              "      <td>0</td>\n",
              "      <td>0</td>\n",
              "      <td>30</td>\n",
              "      <td>30</td>\n",
              "      <td>0</td>\n",
              "      <td>1</td>\n",
              "    </tr>\n",
              "    <tr>\n",
              "      <th>257672</th>\n",
              "      <td>0</td>\n",
              "      <td>0</td>\n",
              "      <td>0</td>\n",
              "      <td>0</td>\n",
              "      <td>1</td>\n",
              "      <td>0</td>\n",
              "      <td>0</td>\n",
              "      <td>1</td>\n",
              "      <td>0</td>\n",
              "      <td>0</td>\n",
              "      <td>...</td>\n",
              "      <td>30</td>\n",
              "      <td>16</td>\n",
              "      <td>30</td>\n",
              "      <td>0</td>\n",
              "      <td>0</td>\n",
              "      <td>0</td>\n",
              "      <td>30</td>\n",
              "      <td>30</td>\n",
              "      <td>0</td>\n",
              "      <td>1</td>\n",
              "    </tr>\n",
              "  </tbody>\n",
              "</table>\n",
              "<p>257673 rows × 58 columns</p>\n",
              "</div>\n",
              "      <button class=\"colab-df-convert\" onclick=\"convertToInteractive('df-21001b65-a0b8-4493-9dcb-828300892355')\"\n",
              "              title=\"Convert this dataframe to an interactive table.\"\n",
              "              style=\"display:none;\">\n",
              "        \n",
              "  <svg xmlns=\"http://www.w3.org/2000/svg\" height=\"24px\"viewBox=\"0 0 24 24\"\n",
              "       width=\"24px\">\n",
              "    <path d=\"M0 0h24v24H0V0z\" fill=\"none\"/>\n",
              "    <path d=\"M18.56 5.44l.94 2.06.94-2.06 2.06-.94-2.06-.94-.94-2.06-.94 2.06-2.06.94zm-11 1L8.5 8.5l.94-2.06 2.06-.94-2.06-.94L8.5 2.5l-.94 2.06-2.06.94zm10 10l.94 2.06.94-2.06 2.06-.94-2.06-.94-.94-2.06-.94 2.06-2.06.94z\"/><path d=\"M17.41 7.96l-1.37-1.37c-.4-.4-.92-.59-1.43-.59-.52 0-1.04.2-1.43.59L10.3 9.45l-7.72 7.72c-.78.78-.78 2.05 0 2.83L4 21.41c.39.39.9.59 1.41.59.51 0 1.02-.2 1.41-.59l7.78-7.78 2.81-2.81c.8-.78.8-2.07 0-2.86zM5.41 20L4 18.59l7.72-7.72 1.47 1.35L5.41 20z\"/>\n",
              "  </svg>\n",
              "      </button>\n",
              "      \n",
              "  <style>\n",
              "    .colab-df-container {\n",
              "      display:flex;\n",
              "      flex-wrap:wrap;\n",
              "      gap: 12px;\n",
              "    }\n",
              "\n",
              "    .colab-df-convert {\n",
              "      background-color: #E8F0FE;\n",
              "      border: none;\n",
              "      border-radius: 50%;\n",
              "      cursor: pointer;\n",
              "      display: none;\n",
              "      fill: #1967D2;\n",
              "      height: 32px;\n",
              "      padding: 0 0 0 0;\n",
              "      width: 32px;\n",
              "    }\n",
              "\n",
              "    .colab-df-convert:hover {\n",
              "      background-color: #E2EBFA;\n",
              "      box-shadow: 0px 1px 2px rgba(60, 64, 67, 0.3), 0px 1px 3px 1px rgba(60, 64, 67, 0.15);\n",
              "      fill: #174EA6;\n",
              "    }\n",
              "\n",
              "    [theme=dark] .colab-df-convert {\n",
              "      background-color: #3B4455;\n",
              "      fill: #D2E3FC;\n",
              "    }\n",
              "\n",
              "    [theme=dark] .colab-df-convert:hover {\n",
              "      background-color: #434B5C;\n",
              "      box-shadow: 0px 1px 3px 1px rgba(0, 0, 0, 0.15);\n",
              "      filter: drop-shadow(0px 1px 2px rgba(0, 0, 0, 0.3));\n",
              "      fill: #FFFFFF;\n",
              "    }\n",
              "  </style>\n",
              "\n",
              "      <script>\n",
              "        const buttonEl =\n",
              "          document.querySelector('#df-21001b65-a0b8-4493-9dcb-828300892355 button.colab-df-convert');\n",
              "        buttonEl.style.display =\n",
              "          google.colab.kernel.accessAllowed ? 'block' : 'none';\n",
              "\n",
              "        async function convertToInteractive(key) {\n",
              "          const element = document.querySelector('#df-21001b65-a0b8-4493-9dcb-828300892355');\n",
              "          const dataTable =\n",
              "            await google.colab.kernel.invokeFunction('convertToInteractive',\n",
              "                                                     [key], {});\n",
              "          if (!dataTable) return;\n",
              "\n",
              "          const docLinkHtml = 'Like what you see? Visit the ' +\n",
              "            '<a target=\"_blank\" href=https://colab.research.google.com/notebooks/data_table.ipynb>data table notebook</a>'\n",
              "            + ' to learn more about interactive tables.';\n",
              "          element.innerHTML = '';\n",
              "          dataTable['output_type'] = 'display_data';\n",
              "          await google.colab.output.renderOutput(dataTable, element);\n",
              "          const docLink = document.createElement('div');\n",
              "          docLink.innerHTML = docLinkHtml;\n",
              "          element.appendChild(docLink);\n",
              "        }\n",
              "      </script>\n",
              "    </div>\n",
              "  </div>\n",
              "  "
            ]
          },
          "metadata": {},
          "execution_count": 6
        }
      ],
      "source": [
        "# sampling data taking only 50% of the data\n",
        "# bin_data = bin_data_total.groupby('label', group_keys=False).apply(lambda x: x.sample(frac=0.5))\n",
        "bin_data = bin_data_total\n",
        "bin_data"
      ]
    },
    {
      "cell_type": "code",
      "source": [
        "number_of_cols = bin_data.shape[1]"
      ],
      "metadata": {
        "id": "N125Cc3Ukt8h"
      },
      "execution_count": null,
      "outputs": []
    },
    {
      "cell_type": "code",
      "execution_count": null,
      "metadata": {
        "colab": {
          "base_uri": "https://localhost:8080/"
        },
        "id": "nKX2TRG0J85J",
        "outputId": "4f16c314-cffa-48d2-aba3-5f2bc5a9bcc2"
      },
      "outputs": [
        {
          "output_type": "execute_result",
          "data": {
            "text/plain": [
              "1    0.639077\n",
              "0    0.360923\n",
              "Name: label, dtype: float64"
            ]
          },
          "metadata": {},
          "execution_count": 8
        }
      ],
      "source": [
        "# distribution of label class after sampling\n",
        "data_size = bin_data.shape[0]\n",
        "bin_data.label.value_counts()/data_size"
      ]
    },
    {
      "cell_type": "code",
      "execution_count": null,
      "metadata": {
        "id": "L11T2MepDzax"
      },
      "outputs": [],
      "source": [
        "model_selection = {\n",
        "    0 : \"ALL\",\n",
        "    2 : \"MLP\",\n",
        "    3 : \"LSTM\",\n",
        "    4 : \"AE\"\n",
        "}\n",
        "model_flag = 0\n",
        "svm_enable = 1"
      ]
    },
    {
      "cell_type": "code",
      "execution_count": null,
      "metadata": {
        "id": "OdRAXVlsxUVW"
      },
      "outputs": [],
      "source": [
        "X = bin_data.iloc[:,0:number_of_cols] # dataset excluding target attribute (encoded, one-hot-encoded,original)\n",
        "Y = bin_data['label'] # target attribute"
      ]
    },
    {
      "cell_type": "code",
      "execution_count": null,
      "metadata": {
        "id": "lFdHHvRtxU5B"
      },
      "outputs": [],
      "source": [
        "# splitting the dataset 75% for training and 25% testing\n",
        "X_train, X_test, y_train, y_test = train_test_split(X,Y, test_size=0.25, random_state=42) "
      ]
    },
    {
      "cell_type": "code",
      "source": [
        "# calling the normalization() function\n",
        "X_train = normalization_train(X_train,numeric_cols)\n",
        "X_train.head()"
      ],
      "metadata": {
        "colab": {
          "base_uri": "https://localhost:8080/",
          "height": 317
        },
        "id": "SLLlMtsaYJdK",
        "outputId": "89f7bea1-162d-436e-dece-929216987f4d"
      },
      "execution_count": null,
      "outputs": [
        {
          "output_type": "execute_result",
          "data": {
            "text/plain": [
              "        proto_-  proto_arp  proto_ospf  proto_tcp  proto_udp  proto_unas  \\\n",
              "92000       0.0        0.0         0.0        1.0        0.0         0.0   \n",
              "192145      0.0        0.0         0.0        0.0        1.0         0.0   \n",
              "3245        0.0        0.0         0.0        1.0        0.0         0.0   \n",
              "45792       0.0        0.0         0.0        1.0        0.0         0.0   \n",
              "250330      0.0        0.0         0.0        0.0        0.0         1.0   \n",
              "\n",
              "        service_-  service_dns  service_ftp-data  service_http  ...  \\\n",
              "92000         1.0          0.0               0.0           0.0  ...   \n",
              "192145        1.0          0.0               0.0           0.0  ...   \n",
              "3245          1.0          0.0               0.0           0.0  ...   \n",
              "45792         1.0          0.0               0.0           0.0  ...   \n",
              "250330        1.0          0.0               0.0           0.0  ...   \n",
              "\n",
              "        ct_src_dport_ltm  ct_dst_sport_ltm  ct_dst_src_ltm  is_ftp_login  \\\n",
              "92000                0.0               0.0        0.032258           0.0   \n",
              "192145               0.0               0.0        0.016129           0.0   \n",
              "3245                 0.0               0.0        0.032258           0.0   \n",
              "45792                0.0               0.0        0.000000           0.0   \n",
              "250330               0.0               0.0        0.016129           0.0   \n",
              "\n",
              "        ct_ftp_cmd  ct_flw_http_mthd  ct_src_ltm  ct_srv_dst  is_sm_ips_ports  \\\n",
              "92000          0.0               0.0    0.000000    0.032787              0.0   \n",
              "192145         0.0               0.0    0.000000    0.016393              0.0   \n",
              "3245           0.0               0.0    0.016949    0.032787              0.0   \n",
              "45792          0.0               0.0    0.000000    0.000000              0.0   \n",
              "250330         0.0               0.0    0.000000    0.016393              0.0   \n",
              "\n",
              "        label  \n",
              "92000       0  \n",
              "192145      1  \n",
              "3245        1  \n",
              "45792       1  \n",
              "250330      1  \n",
              "\n",
              "[5 rows x 58 columns]"
            ],
            "text/html": [
              "\n",
              "  <div id=\"df-033fc64d-ec2c-4053-8bd7-e14dcbba4e98\">\n",
              "    <div class=\"colab-df-container\">\n",
              "      <div>\n",
              "<style scoped>\n",
              "    .dataframe tbody tr th:only-of-type {\n",
              "        vertical-align: middle;\n",
              "    }\n",
              "\n",
              "    .dataframe tbody tr th {\n",
              "        vertical-align: top;\n",
              "    }\n",
              "\n",
              "    .dataframe thead th {\n",
              "        text-align: right;\n",
              "    }\n",
              "</style>\n",
              "<table border=\"1\" class=\"dataframe\">\n",
              "  <thead>\n",
              "    <tr style=\"text-align: right;\">\n",
              "      <th></th>\n",
              "      <th>proto_-</th>\n",
              "      <th>proto_arp</th>\n",
              "      <th>proto_ospf</th>\n",
              "      <th>proto_tcp</th>\n",
              "      <th>proto_udp</th>\n",
              "      <th>proto_unas</th>\n",
              "      <th>service_-</th>\n",
              "      <th>service_dns</th>\n",
              "      <th>service_ftp-data</th>\n",
              "      <th>service_http</th>\n",
              "      <th>...</th>\n",
              "      <th>ct_src_dport_ltm</th>\n",
              "      <th>ct_dst_sport_ltm</th>\n",
              "      <th>ct_dst_src_ltm</th>\n",
              "      <th>is_ftp_login</th>\n",
              "      <th>ct_ftp_cmd</th>\n",
              "      <th>ct_flw_http_mthd</th>\n",
              "      <th>ct_src_ltm</th>\n",
              "      <th>ct_srv_dst</th>\n",
              "      <th>is_sm_ips_ports</th>\n",
              "      <th>label</th>\n",
              "    </tr>\n",
              "  </thead>\n",
              "  <tbody>\n",
              "    <tr>\n",
              "      <th>92000</th>\n",
              "      <td>0.0</td>\n",
              "      <td>0.0</td>\n",
              "      <td>0.0</td>\n",
              "      <td>1.0</td>\n",
              "      <td>0.0</td>\n",
              "      <td>0.0</td>\n",
              "      <td>1.0</td>\n",
              "      <td>0.0</td>\n",
              "      <td>0.0</td>\n",
              "      <td>0.0</td>\n",
              "      <td>...</td>\n",
              "      <td>0.0</td>\n",
              "      <td>0.0</td>\n",
              "      <td>0.032258</td>\n",
              "      <td>0.0</td>\n",
              "      <td>0.0</td>\n",
              "      <td>0.0</td>\n",
              "      <td>0.000000</td>\n",
              "      <td>0.032787</td>\n",
              "      <td>0.0</td>\n",
              "      <td>0</td>\n",
              "    </tr>\n",
              "    <tr>\n",
              "      <th>192145</th>\n",
              "      <td>0.0</td>\n",
              "      <td>0.0</td>\n",
              "      <td>0.0</td>\n",
              "      <td>0.0</td>\n",
              "      <td>1.0</td>\n",
              "      <td>0.0</td>\n",
              "      <td>1.0</td>\n",
              "      <td>0.0</td>\n",
              "      <td>0.0</td>\n",
              "      <td>0.0</td>\n",
              "      <td>...</td>\n",
              "      <td>0.0</td>\n",
              "      <td>0.0</td>\n",
              "      <td>0.016129</td>\n",
              "      <td>0.0</td>\n",
              "      <td>0.0</td>\n",
              "      <td>0.0</td>\n",
              "      <td>0.000000</td>\n",
              "      <td>0.016393</td>\n",
              "      <td>0.0</td>\n",
              "      <td>1</td>\n",
              "    </tr>\n",
              "    <tr>\n",
              "      <th>3245</th>\n",
              "      <td>0.0</td>\n",
              "      <td>0.0</td>\n",
              "      <td>0.0</td>\n",
              "      <td>1.0</td>\n",
              "      <td>0.0</td>\n",
              "      <td>0.0</td>\n",
              "      <td>1.0</td>\n",
              "      <td>0.0</td>\n",
              "      <td>0.0</td>\n",
              "      <td>0.0</td>\n",
              "      <td>...</td>\n",
              "      <td>0.0</td>\n",
              "      <td>0.0</td>\n",
              "      <td>0.032258</td>\n",
              "      <td>0.0</td>\n",
              "      <td>0.0</td>\n",
              "      <td>0.0</td>\n",
              "      <td>0.016949</td>\n",
              "      <td>0.032787</td>\n",
              "      <td>0.0</td>\n",
              "      <td>1</td>\n",
              "    </tr>\n",
              "    <tr>\n",
              "      <th>45792</th>\n",
              "      <td>0.0</td>\n",
              "      <td>0.0</td>\n",
              "      <td>0.0</td>\n",
              "      <td>1.0</td>\n",
              "      <td>0.0</td>\n",
              "      <td>0.0</td>\n",
              "      <td>1.0</td>\n",
              "      <td>0.0</td>\n",
              "      <td>0.0</td>\n",
              "      <td>0.0</td>\n",
              "      <td>...</td>\n",
              "      <td>0.0</td>\n",
              "      <td>0.0</td>\n",
              "      <td>0.000000</td>\n",
              "      <td>0.0</td>\n",
              "      <td>0.0</td>\n",
              "      <td>0.0</td>\n",
              "      <td>0.000000</td>\n",
              "      <td>0.000000</td>\n",
              "      <td>0.0</td>\n",
              "      <td>1</td>\n",
              "    </tr>\n",
              "    <tr>\n",
              "      <th>250330</th>\n",
              "      <td>0.0</td>\n",
              "      <td>0.0</td>\n",
              "      <td>0.0</td>\n",
              "      <td>0.0</td>\n",
              "      <td>0.0</td>\n",
              "      <td>1.0</td>\n",
              "      <td>1.0</td>\n",
              "      <td>0.0</td>\n",
              "      <td>0.0</td>\n",
              "      <td>0.0</td>\n",
              "      <td>...</td>\n",
              "      <td>0.0</td>\n",
              "      <td>0.0</td>\n",
              "      <td>0.016129</td>\n",
              "      <td>0.0</td>\n",
              "      <td>0.0</td>\n",
              "      <td>0.0</td>\n",
              "      <td>0.000000</td>\n",
              "      <td>0.016393</td>\n",
              "      <td>0.0</td>\n",
              "      <td>1</td>\n",
              "    </tr>\n",
              "  </tbody>\n",
              "</table>\n",
              "<p>5 rows × 58 columns</p>\n",
              "</div>\n",
              "      <button class=\"colab-df-convert\" onclick=\"convertToInteractive('df-033fc64d-ec2c-4053-8bd7-e14dcbba4e98')\"\n",
              "              title=\"Convert this dataframe to an interactive table.\"\n",
              "              style=\"display:none;\">\n",
              "        \n",
              "  <svg xmlns=\"http://www.w3.org/2000/svg\" height=\"24px\"viewBox=\"0 0 24 24\"\n",
              "       width=\"24px\">\n",
              "    <path d=\"M0 0h24v24H0V0z\" fill=\"none\"/>\n",
              "    <path d=\"M18.56 5.44l.94 2.06.94-2.06 2.06-.94-2.06-.94-.94-2.06-.94 2.06-2.06.94zm-11 1L8.5 8.5l.94-2.06 2.06-.94-2.06-.94L8.5 2.5l-.94 2.06-2.06.94zm10 10l.94 2.06.94-2.06 2.06-.94-2.06-.94-.94-2.06-.94 2.06-2.06.94z\"/><path d=\"M17.41 7.96l-1.37-1.37c-.4-.4-.92-.59-1.43-.59-.52 0-1.04.2-1.43.59L10.3 9.45l-7.72 7.72c-.78.78-.78 2.05 0 2.83L4 21.41c.39.39.9.59 1.41.59.51 0 1.02-.2 1.41-.59l7.78-7.78 2.81-2.81c.8-.78.8-2.07 0-2.86zM5.41 20L4 18.59l7.72-7.72 1.47 1.35L5.41 20z\"/>\n",
              "  </svg>\n",
              "      </button>\n",
              "      \n",
              "  <style>\n",
              "    .colab-df-container {\n",
              "      display:flex;\n",
              "      flex-wrap:wrap;\n",
              "      gap: 12px;\n",
              "    }\n",
              "\n",
              "    .colab-df-convert {\n",
              "      background-color: #E8F0FE;\n",
              "      border: none;\n",
              "      border-radius: 50%;\n",
              "      cursor: pointer;\n",
              "      display: none;\n",
              "      fill: #1967D2;\n",
              "      height: 32px;\n",
              "      padding: 0 0 0 0;\n",
              "      width: 32px;\n",
              "    }\n",
              "\n",
              "    .colab-df-convert:hover {\n",
              "      background-color: #E2EBFA;\n",
              "      box-shadow: 0px 1px 2px rgba(60, 64, 67, 0.3), 0px 1px 3px 1px rgba(60, 64, 67, 0.15);\n",
              "      fill: #174EA6;\n",
              "    }\n",
              "\n",
              "    [theme=dark] .colab-df-convert {\n",
              "      background-color: #3B4455;\n",
              "      fill: #D2E3FC;\n",
              "    }\n",
              "\n",
              "    [theme=dark] .colab-df-convert:hover {\n",
              "      background-color: #434B5C;\n",
              "      box-shadow: 0px 1px 3px 1px rgba(0, 0, 0, 0.15);\n",
              "      filter: drop-shadow(0px 1px 2px rgba(0, 0, 0, 0.3));\n",
              "      fill: #FFFFFF;\n",
              "    }\n",
              "  </style>\n",
              "\n",
              "      <script>\n",
              "        const buttonEl =\n",
              "          document.querySelector('#df-033fc64d-ec2c-4053-8bd7-e14dcbba4e98 button.colab-df-convert');\n",
              "        buttonEl.style.display =\n",
              "          google.colab.kernel.accessAllowed ? 'block' : 'none';\n",
              "\n",
              "        async function convertToInteractive(key) {\n",
              "          const element = document.querySelector('#df-033fc64d-ec2c-4053-8bd7-e14dcbba4e98');\n",
              "          const dataTable =\n",
              "            await google.colab.kernel.invokeFunction('convertToInteractive',\n",
              "                                                     [key], {});\n",
              "          if (!dataTable) return;\n",
              "\n",
              "          const docLinkHtml = 'Like what you see? Visit the ' +\n",
              "            '<a target=\"_blank\" href=https://colab.research.google.com/notebooks/data_table.ipynb>data table notebook</a>'\n",
              "            + ' to learn more about interactive tables.';\n",
              "          element.innerHTML = '';\n",
              "          dataTable['output_type'] = 'display_data';\n",
              "          await google.colab.output.renderOutput(dataTable, element);\n",
              "          const docLink = document.createElement('div');\n",
              "          docLink.innerHTML = docLinkHtml;\n",
              "          element.appendChild(docLink);\n",
              "        }\n",
              "      </script>\n",
              "    </div>\n",
              "  </div>\n",
              "  "
            ]
          },
          "metadata": {},
          "execution_count": 12
        }
      ]
    },
    {
      "cell_type": "code",
      "source": [
        "# calling the normalization() function\n",
        "X_test = normalization_test(X_test,numeric_cols)\n",
        "X_test.head()"
      ],
      "metadata": {
        "colab": {
          "base_uri": "https://localhost:8080/",
          "height": 317
        },
        "id": "EKmhgZCobPU3",
        "outputId": "69220405-6822-45fa-889c-186422813441"
      },
      "execution_count": null,
      "outputs": [
        {
          "output_type": "execute_result",
          "data": {
            "text/plain": [
              "        proto_-  proto_arp  proto_ospf  proto_tcp  proto_udp  proto_unas  \\\n",
              "122637      0.0        0.0         0.0        1.0        0.0         0.0   \n",
              "137118      1.0        0.0         0.0        0.0        0.0         0.0   \n",
              "245289      0.0        0.0         0.0        0.0        1.0         0.0   \n",
              "221262      0.0        0.0         0.0        0.0        1.0         0.0   \n",
              "31408       0.0        0.0         0.0        1.0        0.0         0.0   \n",
              "\n",
              "        service_-  service_dns  service_ftp-data  service_http  ...  \\\n",
              "122637        1.0          0.0               0.0           0.0  ...   \n",
              "137118        1.0          0.0               0.0           0.0  ...   \n",
              "245289        0.0          1.0               0.0           0.0  ...   \n",
              "221262        0.0          1.0               0.0           0.0  ...   \n",
              "31408         0.0          0.0               0.0           1.0  ...   \n",
              "\n",
              "        ct_src_dport_ltm  ct_dst_sport_ltm  ct_dst_src_ltm  is_ftp_login  \\\n",
              "122637               1.0               1.0             1.0           0.0   \n",
              "137118               1.0               1.0             6.0           0.0   \n",
              "245289              17.0              17.0            17.0           0.0   \n",
              "221262              32.0              14.0            36.0           0.0   \n",
              "31408                1.0               1.0             1.0           0.0   \n",
              "\n",
              "        ct_ftp_cmd  ct_flw_http_mthd  ct_src_ltm  ct_srv_dst  is_sm_ips_ports  \\\n",
              "122637         0.0               0.0         3.0         4.0              0.0   \n",
              "137118         0.0               0.0         8.0         6.0              0.0   \n",
              "245289         0.0               0.0        18.0        17.0              0.0   \n",
              "221262         0.0               0.0        32.0        36.0              0.0   \n",
              "31408          0.0               1.0         1.0         2.0              0.0   \n",
              "\n",
              "        label  \n",
              "122637      0  \n",
              "137118      1  \n",
              "245289      1  \n",
              "221262      1  \n",
              "31408       0  \n",
              "\n",
              "[5 rows x 58 columns]"
            ],
            "text/html": [
              "\n",
              "  <div id=\"df-45d8fdab-37e7-4875-a108-1b401296a837\">\n",
              "    <div class=\"colab-df-container\">\n",
              "      <div>\n",
              "<style scoped>\n",
              "    .dataframe tbody tr th:only-of-type {\n",
              "        vertical-align: middle;\n",
              "    }\n",
              "\n",
              "    .dataframe tbody tr th {\n",
              "        vertical-align: top;\n",
              "    }\n",
              "\n",
              "    .dataframe thead th {\n",
              "        text-align: right;\n",
              "    }\n",
              "</style>\n",
              "<table border=\"1\" class=\"dataframe\">\n",
              "  <thead>\n",
              "    <tr style=\"text-align: right;\">\n",
              "      <th></th>\n",
              "      <th>proto_-</th>\n",
              "      <th>proto_arp</th>\n",
              "      <th>proto_ospf</th>\n",
              "      <th>proto_tcp</th>\n",
              "      <th>proto_udp</th>\n",
              "      <th>proto_unas</th>\n",
              "      <th>service_-</th>\n",
              "      <th>service_dns</th>\n",
              "      <th>service_ftp-data</th>\n",
              "      <th>service_http</th>\n",
              "      <th>...</th>\n",
              "      <th>ct_src_dport_ltm</th>\n",
              "      <th>ct_dst_sport_ltm</th>\n",
              "      <th>ct_dst_src_ltm</th>\n",
              "      <th>is_ftp_login</th>\n",
              "      <th>ct_ftp_cmd</th>\n",
              "      <th>ct_flw_http_mthd</th>\n",
              "      <th>ct_src_ltm</th>\n",
              "      <th>ct_srv_dst</th>\n",
              "      <th>is_sm_ips_ports</th>\n",
              "      <th>label</th>\n",
              "    </tr>\n",
              "  </thead>\n",
              "  <tbody>\n",
              "    <tr>\n",
              "      <th>122637</th>\n",
              "      <td>0.0</td>\n",
              "      <td>0.0</td>\n",
              "      <td>0.0</td>\n",
              "      <td>1.0</td>\n",
              "      <td>0.0</td>\n",
              "      <td>0.0</td>\n",
              "      <td>1.0</td>\n",
              "      <td>0.0</td>\n",
              "      <td>0.0</td>\n",
              "      <td>0.0</td>\n",
              "      <td>...</td>\n",
              "      <td>1.0</td>\n",
              "      <td>1.0</td>\n",
              "      <td>1.0</td>\n",
              "      <td>0.0</td>\n",
              "      <td>0.0</td>\n",
              "      <td>0.0</td>\n",
              "      <td>3.0</td>\n",
              "      <td>4.0</td>\n",
              "      <td>0.0</td>\n",
              "      <td>0</td>\n",
              "    </tr>\n",
              "    <tr>\n",
              "      <th>137118</th>\n",
              "      <td>1.0</td>\n",
              "      <td>0.0</td>\n",
              "      <td>0.0</td>\n",
              "      <td>0.0</td>\n",
              "      <td>0.0</td>\n",
              "      <td>0.0</td>\n",
              "      <td>1.0</td>\n",
              "      <td>0.0</td>\n",
              "      <td>0.0</td>\n",
              "      <td>0.0</td>\n",
              "      <td>...</td>\n",
              "      <td>1.0</td>\n",
              "      <td>1.0</td>\n",
              "      <td>6.0</td>\n",
              "      <td>0.0</td>\n",
              "      <td>0.0</td>\n",
              "      <td>0.0</td>\n",
              "      <td>8.0</td>\n",
              "      <td>6.0</td>\n",
              "      <td>0.0</td>\n",
              "      <td>1</td>\n",
              "    </tr>\n",
              "    <tr>\n",
              "      <th>245289</th>\n",
              "      <td>0.0</td>\n",
              "      <td>0.0</td>\n",
              "      <td>0.0</td>\n",
              "      <td>0.0</td>\n",
              "      <td>1.0</td>\n",
              "      <td>0.0</td>\n",
              "      <td>0.0</td>\n",
              "      <td>1.0</td>\n",
              "      <td>0.0</td>\n",
              "      <td>0.0</td>\n",
              "      <td>...</td>\n",
              "      <td>17.0</td>\n",
              "      <td>17.0</td>\n",
              "      <td>17.0</td>\n",
              "      <td>0.0</td>\n",
              "      <td>0.0</td>\n",
              "      <td>0.0</td>\n",
              "      <td>18.0</td>\n",
              "      <td>17.0</td>\n",
              "      <td>0.0</td>\n",
              "      <td>1</td>\n",
              "    </tr>\n",
              "    <tr>\n",
              "      <th>221262</th>\n",
              "      <td>0.0</td>\n",
              "      <td>0.0</td>\n",
              "      <td>0.0</td>\n",
              "      <td>0.0</td>\n",
              "      <td>1.0</td>\n",
              "      <td>0.0</td>\n",
              "      <td>0.0</td>\n",
              "      <td>1.0</td>\n",
              "      <td>0.0</td>\n",
              "      <td>0.0</td>\n",
              "      <td>...</td>\n",
              "      <td>32.0</td>\n",
              "      <td>14.0</td>\n",
              "      <td>36.0</td>\n",
              "      <td>0.0</td>\n",
              "      <td>0.0</td>\n",
              "      <td>0.0</td>\n",
              "      <td>32.0</td>\n",
              "      <td>36.0</td>\n",
              "      <td>0.0</td>\n",
              "      <td>1</td>\n",
              "    </tr>\n",
              "    <tr>\n",
              "      <th>31408</th>\n",
              "      <td>0.0</td>\n",
              "      <td>0.0</td>\n",
              "      <td>0.0</td>\n",
              "      <td>1.0</td>\n",
              "      <td>0.0</td>\n",
              "      <td>0.0</td>\n",
              "      <td>0.0</td>\n",
              "      <td>0.0</td>\n",
              "      <td>0.0</td>\n",
              "      <td>1.0</td>\n",
              "      <td>...</td>\n",
              "      <td>1.0</td>\n",
              "      <td>1.0</td>\n",
              "      <td>1.0</td>\n",
              "      <td>0.0</td>\n",
              "      <td>0.0</td>\n",
              "      <td>1.0</td>\n",
              "      <td>1.0</td>\n",
              "      <td>2.0</td>\n",
              "      <td>0.0</td>\n",
              "      <td>0</td>\n",
              "    </tr>\n",
              "  </tbody>\n",
              "</table>\n",
              "<p>5 rows × 58 columns</p>\n",
              "</div>\n",
              "      <button class=\"colab-df-convert\" onclick=\"convertToInteractive('df-45d8fdab-37e7-4875-a108-1b401296a837')\"\n",
              "              title=\"Convert this dataframe to an interactive table.\"\n",
              "              style=\"display:none;\">\n",
              "        \n",
              "  <svg xmlns=\"http://www.w3.org/2000/svg\" height=\"24px\"viewBox=\"0 0 24 24\"\n",
              "       width=\"24px\">\n",
              "    <path d=\"M0 0h24v24H0V0z\" fill=\"none\"/>\n",
              "    <path d=\"M18.56 5.44l.94 2.06.94-2.06 2.06-.94-2.06-.94-.94-2.06-.94 2.06-2.06.94zm-11 1L8.5 8.5l.94-2.06 2.06-.94-2.06-.94L8.5 2.5l-.94 2.06-2.06.94zm10 10l.94 2.06.94-2.06 2.06-.94-2.06-.94-.94-2.06-.94 2.06-2.06.94z\"/><path d=\"M17.41 7.96l-1.37-1.37c-.4-.4-.92-.59-1.43-.59-.52 0-1.04.2-1.43.59L10.3 9.45l-7.72 7.72c-.78.78-.78 2.05 0 2.83L4 21.41c.39.39.9.59 1.41.59.51 0 1.02-.2 1.41-.59l7.78-7.78 2.81-2.81c.8-.78.8-2.07 0-2.86zM5.41 20L4 18.59l7.72-7.72 1.47 1.35L5.41 20z\"/>\n",
              "  </svg>\n",
              "      </button>\n",
              "      \n",
              "  <style>\n",
              "    .colab-df-container {\n",
              "      display:flex;\n",
              "      flex-wrap:wrap;\n",
              "      gap: 12px;\n",
              "    }\n",
              "\n",
              "    .colab-df-convert {\n",
              "      background-color: #E8F0FE;\n",
              "      border: none;\n",
              "      border-radius: 50%;\n",
              "      cursor: pointer;\n",
              "      display: none;\n",
              "      fill: #1967D2;\n",
              "      height: 32px;\n",
              "      padding: 0 0 0 0;\n",
              "      width: 32px;\n",
              "    }\n",
              "\n",
              "    .colab-df-convert:hover {\n",
              "      background-color: #E2EBFA;\n",
              "      box-shadow: 0px 1px 2px rgba(60, 64, 67, 0.3), 0px 1px 3px 1px rgba(60, 64, 67, 0.15);\n",
              "      fill: #174EA6;\n",
              "    }\n",
              "\n",
              "    [theme=dark] .colab-df-convert {\n",
              "      background-color: #3B4455;\n",
              "      fill: #D2E3FC;\n",
              "    }\n",
              "\n",
              "    [theme=dark] .colab-df-convert:hover {\n",
              "      background-color: #434B5C;\n",
              "      box-shadow: 0px 1px 3px 1px rgba(0, 0, 0, 0.15);\n",
              "      filter: drop-shadow(0px 1px 2px rgba(0, 0, 0, 0.3));\n",
              "      fill: #FFFFFF;\n",
              "    }\n",
              "  </style>\n",
              "\n",
              "      <script>\n",
              "        const buttonEl =\n",
              "          document.querySelector('#df-45d8fdab-37e7-4875-a108-1b401296a837 button.colab-df-convert');\n",
              "        buttonEl.style.display =\n",
              "          google.colab.kernel.accessAllowed ? 'block' : 'none';\n",
              "\n",
              "        async function convertToInteractive(key) {\n",
              "          const element = document.querySelector('#df-45d8fdab-37e7-4875-a108-1b401296a837');\n",
              "          const dataTable =\n",
              "            await google.colab.kernel.invokeFunction('convertToInteractive',\n",
              "                                                     [key], {});\n",
              "          if (!dataTable) return;\n",
              "\n",
              "          const docLinkHtml = 'Like what you see? Visit the ' +\n",
              "            '<a target=\"_blank\" href=https://colab.research.google.com/notebooks/data_table.ipynb>data table notebook</a>'\n",
              "            + ' to learn more about interactive tables.';\n",
              "          element.innerHTML = '';\n",
              "          dataTable['output_type'] = 'display_data';\n",
              "          await google.colab.output.renderOutput(dataTable, element);\n",
              "          const docLink = document.createElement('div');\n",
              "          docLink.innerHTML = docLinkHtml;\n",
              "          element.appendChild(docLink);\n",
              "        }\n",
              "      </script>\n",
              "    </div>\n",
              "  </div>\n",
              "  "
            ]
          },
          "metadata": {},
          "execution_count": 13
        }
      ]
    },
    {
      "cell_type": "markdown",
      "metadata": {
        "id": "ZfAbEIDgz4iY"
      },
      "source": [
        "## **Linear Support Vector Machine Classifier (Binary Classification) **\n",
        "to enable make the svm_enable = 1 in the above cell"
      ]
    },
    {
      "cell_type": "code",
      "execution_count": null,
      "metadata": {
        "id": "o8GdMBjdzFQT"
      },
      "outputs": [],
      "source": [
        "if svm_enable:\n",
        "  # using kernel as linear \n",
        "  lsvm = SVC(kernel='linear',gamma='auto') \n",
        "  lsvm.fit(X_train,y_train) # training model on training dataset"
      ]
    },
    {
      "cell_type": "code",
      "execution_count": null,
      "metadata": {
        "id": "NjfYZA_9zTNK"
      },
      "outputs": [],
      "source": [
        "if svm_enable:\n",
        "  pkl_filename = \"/content/drive/MyDrive/Colab_Notebooks/Models/lsvm_binary_unsw_nb15.pkl\"\n",
        "  if (not path.isfile(pkl_filename)):\n",
        "    # saving the trained model to disk\n",
        "    with open(pkl_filename, 'wb') as file:\n",
        "      pickle.dump(lsvm, file)\n",
        "    print(\"Saved model to disk\")\n",
        "    # loading the trained model from disk\n",
        "    with open(pkl_filename, 'rb') as file:\n",
        "      lsvm = pickle.load(file)\n",
        "    print(\"Loaded model from disk\") "
      ]
    },
    {
      "cell_type": "code",
      "execution_count": null,
      "metadata": {
        "id": "xsnN51Juzgcf",
        "colab": {
          "base_uri": "https://localhost:8080/"
        },
        "outputId": "454ae87e-a076-4b9d-a704-460e02ee7b7f"
      },
      "outputs": [
        {
          "output_type": "stream",
          "name": "stdout",
          "text": [
            "LSVM-Classifier Binary Set-Accuracy is  74.31503127959142\n"
          ]
        }
      ],
      "source": [
        "if svm_enable:\n",
        "  y_pred = lsvm.predict(X_test) # predicting target attribute on testing dataset\n",
        "  ac = accuracy_score(y_test, y_pred)*100 # calculating accuracy of predicted data\n",
        "  print(\"LSVM-Classifier Binary Set-Accuracy is \", ac)"
      ]
    },
    {
      "cell_type": "code",
      "execution_count": null,
      "metadata": {
        "id": "qg2gbJTg8NtL"
      },
      "outputs": [],
      "source": [
        "# import matplotlib.pyplot as plt\n",
        "# from sklearn.datasets import make_classification\n",
        "# from sklearn.metrics import confusion_matrix, ConfusionMatrixDisplay\n",
        "# from sklearn.model_selection import train_test_split\n",
        "# from sklearn.svm import SVC\n",
        "# X, y = make_classification(random_state=0)\n",
        "# X_train, X_test, y_train, y_test = train_test_split(X, y,\n",
        "#                                                     random_state=0)\n",
        "# cm = confusion_matrix(y_test, y_pred, labels=lsvm.classes_)\n",
        "# disp = ConfusionMatrixDisplay(confusion_matrix=cm,\n",
        "#                               display_labels=lsvm.classes_)\n",
        "# disp.plot()\n",
        "\n",
        "# plt.show()"
      ]
    },
    {
      "cell_type": "code",
      "execution_count": null,
      "metadata": {
        "id": "9IydNlzT5kx6",
        "colab": {
          "base_uri": "https://localhost:8080/",
          "height": 558
        },
        "outputId": "2296385f-bdeb-4a93-ef65-cc62d9607a30"
      },
      "outputs": [
        {
          "output_type": "display_data",
          "data": {
            "text/plain": [
              "<Figure size 2000x800 with 1 Axes>"
            ],
            "image/png": "[encoded data removed]"
          },
          "metadata": {}
        }
      ],
      "source": [
        "if svm_enable:\n",
        "  plt.figure(figsize=(20,8))\n",
        "  plt.plot(y_pred[300:500], label=\"prediction\", linewidth=2.0,color='blue')\n",
        "  plt.plot(y_test[300:500].values, label=\"real_values\", linewidth=2.0,color='lightcoral')\n",
        "  plt.legend(loc=\"best\")\n",
        "  plt.ylim((-1,2))\n",
        "  plt.title(\"Linear SVM Binary Classification\")\n",
        "  plt.savefig('/content/drive/MyDrive/Colab_Notebooks/Plots/lsvm_real_pred_bin.png')\n",
        "  plt.show()"
      ]
    },
    {
      "cell_type": "code",
      "execution_count": null,
      "metadata": {
        "id": "s9lqoveaUBvg",
        "colab": {
          "base_uri": "https://localhost:8080/"
        },
        "outputId": "41287bea-ec8a-47c4-841c-9c3c67fb64be"
      },
      "outputs": [
        {
          "output_type": "stream",
          "name": "stdout",
          "text": [
            "              precision    recall  f1-score   support\n",
            "\n",
            "     class 0       0.60      0.88      0.71     23243\n",
            "     class 1       0.91      0.67      0.77     41176\n",
            "\n",
            "    accuracy                           0.74     64419\n",
            "   macro avg       0.75      0.77      0.74     64419\n",
            "weighted avg       0.80      0.74      0.75     64419\n",
            "\n"
          ]
        }
      ],
      "source": [
        "if svm_enable:\n",
        "  target_names = ['class 0', 'class 1']\n",
        "  print(classification_report(y_test, y_pred, target_names=target_names))"
      ]
    },
    {
      "cell_type": "code",
      "execution_count": null,
      "metadata": {
        "id": "kWxBZhnw9t5n",
        "colab": {
          "base_uri": "https://localhost:8080/",
          "height": 449
        },
        "outputId": "54a663ad-5e5b-453e-c7cd-07b319372ca4"
      },
      "outputs": [
        {
          "output_type": "display_data",
          "data": {
            "text/plain": [
              "<Figure size 640x480 with 2 Axes>"
            ],
            "image/png": "[encoded data removed]"
          },
          "metadata": {}
        }
      ],
      "source": [
        "if svm_enable:\n",
        "  from sklearn.metrics import confusion_matrix, ConfusionMatrixDisplay\n",
        "\n",
        "  clf = lsvm\n",
        "  cm = confusion_matrix(y_test, y_pred, labels=clf.classes_)\n",
        "  disp = ConfusionMatrixDisplay(confusion_matrix=cm,\n",
        "                                display_labels=clf.classes_)\n",
        "  disp.plot()\n",
        "\n",
        "  plt.show()"
      ]
    },
    {
      "cell_type": "markdown",
      "metadata": {
        "id": "PUjrwY2l0_RI"
      },
      "source": [
        "## **Multi Layer Perceptron Classifier (Binary Classification)**"
      ]
    },
    {
      "cell_type": "code",
      "execution_count": null,
      "metadata": {
        "id": "u9v5Ylpa1DHY"
      },
      "outputs": [],
      "source": [
        "if model_selection[model_flag]==\"ALL\" or model_selection[model_flag] == \"MLP\":\n",
        "  mlp = Sequential() # creating model\n",
        "\n",
        "  # adding input layer and first layer with 50 neurons\n",
        "  mlp.add(Dense(units=50, input_dim=X_train.shape[1], activation='relu'))\n",
        "  # output layer with sigmoid activation\n",
        "  mlp.add(Dense(units=1,activation='sigmoid'))"
      ]
    },
    {
      "cell_type": "code",
      "execution_count": null,
      "metadata": {
        "id": "E-9M9d0p1p8s"
      },
      "outputs": [],
      "source": [
        "if model_selection[model_flag]==\"ALL\" or model_selection[model_flag] == \"MLP\":\n",
        "  # defining loss function, optimizer, metrics and then compiling model\n",
        "  mlp.compile(loss='binary_crossentropy', optimizer='adam', metrics=['accuracy'])"
      ]
    },
    {
      "cell_type": "code",
      "execution_count": null,
      "metadata": {
        "id": "NK-1_akm1vO9",
        "colab": {
          "base_uri": "https://localhost:8080/"
        },
        "outputId": "b776ba73-af50-4532-978b-1e18e50d2d19"
      },
      "outputs": [
        {
          "output_type": "stream",
          "name": "stdout",
          "text": [
            "Model: \"sequential\"\n",
            "_________________________________________________________________\n",
            " Layer (type)                Output Shape              Param #   \n",
            "=================================================================\n",
            " dense (Dense)               (None, 50)                2950      \n",
            "                                                                 \n",
            " dense_1 (Dense)             (None, 1)                 51        \n",
            "                                                                 \n",
            "=================================================================\n",
            "Total params: 3,001\n",
            "Trainable params: 3,001\n",
            "Non-trainable params: 0\n",
            "_________________________________________________________________\n"
          ]
        }
      ],
      "source": [
        "if model_selection[model_flag]==\"ALL\" or model_selection[model_flag] == \"MLP\":\n",
        "  # summary of model layers\n",
        "  mlp.summary()"
      ]
    },
    {
      "cell_type": "code",
      "execution_count": null,
      "metadata": {
        "id": "UYZ4xCgp13gP",
        "colab": {
          "base_uri": "https://localhost:8080/"
        },
        "outputId": "05e6ed36-11d2-4ce2-b0ee-79b264547f05"
      },
      "outputs": [
        {
          "output_type": "stream",
          "name": "stdout",
          "text": [
            "Epoch 1/100\n",
            "31/31 [==============================] - 6s 22ms/step - loss: 0.5121 - accuracy: 0.7289 - val_loss: 0.4003 - val_accuracy: 0.8832\n",
            "Epoch 2/100\n",
            "31/31 [==============================] - 0s 10ms/step - loss: 0.3263 - accuracy: 0.9469 - val_loss: 0.2584 - val_accuracy: 0.9650\n",
            "Epoch 3/100\n",
            "31/31 [==============================] - 0s 10ms/step - loss: 0.2112 - accuracy: 0.9678 - val_loss: 0.1705 - val_accuracy: 0.9756\n",
            "Epoch 4/100\n",
            "31/31 [==============================] - 0s 7ms/step - loss: 0.1448 - accuracy: 0.9872 - val_loss: 0.1209 - val_accuracy: 0.9962\n",
            "Epoch 5/100\n",
            "31/31 [==============================] - 0s 7ms/step - loss: 0.1043 - accuracy: 0.9973 - val_loss: 0.0887 - val_accuracy: 0.9984\n",
            "Epoch 6/100\n",
            "31/31 [==============================] - 0s 6ms/step - loss: 0.0776 - accuracy: 0.9987 - val_loss: 0.0670 - val_accuracy: 0.9989\n",
            "Epoch 7/100\n",
            "31/31 [==============================] - 0s 6ms/step - loss: 0.0595 - accuracy: 0.9990 - val_loss: 0.0523 - val_accuracy: 0.9992\n",
            "Epoch 8/100\n",
            "31/31 [==============================] - 0s 6ms/step - loss: 0.0469 - accuracy: 0.9993 - val_loss: 0.0417 - val_accuracy: 0.9994\n",
            "Epoch 9/100\n",
            "31/31 [==============================] - 0s 6ms/step - loss: 0.0378 - accuracy: 0.9995 - val_loss: 0.0339 - val_accuracy: 0.9995\n",
            "Epoch 10/100\n",
            "31/31 [==============================] - 0s 6ms/step - loss: 0.0310 - accuracy: 0.9996 - val_loss: 0.0281 - val_accuracy: 0.9996\n",
            "Epoch 11/100\n",
            "31/31 [==============================] - 0s 6ms/step - loss: 0.0258 - accuracy: 0.9997 - val_loss: 0.0236 - val_accuracy: 0.9997\n",
            "Epoch 12/100\n",
            "31/31 [==============================] - 0s 6ms/step - loss: 0.0217 - accuracy: 0.9997 - val_loss: 0.0200 - val_accuracy: 0.9997\n",
            "Epoch 13/100\n",
            "31/31 [==============================] - 0s 7ms/step - loss: 0.0184 - accuracy: 0.9998 - val_loss: 0.0168 - val_accuracy: 0.9997\n",
            "Epoch 14/100\n",
            "31/31 [==============================] - 0s 6ms/step - loss: 0.0155 - accuracy: 0.9998 - val_loss: 0.0144 - val_accuracy: 0.9997\n",
            "Epoch 15/100\n",
            "31/31 [==============================] - 0s 6ms/step - loss: 0.0134 - accuracy: 0.9998 - val_loss: 0.0125 - val_accuracy: 0.9998\n",
            "Epoch 16/100\n",
            "31/31 [==============================] - 0s 6ms/step - loss: 0.0117 - accuracy: 0.9998 - val_loss: 0.0110 - val_accuracy: 0.9998\n",
            "Epoch 17/100\n",
            "31/31 [==============================] - 0s 6ms/step - loss: 0.0103 - accuracy: 0.9998 - val_loss: 0.0097 - val_accuracy: 0.9998\n",
            "Epoch 18/100\n",
            "31/31 [==============================] - 0s 7ms/step - loss: 0.0091 - accuracy: 0.9999 - val_loss: 0.0086 - val_accuracy: 0.9998\n",
            "Epoch 19/100\n",
            "31/31 [==============================] - 0s 7ms/step - loss: 0.0081 - accuracy: 0.9999 - val_loss: 0.0077 - val_accuracy: 0.9998\n",
            "Epoch 20/100\n",
            "31/31 [==============================] - 0s 6ms/step - loss: 0.0073 - accuracy: 0.9999 - val_loss: 0.0069 - val_accuracy: 0.9998\n",
            "Epoch 21/100\n",
            "31/31 [==============================] - 0s 6ms/step - loss: 0.0065 - accuracy: 0.9999 - val_loss: 0.0062 - val_accuracy: 0.9999\n",
            "Epoch 22/100\n",
            "31/31 [==============================] - 0s 6ms/step - loss: 0.0059 - accuracy: 0.9999 - val_loss: 0.0056 - val_accuracy: 1.0000\n",
            "Epoch 23/100\n",
            "31/31 [==============================] - 0s 6ms/step - loss: 0.0053 - accuracy: 1.0000 - val_loss: 0.0051 - val_accuracy: 1.0000\n",
            "Epoch 24/100\n",
            "31/31 [==============================] - 0s 6ms/step - loss: 0.0049 - accuracy: 1.0000 - val_loss: 0.0047 - val_accuracy: 1.0000\n",
            "Epoch 25/100\n",
            "31/31 [==============================] - 0s 6ms/step - loss: 0.0044 - accuracy: 1.0000 - val_loss: 0.0043 - val_accuracy: 1.0000\n",
            "Epoch 26/100\n",
            "31/31 [==============================] - 0s 6ms/step - loss: 0.0041 - accuracy: 1.0000 - val_loss: 0.0039 - val_accuracy: 1.0000\n",
            "Epoch 27/100\n",
            "31/31 [==============================] - 0s 6ms/step - loss: 0.0037 - accuracy: 1.0000 - val_loss: 0.0036 - val_accuracy: 1.0000\n",
            "Epoch 28/100\n",
            "31/31 [==============================] - 0s 6ms/step - loss: 0.0034 - accuracy: 1.0000 - val_loss: 0.0033 - val_accuracy: 1.0000\n",
            "Epoch 29/100\n",
            "31/31 [==============================] - 0s 6ms/step - loss: 0.0032 - accuracy: 1.0000 - val_loss: 0.0030 - val_accuracy: 1.0000\n",
            "Epoch 30/100\n",
            "31/31 [==============================] - 0s 7ms/step - loss: 0.0029 - accuracy: 1.0000 - val_loss: 0.0028 - val_accuracy: 1.0000\n",
            "Epoch 31/100\n",
            "31/31 [==============================] - 0s 6ms/step - loss: 0.0027 - accuracy: 1.0000 - val_loss: 0.0026 - val_accuracy: 1.0000\n",
            "Epoch 32/100\n",
            "31/31 [==============================] - 0s 6ms/step - loss: 0.0025 - accuracy: 1.0000 - val_loss: 0.0024 - val_accuracy: 1.0000\n",
            "Epoch 33/100\n",
            "31/31 [==============================] - 0s 6ms/step - loss: 0.0023 - accuracy: 1.0000 - val_loss: 0.0023 - val_accuracy: 1.0000\n",
            "Epoch 34/100\n",
            "31/31 [==============================] - 0s 6ms/step - loss: 0.0022 - accuracy: 1.0000 - val_loss: 0.0021 - val_accuracy: 1.0000\n",
            "Epoch 35/100\n",
            "31/31 [==============================] - 0s 6ms/step - loss: 0.0020 - accuracy: 1.0000 - val_loss: 0.0020 - val_accuracy: 1.0000\n",
            "Epoch 36/100\n",
            "31/31 [==============================] - 0s 6ms/step - loss: 0.0019 - accuracy: 1.0000 - val_loss: 0.0019 - val_accuracy: 1.0000\n",
            "Epoch 37/100\n",
            "31/31 [==============================] - 0s 6ms/step - loss: 0.0018 - accuracy: 1.0000 - val_loss: 0.0018 - val_accuracy: 1.0000\n",
            "Epoch 38/100\n",
            "31/31 [==============================] - 0s 6ms/step - loss: 0.0017 - accuracy: 1.0000 - val_loss: 0.0017 - val_accuracy: 1.0000\n",
            "Epoch 39/100\n",
            "31/31 [==============================] - 0s 6ms/step - loss: 0.0016 - accuracy: 1.0000 - val_loss: 0.0016 - val_accuracy: 1.0000\n",
            "Epoch 40/100\n",
            "31/31 [==============================] - 0s 6ms/step - loss: 0.0015 - accuracy: 1.0000 - val_loss: 0.0015 - val_accuracy: 1.0000\n",
            "Epoch 41/100\n",
            "31/31 [==============================] - 0s 6ms/step - loss: 0.0014 - accuracy: 1.0000 - val_loss: 0.0014 - val_accuracy: 1.0000\n",
            "Epoch 42/100\n",
            "31/31 [==============================] - 0s 6ms/step - loss: 0.0013 - accuracy: 1.0000 - val_loss: 0.0013 - val_accuracy: 1.0000\n",
            "Epoch 43/100\n",
            "31/31 [==============================] - 0s 7ms/step - loss: 0.0013 - accuracy: 1.0000 - val_loss: 0.0013 - val_accuracy: 1.0000\n",
            "Epoch 44/100\n",
            "31/31 [==============================] - 0s 7ms/step - loss: 0.0012 - accuracy: 1.0000 - val_loss: 0.0012 - val_accuracy: 1.0000\n",
            "Epoch 45/100\n",
            "31/31 [==============================] - 0s 6ms/step - loss: 0.0011 - accuracy: 1.0000 - val_loss: 0.0011 - val_accuracy: 1.0000\n",
            "Epoch 46/100\n",
            "31/31 [==============================] - 0s 6ms/step - loss: 0.0011 - accuracy: 1.0000 - val_loss: 0.0011 - val_accuracy: 1.0000\n",
            "Epoch 47/100\n",
            "31/31 [==============================] - 0s 6ms/step - loss: 0.0010 - accuracy: 1.0000 - val_loss: 0.0010 - val_accuracy: 1.0000\n",
            "Epoch 48/100\n",
            "31/31 [==============================] - 0s 6ms/step - loss: 9.8687e-04 - accuracy: 1.0000 - val_loss: 9.7380e-04 - val_accuracy: 1.0000\n",
            "Epoch 49/100\n",
            "31/31 [==============================] - 0s 6ms/step - loss: 9.4040e-04 - accuracy: 1.0000 - val_loss: 9.2851e-04 - val_accuracy: 1.0000\n",
            "Epoch 50/100\n",
            "31/31 [==============================] - 0s 6ms/step - loss: 8.9698e-04 - accuracy: 1.0000 - val_loss: 8.8641e-04 - val_accuracy: 1.0000\n",
            "Epoch 51/100\n",
            "31/31 [==============================] - 0s 6ms/step - loss: 8.5634e-04 - accuracy: 1.0000 - val_loss: 8.4733e-04 - val_accuracy: 1.0000\n",
            "Epoch 52/100\n",
            "31/31 [==============================] - 0s 6ms/step - loss: 8.1833e-04 - accuracy: 1.0000 - val_loss: 8.1019e-04 - val_accuracy: 1.0000\n",
            "Epoch 53/100\n",
            "31/31 [==============================] - 0s 6ms/step - loss: 7.8263e-04 - accuracy: 1.0000 - val_loss: 7.7561e-04 - val_accuracy: 1.0000\n",
            "Epoch 54/100\n",
            "31/31 [==============================] - 0s 7ms/step - loss: 7.4910e-04 - accuracy: 1.0000 - val_loss: 7.4294e-04 - val_accuracy: 1.0000\n",
            "Epoch 55/100\n",
            "31/31 [==============================] - 0s 10ms/step - loss: 7.1760e-04 - accuracy: 1.0000 - val_loss: 7.1237e-04 - val_accuracy: 1.0000\n",
            "Epoch 56/100\n",
            "31/31 [==============================] - 0s 9ms/step - loss: 6.8787e-04 - accuracy: 1.0000 - val_loss: 6.8326e-04 - val_accuracy: 1.0000\n",
            "Epoch 57/100\n",
            "31/31 [==============================] - 0s 10ms/step - loss: 6.5984e-04 - accuracy: 1.0000 - val_loss: 6.5599e-04 - val_accuracy: 1.0000\n",
            "Epoch 58/100\n",
            "31/31 [==============================] - 0s 10ms/step - loss: 6.3337e-04 - accuracy: 1.0000 - val_loss: 6.3002e-04 - val_accuracy: 1.0000\n",
            "Epoch 59/100\n",
            "31/31 [==============================] - 0s 10ms/step - loss: 6.0826e-04 - accuracy: 1.0000 - val_loss: 6.0557e-04 - val_accuracy: 1.0000\n",
            "Epoch 60/100\n",
            "31/31 [==============================] - 0s 10ms/step - loss: 5.8460e-04 - accuracy: 1.0000 - val_loss: 5.8232e-04 - val_accuracy: 1.0000\n",
            "Epoch 61/100\n",
            "31/31 [==============================] - 0s 9ms/step - loss: 5.6212e-04 - accuracy: 1.0000 - val_loss: 5.6039e-04 - val_accuracy: 1.0000\n",
            "Epoch 62/100\n",
            "31/31 [==============================] - 0s 10ms/step - loss: 5.4081e-04 - accuracy: 1.0000 - val_loss: 5.3957e-04 - val_accuracy: 1.0000\n",
            "Epoch 63/100\n",
            "31/31 [==============================] - 0s 9ms/step - loss: 5.2062e-04 - accuracy: 1.0000 - val_loss: 5.1973e-04 - val_accuracy: 1.0000\n",
            "Epoch 64/100\n",
            "31/31 [==============================] - 0s 9ms/step - loss: 5.0138e-04 - accuracy: 1.0000 - val_loss: 5.0092e-04 - val_accuracy: 1.0000\n",
            "Epoch 65/100\n",
            "31/31 [==============================] - 0s 9ms/step - loss: 4.8310e-04 - accuracy: 1.0000 - val_loss: 4.8301e-04 - val_accuracy: 1.0000\n",
            "Epoch 66/100\n",
            "31/31 [==============================] - 0s 9ms/step - loss: 4.6575e-04 - accuracy: 1.0000 - val_loss: 4.6592e-04 - val_accuracy: 1.0000\n",
            "Epoch 67/100\n",
            "31/31 [==============================] - 0s 6ms/step - loss: 4.4917e-04 - accuracy: 1.0000 - val_loss: 4.4959e-04 - val_accuracy: 1.0000\n",
            "Epoch 68/100\n",
            "31/31 [==============================] - 0s 7ms/step - loss: 4.3338e-04 - accuracy: 1.0000 - val_loss: 4.3412e-04 - val_accuracy: 1.0000\n",
            "Epoch 69/100\n",
            "31/31 [==============================] - 0s 6ms/step - loss: 4.1832e-04 - accuracy: 1.0000 - val_loss: 4.1930e-04 - val_accuracy: 1.0000\n",
            "Epoch 70/100\n",
            "31/31 [==============================] - 0s 6ms/step - loss: 4.0395e-04 - accuracy: 1.0000 - val_loss: 4.0513e-04 - val_accuracy: 1.0000\n",
            "Epoch 71/100\n",
            "31/31 [==============================] - 0s 6ms/step - loss: 3.9023e-04 - accuracy: 1.0000 - val_loss: 3.9155e-04 - val_accuracy: 1.0000\n",
            "Epoch 72/100\n",
            "31/31 [==============================] - 0s 6ms/step - loss: 3.7713e-04 - accuracy: 1.0000 - val_loss: 3.7861e-04 - val_accuracy: 1.0000\n",
            "Epoch 73/100\n",
            "31/31 [==============================] - 0s 6ms/step - loss: 3.6456e-04 - accuracy: 1.0000 - val_loss: 3.6627e-04 - val_accuracy: 1.0000\n",
            "Epoch 74/100\n",
            "31/31 [==============================] - 0s 6ms/step - loss: 3.5255e-04 - accuracy: 1.0000 - val_loss: 3.5444e-04 - val_accuracy: 1.0000\n",
            "Epoch 75/100\n",
            "31/31 [==============================] - 0s 7ms/step - loss: 3.4107e-04 - accuracy: 1.0000 - val_loss: 3.4314e-04 - val_accuracy: 1.0000\n",
            "Epoch 76/100\n",
            "31/31 [==============================] - 0s 6ms/step - loss: 3.3005e-04 - accuracy: 1.0000 - val_loss: 3.3217e-04 - val_accuracy: 1.0000\n",
            "Epoch 77/100\n",
            "31/31 [==============================] - 0s 7ms/step - loss: 3.1948e-04 - accuracy: 1.0000 - val_loss: 3.2182e-04 - val_accuracy: 1.0000\n",
            "Epoch 78/100\n",
            "31/31 [==============================] - 0s 6ms/step - loss: 3.0937e-04 - accuracy: 1.0000 - val_loss: 3.1180e-04 - val_accuracy: 1.0000\n",
            "Epoch 79/100\n",
            "31/31 [==============================] - 0s 6ms/step - loss: 2.9967e-04 - accuracy: 1.0000 - val_loss: 3.0212e-04 - val_accuracy: 1.0000\n",
            "Epoch 80/100\n",
            "31/31 [==============================] - 0s 6ms/step - loss: 2.9033e-04 - accuracy: 1.0000 - val_loss: 2.9296e-04 - val_accuracy: 1.0000\n",
            "Epoch 81/100\n",
            "31/31 [==============================] - 0s 6ms/step - loss: 2.8139e-04 - accuracy: 1.0000 - val_loss: 2.8407e-04 - val_accuracy: 1.0000\n",
            "Epoch 82/100\n",
            "31/31 [==============================] - 0s 6ms/step - loss: 2.7281e-04 - accuracy: 1.0000 - val_loss: 2.7555e-04 - val_accuracy: 1.0000\n",
            "Epoch 83/100\n",
            "31/31 [==============================] - 0s 6ms/step - loss: 2.6455e-04 - accuracy: 1.0000 - val_loss: 2.6734e-04 - val_accuracy: 1.0000\n",
            "Epoch 84/100\n",
            "31/31 [==============================] - 0s 6ms/step - loss: 2.5661e-04 - accuracy: 1.0000 - val_loss: 2.5954e-04 - val_accuracy: 1.0000\n",
            "Epoch 85/100\n",
            "31/31 [==============================] - 0s 6ms/step - loss: 2.4898e-04 - accuracy: 1.0000 - val_loss: 2.5195e-04 - val_accuracy: 1.0000\n",
            "Epoch 86/100\n",
            "31/31 [==============================] - 0s 7ms/step - loss: 2.4164e-04 - accuracy: 1.0000 - val_loss: 2.4470e-04 - val_accuracy: 1.0000\n",
            "Epoch 87/100\n",
            "31/31 [==============================] - 0s 6ms/step - loss: 2.3457e-04 - accuracy: 1.0000 - val_loss: 2.3766e-04 - val_accuracy: 1.0000\n",
            "Epoch 88/100\n",
            "31/31 [==============================] - 0s 7ms/step - loss: 2.2777e-04 - accuracy: 1.0000 - val_loss: 2.3093e-04 - val_accuracy: 1.0000\n",
            "Epoch 89/100\n",
            "31/31 [==============================] - 0s 6ms/step - loss: 2.2121e-04 - accuracy: 1.0000 - val_loss: 2.2443e-04 - val_accuracy: 1.0000\n",
            "Epoch 90/100\n",
            "31/31 [==============================] - 0s 7ms/step - loss: 2.1491e-04 - accuracy: 1.0000 - val_loss: 2.1816e-04 - val_accuracy: 1.0000\n",
            "Epoch 91/100\n",
            "31/31 [==============================] - 0s 7ms/step - loss: 2.0882e-04 - accuracy: 1.0000 - val_loss: 2.1209e-04 - val_accuracy: 1.0000\n",
            "Epoch 92/100\n",
            "31/31 [==============================] - 0s 6ms/step - loss: 2.0296e-04 - accuracy: 1.0000 - val_loss: 2.0629e-04 - val_accuracy: 1.0000\n",
            "Epoch 93/100\n",
            "31/31 [==============================] - 0s 6ms/step - loss: 1.9729e-04 - accuracy: 1.0000 - val_loss: 2.0063e-04 - val_accuracy: 1.0000\n",
            "Epoch 94/100\n",
            "31/31 [==============================] - 0s 6ms/step - loss: 1.9184e-04 - accuracy: 1.0000 - val_loss: 1.9520e-04 - val_accuracy: 1.0000\n",
            "Epoch 95/100\n",
            "31/31 [==============================] - 0s 6ms/step - loss: 1.8657e-04 - accuracy: 1.0000 - val_loss: 1.8991e-04 - val_accuracy: 1.0000\n",
            "Epoch 96/100\n",
            "31/31 [==============================] - 0s 6ms/step - loss: 1.8148e-04 - accuracy: 1.0000 - val_loss: 1.8486e-04 - val_accuracy: 1.0000\n",
            "Epoch 97/100\n",
            "31/31 [==============================] - 0s 6ms/step - loss: 1.7656e-04 - accuracy: 1.0000 - val_loss: 1.7993e-04 - val_accuracy: 1.0000\n",
            "Epoch 98/100\n",
            "31/31 [==============================] - 0s 6ms/step - loss: 1.7180e-04 - accuracy: 1.0000 - val_loss: 1.7521e-04 - val_accuracy: 1.0000\n",
            "Epoch 99/100\n",
            "31/31 [==============================] - 0s 6ms/step - loss: 1.6721e-04 - accuracy: 1.0000 - val_loss: 1.7063e-04 - val_accuracy: 1.0000\n",
            "Epoch 100/100\n",
            "31/31 [==============================] - 0s 6ms/step - loss: 1.6277e-04 - accuracy: 1.0000 - val_loss: 1.6617e-04 - val_accuracy: 1.0000\n"
          ]
        }
      ],
      "source": [
        "if model_selection[model_flag]==\"ALL\" or model_selection[model_flag] == \"MLP\":\n",
        "  # training the model on training dataset\n",
        "  history = mlp.fit(X_train, y_train, epochs=100, batch_size=5000,validation_split=0.2)"
      ]
    },
    {
      "cell_type": "code",
      "execution_count": null,
      "metadata": {
        "id": "_n_gNs3p1_M-"
      },
      "outputs": [],
      "source": [
        "if model_selection[model_flag]==\"ALL\" or model_selection[model_flag] == \"MLP\":\n",
        "  filepath = '/content/drive/MyDrive/Colab_Notebooks/Models/mlp_binary.json'\n",
        "  weightspath = '/content/drive/MyDrive/Colab_Notebooks/Weights/mlp_binary.h5'\n",
        "  if (not path.isfile(filepath)):\n",
        "    # serialize model to JSON\n",
        "    mlp_json = mlp.to_json()\n",
        "    with open(filepath, \"w\") as json_file:\n",
        "      json_file.write(mlp_json)\n",
        "\n",
        "    # serialize weights to HDF5\n",
        "    mlp.save_weights(weightspath)\n",
        "    print(\"Saved model to disk\")\n",
        "\n",
        "    # load json and create model\n",
        "    json_file = open(filepath, 'r')\n",
        "    loaded_model_json = json_file.read()\n",
        "    json_file.close()\n",
        "    mlp = model_from_json(loaded_model_json)\n",
        "\n",
        "    # load weights into new model\n",
        "    mlp.load_weights(weightspath)\n",
        "    print(\"Loaded model from disk\")"
      ]
    },
    {
      "cell_type": "code",
      "execution_count": null,
      "metadata": {
        "id": "G99OrVcT2JON"
      },
      "outputs": [],
      "source": [
        "if model_selection[model_flag]==\"ALL\" or model_selection[model_flag] == \"MLP\":\n",
        "  # defining loss function, optimizer, metrics and then compiling model\n",
        "  mlp.compile(loss='binary_crossentropy', optimizer='adam', metrics=['accuracy'])"
      ]
    },
    {
      "cell_type": "code",
      "execution_count": null,
      "metadata": {
        "id": "AXUA0T2N2OIB",
        "colab": {
          "base_uri": "https://localhost:8080/"
        },
        "outputId": "f7942688-588a-443b-b4d1-4b844e731f03"
      },
      "outputs": [
        {
          "output_type": "stream",
          "name": "stdout",
          "text": [
            "2014/2014 [==============================] - 6s 3ms/step - loss: 123806232.0000 - accuracy: 0.6985\n",
            "Test results - Loss: 123806232.0 - Accuracy: 69.85051035881042\n"
          ]
        }
      ],
      "source": [
        "if model_selection[model_flag]==\"ALL\" or model_selection[model_flag] == \"MLP\":\n",
        "  # predicting target attribute on testing dataset\n",
        "  test_results = mlp.evaluate(X_test, y_test, verbose=1)\n",
        "  print(f'Test results - Loss: {test_results[0]} - Accuracy: {test_results[1]*100}')"
      ]
    },
    {
      "cell_type": "code",
      "execution_count": null,
      "metadata": {
        "id": "StFTrhE65_-q",
        "colab": {
          "base_uri": "https://localhost:8080/",
          "height": 472
        },
        "outputId": "0ce7efab-a40f-4099-a967-ee15556e0b17"
      },
      "outputs": [
        {
          "output_type": "display_data",
          "data": {
            "text/plain": [
              "<Figure size 640x480 with 1 Axes>"
            ],
            "image/png": "[encoded data removed]"
          },
          "metadata": {}
        }
      ],
      "source": [
        "if model_selection[model_flag]==\"ALL\" or model_selection[model_flag] == \"MLP\":  \n",
        "  # Plot of accuracy vs epoch of train and test dataset\n",
        "  plt.plot(history.history['accuracy'])\n",
        "  plt.plot(history.history['val_accuracy'])\n",
        "  plt.title(\"Plot of accuracy vs epoch for train and test dataset\")\n",
        "  plt.ylabel('accuracy')\n",
        "  plt.xlabel('epoch')\n",
        "  plt.legend(['train', 'test'], loc='best')\n",
        "  plt.savefig('/content/drive/MyDrive/Colab_Notebooks/Plots/mlp_binary_accuracy.png')\n",
        "  plt.show()"
      ]
    },
    {
      "cell_type": "code",
      "execution_count": null,
      "metadata": {
        "id": "rZes4PzY6JUq",
        "colab": {
          "base_uri": "https://localhost:8080/",
          "height": 472
        },
        "outputId": "56897f6e-37f4-418a-9abf-bb6f87ee8751"
      },
      "outputs": [
        {
          "output_type": "display_data",
          "data": {
            "text/plain": [
              "<Figure size 640x480 with 1 Axes>"
            ],
            "image/png": "[encoded data removed]"
          },
          "metadata": {}
        }
      ],
      "source": [
        "if model_selection[model_flag]==\"ALL\" or model_selection[model_flag] == \"MLP\":\n",
        "  # Plot of loss vs epoch of train and test dataset\n",
        "  plt.plot(history.history['loss'])\n",
        "  plt.plot(history.history['val_loss'])\n",
        "  plt.title('Plot of loss vs epoch for train and test dataset')\n",
        "  plt.ylabel('loss')\n",
        "  plt.xlabel('epoch')\n",
        "  plt.legend(['train', 'test'], loc='best')\n",
        "  plt.savefig('/content/drive/MyDrive/Colab_Notebooks/Plots/mlp_binary_loss.png')\n",
        "  plt.show()"
      ]
    },
    {
      "cell_type": "code",
      "execution_count": null,
      "metadata": {
        "id": "mC0nj-on6iRU"
      },
      "outputs": [],
      "source": [
        "if model_selection[model_flag]==\"ALL\" or model_selection[model_flag] == \"MLP\":\n",
        "  # representation of model layers\n",
        "  from keras.utils.vis_utils import plot_model\n",
        "  plot_model(mlp, to_file='/content/drive/MyDrive/Colab_Notebooks/Plots/mlp_binary.png', show_shapes=True,)"
      ]
    },
    {
      "cell_type": "code",
      "execution_count": null,
      "metadata": {
        "id": "oxHdln0c6Xi_",
        "colab": {
          "base_uri": "https://localhost:8080/"
        },
        "outputId": "2337c147-3782-41ef-8b5d-e5e3fdb3c3e0"
      },
      "outputs": [
        {
          "output_type": "stream",
          "name": "stdout",
          "text": [
            "2014/2014 [==============================] - 3s 2ms/step\n"
          ]
        }
      ],
      "source": [
        "if model_selection[model_flag]==\"ALL\" or model_selection[model_flag] == \"MLP\":\n",
        "  y_pred = mlp.predict(X_test).ravel()\n",
        "  fpr, tpr, thresholds = roc_curve(y_test, y_pred)\n",
        "  auc = auc(fpr, tpr)"
      ]
    },
    {
      "cell_type": "code",
      "execution_count": null,
      "metadata": {
        "id": "Cr36q9Z-6aRU",
        "colab": {
          "base_uri": "https://localhost:8080/",
          "height": 472
        },
        "outputId": "0120ce29-c249-4c7b-895c-b973e1feb2cf"
      },
      "outputs": [
        {
          "output_type": "display_data",
          "data": {
            "text/plain": [
              "<Figure size 640x480 with 1 Axes>"
            ],
            "image/png": "[encoded data removed]"
          },
          "metadata": {}
        }
      ],
      "source": [
        "if model_selection[model_flag]==\"ALL\" or model_selection[model_flag] == \"MLP\":\n",
        "  plt.plot([0, 1], [0, 1], 'k--')\n",
        "  plt.plot(fpr, tpr, label='Keras (area = {:.3f})'.format(auc))\n",
        "  plt.xlabel('False positive rate')\n",
        "  plt.ylabel('True positive rate')\n",
        "  plt.title('ROC curve')\n",
        "  plt.legend(loc='best')\n",
        "  plt.savefig('/content/drive/MyDrive/Colab_Notebooks/Plots/mlp_binary_roc.png')\n",
        "  plt.show()"
      ]
    },
    {
      "cell_type": "code",
      "execution_count": null,
      "metadata": {
        "id": "U9f2bWPwFljk"
      },
      "outputs": [],
      "source": [
        "# real_data_kdd = bin_data.copy()\n",
        "\n",
        "# # Names of the columns that are discrete\n",
        "# cat_cols = real_data_kdd.select_dtypes(['object']).columns\n",
        "# # cat_cols\n",
        "# test_data = real_data_kdd.iloc[:999]\n",
        "\n",
        "# corr= test_data.corr()\n",
        "# corr_y = abs(corr['label'])\n",
        "# highest_corr = corr_y\n",
        "# highest_corr.sort_values(ascending=True)"
      ]
    },
    {
      "cell_type": "code",
      "execution_count": null,
      "metadata": {
        "id": "8-clVdUoUPa-",
        "colab": {
          "base_uri": "https://localhost:8080/"
        },
        "outputId": "bf9a0742-fbdb-49e0-97a2-af140af56076"
      },
      "outputs": [
        {
          "output_type": "stream",
          "name": "stdout",
          "text": [
            "2014/2014 [==============================] - 3s 1ms/step\n"
          ]
        }
      ],
      "source": [
        "if model_selection[model_flag]==\"ALL\" or model_selection[model_flag] == \"MLP\":\n",
        "  y_classes = (mlp.predict(X_test)>0.5).astype('int32')"
      ]
    },
    {
      "cell_type": "code",
      "execution_count": null,
      "metadata": {
        "id": "0jcFqEqFT-uq",
        "colab": {
          "base_uri": "https://localhost:8080/"
        },
        "outputId": "9ceb96bd-1186-483b-b57d-d07d357cda4e"
      },
      "outputs": [
        {
          "output_type": "stream",
          "name": "stdout",
          "text": [
            "Recall Score -  0.9850641150184574\n",
            "F1 Score -  0.8068308402291535\n",
            "Precision Score -  0.683213178816871\n"
          ]
        }
      ],
      "source": [
        "if model_selection[model_flag]==\"ALL\" or model_selection[model_flag] == \"MLP\":\n",
        "  print(\"Recall Score - \",recall_score(y_test,y_classes))\n",
        "  print(\"F1 Score - \",f1_score(y_test,y_classes))\n",
        "  print(\"Precision Score - \",precision_score(y_test,y_classes))"
      ]
    },
    {
      "cell_type": "code",
      "source": [
        "print(classification_report(y_test, y_classes, target_names=['0', '1']))\n",
        "cm = confusion_matrix(y_test, y_classes)\n",
        "disp = ConfusionMatrixDisplay(confusion_matrix=cm,\n",
        "                              display_labels=['0', '1'])\n",
        "disp.plot()\n",
        "\n",
        "plt.show()"
      ],
      "metadata": {
        "id": "3HJB6IXJsxjg",
        "colab": {
          "base_uri": "https://localhost:8080/",
          "height": 611
        },
        "outputId": "771bbf6e-91ab-4025-8bf5-02968f5eef86"
      },
      "execution_count": null,
      "outputs": [
        {
          "output_type": "stream",
          "name": "stdout",
          "text": [
            "              precision    recall  f1-score   support\n",
            "\n",
            "           0       0.88      0.19      0.31     23243\n",
            "           1       0.68      0.99      0.81     41176\n",
            "\n",
            "    accuracy                           0.70     64419\n",
            "   macro avg       0.78      0.59      0.56     64419\n",
            "weighted avg       0.75      0.70      0.63     64419\n",
            "\n"
          ]
        },
        {
          "output_type": "display_data",
          "data": {
            "text/plain": [
              "<Figure size 640x480 with 2 Axes>"
            ],
            "image/png": "[encoded data removed]"
          },
          "metadata": {}
        }
      ]
    },
    {
      "cell_type": "markdown",
      "source": [
        "# **Correlation** Matrix of Features"
      ],
      "metadata": {
        "id": "j7BKdCwqs2RE"
      }
    },
    {
      "cell_type": "code",
      "execution_count": null,
      "metadata": {
        "id": "TL8zt-tHLt90",
        "colab": {
          "base_uri": "https://localhost:8080/"
        },
        "outputId": "bd2a0633-889e-4729-ab7a-bc7a19033dfe"
      },
      "outputs": [
        {
          "output_type": "execute_result",
          "data": {
            "text/plain": [
              "state_FIN           0.309305\n",
              "ct_src_dport_ltm    0.318518\n",
              "rate                0.335883\n",
              "dwin                0.339166\n",
              "state_CON           0.345195\n",
              "dload               0.352169\n",
              "swin                0.364877\n",
              "proto_tcp           0.364981\n",
              "ct_dst_sport_ltm    0.371672\n",
              "ct_state_ttl        0.476559\n",
              "id                  0.490584\n",
              "state_INT           0.516735\n",
              "sttl                0.624082\n",
              "label               1.000000\n",
              "Name: label, dtype: float64"
            ]
          },
          "metadata": {},
          "execution_count": 37
        }
      ],
      "source": [
        "corr= bin_data.corr()\n",
        "corr_y = abs(corr['label'])\n",
        "highest_corr = corr_y[corr_y >0.3]\n",
        "highest_corr.sort_values(ascending=True)"
      ]
    },
    {
      "cell_type": "code",
      "source": [
        "plt.matshow(corr)\n",
        "plt.show()"
      ],
      "metadata": {
        "colab": {
          "base_uri": "https://localhost:8080/",
          "height": 437
        },
        "id": "q4b094WVtQQ7",
        "outputId": "4d673f16-8d1c-4a39-cd8b-f50f36fba73d"
      },
      "execution_count": null,
      "outputs": [
        {
          "output_type": "display_data",
          "data": {
            "text/plain": [
              "<Figure size 480x480 with 1 Axes>"
            ],
            "image/png": "[encoded data removed]"
          },
          "metadata": {}
        }
      ]
    },
    {
      "cell_type": "markdown",
      "metadata": {
        "id": "ZHhtNjFLPj6Y"
      },
      "source": [
        "## **LSTM Classifier**"
      ]
    },
    {
      "cell_type": "code",
      "execution_count": null,
      "metadata": {
        "id": "DTNPkQMNL5Eh",
        "colab": {
          "base_uri": "https://localhost:8080/"
        },
        "outputId": "9ea98b14-92b9-4207-a27b-c9929983c367"
      },
      "outputs": [
        {
          "output_type": "execute_result",
          "data": {
            "text/plain": [
              "(193254, 58)"
            ]
          },
          "metadata": {},
          "execution_count": 39
        }
      ],
      "source": [
        "X_train = np.array(X_train)\n",
        "X_test = np.array(X_test)\n",
        "# y_train.shape   #(18896,)\n",
        "X_train.shape"
      ]
    },
    {
      "cell_type": "code",
      "execution_count": null,
      "metadata": {
        "id": "9n-QlBDXPMl4",
        "colab": {
          "base_uri": "https://localhost:8080/"
        },
        "outputId": "b4eb6ed3-729d-484b-fa7b-a64bc8aa766d"
      },
      "outputs": [
        {
          "output_type": "execute_result",
          "data": {
            "text/plain": [
              "numpy.ndarray"
            ]
          },
          "metadata": {},
          "execution_count": 40
        }
      ],
      "source": [
        "y_train = np.array(y_train)\n",
        "type(y_train)"
      ]
    },
    {
      "cell_type": "code",
      "execution_count": null,
      "metadata": {
        "id": "-8Ro_ZRQPdZz",
        "colab": {
          "base_uri": "https://localhost:8080/"
        },
        "outputId": "c78c449b-f7eb-411c-fe80-9cf06b18d412"
      },
      "outputs": [
        {
          "output_type": "execute_result",
          "data": {
            "text/plain": [
              "(193254, 1, 58)"
            ]
          },
          "metadata": {},
          "execution_count": 41
        }
      ],
      "source": [
        "x_train = np.reshape(X_train, (X_train.shape[0],1,X_train.shape[1]))\n",
        "x_train.shape"
      ]
    },
    {
      "cell_type": "code",
      "source": [
        "x_train.shape[2]"
      ],
      "metadata": {
        "colab": {
          "base_uri": "https://localhost:8080/"
        },
        "id": "EuvuETcGpkje",
        "outputId": "4009a534-6d61-45c4-d781-a18d39ce3c13"
      },
      "execution_count": null,
      "outputs": [
        {
          "output_type": "execute_result",
          "data": {
            "text/plain": [
              "58"
            ]
          },
          "metadata": {},
          "execution_count": 42
        }
      ]
    },
    {
      "cell_type": "code",
      "execution_count": null,
      "metadata": {
        "id": "pLIl946zQQwG",
        "colab": {
          "base_uri": "https://localhost:8080/"
        },
        "outputId": "d838858d-2832-482e-f346-57a77c9867be"
      },
      "outputs": [
        {
          "output_type": "execute_result",
          "data": {
            "text/plain": [
              "(64419, 1, 58)"
            ]
          },
          "metadata": {},
          "execution_count": 43
        }
      ],
      "source": [
        "x_test = np.reshape(X_test, (X_test.shape[0],1,X_test.shape[1]))\n",
        "x_test.shape"
      ]
    },
    {
      "cell_type": "code",
      "execution_count": null,
      "metadata": {
        "id": "jWsrkPEmQcY7"
      },
      "outputs": [],
      "source": [
        "if model_selection[model_flag]==\"ALL\" or model_selection[model_flag] == \"LSTM\":\n",
        "  lst = Sequential()\n",
        "  # input layer and LSTM layer with 50 neurons\n",
        "  input_features = x_train.shape[2]\n",
        "  lst.add(LSTM(50,input_dim=input_features))\n",
        "\n",
        "  # outpute layer with sigmoid activation\n",
        "  lst.add(Dense(1,activation='sigmoid'))"
      ]
    },
    {
      "cell_type": "code",
      "execution_count": null,
      "metadata": {
        "id": "UEmba1H9Q_qj"
      },
      "outputs": [],
      "source": [
        "if model_selection[model_flag]==\"ALL\" or model_selection[model_flag] == \"LSTM\":\n",
        "  # defining loss function, optimizer, metrics and then compiling model\n",
        "  lst.compile(loss='binary_crossentropy',optimizer='adam',metrics=['accuracy'])"
      ]
    },
    {
      "cell_type": "code",
      "execution_count": null,
      "metadata": {
        "id": "anR58jV2RCtz",
        "colab": {
          "base_uri": "https://localhost:8080/"
        },
        "outputId": "d87364d2-b779-4d56-8767-cd9667fb8eab"
      },
      "outputs": [
        {
          "output_type": "stream",
          "name": "stdout",
          "text": [
            "Model: \"sequential_1\"\n",
            "_________________________________________________________________\n",
            " Layer (type)                Output Shape              Param #   \n",
            "=================================================================\n",
            " lstm (LSTM)                 (None, 50)                21800     \n",
            "                                                                 \n",
            " dense_2 (Dense)             (None, 1)                 51        \n",
            "                                                                 \n",
            "=================================================================\n",
            "Total params: 21,851\n",
            "Trainable params: 21,851\n",
            "Non-trainable params: 0\n",
            "_________________________________________________________________\n"
          ]
        }
      ],
      "source": [
        "if model_selection[model_flag]==\"ALL\" or model_selection[model_flag] == \"LSTM\":\n",
        "  # summary of model layers\n",
        "  lst.summary()"
      ]
    },
    {
      "cell_type": "code",
      "execution_count": null,
      "metadata": {
        "id": "_Pa4Qi12RJS_",
        "colab": {
          "base_uri": "https://localhost:8080/"
        },
        "outputId": "aba01d31-fbf0-425e-d110-5375923c9ba5"
      },
      "outputs": [
        {
          "output_type": "stream",
          "name": "stdout",
          "text": [
            "Epoch 1/100\n",
            "31/31 [==============================] - 6s 21ms/step - loss: 0.6297 - accuracy: 0.7331 - val_loss: 0.5639 - val_accuracy: 0.7930\n",
            "Epoch 2/100\n",
            "31/31 [==============================] - 0s 6ms/step - loss: 0.5056 - accuracy: 0.8055 - val_loss: 0.4458 - val_accuracy: 0.8266\n",
            "Epoch 3/100\n",
            "31/31 [==============================] - 0s 7ms/step - loss: 0.3959 - accuracy: 0.8456 - val_loss: 0.3435 - val_accuracy: 0.8805\n",
            "Epoch 4/100\n",
            "31/31 [==============================] - 0s 6ms/step - loss: 0.2993 - accuracy: 0.9236 - val_loss: 0.2531 - val_accuracy: 0.9440\n",
            "Epoch 5/100\n",
            "31/31 [==============================] - 0s 7ms/step - loss: 0.2170 - accuracy: 0.9487 - val_loss: 0.1806 - val_accuracy: 0.9516\n",
            "Epoch 6/100\n",
            "31/31 [==============================] - 0s 8ms/step - loss: 0.1543 - accuracy: 0.9602 - val_loss: 0.1283 - val_accuracy: 0.9737\n",
            "Epoch 7/100\n",
            "31/31 [==============================] - 0s 8ms/step - loss: 0.1103 - accuracy: 0.9836 - val_loss: 0.0926 - val_accuracy: 0.9913\n",
            "Epoch 8/100\n",
            "31/31 [==============================] - 0s 7ms/step - loss: 0.0804 - accuracy: 0.9942 - val_loss: 0.0685 - val_accuracy: 0.9965\n",
            "Epoch 9/100\n",
            "31/31 [==============================] - 0s 6ms/step - loss: 0.0601 - accuracy: 0.9968 - val_loss: 0.0520 - val_accuracy: 0.9976\n",
            "Epoch 10/100\n",
            "31/31 [==============================] - 0s 6ms/step - loss: 0.0461 - accuracy: 0.9978 - val_loss: 0.0405 - val_accuracy: 0.9979\n",
            "Epoch 11/100\n",
            "31/31 [==============================] - 0s 6ms/step - loss: 0.0363 - accuracy: 0.9981 - val_loss: 0.0323 - val_accuracy: 0.9984\n",
            "Epoch 12/100\n",
            "31/31 [==============================] - 0s 6ms/step - loss: 0.0292 - accuracy: 0.9985 - val_loss: 0.0262 - val_accuracy: 0.9986\n",
            "Epoch 13/100\n",
            "31/31 [==============================] - 0s 7ms/step - loss: 0.0239 - accuracy: 0.9987 - val_loss: 0.0217 - val_accuracy: 0.9988\n",
            "Epoch 14/100\n",
            "31/31 [==============================] - 0s 6ms/step - loss: 0.0199 - accuracy: 0.9989 - val_loss: 0.0182 - val_accuracy: 0.9990\n",
            "Epoch 15/100\n",
            "31/31 [==============================] - 0s 6ms/step - loss: 0.0168 - accuracy: 0.9991 - val_loss: 0.0155 - val_accuracy: 0.9991\n",
            "Epoch 16/100\n",
            "31/31 [==============================] - 0s 7ms/step - loss: 0.0143 - accuracy: 0.9994 - val_loss: 0.0133 - val_accuracy: 0.9995\n",
            "Epoch 17/100\n",
            "31/31 [==============================] - 0s 8ms/step - loss: 0.0123 - accuracy: 0.9995 - val_loss: 0.0116 - val_accuracy: 0.9995\n",
            "Epoch 18/100\n",
            "31/31 [==============================] - 0s 8ms/step - loss: 0.0107 - accuracy: 0.9996 - val_loss: 0.0102 - val_accuracy: 0.9996\n",
            "Epoch 19/100\n",
            "31/31 [==============================] - 0s 6ms/step - loss: 0.0094 - accuracy: 0.9997 - val_loss: 0.0090 - val_accuracy: 0.9997\n",
            "Epoch 20/100\n",
            "31/31 [==============================] - 0s 7ms/step - loss: 0.0084 - accuracy: 0.9997 - val_loss: 0.0080 - val_accuracy: 0.9997\n",
            "Epoch 21/100\n",
            "31/31 [==============================] - 0s 8ms/step - loss: 0.0074 - accuracy: 0.9997 - val_loss: 0.0071 - val_accuracy: 0.9997\n",
            "Epoch 22/100\n",
            "31/31 [==============================] - 0s 7ms/step - loss: 0.0067 - accuracy: 0.9997 - val_loss: 0.0064 - val_accuracy: 0.9997\n",
            "Epoch 23/100\n",
            "31/31 [==============================] - 0s 8ms/step - loss: 0.0060 - accuracy: 0.9998 - val_loss: 0.0058 - val_accuracy: 0.9997\n",
            "Epoch 24/100\n",
            "31/31 [==============================] - 0s 7ms/step - loss: 0.0054 - accuracy: 0.9998 - val_loss: 0.0053 - val_accuracy: 0.9997\n",
            "Epoch 25/100\n",
            "31/31 [==============================] - 0s 8ms/step - loss: 0.0049 - accuracy: 0.9998 - val_loss: 0.0048 - val_accuracy: 0.9997\n",
            "Epoch 26/100\n",
            "31/31 [==============================] - 0s 7ms/step - loss: 0.0045 - accuracy: 0.9998 - val_loss: 0.0044 - val_accuracy: 0.9997\n",
            "Epoch 27/100\n",
            "31/31 [==============================] - 0s 7ms/step - loss: 0.0041 - accuracy: 0.9998 - val_loss: 0.0040 - val_accuracy: 0.9997\n",
            "Epoch 28/100\n",
            "31/31 [==============================] - 0s 6ms/step - loss: 0.0038 - accuracy: 0.9998 - val_loss: 0.0037 - val_accuracy: 0.9997\n",
            "Epoch 29/100\n",
            "31/31 [==============================] - 0s 7ms/step - loss: 0.0035 - accuracy: 0.9998 - val_loss: 0.0034 - val_accuracy: 0.9997\n",
            "Epoch 30/100\n",
            "31/31 [==============================] - 0s 7ms/step - loss: 0.0032 - accuracy: 0.9998 - val_loss: 0.0032 - val_accuracy: 0.9997\n",
            "Epoch 31/100\n",
            "31/31 [==============================] - 0s 8ms/step - loss: 0.0030 - accuracy: 0.9998 - val_loss: 0.0029 - val_accuracy: 0.9997\n",
            "Epoch 32/100\n",
            "31/31 [==============================] - 0s 6ms/step - loss: 0.0027 - accuracy: 0.9998 - val_loss: 0.0027 - val_accuracy: 0.9997\n",
            "Epoch 33/100\n",
            "31/31 [==============================] - 0s 7ms/step - loss: 0.0026 - accuracy: 0.9999 - val_loss: 0.0025 - val_accuracy: 0.9997\n",
            "Epoch 34/100\n",
            "31/31 [==============================] - 0s 9ms/step - loss: 0.0024 - accuracy: 0.9999 - val_loss: 0.0024 - val_accuracy: 0.9997\n",
            "Epoch 35/100\n",
            "31/31 [==============================] - 0s 8ms/step - loss: 0.0022 - accuracy: 0.9999 - val_loss: 0.0022 - val_accuracy: 0.9998\n",
            "Epoch 36/100\n",
            "31/31 [==============================] - 0s 7ms/step - loss: 0.0021 - accuracy: 0.9999 - val_loss: 0.0021 - val_accuracy: 0.9998\n",
            "Epoch 37/100\n",
            "31/31 [==============================] - 0s 6ms/step - loss: 0.0019 - accuracy: 0.9999 - val_loss: 0.0020 - val_accuracy: 0.9998\n",
            "Epoch 38/100\n",
            "31/31 [==============================] - 0s 9ms/step - loss: 0.0018 - accuracy: 0.9999 - val_loss: 0.0018 - val_accuracy: 0.9999\n",
            "Epoch 39/100\n",
            "31/31 [==============================] - 0s 11ms/step - loss: 0.0017 - accuracy: 1.0000 - val_loss: 0.0017 - val_accuracy: 0.9999\n",
            "Epoch 40/100\n",
            "31/31 [==============================] - 0s 10ms/step - loss: 0.0016 - accuracy: 1.0000 - val_loss: 0.0016 - val_accuracy: 0.9999\n",
            "Epoch 41/100\n",
            "31/31 [==============================] - 0s 10ms/step - loss: 0.0015 - accuracy: 1.0000 - val_loss: 0.0015 - val_accuracy: 1.0000\n",
            "Epoch 42/100\n",
            "31/31 [==============================] - 0s 10ms/step - loss: 0.0014 - accuracy: 1.0000 - val_loss: 0.0015 - val_accuracy: 1.0000\n",
            "Epoch 43/100\n",
            "31/31 [==============================] - 0s 10ms/step - loss: 0.0014 - accuracy: 1.0000 - val_loss: 0.0014 - val_accuracy: 1.0000\n",
            "Epoch 44/100\n",
            "31/31 [==============================] - 0s 10ms/step - loss: 0.0013 - accuracy: 1.0000 - val_loss: 0.0013 - val_accuracy: 1.0000\n",
            "Epoch 45/100\n",
            "31/31 [==============================] - 0s 11ms/step - loss: 0.0012 - accuracy: 1.0000 - val_loss: 0.0012 - val_accuracy: 1.0000\n",
            "Epoch 46/100\n",
            "31/31 [==============================] - 0s 11ms/step - loss: 0.0012 - accuracy: 1.0000 - val_loss: 0.0012 - val_accuracy: 1.0000\n",
            "Epoch 47/100\n",
            "31/31 [==============================] - 0s 10ms/step - loss: 0.0011 - accuracy: 1.0000 - val_loss: 0.0011 - val_accuracy: 1.0000\n",
            "Epoch 48/100\n",
            "31/31 [==============================] - 0s 11ms/step - loss: 0.0010 - accuracy: 1.0000 - val_loss: 0.0011 - val_accuracy: 1.0000\n",
            "Epoch 49/100\n",
            "31/31 [==============================] - 0s 9ms/step - loss: 9.9704e-04 - accuracy: 1.0000 - val_loss: 0.0010 - val_accuracy: 1.0000\n",
            "Epoch 50/100\n",
            "31/31 [==============================] - 0s 8ms/step - loss: 9.5049e-04 - accuracy: 1.0000 - val_loss: 9.7455e-04 - val_accuracy: 1.0000\n",
            "Epoch 51/100\n",
            "31/31 [==============================] - 0s 7ms/step - loss: 9.0697e-04 - accuracy: 1.0000 - val_loss: 9.3120e-04 - val_accuracy: 1.0000\n",
            "Epoch 52/100\n",
            "31/31 [==============================] - 0s 7ms/step - loss: 8.6638e-04 - accuracy: 1.0000 - val_loss: 8.9087e-04 - val_accuracy: 1.0000\n",
            "Epoch 53/100\n",
            "31/31 [==============================] - 0s 7ms/step - loss: 8.2827e-04 - accuracy: 1.0000 - val_loss: 8.5243e-04 - val_accuracy: 1.0000\n",
            "Epoch 54/100\n",
            "31/31 [==============================] - 0s 6ms/step - loss: 7.9246e-04 - accuracy: 1.0000 - val_loss: 8.1703e-04 - val_accuracy: 1.0000\n",
            "Epoch 55/100\n",
            "31/31 [==============================] - 0s 7ms/step - loss: 7.5877e-04 - accuracy: 1.0000 - val_loss: 7.8376e-04 - val_accuracy: 1.0000\n",
            "Epoch 56/100\n",
            "31/31 [==============================] - 0s 6ms/step - loss: 7.2713e-04 - accuracy: 1.0000 - val_loss: 7.5231e-04 - val_accuracy: 1.0000\n",
            "Epoch 57/100\n",
            "31/31 [==============================] - 0s 6ms/step - loss: 6.9734e-04 - accuracy: 1.0000 - val_loss: 7.2254e-04 - val_accuracy: 1.0000\n",
            "Epoch 58/100\n",
            "31/31 [==============================] - 0s 6ms/step - loss: 6.6920e-04 - accuracy: 1.0000 - val_loss: 6.9447e-04 - val_accuracy: 1.0000\n",
            "Epoch 59/100\n",
            "31/31 [==============================] - 0s 7ms/step - loss: 6.4265e-04 - accuracy: 1.0000 - val_loss: 6.6746e-04 - val_accuracy: 1.0000\n",
            "Epoch 60/100\n",
            "31/31 [==============================] - 0s 8ms/step - loss: 6.1739e-04 - accuracy: 1.0000 - val_loss: 6.4273e-04 - val_accuracy: 1.0000\n",
            "Epoch 61/100\n",
            "31/31 [==============================] - 0s 6ms/step - loss: 5.9376e-04 - accuracy: 1.0000 - val_loss: 6.1867e-04 - val_accuracy: 1.0000\n",
            "Epoch 62/100\n",
            "31/31 [==============================] - 0s 6ms/step - loss: 5.7111e-04 - accuracy: 1.0000 - val_loss: 5.9647e-04 - val_accuracy: 1.0000\n",
            "Epoch 63/100\n",
            "31/31 [==============================] - 0s 7ms/step - loss: 5.4977e-04 - accuracy: 1.0000 - val_loss: 5.7471e-04 - val_accuracy: 1.0000\n",
            "Epoch 64/100\n",
            "31/31 [==============================] - 0s 6ms/step - loss: 5.2952e-04 - accuracy: 1.0000 - val_loss: 5.5454e-04 - val_accuracy: 1.0000\n",
            "Epoch 65/100\n",
            "31/31 [==============================] - 0s 7ms/step - loss: 5.1030e-04 - accuracy: 1.0000 - val_loss: 5.3561e-04 - val_accuracy: 1.0000\n",
            "Epoch 66/100\n",
            "31/31 [==============================] - 0s 8ms/step - loss: 4.9190e-04 - accuracy: 1.0000 - val_loss: 5.1673e-04 - val_accuracy: 1.0000\n",
            "Epoch 67/100\n",
            "31/31 [==============================] - 0s 7ms/step - loss: 4.7457e-04 - accuracy: 1.0000 - val_loss: 4.9957e-04 - val_accuracy: 1.0000\n",
            "Epoch 68/100\n",
            "31/31 [==============================] - 0s 8ms/step - loss: 4.5794e-04 - accuracy: 1.0000 - val_loss: 4.8283e-04 - val_accuracy: 1.0000\n",
            "Epoch 69/100\n",
            "31/31 [==============================] - 0s 7ms/step - loss: 4.4210e-04 - accuracy: 1.0000 - val_loss: 4.6681e-04 - val_accuracy: 1.0000\n",
            "Epoch 70/100\n",
            "31/31 [==============================] - 0s 7ms/step - loss: 4.2705e-04 - accuracy: 1.0000 - val_loss: 4.5181e-04 - val_accuracy: 1.0000\n",
            "Epoch 71/100\n",
            "31/31 [==============================] - 0s 7ms/step - loss: 4.1263e-04 - accuracy: 1.0000 - val_loss: 4.3694e-04 - val_accuracy: 1.0000\n",
            "Epoch 72/100\n",
            "31/31 [==============================] - 0s 9ms/step - loss: 3.9892e-04 - accuracy: 1.0000 - val_loss: 4.2368e-04 - val_accuracy: 1.0000\n",
            "Epoch 73/100\n",
            "31/31 [==============================] - 0s 6ms/step - loss: 3.8576e-04 - accuracy: 1.0000 - val_loss: 4.1007e-04 - val_accuracy: 1.0000\n",
            "Epoch 74/100\n",
            "31/31 [==============================] - 0s 7ms/step - loss: 3.7324e-04 - accuracy: 1.0000 - val_loss: 3.9722e-04 - val_accuracy: 1.0000\n",
            "Epoch 75/100\n",
            "31/31 [==============================] - 0s 6ms/step - loss: 3.6120e-04 - accuracy: 1.0000 - val_loss: 3.8516e-04 - val_accuracy: 1.0000\n",
            "Epoch 76/100\n",
            "31/31 [==============================] - 0s 7ms/step - loss: 3.4970e-04 - accuracy: 1.0000 - val_loss: 3.7359e-04 - val_accuracy: 1.0000\n",
            "Epoch 77/100\n",
            "31/31 [==============================] - 0s 7ms/step - loss: 3.3866e-04 - accuracy: 1.0000 - val_loss: 3.6238e-04 - val_accuracy: 1.0000\n",
            "Epoch 78/100\n",
            "31/31 [==============================] - 0s 7ms/step - loss: 3.2815e-04 - accuracy: 1.0000 - val_loss: 3.5197e-04 - val_accuracy: 1.0000\n",
            "Epoch 79/100\n",
            "31/31 [==============================] - 0s 7ms/step - loss: 3.1801e-04 - accuracy: 1.0000 - val_loss: 3.4128e-04 - val_accuracy: 1.0000\n",
            "Epoch 80/100\n",
            "31/31 [==============================] - 0s 9ms/step - loss: 3.0831e-04 - accuracy: 1.0000 - val_loss: 3.3160e-04 - val_accuracy: 1.0000\n",
            "Epoch 81/100\n",
            "31/31 [==============================] - 0s 8ms/step - loss: 2.9895e-04 - accuracy: 1.0000 - val_loss: 3.2202e-04 - val_accuracy: 1.0000\n",
            "Epoch 82/100\n",
            "31/31 [==============================] - 0s 9ms/step - loss: 2.9001e-04 - accuracy: 1.0000 - val_loss: 3.1282e-04 - val_accuracy: 1.0000\n",
            "Epoch 83/100\n",
            "31/31 [==============================] - 0s 7ms/step - loss: 2.8141e-04 - accuracy: 1.0000 - val_loss: 3.0423e-04 - val_accuracy: 1.0000\n",
            "Epoch 84/100\n",
            "31/31 [==============================] - 0s 7ms/step - loss: 2.7313e-04 - accuracy: 1.0000 - val_loss: 2.9555e-04 - val_accuracy: 1.0000\n",
            "Epoch 85/100\n",
            "31/31 [==============================] - 0s 7ms/step - loss: 2.6519e-04 - accuracy: 1.0000 - val_loss: 2.8754e-04 - val_accuracy: 1.0000\n",
            "Epoch 86/100\n",
            "31/31 [==============================] - 0s 6ms/step - loss: 2.5751e-04 - accuracy: 1.0000 - val_loss: 2.7995e-04 - val_accuracy: 1.0000\n",
            "Epoch 87/100\n",
            "31/31 [==============================] - 0s 7ms/step - loss: 2.5015e-04 - accuracy: 1.0000 - val_loss: 2.7216e-04 - val_accuracy: 1.0000\n",
            "Epoch 88/100\n",
            "31/31 [==============================] - 0s 6ms/step - loss: 2.4303e-04 - accuracy: 1.0000 - val_loss: 2.6497e-04 - val_accuracy: 1.0000\n",
            "Epoch 89/100\n",
            "31/31 [==============================] - 0s 6ms/step - loss: 2.3620e-04 - accuracy: 1.0000 - val_loss: 2.5803e-04 - val_accuracy: 1.0000\n",
            "Epoch 90/100\n",
            "31/31 [==============================] - 0s 7ms/step - loss: 2.2962e-04 - accuracy: 1.0000 - val_loss: 2.5093e-04 - val_accuracy: 1.0000\n",
            "Epoch 91/100\n",
            "31/31 [==============================] - 0s 8ms/step - loss: 2.2325e-04 - accuracy: 1.0000 - val_loss: 2.4463e-04 - val_accuracy: 1.0000\n",
            "Epoch 92/100\n",
            "31/31 [==============================] - 0s 6ms/step - loss: 2.1711e-04 - accuracy: 1.0000 - val_loss: 2.3836e-04 - val_accuracy: 1.0000\n",
            "Epoch 93/100\n",
            "31/31 [==============================] - 0s 6ms/step - loss: 2.1120e-04 - accuracy: 1.0000 - val_loss: 2.3216e-04 - val_accuracy: 1.0000\n",
            "Epoch 94/100\n",
            "31/31 [==============================] - 0s 9ms/step - loss: 2.0548e-04 - accuracy: 1.0000 - val_loss: 2.2633e-04 - val_accuracy: 1.0000\n",
            "Epoch 95/100\n",
            "31/31 [==============================] - 0s 9ms/step - loss: 1.9996e-04 - accuracy: 1.0000 - val_loss: 2.2054e-04 - val_accuracy: 1.0000\n",
            "Epoch 96/100\n",
            "31/31 [==============================] - 0s 9ms/step - loss: 1.9464e-04 - accuracy: 1.0000 - val_loss: 2.1519e-04 - val_accuracy: 1.0000\n",
            "Epoch 97/100\n",
            "31/31 [==============================] - 0s 10ms/step - loss: 1.8948e-04 - accuracy: 1.0000 - val_loss: 2.0993e-04 - val_accuracy: 1.0000\n",
            "Epoch 98/100\n",
            "31/31 [==============================] - 0s 11ms/step - loss: 1.8451e-04 - accuracy: 1.0000 - val_loss: 2.0457e-04 - val_accuracy: 1.0000\n",
            "Epoch 99/100\n",
            "31/31 [==============================] - 0s 9ms/step - loss: 1.7970e-04 - accuracy: 1.0000 - val_loss: 1.9961e-04 - val_accuracy: 1.0000\n",
            "Epoch 100/100\n",
            "31/31 [==============================] - 0s 9ms/step - loss: 1.7504e-04 - accuracy: 1.0000 - val_loss: 1.9477e-04 - val_accuracy: 1.0000\n"
          ]
        }
      ],
      "source": [
        "if model_selection[model_flag]==\"ALL\" or model_selection[model_flag] == \"LSTM\":\n",
        "  # training the model on training dataset\n",
        "  history = lst.fit(x_train, y_train, epochs=100, batch_size=5000,validation_split=0.2)"
      ]
    },
    {
      "cell_type": "code",
      "execution_count": null,
      "metadata": {
        "id": "BCQtvJcXRcNr",
        "colab": {
          "base_uri": "https://localhost:8080/"
        },
        "outputId": "0726faad-3477-4a21-9f48-63b316f52d3c"
      },
      "outputs": [
        {
          "output_type": "stream",
          "name": "stdout",
          "text": [
            "Saved model to disk\n",
            "Loaded model from disk\n"
          ]
        }
      ],
      "source": [
        "if model_selection[model_flag]==\"ALL\" or model_selection[model_flag] == \"LSTM\":\n",
        "  filepath = '/content/drive/MyDrive/Colab_Notebooks/Models/lst_binary_unsw_nb15.json'\n",
        "  weightspath = '/content/drive/MyDrive/Colab_Notebooks/Weights/lst_binary_unsw_nb15.h5'\n",
        "  if (not path.isfile(filepath)):\n",
        "    # serialize model to JSON\n",
        "    lst_json = lst.to_json()\n",
        "    with open(filepath, \"w\") as json_file:\n",
        "      json_file.write(lst_json)\n",
        "\n",
        "    # serialize weights to HDF5\n",
        "    lst.save_weights(weightspath)\n",
        "    print(\"Saved model to disk\")\n",
        "\n",
        "    # load json and create model\n",
        "    json_file = open(filepath, 'r')\n",
        "    loaded_model_json = json_file.read()\n",
        "    json_file.close()\n",
        "    lst = model_from_json(loaded_model_json)\n",
        "\n",
        "    # load weights into new model\n",
        "    lst.load_weights(weightspath)\n",
        "    print(\"Loaded model from disk\")"
      ]
    },
    {
      "cell_type": "code",
      "execution_count": null,
      "metadata": {
        "id": "rPaW37T-R0dG",
        "colab": {
          "base_uri": "https://localhost:8080/"
        },
        "outputId": "e683137a-a999-4bed-d484-4581a6c1d6bc"
      },
      "outputs": [
        {
          "output_type": "stream",
          "name": "stdout",
          "text": [
            "Loaded model from disk\n"
          ]
        }
      ],
      "source": [
        "if model_selection[model_flag]==\"ALL\" or model_selection[model_flag] == \"LSTM\":\n",
        "  # load json and create model\n",
        "  json_file = open(filepath, 'r')\n",
        "  loaded_model_json = json_file.read()\n",
        "  json_file.close()\n",
        "  lst = model_from_json(loaded_model_json)\n",
        "\n",
        "  # load weights into new model\n",
        "  lst.load_weights(weightspath)\n",
        "  print(\"Loaded model from disk\")"
      ]
    },
    {
      "cell_type": "code",
      "execution_count": null,
      "metadata": {
        "id": "ukGDdSggR3na"
      },
      "outputs": [],
      "source": [
        "if model_selection[model_flag]==\"ALL\" or model_selection[model_flag] == \"LSTM\":\n",
        "  # defining loss function, optimizer, metrics and then compiling model\n",
        "  lst.compile(loss='binary_crossentropy',optimizer='adam',metrics=['accuracy'])"
      ]
    },
    {
      "cell_type": "code",
      "execution_count": null,
      "metadata": {
        "id": "nvjY0u97R68f",
        "colab": {
          "base_uri": "https://localhost:8080/"
        },
        "outputId": "fbd8f06b-4eb7-4be9-bec6-af3a89b26b2e"
      },
      "outputs": [
        {
          "output_type": "stream",
          "name": "stdout",
          "text": [
            "2014/2014 [==============================] - 6s 3ms/step - loss: 2.1447 - accuracy: 0.3358\n",
            "Test results - Loss: 2.1447269916534424 - Accuracy: 33.58325958251953%\n"
          ]
        }
      ],
      "source": [
        "if model_selection[model_flag]==\"ALL\" or model_selection[model_flag] == \"LSTM\":\n",
        "  # predicting target attribute on testing dataset\n",
        "  test_results = lst.evaluate(x_test, y_test, verbose=1)\n",
        "  print(f'Test results - Loss: {test_results[0]} - Accuracy: {test_results[1]*100}%')"
      ]
    },
    {
      "cell_type": "code",
      "execution_count": null,
      "metadata": {
        "id": "f8yKMcIHR_jP",
        "colab": {
          "base_uri": "https://localhost:8080/",
          "height": 472
        },
        "outputId": "fd4255ac-cc83-4101-85a5-b8137b1e3454"
      },
      "outputs": [
        {
          "output_type": "display_data",
          "data": {
            "text/plain": [
              "<Figure size 640x480 with 1 Axes>"
            ],
            "image/png": "[encoded data removed]"
          },
          "metadata": {}
        }
      ],
      "source": [
        "if model_selection[model_flag]==\"ALL\" or model_selection[model_flag] == \"LSTM\":\n",
        "  # Plot of accuracy vs epoch of train and test dataset\n",
        "  plt.plot(history.history['accuracy'])\n",
        "  plt.plot(history.history['val_accuracy'])\n",
        "  plt.title(\"Plot of accuracy vs epoch for train and test dataset\")\n",
        "  plt.ylabel('accuracy')\n",
        "  plt.xlabel('epoch')\n",
        "  plt.legend(['train', 'test'], loc='best')\n",
        "  plt.savefig('/content/drive/MyDrive/Colab_Notebooks/Plots/lstm_binary_accuracy.png')\n",
        "  plt.show()"
      ]
    },
    {
      "cell_type": "code",
      "execution_count": null,
      "metadata": {
        "id": "M5g1Rw_SSb5n",
        "colab": {
          "base_uri": "https://localhost:8080/",
          "height": 472
        },
        "outputId": "72d585b4-f767-4844-befc-fc1fe505c60b"
      },
      "outputs": [
        {
          "output_type": "display_data",
          "data": {
            "text/plain": [
              "<Figure size 640x480 with 1 Axes>"
            ],
            "image/png": "[encoded data removed]"
          },
          "metadata": {}
        }
      ],
      "source": [
        "if model_selection[model_flag]==\"ALL\" or model_selection[model_flag] == \"LSTM\":\n",
        "  # Plot of loss vs epoch of train and test dataset\n",
        "  plt.plot(history.history['loss'])\n",
        "  plt.plot(history.history['val_loss'])\n",
        "  plt.title(\"Plot of loss vs epoch for train and test dataset\")\n",
        "  plt.ylabel('loss')\n",
        "  plt.xlabel('epoch')\n",
        "  plt.legend(['train', 'test'], loc='best')\n",
        "  plt.savefig('/content/drive/MyDrive/Colab_Notebooks/Plots/lstm_binary_loss.png')\n",
        "  plt.show()"
      ]
    },
    {
      "cell_type": "code",
      "execution_count": null,
      "metadata": {
        "id": "osZa2OV9Se-T"
      },
      "outputs": [],
      "source": [
        "if model_selection[model_flag]==\"ALL\" or model_selection[model_flag] == \"LSTM\":\n",
        "  # representation of model layers\n",
        "  plot_model(lst, to_file='/content/drive/MyDrive/Colab_Notebooks/Plots/lstm_binary.png', show_shapes=True,)"
      ]
    },
    {
      "cell_type": "code",
      "execution_count": null,
      "metadata": {
        "id": "lw4OLD4HSpaY",
        "colab": {
          "base_uri": "https://localhost:8080/"
        },
        "outputId": "09dcfdf4-95ae-4b4a-ca39-d4b9d178ec8b"
      },
      "outputs": [
        {
          "output_type": "execute_result",
          "data": {
            "text/plain": [
              "(64419,)"
            ]
          },
          "metadata": {},
          "execution_count": 55
        }
      ],
      "source": [
        "y_test = np.array(y_test)\n",
        "y_test.shape"
      ]
    },
    {
      "cell_type": "code",
      "execution_count": null,
      "metadata": {
        "id": "4BvYVrKsTGr3",
        "colab": {
          "base_uri": "https://localhost:8080/"
        },
        "outputId": "5bec3237-7184-4384-ff09-d1df67bfda8d"
      },
      "outputs": [
        {
          "output_type": "execute_result",
          "data": {
            "text/plain": [
              "numpy.ndarray"
            ]
          },
          "metadata": {},
          "execution_count": 56
        }
      ],
      "source": [
        "type(y_test)"
      ]
    },
    {
      "cell_type": "code",
      "execution_count": null,
      "metadata": {
        "id": "KBvCGl6BS0FM",
        "colab": {
          "base_uri": "https://localhost:8080/"
        },
        "outputId": "191d9e06-4958-4005-d1ac-cb5db3b5a60d"
      },
      "outputs": [
        {
          "output_type": "stream",
          "name": "stdout",
          "text": [
            "2014/2014 [==============================] - 4s 2ms/step\n"
          ]
        }
      ],
      "source": [
        "if model_selection[model_flag]==\"ALL\" or model_selection[model_flag] == \"LSTM\":\n",
        "  y_classes = (lst.predict(x_test)>0.5).astype('int32')"
      ]
    },
    {
      "cell_type": "code",
      "execution_count": null,
      "metadata": {
        "id": "x_yVqBlLTtLW",
        "colab": {
          "base_uri": "https://localhost:8080/"
        },
        "outputId": "aec8bdbd-0417-472e-80e6-54eb41271067"
      },
      "outputs": [
        {
          "output_type": "stream",
          "name": "stdout",
          "text": [
            "Recall Score -  0.36625704293763356\n",
            "F1 Score -  0.41347827875032556\n",
            "Precision Score -  0.47467816562273774\n"
          ]
        }
      ],
      "source": [
        "if model_selection[model_flag]==\"ALL\" or model_selection[model_flag] == \"LSTM\":\n",
        "  print(\"Recall Score - \",recall_score(y_test,y_classes))\n",
        "  print(\"F1 Score - \",f1_score(y_test,y_classes))\n",
        "  print(\"Precision Score - \",precision_score(y_test,y_classes))"
      ]
    },
    {
      "cell_type": "code",
      "source": [
        "print(classification_report(y_test, y_classes, target_names=['0', '1']))\n",
        "cm = confusion_matrix(y_test, y_classes)\n",
        "disp = ConfusionMatrixDisplay(confusion_matrix=cm,\n",
        "                              display_labels=['0', '1'])\n",
        "disp.plot()\n",
        "\n",
        "plt.show()"
      ],
      "metadata": {
        "colab": {
          "base_uri": "https://localhost:8080/",
          "height": 610
        },
        "id": "lHw1E32esovH",
        "outputId": "a632e38e-1e4f-4db5-eb3c-8ea542760e93"
      },
      "execution_count": null,
      "outputs": [
        {
          "output_type": "stream",
          "name": "stdout",
          "text": [
            "              precision    recall  f1-score   support\n",
            "\n",
            "           0       0.20      0.28      0.23     23243\n",
            "           1       0.47      0.37      0.41     41176\n",
            "\n",
            "    accuracy                           0.34     64419\n",
            "   macro avg       0.34      0.32      0.32     64419\n",
            "weighted avg       0.38      0.34      0.35     64419\n",
            "\n"
          ]
        },
        {
          "output_type": "display_data",
          "data": {
            "text/plain": [
              "<Figure size 640x480 with 2 Axes>"
            ],
            "image/png": "[encoded data removed]"
          },
          "metadata": {}
        }
      ]
    },
    {
      "cell_type": "markdown",
      "metadata": {
        "id": "H_g15uXe82BY"
      },
      "source": [
        "## **Auto Encoder**"
      ]
    },
    {
      "cell_type": "code",
      "execution_count": null,
      "metadata": {
        "id": "VQ6pDxghmBwB"
      },
      "outputs": [],
      "source": [
        "if model_selection[model_flag]==\"ALL\" or model_selection[model_flag] == \"AE\":\n",
        "  # splitting the dataset 75% for training and 25% testing\n",
        "  X_train, X_test = train_test_split(bin_data, test_size=0.25, random_state=42)"
      ]
    },
    {
      "cell_type": "code",
      "execution_count": null,
      "metadata": {
        "id": "uogVT92Q_6wh"
      },
      "outputs": [],
      "source": [
        "if model_selection[model_flag]==\"ALL\" or model_selection[model_flag] == \"AE\":\n",
        "  # dataset excluding target attribute (encoded, one-hot-encoded,original)\n",
        "  X_train = X_train.drop(['label'],axis=1) \n",
        "\n",
        "  y_test = X_test['label'] # target attribute\n",
        "\n",
        "  # dataset excluding target attribute (encoded, one-hot-encoded,original)\n",
        "  X_test = X_test.drop(['label'],axis=1)\n",
        "  # calling the normalization() function\n",
        "  X_train = normalization_train(X_train,numeric_cols)\n",
        "  X_test = normalization_test(X_test,numeric_cols)\n",
        "  X_train = X_train.values\n",
        "  X_test = X_test.values\n",
        "  y_test = y_test.values"
      ]
    },
    {
      "cell_type": "code",
      "execution_count": null,
      "metadata": {
        "id": "s696BM9uKADC"
      },
      "outputs": [],
      "source": [
        "if model_selection[model_flag]==\"ALL\" or model_selection[model_flag] == \"AE\":\n",
        "  input_dim = X_train.shape[1]\n",
        "  encoding_dim = 50\n",
        "\n",
        "  #input layer\n",
        "  input_layer = Input(shape=(input_dim, ))\n",
        "  #encoding layer with 50 neurons\n",
        "  encoder = Dense(encoding_dim, activation=\"relu\")(input_layer)           \n",
        "  #decoding and output layer\n",
        "  output_layer = Dense(input_dim, activation='softmax')(encoder)"
      ]
    },
    {
      "cell_type": "code",
      "execution_count": null,
      "metadata": {
        "id": "nLn3vHBZLQtj"
      },
      "outputs": [],
      "source": [
        "if model_selection[model_flag]==\"ALL\" or model_selection[model_flag] == \"AE\":\n",
        "  # creating model with input, encoding, decoding, output layers\n",
        "  autoencoder = Model(inputs=input_layer, outputs=output_layer)\n",
        "\n",
        "  # defining loss function, optimizer, metrics and then compiling model\n",
        "  autoencoder.compile(optimizer='adam', loss='mean_squared_error',metrics=['accuracy'])"
      ]
    },
    {
      "cell_type": "code",
      "execution_count": null,
      "metadata": {
        "id": "X_zk7PMVLVNm",
        "colab": {
          "base_uri": "https://localhost:8080/"
        },
        "outputId": "7fe6bedd-fec5-45c7-f06d-07820541f742"
      },
      "outputs": [
        {
          "output_type": "stream",
          "name": "stdout",
          "text": [
            "Model: \"model\"\n",
            "_________________________________________________________________\n",
            " Layer (type)                Output Shape              Param #   \n",
            "=================================================================\n",
            " input_1 (InputLayer)        [(None, 57)]              0         \n",
            "                                                                 \n",
            " dense_3 (Dense)             (None, 50)                2900      \n",
            "                                                                 \n",
            " dense_4 (Dense)             (None, 57)                2907      \n",
            "                                                                 \n",
            "=================================================================\n",
            "Total params: 5,807\n",
            "Trainable params: 5,807\n",
            "Non-trainable params: 0\n",
            "_________________________________________________________________\n"
          ]
        }
      ],
      "source": [
        "if model_selection[model_flag]==\"ALL\" or model_selection[model_flag] == \"AE\":\n",
        "  # summary of model layers\n",
        "  autoencoder.summary()"
      ]
    },
    {
      "cell_type": "code",
      "execution_count": null,
      "metadata": {
        "id": "We59NbebLdkJ",
        "colab": {
          "base_uri": "https://localhost:8080/"
        },
        "outputId": "9a018d34-e50e-4050-81f3-889cf5fc7579"
      },
      "outputs": [
        {
          "output_type": "stream",
          "name": "stdout",
          "text": [
            "Epoch 1/100\n",
            "387/387 [==============================] - 3s 5ms/step - loss: 0.0789 - accuracy: 0.2177 - val_loss: 101920639085969408.0000 - val_accuracy: 0.0000e+00\n",
            "Epoch 2/100\n",
            "387/387 [==============================] - 2s 4ms/step - loss: 0.0739 - accuracy: 0.1951 - val_loss: 101920639085969408.0000 - val_accuracy: 0.0000e+00\n",
            "Epoch 3/100\n",
            "387/387 [==============================] - 1s 4ms/step - loss: 0.0738 - accuracy: 0.1805 - val_loss: 101920639085969408.0000 - val_accuracy: 0.0000e+00\n",
            "Epoch 4/100\n",
            "387/387 [==============================] - 2s 4ms/step - loss: 0.0737 - accuracy: 0.1891 - val_loss: 101920639085969408.0000 - val_accuracy: 0.0000e+00\n",
            "Epoch 5/100\n",
            "387/387 [==============================] - 2s 4ms/step - loss: 0.0737 - accuracy: 0.1865 - val_loss: 101920639085969408.0000 - val_accuracy: 0.0000e+00\n",
            "Epoch 6/100\n",
            "387/387 [==============================] - 1s 4ms/step - loss: 0.0737 - accuracy: 0.1882 - val_loss: 101920639085969408.0000 - val_accuracy: 0.0000e+00\n",
            "Epoch 7/100\n",
            "387/387 [==============================] - 2s 5ms/step - loss: 0.0737 - accuracy: 0.1860 - val_loss: 101920639085969408.0000 - val_accuracy: 0.0000e+00\n",
            "Epoch 8/100\n",
            "387/387 [==============================] - 2s 5ms/step - loss: 0.0737 - accuracy: 0.1853 - val_loss: 101920639085969408.0000 - val_accuracy: 0.0000e+00\n",
            "Epoch 9/100\n",
            "387/387 [==============================] - 2s 4ms/step - loss: 0.0737 - accuracy: 0.1991 - val_loss: 101920639085969408.0000 - val_accuracy: 0.0000e+00\n",
            "Epoch 10/100\n",
            "387/387 [==============================] - 1s 4ms/step - loss: 0.0736 - accuracy: 0.1962 - val_loss: 101920639085969408.0000 - val_accuracy: 0.0000e+00\n",
            "Epoch 11/100\n",
            "387/387 [==============================] - 2s 4ms/step - loss: 0.0735 - accuracy: 0.2092 - val_loss: 101920639085969408.0000 - val_accuracy: 0.0000e+00\n",
            "Epoch 12/100\n",
            "387/387 [==============================] - 1s 4ms/step - loss: 0.0735 - accuracy: 0.2214 - val_loss: 101920639085969408.0000 - val_accuracy: 0.0000e+00\n",
            "Epoch 13/100\n",
            "387/387 [==============================] - 1s 4ms/step - loss: 0.0735 - accuracy: 0.2238 - val_loss: 101920639085969408.0000 - val_accuracy: 0.0000e+00\n",
            "Epoch 14/100\n",
            "387/387 [==============================] - 2s 4ms/step - loss: 0.0735 - accuracy: 0.2236 - val_loss: 101920639085969408.0000 - val_accuracy: 0.0000e+00\n",
            "Epoch 15/100\n",
            "387/387 [==============================] - 2s 4ms/step - loss: 0.0735 - accuracy: 0.2274 - val_loss: 101920639085969408.0000 - val_accuracy: 0.0000e+00\n",
            "Epoch 16/100\n",
            "387/387 [==============================] - 2s 6ms/step - loss: 0.0735 - accuracy: 0.2088 - val_loss: 101920639085969408.0000 - val_accuracy: 0.0000e+00\n",
            "Epoch 17/100\n",
            "387/387 [==============================] - 2s 5ms/step - loss: 0.0735 - accuracy: 0.2172 - val_loss: 101920639085969408.0000 - val_accuracy: 0.0000e+00\n",
            "Epoch 18/100\n",
            "387/387 [==============================] - 1s 4ms/step - loss: 0.0735 - accuracy: 0.2079 - val_loss: 101920639085969408.0000 - val_accuracy: 0.0000e+00\n",
            "Epoch 19/100\n",
            "387/387 [==============================] - 1s 4ms/step - loss: 0.0735 - accuracy: 0.2076 - val_loss: 101920639085969408.0000 - val_accuracy: 0.0000e+00\n",
            "Epoch 20/100\n",
            "387/387 [==============================] - 1s 4ms/step - loss: 0.0735 - accuracy: 0.2087 - val_loss: 101920639085969408.0000 - val_accuracy: 0.0000e+00\n",
            "Epoch 21/100\n",
            "387/387 [==============================] - 1s 4ms/step - loss: 0.0735 - accuracy: 0.2097 - val_loss: 101920639085969408.0000 - val_accuracy: 0.0000e+00\n",
            "Epoch 22/100\n",
            "387/387 [==============================] - 1s 4ms/step - loss: 0.0735 - accuracy: 0.2075 - val_loss: 101920639085969408.0000 - val_accuracy: 0.0000e+00\n",
            "Epoch 23/100\n",
            "387/387 [==============================] - 1s 4ms/step - loss: 0.0735 - accuracy: 0.2179 - val_loss: 101920639085969408.0000 - val_accuracy: 0.0000e+00\n",
            "Epoch 24/100\n",
            "387/387 [==============================] - 2s 6ms/step - loss: 0.0735 - accuracy: 0.2083 - val_loss: 101920639085969408.0000 - val_accuracy: 0.0000e+00\n",
            "Epoch 25/100\n",
            "387/387 [==============================] - 2s 5ms/step - loss: 0.0735 - accuracy: 0.2171 - val_loss: 101920639085969408.0000 - val_accuracy: 0.0000e+00\n",
            "Epoch 26/100\n",
            "387/387 [==============================] - 1s 4ms/step - loss: 0.0735 - accuracy: 0.2062 - val_loss: 101920639085969408.0000 - val_accuracy: 0.0000e+00\n",
            "Epoch 27/100\n",
            "387/387 [==============================] - 1s 4ms/step - loss: 0.0735 - accuracy: 0.2064 - val_loss: 101920639085969408.0000 - val_accuracy: 0.0000e+00\n",
            "Epoch 28/100\n",
            "387/387 [==============================] - 2s 4ms/step - loss: 0.0735 - accuracy: 0.1995 - val_loss: 101920639085969408.0000 - val_accuracy: 0.0000e+00\n",
            "Epoch 29/100\n",
            "387/387 [==============================] - 1s 4ms/step - loss: 0.0735 - accuracy: 0.2085 - val_loss: 101920639085969408.0000 - val_accuracy: 0.0000e+00\n",
            "Epoch 30/100\n",
            "387/387 [==============================] - 2s 4ms/step - loss: 0.0735 - accuracy: 0.2158 - val_loss: 101920639085969408.0000 - val_accuracy: 0.0000e+00\n",
            "Epoch 31/100\n",
            "387/387 [==============================] - 1s 4ms/step - loss: 0.0735 - accuracy: 0.2220 - val_loss: 101920639085969408.0000 - val_accuracy: 0.0000e+00\n",
            "Epoch 32/100\n",
            "387/387 [==============================] - 2s 4ms/step - loss: 0.0735 - accuracy: 0.2054 - val_loss: 101920639085969408.0000 - val_accuracy: 0.0000e+00\n",
            "Epoch 33/100\n",
            "387/387 [==============================] - 2s 5ms/step - loss: 0.0735 - accuracy: 0.2087 - val_loss: 101920639085969408.0000 - val_accuracy: 0.0000e+00\n",
            "Epoch 34/100\n",
            "387/387 [==============================] - 2s 4ms/step - loss: 0.0735 - accuracy: 0.2160 - val_loss: 101920639085969408.0000 - val_accuracy: 0.0000e+00\n",
            "Epoch 35/100\n",
            "387/387 [==============================] - 1s 4ms/step - loss: 0.0735 - accuracy: 0.2119 - val_loss: 101920639085969408.0000 - val_accuracy: 0.0000e+00\n",
            "Epoch 36/100\n",
            "387/387 [==============================] - 1s 4ms/step - loss: 0.0735 - accuracy: 0.2017 - val_loss: 101920639085969408.0000 - val_accuracy: 0.0000e+00\n",
            "Epoch 37/100\n",
            "387/387 [==============================] - 1s 4ms/step - loss: 0.0735 - accuracy: 0.2057 - val_loss: 101920639085969408.0000 - val_accuracy: 0.0000e+00\n",
            "Epoch 38/100\n",
            "387/387 [==============================] - 2s 4ms/step - loss: 0.0735 - accuracy: 0.2050 - val_loss: 101920639085969408.0000 - val_accuracy: 0.0000e+00\n",
            "Epoch 39/100\n",
            "387/387 [==============================] - 1s 4ms/step - loss: 0.0735 - accuracy: 0.2025 - val_loss: 101920639085969408.0000 - val_accuracy: 0.0000e+00\n",
            "Epoch 40/100\n",
            "387/387 [==============================] - 2s 4ms/step - loss: 0.0735 - accuracy: 0.2052 - val_loss: 101920639085969408.0000 - val_accuracy: 0.0000e+00\n",
            "Epoch 41/100\n",
            "387/387 [==============================] - 2s 5ms/step - loss: 0.0735 - accuracy: 0.2086 - val_loss: 101920639085969408.0000 - val_accuracy: 0.0000e+00\n",
            "Epoch 42/100\n",
            "387/387 [==============================] - 2s 5ms/step - loss: 0.0735 - accuracy: 0.2094 - val_loss: 101920639085969408.0000 - val_accuracy: 0.0000e+00\n",
            "Epoch 43/100\n",
            "387/387 [==============================] - 2s 4ms/step - loss: 0.0735 - accuracy: 0.2034 - val_loss: 101920639085969408.0000 - val_accuracy: 0.0000e+00\n",
            "Epoch 44/100\n",
            "387/387 [==============================] - 1s 4ms/step - loss: 0.0735 - accuracy: 0.2127 - val_loss: 101920639085969408.0000 - val_accuracy: 0.0000e+00\n",
            "Epoch 45/100\n",
            "387/387 [==============================] - 2s 4ms/step - loss: 0.0735 - accuracy: 0.2066 - val_loss: 101920639085969408.0000 - val_accuracy: 0.0000e+00\n",
            "Epoch 46/100\n",
            "387/387 [==============================] - 1s 4ms/step - loss: 0.0735 - accuracy: 0.2029 - val_loss: 101920639085969408.0000 - val_accuracy: 0.0000e+00\n",
            "Epoch 47/100\n",
            "387/387 [==============================] - 1s 4ms/step - loss: 0.0735 - accuracy: 0.1969 - val_loss: 101920639085969408.0000 - val_accuracy: 0.0000e+00\n",
            "Epoch 48/100\n",
            "387/387 [==============================] - 1s 4ms/step - loss: 0.0735 - accuracy: 0.2131 - val_loss: 101920639085969408.0000 - val_accuracy: 0.0000e+00\n",
            "Epoch 49/100\n",
            "387/387 [==============================] - 2s 4ms/step - loss: 0.0735 - accuracy: 0.1978 - val_loss: 101920639085969408.0000 - val_accuracy: 0.0000e+00\n",
            "Epoch 50/100\n",
            "387/387 [==============================] - 2s 5ms/step - loss: 0.0735 - accuracy: 0.2030 - val_loss: 101920639085969408.0000 - val_accuracy: 0.0000e+00\n",
            "Epoch 51/100\n",
            "387/387 [==============================] - 2s 5ms/step - loss: 0.0735 - accuracy: 0.2194 - val_loss: 101920639085969408.0000 - val_accuracy: 0.0000e+00\n",
            "Epoch 52/100\n",
            "387/387 [==============================] - 1s 4ms/step - loss: 0.0735 - accuracy: 0.2026 - val_loss: 101920639085969408.0000 - val_accuracy: 0.0000e+00\n",
            "Epoch 53/100\n",
            "387/387 [==============================] - 1s 4ms/step - loss: 0.0735 - accuracy: 0.2129 - val_loss: 101920639085969408.0000 - val_accuracy: 0.0000e+00\n",
            "Epoch 54/100\n",
            "387/387 [==============================] - 1s 4ms/step - loss: 0.0735 - accuracy: 0.2017 - val_loss: 101920639085969408.0000 - val_accuracy: 0.0000e+00\n",
            "Epoch 55/100\n",
            "387/387 [==============================] - 1s 4ms/step - loss: 0.0735 - accuracy: 0.2048 - val_loss: 101920639085969408.0000 - val_accuracy: 0.0000e+00\n",
            "Epoch 56/100\n",
            "387/387 [==============================] - 1s 4ms/step - loss: 0.0735 - accuracy: 0.2181 - val_loss: 101920639085969408.0000 - val_accuracy: 0.0000e+00\n",
            "Epoch 57/100\n",
            "387/387 [==============================] - 1s 4ms/step - loss: 0.0735 - accuracy: 0.2154 - val_loss: 101920639085969408.0000 - val_accuracy: 0.0000e+00\n",
            "Epoch 58/100\n",
            "387/387 [==============================] - 2s 4ms/step - loss: 0.0735 - accuracy: 0.2165 - val_loss: 101920639085969408.0000 - val_accuracy: 0.0000e+00\n",
            "Epoch 59/100\n",
            "387/387 [==============================] - 2s 5ms/step - loss: 0.0735 - accuracy: 0.2079 - val_loss: 101920639085969408.0000 - val_accuracy: 0.0000e+00\n",
            "Epoch 60/100\n",
            "387/387 [==============================] - 2s 5ms/step - loss: 0.0735 - accuracy: 0.2186 - val_loss: 101920639085969408.0000 - val_accuracy: 0.0000e+00\n",
            "Epoch 61/100\n",
            "387/387 [==============================] - 2s 4ms/step - loss: 0.0735 - accuracy: 0.2197 - val_loss: 101920639085969408.0000 - val_accuracy: 0.0000e+00\n",
            "Epoch 62/100\n",
            "387/387 [==============================] - 2s 4ms/step - loss: 0.0735 - accuracy: 0.2063 - val_loss: 101920639085969408.0000 - val_accuracy: 0.0000e+00\n",
            "Epoch 63/100\n",
            "387/387 [==============================] - 1s 4ms/step - loss: 0.0735 - accuracy: 0.2057 - val_loss: 101920639085969408.0000 - val_accuracy: 0.0000e+00\n",
            "Epoch 64/100\n",
            "387/387 [==============================] - 1s 4ms/step - loss: 0.0735 - accuracy: 0.2085 - val_loss: 101920639085969408.0000 - val_accuracy: 0.0000e+00\n",
            "Epoch 65/100\n",
            "387/387 [==============================] - 1s 4ms/step - loss: 0.0735 - accuracy: 0.2115 - val_loss: 101920639085969408.0000 - val_accuracy: 0.0000e+00\n",
            "Epoch 66/100\n",
            "387/387 [==============================] - 1s 4ms/step - loss: 0.0735 - accuracy: 0.2170 - val_loss: 101920639085969408.0000 - val_accuracy: 0.0000e+00\n",
            "Epoch 67/100\n",
            "387/387 [==============================] - 2s 5ms/step - loss: 0.0735 - accuracy: 0.1985 - val_loss: 101920639085969408.0000 - val_accuracy: 0.0000e+00\n",
            "Epoch 68/100\n",
            "387/387 [==============================] - 2s 5ms/step - loss: 0.0735 - accuracy: 0.2019 - val_loss: 101920639085969408.0000 - val_accuracy: 0.0000e+00\n",
            "Epoch 69/100\n",
            "387/387 [==============================] - 1s 4ms/step - loss: 0.0735 - accuracy: 0.2117 - val_loss: 101920639085969408.0000 - val_accuracy: 0.0000e+00\n",
            "Epoch 70/100\n",
            "387/387 [==============================] - 1s 4ms/step - loss: 0.0735 - accuracy: 0.2114 - val_loss: 101920639085969408.0000 - val_accuracy: 0.0000e+00\n",
            "Epoch 71/100\n",
            "387/387 [==============================] - 2s 4ms/step - loss: 0.0735 - accuracy: 0.2027 - val_loss: 101920639085969408.0000 - val_accuracy: 0.0000e+00\n",
            "Epoch 72/100\n",
            "387/387 [==============================] - 2s 4ms/step - loss: 0.0735 - accuracy: 0.2078 - val_loss: 101920639085969408.0000 - val_accuracy: 0.0000e+00\n",
            "Epoch 73/100\n",
            "387/387 [==============================] - 2s 4ms/step - loss: 0.0735 - accuracy: 0.2245 - val_loss: 101920639085969408.0000 - val_accuracy: 0.0000e+00\n",
            "Epoch 74/100\n",
            "387/387 [==============================] - 1s 4ms/step - loss: 0.0735 - accuracy: 0.2016 - val_loss: 101920639085969408.0000 - val_accuracy: 0.0000e+00\n",
            "Epoch 75/100\n",
            "387/387 [==============================] - 2s 5ms/step - loss: 0.0735 - accuracy: 0.2139 - val_loss: 101920639085969408.0000 - val_accuracy: 0.0000e+00\n",
            "Epoch 76/100\n",
            "387/387 [==============================] - 2s 6ms/step - loss: 0.0735 - accuracy: 0.2109 - val_loss: 101920639085969408.0000 - val_accuracy: 0.0000e+00\n",
            "Epoch 77/100\n",
            "387/387 [==============================] - 2s 4ms/step - loss: 0.0735 - accuracy: 0.2137 - val_loss: 101920639085969408.0000 - val_accuracy: 0.0000e+00\n",
            "Epoch 78/100\n",
            "387/387 [==============================] - 2s 4ms/step - loss: 0.0735 - accuracy: 0.2057 - val_loss: 101920639085969408.0000 - val_accuracy: 0.0000e+00\n",
            "Epoch 79/100\n",
            "387/387 [==============================] - 2s 4ms/step - loss: 0.0735 - accuracy: 0.2294 - val_loss: 101920639085969408.0000 - val_accuracy: 0.0000e+00\n",
            "Epoch 80/100\n",
            "387/387 [==============================] - 2s 4ms/step - loss: 0.0735 - accuracy: 0.2006 - val_loss: 101920639085969408.0000 - val_accuracy: 0.0000e+00\n",
            "Epoch 81/100\n",
            "387/387 [==============================] - 1s 4ms/step - loss: 0.0735 - accuracy: 0.2068 - val_loss: 101920639085969408.0000 - val_accuracy: 0.0000e+00\n",
            "Epoch 82/100\n",
            "387/387 [==============================] - 2s 4ms/step - loss: 0.0735 - accuracy: 0.2090 - val_loss: 101920639085969408.0000 - val_accuracy: 0.0000e+00\n",
            "Epoch 83/100\n",
            "387/387 [==============================] - 1s 4ms/step - loss: 0.0735 - accuracy: 0.2104 - val_loss: 101920639085969408.0000 - val_accuracy: 0.0000e+00\n",
            "Epoch 84/100\n",
            "387/387 [==============================] - 2s 5ms/step - loss: 0.0735 - accuracy: 0.2144 - val_loss: 101920639085969408.0000 - val_accuracy: 0.0000e+00\n",
            "Epoch 85/100\n",
            "387/387 [==============================] - 2s 5ms/step - loss: 0.0735 - accuracy: 0.2292 - val_loss: 101920639085969408.0000 - val_accuracy: 0.0000e+00\n",
            "Epoch 86/100\n",
            "387/387 [==============================] - 1s 4ms/step - loss: 0.0735 - accuracy: 0.2147 - val_loss: 101920639085969408.0000 - val_accuracy: 0.0000e+00\n",
            "Epoch 87/100\n",
            "387/387 [==============================] - 1s 4ms/step - loss: 0.0735 - accuracy: 0.2063 - val_loss: 101920639085969408.0000 - val_accuracy: 0.0000e+00\n",
            "Epoch 88/100\n",
            "387/387 [==============================] - 1s 4ms/step - loss: 0.0735 - accuracy: 0.2094 - val_loss: 101920639085969408.0000 - val_accuracy: 0.0000e+00\n",
            "Epoch 89/100\n",
            "387/387 [==============================] - 2s 4ms/step - loss: 0.0735 - accuracy: 0.2143 - val_loss: 101920639085969408.0000 - val_accuracy: 0.0000e+00\n",
            "Epoch 90/100\n",
            "387/387 [==============================] - 2s 4ms/step - loss: 0.0735 - accuracy: 0.2051 - val_loss: 101920639085969408.0000 - val_accuracy: 0.0000e+00\n",
            "Epoch 91/100\n",
            "387/387 [==============================] - 2s 4ms/step - loss: 0.0735 - accuracy: 0.2284 - val_loss: 101920639085969408.0000 - val_accuracy: 0.0000e+00\n",
            "Epoch 92/100\n",
            "387/387 [==============================] - 2s 5ms/step - loss: 0.0735 - accuracy: 0.2044 - val_loss: 101920639085969408.0000 - val_accuracy: 0.0000e+00\n",
            "Epoch 93/100\n",
            "387/387 [==============================] - 2s 5ms/step - loss: 0.0735 - accuracy: 0.2154 - val_loss: 101920639085969408.0000 - val_accuracy: 0.0000e+00\n",
            "Epoch 94/100\n",
            "387/387 [==============================] - 2s 4ms/step - loss: 0.0735 - accuracy: 0.2131 - val_loss: 101920639085969408.0000 - val_accuracy: 0.0000e+00\n",
            "Epoch 95/100\n",
            "387/387 [==============================] - 2s 4ms/step - loss: 0.0735 - accuracy: 0.2312 - val_loss: 101920639085969408.0000 - val_accuracy: 0.0000e+00\n",
            "Epoch 96/100\n",
            "387/387 [==============================] - 2s 4ms/step - loss: 0.0735 - accuracy: 0.2099 - val_loss: 101920639085969408.0000 - val_accuracy: 0.0000e+00\n",
            "Epoch 97/100\n",
            "387/387 [==============================] - 1s 4ms/step - loss: 0.0735 - accuracy: 0.2103 - val_loss: 101920639085969408.0000 - val_accuracy: 0.0000e+00\n",
            "Epoch 98/100\n",
            "387/387 [==============================] - 1s 4ms/step - loss: 0.0735 - accuracy: 0.2201 - val_loss: 101920639085969408.0000 - val_accuracy: 0.0000e+00\n",
            "Epoch 99/100\n",
            "387/387 [==============================] - 2s 4ms/step - loss: 0.0735 - accuracy: 0.2122 - val_loss: 101920639085969408.0000 - val_accuracy: 0.0000e+00\n",
            "Epoch 100/100\n",
            "387/387 [==============================] - 2s 4ms/step - loss: 0.0735 - accuracy: 0.2180 - val_loss: 101920639085969408.0000 - val_accuracy: 0.0000e+00\n"
          ]
        }
      ],
      "source": [
        "if model_selection[model_flag]==\"ALL\" or model_selection[model_flag] == \"AE\":\n",
        "  # training the model on training dataset\n",
        "  history = autoencoder.fit(X_train, X_train, epochs=100,batch_size=500,validation_data=(X_test, X_test)).history"
      ]
    },
    {
      "cell_type": "code",
      "execution_count": null,
      "metadata": {
        "id": "AdtR3-9xLliU"
      },
      "outputs": [],
      "source": [
        "if model_selection[model_flag]==\"ALL\" or model_selection[model_flag] == \"AE\":\n",
        "  filepath = '/content/drive/MyDrive/Colab_Notebooks/Models/ae_binary_unsw_nb15.json'\n",
        "  weightspath = '/content/drive/MyDrive/Colab_Notebooks/Weights/ae_binary_unsw_nb15.h5'\n",
        "  if (not path.isfile(filepath)): \n",
        "    # serialize model to JSON\n",
        "    autoencoder_json = autoencoder.to_json()\n",
        "    with open(filepath, \"w\") as json_file:\n",
        "      json_file.write(autoencoder_json)\n",
        "\n",
        "    # serialize weights to HDF5\n",
        "    autoencoder.save_weights(weightspath)\n",
        "    print(\"Saved model to disk\")\n",
        "\n",
        "    # load json and create model\n",
        "    json_file = open(filepath, 'r')\n",
        "    loaded_model_json = json_file.read()\n",
        "    json_file.close()\n",
        "    autoencoder = model_from_json(loaded_model_json)\n",
        "\n",
        "    # load weights into new model\n",
        "    autoencoder.load_weights(weightspath)\n",
        "    print(\"Loaded model from disk\")"
      ]
    },
    {
      "cell_type": "code",
      "execution_count": null,
      "metadata": {
        "id": "Wqr6HVtMLwx9"
      },
      "outputs": [],
      "source": [
        "if model_selection[model_flag]==\"ALL\" or model_selection[model_flag] == \"AE\":\n",
        "  # defining loss function, optimizer, metrics and then compiling model\n",
        "  autoencoder.compile(optimizer='adam', loss='mean_squared_error',metrics=['accuracy'])"
      ]
    },
    {
      "cell_type": "code",
      "execution_count": null,
      "metadata": {
        "id": "FQrjCk2hL09x",
        "colab": {
          "base_uri": "https://localhost:8080/"
        },
        "outputId": "44f390e7-d098-47a4-e125-424e111ed9d0"
      },
      "outputs": [
        {
          "output_type": "stream",
          "name": "stdout",
          "text": [
            "2014/2014 [==============================] - 5s 3ms/step - loss: 101920621906100224.0000 - accuracy: 0.0000e+00\n",
            "Test results - Loss: 1.0192062190610022e+17 - Accuracy: 0.0%\n"
          ]
        }
      ],
      "source": [
        "if model_selection[model_flag]==\"ALL\" or model_selection[model_flag] == \"AE\":\n",
        "  # predicting target attribute on testing dataset\n",
        "  test_results = autoencoder.evaluate(X_test, X_test, verbose=1)\n",
        "  print(f'Test results - Loss: {test_results[0]} - Accuracy: {test_results[1]}%')"
      ]
    },
    {
      "cell_type": "code",
      "execution_count": null,
      "metadata": {
        "id": "VqQsjSZcL1-B",
        "colab": {
          "base_uri": "https://localhost:8080/",
          "height": 472
        },
        "outputId": "6f65a8bc-9899-439f-dc4f-8ff557aea031"
      },
      "outputs": [
        {
          "output_type": "display_data",
          "data": {
            "text/plain": [
              "<Figure size 640x480 with 1 Axes>"
            ],
            "image/png": "[encoded data removed]"
          },
          "metadata": {}
        }
      ],
      "source": [
        "if model_selection[model_flag]==\"ALL\" or model_selection[model_flag] == \"AE\":\n",
        "  # Plot of loss vs epoch of train and test dataset\n",
        "  plt.plot(history['loss'])\n",
        "  plt.plot(history['val_loss'])\n",
        "  plt.title(\"Plot of loss vs epoch for train and test dataset\")\n",
        "  plt.ylabel('loss')\n",
        "  plt.xlabel('epoch')\n",
        "  plt.legend(['train', 'test'], loc='upper right')\n",
        "  plt.savefig('/content/drive/MyDrive/Colab_Notebooks/Plots/ae_binary_loss.png')\n",
        "  plt.show()"
      ]
    },
    {
      "cell_type": "code",
      "execution_count": null,
      "metadata": {
        "id": "fkjD9QXKL25Z",
        "colab": {
          "base_uri": "https://localhost:8080/",
          "height": 472
        },
        "outputId": "1c12024a-7d37-4100-fae2-6af943623909"
      },
      "outputs": [
        {
          "output_type": "display_data",
          "data": {
            "text/plain": [
              "<Figure size 640x480 with 1 Axes>"
            ],
            "image/png": "[encoded data removed]"
          },
          "metadata": {}
        }
      ],
      "source": [
        "if model_selection[model_flag]==\"ALL\" or model_selection[model_flag] == \"AE\":\n",
        "  # Plot of accuracy vs epoch of train and test dataset\n",
        "  plt.plot(history['accuracy'])\n",
        "  plt.plot(history['val_accuracy'])\n",
        "  plt.title(\"Plot of accuracy vs epoch for train and test dataset\")\n",
        "  plt.ylabel('accuracy')\n",
        "  plt.xlabel('epoch')\n",
        "  plt.legend(['train', 'test'], loc='best')\n",
        "  plt.savefig('/content/drive/MyDrive/Colab_Notebooks/Plots/ae_binary_accuracy.png')\n",
        "  plt.show()"
      ]
    },
    {
      "cell_type": "code",
      "execution_count": null,
      "metadata": {
        "id": "lf9q83sBMGPD"
      },
      "outputs": [],
      "source": [
        "if model_selection[model_flag]==\"ALL\" or model_selection[model_flag] == \"AE\":\n",
        "  # representation of model layers\n",
        "  plot_model(autoencoder, to_file='/content/drive/MyDrive/Colab_Notebooks/Plots/ae_binary.png', show_shapes=True,)"
      ]
    },
    {
      "cell_type": "code",
      "execution_count": null,
      "metadata": {
        "id": "SFIXKGwuMLFo",
        "colab": {
          "base_uri": "https://localhost:8080/"
        },
        "outputId": "3d548d99-56d8-4fe1-b45b-e0aed52f62b6"
      },
      "outputs": [
        {
          "output_type": "stream",
          "name": "stdout",
          "text": [
            "2014/2014 [==============================] - 3s 1ms/step\n"
          ]
        }
      ],
      "source": [
        "if model_selection[model_flag]==\"ALL\" or model_selection[model_flag] == \"AE\":\n",
        "  # calculating reconstruction error \n",
        "  predictions = autoencoder.predict(X_test)"
      ]
    },
    {
      "cell_type": "code",
      "execution_count": null,
      "metadata": {
        "id": "cqKJCyZnMMEG"
      },
      "outputs": [],
      "source": [
        "if model_selection[model_flag]==\"ALL\" or model_selection[model_flag] == \"AE\":\n",
        "  mse = np.mean(np.power(X_test - predictions, 2), axis=1)\n",
        "  error_df = pd.DataFrame({'reconstruction_error': mse,\n",
        "                           'true_class': y_test})"
      ]
    },
    {
      "cell_type": "code",
      "execution_count": null,
      "metadata": {
        "id": "EdQJudbDMhmB",
        "colab": {
          "base_uri": "https://localhost:8080/"
        },
        "outputId": "7fc778f7-f5c9-4017-9f92-443d63fa58fe"
      },
      "outputs": [
        {
          "output_type": "stream",
          "name": "stdout",
          "text": [
            "(64419, 57)\n"
          ]
        }
      ],
      "source": [
        "if model_selection[model_flag]==\"ALL\" or model_selection[model_flag] == \"AE\":\n",
        "  error_df.describe()\n",
        "  print(predictions.shape)"
      ]
    },
    {
      "cell_type": "markdown",
      "metadata": {
        "id": "PHsaAAMmNQrs"
      },
      "source": [
        "## **AE Classifier**"
      ]
    },
    {
      "cell_type": "code",
      "execution_count": null,
      "metadata": {
        "id": "1hK07LDBMoZg"
      },
      "outputs": [],
      "source": [
        "if model_selection[model_flag]==\"ALL\" or model_selection[model_flag] == \"AE\":\n",
        "  i_dim = predictions.shape[1]\n",
        "\n",
        "  #input layer\n",
        "  i_layer = Input(shape=(i_dim, ))\n",
        "  #hidden layer with 50 neurons\n",
        "  fvector = Dense(50, activation=\"sigmoid\")(i_layer)                    \n",
        "  #doutput layer\n",
        "  o_layer = Dense(1, activation='sigmoid')(fvector)"
      ]
    },
    {
      "cell_type": "code",
      "execution_count": null,
      "metadata": {
        "id": "Efq77rVINXWE"
      },
      "outputs": [],
      "source": [
        "if model_selection[model_flag]==\"ALL\" or model_selection[model_flag] == \"AE\":\n",
        "  # creating model with input, encoding, decoding, output layers\n",
        "  ae_classifier = Model(inputs=i_layer, outputs=o_layer)\n",
        "\n",
        "  # defining loss function, optimizer, metrics and then compiling model\n",
        "  ae_classifier.compile(optimizer='adam', loss='binary_crossentropy',metrics=['accuracy'])"
      ]
    },
    {
      "cell_type": "code",
      "execution_count": null,
      "metadata": {
        "id": "0Yl594VGNX1W",
        "colab": {
          "base_uri": "https://localhost:8080/"
        },
        "outputId": "b3b60cc0-e7e6-4347-e952-f86ed3d40333"
      },
      "outputs": [
        {
          "output_type": "stream",
          "name": "stdout",
          "text": [
            "Model: \"model_1\"\n",
            "_________________________________________________________________\n",
            " Layer (type)                Output Shape              Param #   \n",
            "=================================================================\n",
            " input_2 (InputLayer)        [(None, 57)]              0         \n",
            "                                                                 \n",
            " dense_5 (Dense)             (None, 50)                2900      \n",
            "                                                                 \n",
            " dense_6 (Dense)             (None, 1)                 51        \n",
            "                                                                 \n",
            "=================================================================\n",
            "Total params: 2,951\n",
            "Trainable params: 2,951\n",
            "Non-trainable params: 0\n",
            "_________________________________________________________________\n"
          ]
        }
      ],
      "source": [
        "if model_selection[model_flag]==\"ALL\" or model_selection[model_flag] == \"AE\":\n",
        "  # summary of model layers\n",
        "  ae_classifier.summary()"
      ]
    },
    {
      "cell_type": "code",
      "execution_count": null,
      "metadata": {
        "id": "23n8Qt0uNX8Z",
        "colab": {
          "base_uri": "https://localhost:8080/"
        },
        "outputId": "3ef7a965-dbaa-439e-b732-02841ba0fe30"
      },
      "outputs": [
        {
          "output_type": "stream",
          "name": "stdout",
          "text": [
            "Epoch 1/300\n",
            "104/104 [==============================] - 3s 12ms/step - loss: 0.6413 - accuracy: 0.6376 - val_loss: 0.6233 - val_accuracy: 0.6455\n",
            "Epoch 2/300\n",
            "104/104 [==============================] - 0s 4ms/step - loss: 0.6166 - accuracy: 0.6376 - val_loss: 0.6074 - val_accuracy: 0.6455\n",
            "Epoch 3/300\n",
            "104/104 [==============================] - 0s 4ms/step - loss: 0.6045 - accuracy: 0.6696 - val_loss: 0.6012 - val_accuracy: 0.6839\n",
            "Epoch 4/300\n",
            "104/104 [==============================] - 0s 4ms/step - loss: 0.6003 - accuracy: 0.6785 - val_loss: 0.5995 - val_accuracy: 0.6839\n",
            "Epoch 5/300\n",
            "104/104 [==============================] - 0s 4ms/step - loss: 0.5993 - accuracy: 0.6778 - val_loss: 0.5991 - val_accuracy: 0.6839\n",
            "Epoch 6/300\n",
            "104/104 [==============================] - 0s 4ms/step - loss: 0.5990 - accuracy: 0.6775 - val_loss: 0.6004 - val_accuracy: 0.6839\n",
            "Epoch 7/300\n",
            "104/104 [==============================] - 0s 4ms/step - loss: 0.5992 - accuracy: 0.6780 - val_loss: 0.5990 - val_accuracy: 0.6839\n",
            "Epoch 8/300\n",
            "104/104 [==============================] - 0s 4ms/step - loss: 0.5991 - accuracy: 0.6785 - val_loss: 0.5991 - val_accuracy: 0.6839\n",
            "Epoch 9/300\n",
            "104/104 [==============================] - 0s 4ms/step - loss: 0.5991 - accuracy: 0.6785 - val_loss: 0.5992 - val_accuracy: 0.6839\n",
            "Epoch 10/300\n",
            "104/104 [==============================] - 0s 4ms/step - loss: 0.5992 - accuracy: 0.6785 - val_loss: 0.5997 - val_accuracy: 0.6839\n",
            "Epoch 11/300\n",
            "104/104 [==============================] - 0s 4ms/step - loss: 0.5993 - accuracy: 0.6785 - val_loss: 0.5995 - val_accuracy: 0.6839\n",
            "Epoch 12/300\n",
            "104/104 [==============================] - 0s 4ms/step - loss: 0.5991 - accuracy: 0.6785 - val_loss: 0.5991 - val_accuracy: 0.6839\n",
            "Epoch 13/300\n",
            "104/104 [==============================] - 0s 4ms/step - loss: 0.5991 - accuracy: 0.6785 - val_loss: 0.5996 - val_accuracy: 0.6839\n",
            "Epoch 14/300\n",
            "104/104 [==============================] - 0s 4ms/step - loss: 0.5991 - accuracy: 0.6778 - val_loss: 0.5991 - val_accuracy: 0.6839\n",
            "Epoch 15/300\n",
            "104/104 [==============================] - 0s 4ms/step - loss: 0.5992 - accuracy: 0.6782 - val_loss: 0.5991 - val_accuracy: 0.6839\n",
            "Epoch 16/300\n",
            "104/104 [==============================] - 0s 4ms/step - loss: 0.5992 - accuracy: 0.6785 - val_loss: 0.5990 - val_accuracy: 0.6839\n",
            "Epoch 17/300\n",
            "104/104 [==============================] - 0s 4ms/step - loss: 0.5991 - accuracy: 0.6785 - val_loss: 0.5993 - val_accuracy: 0.6839\n",
            "Epoch 18/300\n",
            "104/104 [==============================] - 0s 4ms/step - loss: 0.5991 - accuracy: 0.6785 - val_loss: 0.5990 - val_accuracy: 0.6839\n",
            "Epoch 19/300\n",
            "104/104 [==============================] - 0s 4ms/step - loss: 0.5992 - accuracy: 0.6785 - val_loss: 0.5997 - val_accuracy: 0.6839\n",
            "Epoch 20/300\n",
            "104/104 [==============================] - 0s 5ms/step - loss: 0.5993 - accuracy: 0.6768 - val_loss: 0.5995 - val_accuracy: 0.6839\n",
            "Epoch 21/300\n",
            "104/104 [==============================] - 0s 4ms/step - loss: 0.5991 - accuracy: 0.6785 - val_loss: 0.5993 - val_accuracy: 0.6839\n",
            "Epoch 22/300\n",
            "104/104 [==============================] - 0s 4ms/step - loss: 0.5991 - accuracy: 0.6785 - val_loss: 0.5993 - val_accuracy: 0.6839\n",
            "Epoch 23/300\n",
            "104/104 [==============================] - 0s 4ms/step - loss: 0.5991 - accuracy: 0.6785 - val_loss: 0.5990 - val_accuracy: 0.6839\n",
            "Epoch 24/300\n",
            "104/104 [==============================] - 0s 4ms/step - loss: 0.5991 - accuracy: 0.6785 - val_loss: 0.5997 - val_accuracy: 0.6839\n",
            "Epoch 25/300\n",
            "104/104 [==============================] - 1s 6ms/step - loss: 0.5991 - accuracy: 0.6785 - val_loss: 0.5993 - val_accuracy: 0.6839\n",
            "Epoch 26/300\n",
            "104/104 [==============================] - 1s 6ms/step - loss: 0.5992 - accuracy: 0.6783 - val_loss: 0.5991 - val_accuracy: 0.6839\n",
            "Epoch 27/300\n",
            "104/104 [==============================] - 1s 6ms/step - loss: 0.5993 - accuracy: 0.6779 - val_loss: 0.5990 - val_accuracy: 0.6839\n",
            "Epoch 28/300\n",
            "104/104 [==============================] - 1s 6ms/step - loss: 0.5991 - accuracy: 0.6785 - val_loss: 0.5992 - val_accuracy: 0.6839\n",
            "Epoch 29/300\n",
            "104/104 [==============================] - 1s 6ms/step - loss: 0.5992 - accuracy: 0.6785 - val_loss: 0.5990 - val_accuracy: 0.6839\n",
            "Epoch 30/300\n",
            "104/104 [==============================] - 1s 5ms/step - loss: 0.5992 - accuracy: 0.6780 - val_loss: 0.5990 - val_accuracy: 0.6839\n",
            "Epoch 31/300\n",
            "104/104 [==============================] - 0s 4ms/step - loss: 0.5990 - accuracy: 0.6785 - val_loss: 0.6004 - val_accuracy: 0.6839\n",
            "Epoch 32/300\n",
            "104/104 [==============================] - 0s 4ms/step - loss: 0.5992 - accuracy: 0.6772 - val_loss: 0.5990 - val_accuracy: 0.6839\n",
            "Epoch 33/300\n",
            "104/104 [==============================] - 0s 4ms/step - loss: 0.5992 - accuracy: 0.6779 - val_loss: 0.5990 - val_accuracy: 0.6839\n",
            "Epoch 34/300\n",
            "104/104 [==============================] - 0s 4ms/step - loss: 0.5991 - accuracy: 0.6785 - val_loss: 0.5997 - val_accuracy: 0.6839\n",
            "Epoch 35/300\n",
            "104/104 [==============================] - 0s 4ms/step - loss: 0.5991 - accuracy: 0.6785 - val_loss: 0.5994 - val_accuracy: 0.6839\n",
            "Epoch 36/300\n",
            "104/104 [==============================] - 0s 4ms/step - loss: 0.5991 - accuracy: 0.6785 - val_loss: 0.5994 - val_accuracy: 0.6839\n",
            "Epoch 37/300\n",
            "104/104 [==============================] - 0s 4ms/step - loss: 0.5991 - accuracy: 0.6785 - val_loss: 0.5996 - val_accuracy: 0.6839\n",
            "Epoch 38/300\n",
            "104/104 [==============================] - 0s 4ms/step - loss: 0.5991 - accuracy: 0.6785 - val_loss: 0.5991 - val_accuracy: 0.6839\n",
            "Epoch 39/300\n",
            "104/104 [==============================] - 0s 4ms/step - loss: 0.5991 - accuracy: 0.6785 - val_loss: 0.5993 - val_accuracy: 0.6839\n",
            "Epoch 40/300\n",
            "104/104 [==============================] - 0s 4ms/step - loss: 0.5991 - accuracy: 0.6785 - val_loss: 0.5990 - val_accuracy: 0.6839\n",
            "Epoch 41/300\n",
            "104/104 [==============================] - 0s 4ms/step - loss: 0.5992 - accuracy: 0.6785 - val_loss: 0.5993 - val_accuracy: 0.6839\n",
            "Epoch 42/300\n",
            "104/104 [==============================] - 0s 4ms/step - loss: 0.5991 - accuracy: 0.6785 - val_loss: 0.5994 - val_accuracy: 0.6839\n",
            "Epoch 43/300\n",
            "104/104 [==============================] - 0s 4ms/step - loss: 0.5991 - accuracy: 0.6785 - val_loss: 0.5996 - val_accuracy: 0.6839\n",
            "Epoch 44/300\n",
            "104/104 [==============================] - 0s 4ms/step - loss: 0.5990 - accuracy: 0.6777 - val_loss: 0.6003 - val_accuracy: 0.6839\n",
            "Epoch 45/300\n",
            "104/104 [==============================] - 0s 4ms/step - loss: 0.5991 - accuracy: 0.6785 - val_loss: 0.5990 - val_accuracy: 0.6839\n",
            "Epoch 46/300\n",
            "104/104 [==============================] - 0s 4ms/step - loss: 0.5991 - accuracy: 0.6785 - val_loss: 0.5993 - val_accuracy: 0.6839\n",
            "Epoch 47/300\n",
            "104/104 [==============================] - 0s 4ms/step - loss: 0.5990 - accuracy: 0.6785 - val_loss: 0.5990 - val_accuracy: 0.6839\n",
            "Epoch 48/300\n",
            "104/104 [==============================] - 0s 4ms/step - loss: 0.5991 - accuracy: 0.6778 - val_loss: 0.5991 - val_accuracy: 0.6839\n",
            "Epoch 49/300\n",
            "104/104 [==============================] - 0s 4ms/step - loss: 0.5993 - accuracy: 0.6785 - val_loss: 0.5992 - val_accuracy: 0.6839\n",
            "Epoch 50/300\n",
            "104/104 [==============================] - 0s 4ms/step - loss: 0.5990 - accuracy: 0.6785 - val_loss: 0.5994 - val_accuracy: 0.6839\n",
            "Epoch 51/300\n",
            "104/104 [==============================] - 0s 4ms/step - loss: 0.5991 - accuracy: 0.6785 - val_loss: 0.5990 - val_accuracy: 0.6839\n",
            "Epoch 52/300\n",
            "104/104 [==============================] - 0s 4ms/step - loss: 0.5991 - accuracy: 0.6772 - val_loss: 0.5991 - val_accuracy: 0.6839\n",
            "Epoch 53/300\n",
            "104/104 [==============================] - 0s 4ms/step - loss: 0.5991 - accuracy: 0.6785 - val_loss: 0.5993 - val_accuracy: 0.6839\n",
            "Epoch 54/300\n",
            "104/104 [==============================] - 1s 5ms/step - loss: 0.5991 - accuracy: 0.6785 - val_loss: 0.5990 - val_accuracy: 0.6839\n",
            "Epoch 55/300\n",
            "104/104 [==============================] - 1s 6ms/step - loss: 0.5991 - accuracy: 0.6785 - val_loss: 0.5997 - val_accuracy: 0.6839\n",
            "Epoch 56/300\n",
            "104/104 [==============================] - 1s 6ms/step - loss: 0.5991 - accuracy: 0.6785 - val_loss: 0.5992 - val_accuracy: 0.6839\n",
            "Epoch 57/300\n",
            "104/104 [==============================] - 1s 7ms/step - loss: 0.5990 - accuracy: 0.6777 - val_loss: 0.5992 - val_accuracy: 0.6839\n",
            "Epoch 58/300\n",
            "104/104 [==============================] - 1s 6ms/step - loss: 0.5990 - accuracy: 0.6785 - val_loss: 0.5998 - val_accuracy: 0.6839\n",
            "Epoch 59/300\n",
            "104/104 [==============================] - 1s 5ms/step - loss: 0.5991 - accuracy: 0.6785 - val_loss: 0.5996 - val_accuracy: 0.6839\n",
            "Epoch 60/300\n",
            "104/104 [==============================] - 1s 5ms/step - loss: 0.5991 - accuracy: 0.6785 - val_loss: 0.5998 - val_accuracy: 0.6839\n",
            "Epoch 61/300\n",
            "104/104 [==============================] - 0s 4ms/step - loss: 0.5990 - accuracy: 0.6780 - val_loss: 0.5996 - val_accuracy: 0.6839\n",
            "Epoch 62/300\n",
            "104/104 [==============================] - 0s 4ms/step - loss: 0.5990 - accuracy: 0.6785 - val_loss: 0.5990 - val_accuracy: 0.6839\n",
            "Epoch 63/300\n",
            "104/104 [==============================] - 0s 4ms/step - loss: 0.5991 - accuracy: 0.6785 - val_loss: 0.5998 - val_accuracy: 0.6839\n",
            "Epoch 64/300\n",
            "104/104 [==============================] - 0s 4ms/step - loss: 0.5991 - accuracy: 0.6785 - val_loss: 0.5989 - val_accuracy: 0.6839\n",
            "Epoch 65/300\n",
            "104/104 [==============================] - 0s 4ms/step - loss: 0.5991 - accuracy: 0.6785 - val_loss: 0.5991 - val_accuracy: 0.6839\n",
            "Epoch 66/300\n",
            "104/104 [==============================] - 0s 4ms/step - loss: 0.5991 - accuracy: 0.6773 - val_loss: 0.5990 - val_accuracy: 0.6839\n",
            "Epoch 67/300\n",
            "104/104 [==============================] - 0s 4ms/step - loss: 0.5992 - accuracy: 0.6785 - val_loss: 0.5992 - val_accuracy: 0.6839\n",
            "Epoch 68/300\n",
            "104/104 [==============================] - 0s 4ms/step - loss: 0.5992 - accuracy: 0.6785 - val_loss: 0.5993 - val_accuracy: 0.6839\n",
            "Epoch 69/300\n",
            "104/104 [==============================] - 0s 4ms/step - loss: 0.5991 - accuracy: 0.6785 - val_loss: 0.5991 - val_accuracy: 0.6839\n",
            "Epoch 70/300\n",
            "104/104 [==============================] - 0s 4ms/step - loss: 0.5991 - accuracy: 0.6785 - val_loss: 0.5997 - val_accuracy: 0.6839\n",
            "Epoch 71/300\n",
            "104/104 [==============================] - 0s 4ms/step - loss: 0.5991 - accuracy: 0.6785 - val_loss: 0.5990 - val_accuracy: 0.6839\n",
            "Epoch 72/300\n",
            "104/104 [==============================] - 0s 4ms/step - loss: 0.5991 - accuracy: 0.6785 - val_loss: 0.5990 - val_accuracy: 0.6839\n",
            "Epoch 73/300\n",
            "104/104 [==============================] - 0s 4ms/step - loss: 0.5991 - accuracy: 0.6785 - val_loss: 0.5997 - val_accuracy: 0.6839\n",
            "Epoch 74/300\n",
            "104/104 [==============================] - 0s 4ms/step - loss: 0.5991 - accuracy: 0.6785 - val_loss: 0.5991 - val_accuracy: 0.6839\n",
            "Epoch 75/300\n",
            "104/104 [==============================] - 0s 4ms/step - loss: 0.5991 - accuracy: 0.6777 - val_loss: 0.5990 - val_accuracy: 0.6839\n",
            "Epoch 76/300\n",
            "104/104 [==============================] - 0s 4ms/step - loss: 0.5989 - accuracy: 0.6785 - val_loss: 0.5990 - val_accuracy: 0.6839\n",
            "Epoch 77/300\n",
            "104/104 [==============================] - 0s 4ms/step - loss: 0.5990 - accuracy: 0.6785 - val_loss: 0.5992 - val_accuracy: 0.6839\n",
            "Epoch 78/300\n",
            "104/104 [==============================] - 0s 4ms/step - loss: 0.5991 - accuracy: 0.6785 - val_loss: 0.5994 - val_accuracy: 0.6839\n",
            "Epoch 79/300\n",
            "104/104 [==============================] - 0s 4ms/step - loss: 0.5991 - accuracy: 0.6785 - val_loss: 0.5990 - val_accuracy: 0.6839\n",
            "Epoch 80/300\n",
            "104/104 [==============================] - 0s 4ms/step - loss: 0.5992 - accuracy: 0.6785 - val_loss: 0.5994 - val_accuracy: 0.6839\n",
            "Epoch 81/300\n",
            "104/104 [==============================] - 0s 4ms/step - loss: 0.5990 - accuracy: 0.6785 - val_loss: 0.5990 - val_accuracy: 0.6839\n",
            "Epoch 82/300\n",
            "104/104 [==============================] - 0s 4ms/step - loss: 0.5993 - accuracy: 0.6779 - val_loss: 0.5991 - val_accuracy: 0.6839\n",
            "Epoch 83/300\n",
            "104/104 [==============================] - 0s 4ms/step - loss: 0.5990 - accuracy: 0.6785 - val_loss: 0.6002 - val_accuracy: 0.6839\n",
            "Epoch 84/300\n",
            "104/104 [==============================] - 1s 5ms/step - loss: 0.5990 - accuracy: 0.6785 - val_loss: 0.5991 - val_accuracy: 0.6839\n",
            "Epoch 85/300\n",
            "104/104 [==============================] - 1s 6ms/step - loss: 0.5991 - accuracy: 0.6785 - val_loss: 0.5997 - val_accuracy: 0.6839\n",
            "Epoch 86/300\n",
            "104/104 [==============================] - 1s 6ms/step - loss: 0.5993 - accuracy: 0.6785 - val_loss: 0.5995 - val_accuracy: 0.6839\n",
            "Epoch 87/300\n",
            "104/104 [==============================] - 1s 7ms/step - loss: 0.5992 - accuracy: 0.6777 - val_loss: 0.6001 - val_accuracy: 0.6839\n",
            "Epoch 88/300\n",
            "104/104 [==============================] - 1s 6ms/step - loss: 0.5991 - accuracy: 0.6785 - val_loss: 0.5992 - val_accuracy: 0.6839\n",
            "Epoch 89/300\n",
            "104/104 [==============================] - 1s 5ms/step - loss: 0.5991 - accuracy: 0.6785 - val_loss: 0.5989 - val_accuracy: 0.6839\n",
            "Epoch 90/300\n",
            "104/104 [==============================] - 0s 4ms/step - loss: 0.5990 - accuracy: 0.6785 - val_loss: 0.5995 - val_accuracy: 0.6839\n",
            "Epoch 91/300\n",
            "104/104 [==============================] - 0s 4ms/step - loss: 0.5992 - accuracy: 0.6780 - val_loss: 0.5990 - val_accuracy: 0.6839\n",
            "Epoch 92/300\n",
            "104/104 [==============================] - 0s 4ms/step - loss: 0.5991 - accuracy: 0.6785 - val_loss: 0.5990 - val_accuracy: 0.6839\n",
            "Epoch 93/300\n",
            "104/104 [==============================] - 0s 4ms/step - loss: 0.5990 - accuracy: 0.6785 - val_loss: 0.5994 - val_accuracy: 0.6839\n",
            "Epoch 94/300\n",
            "104/104 [==============================] - 0s 4ms/step - loss: 0.5992 - accuracy: 0.6770 - val_loss: 0.5992 - val_accuracy: 0.6839\n",
            "Epoch 95/300\n",
            "104/104 [==============================] - 0s 4ms/step - loss: 0.5991 - accuracy: 0.6785 - val_loss: 0.5996 - val_accuracy: 0.6839\n",
            "Epoch 96/300\n",
            "104/104 [==============================] - 0s 4ms/step - loss: 0.5992 - accuracy: 0.6785 - val_loss: 0.5990 - val_accuracy: 0.6839\n",
            "Epoch 97/300\n",
            "104/104 [==============================] - 0s 4ms/step - loss: 0.5990 - accuracy: 0.6772 - val_loss: 0.6002 - val_accuracy: 0.6839\n",
            "Epoch 98/300\n",
            "104/104 [==============================] - 0s 4ms/step - loss: 0.5991 - accuracy: 0.6785 - val_loss: 0.5995 - val_accuracy: 0.6839\n",
            "Epoch 99/300\n",
            "104/104 [==============================] - 0s 4ms/step - loss: 0.5991 - accuracy: 0.6785 - val_loss: 0.5992 - val_accuracy: 0.6839\n",
            "Epoch 100/300\n",
            "104/104 [==============================] - 0s 4ms/step - loss: 0.5990 - accuracy: 0.6785 - val_loss: 0.5990 - val_accuracy: 0.6839\n",
            "Epoch 101/300\n",
            "104/104 [==============================] - 0s 4ms/step - loss: 0.5992 - accuracy: 0.6785 - val_loss: 0.5992 - val_accuracy: 0.6839\n",
            "Epoch 102/300\n",
            "104/104 [==============================] - 0s 4ms/step - loss: 0.5990 - accuracy: 0.6785 - val_loss: 0.5991 - val_accuracy: 0.6839\n",
            "Epoch 103/300\n",
            "104/104 [==============================] - 0s 4ms/step - loss: 0.5991 - accuracy: 0.6785 - val_loss: 0.5992 - val_accuracy: 0.6839\n",
            "Epoch 104/300\n",
            "104/104 [==============================] - 0s 4ms/step - loss: 0.5991 - accuracy: 0.6785 - val_loss: 0.5991 - val_accuracy: 0.6839\n",
            "Epoch 105/300\n",
            "104/104 [==============================] - 0s 4ms/step - loss: 0.5990 - accuracy: 0.6780 - val_loss: 0.5992 - val_accuracy: 0.6839\n",
            "Epoch 106/300\n",
            "104/104 [==============================] - 0s 4ms/step - loss: 0.5991 - accuracy: 0.6785 - val_loss: 0.5989 - val_accuracy: 0.6839\n",
            "Epoch 107/300\n",
            "104/104 [==============================] - 0s 4ms/step - loss: 0.5990 - accuracy: 0.6785 - val_loss: 0.5995 - val_accuracy: 0.6839\n",
            "Epoch 108/300\n",
            "104/104 [==============================] - 0s 4ms/step - loss: 0.5991 - accuracy: 0.6785 - val_loss: 0.5991 - val_accuracy: 0.6839\n",
            "Epoch 109/300\n",
            "104/104 [==============================] - 0s 4ms/step - loss: 0.5992 - accuracy: 0.6785 - val_loss: 0.5990 - val_accuracy: 0.6839\n",
            "Epoch 110/300\n",
            "104/104 [==============================] - 0s 4ms/step - loss: 0.5993 - accuracy: 0.6785 - val_loss: 0.5991 - val_accuracy: 0.6839\n",
            "Epoch 111/300\n",
            "104/104 [==============================] - 0s 4ms/step - loss: 0.5990 - accuracy: 0.6785 - val_loss: 0.5991 - val_accuracy: 0.6839\n",
            "Epoch 112/300\n",
            "104/104 [==============================] - 0s 4ms/step - loss: 0.5991 - accuracy: 0.6785 - val_loss: 0.5994 - val_accuracy: 0.6839\n",
            "Epoch 113/300\n",
            "104/104 [==============================] - 1s 5ms/step - loss: 0.5990 - accuracy: 0.6785 - val_loss: 0.5994 - val_accuracy: 0.6839\n",
            "Epoch 114/300\n",
            "104/104 [==============================] - 1s 6ms/step - loss: 0.5991 - accuracy: 0.6785 - val_loss: 0.5990 - val_accuracy: 0.6839\n",
            "Epoch 115/300\n",
            "104/104 [==============================] - 1s 6ms/step - loss: 0.5992 - accuracy: 0.6785 - val_loss: 0.5991 - val_accuracy: 0.6839\n",
            "Epoch 116/300\n",
            "104/104 [==============================] - 1s 6ms/step - loss: 0.5991 - accuracy: 0.6785 - val_loss: 0.5996 - val_accuracy: 0.6839\n",
            "Epoch 117/300\n",
            "104/104 [==============================] - 1s 5ms/step - loss: 0.5991 - accuracy: 0.6782 - val_loss: 0.5994 - val_accuracy: 0.6839\n",
            "Epoch 118/300\n",
            "104/104 [==============================] - 1s 6ms/step - loss: 0.5991 - accuracy: 0.6785 - val_loss: 0.5990 - val_accuracy: 0.6839\n",
            "Epoch 119/300\n",
            "104/104 [==============================] - 0s 4ms/step - loss: 0.5991 - accuracy: 0.6785 - val_loss: 0.5990 - val_accuracy: 0.6839\n",
            "Epoch 120/300\n",
            "104/104 [==============================] - 0s 4ms/step - loss: 0.5991 - accuracy: 0.6785 - val_loss: 0.5994 - val_accuracy: 0.6839\n",
            "Epoch 121/300\n",
            "104/104 [==============================] - 0s 4ms/step - loss: 0.5994 - accuracy: 0.6785 - val_loss: 0.5990 - val_accuracy: 0.6839\n",
            "Epoch 122/300\n",
            "104/104 [==============================] - 0s 4ms/step - loss: 0.5992 - accuracy: 0.6785 - val_loss: 0.5992 - val_accuracy: 0.6839\n",
            "Epoch 123/300\n",
            "104/104 [==============================] - 0s 4ms/step - loss: 0.5991 - accuracy: 0.6785 - val_loss: 0.5992 - val_accuracy: 0.6839\n",
            "Epoch 124/300\n",
            "104/104 [==============================] - 0s 4ms/step - loss: 0.5991 - accuracy: 0.6785 - val_loss: 0.5994 - val_accuracy: 0.6839\n",
            "Epoch 125/300\n",
            "104/104 [==============================] - 0s 4ms/step - loss: 0.5991 - accuracy: 0.6785 - val_loss: 0.5997 - val_accuracy: 0.6839\n",
            "Epoch 126/300\n",
            "104/104 [==============================] - 0s 5ms/step - loss: 0.5991 - accuracy: 0.6785 - val_loss: 0.5992 - val_accuracy: 0.6839\n",
            "Epoch 127/300\n",
            "104/104 [==============================] - 0s 4ms/step - loss: 0.5991 - accuracy: 0.6785 - val_loss: 0.5991 - val_accuracy: 0.6839\n",
            "Epoch 128/300\n",
            "104/104 [==============================] - 0s 4ms/step - loss: 0.5991 - accuracy: 0.6785 - val_loss: 0.5989 - val_accuracy: 0.6839\n",
            "Epoch 129/300\n",
            "104/104 [==============================] - 0s 4ms/step - loss: 0.5992 - accuracy: 0.6785 - val_loss: 0.5994 - val_accuracy: 0.6839\n",
            "Epoch 130/300\n",
            "104/104 [==============================] - 0s 4ms/step - loss: 0.5991 - accuracy: 0.6785 - val_loss: 0.5997 - val_accuracy: 0.6839\n",
            "Epoch 131/300\n",
            "104/104 [==============================] - 0s 4ms/step - loss: 0.5991 - accuracy: 0.6785 - val_loss: 0.5998 - val_accuracy: 0.6839\n",
            "Epoch 132/300\n",
            "104/104 [==============================] - 0s 4ms/step - loss: 0.5991 - accuracy: 0.6785 - val_loss: 0.5990 - val_accuracy: 0.6839\n",
            "Epoch 133/300\n",
            "104/104 [==============================] - 0s 4ms/step - loss: 0.5991 - accuracy: 0.6785 - val_loss: 0.5990 - val_accuracy: 0.6839\n",
            "Epoch 134/300\n",
            "104/104 [==============================] - 0s 4ms/step - loss: 0.5992 - accuracy: 0.6785 - val_loss: 0.5998 - val_accuracy: 0.6839\n",
            "Epoch 135/300\n",
            "104/104 [==============================] - 0s 4ms/step - loss: 0.5992 - accuracy: 0.6785 - val_loss: 0.5992 - val_accuracy: 0.6839\n",
            "Epoch 136/300\n",
            "104/104 [==============================] - 0s 4ms/step - loss: 0.5990 - accuracy: 0.6785 - val_loss: 0.5990 - val_accuracy: 0.6839\n",
            "Epoch 137/300\n",
            "104/104 [==============================] - 0s 4ms/step - loss: 0.5991 - accuracy: 0.6785 - val_loss: 0.5997 - val_accuracy: 0.6839\n",
            "Epoch 138/300\n",
            "104/104 [==============================] - 0s 4ms/step - loss: 0.5990 - accuracy: 0.6785 - val_loss: 0.5993 - val_accuracy: 0.6839\n",
            "Epoch 139/300\n",
            "104/104 [==============================] - 0s 4ms/step - loss: 0.5991 - accuracy: 0.6785 - val_loss: 0.5990 - val_accuracy: 0.6839\n",
            "Epoch 140/300\n",
            "104/104 [==============================] - 0s 4ms/step - loss: 0.5993 - accuracy: 0.6785 - val_loss: 0.5995 - val_accuracy: 0.6839\n",
            "Epoch 141/300\n",
            "104/104 [==============================] - 0s 4ms/step - loss: 0.5990 - accuracy: 0.6785 - val_loss: 0.5990 - val_accuracy: 0.6839\n",
            "Epoch 142/300\n",
            "104/104 [==============================] - 1s 6ms/step - loss: 0.5992 - accuracy: 0.6785 - val_loss: 0.6004 - val_accuracy: 0.6839\n",
            "Epoch 143/300\n",
            "104/104 [==============================] - 1s 5ms/step - loss: 0.5992 - accuracy: 0.6787 - val_loss: 0.5993 - val_accuracy: 0.6839\n",
            "Epoch 144/300\n",
            "104/104 [==============================] - 1s 6ms/step - loss: 0.5991 - accuracy: 0.6777 - val_loss: 0.5994 - val_accuracy: 0.6839\n",
            "Epoch 145/300\n",
            "104/104 [==============================] - 1s 6ms/step - loss: 0.5991 - accuracy: 0.6785 - val_loss: 0.5990 - val_accuracy: 0.6839\n",
            "Epoch 146/300\n",
            "104/104 [==============================] - 1s 6ms/step - loss: 0.5992 - accuracy: 0.6785 - val_loss: 0.5990 - val_accuracy: 0.6839\n",
            "Epoch 147/300\n",
            "104/104 [==============================] - 1s 6ms/step - loss: 0.5991 - accuracy: 0.6785 - val_loss: 0.5994 - val_accuracy: 0.6839\n",
            "Epoch 148/300\n",
            "104/104 [==============================] - 0s 4ms/step - loss: 0.5991 - accuracy: 0.6785 - val_loss: 0.5990 - val_accuracy: 0.6839\n",
            "Epoch 149/300\n",
            "104/104 [==============================] - 0s 4ms/step - loss: 0.5991 - accuracy: 0.6782 - val_loss: 0.5990 - val_accuracy: 0.6839\n",
            "Epoch 150/300\n",
            "104/104 [==============================] - 0s 4ms/step - loss: 0.5990 - accuracy: 0.6785 - val_loss: 0.5991 - val_accuracy: 0.6839\n",
            "Epoch 151/300\n",
            "104/104 [==============================] - 0s 4ms/step - loss: 0.5991 - accuracy: 0.6785 - val_loss: 0.5991 - val_accuracy: 0.6839\n",
            "Epoch 152/300\n",
            "104/104 [==============================] - 0s 4ms/step - loss: 0.5991 - accuracy: 0.6785 - val_loss: 0.5993 - val_accuracy: 0.6839\n",
            "Epoch 153/300\n",
            "104/104 [==============================] - 0s 4ms/step - loss: 0.5991 - accuracy: 0.6785 - val_loss: 0.5995 - val_accuracy: 0.6839\n",
            "Epoch 154/300\n",
            "104/104 [==============================] - 0s 4ms/step - loss: 0.5991 - accuracy: 0.6785 - val_loss: 0.5990 - val_accuracy: 0.6839\n",
            "Epoch 155/300\n",
            "104/104 [==============================] - 0s 4ms/step - loss: 0.5991 - accuracy: 0.6785 - val_loss: 0.5990 - val_accuracy: 0.6839\n",
            "Epoch 156/300\n",
            "104/104 [==============================] - 0s 4ms/step - loss: 0.5990 - accuracy: 0.6785 - val_loss: 0.5990 - val_accuracy: 0.6839\n",
            "Epoch 157/300\n",
            "104/104 [==============================] - 0s 4ms/step - loss: 0.5991 - accuracy: 0.6785 - val_loss: 0.5991 - val_accuracy: 0.6839\n",
            "Epoch 158/300\n",
            "104/104 [==============================] - 0s 4ms/step - loss: 0.5990 - accuracy: 0.6785 - val_loss: 0.5995 - val_accuracy: 0.6839\n",
            "Epoch 159/300\n",
            "104/104 [==============================] - 0s 4ms/step - loss: 0.5992 - accuracy: 0.6785 - val_loss: 0.5993 - val_accuracy: 0.6839\n",
            "Epoch 160/300\n",
            "104/104 [==============================] - 0s 4ms/step - loss: 0.5992 - accuracy: 0.6785 - val_loss: 0.5991 - val_accuracy: 0.6839\n",
            "Epoch 161/300\n",
            "104/104 [==============================] - 0s 4ms/step - loss: 0.5991 - accuracy: 0.6785 - val_loss: 0.5999 - val_accuracy: 0.6839\n",
            "Epoch 162/300\n",
            "104/104 [==============================] - 0s 4ms/step - loss: 0.5992 - accuracy: 0.6782 - val_loss: 0.5992 - val_accuracy: 0.6839\n",
            "Epoch 163/300\n",
            "104/104 [==============================] - 0s 4ms/step - loss: 0.5992 - accuracy: 0.6785 - val_loss: 0.5991 - val_accuracy: 0.6839\n",
            "Epoch 164/300\n",
            "104/104 [==============================] - 0s 4ms/step - loss: 0.5990 - accuracy: 0.6785 - val_loss: 0.5993 - val_accuracy: 0.6839\n",
            "Epoch 165/300\n",
            "104/104 [==============================] - 0s 4ms/step - loss: 0.5990 - accuracy: 0.6785 - val_loss: 0.5991 - val_accuracy: 0.6839\n",
            "Epoch 166/300\n",
            "104/104 [==============================] - 0s 4ms/step - loss: 0.5993 - accuracy: 0.6769 - val_loss: 0.5995 - val_accuracy: 0.6839\n",
            "Epoch 167/300\n",
            "104/104 [==============================] - 0s 4ms/step - loss: 0.5991 - accuracy: 0.6785 - val_loss: 0.5990 - val_accuracy: 0.6839\n",
            "Epoch 168/300\n",
            "104/104 [==============================] - 0s 4ms/step - loss: 0.5992 - accuracy: 0.6778 - val_loss: 0.5990 - val_accuracy: 0.6839\n",
            "Epoch 169/300\n",
            "104/104 [==============================] - 0s 4ms/step - loss: 0.5991 - accuracy: 0.6785 - val_loss: 0.5992 - val_accuracy: 0.6839\n",
            "Epoch 170/300\n",
            "104/104 [==============================] - 0s 4ms/step - loss: 0.5990 - accuracy: 0.6785 - val_loss: 0.5990 - val_accuracy: 0.6839\n",
            "Epoch 171/300\n",
            "104/104 [==============================] - 1s 6ms/step - loss: 0.5990 - accuracy: 0.6781 - val_loss: 0.5990 - val_accuracy: 0.6839\n",
            "Epoch 172/300\n",
            "104/104 [==============================] - 1s 6ms/step - loss: 0.5991 - accuracy: 0.6785 - val_loss: 0.5991 - val_accuracy: 0.6839\n",
            "Epoch 173/300\n",
            "104/104 [==============================] - 1s 5ms/step - loss: 0.5991 - accuracy: 0.6785 - val_loss: 0.5991 - val_accuracy: 0.6839\n",
            "Epoch 174/300\n",
            "104/104 [==============================] - 1s 6ms/step - loss: 0.5991 - accuracy: 0.6785 - val_loss: 0.5995 - val_accuracy: 0.6839\n",
            "Epoch 175/300\n",
            "104/104 [==============================] - 1s 6ms/step - loss: 0.5992 - accuracy: 0.6785 - val_loss: 0.5989 - val_accuracy: 0.6839\n",
            "Epoch 176/300\n",
            "104/104 [==============================] - 1s 7ms/step - loss: 0.5992 - accuracy: 0.6785 - val_loss: 0.5990 - val_accuracy: 0.6839\n",
            "Epoch 177/300\n",
            "104/104 [==============================] - 0s 4ms/step - loss: 0.5992 - accuracy: 0.6785 - val_loss: 0.5990 - val_accuracy: 0.6839\n",
            "Epoch 178/300\n",
            "104/104 [==============================] - 0s 4ms/step - loss: 0.5991 - accuracy: 0.6785 - val_loss: 0.5990 - val_accuracy: 0.6839\n",
            "Epoch 179/300\n",
            "104/104 [==============================] - 0s 4ms/step - loss: 0.5991 - accuracy: 0.6785 - val_loss: 0.5992 - val_accuracy: 0.6839\n",
            "Epoch 180/300\n",
            "104/104 [==============================] - 0s 4ms/step - loss: 0.5991 - accuracy: 0.6785 - val_loss: 0.5992 - val_accuracy: 0.6839\n",
            "Epoch 181/300\n",
            "104/104 [==============================] - 0s 4ms/step - loss: 0.5991 - accuracy: 0.6785 - val_loss: 0.5993 - val_accuracy: 0.6839\n",
            "Epoch 182/300\n",
            "104/104 [==============================] - 0s 4ms/step - loss: 0.5991 - accuracy: 0.6785 - val_loss: 0.5990 - val_accuracy: 0.6839\n",
            "Epoch 183/300\n",
            "104/104 [==============================] - 0s 4ms/step - loss: 0.5991 - accuracy: 0.6785 - val_loss: 0.5992 - val_accuracy: 0.6839\n",
            "Epoch 184/300\n",
            "104/104 [==============================] - 0s 4ms/step - loss: 0.5990 - accuracy: 0.6785 - val_loss: 0.5997 - val_accuracy: 0.6839\n",
            "Epoch 185/300\n",
            "104/104 [==============================] - 0s 4ms/step - loss: 0.5990 - accuracy: 0.6785 - val_loss: 0.5994 - val_accuracy: 0.6839\n",
            "Epoch 186/300\n",
            "104/104 [==============================] - 0s 4ms/step - loss: 0.5991 - accuracy: 0.6785 - val_loss: 0.5992 - val_accuracy: 0.6839\n",
            "Epoch 187/300\n",
            "104/104 [==============================] - 0s 4ms/step - loss: 0.5992 - accuracy: 0.6785 - val_loss: 0.5993 - val_accuracy: 0.6839\n",
            "Epoch 188/300\n",
            "104/104 [==============================] - 0s 4ms/step - loss: 0.5990 - accuracy: 0.6785 - val_loss: 0.5990 - val_accuracy: 0.6839\n",
            "Epoch 189/300\n",
            "104/104 [==============================] - 0s 4ms/step - loss: 0.5991 - accuracy: 0.6785 - val_loss: 0.5990 - val_accuracy: 0.6839\n",
            "Epoch 190/300\n",
            "104/104 [==============================] - 0s 4ms/step - loss: 0.5991 - accuracy: 0.6785 - val_loss: 0.5997 - val_accuracy: 0.6839\n",
            "Epoch 191/300\n",
            "104/104 [==============================] - 0s 4ms/step - loss: 0.5991 - accuracy: 0.6785 - val_loss: 0.5990 - val_accuracy: 0.6839\n",
            "Epoch 192/300\n",
            "104/104 [==============================] - 0s 4ms/step - loss: 0.5991 - accuracy: 0.6785 - val_loss: 0.5992 - val_accuracy: 0.6839\n",
            "Epoch 193/300\n",
            "104/104 [==============================] - 0s 4ms/step - loss: 0.5991 - accuracy: 0.6785 - val_loss: 0.5992 - val_accuracy: 0.6839\n",
            "Epoch 194/300\n",
            "104/104 [==============================] - 0s 4ms/step - loss: 0.5991 - accuracy: 0.6785 - val_loss: 0.5993 - val_accuracy: 0.6839\n",
            "Epoch 195/300\n",
            "104/104 [==============================] - 0s 4ms/step - loss: 0.5991 - accuracy: 0.6785 - val_loss: 0.5996 - val_accuracy: 0.6839\n",
            "Epoch 196/300\n",
            "104/104 [==============================] - 0s 4ms/step - loss: 0.5991 - accuracy: 0.6785 - val_loss: 0.5990 - val_accuracy: 0.6839\n",
            "Epoch 197/300\n",
            "104/104 [==============================] - 0s 4ms/step - loss: 0.5990 - accuracy: 0.6785 - val_loss: 0.6001 - val_accuracy: 0.6839\n",
            "Epoch 198/300\n",
            "104/104 [==============================] - 0s 4ms/step - loss: 0.5990 - accuracy: 0.6785 - val_loss: 0.5990 - val_accuracy: 0.6839\n",
            "Epoch 199/300\n",
            "104/104 [==============================] - 0s 4ms/step - loss: 0.5991 - accuracy: 0.6785 - val_loss: 0.5990 - val_accuracy: 0.6839\n",
            "Epoch 200/300\n",
            "104/104 [==============================] - 1s 6ms/step - loss: 0.5991 - accuracy: 0.6785 - val_loss: 0.5990 - val_accuracy: 0.6839\n",
            "Epoch 201/300\n",
            "104/104 [==============================] - 1s 6ms/step - loss: 0.5991 - accuracy: 0.6784 - val_loss: 0.5990 - val_accuracy: 0.6839\n",
            "Epoch 202/300\n",
            "104/104 [==============================] - 1s 5ms/step - loss: 0.5990 - accuracy: 0.6785 - val_loss: 0.5991 - val_accuracy: 0.6839\n",
            "Epoch 203/300\n",
            "104/104 [==============================] - 1s 5ms/step - loss: 0.5991 - accuracy: 0.6785 - val_loss: 0.5991 - val_accuracy: 0.6839\n",
            "Epoch 204/300\n",
            "104/104 [==============================] - 1s 6ms/step - loss: 0.5991 - accuracy: 0.6785 - val_loss: 0.5990 - val_accuracy: 0.6839\n",
            "Epoch 205/300\n",
            "104/104 [==============================] - 1s 6ms/step - loss: 0.5992 - accuracy: 0.6785 - val_loss: 0.5994 - val_accuracy: 0.6839\n",
            "Epoch 206/300\n",
            "104/104 [==============================] - 1s 5ms/step - loss: 0.5991 - accuracy: 0.6785 - val_loss: 0.5994 - val_accuracy: 0.6839\n",
            "Epoch 207/300\n",
            "104/104 [==============================] - 0s 4ms/step - loss: 0.5990 - accuracy: 0.6785 - val_loss: 0.5994 - val_accuracy: 0.6839\n",
            "Epoch 208/300\n",
            "104/104 [==============================] - 0s 4ms/step - loss: 0.5990 - accuracy: 0.6785 - val_loss: 0.5998 - val_accuracy: 0.6839\n",
            "Epoch 209/300\n",
            "104/104 [==============================] - 0s 4ms/step - loss: 0.5991 - accuracy: 0.6785 - val_loss: 0.5996 - val_accuracy: 0.6839\n",
            "Epoch 210/300\n",
            "104/104 [==============================] - 0s 4ms/step - loss: 0.5991 - accuracy: 0.6785 - val_loss: 0.6007 - val_accuracy: 0.6579\n",
            "Epoch 211/300\n",
            "104/104 [==============================] - 0s 4ms/step - loss: 0.5992 - accuracy: 0.6780 - val_loss: 0.5990 - val_accuracy: 0.6839\n",
            "Epoch 212/300\n",
            "104/104 [==============================] - 0s 4ms/step - loss: 0.5990 - accuracy: 0.6785 - val_loss: 0.6006 - val_accuracy: 0.6839\n",
            "Epoch 213/300\n",
            "104/104 [==============================] - 0s 4ms/step - loss: 0.5991 - accuracy: 0.6785 - val_loss: 0.5990 - val_accuracy: 0.6839\n",
            "Epoch 214/300\n",
            "104/104 [==============================] - 0s 4ms/step - loss: 0.5992 - accuracy: 0.6785 - val_loss: 0.5998 - val_accuracy: 0.6839\n",
            "Epoch 215/300\n",
            "104/104 [==============================] - 0s 4ms/step - loss: 0.5991 - accuracy: 0.6785 - val_loss: 0.5991 - val_accuracy: 0.6839\n",
            "Epoch 216/300\n",
            "104/104 [==============================] - 0s 4ms/step - loss: 0.5991 - accuracy: 0.6785 - val_loss: 0.5991 - val_accuracy: 0.6839\n",
            "Epoch 217/300\n",
            "104/104 [==============================] - 0s 4ms/step - loss: 0.5990 - accuracy: 0.6785 - val_loss: 0.5992 - val_accuracy: 0.6839\n",
            "Epoch 218/300\n",
            "104/104 [==============================] - 0s 4ms/step - loss: 0.5990 - accuracy: 0.6785 - val_loss: 0.6001 - val_accuracy: 0.6839\n",
            "Epoch 219/300\n",
            "104/104 [==============================] - 0s 4ms/step - loss: 0.5991 - accuracy: 0.6785 - val_loss: 0.5992 - val_accuracy: 0.6839\n",
            "Epoch 220/300\n",
            "104/104 [==============================] - 0s 4ms/step - loss: 0.5991 - accuracy: 0.6785 - val_loss: 0.5995 - val_accuracy: 0.6839\n",
            "Epoch 221/300\n",
            "104/104 [==============================] - 0s 4ms/step - loss: 0.5992 - accuracy: 0.6774 - val_loss: 0.5994 - val_accuracy: 0.6839\n",
            "Epoch 222/300\n",
            "104/104 [==============================] - 1s 5ms/step - loss: 0.5991 - accuracy: 0.6775 - val_loss: 0.5992 - val_accuracy: 0.6839\n",
            "Epoch 223/300\n",
            "104/104 [==============================] - 0s 4ms/step - loss: 0.5991 - accuracy: 0.6785 - val_loss: 0.5992 - val_accuracy: 0.6839\n",
            "Epoch 224/300\n",
            "104/104 [==============================] - 0s 4ms/step - loss: 0.5990 - accuracy: 0.6785 - val_loss: 0.5993 - val_accuracy: 0.6839\n",
            "Epoch 225/300\n",
            "104/104 [==============================] - 0s 4ms/step - loss: 0.5991 - accuracy: 0.6785 - val_loss: 0.6001 - val_accuracy: 0.6839\n",
            "Epoch 226/300\n",
            "104/104 [==============================] - 0s 4ms/step - loss: 0.5992 - accuracy: 0.6785 - val_loss: 0.6000 - val_accuracy: 0.6839\n",
            "Epoch 227/300\n",
            "104/104 [==============================] - 0s 4ms/step - loss: 0.5991 - accuracy: 0.6782 - val_loss: 0.5993 - val_accuracy: 0.6839\n",
            "Epoch 228/300\n",
            "104/104 [==============================] - 0s 4ms/step - loss: 0.5990 - accuracy: 0.6785 - val_loss: 0.5990 - val_accuracy: 0.6839\n",
            "Epoch 229/300\n",
            "104/104 [==============================] - 1s 6ms/step - loss: 0.5990 - accuracy: 0.6785 - val_loss: 0.5992 - val_accuracy: 0.6839\n",
            "Epoch 230/300\n",
            "104/104 [==============================] - 1s 6ms/step - loss: 0.5991 - accuracy: 0.6785 - val_loss: 0.5992 - val_accuracy: 0.6839\n",
            "Epoch 231/300\n",
            "104/104 [==============================] - 1s 6ms/step - loss: 0.5990 - accuracy: 0.6785 - val_loss: 0.5992 - val_accuracy: 0.6839\n",
            "Epoch 232/300\n",
            "104/104 [==============================] - 1s 5ms/step - loss: 0.5990 - accuracy: 0.6785 - val_loss: 0.5993 - val_accuracy: 0.6839\n",
            "Epoch 233/300\n",
            "104/104 [==============================] - 1s 5ms/step - loss: 0.5991 - accuracy: 0.6785 - val_loss: 0.5992 - val_accuracy: 0.6839\n",
            "Epoch 234/300\n",
            "104/104 [==============================] - 1s 5ms/step - loss: 0.5990 - accuracy: 0.6785 - val_loss: 0.5990 - val_accuracy: 0.6839\n",
            "Epoch 235/300\n",
            "104/104 [==============================] - 1s 5ms/step - loss: 0.5991 - accuracy: 0.6780 - val_loss: 0.5993 - val_accuracy: 0.6839\n",
            "Epoch 236/300\n",
            "104/104 [==============================] - 0s 4ms/step - loss: 0.5992 - accuracy: 0.6785 - val_loss: 0.5991 - val_accuracy: 0.6839\n",
            "Epoch 237/300\n",
            "104/104 [==============================] - 0s 4ms/step - loss: 0.5992 - accuracy: 0.6785 - val_loss: 0.5991 - val_accuracy: 0.6839\n",
            "Epoch 238/300\n",
            "104/104 [==============================] - 0s 4ms/step - loss: 0.5991 - accuracy: 0.6785 - val_loss: 0.5991 - val_accuracy: 0.6839\n",
            "Epoch 239/300\n",
            "104/104 [==============================] - 0s 4ms/step - loss: 0.5992 - accuracy: 0.6785 - val_loss: 0.5997 - val_accuracy: 0.6839\n",
            "Epoch 240/300\n",
            "104/104 [==============================] - 0s 4ms/step - loss: 0.5991 - accuracy: 0.6785 - val_loss: 0.5993 - val_accuracy: 0.6839\n",
            "Epoch 241/300\n",
            "104/104 [==============================] - 0s 4ms/step - loss: 0.5992 - accuracy: 0.6785 - val_loss: 0.5996 - val_accuracy: 0.6839\n",
            "Epoch 242/300\n",
            "104/104 [==============================] - 0s 4ms/step - loss: 0.5990 - accuracy: 0.6785 - val_loss: 0.5990 - val_accuracy: 0.6839\n",
            "Epoch 243/300\n",
            "104/104 [==============================] - 0s 4ms/step - loss: 0.5991 - accuracy: 0.6785 - val_loss: 0.5994 - val_accuracy: 0.6839\n",
            "Epoch 244/300\n",
            "104/104 [==============================] - 0s 4ms/step - loss: 0.5990 - accuracy: 0.6785 - val_loss: 0.5992 - val_accuracy: 0.6839\n",
            "Epoch 245/300\n",
            "104/104 [==============================] - 0s 4ms/step - loss: 0.5992 - accuracy: 0.6785 - val_loss: 0.5991 - val_accuracy: 0.6839\n",
            "Epoch 246/300\n",
            "104/104 [==============================] - 0s 4ms/step - loss: 0.5993 - accuracy: 0.6778 - val_loss: 0.5990 - val_accuracy: 0.6839\n",
            "Epoch 247/300\n",
            "104/104 [==============================] - 0s 4ms/step - loss: 0.5991 - accuracy: 0.6785 - val_loss: 0.5991 - val_accuracy: 0.6839\n",
            "Epoch 248/300\n",
            "104/104 [==============================] - 0s 4ms/step - loss: 0.5990 - accuracy: 0.6785 - val_loss: 0.5990 - val_accuracy: 0.6839\n",
            "Epoch 249/300\n",
            "104/104 [==============================] - 0s 4ms/step - loss: 0.5992 - accuracy: 0.6785 - val_loss: 0.5990 - val_accuracy: 0.6839\n",
            "Epoch 250/300\n",
            "104/104 [==============================] - 0s 4ms/step - loss: 0.5990 - accuracy: 0.6785 - val_loss: 0.5991 - val_accuracy: 0.6839\n",
            "Epoch 251/300\n",
            "104/104 [==============================] - 0s 4ms/step - loss: 0.5991 - accuracy: 0.6785 - val_loss: 0.5990 - val_accuracy: 0.6839\n",
            "Epoch 252/300\n",
            "104/104 [==============================] - 0s 4ms/step - loss: 0.5991 - accuracy: 0.6781 - val_loss: 0.6004 - val_accuracy: 0.6839\n",
            "Epoch 253/300\n",
            "104/104 [==============================] - 0s 4ms/step - loss: 0.5991 - accuracy: 0.6785 - val_loss: 0.5992 - val_accuracy: 0.6839\n",
            "Epoch 254/300\n",
            "104/104 [==============================] - 0s 4ms/step - loss: 0.5991 - accuracy: 0.6785 - val_loss: 0.5993 - val_accuracy: 0.6839\n",
            "Epoch 255/300\n",
            "104/104 [==============================] - 0s 4ms/step - loss: 0.5990 - accuracy: 0.6785 - val_loss: 0.5996 - val_accuracy: 0.6839\n",
            "Epoch 256/300\n",
            "104/104 [==============================] - 0s 4ms/step - loss: 0.5991 - accuracy: 0.6785 - val_loss: 0.5993 - val_accuracy: 0.6839\n",
            "Epoch 257/300\n",
            "104/104 [==============================] - 0s 4ms/step - loss: 0.5990 - accuracy: 0.6785 - val_loss: 0.5999 - val_accuracy: 0.6839\n",
            "Epoch 258/300\n",
            "104/104 [==============================] - 1s 5ms/step - loss: 0.5991 - accuracy: 0.6785 - val_loss: 0.5993 - val_accuracy: 0.6839\n",
            "Epoch 259/300\n",
            "104/104 [==============================] - 1s 6ms/step - loss: 0.5993 - accuracy: 0.6767 - val_loss: 0.5991 - val_accuracy: 0.6839\n",
            "Epoch 260/300\n",
            "104/104 [==============================] - 1s 5ms/step - loss: 0.5991 - accuracy: 0.6785 - val_loss: 0.5991 - val_accuracy: 0.6839\n",
            "Epoch 261/300\n",
            "104/104 [==============================] - 1s 6ms/step - loss: 0.5991 - accuracy: 0.6785 - val_loss: 0.5994 - val_accuracy: 0.6839\n",
            "Epoch 262/300\n",
            "104/104 [==============================] - 1s 6ms/step - loss: 0.5991 - accuracy: 0.6770 - val_loss: 0.5991 - val_accuracy: 0.6839\n",
            "Epoch 263/300\n",
            "104/104 [==============================] - 1s 5ms/step - loss: 0.5990 - accuracy: 0.6785 - val_loss: 0.5994 - val_accuracy: 0.6839\n",
            "Epoch 264/300\n",
            "104/104 [==============================] - 1s 6ms/step - loss: 0.5990 - accuracy: 0.6785 - val_loss: 0.5991 - val_accuracy: 0.6839\n",
            "Epoch 265/300\n",
            "104/104 [==============================] - 0s 4ms/step - loss: 0.5992 - accuracy: 0.6785 - val_loss: 0.5997 - val_accuracy: 0.6839\n",
            "Epoch 266/300\n",
            "104/104 [==============================] - 0s 4ms/step - loss: 0.5991 - accuracy: 0.6785 - val_loss: 0.6001 - val_accuracy: 0.6839\n",
            "Epoch 267/300\n",
            "104/104 [==============================] - 0s 4ms/step - loss: 0.5991 - accuracy: 0.6785 - val_loss: 0.5992 - val_accuracy: 0.6839\n",
            "Epoch 268/300\n",
            "104/104 [==============================] - 0s 4ms/step - loss: 0.5992 - accuracy: 0.6785 - val_loss: 0.5990 - val_accuracy: 0.6839\n",
            "Epoch 269/300\n",
            "104/104 [==============================] - 0s 4ms/step - loss: 0.5991 - accuracy: 0.6785 - val_loss: 0.5990 - val_accuracy: 0.6839\n",
            "Epoch 270/300\n",
            "104/104 [==============================] - 0s 4ms/step - loss: 0.5990 - accuracy: 0.6785 - val_loss: 0.5992 - val_accuracy: 0.6839\n",
            "Epoch 271/300\n",
            "104/104 [==============================] - 0s 4ms/step - loss: 0.5991 - accuracy: 0.6785 - val_loss: 0.5993 - val_accuracy: 0.6839\n",
            "Epoch 272/300\n",
            "104/104 [==============================] - 0s 4ms/step - loss: 0.5990 - accuracy: 0.6785 - val_loss: 0.6008 - val_accuracy: 0.6579\n",
            "Epoch 273/300\n",
            "104/104 [==============================] - 0s 4ms/step - loss: 0.5992 - accuracy: 0.6784 - val_loss: 0.5992 - val_accuracy: 0.6839\n",
            "Epoch 274/300\n",
            "104/104 [==============================] - 0s 4ms/step - loss: 0.5991 - accuracy: 0.6775 - val_loss: 0.5995 - val_accuracy: 0.6839\n",
            "Epoch 275/300\n",
            "104/104 [==============================] - 0s 4ms/step - loss: 0.5992 - accuracy: 0.6785 - val_loss: 0.6001 - val_accuracy: 0.6839\n",
            "Epoch 276/300\n",
            "104/104 [==============================] - 0s 4ms/step - loss: 0.5990 - accuracy: 0.6785 - val_loss: 0.5990 - val_accuracy: 0.6839\n",
            "Epoch 277/300\n",
            "104/104 [==============================] - 0s 4ms/step - loss: 0.5992 - accuracy: 0.6775 - val_loss: 0.5995 - val_accuracy: 0.6839\n",
            "Epoch 278/300\n",
            "104/104 [==============================] - 0s 5ms/step - loss: 0.5991 - accuracy: 0.6785 - val_loss: 0.5990 - val_accuracy: 0.6839\n",
            "Epoch 279/300\n",
            "104/104 [==============================] - 0s 4ms/step - loss: 0.5993 - accuracy: 0.6785 - val_loss: 0.5990 - val_accuracy: 0.6839\n",
            "Epoch 280/300\n",
            "104/104 [==============================] - 0s 4ms/step - loss: 0.5991 - accuracy: 0.6776 - val_loss: 0.5993 - val_accuracy: 0.6839\n",
            "Epoch 281/300\n",
            "104/104 [==============================] - 0s 4ms/step - loss: 0.5990 - accuracy: 0.6785 - val_loss: 0.5996 - val_accuracy: 0.6839\n",
            "Epoch 282/300\n",
            "104/104 [==============================] - 0s 4ms/step - loss: 0.5990 - accuracy: 0.6785 - val_loss: 0.5995 - val_accuracy: 0.6839\n",
            "Epoch 283/300\n",
            "104/104 [==============================] - 0s 4ms/step - loss: 0.5991 - accuracy: 0.6785 - val_loss: 0.5993 - val_accuracy: 0.6839\n",
            "Epoch 284/300\n",
            "104/104 [==============================] - 0s 4ms/step - loss: 0.5991 - accuracy: 0.6785 - val_loss: 0.6004 - val_accuracy: 0.6839\n",
            "Epoch 285/300\n",
            "104/104 [==============================] - 0s 4ms/step - loss: 0.5991 - accuracy: 0.6785 - val_loss: 0.5992 - val_accuracy: 0.6839\n",
            "Epoch 286/300\n",
            "104/104 [==============================] - 0s 5ms/step - loss: 0.5991 - accuracy: 0.6785 - val_loss: 0.5994 - val_accuracy: 0.6839\n",
            "Epoch 287/300\n",
            "104/104 [==============================] - 1s 5ms/step - loss: 0.5990 - accuracy: 0.6777 - val_loss: 0.5998 - val_accuracy: 0.6839\n",
            "Epoch 288/300\n",
            "104/104 [==============================] - 1s 5ms/step - loss: 0.5993 - accuracy: 0.6776 - val_loss: 0.5993 - val_accuracy: 0.6839\n",
            "Epoch 289/300\n",
            "104/104 [==============================] - 1s 6ms/step - loss: 0.5992 - accuracy: 0.6785 - val_loss: 0.5991 - val_accuracy: 0.6839\n",
            "Epoch 290/300\n",
            "104/104 [==============================] - 1s 6ms/step - loss: 0.5992 - accuracy: 0.6785 - val_loss: 0.5994 - val_accuracy: 0.6839\n",
            "Epoch 291/300\n",
            "104/104 [==============================] - 1s 6ms/step - loss: 0.5991 - accuracy: 0.6785 - val_loss: 0.5990 - val_accuracy: 0.6839\n",
            "Epoch 292/300\n",
            "104/104 [==============================] - 1s 6ms/step - loss: 0.5990 - accuracy: 0.6785 - val_loss: 0.5990 - val_accuracy: 0.6839\n",
            "Epoch 293/300\n",
            "104/104 [==============================] - 0s 5ms/step - loss: 0.5992 - accuracy: 0.6785 - val_loss: 0.5995 - val_accuracy: 0.6839\n",
            "Epoch 294/300\n",
            "104/104 [==============================] - 0s 4ms/step - loss: 0.5991 - accuracy: 0.6785 - val_loss: 0.6001 - val_accuracy: 0.6839\n",
            "Epoch 295/300\n",
            "104/104 [==============================] - 0s 4ms/step - loss: 0.5991 - accuracy: 0.6785 - val_loss: 0.5992 - val_accuracy: 0.6839\n",
            "Epoch 296/300\n",
            "104/104 [==============================] - 0s 4ms/step - loss: 0.5992 - accuracy: 0.6785 - val_loss: 0.5990 - val_accuracy: 0.6839\n",
            "Epoch 297/300\n",
            "104/104 [==============================] - 0s 4ms/step - loss: 0.5993 - accuracy: 0.6785 - val_loss: 0.5990 - val_accuracy: 0.6839\n",
            "Epoch 298/300\n",
            "104/104 [==============================] - 0s 4ms/step - loss: 0.5991 - accuracy: 0.6776 - val_loss: 0.5990 - val_accuracy: 0.6839\n",
            "Epoch 299/300\n",
            "104/104 [==============================] - 0s 4ms/step - loss: 0.5994 - accuracy: 0.6775 - val_loss: 0.5990 - val_accuracy: 0.6839\n",
            "Epoch 300/300\n",
            "104/104 [==============================] - 0s 4ms/step - loss: 0.5992 - accuracy: 0.6785 - val_loss: 0.5992 - val_accuracy: 0.6839\n"
          ]
        }
      ],
      "source": [
        "if model_selection[model_flag]==\"ALL\" or model_selection[model_flag] == \"AE\":\n",
        "  # training the model on training dataset\n",
        "  his = ae_classifier.fit(predictions, y_test, epochs=300,batch_size=500, validation_split=0.2).history"
      ]
    },
    {
      "cell_type": "code",
      "execution_count": null,
      "metadata": {
        "id": "yeNS7pLUNYBz"
      },
      "outputs": [],
      "source": [
        "if model_selection[model_flag]==\"ALL\" or model_selection[model_flag] == \"AE\":\n",
        "  filepath = '/content/drive/MyDrive/Colab_Notebooks/Models/ae_classifier_binary_unsw_nb15.json'\n",
        "  weightspath = '/content/drive/MyDrive/Colab_Notebooks/Weights/ae_classifier_binary_unsw_nb15.h5'\n",
        "  if (not path.isfile(filepath)): \n",
        "    # serialize model to JSON\n",
        "    ae_classifier_json = ae_classifier.to_json()\n",
        "    with open(filepath, \"w\") as json_file:\n",
        "      json_file.write(ae_classifier_json)\n",
        "\n",
        "    # serialize weights to HDF5\n",
        "    ae_classifier.save_weights(weightspath)\n",
        "    print(\"Saved model to disk\")\n",
        "\n",
        "    # load json and create model\n",
        "    json_file = open(filepath, 'r')\n",
        "    loaded_model_json = json_file.read()\n",
        "    json_file.close()\n",
        "    ae_classifier = model_from_json(loaded_model_json)\n",
        "\n",
        "    # load weights into new model\n",
        "    ae_classifier.load_weights(weightspath)\n",
        "    print(\"Loaded model from disk\")"
      ]
    },
    {
      "cell_type": "code",
      "execution_count": null,
      "metadata": {
        "id": "AG42bV79NYFB"
      },
      "outputs": [],
      "source": [
        "if model_selection[model_flag]==\"ALL\" or model_selection[model_flag] == \"AE\":\n",
        "  ae_classifier.compile(optimizer='adam', loss='binary_crossentropy',metrics=['accuracy'])"
      ]
    },
    {
      "cell_type": "code",
      "execution_count": null,
      "metadata": {
        "id": "13aKBGJcNYHv",
        "colab": {
          "base_uri": "https://localhost:8080/"
        },
        "outputId": "0e032365-4dab-43c5-cef3-a388d0fc63be"
      },
      "outputs": [
        {
          "output_type": "stream",
          "name": "stdout",
          "text": [
            "2014/2014 [==============================] - 5s 2ms/step - loss: 0.6485 - accuracy: 0.6293\n",
            "Test results - Loss: 0.6485450267791748 - Accuracy: 62.925535440444946%\n"
          ]
        }
      ],
      "source": [
        "if model_selection[model_flag]==\"ALL\" or model_selection[model_flag] == \"AE\":\n",
        "  # predicting target attribute on testing dataset\n",
        "  test_results = ae_classifier.evaluate(X_test, y_test, verbose=1)\n",
        "  print(f'Test results - Loss: {test_results[0]} - Accuracy: {test_results[1]*100}%')"
      ]
    },
    {
      "cell_type": "code",
      "execution_count": null,
      "metadata": {
        "id": "zCWbOaSyN1dH"
      },
      "outputs": [],
      "source": [
        "if model_selection[model_flag]==\"ALL\" or model_selection[model_flag] == \"AE\":\n",
        "  # representation of model layers\n",
        "  plot_model(ae_classifier, to_file='/content/drive/MyDrive/Colab_Notebooks/Plots/ae_classifier_binary.png', show_shapes=True)"
      ]
    },
    {
      "cell_type": "code",
      "execution_count": null,
      "metadata": {
        "id": "44VaFGgVOBpU",
        "colab": {
          "base_uri": "https://localhost:8080/",
          "height": 472
        },
        "outputId": "41355cb5-e5d8-4aab-a302-5ccb5ff28f56"
      },
      "outputs": [
        {
          "output_type": "display_data",
          "data": {
            "text/plain": [
              "<Figure size 640x480 with 1 Axes>"
            ],
            "image/png": "[encoded data removed]"
          },
          "metadata": {}
        }
      ],
      "source": [
        "if model_selection[model_flag]==\"ALL\" or model_selection[model_flag] == \"AE\":\n",
        "  # Plot of loss vs epoch of train and test dataset\n",
        "  plt.plot(his['loss'])\n",
        "  plt.plot(his['val_loss'])\n",
        "  plt.title(\"Plot of loss vs epoch for train and test dataset\")\n",
        "  plt.ylabel('loss')\n",
        "  plt.xlabel('epoch')\n",
        "  plt.legend(['train', 'test'], loc='upper right')\n",
        "  plt.savefig('/content/drive/MyDrive/Colab_Notebooks/Plots/ae_classifier_binary_loss.png')\n",
        "  plt.show()"
      ]
    },
    {
      "cell_type": "code",
      "execution_count": null,
      "metadata": {
        "id": "Am0UB82rOIo1",
        "colab": {
          "base_uri": "https://localhost:8080/",
          "height": 472
        },
        "outputId": "5d109037-8058-4b2b-a84d-2a53c69df567"
      },
      "outputs": [
        {
          "output_type": "display_data",
          "data": {
            "text/plain": [
              "<Figure size 640x480 with 1 Axes>"
            ],
            "image/png": "[encoded data removed]"
          },
          "metadata": {}
        }
      ],
      "source": [
        "if model_selection[model_flag]==\"ALL\" or model_selection[model_flag] == \"AE\":\n",
        "  # Plot of accuracy vs epoch of train and test dataset\n",
        "  plt.plot(his['accuracy'])\n",
        "  plt.plot(his['val_accuracy'])\n",
        "  plt.title(\"Plot of accuracy vs epoch for train and test dataset\")\n",
        "  plt.ylabel('accuracy')\n",
        "  plt.xlabel('epoch')\n",
        "  plt.legend(['train', 'test'], loc='best')\n",
        "  plt.savefig('/content/drive/MyDrive/Colab_Notebooks/Plots/ae_classifier_binary_accuracy.png')\n",
        "  plt.show()"
      ]
    },
    {
      "cell_type": "code",
      "execution_count": null,
      "metadata": {
        "id": "f5OZTlm0OMoW",
        "colab": {
          "base_uri": "https://localhost:8080/"
        },
        "outputId": "0feabb94-d7f6-4d24-f49d-4fe4e054f56e"
      },
      "outputs": [
        {
          "output_type": "stream",
          "name": "stdout",
          "text": [
            "2014/2014 [==============================] - 3s 2ms/step\n"
          ]
        }
      ],
      "source": [
        "if model_selection[model_flag]==\"ALL\" or model_selection[model_flag] == \"AE\":\n",
        "  y_pred = ae_classifier.predict(X_test).ravel()\n",
        "  fpr, tpr, thresholds = roc_curve(y_test, y_pred)\n",
        "  #auc = auc(fpr, tpr)"
      ]
    },
    {
      "cell_type": "code",
      "execution_count": null,
      "metadata": {
        "id": "GbSkwfO2OTkn",
        "colab": {
          "base_uri": "https://localhost:8080/",
          "height": 510
        },
        "outputId": "ab8b17e5-d711-462f-8c65-1eefd0c78ead"
      },
      "outputs": [
        {
          "output_type": "stream",
          "name": "stderr",
          "text": [
            "WARNING:matplotlib.legend:No artists with labels found to put in legend.  Note that artists whose label start with an underscore are ignored when legend() is called with no argument.\n"
          ]
        },
        {
          "output_type": "display_data",
          "data": {
            "text/plain": [
              "<Figure size 640x480 with 1 Axes>"
            ],
            "image/png": "[encoded data removed]"
          },
          "metadata": {}
        }
      ],
      "source": [
        "if model_selection[model_flag]==\"ALL\" or model_selection[model_flag] == \"AE\":\n",
        "  plt.plot([0, 1], [0, 1], 'k--')\n",
        "  #plt.plot(fpr, tpr, label='Keras (area = {:.3f})'.format(auc))\n",
        "  plt.plot(fpr, tpr)\n",
        "  plt.xlabel('False positive rate')\n",
        "  plt.ylabel('True positive rate')\n",
        "  plt.title('ROC curve')\n",
        "  plt.legend(loc='best')\n",
        "  plt.savefig('/content/drive/MyDrive/Colab_Notebooks/Plots/ae_binary_roc.png')\n",
        "  plt.show()"
      ]
    },
    {
      "cell_type": "code",
      "execution_count": null,
      "metadata": {
        "id": "n7Xl74UXOZxm",
        "colab": {
          "base_uri": "https://localhost:8080/"
        },
        "outputId": "9a69a644-c759-4f6b-f041-747cfecdb575"
      },
      "outputs": [
        {
          "output_type": "stream",
          "name": "stdout",
          "text": [
            "2014/2014 [==============================] - 3s 1ms/step\n",
            "2014/2014 [==============================] - 4s 2ms/step\n"
          ]
        }
      ],
      "source": [
        "if model_selection[model_flag]==\"ALL\" or model_selection[model_flag] == \"AE\":\n",
        "  pred = ae_classifier.predict(X_test)\n",
        "  y_classes = (ae_classifier.predict(X_test)>0.5).astype('int32')"
      ]
    },
    {
      "cell_type": "code",
      "execution_count": null,
      "metadata": {
        "id": "WA_g3UlXOZ71",
        "colab": {
          "base_uri": "https://localhost:8080/"
        },
        "outputId": "8ea54151-7b02-48f2-8b01-c0215f5ec2f3"
      },
      "outputs": [
        {
          "output_type": "stream",
          "name": "stdout",
          "text": [
            "Recall Score -  0.9686224985428404\n",
            "F1 Score -  0.769582541413011\n",
            "Precision Score -  0.6383993597438976\n"
          ]
        }
      ],
      "source": [
        "if model_selection[model_flag]==\"ALL\" or model_selection[model_flag] == \"AE\":\n",
        "  print(\"Recall Score - \",recall_score(y_test,y_classes))\n",
        "  print(\"F1 Score - \",f1_score(y_test,y_classes))\n",
        "  print(\"Precision Score - \",precision_score(y_test,y_classes))"
      ]
    },
    {
      "cell_type": "code",
      "source": [
        "print(classification_report(y_test, y_classes, target_names=['0', '1']))\n",
        "cm = confusion_matrix(y_test, y_classes)\n",
        "disp = ConfusionMatrixDisplay(confusion_matrix=cm,\n",
        "                              display_labels=['0', '1'])\n",
        "disp.plot()\n",
        "\n",
        "plt.show()"
      ],
      "metadata": {
        "colab": {
          "base_uri": "https://localhost:8080/",
          "height": 610
        },
        "id": "UgHHdx0qoryj",
        "outputId": "3a6efdf4-ab86-4b58-fb68-fb26eced1690"
      },
      "execution_count": null,
      "outputs": [
        {
          "output_type": "stream",
          "name": "stdout",
          "text": [
            "              precision    recall  f1-score   support\n",
            "\n",
            "           0       0.34      0.03      0.05     23243\n",
            "           1       0.64      0.97      0.77     41176\n",
            "\n",
            "    accuracy                           0.63     64419\n",
            "   macro avg       0.49      0.50      0.41     64419\n",
            "weighted avg       0.53      0.63      0.51     64419\n",
            "\n"
          ]
        },
        {
          "output_type": "display_data",
          "data": {
            "text/plain": [
              "<Figure size 640x480 with 2 Axes>"
            ],
            "image/png": "[encoded data removed]"
          },
          "metadata": {}
        }
      ]
    }
  ],
  "metadata": {
    "colab": {
      "provenance": [],
      "include_colab_link": true
    },
    "gpuClass": "standard",
    "kernelspec": {
      "display_name": "Python 3",
      "name": "python3"
    },
    "language_info": {
      "name": "python"
    },
    "accelerator": "GPU"
  },
  "nbformat": 4,
  "nbformat_minor": 0
}